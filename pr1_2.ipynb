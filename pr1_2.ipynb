{
 "cells": [
  {
   "metadata": {
    "ExecuteTime": {
     "end_time": "2025-09-25T09:56:11.816732Z",
     "start_time": "2025-09-25T09:56:11.813493Z"
    }
   },
   "cell_type": "code",
   "source": [
    "import time\n",
    "\n",
    "import pandas as pd\n",
    "from matplotlib import pyplot as plt\n",
    "from PyARMViz import *\n",
    "from apriori_python import apriori\n",
    "from efficient_apriori import apriori as efficient_apriori\n",
    "from fpgrowth_py import fpgrowth"
   ],
   "id": "dc06ec97e76843bf",
   "outputs": [],
   "execution_count": 30
  },
  {
   "metadata": {
    "ExecuteTime": {
     "end_time": "2025-09-25T09:56:12.115003Z",
     "start_time": "2025-09-25T09:56:11.823953Z"
    }
   },
   "cell_type": "code",
   "source": [
    "df = pd.read_csv('data/BreadBasket_DMS.csv')\n",
    "transactions = df.groupby('Transaction')['Item'].apply(list).tolist()"
   ],
   "id": "3e61c2a81b4a6ce1",
   "outputs": [],
   "execution_count": 31
  },
  {
   "metadata": {
    "ExecuteTime": {
     "end_time": "2025-09-25T09:56:12.129687Z",
     "start_time": "2025-09-25T09:56:12.126427Z"
    }
   },
   "cell_type": "code",
   "source": [
    "n_trans = len(transactions)\n",
    "times = {}\n",
    "min_sup = 0.001"
   ],
   "id": "71010ee05eadd255",
   "outputs": [],
   "execution_count": 32
  },
  {
   "metadata": {},
   "cell_type": "markdown",
   "source": "apriori",
   "id": "3de46b4618ab0932"
  },
  {
   "metadata": {
    "ExecuteTime": {
     "end_time": "2025-09-25T09:56:12.150562Z",
     "start_time": "2025-09-25T09:56:12.133656Z"
    }
   },
   "cell_type": "code",
   "source": [
    "def output_apriori(rules):\n",
    "    rules_pyarmviz = []\n",
    "    for i, (antecedent, consequent, confidence) in enumerate(rules):\n",
    "        ant = frozenset(antecedent)\n",
    "        cons = frozenset(consequent)\n",
    "        union = ant | cons\n",
    "\n",
    "        count_ab = sum(1 for t in transactions if union.issubset(t))\n",
    "        count_a = sum(1 for t in transactions if ant.issubset(t))\n",
    "        count_b = sum(1 for t in transactions if cons.issubset(t))\n",
    "\n",
    "        support_ab = count_ab / n_trans\n",
    "        support_a = count_a / n_trans\n",
    "        support_b = count_b / n_trans\n",
    "\n",
    "        lift = support_ab / (support_a * support_b) if support_a * support_b else 0.0\n",
    "\n",
    "        # Вывод в консоль\n",
    "        print(f\"{i}: {antecedent} -> {consequent}\"\n",
    "              f\"Support = {support_ab:.3f} Confidence = {confidence:.3f} Lift = {lift:.3f}\")\n",
    "\n",
    "        rules_pyarmviz.append(\n",
    "            PyARMViz.Rule.Rule(\n",
    "                lhs=[', '.join(set(antecedent))],\n",
    "                rhs=[', '.join(set(consequent))],\n",
    "                count_full=count_ab,\n",
    "                count_lhs=count_a,\n",
    "                count_rhs=count_b,\n",
    "                num_transactions=n_trans\n",
    "            )\n",
    "        )\n",
    "\n",
    "    PyARMViz.metadata_scatter_plot(rules_pyarmviz)\n",
    "    PyARMViz.adjacency_graph_plotly(rules_pyarmviz)\n",
    "    # PyARMViz.adjacency_parallel_coordinate_plot(rules_pyarmviz)\n",
    "    # PyARMViz.adjacency_parallel_category_plot(rules_pyarmviz)"
   ],
   "id": "81ee5cfc3b2b21",
   "outputs": [],
   "execution_count": 33
  },
  {
   "metadata": {
    "ExecuteTime": {
     "end_time": "2025-09-25T09:56:17.013115Z",
     "start_time": "2025-09-25T09:56:12.158018Z"
    }
   },
   "cell_type": "code",
   "source": [
    "start = time.time()\n",
    "freqItemSet, rules = apriori(transactions, minSup=min_sup, minConf=0.6)\n",
    "times['apriori'] = time.time() - start\n",
    "output_apriori(rules)"
   ],
   "id": "11ec5fbe01c25c59",
   "outputs": [
    {
     "name": "stdout",
     "output_type": "stream",
     "text": [
      "0: {'Cake', 'Hot chocolate'} -> {'Coffee'}Support = 0.007 Confidence = 0.602 Lift = 1.267\n",
      "1: {'Cookies', 'Juice'} -> {'Coffee'}Support = 0.004 Confidence = 0.603 Lift = 1.270\n",
      "2: {'Bakewell'} -> {'Coffee'}Support = 0.003 Confidence = 0.604 Lift = 1.272\n",
      "3: {'Granola'} -> {'Coffee'}Support = 0.002 Confidence = 0.607 Lift = 1.278\n",
      "4: {'Scone', 'Hot chocolate'} -> {'Coffee'}Support = 0.002 Confidence = 0.607 Lift = 1.278\n",
      "5: {'Cookies', 'Pastry'} -> {'Coffee'}Support = 0.002 Confidence = 0.607 Lift = 1.278\n",
      "6: {'NONE', 'Brownie'} -> {'Coffee'}Support = 0.001 Confidence = 0.609 Lift = 1.281\n",
      "7: {'Medialuna', 'Toast'} -> {'Coffee'}Support = 0.001 Confidence = 0.611 Lift = 1.286\n",
      "8: {'NONE', 'Alfajores'} -> {'Coffee'}Support = 0.001 Confidence = 0.611 Lift = 1.286\n",
      "9: {'Cookies', 'Hot chocolate'} -> {'Coffee'}Support = 0.004 Confidence = 0.614 Lift = 1.292\n",
      "10: {'Muffin', 'NONE'} -> {'Coffee'}Support = 0.001 Confidence = 0.619 Lift = 1.303\n",
      "11: {'NONE', 'Hot chocolate'} -> {'Coffee'}Support = 0.004 Confidence = 0.621 Lift = 1.306\n",
      "12: {'Soup', 'NONE'} -> {'Coffee'}Support = 0.001 Confidence = 0.625 Lift = 1.316\n",
      "13: {'Cookies', 'Brownie'} -> {'Coffee'}Support = 0.002 Confidence = 0.625 Lift = 1.316\n",
      "14: {'Salad'} -> {'Coffee'}Support = 0.007 Confidence = 0.626 Lift = 1.318\n",
      "15: {'Tartine'} -> {'Coffee'}Support = 0.003 Confidence = 0.630 Lift = 1.327\n",
      "16: {'Scone', 'Juice'} -> {'Coffee'}Support = 0.001 Confidence = 0.632 Lift = 1.329\n",
      "17: {'Pastry', 'NONE'} -> {'Coffee'}Support = 0.003 Confidence = 0.636 Lift = 1.339\n",
      "18: {'Sandwich', 'Brownie'} -> {'Coffee'}Support = 0.001 Confidence = 0.636 Lift = 1.339\n",
      "19: {'Hot chocolate', 'Medialuna'} -> {'Coffee'}Support = 0.003 Confidence = 0.644 Lift = 1.356\n",
      "20: {'Tea', 'Keeping It Local'} -> {'Coffee'}Support = 0.001 Confidence = 0.647 Lift = 1.362\n",
      "21: {'Juice', 'Jammie Dodgers'} -> {'Coffee'}Support = 0.001 Confidence = 0.650 Lift = 1.368\n",
      "22: {'Sandwich', 'Medialuna'} -> {'Coffee'}Support = 0.001 Confidence = 0.650 Lift = 1.368\n",
      "23: {'Muffin', 'Sandwich'} -> {'Coffee'}Support = 0.001 Confidence = 0.650 Lift = 1.368\n",
      "24: {'Cookies', 'Alfajores'} -> {'Coffee'}Support = 0.002 Confidence = 0.652 Lift = 1.373\n",
      "25: {'Soup', 'Sandwich'} -> {'Coffee'}Support = 0.004 Confidence = 0.654 Lift = 1.376\n",
      "26: {'Juice', 'NONE'} -> {'Coffee'}Support = 0.004 Confidence = 0.661 Lift = 1.391\n",
      "27: {'Sandwich', 'Spanish Brunch'} -> {'Coffee'}Support = 0.001 Confidence = 0.667 Lift = 1.403\n",
      "28: {'Cookies', 'Medialuna'} -> {'Coffee'}Support = 0.002 Confidence = 0.667 Lift = 1.403\n",
      "29: {'Smoothies', 'Cake'} -> {'Coffee'}Support = 0.001 Confidence = 0.667 Lift = 1.403\n",
      "30: {'NONE', 'Cake'} -> {'Coffee'}Support = 0.003 Confidence = 0.667 Lift = 1.403\n",
      "31: {'Pastry', 'Hot chocolate'} -> {'Coffee'}Support = 0.004 Confidence = 0.667 Lift = 1.403\n",
      "32: {'Pastry', 'Bread', 'Hot chocolate'} -> {'Coffee'}Support = 0.001 Confidence = 0.667 Lift = 1.403\n",
      "33: {'NONE', 'Spanish Brunch'} -> {'Coffee'}Support = 0.002 Confidence = 0.676 Lift = 1.424\n",
      "34: {'Cake', 'Sandwich'} -> {'Coffee'}Support = 0.005 Confidence = 0.677 Lift = 1.425\n",
      "35: {'Tiffin', 'Cake'} -> {'Coffee'}Support = 0.002 Confidence = 0.682 Lift = 1.435\n",
      "36: {'Juice', 'Toast'} -> {'Coffee'}Support = 0.002 Confidence = 0.682 Lift = 1.435\n",
      "37: {'Art Tray'} -> {'Coffee'}Support = 0.003 Confidence = 0.684 Lift = 1.440\n",
      "38: {'NONE', 'Medialuna'} -> {'Coffee'}Support = 0.003 Confidence = 0.684 Lift = 1.440\n",
      "39: {'Cake', 'Medialuna'} -> {'Coffee'}Support = 0.003 Confidence = 0.686 Lift = 1.443\n",
      "40: {'Toast'} -> {'Coffee'}Support = 0.024 Confidence = 0.704 Lift = 1.483\n",
      "41: {'Cake', 'Toast'} -> {'Coffee'}Support = 0.002 Confidence = 0.714 Lift = 1.504\n",
      "42: {'Cake', 'Sandwich', 'Tea'} -> {'Coffee'}Support = 0.001 Confidence = 0.714 Lift = 1.504\n",
      "43: {'Juice', 'Spanish Brunch'} -> {'Coffee'}Support = 0.002 Confidence = 0.731 Lift = 1.538\n",
      "44: {'Cookies', 'NONE'} -> {'Coffee'}Support = 0.002 Confidence = 0.741 Lift = 1.559\n",
      "45: {'NONE', 'Toast'} -> {'Coffee'}Support = 0.003 Confidence = 0.750 Lift = 1.579\n",
      "46: {'NONE', 'Extra Salami or Feta'} -> {'Coffee'}Support = 0.001 Confidence = 0.765 Lift = 1.610\n",
      "47: {'Salad', 'Cake'} -> {'Coffee'}Support = 0.001 Confidence = 0.769 Lift = 1.619\n",
      "48: {'Juice', 'Pastry'} -> {'Coffee'}Support = 0.002 Confidence = 0.773 Lift = 1.627\n",
      "49: {'Cookies', 'Scone'} -> {'Coffee'}Support = 0.002 Confidence = 0.789 Lift = 1.662\n",
      "50: {'Keeping It Local'} -> {'Coffee'}Support = 0.005 Confidence = 0.810 Lift = 1.704\n",
      "51: {'Extra Salami or Feta'} -> {'Coffee'}Support = 0.003 Confidence = 0.816 Lift = 1.717\n",
      "52: {'Salad', 'Sandwich'} -> {'Coffee'}Support = 0.002 Confidence = 0.833 Lift = 1.754\n",
      "53: {'Vegan mincepie', 'Cake'} -> {'Coffee'}Support = 0.001 Confidence = 0.833 Lift = 1.754\n",
      "54: {'Scone', 'NONE'} -> {'Coffee'}Support = 0.002 Confidence = 0.833 Lift = 1.754\n",
      "55: {'Sandwich', 'Hearty & Seasonal'} -> {'Coffee'}Support = 0.001 Confidence = 0.857 Lift = 1.804\n",
      "56: {'Pastry', 'Toast'} -> {'Coffee'}Support = 0.001 Confidence = 0.867 Lift = 1.824\n",
      "57: {'Salad', 'Extra Salami or Feta'} -> {'Coffee'}Support = 0.001 Confidence = 0.875 Lift = 1.842\n",
      "58: {'Medialuna', 'NONE', 'Hot chocolate'} -> {'Coffee'}Support = 0.001 Confidence = 0.909 Lift = 1.914\n",
      "59: {'Tartine', 'NONE'} -> {'Coffee'}Support = 0.001 Confidence = 0.923 Lift = 1.943\n"
     ]
    },
    {
     "data": {
      "application/vnd.plotly.v1+json": {
       "data": [
        {
         "marker": {
          "color": [
           1.266839664310954,
           1.2701999817229195,
           1.2717121245583036,
           1.2779767163048965,
           1.2779767163048965,
           1.2779767163048965,
           1.2812451989552927,
           1.2863295053003534,
           1.2863295053003534,
           1.2924841919285848,
           1.3030350832912672,
           1.3064914097721458,
           1.3155642667844525,
           1.315564266784452,
           1.3182219723739157,
           1.3270039560608387,
           1.3294123116979728,
           1.3394836170896243,
           1.3394836170896243,
           1.3564929328621906,
           1.3619959467886094,
           1.3681868374558304,
           1.3681868374558304,
           1.3681868374558304,
           1.3727627131663849,
           1.3762826175591194,
           1.391376444870336,
           1.403268551236749,
           1.403268551236749,
           1.4032685512367493,
           1.403268551236749,
           1.403268551236749,
           1.4032685512367493,
           1.423904853460819,
           1.424857298178853,
           1.4351610183103116,
           1.4351610183103116,
           1.4401966710061374,
           1.4401966710061374,
           1.4433619384149419,
           1.4826988465897728,
           1.5035020191822313,
           1.5035020191822313,
           1.5381982196248982,
           1.5591872791519437,
           1.578677120141343,
           1.6096315734774476,
           1.6191560206577875,
           1.6265158207516865,
           1.661765389622466,
           1.7039689550731953,
           1.7171575692765482,
           1.7540856890459364,
           1.7540856890459364,
           1.7540856890459364,
           1.8042024230186773,
           1.824249116607774,
           1.8417899734982335,
           1.913548024413749,
           1.942987224789345
          ],
          "colorbar": {
           "title": {
            "text": "Lift"
           }
          },
          "colorscale": [
           [
            0.0,
            "rgb(243, 224, 247)"
           ],
           [
            0.16666666666666666,
            "rgb(228, 199, 241)"
           ],
           [
            0.3333333333333333,
            "rgb(209, 175, 232)"
           ],
           [
            0.5,
            "rgb(185, 152, 221)"
           ],
           [
            0.6666666666666666,
            "rgb(159, 130, 206)"
           ],
           [
            0.8333333333333334,
            "rgb(130, 109, 186)"
           ],
           [
            1.0,
            "rgb(99, 88, 159)"
           ]
          ]
         },
         "mode": "markers",
         "text": [
          "['Cake, Hot chocolate'] => ['Coffee'], Lift: 1.266839664310954",
          "['Cookies, Juice'] => ['Coffee'], Lift: 1.2701999817229195",
          "['Bakewell'] => ['Coffee'], Lift: 1.2717121245583036",
          "['Granola'] => ['Coffee'], Lift: 1.2779767163048965",
          "['Scone, Hot chocolate'] => ['Coffee'], Lift: 1.2779767163048965",
          "['Cookies, Pastry'] => ['Coffee'], Lift: 1.2779767163048965",
          "['NONE, Brownie'] => ['Coffee'], Lift: 1.2812451989552927",
          "['Medialuna, Toast'] => ['Coffee'], Lift: 1.2863295053003534",
          "['NONE, Alfajores'] => ['Coffee'], Lift: 1.2863295053003534",
          "['Cookies, Hot chocolate'] => ['Coffee'], Lift: 1.2924841919285848",
          "['Muffin, NONE'] => ['Coffee'], Lift: 1.3030350832912672",
          "['NONE, Hot chocolate'] => ['Coffee'], Lift: 1.3064914097721458",
          "['Soup, NONE'] => ['Coffee'], Lift: 1.3155642667844525",
          "['Cookies, Brownie'] => ['Coffee'], Lift: 1.315564266784452",
          "['Salad'] => ['Coffee'], Lift: 1.3182219723739157",
          "['Tartine'] => ['Coffee'], Lift: 1.3270039560608387",
          "['Scone, Juice'] => ['Coffee'], Lift: 1.3294123116979728",
          "['Pastry, NONE'] => ['Coffee'], Lift: 1.3394836170896243",
          "['Sandwich, Brownie'] => ['Coffee'], Lift: 1.3394836170896243",
          "['Hot chocolate, Medialuna'] => ['Coffee'], Lift: 1.3564929328621906",
          "['Tea, Keeping It Local'] => ['Coffee'], Lift: 1.3619959467886094",
          "['Juice, Jammie Dodgers'] => ['Coffee'], Lift: 1.3681868374558304",
          "['Sandwich, Medialuna'] => ['Coffee'], Lift: 1.3681868374558304",
          "['Muffin, Sandwich'] => ['Coffee'], Lift: 1.3681868374558304",
          "['Cookies, Alfajores'] => ['Coffee'], Lift: 1.3727627131663849",
          "['Soup, Sandwich'] => ['Coffee'], Lift: 1.3762826175591194",
          "['Juice, NONE'] => ['Coffee'], Lift: 1.391376444870336",
          "['Sandwich, Spanish Brunch'] => ['Coffee'], Lift: 1.403268551236749",
          "['Cookies, Medialuna'] => ['Coffee'], Lift: 1.403268551236749",
          "['Smoothies, Cake'] => ['Coffee'], Lift: 1.4032685512367493",
          "['NONE, Cake'] => ['Coffee'], Lift: 1.403268551236749",
          "['Pastry, Hot chocolate'] => ['Coffee'], Lift: 1.403268551236749",
          "['Pastry, Bread, Hot chocolate'] => ['Coffee'], Lift: 1.4032685512367493",
          "['NONE, Spanish Brunch'] => ['Coffee'], Lift: 1.423904853460819",
          "['Cake, Sandwich'] => ['Coffee'], Lift: 1.424857298178853",
          "['Tiffin, Cake'] => ['Coffee'], Lift: 1.4351610183103116",
          "['Juice, Toast'] => ['Coffee'], Lift: 1.4351610183103116",
          "['Art Tray'] => ['Coffee'], Lift: 1.4401966710061374",
          "['NONE, Medialuna'] => ['Coffee'], Lift: 1.4401966710061374",
          "['Cake, Medialuna'] => ['Coffee'], Lift: 1.4433619384149419",
          "['Toast'] => ['Coffee'], Lift: 1.4826988465897728",
          "['Cake, Toast'] => ['Coffee'], Lift: 1.5035020191822313",
          "['Cake, Sandwich, Tea'] => ['Coffee'], Lift: 1.5035020191822313",
          "['Juice, Spanish Brunch'] => ['Coffee'], Lift: 1.5381982196248982",
          "['Cookies, NONE'] => ['Coffee'], Lift: 1.5591872791519437",
          "['NONE, Toast'] => ['Coffee'], Lift: 1.578677120141343",
          "['NONE, Extra Salami or Feta'] => ['Coffee'], Lift: 1.6096315734774476",
          "['Salad, Cake'] => ['Coffee'], Lift: 1.6191560206577875",
          "['Juice, Pastry'] => ['Coffee'], Lift: 1.6265158207516865",
          "['Cookies, Scone'] => ['Coffee'], Lift: 1.661765389622466",
          "['Keeping It Local'] => ['Coffee'], Lift: 1.7039689550731953",
          "['Extra Salami or Feta'] => ['Coffee'], Lift: 1.7171575692765482",
          "['Salad, Sandwich'] => ['Coffee'], Lift: 1.7540856890459364",
          "['Vegan mincepie, Cake'] => ['Coffee'], Lift: 1.7540856890459364",
          "['Scone, NONE'] => ['Coffee'], Lift: 1.7540856890459364",
          "['Sandwich, Hearty & Seasonal'] => ['Coffee'], Lift: 1.8042024230186773",
          "['Pastry, Toast'] => ['Coffee'], Lift: 1.824249116607774",
          "['Salad, Extra Salami or Feta'] => ['Coffee'], Lift: 1.8417899734982335",
          "['Medialuna, NONE, Hot chocolate'] => ['Coffee'], Lift: 1.913548024413749",
          "['Tartine, NONE'] => ['Coffee'], Lift: 1.942987224789345"
         ],
         "x": [
          0.006819851012485573,
          0.0036722274682614627,
          0.0030427027594166402,
          0.0017836533417269962,
          0.0017836533417269962,
          0.0017836533417269962,
          0.0014688909873045851,
          0.001154128632882174,
          0.001154128632882174,
          0.0036722274682614627,
          0.0013639702024971147,
          0.003777148253068933,
          0.0010492078480747037,
          0.0015738117721120553,
          0.006505088658063162,
          0.0030427027594166402,
          0.0012590494176896443,
          0.0029377819746091703,
          0.0014688909873045851,
          0.0030427027594166402,
          0.001154128632882174,
          0.0013639702024971147,
          0.0013639702024971147,
          0.0013639702024971147,
          0.0015738117721120553,
          0.0035673066834539923,
          0.004091910607491344,
          0.0012590494176896443,
          0.0016787325569195257,
          0.0010492078480747037,
          0.0033574651138390515,
          0.003777148253068933,
          0.0010492078480747037,
          0.002413178050571818,
          0.004616514531528696,
          0.0015738117721120553,
          0.0015738117721120553,
          0.0027279404049942294,
          0.0027279404049942294,
          0.0025180988353792886,
          0.023502255796873362,
          0.0015738117721120553,
          0.0010492078480747037,
          0.001993494911341937,
          0.0020984156961494074,
          0.0028328611898017,
          0.0013639702024971147,
          0.0010492078480747037,
          0.0017836533417269962,
          0.0015738117721120553,
          0.0053509600251809885,
          0.003252544329031581,
          0.0015738117721120553,
          0.0010492078480747037,
          0.0015738117721120553,
          0.0012590494176896443,
          0.0013639702024971147,
          0.0014688909873045851,
          0.0010492078480747037,
          0.0012590494176896443
         ],
         "y": [
          0.6018518518518519,
          0.603448275862069,
          0.6041666666666666,
          0.6071428571428571,
          0.6071428571428571,
          0.6071428571428571,
          0.6086956521739131,
          0.6111111111111112,
          0.6111111111111112,
          0.6140350877192983,
          0.6190476190476191,
          0.6206896551724138,
          0.625,
          0.625,
          0.6262626262626263,
          0.6304347826086957,
          0.631578947368421,
          0.6363636363636364,
          0.6363636363636364,
          0.6444444444444445,
          0.6470588235294118,
          0.65,
          0.65,
          0.65,
          0.6521739130434783,
          0.6538461538461539,
          0.6610169491525424,
          0.6666666666666666,
          0.6666666666666666,
          0.6666666666666666,
          0.6666666666666666,
          0.6666666666666666,
          0.6666666666666666,
          0.6764705882352942,
          0.676923076923077,
          0.6818181818181818,
          0.6818181818181818,
          0.6842105263157895,
          0.6842105263157895,
          0.6857142857142857,
          0.7044025157232704,
          0.7142857142857143,
          0.7142857142857143,
          0.7307692307692307,
          0.7407407407407407,
          0.75,
          0.7647058823529411,
          0.7692307692307693,
          0.7727272727272727,
          0.7894736842105263,
          0.8095238095238095,
          0.8157894736842105,
          0.8333333333333334,
          0.8333333333333334,
          0.8333333333333334,
          0.8571428571428571,
          0.8666666666666667,
          0.875,
          0.9090909090909091,
          0.9230769230769231
         ],
         "type": "scatter"
        }
       ],
       "layout": {
        "template": {
         "data": {
          "histogram2dcontour": [
           {
            "type": "histogram2dcontour",
            "colorbar": {
             "outlinewidth": 0,
             "ticks": ""
            },
            "colorscale": [
             [
              0.0,
              "#0d0887"
             ],
             [
              0.1111111111111111,
              "#46039f"
             ],
             [
              0.2222222222222222,
              "#7201a8"
             ],
             [
              0.3333333333333333,
              "#9c179e"
             ],
             [
              0.4444444444444444,
              "#bd3786"
             ],
             [
              0.5555555555555556,
              "#d8576b"
             ],
             [
              0.6666666666666666,
              "#ed7953"
             ],
             [
              0.7777777777777778,
              "#fb9f3a"
             ],
             [
              0.8888888888888888,
              "#fdca26"
             ],
             [
              1.0,
              "#f0f921"
             ]
            ]
           }
          ],
          "choropleth": [
           {
            "type": "choropleth",
            "colorbar": {
             "outlinewidth": 0,
             "ticks": ""
            }
           }
          ],
          "histogram2d": [
           {
            "type": "histogram2d",
            "colorbar": {
             "outlinewidth": 0,
             "ticks": ""
            },
            "colorscale": [
             [
              0.0,
              "#0d0887"
             ],
             [
              0.1111111111111111,
              "#46039f"
             ],
             [
              0.2222222222222222,
              "#7201a8"
             ],
             [
              0.3333333333333333,
              "#9c179e"
             ],
             [
              0.4444444444444444,
              "#bd3786"
             ],
             [
              0.5555555555555556,
              "#d8576b"
             ],
             [
              0.6666666666666666,
              "#ed7953"
             ],
             [
              0.7777777777777778,
              "#fb9f3a"
             ],
             [
              0.8888888888888888,
              "#fdca26"
             ],
             [
              1.0,
              "#f0f921"
             ]
            ]
           }
          ],
          "heatmap": [
           {
            "type": "heatmap",
            "colorbar": {
             "outlinewidth": 0,
             "ticks": ""
            },
            "colorscale": [
             [
              0.0,
              "#0d0887"
             ],
             [
              0.1111111111111111,
              "#46039f"
             ],
             [
              0.2222222222222222,
              "#7201a8"
             ],
             [
              0.3333333333333333,
              "#9c179e"
             ],
             [
              0.4444444444444444,
              "#bd3786"
             ],
             [
              0.5555555555555556,
              "#d8576b"
             ],
             [
              0.6666666666666666,
              "#ed7953"
             ],
             [
              0.7777777777777778,
              "#fb9f3a"
             ],
             [
              0.8888888888888888,
              "#fdca26"
             ],
             [
              1.0,
              "#f0f921"
             ]
            ]
           }
          ],
          "heatmapgl": [
           {
            "type": "heatmapgl",
            "colorbar": {
             "outlinewidth": 0,
             "ticks": ""
            },
            "colorscale": [
             [
              0.0,
              "#0d0887"
             ],
             [
              0.1111111111111111,
              "#46039f"
             ],
             [
              0.2222222222222222,
              "#7201a8"
             ],
             [
              0.3333333333333333,
              "#9c179e"
             ],
             [
              0.4444444444444444,
              "#bd3786"
             ],
             [
              0.5555555555555556,
              "#d8576b"
             ],
             [
              0.6666666666666666,
              "#ed7953"
             ],
             [
              0.7777777777777778,
              "#fb9f3a"
             ],
             [
              0.8888888888888888,
              "#fdca26"
             ],
             [
              1.0,
              "#f0f921"
             ]
            ]
           }
          ],
          "contourcarpet": [
           {
            "type": "contourcarpet",
            "colorbar": {
             "outlinewidth": 0,
             "ticks": ""
            }
           }
          ],
          "contour": [
           {
            "type": "contour",
            "colorbar": {
             "outlinewidth": 0,
             "ticks": ""
            },
            "colorscale": [
             [
              0.0,
              "#0d0887"
             ],
             [
              0.1111111111111111,
              "#46039f"
             ],
             [
              0.2222222222222222,
              "#7201a8"
             ],
             [
              0.3333333333333333,
              "#9c179e"
             ],
             [
              0.4444444444444444,
              "#bd3786"
             ],
             [
              0.5555555555555556,
              "#d8576b"
             ],
             [
              0.6666666666666666,
              "#ed7953"
             ],
             [
              0.7777777777777778,
              "#fb9f3a"
             ],
             [
              0.8888888888888888,
              "#fdca26"
             ],
             [
              1.0,
              "#f0f921"
             ]
            ]
           }
          ],
          "surface": [
           {
            "type": "surface",
            "colorbar": {
             "outlinewidth": 0,
             "ticks": ""
            },
            "colorscale": [
             [
              0.0,
              "#0d0887"
             ],
             [
              0.1111111111111111,
              "#46039f"
             ],
             [
              0.2222222222222222,
              "#7201a8"
             ],
             [
              0.3333333333333333,
              "#9c179e"
             ],
             [
              0.4444444444444444,
              "#bd3786"
             ],
             [
              0.5555555555555556,
              "#d8576b"
             ],
             [
              0.6666666666666666,
              "#ed7953"
             ],
             [
              0.7777777777777778,
              "#fb9f3a"
             ],
             [
              0.8888888888888888,
              "#fdca26"
             ],
             [
              1.0,
              "#f0f921"
             ]
            ]
           }
          ],
          "mesh3d": [
           {
            "type": "mesh3d",
            "colorbar": {
             "outlinewidth": 0,
             "ticks": ""
            }
           }
          ],
          "scatter": [
           {
            "fillpattern": {
             "fillmode": "overlay",
             "size": 10,
             "solidity": 0.2
            },
            "type": "scatter"
           }
          ],
          "parcoords": [
           {
            "type": "parcoords",
            "line": {
             "colorbar": {
              "outlinewidth": 0,
              "ticks": ""
             }
            }
           }
          ],
          "scatterpolargl": [
           {
            "type": "scatterpolargl",
            "marker": {
             "colorbar": {
              "outlinewidth": 0,
              "ticks": ""
             }
            }
           }
          ],
          "bar": [
           {
            "error_x": {
             "color": "#2a3f5f"
            },
            "error_y": {
             "color": "#2a3f5f"
            },
            "marker": {
             "line": {
              "color": "#E5ECF6",
              "width": 0.5
             },
             "pattern": {
              "fillmode": "overlay",
              "size": 10,
              "solidity": 0.2
             }
            },
            "type": "bar"
           }
          ],
          "scattergeo": [
           {
            "type": "scattergeo",
            "marker": {
             "colorbar": {
              "outlinewidth": 0,
              "ticks": ""
             }
            }
           }
          ],
          "scatterpolar": [
           {
            "type": "scatterpolar",
            "marker": {
             "colorbar": {
              "outlinewidth": 0,
              "ticks": ""
             }
            }
           }
          ],
          "histogram": [
           {
            "marker": {
             "pattern": {
              "fillmode": "overlay",
              "size": 10,
              "solidity": 0.2
             }
            },
            "type": "histogram"
           }
          ],
          "scattergl": [
           {
            "type": "scattergl",
            "marker": {
             "colorbar": {
              "outlinewidth": 0,
              "ticks": ""
             }
            }
           }
          ],
          "scatter3d": [
           {
            "type": "scatter3d",
            "line": {
             "colorbar": {
              "outlinewidth": 0,
              "ticks": ""
             }
            },
            "marker": {
             "colorbar": {
              "outlinewidth": 0,
              "ticks": ""
             }
            }
           }
          ],
          "scattermapbox": [
           {
            "type": "scattermapbox",
            "marker": {
             "colorbar": {
              "outlinewidth": 0,
              "ticks": ""
             }
            }
           }
          ],
          "scatterternary": [
           {
            "type": "scatterternary",
            "marker": {
             "colorbar": {
              "outlinewidth": 0,
              "ticks": ""
             }
            }
           }
          ],
          "scattercarpet": [
           {
            "type": "scattercarpet",
            "marker": {
             "colorbar": {
              "outlinewidth": 0,
              "ticks": ""
             }
            }
           }
          ],
          "carpet": [
           {
            "aaxis": {
             "endlinecolor": "#2a3f5f",
             "gridcolor": "white",
             "linecolor": "white",
             "minorgridcolor": "white",
             "startlinecolor": "#2a3f5f"
            },
            "baxis": {
             "endlinecolor": "#2a3f5f",
             "gridcolor": "white",
             "linecolor": "white",
             "minorgridcolor": "white",
             "startlinecolor": "#2a3f5f"
            },
            "type": "carpet"
           }
          ],
          "table": [
           {
            "cells": {
             "fill": {
              "color": "#EBF0F8"
             },
             "line": {
              "color": "white"
             }
            },
            "header": {
             "fill": {
              "color": "#C8D4E3"
             },
             "line": {
              "color": "white"
             }
            },
            "type": "table"
           }
          ],
          "barpolar": [
           {
            "marker": {
             "line": {
              "color": "#E5ECF6",
              "width": 0.5
             },
             "pattern": {
              "fillmode": "overlay",
              "size": 10,
              "solidity": 0.2
             }
            },
            "type": "barpolar"
           }
          ],
          "pie": [
           {
            "automargin": true,
            "type": "pie"
           }
          ]
         },
         "layout": {
          "autotypenumbers": "strict",
          "colorway": [
           "#636efa",
           "#EF553B",
           "#00cc96",
           "#ab63fa",
           "#FFA15A",
           "#19d3f3",
           "#FF6692",
           "#B6E880",
           "#FF97FF",
           "#FECB52"
          ],
          "font": {
           "color": "#2a3f5f"
          },
          "hovermode": "closest",
          "hoverlabel": {
           "align": "left"
          },
          "paper_bgcolor": "white",
          "plot_bgcolor": "#E5ECF6",
          "polar": {
           "bgcolor": "#E5ECF6",
           "angularaxis": {
            "gridcolor": "white",
            "linecolor": "white",
            "ticks": ""
           },
           "radialaxis": {
            "gridcolor": "white",
            "linecolor": "white",
            "ticks": ""
           }
          },
          "ternary": {
           "bgcolor": "#E5ECF6",
           "aaxis": {
            "gridcolor": "white",
            "linecolor": "white",
            "ticks": ""
           },
           "baxis": {
            "gridcolor": "white",
            "linecolor": "white",
            "ticks": ""
           },
           "caxis": {
            "gridcolor": "white",
            "linecolor": "white",
            "ticks": ""
           }
          },
          "coloraxis": {
           "colorbar": {
            "outlinewidth": 0,
            "ticks": ""
           }
          },
          "colorscale": {
           "sequential": [
            [
             0.0,
             "#0d0887"
            ],
            [
             0.1111111111111111,
             "#46039f"
            ],
            [
             0.2222222222222222,
             "#7201a8"
            ],
            [
             0.3333333333333333,
             "#9c179e"
            ],
            [
             0.4444444444444444,
             "#bd3786"
            ],
            [
             0.5555555555555556,
             "#d8576b"
            ],
            [
             0.6666666666666666,
             "#ed7953"
            ],
            [
             0.7777777777777778,
             "#fb9f3a"
            ],
            [
             0.8888888888888888,
             "#fdca26"
            ],
            [
             1.0,
             "#f0f921"
            ]
           ],
           "sequentialminus": [
            [
             0.0,
             "#0d0887"
            ],
            [
             0.1111111111111111,
             "#46039f"
            ],
            [
             0.2222222222222222,
             "#7201a8"
            ],
            [
             0.3333333333333333,
             "#9c179e"
            ],
            [
             0.4444444444444444,
             "#bd3786"
            ],
            [
             0.5555555555555556,
             "#d8576b"
            ],
            [
             0.6666666666666666,
             "#ed7953"
            ],
            [
             0.7777777777777778,
             "#fb9f3a"
            ],
            [
             0.8888888888888888,
             "#fdca26"
            ],
            [
             1.0,
             "#f0f921"
            ]
           ],
           "diverging": [
            [
             0,
             "#8e0152"
            ],
            [
             0.1,
             "#c51b7d"
            ],
            [
             0.2,
             "#de77ae"
            ],
            [
             0.3,
             "#f1b6da"
            ],
            [
             0.4,
             "#fde0ef"
            ],
            [
             0.5,
             "#f7f7f7"
            ],
            [
             0.6,
             "#e6f5d0"
            ],
            [
             0.7,
             "#b8e186"
            ],
            [
             0.8,
             "#7fbc41"
            ],
            [
             0.9,
             "#4d9221"
            ],
            [
             1,
             "#276419"
            ]
           ]
          },
          "xaxis": {
           "gridcolor": "white",
           "linecolor": "white",
           "ticks": "",
           "title": {
            "standoff": 15
           },
           "zerolinecolor": "white",
           "automargin": true,
           "zerolinewidth": 2
          },
          "yaxis": {
           "gridcolor": "white",
           "linecolor": "white",
           "ticks": "",
           "title": {
            "standoff": 15
           },
           "zerolinecolor": "white",
           "automargin": true,
           "zerolinewidth": 2
          },
          "scene": {
           "xaxis": {
            "backgroundcolor": "#E5ECF6",
            "gridcolor": "white",
            "linecolor": "white",
            "showbackground": true,
            "ticks": "",
            "zerolinecolor": "white",
            "gridwidth": 2
           },
           "yaxis": {
            "backgroundcolor": "#E5ECF6",
            "gridcolor": "white",
            "linecolor": "white",
            "showbackground": true,
            "ticks": "",
            "zerolinecolor": "white",
            "gridwidth": 2
           },
           "zaxis": {
            "backgroundcolor": "#E5ECF6",
            "gridcolor": "white",
            "linecolor": "white",
            "showbackground": true,
            "ticks": "",
            "zerolinecolor": "white",
            "gridwidth": 2
           }
          },
          "shapedefaults": {
           "line": {
            "color": "#2a3f5f"
           }
          },
          "annotationdefaults": {
           "arrowcolor": "#2a3f5f",
           "arrowhead": 0,
           "arrowwidth": 1
          },
          "geo": {
           "bgcolor": "white",
           "landcolor": "#E5ECF6",
           "subunitcolor": "white",
           "showland": true,
           "showlakes": true,
           "lakecolor": "white"
          },
          "title": {
           "x": 0.05
          },
          "mapbox": {
           "style": "light"
          }
         }
        },
        "xaxis": {
         "title": {
          "text": "Support"
         },
         "autorange": "reversed"
        },
        "title": {
         "text": "Association Rules Strength Distribution"
        },
        "yaxis": {
         "title": {
          "text": "Confidence"
         }
        }
       },
       "config": {
        "plotlyServerURL": "https://plot.ly"
       }
      },
      "text/html": [
       "<div>                            <div id=\"b51f48da-5368-4415-8edd-cd4cb211e936\" class=\"plotly-graph-div\" style=\"height:525px; width:100%;\"></div>            <script type=\"text/javascript\">                require([\"plotly\"], function(Plotly) {                    window.PLOTLYENV=window.PLOTLYENV || {};                                    if (document.getElementById(\"b51f48da-5368-4415-8edd-cd4cb211e936\")) {                    Plotly.newPlot(                        \"b51f48da-5368-4415-8edd-cd4cb211e936\",                        [{\"marker\":{\"color\":[1.266839664310954,1.2701999817229195,1.2717121245583036,1.2779767163048965,1.2779767163048965,1.2779767163048965,1.2812451989552927,1.2863295053003534,1.2863295053003534,1.2924841919285848,1.3030350832912672,1.3064914097721458,1.3155642667844525,1.315564266784452,1.3182219723739157,1.3270039560608387,1.3294123116979728,1.3394836170896243,1.3394836170896243,1.3564929328621906,1.3619959467886094,1.3681868374558304,1.3681868374558304,1.3681868374558304,1.3727627131663849,1.3762826175591194,1.391376444870336,1.403268551236749,1.403268551236749,1.4032685512367493,1.403268551236749,1.403268551236749,1.4032685512367493,1.423904853460819,1.424857298178853,1.4351610183103116,1.4351610183103116,1.4401966710061374,1.4401966710061374,1.4433619384149419,1.4826988465897728,1.5035020191822313,1.5035020191822313,1.5381982196248982,1.5591872791519437,1.578677120141343,1.6096315734774476,1.6191560206577875,1.6265158207516865,1.661765389622466,1.7039689550731953,1.7171575692765482,1.7540856890459364,1.7540856890459364,1.7540856890459364,1.8042024230186773,1.824249116607774,1.8417899734982335,1.913548024413749,1.942987224789345],\"colorbar\":{\"title\":{\"text\":\"Lift\"}},\"colorscale\":[[0.0,\"rgb(243, 224, 247)\"],[0.16666666666666666,\"rgb(228, 199, 241)\"],[0.3333333333333333,\"rgb(209, 175, 232)\"],[0.5,\"rgb(185, 152, 221)\"],[0.6666666666666666,\"rgb(159, 130, 206)\"],[0.8333333333333334,\"rgb(130, 109, 186)\"],[1.0,\"rgb(99, 88, 159)\"]]},\"mode\":\"markers\",\"text\":[\"['Cake, Hot chocolate'] =\\u003e ['Coffee'], Lift: 1.266839664310954\",\"['Cookies, Juice'] =\\u003e ['Coffee'], Lift: 1.2701999817229195\",\"['Bakewell'] =\\u003e ['Coffee'], Lift: 1.2717121245583036\",\"['Granola'] =\\u003e ['Coffee'], Lift: 1.2779767163048965\",\"['Scone, Hot chocolate'] =\\u003e ['Coffee'], Lift: 1.2779767163048965\",\"['Cookies, Pastry'] =\\u003e ['Coffee'], Lift: 1.2779767163048965\",\"['NONE, Brownie'] =\\u003e ['Coffee'], Lift: 1.2812451989552927\",\"['Medialuna, Toast'] =\\u003e ['Coffee'], Lift: 1.2863295053003534\",\"['NONE, Alfajores'] =\\u003e ['Coffee'], Lift: 1.2863295053003534\",\"['Cookies, Hot chocolate'] =\\u003e ['Coffee'], Lift: 1.2924841919285848\",\"['Muffin, NONE'] =\\u003e ['Coffee'], Lift: 1.3030350832912672\",\"['NONE, Hot chocolate'] =\\u003e ['Coffee'], Lift: 1.3064914097721458\",\"['Soup, NONE'] =\\u003e ['Coffee'], Lift: 1.3155642667844525\",\"['Cookies, Brownie'] =\\u003e ['Coffee'], Lift: 1.315564266784452\",\"['Salad'] =\\u003e ['Coffee'], Lift: 1.3182219723739157\",\"['Tartine'] =\\u003e ['Coffee'], Lift: 1.3270039560608387\",\"['Scone, Juice'] =\\u003e ['Coffee'], Lift: 1.3294123116979728\",\"['Pastry, NONE'] =\\u003e ['Coffee'], Lift: 1.3394836170896243\",\"['Sandwich, Brownie'] =\\u003e ['Coffee'], Lift: 1.3394836170896243\",\"['Hot chocolate, Medialuna'] =\\u003e ['Coffee'], Lift: 1.3564929328621906\",\"['Tea, Keeping It Local'] =\\u003e ['Coffee'], Lift: 1.3619959467886094\",\"['Juice, Jammie Dodgers'] =\\u003e ['Coffee'], Lift: 1.3681868374558304\",\"['Sandwich, Medialuna'] =\\u003e ['Coffee'], Lift: 1.3681868374558304\",\"['Muffin, Sandwich'] =\\u003e ['Coffee'], Lift: 1.3681868374558304\",\"['Cookies, Alfajores'] =\\u003e ['Coffee'], Lift: 1.3727627131663849\",\"['Soup, Sandwich'] =\\u003e ['Coffee'], Lift: 1.3762826175591194\",\"['Juice, NONE'] =\\u003e ['Coffee'], Lift: 1.391376444870336\",\"['Sandwich, Spanish Brunch'] =\\u003e ['Coffee'], Lift: 1.403268551236749\",\"['Cookies, Medialuna'] =\\u003e ['Coffee'], Lift: 1.403268551236749\",\"['Smoothies, Cake'] =\\u003e ['Coffee'], Lift: 1.4032685512367493\",\"['NONE, Cake'] =\\u003e ['Coffee'], Lift: 1.403268551236749\",\"['Pastry, Hot chocolate'] =\\u003e ['Coffee'], Lift: 1.403268551236749\",\"['Pastry, Bread, Hot chocolate'] =\\u003e ['Coffee'], Lift: 1.4032685512367493\",\"['NONE, Spanish Brunch'] =\\u003e ['Coffee'], Lift: 1.423904853460819\",\"['Cake, Sandwich'] =\\u003e ['Coffee'], Lift: 1.424857298178853\",\"['Tiffin, Cake'] =\\u003e ['Coffee'], Lift: 1.4351610183103116\",\"['Juice, Toast'] =\\u003e ['Coffee'], Lift: 1.4351610183103116\",\"['Art Tray'] =\\u003e ['Coffee'], Lift: 1.4401966710061374\",\"['NONE, Medialuna'] =\\u003e ['Coffee'], Lift: 1.4401966710061374\",\"['Cake, Medialuna'] =\\u003e ['Coffee'], Lift: 1.4433619384149419\",\"['Toast'] =\\u003e ['Coffee'], Lift: 1.4826988465897728\",\"['Cake, Toast'] =\\u003e ['Coffee'], Lift: 1.5035020191822313\",\"['Cake, Sandwich, Tea'] =\\u003e ['Coffee'], Lift: 1.5035020191822313\",\"['Juice, Spanish Brunch'] =\\u003e ['Coffee'], Lift: 1.5381982196248982\",\"['Cookies, NONE'] =\\u003e ['Coffee'], Lift: 1.5591872791519437\",\"['NONE, Toast'] =\\u003e ['Coffee'], Lift: 1.578677120141343\",\"['NONE, Extra Salami or Feta'] =\\u003e ['Coffee'], Lift: 1.6096315734774476\",\"['Salad, Cake'] =\\u003e ['Coffee'], Lift: 1.6191560206577875\",\"['Juice, Pastry'] =\\u003e ['Coffee'], Lift: 1.6265158207516865\",\"['Cookies, Scone'] =\\u003e ['Coffee'], Lift: 1.661765389622466\",\"['Keeping It Local'] =\\u003e ['Coffee'], Lift: 1.7039689550731953\",\"['Extra Salami or Feta'] =\\u003e ['Coffee'], Lift: 1.7171575692765482\",\"['Salad, Sandwich'] =\\u003e ['Coffee'], Lift: 1.7540856890459364\",\"['Vegan mincepie, Cake'] =\\u003e ['Coffee'], Lift: 1.7540856890459364\",\"['Scone, NONE'] =\\u003e ['Coffee'], Lift: 1.7540856890459364\",\"['Sandwich, Hearty & Seasonal'] =\\u003e ['Coffee'], Lift: 1.8042024230186773\",\"['Pastry, Toast'] =\\u003e ['Coffee'], Lift: 1.824249116607774\",\"['Salad, Extra Salami or Feta'] =\\u003e ['Coffee'], Lift: 1.8417899734982335\",\"['Medialuna, NONE, Hot chocolate'] =\\u003e ['Coffee'], Lift: 1.913548024413749\",\"['Tartine, NONE'] =\\u003e ['Coffee'], Lift: 1.942987224789345\"],\"x\":[0.006819851012485573,0.0036722274682614627,0.0030427027594166402,0.0017836533417269962,0.0017836533417269962,0.0017836533417269962,0.0014688909873045851,0.001154128632882174,0.001154128632882174,0.0036722274682614627,0.0013639702024971147,0.003777148253068933,0.0010492078480747037,0.0015738117721120553,0.006505088658063162,0.0030427027594166402,0.0012590494176896443,0.0029377819746091703,0.0014688909873045851,0.0030427027594166402,0.001154128632882174,0.0013639702024971147,0.0013639702024971147,0.0013639702024971147,0.0015738117721120553,0.0035673066834539923,0.004091910607491344,0.0012590494176896443,0.0016787325569195257,0.0010492078480747037,0.0033574651138390515,0.003777148253068933,0.0010492078480747037,0.002413178050571818,0.004616514531528696,0.0015738117721120553,0.0015738117721120553,0.0027279404049942294,0.0027279404049942294,0.0025180988353792886,0.023502255796873362,0.0015738117721120553,0.0010492078480747037,0.001993494911341937,0.0020984156961494074,0.0028328611898017,0.0013639702024971147,0.0010492078480747037,0.0017836533417269962,0.0015738117721120553,0.0053509600251809885,0.003252544329031581,0.0015738117721120553,0.0010492078480747037,0.0015738117721120553,0.0012590494176896443,0.0013639702024971147,0.0014688909873045851,0.0010492078480747037,0.0012590494176896443],\"y\":[0.6018518518518519,0.603448275862069,0.6041666666666666,0.6071428571428571,0.6071428571428571,0.6071428571428571,0.6086956521739131,0.6111111111111112,0.6111111111111112,0.6140350877192983,0.6190476190476191,0.6206896551724138,0.625,0.625,0.6262626262626263,0.6304347826086957,0.631578947368421,0.6363636363636364,0.6363636363636364,0.6444444444444445,0.6470588235294118,0.65,0.65,0.65,0.6521739130434783,0.6538461538461539,0.6610169491525424,0.6666666666666666,0.6666666666666666,0.6666666666666666,0.6666666666666666,0.6666666666666666,0.6666666666666666,0.6764705882352942,0.676923076923077,0.6818181818181818,0.6818181818181818,0.6842105263157895,0.6842105263157895,0.6857142857142857,0.7044025157232704,0.7142857142857143,0.7142857142857143,0.7307692307692307,0.7407407407407407,0.75,0.7647058823529411,0.7692307692307693,0.7727272727272727,0.7894736842105263,0.8095238095238095,0.8157894736842105,0.8333333333333334,0.8333333333333334,0.8333333333333334,0.8571428571428571,0.8666666666666667,0.875,0.9090909090909091,0.9230769230769231],\"type\":\"scatter\"}],                        {\"template\":{\"data\":{\"histogram2dcontour\":[{\"type\":\"histogram2dcontour\",\"colorbar\":{\"outlinewidth\":0,\"ticks\":\"\"},\"colorscale\":[[0.0,\"#0d0887\"],[0.1111111111111111,\"#46039f\"],[0.2222222222222222,\"#7201a8\"],[0.3333333333333333,\"#9c179e\"],[0.4444444444444444,\"#bd3786\"],[0.5555555555555556,\"#d8576b\"],[0.6666666666666666,\"#ed7953\"],[0.7777777777777778,\"#fb9f3a\"],[0.8888888888888888,\"#fdca26\"],[1.0,\"#f0f921\"]]}],\"choropleth\":[{\"type\":\"choropleth\",\"colorbar\":{\"outlinewidth\":0,\"ticks\":\"\"}}],\"histogram2d\":[{\"type\":\"histogram2d\",\"colorbar\":{\"outlinewidth\":0,\"ticks\":\"\"},\"colorscale\":[[0.0,\"#0d0887\"],[0.1111111111111111,\"#46039f\"],[0.2222222222222222,\"#7201a8\"],[0.3333333333333333,\"#9c179e\"],[0.4444444444444444,\"#bd3786\"],[0.5555555555555556,\"#d8576b\"],[0.6666666666666666,\"#ed7953\"],[0.7777777777777778,\"#fb9f3a\"],[0.8888888888888888,\"#fdca26\"],[1.0,\"#f0f921\"]]}],\"heatmap\":[{\"type\":\"heatmap\",\"colorbar\":{\"outlinewidth\":0,\"ticks\":\"\"},\"colorscale\":[[0.0,\"#0d0887\"],[0.1111111111111111,\"#46039f\"],[0.2222222222222222,\"#7201a8\"],[0.3333333333333333,\"#9c179e\"],[0.4444444444444444,\"#bd3786\"],[0.5555555555555556,\"#d8576b\"],[0.6666666666666666,\"#ed7953\"],[0.7777777777777778,\"#fb9f3a\"],[0.8888888888888888,\"#fdca26\"],[1.0,\"#f0f921\"]]}],\"heatmapgl\":[{\"type\":\"heatmapgl\",\"colorbar\":{\"outlinewidth\":0,\"ticks\":\"\"},\"colorscale\":[[0.0,\"#0d0887\"],[0.1111111111111111,\"#46039f\"],[0.2222222222222222,\"#7201a8\"],[0.3333333333333333,\"#9c179e\"],[0.4444444444444444,\"#bd3786\"],[0.5555555555555556,\"#d8576b\"],[0.6666666666666666,\"#ed7953\"],[0.7777777777777778,\"#fb9f3a\"],[0.8888888888888888,\"#fdca26\"],[1.0,\"#f0f921\"]]}],\"contourcarpet\":[{\"type\":\"contourcarpet\",\"colorbar\":{\"outlinewidth\":0,\"ticks\":\"\"}}],\"contour\":[{\"type\":\"contour\",\"colorbar\":{\"outlinewidth\":0,\"ticks\":\"\"},\"colorscale\":[[0.0,\"#0d0887\"],[0.1111111111111111,\"#46039f\"],[0.2222222222222222,\"#7201a8\"],[0.3333333333333333,\"#9c179e\"],[0.4444444444444444,\"#bd3786\"],[0.5555555555555556,\"#d8576b\"],[0.6666666666666666,\"#ed7953\"],[0.7777777777777778,\"#fb9f3a\"],[0.8888888888888888,\"#fdca26\"],[1.0,\"#f0f921\"]]}],\"surface\":[{\"type\":\"surface\",\"colorbar\":{\"outlinewidth\":0,\"ticks\":\"\"},\"colorscale\":[[0.0,\"#0d0887\"],[0.1111111111111111,\"#46039f\"],[0.2222222222222222,\"#7201a8\"],[0.3333333333333333,\"#9c179e\"],[0.4444444444444444,\"#bd3786\"],[0.5555555555555556,\"#d8576b\"],[0.6666666666666666,\"#ed7953\"],[0.7777777777777778,\"#fb9f3a\"],[0.8888888888888888,\"#fdca26\"],[1.0,\"#f0f921\"]]}],\"mesh3d\":[{\"type\":\"mesh3d\",\"colorbar\":{\"outlinewidth\":0,\"ticks\":\"\"}}],\"scatter\":[{\"fillpattern\":{\"fillmode\":\"overlay\",\"size\":10,\"solidity\":0.2},\"type\":\"scatter\"}],\"parcoords\":[{\"type\":\"parcoords\",\"line\":{\"colorbar\":{\"outlinewidth\":0,\"ticks\":\"\"}}}],\"scatterpolargl\":[{\"type\":\"scatterpolargl\",\"marker\":{\"colorbar\":{\"outlinewidth\":0,\"ticks\":\"\"}}}],\"bar\":[{\"error_x\":{\"color\":\"#2a3f5f\"},\"error_y\":{\"color\":\"#2a3f5f\"},\"marker\":{\"line\":{\"color\":\"#E5ECF6\",\"width\":0.5},\"pattern\":{\"fillmode\":\"overlay\",\"size\":10,\"solidity\":0.2}},\"type\":\"bar\"}],\"scattergeo\":[{\"type\":\"scattergeo\",\"marker\":{\"colorbar\":{\"outlinewidth\":0,\"ticks\":\"\"}}}],\"scatterpolar\":[{\"type\":\"scatterpolar\",\"marker\":{\"colorbar\":{\"outlinewidth\":0,\"ticks\":\"\"}}}],\"histogram\":[{\"marker\":{\"pattern\":{\"fillmode\":\"overlay\",\"size\":10,\"solidity\":0.2}},\"type\":\"histogram\"}],\"scattergl\":[{\"type\":\"scattergl\",\"marker\":{\"colorbar\":{\"outlinewidth\":0,\"ticks\":\"\"}}}],\"scatter3d\":[{\"type\":\"scatter3d\",\"line\":{\"colorbar\":{\"outlinewidth\":0,\"ticks\":\"\"}},\"marker\":{\"colorbar\":{\"outlinewidth\":0,\"ticks\":\"\"}}}],\"scattermapbox\":[{\"type\":\"scattermapbox\",\"marker\":{\"colorbar\":{\"outlinewidth\":0,\"ticks\":\"\"}}}],\"scatterternary\":[{\"type\":\"scatterternary\",\"marker\":{\"colorbar\":{\"outlinewidth\":0,\"ticks\":\"\"}}}],\"scattercarpet\":[{\"type\":\"scattercarpet\",\"marker\":{\"colorbar\":{\"outlinewidth\":0,\"ticks\":\"\"}}}],\"carpet\":[{\"aaxis\":{\"endlinecolor\":\"#2a3f5f\",\"gridcolor\":\"white\",\"linecolor\":\"white\",\"minorgridcolor\":\"white\",\"startlinecolor\":\"#2a3f5f\"},\"baxis\":{\"endlinecolor\":\"#2a3f5f\",\"gridcolor\":\"white\",\"linecolor\":\"white\",\"minorgridcolor\":\"white\",\"startlinecolor\":\"#2a3f5f\"},\"type\":\"carpet\"}],\"table\":[{\"cells\":{\"fill\":{\"color\":\"#EBF0F8\"},\"line\":{\"color\":\"white\"}},\"header\":{\"fill\":{\"color\":\"#C8D4E3\"},\"line\":{\"color\":\"white\"}},\"type\":\"table\"}],\"barpolar\":[{\"marker\":{\"line\":{\"color\":\"#E5ECF6\",\"width\":0.5},\"pattern\":{\"fillmode\":\"overlay\",\"size\":10,\"solidity\":0.2}},\"type\":\"barpolar\"}],\"pie\":[{\"automargin\":true,\"type\":\"pie\"}]},\"layout\":{\"autotypenumbers\":\"strict\",\"colorway\":[\"#636efa\",\"#EF553B\",\"#00cc96\",\"#ab63fa\",\"#FFA15A\",\"#19d3f3\",\"#FF6692\",\"#B6E880\",\"#FF97FF\",\"#FECB52\"],\"font\":{\"color\":\"#2a3f5f\"},\"hovermode\":\"closest\",\"hoverlabel\":{\"align\":\"left\"},\"paper_bgcolor\":\"white\",\"plot_bgcolor\":\"#E5ECF6\",\"polar\":{\"bgcolor\":\"#E5ECF6\",\"angularaxis\":{\"gridcolor\":\"white\",\"linecolor\":\"white\",\"ticks\":\"\"},\"radialaxis\":{\"gridcolor\":\"white\",\"linecolor\":\"white\",\"ticks\":\"\"}},\"ternary\":{\"bgcolor\":\"#E5ECF6\",\"aaxis\":{\"gridcolor\":\"white\",\"linecolor\":\"white\",\"ticks\":\"\"},\"baxis\":{\"gridcolor\":\"white\",\"linecolor\":\"white\",\"ticks\":\"\"},\"caxis\":{\"gridcolor\":\"white\",\"linecolor\":\"white\",\"ticks\":\"\"}},\"coloraxis\":{\"colorbar\":{\"outlinewidth\":0,\"ticks\":\"\"}},\"colorscale\":{\"sequential\":[[0.0,\"#0d0887\"],[0.1111111111111111,\"#46039f\"],[0.2222222222222222,\"#7201a8\"],[0.3333333333333333,\"#9c179e\"],[0.4444444444444444,\"#bd3786\"],[0.5555555555555556,\"#d8576b\"],[0.6666666666666666,\"#ed7953\"],[0.7777777777777778,\"#fb9f3a\"],[0.8888888888888888,\"#fdca26\"],[1.0,\"#f0f921\"]],\"sequentialminus\":[[0.0,\"#0d0887\"],[0.1111111111111111,\"#46039f\"],[0.2222222222222222,\"#7201a8\"],[0.3333333333333333,\"#9c179e\"],[0.4444444444444444,\"#bd3786\"],[0.5555555555555556,\"#d8576b\"],[0.6666666666666666,\"#ed7953\"],[0.7777777777777778,\"#fb9f3a\"],[0.8888888888888888,\"#fdca26\"],[1.0,\"#f0f921\"]],\"diverging\":[[0,\"#8e0152\"],[0.1,\"#c51b7d\"],[0.2,\"#de77ae\"],[0.3,\"#f1b6da\"],[0.4,\"#fde0ef\"],[0.5,\"#f7f7f7\"],[0.6,\"#e6f5d0\"],[0.7,\"#b8e186\"],[0.8,\"#7fbc41\"],[0.9,\"#4d9221\"],[1,\"#276419\"]]},\"xaxis\":{\"gridcolor\":\"white\",\"linecolor\":\"white\",\"ticks\":\"\",\"title\":{\"standoff\":15},\"zerolinecolor\":\"white\",\"automargin\":true,\"zerolinewidth\":2},\"yaxis\":{\"gridcolor\":\"white\",\"linecolor\":\"white\",\"ticks\":\"\",\"title\":{\"standoff\":15},\"zerolinecolor\":\"white\",\"automargin\":true,\"zerolinewidth\":2},\"scene\":{\"xaxis\":{\"backgroundcolor\":\"#E5ECF6\",\"gridcolor\":\"white\",\"linecolor\":\"white\",\"showbackground\":true,\"ticks\":\"\",\"zerolinecolor\":\"white\",\"gridwidth\":2},\"yaxis\":{\"backgroundcolor\":\"#E5ECF6\",\"gridcolor\":\"white\",\"linecolor\":\"white\",\"showbackground\":true,\"ticks\":\"\",\"zerolinecolor\":\"white\",\"gridwidth\":2},\"zaxis\":{\"backgroundcolor\":\"#E5ECF6\",\"gridcolor\":\"white\",\"linecolor\":\"white\",\"showbackground\":true,\"ticks\":\"\",\"zerolinecolor\":\"white\",\"gridwidth\":2}},\"shapedefaults\":{\"line\":{\"color\":\"#2a3f5f\"}},\"annotationdefaults\":{\"arrowcolor\":\"#2a3f5f\",\"arrowhead\":0,\"arrowwidth\":1},\"geo\":{\"bgcolor\":\"white\",\"landcolor\":\"#E5ECF6\",\"subunitcolor\":\"white\",\"showland\":true,\"showlakes\":true,\"lakecolor\":\"white\"},\"title\":{\"x\":0.05},\"mapbox\":{\"style\":\"light\"}}},\"xaxis\":{\"title\":{\"text\":\"Support\"},\"autorange\":\"reversed\"},\"title\":{\"text\":\"Association Rules Strength Distribution\"},\"yaxis\":{\"title\":{\"text\":\"Confidence\"}}},                        {\"responsive\": true}                    ).then(function(){\n",
       "                            \n",
       "var gd = document.getElementById('b51f48da-5368-4415-8edd-cd4cb211e936');\n",
       "var x = new MutationObserver(function (mutations, observer) {{\n",
       "        var display = window.getComputedStyle(gd).display;\n",
       "        if (!display || display === 'none') {{\n",
       "            console.log([gd, 'removed!']);\n",
       "            Plotly.purge(gd);\n",
       "            observer.disconnect();\n",
       "        }}\n",
       "}});\n",
       "\n",
       "// Listen for the removal of the full notebook cells\n",
       "var notebookContainer = gd.closest('#notebook-container');\n",
       "if (notebookContainer) {{\n",
       "    x.observe(notebookContainer, {childList: true});\n",
       "}}\n",
       "\n",
       "// Listen for the clearing of the current output cell\n",
       "var outputEl = gd.closest('.output');\n",
       "if (outputEl) {{\n",
       "    x.observe(outputEl, {childList: true});\n",
       "}}\n",
       "\n",
       "                        })                };                });            </script>        </div>"
      ]
     },
     "metadata": {},
     "output_type": "display_data",
     "jetTransient": {
      "display_id": null
     }
    },
    {
     "data": {
      "application/vnd.plotly.v1+json": {
       "data": [
        {
         "hoverinfo": "none",
         "line": {
          "color": "#888",
          "width": 0.5
         },
         "mode": "lines",
         "x": [
          -0.021825129168766538,
          -0.8549374770091623,
          null,
          0.5207222827433429,
          -0.021825129168766538,
          null,
          -0.23283545019820617,
          -0.8549374770091623,
          null,
          -0.2686665826251809,
          -0.23283545019820617,
          null,
          0.03852187999092012,
          -0.8549374770091623,
          null,
          0.5960338600920086,
          0.03852187999092012,
          null,
          -0.5992622522789871,
          -0.8549374770091623,
          null,
          -0.04023277506721107,
          -0.5992622522789871,
          null,
          0.19057540067983408,
          -0.8549374770091623,
          null,
          0.6860630239722514,
          0.19057540067983408,
          null,
          0.2561472417116364,
          -0.8549374770091623,
          null,
          0.8414441189569212,
          0.2561472417116364,
          null,
          -0.05621296483657174,
          -0.8549374770091623,
          null,
          0.40428355974627594,
          -0.05621296483657174,
          null,
          -0.5391322005407302,
          -0.8549374770091623,
          null,
          -0.5679927710510829,
          -0.5391322005407302,
          null,
          -0.15270402363142116,
          -0.8549374770091623,
          null,
          0.13517824917379206,
          -0.15270402363142116,
          null,
          -0.8176278696612578,
          -0.8549374770091623,
          null,
          -0.2763523446735296,
          -0.8176278696612578,
          null,
          -0.14977755766491274,
          -0.8549374770091623,
          null,
          0.49908254733948243,
          -0.14977755766491274,
          null,
          -0.004691293010435472,
          -0.8549374770091623,
          null,
          0.6349450062441211,
          -0.004691293010435472,
          null,
          -0.008072756704576222,
          -0.8549374770091623,
          null,
          0.6114090922382278,
          -0.008072756704576222,
          null,
          -0.7759256511857887,
          -0.8549374770091623,
          null,
          -0.15371358951447897,
          -0.7759256511857887,
          null,
          -0.8695574197930438,
          -0.8549374770091623,
          null,
          -0.004676201572155022,
          -0.8695574197930438,
          null,
          -0.13580173814616325,
          -0.8549374770091623,
          null,
          0.13288619488984824,
          -0.13580173814616325,
          null,
          0.1517856333287085,
          -0.8549374770091623,
          null,
          0.5880456339051715,
          0.1517856333287085,
          null,
          -0.4649852326986516,
          -0.8549374770091623,
          null,
          -0.4607372917067045,
          -0.4649852326986516,
          null,
          -0.12470843260514931,
          -0.8549374770091623,
          null,
          0.42360631019809325,
          -0.12470843260514931,
          null,
          -0.2731875255666631,
          -0.8549374770091623,
          null,
          0.3894814266075509,
          -0.2731875255666631,
          null,
          0.41679994904700207,
          -0.8549374770091623,
          null,
          1.0,
          0.41679994904700207,
          null,
          0.07970051274702637,
          -0.8549374770091623,
          null,
          0.5806262829776322,
          0.07970051274702637,
          null,
          -0.2633785302933701,
          -0.8549374770091623,
          null,
          0.36004862118841036,
          -0.2633785302933701,
          null,
          -0.18306813533364472,
          -0.8549374770091623,
          null,
          -0.0037360487810188035,
          -0.18306813533364472,
          null,
          0.4283593639350242,
          -0.8549374770091623,
          null,
          0.8546386778100681,
          0.4283593639350242,
          null,
          -0.6635041262154037,
          -0.8549374770091623,
          null,
          -0.6615455702679222,
          -0.6635041262154037,
          null,
          0.04578567291093835,
          -0.8549374770091623,
          null,
          0.3596152846812261,
          0.04578567291093835,
          null,
          -0.8214364735222167,
          -0.8549374770091623,
          null,
          -0.26144706829383535,
          -0.8214364735222167,
          null,
          0.2568148221208824,
          -0.8549374770091623,
          null,
          0.7607136831010207,
          0.2568148221208824,
          null,
          0.09875743366660698,
          -0.8549374770091623,
          null,
          0.6842386743074981,
          0.09875743366660698,
          null,
          -0.26470227528290696,
          -0.8549374770091623,
          null,
          0.06973258592998534,
          -0.26470227528290696,
          null,
          -0.7574129721224401,
          -0.8549374770091623,
          null,
          -0.09929357309156658,
          -0.7574129721224401,
          null,
          0.2676993846468643,
          -0.8549374770091623,
          null,
          0.8672193778086617,
          0.2676993846468643,
          null,
          0.2005640344369065,
          -0.8549374770091623,
          null,
          0.7627362373723618,
          0.2005640344369065,
          null,
          0.0950760582558815,
          -0.8549374770091623,
          null,
          0.6294995989806799,
          0.0950760582558815,
          null,
          0.2909387614487102,
          -0.8549374770091623,
          null,
          0.8472610383153512,
          0.2909387614487102,
          null,
          -0.16299150968715206,
          -0.8549374770091623,
          null,
          0.47802105639388265,
          -0.16299150968715206,
          null,
          0.10142291218509204,
          -0.8549374770091623,
          null,
          0.6361779995551258,
          0.10142291218509204,
          null,
          0.1774928040687385,
          -0.8549374770091623,
          null,
          0.6693695081015597,
          0.1774928040687385,
          null,
          0.22920166949508675,
          -0.8549374770091623,
          null,
          0.8066594881108521,
          0.22920166949508675,
          null,
          0.1199830573009457,
          -0.8549374770091623,
          null,
          0.5194034892008937,
          0.1199830573009457,
          null,
          -0.5245088205400845,
          -0.8549374770091623,
          null,
          -0.6741341837412946,
          -0.5245088205400845,
          null,
          0.035684960412717265,
          -0.8549374770091623,
          null,
          0.43233248665124613,
          0.035684960412717265,
          null,
          -0.864249439058766,
          -0.8549374770091623,
          null,
          -0.4409122134738639,
          -0.864249439058766,
          null,
          -0.14044890785224942,
          -0.8549374770091623,
          null,
          0.2793257028792636,
          -0.14044890785224942,
          null,
          -0.23442981369850396,
          -0.8549374770091623,
          null,
          0.2637115871512201,
          -0.23442981369850396,
          null,
          -0.07225064021353773,
          -0.8549374770091623,
          null,
          0.44565965287112336,
          -0.07225064021353773,
          null,
          -0.7802556269796583,
          -0.8549374770091623,
          null,
          -0.49827135415666585,
          -0.7802556269796583,
          null,
          -0.31441389469365977,
          -0.8549374770091623,
          null,
          -0.20472947723143162,
          -0.31441389469365977,
          null,
          -0.46258390597326315,
          -0.8549374770091623,
          null,
          -0.29396444234650987,
          -0.46258390597326315,
          null,
          -0.09919330940853191,
          -0.8549374770091623,
          null,
          0.4874488463825619,
          -0.09919330940853191,
          null,
          -0.8024723245362602,
          -0.8549374770091623,
          null,
          -0.16801781898150173,
          -0.8024723245362602,
          null,
          0.15623069339699877,
          -0.8549374770091623,
          null,
          0.6166067430976226,
          0.15623069339699877,
          null,
          -0.6298012561239571,
          -0.8549374770091623,
          null,
          -0.19039545347263148,
          -0.6298012561239571,
          null,
          -0.7601730821861543,
          -0.8549374770091623,
          null,
          -0.5442422741333537,
          -0.7601730821861543,
          null,
          -0.7494682719076723,
          -0.8549374770091623,
          null,
          -0.04752549026465527,
          -0.7494682719076723,
          null,
          -0.5481176000462716,
          -0.8549374770091623,
          null,
          0.002231893346766098,
          -0.5481176000462716,
          null,
          -0.8465866477919166,
          -0.8549374770091623,
          null,
          -0.8799396006782431,
          -0.8465866477919166,
          null,
          -0.4126261605403692,
          -0.8549374770091623,
          null,
          0.05678562377017501,
          -0.4126261605403692,
          null,
          0.06966736600450253,
          -0.8549374770091623,
          null,
          0.5393897659499385,
          0.06966736600450253,
          null
         ],
         "y": [
          -0.012305752700267297,
          0.02944605220694127,
          null,
          -0.003038257195077256,
          -0.012305752700267297,
          null,
          -0.09963384556993761,
          0.02944605220694127,
          null,
          -0.5072078553388557,
          -0.09963384556993761,
          null,
          0.0510843435545804,
          0.02944605220694127,
          null,
          0.13061059675366382,
          0.0510843435545804,
          null,
          -0.28227514079896915,
          0.02944605220694127,
          null,
          -0.6182059028303506,
          -0.28227514079896915,
          null,
          -0.17834602151452125,
          0.02944605220694127,
          null,
          -0.48677840157817465,
          -0.17834602151452125,
          null,
          -0.1372081389451184,
          0.02944605220694127,
          null,
          -0.18562213146048556,
          -0.1372081389451184,
          null,
          0.1504931214701562,
          0.02944605220694127,
          null,
          0.4297346753691915,
          0.1504931214701562,
          null,
          -0.18364365706812538,
          0.02944605220694127,
          null,
          -0.5623932892844961,
          -0.18364365706812538,
          null,
          0.061599563021723557,
          0.02944605220694127,
          null,
          0.42275833618398206,
          0.061599563021723557,
          null,
          -0.31332176792471533,
          0.02944605220694127,
          null,
          -0.6282343667865854,
          -0.31332176792471533,
          null,
          -0.20905637521254583,
          0.02944605220694127,
          null,
          -0.505502551343316,
          -0.20905637521254583,
          null,
          -0.24925986685684295,
          0.02944605220694127,
          null,
          -0.3298911515948333,
          -0.24925986685684295,
          null,
          -0.1536643470912464,
          0.02944605220694127,
          null,
          -0.39318686471267733,
          -0.1536643470912464,
          null,
          0.3673850805153911,
          0.02944605220694127,
          null,
          0.6373118295700209,
          0.3673850805153911,
          null,
          -0.14717611352558702,
          0.02944605220694127,
          null,
          -0.1300681965456702,
          -0.14717611352558702,
          null,
          0.2817541393561007,
          0.02944605220694127,
          null,
          0.6917383133548379,
          0.2817541393561007,
          null,
          0.13612843366796504,
          0.02944605220694127,
          null,
          0.3944497957366922,
          0.13612843366796504,
          null,
          0.18563238739033755,
          0.02944605220694127,
          null,
          0.5583950063217493,
          0.18563238739033755,
          null,
          -0.052220317743095795,
          0.02944605220694127,
          null,
          0.012425110585636025,
          -0.052220317743095795,
          null,
          -0.02053289456353709,
          0.02944605220694127,
          null,
          -0.24319347703101626,
          -0.02053289456353709,
          null,
          -0.05852449658527094,
          0.02944605220694127,
          null,
          -0.1003878297293526,
          -0.05852449658527094,
          null,
          -0.0696234580118863,
          0.02944605220694127,
          null,
          -0.20554736101702872,
          -0.0696234580118863,
          null,
          -0.2075667938163271,
          0.02944605220694127,
          null,
          -0.4895269688397331,
          -0.2075667938163271,
          null,
          -0.01051816002771246,
          0.02944605220694127,
          null,
          0.3889859953028476,
          -0.01051816002771246,
          null,
          -0.11060572093691161,
          0.02944605220694127,
          null,
          -0.33242202228780965,
          -0.11060572093691161,
          null,
          0.2546810334602443,
          0.02944605220694127,
          null,
          0.07809739773663715,
          0.2546810334602443,
          null,
          -0.21034783532462975,
          0.02944605220694127,
          null,
          -0.6099903824768792,
          -0.21034783532462975,
          null,
          0.24305376446551652,
          0.02944605220694127,
          null,
          0.4915322180676871,
          0.24305376446551652,
          null,
          0.0989419992441929,
          0.02944605220694127,
          null,
          0.2843477532989786,
          0.0989419992441929,
          null,
          -0.012132823705740323,
          0.02944605220694127,
          null,
          -0.09781045165381644,
          -0.012132823705740323,
          null,
          0.08103242361942042,
          0.02944605220694127,
          null,
          -0.334146839822888,
          0.08103242361942042,
          null,
          0.3023267338360191,
          0.02944605220694127,
          null,
          0.5352025804704943,
          0.3023267338360191,
          null,
          -0.016324156331736145,
          0.02944605220694127,
          null,
          -0.014614019603265973,
          -0.016324156331736145,
          null,
          0.009355632715340734,
          0.02944605220694127,
          null,
          0.05513708911423171,
          0.009355632715340734,
          null,
          0.1020497965436957,
          0.02944605220694127,
          null,
          0.2590476583619522,
          0.1020497965436957,
          null,
          -0.07726142166292059,
          0.02944605220694127,
          null,
          -0.23395859857607756,
          -0.07726142166292059,
          null,
          0.2715443064967818,
          0.02944605220694127,
          null,
          0.4046338517903427,
          0.2715443064967818,
          null,
          -0.15270006593064692,
          0.02944605220694127,
          null,
          -0.3642594461998742,
          -0.15270006593064692,
          null,
          -0.050933144923506264,
          0.02944605220694127,
          null,
          -0.03223148557245625,
          -0.050933144923506264,
          null,
          0.05702063252206438,
          0.02944605220694127,
          null,
          0.15692552739772625,
          0.05702063252206438,
          null,
          0.04687680476362959,
          0.02944605220694127,
          null,
          0.26505630223052984,
          0.04687680476362959,
          null,
          -0.25177607256381856,
          0.02944605220694127,
          null,
          -0.6175184594409427,
          -0.25177607256381856,
          null,
          0.19483085625454233,
          0.02944605220694127,
          null,
          0.5535210432189194,
          0.19483085625454233,
          null,
          0.3262613327151424,
          0.02944605220694127,
          null,
          0.6403399946700888,
          0.3262613327151424,
          null,
          0.13731279374922634,
          0.02944605220694127,
          null,
          0.4094933772704803,
          0.13731279374922634,
          null,
          0.16992113559219277,
          0.02944605220694127,
          null,
          0.4863628370386529,
          0.16992113559219277,
          null,
          0.06021879590778314,
          0.02944605220694127,
          null,
          0.21226780969067138,
          0.06021879590778314,
          null,
          0.4260876094767994,
          0.02944605220694127,
          null,
          0.7841405628659278,
          0.4260876094767994,
          null,
          -0.25291581796650114,
          0.02944605220694127,
          null,
          -0.6960807179037573,
          -0.25291581796650114,
          null,
          0.06891805348709651,
          0.02944605220694127,
          null,
          -0.17656180825198367,
          0.06891805348709651,
          null,
          -0.13365825935070677,
          0.02944605220694127,
          null,
          -0.36942880495612446,
          -0.13365825935070677,
          null,
          0.15737291185759997,
          0.02944605220694127,
          null,
          0.24741613445945665,
          0.15737291185759997,
          null,
          -0.11163545573716399,
          0.02944605220694127,
          null,
          -0.44991156939496296,
          -0.11163545573716399,
          null,
          0.1207323958431678,
          0.02944605220694127,
          null,
          -0.2785387006438671,
          0.1207323958431678,
          null,
          -0.10890136804675365,
          0.02944605220694127,
          null,
          -0.14233828316151878,
          -0.10890136804675365,
          null,
          -0.24543990573756413,
          0.02944605220694127,
          null,
          -0.5185785366513539,
          -0.24543990573756413,
          null,
          0.30222265395640585,
          0.02944605220694127,
          null,
          -0.10177809397192872,
          0.30222265395640585,
          null,
          -0.23584864415589452,
          0.02944605220694127,
          null,
          -0.573534393570897,
          -0.23584864415589452,
          null,
          0.26233210397671586,
          0.02944605220694127,
          null,
          0.5872142385244651,
          0.26233210397671586,
          null,
          0.1539550368700464,
          0.02944605220694127,
          null,
          0.46012709583561384,
          0.1539550368700464,
          null
         ],
         "type": "scatter"
        },
        {
         "hoverinfo": "text",
         "marker": {
          "color": [],
          "colorbar": {
           "thickness": 15,
           "title": {
            "side": "right",
            "text": "Node Connections"
           },
           "xanchor": "left"
          },
          "colorscale": [
           [
            0.0,
            "rgb(255,255,217)"
           ],
           [
            0.125,
            "rgb(237,248,177)"
           ],
           [
            0.25,
            "rgb(199,233,180)"
           ],
           [
            0.375,
            "rgb(127,205,187)"
           ],
           [
            0.5,
            "rgb(65,182,196)"
           ],
           [
            0.625,
            "rgb(29,145,192)"
           ],
           [
            0.75,
            "rgb(34,94,168)"
           ],
           [
            0.875,
            "rgb(37,52,148)"
           ],
           [
            1.0,
            "rgb(8,29,88)"
           ]
          ],
          "line": {
           "width": 2
          },
          "reversescale": true,
          "showscale": true,
          "size": 10
         },
         "mode": "markers",
         "text": [
          "0",
          "Cake, Hot chocolate",
          "Coffee",
          "1",
          "Cookies, Juice",
          "2",
          "Bakewell",
          "3",
          "Granola",
          "4",
          "Scone, Hot chocolate",
          "5",
          "Cookies, Pastry",
          "6",
          "NONE, Brownie",
          "7",
          "Medialuna, Toast",
          "8",
          "NONE, Alfajores",
          "9",
          "Cookies, Hot chocolate",
          "10",
          "Muffin, NONE",
          "11",
          "NONE, Hot chocolate",
          "12",
          "Soup, NONE",
          "13",
          "Cookies, Brownie",
          "14",
          "Salad",
          "15",
          "Tartine",
          "16",
          "Scone, Juice",
          "17",
          "Pastry, NONE",
          "18",
          "Sandwich, Brownie",
          "19",
          "Hot chocolate, Medialuna",
          "20",
          "Tea, Keeping It Local",
          "21",
          "Juice, Jammie Dodgers",
          "22",
          "Sandwich, Medialuna",
          "23",
          "Muffin, Sandwich",
          "24",
          "Cookies, Alfajores",
          "25",
          "Soup, Sandwich",
          "26",
          "Juice, NONE",
          "27",
          "Sandwich, Spanish Brunch",
          "28",
          "Cookies, Medialuna",
          "29",
          "Smoothies, Cake",
          "30",
          "NONE, Cake",
          "31",
          "Pastry, Hot chocolate",
          "32",
          "Pastry, Bread, Hot chocolate",
          "33",
          "NONE, Spanish Brunch",
          "34",
          "Cake, Sandwich",
          "35",
          "Tiffin, Cake",
          "36",
          "Juice, Toast",
          "37",
          "Art Tray",
          "38",
          "NONE, Medialuna",
          "39",
          "Cake, Medialuna",
          "40",
          "Toast",
          "41",
          "Cake, Toast",
          "42",
          "Cake, Sandwich, Tea",
          "43",
          "Juice, Spanish Brunch",
          "44",
          "Cookies, NONE",
          "45",
          "NONE, Toast",
          "46",
          "NONE, Extra Salami or Feta",
          "47",
          "Salad, Cake",
          "48",
          "Juice, Pastry",
          "49",
          "Cookies, Scone",
          "50",
          "Keeping It Local",
          "51",
          "Extra Salami or Feta",
          "52",
          "Salad, Sandwich",
          "53",
          "Vegan mincepie, Cake",
          "54",
          "Scone, NONE",
          "55",
          "Sandwich, Hearty & Seasonal",
          "56",
          "Pastry, Toast",
          "57",
          "Salad, Extra Salami or Feta",
          "58",
          "Medialuna, NONE, Hot chocolate",
          "59",
          "Tartine, NONE"
         ],
         "x": [
          -0.021825129168766538,
          0.5207222827433429,
          -0.8549374770091623,
          -0.23283545019820617,
          -0.2686665826251809,
          0.03852187999092012,
          0.5960338600920086,
          -0.5992622522789871,
          -0.04023277506721107,
          0.19057540067983408,
          0.6860630239722514,
          0.2561472417116364,
          0.8414441189569212,
          -0.05621296483657174,
          0.40428355974627594,
          -0.5391322005407302,
          -0.5679927710510829,
          -0.15270402363142116,
          0.13517824917379206,
          -0.8176278696612578,
          -0.2763523446735296,
          -0.14977755766491274,
          0.49908254733948243,
          -0.004691293010435472,
          0.6349450062441211,
          -0.008072756704576222,
          0.6114090922382278,
          -0.7759256511857887,
          -0.15371358951447897,
          -0.8695574197930438,
          -0.004676201572155022,
          -0.13580173814616325,
          0.13288619488984824,
          0.1517856333287085,
          0.5880456339051715,
          -0.4649852326986516,
          -0.4607372917067045,
          -0.12470843260514931,
          0.42360631019809325,
          -0.2731875255666631,
          0.3894814266075509,
          0.41679994904700207,
          1.0,
          0.07970051274702637,
          0.5806262829776322,
          -0.2633785302933701,
          0.36004862118841036,
          -0.18306813533364472,
          -0.0037360487810188035,
          0.4283593639350242,
          0.8546386778100681,
          -0.6635041262154037,
          -0.6615455702679222,
          0.04578567291093835,
          0.3596152846812261,
          -0.8214364735222167,
          -0.26144706829383535,
          0.2568148221208824,
          0.7607136831010207,
          0.09875743366660698,
          0.6842386743074981,
          -0.26470227528290696,
          0.06973258592998534,
          -0.7574129721224401,
          -0.09929357309156658,
          0.2676993846468643,
          0.8672193778086617,
          0.2005640344369065,
          0.7627362373723618,
          0.0950760582558815,
          0.6294995989806799,
          0.2909387614487102,
          0.8472610383153512,
          -0.16299150968715206,
          0.47802105639388265,
          0.10142291218509204,
          0.6361779995551258,
          0.1774928040687385,
          0.6693695081015597,
          0.22920166949508675,
          0.8066594881108521,
          0.1199830573009457,
          0.5194034892008937,
          -0.5245088205400845,
          -0.6741341837412946,
          0.035684960412717265,
          0.43233248665124613,
          -0.864249439058766,
          -0.4409122134738639,
          -0.14044890785224942,
          0.2793257028792636,
          -0.23442981369850396,
          0.2637115871512201,
          -0.07225064021353773,
          0.44565965287112336,
          -0.7802556269796583,
          -0.49827135415666585,
          -0.31441389469365977,
          -0.20472947723143162,
          -0.46258390597326315,
          -0.29396444234650987,
          -0.09919330940853191,
          0.4874488463825619,
          -0.8024723245362602,
          -0.16801781898150173,
          0.15623069339699877,
          0.6166067430976226,
          -0.6298012561239571,
          -0.19039545347263148,
          -0.7601730821861543,
          -0.5442422741333537,
          -0.7494682719076723,
          -0.04752549026465527,
          -0.5481176000462716,
          0.002231893346766098,
          -0.8465866477919166,
          -0.8799396006782431,
          -0.4126261605403692,
          0.05678562377017501,
          0.06966736600450253,
          0.5393897659499385
         ],
         "y": [
          -0.012305752700267297,
          -0.003038257195077256,
          0.02944605220694127,
          -0.09963384556993761,
          -0.5072078553388557,
          0.0510843435545804,
          0.13061059675366382,
          -0.28227514079896915,
          -0.6182059028303506,
          -0.17834602151452125,
          -0.48677840157817465,
          -0.1372081389451184,
          -0.18562213146048556,
          0.1504931214701562,
          0.4297346753691915,
          -0.18364365706812538,
          -0.5623932892844961,
          0.061599563021723557,
          0.42275833618398206,
          -0.31332176792471533,
          -0.6282343667865854,
          -0.20905637521254583,
          -0.505502551343316,
          -0.24925986685684295,
          -0.3298911515948333,
          -0.1536643470912464,
          -0.39318686471267733,
          0.3673850805153911,
          0.6373118295700209,
          -0.14717611352558702,
          -0.1300681965456702,
          0.2817541393561007,
          0.6917383133548379,
          0.13612843366796504,
          0.3944497957366922,
          0.18563238739033755,
          0.5583950063217493,
          -0.052220317743095795,
          0.012425110585636025,
          -0.02053289456353709,
          -0.24319347703101626,
          -0.05852449658527094,
          -0.1003878297293526,
          -0.0696234580118863,
          -0.20554736101702872,
          -0.2075667938163271,
          -0.4895269688397331,
          -0.01051816002771246,
          0.3889859953028476,
          -0.11060572093691161,
          -0.33242202228780965,
          0.2546810334602443,
          0.07809739773663715,
          -0.21034783532462975,
          -0.6099903824768792,
          0.24305376446551652,
          0.4915322180676871,
          0.0989419992441929,
          0.2843477532989786,
          -0.012132823705740323,
          -0.09781045165381644,
          0.08103242361942042,
          -0.334146839822888,
          0.3023267338360191,
          0.5352025804704943,
          -0.016324156331736145,
          -0.014614019603265973,
          0.009355632715340734,
          0.05513708911423171,
          0.1020497965436957,
          0.2590476583619522,
          -0.07726142166292059,
          -0.23395859857607756,
          0.2715443064967818,
          0.4046338517903427,
          -0.15270006593064692,
          -0.3642594461998742,
          -0.050933144923506264,
          -0.03223148557245625,
          0.05702063252206438,
          0.15692552739772625,
          0.04687680476362959,
          0.26505630223052984,
          -0.25177607256381856,
          -0.6175184594409427,
          0.19483085625454233,
          0.5535210432189194,
          0.3262613327151424,
          0.6403399946700888,
          0.13731279374922634,
          0.4094933772704803,
          0.16992113559219277,
          0.4863628370386529,
          0.06021879590778314,
          0.21226780969067138,
          0.4260876094767994,
          0.7841405628659278,
          -0.25291581796650114,
          -0.6960807179037573,
          0.06891805348709651,
          -0.17656180825198367,
          -0.13365825935070677,
          -0.36942880495612446,
          0.15737291185759997,
          0.24741613445945665,
          -0.11163545573716399,
          -0.44991156939496296,
          0.1207323958431678,
          -0.2785387006438671,
          -0.10890136804675365,
          -0.14233828316151878,
          -0.24543990573756413,
          -0.5185785366513539,
          0.30222265395640585,
          -0.10177809397192872,
          -0.23584864415589452,
          -0.573534393570897,
          0.26233210397671586,
          0.5872142385244651,
          0.1539550368700464,
          0.46012709583561384
         ],
         "type": "scatter"
        }
       ],
       "layout": {
        "annotations": [
         {
          "showarrow": false,
          "text": "Python code: <a href='https://plotly.com/ipython-notebooks/network-graphs/'> https://plotly.com/ipython-notebooks/network-graphs/</a>",
          "x": 0.005,
          "xref": "paper",
          "y": -0.002,
          "yref": "paper"
         }
        ],
        "hovermode": "closest",
        "margin": {
         "b": 20,
         "l": 5,
         "r": 5,
         "t": 40
        },
        "showlegend": false,
        "title": {
         "font": {
          "size": 16
         },
         "text": "<br>Network graph made with Python"
        },
        "xaxis": {
         "showgrid": false,
         "showticklabels": false,
         "zeroline": false
        },
        "yaxis": {
         "showgrid": false,
         "showticklabels": false,
         "zeroline": false
        },
        "template": {
         "data": {
          "histogram2dcontour": [
           {
            "type": "histogram2dcontour",
            "colorbar": {
             "outlinewidth": 0,
             "ticks": ""
            },
            "colorscale": [
             [
              0.0,
              "#0d0887"
             ],
             [
              0.1111111111111111,
              "#46039f"
             ],
             [
              0.2222222222222222,
              "#7201a8"
             ],
             [
              0.3333333333333333,
              "#9c179e"
             ],
             [
              0.4444444444444444,
              "#bd3786"
             ],
             [
              0.5555555555555556,
              "#d8576b"
             ],
             [
              0.6666666666666666,
              "#ed7953"
             ],
             [
              0.7777777777777778,
              "#fb9f3a"
             ],
             [
              0.8888888888888888,
              "#fdca26"
             ],
             [
              1.0,
              "#f0f921"
             ]
            ]
           }
          ],
          "choropleth": [
           {
            "type": "choropleth",
            "colorbar": {
             "outlinewidth": 0,
             "ticks": ""
            }
           }
          ],
          "histogram2d": [
           {
            "type": "histogram2d",
            "colorbar": {
             "outlinewidth": 0,
             "ticks": ""
            },
            "colorscale": [
             [
              0.0,
              "#0d0887"
             ],
             [
              0.1111111111111111,
              "#46039f"
             ],
             [
              0.2222222222222222,
              "#7201a8"
             ],
             [
              0.3333333333333333,
              "#9c179e"
             ],
             [
              0.4444444444444444,
              "#bd3786"
             ],
             [
              0.5555555555555556,
              "#d8576b"
             ],
             [
              0.6666666666666666,
              "#ed7953"
             ],
             [
              0.7777777777777778,
              "#fb9f3a"
             ],
             [
              0.8888888888888888,
              "#fdca26"
             ],
             [
              1.0,
              "#f0f921"
             ]
            ]
           }
          ],
          "heatmap": [
           {
            "type": "heatmap",
            "colorbar": {
             "outlinewidth": 0,
             "ticks": ""
            },
            "colorscale": [
             [
              0.0,
              "#0d0887"
             ],
             [
              0.1111111111111111,
              "#46039f"
             ],
             [
              0.2222222222222222,
              "#7201a8"
             ],
             [
              0.3333333333333333,
              "#9c179e"
             ],
             [
              0.4444444444444444,
              "#bd3786"
             ],
             [
              0.5555555555555556,
              "#d8576b"
             ],
             [
              0.6666666666666666,
              "#ed7953"
             ],
             [
              0.7777777777777778,
              "#fb9f3a"
             ],
             [
              0.8888888888888888,
              "#fdca26"
             ],
             [
              1.0,
              "#f0f921"
             ]
            ]
           }
          ],
          "heatmapgl": [
           {
            "type": "heatmapgl",
            "colorbar": {
             "outlinewidth": 0,
             "ticks": ""
            },
            "colorscale": [
             [
              0.0,
              "#0d0887"
             ],
             [
              0.1111111111111111,
              "#46039f"
             ],
             [
              0.2222222222222222,
              "#7201a8"
             ],
             [
              0.3333333333333333,
              "#9c179e"
             ],
             [
              0.4444444444444444,
              "#bd3786"
             ],
             [
              0.5555555555555556,
              "#d8576b"
             ],
             [
              0.6666666666666666,
              "#ed7953"
             ],
             [
              0.7777777777777778,
              "#fb9f3a"
             ],
             [
              0.8888888888888888,
              "#fdca26"
             ],
             [
              1.0,
              "#f0f921"
             ]
            ]
           }
          ],
          "contourcarpet": [
           {
            "type": "contourcarpet",
            "colorbar": {
             "outlinewidth": 0,
             "ticks": ""
            }
           }
          ],
          "contour": [
           {
            "type": "contour",
            "colorbar": {
             "outlinewidth": 0,
             "ticks": ""
            },
            "colorscale": [
             [
              0.0,
              "#0d0887"
             ],
             [
              0.1111111111111111,
              "#46039f"
             ],
             [
              0.2222222222222222,
              "#7201a8"
             ],
             [
              0.3333333333333333,
              "#9c179e"
             ],
             [
              0.4444444444444444,
              "#bd3786"
             ],
             [
              0.5555555555555556,
              "#d8576b"
             ],
             [
              0.6666666666666666,
              "#ed7953"
             ],
             [
              0.7777777777777778,
              "#fb9f3a"
             ],
             [
              0.8888888888888888,
              "#fdca26"
             ],
             [
              1.0,
              "#f0f921"
             ]
            ]
           }
          ],
          "surface": [
           {
            "type": "surface",
            "colorbar": {
             "outlinewidth": 0,
             "ticks": ""
            },
            "colorscale": [
             [
              0.0,
              "#0d0887"
             ],
             [
              0.1111111111111111,
              "#46039f"
             ],
             [
              0.2222222222222222,
              "#7201a8"
             ],
             [
              0.3333333333333333,
              "#9c179e"
             ],
             [
              0.4444444444444444,
              "#bd3786"
             ],
             [
              0.5555555555555556,
              "#d8576b"
             ],
             [
              0.6666666666666666,
              "#ed7953"
             ],
             [
              0.7777777777777778,
              "#fb9f3a"
             ],
             [
              0.8888888888888888,
              "#fdca26"
             ],
             [
              1.0,
              "#f0f921"
             ]
            ]
           }
          ],
          "mesh3d": [
           {
            "type": "mesh3d",
            "colorbar": {
             "outlinewidth": 0,
             "ticks": ""
            }
           }
          ],
          "scatter": [
           {
            "fillpattern": {
             "fillmode": "overlay",
             "size": 10,
             "solidity": 0.2
            },
            "type": "scatter"
           }
          ],
          "parcoords": [
           {
            "type": "parcoords",
            "line": {
             "colorbar": {
              "outlinewidth": 0,
              "ticks": ""
             }
            }
           }
          ],
          "scatterpolargl": [
           {
            "type": "scatterpolargl",
            "marker": {
             "colorbar": {
              "outlinewidth": 0,
              "ticks": ""
             }
            }
           }
          ],
          "bar": [
           {
            "error_x": {
             "color": "#2a3f5f"
            },
            "error_y": {
             "color": "#2a3f5f"
            },
            "marker": {
             "line": {
              "color": "#E5ECF6",
              "width": 0.5
             },
             "pattern": {
              "fillmode": "overlay",
              "size": 10,
              "solidity": 0.2
             }
            },
            "type": "bar"
           }
          ],
          "scattergeo": [
           {
            "type": "scattergeo",
            "marker": {
             "colorbar": {
              "outlinewidth": 0,
              "ticks": ""
             }
            }
           }
          ],
          "scatterpolar": [
           {
            "type": "scatterpolar",
            "marker": {
             "colorbar": {
              "outlinewidth": 0,
              "ticks": ""
             }
            }
           }
          ],
          "histogram": [
           {
            "marker": {
             "pattern": {
              "fillmode": "overlay",
              "size": 10,
              "solidity": 0.2
             }
            },
            "type": "histogram"
           }
          ],
          "scattergl": [
           {
            "type": "scattergl",
            "marker": {
             "colorbar": {
              "outlinewidth": 0,
              "ticks": ""
             }
            }
           }
          ],
          "scatter3d": [
           {
            "type": "scatter3d",
            "line": {
             "colorbar": {
              "outlinewidth": 0,
              "ticks": ""
             }
            },
            "marker": {
             "colorbar": {
              "outlinewidth": 0,
              "ticks": ""
             }
            }
           }
          ],
          "scattermapbox": [
           {
            "type": "scattermapbox",
            "marker": {
             "colorbar": {
              "outlinewidth": 0,
              "ticks": ""
             }
            }
           }
          ],
          "scatterternary": [
           {
            "type": "scatterternary",
            "marker": {
             "colorbar": {
              "outlinewidth": 0,
              "ticks": ""
             }
            }
           }
          ],
          "scattercarpet": [
           {
            "type": "scattercarpet",
            "marker": {
             "colorbar": {
              "outlinewidth": 0,
              "ticks": ""
             }
            }
           }
          ],
          "carpet": [
           {
            "aaxis": {
             "endlinecolor": "#2a3f5f",
             "gridcolor": "white",
             "linecolor": "white",
             "minorgridcolor": "white",
             "startlinecolor": "#2a3f5f"
            },
            "baxis": {
             "endlinecolor": "#2a3f5f",
             "gridcolor": "white",
             "linecolor": "white",
             "minorgridcolor": "white",
             "startlinecolor": "#2a3f5f"
            },
            "type": "carpet"
           }
          ],
          "table": [
           {
            "cells": {
             "fill": {
              "color": "#EBF0F8"
             },
             "line": {
              "color": "white"
             }
            },
            "header": {
             "fill": {
              "color": "#C8D4E3"
             },
             "line": {
              "color": "white"
             }
            },
            "type": "table"
           }
          ],
          "barpolar": [
           {
            "marker": {
             "line": {
              "color": "#E5ECF6",
              "width": 0.5
             },
             "pattern": {
              "fillmode": "overlay",
              "size": 10,
              "solidity": 0.2
             }
            },
            "type": "barpolar"
           }
          ],
          "pie": [
           {
            "automargin": true,
            "type": "pie"
           }
          ]
         },
         "layout": {
          "autotypenumbers": "strict",
          "colorway": [
           "#636efa",
           "#EF553B",
           "#00cc96",
           "#ab63fa",
           "#FFA15A",
           "#19d3f3",
           "#FF6692",
           "#B6E880",
           "#FF97FF",
           "#FECB52"
          ],
          "font": {
           "color": "#2a3f5f"
          },
          "hovermode": "closest",
          "hoverlabel": {
           "align": "left"
          },
          "paper_bgcolor": "white",
          "plot_bgcolor": "#E5ECF6",
          "polar": {
           "bgcolor": "#E5ECF6",
           "angularaxis": {
            "gridcolor": "white",
            "linecolor": "white",
            "ticks": ""
           },
           "radialaxis": {
            "gridcolor": "white",
            "linecolor": "white",
            "ticks": ""
           }
          },
          "ternary": {
           "bgcolor": "#E5ECF6",
           "aaxis": {
            "gridcolor": "white",
            "linecolor": "white",
            "ticks": ""
           },
           "baxis": {
            "gridcolor": "white",
            "linecolor": "white",
            "ticks": ""
           },
           "caxis": {
            "gridcolor": "white",
            "linecolor": "white",
            "ticks": ""
           }
          },
          "coloraxis": {
           "colorbar": {
            "outlinewidth": 0,
            "ticks": ""
           }
          },
          "colorscale": {
           "sequential": [
            [
             0.0,
             "#0d0887"
            ],
            [
             0.1111111111111111,
             "#46039f"
            ],
            [
             0.2222222222222222,
             "#7201a8"
            ],
            [
             0.3333333333333333,
             "#9c179e"
            ],
            [
             0.4444444444444444,
             "#bd3786"
            ],
            [
             0.5555555555555556,
             "#d8576b"
            ],
            [
             0.6666666666666666,
             "#ed7953"
            ],
            [
             0.7777777777777778,
             "#fb9f3a"
            ],
            [
             0.8888888888888888,
             "#fdca26"
            ],
            [
             1.0,
             "#f0f921"
            ]
           ],
           "sequentialminus": [
            [
             0.0,
             "#0d0887"
            ],
            [
             0.1111111111111111,
             "#46039f"
            ],
            [
             0.2222222222222222,
             "#7201a8"
            ],
            [
             0.3333333333333333,
             "#9c179e"
            ],
            [
             0.4444444444444444,
             "#bd3786"
            ],
            [
             0.5555555555555556,
             "#d8576b"
            ],
            [
             0.6666666666666666,
             "#ed7953"
            ],
            [
             0.7777777777777778,
             "#fb9f3a"
            ],
            [
             0.8888888888888888,
             "#fdca26"
            ],
            [
             1.0,
             "#f0f921"
            ]
           ],
           "diverging": [
            [
             0,
             "#8e0152"
            ],
            [
             0.1,
             "#c51b7d"
            ],
            [
             0.2,
             "#de77ae"
            ],
            [
             0.3,
             "#f1b6da"
            ],
            [
             0.4,
             "#fde0ef"
            ],
            [
             0.5,
             "#f7f7f7"
            ],
            [
             0.6,
             "#e6f5d0"
            ],
            [
             0.7,
             "#b8e186"
            ],
            [
             0.8,
             "#7fbc41"
            ],
            [
             0.9,
             "#4d9221"
            ],
            [
             1,
             "#276419"
            ]
           ]
          },
          "xaxis": {
           "gridcolor": "white",
           "linecolor": "white",
           "ticks": "",
           "title": {
            "standoff": 15
           },
           "zerolinecolor": "white",
           "automargin": true,
           "zerolinewidth": 2
          },
          "yaxis": {
           "gridcolor": "white",
           "linecolor": "white",
           "ticks": "",
           "title": {
            "standoff": 15
           },
           "zerolinecolor": "white",
           "automargin": true,
           "zerolinewidth": 2
          },
          "scene": {
           "xaxis": {
            "backgroundcolor": "#E5ECF6",
            "gridcolor": "white",
            "linecolor": "white",
            "showbackground": true,
            "ticks": "",
            "zerolinecolor": "white",
            "gridwidth": 2
           },
           "yaxis": {
            "backgroundcolor": "#E5ECF6",
            "gridcolor": "white",
            "linecolor": "white",
            "showbackground": true,
            "ticks": "",
            "zerolinecolor": "white",
            "gridwidth": 2
           },
           "zaxis": {
            "backgroundcolor": "#E5ECF6",
            "gridcolor": "white",
            "linecolor": "white",
            "showbackground": true,
            "ticks": "",
            "zerolinecolor": "white",
            "gridwidth": 2
           }
          },
          "shapedefaults": {
           "line": {
            "color": "#2a3f5f"
           }
          },
          "annotationdefaults": {
           "arrowcolor": "#2a3f5f",
           "arrowhead": 0,
           "arrowwidth": 1
          },
          "geo": {
           "bgcolor": "white",
           "landcolor": "#E5ECF6",
           "subunitcolor": "white",
           "showland": true,
           "showlakes": true,
           "lakecolor": "white"
          },
          "title": {
           "x": 0.05
          },
          "mapbox": {
           "style": "light"
          }
         }
        }
       },
       "config": {
        "plotlyServerURL": "https://plot.ly"
       }
      },
      "text/html": [
       "<div>                            <div id=\"93afbac6-249a-45ba-825c-1a67c308ab89\" class=\"plotly-graph-div\" style=\"height:525px; width:100%;\"></div>            <script type=\"text/javascript\">                require([\"plotly\"], function(Plotly) {                    window.PLOTLYENV=window.PLOTLYENV || {};                                    if (document.getElementById(\"93afbac6-249a-45ba-825c-1a67c308ab89\")) {                    Plotly.newPlot(                        \"93afbac6-249a-45ba-825c-1a67c308ab89\",                        [{\"hoverinfo\":\"none\",\"line\":{\"color\":\"#888\",\"width\":0.5},\"mode\":\"lines\",\"x\":[-0.021825129168766538,-0.8549374770091623,null,0.5207222827433429,-0.021825129168766538,null,-0.23283545019820617,-0.8549374770091623,null,-0.2686665826251809,-0.23283545019820617,null,0.03852187999092012,-0.8549374770091623,null,0.5960338600920086,0.03852187999092012,null,-0.5992622522789871,-0.8549374770091623,null,-0.04023277506721107,-0.5992622522789871,null,0.19057540067983408,-0.8549374770091623,null,0.6860630239722514,0.19057540067983408,null,0.2561472417116364,-0.8549374770091623,null,0.8414441189569212,0.2561472417116364,null,-0.05621296483657174,-0.8549374770091623,null,0.40428355974627594,-0.05621296483657174,null,-0.5391322005407302,-0.8549374770091623,null,-0.5679927710510829,-0.5391322005407302,null,-0.15270402363142116,-0.8549374770091623,null,0.13517824917379206,-0.15270402363142116,null,-0.8176278696612578,-0.8549374770091623,null,-0.2763523446735296,-0.8176278696612578,null,-0.14977755766491274,-0.8549374770091623,null,0.49908254733948243,-0.14977755766491274,null,-0.004691293010435472,-0.8549374770091623,null,0.6349450062441211,-0.004691293010435472,null,-0.008072756704576222,-0.8549374770091623,null,0.6114090922382278,-0.008072756704576222,null,-0.7759256511857887,-0.8549374770091623,null,-0.15371358951447897,-0.7759256511857887,null,-0.8695574197930438,-0.8549374770091623,null,-0.004676201572155022,-0.8695574197930438,null,-0.13580173814616325,-0.8549374770091623,null,0.13288619488984824,-0.13580173814616325,null,0.1517856333287085,-0.8549374770091623,null,0.5880456339051715,0.1517856333287085,null,-0.4649852326986516,-0.8549374770091623,null,-0.4607372917067045,-0.4649852326986516,null,-0.12470843260514931,-0.8549374770091623,null,0.42360631019809325,-0.12470843260514931,null,-0.2731875255666631,-0.8549374770091623,null,0.3894814266075509,-0.2731875255666631,null,0.41679994904700207,-0.8549374770091623,null,1.0,0.41679994904700207,null,0.07970051274702637,-0.8549374770091623,null,0.5806262829776322,0.07970051274702637,null,-0.2633785302933701,-0.8549374770091623,null,0.36004862118841036,-0.2633785302933701,null,-0.18306813533364472,-0.8549374770091623,null,-0.0037360487810188035,-0.18306813533364472,null,0.4283593639350242,-0.8549374770091623,null,0.8546386778100681,0.4283593639350242,null,-0.6635041262154037,-0.8549374770091623,null,-0.6615455702679222,-0.6635041262154037,null,0.04578567291093835,-0.8549374770091623,null,0.3596152846812261,0.04578567291093835,null,-0.8214364735222167,-0.8549374770091623,null,-0.26144706829383535,-0.8214364735222167,null,0.2568148221208824,-0.8549374770091623,null,0.7607136831010207,0.2568148221208824,null,0.09875743366660698,-0.8549374770091623,null,0.6842386743074981,0.09875743366660698,null,-0.26470227528290696,-0.8549374770091623,null,0.06973258592998534,-0.26470227528290696,null,-0.7574129721224401,-0.8549374770091623,null,-0.09929357309156658,-0.7574129721224401,null,0.2676993846468643,-0.8549374770091623,null,0.8672193778086617,0.2676993846468643,null,0.2005640344369065,-0.8549374770091623,null,0.7627362373723618,0.2005640344369065,null,0.0950760582558815,-0.8549374770091623,null,0.6294995989806799,0.0950760582558815,null,0.2909387614487102,-0.8549374770091623,null,0.8472610383153512,0.2909387614487102,null,-0.16299150968715206,-0.8549374770091623,null,0.47802105639388265,-0.16299150968715206,null,0.10142291218509204,-0.8549374770091623,null,0.6361779995551258,0.10142291218509204,null,0.1774928040687385,-0.8549374770091623,null,0.6693695081015597,0.1774928040687385,null,0.22920166949508675,-0.8549374770091623,null,0.8066594881108521,0.22920166949508675,null,0.1199830573009457,-0.8549374770091623,null,0.5194034892008937,0.1199830573009457,null,-0.5245088205400845,-0.8549374770091623,null,-0.6741341837412946,-0.5245088205400845,null,0.035684960412717265,-0.8549374770091623,null,0.43233248665124613,0.035684960412717265,null,-0.864249439058766,-0.8549374770091623,null,-0.4409122134738639,-0.864249439058766,null,-0.14044890785224942,-0.8549374770091623,null,0.2793257028792636,-0.14044890785224942,null,-0.23442981369850396,-0.8549374770091623,null,0.2637115871512201,-0.23442981369850396,null,-0.07225064021353773,-0.8549374770091623,null,0.44565965287112336,-0.07225064021353773,null,-0.7802556269796583,-0.8549374770091623,null,-0.49827135415666585,-0.7802556269796583,null,-0.31441389469365977,-0.8549374770091623,null,-0.20472947723143162,-0.31441389469365977,null,-0.46258390597326315,-0.8549374770091623,null,-0.29396444234650987,-0.46258390597326315,null,-0.09919330940853191,-0.8549374770091623,null,0.4874488463825619,-0.09919330940853191,null,-0.8024723245362602,-0.8549374770091623,null,-0.16801781898150173,-0.8024723245362602,null,0.15623069339699877,-0.8549374770091623,null,0.6166067430976226,0.15623069339699877,null,-0.6298012561239571,-0.8549374770091623,null,-0.19039545347263148,-0.6298012561239571,null,-0.7601730821861543,-0.8549374770091623,null,-0.5442422741333537,-0.7601730821861543,null,-0.7494682719076723,-0.8549374770091623,null,-0.04752549026465527,-0.7494682719076723,null,-0.5481176000462716,-0.8549374770091623,null,0.002231893346766098,-0.5481176000462716,null,-0.8465866477919166,-0.8549374770091623,null,-0.8799396006782431,-0.8465866477919166,null,-0.4126261605403692,-0.8549374770091623,null,0.05678562377017501,-0.4126261605403692,null,0.06966736600450253,-0.8549374770091623,null,0.5393897659499385,0.06966736600450253,null],\"y\":[-0.012305752700267297,0.02944605220694127,null,-0.003038257195077256,-0.012305752700267297,null,-0.09963384556993761,0.02944605220694127,null,-0.5072078553388557,-0.09963384556993761,null,0.0510843435545804,0.02944605220694127,null,0.13061059675366382,0.0510843435545804,null,-0.28227514079896915,0.02944605220694127,null,-0.6182059028303506,-0.28227514079896915,null,-0.17834602151452125,0.02944605220694127,null,-0.48677840157817465,-0.17834602151452125,null,-0.1372081389451184,0.02944605220694127,null,-0.18562213146048556,-0.1372081389451184,null,0.1504931214701562,0.02944605220694127,null,0.4297346753691915,0.1504931214701562,null,-0.18364365706812538,0.02944605220694127,null,-0.5623932892844961,-0.18364365706812538,null,0.061599563021723557,0.02944605220694127,null,0.42275833618398206,0.061599563021723557,null,-0.31332176792471533,0.02944605220694127,null,-0.6282343667865854,-0.31332176792471533,null,-0.20905637521254583,0.02944605220694127,null,-0.505502551343316,-0.20905637521254583,null,-0.24925986685684295,0.02944605220694127,null,-0.3298911515948333,-0.24925986685684295,null,-0.1536643470912464,0.02944605220694127,null,-0.39318686471267733,-0.1536643470912464,null,0.3673850805153911,0.02944605220694127,null,0.6373118295700209,0.3673850805153911,null,-0.14717611352558702,0.02944605220694127,null,-0.1300681965456702,-0.14717611352558702,null,0.2817541393561007,0.02944605220694127,null,0.6917383133548379,0.2817541393561007,null,0.13612843366796504,0.02944605220694127,null,0.3944497957366922,0.13612843366796504,null,0.18563238739033755,0.02944605220694127,null,0.5583950063217493,0.18563238739033755,null,-0.052220317743095795,0.02944605220694127,null,0.012425110585636025,-0.052220317743095795,null,-0.02053289456353709,0.02944605220694127,null,-0.24319347703101626,-0.02053289456353709,null,-0.05852449658527094,0.02944605220694127,null,-0.1003878297293526,-0.05852449658527094,null,-0.0696234580118863,0.02944605220694127,null,-0.20554736101702872,-0.0696234580118863,null,-0.2075667938163271,0.02944605220694127,null,-0.4895269688397331,-0.2075667938163271,null,-0.01051816002771246,0.02944605220694127,null,0.3889859953028476,-0.01051816002771246,null,-0.11060572093691161,0.02944605220694127,null,-0.33242202228780965,-0.11060572093691161,null,0.2546810334602443,0.02944605220694127,null,0.07809739773663715,0.2546810334602443,null,-0.21034783532462975,0.02944605220694127,null,-0.6099903824768792,-0.21034783532462975,null,0.24305376446551652,0.02944605220694127,null,0.4915322180676871,0.24305376446551652,null,0.0989419992441929,0.02944605220694127,null,0.2843477532989786,0.0989419992441929,null,-0.012132823705740323,0.02944605220694127,null,-0.09781045165381644,-0.012132823705740323,null,0.08103242361942042,0.02944605220694127,null,-0.334146839822888,0.08103242361942042,null,0.3023267338360191,0.02944605220694127,null,0.5352025804704943,0.3023267338360191,null,-0.016324156331736145,0.02944605220694127,null,-0.014614019603265973,-0.016324156331736145,null,0.009355632715340734,0.02944605220694127,null,0.05513708911423171,0.009355632715340734,null,0.1020497965436957,0.02944605220694127,null,0.2590476583619522,0.1020497965436957,null,-0.07726142166292059,0.02944605220694127,null,-0.23395859857607756,-0.07726142166292059,null,0.2715443064967818,0.02944605220694127,null,0.4046338517903427,0.2715443064967818,null,-0.15270006593064692,0.02944605220694127,null,-0.3642594461998742,-0.15270006593064692,null,-0.050933144923506264,0.02944605220694127,null,-0.03223148557245625,-0.050933144923506264,null,0.05702063252206438,0.02944605220694127,null,0.15692552739772625,0.05702063252206438,null,0.04687680476362959,0.02944605220694127,null,0.26505630223052984,0.04687680476362959,null,-0.25177607256381856,0.02944605220694127,null,-0.6175184594409427,-0.25177607256381856,null,0.19483085625454233,0.02944605220694127,null,0.5535210432189194,0.19483085625454233,null,0.3262613327151424,0.02944605220694127,null,0.6403399946700888,0.3262613327151424,null,0.13731279374922634,0.02944605220694127,null,0.4094933772704803,0.13731279374922634,null,0.16992113559219277,0.02944605220694127,null,0.4863628370386529,0.16992113559219277,null,0.06021879590778314,0.02944605220694127,null,0.21226780969067138,0.06021879590778314,null,0.4260876094767994,0.02944605220694127,null,0.7841405628659278,0.4260876094767994,null,-0.25291581796650114,0.02944605220694127,null,-0.6960807179037573,-0.25291581796650114,null,0.06891805348709651,0.02944605220694127,null,-0.17656180825198367,0.06891805348709651,null,-0.13365825935070677,0.02944605220694127,null,-0.36942880495612446,-0.13365825935070677,null,0.15737291185759997,0.02944605220694127,null,0.24741613445945665,0.15737291185759997,null,-0.11163545573716399,0.02944605220694127,null,-0.44991156939496296,-0.11163545573716399,null,0.1207323958431678,0.02944605220694127,null,-0.2785387006438671,0.1207323958431678,null,-0.10890136804675365,0.02944605220694127,null,-0.14233828316151878,-0.10890136804675365,null,-0.24543990573756413,0.02944605220694127,null,-0.5185785366513539,-0.24543990573756413,null,0.30222265395640585,0.02944605220694127,null,-0.10177809397192872,0.30222265395640585,null,-0.23584864415589452,0.02944605220694127,null,-0.573534393570897,-0.23584864415589452,null,0.26233210397671586,0.02944605220694127,null,0.5872142385244651,0.26233210397671586,null,0.1539550368700464,0.02944605220694127,null,0.46012709583561384,0.1539550368700464,null],\"type\":\"scatter\"},{\"hoverinfo\":\"text\",\"marker\":{\"color\":[],\"colorbar\":{\"thickness\":15,\"title\":{\"side\":\"right\",\"text\":\"Node Connections\"},\"xanchor\":\"left\"},\"colorscale\":[[0.0,\"rgb(255,255,217)\"],[0.125,\"rgb(237,248,177)\"],[0.25,\"rgb(199,233,180)\"],[0.375,\"rgb(127,205,187)\"],[0.5,\"rgb(65,182,196)\"],[0.625,\"rgb(29,145,192)\"],[0.75,\"rgb(34,94,168)\"],[0.875,\"rgb(37,52,148)\"],[1.0,\"rgb(8,29,88)\"]],\"line\":{\"width\":2},\"reversescale\":true,\"showscale\":true,\"size\":10},\"mode\":\"markers\",\"text\":[\"0\",\"Cake, Hot chocolate\",\"Coffee\",\"1\",\"Cookies, Juice\",\"2\",\"Bakewell\",\"3\",\"Granola\",\"4\",\"Scone, Hot chocolate\",\"5\",\"Cookies, Pastry\",\"6\",\"NONE, Brownie\",\"7\",\"Medialuna, Toast\",\"8\",\"NONE, Alfajores\",\"9\",\"Cookies, Hot chocolate\",\"10\",\"Muffin, NONE\",\"11\",\"NONE, Hot chocolate\",\"12\",\"Soup, NONE\",\"13\",\"Cookies, Brownie\",\"14\",\"Salad\",\"15\",\"Tartine\",\"16\",\"Scone, Juice\",\"17\",\"Pastry, NONE\",\"18\",\"Sandwich, Brownie\",\"19\",\"Hot chocolate, Medialuna\",\"20\",\"Tea, Keeping It Local\",\"21\",\"Juice, Jammie Dodgers\",\"22\",\"Sandwich, Medialuna\",\"23\",\"Muffin, Sandwich\",\"24\",\"Cookies, Alfajores\",\"25\",\"Soup, Sandwich\",\"26\",\"Juice, NONE\",\"27\",\"Sandwich, Spanish Brunch\",\"28\",\"Cookies, Medialuna\",\"29\",\"Smoothies, Cake\",\"30\",\"NONE, Cake\",\"31\",\"Pastry, Hot chocolate\",\"32\",\"Pastry, Bread, Hot chocolate\",\"33\",\"NONE, Spanish Brunch\",\"34\",\"Cake, Sandwich\",\"35\",\"Tiffin, Cake\",\"36\",\"Juice, Toast\",\"37\",\"Art Tray\",\"38\",\"NONE, Medialuna\",\"39\",\"Cake, Medialuna\",\"40\",\"Toast\",\"41\",\"Cake, Toast\",\"42\",\"Cake, Sandwich, Tea\",\"43\",\"Juice, Spanish Brunch\",\"44\",\"Cookies, NONE\",\"45\",\"NONE, Toast\",\"46\",\"NONE, Extra Salami or Feta\",\"47\",\"Salad, Cake\",\"48\",\"Juice, Pastry\",\"49\",\"Cookies, Scone\",\"50\",\"Keeping It Local\",\"51\",\"Extra Salami or Feta\",\"52\",\"Salad, Sandwich\",\"53\",\"Vegan mincepie, Cake\",\"54\",\"Scone, NONE\",\"55\",\"Sandwich, Hearty & Seasonal\",\"56\",\"Pastry, Toast\",\"57\",\"Salad, Extra Salami or Feta\",\"58\",\"Medialuna, NONE, Hot chocolate\",\"59\",\"Tartine, NONE\"],\"x\":[-0.021825129168766538,0.5207222827433429,-0.8549374770091623,-0.23283545019820617,-0.2686665826251809,0.03852187999092012,0.5960338600920086,-0.5992622522789871,-0.04023277506721107,0.19057540067983408,0.6860630239722514,0.2561472417116364,0.8414441189569212,-0.05621296483657174,0.40428355974627594,-0.5391322005407302,-0.5679927710510829,-0.15270402363142116,0.13517824917379206,-0.8176278696612578,-0.2763523446735296,-0.14977755766491274,0.49908254733948243,-0.004691293010435472,0.6349450062441211,-0.008072756704576222,0.6114090922382278,-0.7759256511857887,-0.15371358951447897,-0.8695574197930438,-0.004676201572155022,-0.13580173814616325,0.13288619488984824,0.1517856333287085,0.5880456339051715,-0.4649852326986516,-0.4607372917067045,-0.12470843260514931,0.42360631019809325,-0.2731875255666631,0.3894814266075509,0.41679994904700207,1.0,0.07970051274702637,0.5806262829776322,-0.2633785302933701,0.36004862118841036,-0.18306813533364472,-0.0037360487810188035,0.4283593639350242,0.8546386778100681,-0.6635041262154037,-0.6615455702679222,0.04578567291093835,0.3596152846812261,-0.8214364735222167,-0.26144706829383535,0.2568148221208824,0.7607136831010207,0.09875743366660698,0.6842386743074981,-0.26470227528290696,0.06973258592998534,-0.7574129721224401,-0.09929357309156658,0.2676993846468643,0.8672193778086617,0.2005640344369065,0.7627362373723618,0.0950760582558815,0.6294995989806799,0.2909387614487102,0.8472610383153512,-0.16299150968715206,0.47802105639388265,0.10142291218509204,0.6361779995551258,0.1774928040687385,0.6693695081015597,0.22920166949508675,0.8066594881108521,0.1199830573009457,0.5194034892008937,-0.5245088205400845,-0.6741341837412946,0.035684960412717265,0.43233248665124613,-0.864249439058766,-0.4409122134738639,-0.14044890785224942,0.2793257028792636,-0.23442981369850396,0.2637115871512201,-0.07225064021353773,0.44565965287112336,-0.7802556269796583,-0.49827135415666585,-0.31441389469365977,-0.20472947723143162,-0.46258390597326315,-0.29396444234650987,-0.09919330940853191,0.4874488463825619,-0.8024723245362602,-0.16801781898150173,0.15623069339699877,0.6166067430976226,-0.6298012561239571,-0.19039545347263148,-0.7601730821861543,-0.5442422741333537,-0.7494682719076723,-0.04752549026465527,-0.5481176000462716,0.002231893346766098,-0.8465866477919166,-0.8799396006782431,-0.4126261605403692,0.05678562377017501,0.06966736600450253,0.5393897659499385],\"y\":[-0.012305752700267297,-0.003038257195077256,0.02944605220694127,-0.09963384556993761,-0.5072078553388557,0.0510843435545804,0.13061059675366382,-0.28227514079896915,-0.6182059028303506,-0.17834602151452125,-0.48677840157817465,-0.1372081389451184,-0.18562213146048556,0.1504931214701562,0.4297346753691915,-0.18364365706812538,-0.5623932892844961,0.061599563021723557,0.42275833618398206,-0.31332176792471533,-0.6282343667865854,-0.20905637521254583,-0.505502551343316,-0.24925986685684295,-0.3298911515948333,-0.1536643470912464,-0.39318686471267733,0.3673850805153911,0.6373118295700209,-0.14717611352558702,-0.1300681965456702,0.2817541393561007,0.6917383133548379,0.13612843366796504,0.3944497957366922,0.18563238739033755,0.5583950063217493,-0.052220317743095795,0.012425110585636025,-0.02053289456353709,-0.24319347703101626,-0.05852449658527094,-0.1003878297293526,-0.0696234580118863,-0.20554736101702872,-0.2075667938163271,-0.4895269688397331,-0.01051816002771246,0.3889859953028476,-0.11060572093691161,-0.33242202228780965,0.2546810334602443,0.07809739773663715,-0.21034783532462975,-0.6099903824768792,0.24305376446551652,0.4915322180676871,0.0989419992441929,0.2843477532989786,-0.012132823705740323,-0.09781045165381644,0.08103242361942042,-0.334146839822888,0.3023267338360191,0.5352025804704943,-0.016324156331736145,-0.014614019603265973,0.009355632715340734,0.05513708911423171,0.1020497965436957,0.2590476583619522,-0.07726142166292059,-0.23395859857607756,0.2715443064967818,0.4046338517903427,-0.15270006593064692,-0.3642594461998742,-0.050933144923506264,-0.03223148557245625,0.05702063252206438,0.15692552739772625,0.04687680476362959,0.26505630223052984,-0.25177607256381856,-0.6175184594409427,0.19483085625454233,0.5535210432189194,0.3262613327151424,0.6403399946700888,0.13731279374922634,0.4094933772704803,0.16992113559219277,0.4863628370386529,0.06021879590778314,0.21226780969067138,0.4260876094767994,0.7841405628659278,-0.25291581796650114,-0.6960807179037573,0.06891805348709651,-0.17656180825198367,-0.13365825935070677,-0.36942880495612446,0.15737291185759997,0.24741613445945665,-0.11163545573716399,-0.44991156939496296,0.1207323958431678,-0.2785387006438671,-0.10890136804675365,-0.14233828316151878,-0.24543990573756413,-0.5185785366513539,0.30222265395640585,-0.10177809397192872,-0.23584864415589452,-0.573534393570897,0.26233210397671586,0.5872142385244651,0.1539550368700464,0.46012709583561384],\"type\":\"scatter\"}],                        {\"annotations\":[{\"showarrow\":false,\"text\":\"Python code: \\u003ca href='https:\\u002f\\u002fplotly.com\\u002fipython-notebooks\\u002fnetwork-graphs\\u002f'\\u003e https:\\u002f\\u002fplotly.com\\u002fipython-notebooks\\u002fnetwork-graphs\\u002f\\u003c\\u002fa\\u003e\",\"x\":0.005,\"xref\":\"paper\",\"y\":-0.002,\"yref\":\"paper\"}],\"hovermode\":\"closest\",\"margin\":{\"b\":20,\"l\":5,\"r\":5,\"t\":40},\"showlegend\":false,\"title\":{\"font\":{\"size\":16},\"text\":\"\\u003cbr\\u003eNetwork graph made with Python\"},\"xaxis\":{\"showgrid\":false,\"showticklabels\":false,\"zeroline\":false},\"yaxis\":{\"showgrid\":false,\"showticklabels\":false,\"zeroline\":false},\"template\":{\"data\":{\"histogram2dcontour\":[{\"type\":\"histogram2dcontour\",\"colorbar\":{\"outlinewidth\":0,\"ticks\":\"\"},\"colorscale\":[[0.0,\"#0d0887\"],[0.1111111111111111,\"#46039f\"],[0.2222222222222222,\"#7201a8\"],[0.3333333333333333,\"#9c179e\"],[0.4444444444444444,\"#bd3786\"],[0.5555555555555556,\"#d8576b\"],[0.6666666666666666,\"#ed7953\"],[0.7777777777777778,\"#fb9f3a\"],[0.8888888888888888,\"#fdca26\"],[1.0,\"#f0f921\"]]}],\"choropleth\":[{\"type\":\"choropleth\",\"colorbar\":{\"outlinewidth\":0,\"ticks\":\"\"}}],\"histogram2d\":[{\"type\":\"histogram2d\",\"colorbar\":{\"outlinewidth\":0,\"ticks\":\"\"},\"colorscale\":[[0.0,\"#0d0887\"],[0.1111111111111111,\"#46039f\"],[0.2222222222222222,\"#7201a8\"],[0.3333333333333333,\"#9c179e\"],[0.4444444444444444,\"#bd3786\"],[0.5555555555555556,\"#d8576b\"],[0.6666666666666666,\"#ed7953\"],[0.7777777777777778,\"#fb9f3a\"],[0.8888888888888888,\"#fdca26\"],[1.0,\"#f0f921\"]]}],\"heatmap\":[{\"type\":\"heatmap\",\"colorbar\":{\"outlinewidth\":0,\"ticks\":\"\"},\"colorscale\":[[0.0,\"#0d0887\"],[0.1111111111111111,\"#46039f\"],[0.2222222222222222,\"#7201a8\"],[0.3333333333333333,\"#9c179e\"],[0.4444444444444444,\"#bd3786\"],[0.5555555555555556,\"#d8576b\"],[0.6666666666666666,\"#ed7953\"],[0.7777777777777778,\"#fb9f3a\"],[0.8888888888888888,\"#fdca26\"],[1.0,\"#f0f921\"]]}],\"heatmapgl\":[{\"type\":\"heatmapgl\",\"colorbar\":{\"outlinewidth\":0,\"ticks\":\"\"},\"colorscale\":[[0.0,\"#0d0887\"],[0.1111111111111111,\"#46039f\"],[0.2222222222222222,\"#7201a8\"],[0.3333333333333333,\"#9c179e\"],[0.4444444444444444,\"#bd3786\"],[0.5555555555555556,\"#d8576b\"],[0.6666666666666666,\"#ed7953\"],[0.7777777777777778,\"#fb9f3a\"],[0.8888888888888888,\"#fdca26\"],[1.0,\"#f0f921\"]]}],\"contourcarpet\":[{\"type\":\"contourcarpet\",\"colorbar\":{\"outlinewidth\":0,\"ticks\":\"\"}}],\"contour\":[{\"type\":\"contour\",\"colorbar\":{\"outlinewidth\":0,\"ticks\":\"\"},\"colorscale\":[[0.0,\"#0d0887\"],[0.1111111111111111,\"#46039f\"],[0.2222222222222222,\"#7201a8\"],[0.3333333333333333,\"#9c179e\"],[0.4444444444444444,\"#bd3786\"],[0.5555555555555556,\"#d8576b\"],[0.6666666666666666,\"#ed7953\"],[0.7777777777777778,\"#fb9f3a\"],[0.8888888888888888,\"#fdca26\"],[1.0,\"#f0f921\"]]}],\"surface\":[{\"type\":\"surface\",\"colorbar\":{\"outlinewidth\":0,\"ticks\":\"\"},\"colorscale\":[[0.0,\"#0d0887\"],[0.1111111111111111,\"#46039f\"],[0.2222222222222222,\"#7201a8\"],[0.3333333333333333,\"#9c179e\"],[0.4444444444444444,\"#bd3786\"],[0.5555555555555556,\"#d8576b\"],[0.6666666666666666,\"#ed7953\"],[0.7777777777777778,\"#fb9f3a\"],[0.8888888888888888,\"#fdca26\"],[1.0,\"#f0f921\"]]}],\"mesh3d\":[{\"type\":\"mesh3d\",\"colorbar\":{\"outlinewidth\":0,\"ticks\":\"\"}}],\"scatter\":[{\"fillpattern\":{\"fillmode\":\"overlay\",\"size\":10,\"solidity\":0.2},\"type\":\"scatter\"}],\"parcoords\":[{\"type\":\"parcoords\",\"line\":{\"colorbar\":{\"outlinewidth\":0,\"ticks\":\"\"}}}],\"scatterpolargl\":[{\"type\":\"scatterpolargl\",\"marker\":{\"colorbar\":{\"outlinewidth\":0,\"ticks\":\"\"}}}],\"bar\":[{\"error_x\":{\"color\":\"#2a3f5f\"},\"error_y\":{\"color\":\"#2a3f5f\"},\"marker\":{\"line\":{\"color\":\"#E5ECF6\",\"width\":0.5},\"pattern\":{\"fillmode\":\"overlay\",\"size\":10,\"solidity\":0.2}},\"type\":\"bar\"}],\"scattergeo\":[{\"type\":\"scattergeo\",\"marker\":{\"colorbar\":{\"outlinewidth\":0,\"ticks\":\"\"}}}],\"scatterpolar\":[{\"type\":\"scatterpolar\",\"marker\":{\"colorbar\":{\"outlinewidth\":0,\"ticks\":\"\"}}}],\"histogram\":[{\"marker\":{\"pattern\":{\"fillmode\":\"overlay\",\"size\":10,\"solidity\":0.2}},\"type\":\"histogram\"}],\"scattergl\":[{\"type\":\"scattergl\",\"marker\":{\"colorbar\":{\"outlinewidth\":0,\"ticks\":\"\"}}}],\"scatter3d\":[{\"type\":\"scatter3d\",\"line\":{\"colorbar\":{\"outlinewidth\":0,\"ticks\":\"\"}},\"marker\":{\"colorbar\":{\"outlinewidth\":0,\"ticks\":\"\"}}}],\"scattermapbox\":[{\"type\":\"scattermapbox\",\"marker\":{\"colorbar\":{\"outlinewidth\":0,\"ticks\":\"\"}}}],\"scatterternary\":[{\"type\":\"scatterternary\",\"marker\":{\"colorbar\":{\"outlinewidth\":0,\"ticks\":\"\"}}}],\"scattercarpet\":[{\"type\":\"scattercarpet\",\"marker\":{\"colorbar\":{\"outlinewidth\":0,\"ticks\":\"\"}}}],\"carpet\":[{\"aaxis\":{\"endlinecolor\":\"#2a3f5f\",\"gridcolor\":\"white\",\"linecolor\":\"white\",\"minorgridcolor\":\"white\",\"startlinecolor\":\"#2a3f5f\"},\"baxis\":{\"endlinecolor\":\"#2a3f5f\",\"gridcolor\":\"white\",\"linecolor\":\"white\",\"minorgridcolor\":\"white\",\"startlinecolor\":\"#2a3f5f\"},\"type\":\"carpet\"}],\"table\":[{\"cells\":{\"fill\":{\"color\":\"#EBF0F8\"},\"line\":{\"color\":\"white\"}},\"header\":{\"fill\":{\"color\":\"#C8D4E3\"},\"line\":{\"color\":\"white\"}},\"type\":\"table\"}],\"barpolar\":[{\"marker\":{\"line\":{\"color\":\"#E5ECF6\",\"width\":0.5},\"pattern\":{\"fillmode\":\"overlay\",\"size\":10,\"solidity\":0.2}},\"type\":\"barpolar\"}],\"pie\":[{\"automargin\":true,\"type\":\"pie\"}]},\"layout\":{\"autotypenumbers\":\"strict\",\"colorway\":[\"#636efa\",\"#EF553B\",\"#00cc96\",\"#ab63fa\",\"#FFA15A\",\"#19d3f3\",\"#FF6692\",\"#B6E880\",\"#FF97FF\",\"#FECB52\"],\"font\":{\"color\":\"#2a3f5f\"},\"hovermode\":\"closest\",\"hoverlabel\":{\"align\":\"left\"},\"paper_bgcolor\":\"white\",\"plot_bgcolor\":\"#E5ECF6\",\"polar\":{\"bgcolor\":\"#E5ECF6\",\"angularaxis\":{\"gridcolor\":\"white\",\"linecolor\":\"white\",\"ticks\":\"\"},\"radialaxis\":{\"gridcolor\":\"white\",\"linecolor\":\"white\",\"ticks\":\"\"}},\"ternary\":{\"bgcolor\":\"#E5ECF6\",\"aaxis\":{\"gridcolor\":\"white\",\"linecolor\":\"white\",\"ticks\":\"\"},\"baxis\":{\"gridcolor\":\"white\",\"linecolor\":\"white\",\"ticks\":\"\"},\"caxis\":{\"gridcolor\":\"white\",\"linecolor\":\"white\",\"ticks\":\"\"}},\"coloraxis\":{\"colorbar\":{\"outlinewidth\":0,\"ticks\":\"\"}},\"colorscale\":{\"sequential\":[[0.0,\"#0d0887\"],[0.1111111111111111,\"#46039f\"],[0.2222222222222222,\"#7201a8\"],[0.3333333333333333,\"#9c179e\"],[0.4444444444444444,\"#bd3786\"],[0.5555555555555556,\"#d8576b\"],[0.6666666666666666,\"#ed7953\"],[0.7777777777777778,\"#fb9f3a\"],[0.8888888888888888,\"#fdca26\"],[1.0,\"#f0f921\"]],\"sequentialminus\":[[0.0,\"#0d0887\"],[0.1111111111111111,\"#46039f\"],[0.2222222222222222,\"#7201a8\"],[0.3333333333333333,\"#9c179e\"],[0.4444444444444444,\"#bd3786\"],[0.5555555555555556,\"#d8576b\"],[0.6666666666666666,\"#ed7953\"],[0.7777777777777778,\"#fb9f3a\"],[0.8888888888888888,\"#fdca26\"],[1.0,\"#f0f921\"]],\"diverging\":[[0,\"#8e0152\"],[0.1,\"#c51b7d\"],[0.2,\"#de77ae\"],[0.3,\"#f1b6da\"],[0.4,\"#fde0ef\"],[0.5,\"#f7f7f7\"],[0.6,\"#e6f5d0\"],[0.7,\"#b8e186\"],[0.8,\"#7fbc41\"],[0.9,\"#4d9221\"],[1,\"#276419\"]]},\"xaxis\":{\"gridcolor\":\"white\",\"linecolor\":\"white\",\"ticks\":\"\",\"title\":{\"standoff\":15},\"zerolinecolor\":\"white\",\"automargin\":true,\"zerolinewidth\":2},\"yaxis\":{\"gridcolor\":\"white\",\"linecolor\":\"white\",\"ticks\":\"\",\"title\":{\"standoff\":15},\"zerolinecolor\":\"white\",\"automargin\":true,\"zerolinewidth\":2},\"scene\":{\"xaxis\":{\"backgroundcolor\":\"#E5ECF6\",\"gridcolor\":\"white\",\"linecolor\":\"white\",\"showbackground\":true,\"ticks\":\"\",\"zerolinecolor\":\"white\",\"gridwidth\":2},\"yaxis\":{\"backgroundcolor\":\"#E5ECF6\",\"gridcolor\":\"white\",\"linecolor\":\"white\",\"showbackground\":true,\"ticks\":\"\",\"zerolinecolor\":\"white\",\"gridwidth\":2},\"zaxis\":{\"backgroundcolor\":\"#E5ECF6\",\"gridcolor\":\"white\",\"linecolor\":\"white\",\"showbackground\":true,\"ticks\":\"\",\"zerolinecolor\":\"white\",\"gridwidth\":2}},\"shapedefaults\":{\"line\":{\"color\":\"#2a3f5f\"}},\"annotationdefaults\":{\"arrowcolor\":\"#2a3f5f\",\"arrowhead\":0,\"arrowwidth\":1},\"geo\":{\"bgcolor\":\"white\",\"landcolor\":\"#E5ECF6\",\"subunitcolor\":\"white\",\"showland\":true,\"showlakes\":true,\"lakecolor\":\"white\"},\"title\":{\"x\":0.05},\"mapbox\":{\"style\":\"light\"}}}},                        {\"responsive\": true}                    ).then(function(){\n",
       "                            \n",
       "var gd = document.getElementById('93afbac6-249a-45ba-825c-1a67c308ab89');\n",
       "var x = new MutationObserver(function (mutations, observer) {{\n",
       "        var display = window.getComputedStyle(gd).display;\n",
       "        if (!display || display === 'none') {{\n",
       "            console.log([gd, 'removed!']);\n",
       "            Plotly.purge(gd);\n",
       "            observer.disconnect();\n",
       "        }}\n",
       "}});\n",
       "\n",
       "// Listen for the removal of the full notebook cells\n",
       "var notebookContainer = gd.closest('#notebook-container');\n",
       "if (notebookContainer) {{\n",
       "    x.observe(notebookContainer, {childList: true});\n",
       "}}\n",
       "\n",
       "// Listen for the clearing of the current output cell\n",
       "var outputEl = gd.closest('.output');\n",
       "if (outputEl) {{\n",
       "    x.observe(outputEl, {childList: true});\n",
       "}}\n",
       "\n",
       "                        })                };                });            </script>        </div>"
      ]
     },
     "metadata": {},
     "output_type": "display_data",
     "jetTransient": {
      "display_id": null
     }
    }
   ],
   "execution_count": 34
  },
  {
   "metadata": {
    "ExecuteTime": {
     "end_time": "2025-09-25T09:56:21.595417Z",
     "start_time": "2025-09-25T09:56:17.055012Z"
    }
   },
   "cell_type": "code",
   "source": [
    "freqItemSet, rules = apriori(transactions, minSup=min_sup, minConf=0.8)\n",
    "output_apriori(rules)"
   ],
   "id": "a2299e127f880a61",
   "outputs": [
    {
     "name": "stdout",
     "output_type": "stream",
     "text": [
      "0: {'Keeping It Local'} -> {'Coffee'}Support = 0.005 Confidence = 0.810 Lift = 1.704\n",
      "1: {'Extra Salami or Feta'} -> {'Coffee'}Support = 0.003 Confidence = 0.816 Lift = 1.717\n",
      "2: {'Salad', 'Sandwich'} -> {'Coffee'}Support = 0.002 Confidence = 0.833 Lift = 1.754\n",
      "3: {'Vegan mincepie', 'Cake'} -> {'Coffee'}Support = 0.001 Confidence = 0.833 Lift = 1.754\n",
      "4: {'Scone', 'NONE'} -> {'Coffee'}Support = 0.002 Confidence = 0.833 Lift = 1.754\n",
      "5: {'Sandwich', 'Hearty & Seasonal'} -> {'Coffee'}Support = 0.001 Confidence = 0.857 Lift = 1.804\n",
      "6: {'Pastry', 'Toast'} -> {'Coffee'}Support = 0.001 Confidence = 0.867 Lift = 1.824\n",
      "7: {'Salad', 'Extra Salami or Feta'} -> {'Coffee'}Support = 0.001 Confidence = 0.875 Lift = 1.842\n",
      "8: {'Medialuna', 'NONE', 'Hot chocolate'} -> {'Coffee'}Support = 0.001 Confidence = 0.909 Lift = 1.914\n",
      "9: {'Tartine', 'NONE'} -> {'Coffee'}Support = 0.001 Confidence = 0.923 Lift = 1.943\n"
     ]
    },
    {
     "data": {
      "application/vnd.plotly.v1+json": {
       "data": [
        {
         "marker": {
          "color": [
           1.7039689550731953,
           1.7171575692765482,
           1.7540856890459364,
           1.7540856890459364,
           1.7540856890459364,
           1.8042024230186773,
           1.824249116607774,
           1.8417899734982335,
           1.913548024413749,
           1.942987224789345
          ],
          "colorbar": {
           "title": {
            "text": "Lift"
           }
          },
          "colorscale": [
           [
            0.0,
            "rgb(243, 224, 247)"
           ],
           [
            0.16666666666666666,
            "rgb(228, 199, 241)"
           ],
           [
            0.3333333333333333,
            "rgb(209, 175, 232)"
           ],
           [
            0.5,
            "rgb(185, 152, 221)"
           ],
           [
            0.6666666666666666,
            "rgb(159, 130, 206)"
           ],
           [
            0.8333333333333334,
            "rgb(130, 109, 186)"
           ],
           [
            1.0,
            "rgb(99, 88, 159)"
           ]
          ]
         },
         "mode": "markers",
         "text": [
          "['Keeping It Local'] => ['Coffee'], Lift: 1.7039689550731953",
          "['Extra Salami or Feta'] => ['Coffee'], Lift: 1.7171575692765482",
          "['Salad, Sandwich'] => ['Coffee'], Lift: 1.7540856890459364",
          "['Vegan mincepie, Cake'] => ['Coffee'], Lift: 1.7540856890459364",
          "['Scone, NONE'] => ['Coffee'], Lift: 1.7540856890459364",
          "['Sandwich, Hearty & Seasonal'] => ['Coffee'], Lift: 1.8042024230186773",
          "['Pastry, Toast'] => ['Coffee'], Lift: 1.824249116607774",
          "['Salad, Extra Salami or Feta'] => ['Coffee'], Lift: 1.8417899734982335",
          "['Medialuna, NONE, Hot chocolate'] => ['Coffee'], Lift: 1.913548024413749",
          "['Tartine, NONE'] => ['Coffee'], Lift: 1.942987224789345"
         ],
         "x": [
          0.0053509600251809885,
          0.003252544329031581,
          0.0015738117721120553,
          0.0010492078480747037,
          0.0015738117721120553,
          0.0012590494176896443,
          0.0013639702024971147,
          0.0014688909873045851,
          0.0010492078480747037,
          0.0012590494176896443
         ],
         "y": [
          0.8095238095238095,
          0.8157894736842105,
          0.8333333333333334,
          0.8333333333333334,
          0.8333333333333334,
          0.8571428571428571,
          0.8666666666666667,
          0.875,
          0.9090909090909091,
          0.9230769230769231
         ],
         "type": "scatter"
        }
       ],
       "layout": {
        "template": {
         "data": {
          "histogram2dcontour": [
           {
            "type": "histogram2dcontour",
            "colorbar": {
             "outlinewidth": 0,
             "ticks": ""
            },
            "colorscale": [
             [
              0.0,
              "#0d0887"
             ],
             [
              0.1111111111111111,
              "#46039f"
             ],
             [
              0.2222222222222222,
              "#7201a8"
             ],
             [
              0.3333333333333333,
              "#9c179e"
             ],
             [
              0.4444444444444444,
              "#bd3786"
             ],
             [
              0.5555555555555556,
              "#d8576b"
             ],
             [
              0.6666666666666666,
              "#ed7953"
             ],
             [
              0.7777777777777778,
              "#fb9f3a"
             ],
             [
              0.8888888888888888,
              "#fdca26"
             ],
             [
              1.0,
              "#f0f921"
             ]
            ]
           }
          ],
          "choropleth": [
           {
            "type": "choropleth",
            "colorbar": {
             "outlinewidth": 0,
             "ticks": ""
            }
           }
          ],
          "histogram2d": [
           {
            "type": "histogram2d",
            "colorbar": {
             "outlinewidth": 0,
             "ticks": ""
            },
            "colorscale": [
             [
              0.0,
              "#0d0887"
             ],
             [
              0.1111111111111111,
              "#46039f"
             ],
             [
              0.2222222222222222,
              "#7201a8"
             ],
             [
              0.3333333333333333,
              "#9c179e"
             ],
             [
              0.4444444444444444,
              "#bd3786"
             ],
             [
              0.5555555555555556,
              "#d8576b"
             ],
             [
              0.6666666666666666,
              "#ed7953"
             ],
             [
              0.7777777777777778,
              "#fb9f3a"
             ],
             [
              0.8888888888888888,
              "#fdca26"
             ],
             [
              1.0,
              "#f0f921"
             ]
            ]
           }
          ],
          "heatmap": [
           {
            "type": "heatmap",
            "colorbar": {
             "outlinewidth": 0,
             "ticks": ""
            },
            "colorscale": [
             [
              0.0,
              "#0d0887"
             ],
             [
              0.1111111111111111,
              "#46039f"
             ],
             [
              0.2222222222222222,
              "#7201a8"
             ],
             [
              0.3333333333333333,
              "#9c179e"
             ],
             [
              0.4444444444444444,
              "#bd3786"
             ],
             [
              0.5555555555555556,
              "#d8576b"
             ],
             [
              0.6666666666666666,
              "#ed7953"
             ],
             [
              0.7777777777777778,
              "#fb9f3a"
             ],
             [
              0.8888888888888888,
              "#fdca26"
             ],
             [
              1.0,
              "#f0f921"
             ]
            ]
           }
          ],
          "heatmapgl": [
           {
            "type": "heatmapgl",
            "colorbar": {
             "outlinewidth": 0,
             "ticks": ""
            },
            "colorscale": [
             [
              0.0,
              "#0d0887"
             ],
             [
              0.1111111111111111,
              "#46039f"
             ],
             [
              0.2222222222222222,
              "#7201a8"
             ],
             [
              0.3333333333333333,
              "#9c179e"
             ],
             [
              0.4444444444444444,
              "#bd3786"
             ],
             [
              0.5555555555555556,
              "#d8576b"
             ],
             [
              0.6666666666666666,
              "#ed7953"
             ],
             [
              0.7777777777777778,
              "#fb9f3a"
             ],
             [
              0.8888888888888888,
              "#fdca26"
             ],
             [
              1.0,
              "#f0f921"
             ]
            ]
           }
          ],
          "contourcarpet": [
           {
            "type": "contourcarpet",
            "colorbar": {
             "outlinewidth": 0,
             "ticks": ""
            }
           }
          ],
          "contour": [
           {
            "type": "contour",
            "colorbar": {
             "outlinewidth": 0,
             "ticks": ""
            },
            "colorscale": [
             [
              0.0,
              "#0d0887"
             ],
             [
              0.1111111111111111,
              "#46039f"
             ],
             [
              0.2222222222222222,
              "#7201a8"
             ],
             [
              0.3333333333333333,
              "#9c179e"
             ],
             [
              0.4444444444444444,
              "#bd3786"
             ],
             [
              0.5555555555555556,
              "#d8576b"
             ],
             [
              0.6666666666666666,
              "#ed7953"
             ],
             [
              0.7777777777777778,
              "#fb9f3a"
             ],
             [
              0.8888888888888888,
              "#fdca26"
             ],
             [
              1.0,
              "#f0f921"
             ]
            ]
           }
          ],
          "surface": [
           {
            "type": "surface",
            "colorbar": {
             "outlinewidth": 0,
             "ticks": ""
            },
            "colorscale": [
             [
              0.0,
              "#0d0887"
             ],
             [
              0.1111111111111111,
              "#46039f"
             ],
             [
              0.2222222222222222,
              "#7201a8"
             ],
             [
              0.3333333333333333,
              "#9c179e"
             ],
             [
              0.4444444444444444,
              "#bd3786"
             ],
             [
              0.5555555555555556,
              "#d8576b"
             ],
             [
              0.6666666666666666,
              "#ed7953"
             ],
             [
              0.7777777777777778,
              "#fb9f3a"
             ],
             [
              0.8888888888888888,
              "#fdca26"
             ],
             [
              1.0,
              "#f0f921"
             ]
            ]
           }
          ],
          "mesh3d": [
           {
            "type": "mesh3d",
            "colorbar": {
             "outlinewidth": 0,
             "ticks": ""
            }
           }
          ],
          "scatter": [
           {
            "fillpattern": {
             "fillmode": "overlay",
             "size": 10,
             "solidity": 0.2
            },
            "type": "scatter"
           }
          ],
          "parcoords": [
           {
            "type": "parcoords",
            "line": {
             "colorbar": {
              "outlinewidth": 0,
              "ticks": ""
             }
            }
           }
          ],
          "scatterpolargl": [
           {
            "type": "scatterpolargl",
            "marker": {
             "colorbar": {
              "outlinewidth": 0,
              "ticks": ""
             }
            }
           }
          ],
          "bar": [
           {
            "error_x": {
             "color": "#2a3f5f"
            },
            "error_y": {
             "color": "#2a3f5f"
            },
            "marker": {
             "line": {
              "color": "#E5ECF6",
              "width": 0.5
             },
             "pattern": {
              "fillmode": "overlay",
              "size": 10,
              "solidity": 0.2
             }
            },
            "type": "bar"
           }
          ],
          "scattergeo": [
           {
            "type": "scattergeo",
            "marker": {
             "colorbar": {
              "outlinewidth": 0,
              "ticks": ""
             }
            }
           }
          ],
          "scatterpolar": [
           {
            "type": "scatterpolar",
            "marker": {
             "colorbar": {
              "outlinewidth": 0,
              "ticks": ""
             }
            }
           }
          ],
          "histogram": [
           {
            "marker": {
             "pattern": {
              "fillmode": "overlay",
              "size": 10,
              "solidity": 0.2
             }
            },
            "type": "histogram"
           }
          ],
          "scattergl": [
           {
            "type": "scattergl",
            "marker": {
             "colorbar": {
              "outlinewidth": 0,
              "ticks": ""
             }
            }
           }
          ],
          "scatter3d": [
           {
            "type": "scatter3d",
            "line": {
             "colorbar": {
              "outlinewidth": 0,
              "ticks": ""
             }
            },
            "marker": {
             "colorbar": {
              "outlinewidth": 0,
              "ticks": ""
             }
            }
           }
          ],
          "scattermapbox": [
           {
            "type": "scattermapbox",
            "marker": {
             "colorbar": {
              "outlinewidth": 0,
              "ticks": ""
             }
            }
           }
          ],
          "scatterternary": [
           {
            "type": "scatterternary",
            "marker": {
             "colorbar": {
              "outlinewidth": 0,
              "ticks": ""
             }
            }
           }
          ],
          "scattercarpet": [
           {
            "type": "scattercarpet",
            "marker": {
             "colorbar": {
              "outlinewidth": 0,
              "ticks": ""
             }
            }
           }
          ],
          "carpet": [
           {
            "aaxis": {
             "endlinecolor": "#2a3f5f",
             "gridcolor": "white",
             "linecolor": "white",
             "minorgridcolor": "white",
             "startlinecolor": "#2a3f5f"
            },
            "baxis": {
             "endlinecolor": "#2a3f5f",
             "gridcolor": "white",
             "linecolor": "white",
             "minorgridcolor": "white",
             "startlinecolor": "#2a3f5f"
            },
            "type": "carpet"
           }
          ],
          "table": [
           {
            "cells": {
             "fill": {
              "color": "#EBF0F8"
             },
             "line": {
              "color": "white"
             }
            },
            "header": {
             "fill": {
              "color": "#C8D4E3"
             },
             "line": {
              "color": "white"
             }
            },
            "type": "table"
           }
          ],
          "barpolar": [
           {
            "marker": {
             "line": {
              "color": "#E5ECF6",
              "width": 0.5
             },
             "pattern": {
              "fillmode": "overlay",
              "size": 10,
              "solidity": 0.2
             }
            },
            "type": "barpolar"
           }
          ],
          "pie": [
           {
            "automargin": true,
            "type": "pie"
           }
          ]
         },
         "layout": {
          "autotypenumbers": "strict",
          "colorway": [
           "#636efa",
           "#EF553B",
           "#00cc96",
           "#ab63fa",
           "#FFA15A",
           "#19d3f3",
           "#FF6692",
           "#B6E880",
           "#FF97FF",
           "#FECB52"
          ],
          "font": {
           "color": "#2a3f5f"
          },
          "hovermode": "closest",
          "hoverlabel": {
           "align": "left"
          },
          "paper_bgcolor": "white",
          "plot_bgcolor": "#E5ECF6",
          "polar": {
           "bgcolor": "#E5ECF6",
           "angularaxis": {
            "gridcolor": "white",
            "linecolor": "white",
            "ticks": ""
           },
           "radialaxis": {
            "gridcolor": "white",
            "linecolor": "white",
            "ticks": ""
           }
          },
          "ternary": {
           "bgcolor": "#E5ECF6",
           "aaxis": {
            "gridcolor": "white",
            "linecolor": "white",
            "ticks": ""
           },
           "baxis": {
            "gridcolor": "white",
            "linecolor": "white",
            "ticks": ""
           },
           "caxis": {
            "gridcolor": "white",
            "linecolor": "white",
            "ticks": ""
           }
          },
          "coloraxis": {
           "colorbar": {
            "outlinewidth": 0,
            "ticks": ""
           }
          },
          "colorscale": {
           "sequential": [
            [
             0.0,
             "#0d0887"
            ],
            [
             0.1111111111111111,
             "#46039f"
            ],
            [
             0.2222222222222222,
             "#7201a8"
            ],
            [
             0.3333333333333333,
             "#9c179e"
            ],
            [
             0.4444444444444444,
             "#bd3786"
            ],
            [
             0.5555555555555556,
             "#d8576b"
            ],
            [
             0.6666666666666666,
             "#ed7953"
            ],
            [
             0.7777777777777778,
             "#fb9f3a"
            ],
            [
             0.8888888888888888,
             "#fdca26"
            ],
            [
             1.0,
             "#f0f921"
            ]
           ],
           "sequentialminus": [
            [
             0.0,
             "#0d0887"
            ],
            [
             0.1111111111111111,
             "#46039f"
            ],
            [
             0.2222222222222222,
             "#7201a8"
            ],
            [
             0.3333333333333333,
             "#9c179e"
            ],
            [
             0.4444444444444444,
             "#bd3786"
            ],
            [
             0.5555555555555556,
             "#d8576b"
            ],
            [
             0.6666666666666666,
             "#ed7953"
            ],
            [
             0.7777777777777778,
             "#fb9f3a"
            ],
            [
             0.8888888888888888,
             "#fdca26"
            ],
            [
             1.0,
             "#f0f921"
            ]
           ],
           "diverging": [
            [
             0,
             "#8e0152"
            ],
            [
             0.1,
             "#c51b7d"
            ],
            [
             0.2,
             "#de77ae"
            ],
            [
             0.3,
             "#f1b6da"
            ],
            [
             0.4,
             "#fde0ef"
            ],
            [
             0.5,
             "#f7f7f7"
            ],
            [
             0.6,
             "#e6f5d0"
            ],
            [
             0.7,
             "#b8e186"
            ],
            [
             0.8,
             "#7fbc41"
            ],
            [
             0.9,
             "#4d9221"
            ],
            [
             1,
             "#276419"
            ]
           ]
          },
          "xaxis": {
           "gridcolor": "white",
           "linecolor": "white",
           "ticks": "",
           "title": {
            "standoff": 15
           },
           "zerolinecolor": "white",
           "automargin": true,
           "zerolinewidth": 2
          },
          "yaxis": {
           "gridcolor": "white",
           "linecolor": "white",
           "ticks": "",
           "title": {
            "standoff": 15
           },
           "zerolinecolor": "white",
           "automargin": true,
           "zerolinewidth": 2
          },
          "scene": {
           "xaxis": {
            "backgroundcolor": "#E5ECF6",
            "gridcolor": "white",
            "linecolor": "white",
            "showbackground": true,
            "ticks": "",
            "zerolinecolor": "white",
            "gridwidth": 2
           },
           "yaxis": {
            "backgroundcolor": "#E5ECF6",
            "gridcolor": "white",
            "linecolor": "white",
            "showbackground": true,
            "ticks": "",
            "zerolinecolor": "white",
            "gridwidth": 2
           },
           "zaxis": {
            "backgroundcolor": "#E5ECF6",
            "gridcolor": "white",
            "linecolor": "white",
            "showbackground": true,
            "ticks": "",
            "zerolinecolor": "white",
            "gridwidth": 2
           }
          },
          "shapedefaults": {
           "line": {
            "color": "#2a3f5f"
           }
          },
          "annotationdefaults": {
           "arrowcolor": "#2a3f5f",
           "arrowhead": 0,
           "arrowwidth": 1
          },
          "geo": {
           "bgcolor": "white",
           "landcolor": "#E5ECF6",
           "subunitcolor": "white",
           "showland": true,
           "showlakes": true,
           "lakecolor": "white"
          },
          "title": {
           "x": 0.05
          },
          "mapbox": {
           "style": "light"
          }
         }
        },
        "xaxis": {
         "title": {
          "text": "Support"
         },
         "autorange": "reversed"
        },
        "title": {
         "text": "Association Rules Strength Distribution"
        },
        "yaxis": {
         "title": {
          "text": "Confidence"
         }
        }
       },
       "config": {
        "plotlyServerURL": "https://plot.ly"
       }
      },
      "text/html": [
       "<div>                            <div id=\"43bb094a-05c2-46f3-b9ff-6bba50a0a58a\" class=\"plotly-graph-div\" style=\"height:525px; width:100%;\"></div>            <script type=\"text/javascript\">                require([\"plotly\"], function(Plotly) {                    window.PLOTLYENV=window.PLOTLYENV || {};                                    if (document.getElementById(\"43bb094a-05c2-46f3-b9ff-6bba50a0a58a\")) {                    Plotly.newPlot(                        \"43bb094a-05c2-46f3-b9ff-6bba50a0a58a\",                        [{\"marker\":{\"color\":[1.7039689550731953,1.7171575692765482,1.7540856890459364,1.7540856890459364,1.7540856890459364,1.8042024230186773,1.824249116607774,1.8417899734982335,1.913548024413749,1.942987224789345],\"colorbar\":{\"title\":{\"text\":\"Lift\"}},\"colorscale\":[[0.0,\"rgb(243, 224, 247)\"],[0.16666666666666666,\"rgb(228, 199, 241)\"],[0.3333333333333333,\"rgb(209, 175, 232)\"],[0.5,\"rgb(185, 152, 221)\"],[0.6666666666666666,\"rgb(159, 130, 206)\"],[0.8333333333333334,\"rgb(130, 109, 186)\"],[1.0,\"rgb(99, 88, 159)\"]]},\"mode\":\"markers\",\"text\":[\"['Keeping It Local'] =\\u003e ['Coffee'], Lift: 1.7039689550731953\",\"['Extra Salami or Feta'] =\\u003e ['Coffee'], Lift: 1.7171575692765482\",\"['Salad, Sandwich'] =\\u003e ['Coffee'], Lift: 1.7540856890459364\",\"['Vegan mincepie, Cake'] =\\u003e ['Coffee'], Lift: 1.7540856890459364\",\"['Scone, NONE'] =\\u003e ['Coffee'], Lift: 1.7540856890459364\",\"['Sandwich, Hearty & Seasonal'] =\\u003e ['Coffee'], Lift: 1.8042024230186773\",\"['Pastry, Toast'] =\\u003e ['Coffee'], Lift: 1.824249116607774\",\"['Salad, Extra Salami or Feta'] =\\u003e ['Coffee'], Lift: 1.8417899734982335\",\"['Medialuna, NONE, Hot chocolate'] =\\u003e ['Coffee'], Lift: 1.913548024413749\",\"['Tartine, NONE'] =\\u003e ['Coffee'], Lift: 1.942987224789345\"],\"x\":[0.0053509600251809885,0.003252544329031581,0.0015738117721120553,0.0010492078480747037,0.0015738117721120553,0.0012590494176896443,0.0013639702024971147,0.0014688909873045851,0.0010492078480747037,0.0012590494176896443],\"y\":[0.8095238095238095,0.8157894736842105,0.8333333333333334,0.8333333333333334,0.8333333333333334,0.8571428571428571,0.8666666666666667,0.875,0.9090909090909091,0.9230769230769231],\"type\":\"scatter\"}],                        {\"template\":{\"data\":{\"histogram2dcontour\":[{\"type\":\"histogram2dcontour\",\"colorbar\":{\"outlinewidth\":0,\"ticks\":\"\"},\"colorscale\":[[0.0,\"#0d0887\"],[0.1111111111111111,\"#46039f\"],[0.2222222222222222,\"#7201a8\"],[0.3333333333333333,\"#9c179e\"],[0.4444444444444444,\"#bd3786\"],[0.5555555555555556,\"#d8576b\"],[0.6666666666666666,\"#ed7953\"],[0.7777777777777778,\"#fb9f3a\"],[0.8888888888888888,\"#fdca26\"],[1.0,\"#f0f921\"]]}],\"choropleth\":[{\"type\":\"choropleth\",\"colorbar\":{\"outlinewidth\":0,\"ticks\":\"\"}}],\"histogram2d\":[{\"type\":\"histogram2d\",\"colorbar\":{\"outlinewidth\":0,\"ticks\":\"\"},\"colorscale\":[[0.0,\"#0d0887\"],[0.1111111111111111,\"#46039f\"],[0.2222222222222222,\"#7201a8\"],[0.3333333333333333,\"#9c179e\"],[0.4444444444444444,\"#bd3786\"],[0.5555555555555556,\"#d8576b\"],[0.6666666666666666,\"#ed7953\"],[0.7777777777777778,\"#fb9f3a\"],[0.8888888888888888,\"#fdca26\"],[1.0,\"#f0f921\"]]}],\"heatmap\":[{\"type\":\"heatmap\",\"colorbar\":{\"outlinewidth\":0,\"ticks\":\"\"},\"colorscale\":[[0.0,\"#0d0887\"],[0.1111111111111111,\"#46039f\"],[0.2222222222222222,\"#7201a8\"],[0.3333333333333333,\"#9c179e\"],[0.4444444444444444,\"#bd3786\"],[0.5555555555555556,\"#d8576b\"],[0.6666666666666666,\"#ed7953\"],[0.7777777777777778,\"#fb9f3a\"],[0.8888888888888888,\"#fdca26\"],[1.0,\"#f0f921\"]]}],\"heatmapgl\":[{\"type\":\"heatmapgl\",\"colorbar\":{\"outlinewidth\":0,\"ticks\":\"\"},\"colorscale\":[[0.0,\"#0d0887\"],[0.1111111111111111,\"#46039f\"],[0.2222222222222222,\"#7201a8\"],[0.3333333333333333,\"#9c179e\"],[0.4444444444444444,\"#bd3786\"],[0.5555555555555556,\"#d8576b\"],[0.6666666666666666,\"#ed7953\"],[0.7777777777777778,\"#fb9f3a\"],[0.8888888888888888,\"#fdca26\"],[1.0,\"#f0f921\"]]}],\"contourcarpet\":[{\"type\":\"contourcarpet\",\"colorbar\":{\"outlinewidth\":0,\"ticks\":\"\"}}],\"contour\":[{\"type\":\"contour\",\"colorbar\":{\"outlinewidth\":0,\"ticks\":\"\"},\"colorscale\":[[0.0,\"#0d0887\"],[0.1111111111111111,\"#46039f\"],[0.2222222222222222,\"#7201a8\"],[0.3333333333333333,\"#9c179e\"],[0.4444444444444444,\"#bd3786\"],[0.5555555555555556,\"#d8576b\"],[0.6666666666666666,\"#ed7953\"],[0.7777777777777778,\"#fb9f3a\"],[0.8888888888888888,\"#fdca26\"],[1.0,\"#f0f921\"]]}],\"surface\":[{\"type\":\"surface\",\"colorbar\":{\"outlinewidth\":0,\"ticks\":\"\"},\"colorscale\":[[0.0,\"#0d0887\"],[0.1111111111111111,\"#46039f\"],[0.2222222222222222,\"#7201a8\"],[0.3333333333333333,\"#9c179e\"],[0.4444444444444444,\"#bd3786\"],[0.5555555555555556,\"#d8576b\"],[0.6666666666666666,\"#ed7953\"],[0.7777777777777778,\"#fb9f3a\"],[0.8888888888888888,\"#fdca26\"],[1.0,\"#f0f921\"]]}],\"mesh3d\":[{\"type\":\"mesh3d\",\"colorbar\":{\"outlinewidth\":0,\"ticks\":\"\"}}],\"scatter\":[{\"fillpattern\":{\"fillmode\":\"overlay\",\"size\":10,\"solidity\":0.2},\"type\":\"scatter\"}],\"parcoords\":[{\"type\":\"parcoords\",\"line\":{\"colorbar\":{\"outlinewidth\":0,\"ticks\":\"\"}}}],\"scatterpolargl\":[{\"type\":\"scatterpolargl\",\"marker\":{\"colorbar\":{\"outlinewidth\":0,\"ticks\":\"\"}}}],\"bar\":[{\"error_x\":{\"color\":\"#2a3f5f\"},\"error_y\":{\"color\":\"#2a3f5f\"},\"marker\":{\"line\":{\"color\":\"#E5ECF6\",\"width\":0.5},\"pattern\":{\"fillmode\":\"overlay\",\"size\":10,\"solidity\":0.2}},\"type\":\"bar\"}],\"scattergeo\":[{\"type\":\"scattergeo\",\"marker\":{\"colorbar\":{\"outlinewidth\":0,\"ticks\":\"\"}}}],\"scatterpolar\":[{\"type\":\"scatterpolar\",\"marker\":{\"colorbar\":{\"outlinewidth\":0,\"ticks\":\"\"}}}],\"histogram\":[{\"marker\":{\"pattern\":{\"fillmode\":\"overlay\",\"size\":10,\"solidity\":0.2}},\"type\":\"histogram\"}],\"scattergl\":[{\"type\":\"scattergl\",\"marker\":{\"colorbar\":{\"outlinewidth\":0,\"ticks\":\"\"}}}],\"scatter3d\":[{\"type\":\"scatter3d\",\"line\":{\"colorbar\":{\"outlinewidth\":0,\"ticks\":\"\"}},\"marker\":{\"colorbar\":{\"outlinewidth\":0,\"ticks\":\"\"}}}],\"scattermapbox\":[{\"type\":\"scattermapbox\",\"marker\":{\"colorbar\":{\"outlinewidth\":0,\"ticks\":\"\"}}}],\"scatterternary\":[{\"type\":\"scatterternary\",\"marker\":{\"colorbar\":{\"outlinewidth\":0,\"ticks\":\"\"}}}],\"scattercarpet\":[{\"type\":\"scattercarpet\",\"marker\":{\"colorbar\":{\"outlinewidth\":0,\"ticks\":\"\"}}}],\"carpet\":[{\"aaxis\":{\"endlinecolor\":\"#2a3f5f\",\"gridcolor\":\"white\",\"linecolor\":\"white\",\"minorgridcolor\":\"white\",\"startlinecolor\":\"#2a3f5f\"},\"baxis\":{\"endlinecolor\":\"#2a3f5f\",\"gridcolor\":\"white\",\"linecolor\":\"white\",\"minorgridcolor\":\"white\",\"startlinecolor\":\"#2a3f5f\"},\"type\":\"carpet\"}],\"table\":[{\"cells\":{\"fill\":{\"color\":\"#EBF0F8\"},\"line\":{\"color\":\"white\"}},\"header\":{\"fill\":{\"color\":\"#C8D4E3\"},\"line\":{\"color\":\"white\"}},\"type\":\"table\"}],\"barpolar\":[{\"marker\":{\"line\":{\"color\":\"#E5ECF6\",\"width\":0.5},\"pattern\":{\"fillmode\":\"overlay\",\"size\":10,\"solidity\":0.2}},\"type\":\"barpolar\"}],\"pie\":[{\"automargin\":true,\"type\":\"pie\"}]},\"layout\":{\"autotypenumbers\":\"strict\",\"colorway\":[\"#636efa\",\"#EF553B\",\"#00cc96\",\"#ab63fa\",\"#FFA15A\",\"#19d3f3\",\"#FF6692\",\"#B6E880\",\"#FF97FF\",\"#FECB52\"],\"font\":{\"color\":\"#2a3f5f\"},\"hovermode\":\"closest\",\"hoverlabel\":{\"align\":\"left\"},\"paper_bgcolor\":\"white\",\"plot_bgcolor\":\"#E5ECF6\",\"polar\":{\"bgcolor\":\"#E5ECF6\",\"angularaxis\":{\"gridcolor\":\"white\",\"linecolor\":\"white\",\"ticks\":\"\"},\"radialaxis\":{\"gridcolor\":\"white\",\"linecolor\":\"white\",\"ticks\":\"\"}},\"ternary\":{\"bgcolor\":\"#E5ECF6\",\"aaxis\":{\"gridcolor\":\"white\",\"linecolor\":\"white\",\"ticks\":\"\"},\"baxis\":{\"gridcolor\":\"white\",\"linecolor\":\"white\",\"ticks\":\"\"},\"caxis\":{\"gridcolor\":\"white\",\"linecolor\":\"white\",\"ticks\":\"\"}},\"coloraxis\":{\"colorbar\":{\"outlinewidth\":0,\"ticks\":\"\"}},\"colorscale\":{\"sequential\":[[0.0,\"#0d0887\"],[0.1111111111111111,\"#46039f\"],[0.2222222222222222,\"#7201a8\"],[0.3333333333333333,\"#9c179e\"],[0.4444444444444444,\"#bd3786\"],[0.5555555555555556,\"#d8576b\"],[0.6666666666666666,\"#ed7953\"],[0.7777777777777778,\"#fb9f3a\"],[0.8888888888888888,\"#fdca26\"],[1.0,\"#f0f921\"]],\"sequentialminus\":[[0.0,\"#0d0887\"],[0.1111111111111111,\"#46039f\"],[0.2222222222222222,\"#7201a8\"],[0.3333333333333333,\"#9c179e\"],[0.4444444444444444,\"#bd3786\"],[0.5555555555555556,\"#d8576b\"],[0.6666666666666666,\"#ed7953\"],[0.7777777777777778,\"#fb9f3a\"],[0.8888888888888888,\"#fdca26\"],[1.0,\"#f0f921\"]],\"diverging\":[[0,\"#8e0152\"],[0.1,\"#c51b7d\"],[0.2,\"#de77ae\"],[0.3,\"#f1b6da\"],[0.4,\"#fde0ef\"],[0.5,\"#f7f7f7\"],[0.6,\"#e6f5d0\"],[0.7,\"#b8e186\"],[0.8,\"#7fbc41\"],[0.9,\"#4d9221\"],[1,\"#276419\"]]},\"xaxis\":{\"gridcolor\":\"white\",\"linecolor\":\"white\",\"ticks\":\"\",\"title\":{\"standoff\":15},\"zerolinecolor\":\"white\",\"automargin\":true,\"zerolinewidth\":2},\"yaxis\":{\"gridcolor\":\"white\",\"linecolor\":\"white\",\"ticks\":\"\",\"title\":{\"standoff\":15},\"zerolinecolor\":\"white\",\"automargin\":true,\"zerolinewidth\":2},\"scene\":{\"xaxis\":{\"backgroundcolor\":\"#E5ECF6\",\"gridcolor\":\"white\",\"linecolor\":\"white\",\"showbackground\":true,\"ticks\":\"\",\"zerolinecolor\":\"white\",\"gridwidth\":2},\"yaxis\":{\"backgroundcolor\":\"#E5ECF6\",\"gridcolor\":\"white\",\"linecolor\":\"white\",\"showbackground\":true,\"ticks\":\"\",\"zerolinecolor\":\"white\",\"gridwidth\":2},\"zaxis\":{\"backgroundcolor\":\"#E5ECF6\",\"gridcolor\":\"white\",\"linecolor\":\"white\",\"showbackground\":true,\"ticks\":\"\",\"zerolinecolor\":\"white\",\"gridwidth\":2}},\"shapedefaults\":{\"line\":{\"color\":\"#2a3f5f\"}},\"annotationdefaults\":{\"arrowcolor\":\"#2a3f5f\",\"arrowhead\":0,\"arrowwidth\":1},\"geo\":{\"bgcolor\":\"white\",\"landcolor\":\"#E5ECF6\",\"subunitcolor\":\"white\",\"showland\":true,\"showlakes\":true,\"lakecolor\":\"white\"},\"title\":{\"x\":0.05},\"mapbox\":{\"style\":\"light\"}}},\"xaxis\":{\"title\":{\"text\":\"Support\"},\"autorange\":\"reversed\"},\"title\":{\"text\":\"Association Rules Strength Distribution\"},\"yaxis\":{\"title\":{\"text\":\"Confidence\"}}},                        {\"responsive\": true}                    ).then(function(){\n",
       "                            \n",
       "var gd = document.getElementById('43bb094a-05c2-46f3-b9ff-6bba50a0a58a');\n",
       "var x = new MutationObserver(function (mutations, observer) {{\n",
       "        var display = window.getComputedStyle(gd).display;\n",
       "        if (!display || display === 'none') {{\n",
       "            console.log([gd, 'removed!']);\n",
       "            Plotly.purge(gd);\n",
       "            observer.disconnect();\n",
       "        }}\n",
       "}});\n",
       "\n",
       "// Listen for the removal of the full notebook cells\n",
       "var notebookContainer = gd.closest('#notebook-container');\n",
       "if (notebookContainer) {{\n",
       "    x.observe(notebookContainer, {childList: true});\n",
       "}}\n",
       "\n",
       "// Listen for the clearing of the current output cell\n",
       "var outputEl = gd.closest('.output');\n",
       "if (outputEl) {{\n",
       "    x.observe(outputEl, {childList: true});\n",
       "}}\n",
       "\n",
       "                        })                };                });            </script>        </div>"
      ]
     },
     "metadata": {},
     "output_type": "display_data",
     "jetTransient": {
      "display_id": null
     }
    },
    {
     "data": {
      "application/vnd.plotly.v1+json": {
       "data": [
        {
         "hoverinfo": "none",
         "line": {
          "color": "#888",
          "width": 0.5
         },
         "mode": "lines",
         "x": [
          0.5860851270069624,
          0.025520322708944273,
          null,
          1.0,
          0.5860851270069624,
          null,
          -0.2971809796331259,
          0.025520322708944273,
          null,
          -0.8317552520421686,
          -0.2971809796331259,
          null,
          -0.45856175448423514,
          0.025520322708944273,
          null,
          -0.893427058532015,
          -0.45856175448423514,
          null,
          0.44937849134554375,
          0.025520322708944273,
          null,
          0.6749398259691,
          0.44937849134554375,
          null,
          -0.05185749082577399,
          0.025520322708944273,
          null,
          -0.34022968786375524,
          -0.05185749082577399,
          null,
          -0.37421314439390374,
          0.025520322708944273,
          null,
          -0.8292682000416719,
          -0.37421314439390374,
          null,
          -0.04590146952083344,
          0.025520322708944273,
          null,
          -0.1545949343243993,
          -0.04590146952083344,
          null,
          0.1633724490804878,
          0.025520322708944273,
          null,
          0.5044127266940556,
          0.1633724490804878,
          null,
          0.3098664179740337,
          0.025520322708944273,
          null,
          0.31101654073891327,
          0.3098664179740337,
          null,
          -0.057501262621785745,
          0.025520322708944273,
          null,
          0.30989933276562814,
          -0.057501262621785745,
          null
         ],
         "y": [
          0.35816097530784086,
          0.5353219413426704,
          null,
          -0.1954359659290023,
          0.35816097530784086,
          null,
          0.12519789094640416,
          0.5353219413426704,
          null,
          0.0705588674895497,
          0.12519789094640416,
          null,
          0.31643398772512366,
          0.5353219413426704,
          null,
          -0.1844770784043323,
          0.31643398772512366,
          null,
          0.07283049742666264,
          0.5353219413426704,
          null,
          -0.8359960313441134,
          0.07283049742666264,
          null,
          0.07315263148439545,
          0.5353219413426704,
          null,
          -0.49121539218718485,
          0.07315263148439545,
          null,
          0.5154479356810874,
          0.5353219413426704,
          null,
          0.753132531639006,
          0.5154479356810874,
          null,
          -0.32123766964756434,
          0.5353219413426704,
          null,
          -0.9974509840759537,
          -0.32123766964756434,
          null,
          -0.10874091124517517,
          0.5353219413426704,
          null,
          -0.609642600266874,
          -0.10874091124517517,
          null,
          0.2435707365989276,
          0.5353219413426704,
          null,
          -0.6506157273018404,
          0.2435707365989276,
          null,
          0.8000128658882244,
          0.5353219413426704,
          null,
          0.5309914988721379,
          0.8000128658882244,
          null
         ],
         "type": "scatter"
        },
        {
         "hoverinfo": "text",
         "marker": {
          "color": [],
          "colorbar": {
           "thickness": 15,
           "title": {
            "side": "right",
            "text": "Node Connections"
           },
           "xanchor": "left"
          },
          "colorscale": [
           [
            0.0,
            "rgb(255,255,217)"
           ],
           [
            0.125,
            "rgb(237,248,177)"
           ],
           [
            0.25,
            "rgb(199,233,180)"
           ],
           [
            0.375,
            "rgb(127,205,187)"
           ],
           [
            0.5,
            "rgb(65,182,196)"
           ],
           [
            0.625,
            "rgb(29,145,192)"
           ],
           [
            0.75,
            "rgb(34,94,168)"
           ],
           [
            0.875,
            "rgb(37,52,148)"
           ],
           [
            1.0,
            "rgb(8,29,88)"
           ]
          ],
          "line": {
           "width": 2
          },
          "reversescale": true,
          "showscale": true,
          "size": 10
         },
         "mode": "markers",
         "text": [
          "0",
          "Keeping It Local",
          "Coffee",
          "1",
          "Extra Salami or Feta",
          "2",
          "Salad, Sandwich",
          "3",
          "Vegan mincepie, Cake",
          "4",
          "Scone, NONE",
          "5",
          "Sandwich, Hearty & Seasonal",
          "6",
          "Pastry, Toast",
          "7",
          "Salad, Extra Salami or Feta",
          "8",
          "Medialuna, NONE, Hot chocolate",
          "9",
          "Tartine, NONE"
         ],
         "x": [
          0.5860851270069624,
          1.0,
          0.025520322708944273,
          -0.2971809796331259,
          -0.8317552520421686,
          -0.45856175448423514,
          -0.893427058532015,
          0.44937849134554375,
          0.6749398259691,
          -0.05185749082577399,
          -0.34022968786375524,
          -0.37421314439390374,
          -0.8292682000416719,
          -0.04590146952083344,
          -0.1545949343243993,
          0.1633724490804878,
          0.5044127266940556,
          0.3098664179740337,
          0.31101654073891327,
          -0.057501262621785745,
          0.30989933276562814
         ],
         "y": [
          0.35816097530784086,
          -0.1954359659290023,
          0.5353219413426704,
          0.12519789094640416,
          0.0705588674895497,
          0.31643398772512366,
          -0.1844770784043323,
          0.07283049742666264,
          -0.8359960313441134,
          0.07315263148439545,
          -0.49121539218718485,
          0.5154479356810874,
          0.753132531639006,
          -0.32123766964756434,
          -0.9974509840759537,
          -0.10874091124517517,
          -0.609642600266874,
          0.2435707365989276,
          -0.6506157273018404,
          0.8000128658882244,
          0.5309914988721379
         ],
         "type": "scatter"
        }
       ],
       "layout": {
        "annotations": [
         {
          "showarrow": false,
          "text": "Python code: <a href='https://plotly.com/ipython-notebooks/network-graphs/'> https://plotly.com/ipython-notebooks/network-graphs/</a>",
          "x": 0.005,
          "xref": "paper",
          "y": -0.002,
          "yref": "paper"
         }
        ],
        "hovermode": "closest",
        "margin": {
         "b": 20,
         "l": 5,
         "r": 5,
         "t": 40
        },
        "showlegend": false,
        "title": {
         "font": {
          "size": 16
         },
         "text": "<br>Network graph made with Python"
        },
        "xaxis": {
         "showgrid": false,
         "showticklabels": false,
         "zeroline": false
        },
        "yaxis": {
         "showgrid": false,
         "showticklabels": false,
         "zeroline": false
        },
        "template": {
         "data": {
          "histogram2dcontour": [
           {
            "type": "histogram2dcontour",
            "colorbar": {
             "outlinewidth": 0,
             "ticks": ""
            },
            "colorscale": [
             [
              0.0,
              "#0d0887"
             ],
             [
              0.1111111111111111,
              "#46039f"
             ],
             [
              0.2222222222222222,
              "#7201a8"
             ],
             [
              0.3333333333333333,
              "#9c179e"
             ],
             [
              0.4444444444444444,
              "#bd3786"
             ],
             [
              0.5555555555555556,
              "#d8576b"
             ],
             [
              0.6666666666666666,
              "#ed7953"
             ],
             [
              0.7777777777777778,
              "#fb9f3a"
             ],
             [
              0.8888888888888888,
              "#fdca26"
             ],
             [
              1.0,
              "#f0f921"
             ]
            ]
           }
          ],
          "choropleth": [
           {
            "type": "choropleth",
            "colorbar": {
             "outlinewidth": 0,
             "ticks": ""
            }
           }
          ],
          "histogram2d": [
           {
            "type": "histogram2d",
            "colorbar": {
             "outlinewidth": 0,
             "ticks": ""
            },
            "colorscale": [
             [
              0.0,
              "#0d0887"
             ],
             [
              0.1111111111111111,
              "#46039f"
             ],
             [
              0.2222222222222222,
              "#7201a8"
             ],
             [
              0.3333333333333333,
              "#9c179e"
             ],
             [
              0.4444444444444444,
              "#bd3786"
             ],
             [
              0.5555555555555556,
              "#d8576b"
             ],
             [
              0.6666666666666666,
              "#ed7953"
             ],
             [
              0.7777777777777778,
              "#fb9f3a"
             ],
             [
              0.8888888888888888,
              "#fdca26"
             ],
             [
              1.0,
              "#f0f921"
             ]
            ]
           }
          ],
          "heatmap": [
           {
            "type": "heatmap",
            "colorbar": {
             "outlinewidth": 0,
             "ticks": ""
            },
            "colorscale": [
             [
              0.0,
              "#0d0887"
             ],
             [
              0.1111111111111111,
              "#46039f"
             ],
             [
              0.2222222222222222,
              "#7201a8"
             ],
             [
              0.3333333333333333,
              "#9c179e"
             ],
             [
              0.4444444444444444,
              "#bd3786"
             ],
             [
              0.5555555555555556,
              "#d8576b"
             ],
             [
              0.6666666666666666,
              "#ed7953"
             ],
             [
              0.7777777777777778,
              "#fb9f3a"
             ],
             [
              0.8888888888888888,
              "#fdca26"
             ],
             [
              1.0,
              "#f0f921"
             ]
            ]
           }
          ],
          "heatmapgl": [
           {
            "type": "heatmapgl",
            "colorbar": {
             "outlinewidth": 0,
             "ticks": ""
            },
            "colorscale": [
             [
              0.0,
              "#0d0887"
             ],
             [
              0.1111111111111111,
              "#46039f"
             ],
             [
              0.2222222222222222,
              "#7201a8"
             ],
             [
              0.3333333333333333,
              "#9c179e"
             ],
             [
              0.4444444444444444,
              "#bd3786"
             ],
             [
              0.5555555555555556,
              "#d8576b"
             ],
             [
              0.6666666666666666,
              "#ed7953"
             ],
             [
              0.7777777777777778,
              "#fb9f3a"
             ],
             [
              0.8888888888888888,
              "#fdca26"
             ],
             [
              1.0,
              "#f0f921"
             ]
            ]
           }
          ],
          "contourcarpet": [
           {
            "type": "contourcarpet",
            "colorbar": {
             "outlinewidth": 0,
             "ticks": ""
            }
           }
          ],
          "contour": [
           {
            "type": "contour",
            "colorbar": {
             "outlinewidth": 0,
             "ticks": ""
            },
            "colorscale": [
             [
              0.0,
              "#0d0887"
             ],
             [
              0.1111111111111111,
              "#46039f"
             ],
             [
              0.2222222222222222,
              "#7201a8"
             ],
             [
              0.3333333333333333,
              "#9c179e"
             ],
             [
              0.4444444444444444,
              "#bd3786"
             ],
             [
              0.5555555555555556,
              "#d8576b"
             ],
             [
              0.6666666666666666,
              "#ed7953"
             ],
             [
              0.7777777777777778,
              "#fb9f3a"
             ],
             [
              0.8888888888888888,
              "#fdca26"
             ],
             [
              1.0,
              "#f0f921"
             ]
            ]
           }
          ],
          "surface": [
           {
            "type": "surface",
            "colorbar": {
             "outlinewidth": 0,
             "ticks": ""
            },
            "colorscale": [
             [
              0.0,
              "#0d0887"
             ],
             [
              0.1111111111111111,
              "#46039f"
             ],
             [
              0.2222222222222222,
              "#7201a8"
             ],
             [
              0.3333333333333333,
              "#9c179e"
             ],
             [
              0.4444444444444444,
              "#bd3786"
             ],
             [
              0.5555555555555556,
              "#d8576b"
             ],
             [
              0.6666666666666666,
              "#ed7953"
             ],
             [
              0.7777777777777778,
              "#fb9f3a"
             ],
             [
              0.8888888888888888,
              "#fdca26"
             ],
             [
              1.0,
              "#f0f921"
             ]
            ]
           }
          ],
          "mesh3d": [
           {
            "type": "mesh3d",
            "colorbar": {
             "outlinewidth": 0,
             "ticks": ""
            }
           }
          ],
          "scatter": [
           {
            "fillpattern": {
             "fillmode": "overlay",
             "size": 10,
             "solidity": 0.2
            },
            "type": "scatter"
           }
          ],
          "parcoords": [
           {
            "type": "parcoords",
            "line": {
             "colorbar": {
              "outlinewidth": 0,
              "ticks": ""
             }
            }
           }
          ],
          "scatterpolargl": [
           {
            "type": "scatterpolargl",
            "marker": {
             "colorbar": {
              "outlinewidth": 0,
              "ticks": ""
             }
            }
           }
          ],
          "bar": [
           {
            "error_x": {
             "color": "#2a3f5f"
            },
            "error_y": {
             "color": "#2a3f5f"
            },
            "marker": {
             "line": {
              "color": "#E5ECF6",
              "width": 0.5
             },
             "pattern": {
              "fillmode": "overlay",
              "size": 10,
              "solidity": 0.2
             }
            },
            "type": "bar"
           }
          ],
          "scattergeo": [
           {
            "type": "scattergeo",
            "marker": {
             "colorbar": {
              "outlinewidth": 0,
              "ticks": ""
             }
            }
           }
          ],
          "scatterpolar": [
           {
            "type": "scatterpolar",
            "marker": {
             "colorbar": {
              "outlinewidth": 0,
              "ticks": ""
             }
            }
           }
          ],
          "histogram": [
           {
            "marker": {
             "pattern": {
              "fillmode": "overlay",
              "size": 10,
              "solidity": 0.2
             }
            },
            "type": "histogram"
           }
          ],
          "scattergl": [
           {
            "type": "scattergl",
            "marker": {
             "colorbar": {
              "outlinewidth": 0,
              "ticks": ""
             }
            }
           }
          ],
          "scatter3d": [
           {
            "type": "scatter3d",
            "line": {
             "colorbar": {
              "outlinewidth": 0,
              "ticks": ""
             }
            },
            "marker": {
             "colorbar": {
              "outlinewidth": 0,
              "ticks": ""
             }
            }
           }
          ],
          "scattermapbox": [
           {
            "type": "scattermapbox",
            "marker": {
             "colorbar": {
              "outlinewidth": 0,
              "ticks": ""
             }
            }
           }
          ],
          "scatterternary": [
           {
            "type": "scatterternary",
            "marker": {
             "colorbar": {
              "outlinewidth": 0,
              "ticks": ""
             }
            }
           }
          ],
          "scattercarpet": [
           {
            "type": "scattercarpet",
            "marker": {
             "colorbar": {
              "outlinewidth": 0,
              "ticks": ""
             }
            }
           }
          ],
          "carpet": [
           {
            "aaxis": {
             "endlinecolor": "#2a3f5f",
             "gridcolor": "white",
             "linecolor": "white",
             "minorgridcolor": "white",
             "startlinecolor": "#2a3f5f"
            },
            "baxis": {
             "endlinecolor": "#2a3f5f",
             "gridcolor": "white",
             "linecolor": "white",
             "minorgridcolor": "white",
             "startlinecolor": "#2a3f5f"
            },
            "type": "carpet"
           }
          ],
          "table": [
           {
            "cells": {
             "fill": {
              "color": "#EBF0F8"
             },
             "line": {
              "color": "white"
             }
            },
            "header": {
             "fill": {
              "color": "#C8D4E3"
             },
             "line": {
              "color": "white"
             }
            },
            "type": "table"
           }
          ],
          "barpolar": [
           {
            "marker": {
             "line": {
              "color": "#E5ECF6",
              "width": 0.5
             },
             "pattern": {
              "fillmode": "overlay",
              "size": 10,
              "solidity": 0.2
             }
            },
            "type": "barpolar"
           }
          ],
          "pie": [
           {
            "automargin": true,
            "type": "pie"
           }
          ]
         },
         "layout": {
          "autotypenumbers": "strict",
          "colorway": [
           "#636efa",
           "#EF553B",
           "#00cc96",
           "#ab63fa",
           "#FFA15A",
           "#19d3f3",
           "#FF6692",
           "#B6E880",
           "#FF97FF",
           "#FECB52"
          ],
          "font": {
           "color": "#2a3f5f"
          },
          "hovermode": "closest",
          "hoverlabel": {
           "align": "left"
          },
          "paper_bgcolor": "white",
          "plot_bgcolor": "#E5ECF6",
          "polar": {
           "bgcolor": "#E5ECF6",
           "angularaxis": {
            "gridcolor": "white",
            "linecolor": "white",
            "ticks": ""
           },
           "radialaxis": {
            "gridcolor": "white",
            "linecolor": "white",
            "ticks": ""
           }
          },
          "ternary": {
           "bgcolor": "#E5ECF6",
           "aaxis": {
            "gridcolor": "white",
            "linecolor": "white",
            "ticks": ""
           },
           "baxis": {
            "gridcolor": "white",
            "linecolor": "white",
            "ticks": ""
           },
           "caxis": {
            "gridcolor": "white",
            "linecolor": "white",
            "ticks": ""
           }
          },
          "coloraxis": {
           "colorbar": {
            "outlinewidth": 0,
            "ticks": ""
           }
          },
          "colorscale": {
           "sequential": [
            [
             0.0,
             "#0d0887"
            ],
            [
             0.1111111111111111,
             "#46039f"
            ],
            [
             0.2222222222222222,
             "#7201a8"
            ],
            [
             0.3333333333333333,
             "#9c179e"
            ],
            [
             0.4444444444444444,
             "#bd3786"
            ],
            [
             0.5555555555555556,
             "#d8576b"
            ],
            [
             0.6666666666666666,
             "#ed7953"
            ],
            [
             0.7777777777777778,
             "#fb9f3a"
            ],
            [
             0.8888888888888888,
             "#fdca26"
            ],
            [
             1.0,
             "#f0f921"
            ]
           ],
           "sequentialminus": [
            [
             0.0,
             "#0d0887"
            ],
            [
             0.1111111111111111,
             "#46039f"
            ],
            [
             0.2222222222222222,
             "#7201a8"
            ],
            [
             0.3333333333333333,
             "#9c179e"
            ],
            [
             0.4444444444444444,
             "#bd3786"
            ],
            [
             0.5555555555555556,
             "#d8576b"
            ],
            [
             0.6666666666666666,
             "#ed7953"
            ],
            [
             0.7777777777777778,
             "#fb9f3a"
            ],
            [
             0.8888888888888888,
             "#fdca26"
            ],
            [
             1.0,
             "#f0f921"
            ]
           ],
           "diverging": [
            [
             0,
             "#8e0152"
            ],
            [
             0.1,
             "#c51b7d"
            ],
            [
             0.2,
             "#de77ae"
            ],
            [
             0.3,
             "#f1b6da"
            ],
            [
             0.4,
             "#fde0ef"
            ],
            [
             0.5,
             "#f7f7f7"
            ],
            [
             0.6,
             "#e6f5d0"
            ],
            [
             0.7,
             "#b8e186"
            ],
            [
             0.8,
             "#7fbc41"
            ],
            [
             0.9,
             "#4d9221"
            ],
            [
             1,
             "#276419"
            ]
           ]
          },
          "xaxis": {
           "gridcolor": "white",
           "linecolor": "white",
           "ticks": "",
           "title": {
            "standoff": 15
           },
           "zerolinecolor": "white",
           "automargin": true,
           "zerolinewidth": 2
          },
          "yaxis": {
           "gridcolor": "white",
           "linecolor": "white",
           "ticks": "",
           "title": {
            "standoff": 15
           },
           "zerolinecolor": "white",
           "automargin": true,
           "zerolinewidth": 2
          },
          "scene": {
           "xaxis": {
            "backgroundcolor": "#E5ECF6",
            "gridcolor": "white",
            "linecolor": "white",
            "showbackground": true,
            "ticks": "",
            "zerolinecolor": "white",
            "gridwidth": 2
           },
           "yaxis": {
            "backgroundcolor": "#E5ECF6",
            "gridcolor": "white",
            "linecolor": "white",
            "showbackground": true,
            "ticks": "",
            "zerolinecolor": "white",
            "gridwidth": 2
           },
           "zaxis": {
            "backgroundcolor": "#E5ECF6",
            "gridcolor": "white",
            "linecolor": "white",
            "showbackground": true,
            "ticks": "",
            "zerolinecolor": "white",
            "gridwidth": 2
           }
          },
          "shapedefaults": {
           "line": {
            "color": "#2a3f5f"
           }
          },
          "annotationdefaults": {
           "arrowcolor": "#2a3f5f",
           "arrowhead": 0,
           "arrowwidth": 1
          },
          "geo": {
           "bgcolor": "white",
           "landcolor": "#E5ECF6",
           "subunitcolor": "white",
           "showland": true,
           "showlakes": true,
           "lakecolor": "white"
          },
          "title": {
           "x": 0.05
          },
          "mapbox": {
           "style": "light"
          }
         }
        }
       },
       "config": {
        "plotlyServerURL": "https://plot.ly"
       }
      },
      "text/html": [
       "<div>                            <div id=\"3a965b9a-9a41-45ba-9c40-e58ca6de49ae\" class=\"plotly-graph-div\" style=\"height:525px; width:100%;\"></div>            <script type=\"text/javascript\">                require([\"plotly\"], function(Plotly) {                    window.PLOTLYENV=window.PLOTLYENV || {};                                    if (document.getElementById(\"3a965b9a-9a41-45ba-9c40-e58ca6de49ae\")) {                    Plotly.newPlot(                        \"3a965b9a-9a41-45ba-9c40-e58ca6de49ae\",                        [{\"hoverinfo\":\"none\",\"line\":{\"color\":\"#888\",\"width\":0.5},\"mode\":\"lines\",\"x\":[0.5860851270069624,0.025520322708944273,null,1.0,0.5860851270069624,null,-0.2971809796331259,0.025520322708944273,null,-0.8317552520421686,-0.2971809796331259,null,-0.45856175448423514,0.025520322708944273,null,-0.893427058532015,-0.45856175448423514,null,0.44937849134554375,0.025520322708944273,null,0.6749398259691,0.44937849134554375,null,-0.05185749082577399,0.025520322708944273,null,-0.34022968786375524,-0.05185749082577399,null,-0.37421314439390374,0.025520322708944273,null,-0.8292682000416719,-0.37421314439390374,null,-0.04590146952083344,0.025520322708944273,null,-0.1545949343243993,-0.04590146952083344,null,0.1633724490804878,0.025520322708944273,null,0.5044127266940556,0.1633724490804878,null,0.3098664179740337,0.025520322708944273,null,0.31101654073891327,0.3098664179740337,null,-0.057501262621785745,0.025520322708944273,null,0.30989933276562814,-0.057501262621785745,null],\"y\":[0.35816097530784086,0.5353219413426704,null,-0.1954359659290023,0.35816097530784086,null,0.12519789094640416,0.5353219413426704,null,0.0705588674895497,0.12519789094640416,null,0.31643398772512366,0.5353219413426704,null,-0.1844770784043323,0.31643398772512366,null,0.07283049742666264,0.5353219413426704,null,-0.8359960313441134,0.07283049742666264,null,0.07315263148439545,0.5353219413426704,null,-0.49121539218718485,0.07315263148439545,null,0.5154479356810874,0.5353219413426704,null,0.753132531639006,0.5154479356810874,null,-0.32123766964756434,0.5353219413426704,null,-0.9974509840759537,-0.32123766964756434,null,-0.10874091124517517,0.5353219413426704,null,-0.609642600266874,-0.10874091124517517,null,0.2435707365989276,0.5353219413426704,null,-0.6506157273018404,0.2435707365989276,null,0.8000128658882244,0.5353219413426704,null,0.5309914988721379,0.8000128658882244,null],\"type\":\"scatter\"},{\"hoverinfo\":\"text\",\"marker\":{\"color\":[],\"colorbar\":{\"thickness\":15,\"title\":{\"side\":\"right\",\"text\":\"Node Connections\"},\"xanchor\":\"left\"},\"colorscale\":[[0.0,\"rgb(255,255,217)\"],[0.125,\"rgb(237,248,177)\"],[0.25,\"rgb(199,233,180)\"],[0.375,\"rgb(127,205,187)\"],[0.5,\"rgb(65,182,196)\"],[0.625,\"rgb(29,145,192)\"],[0.75,\"rgb(34,94,168)\"],[0.875,\"rgb(37,52,148)\"],[1.0,\"rgb(8,29,88)\"]],\"line\":{\"width\":2},\"reversescale\":true,\"showscale\":true,\"size\":10},\"mode\":\"markers\",\"text\":[\"0\",\"Keeping It Local\",\"Coffee\",\"1\",\"Extra Salami or Feta\",\"2\",\"Salad, Sandwich\",\"3\",\"Vegan mincepie, Cake\",\"4\",\"Scone, NONE\",\"5\",\"Sandwich, Hearty & Seasonal\",\"6\",\"Pastry, Toast\",\"7\",\"Salad, Extra Salami or Feta\",\"8\",\"Medialuna, NONE, Hot chocolate\",\"9\",\"Tartine, NONE\"],\"x\":[0.5860851270069624,1.0,0.025520322708944273,-0.2971809796331259,-0.8317552520421686,-0.45856175448423514,-0.893427058532015,0.44937849134554375,0.6749398259691,-0.05185749082577399,-0.34022968786375524,-0.37421314439390374,-0.8292682000416719,-0.04590146952083344,-0.1545949343243993,0.1633724490804878,0.5044127266940556,0.3098664179740337,0.31101654073891327,-0.057501262621785745,0.30989933276562814],\"y\":[0.35816097530784086,-0.1954359659290023,0.5353219413426704,0.12519789094640416,0.0705588674895497,0.31643398772512366,-0.1844770784043323,0.07283049742666264,-0.8359960313441134,0.07315263148439545,-0.49121539218718485,0.5154479356810874,0.753132531639006,-0.32123766964756434,-0.9974509840759537,-0.10874091124517517,-0.609642600266874,0.2435707365989276,-0.6506157273018404,0.8000128658882244,0.5309914988721379],\"type\":\"scatter\"}],                        {\"annotations\":[{\"showarrow\":false,\"text\":\"Python code: \\u003ca href='https:\\u002f\\u002fplotly.com\\u002fipython-notebooks\\u002fnetwork-graphs\\u002f'\\u003e https:\\u002f\\u002fplotly.com\\u002fipython-notebooks\\u002fnetwork-graphs\\u002f\\u003c\\u002fa\\u003e\",\"x\":0.005,\"xref\":\"paper\",\"y\":-0.002,\"yref\":\"paper\"}],\"hovermode\":\"closest\",\"margin\":{\"b\":20,\"l\":5,\"r\":5,\"t\":40},\"showlegend\":false,\"title\":{\"font\":{\"size\":16},\"text\":\"\\u003cbr\\u003eNetwork graph made with Python\"},\"xaxis\":{\"showgrid\":false,\"showticklabels\":false,\"zeroline\":false},\"yaxis\":{\"showgrid\":false,\"showticklabels\":false,\"zeroline\":false},\"template\":{\"data\":{\"histogram2dcontour\":[{\"type\":\"histogram2dcontour\",\"colorbar\":{\"outlinewidth\":0,\"ticks\":\"\"},\"colorscale\":[[0.0,\"#0d0887\"],[0.1111111111111111,\"#46039f\"],[0.2222222222222222,\"#7201a8\"],[0.3333333333333333,\"#9c179e\"],[0.4444444444444444,\"#bd3786\"],[0.5555555555555556,\"#d8576b\"],[0.6666666666666666,\"#ed7953\"],[0.7777777777777778,\"#fb9f3a\"],[0.8888888888888888,\"#fdca26\"],[1.0,\"#f0f921\"]]}],\"choropleth\":[{\"type\":\"choropleth\",\"colorbar\":{\"outlinewidth\":0,\"ticks\":\"\"}}],\"histogram2d\":[{\"type\":\"histogram2d\",\"colorbar\":{\"outlinewidth\":0,\"ticks\":\"\"},\"colorscale\":[[0.0,\"#0d0887\"],[0.1111111111111111,\"#46039f\"],[0.2222222222222222,\"#7201a8\"],[0.3333333333333333,\"#9c179e\"],[0.4444444444444444,\"#bd3786\"],[0.5555555555555556,\"#d8576b\"],[0.6666666666666666,\"#ed7953\"],[0.7777777777777778,\"#fb9f3a\"],[0.8888888888888888,\"#fdca26\"],[1.0,\"#f0f921\"]]}],\"heatmap\":[{\"type\":\"heatmap\",\"colorbar\":{\"outlinewidth\":0,\"ticks\":\"\"},\"colorscale\":[[0.0,\"#0d0887\"],[0.1111111111111111,\"#46039f\"],[0.2222222222222222,\"#7201a8\"],[0.3333333333333333,\"#9c179e\"],[0.4444444444444444,\"#bd3786\"],[0.5555555555555556,\"#d8576b\"],[0.6666666666666666,\"#ed7953\"],[0.7777777777777778,\"#fb9f3a\"],[0.8888888888888888,\"#fdca26\"],[1.0,\"#f0f921\"]]}],\"heatmapgl\":[{\"type\":\"heatmapgl\",\"colorbar\":{\"outlinewidth\":0,\"ticks\":\"\"},\"colorscale\":[[0.0,\"#0d0887\"],[0.1111111111111111,\"#46039f\"],[0.2222222222222222,\"#7201a8\"],[0.3333333333333333,\"#9c179e\"],[0.4444444444444444,\"#bd3786\"],[0.5555555555555556,\"#d8576b\"],[0.6666666666666666,\"#ed7953\"],[0.7777777777777778,\"#fb9f3a\"],[0.8888888888888888,\"#fdca26\"],[1.0,\"#f0f921\"]]}],\"contourcarpet\":[{\"type\":\"contourcarpet\",\"colorbar\":{\"outlinewidth\":0,\"ticks\":\"\"}}],\"contour\":[{\"type\":\"contour\",\"colorbar\":{\"outlinewidth\":0,\"ticks\":\"\"},\"colorscale\":[[0.0,\"#0d0887\"],[0.1111111111111111,\"#46039f\"],[0.2222222222222222,\"#7201a8\"],[0.3333333333333333,\"#9c179e\"],[0.4444444444444444,\"#bd3786\"],[0.5555555555555556,\"#d8576b\"],[0.6666666666666666,\"#ed7953\"],[0.7777777777777778,\"#fb9f3a\"],[0.8888888888888888,\"#fdca26\"],[1.0,\"#f0f921\"]]}],\"surface\":[{\"type\":\"surface\",\"colorbar\":{\"outlinewidth\":0,\"ticks\":\"\"},\"colorscale\":[[0.0,\"#0d0887\"],[0.1111111111111111,\"#46039f\"],[0.2222222222222222,\"#7201a8\"],[0.3333333333333333,\"#9c179e\"],[0.4444444444444444,\"#bd3786\"],[0.5555555555555556,\"#d8576b\"],[0.6666666666666666,\"#ed7953\"],[0.7777777777777778,\"#fb9f3a\"],[0.8888888888888888,\"#fdca26\"],[1.0,\"#f0f921\"]]}],\"mesh3d\":[{\"type\":\"mesh3d\",\"colorbar\":{\"outlinewidth\":0,\"ticks\":\"\"}}],\"scatter\":[{\"fillpattern\":{\"fillmode\":\"overlay\",\"size\":10,\"solidity\":0.2},\"type\":\"scatter\"}],\"parcoords\":[{\"type\":\"parcoords\",\"line\":{\"colorbar\":{\"outlinewidth\":0,\"ticks\":\"\"}}}],\"scatterpolargl\":[{\"type\":\"scatterpolargl\",\"marker\":{\"colorbar\":{\"outlinewidth\":0,\"ticks\":\"\"}}}],\"bar\":[{\"error_x\":{\"color\":\"#2a3f5f\"},\"error_y\":{\"color\":\"#2a3f5f\"},\"marker\":{\"line\":{\"color\":\"#E5ECF6\",\"width\":0.5},\"pattern\":{\"fillmode\":\"overlay\",\"size\":10,\"solidity\":0.2}},\"type\":\"bar\"}],\"scattergeo\":[{\"type\":\"scattergeo\",\"marker\":{\"colorbar\":{\"outlinewidth\":0,\"ticks\":\"\"}}}],\"scatterpolar\":[{\"type\":\"scatterpolar\",\"marker\":{\"colorbar\":{\"outlinewidth\":0,\"ticks\":\"\"}}}],\"histogram\":[{\"marker\":{\"pattern\":{\"fillmode\":\"overlay\",\"size\":10,\"solidity\":0.2}},\"type\":\"histogram\"}],\"scattergl\":[{\"type\":\"scattergl\",\"marker\":{\"colorbar\":{\"outlinewidth\":0,\"ticks\":\"\"}}}],\"scatter3d\":[{\"type\":\"scatter3d\",\"line\":{\"colorbar\":{\"outlinewidth\":0,\"ticks\":\"\"}},\"marker\":{\"colorbar\":{\"outlinewidth\":0,\"ticks\":\"\"}}}],\"scattermapbox\":[{\"type\":\"scattermapbox\",\"marker\":{\"colorbar\":{\"outlinewidth\":0,\"ticks\":\"\"}}}],\"scatterternary\":[{\"type\":\"scatterternary\",\"marker\":{\"colorbar\":{\"outlinewidth\":0,\"ticks\":\"\"}}}],\"scattercarpet\":[{\"type\":\"scattercarpet\",\"marker\":{\"colorbar\":{\"outlinewidth\":0,\"ticks\":\"\"}}}],\"carpet\":[{\"aaxis\":{\"endlinecolor\":\"#2a3f5f\",\"gridcolor\":\"white\",\"linecolor\":\"white\",\"minorgridcolor\":\"white\",\"startlinecolor\":\"#2a3f5f\"},\"baxis\":{\"endlinecolor\":\"#2a3f5f\",\"gridcolor\":\"white\",\"linecolor\":\"white\",\"minorgridcolor\":\"white\",\"startlinecolor\":\"#2a3f5f\"},\"type\":\"carpet\"}],\"table\":[{\"cells\":{\"fill\":{\"color\":\"#EBF0F8\"},\"line\":{\"color\":\"white\"}},\"header\":{\"fill\":{\"color\":\"#C8D4E3\"},\"line\":{\"color\":\"white\"}},\"type\":\"table\"}],\"barpolar\":[{\"marker\":{\"line\":{\"color\":\"#E5ECF6\",\"width\":0.5},\"pattern\":{\"fillmode\":\"overlay\",\"size\":10,\"solidity\":0.2}},\"type\":\"barpolar\"}],\"pie\":[{\"automargin\":true,\"type\":\"pie\"}]},\"layout\":{\"autotypenumbers\":\"strict\",\"colorway\":[\"#636efa\",\"#EF553B\",\"#00cc96\",\"#ab63fa\",\"#FFA15A\",\"#19d3f3\",\"#FF6692\",\"#B6E880\",\"#FF97FF\",\"#FECB52\"],\"font\":{\"color\":\"#2a3f5f\"},\"hovermode\":\"closest\",\"hoverlabel\":{\"align\":\"left\"},\"paper_bgcolor\":\"white\",\"plot_bgcolor\":\"#E5ECF6\",\"polar\":{\"bgcolor\":\"#E5ECF6\",\"angularaxis\":{\"gridcolor\":\"white\",\"linecolor\":\"white\",\"ticks\":\"\"},\"radialaxis\":{\"gridcolor\":\"white\",\"linecolor\":\"white\",\"ticks\":\"\"}},\"ternary\":{\"bgcolor\":\"#E5ECF6\",\"aaxis\":{\"gridcolor\":\"white\",\"linecolor\":\"white\",\"ticks\":\"\"},\"baxis\":{\"gridcolor\":\"white\",\"linecolor\":\"white\",\"ticks\":\"\"},\"caxis\":{\"gridcolor\":\"white\",\"linecolor\":\"white\",\"ticks\":\"\"}},\"coloraxis\":{\"colorbar\":{\"outlinewidth\":0,\"ticks\":\"\"}},\"colorscale\":{\"sequential\":[[0.0,\"#0d0887\"],[0.1111111111111111,\"#46039f\"],[0.2222222222222222,\"#7201a8\"],[0.3333333333333333,\"#9c179e\"],[0.4444444444444444,\"#bd3786\"],[0.5555555555555556,\"#d8576b\"],[0.6666666666666666,\"#ed7953\"],[0.7777777777777778,\"#fb9f3a\"],[0.8888888888888888,\"#fdca26\"],[1.0,\"#f0f921\"]],\"sequentialminus\":[[0.0,\"#0d0887\"],[0.1111111111111111,\"#46039f\"],[0.2222222222222222,\"#7201a8\"],[0.3333333333333333,\"#9c179e\"],[0.4444444444444444,\"#bd3786\"],[0.5555555555555556,\"#d8576b\"],[0.6666666666666666,\"#ed7953\"],[0.7777777777777778,\"#fb9f3a\"],[0.8888888888888888,\"#fdca26\"],[1.0,\"#f0f921\"]],\"diverging\":[[0,\"#8e0152\"],[0.1,\"#c51b7d\"],[0.2,\"#de77ae\"],[0.3,\"#f1b6da\"],[0.4,\"#fde0ef\"],[0.5,\"#f7f7f7\"],[0.6,\"#e6f5d0\"],[0.7,\"#b8e186\"],[0.8,\"#7fbc41\"],[0.9,\"#4d9221\"],[1,\"#276419\"]]},\"xaxis\":{\"gridcolor\":\"white\",\"linecolor\":\"white\",\"ticks\":\"\",\"title\":{\"standoff\":15},\"zerolinecolor\":\"white\",\"automargin\":true,\"zerolinewidth\":2},\"yaxis\":{\"gridcolor\":\"white\",\"linecolor\":\"white\",\"ticks\":\"\",\"title\":{\"standoff\":15},\"zerolinecolor\":\"white\",\"automargin\":true,\"zerolinewidth\":2},\"scene\":{\"xaxis\":{\"backgroundcolor\":\"#E5ECF6\",\"gridcolor\":\"white\",\"linecolor\":\"white\",\"showbackground\":true,\"ticks\":\"\",\"zerolinecolor\":\"white\",\"gridwidth\":2},\"yaxis\":{\"backgroundcolor\":\"#E5ECF6\",\"gridcolor\":\"white\",\"linecolor\":\"white\",\"showbackground\":true,\"ticks\":\"\",\"zerolinecolor\":\"white\",\"gridwidth\":2},\"zaxis\":{\"backgroundcolor\":\"#E5ECF6\",\"gridcolor\":\"white\",\"linecolor\":\"white\",\"showbackground\":true,\"ticks\":\"\",\"zerolinecolor\":\"white\",\"gridwidth\":2}},\"shapedefaults\":{\"line\":{\"color\":\"#2a3f5f\"}},\"annotationdefaults\":{\"arrowcolor\":\"#2a3f5f\",\"arrowhead\":0,\"arrowwidth\":1},\"geo\":{\"bgcolor\":\"white\",\"landcolor\":\"#E5ECF6\",\"subunitcolor\":\"white\",\"showland\":true,\"showlakes\":true,\"lakecolor\":\"white\"},\"title\":{\"x\":0.05},\"mapbox\":{\"style\":\"light\"}}}},                        {\"responsive\": true}                    ).then(function(){\n",
       "                            \n",
       "var gd = document.getElementById('3a965b9a-9a41-45ba-9c40-e58ca6de49ae');\n",
       "var x = new MutationObserver(function (mutations, observer) {{\n",
       "        var display = window.getComputedStyle(gd).display;\n",
       "        if (!display || display === 'none') {{\n",
       "            console.log([gd, 'removed!']);\n",
       "            Plotly.purge(gd);\n",
       "            observer.disconnect();\n",
       "        }}\n",
       "}});\n",
       "\n",
       "// Listen for the removal of the full notebook cells\n",
       "var notebookContainer = gd.closest('#notebook-container');\n",
       "if (notebookContainer) {{\n",
       "    x.observe(notebookContainer, {childList: true});\n",
       "}}\n",
       "\n",
       "// Listen for the clearing of the current output cell\n",
       "var outputEl = gd.closest('.output');\n",
       "if (outputEl) {{\n",
       "    x.observe(outputEl, {childList: true});\n",
       "}}\n",
       "\n",
       "                        })                };                });            </script>        </div>"
      ]
     },
     "metadata": {},
     "output_type": "display_data",
     "jetTransient": {
      "display_id": null
     }
    }
   ],
   "execution_count": 35
  },
  {
   "metadata": {},
   "cell_type": "markdown",
   "source": "efficient_apriori",
   "id": "aedc80074241b2e4"
  },
  {
   "metadata": {
    "ExecuteTime": {
     "end_time": "2025-09-25T09:56:21.638087Z",
     "start_time": "2025-09-25T09:56:21.632868Z"
    }
   },
   "cell_type": "code",
   "source": [
    "def output_efficient_apriori(rules):\n",
    "    rules_pyarmviz = []\n",
    "\n",
    "    for i, r in enumerate(rules):\n",
    "        ant = frozenset(r.lhs)\n",
    "        cons = frozenset(r.rhs)\n",
    "        union = ant | cons\n",
    "\n",
    "        count_ab = sum(1 for t in transactions if union.issubset(t))\n",
    "        count_a = sum(1 for t in transactions if ant.issubset(t))\n",
    "        count_b = sum(1 for t in transactions if cons.issubset(t))\n",
    "\n",
    "        support_ab = count_ab / n_trans\n",
    "        support_a = count_a / n_trans\n",
    "        support_b = count_b / n_trans\n",
    "\n",
    "        lift = support_ab / (support_a * support_b) if support_a * support_b else 0.0\n",
    "\n",
    "        print(f\"{i}: {r.lhs} -> {r.rhs} \"\n",
    "              f\"Support = {support_ab:.3f} Confidence = {r.confidence:.3f} Lift = {lift:.3f}\")\n",
    "\n",
    "        rules_pyarmviz.append(\n",
    "            PyARMViz.Rule.Rule(\n",
    "                lhs=[\", \".join(r.lhs)],\n",
    "                rhs=[\", \".join(r.rhs)],\n",
    "                count_full=count_ab,\n",
    "                count_lhs=count_a,\n",
    "                count_rhs=count_b,\n",
    "                num_transactions=n_trans\n",
    "            )\n",
    "        )\n",
    "    PyARMViz.metadata_scatter_plot(rules_pyarmviz)\n",
    "    PyARMViz.adjacency_graph_plotly(rules_pyarmviz)\n",
    "    # PyARMViz.adjacency_parallel_coordinate_plot(rules_pyarmviz)\n",
    "    # PyARMViz.adjacency_parallel_category_plot(rules_pyarmviz)\n"
   ],
   "id": "c394a74034f34759",
   "outputs": [],
   "execution_count": 36
  },
  {
   "metadata": {
    "ExecuteTime": {
     "end_time": "2025-09-25T09:56:22.060784Z",
     "start_time": "2025-09-25T09:56:21.643232Z"
    }
   },
   "cell_type": "code",
   "source": [
    "start = time.time()\n",
    "itemsets, rules = efficient_apriori(transactions, min_support=min_sup, min_confidence=0.6)\n",
    "times['efficient-apriori'] = time.time() - start\n",
    "output_efficient_apriori(rules)"
   ],
   "id": "a56da7909c89c147",
   "outputs": [
    {
     "name": "stdout",
     "output_type": "stream",
     "text": [
      "0: ('Art Tray',) -> ('Coffee',) Support = 0.003 Confidence = 0.684 Lift = 1.440\n",
      "1: ('Bakewell',) -> ('Coffee',) Support = 0.003 Confidence = 0.604 Lift = 1.272\n",
      "2: ('Extra Salami or Feta',) -> ('Coffee',) Support = 0.003 Confidence = 0.816 Lift = 1.717\n",
      "3: ('Granola',) -> ('Coffee',) Support = 0.002 Confidence = 0.607 Lift = 1.278\n",
      "4: ('Keeping It Local',) -> ('Coffee',) Support = 0.005 Confidence = 0.810 Lift = 1.704\n",
      "5: ('Salad',) -> ('Coffee',) Support = 0.007 Confidence = 0.626 Lift = 1.318\n",
      "6: ('Tartine',) -> ('Coffee',) Support = 0.003 Confidence = 0.630 Lift = 1.327\n",
      "7: ('Toast',) -> ('Coffee',) Support = 0.024 Confidence = 0.704 Lift = 1.483\n",
      "8: ('Alfajores', 'Cookies') -> ('Coffee',) Support = 0.002 Confidence = 0.652 Lift = 1.373\n",
      "9: ('Alfajores', 'NONE') -> ('Coffee',) Support = 0.001 Confidence = 0.611 Lift = 1.286\n",
      "10: ('Brownie', 'Cookies') -> ('Coffee',) Support = 0.002 Confidence = 0.625 Lift = 1.316\n",
      "11: ('Brownie', 'NONE') -> ('Coffee',) Support = 0.001 Confidence = 0.609 Lift = 1.281\n",
      "12: ('Brownie', 'Sandwich') -> ('Coffee',) Support = 0.001 Confidence = 0.636 Lift = 1.339\n",
      "13: ('Cake', 'Hot chocolate') -> ('Coffee',) Support = 0.007 Confidence = 0.602 Lift = 1.267\n",
      "14: ('Cake', 'Medialuna') -> ('Coffee',) Support = 0.003 Confidence = 0.686 Lift = 1.443\n",
      "15: ('Cake', 'NONE') -> ('Coffee',) Support = 0.003 Confidence = 0.667 Lift = 1.403\n",
      "16: ('Cake', 'Salad') -> ('Coffee',) Support = 0.001 Confidence = 0.769 Lift = 1.619\n",
      "17: ('Cake', 'Sandwich') -> ('Coffee',) Support = 0.005 Confidence = 0.677 Lift = 1.425\n",
      "18: ('Cake', 'Scone') -> ('Coffee',) Support = 0.003 Confidence = 0.600 Lift = 1.263\n",
      "19: ('Cake', 'Smoothies') -> ('Coffee',) Support = 0.001 Confidence = 0.667 Lift = 1.403\n",
      "20: ('Cake', 'Tiffin') -> ('Coffee',) Support = 0.002 Confidence = 0.682 Lift = 1.435\n",
      "21: ('Cake', 'Toast') -> ('Coffee',) Support = 0.002 Confidence = 0.714 Lift = 1.504\n",
      "22: ('Cake', 'Vegan mincepie') -> ('Coffee',) Support = 0.001 Confidence = 0.833 Lift = 1.754\n",
      "23: ('Cookies', 'Hot chocolate') -> ('Coffee',) Support = 0.004 Confidence = 0.614 Lift = 1.292\n",
      "24: ('Cookies', 'Juice') -> ('Coffee',) Support = 0.004 Confidence = 0.603 Lift = 1.270\n",
      "25: ('Cookies', 'Medialuna') -> ('Coffee',) Support = 0.002 Confidence = 0.667 Lift = 1.403\n",
      "26: ('Cookies', 'NONE') -> ('Coffee',) Support = 0.002 Confidence = 0.741 Lift = 1.559\n",
      "27: ('Cookies', 'Pastry') -> ('Coffee',) Support = 0.002 Confidence = 0.607 Lift = 1.278\n",
      "28: ('Cookies', 'Scone') -> ('Coffee',) Support = 0.002 Confidence = 0.789 Lift = 1.662\n",
      "29: ('Extra Salami or Feta', 'NONE') -> ('Coffee',) Support = 0.001 Confidence = 0.765 Lift = 1.610\n",
      "30: ('Extra Salami or Feta', 'Salad') -> ('Coffee',) Support = 0.001 Confidence = 0.875 Lift = 1.842\n",
      "31: ('Hearty & Seasonal', 'Sandwich') -> ('Coffee',) Support = 0.001 Confidence = 0.857 Lift = 1.804\n",
      "32: ('Hot chocolate', 'Medialuna') -> ('Coffee',) Support = 0.003 Confidence = 0.644 Lift = 1.356\n",
      "33: ('Hot chocolate', 'NONE') -> ('Coffee',) Support = 0.004 Confidence = 0.621 Lift = 1.306\n",
      "34: ('Hot chocolate', 'Pastry') -> ('Coffee',) Support = 0.004 Confidence = 0.667 Lift = 1.403\n",
      "35: ('Hot chocolate', 'Scone') -> ('Coffee',) Support = 0.002 Confidence = 0.607 Lift = 1.278\n",
      "36: ('Jammie Dodgers', 'Juice') -> ('Coffee',) Support = 0.001 Confidence = 0.650 Lift = 1.368\n",
      "37: ('Juice', 'NONE') -> ('Coffee',) Support = 0.004 Confidence = 0.661 Lift = 1.391\n",
      "38: ('Juice', 'Pastry') -> ('Coffee',) Support = 0.002 Confidence = 0.773 Lift = 1.627\n",
      "39: ('Juice', 'Scone') -> ('Coffee',) Support = 0.001 Confidence = 0.632 Lift = 1.329\n",
      "40: ('Juice', 'Spanish Brunch') -> ('Coffee',) Support = 0.002 Confidence = 0.731 Lift = 1.538\n",
      "41: ('Juice', 'Toast') -> ('Coffee',) Support = 0.002 Confidence = 0.682 Lift = 1.435\n",
      "42: ('Keeping It Local', 'Tea') -> ('Coffee',) Support = 0.001 Confidence = 0.647 Lift = 1.362\n",
      "43: ('Medialuna', 'NONE') -> ('Coffee',) Support = 0.003 Confidence = 0.684 Lift = 1.440\n",
      "44: ('Medialuna', 'Sandwich') -> ('Coffee',) Support = 0.001 Confidence = 0.650 Lift = 1.368\n",
      "45: ('Medialuna', 'Toast') -> ('Coffee',) Support = 0.001 Confidence = 0.611 Lift = 1.286\n",
      "46: ('Muffin', 'NONE') -> ('Coffee',) Support = 0.001 Confidence = 0.619 Lift = 1.303\n",
      "47: ('Muffin', 'Sandwich') -> ('Coffee',) Support = 0.001 Confidence = 0.650 Lift = 1.368\n",
      "48: ('NONE', 'Pastry') -> ('Coffee',) Support = 0.003 Confidence = 0.636 Lift = 1.339\n",
      "49: ('NONE', 'Scone') -> ('Coffee',) Support = 0.002 Confidence = 0.833 Lift = 1.754\n",
      "50: ('NONE', 'Soup') -> ('Coffee',) Support = 0.001 Confidence = 0.625 Lift = 1.316\n",
      "51: ('NONE', 'Spanish Brunch') -> ('Coffee',) Support = 0.002 Confidence = 0.676 Lift = 1.424\n",
      "52: ('NONE', 'Tartine') -> ('Coffee',) Support = 0.001 Confidence = 0.923 Lift = 1.943\n",
      "53: ('NONE', 'Toast') -> ('Coffee',) Support = 0.003 Confidence = 0.750 Lift = 1.579\n",
      "54: ('Pastry', 'Toast') -> ('Coffee',) Support = 0.001 Confidence = 0.867 Lift = 1.824\n",
      "55: ('Salad', 'Sandwich') -> ('Coffee',) Support = 0.002 Confidence = 0.833 Lift = 1.754\n",
      "56: ('Sandwich', 'Soup') -> ('Coffee',) Support = 0.004 Confidence = 0.654 Lift = 1.376\n",
      "57: ('Sandwich', 'Spanish Brunch') -> ('Coffee',) Support = 0.001 Confidence = 0.667 Lift = 1.403\n",
      "58: ('Bread', 'Hot chocolate', 'Pastry') -> ('Coffee',) Support = 0.001 Confidence = 0.667 Lift = 1.403\n",
      "59: ('Cake', 'Sandwich', 'Tea') -> ('Coffee',) Support = 0.001 Confidence = 0.714 Lift = 1.504\n",
      "60: ('Hot chocolate', 'Medialuna', 'NONE') -> ('Coffee',) Support = 0.001 Confidence = 0.909 Lift = 1.914\n"
     ]
    },
    {
     "data": {
      "application/vnd.plotly.v1+json": {
       "data": [
        {
         "marker": {
          "color": [
           1.4401966710061374,
           1.2717121245583036,
           1.7171575692765482,
           1.2779767163048965,
           1.7039689550731953,
           1.3182219723739157,
           1.3270039560608387,
           1.4826988465897728,
           1.3727627131663849,
           1.2863295053003534,
           1.315564266784452,
           1.2812451989552927,
           1.3394836170896243,
           1.266839664310954,
           1.4433619384149419,
           1.403268551236749,
           1.6191560206577875,
           1.424857298178853,
           1.2629416961130742,
           1.4032685512367493,
           1.4351610183103116,
           1.5035020191822313,
           1.7540856890459364,
           1.2924841919285848,
           1.2701999817229195,
           1.403268551236749,
           1.5591872791519437,
           1.2779767163048965,
           1.661765389622466,
           1.6096315734774476,
           1.8417899734982335,
           1.8042024230186773,
           1.3564929328621906,
           1.3064914097721458,
           1.403268551236749,
           1.2779767163048965,
           1.3681868374558304,
           1.391376444870336,
           1.6265158207516865,
           1.3294123116979728,
           1.5381982196248982,
           1.4351610183103116,
           1.3619959467886094,
           1.4401966710061374,
           1.3681868374558304,
           1.2863295053003534,
           1.3030350832912672,
           1.3681868374558304,
           1.3394836170896243,
           1.7540856890459364,
           1.3155642667844525,
           1.423904853460819,
           1.942987224789345,
           1.578677120141343,
           1.824249116607774,
           1.7540856890459364,
           1.3762826175591194,
           1.403268551236749,
           1.4032685512367493,
           1.5035020191822313,
           1.913548024413749
          ],
          "colorbar": {
           "title": {
            "text": "Lift"
           }
          },
          "colorscale": [
           [
            0.0,
            "rgb(243, 224, 247)"
           ],
           [
            0.16666666666666666,
            "rgb(228, 199, 241)"
           ],
           [
            0.3333333333333333,
            "rgb(209, 175, 232)"
           ],
           [
            0.5,
            "rgb(185, 152, 221)"
           ],
           [
            0.6666666666666666,
            "rgb(159, 130, 206)"
           ],
           [
            0.8333333333333334,
            "rgb(130, 109, 186)"
           ],
           [
            1.0,
            "rgb(99, 88, 159)"
           ]
          ]
         },
         "mode": "markers",
         "text": [
          "['Art Tray'] => ['Coffee'], Lift: 1.4401966710061374",
          "['Bakewell'] => ['Coffee'], Lift: 1.2717121245583036",
          "['Extra Salami or Feta'] => ['Coffee'], Lift: 1.7171575692765482",
          "['Granola'] => ['Coffee'], Lift: 1.2779767163048965",
          "['Keeping It Local'] => ['Coffee'], Lift: 1.7039689550731953",
          "['Salad'] => ['Coffee'], Lift: 1.3182219723739157",
          "['Tartine'] => ['Coffee'], Lift: 1.3270039560608387",
          "['Toast'] => ['Coffee'], Lift: 1.4826988465897728",
          "['Alfajores, Cookies'] => ['Coffee'], Lift: 1.3727627131663849",
          "['Alfajores, NONE'] => ['Coffee'], Lift: 1.2863295053003534",
          "['Brownie, Cookies'] => ['Coffee'], Lift: 1.315564266784452",
          "['Brownie, NONE'] => ['Coffee'], Lift: 1.2812451989552927",
          "['Brownie, Sandwich'] => ['Coffee'], Lift: 1.3394836170896243",
          "['Cake, Hot chocolate'] => ['Coffee'], Lift: 1.266839664310954",
          "['Cake, Medialuna'] => ['Coffee'], Lift: 1.4433619384149419",
          "['Cake, NONE'] => ['Coffee'], Lift: 1.403268551236749",
          "['Cake, Salad'] => ['Coffee'], Lift: 1.6191560206577875",
          "['Cake, Sandwich'] => ['Coffee'], Lift: 1.424857298178853",
          "['Cake, Scone'] => ['Coffee'], Lift: 1.2629416961130742",
          "['Cake, Smoothies'] => ['Coffee'], Lift: 1.4032685512367493",
          "['Cake, Tiffin'] => ['Coffee'], Lift: 1.4351610183103116",
          "['Cake, Toast'] => ['Coffee'], Lift: 1.5035020191822313",
          "['Cake, Vegan mincepie'] => ['Coffee'], Lift: 1.7540856890459364",
          "['Cookies, Hot chocolate'] => ['Coffee'], Lift: 1.2924841919285848",
          "['Cookies, Juice'] => ['Coffee'], Lift: 1.2701999817229195",
          "['Cookies, Medialuna'] => ['Coffee'], Lift: 1.403268551236749",
          "['Cookies, NONE'] => ['Coffee'], Lift: 1.5591872791519437",
          "['Cookies, Pastry'] => ['Coffee'], Lift: 1.2779767163048965",
          "['Cookies, Scone'] => ['Coffee'], Lift: 1.661765389622466",
          "['Extra Salami or Feta, NONE'] => ['Coffee'], Lift: 1.6096315734774476",
          "['Extra Salami or Feta, Salad'] => ['Coffee'], Lift: 1.8417899734982335",
          "['Hearty & Seasonal, Sandwich'] => ['Coffee'], Lift: 1.8042024230186773",
          "['Hot chocolate, Medialuna'] => ['Coffee'], Lift: 1.3564929328621906",
          "['Hot chocolate, NONE'] => ['Coffee'], Lift: 1.3064914097721458",
          "['Hot chocolate, Pastry'] => ['Coffee'], Lift: 1.403268551236749",
          "['Hot chocolate, Scone'] => ['Coffee'], Lift: 1.2779767163048965",
          "['Jammie Dodgers, Juice'] => ['Coffee'], Lift: 1.3681868374558304",
          "['Juice, NONE'] => ['Coffee'], Lift: 1.391376444870336",
          "['Juice, Pastry'] => ['Coffee'], Lift: 1.6265158207516865",
          "['Juice, Scone'] => ['Coffee'], Lift: 1.3294123116979728",
          "['Juice, Spanish Brunch'] => ['Coffee'], Lift: 1.5381982196248982",
          "['Juice, Toast'] => ['Coffee'], Lift: 1.4351610183103116",
          "['Keeping It Local, Tea'] => ['Coffee'], Lift: 1.3619959467886094",
          "['Medialuna, NONE'] => ['Coffee'], Lift: 1.4401966710061374",
          "['Medialuna, Sandwich'] => ['Coffee'], Lift: 1.3681868374558304",
          "['Medialuna, Toast'] => ['Coffee'], Lift: 1.2863295053003534",
          "['Muffin, NONE'] => ['Coffee'], Lift: 1.3030350832912672",
          "['Muffin, Sandwich'] => ['Coffee'], Lift: 1.3681868374558304",
          "['NONE, Pastry'] => ['Coffee'], Lift: 1.3394836170896243",
          "['NONE, Scone'] => ['Coffee'], Lift: 1.7540856890459364",
          "['NONE, Soup'] => ['Coffee'], Lift: 1.3155642667844525",
          "['NONE, Spanish Brunch'] => ['Coffee'], Lift: 1.423904853460819",
          "['NONE, Tartine'] => ['Coffee'], Lift: 1.942987224789345",
          "['NONE, Toast'] => ['Coffee'], Lift: 1.578677120141343",
          "['Pastry, Toast'] => ['Coffee'], Lift: 1.824249116607774",
          "['Salad, Sandwich'] => ['Coffee'], Lift: 1.7540856890459364",
          "['Sandwich, Soup'] => ['Coffee'], Lift: 1.3762826175591194",
          "['Sandwich, Spanish Brunch'] => ['Coffee'], Lift: 1.403268551236749",
          "['Bread, Hot chocolate, Pastry'] => ['Coffee'], Lift: 1.4032685512367493",
          "['Cake, Sandwich, Tea'] => ['Coffee'], Lift: 1.5035020191822313",
          "['Hot chocolate, Medialuna, NONE'] => ['Coffee'], Lift: 1.913548024413749"
         ],
         "x": [
          0.0027279404049942294,
          0.0030427027594166402,
          0.003252544329031581,
          0.0017836533417269962,
          0.0053509600251809885,
          0.006505088658063162,
          0.0030427027594166402,
          0.023502255796873362,
          0.0015738117721120553,
          0.001154128632882174,
          0.0015738117721120553,
          0.0014688909873045851,
          0.0014688909873045851,
          0.006819851012485573,
          0.0025180988353792886,
          0.0033574651138390515,
          0.0010492078480747037,
          0.004616514531528696,
          0.0028328611898017,
          0.0010492078480747037,
          0.0015738117721120553,
          0.0015738117721120553,
          0.0010492078480747037,
          0.0036722274682614627,
          0.0036722274682614627,
          0.0016787325569195257,
          0.0020984156961494074,
          0.0017836533417269962,
          0.0015738117721120553,
          0.0013639702024971147,
          0.0014688909873045851,
          0.0012590494176896443,
          0.0030427027594166402,
          0.003777148253068933,
          0.003777148253068933,
          0.0017836533417269962,
          0.0013639702024971147,
          0.004091910607491344,
          0.0017836533417269962,
          0.0012590494176896443,
          0.001993494911341937,
          0.0015738117721120553,
          0.001154128632882174,
          0.0027279404049942294,
          0.0013639702024971147,
          0.001154128632882174,
          0.0013639702024971147,
          0.0013639702024971147,
          0.0029377819746091703,
          0.0015738117721120553,
          0.0010492078480747037,
          0.002413178050571818,
          0.0012590494176896443,
          0.0028328611898017,
          0.0013639702024971147,
          0.0015738117721120553,
          0.0035673066834539923,
          0.0012590494176896443,
          0.0010492078480747037,
          0.0010492078480747037,
          0.0010492078480747037
         ],
         "y": [
          0.6842105263157895,
          0.6041666666666666,
          0.8157894736842105,
          0.6071428571428571,
          0.8095238095238095,
          0.6262626262626263,
          0.6304347826086957,
          0.7044025157232704,
          0.6521739130434783,
          0.6111111111111112,
          0.625,
          0.6086956521739131,
          0.6363636363636364,
          0.6018518518518519,
          0.6857142857142857,
          0.6666666666666666,
          0.7692307692307693,
          0.676923076923077,
          0.6,
          0.6666666666666666,
          0.6818181818181818,
          0.7142857142857143,
          0.8333333333333334,
          0.6140350877192983,
          0.603448275862069,
          0.6666666666666666,
          0.7407407407407407,
          0.6071428571428571,
          0.7894736842105263,
          0.7647058823529411,
          0.875,
          0.8571428571428571,
          0.6444444444444445,
          0.6206896551724138,
          0.6666666666666666,
          0.6071428571428571,
          0.65,
          0.6610169491525424,
          0.7727272727272727,
          0.631578947368421,
          0.7307692307692307,
          0.6818181818181818,
          0.6470588235294118,
          0.6842105263157895,
          0.65,
          0.6111111111111112,
          0.6190476190476191,
          0.65,
          0.6363636363636364,
          0.8333333333333334,
          0.625,
          0.6764705882352942,
          0.9230769230769231,
          0.75,
          0.8666666666666667,
          0.8333333333333334,
          0.6538461538461539,
          0.6666666666666666,
          0.6666666666666666,
          0.7142857142857143,
          0.9090909090909091
         ],
         "type": "scatter"
        }
       ],
       "layout": {
        "template": {
         "data": {
          "histogram2dcontour": [
           {
            "type": "histogram2dcontour",
            "colorbar": {
             "outlinewidth": 0,
             "ticks": ""
            },
            "colorscale": [
             [
              0.0,
              "#0d0887"
             ],
             [
              0.1111111111111111,
              "#46039f"
             ],
             [
              0.2222222222222222,
              "#7201a8"
             ],
             [
              0.3333333333333333,
              "#9c179e"
             ],
             [
              0.4444444444444444,
              "#bd3786"
             ],
             [
              0.5555555555555556,
              "#d8576b"
             ],
             [
              0.6666666666666666,
              "#ed7953"
             ],
             [
              0.7777777777777778,
              "#fb9f3a"
             ],
             [
              0.8888888888888888,
              "#fdca26"
             ],
             [
              1.0,
              "#f0f921"
             ]
            ]
           }
          ],
          "choropleth": [
           {
            "type": "choropleth",
            "colorbar": {
             "outlinewidth": 0,
             "ticks": ""
            }
           }
          ],
          "histogram2d": [
           {
            "type": "histogram2d",
            "colorbar": {
             "outlinewidth": 0,
             "ticks": ""
            },
            "colorscale": [
             [
              0.0,
              "#0d0887"
             ],
             [
              0.1111111111111111,
              "#46039f"
             ],
             [
              0.2222222222222222,
              "#7201a8"
             ],
             [
              0.3333333333333333,
              "#9c179e"
             ],
             [
              0.4444444444444444,
              "#bd3786"
             ],
             [
              0.5555555555555556,
              "#d8576b"
             ],
             [
              0.6666666666666666,
              "#ed7953"
             ],
             [
              0.7777777777777778,
              "#fb9f3a"
             ],
             [
              0.8888888888888888,
              "#fdca26"
             ],
             [
              1.0,
              "#f0f921"
             ]
            ]
           }
          ],
          "heatmap": [
           {
            "type": "heatmap",
            "colorbar": {
             "outlinewidth": 0,
             "ticks": ""
            },
            "colorscale": [
             [
              0.0,
              "#0d0887"
             ],
             [
              0.1111111111111111,
              "#46039f"
             ],
             [
              0.2222222222222222,
              "#7201a8"
             ],
             [
              0.3333333333333333,
              "#9c179e"
             ],
             [
              0.4444444444444444,
              "#bd3786"
             ],
             [
              0.5555555555555556,
              "#d8576b"
             ],
             [
              0.6666666666666666,
              "#ed7953"
             ],
             [
              0.7777777777777778,
              "#fb9f3a"
             ],
             [
              0.8888888888888888,
              "#fdca26"
             ],
             [
              1.0,
              "#f0f921"
             ]
            ]
           }
          ],
          "heatmapgl": [
           {
            "type": "heatmapgl",
            "colorbar": {
             "outlinewidth": 0,
             "ticks": ""
            },
            "colorscale": [
             [
              0.0,
              "#0d0887"
             ],
             [
              0.1111111111111111,
              "#46039f"
             ],
             [
              0.2222222222222222,
              "#7201a8"
             ],
             [
              0.3333333333333333,
              "#9c179e"
             ],
             [
              0.4444444444444444,
              "#bd3786"
             ],
             [
              0.5555555555555556,
              "#d8576b"
             ],
             [
              0.6666666666666666,
              "#ed7953"
             ],
             [
              0.7777777777777778,
              "#fb9f3a"
             ],
             [
              0.8888888888888888,
              "#fdca26"
             ],
             [
              1.0,
              "#f0f921"
             ]
            ]
           }
          ],
          "contourcarpet": [
           {
            "type": "contourcarpet",
            "colorbar": {
             "outlinewidth": 0,
             "ticks": ""
            }
           }
          ],
          "contour": [
           {
            "type": "contour",
            "colorbar": {
             "outlinewidth": 0,
             "ticks": ""
            },
            "colorscale": [
             [
              0.0,
              "#0d0887"
             ],
             [
              0.1111111111111111,
              "#46039f"
             ],
             [
              0.2222222222222222,
              "#7201a8"
             ],
             [
              0.3333333333333333,
              "#9c179e"
             ],
             [
              0.4444444444444444,
              "#bd3786"
             ],
             [
              0.5555555555555556,
              "#d8576b"
             ],
             [
              0.6666666666666666,
              "#ed7953"
             ],
             [
              0.7777777777777778,
              "#fb9f3a"
             ],
             [
              0.8888888888888888,
              "#fdca26"
             ],
             [
              1.0,
              "#f0f921"
             ]
            ]
           }
          ],
          "surface": [
           {
            "type": "surface",
            "colorbar": {
             "outlinewidth": 0,
             "ticks": ""
            },
            "colorscale": [
             [
              0.0,
              "#0d0887"
             ],
             [
              0.1111111111111111,
              "#46039f"
             ],
             [
              0.2222222222222222,
              "#7201a8"
             ],
             [
              0.3333333333333333,
              "#9c179e"
             ],
             [
              0.4444444444444444,
              "#bd3786"
             ],
             [
              0.5555555555555556,
              "#d8576b"
             ],
             [
              0.6666666666666666,
              "#ed7953"
             ],
             [
              0.7777777777777778,
              "#fb9f3a"
             ],
             [
              0.8888888888888888,
              "#fdca26"
             ],
             [
              1.0,
              "#f0f921"
             ]
            ]
           }
          ],
          "mesh3d": [
           {
            "type": "mesh3d",
            "colorbar": {
             "outlinewidth": 0,
             "ticks": ""
            }
           }
          ],
          "scatter": [
           {
            "fillpattern": {
             "fillmode": "overlay",
             "size": 10,
             "solidity": 0.2
            },
            "type": "scatter"
           }
          ],
          "parcoords": [
           {
            "type": "parcoords",
            "line": {
             "colorbar": {
              "outlinewidth": 0,
              "ticks": ""
             }
            }
           }
          ],
          "scatterpolargl": [
           {
            "type": "scatterpolargl",
            "marker": {
             "colorbar": {
              "outlinewidth": 0,
              "ticks": ""
             }
            }
           }
          ],
          "bar": [
           {
            "error_x": {
             "color": "#2a3f5f"
            },
            "error_y": {
             "color": "#2a3f5f"
            },
            "marker": {
             "line": {
              "color": "#E5ECF6",
              "width": 0.5
             },
             "pattern": {
              "fillmode": "overlay",
              "size": 10,
              "solidity": 0.2
             }
            },
            "type": "bar"
           }
          ],
          "scattergeo": [
           {
            "type": "scattergeo",
            "marker": {
             "colorbar": {
              "outlinewidth": 0,
              "ticks": ""
             }
            }
           }
          ],
          "scatterpolar": [
           {
            "type": "scatterpolar",
            "marker": {
             "colorbar": {
              "outlinewidth": 0,
              "ticks": ""
             }
            }
           }
          ],
          "histogram": [
           {
            "marker": {
             "pattern": {
              "fillmode": "overlay",
              "size": 10,
              "solidity": 0.2
             }
            },
            "type": "histogram"
           }
          ],
          "scattergl": [
           {
            "type": "scattergl",
            "marker": {
             "colorbar": {
              "outlinewidth": 0,
              "ticks": ""
             }
            }
           }
          ],
          "scatter3d": [
           {
            "type": "scatter3d",
            "line": {
             "colorbar": {
              "outlinewidth": 0,
              "ticks": ""
             }
            },
            "marker": {
             "colorbar": {
              "outlinewidth": 0,
              "ticks": ""
             }
            }
           }
          ],
          "scattermapbox": [
           {
            "type": "scattermapbox",
            "marker": {
             "colorbar": {
              "outlinewidth": 0,
              "ticks": ""
             }
            }
           }
          ],
          "scatterternary": [
           {
            "type": "scatterternary",
            "marker": {
             "colorbar": {
              "outlinewidth": 0,
              "ticks": ""
             }
            }
           }
          ],
          "scattercarpet": [
           {
            "type": "scattercarpet",
            "marker": {
             "colorbar": {
              "outlinewidth": 0,
              "ticks": ""
             }
            }
           }
          ],
          "carpet": [
           {
            "aaxis": {
             "endlinecolor": "#2a3f5f",
             "gridcolor": "white",
             "linecolor": "white",
             "minorgridcolor": "white",
             "startlinecolor": "#2a3f5f"
            },
            "baxis": {
             "endlinecolor": "#2a3f5f",
             "gridcolor": "white",
             "linecolor": "white",
             "minorgridcolor": "white",
             "startlinecolor": "#2a3f5f"
            },
            "type": "carpet"
           }
          ],
          "table": [
           {
            "cells": {
             "fill": {
              "color": "#EBF0F8"
             },
             "line": {
              "color": "white"
             }
            },
            "header": {
             "fill": {
              "color": "#C8D4E3"
             },
             "line": {
              "color": "white"
             }
            },
            "type": "table"
           }
          ],
          "barpolar": [
           {
            "marker": {
             "line": {
              "color": "#E5ECF6",
              "width": 0.5
             },
             "pattern": {
              "fillmode": "overlay",
              "size": 10,
              "solidity": 0.2
             }
            },
            "type": "barpolar"
           }
          ],
          "pie": [
           {
            "automargin": true,
            "type": "pie"
           }
          ]
         },
         "layout": {
          "autotypenumbers": "strict",
          "colorway": [
           "#636efa",
           "#EF553B",
           "#00cc96",
           "#ab63fa",
           "#FFA15A",
           "#19d3f3",
           "#FF6692",
           "#B6E880",
           "#FF97FF",
           "#FECB52"
          ],
          "font": {
           "color": "#2a3f5f"
          },
          "hovermode": "closest",
          "hoverlabel": {
           "align": "left"
          },
          "paper_bgcolor": "white",
          "plot_bgcolor": "#E5ECF6",
          "polar": {
           "bgcolor": "#E5ECF6",
           "angularaxis": {
            "gridcolor": "white",
            "linecolor": "white",
            "ticks": ""
           },
           "radialaxis": {
            "gridcolor": "white",
            "linecolor": "white",
            "ticks": ""
           }
          },
          "ternary": {
           "bgcolor": "#E5ECF6",
           "aaxis": {
            "gridcolor": "white",
            "linecolor": "white",
            "ticks": ""
           },
           "baxis": {
            "gridcolor": "white",
            "linecolor": "white",
            "ticks": ""
           },
           "caxis": {
            "gridcolor": "white",
            "linecolor": "white",
            "ticks": ""
           }
          },
          "coloraxis": {
           "colorbar": {
            "outlinewidth": 0,
            "ticks": ""
           }
          },
          "colorscale": {
           "sequential": [
            [
             0.0,
             "#0d0887"
            ],
            [
             0.1111111111111111,
             "#46039f"
            ],
            [
             0.2222222222222222,
             "#7201a8"
            ],
            [
             0.3333333333333333,
             "#9c179e"
            ],
            [
             0.4444444444444444,
             "#bd3786"
            ],
            [
             0.5555555555555556,
             "#d8576b"
            ],
            [
             0.6666666666666666,
             "#ed7953"
            ],
            [
             0.7777777777777778,
             "#fb9f3a"
            ],
            [
             0.8888888888888888,
             "#fdca26"
            ],
            [
             1.0,
             "#f0f921"
            ]
           ],
           "sequentialminus": [
            [
             0.0,
             "#0d0887"
            ],
            [
             0.1111111111111111,
             "#46039f"
            ],
            [
             0.2222222222222222,
             "#7201a8"
            ],
            [
             0.3333333333333333,
             "#9c179e"
            ],
            [
             0.4444444444444444,
             "#bd3786"
            ],
            [
             0.5555555555555556,
             "#d8576b"
            ],
            [
             0.6666666666666666,
             "#ed7953"
            ],
            [
             0.7777777777777778,
             "#fb9f3a"
            ],
            [
             0.8888888888888888,
             "#fdca26"
            ],
            [
             1.0,
             "#f0f921"
            ]
           ],
           "diverging": [
            [
             0,
             "#8e0152"
            ],
            [
             0.1,
             "#c51b7d"
            ],
            [
             0.2,
             "#de77ae"
            ],
            [
             0.3,
             "#f1b6da"
            ],
            [
             0.4,
             "#fde0ef"
            ],
            [
             0.5,
             "#f7f7f7"
            ],
            [
             0.6,
             "#e6f5d0"
            ],
            [
             0.7,
             "#b8e186"
            ],
            [
             0.8,
             "#7fbc41"
            ],
            [
             0.9,
             "#4d9221"
            ],
            [
             1,
             "#276419"
            ]
           ]
          },
          "xaxis": {
           "gridcolor": "white",
           "linecolor": "white",
           "ticks": "",
           "title": {
            "standoff": 15
           },
           "zerolinecolor": "white",
           "automargin": true,
           "zerolinewidth": 2
          },
          "yaxis": {
           "gridcolor": "white",
           "linecolor": "white",
           "ticks": "",
           "title": {
            "standoff": 15
           },
           "zerolinecolor": "white",
           "automargin": true,
           "zerolinewidth": 2
          },
          "scene": {
           "xaxis": {
            "backgroundcolor": "#E5ECF6",
            "gridcolor": "white",
            "linecolor": "white",
            "showbackground": true,
            "ticks": "",
            "zerolinecolor": "white",
            "gridwidth": 2
           },
           "yaxis": {
            "backgroundcolor": "#E5ECF6",
            "gridcolor": "white",
            "linecolor": "white",
            "showbackground": true,
            "ticks": "",
            "zerolinecolor": "white",
            "gridwidth": 2
           },
           "zaxis": {
            "backgroundcolor": "#E5ECF6",
            "gridcolor": "white",
            "linecolor": "white",
            "showbackground": true,
            "ticks": "",
            "zerolinecolor": "white",
            "gridwidth": 2
           }
          },
          "shapedefaults": {
           "line": {
            "color": "#2a3f5f"
           }
          },
          "annotationdefaults": {
           "arrowcolor": "#2a3f5f",
           "arrowhead": 0,
           "arrowwidth": 1
          },
          "geo": {
           "bgcolor": "white",
           "landcolor": "#E5ECF6",
           "subunitcolor": "white",
           "showland": true,
           "showlakes": true,
           "lakecolor": "white"
          },
          "title": {
           "x": 0.05
          },
          "mapbox": {
           "style": "light"
          }
         }
        },
        "xaxis": {
         "title": {
          "text": "Support"
         },
         "autorange": "reversed"
        },
        "title": {
         "text": "Association Rules Strength Distribution"
        },
        "yaxis": {
         "title": {
          "text": "Confidence"
         }
        }
       },
       "config": {
        "plotlyServerURL": "https://plot.ly"
       }
      },
      "text/html": [
       "<div>                            <div id=\"781402ea-30d5-4ef5-b7bb-d32f66bf7dd1\" class=\"plotly-graph-div\" style=\"height:525px; width:100%;\"></div>            <script type=\"text/javascript\">                require([\"plotly\"], function(Plotly) {                    window.PLOTLYENV=window.PLOTLYENV || {};                                    if (document.getElementById(\"781402ea-30d5-4ef5-b7bb-d32f66bf7dd1\")) {                    Plotly.newPlot(                        \"781402ea-30d5-4ef5-b7bb-d32f66bf7dd1\",                        [{\"marker\":{\"color\":[1.4401966710061374,1.2717121245583036,1.7171575692765482,1.2779767163048965,1.7039689550731953,1.3182219723739157,1.3270039560608387,1.4826988465897728,1.3727627131663849,1.2863295053003534,1.315564266784452,1.2812451989552927,1.3394836170896243,1.266839664310954,1.4433619384149419,1.403268551236749,1.6191560206577875,1.424857298178853,1.2629416961130742,1.4032685512367493,1.4351610183103116,1.5035020191822313,1.7540856890459364,1.2924841919285848,1.2701999817229195,1.403268551236749,1.5591872791519437,1.2779767163048965,1.661765389622466,1.6096315734774476,1.8417899734982335,1.8042024230186773,1.3564929328621906,1.3064914097721458,1.403268551236749,1.2779767163048965,1.3681868374558304,1.391376444870336,1.6265158207516865,1.3294123116979728,1.5381982196248982,1.4351610183103116,1.3619959467886094,1.4401966710061374,1.3681868374558304,1.2863295053003534,1.3030350832912672,1.3681868374558304,1.3394836170896243,1.7540856890459364,1.3155642667844525,1.423904853460819,1.942987224789345,1.578677120141343,1.824249116607774,1.7540856890459364,1.3762826175591194,1.403268551236749,1.4032685512367493,1.5035020191822313,1.913548024413749],\"colorbar\":{\"title\":{\"text\":\"Lift\"}},\"colorscale\":[[0.0,\"rgb(243, 224, 247)\"],[0.16666666666666666,\"rgb(228, 199, 241)\"],[0.3333333333333333,\"rgb(209, 175, 232)\"],[0.5,\"rgb(185, 152, 221)\"],[0.6666666666666666,\"rgb(159, 130, 206)\"],[0.8333333333333334,\"rgb(130, 109, 186)\"],[1.0,\"rgb(99, 88, 159)\"]]},\"mode\":\"markers\",\"text\":[\"['Art Tray'] =\\u003e ['Coffee'], Lift: 1.4401966710061374\",\"['Bakewell'] =\\u003e ['Coffee'], Lift: 1.2717121245583036\",\"['Extra Salami or Feta'] =\\u003e ['Coffee'], Lift: 1.7171575692765482\",\"['Granola'] =\\u003e ['Coffee'], Lift: 1.2779767163048965\",\"['Keeping It Local'] =\\u003e ['Coffee'], Lift: 1.7039689550731953\",\"['Salad'] =\\u003e ['Coffee'], Lift: 1.3182219723739157\",\"['Tartine'] =\\u003e ['Coffee'], Lift: 1.3270039560608387\",\"['Toast'] =\\u003e ['Coffee'], Lift: 1.4826988465897728\",\"['Alfajores, Cookies'] =\\u003e ['Coffee'], Lift: 1.3727627131663849\",\"['Alfajores, NONE'] =\\u003e ['Coffee'], Lift: 1.2863295053003534\",\"['Brownie, Cookies'] =\\u003e ['Coffee'], Lift: 1.315564266784452\",\"['Brownie, NONE'] =\\u003e ['Coffee'], Lift: 1.2812451989552927\",\"['Brownie, Sandwich'] =\\u003e ['Coffee'], Lift: 1.3394836170896243\",\"['Cake, Hot chocolate'] =\\u003e ['Coffee'], Lift: 1.266839664310954\",\"['Cake, Medialuna'] =\\u003e ['Coffee'], Lift: 1.4433619384149419\",\"['Cake, NONE'] =\\u003e ['Coffee'], Lift: 1.403268551236749\",\"['Cake, Salad'] =\\u003e ['Coffee'], Lift: 1.6191560206577875\",\"['Cake, Sandwich'] =\\u003e ['Coffee'], Lift: 1.424857298178853\",\"['Cake, Scone'] =\\u003e ['Coffee'], Lift: 1.2629416961130742\",\"['Cake, Smoothies'] =\\u003e ['Coffee'], Lift: 1.4032685512367493\",\"['Cake, Tiffin'] =\\u003e ['Coffee'], Lift: 1.4351610183103116\",\"['Cake, Toast'] =\\u003e ['Coffee'], Lift: 1.5035020191822313\",\"['Cake, Vegan mincepie'] =\\u003e ['Coffee'], Lift: 1.7540856890459364\",\"['Cookies, Hot chocolate'] =\\u003e ['Coffee'], Lift: 1.2924841919285848\",\"['Cookies, Juice'] =\\u003e ['Coffee'], Lift: 1.2701999817229195\",\"['Cookies, Medialuna'] =\\u003e ['Coffee'], Lift: 1.403268551236749\",\"['Cookies, NONE'] =\\u003e ['Coffee'], Lift: 1.5591872791519437\",\"['Cookies, Pastry'] =\\u003e ['Coffee'], Lift: 1.2779767163048965\",\"['Cookies, Scone'] =\\u003e ['Coffee'], Lift: 1.661765389622466\",\"['Extra Salami or Feta, NONE'] =\\u003e ['Coffee'], Lift: 1.6096315734774476\",\"['Extra Salami or Feta, Salad'] =\\u003e ['Coffee'], Lift: 1.8417899734982335\",\"['Hearty & Seasonal, Sandwich'] =\\u003e ['Coffee'], Lift: 1.8042024230186773\",\"['Hot chocolate, Medialuna'] =\\u003e ['Coffee'], Lift: 1.3564929328621906\",\"['Hot chocolate, NONE'] =\\u003e ['Coffee'], Lift: 1.3064914097721458\",\"['Hot chocolate, Pastry'] =\\u003e ['Coffee'], Lift: 1.403268551236749\",\"['Hot chocolate, Scone'] =\\u003e ['Coffee'], Lift: 1.2779767163048965\",\"['Jammie Dodgers, Juice'] =\\u003e ['Coffee'], Lift: 1.3681868374558304\",\"['Juice, NONE'] =\\u003e ['Coffee'], Lift: 1.391376444870336\",\"['Juice, Pastry'] =\\u003e ['Coffee'], Lift: 1.6265158207516865\",\"['Juice, Scone'] =\\u003e ['Coffee'], Lift: 1.3294123116979728\",\"['Juice, Spanish Brunch'] =\\u003e ['Coffee'], Lift: 1.5381982196248982\",\"['Juice, Toast'] =\\u003e ['Coffee'], Lift: 1.4351610183103116\",\"['Keeping It Local, Tea'] =\\u003e ['Coffee'], Lift: 1.3619959467886094\",\"['Medialuna, NONE'] =\\u003e ['Coffee'], Lift: 1.4401966710061374\",\"['Medialuna, Sandwich'] =\\u003e ['Coffee'], Lift: 1.3681868374558304\",\"['Medialuna, Toast'] =\\u003e ['Coffee'], Lift: 1.2863295053003534\",\"['Muffin, NONE'] =\\u003e ['Coffee'], Lift: 1.3030350832912672\",\"['Muffin, Sandwich'] =\\u003e ['Coffee'], Lift: 1.3681868374558304\",\"['NONE, Pastry'] =\\u003e ['Coffee'], Lift: 1.3394836170896243\",\"['NONE, Scone'] =\\u003e ['Coffee'], Lift: 1.7540856890459364\",\"['NONE, Soup'] =\\u003e ['Coffee'], Lift: 1.3155642667844525\",\"['NONE, Spanish Brunch'] =\\u003e ['Coffee'], Lift: 1.423904853460819\",\"['NONE, Tartine'] =\\u003e ['Coffee'], Lift: 1.942987224789345\",\"['NONE, Toast'] =\\u003e ['Coffee'], Lift: 1.578677120141343\",\"['Pastry, Toast'] =\\u003e ['Coffee'], Lift: 1.824249116607774\",\"['Salad, Sandwich'] =\\u003e ['Coffee'], Lift: 1.7540856890459364\",\"['Sandwich, Soup'] =\\u003e ['Coffee'], Lift: 1.3762826175591194\",\"['Sandwich, Spanish Brunch'] =\\u003e ['Coffee'], Lift: 1.403268551236749\",\"['Bread, Hot chocolate, Pastry'] =\\u003e ['Coffee'], Lift: 1.4032685512367493\",\"['Cake, Sandwich, Tea'] =\\u003e ['Coffee'], Lift: 1.5035020191822313\",\"['Hot chocolate, Medialuna, NONE'] =\\u003e ['Coffee'], Lift: 1.913548024413749\"],\"x\":[0.0027279404049942294,0.0030427027594166402,0.003252544329031581,0.0017836533417269962,0.0053509600251809885,0.006505088658063162,0.0030427027594166402,0.023502255796873362,0.0015738117721120553,0.001154128632882174,0.0015738117721120553,0.0014688909873045851,0.0014688909873045851,0.006819851012485573,0.0025180988353792886,0.0033574651138390515,0.0010492078480747037,0.004616514531528696,0.0028328611898017,0.0010492078480747037,0.0015738117721120553,0.0015738117721120553,0.0010492078480747037,0.0036722274682614627,0.0036722274682614627,0.0016787325569195257,0.0020984156961494074,0.0017836533417269962,0.0015738117721120553,0.0013639702024971147,0.0014688909873045851,0.0012590494176896443,0.0030427027594166402,0.003777148253068933,0.003777148253068933,0.0017836533417269962,0.0013639702024971147,0.004091910607491344,0.0017836533417269962,0.0012590494176896443,0.001993494911341937,0.0015738117721120553,0.001154128632882174,0.0027279404049942294,0.0013639702024971147,0.001154128632882174,0.0013639702024971147,0.0013639702024971147,0.0029377819746091703,0.0015738117721120553,0.0010492078480747037,0.002413178050571818,0.0012590494176896443,0.0028328611898017,0.0013639702024971147,0.0015738117721120553,0.0035673066834539923,0.0012590494176896443,0.0010492078480747037,0.0010492078480747037,0.0010492078480747037],\"y\":[0.6842105263157895,0.6041666666666666,0.8157894736842105,0.6071428571428571,0.8095238095238095,0.6262626262626263,0.6304347826086957,0.7044025157232704,0.6521739130434783,0.6111111111111112,0.625,0.6086956521739131,0.6363636363636364,0.6018518518518519,0.6857142857142857,0.6666666666666666,0.7692307692307693,0.676923076923077,0.6,0.6666666666666666,0.6818181818181818,0.7142857142857143,0.8333333333333334,0.6140350877192983,0.603448275862069,0.6666666666666666,0.7407407407407407,0.6071428571428571,0.7894736842105263,0.7647058823529411,0.875,0.8571428571428571,0.6444444444444445,0.6206896551724138,0.6666666666666666,0.6071428571428571,0.65,0.6610169491525424,0.7727272727272727,0.631578947368421,0.7307692307692307,0.6818181818181818,0.6470588235294118,0.6842105263157895,0.65,0.6111111111111112,0.6190476190476191,0.65,0.6363636363636364,0.8333333333333334,0.625,0.6764705882352942,0.9230769230769231,0.75,0.8666666666666667,0.8333333333333334,0.6538461538461539,0.6666666666666666,0.6666666666666666,0.7142857142857143,0.9090909090909091],\"type\":\"scatter\"}],                        {\"template\":{\"data\":{\"histogram2dcontour\":[{\"type\":\"histogram2dcontour\",\"colorbar\":{\"outlinewidth\":0,\"ticks\":\"\"},\"colorscale\":[[0.0,\"#0d0887\"],[0.1111111111111111,\"#46039f\"],[0.2222222222222222,\"#7201a8\"],[0.3333333333333333,\"#9c179e\"],[0.4444444444444444,\"#bd3786\"],[0.5555555555555556,\"#d8576b\"],[0.6666666666666666,\"#ed7953\"],[0.7777777777777778,\"#fb9f3a\"],[0.8888888888888888,\"#fdca26\"],[1.0,\"#f0f921\"]]}],\"choropleth\":[{\"type\":\"choropleth\",\"colorbar\":{\"outlinewidth\":0,\"ticks\":\"\"}}],\"histogram2d\":[{\"type\":\"histogram2d\",\"colorbar\":{\"outlinewidth\":0,\"ticks\":\"\"},\"colorscale\":[[0.0,\"#0d0887\"],[0.1111111111111111,\"#46039f\"],[0.2222222222222222,\"#7201a8\"],[0.3333333333333333,\"#9c179e\"],[0.4444444444444444,\"#bd3786\"],[0.5555555555555556,\"#d8576b\"],[0.6666666666666666,\"#ed7953\"],[0.7777777777777778,\"#fb9f3a\"],[0.8888888888888888,\"#fdca26\"],[1.0,\"#f0f921\"]]}],\"heatmap\":[{\"type\":\"heatmap\",\"colorbar\":{\"outlinewidth\":0,\"ticks\":\"\"},\"colorscale\":[[0.0,\"#0d0887\"],[0.1111111111111111,\"#46039f\"],[0.2222222222222222,\"#7201a8\"],[0.3333333333333333,\"#9c179e\"],[0.4444444444444444,\"#bd3786\"],[0.5555555555555556,\"#d8576b\"],[0.6666666666666666,\"#ed7953\"],[0.7777777777777778,\"#fb9f3a\"],[0.8888888888888888,\"#fdca26\"],[1.0,\"#f0f921\"]]}],\"heatmapgl\":[{\"type\":\"heatmapgl\",\"colorbar\":{\"outlinewidth\":0,\"ticks\":\"\"},\"colorscale\":[[0.0,\"#0d0887\"],[0.1111111111111111,\"#46039f\"],[0.2222222222222222,\"#7201a8\"],[0.3333333333333333,\"#9c179e\"],[0.4444444444444444,\"#bd3786\"],[0.5555555555555556,\"#d8576b\"],[0.6666666666666666,\"#ed7953\"],[0.7777777777777778,\"#fb9f3a\"],[0.8888888888888888,\"#fdca26\"],[1.0,\"#f0f921\"]]}],\"contourcarpet\":[{\"type\":\"contourcarpet\",\"colorbar\":{\"outlinewidth\":0,\"ticks\":\"\"}}],\"contour\":[{\"type\":\"contour\",\"colorbar\":{\"outlinewidth\":0,\"ticks\":\"\"},\"colorscale\":[[0.0,\"#0d0887\"],[0.1111111111111111,\"#46039f\"],[0.2222222222222222,\"#7201a8\"],[0.3333333333333333,\"#9c179e\"],[0.4444444444444444,\"#bd3786\"],[0.5555555555555556,\"#d8576b\"],[0.6666666666666666,\"#ed7953\"],[0.7777777777777778,\"#fb9f3a\"],[0.8888888888888888,\"#fdca26\"],[1.0,\"#f0f921\"]]}],\"surface\":[{\"type\":\"surface\",\"colorbar\":{\"outlinewidth\":0,\"ticks\":\"\"},\"colorscale\":[[0.0,\"#0d0887\"],[0.1111111111111111,\"#46039f\"],[0.2222222222222222,\"#7201a8\"],[0.3333333333333333,\"#9c179e\"],[0.4444444444444444,\"#bd3786\"],[0.5555555555555556,\"#d8576b\"],[0.6666666666666666,\"#ed7953\"],[0.7777777777777778,\"#fb9f3a\"],[0.8888888888888888,\"#fdca26\"],[1.0,\"#f0f921\"]]}],\"mesh3d\":[{\"type\":\"mesh3d\",\"colorbar\":{\"outlinewidth\":0,\"ticks\":\"\"}}],\"scatter\":[{\"fillpattern\":{\"fillmode\":\"overlay\",\"size\":10,\"solidity\":0.2},\"type\":\"scatter\"}],\"parcoords\":[{\"type\":\"parcoords\",\"line\":{\"colorbar\":{\"outlinewidth\":0,\"ticks\":\"\"}}}],\"scatterpolargl\":[{\"type\":\"scatterpolargl\",\"marker\":{\"colorbar\":{\"outlinewidth\":0,\"ticks\":\"\"}}}],\"bar\":[{\"error_x\":{\"color\":\"#2a3f5f\"},\"error_y\":{\"color\":\"#2a3f5f\"},\"marker\":{\"line\":{\"color\":\"#E5ECF6\",\"width\":0.5},\"pattern\":{\"fillmode\":\"overlay\",\"size\":10,\"solidity\":0.2}},\"type\":\"bar\"}],\"scattergeo\":[{\"type\":\"scattergeo\",\"marker\":{\"colorbar\":{\"outlinewidth\":0,\"ticks\":\"\"}}}],\"scatterpolar\":[{\"type\":\"scatterpolar\",\"marker\":{\"colorbar\":{\"outlinewidth\":0,\"ticks\":\"\"}}}],\"histogram\":[{\"marker\":{\"pattern\":{\"fillmode\":\"overlay\",\"size\":10,\"solidity\":0.2}},\"type\":\"histogram\"}],\"scattergl\":[{\"type\":\"scattergl\",\"marker\":{\"colorbar\":{\"outlinewidth\":0,\"ticks\":\"\"}}}],\"scatter3d\":[{\"type\":\"scatter3d\",\"line\":{\"colorbar\":{\"outlinewidth\":0,\"ticks\":\"\"}},\"marker\":{\"colorbar\":{\"outlinewidth\":0,\"ticks\":\"\"}}}],\"scattermapbox\":[{\"type\":\"scattermapbox\",\"marker\":{\"colorbar\":{\"outlinewidth\":0,\"ticks\":\"\"}}}],\"scatterternary\":[{\"type\":\"scatterternary\",\"marker\":{\"colorbar\":{\"outlinewidth\":0,\"ticks\":\"\"}}}],\"scattercarpet\":[{\"type\":\"scattercarpet\",\"marker\":{\"colorbar\":{\"outlinewidth\":0,\"ticks\":\"\"}}}],\"carpet\":[{\"aaxis\":{\"endlinecolor\":\"#2a3f5f\",\"gridcolor\":\"white\",\"linecolor\":\"white\",\"minorgridcolor\":\"white\",\"startlinecolor\":\"#2a3f5f\"},\"baxis\":{\"endlinecolor\":\"#2a3f5f\",\"gridcolor\":\"white\",\"linecolor\":\"white\",\"minorgridcolor\":\"white\",\"startlinecolor\":\"#2a3f5f\"},\"type\":\"carpet\"}],\"table\":[{\"cells\":{\"fill\":{\"color\":\"#EBF0F8\"},\"line\":{\"color\":\"white\"}},\"header\":{\"fill\":{\"color\":\"#C8D4E3\"},\"line\":{\"color\":\"white\"}},\"type\":\"table\"}],\"barpolar\":[{\"marker\":{\"line\":{\"color\":\"#E5ECF6\",\"width\":0.5},\"pattern\":{\"fillmode\":\"overlay\",\"size\":10,\"solidity\":0.2}},\"type\":\"barpolar\"}],\"pie\":[{\"automargin\":true,\"type\":\"pie\"}]},\"layout\":{\"autotypenumbers\":\"strict\",\"colorway\":[\"#636efa\",\"#EF553B\",\"#00cc96\",\"#ab63fa\",\"#FFA15A\",\"#19d3f3\",\"#FF6692\",\"#B6E880\",\"#FF97FF\",\"#FECB52\"],\"font\":{\"color\":\"#2a3f5f\"},\"hovermode\":\"closest\",\"hoverlabel\":{\"align\":\"left\"},\"paper_bgcolor\":\"white\",\"plot_bgcolor\":\"#E5ECF6\",\"polar\":{\"bgcolor\":\"#E5ECF6\",\"angularaxis\":{\"gridcolor\":\"white\",\"linecolor\":\"white\",\"ticks\":\"\"},\"radialaxis\":{\"gridcolor\":\"white\",\"linecolor\":\"white\",\"ticks\":\"\"}},\"ternary\":{\"bgcolor\":\"#E5ECF6\",\"aaxis\":{\"gridcolor\":\"white\",\"linecolor\":\"white\",\"ticks\":\"\"},\"baxis\":{\"gridcolor\":\"white\",\"linecolor\":\"white\",\"ticks\":\"\"},\"caxis\":{\"gridcolor\":\"white\",\"linecolor\":\"white\",\"ticks\":\"\"}},\"coloraxis\":{\"colorbar\":{\"outlinewidth\":0,\"ticks\":\"\"}},\"colorscale\":{\"sequential\":[[0.0,\"#0d0887\"],[0.1111111111111111,\"#46039f\"],[0.2222222222222222,\"#7201a8\"],[0.3333333333333333,\"#9c179e\"],[0.4444444444444444,\"#bd3786\"],[0.5555555555555556,\"#d8576b\"],[0.6666666666666666,\"#ed7953\"],[0.7777777777777778,\"#fb9f3a\"],[0.8888888888888888,\"#fdca26\"],[1.0,\"#f0f921\"]],\"sequentialminus\":[[0.0,\"#0d0887\"],[0.1111111111111111,\"#46039f\"],[0.2222222222222222,\"#7201a8\"],[0.3333333333333333,\"#9c179e\"],[0.4444444444444444,\"#bd3786\"],[0.5555555555555556,\"#d8576b\"],[0.6666666666666666,\"#ed7953\"],[0.7777777777777778,\"#fb9f3a\"],[0.8888888888888888,\"#fdca26\"],[1.0,\"#f0f921\"]],\"diverging\":[[0,\"#8e0152\"],[0.1,\"#c51b7d\"],[0.2,\"#de77ae\"],[0.3,\"#f1b6da\"],[0.4,\"#fde0ef\"],[0.5,\"#f7f7f7\"],[0.6,\"#e6f5d0\"],[0.7,\"#b8e186\"],[0.8,\"#7fbc41\"],[0.9,\"#4d9221\"],[1,\"#276419\"]]},\"xaxis\":{\"gridcolor\":\"white\",\"linecolor\":\"white\",\"ticks\":\"\",\"title\":{\"standoff\":15},\"zerolinecolor\":\"white\",\"automargin\":true,\"zerolinewidth\":2},\"yaxis\":{\"gridcolor\":\"white\",\"linecolor\":\"white\",\"ticks\":\"\",\"title\":{\"standoff\":15},\"zerolinecolor\":\"white\",\"automargin\":true,\"zerolinewidth\":2},\"scene\":{\"xaxis\":{\"backgroundcolor\":\"#E5ECF6\",\"gridcolor\":\"white\",\"linecolor\":\"white\",\"showbackground\":true,\"ticks\":\"\",\"zerolinecolor\":\"white\",\"gridwidth\":2},\"yaxis\":{\"backgroundcolor\":\"#E5ECF6\",\"gridcolor\":\"white\",\"linecolor\":\"white\",\"showbackground\":true,\"ticks\":\"\",\"zerolinecolor\":\"white\",\"gridwidth\":2},\"zaxis\":{\"backgroundcolor\":\"#E5ECF6\",\"gridcolor\":\"white\",\"linecolor\":\"white\",\"showbackground\":true,\"ticks\":\"\",\"zerolinecolor\":\"white\",\"gridwidth\":2}},\"shapedefaults\":{\"line\":{\"color\":\"#2a3f5f\"}},\"annotationdefaults\":{\"arrowcolor\":\"#2a3f5f\",\"arrowhead\":0,\"arrowwidth\":1},\"geo\":{\"bgcolor\":\"white\",\"landcolor\":\"#E5ECF6\",\"subunitcolor\":\"white\",\"showland\":true,\"showlakes\":true,\"lakecolor\":\"white\"},\"title\":{\"x\":0.05},\"mapbox\":{\"style\":\"light\"}}},\"xaxis\":{\"title\":{\"text\":\"Support\"},\"autorange\":\"reversed\"},\"title\":{\"text\":\"Association Rules Strength Distribution\"},\"yaxis\":{\"title\":{\"text\":\"Confidence\"}}},                        {\"responsive\": true}                    ).then(function(){\n",
       "                            \n",
       "var gd = document.getElementById('781402ea-30d5-4ef5-b7bb-d32f66bf7dd1');\n",
       "var x = new MutationObserver(function (mutations, observer) {{\n",
       "        var display = window.getComputedStyle(gd).display;\n",
       "        if (!display || display === 'none') {{\n",
       "            console.log([gd, 'removed!']);\n",
       "            Plotly.purge(gd);\n",
       "            observer.disconnect();\n",
       "        }}\n",
       "}});\n",
       "\n",
       "// Listen for the removal of the full notebook cells\n",
       "var notebookContainer = gd.closest('#notebook-container');\n",
       "if (notebookContainer) {{\n",
       "    x.observe(notebookContainer, {childList: true});\n",
       "}}\n",
       "\n",
       "// Listen for the clearing of the current output cell\n",
       "var outputEl = gd.closest('.output');\n",
       "if (outputEl) {{\n",
       "    x.observe(outputEl, {childList: true});\n",
       "}}\n",
       "\n",
       "                        })                };                });            </script>        </div>"
      ]
     },
     "metadata": {},
     "output_type": "display_data",
     "jetTransient": {
      "display_id": null
     }
    },
    {
     "data": {
      "application/vnd.plotly.v1+json": {
       "data": [
        {
         "hoverinfo": "none",
         "line": {
          "color": "#888",
          "width": 0.5
         },
         "mode": "lines",
         "x": [
          0.4933180079344172,
          0.7713456088919007,
          null,
          -0.48208304722770084,
          0.4933180079344172,
          null,
          0.7243606284335512,
          0.7713456088919007,
          null,
          0.5039474366668594,
          0.7243606284335512,
          null,
          0.020710459296586797,
          0.7713456088919007,
          null,
          -0.6795734374939357,
          0.020710459296586797,
          null,
          -0.29995821064264416,
          0.7713456088919007,
          null,
          -0.9581433733448699,
          -0.29995821064264416,
          null,
          -0.017379901416629387,
          0.7713456088919007,
          null,
          -0.35633442291945683,
          -0.017379901416629387,
          null,
          0.26534456345043345,
          0.7713456088919007,
          null,
          0.19176197038037965,
          0.26534456345043345,
          null,
          -0.38033754168647915,
          0.7713456088919007,
          null,
          -0.9178826481593109,
          -0.38033754168647915,
          null,
          -0.16498110759663154,
          0.7713456088919007,
          null,
          -0.8877074617345135,
          -0.16498110759663154,
          null,
          -0.26457683707041363,
          0.7713456088919007,
          null,
          -0.7787083812298479,
          -0.26457683707041363,
          null,
          -0.16049083338524894,
          0.7713456088919007,
          null,
          -0.8666528718221922,
          -0.16049083338524894,
          null,
          0.4650822437176184,
          0.7713456088919007,
          null,
          -0.14585390572997034,
          0.4650822437176184,
          null,
          0.4014449271859766,
          0.7713456088919007,
          null,
          -0.48272941962331184,
          0.4014449271859766,
          null,
          0.26493879031961315,
          0.7713456088919007,
          null,
          -0.3877792660289004,
          0.26493879031961315,
          null,
          0.16956558336038846,
          0.7713456088919007,
          null,
          -0.4634986918859597,
          0.16956558336038846,
          null,
          0.5641952779717095,
          0.7713456088919007,
          null,
          0.10644404189443601,
          0.5641952779717095,
          null,
          0.7522465261332745,
          0.7713456088919007,
          null,
          0.20252982741158607,
          0.7522465261332745,
          null,
          0.18751418163460323,
          0.7713456088919007,
          null,
          -0.018166566326988855,
          0.18751418163460323,
          null,
          -0.11595770744506946,
          0.7713456088919007,
          null,
          -0.7416660949813694,
          -0.11595770744506946,
          null,
          0.15001376000596192,
          0.7713456088919007,
          null,
          -0.5374441189114394,
          0.15001376000596192,
          null,
          0.3973143555304684,
          0.7713456088919007,
          null,
          -0.5593386235059917,
          0.3973143555304684,
          null,
          0.7079356576360616,
          0.7713456088919007,
          null,
          0.45359507026031987,
          0.7079356576360616,
          null,
          0.6912024846554898,
          0.7713456088919007,
          null,
          -0.3225842578059706,
          0.6912024846554898,
          null,
          -0.04978584836217534,
          0.7713456088919007,
          null,
          -0.7947305443463781,
          -0.04978584836217534,
          null,
          0.09480117357446453,
          0.7713456088919007,
          null,
          -0.08359836661152469,
          0.09480117357446453,
          null,
          -0.06630147152463971,
          0.7713456088919007,
          null,
          -0.7055352110202773,
          -0.06630147152463971,
          null,
          0.3843388847295802,
          0.7713456088919007,
          null,
          -0.05046423296328885,
          0.3843388847295802,
          null,
          0.05923550772030817,
          0.7713456088919007,
          null,
          -0.517438315726983,
          0.05923550772030817,
          null,
          0.4910316005504616,
          0.7713456088919007,
          null,
          0.38533896659988576,
          0.4910316005504616,
          null,
          0.8180593404237863,
          0.7713456088919007,
          null,
          -0.3732913976575664,
          0.8180593404237863,
          null,
          0.528683239215469,
          0.7713456088919007,
          null,
          0.013155901832921627,
          0.528683239215469,
          null,
          -0.2793460062531016,
          0.7713456088919007,
          null,
          -0.7702543550019866,
          -0.2793460062531016,
          null,
          0.9210704935216727,
          0.7713456088919007,
          null,
          -0.0243557104436987,
          0.9210704935216727,
          null,
          0.6287137712088053,
          0.7713456088919007,
          null,
          -0.011544381825466968,
          0.6287137712088053,
          null,
          0.7972033590889352,
          0.7713456088919007,
          null,
          -0.06337431261261,
          0.7972033590889352,
          null,
          0.4551338959336725,
          0.7713456088919007,
          null,
          -0.3596278087044786,
          0.4551338959336725,
          null,
          0.7007683166358523,
          0.7713456088919007,
          null,
          -0.04397225427077345,
          0.7007683166358523,
          null,
          0.6995130364817504,
          0.7713456088919007,
          null,
          0.1942046527476219,
          0.6995130364817504,
          null,
          0.09449423338370869,
          0.7713456088919007,
          null,
          -0.3210274493769059,
          0.09449423338370869,
          null,
          0.22792469412310623,
          0.7713456088919007,
          null,
          -0.007651599931309023,
          0.22792469412310623,
          null,
          0.8282149592162165,
          0.7713456088919007,
          null,
          -0.14537281375715932,
          0.8282149592162165,
          null,
          0.32366013457413667,
          0.7713456088919007,
          null,
          -0.08191786125906163,
          0.32366013457413667,
          null,
          0.21002079920390498,
          0.7713456088919007,
          null,
          -0.4964675781350733,
          0.21002079920390498,
          null,
          -0.14463593481591872,
          0.7713456088919007,
          null,
          -0.8848824919407097,
          -0.14463593481591872,
          null,
          0.5254650225671567,
          0.7713456088919007,
          null,
          -0.07124926967624554,
          0.5254650225671567,
          null,
          0.47790062561621716,
          0.7713456088919007,
          null,
          0.2325059359178413,
          0.47790062561621716,
          null,
          0.7156551684588534,
          0.7713456088919007,
          null,
          0.7967365837543058,
          0.7156551684588534,
          null,
          0.9630047815579502,
          0.7713456088919007,
          null,
          0.010104416727928285,
          0.9630047815579502,
          null,
          0.3709095230065191,
          0.7713456088919007,
          null,
          -0.5454570400746633,
          0.3709095230065191,
          null,
          -0.19405836010224065,
          0.7713456088919007,
          null,
          -0.5931232121626319,
          -0.19405836010224065,
          null,
          0.192678146955888,
          0.7713456088919007,
          null,
          -0.6079880119106458,
          0.192678146955888,
          null,
          -0.408314676624774,
          0.7713456088919007,
          null,
          -0.985095777733904,
          -0.408314676624774,
          null,
          0.14367741631658065,
          0.7713456088919007,
          null,
          -0.59280455516562,
          0.14367741631658065,
          null,
          -0.1417521616465398,
          0.7713456088919007,
          null,
          -0.8316370920221023,
          -0.1417521616465398,
          null,
          0.06516526725303484,
          0.7713456088919007,
          null,
          -0.28547636990132885,
          0.06516526725303484,
          null,
          0.4907392667078106,
          0.7713456088919007,
          null,
          0.3277361091746361,
          0.4907392667078106,
          null,
          0.7891814265699931,
          0.7713456088919007,
          null,
          0.2665065216249764,
          0.7891814265699931,
          null,
          1.0,
          0.7713456088919007,
          null,
          -0.21075818410029984,
          1.0,
          null,
          0.45133738510502414,
          0.7713456088919007,
          null,
          -0.6789103343939331,
          0.45133738510502414,
          null,
          -0.267532448781464,
          0.7713456088919007,
          null,
          -0.9591690097694197,
          -0.267532448781464,
          null,
          -0.18185669025996384,
          0.7713456088919007,
          null,
          -0.8156242318514405,
          -0.18185669025996384,
          null,
          0.5274819456399444,
          0.7713456088919007,
          null,
          -0.05095180579924887,
          0.5274819456399444,
          null
         ],
         "y": [
          0.445471753107497,
          0.018783279434303725,
          null,
          0.6772868045582474,
          0.445471753107497,
          null,
          -0.14964047055244903,
          0.018783279434303725,
          null,
          -0.014261065056215551,
          -0.14964047055244903,
          null,
          0.2352986271960505,
          0.018783279434303725,
          null,
          0.5214940918549393,
          0.2352986271960505,
          null,
          0.012472008550494046,
          0.018783279434303725,
          null,
          -0.06601638202801305,
          0.012472008550494046,
          null,
          -0.12443002385884301,
          0.018783279434303725,
          null,
          -0.5823285381728445,
          -0.12443002385884301,
          null,
          0.15459473826117873,
          0.018783279434303725,
          null,
          0.6567092793510196,
          0.15459473826117873,
          null,
          0.07250383768243075,
          0.018783279434303725,
          null,
          0.251969653996442,
          0.07250383768243075,
          null,
          0.05326115260795564,
          0.018783279434303725,
          null,
          0.12345270083147875,
          0.05326115260795564,
          null,
          -0.05258786608726503,
          0.018783279434303725,
          null,
          -0.2136306733431439,
          -0.05258786608726503,
          null,
          -0.010208477535956845,
          0.018783279434303725,
          null,
          -0.030503971861821442,
          -0.010208477535956845,
          null,
          0.19793256265773657,
          0.018783279434303725,
          null,
          0.5042625161657316,
          0.19793256265773657,
          null,
          -0.055851996772743266,
          0.018783279434303725,
          null,
          -0.17797436481279724,
          -0.055851996772743266,
          null,
          -0.28760323018031236,
          0.018783279434303725,
          null,
          -0.5511331206365129,
          -0.28760323018031236,
          null,
          -0.2450817170379853,
          0.018783279434303725,
          null,
          -0.47022949804661485,
          -0.2450817170379853,
          null,
          0.45726813482319384,
          0.018783279434303725,
          null,
          0.8695170809980726,
          0.45726813482319384,
          null,
          0.17952350811434603,
          0.018783279434303725,
          null,
          0.2812133921648535,
          0.17952350811434603,
          null,
          0.3560897208321985,
          0.018783279434303725,
          null,
          0.8230774641552431,
          0.3560897208321985,
          null,
          0.19371975811996245,
          0.018783279434303725,
          null,
          0.4525562299715371,
          0.19371975811996245,
          null,
          -0.01404760548145782,
          0.018783279434303725,
          null,
          -0.013763191437044114,
          -0.01404760548145782,
          null,
          -0.33080639295022285,
          0.018783279434303725,
          null,
          -0.5337586341835001,
          -0.33080639295022285,
          null,
          -0.45081009874413697,
          0.018783279434303725,
          null,
          -0.9053500324602959,
          -0.45081009874413697,
          null,
          0.36688238489418673,
          0.018783279434303725,
          null,
          0.46786098900727235,
          0.36688238489418673,
          null,
          0.2482577448689144,
          0.018783279434303725,
          null,
          0.3835131189566518,
          0.2482577448689144,
          null,
          -0.06983923514658406,
          0.018783279434303725,
          null,
          -0.49601756290475196,
          -0.06983923514658406,
          null,
          0.15814266387774653,
          0.018783279434303725,
          null,
          0.2597642645814167,
          0.15814266387774653,
          null,
          0.14395517566016303,
          0.018783279434303725,
          null,
          0.12439703019684481,
          0.14395517566016303,
          null,
          -0.2414563337670402,
          0.018783279434303725,
          null,
          -0.6075119512184195,
          -0.2414563337670402,
          null,
          -0.0875663314127028,
          0.018783279434303725,
          null,
          0.2985721363246202,
          -0.0875663314127028,
          null,
          0.43018181394826926,
          0.018783279434303725,
          null,
          0.6015775648178778,
          0.43018181394826926,
          null,
          -0.3390529807939524,
          0.018783279434303725,
          null,
          -0.72402474641411,
          -0.3390529807939524,
          null,
          -0.12712278547809192,
          0.018783279434303725,
          null,
          -0.374287112032901,
          -0.12712278547809192,
          null,
          -0.2383000544536657,
          0.018783279434303725,
          null,
          -0.4378750593771882,
          -0.2383000544536657,
          null,
          -0.414891660097699,
          0.018783279434303725,
          null,
          -0.7987594180962909,
          -0.414891660097699,
          null,
          0.3493533027776412,
          0.018783279434303725,
          null,
          0.5810338766116243,
          0.3493533027776412,
          null,
          -0.40603186021512283,
          0.018783279434303725,
          null,
          -0.7195447700587781,
          -0.40603186021512283,
          null,
          -0.34681281913665496,
          0.018783279434303725,
          null,
          -0.6451686333816911,
          -0.34681281913665496,
          null,
          -0.25280009713879775,
          0.018783279434303725,
          null,
          -0.6536637656312174,
          -0.25280009713879775,
          null,
          0.04069221518976855,
          0.018783279434303725,
          null,
          0.39732673329213214,
          0.04069221518976855,
          null,
          0.40221141801836646,
          0.018783279434303725,
          null,
          0.9098960157381766,
          0.40221141801836646,
          null,
          -0.34705652786716235,
          0.018783279434303725,
          null,
          -0.5951132956161297,
          -0.34705652786716235,
          null,
          0.0256363657803595,
          0.018783279434303725,
          null,
          0.3935378859685814,
          0.0256363657803595,
          null,
          0.3111669816368491,
          0.018783279434303725,
          null,
          0.56174707526652,
          0.3111669816368491,
          null,
          -0.11869988240786379,
          0.018783279434303725,
          null,
          -0.26335278578372656,
          -0.11869988240786379,
          null,
          0.29251105796450294,
          0.018783279434303725,
          null,
          0.6611475902947171,
          0.29251105796450294,
          null,
          -0.17752232455117042,
          0.018783279434303725,
          null,
          -0.591830383924889,
          -0.17752232455117042,
          null,
          0.4716033146057407,
          0.018783279434303725,
          null,
          0.890147470694779,
          0.4716033146057407,
          null,
          0.16563284295130248,
          0.018783279434303725,
          null,
          0.1711849293529465,
          0.16563284295130248,
          null,
          -0.206298165118259,
          0.018783279434303725,
          null,
          -0.36445885972978154,
          -0.206298165118259,
          null,
          0.13432767801560214,
          0.018783279434303725,
          null,
          0.41847277727387977,
          0.13432767801560214,
          null,
          -0.13336900259327614,
          0.018783279434303725,
          null,
          -0.2428838272847697,
          -0.13336900259327614,
          null,
          -0.018326957277405517,
          0.018783279434303725,
          null,
          0.10517361117741027,
          -0.018326957277405517,
          null,
          0.12719882692551712,
          0.018783279434303725,
          null,
          0.21711075115741277,
          0.12719882692551712,
          null,
          -0.18589162511203092,
          0.018783279434303725,
          null,
          -0.42742322761232715,
          -0.18589162511203092,
          null,
          -0.15233587075912802,
          0.018783279434303725,
          null,
          -0.4964170503961415,
          -0.15233587075912802,
          null,
          -0.2626001985116553,
          0.018783279434303725,
          null,
          -0.7480740547606195,
          -0.2626001985116553,
          null,
          0.2652391112003886,
          0.018783279434303725,
          null,
          0.625571189117936,
          0.2652391112003886,
          null,
          -0.08052535051093786,
          0.018783279434303725,
          null,
          -0.2680394261785106,
          -0.08052535051093786,
          null,
          0.35706939595017884,
          0.018783279434303725,
          null,
          0.4218672369905203,
          0.35706939595017884,
          null,
          0.09423906994643458,
          0.018783279434303725,
          null,
          0.0649410597794552,
          0.09423906994643458,
          null,
          -0.07087363936533692,
          0.018783279434303725,
          null,
          -0.13462149151206698,
          -0.07087363936533692,
          null,
          -0.4540187572718692,
          0.018783279434303725,
          null,
          -0.8771257341067508,
          -0.4540187572718692,
          null
         ],
         "type": "scatter"
        },
        {
         "hoverinfo": "text",
         "marker": {
          "color": [],
          "colorbar": {
           "thickness": 15,
           "title": {
            "side": "right",
            "text": "Node Connections"
           },
           "xanchor": "left"
          },
          "colorscale": [
           [
            0.0,
            "rgb(255,255,217)"
           ],
           [
            0.125,
            "rgb(237,248,177)"
           ],
           [
            0.25,
            "rgb(199,233,180)"
           ],
           [
            0.375,
            "rgb(127,205,187)"
           ],
           [
            0.5,
            "rgb(65,182,196)"
           ],
           [
            0.625,
            "rgb(29,145,192)"
           ],
           [
            0.75,
            "rgb(34,94,168)"
           ],
           [
            0.875,
            "rgb(37,52,148)"
           ],
           [
            1.0,
            "rgb(8,29,88)"
           ]
          ],
          "line": {
           "width": 2
          },
          "reversescale": true,
          "showscale": true,
          "size": 10
         },
         "mode": "markers",
         "text": [
          "0",
          "Art Tray",
          "Coffee",
          "1",
          "Bakewell",
          "2",
          "Extra Salami or Feta",
          "3",
          "Granola",
          "4",
          "Keeping It Local",
          "5",
          "Salad",
          "6",
          "Tartine",
          "7",
          "Toast",
          "8",
          "Alfajores, Cookies",
          "9",
          "Alfajores, NONE",
          "10",
          "Brownie, Cookies",
          "11",
          "Brownie, NONE",
          "12",
          "Brownie, Sandwich",
          "13",
          "Cake, Hot chocolate",
          "14",
          "Cake, Medialuna",
          "15",
          "Cake, NONE",
          "16",
          "Cake, Salad",
          "17",
          "Cake, Sandwich",
          "18",
          "Cake, Scone",
          "19",
          "Cake, Smoothies",
          "20",
          "Cake, Tiffin",
          "21",
          "Cake, Toast",
          "22",
          "Cake, Vegan mincepie",
          "23",
          "Cookies, Hot chocolate",
          "24",
          "Cookies, Juice",
          "25",
          "Cookies, Medialuna",
          "26",
          "Cookies, NONE",
          "27",
          "Cookies, Pastry",
          "28",
          "Cookies, Scone",
          "29",
          "Extra Salami or Feta, NONE",
          "30",
          "Extra Salami or Feta, Salad",
          "31",
          "Hearty & Seasonal, Sandwich",
          "32",
          "Hot chocolate, Medialuna",
          "33",
          "Hot chocolate, NONE",
          "34",
          "Hot chocolate, Pastry",
          "35",
          "Hot chocolate, Scone",
          "36",
          "Jammie Dodgers, Juice",
          "37",
          "Juice, NONE",
          "38",
          "Juice, Pastry",
          "39",
          "Juice, Scone",
          "40",
          "Juice, Spanish Brunch",
          "41",
          "Juice, Toast",
          "42",
          "Keeping It Local, Tea",
          "43",
          "Medialuna, NONE",
          "44",
          "Medialuna, Sandwich",
          "45",
          "Medialuna, Toast",
          "46",
          "Muffin, NONE",
          "47",
          "Muffin, Sandwich",
          "48",
          "NONE, Pastry",
          "49",
          "NONE, Scone",
          "50",
          "NONE, Soup",
          "51",
          "NONE, Spanish Brunch",
          "52",
          "NONE, Tartine",
          "53",
          "NONE, Toast",
          "54",
          "Pastry, Toast",
          "55",
          "Salad, Sandwich",
          "56",
          "Sandwich, Soup",
          "57",
          "Sandwich, Spanish Brunch",
          "58",
          "Bread, Hot chocolate, Pastry",
          "59",
          "Cake, Sandwich, Tea",
          "60",
          "Hot chocolate, Medialuna, NONE"
         ],
         "x": [
          0.4933180079344172,
          -0.48208304722770084,
          0.7713456088919007,
          0.7243606284335512,
          0.5039474366668594,
          0.020710459296586797,
          -0.6795734374939357,
          -0.29995821064264416,
          -0.9581433733448699,
          -0.017379901416629387,
          -0.35633442291945683,
          0.26534456345043345,
          0.19176197038037965,
          -0.38033754168647915,
          -0.9178826481593109,
          -0.16498110759663154,
          -0.8877074617345135,
          -0.26457683707041363,
          -0.7787083812298479,
          -0.16049083338524894,
          -0.8666528718221922,
          0.4650822437176184,
          -0.14585390572997034,
          0.4014449271859766,
          -0.48272941962331184,
          0.26493879031961315,
          -0.3877792660289004,
          0.16956558336038846,
          -0.4634986918859597,
          0.5641952779717095,
          0.10644404189443601,
          0.7522465261332745,
          0.20252982741158607,
          0.18751418163460323,
          -0.018166566326988855,
          -0.11595770744506946,
          -0.7416660949813694,
          0.15001376000596192,
          -0.5374441189114394,
          0.3973143555304684,
          -0.5593386235059917,
          0.7079356576360616,
          0.45359507026031987,
          0.6912024846554898,
          -0.3225842578059706,
          -0.04978584836217534,
          -0.7947305443463781,
          0.09480117357446453,
          -0.08359836661152469,
          -0.06630147152463971,
          -0.7055352110202773,
          0.3843388847295802,
          -0.05046423296328885,
          0.05923550772030817,
          -0.517438315726983,
          0.4910316005504616,
          0.38533896659988576,
          0.8180593404237863,
          -0.3732913976575664,
          0.528683239215469,
          0.013155901832921627,
          -0.2793460062531016,
          -0.7702543550019866,
          0.9210704935216727,
          -0.0243557104436987,
          0.6287137712088053,
          -0.011544381825466968,
          0.7972033590889352,
          -0.06337431261261,
          0.4551338959336725,
          -0.3596278087044786,
          0.7007683166358523,
          -0.04397225427077345,
          0.6995130364817504,
          0.1942046527476219,
          0.09449423338370869,
          -0.3210274493769059,
          0.22792469412310623,
          -0.007651599931309023,
          0.8282149592162165,
          -0.14537281375715932,
          0.32366013457413667,
          -0.08191786125906163,
          0.21002079920390498,
          -0.4964675781350733,
          -0.14463593481591872,
          -0.8848824919407097,
          0.5254650225671567,
          -0.07124926967624554,
          0.47790062561621716,
          0.2325059359178413,
          0.7156551684588534,
          0.7967365837543058,
          0.9630047815579502,
          0.010104416727928285,
          0.3709095230065191,
          -0.5454570400746633,
          -0.19405836010224065,
          -0.5931232121626319,
          0.192678146955888,
          -0.6079880119106458,
          -0.408314676624774,
          -0.985095777733904,
          0.14367741631658065,
          -0.59280455516562,
          -0.1417521616465398,
          -0.8316370920221023,
          0.06516526725303484,
          -0.28547636990132885,
          0.4907392667078106,
          0.3277361091746361,
          0.7891814265699931,
          0.2665065216249764,
          1.0,
          -0.21075818410029984,
          0.45133738510502414,
          -0.6789103343939331,
          -0.267532448781464,
          -0.9591690097694197,
          -0.18185669025996384,
          -0.8156242318514405,
          0.5274819456399444,
          -0.05095180579924887
         ],
         "y": [
          0.445471753107497,
          0.6772868045582474,
          0.018783279434303725,
          -0.14964047055244903,
          -0.014261065056215551,
          0.2352986271960505,
          0.5214940918549393,
          0.012472008550494046,
          -0.06601638202801305,
          -0.12443002385884301,
          -0.5823285381728445,
          0.15459473826117873,
          0.6567092793510196,
          0.07250383768243075,
          0.251969653996442,
          0.05326115260795564,
          0.12345270083147875,
          -0.05258786608726503,
          -0.2136306733431439,
          -0.010208477535956845,
          -0.030503971861821442,
          0.19793256265773657,
          0.5042625161657316,
          -0.055851996772743266,
          -0.17797436481279724,
          -0.28760323018031236,
          -0.5511331206365129,
          -0.2450817170379853,
          -0.47022949804661485,
          0.45726813482319384,
          0.8695170809980726,
          0.17952350811434603,
          0.2812133921648535,
          0.3560897208321985,
          0.8230774641552431,
          0.19371975811996245,
          0.4525562299715371,
          -0.01404760548145782,
          -0.013763191437044114,
          -0.33080639295022285,
          -0.5337586341835001,
          -0.45081009874413697,
          -0.9053500324602959,
          0.36688238489418673,
          0.46786098900727235,
          0.2482577448689144,
          0.3835131189566518,
          -0.06983923514658406,
          -0.49601756290475196,
          0.15814266387774653,
          0.2597642645814167,
          0.14395517566016303,
          0.12439703019684481,
          -0.2414563337670402,
          -0.6075119512184195,
          -0.0875663314127028,
          0.2985721363246202,
          0.43018181394826926,
          0.6015775648178778,
          -0.3390529807939524,
          -0.72402474641411,
          -0.12712278547809192,
          -0.374287112032901,
          -0.2383000544536657,
          -0.4378750593771882,
          -0.414891660097699,
          -0.7987594180962909,
          0.3493533027776412,
          0.5810338766116243,
          -0.40603186021512283,
          -0.7195447700587781,
          -0.34681281913665496,
          -0.6451686333816911,
          -0.25280009713879775,
          -0.6536637656312174,
          0.04069221518976855,
          0.39732673329213214,
          0.40221141801836646,
          0.9098960157381766,
          -0.34705652786716235,
          -0.5951132956161297,
          0.0256363657803595,
          0.3935378859685814,
          0.3111669816368491,
          0.56174707526652,
          -0.11869988240786379,
          -0.26335278578372656,
          0.29251105796450294,
          0.6611475902947171,
          -0.17752232455117042,
          -0.591830383924889,
          0.4716033146057407,
          0.890147470694779,
          0.16563284295130248,
          0.1711849293529465,
          -0.206298165118259,
          -0.36445885972978154,
          0.13432767801560214,
          0.41847277727387977,
          -0.13336900259327614,
          -0.2428838272847697,
          -0.018326957277405517,
          0.10517361117741027,
          0.12719882692551712,
          0.21711075115741277,
          -0.18589162511203092,
          -0.42742322761232715,
          -0.15233587075912802,
          -0.4964170503961415,
          -0.2626001985116553,
          -0.7480740547606195,
          0.2652391112003886,
          0.625571189117936,
          -0.08052535051093786,
          -0.2680394261785106,
          0.35706939595017884,
          0.4218672369905203,
          0.09423906994643458,
          0.0649410597794552,
          -0.07087363936533692,
          -0.13462149151206698,
          -0.4540187572718692,
          -0.8771257341067508
         ],
         "type": "scatter"
        }
       ],
       "layout": {
        "annotations": [
         {
          "showarrow": false,
          "text": "Python code: <a href='https://plotly.com/ipython-notebooks/network-graphs/'> https://plotly.com/ipython-notebooks/network-graphs/</a>",
          "x": 0.005,
          "xref": "paper",
          "y": -0.002,
          "yref": "paper"
         }
        ],
        "hovermode": "closest",
        "margin": {
         "b": 20,
         "l": 5,
         "r": 5,
         "t": 40
        },
        "showlegend": false,
        "title": {
         "font": {
          "size": 16
         },
         "text": "<br>Network graph made with Python"
        },
        "xaxis": {
         "showgrid": false,
         "showticklabels": false,
         "zeroline": false
        },
        "yaxis": {
         "showgrid": false,
         "showticklabels": false,
         "zeroline": false
        },
        "template": {
         "data": {
          "histogram2dcontour": [
           {
            "type": "histogram2dcontour",
            "colorbar": {
             "outlinewidth": 0,
             "ticks": ""
            },
            "colorscale": [
             [
              0.0,
              "#0d0887"
             ],
             [
              0.1111111111111111,
              "#46039f"
             ],
             [
              0.2222222222222222,
              "#7201a8"
             ],
             [
              0.3333333333333333,
              "#9c179e"
             ],
             [
              0.4444444444444444,
              "#bd3786"
             ],
             [
              0.5555555555555556,
              "#d8576b"
             ],
             [
              0.6666666666666666,
              "#ed7953"
             ],
             [
              0.7777777777777778,
              "#fb9f3a"
             ],
             [
              0.8888888888888888,
              "#fdca26"
             ],
             [
              1.0,
              "#f0f921"
             ]
            ]
           }
          ],
          "choropleth": [
           {
            "type": "choropleth",
            "colorbar": {
             "outlinewidth": 0,
             "ticks": ""
            }
           }
          ],
          "histogram2d": [
           {
            "type": "histogram2d",
            "colorbar": {
             "outlinewidth": 0,
             "ticks": ""
            },
            "colorscale": [
             [
              0.0,
              "#0d0887"
             ],
             [
              0.1111111111111111,
              "#46039f"
             ],
             [
              0.2222222222222222,
              "#7201a8"
             ],
             [
              0.3333333333333333,
              "#9c179e"
             ],
             [
              0.4444444444444444,
              "#bd3786"
             ],
             [
              0.5555555555555556,
              "#d8576b"
             ],
             [
              0.6666666666666666,
              "#ed7953"
             ],
             [
              0.7777777777777778,
              "#fb9f3a"
             ],
             [
              0.8888888888888888,
              "#fdca26"
             ],
             [
              1.0,
              "#f0f921"
             ]
            ]
           }
          ],
          "heatmap": [
           {
            "type": "heatmap",
            "colorbar": {
             "outlinewidth": 0,
             "ticks": ""
            },
            "colorscale": [
             [
              0.0,
              "#0d0887"
             ],
             [
              0.1111111111111111,
              "#46039f"
             ],
             [
              0.2222222222222222,
              "#7201a8"
             ],
             [
              0.3333333333333333,
              "#9c179e"
             ],
             [
              0.4444444444444444,
              "#bd3786"
             ],
             [
              0.5555555555555556,
              "#d8576b"
             ],
             [
              0.6666666666666666,
              "#ed7953"
             ],
             [
              0.7777777777777778,
              "#fb9f3a"
             ],
             [
              0.8888888888888888,
              "#fdca26"
             ],
             [
              1.0,
              "#f0f921"
             ]
            ]
           }
          ],
          "heatmapgl": [
           {
            "type": "heatmapgl",
            "colorbar": {
             "outlinewidth": 0,
             "ticks": ""
            },
            "colorscale": [
             [
              0.0,
              "#0d0887"
             ],
             [
              0.1111111111111111,
              "#46039f"
             ],
             [
              0.2222222222222222,
              "#7201a8"
             ],
             [
              0.3333333333333333,
              "#9c179e"
             ],
             [
              0.4444444444444444,
              "#bd3786"
             ],
             [
              0.5555555555555556,
              "#d8576b"
             ],
             [
              0.6666666666666666,
              "#ed7953"
             ],
             [
              0.7777777777777778,
              "#fb9f3a"
             ],
             [
              0.8888888888888888,
              "#fdca26"
             ],
             [
              1.0,
              "#f0f921"
             ]
            ]
           }
          ],
          "contourcarpet": [
           {
            "type": "contourcarpet",
            "colorbar": {
             "outlinewidth": 0,
             "ticks": ""
            }
           }
          ],
          "contour": [
           {
            "type": "contour",
            "colorbar": {
             "outlinewidth": 0,
             "ticks": ""
            },
            "colorscale": [
             [
              0.0,
              "#0d0887"
             ],
             [
              0.1111111111111111,
              "#46039f"
             ],
             [
              0.2222222222222222,
              "#7201a8"
             ],
             [
              0.3333333333333333,
              "#9c179e"
             ],
             [
              0.4444444444444444,
              "#bd3786"
             ],
             [
              0.5555555555555556,
              "#d8576b"
             ],
             [
              0.6666666666666666,
              "#ed7953"
             ],
             [
              0.7777777777777778,
              "#fb9f3a"
             ],
             [
              0.8888888888888888,
              "#fdca26"
             ],
             [
              1.0,
              "#f0f921"
             ]
            ]
           }
          ],
          "surface": [
           {
            "type": "surface",
            "colorbar": {
             "outlinewidth": 0,
             "ticks": ""
            },
            "colorscale": [
             [
              0.0,
              "#0d0887"
             ],
             [
              0.1111111111111111,
              "#46039f"
             ],
             [
              0.2222222222222222,
              "#7201a8"
             ],
             [
              0.3333333333333333,
              "#9c179e"
             ],
             [
              0.4444444444444444,
              "#bd3786"
             ],
             [
              0.5555555555555556,
              "#d8576b"
             ],
             [
              0.6666666666666666,
              "#ed7953"
             ],
             [
              0.7777777777777778,
              "#fb9f3a"
             ],
             [
              0.8888888888888888,
              "#fdca26"
             ],
             [
              1.0,
              "#f0f921"
             ]
            ]
           }
          ],
          "mesh3d": [
           {
            "type": "mesh3d",
            "colorbar": {
             "outlinewidth": 0,
             "ticks": ""
            }
           }
          ],
          "scatter": [
           {
            "fillpattern": {
             "fillmode": "overlay",
             "size": 10,
             "solidity": 0.2
            },
            "type": "scatter"
           }
          ],
          "parcoords": [
           {
            "type": "parcoords",
            "line": {
             "colorbar": {
              "outlinewidth": 0,
              "ticks": ""
             }
            }
           }
          ],
          "scatterpolargl": [
           {
            "type": "scatterpolargl",
            "marker": {
             "colorbar": {
              "outlinewidth": 0,
              "ticks": ""
             }
            }
           }
          ],
          "bar": [
           {
            "error_x": {
             "color": "#2a3f5f"
            },
            "error_y": {
             "color": "#2a3f5f"
            },
            "marker": {
             "line": {
              "color": "#E5ECF6",
              "width": 0.5
             },
             "pattern": {
              "fillmode": "overlay",
              "size": 10,
              "solidity": 0.2
             }
            },
            "type": "bar"
           }
          ],
          "scattergeo": [
           {
            "type": "scattergeo",
            "marker": {
             "colorbar": {
              "outlinewidth": 0,
              "ticks": ""
             }
            }
           }
          ],
          "scatterpolar": [
           {
            "type": "scatterpolar",
            "marker": {
             "colorbar": {
              "outlinewidth": 0,
              "ticks": ""
             }
            }
           }
          ],
          "histogram": [
           {
            "marker": {
             "pattern": {
              "fillmode": "overlay",
              "size": 10,
              "solidity": 0.2
             }
            },
            "type": "histogram"
           }
          ],
          "scattergl": [
           {
            "type": "scattergl",
            "marker": {
             "colorbar": {
              "outlinewidth": 0,
              "ticks": ""
             }
            }
           }
          ],
          "scatter3d": [
           {
            "type": "scatter3d",
            "line": {
             "colorbar": {
              "outlinewidth": 0,
              "ticks": ""
             }
            },
            "marker": {
             "colorbar": {
              "outlinewidth": 0,
              "ticks": ""
             }
            }
           }
          ],
          "scattermapbox": [
           {
            "type": "scattermapbox",
            "marker": {
             "colorbar": {
              "outlinewidth": 0,
              "ticks": ""
             }
            }
           }
          ],
          "scatterternary": [
           {
            "type": "scatterternary",
            "marker": {
             "colorbar": {
              "outlinewidth": 0,
              "ticks": ""
             }
            }
           }
          ],
          "scattercarpet": [
           {
            "type": "scattercarpet",
            "marker": {
             "colorbar": {
              "outlinewidth": 0,
              "ticks": ""
             }
            }
           }
          ],
          "carpet": [
           {
            "aaxis": {
             "endlinecolor": "#2a3f5f",
             "gridcolor": "white",
             "linecolor": "white",
             "minorgridcolor": "white",
             "startlinecolor": "#2a3f5f"
            },
            "baxis": {
             "endlinecolor": "#2a3f5f",
             "gridcolor": "white",
             "linecolor": "white",
             "minorgridcolor": "white",
             "startlinecolor": "#2a3f5f"
            },
            "type": "carpet"
           }
          ],
          "table": [
           {
            "cells": {
             "fill": {
              "color": "#EBF0F8"
             },
             "line": {
              "color": "white"
             }
            },
            "header": {
             "fill": {
              "color": "#C8D4E3"
             },
             "line": {
              "color": "white"
             }
            },
            "type": "table"
           }
          ],
          "barpolar": [
           {
            "marker": {
             "line": {
              "color": "#E5ECF6",
              "width": 0.5
             },
             "pattern": {
              "fillmode": "overlay",
              "size": 10,
              "solidity": 0.2
             }
            },
            "type": "barpolar"
           }
          ],
          "pie": [
           {
            "automargin": true,
            "type": "pie"
           }
          ]
         },
         "layout": {
          "autotypenumbers": "strict",
          "colorway": [
           "#636efa",
           "#EF553B",
           "#00cc96",
           "#ab63fa",
           "#FFA15A",
           "#19d3f3",
           "#FF6692",
           "#B6E880",
           "#FF97FF",
           "#FECB52"
          ],
          "font": {
           "color": "#2a3f5f"
          },
          "hovermode": "closest",
          "hoverlabel": {
           "align": "left"
          },
          "paper_bgcolor": "white",
          "plot_bgcolor": "#E5ECF6",
          "polar": {
           "bgcolor": "#E5ECF6",
           "angularaxis": {
            "gridcolor": "white",
            "linecolor": "white",
            "ticks": ""
           },
           "radialaxis": {
            "gridcolor": "white",
            "linecolor": "white",
            "ticks": ""
           }
          },
          "ternary": {
           "bgcolor": "#E5ECF6",
           "aaxis": {
            "gridcolor": "white",
            "linecolor": "white",
            "ticks": ""
           },
           "baxis": {
            "gridcolor": "white",
            "linecolor": "white",
            "ticks": ""
           },
           "caxis": {
            "gridcolor": "white",
            "linecolor": "white",
            "ticks": ""
           }
          },
          "coloraxis": {
           "colorbar": {
            "outlinewidth": 0,
            "ticks": ""
           }
          },
          "colorscale": {
           "sequential": [
            [
             0.0,
             "#0d0887"
            ],
            [
             0.1111111111111111,
             "#46039f"
            ],
            [
             0.2222222222222222,
             "#7201a8"
            ],
            [
             0.3333333333333333,
             "#9c179e"
            ],
            [
             0.4444444444444444,
             "#bd3786"
            ],
            [
             0.5555555555555556,
             "#d8576b"
            ],
            [
             0.6666666666666666,
             "#ed7953"
            ],
            [
             0.7777777777777778,
             "#fb9f3a"
            ],
            [
             0.8888888888888888,
             "#fdca26"
            ],
            [
             1.0,
             "#f0f921"
            ]
           ],
           "sequentialminus": [
            [
             0.0,
             "#0d0887"
            ],
            [
             0.1111111111111111,
             "#46039f"
            ],
            [
             0.2222222222222222,
             "#7201a8"
            ],
            [
             0.3333333333333333,
             "#9c179e"
            ],
            [
             0.4444444444444444,
             "#bd3786"
            ],
            [
             0.5555555555555556,
             "#d8576b"
            ],
            [
             0.6666666666666666,
             "#ed7953"
            ],
            [
             0.7777777777777778,
             "#fb9f3a"
            ],
            [
             0.8888888888888888,
             "#fdca26"
            ],
            [
             1.0,
             "#f0f921"
            ]
           ],
           "diverging": [
            [
             0,
             "#8e0152"
            ],
            [
             0.1,
             "#c51b7d"
            ],
            [
             0.2,
             "#de77ae"
            ],
            [
             0.3,
             "#f1b6da"
            ],
            [
             0.4,
             "#fde0ef"
            ],
            [
             0.5,
             "#f7f7f7"
            ],
            [
             0.6,
             "#e6f5d0"
            ],
            [
             0.7,
             "#b8e186"
            ],
            [
             0.8,
             "#7fbc41"
            ],
            [
             0.9,
             "#4d9221"
            ],
            [
             1,
             "#276419"
            ]
           ]
          },
          "xaxis": {
           "gridcolor": "white",
           "linecolor": "white",
           "ticks": "",
           "title": {
            "standoff": 15
           },
           "zerolinecolor": "white",
           "automargin": true,
           "zerolinewidth": 2
          },
          "yaxis": {
           "gridcolor": "white",
           "linecolor": "white",
           "ticks": "",
           "title": {
            "standoff": 15
           },
           "zerolinecolor": "white",
           "automargin": true,
           "zerolinewidth": 2
          },
          "scene": {
           "xaxis": {
            "backgroundcolor": "#E5ECF6",
            "gridcolor": "white",
            "linecolor": "white",
            "showbackground": true,
            "ticks": "",
            "zerolinecolor": "white",
            "gridwidth": 2
           },
           "yaxis": {
            "backgroundcolor": "#E5ECF6",
            "gridcolor": "white",
            "linecolor": "white",
            "showbackground": true,
            "ticks": "",
            "zerolinecolor": "white",
            "gridwidth": 2
           },
           "zaxis": {
            "backgroundcolor": "#E5ECF6",
            "gridcolor": "white",
            "linecolor": "white",
            "showbackground": true,
            "ticks": "",
            "zerolinecolor": "white",
            "gridwidth": 2
           }
          },
          "shapedefaults": {
           "line": {
            "color": "#2a3f5f"
           }
          },
          "annotationdefaults": {
           "arrowcolor": "#2a3f5f",
           "arrowhead": 0,
           "arrowwidth": 1
          },
          "geo": {
           "bgcolor": "white",
           "landcolor": "#E5ECF6",
           "subunitcolor": "white",
           "showland": true,
           "showlakes": true,
           "lakecolor": "white"
          },
          "title": {
           "x": 0.05
          },
          "mapbox": {
           "style": "light"
          }
         }
        }
       },
       "config": {
        "plotlyServerURL": "https://plot.ly"
       }
      },
      "text/html": [
       "<div>                            <div id=\"f79ea666-3206-4e0a-b964-fba0847573db\" class=\"plotly-graph-div\" style=\"height:525px; width:100%;\"></div>            <script type=\"text/javascript\">                require([\"plotly\"], function(Plotly) {                    window.PLOTLYENV=window.PLOTLYENV || {};                                    if (document.getElementById(\"f79ea666-3206-4e0a-b964-fba0847573db\")) {                    Plotly.newPlot(                        \"f79ea666-3206-4e0a-b964-fba0847573db\",                        [{\"hoverinfo\":\"none\",\"line\":{\"color\":\"#888\",\"width\":0.5},\"mode\":\"lines\",\"x\":[0.4933180079344172,0.7713456088919007,null,-0.48208304722770084,0.4933180079344172,null,0.7243606284335512,0.7713456088919007,null,0.5039474366668594,0.7243606284335512,null,0.020710459296586797,0.7713456088919007,null,-0.6795734374939357,0.020710459296586797,null,-0.29995821064264416,0.7713456088919007,null,-0.9581433733448699,-0.29995821064264416,null,-0.017379901416629387,0.7713456088919007,null,-0.35633442291945683,-0.017379901416629387,null,0.26534456345043345,0.7713456088919007,null,0.19176197038037965,0.26534456345043345,null,-0.38033754168647915,0.7713456088919007,null,-0.9178826481593109,-0.38033754168647915,null,-0.16498110759663154,0.7713456088919007,null,-0.8877074617345135,-0.16498110759663154,null,-0.26457683707041363,0.7713456088919007,null,-0.7787083812298479,-0.26457683707041363,null,-0.16049083338524894,0.7713456088919007,null,-0.8666528718221922,-0.16049083338524894,null,0.4650822437176184,0.7713456088919007,null,-0.14585390572997034,0.4650822437176184,null,0.4014449271859766,0.7713456088919007,null,-0.48272941962331184,0.4014449271859766,null,0.26493879031961315,0.7713456088919007,null,-0.3877792660289004,0.26493879031961315,null,0.16956558336038846,0.7713456088919007,null,-0.4634986918859597,0.16956558336038846,null,0.5641952779717095,0.7713456088919007,null,0.10644404189443601,0.5641952779717095,null,0.7522465261332745,0.7713456088919007,null,0.20252982741158607,0.7522465261332745,null,0.18751418163460323,0.7713456088919007,null,-0.018166566326988855,0.18751418163460323,null,-0.11595770744506946,0.7713456088919007,null,-0.7416660949813694,-0.11595770744506946,null,0.15001376000596192,0.7713456088919007,null,-0.5374441189114394,0.15001376000596192,null,0.3973143555304684,0.7713456088919007,null,-0.5593386235059917,0.3973143555304684,null,0.7079356576360616,0.7713456088919007,null,0.45359507026031987,0.7079356576360616,null,0.6912024846554898,0.7713456088919007,null,-0.3225842578059706,0.6912024846554898,null,-0.04978584836217534,0.7713456088919007,null,-0.7947305443463781,-0.04978584836217534,null,0.09480117357446453,0.7713456088919007,null,-0.08359836661152469,0.09480117357446453,null,-0.06630147152463971,0.7713456088919007,null,-0.7055352110202773,-0.06630147152463971,null,0.3843388847295802,0.7713456088919007,null,-0.05046423296328885,0.3843388847295802,null,0.05923550772030817,0.7713456088919007,null,-0.517438315726983,0.05923550772030817,null,0.4910316005504616,0.7713456088919007,null,0.38533896659988576,0.4910316005504616,null,0.8180593404237863,0.7713456088919007,null,-0.3732913976575664,0.8180593404237863,null,0.528683239215469,0.7713456088919007,null,0.013155901832921627,0.528683239215469,null,-0.2793460062531016,0.7713456088919007,null,-0.7702543550019866,-0.2793460062531016,null,0.9210704935216727,0.7713456088919007,null,-0.0243557104436987,0.9210704935216727,null,0.6287137712088053,0.7713456088919007,null,-0.011544381825466968,0.6287137712088053,null,0.7972033590889352,0.7713456088919007,null,-0.06337431261261,0.7972033590889352,null,0.4551338959336725,0.7713456088919007,null,-0.3596278087044786,0.4551338959336725,null,0.7007683166358523,0.7713456088919007,null,-0.04397225427077345,0.7007683166358523,null,0.6995130364817504,0.7713456088919007,null,0.1942046527476219,0.6995130364817504,null,0.09449423338370869,0.7713456088919007,null,-0.3210274493769059,0.09449423338370869,null,0.22792469412310623,0.7713456088919007,null,-0.007651599931309023,0.22792469412310623,null,0.8282149592162165,0.7713456088919007,null,-0.14537281375715932,0.8282149592162165,null,0.32366013457413667,0.7713456088919007,null,-0.08191786125906163,0.32366013457413667,null,0.21002079920390498,0.7713456088919007,null,-0.4964675781350733,0.21002079920390498,null,-0.14463593481591872,0.7713456088919007,null,-0.8848824919407097,-0.14463593481591872,null,0.5254650225671567,0.7713456088919007,null,-0.07124926967624554,0.5254650225671567,null,0.47790062561621716,0.7713456088919007,null,0.2325059359178413,0.47790062561621716,null,0.7156551684588534,0.7713456088919007,null,0.7967365837543058,0.7156551684588534,null,0.9630047815579502,0.7713456088919007,null,0.010104416727928285,0.9630047815579502,null,0.3709095230065191,0.7713456088919007,null,-0.5454570400746633,0.3709095230065191,null,-0.19405836010224065,0.7713456088919007,null,-0.5931232121626319,-0.19405836010224065,null,0.192678146955888,0.7713456088919007,null,-0.6079880119106458,0.192678146955888,null,-0.408314676624774,0.7713456088919007,null,-0.985095777733904,-0.408314676624774,null,0.14367741631658065,0.7713456088919007,null,-0.59280455516562,0.14367741631658065,null,-0.1417521616465398,0.7713456088919007,null,-0.8316370920221023,-0.1417521616465398,null,0.06516526725303484,0.7713456088919007,null,-0.28547636990132885,0.06516526725303484,null,0.4907392667078106,0.7713456088919007,null,0.3277361091746361,0.4907392667078106,null,0.7891814265699931,0.7713456088919007,null,0.2665065216249764,0.7891814265699931,null,1.0,0.7713456088919007,null,-0.21075818410029984,1.0,null,0.45133738510502414,0.7713456088919007,null,-0.6789103343939331,0.45133738510502414,null,-0.267532448781464,0.7713456088919007,null,-0.9591690097694197,-0.267532448781464,null,-0.18185669025996384,0.7713456088919007,null,-0.8156242318514405,-0.18185669025996384,null,0.5274819456399444,0.7713456088919007,null,-0.05095180579924887,0.5274819456399444,null],\"y\":[0.445471753107497,0.018783279434303725,null,0.6772868045582474,0.445471753107497,null,-0.14964047055244903,0.018783279434303725,null,-0.014261065056215551,-0.14964047055244903,null,0.2352986271960505,0.018783279434303725,null,0.5214940918549393,0.2352986271960505,null,0.012472008550494046,0.018783279434303725,null,-0.06601638202801305,0.012472008550494046,null,-0.12443002385884301,0.018783279434303725,null,-0.5823285381728445,-0.12443002385884301,null,0.15459473826117873,0.018783279434303725,null,0.6567092793510196,0.15459473826117873,null,0.07250383768243075,0.018783279434303725,null,0.251969653996442,0.07250383768243075,null,0.05326115260795564,0.018783279434303725,null,0.12345270083147875,0.05326115260795564,null,-0.05258786608726503,0.018783279434303725,null,-0.2136306733431439,-0.05258786608726503,null,-0.010208477535956845,0.018783279434303725,null,-0.030503971861821442,-0.010208477535956845,null,0.19793256265773657,0.018783279434303725,null,0.5042625161657316,0.19793256265773657,null,-0.055851996772743266,0.018783279434303725,null,-0.17797436481279724,-0.055851996772743266,null,-0.28760323018031236,0.018783279434303725,null,-0.5511331206365129,-0.28760323018031236,null,-0.2450817170379853,0.018783279434303725,null,-0.47022949804661485,-0.2450817170379853,null,0.45726813482319384,0.018783279434303725,null,0.8695170809980726,0.45726813482319384,null,0.17952350811434603,0.018783279434303725,null,0.2812133921648535,0.17952350811434603,null,0.3560897208321985,0.018783279434303725,null,0.8230774641552431,0.3560897208321985,null,0.19371975811996245,0.018783279434303725,null,0.4525562299715371,0.19371975811996245,null,-0.01404760548145782,0.018783279434303725,null,-0.013763191437044114,-0.01404760548145782,null,-0.33080639295022285,0.018783279434303725,null,-0.5337586341835001,-0.33080639295022285,null,-0.45081009874413697,0.018783279434303725,null,-0.9053500324602959,-0.45081009874413697,null,0.36688238489418673,0.018783279434303725,null,0.46786098900727235,0.36688238489418673,null,0.2482577448689144,0.018783279434303725,null,0.3835131189566518,0.2482577448689144,null,-0.06983923514658406,0.018783279434303725,null,-0.49601756290475196,-0.06983923514658406,null,0.15814266387774653,0.018783279434303725,null,0.2597642645814167,0.15814266387774653,null,0.14395517566016303,0.018783279434303725,null,0.12439703019684481,0.14395517566016303,null,-0.2414563337670402,0.018783279434303725,null,-0.6075119512184195,-0.2414563337670402,null,-0.0875663314127028,0.018783279434303725,null,0.2985721363246202,-0.0875663314127028,null,0.43018181394826926,0.018783279434303725,null,0.6015775648178778,0.43018181394826926,null,-0.3390529807939524,0.018783279434303725,null,-0.72402474641411,-0.3390529807939524,null,-0.12712278547809192,0.018783279434303725,null,-0.374287112032901,-0.12712278547809192,null,-0.2383000544536657,0.018783279434303725,null,-0.4378750593771882,-0.2383000544536657,null,-0.414891660097699,0.018783279434303725,null,-0.7987594180962909,-0.414891660097699,null,0.3493533027776412,0.018783279434303725,null,0.5810338766116243,0.3493533027776412,null,-0.40603186021512283,0.018783279434303725,null,-0.7195447700587781,-0.40603186021512283,null,-0.34681281913665496,0.018783279434303725,null,-0.6451686333816911,-0.34681281913665496,null,-0.25280009713879775,0.018783279434303725,null,-0.6536637656312174,-0.25280009713879775,null,0.04069221518976855,0.018783279434303725,null,0.39732673329213214,0.04069221518976855,null,0.40221141801836646,0.018783279434303725,null,0.9098960157381766,0.40221141801836646,null,-0.34705652786716235,0.018783279434303725,null,-0.5951132956161297,-0.34705652786716235,null,0.0256363657803595,0.018783279434303725,null,0.3935378859685814,0.0256363657803595,null,0.3111669816368491,0.018783279434303725,null,0.56174707526652,0.3111669816368491,null,-0.11869988240786379,0.018783279434303725,null,-0.26335278578372656,-0.11869988240786379,null,0.29251105796450294,0.018783279434303725,null,0.6611475902947171,0.29251105796450294,null,-0.17752232455117042,0.018783279434303725,null,-0.591830383924889,-0.17752232455117042,null,0.4716033146057407,0.018783279434303725,null,0.890147470694779,0.4716033146057407,null,0.16563284295130248,0.018783279434303725,null,0.1711849293529465,0.16563284295130248,null,-0.206298165118259,0.018783279434303725,null,-0.36445885972978154,-0.206298165118259,null,0.13432767801560214,0.018783279434303725,null,0.41847277727387977,0.13432767801560214,null,-0.13336900259327614,0.018783279434303725,null,-0.2428838272847697,-0.13336900259327614,null,-0.018326957277405517,0.018783279434303725,null,0.10517361117741027,-0.018326957277405517,null,0.12719882692551712,0.018783279434303725,null,0.21711075115741277,0.12719882692551712,null,-0.18589162511203092,0.018783279434303725,null,-0.42742322761232715,-0.18589162511203092,null,-0.15233587075912802,0.018783279434303725,null,-0.4964170503961415,-0.15233587075912802,null,-0.2626001985116553,0.018783279434303725,null,-0.7480740547606195,-0.2626001985116553,null,0.2652391112003886,0.018783279434303725,null,0.625571189117936,0.2652391112003886,null,-0.08052535051093786,0.018783279434303725,null,-0.2680394261785106,-0.08052535051093786,null,0.35706939595017884,0.018783279434303725,null,0.4218672369905203,0.35706939595017884,null,0.09423906994643458,0.018783279434303725,null,0.0649410597794552,0.09423906994643458,null,-0.07087363936533692,0.018783279434303725,null,-0.13462149151206698,-0.07087363936533692,null,-0.4540187572718692,0.018783279434303725,null,-0.8771257341067508,-0.4540187572718692,null],\"type\":\"scatter\"},{\"hoverinfo\":\"text\",\"marker\":{\"color\":[],\"colorbar\":{\"thickness\":15,\"title\":{\"side\":\"right\",\"text\":\"Node Connections\"},\"xanchor\":\"left\"},\"colorscale\":[[0.0,\"rgb(255,255,217)\"],[0.125,\"rgb(237,248,177)\"],[0.25,\"rgb(199,233,180)\"],[0.375,\"rgb(127,205,187)\"],[0.5,\"rgb(65,182,196)\"],[0.625,\"rgb(29,145,192)\"],[0.75,\"rgb(34,94,168)\"],[0.875,\"rgb(37,52,148)\"],[1.0,\"rgb(8,29,88)\"]],\"line\":{\"width\":2},\"reversescale\":true,\"showscale\":true,\"size\":10},\"mode\":\"markers\",\"text\":[\"0\",\"Art Tray\",\"Coffee\",\"1\",\"Bakewell\",\"2\",\"Extra Salami or Feta\",\"3\",\"Granola\",\"4\",\"Keeping It Local\",\"5\",\"Salad\",\"6\",\"Tartine\",\"7\",\"Toast\",\"8\",\"Alfajores, Cookies\",\"9\",\"Alfajores, NONE\",\"10\",\"Brownie, Cookies\",\"11\",\"Brownie, NONE\",\"12\",\"Brownie, Sandwich\",\"13\",\"Cake, Hot chocolate\",\"14\",\"Cake, Medialuna\",\"15\",\"Cake, NONE\",\"16\",\"Cake, Salad\",\"17\",\"Cake, Sandwich\",\"18\",\"Cake, Scone\",\"19\",\"Cake, Smoothies\",\"20\",\"Cake, Tiffin\",\"21\",\"Cake, Toast\",\"22\",\"Cake, Vegan mincepie\",\"23\",\"Cookies, Hot chocolate\",\"24\",\"Cookies, Juice\",\"25\",\"Cookies, Medialuna\",\"26\",\"Cookies, NONE\",\"27\",\"Cookies, Pastry\",\"28\",\"Cookies, Scone\",\"29\",\"Extra Salami or Feta, NONE\",\"30\",\"Extra Salami or Feta, Salad\",\"31\",\"Hearty & Seasonal, Sandwich\",\"32\",\"Hot chocolate, Medialuna\",\"33\",\"Hot chocolate, NONE\",\"34\",\"Hot chocolate, Pastry\",\"35\",\"Hot chocolate, Scone\",\"36\",\"Jammie Dodgers, Juice\",\"37\",\"Juice, NONE\",\"38\",\"Juice, Pastry\",\"39\",\"Juice, Scone\",\"40\",\"Juice, Spanish Brunch\",\"41\",\"Juice, Toast\",\"42\",\"Keeping It Local, Tea\",\"43\",\"Medialuna, NONE\",\"44\",\"Medialuna, Sandwich\",\"45\",\"Medialuna, Toast\",\"46\",\"Muffin, NONE\",\"47\",\"Muffin, Sandwich\",\"48\",\"NONE, Pastry\",\"49\",\"NONE, Scone\",\"50\",\"NONE, Soup\",\"51\",\"NONE, Spanish Brunch\",\"52\",\"NONE, Tartine\",\"53\",\"NONE, Toast\",\"54\",\"Pastry, Toast\",\"55\",\"Salad, Sandwich\",\"56\",\"Sandwich, Soup\",\"57\",\"Sandwich, Spanish Brunch\",\"58\",\"Bread, Hot chocolate, Pastry\",\"59\",\"Cake, Sandwich, Tea\",\"60\",\"Hot chocolate, Medialuna, NONE\"],\"x\":[0.4933180079344172,-0.48208304722770084,0.7713456088919007,0.7243606284335512,0.5039474366668594,0.020710459296586797,-0.6795734374939357,-0.29995821064264416,-0.9581433733448699,-0.017379901416629387,-0.35633442291945683,0.26534456345043345,0.19176197038037965,-0.38033754168647915,-0.9178826481593109,-0.16498110759663154,-0.8877074617345135,-0.26457683707041363,-0.7787083812298479,-0.16049083338524894,-0.8666528718221922,0.4650822437176184,-0.14585390572997034,0.4014449271859766,-0.48272941962331184,0.26493879031961315,-0.3877792660289004,0.16956558336038846,-0.4634986918859597,0.5641952779717095,0.10644404189443601,0.7522465261332745,0.20252982741158607,0.18751418163460323,-0.018166566326988855,-0.11595770744506946,-0.7416660949813694,0.15001376000596192,-0.5374441189114394,0.3973143555304684,-0.5593386235059917,0.7079356576360616,0.45359507026031987,0.6912024846554898,-0.3225842578059706,-0.04978584836217534,-0.7947305443463781,0.09480117357446453,-0.08359836661152469,-0.06630147152463971,-0.7055352110202773,0.3843388847295802,-0.05046423296328885,0.05923550772030817,-0.517438315726983,0.4910316005504616,0.38533896659988576,0.8180593404237863,-0.3732913976575664,0.528683239215469,0.013155901832921627,-0.2793460062531016,-0.7702543550019866,0.9210704935216727,-0.0243557104436987,0.6287137712088053,-0.011544381825466968,0.7972033590889352,-0.06337431261261,0.4551338959336725,-0.3596278087044786,0.7007683166358523,-0.04397225427077345,0.6995130364817504,0.1942046527476219,0.09449423338370869,-0.3210274493769059,0.22792469412310623,-0.007651599931309023,0.8282149592162165,-0.14537281375715932,0.32366013457413667,-0.08191786125906163,0.21002079920390498,-0.4964675781350733,-0.14463593481591872,-0.8848824919407097,0.5254650225671567,-0.07124926967624554,0.47790062561621716,0.2325059359178413,0.7156551684588534,0.7967365837543058,0.9630047815579502,0.010104416727928285,0.3709095230065191,-0.5454570400746633,-0.19405836010224065,-0.5931232121626319,0.192678146955888,-0.6079880119106458,-0.408314676624774,-0.985095777733904,0.14367741631658065,-0.59280455516562,-0.1417521616465398,-0.8316370920221023,0.06516526725303484,-0.28547636990132885,0.4907392667078106,0.3277361091746361,0.7891814265699931,0.2665065216249764,1.0,-0.21075818410029984,0.45133738510502414,-0.6789103343939331,-0.267532448781464,-0.9591690097694197,-0.18185669025996384,-0.8156242318514405,0.5274819456399444,-0.05095180579924887],\"y\":[0.445471753107497,0.6772868045582474,0.018783279434303725,-0.14964047055244903,-0.014261065056215551,0.2352986271960505,0.5214940918549393,0.012472008550494046,-0.06601638202801305,-0.12443002385884301,-0.5823285381728445,0.15459473826117873,0.6567092793510196,0.07250383768243075,0.251969653996442,0.05326115260795564,0.12345270083147875,-0.05258786608726503,-0.2136306733431439,-0.010208477535956845,-0.030503971861821442,0.19793256265773657,0.5042625161657316,-0.055851996772743266,-0.17797436481279724,-0.28760323018031236,-0.5511331206365129,-0.2450817170379853,-0.47022949804661485,0.45726813482319384,0.8695170809980726,0.17952350811434603,0.2812133921648535,0.3560897208321985,0.8230774641552431,0.19371975811996245,0.4525562299715371,-0.01404760548145782,-0.013763191437044114,-0.33080639295022285,-0.5337586341835001,-0.45081009874413697,-0.9053500324602959,0.36688238489418673,0.46786098900727235,0.2482577448689144,0.3835131189566518,-0.06983923514658406,-0.49601756290475196,0.15814266387774653,0.2597642645814167,0.14395517566016303,0.12439703019684481,-0.2414563337670402,-0.6075119512184195,-0.0875663314127028,0.2985721363246202,0.43018181394826926,0.6015775648178778,-0.3390529807939524,-0.72402474641411,-0.12712278547809192,-0.374287112032901,-0.2383000544536657,-0.4378750593771882,-0.414891660097699,-0.7987594180962909,0.3493533027776412,0.5810338766116243,-0.40603186021512283,-0.7195447700587781,-0.34681281913665496,-0.6451686333816911,-0.25280009713879775,-0.6536637656312174,0.04069221518976855,0.39732673329213214,0.40221141801836646,0.9098960157381766,-0.34705652786716235,-0.5951132956161297,0.0256363657803595,0.3935378859685814,0.3111669816368491,0.56174707526652,-0.11869988240786379,-0.26335278578372656,0.29251105796450294,0.6611475902947171,-0.17752232455117042,-0.591830383924889,0.4716033146057407,0.890147470694779,0.16563284295130248,0.1711849293529465,-0.206298165118259,-0.36445885972978154,0.13432767801560214,0.41847277727387977,-0.13336900259327614,-0.2428838272847697,-0.018326957277405517,0.10517361117741027,0.12719882692551712,0.21711075115741277,-0.18589162511203092,-0.42742322761232715,-0.15233587075912802,-0.4964170503961415,-0.2626001985116553,-0.7480740547606195,0.2652391112003886,0.625571189117936,-0.08052535051093786,-0.2680394261785106,0.35706939595017884,0.4218672369905203,0.09423906994643458,0.0649410597794552,-0.07087363936533692,-0.13462149151206698,-0.4540187572718692,-0.8771257341067508],\"type\":\"scatter\"}],                        {\"annotations\":[{\"showarrow\":false,\"text\":\"Python code: \\u003ca href='https:\\u002f\\u002fplotly.com\\u002fipython-notebooks\\u002fnetwork-graphs\\u002f'\\u003e https:\\u002f\\u002fplotly.com\\u002fipython-notebooks\\u002fnetwork-graphs\\u002f\\u003c\\u002fa\\u003e\",\"x\":0.005,\"xref\":\"paper\",\"y\":-0.002,\"yref\":\"paper\"}],\"hovermode\":\"closest\",\"margin\":{\"b\":20,\"l\":5,\"r\":5,\"t\":40},\"showlegend\":false,\"title\":{\"font\":{\"size\":16},\"text\":\"\\u003cbr\\u003eNetwork graph made with Python\"},\"xaxis\":{\"showgrid\":false,\"showticklabels\":false,\"zeroline\":false},\"yaxis\":{\"showgrid\":false,\"showticklabels\":false,\"zeroline\":false},\"template\":{\"data\":{\"histogram2dcontour\":[{\"type\":\"histogram2dcontour\",\"colorbar\":{\"outlinewidth\":0,\"ticks\":\"\"},\"colorscale\":[[0.0,\"#0d0887\"],[0.1111111111111111,\"#46039f\"],[0.2222222222222222,\"#7201a8\"],[0.3333333333333333,\"#9c179e\"],[0.4444444444444444,\"#bd3786\"],[0.5555555555555556,\"#d8576b\"],[0.6666666666666666,\"#ed7953\"],[0.7777777777777778,\"#fb9f3a\"],[0.8888888888888888,\"#fdca26\"],[1.0,\"#f0f921\"]]}],\"choropleth\":[{\"type\":\"choropleth\",\"colorbar\":{\"outlinewidth\":0,\"ticks\":\"\"}}],\"histogram2d\":[{\"type\":\"histogram2d\",\"colorbar\":{\"outlinewidth\":0,\"ticks\":\"\"},\"colorscale\":[[0.0,\"#0d0887\"],[0.1111111111111111,\"#46039f\"],[0.2222222222222222,\"#7201a8\"],[0.3333333333333333,\"#9c179e\"],[0.4444444444444444,\"#bd3786\"],[0.5555555555555556,\"#d8576b\"],[0.6666666666666666,\"#ed7953\"],[0.7777777777777778,\"#fb9f3a\"],[0.8888888888888888,\"#fdca26\"],[1.0,\"#f0f921\"]]}],\"heatmap\":[{\"type\":\"heatmap\",\"colorbar\":{\"outlinewidth\":0,\"ticks\":\"\"},\"colorscale\":[[0.0,\"#0d0887\"],[0.1111111111111111,\"#46039f\"],[0.2222222222222222,\"#7201a8\"],[0.3333333333333333,\"#9c179e\"],[0.4444444444444444,\"#bd3786\"],[0.5555555555555556,\"#d8576b\"],[0.6666666666666666,\"#ed7953\"],[0.7777777777777778,\"#fb9f3a\"],[0.8888888888888888,\"#fdca26\"],[1.0,\"#f0f921\"]]}],\"heatmapgl\":[{\"type\":\"heatmapgl\",\"colorbar\":{\"outlinewidth\":0,\"ticks\":\"\"},\"colorscale\":[[0.0,\"#0d0887\"],[0.1111111111111111,\"#46039f\"],[0.2222222222222222,\"#7201a8\"],[0.3333333333333333,\"#9c179e\"],[0.4444444444444444,\"#bd3786\"],[0.5555555555555556,\"#d8576b\"],[0.6666666666666666,\"#ed7953\"],[0.7777777777777778,\"#fb9f3a\"],[0.8888888888888888,\"#fdca26\"],[1.0,\"#f0f921\"]]}],\"contourcarpet\":[{\"type\":\"contourcarpet\",\"colorbar\":{\"outlinewidth\":0,\"ticks\":\"\"}}],\"contour\":[{\"type\":\"contour\",\"colorbar\":{\"outlinewidth\":0,\"ticks\":\"\"},\"colorscale\":[[0.0,\"#0d0887\"],[0.1111111111111111,\"#46039f\"],[0.2222222222222222,\"#7201a8\"],[0.3333333333333333,\"#9c179e\"],[0.4444444444444444,\"#bd3786\"],[0.5555555555555556,\"#d8576b\"],[0.6666666666666666,\"#ed7953\"],[0.7777777777777778,\"#fb9f3a\"],[0.8888888888888888,\"#fdca26\"],[1.0,\"#f0f921\"]]}],\"surface\":[{\"type\":\"surface\",\"colorbar\":{\"outlinewidth\":0,\"ticks\":\"\"},\"colorscale\":[[0.0,\"#0d0887\"],[0.1111111111111111,\"#46039f\"],[0.2222222222222222,\"#7201a8\"],[0.3333333333333333,\"#9c179e\"],[0.4444444444444444,\"#bd3786\"],[0.5555555555555556,\"#d8576b\"],[0.6666666666666666,\"#ed7953\"],[0.7777777777777778,\"#fb9f3a\"],[0.8888888888888888,\"#fdca26\"],[1.0,\"#f0f921\"]]}],\"mesh3d\":[{\"type\":\"mesh3d\",\"colorbar\":{\"outlinewidth\":0,\"ticks\":\"\"}}],\"scatter\":[{\"fillpattern\":{\"fillmode\":\"overlay\",\"size\":10,\"solidity\":0.2},\"type\":\"scatter\"}],\"parcoords\":[{\"type\":\"parcoords\",\"line\":{\"colorbar\":{\"outlinewidth\":0,\"ticks\":\"\"}}}],\"scatterpolargl\":[{\"type\":\"scatterpolargl\",\"marker\":{\"colorbar\":{\"outlinewidth\":0,\"ticks\":\"\"}}}],\"bar\":[{\"error_x\":{\"color\":\"#2a3f5f\"},\"error_y\":{\"color\":\"#2a3f5f\"},\"marker\":{\"line\":{\"color\":\"#E5ECF6\",\"width\":0.5},\"pattern\":{\"fillmode\":\"overlay\",\"size\":10,\"solidity\":0.2}},\"type\":\"bar\"}],\"scattergeo\":[{\"type\":\"scattergeo\",\"marker\":{\"colorbar\":{\"outlinewidth\":0,\"ticks\":\"\"}}}],\"scatterpolar\":[{\"type\":\"scatterpolar\",\"marker\":{\"colorbar\":{\"outlinewidth\":0,\"ticks\":\"\"}}}],\"histogram\":[{\"marker\":{\"pattern\":{\"fillmode\":\"overlay\",\"size\":10,\"solidity\":0.2}},\"type\":\"histogram\"}],\"scattergl\":[{\"type\":\"scattergl\",\"marker\":{\"colorbar\":{\"outlinewidth\":0,\"ticks\":\"\"}}}],\"scatter3d\":[{\"type\":\"scatter3d\",\"line\":{\"colorbar\":{\"outlinewidth\":0,\"ticks\":\"\"}},\"marker\":{\"colorbar\":{\"outlinewidth\":0,\"ticks\":\"\"}}}],\"scattermapbox\":[{\"type\":\"scattermapbox\",\"marker\":{\"colorbar\":{\"outlinewidth\":0,\"ticks\":\"\"}}}],\"scatterternary\":[{\"type\":\"scatterternary\",\"marker\":{\"colorbar\":{\"outlinewidth\":0,\"ticks\":\"\"}}}],\"scattercarpet\":[{\"type\":\"scattercarpet\",\"marker\":{\"colorbar\":{\"outlinewidth\":0,\"ticks\":\"\"}}}],\"carpet\":[{\"aaxis\":{\"endlinecolor\":\"#2a3f5f\",\"gridcolor\":\"white\",\"linecolor\":\"white\",\"minorgridcolor\":\"white\",\"startlinecolor\":\"#2a3f5f\"},\"baxis\":{\"endlinecolor\":\"#2a3f5f\",\"gridcolor\":\"white\",\"linecolor\":\"white\",\"minorgridcolor\":\"white\",\"startlinecolor\":\"#2a3f5f\"},\"type\":\"carpet\"}],\"table\":[{\"cells\":{\"fill\":{\"color\":\"#EBF0F8\"},\"line\":{\"color\":\"white\"}},\"header\":{\"fill\":{\"color\":\"#C8D4E3\"},\"line\":{\"color\":\"white\"}},\"type\":\"table\"}],\"barpolar\":[{\"marker\":{\"line\":{\"color\":\"#E5ECF6\",\"width\":0.5},\"pattern\":{\"fillmode\":\"overlay\",\"size\":10,\"solidity\":0.2}},\"type\":\"barpolar\"}],\"pie\":[{\"automargin\":true,\"type\":\"pie\"}]},\"layout\":{\"autotypenumbers\":\"strict\",\"colorway\":[\"#636efa\",\"#EF553B\",\"#00cc96\",\"#ab63fa\",\"#FFA15A\",\"#19d3f3\",\"#FF6692\",\"#B6E880\",\"#FF97FF\",\"#FECB52\"],\"font\":{\"color\":\"#2a3f5f\"},\"hovermode\":\"closest\",\"hoverlabel\":{\"align\":\"left\"},\"paper_bgcolor\":\"white\",\"plot_bgcolor\":\"#E5ECF6\",\"polar\":{\"bgcolor\":\"#E5ECF6\",\"angularaxis\":{\"gridcolor\":\"white\",\"linecolor\":\"white\",\"ticks\":\"\"},\"radialaxis\":{\"gridcolor\":\"white\",\"linecolor\":\"white\",\"ticks\":\"\"}},\"ternary\":{\"bgcolor\":\"#E5ECF6\",\"aaxis\":{\"gridcolor\":\"white\",\"linecolor\":\"white\",\"ticks\":\"\"},\"baxis\":{\"gridcolor\":\"white\",\"linecolor\":\"white\",\"ticks\":\"\"},\"caxis\":{\"gridcolor\":\"white\",\"linecolor\":\"white\",\"ticks\":\"\"}},\"coloraxis\":{\"colorbar\":{\"outlinewidth\":0,\"ticks\":\"\"}},\"colorscale\":{\"sequential\":[[0.0,\"#0d0887\"],[0.1111111111111111,\"#46039f\"],[0.2222222222222222,\"#7201a8\"],[0.3333333333333333,\"#9c179e\"],[0.4444444444444444,\"#bd3786\"],[0.5555555555555556,\"#d8576b\"],[0.6666666666666666,\"#ed7953\"],[0.7777777777777778,\"#fb9f3a\"],[0.8888888888888888,\"#fdca26\"],[1.0,\"#f0f921\"]],\"sequentialminus\":[[0.0,\"#0d0887\"],[0.1111111111111111,\"#46039f\"],[0.2222222222222222,\"#7201a8\"],[0.3333333333333333,\"#9c179e\"],[0.4444444444444444,\"#bd3786\"],[0.5555555555555556,\"#d8576b\"],[0.6666666666666666,\"#ed7953\"],[0.7777777777777778,\"#fb9f3a\"],[0.8888888888888888,\"#fdca26\"],[1.0,\"#f0f921\"]],\"diverging\":[[0,\"#8e0152\"],[0.1,\"#c51b7d\"],[0.2,\"#de77ae\"],[0.3,\"#f1b6da\"],[0.4,\"#fde0ef\"],[0.5,\"#f7f7f7\"],[0.6,\"#e6f5d0\"],[0.7,\"#b8e186\"],[0.8,\"#7fbc41\"],[0.9,\"#4d9221\"],[1,\"#276419\"]]},\"xaxis\":{\"gridcolor\":\"white\",\"linecolor\":\"white\",\"ticks\":\"\",\"title\":{\"standoff\":15},\"zerolinecolor\":\"white\",\"automargin\":true,\"zerolinewidth\":2},\"yaxis\":{\"gridcolor\":\"white\",\"linecolor\":\"white\",\"ticks\":\"\",\"title\":{\"standoff\":15},\"zerolinecolor\":\"white\",\"automargin\":true,\"zerolinewidth\":2},\"scene\":{\"xaxis\":{\"backgroundcolor\":\"#E5ECF6\",\"gridcolor\":\"white\",\"linecolor\":\"white\",\"showbackground\":true,\"ticks\":\"\",\"zerolinecolor\":\"white\",\"gridwidth\":2},\"yaxis\":{\"backgroundcolor\":\"#E5ECF6\",\"gridcolor\":\"white\",\"linecolor\":\"white\",\"showbackground\":true,\"ticks\":\"\",\"zerolinecolor\":\"white\",\"gridwidth\":2},\"zaxis\":{\"backgroundcolor\":\"#E5ECF6\",\"gridcolor\":\"white\",\"linecolor\":\"white\",\"showbackground\":true,\"ticks\":\"\",\"zerolinecolor\":\"white\",\"gridwidth\":2}},\"shapedefaults\":{\"line\":{\"color\":\"#2a3f5f\"}},\"annotationdefaults\":{\"arrowcolor\":\"#2a3f5f\",\"arrowhead\":0,\"arrowwidth\":1},\"geo\":{\"bgcolor\":\"white\",\"landcolor\":\"#E5ECF6\",\"subunitcolor\":\"white\",\"showland\":true,\"showlakes\":true,\"lakecolor\":\"white\"},\"title\":{\"x\":0.05},\"mapbox\":{\"style\":\"light\"}}}},                        {\"responsive\": true}                    ).then(function(){\n",
       "                            \n",
       "var gd = document.getElementById('f79ea666-3206-4e0a-b964-fba0847573db');\n",
       "var x = new MutationObserver(function (mutations, observer) {{\n",
       "        var display = window.getComputedStyle(gd).display;\n",
       "        if (!display || display === 'none') {{\n",
       "            console.log([gd, 'removed!']);\n",
       "            Plotly.purge(gd);\n",
       "            observer.disconnect();\n",
       "        }}\n",
       "}});\n",
       "\n",
       "// Listen for the removal of the full notebook cells\n",
       "var notebookContainer = gd.closest('#notebook-container');\n",
       "if (notebookContainer) {{\n",
       "    x.observe(notebookContainer, {childList: true});\n",
       "}}\n",
       "\n",
       "// Listen for the clearing of the current output cell\n",
       "var outputEl = gd.closest('.output');\n",
       "if (outputEl) {{\n",
       "    x.observe(outputEl, {childList: true});\n",
       "}}\n",
       "\n",
       "                        })                };                });            </script>        </div>"
      ]
     },
     "metadata": {},
     "output_type": "display_data",
     "jetTransient": {
      "display_id": null
     }
    }
   ],
   "execution_count": 37
  },
  {
   "metadata": {
    "ExecuteTime": {
     "end_time": "2025-09-25T09:56:22.176633Z",
     "start_time": "2025-09-25T09:56:22.068084Z"
    }
   },
   "cell_type": "code",
   "source": [
    "itemsets, rules = efficient_apriori(transactions, min_support=min_sup, min_confidence=0.8)\n",
    "n_trans = len(transactions)\n",
    "output_efficient_apriori(rules)"
   ],
   "id": "f85577058ec85027",
   "outputs": [
    {
     "name": "stdout",
     "output_type": "stream",
     "text": [
      "0: ('Extra Salami or Feta',) -> ('Coffee',) Support = 0.003 Confidence = 0.816 Lift = 1.717\n",
      "1: ('Keeping It Local',) -> ('Coffee',) Support = 0.005 Confidence = 0.810 Lift = 1.704\n",
      "2: ('Cake', 'Vegan mincepie') -> ('Coffee',) Support = 0.001 Confidence = 0.833 Lift = 1.754\n",
      "3: ('Extra Salami or Feta', 'Salad') -> ('Coffee',) Support = 0.001 Confidence = 0.875 Lift = 1.842\n",
      "4: ('Hearty & Seasonal', 'Sandwich') -> ('Coffee',) Support = 0.001 Confidence = 0.857 Lift = 1.804\n",
      "5: ('NONE', 'Scone') -> ('Coffee',) Support = 0.002 Confidence = 0.833 Lift = 1.754\n",
      "6: ('NONE', 'Tartine') -> ('Coffee',) Support = 0.001 Confidence = 0.923 Lift = 1.943\n",
      "7: ('Pastry', 'Toast') -> ('Coffee',) Support = 0.001 Confidence = 0.867 Lift = 1.824\n",
      "8: ('Salad', 'Sandwich') -> ('Coffee',) Support = 0.002 Confidence = 0.833 Lift = 1.754\n",
      "9: ('Hot chocolate', 'Medialuna', 'NONE') -> ('Coffee',) Support = 0.001 Confidence = 0.909 Lift = 1.914\n"
     ]
    },
    {
     "data": {
      "application/vnd.plotly.v1+json": {
       "data": [
        {
         "marker": {
          "color": [
           1.7171575692765482,
           1.7039689550731953,
           1.7540856890459364,
           1.8417899734982335,
           1.8042024230186773,
           1.7540856890459364,
           1.942987224789345,
           1.824249116607774,
           1.7540856890459364,
           1.913548024413749
          ],
          "colorbar": {
           "title": {
            "text": "Lift"
           }
          },
          "colorscale": [
           [
            0.0,
            "rgb(243, 224, 247)"
           ],
           [
            0.16666666666666666,
            "rgb(228, 199, 241)"
           ],
           [
            0.3333333333333333,
            "rgb(209, 175, 232)"
           ],
           [
            0.5,
            "rgb(185, 152, 221)"
           ],
           [
            0.6666666666666666,
            "rgb(159, 130, 206)"
           ],
           [
            0.8333333333333334,
            "rgb(130, 109, 186)"
           ],
           [
            1.0,
            "rgb(99, 88, 159)"
           ]
          ]
         },
         "mode": "markers",
         "text": [
          "['Extra Salami or Feta'] => ['Coffee'], Lift: 1.7171575692765482",
          "['Keeping It Local'] => ['Coffee'], Lift: 1.7039689550731953",
          "['Cake, Vegan mincepie'] => ['Coffee'], Lift: 1.7540856890459364",
          "['Extra Salami or Feta, Salad'] => ['Coffee'], Lift: 1.8417899734982335",
          "['Hearty & Seasonal, Sandwich'] => ['Coffee'], Lift: 1.8042024230186773",
          "['NONE, Scone'] => ['Coffee'], Lift: 1.7540856890459364",
          "['NONE, Tartine'] => ['Coffee'], Lift: 1.942987224789345",
          "['Pastry, Toast'] => ['Coffee'], Lift: 1.824249116607774",
          "['Salad, Sandwich'] => ['Coffee'], Lift: 1.7540856890459364",
          "['Hot chocolate, Medialuna, NONE'] => ['Coffee'], Lift: 1.913548024413749"
         ],
         "x": [
          0.003252544329031581,
          0.0053509600251809885,
          0.0010492078480747037,
          0.0014688909873045851,
          0.0012590494176896443,
          0.0015738117721120553,
          0.0012590494176896443,
          0.0013639702024971147,
          0.0015738117721120553,
          0.0010492078480747037
         ],
         "y": [
          0.8157894736842105,
          0.8095238095238095,
          0.8333333333333334,
          0.875,
          0.8571428571428571,
          0.8333333333333334,
          0.9230769230769231,
          0.8666666666666667,
          0.8333333333333334,
          0.9090909090909091
         ],
         "type": "scatter"
        }
       ],
       "layout": {
        "template": {
         "data": {
          "histogram2dcontour": [
           {
            "type": "histogram2dcontour",
            "colorbar": {
             "outlinewidth": 0,
             "ticks": ""
            },
            "colorscale": [
             [
              0.0,
              "#0d0887"
             ],
             [
              0.1111111111111111,
              "#46039f"
             ],
             [
              0.2222222222222222,
              "#7201a8"
             ],
             [
              0.3333333333333333,
              "#9c179e"
             ],
             [
              0.4444444444444444,
              "#bd3786"
             ],
             [
              0.5555555555555556,
              "#d8576b"
             ],
             [
              0.6666666666666666,
              "#ed7953"
             ],
             [
              0.7777777777777778,
              "#fb9f3a"
             ],
             [
              0.8888888888888888,
              "#fdca26"
             ],
             [
              1.0,
              "#f0f921"
             ]
            ]
           }
          ],
          "choropleth": [
           {
            "type": "choropleth",
            "colorbar": {
             "outlinewidth": 0,
             "ticks": ""
            }
           }
          ],
          "histogram2d": [
           {
            "type": "histogram2d",
            "colorbar": {
             "outlinewidth": 0,
             "ticks": ""
            },
            "colorscale": [
             [
              0.0,
              "#0d0887"
             ],
             [
              0.1111111111111111,
              "#46039f"
             ],
             [
              0.2222222222222222,
              "#7201a8"
             ],
             [
              0.3333333333333333,
              "#9c179e"
             ],
             [
              0.4444444444444444,
              "#bd3786"
             ],
             [
              0.5555555555555556,
              "#d8576b"
             ],
             [
              0.6666666666666666,
              "#ed7953"
             ],
             [
              0.7777777777777778,
              "#fb9f3a"
             ],
             [
              0.8888888888888888,
              "#fdca26"
             ],
             [
              1.0,
              "#f0f921"
             ]
            ]
           }
          ],
          "heatmap": [
           {
            "type": "heatmap",
            "colorbar": {
             "outlinewidth": 0,
             "ticks": ""
            },
            "colorscale": [
             [
              0.0,
              "#0d0887"
             ],
             [
              0.1111111111111111,
              "#46039f"
             ],
             [
              0.2222222222222222,
              "#7201a8"
             ],
             [
              0.3333333333333333,
              "#9c179e"
             ],
             [
              0.4444444444444444,
              "#bd3786"
             ],
             [
              0.5555555555555556,
              "#d8576b"
             ],
             [
              0.6666666666666666,
              "#ed7953"
             ],
             [
              0.7777777777777778,
              "#fb9f3a"
             ],
             [
              0.8888888888888888,
              "#fdca26"
             ],
             [
              1.0,
              "#f0f921"
             ]
            ]
           }
          ],
          "heatmapgl": [
           {
            "type": "heatmapgl",
            "colorbar": {
             "outlinewidth": 0,
             "ticks": ""
            },
            "colorscale": [
             [
              0.0,
              "#0d0887"
             ],
             [
              0.1111111111111111,
              "#46039f"
             ],
             [
              0.2222222222222222,
              "#7201a8"
             ],
             [
              0.3333333333333333,
              "#9c179e"
             ],
             [
              0.4444444444444444,
              "#bd3786"
             ],
             [
              0.5555555555555556,
              "#d8576b"
             ],
             [
              0.6666666666666666,
              "#ed7953"
             ],
             [
              0.7777777777777778,
              "#fb9f3a"
             ],
             [
              0.8888888888888888,
              "#fdca26"
             ],
             [
              1.0,
              "#f0f921"
             ]
            ]
           }
          ],
          "contourcarpet": [
           {
            "type": "contourcarpet",
            "colorbar": {
             "outlinewidth": 0,
             "ticks": ""
            }
           }
          ],
          "contour": [
           {
            "type": "contour",
            "colorbar": {
             "outlinewidth": 0,
             "ticks": ""
            },
            "colorscale": [
             [
              0.0,
              "#0d0887"
             ],
             [
              0.1111111111111111,
              "#46039f"
             ],
             [
              0.2222222222222222,
              "#7201a8"
             ],
             [
              0.3333333333333333,
              "#9c179e"
             ],
             [
              0.4444444444444444,
              "#bd3786"
             ],
             [
              0.5555555555555556,
              "#d8576b"
             ],
             [
              0.6666666666666666,
              "#ed7953"
             ],
             [
              0.7777777777777778,
              "#fb9f3a"
             ],
             [
              0.8888888888888888,
              "#fdca26"
             ],
             [
              1.0,
              "#f0f921"
             ]
            ]
           }
          ],
          "surface": [
           {
            "type": "surface",
            "colorbar": {
             "outlinewidth": 0,
             "ticks": ""
            },
            "colorscale": [
             [
              0.0,
              "#0d0887"
             ],
             [
              0.1111111111111111,
              "#46039f"
             ],
             [
              0.2222222222222222,
              "#7201a8"
             ],
             [
              0.3333333333333333,
              "#9c179e"
             ],
             [
              0.4444444444444444,
              "#bd3786"
             ],
             [
              0.5555555555555556,
              "#d8576b"
             ],
             [
              0.6666666666666666,
              "#ed7953"
             ],
             [
              0.7777777777777778,
              "#fb9f3a"
             ],
             [
              0.8888888888888888,
              "#fdca26"
             ],
             [
              1.0,
              "#f0f921"
             ]
            ]
           }
          ],
          "mesh3d": [
           {
            "type": "mesh3d",
            "colorbar": {
             "outlinewidth": 0,
             "ticks": ""
            }
           }
          ],
          "scatter": [
           {
            "fillpattern": {
             "fillmode": "overlay",
             "size": 10,
             "solidity": 0.2
            },
            "type": "scatter"
           }
          ],
          "parcoords": [
           {
            "type": "parcoords",
            "line": {
             "colorbar": {
              "outlinewidth": 0,
              "ticks": ""
             }
            }
           }
          ],
          "scatterpolargl": [
           {
            "type": "scatterpolargl",
            "marker": {
             "colorbar": {
              "outlinewidth": 0,
              "ticks": ""
             }
            }
           }
          ],
          "bar": [
           {
            "error_x": {
             "color": "#2a3f5f"
            },
            "error_y": {
             "color": "#2a3f5f"
            },
            "marker": {
             "line": {
              "color": "#E5ECF6",
              "width": 0.5
             },
             "pattern": {
              "fillmode": "overlay",
              "size": 10,
              "solidity": 0.2
             }
            },
            "type": "bar"
           }
          ],
          "scattergeo": [
           {
            "type": "scattergeo",
            "marker": {
             "colorbar": {
              "outlinewidth": 0,
              "ticks": ""
             }
            }
           }
          ],
          "scatterpolar": [
           {
            "type": "scatterpolar",
            "marker": {
             "colorbar": {
              "outlinewidth": 0,
              "ticks": ""
             }
            }
           }
          ],
          "histogram": [
           {
            "marker": {
             "pattern": {
              "fillmode": "overlay",
              "size": 10,
              "solidity": 0.2
             }
            },
            "type": "histogram"
           }
          ],
          "scattergl": [
           {
            "type": "scattergl",
            "marker": {
             "colorbar": {
              "outlinewidth": 0,
              "ticks": ""
             }
            }
           }
          ],
          "scatter3d": [
           {
            "type": "scatter3d",
            "line": {
             "colorbar": {
              "outlinewidth": 0,
              "ticks": ""
             }
            },
            "marker": {
             "colorbar": {
              "outlinewidth": 0,
              "ticks": ""
             }
            }
           }
          ],
          "scattermapbox": [
           {
            "type": "scattermapbox",
            "marker": {
             "colorbar": {
              "outlinewidth": 0,
              "ticks": ""
             }
            }
           }
          ],
          "scatterternary": [
           {
            "type": "scatterternary",
            "marker": {
             "colorbar": {
              "outlinewidth": 0,
              "ticks": ""
             }
            }
           }
          ],
          "scattercarpet": [
           {
            "type": "scattercarpet",
            "marker": {
             "colorbar": {
              "outlinewidth": 0,
              "ticks": ""
             }
            }
           }
          ],
          "carpet": [
           {
            "aaxis": {
             "endlinecolor": "#2a3f5f",
             "gridcolor": "white",
             "linecolor": "white",
             "minorgridcolor": "white",
             "startlinecolor": "#2a3f5f"
            },
            "baxis": {
             "endlinecolor": "#2a3f5f",
             "gridcolor": "white",
             "linecolor": "white",
             "minorgridcolor": "white",
             "startlinecolor": "#2a3f5f"
            },
            "type": "carpet"
           }
          ],
          "table": [
           {
            "cells": {
             "fill": {
              "color": "#EBF0F8"
             },
             "line": {
              "color": "white"
             }
            },
            "header": {
             "fill": {
              "color": "#C8D4E3"
             },
             "line": {
              "color": "white"
             }
            },
            "type": "table"
           }
          ],
          "barpolar": [
           {
            "marker": {
             "line": {
              "color": "#E5ECF6",
              "width": 0.5
             },
             "pattern": {
              "fillmode": "overlay",
              "size": 10,
              "solidity": 0.2
             }
            },
            "type": "barpolar"
           }
          ],
          "pie": [
           {
            "automargin": true,
            "type": "pie"
           }
          ]
         },
         "layout": {
          "autotypenumbers": "strict",
          "colorway": [
           "#636efa",
           "#EF553B",
           "#00cc96",
           "#ab63fa",
           "#FFA15A",
           "#19d3f3",
           "#FF6692",
           "#B6E880",
           "#FF97FF",
           "#FECB52"
          ],
          "font": {
           "color": "#2a3f5f"
          },
          "hovermode": "closest",
          "hoverlabel": {
           "align": "left"
          },
          "paper_bgcolor": "white",
          "plot_bgcolor": "#E5ECF6",
          "polar": {
           "bgcolor": "#E5ECF6",
           "angularaxis": {
            "gridcolor": "white",
            "linecolor": "white",
            "ticks": ""
           },
           "radialaxis": {
            "gridcolor": "white",
            "linecolor": "white",
            "ticks": ""
           }
          },
          "ternary": {
           "bgcolor": "#E5ECF6",
           "aaxis": {
            "gridcolor": "white",
            "linecolor": "white",
            "ticks": ""
           },
           "baxis": {
            "gridcolor": "white",
            "linecolor": "white",
            "ticks": ""
           },
           "caxis": {
            "gridcolor": "white",
            "linecolor": "white",
            "ticks": ""
           }
          },
          "coloraxis": {
           "colorbar": {
            "outlinewidth": 0,
            "ticks": ""
           }
          },
          "colorscale": {
           "sequential": [
            [
             0.0,
             "#0d0887"
            ],
            [
             0.1111111111111111,
             "#46039f"
            ],
            [
             0.2222222222222222,
             "#7201a8"
            ],
            [
             0.3333333333333333,
             "#9c179e"
            ],
            [
             0.4444444444444444,
             "#bd3786"
            ],
            [
             0.5555555555555556,
             "#d8576b"
            ],
            [
             0.6666666666666666,
             "#ed7953"
            ],
            [
             0.7777777777777778,
             "#fb9f3a"
            ],
            [
             0.8888888888888888,
             "#fdca26"
            ],
            [
             1.0,
             "#f0f921"
            ]
           ],
           "sequentialminus": [
            [
             0.0,
             "#0d0887"
            ],
            [
             0.1111111111111111,
             "#46039f"
            ],
            [
             0.2222222222222222,
             "#7201a8"
            ],
            [
             0.3333333333333333,
             "#9c179e"
            ],
            [
             0.4444444444444444,
             "#bd3786"
            ],
            [
             0.5555555555555556,
             "#d8576b"
            ],
            [
             0.6666666666666666,
             "#ed7953"
            ],
            [
             0.7777777777777778,
             "#fb9f3a"
            ],
            [
             0.8888888888888888,
             "#fdca26"
            ],
            [
             1.0,
             "#f0f921"
            ]
           ],
           "diverging": [
            [
             0,
             "#8e0152"
            ],
            [
             0.1,
             "#c51b7d"
            ],
            [
             0.2,
             "#de77ae"
            ],
            [
             0.3,
             "#f1b6da"
            ],
            [
             0.4,
             "#fde0ef"
            ],
            [
             0.5,
             "#f7f7f7"
            ],
            [
             0.6,
             "#e6f5d0"
            ],
            [
             0.7,
             "#b8e186"
            ],
            [
             0.8,
             "#7fbc41"
            ],
            [
             0.9,
             "#4d9221"
            ],
            [
             1,
             "#276419"
            ]
           ]
          },
          "xaxis": {
           "gridcolor": "white",
           "linecolor": "white",
           "ticks": "",
           "title": {
            "standoff": 15
           },
           "zerolinecolor": "white",
           "automargin": true,
           "zerolinewidth": 2
          },
          "yaxis": {
           "gridcolor": "white",
           "linecolor": "white",
           "ticks": "",
           "title": {
            "standoff": 15
           },
           "zerolinecolor": "white",
           "automargin": true,
           "zerolinewidth": 2
          },
          "scene": {
           "xaxis": {
            "backgroundcolor": "#E5ECF6",
            "gridcolor": "white",
            "linecolor": "white",
            "showbackground": true,
            "ticks": "",
            "zerolinecolor": "white",
            "gridwidth": 2
           },
           "yaxis": {
            "backgroundcolor": "#E5ECF6",
            "gridcolor": "white",
            "linecolor": "white",
            "showbackground": true,
            "ticks": "",
            "zerolinecolor": "white",
            "gridwidth": 2
           },
           "zaxis": {
            "backgroundcolor": "#E5ECF6",
            "gridcolor": "white",
            "linecolor": "white",
            "showbackground": true,
            "ticks": "",
            "zerolinecolor": "white",
            "gridwidth": 2
           }
          },
          "shapedefaults": {
           "line": {
            "color": "#2a3f5f"
           }
          },
          "annotationdefaults": {
           "arrowcolor": "#2a3f5f",
           "arrowhead": 0,
           "arrowwidth": 1
          },
          "geo": {
           "bgcolor": "white",
           "landcolor": "#E5ECF6",
           "subunitcolor": "white",
           "showland": true,
           "showlakes": true,
           "lakecolor": "white"
          },
          "title": {
           "x": 0.05
          },
          "mapbox": {
           "style": "light"
          }
         }
        },
        "xaxis": {
         "title": {
          "text": "Support"
         },
         "autorange": "reversed"
        },
        "title": {
         "text": "Association Rules Strength Distribution"
        },
        "yaxis": {
         "title": {
          "text": "Confidence"
         }
        }
       },
       "config": {
        "plotlyServerURL": "https://plot.ly"
       }
      },
      "text/html": [
       "<div>                            <div id=\"db506db1-e2bc-4dee-8f39-00c3d45e57f1\" class=\"plotly-graph-div\" style=\"height:525px; width:100%;\"></div>            <script type=\"text/javascript\">                require([\"plotly\"], function(Plotly) {                    window.PLOTLYENV=window.PLOTLYENV || {};                                    if (document.getElementById(\"db506db1-e2bc-4dee-8f39-00c3d45e57f1\")) {                    Plotly.newPlot(                        \"db506db1-e2bc-4dee-8f39-00c3d45e57f1\",                        [{\"marker\":{\"color\":[1.7171575692765482,1.7039689550731953,1.7540856890459364,1.8417899734982335,1.8042024230186773,1.7540856890459364,1.942987224789345,1.824249116607774,1.7540856890459364,1.913548024413749],\"colorbar\":{\"title\":{\"text\":\"Lift\"}},\"colorscale\":[[0.0,\"rgb(243, 224, 247)\"],[0.16666666666666666,\"rgb(228, 199, 241)\"],[0.3333333333333333,\"rgb(209, 175, 232)\"],[0.5,\"rgb(185, 152, 221)\"],[0.6666666666666666,\"rgb(159, 130, 206)\"],[0.8333333333333334,\"rgb(130, 109, 186)\"],[1.0,\"rgb(99, 88, 159)\"]]},\"mode\":\"markers\",\"text\":[\"['Extra Salami or Feta'] =\\u003e ['Coffee'], Lift: 1.7171575692765482\",\"['Keeping It Local'] =\\u003e ['Coffee'], Lift: 1.7039689550731953\",\"['Cake, Vegan mincepie'] =\\u003e ['Coffee'], Lift: 1.7540856890459364\",\"['Extra Salami or Feta, Salad'] =\\u003e ['Coffee'], Lift: 1.8417899734982335\",\"['Hearty & Seasonal, Sandwich'] =\\u003e ['Coffee'], Lift: 1.8042024230186773\",\"['NONE, Scone'] =\\u003e ['Coffee'], Lift: 1.7540856890459364\",\"['NONE, Tartine'] =\\u003e ['Coffee'], Lift: 1.942987224789345\",\"['Pastry, Toast'] =\\u003e ['Coffee'], Lift: 1.824249116607774\",\"['Salad, Sandwich'] =\\u003e ['Coffee'], Lift: 1.7540856890459364\",\"['Hot chocolate, Medialuna, NONE'] =\\u003e ['Coffee'], Lift: 1.913548024413749\"],\"x\":[0.003252544329031581,0.0053509600251809885,0.0010492078480747037,0.0014688909873045851,0.0012590494176896443,0.0015738117721120553,0.0012590494176896443,0.0013639702024971147,0.0015738117721120553,0.0010492078480747037],\"y\":[0.8157894736842105,0.8095238095238095,0.8333333333333334,0.875,0.8571428571428571,0.8333333333333334,0.9230769230769231,0.8666666666666667,0.8333333333333334,0.9090909090909091],\"type\":\"scatter\"}],                        {\"template\":{\"data\":{\"histogram2dcontour\":[{\"type\":\"histogram2dcontour\",\"colorbar\":{\"outlinewidth\":0,\"ticks\":\"\"},\"colorscale\":[[0.0,\"#0d0887\"],[0.1111111111111111,\"#46039f\"],[0.2222222222222222,\"#7201a8\"],[0.3333333333333333,\"#9c179e\"],[0.4444444444444444,\"#bd3786\"],[0.5555555555555556,\"#d8576b\"],[0.6666666666666666,\"#ed7953\"],[0.7777777777777778,\"#fb9f3a\"],[0.8888888888888888,\"#fdca26\"],[1.0,\"#f0f921\"]]}],\"choropleth\":[{\"type\":\"choropleth\",\"colorbar\":{\"outlinewidth\":0,\"ticks\":\"\"}}],\"histogram2d\":[{\"type\":\"histogram2d\",\"colorbar\":{\"outlinewidth\":0,\"ticks\":\"\"},\"colorscale\":[[0.0,\"#0d0887\"],[0.1111111111111111,\"#46039f\"],[0.2222222222222222,\"#7201a8\"],[0.3333333333333333,\"#9c179e\"],[0.4444444444444444,\"#bd3786\"],[0.5555555555555556,\"#d8576b\"],[0.6666666666666666,\"#ed7953\"],[0.7777777777777778,\"#fb9f3a\"],[0.8888888888888888,\"#fdca26\"],[1.0,\"#f0f921\"]]}],\"heatmap\":[{\"type\":\"heatmap\",\"colorbar\":{\"outlinewidth\":0,\"ticks\":\"\"},\"colorscale\":[[0.0,\"#0d0887\"],[0.1111111111111111,\"#46039f\"],[0.2222222222222222,\"#7201a8\"],[0.3333333333333333,\"#9c179e\"],[0.4444444444444444,\"#bd3786\"],[0.5555555555555556,\"#d8576b\"],[0.6666666666666666,\"#ed7953\"],[0.7777777777777778,\"#fb9f3a\"],[0.8888888888888888,\"#fdca26\"],[1.0,\"#f0f921\"]]}],\"heatmapgl\":[{\"type\":\"heatmapgl\",\"colorbar\":{\"outlinewidth\":0,\"ticks\":\"\"},\"colorscale\":[[0.0,\"#0d0887\"],[0.1111111111111111,\"#46039f\"],[0.2222222222222222,\"#7201a8\"],[0.3333333333333333,\"#9c179e\"],[0.4444444444444444,\"#bd3786\"],[0.5555555555555556,\"#d8576b\"],[0.6666666666666666,\"#ed7953\"],[0.7777777777777778,\"#fb9f3a\"],[0.8888888888888888,\"#fdca26\"],[1.0,\"#f0f921\"]]}],\"contourcarpet\":[{\"type\":\"contourcarpet\",\"colorbar\":{\"outlinewidth\":0,\"ticks\":\"\"}}],\"contour\":[{\"type\":\"contour\",\"colorbar\":{\"outlinewidth\":0,\"ticks\":\"\"},\"colorscale\":[[0.0,\"#0d0887\"],[0.1111111111111111,\"#46039f\"],[0.2222222222222222,\"#7201a8\"],[0.3333333333333333,\"#9c179e\"],[0.4444444444444444,\"#bd3786\"],[0.5555555555555556,\"#d8576b\"],[0.6666666666666666,\"#ed7953\"],[0.7777777777777778,\"#fb9f3a\"],[0.8888888888888888,\"#fdca26\"],[1.0,\"#f0f921\"]]}],\"surface\":[{\"type\":\"surface\",\"colorbar\":{\"outlinewidth\":0,\"ticks\":\"\"},\"colorscale\":[[0.0,\"#0d0887\"],[0.1111111111111111,\"#46039f\"],[0.2222222222222222,\"#7201a8\"],[0.3333333333333333,\"#9c179e\"],[0.4444444444444444,\"#bd3786\"],[0.5555555555555556,\"#d8576b\"],[0.6666666666666666,\"#ed7953\"],[0.7777777777777778,\"#fb9f3a\"],[0.8888888888888888,\"#fdca26\"],[1.0,\"#f0f921\"]]}],\"mesh3d\":[{\"type\":\"mesh3d\",\"colorbar\":{\"outlinewidth\":0,\"ticks\":\"\"}}],\"scatter\":[{\"fillpattern\":{\"fillmode\":\"overlay\",\"size\":10,\"solidity\":0.2},\"type\":\"scatter\"}],\"parcoords\":[{\"type\":\"parcoords\",\"line\":{\"colorbar\":{\"outlinewidth\":0,\"ticks\":\"\"}}}],\"scatterpolargl\":[{\"type\":\"scatterpolargl\",\"marker\":{\"colorbar\":{\"outlinewidth\":0,\"ticks\":\"\"}}}],\"bar\":[{\"error_x\":{\"color\":\"#2a3f5f\"},\"error_y\":{\"color\":\"#2a3f5f\"},\"marker\":{\"line\":{\"color\":\"#E5ECF6\",\"width\":0.5},\"pattern\":{\"fillmode\":\"overlay\",\"size\":10,\"solidity\":0.2}},\"type\":\"bar\"}],\"scattergeo\":[{\"type\":\"scattergeo\",\"marker\":{\"colorbar\":{\"outlinewidth\":0,\"ticks\":\"\"}}}],\"scatterpolar\":[{\"type\":\"scatterpolar\",\"marker\":{\"colorbar\":{\"outlinewidth\":0,\"ticks\":\"\"}}}],\"histogram\":[{\"marker\":{\"pattern\":{\"fillmode\":\"overlay\",\"size\":10,\"solidity\":0.2}},\"type\":\"histogram\"}],\"scattergl\":[{\"type\":\"scattergl\",\"marker\":{\"colorbar\":{\"outlinewidth\":0,\"ticks\":\"\"}}}],\"scatter3d\":[{\"type\":\"scatter3d\",\"line\":{\"colorbar\":{\"outlinewidth\":0,\"ticks\":\"\"}},\"marker\":{\"colorbar\":{\"outlinewidth\":0,\"ticks\":\"\"}}}],\"scattermapbox\":[{\"type\":\"scattermapbox\",\"marker\":{\"colorbar\":{\"outlinewidth\":0,\"ticks\":\"\"}}}],\"scatterternary\":[{\"type\":\"scatterternary\",\"marker\":{\"colorbar\":{\"outlinewidth\":0,\"ticks\":\"\"}}}],\"scattercarpet\":[{\"type\":\"scattercarpet\",\"marker\":{\"colorbar\":{\"outlinewidth\":0,\"ticks\":\"\"}}}],\"carpet\":[{\"aaxis\":{\"endlinecolor\":\"#2a3f5f\",\"gridcolor\":\"white\",\"linecolor\":\"white\",\"minorgridcolor\":\"white\",\"startlinecolor\":\"#2a3f5f\"},\"baxis\":{\"endlinecolor\":\"#2a3f5f\",\"gridcolor\":\"white\",\"linecolor\":\"white\",\"minorgridcolor\":\"white\",\"startlinecolor\":\"#2a3f5f\"},\"type\":\"carpet\"}],\"table\":[{\"cells\":{\"fill\":{\"color\":\"#EBF0F8\"},\"line\":{\"color\":\"white\"}},\"header\":{\"fill\":{\"color\":\"#C8D4E3\"},\"line\":{\"color\":\"white\"}},\"type\":\"table\"}],\"barpolar\":[{\"marker\":{\"line\":{\"color\":\"#E5ECF6\",\"width\":0.5},\"pattern\":{\"fillmode\":\"overlay\",\"size\":10,\"solidity\":0.2}},\"type\":\"barpolar\"}],\"pie\":[{\"automargin\":true,\"type\":\"pie\"}]},\"layout\":{\"autotypenumbers\":\"strict\",\"colorway\":[\"#636efa\",\"#EF553B\",\"#00cc96\",\"#ab63fa\",\"#FFA15A\",\"#19d3f3\",\"#FF6692\",\"#B6E880\",\"#FF97FF\",\"#FECB52\"],\"font\":{\"color\":\"#2a3f5f\"},\"hovermode\":\"closest\",\"hoverlabel\":{\"align\":\"left\"},\"paper_bgcolor\":\"white\",\"plot_bgcolor\":\"#E5ECF6\",\"polar\":{\"bgcolor\":\"#E5ECF6\",\"angularaxis\":{\"gridcolor\":\"white\",\"linecolor\":\"white\",\"ticks\":\"\"},\"radialaxis\":{\"gridcolor\":\"white\",\"linecolor\":\"white\",\"ticks\":\"\"}},\"ternary\":{\"bgcolor\":\"#E5ECF6\",\"aaxis\":{\"gridcolor\":\"white\",\"linecolor\":\"white\",\"ticks\":\"\"},\"baxis\":{\"gridcolor\":\"white\",\"linecolor\":\"white\",\"ticks\":\"\"},\"caxis\":{\"gridcolor\":\"white\",\"linecolor\":\"white\",\"ticks\":\"\"}},\"coloraxis\":{\"colorbar\":{\"outlinewidth\":0,\"ticks\":\"\"}},\"colorscale\":{\"sequential\":[[0.0,\"#0d0887\"],[0.1111111111111111,\"#46039f\"],[0.2222222222222222,\"#7201a8\"],[0.3333333333333333,\"#9c179e\"],[0.4444444444444444,\"#bd3786\"],[0.5555555555555556,\"#d8576b\"],[0.6666666666666666,\"#ed7953\"],[0.7777777777777778,\"#fb9f3a\"],[0.8888888888888888,\"#fdca26\"],[1.0,\"#f0f921\"]],\"sequentialminus\":[[0.0,\"#0d0887\"],[0.1111111111111111,\"#46039f\"],[0.2222222222222222,\"#7201a8\"],[0.3333333333333333,\"#9c179e\"],[0.4444444444444444,\"#bd3786\"],[0.5555555555555556,\"#d8576b\"],[0.6666666666666666,\"#ed7953\"],[0.7777777777777778,\"#fb9f3a\"],[0.8888888888888888,\"#fdca26\"],[1.0,\"#f0f921\"]],\"diverging\":[[0,\"#8e0152\"],[0.1,\"#c51b7d\"],[0.2,\"#de77ae\"],[0.3,\"#f1b6da\"],[0.4,\"#fde0ef\"],[0.5,\"#f7f7f7\"],[0.6,\"#e6f5d0\"],[0.7,\"#b8e186\"],[0.8,\"#7fbc41\"],[0.9,\"#4d9221\"],[1,\"#276419\"]]},\"xaxis\":{\"gridcolor\":\"white\",\"linecolor\":\"white\",\"ticks\":\"\",\"title\":{\"standoff\":15},\"zerolinecolor\":\"white\",\"automargin\":true,\"zerolinewidth\":2},\"yaxis\":{\"gridcolor\":\"white\",\"linecolor\":\"white\",\"ticks\":\"\",\"title\":{\"standoff\":15},\"zerolinecolor\":\"white\",\"automargin\":true,\"zerolinewidth\":2},\"scene\":{\"xaxis\":{\"backgroundcolor\":\"#E5ECF6\",\"gridcolor\":\"white\",\"linecolor\":\"white\",\"showbackground\":true,\"ticks\":\"\",\"zerolinecolor\":\"white\",\"gridwidth\":2},\"yaxis\":{\"backgroundcolor\":\"#E5ECF6\",\"gridcolor\":\"white\",\"linecolor\":\"white\",\"showbackground\":true,\"ticks\":\"\",\"zerolinecolor\":\"white\",\"gridwidth\":2},\"zaxis\":{\"backgroundcolor\":\"#E5ECF6\",\"gridcolor\":\"white\",\"linecolor\":\"white\",\"showbackground\":true,\"ticks\":\"\",\"zerolinecolor\":\"white\",\"gridwidth\":2}},\"shapedefaults\":{\"line\":{\"color\":\"#2a3f5f\"}},\"annotationdefaults\":{\"arrowcolor\":\"#2a3f5f\",\"arrowhead\":0,\"arrowwidth\":1},\"geo\":{\"bgcolor\":\"white\",\"landcolor\":\"#E5ECF6\",\"subunitcolor\":\"white\",\"showland\":true,\"showlakes\":true,\"lakecolor\":\"white\"},\"title\":{\"x\":0.05},\"mapbox\":{\"style\":\"light\"}}},\"xaxis\":{\"title\":{\"text\":\"Support\"},\"autorange\":\"reversed\"},\"title\":{\"text\":\"Association Rules Strength Distribution\"},\"yaxis\":{\"title\":{\"text\":\"Confidence\"}}},                        {\"responsive\": true}                    ).then(function(){\n",
       "                            \n",
       "var gd = document.getElementById('db506db1-e2bc-4dee-8f39-00c3d45e57f1');\n",
       "var x = new MutationObserver(function (mutations, observer) {{\n",
       "        var display = window.getComputedStyle(gd).display;\n",
       "        if (!display || display === 'none') {{\n",
       "            console.log([gd, 'removed!']);\n",
       "            Plotly.purge(gd);\n",
       "            observer.disconnect();\n",
       "        }}\n",
       "}});\n",
       "\n",
       "// Listen for the removal of the full notebook cells\n",
       "var notebookContainer = gd.closest('#notebook-container');\n",
       "if (notebookContainer) {{\n",
       "    x.observe(notebookContainer, {childList: true});\n",
       "}}\n",
       "\n",
       "// Listen for the clearing of the current output cell\n",
       "var outputEl = gd.closest('.output');\n",
       "if (outputEl) {{\n",
       "    x.observe(outputEl, {childList: true});\n",
       "}}\n",
       "\n",
       "                        })                };                });            </script>        </div>"
      ]
     },
     "metadata": {},
     "output_type": "display_data",
     "jetTransient": {
      "display_id": null
     }
    },
    {
     "data": {
      "application/vnd.plotly.v1+json": {
       "data": [
        {
         "hoverinfo": "none",
         "line": {
          "color": "#888",
          "width": 0.5
         },
         "mode": "lines",
         "x": [
          0.09261859277766658,
          -0.3408839159905991,
          null,
          0.5351692670580227,
          0.09261859277766658,
          null,
          -0.4877703098176673,
          -0.3408839159905991,
          null,
          -0.1389396622411306,
          -0.4877703098176673,
          null,
          -0.1788411324441927,
          -0.3408839159905991,
          null,
          0.16363976709954978,
          -0.1788411324441927,
          null,
          -0.15938326849155526,
          -0.3408839159905991,
          null,
          -0.1817890969991375,
          -0.15938326849155526,
          null,
          0.290846335264516,
          -0.3408839159905991,
          null,
          0.907967494109204,
          0.290846335264516,
          null,
          0.22858879742276383,
          -0.3408839159905991,
          null,
          0.6601056574971382,
          0.22858879742276383,
          null,
          -0.6231902512647396,
          -0.3408839159905991,
          null,
          -0.9999999999999999,
          -0.6231902512647396,
          null,
          -0.13414122696796302,
          -0.3408839159905991,
          null,
          0.4971282877000749,
          -0.13414122696796302,
          null,
          0.10395532717821393,
          -0.3408839159905991,
          null,
          0.48294556967245345,
          0.10395532717821393,
          null,
          -0.620594902308547,
          -0.3408839159905991,
          null,
          -0.09743132925407007,
          -0.620594902308547,
          null
         ],
         "y": [
          0.1250004665706871,
          -0.2865917879528583,
          null,
          0.5604287309563573,
          0.1250004665706871,
          null,
          0.076486253056275,
          -0.2865917879528583,
          null,
          0.1885444869799342,
          0.076486253056275,
          null,
          0.25947298470360985,
          -0.2865917879528583,
          null,
          0.7685899442046807,
          0.25947298470360985,
          null,
          0.35062199017486195,
          -0.2865917879528583,
          null,
          0.829939223955312,
          0.35062199017486195,
          null,
          -0.08762618151946093,
          -0.2865917879528583,
          null,
          0.17019865367466352,
          -0.08762618151946093,
          null,
          0.06345387130803523,
          -0.2865917879528583,
          null,
          0.2791035351296986,
          0.06345387130803523,
          null,
          -0.18274605973461408,
          -0.2865917879528583,
          null,
          -0.08244422371030617,
          -0.18274605973461408,
          null,
          -0.6208353507264652,
          -0.2865917879528583,
          null,
          -0.44482625194169845,
          -0.6208353507264652,
          null,
          -0.35599641674065274,
          -0.2865917879528583,
          null,
          -0.6498477114331451,
          -0.35599641674065274,
          null,
          -0.6138177147059666,
          -0.2865917879528583,
          null,
          -0.3471084422489437,
          -0.6138177147059666,
          null
         ],
         "type": "scatter"
        },
        {
         "hoverinfo": "text",
         "marker": {
          "color": [],
          "colorbar": {
           "thickness": 15,
           "title": {
            "side": "right",
            "text": "Node Connections"
           },
           "xanchor": "left"
          },
          "colorscale": [
           [
            0.0,
            "rgb(255,255,217)"
           ],
           [
            0.125,
            "rgb(237,248,177)"
           ],
           [
            0.25,
            "rgb(199,233,180)"
           ],
           [
            0.375,
            "rgb(127,205,187)"
           ],
           [
            0.5,
            "rgb(65,182,196)"
           ],
           [
            0.625,
            "rgb(29,145,192)"
           ],
           [
            0.75,
            "rgb(34,94,168)"
           ],
           [
            0.875,
            "rgb(37,52,148)"
           ],
           [
            1.0,
            "rgb(8,29,88)"
           ]
          ],
          "line": {
           "width": 2
          },
          "reversescale": true,
          "showscale": true,
          "size": 10
         },
         "mode": "markers",
         "text": [
          "0",
          "Extra Salami or Feta",
          "Coffee",
          "1",
          "Keeping It Local",
          "2",
          "Cake, Vegan mincepie",
          "3",
          "Extra Salami or Feta, Salad",
          "4",
          "Hearty & Seasonal, Sandwich",
          "5",
          "NONE, Scone",
          "6",
          "NONE, Tartine",
          "7",
          "Pastry, Toast",
          "8",
          "Salad, Sandwich",
          "9",
          "Hot chocolate, Medialuna, NONE"
         ],
         "x": [
          0.09261859277766658,
          0.5351692670580227,
          -0.3408839159905991,
          -0.4877703098176673,
          -0.1389396622411306,
          -0.1788411324441927,
          0.16363976709954978,
          -0.15938326849155526,
          -0.1817890969991375,
          0.290846335264516,
          0.907967494109204,
          0.22858879742276383,
          0.6601056574971382,
          -0.6231902512647396,
          -0.9999999999999999,
          -0.13414122696796302,
          0.4971282877000749,
          0.10395532717821393,
          0.48294556967245345,
          -0.620594902308547,
          -0.09743132925407007
         ],
         "y": [
          0.1250004665706871,
          0.5604287309563573,
          -0.2865917879528583,
          0.076486253056275,
          0.1885444869799342,
          0.25947298470360985,
          0.7685899442046807,
          0.35062199017486195,
          0.829939223955312,
          -0.08762618151946093,
          0.17019865367466352,
          0.06345387130803523,
          0.2791035351296986,
          -0.18274605973461408,
          -0.08244422371030617,
          -0.6208353507264652,
          -0.44482625194169845,
          -0.35599641674065274,
          -0.6498477114331451,
          -0.6138177147059666,
          -0.3471084422489437
         ],
         "type": "scatter"
        }
       ],
       "layout": {
        "annotations": [
         {
          "showarrow": false,
          "text": "Python code: <a href='https://plotly.com/ipython-notebooks/network-graphs/'> https://plotly.com/ipython-notebooks/network-graphs/</a>",
          "x": 0.005,
          "xref": "paper",
          "y": -0.002,
          "yref": "paper"
         }
        ],
        "hovermode": "closest",
        "margin": {
         "b": 20,
         "l": 5,
         "r": 5,
         "t": 40
        },
        "showlegend": false,
        "title": {
         "font": {
          "size": 16
         },
         "text": "<br>Network graph made with Python"
        },
        "xaxis": {
         "showgrid": false,
         "showticklabels": false,
         "zeroline": false
        },
        "yaxis": {
         "showgrid": false,
         "showticklabels": false,
         "zeroline": false
        },
        "template": {
         "data": {
          "histogram2dcontour": [
           {
            "type": "histogram2dcontour",
            "colorbar": {
             "outlinewidth": 0,
             "ticks": ""
            },
            "colorscale": [
             [
              0.0,
              "#0d0887"
             ],
             [
              0.1111111111111111,
              "#46039f"
             ],
             [
              0.2222222222222222,
              "#7201a8"
             ],
             [
              0.3333333333333333,
              "#9c179e"
             ],
             [
              0.4444444444444444,
              "#bd3786"
             ],
             [
              0.5555555555555556,
              "#d8576b"
             ],
             [
              0.6666666666666666,
              "#ed7953"
             ],
             [
              0.7777777777777778,
              "#fb9f3a"
             ],
             [
              0.8888888888888888,
              "#fdca26"
             ],
             [
              1.0,
              "#f0f921"
             ]
            ]
           }
          ],
          "choropleth": [
           {
            "type": "choropleth",
            "colorbar": {
             "outlinewidth": 0,
             "ticks": ""
            }
           }
          ],
          "histogram2d": [
           {
            "type": "histogram2d",
            "colorbar": {
             "outlinewidth": 0,
             "ticks": ""
            },
            "colorscale": [
             [
              0.0,
              "#0d0887"
             ],
             [
              0.1111111111111111,
              "#46039f"
             ],
             [
              0.2222222222222222,
              "#7201a8"
             ],
             [
              0.3333333333333333,
              "#9c179e"
             ],
             [
              0.4444444444444444,
              "#bd3786"
             ],
             [
              0.5555555555555556,
              "#d8576b"
             ],
             [
              0.6666666666666666,
              "#ed7953"
             ],
             [
              0.7777777777777778,
              "#fb9f3a"
             ],
             [
              0.8888888888888888,
              "#fdca26"
             ],
             [
              1.0,
              "#f0f921"
             ]
            ]
           }
          ],
          "heatmap": [
           {
            "type": "heatmap",
            "colorbar": {
             "outlinewidth": 0,
             "ticks": ""
            },
            "colorscale": [
             [
              0.0,
              "#0d0887"
             ],
             [
              0.1111111111111111,
              "#46039f"
             ],
             [
              0.2222222222222222,
              "#7201a8"
             ],
             [
              0.3333333333333333,
              "#9c179e"
             ],
             [
              0.4444444444444444,
              "#bd3786"
             ],
             [
              0.5555555555555556,
              "#d8576b"
             ],
             [
              0.6666666666666666,
              "#ed7953"
             ],
             [
              0.7777777777777778,
              "#fb9f3a"
             ],
             [
              0.8888888888888888,
              "#fdca26"
             ],
             [
              1.0,
              "#f0f921"
             ]
            ]
           }
          ],
          "heatmapgl": [
           {
            "type": "heatmapgl",
            "colorbar": {
             "outlinewidth": 0,
             "ticks": ""
            },
            "colorscale": [
             [
              0.0,
              "#0d0887"
             ],
             [
              0.1111111111111111,
              "#46039f"
             ],
             [
              0.2222222222222222,
              "#7201a8"
             ],
             [
              0.3333333333333333,
              "#9c179e"
             ],
             [
              0.4444444444444444,
              "#bd3786"
             ],
             [
              0.5555555555555556,
              "#d8576b"
             ],
             [
              0.6666666666666666,
              "#ed7953"
             ],
             [
              0.7777777777777778,
              "#fb9f3a"
             ],
             [
              0.8888888888888888,
              "#fdca26"
             ],
             [
              1.0,
              "#f0f921"
             ]
            ]
           }
          ],
          "contourcarpet": [
           {
            "type": "contourcarpet",
            "colorbar": {
             "outlinewidth": 0,
             "ticks": ""
            }
           }
          ],
          "contour": [
           {
            "type": "contour",
            "colorbar": {
             "outlinewidth": 0,
             "ticks": ""
            },
            "colorscale": [
             [
              0.0,
              "#0d0887"
             ],
             [
              0.1111111111111111,
              "#46039f"
             ],
             [
              0.2222222222222222,
              "#7201a8"
             ],
             [
              0.3333333333333333,
              "#9c179e"
             ],
             [
              0.4444444444444444,
              "#bd3786"
             ],
             [
              0.5555555555555556,
              "#d8576b"
             ],
             [
              0.6666666666666666,
              "#ed7953"
             ],
             [
              0.7777777777777778,
              "#fb9f3a"
             ],
             [
              0.8888888888888888,
              "#fdca26"
             ],
             [
              1.0,
              "#f0f921"
             ]
            ]
           }
          ],
          "surface": [
           {
            "type": "surface",
            "colorbar": {
             "outlinewidth": 0,
             "ticks": ""
            },
            "colorscale": [
             [
              0.0,
              "#0d0887"
             ],
             [
              0.1111111111111111,
              "#46039f"
             ],
             [
              0.2222222222222222,
              "#7201a8"
             ],
             [
              0.3333333333333333,
              "#9c179e"
             ],
             [
              0.4444444444444444,
              "#bd3786"
             ],
             [
              0.5555555555555556,
              "#d8576b"
             ],
             [
              0.6666666666666666,
              "#ed7953"
             ],
             [
              0.7777777777777778,
              "#fb9f3a"
             ],
             [
              0.8888888888888888,
              "#fdca26"
             ],
             [
              1.0,
              "#f0f921"
             ]
            ]
           }
          ],
          "mesh3d": [
           {
            "type": "mesh3d",
            "colorbar": {
             "outlinewidth": 0,
             "ticks": ""
            }
           }
          ],
          "scatter": [
           {
            "fillpattern": {
             "fillmode": "overlay",
             "size": 10,
             "solidity": 0.2
            },
            "type": "scatter"
           }
          ],
          "parcoords": [
           {
            "type": "parcoords",
            "line": {
             "colorbar": {
              "outlinewidth": 0,
              "ticks": ""
             }
            }
           }
          ],
          "scatterpolargl": [
           {
            "type": "scatterpolargl",
            "marker": {
             "colorbar": {
              "outlinewidth": 0,
              "ticks": ""
             }
            }
           }
          ],
          "bar": [
           {
            "error_x": {
             "color": "#2a3f5f"
            },
            "error_y": {
             "color": "#2a3f5f"
            },
            "marker": {
             "line": {
              "color": "#E5ECF6",
              "width": 0.5
             },
             "pattern": {
              "fillmode": "overlay",
              "size": 10,
              "solidity": 0.2
             }
            },
            "type": "bar"
           }
          ],
          "scattergeo": [
           {
            "type": "scattergeo",
            "marker": {
             "colorbar": {
              "outlinewidth": 0,
              "ticks": ""
             }
            }
           }
          ],
          "scatterpolar": [
           {
            "type": "scatterpolar",
            "marker": {
             "colorbar": {
              "outlinewidth": 0,
              "ticks": ""
             }
            }
           }
          ],
          "histogram": [
           {
            "marker": {
             "pattern": {
              "fillmode": "overlay",
              "size": 10,
              "solidity": 0.2
             }
            },
            "type": "histogram"
           }
          ],
          "scattergl": [
           {
            "type": "scattergl",
            "marker": {
             "colorbar": {
              "outlinewidth": 0,
              "ticks": ""
             }
            }
           }
          ],
          "scatter3d": [
           {
            "type": "scatter3d",
            "line": {
             "colorbar": {
              "outlinewidth": 0,
              "ticks": ""
             }
            },
            "marker": {
             "colorbar": {
              "outlinewidth": 0,
              "ticks": ""
             }
            }
           }
          ],
          "scattermapbox": [
           {
            "type": "scattermapbox",
            "marker": {
             "colorbar": {
              "outlinewidth": 0,
              "ticks": ""
             }
            }
           }
          ],
          "scatterternary": [
           {
            "type": "scatterternary",
            "marker": {
             "colorbar": {
              "outlinewidth": 0,
              "ticks": ""
             }
            }
           }
          ],
          "scattercarpet": [
           {
            "type": "scattercarpet",
            "marker": {
             "colorbar": {
              "outlinewidth": 0,
              "ticks": ""
             }
            }
           }
          ],
          "carpet": [
           {
            "aaxis": {
             "endlinecolor": "#2a3f5f",
             "gridcolor": "white",
             "linecolor": "white",
             "minorgridcolor": "white",
             "startlinecolor": "#2a3f5f"
            },
            "baxis": {
             "endlinecolor": "#2a3f5f",
             "gridcolor": "white",
             "linecolor": "white",
             "minorgridcolor": "white",
             "startlinecolor": "#2a3f5f"
            },
            "type": "carpet"
           }
          ],
          "table": [
           {
            "cells": {
             "fill": {
              "color": "#EBF0F8"
             },
             "line": {
              "color": "white"
             }
            },
            "header": {
             "fill": {
              "color": "#C8D4E3"
             },
             "line": {
              "color": "white"
             }
            },
            "type": "table"
           }
          ],
          "barpolar": [
           {
            "marker": {
             "line": {
              "color": "#E5ECF6",
              "width": 0.5
             },
             "pattern": {
              "fillmode": "overlay",
              "size": 10,
              "solidity": 0.2
             }
            },
            "type": "barpolar"
           }
          ],
          "pie": [
           {
            "automargin": true,
            "type": "pie"
           }
          ]
         },
         "layout": {
          "autotypenumbers": "strict",
          "colorway": [
           "#636efa",
           "#EF553B",
           "#00cc96",
           "#ab63fa",
           "#FFA15A",
           "#19d3f3",
           "#FF6692",
           "#B6E880",
           "#FF97FF",
           "#FECB52"
          ],
          "font": {
           "color": "#2a3f5f"
          },
          "hovermode": "closest",
          "hoverlabel": {
           "align": "left"
          },
          "paper_bgcolor": "white",
          "plot_bgcolor": "#E5ECF6",
          "polar": {
           "bgcolor": "#E5ECF6",
           "angularaxis": {
            "gridcolor": "white",
            "linecolor": "white",
            "ticks": ""
           },
           "radialaxis": {
            "gridcolor": "white",
            "linecolor": "white",
            "ticks": ""
           }
          },
          "ternary": {
           "bgcolor": "#E5ECF6",
           "aaxis": {
            "gridcolor": "white",
            "linecolor": "white",
            "ticks": ""
           },
           "baxis": {
            "gridcolor": "white",
            "linecolor": "white",
            "ticks": ""
           },
           "caxis": {
            "gridcolor": "white",
            "linecolor": "white",
            "ticks": ""
           }
          },
          "coloraxis": {
           "colorbar": {
            "outlinewidth": 0,
            "ticks": ""
           }
          },
          "colorscale": {
           "sequential": [
            [
             0.0,
             "#0d0887"
            ],
            [
             0.1111111111111111,
             "#46039f"
            ],
            [
             0.2222222222222222,
             "#7201a8"
            ],
            [
             0.3333333333333333,
             "#9c179e"
            ],
            [
             0.4444444444444444,
             "#bd3786"
            ],
            [
             0.5555555555555556,
             "#d8576b"
            ],
            [
             0.6666666666666666,
             "#ed7953"
            ],
            [
             0.7777777777777778,
             "#fb9f3a"
            ],
            [
             0.8888888888888888,
             "#fdca26"
            ],
            [
             1.0,
             "#f0f921"
            ]
           ],
           "sequentialminus": [
            [
             0.0,
             "#0d0887"
            ],
            [
             0.1111111111111111,
             "#46039f"
            ],
            [
             0.2222222222222222,
             "#7201a8"
            ],
            [
             0.3333333333333333,
             "#9c179e"
            ],
            [
             0.4444444444444444,
             "#bd3786"
            ],
            [
             0.5555555555555556,
             "#d8576b"
            ],
            [
             0.6666666666666666,
             "#ed7953"
            ],
            [
             0.7777777777777778,
             "#fb9f3a"
            ],
            [
             0.8888888888888888,
             "#fdca26"
            ],
            [
             1.0,
             "#f0f921"
            ]
           ],
           "diverging": [
            [
             0,
             "#8e0152"
            ],
            [
             0.1,
             "#c51b7d"
            ],
            [
             0.2,
             "#de77ae"
            ],
            [
             0.3,
             "#f1b6da"
            ],
            [
             0.4,
             "#fde0ef"
            ],
            [
             0.5,
             "#f7f7f7"
            ],
            [
             0.6,
             "#e6f5d0"
            ],
            [
             0.7,
             "#b8e186"
            ],
            [
             0.8,
             "#7fbc41"
            ],
            [
             0.9,
             "#4d9221"
            ],
            [
             1,
             "#276419"
            ]
           ]
          },
          "xaxis": {
           "gridcolor": "white",
           "linecolor": "white",
           "ticks": "",
           "title": {
            "standoff": 15
           },
           "zerolinecolor": "white",
           "automargin": true,
           "zerolinewidth": 2
          },
          "yaxis": {
           "gridcolor": "white",
           "linecolor": "white",
           "ticks": "",
           "title": {
            "standoff": 15
           },
           "zerolinecolor": "white",
           "automargin": true,
           "zerolinewidth": 2
          },
          "scene": {
           "xaxis": {
            "backgroundcolor": "#E5ECF6",
            "gridcolor": "white",
            "linecolor": "white",
            "showbackground": true,
            "ticks": "",
            "zerolinecolor": "white",
            "gridwidth": 2
           },
           "yaxis": {
            "backgroundcolor": "#E5ECF6",
            "gridcolor": "white",
            "linecolor": "white",
            "showbackground": true,
            "ticks": "",
            "zerolinecolor": "white",
            "gridwidth": 2
           },
           "zaxis": {
            "backgroundcolor": "#E5ECF6",
            "gridcolor": "white",
            "linecolor": "white",
            "showbackground": true,
            "ticks": "",
            "zerolinecolor": "white",
            "gridwidth": 2
           }
          },
          "shapedefaults": {
           "line": {
            "color": "#2a3f5f"
           }
          },
          "annotationdefaults": {
           "arrowcolor": "#2a3f5f",
           "arrowhead": 0,
           "arrowwidth": 1
          },
          "geo": {
           "bgcolor": "white",
           "landcolor": "#E5ECF6",
           "subunitcolor": "white",
           "showland": true,
           "showlakes": true,
           "lakecolor": "white"
          },
          "title": {
           "x": 0.05
          },
          "mapbox": {
           "style": "light"
          }
         }
        }
       },
       "config": {
        "plotlyServerURL": "https://plot.ly"
       }
      },
      "text/html": [
       "<div>                            <div id=\"a92854d8-8741-4b53-bd5b-676ca7a21709\" class=\"plotly-graph-div\" style=\"height:525px; width:100%;\"></div>            <script type=\"text/javascript\">                require([\"plotly\"], function(Plotly) {                    window.PLOTLYENV=window.PLOTLYENV || {};                                    if (document.getElementById(\"a92854d8-8741-4b53-bd5b-676ca7a21709\")) {                    Plotly.newPlot(                        \"a92854d8-8741-4b53-bd5b-676ca7a21709\",                        [{\"hoverinfo\":\"none\",\"line\":{\"color\":\"#888\",\"width\":0.5},\"mode\":\"lines\",\"x\":[0.09261859277766658,-0.3408839159905991,null,0.5351692670580227,0.09261859277766658,null,-0.4877703098176673,-0.3408839159905991,null,-0.1389396622411306,-0.4877703098176673,null,-0.1788411324441927,-0.3408839159905991,null,0.16363976709954978,-0.1788411324441927,null,-0.15938326849155526,-0.3408839159905991,null,-0.1817890969991375,-0.15938326849155526,null,0.290846335264516,-0.3408839159905991,null,0.907967494109204,0.290846335264516,null,0.22858879742276383,-0.3408839159905991,null,0.6601056574971382,0.22858879742276383,null,-0.6231902512647396,-0.3408839159905991,null,-0.9999999999999999,-0.6231902512647396,null,-0.13414122696796302,-0.3408839159905991,null,0.4971282877000749,-0.13414122696796302,null,0.10395532717821393,-0.3408839159905991,null,0.48294556967245345,0.10395532717821393,null,-0.620594902308547,-0.3408839159905991,null,-0.09743132925407007,-0.620594902308547,null],\"y\":[0.1250004665706871,-0.2865917879528583,null,0.5604287309563573,0.1250004665706871,null,0.076486253056275,-0.2865917879528583,null,0.1885444869799342,0.076486253056275,null,0.25947298470360985,-0.2865917879528583,null,0.7685899442046807,0.25947298470360985,null,0.35062199017486195,-0.2865917879528583,null,0.829939223955312,0.35062199017486195,null,-0.08762618151946093,-0.2865917879528583,null,0.17019865367466352,-0.08762618151946093,null,0.06345387130803523,-0.2865917879528583,null,0.2791035351296986,0.06345387130803523,null,-0.18274605973461408,-0.2865917879528583,null,-0.08244422371030617,-0.18274605973461408,null,-0.6208353507264652,-0.2865917879528583,null,-0.44482625194169845,-0.6208353507264652,null,-0.35599641674065274,-0.2865917879528583,null,-0.6498477114331451,-0.35599641674065274,null,-0.6138177147059666,-0.2865917879528583,null,-0.3471084422489437,-0.6138177147059666,null],\"type\":\"scatter\"},{\"hoverinfo\":\"text\",\"marker\":{\"color\":[],\"colorbar\":{\"thickness\":15,\"title\":{\"side\":\"right\",\"text\":\"Node Connections\"},\"xanchor\":\"left\"},\"colorscale\":[[0.0,\"rgb(255,255,217)\"],[0.125,\"rgb(237,248,177)\"],[0.25,\"rgb(199,233,180)\"],[0.375,\"rgb(127,205,187)\"],[0.5,\"rgb(65,182,196)\"],[0.625,\"rgb(29,145,192)\"],[0.75,\"rgb(34,94,168)\"],[0.875,\"rgb(37,52,148)\"],[1.0,\"rgb(8,29,88)\"]],\"line\":{\"width\":2},\"reversescale\":true,\"showscale\":true,\"size\":10},\"mode\":\"markers\",\"text\":[\"0\",\"Extra Salami or Feta\",\"Coffee\",\"1\",\"Keeping It Local\",\"2\",\"Cake, Vegan mincepie\",\"3\",\"Extra Salami or Feta, Salad\",\"4\",\"Hearty & Seasonal, Sandwich\",\"5\",\"NONE, Scone\",\"6\",\"NONE, Tartine\",\"7\",\"Pastry, Toast\",\"8\",\"Salad, Sandwich\",\"9\",\"Hot chocolate, Medialuna, NONE\"],\"x\":[0.09261859277766658,0.5351692670580227,-0.3408839159905991,-0.4877703098176673,-0.1389396622411306,-0.1788411324441927,0.16363976709954978,-0.15938326849155526,-0.1817890969991375,0.290846335264516,0.907967494109204,0.22858879742276383,0.6601056574971382,-0.6231902512647396,-0.9999999999999999,-0.13414122696796302,0.4971282877000749,0.10395532717821393,0.48294556967245345,-0.620594902308547,-0.09743132925407007],\"y\":[0.1250004665706871,0.5604287309563573,-0.2865917879528583,0.076486253056275,0.1885444869799342,0.25947298470360985,0.7685899442046807,0.35062199017486195,0.829939223955312,-0.08762618151946093,0.17019865367466352,0.06345387130803523,0.2791035351296986,-0.18274605973461408,-0.08244422371030617,-0.6208353507264652,-0.44482625194169845,-0.35599641674065274,-0.6498477114331451,-0.6138177147059666,-0.3471084422489437],\"type\":\"scatter\"}],                        {\"annotations\":[{\"showarrow\":false,\"text\":\"Python code: \\u003ca href='https:\\u002f\\u002fplotly.com\\u002fipython-notebooks\\u002fnetwork-graphs\\u002f'\\u003e https:\\u002f\\u002fplotly.com\\u002fipython-notebooks\\u002fnetwork-graphs\\u002f\\u003c\\u002fa\\u003e\",\"x\":0.005,\"xref\":\"paper\",\"y\":-0.002,\"yref\":\"paper\"}],\"hovermode\":\"closest\",\"margin\":{\"b\":20,\"l\":5,\"r\":5,\"t\":40},\"showlegend\":false,\"title\":{\"font\":{\"size\":16},\"text\":\"\\u003cbr\\u003eNetwork graph made with Python\"},\"xaxis\":{\"showgrid\":false,\"showticklabels\":false,\"zeroline\":false},\"yaxis\":{\"showgrid\":false,\"showticklabels\":false,\"zeroline\":false},\"template\":{\"data\":{\"histogram2dcontour\":[{\"type\":\"histogram2dcontour\",\"colorbar\":{\"outlinewidth\":0,\"ticks\":\"\"},\"colorscale\":[[0.0,\"#0d0887\"],[0.1111111111111111,\"#46039f\"],[0.2222222222222222,\"#7201a8\"],[0.3333333333333333,\"#9c179e\"],[0.4444444444444444,\"#bd3786\"],[0.5555555555555556,\"#d8576b\"],[0.6666666666666666,\"#ed7953\"],[0.7777777777777778,\"#fb9f3a\"],[0.8888888888888888,\"#fdca26\"],[1.0,\"#f0f921\"]]}],\"choropleth\":[{\"type\":\"choropleth\",\"colorbar\":{\"outlinewidth\":0,\"ticks\":\"\"}}],\"histogram2d\":[{\"type\":\"histogram2d\",\"colorbar\":{\"outlinewidth\":0,\"ticks\":\"\"},\"colorscale\":[[0.0,\"#0d0887\"],[0.1111111111111111,\"#46039f\"],[0.2222222222222222,\"#7201a8\"],[0.3333333333333333,\"#9c179e\"],[0.4444444444444444,\"#bd3786\"],[0.5555555555555556,\"#d8576b\"],[0.6666666666666666,\"#ed7953\"],[0.7777777777777778,\"#fb9f3a\"],[0.8888888888888888,\"#fdca26\"],[1.0,\"#f0f921\"]]}],\"heatmap\":[{\"type\":\"heatmap\",\"colorbar\":{\"outlinewidth\":0,\"ticks\":\"\"},\"colorscale\":[[0.0,\"#0d0887\"],[0.1111111111111111,\"#46039f\"],[0.2222222222222222,\"#7201a8\"],[0.3333333333333333,\"#9c179e\"],[0.4444444444444444,\"#bd3786\"],[0.5555555555555556,\"#d8576b\"],[0.6666666666666666,\"#ed7953\"],[0.7777777777777778,\"#fb9f3a\"],[0.8888888888888888,\"#fdca26\"],[1.0,\"#f0f921\"]]}],\"heatmapgl\":[{\"type\":\"heatmapgl\",\"colorbar\":{\"outlinewidth\":0,\"ticks\":\"\"},\"colorscale\":[[0.0,\"#0d0887\"],[0.1111111111111111,\"#46039f\"],[0.2222222222222222,\"#7201a8\"],[0.3333333333333333,\"#9c179e\"],[0.4444444444444444,\"#bd3786\"],[0.5555555555555556,\"#d8576b\"],[0.6666666666666666,\"#ed7953\"],[0.7777777777777778,\"#fb9f3a\"],[0.8888888888888888,\"#fdca26\"],[1.0,\"#f0f921\"]]}],\"contourcarpet\":[{\"type\":\"contourcarpet\",\"colorbar\":{\"outlinewidth\":0,\"ticks\":\"\"}}],\"contour\":[{\"type\":\"contour\",\"colorbar\":{\"outlinewidth\":0,\"ticks\":\"\"},\"colorscale\":[[0.0,\"#0d0887\"],[0.1111111111111111,\"#46039f\"],[0.2222222222222222,\"#7201a8\"],[0.3333333333333333,\"#9c179e\"],[0.4444444444444444,\"#bd3786\"],[0.5555555555555556,\"#d8576b\"],[0.6666666666666666,\"#ed7953\"],[0.7777777777777778,\"#fb9f3a\"],[0.8888888888888888,\"#fdca26\"],[1.0,\"#f0f921\"]]}],\"surface\":[{\"type\":\"surface\",\"colorbar\":{\"outlinewidth\":0,\"ticks\":\"\"},\"colorscale\":[[0.0,\"#0d0887\"],[0.1111111111111111,\"#46039f\"],[0.2222222222222222,\"#7201a8\"],[0.3333333333333333,\"#9c179e\"],[0.4444444444444444,\"#bd3786\"],[0.5555555555555556,\"#d8576b\"],[0.6666666666666666,\"#ed7953\"],[0.7777777777777778,\"#fb9f3a\"],[0.8888888888888888,\"#fdca26\"],[1.0,\"#f0f921\"]]}],\"mesh3d\":[{\"type\":\"mesh3d\",\"colorbar\":{\"outlinewidth\":0,\"ticks\":\"\"}}],\"scatter\":[{\"fillpattern\":{\"fillmode\":\"overlay\",\"size\":10,\"solidity\":0.2},\"type\":\"scatter\"}],\"parcoords\":[{\"type\":\"parcoords\",\"line\":{\"colorbar\":{\"outlinewidth\":0,\"ticks\":\"\"}}}],\"scatterpolargl\":[{\"type\":\"scatterpolargl\",\"marker\":{\"colorbar\":{\"outlinewidth\":0,\"ticks\":\"\"}}}],\"bar\":[{\"error_x\":{\"color\":\"#2a3f5f\"},\"error_y\":{\"color\":\"#2a3f5f\"},\"marker\":{\"line\":{\"color\":\"#E5ECF6\",\"width\":0.5},\"pattern\":{\"fillmode\":\"overlay\",\"size\":10,\"solidity\":0.2}},\"type\":\"bar\"}],\"scattergeo\":[{\"type\":\"scattergeo\",\"marker\":{\"colorbar\":{\"outlinewidth\":0,\"ticks\":\"\"}}}],\"scatterpolar\":[{\"type\":\"scatterpolar\",\"marker\":{\"colorbar\":{\"outlinewidth\":0,\"ticks\":\"\"}}}],\"histogram\":[{\"marker\":{\"pattern\":{\"fillmode\":\"overlay\",\"size\":10,\"solidity\":0.2}},\"type\":\"histogram\"}],\"scattergl\":[{\"type\":\"scattergl\",\"marker\":{\"colorbar\":{\"outlinewidth\":0,\"ticks\":\"\"}}}],\"scatter3d\":[{\"type\":\"scatter3d\",\"line\":{\"colorbar\":{\"outlinewidth\":0,\"ticks\":\"\"}},\"marker\":{\"colorbar\":{\"outlinewidth\":0,\"ticks\":\"\"}}}],\"scattermapbox\":[{\"type\":\"scattermapbox\",\"marker\":{\"colorbar\":{\"outlinewidth\":0,\"ticks\":\"\"}}}],\"scatterternary\":[{\"type\":\"scatterternary\",\"marker\":{\"colorbar\":{\"outlinewidth\":0,\"ticks\":\"\"}}}],\"scattercarpet\":[{\"type\":\"scattercarpet\",\"marker\":{\"colorbar\":{\"outlinewidth\":0,\"ticks\":\"\"}}}],\"carpet\":[{\"aaxis\":{\"endlinecolor\":\"#2a3f5f\",\"gridcolor\":\"white\",\"linecolor\":\"white\",\"minorgridcolor\":\"white\",\"startlinecolor\":\"#2a3f5f\"},\"baxis\":{\"endlinecolor\":\"#2a3f5f\",\"gridcolor\":\"white\",\"linecolor\":\"white\",\"minorgridcolor\":\"white\",\"startlinecolor\":\"#2a3f5f\"},\"type\":\"carpet\"}],\"table\":[{\"cells\":{\"fill\":{\"color\":\"#EBF0F8\"},\"line\":{\"color\":\"white\"}},\"header\":{\"fill\":{\"color\":\"#C8D4E3\"},\"line\":{\"color\":\"white\"}},\"type\":\"table\"}],\"barpolar\":[{\"marker\":{\"line\":{\"color\":\"#E5ECF6\",\"width\":0.5},\"pattern\":{\"fillmode\":\"overlay\",\"size\":10,\"solidity\":0.2}},\"type\":\"barpolar\"}],\"pie\":[{\"automargin\":true,\"type\":\"pie\"}]},\"layout\":{\"autotypenumbers\":\"strict\",\"colorway\":[\"#636efa\",\"#EF553B\",\"#00cc96\",\"#ab63fa\",\"#FFA15A\",\"#19d3f3\",\"#FF6692\",\"#B6E880\",\"#FF97FF\",\"#FECB52\"],\"font\":{\"color\":\"#2a3f5f\"},\"hovermode\":\"closest\",\"hoverlabel\":{\"align\":\"left\"},\"paper_bgcolor\":\"white\",\"plot_bgcolor\":\"#E5ECF6\",\"polar\":{\"bgcolor\":\"#E5ECF6\",\"angularaxis\":{\"gridcolor\":\"white\",\"linecolor\":\"white\",\"ticks\":\"\"},\"radialaxis\":{\"gridcolor\":\"white\",\"linecolor\":\"white\",\"ticks\":\"\"}},\"ternary\":{\"bgcolor\":\"#E5ECF6\",\"aaxis\":{\"gridcolor\":\"white\",\"linecolor\":\"white\",\"ticks\":\"\"},\"baxis\":{\"gridcolor\":\"white\",\"linecolor\":\"white\",\"ticks\":\"\"},\"caxis\":{\"gridcolor\":\"white\",\"linecolor\":\"white\",\"ticks\":\"\"}},\"coloraxis\":{\"colorbar\":{\"outlinewidth\":0,\"ticks\":\"\"}},\"colorscale\":{\"sequential\":[[0.0,\"#0d0887\"],[0.1111111111111111,\"#46039f\"],[0.2222222222222222,\"#7201a8\"],[0.3333333333333333,\"#9c179e\"],[0.4444444444444444,\"#bd3786\"],[0.5555555555555556,\"#d8576b\"],[0.6666666666666666,\"#ed7953\"],[0.7777777777777778,\"#fb9f3a\"],[0.8888888888888888,\"#fdca26\"],[1.0,\"#f0f921\"]],\"sequentialminus\":[[0.0,\"#0d0887\"],[0.1111111111111111,\"#46039f\"],[0.2222222222222222,\"#7201a8\"],[0.3333333333333333,\"#9c179e\"],[0.4444444444444444,\"#bd3786\"],[0.5555555555555556,\"#d8576b\"],[0.6666666666666666,\"#ed7953\"],[0.7777777777777778,\"#fb9f3a\"],[0.8888888888888888,\"#fdca26\"],[1.0,\"#f0f921\"]],\"diverging\":[[0,\"#8e0152\"],[0.1,\"#c51b7d\"],[0.2,\"#de77ae\"],[0.3,\"#f1b6da\"],[0.4,\"#fde0ef\"],[0.5,\"#f7f7f7\"],[0.6,\"#e6f5d0\"],[0.7,\"#b8e186\"],[0.8,\"#7fbc41\"],[0.9,\"#4d9221\"],[1,\"#276419\"]]},\"xaxis\":{\"gridcolor\":\"white\",\"linecolor\":\"white\",\"ticks\":\"\",\"title\":{\"standoff\":15},\"zerolinecolor\":\"white\",\"automargin\":true,\"zerolinewidth\":2},\"yaxis\":{\"gridcolor\":\"white\",\"linecolor\":\"white\",\"ticks\":\"\",\"title\":{\"standoff\":15},\"zerolinecolor\":\"white\",\"automargin\":true,\"zerolinewidth\":2},\"scene\":{\"xaxis\":{\"backgroundcolor\":\"#E5ECF6\",\"gridcolor\":\"white\",\"linecolor\":\"white\",\"showbackground\":true,\"ticks\":\"\",\"zerolinecolor\":\"white\",\"gridwidth\":2},\"yaxis\":{\"backgroundcolor\":\"#E5ECF6\",\"gridcolor\":\"white\",\"linecolor\":\"white\",\"showbackground\":true,\"ticks\":\"\",\"zerolinecolor\":\"white\",\"gridwidth\":2},\"zaxis\":{\"backgroundcolor\":\"#E5ECF6\",\"gridcolor\":\"white\",\"linecolor\":\"white\",\"showbackground\":true,\"ticks\":\"\",\"zerolinecolor\":\"white\",\"gridwidth\":2}},\"shapedefaults\":{\"line\":{\"color\":\"#2a3f5f\"}},\"annotationdefaults\":{\"arrowcolor\":\"#2a3f5f\",\"arrowhead\":0,\"arrowwidth\":1},\"geo\":{\"bgcolor\":\"white\",\"landcolor\":\"#E5ECF6\",\"subunitcolor\":\"white\",\"showland\":true,\"showlakes\":true,\"lakecolor\":\"white\"},\"title\":{\"x\":0.05},\"mapbox\":{\"style\":\"light\"}}}},                        {\"responsive\": true}                    ).then(function(){\n",
       "                            \n",
       "var gd = document.getElementById('a92854d8-8741-4b53-bd5b-676ca7a21709');\n",
       "var x = new MutationObserver(function (mutations, observer) {{\n",
       "        var display = window.getComputedStyle(gd).display;\n",
       "        if (!display || display === 'none') {{\n",
       "            console.log([gd, 'removed!']);\n",
       "            Plotly.purge(gd);\n",
       "            observer.disconnect();\n",
       "        }}\n",
       "}});\n",
       "\n",
       "// Listen for the removal of the full notebook cells\n",
       "var notebookContainer = gd.closest('#notebook-container');\n",
       "if (notebookContainer) {{\n",
       "    x.observe(notebookContainer, {childList: true});\n",
       "}}\n",
       "\n",
       "// Listen for the clearing of the current output cell\n",
       "var outputEl = gd.closest('.output');\n",
       "if (outputEl) {{\n",
       "    x.observe(outputEl, {childList: true});\n",
       "}}\n",
       "\n",
       "                        })                };                });            </script>        </div>"
      ]
     },
     "metadata": {},
     "output_type": "display_data",
     "jetTransient": {
      "display_id": null
     }
    }
   ],
   "execution_count": 38
  },
  {
   "metadata": {},
   "cell_type": "markdown",
   "source": "fpgrowth_py",
   "id": "fac5768ae7d2beb4"
  },
  {
   "metadata": {
    "ExecuteTime": {
     "end_time": "2025-09-25T09:56:22.188680Z",
     "start_time": "2025-09-25T09:56:22.183260Z"
    }
   },
   "cell_type": "code",
   "source": [
    "def output_fpgrowth(rules):\n",
    "    rules_pyarmviz_fp = []\n",
    "\n",
    "    for i, (antecedent, consequent, confidence) in enumerate(rules):\n",
    "        ant = frozenset(antecedent)\n",
    "        cons = frozenset(consequent)\n",
    "        union = ant | cons\n",
    "\n",
    "        count_ab = sum(1 for t in transactions if union.issubset(t))\n",
    "        count_a = sum(1 for t in transactions if ant.issubset(t))\n",
    "        count_b = sum(1 for t in transactions if cons.issubset(t))\n",
    "\n",
    "        support_ab = count_ab / n_trans\n",
    "        support_a = count_a / n_trans\n",
    "        support_b = count_b / n_trans\n",
    "        lift = support_ab / (support_a * support_b) if support_a * support_b else 0.0\n",
    "\n",
    "        print(f\"{i}: {antecedent} -> {consequent} \"\n",
    "              f\"Support = {support_ab:.3f} Confidence = {confidence:.3f} Lift = {lift:.3f}\")\n",
    "\n",
    "        rules_pyarmviz_fp.append(\n",
    "            PyARMViz.Rule.Rule(\n",
    "                lhs=[\", \".join(antecedent)],\n",
    "                rhs=[\", \".join(consequent)],\n",
    "                count_full=count_ab,\n",
    "                count_lhs=count_a,\n",
    "                count_rhs=count_b,\n",
    "                num_transactions=n_trans\n",
    "            )\n",
    "        )\n",
    "    PyARMViz.metadata_scatter_plot(rules_pyarmviz_fp)\n",
    "    PyARMViz.adjacency_graph_plotly(rules_pyarmviz_fp)\n",
    "    # PyARMViz.adjacency_parallel_coordinate_plot(rules_pyarmviz)\n",
    "    # PyARMViz.adjacency_parallel_category_plot(rules_pyarmviz)"
   ],
   "id": "6e3c5d748e9ab02",
   "outputs": [],
   "execution_count": 39
  },
  {
   "metadata": {
    "ExecuteTime": {
     "end_time": "2025-09-25T09:56:33.516989Z",
     "start_time": "2025-09-25T09:56:22.196723Z"
    }
   },
   "cell_type": "code",
   "source": [
    "start = time.time()\n",
    "freqItemSet, rules = fpgrowth(transactions, minSupRatio=min_sup, minConf=0.6)\n",
    "times['fpgrowth-py'] = time.time() - start\n",
    "output_fpgrowth(rules)"
   ],
   "id": "ccce1274688df76",
   "outputs": [
    {
     "name": "stdout",
     "output_type": "stream",
     "text": [
      "0: {'Mighty Protein'} -> {'Coffee'} Support = 0.001 Confidence = 0.818 Lift = 1.722\n",
      "1: {'Granola'} -> {'Coffee'} Support = 0.002 Confidence = 0.607 Lift = 1.278\n",
      "2: {'NONE', 'Art Tray'} -> {'Coffee'} Support = 0.001 Confidence = 0.818 Lift = 1.722\n",
      "3: {'Art Tray'} -> {'Coffee'} Support = 0.003 Confidence = 0.684 Lift = 1.440\n",
      "4: {'Art Tray'} -> {'Coffee'} Support = 0.003 Confidence = 0.684 Lift = 1.440\n",
      "5: {'Bread', 'Extra Salami or Feta'} -> {'Coffee'} Support = 0.001 Confidence = 0.700 Lift = 1.473\n",
      "6: {'Salad', 'Extra Salami or Feta'} -> {'Coffee'} Support = 0.001 Confidence = 0.875 Lift = 1.842\n",
      "7: {'NONE', 'Extra Salami or Feta'} -> {'Coffee'} Support = 0.001 Confidence = 0.765 Lift = 1.610\n",
      "8: {'Extra Salami or Feta'} -> {'Coffee'} Support = 0.003 Confidence = 0.816 Lift = 1.717\n",
      "9: {'Extra Salami or Feta'} -> {'Coffee'} Support = 0.003 Confidence = 0.816 Lift = 1.717\n",
      "10: {'Tartine', 'NONE'} -> {'Coffee'} Support = 0.001 Confidence = 0.923 Lift = 1.943\n",
      "11: {'Tartine'} -> {'Coffee'} Support = 0.003 Confidence = 0.630 Lift = 1.327\n",
      "12: {'Bakewell'} -> {'Coffee'} Support = 0.003 Confidence = 0.604 Lift = 1.272\n",
      "13: {'Vegan mincepie', 'Cake'} -> {'Coffee'} Support = 0.001 Confidence = 0.833 Lift = 1.754\n",
      "14: {'NONE', 'The Nomad'} -> {'Coffee'} Support = 0.001 Confidence = 0.750 Lift = 1.579\n",
      "15: {'Keeping It Local', 'Tea'} -> {'Coffee'} Support = 0.001 Confidence = 0.647 Lift = 1.362\n",
      "16: {'Keeping It Local'} -> {'Coffee'} Support = 0.005 Confidence = 0.810 Lift = 1.704\n",
      "17: {'Smoothies', 'Cake'} -> {'Coffee'} Support = 0.001 Confidence = 0.667 Lift = 1.403\n",
      "18: {'Salad', 'Spanish Brunch'} -> {'Coffee'} Support = 0.001 Confidence = 0.667 Lift = 1.403\n",
      "19: {'Salad', 'Cake'} -> {'Coffee'} Support = 0.001 Confidence = 0.769 Lift = 1.619\n",
      "20: {'Salad', 'Sandwich'} -> {'Coffee'} Support = 0.002 Confidence = 0.833 Lift = 1.754\n",
      "21: {'Salad'} -> {'Coffee'} Support = 0.007 Confidence = 0.626 Lift = 1.318\n",
      "22: {'Salad'} -> {'Coffee'} Support = 0.007 Confidence = 0.626 Lift = 1.318\n",
      "23: {'Sandwich', 'Hearty & Seasonal'} -> {'Coffee'} Support = 0.001 Confidence = 0.857 Lift = 1.804\n",
      "24: {'Juice', 'Jammie Dodgers'} -> {'Coffee'} Support = 0.001 Confidence = 0.650 Lift = 1.368\n",
      "25: {'Mineral water', 'Alfajores'} -> {'Coffee'} Support = 0.001 Confidence = 0.750 Lift = 1.579\n",
      "26: {'Tiffin', 'Sandwich'} -> {'Coffee'} Support = 0.001 Confidence = 0.667 Lift = 1.403\n",
      "27: {'Tiffin', 'Sandwich'} -> {'Coffee'} Support = 0.001 Confidence = 0.667 Lift = 1.403\n",
      "28: {'Tiffin', 'Cake'} -> {'Coffee'} Support = 0.002 Confidence = 0.682 Lift = 1.435\n",
      "29: {'Alfajores', 'Spanish Brunch'} -> {'Tea'} Support = 0.001 Confidence = 0.700 Lift = 4.942\n",
      "30: {'Toast', 'Spanish Brunch'} -> {'Coffee'} Support = 0.001 Confidence = 0.700 Lift = 1.473\n",
      "31: {'Soup', 'Spanish Brunch'} -> {'Coffee'} Support = 0.001 Confidence = 0.700 Lift = 1.473\n",
      "32: {'Sandwich', 'Spanish Brunch'} -> {'Coffee'} Support = 0.001 Confidence = 0.667 Lift = 1.403\n",
      "33: {'Juice', 'Spanish Brunch'} -> {'Coffee'} Support = 0.002 Confidence = 0.731 Lift = 1.538\n",
      "34: {'NONE', 'Spanish Brunch'} -> {'Coffee'} Support = 0.002 Confidence = 0.676 Lift = 1.424\n",
      "35: {'Pastry', 'Toast'} -> {'Coffee'} Support = 0.001 Confidence = 0.867 Lift = 1.824\n",
      "36: {'Medialuna', 'Toast'} -> {'Coffee'} Support = 0.001 Confidence = 0.611 Lift = 1.286\n",
      "37: {'Juice', 'Toast'} -> {'Coffee'} Support = 0.002 Confidence = 0.682 Lift = 1.435\n",
      "38: {'Cake', 'Toast'} -> {'Coffee'} Support = 0.002 Confidence = 0.714 Lift = 1.504\n",
      "39: {'NONE', 'Toast'} -> {'Coffee'} Support = 0.003 Confidence = 0.750 Lift = 1.579\n",
      "40: {'NONE', 'Toast'} -> {'Coffee'} Support = 0.003 Confidence = 0.750 Lift = 1.579\n",
      "41: {'Toast'} -> {'Coffee'} Support = 0.024 Confidence = 0.704 Lift = 1.483\n",
      "42: {'Toast'} -> {'Coffee'} Support = 0.024 Confidence = 0.704 Lift = 1.483\n",
      "43: {'Toast'} -> {'Coffee'} Support = 0.024 Confidence = 0.704 Lift = 1.483\n",
      "44: {'Cookies', 'Scone'} -> {'Coffee'} Support = 0.002 Confidence = 0.789 Lift = 1.662\n",
      "45: {'Scone', 'NONE'} -> {'Coffee'} Support = 0.002 Confidence = 0.833 Lift = 1.754\n",
      "46: {'Scone', 'Juice'} -> {'Coffee'} Support = 0.001 Confidence = 0.632 Lift = 1.329\n",
      "47: {'Scone', 'Hot chocolate'} -> {'Coffee'} Support = 0.002 Confidence = 0.607 Lift = 1.278\n",
      "48: {'Soup', 'NONE'} -> {'Coffee'} Support = 0.001 Confidence = 0.625 Lift = 1.316\n",
      "49: {'Soup', 'Sandwich'} -> {'Coffee'} Support = 0.004 Confidence = 0.654 Lift = 1.376\n",
      "50: {'Soup', 'Sandwich'} -> {'Coffee'} Support = 0.004 Confidence = 0.654 Lift = 1.376\n",
      "51: {'Soup', 'Cake', 'Sandwich'} -> {'Coffee'} Support = 0.001 Confidence = 0.818 Lift = 1.722\n",
      "52: {'Juice', 'Pastry'} -> {'Coffee'} Support = 0.002 Confidence = 0.773 Lift = 1.627\n",
      "53: {'Cookies', 'Juice', 'Cake'} -> {'Coffee'} Support = 0.001 Confidence = 0.700 Lift = 1.473\n",
      "54: {'Cookies', 'Juice'} -> {'Coffee'} Support = 0.004 Confidence = 0.603 Lift = 1.270\n",
      "55: {'Cookies', 'Juice'} -> {'Coffee'} Support = 0.004 Confidence = 0.603 Lift = 1.270\n",
      "56: {'Juice', 'NONE'} -> {'Coffee'} Support = 0.004 Confidence = 0.661 Lift = 1.391\n",
      "57: {'Juice', 'NONE'} -> {'Coffee'} Support = 0.004 Confidence = 0.661 Lift = 1.391\n",
      "58: {'Juice', 'Cake', 'Sandwich'} -> {'Coffee'} Support = 0.001 Confidence = 0.625 Lift = 1.316\n",
      "59: {'NONE', 'Alfajores'} -> {'Coffee'} Support = 0.001 Confidence = 0.611 Lift = 1.286\n",
      "60: {'NONE', 'Alfajores'} -> {'Coffee'} Support = 0.001 Confidence = 0.611 Lift = 1.286\n",
      "61: {'Cookies', 'Sandwich', 'Alfajores'} -> {'Coffee'} Support = 0.000 Confidence = 0.750 Lift = 1.579\n",
      "62: {'Cookies', 'Alfajores'} -> {'Coffee'} Support = 0.002 Confidence = 0.652 Lift = 1.373\n",
      "63: {'Pastry', 'Bread', 'Alfajores'} -> {'Coffee'} Support = 0.001 Confidence = 0.714 Lift = 1.504\n",
      "64: {'Muffin', 'Sandwich'} -> {'Coffee'} Support = 0.001 Confidence = 0.650 Lift = 1.368\n",
      "65: {'Muffin', 'NONE'} -> {'Coffee'} Support = 0.001 Confidence = 0.619 Lift = 1.303\n",
      "66: {'Muffin', 'Cake', 'Tea'} -> {'Coffee'} Support = 0.001 Confidence = 0.667 Lift = 1.403\n",
      "67: {'NONE', 'Brownie'} -> {'Coffee'} Support = 0.001 Confidence = 0.609 Lift = 1.281\n",
      "68: {'Cookies', 'Brownie'} -> {'Coffee'} Support = 0.002 Confidence = 0.625 Lift = 1.316\n",
      "69: {'Cookies', 'Brownie'} -> {'Coffee'} Support = 0.002 Confidence = 0.625 Lift = 1.316\n",
      "70: {'Sandwich', 'Brownie'} -> {'Coffee'} Support = 0.001 Confidence = 0.636 Lift = 1.339\n",
      "71: {'Cookies', 'Hot chocolate'} -> {'Coffee'} Support = 0.004 Confidence = 0.614 Lift = 1.292\n",
      "72: {'Cookies', 'Medialuna'} -> {'Coffee'} Support = 0.002 Confidence = 0.667 Lift = 1.403\n",
      "73: {'Cookies', 'Medialuna'} -> {'Coffee'} Support = 0.002 Confidence = 0.667 Lift = 1.403\n",
      "74: {'Cookies', 'Pastry'} -> {'Coffee'} Support = 0.002 Confidence = 0.607 Lift = 1.278\n",
      "75: {'Cookies', 'Pastry'} -> {'Coffee'} Support = 0.002 Confidence = 0.607 Lift = 1.278\n",
      "76: {'Cookies', 'NONE'} -> {'Coffee'} Support = 0.002 Confidence = 0.741 Lift = 1.559\n",
      "77: {'Cookies', 'NONE'} -> {'Coffee'} Support = 0.002 Confidence = 0.741 Lift = 1.559\n",
      "78: {'Cookies', 'Sandwich', 'Hot chocolate'} -> {'Coffee'} Support = 0.001 Confidence = 0.857 Lift = 1.804\n",
      "79: {'Cookies', 'Tea', 'Sandwich'} -> {'Coffee'} Support = 0.001 Confidence = 0.750 Lift = 1.579\n",
      "80: {'Cookies', 'Hot chocolate'} -> {'Coffee'} Support = 0.004 Confidence = 0.614 Lift = 1.292\n",
      "81: {'Cookies', 'Hot chocolate'} -> {'Coffee'} Support = 0.004 Confidence = 0.614 Lift = 1.292\n",
      "82: {'Cookies', 'Hot chocolate'} -> {'Coffee'} Support = 0.004 Confidence = 0.614 Lift = 1.292\n",
      "83: {'NONE', 'Hot chocolate', 'Medialuna'} -> {'Coffee'} Support = 0.001 Confidence = 0.909 Lift = 1.914\n",
      "84: {'Hot chocolate', 'Medialuna'} -> {'Coffee'} Support = 0.003 Confidence = 0.644 Lift = 1.356\n",
      "85: {'Hot chocolate', 'Medialuna'} -> {'Coffee'} Support = 0.003 Confidence = 0.644 Lift = 1.356\n",
      "86: {'Pastry', 'Bread', 'Hot chocolate'} -> {'Coffee'} Support = 0.001 Confidence = 0.667 Lift = 1.403\n",
      "87: {'Pastry', 'Hot chocolate'} -> {'Coffee'} Support = 0.004 Confidence = 0.667 Lift = 1.403\n",
      "88: {'Pastry', 'Hot chocolate'} -> {'Coffee'} Support = 0.004 Confidence = 0.667 Lift = 1.403\n",
      "89: {'NONE', 'Hot chocolate'} -> {'Coffee'} Support = 0.004 Confidence = 0.621 Lift = 1.306\n",
      "90: {'Cake', 'Hot chocolate'} -> {'Coffee'} Support = 0.007 Confidence = 0.602 Lift = 1.267\n",
      "91: {'Cake', 'Hot chocolate'} -> {'Coffee'} Support = 0.007 Confidence = 0.602 Lift = 1.267\n",
      "92: {'Medialuna', 'Sandwich'} -> {'Coffee'} Support = 0.001 Confidence = 0.650 Lift = 1.368\n",
      "93: {'Cake', 'Medialuna', 'Tea'} -> {'Coffee'} Support = 0.001 Confidence = 0.667 Lift = 1.403\n",
      "94: {'Cake', 'Medialuna'} -> {'Coffee'} Support = 0.003 Confidence = 0.686 Lift = 1.443\n",
      "95: {'Cake', 'Medialuna'} -> {'Coffee'} Support = 0.003 Confidence = 0.686 Lift = 1.443\n",
      "96: {'NONE', 'Medialuna'} -> {'Coffee'} Support = 0.003 Confidence = 0.684 Lift = 1.440\n",
      "97: {'Pastry', 'Sandwich'} -> {'Coffee'} Support = 0.001 Confidence = 0.818 Lift = 1.722\n",
      "98: {'Cake', 'Sandwich', 'Tea'} -> {'Coffee'} Support = 0.001 Confidence = 0.714 Lift = 1.504\n",
      "99: {'Cake', 'Sandwich'} -> {'Coffee'} Support = 0.005 Confidence = 0.677 Lift = 1.425\n",
      "100: {'Cake', 'Sandwich'} -> {'Coffee'} Support = 0.005 Confidence = 0.677 Lift = 1.425\n",
      "101: {'Cake', 'Sandwich'} -> {'Coffee'} Support = 0.005 Confidence = 0.677 Lift = 1.425\n",
      "102: {'Cake', 'Sandwich'} -> {'Coffee'} Support = 0.005 Confidence = 0.677 Lift = 1.425\n",
      "103: {'Pastry', 'NONE'} -> {'Coffee'} Support = 0.003 Confidence = 0.636 Lift = 1.339\n",
      "104: {'Pastry', 'NONE'} -> {'Coffee'} Support = 0.003 Confidence = 0.636 Lift = 1.339\n",
      "105: {'NONE', 'Cake'} -> {'Coffee'} Support = 0.003 Confidence = 0.667 Lift = 1.403\n",
      "106: {'NONE', 'Cake'} -> {'Coffee'} Support = 0.003 Confidence = 0.667 Lift = 1.403\n"
     ]
    },
    {
     "data": {
      "application/vnd.plotly.v1+json": {
       "data": [
        {
         "marker": {
          "color": [
           1.7221932219723741,
           1.2779767163048965,
           1.7221932219723741,
           1.4401966710061374,
           1.4401966710061374,
           1.4734319787985866,
           1.8417899734982335,
           1.6096315734774476,
           1.7171575692765482,
           1.7171575692765482,
           1.942987224789345,
           1.3270039560608387,
           1.2717121245583036,
           1.7540856890459364,
           1.5786771201413428,
           1.3619959467886094,
           1.7039689550731953,
           1.4032685512367493,
           1.403268551236749,
           1.6191560206577875,
           1.7540856890459364,
           1.3182219723739157,
           1.3182219723739157,
           1.8042024230186773,
           1.3681868374558304,
           1.5786771201413428,
           1.403268551236749,
           1.403268551236749,
           1.4351610183103116,
           4.942,
           1.4734319787985866,
           1.4734319787985866,
           1.403268551236749,
           1.5381982196248982,
           1.423904853460819,
           1.824249116607774,
           1.2863295053003534,
           1.4351610183103116,
           1.5035020191822313,
           1.578677120141343,
           1.578677120141343,
           1.4826988465897728,
           1.4826988465897728,
           1.4826988465897728,
           1.661765389622466,
           1.7540856890459364,
           1.3294123116979728,
           1.2779767163048965,
           1.3155642667844525,
           1.3762826175591194,
           1.3762826175591194,
           1.7221932219723741,
           1.6265158207516865,
           1.4734319787985866,
           1.2701999817229195,
           1.2701999817229195,
           1.391376444870336,
           1.391376444870336,
           1.3155642667844525,
           1.2863295053003534,
           1.2863295053003534,
           1.5786771201413428,
           1.3727627131663849,
           1.5035020191822313,
           1.3681868374558304,
           1.3030350832912672,
           1.403268551236749,
           1.2812451989552927,
           1.315564266784452,
           1.315564266784452,
           1.3394836170896243,
           1.2924841919285848,
           1.403268551236749,
           1.403268551236749,
           1.2779767163048965,
           1.2779767163048965,
           1.5591872791519437,
           1.5591872791519437,
           1.8042024230186773,
           1.5786771201413428,
           1.2924841919285848,
           1.2924841919285848,
           1.2924841919285848,
           1.913548024413749,
           1.3564929328621906,
           1.3564929328621906,
           1.4032685512367493,
           1.403268551236749,
           1.403268551236749,
           1.3064914097721458,
           1.266839664310954,
           1.266839664310954,
           1.3681868374558304,
           1.403268551236749,
           1.4433619384149419,
           1.4433619384149419,
           1.4401966710061374,
           1.7221932219723741,
           1.5035020191822313,
           1.424857298178853,
           1.424857298178853,
           1.424857298178853,
           1.424857298178853,
           1.3394836170896243,
           1.3394836170896243,
           1.403268551236749,
           1.403268551236749
          ],
          "colorbar": {
           "title": {
            "text": "Lift"
           }
          },
          "colorscale": [
           [
            0.0,
            "rgb(243, 224, 247)"
           ],
           [
            0.16666666666666666,
            "rgb(228, 199, 241)"
           ],
           [
            0.3333333333333333,
            "rgb(209, 175, 232)"
           ],
           [
            0.5,
            "rgb(185, 152, 221)"
           ],
           [
            0.6666666666666666,
            "rgb(159, 130, 206)"
           ],
           [
            0.8333333333333334,
            "rgb(130, 109, 186)"
           ],
           [
            1.0,
            "rgb(99, 88, 159)"
           ]
          ]
         },
         "mode": "markers",
         "text": [
          "['Mighty Protein'] => ['Coffee'], Lift: 1.7221932219723741",
          "['Granola'] => ['Coffee'], Lift: 1.2779767163048965",
          "['NONE, Art Tray'] => ['Coffee'], Lift: 1.7221932219723741",
          "['Art Tray'] => ['Coffee'], Lift: 1.4401966710061374",
          "['Art Tray'] => ['Coffee'], Lift: 1.4401966710061374",
          "['Bread, Extra Salami or Feta'] => ['Coffee'], Lift: 1.4734319787985866",
          "['Salad, Extra Salami or Feta'] => ['Coffee'], Lift: 1.8417899734982335",
          "['NONE, Extra Salami or Feta'] => ['Coffee'], Lift: 1.6096315734774476",
          "['Extra Salami or Feta'] => ['Coffee'], Lift: 1.7171575692765482",
          "['Extra Salami or Feta'] => ['Coffee'], Lift: 1.7171575692765482",
          "['Tartine, NONE'] => ['Coffee'], Lift: 1.942987224789345",
          "['Tartine'] => ['Coffee'], Lift: 1.3270039560608387",
          "['Bakewell'] => ['Coffee'], Lift: 1.2717121245583036",
          "['Vegan mincepie, Cake'] => ['Coffee'], Lift: 1.7540856890459364",
          "['NONE, The Nomad'] => ['Coffee'], Lift: 1.5786771201413428",
          "['Keeping It Local, Tea'] => ['Coffee'], Lift: 1.3619959467886094",
          "['Keeping It Local'] => ['Coffee'], Lift: 1.7039689550731953",
          "['Smoothies, Cake'] => ['Coffee'], Lift: 1.4032685512367493",
          "['Salad, Spanish Brunch'] => ['Coffee'], Lift: 1.403268551236749",
          "['Salad, Cake'] => ['Coffee'], Lift: 1.6191560206577875",
          "['Salad, Sandwich'] => ['Coffee'], Lift: 1.7540856890459364",
          "['Salad'] => ['Coffee'], Lift: 1.3182219723739157",
          "['Salad'] => ['Coffee'], Lift: 1.3182219723739157",
          "['Sandwich, Hearty & Seasonal'] => ['Coffee'], Lift: 1.8042024230186773",
          "['Juice, Jammie Dodgers'] => ['Coffee'], Lift: 1.3681868374558304",
          "['Mineral water, Alfajores'] => ['Coffee'], Lift: 1.5786771201413428",
          "['Tiffin, Sandwich'] => ['Coffee'], Lift: 1.403268551236749",
          "['Tiffin, Sandwich'] => ['Coffee'], Lift: 1.403268551236749",
          "['Tiffin, Cake'] => ['Coffee'], Lift: 1.4351610183103116",
          "['Alfajores, Spanish Brunch'] => ['Tea'], Lift: 4.942",
          "['Toast, Spanish Brunch'] => ['Coffee'], Lift: 1.4734319787985866",
          "['Soup, Spanish Brunch'] => ['Coffee'], Lift: 1.4734319787985866",
          "['Sandwich, Spanish Brunch'] => ['Coffee'], Lift: 1.403268551236749",
          "['Juice, Spanish Brunch'] => ['Coffee'], Lift: 1.5381982196248982",
          "['NONE, Spanish Brunch'] => ['Coffee'], Lift: 1.423904853460819",
          "['Pastry, Toast'] => ['Coffee'], Lift: 1.824249116607774",
          "['Medialuna, Toast'] => ['Coffee'], Lift: 1.2863295053003534",
          "['Juice, Toast'] => ['Coffee'], Lift: 1.4351610183103116",
          "['Cake, Toast'] => ['Coffee'], Lift: 1.5035020191822313",
          "['NONE, Toast'] => ['Coffee'], Lift: 1.578677120141343",
          "['NONE, Toast'] => ['Coffee'], Lift: 1.578677120141343",
          "['Toast'] => ['Coffee'], Lift: 1.4826988465897728",
          "['Toast'] => ['Coffee'], Lift: 1.4826988465897728",
          "['Toast'] => ['Coffee'], Lift: 1.4826988465897728",
          "['Cookies, Scone'] => ['Coffee'], Lift: 1.661765389622466",
          "['Scone, NONE'] => ['Coffee'], Lift: 1.7540856890459364",
          "['Scone, Juice'] => ['Coffee'], Lift: 1.3294123116979728",
          "['Scone, Hot chocolate'] => ['Coffee'], Lift: 1.2779767163048965",
          "['Soup, NONE'] => ['Coffee'], Lift: 1.3155642667844525",
          "['Soup, Sandwich'] => ['Coffee'], Lift: 1.3762826175591194",
          "['Soup, Sandwich'] => ['Coffee'], Lift: 1.3762826175591194",
          "['Soup, Cake, Sandwich'] => ['Coffee'], Lift: 1.7221932219723741",
          "['Juice, Pastry'] => ['Coffee'], Lift: 1.6265158207516865",
          "['Cookies, Juice, Cake'] => ['Coffee'], Lift: 1.4734319787985866",
          "['Cookies, Juice'] => ['Coffee'], Lift: 1.2701999817229195",
          "['Cookies, Juice'] => ['Coffee'], Lift: 1.2701999817229195",
          "['Juice, NONE'] => ['Coffee'], Lift: 1.391376444870336",
          "['Juice, NONE'] => ['Coffee'], Lift: 1.391376444870336",
          "['Juice, Cake, Sandwich'] => ['Coffee'], Lift: 1.3155642667844525",
          "['NONE, Alfajores'] => ['Coffee'], Lift: 1.2863295053003534",
          "['NONE, Alfajores'] => ['Coffee'], Lift: 1.2863295053003534",
          "['Cookies, Sandwich, Alfajores'] => ['Coffee'], Lift: 1.5786771201413428",
          "['Cookies, Alfajores'] => ['Coffee'], Lift: 1.3727627131663849",
          "['Pastry, Bread, Alfajores'] => ['Coffee'], Lift: 1.5035020191822313",
          "['Muffin, Sandwich'] => ['Coffee'], Lift: 1.3681868374558304",
          "['Muffin, NONE'] => ['Coffee'], Lift: 1.3030350832912672",
          "['Muffin, Cake, Tea'] => ['Coffee'], Lift: 1.403268551236749",
          "['NONE, Brownie'] => ['Coffee'], Lift: 1.2812451989552927",
          "['Cookies, Brownie'] => ['Coffee'], Lift: 1.315564266784452",
          "['Cookies, Brownie'] => ['Coffee'], Lift: 1.315564266784452",
          "['Sandwich, Brownie'] => ['Coffee'], Lift: 1.3394836170896243",
          "['Cookies, Hot chocolate'] => ['Coffee'], Lift: 1.2924841919285848",
          "['Cookies, Medialuna'] => ['Coffee'], Lift: 1.403268551236749",
          "['Cookies, Medialuna'] => ['Coffee'], Lift: 1.403268551236749",
          "['Cookies, Pastry'] => ['Coffee'], Lift: 1.2779767163048965",
          "['Cookies, Pastry'] => ['Coffee'], Lift: 1.2779767163048965",
          "['Cookies, NONE'] => ['Coffee'], Lift: 1.5591872791519437",
          "['Cookies, NONE'] => ['Coffee'], Lift: 1.5591872791519437",
          "['Cookies, Sandwich, Hot chocolate'] => ['Coffee'], Lift: 1.8042024230186773",
          "['Cookies, Tea, Sandwich'] => ['Coffee'], Lift: 1.5786771201413428",
          "['Cookies, Hot chocolate'] => ['Coffee'], Lift: 1.2924841919285848",
          "['Cookies, Hot chocolate'] => ['Coffee'], Lift: 1.2924841919285848",
          "['Cookies, Hot chocolate'] => ['Coffee'], Lift: 1.2924841919285848",
          "['NONE, Hot chocolate, Medialuna'] => ['Coffee'], Lift: 1.913548024413749",
          "['Hot chocolate, Medialuna'] => ['Coffee'], Lift: 1.3564929328621906",
          "['Hot chocolate, Medialuna'] => ['Coffee'], Lift: 1.3564929328621906",
          "['Pastry, Bread, Hot chocolate'] => ['Coffee'], Lift: 1.4032685512367493",
          "['Pastry, Hot chocolate'] => ['Coffee'], Lift: 1.403268551236749",
          "['Pastry, Hot chocolate'] => ['Coffee'], Lift: 1.403268551236749",
          "['NONE, Hot chocolate'] => ['Coffee'], Lift: 1.3064914097721458",
          "['Cake, Hot chocolate'] => ['Coffee'], Lift: 1.266839664310954",
          "['Cake, Hot chocolate'] => ['Coffee'], Lift: 1.266839664310954",
          "['Medialuna, Sandwich'] => ['Coffee'], Lift: 1.3681868374558304",
          "['Cake, Medialuna, Tea'] => ['Coffee'], Lift: 1.403268551236749",
          "['Cake, Medialuna'] => ['Coffee'], Lift: 1.4433619384149419",
          "['Cake, Medialuna'] => ['Coffee'], Lift: 1.4433619384149419",
          "['NONE, Medialuna'] => ['Coffee'], Lift: 1.4401966710061374",
          "['Pastry, Sandwich'] => ['Coffee'], Lift: 1.7221932219723741",
          "['Cake, Sandwich, Tea'] => ['Coffee'], Lift: 1.5035020191822313",
          "['Cake, Sandwich'] => ['Coffee'], Lift: 1.424857298178853",
          "['Cake, Sandwich'] => ['Coffee'], Lift: 1.424857298178853",
          "['Cake, Sandwich'] => ['Coffee'], Lift: 1.424857298178853",
          "['Cake, Sandwich'] => ['Coffee'], Lift: 1.424857298178853",
          "['Pastry, NONE'] => ['Coffee'], Lift: 1.3394836170896243",
          "['Pastry, NONE'] => ['Coffee'], Lift: 1.3394836170896243",
          "['NONE, Cake'] => ['Coffee'], Lift: 1.403268551236749",
          "['NONE, Cake'] => ['Coffee'], Lift: 1.403268551236749"
         ],
         "x": [
          9.442870632672333E-4,
          0.0017836533417269962,
          9.442870632672333E-4,
          0.0027279404049942294,
          0.0027279404049942294,
          7.344454936522926E-4,
          0.0014688909873045851,
          0.0013639702024971147,
          0.003252544329031581,
          0.003252544329031581,
          0.0012590494176896443,
          0.0030427027594166402,
          0.0030427027594166402,
          0.0010492078480747037,
          9.442870632672333E-4,
          0.001154128632882174,
          0.0053509600251809885,
          0.0010492078480747037,
          8.393662784597629E-4,
          0.0010492078480747037,
          0.0015738117721120553,
          0.006505088658063162,
          0.006505088658063162,
          0.0012590494176896443,
          0.0013639702024971147,
          9.442870632672333E-4,
          6.295247088448222E-4,
          6.295247088448222E-4,
          0.0015738117721120553,
          7.344454936522926E-4,
          7.344454936522926E-4,
          7.344454936522926E-4,
          0.0012590494176896443,
          0.001993494911341937,
          0.002413178050571818,
          0.0013639702024971147,
          0.001154128632882174,
          0.0015738117721120553,
          0.0015738117721120553,
          0.0028328611898017,
          0.0028328611898017,
          0.023502255796873362,
          0.023502255796873362,
          0.023502255796873362,
          0.0015738117721120553,
          0.0015738117721120553,
          0.0012590494176896443,
          0.0017836533417269962,
          0.0010492078480747037,
          0.0035673066834539923,
          0.0035673066834539923,
          9.442870632672333E-4,
          0.0017836533417269962,
          7.344454936522926E-4,
          0.0036722274682614627,
          0.0036722274682614627,
          0.004091910607491344,
          0.004091910607491344,
          5.246039240373518E-4,
          0.001154128632882174,
          0.001154128632882174,
          3.147623544224111E-4,
          0.0015738117721120553,
          5.246039240373518E-4,
          0.0013639702024971147,
          0.0013639702024971147,
          8.393662784597629E-4,
          0.0014688909873045851,
          0.0015738117721120553,
          0.0015738117721120553,
          0.0014688909873045851,
          0.0036722274682614627,
          0.0016787325569195257,
          0.0016787325569195257,
          0.0017836533417269962,
          0.0017836533417269962,
          0.0020984156961494074,
          0.0020984156961494074,
          6.295247088448222E-4,
          6.295247088448222E-4,
          0.0036722274682614627,
          0.0036722274682614627,
          0.0036722274682614627,
          0.0010492078480747037,
          0.0030427027594166402,
          0.0030427027594166402,
          0.0010492078480747037,
          0.003777148253068933,
          0.003777148253068933,
          0.003777148253068933,
          0.006819851012485573,
          0.006819851012485573,
          0.0013639702024971147,
          8.393662784597629E-4,
          0.0025180988353792886,
          0.0025180988353792886,
          0.0027279404049942294,
          9.442870632672333E-4,
          0.0010492078480747037,
          0.004616514531528696,
          0.004616514531528696,
          0.004616514531528696,
          0.004616514531528696,
          0.0029377819746091703,
          0.0029377819746091703,
          0.0033574651138390515,
          0.0033574651138390515
         ],
         "y": [
          0.8181818181818182,
          0.6071428571428571,
          0.8181818181818182,
          0.6842105263157895,
          0.6842105263157895,
          0.7,
          0.875,
          0.7647058823529411,
          0.8157894736842105,
          0.8157894736842105,
          0.9230769230769231,
          0.6304347826086957,
          0.6041666666666666,
          0.8333333333333334,
          0.75,
          0.6470588235294118,
          0.8095238095238095,
          0.6666666666666666,
          0.6666666666666666,
          0.7692307692307693,
          0.8333333333333334,
          0.6262626262626263,
          0.6262626262626263,
          0.8571428571428571,
          0.65,
          0.75,
          0.6666666666666666,
          0.6666666666666666,
          0.6818181818181818,
          0.7,
          0.7,
          0.7,
          0.6666666666666666,
          0.7307692307692307,
          0.6764705882352942,
          0.8666666666666667,
          0.6111111111111112,
          0.6818181818181818,
          0.7142857142857143,
          0.75,
          0.75,
          0.7044025157232704,
          0.7044025157232704,
          0.7044025157232704,
          0.7894736842105263,
          0.8333333333333334,
          0.631578947368421,
          0.6071428571428571,
          0.625,
          0.6538461538461539,
          0.6538461538461539,
          0.8181818181818182,
          0.7727272727272727,
          0.7,
          0.603448275862069,
          0.603448275862069,
          0.6610169491525424,
          0.6610169491525424,
          0.625,
          0.6111111111111112,
          0.6111111111111112,
          0.75,
          0.6521739130434783,
          0.7142857142857143,
          0.65,
          0.6190476190476191,
          0.6666666666666666,
          0.6086956521739131,
          0.625,
          0.625,
          0.6363636363636364,
          0.6140350877192983,
          0.6666666666666666,
          0.6666666666666666,
          0.6071428571428571,
          0.6071428571428571,
          0.7407407407407407,
          0.7407407407407407,
          0.8571428571428571,
          0.75,
          0.6140350877192983,
          0.6140350877192983,
          0.6140350877192983,
          0.9090909090909091,
          0.6444444444444445,
          0.6444444444444445,
          0.6666666666666666,
          0.6666666666666666,
          0.6666666666666666,
          0.6206896551724138,
          0.6018518518518519,
          0.6018518518518519,
          0.65,
          0.6666666666666666,
          0.6857142857142857,
          0.6857142857142857,
          0.6842105263157895,
          0.8181818181818182,
          0.7142857142857143,
          0.676923076923077,
          0.676923076923077,
          0.676923076923077,
          0.676923076923077,
          0.6363636363636364,
          0.6363636363636364,
          0.6666666666666666,
          0.6666666666666666
         ],
         "type": "scatter"
        }
       ],
       "layout": {
        "template": {
         "data": {
          "histogram2dcontour": [
           {
            "type": "histogram2dcontour",
            "colorbar": {
             "outlinewidth": 0,
             "ticks": ""
            },
            "colorscale": [
             [
              0.0,
              "#0d0887"
             ],
             [
              0.1111111111111111,
              "#46039f"
             ],
             [
              0.2222222222222222,
              "#7201a8"
             ],
             [
              0.3333333333333333,
              "#9c179e"
             ],
             [
              0.4444444444444444,
              "#bd3786"
             ],
             [
              0.5555555555555556,
              "#d8576b"
             ],
             [
              0.6666666666666666,
              "#ed7953"
             ],
             [
              0.7777777777777778,
              "#fb9f3a"
             ],
             [
              0.8888888888888888,
              "#fdca26"
             ],
             [
              1.0,
              "#f0f921"
             ]
            ]
           }
          ],
          "choropleth": [
           {
            "type": "choropleth",
            "colorbar": {
             "outlinewidth": 0,
             "ticks": ""
            }
           }
          ],
          "histogram2d": [
           {
            "type": "histogram2d",
            "colorbar": {
             "outlinewidth": 0,
             "ticks": ""
            },
            "colorscale": [
             [
              0.0,
              "#0d0887"
             ],
             [
              0.1111111111111111,
              "#46039f"
             ],
             [
              0.2222222222222222,
              "#7201a8"
             ],
             [
              0.3333333333333333,
              "#9c179e"
             ],
             [
              0.4444444444444444,
              "#bd3786"
             ],
             [
              0.5555555555555556,
              "#d8576b"
             ],
             [
              0.6666666666666666,
              "#ed7953"
             ],
             [
              0.7777777777777778,
              "#fb9f3a"
             ],
             [
              0.8888888888888888,
              "#fdca26"
             ],
             [
              1.0,
              "#f0f921"
             ]
            ]
           }
          ],
          "heatmap": [
           {
            "type": "heatmap",
            "colorbar": {
             "outlinewidth": 0,
             "ticks": ""
            },
            "colorscale": [
             [
              0.0,
              "#0d0887"
             ],
             [
              0.1111111111111111,
              "#46039f"
             ],
             [
              0.2222222222222222,
              "#7201a8"
             ],
             [
              0.3333333333333333,
              "#9c179e"
             ],
             [
              0.4444444444444444,
              "#bd3786"
             ],
             [
              0.5555555555555556,
              "#d8576b"
             ],
             [
              0.6666666666666666,
              "#ed7953"
             ],
             [
              0.7777777777777778,
              "#fb9f3a"
             ],
             [
              0.8888888888888888,
              "#fdca26"
             ],
             [
              1.0,
              "#f0f921"
             ]
            ]
           }
          ],
          "heatmapgl": [
           {
            "type": "heatmapgl",
            "colorbar": {
             "outlinewidth": 0,
             "ticks": ""
            },
            "colorscale": [
             [
              0.0,
              "#0d0887"
             ],
             [
              0.1111111111111111,
              "#46039f"
             ],
             [
              0.2222222222222222,
              "#7201a8"
             ],
             [
              0.3333333333333333,
              "#9c179e"
             ],
             [
              0.4444444444444444,
              "#bd3786"
             ],
             [
              0.5555555555555556,
              "#d8576b"
             ],
             [
              0.6666666666666666,
              "#ed7953"
             ],
             [
              0.7777777777777778,
              "#fb9f3a"
             ],
             [
              0.8888888888888888,
              "#fdca26"
             ],
             [
              1.0,
              "#f0f921"
             ]
            ]
           }
          ],
          "contourcarpet": [
           {
            "type": "contourcarpet",
            "colorbar": {
             "outlinewidth": 0,
             "ticks": ""
            }
           }
          ],
          "contour": [
           {
            "type": "contour",
            "colorbar": {
             "outlinewidth": 0,
             "ticks": ""
            },
            "colorscale": [
             [
              0.0,
              "#0d0887"
             ],
             [
              0.1111111111111111,
              "#46039f"
             ],
             [
              0.2222222222222222,
              "#7201a8"
             ],
             [
              0.3333333333333333,
              "#9c179e"
             ],
             [
              0.4444444444444444,
              "#bd3786"
             ],
             [
              0.5555555555555556,
              "#d8576b"
             ],
             [
              0.6666666666666666,
              "#ed7953"
             ],
             [
              0.7777777777777778,
              "#fb9f3a"
             ],
             [
              0.8888888888888888,
              "#fdca26"
             ],
             [
              1.0,
              "#f0f921"
             ]
            ]
           }
          ],
          "surface": [
           {
            "type": "surface",
            "colorbar": {
             "outlinewidth": 0,
             "ticks": ""
            },
            "colorscale": [
             [
              0.0,
              "#0d0887"
             ],
             [
              0.1111111111111111,
              "#46039f"
             ],
             [
              0.2222222222222222,
              "#7201a8"
             ],
             [
              0.3333333333333333,
              "#9c179e"
             ],
             [
              0.4444444444444444,
              "#bd3786"
             ],
             [
              0.5555555555555556,
              "#d8576b"
             ],
             [
              0.6666666666666666,
              "#ed7953"
             ],
             [
              0.7777777777777778,
              "#fb9f3a"
             ],
             [
              0.8888888888888888,
              "#fdca26"
             ],
             [
              1.0,
              "#f0f921"
             ]
            ]
           }
          ],
          "mesh3d": [
           {
            "type": "mesh3d",
            "colorbar": {
             "outlinewidth": 0,
             "ticks": ""
            }
           }
          ],
          "scatter": [
           {
            "fillpattern": {
             "fillmode": "overlay",
             "size": 10,
             "solidity": 0.2
            },
            "type": "scatter"
           }
          ],
          "parcoords": [
           {
            "type": "parcoords",
            "line": {
             "colorbar": {
              "outlinewidth": 0,
              "ticks": ""
             }
            }
           }
          ],
          "scatterpolargl": [
           {
            "type": "scatterpolargl",
            "marker": {
             "colorbar": {
              "outlinewidth": 0,
              "ticks": ""
             }
            }
           }
          ],
          "bar": [
           {
            "error_x": {
             "color": "#2a3f5f"
            },
            "error_y": {
             "color": "#2a3f5f"
            },
            "marker": {
             "line": {
              "color": "#E5ECF6",
              "width": 0.5
             },
             "pattern": {
              "fillmode": "overlay",
              "size": 10,
              "solidity": 0.2
             }
            },
            "type": "bar"
           }
          ],
          "scattergeo": [
           {
            "type": "scattergeo",
            "marker": {
             "colorbar": {
              "outlinewidth": 0,
              "ticks": ""
             }
            }
           }
          ],
          "scatterpolar": [
           {
            "type": "scatterpolar",
            "marker": {
             "colorbar": {
              "outlinewidth": 0,
              "ticks": ""
             }
            }
           }
          ],
          "histogram": [
           {
            "marker": {
             "pattern": {
              "fillmode": "overlay",
              "size": 10,
              "solidity": 0.2
             }
            },
            "type": "histogram"
           }
          ],
          "scattergl": [
           {
            "type": "scattergl",
            "marker": {
             "colorbar": {
              "outlinewidth": 0,
              "ticks": ""
             }
            }
           }
          ],
          "scatter3d": [
           {
            "type": "scatter3d",
            "line": {
             "colorbar": {
              "outlinewidth": 0,
              "ticks": ""
             }
            },
            "marker": {
             "colorbar": {
              "outlinewidth": 0,
              "ticks": ""
             }
            }
           }
          ],
          "scattermapbox": [
           {
            "type": "scattermapbox",
            "marker": {
             "colorbar": {
              "outlinewidth": 0,
              "ticks": ""
             }
            }
           }
          ],
          "scatterternary": [
           {
            "type": "scatterternary",
            "marker": {
             "colorbar": {
              "outlinewidth": 0,
              "ticks": ""
             }
            }
           }
          ],
          "scattercarpet": [
           {
            "type": "scattercarpet",
            "marker": {
             "colorbar": {
              "outlinewidth": 0,
              "ticks": ""
             }
            }
           }
          ],
          "carpet": [
           {
            "aaxis": {
             "endlinecolor": "#2a3f5f",
             "gridcolor": "white",
             "linecolor": "white",
             "minorgridcolor": "white",
             "startlinecolor": "#2a3f5f"
            },
            "baxis": {
             "endlinecolor": "#2a3f5f",
             "gridcolor": "white",
             "linecolor": "white",
             "minorgridcolor": "white",
             "startlinecolor": "#2a3f5f"
            },
            "type": "carpet"
           }
          ],
          "table": [
           {
            "cells": {
             "fill": {
              "color": "#EBF0F8"
             },
             "line": {
              "color": "white"
             }
            },
            "header": {
             "fill": {
              "color": "#C8D4E3"
             },
             "line": {
              "color": "white"
             }
            },
            "type": "table"
           }
          ],
          "barpolar": [
           {
            "marker": {
             "line": {
              "color": "#E5ECF6",
              "width": 0.5
             },
             "pattern": {
              "fillmode": "overlay",
              "size": 10,
              "solidity": 0.2
             }
            },
            "type": "barpolar"
           }
          ],
          "pie": [
           {
            "automargin": true,
            "type": "pie"
           }
          ]
         },
         "layout": {
          "autotypenumbers": "strict",
          "colorway": [
           "#636efa",
           "#EF553B",
           "#00cc96",
           "#ab63fa",
           "#FFA15A",
           "#19d3f3",
           "#FF6692",
           "#B6E880",
           "#FF97FF",
           "#FECB52"
          ],
          "font": {
           "color": "#2a3f5f"
          },
          "hovermode": "closest",
          "hoverlabel": {
           "align": "left"
          },
          "paper_bgcolor": "white",
          "plot_bgcolor": "#E5ECF6",
          "polar": {
           "bgcolor": "#E5ECF6",
           "angularaxis": {
            "gridcolor": "white",
            "linecolor": "white",
            "ticks": ""
           },
           "radialaxis": {
            "gridcolor": "white",
            "linecolor": "white",
            "ticks": ""
           }
          },
          "ternary": {
           "bgcolor": "#E5ECF6",
           "aaxis": {
            "gridcolor": "white",
            "linecolor": "white",
            "ticks": ""
           },
           "baxis": {
            "gridcolor": "white",
            "linecolor": "white",
            "ticks": ""
           },
           "caxis": {
            "gridcolor": "white",
            "linecolor": "white",
            "ticks": ""
           }
          },
          "coloraxis": {
           "colorbar": {
            "outlinewidth": 0,
            "ticks": ""
           }
          },
          "colorscale": {
           "sequential": [
            [
             0.0,
             "#0d0887"
            ],
            [
             0.1111111111111111,
             "#46039f"
            ],
            [
             0.2222222222222222,
             "#7201a8"
            ],
            [
             0.3333333333333333,
             "#9c179e"
            ],
            [
             0.4444444444444444,
             "#bd3786"
            ],
            [
             0.5555555555555556,
             "#d8576b"
            ],
            [
             0.6666666666666666,
             "#ed7953"
            ],
            [
             0.7777777777777778,
             "#fb9f3a"
            ],
            [
             0.8888888888888888,
             "#fdca26"
            ],
            [
             1.0,
             "#f0f921"
            ]
           ],
           "sequentialminus": [
            [
             0.0,
             "#0d0887"
            ],
            [
             0.1111111111111111,
             "#46039f"
            ],
            [
             0.2222222222222222,
             "#7201a8"
            ],
            [
             0.3333333333333333,
             "#9c179e"
            ],
            [
             0.4444444444444444,
             "#bd3786"
            ],
            [
             0.5555555555555556,
             "#d8576b"
            ],
            [
             0.6666666666666666,
             "#ed7953"
            ],
            [
             0.7777777777777778,
             "#fb9f3a"
            ],
            [
             0.8888888888888888,
             "#fdca26"
            ],
            [
             1.0,
             "#f0f921"
            ]
           ],
           "diverging": [
            [
             0,
             "#8e0152"
            ],
            [
             0.1,
             "#c51b7d"
            ],
            [
             0.2,
             "#de77ae"
            ],
            [
             0.3,
             "#f1b6da"
            ],
            [
             0.4,
             "#fde0ef"
            ],
            [
             0.5,
             "#f7f7f7"
            ],
            [
             0.6,
             "#e6f5d0"
            ],
            [
             0.7,
             "#b8e186"
            ],
            [
             0.8,
             "#7fbc41"
            ],
            [
             0.9,
             "#4d9221"
            ],
            [
             1,
             "#276419"
            ]
           ]
          },
          "xaxis": {
           "gridcolor": "white",
           "linecolor": "white",
           "ticks": "",
           "title": {
            "standoff": 15
           },
           "zerolinecolor": "white",
           "automargin": true,
           "zerolinewidth": 2
          },
          "yaxis": {
           "gridcolor": "white",
           "linecolor": "white",
           "ticks": "",
           "title": {
            "standoff": 15
           },
           "zerolinecolor": "white",
           "automargin": true,
           "zerolinewidth": 2
          },
          "scene": {
           "xaxis": {
            "backgroundcolor": "#E5ECF6",
            "gridcolor": "white",
            "linecolor": "white",
            "showbackground": true,
            "ticks": "",
            "zerolinecolor": "white",
            "gridwidth": 2
           },
           "yaxis": {
            "backgroundcolor": "#E5ECF6",
            "gridcolor": "white",
            "linecolor": "white",
            "showbackground": true,
            "ticks": "",
            "zerolinecolor": "white",
            "gridwidth": 2
           },
           "zaxis": {
            "backgroundcolor": "#E5ECF6",
            "gridcolor": "white",
            "linecolor": "white",
            "showbackground": true,
            "ticks": "",
            "zerolinecolor": "white",
            "gridwidth": 2
           }
          },
          "shapedefaults": {
           "line": {
            "color": "#2a3f5f"
           }
          },
          "annotationdefaults": {
           "arrowcolor": "#2a3f5f",
           "arrowhead": 0,
           "arrowwidth": 1
          },
          "geo": {
           "bgcolor": "white",
           "landcolor": "#E5ECF6",
           "subunitcolor": "white",
           "showland": true,
           "showlakes": true,
           "lakecolor": "white"
          },
          "title": {
           "x": 0.05
          },
          "mapbox": {
           "style": "light"
          }
         }
        },
        "xaxis": {
         "title": {
          "text": "Support"
         },
         "autorange": "reversed"
        },
        "title": {
         "text": "Association Rules Strength Distribution"
        },
        "yaxis": {
         "title": {
          "text": "Confidence"
         }
        }
       },
       "config": {
        "plotlyServerURL": "https://plot.ly"
       }
      },
      "text/html": [
       "<div>                            <div id=\"e788054d-7601-44d8-8166-5ae19b0bd590\" class=\"plotly-graph-div\" style=\"height:525px; width:100%;\"></div>            <script type=\"text/javascript\">                require([\"plotly\"], function(Plotly) {                    window.PLOTLYENV=window.PLOTLYENV || {};                                    if (document.getElementById(\"e788054d-7601-44d8-8166-5ae19b0bd590\")) {                    Plotly.newPlot(                        \"e788054d-7601-44d8-8166-5ae19b0bd590\",                        [{\"marker\":{\"color\":[1.7221932219723741,1.2779767163048965,1.7221932219723741,1.4401966710061374,1.4401966710061374,1.4734319787985866,1.8417899734982335,1.6096315734774476,1.7171575692765482,1.7171575692765482,1.942987224789345,1.3270039560608387,1.2717121245583036,1.7540856890459364,1.5786771201413428,1.3619959467886094,1.7039689550731953,1.4032685512367493,1.403268551236749,1.6191560206577875,1.7540856890459364,1.3182219723739157,1.3182219723739157,1.8042024230186773,1.3681868374558304,1.5786771201413428,1.403268551236749,1.403268551236749,1.4351610183103116,4.942,1.4734319787985866,1.4734319787985866,1.403268551236749,1.5381982196248982,1.423904853460819,1.824249116607774,1.2863295053003534,1.4351610183103116,1.5035020191822313,1.578677120141343,1.578677120141343,1.4826988465897728,1.4826988465897728,1.4826988465897728,1.661765389622466,1.7540856890459364,1.3294123116979728,1.2779767163048965,1.3155642667844525,1.3762826175591194,1.3762826175591194,1.7221932219723741,1.6265158207516865,1.4734319787985866,1.2701999817229195,1.2701999817229195,1.391376444870336,1.391376444870336,1.3155642667844525,1.2863295053003534,1.2863295053003534,1.5786771201413428,1.3727627131663849,1.5035020191822313,1.3681868374558304,1.3030350832912672,1.403268551236749,1.2812451989552927,1.315564266784452,1.315564266784452,1.3394836170896243,1.2924841919285848,1.403268551236749,1.403268551236749,1.2779767163048965,1.2779767163048965,1.5591872791519437,1.5591872791519437,1.8042024230186773,1.5786771201413428,1.2924841919285848,1.2924841919285848,1.2924841919285848,1.913548024413749,1.3564929328621906,1.3564929328621906,1.4032685512367493,1.403268551236749,1.403268551236749,1.3064914097721458,1.266839664310954,1.266839664310954,1.3681868374558304,1.403268551236749,1.4433619384149419,1.4433619384149419,1.4401966710061374,1.7221932219723741,1.5035020191822313,1.424857298178853,1.424857298178853,1.424857298178853,1.424857298178853,1.3394836170896243,1.3394836170896243,1.403268551236749,1.403268551236749],\"colorbar\":{\"title\":{\"text\":\"Lift\"}},\"colorscale\":[[0.0,\"rgb(243, 224, 247)\"],[0.16666666666666666,\"rgb(228, 199, 241)\"],[0.3333333333333333,\"rgb(209, 175, 232)\"],[0.5,\"rgb(185, 152, 221)\"],[0.6666666666666666,\"rgb(159, 130, 206)\"],[0.8333333333333334,\"rgb(130, 109, 186)\"],[1.0,\"rgb(99, 88, 159)\"]]},\"mode\":\"markers\",\"text\":[\"['Mighty Protein'] =\\u003e ['Coffee'], Lift: 1.7221932219723741\",\"['Granola'] =\\u003e ['Coffee'], Lift: 1.2779767163048965\",\"['NONE, Art Tray'] =\\u003e ['Coffee'], Lift: 1.7221932219723741\",\"['Art Tray'] =\\u003e ['Coffee'], Lift: 1.4401966710061374\",\"['Art Tray'] =\\u003e ['Coffee'], Lift: 1.4401966710061374\",\"['Bread, Extra Salami or Feta'] =\\u003e ['Coffee'], Lift: 1.4734319787985866\",\"['Salad, Extra Salami or Feta'] =\\u003e ['Coffee'], Lift: 1.8417899734982335\",\"['NONE, Extra Salami or Feta'] =\\u003e ['Coffee'], Lift: 1.6096315734774476\",\"['Extra Salami or Feta'] =\\u003e ['Coffee'], Lift: 1.7171575692765482\",\"['Extra Salami or Feta'] =\\u003e ['Coffee'], Lift: 1.7171575692765482\",\"['Tartine, NONE'] =\\u003e ['Coffee'], Lift: 1.942987224789345\",\"['Tartine'] =\\u003e ['Coffee'], Lift: 1.3270039560608387\",\"['Bakewell'] =\\u003e ['Coffee'], Lift: 1.2717121245583036\",\"['Vegan mincepie, Cake'] =\\u003e ['Coffee'], Lift: 1.7540856890459364\",\"['NONE, The Nomad'] =\\u003e ['Coffee'], Lift: 1.5786771201413428\",\"['Keeping It Local, Tea'] =\\u003e ['Coffee'], Lift: 1.3619959467886094\",\"['Keeping It Local'] =\\u003e ['Coffee'], Lift: 1.7039689550731953\",\"['Smoothies, Cake'] =\\u003e ['Coffee'], Lift: 1.4032685512367493\",\"['Salad, Spanish Brunch'] =\\u003e ['Coffee'], Lift: 1.403268551236749\",\"['Salad, Cake'] =\\u003e ['Coffee'], Lift: 1.6191560206577875\",\"['Salad, Sandwich'] =\\u003e ['Coffee'], Lift: 1.7540856890459364\",\"['Salad'] =\\u003e ['Coffee'], Lift: 1.3182219723739157\",\"['Salad'] =\\u003e ['Coffee'], Lift: 1.3182219723739157\",\"['Sandwich, Hearty & Seasonal'] =\\u003e ['Coffee'], Lift: 1.8042024230186773\",\"['Juice, Jammie Dodgers'] =\\u003e ['Coffee'], Lift: 1.3681868374558304\",\"['Mineral water, Alfajores'] =\\u003e ['Coffee'], Lift: 1.5786771201413428\",\"['Tiffin, Sandwich'] =\\u003e ['Coffee'], Lift: 1.403268551236749\",\"['Tiffin, Sandwich'] =\\u003e ['Coffee'], Lift: 1.403268551236749\",\"['Tiffin, Cake'] =\\u003e ['Coffee'], Lift: 1.4351610183103116\",\"['Alfajores, Spanish Brunch'] =\\u003e ['Tea'], Lift: 4.942\",\"['Toast, Spanish Brunch'] =\\u003e ['Coffee'], Lift: 1.4734319787985866\",\"['Soup, Spanish Brunch'] =\\u003e ['Coffee'], Lift: 1.4734319787985866\",\"['Sandwich, Spanish Brunch'] =\\u003e ['Coffee'], Lift: 1.403268551236749\",\"['Juice, Spanish Brunch'] =\\u003e ['Coffee'], Lift: 1.5381982196248982\",\"['NONE, Spanish Brunch'] =\\u003e ['Coffee'], Lift: 1.423904853460819\",\"['Pastry, Toast'] =\\u003e ['Coffee'], Lift: 1.824249116607774\",\"['Medialuna, Toast'] =\\u003e ['Coffee'], Lift: 1.2863295053003534\",\"['Juice, Toast'] =\\u003e ['Coffee'], Lift: 1.4351610183103116\",\"['Cake, Toast'] =\\u003e ['Coffee'], Lift: 1.5035020191822313\",\"['NONE, Toast'] =\\u003e ['Coffee'], Lift: 1.578677120141343\",\"['NONE, Toast'] =\\u003e ['Coffee'], Lift: 1.578677120141343\",\"['Toast'] =\\u003e ['Coffee'], Lift: 1.4826988465897728\",\"['Toast'] =\\u003e ['Coffee'], Lift: 1.4826988465897728\",\"['Toast'] =\\u003e ['Coffee'], Lift: 1.4826988465897728\",\"['Cookies, Scone'] =\\u003e ['Coffee'], Lift: 1.661765389622466\",\"['Scone, NONE'] =\\u003e ['Coffee'], Lift: 1.7540856890459364\",\"['Scone, Juice'] =\\u003e ['Coffee'], Lift: 1.3294123116979728\",\"['Scone, Hot chocolate'] =\\u003e ['Coffee'], Lift: 1.2779767163048965\",\"['Soup, NONE'] =\\u003e ['Coffee'], Lift: 1.3155642667844525\",\"['Soup, Sandwich'] =\\u003e ['Coffee'], Lift: 1.3762826175591194\",\"['Soup, Sandwich'] =\\u003e ['Coffee'], Lift: 1.3762826175591194\",\"['Soup, Cake, Sandwich'] =\\u003e ['Coffee'], Lift: 1.7221932219723741\",\"['Juice, Pastry'] =\\u003e ['Coffee'], Lift: 1.6265158207516865\",\"['Cookies, Juice, Cake'] =\\u003e ['Coffee'], Lift: 1.4734319787985866\",\"['Cookies, Juice'] =\\u003e ['Coffee'], Lift: 1.2701999817229195\",\"['Cookies, Juice'] =\\u003e ['Coffee'], Lift: 1.2701999817229195\",\"['Juice, NONE'] =\\u003e ['Coffee'], Lift: 1.391376444870336\",\"['Juice, NONE'] =\\u003e ['Coffee'], Lift: 1.391376444870336\",\"['Juice, Cake, Sandwich'] =\\u003e ['Coffee'], Lift: 1.3155642667844525\",\"['NONE, Alfajores'] =\\u003e ['Coffee'], Lift: 1.2863295053003534\",\"['NONE, Alfajores'] =\\u003e ['Coffee'], Lift: 1.2863295053003534\",\"['Cookies, Sandwich, Alfajores'] =\\u003e ['Coffee'], Lift: 1.5786771201413428\",\"['Cookies, Alfajores'] =\\u003e ['Coffee'], Lift: 1.3727627131663849\",\"['Pastry, Bread, Alfajores'] =\\u003e ['Coffee'], Lift: 1.5035020191822313\",\"['Muffin, Sandwich'] =\\u003e ['Coffee'], Lift: 1.3681868374558304\",\"['Muffin, NONE'] =\\u003e ['Coffee'], Lift: 1.3030350832912672\",\"['Muffin, Cake, Tea'] =\\u003e ['Coffee'], Lift: 1.403268551236749\",\"['NONE, Brownie'] =\\u003e ['Coffee'], Lift: 1.2812451989552927\",\"['Cookies, Brownie'] =\\u003e ['Coffee'], Lift: 1.315564266784452\",\"['Cookies, Brownie'] =\\u003e ['Coffee'], Lift: 1.315564266784452\",\"['Sandwich, Brownie'] =\\u003e ['Coffee'], Lift: 1.3394836170896243\",\"['Cookies, Hot chocolate'] =\\u003e ['Coffee'], Lift: 1.2924841919285848\",\"['Cookies, Medialuna'] =\\u003e ['Coffee'], Lift: 1.403268551236749\",\"['Cookies, Medialuna'] =\\u003e ['Coffee'], Lift: 1.403268551236749\",\"['Cookies, Pastry'] =\\u003e ['Coffee'], Lift: 1.2779767163048965\",\"['Cookies, Pastry'] =\\u003e ['Coffee'], Lift: 1.2779767163048965\",\"['Cookies, NONE'] =\\u003e ['Coffee'], Lift: 1.5591872791519437\",\"['Cookies, NONE'] =\\u003e ['Coffee'], Lift: 1.5591872791519437\",\"['Cookies, Sandwich, Hot chocolate'] =\\u003e ['Coffee'], Lift: 1.8042024230186773\",\"['Cookies, Tea, Sandwich'] =\\u003e ['Coffee'], Lift: 1.5786771201413428\",\"['Cookies, Hot chocolate'] =\\u003e ['Coffee'], Lift: 1.2924841919285848\",\"['Cookies, Hot chocolate'] =\\u003e ['Coffee'], Lift: 1.2924841919285848\",\"['Cookies, Hot chocolate'] =\\u003e ['Coffee'], Lift: 1.2924841919285848\",\"['NONE, Hot chocolate, Medialuna'] =\\u003e ['Coffee'], Lift: 1.913548024413749\",\"['Hot chocolate, Medialuna'] =\\u003e ['Coffee'], Lift: 1.3564929328621906\",\"['Hot chocolate, Medialuna'] =\\u003e ['Coffee'], Lift: 1.3564929328621906\",\"['Pastry, Bread, Hot chocolate'] =\\u003e ['Coffee'], Lift: 1.4032685512367493\",\"['Pastry, Hot chocolate'] =\\u003e ['Coffee'], Lift: 1.403268551236749\",\"['Pastry, Hot chocolate'] =\\u003e ['Coffee'], Lift: 1.403268551236749\",\"['NONE, Hot chocolate'] =\\u003e ['Coffee'], Lift: 1.3064914097721458\",\"['Cake, Hot chocolate'] =\\u003e ['Coffee'], Lift: 1.266839664310954\",\"['Cake, Hot chocolate'] =\\u003e ['Coffee'], Lift: 1.266839664310954\",\"['Medialuna, Sandwich'] =\\u003e ['Coffee'], Lift: 1.3681868374558304\",\"['Cake, Medialuna, Tea'] =\\u003e ['Coffee'], Lift: 1.403268551236749\",\"['Cake, Medialuna'] =\\u003e ['Coffee'], Lift: 1.4433619384149419\",\"['Cake, Medialuna'] =\\u003e ['Coffee'], Lift: 1.4433619384149419\",\"['NONE, Medialuna'] =\\u003e ['Coffee'], Lift: 1.4401966710061374\",\"['Pastry, Sandwich'] =\\u003e ['Coffee'], Lift: 1.7221932219723741\",\"['Cake, Sandwich, Tea'] =\\u003e ['Coffee'], Lift: 1.5035020191822313\",\"['Cake, Sandwich'] =\\u003e ['Coffee'], Lift: 1.424857298178853\",\"['Cake, Sandwich'] =\\u003e ['Coffee'], Lift: 1.424857298178853\",\"['Cake, Sandwich'] =\\u003e ['Coffee'], Lift: 1.424857298178853\",\"['Cake, Sandwich'] =\\u003e ['Coffee'], Lift: 1.424857298178853\",\"['Pastry, NONE'] =\\u003e ['Coffee'], Lift: 1.3394836170896243\",\"['Pastry, NONE'] =\\u003e ['Coffee'], Lift: 1.3394836170896243\",\"['NONE, Cake'] =\\u003e ['Coffee'], Lift: 1.403268551236749\",\"['NONE, Cake'] =\\u003e ['Coffee'], Lift: 1.403268551236749\"],\"x\":[0.0009442870632672333,0.0017836533417269962,0.0009442870632672333,0.0027279404049942294,0.0027279404049942294,0.0007344454936522926,0.0014688909873045851,0.0013639702024971147,0.003252544329031581,0.003252544329031581,0.0012590494176896443,0.0030427027594166402,0.0030427027594166402,0.0010492078480747037,0.0009442870632672333,0.001154128632882174,0.0053509600251809885,0.0010492078480747037,0.0008393662784597629,0.0010492078480747037,0.0015738117721120553,0.006505088658063162,0.006505088658063162,0.0012590494176896443,0.0013639702024971147,0.0009442870632672333,0.0006295247088448222,0.0006295247088448222,0.0015738117721120553,0.0007344454936522926,0.0007344454936522926,0.0007344454936522926,0.0012590494176896443,0.001993494911341937,0.002413178050571818,0.0013639702024971147,0.001154128632882174,0.0015738117721120553,0.0015738117721120553,0.0028328611898017,0.0028328611898017,0.023502255796873362,0.023502255796873362,0.023502255796873362,0.0015738117721120553,0.0015738117721120553,0.0012590494176896443,0.0017836533417269962,0.0010492078480747037,0.0035673066834539923,0.0035673066834539923,0.0009442870632672333,0.0017836533417269962,0.0007344454936522926,0.0036722274682614627,0.0036722274682614627,0.004091910607491344,0.004091910607491344,0.0005246039240373518,0.001154128632882174,0.001154128632882174,0.0003147623544224111,0.0015738117721120553,0.0005246039240373518,0.0013639702024971147,0.0013639702024971147,0.0008393662784597629,0.0014688909873045851,0.0015738117721120553,0.0015738117721120553,0.0014688909873045851,0.0036722274682614627,0.0016787325569195257,0.0016787325569195257,0.0017836533417269962,0.0017836533417269962,0.0020984156961494074,0.0020984156961494074,0.0006295247088448222,0.0006295247088448222,0.0036722274682614627,0.0036722274682614627,0.0036722274682614627,0.0010492078480747037,0.0030427027594166402,0.0030427027594166402,0.0010492078480747037,0.003777148253068933,0.003777148253068933,0.003777148253068933,0.006819851012485573,0.006819851012485573,0.0013639702024971147,0.0008393662784597629,0.0025180988353792886,0.0025180988353792886,0.0027279404049942294,0.0009442870632672333,0.0010492078480747037,0.004616514531528696,0.004616514531528696,0.004616514531528696,0.004616514531528696,0.0029377819746091703,0.0029377819746091703,0.0033574651138390515,0.0033574651138390515],\"y\":[0.8181818181818182,0.6071428571428571,0.8181818181818182,0.6842105263157895,0.6842105263157895,0.7,0.875,0.7647058823529411,0.8157894736842105,0.8157894736842105,0.9230769230769231,0.6304347826086957,0.6041666666666666,0.8333333333333334,0.75,0.6470588235294118,0.8095238095238095,0.6666666666666666,0.6666666666666666,0.7692307692307693,0.8333333333333334,0.6262626262626263,0.6262626262626263,0.8571428571428571,0.65,0.75,0.6666666666666666,0.6666666666666666,0.6818181818181818,0.7,0.7,0.7,0.6666666666666666,0.7307692307692307,0.6764705882352942,0.8666666666666667,0.6111111111111112,0.6818181818181818,0.7142857142857143,0.75,0.75,0.7044025157232704,0.7044025157232704,0.7044025157232704,0.7894736842105263,0.8333333333333334,0.631578947368421,0.6071428571428571,0.625,0.6538461538461539,0.6538461538461539,0.8181818181818182,0.7727272727272727,0.7,0.603448275862069,0.603448275862069,0.6610169491525424,0.6610169491525424,0.625,0.6111111111111112,0.6111111111111112,0.75,0.6521739130434783,0.7142857142857143,0.65,0.6190476190476191,0.6666666666666666,0.6086956521739131,0.625,0.625,0.6363636363636364,0.6140350877192983,0.6666666666666666,0.6666666666666666,0.6071428571428571,0.6071428571428571,0.7407407407407407,0.7407407407407407,0.8571428571428571,0.75,0.6140350877192983,0.6140350877192983,0.6140350877192983,0.9090909090909091,0.6444444444444445,0.6444444444444445,0.6666666666666666,0.6666666666666666,0.6666666666666666,0.6206896551724138,0.6018518518518519,0.6018518518518519,0.65,0.6666666666666666,0.6857142857142857,0.6857142857142857,0.6842105263157895,0.8181818181818182,0.7142857142857143,0.676923076923077,0.676923076923077,0.676923076923077,0.676923076923077,0.6363636363636364,0.6363636363636364,0.6666666666666666,0.6666666666666666],\"type\":\"scatter\"}],                        {\"template\":{\"data\":{\"histogram2dcontour\":[{\"type\":\"histogram2dcontour\",\"colorbar\":{\"outlinewidth\":0,\"ticks\":\"\"},\"colorscale\":[[0.0,\"#0d0887\"],[0.1111111111111111,\"#46039f\"],[0.2222222222222222,\"#7201a8\"],[0.3333333333333333,\"#9c179e\"],[0.4444444444444444,\"#bd3786\"],[0.5555555555555556,\"#d8576b\"],[0.6666666666666666,\"#ed7953\"],[0.7777777777777778,\"#fb9f3a\"],[0.8888888888888888,\"#fdca26\"],[1.0,\"#f0f921\"]]}],\"choropleth\":[{\"type\":\"choropleth\",\"colorbar\":{\"outlinewidth\":0,\"ticks\":\"\"}}],\"histogram2d\":[{\"type\":\"histogram2d\",\"colorbar\":{\"outlinewidth\":0,\"ticks\":\"\"},\"colorscale\":[[0.0,\"#0d0887\"],[0.1111111111111111,\"#46039f\"],[0.2222222222222222,\"#7201a8\"],[0.3333333333333333,\"#9c179e\"],[0.4444444444444444,\"#bd3786\"],[0.5555555555555556,\"#d8576b\"],[0.6666666666666666,\"#ed7953\"],[0.7777777777777778,\"#fb9f3a\"],[0.8888888888888888,\"#fdca26\"],[1.0,\"#f0f921\"]]}],\"heatmap\":[{\"type\":\"heatmap\",\"colorbar\":{\"outlinewidth\":0,\"ticks\":\"\"},\"colorscale\":[[0.0,\"#0d0887\"],[0.1111111111111111,\"#46039f\"],[0.2222222222222222,\"#7201a8\"],[0.3333333333333333,\"#9c179e\"],[0.4444444444444444,\"#bd3786\"],[0.5555555555555556,\"#d8576b\"],[0.6666666666666666,\"#ed7953\"],[0.7777777777777778,\"#fb9f3a\"],[0.8888888888888888,\"#fdca26\"],[1.0,\"#f0f921\"]]}],\"heatmapgl\":[{\"type\":\"heatmapgl\",\"colorbar\":{\"outlinewidth\":0,\"ticks\":\"\"},\"colorscale\":[[0.0,\"#0d0887\"],[0.1111111111111111,\"#46039f\"],[0.2222222222222222,\"#7201a8\"],[0.3333333333333333,\"#9c179e\"],[0.4444444444444444,\"#bd3786\"],[0.5555555555555556,\"#d8576b\"],[0.6666666666666666,\"#ed7953\"],[0.7777777777777778,\"#fb9f3a\"],[0.8888888888888888,\"#fdca26\"],[1.0,\"#f0f921\"]]}],\"contourcarpet\":[{\"type\":\"contourcarpet\",\"colorbar\":{\"outlinewidth\":0,\"ticks\":\"\"}}],\"contour\":[{\"type\":\"contour\",\"colorbar\":{\"outlinewidth\":0,\"ticks\":\"\"},\"colorscale\":[[0.0,\"#0d0887\"],[0.1111111111111111,\"#46039f\"],[0.2222222222222222,\"#7201a8\"],[0.3333333333333333,\"#9c179e\"],[0.4444444444444444,\"#bd3786\"],[0.5555555555555556,\"#d8576b\"],[0.6666666666666666,\"#ed7953\"],[0.7777777777777778,\"#fb9f3a\"],[0.8888888888888888,\"#fdca26\"],[1.0,\"#f0f921\"]]}],\"surface\":[{\"type\":\"surface\",\"colorbar\":{\"outlinewidth\":0,\"ticks\":\"\"},\"colorscale\":[[0.0,\"#0d0887\"],[0.1111111111111111,\"#46039f\"],[0.2222222222222222,\"#7201a8\"],[0.3333333333333333,\"#9c179e\"],[0.4444444444444444,\"#bd3786\"],[0.5555555555555556,\"#d8576b\"],[0.6666666666666666,\"#ed7953\"],[0.7777777777777778,\"#fb9f3a\"],[0.8888888888888888,\"#fdca26\"],[1.0,\"#f0f921\"]]}],\"mesh3d\":[{\"type\":\"mesh3d\",\"colorbar\":{\"outlinewidth\":0,\"ticks\":\"\"}}],\"scatter\":[{\"fillpattern\":{\"fillmode\":\"overlay\",\"size\":10,\"solidity\":0.2},\"type\":\"scatter\"}],\"parcoords\":[{\"type\":\"parcoords\",\"line\":{\"colorbar\":{\"outlinewidth\":0,\"ticks\":\"\"}}}],\"scatterpolargl\":[{\"type\":\"scatterpolargl\",\"marker\":{\"colorbar\":{\"outlinewidth\":0,\"ticks\":\"\"}}}],\"bar\":[{\"error_x\":{\"color\":\"#2a3f5f\"},\"error_y\":{\"color\":\"#2a3f5f\"},\"marker\":{\"line\":{\"color\":\"#E5ECF6\",\"width\":0.5},\"pattern\":{\"fillmode\":\"overlay\",\"size\":10,\"solidity\":0.2}},\"type\":\"bar\"}],\"scattergeo\":[{\"type\":\"scattergeo\",\"marker\":{\"colorbar\":{\"outlinewidth\":0,\"ticks\":\"\"}}}],\"scatterpolar\":[{\"type\":\"scatterpolar\",\"marker\":{\"colorbar\":{\"outlinewidth\":0,\"ticks\":\"\"}}}],\"histogram\":[{\"marker\":{\"pattern\":{\"fillmode\":\"overlay\",\"size\":10,\"solidity\":0.2}},\"type\":\"histogram\"}],\"scattergl\":[{\"type\":\"scattergl\",\"marker\":{\"colorbar\":{\"outlinewidth\":0,\"ticks\":\"\"}}}],\"scatter3d\":[{\"type\":\"scatter3d\",\"line\":{\"colorbar\":{\"outlinewidth\":0,\"ticks\":\"\"}},\"marker\":{\"colorbar\":{\"outlinewidth\":0,\"ticks\":\"\"}}}],\"scattermapbox\":[{\"type\":\"scattermapbox\",\"marker\":{\"colorbar\":{\"outlinewidth\":0,\"ticks\":\"\"}}}],\"scatterternary\":[{\"type\":\"scatterternary\",\"marker\":{\"colorbar\":{\"outlinewidth\":0,\"ticks\":\"\"}}}],\"scattercarpet\":[{\"type\":\"scattercarpet\",\"marker\":{\"colorbar\":{\"outlinewidth\":0,\"ticks\":\"\"}}}],\"carpet\":[{\"aaxis\":{\"endlinecolor\":\"#2a3f5f\",\"gridcolor\":\"white\",\"linecolor\":\"white\",\"minorgridcolor\":\"white\",\"startlinecolor\":\"#2a3f5f\"},\"baxis\":{\"endlinecolor\":\"#2a3f5f\",\"gridcolor\":\"white\",\"linecolor\":\"white\",\"minorgridcolor\":\"white\",\"startlinecolor\":\"#2a3f5f\"},\"type\":\"carpet\"}],\"table\":[{\"cells\":{\"fill\":{\"color\":\"#EBF0F8\"},\"line\":{\"color\":\"white\"}},\"header\":{\"fill\":{\"color\":\"#C8D4E3\"},\"line\":{\"color\":\"white\"}},\"type\":\"table\"}],\"barpolar\":[{\"marker\":{\"line\":{\"color\":\"#E5ECF6\",\"width\":0.5},\"pattern\":{\"fillmode\":\"overlay\",\"size\":10,\"solidity\":0.2}},\"type\":\"barpolar\"}],\"pie\":[{\"automargin\":true,\"type\":\"pie\"}]},\"layout\":{\"autotypenumbers\":\"strict\",\"colorway\":[\"#636efa\",\"#EF553B\",\"#00cc96\",\"#ab63fa\",\"#FFA15A\",\"#19d3f3\",\"#FF6692\",\"#B6E880\",\"#FF97FF\",\"#FECB52\"],\"font\":{\"color\":\"#2a3f5f\"},\"hovermode\":\"closest\",\"hoverlabel\":{\"align\":\"left\"},\"paper_bgcolor\":\"white\",\"plot_bgcolor\":\"#E5ECF6\",\"polar\":{\"bgcolor\":\"#E5ECF6\",\"angularaxis\":{\"gridcolor\":\"white\",\"linecolor\":\"white\",\"ticks\":\"\"},\"radialaxis\":{\"gridcolor\":\"white\",\"linecolor\":\"white\",\"ticks\":\"\"}},\"ternary\":{\"bgcolor\":\"#E5ECF6\",\"aaxis\":{\"gridcolor\":\"white\",\"linecolor\":\"white\",\"ticks\":\"\"},\"baxis\":{\"gridcolor\":\"white\",\"linecolor\":\"white\",\"ticks\":\"\"},\"caxis\":{\"gridcolor\":\"white\",\"linecolor\":\"white\",\"ticks\":\"\"}},\"coloraxis\":{\"colorbar\":{\"outlinewidth\":0,\"ticks\":\"\"}},\"colorscale\":{\"sequential\":[[0.0,\"#0d0887\"],[0.1111111111111111,\"#46039f\"],[0.2222222222222222,\"#7201a8\"],[0.3333333333333333,\"#9c179e\"],[0.4444444444444444,\"#bd3786\"],[0.5555555555555556,\"#d8576b\"],[0.6666666666666666,\"#ed7953\"],[0.7777777777777778,\"#fb9f3a\"],[0.8888888888888888,\"#fdca26\"],[1.0,\"#f0f921\"]],\"sequentialminus\":[[0.0,\"#0d0887\"],[0.1111111111111111,\"#46039f\"],[0.2222222222222222,\"#7201a8\"],[0.3333333333333333,\"#9c179e\"],[0.4444444444444444,\"#bd3786\"],[0.5555555555555556,\"#d8576b\"],[0.6666666666666666,\"#ed7953\"],[0.7777777777777778,\"#fb9f3a\"],[0.8888888888888888,\"#fdca26\"],[1.0,\"#f0f921\"]],\"diverging\":[[0,\"#8e0152\"],[0.1,\"#c51b7d\"],[0.2,\"#de77ae\"],[0.3,\"#f1b6da\"],[0.4,\"#fde0ef\"],[0.5,\"#f7f7f7\"],[0.6,\"#e6f5d0\"],[0.7,\"#b8e186\"],[0.8,\"#7fbc41\"],[0.9,\"#4d9221\"],[1,\"#276419\"]]},\"xaxis\":{\"gridcolor\":\"white\",\"linecolor\":\"white\",\"ticks\":\"\",\"title\":{\"standoff\":15},\"zerolinecolor\":\"white\",\"automargin\":true,\"zerolinewidth\":2},\"yaxis\":{\"gridcolor\":\"white\",\"linecolor\":\"white\",\"ticks\":\"\",\"title\":{\"standoff\":15},\"zerolinecolor\":\"white\",\"automargin\":true,\"zerolinewidth\":2},\"scene\":{\"xaxis\":{\"backgroundcolor\":\"#E5ECF6\",\"gridcolor\":\"white\",\"linecolor\":\"white\",\"showbackground\":true,\"ticks\":\"\",\"zerolinecolor\":\"white\",\"gridwidth\":2},\"yaxis\":{\"backgroundcolor\":\"#E5ECF6\",\"gridcolor\":\"white\",\"linecolor\":\"white\",\"showbackground\":true,\"ticks\":\"\",\"zerolinecolor\":\"white\",\"gridwidth\":2},\"zaxis\":{\"backgroundcolor\":\"#E5ECF6\",\"gridcolor\":\"white\",\"linecolor\":\"white\",\"showbackground\":true,\"ticks\":\"\",\"zerolinecolor\":\"white\",\"gridwidth\":2}},\"shapedefaults\":{\"line\":{\"color\":\"#2a3f5f\"}},\"annotationdefaults\":{\"arrowcolor\":\"#2a3f5f\",\"arrowhead\":0,\"arrowwidth\":1},\"geo\":{\"bgcolor\":\"white\",\"landcolor\":\"#E5ECF6\",\"subunitcolor\":\"white\",\"showland\":true,\"showlakes\":true,\"lakecolor\":\"white\"},\"title\":{\"x\":0.05},\"mapbox\":{\"style\":\"light\"}}},\"xaxis\":{\"title\":{\"text\":\"Support\"},\"autorange\":\"reversed\"},\"title\":{\"text\":\"Association Rules Strength Distribution\"},\"yaxis\":{\"title\":{\"text\":\"Confidence\"}}},                        {\"responsive\": true}                    ).then(function(){\n",
       "                            \n",
       "var gd = document.getElementById('e788054d-7601-44d8-8166-5ae19b0bd590');\n",
       "var x = new MutationObserver(function (mutations, observer) {{\n",
       "        var display = window.getComputedStyle(gd).display;\n",
       "        if (!display || display === 'none') {{\n",
       "            console.log([gd, 'removed!']);\n",
       "            Plotly.purge(gd);\n",
       "            observer.disconnect();\n",
       "        }}\n",
       "}});\n",
       "\n",
       "// Listen for the removal of the full notebook cells\n",
       "var notebookContainer = gd.closest('#notebook-container');\n",
       "if (notebookContainer) {{\n",
       "    x.observe(notebookContainer, {childList: true});\n",
       "}}\n",
       "\n",
       "// Listen for the clearing of the current output cell\n",
       "var outputEl = gd.closest('.output');\n",
       "if (outputEl) {{\n",
       "    x.observe(outputEl, {childList: true});\n",
       "}}\n",
       "\n",
       "                        })                };                });            </script>        </div>"
      ]
     },
     "metadata": {},
     "output_type": "display_data",
     "jetTransient": {
      "display_id": null
     }
    },
    {
     "data": {
      "application/vnd.plotly.v1+json": {
       "data": [
        {
         "hoverinfo": "none",
         "line": {
          "color": "#888",
          "width": 0.5
         },
         "mode": "lines",
         "x": [
          -0.05076460415379015,
          -0.05843557207383829,
          null,
          -0.015346628119994684,
          -0.05076460415379015,
          null,
          -0.034460462698710295,
          -0.05843557207383829,
          null,
          0.04761040021944807,
          -0.034460462698710295,
          null,
          0.018516432865750793,
          -0.05843557207383829,
          null,
          0.07696937154539171,
          0.018516432865750793,
          null,
          -0.07706453371951459,
          -0.05843557207383829,
          null,
          -0.034715656431245995,
          -0.07706453371951459,
          null,
          -0.034715656431245995,
          -0.02917027013017901,
          null,
          -0.02917027013017901,
          -0.05843557207383829,
          null,
          -0.07384553579082175,
          -0.05843557207383829,
          null,
          -0.0920980053823628,
          -0.07384553579082175,
          null,
          -0.09462698669227866,
          -0.05843557207383829,
          null,
          -0.12483585808541538,
          -0.09462698669227866,
          null,
          -0.06410444486226101,
          -0.05843557207383829,
          null,
          -0.0019863458071189143,
          -0.06410444486226101,
          null,
          0.014934872944145174,
          -0.05843557207383829,
          null,
          0.06367095400336335,
          0.014934872944145174,
          null,
          0.06367095400336335,
          0.02150523263665515,
          null,
          0.02150523263665515,
          -0.05843557207383829,
          null,
          -0.019282070758891608,
          -0.05843557207383829,
          null,
          0.025439797881899776,
          -0.019282070758891608,
          null,
          -0.08287261386963751,
          -0.05843557207383829,
          null,
          -0.01578915777635936,
          -0.08287261386963751,
          null,
          -0.04738928122415613,
          -0.05843557207383829,
          null,
          -0.03321789259854529,
          -0.04738928122415613,
          null,
          0.009203467870190076,
          -0.05843557207383829,
          null,
          0.054833200371312035,
          0.009203467870190076,
          null,
          0.0010427929128884645,
          -0.05843557207383829,
          null,
          0.05981390868039853,
          0.0010427929128884645,
          null,
          -0.05642266073031523,
          -0.05843557207383829,
          null,
          9.932794784890274E-4,
          -0.05642266073031523,
          null,
          -0.03549310253211752,
          -0.05843557207383829,
          null,
          0.06371895399463078,
          -0.03549310253211752,
          null,
          -0.08060365208535013,
          -0.05843557207383829,
          null,
          -0.07160675894422716,
          -0.08060365208535013,
          null,
          -0.050380173337155984,
          -0.05843557207383829,
          null,
          -8.2085325906007E-4,
          -0.050380173337155984,
          null,
          -0.04190330461151795,
          -0.05843557207383829,
          null,
          -0.028531134894941163,
          -0.04190330461151795,
          null,
          -0.0014972544018292864,
          -0.05843557207383829,
          null,
          0.061046941499442633,
          -0.0014972544018292864,
          null,
          -0.04911959096237494,
          -0.05843557207383829,
          null,
          -0.03232043498390741,
          -0.04911959096237494,
          null,
          -0.03232043498390741,
          -0.041773177224002755,
          null,
          -0.041773177224002755,
          -0.05843557207383829,
          null,
          -0.08062382308873171,
          -0.05843557207383829,
          null,
          0.0025639022984286393,
          -0.08062382308873171,
          null,
          -0.08082808108188819,
          -0.05843557207383829,
          null,
          -0.08030265177404045,
          -0.08082808108188819,
          null,
          -0.04680956511683474,
          -0.05843557207383829,
          null,
          -0.053062765243770016,
          -0.04680956511683474,
          null,
          -0.017337618610515762,
          -0.05843557207383829,
          null,
          0.031151134511361638,
          -0.017337618610515762,
          null,
          0.031151134511361638,
          -0.007117675785507079,
          null,
          -0.007117675785507079,
          -0.05843557207383829,
          null,
          0.018034304866258018,
          -0.05843557207383829,
          null,
          0.07514207639635091,
          0.018034304866258018,
          null,
          0.9581414737231808,
          1.0,
          null,
          0.9676642468799923,
          0.9581414737231808,
          null,
          -0.017252107148921756,
          -0.05843557207383829,
          null,
          0.054755776441092335,
          -0.017252107148921756,
          null,
          -0.06473070850993065,
          -0.05843557207383829,
          null,
          -0.06732396238470569,
          -0.06473070850993065,
          null,
          -0.02776451580856302,
          -0.05843557207383829,
          null,
          0.009092436504651389,
          -0.02776451580856302,
          null,
          -0.061403625477205556,
          -0.05843557207383829,
          null,
          -0.03532304324563117,
          -0.061403625477205556,
          null,
          -0.009283118256853372,
          -0.05843557207383829,
          null,
          0.055940227048897555,
          -0.009283118256853372,
          null,
          -0.01757258821329763,
          -0.05843557207383829,
          null,
          0.047864104921768784,
          -0.01757258821329763,
          null,
          -0.03500379020180538,
          -0.05843557207383829,
          null,
          0.03456731145811362,
          -0.03500379020180538,
          null,
          0.02837735521414557,
          -0.05843557207383829,
          null,
          0.08787817435581242,
          0.02837735521414557,
          null,
          -0.0026393305551415287,
          -0.05843557207383829,
          null,
          0.06813323356558512,
          -0.0026393305551415287,
          null,
          -0.06728673464224118,
          -0.05843557207383829,
          null,
          -0.03192880476268047,
          -0.06728673464224118,
          null,
          -0.03192880476268047,
          -0.057447185485906445,
          null,
          -0.057447185485906445,
          -0.05843557207383829,
          null,
          -0.04318820949209391,
          -0.05843557207383829,
          null,
          -0.056231318015125265,
          -0.04318820949209391,
          null,
          -0.056231318015125265,
          -0.0918732589115897,
          null,
          -0.056231318015125265,
          -0.07353952500688304,
          null,
          -0.0918732589115897,
          -0.05843557207383829,
          null,
          -0.07353952500688304,
          -0.05843557207383829,
          null,
          -0.028593593363023806,
          -0.05843557207383829,
          null,
          0.016285350566103647,
          -0.028593593363023806,
          null,
          -0.055201903406885064,
          -0.05843557207383829,
          null,
          -0.04508345727716741,
          -0.055201903406885064,
          null,
          0.014430910235814578,
          -0.05843557207383829,
          null,
          0.07300456032240998,
          0.014430910235814578,
          null,
          -0.09671556247662784,
          -0.05843557207383829,
          null,
          -0.07650560028433197,
          -0.09671556247662784,
          null,
          -0.013906041120711575,
          -0.05843557207383829,
          null,
          0.05008497113424916,
          -0.013906041120711575,
          null,
          -0.026304647135548195,
          -0.05843557207383829,
          null,
          0.03715898695646669,
          -0.026304647135548195,
          null,
          0.03715898695646669,
          0.02204608403580682,
          null,
          0.02204608403580682,
          -0.05843557207383829,
          null,
          -0.028811033368202267,
          -0.05843557207383829,
          null,
          0.0013868045975851168,
          -0.028811033368202267,
          null,
          -0.06506750603172351,
          -0.05843557207383829,
          null,
          -0.012752390178054593,
          -0.06506750603172351,
          null,
          -0.04081461747643248,
          -0.05843557207383829,
          null,
          -0.016684765268242606,
          -0.04081461747643248,
          null,
          0.022791907134846398,
          -0.05843557207383829,
          null,
          0.034168675945645266,
          0.022791907134846398,
          null,
          0.034168675945645266,
          -0.03721249497109985,
          null,
          -0.03721249497109985,
          -0.05843557207383829,
          null,
          -0.09102237021666358,
          -0.05843557207383829,
          null,
          -0.009460378735997543,
          -0.09102237021666358,
          null,
          -0.009460378735997543,
          -0.018209673256881123,
          null,
          -0.018209673256881123,
          -0.05843557207383829,
          null,
          -0.07955176474058763,
          -0.05843557207383829,
          null,
          -0.04258700004729159,
          -0.07955176474058763,
          null,
          -0.010124649441304269,
          -0.05843557207383829,
          null,
          -0.026244719973746944,
          -0.010124649441304269,
          null,
          -0.026244719973746944,
          -0.06686865089292238,
          null,
          -0.06686865089292238,
          -0.05843557207383829,
          null,
          -0.01136926776466213,
          -0.05843557207383829,
          null,
          0.044170686858605576,
          -0.01136926776466213,
          null,
          -0.019304580811935885,
          -0.05843557207383829,
          null,
          0.04910654318160225,
          -0.019304580811935885,
          null,
          -0.026825663543274827,
          -0.05843557207383829,
          null,
          0.03521733580186636,
          -0.026825663543274827,
          null,
          -0.01516396190042609,
          -0.05843557207383829,
          null,
          0.03963212323099333,
          -0.01516396190042609,
          null,
          0.004393096696708139,
          -0.05843557207383829,
          null,
          0.05815485323290436,
          0.004393096696708139,
          null,
          -8.031087115326333E-4,
          -0.05843557207383829,
          null,
          0.047850977980876244,
          -8.031087115326333E-4,
          null,
          0.01682111887620905,
          -0.05843557207383829,
          null,
          0.08299371416589182,
          0.01682111887620905,
          null,
          0.0010273311639005433,
          -0.05843557207383829,
          null,
          -0.013575343152120199,
          0.0010273311639005433,
          null,
          -0.013575343152120199,
          -0.07478902400970384,
          null,
          -0.07478902400970384,
          -0.05843557207383829,
          null,
          -0.021904488454048222,
          -0.05843557207383829,
          null,
          0.007018432050730921,
          -0.021904488454048222,
          null,
          -0.008939577128750315,
          -0.05843557207383829,
          null,
          -0.012194211219026361,
          -0.008939577128750315,
          null,
          -0.012194211219026361,
          -0.07132510566471652,
          null,
          -0.012194211219026361,
          0.0031571174019584475,
          null,
          -0.012194211219026361,
          0.01010889363919924,
          null,
          -0.05177271082828188,
          -0.05843557207383829,
          null,
          -0.025851742593715952,
          -0.05177271082828188,
          null,
          -0.025851742593715952,
          -0.015833288017176622,
          null,
          -0.015833288017176622,
          -0.05843557207383829,
          null,
          -0.06266321393746603,
          -0.05843557207383829,
          null,
          -0.07621119654075441,
          -0.06266321393746603,
          null,
          -0.07621119654075441,
          -0.08674902109545506,
          null,
          -0.08674902109545506,
          -0.05843557207383829,
          null,
          -0.09571445759753985,
          -0.05843557207383829,
          null,
          -0.09009612858820304,
          -0.09571445759753985,
          null,
          -0.09009612858820304,
          -0.07184575102533194,
          null,
          -0.07184575102533194,
          -0.05843557207383829,
          null,
          -0.0011799675539823449,
          -0.05843557207383829,
          null,
          0.05962371314826352,
          -0.0011799675539823449,
          null,
          -0.09063804653948541,
          -0.05843557207383829,
          null,
          0.017699046350524522,
          -0.09063804653948541,
          null,
          -0.07132510566471652,
          -0.05843557207383829,
          null,
          0.0031571174019584475,
          -0.05843557207383829,
          null,
          0.01010889363919924,
          -0.05843557207383829,
          null,
          -0.023878504544472295,
          -0.05843557207383829,
          null,
          0.017632177398180987,
          -0.023878504544472295,
          null,
          0.011987495755083795,
          -0.05843557207383829,
          null,
          0.021669325663062892,
          0.011987495755083795,
          null,
          0.021669325663062892,
          -0.0337708665323076,
          null,
          -0.0337708665323076,
          -0.05843557207383829,
          null,
          0.00985508294596518,
          -0.05843557207383829,
          null,
          0.07230514253680251,
          0.00985508294596518,
          null,
          -0.053611411091086504,
          -0.05843557207383829,
          null,
          0.03473458134491615,
          -0.053611411091086504,
          null,
          0.03473458134491615,
          0.0035251819684870333,
          null,
          0.0035251819684870333,
          -0.05843557207383829,
          null,
          -0.09591837066609944,
          -0.05843557207383829,
          null,
          -0.027888864941996477,
          -0.09591837066609944,
          null,
          0.024764948578512743,
          -0.05843557207383829,
          null,
          -0.008009299979185912,
          0.024764948578512743,
          null,
          -0.008009299979185912,
          -0.09035657750442136,
          null,
          -0.09035657750442136,
          -0.05843557207383829,
          null,
          -0.0017022510754852976,
          -0.05843557207383829,
          null,
          0.06923433831142556,
          -0.0017022510754852976,
          null,
          0.024406228836556174,
          -0.05843557207383829,
          null,
          0.0739495593066538,
          0.024406228836556174,
          null,
          0.03270583973286681,
          -0.05843557207383829,
          null,
          0.028135115633293732,
          0.03270583973286681,
          null,
          0.028135115633293732,
          -0.036606624144524966,
          null,
          -0.036606624144524966,
          -0.05843557207383829,
          null,
          -0.06062844073379888,
          -0.05843557207383829,
          null,
          0.017546938378075035,
          -0.06062844073379888,
          null,
          -2.1253431094488275E-4,
          -0.05843557207383829,
          null,
          0.056185367358219176,
          -2.1253431094488275E-4,
          null,
          -0.05521340776762758,
          -0.05843557207383829,
          null,
          -0.04161399456557588,
          -0.05521340776762758,
          null,
          -0.017445403510924207,
          -0.05843557207383829,
          null,
          0.010037588103220621,
          -0.017445403510924207,
          null,
          0.010037588103220621,
          0.012621406726138719,
          null,
          0.010037588103220621,
          0.012635449119094989,
          null,
          0.010037588103220621,
          -0.04369718487655366,
          null,
          0.012621406726138719,
          -0.05843557207383829,
          null,
          0.012635449119094989,
          -0.05843557207383829,
          null,
          -0.04369718487655366,
          -0.05843557207383829,
          null,
          -0.02246351469576157,
          -0.05843557207383829,
          null,
          0.013237499724527991,
          -0.02246351469576157,
          null,
          0.013237499724527991,
          -0.0299888735850765,
          null,
          -0.0299888735850765,
          -0.05843557207383829,
          null,
          -0.09340491609287249,
          -0.05843557207383829,
          null,
          -0.03286553769230143,
          -0.09340491609287249,
          null,
          -0.03286553769230143,
          -0.08600658760609993,
          null,
          -0.08600658760609993,
          -0.05843557207383829,
          null
         ],
         "y": [
          -0.00471303530025346,
          -0.03887625061925717,
          null,
          0.05219990649976937,
          -0.00471303530025346,
          null,
          -0.0816840801782547,
          -0.03887625061925717,
          null,
          -0.06877387236079172,
          -0.0816840801782547,
          null,
          0.015301665916663354,
          -0.03887625061925717,
          null,
          0.04289102194102762,
          0.015301665916663354,
          null,
          -0.013444469603914933,
          -0.03887625061925717,
          null,
          -0.002461169809684727,
          -0.013444469603914933,
          null,
          -0.002461169809684727,
          -0.041621813363785315,
          null,
          -0.041621813363785315,
          -0.03887625061925717,
          null,
          0.011102440639392839,
          -0.03887625061925717,
          null,
          0.057768328584071826,
          0.011102440639392839,
          null,
          -0.049342959506738136,
          -0.03887625061925717,
          null,
          -0.035446351638301746,
          -0.049342959506738136,
          null,
          -0.059101405505323015,
          -0.03887625061925717,
          null,
          -0.07388394866621023,
          -0.059101405505323015,
          null,
          -0.027367267522558473,
          -0.03887625061925717,
          null,
          -0.0025121585990367026,
          -0.027367267522558473,
          null,
          -0.0025121585990367026,
          0.004836799915982048,
          null,
          0.004836799915982048,
          -0.03887625061925717,
          null,
          0.01375784828000473,
          -0.03887625061925717,
          null,
          0.06508136145774185,
          0.01375784828000473,
          null,
          0.006131677968853438,
          -0.03887625061925717,
          null,
          0.07065913699966134,
          0.006131677968853438,
          null,
          -0.05048784535081829,
          -0.03887625061925717,
          null,
          -0.0981514367614707,
          -0.05048784535081829,
          null,
          0.019186523142146288,
          -0.03887625061925717,
          null,
          0.06739864832638012,
          0.019186523142146288,
          null,
          -0.023193656138924656,
          -0.03887625061925717,
          null,
          -0.0019263405616760123,
          -0.023193656138924656,
          null,
          -0.0776122454966866,
          -0.03887625061925717,
          null,
          -0.0959440837739651,
          -0.0776122454966866,
          null,
          -0.06482535102981125,
          -0.03887625061925717,
          null,
          -0.03387221606846632,
          -0.06482535102981125,
          null,
          -0.02429477964021104,
          -0.03887625061925717,
          null,
          0.03572709889960698,
          -0.02429477964021104,
          null,
          -0.07186798901397544,
          -0.03887625061925717,
          null,
          -0.10218279318904537,
          -0.07186798901397544,
          null,
          0.022003007865749644,
          -0.03887625061925717,
          null,
          0.07782722680107991,
          0.022003007865749644,
          null,
          -0.0024463717765599463,
          -0.03887625061925717,
          null,
          0.028002946981476394,
          -0.0024463717765599463,
          null,
          0.01809978010655138,
          -0.03887625061925717,
          null,
          -0.02796457241221188,
          0.01809978010655138,
          null,
          -0.02796457241221188,
          -0.08250362781654313,
          null,
          -0.08250362781654313,
          -0.03887625061925717,
          null,
          -0.042544627873485154,
          -0.03887625061925717,
          null,
          -0.011511280983146984,
          -0.042544627873485154,
          null,
          -0.07139578072612676,
          -0.03887625061925717,
          null,
          -0.10659908835641621,
          -0.07139578072612676,
          null,
          0.006234454775911512,
          -0.03887625061925717,
          null,
          0.05976329944313873,
          0.006234454775911512,
          null,
          0.020312447471090154,
          -0.03887625061925717,
          null,
          -0.011133613800967952,
          0.020312447471090154,
          null,
          -0.011133613800967952,
          -0.05830897531985499,
          null,
          -0.05830897531985499,
          -0.03887625061925717,
          null,
          -0.03218681013609564,
          -0.03887625061925717,
          null,
          -0.04473453455989097,
          -0.03218681013609564,
          null,
          0.8953285557471904,
          0.9338365248979383,
          null,
          0.8878994129757071,
          0.8953285557471904,
          null,
          -0.07387543725166881,
          -0.03887625061925717,
          null,
          -0.07486071082295526,
          -0.07387543725166881,
          null,
          -0.07694327333923352,
          -0.03887625061925717,
          null,
          -0.1193492283609737,
          -0.07694327333923352,
          null,
          -0.008724136471508919,
          -0.03887625061925717,
          null,
          0.04111833966707353,
          -0.008724136471508919,
          null,
          0.01670265004277374,
          -0.03887625061925717,
          null,
          0.0769980940583466,
          0.01670265004277374,
          null,
          0.017747581717170433,
          -0.03887625061925717,
          null,
          0.062428369087760165,
          0.017747581717170433,
          null,
          -0.02440644821634774,
          -0.03887625061925717,
          null,
          -1.9640333554726876E-4,
          -0.02440644821634774,
          null,
          0.021152750850376344,
          -0.03887625061925717,
          null,
          0.08012866397663904,
          0.021152750850376344,
          null,
          0.001601571407045278,
          -0.03887625061925717,
          null,
          0.024788401796347885,
          0.001601571407045278,
          null,
          -0.03394215039179857,
          -0.03887625061925717,
          null,
          -0.021379053415331667,
          -0.03394215039179857,
          null,
          0.00564577773990941,
          -0.03887625061925717,
          null,
          0.048505909994007695,
          0.00564577773990941,
          null,
          0.048505909994007695,
          0.0050147770907363245,
          null,
          0.0050147770907363245,
          -0.03887625061925717,
          null,
          -0.011756836575156531,
          -0.03887625061925717,
          null,
          -0.01758219095977962,
          -0.011756836575156531,
          null,
          -0.01758219095977962,
          -0.005109054697788441,
          null,
          -0.01758219095977962,
          -0.06190475448298878,
          null,
          -0.005109054697788441,
          -0.03887625061925717,
          null,
          -0.06190475448298878,
          -0.03887625061925717,
          null,
          0.019858171479835304,
          -0.03887625061925717,
          null,
          0.0762707890212825,
          0.019858171479835304,
          null,
          0.01230531343657892,
          -0.03887625061925717,
          null,
          0.07051689699737149,
          0.01230531343657892,
          null,
          -0.015791499379232656,
          -0.03887625061925717,
          null,
          -0.012534359247030988,
          -0.015791499379232656,
          null,
          -0.01850131035794684,
          -0.03887625061925717,
          null,
          0.040821427599055694,
          -0.01850131035794684,
          null,
          -0.0010647525921050368,
          -0.03887625061925717,
          null,
          0.03452882493497445,
          -0.0010647525921050368,
          null,
          -0.07897586728800819,
          -0.03887625061925717,
          null,
          -0.05855329939700366,
          -0.07897586728800819,
          null,
          -0.05855329939700366,
          -0.022193152683614614,
          null,
          -0.022193152683614614,
          -0.03887625061925717,
          null,
          0.02532528924191111,
          -0.03887625061925717,
          null,
          0.0812844994429678,
          0.02532528924191111,
          null,
          -0.06914542123915171,
          -0.03887625061925717,
          null,
          -0.09210889050044445,
          -0.06914542123915171,
          null,
          -0.057416135348404104,
          -0.03887625061925717,
          null,
          -0.10307824198249262,
          -0.057416135348404104,
          null,
          -0.005032480921562845,
          -0.03887625061925717,
          null,
          0.04142773021916775,
          -0.005032480921562845,
          null,
          0.04142773021916775,
          0.013108123808421676,
          null,
          0.013108123808421676,
          -0.03887625061925717,
          null,
          0.0010770511793736987,
          -0.03887625061925717,
          null,
          0.008338941582732554,
          0.0010770511793736987,
          null,
          0.008338941582732554,
          -0.06316844284777216,
          null,
          -0.06316844284777216,
          -0.03887625061925717,
          null,
          -0.0011322341697565044,
          -0.03887625061925717,
          null,
          0.05893516842309818,
          -0.0011322341697565044,
          null,
          -0.04663370150535071,
          -0.03887625061925717,
          null,
          0.002221867253902417,
          -0.04663370150535071,
          null,
          0.002221867253902417,
          0.01364935861243388,
          null,
          0.01364935861243388,
          -0.03887625061925717,
          null,
          -0.017388790969667417,
          -0.03887625061925717,
          null,
          0.01757067514041213,
          -0.017388790969667417,
          null,
          -0.010644660290380985,
          -0.03887625061925717,
          null,
          0.03865157658656994,
          -0.010644660290380985,
          null,
          -0.07051789433834003,
          -0.03887625061925717,
          null,
          -0.08162001501141142,
          -0.07051789433834003,
          null,
          -0.06849811470960843,
          -0.03887625061925717,
          null,
          -0.091027275357256,
          -0.06849811470960843,
          null,
          0.009603861206562814,
          -0.03887625061925717,
          null,
          0.047719244923358634,
          0.009603861206562814,
          null,
          0.01610905605211895,
          -0.03887625061925717,
          null,
          0.06270051587473764,
          0.01610905605211895,
          null,
          -0.00850296862456001,
          -0.03887625061925717,
          null,
          0.01194692092882464,
          -0.00850296862456001,
          null,
          -0.04813260290457406,
          -0.03887625061925717,
          null,
          -0.02725349950846249,
          -0.04813260290457406,
          null,
          -0.02725349950846249,
          -0.03127364541751958,
          null,
          -0.03127364541751958,
          -0.03887625061925717,
          null,
          -0.0012801981026806576,
          -0.03887625061925717,
          null,
          0.052056447092575904,
          -0.0012801981026806576,
          null,
          -0.008021115464236504,
          -0.03887625061925717,
          null,
          -0.011244558035390708,
          -0.008021115464236504,
          null,
          -0.011244558035390708,
          -0.0024438100563646454,
          null,
          -0.011244558035390708,
          -0.053825789950679326,
          null,
          -0.011244558035390708,
          1.4517409136561326E-7,
          null,
          -0.028440448826607276,
          -0.03887625061925717,
          null,
          0.018550296725923225,
          -0.028440448826607276,
          null,
          0.018550296725923225,
          0.00900327691039819,
          null,
          0.00900327691039819,
          -0.03887625061925717,
          null,
          -0.010003425254417822,
          -0.03887625061925717,
          null,
          0.02734883982998964,
          -0.010003425254417822,
          null,
          0.02734883982998964,
          -0.011632741948454471,
          null,
          -0.011632741948454471,
          -0.03887625061925717,
          null,
          -0.010041364732785484,
          -0.03887625061925717,
          null,
          -0.023740874031597727,
          -0.010041364732785484,
          null,
          -0.023740874031597727,
          -0.049164314245261694,
          null,
          -0.049164314245261694,
          -0.03887625061925717,
          null,
          -0.028999900732554783,
          -0.03887625061925717,
          null,
          -0.025866862437477472,
          -0.028999900732554783,
          null,
          -0.018371913365076313,
          -0.03887625061925717,
          null,
          0.05009711681748947,
          -0.018371913365076313,
          null,
          -0.0024438100563646454,
          -0.03887625061925717,
          null,
          -0.053825789950679326,
          -0.03887625061925717,
          null,
          1.4517409136561326E-7,
          -0.03887625061925717,
          null,
          -0.05290102177439119,
          -0.03887625061925717,
          null,
          -0.08731320196942549,
          -0.05290102177439119,
          null,
          0.005299090776140481,
          -0.03887625061925717,
          null,
          -0.04442544514579168,
          0.005299090776140481,
          null,
          -0.04442544514579168,
          -0.07282950233122826,
          null,
          -0.07282950233122826,
          -0.03887625061925717,
          null,
          -0.0070347140338609445,
          -0.03887625061925717,
          null,
          0.018328345311736487,
          -0.0070347140338609445,
          null,
          -0.06356360940285592,
          -0.03887625061925717,
          null,
          -0.03858959807934452,
          -0.06356360940285592,
          null,
          -0.03858959807934452,
          -0.04291036374080042,
          null,
          -0.04291036374080042,
          -0.03887625061925717,
          null,
          -0.06029738577682821,
          -0.03887625061925717,
          null,
          -0.03153746834810045,
          -0.06029738577682821,
          null,
          -0.014199097386897813,
          -0.03887625061925717,
          null,
          0.005107598445571858,
          -0.014199097386897813,
          null,
          0.005107598445571858,
          -0.03226424703185232,
          null,
          -0.03226424703185232,
          -0.03887625061925717,
          null,
          -0.03944922474300496,
          -0.03887625061925717,
          null,
          -0.0344996767766439,
          -0.03944922474300496,
          null,
          0.01078231752251632,
          -0.03887625061925717,
          null,
          0.04664669293028725,
          0.01078231752251632,
          null,
          0.004814087354121055,
          -0.03887625061925717,
          null,
          0.0394318042622161,
          0.004814087354121055,
          null,
          0.0394318042622161,
          0.006219149515469094,
          null,
          0.006219149515469094,
          -0.03887625061925717,
          null,
          -0.0018283156835092432,
          -0.03887625061925717,
          null,
          0.0609009183413618,
          -0.0018283156835092432,
          null,
          -0.010466862140389242,
          -0.03887625061925717,
          null,
          -0.007143566897661888,
          -0.010466862140389242,
          null,
          -0.08462230687174188,
          -0.03887625061925717,
          null,
          -0.12737350814894657,
          -0.08462230687174188,
          null,
          -0.056988761043358815,
          -0.03887625061925717,
          null,
          -0.039962392386278266,
          -0.056988761043358815,
          null,
          -0.039962392386278266,
          0.012542824456528195,
          null,
          -0.039962392386278266,
          -0.021754396793700333,
          null,
          -0.039962392386278266,
          -0.07524415748392106,
          null,
          0.012542824456528195,
          -0.03887625061925717,
          null,
          -0.021754396793700333,
          -0.03887625061925717,
          null,
          -0.07524415748392106,
          -0.03887625061925717,
          null,
          -0.04600861473656183,
          -0.03887625061925717,
          null,
          -0.06658388508707813,
          -0.04600861473656183,
          null,
          -0.06658388508707813,
          -0.058457391917309275,
          null,
          -0.058457391917309275,
          -0.03887625061925717,
          null,
          -0.039838368597954685,
          -0.03887625061925717,
          null,
          -0.01754949197579578,
          -0.039838368597954685,
          null,
          -0.01754949197579578,
          -0.06043362661542013,
          null,
          -0.06043362661542013,
          -0.03887625061925717,
          null
         ],
         "type": "scatter"
        },
        {
         "hoverinfo": "text",
         "marker": {
          "color": [],
          "colorbar": {
           "thickness": 15,
           "title": {
            "side": "right",
            "text": "Node Connections"
           },
           "xanchor": "left"
          },
          "colorscale": [
           [
            0.0,
            "rgb(255,255,217)"
           ],
           [
            0.125,
            "rgb(237,248,177)"
           ],
           [
            0.25,
            "rgb(199,233,180)"
           ],
           [
            0.375,
            "rgb(127,205,187)"
           ],
           [
            0.5,
            "rgb(65,182,196)"
           ],
           [
            0.625,
            "rgb(29,145,192)"
           ],
           [
            0.75,
            "rgb(34,94,168)"
           ],
           [
            0.875,
            "rgb(37,52,148)"
           ],
           [
            1.0,
            "rgb(8,29,88)"
           ]
          ],
          "line": {
           "width": 2
          },
          "reversescale": true,
          "showscale": true,
          "size": 10
         },
         "mode": "markers",
         "text": [
          "0",
          "Mighty Protein",
          "Coffee",
          "1",
          "Granola",
          "2",
          "NONE, Art Tray",
          "3",
          "Art Tray",
          "4",
          "5",
          "Bread, Extra Salami or Feta",
          "6",
          "Salad, Extra Salami or Feta",
          "7",
          "NONE, Extra Salami or Feta",
          "8",
          "Extra Salami or Feta",
          "9",
          "10",
          "Tartine, NONE",
          "11",
          "Tartine",
          "12",
          "Bakewell",
          "13",
          "Vegan mincepie, Cake",
          "14",
          "NONE, The Nomad",
          "15",
          "Keeping It Local, Tea",
          "16",
          "Keeping It Local",
          "17",
          "Smoothies, Cake",
          "18",
          "Salad, Spanish Brunch",
          "19",
          "Salad, Cake",
          "20",
          "Salad, Sandwich",
          "21",
          "Salad",
          "22",
          "23",
          "Sandwich, Hearty & Seasonal",
          "24",
          "Juice, Jammie Dodgers",
          "25",
          "Mineral water, Alfajores",
          "26",
          "Tiffin, Sandwich",
          "27",
          "28",
          "Tiffin, Cake",
          "29",
          "Alfajores, Spanish Brunch",
          "Tea",
          "30",
          "Toast, Spanish Brunch",
          "31",
          "Soup, Spanish Brunch",
          "32",
          "Sandwich, Spanish Brunch",
          "33",
          "Juice, Spanish Brunch",
          "34",
          "NONE, Spanish Brunch",
          "35",
          "Pastry, Toast",
          "36",
          "Medialuna, Toast",
          "37",
          "Juice, Toast",
          "38",
          "Cake, Toast",
          "39",
          "NONE, Toast",
          "40",
          "41",
          "Toast",
          "42",
          "43",
          "44",
          "Cookies, Scone",
          "45",
          "Scone, NONE",
          "46",
          "Scone, Juice",
          "47",
          "Scone, Hot chocolate",
          "48",
          "Soup, NONE",
          "49",
          "Soup, Sandwich",
          "50",
          "51",
          "Soup, Cake, Sandwich",
          "52",
          "Juice, Pastry",
          "53",
          "Cookies, Juice, Cake",
          "54",
          "Cookies, Juice",
          "55",
          "56",
          "Juice, NONE",
          "57",
          "58",
          "Juice, Cake, Sandwich",
          "59",
          "NONE, Alfajores",
          "60",
          "61",
          "Cookies, Sandwich, Alfajores",
          "62",
          "Cookies, Alfajores",
          "63",
          "Pastry, Bread, Alfajores",
          "64",
          "Muffin, Sandwich",
          "65",
          "Muffin, NONE",
          "66",
          "Muffin, Cake, Tea",
          "67",
          "NONE, Brownie",
          "68",
          "Cookies, Brownie",
          "69",
          "70",
          "Sandwich, Brownie",
          "71",
          "Cookies, Hot chocolate",
          "72",
          "Cookies, Medialuna",
          "73",
          "74",
          "Cookies, Pastry",
          "75",
          "76",
          "Cookies, NONE",
          "77",
          "78",
          "Cookies, Sandwich, Hot chocolate",
          "79",
          "Cookies, Tea, Sandwich",
          "80",
          "81",
          "82",
          "83",
          "NONE, Hot chocolate, Medialuna",
          "84",
          "Hot chocolate, Medialuna",
          "85",
          "86",
          "Pastry, Bread, Hot chocolate",
          "87",
          "Pastry, Hot chocolate",
          "88",
          "89",
          "NONE, Hot chocolate",
          "90",
          "Cake, Hot chocolate",
          "91",
          "92",
          "Medialuna, Sandwich",
          "93",
          "Cake, Medialuna, Tea",
          "94",
          "Cake, Medialuna",
          "95",
          "96",
          "NONE, Medialuna",
          "97",
          "Pastry, Sandwich",
          "98",
          "Cake, Sandwich, Tea",
          "99",
          "Cake, Sandwich",
          "100",
          "101",
          "102",
          "103",
          "Pastry, NONE",
          "104",
          "105",
          "NONE, Cake",
          "106"
         ],
         "x": [
          -0.05076460415379015,
          -0.015346628119994684,
          -0.05843557207383829,
          -0.034460462698710295,
          0.04761040021944807,
          0.018516432865750793,
          0.07696937154539171,
          -0.07706453371951459,
          -0.034715656431245995,
          -0.02917027013017901,
          -0.07384553579082175,
          -0.0920980053823628,
          -0.09462698669227866,
          -0.12483585808541538,
          -0.06410444486226101,
          -0.0019863458071189143,
          0.014934872944145174,
          0.06367095400336335,
          0.02150523263665515,
          -0.019282070758891608,
          0.025439797881899776,
          -0.08287261386963751,
          -0.01578915777635936,
          -0.04738928122415613,
          -0.03321789259854529,
          0.009203467870190076,
          0.054833200371312035,
          0.0010427929128884645,
          0.05981390868039853,
          -0.05642266073031523,
          9.932794784890274E-4,
          -0.03549310253211752,
          0.06371895399463078,
          -0.08060365208535013,
          -0.07160675894422716,
          -0.050380173337155984,
          -8.2085325906007E-4,
          -0.04190330461151795,
          -0.028531134894941163,
          -0.0014972544018292864,
          0.061046941499442633,
          -0.04911959096237494,
          -0.03232043498390741,
          -0.041773177224002755,
          -0.08062382308873171,
          0.0025639022984286393,
          -0.08082808108188819,
          -0.08030265177404045,
          -0.04680956511683474,
          -0.053062765243770016,
          -0.017337618610515762,
          0.031151134511361638,
          -0.007117675785507079,
          0.018034304866258018,
          0.07514207639635091,
          0.9581414737231808,
          0.9676642468799923,
          1.0,
          -0.017252107148921756,
          0.054755776441092335,
          -0.06473070850993065,
          -0.06732396238470569,
          -0.02776451580856302,
          0.009092436504651389,
          -0.061403625477205556,
          -0.03532304324563117,
          -0.009283118256853372,
          0.055940227048897555,
          -0.01757258821329763,
          0.047864104921768784,
          -0.03500379020180538,
          0.03456731145811362,
          0.02837735521414557,
          0.08787817435581242,
          -0.0026393305551415287,
          0.06813323356558512,
          -0.06728673464224118,
          -0.03192880476268047,
          -0.057447185485906445,
          -0.04318820949209391,
          -0.056231318015125265,
          -0.0918732589115897,
          -0.07353952500688304,
          -0.028593593363023806,
          0.016285350566103647,
          -0.055201903406885064,
          -0.04508345727716741,
          0.014430910235814578,
          0.07300456032240998,
          -0.09671556247662784,
          -0.07650560028433197,
          -0.013906041120711575,
          0.05008497113424916,
          -0.026304647135548195,
          0.03715898695646669,
          0.02204608403580682,
          -0.028811033368202267,
          0.0013868045975851168,
          -0.06506750603172351,
          -0.012752390178054593,
          -0.04081461747643248,
          -0.016684765268242606,
          0.022791907134846398,
          0.034168675945645266,
          -0.03721249497109985,
          -0.09102237021666358,
          -0.009460378735997543,
          -0.018209673256881123,
          -0.07955176474058763,
          -0.04258700004729159,
          -0.010124649441304269,
          -0.026244719973746944,
          -0.06686865089292238,
          -0.01136926776466213,
          0.044170686858605576,
          -0.019304580811935885,
          0.04910654318160225,
          -0.026825663543274827,
          0.03521733580186636,
          -0.01516396190042609,
          0.03963212323099333,
          0.004393096696708139,
          0.05815485323290436,
          -8.031087115326333E-4,
          0.047850977980876244,
          0.01682111887620905,
          0.08299371416589182,
          0.0010273311639005433,
          -0.013575343152120199,
          -0.07478902400970384,
          -0.021904488454048222,
          0.007018432050730921,
          -0.008939577128750315,
          -0.012194211219026361,
          -0.05177271082828188,
          -0.025851742593715952,
          -0.015833288017176622,
          -0.06266321393746603,
          -0.07621119654075441,
          -0.08674902109545506,
          -0.09571445759753985,
          -0.09009612858820304,
          -0.07184575102533194,
          -0.0011799675539823449,
          0.05962371314826352,
          -0.09063804653948541,
          0.017699046350524522,
          -0.07132510566471652,
          0.0031571174019584475,
          0.01010889363919924,
          -0.023878504544472295,
          0.017632177398180987,
          0.011987495755083795,
          0.021669325663062892,
          -0.0337708665323076,
          0.00985508294596518,
          0.07230514253680251,
          -0.053611411091086504,
          0.03473458134491615,
          0.0035251819684870333,
          -0.09591837066609944,
          -0.027888864941996477,
          0.024764948578512743,
          -0.008009299979185912,
          -0.09035657750442136,
          -0.0017022510754852976,
          0.06923433831142556,
          0.024406228836556174,
          0.0739495593066538,
          0.03270583973286681,
          0.028135115633293732,
          -0.036606624144524966,
          -0.06062844073379888,
          0.017546938378075035,
          -2.1253431094488275E-4,
          0.056185367358219176,
          -0.05521340776762758,
          -0.04161399456557588,
          -0.017445403510924207,
          0.010037588103220621,
          0.012621406726138719,
          0.012635449119094989,
          -0.04369718487655366,
          -0.02246351469576157,
          0.013237499724527991,
          -0.0299888735850765,
          -0.09340491609287249,
          -0.03286553769230143,
          -0.08600658760609993
         ],
         "y": [
          -0.00471303530025346,
          0.05219990649976937,
          -0.03887625061925717,
          -0.0816840801782547,
          -0.06877387236079172,
          0.015301665916663354,
          0.04289102194102762,
          -0.013444469603914933,
          -0.002461169809684727,
          -0.041621813363785315,
          0.011102440639392839,
          0.057768328584071826,
          -0.049342959506738136,
          -0.035446351638301746,
          -0.059101405505323015,
          -0.07388394866621023,
          -0.027367267522558473,
          -0.0025121585990367026,
          0.004836799915982048,
          0.01375784828000473,
          0.06508136145774185,
          0.006131677968853438,
          0.07065913699966134,
          -0.05048784535081829,
          -0.0981514367614707,
          0.019186523142146288,
          0.06739864832638012,
          -0.023193656138924656,
          -0.0019263405616760123,
          -0.0776122454966866,
          -0.0959440837739651,
          -0.06482535102981125,
          -0.03387221606846632,
          -0.02429477964021104,
          0.03572709889960698,
          -0.07186798901397544,
          -0.10218279318904537,
          0.022003007865749644,
          0.07782722680107991,
          -0.0024463717765599463,
          0.028002946981476394,
          0.01809978010655138,
          -0.02796457241221188,
          -0.08250362781654313,
          -0.042544627873485154,
          -0.011511280983146984,
          -0.07139578072612676,
          -0.10659908835641621,
          0.006234454775911512,
          0.05976329944313873,
          0.020312447471090154,
          -0.011133613800967952,
          -0.05830897531985499,
          -0.03218681013609564,
          -0.04473453455989097,
          0.8953285557471904,
          0.8878994129757071,
          0.9338365248979383,
          -0.07387543725166881,
          -0.07486071082295526,
          -0.07694327333923352,
          -0.1193492283609737,
          -0.008724136471508919,
          0.04111833966707353,
          0.01670265004277374,
          0.0769980940583466,
          0.017747581717170433,
          0.062428369087760165,
          -0.02440644821634774,
          -1.9640333554726876E-4,
          0.021152750850376344,
          0.08012866397663904,
          0.001601571407045278,
          0.024788401796347885,
          -0.03394215039179857,
          -0.021379053415331667,
          0.00564577773990941,
          0.048505909994007695,
          0.0050147770907363245,
          -0.011756836575156531,
          -0.01758219095977962,
          -0.005109054697788441,
          -0.06190475448298878,
          0.019858171479835304,
          0.0762707890212825,
          0.01230531343657892,
          0.07051689699737149,
          -0.015791499379232656,
          -0.012534359247030988,
          -0.01850131035794684,
          0.040821427599055694,
          -0.0010647525921050368,
          0.03452882493497445,
          -0.07897586728800819,
          -0.05855329939700366,
          -0.022193152683614614,
          0.02532528924191111,
          0.0812844994429678,
          -0.06914542123915171,
          -0.09210889050044445,
          -0.057416135348404104,
          -0.10307824198249262,
          -0.005032480921562845,
          0.04142773021916775,
          0.013108123808421676,
          0.0010770511793736987,
          0.008338941582732554,
          -0.06316844284777216,
          -0.0011322341697565044,
          0.05893516842309818,
          -0.04663370150535071,
          0.002221867253902417,
          0.01364935861243388,
          -0.017388790969667417,
          0.01757067514041213,
          -0.010644660290380985,
          0.03865157658656994,
          -0.07051789433834003,
          -0.08162001501141142,
          -0.06849811470960843,
          -0.091027275357256,
          0.009603861206562814,
          0.047719244923358634,
          0.01610905605211895,
          0.06270051587473764,
          -0.00850296862456001,
          0.01194692092882464,
          -0.04813260290457406,
          -0.02725349950846249,
          -0.03127364541751958,
          -0.0012801981026806576,
          0.052056447092575904,
          -0.008021115464236504,
          -0.011244558035390708,
          -0.028440448826607276,
          0.018550296725923225,
          0.00900327691039819,
          -0.010003425254417822,
          0.02734883982998964,
          -0.011632741948454471,
          -0.010041364732785484,
          -0.023740874031597727,
          -0.049164314245261694,
          -0.028999900732554783,
          -0.025866862437477472,
          -0.018371913365076313,
          0.05009711681748947,
          -0.0024438100563646454,
          -0.053825789950679326,
          1.4517409136561326E-7,
          -0.05290102177439119,
          -0.08731320196942549,
          0.005299090776140481,
          -0.04442544514579168,
          -0.07282950233122826,
          -0.0070347140338609445,
          0.018328345311736487,
          -0.06356360940285592,
          -0.03858959807934452,
          -0.04291036374080042,
          -0.06029738577682821,
          -0.03153746834810045,
          -0.014199097386897813,
          0.005107598445571858,
          -0.03226424703185232,
          -0.03944922474300496,
          -0.0344996767766439,
          0.01078231752251632,
          0.04664669293028725,
          0.004814087354121055,
          0.0394318042622161,
          0.006219149515469094,
          -0.0018283156835092432,
          0.0609009183413618,
          -0.010466862140389242,
          -0.007143566897661888,
          -0.08462230687174188,
          -0.12737350814894657,
          -0.056988761043358815,
          -0.039962392386278266,
          0.012542824456528195,
          -0.021754396793700333,
          -0.07524415748392106,
          -0.04600861473656183,
          -0.06658388508707813,
          -0.058457391917309275,
          -0.039838368597954685,
          -0.01754949197579578,
          -0.06043362661542013
         ],
         "type": "scatter"
        }
       ],
       "layout": {
        "annotations": [
         {
          "showarrow": false,
          "text": "Python code: <a href='https://plotly.com/ipython-notebooks/network-graphs/'> https://plotly.com/ipython-notebooks/network-graphs/</a>",
          "x": 0.005,
          "xref": "paper",
          "y": -0.002,
          "yref": "paper"
         }
        ],
        "hovermode": "closest",
        "margin": {
         "b": 20,
         "l": 5,
         "r": 5,
         "t": 40
        },
        "showlegend": false,
        "title": {
         "font": {
          "size": 16
         },
         "text": "<br>Network graph made with Python"
        },
        "xaxis": {
         "showgrid": false,
         "showticklabels": false,
         "zeroline": false
        },
        "yaxis": {
         "showgrid": false,
         "showticklabels": false,
         "zeroline": false
        },
        "template": {
         "data": {
          "histogram2dcontour": [
           {
            "type": "histogram2dcontour",
            "colorbar": {
             "outlinewidth": 0,
             "ticks": ""
            },
            "colorscale": [
             [
              0.0,
              "#0d0887"
             ],
             [
              0.1111111111111111,
              "#46039f"
             ],
             [
              0.2222222222222222,
              "#7201a8"
             ],
             [
              0.3333333333333333,
              "#9c179e"
             ],
             [
              0.4444444444444444,
              "#bd3786"
             ],
             [
              0.5555555555555556,
              "#d8576b"
             ],
             [
              0.6666666666666666,
              "#ed7953"
             ],
             [
              0.7777777777777778,
              "#fb9f3a"
             ],
             [
              0.8888888888888888,
              "#fdca26"
             ],
             [
              1.0,
              "#f0f921"
             ]
            ]
           }
          ],
          "choropleth": [
           {
            "type": "choropleth",
            "colorbar": {
             "outlinewidth": 0,
             "ticks": ""
            }
           }
          ],
          "histogram2d": [
           {
            "type": "histogram2d",
            "colorbar": {
             "outlinewidth": 0,
             "ticks": ""
            },
            "colorscale": [
             [
              0.0,
              "#0d0887"
             ],
             [
              0.1111111111111111,
              "#46039f"
             ],
             [
              0.2222222222222222,
              "#7201a8"
             ],
             [
              0.3333333333333333,
              "#9c179e"
             ],
             [
              0.4444444444444444,
              "#bd3786"
             ],
             [
              0.5555555555555556,
              "#d8576b"
             ],
             [
              0.6666666666666666,
              "#ed7953"
             ],
             [
              0.7777777777777778,
              "#fb9f3a"
             ],
             [
              0.8888888888888888,
              "#fdca26"
             ],
             [
              1.0,
              "#f0f921"
             ]
            ]
           }
          ],
          "heatmap": [
           {
            "type": "heatmap",
            "colorbar": {
             "outlinewidth": 0,
             "ticks": ""
            },
            "colorscale": [
             [
              0.0,
              "#0d0887"
             ],
             [
              0.1111111111111111,
              "#46039f"
             ],
             [
              0.2222222222222222,
              "#7201a8"
             ],
             [
              0.3333333333333333,
              "#9c179e"
             ],
             [
              0.4444444444444444,
              "#bd3786"
             ],
             [
              0.5555555555555556,
              "#d8576b"
             ],
             [
              0.6666666666666666,
              "#ed7953"
             ],
             [
              0.7777777777777778,
              "#fb9f3a"
             ],
             [
              0.8888888888888888,
              "#fdca26"
             ],
             [
              1.0,
              "#f0f921"
             ]
            ]
           }
          ],
          "heatmapgl": [
           {
            "type": "heatmapgl",
            "colorbar": {
             "outlinewidth": 0,
             "ticks": ""
            },
            "colorscale": [
             [
              0.0,
              "#0d0887"
             ],
             [
              0.1111111111111111,
              "#46039f"
             ],
             [
              0.2222222222222222,
              "#7201a8"
             ],
             [
              0.3333333333333333,
              "#9c179e"
             ],
             [
              0.4444444444444444,
              "#bd3786"
             ],
             [
              0.5555555555555556,
              "#d8576b"
             ],
             [
              0.6666666666666666,
              "#ed7953"
             ],
             [
              0.7777777777777778,
              "#fb9f3a"
             ],
             [
              0.8888888888888888,
              "#fdca26"
             ],
             [
              1.0,
              "#f0f921"
             ]
            ]
           }
          ],
          "contourcarpet": [
           {
            "type": "contourcarpet",
            "colorbar": {
             "outlinewidth": 0,
             "ticks": ""
            }
           }
          ],
          "contour": [
           {
            "type": "contour",
            "colorbar": {
             "outlinewidth": 0,
             "ticks": ""
            },
            "colorscale": [
             [
              0.0,
              "#0d0887"
             ],
             [
              0.1111111111111111,
              "#46039f"
             ],
             [
              0.2222222222222222,
              "#7201a8"
             ],
             [
              0.3333333333333333,
              "#9c179e"
             ],
             [
              0.4444444444444444,
              "#bd3786"
             ],
             [
              0.5555555555555556,
              "#d8576b"
             ],
             [
              0.6666666666666666,
              "#ed7953"
             ],
             [
              0.7777777777777778,
              "#fb9f3a"
             ],
             [
              0.8888888888888888,
              "#fdca26"
             ],
             [
              1.0,
              "#f0f921"
             ]
            ]
           }
          ],
          "surface": [
           {
            "type": "surface",
            "colorbar": {
             "outlinewidth": 0,
             "ticks": ""
            },
            "colorscale": [
             [
              0.0,
              "#0d0887"
             ],
             [
              0.1111111111111111,
              "#46039f"
             ],
             [
              0.2222222222222222,
              "#7201a8"
             ],
             [
              0.3333333333333333,
              "#9c179e"
             ],
             [
              0.4444444444444444,
              "#bd3786"
             ],
             [
              0.5555555555555556,
              "#d8576b"
             ],
             [
              0.6666666666666666,
              "#ed7953"
             ],
             [
              0.7777777777777778,
              "#fb9f3a"
             ],
             [
              0.8888888888888888,
              "#fdca26"
             ],
             [
              1.0,
              "#f0f921"
             ]
            ]
           }
          ],
          "mesh3d": [
           {
            "type": "mesh3d",
            "colorbar": {
             "outlinewidth": 0,
             "ticks": ""
            }
           }
          ],
          "scatter": [
           {
            "fillpattern": {
             "fillmode": "overlay",
             "size": 10,
             "solidity": 0.2
            },
            "type": "scatter"
           }
          ],
          "parcoords": [
           {
            "type": "parcoords",
            "line": {
             "colorbar": {
              "outlinewidth": 0,
              "ticks": ""
             }
            }
           }
          ],
          "scatterpolargl": [
           {
            "type": "scatterpolargl",
            "marker": {
             "colorbar": {
              "outlinewidth": 0,
              "ticks": ""
             }
            }
           }
          ],
          "bar": [
           {
            "error_x": {
             "color": "#2a3f5f"
            },
            "error_y": {
             "color": "#2a3f5f"
            },
            "marker": {
             "line": {
              "color": "#E5ECF6",
              "width": 0.5
             },
             "pattern": {
              "fillmode": "overlay",
              "size": 10,
              "solidity": 0.2
             }
            },
            "type": "bar"
           }
          ],
          "scattergeo": [
           {
            "type": "scattergeo",
            "marker": {
             "colorbar": {
              "outlinewidth": 0,
              "ticks": ""
             }
            }
           }
          ],
          "scatterpolar": [
           {
            "type": "scatterpolar",
            "marker": {
             "colorbar": {
              "outlinewidth": 0,
              "ticks": ""
             }
            }
           }
          ],
          "histogram": [
           {
            "marker": {
             "pattern": {
              "fillmode": "overlay",
              "size": 10,
              "solidity": 0.2
             }
            },
            "type": "histogram"
           }
          ],
          "scattergl": [
           {
            "type": "scattergl",
            "marker": {
             "colorbar": {
              "outlinewidth": 0,
              "ticks": ""
             }
            }
           }
          ],
          "scatter3d": [
           {
            "type": "scatter3d",
            "line": {
             "colorbar": {
              "outlinewidth": 0,
              "ticks": ""
             }
            },
            "marker": {
             "colorbar": {
              "outlinewidth": 0,
              "ticks": ""
             }
            }
           }
          ],
          "scattermapbox": [
           {
            "type": "scattermapbox",
            "marker": {
             "colorbar": {
              "outlinewidth": 0,
              "ticks": ""
             }
            }
           }
          ],
          "scatterternary": [
           {
            "type": "scatterternary",
            "marker": {
             "colorbar": {
              "outlinewidth": 0,
              "ticks": ""
             }
            }
           }
          ],
          "scattercarpet": [
           {
            "type": "scattercarpet",
            "marker": {
             "colorbar": {
              "outlinewidth": 0,
              "ticks": ""
             }
            }
           }
          ],
          "carpet": [
           {
            "aaxis": {
             "endlinecolor": "#2a3f5f",
             "gridcolor": "white",
             "linecolor": "white",
             "minorgridcolor": "white",
             "startlinecolor": "#2a3f5f"
            },
            "baxis": {
             "endlinecolor": "#2a3f5f",
             "gridcolor": "white",
             "linecolor": "white",
             "minorgridcolor": "white",
             "startlinecolor": "#2a3f5f"
            },
            "type": "carpet"
           }
          ],
          "table": [
           {
            "cells": {
             "fill": {
              "color": "#EBF0F8"
             },
             "line": {
              "color": "white"
             }
            },
            "header": {
             "fill": {
              "color": "#C8D4E3"
             },
             "line": {
              "color": "white"
             }
            },
            "type": "table"
           }
          ],
          "barpolar": [
           {
            "marker": {
             "line": {
              "color": "#E5ECF6",
              "width": 0.5
             },
             "pattern": {
              "fillmode": "overlay",
              "size": 10,
              "solidity": 0.2
             }
            },
            "type": "barpolar"
           }
          ],
          "pie": [
           {
            "automargin": true,
            "type": "pie"
           }
          ]
         },
         "layout": {
          "autotypenumbers": "strict",
          "colorway": [
           "#636efa",
           "#EF553B",
           "#00cc96",
           "#ab63fa",
           "#FFA15A",
           "#19d3f3",
           "#FF6692",
           "#B6E880",
           "#FF97FF",
           "#FECB52"
          ],
          "font": {
           "color": "#2a3f5f"
          },
          "hovermode": "closest",
          "hoverlabel": {
           "align": "left"
          },
          "paper_bgcolor": "white",
          "plot_bgcolor": "#E5ECF6",
          "polar": {
           "bgcolor": "#E5ECF6",
           "angularaxis": {
            "gridcolor": "white",
            "linecolor": "white",
            "ticks": ""
           },
           "radialaxis": {
            "gridcolor": "white",
            "linecolor": "white",
            "ticks": ""
           }
          },
          "ternary": {
           "bgcolor": "#E5ECF6",
           "aaxis": {
            "gridcolor": "white",
            "linecolor": "white",
            "ticks": ""
           },
           "baxis": {
            "gridcolor": "white",
            "linecolor": "white",
            "ticks": ""
           },
           "caxis": {
            "gridcolor": "white",
            "linecolor": "white",
            "ticks": ""
           }
          },
          "coloraxis": {
           "colorbar": {
            "outlinewidth": 0,
            "ticks": ""
           }
          },
          "colorscale": {
           "sequential": [
            [
             0.0,
             "#0d0887"
            ],
            [
             0.1111111111111111,
             "#46039f"
            ],
            [
             0.2222222222222222,
             "#7201a8"
            ],
            [
             0.3333333333333333,
             "#9c179e"
            ],
            [
             0.4444444444444444,
             "#bd3786"
            ],
            [
             0.5555555555555556,
             "#d8576b"
            ],
            [
             0.6666666666666666,
             "#ed7953"
            ],
            [
             0.7777777777777778,
             "#fb9f3a"
            ],
            [
             0.8888888888888888,
             "#fdca26"
            ],
            [
             1.0,
             "#f0f921"
            ]
           ],
           "sequentialminus": [
            [
             0.0,
             "#0d0887"
            ],
            [
             0.1111111111111111,
             "#46039f"
            ],
            [
             0.2222222222222222,
             "#7201a8"
            ],
            [
             0.3333333333333333,
             "#9c179e"
            ],
            [
             0.4444444444444444,
             "#bd3786"
            ],
            [
             0.5555555555555556,
             "#d8576b"
            ],
            [
             0.6666666666666666,
             "#ed7953"
            ],
            [
             0.7777777777777778,
             "#fb9f3a"
            ],
            [
             0.8888888888888888,
             "#fdca26"
            ],
            [
             1.0,
             "#f0f921"
            ]
           ],
           "diverging": [
            [
             0,
             "#8e0152"
            ],
            [
             0.1,
             "#c51b7d"
            ],
            [
             0.2,
             "#de77ae"
            ],
            [
             0.3,
             "#f1b6da"
            ],
            [
             0.4,
             "#fde0ef"
            ],
            [
             0.5,
             "#f7f7f7"
            ],
            [
             0.6,
             "#e6f5d0"
            ],
            [
             0.7,
             "#b8e186"
            ],
            [
             0.8,
             "#7fbc41"
            ],
            [
             0.9,
             "#4d9221"
            ],
            [
             1,
             "#276419"
            ]
           ]
          },
          "xaxis": {
           "gridcolor": "white",
           "linecolor": "white",
           "ticks": "",
           "title": {
            "standoff": 15
           },
           "zerolinecolor": "white",
           "automargin": true,
           "zerolinewidth": 2
          },
          "yaxis": {
           "gridcolor": "white",
           "linecolor": "white",
           "ticks": "",
           "title": {
            "standoff": 15
           },
           "zerolinecolor": "white",
           "automargin": true,
           "zerolinewidth": 2
          },
          "scene": {
           "xaxis": {
            "backgroundcolor": "#E5ECF6",
            "gridcolor": "white",
            "linecolor": "white",
            "showbackground": true,
            "ticks": "",
            "zerolinecolor": "white",
            "gridwidth": 2
           },
           "yaxis": {
            "backgroundcolor": "#E5ECF6",
            "gridcolor": "white",
            "linecolor": "white",
            "showbackground": true,
            "ticks": "",
            "zerolinecolor": "white",
            "gridwidth": 2
           },
           "zaxis": {
            "backgroundcolor": "#E5ECF6",
            "gridcolor": "white",
            "linecolor": "white",
            "showbackground": true,
            "ticks": "",
            "zerolinecolor": "white",
            "gridwidth": 2
           }
          },
          "shapedefaults": {
           "line": {
            "color": "#2a3f5f"
           }
          },
          "annotationdefaults": {
           "arrowcolor": "#2a3f5f",
           "arrowhead": 0,
           "arrowwidth": 1
          },
          "geo": {
           "bgcolor": "white",
           "landcolor": "#E5ECF6",
           "subunitcolor": "white",
           "showland": true,
           "showlakes": true,
           "lakecolor": "white"
          },
          "title": {
           "x": 0.05
          },
          "mapbox": {
           "style": "light"
          }
         }
        }
       },
       "config": {
        "plotlyServerURL": "https://plot.ly"
       }
      },
      "text/html": [
       "<div>                            <div id=\"202b3b3b-744b-4fc8-a5ad-1f588176c0d6\" class=\"plotly-graph-div\" style=\"height:525px; width:100%;\"></div>            <script type=\"text/javascript\">                require([\"plotly\"], function(Plotly) {                    window.PLOTLYENV=window.PLOTLYENV || {};                                    if (document.getElementById(\"202b3b3b-744b-4fc8-a5ad-1f588176c0d6\")) {                    Plotly.newPlot(                        \"202b3b3b-744b-4fc8-a5ad-1f588176c0d6\",                        [{\"hoverinfo\":\"none\",\"line\":{\"color\":\"#888\",\"width\":0.5},\"mode\":\"lines\",\"x\":[-0.05076460415379015,-0.05843557207383829,null,-0.015346628119994684,-0.05076460415379015,null,-0.034460462698710295,-0.05843557207383829,null,0.04761040021944807,-0.034460462698710295,null,0.018516432865750793,-0.05843557207383829,null,0.07696937154539171,0.018516432865750793,null,-0.07706453371951459,-0.05843557207383829,null,-0.034715656431245995,-0.07706453371951459,null,-0.034715656431245995,-0.02917027013017901,null,-0.02917027013017901,-0.05843557207383829,null,-0.07384553579082175,-0.05843557207383829,null,-0.0920980053823628,-0.07384553579082175,null,-0.09462698669227866,-0.05843557207383829,null,-0.12483585808541538,-0.09462698669227866,null,-0.06410444486226101,-0.05843557207383829,null,-0.0019863458071189143,-0.06410444486226101,null,0.014934872944145174,-0.05843557207383829,null,0.06367095400336335,0.014934872944145174,null,0.06367095400336335,0.02150523263665515,null,0.02150523263665515,-0.05843557207383829,null,-0.019282070758891608,-0.05843557207383829,null,0.025439797881899776,-0.019282070758891608,null,-0.08287261386963751,-0.05843557207383829,null,-0.01578915777635936,-0.08287261386963751,null,-0.04738928122415613,-0.05843557207383829,null,-0.03321789259854529,-0.04738928122415613,null,0.009203467870190076,-0.05843557207383829,null,0.054833200371312035,0.009203467870190076,null,0.0010427929128884645,-0.05843557207383829,null,0.05981390868039853,0.0010427929128884645,null,-0.05642266073031523,-0.05843557207383829,null,0.0009932794784890274,-0.05642266073031523,null,-0.03549310253211752,-0.05843557207383829,null,0.06371895399463078,-0.03549310253211752,null,-0.08060365208535013,-0.05843557207383829,null,-0.07160675894422716,-0.08060365208535013,null,-0.050380173337155984,-0.05843557207383829,null,-0.00082085325906007,-0.050380173337155984,null,-0.04190330461151795,-0.05843557207383829,null,-0.028531134894941163,-0.04190330461151795,null,-0.0014972544018292864,-0.05843557207383829,null,0.061046941499442633,-0.0014972544018292864,null,-0.04911959096237494,-0.05843557207383829,null,-0.03232043498390741,-0.04911959096237494,null,-0.03232043498390741,-0.041773177224002755,null,-0.041773177224002755,-0.05843557207383829,null,-0.08062382308873171,-0.05843557207383829,null,0.0025639022984286393,-0.08062382308873171,null,-0.08082808108188819,-0.05843557207383829,null,-0.08030265177404045,-0.08082808108188819,null,-0.04680956511683474,-0.05843557207383829,null,-0.053062765243770016,-0.04680956511683474,null,-0.017337618610515762,-0.05843557207383829,null,0.031151134511361638,-0.017337618610515762,null,0.031151134511361638,-0.007117675785507079,null,-0.007117675785507079,-0.05843557207383829,null,0.018034304866258018,-0.05843557207383829,null,0.07514207639635091,0.018034304866258018,null,0.9581414737231808,1.0,null,0.9676642468799923,0.9581414737231808,null,-0.017252107148921756,-0.05843557207383829,null,0.054755776441092335,-0.017252107148921756,null,-0.06473070850993065,-0.05843557207383829,null,-0.06732396238470569,-0.06473070850993065,null,-0.02776451580856302,-0.05843557207383829,null,0.009092436504651389,-0.02776451580856302,null,-0.061403625477205556,-0.05843557207383829,null,-0.03532304324563117,-0.061403625477205556,null,-0.009283118256853372,-0.05843557207383829,null,0.055940227048897555,-0.009283118256853372,null,-0.01757258821329763,-0.05843557207383829,null,0.047864104921768784,-0.01757258821329763,null,-0.03500379020180538,-0.05843557207383829,null,0.03456731145811362,-0.03500379020180538,null,0.02837735521414557,-0.05843557207383829,null,0.08787817435581242,0.02837735521414557,null,-0.0026393305551415287,-0.05843557207383829,null,0.06813323356558512,-0.0026393305551415287,null,-0.06728673464224118,-0.05843557207383829,null,-0.03192880476268047,-0.06728673464224118,null,-0.03192880476268047,-0.057447185485906445,null,-0.057447185485906445,-0.05843557207383829,null,-0.04318820949209391,-0.05843557207383829,null,-0.056231318015125265,-0.04318820949209391,null,-0.056231318015125265,-0.0918732589115897,null,-0.056231318015125265,-0.07353952500688304,null,-0.0918732589115897,-0.05843557207383829,null,-0.07353952500688304,-0.05843557207383829,null,-0.028593593363023806,-0.05843557207383829,null,0.016285350566103647,-0.028593593363023806,null,-0.055201903406885064,-0.05843557207383829,null,-0.04508345727716741,-0.055201903406885064,null,0.014430910235814578,-0.05843557207383829,null,0.07300456032240998,0.014430910235814578,null,-0.09671556247662784,-0.05843557207383829,null,-0.07650560028433197,-0.09671556247662784,null,-0.013906041120711575,-0.05843557207383829,null,0.05008497113424916,-0.013906041120711575,null,-0.026304647135548195,-0.05843557207383829,null,0.03715898695646669,-0.026304647135548195,null,0.03715898695646669,0.02204608403580682,null,0.02204608403580682,-0.05843557207383829,null,-0.028811033368202267,-0.05843557207383829,null,0.0013868045975851168,-0.028811033368202267,null,-0.06506750603172351,-0.05843557207383829,null,-0.012752390178054593,-0.06506750603172351,null,-0.04081461747643248,-0.05843557207383829,null,-0.016684765268242606,-0.04081461747643248,null,0.022791907134846398,-0.05843557207383829,null,0.034168675945645266,0.022791907134846398,null,0.034168675945645266,-0.03721249497109985,null,-0.03721249497109985,-0.05843557207383829,null,-0.09102237021666358,-0.05843557207383829,null,-0.009460378735997543,-0.09102237021666358,null,-0.009460378735997543,-0.018209673256881123,null,-0.018209673256881123,-0.05843557207383829,null,-0.07955176474058763,-0.05843557207383829,null,-0.04258700004729159,-0.07955176474058763,null,-0.010124649441304269,-0.05843557207383829,null,-0.026244719973746944,-0.010124649441304269,null,-0.026244719973746944,-0.06686865089292238,null,-0.06686865089292238,-0.05843557207383829,null,-0.01136926776466213,-0.05843557207383829,null,0.044170686858605576,-0.01136926776466213,null,-0.019304580811935885,-0.05843557207383829,null,0.04910654318160225,-0.019304580811935885,null,-0.026825663543274827,-0.05843557207383829,null,0.03521733580186636,-0.026825663543274827,null,-0.01516396190042609,-0.05843557207383829,null,0.03963212323099333,-0.01516396190042609,null,0.004393096696708139,-0.05843557207383829,null,0.05815485323290436,0.004393096696708139,null,-0.0008031087115326333,-0.05843557207383829,null,0.047850977980876244,-0.0008031087115326333,null,0.01682111887620905,-0.05843557207383829,null,0.08299371416589182,0.01682111887620905,null,0.0010273311639005433,-0.05843557207383829,null,-0.013575343152120199,0.0010273311639005433,null,-0.013575343152120199,-0.07478902400970384,null,-0.07478902400970384,-0.05843557207383829,null,-0.021904488454048222,-0.05843557207383829,null,0.007018432050730921,-0.021904488454048222,null,-0.008939577128750315,-0.05843557207383829,null,-0.012194211219026361,-0.008939577128750315,null,-0.012194211219026361,-0.07132510566471652,null,-0.012194211219026361,0.0031571174019584475,null,-0.012194211219026361,0.01010889363919924,null,-0.05177271082828188,-0.05843557207383829,null,-0.025851742593715952,-0.05177271082828188,null,-0.025851742593715952,-0.015833288017176622,null,-0.015833288017176622,-0.05843557207383829,null,-0.06266321393746603,-0.05843557207383829,null,-0.07621119654075441,-0.06266321393746603,null,-0.07621119654075441,-0.08674902109545506,null,-0.08674902109545506,-0.05843557207383829,null,-0.09571445759753985,-0.05843557207383829,null,-0.09009612858820304,-0.09571445759753985,null,-0.09009612858820304,-0.07184575102533194,null,-0.07184575102533194,-0.05843557207383829,null,-0.0011799675539823449,-0.05843557207383829,null,0.05962371314826352,-0.0011799675539823449,null,-0.09063804653948541,-0.05843557207383829,null,0.017699046350524522,-0.09063804653948541,null,-0.07132510566471652,-0.05843557207383829,null,0.0031571174019584475,-0.05843557207383829,null,0.01010889363919924,-0.05843557207383829,null,-0.023878504544472295,-0.05843557207383829,null,0.017632177398180987,-0.023878504544472295,null,0.011987495755083795,-0.05843557207383829,null,0.021669325663062892,0.011987495755083795,null,0.021669325663062892,-0.0337708665323076,null,-0.0337708665323076,-0.05843557207383829,null,0.00985508294596518,-0.05843557207383829,null,0.07230514253680251,0.00985508294596518,null,-0.053611411091086504,-0.05843557207383829,null,0.03473458134491615,-0.053611411091086504,null,0.03473458134491615,0.0035251819684870333,null,0.0035251819684870333,-0.05843557207383829,null,-0.09591837066609944,-0.05843557207383829,null,-0.027888864941996477,-0.09591837066609944,null,0.024764948578512743,-0.05843557207383829,null,-0.008009299979185912,0.024764948578512743,null,-0.008009299979185912,-0.09035657750442136,null,-0.09035657750442136,-0.05843557207383829,null,-0.0017022510754852976,-0.05843557207383829,null,0.06923433831142556,-0.0017022510754852976,null,0.024406228836556174,-0.05843557207383829,null,0.0739495593066538,0.024406228836556174,null,0.03270583973286681,-0.05843557207383829,null,0.028135115633293732,0.03270583973286681,null,0.028135115633293732,-0.036606624144524966,null,-0.036606624144524966,-0.05843557207383829,null,-0.06062844073379888,-0.05843557207383829,null,0.017546938378075035,-0.06062844073379888,null,-0.00021253431094488275,-0.05843557207383829,null,0.056185367358219176,-0.00021253431094488275,null,-0.05521340776762758,-0.05843557207383829,null,-0.04161399456557588,-0.05521340776762758,null,-0.017445403510924207,-0.05843557207383829,null,0.010037588103220621,-0.017445403510924207,null,0.010037588103220621,0.012621406726138719,null,0.010037588103220621,0.012635449119094989,null,0.010037588103220621,-0.04369718487655366,null,0.012621406726138719,-0.05843557207383829,null,0.012635449119094989,-0.05843557207383829,null,-0.04369718487655366,-0.05843557207383829,null,-0.02246351469576157,-0.05843557207383829,null,0.013237499724527991,-0.02246351469576157,null,0.013237499724527991,-0.0299888735850765,null,-0.0299888735850765,-0.05843557207383829,null,-0.09340491609287249,-0.05843557207383829,null,-0.03286553769230143,-0.09340491609287249,null,-0.03286553769230143,-0.08600658760609993,null,-0.08600658760609993,-0.05843557207383829,null],\"y\":[-0.00471303530025346,-0.03887625061925717,null,0.05219990649976937,-0.00471303530025346,null,-0.0816840801782547,-0.03887625061925717,null,-0.06877387236079172,-0.0816840801782547,null,0.015301665916663354,-0.03887625061925717,null,0.04289102194102762,0.015301665916663354,null,-0.013444469603914933,-0.03887625061925717,null,-0.002461169809684727,-0.013444469603914933,null,-0.002461169809684727,-0.041621813363785315,null,-0.041621813363785315,-0.03887625061925717,null,0.011102440639392839,-0.03887625061925717,null,0.057768328584071826,0.011102440639392839,null,-0.049342959506738136,-0.03887625061925717,null,-0.035446351638301746,-0.049342959506738136,null,-0.059101405505323015,-0.03887625061925717,null,-0.07388394866621023,-0.059101405505323015,null,-0.027367267522558473,-0.03887625061925717,null,-0.0025121585990367026,-0.027367267522558473,null,-0.0025121585990367026,0.004836799915982048,null,0.004836799915982048,-0.03887625061925717,null,0.01375784828000473,-0.03887625061925717,null,0.06508136145774185,0.01375784828000473,null,0.006131677968853438,-0.03887625061925717,null,0.07065913699966134,0.006131677968853438,null,-0.05048784535081829,-0.03887625061925717,null,-0.0981514367614707,-0.05048784535081829,null,0.019186523142146288,-0.03887625061925717,null,0.06739864832638012,0.019186523142146288,null,-0.023193656138924656,-0.03887625061925717,null,-0.0019263405616760123,-0.023193656138924656,null,-0.0776122454966866,-0.03887625061925717,null,-0.0959440837739651,-0.0776122454966866,null,-0.06482535102981125,-0.03887625061925717,null,-0.03387221606846632,-0.06482535102981125,null,-0.02429477964021104,-0.03887625061925717,null,0.03572709889960698,-0.02429477964021104,null,-0.07186798901397544,-0.03887625061925717,null,-0.10218279318904537,-0.07186798901397544,null,0.022003007865749644,-0.03887625061925717,null,0.07782722680107991,0.022003007865749644,null,-0.0024463717765599463,-0.03887625061925717,null,0.028002946981476394,-0.0024463717765599463,null,0.01809978010655138,-0.03887625061925717,null,-0.02796457241221188,0.01809978010655138,null,-0.02796457241221188,-0.08250362781654313,null,-0.08250362781654313,-0.03887625061925717,null,-0.042544627873485154,-0.03887625061925717,null,-0.011511280983146984,-0.042544627873485154,null,-0.07139578072612676,-0.03887625061925717,null,-0.10659908835641621,-0.07139578072612676,null,0.006234454775911512,-0.03887625061925717,null,0.05976329944313873,0.006234454775911512,null,0.020312447471090154,-0.03887625061925717,null,-0.011133613800967952,0.020312447471090154,null,-0.011133613800967952,-0.05830897531985499,null,-0.05830897531985499,-0.03887625061925717,null,-0.03218681013609564,-0.03887625061925717,null,-0.04473453455989097,-0.03218681013609564,null,0.8953285557471904,0.9338365248979383,null,0.8878994129757071,0.8953285557471904,null,-0.07387543725166881,-0.03887625061925717,null,-0.07486071082295526,-0.07387543725166881,null,-0.07694327333923352,-0.03887625061925717,null,-0.1193492283609737,-0.07694327333923352,null,-0.008724136471508919,-0.03887625061925717,null,0.04111833966707353,-0.008724136471508919,null,0.01670265004277374,-0.03887625061925717,null,0.0769980940583466,0.01670265004277374,null,0.017747581717170433,-0.03887625061925717,null,0.062428369087760165,0.017747581717170433,null,-0.02440644821634774,-0.03887625061925717,null,-0.00019640333554726876,-0.02440644821634774,null,0.021152750850376344,-0.03887625061925717,null,0.08012866397663904,0.021152750850376344,null,0.001601571407045278,-0.03887625061925717,null,0.024788401796347885,0.001601571407045278,null,-0.03394215039179857,-0.03887625061925717,null,-0.021379053415331667,-0.03394215039179857,null,0.00564577773990941,-0.03887625061925717,null,0.048505909994007695,0.00564577773990941,null,0.048505909994007695,0.0050147770907363245,null,0.0050147770907363245,-0.03887625061925717,null,-0.011756836575156531,-0.03887625061925717,null,-0.01758219095977962,-0.011756836575156531,null,-0.01758219095977962,-0.005109054697788441,null,-0.01758219095977962,-0.06190475448298878,null,-0.005109054697788441,-0.03887625061925717,null,-0.06190475448298878,-0.03887625061925717,null,0.019858171479835304,-0.03887625061925717,null,0.0762707890212825,0.019858171479835304,null,0.01230531343657892,-0.03887625061925717,null,0.07051689699737149,0.01230531343657892,null,-0.015791499379232656,-0.03887625061925717,null,-0.012534359247030988,-0.015791499379232656,null,-0.01850131035794684,-0.03887625061925717,null,0.040821427599055694,-0.01850131035794684,null,-0.0010647525921050368,-0.03887625061925717,null,0.03452882493497445,-0.0010647525921050368,null,-0.07897586728800819,-0.03887625061925717,null,-0.05855329939700366,-0.07897586728800819,null,-0.05855329939700366,-0.022193152683614614,null,-0.022193152683614614,-0.03887625061925717,null,0.02532528924191111,-0.03887625061925717,null,0.0812844994429678,0.02532528924191111,null,-0.06914542123915171,-0.03887625061925717,null,-0.09210889050044445,-0.06914542123915171,null,-0.057416135348404104,-0.03887625061925717,null,-0.10307824198249262,-0.057416135348404104,null,-0.005032480921562845,-0.03887625061925717,null,0.04142773021916775,-0.005032480921562845,null,0.04142773021916775,0.013108123808421676,null,0.013108123808421676,-0.03887625061925717,null,0.0010770511793736987,-0.03887625061925717,null,0.008338941582732554,0.0010770511793736987,null,0.008338941582732554,-0.06316844284777216,null,-0.06316844284777216,-0.03887625061925717,null,-0.0011322341697565044,-0.03887625061925717,null,0.05893516842309818,-0.0011322341697565044,null,-0.04663370150535071,-0.03887625061925717,null,0.002221867253902417,-0.04663370150535071,null,0.002221867253902417,0.01364935861243388,null,0.01364935861243388,-0.03887625061925717,null,-0.017388790969667417,-0.03887625061925717,null,0.01757067514041213,-0.017388790969667417,null,-0.010644660290380985,-0.03887625061925717,null,0.03865157658656994,-0.010644660290380985,null,-0.07051789433834003,-0.03887625061925717,null,-0.08162001501141142,-0.07051789433834003,null,-0.06849811470960843,-0.03887625061925717,null,-0.091027275357256,-0.06849811470960843,null,0.009603861206562814,-0.03887625061925717,null,0.047719244923358634,0.009603861206562814,null,0.01610905605211895,-0.03887625061925717,null,0.06270051587473764,0.01610905605211895,null,-0.00850296862456001,-0.03887625061925717,null,0.01194692092882464,-0.00850296862456001,null,-0.04813260290457406,-0.03887625061925717,null,-0.02725349950846249,-0.04813260290457406,null,-0.02725349950846249,-0.03127364541751958,null,-0.03127364541751958,-0.03887625061925717,null,-0.0012801981026806576,-0.03887625061925717,null,0.052056447092575904,-0.0012801981026806576,null,-0.008021115464236504,-0.03887625061925717,null,-0.011244558035390708,-0.008021115464236504,null,-0.011244558035390708,-0.0024438100563646454,null,-0.011244558035390708,-0.053825789950679326,null,-0.011244558035390708,1.4517409136561326e-07,null,-0.028440448826607276,-0.03887625061925717,null,0.018550296725923225,-0.028440448826607276,null,0.018550296725923225,0.00900327691039819,null,0.00900327691039819,-0.03887625061925717,null,-0.010003425254417822,-0.03887625061925717,null,0.02734883982998964,-0.010003425254417822,null,0.02734883982998964,-0.011632741948454471,null,-0.011632741948454471,-0.03887625061925717,null,-0.010041364732785484,-0.03887625061925717,null,-0.023740874031597727,-0.010041364732785484,null,-0.023740874031597727,-0.049164314245261694,null,-0.049164314245261694,-0.03887625061925717,null,-0.028999900732554783,-0.03887625061925717,null,-0.025866862437477472,-0.028999900732554783,null,-0.018371913365076313,-0.03887625061925717,null,0.05009711681748947,-0.018371913365076313,null,-0.0024438100563646454,-0.03887625061925717,null,-0.053825789950679326,-0.03887625061925717,null,1.4517409136561326e-07,-0.03887625061925717,null,-0.05290102177439119,-0.03887625061925717,null,-0.08731320196942549,-0.05290102177439119,null,0.005299090776140481,-0.03887625061925717,null,-0.04442544514579168,0.005299090776140481,null,-0.04442544514579168,-0.07282950233122826,null,-0.07282950233122826,-0.03887625061925717,null,-0.0070347140338609445,-0.03887625061925717,null,0.018328345311736487,-0.0070347140338609445,null,-0.06356360940285592,-0.03887625061925717,null,-0.03858959807934452,-0.06356360940285592,null,-0.03858959807934452,-0.04291036374080042,null,-0.04291036374080042,-0.03887625061925717,null,-0.06029738577682821,-0.03887625061925717,null,-0.03153746834810045,-0.06029738577682821,null,-0.014199097386897813,-0.03887625061925717,null,0.005107598445571858,-0.014199097386897813,null,0.005107598445571858,-0.03226424703185232,null,-0.03226424703185232,-0.03887625061925717,null,-0.03944922474300496,-0.03887625061925717,null,-0.0344996767766439,-0.03944922474300496,null,0.01078231752251632,-0.03887625061925717,null,0.04664669293028725,0.01078231752251632,null,0.004814087354121055,-0.03887625061925717,null,0.0394318042622161,0.004814087354121055,null,0.0394318042622161,0.006219149515469094,null,0.006219149515469094,-0.03887625061925717,null,-0.0018283156835092432,-0.03887625061925717,null,0.0609009183413618,-0.0018283156835092432,null,-0.010466862140389242,-0.03887625061925717,null,-0.007143566897661888,-0.010466862140389242,null,-0.08462230687174188,-0.03887625061925717,null,-0.12737350814894657,-0.08462230687174188,null,-0.056988761043358815,-0.03887625061925717,null,-0.039962392386278266,-0.056988761043358815,null,-0.039962392386278266,0.012542824456528195,null,-0.039962392386278266,-0.021754396793700333,null,-0.039962392386278266,-0.07524415748392106,null,0.012542824456528195,-0.03887625061925717,null,-0.021754396793700333,-0.03887625061925717,null,-0.07524415748392106,-0.03887625061925717,null,-0.04600861473656183,-0.03887625061925717,null,-0.06658388508707813,-0.04600861473656183,null,-0.06658388508707813,-0.058457391917309275,null,-0.058457391917309275,-0.03887625061925717,null,-0.039838368597954685,-0.03887625061925717,null,-0.01754949197579578,-0.039838368597954685,null,-0.01754949197579578,-0.06043362661542013,null,-0.06043362661542013,-0.03887625061925717,null],\"type\":\"scatter\"},{\"hoverinfo\":\"text\",\"marker\":{\"color\":[],\"colorbar\":{\"thickness\":15,\"title\":{\"side\":\"right\",\"text\":\"Node Connections\"},\"xanchor\":\"left\"},\"colorscale\":[[0.0,\"rgb(255,255,217)\"],[0.125,\"rgb(237,248,177)\"],[0.25,\"rgb(199,233,180)\"],[0.375,\"rgb(127,205,187)\"],[0.5,\"rgb(65,182,196)\"],[0.625,\"rgb(29,145,192)\"],[0.75,\"rgb(34,94,168)\"],[0.875,\"rgb(37,52,148)\"],[1.0,\"rgb(8,29,88)\"]],\"line\":{\"width\":2},\"reversescale\":true,\"showscale\":true,\"size\":10},\"mode\":\"markers\",\"text\":[\"0\",\"Mighty Protein\",\"Coffee\",\"1\",\"Granola\",\"2\",\"NONE, Art Tray\",\"3\",\"Art Tray\",\"4\",\"5\",\"Bread, Extra Salami or Feta\",\"6\",\"Salad, Extra Salami or Feta\",\"7\",\"NONE, Extra Salami or Feta\",\"8\",\"Extra Salami or Feta\",\"9\",\"10\",\"Tartine, NONE\",\"11\",\"Tartine\",\"12\",\"Bakewell\",\"13\",\"Vegan mincepie, Cake\",\"14\",\"NONE, The Nomad\",\"15\",\"Keeping It Local, Tea\",\"16\",\"Keeping It Local\",\"17\",\"Smoothies, Cake\",\"18\",\"Salad, Spanish Brunch\",\"19\",\"Salad, Cake\",\"20\",\"Salad, Sandwich\",\"21\",\"Salad\",\"22\",\"23\",\"Sandwich, Hearty & Seasonal\",\"24\",\"Juice, Jammie Dodgers\",\"25\",\"Mineral water, Alfajores\",\"26\",\"Tiffin, Sandwich\",\"27\",\"28\",\"Tiffin, Cake\",\"29\",\"Alfajores, Spanish Brunch\",\"Tea\",\"30\",\"Toast, Spanish Brunch\",\"31\",\"Soup, Spanish Brunch\",\"32\",\"Sandwich, Spanish Brunch\",\"33\",\"Juice, Spanish Brunch\",\"34\",\"NONE, Spanish Brunch\",\"35\",\"Pastry, Toast\",\"36\",\"Medialuna, Toast\",\"37\",\"Juice, Toast\",\"38\",\"Cake, Toast\",\"39\",\"NONE, Toast\",\"40\",\"41\",\"Toast\",\"42\",\"43\",\"44\",\"Cookies, Scone\",\"45\",\"Scone, NONE\",\"46\",\"Scone, Juice\",\"47\",\"Scone, Hot chocolate\",\"48\",\"Soup, NONE\",\"49\",\"Soup, Sandwich\",\"50\",\"51\",\"Soup, Cake, Sandwich\",\"52\",\"Juice, Pastry\",\"53\",\"Cookies, Juice, Cake\",\"54\",\"Cookies, Juice\",\"55\",\"56\",\"Juice, NONE\",\"57\",\"58\",\"Juice, Cake, Sandwich\",\"59\",\"NONE, Alfajores\",\"60\",\"61\",\"Cookies, Sandwich, Alfajores\",\"62\",\"Cookies, Alfajores\",\"63\",\"Pastry, Bread, Alfajores\",\"64\",\"Muffin, Sandwich\",\"65\",\"Muffin, NONE\",\"66\",\"Muffin, Cake, Tea\",\"67\",\"NONE, Brownie\",\"68\",\"Cookies, Brownie\",\"69\",\"70\",\"Sandwich, Brownie\",\"71\",\"Cookies, Hot chocolate\",\"72\",\"Cookies, Medialuna\",\"73\",\"74\",\"Cookies, Pastry\",\"75\",\"76\",\"Cookies, NONE\",\"77\",\"78\",\"Cookies, Sandwich, Hot chocolate\",\"79\",\"Cookies, Tea, Sandwich\",\"80\",\"81\",\"82\",\"83\",\"NONE, Hot chocolate, Medialuna\",\"84\",\"Hot chocolate, Medialuna\",\"85\",\"86\",\"Pastry, Bread, Hot chocolate\",\"87\",\"Pastry, Hot chocolate\",\"88\",\"89\",\"NONE, Hot chocolate\",\"90\",\"Cake, Hot chocolate\",\"91\",\"92\",\"Medialuna, Sandwich\",\"93\",\"Cake, Medialuna, Tea\",\"94\",\"Cake, Medialuna\",\"95\",\"96\",\"NONE, Medialuna\",\"97\",\"Pastry, Sandwich\",\"98\",\"Cake, Sandwich, Tea\",\"99\",\"Cake, Sandwich\",\"100\",\"101\",\"102\",\"103\",\"Pastry, NONE\",\"104\",\"105\",\"NONE, Cake\",\"106\"],\"x\":[-0.05076460415379015,-0.015346628119994684,-0.05843557207383829,-0.034460462698710295,0.04761040021944807,0.018516432865750793,0.07696937154539171,-0.07706453371951459,-0.034715656431245995,-0.02917027013017901,-0.07384553579082175,-0.0920980053823628,-0.09462698669227866,-0.12483585808541538,-0.06410444486226101,-0.0019863458071189143,0.014934872944145174,0.06367095400336335,0.02150523263665515,-0.019282070758891608,0.025439797881899776,-0.08287261386963751,-0.01578915777635936,-0.04738928122415613,-0.03321789259854529,0.009203467870190076,0.054833200371312035,0.0010427929128884645,0.05981390868039853,-0.05642266073031523,0.0009932794784890274,-0.03549310253211752,0.06371895399463078,-0.08060365208535013,-0.07160675894422716,-0.050380173337155984,-0.00082085325906007,-0.04190330461151795,-0.028531134894941163,-0.0014972544018292864,0.061046941499442633,-0.04911959096237494,-0.03232043498390741,-0.041773177224002755,-0.08062382308873171,0.0025639022984286393,-0.08082808108188819,-0.08030265177404045,-0.04680956511683474,-0.053062765243770016,-0.017337618610515762,0.031151134511361638,-0.007117675785507079,0.018034304866258018,0.07514207639635091,0.9581414737231808,0.9676642468799923,1.0,-0.017252107148921756,0.054755776441092335,-0.06473070850993065,-0.06732396238470569,-0.02776451580856302,0.009092436504651389,-0.061403625477205556,-0.03532304324563117,-0.009283118256853372,0.055940227048897555,-0.01757258821329763,0.047864104921768784,-0.03500379020180538,0.03456731145811362,0.02837735521414557,0.08787817435581242,-0.0026393305551415287,0.06813323356558512,-0.06728673464224118,-0.03192880476268047,-0.057447185485906445,-0.04318820949209391,-0.056231318015125265,-0.0918732589115897,-0.07353952500688304,-0.028593593363023806,0.016285350566103647,-0.055201903406885064,-0.04508345727716741,0.014430910235814578,0.07300456032240998,-0.09671556247662784,-0.07650560028433197,-0.013906041120711575,0.05008497113424916,-0.026304647135548195,0.03715898695646669,0.02204608403580682,-0.028811033368202267,0.0013868045975851168,-0.06506750603172351,-0.012752390178054593,-0.04081461747643248,-0.016684765268242606,0.022791907134846398,0.034168675945645266,-0.03721249497109985,-0.09102237021666358,-0.009460378735997543,-0.018209673256881123,-0.07955176474058763,-0.04258700004729159,-0.010124649441304269,-0.026244719973746944,-0.06686865089292238,-0.01136926776466213,0.044170686858605576,-0.019304580811935885,0.04910654318160225,-0.026825663543274827,0.03521733580186636,-0.01516396190042609,0.03963212323099333,0.004393096696708139,0.05815485323290436,-0.0008031087115326333,0.047850977980876244,0.01682111887620905,0.08299371416589182,0.0010273311639005433,-0.013575343152120199,-0.07478902400970384,-0.021904488454048222,0.007018432050730921,-0.008939577128750315,-0.012194211219026361,-0.05177271082828188,-0.025851742593715952,-0.015833288017176622,-0.06266321393746603,-0.07621119654075441,-0.08674902109545506,-0.09571445759753985,-0.09009612858820304,-0.07184575102533194,-0.0011799675539823449,0.05962371314826352,-0.09063804653948541,0.017699046350524522,-0.07132510566471652,0.0031571174019584475,0.01010889363919924,-0.023878504544472295,0.017632177398180987,0.011987495755083795,0.021669325663062892,-0.0337708665323076,0.00985508294596518,0.07230514253680251,-0.053611411091086504,0.03473458134491615,0.0035251819684870333,-0.09591837066609944,-0.027888864941996477,0.024764948578512743,-0.008009299979185912,-0.09035657750442136,-0.0017022510754852976,0.06923433831142556,0.024406228836556174,0.0739495593066538,0.03270583973286681,0.028135115633293732,-0.036606624144524966,-0.06062844073379888,0.017546938378075035,-0.00021253431094488275,0.056185367358219176,-0.05521340776762758,-0.04161399456557588,-0.017445403510924207,0.010037588103220621,0.012621406726138719,0.012635449119094989,-0.04369718487655366,-0.02246351469576157,0.013237499724527991,-0.0299888735850765,-0.09340491609287249,-0.03286553769230143,-0.08600658760609993],\"y\":[-0.00471303530025346,0.05219990649976937,-0.03887625061925717,-0.0816840801782547,-0.06877387236079172,0.015301665916663354,0.04289102194102762,-0.013444469603914933,-0.002461169809684727,-0.041621813363785315,0.011102440639392839,0.057768328584071826,-0.049342959506738136,-0.035446351638301746,-0.059101405505323015,-0.07388394866621023,-0.027367267522558473,-0.0025121585990367026,0.004836799915982048,0.01375784828000473,0.06508136145774185,0.006131677968853438,0.07065913699966134,-0.05048784535081829,-0.0981514367614707,0.019186523142146288,0.06739864832638012,-0.023193656138924656,-0.0019263405616760123,-0.0776122454966866,-0.0959440837739651,-0.06482535102981125,-0.03387221606846632,-0.02429477964021104,0.03572709889960698,-0.07186798901397544,-0.10218279318904537,0.022003007865749644,0.07782722680107991,-0.0024463717765599463,0.028002946981476394,0.01809978010655138,-0.02796457241221188,-0.08250362781654313,-0.042544627873485154,-0.011511280983146984,-0.07139578072612676,-0.10659908835641621,0.006234454775911512,0.05976329944313873,0.020312447471090154,-0.011133613800967952,-0.05830897531985499,-0.03218681013609564,-0.04473453455989097,0.8953285557471904,0.8878994129757071,0.9338365248979383,-0.07387543725166881,-0.07486071082295526,-0.07694327333923352,-0.1193492283609737,-0.008724136471508919,0.04111833966707353,0.01670265004277374,0.0769980940583466,0.017747581717170433,0.062428369087760165,-0.02440644821634774,-0.00019640333554726876,0.021152750850376344,0.08012866397663904,0.001601571407045278,0.024788401796347885,-0.03394215039179857,-0.021379053415331667,0.00564577773990941,0.048505909994007695,0.0050147770907363245,-0.011756836575156531,-0.01758219095977962,-0.005109054697788441,-0.06190475448298878,0.019858171479835304,0.0762707890212825,0.01230531343657892,0.07051689699737149,-0.015791499379232656,-0.012534359247030988,-0.01850131035794684,0.040821427599055694,-0.0010647525921050368,0.03452882493497445,-0.07897586728800819,-0.05855329939700366,-0.022193152683614614,0.02532528924191111,0.0812844994429678,-0.06914542123915171,-0.09210889050044445,-0.057416135348404104,-0.10307824198249262,-0.005032480921562845,0.04142773021916775,0.013108123808421676,0.0010770511793736987,0.008338941582732554,-0.06316844284777216,-0.0011322341697565044,0.05893516842309818,-0.04663370150535071,0.002221867253902417,0.01364935861243388,-0.017388790969667417,0.01757067514041213,-0.010644660290380985,0.03865157658656994,-0.07051789433834003,-0.08162001501141142,-0.06849811470960843,-0.091027275357256,0.009603861206562814,0.047719244923358634,0.01610905605211895,0.06270051587473764,-0.00850296862456001,0.01194692092882464,-0.04813260290457406,-0.02725349950846249,-0.03127364541751958,-0.0012801981026806576,0.052056447092575904,-0.008021115464236504,-0.011244558035390708,-0.028440448826607276,0.018550296725923225,0.00900327691039819,-0.010003425254417822,0.02734883982998964,-0.011632741948454471,-0.010041364732785484,-0.023740874031597727,-0.049164314245261694,-0.028999900732554783,-0.025866862437477472,-0.018371913365076313,0.05009711681748947,-0.0024438100563646454,-0.053825789950679326,1.4517409136561326e-07,-0.05290102177439119,-0.08731320196942549,0.005299090776140481,-0.04442544514579168,-0.07282950233122826,-0.0070347140338609445,0.018328345311736487,-0.06356360940285592,-0.03858959807934452,-0.04291036374080042,-0.06029738577682821,-0.03153746834810045,-0.014199097386897813,0.005107598445571858,-0.03226424703185232,-0.03944922474300496,-0.0344996767766439,0.01078231752251632,0.04664669293028725,0.004814087354121055,0.0394318042622161,0.006219149515469094,-0.0018283156835092432,0.0609009183413618,-0.010466862140389242,-0.007143566897661888,-0.08462230687174188,-0.12737350814894657,-0.056988761043358815,-0.039962392386278266,0.012542824456528195,-0.021754396793700333,-0.07524415748392106,-0.04600861473656183,-0.06658388508707813,-0.058457391917309275,-0.039838368597954685,-0.01754949197579578,-0.06043362661542013],\"type\":\"scatter\"}],                        {\"annotations\":[{\"showarrow\":false,\"text\":\"Python code: \\u003ca href='https:\\u002f\\u002fplotly.com\\u002fipython-notebooks\\u002fnetwork-graphs\\u002f'\\u003e https:\\u002f\\u002fplotly.com\\u002fipython-notebooks\\u002fnetwork-graphs\\u002f\\u003c\\u002fa\\u003e\",\"x\":0.005,\"xref\":\"paper\",\"y\":-0.002,\"yref\":\"paper\"}],\"hovermode\":\"closest\",\"margin\":{\"b\":20,\"l\":5,\"r\":5,\"t\":40},\"showlegend\":false,\"title\":{\"font\":{\"size\":16},\"text\":\"\\u003cbr\\u003eNetwork graph made with Python\"},\"xaxis\":{\"showgrid\":false,\"showticklabels\":false,\"zeroline\":false},\"yaxis\":{\"showgrid\":false,\"showticklabels\":false,\"zeroline\":false},\"template\":{\"data\":{\"histogram2dcontour\":[{\"type\":\"histogram2dcontour\",\"colorbar\":{\"outlinewidth\":0,\"ticks\":\"\"},\"colorscale\":[[0.0,\"#0d0887\"],[0.1111111111111111,\"#46039f\"],[0.2222222222222222,\"#7201a8\"],[0.3333333333333333,\"#9c179e\"],[0.4444444444444444,\"#bd3786\"],[0.5555555555555556,\"#d8576b\"],[0.6666666666666666,\"#ed7953\"],[0.7777777777777778,\"#fb9f3a\"],[0.8888888888888888,\"#fdca26\"],[1.0,\"#f0f921\"]]}],\"choropleth\":[{\"type\":\"choropleth\",\"colorbar\":{\"outlinewidth\":0,\"ticks\":\"\"}}],\"histogram2d\":[{\"type\":\"histogram2d\",\"colorbar\":{\"outlinewidth\":0,\"ticks\":\"\"},\"colorscale\":[[0.0,\"#0d0887\"],[0.1111111111111111,\"#46039f\"],[0.2222222222222222,\"#7201a8\"],[0.3333333333333333,\"#9c179e\"],[0.4444444444444444,\"#bd3786\"],[0.5555555555555556,\"#d8576b\"],[0.6666666666666666,\"#ed7953\"],[0.7777777777777778,\"#fb9f3a\"],[0.8888888888888888,\"#fdca26\"],[1.0,\"#f0f921\"]]}],\"heatmap\":[{\"type\":\"heatmap\",\"colorbar\":{\"outlinewidth\":0,\"ticks\":\"\"},\"colorscale\":[[0.0,\"#0d0887\"],[0.1111111111111111,\"#46039f\"],[0.2222222222222222,\"#7201a8\"],[0.3333333333333333,\"#9c179e\"],[0.4444444444444444,\"#bd3786\"],[0.5555555555555556,\"#d8576b\"],[0.6666666666666666,\"#ed7953\"],[0.7777777777777778,\"#fb9f3a\"],[0.8888888888888888,\"#fdca26\"],[1.0,\"#f0f921\"]]}],\"heatmapgl\":[{\"type\":\"heatmapgl\",\"colorbar\":{\"outlinewidth\":0,\"ticks\":\"\"},\"colorscale\":[[0.0,\"#0d0887\"],[0.1111111111111111,\"#46039f\"],[0.2222222222222222,\"#7201a8\"],[0.3333333333333333,\"#9c179e\"],[0.4444444444444444,\"#bd3786\"],[0.5555555555555556,\"#d8576b\"],[0.6666666666666666,\"#ed7953\"],[0.7777777777777778,\"#fb9f3a\"],[0.8888888888888888,\"#fdca26\"],[1.0,\"#f0f921\"]]}],\"contourcarpet\":[{\"type\":\"contourcarpet\",\"colorbar\":{\"outlinewidth\":0,\"ticks\":\"\"}}],\"contour\":[{\"type\":\"contour\",\"colorbar\":{\"outlinewidth\":0,\"ticks\":\"\"},\"colorscale\":[[0.0,\"#0d0887\"],[0.1111111111111111,\"#46039f\"],[0.2222222222222222,\"#7201a8\"],[0.3333333333333333,\"#9c179e\"],[0.4444444444444444,\"#bd3786\"],[0.5555555555555556,\"#d8576b\"],[0.6666666666666666,\"#ed7953\"],[0.7777777777777778,\"#fb9f3a\"],[0.8888888888888888,\"#fdca26\"],[1.0,\"#f0f921\"]]}],\"surface\":[{\"type\":\"surface\",\"colorbar\":{\"outlinewidth\":0,\"ticks\":\"\"},\"colorscale\":[[0.0,\"#0d0887\"],[0.1111111111111111,\"#46039f\"],[0.2222222222222222,\"#7201a8\"],[0.3333333333333333,\"#9c179e\"],[0.4444444444444444,\"#bd3786\"],[0.5555555555555556,\"#d8576b\"],[0.6666666666666666,\"#ed7953\"],[0.7777777777777778,\"#fb9f3a\"],[0.8888888888888888,\"#fdca26\"],[1.0,\"#f0f921\"]]}],\"mesh3d\":[{\"type\":\"mesh3d\",\"colorbar\":{\"outlinewidth\":0,\"ticks\":\"\"}}],\"scatter\":[{\"fillpattern\":{\"fillmode\":\"overlay\",\"size\":10,\"solidity\":0.2},\"type\":\"scatter\"}],\"parcoords\":[{\"type\":\"parcoords\",\"line\":{\"colorbar\":{\"outlinewidth\":0,\"ticks\":\"\"}}}],\"scatterpolargl\":[{\"type\":\"scatterpolargl\",\"marker\":{\"colorbar\":{\"outlinewidth\":0,\"ticks\":\"\"}}}],\"bar\":[{\"error_x\":{\"color\":\"#2a3f5f\"},\"error_y\":{\"color\":\"#2a3f5f\"},\"marker\":{\"line\":{\"color\":\"#E5ECF6\",\"width\":0.5},\"pattern\":{\"fillmode\":\"overlay\",\"size\":10,\"solidity\":0.2}},\"type\":\"bar\"}],\"scattergeo\":[{\"type\":\"scattergeo\",\"marker\":{\"colorbar\":{\"outlinewidth\":0,\"ticks\":\"\"}}}],\"scatterpolar\":[{\"type\":\"scatterpolar\",\"marker\":{\"colorbar\":{\"outlinewidth\":0,\"ticks\":\"\"}}}],\"histogram\":[{\"marker\":{\"pattern\":{\"fillmode\":\"overlay\",\"size\":10,\"solidity\":0.2}},\"type\":\"histogram\"}],\"scattergl\":[{\"type\":\"scattergl\",\"marker\":{\"colorbar\":{\"outlinewidth\":0,\"ticks\":\"\"}}}],\"scatter3d\":[{\"type\":\"scatter3d\",\"line\":{\"colorbar\":{\"outlinewidth\":0,\"ticks\":\"\"}},\"marker\":{\"colorbar\":{\"outlinewidth\":0,\"ticks\":\"\"}}}],\"scattermapbox\":[{\"type\":\"scattermapbox\",\"marker\":{\"colorbar\":{\"outlinewidth\":0,\"ticks\":\"\"}}}],\"scatterternary\":[{\"type\":\"scatterternary\",\"marker\":{\"colorbar\":{\"outlinewidth\":0,\"ticks\":\"\"}}}],\"scattercarpet\":[{\"type\":\"scattercarpet\",\"marker\":{\"colorbar\":{\"outlinewidth\":0,\"ticks\":\"\"}}}],\"carpet\":[{\"aaxis\":{\"endlinecolor\":\"#2a3f5f\",\"gridcolor\":\"white\",\"linecolor\":\"white\",\"minorgridcolor\":\"white\",\"startlinecolor\":\"#2a3f5f\"},\"baxis\":{\"endlinecolor\":\"#2a3f5f\",\"gridcolor\":\"white\",\"linecolor\":\"white\",\"minorgridcolor\":\"white\",\"startlinecolor\":\"#2a3f5f\"},\"type\":\"carpet\"}],\"table\":[{\"cells\":{\"fill\":{\"color\":\"#EBF0F8\"},\"line\":{\"color\":\"white\"}},\"header\":{\"fill\":{\"color\":\"#C8D4E3\"},\"line\":{\"color\":\"white\"}},\"type\":\"table\"}],\"barpolar\":[{\"marker\":{\"line\":{\"color\":\"#E5ECF6\",\"width\":0.5},\"pattern\":{\"fillmode\":\"overlay\",\"size\":10,\"solidity\":0.2}},\"type\":\"barpolar\"}],\"pie\":[{\"automargin\":true,\"type\":\"pie\"}]},\"layout\":{\"autotypenumbers\":\"strict\",\"colorway\":[\"#636efa\",\"#EF553B\",\"#00cc96\",\"#ab63fa\",\"#FFA15A\",\"#19d3f3\",\"#FF6692\",\"#B6E880\",\"#FF97FF\",\"#FECB52\"],\"font\":{\"color\":\"#2a3f5f\"},\"hovermode\":\"closest\",\"hoverlabel\":{\"align\":\"left\"},\"paper_bgcolor\":\"white\",\"plot_bgcolor\":\"#E5ECF6\",\"polar\":{\"bgcolor\":\"#E5ECF6\",\"angularaxis\":{\"gridcolor\":\"white\",\"linecolor\":\"white\",\"ticks\":\"\"},\"radialaxis\":{\"gridcolor\":\"white\",\"linecolor\":\"white\",\"ticks\":\"\"}},\"ternary\":{\"bgcolor\":\"#E5ECF6\",\"aaxis\":{\"gridcolor\":\"white\",\"linecolor\":\"white\",\"ticks\":\"\"},\"baxis\":{\"gridcolor\":\"white\",\"linecolor\":\"white\",\"ticks\":\"\"},\"caxis\":{\"gridcolor\":\"white\",\"linecolor\":\"white\",\"ticks\":\"\"}},\"coloraxis\":{\"colorbar\":{\"outlinewidth\":0,\"ticks\":\"\"}},\"colorscale\":{\"sequential\":[[0.0,\"#0d0887\"],[0.1111111111111111,\"#46039f\"],[0.2222222222222222,\"#7201a8\"],[0.3333333333333333,\"#9c179e\"],[0.4444444444444444,\"#bd3786\"],[0.5555555555555556,\"#d8576b\"],[0.6666666666666666,\"#ed7953\"],[0.7777777777777778,\"#fb9f3a\"],[0.8888888888888888,\"#fdca26\"],[1.0,\"#f0f921\"]],\"sequentialminus\":[[0.0,\"#0d0887\"],[0.1111111111111111,\"#46039f\"],[0.2222222222222222,\"#7201a8\"],[0.3333333333333333,\"#9c179e\"],[0.4444444444444444,\"#bd3786\"],[0.5555555555555556,\"#d8576b\"],[0.6666666666666666,\"#ed7953\"],[0.7777777777777778,\"#fb9f3a\"],[0.8888888888888888,\"#fdca26\"],[1.0,\"#f0f921\"]],\"diverging\":[[0,\"#8e0152\"],[0.1,\"#c51b7d\"],[0.2,\"#de77ae\"],[0.3,\"#f1b6da\"],[0.4,\"#fde0ef\"],[0.5,\"#f7f7f7\"],[0.6,\"#e6f5d0\"],[0.7,\"#b8e186\"],[0.8,\"#7fbc41\"],[0.9,\"#4d9221\"],[1,\"#276419\"]]},\"xaxis\":{\"gridcolor\":\"white\",\"linecolor\":\"white\",\"ticks\":\"\",\"title\":{\"standoff\":15},\"zerolinecolor\":\"white\",\"automargin\":true,\"zerolinewidth\":2},\"yaxis\":{\"gridcolor\":\"white\",\"linecolor\":\"white\",\"ticks\":\"\",\"title\":{\"standoff\":15},\"zerolinecolor\":\"white\",\"automargin\":true,\"zerolinewidth\":2},\"scene\":{\"xaxis\":{\"backgroundcolor\":\"#E5ECF6\",\"gridcolor\":\"white\",\"linecolor\":\"white\",\"showbackground\":true,\"ticks\":\"\",\"zerolinecolor\":\"white\",\"gridwidth\":2},\"yaxis\":{\"backgroundcolor\":\"#E5ECF6\",\"gridcolor\":\"white\",\"linecolor\":\"white\",\"showbackground\":true,\"ticks\":\"\",\"zerolinecolor\":\"white\",\"gridwidth\":2},\"zaxis\":{\"backgroundcolor\":\"#E5ECF6\",\"gridcolor\":\"white\",\"linecolor\":\"white\",\"showbackground\":true,\"ticks\":\"\",\"zerolinecolor\":\"white\",\"gridwidth\":2}},\"shapedefaults\":{\"line\":{\"color\":\"#2a3f5f\"}},\"annotationdefaults\":{\"arrowcolor\":\"#2a3f5f\",\"arrowhead\":0,\"arrowwidth\":1},\"geo\":{\"bgcolor\":\"white\",\"landcolor\":\"#E5ECF6\",\"subunitcolor\":\"white\",\"showland\":true,\"showlakes\":true,\"lakecolor\":\"white\"},\"title\":{\"x\":0.05},\"mapbox\":{\"style\":\"light\"}}}},                        {\"responsive\": true}                    ).then(function(){\n",
       "                            \n",
       "var gd = document.getElementById('202b3b3b-744b-4fc8-a5ad-1f588176c0d6');\n",
       "var x = new MutationObserver(function (mutations, observer) {{\n",
       "        var display = window.getComputedStyle(gd).display;\n",
       "        if (!display || display === 'none') {{\n",
       "            console.log([gd, 'removed!']);\n",
       "            Plotly.purge(gd);\n",
       "            observer.disconnect();\n",
       "        }}\n",
       "}});\n",
       "\n",
       "// Listen for the removal of the full notebook cells\n",
       "var notebookContainer = gd.closest('#notebook-container');\n",
       "if (notebookContainer) {{\n",
       "    x.observe(notebookContainer, {childList: true});\n",
       "}}\n",
       "\n",
       "// Listen for the clearing of the current output cell\n",
       "var outputEl = gd.closest('.output');\n",
       "if (outputEl) {{\n",
       "    x.observe(outputEl, {childList: true});\n",
       "}}\n",
       "\n",
       "                        })                };                });            </script>        </div>"
      ]
     },
     "metadata": {},
     "output_type": "display_data",
     "jetTransient": {
      "display_id": null
     }
    }
   ],
   "execution_count": 40
  },
  {
   "metadata": {
    "ExecuteTime": {
     "end_time": "2025-09-25T09:56:44.187533Z",
     "start_time": "2025-09-25T09:56:33.559376Z"
    }
   },
   "cell_type": "code",
   "source": [
    "freqItemSet, rules = fpgrowth(transactions, minSupRatio=min_sup, minConf=0.8)\n",
    "output_fpgrowth(rules)"
   ],
   "id": "2165fdebec3463a1",
   "outputs": [
    {
     "name": "stdout",
     "output_type": "stream",
     "text": [
      "0: {'Mighty Protein'} -> {'Coffee'} Support = 0.001 Confidence = 0.818 Lift = 1.722\n",
      "1: {'NONE', 'Art Tray'} -> {'Coffee'} Support = 0.001 Confidence = 0.818 Lift = 1.722\n",
      "2: {'Salad', 'Extra Salami or Feta'} -> {'Coffee'} Support = 0.001 Confidence = 0.875 Lift = 1.842\n",
      "3: {'Extra Salami or Feta'} -> {'Coffee'} Support = 0.003 Confidence = 0.816 Lift = 1.717\n",
      "4: {'Extra Salami or Feta'} -> {'Coffee'} Support = 0.003 Confidence = 0.816 Lift = 1.717\n",
      "5: {'Tartine', 'NONE'} -> {'Coffee'} Support = 0.001 Confidence = 0.923 Lift = 1.943\n",
      "6: {'Vegan mincepie', 'Cake'} -> {'Coffee'} Support = 0.001 Confidence = 0.833 Lift = 1.754\n",
      "7: {'Keeping It Local'} -> {'Coffee'} Support = 0.005 Confidence = 0.810 Lift = 1.704\n",
      "8: {'Salad', 'Sandwich'} -> {'Coffee'} Support = 0.002 Confidence = 0.833 Lift = 1.754\n",
      "9: {'Sandwich', 'Hearty & Seasonal'} -> {'Coffee'} Support = 0.001 Confidence = 0.857 Lift = 1.804\n",
      "10: {'Pastry', 'Toast'} -> {'Coffee'} Support = 0.001 Confidence = 0.867 Lift = 1.824\n",
      "11: {'Scone', 'NONE'} -> {'Coffee'} Support = 0.002 Confidence = 0.833 Lift = 1.754\n",
      "12: {'Soup', 'Cake', 'Sandwich'} -> {'Coffee'} Support = 0.001 Confidence = 0.818 Lift = 1.722\n",
      "13: {'Cookies', 'Sandwich', 'Hot chocolate'} -> {'Coffee'} Support = 0.001 Confidence = 0.857 Lift = 1.804\n",
      "14: {'NONE', 'Hot chocolate', 'Medialuna'} -> {'Coffee'} Support = 0.001 Confidence = 0.909 Lift = 1.914\n",
      "15: {'Pastry', 'Sandwich'} -> {'Coffee'} Support = 0.001 Confidence = 0.818 Lift = 1.722\n"
     ]
    },
    {
     "data": {
      "application/vnd.plotly.v1+json": {
       "data": [
        {
         "marker": {
          "color": [
           1.7221932219723741,
           1.7221932219723741,
           1.8417899734982335,
           1.7171575692765482,
           1.7171575692765482,
           1.942987224789345,
           1.7540856890459364,
           1.7039689550731953,
           1.7540856890459364,
           1.8042024230186773,
           1.824249116607774,
           1.7540856890459364,
           1.7221932219723741,
           1.8042024230186773,
           1.913548024413749,
           1.7221932219723741
          ],
          "colorbar": {
           "title": {
            "text": "Lift"
           }
          },
          "colorscale": [
           [
            0.0,
            "rgb(243, 224, 247)"
           ],
           [
            0.16666666666666666,
            "rgb(228, 199, 241)"
           ],
           [
            0.3333333333333333,
            "rgb(209, 175, 232)"
           ],
           [
            0.5,
            "rgb(185, 152, 221)"
           ],
           [
            0.6666666666666666,
            "rgb(159, 130, 206)"
           ],
           [
            0.8333333333333334,
            "rgb(130, 109, 186)"
           ],
           [
            1.0,
            "rgb(99, 88, 159)"
           ]
          ]
         },
         "mode": "markers",
         "text": [
          "['Mighty Protein'] => ['Coffee'], Lift: 1.7221932219723741",
          "['NONE, Art Tray'] => ['Coffee'], Lift: 1.7221932219723741",
          "['Salad, Extra Salami or Feta'] => ['Coffee'], Lift: 1.8417899734982335",
          "['Extra Salami or Feta'] => ['Coffee'], Lift: 1.7171575692765482",
          "['Extra Salami or Feta'] => ['Coffee'], Lift: 1.7171575692765482",
          "['Tartine, NONE'] => ['Coffee'], Lift: 1.942987224789345",
          "['Vegan mincepie, Cake'] => ['Coffee'], Lift: 1.7540856890459364",
          "['Keeping It Local'] => ['Coffee'], Lift: 1.7039689550731953",
          "['Salad, Sandwich'] => ['Coffee'], Lift: 1.7540856890459364",
          "['Sandwich, Hearty & Seasonal'] => ['Coffee'], Lift: 1.8042024230186773",
          "['Pastry, Toast'] => ['Coffee'], Lift: 1.824249116607774",
          "['Scone, NONE'] => ['Coffee'], Lift: 1.7540856890459364",
          "['Soup, Cake, Sandwich'] => ['Coffee'], Lift: 1.7221932219723741",
          "['Cookies, Sandwich, Hot chocolate'] => ['Coffee'], Lift: 1.8042024230186773",
          "['NONE, Hot chocolate, Medialuna'] => ['Coffee'], Lift: 1.913548024413749",
          "['Pastry, Sandwich'] => ['Coffee'], Lift: 1.7221932219723741"
         ],
         "x": [
          9.442870632672333E-4,
          9.442870632672333E-4,
          0.0014688909873045851,
          0.003252544329031581,
          0.003252544329031581,
          0.0012590494176896443,
          0.0010492078480747037,
          0.0053509600251809885,
          0.0015738117721120553,
          0.0012590494176896443,
          0.0013639702024971147,
          0.0015738117721120553,
          9.442870632672333E-4,
          6.295247088448222E-4,
          0.0010492078480747037,
          9.442870632672333E-4
         ],
         "y": [
          0.8181818181818182,
          0.8181818181818182,
          0.875,
          0.8157894736842105,
          0.8157894736842105,
          0.9230769230769231,
          0.8333333333333334,
          0.8095238095238095,
          0.8333333333333334,
          0.8571428571428571,
          0.8666666666666667,
          0.8333333333333334,
          0.8181818181818182,
          0.8571428571428571,
          0.9090909090909091,
          0.8181818181818182
         ],
         "type": "scatter"
        }
       ],
       "layout": {
        "template": {
         "data": {
          "histogram2dcontour": [
           {
            "type": "histogram2dcontour",
            "colorbar": {
             "outlinewidth": 0,
             "ticks": ""
            },
            "colorscale": [
             [
              0.0,
              "#0d0887"
             ],
             [
              0.1111111111111111,
              "#46039f"
             ],
             [
              0.2222222222222222,
              "#7201a8"
             ],
             [
              0.3333333333333333,
              "#9c179e"
             ],
             [
              0.4444444444444444,
              "#bd3786"
             ],
             [
              0.5555555555555556,
              "#d8576b"
             ],
             [
              0.6666666666666666,
              "#ed7953"
             ],
             [
              0.7777777777777778,
              "#fb9f3a"
             ],
             [
              0.8888888888888888,
              "#fdca26"
             ],
             [
              1.0,
              "#f0f921"
             ]
            ]
           }
          ],
          "choropleth": [
           {
            "type": "choropleth",
            "colorbar": {
             "outlinewidth": 0,
             "ticks": ""
            }
           }
          ],
          "histogram2d": [
           {
            "type": "histogram2d",
            "colorbar": {
             "outlinewidth": 0,
             "ticks": ""
            },
            "colorscale": [
             [
              0.0,
              "#0d0887"
             ],
             [
              0.1111111111111111,
              "#46039f"
             ],
             [
              0.2222222222222222,
              "#7201a8"
             ],
             [
              0.3333333333333333,
              "#9c179e"
             ],
             [
              0.4444444444444444,
              "#bd3786"
             ],
             [
              0.5555555555555556,
              "#d8576b"
             ],
             [
              0.6666666666666666,
              "#ed7953"
             ],
             [
              0.7777777777777778,
              "#fb9f3a"
             ],
             [
              0.8888888888888888,
              "#fdca26"
             ],
             [
              1.0,
              "#f0f921"
             ]
            ]
           }
          ],
          "heatmap": [
           {
            "type": "heatmap",
            "colorbar": {
             "outlinewidth": 0,
             "ticks": ""
            },
            "colorscale": [
             [
              0.0,
              "#0d0887"
             ],
             [
              0.1111111111111111,
              "#46039f"
             ],
             [
              0.2222222222222222,
              "#7201a8"
             ],
             [
              0.3333333333333333,
              "#9c179e"
             ],
             [
              0.4444444444444444,
              "#bd3786"
             ],
             [
              0.5555555555555556,
              "#d8576b"
             ],
             [
              0.6666666666666666,
              "#ed7953"
             ],
             [
              0.7777777777777778,
              "#fb9f3a"
             ],
             [
              0.8888888888888888,
              "#fdca26"
             ],
             [
              1.0,
              "#f0f921"
             ]
            ]
           }
          ],
          "heatmapgl": [
           {
            "type": "heatmapgl",
            "colorbar": {
             "outlinewidth": 0,
             "ticks": ""
            },
            "colorscale": [
             [
              0.0,
              "#0d0887"
             ],
             [
              0.1111111111111111,
              "#46039f"
             ],
             [
              0.2222222222222222,
              "#7201a8"
             ],
             [
              0.3333333333333333,
              "#9c179e"
             ],
             [
              0.4444444444444444,
              "#bd3786"
             ],
             [
              0.5555555555555556,
              "#d8576b"
             ],
             [
              0.6666666666666666,
              "#ed7953"
             ],
             [
              0.7777777777777778,
              "#fb9f3a"
             ],
             [
              0.8888888888888888,
              "#fdca26"
             ],
             [
              1.0,
              "#f0f921"
             ]
            ]
           }
          ],
          "contourcarpet": [
           {
            "type": "contourcarpet",
            "colorbar": {
             "outlinewidth": 0,
             "ticks": ""
            }
           }
          ],
          "contour": [
           {
            "type": "contour",
            "colorbar": {
             "outlinewidth": 0,
             "ticks": ""
            },
            "colorscale": [
             [
              0.0,
              "#0d0887"
             ],
             [
              0.1111111111111111,
              "#46039f"
             ],
             [
              0.2222222222222222,
              "#7201a8"
             ],
             [
              0.3333333333333333,
              "#9c179e"
             ],
             [
              0.4444444444444444,
              "#bd3786"
             ],
             [
              0.5555555555555556,
              "#d8576b"
             ],
             [
              0.6666666666666666,
              "#ed7953"
             ],
             [
              0.7777777777777778,
              "#fb9f3a"
             ],
             [
              0.8888888888888888,
              "#fdca26"
             ],
             [
              1.0,
              "#f0f921"
             ]
            ]
           }
          ],
          "surface": [
           {
            "type": "surface",
            "colorbar": {
             "outlinewidth": 0,
             "ticks": ""
            },
            "colorscale": [
             [
              0.0,
              "#0d0887"
             ],
             [
              0.1111111111111111,
              "#46039f"
             ],
             [
              0.2222222222222222,
              "#7201a8"
             ],
             [
              0.3333333333333333,
              "#9c179e"
             ],
             [
              0.4444444444444444,
              "#bd3786"
             ],
             [
              0.5555555555555556,
              "#d8576b"
             ],
             [
              0.6666666666666666,
              "#ed7953"
             ],
             [
              0.7777777777777778,
              "#fb9f3a"
             ],
             [
              0.8888888888888888,
              "#fdca26"
             ],
             [
              1.0,
              "#f0f921"
             ]
            ]
           }
          ],
          "mesh3d": [
           {
            "type": "mesh3d",
            "colorbar": {
             "outlinewidth": 0,
             "ticks": ""
            }
           }
          ],
          "scatter": [
           {
            "fillpattern": {
             "fillmode": "overlay",
             "size": 10,
             "solidity": 0.2
            },
            "type": "scatter"
           }
          ],
          "parcoords": [
           {
            "type": "parcoords",
            "line": {
             "colorbar": {
              "outlinewidth": 0,
              "ticks": ""
             }
            }
           }
          ],
          "scatterpolargl": [
           {
            "type": "scatterpolargl",
            "marker": {
             "colorbar": {
              "outlinewidth": 0,
              "ticks": ""
             }
            }
           }
          ],
          "bar": [
           {
            "error_x": {
             "color": "#2a3f5f"
            },
            "error_y": {
             "color": "#2a3f5f"
            },
            "marker": {
             "line": {
              "color": "#E5ECF6",
              "width": 0.5
             },
             "pattern": {
              "fillmode": "overlay",
              "size": 10,
              "solidity": 0.2
             }
            },
            "type": "bar"
           }
          ],
          "scattergeo": [
           {
            "type": "scattergeo",
            "marker": {
             "colorbar": {
              "outlinewidth": 0,
              "ticks": ""
             }
            }
           }
          ],
          "scatterpolar": [
           {
            "type": "scatterpolar",
            "marker": {
             "colorbar": {
              "outlinewidth": 0,
              "ticks": ""
             }
            }
           }
          ],
          "histogram": [
           {
            "marker": {
             "pattern": {
              "fillmode": "overlay",
              "size": 10,
              "solidity": 0.2
             }
            },
            "type": "histogram"
           }
          ],
          "scattergl": [
           {
            "type": "scattergl",
            "marker": {
             "colorbar": {
              "outlinewidth": 0,
              "ticks": ""
             }
            }
           }
          ],
          "scatter3d": [
           {
            "type": "scatter3d",
            "line": {
             "colorbar": {
              "outlinewidth": 0,
              "ticks": ""
             }
            },
            "marker": {
             "colorbar": {
              "outlinewidth": 0,
              "ticks": ""
             }
            }
           }
          ],
          "scattermapbox": [
           {
            "type": "scattermapbox",
            "marker": {
             "colorbar": {
              "outlinewidth": 0,
              "ticks": ""
             }
            }
           }
          ],
          "scatterternary": [
           {
            "type": "scatterternary",
            "marker": {
             "colorbar": {
              "outlinewidth": 0,
              "ticks": ""
             }
            }
           }
          ],
          "scattercarpet": [
           {
            "type": "scattercarpet",
            "marker": {
             "colorbar": {
              "outlinewidth": 0,
              "ticks": ""
             }
            }
           }
          ],
          "carpet": [
           {
            "aaxis": {
             "endlinecolor": "#2a3f5f",
             "gridcolor": "white",
             "linecolor": "white",
             "minorgridcolor": "white",
             "startlinecolor": "#2a3f5f"
            },
            "baxis": {
             "endlinecolor": "#2a3f5f",
             "gridcolor": "white",
             "linecolor": "white",
             "minorgridcolor": "white",
             "startlinecolor": "#2a3f5f"
            },
            "type": "carpet"
           }
          ],
          "table": [
           {
            "cells": {
             "fill": {
              "color": "#EBF0F8"
             },
             "line": {
              "color": "white"
             }
            },
            "header": {
             "fill": {
              "color": "#C8D4E3"
             },
             "line": {
              "color": "white"
             }
            },
            "type": "table"
           }
          ],
          "barpolar": [
           {
            "marker": {
             "line": {
              "color": "#E5ECF6",
              "width": 0.5
             },
             "pattern": {
              "fillmode": "overlay",
              "size": 10,
              "solidity": 0.2
             }
            },
            "type": "barpolar"
           }
          ],
          "pie": [
           {
            "automargin": true,
            "type": "pie"
           }
          ]
         },
         "layout": {
          "autotypenumbers": "strict",
          "colorway": [
           "#636efa",
           "#EF553B",
           "#00cc96",
           "#ab63fa",
           "#FFA15A",
           "#19d3f3",
           "#FF6692",
           "#B6E880",
           "#FF97FF",
           "#FECB52"
          ],
          "font": {
           "color": "#2a3f5f"
          },
          "hovermode": "closest",
          "hoverlabel": {
           "align": "left"
          },
          "paper_bgcolor": "white",
          "plot_bgcolor": "#E5ECF6",
          "polar": {
           "bgcolor": "#E5ECF6",
           "angularaxis": {
            "gridcolor": "white",
            "linecolor": "white",
            "ticks": ""
           },
           "radialaxis": {
            "gridcolor": "white",
            "linecolor": "white",
            "ticks": ""
           }
          },
          "ternary": {
           "bgcolor": "#E5ECF6",
           "aaxis": {
            "gridcolor": "white",
            "linecolor": "white",
            "ticks": ""
           },
           "baxis": {
            "gridcolor": "white",
            "linecolor": "white",
            "ticks": ""
           },
           "caxis": {
            "gridcolor": "white",
            "linecolor": "white",
            "ticks": ""
           }
          },
          "coloraxis": {
           "colorbar": {
            "outlinewidth": 0,
            "ticks": ""
           }
          },
          "colorscale": {
           "sequential": [
            [
             0.0,
             "#0d0887"
            ],
            [
             0.1111111111111111,
             "#46039f"
            ],
            [
             0.2222222222222222,
             "#7201a8"
            ],
            [
             0.3333333333333333,
             "#9c179e"
            ],
            [
             0.4444444444444444,
             "#bd3786"
            ],
            [
             0.5555555555555556,
             "#d8576b"
            ],
            [
             0.6666666666666666,
             "#ed7953"
            ],
            [
             0.7777777777777778,
             "#fb9f3a"
            ],
            [
             0.8888888888888888,
             "#fdca26"
            ],
            [
             1.0,
             "#f0f921"
            ]
           ],
           "sequentialminus": [
            [
             0.0,
             "#0d0887"
            ],
            [
             0.1111111111111111,
             "#46039f"
            ],
            [
             0.2222222222222222,
             "#7201a8"
            ],
            [
             0.3333333333333333,
             "#9c179e"
            ],
            [
             0.4444444444444444,
             "#bd3786"
            ],
            [
             0.5555555555555556,
             "#d8576b"
            ],
            [
             0.6666666666666666,
             "#ed7953"
            ],
            [
             0.7777777777777778,
             "#fb9f3a"
            ],
            [
             0.8888888888888888,
             "#fdca26"
            ],
            [
             1.0,
             "#f0f921"
            ]
           ],
           "diverging": [
            [
             0,
             "#8e0152"
            ],
            [
             0.1,
             "#c51b7d"
            ],
            [
             0.2,
             "#de77ae"
            ],
            [
             0.3,
             "#f1b6da"
            ],
            [
             0.4,
             "#fde0ef"
            ],
            [
             0.5,
             "#f7f7f7"
            ],
            [
             0.6,
             "#e6f5d0"
            ],
            [
             0.7,
             "#b8e186"
            ],
            [
             0.8,
             "#7fbc41"
            ],
            [
             0.9,
             "#4d9221"
            ],
            [
             1,
             "#276419"
            ]
           ]
          },
          "xaxis": {
           "gridcolor": "white",
           "linecolor": "white",
           "ticks": "",
           "title": {
            "standoff": 15
           },
           "zerolinecolor": "white",
           "automargin": true,
           "zerolinewidth": 2
          },
          "yaxis": {
           "gridcolor": "white",
           "linecolor": "white",
           "ticks": "",
           "title": {
            "standoff": 15
           },
           "zerolinecolor": "white",
           "automargin": true,
           "zerolinewidth": 2
          },
          "scene": {
           "xaxis": {
            "backgroundcolor": "#E5ECF6",
            "gridcolor": "white",
            "linecolor": "white",
            "showbackground": true,
            "ticks": "",
            "zerolinecolor": "white",
            "gridwidth": 2
           },
           "yaxis": {
            "backgroundcolor": "#E5ECF6",
            "gridcolor": "white",
            "linecolor": "white",
            "showbackground": true,
            "ticks": "",
            "zerolinecolor": "white",
            "gridwidth": 2
           },
           "zaxis": {
            "backgroundcolor": "#E5ECF6",
            "gridcolor": "white",
            "linecolor": "white",
            "showbackground": true,
            "ticks": "",
            "zerolinecolor": "white",
            "gridwidth": 2
           }
          },
          "shapedefaults": {
           "line": {
            "color": "#2a3f5f"
           }
          },
          "annotationdefaults": {
           "arrowcolor": "#2a3f5f",
           "arrowhead": 0,
           "arrowwidth": 1
          },
          "geo": {
           "bgcolor": "white",
           "landcolor": "#E5ECF6",
           "subunitcolor": "white",
           "showland": true,
           "showlakes": true,
           "lakecolor": "white"
          },
          "title": {
           "x": 0.05
          },
          "mapbox": {
           "style": "light"
          }
         }
        },
        "xaxis": {
         "title": {
          "text": "Support"
         },
         "autorange": "reversed"
        },
        "title": {
         "text": "Association Rules Strength Distribution"
        },
        "yaxis": {
         "title": {
          "text": "Confidence"
         }
        }
       },
       "config": {
        "plotlyServerURL": "https://plot.ly"
       }
      },
      "text/html": [
       "<div>                            <div id=\"376ffdb7-f9d8-4ae6-9860-b2157e296e7f\" class=\"plotly-graph-div\" style=\"height:525px; width:100%;\"></div>            <script type=\"text/javascript\">                require([\"plotly\"], function(Plotly) {                    window.PLOTLYENV=window.PLOTLYENV || {};                                    if (document.getElementById(\"376ffdb7-f9d8-4ae6-9860-b2157e296e7f\")) {                    Plotly.newPlot(                        \"376ffdb7-f9d8-4ae6-9860-b2157e296e7f\",                        [{\"marker\":{\"color\":[1.7221932219723741,1.7221932219723741,1.8417899734982335,1.7171575692765482,1.7171575692765482,1.942987224789345,1.7540856890459364,1.7039689550731953,1.7540856890459364,1.8042024230186773,1.824249116607774,1.7540856890459364,1.7221932219723741,1.8042024230186773,1.913548024413749,1.7221932219723741],\"colorbar\":{\"title\":{\"text\":\"Lift\"}},\"colorscale\":[[0.0,\"rgb(243, 224, 247)\"],[0.16666666666666666,\"rgb(228, 199, 241)\"],[0.3333333333333333,\"rgb(209, 175, 232)\"],[0.5,\"rgb(185, 152, 221)\"],[0.6666666666666666,\"rgb(159, 130, 206)\"],[0.8333333333333334,\"rgb(130, 109, 186)\"],[1.0,\"rgb(99, 88, 159)\"]]},\"mode\":\"markers\",\"text\":[\"['Mighty Protein'] =\\u003e ['Coffee'], Lift: 1.7221932219723741\",\"['NONE, Art Tray'] =\\u003e ['Coffee'], Lift: 1.7221932219723741\",\"['Salad, Extra Salami or Feta'] =\\u003e ['Coffee'], Lift: 1.8417899734982335\",\"['Extra Salami or Feta'] =\\u003e ['Coffee'], Lift: 1.7171575692765482\",\"['Extra Salami or Feta'] =\\u003e ['Coffee'], Lift: 1.7171575692765482\",\"['Tartine, NONE'] =\\u003e ['Coffee'], Lift: 1.942987224789345\",\"['Vegan mincepie, Cake'] =\\u003e ['Coffee'], Lift: 1.7540856890459364\",\"['Keeping It Local'] =\\u003e ['Coffee'], Lift: 1.7039689550731953\",\"['Salad, Sandwich'] =\\u003e ['Coffee'], Lift: 1.7540856890459364\",\"['Sandwich, Hearty & Seasonal'] =\\u003e ['Coffee'], Lift: 1.8042024230186773\",\"['Pastry, Toast'] =\\u003e ['Coffee'], Lift: 1.824249116607774\",\"['Scone, NONE'] =\\u003e ['Coffee'], Lift: 1.7540856890459364\",\"['Soup, Cake, Sandwich'] =\\u003e ['Coffee'], Lift: 1.7221932219723741\",\"['Cookies, Sandwich, Hot chocolate'] =\\u003e ['Coffee'], Lift: 1.8042024230186773\",\"['NONE, Hot chocolate, Medialuna'] =\\u003e ['Coffee'], Lift: 1.913548024413749\",\"['Pastry, Sandwich'] =\\u003e ['Coffee'], Lift: 1.7221932219723741\"],\"x\":[0.0009442870632672333,0.0009442870632672333,0.0014688909873045851,0.003252544329031581,0.003252544329031581,0.0012590494176896443,0.0010492078480747037,0.0053509600251809885,0.0015738117721120553,0.0012590494176896443,0.0013639702024971147,0.0015738117721120553,0.0009442870632672333,0.0006295247088448222,0.0010492078480747037,0.0009442870632672333],\"y\":[0.8181818181818182,0.8181818181818182,0.875,0.8157894736842105,0.8157894736842105,0.9230769230769231,0.8333333333333334,0.8095238095238095,0.8333333333333334,0.8571428571428571,0.8666666666666667,0.8333333333333334,0.8181818181818182,0.8571428571428571,0.9090909090909091,0.8181818181818182],\"type\":\"scatter\"}],                        {\"template\":{\"data\":{\"histogram2dcontour\":[{\"type\":\"histogram2dcontour\",\"colorbar\":{\"outlinewidth\":0,\"ticks\":\"\"},\"colorscale\":[[0.0,\"#0d0887\"],[0.1111111111111111,\"#46039f\"],[0.2222222222222222,\"#7201a8\"],[0.3333333333333333,\"#9c179e\"],[0.4444444444444444,\"#bd3786\"],[0.5555555555555556,\"#d8576b\"],[0.6666666666666666,\"#ed7953\"],[0.7777777777777778,\"#fb9f3a\"],[0.8888888888888888,\"#fdca26\"],[1.0,\"#f0f921\"]]}],\"choropleth\":[{\"type\":\"choropleth\",\"colorbar\":{\"outlinewidth\":0,\"ticks\":\"\"}}],\"histogram2d\":[{\"type\":\"histogram2d\",\"colorbar\":{\"outlinewidth\":0,\"ticks\":\"\"},\"colorscale\":[[0.0,\"#0d0887\"],[0.1111111111111111,\"#46039f\"],[0.2222222222222222,\"#7201a8\"],[0.3333333333333333,\"#9c179e\"],[0.4444444444444444,\"#bd3786\"],[0.5555555555555556,\"#d8576b\"],[0.6666666666666666,\"#ed7953\"],[0.7777777777777778,\"#fb9f3a\"],[0.8888888888888888,\"#fdca26\"],[1.0,\"#f0f921\"]]}],\"heatmap\":[{\"type\":\"heatmap\",\"colorbar\":{\"outlinewidth\":0,\"ticks\":\"\"},\"colorscale\":[[0.0,\"#0d0887\"],[0.1111111111111111,\"#46039f\"],[0.2222222222222222,\"#7201a8\"],[0.3333333333333333,\"#9c179e\"],[0.4444444444444444,\"#bd3786\"],[0.5555555555555556,\"#d8576b\"],[0.6666666666666666,\"#ed7953\"],[0.7777777777777778,\"#fb9f3a\"],[0.8888888888888888,\"#fdca26\"],[1.0,\"#f0f921\"]]}],\"heatmapgl\":[{\"type\":\"heatmapgl\",\"colorbar\":{\"outlinewidth\":0,\"ticks\":\"\"},\"colorscale\":[[0.0,\"#0d0887\"],[0.1111111111111111,\"#46039f\"],[0.2222222222222222,\"#7201a8\"],[0.3333333333333333,\"#9c179e\"],[0.4444444444444444,\"#bd3786\"],[0.5555555555555556,\"#d8576b\"],[0.6666666666666666,\"#ed7953\"],[0.7777777777777778,\"#fb9f3a\"],[0.8888888888888888,\"#fdca26\"],[1.0,\"#f0f921\"]]}],\"contourcarpet\":[{\"type\":\"contourcarpet\",\"colorbar\":{\"outlinewidth\":0,\"ticks\":\"\"}}],\"contour\":[{\"type\":\"contour\",\"colorbar\":{\"outlinewidth\":0,\"ticks\":\"\"},\"colorscale\":[[0.0,\"#0d0887\"],[0.1111111111111111,\"#46039f\"],[0.2222222222222222,\"#7201a8\"],[0.3333333333333333,\"#9c179e\"],[0.4444444444444444,\"#bd3786\"],[0.5555555555555556,\"#d8576b\"],[0.6666666666666666,\"#ed7953\"],[0.7777777777777778,\"#fb9f3a\"],[0.8888888888888888,\"#fdca26\"],[1.0,\"#f0f921\"]]}],\"surface\":[{\"type\":\"surface\",\"colorbar\":{\"outlinewidth\":0,\"ticks\":\"\"},\"colorscale\":[[0.0,\"#0d0887\"],[0.1111111111111111,\"#46039f\"],[0.2222222222222222,\"#7201a8\"],[0.3333333333333333,\"#9c179e\"],[0.4444444444444444,\"#bd3786\"],[0.5555555555555556,\"#d8576b\"],[0.6666666666666666,\"#ed7953\"],[0.7777777777777778,\"#fb9f3a\"],[0.8888888888888888,\"#fdca26\"],[1.0,\"#f0f921\"]]}],\"mesh3d\":[{\"type\":\"mesh3d\",\"colorbar\":{\"outlinewidth\":0,\"ticks\":\"\"}}],\"scatter\":[{\"fillpattern\":{\"fillmode\":\"overlay\",\"size\":10,\"solidity\":0.2},\"type\":\"scatter\"}],\"parcoords\":[{\"type\":\"parcoords\",\"line\":{\"colorbar\":{\"outlinewidth\":0,\"ticks\":\"\"}}}],\"scatterpolargl\":[{\"type\":\"scatterpolargl\",\"marker\":{\"colorbar\":{\"outlinewidth\":0,\"ticks\":\"\"}}}],\"bar\":[{\"error_x\":{\"color\":\"#2a3f5f\"},\"error_y\":{\"color\":\"#2a3f5f\"},\"marker\":{\"line\":{\"color\":\"#E5ECF6\",\"width\":0.5},\"pattern\":{\"fillmode\":\"overlay\",\"size\":10,\"solidity\":0.2}},\"type\":\"bar\"}],\"scattergeo\":[{\"type\":\"scattergeo\",\"marker\":{\"colorbar\":{\"outlinewidth\":0,\"ticks\":\"\"}}}],\"scatterpolar\":[{\"type\":\"scatterpolar\",\"marker\":{\"colorbar\":{\"outlinewidth\":0,\"ticks\":\"\"}}}],\"histogram\":[{\"marker\":{\"pattern\":{\"fillmode\":\"overlay\",\"size\":10,\"solidity\":0.2}},\"type\":\"histogram\"}],\"scattergl\":[{\"type\":\"scattergl\",\"marker\":{\"colorbar\":{\"outlinewidth\":0,\"ticks\":\"\"}}}],\"scatter3d\":[{\"type\":\"scatter3d\",\"line\":{\"colorbar\":{\"outlinewidth\":0,\"ticks\":\"\"}},\"marker\":{\"colorbar\":{\"outlinewidth\":0,\"ticks\":\"\"}}}],\"scattermapbox\":[{\"type\":\"scattermapbox\",\"marker\":{\"colorbar\":{\"outlinewidth\":0,\"ticks\":\"\"}}}],\"scatterternary\":[{\"type\":\"scatterternary\",\"marker\":{\"colorbar\":{\"outlinewidth\":0,\"ticks\":\"\"}}}],\"scattercarpet\":[{\"type\":\"scattercarpet\",\"marker\":{\"colorbar\":{\"outlinewidth\":0,\"ticks\":\"\"}}}],\"carpet\":[{\"aaxis\":{\"endlinecolor\":\"#2a3f5f\",\"gridcolor\":\"white\",\"linecolor\":\"white\",\"minorgridcolor\":\"white\",\"startlinecolor\":\"#2a3f5f\"},\"baxis\":{\"endlinecolor\":\"#2a3f5f\",\"gridcolor\":\"white\",\"linecolor\":\"white\",\"minorgridcolor\":\"white\",\"startlinecolor\":\"#2a3f5f\"},\"type\":\"carpet\"}],\"table\":[{\"cells\":{\"fill\":{\"color\":\"#EBF0F8\"},\"line\":{\"color\":\"white\"}},\"header\":{\"fill\":{\"color\":\"#C8D4E3\"},\"line\":{\"color\":\"white\"}},\"type\":\"table\"}],\"barpolar\":[{\"marker\":{\"line\":{\"color\":\"#E5ECF6\",\"width\":0.5},\"pattern\":{\"fillmode\":\"overlay\",\"size\":10,\"solidity\":0.2}},\"type\":\"barpolar\"}],\"pie\":[{\"automargin\":true,\"type\":\"pie\"}]},\"layout\":{\"autotypenumbers\":\"strict\",\"colorway\":[\"#636efa\",\"#EF553B\",\"#00cc96\",\"#ab63fa\",\"#FFA15A\",\"#19d3f3\",\"#FF6692\",\"#B6E880\",\"#FF97FF\",\"#FECB52\"],\"font\":{\"color\":\"#2a3f5f\"},\"hovermode\":\"closest\",\"hoverlabel\":{\"align\":\"left\"},\"paper_bgcolor\":\"white\",\"plot_bgcolor\":\"#E5ECF6\",\"polar\":{\"bgcolor\":\"#E5ECF6\",\"angularaxis\":{\"gridcolor\":\"white\",\"linecolor\":\"white\",\"ticks\":\"\"},\"radialaxis\":{\"gridcolor\":\"white\",\"linecolor\":\"white\",\"ticks\":\"\"}},\"ternary\":{\"bgcolor\":\"#E5ECF6\",\"aaxis\":{\"gridcolor\":\"white\",\"linecolor\":\"white\",\"ticks\":\"\"},\"baxis\":{\"gridcolor\":\"white\",\"linecolor\":\"white\",\"ticks\":\"\"},\"caxis\":{\"gridcolor\":\"white\",\"linecolor\":\"white\",\"ticks\":\"\"}},\"coloraxis\":{\"colorbar\":{\"outlinewidth\":0,\"ticks\":\"\"}},\"colorscale\":{\"sequential\":[[0.0,\"#0d0887\"],[0.1111111111111111,\"#46039f\"],[0.2222222222222222,\"#7201a8\"],[0.3333333333333333,\"#9c179e\"],[0.4444444444444444,\"#bd3786\"],[0.5555555555555556,\"#d8576b\"],[0.6666666666666666,\"#ed7953\"],[0.7777777777777778,\"#fb9f3a\"],[0.8888888888888888,\"#fdca26\"],[1.0,\"#f0f921\"]],\"sequentialminus\":[[0.0,\"#0d0887\"],[0.1111111111111111,\"#46039f\"],[0.2222222222222222,\"#7201a8\"],[0.3333333333333333,\"#9c179e\"],[0.4444444444444444,\"#bd3786\"],[0.5555555555555556,\"#d8576b\"],[0.6666666666666666,\"#ed7953\"],[0.7777777777777778,\"#fb9f3a\"],[0.8888888888888888,\"#fdca26\"],[1.0,\"#f0f921\"]],\"diverging\":[[0,\"#8e0152\"],[0.1,\"#c51b7d\"],[0.2,\"#de77ae\"],[0.3,\"#f1b6da\"],[0.4,\"#fde0ef\"],[0.5,\"#f7f7f7\"],[0.6,\"#e6f5d0\"],[0.7,\"#b8e186\"],[0.8,\"#7fbc41\"],[0.9,\"#4d9221\"],[1,\"#276419\"]]},\"xaxis\":{\"gridcolor\":\"white\",\"linecolor\":\"white\",\"ticks\":\"\",\"title\":{\"standoff\":15},\"zerolinecolor\":\"white\",\"automargin\":true,\"zerolinewidth\":2},\"yaxis\":{\"gridcolor\":\"white\",\"linecolor\":\"white\",\"ticks\":\"\",\"title\":{\"standoff\":15},\"zerolinecolor\":\"white\",\"automargin\":true,\"zerolinewidth\":2},\"scene\":{\"xaxis\":{\"backgroundcolor\":\"#E5ECF6\",\"gridcolor\":\"white\",\"linecolor\":\"white\",\"showbackground\":true,\"ticks\":\"\",\"zerolinecolor\":\"white\",\"gridwidth\":2},\"yaxis\":{\"backgroundcolor\":\"#E5ECF6\",\"gridcolor\":\"white\",\"linecolor\":\"white\",\"showbackground\":true,\"ticks\":\"\",\"zerolinecolor\":\"white\",\"gridwidth\":2},\"zaxis\":{\"backgroundcolor\":\"#E5ECF6\",\"gridcolor\":\"white\",\"linecolor\":\"white\",\"showbackground\":true,\"ticks\":\"\",\"zerolinecolor\":\"white\",\"gridwidth\":2}},\"shapedefaults\":{\"line\":{\"color\":\"#2a3f5f\"}},\"annotationdefaults\":{\"arrowcolor\":\"#2a3f5f\",\"arrowhead\":0,\"arrowwidth\":1},\"geo\":{\"bgcolor\":\"white\",\"landcolor\":\"#E5ECF6\",\"subunitcolor\":\"white\",\"showland\":true,\"showlakes\":true,\"lakecolor\":\"white\"},\"title\":{\"x\":0.05},\"mapbox\":{\"style\":\"light\"}}},\"xaxis\":{\"title\":{\"text\":\"Support\"},\"autorange\":\"reversed\"},\"title\":{\"text\":\"Association Rules Strength Distribution\"},\"yaxis\":{\"title\":{\"text\":\"Confidence\"}}},                        {\"responsive\": true}                    ).then(function(){\n",
       "                            \n",
       "var gd = document.getElementById('376ffdb7-f9d8-4ae6-9860-b2157e296e7f');\n",
       "var x = new MutationObserver(function (mutations, observer) {{\n",
       "        var display = window.getComputedStyle(gd).display;\n",
       "        if (!display || display === 'none') {{\n",
       "            console.log([gd, 'removed!']);\n",
       "            Plotly.purge(gd);\n",
       "            observer.disconnect();\n",
       "        }}\n",
       "}});\n",
       "\n",
       "// Listen for the removal of the full notebook cells\n",
       "var notebookContainer = gd.closest('#notebook-container');\n",
       "if (notebookContainer) {{\n",
       "    x.observe(notebookContainer, {childList: true});\n",
       "}}\n",
       "\n",
       "// Listen for the clearing of the current output cell\n",
       "var outputEl = gd.closest('.output');\n",
       "if (outputEl) {{\n",
       "    x.observe(outputEl, {childList: true});\n",
       "}}\n",
       "\n",
       "                        })                };                });            </script>        </div>"
      ]
     },
     "metadata": {},
     "output_type": "display_data",
     "jetTransient": {
      "display_id": null
     }
    },
    {
     "data": {
      "application/vnd.plotly.v1+json": {
       "data": [
        {
         "hoverinfo": "none",
         "line": {
          "color": "#888",
          "width": 0.5
         },
         "mode": "lines",
         "x": [
          0.6679414917260774,
          0.8196647259044476,
          null,
          0.6210342175393025,
          0.6679414917260774,
          null,
          0.16912101289382733,
          0.8196647259044476,
          null,
          -0.5229996806992722,
          0.16912101289382733,
          null,
          0.36344062934967664,
          0.8196647259044476,
          null,
          -0.5376542001969012,
          0.36344062934967664,
          null,
          0.028565263408703058,
          0.8196647259044476,
          null,
          -0.6497936469079257,
          0.028565263408703058,
          null,
          -0.6497936469079257,
          -0.19399114685190164,
          null,
          -0.19399114685190164,
          0.8196647259044476,
          null,
          0.2769954424095451,
          0.8196647259044476,
          null,
          -0.44033805116238256,
          0.2769954424095451,
          null,
          0.8365126423825996,
          0.8196647259044476,
          null,
          0.9088553654449888,
          0.8365126423825996,
          null,
          0.6672833383965939,
          0.8196647259044476,
          null,
          0.0650589438824871,
          0.6672833383965939,
          null,
          0.16433060820248155,
          0.8196647259044476,
          null,
          -0.5085081550256391,
          0.16433060820248155,
          null,
          -0.036261755431641444,
          0.8196647259044476,
          null,
          -0.5153442337682299,
          -0.036261755431641444,
          null,
          0.5674281313025138,
          0.8196647259044476,
          null,
          -0.48381974457864113,
          0.5674281313025138,
          null,
          0.3472343381187807,
          0.8196647259044476,
          null,
          0.3094316534098064,
          0.3472343381187807,
          null,
          0.5470201264085848,
          0.8196647259044476,
          null,
          -0.7081723789123615,
          0.5470201264085848,
          null,
          -0.1338067307883854,
          0.8196647259044476,
          null,
          -0.8621834670441082,
          -0.1338067307883854,
          null,
          -0.28396918473436517,
          0.8196647259044476,
          null,
          -1.0,
          -0.28396918473436517,
          null,
          0.13830419242417896,
          0.8196647259044476,
          null,
          -0.6213797471028364,
          0.13830419242417896,
          null
         ],
         "y": [
          -0.23826874187119154,
          0.39987585181214025,
          null,
          -0.8701624192620532,
          -0.23826874187119154,
          null,
          -0.04326354072694256,
          0.39987585181214025,
          null,
          -0.5464398839193194,
          -0.04326354072694256,
          null,
          0.7545660010547053,
          0.39987585181214025,
          null,
          0.7979452657883104,
          0.7545660010547053,
          null,
          0.10037928598123359,
          0.39987585181214025,
          null,
          -0.28916501780028536,
          0.10037928598123359,
          null,
          -0.28916501780028536,
          -0.2330529068023975,
          null,
          -0.2330529068023975,
          0.39987585181214025,
          null,
          0.5192184713032975,
          0.39987585181214025,
          null,
          0.6086821730199087,
          0.5192184713032975,
          null,
          0.7419656424045855,
          0.39987585181214025,
          null,
          0.28423811361801976,
          0.7419656424045855,
          null,
          -0.050840121068938024,
          0.39987585181214025,
          null,
          -0.7212509652918452,
          -0.050840121068938024,
          null,
          0.25306257874878435,
          0.39987585181214025,
          null,
          0.30996859666427273,
          0.25306257874878435,
          null,
          -0.2846702933515554,
          0.39987585181214025,
          null,
          -0.9320205488272657,
          -0.2846702933515554,
          null,
          0.44355492498385796,
          0.39987585181214025,
          null,
          0.10437984225036763,
          0.44355492498385796,
          null,
          -0.2435350578714537,
          0.39987585181214025,
          null,
          -0.8751119756765362,
          -0.2435350578714537,
          null,
          0.8003161596632545,
          0.39987585181214025,
          null,
          0.4468884887034703,
          0.8003161596632545,
          null,
          0.15215036851731772,
          0.39987585181214025,
          null,
          0.10410198169117867,
          0.15215036851731772,
          null,
          -0.10125132362861708,
          0.39987585181214025,
          null,
          -0.38394431944837265,
          -0.10125132362861708,
          null,
          -0.23476843434327188,
          0.39987585181214025,
          null,
          -0.7735481963146905,
          -0.23476843434327188,
          null
         ],
         "type": "scatter"
        },
        {
         "hoverinfo": "text",
         "marker": {
          "color": [],
          "colorbar": {
           "thickness": 15,
           "title": {
            "side": "right",
            "text": "Node Connections"
           },
           "xanchor": "left"
          },
          "colorscale": [
           [
            0.0,
            "rgb(255,255,217)"
           ],
           [
            0.125,
            "rgb(237,248,177)"
           ],
           [
            0.25,
            "rgb(199,233,180)"
           ],
           [
            0.375,
            "rgb(127,205,187)"
           ],
           [
            0.5,
            "rgb(65,182,196)"
           ],
           [
            0.625,
            "rgb(29,145,192)"
           ],
           [
            0.75,
            "rgb(34,94,168)"
           ],
           [
            0.875,
            "rgb(37,52,148)"
           ],
           [
            1.0,
            "rgb(8,29,88)"
           ]
          ],
          "line": {
           "width": 2
          },
          "reversescale": true,
          "showscale": true,
          "size": 10
         },
         "mode": "markers",
         "text": [
          "0",
          "Mighty Protein",
          "Coffee",
          "1",
          "NONE, Art Tray",
          "2",
          "Salad, Extra Salami or Feta",
          "3",
          "Extra Salami or Feta",
          "4",
          "5",
          "Tartine, NONE",
          "6",
          "Vegan mincepie, Cake",
          "7",
          "Keeping It Local",
          "8",
          "Salad, Sandwich",
          "9",
          "Sandwich, Hearty & Seasonal",
          "10",
          "Pastry, Toast",
          "11",
          "Scone, NONE",
          "12",
          "Soup, Cake, Sandwich",
          "13",
          "Cookies, Sandwich, Hot chocolate",
          "14",
          "NONE, Hot chocolate, Medialuna",
          "15",
          "Pastry, Sandwich"
         ],
         "x": [
          0.6679414917260774,
          0.6210342175393025,
          0.8196647259044476,
          0.16912101289382733,
          -0.5229996806992722,
          0.36344062934967664,
          -0.5376542001969012,
          0.028565263408703058,
          -0.6497936469079257,
          -0.19399114685190164,
          0.2769954424095451,
          -0.44033805116238256,
          0.8365126423825996,
          0.9088553654449888,
          0.6672833383965939,
          0.0650589438824871,
          0.16433060820248155,
          -0.5085081550256391,
          -0.036261755431641444,
          -0.5153442337682299,
          0.5674281313025138,
          -0.48381974457864113,
          0.3472343381187807,
          0.3094316534098064,
          0.5470201264085848,
          -0.7081723789123615,
          -0.1338067307883854,
          -0.8621834670441082,
          -0.28396918473436517,
          -1.0,
          0.13830419242417896,
          -0.6213797471028364
         ],
         "y": [
          -0.23826874187119154,
          -0.8701624192620532,
          0.39987585181214025,
          -0.04326354072694256,
          -0.5464398839193194,
          0.7545660010547053,
          0.7979452657883104,
          0.10037928598123359,
          -0.28916501780028536,
          -0.2330529068023975,
          0.5192184713032975,
          0.6086821730199087,
          0.7419656424045855,
          0.28423811361801976,
          -0.050840121068938024,
          -0.7212509652918452,
          0.25306257874878435,
          0.30996859666427273,
          -0.2846702933515554,
          -0.9320205488272657,
          0.44355492498385796,
          0.10437984225036763,
          -0.2435350578714537,
          -0.8751119756765362,
          0.8003161596632545,
          0.4468884887034703,
          0.15215036851731772,
          0.10410198169117867,
          -0.10125132362861708,
          -0.38394431944837265,
          -0.23476843434327188,
          -0.7735481963146905
         ],
         "type": "scatter"
        }
       ],
       "layout": {
        "annotations": [
         {
          "showarrow": false,
          "text": "Python code: <a href='https://plotly.com/ipython-notebooks/network-graphs/'> https://plotly.com/ipython-notebooks/network-graphs/</a>",
          "x": 0.005,
          "xref": "paper",
          "y": -0.002,
          "yref": "paper"
         }
        ],
        "hovermode": "closest",
        "margin": {
         "b": 20,
         "l": 5,
         "r": 5,
         "t": 40
        },
        "showlegend": false,
        "title": {
         "font": {
          "size": 16
         },
         "text": "<br>Network graph made with Python"
        },
        "xaxis": {
         "showgrid": false,
         "showticklabels": false,
         "zeroline": false
        },
        "yaxis": {
         "showgrid": false,
         "showticklabels": false,
         "zeroline": false
        },
        "template": {
         "data": {
          "histogram2dcontour": [
           {
            "type": "histogram2dcontour",
            "colorbar": {
             "outlinewidth": 0,
             "ticks": ""
            },
            "colorscale": [
             [
              0.0,
              "#0d0887"
             ],
             [
              0.1111111111111111,
              "#46039f"
             ],
             [
              0.2222222222222222,
              "#7201a8"
             ],
             [
              0.3333333333333333,
              "#9c179e"
             ],
             [
              0.4444444444444444,
              "#bd3786"
             ],
             [
              0.5555555555555556,
              "#d8576b"
             ],
             [
              0.6666666666666666,
              "#ed7953"
             ],
             [
              0.7777777777777778,
              "#fb9f3a"
             ],
             [
              0.8888888888888888,
              "#fdca26"
             ],
             [
              1.0,
              "#f0f921"
             ]
            ]
           }
          ],
          "choropleth": [
           {
            "type": "choropleth",
            "colorbar": {
             "outlinewidth": 0,
             "ticks": ""
            }
           }
          ],
          "histogram2d": [
           {
            "type": "histogram2d",
            "colorbar": {
             "outlinewidth": 0,
             "ticks": ""
            },
            "colorscale": [
             [
              0.0,
              "#0d0887"
             ],
             [
              0.1111111111111111,
              "#46039f"
             ],
             [
              0.2222222222222222,
              "#7201a8"
             ],
             [
              0.3333333333333333,
              "#9c179e"
             ],
             [
              0.4444444444444444,
              "#bd3786"
             ],
             [
              0.5555555555555556,
              "#d8576b"
             ],
             [
              0.6666666666666666,
              "#ed7953"
             ],
             [
              0.7777777777777778,
              "#fb9f3a"
             ],
             [
              0.8888888888888888,
              "#fdca26"
             ],
             [
              1.0,
              "#f0f921"
             ]
            ]
           }
          ],
          "heatmap": [
           {
            "type": "heatmap",
            "colorbar": {
             "outlinewidth": 0,
             "ticks": ""
            },
            "colorscale": [
             [
              0.0,
              "#0d0887"
             ],
             [
              0.1111111111111111,
              "#46039f"
             ],
             [
              0.2222222222222222,
              "#7201a8"
             ],
             [
              0.3333333333333333,
              "#9c179e"
             ],
             [
              0.4444444444444444,
              "#bd3786"
             ],
             [
              0.5555555555555556,
              "#d8576b"
             ],
             [
              0.6666666666666666,
              "#ed7953"
             ],
             [
              0.7777777777777778,
              "#fb9f3a"
             ],
             [
              0.8888888888888888,
              "#fdca26"
             ],
             [
              1.0,
              "#f0f921"
             ]
            ]
           }
          ],
          "heatmapgl": [
           {
            "type": "heatmapgl",
            "colorbar": {
             "outlinewidth": 0,
             "ticks": ""
            },
            "colorscale": [
             [
              0.0,
              "#0d0887"
             ],
             [
              0.1111111111111111,
              "#46039f"
             ],
             [
              0.2222222222222222,
              "#7201a8"
             ],
             [
              0.3333333333333333,
              "#9c179e"
             ],
             [
              0.4444444444444444,
              "#bd3786"
             ],
             [
              0.5555555555555556,
              "#d8576b"
             ],
             [
              0.6666666666666666,
              "#ed7953"
             ],
             [
              0.7777777777777778,
              "#fb9f3a"
             ],
             [
              0.8888888888888888,
              "#fdca26"
             ],
             [
              1.0,
              "#f0f921"
             ]
            ]
           }
          ],
          "contourcarpet": [
           {
            "type": "contourcarpet",
            "colorbar": {
             "outlinewidth": 0,
             "ticks": ""
            }
           }
          ],
          "contour": [
           {
            "type": "contour",
            "colorbar": {
             "outlinewidth": 0,
             "ticks": ""
            },
            "colorscale": [
             [
              0.0,
              "#0d0887"
             ],
             [
              0.1111111111111111,
              "#46039f"
             ],
             [
              0.2222222222222222,
              "#7201a8"
             ],
             [
              0.3333333333333333,
              "#9c179e"
             ],
             [
              0.4444444444444444,
              "#bd3786"
             ],
             [
              0.5555555555555556,
              "#d8576b"
             ],
             [
              0.6666666666666666,
              "#ed7953"
             ],
             [
              0.7777777777777778,
              "#fb9f3a"
             ],
             [
              0.8888888888888888,
              "#fdca26"
             ],
             [
              1.0,
              "#f0f921"
             ]
            ]
           }
          ],
          "surface": [
           {
            "type": "surface",
            "colorbar": {
             "outlinewidth": 0,
             "ticks": ""
            },
            "colorscale": [
             [
              0.0,
              "#0d0887"
             ],
             [
              0.1111111111111111,
              "#46039f"
             ],
             [
              0.2222222222222222,
              "#7201a8"
             ],
             [
              0.3333333333333333,
              "#9c179e"
             ],
             [
              0.4444444444444444,
              "#bd3786"
             ],
             [
              0.5555555555555556,
              "#d8576b"
             ],
             [
              0.6666666666666666,
              "#ed7953"
             ],
             [
              0.7777777777777778,
              "#fb9f3a"
             ],
             [
              0.8888888888888888,
              "#fdca26"
             ],
             [
              1.0,
              "#f0f921"
             ]
            ]
           }
          ],
          "mesh3d": [
           {
            "type": "mesh3d",
            "colorbar": {
             "outlinewidth": 0,
             "ticks": ""
            }
           }
          ],
          "scatter": [
           {
            "fillpattern": {
             "fillmode": "overlay",
             "size": 10,
             "solidity": 0.2
            },
            "type": "scatter"
           }
          ],
          "parcoords": [
           {
            "type": "parcoords",
            "line": {
             "colorbar": {
              "outlinewidth": 0,
              "ticks": ""
             }
            }
           }
          ],
          "scatterpolargl": [
           {
            "type": "scatterpolargl",
            "marker": {
             "colorbar": {
              "outlinewidth": 0,
              "ticks": ""
             }
            }
           }
          ],
          "bar": [
           {
            "error_x": {
             "color": "#2a3f5f"
            },
            "error_y": {
             "color": "#2a3f5f"
            },
            "marker": {
             "line": {
              "color": "#E5ECF6",
              "width": 0.5
             },
             "pattern": {
              "fillmode": "overlay",
              "size": 10,
              "solidity": 0.2
             }
            },
            "type": "bar"
           }
          ],
          "scattergeo": [
           {
            "type": "scattergeo",
            "marker": {
             "colorbar": {
              "outlinewidth": 0,
              "ticks": ""
             }
            }
           }
          ],
          "scatterpolar": [
           {
            "type": "scatterpolar",
            "marker": {
             "colorbar": {
              "outlinewidth": 0,
              "ticks": ""
             }
            }
           }
          ],
          "histogram": [
           {
            "marker": {
             "pattern": {
              "fillmode": "overlay",
              "size": 10,
              "solidity": 0.2
             }
            },
            "type": "histogram"
           }
          ],
          "scattergl": [
           {
            "type": "scattergl",
            "marker": {
             "colorbar": {
              "outlinewidth": 0,
              "ticks": ""
             }
            }
           }
          ],
          "scatter3d": [
           {
            "type": "scatter3d",
            "line": {
             "colorbar": {
              "outlinewidth": 0,
              "ticks": ""
             }
            },
            "marker": {
             "colorbar": {
              "outlinewidth": 0,
              "ticks": ""
             }
            }
           }
          ],
          "scattermapbox": [
           {
            "type": "scattermapbox",
            "marker": {
             "colorbar": {
              "outlinewidth": 0,
              "ticks": ""
             }
            }
           }
          ],
          "scatterternary": [
           {
            "type": "scatterternary",
            "marker": {
             "colorbar": {
              "outlinewidth": 0,
              "ticks": ""
             }
            }
           }
          ],
          "scattercarpet": [
           {
            "type": "scattercarpet",
            "marker": {
             "colorbar": {
              "outlinewidth": 0,
              "ticks": ""
             }
            }
           }
          ],
          "carpet": [
           {
            "aaxis": {
             "endlinecolor": "#2a3f5f",
             "gridcolor": "white",
             "linecolor": "white",
             "minorgridcolor": "white",
             "startlinecolor": "#2a3f5f"
            },
            "baxis": {
             "endlinecolor": "#2a3f5f",
             "gridcolor": "white",
             "linecolor": "white",
             "minorgridcolor": "white",
             "startlinecolor": "#2a3f5f"
            },
            "type": "carpet"
           }
          ],
          "table": [
           {
            "cells": {
             "fill": {
              "color": "#EBF0F8"
             },
             "line": {
              "color": "white"
             }
            },
            "header": {
             "fill": {
              "color": "#C8D4E3"
             },
             "line": {
              "color": "white"
             }
            },
            "type": "table"
           }
          ],
          "barpolar": [
           {
            "marker": {
             "line": {
              "color": "#E5ECF6",
              "width": 0.5
             },
             "pattern": {
              "fillmode": "overlay",
              "size": 10,
              "solidity": 0.2
             }
            },
            "type": "barpolar"
           }
          ],
          "pie": [
           {
            "automargin": true,
            "type": "pie"
           }
          ]
         },
         "layout": {
          "autotypenumbers": "strict",
          "colorway": [
           "#636efa",
           "#EF553B",
           "#00cc96",
           "#ab63fa",
           "#FFA15A",
           "#19d3f3",
           "#FF6692",
           "#B6E880",
           "#FF97FF",
           "#FECB52"
          ],
          "font": {
           "color": "#2a3f5f"
          },
          "hovermode": "closest",
          "hoverlabel": {
           "align": "left"
          },
          "paper_bgcolor": "white",
          "plot_bgcolor": "#E5ECF6",
          "polar": {
           "bgcolor": "#E5ECF6",
           "angularaxis": {
            "gridcolor": "white",
            "linecolor": "white",
            "ticks": ""
           },
           "radialaxis": {
            "gridcolor": "white",
            "linecolor": "white",
            "ticks": ""
           }
          },
          "ternary": {
           "bgcolor": "#E5ECF6",
           "aaxis": {
            "gridcolor": "white",
            "linecolor": "white",
            "ticks": ""
           },
           "baxis": {
            "gridcolor": "white",
            "linecolor": "white",
            "ticks": ""
           },
           "caxis": {
            "gridcolor": "white",
            "linecolor": "white",
            "ticks": ""
           }
          },
          "coloraxis": {
           "colorbar": {
            "outlinewidth": 0,
            "ticks": ""
           }
          },
          "colorscale": {
           "sequential": [
            [
             0.0,
             "#0d0887"
            ],
            [
             0.1111111111111111,
             "#46039f"
            ],
            [
             0.2222222222222222,
             "#7201a8"
            ],
            [
             0.3333333333333333,
             "#9c179e"
            ],
            [
             0.4444444444444444,
             "#bd3786"
            ],
            [
             0.5555555555555556,
             "#d8576b"
            ],
            [
             0.6666666666666666,
             "#ed7953"
            ],
            [
             0.7777777777777778,
             "#fb9f3a"
            ],
            [
             0.8888888888888888,
             "#fdca26"
            ],
            [
             1.0,
             "#f0f921"
            ]
           ],
           "sequentialminus": [
            [
             0.0,
             "#0d0887"
            ],
            [
             0.1111111111111111,
             "#46039f"
            ],
            [
             0.2222222222222222,
             "#7201a8"
            ],
            [
             0.3333333333333333,
             "#9c179e"
            ],
            [
             0.4444444444444444,
             "#bd3786"
            ],
            [
             0.5555555555555556,
             "#d8576b"
            ],
            [
             0.6666666666666666,
             "#ed7953"
            ],
            [
             0.7777777777777778,
             "#fb9f3a"
            ],
            [
             0.8888888888888888,
             "#fdca26"
            ],
            [
             1.0,
             "#f0f921"
            ]
           ],
           "diverging": [
            [
             0,
             "#8e0152"
            ],
            [
             0.1,
             "#c51b7d"
            ],
            [
             0.2,
             "#de77ae"
            ],
            [
             0.3,
             "#f1b6da"
            ],
            [
             0.4,
             "#fde0ef"
            ],
            [
             0.5,
             "#f7f7f7"
            ],
            [
             0.6,
             "#e6f5d0"
            ],
            [
             0.7,
             "#b8e186"
            ],
            [
             0.8,
             "#7fbc41"
            ],
            [
             0.9,
             "#4d9221"
            ],
            [
             1,
             "#276419"
            ]
           ]
          },
          "xaxis": {
           "gridcolor": "white",
           "linecolor": "white",
           "ticks": "",
           "title": {
            "standoff": 15
           },
           "zerolinecolor": "white",
           "automargin": true,
           "zerolinewidth": 2
          },
          "yaxis": {
           "gridcolor": "white",
           "linecolor": "white",
           "ticks": "",
           "title": {
            "standoff": 15
           },
           "zerolinecolor": "white",
           "automargin": true,
           "zerolinewidth": 2
          },
          "scene": {
           "xaxis": {
            "backgroundcolor": "#E5ECF6",
            "gridcolor": "white",
            "linecolor": "white",
            "showbackground": true,
            "ticks": "",
            "zerolinecolor": "white",
            "gridwidth": 2
           },
           "yaxis": {
            "backgroundcolor": "#E5ECF6",
            "gridcolor": "white",
            "linecolor": "white",
            "showbackground": true,
            "ticks": "",
            "zerolinecolor": "white",
            "gridwidth": 2
           },
           "zaxis": {
            "backgroundcolor": "#E5ECF6",
            "gridcolor": "white",
            "linecolor": "white",
            "showbackground": true,
            "ticks": "",
            "zerolinecolor": "white",
            "gridwidth": 2
           }
          },
          "shapedefaults": {
           "line": {
            "color": "#2a3f5f"
           }
          },
          "annotationdefaults": {
           "arrowcolor": "#2a3f5f",
           "arrowhead": 0,
           "arrowwidth": 1
          },
          "geo": {
           "bgcolor": "white",
           "landcolor": "#E5ECF6",
           "subunitcolor": "white",
           "showland": true,
           "showlakes": true,
           "lakecolor": "white"
          },
          "title": {
           "x": 0.05
          },
          "mapbox": {
           "style": "light"
          }
         }
        }
       },
       "config": {
        "plotlyServerURL": "https://plot.ly"
       }
      },
      "text/html": [
       "<div>                            <div id=\"e34df891-8e3f-4f1c-9087-d835748a9860\" class=\"plotly-graph-div\" style=\"height:525px; width:100%;\"></div>            <script type=\"text/javascript\">                require([\"plotly\"], function(Plotly) {                    window.PLOTLYENV=window.PLOTLYENV || {};                                    if (document.getElementById(\"e34df891-8e3f-4f1c-9087-d835748a9860\")) {                    Plotly.newPlot(                        \"e34df891-8e3f-4f1c-9087-d835748a9860\",                        [{\"hoverinfo\":\"none\",\"line\":{\"color\":\"#888\",\"width\":0.5},\"mode\":\"lines\",\"x\":[0.6679414917260774,0.8196647259044476,null,0.6210342175393025,0.6679414917260774,null,0.16912101289382733,0.8196647259044476,null,-0.5229996806992722,0.16912101289382733,null,0.36344062934967664,0.8196647259044476,null,-0.5376542001969012,0.36344062934967664,null,0.028565263408703058,0.8196647259044476,null,-0.6497936469079257,0.028565263408703058,null,-0.6497936469079257,-0.19399114685190164,null,-0.19399114685190164,0.8196647259044476,null,0.2769954424095451,0.8196647259044476,null,-0.44033805116238256,0.2769954424095451,null,0.8365126423825996,0.8196647259044476,null,0.9088553654449888,0.8365126423825996,null,0.6672833383965939,0.8196647259044476,null,0.0650589438824871,0.6672833383965939,null,0.16433060820248155,0.8196647259044476,null,-0.5085081550256391,0.16433060820248155,null,-0.036261755431641444,0.8196647259044476,null,-0.5153442337682299,-0.036261755431641444,null,0.5674281313025138,0.8196647259044476,null,-0.48381974457864113,0.5674281313025138,null,0.3472343381187807,0.8196647259044476,null,0.3094316534098064,0.3472343381187807,null,0.5470201264085848,0.8196647259044476,null,-0.7081723789123615,0.5470201264085848,null,-0.1338067307883854,0.8196647259044476,null,-0.8621834670441082,-0.1338067307883854,null,-0.28396918473436517,0.8196647259044476,null,-1.0,-0.28396918473436517,null,0.13830419242417896,0.8196647259044476,null,-0.6213797471028364,0.13830419242417896,null],\"y\":[-0.23826874187119154,0.39987585181214025,null,-0.8701624192620532,-0.23826874187119154,null,-0.04326354072694256,0.39987585181214025,null,-0.5464398839193194,-0.04326354072694256,null,0.7545660010547053,0.39987585181214025,null,0.7979452657883104,0.7545660010547053,null,0.10037928598123359,0.39987585181214025,null,-0.28916501780028536,0.10037928598123359,null,-0.28916501780028536,-0.2330529068023975,null,-0.2330529068023975,0.39987585181214025,null,0.5192184713032975,0.39987585181214025,null,0.6086821730199087,0.5192184713032975,null,0.7419656424045855,0.39987585181214025,null,0.28423811361801976,0.7419656424045855,null,-0.050840121068938024,0.39987585181214025,null,-0.7212509652918452,-0.050840121068938024,null,0.25306257874878435,0.39987585181214025,null,0.30996859666427273,0.25306257874878435,null,-0.2846702933515554,0.39987585181214025,null,-0.9320205488272657,-0.2846702933515554,null,0.44355492498385796,0.39987585181214025,null,0.10437984225036763,0.44355492498385796,null,-0.2435350578714537,0.39987585181214025,null,-0.8751119756765362,-0.2435350578714537,null,0.8003161596632545,0.39987585181214025,null,0.4468884887034703,0.8003161596632545,null,0.15215036851731772,0.39987585181214025,null,0.10410198169117867,0.15215036851731772,null,-0.10125132362861708,0.39987585181214025,null,-0.38394431944837265,-0.10125132362861708,null,-0.23476843434327188,0.39987585181214025,null,-0.7735481963146905,-0.23476843434327188,null],\"type\":\"scatter\"},{\"hoverinfo\":\"text\",\"marker\":{\"color\":[],\"colorbar\":{\"thickness\":15,\"title\":{\"side\":\"right\",\"text\":\"Node Connections\"},\"xanchor\":\"left\"},\"colorscale\":[[0.0,\"rgb(255,255,217)\"],[0.125,\"rgb(237,248,177)\"],[0.25,\"rgb(199,233,180)\"],[0.375,\"rgb(127,205,187)\"],[0.5,\"rgb(65,182,196)\"],[0.625,\"rgb(29,145,192)\"],[0.75,\"rgb(34,94,168)\"],[0.875,\"rgb(37,52,148)\"],[1.0,\"rgb(8,29,88)\"]],\"line\":{\"width\":2},\"reversescale\":true,\"showscale\":true,\"size\":10},\"mode\":\"markers\",\"text\":[\"0\",\"Mighty Protein\",\"Coffee\",\"1\",\"NONE, Art Tray\",\"2\",\"Salad, Extra Salami or Feta\",\"3\",\"Extra Salami or Feta\",\"4\",\"5\",\"Tartine, NONE\",\"6\",\"Vegan mincepie, Cake\",\"7\",\"Keeping It Local\",\"8\",\"Salad, Sandwich\",\"9\",\"Sandwich, Hearty & Seasonal\",\"10\",\"Pastry, Toast\",\"11\",\"Scone, NONE\",\"12\",\"Soup, Cake, Sandwich\",\"13\",\"Cookies, Sandwich, Hot chocolate\",\"14\",\"NONE, Hot chocolate, Medialuna\",\"15\",\"Pastry, Sandwich\"],\"x\":[0.6679414917260774,0.6210342175393025,0.8196647259044476,0.16912101289382733,-0.5229996806992722,0.36344062934967664,-0.5376542001969012,0.028565263408703058,-0.6497936469079257,-0.19399114685190164,0.2769954424095451,-0.44033805116238256,0.8365126423825996,0.9088553654449888,0.6672833383965939,0.0650589438824871,0.16433060820248155,-0.5085081550256391,-0.036261755431641444,-0.5153442337682299,0.5674281313025138,-0.48381974457864113,0.3472343381187807,0.3094316534098064,0.5470201264085848,-0.7081723789123615,-0.1338067307883854,-0.8621834670441082,-0.28396918473436517,-1.0,0.13830419242417896,-0.6213797471028364],\"y\":[-0.23826874187119154,-0.8701624192620532,0.39987585181214025,-0.04326354072694256,-0.5464398839193194,0.7545660010547053,0.7979452657883104,0.10037928598123359,-0.28916501780028536,-0.2330529068023975,0.5192184713032975,0.6086821730199087,0.7419656424045855,0.28423811361801976,-0.050840121068938024,-0.7212509652918452,0.25306257874878435,0.30996859666427273,-0.2846702933515554,-0.9320205488272657,0.44355492498385796,0.10437984225036763,-0.2435350578714537,-0.8751119756765362,0.8003161596632545,0.4468884887034703,0.15215036851731772,0.10410198169117867,-0.10125132362861708,-0.38394431944837265,-0.23476843434327188,-0.7735481963146905],\"type\":\"scatter\"}],                        {\"annotations\":[{\"showarrow\":false,\"text\":\"Python code: \\u003ca href='https:\\u002f\\u002fplotly.com\\u002fipython-notebooks\\u002fnetwork-graphs\\u002f'\\u003e https:\\u002f\\u002fplotly.com\\u002fipython-notebooks\\u002fnetwork-graphs\\u002f\\u003c\\u002fa\\u003e\",\"x\":0.005,\"xref\":\"paper\",\"y\":-0.002,\"yref\":\"paper\"}],\"hovermode\":\"closest\",\"margin\":{\"b\":20,\"l\":5,\"r\":5,\"t\":40},\"showlegend\":false,\"title\":{\"font\":{\"size\":16},\"text\":\"\\u003cbr\\u003eNetwork graph made with Python\"},\"xaxis\":{\"showgrid\":false,\"showticklabels\":false,\"zeroline\":false},\"yaxis\":{\"showgrid\":false,\"showticklabels\":false,\"zeroline\":false},\"template\":{\"data\":{\"histogram2dcontour\":[{\"type\":\"histogram2dcontour\",\"colorbar\":{\"outlinewidth\":0,\"ticks\":\"\"},\"colorscale\":[[0.0,\"#0d0887\"],[0.1111111111111111,\"#46039f\"],[0.2222222222222222,\"#7201a8\"],[0.3333333333333333,\"#9c179e\"],[0.4444444444444444,\"#bd3786\"],[0.5555555555555556,\"#d8576b\"],[0.6666666666666666,\"#ed7953\"],[0.7777777777777778,\"#fb9f3a\"],[0.8888888888888888,\"#fdca26\"],[1.0,\"#f0f921\"]]}],\"choropleth\":[{\"type\":\"choropleth\",\"colorbar\":{\"outlinewidth\":0,\"ticks\":\"\"}}],\"histogram2d\":[{\"type\":\"histogram2d\",\"colorbar\":{\"outlinewidth\":0,\"ticks\":\"\"},\"colorscale\":[[0.0,\"#0d0887\"],[0.1111111111111111,\"#46039f\"],[0.2222222222222222,\"#7201a8\"],[0.3333333333333333,\"#9c179e\"],[0.4444444444444444,\"#bd3786\"],[0.5555555555555556,\"#d8576b\"],[0.6666666666666666,\"#ed7953\"],[0.7777777777777778,\"#fb9f3a\"],[0.8888888888888888,\"#fdca26\"],[1.0,\"#f0f921\"]]}],\"heatmap\":[{\"type\":\"heatmap\",\"colorbar\":{\"outlinewidth\":0,\"ticks\":\"\"},\"colorscale\":[[0.0,\"#0d0887\"],[0.1111111111111111,\"#46039f\"],[0.2222222222222222,\"#7201a8\"],[0.3333333333333333,\"#9c179e\"],[0.4444444444444444,\"#bd3786\"],[0.5555555555555556,\"#d8576b\"],[0.6666666666666666,\"#ed7953\"],[0.7777777777777778,\"#fb9f3a\"],[0.8888888888888888,\"#fdca26\"],[1.0,\"#f0f921\"]]}],\"heatmapgl\":[{\"type\":\"heatmapgl\",\"colorbar\":{\"outlinewidth\":0,\"ticks\":\"\"},\"colorscale\":[[0.0,\"#0d0887\"],[0.1111111111111111,\"#46039f\"],[0.2222222222222222,\"#7201a8\"],[0.3333333333333333,\"#9c179e\"],[0.4444444444444444,\"#bd3786\"],[0.5555555555555556,\"#d8576b\"],[0.6666666666666666,\"#ed7953\"],[0.7777777777777778,\"#fb9f3a\"],[0.8888888888888888,\"#fdca26\"],[1.0,\"#f0f921\"]]}],\"contourcarpet\":[{\"type\":\"contourcarpet\",\"colorbar\":{\"outlinewidth\":0,\"ticks\":\"\"}}],\"contour\":[{\"type\":\"contour\",\"colorbar\":{\"outlinewidth\":0,\"ticks\":\"\"},\"colorscale\":[[0.0,\"#0d0887\"],[0.1111111111111111,\"#46039f\"],[0.2222222222222222,\"#7201a8\"],[0.3333333333333333,\"#9c179e\"],[0.4444444444444444,\"#bd3786\"],[0.5555555555555556,\"#d8576b\"],[0.6666666666666666,\"#ed7953\"],[0.7777777777777778,\"#fb9f3a\"],[0.8888888888888888,\"#fdca26\"],[1.0,\"#f0f921\"]]}],\"surface\":[{\"type\":\"surface\",\"colorbar\":{\"outlinewidth\":0,\"ticks\":\"\"},\"colorscale\":[[0.0,\"#0d0887\"],[0.1111111111111111,\"#46039f\"],[0.2222222222222222,\"#7201a8\"],[0.3333333333333333,\"#9c179e\"],[0.4444444444444444,\"#bd3786\"],[0.5555555555555556,\"#d8576b\"],[0.6666666666666666,\"#ed7953\"],[0.7777777777777778,\"#fb9f3a\"],[0.8888888888888888,\"#fdca26\"],[1.0,\"#f0f921\"]]}],\"mesh3d\":[{\"type\":\"mesh3d\",\"colorbar\":{\"outlinewidth\":0,\"ticks\":\"\"}}],\"scatter\":[{\"fillpattern\":{\"fillmode\":\"overlay\",\"size\":10,\"solidity\":0.2},\"type\":\"scatter\"}],\"parcoords\":[{\"type\":\"parcoords\",\"line\":{\"colorbar\":{\"outlinewidth\":0,\"ticks\":\"\"}}}],\"scatterpolargl\":[{\"type\":\"scatterpolargl\",\"marker\":{\"colorbar\":{\"outlinewidth\":0,\"ticks\":\"\"}}}],\"bar\":[{\"error_x\":{\"color\":\"#2a3f5f\"},\"error_y\":{\"color\":\"#2a3f5f\"},\"marker\":{\"line\":{\"color\":\"#E5ECF6\",\"width\":0.5},\"pattern\":{\"fillmode\":\"overlay\",\"size\":10,\"solidity\":0.2}},\"type\":\"bar\"}],\"scattergeo\":[{\"type\":\"scattergeo\",\"marker\":{\"colorbar\":{\"outlinewidth\":0,\"ticks\":\"\"}}}],\"scatterpolar\":[{\"type\":\"scatterpolar\",\"marker\":{\"colorbar\":{\"outlinewidth\":0,\"ticks\":\"\"}}}],\"histogram\":[{\"marker\":{\"pattern\":{\"fillmode\":\"overlay\",\"size\":10,\"solidity\":0.2}},\"type\":\"histogram\"}],\"scattergl\":[{\"type\":\"scattergl\",\"marker\":{\"colorbar\":{\"outlinewidth\":0,\"ticks\":\"\"}}}],\"scatter3d\":[{\"type\":\"scatter3d\",\"line\":{\"colorbar\":{\"outlinewidth\":0,\"ticks\":\"\"}},\"marker\":{\"colorbar\":{\"outlinewidth\":0,\"ticks\":\"\"}}}],\"scattermapbox\":[{\"type\":\"scattermapbox\",\"marker\":{\"colorbar\":{\"outlinewidth\":0,\"ticks\":\"\"}}}],\"scatterternary\":[{\"type\":\"scatterternary\",\"marker\":{\"colorbar\":{\"outlinewidth\":0,\"ticks\":\"\"}}}],\"scattercarpet\":[{\"type\":\"scattercarpet\",\"marker\":{\"colorbar\":{\"outlinewidth\":0,\"ticks\":\"\"}}}],\"carpet\":[{\"aaxis\":{\"endlinecolor\":\"#2a3f5f\",\"gridcolor\":\"white\",\"linecolor\":\"white\",\"minorgridcolor\":\"white\",\"startlinecolor\":\"#2a3f5f\"},\"baxis\":{\"endlinecolor\":\"#2a3f5f\",\"gridcolor\":\"white\",\"linecolor\":\"white\",\"minorgridcolor\":\"white\",\"startlinecolor\":\"#2a3f5f\"},\"type\":\"carpet\"}],\"table\":[{\"cells\":{\"fill\":{\"color\":\"#EBF0F8\"},\"line\":{\"color\":\"white\"}},\"header\":{\"fill\":{\"color\":\"#C8D4E3\"},\"line\":{\"color\":\"white\"}},\"type\":\"table\"}],\"barpolar\":[{\"marker\":{\"line\":{\"color\":\"#E5ECF6\",\"width\":0.5},\"pattern\":{\"fillmode\":\"overlay\",\"size\":10,\"solidity\":0.2}},\"type\":\"barpolar\"}],\"pie\":[{\"automargin\":true,\"type\":\"pie\"}]},\"layout\":{\"autotypenumbers\":\"strict\",\"colorway\":[\"#636efa\",\"#EF553B\",\"#00cc96\",\"#ab63fa\",\"#FFA15A\",\"#19d3f3\",\"#FF6692\",\"#B6E880\",\"#FF97FF\",\"#FECB52\"],\"font\":{\"color\":\"#2a3f5f\"},\"hovermode\":\"closest\",\"hoverlabel\":{\"align\":\"left\"},\"paper_bgcolor\":\"white\",\"plot_bgcolor\":\"#E5ECF6\",\"polar\":{\"bgcolor\":\"#E5ECF6\",\"angularaxis\":{\"gridcolor\":\"white\",\"linecolor\":\"white\",\"ticks\":\"\"},\"radialaxis\":{\"gridcolor\":\"white\",\"linecolor\":\"white\",\"ticks\":\"\"}},\"ternary\":{\"bgcolor\":\"#E5ECF6\",\"aaxis\":{\"gridcolor\":\"white\",\"linecolor\":\"white\",\"ticks\":\"\"},\"baxis\":{\"gridcolor\":\"white\",\"linecolor\":\"white\",\"ticks\":\"\"},\"caxis\":{\"gridcolor\":\"white\",\"linecolor\":\"white\",\"ticks\":\"\"}},\"coloraxis\":{\"colorbar\":{\"outlinewidth\":0,\"ticks\":\"\"}},\"colorscale\":{\"sequential\":[[0.0,\"#0d0887\"],[0.1111111111111111,\"#46039f\"],[0.2222222222222222,\"#7201a8\"],[0.3333333333333333,\"#9c179e\"],[0.4444444444444444,\"#bd3786\"],[0.5555555555555556,\"#d8576b\"],[0.6666666666666666,\"#ed7953\"],[0.7777777777777778,\"#fb9f3a\"],[0.8888888888888888,\"#fdca26\"],[1.0,\"#f0f921\"]],\"sequentialminus\":[[0.0,\"#0d0887\"],[0.1111111111111111,\"#46039f\"],[0.2222222222222222,\"#7201a8\"],[0.3333333333333333,\"#9c179e\"],[0.4444444444444444,\"#bd3786\"],[0.5555555555555556,\"#d8576b\"],[0.6666666666666666,\"#ed7953\"],[0.7777777777777778,\"#fb9f3a\"],[0.8888888888888888,\"#fdca26\"],[1.0,\"#f0f921\"]],\"diverging\":[[0,\"#8e0152\"],[0.1,\"#c51b7d\"],[0.2,\"#de77ae\"],[0.3,\"#f1b6da\"],[0.4,\"#fde0ef\"],[0.5,\"#f7f7f7\"],[0.6,\"#e6f5d0\"],[0.7,\"#b8e186\"],[0.8,\"#7fbc41\"],[0.9,\"#4d9221\"],[1,\"#276419\"]]},\"xaxis\":{\"gridcolor\":\"white\",\"linecolor\":\"white\",\"ticks\":\"\",\"title\":{\"standoff\":15},\"zerolinecolor\":\"white\",\"automargin\":true,\"zerolinewidth\":2},\"yaxis\":{\"gridcolor\":\"white\",\"linecolor\":\"white\",\"ticks\":\"\",\"title\":{\"standoff\":15},\"zerolinecolor\":\"white\",\"automargin\":true,\"zerolinewidth\":2},\"scene\":{\"xaxis\":{\"backgroundcolor\":\"#E5ECF6\",\"gridcolor\":\"white\",\"linecolor\":\"white\",\"showbackground\":true,\"ticks\":\"\",\"zerolinecolor\":\"white\",\"gridwidth\":2},\"yaxis\":{\"backgroundcolor\":\"#E5ECF6\",\"gridcolor\":\"white\",\"linecolor\":\"white\",\"showbackground\":true,\"ticks\":\"\",\"zerolinecolor\":\"white\",\"gridwidth\":2},\"zaxis\":{\"backgroundcolor\":\"#E5ECF6\",\"gridcolor\":\"white\",\"linecolor\":\"white\",\"showbackground\":true,\"ticks\":\"\",\"zerolinecolor\":\"white\",\"gridwidth\":2}},\"shapedefaults\":{\"line\":{\"color\":\"#2a3f5f\"}},\"annotationdefaults\":{\"arrowcolor\":\"#2a3f5f\",\"arrowhead\":0,\"arrowwidth\":1},\"geo\":{\"bgcolor\":\"white\",\"landcolor\":\"#E5ECF6\",\"subunitcolor\":\"white\",\"showland\":true,\"showlakes\":true,\"lakecolor\":\"white\"},\"title\":{\"x\":0.05},\"mapbox\":{\"style\":\"light\"}}}},                        {\"responsive\": true}                    ).then(function(){\n",
       "                            \n",
       "var gd = document.getElementById('e34df891-8e3f-4f1c-9087-d835748a9860');\n",
       "var x = new MutationObserver(function (mutations, observer) {{\n",
       "        var display = window.getComputedStyle(gd).display;\n",
       "        if (!display || display === 'none') {{\n",
       "            console.log([gd, 'removed!']);\n",
       "            Plotly.purge(gd);\n",
       "            observer.disconnect();\n",
       "        }}\n",
       "}});\n",
       "\n",
       "// Listen for the removal of the full notebook cells\n",
       "var notebookContainer = gd.closest('#notebook-container');\n",
       "if (notebookContainer) {{\n",
       "    x.observe(notebookContainer, {childList: true});\n",
       "}}\n",
       "\n",
       "// Listen for the clearing of the current output cell\n",
       "var outputEl = gd.closest('.output');\n",
       "if (outputEl) {{\n",
       "    x.observe(outputEl, {childList: true});\n",
       "}}\n",
       "\n",
       "                        })                };                });            </script>        </div>"
      ]
     },
     "metadata": {},
     "output_type": "display_data",
     "jetTransient": {
      "display_id": null
     }
    }
   ],
   "execution_count": 41
  },
  {
   "metadata": {
    "ExecuteTime": {
     "end_time": "2025-09-25T09:56:44.327581Z",
     "start_time": "2025-09-25T09:56:44.244156Z"
    }
   },
   "cell_type": "code",
   "source": [
    "plt.bar(times.keys(), times.values(), color=['blue', 'green', 'orange'])\n",
    "plt.ylabel(\"Время (сек)\")\n",
    "plt.title(\"Сравнение времени построения правил\")\n",
    "plt.show()"
   ],
   "id": "30cbbe3e658be945",
   "outputs": [
    {
     "data": {
      "text/plain": [
       "<Figure size 640x480 with 1 Axes>"
      ],
      "image/png": "[encoded data removed]"
     },
     "metadata": {},
     "output_type": "display_data",
     "jetTransient": {
      "display_id": null
     }
    }
   ],
   "execution_count": 42
  }
 ],
 "metadata": {
  "kernelspec": {
   "display_name": "Python 3",
   "language": "python",
   "name": "python3"
  },
  "language_info": {
   "codemirror_mode": {
    "name": "ipython",
    "version": 2
   },
   "file_extension": ".py",
   "mimetype": "text/x-python",
   "name": "python",
   "nbconvert_exporter": "python",
   "pygments_lexer": "ipython2",
   "version": "2.7.6"
  }
 },
 "nbformat": 4,
 "nbformat_minor": 5
}
