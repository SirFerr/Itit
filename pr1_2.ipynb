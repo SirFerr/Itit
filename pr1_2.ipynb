{
 "cells": [
  {
   "metadata": {
    "ExecuteTime": {
     "end_time": "2025-09-25T09:54:03.951413Z",
     "start_time": "2025-09-25T09:54:03.948283Z"
    }
   },
   "cell_type": "code",
   "source": [
    "import time\n",
    "\n",
    "import pandas as pd\n",
    "from matplotlib import pyplot as plt\n",
    "from PyARMViz import *\n",
    "from apriori_python import apriori\n",
    "from efficient_apriori import apriori as efficient_apriori\n",
    "from fpgrowth_py import fpgrowth"
   ],
   "id": "dc06ec97e76843bf",
   "outputs": [],
   "execution_count": 12
  },
  {
   "metadata": {
    "ExecuteTime": {
     "end_time": "2025-09-25T09:54:04.154801Z",
     "start_time": "2025-09-25T09:54:03.958093Z"
    }
   },
   "cell_type": "code",
   "source": [
    "df = pd.read_csv('data/BreadBasket_DMS.csv')\n",
    "transactions = df.groupby('Transaction')['Item'].apply(list).tolist()"
   ],
   "id": "3e61c2a81b4a6ce1",
   "outputs": [],
   "execution_count": 13
  },
  {
   "metadata": {
    "ExecuteTime": {
     "end_time": "2025-09-25T09:54:04.162738Z",
     "start_time": "2025-09-25T09:54:04.160048Z"
    }
   },
   "cell_type": "code",
   "source": [
    "n_trans = len(transactions)\n",
    "times = {}\n",
    "min_sup = 0.001"
   ],
   "id": "71010ee05eadd255",
   "outputs": [],
   "execution_count": 14
  },
  {
   "metadata": {},
   "cell_type": "markdown",
   "source": "apriori",
   "id": "3de46b4618ab0932"
  },
  {
   "metadata": {
    "ExecuteTime": {
     "end_time": "2025-09-25T09:54:04.171930Z",
     "start_time": "2025-09-25T09:54:04.166788Z"
    }
   },
   "cell_type": "code",
   "source": [
    "def output_apriori(rules):\n",
    "    rules_pyarmviz = []\n",
    "    for i, (antecedent, consequent, confidence) in enumerate(rules):\n",
    "        ant = frozenset(antecedent)\n",
    "        cons = frozenset(consequent)\n",
    "        union = ant | cons\n",
    "\n",
    "        count_ab = sum(1 for t in transactions if union.issubset(t))\n",
    "        count_a = sum(1 for t in transactions if ant.issubset(t))\n",
    "        count_b = sum(1 for t in transactions if cons.issubset(t))\n",
    "\n",
    "        support_ab = count_ab / n_trans\n",
    "        support_a = count_a / n_trans\n",
    "        support_b = count_b / n_trans\n",
    "\n",
    "        lift = support_ab / (support_a * support_b) if support_a * support_b else 0.0\n",
    "\n",
    "        # Вывод в консоль\n",
    "        print(f\"{i}: {antecedent} -> {consequent}\"\n",
    "              f\"Support = {support_ab:.3f} Confidence = {confidence:.3f} Lift = {lift:.3f}\")\n",
    "\n",
    "        rules_pyarmviz.append(\n",
    "            PyARMViz.Rule.Rule(\n",
    "                lhs=[', '.join(set(antecedent))],\n",
    "                rhs=[', '.join(set(consequent))],\n",
    "                count_full=count_ab,\n",
    "                count_lhs=count_a,\n",
    "                count_rhs=count_b,\n",
    "                num_transactions=n_trans\n",
    "            )\n",
    "        )\n",
    "\n",
    "    PyARMViz.metadata_scatter_plot(rules_pyarmviz)\n",
    "    PyARMViz.adjacency_graph_plotly(rules_pyarmviz)\n",
    "    # PyARMViz.adjacency_parallel_coordinate_plot(rules_pyarmviz)\n",
    "    # PyARMViz.adjacency_parallel_category_plot(rules_pyarmviz)"
   ],
   "id": "81ee5cfc3b2b21",
   "outputs": [],
   "execution_count": 15
  },
  {
   "metadata": {
    "ExecuteTime": {
     "end_time": "2025-09-25T09:54:09.012045Z",
     "start_time": "2025-09-25T09:54:04.178097Z"
    }
   },
   "cell_type": "code",
   "source": [
    "start = time.time()\n",
    "freqItemSet, rules = apriori(transactions, minSup=min_sup, minConf=0.6)\n",
    "times['apriori'] = time.time() - start\n",
    "output_apriori(rules)"
   ],
   "id": "11ec5fbe01c25c59",
   "outputs": [
    {
     "name": "stdout",
     "output_type": "stream",
     "text": [
      "0: {'Cake', 'Hot chocolate'} -> {'Coffee'}Support = 0.007 Confidence = 0.602 Lift = 1.267\n",
      "1: {'Cookies', 'Juice'} -> {'Coffee'}Support = 0.004 Confidence = 0.603 Lift = 1.270\n",
      "2: {'Bakewell'} -> {'Coffee'}Support = 0.003 Confidence = 0.604 Lift = 1.272\n",
      "3: {'Granola'} -> {'Coffee'}Support = 0.002 Confidence = 0.607 Lift = 1.278\n",
      "4: {'Scone', 'Hot chocolate'} -> {'Coffee'}Support = 0.002 Confidence = 0.607 Lift = 1.278\n",
      "5: {'Cookies', 'Pastry'} -> {'Coffee'}Support = 0.002 Confidence = 0.607 Lift = 1.278\n",
      "6: {'NONE', 'Brownie'} -> {'Coffee'}Support = 0.001 Confidence = 0.609 Lift = 1.281\n",
      "7: {'Medialuna', 'Toast'} -> {'Coffee'}Support = 0.001 Confidence = 0.611 Lift = 1.286\n",
      "8: {'NONE', 'Alfajores'} -> {'Coffee'}Support = 0.001 Confidence = 0.611 Lift = 1.286\n",
      "9: {'Cookies', 'Hot chocolate'} -> {'Coffee'}Support = 0.004 Confidence = 0.614 Lift = 1.292\n",
      "10: {'Muffin', 'NONE'} -> {'Coffee'}Support = 0.001 Confidence = 0.619 Lift = 1.303\n",
      "11: {'NONE', 'Hot chocolate'} -> {'Coffee'}Support = 0.004 Confidence = 0.621 Lift = 1.306\n",
      "12: {'Soup', 'NONE'} -> {'Coffee'}Support = 0.001 Confidence = 0.625 Lift = 1.316\n",
      "13: {'Cookies', 'Brownie'} -> {'Coffee'}Support = 0.002 Confidence = 0.625 Lift = 1.316\n",
      "14: {'Salad'} -> {'Coffee'}Support = 0.007 Confidence = 0.626 Lift = 1.318\n",
      "15: {'Tartine'} -> {'Coffee'}Support = 0.003 Confidence = 0.630 Lift = 1.327\n",
      "16: {'Scone', 'Juice'} -> {'Coffee'}Support = 0.001 Confidence = 0.632 Lift = 1.329\n",
      "17: {'Pastry', 'NONE'} -> {'Coffee'}Support = 0.003 Confidence = 0.636 Lift = 1.339\n",
      "18: {'Sandwich', 'Brownie'} -> {'Coffee'}Support = 0.001 Confidence = 0.636 Lift = 1.339\n",
      "19: {'Hot chocolate', 'Medialuna'} -> {'Coffee'}Support = 0.003 Confidence = 0.644 Lift = 1.356\n",
      "20: {'Tea', 'Keeping It Local'} -> {'Coffee'}Support = 0.001 Confidence = 0.647 Lift = 1.362\n",
      "21: {'Juice', 'Jammie Dodgers'} -> {'Coffee'}Support = 0.001 Confidence = 0.650 Lift = 1.368\n",
      "22: {'Sandwich', 'Medialuna'} -> {'Coffee'}Support = 0.001 Confidence = 0.650 Lift = 1.368\n",
      "23: {'Muffin', 'Sandwich'} -> {'Coffee'}Support = 0.001 Confidence = 0.650 Lift = 1.368\n",
      "24: {'Cookies', 'Alfajores'} -> {'Coffee'}Support = 0.002 Confidence = 0.652 Lift = 1.373\n",
      "25: {'Soup', 'Sandwich'} -> {'Coffee'}Support = 0.004 Confidence = 0.654 Lift = 1.376\n",
      "26: {'Juice', 'NONE'} -> {'Coffee'}Support = 0.004 Confidence = 0.661 Lift = 1.391\n",
      "27: {'Sandwich', 'Spanish Brunch'} -> {'Coffee'}Support = 0.001 Confidence = 0.667 Lift = 1.403\n",
      "28: {'Cookies', 'Medialuna'} -> {'Coffee'}Support = 0.002 Confidence = 0.667 Lift = 1.403\n",
      "29: {'Smoothies', 'Cake'} -> {'Coffee'}Support = 0.001 Confidence = 0.667 Lift = 1.403\n",
      "30: {'NONE', 'Cake'} -> {'Coffee'}Support = 0.003 Confidence = 0.667 Lift = 1.403\n",
      "31: {'Pastry', 'Hot chocolate'} -> {'Coffee'}Support = 0.004 Confidence = 0.667 Lift = 1.403\n",
      "32: {'Pastry', 'Bread', 'Hot chocolate'} -> {'Coffee'}Support = 0.001 Confidence = 0.667 Lift = 1.403\n",
      "33: {'NONE', 'Spanish Brunch'} -> {'Coffee'}Support = 0.002 Confidence = 0.676 Lift = 1.424\n",
      "34: {'Cake', 'Sandwich'} -> {'Coffee'}Support = 0.005 Confidence = 0.677 Lift = 1.425\n",
      "35: {'Tiffin', 'Cake'} -> {'Coffee'}Support = 0.002 Confidence = 0.682 Lift = 1.435\n",
      "36: {'Juice', 'Toast'} -> {'Coffee'}Support = 0.002 Confidence = 0.682 Lift = 1.435\n",
      "37: {'Art Tray'} -> {'Coffee'}Support = 0.003 Confidence = 0.684 Lift = 1.440\n",
      "38: {'NONE', 'Medialuna'} -> {'Coffee'}Support = 0.003 Confidence = 0.684 Lift = 1.440\n",
      "39: {'Cake', 'Medialuna'} -> {'Coffee'}Support = 0.003 Confidence = 0.686 Lift = 1.443\n",
      "40: {'Toast'} -> {'Coffee'}Support = 0.024 Confidence = 0.704 Lift = 1.483\n",
      "41: {'Cake', 'Toast'} -> {'Coffee'}Support = 0.002 Confidence = 0.714 Lift = 1.504\n",
      "42: {'Cake', 'Sandwich', 'Tea'} -> {'Coffee'}Support = 0.001 Confidence = 0.714 Lift = 1.504\n",
      "43: {'Juice', 'Spanish Brunch'} -> {'Coffee'}Support = 0.002 Confidence = 0.731 Lift = 1.538\n",
      "44: {'Cookies', 'NONE'} -> {'Coffee'}Support = 0.002 Confidence = 0.741 Lift = 1.559\n",
      "45: {'NONE', 'Toast'} -> {'Coffee'}Support = 0.003 Confidence = 0.750 Lift = 1.579\n",
      "46: {'NONE', 'Extra Salami or Feta'} -> {'Coffee'}Support = 0.001 Confidence = 0.765 Lift = 1.610\n",
      "47: {'Salad', 'Cake'} -> {'Coffee'}Support = 0.001 Confidence = 0.769 Lift = 1.619\n",
      "48: {'Juice', 'Pastry'} -> {'Coffee'}Support = 0.002 Confidence = 0.773 Lift = 1.627\n",
      "49: {'Cookies', 'Scone'} -> {'Coffee'}Support = 0.002 Confidence = 0.789 Lift = 1.662\n",
      "50: {'Keeping It Local'} -> {'Coffee'}Support = 0.005 Confidence = 0.810 Lift = 1.704\n",
      "51: {'Extra Salami or Feta'} -> {'Coffee'}Support = 0.003 Confidence = 0.816 Lift = 1.717\n",
      "52: {'Salad', 'Sandwich'} -> {'Coffee'}Support = 0.002 Confidence = 0.833 Lift = 1.754\n",
      "53: {'Vegan mincepie', 'Cake'} -> {'Coffee'}Support = 0.001 Confidence = 0.833 Lift = 1.754\n",
      "54: {'Scone', 'NONE'} -> {'Coffee'}Support = 0.002 Confidence = 0.833 Lift = 1.754\n",
      "55: {'Sandwich', 'Hearty & Seasonal'} -> {'Coffee'}Support = 0.001 Confidence = 0.857 Lift = 1.804\n",
      "56: {'Pastry', 'Toast'} -> {'Coffee'}Support = 0.001 Confidence = 0.867 Lift = 1.824\n",
      "57: {'Salad', 'Extra Salami or Feta'} -> {'Coffee'}Support = 0.001 Confidence = 0.875 Lift = 1.842\n",
      "58: {'Medialuna', 'NONE', 'Hot chocolate'} -> {'Coffee'}Support = 0.001 Confidence = 0.909 Lift = 1.914\n",
      "59: {'Tartine', 'NONE'} -> {'Coffee'}Support = 0.001 Confidence = 0.923 Lift = 1.943\n"
     ]
    },
    {
     "data": {
      "application/vnd.plotly.v1+json": {
       "data": [
        {
         "marker": {
          "color": [
           1.266839664310954,
           1.2701999817229195,
           1.2717121245583036,
           1.2779767163048965,
           1.2779767163048965,
           1.2779767163048965,
           1.2812451989552927,
           1.2863295053003534,
           1.2863295053003534,
           1.2924841919285848,
           1.3030350832912672,
           1.3064914097721458,
           1.3155642667844525,
           1.315564266784452,
           1.3182219723739157,
           1.3270039560608387,
           1.3294123116979728,
           1.3394836170896243,
           1.3394836170896243,
           1.3564929328621906,
           1.3619959467886094,
           1.3681868374558304,
           1.3681868374558304,
           1.3681868374558304,
           1.3727627131663849,
           1.3762826175591194,
           1.391376444870336,
           1.403268551236749,
           1.403268551236749,
           1.4032685512367493,
           1.403268551236749,
           1.403268551236749,
           1.4032685512367493,
           1.423904853460819,
           1.424857298178853,
           1.4351610183103116,
           1.4351610183103116,
           1.4401966710061374,
           1.4401966710061374,
           1.4433619384149419,
           1.4826988465897728,
           1.5035020191822313,
           1.5035020191822313,
           1.5381982196248982,
           1.5591872791519437,
           1.578677120141343,
           1.6096315734774476,
           1.6191560206577875,
           1.6265158207516865,
           1.661765389622466,
           1.7039689550731953,
           1.7171575692765482,
           1.7540856890459364,
           1.7540856890459364,
           1.7540856890459364,
           1.8042024230186773,
           1.824249116607774,
           1.8417899734982335,
           1.913548024413749,
           1.942987224789345
          ],
          "colorbar": {
           "title": {
            "text": "Lift"
           }
          },
          "colorscale": [
           [
            0.0,
            "rgb(243, 224, 247)"
           ],
           [
            0.16666666666666666,
            "rgb(228, 199, 241)"
           ],
           [
            0.3333333333333333,
            "rgb(209, 175, 232)"
           ],
           [
            0.5,
            "rgb(185, 152, 221)"
           ],
           [
            0.6666666666666666,
            "rgb(159, 130, 206)"
           ],
           [
            0.8333333333333334,
            "rgb(130, 109, 186)"
           ],
           [
            1.0,
            "rgb(99, 88, 159)"
           ]
          ]
         },
         "mode": "markers",
         "text": [
          "['Cake, Hot chocolate'] => ['Coffee'], Lift: 1.266839664310954",
          "['Cookies, Juice'] => ['Coffee'], Lift: 1.2701999817229195",
          "['Bakewell'] => ['Coffee'], Lift: 1.2717121245583036",
          "['Granola'] => ['Coffee'], Lift: 1.2779767163048965",
          "['Scone, Hot chocolate'] => ['Coffee'], Lift: 1.2779767163048965",
          "['Cookies, Pastry'] => ['Coffee'], Lift: 1.2779767163048965",
          "['NONE, Brownie'] => ['Coffee'], Lift: 1.2812451989552927",
          "['Medialuna, Toast'] => ['Coffee'], Lift: 1.2863295053003534",
          "['NONE, Alfajores'] => ['Coffee'], Lift: 1.2863295053003534",
          "['Cookies, Hot chocolate'] => ['Coffee'], Lift: 1.2924841919285848",
          "['Muffin, NONE'] => ['Coffee'], Lift: 1.3030350832912672",
          "['NONE, Hot chocolate'] => ['Coffee'], Lift: 1.3064914097721458",
          "['Soup, NONE'] => ['Coffee'], Lift: 1.3155642667844525",
          "['Cookies, Brownie'] => ['Coffee'], Lift: 1.315564266784452",
          "['Salad'] => ['Coffee'], Lift: 1.3182219723739157",
          "['Tartine'] => ['Coffee'], Lift: 1.3270039560608387",
          "['Scone, Juice'] => ['Coffee'], Lift: 1.3294123116979728",
          "['Pastry, NONE'] => ['Coffee'], Lift: 1.3394836170896243",
          "['Sandwich, Brownie'] => ['Coffee'], Lift: 1.3394836170896243",
          "['Hot chocolate, Medialuna'] => ['Coffee'], Lift: 1.3564929328621906",
          "['Tea, Keeping It Local'] => ['Coffee'], Lift: 1.3619959467886094",
          "['Juice, Jammie Dodgers'] => ['Coffee'], Lift: 1.3681868374558304",
          "['Sandwich, Medialuna'] => ['Coffee'], Lift: 1.3681868374558304",
          "['Muffin, Sandwich'] => ['Coffee'], Lift: 1.3681868374558304",
          "['Cookies, Alfajores'] => ['Coffee'], Lift: 1.3727627131663849",
          "['Soup, Sandwich'] => ['Coffee'], Lift: 1.3762826175591194",
          "['Juice, NONE'] => ['Coffee'], Lift: 1.391376444870336",
          "['Sandwich, Spanish Brunch'] => ['Coffee'], Lift: 1.403268551236749",
          "['Cookies, Medialuna'] => ['Coffee'], Lift: 1.403268551236749",
          "['Smoothies, Cake'] => ['Coffee'], Lift: 1.4032685512367493",
          "['NONE, Cake'] => ['Coffee'], Lift: 1.403268551236749",
          "['Pastry, Hot chocolate'] => ['Coffee'], Lift: 1.403268551236749",
          "['Pastry, Bread, Hot chocolate'] => ['Coffee'], Lift: 1.4032685512367493",
          "['NONE, Spanish Brunch'] => ['Coffee'], Lift: 1.423904853460819",
          "['Cake, Sandwich'] => ['Coffee'], Lift: 1.424857298178853",
          "['Tiffin, Cake'] => ['Coffee'], Lift: 1.4351610183103116",
          "['Juice, Toast'] => ['Coffee'], Lift: 1.4351610183103116",
          "['Art Tray'] => ['Coffee'], Lift: 1.4401966710061374",
          "['NONE, Medialuna'] => ['Coffee'], Lift: 1.4401966710061374",
          "['Cake, Medialuna'] => ['Coffee'], Lift: 1.4433619384149419",
          "['Toast'] => ['Coffee'], Lift: 1.4826988465897728",
          "['Cake, Toast'] => ['Coffee'], Lift: 1.5035020191822313",
          "['Cake, Sandwich, Tea'] => ['Coffee'], Lift: 1.5035020191822313",
          "['Juice, Spanish Brunch'] => ['Coffee'], Lift: 1.5381982196248982",
          "['Cookies, NONE'] => ['Coffee'], Lift: 1.5591872791519437",
          "['NONE, Toast'] => ['Coffee'], Lift: 1.578677120141343",
          "['NONE, Extra Salami or Feta'] => ['Coffee'], Lift: 1.6096315734774476",
          "['Salad, Cake'] => ['Coffee'], Lift: 1.6191560206577875",
          "['Juice, Pastry'] => ['Coffee'], Lift: 1.6265158207516865",
          "['Cookies, Scone'] => ['Coffee'], Lift: 1.661765389622466",
          "['Keeping It Local'] => ['Coffee'], Lift: 1.7039689550731953",
          "['Extra Salami or Feta'] => ['Coffee'], Lift: 1.7171575692765482",
          "['Salad, Sandwich'] => ['Coffee'], Lift: 1.7540856890459364",
          "['Vegan mincepie, Cake'] => ['Coffee'], Lift: 1.7540856890459364",
          "['Scone, NONE'] => ['Coffee'], Lift: 1.7540856890459364",
          "['Sandwich, Hearty & Seasonal'] => ['Coffee'], Lift: 1.8042024230186773",
          "['Pastry, Toast'] => ['Coffee'], Lift: 1.824249116607774",
          "['Salad, Extra Salami or Feta'] => ['Coffee'], Lift: 1.8417899734982335",
          "['Medialuna, NONE, Hot chocolate'] => ['Coffee'], Lift: 1.913548024413749",
          "['Tartine, NONE'] => ['Coffee'], Lift: 1.942987224789345"
         ],
         "x": [
          0.006819851012485573,
          0.0036722274682614627,
          0.0030427027594166402,
          0.0017836533417269962,
          0.0017836533417269962,
          0.0017836533417269962,
          0.0014688909873045851,
          0.001154128632882174,
          0.001154128632882174,
          0.0036722274682614627,
          0.0013639702024971147,
          0.003777148253068933,
          0.0010492078480747037,
          0.0015738117721120553,
          0.006505088658063162,
          0.0030427027594166402,
          0.0012590494176896443,
          0.0029377819746091703,
          0.0014688909873045851,
          0.0030427027594166402,
          0.001154128632882174,
          0.0013639702024971147,
          0.0013639702024971147,
          0.0013639702024971147,
          0.0015738117721120553,
          0.0035673066834539923,
          0.004091910607491344,
          0.0012590494176896443,
          0.0016787325569195257,
          0.0010492078480747037,
          0.0033574651138390515,
          0.003777148253068933,
          0.0010492078480747037,
          0.002413178050571818,
          0.004616514531528696,
          0.0015738117721120553,
          0.0015738117721120553,
          0.0027279404049942294,
          0.0027279404049942294,
          0.0025180988353792886,
          0.023502255796873362,
          0.0015738117721120553,
          0.0010492078480747037,
          0.001993494911341937,
          0.0020984156961494074,
          0.0028328611898017,
          0.0013639702024971147,
          0.0010492078480747037,
          0.0017836533417269962,
          0.0015738117721120553,
          0.0053509600251809885,
          0.003252544329031581,
          0.0015738117721120553,
          0.0010492078480747037,
          0.0015738117721120553,
          0.0012590494176896443,
          0.0013639702024971147,
          0.0014688909873045851,
          0.0010492078480747037,
          0.0012590494176896443
         ],
         "y": [
          0.6018518518518519,
          0.603448275862069,
          0.6041666666666666,
          0.6071428571428571,
          0.6071428571428571,
          0.6071428571428571,
          0.6086956521739131,
          0.6111111111111112,
          0.6111111111111112,
          0.6140350877192983,
          0.6190476190476191,
          0.6206896551724138,
          0.625,
          0.625,
          0.6262626262626263,
          0.6304347826086957,
          0.631578947368421,
          0.6363636363636364,
          0.6363636363636364,
          0.6444444444444445,
          0.6470588235294118,
          0.65,
          0.65,
          0.65,
          0.6521739130434783,
          0.6538461538461539,
          0.6610169491525424,
          0.6666666666666666,
          0.6666666666666666,
          0.6666666666666666,
          0.6666666666666666,
          0.6666666666666666,
          0.6666666666666666,
          0.6764705882352942,
          0.676923076923077,
          0.6818181818181818,
          0.6818181818181818,
          0.6842105263157895,
          0.6842105263157895,
          0.6857142857142857,
          0.7044025157232704,
          0.7142857142857143,
          0.7142857142857143,
          0.7307692307692307,
          0.7407407407407407,
          0.75,
          0.7647058823529411,
          0.7692307692307693,
          0.7727272727272727,
          0.7894736842105263,
          0.8095238095238095,
          0.8157894736842105,
          0.8333333333333334,
          0.8333333333333334,
          0.8333333333333334,
          0.8571428571428571,
          0.8666666666666667,
          0.875,
          0.9090909090909091,
          0.9230769230769231
         ],
         "type": "scatter"
        }
       ],
       "layout": {
        "template": {
         "data": {
          "histogram2dcontour": [
           {
            "type": "histogram2dcontour",
            "colorbar": {
             "outlinewidth": 0,
             "ticks": ""
            },
            "colorscale": [
             [
              0.0,
              "#0d0887"
             ],
             [
              0.1111111111111111,
              "#46039f"
             ],
             [
              0.2222222222222222,
              "#7201a8"
             ],
             [
              0.3333333333333333,
              "#9c179e"
             ],
             [
              0.4444444444444444,
              "#bd3786"
             ],
             [
              0.5555555555555556,
              "#d8576b"
             ],
             [
              0.6666666666666666,
              "#ed7953"
             ],
             [
              0.7777777777777778,
              "#fb9f3a"
             ],
             [
              0.8888888888888888,
              "#fdca26"
             ],
             [
              1.0,
              "#f0f921"
             ]
            ]
           }
          ],
          "choropleth": [
           {
            "type": "choropleth",
            "colorbar": {
             "outlinewidth": 0,
             "ticks": ""
            }
           }
          ],
          "histogram2d": [
           {
            "type": "histogram2d",
            "colorbar": {
             "outlinewidth": 0,
             "ticks": ""
            },
            "colorscale": [
             [
              0.0,
              "#0d0887"
             ],
             [
              0.1111111111111111,
              "#46039f"
             ],
             [
              0.2222222222222222,
              "#7201a8"
             ],
             [
              0.3333333333333333,
              "#9c179e"
             ],
             [
              0.4444444444444444,
              "#bd3786"
             ],
             [
              0.5555555555555556,
              "#d8576b"
             ],
             [
              0.6666666666666666,
              "#ed7953"
             ],
             [
              0.7777777777777778,
              "#fb9f3a"
             ],
             [
              0.8888888888888888,
              "#fdca26"
             ],
             [
              1.0,
              "#f0f921"
             ]
            ]
           }
          ],
          "heatmap": [
           {
            "type": "heatmap",
            "colorbar": {
             "outlinewidth": 0,
             "ticks": ""
            },
            "colorscale": [
             [
              0.0,
              "#0d0887"
             ],
             [
              0.1111111111111111,
              "#46039f"
             ],
             [
              0.2222222222222222,
              "#7201a8"
             ],
             [
              0.3333333333333333,
              "#9c179e"
             ],
             [
              0.4444444444444444,
              "#bd3786"
             ],
             [
              0.5555555555555556,
              "#d8576b"
             ],
             [
              0.6666666666666666,
              "#ed7953"
             ],
             [
              0.7777777777777778,
              "#fb9f3a"
             ],
             [
              0.8888888888888888,
              "#fdca26"
             ],
             [
              1.0,
              "#f0f921"
             ]
            ]
           }
          ],
          "heatmapgl": [
           {
            "type": "heatmapgl",
            "colorbar": {
             "outlinewidth": 0,
             "ticks": ""
            },
            "colorscale": [
             [
              0.0,
              "#0d0887"
             ],
             [
              0.1111111111111111,
              "#46039f"
             ],
             [
              0.2222222222222222,
              "#7201a8"
             ],
             [
              0.3333333333333333,
              "#9c179e"
             ],
             [
              0.4444444444444444,
              "#bd3786"
             ],
             [
              0.5555555555555556,
              "#d8576b"
             ],
             [
              0.6666666666666666,
              "#ed7953"
             ],
             [
              0.7777777777777778,
              "#fb9f3a"
             ],
             [
              0.8888888888888888,
              "#fdca26"
             ],
             [
              1.0,
              "#f0f921"
             ]
            ]
           }
          ],
          "contourcarpet": [
           {
            "type": "contourcarpet",
            "colorbar": {
             "outlinewidth": 0,
             "ticks": ""
            }
           }
          ],
          "contour": [
           {
            "type": "contour",
            "colorbar": {
             "outlinewidth": 0,
             "ticks": ""
            },
            "colorscale": [
             [
              0.0,
              "#0d0887"
             ],
             [
              0.1111111111111111,
              "#46039f"
             ],
             [
              0.2222222222222222,
              "#7201a8"
             ],
             [
              0.3333333333333333,
              "#9c179e"
             ],
             [
              0.4444444444444444,
              "#bd3786"
             ],
             [
              0.5555555555555556,
              "#d8576b"
             ],
             [
              0.6666666666666666,
              "#ed7953"
             ],
             [
              0.7777777777777778,
              "#fb9f3a"
             ],
             [
              0.8888888888888888,
              "#fdca26"
             ],
             [
              1.0,
              "#f0f921"
             ]
            ]
           }
          ],
          "surface": [
           {
            "type": "surface",
            "colorbar": {
             "outlinewidth": 0,
             "ticks": ""
            },
            "colorscale": [
             [
              0.0,
              "#0d0887"
             ],
             [
              0.1111111111111111,
              "#46039f"
             ],
             [
              0.2222222222222222,
              "#7201a8"
             ],
             [
              0.3333333333333333,
              "#9c179e"
             ],
             [
              0.4444444444444444,
              "#bd3786"
             ],
             [
              0.5555555555555556,
              "#d8576b"
             ],
             [
              0.6666666666666666,
              "#ed7953"
             ],
             [
              0.7777777777777778,
              "#fb9f3a"
             ],
             [
              0.8888888888888888,
              "#fdca26"
             ],
             [
              1.0,
              "#f0f921"
             ]
            ]
           }
          ],
          "mesh3d": [
           {
            "type": "mesh3d",
            "colorbar": {
             "outlinewidth": 0,
             "ticks": ""
            }
           }
          ],
          "scatter": [
           {
            "fillpattern": {
             "fillmode": "overlay",
             "size": 10,
             "solidity": 0.2
            },
            "type": "scatter"
           }
          ],
          "parcoords": [
           {
            "type": "parcoords",
            "line": {
             "colorbar": {
              "outlinewidth": 0,
              "ticks": ""
             }
            }
           }
          ],
          "scatterpolargl": [
           {
            "type": "scatterpolargl",
            "marker": {
             "colorbar": {
              "outlinewidth": 0,
              "ticks": ""
             }
            }
           }
          ],
          "bar": [
           {
            "error_x": {
             "color": "#2a3f5f"
            },
            "error_y": {
             "color": "#2a3f5f"
            },
            "marker": {
             "line": {
              "color": "#E5ECF6",
              "width": 0.5
             },
             "pattern": {
              "fillmode": "overlay",
              "size": 10,
              "solidity": 0.2
             }
            },
            "type": "bar"
           }
          ],
          "scattergeo": [
           {
            "type": "scattergeo",
            "marker": {
             "colorbar": {
              "outlinewidth": 0,
              "ticks": ""
             }
            }
           }
          ],
          "scatterpolar": [
           {
            "type": "scatterpolar",
            "marker": {
             "colorbar": {
              "outlinewidth": 0,
              "ticks": ""
             }
            }
           }
          ],
          "histogram": [
           {
            "marker": {
             "pattern": {
              "fillmode": "overlay",
              "size": 10,
              "solidity": 0.2
             }
            },
            "type": "histogram"
           }
          ],
          "scattergl": [
           {
            "type": "scattergl",
            "marker": {
             "colorbar": {
              "outlinewidth": 0,
              "ticks": ""
             }
            }
           }
          ],
          "scatter3d": [
           {
            "type": "scatter3d",
            "line": {
             "colorbar": {
              "outlinewidth": 0,
              "ticks": ""
             }
            },
            "marker": {
             "colorbar": {
              "outlinewidth": 0,
              "ticks": ""
             }
            }
           }
          ],
          "scattermapbox": [
           {
            "type": "scattermapbox",
            "marker": {
             "colorbar": {
              "outlinewidth": 0,
              "ticks": ""
             }
            }
           }
          ],
          "scatterternary": [
           {
            "type": "scatterternary",
            "marker": {
             "colorbar": {
              "outlinewidth": 0,
              "ticks": ""
             }
            }
           }
          ],
          "scattercarpet": [
           {
            "type": "scattercarpet",
            "marker": {
             "colorbar": {
              "outlinewidth": 0,
              "ticks": ""
             }
            }
           }
          ],
          "carpet": [
           {
            "aaxis": {
             "endlinecolor": "#2a3f5f",
             "gridcolor": "white",
             "linecolor": "white",
             "minorgridcolor": "white",
             "startlinecolor": "#2a3f5f"
            },
            "baxis": {
             "endlinecolor": "#2a3f5f",
             "gridcolor": "white",
             "linecolor": "white",
             "minorgridcolor": "white",
             "startlinecolor": "#2a3f5f"
            },
            "type": "carpet"
           }
          ],
          "table": [
           {
            "cells": {
             "fill": {
              "color": "#EBF0F8"
             },
             "line": {
              "color": "white"
             }
            },
            "header": {
             "fill": {
              "color": "#C8D4E3"
             },
             "line": {
              "color": "white"
             }
            },
            "type": "table"
           }
          ],
          "barpolar": [
           {
            "marker": {
             "line": {
              "color": "#E5ECF6",
              "width": 0.5
             },
             "pattern": {
              "fillmode": "overlay",
              "size": 10,
              "solidity": 0.2
             }
            },
            "type": "barpolar"
           }
          ],
          "pie": [
           {
            "automargin": true,
            "type": "pie"
           }
          ]
         },
         "layout": {
          "autotypenumbers": "strict",
          "colorway": [
           "#636efa",
           "#EF553B",
           "#00cc96",
           "#ab63fa",
           "#FFA15A",
           "#19d3f3",
           "#FF6692",
           "#B6E880",
           "#FF97FF",
           "#FECB52"
          ],
          "font": {
           "color": "#2a3f5f"
          },
          "hovermode": "closest",
          "hoverlabel": {
           "align": "left"
          },
          "paper_bgcolor": "white",
          "plot_bgcolor": "#E5ECF6",
          "polar": {
           "bgcolor": "#E5ECF6",
           "angularaxis": {
            "gridcolor": "white",
            "linecolor": "white",
            "ticks": ""
           },
           "radialaxis": {
            "gridcolor": "white",
            "linecolor": "white",
            "ticks": ""
           }
          },
          "ternary": {
           "bgcolor": "#E5ECF6",
           "aaxis": {
            "gridcolor": "white",
            "linecolor": "white",
            "ticks": ""
           },
           "baxis": {
            "gridcolor": "white",
            "linecolor": "white",
            "ticks": ""
           },
           "caxis": {
            "gridcolor": "white",
            "linecolor": "white",
            "ticks": ""
           }
          },
          "coloraxis": {
           "colorbar": {
            "outlinewidth": 0,
            "ticks": ""
           }
          },
          "colorscale": {
           "sequential": [
            [
             0.0,
             "#0d0887"
            ],
            [
             0.1111111111111111,
             "#46039f"
            ],
            [
             0.2222222222222222,
             "#7201a8"
            ],
            [
             0.3333333333333333,
             "#9c179e"
            ],
            [
             0.4444444444444444,
             "#bd3786"
            ],
            [
             0.5555555555555556,
             "#d8576b"
            ],
            [
             0.6666666666666666,
             "#ed7953"
            ],
            [
             0.7777777777777778,
             "#fb9f3a"
            ],
            [
             0.8888888888888888,
             "#fdca26"
            ],
            [
             1.0,
             "#f0f921"
            ]
           ],
           "sequentialminus": [
            [
             0.0,
             "#0d0887"
            ],
            [
             0.1111111111111111,
             "#46039f"
            ],
            [
             0.2222222222222222,
             "#7201a8"
            ],
            [
             0.3333333333333333,
             "#9c179e"
            ],
            [
             0.4444444444444444,
             "#bd3786"
            ],
            [
             0.5555555555555556,
             "#d8576b"
            ],
            [
             0.6666666666666666,
             "#ed7953"
            ],
            [
             0.7777777777777778,
             "#fb9f3a"
            ],
            [
             0.8888888888888888,
             "#fdca26"
            ],
            [
             1.0,
             "#f0f921"
            ]
           ],
           "diverging": [
            [
             0,
             "#8e0152"
            ],
            [
             0.1,
             "#c51b7d"
            ],
            [
             0.2,
             "#de77ae"
            ],
            [
             0.3,
             "#f1b6da"
            ],
            [
             0.4,
             "#fde0ef"
            ],
            [
             0.5,
             "#f7f7f7"
            ],
            [
             0.6,
             "#e6f5d0"
            ],
            [
             0.7,
             "#b8e186"
            ],
            [
             0.8,
             "#7fbc41"
            ],
            [
             0.9,
             "#4d9221"
            ],
            [
             1,
             "#276419"
            ]
           ]
          },
          "xaxis": {
           "gridcolor": "white",
           "linecolor": "white",
           "ticks": "",
           "title": {
            "standoff": 15
           },
           "zerolinecolor": "white",
           "automargin": true,
           "zerolinewidth": 2
          },
          "yaxis": {
           "gridcolor": "white",
           "linecolor": "white",
           "ticks": "",
           "title": {
            "standoff": 15
           },
           "zerolinecolor": "white",
           "automargin": true,
           "zerolinewidth": 2
          },
          "scene": {
           "xaxis": {
            "backgroundcolor": "#E5ECF6",
            "gridcolor": "white",
            "linecolor": "white",
            "showbackground": true,
            "ticks": "",
            "zerolinecolor": "white",
            "gridwidth": 2
           },
           "yaxis": {
            "backgroundcolor": "#E5ECF6",
            "gridcolor": "white",
            "linecolor": "white",
            "showbackground": true,
            "ticks": "",
            "zerolinecolor": "white",
            "gridwidth": 2
           },
           "zaxis": {
            "backgroundcolor": "#E5ECF6",
            "gridcolor": "white",
            "linecolor": "white",
            "showbackground": true,
            "ticks": "",
            "zerolinecolor": "white",
            "gridwidth": 2
           }
          },
          "shapedefaults": {
           "line": {
            "color": "#2a3f5f"
           }
          },
          "annotationdefaults": {
           "arrowcolor": "#2a3f5f",
           "arrowhead": 0,
           "arrowwidth": 1
          },
          "geo": {
           "bgcolor": "white",
           "landcolor": "#E5ECF6",
           "subunitcolor": "white",
           "showland": true,
           "showlakes": true,
           "lakecolor": "white"
          },
          "title": {
           "x": 0.05
          },
          "mapbox": {
           "style": "light"
          }
         }
        },
        "xaxis": {
         "title": {
          "text": "Support"
         },
         "autorange": "reversed"
        },
        "title": {
         "text": "Association Rules Strength Distribution"
        },
        "yaxis": {
         "title": {
          "text": "Confidence"
         }
        }
       },
       "config": {
        "plotlyServerURL": "https://plot.ly"
       }
      },
      "text/html": [
       "<div>                            <div id=\"0ccba836-b296-42b9-af97-4507def1a5fe\" class=\"plotly-graph-div\" style=\"height:525px; width:100%;\"></div>            <script type=\"text/javascript\">                require([\"plotly\"], function(Plotly) {                    window.PLOTLYENV=window.PLOTLYENV || {};                                    if (document.getElementById(\"0ccba836-b296-42b9-af97-4507def1a5fe\")) {                    Plotly.newPlot(                        \"0ccba836-b296-42b9-af97-4507def1a5fe\",                        [{\"marker\":{\"color\":[1.266839664310954,1.2701999817229195,1.2717121245583036,1.2779767163048965,1.2779767163048965,1.2779767163048965,1.2812451989552927,1.2863295053003534,1.2863295053003534,1.2924841919285848,1.3030350832912672,1.3064914097721458,1.3155642667844525,1.315564266784452,1.3182219723739157,1.3270039560608387,1.3294123116979728,1.3394836170896243,1.3394836170896243,1.3564929328621906,1.3619959467886094,1.3681868374558304,1.3681868374558304,1.3681868374558304,1.3727627131663849,1.3762826175591194,1.391376444870336,1.403268551236749,1.403268551236749,1.4032685512367493,1.403268551236749,1.403268551236749,1.4032685512367493,1.423904853460819,1.424857298178853,1.4351610183103116,1.4351610183103116,1.4401966710061374,1.4401966710061374,1.4433619384149419,1.4826988465897728,1.5035020191822313,1.5035020191822313,1.5381982196248982,1.5591872791519437,1.578677120141343,1.6096315734774476,1.6191560206577875,1.6265158207516865,1.661765389622466,1.7039689550731953,1.7171575692765482,1.7540856890459364,1.7540856890459364,1.7540856890459364,1.8042024230186773,1.824249116607774,1.8417899734982335,1.913548024413749,1.942987224789345],\"colorbar\":{\"title\":{\"text\":\"Lift\"}},\"colorscale\":[[0.0,\"rgb(243, 224, 247)\"],[0.16666666666666666,\"rgb(228, 199, 241)\"],[0.3333333333333333,\"rgb(209, 175, 232)\"],[0.5,\"rgb(185, 152, 221)\"],[0.6666666666666666,\"rgb(159, 130, 206)\"],[0.8333333333333334,\"rgb(130, 109, 186)\"],[1.0,\"rgb(99, 88, 159)\"]]},\"mode\":\"markers\",\"text\":[\"['Cake, Hot chocolate'] =\\u003e ['Coffee'], Lift: 1.266839664310954\",\"['Cookies, Juice'] =\\u003e ['Coffee'], Lift: 1.2701999817229195\",\"['Bakewell'] =\\u003e ['Coffee'], Lift: 1.2717121245583036\",\"['Granola'] =\\u003e ['Coffee'], Lift: 1.2779767163048965\",\"['Scone, Hot chocolate'] =\\u003e ['Coffee'], Lift: 1.2779767163048965\",\"['Cookies, Pastry'] =\\u003e ['Coffee'], Lift: 1.2779767163048965\",\"['NONE, Brownie'] =\\u003e ['Coffee'], Lift: 1.2812451989552927\",\"['Medialuna, Toast'] =\\u003e ['Coffee'], Lift: 1.2863295053003534\",\"['NONE, Alfajores'] =\\u003e ['Coffee'], Lift: 1.2863295053003534\",\"['Cookies, Hot chocolate'] =\\u003e ['Coffee'], Lift: 1.2924841919285848\",\"['Muffin, NONE'] =\\u003e ['Coffee'], Lift: 1.3030350832912672\",\"['NONE, Hot chocolate'] =\\u003e ['Coffee'], Lift: 1.3064914097721458\",\"['Soup, NONE'] =\\u003e ['Coffee'], Lift: 1.3155642667844525\",\"['Cookies, Brownie'] =\\u003e ['Coffee'], Lift: 1.315564266784452\",\"['Salad'] =\\u003e ['Coffee'], Lift: 1.3182219723739157\",\"['Tartine'] =\\u003e ['Coffee'], Lift: 1.3270039560608387\",\"['Scone, Juice'] =\\u003e ['Coffee'], Lift: 1.3294123116979728\",\"['Pastry, NONE'] =\\u003e ['Coffee'], Lift: 1.3394836170896243\",\"['Sandwich, Brownie'] =\\u003e ['Coffee'], Lift: 1.3394836170896243\",\"['Hot chocolate, Medialuna'] =\\u003e ['Coffee'], Lift: 1.3564929328621906\",\"['Tea, Keeping It Local'] =\\u003e ['Coffee'], Lift: 1.3619959467886094\",\"['Juice, Jammie Dodgers'] =\\u003e ['Coffee'], Lift: 1.3681868374558304\",\"['Sandwich, Medialuna'] =\\u003e ['Coffee'], Lift: 1.3681868374558304\",\"['Muffin, Sandwich'] =\\u003e ['Coffee'], Lift: 1.3681868374558304\",\"['Cookies, Alfajores'] =\\u003e ['Coffee'], Lift: 1.3727627131663849\",\"['Soup, Sandwich'] =\\u003e ['Coffee'], Lift: 1.3762826175591194\",\"['Juice, NONE'] =\\u003e ['Coffee'], Lift: 1.391376444870336\",\"['Sandwich, Spanish Brunch'] =\\u003e ['Coffee'], Lift: 1.403268551236749\",\"['Cookies, Medialuna'] =\\u003e ['Coffee'], Lift: 1.403268551236749\",\"['Smoothies, Cake'] =\\u003e ['Coffee'], Lift: 1.4032685512367493\",\"['NONE, Cake'] =\\u003e ['Coffee'], Lift: 1.403268551236749\",\"['Pastry, Hot chocolate'] =\\u003e ['Coffee'], Lift: 1.403268551236749\",\"['Pastry, Bread, Hot chocolate'] =\\u003e ['Coffee'], Lift: 1.4032685512367493\",\"['NONE, Spanish Brunch'] =\\u003e ['Coffee'], Lift: 1.423904853460819\",\"['Cake, Sandwich'] =\\u003e ['Coffee'], Lift: 1.424857298178853\",\"['Tiffin, Cake'] =\\u003e ['Coffee'], Lift: 1.4351610183103116\",\"['Juice, Toast'] =\\u003e ['Coffee'], Lift: 1.4351610183103116\",\"['Art Tray'] =\\u003e ['Coffee'], Lift: 1.4401966710061374\",\"['NONE, Medialuna'] =\\u003e ['Coffee'], Lift: 1.4401966710061374\",\"['Cake, Medialuna'] =\\u003e ['Coffee'], Lift: 1.4433619384149419\",\"['Toast'] =\\u003e ['Coffee'], Lift: 1.4826988465897728\",\"['Cake, Toast'] =\\u003e ['Coffee'], Lift: 1.5035020191822313\",\"['Cake, Sandwich, Tea'] =\\u003e ['Coffee'], Lift: 1.5035020191822313\",\"['Juice, Spanish Brunch'] =\\u003e ['Coffee'], Lift: 1.5381982196248982\",\"['Cookies, NONE'] =\\u003e ['Coffee'], Lift: 1.5591872791519437\",\"['NONE, Toast'] =\\u003e ['Coffee'], Lift: 1.578677120141343\",\"['NONE, Extra Salami or Feta'] =\\u003e ['Coffee'], Lift: 1.6096315734774476\",\"['Salad, Cake'] =\\u003e ['Coffee'], Lift: 1.6191560206577875\",\"['Juice, Pastry'] =\\u003e ['Coffee'], Lift: 1.6265158207516865\",\"['Cookies, Scone'] =\\u003e ['Coffee'], Lift: 1.661765389622466\",\"['Keeping It Local'] =\\u003e ['Coffee'], Lift: 1.7039689550731953\",\"['Extra Salami or Feta'] =\\u003e ['Coffee'], Lift: 1.7171575692765482\",\"['Salad, Sandwich'] =\\u003e ['Coffee'], Lift: 1.7540856890459364\",\"['Vegan mincepie, Cake'] =\\u003e ['Coffee'], Lift: 1.7540856890459364\",\"['Scone, NONE'] =\\u003e ['Coffee'], Lift: 1.7540856890459364\",\"['Sandwich, Hearty & Seasonal'] =\\u003e ['Coffee'], Lift: 1.8042024230186773\",\"['Pastry, Toast'] =\\u003e ['Coffee'], Lift: 1.824249116607774\",\"['Salad, Extra Salami or Feta'] =\\u003e ['Coffee'], Lift: 1.8417899734982335\",\"['Medialuna, NONE, Hot chocolate'] =\\u003e ['Coffee'], Lift: 1.913548024413749\",\"['Tartine, NONE'] =\\u003e ['Coffee'], Lift: 1.942987224789345\"],\"x\":[0.006819851012485573,0.0036722274682614627,0.0030427027594166402,0.0017836533417269962,0.0017836533417269962,0.0017836533417269962,0.0014688909873045851,0.001154128632882174,0.001154128632882174,0.0036722274682614627,0.0013639702024971147,0.003777148253068933,0.0010492078480747037,0.0015738117721120553,0.006505088658063162,0.0030427027594166402,0.0012590494176896443,0.0029377819746091703,0.0014688909873045851,0.0030427027594166402,0.001154128632882174,0.0013639702024971147,0.0013639702024971147,0.0013639702024971147,0.0015738117721120553,0.0035673066834539923,0.004091910607491344,0.0012590494176896443,0.0016787325569195257,0.0010492078480747037,0.0033574651138390515,0.003777148253068933,0.0010492078480747037,0.002413178050571818,0.004616514531528696,0.0015738117721120553,0.0015738117721120553,0.0027279404049942294,0.0027279404049942294,0.0025180988353792886,0.023502255796873362,0.0015738117721120553,0.0010492078480747037,0.001993494911341937,0.0020984156961494074,0.0028328611898017,0.0013639702024971147,0.0010492078480747037,0.0017836533417269962,0.0015738117721120553,0.0053509600251809885,0.003252544329031581,0.0015738117721120553,0.0010492078480747037,0.0015738117721120553,0.0012590494176896443,0.0013639702024971147,0.0014688909873045851,0.0010492078480747037,0.0012590494176896443],\"y\":[0.6018518518518519,0.603448275862069,0.6041666666666666,0.6071428571428571,0.6071428571428571,0.6071428571428571,0.6086956521739131,0.6111111111111112,0.6111111111111112,0.6140350877192983,0.6190476190476191,0.6206896551724138,0.625,0.625,0.6262626262626263,0.6304347826086957,0.631578947368421,0.6363636363636364,0.6363636363636364,0.6444444444444445,0.6470588235294118,0.65,0.65,0.65,0.6521739130434783,0.6538461538461539,0.6610169491525424,0.6666666666666666,0.6666666666666666,0.6666666666666666,0.6666666666666666,0.6666666666666666,0.6666666666666666,0.6764705882352942,0.676923076923077,0.6818181818181818,0.6818181818181818,0.6842105263157895,0.6842105263157895,0.6857142857142857,0.7044025157232704,0.7142857142857143,0.7142857142857143,0.7307692307692307,0.7407407407407407,0.75,0.7647058823529411,0.7692307692307693,0.7727272727272727,0.7894736842105263,0.8095238095238095,0.8157894736842105,0.8333333333333334,0.8333333333333334,0.8333333333333334,0.8571428571428571,0.8666666666666667,0.875,0.9090909090909091,0.9230769230769231],\"type\":\"scatter\"}],                        {\"template\":{\"data\":{\"histogram2dcontour\":[{\"type\":\"histogram2dcontour\",\"colorbar\":{\"outlinewidth\":0,\"ticks\":\"\"},\"colorscale\":[[0.0,\"#0d0887\"],[0.1111111111111111,\"#46039f\"],[0.2222222222222222,\"#7201a8\"],[0.3333333333333333,\"#9c179e\"],[0.4444444444444444,\"#bd3786\"],[0.5555555555555556,\"#d8576b\"],[0.6666666666666666,\"#ed7953\"],[0.7777777777777778,\"#fb9f3a\"],[0.8888888888888888,\"#fdca26\"],[1.0,\"#f0f921\"]]}],\"choropleth\":[{\"type\":\"choropleth\",\"colorbar\":{\"outlinewidth\":0,\"ticks\":\"\"}}],\"histogram2d\":[{\"type\":\"histogram2d\",\"colorbar\":{\"outlinewidth\":0,\"ticks\":\"\"},\"colorscale\":[[0.0,\"#0d0887\"],[0.1111111111111111,\"#46039f\"],[0.2222222222222222,\"#7201a8\"],[0.3333333333333333,\"#9c179e\"],[0.4444444444444444,\"#bd3786\"],[0.5555555555555556,\"#d8576b\"],[0.6666666666666666,\"#ed7953\"],[0.7777777777777778,\"#fb9f3a\"],[0.8888888888888888,\"#fdca26\"],[1.0,\"#f0f921\"]]}],\"heatmap\":[{\"type\":\"heatmap\",\"colorbar\":{\"outlinewidth\":0,\"ticks\":\"\"},\"colorscale\":[[0.0,\"#0d0887\"],[0.1111111111111111,\"#46039f\"],[0.2222222222222222,\"#7201a8\"],[0.3333333333333333,\"#9c179e\"],[0.4444444444444444,\"#bd3786\"],[0.5555555555555556,\"#d8576b\"],[0.6666666666666666,\"#ed7953\"],[0.7777777777777778,\"#fb9f3a\"],[0.8888888888888888,\"#fdca26\"],[1.0,\"#f0f921\"]]}],\"heatmapgl\":[{\"type\":\"heatmapgl\",\"colorbar\":{\"outlinewidth\":0,\"ticks\":\"\"},\"colorscale\":[[0.0,\"#0d0887\"],[0.1111111111111111,\"#46039f\"],[0.2222222222222222,\"#7201a8\"],[0.3333333333333333,\"#9c179e\"],[0.4444444444444444,\"#bd3786\"],[0.5555555555555556,\"#d8576b\"],[0.6666666666666666,\"#ed7953\"],[0.7777777777777778,\"#fb9f3a\"],[0.8888888888888888,\"#fdca26\"],[1.0,\"#f0f921\"]]}],\"contourcarpet\":[{\"type\":\"contourcarpet\",\"colorbar\":{\"outlinewidth\":0,\"ticks\":\"\"}}],\"contour\":[{\"type\":\"contour\",\"colorbar\":{\"outlinewidth\":0,\"ticks\":\"\"},\"colorscale\":[[0.0,\"#0d0887\"],[0.1111111111111111,\"#46039f\"],[0.2222222222222222,\"#7201a8\"],[0.3333333333333333,\"#9c179e\"],[0.4444444444444444,\"#bd3786\"],[0.5555555555555556,\"#d8576b\"],[0.6666666666666666,\"#ed7953\"],[0.7777777777777778,\"#fb9f3a\"],[0.8888888888888888,\"#fdca26\"],[1.0,\"#f0f921\"]]}],\"surface\":[{\"type\":\"surface\",\"colorbar\":{\"outlinewidth\":0,\"ticks\":\"\"},\"colorscale\":[[0.0,\"#0d0887\"],[0.1111111111111111,\"#46039f\"],[0.2222222222222222,\"#7201a8\"],[0.3333333333333333,\"#9c179e\"],[0.4444444444444444,\"#bd3786\"],[0.5555555555555556,\"#d8576b\"],[0.6666666666666666,\"#ed7953\"],[0.7777777777777778,\"#fb9f3a\"],[0.8888888888888888,\"#fdca26\"],[1.0,\"#f0f921\"]]}],\"mesh3d\":[{\"type\":\"mesh3d\",\"colorbar\":{\"outlinewidth\":0,\"ticks\":\"\"}}],\"scatter\":[{\"fillpattern\":{\"fillmode\":\"overlay\",\"size\":10,\"solidity\":0.2},\"type\":\"scatter\"}],\"parcoords\":[{\"type\":\"parcoords\",\"line\":{\"colorbar\":{\"outlinewidth\":0,\"ticks\":\"\"}}}],\"scatterpolargl\":[{\"type\":\"scatterpolargl\",\"marker\":{\"colorbar\":{\"outlinewidth\":0,\"ticks\":\"\"}}}],\"bar\":[{\"error_x\":{\"color\":\"#2a3f5f\"},\"error_y\":{\"color\":\"#2a3f5f\"},\"marker\":{\"line\":{\"color\":\"#E5ECF6\",\"width\":0.5},\"pattern\":{\"fillmode\":\"overlay\",\"size\":10,\"solidity\":0.2}},\"type\":\"bar\"}],\"scattergeo\":[{\"type\":\"scattergeo\",\"marker\":{\"colorbar\":{\"outlinewidth\":0,\"ticks\":\"\"}}}],\"scatterpolar\":[{\"type\":\"scatterpolar\",\"marker\":{\"colorbar\":{\"outlinewidth\":0,\"ticks\":\"\"}}}],\"histogram\":[{\"marker\":{\"pattern\":{\"fillmode\":\"overlay\",\"size\":10,\"solidity\":0.2}},\"type\":\"histogram\"}],\"scattergl\":[{\"type\":\"scattergl\",\"marker\":{\"colorbar\":{\"outlinewidth\":0,\"ticks\":\"\"}}}],\"scatter3d\":[{\"type\":\"scatter3d\",\"line\":{\"colorbar\":{\"outlinewidth\":0,\"ticks\":\"\"}},\"marker\":{\"colorbar\":{\"outlinewidth\":0,\"ticks\":\"\"}}}],\"scattermapbox\":[{\"type\":\"scattermapbox\",\"marker\":{\"colorbar\":{\"outlinewidth\":0,\"ticks\":\"\"}}}],\"scatterternary\":[{\"type\":\"scatterternary\",\"marker\":{\"colorbar\":{\"outlinewidth\":0,\"ticks\":\"\"}}}],\"scattercarpet\":[{\"type\":\"scattercarpet\",\"marker\":{\"colorbar\":{\"outlinewidth\":0,\"ticks\":\"\"}}}],\"carpet\":[{\"aaxis\":{\"endlinecolor\":\"#2a3f5f\",\"gridcolor\":\"white\",\"linecolor\":\"white\",\"minorgridcolor\":\"white\",\"startlinecolor\":\"#2a3f5f\"},\"baxis\":{\"endlinecolor\":\"#2a3f5f\",\"gridcolor\":\"white\",\"linecolor\":\"white\",\"minorgridcolor\":\"white\",\"startlinecolor\":\"#2a3f5f\"},\"type\":\"carpet\"}],\"table\":[{\"cells\":{\"fill\":{\"color\":\"#EBF0F8\"},\"line\":{\"color\":\"white\"}},\"header\":{\"fill\":{\"color\":\"#C8D4E3\"},\"line\":{\"color\":\"white\"}},\"type\":\"table\"}],\"barpolar\":[{\"marker\":{\"line\":{\"color\":\"#E5ECF6\",\"width\":0.5},\"pattern\":{\"fillmode\":\"overlay\",\"size\":10,\"solidity\":0.2}},\"type\":\"barpolar\"}],\"pie\":[{\"automargin\":true,\"type\":\"pie\"}]},\"layout\":{\"autotypenumbers\":\"strict\",\"colorway\":[\"#636efa\",\"#EF553B\",\"#00cc96\",\"#ab63fa\",\"#FFA15A\",\"#19d3f3\",\"#FF6692\",\"#B6E880\",\"#FF97FF\",\"#FECB52\"],\"font\":{\"color\":\"#2a3f5f\"},\"hovermode\":\"closest\",\"hoverlabel\":{\"align\":\"left\"},\"paper_bgcolor\":\"white\",\"plot_bgcolor\":\"#E5ECF6\",\"polar\":{\"bgcolor\":\"#E5ECF6\",\"angularaxis\":{\"gridcolor\":\"white\",\"linecolor\":\"white\",\"ticks\":\"\"},\"radialaxis\":{\"gridcolor\":\"white\",\"linecolor\":\"white\",\"ticks\":\"\"}},\"ternary\":{\"bgcolor\":\"#E5ECF6\",\"aaxis\":{\"gridcolor\":\"white\",\"linecolor\":\"white\",\"ticks\":\"\"},\"baxis\":{\"gridcolor\":\"white\",\"linecolor\":\"white\",\"ticks\":\"\"},\"caxis\":{\"gridcolor\":\"white\",\"linecolor\":\"white\",\"ticks\":\"\"}},\"coloraxis\":{\"colorbar\":{\"outlinewidth\":0,\"ticks\":\"\"}},\"colorscale\":{\"sequential\":[[0.0,\"#0d0887\"],[0.1111111111111111,\"#46039f\"],[0.2222222222222222,\"#7201a8\"],[0.3333333333333333,\"#9c179e\"],[0.4444444444444444,\"#bd3786\"],[0.5555555555555556,\"#d8576b\"],[0.6666666666666666,\"#ed7953\"],[0.7777777777777778,\"#fb9f3a\"],[0.8888888888888888,\"#fdca26\"],[1.0,\"#f0f921\"]],\"sequentialminus\":[[0.0,\"#0d0887\"],[0.1111111111111111,\"#46039f\"],[0.2222222222222222,\"#7201a8\"],[0.3333333333333333,\"#9c179e\"],[0.4444444444444444,\"#bd3786\"],[0.5555555555555556,\"#d8576b\"],[0.6666666666666666,\"#ed7953\"],[0.7777777777777778,\"#fb9f3a\"],[0.8888888888888888,\"#fdca26\"],[1.0,\"#f0f921\"]],\"diverging\":[[0,\"#8e0152\"],[0.1,\"#c51b7d\"],[0.2,\"#de77ae\"],[0.3,\"#f1b6da\"],[0.4,\"#fde0ef\"],[0.5,\"#f7f7f7\"],[0.6,\"#e6f5d0\"],[0.7,\"#b8e186\"],[0.8,\"#7fbc41\"],[0.9,\"#4d9221\"],[1,\"#276419\"]]},\"xaxis\":{\"gridcolor\":\"white\",\"linecolor\":\"white\",\"ticks\":\"\",\"title\":{\"standoff\":15},\"zerolinecolor\":\"white\",\"automargin\":true,\"zerolinewidth\":2},\"yaxis\":{\"gridcolor\":\"white\",\"linecolor\":\"white\",\"ticks\":\"\",\"title\":{\"standoff\":15},\"zerolinecolor\":\"white\",\"automargin\":true,\"zerolinewidth\":2},\"scene\":{\"xaxis\":{\"backgroundcolor\":\"#E5ECF6\",\"gridcolor\":\"white\",\"linecolor\":\"white\",\"showbackground\":true,\"ticks\":\"\",\"zerolinecolor\":\"white\",\"gridwidth\":2},\"yaxis\":{\"backgroundcolor\":\"#E5ECF6\",\"gridcolor\":\"white\",\"linecolor\":\"white\",\"showbackground\":true,\"ticks\":\"\",\"zerolinecolor\":\"white\",\"gridwidth\":2},\"zaxis\":{\"backgroundcolor\":\"#E5ECF6\",\"gridcolor\":\"white\",\"linecolor\":\"white\",\"showbackground\":true,\"ticks\":\"\",\"zerolinecolor\":\"white\",\"gridwidth\":2}},\"shapedefaults\":{\"line\":{\"color\":\"#2a3f5f\"}},\"annotationdefaults\":{\"arrowcolor\":\"#2a3f5f\",\"arrowhead\":0,\"arrowwidth\":1},\"geo\":{\"bgcolor\":\"white\",\"landcolor\":\"#E5ECF6\",\"subunitcolor\":\"white\",\"showland\":true,\"showlakes\":true,\"lakecolor\":\"white\"},\"title\":{\"x\":0.05},\"mapbox\":{\"style\":\"light\"}}},\"xaxis\":{\"title\":{\"text\":\"Support\"},\"autorange\":\"reversed\"},\"title\":{\"text\":\"Association Rules Strength Distribution\"},\"yaxis\":{\"title\":{\"text\":\"Confidence\"}}},                        {\"responsive\": true}                    ).then(function(){\n",
       "                            \n",
       "var gd = document.getElementById('0ccba836-b296-42b9-af97-4507def1a5fe');\n",
       "var x = new MutationObserver(function (mutations, observer) {{\n",
       "        var display = window.getComputedStyle(gd).display;\n",
       "        if (!display || display === 'none') {{\n",
       "            console.log([gd, 'removed!']);\n",
       "            Plotly.purge(gd);\n",
       "            observer.disconnect();\n",
       "        }}\n",
       "}});\n",
       "\n",
       "// Listen for the removal of the full notebook cells\n",
       "var notebookContainer = gd.closest('#notebook-container');\n",
       "if (notebookContainer) {{\n",
       "    x.observe(notebookContainer, {childList: true});\n",
       "}}\n",
       "\n",
       "// Listen for the clearing of the current output cell\n",
       "var outputEl = gd.closest('.output');\n",
       "if (outputEl) {{\n",
       "    x.observe(outputEl, {childList: true});\n",
       "}}\n",
       "\n",
       "                        })                };                });            </script>        </div>"
      ]
     },
     "metadata": {},
     "output_type": "display_data",
     "jetTransient": {
      "display_id": null
     }
    },
    {
     "data": {
      "application/vnd.plotly.v1+json": {
       "data": [
        {
         "hoverinfo": "none",
         "line": {
          "color": "#888",
          "width": 0.5
         },
         "mode": "lines",
         "x": [
          -0.2663336562353378,
          0.603259010780471,
          null,
          -0.8163293495621982,
          -0.2663336562353378,
          null,
          -0.050902926078448665,
          0.603259010780471,
          null,
          -0.5003693015696846,
          -0.050902926078448665,
          null,
          -0.13838550190461205,
          0.603259010780471,
          null,
          -0.715533589026618,
          -0.13838550190461205,
          null,
          0.5554811399146236,
          0.603259010780471,
          null,
          -0.1532994646216833,
          0.5554811399146236,
          null,
          0.4727856765692937,
          0.603259010780471,
          null,
          -0.12472144205739226,
          0.4727856765692937,
          null,
          0.10222703882497557,
          0.603259010780471,
          null,
          0.060159542294524394,
          0.10222703882497557,
          null,
          0.43998412902271666,
          0.603259010780471,
          null,
          -0.05119763917017419,
          0.43998412902271666,
          null,
          0.28883718840240313,
          0.603259010780471,
          null,
          0.09671839715280478,
          0.28883718840240313,
          null,
          -0.1825250258971044,
          0.603259010780471,
          null,
          -0.6501122988212298,
          -0.1825250258971044,
          null,
          0.6957892038247083,
          0.603259010780471,
          null,
          0.5394804563056067,
          0.6957892038247083,
          null,
          -0.1715112260115234,
          0.603259010780471,
          null,
          -0.7488371365344615,
          -0.1715112260115234,
          null,
          -0.01362108818793744,
          0.603259010780471,
          null,
          -0.4414637260667181,
          -0.01362108818793744,
          null,
          0.016939804769105525,
          0.603259010780471,
          null,
          -0.5154093126441474,
          0.016939804769105525,
          null,
          0.26660339688619966,
          0.603259010780471,
          null,
          -0.2040916493289248,
          0.26660339688619966,
          null,
          -0.1204850862951475,
          0.603259010780471,
          null,
          -0.6174189378230457,
          -0.1204850862951475,
          null,
          0.1871334937712224,
          0.603259010780471,
          null,
          0.12345078972983292,
          0.1871334937712224,
          null,
          0.3177836160806395,
          0.603259010780471,
          null,
          0.13053708874443948,
          0.3177836160806395,
          null,
          0.3587862898270382,
          0.603259010780471,
          null,
          0.4121684758853263,
          0.3587862898270382,
          null,
          0.38080531287733704,
          0.603259010780471,
          null,
          -0.31698755348462626,
          0.38080531287733704,
          null,
          0.05872220928313551,
          0.603259010780471,
          null,
          -0.3848308425695155,
          0.05872220928313551,
          null,
          0.6508473264553176,
          0.603259010780471,
          null,
          0.692875601381004,
          0.6508473264553176,
          null,
          0.37891749723099405,
          0.603259010780471,
          null,
          -0.6027908892820303,
          0.37891749723099405,
          null,
          0.06573447060408569,
          0.603259010780471,
          null,
          -0.051728681193287974,
          0.06573447060408569,
          null,
          0.8316649812042554,
          0.603259010780471,
          null,
          0.2961616176058431,
          0.8316649812042554,
          null,
          -0.060502900529739854,
          0.603259010780471,
          null,
          -0.7152618335912093,
          -0.060502900529739854,
          null,
          -0.31899657663856573,
          0.603259010780471,
          null,
          -0.7883223228689107,
          -0.31899657663856573,
          null,
          0.5858312407595235,
          0.603259010780471,
          null,
          0.8850670137889606,
          0.5858312407595235,
          null,
          -0.23488502226015526,
          0.603259010780471,
          null,
          -0.7260921462369451,
          -0.23488502226015526,
          null,
          0.7590960425550508,
          0.603259010780471,
          null,
          1.0,
          0.7590960425550508,
          null,
          0.1198215247892937,
          0.603259010780471,
          null,
          -0.37393948707563684,
          0.1198215247892937,
          null,
          0.5812381434271129,
          0.603259010780471,
          null,
          -0.18207646957609225,
          0.5812381434271129,
          null,
          0.14683447189715954,
          0.603259010780471,
          null,
          0.26721063575211473,
          0.14683447189715954,
          null,
          0.22626624587155586,
          0.603259010780471,
          null,
          -0.24885237322889436,
          0.22626624587155586,
          null,
          0.2683686494425924,
          0.603259010780471,
          null,
          0.5884880636888156,
          0.2683686494425924,
          null,
          -0.14880124240654788,
          0.603259010780471,
          null,
          -0.5233555360632319,
          -0.14880124240654788,
          null,
          -0.25666656937129034,
          0.603259010780471,
          null,
          -0.5458985346315969,
          -0.25666656937129034,
          null,
          -0.07554298840070242,
          0.603259010780471,
          null,
          -0.43997477492293274,
          -0.07554298840070242,
          null,
          0.27672266379359745,
          0.603259010780471,
          null,
          -0.1498067771009434,
          0.27672266379359745,
          null,
          -0.029669765943543192,
          0.603259010780471,
          null,
          -0.7238757665316907,
          -0.029669765943543192,
          null,
          -0.1941138465174218,
          0.603259010780471,
          null,
          -0.60209850205943,
          -0.1941138465174218,
          null,
          0.22630485689328128,
          0.603259010780471,
          null,
          0.1632579867208295,
          0.22630485689328128,
          null,
          0.0434861946042732,
          0.603259010780471,
          null,
          -0.35697662918722484,
          0.0434861946042732,
          null,
          -0.3990882206360067,
          0.603259010780471,
          null,
          -0.8425177401022087,
          -0.3990882206360067,
          null,
          0.3064745356124295,
          0.603259010780471,
          null,
          -0.4480823619354931,
          0.3064745356124295,
          null,
          0.7166257428577545,
          0.603259010780471,
          null,
          0.5717868165717787,
          0.7166257428577545,
          null,
          0.6876688934737473,
          0.603259010780471,
          null,
          0.294032464845711,
          0.6876688934737473,
          null,
          0.2424927871906237,
          0.603259010780471,
          null,
          -0.3868787843721019,
          0.2424927871906237,
          null,
          -0.06388136146008447,
          0.603259010780471,
          null,
          -0.6525923223433596,
          -0.06388136146008447,
          null,
          0.1731628608638632,
          0.603259010780471,
          null,
          0.029817143574555578,
          0.1731628608638632,
          null,
          0.18419990975605655,
          0.603259010780471,
          null,
          -0.24564618087233042,
          0.18419990975605655,
          null,
          -0.09739833276154455,
          0.603259010780471,
          null,
          -0.6657246183602937,
          -0.09739833276154455,
          null,
          0.15514614558682052,
          0.603259010780471,
          null,
          0.29869479269442895,
          0.15514614558682052,
          null,
          0.2890988102597875,
          0.603259010780471,
          null,
          0.3346616922221553,
          0.2890988102597875,
          null,
          -0.008445913614288102,
          0.603259010780471,
          null,
          -0.6475139173629547,
          -0.008445913614288102,
          null,
          0.09223865407718035,
          0.603259010780471,
          null,
          -0.3882633822079918,
          0.09223865407718035,
          null,
          0.05686866829001152,
          0.603259010780471,
          null,
          -0.24318377592590643,
          0.05686866829001152,
          null,
          0.11365681230736017,
          0.603259010780471,
          null,
          -0.5091789567742221,
          0.11365681230736017,
          null,
          -0.04815564142836321,
          0.603259010780471,
          null,
          -0.14114814926340355,
          -0.04815564142836321,
          null,
          0.4843276323092913,
          0.603259010780471,
          null,
          -0.44681788894900776,
          0.4843276323092913,
          null,
          0.8507386492931753,
          0.603259010780471,
          null,
          0.7255734366793449,
          0.8507386492931753,
          null
         ],
         "y": [
          0.017001465599318977,
          -0.21222910445305296,
          null,
          0.09049536247113699,
          0.017001465599318977,
          null,
          0.06400007475875202,
          -0.21222910445305296,
          null,
          0.16695689783589807,
          0.06400007475875202,
          null,
          -0.08789951615630036,
          -0.21222910445305296,
          null,
          -0.03653212397491748,
          -0.08789951615630036,
          null,
          -0.4845531070610596,
          -0.21222910445305296,
          null,
          -0.4452070530036862,
          -0.4845531070610596,
          null,
          -0.48363471599709806,
          -0.21222910445305296,
          null,
          -0.5150092751188841,
          -0.48363471599709806,
          null,
          0.1812691548929952,
          -0.21222910445305296,
          null,
          0.6250838485658263,
          0.1812691548929952,
          null,
          -0.2548756173162472,
          -0.21222910445305296,
          null,
          -0.44607055324035455,
          -0.2548756173162472,
          null,
          0.12057474214379235,
          -0.21222910445305296,
          null,
          0.5653791297579805,
          0.12057474214379235,
          null,
          0.05335877007508698,
          -0.21222910445305296,
          null,
          0.27755748214211534,
          0.05335877007508698,
          null,
          0.08794409134801745,
          -0.21222910445305296,
          null,
          0.5174652897194189,
          0.08794409134801745,
          null,
          -0.017598289993260338,
          -0.21222910445305296,
          null,
          0.1431626037478755,
          -0.017598289993260338,
          null,
          -0.06608052183490086,
          -0.21222910445305296,
          null,
          -0.15849573639709177,
          -0.06608052183490086,
          null,
          -0.004102877550646882,
          -0.21222910445305296,
          null,
          0.24148337750872387,
          -0.004102877550646882,
          null,
          -0.49948388054812826,
          -0.21222910445305296,
          null,
          -0.7206960115495175,
          -0.49948388054812826,
          null,
          0.17858568003307082,
          -0.21222910445305296,
          null,
          0.45330434550310333,
          0.17858568003307082,
          null,
          0.22399846132576703,
          -0.21222910445305296,
          null,
          0.6988478611855204,
          0.22399846132576703,
          null,
          -0.5485086455806344,
          -0.21222910445305296,
          null,
          -0.8961501637285828,
          -0.5485086455806344,
          null,
          0.16365649542613384,
          -0.21222910445305296,
          null,
          0.5945591202616498,
          0.16365649542613384,
          null,
          -0.36332592777261,
          -0.21222910445305296,
          null,
          -0.29815109625337566,
          -0.36332592777261,
          null,
          -0.20087818253486764,
          -0.21222910445305296,
          null,
          -0.39695556831857204,
          -0.20087818253486764,
          null,
          -0.05684813665189551,
          -0.21222910445305296,
          null,
          0.2922581142377933,
          -0.05684813665189551,
          null,
          -0.49332139349080056,
          -0.21222910445305296,
          null,
          -0.20703758240903805,
          -0.49332139349080056,
          null,
          0.010159211518331117,
          -0.21222910445305296,
          null,
          0.4261134773232937,
          0.010159211518331117,
          null,
          -0.18236892556621734,
          -0.21222910445305296,
          null,
          0.2944927036884718,
          -0.18236892556621734,
          null,
          -0.21020438128536087,
          -0.21222910445305296,
          null,
          -0.14079107476685082,
          -0.21020438128536087,
          null,
          0.1401334822532468,
          -0.21222910445305296,
          null,
          0.4136292407789871,
          0.1401334822532468,
          null,
          0.08849312925200356,
          -0.21222910445305296,
          null,
          0.3052537658996197,
          0.08849312925200356,
          null,
          0.0775998905934537,
          -0.21222910445305296,
          null,
          0.24963436013603466,
          0.0775998905934537,
          null,
          0.0678000472586804,
          -0.21222910445305296,
          null,
          0.31229898881057494,
          0.0678000472586804,
          null,
          0.03493807346401966,
          -0.21222910445305296,
          null,
          0.36993476096806377,
          0.03493807346401966,
          null,
          -0.5534866449658352,
          -0.21222910445305296,
          null,
          -0.540709260611172,
          -0.5534866449658352,
          null,
          -0.2422540288483314,
          -0.21222910445305296,
          null,
          -0.018010358470430938,
          -0.2422540288483314,
          null,
          -0.04609540433074264,
          -0.21222910445305296,
          null,
          0.4008183193400086,
          -0.04609540433074264,
          null,
          -0.2847088591569087,
          -0.21222910445305296,
          null,
          -0.45127787551282306,
          -0.2847088591569087,
          null,
          0.11525811486195973,
          -0.21222910445305296,
          null,
          0.4172272567331325,
          0.11525811486195973,
          null,
          0.20065763488517774,
          -0.21222910445305296,
          null,
          0.5785939012195689,
          0.20065763488517774,
          null,
          0.23042358325793064,
          -0.21222910445305296,
          null,
          0.63843589625341,
          0.23042358325793064,
          null,
          0.1996004993509347,
          -0.21222910445305296,
          null,
          0.6697333902247001,
          0.1996004993509347,
          null,
          -0.28794515598770554,
          -0.21222910445305296,
          null,
          -0.29617771151581357,
          -0.28794515598770554,
          null,
          0.1542727477630317,
          -0.21222910445305296,
          null,
          0.5062592389344408,
          0.1542727477630317,
          null,
          0.12184330041727326,
          -0.21222910445305296,
          null,
          0.5529314287724801,
          0.12184330041727326,
          null,
          -0.28011359991922613,
          -0.21222910445305296,
          null,
          -0.5730016279782775,
          -0.28011359991922613,
          null,
          0.21773630877969535,
          -0.21222910445305296,
          null,
          0.3972048313921891,
          0.21773630877969535,
          null,
          -0.3896990219969793,
          -0.21222910445305296,
          null,
          -0.281334446410255,
          -0.3896990219969793,
          null,
          -0.0035087285450705746,
          -0.21222910445305296,
          null,
          0.39770834553766116,
          -0.0035087285450705746,
          null,
          -0.41139855804933506,
          -0.21222910445305296,
          null,
          -0.16736918193412792,
          -0.41139855804933506,
          null,
          -0.43168889965456253,
          -0.21222910445305296,
          null,
          -0.5103098003255625,
          -0.43168889965456253,
          null,
          -0.05469345969796658,
          -0.21222910445305296,
          null,
          0.10219158722805012,
          -0.05469345969796658,
          null,
          -0.1236467429879287,
          -0.21222910445305296,
          null,
          0.30447433062956486,
          -0.1236467429879287,
          null,
          0.051501711670983774,
          -0.21222910445305296,
          null,
          0.36997160749591135,
          0.051501711670983774,
          null,
          -0.15177155408601353,
          -0.21222910445305296,
          null,
          -0.18564195061094946,
          -0.15177155408601353,
          null,
          0.14158641837228075,
          -0.21222910445305296,
          null,
          0.5303160356166228,
          0.14158641837228075,
          null,
          -0.2055535117305277,
          -0.21222910445305296,
          null,
          0.22770657796942467,
          -0.2055535117305277,
          null,
          -0.14612033473563033,
          -0.21222910445305296,
          null,
          -7.90722733205276E-4,
          -0.14612033473563033,
          null,
          -0.11039806909389151,
          -0.21222910445305296,
          null,
          -0.10080648578274475,
          -0.11039806909389151,
          null,
          0.10792106295005136,
          -0.21222910445305296,
          null,
          0.5186333736442679,
          0.10792106295005136,
          null,
          -0.3425410538925759,
          -0.21222910445305296,
          null,
          -0.4161791222926902,
          -0.3425410538925759,
          null,
          0.1732722269297064,
          -0.21222910445305296,
          null,
          0.5901638111470594,
          0.1732722269297064,
          null,
          -0.5809837027950515,
          -0.21222910445305296,
          null,
          -0.3609947366608969,
          -0.5809837027950515,
          null,
          -0.34634485012704985,
          -0.21222910445305296,
          null,
          -0.14130211786817132,
          -0.34634485012704985,
          null
         ],
         "type": "scatter"
        },
        {
         "hoverinfo": "text",
         "marker": {
          "color": [],
          "colorbar": {
           "thickness": 15,
           "title": {
            "side": "right",
            "text": "Node Connections"
           },
           "xanchor": "left"
          },
          "colorscale": [
           [
            0.0,
            "rgb(255,255,217)"
           ],
           [
            0.125,
            "rgb(237,248,177)"
           ],
           [
            0.25,
            "rgb(199,233,180)"
           ],
           [
            0.375,
            "rgb(127,205,187)"
           ],
           [
            0.5,
            "rgb(65,182,196)"
           ],
           [
            0.625,
            "rgb(29,145,192)"
           ],
           [
            0.75,
            "rgb(34,94,168)"
           ],
           [
            0.875,
            "rgb(37,52,148)"
           ],
           [
            1.0,
            "rgb(8,29,88)"
           ]
          ],
          "line": {
           "width": 2
          },
          "reversescale": true,
          "showscale": true,
          "size": 10
         },
         "mode": "markers",
         "text": [
          "0",
          "Cake, Hot chocolate",
          "Coffee",
          "1",
          "Cookies, Juice",
          "2",
          "Bakewell",
          "3",
          "Granola",
          "4",
          "Scone, Hot chocolate",
          "5",
          "Cookies, Pastry",
          "6",
          "NONE, Brownie",
          "7",
          "Medialuna, Toast",
          "8",
          "NONE, Alfajores",
          "9",
          "Cookies, Hot chocolate",
          "10",
          "Muffin, NONE",
          "11",
          "NONE, Hot chocolate",
          "12",
          "Soup, NONE",
          "13",
          "Cookies, Brownie",
          "14",
          "Salad",
          "15",
          "Tartine",
          "16",
          "Scone, Juice",
          "17",
          "Pastry, NONE",
          "18",
          "Sandwich, Brownie",
          "19",
          "Hot chocolate, Medialuna",
          "20",
          "Tea, Keeping It Local",
          "21",
          "Juice, Jammie Dodgers",
          "22",
          "Sandwich, Medialuna",
          "23",
          "Muffin, Sandwich",
          "24",
          "Cookies, Alfajores",
          "25",
          "Soup, Sandwich",
          "26",
          "Juice, NONE",
          "27",
          "Sandwich, Spanish Brunch",
          "28",
          "Cookies, Medialuna",
          "29",
          "Smoothies, Cake",
          "30",
          "NONE, Cake",
          "31",
          "Pastry, Hot chocolate",
          "32",
          "Pastry, Bread, Hot chocolate",
          "33",
          "NONE, Spanish Brunch",
          "34",
          "Cake, Sandwich",
          "35",
          "Tiffin, Cake",
          "36",
          "Juice, Toast",
          "37",
          "Art Tray",
          "38",
          "NONE, Medialuna",
          "39",
          "Cake, Medialuna",
          "40",
          "Toast",
          "41",
          "Cake, Toast",
          "42",
          "Cake, Sandwich, Tea",
          "43",
          "Juice, Spanish Brunch",
          "44",
          "Cookies, NONE",
          "45",
          "NONE, Toast",
          "46",
          "NONE, Extra Salami or Feta",
          "47",
          "Salad, Cake",
          "48",
          "Juice, Pastry",
          "49",
          "Cookies, Scone",
          "50",
          "Keeping It Local",
          "51",
          "Extra Salami or Feta",
          "52",
          "Salad, Sandwich",
          "53",
          "Vegan mincepie, Cake",
          "54",
          "Scone, NONE",
          "55",
          "Sandwich, Hearty & Seasonal",
          "56",
          "Pastry, Toast",
          "57",
          "Salad, Extra Salami or Feta",
          "58",
          "Medialuna, NONE, Hot chocolate",
          "59",
          "Tartine, NONE"
         ],
         "x": [
          -0.2663336562353378,
          -0.8163293495621982,
          0.603259010780471,
          -0.050902926078448665,
          -0.5003693015696846,
          -0.13838550190461205,
          -0.715533589026618,
          0.5554811399146236,
          -0.1532994646216833,
          0.4727856765692937,
          -0.12472144205739226,
          0.10222703882497557,
          0.060159542294524394,
          0.43998412902271666,
          -0.05119763917017419,
          0.28883718840240313,
          0.09671839715280478,
          -0.1825250258971044,
          -0.6501122988212298,
          0.6957892038247083,
          0.5394804563056067,
          -0.1715112260115234,
          -0.7488371365344615,
          -0.01362108818793744,
          -0.4414637260667181,
          0.016939804769105525,
          -0.5154093126441474,
          0.26660339688619966,
          -0.2040916493289248,
          -0.1204850862951475,
          -0.6174189378230457,
          0.1871334937712224,
          0.12345078972983292,
          0.3177836160806395,
          0.13053708874443948,
          0.3587862898270382,
          0.4121684758853263,
          0.38080531287733704,
          -0.31698755348462626,
          0.05872220928313551,
          -0.3848308425695155,
          0.6508473264553176,
          0.692875601381004,
          0.37891749723099405,
          -0.6027908892820303,
          0.06573447060408569,
          -0.051728681193287974,
          0.8316649812042554,
          0.2961616176058431,
          -0.060502900529739854,
          -0.7152618335912093,
          -0.31899657663856573,
          -0.7883223228689107,
          0.5858312407595235,
          0.8850670137889606,
          -0.23488502226015526,
          -0.7260921462369451,
          0.7590960425550508,
          1.0,
          0.1198215247892937,
          -0.37393948707563684,
          0.5812381434271129,
          -0.18207646957609225,
          0.14683447189715954,
          0.26721063575211473,
          0.22626624587155586,
          -0.24885237322889436,
          0.2683686494425924,
          0.5884880636888156,
          -0.14880124240654788,
          -0.5233555360632319,
          -0.25666656937129034,
          -0.5458985346315969,
          -0.07554298840070242,
          -0.43997477492293274,
          0.27672266379359745,
          -0.1498067771009434,
          -0.029669765943543192,
          -0.7238757665316907,
          -0.1941138465174218,
          -0.60209850205943,
          0.22630485689328128,
          0.1632579867208295,
          0.0434861946042732,
          -0.35697662918722484,
          -0.3990882206360067,
          -0.8425177401022087,
          0.3064745356124295,
          -0.4480823619354931,
          0.7166257428577545,
          0.5717868165717787,
          0.6876688934737473,
          0.294032464845711,
          0.2424927871906237,
          -0.3868787843721019,
          -0.06388136146008447,
          -0.6525923223433596,
          0.1731628608638632,
          0.029817143574555578,
          0.18419990975605655,
          -0.24564618087233042,
          -0.09739833276154455,
          -0.6657246183602937,
          0.15514614558682052,
          0.29869479269442895,
          0.2890988102597875,
          0.3346616922221553,
          -0.008445913614288102,
          -0.6475139173629547,
          0.09223865407718035,
          -0.3882633822079918,
          0.05686866829001152,
          -0.24318377592590643,
          0.11365681230736017,
          -0.5091789567742221,
          -0.04815564142836321,
          -0.14114814926340355,
          0.4843276323092913,
          -0.44681788894900776,
          0.8507386492931753,
          0.7255734366793449
         ],
         "y": [
          0.017001465599318977,
          0.09049536247113699,
          -0.21222910445305296,
          0.06400007475875202,
          0.16695689783589807,
          -0.08789951615630036,
          -0.03653212397491748,
          -0.4845531070610596,
          -0.4452070530036862,
          -0.48363471599709806,
          -0.5150092751188841,
          0.1812691548929952,
          0.6250838485658263,
          -0.2548756173162472,
          -0.44607055324035455,
          0.12057474214379235,
          0.5653791297579805,
          0.05335877007508698,
          0.27755748214211534,
          0.08794409134801745,
          0.5174652897194189,
          -0.017598289993260338,
          0.1431626037478755,
          -0.06608052183490086,
          -0.15849573639709177,
          -0.004102877550646882,
          0.24148337750872387,
          -0.49948388054812826,
          -0.7206960115495175,
          0.17858568003307082,
          0.45330434550310333,
          0.22399846132576703,
          0.6988478611855204,
          -0.5485086455806344,
          -0.8961501637285828,
          0.16365649542613384,
          0.5945591202616498,
          -0.36332592777261,
          -0.29815109625337566,
          -0.20087818253486764,
          -0.39695556831857204,
          -0.05684813665189551,
          0.2922581142377933,
          -0.49332139349080056,
          -0.20703758240903805,
          0.010159211518331117,
          0.4261134773232937,
          -0.18236892556621734,
          0.2944927036884718,
          -0.21020438128536087,
          -0.14079107476685082,
          0.1401334822532468,
          0.4136292407789871,
          0.08849312925200356,
          0.3052537658996197,
          0.0775998905934537,
          0.24963436013603466,
          0.0678000472586804,
          0.31229898881057494,
          0.03493807346401966,
          0.36993476096806377,
          -0.5534866449658352,
          -0.540709260611172,
          -0.2422540288483314,
          -0.018010358470430938,
          -0.04609540433074264,
          0.4008183193400086,
          -0.2847088591569087,
          -0.45127787551282306,
          0.11525811486195973,
          0.4172272567331325,
          0.20065763488517774,
          0.5785939012195689,
          0.23042358325793064,
          0.63843589625341,
          0.1996004993509347,
          0.6697333902247001,
          -0.28794515598770554,
          -0.29617771151581357,
          0.1542727477630317,
          0.5062592389344408,
          0.12184330041727326,
          0.5529314287724801,
          -0.28011359991922613,
          -0.5730016279782775,
          0.21773630877969535,
          0.3972048313921891,
          -0.3896990219969793,
          -0.281334446410255,
          -0.0035087285450705746,
          0.39770834553766116,
          -0.41139855804933506,
          -0.16736918193412792,
          -0.43168889965456253,
          -0.5103098003255625,
          -0.05469345969796658,
          0.10219158722805012,
          -0.1236467429879287,
          0.30447433062956486,
          0.051501711670983774,
          0.36997160749591135,
          -0.15177155408601353,
          -0.18564195061094946,
          0.14158641837228075,
          0.5303160356166228,
          -0.2055535117305277,
          0.22770657796942467,
          -0.14612033473563033,
          -7.90722733205276E-4,
          -0.11039806909389151,
          -0.10080648578274475,
          0.10792106295005136,
          0.5186333736442679,
          -0.3425410538925759,
          -0.4161791222926902,
          0.1732722269297064,
          0.5901638111470594,
          -0.5809837027950515,
          -0.3609947366608969,
          -0.34634485012704985,
          -0.14130211786817132
         ],
         "type": "scatter"
        }
       ],
       "layout": {
        "annotations": [
         {
          "showarrow": false,
          "text": "Python code: <a href='https://plotly.com/ipython-notebooks/network-graphs/'> https://plotly.com/ipython-notebooks/network-graphs/</a>",
          "x": 0.005,
          "xref": "paper",
          "y": -0.002,
          "yref": "paper"
         }
        ],
        "hovermode": "closest",
        "margin": {
         "b": 20,
         "l": 5,
         "r": 5,
         "t": 40
        },
        "showlegend": false,
        "title": {
         "font": {
          "size": 16
         },
         "text": "<br>Network graph made with Python"
        },
        "xaxis": {
         "showgrid": false,
         "showticklabels": false,
         "zeroline": false
        },
        "yaxis": {
         "showgrid": false,
         "showticklabels": false,
         "zeroline": false
        },
        "template": {
         "data": {
          "histogram2dcontour": [
           {
            "type": "histogram2dcontour",
            "colorbar": {
             "outlinewidth": 0,
             "ticks": ""
            },
            "colorscale": [
             [
              0.0,
              "#0d0887"
             ],
             [
              0.1111111111111111,
              "#46039f"
             ],
             [
              0.2222222222222222,
              "#7201a8"
             ],
             [
              0.3333333333333333,
              "#9c179e"
             ],
             [
              0.4444444444444444,
              "#bd3786"
             ],
             [
              0.5555555555555556,
              "#d8576b"
             ],
             [
              0.6666666666666666,
              "#ed7953"
             ],
             [
              0.7777777777777778,
              "#fb9f3a"
             ],
             [
              0.8888888888888888,
              "#fdca26"
             ],
             [
              1.0,
              "#f0f921"
             ]
            ]
           }
          ],
          "choropleth": [
           {
            "type": "choropleth",
            "colorbar": {
             "outlinewidth": 0,
             "ticks": ""
            }
           }
          ],
          "histogram2d": [
           {
            "type": "histogram2d",
            "colorbar": {
             "outlinewidth": 0,
             "ticks": ""
            },
            "colorscale": [
             [
              0.0,
              "#0d0887"
             ],
             [
              0.1111111111111111,
              "#46039f"
             ],
             [
              0.2222222222222222,
              "#7201a8"
             ],
             [
              0.3333333333333333,
              "#9c179e"
             ],
             [
              0.4444444444444444,
              "#bd3786"
             ],
             [
              0.5555555555555556,
              "#d8576b"
             ],
             [
              0.6666666666666666,
              "#ed7953"
             ],
             [
              0.7777777777777778,
              "#fb9f3a"
             ],
             [
              0.8888888888888888,
              "#fdca26"
             ],
             [
              1.0,
              "#f0f921"
             ]
            ]
           }
          ],
          "heatmap": [
           {
            "type": "heatmap",
            "colorbar": {
             "outlinewidth": 0,
             "ticks": ""
            },
            "colorscale": [
             [
              0.0,
              "#0d0887"
             ],
             [
              0.1111111111111111,
              "#46039f"
             ],
             [
              0.2222222222222222,
              "#7201a8"
             ],
             [
              0.3333333333333333,
              "#9c179e"
             ],
             [
              0.4444444444444444,
              "#bd3786"
             ],
             [
              0.5555555555555556,
              "#d8576b"
             ],
             [
              0.6666666666666666,
              "#ed7953"
             ],
             [
              0.7777777777777778,
              "#fb9f3a"
             ],
             [
              0.8888888888888888,
              "#fdca26"
             ],
             [
              1.0,
              "#f0f921"
             ]
            ]
           }
          ],
          "heatmapgl": [
           {
            "type": "heatmapgl",
            "colorbar": {
             "outlinewidth": 0,
             "ticks": ""
            },
            "colorscale": [
             [
              0.0,
              "#0d0887"
             ],
             [
              0.1111111111111111,
              "#46039f"
             ],
             [
              0.2222222222222222,
              "#7201a8"
             ],
             [
              0.3333333333333333,
              "#9c179e"
             ],
             [
              0.4444444444444444,
              "#bd3786"
             ],
             [
              0.5555555555555556,
              "#d8576b"
             ],
             [
              0.6666666666666666,
              "#ed7953"
             ],
             [
              0.7777777777777778,
              "#fb9f3a"
             ],
             [
              0.8888888888888888,
              "#fdca26"
             ],
             [
              1.0,
              "#f0f921"
             ]
            ]
           }
          ],
          "contourcarpet": [
           {
            "type": "contourcarpet",
            "colorbar": {
             "outlinewidth": 0,
             "ticks": ""
            }
           }
          ],
          "contour": [
           {
            "type": "contour",
            "colorbar": {
             "outlinewidth": 0,
             "ticks": ""
            },
            "colorscale": [
             [
              0.0,
              "#0d0887"
             ],
             [
              0.1111111111111111,
              "#46039f"
             ],
             [
              0.2222222222222222,
              "#7201a8"
             ],
             [
              0.3333333333333333,
              "#9c179e"
             ],
             [
              0.4444444444444444,
              "#bd3786"
             ],
             [
              0.5555555555555556,
              "#d8576b"
             ],
             [
              0.6666666666666666,
              "#ed7953"
             ],
             [
              0.7777777777777778,
              "#fb9f3a"
             ],
             [
              0.8888888888888888,
              "#fdca26"
             ],
             [
              1.0,
              "#f0f921"
             ]
            ]
           }
          ],
          "surface": [
           {
            "type": "surface",
            "colorbar": {
             "outlinewidth": 0,
             "ticks": ""
            },
            "colorscale": [
             [
              0.0,
              "#0d0887"
             ],
             [
              0.1111111111111111,
              "#46039f"
             ],
             [
              0.2222222222222222,
              "#7201a8"
             ],
             [
              0.3333333333333333,
              "#9c179e"
             ],
             [
              0.4444444444444444,
              "#bd3786"
             ],
             [
              0.5555555555555556,
              "#d8576b"
             ],
             [
              0.6666666666666666,
              "#ed7953"
             ],
             [
              0.7777777777777778,
              "#fb9f3a"
             ],
             [
              0.8888888888888888,
              "#fdca26"
             ],
             [
              1.0,
              "#f0f921"
             ]
            ]
           }
          ],
          "mesh3d": [
           {
            "type": "mesh3d",
            "colorbar": {
             "outlinewidth": 0,
             "ticks": ""
            }
           }
          ],
          "scatter": [
           {
            "fillpattern": {
             "fillmode": "overlay",
             "size": 10,
             "solidity": 0.2
            },
            "type": "scatter"
           }
          ],
          "parcoords": [
           {
            "type": "parcoords",
            "line": {
             "colorbar": {
              "outlinewidth": 0,
              "ticks": ""
             }
            }
           }
          ],
          "scatterpolargl": [
           {
            "type": "scatterpolargl",
            "marker": {
             "colorbar": {
              "outlinewidth": 0,
              "ticks": ""
             }
            }
           }
          ],
          "bar": [
           {
            "error_x": {
             "color": "#2a3f5f"
            },
            "error_y": {
             "color": "#2a3f5f"
            },
            "marker": {
             "line": {
              "color": "#E5ECF6",
              "width": 0.5
             },
             "pattern": {
              "fillmode": "overlay",
              "size": 10,
              "solidity": 0.2
             }
            },
            "type": "bar"
           }
          ],
          "scattergeo": [
           {
            "type": "scattergeo",
            "marker": {
             "colorbar": {
              "outlinewidth": 0,
              "ticks": ""
             }
            }
           }
          ],
          "scatterpolar": [
           {
            "type": "scatterpolar",
            "marker": {
             "colorbar": {
              "outlinewidth": 0,
              "ticks": ""
             }
            }
           }
          ],
          "histogram": [
           {
            "marker": {
             "pattern": {
              "fillmode": "overlay",
              "size": 10,
              "solidity": 0.2
             }
            },
            "type": "histogram"
           }
          ],
          "scattergl": [
           {
            "type": "scattergl",
            "marker": {
             "colorbar": {
              "outlinewidth": 0,
              "ticks": ""
             }
            }
           }
          ],
          "scatter3d": [
           {
            "type": "scatter3d",
            "line": {
             "colorbar": {
              "outlinewidth": 0,
              "ticks": ""
             }
            },
            "marker": {
             "colorbar": {
              "outlinewidth": 0,
              "ticks": ""
             }
            }
           }
          ],
          "scattermapbox": [
           {
            "type": "scattermapbox",
            "marker": {
             "colorbar": {
              "outlinewidth": 0,
              "ticks": ""
             }
            }
           }
          ],
          "scatterternary": [
           {
            "type": "scatterternary",
            "marker": {
             "colorbar": {
              "outlinewidth": 0,
              "ticks": ""
             }
            }
           }
          ],
          "scattercarpet": [
           {
            "type": "scattercarpet",
            "marker": {
             "colorbar": {
              "outlinewidth": 0,
              "ticks": ""
             }
            }
           }
          ],
          "carpet": [
           {
            "aaxis": {
             "endlinecolor": "#2a3f5f",
             "gridcolor": "white",
             "linecolor": "white",
             "minorgridcolor": "white",
             "startlinecolor": "#2a3f5f"
            },
            "baxis": {
             "endlinecolor": "#2a3f5f",
             "gridcolor": "white",
             "linecolor": "white",
             "minorgridcolor": "white",
             "startlinecolor": "#2a3f5f"
            },
            "type": "carpet"
           }
          ],
          "table": [
           {
            "cells": {
             "fill": {
              "color": "#EBF0F8"
             },
             "line": {
              "color": "white"
             }
            },
            "header": {
             "fill": {
              "color": "#C8D4E3"
             },
             "line": {
              "color": "white"
             }
            },
            "type": "table"
           }
          ],
          "barpolar": [
           {
            "marker": {
             "line": {
              "color": "#E5ECF6",
              "width": 0.5
             },
             "pattern": {
              "fillmode": "overlay",
              "size": 10,
              "solidity": 0.2
             }
            },
            "type": "barpolar"
           }
          ],
          "pie": [
           {
            "automargin": true,
            "type": "pie"
           }
          ]
         },
         "layout": {
          "autotypenumbers": "strict",
          "colorway": [
           "#636efa",
           "#EF553B",
           "#00cc96",
           "#ab63fa",
           "#FFA15A",
           "#19d3f3",
           "#FF6692",
           "#B6E880",
           "#FF97FF",
           "#FECB52"
          ],
          "font": {
           "color": "#2a3f5f"
          },
          "hovermode": "closest",
          "hoverlabel": {
           "align": "left"
          },
          "paper_bgcolor": "white",
          "plot_bgcolor": "#E5ECF6",
          "polar": {
           "bgcolor": "#E5ECF6",
           "angularaxis": {
            "gridcolor": "white",
            "linecolor": "white",
            "ticks": ""
           },
           "radialaxis": {
            "gridcolor": "white",
            "linecolor": "white",
            "ticks": ""
           }
          },
          "ternary": {
           "bgcolor": "#E5ECF6",
           "aaxis": {
            "gridcolor": "white",
            "linecolor": "white",
            "ticks": ""
           },
           "baxis": {
            "gridcolor": "white",
            "linecolor": "white",
            "ticks": ""
           },
           "caxis": {
            "gridcolor": "white",
            "linecolor": "white",
            "ticks": ""
           }
          },
          "coloraxis": {
           "colorbar": {
            "outlinewidth": 0,
            "ticks": ""
           }
          },
          "colorscale": {
           "sequential": [
            [
             0.0,
             "#0d0887"
            ],
            [
             0.1111111111111111,
             "#46039f"
            ],
            [
             0.2222222222222222,
             "#7201a8"
            ],
            [
             0.3333333333333333,
             "#9c179e"
            ],
            [
             0.4444444444444444,
             "#bd3786"
            ],
            [
             0.5555555555555556,
             "#d8576b"
            ],
            [
             0.6666666666666666,
             "#ed7953"
            ],
            [
             0.7777777777777778,
             "#fb9f3a"
            ],
            [
             0.8888888888888888,
             "#fdca26"
            ],
            [
             1.0,
             "#f0f921"
            ]
           ],
           "sequentialminus": [
            [
             0.0,
             "#0d0887"
            ],
            [
             0.1111111111111111,
             "#46039f"
            ],
            [
             0.2222222222222222,
             "#7201a8"
            ],
            [
             0.3333333333333333,
             "#9c179e"
            ],
            [
             0.4444444444444444,
             "#bd3786"
            ],
            [
             0.5555555555555556,
             "#d8576b"
            ],
            [
             0.6666666666666666,
             "#ed7953"
            ],
            [
             0.7777777777777778,
             "#fb9f3a"
            ],
            [
             0.8888888888888888,
             "#fdca26"
            ],
            [
             1.0,
             "#f0f921"
            ]
           ],
           "diverging": [
            [
             0,
             "#8e0152"
            ],
            [
             0.1,
             "#c51b7d"
            ],
            [
             0.2,
             "#de77ae"
            ],
            [
             0.3,
             "#f1b6da"
            ],
            [
             0.4,
             "#fde0ef"
            ],
            [
             0.5,
             "#f7f7f7"
            ],
            [
             0.6,
             "#e6f5d0"
            ],
            [
             0.7,
             "#b8e186"
            ],
            [
             0.8,
             "#7fbc41"
            ],
            [
             0.9,
             "#4d9221"
            ],
            [
             1,
             "#276419"
            ]
           ]
          },
          "xaxis": {
           "gridcolor": "white",
           "linecolor": "white",
           "ticks": "",
           "title": {
            "standoff": 15
           },
           "zerolinecolor": "white",
           "automargin": true,
           "zerolinewidth": 2
          },
          "yaxis": {
           "gridcolor": "white",
           "linecolor": "white",
           "ticks": "",
           "title": {
            "standoff": 15
           },
           "zerolinecolor": "white",
           "automargin": true,
           "zerolinewidth": 2
          },
          "scene": {
           "xaxis": {
            "backgroundcolor": "#E5ECF6",
            "gridcolor": "white",
            "linecolor": "white",
            "showbackground": true,
            "ticks": "",
            "zerolinecolor": "white",
            "gridwidth": 2
           },
           "yaxis": {
            "backgroundcolor": "#E5ECF6",
            "gridcolor": "white",
            "linecolor": "white",
            "showbackground": true,
            "ticks": "",
            "zerolinecolor": "white",
            "gridwidth": 2
           },
           "zaxis": {
            "backgroundcolor": "#E5ECF6",
            "gridcolor": "white",
            "linecolor": "white",
            "showbackground": true,
            "ticks": "",
            "zerolinecolor": "white",
            "gridwidth": 2
           }
          },
          "shapedefaults": {
           "line": {
            "color": "#2a3f5f"
           }
          },
          "annotationdefaults": {
           "arrowcolor": "#2a3f5f",
           "arrowhead": 0,
           "arrowwidth": 1
          },
          "geo": {
           "bgcolor": "white",
           "landcolor": "#E5ECF6",
           "subunitcolor": "white",
           "showland": true,
           "showlakes": true,
           "lakecolor": "white"
          },
          "title": {
           "x": 0.05
          },
          "mapbox": {
           "style": "light"
          }
         }
        }
       },
       "config": {
        "plotlyServerURL": "https://plot.ly"
       }
      },
      "text/html": [
       "<div>                            <div id=\"548516dc-18a2-48a4-8ac8-4ba7fdf335ef\" class=\"plotly-graph-div\" style=\"height:525px; width:100%;\"></div>            <script type=\"text/javascript\">                require([\"plotly\"], function(Plotly) {                    window.PLOTLYENV=window.PLOTLYENV || {};                                    if (document.getElementById(\"548516dc-18a2-48a4-8ac8-4ba7fdf335ef\")) {                    Plotly.newPlot(                        \"548516dc-18a2-48a4-8ac8-4ba7fdf335ef\",                        [{\"hoverinfo\":\"none\",\"line\":{\"color\":\"#888\",\"width\":0.5},\"mode\":\"lines\",\"x\":[-0.2663336562353378,0.603259010780471,null,-0.8163293495621982,-0.2663336562353378,null,-0.050902926078448665,0.603259010780471,null,-0.5003693015696846,-0.050902926078448665,null,-0.13838550190461205,0.603259010780471,null,-0.715533589026618,-0.13838550190461205,null,0.5554811399146236,0.603259010780471,null,-0.1532994646216833,0.5554811399146236,null,0.4727856765692937,0.603259010780471,null,-0.12472144205739226,0.4727856765692937,null,0.10222703882497557,0.603259010780471,null,0.060159542294524394,0.10222703882497557,null,0.43998412902271666,0.603259010780471,null,-0.05119763917017419,0.43998412902271666,null,0.28883718840240313,0.603259010780471,null,0.09671839715280478,0.28883718840240313,null,-0.1825250258971044,0.603259010780471,null,-0.6501122988212298,-0.1825250258971044,null,0.6957892038247083,0.603259010780471,null,0.5394804563056067,0.6957892038247083,null,-0.1715112260115234,0.603259010780471,null,-0.7488371365344615,-0.1715112260115234,null,-0.01362108818793744,0.603259010780471,null,-0.4414637260667181,-0.01362108818793744,null,0.016939804769105525,0.603259010780471,null,-0.5154093126441474,0.016939804769105525,null,0.26660339688619966,0.603259010780471,null,-0.2040916493289248,0.26660339688619966,null,-0.1204850862951475,0.603259010780471,null,-0.6174189378230457,-0.1204850862951475,null,0.1871334937712224,0.603259010780471,null,0.12345078972983292,0.1871334937712224,null,0.3177836160806395,0.603259010780471,null,0.13053708874443948,0.3177836160806395,null,0.3587862898270382,0.603259010780471,null,0.4121684758853263,0.3587862898270382,null,0.38080531287733704,0.603259010780471,null,-0.31698755348462626,0.38080531287733704,null,0.05872220928313551,0.603259010780471,null,-0.3848308425695155,0.05872220928313551,null,0.6508473264553176,0.603259010780471,null,0.692875601381004,0.6508473264553176,null,0.37891749723099405,0.603259010780471,null,-0.6027908892820303,0.37891749723099405,null,0.06573447060408569,0.603259010780471,null,-0.051728681193287974,0.06573447060408569,null,0.8316649812042554,0.603259010780471,null,0.2961616176058431,0.8316649812042554,null,-0.060502900529739854,0.603259010780471,null,-0.7152618335912093,-0.060502900529739854,null,-0.31899657663856573,0.603259010780471,null,-0.7883223228689107,-0.31899657663856573,null,0.5858312407595235,0.603259010780471,null,0.8850670137889606,0.5858312407595235,null,-0.23488502226015526,0.603259010780471,null,-0.7260921462369451,-0.23488502226015526,null,0.7590960425550508,0.603259010780471,null,1.0,0.7590960425550508,null,0.1198215247892937,0.603259010780471,null,-0.37393948707563684,0.1198215247892937,null,0.5812381434271129,0.603259010780471,null,-0.18207646957609225,0.5812381434271129,null,0.14683447189715954,0.603259010780471,null,0.26721063575211473,0.14683447189715954,null,0.22626624587155586,0.603259010780471,null,-0.24885237322889436,0.22626624587155586,null,0.2683686494425924,0.603259010780471,null,0.5884880636888156,0.2683686494425924,null,-0.14880124240654788,0.603259010780471,null,-0.5233555360632319,-0.14880124240654788,null,-0.25666656937129034,0.603259010780471,null,-0.5458985346315969,-0.25666656937129034,null,-0.07554298840070242,0.603259010780471,null,-0.43997477492293274,-0.07554298840070242,null,0.27672266379359745,0.603259010780471,null,-0.1498067771009434,0.27672266379359745,null,-0.029669765943543192,0.603259010780471,null,-0.7238757665316907,-0.029669765943543192,null,-0.1941138465174218,0.603259010780471,null,-0.60209850205943,-0.1941138465174218,null,0.22630485689328128,0.603259010780471,null,0.1632579867208295,0.22630485689328128,null,0.0434861946042732,0.603259010780471,null,-0.35697662918722484,0.0434861946042732,null,-0.3990882206360067,0.603259010780471,null,-0.8425177401022087,-0.3990882206360067,null,0.3064745356124295,0.603259010780471,null,-0.4480823619354931,0.3064745356124295,null,0.7166257428577545,0.603259010780471,null,0.5717868165717787,0.7166257428577545,null,0.6876688934737473,0.603259010780471,null,0.294032464845711,0.6876688934737473,null,0.2424927871906237,0.603259010780471,null,-0.3868787843721019,0.2424927871906237,null,-0.06388136146008447,0.603259010780471,null,-0.6525923223433596,-0.06388136146008447,null,0.1731628608638632,0.603259010780471,null,0.029817143574555578,0.1731628608638632,null,0.18419990975605655,0.603259010780471,null,-0.24564618087233042,0.18419990975605655,null,-0.09739833276154455,0.603259010780471,null,-0.6657246183602937,-0.09739833276154455,null,0.15514614558682052,0.603259010780471,null,0.29869479269442895,0.15514614558682052,null,0.2890988102597875,0.603259010780471,null,0.3346616922221553,0.2890988102597875,null,-0.008445913614288102,0.603259010780471,null,-0.6475139173629547,-0.008445913614288102,null,0.09223865407718035,0.603259010780471,null,-0.3882633822079918,0.09223865407718035,null,0.05686866829001152,0.603259010780471,null,-0.24318377592590643,0.05686866829001152,null,0.11365681230736017,0.603259010780471,null,-0.5091789567742221,0.11365681230736017,null,-0.04815564142836321,0.603259010780471,null,-0.14114814926340355,-0.04815564142836321,null,0.4843276323092913,0.603259010780471,null,-0.44681788894900776,0.4843276323092913,null,0.8507386492931753,0.603259010780471,null,0.7255734366793449,0.8507386492931753,null],\"y\":[0.017001465599318977,-0.21222910445305296,null,0.09049536247113699,0.017001465599318977,null,0.06400007475875202,-0.21222910445305296,null,0.16695689783589807,0.06400007475875202,null,-0.08789951615630036,-0.21222910445305296,null,-0.03653212397491748,-0.08789951615630036,null,-0.4845531070610596,-0.21222910445305296,null,-0.4452070530036862,-0.4845531070610596,null,-0.48363471599709806,-0.21222910445305296,null,-0.5150092751188841,-0.48363471599709806,null,0.1812691548929952,-0.21222910445305296,null,0.6250838485658263,0.1812691548929952,null,-0.2548756173162472,-0.21222910445305296,null,-0.44607055324035455,-0.2548756173162472,null,0.12057474214379235,-0.21222910445305296,null,0.5653791297579805,0.12057474214379235,null,0.05335877007508698,-0.21222910445305296,null,0.27755748214211534,0.05335877007508698,null,0.08794409134801745,-0.21222910445305296,null,0.5174652897194189,0.08794409134801745,null,-0.017598289993260338,-0.21222910445305296,null,0.1431626037478755,-0.017598289993260338,null,-0.06608052183490086,-0.21222910445305296,null,-0.15849573639709177,-0.06608052183490086,null,-0.004102877550646882,-0.21222910445305296,null,0.24148337750872387,-0.004102877550646882,null,-0.49948388054812826,-0.21222910445305296,null,-0.7206960115495175,-0.49948388054812826,null,0.17858568003307082,-0.21222910445305296,null,0.45330434550310333,0.17858568003307082,null,0.22399846132576703,-0.21222910445305296,null,0.6988478611855204,0.22399846132576703,null,-0.5485086455806344,-0.21222910445305296,null,-0.8961501637285828,-0.5485086455806344,null,0.16365649542613384,-0.21222910445305296,null,0.5945591202616498,0.16365649542613384,null,-0.36332592777261,-0.21222910445305296,null,-0.29815109625337566,-0.36332592777261,null,-0.20087818253486764,-0.21222910445305296,null,-0.39695556831857204,-0.20087818253486764,null,-0.05684813665189551,-0.21222910445305296,null,0.2922581142377933,-0.05684813665189551,null,-0.49332139349080056,-0.21222910445305296,null,-0.20703758240903805,-0.49332139349080056,null,0.010159211518331117,-0.21222910445305296,null,0.4261134773232937,0.010159211518331117,null,-0.18236892556621734,-0.21222910445305296,null,0.2944927036884718,-0.18236892556621734,null,-0.21020438128536087,-0.21222910445305296,null,-0.14079107476685082,-0.21020438128536087,null,0.1401334822532468,-0.21222910445305296,null,0.4136292407789871,0.1401334822532468,null,0.08849312925200356,-0.21222910445305296,null,0.3052537658996197,0.08849312925200356,null,0.0775998905934537,-0.21222910445305296,null,0.24963436013603466,0.0775998905934537,null,0.0678000472586804,-0.21222910445305296,null,0.31229898881057494,0.0678000472586804,null,0.03493807346401966,-0.21222910445305296,null,0.36993476096806377,0.03493807346401966,null,-0.5534866449658352,-0.21222910445305296,null,-0.540709260611172,-0.5534866449658352,null,-0.2422540288483314,-0.21222910445305296,null,-0.018010358470430938,-0.2422540288483314,null,-0.04609540433074264,-0.21222910445305296,null,0.4008183193400086,-0.04609540433074264,null,-0.2847088591569087,-0.21222910445305296,null,-0.45127787551282306,-0.2847088591569087,null,0.11525811486195973,-0.21222910445305296,null,0.4172272567331325,0.11525811486195973,null,0.20065763488517774,-0.21222910445305296,null,0.5785939012195689,0.20065763488517774,null,0.23042358325793064,-0.21222910445305296,null,0.63843589625341,0.23042358325793064,null,0.1996004993509347,-0.21222910445305296,null,0.6697333902247001,0.1996004993509347,null,-0.28794515598770554,-0.21222910445305296,null,-0.29617771151581357,-0.28794515598770554,null,0.1542727477630317,-0.21222910445305296,null,0.5062592389344408,0.1542727477630317,null,0.12184330041727326,-0.21222910445305296,null,0.5529314287724801,0.12184330041727326,null,-0.28011359991922613,-0.21222910445305296,null,-0.5730016279782775,-0.28011359991922613,null,0.21773630877969535,-0.21222910445305296,null,0.3972048313921891,0.21773630877969535,null,-0.3896990219969793,-0.21222910445305296,null,-0.281334446410255,-0.3896990219969793,null,-0.0035087285450705746,-0.21222910445305296,null,0.39770834553766116,-0.0035087285450705746,null,-0.41139855804933506,-0.21222910445305296,null,-0.16736918193412792,-0.41139855804933506,null,-0.43168889965456253,-0.21222910445305296,null,-0.5103098003255625,-0.43168889965456253,null,-0.05469345969796658,-0.21222910445305296,null,0.10219158722805012,-0.05469345969796658,null,-0.1236467429879287,-0.21222910445305296,null,0.30447433062956486,-0.1236467429879287,null,0.051501711670983774,-0.21222910445305296,null,0.36997160749591135,0.051501711670983774,null,-0.15177155408601353,-0.21222910445305296,null,-0.18564195061094946,-0.15177155408601353,null,0.14158641837228075,-0.21222910445305296,null,0.5303160356166228,0.14158641837228075,null,-0.2055535117305277,-0.21222910445305296,null,0.22770657796942467,-0.2055535117305277,null,-0.14612033473563033,-0.21222910445305296,null,-0.000790722733205276,-0.14612033473563033,null,-0.11039806909389151,-0.21222910445305296,null,-0.10080648578274475,-0.11039806909389151,null,0.10792106295005136,-0.21222910445305296,null,0.5186333736442679,0.10792106295005136,null,-0.3425410538925759,-0.21222910445305296,null,-0.4161791222926902,-0.3425410538925759,null,0.1732722269297064,-0.21222910445305296,null,0.5901638111470594,0.1732722269297064,null,-0.5809837027950515,-0.21222910445305296,null,-0.3609947366608969,-0.5809837027950515,null,-0.34634485012704985,-0.21222910445305296,null,-0.14130211786817132,-0.34634485012704985,null],\"type\":\"scatter\"},{\"hoverinfo\":\"text\",\"marker\":{\"color\":[],\"colorbar\":{\"thickness\":15,\"title\":{\"side\":\"right\",\"text\":\"Node Connections\"},\"xanchor\":\"left\"},\"colorscale\":[[0.0,\"rgb(255,255,217)\"],[0.125,\"rgb(237,248,177)\"],[0.25,\"rgb(199,233,180)\"],[0.375,\"rgb(127,205,187)\"],[0.5,\"rgb(65,182,196)\"],[0.625,\"rgb(29,145,192)\"],[0.75,\"rgb(34,94,168)\"],[0.875,\"rgb(37,52,148)\"],[1.0,\"rgb(8,29,88)\"]],\"line\":{\"width\":2},\"reversescale\":true,\"showscale\":true,\"size\":10},\"mode\":\"markers\",\"text\":[\"0\",\"Cake, Hot chocolate\",\"Coffee\",\"1\",\"Cookies, Juice\",\"2\",\"Bakewell\",\"3\",\"Granola\",\"4\",\"Scone, Hot chocolate\",\"5\",\"Cookies, Pastry\",\"6\",\"NONE, Brownie\",\"7\",\"Medialuna, Toast\",\"8\",\"NONE, Alfajores\",\"9\",\"Cookies, Hot chocolate\",\"10\",\"Muffin, NONE\",\"11\",\"NONE, Hot chocolate\",\"12\",\"Soup, NONE\",\"13\",\"Cookies, Brownie\",\"14\",\"Salad\",\"15\",\"Tartine\",\"16\",\"Scone, Juice\",\"17\",\"Pastry, NONE\",\"18\",\"Sandwich, Brownie\",\"19\",\"Hot chocolate, Medialuna\",\"20\",\"Tea, Keeping It Local\",\"21\",\"Juice, Jammie Dodgers\",\"22\",\"Sandwich, Medialuna\",\"23\",\"Muffin, Sandwich\",\"24\",\"Cookies, Alfajores\",\"25\",\"Soup, Sandwich\",\"26\",\"Juice, NONE\",\"27\",\"Sandwich, Spanish Brunch\",\"28\",\"Cookies, Medialuna\",\"29\",\"Smoothies, Cake\",\"30\",\"NONE, Cake\",\"31\",\"Pastry, Hot chocolate\",\"32\",\"Pastry, Bread, Hot chocolate\",\"33\",\"NONE, Spanish Brunch\",\"34\",\"Cake, Sandwich\",\"35\",\"Tiffin, Cake\",\"36\",\"Juice, Toast\",\"37\",\"Art Tray\",\"38\",\"NONE, Medialuna\",\"39\",\"Cake, Medialuna\",\"40\",\"Toast\",\"41\",\"Cake, Toast\",\"42\",\"Cake, Sandwich, Tea\",\"43\",\"Juice, Spanish Brunch\",\"44\",\"Cookies, NONE\",\"45\",\"NONE, Toast\",\"46\",\"NONE, Extra Salami or Feta\",\"47\",\"Salad, Cake\",\"48\",\"Juice, Pastry\",\"49\",\"Cookies, Scone\",\"50\",\"Keeping It Local\",\"51\",\"Extra Salami or Feta\",\"52\",\"Salad, Sandwich\",\"53\",\"Vegan mincepie, Cake\",\"54\",\"Scone, NONE\",\"55\",\"Sandwich, Hearty & Seasonal\",\"56\",\"Pastry, Toast\",\"57\",\"Salad, Extra Salami or Feta\",\"58\",\"Medialuna, NONE, Hot chocolate\",\"59\",\"Tartine, NONE\"],\"x\":[-0.2663336562353378,-0.8163293495621982,0.603259010780471,-0.050902926078448665,-0.5003693015696846,-0.13838550190461205,-0.715533589026618,0.5554811399146236,-0.1532994646216833,0.4727856765692937,-0.12472144205739226,0.10222703882497557,0.060159542294524394,0.43998412902271666,-0.05119763917017419,0.28883718840240313,0.09671839715280478,-0.1825250258971044,-0.6501122988212298,0.6957892038247083,0.5394804563056067,-0.1715112260115234,-0.7488371365344615,-0.01362108818793744,-0.4414637260667181,0.016939804769105525,-0.5154093126441474,0.26660339688619966,-0.2040916493289248,-0.1204850862951475,-0.6174189378230457,0.1871334937712224,0.12345078972983292,0.3177836160806395,0.13053708874443948,0.3587862898270382,0.4121684758853263,0.38080531287733704,-0.31698755348462626,0.05872220928313551,-0.3848308425695155,0.6508473264553176,0.692875601381004,0.37891749723099405,-0.6027908892820303,0.06573447060408569,-0.051728681193287974,0.8316649812042554,0.2961616176058431,-0.060502900529739854,-0.7152618335912093,-0.31899657663856573,-0.7883223228689107,0.5858312407595235,0.8850670137889606,-0.23488502226015526,-0.7260921462369451,0.7590960425550508,1.0,0.1198215247892937,-0.37393948707563684,0.5812381434271129,-0.18207646957609225,0.14683447189715954,0.26721063575211473,0.22626624587155586,-0.24885237322889436,0.2683686494425924,0.5884880636888156,-0.14880124240654788,-0.5233555360632319,-0.25666656937129034,-0.5458985346315969,-0.07554298840070242,-0.43997477492293274,0.27672266379359745,-0.1498067771009434,-0.029669765943543192,-0.7238757665316907,-0.1941138465174218,-0.60209850205943,0.22630485689328128,0.1632579867208295,0.0434861946042732,-0.35697662918722484,-0.3990882206360067,-0.8425177401022087,0.3064745356124295,-0.4480823619354931,0.7166257428577545,0.5717868165717787,0.6876688934737473,0.294032464845711,0.2424927871906237,-0.3868787843721019,-0.06388136146008447,-0.6525923223433596,0.1731628608638632,0.029817143574555578,0.18419990975605655,-0.24564618087233042,-0.09739833276154455,-0.6657246183602937,0.15514614558682052,0.29869479269442895,0.2890988102597875,0.3346616922221553,-0.008445913614288102,-0.6475139173629547,0.09223865407718035,-0.3882633822079918,0.05686866829001152,-0.24318377592590643,0.11365681230736017,-0.5091789567742221,-0.04815564142836321,-0.14114814926340355,0.4843276323092913,-0.44681788894900776,0.8507386492931753,0.7255734366793449],\"y\":[0.017001465599318977,0.09049536247113699,-0.21222910445305296,0.06400007475875202,0.16695689783589807,-0.08789951615630036,-0.03653212397491748,-0.4845531070610596,-0.4452070530036862,-0.48363471599709806,-0.5150092751188841,0.1812691548929952,0.6250838485658263,-0.2548756173162472,-0.44607055324035455,0.12057474214379235,0.5653791297579805,0.05335877007508698,0.27755748214211534,0.08794409134801745,0.5174652897194189,-0.017598289993260338,0.1431626037478755,-0.06608052183490086,-0.15849573639709177,-0.004102877550646882,0.24148337750872387,-0.49948388054812826,-0.7206960115495175,0.17858568003307082,0.45330434550310333,0.22399846132576703,0.6988478611855204,-0.5485086455806344,-0.8961501637285828,0.16365649542613384,0.5945591202616498,-0.36332592777261,-0.29815109625337566,-0.20087818253486764,-0.39695556831857204,-0.05684813665189551,0.2922581142377933,-0.49332139349080056,-0.20703758240903805,0.010159211518331117,0.4261134773232937,-0.18236892556621734,0.2944927036884718,-0.21020438128536087,-0.14079107476685082,0.1401334822532468,0.4136292407789871,0.08849312925200356,0.3052537658996197,0.0775998905934537,0.24963436013603466,0.0678000472586804,0.31229898881057494,0.03493807346401966,0.36993476096806377,-0.5534866449658352,-0.540709260611172,-0.2422540288483314,-0.018010358470430938,-0.04609540433074264,0.4008183193400086,-0.2847088591569087,-0.45127787551282306,0.11525811486195973,0.4172272567331325,0.20065763488517774,0.5785939012195689,0.23042358325793064,0.63843589625341,0.1996004993509347,0.6697333902247001,-0.28794515598770554,-0.29617771151581357,0.1542727477630317,0.5062592389344408,0.12184330041727326,0.5529314287724801,-0.28011359991922613,-0.5730016279782775,0.21773630877969535,0.3972048313921891,-0.3896990219969793,-0.281334446410255,-0.0035087285450705746,0.39770834553766116,-0.41139855804933506,-0.16736918193412792,-0.43168889965456253,-0.5103098003255625,-0.05469345969796658,0.10219158722805012,-0.1236467429879287,0.30447433062956486,0.051501711670983774,0.36997160749591135,-0.15177155408601353,-0.18564195061094946,0.14158641837228075,0.5303160356166228,-0.2055535117305277,0.22770657796942467,-0.14612033473563033,-0.000790722733205276,-0.11039806909389151,-0.10080648578274475,0.10792106295005136,0.5186333736442679,-0.3425410538925759,-0.4161791222926902,0.1732722269297064,0.5901638111470594,-0.5809837027950515,-0.3609947366608969,-0.34634485012704985,-0.14130211786817132],\"type\":\"scatter\"}],                        {\"annotations\":[{\"showarrow\":false,\"text\":\"Python code: \\u003ca href='https:\\u002f\\u002fplotly.com\\u002fipython-notebooks\\u002fnetwork-graphs\\u002f'\\u003e https:\\u002f\\u002fplotly.com\\u002fipython-notebooks\\u002fnetwork-graphs\\u002f\\u003c\\u002fa\\u003e\",\"x\":0.005,\"xref\":\"paper\",\"y\":-0.002,\"yref\":\"paper\"}],\"hovermode\":\"closest\",\"margin\":{\"b\":20,\"l\":5,\"r\":5,\"t\":40},\"showlegend\":false,\"title\":{\"font\":{\"size\":16},\"text\":\"\\u003cbr\\u003eNetwork graph made with Python\"},\"xaxis\":{\"showgrid\":false,\"showticklabels\":false,\"zeroline\":false},\"yaxis\":{\"showgrid\":false,\"showticklabels\":false,\"zeroline\":false},\"template\":{\"data\":{\"histogram2dcontour\":[{\"type\":\"histogram2dcontour\",\"colorbar\":{\"outlinewidth\":0,\"ticks\":\"\"},\"colorscale\":[[0.0,\"#0d0887\"],[0.1111111111111111,\"#46039f\"],[0.2222222222222222,\"#7201a8\"],[0.3333333333333333,\"#9c179e\"],[0.4444444444444444,\"#bd3786\"],[0.5555555555555556,\"#d8576b\"],[0.6666666666666666,\"#ed7953\"],[0.7777777777777778,\"#fb9f3a\"],[0.8888888888888888,\"#fdca26\"],[1.0,\"#f0f921\"]]}],\"choropleth\":[{\"type\":\"choropleth\",\"colorbar\":{\"outlinewidth\":0,\"ticks\":\"\"}}],\"histogram2d\":[{\"type\":\"histogram2d\",\"colorbar\":{\"outlinewidth\":0,\"ticks\":\"\"},\"colorscale\":[[0.0,\"#0d0887\"],[0.1111111111111111,\"#46039f\"],[0.2222222222222222,\"#7201a8\"],[0.3333333333333333,\"#9c179e\"],[0.4444444444444444,\"#bd3786\"],[0.5555555555555556,\"#d8576b\"],[0.6666666666666666,\"#ed7953\"],[0.7777777777777778,\"#fb9f3a\"],[0.8888888888888888,\"#fdca26\"],[1.0,\"#f0f921\"]]}],\"heatmap\":[{\"type\":\"heatmap\",\"colorbar\":{\"outlinewidth\":0,\"ticks\":\"\"},\"colorscale\":[[0.0,\"#0d0887\"],[0.1111111111111111,\"#46039f\"],[0.2222222222222222,\"#7201a8\"],[0.3333333333333333,\"#9c179e\"],[0.4444444444444444,\"#bd3786\"],[0.5555555555555556,\"#d8576b\"],[0.6666666666666666,\"#ed7953\"],[0.7777777777777778,\"#fb9f3a\"],[0.8888888888888888,\"#fdca26\"],[1.0,\"#f0f921\"]]}],\"heatmapgl\":[{\"type\":\"heatmapgl\",\"colorbar\":{\"outlinewidth\":0,\"ticks\":\"\"},\"colorscale\":[[0.0,\"#0d0887\"],[0.1111111111111111,\"#46039f\"],[0.2222222222222222,\"#7201a8\"],[0.3333333333333333,\"#9c179e\"],[0.4444444444444444,\"#bd3786\"],[0.5555555555555556,\"#d8576b\"],[0.6666666666666666,\"#ed7953\"],[0.7777777777777778,\"#fb9f3a\"],[0.8888888888888888,\"#fdca26\"],[1.0,\"#f0f921\"]]}],\"contourcarpet\":[{\"type\":\"contourcarpet\",\"colorbar\":{\"outlinewidth\":0,\"ticks\":\"\"}}],\"contour\":[{\"type\":\"contour\",\"colorbar\":{\"outlinewidth\":0,\"ticks\":\"\"},\"colorscale\":[[0.0,\"#0d0887\"],[0.1111111111111111,\"#46039f\"],[0.2222222222222222,\"#7201a8\"],[0.3333333333333333,\"#9c179e\"],[0.4444444444444444,\"#bd3786\"],[0.5555555555555556,\"#d8576b\"],[0.6666666666666666,\"#ed7953\"],[0.7777777777777778,\"#fb9f3a\"],[0.8888888888888888,\"#fdca26\"],[1.0,\"#f0f921\"]]}],\"surface\":[{\"type\":\"surface\",\"colorbar\":{\"outlinewidth\":0,\"ticks\":\"\"},\"colorscale\":[[0.0,\"#0d0887\"],[0.1111111111111111,\"#46039f\"],[0.2222222222222222,\"#7201a8\"],[0.3333333333333333,\"#9c179e\"],[0.4444444444444444,\"#bd3786\"],[0.5555555555555556,\"#d8576b\"],[0.6666666666666666,\"#ed7953\"],[0.7777777777777778,\"#fb9f3a\"],[0.8888888888888888,\"#fdca26\"],[1.0,\"#f0f921\"]]}],\"mesh3d\":[{\"type\":\"mesh3d\",\"colorbar\":{\"outlinewidth\":0,\"ticks\":\"\"}}],\"scatter\":[{\"fillpattern\":{\"fillmode\":\"overlay\",\"size\":10,\"solidity\":0.2},\"type\":\"scatter\"}],\"parcoords\":[{\"type\":\"parcoords\",\"line\":{\"colorbar\":{\"outlinewidth\":0,\"ticks\":\"\"}}}],\"scatterpolargl\":[{\"type\":\"scatterpolargl\",\"marker\":{\"colorbar\":{\"outlinewidth\":0,\"ticks\":\"\"}}}],\"bar\":[{\"error_x\":{\"color\":\"#2a3f5f\"},\"error_y\":{\"color\":\"#2a3f5f\"},\"marker\":{\"line\":{\"color\":\"#E5ECF6\",\"width\":0.5},\"pattern\":{\"fillmode\":\"overlay\",\"size\":10,\"solidity\":0.2}},\"type\":\"bar\"}],\"scattergeo\":[{\"type\":\"scattergeo\",\"marker\":{\"colorbar\":{\"outlinewidth\":0,\"ticks\":\"\"}}}],\"scatterpolar\":[{\"type\":\"scatterpolar\",\"marker\":{\"colorbar\":{\"outlinewidth\":0,\"ticks\":\"\"}}}],\"histogram\":[{\"marker\":{\"pattern\":{\"fillmode\":\"overlay\",\"size\":10,\"solidity\":0.2}},\"type\":\"histogram\"}],\"scattergl\":[{\"type\":\"scattergl\",\"marker\":{\"colorbar\":{\"outlinewidth\":0,\"ticks\":\"\"}}}],\"scatter3d\":[{\"type\":\"scatter3d\",\"line\":{\"colorbar\":{\"outlinewidth\":0,\"ticks\":\"\"}},\"marker\":{\"colorbar\":{\"outlinewidth\":0,\"ticks\":\"\"}}}],\"scattermapbox\":[{\"type\":\"scattermapbox\",\"marker\":{\"colorbar\":{\"outlinewidth\":0,\"ticks\":\"\"}}}],\"scatterternary\":[{\"type\":\"scatterternary\",\"marker\":{\"colorbar\":{\"outlinewidth\":0,\"ticks\":\"\"}}}],\"scattercarpet\":[{\"type\":\"scattercarpet\",\"marker\":{\"colorbar\":{\"outlinewidth\":0,\"ticks\":\"\"}}}],\"carpet\":[{\"aaxis\":{\"endlinecolor\":\"#2a3f5f\",\"gridcolor\":\"white\",\"linecolor\":\"white\",\"minorgridcolor\":\"white\",\"startlinecolor\":\"#2a3f5f\"},\"baxis\":{\"endlinecolor\":\"#2a3f5f\",\"gridcolor\":\"white\",\"linecolor\":\"white\",\"minorgridcolor\":\"white\",\"startlinecolor\":\"#2a3f5f\"},\"type\":\"carpet\"}],\"table\":[{\"cells\":{\"fill\":{\"color\":\"#EBF0F8\"},\"line\":{\"color\":\"white\"}},\"header\":{\"fill\":{\"color\":\"#C8D4E3\"},\"line\":{\"color\":\"white\"}},\"type\":\"table\"}],\"barpolar\":[{\"marker\":{\"line\":{\"color\":\"#E5ECF6\",\"width\":0.5},\"pattern\":{\"fillmode\":\"overlay\",\"size\":10,\"solidity\":0.2}},\"type\":\"barpolar\"}],\"pie\":[{\"automargin\":true,\"type\":\"pie\"}]},\"layout\":{\"autotypenumbers\":\"strict\",\"colorway\":[\"#636efa\",\"#EF553B\",\"#00cc96\",\"#ab63fa\",\"#FFA15A\",\"#19d3f3\",\"#FF6692\",\"#B6E880\",\"#FF97FF\",\"#FECB52\"],\"font\":{\"color\":\"#2a3f5f\"},\"hovermode\":\"closest\",\"hoverlabel\":{\"align\":\"left\"},\"paper_bgcolor\":\"white\",\"plot_bgcolor\":\"#E5ECF6\",\"polar\":{\"bgcolor\":\"#E5ECF6\",\"angularaxis\":{\"gridcolor\":\"white\",\"linecolor\":\"white\",\"ticks\":\"\"},\"radialaxis\":{\"gridcolor\":\"white\",\"linecolor\":\"white\",\"ticks\":\"\"}},\"ternary\":{\"bgcolor\":\"#E5ECF6\",\"aaxis\":{\"gridcolor\":\"white\",\"linecolor\":\"white\",\"ticks\":\"\"},\"baxis\":{\"gridcolor\":\"white\",\"linecolor\":\"white\",\"ticks\":\"\"},\"caxis\":{\"gridcolor\":\"white\",\"linecolor\":\"white\",\"ticks\":\"\"}},\"coloraxis\":{\"colorbar\":{\"outlinewidth\":0,\"ticks\":\"\"}},\"colorscale\":{\"sequential\":[[0.0,\"#0d0887\"],[0.1111111111111111,\"#46039f\"],[0.2222222222222222,\"#7201a8\"],[0.3333333333333333,\"#9c179e\"],[0.4444444444444444,\"#bd3786\"],[0.5555555555555556,\"#d8576b\"],[0.6666666666666666,\"#ed7953\"],[0.7777777777777778,\"#fb9f3a\"],[0.8888888888888888,\"#fdca26\"],[1.0,\"#f0f921\"]],\"sequentialminus\":[[0.0,\"#0d0887\"],[0.1111111111111111,\"#46039f\"],[0.2222222222222222,\"#7201a8\"],[0.3333333333333333,\"#9c179e\"],[0.4444444444444444,\"#bd3786\"],[0.5555555555555556,\"#d8576b\"],[0.6666666666666666,\"#ed7953\"],[0.7777777777777778,\"#fb9f3a\"],[0.8888888888888888,\"#fdca26\"],[1.0,\"#f0f921\"]],\"diverging\":[[0,\"#8e0152\"],[0.1,\"#c51b7d\"],[0.2,\"#de77ae\"],[0.3,\"#f1b6da\"],[0.4,\"#fde0ef\"],[0.5,\"#f7f7f7\"],[0.6,\"#e6f5d0\"],[0.7,\"#b8e186\"],[0.8,\"#7fbc41\"],[0.9,\"#4d9221\"],[1,\"#276419\"]]},\"xaxis\":{\"gridcolor\":\"white\",\"linecolor\":\"white\",\"ticks\":\"\",\"title\":{\"standoff\":15},\"zerolinecolor\":\"white\",\"automargin\":true,\"zerolinewidth\":2},\"yaxis\":{\"gridcolor\":\"white\",\"linecolor\":\"white\",\"ticks\":\"\",\"title\":{\"standoff\":15},\"zerolinecolor\":\"white\",\"automargin\":true,\"zerolinewidth\":2},\"scene\":{\"xaxis\":{\"backgroundcolor\":\"#E5ECF6\",\"gridcolor\":\"white\",\"linecolor\":\"white\",\"showbackground\":true,\"ticks\":\"\",\"zerolinecolor\":\"white\",\"gridwidth\":2},\"yaxis\":{\"backgroundcolor\":\"#E5ECF6\",\"gridcolor\":\"white\",\"linecolor\":\"white\",\"showbackground\":true,\"ticks\":\"\",\"zerolinecolor\":\"white\",\"gridwidth\":2},\"zaxis\":{\"backgroundcolor\":\"#E5ECF6\",\"gridcolor\":\"white\",\"linecolor\":\"white\",\"showbackground\":true,\"ticks\":\"\",\"zerolinecolor\":\"white\",\"gridwidth\":2}},\"shapedefaults\":{\"line\":{\"color\":\"#2a3f5f\"}},\"annotationdefaults\":{\"arrowcolor\":\"#2a3f5f\",\"arrowhead\":0,\"arrowwidth\":1},\"geo\":{\"bgcolor\":\"white\",\"landcolor\":\"#E5ECF6\",\"subunitcolor\":\"white\",\"showland\":true,\"showlakes\":true,\"lakecolor\":\"white\"},\"title\":{\"x\":0.05},\"mapbox\":{\"style\":\"light\"}}}},                        {\"responsive\": true}                    ).then(function(){\n",
       "                            \n",
       "var gd = document.getElementById('548516dc-18a2-48a4-8ac8-4ba7fdf335ef');\n",
       "var x = new MutationObserver(function (mutations, observer) {{\n",
       "        var display = window.getComputedStyle(gd).display;\n",
       "        if (!display || display === 'none') {{\n",
       "            console.log([gd, 'removed!']);\n",
       "            Plotly.purge(gd);\n",
       "            observer.disconnect();\n",
       "        }}\n",
       "}});\n",
       "\n",
       "// Listen for the removal of the full notebook cells\n",
       "var notebookContainer = gd.closest('#notebook-container');\n",
       "if (notebookContainer) {{\n",
       "    x.observe(notebookContainer, {childList: true});\n",
       "}}\n",
       "\n",
       "// Listen for the clearing of the current output cell\n",
       "var outputEl = gd.closest('.output');\n",
       "if (outputEl) {{\n",
       "    x.observe(outputEl, {childList: true});\n",
       "}}\n",
       "\n",
       "                        })                };                });            </script>        </div>"
      ]
     },
     "metadata": {},
     "output_type": "display_data",
     "jetTransient": {
      "display_id": null
     }
    }
   ],
   "execution_count": 16
  },
  {
   "metadata": {
    "ExecuteTime": {
     "end_time": "2025-09-25T09:54:13.572063Z",
     "start_time": "2025-09-25T09:54:09.063727Z"
    }
   },
   "cell_type": "code",
   "source": [
    "freqItemSet, rules = apriori(transactions, minSup=min_sup, minConf=0.8)\n",
    "output_apriori(rules)"
   ],
   "id": "a2299e127f880a61",
   "outputs": [
    {
     "name": "stdout",
     "output_type": "stream",
     "text": [
      "0: {'Keeping It Local'} -> {'Coffee'}Support = 0.005 Confidence = 0.810 Lift = 1.704\n",
      "1: {'Extra Salami or Feta'} -> {'Coffee'}Support = 0.003 Confidence = 0.816 Lift = 1.717\n",
      "2: {'Salad', 'Sandwich'} -> {'Coffee'}Support = 0.002 Confidence = 0.833 Lift = 1.754\n",
      "3: {'Vegan mincepie', 'Cake'} -> {'Coffee'}Support = 0.001 Confidence = 0.833 Lift = 1.754\n",
      "4: {'Scone', 'NONE'} -> {'Coffee'}Support = 0.002 Confidence = 0.833 Lift = 1.754\n",
      "5: {'Sandwich', 'Hearty & Seasonal'} -> {'Coffee'}Support = 0.001 Confidence = 0.857 Lift = 1.804\n",
      "6: {'Pastry', 'Toast'} -> {'Coffee'}Support = 0.001 Confidence = 0.867 Lift = 1.824\n",
      "7: {'Salad', 'Extra Salami or Feta'} -> {'Coffee'}Support = 0.001 Confidence = 0.875 Lift = 1.842\n",
      "8: {'Medialuna', 'NONE', 'Hot chocolate'} -> {'Coffee'}Support = 0.001 Confidence = 0.909 Lift = 1.914\n",
      "9: {'Tartine', 'NONE'} -> {'Coffee'}Support = 0.001 Confidence = 0.923 Lift = 1.943\n"
     ]
    },
    {
     "data": {
      "application/vnd.plotly.v1+json": {
       "data": [
        {
         "marker": {
          "color": [
           1.7039689550731953,
           1.7171575692765482,
           1.7540856890459364,
           1.7540856890459364,
           1.7540856890459364,
           1.8042024230186773,
           1.824249116607774,
           1.8417899734982335,
           1.913548024413749,
           1.942987224789345
          ],
          "colorbar": {
           "title": {
            "text": "Lift"
           }
          },
          "colorscale": [
           [
            0.0,
            "rgb(243, 224, 247)"
           ],
           [
            0.16666666666666666,
            "rgb(228, 199, 241)"
           ],
           [
            0.3333333333333333,
            "rgb(209, 175, 232)"
           ],
           [
            0.5,
            "rgb(185, 152, 221)"
           ],
           [
            0.6666666666666666,
            "rgb(159, 130, 206)"
           ],
           [
            0.8333333333333334,
            "rgb(130, 109, 186)"
           ],
           [
            1.0,
            "rgb(99, 88, 159)"
           ]
          ]
         },
         "mode": "markers",
         "text": [
          "['Keeping It Local'] => ['Coffee'], Lift: 1.7039689550731953",
          "['Extra Salami or Feta'] => ['Coffee'], Lift: 1.7171575692765482",
          "['Salad, Sandwich'] => ['Coffee'], Lift: 1.7540856890459364",
          "['Vegan mincepie, Cake'] => ['Coffee'], Lift: 1.7540856890459364",
          "['Scone, NONE'] => ['Coffee'], Lift: 1.7540856890459364",
          "['Sandwich, Hearty & Seasonal'] => ['Coffee'], Lift: 1.8042024230186773",
          "['Pastry, Toast'] => ['Coffee'], Lift: 1.824249116607774",
          "['Salad, Extra Salami or Feta'] => ['Coffee'], Lift: 1.8417899734982335",
          "['Medialuna, NONE, Hot chocolate'] => ['Coffee'], Lift: 1.913548024413749",
          "['Tartine, NONE'] => ['Coffee'], Lift: 1.942987224789345"
         ],
         "x": [
          0.0053509600251809885,
          0.003252544329031581,
          0.0015738117721120553,
          0.0010492078480747037,
          0.0015738117721120553,
          0.0012590494176896443,
          0.0013639702024971147,
          0.0014688909873045851,
          0.0010492078480747037,
          0.0012590494176896443
         ],
         "y": [
          0.8095238095238095,
          0.8157894736842105,
          0.8333333333333334,
          0.8333333333333334,
          0.8333333333333334,
          0.8571428571428571,
          0.8666666666666667,
          0.875,
          0.9090909090909091,
          0.9230769230769231
         ],
         "type": "scatter"
        }
       ],
       "layout": {
        "template": {
         "data": {
          "histogram2dcontour": [
           {
            "type": "histogram2dcontour",
            "colorbar": {
             "outlinewidth": 0,
             "ticks": ""
            },
            "colorscale": [
             [
              0.0,
              "#0d0887"
             ],
             [
              0.1111111111111111,
              "#46039f"
             ],
             [
              0.2222222222222222,
              "#7201a8"
             ],
             [
              0.3333333333333333,
              "#9c179e"
             ],
             [
              0.4444444444444444,
              "#bd3786"
             ],
             [
              0.5555555555555556,
              "#d8576b"
             ],
             [
              0.6666666666666666,
              "#ed7953"
             ],
             [
              0.7777777777777778,
              "#fb9f3a"
             ],
             [
              0.8888888888888888,
              "#fdca26"
             ],
             [
              1.0,
              "#f0f921"
             ]
            ]
           }
          ],
          "choropleth": [
           {
            "type": "choropleth",
            "colorbar": {
             "outlinewidth": 0,
             "ticks": ""
            }
           }
          ],
          "histogram2d": [
           {
            "type": "histogram2d",
            "colorbar": {
             "outlinewidth": 0,
             "ticks": ""
            },
            "colorscale": [
             [
              0.0,
              "#0d0887"
             ],
             [
              0.1111111111111111,
              "#46039f"
             ],
             [
              0.2222222222222222,
              "#7201a8"
             ],
             [
              0.3333333333333333,
              "#9c179e"
             ],
             [
              0.4444444444444444,
              "#bd3786"
             ],
             [
              0.5555555555555556,
              "#d8576b"
             ],
             [
              0.6666666666666666,
              "#ed7953"
             ],
             [
              0.7777777777777778,
              "#fb9f3a"
             ],
             [
              0.8888888888888888,
              "#fdca26"
             ],
             [
              1.0,
              "#f0f921"
             ]
            ]
           }
          ],
          "heatmap": [
           {
            "type": "heatmap",
            "colorbar": {
             "outlinewidth": 0,
             "ticks": ""
            },
            "colorscale": [
             [
              0.0,
              "#0d0887"
             ],
             [
              0.1111111111111111,
              "#46039f"
             ],
             [
              0.2222222222222222,
              "#7201a8"
             ],
             [
              0.3333333333333333,
              "#9c179e"
             ],
             [
              0.4444444444444444,
              "#bd3786"
             ],
             [
              0.5555555555555556,
              "#d8576b"
             ],
             [
              0.6666666666666666,
              "#ed7953"
             ],
             [
              0.7777777777777778,
              "#fb9f3a"
             ],
             [
              0.8888888888888888,
              "#fdca26"
             ],
             [
              1.0,
              "#f0f921"
             ]
            ]
           }
          ],
          "heatmapgl": [
           {
            "type": "heatmapgl",
            "colorbar": {
             "outlinewidth": 0,
             "ticks": ""
            },
            "colorscale": [
             [
              0.0,
              "#0d0887"
             ],
             [
              0.1111111111111111,
              "#46039f"
             ],
             [
              0.2222222222222222,
              "#7201a8"
             ],
             [
              0.3333333333333333,
              "#9c179e"
             ],
             [
              0.4444444444444444,
              "#bd3786"
             ],
             [
              0.5555555555555556,
              "#d8576b"
             ],
             [
              0.6666666666666666,
              "#ed7953"
             ],
             [
              0.7777777777777778,
              "#fb9f3a"
             ],
             [
              0.8888888888888888,
              "#fdca26"
             ],
             [
              1.0,
              "#f0f921"
             ]
            ]
           }
          ],
          "contourcarpet": [
           {
            "type": "contourcarpet",
            "colorbar": {
             "outlinewidth": 0,
             "ticks": ""
            }
           }
          ],
          "contour": [
           {
            "type": "contour",
            "colorbar": {
             "outlinewidth": 0,
             "ticks": ""
            },
            "colorscale": [
             [
              0.0,
              "#0d0887"
             ],
             [
              0.1111111111111111,
              "#46039f"
             ],
             [
              0.2222222222222222,
              "#7201a8"
             ],
             [
              0.3333333333333333,
              "#9c179e"
             ],
             [
              0.4444444444444444,
              "#bd3786"
             ],
             [
              0.5555555555555556,
              "#d8576b"
             ],
             [
              0.6666666666666666,
              "#ed7953"
             ],
             [
              0.7777777777777778,
              "#fb9f3a"
             ],
             [
              0.8888888888888888,
              "#fdca26"
             ],
             [
              1.0,
              "#f0f921"
             ]
            ]
           }
          ],
          "surface": [
           {
            "type": "surface",
            "colorbar": {
             "outlinewidth": 0,
             "ticks": ""
            },
            "colorscale": [
             [
              0.0,
              "#0d0887"
             ],
             [
              0.1111111111111111,
              "#46039f"
             ],
             [
              0.2222222222222222,
              "#7201a8"
             ],
             [
              0.3333333333333333,
              "#9c179e"
             ],
             [
              0.4444444444444444,
              "#bd3786"
             ],
             [
              0.5555555555555556,
              "#d8576b"
             ],
             [
              0.6666666666666666,
              "#ed7953"
             ],
             [
              0.7777777777777778,
              "#fb9f3a"
             ],
             [
              0.8888888888888888,
              "#fdca26"
             ],
             [
              1.0,
              "#f0f921"
             ]
            ]
           }
          ],
          "mesh3d": [
           {
            "type": "mesh3d",
            "colorbar": {
             "outlinewidth": 0,
             "ticks": ""
            }
           }
          ],
          "scatter": [
           {
            "fillpattern": {
             "fillmode": "overlay",
             "size": 10,
             "solidity": 0.2
            },
            "type": "scatter"
           }
          ],
          "parcoords": [
           {
            "type": "parcoords",
            "line": {
             "colorbar": {
              "outlinewidth": 0,
              "ticks": ""
             }
            }
           }
          ],
          "scatterpolargl": [
           {
            "type": "scatterpolargl",
            "marker": {
             "colorbar": {
              "outlinewidth": 0,
              "ticks": ""
             }
            }
           }
          ],
          "bar": [
           {
            "error_x": {
             "color": "#2a3f5f"
            },
            "error_y": {
             "color": "#2a3f5f"
            },
            "marker": {
             "line": {
              "color": "#E5ECF6",
              "width": 0.5
             },
             "pattern": {
              "fillmode": "overlay",
              "size": 10,
              "solidity": 0.2
             }
            },
            "type": "bar"
           }
          ],
          "scattergeo": [
           {
            "type": "scattergeo",
            "marker": {
             "colorbar": {
              "outlinewidth": 0,
              "ticks": ""
             }
            }
           }
          ],
          "scatterpolar": [
           {
            "type": "scatterpolar",
            "marker": {
             "colorbar": {
              "outlinewidth": 0,
              "ticks": ""
             }
            }
           }
          ],
          "histogram": [
           {
            "marker": {
             "pattern": {
              "fillmode": "overlay",
              "size": 10,
              "solidity": 0.2
             }
            },
            "type": "histogram"
           }
          ],
          "scattergl": [
           {
            "type": "scattergl",
            "marker": {
             "colorbar": {
              "outlinewidth": 0,
              "ticks": ""
             }
            }
           }
          ],
          "scatter3d": [
           {
            "type": "scatter3d",
            "line": {
             "colorbar": {
              "outlinewidth": 0,
              "ticks": ""
             }
            },
            "marker": {
             "colorbar": {
              "outlinewidth": 0,
              "ticks": ""
             }
            }
           }
          ],
          "scattermapbox": [
           {
            "type": "scattermapbox",
            "marker": {
             "colorbar": {
              "outlinewidth": 0,
              "ticks": ""
             }
            }
           }
          ],
          "scatterternary": [
           {
            "type": "scatterternary",
            "marker": {
             "colorbar": {
              "outlinewidth": 0,
              "ticks": ""
             }
            }
           }
          ],
          "scattercarpet": [
           {
            "type": "scattercarpet",
            "marker": {
             "colorbar": {
              "outlinewidth": 0,
              "ticks": ""
             }
            }
           }
          ],
          "carpet": [
           {
            "aaxis": {
             "endlinecolor": "#2a3f5f",
             "gridcolor": "white",
             "linecolor": "white",
             "minorgridcolor": "white",
             "startlinecolor": "#2a3f5f"
            },
            "baxis": {
             "endlinecolor": "#2a3f5f",
             "gridcolor": "white",
             "linecolor": "white",
             "minorgridcolor": "white",
             "startlinecolor": "#2a3f5f"
            },
            "type": "carpet"
           }
          ],
          "table": [
           {
            "cells": {
             "fill": {
              "color": "#EBF0F8"
             },
             "line": {
              "color": "white"
             }
            },
            "header": {
             "fill": {
              "color": "#C8D4E3"
             },
             "line": {
              "color": "white"
             }
            },
            "type": "table"
           }
          ],
          "barpolar": [
           {
            "marker": {
             "line": {
              "color": "#E5ECF6",
              "width": 0.5
             },
             "pattern": {
              "fillmode": "overlay",
              "size": 10,
              "solidity": 0.2
             }
            },
            "type": "barpolar"
           }
          ],
          "pie": [
           {
            "automargin": true,
            "type": "pie"
           }
          ]
         },
         "layout": {
          "autotypenumbers": "strict",
          "colorway": [
           "#636efa",
           "#EF553B",
           "#00cc96",
           "#ab63fa",
           "#FFA15A",
           "#19d3f3",
           "#FF6692",
           "#B6E880",
           "#FF97FF",
           "#FECB52"
          ],
          "font": {
           "color": "#2a3f5f"
          },
          "hovermode": "closest",
          "hoverlabel": {
           "align": "left"
          },
          "paper_bgcolor": "white",
          "plot_bgcolor": "#E5ECF6",
          "polar": {
           "bgcolor": "#E5ECF6",
           "angularaxis": {
            "gridcolor": "white",
            "linecolor": "white",
            "ticks": ""
           },
           "radialaxis": {
            "gridcolor": "white",
            "linecolor": "white",
            "ticks": ""
           }
          },
          "ternary": {
           "bgcolor": "#E5ECF6",
           "aaxis": {
            "gridcolor": "white",
            "linecolor": "white",
            "ticks": ""
           },
           "baxis": {
            "gridcolor": "white",
            "linecolor": "white",
            "ticks": ""
           },
           "caxis": {
            "gridcolor": "white",
            "linecolor": "white",
            "ticks": ""
           }
          },
          "coloraxis": {
           "colorbar": {
            "outlinewidth": 0,
            "ticks": ""
           }
          },
          "colorscale": {
           "sequential": [
            [
             0.0,
             "#0d0887"
            ],
            [
             0.1111111111111111,
             "#46039f"
            ],
            [
             0.2222222222222222,
             "#7201a8"
            ],
            [
             0.3333333333333333,
             "#9c179e"
            ],
            [
             0.4444444444444444,
             "#bd3786"
            ],
            [
             0.5555555555555556,
             "#d8576b"
            ],
            [
             0.6666666666666666,
             "#ed7953"
            ],
            [
             0.7777777777777778,
             "#fb9f3a"
            ],
            [
             0.8888888888888888,
             "#fdca26"
            ],
            [
             1.0,
             "#f0f921"
            ]
           ],
           "sequentialminus": [
            [
             0.0,
             "#0d0887"
            ],
            [
             0.1111111111111111,
             "#46039f"
            ],
            [
             0.2222222222222222,
             "#7201a8"
            ],
            [
             0.3333333333333333,
             "#9c179e"
            ],
            [
             0.4444444444444444,
             "#bd3786"
            ],
            [
             0.5555555555555556,
             "#d8576b"
            ],
            [
             0.6666666666666666,
             "#ed7953"
            ],
            [
             0.7777777777777778,
             "#fb9f3a"
            ],
            [
             0.8888888888888888,
             "#fdca26"
            ],
            [
             1.0,
             "#f0f921"
            ]
           ],
           "diverging": [
            [
             0,
             "#8e0152"
            ],
            [
             0.1,
             "#c51b7d"
            ],
            [
             0.2,
             "#de77ae"
            ],
            [
             0.3,
             "#f1b6da"
            ],
            [
             0.4,
             "#fde0ef"
            ],
            [
             0.5,
             "#f7f7f7"
            ],
            [
             0.6,
             "#e6f5d0"
            ],
            [
             0.7,
             "#b8e186"
            ],
            [
             0.8,
             "#7fbc41"
            ],
            [
             0.9,
             "#4d9221"
            ],
            [
             1,
             "#276419"
            ]
           ]
          },
          "xaxis": {
           "gridcolor": "white",
           "linecolor": "white",
           "ticks": "",
           "title": {
            "standoff": 15
           },
           "zerolinecolor": "white",
           "automargin": true,
           "zerolinewidth": 2
          },
          "yaxis": {
           "gridcolor": "white",
           "linecolor": "white",
           "ticks": "",
           "title": {
            "standoff": 15
           },
           "zerolinecolor": "white",
           "automargin": true,
           "zerolinewidth": 2
          },
          "scene": {
           "xaxis": {
            "backgroundcolor": "#E5ECF6",
            "gridcolor": "white",
            "linecolor": "white",
            "showbackground": true,
            "ticks": "",
            "zerolinecolor": "white",
            "gridwidth": 2
           },
           "yaxis": {
            "backgroundcolor": "#E5ECF6",
            "gridcolor": "white",
            "linecolor": "white",
            "showbackground": true,
            "ticks": "",
            "zerolinecolor": "white",
            "gridwidth": 2
           },
           "zaxis": {
            "backgroundcolor": "#E5ECF6",
            "gridcolor": "white",
            "linecolor": "white",
            "showbackground": true,
            "ticks": "",
            "zerolinecolor": "white",
            "gridwidth": 2
           }
          },
          "shapedefaults": {
           "line": {
            "color": "#2a3f5f"
           }
          },
          "annotationdefaults": {
           "arrowcolor": "#2a3f5f",
           "arrowhead": 0,
           "arrowwidth": 1
          },
          "geo": {
           "bgcolor": "white",
           "landcolor": "#E5ECF6",
           "subunitcolor": "white",
           "showland": true,
           "showlakes": true,
           "lakecolor": "white"
          },
          "title": {
           "x": 0.05
          },
          "mapbox": {
           "style": "light"
          }
         }
        },
        "xaxis": {
         "title": {
          "text": "Support"
         },
         "autorange": "reversed"
        },
        "title": {
         "text": "Association Rules Strength Distribution"
        },
        "yaxis": {
         "title": {
          "text": "Confidence"
         }
        }
       },
       "config": {
        "plotlyServerURL": "https://plot.ly"
       }
      },
      "text/html": [
       "<div>                            <div id=\"9671878e-a3c8-4d73-a060-90ddfd1ddb64\" class=\"plotly-graph-div\" style=\"height:525px; width:100%;\"></div>            <script type=\"text/javascript\">                require([\"plotly\"], function(Plotly) {                    window.PLOTLYENV=window.PLOTLYENV || {};                                    if (document.getElementById(\"9671878e-a3c8-4d73-a060-90ddfd1ddb64\")) {                    Plotly.newPlot(                        \"9671878e-a3c8-4d73-a060-90ddfd1ddb64\",                        [{\"marker\":{\"color\":[1.7039689550731953,1.7171575692765482,1.7540856890459364,1.7540856890459364,1.7540856890459364,1.8042024230186773,1.824249116607774,1.8417899734982335,1.913548024413749,1.942987224789345],\"colorbar\":{\"title\":{\"text\":\"Lift\"}},\"colorscale\":[[0.0,\"rgb(243, 224, 247)\"],[0.16666666666666666,\"rgb(228, 199, 241)\"],[0.3333333333333333,\"rgb(209, 175, 232)\"],[0.5,\"rgb(185, 152, 221)\"],[0.6666666666666666,\"rgb(159, 130, 206)\"],[0.8333333333333334,\"rgb(130, 109, 186)\"],[1.0,\"rgb(99, 88, 159)\"]]},\"mode\":\"markers\",\"text\":[\"['Keeping It Local'] =\\u003e ['Coffee'], Lift: 1.7039689550731953\",\"['Extra Salami or Feta'] =\\u003e ['Coffee'], Lift: 1.7171575692765482\",\"['Salad, Sandwich'] =\\u003e ['Coffee'], Lift: 1.7540856890459364\",\"['Vegan mincepie, Cake'] =\\u003e ['Coffee'], Lift: 1.7540856890459364\",\"['Scone, NONE'] =\\u003e ['Coffee'], Lift: 1.7540856890459364\",\"['Sandwich, Hearty & Seasonal'] =\\u003e ['Coffee'], Lift: 1.8042024230186773\",\"['Pastry, Toast'] =\\u003e ['Coffee'], Lift: 1.824249116607774\",\"['Salad, Extra Salami or Feta'] =\\u003e ['Coffee'], Lift: 1.8417899734982335\",\"['Medialuna, NONE, Hot chocolate'] =\\u003e ['Coffee'], Lift: 1.913548024413749\",\"['Tartine, NONE'] =\\u003e ['Coffee'], Lift: 1.942987224789345\"],\"x\":[0.0053509600251809885,0.003252544329031581,0.0015738117721120553,0.0010492078480747037,0.0015738117721120553,0.0012590494176896443,0.0013639702024971147,0.0014688909873045851,0.0010492078480747037,0.0012590494176896443],\"y\":[0.8095238095238095,0.8157894736842105,0.8333333333333334,0.8333333333333334,0.8333333333333334,0.8571428571428571,0.8666666666666667,0.875,0.9090909090909091,0.9230769230769231],\"type\":\"scatter\"}],                        {\"template\":{\"data\":{\"histogram2dcontour\":[{\"type\":\"histogram2dcontour\",\"colorbar\":{\"outlinewidth\":0,\"ticks\":\"\"},\"colorscale\":[[0.0,\"#0d0887\"],[0.1111111111111111,\"#46039f\"],[0.2222222222222222,\"#7201a8\"],[0.3333333333333333,\"#9c179e\"],[0.4444444444444444,\"#bd3786\"],[0.5555555555555556,\"#d8576b\"],[0.6666666666666666,\"#ed7953\"],[0.7777777777777778,\"#fb9f3a\"],[0.8888888888888888,\"#fdca26\"],[1.0,\"#f0f921\"]]}],\"choropleth\":[{\"type\":\"choropleth\",\"colorbar\":{\"outlinewidth\":0,\"ticks\":\"\"}}],\"histogram2d\":[{\"type\":\"histogram2d\",\"colorbar\":{\"outlinewidth\":0,\"ticks\":\"\"},\"colorscale\":[[0.0,\"#0d0887\"],[0.1111111111111111,\"#46039f\"],[0.2222222222222222,\"#7201a8\"],[0.3333333333333333,\"#9c179e\"],[0.4444444444444444,\"#bd3786\"],[0.5555555555555556,\"#d8576b\"],[0.6666666666666666,\"#ed7953\"],[0.7777777777777778,\"#fb9f3a\"],[0.8888888888888888,\"#fdca26\"],[1.0,\"#f0f921\"]]}],\"heatmap\":[{\"type\":\"heatmap\",\"colorbar\":{\"outlinewidth\":0,\"ticks\":\"\"},\"colorscale\":[[0.0,\"#0d0887\"],[0.1111111111111111,\"#46039f\"],[0.2222222222222222,\"#7201a8\"],[0.3333333333333333,\"#9c179e\"],[0.4444444444444444,\"#bd3786\"],[0.5555555555555556,\"#d8576b\"],[0.6666666666666666,\"#ed7953\"],[0.7777777777777778,\"#fb9f3a\"],[0.8888888888888888,\"#fdca26\"],[1.0,\"#f0f921\"]]}],\"heatmapgl\":[{\"type\":\"heatmapgl\",\"colorbar\":{\"outlinewidth\":0,\"ticks\":\"\"},\"colorscale\":[[0.0,\"#0d0887\"],[0.1111111111111111,\"#46039f\"],[0.2222222222222222,\"#7201a8\"],[0.3333333333333333,\"#9c179e\"],[0.4444444444444444,\"#bd3786\"],[0.5555555555555556,\"#d8576b\"],[0.6666666666666666,\"#ed7953\"],[0.7777777777777778,\"#fb9f3a\"],[0.8888888888888888,\"#fdca26\"],[1.0,\"#f0f921\"]]}],\"contourcarpet\":[{\"type\":\"contourcarpet\",\"colorbar\":{\"outlinewidth\":0,\"ticks\":\"\"}}],\"contour\":[{\"type\":\"contour\",\"colorbar\":{\"outlinewidth\":0,\"ticks\":\"\"},\"colorscale\":[[0.0,\"#0d0887\"],[0.1111111111111111,\"#46039f\"],[0.2222222222222222,\"#7201a8\"],[0.3333333333333333,\"#9c179e\"],[0.4444444444444444,\"#bd3786\"],[0.5555555555555556,\"#d8576b\"],[0.6666666666666666,\"#ed7953\"],[0.7777777777777778,\"#fb9f3a\"],[0.8888888888888888,\"#fdca26\"],[1.0,\"#f0f921\"]]}],\"surface\":[{\"type\":\"surface\",\"colorbar\":{\"outlinewidth\":0,\"ticks\":\"\"},\"colorscale\":[[0.0,\"#0d0887\"],[0.1111111111111111,\"#46039f\"],[0.2222222222222222,\"#7201a8\"],[0.3333333333333333,\"#9c179e\"],[0.4444444444444444,\"#bd3786\"],[0.5555555555555556,\"#d8576b\"],[0.6666666666666666,\"#ed7953\"],[0.7777777777777778,\"#fb9f3a\"],[0.8888888888888888,\"#fdca26\"],[1.0,\"#f0f921\"]]}],\"mesh3d\":[{\"type\":\"mesh3d\",\"colorbar\":{\"outlinewidth\":0,\"ticks\":\"\"}}],\"scatter\":[{\"fillpattern\":{\"fillmode\":\"overlay\",\"size\":10,\"solidity\":0.2},\"type\":\"scatter\"}],\"parcoords\":[{\"type\":\"parcoords\",\"line\":{\"colorbar\":{\"outlinewidth\":0,\"ticks\":\"\"}}}],\"scatterpolargl\":[{\"type\":\"scatterpolargl\",\"marker\":{\"colorbar\":{\"outlinewidth\":0,\"ticks\":\"\"}}}],\"bar\":[{\"error_x\":{\"color\":\"#2a3f5f\"},\"error_y\":{\"color\":\"#2a3f5f\"},\"marker\":{\"line\":{\"color\":\"#E5ECF6\",\"width\":0.5},\"pattern\":{\"fillmode\":\"overlay\",\"size\":10,\"solidity\":0.2}},\"type\":\"bar\"}],\"scattergeo\":[{\"type\":\"scattergeo\",\"marker\":{\"colorbar\":{\"outlinewidth\":0,\"ticks\":\"\"}}}],\"scatterpolar\":[{\"type\":\"scatterpolar\",\"marker\":{\"colorbar\":{\"outlinewidth\":0,\"ticks\":\"\"}}}],\"histogram\":[{\"marker\":{\"pattern\":{\"fillmode\":\"overlay\",\"size\":10,\"solidity\":0.2}},\"type\":\"histogram\"}],\"scattergl\":[{\"type\":\"scattergl\",\"marker\":{\"colorbar\":{\"outlinewidth\":0,\"ticks\":\"\"}}}],\"scatter3d\":[{\"type\":\"scatter3d\",\"line\":{\"colorbar\":{\"outlinewidth\":0,\"ticks\":\"\"}},\"marker\":{\"colorbar\":{\"outlinewidth\":0,\"ticks\":\"\"}}}],\"scattermapbox\":[{\"type\":\"scattermapbox\",\"marker\":{\"colorbar\":{\"outlinewidth\":0,\"ticks\":\"\"}}}],\"scatterternary\":[{\"type\":\"scatterternary\",\"marker\":{\"colorbar\":{\"outlinewidth\":0,\"ticks\":\"\"}}}],\"scattercarpet\":[{\"type\":\"scattercarpet\",\"marker\":{\"colorbar\":{\"outlinewidth\":0,\"ticks\":\"\"}}}],\"carpet\":[{\"aaxis\":{\"endlinecolor\":\"#2a3f5f\",\"gridcolor\":\"white\",\"linecolor\":\"white\",\"minorgridcolor\":\"white\",\"startlinecolor\":\"#2a3f5f\"},\"baxis\":{\"endlinecolor\":\"#2a3f5f\",\"gridcolor\":\"white\",\"linecolor\":\"white\",\"minorgridcolor\":\"white\",\"startlinecolor\":\"#2a3f5f\"},\"type\":\"carpet\"}],\"table\":[{\"cells\":{\"fill\":{\"color\":\"#EBF0F8\"},\"line\":{\"color\":\"white\"}},\"header\":{\"fill\":{\"color\":\"#C8D4E3\"},\"line\":{\"color\":\"white\"}},\"type\":\"table\"}],\"barpolar\":[{\"marker\":{\"line\":{\"color\":\"#E5ECF6\",\"width\":0.5},\"pattern\":{\"fillmode\":\"overlay\",\"size\":10,\"solidity\":0.2}},\"type\":\"barpolar\"}],\"pie\":[{\"automargin\":true,\"type\":\"pie\"}]},\"layout\":{\"autotypenumbers\":\"strict\",\"colorway\":[\"#636efa\",\"#EF553B\",\"#00cc96\",\"#ab63fa\",\"#FFA15A\",\"#19d3f3\",\"#FF6692\",\"#B6E880\",\"#FF97FF\",\"#FECB52\"],\"font\":{\"color\":\"#2a3f5f\"},\"hovermode\":\"closest\",\"hoverlabel\":{\"align\":\"left\"},\"paper_bgcolor\":\"white\",\"plot_bgcolor\":\"#E5ECF6\",\"polar\":{\"bgcolor\":\"#E5ECF6\",\"angularaxis\":{\"gridcolor\":\"white\",\"linecolor\":\"white\",\"ticks\":\"\"},\"radialaxis\":{\"gridcolor\":\"white\",\"linecolor\":\"white\",\"ticks\":\"\"}},\"ternary\":{\"bgcolor\":\"#E5ECF6\",\"aaxis\":{\"gridcolor\":\"white\",\"linecolor\":\"white\",\"ticks\":\"\"},\"baxis\":{\"gridcolor\":\"white\",\"linecolor\":\"white\",\"ticks\":\"\"},\"caxis\":{\"gridcolor\":\"white\",\"linecolor\":\"white\",\"ticks\":\"\"}},\"coloraxis\":{\"colorbar\":{\"outlinewidth\":0,\"ticks\":\"\"}},\"colorscale\":{\"sequential\":[[0.0,\"#0d0887\"],[0.1111111111111111,\"#46039f\"],[0.2222222222222222,\"#7201a8\"],[0.3333333333333333,\"#9c179e\"],[0.4444444444444444,\"#bd3786\"],[0.5555555555555556,\"#d8576b\"],[0.6666666666666666,\"#ed7953\"],[0.7777777777777778,\"#fb9f3a\"],[0.8888888888888888,\"#fdca26\"],[1.0,\"#f0f921\"]],\"sequentialminus\":[[0.0,\"#0d0887\"],[0.1111111111111111,\"#46039f\"],[0.2222222222222222,\"#7201a8\"],[0.3333333333333333,\"#9c179e\"],[0.4444444444444444,\"#bd3786\"],[0.5555555555555556,\"#d8576b\"],[0.6666666666666666,\"#ed7953\"],[0.7777777777777778,\"#fb9f3a\"],[0.8888888888888888,\"#fdca26\"],[1.0,\"#f0f921\"]],\"diverging\":[[0,\"#8e0152\"],[0.1,\"#c51b7d\"],[0.2,\"#de77ae\"],[0.3,\"#f1b6da\"],[0.4,\"#fde0ef\"],[0.5,\"#f7f7f7\"],[0.6,\"#e6f5d0\"],[0.7,\"#b8e186\"],[0.8,\"#7fbc41\"],[0.9,\"#4d9221\"],[1,\"#276419\"]]},\"xaxis\":{\"gridcolor\":\"white\",\"linecolor\":\"white\",\"ticks\":\"\",\"title\":{\"standoff\":15},\"zerolinecolor\":\"white\",\"automargin\":true,\"zerolinewidth\":2},\"yaxis\":{\"gridcolor\":\"white\",\"linecolor\":\"white\",\"ticks\":\"\",\"title\":{\"standoff\":15},\"zerolinecolor\":\"white\",\"automargin\":true,\"zerolinewidth\":2},\"scene\":{\"xaxis\":{\"backgroundcolor\":\"#E5ECF6\",\"gridcolor\":\"white\",\"linecolor\":\"white\",\"showbackground\":true,\"ticks\":\"\",\"zerolinecolor\":\"white\",\"gridwidth\":2},\"yaxis\":{\"backgroundcolor\":\"#E5ECF6\",\"gridcolor\":\"white\",\"linecolor\":\"white\",\"showbackground\":true,\"ticks\":\"\",\"zerolinecolor\":\"white\",\"gridwidth\":2},\"zaxis\":{\"backgroundcolor\":\"#E5ECF6\",\"gridcolor\":\"white\",\"linecolor\":\"white\",\"showbackground\":true,\"ticks\":\"\",\"zerolinecolor\":\"white\",\"gridwidth\":2}},\"shapedefaults\":{\"line\":{\"color\":\"#2a3f5f\"}},\"annotationdefaults\":{\"arrowcolor\":\"#2a3f5f\",\"arrowhead\":0,\"arrowwidth\":1},\"geo\":{\"bgcolor\":\"white\",\"landcolor\":\"#E5ECF6\",\"subunitcolor\":\"white\",\"showland\":true,\"showlakes\":true,\"lakecolor\":\"white\"},\"title\":{\"x\":0.05},\"mapbox\":{\"style\":\"light\"}}},\"xaxis\":{\"title\":{\"text\":\"Support\"},\"autorange\":\"reversed\"},\"title\":{\"text\":\"Association Rules Strength Distribution\"},\"yaxis\":{\"title\":{\"text\":\"Confidence\"}}},                        {\"responsive\": true}                    ).then(function(){\n",
       "                            \n",
       "var gd = document.getElementById('9671878e-a3c8-4d73-a060-90ddfd1ddb64');\n",
       "var x = new MutationObserver(function (mutations, observer) {{\n",
       "        var display = window.getComputedStyle(gd).display;\n",
       "        if (!display || display === 'none') {{\n",
       "            console.log([gd, 'removed!']);\n",
       "            Plotly.purge(gd);\n",
       "            observer.disconnect();\n",
       "        }}\n",
       "}});\n",
       "\n",
       "// Listen for the removal of the full notebook cells\n",
       "var notebookContainer = gd.closest('#notebook-container');\n",
       "if (notebookContainer) {{\n",
       "    x.observe(notebookContainer, {childList: true});\n",
       "}}\n",
       "\n",
       "// Listen for the clearing of the current output cell\n",
       "var outputEl = gd.closest('.output');\n",
       "if (outputEl) {{\n",
       "    x.observe(outputEl, {childList: true});\n",
       "}}\n",
       "\n",
       "                        })                };                });            </script>        </div>"
      ]
     },
     "metadata": {},
     "output_type": "display_data",
     "jetTransient": {
      "display_id": null
     }
    },
    {
     "data": {
      "application/vnd.plotly.v1+json": {
       "data": [
        {
         "hoverinfo": "none",
         "line": {
          "color": "#888",
          "width": 0.5
         },
         "mode": "lines",
         "x": [
          -0.37623490204519433,
          0.06589656361414885,
          null,
          -0.5761316802609693,
          -0.37623490204519433,
          null,
          0.49125063213612874,
          0.06589656361414885,
          null,
          0.9866073030289932,
          0.49125063213612874,
          null,
          0.0060894385526449315,
          0.06589656361414885,
          null,
          -0.6231254820753119,
          0.0060894385526449315,
          null,
          0.33856078230106884,
          0.06589656361414885,
          null,
          0.7140240487462132,
          0.33856078230106884,
          null,
          0.23906987393495271,
          0.06589656361414885,
          null,
          0.31806806563860346,
          0.23906987393495271,
          null,
          -0.1452114595390049,
          0.06589656361414885,
          null,
          -0.7540116301095363,
          -0.1452114595390049,
          null,
          0.4978991167979914,
          0.06589656361414885,
          null,
          1.0,
          0.4978991167979914,
          null,
          -0.26521335304796295,
          0.06589656361414885,
          null,
          -0.810567035207042,
          -0.26521335304796295,
          null,
          0.07024293288710332,
          0.06589656361414885,
          null,
          -0.009727841912036038,
          0.07024293288710332,
          null,
          -0.4403658134469463,
          0.06589656361414885,
          null,
          -0.7271195599938489,
          -0.4403658134469463,
          null
         ],
         "y": [
          -0.7813376459879485,
          -0.7266347089296664,
          null,
          0.2525263395307353,
          -0.7813376459879485,
          null,
          -0.5465493426657729,
          -0.7266347089296664,
          null,
          -0.1608591541685253,
          -0.5465493426657729,
          null,
          -0.21511164534649918,
          -0.7266347089296664,
          null,
          -0.3461032782258279,
          -0.21511164534649918,
          null,
          0.0013974875187796544,
          -0.7266347089296664,
          null,
          0.47488186502585605,
          0.0013974875187796544,
          null,
          -0.16435067477337922,
          -0.7266347089296664,
          null,
          0.7239478969782726,
          -0.16435067477337922,
          null,
          -0.06453117899244454,
          -0.7266347089296664,
          null,
          0.14181836184102156,
          -0.06453117899244454,
          null,
          -0.16982895175081172,
          -0.7266347089296664,
          null,
          0.23773150932439072,
          -0.16982895175081172,
          null,
          -0.20353005467661708,
          -0.7266347089296664,
          null,
          0.3264972941575818,
          -0.20353005467661708,
          null,
          0.033675294047330204,
          -0.7266347089296664,
          null,
          0.7084849209462026,
          0.033675294047330204,
          null,
          -0.21700182402080667,
          -0.7266347089296664,
          null,
          0.6948774901681246,
          -0.21700182402080667,
          null
         ],
         "type": "scatter"
        },
        {
         "hoverinfo": "text",
         "marker": {
          "color": [],
          "colorbar": {
           "thickness": 15,
           "title": {
            "side": "right",
            "text": "Node Connections"
           },
           "xanchor": "left"
          },
          "colorscale": [
           [
            0.0,
            "rgb(255,255,217)"
           ],
           [
            0.125,
            "rgb(237,248,177)"
           ],
           [
            0.25,
            "rgb(199,233,180)"
           ],
           [
            0.375,
            "rgb(127,205,187)"
           ],
           [
            0.5,
            "rgb(65,182,196)"
           ],
           [
            0.625,
            "rgb(29,145,192)"
           ],
           [
            0.75,
            "rgb(34,94,168)"
           ],
           [
            0.875,
            "rgb(37,52,148)"
           ],
           [
            1.0,
            "rgb(8,29,88)"
           ]
          ],
          "line": {
           "width": 2
          },
          "reversescale": true,
          "showscale": true,
          "size": 10
         },
         "mode": "markers",
         "text": [
          "0",
          "Keeping It Local",
          "Coffee",
          "1",
          "Extra Salami or Feta",
          "2",
          "Salad, Sandwich",
          "3",
          "Vegan mincepie, Cake",
          "4",
          "Scone, NONE",
          "5",
          "Sandwich, Hearty & Seasonal",
          "6",
          "Pastry, Toast",
          "7",
          "Salad, Extra Salami or Feta",
          "8",
          "Medialuna, NONE, Hot chocolate",
          "9",
          "Tartine, NONE"
         ],
         "x": [
          -0.37623490204519433,
          -0.5761316802609693,
          0.06589656361414885,
          0.49125063213612874,
          0.9866073030289932,
          0.0060894385526449315,
          -0.6231254820753119,
          0.33856078230106884,
          0.7140240487462132,
          0.23906987393495271,
          0.31806806563860346,
          -0.1452114595390049,
          -0.7540116301095363,
          0.4978991167979914,
          1.0,
          -0.26521335304796295,
          -0.810567035207042,
          0.07024293288710332,
          -0.009727841912036038,
          -0.4403658134469463,
          -0.7271195599938489
         ],
         "y": [
          -0.7813376459879485,
          0.2525263395307353,
          -0.7266347089296664,
          -0.5465493426657729,
          -0.1608591541685253,
          -0.21511164534649918,
          -0.3461032782258279,
          0.0013974875187796544,
          0.47488186502585605,
          -0.16435067477337922,
          0.7239478969782726,
          -0.06453117899244454,
          0.14181836184102156,
          -0.16982895175081172,
          0.23773150932439072,
          -0.20353005467661708,
          0.3264972941575818,
          0.033675294047330204,
          0.7084849209462026,
          -0.21700182402080667,
          0.6948774901681246
         ],
         "type": "scatter"
        }
       ],
       "layout": {
        "annotations": [
         {
          "showarrow": false,
          "text": "Python code: <a href='https://plotly.com/ipython-notebooks/network-graphs/'> https://plotly.com/ipython-notebooks/network-graphs/</a>",
          "x": 0.005,
          "xref": "paper",
          "y": -0.002,
          "yref": "paper"
         }
        ],
        "hovermode": "closest",
        "margin": {
         "b": 20,
         "l": 5,
         "r": 5,
         "t": 40
        },
        "showlegend": false,
        "title": {
         "font": {
          "size": 16
         },
         "text": "<br>Network graph made with Python"
        },
        "xaxis": {
         "showgrid": false,
         "showticklabels": false,
         "zeroline": false
        },
        "yaxis": {
         "showgrid": false,
         "showticklabels": false,
         "zeroline": false
        },
        "template": {
         "data": {
          "histogram2dcontour": [
           {
            "type": "histogram2dcontour",
            "colorbar": {
             "outlinewidth": 0,
             "ticks": ""
            },
            "colorscale": [
             [
              0.0,
              "#0d0887"
             ],
             [
              0.1111111111111111,
              "#46039f"
             ],
             [
              0.2222222222222222,
              "#7201a8"
             ],
             [
              0.3333333333333333,
              "#9c179e"
             ],
             [
              0.4444444444444444,
              "#bd3786"
             ],
             [
              0.5555555555555556,
              "#d8576b"
             ],
             [
              0.6666666666666666,
              "#ed7953"
             ],
             [
              0.7777777777777778,
              "#fb9f3a"
             ],
             [
              0.8888888888888888,
              "#fdca26"
             ],
             [
              1.0,
              "#f0f921"
             ]
            ]
           }
          ],
          "choropleth": [
           {
            "type": "choropleth",
            "colorbar": {
             "outlinewidth": 0,
             "ticks": ""
            }
           }
          ],
          "histogram2d": [
           {
            "type": "histogram2d",
            "colorbar": {
             "outlinewidth": 0,
             "ticks": ""
            },
            "colorscale": [
             [
              0.0,
              "#0d0887"
             ],
             [
              0.1111111111111111,
              "#46039f"
             ],
             [
              0.2222222222222222,
              "#7201a8"
             ],
             [
              0.3333333333333333,
              "#9c179e"
             ],
             [
              0.4444444444444444,
              "#bd3786"
             ],
             [
              0.5555555555555556,
              "#d8576b"
             ],
             [
              0.6666666666666666,
              "#ed7953"
             ],
             [
              0.7777777777777778,
              "#fb9f3a"
             ],
             [
              0.8888888888888888,
              "#fdca26"
             ],
             [
              1.0,
              "#f0f921"
             ]
            ]
           }
          ],
          "heatmap": [
           {
            "type": "heatmap",
            "colorbar": {
             "outlinewidth": 0,
             "ticks": ""
            },
            "colorscale": [
             [
              0.0,
              "#0d0887"
             ],
             [
              0.1111111111111111,
              "#46039f"
             ],
             [
              0.2222222222222222,
              "#7201a8"
             ],
             [
              0.3333333333333333,
              "#9c179e"
             ],
             [
              0.4444444444444444,
              "#bd3786"
             ],
             [
              0.5555555555555556,
              "#d8576b"
             ],
             [
              0.6666666666666666,
              "#ed7953"
             ],
             [
              0.7777777777777778,
              "#fb9f3a"
             ],
             [
              0.8888888888888888,
              "#fdca26"
             ],
             [
              1.0,
              "#f0f921"
             ]
            ]
           }
          ],
          "heatmapgl": [
           {
            "type": "heatmapgl",
            "colorbar": {
             "outlinewidth": 0,
             "ticks": ""
            },
            "colorscale": [
             [
              0.0,
              "#0d0887"
             ],
             [
              0.1111111111111111,
              "#46039f"
             ],
             [
              0.2222222222222222,
              "#7201a8"
             ],
             [
              0.3333333333333333,
              "#9c179e"
             ],
             [
              0.4444444444444444,
              "#bd3786"
             ],
             [
              0.5555555555555556,
              "#d8576b"
             ],
             [
              0.6666666666666666,
              "#ed7953"
             ],
             [
              0.7777777777777778,
              "#fb9f3a"
             ],
             [
              0.8888888888888888,
              "#fdca26"
             ],
             [
              1.0,
              "#f0f921"
             ]
            ]
           }
          ],
          "contourcarpet": [
           {
            "type": "contourcarpet",
            "colorbar": {
             "outlinewidth": 0,
             "ticks": ""
            }
           }
          ],
          "contour": [
           {
            "type": "contour",
            "colorbar": {
             "outlinewidth": 0,
             "ticks": ""
            },
            "colorscale": [
             [
              0.0,
              "#0d0887"
             ],
             [
              0.1111111111111111,
              "#46039f"
             ],
             [
              0.2222222222222222,
              "#7201a8"
             ],
             [
              0.3333333333333333,
              "#9c179e"
             ],
             [
              0.4444444444444444,
              "#bd3786"
             ],
             [
              0.5555555555555556,
              "#d8576b"
             ],
             [
              0.6666666666666666,
              "#ed7953"
             ],
             [
              0.7777777777777778,
              "#fb9f3a"
             ],
             [
              0.8888888888888888,
              "#fdca26"
             ],
             [
              1.0,
              "#f0f921"
             ]
            ]
           }
          ],
          "surface": [
           {
            "type": "surface",
            "colorbar": {
             "outlinewidth": 0,
             "ticks": ""
            },
            "colorscale": [
             [
              0.0,
              "#0d0887"
             ],
             [
              0.1111111111111111,
              "#46039f"
             ],
             [
              0.2222222222222222,
              "#7201a8"
             ],
             [
              0.3333333333333333,
              "#9c179e"
             ],
             [
              0.4444444444444444,
              "#bd3786"
             ],
             [
              0.5555555555555556,
              "#d8576b"
             ],
             [
              0.6666666666666666,
              "#ed7953"
             ],
             [
              0.7777777777777778,
              "#fb9f3a"
             ],
             [
              0.8888888888888888,
              "#fdca26"
             ],
             [
              1.0,
              "#f0f921"
             ]
            ]
           }
          ],
          "mesh3d": [
           {
            "type": "mesh3d",
            "colorbar": {
             "outlinewidth": 0,
             "ticks": ""
            }
           }
          ],
          "scatter": [
           {
            "fillpattern": {
             "fillmode": "overlay",
             "size": 10,
             "solidity": 0.2
            },
            "type": "scatter"
           }
          ],
          "parcoords": [
           {
            "type": "parcoords",
            "line": {
             "colorbar": {
              "outlinewidth": 0,
              "ticks": ""
             }
            }
           }
          ],
          "scatterpolargl": [
           {
            "type": "scatterpolargl",
            "marker": {
             "colorbar": {
              "outlinewidth": 0,
              "ticks": ""
             }
            }
           }
          ],
          "bar": [
           {
            "error_x": {
             "color": "#2a3f5f"
            },
            "error_y": {
             "color": "#2a3f5f"
            },
            "marker": {
             "line": {
              "color": "#E5ECF6",
              "width": 0.5
             },
             "pattern": {
              "fillmode": "overlay",
              "size": 10,
              "solidity": 0.2
             }
            },
            "type": "bar"
           }
          ],
          "scattergeo": [
           {
            "type": "scattergeo",
            "marker": {
             "colorbar": {
              "outlinewidth": 0,
              "ticks": ""
             }
            }
           }
          ],
          "scatterpolar": [
           {
            "type": "scatterpolar",
            "marker": {
             "colorbar": {
              "outlinewidth": 0,
              "ticks": ""
             }
            }
           }
          ],
          "histogram": [
           {
            "marker": {
             "pattern": {
              "fillmode": "overlay",
              "size": 10,
              "solidity": 0.2
             }
            },
            "type": "histogram"
           }
          ],
          "scattergl": [
           {
            "type": "scattergl",
            "marker": {
             "colorbar": {
              "outlinewidth": 0,
              "ticks": ""
             }
            }
           }
          ],
          "scatter3d": [
           {
            "type": "scatter3d",
            "line": {
             "colorbar": {
              "outlinewidth": 0,
              "ticks": ""
             }
            },
            "marker": {
             "colorbar": {
              "outlinewidth": 0,
              "ticks": ""
             }
            }
           }
          ],
          "scattermapbox": [
           {
            "type": "scattermapbox",
            "marker": {
             "colorbar": {
              "outlinewidth": 0,
              "ticks": ""
             }
            }
           }
          ],
          "scatterternary": [
           {
            "type": "scatterternary",
            "marker": {
             "colorbar": {
              "outlinewidth": 0,
              "ticks": ""
             }
            }
           }
          ],
          "scattercarpet": [
           {
            "type": "scattercarpet",
            "marker": {
             "colorbar": {
              "outlinewidth": 0,
              "ticks": ""
             }
            }
           }
          ],
          "carpet": [
           {
            "aaxis": {
             "endlinecolor": "#2a3f5f",
             "gridcolor": "white",
             "linecolor": "white",
             "minorgridcolor": "white",
             "startlinecolor": "#2a3f5f"
            },
            "baxis": {
             "endlinecolor": "#2a3f5f",
             "gridcolor": "white",
             "linecolor": "white",
             "minorgridcolor": "white",
             "startlinecolor": "#2a3f5f"
            },
            "type": "carpet"
           }
          ],
          "table": [
           {
            "cells": {
             "fill": {
              "color": "#EBF0F8"
             },
             "line": {
              "color": "white"
             }
            },
            "header": {
             "fill": {
              "color": "#C8D4E3"
             },
             "line": {
              "color": "white"
             }
            },
            "type": "table"
           }
          ],
          "barpolar": [
           {
            "marker": {
             "line": {
              "color": "#E5ECF6",
              "width": 0.5
             },
             "pattern": {
              "fillmode": "overlay",
              "size": 10,
              "solidity": 0.2
             }
            },
            "type": "barpolar"
           }
          ],
          "pie": [
           {
            "automargin": true,
            "type": "pie"
           }
          ]
         },
         "layout": {
          "autotypenumbers": "strict",
          "colorway": [
           "#636efa",
           "#EF553B",
           "#00cc96",
           "#ab63fa",
           "#FFA15A",
           "#19d3f3",
           "#FF6692",
           "#B6E880",
           "#FF97FF",
           "#FECB52"
          ],
          "font": {
           "color": "#2a3f5f"
          },
          "hovermode": "closest",
          "hoverlabel": {
           "align": "left"
          },
          "paper_bgcolor": "white",
          "plot_bgcolor": "#E5ECF6",
          "polar": {
           "bgcolor": "#E5ECF6",
           "angularaxis": {
            "gridcolor": "white",
            "linecolor": "white",
            "ticks": ""
           },
           "radialaxis": {
            "gridcolor": "white",
            "linecolor": "white",
            "ticks": ""
           }
          },
          "ternary": {
           "bgcolor": "#E5ECF6",
           "aaxis": {
            "gridcolor": "white",
            "linecolor": "white",
            "ticks": ""
           },
           "baxis": {
            "gridcolor": "white",
            "linecolor": "white",
            "ticks": ""
           },
           "caxis": {
            "gridcolor": "white",
            "linecolor": "white",
            "ticks": ""
           }
          },
          "coloraxis": {
           "colorbar": {
            "outlinewidth": 0,
            "ticks": ""
           }
          },
          "colorscale": {
           "sequential": [
            [
             0.0,
             "#0d0887"
            ],
            [
             0.1111111111111111,
             "#46039f"
            ],
            [
             0.2222222222222222,
             "#7201a8"
            ],
            [
             0.3333333333333333,
             "#9c179e"
            ],
            [
             0.4444444444444444,
             "#bd3786"
            ],
            [
             0.5555555555555556,
             "#d8576b"
            ],
            [
             0.6666666666666666,
             "#ed7953"
            ],
            [
             0.7777777777777778,
             "#fb9f3a"
            ],
            [
             0.8888888888888888,
             "#fdca26"
            ],
            [
             1.0,
             "#f0f921"
            ]
           ],
           "sequentialminus": [
            [
             0.0,
             "#0d0887"
            ],
            [
             0.1111111111111111,
             "#46039f"
            ],
            [
             0.2222222222222222,
             "#7201a8"
            ],
            [
             0.3333333333333333,
             "#9c179e"
            ],
            [
             0.4444444444444444,
             "#bd3786"
            ],
            [
             0.5555555555555556,
             "#d8576b"
            ],
            [
             0.6666666666666666,
             "#ed7953"
            ],
            [
             0.7777777777777778,
             "#fb9f3a"
            ],
            [
             0.8888888888888888,
             "#fdca26"
            ],
            [
             1.0,
             "#f0f921"
            ]
           ],
           "diverging": [
            [
             0,
             "#8e0152"
            ],
            [
             0.1,
             "#c51b7d"
            ],
            [
             0.2,
             "#de77ae"
            ],
            [
             0.3,
             "#f1b6da"
            ],
            [
             0.4,
             "#fde0ef"
            ],
            [
             0.5,
             "#f7f7f7"
            ],
            [
             0.6,
             "#e6f5d0"
            ],
            [
             0.7,
             "#b8e186"
            ],
            [
             0.8,
             "#7fbc41"
            ],
            [
             0.9,
             "#4d9221"
            ],
            [
             1,
             "#276419"
            ]
           ]
          },
          "xaxis": {
           "gridcolor": "white",
           "linecolor": "white",
           "ticks": "",
           "title": {
            "standoff": 15
           },
           "zerolinecolor": "white",
           "automargin": true,
           "zerolinewidth": 2
          },
          "yaxis": {
           "gridcolor": "white",
           "linecolor": "white",
           "ticks": "",
           "title": {
            "standoff": 15
           },
           "zerolinecolor": "white",
           "automargin": true,
           "zerolinewidth": 2
          },
          "scene": {
           "xaxis": {
            "backgroundcolor": "#E5ECF6",
            "gridcolor": "white",
            "linecolor": "white",
            "showbackground": true,
            "ticks": "",
            "zerolinecolor": "white",
            "gridwidth": 2
           },
           "yaxis": {
            "backgroundcolor": "#E5ECF6",
            "gridcolor": "white",
            "linecolor": "white",
            "showbackground": true,
            "ticks": "",
            "zerolinecolor": "white",
            "gridwidth": 2
           },
           "zaxis": {
            "backgroundcolor": "#E5ECF6",
            "gridcolor": "white",
            "linecolor": "white",
            "showbackground": true,
            "ticks": "",
            "zerolinecolor": "white",
            "gridwidth": 2
           }
          },
          "shapedefaults": {
           "line": {
            "color": "#2a3f5f"
           }
          },
          "annotationdefaults": {
           "arrowcolor": "#2a3f5f",
           "arrowhead": 0,
           "arrowwidth": 1
          },
          "geo": {
           "bgcolor": "white",
           "landcolor": "#E5ECF6",
           "subunitcolor": "white",
           "showland": true,
           "showlakes": true,
           "lakecolor": "white"
          },
          "title": {
           "x": 0.05
          },
          "mapbox": {
           "style": "light"
          }
         }
        }
       },
       "config": {
        "plotlyServerURL": "https://plot.ly"
       }
      },
      "text/html": [
       "<div>                            <div id=\"d21cc3e0-6f45-4b23-9b2a-d7de2dea1b66\" class=\"plotly-graph-div\" style=\"height:525px; width:100%;\"></div>            <script type=\"text/javascript\">                require([\"plotly\"], function(Plotly) {                    window.PLOTLYENV=window.PLOTLYENV || {};                                    if (document.getElementById(\"d21cc3e0-6f45-4b23-9b2a-d7de2dea1b66\")) {                    Plotly.newPlot(                        \"d21cc3e0-6f45-4b23-9b2a-d7de2dea1b66\",                        [{\"hoverinfo\":\"none\",\"line\":{\"color\":\"#888\",\"width\":0.5},\"mode\":\"lines\",\"x\":[-0.37623490204519433,0.06589656361414885,null,-0.5761316802609693,-0.37623490204519433,null,0.49125063213612874,0.06589656361414885,null,0.9866073030289932,0.49125063213612874,null,0.0060894385526449315,0.06589656361414885,null,-0.6231254820753119,0.0060894385526449315,null,0.33856078230106884,0.06589656361414885,null,0.7140240487462132,0.33856078230106884,null,0.23906987393495271,0.06589656361414885,null,0.31806806563860346,0.23906987393495271,null,-0.1452114595390049,0.06589656361414885,null,-0.7540116301095363,-0.1452114595390049,null,0.4978991167979914,0.06589656361414885,null,1.0,0.4978991167979914,null,-0.26521335304796295,0.06589656361414885,null,-0.810567035207042,-0.26521335304796295,null,0.07024293288710332,0.06589656361414885,null,-0.009727841912036038,0.07024293288710332,null,-0.4403658134469463,0.06589656361414885,null,-0.7271195599938489,-0.4403658134469463,null],\"y\":[-0.7813376459879485,-0.7266347089296664,null,0.2525263395307353,-0.7813376459879485,null,-0.5465493426657729,-0.7266347089296664,null,-0.1608591541685253,-0.5465493426657729,null,-0.21511164534649918,-0.7266347089296664,null,-0.3461032782258279,-0.21511164534649918,null,0.0013974875187796544,-0.7266347089296664,null,0.47488186502585605,0.0013974875187796544,null,-0.16435067477337922,-0.7266347089296664,null,0.7239478969782726,-0.16435067477337922,null,-0.06453117899244454,-0.7266347089296664,null,0.14181836184102156,-0.06453117899244454,null,-0.16982895175081172,-0.7266347089296664,null,0.23773150932439072,-0.16982895175081172,null,-0.20353005467661708,-0.7266347089296664,null,0.3264972941575818,-0.20353005467661708,null,0.033675294047330204,-0.7266347089296664,null,0.7084849209462026,0.033675294047330204,null,-0.21700182402080667,-0.7266347089296664,null,0.6948774901681246,-0.21700182402080667,null],\"type\":\"scatter\"},{\"hoverinfo\":\"text\",\"marker\":{\"color\":[],\"colorbar\":{\"thickness\":15,\"title\":{\"side\":\"right\",\"text\":\"Node Connections\"},\"xanchor\":\"left\"},\"colorscale\":[[0.0,\"rgb(255,255,217)\"],[0.125,\"rgb(237,248,177)\"],[0.25,\"rgb(199,233,180)\"],[0.375,\"rgb(127,205,187)\"],[0.5,\"rgb(65,182,196)\"],[0.625,\"rgb(29,145,192)\"],[0.75,\"rgb(34,94,168)\"],[0.875,\"rgb(37,52,148)\"],[1.0,\"rgb(8,29,88)\"]],\"line\":{\"width\":2},\"reversescale\":true,\"showscale\":true,\"size\":10},\"mode\":\"markers\",\"text\":[\"0\",\"Keeping It Local\",\"Coffee\",\"1\",\"Extra Salami or Feta\",\"2\",\"Salad, Sandwich\",\"3\",\"Vegan mincepie, Cake\",\"4\",\"Scone, NONE\",\"5\",\"Sandwich, Hearty & Seasonal\",\"6\",\"Pastry, Toast\",\"7\",\"Salad, Extra Salami or Feta\",\"8\",\"Medialuna, NONE, Hot chocolate\",\"9\",\"Tartine, NONE\"],\"x\":[-0.37623490204519433,-0.5761316802609693,0.06589656361414885,0.49125063213612874,0.9866073030289932,0.0060894385526449315,-0.6231254820753119,0.33856078230106884,0.7140240487462132,0.23906987393495271,0.31806806563860346,-0.1452114595390049,-0.7540116301095363,0.4978991167979914,1.0,-0.26521335304796295,-0.810567035207042,0.07024293288710332,-0.009727841912036038,-0.4403658134469463,-0.7271195599938489],\"y\":[-0.7813376459879485,0.2525263395307353,-0.7266347089296664,-0.5465493426657729,-0.1608591541685253,-0.21511164534649918,-0.3461032782258279,0.0013974875187796544,0.47488186502585605,-0.16435067477337922,0.7239478969782726,-0.06453117899244454,0.14181836184102156,-0.16982895175081172,0.23773150932439072,-0.20353005467661708,0.3264972941575818,0.033675294047330204,0.7084849209462026,-0.21700182402080667,0.6948774901681246],\"type\":\"scatter\"}],                        {\"annotations\":[{\"showarrow\":false,\"text\":\"Python code: \\u003ca href='https:\\u002f\\u002fplotly.com\\u002fipython-notebooks\\u002fnetwork-graphs\\u002f'\\u003e https:\\u002f\\u002fplotly.com\\u002fipython-notebooks\\u002fnetwork-graphs\\u002f\\u003c\\u002fa\\u003e\",\"x\":0.005,\"xref\":\"paper\",\"y\":-0.002,\"yref\":\"paper\"}],\"hovermode\":\"closest\",\"margin\":{\"b\":20,\"l\":5,\"r\":5,\"t\":40},\"showlegend\":false,\"title\":{\"font\":{\"size\":16},\"text\":\"\\u003cbr\\u003eNetwork graph made with Python\"},\"xaxis\":{\"showgrid\":false,\"showticklabels\":false,\"zeroline\":false},\"yaxis\":{\"showgrid\":false,\"showticklabels\":false,\"zeroline\":false},\"template\":{\"data\":{\"histogram2dcontour\":[{\"type\":\"histogram2dcontour\",\"colorbar\":{\"outlinewidth\":0,\"ticks\":\"\"},\"colorscale\":[[0.0,\"#0d0887\"],[0.1111111111111111,\"#46039f\"],[0.2222222222222222,\"#7201a8\"],[0.3333333333333333,\"#9c179e\"],[0.4444444444444444,\"#bd3786\"],[0.5555555555555556,\"#d8576b\"],[0.6666666666666666,\"#ed7953\"],[0.7777777777777778,\"#fb9f3a\"],[0.8888888888888888,\"#fdca26\"],[1.0,\"#f0f921\"]]}],\"choropleth\":[{\"type\":\"choropleth\",\"colorbar\":{\"outlinewidth\":0,\"ticks\":\"\"}}],\"histogram2d\":[{\"type\":\"histogram2d\",\"colorbar\":{\"outlinewidth\":0,\"ticks\":\"\"},\"colorscale\":[[0.0,\"#0d0887\"],[0.1111111111111111,\"#46039f\"],[0.2222222222222222,\"#7201a8\"],[0.3333333333333333,\"#9c179e\"],[0.4444444444444444,\"#bd3786\"],[0.5555555555555556,\"#d8576b\"],[0.6666666666666666,\"#ed7953\"],[0.7777777777777778,\"#fb9f3a\"],[0.8888888888888888,\"#fdca26\"],[1.0,\"#f0f921\"]]}],\"heatmap\":[{\"type\":\"heatmap\",\"colorbar\":{\"outlinewidth\":0,\"ticks\":\"\"},\"colorscale\":[[0.0,\"#0d0887\"],[0.1111111111111111,\"#46039f\"],[0.2222222222222222,\"#7201a8\"],[0.3333333333333333,\"#9c179e\"],[0.4444444444444444,\"#bd3786\"],[0.5555555555555556,\"#d8576b\"],[0.6666666666666666,\"#ed7953\"],[0.7777777777777778,\"#fb9f3a\"],[0.8888888888888888,\"#fdca26\"],[1.0,\"#f0f921\"]]}],\"heatmapgl\":[{\"type\":\"heatmapgl\",\"colorbar\":{\"outlinewidth\":0,\"ticks\":\"\"},\"colorscale\":[[0.0,\"#0d0887\"],[0.1111111111111111,\"#46039f\"],[0.2222222222222222,\"#7201a8\"],[0.3333333333333333,\"#9c179e\"],[0.4444444444444444,\"#bd3786\"],[0.5555555555555556,\"#d8576b\"],[0.6666666666666666,\"#ed7953\"],[0.7777777777777778,\"#fb9f3a\"],[0.8888888888888888,\"#fdca26\"],[1.0,\"#f0f921\"]]}],\"contourcarpet\":[{\"type\":\"contourcarpet\",\"colorbar\":{\"outlinewidth\":0,\"ticks\":\"\"}}],\"contour\":[{\"type\":\"contour\",\"colorbar\":{\"outlinewidth\":0,\"ticks\":\"\"},\"colorscale\":[[0.0,\"#0d0887\"],[0.1111111111111111,\"#46039f\"],[0.2222222222222222,\"#7201a8\"],[0.3333333333333333,\"#9c179e\"],[0.4444444444444444,\"#bd3786\"],[0.5555555555555556,\"#d8576b\"],[0.6666666666666666,\"#ed7953\"],[0.7777777777777778,\"#fb9f3a\"],[0.8888888888888888,\"#fdca26\"],[1.0,\"#f0f921\"]]}],\"surface\":[{\"type\":\"surface\",\"colorbar\":{\"outlinewidth\":0,\"ticks\":\"\"},\"colorscale\":[[0.0,\"#0d0887\"],[0.1111111111111111,\"#46039f\"],[0.2222222222222222,\"#7201a8\"],[0.3333333333333333,\"#9c179e\"],[0.4444444444444444,\"#bd3786\"],[0.5555555555555556,\"#d8576b\"],[0.6666666666666666,\"#ed7953\"],[0.7777777777777778,\"#fb9f3a\"],[0.8888888888888888,\"#fdca26\"],[1.0,\"#f0f921\"]]}],\"mesh3d\":[{\"type\":\"mesh3d\",\"colorbar\":{\"outlinewidth\":0,\"ticks\":\"\"}}],\"scatter\":[{\"fillpattern\":{\"fillmode\":\"overlay\",\"size\":10,\"solidity\":0.2},\"type\":\"scatter\"}],\"parcoords\":[{\"type\":\"parcoords\",\"line\":{\"colorbar\":{\"outlinewidth\":0,\"ticks\":\"\"}}}],\"scatterpolargl\":[{\"type\":\"scatterpolargl\",\"marker\":{\"colorbar\":{\"outlinewidth\":0,\"ticks\":\"\"}}}],\"bar\":[{\"error_x\":{\"color\":\"#2a3f5f\"},\"error_y\":{\"color\":\"#2a3f5f\"},\"marker\":{\"line\":{\"color\":\"#E5ECF6\",\"width\":0.5},\"pattern\":{\"fillmode\":\"overlay\",\"size\":10,\"solidity\":0.2}},\"type\":\"bar\"}],\"scattergeo\":[{\"type\":\"scattergeo\",\"marker\":{\"colorbar\":{\"outlinewidth\":0,\"ticks\":\"\"}}}],\"scatterpolar\":[{\"type\":\"scatterpolar\",\"marker\":{\"colorbar\":{\"outlinewidth\":0,\"ticks\":\"\"}}}],\"histogram\":[{\"marker\":{\"pattern\":{\"fillmode\":\"overlay\",\"size\":10,\"solidity\":0.2}},\"type\":\"histogram\"}],\"scattergl\":[{\"type\":\"scattergl\",\"marker\":{\"colorbar\":{\"outlinewidth\":0,\"ticks\":\"\"}}}],\"scatter3d\":[{\"type\":\"scatter3d\",\"line\":{\"colorbar\":{\"outlinewidth\":0,\"ticks\":\"\"}},\"marker\":{\"colorbar\":{\"outlinewidth\":0,\"ticks\":\"\"}}}],\"scattermapbox\":[{\"type\":\"scattermapbox\",\"marker\":{\"colorbar\":{\"outlinewidth\":0,\"ticks\":\"\"}}}],\"scatterternary\":[{\"type\":\"scatterternary\",\"marker\":{\"colorbar\":{\"outlinewidth\":0,\"ticks\":\"\"}}}],\"scattercarpet\":[{\"type\":\"scattercarpet\",\"marker\":{\"colorbar\":{\"outlinewidth\":0,\"ticks\":\"\"}}}],\"carpet\":[{\"aaxis\":{\"endlinecolor\":\"#2a3f5f\",\"gridcolor\":\"white\",\"linecolor\":\"white\",\"minorgridcolor\":\"white\",\"startlinecolor\":\"#2a3f5f\"},\"baxis\":{\"endlinecolor\":\"#2a3f5f\",\"gridcolor\":\"white\",\"linecolor\":\"white\",\"minorgridcolor\":\"white\",\"startlinecolor\":\"#2a3f5f\"},\"type\":\"carpet\"}],\"table\":[{\"cells\":{\"fill\":{\"color\":\"#EBF0F8\"},\"line\":{\"color\":\"white\"}},\"header\":{\"fill\":{\"color\":\"#C8D4E3\"},\"line\":{\"color\":\"white\"}},\"type\":\"table\"}],\"barpolar\":[{\"marker\":{\"line\":{\"color\":\"#E5ECF6\",\"width\":0.5},\"pattern\":{\"fillmode\":\"overlay\",\"size\":10,\"solidity\":0.2}},\"type\":\"barpolar\"}],\"pie\":[{\"automargin\":true,\"type\":\"pie\"}]},\"layout\":{\"autotypenumbers\":\"strict\",\"colorway\":[\"#636efa\",\"#EF553B\",\"#00cc96\",\"#ab63fa\",\"#FFA15A\",\"#19d3f3\",\"#FF6692\",\"#B6E880\",\"#FF97FF\",\"#FECB52\"],\"font\":{\"color\":\"#2a3f5f\"},\"hovermode\":\"closest\",\"hoverlabel\":{\"align\":\"left\"},\"paper_bgcolor\":\"white\",\"plot_bgcolor\":\"#E5ECF6\",\"polar\":{\"bgcolor\":\"#E5ECF6\",\"angularaxis\":{\"gridcolor\":\"white\",\"linecolor\":\"white\",\"ticks\":\"\"},\"radialaxis\":{\"gridcolor\":\"white\",\"linecolor\":\"white\",\"ticks\":\"\"}},\"ternary\":{\"bgcolor\":\"#E5ECF6\",\"aaxis\":{\"gridcolor\":\"white\",\"linecolor\":\"white\",\"ticks\":\"\"},\"baxis\":{\"gridcolor\":\"white\",\"linecolor\":\"white\",\"ticks\":\"\"},\"caxis\":{\"gridcolor\":\"white\",\"linecolor\":\"white\",\"ticks\":\"\"}},\"coloraxis\":{\"colorbar\":{\"outlinewidth\":0,\"ticks\":\"\"}},\"colorscale\":{\"sequential\":[[0.0,\"#0d0887\"],[0.1111111111111111,\"#46039f\"],[0.2222222222222222,\"#7201a8\"],[0.3333333333333333,\"#9c179e\"],[0.4444444444444444,\"#bd3786\"],[0.5555555555555556,\"#d8576b\"],[0.6666666666666666,\"#ed7953\"],[0.7777777777777778,\"#fb9f3a\"],[0.8888888888888888,\"#fdca26\"],[1.0,\"#f0f921\"]],\"sequentialminus\":[[0.0,\"#0d0887\"],[0.1111111111111111,\"#46039f\"],[0.2222222222222222,\"#7201a8\"],[0.3333333333333333,\"#9c179e\"],[0.4444444444444444,\"#bd3786\"],[0.5555555555555556,\"#d8576b\"],[0.6666666666666666,\"#ed7953\"],[0.7777777777777778,\"#fb9f3a\"],[0.8888888888888888,\"#fdca26\"],[1.0,\"#f0f921\"]],\"diverging\":[[0,\"#8e0152\"],[0.1,\"#c51b7d\"],[0.2,\"#de77ae\"],[0.3,\"#f1b6da\"],[0.4,\"#fde0ef\"],[0.5,\"#f7f7f7\"],[0.6,\"#e6f5d0\"],[0.7,\"#b8e186\"],[0.8,\"#7fbc41\"],[0.9,\"#4d9221\"],[1,\"#276419\"]]},\"xaxis\":{\"gridcolor\":\"white\",\"linecolor\":\"white\",\"ticks\":\"\",\"title\":{\"standoff\":15},\"zerolinecolor\":\"white\",\"automargin\":true,\"zerolinewidth\":2},\"yaxis\":{\"gridcolor\":\"white\",\"linecolor\":\"white\",\"ticks\":\"\",\"title\":{\"standoff\":15},\"zerolinecolor\":\"white\",\"automargin\":true,\"zerolinewidth\":2},\"scene\":{\"xaxis\":{\"backgroundcolor\":\"#E5ECF6\",\"gridcolor\":\"white\",\"linecolor\":\"white\",\"showbackground\":true,\"ticks\":\"\",\"zerolinecolor\":\"white\",\"gridwidth\":2},\"yaxis\":{\"backgroundcolor\":\"#E5ECF6\",\"gridcolor\":\"white\",\"linecolor\":\"white\",\"showbackground\":true,\"ticks\":\"\",\"zerolinecolor\":\"white\",\"gridwidth\":2},\"zaxis\":{\"backgroundcolor\":\"#E5ECF6\",\"gridcolor\":\"white\",\"linecolor\":\"white\",\"showbackground\":true,\"ticks\":\"\",\"zerolinecolor\":\"white\",\"gridwidth\":2}},\"shapedefaults\":{\"line\":{\"color\":\"#2a3f5f\"}},\"annotationdefaults\":{\"arrowcolor\":\"#2a3f5f\",\"arrowhead\":0,\"arrowwidth\":1},\"geo\":{\"bgcolor\":\"white\",\"landcolor\":\"#E5ECF6\",\"subunitcolor\":\"white\",\"showland\":true,\"showlakes\":true,\"lakecolor\":\"white\"},\"title\":{\"x\":0.05},\"mapbox\":{\"style\":\"light\"}}}},                        {\"responsive\": true}                    ).then(function(){\n",
       "                            \n",
       "var gd = document.getElementById('d21cc3e0-6f45-4b23-9b2a-d7de2dea1b66');\n",
       "var x = new MutationObserver(function (mutations, observer) {{\n",
       "        var display = window.getComputedStyle(gd).display;\n",
       "        if (!display || display === 'none') {{\n",
       "            console.log([gd, 'removed!']);\n",
       "            Plotly.purge(gd);\n",
       "            observer.disconnect();\n",
       "        }}\n",
       "}});\n",
       "\n",
       "// Listen for the removal of the full notebook cells\n",
       "var notebookContainer = gd.closest('#notebook-container');\n",
       "if (notebookContainer) {{\n",
       "    x.observe(notebookContainer, {childList: true});\n",
       "}}\n",
       "\n",
       "// Listen for the clearing of the current output cell\n",
       "var outputEl = gd.closest('.output');\n",
       "if (outputEl) {{\n",
       "    x.observe(outputEl, {childList: true});\n",
       "}}\n",
       "\n",
       "                        })                };                });            </script>        </div>"
      ]
     },
     "metadata": {},
     "output_type": "display_data",
     "jetTransient": {
      "display_id": null
     }
    }
   ],
   "execution_count": 17
  },
  {
   "metadata": {},
   "cell_type": "markdown",
   "source": "efficient_apriori",
   "id": "aedc80074241b2e4"
  },
  {
   "metadata": {
    "ExecuteTime": {
     "end_time": "2025-09-25T09:54:13.621320Z",
     "start_time": "2025-09-25T09:54:13.616079Z"
    }
   },
   "cell_type": "code",
   "source": [
    "def output_efficient_apriori(rules):\n",
    "    rules_pyarmviz = []\n",
    "\n",
    "    for i, r in enumerate(rules):\n",
    "        ant = frozenset(r.lhs)\n",
    "        cons = frozenset(r.rhs)\n",
    "        union = ant | cons\n",
    "\n",
    "        count_ab = sum(1 for t in transactions if union.issubset(t))\n",
    "        count_a = sum(1 for t in transactions if ant.issubset(t))\n",
    "        count_b = sum(1 for t in transactions if cons.issubset(t))\n",
    "\n",
    "        support_ab = count_ab / n_trans\n",
    "        support_a = count_a / n_trans\n",
    "        support_b = count_b / n_trans\n",
    "\n",
    "        lift = support_ab / (support_a * support_b) if support_a * support_b else 0.0\n",
    "\n",
    "        print(f\"{i}: {r.lhs} -> {r.rhs} \"\n",
    "              f\"Support = {support_ab:.3f} Confidence = {r.confidence:.3f} Lift = {lift:.3f}\")\n",
    "\n",
    "        rules_pyarmviz.append(\n",
    "            PyARMViz.Rule.Rule(\n",
    "                lhs=[\", \".join(r.lhs)],\n",
    "                rhs=[\", \".join(r.rhs)],\n",
    "                count_full=count_ab,\n",
    "                count_lhs=count_a,\n",
    "                count_rhs=count_b,\n",
    "                num_transactions=n_trans\n",
    "            )\n",
    "        )\n",
    "    PyARMViz.metadata_scatter_plot(rules_pyarmviz)\n",
    "    PyARMViz.adjacency_graph_plotly(rules_pyarmviz)\n",
    "    # PyARMViz.adjacency_parallel_coordinate_plot(rules_pyarmviz)\n",
    "    # PyARMViz.adjacency_parallel_category_plot(rules_pyarmviz)\n"
   ],
   "id": "c394a74034f34759",
   "outputs": [],
   "execution_count": 18
  },
  {
   "metadata": {
    "ExecuteTime": {
     "end_time": "2025-09-25T09:54:14.036105Z",
     "start_time": "2025-09-25T09:54:13.627278Z"
    }
   },
   "cell_type": "code",
   "source": [
    "start = time.time()\n",
    "itemsets, rules = efficient_apriori(transactions, min_support=min_sup, min_confidence=0.6)\n",
    "times['efficient-apriori'] = time.time() - start\n",
    "output_efficient_apriori(rules)"
   ],
   "id": "a56da7909c89c147",
   "outputs": [
    {
     "name": "stdout",
     "output_type": "stream",
     "text": [
      "0: ('Art Tray',) -> ('Coffee',) Support = 0.003 Confidence = 0.684 Lift = 1.440\n",
      "1: ('Bakewell',) -> ('Coffee',) Support = 0.003 Confidence = 0.604 Lift = 1.272\n",
      "2: ('Extra Salami or Feta',) -> ('Coffee',) Support = 0.003 Confidence = 0.816 Lift = 1.717\n",
      "3: ('Granola',) -> ('Coffee',) Support = 0.002 Confidence = 0.607 Lift = 1.278\n",
      "4: ('Keeping It Local',) -> ('Coffee',) Support = 0.005 Confidence = 0.810 Lift = 1.704\n",
      "5: ('Salad',) -> ('Coffee',) Support = 0.007 Confidence = 0.626 Lift = 1.318\n",
      "6: ('Tartine',) -> ('Coffee',) Support = 0.003 Confidence = 0.630 Lift = 1.327\n",
      "7: ('Toast',) -> ('Coffee',) Support = 0.024 Confidence = 0.704 Lift = 1.483\n",
      "8: ('Alfajores', 'Cookies') -> ('Coffee',) Support = 0.002 Confidence = 0.652 Lift = 1.373\n",
      "9: ('Alfajores', 'NONE') -> ('Coffee',) Support = 0.001 Confidence = 0.611 Lift = 1.286\n",
      "10: ('Brownie', 'Cookies') -> ('Coffee',) Support = 0.002 Confidence = 0.625 Lift = 1.316\n",
      "11: ('Brownie', 'NONE') -> ('Coffee',) Support = 0.001 Confidence = 0.609 Lift = 1.281\n",
      "12: ('Brownie', 'Sandwich') -> ('Coffee',) Support = 0.001 Confidence = 0.636 Lift = 1.339\n",
      "13: ('Cake', 'Hot chocolate') -> ('Coffee',) Support = 0.007 Confidence = 0.602 Lift = 1.267\n",
      "14: ('Cake', 'Medialuna') -> ('Coffee',) Support = 0.003 Confidence = 0.686 Lift = 1.443\n",
      "15: ('Cake', 'NONE') -> ('Coffee',) Support = 0.003 Confidence = 0.667 Lift = 1.403\n",
      "16: ('Cake', 'Salad') -> ('Coffee',) Support = 0.001 Confidence = 0.769 Lift = 1.619\n",
      "17: ('Cake', 'Sandwich') -> ('Coffee',) Support = 0.005 Confidence = 0.677 Lift = 1.425\n",
      "18: ('Cake', 'Scone') -> ('Coffee',) Support = 0.003 Confidence = 0.600 Lift = 1.263\n",
      "19: ('Cake', 'Smoothies') -> ('Coffee',) Support = 0.001 Confidence = 0.667 Lift = 1.403\n",
      "20: ('Cake', 'Tiffin') -> ('Coffee',) Support = 0.002 Confidence = 0.682 Lift = 1.435\n",
      "21: ('Cake', 'Toast') -> ('Coffee',) Support = 0.002 Confidence = 0.714 Lift = 1.504\n",
      "22: ('Cake', 'Vegan mincepie') -> ('Coffee',) Support = 0.001 Confidence = 0.833 Lift = 1.754\n",
      "23: ('Cookies', 'Hot chocolate') -> ('Coffee',) Support = 0.004 Confidence = 0.614 Lift = 1.292\n",
      "24: ('Cookies', 'Juice') -> ('Coffee',) Support = 0.004 Confidence = 0.603 Lift = 1.270\n",
      "25: ('Cookies', 'Medialuna') -> ('Coffee',) Support = 0.002 Confidence = 0.667 Lift = 1.403\n",
      "26: ('Cookies', 'NONE') -> ('Coffee',) Support = 0.002 Confidence = 0.741 Lift = 1.559\n",
      "27: ('Cookies', 'Pastry') -> ('Coffee',) Support = 0.002 Confidence = 0.607 Lift = 1.278\n",
      "28: ('Cookies', 'Scone') -> ('Coffee',) Support = 0.002 Confidence = 0.789 Lift = 1.662\n",
      "29: ('Extra Salami or Feta', 'NONE') -> ('Coffee',) Support = 0.001 Confidence = 0.765 Lift = 1.610\n",
      "30: ('Extra Salami or Feta', 'Salad') -> ('Coffee',) Support = 0.001 Confidence = 0.875 Lift = 1.842\n",
      "31: ('Hearty & Seasonal', 'Sandwich') -> ('Coffee',) Support = 0.001 Confidence = 0.857 Lift = 1.804\n",
      "32: ('Hot chocolate', 'Medialuna') -> ('Coffee',) Support = 0.003 Confidence = 0.644 Lift = 1.356\n",
      "33: ('Hot chocolate', 'NONE') -> ('Coffee',) Support = 0.004 Confidence = 0.621 Lift = 1.306\n",
      "34: ('Hot chocolate', 'Pastry') -> ('Coffee',) Support = 0.004 Confidence = 0.667 Lift = 1.403\n",
      "35: ('Hot chocolate', 'Scone') -> ('Coffee',) Support = 0.002 Confidence = 0.607 Lift = 1.278\n",
      "36: ('Jammie Dodgers', 'Juice') -> ('Coffee',) Support = 0.001 Confidence = 0.650 Lift = 1.368\n",
      "37: ('Juice', 'NONE') -> ('Coffee',) Support = 0.004 Confidence = 0.661 Lift = 1.391\n",
      "38: ('Juice', 'Pastry') -> ('Coffee',) Support = 0.002 Confidence = 0.773 Lift = 1.627\n",
      "39: ('Juice', 'Scone') -> ('Coffee',) Support = 0.001 Confidence = 0.632 Lift = 1.329\n",
      "40: ('Juice', 'Spanish Brunch') -> ('Coffee',) Support = 0.002 Confidence = 0.731 Lift = 1.538\n",
      "41: ('Juice', 'Toast') -> ('Coffee',) Support = 0.002 Confidence = 0.682 Lift = 1.435\n",
      "42: ('Keeping It Local', 'Tea') -> ('Coffee',) Support = 0.001 Confidence = 0.647 Lift = 1.362\n",
      "43: ('Medialuna', 'NONE') -> ('Coffee',) Support = 0.003 Confidence = 0.684 Lift = 1.440\n",
      "44: ('Medialuna', 'Sandwich') -> ('Coffee',) Support = 0.001 Confidence = 0.650 Lift = 1.368\n",
      "45: ('Medialuna', 'Toast') -> ('Coffee',) Support = 0.001 Confidence = 0.611 Lift = 1.286\n",
      "46: ('Muffin', 'NONE') -> ('Coffee',) Support = 0.001 Confidence = 0.619 Lift = 1.303\n",
      "47: ('Muffin', 'Sandwich') -> ('Coffee',) Support = 0.001 Confidence = 0.650 Lift = 1.368\n",
      "48: ('NONE', 'Pastry') -> ('Coffee',) Support = 0.003 Confidence = 0.636 Lift = 1.339\n",
      "49: ('NONE', 'Scone') -> ('Coffee',) Support = 0.002 Confidence = 0.833 Lift = 1.754\n",
      "50: ('NONE', 'Soup') -> ('Coffee',) Support = 0.001 Confidence = 0.625 Lift = 1.316\n",
      "51: ('NONE', 'Spanish Brunch') -> ('Coffee',) Support = 0.002 Confidence = 0.676 Lift = 1.424\n",
      "52: ('NONE', 'Tartine') -> ('Coffee',) Support = 0.001 Confidence = 0.923 Lift = 1.943\n",
      "53: ('NONE', 'Toast') -> ('Coffee',) Support = 0.003 Confidence = 0.750 Lift = 1.579\n",
      "54: ('Pastry', 'Toast') -> ('Coffee',) Support = 0.001 Confidence = 0.867 Lift = 1.824\n",
      "55: ('Salad', 'Sandwich') -> ('Coffee',) Support = 0.002 Confidence = 0.833 Lift = 1.754\n",
      "56: ('Sandwich', 'Soup') -> ('Coffee',) Support = 0.004 Confidence = 0.654 Lift = 1.376\n",
      "57: ('Sandwich', 'Spanish Brunch') -> ('Coffee',) Support = 0.001 Confidence = 0.667 Lift = 1.403\n",
      "58: ('Bread', 'Hot chocolate', 'Pastry') -> ('Coffee',) Support = 0.001 Confidence = 0.667 Lift = 1.403\n",
      "59: ('Cake', 'Sandwich', 'Tea') -> ('Coffee',) Support = 0.001 Confidence = 0.714 Lift = 1.504\n",
      "60: ('Hot chocolate', 'Medialuna', 'NONE') -> ('Coffee',) Support = 0.001 Confidence = 0.909 Lift = 1.914\n"
     ]
    },
    {
     "data": {
      "application/vnd.plotly.v1+json": {
       "data": [
        {
         "marker": {
          "color": [
           1.4401966710061374,
           1.2717121245583036,
           1.7171575692765482,
           1.2779767163048965,
           1.7039689550731953,
           1.3182219723739157,
           1.3270039560608387,
           1.4826988465897728,
           1.3727627131663849,
           1.2863295053003534,
           1.315564266784452,
           1.2812451989552927,
           1.3394836170896243,
           1.266839664310954,
           1.4433619384149419,
           1.403268551236749,
           1.6191560206577875,
           1.424857298178853,
           1.2629416961130742,
           1.4032685512367493,
           1.4351610183103116,
           1.5035020191822313,
           1.7540856890459364,
           1.2924841919285848,
           1.2701999817229195,
           1.403268551236749,
           1.5591872791519437,
           1.2779767163048965,
           1.661765389622466,
           1.6096315734774476,
           1.8417899734982335,
           1.8042024230186773,
           1.3564929328621906,
           1.3064914097721458,
           1.403268551236749,
           1.2779767163048965,
           1.3681868374558304,
           1.391376444870336,
           1.6265158207516865,
           1.3294123116979728,
           1.5381982196248982,
           1.4351610183103116,
           1.3619959467886094,
           1.4401966710061374,
           1.3681868374558304,
           1.2863295053003534,
           1.3030350832912672,
           1.3681868374558304,
           1.3394836170896243,
           1.7540856890459364,
           1.3155642667844525,
           1.423904853460819,
           1.942987224789345,
           1.578677120141343,
           1.824249116607774,
           1.7540856890459364,
           1.3762826175591194,
           1.403268551236749,
           1.4032685512367493,
           1.5035020191822313,
           1.913548024413749
          ],
          "colorbar": {
           "title": {
            "text": "Lift"
           }
          },
          "colorscale": [
           [
            0.0,
            "rgb(243, 224, 247)"
           ],
           [
            0.16666666666666666,
            "rgb(228, 199, 241)"
           ],
           [
            0.3333333333333333,
            "rgb(209, 175, 232)"
           ],
           [
            0.5,
            "rgb(185, 152, 221)"
           ],
           [
            0.6666666666666666,
            "rgb(159, 130, 206)"
           ],
           [
            0.8333333333333334,
            "rgb(130, 109, 186)"
           ],
           [
            1.0,
            "rgb(99, 88, 159)"
           ]
          ]
         },
         "mode": "markers",
         "text": [
          "['Art Tray'] => ['Coffee'], Lift: 1.4401966710061374",
          "['Bakewell'] => ['Coffee'], Lift: 1.2717121245583036",
          "['Extra Salami or Feta'] => ['Coffee'], Lift: 1.7171575692765482",
          "['Granola'] => ['Coffee'], Lift: 1.2779767163048965",
          "['Keeping It Local'] => ['Coffee'], Lift: 1.7039689550731953",
          "['Salad'] => ['Coffee'], Lift: 1.3182219723739157",
          "['Tartine'] => ['Coffee'], Lift: 1.3270039560608387",
          "['Toast'] => ['Coffee'], Lift: 1.4826988465897728",
          "['Alfajores, Cookies'] => ['Coffee'], Lift: 1.3727627131663849",
          "['Alfajores, NONE'] => ['Coffee'], Lift: 1.2863295053003534",
          "['Brownie, Cookies'] => ['Coffee'], Lift: 1.315564266784452",
          "['Brownie, NONE'] => ['Coffee'], Lift: 1.2812451989552927",
          "['Brownie, Sandwich'] => ['Coffee'], Lift: 1.3394836170896243",
          "['Cake, Hot chocolate'] => ['Coffee'], Lift: 1.266839664310954",
          "['Cake, Medialuna'] => ['Coffee'], Lift: 1.4433619384149419",
          "['Cake, NONE'] => ['Coffee'], Lift: 1.403268551236749",
          "['Cake, Salad'] => ['Coffee'], Lift: 1.6191560206577875",
          "['Cake, Sandwich'] => ['Coffee'], Lift: 1.424857298178853",
          "['Cake, Scone'] => ['Coffee'], Lift: 1.2629416961130742",
          "['Cake, Smoothies'] => ['Coffee'], Lift: 1.4032685512367493",
          "['Cake, Tiffin'] => ['Coffee'], Lift: 1.4351610183103116",
          "['Cake, Toast'] => ['Coffee'], Lift: 1.5035020191822313",
          "['Cake, Vegan mincepie'] => ['Coffee'], Lift: 1.7540856890459364",
          "['Cookies, Hot chocolate'] => ['Coffee'], Lift: 1.2924841919285848",
          "['Cookies, Juice'] => ['Coffee'], Lift: 1.2701999817229195",
          "['Cookies, Medialuna'] => ['Coffee'], Lift: 1.403268551236749",
          "['Cookies, NONE'] => ['Coffee'], Lift: 1.5591872791519437",
          "['Cookies, Pastry'] => ['Coffee'], Lift: 1.2779767163048965",
          "['Cookies, Scone'] => ['Coffee'], Lift: 1.661765389622466",
          "['Extra Salami or Feta, NONE'] => ['Coffee'], Lift: 1.6096315734774476",
          "['Extra Salami or Feta, Salad'] => ['Coffee'], Lift: 1.8417899734982335",
          "['Hearty & Seasonal, Sandwich'] => ['Coffee'], Lift: 1.8042024230186773",
          "['Hot chocolate, Medialuna'] => ['Coffee'], Lift: 1.3564929328621906",
          "['Hot chocolate, NONE'] => ['Coffee'], Lift: 1.3064914097721458",
          "['Hot chocolate, Pastry'] => ['Coffee'], Lift: 1.403268551236749",
          "['Hot chocolate, Scone'] => ['Coffee'], Lift: 1.2779767163048965",
          "['Jammie Dodgers, Juice'] => ['Coffee'], Lift: 1.3681868374558304",
          "['Juice, NONE'] => ['Coffee'], Lift: 1.391376444870336",
          "['Juice, Pastry'] => ['Coffee'], Lift: 1.6265158207516865",
          "['Juice, Scone'] => ['Coffee'], Lift: 1.3294123116979728",
          "['Juice, Spanish Brunch'] => ['Coffee'], Lift: 1.5381982196248982",
          "['Juice, Toast'] => ['Coffee'], Lift: 1.4351610183103116",
          "['Keeping It Local, Tea'] => ['Coffee'], Lift: 1.3619959467886094",
          "['Medialuna, NONE'] => ['Coffee'], Lift: 1.4401966710061374",
          "['Medialuna, Sandwich'] => ['Coffee'], Lift: 1.3681868374558304",
          "['Medialuna, Toast'] => ['Coffee'], Lift: 1.2863295053003534",
          "['Muffin, NONE'] => ['Coffee'], Lift: 1.3030350832912672",
          "['Muffin, Sandwich'] => ['Coffee'], Lift: 1.3681868374558304",
          "['NONE, Pastry'] => ['Coffee'], Lift: 1.3394836170896243",
          "['NONE, Scone'] => ['Coffee'], Lift: 1.7540856890459364",
          "['NONE, Soup'] => ['Coffee'], Lift: 1.3155642667844525",
          "['NONE, Spanish Brunch'] => ['Coffee'], Lift: 1.423904853460819",
          "['NONE, Tartine'] => ['Coffee'], Lift: 1.942987224789345",
          "['NONE, Toast'] => ['Coffee'], Lift: 1.578677120141343",
          "['Pastry, Toast'] => ['Coffee'], Lift: 1.824249116607774",
          "['Salad, Sandwich'] => ['Coffee'], Lift: 1.7540856890459364",
          "['Sandwich, Soup'] => ['Coffee'], Lift: 1.3762826175591194",
          "['Sandwich, Spanish Brunch'] => ['Coffee'], Lift: 1.403268551236749",
          "['Bread, Hot chocolate, Pastry'] => ['Coffee'], Lift: 1.4032685512367493",
          "['Cake, Sandwich, Tea'] => ['Coffee'], Lift: 1.5035020191822313",
          "['Hot chocolate, Medialuna, NONE'] => ['Coffee'], Lift: 1.913548024413749"
         ],
         "x": [
          0.0027279404049942294,
          0.0030427027594166402,
          0.003252544329031581,
          0.0017836533417269962,
          0.0053509600251809885,
          0.006505088658063162,
          0.0030427027594166402,
          0.023502255796873362,
          0.0015738117721120553,
          0.001154128632882174,
          0.0015738117721120553,
          0.0014688909873045851,
          0.0014688909873045851,
          0.006819851012485573,
          0.0025180988353792886,
          0.0033574651138390515,
          0.0010492078480747037,
          0.004616514531528696,
          0.0028328611898017,
          0.0010492078480747037,
          0.0015738117721120553,
          0.0015738117721120553,
          0.0010492078480747037,
          0.0036722274682614627,
          0.0036722274682614627,
          0.0016787325569195257,
          0.0020984156961494074,
          0.0017836533417269962,
          0.0015738117721120553,
          0.0013639702024971147,
          0.0014688909873045851,
          0.0012590494176896443,
          0.0030427027594166402,
          0.003777148253068933,
          0.003777148253068933,
          0.0017836533417269962,
          0.0013639702024971147,
          0.004091910607491344,
          0.0017836533417269962,
          0.0012590494176896443,
          0.001993494911341937,
          0.0015738117721120553,
          0.001154128632882174,
          0.0027279404049942294,
          0.0013639702024971147,
          0.001154128632882174,
          0.0013639702024971147,
          0.0013639702024971147,
          0.0029377819746091703,
          0.0015738117721120553,
          0.0010492078480747037,
          0.002413178050571818,
          0.0012590494176896443,
          0.0028328611898017,
          0.0013639702024971147,
          0.0015738117721120553,
          0.0035673066834539923,
          0.0012590494176896443,
          0.0010492078480747037,
          0.0010492078480747037,
          0.0010492078480747037
         ],
         "y": [
          0.6842105263157895,
          0.6041666666666666,
          0.8157894736842105,
          0.6071428571428571,
          0.8095238095238095,
          0.6262626262626263,
          0.6304347826086957,
          0.7044025157232704,
          0.6521739130434783,
          0.6111111111111112,
          0.625,
          0.6086956521739131,
          0.6363636363636364,
          0.6018518518518519,
          0.6857142857142857,
          0.6666666666666666,
          0.7692307692307693,
          0.676923076923077,
          0.6,
          0.6666666666666666,
          0.6818181818181818,
          0.7142857142857143,
          0.8333333333333334,
          0.6140350877192983,
          0.603448275862069,
          0.6666666666666666,
          0.7407407407407407,
          0.6071428571428571,
          0.7894736842105263,
          0.7647058823529411,
          0.875,
          0.8571428571428571,
          0.6444444444444445,
          0.6206896551724138,
          0.6666666666666666,
          0.6071428571428571,
          0.65,
          0.6610169491525424,
          0.7727272727272727,
          0.631578947368421,
          0.7307692307692307,
          0.6818181818181818,
          0.6470588235294118,
          0.6842105263157895,
          0.65,
          0.6111111111111112,
          0.6190476190476191,
          0.65,
          0.6363636363636364,
          0.8333333333333334,
          0.625,
          0.6764705882352942,
          0.9230769230769231,
          0.75,
          0.8666666666666667,
          0.8333333333333334,
          0.6538461538461539,
          0.6666666666666666,
          0.6666666666666666,
          0.7142857142857143,
          0.9090909090909091
         ],
         "type": "scatter"
        }
       ],
       "layout": {
        "template": {
         "data": {
          "histogram2dcontour": [
           {
            "type": "histogram2dcontour",
            "colorbar": {
             "outlinewidth": 0,
             "ticks": ""
            },
            "colorscale": [
             [
              0.0,
              "#0d0887"
             ],
             [
              0.1111111111111111,
              "#46039f"
             ],
             [
              0.2222222222222222,
              "#7201a8"
             ],
             [
              0.3333333333333333,
              "#9c179e"
             ],
             [
              0.4444444444444444,
              "#bd3786"
             ],
             [
              0.5555555555555556,
              "#d8576b"
             ],
             [
              0.6666666666666666,
              "#ed7953"
             ],
             [
              0.7777777777777778,
              "#fb9f3a"
             ],
             [
              0.8888888888888888,
              "#fdca26"
             ],
             [
              1.0,
              "#f0f921"
             ]
            ]
           }
          ],
          "choropleth": [
           {
            "type": "choropleth",
            "colorbar": {
             "outlinewidth": 0,
             "ticks": ""
            }
           }
          ],
          "histogram2d": [
           {
            "type": "histogram2d",
            "colorbar": {
             "outlinewidth": 0,
             "ticks": ""
            },
            "colorscale": [
             [
              0.0,
              "#0d0887"
             ],
             [
              0.1111111111111111,
              "#46039f"
             ],
             [
              0.2222222222222222,
              "#7201a8"
             ],
             [
              0.3333333333333333,
              "#9c179e"
             ],
             [
              0.4444444444444444,
              "#bd3786"
             ],
             [
              0.5555555555555556,
              "#d8576b"
             ],
             [
              0.6666666666666666,
              "#ed7953"
             ],
             [
              0.7777777777777778,
              "#fb9f3a"
             ],
             [
              0.8888888888888888,
              "#fdca26"
             ],
             [
              1.0,
              "#f0f921"
             ]
            ]
           }
          ],
          "heatmap": [
           {
            "type": "heatmap",
            "colorbar": {
             "outlinewidth": 0,
             "ticks": ""
            },
            "colorscale": [
             [
              0.0,
              "#0d0887"
             ],
             [
              0.1111111111111111,
              "#46039f"
             ],
             [
              0.2222222222222222,
              "#7201a8"
             ],
             [
              0.3333333333333333,
              "#9c179e"
             ],
             [
              0.4444444444444444,
              "#bd3786"
             ],
             [
              0.5555555555555556,
              "#d8576b"
             ],
             [
              0.6666666666666666,
              "#ed7953"
             ],
             [
              0.7777777777777778,
              "#fb9f3a"
             ],
             [
              0.8888888888888888,
              "#fdca26"
             ],
             [
              1.0,
              "#f0f921"
             ]
            ]
           }
          ],
          "heatmapgl": [
           {
            "type": "heatmapgl",
            "colorbar": {
             "outlinewidth": 0,
             "ticks": ""
            },
            "colorscale": [
             [
              0.0,
              "#0d0887"
             ],
             [
              0.1111111111111111,
              "#46039f"
             ],
             [
              0.2222222222222222,
              "#7201a8"
             ],
             [
              0.3333333333333333,
              "#9c179e"
             ],
             [
              0.4444444444444444,
              "#bd3786"
             ],
             [
              0.5555555555555556,
              "#d8576b"
             ],
             [
              0.6666666666666666,
              "#ed7953"
             ],
             [
              0.7777777777777778,
              "#fb9f3a"
             ],
             [
              0.8888888888888888,
              "#fdca26"
             ],
             [
              1.0,
              "#f0f921"
             ]
            ]
           }
          ],
          "contourcarpet": [
           {
            "type": "contourcarpet",
            "colorbar": {
             "outlinewidth": 0,
             "ticks": ""
            }
           }
          ],
          "contour": [
           {
            "type": "contour",
            "colorbar": {
             "outlinewidth": 0,
             "ticks": ""
            },
            "colorscale": [
             [
              0.0,
              "#0d0887"
             ],
             [
              0.1111111111111111,
              "#46039f"
             ],
             [
              0.2222222222222222,
              "#7201a8"
             ],
             [
              0.3333333333333333,
              "#9c179e"
             ],
             [
              0.4444444444444444,
              "#bd3786"
             ],
             [
              0.5555555555555556,
              "#d8576b"
             ],
             [
              0.6666666666666666,
              "#ed7953"
             ],
             [
              0.7777777777777778,
              "#fb9f3a"
             ],
             [
              0.8888888888888888,
              "#fdca26"
             ],
             [
              1.0,
              "#f0f921"
             ]
            ]
           }
          ],
          "surface": [
           {
            "type": "surface",
            "colorbar": {
             "outlinewidth": 0,
             "ticks": ""
            },
            "colorscale": [
             [
              0.0,
              "#0d0887"
             ],
             [
              0.1111111111111111,
              "#46039f"
             ],
             [
              0.2222222222222222,
              "#7201a8"
             ],
             [
              0.3333333333333333,
              "#9c179e"
             ],
             [
              0.4444444444444444,
              "#bd3786"
             ],
             [
              0.5555555555555556,
              "#d8576b"
             ],
             [
              0.6666666666666666,
              "#ed7953"
             ],
             [
              0.7777777777777778,
              "#fb9f3a"
             ],
             [
              0.8888888888888888,
              "#fdca26"
             ],
             [
              1.0,
              "#f0f921"
             ]
            ]
           }
          ],
          "mesh3d": [
           {
            "type": "mesh3d",
            "colorbar": {
             "outlinewidth": 0,
             "ticks": ""
            }
           }
          ],
          "scatter": [
           {
            "fillpattern": {
             "fillmode": "overlay",
             "size": 10,
             "solidity": 0.2
            },
            "type": "scatter"
           }
          ],
          "parcoords": [
           {
            "type": "parcoords",
            "line": {
             "colorbar": {
              "outlinewidth": 0,
              "ticks": ""
             }
            }
           }
          ],
          "scatterpolargl": [
           {
            "type": "scatterpolargl",
            "marker": {
             "colorbar": {
              "outlinewidth": 0,
              "ticks": ""
             }
            }
           }
          ],
          "bar": [
           {
            "error_x": {
             "color": "#2a3f5f"
            },
            "error_y": {
             "color": "#2a3f5f"
            },
            "marker": {
             "line": {
              "color": "#E5ECF6",
              "width": 0.5
             },
             "pattern": {
              "fillmode": "overlay",
              "size": 10,
              "solidity": 0.2
             }
            },
            "type": "bar"
           }
          ],
          "scattergeo": [
           {
            "type": "scattergeo",
            "marker": {
             "colorbar": {
              "outlinewidth": 0,
              "ticks": ""
             }
            }
           }
          ],
          "scatterpolar": [
           {
            "type": "scatterpolar",
            "marker": {
             "colorbar": {
              "outlinewidth": 0,
              "ticks": ""
             }
            }
           }
          ],
          "histogram": [
           {
            "marker": {
             "pattern": {
              "fillmode": "overlay",
              "size": 10,
              "solidity": 0.2
             }
            },
            "type": "histogram"
           }
          ],
          "scattergl": [
           {
            "type": "scattergl",
            "marker": {
             "colorbar": {
              "outlinewidth": 0,
              "ticks": ""
             }
            }
           }
          ],
          "scatter3d": [
           {
            "type": "scatter3d",
            "line": {
             "colorbar": {
              "outlinewidth": 0,
              "ticks": ""
             }
            },
            "marker": {
             "colorbar": {
              "outlinewidth": 0,
              "ticks": ""
             }
            }
           }
          ],
          "scattermapbox": [
           {
            "type": "scattermapbox",
            "marker": {
             "colorbar": {
              "outlinewidth": 0,
              "ticks": ""
             }
            }
           }
          ],
          "scatterternary": [
           {
            "type": "scatterternary",
            "marker": {
             "colorbar": {
              "outlinewidth": 0,
              "ticks": ""
             }
            }
           }
          ],
          "scattercarpet": [
           {
            "type": "scattercarpet",
            "marker": {
             "colorbar": {
              "outlinewidth": 0,
              "ticks": ""
             }
            }
           }
          ],
          "carpet": [
           {
            "aaxis": {
             "endlinecolor": "#2a3f5f",
             "gridcolor": "white",
             "linecolor": "white",
             "minorgridcolor": "white",
             "startlinecolor": "#2a3f5f"
            },
            "baxis": {
             "endlinecolor": "#2a3f5f",
             "gridcolor": "white",
             "linecolor": "white",
             "minorgridcolor": "white",
             "startlinecolor": "#2a3f5f"
            },
            "type": "carpet"
           }
          ],
          "table": [
           {
            "cells": {
             "fill": {
              "color": "#EBF0F8"
             },
             "line": {
              "color": "white"
             }
            },
            "header": {
             "fill": {
              "color": "#C8D4E3"
             },
             "line": {
              "color": "white"
             }
            },
            "type": "table"
           }
          ],
          "barpolar": [
           {
            "marker": {
             "line": {
              "color": "#E5ECF6",
              "width": 0.5
             },
             "pattern": {
              "fillmode": "overlay",
              "size": 10,
              "solidity": 0.2
             }
            },
            "type": "barpolar"
           }
          ],
          "pie": [
           {
            "automargin": true,
            "type": "pie"
           }
          ]
         },
         "layout": {
          "autotypenumbers": "strict",
          "colorway": [
           "#636efa",
           "#EF553B",
           "#00cc96",
           "#ab63fa",
           "#FFA15A",
           "#19d3f3",
           "#FF6692",
           "#B6E880",
           "#FF97FF",
           "#FECB52"
          ],
          "font": {
           "color": "#2a3f5f"
          },
          "hovermode": "closest",
          "hoverlabel": {
           "align": "left"
          },
          "paper_bgcolor": "white",
          "plot_bgcolor": "#E5ECF6",
          "polar": {
           "bgcolor": "#E5ECF6",
           "angularaxis": {
            "gridcolor": "white",
            "linecolor": "white",
            "ticks": ""
           },
           "radialaxis": {
            "gridcolor": "white",
            "linecolor": "white",
            "ticks": ""
           }
          },
          "ternary": {
           "bgcolor": "#E5ECF6",
           "aaxis": {
            "gridcolor": "white",
            "linecolor": "white",
            "ticks": ""
           },
           "baxis": {
            "gridcolor": "white",
            "linecolor": "white",
            "ticks": ""
           },
           "caxis": {
            "gridcolor": "white",
            "linecolor": "white",
            "ticks": ""
           }
          },
          "coloraxis": {
           "colorbar": {
            "outlinewidth": 0,
            "ticks": ""
           }
          },
          "colorscale": {
           "sequential": [
            [
             0.0,
             "#0d0887"
            ],
            [
             0.1111111111111111,
             "#46039f"
            ],
            [
             0.2222222222222222,
             "#7201a8"
            ],
            [
             0.3333333333333333,
             "#9c179e"
            ],
            [
             0.4444444444444444,
             "#bd3786"
            ],
            [
             0.5555555555555556,
             "#d8576b"
            ],
            [
             0.6666666666666666,
             "#ed7953"
            ],
            [
             0.7777777777777778,
             "#fb9f3a"
            ],
            [
             0.8888888888888888,
             "#fdca26"
            ],
            [
             1.0,
             "#f0f921"
            ]
           ],
           "sequentialminus": [
            [
             0.0,
             "#0d0887"
            ],
            [
             0.1111111111111111,
             "#46039f"
            ],
            [
             0.2222222222222222,
             "#7201a8"
            ],
            [
             0.3333333333333333,
             "#9c179e"
            ],
            [
             0.4444444444444444,
             "#bd3786"
            ],
            [
             0.5555555555555556,
             "#d8576b"
            ],
            [
             0.6666666666666666,
             "#ed7953"
            ],
            [
             0.7777777777777778,
             "#fb9f3a"
            ],
            [
             0.8888888888888888,
             "#fdca26"
            ],
            [
             1.0,
             "#f0f921"
            ]
           ],
           "diverging": [
            [
             0,
             "#8e0152"
            ],
            [
             0.1,
             "#c51b7d"
            ],
            [
             0.2,
             "#de77ae"
            ],
            [
             0.3,
             "#f1b6da"
            ],
            [
             0.4,
             "#fde0ef"
            ],
            [
             0.5,
             "#f7f7f7"
            ],
            [
             0.6,
             "#e6f5d0"
            ],
            [
             0.7,
             "#b8e186"
            ],
            [
             0.8,
             "#7fbc41"
            ],
            [
             0.9,
             "#4d9221"
            ],
            [
             1,
             "#276419"
            ]
           ]
          },
          "xaxis": {
           "gridcolor": "white",
           "linecolor": "white",
           "ticks": "",
           "title": {
            "standoff": 15
           },
           "zerolinecolor": "white",
           "automargin": true,
           "zerolinewidth": 2
          },
          "yaxis": {
           "gridcolor": "white",
           "linecolor": "white",
           "ticks": "",
           "title": {
            "standoff": 15
           },
           "zerolinecolor": "white",
           "automargin": true,
           "zerolinewidth": 2
          },
          "scene": {
           "xaxis": {
            "backgroundcolor": "#E5ECF6",
            "gridcolor": "white",
            "linecolor": "white",
            "showbackground": true,
            "ticks": "",
            "zerolinecolor": "white",
            "gridwidth": 2
           },
           "yaxis": {
            "backgroundcolor": "#E5ECF6",
            "gridcolor": "white",
            "linecolor": "white",
            "showbackground": true,
            "ticks": "",
            "zerolinecolor": "white",
            "gridwidth": 2
           },
           "zaxis": {
            "backgroundcolor": "#E5ECF6",
            "gridcolor": "white",
            "linecolor": "white",
            "showbackground": true,
            "ticks": "",
            "zerolinecolor": "white",
            "gridwidth": 2
           }
          },
          "shapedefaults": {
           "line": {
            "color": "#2a3f5f"
           }
          },
          "annotationdefaults": {
           "arrowcolor": "#2a3f5f",
           "arrowhead": 0,
           "arrowwidth": 1
          },
          "geo": {
           "bgcolor": "white",
           "landcolor": "#E5ECF6",
           "subunitcolor": "white",
           "showland": true,
           "showlakes": true,
           "lakecolor": "white"
          },
          "title": {
           "x": 0.05
          },
          "mapbox": {
           "style": "light"
          }
         }
        },
        "xaxis": {
         "title": {
          "text": "Support"
         },
         "autorange": "reversed"
        },
        "title": {
         "text": "Association Rules Strength Distribution"
        },
        "yaxis": {
         "title": {
          "text": "Confidence"
         }
        }
       },
       "config": {
        "plotlyServerURL": "https://plot.ly"
       }
      },
      "text/html": [
       "<div>                            <div id=\"d2e0e393-ef67-4ca5-af19-ec3afe4b27fa\" class=\"plotly-graph-div\" style=\"height:525px; width:100%;\"></div>            <script type=\"text/javascript\">                require([\"plotly\"], function(Plotly) {                    window.PLOTLYENV=window.PLOTLYENV || {};                                    if (document.getElementById(\"d2e0e393-ef67-4ca5-af19-ec3afe4b27fa\")) {                    Plotly.newPlot(                        \"d2e0e393-ef67-4ca5-af19-ec3afe4b27fa\",                        [{\"marker\":{\"color\":[1.4401966710061374,1.2717121245583036,1.7171575692765482,1.2779767163048965,1.7039689550731953,1.3182219723739157,1.3270039560608387,1.4826988465897728,1.3727627131663849,1.2863295053003534,1.315564266784452,1.2812451989552927,1.3394836170896243,1.266839664310954,1.4433619384149419,1.403268551236749,1.6191560206577875,1.424857298178853,1.2629416961130742,1.4032685512367493,1.4351610183103116,1.5035020191822313,1.7540856890459364,1.2924841919285848,1.2701999817229195,1.403268551236749,1.5591872791519437,1.2779767163048965,1.661765389622466,1.6096315734774476,1.8417899734982335,1.8042024230186773,1.3564929328621906,1.3064914097721458,1.403268551236749,1.2779767163048965,1.3681868374558304,1.391376444870336,1.6265158207516865,1.3294123116979728,1.5381982196248982,1.4351610183103116,1.3619959467886094,1.4401966710061374,1.3681868374558304,1.2863295053003534,1.3030350832912672,1.3681868374558304,1.3394836170896243,1.7540856890459364,1.3155642667844525,1.423904853460819,1.942987224789345,1.578677120141343,1.824249116607774,1.7540856890459364,1.3762826175591194,1.403268551236749,1.4032685512367493,1.5035020191822313,1.913548024413749],\"colorbar\":{\"title\":{\"text\":\"Lift\"}},\"colorscale\":[[0.0,\"rgb(243, 224, 247)\"],[0.16666666666666666,\"rgb(228, 199, 241)\"],[0.3333333333333333,\"rgb(209, 175, 232)\"],[0.5,\"rgb(185, 152, 221)\"],[0.6666666666666666,\"rgb(159, 130, 206)\"],[0.8333333333333334,\"rgb(130, 109, 186)\"],[1.0,\"rgb(99, 88, 159)\"]]},\"mode\":\"markers\",\"text\":[\"['Art Tray'] =\\u003e ['Coffee'], Lift: 1.4401966710061374\",\"['Bakewell'] =\\u003e ['Coffee'], Lift: 1.2717121245583036\",\"['Extra Salami or Feta'] =\\u003e ['Coffee'], Lift: 1.7171575692765482\",\"['Granola'] =\\u003e ['Coffee'], Lift: 1.2779767163048965\",\"['Keeping It Local'] =\\u003e ['Coffee'], Lift: 1.7039689550731953\",\"['Salad'] =\\u003e ['Coffee'], Lift: 1.3182219723739157\",\"['Tartine'] =\\u003e ['Coffee'], Lift: 1.3270039560608387\",\"['Toast'] =\\u003e ['Coffee'], Lift: 1.4826988465897728\",\"['Alfajores, Cookies'] =\\u003e ['Coffee'], Lift: 1.3727627131663849\",\"['Alfajores, NONE'] =\\u003e ['Coffee'], Lift: 1.2863295053003534\",\"['Brownie, Cookies'] =\\u003e ['Coffee'], Lift: 1.315564266784452\",\"['Brownie, NONE'] =\\u003e ['Coffee'], Lift: 1.2812451989552927\",\"['Brownie, Sandwich'] =\\u003e ['Coffee'], Lift: 1.3394836170896243\",\"['Cake, Hot chocolate'] =\\u003e ['Coffee'], Lift: 1.266839664310954\",\"['Cake, Medialuna'] =\\u003e ['Coffee'], Lift: 1.4433619384149419\",\"['Cake, NONE'] =\\u003e ['Coffee'], Lift: 1.403268551236749\",\"['Cake, Salad'] =\\u003e ['Coffee'], Lift: 1.6191560206577875\",\"['Cake, Sandwich'] =\\u003e ['Coffee'], Lift: 1.424857298178853\",\"['Cake, Scone'] =\\u003e ['Coffee'], Lift: 1.2629416961130742\",\"['Cake, Smoothies'] =\\u003e ['Coffee'], Lift: 1.4032685512367493\",\"['Cake, Tiffin'] =\\u003e ['Coffee'], Lift: 1.4351610183103116\",\"['Cake, Toast'] =\\u003e ['Coffee'], Lift: 1.5035020191822313\",\"['Cake, Vegan mincepie'] =\\u003e ['Coffee'], Lift: 1.7540856890459364\",\"['Cookies, Hot chocolate'] =\\u003e ['Coffee'], Lift: 1.2924841919285848\",\"['Cookies, Juice'] =\\u003e ['Coffee'], Lift: 1.2701999817229195\",\"['Cookies, Medialuna'] =\\u003e ['Coffee'], Lift: 1.403268551236749\",\"['Cookies, NONE'] =\\u003e ['Coffee'], Lift: 1.5591872791519437\",\"['Cookies, Pastry'] =\\u003e ['Coffee'], Lift: 1.2779767163048965\",\"['Cookies, Scone'] =\\u003e ['Coffee'], Lift: 1.661765389622466\",\"['Extra Salami or Feta, NONE'] =\\u003e ['Coffee'], Lift: 1.6096315734774476\",\"['Extra Salami or Feta, Salad'] =\\u003e ['Coffee'], Lift: 1.8417899734982335\",\"['Hearty & Seasonal, Sandwich'] =\\u003e ['Coffee'], Lift: 1.8042024230186773\",\"['Hot chocolate, Medialuna'] =\\u003e ['Coffee'], Lift: 1.3564929328621906\",\"['Hot chocolate, NONE'] =\\u003e ['Coffee'], Lift: 1.3064914097721458\",\"['Hot chocolate, Pastry'] =\\u003e ['Coffee'], Lift: 1.403268551236749\",\"['Hot chocolate, Scone'] =\\u003e ['Coffee'], Lift: 1.2779767163048965\",\"['Jammie Dodgers, Juice'] =\\u003e ['Coffee'], Lift: 1.3681868374558304\",\"['Juice, NONE'] =\\u003e ['Coffee'], Lift: 1.391376444870336\",\"['Juice, Pastry'] =\\u003e ['Coffee'], Lift: 1.6265158207516865\",\"['Juice, Scone'] =\\u003e ['Coffee'], Lift: 1.3294123116979728\",\"['Juice, Spanish Brunch'] =\\u003e ['Coffee'], Lift: 1.5381982196248982\",\"['Juice, Toast'] =\\u003e ['Coffee'], Lift: 1.4351610183103116\",\"['Keeping It Local, Tea'] =\\u003e ['Coffee'], Lift: 1.3619959467886094\",\"['Medialuna, NONE'] =\\u003e ['Coffee'], Lift: 1.4401966710061374\",\"['Medialuna, Sandwich'] =\\u003e ['Coffee'], Lift: 1.3681868374558304\",\"['Medialuna, Toast'] =\\u003e ['Coffee'], Lift: 1.2863295053003534\",\"['Muffin, NONE'] =\\u003e ['Coffee'], Lift: 1.3030350832912672\",\"['Muffin, Sandwich'] =\\u003e ['Coffee'], Lift: 1.3681868374558304\",\"['NONE, Pastry'] =\\u003e ['Coffee'], Lift: 1.3394836170896243\",\"['NONE, Scone'] =\\u003e ['Coffee'], Lift: 1.7540856890459364\",\"['NONE, Soup'] =\\u003e ['Coffee'], Lift: 1.3155642667844525\",\"['NONE, Spanish Brunch'] =\\u003e ['Coffee'], Lift: 1.423904853460819\",\"['NONE, Tartine'] =\\u003e ['Coffee'], Lift: 1.942987224789345\",\"['NONE, Toast'] =\\u003e ['Coffee'], Lift: 1.578677120141343\",\"['Pastry, Toast'] =\\u003e ['Coffee'], Lift: 1.824249116607774\",\"['Salad, Sandwich'] =\\u003e ['Coffee'], Lift: 1.7540856890459364\",\"['Sandwich, Soup'] =\\u003e ['Coffee'], Lift: 1.3762826175591194\",\"['Sandwich, Spanish Brunch'] =\\u003e ['Coffee'], Lift: 1.403268551236749\",\"['Bread, Hot chocolate, Pastry'] =\\u003e ['Coffee'], Lift: 1.4032685512367493\",\"['Cake, Sandwich, Tea'] =\\u003e ['Coffee'], Lift: 1.5035020191822313\",\"['Hot chocolate, Medialuna, NONE'] =\\u003e ['Coffee'], Lift: 1.913548024413749\"],\"x\":[0.0027279404049942294,0.0030427027594166402,0.003252544329031581,0.0017836533417269962,0.0053509600251809885,0.006505088658063162,0.0030427027594166402,0.023502255796873362,0.0015738117721120553,0.001154128632882174,0.0015738117721120553,0.0014688909873045851,0.0014688909873045851,0.006819851012485573,0.0025180988353792886,0.0033574651138390515,0.0010492078480747037,0.004616514531528696,0.0028328611898017,0.0010492078480747037,0.0015738117721120553,0.0015738117721120553,0.0010492078480747037,0.0036722274682614627,0.0036722274682614627,0.0016787325569195257,0.0020984156961494074,0.0017836533417269962,0.0015738117721120553,0.0013639702024971147,0.0014688909873045851,0.0012590494176896443,0.0030427027594166402,0.003777148253068933,0.003777148253068933,0.0017836533417269962,0.0013639702024971147,0.004091910607491344,0.0017836533417269962,0.0012590494176896443,0.001993494911341937,0.0015738117721120553,0.001154128632882174,0.0027279404049942294,0.0013639702024971147,0.001154128632882174,0.0013639702024971147,0.0013639702024971147,0.0029377819746091703,0.0015738117721120553,0.0010492078480747037,0.002413178050571818,0.0012590494176896443,0.0028328611898017,0.0013639702024971147,0.0015738117721120553,0.0035673066834539923,0.0012590494176896443,0.0010492078480747037,0.0010492078480747037,0.0010492078480747037],\"y\":[0.6842105263157895,0.6041666666666666,0.8157894736842105,0.6071428571428571,0.8095238095238095,0.6262626262626263,0.6304347826086957,0.7044025157232704,0.6521739130434783,0.6111111111111112,0.625,0.6086956521739131,0.6363636363636364,0.6018518518518519,0.6857142857142857,0.6666666666666666,0.7692307692307693,0.676923076923077,0.6,0.6666666666666666,0.6818181818181818,0.7142857142857143,0.8333333333333334,0.6140350877192983,0.603448275862069,0.6666666666666666,0.7407407407407407,0.6071428571428571,0.7894736842105263,0.7647058823529411,0.875,0.8571428571428571,0.6444444444444445,0.6206896551724138,0.6666666666666666,0.6071428571428571,0.65,0.6610169491525424,0.7727272727272727,0.631578947368421,0.7307692307692307,0.6818181818181818,0.6470588235294118,0.6842105263157895,0.65,0.6111111111111112,0.6190476190476191,0.65,0.6363636363636364,0.8333333333333334,0.625,0.6764705882352942,0.9230769230769231,0.75,0.8666666666666667,0.8333333333333334,0.6538461538461539,0.6666666666666666,0.6666666666666666,0.7142857142857143,0.9090909090909091],\"type\":\"scatter\"}],                        {\"template\":{\"data\":{\"histogram2dcontour\":[{\"type\":\"histogram2dcontour\",\"colorbar\":{\"outlinewidth\":0,\"ticks\":\"\"},\"colorscale\":[[0.0,\"#0d0887\"],[0.1111111111111111,\"#46039f\"],[0.2222222222222222,\"#7201a8\"],[0.3333333333333333,\"#9c179e\"],[0.4444444444444444,\"#bd3786\"],[0.5555555555555556,\"#d8576b\"],[0.6666666666666666,\"#ed7953\"],[0.7777777777777778,\"#fb9f3a\"],[0.8888888888888888,\"#fdca26\"],[1.0,\"#f0f921\"]]}],\"choropleth\":[{\"type\":\"choropleth\",\"colorbar\":{\"outlinewidth\":0,\"ticks\":\"\"}}],\"histogram2d\":[{\"type\":\"histogram2d\",\"colorbar\":{\"outlinewidth\":0,\"ticks\":\"\"},\"colorscale\":[[0.0,\"#0d0887\"],[0.1111111111111111,\"#46039f\"],[0.2222222222222222,\"#7201a8\"],[0.3333333333333333,\"#9c179e\"],[0.4444444444444444,\"#bd3786\"],[0.5555555555555556,\"#d8576b\"],[0.6666666666666666,\"#ed7953\"],[0.7777777777777778,\"#fb9f3a\"],[0.8888888888888888,\"#fdca26\"],[1.0,\"#f0f921\"]]}],\"heatmap\":[{\"type\":\"heatmap\",\"colorbar\":{\"outlinewidth\":0,\"ticks\":\"\"},\"colorscale\":[[0.0,\"#0d0887\"],[0.1111111111111111,\"#46039f\"],[0.2222222222222222,\"#7201a8\"],[0.3333333333333333,\"#9c179e\"],[0.4444444444444444,\"#bd3786\"],[0.5555555555555556,\"#d8576b\"],[0.6666666666666666,\"#ed7953\"],[0.7777777777777778,\"#fb9f3a\"],[0.8888888888888888,\"#fdca26\"],[1.0,\"#f0f921\"]]}],\"heatmapgl\":[{\"type\":\"heatmapgl\",\"colorbar\":{\"outlinewidth\":0,\"ticks\":\"\"},\"colorscale\":[[0.0,\"#0d0887\"],[0.1111111111111111,\"#46039f\"],[0.2222222222222222,\"#7201a8\"],[0.3333333333333333,\"#9c179e\"],[0.4444444444444444,\"#bd3786\"],[0.5555555555555556,\"#d8576b\"],[0.6666666666666666,\"#ed7953\"],[0.7777777777777778,\"#fb9f3a\"],[0.8888888888888888,\"#fdca26\"],[1.0,\"#f0f921\"]]}],\"contourcarpet\":[{\"type\":\"contourcarpet\",\"colorbar\":{\"outlinewidth\":0,\"ticks\":\"\"}}],\"contour\":[{\"type\":\"contour\",\"colorbar\":{\"outlinewidth\":0,\"ticks\":\"\"},\"colorscale\":[[0.0,\"#0d0887\"],[0.1111111111111111,\"#46039f\"],[0.2222222222222222,\"#7201a8\"],[0.3333333333333333,\"#9c179e\"],[0.4444444444444444,\"#bd3786\"],[0.5555555555555556,\"#d8576b\"],[0.6666666666666666,\"#ed7953\"],[0.7777777777777778,\"#fb9f3a\"],[0.8888888888888888,\"#fdca26\"],[1.0,\"#f0f921\"]]}],\"surface\":[{\"type\":\"surface\",\"colorbar\":{\"outlinewidth\":0,\"ticks\":\"\"},\"colorscale\":[[0.0,\"#0d0887\"],[0.1111111111111111,\"#46039f\"],[0.2222222222222222,\"#7201a8\"],[0.3333333333333333,\"#9c179e\"],[0.4444444444444444,\"#bd3786\"],[0.5555555555555556,\"#d8576b\"],[0.6666666666666666,\"#ed7953\"],[0.7777777777777778,\"#fb9f3a\"],[0.8888888888888888,\"#fdca26\"],[1.0,\"#f0f921\"]]}],\"mesh3d\":[{\"type\":\"mesh3d\",\"colorbar\":{\"outlinewidth\":0,\"ticks\":\"\"}}],\"scatter\":[{\"fillpattern\":{\"fillmode\":\"overlay\",\"size\":10,\"solidity\":0.2},\"type\":\"scatter\"}],\"parcoords\":[{\"type\":\"parcoords\",\"line\":{\"colorbar\":{\"outlinewidth\":0,\"ticks\":\"\"}}}],\"scatterpolargl\":[{\"type\":\"scatterpolargl\",\"marker\":{\"colorbar\":{\"outlinewidth\":0,\"ticks\":\"\"}}}],\"bar\":[{\"error_x\":{\"color\":\"#2a3f5f\"},\"error_y\":{\"color\":\"#2a3f5f\"},\"marker\":{\"line\":{\"color\":\"#E5ECF6\",\"width\":0.5},\"pattern\":{\"fillmode\":\"overlay\",\"size\":10,\"solidity\":0.2}},\"type\":\"bar\"}],\"scattergeo\":[{\"type\":\"scattergeo\",\"marker\":{\"colorbar\":{\"outlinewidth\":0,\"ticks\":\"\"}}}],\"scatterpolar\":[{\"type\":\"scatterpolar\",\"marker\":{\"colorbar\":{\"outlinewidth\":0,\"ticks\":\"\"}}}],\"histogram\":[{\"marker\":{\"pattern\":{\"fillmode\":\"overlay\",\"size\":10,\"solidity\":0.2}},\"type\":\"histogram\"}],\"scattergl\":[{\"type\":\"scattergl\",\"marker\":{\"colorbar\":{\"outlinewidth\":0,\"ticks\":\"\"}}}],\"scatter3d\":[{\"type\":\"scatter3d\",\"line\":{\"colorbar\":{\"outlinewidth\":0,\"ticks\":\"\"}},\"marker\":{\"colorbar\":{\"outlinewidth\":0,\"ticks\":\"\"}}}],\"scattermapbox\":[{\"type\":\"scattermapbox\",\"marker\":{\"colorbar\":{\"outlinewidth\":0,\"ticks\":\"\"}}}],\"scatterternary\":[{\"type\":\"scatterternary\",\"marker\":{\"colorbar\":{\"outlinewidth\":0,\"ticks\":\"\"}}}],\"scattercarpet\":[{\"type\":\"scattercarpet\",\"marker\":{\"colorbar\":{\"outlinewidth\":0,\"ticks\":\"\"}}}],\"carpet\":[{\"aaxis\":{\"endlinecolor\":\"#2a3f5f\",\"gridcolor\":\"white\",\"linecolor\":\"white\",\"minorgridcolor\":\"white\",\"startlinecolor\":\"#2a3f5f\"},\"baxis\":{\"endlinecolor\":\"#2a3f5f\",\"gridcolor\":\"white\",\"linecolor\":\"white\",\"minorgridcolor\":\"white\",\"startlinecolor\":\"#2a3f5f\"},\"type\":\"carpet\"}],\"table\":[{\"cells\":{\"fill\":{\"color\":\"#EBF0F8\"},\"line\":{\"color\":\"white\"}},\"header\":{\"fill\":{\"color\":\"#C8D4E3\"},\"line\":{\"color\":\"white\"}},\"type\":\"table\"}],\"barpolar\":[{\"marker\":{\"line\":{\"color\":\"#E5ECF6\",\"width\":0.5},\"pattern\":{\"fillmode\":\"overlay\",\"size\":10,\"solidity\":0.2}},\"type\":\"barpolar\"}],\"pie\":[{\"automargin\":true,\"type\":\"pie\"}]},\"layout\":{\"autotypenumbers\":\"strict\",\"colorway\":[\"#636efa\",\"#EF553B\",\"#00cc96\",\"#ab63fa\",\"#FFA15A\",\"#19d3f3\",\"#FF6692\",\"#B6E880\",\"#FF97FF\",\"#FECB52\"],\"font\":{\"color\":\"#2a3f5f\"},\"hovermode\":\"closest\",\"hoverlabel\":{\"align\":\"left\"},\"paper_bgcolor\":\"white\",\"plot_bgcolor\":\"#E5ECF6\",\"polar\":{\"bgcolor\":\"#E5ECF6\",\"angularaxis\":{\"gridcolor\":\"white\",\"linecolor\":\"white\",\"ticks\":\"\"},\"radialaxis\":{\"gridcolor\":\"white\",\"linecolor\":\"white\",\"ticks\":\"\"}},\"ternary\":{\"bgcolor\":\"#E5ECF6\",\"aaxis\":{\"gridcolor\":\"white\",\"linecolor\":\"white\",\"ticks\":\"\"},\"baxis\":{\"gridcolor\":\"white\",\"linecolor\":\"white\",\"ticks\":\"\"},\"caxis\":{\"gridcolor\":\"white\",\"linecolor\":\"white\",\"ticks\":\"\"}},\"coloraxis\":{\"colorbar\":{\"outlinewidth\":0,\"ticks\":\"\"}},\"colorscale\":{\"sequential\":[[0.0,\"#0d0887\"],[0.1111111111111111,\"#46039f\"],[0.2222222222222222,\"#7201a8\"],[0.3333333333333333,\"#9c179e\"],[0.4444444444444444,\"#bd3786\"],[0.5555555555555556,\"#d8576b\"],[0.6666666666666666,\"#ed7953\"],[0.7777777777777778,\"#fb9f3a\"],[0.8888888888888888,\"#fdca26\"],[1.0,\"#f0f921\"]],\"sequentialminus\":[[0.0,\"#0d0887\"],[0.1111111111111111,\"#46039f\"],[0.2222222222222222,\"#7201a8\"],[0.3333333333333333,\"#9c179e\"],[0.4444444444444444,\"#bd3786\"],[0.5555555555555556,\"#d8576b\"],[0.6666666666666666,\"#ed7953\"],[0.7777777777777778,\"#fb9f3a\"],[0.8888888888888888,\"#fdca26\"],[1.0,\"#f0f921\"]],\"diverging\":[[0,\"#8e0152\"],[0.1,\"#c51b7d\"],[0.2,\"#de77ae\"],[0.3,\"#f1b6da\"],[0.4,\"#fde0ef\"],[0.5,\"#f7f7f7\"],[0.6,\"#e6f5d0\"],[0.7,\"#b8e186\"],[0.8,\"#7fbc41\"],[0.9,\"#4d9221\"],[1,\"#276419\"]]},\"xaxis\":{\"gridcolor\":\"white\",\"linecolor\":\"white\",\"ticks\":\"\",\"title\":{\"standoff\":15},\"zerolinecolor\":\"white\",\"automargin\":true,\"zerolinewidth\":2},\"yaxis\":{\"gridcolor\":\"white\",\"linecolor\":\"white\",\"ticks\":\"\",\"title\":{\"standoff\":15},\"zerolinecolor\":\"white\",\"automargin\":true,\"zerolinewidth\":2},\"scene\":{\"xaxis\":{\"backgroundcolor\":\"#E5ECF6\",\"gridcolor\":\"white\",\"linecolor\":\"white\",\"showbackground\":true,\"ticks\":\"\",\"zerolinecolor\":\"white\",\"gridwidth\":2},\"yaxis\":{\"backgroundcolor\":\"#E5ECF6\",\"gridcolor\":\"white\",\"linecolor\":\"white\",\"showbackground\":true,\"ticks\":\"\",\"zerolinecolor\":\"white\",\"gridwidth\":2},\"zaxis\":{\"backgroundcolor\":\"#E5ECF6\",\"gridcolor\":\"white\",\"linecolor\":\"white\",\"showbackground\":true,\"ticks\":\"\",\"zerolinecolor\":\"white\",\"gridwidth\":2}},\"shapedefaults\":{\"line\":{\"color\":\"#2a3f5f\"}},\"annotationdefaults\":{\"arrowcolor\":\"#2a3f5f\",\"arrowhead\":0,\"arrowwidth\":1},\"geo\":{\"bgcolor\":\"white\",\"landcolor\":\"#E5ECF6\",\"subunitcolor\":\"white\",\"showland\":true,\"showlakes\":true,\"lakecolor\":\"white\"},\"title\":{\"x\":0.05},\"mapbox\":{\"style\":\"light\"}}},\"xaxis\":{\"title\":{\"text\":\"Support\"},\"autorange\":\"reversed\"},\"title\":{\"text\":\"Association Rules Strength Distribution\"},\"yaxis\":{\"title\":{\"text\":\"Confidence\"}}},                        {\"responsive\": true}                    ).then(function(){\n",
       "                            \n",
       "var gd = document.getElementById('d2e0e393-ef67-4ca5-af19-ec3afe4b27fa');\n",
       "var x = new MutationObserver(function (mutations, observer) {{\n",
       "        var display = window.getComputedStyle(gd).display;\n",
       "        if (!display || display === 'none') {{\n",
       "            console.log([gd, 'removed!']);\n",
       "            Plotly.purge(gd);\n",
       "            observer.disconnect();\n",
       "        }}\n",
       "}});\n",
       "\n",
       "// Listen for the removal of the full notebook cells\n",
       "var notebookContainer = gd.closest('#notebook-container');\n",
       "if (notebookContainer) {{\n",
       "    x.observe(notebookContainer, {childList: true});\n",
       "}}\n",
       "\n",
       "// Listen for the clearing of the current output cell\n",
       "var outputEl = gd.closest('.output');\n",
       "if (outputEl) {{\n",
       "    x.observe(outputEl, {childList: true});\n",
       "}}\n",
       "\n",
       "                        })                };                });            </script>        </div>"
      ]
     },
     "metadata": {},
     "output_type": "display_data",
     "jetTransient": {
      "display_id": null
     }
    },
    {
     "data": {
      "application/vnd.plotly.v1+json": {
       "data": [
        {
         "hoverinfo": "none",
         "line": {
          "color": "#888",
          "width": 0.5
         },
         "mode": "lines",
         "x": [
          0.0885816617892886,
          -0.5287429862590222,
          null,
          0.2637439953093481,
          0.0885816617892886,
          null,
          -0.4010645248256618,
          -0.5287429862590222,
          null,
          -0.5880970347558457,
          -0.4010645248256618,
          null,
          -0.2344582554550625,
          -0.5287429862590222,
          null,
          0.12497303663098502,
          -0.2344582554550625,
          null,
          -0.041087172472315116,
          -0.5287429862590222,
          null,
          0.46308034422117733,
          -0.041087172472315116,
          null,
          0.0011357798444179773,
          -0.5287429862590222,
          null,
          0.5217313681028763,
          0.0011357798444179773,
          null,
          0.21398943455817626,
          -0.5287429862590222,
          null,
          0.7138049501116398,
          0.21398943455817626,
          null,
          -0.5720415317194731,
          -0.5287429862590222,
          null,
          -0.26976652747231433,
          -0.5720415317194731,
          null,
          -0.1041276685846272,
          -0.5287429862590222,
          null,
          0.4413983353369157,
          -0.1041276685846272,
          null,
          0.2323636151422453,
          -0.5287429862590222,
          null,
          0.6685400911845476,
          0.2323636151422453,
          null,
          -0.16725688817340087,
          -0.5287429862590222,
          null,
          -0.04316322024306195,
          -0.16725688817340087,
          null,
          -0.3500674019838395,
          -0.5287429862590222,
          null,
          0.393059590516695,
          -0.3500674019838395,
          null,
          -0.10730927027343229,
          -0.5287429862590222,
          null,
          0.35711604810453923,
          -0.10730927027343229,
          null,
          -0.4182675783847512,
          -0.5287429862590222,
          null,
          -0.624945667452643,
          -0.4182675783847512,
          null,
          -0.7202681624453666,
          -0.5287429862590222,
          null,
          -0.14153128607770193,
          -0.7202681624453666,
          null,
          0.13120282740965525,
          -0.5287429862590222,
          null,
          0.37358296363806104,
          0.13120282740965525,
          null,
          0.204352958731013,
          -0.5287429862590222,
          null,
          0.6115613516653491,
          0.204352958731013,
          null,
          0.0917991975396285,
          -0.5287429862590222,
          null,
          0.46917300143006935,
          0.0917991975396285,
          null,
          0.194446400929931,
          -0.5287429862590222,
          null,
          0.6581299774757419,
          0.194446400929931,
          null,
          -0.32955144589251123,
          -0.5287429862590222,
          null,
          -0.4280242281251151,
          -0.32955144589251123,
          null,
          -0.06023613383078814,
          -0.5287429862590222,
          null,
          0.5083807413443977,
          -0.06023613383078814,
          null,
          0.2646007129625439,
          -0.5287429862590222,
          null,
          0.5771120781206485,
          0.2646007129625439,
          null,
          0.15933998218651912,
          -0.5287429862590222,
          null,
          0.5273340193075389,
          0.15933998218651912,
          null,
          -0.46739675627889815,
          -0.5287429862590222,
          null,
          -0.3388119960257204,
          -0.46739675627889815,
          null,
          -0.11011855043387471,
          -0.5287429862590222,
          null,
          -0.2217212797589083,
          -0.11011855043387471,
          null,
          -0.6516111422366129,
          -0.5287429862590222,
          null,
          -1.0,
          -0.6516111422366129,
          null,
          -0.11934098918778524,
          -0.5287429862590222,
          null,
          0.056458951166645434,
          -0.11934098918778524,
          null,
          0.031988981509205414,
          -0.5287429862590222,
          null,
          0.16379943202533329,
          0.031988981509205414,
          null,
          -0.43411315842843123,
          -0.5287429862590222,
          null,
          0.11153118733029063,
          -0.43411315842843123,
          null,
          -0.019850296345383475,
          -0.5287429862590222,
          null,
          0.043671046501577084,
          -0.019850296345383475,
          null,
          -0.23101219007681714,
          -0.5287429862590222,
          null,
          -0.5292779571907514,
          -0.23101219007681714,
          null,
          0.07865731022981838,
          -0.5287429862590222,
          null,
          0.5412187317678601,
          0.07865731022981838,
          null,
          0.09901208347995179,
          -0.5287429862590222,
          null,
          0.7032106807496621,
          0.09901208347995179,
          null,
          -0.14560074932161235,
          -0.5287429862590222,
          null,
          -0.09804894241546591,
          -0.14560074932161235,
          null,
          -0.5290162240998618,
          -0.5287429862590222,
          null,
          -0.31899845210414673,
          -0.5290162240998618,
          null,
          0.03219213972035575,
          -0.5287429862590222,
          null,
          0.3972851696991477,
          0.03219213972035575,
          null,
          0.045404099166023795,
          -0.5287429862590222,
          null,
          0.6378858087886924,
          0.045404099166023795,
          null,
          -0.030967582675287725,
          -0.5287429862590222,
          null,
          0.6845352774265042,
          -0.030967582675287725,
          null,
          -0.25954844636898117,
          -0.5287429862590222,
          null,
          -0.5741903389015414,
          -0.25954844636898117,
          null,
          -0.34456190286527477,
          -0.5287429862590222,
          null,
          -0.14191279714495927,
          -0.34456190286527477,
          null,
          -0.006704370744099297,
          -0.5287429862590222,
          null,
          0.518265538921779,
          -0.006704370744099297,
          null,
          -0.24501977137647127,
          -0.5287429862590222,
          null,
          -0.5533941165273147,
          -0.24501977137647127,
          null,
          -0.21160253865684447,
          -0.5287429862590222,
          null,
          0.3166456193440197,
          -0.21160253865684447,
          null,
          -0.520634271047722,
          -0.5287429862590222,
          null,
          0.037455796232442086,
          -0.520634271047722,
          null,
          -0.059332158611684296,
          -0.5287429862590222,
          null,
          0.36013779776338695,
          -0.059332158611684296,
          null,
          -0.2761378845660284,
          -0.5287429862590222,
          null,
          0.6068005714067513,
          -0.2761378845660284,
          null,
          -0.6796200153314371,
          -0.5287429862590222,
          null,
          0.016749732416498374,
          -0.6796200153314371,
          null,
          -0.8025425584499137,
          -0.5287429862590222,
          null,
          -0.2507065840161168,
          -0.8025425584499137,
          null,
          0.2611982635211605,
          -0.5287429862590222,
          null,
          0.5577163145360376,
          0.2611982635211605,
          null,
          -0.05049538829897664,
          -0.5287429862590222,
          null,
          0.12064965265439992,
          -0.05049538829897664,
          null,
          0.13433508124798338,
          -0.5287429862590222,
          null,
          0.3731705279019953,
          0.13433508124798338,
          null,
          0.06472912673595216,
          -0.5287429862590222,
          null,
          0.45541539678355797,
          0.06472912673595216,
          null,
          -0.1350149272647331,
          -0.5287429862590222,
          null,
          -0.24182079978697626,
          -0.1350149272647331,
          null,
          -0.17710895112096836,
          -0.5287429862590222,
          null,
          0.25137307539938136,
          -0.17710895112096836,
          null,
          -0.02683661230358938,
          -0.5287429862590222,
          null,
          0.46888095873253205,
          -0.02683661230358938,
          null,
          0.05580287579879536,
          -0.5287429862590222,
          null,
          0.39108003439579114,
          0.05580287579879536,
          null,
          -0.313843893991588,
          -0.5287429862590222,
          null,
          0.3710155927490638,
          -0.313843893991588,
          null,
          -0.31258490397704836,
          -0.5287429862590222,
          null,
          -0.4788191814087593,
          -0.31258490397704836,
          null,
          -0.39588849715872276,
          -0.5287429862590222,
          null,
          -0.288238936161084,
          -0.39588849715872276,
          null,
          0.0925534116755365,
          -0.5287429862590222,
          null,
          0.6468690146991529,
          0.0925534116755365,
          null,
          -0.557440487223586,
          -0.5287429862590222,
          null,
          -0.40180740409042437,
          -0.557440487223586,
          null,
          0.18295534294869858,
          -0.5287429862590222,
          null,
          0.5165158993813622,
          0.18295534294869858,
          null
         ],
         "y": [
          -0.1787467177903017,
          0.5086817785570923,
          null,
          -0.607211454100284,
          -0.1787467177903017,
          null,
          -0.006449878991763653,
          0.5086817785570923,
          null,
          -0.4356002423162758,
          -0.006449878991763653,
          null,
          0.44138213288155154,
          0.5086817785570923,
          null,
          -0.08766499742623549,
          0.44138213288155154,
          null,
          0.1629500295109005,
          0.5086817785570923,
          null,
          -0.09696489262794285,
          0.1629500295109005,
          null,
          0.08714417002270561,
          0.5086817785570923,
          null,
          0.118663375926375,
          0.08714417002270561,
          null,
          -0.11002087023965051,
          0.5086817785570923,
          null,
          -0.4373824713908333,
          -0.11002087023965051,
          null,
          0.20123909539141782,
          0.5086817785570923,
          null,
          -0.34976631982035344,
          0.20123909539141782,
          null,
          0.35276696085645654,
          0.5086817785570923,
          null,
          0.10756333903562124,
          0.35276696085645654,
          null,
          -0.05415905306389258,
          0.5086817785570923,
          null,
          -0.43449494727058596,
          -0.05415905306389258,
          null,
          0.2833298342554918,
          0.5086817785570923,
          null,
          0.6632270149235907,
          0.2833298342554918,
          null,
          0.5983176718363821,
          0.5086817785570923,
          null,
          0.2054500271492011,
          0.5983176718363821,
          null,
          0.27586272731956707,
          0.5086817785570923,
          null,
          0.11569976429862397,
          0.27586272731956707,
          null,
          0.17500047775847033,
          0.5086817785570923,
          null,
          -0.19287241083196618,
          0.17500047775847033,
          null,
          0.49431912181220355,
          0.5086817785570923,
          null,
          -0.2714890410730234,
          0.49431912181220355,
          null,
          -0.15293808659247007,
          0.5086817785570923,
          null,
          -0.6189422486809882,
          -0.15293808659247007,
          null,
          -0.2734142637165382,
          0.5086817785570923,
          null,
          -0.6121830508205297,
          -0.2734142637165382,
          null,
          -0.04444361730922944,
          0.5086817785570923,
          null,
          -0.29720155264788645,
          -0.04444361730922944,
          null,
          -0.03128810284691118,
          0.5086817785570923,
          null,
          -0.3445046361889165,
          -0.03128810284691118,
          null,
          0.16045207414368226,
          0.5086817785570923,
          null,
          -0.24899811790845944,
          0.16045207414368226,
          null,
          0.418579548849349,
          0.5086817785570923,
          null,
          0.09384979193726518,
          0.418579548849349,
          null,
          -0.2352166836562951,
          0.5086817785570923,
          null,
          -0.6459216357956368,
          -0.2352166836562951,
          null,
          -0.09740246679469518,
          0.5086817785570923,
          null,
          -0.41004747066401065,
          -0.09740246679469518,
          null,
          0.08326974268265172,
          0.5086817785570923,
          null,
          -0.47891820967698856,
          0.08326974268265172,
          null,
          0.15679120978514807,
          0.5086817785570923,
          null,
          0.2700960659435193,
          0.15679120978514807,
          null,
          0.1762811685339688,
          0.5086817785570923,
          null,
          0.10794619222702855,
          0.1762811685339688,
          null,
          -0.036561048363443205,
          0.5086817785570923,
          null,
          -0.5343950432488588,
          -0.036561048363443205,
          null,
          -0.25700942502426627,
          0.5086817785570923,
          null,
          -0.7432028921997249,
          -0.25700942502426627,
          null,
          0.7727197198338517,
          0.5086817785570923,
          null,
          0.6673403777018896,
          0.7727197198338517,
          null,
          -0.032782949746362935,
          0.5086817785570923,
          null,
          -0.454554814248923,
          -0.032782949746362935,
          null,
          0.05144604979123968,
          0.5086817785570923,
          null,
          -0.21420869490055386,
          0.05144604979123968,
          null,
          0.2574727639709209,
          0.5086817785570923,
          null,
          0.4065161466507957,
          0.2574727639709209,
          null,
          0.041456605760403754,
          0.5086817785570923,
          null,
          -0.33326376778131234,
          0.041456605760403754,
          null,
          0.03677479526783755,
          0.5086817785570923,
          null,
          -0.4250956082931087,
          0.03677479526783755,
          null,
          0.2886554761713902,
          0.5086817785570923,
          null,
          -0.26289631226134086,
          0.2886554761713902,
          null,
          0.16679829377674954,
          0.5086817785570923,
          null,
          0.36500571602816884,
          0.16679829377674954,
          null,
          0.3445506976817089,
          0.5086817785570923,
          null,
          0.21447719814099034,
          0.3445506976817089,
          null,
          0.48816762176668027,
          0.5086817785570923,
          null,
          0.047082309791962394,
          0.48816762176668027,
          null,
          -0.03029430602879127,
          0.5086817785570923,
          null,
          -0.33808477331593767,
          -0.03029430602879127,
          null,
          0.017586696001470843,
          0.5086817785570923,
          null,
          -0.5502468066715228,
          0.017586696001470843,
          null,
          0.24880352098159075,
          0.5086817785570923,
          null,
          0.2398368175144608,
          0.24880352098159075,
          null,
          0.15073437563465902,
          0.5086817785570923,
          null,
          -0.08220115913647294,
          0.15073437563465902,
          null,
          0.6990067867785882,
          0.5086817785570923,
          null,
          0.643436944851204,
          0.6990067867785882,
          null,
          0.7064603057669233,
          0.5086817785570923,
          null,
          0.434846858294929,
          0.7064603057669233,
          null,
          0.043424256421879324,
          0.5086817785570923,
          null,
          -0.13792117113236027,
          0.043424256421879324,
          null,
          0.655013010549365,
          0.5086817785570923,
          null,
          -0.1060931612545414,
          0.655013010549365,
          null,
          0.663495697984699,
          0.5086817785570923,
          null,
          -0.12242813859813484,
          0.663495697984699,
          null,
          0.4680802448850297,
          0.5086817785570923,
          null,
          -0.260725053700323,
          0.4680802448850297,
          null,
          -0.32435778045781405,
          0.5086817785570923,
          null,
          -0.7545543298557553,
          -0.32435778045781405,
          null,
          -0.16146364886129444,
          0.5086817785570923,
          null,
          -0.6634091443527292,
          -0.16146364886129444,
          null,
          -0.25526226185543643,
          0.5086817785570923,
          null,
          -0.729964638440559,
          -0.25526226185543643,
          null,
          0.42841884556835236,
          0.5086817785570923,
          null,
          0.6251492659941849,
          0.42841884556835236,
          null,
          -0.10280097528491992,
          0.5086817785570923,
          null,
          -0.5506734839795039,
          -0.10280097528491992,
          null,
          0.15122342321962431,
          0.5086817785570923,
          null,
          0.13893143160205715,
          0.15122342321962431,
          null,
          0.334804371218843,
          0.5086817785570923,
          null,
          0.3865476987829222,
          0.334804371218843,
          null,
          -0.21551547300411722,
          0.5086817785570923,
          null,
          -0.5858719951609009,
          -0.21551547300411722,
          null,
          0.7178360615021036,
          0.5086817785570923,
          null,
          0.19622794158815784,
          0.7178360615021036,
          null,
          0.07647505039010355,
          0.5086817785570923,
          null,
          -0.33557177761493384,
          0.07647505039010355,
          null,
          0.27286174021738185,
          0.5086817785570923,
          null,
          -0.35294106698138883,
          0.27286174021738185,
          null,
          0.15778338658179608,
          0.5086817785570923,
          null,
          -0.06210870166426764,
          0.15778338658179608,
          null,
          0.10380052564841658,
          0.5086817785570923,
          null,
          -0.5122742883673399,
          0.10380052564841658,
          null,
          -0.16770785773183303,
          0.5086817785570923,
          null,
          -0.517426356190307,
          -0.16770785773183303,
          null
         ],
         "type": "scatter"
        },
        {
         "hoverinfo": "text",
         "marker": {
          "color": [],
          "colorbar": {
           "thickness": 15,
           "title": {
            "side": "right",
            "text": "Node Connections"
           },
           "xanchor": "left"
          },
          "colorscale": [
           [
            0.0,
            "rgb(255,255,217)"
           ],
           [
            0.125,
            "rgb(237,248,177)"
           ],
           [
            0.25,
            "rgb(199,233,180)"
           ],
           [
            0.375,
            "rgb(127,205,187)"
           ],
           [
            0.5,
            "rgb(65,182,196)"
           ],
           [
            0.625,
            "rgb(29,145,192)"
           ],
           [
            0.75,
            "rgb(34,94,168)"
           ],
           [
            0.875,
            "rgb(37,52,148)"
           ],
           [
            1.0,
            "rgb(8,29,88)"
           ]
          ],
          "line": {
           "width": 2
          },
          "reversescale": true,
          "showscale": true,
          "size": 10
         },
         "mode": "markers",
         "text": [
          "0",
          "Art Tray",
          "Coffee",
          "1",
          "Bakewell",
          "2",
          "Extra Salami or Feta",
          "3",
          "Granola",
          "4",
          "Keeping It Local",
          "5",
          "Salad",
          "6",
          "Tartine",
          "7",
          "Toast",
          "8",
          "Alfajores, Cookies",
          "9",
          "Alfajores, NONE",
          "10",
          "Brownie, Cookies",
          "11",
          "Brownie, NONE",
          "12",
          "Brownie, Sandwich",
          "13",
          "Cake, Hot chocolate",
          "14",
          "Cake, Medialuna",
          "15",
          "Cake, NONE",
          "16",
          "Cake, Salad",
          "17",
          "Cake, Sandwich",
          "18",
          "Cake, Scone",
          "19",
          "Cake, Smoothies",
          "20",
          "Cake, Tiffin",
          "21",
          "Cake, Toast",
          "22",
          "Cake, Vegan mincepie",
          "23",
          "Cookies, Hot chocolate",
          "24",
          "Cookies, Juice",
          "25",
          "Cookies, Medialuna",
          "26",
          "Cookies, NONE",
          "27",
          "Cookies, Pastry",
          "28",
          "Cookies, Scone",
          "29",
          "Extra Salami or Feta, NONE",
          "30",
          "Extra Salami or Feta, Salad",
          "31",
          "Hearty & Seasonal, Sandwich",
          "32",
          "Hot chocolate, Medialuna",
          "33",
          "Hot chocolate, NONE",
          "34",
          "Hot chocolate, Pastry",
          "35",
          "Hot chocolate, Scone",
          "36",
          "Jammie Dodgers, Juice",
          "37",
          "Juice, NONE",
          "38",
          "Juice, Pastry",
          "39",
          "Juice, Scone",
          "40",
          "Juice, Spanish Brunch",
          "41",
          "Juice, Toast",
          "42",
          "Keeping It Local, Tea",
          "43",
          "Medialuna, NONE",
          "44",
          "Medialuna, Sandwich",
          "45",
          "Medialuna, Toast",
          "46",
          "Muffin, NONE",
          "47",
          "Muffin, Sandwich",
          "48",
          "NONE, Pastry",
          "49",
          "NONE, Scone",
          "50",
          "NONE, Soup",
          "51",
          "NONE, Spanish Brunch",
          "52",
          "NONE, Tartine",
          "53",
          "NONE, Toast",
          "54",
          "Pastry, Toast",
          "55",
          "Salad, Sandwich",
          "56",
          "Sandwich, Soup",
          "57",
          "Sandwich, Spanish Brunch",
          "58",
          "Bread, Hot chocolate, Pastry",
          "59",
          "Cake, Sandwich, Tea",
          "60",
          "Hot chocolate, Medialuna, NONE"
         ],
         "x": [
          0.0885816617892886,
          0.2637439953093481,
          -0.5287429862590222,
          -0.4010645248256618,
          -0.5880970347558457,
          -0.2344582554550625,
          0.12497303663098502,
          -0.041087172472315116,
          0.46308034422117733,
          0.0011357798444179773,
          0.5217313681028763,
          0.21398943455817626,
          0.7138049501116398,
          -0.5720415317194731,
          -0.26976652747231433,
          -0.1041276685846272,
          0.4413983353369157,
          0.2323636151422453,
          0.6685400911845476,
          -0.16725688817340087,
          -0.04316322024306195,
          -0.3500674019838395,
          0.393059590516695,
          -0.10730927027343229,
          0.35711604810453923,
          -0.4182675783847512,
          -0.624945667452643,
          -0.7202681624453666,
          -0.14153128607770193,
          0.13120282740965525,
          0.37358296363806104,
          0.204352958731013,
          0.6115613516653491,
          0.0917991975396285,
          0.46917300143006935,
          0.194446400929931,
          0.6581299774757419,
          -0.32955144589251123,
          -0.4280242281251151,
          -0.06023613383078814,
          0.5083807413443977,
          0.2646007129625439,
          0.5771120781206485,
          0.15933998218651912,
          0.5273340193075389,
          -0.46739675627889815,
          -0.3388119960257204,
          -0.11011855043387471,
          -0.2217212797589083,
          -0.6516111422366129,
          -1.0,
          -0.11934098918778524,
          0.056458951166645434,
          0.031988981509205414,
          0.16379943202533329,
          -0.43411315842843123,
          0.11153118733029063,
          -0.019850296345383475,
          0.043671046501577084,
          -0.23101219007681714,
          -0.5292779571907514,
          0.07865731022981838,
          0.5412187317678601,
          0.09901208347995179,
          0.7032106807496621,
          -0.14560074932161235,
          -0.09804894241546591,
          -0.5290162240998618,
          -0.31899845210414673,
          0.03219213972035575,
          0.3972851696991477,
          0.045404099166023795,
          0.6378858087886924,
          -0.030967582675287725,
          0.6845352774265042,
          -0.25954844636898117,
          -0.5741903389015414,
          -0.34456190286527477,
          -0.14191279714495927,
          -0.006704370744099297,
          0.518265538921779,
          -0.24501977137647127,
          -0.5533941165273147,
          -0.21160253865684447,
          0.3166456193440197,
          -0.520634271047722,
          0.037455796232442086,
          -0.059332158611684296,
          0.36013779776338695,
          -0.2761378845660284,
          0.6068005714067513,
          -0.6796200153314371,
          0.016749732416498374,
          -0.8025425584499137,
          -0.2507065840161168,
          0.2611982635211605,
          0.5577163145360376,
          -0.05049538829897664,
          0.12064965265439992,
          0.13433508124798338,
          0.3731705279019953,
          0.06472912673595216,
          0.45541539678355797,
          -0.1350149272647331,
          -0.24182079978697626,
          -0.17710895112096836,
          0.25137307539938136,
          -0.02683661230358938,
          0.46888095873253205,
          0.05580287579879536,
          0.39108003439579114,
          -0.313843893991588,
          0.3710155927490638,
          -0.31258490397704836,
          -0.4788191814087593,
          -0.39588849715872276,
          -0.288238936161084,
          0.0925534116755365,
          0.6468690146991529,
          -0.557440487223586,
          -0.40180740409042437,
          0.18295534294869858,
          0.5165158993813622
         ],
         "y": [
          -0.1787467177903017,
          -0.607211454100284,
          0.5086817785570923,
          -0.006449878991763653,
          -0.4356002423162758,
          0.44138213288155154,
          -0.08766499742623549,
          0.1629500295109005,
          -0.09696489262794285,
          0.08714417002270561,
          0.118663375926375,
          -0.11002087023965051,
          -0.4373824713908333,
          0.20123909539141782,
          -0.34976631982035344,
          0.35276696085645654,
          0.10756333903562124,
          -0.05415905306389258,
          -0.43449494727058596,
          0.2833298342554918,
          0.6632270149235907,
          0.5983176718363821,
          0.2054500271492011,
          0.27586272731956707,
          0.11569976429862397,
          0.17500047775847033,
          -0.19287241083196618,
          0.49431912181220355,
          -0.2714890410730234,
          -0.15293808659247007,
          -0.6189422486809882,
          -0.2734142637165382,
          -0.6121830508205297,
          -0.04444361730922944,
          -0.29720155264788645,
          -0.03128810284691118,
          -0.3445046361889165,
          0.16045207414368226,
          -0.24899811790845944,
          0.418579548849349,
          0.09384979193726518,
          -0.2352166836562951,
          -0.6459216357956368,
          -0.09740246679469518,
          -0.41004747066401065,
          0.08326974268265172,
          -0.47891820967698856,
          0.15679120978514807,
          0.2700960659435193,
          0.1762811685339688,
          0.10794619222702855,
          -0.036561048363443205,
          -0.5343950432488588,
          -0.25700942502426627,
          -0.7432028921997249,
          0.7727197198338517,
          0.6673403777018896,
          -0.032782949746362935,
          -0.454554814248923,
          0.05144604979123968,
          -0.21420869490055386,
          0.2574727639709209,
          0.4065161466507957,
          0.041456605760403754,
          -0.33326376778131234,
          0.03677479526783755,
          -0.4250956082931087,
          0.2886554761713902,
          -0.26289631226134086,
          0.16679829377674954,
          0.36500571602816884,
          0.3445506976817089,
          0.21447719814099034,
          0.48816762176668027,
          0.047082309791962394,
          -0.03029430602879127,
          -0.33808477331593767,
          0.017586696001470843,
          -0.5502468066715228,
          0.24880352098159075,
          0.2398368175144608,
          0.15073437563465902,
          -0.08220115913647294,
          0.6990067867785882,
          0.643436944851204,
          0.7064603057669233,
          0.434846858294929,
          0.043424256421879324,
          -0.13792117113236027,
          0.655013010549365,
          -0.1060931612545414,
          0.663495697984699,
          -0.12242813859813484,
          0.4680802448850297,
          -0.260725053700323,
          -0.32435778045781405,
          -0.7545543298557553,
          -0.16146364886129444,
          -0.6634091443527292,
          -0.25526226185543643,
          -0.729964638440559,
          0.42841884556835236,
          0.6251492659941849,
          -0.10280097528491992,
          -0.5506734839795039,
          0.15122342321962431,
          0.13893143160205715,
          0.334804371218843,
          0.3865476987829222,
          -0.21551547300411722,
          -0.5858719951609009,
          0.7178360615021036,
          0.19622794158815784,
          0.07647505039010355,
          -0.33557177761493384,
          0.27286174021738185,
          -0.35294106698138883,
          0.15778338658179608,
          -0.06210870166426764,
          0.10380052564841658,
          -0.5122742883673399,
          -0.16770785773183303,
          -0.517426356190307
         ],
         "type": "scatter"
        }
       ],
       "layout": {
        "annotations": [
         {
          "showarrow": false,
          "text": "Python code: <a href='https://plotly.com/ipython-notebooks/network-graphs/'> https://plotly.com/ipython-notebooks/network-graphs/</a>",
          "x": 0.005,
          "xref": "paper",
          "y": -0.002,
          "yref": "paper"
         }
        ],
        "hovermode": "closest",
        "margin": {
         "b": 20,
         "l": 5,
         "r": 5,
         "t": 40
        },
        "showlegend": false,
        "title": {
         "font": {
          "size": 16
         },
         "text": "<br>Network graph made with Python"
        },
        "xaxis": {
         "showgrid": false,
         "showticklabels": false,
         "zeroline": false
        },
        "yaxis": {
         "showgrid": false,
         "showticklabels": false,
         "zeroline": false
        },
        "template": {
         "data": {
          "histogram2dcontour": [
           {
            "type": "histogram2dcontour",
            "colorbar": {
             "outlinewidth": 0,
             "ticks": ""
            },
            "colorscale": [
             [
              0.0,
              "#0d0887"
             ],
             [
              0.1111111111111111,
              "#46039f"
             ],
             [
              0.2222222222222222,
              "#7201a8"
             ],
             [
              0.3333333333333333,
              "#9c179e"
             ],
             [
              0.4444444444444444,
              "#bd3786"
             ],
             [
              0.5555555555555556,
              "#d8576b"
             ],
             [
              0.6666666666666666,
              "#ed7953"
             ],
             [
              0.7777777777777778,
              "#fb9f3a"
             ],
             [
              0.8888888888888888,
              "#fdca26"
             ],
             [
              1.0,
              "#f0f921"
             ]
            ]
           }
          ],
          "choropleth": [
           {
            "type": "choropleth",
            "colorbar": {
             "outlinewidth": 0,
             "ticks": ""
            }
           }
          ],
          "histogram2d": [
           {
            "type": "histogram2d",
            "colorbar": {
             "outlinewidth": 0,
             "ticks": ""
            },
            "colorscale": [
             [
              0.0,
              "#0d0887"
             ],
             [
              0.1111111111111111,
              "#46039f"
             ],
             [
              0.2222222222222222,
              "#7201a8"
             ],
             [
              0.3333333333333333,
              "#9c179e"
             ],
             [
              0.4444444444444444,
              "#bd3786"
             ],
             [
              0.5555555555555556,
              "#d8576b"
             ],
             [
              0.6666666666666666,
              "#ed7953"
             ],
             [
              0.7777777777777778,
              "#fb9f3a"
             ],
             [
              0.8888888888888888,
              "#fdca26"
             ],
             [
              1.0,
              "#f0f921"
             ]
            ]
           }
          ],
          "heatmap": [
           {
            "type": "heatmap",
            "colorbar": {
             "outlinewidth": 0,
             "ticks": ""
            },
            "colorscale": [
             [
              0.0,
              "#0d0887"
             ],
             [
              0.1111111111111111,
              "#46039f"
             ],
             [
              0.2222222222222222,
              "#7201a8"
             ],
             [
              0.3333333333333333,
              "#9c179e"
             ],
             [
              0.4444444444444444,
              "#bd3786"
             ],
             [
              0.5555555555555556,
              "#d8576b"
             ],
             [
              0.6666666666666666,
              "#ed7953"
             ],
             [
              0.7777777777777778,
              "#fb9f3a"
             ],
             [
              0.8888888888888888,
              "#fdca26"
             ],
             [
              1.0,
              "#f0f921"
             ]
            ]
           }
          ],
          "heatmapgl": [
           {
            "type": "heatmapgl",
            "colorbar": {
             "outlinewidth": 0,
             "ticks": ""
            },
            "colorscale": [
             [
              0.0,
              "#0d0887"
             ],
             [
              0.1111111111111111,
              "#46039f"
             ],
             [
              0.2222222222222222,
              "#7201a8"
             ],
             [
              0.3333333333333333,
              "#9c179e"
             ],
             [
              0.4444444444444444,
              "#bd3786"
             ],
             [
              0.5555555555555556,
              "#d8576b"
             ],
             [
              0.6666666666666666,
              "#ed7953"
             ],
             [
              0.7777777777777778,
              "#fb9f3a"
             ],
             [
              0.8888888888888888,
              "#fdca26"
             ],
             [
              1.0,
              "#f0f921"
             ]
            ]
           }
          ],
          "contourcarpet": [
           {
            "type": "contourcarpet",
            "colorbar": {
             "outlinewidth": 0,
             "ticks": ""
            }
           }
          ],
          "contour": [
           {
            "type": "contour",
            "colorbar": {
             "outlinewidth": 0,
             "ticks": ""
            },
            "colorscale": [
             [
              0.0,
              "#0d0887"
             ],
             [
              0.1111111111111111,
              "#46039f"
             ],
             [
              0.2222222222222222,
              "#7201a8"
             ],
             [
              0.3333333333333333,
              "#9c179e"
             ],
             [
              0.4444444444444444,
              "#bd3786"
             ],
             [
              0.5555555555555556,
              "#d8576b"
             ],
             [
              0.6666666666666666,
              "#ed7953"
             ],
             [
              0.7777777777777778,
              "#fb9f3a"
             ],
             [
              0.8888888888888888,
              "#fdca26"
             ],
             [
              1.0,
              "#f0f921"
             ]
            ]
           }
          ],
          "surface": [
           {
            "type": "surface",
            "colorbar": {
             "outlinewidth": 0,
             "ticks": ""
            },
            "colorscale": [
             [
              0.0,
              "#0d0887"
             ],
             [
              0.1111111111111111,
              "#46039f"
             ],
             [
              0.2222222222222222,
              "#7201a8"
             ],
             [
              0.3333333333333333,
              "#9c179e"
             ],
             [
              0.4444444444444444,
              "#bd3786"
             ],
             [
              0.5555555555555556,
              "#d8576b"
             ],
             [
              0.6666666666666666,
              "#ed7953"
             ],
             [
              0.7777777777777778,
              "#fb9f3a"
             ],
             [
              0.8888888888888888,
              "#fdca26"
             ],
             [
              1.0,
              "#f0f921"
             ]
            ]
           }
          ],
          "mesh3d": [
           {
            "type": "mesh3d",
            "colorbar": {
             "outlinewidth": 0,
             "ticks": ""
            }
           }
          ],
          "scatter": [
           {
            "fillpattern": {
             "fillmode": "overlay",
             "size": 10,
             "solidity": 0.2
            },
            "type": "scatter"
           }
          ],
          "parcoords": [
           {
            "type": "parcoords",
            "line": {
             "colorbar": {
              "outlinewidth": 0,
              "ticks": ""
             }
            }
           }
          ],
          "scatterpolargl": [
           {
            "type": "scatterpolargl",
            "marker": {
             "colorbar": {
              "outlinewidth": 0,
              "ticks": ""
             }
            }
           }
          ],
          "bar": [
           {
            "error_x": {
             "color": "#2a3f5f"
            },
            "error_y": {
             "color": "#2a3f5f"
            },
            "marker": {
             "line": {
              "color": "#E5ECF6",
              "width": 0.5
             },
             "pattern": {
              "fillmode": "overlay",
              "size": 10,
              "solidity": 0.2
             }
            },
            "type": "bar"
           }
          ],
          "scattergeo": [
           {
            "type": "scattergeo",
            "marker": {
             "colorbar": {
              "outlinewidth": 0,
              "ticks": ""
             }
            }
           }
          ],
          "scatterpolar": [
           {
            "type": "scatterpolar",
            "marker": {
             "colorbar": {
              "outlinewidth": 0,
              "ticks": ""
             }
            }
           }
          ],
          "histogram": [
           {
            "marker": {
             "pattern": {
              "fillmode": "overlay",
              "size": 10,
              "solidity": 0.2
             }
            },
            "type": "histogram"
           }
          ],
          "scattergl": [
           {
            "type": "scattergl",
            "marker": {
             "colorbar": {
              "outlinewidth": 0,
              "ticks": ""
             }
            }
           }
          ],
          "scatter3d": [
           {
            "type": "scatter3d",
            "line": {
             "colorbar": {
              "outlinewidth": 0,
              "ticks": ""
             }
            },
            "marker": {
             "colorbar": {
              "outlinewidth": 0,
              "ticks": ""
             }
            }
           }
          ],
          "scattermapbox": [
           {
            "type": "scattermapbox",
            "marker": {
             "colorbar": {
              "outlinewidth": 0,
              "ticks": ""
             }
            }
           }
          ],
          "scatterternary": [
           {
            "type": "scatterternary",
            "marker": {
             "colorbar": {
              "outlinewidth": 0,
              "ticks": ""
             }
            }
           }
          ],
          "scattercarpet": [
           {
            "type": "scattercarpet",
            "marker": {
             "colorbar": {
              "outlinewidth": 0,
              "ticks": ""
             }
            }
           }
          ],
          "carpet": [
           {
            "aaxis": {
             "endlinecolor": "#2a3f5f",
             "gridcolor": "white",
             "linecolor": "white",
             "minorgridcolor": "white",
             "startlinecolor": "#2a3f5f"
            },
            "baxis": {
             "endlinecolor": "#2a3f5f",
             "gridcolor": "white",
             "linecolor": "white",
             "minorgridcolor": "white",
             "startlinecolor": "#2a3f5f"
            },
            "type": "carpet"
           }
          ],
          "table": [
           {
            "cells": {
             "fill": {
              "color": "#EBF0F8"
             },
             "line": {
              "color": "white"
             }
            },
            "header": {
             "fill": {
              "color": "#C8D4E3"
             },
             "line": {
              "color": "white"
             }
            },
            "type": "table"
           }
          ],
          "barpolar": [
           {
            "marker": {
             "line": {
              "color": "#E5ECF6",
              "width": 0.5
             },
             "pattern": {
              "fillmode": "overlay",
              "size": 10,
              "solidity": 0.2
             }
            },
            "type": "barpolar"
           }
          ],
          "pie": [
           {
            "automargin": true,
            "type": "pie"
           }
          ]
         },
         "layout": {
          "autotypenumbers": "strict",
          "colorway": [
           "#636efa",
           "#EF553B",
           "#00cc96",
           "#ab63fa",
           "#FFA15A",
           "#19d3f3",
           "#FF6692",
           "#B6E880",
           "#FF97FF",
           "#FECB52"
          ],
          "font": {
           "color": "#2a3f5f"
          },
          "hovermode": "closest",
          "hoverlabel": {
           "align": "left"
          },
          "paper_bgcolor": "white",
          "plot_bgcolor": "#E5ECF6",
          "polar": {
           "bgcolor": "#E5ECF6",
           "angularaxis": {
            "gridcolor": "white",
            "linecolor": "white",
            "ticks": ""
           },
           "radialaxis": {
            "gridcolor": "white",
            "linecolor": "white",
            "ticks": ""
           }
          },
          "ternary": {
           "bgcolor": "#E5ECF6",
           "aaxis": {
            "gridcolor": "white",
            "linecolor": "white",
            "ticks": ""
           },
           "baxis": {
            "gridcolor": "white",
            "linecolor": "white",
            "ticks": ""
           },
           "caxis": {
            "gridcolor": "white",
            "linecolor": "white",
            "ticks": ""
           }
          },
          "coloraxis": {
           "colorbar": {
            "outlinewidth": 0,
            "ticks": ""
           }
          },
          "colorscale": {
           "sequential": [
            [
             0.0,
             "#0d0887"
            ],
            [
             0.1111111111111111,
             "#46039f"
            ],
            [
             0.2222222222222222,
             "#7201a8"
            ],
            [
             0.3333333333333333,
             "#9c179e"
            ],
            [
             0.4444444444444444,
             "#bd3786"
            ],
            [
             0.5555555555555556,
             "#d8576b"
            ],
            [
             0.6666666666666666,
             "#ed7953"
            ],
            [
             0.7777777777777778,
             "#fb9f3a"
            ],
            [
             0.8888888888888888,
             "#fdca26"
            ],
            [
             1.0,
             "#f0f921"
            ]
           ],
           "sequentialminus": [
            [
             0.0,
             "#0d0887"
            ],
            [
             0.1111111111111111,
             "#46039f"
            ],
            [
             0.2222222222222222,
             "#7201a8"
            ],
            [
             0.3333333333333333,
             "#9c179e"
            ],
            [
             0.4444444444444444,
             "#bd3786"
            ],
            [
             0.5555555555555556,
             "#d8576b"
            ],
            [
             0.6666666666666666,
             "#ed7953"
            ],
            [
             0.7777777777777778,
             "#fb9f3a"
            ],
            [
             0.8888888888888888,
             "#fdca26"
            ],
            [
             1.0,
             "#f0f921"
            ]
           ],
           "diverging": [
            [
             0,
             "#8e0152"
            ],
            [
             0.1,
             "#c51b7d"
            ],
            [
             0.2,
             "#de77ae"
            ],
            [
             0.3,
             "#f1b6da"
            ],
            [
             0.4,
             "#fde0ef"
            ],
            [
             0.5,
             "#f7f7f7"
            ],
            [
             0.6,
             "#e6f5d0"
            ],
            [
             0.7,
             "#b8e186"
            ],
            [
             0.8,
             "#7fbc41"
            ],
            [
             0.9,
             "#4d9221"
            ],
            [
             1,
             "#276419"
            ]
           ]
          },
          "xaxis": {
           "gridcolor": "white",
           "linecolor": "white",
           "ticks": "",
           "title": {
            "standoff": 15
           },
           "zerolinecolor": "white",
           "automargin": true,
           "zerolinewidth": 2
          },
          "yaxis": {
           "gridcolor": "white",
           "linecolor": "white",
           "ticks": "",
           "title": {
            "standoff": 15
           },
           "zerolinecolor": "white",
           "automargin": true,
           "zerolinewidth": 2
          },
          "scene": {
           "xaxis": {
            "backgroundcolor": "#E5ECF6",
            "gridcolor": "white",
            "linecolor": "white",
            "showbackground": true,
            "ticks": "",
            "zerolinecolor": "white",
            "gridwidth": 2
           },
           "yaxis": {
            "backgroundcolor": "#E5ECF6",
            "gridcolor": "white",
            "linecolor": "white",
            "showbackground": true,
            "ticks": "",
            "zerolinecolor": "white",
            "gridwidth": 2
           },
           "zaxis": {
            "backgroundcolor": "#E5ECF6",
            "gridcolor": "white",
            "linecolor": "white",
            "showbackground": true,
            "ticks": "",
            "zerolinecolor": "white",
            "gridwidth": 2
           }
          },
          "shapedefaults": {
           "line": {
            "color": "#2a3f5f"
           }
          },
          "annotationdefaults": {
           "arrowcolor": "#2a3f5f",
           "arrowhead": 0,
           "arrowwidth": 1
          },
          "geo": {
           "bgcolor": "white",
           "landcolor": "#E5ECF6",
           "subunitcolor": "white",
           "showland": true,
           "showlakes": true,
           "lakecolor": "white"
          },
          "title": {
           "x": 0.05
          },
          "mapbox": {
           "style": "light"
          }
         }
        }
       },
       "config": {
        "plotlyServerURL": "https://plot.ly"
       }
      },
      "text/html": [
       "<div>                            <div id=\"05f93363-2edd-497f-a4c7-2306701de031\" class=\"plotly-graph-div\" style=\"height:525px; width:100%;\"></div>            <script type=\"text/javascript\">                require([\"plotly\"], function(Plotly) {                    window.PLOTLYENV=window.PLOTLYENV || {};                                    if (document.getElementById(\"05f93363-2edd-497f-a4c7-2306701de031\")) {                    Plotly.newPlot(                        \"05f93363-2edd-497f-a4c7-2306701de031\",                        [{\"hoverinfo\":\"none\",\"line\":{\"color\":\"#888\",\"width\":0.5},\"mode\":\"lines\",\"x\":[0.0885816617892886,-0.5287429862590222,null,0.2637439953093481,0.0885816617892886,null,-0.4010645248256618,-0.5287429862590222,null,-0.5880970347558457,-0.4010645248256618,null,-0.2344582554550625,-0.5287429862590222,null,0.12497303663098502,-0.2344582554550625,null,-0.041087172472315116,-0.5287429862590222,null,0.46308034422117733,-0.041087172472315116,null,0.0011357798444179773,-0.5287429862590222,null,0.5217313681028763,0.0011357798444179773,null,0.21398943455817626,-0.5287429862590222,null,0.7138049501116398,0.21398943455817626,null,-0.5720415317194731,-0.5287429862590222,null,-0.26976652747231433,-0.5720415317194731,null,-0.1041276685846272,-0.5287429862590222,null,0.4413983353369157,-0.1041276685846272,null,0.2323636151422453,-0.5287429862590222,null,0.6685400911845476,0.2323636151422453,null,-0.16725688817340087,-0.5287429862590222,null,-0.04316322024306195,-0.16725688817340087,null,-0.3500674019838395,-0.5287429862590222,null,0.393059590516695,-0.3500674019838395,null,-0.10730927027343229,-0.5287429862590222,null,0.35711604810453923,-0.10730927027343229,null,-0.4182675783847512,-0.5287429862590222,null,-0.624945667452643,-0.4182675783847512,null,-0.7202681624453666,-0.5287429862590222,null,-0.14153128607770193,-0.7202681624453666,null,0.13120282740965525,-0.5287429862590222,null,0.37358296363806104,0.13120282740965525,null,0.204352958731013,-0.5287429862590222,null,0.6115613516653491,0.204352958731013,null,0.0917991975396285,-0.5287429862590222,null,0.46917300143006935,0.0917991975396285,null,0.194446400929931,-0.5287429862590222,null,0.6581299774757419,0.194446400929931,null,-0.32955144589251123,-0.5287429862590222,null,-0.4280242281251151,-0.32955144589251123,null,-0.06023613383078814,-0.5287429862590222,null,0.5083807413443977,-0.06023613383078814,null,0.2646007129625439,-0.5287429862590222,null,0.5771120781206485,0.2646007129625439,null,0.15933998218651912,-0.5287429862590222,null,0.5273340193075389,0.15933998218651912,null,-0.46739675627889815,-0.5287429862590222,null,-0.3388119960257204,-0.46739675627889815,null,-0.11011855043387471,-0.5287429862590222,null,-0.2217212797589083,-0.11011855043387471,null,-0.6516111422366129,-0.5287429862590222,null,-1.0,-0.6516111422366129,null,-0.11934098918778524,-0.5287429862590222,null,0.056458951166645434,-0.11934098918778524,null,0.031988981509205414,-0.5287429862590222,null,0.16379943202533329,0.031988981509205414,null,-0.43411315842843123,-0.5287429862590222,null,0.11153118733029063,-0.43411315842843123,null,-0.019850296345383475,-0.5287429862590222,null,0.043671046501577084,-0.019850296345383475,null,-0.23101219007681714,-0.5287429862590222,null,-0.5292779571907514,-0.23101219007681714,null,0.07865731022981838,-0.5287429862590222,null,0.5412187317678601,0.07865731022981838,null,0.09901208347995179,-0.5287429862590222,null,0.7032106807496621,0.09901208347995179,null,-0.14560074932161235,-0.5287429862590222,null,-0.09804894241546591,-0.14560074932161235,null,-0.5290162240998618,-0.5287429862590222,null,-0.31899845210414673,-0.5290162240998618,null,0.03219213972035575,-0.5287429862590222,null,0.3972851696991477,0.03219213972035575,null,0.045404099166023795,-0.5287429862590222,null,0.6378858087886924,0.045404099166023795,null,-0.030967582675287725,-0.5287429862590222,null,0.6845352774265042,-0.030967582675287725,null,-0.25954844636898117,-0.5287429862590222,null,-0.5741903389015414,-0.25954844636898117,null,-0.34456190286527477,-0.5287429862590222,null,-0.14191279714495927,-0.34456190286527477,null,-0.006704370744099297,-0.5287429862590222,null,0.518265538921779,-0.006704370744099297,null,-0.24501977137647127,-0.5287429862590222,null,-0.5533941165273147,-0.24501977137647127,null,-0.21160253865684447,-0.5287429862590222,null,0.3166456193440197,-0.21160253865684447,null,-0.520634271047722,-0.5287429862590222,null,0.037455796232442086,-0.520634271047722,null,-0.059332158611684296,-0.5287429862590222,null,0.36013779776338695,-0.059332158611684296,null,-0.2761378845660284,-0.5287429862590222,null,0.6068005714067513,-0.2761378845660284,null,-0.6796200153314371,-0.5287429862590222,null,0.016749732416498374,-0.6796200153314371,null,-0.8025425584499137,-0.5287429862590222,null,-0.2507065840161168,-0.8025425584499137,null,0.2611982635211605,-0.5287429862590222,null,0.5577163145360376,0.2611982635211605,null,-0.05049538829897664,-0.5287429862590222,null,0.12064965265439992,-0.05049538829897664,null,0.13433508124798338,-0.5287429862590222,null,0.3731705279019953,0.13433508124798338,null,0.06472912673595216,-0.5287429862590222,null,0.45541539678355797,0.06472912673595216,null,-0.1350149272647331,-0.5287429862590222,null,-0.24182079978697626,-0.1350149272647331,null,-0.17710895112096836,-0.5287429862590222,null,0.25137307539938136,-0.17710895112096836,null,-0.02683661230358938,-0.5287429862590222,null,0.46888095873253205,-0.02683661230358938,null,0.05580287579879536,-0.5287429862590222,null,0.39108003439579114,0.05580287579879536,null,-0.313843893991588,-0.5287429862590222,null,0.3710155927490638,-0.313843893991588,null,-0.31258490397704836,-0.5287429862590222,null,-0.4788191814087593,-0.31258490397704836,null,-0.39588849715872276,-0.5287429862590222,null,-0.288238936161084,-0.39588849715872276,null,0.0925534116755365,-0.5287429862590222,null,0.6468690146991529,0.0925534116755365,null,-0.557440487223586,-0.5287429862590222,null,-0.40180740409042437,-0.557440487223586,null,0.18295534294869858,-0.5287429862590222,null,0.5165158993813622,0.18295534294869858,null],\"y\":[-0.1787467177903017,0.5086817785570923,null,-0.607211454100284,-0.1787467177903017,null,-0.006449878991763653,0.5086817785570923,null,-0.4356002423162758,-0.006449878991763653,null,0.44138213288155154,0.5086817785570923,null,-0.08766499742623549,0.44138213288155154,null,0.1629500295109005,0.5086817785570923,null,-0.09696489262794285,0.1629500295109005,null,0.08714417002270561,0.5086817785570923,null,0.118663375926375,0.08714417002270561,null,-0.11002087023965051,0.5086817785570923,null,-0.4373824713908333,-0.11002087023965051,null,0.20123909539141782,0.5086817785570923,null,-0.34976631982035344,0.20123909539141782,null,0.35276696085645654,0.5086817785570923,null,0.10756333903562124,0.35276696085645654,null,-0.05415905306389258,0.5086817785570923,null,-0.43449494727058596,-0.05415905306389258,null,0.2833298342554918,0.5086817785570923,null,0.6632270149235907,0.2833298342554918,null,0.5983176718363821,0.5086817785570923,null,0.2054500271492011,0.5983176718363821,null,0.27586272731956707,0.5086817785570923,null,0.11569976429862397,0.27586272731956707,null,0.17500047775847033,0.5086817785570923,null,-0.19287241083196618,0.17500047775847033,null,0.49431912181220355,0.5086817785570923,null,-0.2714890410730234,0.49431912181220355,null,-0.15293808659247007,0.5086817785570923,null,-0.6189422486809882,-0.15293808659247007,null,-0.2734142637165382,0.5086817785570923,null,-0.6121830508205297,-0.2734142637165382,null,-0.04444361730922944,0.5086817785570923,null,-0.29720155264788645,-0.04444361730922944,null,-0.03128810284691118,0.5086817785570923,null,-0.3445046361889165,-0.03128810284691118,null,0.16045207414368226,0.5086817785570923,null,-0.24899811790845944,0.16045207414368226,null,0.418579548849349,0.5086817785570923,null,0.09384979193726518,0.418579548849349,null,-0.2352166836562951,0.5086817785570923,null,-0.6459216357956368,-0.2352166836562951,null,-0.09740246679469518,0.5086817785570923,null,-0.41004747066401065,-0.09740246679469518,null,0.08326974268265172,0.5086817785570923,null,-0.47891820967698856,0.08326974268265172,null,0.15679120978514807,0.5086817785570923,null,0.2700960659435193,0.15679120978514807,null,0.1762811685339688,0.5086817785570923,null,0.10794619222702855,0.1762811685339688,null,-0.036561048363443205,0.5086817785570923,null,-0.5343950432488588,-0.036561048363443205,null,-0.25700942502426627,0.5086817785570923,null,-0.7432028921997249,-0.25700942502426627,null,0.7727197198338517,0.5086817785570923,null,0.6673403777018896,0.7727197198338517,null,-0.032782949746362935,0.5086817785570923,null,-0.454554814248923,-0.032782949746362935,null,0.05144604979123968,0.5086817785570923,null,-0.21420869490055386,0.05144604979123968,null,0.2574727639709209,0.5086817785570923,null,0.4065161466507957,0.2574727639709209,null,0.041456605760403754,0.5086817785570923,null,-0.33326376778131234,0.041456605760403754,null,0.03677479526783755,0.5086817785570923,null,-0.4250956082931087,0.03677479526783755,null,0.2886554761713902,0.5086817785570923,null,-0.26289631226134086,0.2886554761713902,null,0.16679829377674954,0.5086817785570923,null,0.36500571602816884,0.16679829377674954,null,0.3445506976817089,0.5086817785570923,null,0.21447719814099034,0.3445506976817089,null,0.48816762176668027,0.5086817785570923,null,0.047082309791962394,0.48816762176668027,null,-0.03029430602879127,0.5086817785570923,null,-0.33808477331593767,-0.03029430602879127,null,0.017586696001470843,0.5086817785570923,null,-0.5502468066715228,0.017586696001470843,null,0.24880352098159075,0.5086817785570923,null,0.2398368175144608,0.24880352098159075,null,0.15073437563465902,0.5086817785570923,null,-0.08220115913647294,0.15073437563465902,null,0.6990067867785882,0.5086817785570923,null,0.643436944851204,0.6990067867785882,null,0.7064603057669233,0.5086817785570923,null,0.434846858294929,0.7064603057669233,null,0.043424256421879324,0.5086817785570923,null,-0.13792117113236027,0.043424256421879324,null,0.655013010549365,0.5086817785570923,null,-0.1060931612545414,0.655013010549365,null,0.663495697984699,0.5086817785570923,null,-0.12242813859813484,0.663495697984699,null,0.4680802448850297,0.5086817785570923,null,-0.260725053700323,0.4680802448850297,null,-0.32435778045781405,0.5086817785570923,null,-0.7545543298557553,-0.32435778045781405,null,-0.16146364886129444,0.5086817785570923,null,-0.6634091443527292,-0.16146364886129444,null,-0.25526226185543643,0.5086817785570923,null,-0.729964638440559,-0.25526226185543643,null,0.42841884556835236,0.5086817785570923,null,0.6251492659941849,0.42841884556835236,null,-0.10280097528491992,0.5086817785570923,null,-0.5506734839795039,-0.10280097528491992,null,0.15122342321962431,0.5086817785570923,null,0.13893143160205715,0.15122342321962431,null,0.334804371218843,0.5086817785570923,null,0.3865476987829222,0.334804371218843,null,-0.21551547300411722,0.5086817785570923,null,-0.5858719951609009,-0.21551547300411722,null,0.7178360615021036,0.5086817785570923,null,0.19622794158815784,0.7178360615021036,null,0.07647505039010355,0.5086817785570923,null,-0.33557177761493384,0.07647505039010355,null,0.27286174021738185,0.5086817785570923,null,-0.35294106698138883,0.27286174021738185,null,0.15778338658179608,0.5086817785570923,null,-0.06210870166426764,0.15778338658179608,null,0.10380052564841658,0.5086817785570923,null,-0.5122742883673399,0.10380052564841658,null,-0.16770785773183303,0.5086817785570923,null,-0.517426356190307,-0.16770785773183303,null],\"type\":\"scatter\"},{\"hoverinfo\":\"text\",\"marker\":{\"color\":[],\"colorbar\":{\"thickness\":15,\"title\":{\"side\":\"right\",\"text\":\"Node Connections\"},\"xanchor\":\"left\"},\"colorscale\":[[0.0,\"rgb(255,255,217)\"],[0.125,\"rgb(237,248,177)\"],[0.25,\"rgb(199,233,180)\"],[0.375,\"rgb(127,205,187)\"],[0.5,\"rgb(65,182,196)\"],[0.625,\"rgb(29,145,192)\"],[0.75,\"rgb(34,94,168)\"],[0.875,\"rgb(37,52,148)\"],[1.0,\"rgb(8,29,88)\"]],\"line\":{\"width\":2},\"reversescale\":true,\"showscale\":true,\"size\":10},\"mode\":\"markers\",\"text\":[\"0\",\"Art Tray\",\"Coffee\",\"1\",\"Bakewell\",\"2\",\"Extra Salami or Feta\",\"3\",\"Granola\",\"4\",\"Keeping It Local\",\"5\",\"Salad\",\"6\",\"Tartine\",\"7\",\"Toast\",\"8\",\"Alfajores, Cookies\",\"9\",\"Alfajores, NONE\",\"10\",\"Brownie, Cookies\",\"11\",\"Brownie, NONE\",\"12\",\"Brownie, Sandwich\",\"13\",\"Cake, Hot chocolate\",\"14\",\"Cake, Medialuna\",\"15\",\"Cake, NONE\",\"16\",\"Cake, Salad\",\"17\",\"Cake, Sandwich\",\"18\",\"Cake, Scone\",\"19\",\"Cake, Smoothies\",\"20\",\"Cake, Tiffin\",\"21\",\"Cake, Toast\",\"22\",\"Cake, Vegan mincepie\",\"23\",\"Cookies, Hot chocolate\",\"24\",\"Cookies, Juice\",\"25\",\"Cookies, Medialuna\",\"26\",\"Cookies, NONE\",\"27\",\"Cookies, Pastry\",\"28\",\"Cookies, Scone\",\"29\",\"Extra Salami or Feta, NONE\",\"30\",\"Extra Salami or Feta, Salad\",\"31\",\"Hearty & Seasonal, Sandwich\",\"32\",\"Hot chocolate, Medialuna\",\"33\",\"Hot chocolate, NONE\",\"34\",\"Hot chocolate, Pastry\",\"35\",\"Hot chocolate, Scone\",\"36\",\"Jammie Dodgers, Juice\",\"37\",\"Juice, NONE\",\"38\",\"Juice, Pastry\",\"39\",\"Juice, Scone\",\"40\",\"Juice, Spanish Brunch\",\"41\",\"Juice, Toast\",\"42\",\"Keeping It Local, Tea\",\"43\",\"Medialuna, NONE\",\"44\",\"Medialuna, Sandwich\",\"45\",\"Medialuna, Toast\",\"46\",\"Muffin, NONE\",\"47\",\"Muffin, Sandwich\",\"48\",\"NONE, Pastry\",\"49\",\"NONE, Scone\",\"50\",\"NONE, Soup\",\"51\",\"NONE, Spanish Brunch\",\"52\",\"NONE, Tartine\",\"53\",\"NONE, Toast\",\"54\",\"Pastry, Toast\",\"55\",\"Salad, Sandwich\",\"56\",\"Sandwich, Soup\",\"57\",\"Sandwich, Spanish Brunch\",\"58\",\"Bread, Hot chocolate, Pastry\",\"59\",\"Cake, Sandwich, Tea\",\"60\",\"Hot chocolate, Medialuna, NONE\"],\"x\":[0.0885816617892886,0.2637439953093481,-0.5287429862590222,-0.4010645248256618,-0.5880970347558457,-0.2344582554550625,0.12497303663098502,-0.041087172472315116,0.46308034422117733,0.0011357798444179773,0.5217313681028763,0.21398943455817626,0.7138049501116398,-0.5720415317194731,-0.26976652747231433,-0.1041276685846272,0.4413983353369157,0.2323636151422453,0.6685400911845476,-0.16725688817340087,-0.04316322024306195,-0.3500674019838395,0.393059590516695,-0.10730927027343229,0.35711604810453923,-0.4182675783847512,-0.624945667452643,-0.7202681624453666,-0.14153128607770193,0.13120282740965525,0.37358296363806104,0.204352958731013,0.6115613516653491,0.0917991975396285,0.46917300143006935,0.194446400929931,0.6581299774757419,-0.32955144589251123,-0.4280242281251151,-0.06023613383078814,0.5083807413443977,0.2646007129625439,0.5771120781206485,0.15933998218651912,0.5273340193075389,-0.46739675627889815,-0.3388119960257204,-0.11011855043387471,-0.2217212797589083,-0.6516111422366129,-1.0,-0.11934098918778524,0.056458951166645434,0.031988981509205414,0.16379943202533329,-0.43411315842843123,0.11153118733029063,-0.019850296345383475,0.043671046501577084,-0.23101219007681714,-0.5292779571907514,0.07865731022981838,0.5412187317678601,0.09901208347995179,0.7032106807496621,-0.14560074932161235,-0.09804894241546591,-0.5290162240998618,-0.31899845210414673,0.03219213972035575,0.3972851696991477,0.045404099166023795,0.6378858087886924,-0.030967582675287725,0.6845352774265042,-0.25954844636898117,-0.5741903389015414,-0.34456190286527477,-0.14191279714495927,-0.006704370744099297,0.518265538921779,-0.24501977137647127,-0.5533941165273147,-0.21160253865684447,0.3166456193440197,-0.520634271047722,0.037455796232442086,-0.059332158611684296,0.36013779776338695,-0.2761378845660284,0.6068005714067513,-0.6796200153314371,0.016749732416498374,-0.8025425584499137,-0.2507065840161168,0.2611982635211605,0.5577163145360376,-0.05049538829897664,0.12064965265439992,0.13433508124798338,0.3731705279019953,0.06472912673595216,0.45541539678355797,-0.1350149272647331,-0.24182079978697626,-0.17710895112096836,0.25137307539938136,-0.02683661230358938,0.46888095873253205,0.05580287579879536,0.39108003439579114,-0.313843893991588,0.3710155927490638,-0.31258490397704836,-0.4788191814087593,-0.39588849715872276,-0.288238936161084,0.0925534116755365,0.6468690146991529,-0.557440487223586,-0.40180740409042437,0.18295534294869858,0.5165158993813622],\"y\":[-0.1787467177903017,-0.607211454100284,0.5086817785570923,-0.006449878991763653,-0.4356002423162758,0.44138213288155154,-0.08766499742623549,0.1629500295109005,-0.09696489262794285,0.08714417002270561,0.118663375926375,-0.11002087023965051,-0.4373824713908333,0.20123909539141782,-0.34976631982035344,0.35276696085645654,0.10756333903562124,-0.05415905306389258,-0.43449494727058596,0.2833298342554918,0.6632270149235907,0.5983176718363821,0.2054500271492011,0.27586272731956707,0.11569976429862397,0.17500047775847033,-0.19287241083196618,0.49431912181220355,-0.2714890410730234,-0.15293808659247007,-0.6189422486809882,-0.2734142637165382,-0.6121830508205297,-0.04444361730922944,-0.29720155264788645,-0.03128810284691118,-0.3445046361889165,0.16045207414368226,-0.24899811790845944,0.418579548849349,0.09384979193726518,-0.2352166836562951,-0.6459216357956368,-0.09740246679469518,-0.41004747066401065,0.08326974268265172,-0.47891820967698856,0.15679120978514807,0.2700960659435193,0.1762811685339688,0.10794619222702855,-0.036561048363443205,-0.5343950432488588,-0.25700942502426627,-0.7432028921997249,0.7727197198338517,0.6673403777018896,-0.032782949746362935,-0.454554814248923,0.05144604979123968,-0.21420869490055386,0.2574727639709209,0.4065161466507957,0.041456605760403754,-0.33326376778131234,0.03677479526783755,-0.4250956082931087,0.2886554761713902,-0.26289631226134086,0.16679829377674954,0.36500571602816884,0.3445506976817089,0.21447719814099034,0.48816762176668027,0.047082309791962394,-0.03029430602879127,-0.33808477331593767,0.017586696001470843,-0.5502468066715228,0.24880352098159075,0.2398368175144608,0.15073437563465902,-0.08220115913647294,0.6990067867785882,0.643436944851204,0.7064603057669233,0.434846858294929,0.043424256421879324,-0.13792117113236027,0.655013010549365,-0.1060931612545414,0.663495697984699,-0.12242813859813484,0.4680802448850297,-0.260725053700323,-0.32435778045781405,-0.7545543298557553,-0.16146364886129444,-0.6634091443527292,-0.25526226185543643,-0.729964638440559,0.42841884556835236,0.6251492659941849,-0.10280097528491992,-0.5506734839795039,0.15122342321962431,0.13893143160205715,0.334804371218843,0.3865476987829222,-0.21551547300411722,-0.5858719951609009,0.7178360615021036,0.19622794158815784,0.07647505039010355,-0.33557177761493384,0.27286174021738185,-0.35294106698138883,0.15778338658179608,-0.06210870166426764,0.10380052564841658,-0.5122742883673399,-0.16770785773183303,-0.517426356190307],\"type\":\"scatter\"}],                        {\"annotations\":[{\"showarrow\":false,\"text\":\"Python code: \\u003ca href='https:\\u002f\\u002fplotly.com\\u002fipython-notebooks\\u002fnetwork-graphs\\u002f'\\u003e https:\\u002f\\u002fplotly.com\\u002fipython-notebooks\\u002fnetwork-graphs\\u002f\\u003c\\u002fa\\u003e\",\"x\":0.005,\"xref\":\"paper\",\"y\":-0.002,\"yref\":\"paper\"}],\"hovermode\":\"closest\",\"margin\":{\"b\":20,\"l\":5,\"r\":5,\"t\":40},\"showlegend\":false,\"title\":{\"font\":{\"size\":16},\"text\":\"\\u003cbr\\u003eNetwork graph made with Python\"},\"xaxis\":{\"showgrid\":false,\"showticklabels\":false,\"zeroline\":false},\"yaxis\":{\"showgrid\":false,\"showticklabels\":false,\"zeroline\":false},\"template\":{\"data\":{\"histogram2dcontour\":[{\"type\":\"histogram2dcontour\",\"colorbar\":{\"outlinewidth\":0,\"ticks\":\"\"},\"colorscale\":[[0.0,\"#0d0887\"],[0.1111111111111111,\"#46039f\"],[0.2222222222222222,\"#7201a8\"],[0.3333333333333333,\"#9c179e\"],[0.4444444444444444,\"#bd3786\"],[0.5555555555555556,\"#d8576b\"],[0.6666666666666666,\"#ed7953\"],[0.7777777777777778,\"#fb9f3a\"],[0.8888888888888888,\"#fdca26\"],[1.0,\"#f0f921\"]]}],\"choropleth\":[{\"type\":\"choropleth\",\"colorbar\":{\"outlinewidth\":0,\"ticks\":\"\"}}],\"histogram2d\":[{\"type\":\"histogram2d\",\"colorbar\":{\"outlinewidth\":0,\"ticks\":\"\"},\"colorscale\":[[0.0,\"#0d0887\"],[0.1111111111111111,\"#46039f\"],[0.2222222222222222,\"#7201a8\"],[0.3333333333333333,\"#9c179e\"],[0.4444444444444444,\"#bd3786\"],[0.5555555555555556,\"#d8576b\"],[0.6666666666666666,\"#ed7953\"],[0.7777777777777778,\"#fb9f3a\"],[0.8888888888888888,\"#fdca26\"],[1.0,\"#f0f921\"]]}],\"heatmap\":[{\"type\":\"heatmap\",\"colorbar\":{\"outlinewidth\":0,\"ticks\":\"\"},\"colorscale\":[[0.0,\"#0d0887\"],[0.1111111111111111,\"#46039f\"],[0.2222222222222222,\"#7201a8\"],[0.3333333333333333,\"#9c179e\"],[0.4444444444444444,\"#bd3786\"],[0.5555555555555556,\"#d8576b\"],[0.6666666666666666,\"#ed7953\"],[0.7777777777777778,\"#fb9f3a\"],[0.8888888888888888,\"#fdca26\"],[1.0,\"#f0f921\"]]}],\"heatmapgl\":[{\"type\":\"heatmapgl\",\"colorbar\":{\"outlinewidth\":0,\"ticks\":\"\"},\"colorscale\":[[0.0,\"#0d0887\"],[0.1111111111111111,\"#46039f\"],[0.2222222222222222,\"#7201a8\"],[0.3333333333333333,\"#9c179e\"],[0.4444444444444444,\"#bd3786\"],[0.5555555555555556,\"#d8576b\"],[0.6666666666666666,\"#ed7953\"],[0.7777777777777778,\"#fb9f3a\"],[0.8888888888888888,\"#fdca26\"],[1.0,\"#f0f921\"]]}],\"contourcarpet\":[{\"type\":\"contourcarpet\",\"colorbar\":{\"outlinewidth\":0,\"ticks\":\"\"}}],\"contour\":[{\"type\":\"contour\",\"colorbar\":{\"outlinewidth\":0,\"ticks\":\"\"},\"colorscale\":[[0.0,\"#0d0887\"],[0.1111111111111111,\"#46039f\"],[0.2222222222222222,\"#7201a8\"],[0.3333333333333333,\"#9c179e\"],[0.4444444444444444,\"#bd3786\"],[0.5555555555555556,\"#d8576b\"],[0.6666666666666666,\"#ed7953\"],[0.7777777777777778,\"#fb9f3a\"],[0.8888888888888888,\"#fdca26\"],[1.0,\"#f0f921\"]]}],\"surface\":[{\"type\":\"surface\",\"colorbar\":{\"outlinewidth\":0,\"ticks\":\"\"},\"colorscale\":[[0.0,\"#0d0887\"],[0.1111111111111111,\"#46039f\"],[0.2222222222222222,\"#7201a8\"],[0.3333333333333333,\"#9c179e\"],[0.4444444444444444,\"#bd3786\"],[0.5555555555555556,\"#d8576b\"],[0.6666666666666666,\"#ed7953\"],[0.7777777777777778,\"#fb9f3a\"],[0.8888888888888888,\"#fdca26\"],[1.0,\"#f0f921\"]]}],\"mesh3d\":[{\"type\":\"mesh3d\",\"colorbar\":{\"outlinewidth\":0,\"ticks\":\"\"}}],\"scatter\":[{\"fillpattern\":{\"fillmode\":\"overlay\",\"size\":10,\"solidity\":0.2},\"type\":\"scatter\"}],\"parcoords\":[{\"type\":\"parcoords\",\"line\":{\"colorbar\":{\"outlinewidth\":0,\"ticks\":\"\"}}}],\"scatterpolargl\":[{\"type\":\"scatterpolargl\",\"marker\":{\"colorbar\":{\"outlinewidth\":0,\"ticks\":\"\"}}}],\"bar\":[{\"error_x\":{\"color\":\"#2a3f5f\"},\"error_y\":{\"color\":\"#2a3f5f\"},\"marker\":{\"line\":{\"color\":\"#E5ECF6\",\"width\":0.5},\"pattern\":{\"fillmode\":\"overlay\",\"size\":10,\"solidity\":0.2}},\"type\":\"bar\"}],\"scattergeo\":[{\"type\":\"scattergeo\",\"marker\":{\"colorbar\":{\"outlinewidth\":0,\"ticks\":\"\"}}}],\"scatterpolar\":[{\"type\":\"scatterpolar\",\"marker\":{\"colorbar\":{\"outlinewidth\":0,\"ticks\":\"\"}}}],\"histogram\":[{\"marker\":{\"pattern\":{\"fillmode\":\"overlay\",\"size\":10,\"solidity\":0.2}},\"type\":\"histogram\"}],\"scattergl\":[{\"type\":\"scattergl\",\"marker\":{\"colorbar\":{\"outlinewidth\":0,\"ticks\":\"\"}}}],\"scatter3d\":[{\"type\":\"scatter3d\",\"line\":{\"colorbar\":{\"outlinewidth\":0,\"ticks\":\"\"}},\"marker\":{\"colorbar\":{\"outlinewidth\":0,\"ticks\":\"\"}}}],\"scattermapbox\":[{\"type\":\"scattermapbox\",\"marker\":{\"colorbar\":{\"outlinewidth\":0,\"ticks\":\"\"}}}],\"scatterternary\":[{\"type\":\"scatterternary\",\"marker\":{\"colorbar\":{\"outlinewidth\":0,\"ticks\":\"\"}}}],\"scattercarpet\":[{\"type\":\"scattercarpet\",\"marker\":{\"colorbar\":{\"outlinewidth\":0,\"ticks\":\"\"}}}],\"carpet\":[{\"aaxis\":{\"endlinecolor\":\"#2a3f5f\",\"gridcolor\":\"white\",\"linecolor\":\"white\",\"minorgridcolor\":\"white\",\"startlinecolor\":\"#2a3f5f\"},\"baxis\":{\"endlinecolor\":\"#2a3f5f\",\"gridcolor\":\"white\",\"linecolor\":\"white\",\"minorgridcolor\":\"white\",\"startlinecolor\":\"#2a3f5f\"},\"type\":\"carpet\"}],\"table\":[{\"cells\":{\"fill\":{\"color\":\"#EBF0F8\"},\"line\":{\"color\":\"white\"}},\"header\":{\"fill\":{\"color\":\"#C8D4E3\"},\"line\":{\"color\":\"white\"}},\"type\":\"table\"}],\"barpolar\":[{\"marker\":{\"line\":{\"color\":\"#E5ECF6\",\"width\":0.5},\"pattern\":{\"fillmode\":\"overlay\",\"size\":10,\"solidity\":0.2}},\"type\":\"barpolar\"}],\"pie\":[{\"automargin\":true,\"type\":\"pie\"}]},\"layout\":{\"autotypenumbers\":\"strict\",\"colorway\":[\"#636efa\",\"#EF553B\",\"#00cc96\",\"#ab63fa\",\"#FFA15A\",\"#19d3f3\",\"#FF6692\",\"#B6E880\",\"#FF97FF\",\"#FECB52\"],\"font\":{\"color\":\"#2a3f5f\"},\"hovermode\":\"closest\",\"hoverlabel\":{\"align\":\"left\"},\"paper_bgcolor\":\"white\",\"plot_bgcolor\":\"#E5ECF6\",\"polar\":{\"bgcolor\":\"#E5ECF6\",\"angularaxis\":{\"gridcolor\":\"white\",\"linecolor\":\"white\",\"ticks\":\"\"},\"radialaxis\":{\"gridcolor\":\"white\",\"linecolor\":\"white\",\"ticks\":\"\"}},\"ternary\":{\"bgcolor\":\"#E5ECF6\",\"aaxis\":{\"gridcolor\":\"white\",\"linecolor\":\"white\",\"ticks\":\"\"},\"baxis\":{\"gridcolor\":\"white\",\"linecolor\":\"white\",\"ticks\":\"\"},\"caxis\":{\"gridcolor\":\"white\",\"linecolor\":\"white\",\"ticks\":\"\"}},\"coloraxis\":{\"colorbar\":{\"outlinewidth\":0,\"ticks\":\"\"}},\"colorscale\":{\"sequential\":[[0.0,\"#0d0887\"],[0.1111111111111111,\"#46039f\"],[0.2222222222222222,\"#7201a8\"],[0.3333333333333333,\"#9c179e\"],[0.4444444444444444,\"#bd3786\"],[0.5555555555555556,\"#d8576b\"],[0.6666666666666666,\"#ed7953\"],[0.7777777777777778,\"#fb9f3a\"],[0.8888888888888888,\"#fdca26\"],[1.0,\"#f0f921\"]],\"sequentialminus\":[[0.0,\"#0d0887\"],[0.1111111111111111,\"#46039f\"],[0.2222222222222222,\"#7201a8\"],[0.3333333333333333,\"#9c179e\"],[0.4444444444444444,\"#bd3786\"],[0.5555555555555556,\"#d8576b\"],[0.6666666666666666,\"#ed7953\"],[0.7777777777777778,\"#fb9f3a\"],[0.8888888888888888,\"#fdca26\"],[1.0,\"#f0f921\"]],\"diverging\":[[0,\"#8e0152\"],[0.1,\"#c51b7d\"],[0.2,\"#de77ae\"],[0.3,\"#f1b6da\"],[0.4,\"#fde0ef\"],[0.5,\"#f7f7f7\"],[0.6,\"#e6f5d0\"],[0.7,\"#b8e186\"],[0.8,\"#7fbc41\"],[0.9,\"#4d9221\"],[1,\"#276419\"]]},\"xaxis\":{\"gridcolor\":\"white\",\"linecolor\":\"white\",\"ticks\":\"\",\"title\":{\"standoff\":15},\"zerolinecolor\":\"white\",\"automargin\":true,\"zerolinewidth\":2},\"yaxis\":{\"gridcolor\":\"white\",\"linecolor\":\"white\",\"ticks\":\"\",\"title\":{\"standoff\":15},\"zerolinecolor\":\"white\",\"automargin\":true,\"zerolinewidth\":2},\"scene\":{\"xaxis\":{\"backgroundcolor\":\"#E5ECF6\",\"gridcolor\":\"white\",\"linecolor\":\"white\",\"showbackground\":true,\"ticks\":\"\",\"zerolinecolor\":\"white\",\"gridwidth\":2},\"yaxis\":{\"backgroundcolor\":\"#E5ECF6\",\"gridcolor\":\"white\",\"linecolor\":\"white\",\"showbackground\":true,\"ticks\":\"\",\"zerolinecolor\":\"white\",\"gridwidth\":2},\"zaxis\":{\"backgroundcolor\":\"#E5ECF6\",\"gridcolor\":\"white\",\"linecolor\":\"white\",\"showbackground\":true,\"ticks\":\"\",\"zerolinecolor\":\"white\",\"gridwidth\":2}},\"shapedefaults\":{\"line\":{\"color\":\"#2a3f5f\"}},\"annotationdefaults\":{\"arrowcolor\":\"#2a3f5f\",\"arrowhead\":0,\"arrowwidth\":1},\"geo\":{\"bgcolor\":\"white\",\"landcolor\":\"#E5ECF6\",\"subunitcolor\":\"white\",\"showland\":true,\"showlakes\":true,\"lakecolor\":\"white\"},\"title\":{\"x\":0.05},\"mapbox\":{\"style\":\"light\"}}}},                        {\"responsive\": true}                    ).then(function(){\n",
       "                            \n",
       "var gd = document.getElementById('05f93363-2edd-497f-a4c7-2306701de031');\n",
       "var x = new MutationObserver(function (mutations, observer) {{\n",
       "        var display = window.getComputedStyle(gd).display;\n",
       "        if (!display || display === 'none') {{\n",
       "            console.log([gd, 'removed!']);\n",
       "            Plotly.purge(gd);\n",
       "            observer.disconnect();\n",
       "        }}\n",
       "}});\n",
       "\n",
       "// Listen for the removal of the full notebook cells\n",
       "var notebookContainer = gd.closest('#notebook-container');\n",
       "if (notebookContainer) {{\n",
       "    x.observe(notebookContainer, {childList: true});\n",
       "}}\n",
       "\n",
       "// Listen for the clearing of the current output cell\n",
       "var outputEl = gd.closest('.output');\n",
       "if (outputEl) {{\n",
       "    x.observe(outputEl, {childList: true});\n",
       "}}\n",
       "\n",
       "                        })                };                });            </script>        </div>"
      ]
     },
     "metadata": {},
     "output_type": "display_data",
     "jetTransient": {
      "display_id": null
     }
    }
   ],
   "execution_count": 19
  },
  {
   "metadata": {
    "ExecuteTime": {
     "end_time": "2025-09-25T09:54:14.150627Z",
     "start_time": "2025-09-25T09:54:14.043800Z"
    }
   },
   "cell_type": "code",
   "source": [
    "itemsets, rules = efficient_apriori(transactions, min_support=min_sup, min_confidence=0.8)\n",
    "n_trans = len(transactions)\n",
    "output_efficient_apriori(rules)"
   ],
   "id": "f85577058ec85027",
   "outputs": [
    {
     "name": "stdout",
     "output_type": "stream",
     "text": [
      "0: ('Extra Salami or Feta',) -> ('Coffee',) Support = 0.003 Confidence = 0.816 Lift = 1.717\n",
      "1: ('Keeping It Local',) -> ('Coffee',) Support = 0.005 Confidence = 0.810 Lift = 1.704\n",
      "2: ('Cake', 'Vegan mincepie') -> ('Coffee',) Support = 0.001 Confidence = 0.833 Lift = 1.754\n",
      "3: ('Extra Salami or Feta', 'Salad') -> ('Coffee',) Support = 0.001 Confidence = 0.875 Lift = 1.842\n",
      "4: ('Hearty & Seasonal', 'Sandwich') -> ('Coffee',) Support = 0.001 Confidence = 0.857 Lift = 1.804\n",
      "5: ('NONE', 'Scone') -> ('Coffee',) Support = 0.002 Confidence = 0.833 Lift = 1.754\n",
      "6: ('NONE', 'Tartine') -> ('Coffee',) Support = 0.001 Confidence = 0.923 Lift = 1.943\n",
      "7: ('Pastry', 'Toast') -> ('Coffee',) Support = 0.001 Confidence = 0.867 Lift = 1.824\n",
      "8: ('Salad', 'Sandwich') -> ('Coffee',) Support = 0.002 Confidence = 0.833 Lift = 1.754\n",
      "9: ('Hot chocolate', 'Medialuna', 'NONE') -> ('Coffee',) Support = 0.001 Confidence = 0.909 Lift = 1.914\n"
     ]
    },
    {
     "data": {
      "application/vnd.plotly.v1+json": {
       "data": [
        {
         "marker": {
          "color": [
           1.7171575692765482,
           1.7039689550731953,
           1.7540856890459364,
           1.8417899734982335,
           1.8042024230186773,
           1.7540856890459364,
           1.942987224789345,
           1.824249116607774,
           1.7540856890459364,
           1.913548024413749
          ],
          "colorbar": {
           "title": {
            "text": "Lift"
           }
          },
          "colorscale": [
           [
            0.0,
            "rgb(243, 224, 247)"
           ],
           [
            0.16666666666666666,
            "rgb(228, 199, 241)"
           ],
           [
            0.3333333333333333,
            "rgb(209, 175, 232)"
           ],
           [
            0.5,
            "rgb(185, 152, 221)"
           ],
           [
            0.6666666666666666,
            "rgb(159, 130, 206)"
           ],
           [
            0.8333333333333334,
            "rgb(130, 109, 186)"
           ],
           [
            1.0,
            "rgb(99, 88, 159)"
           ]
          ]
         },
         "mode": "markers",
         "text": [
          "['Extra Salami or Feta'] => ['Coffee'], Lift: 1.7171575692765482",
          "['Keeping It Local'] => ['Coffee'], Lift: 1.7039689550731953",
          "['Cake, Vegan mincepie'] => ['Coffee'], Lift: 1.7540856890459364",
          "['Extra Salami or Feta, Salad'] => ['Coffee'], Lift: 1.8417899734982335",
          "['Hearty & Seasonal, Sandwich'] => ['Coffee'], Lift: 1.8042024230186773",
          "['NONE, Scone'] => ['Coffee'], Lift: 1.7540856890459364",
          "['NONE, Tartine'] => ['Coffee'], Lift: 1.942987224789345",
          "['Pastry, Toast'] => ['Coffee'], Lift: 1.824249116607774",
          "['Salad, Sandwich'] => ['Coffee'], Lift: 1.7540856890459364",
          "['Hot chocolate, Medialuna, NONE'] => ['Coffee'], Lift: 1.913548024413749"
         ],
         "x": [
          0.003252544329031581,
          0.0053509600251809885,
          0.0010492078480747037,
          0.0014688909873045851,
          0.0012590494176896443,
          0.0015738117721120553,
          0.0012590494176896443,
          0.0013639702024971147,
          0.0015738117721120553,
          0.0010492078480747037
         ],
         "y": [
          0.8157894736842105,
          0.8095238095238095,
          0.8333333333333334,
          0.875,
          0.8571428571428571,
          0.8333333333333334,
          0.9230769230769231,
          0.8666666666666667,
          0.8333333333333334,
          0.9090909090909091
         ],
         "type": "scatter"
        }
       ],
       "layout": {
        "template": {
         "data": {
          "histogram2dcontour": [
           {
            "type": "histogram2dcontour",
            "colorbar": {
             "outlinewidth": 0,
             "ticks": ""
            },
            "colorscale": [
             [
              0.0,
              "#0d0887"
             ],
             [
              0.1111111111111111,
              "#46039f"
             ],
             [
              0.2222222222222222,
              "#7201a8"
             ],
             [
              0.3333333333333333,
              "#9c179e"
             ],
             [
              0.4444444444444444,
              "#bd3786"
             ],
             [
              0.5555555555555556,
              "#d8576b"
             ],
             [
              0.6666666666666666,
              "#ed7953"
             ],
             [
              0.7777777777777778,
              "#fb9f3a"
             ],
             [
              0.8888888888888888,
              "#fdca26"
             ],
             [
              1.0,
              "#f0f921"
             ]
            ]
           }
          ],
          "choropleth": [
           {
            "type": "choropleth",
            "colorbar": {
             "outlinewidth": 0,
             "ticks": ""
            }
           }
          ],
          "histogram2d": [
           {
            "type": "histogram2d",
            "colorbar": {
             "outlinewidth": 0,
             "ticks": ""
            },
            "colorscale": [
             [
              0.0,
              "#0d0887"
             ],
             [
              0.1111111111111111,
              "#46039f"
             ],
             [
              0.2222222222222222,
              "#7201a8"
             ],
             [
              0.3333333333333333,
              "#9c179e"
             ],
             [
              0.4444444444444444,
              "#bd3786"
             ],
             [
              0.5555555555555556,
              "#d8576b"
             ],
             [
              0.6666666666666666,
              "#ed7953"
             ],
             [
              0.7777777777777778,
              "#fb9f3a"
             ],
             [
              0.8888888888888888,
              "#fdca26"
             ],
             [
              1.0,
              "#f0f921"
             ]
            ]
           }
          ],
          "heatmap": [
           {
            "type": "heatmap",
            "colorbar": {
             "outlinewidth": 0,
             "ticks": ""
            },
            "colorscale": [
             [
              0.0,
              "#0d0887"
             ],
             [
              0.1111111111111111,
              "#46039f"
             ],
             [
              0.2222222222222222,
              "#7201a8"
             ],
             [
              0.3333333333333333,
              "#9c179e"
             ],
             [
              0.4444444444444444,
              "#bd3786"
             ],
             [
              0.5555555555555556,
              "#d8576b"
             ],
             [
              0.6666666666666666,
              "#ed7953"
             ],
             [
              0.7777777777777778,
              "#fb9f3a"
             ],
             [
              0.8888888888888888,
              "#fdca26"
             ],
             [
              1.0,
              "#f0f921"
             ]
            ]
           }
          ],
          "heatmapgl": [
           {
            "type": "heatmapgl",
            "colorbar": {
             "outlinewidth": 0,
             "ticks": ""
            },
            "colorscale": [
             [
              0.0,
              "#0d0887"
             ],
             [
              0.1111111111111111,
              "#46039f"
             ],
             [
              0.2222222222222222,
              "#7201a8"
             ],
             [
              0.3333333333333333,
              "#9c179e"
             ],
             [
              0.4444444444444444,
              "#bd3786"
             ],
             [
              0.5555555555555556,
              "#d8576b"
             ],
             [
              0.6666666666666666,
              "#ed7953"
             ],
             [
              0.7777777777777778,
              "#fb9f3a"
             ],
             [
              0.8888888888888888,
              "#fdca26"
             ],
             [
              1.0,
              "#f0f921"
             ]
            ]
           }
          ],
          "contourcarpet": [
           {
            "type": "contourcarpet",
            "colorbar": {
             "outlinewidth": 0,
             "ticks": ""
            }
           }
          ],
          "contour": [
           {
            "type": "contour",
            "colorbar": {
             "outlinewidth": 0,
             "ticks": ""
            },
            "colorscale": [
             [
              0.0,
              "#0d0887"
             ],
             [
              0.1111111111111111,
              "#46039f"
             ],
             [
              0.2222222222222222,
              "#7201a8"
             ],
             [
              0.3333333333333333,
              "#9c179e"
             ],
             [
              0.4444444444444444,
              "#bd3786"
             ],
             [
              0.5555555555555556,
              "#d8576b"
             ],
             [
              0.6666666666666666,
              "#ed7953"
             ],
             [
              0.7777777777777778,
              "#fb9f3a"
             ],
             [
              0.8888888888888888,
              "#fdca26"
             ],
             [
              1.0,
              "#f0f921"
             ]
            ]
           }
          ],
          "surface": [
           {
            "type": "surface",
            "colorbar": {
             "outlinewidth": 0,
             "ticks": ""
            },
            "colorscale": [
             [
              0.0,
              "#0d0887"
             ],
             [
              0.1111111111111111,
              "#46039f"
             ],
             [
              0.2222222222222222,
              "#7201a8"
             ],
             [
              0.3333333333333333,
              "#9c179e"
             ],
             [
              0.4444444444444444,
              "#bd3786"
             ],
             [
              0.5555555555555556,
              "#d8576b"
             ],
             [
              0.6666666666666666,
              "#ed7953"
             ],
             [
              0.7777777777777778,
              "#fb9f3a"
             ],
             [
              0.8888888888888888,
              "#fdca26"
             ],
             [
              1.0,
              "#f0f921"
             ]
            ]
           }
          ],
          "mesh3d": [
           {
            "type": "mesh3d",
            "colorbar": {
             "outlinewidth": 0,
             "ticks": ""
            }
           }
          ],
          "scatter": [
           {
            "fillpattern": {
             "fillmode": "overlay",
             "size": 10,
             "solidity": 0.2
            },
            "type": "scatter"
           }
          ],
          "parcoords": [
           {
            "type": "parcoords",
            "line": {
             "colorbar": {
              "outlinewidth": 0,
              "ticks": ""
             }
            }
           }
          ],
          "scatterpolargl": [
           {
            "type": "scatterpolargl",
            "marker": {
             "colorbar": {
              "outlinewidth": 0,
              "ticks": ""
             }
            }
           }
          ],
          "bar": [
           {
            "error_x": {
             "color": "#2a3f5f"
            },
            "error_y": {
             "color": "#2a3f5f"
            },
            "marker": {
             "line": {
              "color": "#E5ECF6",
              "width": 0.5
             },
             "pattern": {
              "fillmode": "overlay",
              "size": 10,
              "solidity": 0.2
             }
            },
            "type": "bar"
           }
          ],
          "scattergeo": [
           {
            "type": "scattergeo",
            "marker": {
             "colorbar": {
              "outlinewidth": 0,
              "ticks": ""
             }
            }
           }
          ],
          "scatterpolar": [
           {
            "type": "scatterpolar",
            "marker": {
             "colorbar": {
              "outlinewidth": 0,
              "ticks": ""
             }
            }
           }
          ],
          "histogram": [
           {
            "marker": {
             "pattern": {
              "fillmode": "overlay",
              "size": 10,
              "solidity": 0.2
             }
            },
            "type": "histogram"
           }
          ],
          "scattergl": [
           {
            "type": "scattergl",
            "marker": {
             "colorbar": {
              "outlinewidth": 0,
              "ticks": ""
             }
            }
           }
          ],
          "scatter3d": [
           {
            "type": "scatter3d",
            "line": {
             "colorbar": {
              "outlinewidth": 0,
              "ticks": ""
             }
            },
            "marker": {
             "colorbar": {
              "outlinewidth": 0,
              "ticks": ""
             }
            }
           }
          ],
          "scattermapbox": [
           {
            "type": "scattermapbox",
            "marker": {
             "colorbar": {
              "outlinewidth": 0,
              "ticks": ""
             }
            }
           }
          ],
          "scatterternary": [
           {
            "type": "scatterternary",
            "marker": {
             "colorbar": {
              "outlinewidth": 0,
              "ticks": ""
             }
            }
           }
          ],
          "scattercarpet": [
           {
            "type": "scattercarpet",
            "marker": {
             "colorbar": {
              "outlinewidth": 0,
              "ticks": ""
             }
            }
           }
          ],
          "carpet": [
           {
            "aaxis": {
             "endlinecolor": "#2a3f5f",
             "gridcolor": "white",
             "linecolor": "white",
             "minorgridcolor": "white",
             "startlinecolor": "#2a3f5f"
            },
            "baxis": {
             "endlinecolor": "#2a3f5f",
             "gridcolor": "white",
             "linecolor": "white",
             "minorgridcolor": "white",
             "startlinecolor": "#2a3f5f"
            },
            "type": "carpet"
           }
          ],
          "table": [
           {
            "cells": {
             "fill": {
              "color": "#EBF0F8"
             },
             "line": {
              "color": "white"
             }
            },
            "header": {
             "fill": {
              "color": "#C8D4E3"
             },
             "line": {
              "color": "white"
             }
            },
            "type": "table"
           }
          ],
          "barpolar": [
           {
            "marker": {
             "line": {
              "color": "#E5ECF6",
              "width": 0.5
             },
             "pattern": {
              "fillmode": "overlay",
              "size": 10,
              "solidity": 0.2
             }
            },
            "type": "barpolar"
           }
          ],
          "pie": [
           {
            "automargin": true,
            "type": "pie"
           }
          ]
         },
         "layout": {
          "autotypenumbers": "strict",
          "colorway": [
           "#636efa",
           "#EF553B",
           "#00cc96",
           "#ab63fa",
           "#FFA15A",
           "#19d3f3",
           "#FF6692",
           "#B6E880",
           "#FF97FF",
           "#FECB52"
          ],
          "font": {
           "color": "#2a3f5f"
          },
          "hovermode": "closest",
          "hoverlabel": {
           "align": "left"
          },
          "paper_bgcolor": "white",
          "plot_bgcolor": "#E5ECF6",
          "polar": {
           "bgcolor": "#E5ECF6",
           "angularaxis": {
            "gridcolor": "white",
            "linecolor": "white",
            "ticks": ""
           },
           "radialaxis": {
            "gridcolor": "white",
            "linecolor": "white",
            "ticks": ""
           }
          },
          "ternary": {
           "bgcolor": "#E5ECF6",
           "aaxis": {
            "gridcolor": "white",
            "linecolor": "white",
            "ticks": ""
           },
           "baxis": {
            "gridcolor": "white",
            "linecolor": "white",
            "ticks": ""
           },
           "caxis": {
            "gridcolor": "white",
            "linecolor": "white",
            "ticks": ""
           }
          },
          "coloraxis": {
           "colorbar": {
            "outlinewidth": 0,
            "ticks": ""
           }
          },
          "colorscale": {
           "sequential": [
            [
             0.0,
             "#0d0887"
            ],
            [
             0.1111111111111111,
             "#46039f"
            ],
            [
             0.2222222222222222,
             "#7201a8"
            ],
            [
             0.3333333333333333,
             "#9c179e"
            ],
            [
             0.4444444444444444,
             "#bd3786"
            ],
            [
             0.5555555555555556,
             "#d8576b"
            ],
            [
             0.6666666666666666,
             "#ed7953"
            ],
            [
             0.7777777777777778,
             "#fb9f3a"
            ],
            [
             0.8888888888888888,
             "#fdca26"
            ],
            [
             1.0,
             "#f0f921"
            ]
           ],
           "sequentialminus": [
            [
             0.0,
             "#0d0887"
            ],
            [
             0.1111111111111111,
             "#46039f"
            ],
            [
             0.2222222222222222,
             "#7201a8"
            ],
            [
             0.3333333333333333,
             "#9c179e"
            ],
            [
             0.4444444444444444,
             "#bd3786"
            ],
            [
             0.5555555555555556,
             "#d8576b"
            ],
            [
             0.6666666666666666,
             "#ed7953"
            ],
            [
             0.7777777777777778,
             "#fb9f3a"
            ],
            [
             0.8888888888888888,
             "#fdca26"
            ],
            [
             1.0,
             "#f0f921"
            ]
           ],
           "diverging": [
            [
             0,
             "#8e0152"
            ],
            [
             0.1,
             "#c51b7d"
            ],
            [
             0.2,
             "#de77ae"
            ],
            [
             0.3,
             "#f1b6da"
            ],
            [
             0.4,
             "#fde0ef"
            ],
            [
             0.5,
             "#f7f7f7"
            ],
            [
             0.6,
             "#e6f5d0"
            ],
            [
             0.7,
             "#b8e186"
            ],
            [
             0.8,
             "#7fbc41"
            ],
            [
             0.9,
             "#4d9221"
            ],
            [
             1,
             "#276419"
            ]
           ]
          },
          "xaxis": {
           "gridcolor": "white",
           "linecolor": "white",
           "ticks": "",
           "title": {
            "standoff": 15
           },
           "zerolinecolor": "white",
           "automargin": true,
           "zerolinewidth": 2
          },
          "yaxis": {
           "gridcolor": "white",
           "linecolor": "white",
           "ticks": "",
           "title": {
            "standoff": 15
           },
           "zerolinecolor": "white",
           "automargin": true,
           "zerolinewidth": 2
          },
          "scene": {
           "xaxis": {
            "backgroundcolor": "#E5ECF6",
            "gridcolor": "white",
            "linecolor": "white",
            "showbackground": true,
            "ticks": "",
            "zerolinecolor": "white",
            "gridwidth": 2
           },
           "yaxis": {
            "backgroundcolor": "#E5ECF6",
            "gridcolor": "white",
            "linecolor": "white",
            "showbackground": true,
            "ticks": "",
            "zerolinecolor": "white",
            "gridwidth": 2
           },
           "zaxis": {
            "backgroundcolor": "#E5ECF6",
            "gridcolor": "white",
            "linecolor": "white",
            "showbackground": true,
            "ticks": "",
            "zerolinecolor": "white",
            "gridwidth": 2
           }
          },
          "shapedefaults": {
           "line": {
            "color": "#2a3f5f"
           }
          },
          "annotationdefaults": {
           "arrowcolor": "#2a3f5f",
           "arrowhead": 0,
           "arrowwidth": 1
          },
          "geo": {
           "bgcolor": "white",
           "landcolor": "#E5ECF6",
           "subunitcolor": "white",
           "showland": true,
           "showlakes": true,
           "lakecolor": "white"
          },
          "title": {
           "x": 0.05
          },
          "mapbox": {
           "style": "light"
          }
         }
        },
        "xaxis": {
         "title": {
          "text": "Support"
         },
         "autorange": "reversed"
        },
        "title": {
         "text": "Association Rules Strength Distribution"
        },
        "yaxis": {
         "title": {
          "text": "Confidence"
         }
        }
       },
       "config": {
        "plotlyServerURL": "https://plot.ly"
       }
      },
      "text/html": [
       "<div>                            <div id=\"50a59b43-32cd-4fc6-b632-ab6d8f776211\" class=\"plotly-graph-div\" style=\"height:525px; width:100%;\"></div>            <script type=\"text/javascript\">                require([\"plotly\"], function(Plotly) {                    window.PLOTLYENV=window.PLOTLYENV || {};                                    if (document.getElementById(\"50a59b43-32cd-4fc6-b632-ab6d8f776211\")) {                    Plotly.newPlot(                        \"50a59b43-32cd-4fc6-b632-ab6d8f776211\",                        [{\"marker\":{\"color\":[1.7171575692765482,1.7039689550731953,1.7540856890459364,1.8417899734982335,1.8042024230186773,1.7540856890459364,1.942987224789345,1.824249116607774,1.7540856890459364,1.913548024413749],\"colorbar\":{\"title\":{\"text\":\"Lift\"}},\"colorscale\":[[0.0,\"rgb(243, 224, 247)\"],[0.16666666666666666,\"rgb(228, 199, 241)\"],[0.3333333333333333,\"rgb(209, 175, 232)\"],[0.5,\"rgb(185, 152, 221)\"],[0.6666666666666666,\"rgb(159, 130, 206)\"],[0.8333333333333334,\"rgb(130, 109, 186)\"],[1.0,\"rgb(99, 88, 159)\"]]},\"mode\":\"markers\",\"text\":[\"['Extra Salami or Feta'] =\\u003e ['Coffee'], Lift: 1.7171575692765482\",\"['Keeping It Local'] =\\u003e ['Coffee'], Lift: 1.7039689550731953\",\"['Cake, Vegan mincepie'] =\\u003e ['Coffee'], Lift: 1.7540856890459364\",\"['Extra Salami or Feta, Salad'] =\\u003e ['Coffee'], Lift: 1.8417899734982335\",\"['Hearty & Seasonal, Sandwich'] =\\u003e ['Coffee'], Lift: 1.8042024230186773\",\"['NONE, Scone'] =\\u003e ['Coffee'], Lift: 1.7540856890459364\",\"['NONE, Tartine'] =\\u003e ['Coffee'], Lift: 1.942987224789345\",\"['Pastry, Toast'] =\\u003e ['Coffee'], Lift: 1.824249116607774\",\"['Salad, Sandwich'] =\\u003e ['Coffee'], Lift: 1.7540856890459364\",\"['Hot chocolate, Medialuna, NONE'] =\\u003e ['Coffee'], Lift: 1.913548024413749\"],\"x\":[0.003252544329031581,0.0053509600251809885,0.0010492078480747037,0.0014688909873045851,0.0012590494176896443,0.0015738117721120553,0.0012590494176896443,0.0013639702024971147,0.0015738117721120553,0.0010492078480747037],\"y\":[0.8157894736842105,0.8095238095238095,0.8333333333333334,0.875,0.8571428571428571,0.8333333333333334,0.9230769230769231,0.8666666666666667,0.8333333333333334,0.9090909090909091],\"type\":\"scatter\"}],                        {\"template\":{\"data\":{\"histogram2dcontour\":[{\"type\":\"histogram2dcontour\",\"colorbar\":{\"outlinewidth\":0,\"ticks\":\"\"},\"colorscale\":[[0.0,\"#0d0887\"],[0.1111111111111111,\"#46039f\"],[0.2222222222222222,\"#7201a8\"],[0.3333333333333333,\"#9c179e\"],[0.4444444444444444,\"#bd3786\"],[0.5555555555555556,\"#d8576b\"],[0.6666666666666666,\"#ed7953\"],[0.7777777777777778,\"#fb9f3a\"],[0.8888888888888888,\"#fdca26\"],[1.0,\"#f0f921\"]]}],\"choropleth\":[{\"type\":\"choropleth\",\"colorbar\":{\"outlinewidth\":0,\"ticks\":\"\"}}],\"histogram2d\":[{\"type\":\"histogram2d\",\"colorbar\":{\"outlinewidth\":0,\"ticks\":\"\"},\"colorscale\":[[0.0,\"#0d0887\"],[0.1111111111111111,\"#46039f\"],[0.2222222222222222,\"#7201a8\"],[0.3333333333333333,\"#9c179e\"],[0.4444444444444444,\"#bd3786\"],[0.5555555555555556,\"#d8576b\"],[0.6666666666666666,\"#ed7953\"],[0.7777777777777778,\"#fb9f3a\"],[0.8888888888888888,\"#fdca26\"],[1.0,\"#f0f921\"]]}],\"heatmap\":[{\"type\":\"heatmap\",\"colorbar\":{\"outlinewidth\":0,\"ticks\":\"\"},\"colorscale\":[[0.0,\"#0d0887\"],[0.1111111111111111,\"#46039f\"],[0.2222222222222222,\"#7201a8\"],[0.3333333333333333,\"#9c179e\"],[0.4444444444444444,\"#bd3786\"],[0.5555555555555556,\"#d8576b\"],[0.6666666666666666,\"#ed7953\"],[0.7777777777777778,\"#fb9f3a\"],[0.8888888888888888,\"#fdca26\"],[1.0,\"#f0f921\"]]}],\"heatmapgl\":[{\"type\":\"heatmapgl\",\"colorbar\":{\"outlinewidth\":0,\"ticks\":\"\"},\"colorscale\":[[0.0,\"#0d0887\"],[0.1111111111111111,\"#46039f\"],[0.2222222222222222,\"#7201a8\"],[0.3333333333333333,\"#9c179e\"],[0.4444444444444444,\"#bd3786\"],[0.5555555555555556,\"#d8576b\"],[0.6666666666666666,\"#ed7953\"],[0.7777777777777778,\"#fb9f3a\"],[0.8888888888888888,\"#fdca26\"],[1.0,\"#f0f921\"]]}],\"contourcarpet\":[{\"type\":\"contourcarpet\",\"colorbar\":{\"outlinewidth\":0,\"ticks\":\"\"}}],\"contour\":[{\"type\":\"contour\",\"colorbar\":{\"outlinewidth\":0,\"ticks\":\"\"},\"colorscale\":[[0.0,\"#0d0887\"],[0.1111111111111111,\"#46039f\"],[0.2222222222222222,\"#7201a8\"],[0.3333333333333333,\"#9c179e\"],[0.4444444444444444,\"#bd3786\"],[0.5555555555555556,\"#d8576b\"],[0.6666666666666666,\"#ed7953\"],[0.7777777777777778,\"#fb9f3a\"],[0.8888888888888888,\"#fdca26\"],[1.0,\"#f0f921\"]]}],\"surface\":[{\"type\":\"surface\",\"colorbar\":{\"outlinewidth\":0,\"ticks\":\"\"},\"colorscale\":[[0.0,\"#0d0887\"],[0.1111111111111111,\"#46039f\"],[0.2222222222222222,\"#7201a8\"],[0.3333333333333333,\"#9c179e\"],[0.4444444444444444,\"#bd3786\"],[0.5555555555555556,\"#d8576b\"],[0.6666666666666666,\"#ed7953\"],[0.7777777777777778,\"#fb9f3a\"],[0.8888888888888888,\"#fdca26\"],[1.0,\"#f0f921\"]]}],\"mesh3d\":[{\"type\":\"mesh3d\",\"colorbar\":{\"outlinewidth\":0,\"ticks\":\"\"}}],\"scatter\":[{\"fillpattern\":{\"fillmode\":\"overlay\",\"size\":10,\"solidity\":0.2},\"type\":\"scatter\"}],\"parcoords\":[{\"type\":\"parcoords\",\"line\":{\"colorbar\":{\"outlinewidth\":0,\"ticks\":\"\"}}}],\"scatterpolargl\":[{\"type\":\"scatterpolargl\",\"marker\":{\"colorbar\":{\"outlinewidth\":0,\"ticks\":\"\"}}}],\"bar\":[{\"error_x\":{\"color\":\"#2a3f5f\"},\"error_y\":{\"color\":\"#2a3f5f\"},\"marker\":{\"line\":{\"color\":\"#E5ECF6\",\"width\":0.5},\"pattern\":{\"fillmode\":\"overlay\",\"size\":10,\"solidity\":0.2}},\"type\":\"bar\"}],\"scattergeo\":[{\"type\":\"scattergeo\",\"marker\":{\"colorbar\":{\"outlinewidth\":0,\"ticks\":\"\"}}}],\"scatterpolar\":[{\"type\":\"scatterpolar\",\"marker\":{\"colorbar\":{\"outlinewidth\":0,\"ticks\":\"\"}}}],\"histogram\":[{\"marker\":{\"pattern\":{\"fillmode\":\"overlay\",\"size\":10,\"solidity\":0.2}},\"type\":\"histogram\"}],\"scattergl\":[{\"type\":\"scattergl\",\"marker\":{\"colorbar\":{\"outlinewidth\":0,\"ticks\":\"\"}}}],\"scatter3d\":[{\"type\":\"scatter3d\",\"line\":{\"colorbar\":{\"outlinewidth\":0,\"ticks\":\"\"}},\"marker\":{\"colorbar\":{\"outlinewidth\":0,\"ticks\":\"\"}}}],\"scattermapbox\":[{\"type\":\"scattermapbox\",\"marker\":{\"colorbar\":{\"outlinewidth\":0,\"ticks\":\"\"}}}],\"scatterternary\":[{\"type\":\"scatterternary\",\"marker\":{\"colorbar\":{\"outlinewidth\":0,\"ticks\":\"\"}}}],\"scattercarpet\":[{\"type\":\"scattercarpet\",\"marker\":{\"colorbar\":{\"outlinewidth\":0,\"ticks\":\"\"}}}],\"carpet\":[{\"aaxis\":{\"endlinecolor\":\"#2a3f5f\",\"gridcolor\":\"white\",\"linecolor\":\"white\",\"minorgridcolor\":\"white\",\"startlinecolor\":\"#2a3f5f\"},\"baxis\":{\"endlinecolor\":\"#2a3f5f\",\"gridcolor\":\"white\",\"linecolor\":\"white\",\"minorgridcolor\":\"white\",\"startlinecolor\":\"#2a3f5f\"},\"type\":\"carpet\"}],\"table\":[{\"cells\":{\"fill\":{\"color\":\"#EBF0F8\"},\"line\":{\"color\":\"white\"}},\"header\":{\"fill\":{\"color\":\"#C8D4E3\"},\"line\":{\"color\":\"white\"}},\"type\":\"table\"}],\"barpolar\":[{\"marker\":{\"line\":{\"color\":\"#E5ECF6\",\"width\":0.5},\"pattern\":{\"fillmode\":\"overlay\",\"size\":10,\"solidity\":0.2}},\"type\":\"barpolar\"}],\"pie\":[{\"automargin\":true,\"type\":\"pie\"}]},\"layout\":{\"autotypenumbers\":\"strict\",\"colorway\":[\"#636efa\",\"#EF553B\",\"#00cc96\",\"#ab63fa\",\"#FFA15A\",\"#19d3f3\",\"#FF6692\",\"#B6E880\",\"#FF97FF\",\"#FECB52\"],\"font\":{\"color\":\"#2a3f5f\"},\"hovermode\":\"closest\",\"hoverlabel\":{\"align\":\"left\"},\"paper_bgcolor\":\"white\",\"plot_bgcolor\":\"#E5ECF6\",\"polar\":{\"bgcolor\":\"#E5ECF6\",\"angularaxis\":{\"gridcolor\":\"white\",\"linecolor\":\"white\",\"ticks\":\"\"},\"radialaxis\":{\"gridcolor\":\"white\",\"linecolor\":\"white\",\"ticks\":\"\"}},\"ternary\":{\"bgcolor\":\"#E5ECF6\",\"aaxis\":{\"gridcolor\":\"white\",\"linecolor\":\"white\",\"ticks\":\"\"},\"baxis\":{\"gridcolor\":\"white\",\"linecolor\":\"white\",\"ticks\":\"\"},\"caxis\":{\"gridcolor\":\"white\",\"linecolor\":\"white\",\"ticks\":\"\"}},\"coloraxis\":{\"colorbar\":{\"outlinewidth\":0,\"ticks\":\"\"}},\"colorscale\":{\"sequential\":[[0.0,\"#0d0887\"],[0.1111111111111111,\"#46039f\"],[0.2222222222222222,\"#7201a8\"],[0.3333333333333333,\"#9c179e\"],[0.4444444444444444,\"#bd3786\"],[0.5555555555555556,\"#d8576b\"],[0.6666666666666666,\"#ed7953\"],[0.7777777777777778,\"#fb9f3a\"],[0.8888888888888888,\"#fdca26\"],[1.0,\"#f0f921\"]],\"sequentialminus\":[[0.0,\"#0d0887\"],[0.1111111111111111,\"#46039f\"],[0.2222222222222222,\"#7201a8\"],[0.3333333333333333,\"#9c179e\"],[0.4444444444444444,\"#bd3786\"],[0.5555555555555556,\"#d8576b\"],[0.6666666666666666,\"#ed7953\"],[0.7777777777777778,\"#fb9f3a\"],[0.8888888888888888,\"#fdca26\"],[1.0,\"#f0f921\"]],\"diverging\":[[0,\"#8e0152\"],[0.1,\"#c51b7d\"],[0.2,\"#de77ae\"],[0.3,\"#f1b6da\"],[0.4,\"#fde0ef\"],[0.5,\"#f7f7f7\"],[0.6,\"#e6f5d0\"],[0.7,\"#b8e186\"],[0.8,\"#7fbc41\"],[0.9,\"#4d9221\"],[1,\"#276419\"]]},\"xaxis\":{\"gridcolor\":\"white\",\"linecolor\":\"white\",\"ticks\":\"\",\"title\":{\"standoff\":15},\"zerolinecolor\":\"white\",\"automargin\":true,\"zerolinewidth\":2},\"yaxis\":{\"gridcolor\":\"white\",\"linecolor\":\"white\",\"ticks\":\"\",\"title\":{\"standoff\":15},\"zerolinecolor\":\"white\",\"automargin\":true,\"zerolinewidth\":2},\"scene\":{\"xaxis\":{\"backgroundcolor\":\"#E5ECF6\",\"gridcolor\":\"white\",\"linecolor\":\"white\",\"showbackground\":true,\"ticks\":\"\",\"zerolinecolor\":\"white\",\"gridwidth\":2},\"yaxis\":{\"backgroundcolor\":\"#E5ECF6\",\"gridcolor\":\"white\",\"linecolor\":\"white\",\"showbackground\":true,\"ticks\":\"\",\"zerolinecolor\":\"white\",\"gridwidth\":2},\"zaxis\":{\"backgroundcolor\":\"#E5ECF6\",\"gridcolor\":\"white\",\"linecolor\":\"white\",\"showbackground\":true,\"ticks\":\"\",\"zerolinecolor\":\"white\",\"gridwidth\":2}},\"shapedefaults\":{\"line\":{\"color\":\"#2a3f5f\"}},\"annotationdefaults\":{\"arrowcolor\":\"#2a3f5f\",\"arrowhead\":0,\"arrowwidth\":1},\"geo\":{\"bgcolor\":\"white\",\"landcolor\":\"#E5ECF6\",\"subunitcolor\":\"white\",\"showland\":true,\"showlakes\":true,\"lakecolor\":\"white\"},\"title\":{\"x\":0.05},\"mapbox\":{\"style\":\"light\"}}},\"xaxis\":{\"title\":{\"text\":\"Support\"},\"autorange\":\"reversed\"},\"title\":{\"text\":\"Association Rules Strength Distribution\"},\"yaxis\":{\"title\":{\"text\":\"Confidence\"}}},                        {\"responsive\": true}                    ).then(function(){\n",
       "                            \n",
       "var gd = document.getElementById('50a59b43-32cd-4fc6-b632-ab6d8f776211');\n",
       "var x = new MutationObserver(function (mutations, observer) {{\n",
       "        var display = window.getComputedStyle(gd).display;\n",
       "        if (!display || display === 'none') {{\n",
       "            console.log([gd, 'removed!']);\n",
       "            Plotly.purge(gd);\n",
       "            observer.disconnect();\n",
       "        }}\n",
       "}});\n",
       "\n",
       "// Listen for the removal of the full notebook cells\n",
       "var notebookContainer = gd.closest('#notebook-container');\n",
       "if (notebookContainer) {{\n",
       "    x.observe(notebookContainer, {childList: true});\n",
       "}}\n",
       "\n",
       "// Listen for the clearing of the current output cell\n",
       "var outputEl = gd.closest('.output');\n",
       "if (outputEl) {{\n",
       "    x.observe(outputEl, {childList: true});\n",
       "}}\n",
       "\n",
       "                        })                };                });            </script>        </div>"
      ]
     },
     "metadata": {},
     "output_type": "display_data",
     "jetTransient": {
      "display_id": null
     }
    },
    {
     "data": {
      "application/vnd.plotly.v1+json": {
       "data": [
        {
         "hoverinfo": "none",
         "line": {
          "color": "#888",
          "width": 0.5
         },
         "mode": "lines",
         "x": [
          0.06386404128665404,
          -0.5294150699679452,
          null,
          0.4921609413328616,
          0.06386404128665404,
          null,
          0.16130172733535,
          -0.5294150699679452,
          null,
          0.9688931923751783,
          0.16130172733535,
          null,
          -0.14610472294002882,
          -0.5294150699679452,
          null,
          -0.16227784841974593,
          -0.14610472294002882,
          null,
          -0.19518367852028626,
          -0.5294150699679452,
          null,
          0.7807007636661978,
          -0.19518367852028626,
          null,
          0.3685832633976326,
          -0.5294150699679452,
          null,
          0.9690124611408959,
          0.3685832633976326,
          null,
          -0.967355203923442,
          -0.5294150699679452,
          null,
          -0.21678600414691326,
          -0.967355203923442,
          null,
          -0.5963749015557737,
          -0.5294150699679452,
          null,
          0.3474757613040521,
          -0.5963749015557737,
          null,
          0.013255405157383724,
          -0.5294150699679452,
          null,
          0.6818645158805166,
          0.013255405157383724,
          null,
          -0.23306319319162427,
          -0.5294150699679452,
          null,
          0.054743522196797983,
          -0.23306319319162427,
          null,
          -1.0,
          -0.5294150699679452,
          null,
          -0.8552949724077691,
          -1.0,
          null
         ],
         "y": [
          -0.29528854931513043,
          -0.04370575891585292,
          null,
          -0.7034915150760686,
          -0.29528854931513043,
          null,
          0.07229573160443181,
          -0.04370575891585292,
          null,
          0.16119134937450877,
          0.07229573160443181,
          null,
          -0.12471328578270943,
          -0.04370575891585292,
          null,
          -0.6981750272507196,
          -0.12471328578270943,
          null,
          0.5922802930307841,
          -0.04370575891585292,
          null,
          0.9119674176327318,
          0.5922802930307841,
          null,
          -0.06915533256160401,
          -0.04370575891585292,
          null,
          -0.25082560740220444,
          -0.06915533256160401,
          null,
          0.20316139637484645,
          -0.04370575891585292,
          null,
          0.44571353638348854,
          0.20316139637484645,
          null,
          0.44026148885860167,
          -0.04370575891585292,
          null,
          0.8014173736540696,
          0.44026148885860167,
          null,
          0.26142465035441625,
          -0.04370575891585292,
          null,
          0.49191237027196677,
          0.26142465035441625,
          null,
          -0.4379421821962354,
          -0.04370575891585292,
          null,
          -0.9947496561496886,
          -0.4379421821962354,
          null,
          -0.16888404148068725,
          -0.04370575891585292,
          null,
          -0.5946946514089431,
          -0.16888404148068725,
          null
         ],
         "type": "scatter"
        },
        {
         "hoverinfo": "text",
         "marker": {
          "color": [],
          "colorbar": {
           "thickness": 15,
           "title": {
            "side": "right",
            "text": "Node Connections"
           },
           "xanchor": "left"
          },
          "colorscale": [
           [
            0.0,
            "rgb(255,255,217)"
           ],
           [
            0.125,
            "rgb(237,248,177)"
           ],
           [
            0.25,
            "rgb(199,233,180)"
           ],
           [
            0.375,
            "rgb(127,205,187)"
           ],
           [
            0.5,
            "rgb(65,182,196)"
           ],
           [
            0.625,
            "rgb(29,145,192)"
           ],
           [
            0.75,
            "rgb(34,94,168)"
           ],
           [
            0.875,
            "rgb(37,52,148)"
           ],
           [
            1.0,
            "rgb(8,29,88)"
           ]
          ],
          "line": {
           "width": 2
          },
          "reversescale": true,
          "showscale": true,
          "size": 10
         },
         "mode": "markers",
         "text": [
          "0",
          "Extra Salami or Feta",
          "Coffee",
          "1",
          "Keeping It Local",
          "2",
          "Cake, Vegan mincepie",
          "3",
          "Extra Salami or Feta, Salad",
          "4",
          "Hearty & Seasonal, Sandwich",
          "5",
          "NONE, Scone",
          "6",
          "NONE, Tartine",
          "7",
          "Pastry, Toast",
          "8",
          "Salad, Sandwich",
          "9",
          "Hot chocolate, Medialuna, NONE"
         ],
         "x": [
          0.06386404128665404,
          0.4921609413328616,
          -0.5294150699679452,
          0.16130172733535,
          0.9688931923751783,
          -0.14610472294002882,
          -0.16227784841974593,
          -0.19518367852028626,
          0.7807007636661978,
          0.3685832633976326,
          0.9690124611408959,
          -0.967355203923442,
          -0.21678600414691326,
          -0.5963749015557737,
          0.3474757613040521,
          0.013255405157383724,
          0.6818645158805166,
          -0.23306319319162427,
          0.054743522196797983,
          -1.0,
          -0.8552949724077691
         ],
         "y": [
          -0.29528854931513043,
          -0.7034915150760686,
          -0.04370575891585292,
          0.07229573160443181,
          0.16119134937450877,
          -0.12471328578270943,
          -0.6981750272507196,
          0.5922802930307841,
          0.9119674176327318,
          -0.06915533256160401,
          -0.25082560740220444,
          0.20316139637484645,
          0.44571353638348854,
          0.44026148885860167,
          0.8014173736540696,
          0.26142465035441625,
          0.49191237027196677,
          -0.4379421821962354,
          -0.9947496561496886,
          -0.16888404148068725,
          -0.5946946514089431
         ],
         "type": "scatter"
        }
       ],
       "layout": {
        "annotations": [
         {
          "showarrow": false,
          "text": "Python code: <a href='https://plotly.com/ipython-notebooks/network-graphs/'> https://plotly.com/ipython-notebooks/network-graphs/</a>",
          "x": 0.005,
          "xref": "paper",
          "y": -0.002,
          "yref": "paper"
         }
        ],
        "hovermode": "closest",
        "margin": {
         "b": 20,
         "l": 5,
         "r": 5,
         "t": 40
        },
        "showlegend": false,
        "title": {
         "font": {
          "size": 16
         },
         "text": "<br>Network graph made with Python"
        },
        "xaxis": {
         "showgrid": false,
         "showticklabels": false,
         "zeroline": false
        },
        "yaxis": {
         "showgrid": false,
         "showticklabels": false,
         "zeroline": false
        },
        "template": {
         "data": {
          "histogram2dcontour": [
           {
            "type": "histogram2dcontour",
            "colorbar": {
             "outlinewidth": 0,
             "ticks": ""
            },
            "colorscale": [
             [
              0.0,
              "#0d0887"
             ],
             [
              0.1111111111111111,
              "#46039f"
             ],
             [
              0.2222222222222222,
              "#7201a8"
             ],
             [
              0.3333333333333333,
              "#9c179e"
             ],
             [
              0.4444444444444444,
              "#bd3786"
             ],
             [
              0.5555555555555556,
              "#d8576b"
             ],
             [
              0.6666666666666666,
              "#ed7953"
             ],
             [
              0.7777777777777778,
              "#fb9f3a"
             ],
             [
              0.8888888888888888,
              "#fdca26"
             ],
             [
              1.0,
              "#f0f921"
             ]
            ]
           }
          ],
          "choropleth": [
           {
            "type": "choropleth",
            "colorbar": {
             "outlinewidth": 0,
             "ticks": ""
            }
           }
          ],
          "histogram2d": [
           {
            "type": "histogram2d",
            "colorbar": {
             "outlinewidth": 0,
             "ticks": ""
            },
            "colorscale": [
             [
              0.0,
              "#0d0887"
             ],
             [
              0.1111111111111111,
              "#46039f"
             ],
             [
              0.2222222222222222,
              "#7201a8"
             ],
             [
              0.3333333333333333,
              "#9c179e"
             ],
             [
              0.4444444444444444,
              "#bd3786"
             ],
             [
              0.5555555555555556,
              "#d8576b"
             ],
             [
              0.6666666666666666,
              "#ed7953"
             ],
             [
              0.7777777777777778,
              "#fb9f3a"
             ],
             [
              0.8888888888888888,
              "#fdca26"
             ],
             [
              1.0,
              "#f0f921"
             ]
            ]
           }
          ],
          "heatmap": [
           {
            "type": "heatmap",
            "colorbar": {
             "outlinewidth": 0,
             "ticks": ""
            },
            "colorscale": [
             [
              0.0,
              "#0d0887"
             ],
             [
              0.1111111111111111,
              "#46039f"
             ],
             [
              0.2222222222222222,
              "#7201a8"
             ],
             [
              0.3333333333333333,
              "#9c179e"
             ],
             [
              0.4444444444444444,
              "#bd3786"
             ],
             [
              0.5555555555555556,
              "#d8576b"
             ],
             [
              0.6666666666666666,
              "#ed7953"
             ],
             [
              0.7777777777777778,
              "#fb9f3a"
             ],
             [
              0.8888888888888888,
              "#fdca26"
             ],
             [
              1.0,
              "#f0f921"
             ]
            ]
           }
          ],
          "heatmapgl": [
           {
            "type": "heatmapgl",
            "colorbar": {
             "outlinewidth": 0,
             "ticks": ""
            },
            "colorscale": [
             [
              0.0,
              "#0d0887"
             ],
             [
              0.1111111111111111,
              "#46039f"
             ],
             [
              0.2222222222222222,
              "#7201a8"
             ],
             [
              0.3333333333333333,
              "#9c179e"
             ],
             [
              0.4444444444444444,
              "#bd3786"
             ],
             [
              0.5555555555555556,
              "#d8576b"
             ],
             [
              0.6666666666666666,
              "#ed7953"
             ],
             [
              0.7777777777777778,
              "#fb9f3a"
             ],
             [
              0.8888888888888888,
              "#fdca26"
             ],
             [
              1.0,
              "#f0f921"
             ]
            ]
           }
          ],
          "contourcarpet": [
           {
            "type": "contourcarpet",
            "colorbar": {
             "outlinewidth": 0,
             "ticks": ""
            }
           }
          ],
          "contour": [
           {
            "type": "contour",
            "colorbar": {
             "outlinewidth": 0,
             "ticks": ""
            },
            "colorscale": [
             [
              0.0,
              "#0d0887"
             ],
             [
              0.1111111111111111,
              "#46039f"
             ],
             [
              0.2222222222222222,
              "#7201a8"
             ],
             [
              0.3333333333333333,
              "#9c179e"
             ],
             [
              0.4444444444444444,
              "#bd3786"
             ],
             [
              0.5555555555555556,
              "#d8576b"
             ],
             [
              0.6666666666666666,
              "#ed7953"
             ],
             [
              0.7777777777777778,
              "#fb9f3a"
             ],
             [
              0.8888888888888888,
              "#fdca26"
             ],
             [
              1.0,
              "#f0f921"
             ]
            ]
           }
          ],
          "surface": [
           {
            "type": "surface",
            "colorbar": {
             "outlinewidth": 0,
             "ticks": ""
            },
            "colorscale": [
             [
              0.0,
              "#0d0887"
             ],
             [
              0.1111111111111111,
              "#46039f"
             ],
             [
              0.2222222222222222,
              "#7201a8"
             ],
             [
              0.3333333333333333,
              "#9c179e"
             ],
             [
              0.4444444444444444,
              "#bd3786"
             ],
             [
              0.5555555555555556,
              "#d8576b"
             ],
             [
              0.6666666666666666,
              "#ed7953"
             ],
             [
              0.7777777777777778,
              "#fb9f3a"
             ],
             [
              0.8888888888888888,
              "#fdca26"
             ],
             [
              1.0,
              "#f0f921"
             ]
            ]
           }
          ],
          "mesh3d": [
           {
            "type": "mesh3d",
            "colorbar": {
             "outlinewidth": 0,
             "ticks": ""
            }
           }
          ],
          "scatter": [
           {
            "fillpattern": {
             "fillmode": "overlay",
             "size": 10,
             "solidity": 0.2
            },
            "type": "scatter"
           }
          ],
          "parcoords": [
           {
            "type": "parcoords",
            "line": {
             "colorbar": {
              "outlinewidth": 0,
              "ticks": ""
             }
            }
           }
          ],
          "scatterpolargl": [
           {
            "type": "scatterpolargl",
            "marker": {
             "colorbar": {
              "outlinewidth": 0,
              "ticks": ""
             }
            }
           }
          ],
          "bar": [
           {
            "error_x": {
             "color": "#2a3f5f"
            },
            "error_y": {
             "color": "#2a3f5f"
            },
            "marker": {
             "line": {
              "color": "#E5ECF6",
              "width": 0.5
             },
             "pattern": {
              "fillmode": "overlay",
              "size": 10,
              "solidity": 0.2
             }
            },
            "type": "bar"
           }
          ],
          "scattergeo": [
           {
            "type": "scattergeo",
            "marker": {
             "colorbar": {
              "outlinewidth": 0,
              "ticks": ""
             }
            }
           }
          ],
          "scatterpolar": [
           {
            "type": "scatterpolar",
            "marker": {
             "colorbar": {
              "outlinewidth": 0,
              "ticks": ""
             }
            }
           }
          ],
          "histogram": [
           {
            "marker": {
             "pattern": {
              "fillmode": "overlay",
              "size": 10,
              "solidity": 0.2
             }
            },
            "type": "histogram"
           }
          ],
          "scattergl": [
           {
            "type": "scattergl",
            "marker": {
             "colorbar": {
              "outlinewidth": 0,
              "ticks": ""
             }
            }
           }
          ],
          "scatter3d": [
           {
            "type": "scatter3d",
            "line": {
             "colorbar": {
              "outlinewidth": 0,
              "ticks": ""
             }
            },
            "marker": {
             "colorbar": {
              "outlinewidth": 0,
              "ticks": ""
             }
            }
           }
          ],
          "scattermapbox": [
           {
            "type": "scattermapbox",
            "marker": {
             "colorbar": {
              "outlinewidth": 0,
              "ticks": ""
             }
            }
           }
          ],
          "scatterternary": [
           {
            "type": "scatterternary",
            "marker": {
             "colorbar": {
              "outlinewidth": 0,
              "ticks": ""
             }
            }
           }
          ],
          "scattercarpet": [
           {
            "type": "scattercarpet",
            "marker": {
             "colorbar": {
              "outlinewidth": 0,
              "ticks": ""
             }
            }
           }
          ],
          "carpet": [
           {
            "aaxis": {
             "endlinecolor": "#2a3f5f",
             "gridcolor": "white",
             "linecolor": "white",
             "minorgridcolor": "white",
             "startlinecolor": "#2a3f5f"
            },
            "baxis": {
             "endlinecolor": "#2a3f5f",
             "gridcolor": "white",
             "linecolor": "white",
             "minorgridcolor": "white",
             "startlinecolor": "#2a3f5f"
            },
            "type": "carpet"
           }
          ],
          "table": [
           {
            "cells": {
             "fill": {
              "color": "#EBF0F8"
             },
             "line": {
              "color": "white"
             }
            },
            "header": {
             "fill": {
              "color": "#C8D4E3"
             },
             "line": {
              "color": "white"
             }
            },
            "type": "table"
           }
          ],
          "barpolar": [
           {
            "marker": {
             "line": {
              "color": "#E5ECF6",
              "width": 0.5
             },
             "pattern": {
              "fillmode": "overlay",
              "size": 10,
              "solidity": 0.2
             }
            },
            "type": "barpolar"
           }
          ],
          "pie": [
           {
            "automargin": true,
            "type": "pie"
           }
          ]
         },
         "layout": {
          "autotypenumbers": "strict",
          "colorway": [
           "#636efa",
           "#EF553B",
           "#00cc96",
           "#ab63fa",
           "#FFA15A",
           "#19d3f3",
           "#FF6692",
           "#B6E880",
           "#FF97FF",
           "#FECB52"
          ],
          "font": {
           "color": "#2a3f5f"
          },
          "hovermode": "closest",
          "hoverlabel": {
           "align": "left"
          },
          "paper_bgcolor": "white",
          "plot_bgcolor": "#E5ECF6",
          "polar": {
           "bgcolor": "#E5ECF6",
           "angularaxis": {
            "gridcolor": "white",
            "linecolor": "white",
            "ticks": ""
           },
           "radialaxis": {
            "gridcolor": "white",
            "linecolor": "white",
            "ticks": ""
           }
          },
          "ternary": {
           "bgcolor": "#E5ECF6",
           "aaxis": {
            "gridcolor": "white",
            "linecolor": "white",
            "ticks": ""
           },
           "baxis": {
            "gridcolor": "white",
            "linecolor": "white",
            "ticks": ""
           },
           "caxis": {
            "gridcolor": "white",
            "linecolor": "white",
            "ticks": ""
           }
          },
          "coloraxis": {
           "colorbar": {
            "outlinewidth": 0,
            "ticks": ""
           }
          },
          "colorscale": {
           "sequential": [
            [
             0.0,
             "#0d0887"
            ],
            [
             0.1111111111111111,
             "#46039f"
            ],
            [
             0.2222222222222222,
             "#7201a8"
            ],
            [
             0.3333333333333333,
             "#9c179e"
            ],
            [
             0.4444444444444444,
             "#bd3786"
            ],
            [
             0.5555555555555556,
             "#d8576b"
            ],
            [
             0.6666666666666666,
             "#ed7953"
            ],
            [
             0.7777777777777778,
             "#fb9f3a"
            ],
            [
             0.8888888888888888,
             "#fdca26"
            ],
            [
             1.0,
             "#f0f921"
            ]
           ],
           "sequentialminus": [
            [
             0.0,
             "#0d0887"
            ],
            [
             0.1111111111111111,
             "#46039f"
            ],
            [
             0.2222222222222222,
             "#7201a8"
            ],
            [
             0.3333333333333333,
             "#9c179e"
            ],
            [
             0.4444444444444444,
             "#bd3786"
            ],
            [
             0.5555555555555556,
             "#d8576b"
            ],
            [
             0.6666666666666666,
             "#ed7953"
            ],
            [
             0.7777777777777778,
             "#fb9f3a"
            ],
            [
             0.8888888888888888,
             "#fdca26"
            ],
            [
             1.0,
             "#f0f921"
            ]
           ],
           "diverging": [
            [
             0,
             "#8e0152"
            ],
            [
             0.1,
             "#c51b7d"
            ],
            [
             0.2,
             "#de77ae"
            ],
            [
             0.3,
             "#f1b6da"
            ],
            [
             0.4,
             "#fde0ef"
            ],
            [
             0.5,
             "#f7f7f7"
            ],
            [
             0.6,
             "#e6f5d0"
            ],
            [
             0.7,
             "#b8e186"
            ],
            [
             0.8,
             "#7fbc41"
            ],
            [
             0.9,
             "#4d9221"
            ],
            [
             1,
             "#276419"
            ]
           ]
          },
          "xaxis": {
           "gridcolor": "white",
           "linecolor": "white",
           "ticks": "",
           "title": {
            "standoff": 15
           },
           "zerolinecolor": "white",
           "automargin": true,
           "zerolinewidth": 2
          },
          "yaxis": {
           "gridcolor": "white",
           "linecolor": "white",
           "ticks": "",
           "title": {
            "standoff": 15
           },
           "zerolinecolor": "white",
           "automargin": true,
           "zerolinewidth": 2
          },
          "scene": {
           "xaxis": {
            "backgroundcolor": "#E5ECF6",
            "gridcolor": "white",
            "linecolor": "white",
            "showbackground": true,
            "ticks": "",
            "zerolinecolor": "white",
            "gridwidth": 2
           },
           "yaxis": {
            "backgroundcolor": "#E5ECF6",
            "gridcolor": "white",
            "linecolor": "white",
            "showbackground": true,
            "ticks": "",
            "zerolinecolor": "white",
            "gridwidth": 2
           },
           "zaxis": {
            "backgroundcolor": "#E5ECF6",
            "gridcolor": "white",
            "linecolor": "white",
            "showbackground": true,
            "ticks": "",
            "zerolinecolor": "white",
            "gridwidth": 2
           }
          },
          "shapedefaults": {
           "line": {
            "color": "#2a3f5f"
           }
          },
          "annotationdefaults": {
           "arrowcolor": "#2a3f5f",
           "arrowhead": 0,
           "arrowwidth": 1
          },
          "geo": {
           "bgcolor": "white",
           "landcolor": "#E5ECF6",
           "subunitcolor": "white",
           "showland": true,
           "showlakes": true,
           "lakecolor": "white"
          },
          "title": {
           "x": 0.05
          },
          "mapbox": {
           "style": "light"
          }
         }
        }
       },
       "config": {
        "plotlyServerURL": "https://plot.ly"
       }
      },
      "text/html": [
       "<div>                            <div id=\"ad1d1cf5-ad89-4196-b30d-35a1a8c203ea\" class=\"plotly-graph-div\" style=\"height:525px; width:100%;\"></div>            <script type=\"text/javascript\">                require([\"plotly\"], function(Plotly) {                    window.PLOTLYENV=window.PLOTLYENV || {};                                    if (document.getElementById(\"ad1d1cf5-ad89-4196-b30d-35a1a8c203ea\")) {                    Plotly.newPlot(                        \"ad1d1cf5-ad89-4196-b30d-35a1a8c203ea\",                        [{\"hoverinfo\":\"none\",\"line\":{\"color\":\"#888\",\"width\":0.5},\"mode\":\"lines\",\"x\":[0.06386404128665404,-0.5294150699679452,null,0.4921609413328616,0.06386404128665404,null,0.16130172733535,-0.5294150699679452,null,0.9688931923751783,0.16130172733535,null,-0.14610472294002882,-0.5294150699679452,null,-0.16227784841974593,-0.14610472294002882,null,-0.19518367852028626,-0.5294150699679452,null,0.7807007636661978,-0.19518367852028626,null,0.3685832633976326,-0.5294150699679452,null,0.9690124611408959,0.3685832633976326,null,-0.967355203923442,-0.5294150699679452,null,-0.21678600414691326,-0.967355203923442,null,-0.5963749015557737,-0.5294150699679452,null,0.3474757613040521,-0.5963749015557737,null,0.013255405157383724,-0.5294150699679452,null,0.6818645158805166,0.013255405157383724,null,-0.23306319319162427,-0.5294150699679452,null,0.054743522196797983,-0.23306319319162427,null,-1.0,-0.5294150699679452,null,-0.8552949724077691,-1.0,null],\"y\":[-0.29528854931513043,-0.04370575891585292,null,-0.7034915150760686,-0.29528854931513043,null,0.07229573160443181,-0.04370575891585292,null,0.16119134937450877,0.07229573160443181,null,-0.12471328578270943,-0.04370575891585292,null,-0.6981750272507196,-0.12471328578270943,null,0.5922802930307841,-0.04370575891585292,null,0.9119674176327318,0.5922802930307841,null,-0.06915533256160401,-0.04370575891585292,null,-0.25082560740220444,-0.06915533256160401,null,0.20316139637484645,-0.04370575891585292,null,0.44571353638348854,0.20316139637484645,null,0.44026148885860167,-0.04370575891585292,null,0.8014173736540696,0.44026148885860167,null,0.26142465035441625,-0.04370575891585292,null,0.49191237027196677,0.26142465035441625,null,-0.4379421821962354,-0.04370575891585292,null,-0.9947496561496886,-0.4379421821962354,null,-0.16888404148068725,-0.04370575891585292,null,-0.5946946514089431,-0.16888404148068725,null],\"type\":\"scatter\"},{\"hoverinfo\":\"text\",\"marker\":{\"color\":[],\"colorbar\":{\"thickness\":15,\"title\":{\"side\":\"right\",\"text\":\"Node Connections\"},\"xanchor\":\"left\"},\"colorscale\":[[0.0,\"rgb(255,255,217)\"],[0.125,\"rgb(237,248,177)\"],[0.25,\"rgb(199,233,180)\"],[0.375,\"rgb(127,205,187)\"],[0.5,\"rgb(65,182,196)\"],[0.625,\"rgb(29,145,192)\"],[0.75,\"rgb(34,94,168)\"],[0.875,\"rgb(37,52,148)\"],[1.0,\"rgb(8,29,88)\"]],\"line\":{\"width\":2},\"reversescale\":true,\"showscale\":true,\"size\":10},\"mode\":\"markers\",\"text\":[\"0\",\"Extra Salami or Feta\",\"Coffee\",\"1\",\"Keeping It Local\",\"2\",\"Cake, Vegan mincepie\",\"3\",\"Extra Salami or Feta, Salad\",\"4\",\"Hearty & Seasonal, Sandwich\",\"5\",\"NONE, Scone\",\"6\",\"NONE, Tartine\",\"7\",\"Pastry, Toast\",\"8\",\"Salad, Sandwich\",\"9\",\"Hot chocolate, Medialuna, NONE\"],\"x\":[0.06386404128665404,0.4921609413328616,-0.5294150699679452,0.16130172733535,0.9688931923751783,-0.14610472294002882,-0.16227784841974593,-0.19518367852028626,0.7807007636661978,0.3685832633976326,0.9690124611408959,-0.967355203923442,-0.21678600414691326,-0.5963749015557737,0.3474757613040521,0.013255405157383724,0.6818645158805166,-0.23306319319162427,0.054743522196797983,-1.0,-0.8552949724077691],\"y\":[-0.29528854931513043,-0.7034915150760686,-0.04370575891585292,0.07229573160443181,0.16119134937450877,-0.12471328578270943,-0.6981750272507196,0.5922802930307841,0.9119674176327318,-0.06915533256160401,-0.25082560740220444,0.20316139637484645,0.44571353638348854,0.44026148885860167,0.8014173736540696,0.26142465035441625,0.49191237027196677,-0.4379421821962354,-0.9947496561496886,-0.16888404148068725,-0.5946946514089431],\"type\":\"scatter\"}],                        {\"annotations\":[{\"showarrow\":false,\"text\":\"Python code: \\u003ca href='https:\\u002f\\u002fplotly.com\\u002fipython-notebooks\\u002fnetwork-graphs\\u002f'\\u003e https:\\u002f\\u002fplotly.com\\u002fipython-notebooks\\u002fnetwork-graphs\\u002f\\u003c\\u002fa\\u003e\",\"x\":0.005,\"xref\":\"paper\",\"y\":-0.002,\"yref\":\"paper\"}],\"hovermode\":\"closest\",\"margin\":{\"b\":20,\"l\":5,\"r\":5,\"t\":40},\"showlegend\":false,\"title\":{\"font\":{\"size\":16},\"text\":\"\\u003cbr\\u003eNetwork graph made with Python\"},\"xaxis\":{\"showgrid\":false,\"showticklabels\":false,\"zeroline\":false},\"yaxis\":{\"showgrid\":false,\"showticklabels\":false,\"zeroline\":false},\"template\":{\"data\":{\"histogram2dcontour\":[{\"type\":\"histogram2dcontour\",\"colorbar\":{\"outlinewidth\":0,\"ticks\":\"\"},\"colorscale\":[[0.0,\"#0d0887\"],[0.1111111111111111,\"#46039f\"],[0.2222222222222222,\"#7201a8\"],[0.3333333333333333,\"#9c179e\"],[0.4444444444444444,\"#bd3786\"],[0.5555555555555556,\"#d8576b\"],[0.6666666666666666,\"#ed7953\"],[0.7777777777777778,\"#fb9f3a\"],[0.8888888888888888,\"#fdca26\"],[1.0,\"#f0f921\"]]}],\"choropleth\":[{\"type\":\"choropleth\",\"colorbar\":{\"outlinewidth\":0,\"ticks\":\"\"}}],\"histogram2d\":[{\"type\":\"histogram2d\",\"colorbar\":{\"outlinewidth\":0,\"ticks\":\"\"},\"colorscale\":[[0.0,\"#0d0887\"],[0.1111111111111111,\"#46039f\"],[0.2222222222222222,\"#7201a8\"],[0.3333333333333333,\"#9c179e\"],[0.4444444444444444,\"#bd3786\"],[0.5555555555555556,\"#d8576b\"],[0.6666666666666666,\"#ed7953\"],[0.7777777777777778,\"#fb9f3a\"],[0.8888888888888888,\"#fdca26\"],[1.0,\"#f0f921\"]]}],\"heatmap\":[{\"type\":\"heatmap\",\"colorbar\":{\"outlinewidth\":0,\"ticks\":\"\"},\"colorscale\":[[0.0,\"#0d0887\"],[0.1111111111111111,\"#46039f\"],[0.2222222222222222,\"#7201a8\"],[0.3333333333333333,\"#9c179e\"],[0.4444444444444444,\"#bd3786\"],[0.5555555555555556,\"#d8576b\"],[0.6666666666666666,\"#ed7953\"],[0.7777777777777778,\"#fb9f3a\"],[0.8888888888888888,\"#fdca26\"],[1.0,\"#f0f921\"]]}],\"heatmapgl\":[{\"type\":\"heatmapgl\",\"colorbar\":{\"outlinewidth\":0,\"ticks\":\"\"},\"colorscale\":[[0.0,\"#0d0887\"],[0.1111111111111111,\"#46039f\"],[0.2222222222222222,\"#7201a8\"],[0.3333333333333333,\"#9c179e\"],[0.4444444444444444,\"#bd3786\"],[0.5555555555555556,\"#d8576b\"],[0.6666666666666666,\"#ed7953\"],[0.7777777777777778,\"#fb9f3a\"],[0.8888888888888888,\"#fdca26\"],[1.0,\"#f0f921\"]]}],\"contourcarpet\":[{\"type\":\"contourcarpet\",\"colorbar\":{\"outlinewidth\":0,\"ticks\":\"\"}}],\"contour\":[{\"type\":\"contour\",\"colorbar\":{\"outlinewidth\":0,\"ticks\":\"\"},\"colorscale\":[[0.0,\"#0d0887\"],[0.1111111111111111,\"#46039f\"],[0.2222222222222222,\"#7201a8\"],[0.3333333333333333,\"#9c179e\"],[0.4444444444444444,\"#bd3786\"],[0.5555555555555556,\"#d8576b\"],[0.6666666666666666,\"#ed7953\"],[0.7777777777777778,\"#fb9f3a\"],[0.8888888888888888,\"#fdca26\"],[1.0,\"#f0f921\"]]}],\"surface\":[{\"type\":\"surface\",\"colorbar\":{\"outlinewidth\":0,\"ticks\":\"\"},\"colorscale\":[[0.0,\"#0d0887\"],[0.1111111111111111,\"#46039f\"],[0.2222222222222222,\"#7201a8\"],[0.3333333333333333,\"#9c179e\"],[0.4444444444444444,\"#bd3786\"],[0.5555555555555556,\"#d8576b\"],[0.6666666666666666,\"#ed7953\"],[0.7777777777777778,\"#fb9f3a\"],[0.8888888888888888,\"#fdca26\"],[1.0,\"#f0f921\"]]}],\"mesh3d\":[{\"type\":\"mesh3d\",\"colorbar\":{\"outlinewidth\":0,\"ticks\":\"\"}}],\"scatter\":[{\"fillpattern\":{\"fillmode\":\"overlay\",\"size\":10,\"solidity\":0.2},\"type\":\"scatter\"}],\"parcoords\":[{\"type\":\"parcoords\",\"line\":{\"colorbar\":{\"outlinewidth\":0,\"ticks\":\"\"}}}],\"scatterpolargl\":[{\"type\":\"scatterpolargl\",\"marker\":{\"colorbar\":{\"outlinewidth\":0,\"ticks\":\"\"}}}],\"bar\":[{\"error_x\":{\"color\":\"#2a3f5f\"},\"error_y\":{\"color\":\"#2a3f5f\"},\"marker\":{\"line\":{\"color\":\"#E5ECF6\",\"width\":0.5},\"pattern\":{\"fillmode\":\"overlay\",\"size\":10,\"solidity\":0.2}},\"type\":\"bar\"}],\"scattergeo\":[{\"type\":\"scattergeo\",\"marker\":{\"colorbar\":{\"outlinewidth\":0,\"ticks\":\"\"}}}],\"scatterpolar\":[{\"type\":\"scatterpolar\",\"marker\":{\"colorbar\":{\"outlinewidth\":0,\"ticks\":\"\"}}}],\"histogram\":[{\"marker\":{\"pattern\":{\"fillmode\":\"overlay\",\"size\":10,\"solidity\":0.2}},\"type\":\"histogram\"}],\"scattergl\":[{\"type\":\"scattergl\",\"marker\":{\"colorbar\":{\"outlinewidth\":0,\"ticks\":\"\"}}}],\"scatter3d\":[{\"type\":\"scatter3d\",\"line\":{\"colorbar\":{\"outlinewidth\":0,\"ticks\":\"\"}},\"marker\":{\"colorbar\":{\"outlinewidth\":0,\"ticks\":\"\"}}}],\"scattermapbox\":[{\"type\":\"scattermapbox\",\"marker\":{\"colorbar\":{\"outlinewidth\":0,\"ticks\":\"\"}}}],\"scatterternary\":[{\"type\":\"scatterternary\",\"marker\":{\"colorbar\":{\"outlinewidth\":0,\"ticks\":\"\"}}}],\"scattercarpet\":[{\"type\":\"scattercarpet\",\"marker\":{\"colorbar\":{\"outlinewidth\":0,\"ticks\":\"\"}}}],\"carpet\":[{\"aaxis\":{\"endlinecolor\":\"#2a3f5f\",\"gridcolor\":\"white\",\"linecolor\":\"white\",\"minorgridcolor\":\"white\",\"startlinecolor\":\"#2a3f5f\"},\"baxis\":{\"endlinecolor\":\"#2a3f5f\",\"gridcolor\":\"white\",\"linecolor\":\"white\",\"minorgridcolor\":\"white\",\"startlinecolor\":\"#2a3f5f\"},\"type\":\"carpet\"}],\"table\":[{\"cells\":{\"fill\":{\"color\":\"#EBF0F8\"},\"line\":{\"color\":\"white\"}},\"header\":{\"fill\":{\"color\":\"#C8D4E3\"},\"line\":{\"color\":\"white\"}},\"type\":\"table\"}],\"barpolar\":[{\"marker\":{\"line\":{\"color\":\"#E5ECF6\",\"width\":0.5},\"pattern\":{\"fillmode\":\"overlay\",\"size\":10,\"solidity\":0.2}},\"type\":\"barpolar\"}],\"pie\":[{\"automargin\":true,\"type\":\"pie\"}]},\"layout\":{\"autotypenumbers\":\"strict\",\"colorway\":[\"#636efa\",\"#EF553B\",\"#00cc96\",\"#ab63fa\",\"#FFA15A\",\"#19d3f3\",\"#FF6692\",\"#B6E880\",\"#FF97FF\",\"#FECB52\"],\"font\":{\"color\":\"#2a3f5f\"},\"hovermode\":\"closest\",\"hoverlabel\":{\"align\":\"left\"},\"paper_bgcolor\":\"white\",\"plot_bgcolor\":\"#E5ECF6\",\"polar\":{\"bgcolor\":\"#E5ECF6\",\"angularaxis\":{\"gridcolor\":\"white\",\"linecolor\":\"white\",\"ticks\":\"\"},\"radialaxis\":{\"gridcolor\":\"white\",\"linecolor\":\"white\",\"ticks\":\"\"}},\"ternary\":{\"bgcolor\":\"#E5ECF6\",\"aaxis\":{\"gridcolor\":\"white\",\"linecolor\":\"white\",\"ticks\":\"\"},\"baxis\":{\"gridcolor\":\"white\",\"linecolor\":\"white\",\"ticks\":\"\"},\"caxis\":{\"gridcolor\":\"white\",\"linecolor\":\"white\",\"ticks\":\"\"}},\"coloraxis\":{\"colorbar\":{\"outlinewidth\":0,\"ticks\":\"\"}},\"colorscale\":{\"sequential\":[[0.0,\"#0d0887\"],[0.1111111111111111,\"#46039f\"],[0.2222222222222222,\"#7201a8\"],[0.3333333333333333,\"#9c179e\"],[0.4444444444444444,\"#bd3786\"],[0.5555555555555556,\"#d8576b\"],[0.6666666666666666,\"#ed7953\"],[0.7777777777777778,\"#fb9f3a\"],[0.8888888888888888,\"#fdca26\"],[1.0,\"#f0f921\"]],\"sequentialminus\":[[0.0,\"#0d0887\"],[0.1111111111111111,\"#46039f\"],[0.2222222222222222,\"#7201a8\"],[0.3333333333333333,\"#9c179e\"],[0.4444444444444444,\"#bd3786\"],[0.5555555555555556,\"#d8576b\"],[0.6666666666666666,\"#ed7953\"],[0.7777777777777778,\"#fb9f3a\"],[0.8888888888888888,\"#fdca26\"],[1.0,\"#f0f921\"]],\"diverging\":[[0,\"#8e0152\"],[0.1,\"#c51b7d\"],[0.2,\"#de77ae\"],[0.3,\"#f1b6da\"],[0.4,\"#fde0ef\"],[0.5,\"#f7f7f7\"],[0.6,\"#e6f5d0\"],[0.7,\"#b8e186\"],[0.8,\"#7fbc41\"],[0.9,\"#4d9221\"],[1,\"#276419\"]]},\"xaxis\":{\"gridcolor\":\"white\",\"linecolor\":\"white\",\"ticks\":\"\",\"title\":{\"standoff\":15},\"zerolinecolor\":\"white\",\"automargin\":true,\"zerolinewidth\":2},\"yaxis\":{\"gridcolor\":\"white\",\"linecolor\":\"white\",\"ticks\":\"\",\"title\":{\"standoff\":15},\"zerolinecolor\":\"white\",\"automargin\":true,\"zerolinewidth\":2},\"scene\":{\"xaxis\":{\"backgroundcolor\":\"#E5ECF6\",\"gridcolor\":\"white\",\"linecolor\":\"white\",\"showbackground\":true,\"ticks\":\"\",\"zerolinecolor\":\"white\",\"gridwidth\":2},\"yaxis\":{\"backgroundcolor\":\"#E5ECF6\",\"gridcolor\":\"white\",\"linecolor\":\"white\",\"showbackground\":true,\"ticks\":\"\",\"zerolinecolor\":\"white\",\"gridwidth\":2},\"zaxis\":{\"backgroundcolor\":\"#E5ECF6\",\"gridcolor\":\"white\",\"linecolor\":\"white\",\"showbackground\":true,\"ticks\":\"\",\"zerolinecolor\":\"white\",\"gridwidth\":2}},\"shapedefaults\":{\"line\":{\"color\":\"#2a3f5f\"}},\"annotationdefaults\":{\"arrowcolor\":\"#2a3f5f\",\"arrowhead\":0,\"arrowwidth\":1},\"geo\":{\"bgcolor\":\"white\",\"landcolor\":\"#E5ECF6\",\"subunitcolor\":\"white\",\"showland\":true,\"showlakes\":true,\"lakecolor\":\"white\"},\"title\":{\"x\":0.05},\"mapbox\":{\"style\":\"light\"}}}},                        {\"responsive\": true}                    ).then(function(){\n",
       "                            \n",
       "var gd = document.getElementById('ad1d1cf5-ad89-4196-b30d-35a1a8c203ea');\n",
       "var x = new MutationObserver(function (mutations, observer) {{\n",
       "        var display = window.getComputedStyle(gd).display;\n",
       "        if (!display || display === 'none') {{\n",
       "            console.log([gd, 'removed!']);\n",
       "            Plotly.purge(gd);\n",
       "            observer.disconnect();\n",
       "        }}\n",
       "}});\n",
       "\n",
       "// Listen for the removal of the full notebook cells\n",
       "var notebookContainer = gd.closest('#notebook-container');\n",
       "if (notebookContainer) {{\n",
       "    x.observe(notebookContainer, {childList: true});\n",
       "}}\n",
       "\n",
       "// Listen for the clearing of the current output cell\n",
       "var outputEl = gd.closest('.output');\n",
       "if (outputEl) {{\n",
       "    x.observe(outputEl, {childList: true});\n",
       "}}\n",
       "\n",
       "                        })                };                });            </script>        </div>"
      ]
     },
     "metadata": {},
     "output_type": "display_data",
     "jetTransient": {
      "display_id": null
     }
    }
   ],
   "execution_count": 20
  },
  {
   "metadata": {},
   "cell_type": "markdown",
   "source": "fpgrowth_py",
   "id": "fac5768ae7d2beb4"
  },
  {
   "metadata": {
    "ExecuteTime": {
     "end_time": "2025-09-25T09:54:14.171487Z",
     "start_time": "2025-09-25T09:54:14.165379Z"
    }
   },
   "cell_type": "code",
   "source": [
    "def output_fpgrowth(rules):\n",
    "    rules_pyarmviz_fp = []\n",
    "\n",
    "    for i, (antecedent, consequent, confidence) in enumerate(rules):\n",
    "        ant = frozenset(antecedent)\n",
    "        cons = frozenset(consequent)\n",
    "        union = ant | cons\n",
    "\n",
    "        count_ab = sum(1 for t in transactions if union.issubset(t))\n",
    "        count_a = sum(1 for t in transactions if ant.issubset(t))\n",
    "        count_b = sum(1 for t in transactions if cons.issubset(t))\n",
    "\n",
    "        support_ab = count_ab / n_trans\n",
    "        support_a = count_a / n_trans\n",
    "        support_b = count_b / n_trans\n",
    "        lift = support_ab / (support_a * support_b) if support_a * support_b else 0.0\n",
    "\n",
    "        print(f\"{i}: {antecedent} -> {consequent} \"\n",
    "              f\"Support = {support_ab:.3f} Confidence = {confidence:.3f} Lift = {lift:.3f}\")\n",
    "\n",
    "        rules_pyarmviz_fp.append(\n",
    "            PyARMViz.Rule.Rule(\n",
    "                lhs=[\", \".join(antecedent)],\n",
    "                rhs=[\", \".join(consequent)],\n",
    "                count_full=count_ab,\n",
    "                count_lhs=count_a,\n",
    "                count_rhs=count_b,\n",
    "                num_transactions=n_trans\n",
    "            )\n",
    "        )\n",
    "    PyARMViz.metadata_scatter_plot(rules_pyarmviz_fp)\n",
    "    PyARMViz.adjacency_graph_plotly(rules_pyarmviz_fp)\n",
    "    # PyARMViz.adjacency_parallel_coordinate_plot(rules_pyarmviz)\n",
    "    # PyARMViz.adjacency_parallel_category_plot(rules_pyarmviz)"
   ],
   "id": "6e3c5d748e9ab02",
   "outputs": [],
   "execution_count": 21
  },
  {
   "metadata": {
    "ExecuteTime": {
     "end_time": "2025-09-25T09:54:25.351167Z",
     "start_time": "2025-09-25T09:54:14.190018Z"
    }
   },
   "cell_type": "code",
   "source": [
    "start = time.time()\n",
    "freqItemSet, rules = fpgrowth(transactions, minSupRatio=min_sup, minConf=0.6)\n",
    "times['fpgrowth-py'] = time.time() - start\n",
    "output_fpgrowth(rules)"
   ],
   "id": "ccce1274688df76",
   "outputs": [
    {
     "name": "stdout",
     "output_type": "stream",
     "text": [
      "0: {'Mighty Protein'} -> {'Coffee'} Support = 0.001 Confidence = 0.818 Lift = 1.722\n",
      "1: {'Granola'} -> {'Coffee'} Support = 0.002 Confidence = 0.607 Lift = 1.278\n",
      "2: {'NONE', 'Art Tray'} -> {'Coffee'} Support = 0.001 Confidence = 0.818 Lift = 1.722\n",
      "3: {'Art Tray'} -> {'Coffee'} Support = 0.003 Confidence = 0.684 Lift = 1.440\n",
      "4: {'Art Tray'} -> {'Coffee'} Support = 0.003 Confidence = 0.684 Lift = 1.440\n",
      "5: {'Bread', 'Extra Salami or Feta'} -> {'Coffee'} Support = 0.001 Confidence = 0.700 Lift = 1.473\n",
      "6: {'Salad', 'Extra Salami or Feta'} -> {'Coffee'} Support = 0.001 Confidence = 0.875 Lift = 1.842\n",
      "7: {'NONE', 'Extra Salami or Feta'} -> {'Coffee'} Support = 0.001 Confidence = 0.765 Lift = 1.610\n",
      "8: {'Extra Salami or Feta'} -> {'Coffee'} Support = 0.003 Confidence = 0.816 Lift = 1.717\n",
      "9: {'Extra Salami or Feta'} -> {'Coffee'} Support = 0.003 Confidence = 0.816 Lift = 1.717\n",
      "10: {'Tartine', 'NONE'} -> {'Coffee'} Support = 0.001 Confidence = 0.923 Lift = 1.943\n",
      "11: {'Tartine'} -> {'Coffee'} Support = 0.003 Confidence = 0.630 Lift = 1.327\n",
      "12: {'Bakewell'} -> {'Coffee'} Support = 0.003 Confidence = 0.604 Lift = 1.272\n",
      "13: {'Vegan mincepie', 'Cake'} -> {'Coffee'} Support = 0.001 Confidence = 0.833 Lift = 1.754\n",
      "14: {'NONE', 'The Nomad'} -> {'Coffee'} Support = 0.001 Confidence = 0.750 Lift = 1.579\n",
      "15: {'Keeping It Local', 'Tea'} -> {'Coffee'} Support = 0.001 Confidence = 0.647 Lift = 1.362\n",
      "16: {'Keeping It Local'} -> {'Coffee'} Support = 0.005 Confidence = 0.810 Lift = 1.704\n",
      "17: {'Smoothies', 'Cake'} -> {'Coffee'} Support = 0.001 Confidence = 0.667 Lift = 1.403\n",
      "18: {'Salad', 'Spanish Brunch'} -> {'Coffee'} Support = 0.001 Confidence = 0.667 Lift = 1.403\n",
      "19: {'Salad', 'Cake'} -> {'Coffee'} Support = 0.001 Confidence = 0.769 Lift = 1.619\n",
      "20: {'Salad', 'Sandwich'} -> {'Coffee'} Support = 0.002 Confidence = 0.833 Lift = 1.754\n",
      "21: {'Salad'} -> {'Coffee'} Support = 0.007 Confidence = 0.626 Lift = 1.318\n",
      "22: {'Salad'} -> {'Coffee'} Support = 0.007 Confidence = 0.626 Lift = 1.318\n",
      "23: {'Sandwich', 'Hearty & Seasonal'} -> {'Coffee'} Support = 0.001 Confidence = 0.857 Lift = 1.804\n",
      "24: {'Juice', 'Jammie Dodgers'} -> {'Coffee'} Support = 0.001 Confidence = 0.650 Lift = 1.368\n",
      "25: {'Mineral water', 'Alfajores'} -> {'Coffee'} Support = 0.001 Confidence = 0.750 Lift = 1.579\n",
      "26: {'Tiffin', 'Sandwich'} -> {'Coffee'} Support = 0.001 Confidence = 0.667 Lift = 1.403\n",
      "27: {'Tiffin', 'Sandwich'} -> {'Coffee'} Support = 0.001 Confidence = 0.667 Lift = 1.403\n",
      "28: {'Tiffin', 'Cake'} -> {'Coffee'} Support = 0.002 Confidence = 0.682 Lift = 1.435\n",
      "29: {'Alfajores', 'Spanish Brunch'} -> {'Tea'} Support = 0.001 Confidence = 0.700 Lift = 4.942\n",
      "30: {'Toast', 'Spanish Brunch'} -> {'Coffee'} Support = 0.001 Confidence = 0.700 Lift = 1.473\n",
      "31: {'Soup', 'Spanish Brunch'} -> {'Coffee'} Support = 0.001 Confidence = 0.700 Lift = 1.473\n",
      "32: {'Sandwich', 'Spanish Brunch'} -> {'Coffee'} Support = 0.001 Confidence = 0.667 Lift = 1.403\n",
      "33: {'Juice', 'Spanish Brunch'} -> {'Coffee'} Support = 0.002 Confidence = 0.731 Lift = 1.538\n",
      "34: {'NONE', 'Spanish Brunch'} -> {'Coffee'} Support = 0.002 Confidence = 0.676 Lift = 1.424\n",
      "35: {'Pastry', 'Toast'} -> {'Coffee'} Support = 0.001 Confidence = 0.867 Lift = 1.824\n",
      "36: {'Medialuna', 'Toast'} -> {'Coffee'} Support = 0.001 Confidence = 0.611 Lift = 1.286\n",
      "37: {'Juice', 'Toast'} -> {'Coffee'} Support = 0.002 Confidence = 0.682 Lift = 1.435\n",
      "38: {'Cake', 'Toast'} -> {'Coffee'} Support = 0.002 Confidence = 0.714 Lift = 1.504\n",
      "39: {'NONE', 'Toast'} -> {'Coffee'} Support = 0.003 Confidence = 0.750 Lift = 1.579\n",
      "40: {'NONE', 'Toast'} -> {'Coffee'} Support = 0.003 Confidence = 0.750 Lift = 1.579\n",
      "41: {'Toast'} -> {'Coffee'} Support = 0.024 Confidence = 0.704 Lift = 1.483\n",
      "42: {'Toast'} -> {'Coffee'} Support = 0.024 Confidence = 0.704 Lift = 1.483\n",
      "43: {'Toast'} -> {'Coffee'} Support = 0.024 Confidence = 0.704 Lift = 1.483\n",
      "44: {'Cookies', 'Scone'} -> {'Coffee'} Support = 0.002 Confidence = 0.789 Lift = 1.662\n",
      "45: {'Scone', 'NONE'} -> {'Coffee'} Support = 0.002 Confidence = 0.833 Lift = 1.754\n",
      "46: {'Scone', 'Juice'} -> {'Coffee'} Support = 0.001 Confidence = 0.632 Lift = 1.329\n",
      "47: {'Scone', 'Hot chocolate'} -> {'Coffee'} Support = 0.002 Confidence = 0.607 Lift = 1.278\n",
      "48: {'Soup', 'NONE'} -> {'Coffee'} Support = 0.001 Confidence = 0.625 Lift = 1.316\n",
      "49: {'Soup', 'Sandwich'} -> {'Coffee'} Support = 0.004 Confidence = 0.654 Lift = 1.376\n",
      "50: {'Soup', 'Sandwich'} -> {'Coffee'} Support = 0.004 Confidence = 0.654 Lift = 1.376\n",
      "51: {'Soup', 'Cake', 'Sandwich'} -> {'Coffee'} Support = 0.001 Confidence = 0.818 Lift = 1.722\n",
      "52: {'Juice', 'Pastry'} -> {'Coffee'} Support = 0.002 Confidence = 0.773 Lift = 1.627\n",
      "53: {'Cookies', 'Juice', 'Cake'} -> {'Coffee'} Support = 0.001 Confidence = 0.700 Lift = 1.473\n",
      "54: {'Cookies', 'Juice'} -> {'Coffee'} Support = 0.004 Confidence = 0.603 Lift = 1.270\n",
      "55: {'Cookies', 'Juice'} -> {'Coffee'} Support = 0.004 Confidence = 0.603 Lift = 1.270\n",
      "56: {'Juice', 'NONE'} -> {'Coffee'} Support = 0.004 Confidence = 0.661 Lift = 1.391\n",
      "57: {'Juice', 'NONE'} -> {'Coffee'} Support = 0.004 Confidence = 0.661 Lift = 1.391\n",
      "58: {'Juice', 'Cake', 'Sandwich'} -> {'Coffee'} Support = 0.001 Confidence = 0.625 Lift = 1.316\n",
      "59: {'NONE', 'Alfajores'} -> {'Coffee'} Support = 0.001 Confidence = 0.611 Lift = 1.286\n",
      "60: {'NONE', 'Alfajores'} -> {'Coffee'} Support = 0.001 Confidence = 0.611 Lift = 1.286\n",
      "61: {'Cookies', 'Sandwich', 'Alfajores'} -> {'Coffee'} Support = 0.000 Confidence = 0.750 Lift = 1.579\n",
      "62: {'Cookies', 'Alfajores'} -> {'Coffee'} Support = 0.002 Confidence = 0.652 Lift = 1.373\n",
      "63: {'Pastry', 'Bread', 'Alfajores'} -> {'Coffee'} Support = 0.001 Confidence = 0.714 Lift = 1.504\n",
      "64: {'Muffin', 'Sandwich'} -> {'Coffee'} Support = 0.001 Confidence = 0.650 Lift = 1.368\n",
      "65: {'Muffin', 'NONE'} -> {'Coffee'} Support = 0.001 Confidence = 0.619 Lift = 1.303\n",
      "66: {'Muffin', 'Cake', 'Tea'} -> {'Coffee'} Support = 0.001 Confidence = 0.667 Lift = 1.403\n",
      "67: {'NONE', 'Brownie'} -> {'Coffee'} Support = 0.001 Confidence = 0.609 Lift = 1.281\n",
      "68: {'Cookies', 'Brownie'} -> {'Coffee'} Support = 0.002 Confidence = 0.625 Lift = 1.316\n",
      "69: {'Cookies', 'Brownie'} -> {'Coffee'} Support = 0.002 Confidence = 0.625 Lift = 1.316\n",
      "70: {'Sandwich', 'Brownie'} -> {'Coffee'} Support = 0.001 Confidence = 0.636 Lift = 1.339\n",
      "71: {'Cookies', 'Hot chocolate'} -> {'Coffee'} Support = 0.004 Confidence = 0.614 Lift = 1.292\n",
      "72: {'Cookies', 'Medialuna'} -> {'Coffee'} Support = 0.002 Confidence = 0.667 Lift = 1.403\n",
      "73: {'Cookies', 'Medialuna'} -> {'Coffee'} Support = 0.002 Confidence = 0.667 Lift = 1.403\n",
      "74: {'Cookies', 'Pastry'} -> {'Coffee'} Support = 0.002 Confidence = 0.607 Lift = 1.278\n",
      "75: {'Cookies', 'Pastry'} -> {'Coffee'} Support = 0.002 Confidence = 0.607 Lift = 1.278\n",
      "76: {'Cookies', 'NONE'} -> {'Coffee'} Support = 0.002 Confidence = 0.741 Lift = 1.559\n",
      "77: {'Cookies', 'NONE'} -> {'Coffee'} Support = 0.002 Confidence = 0.741 Lift = 1.559\n",
      "78: {'Cookies', 'Sandwich', 'Hot chocolate'} -> {'Coffee'} Support = 0.001 Confidence = 0.857 Lift = 1.804\n",
      "79: {'Cookies', 'Tea', 'Sandwich'} -> {'Coffee'} Support = 0.001 Confidence = 0.750 Lift = 1.579\n",
      "80: {'Cookies', 'Hot chocolate'} -> {'Coffee'} Support = 0.004 Confidence = 0.614 Lift = 1.292\n",
      "81: {'Cookies', 'Hot chocolate'} -> {'Coffee'} Support = 0.004 Confidence = 0.614 Lift = 1.292\n",
      "82: {'Cookies', 'Hot chocolate'} -> {'Coffee'} Support = 0.004 Confidence = 0.614 Lift = 1.292\n",
      "83: {'NONE', 'Hot chocolate', 'Medialuna'} -> {'Coffee'} Support = 0.001 Confidence = 0.909 Lift = 1.914\n",
      "84: {'Hot chocolate', 'Medialuna'} -> {'Coffee'} Support = 0.003 Confidence = 0.644 Lift = 1.356\n",
      "85: {'Hot chocolate', 'Medialuna'} -> {'Coffee'} Support = 0.003 Confidence = 0.644 Lift = 1.356\n",
      "86: {'Pastry', 'Bread', 'Hot chocolate'} -> {'Coffee'} Support = 0.001 Confidence = 0.667 Lift = 1.403\n",
      "87: {'Pastry', 'Hot chocolate'} -> {'Coffee'} Support = 0.004 Confidence = 0.667 Lift = 1.403\n",
      "88: {'Pastry', 'Hot chocolate'} -> {'Coffee'} Support = 0.004 Confidence = 0.667 Lift = 1.403\n",
      "89: {'NONE', 'Hot chocolate'} -> {'Coffee'} Support = 0.004 Confidence = 0.621 Lift = 1.306\n",
      "90: {'Cake', 'Hot chocolate'} -> {'Coffee'} Support = 0.007 Confidence = 0.602 Lift = 1.267\n",
      "91: {'Cake', 'Hot chocolate'} -> {'Coffee'} Support = 0.007 Confidence = 0.602 Lift = 1.267\n",
      "92: {'Medialuna', 'Sandwich'} -> {'Coffee'} Support = 0.001 Confidence = 0.650 Lift = 1.368\n",
      "93: {'Cake', 'Medialuna', 'Tea'} -> {'Coffee'} Support = 0.001 Confidence = 0.667 Lift = 1.403\n",
      "94: {'Cake', 'Medialuna'} -> {'Coffee'} Support = 0.003 Confidence = 0.686 Lift = 1.443\n",
      "95: {'Cake', 'Medialuna'} -> {'Coffee'} Support = 0.003 Confidence = 0.686 Lift = 1.443\n",
      "96: {'NONE', 'Medialuna'} -> {'Coffee'} Support = 0.003 Confidence = 0.684 Lift = 1.440\n",
      "97: {'Pastry', 'Sandwich'} -> {'Coffee'} Support = 0.001 Confidence = 0.818 Lift = 1.722\n",
      "98: {'Cake', 'Sandwich', 'Tea'} -> {'Coffee'} Support = 0.001 Confidence = 0.714 Lift = 1.504\n",
      "99: {'Cake', 'Sandwich'} -> {'Coffee'} Support = 0.005 Confidence = 0.677 Lift = 1.425\n",
      "100: {'Cake', 'Sandwich'} -> {'Coffee'} Support = 0.005 Confidence = 0.677 Lift = 1.425\n",
      "101: {'Cake', 'Sandwich'} -> {'Coffee'} Support = 0.005 Confidence = 0.677 Lift = 1.425\n",
      "102: {'Cake', 'Sandwich'} -> {'Coffee'} Support = 0.005 Confidence = 0.677 Lift = 1.425\n",
      "103: {'Pastry', 'NONE'} -> {'Coffee'} Support = 0.003 Confidence = 0.636 Lift = 1.339\n",
      "104: {'Pastry', 'NONE'} -> {'Coffee'} Support = 0.003 Confidence = 0.636 Lift = 1.339\n",
      "105: {'NONE', 'Cake'} -> {'Coffee'} Support = 0.003 Confidence = 0.667 Lift = 1.403\n",
      "106: {'NONE', 'Cake'} -> {'Coffee'} Support = 0.003 Confidence = 0.667 Lift = 1.403\n"
     ]
    },
    {
     "data": {
      "application/vnd.plotly.v1+json": {
       "data": [
        {
         "marker": {
          "color": [
           1.7221932219723741,
           1.2779767163048965,
           1.7221932219723741,
           1.4401966710061374,
           1.4401966710061374,
           1.4734319787985866,
           1.8417899734982335,
           1.6096315734774476,
           1.7171575692765482,
           1.7171575692765482,
           1.942987224789345,
           1.3270039560608387,
           1.2717121245583036,
           1.7540856890459364,
           1.5786771201413428,
           1.3619959467886094,
           1.7039689550731953,
           1.4032685512367493,
           1.403268551236749,
           1.6191560206577875,
           1.7540856890459364,
           1.3182219723739157,
           1.3182219723739157,
           1.8042024230186773,
           1.3681868374558304,
           1.5786771201413428,
           1.403268551236749,
           1.403268551236749,
           1.4351610183103116,
           4.942,
           1.4734319787985866,
           1.4734319787985866,
           1.403268551236749,
           1.5381982196248982,
           1.423904853460819,
           1.824249116607774,
           1.2863295053003534,
           1.4351610183103116,
           1.5035020191822313,
           1.578677120141343,
           1.578677120141343,
           1.4826988465897728,
           1.4826988465897728,
           1.4826988465897728,
           1.661765389622466,
           1.7540856890459364,
           1.3294123116979728,
           1.2779767163048965,
           1.3155642667844525,
           1.3762826175591194,
           1.3762826175591194,
           1.7221932219723741,
           1.6265158207516865,
           1.4734319787985866,
           1.2701999817229195,
           1.2701999817229195,
           1.391376444870336,
           1.391376444870336,
           1.3155642667844525,
           1.2863295053003534,
           1.2863295053003534,
           1.5786771201413428,
           1.3727627131663849,
           1.5035020191822313,
           1.3681868374558304,
           1.3030350832912672,
           1.403268551236749,
           1.2812451989552927,
           1.315564266784452,
           1.315564266784452,
           1.3394836170896243,
           1.2924841919285848,
           1.403268551236749,
           1.403268551236749,
           1.2779767163048965,
           1.2779767163048965,
           1.5591872791519437,
           1.5591872791519437,
           1.8042024230186773,
           1.5786771201413428,
           1.2924841919285848,
           1.2924841919285848,
           1.2924841919285848,
           1.913548024413749,
           1.3564929328621906,
           1.3564929328621906,
           1.4032685512367493,
           1.403268551236749,
           1.403268551236749,
           1.3064914097721458,
           1.266839664310954,
           1.266839664310954,
           1.3681868374558304,
           1.403268551236749,
           1.4433619384149419,
           1.4433619384149419,
           1.4401966710061374,
           1.7221932219723741,
           1.5035020191822313,
           1.424857298178853,
           1.424857298178853,
           1.424857298178853,
           1.424857298178853,
           1.3394836170896243,
           1.3394836170896243,
           1.403268551236749,
           1.403268551236749
          ],
          "colorbar": {
           "title": {
            "text": "Lift"
           }
          },
          "colorscale": [
           [
            0.0,
            "rgb(243, 224, 247)"
           ],
           [
            0.16666666666666666,
            "rgb(228, 199, 241)"
           ],
           [
            0.3333333333333333,
            "rgb(209, 175, 232)"
           ],
           [
            0.5,
            "rgb(185, 152, 221)"
           ],
           [
            0.6666666666666666,
            "rgb(159, 130, 206)"
           ],
           [
            0.8333333333333334,
            "rgb(130, 109, 186)"
           ],
           [
            1.0,
            "rgb(99, 88, 159)"
           ]
          ]
         },
         "mode": "markers",
         "text": [
          "['Mighty Protein'] => ['Coffee'], Lift: 1.7221932219723741",
          "['Granola'] => ['Coffee'], Lift: 1.2779767163048965",
          "['NONE, Art Tray'] => ['Coffee'], Lift: 1.7221932219723741",
          "['Art Tray'] => ['Coffee'], Lift: 1.4401966710061374",
          "['Art Tray'] => ['Coffee'], Lift: 1.4401966710061374",
          "['Bread, Extra Salami or Feta'] => ['Coffee'], Lift: 1.4734319787985866",
          "['Salad, Extra Salami or Feta'] => ['Coffee'], Lift: 1.8417899734982335",
          "['NONE, Extra Salami or Feta'] => ['Coffee'], Lift: 1.6096315734774476",
          "['Extra Salami or Feta'] => ['Coffee'], Lift: 1.7171575692765482",
          "['Extra Salami or Feta'] => ['Coffee'], Lift: 1.7171575692765482",
          "['Tartine, NONE'] => ['Coffee'], Lift: 1.942987224789345",
          "['Tartine'] => ['Coffee'], Lift: 1.3270039560608387",
          "['Bakewell'] => ['Coffee'], Lift: 1.2717121245583036",
          "['Vegan mincepie, Cake'] => ['Coffee'], Lift: 1.7540856890459364",
          "['NONE, The Nomad'] => ['Coffee'], Lift: 1.5786771201413428",
          "['Keeping It Local, Tea'] => ['Coffee'], Lift: 1.3619959467886094",
          "['Keeping It Local'] => ['Coffee'], Lift: 1.7039689550731953",
          "['Smoothies, Cake'] => ['Coffee'], Lift: 1.4032685512367493",
          "['Salad, Spanish Brunch'] => ['Coffee'], Lift: 1.403268551236749",
          "['Salad, Cake'] => ['Coffee'], Lift: 1.6191560206577875",
          "['Salad, Sandwich'] => ['Coffee'], Lift: 1.7540856890459364",
          "['Salad'] => ['Coffee'], Lift: 1.3182219723739157",
          "['Salad'] => ['Coffee'], Lift: 1.3182219723739157",
          "['Sandwich, Hearty & Seasonal'] => ['Coffee'], Lift: 1.8042024230186773",
          "['Juice, Jammie Dodgers'] => ['Coffee'], Lift: 1.3681868374558304",
          "['Mineral water, Alfajores'] => ['Coffee'], Lift: 1.5786771201413428",
          "['Tiffin, Sandwich'] => ['Coffee'], Lift: 1.403268551236749",
          "['Tiffin, Sandwich'] => ['Coffee'], Lift: 1.403268551236749",
          "['Tiffin, Cake'] => ['Coffee'], Lift: 1.4351610183103116",
          "['Alfajores, Spanish Brunch'] => ['Tea'], Lift: 4.942",
          "['Toast, Spanish Brunch'] => ['Coffee'], Lift: 1.4734319787985866",
          "['Soup, Spanish Brunch'] => ['Coffee'], Lift: 1.4734319787985866",
          "['Sandwich, Spanish Brunch'] => ['Coffee'], Lift: 1.403268551236749",
          "['Juice, Spanish Brunch'] => ['Coffee'], Lift: 1.5381982196248982",
          "['NONE, Spanish Brunch'] => ['Coffee'], Lift: 1.423904853460819",
          "['Pastry, Toast'] => ['Coffee'], Lift: 1.824249116607774",
          "['Medialuna, Toast'] => ['Coffee'], Lift: 1.2863295053003534",
          "['Juice, Toast'] => ['Coffee'], Lift: 1.4351610183103116",
          "['Cake, Toast'] => ['Coffee'], Lift: 1.5035020191822313",
          "['NONE, Toast'] => ['Coffee'], Lift: 1.578677120141343",
          "['NONE, Toast'] => ['Coffee'], Lift: 1.578677120141343",
          "['Toast'] => ['Coffee'], Lift: 1.4826988465897728",
          "['Toast'] => ['Coffee'], Lift: 1.4826988465897728",
          "['Toast'] => ['Coffee'], Lift: 1.4826988465897728",
          "['Cookies, Scone'] => ['Coffee'], Lift: 1.661765389622466",
          "['Scone, NONE'] => ['Coffee'], Lift: 1.7540856890459364",
          "['Scone, Juice'] => ['Coffee'], Lift: 1.3294123116979728",
          "['Scone, Hot chocolate'] => ['Coffee'], Lift: 1.2779767163048965",
          "['Soup, NONE'] => ['Coffee'], Lift: 1.3155642667844525",
          "['Soup, Sandwich'] => ['Coffee'], Lift: 1.3762826175591194",
          "['Soup, Sandwich'] => ['Coffee'], Lift: 1.3762826175591194",
          "['Soup, Cake, Sandwich'] => ['Coffee'], Lift: 1.7221932219723741",
          "['Juice, Pastry'] => ['Coffee'], Lift: 1.6265158207516865",
          "['Cookies, Juice, Cake'] => ['Coffee'], Lift: 1.4734319787985866",
          "['Cookies, Juice'] => ['Coffee'], Lift: 1.2701999817229195",
          "['Cookies, Juice'] => ['Coffee'], Lift: 1.2701999817229195",
          "['Juice, NONE'] => ['Coffee'], Lift: 1.391376444870336",
          "['Juice, NONE'] => ['Coffee'], Lift: 1.391376444870336",
          "['Juice, Cake, Sandwich'] => ['Coffee'], Lift: 1.3155642667844525",
          "['NONE, Alfajores'] => ['Coffee'], Lift: 1.2863295053003534",
          "['NONE, Alfajores'] => ['Coffee'], Lift: 1.2863295053003534",
          "['Cookies, Sandwich, Alfajores'] => ['Coffee'], Lift: 1.5786771201413428",
          "['Cookies, Alfajores'] => ['Coffee'], Lift: 1.3727627131663849",
          "['Pastry, Bread, Alfajores'] => ['Coffee'], Lift: 1.5035020191822313",
          "['Muffin, Sandwich'] => ['Coffee'], Lift: 1.3681868374558304",
          "['Muffin, NONE'] => ['Coffee'], Lift: 1.3030350832912672",
          "['Muffin, Cake, Tea'] => ['Coffee'], Lift: 1.403268551236749",
          "['NONE, Brownie'] => ['Coffee'], Lift: 1.2812451989552927",
          "['Cookies, Brownie'] => ['Coffee'], Lift: 1.315564266784452",
          "['Cookies, Brownie'] => ['Coffee'], Lift: 1.315564266784452",
          "['Sandwich, Brownie'] => ['Coffee'], Lift: 1.3394836170896243",
          "['Cookies, Hot chocolate'] => ['Coffee'], Lift: 1.2924841919285848",
          "['Cookies, Medialuna'] => ['Coffee'], Lift: 1.403268551236749",
          "['Cookies, Medialuna'] => ['Coffee'], Lift: 1.403268551236749",
          "['Cookies, Pastry'] => ['Coffee'], Lift: 1.2779767163048965",
          "['Cookies, Pastry'] => ['Coffee'], Lift: 1.2779767163048965",
          "['Cookies, NONE'] => ['Coffee'], Lift: 1.5591872791519437",
          "['Cookies, NONE'] => ['Coffee'], Lift: 1.5591872791519437",
          "['Cookies, Sandwich, Hot chocolate'] => ['Coffee'], Lift: 1.8042024230186773",
          "['Cookies, Tea, Sandwich'] => ['Coffee'], Lift: 1.5786771201413428",
          "['Cookies, Hot chocolate'] => ['Coffee'], Lift: 1.2924841919285848",
          "['Cookies, Hot chocolate'] => ['Coffee'], Lift: 1.2924841919285848",
          "['Cookies, Hot chocolate'] => ['Coffee'], Lift: 1.2924841919285848",
          "['NONE, Hot chocolate, Medialuna'] => ['Coffee'], Lift: 1.913548024413749",
          "['Hot chocolate, Medialuna'] => ['Coffee'], Lift: 1.3564929328621906",
          "['Hot chocolate, Medialuna'] => ['Coffee'], Lift: 1.3564929328621906",
          "['Pastry, Bread, Hot chocolate'] => ['Coffee'], Lift: 1.4032685512367493",
          "['Pastry, Hot chocolate'] => ['Coffee'], Lift: 1.403268551236749",
          "['Pastry, Hot chocolate'] => ['Coffee'], Lift: 1.403268551236749",
          "['NONE, Hot chocolate'] => ['Coffee'], Lift: 1.3064914097721458",
          "['Cake, Hot chocolate'] => ['Coffee'], Lift: 1.266839664310954",
          "['Cake, Hot chocolate'] => ['Coffee'], Lift: 1.266839664310954",
          "['Medialuna, Sandwich'] => ['Coffee'], Lift: 1.3681868374558304",
          "['Cake, Medialuna, Tea'] => ['Coffee'], Lift: 1.403268551236749",
          "['Cake, Medialuna'] => ['Coffee'], Lift: 1.4433619384149419",
          "['Cake, Medialuna'] => ['Coffee'], Lift: 1.4433619384149419",
          "['NONE, Medialuna'] => ['Coffee'], Lift: 1.4401966710061374",
          "['Pastry, Sandwich'] => ['Coffee'], Lift: 1.7221932219723741",
          "['Cake, Sandwich, Tea'] => ['Coffee'], Lift: 1.5035020191822313",
          "['Cake, Sandwich'] => ['Coffee'], Lift: 1.424857298178853",
          "['Cake, Sandwich'] => ['Coffee'], Lift: 1.424857298178853",
          "['Cake, Sandwich'] => ['Coffee'], Lift: 1.424857298178853",
          "['Cake, Sandwich'] => ['Coffee'], Lift: 1.424857298178853",
          "['Pastry, NONE'] => ['Coffee'], Lift: 1.3394836170896243",
          "['Pastry, NONE'] => ['Coffee'], Lift: 1.3394836170896243",
          "['NONE, Cake'] => ['Coffee'], Lift: 1.403268551236749",
          "['NONE, Cake'] => ['Coffee'], Lift: 1.403268551236749"
         ],
         "x": [
          9.442870632672333E-4,
          0.0017836533417269962,
          9.442870632672333E-4,
          0.0027279404049942294,
          0.0027279404049942294,
          7.344454936522926E-4,
          0.0014688909873045851,
          0.0013639702024971147,
          0.003252544329031581,
          0.003252544329031581,
          0.0012590494176896443,
          0.0030427027594166402,
          0.0030427027594166402,
          0.0010492078480747037,
          9.442870632672333E-4,
          0.001154128632882174,
          0.0053509600251809885,
          0.0010492078480747037,
          8.393662784597629E-4,
          0.0010492078480747037,
          0.0015738117721120553,
          0.006505088658063162,
          0.006505088658063162,
          0.0012590494176896443,
          0.0013639702024971147,
          9.442870632672333E-4,
          6.295247088448222E-4,
          6.295247088448222E-4,
          0.0015738117721120553,
          7.344454936522926E-4,
          7.344454936522926E-4,
          7.344454936522926E-4,
          0.0012590494176896443,
          0.001993494911341937,
          0.002413178050571818,
          0.0013639702024971147,
          0.001154128632882174,
          0.0015738117721120553,
          0.0015738117721120553,
          0.0028328611898017,
          0.0028328611898017,
          0.023502255796873362,
          0.023502255796873362,
          0.023502255796873362,
          0.0015738117721120553,
          0.0015738117721120553,
          0.0012590494176896443,
          0.0017836533417269962,
          0.0010492078480747037,
          0.0035673066834539923,
          0.0035673066834539923,
          9.442870632672333E-4,
          0.0017836533417269962,
          7.344454936522926E-4,
          0.0036722274682614627,
          0.0036722274682614627,
          0.004091910607491344,
          0.004091910607491344,
          5.246039240373518E-4,
          0.001154128632882174,
          0.001154128632882174,
          3.147623544224111E-4,
          0.0015738117721120553,
          5.246039240373518E-4,
          0.0013639702024971147,
          0.0013639702024971147,
          8.393662784597629E-4,
          0.0014688909873045851,
          0.0015738117721120553,
          0.0015738117721120553,
          0.0014688909873045851,
          0.0036722274682614627,
          0.0016787325569195257,
          0.0016787325569195257,
          0.0017836533417269962,
          0.0017836533417269962,
          0.0020984156961494074,
          0.0020984156961494074,
          6.295247088448222E-4,
          6.295247088448222E-4,
          0.0036722274682614627,
          0.0036722274682614627,
          0.0036722274682614627,
          0.0010492078480747037,
          0.0030427027594166402,
          0.0030427027594166402,
          0.0010492078480747037,
          0.003777148253068933,
          0.003777148253068933,
          0.003777148253068933,
          0.006819851012485573,
          0.006819851012485573,
          0.0013639702024971147,
          8.393662784597629E-4,
          0.0025180988353792886,
          0.0025180988353792886,
          0.0027279404049942294,
          9.442870632672333E-4,
          0.0010492078480747037,
          0.004616514531528696,
          0.004616514531528696,
          0.004616514531528696,
          0.004616514531528696,
          0.0029377819746091703,
          0.0029377819746091703,
          0.0033574651138390515,
          0.0033574651138390515
         ],
         "y": [
          0.8181818181818182,
          0.6071428571428571,
          0.8181818181818182,
          0.6842105263157895,
          0.6842105263157895,
          0.7,
          0.875,
          0.7647058823529411,
          0.8157894736842105,
          0.8157894736842105,
          0.9230769230769231,
          0.6304347826086957,
          0.6041666666666666,
          0.8333333333333334,
          0.75,
          0.6470588235294118,
          0.8095238095238095,
          0.6666666666666666,
          0.6666666666666666,
          0.7692307692307693,
          0.8333333333333334,
          0.6262626262626263,
          0.6262626262626263,
          0.8571428571428571,
          0.65,
          0.75,
          0.6666666666666666,
          0.6666666666666666,
          0.6818181818181818,
          0.7,
          0.7,
          0.7,
          0.6666666666666666,
          0.7307692307692307,
          0.6764705882352942,
          0.8666666666666667,
          0.6111111111111112,
          0.6818181818181818,
          0.7142857142857143,
          0.75,
          0.75,
          0.7044025157232704,
          0.7044025157232704,
          0.7044025157232704,
          0.7894736842105263,
          0.8333333333333334,
          0.631578947368421,
          0.6071428571428571,
          0.625,
          0.6538461538461539,
          0.6538461538461539,
          0.8181818181818182,
          0.7727272727272727,
          0.7,
          0.603448275862069,
          0.603448275862069,
          0.6610169491525424,
          0.6610169491525424,
          0.625,
          0.6111111111111112,
          0.6111111111111112,
          0.75,
          0.6521739130434783,
          0.7142857142857143,
          0.65,
          0.6190476190476191,
          0.6666666666666666,
          0.6086956521739131,
          0.625,
          0.625,
          0.6363636363636364,
          0.6140350877192983,
          0.6666666666666666,
          0.6666666666666666,
          0.6071428571428571,
          0.6071428571428571,
          0.7407407407407407,
          0.7407407407407407,
          0.8571428571428571,
          0.75,
          0.6140350877192983,
          0.6140350877192983,
          0.6140350877192983,
          0.9090909090909091,
          0.6444444444444445,
          0.6444444444444445,
          0.6666666666666666,
          0.6666666666666666,
          0.6666666666666666,
          0.6206896551724138,
          0.6018518518518519,
          0.6018518518518519,
          0.65,
          0.6666666666666666,
          0.6857142857142857,
          0.6857142857142857,
          0.6842105263157895,
          0.8181818181818182,
          0.7142857142857143,
          0.676923076923077,
          0.676923076923077,
          0.676923076923077,
          0.676923076923077,
          0.6363636363636364,
          0.6363636363636364,
          0.6666666666666666,
          0.6666666666666666
         ],
         "type": "scatter"
        }
       ],
       "layout": {
        "template": {
         "data": {
          "histogram2dcontour": [
           {
            "type": "histogram2dcontour",
            "colorbar": {
             "outlinewidth": 0,
             "ticks": ""
            },
            "colorscale": [
             [
              0.0,
              "#0d0887"
             ],
             [
              0.1111111111111111,
              "#46039f"
             ],
             [
              0.2222222222222222,
              "#7201a8"
             ],
             [
              0.3333333333333333,
              "#9c179e"
             ],
             [
              0.4444444444444444,
              "#bd3786"
             ],
             [
              0.5555555555555556,
              "#d8576b"
             ],
             [
              0.6666666666666666,
              "#ed7953"
             ],
             [
              0.7777777777777778,
              "#fb9f3a"
             ],
             [
              0.8888888888888888,
              "#fdca26"
             ],
             [
              1.0,
              "#f0f921"
             ]
            ]
           }
          ],
          "choropleth": [
           {
            "type": "choropleth",
            "colorbar": {
             "outlinewidth": 0,
             "ticks": ""
            }
           }
          ],
          "histogram2d": [
           {
            "type": "histogram2d",
            "colorbar": {
             "outlinewidth": 0,
             "ticks": ""
            },
            "colorscale": [
             [
              0.0,
              "#0d0887"
             ],
             [
              0.1111111111111111,
              "#46039f"
             ],
             [
              0.2222222222222222,
              "#7201a8"
             ],
             [
              0.3333333333333333,
              "#9c179e"
             ],
             [
              0.4444444444444444,
              "#bd3786"
             ],
             [
              0.5555555555555556,
              "#d8576b"
             ],
             [
              0.6666666666666666,
              "#ed7953"
             ],
             [
              0.7777777777777778,
              "#fb9f3a"
             ],
             [
              0.8888888888888888,
              "#fdca26"
             ],
             [
              1.0,
              "#f0f921"
             ]
            ]
           }
          ],
          "heatmap": [
           {
            "type": "heatmap",
            "colorbar": {
             "outlinewidth": 0,
             "ticks": ""
            },
            "colorscale": [
             [
              0.0,
              "#0d0887"
             ],
             [
              0.1111111111111111,
              "#46039f"
             ],
             [
              0.2222222222222222,
              "#7201a8"
             ],
             [
              0.3333333333333333,
              "#9c179e"
             ],
             [
              0.4444444444444444,
              "#bd3786"
             ],
             [
              0.5555555555555556,
              "#d8576b"
             ],
             [
              0.6666666666666666,
              "#ed7953"
             ],
             [
              0.7777777777777778,
              "#fb9f3a"
             ],
             [
              0.8888888888888888,
              "#fdca26"
             ],
             [
              1.0,
              "#f0f921"
             ]
            ]
           }
          ],
          "heatmapgl": [
           {
            "type": "heatmapgl",
            "colorbar": {
             "outlinewidth": 0,
             "ticks": ""
            },
            "colorscale": [
             [
              0.0,
              "#0d0887"
             ],
             [
              0.1111111111111111,
              "#46039f"
             ],
             [
              0.2222222222222222,
              "#7201a8"
             ],
             [
              0.3333333333333333,
              "#9c179e"
             ],
             [
              0.4444444444444444,
              "#bd3786"
             ],
             [
              0.5555555555555556,
              "#d8576b"
             ],
             [
              0.6666666666666666,
              "#ed7953"
             ],
             [
              0.7777777777777778,
              "#fb9f3a"
             ],
             [
              0.8888888888888888,
              "#fdca26"
             ],
             [
              1.0,
              "#f0f921"
             ]
            ]
           }
          ],
          "contourcarpet": [
           {
            "type": "contourcarpet",
            "colorbar": {
             "outlinewidth": 0,
             "ticks": ""
            }
           }
          ],
          "contour": [
           {
            "type": "contour",
            "colorbar": {
             "outlinewidth": 0,
             "ticks": ""
            },
            "colorscale": [
             [
              0.0,
              "#0d0887"
             ],
             [
              0.1111111111111111,
              "#46039f"
             ],
             [
              0.2222222222222222,
              "#7201a8"
             ],
             [
              0.3333333333333333,
              "#9c179e"
             ],
             [
              0.4444444444444444,
              "#bd3786"
             ],
             [
              0.5555555555555556,
              "#d8576b"
             ],
             [
              0.6666666666666666,
              "#ed7953"
             ],
             [
              0.7777777777777778,
              "#fb9f3a"
             ],
             [
              0.8888888888888888,
              "#fdca26"
             ],
             [
              1.0,
              "#f0f921"
             ]
            ]
           }
          ],
          "surface": [
           {
            "type": "surface",
            "colorbar": {
             "outlinewidth": 0,
             "ticks": ""
            },
            "colorscale": [
             [
              0.0,
              "#0d0887"
             ],
             [
              0.1111111111111111,
              "#46039f"
             ],
             [
              0.2222222222222222,
              "#7201a8"
             ],
             [
              0.3333333333333333,
              "#9c179e"
             ],
             [
              0.4444444444444444,
              "#bd3786"
             ],
             [
              0.5555555555555556,
              "#d8576b"
             ],
             [
              0.6666666666666666,
              "#ed7953"
             ],
             [
              0.7777777777777778,
              "#fb9f3a"
             ],
             [
              0.8888888888888888,
              "#fdca26"
             ],
             [
              1.0,
              "#f0f921"
             ]
            ]
           }
          ],
          "mesh3d": [
           {
            "type": "mesh3d",
            "colorbar": {
             "outlinewidth": 0,
             "ticks": ""
            }
           }
          ],
          "scatter": [
           {
            "fillpattern": {
             "fillmode": "overlay",
             "size": 10,
             "solidity": 0.2
            },
            "type": "scatter"
           }
          ],
          "parcoords": [
           {
            "type": "parcoords",
            "line": {
             "colorbar": {
              "outlinewidth": 0,
              "ticks": ""
             }
            }
           }
          ],
          "scatterpolargl": [
           {
            "type": "scatterpolargl",
            "marker": {
             "colorbar": {
              "outlinewidth": 0,
              "ticks": ""
             }
            }
           }
          ],
          "bar": [
           {
            "error_x": {
             "color": "#2a3f5f"
            },
            "error_y": {
             "color": "#2a3f5f"
            },
            "marker": {
             "line": {
              "color": "#E5ECF6",
              "width": 0.5
             },
             "pattern": {
              "fillmode": "overlay",
              "size": 10,
              "solidity": 0.2
             }
            },
            "type": "bar"
           }
          ],
          "scattergeo": [
           {
            "type": "scattergeo",
            "marker": {
             "colorbar": {
              "outlinewidth": 0,
              "ticks": ""
             }
            }
           }
          ],
          "scatterpolar": [
           {
            "type": "scatterpolar",
            "marker": {
             "colorbar": {
              "outlinewidth": 0,
              "ticks": ""
             }
            }
           }
          ],
          "histogram": [
           {
            "marker": {
             "pattern": {
              "fillmode": "overlay",
              "size": 10,
              "solidity": 0.2
             }
            },
            "type": "histogram"
           }
          ],
          "scattergl": [
           {
            "type": "scattergl",
            "marker": {
             "colorbar": {
              "outlinewidth": 0,
              "ticks": ""
             }
            }
           }
          ],
          "scatter3d": [
           {
            "type": "scatter3d",
            "line": {
             "colorbar": {
              "outlinewidth": 0,
              "ticks": ""
             }
            },
            "marker": {
             "colorbar": {
              "outlinewidth": 0,
              "ticks": ""
             }
            }
           }
          ],
          "scattermapbox": [
           {
            "type": "scattermapbox",
            "marker": {
             "colorbar": {
              "outlinewidth": 0,
              "ticks": ""
             }
            }
           }
          ],
          "scatterternary": [
           {
            "type": "scatterternary",
            "marker": {
             "colorbar": {
              "outlinewidth": 0,
              "ticks": ""
             }
            }
           }
          ],
          "scattercarpet": [
           {
            "type": "scattercarpet",
            "marker": {
             "colorbar": {
              "outlinewidth": 0,
              "ticks": ""
             }
            }
           }
          ],
          "carpet": [
           {
            "aaxis": {
             "endlinecolor": "#2a3f5f",
             "gridcolor": "white",
             "linecolor": "white",
             "minorgridcolor": "white",
             "startlinecolor": "#2a3f5f"
            },
            "baxis": {
             "endlinecolor": "#2a3f5f",
             "gridcolor": "white",
             "linecolor": "white",
             "minorgridcolor": "white",
             "startlinecolor": "#2a3f5f"
            },
            "type": "carpet"
           }
          ],
          "table": [
           {
            "cells": {
             "fill": {
              "color": "#EBF0F8"
             },
             "line": {
              "color": "white"
             }
            },
            "header": {
             "fill": {
              "color": "#C8D4E3"
             },
             "line": {
              "color": "white"
             }
            },
            "type": "table"
           }
          ],
          "barpolar": [
           {
            "marker": {
             "line": {
              "color": "#E5ECF6",
              "width": 0.5
             },
             "pattern": {
              "fillmode": "overlay",
              "size": 10,
              "solidity": 0.2
             }
            },
            "type": "barpolar"
           }
          ],
          "pie": [
           {
            "automargin": true,
            "type": "pie"
           }
          ]
         },
         "layout": {
          "autotypenumbers": "strict",
          "colorway": [
           "#636efa",
           "#EF553B",
           "#00cc96",
           "#ab63fa",
           "#FFA15A",
           "#19d3f3",
           "#FF6692",
           "#B6E880",
           "#FF97FF",
           "#FECB52"
          ],
          "font": {
           "color": "#2a3f5f"
          },
          "hovermode": "closest",
          "hoverlabel": {
           "align": "left"
          },
          "paper_bgcolor": "white",
          "plot_bgcolor": "#E5ECF6",
          "polar": {
           "bgcolor": "#E5ECF6",
           "angularaxis": {
            "gridcolor": "white",
            "linecolor": "white",
            "ticks": ""
           },
           "radialaxis": {
            "gridcolor": "white",
            "linecolor": "white",
            "ticks": ""
           }
          },
          "ternary": {
           "bgcolor": "#E5ECF6",
           "aaxis": {
            "gridcolor": "white",
            "linecolor": "white",
            "ticks": ""
           },
           "baxis": {
            "gridcolor": "white",
            "linecolor": "white",
            "ticks": ""
           },
           "caxis": {
            "gridcolor": "white",
            "linecolor": "white",
            "ticks": ""
           }
          },
          "coloraxis": {
           "colorbar": {
            "outlinewidth": 0,
            "ticks": ""
           }
          },
          "colorscale": {
           "sequential": [
            [
             0.0,
             "#0d0887"
            ],
            [
             0.1111111111111111,
             "#46039f"
            ],
            [
             0.2222222222222222,
             "#7201a8"
            ],
            [
             0.3333333333333333,
             "#9c179e"
            ],
            [
             0.4444444444444444,
             "#bd3786"
            ],
            [
             0.5555555555555556,
             "#d8576b"
            ],
            [
             0.6666666666666666,
             "#ed7953"
            ],
            [
             0.7777777777777778,
             "#fb9f3a"
            ],
            [
             0.8888888888888888,
             "#fdca26"
            ],
            [
             1.0,
             "#f0f921"
            ]
           ],
           "sequentialminus": [
            [
             0.0,
             "#0d0887"
            ],
            [
             0.1111111111111111,
             "#46039f"
            ],
            [
             0.2222222222222222,
             "#7201a8"
            ],
            [
             0.3333333333333333,
             "#9c179e"
            ],
            [
             0.4444444444444444,
             "#bd3786"
            ],
            [
             0.5555555555555556,
             "#d8576b"
            ],
            [
             0.6666666666666666,
             "#ed7953"
            ],
            [
             0.7777777777777778,
             "#fb9f3a"
            ],
            [
             0.8888888888888888,
             "#fdca26"
            ],
            [
             1.0,
             "#f0f921"
            ]
           ],
           "diverging": [
            [
             0,
             "#8e0152"
            ],
            [
             0.1,
             "#c51b7d"
            ],
            [
             0.2,
             "#de77ae"
            ],
            [
             0.3,
             "#f1b6da"
            ],
            [
             0.4,
             "#fde0ef"
            ],
            [
             0.5,
             "#f7f7f7"
            ],
            [
             0.6,
             "#e6f5d0"
            ],
            [
             0.7,
             "#b8e186"
            ],
            [
             0.8,
             "#7fbc41"
            ],
            [
             0.9,
             "#4d9221"
            ],
            [
             1,
             "#276419"
            ]
           ]
          },
          "xaxis": {
           "gridcolor": "white",
           "linecolor": "white",
           "ticks": "",
           "title": {
            "standoff": 15
           },
           "zerolinecolor": "white",
           "automargin": true,
           "zerolinewidth": 2
          },
          "yaxis": {
           "gridcolor": "white",
           "linecolor": "white",
           "ticks": "",
           "title": {
            "standoff": 15
           },
           "zerolinecolor": "white",
           "automargin": true,
           "zerolinewidth": 2
          },
          "scene": {
           "xaxis": {
            "backgroundcolor": "#E5ECF6",
            "gridcolor": "white",
            "linecolor": "white",
            "showbackground": true,
            "ticks": "",
            "zerolinecolor": "white",
            "gridwidth": 2
           },
           "yaxis": {
            "backgroundcolor": "#E5ECF6",
            "gridcolor": "white",
            "linecolor": "white",
            "showbackground": true,
            "ticks": "",
            "zerolinecolor": "white",
            "gridwidth": 2
           },
           "zaxis": {
            "backgroundcolor": "#E5ECF6",
            "gridcolor": "white",
            "linecolor": "white",
            "showbackground": true,
            "ticks": "",
            "zerolinecolor": "white",
            "gridwidth": 2
           }
          },
          "shapedefaults": {
           "line": {
            "color": "#2a3f5f"
           }
          },
          "annotationdefaults": {
           "arrowcolor": "#2a3f5f",
           "arrowhead": 0,
           "arrowwidth": 1
          },
          "geo": {
           "bgcolor": "white",
           "landcolor": "#E5ECF6",
           "subunitcolor": "white",
           "showland": true,
           "showlakes": true,
           "lakecolor": "white"
          },
          "title": {
           "x": 0.05
          },
          "mapbox": {
           "style": "light"
          }
         }
        },
        "xaxis": {
         "title": {
          "text": "Support"
         },
         "autorange": "reversed"
        },
        "title": {
         "text": "Association Rules Strength Distribution"
        },
        "yaxis": {
         "title": {
          "text": "Confidence"
         }
        }
       },
       "config": {
        "plotlyServerURL": "https://plot.ly"
       }
      },
      "text/html": [
       "<div>                            <div id=\"69fb6796-4dd0-4618-b9df-c06cdeba7d48\" class=\"plotly-graph-div\" style=\"height:525px; width:100%;\"></div>            <script type=\"text/javascript\">                require([\"plotly\"], function(Plotly) {                    window.PLOTLYENV=window.PLOTLYENV || {};                                    if (document.getElementById(\"69fb6796-4dd0-4618-b9df-c06cdeba7d48\")) {                    Plotly.newPlot(                        \"69fb6796-4dd0-4618-b9df-c06cdeba7d48\",                        [{\"marker\":{\"color\":[1.7221932219723741,1.2779767163048965,1.7221932219723741,1.4401966710061374,1.4401966710061374,1.4734319787985866,1.8417899734982335,1.6096315734774476,1.7171575692765482,1.7171575692765482,1.942987224789345,1.3270039560608387,1.2717121245583036,1.7540856890459364,1.5786771201413428,1.3619959467886094,1.7039689550731953,1.4032685512367493,1.403268551236749,1.6191560206577875,1.7540856890459364,1.3182219723739157,1.3182219723739157,1.8042024230186773,1.3681868374558304,1.5786771201413428,1.403268551236749,1.403268551236749,1.4351610183103116,4.942,1.4734319787985866,1.4734319787985866,1.403268551236749,1.5381982196248982,1.423904853460819,1.824249116607774,1.2863295053003534,1.4351610183103116,1.5035020191822313,1.578677120141343,1.578677120141343,1.4826988465897728,1.4826988465897728,1.4826988465897728,1.661765389622466,1.7540856890459364,1.3294123116979728,1.2779767163048965,1.3155642667844525,1.3762826175591194,1.3762826175591194,1.7221932219723741,1.6265158207516865,1.4734319787985866,1.2701999817229195,1.2701999817229195,1.391376444870336,1.391376444870336,1.3155642667844525,1.2863295053003534,1.2863295053003534,1.5786771201413428,1.3727627131663849,1.5035020191822313,1.3681868374558304,1.3030350832912672,1.403268551236749,1.2812451989552927,1.315564266784452,1.315564266784452,1.3394836170896243,1.2924841919285848,1.403268551236749,1.403268551236749,1.2779767163048965,1.2779767163048965,1.5591872791519437,1.5591872791519437,1.8042024230186773,1.5786771201413428,1.2924841919285848,1.2924841919285848,1.2924841919285848,1.913548024413749,1.3564929328621906,1.3564929328621906,1.4032685512367493,1.403268551236749,1.403268551236749,1.3064914097721458,1.266839664310954,1.266839664310954,1.3681868374558304,1.403268551236749,1.4433619384149419,1.4433619384149419,1.4401966710061374,1.7221932219723741,1.5035020191822313,1.424857298178853,1.424857298178853,1.424857298178853,1.424857298178853,1.3394836170896243,1.3394836170896243,1.403268551236749,1.403268551236749],\"colorbar\":{\"title\":{\"text\":\"Lift\"}},\"colorscale\":[[0.0,\"rgb(243, 224, 247)\"],[0.16666666666666666,\"rgb(228, 199, 241)\"],[0.3333333333333333,\"rgb(209, 175, 232)\"],[0.5,\"rgb(185, 152, 221)\"],[0.6666666666666666,\"rgb(159, 130, 206)\"],[0.8333333333333334,\"rgb(130, 109, 186)\"],[1.0,\"rgb(99, 88, 159)\"]]},\"mode\":\"markers\",\"text\":[\"['Mighty Protein'] =\\u003e ['Coffee'], Lift: 1.7221932219723741\",\"['Granola'] =\\u003e ['Coffee'], Lift: 1.2779767163048965\",\"['NONE, Art Tray'] =\\u003e ['Coffee'], Lift: 1.7221932219723741\",\"['Art Tray'] =\\u003e ['Coffee'], Lift: 1.4401966710061374\",\"['Art Tray'] =\\u003e ['Coffee'], Lift: 1.4401966710061374\",\"['Bread, Extra Salami or Feta'] =\\u003e ['Coffee'], Lift: 1.4734319787985866\",\"['Salad, Extra Salami or Feta'] =\\u003e ['Coffee'], Lift: 1.8417899734982335\",\"['NONE, Extra Salami or Feta'] =\\u003e ['Coffee'], Lift: 1.6096315734774476\",\"['Extra Salami or Feta'] =\\u003e ['Coffee'], Lift: 1.7171575692765482\",\"['Extra Salami or Feta'] =\\u003e ['Coffee'], Lift: 1.7171575692765482\",\"['Tartine, NONE'] =\\u003e ['Coffee'], Lift: 1.942987224789345\",\"['Tartine'] =\\u003e ['Coffee'], Lift: 1.3270039560608387\",\"['Bakewell'] =\\u003e ['Coffee'], Lift: 1.2717121245583036\",\"['Vegan mincepie, Cake'] =\\u003e ['Coffee'], Lift: 1.7540856890459364\",\"['NONE, The Nomad'] =\\u003e ['Coffee'], Lift: 1.5786771201413428\",\"['Keeping It Local, Tea'] =\\u003e ['Coffee'], Lift: 1.3619959467886094\",\"['Keeping It Local'] =\\u003e ['Coffee'], Lift: 1.7039689550731953\",\"['Smoothies, Cake'] =\\u003e ['Coffee'], Lift: 1.4032685512367493\",\"['Salad, Spanish Brunch'] =\\u003e ['Coffee'], Lift: 1.403268551236749\",\"['Salad, Cake'] =\\u003e ['Coffee'], Lift: 1.6191560206577875\",\"['Salad, Sandwich'] =\\u003e ['Coffee'], Lift: 1.7540856890459364\",\"['Salad'] =\\u003e ['Coffee'], Lift: 1.3182219723739157\",\"['Salad'] =\\u003e ['Coffee'], Lift: 1.3182219723739157\",\"['Sandwich, Hearty & Seasonal'] =\\u003e ['Coffee'], Lift: 1.8042024230186773\",\"['Juice, Jammie Dodgers'] =\\u003e ['Coffee'], Lift: 1.3681868374558304\",\"['Mineral water, Alfajores'] =\\u003e ['Coffee'], Lift: 1.5786771201413428\",\"['Tiffin, Sandwich'] =\\u003e ['Coffee'], Lift: 1.403268551236749\",\"['Tiffin, Sandwich'] =\\u003e ['Coffee'], Lift: 1.403268551236749\",\"['Tiffin, Cake'] =\\u003e ['Coffee'], Lift: 1.4351610183103116\",\"['Alfajores, Spanish Brunch'] =\\u003e ['Tea'], Lift: 4.942\",\"['Toast, Spanish Brunch'] =\\u003e ['Coffee'], Lift: 1.4734319787985866\",\"['Soup, Spanish Brunch'] =\\u003e ['Coffee'], Lift: 1.4734319787985866\",\"['Sandwich, Spanish Brunch'] =\\u003e ['Coffee'], Lift: 1.403268551236749\",\"['Juice, Spanish Brunch'] =\\u003e ['Coffee'], Lift: 1.5381982196248982\",\"['NONE, Spanish Brunch'] =\\u003e ['Coffee'], Lift: 1.423904853460819\",\"['Pastry, Toast'] =\\u003e ['Coffee'], Lift: 1.824249116607774\",\"['Medialuna, Toast'] =\\u003e ['Coffee'], Lift: 1.2863295053003534\",\"['Juice, Toast'] =\\u003e ['Coffee'], Lift: 1.4351610183103116\",\"['Cake, Toast'] =\\u003e ['Coffee'], Lift: 1.5035020191822313\",\"['NONE, Toast'] =\\u003e ['Coffee'], Lift: 1.578677120141343\",\"['NONE, Toast'] =\\u003e ['Coffee'], Lift: 1.578677120141343\",\"['Toast'] =\\u003e ['Coffee'], Lift: 1.4826988465897728\",\"['Toast'] =\\u003e ['Coffee'], Lift: 1.4826988465897728\",\"['Toast'] =\\u003e ['Coffee'], Lift: 1.4826988465897728\",\"['Cookies, Scone'] =\\u003e ['Coffee'], Lift: 1.661765389622466\",\"['Scone, NONE'] =\\u003e ['Coffee'], Lift: 1.7540856890459364\",\"['Scone, Juice'] =\\u003e ['Coffee'], Lift: 1.3294123116979728\",\"['Scone, Hot chocolate'] =\\u003e ['Coffee'], Lift: 1.2779767163048965\",\"['Soup, NONE'] =\\u003e ['Coffee'], Lift: 1.3155642667844525\",\"['Soup, Sandwich'] =\\u003e ['Coffee'], Lift: 1.3762826175591194\",\"['Soup, Sandwich'] =\\u003e ['Coffee'], Lift: 1.3762826175591194\",\"['Soup, Cake, Sandwich'] =\\u003e ['Coffee'], Lift: 1.7221932219723741\",\"['Juice, Pastry'] =\\u003e ['Coffee'], Lift: 1.6265158207516865\",\"['Cookies, Juice, Cake'] =\\u003e ['Coffee'], Lift: 1.4734319787985866\",\"['Cookies, Juice'] =\\u003e ['Coffee'], Lift: 1.2701999817229195\",\"['Cookies, Juice'] =\\u003e ['Coffee'], Lift: 1.2701999817229195\",\"['Juice, NONE'] =\\u003e ['Coffee'], Lift: 1.391376444870336\",\"['Juice, NONE'] =\\u003e ['Coffee'], Lift: 1.391376444870336\",\"['Juice, Cake, Sandwich'] =\\u003e ['Coffee'], Lift: 1.3155642667844525\",\"['NONE, Alfajores'] =\\u003e ['Coffee'], Lift: 1.2863295053003534\",\"['NONE, Alfajores'] =\\u003e ['Coffee'], Lift: 1.2863295053003534\",\"['Cookies, Sandwich, Alfajores'] =\\u003e ['Coffee'], Lift: 1.5786771201413428\",\"['Cookies, Alfajores'] =\\u003e ['Coffee'], Lift: 1.3727627131663849\",\"['Pastry, Bread, Alfajores'] =\\u003e ['Coffee'], Lift: 1.5035020191822313\",\"['Muffin, Sandwich'] =\\u003e ['Coffee'], Lift: 1.3681868374558304\",\"['Muffin, NONE'] =\\u003e ['Coffee'], Lift: 1.3030350832912672\",\"['Muffin, Cake, Tea'] =\\u003e ['Coffee'], Lift: 1.403268551236749\",\"['NONE, Brownie'] =\\u003e ['Coffee'], Lift: 1.2812451989552927\",\"['Cookies, Brownie'] =\\u003e ['Coffee'], Lift: 1.315564266784452\",\"['Cookies, Brownie'] =\\u003e ['Coffee'], Lift: 1.315564266784452\",\"['Sandwich, Brownie'] =\\u003e ['Coffee'], Lift: 1.3394836170896243\",\"['Cookies, Hot chocolate'] =\\u003e ['Coffee'], Lift: 1.2924841919285848\",\"['Cookies, Medialuna'] =\\u003e ['Coffee'], Lift: 1.403268551236749\",\"['Cookies, Medialuna'] =\\u003e ['Coffee'], Lift: 1.403268551236749\",\"['Cookies, Pastry'] =\\u003e ['Coffee'], Lift: 1.2779767163048965\",\"['Cookies, Pastry'] =\\u003e ['Coffee'], Lift: 1.2779767163048965\",\"['Cookies, NONE'] =\\u003e ['Coffee'], Lift: 1.5591872791519437\",\"['Cookies, NONE'] =\\u003e ['Coffee'], Lift: 1.5591872791519437\",\"['Cookies, Sandwich, Hot chocolate'] =\\u003e ['Coffee'], Lift: 1.8042024230186773\",\"['Cookies, Tea, Sandwich'] =\\u003e ['Coffee'], Lift: 1.5786771201413428\",\"['Cookies, Hot chocolate'] =\\u003e ['Coffee'], Lift: 1.2924841919285848\",\"['Cookies, Hot chocolate'] =\\u003e ['Coffee'], Lift: 1.2924841919285848\",\"['Cookies, Hot chocolate'] =\\u003e ['Coffee'], Lift: 1.2924841919285848\",\"['NONE, Hot chocolate, Medialuna'] =\\u003e ['Coffee'], Lift: 1.913548024413749\",\"['Hot chocolate, Medialuna'] =\\u003e ['Coffee'], Lift: 1.3564929328621906\",\"['Hot chocolate, Medialuna'] =\\u003e ['Coffee'], Lift: 1.3564929328621906\",\"['Pastry, Bread, Hot chocolate'] =\\u003e ['Coffee'], Lift: 1.4032685512367493\",\"['Pastry, Hot chocolate'] =\\u003e ['Coffee'], Lift: 1.403268551236749\",\"['Pastry, Hot chocolate'] =\\u003e ['Coffee'], Lift: 1.403268551236749\",\"['NONE, Hot chocolate'] =\\u003e ['Coffee'], Lift: 1.3064914097721458\",\"['Cake, Hot chocolate'] =\\u003e ['Coffee'], Lift: 1.266839664310954\",\"['Cake, Hot chocolate'] =\\u003e ['Coffee'], Lift: 1.266839664310954\",\"['Medialuna, Sandwich'] =\\u003e ['Coffee'], Lift: 1.3681868374558304\",\"['Cake, Medialuna, Tea'] =\\u003e ['Coffee'], Lift: 1.403268551236749\",\"['Cake, Medialuna'] =\\u003e ['Coffee'], Lift: 1.4433619384149419\",\"['Cake, Medialuna'] =\\u003e ['Coffee'], Lift: 1.4433619384149419\",\"['NONE, Medialuna'] =\\u003e ['Coffee'], Lift: 1.4401966710061374\",\"['Pastry, Sandwich'] =\\u003e ['Coffee'], Lift: 1.7221932219723741\",\"['Cake, Sandwich, Tea'] =\\u003e ['Coffee'], Lift: 1.5035020191822313\",\"['Cake, Sandwich'] =\\u003e ['Coffee'], Lift: 1.424857298178853\",\"['Cake, Sandwich'] =\\u003e ['Coffee'], Lift: 1.424857298178853\",\"['Cake, Sandwich'] =\\u003e ['Coffee'], Lift: 1.424857298178853\",\"['Cake, Sandwich'] =\\u003e ['Coffee'], Lift: 1.424857298178853\",\"['Pastry, NONE'] =\\u003e ['Coffee'], Lift: 1.3394836170896243\",\"['Pastry, NONE'] =\\u003e ['Coffee'], Lift: 1.3394836170896243\",\"['NONE, Cake'] =\\u003e ['Coffee'], Lift: 1.403268551236749\",\"['NONE, Cake'] =\\u003e ['Coffee'], Lift: 1.403268551236749\"],\"x\":[0.0009442870632672333,0.0017836533417269962,0.0009442870632672333,0.0027279404049942294,0.0027279404049942294,0.0007344454936522926,0.0014688909873045851,0.0013639702024971147,0.003252544329031581,0.003252544329031581,0.0012590494176896443,0.0030427027594166402,0.0030427027594166402,0.0010492078480747037,0.0009442870632672333,0.001154128632882174,0.0053509600251809885,0.0010492078480747037,0.0008393662784597629,0.0010492078480747037,0.0015738117721120553,0.006505088658063162,0.006505088658063162,0.0012590494176896443,0.0013639702024971147,0.0009442870632672333,0.0006295247088448222,0.0006295247088448222,0.0015738117721120553,0.0007344454936522926,0.0007344454936522926,0.0007344454936522926,0.0012590494176896443,0.001993494911341937,0.002413178050571818,0.0013639702024971147,0.001154128632882174,0.0015738117721120553,0.0015738117721120553,0.0028328611898017,0.0028328611898017,0.023502255796873362,0.023502255796873362,0.023502255796873362,0.0015738117721120553,0.0015738117721120553,0.0012590494176896443,0.0017836533417269962,0.0010492078480747037,0.0035673066834539923,0.0035673066834539923,0.0009442870632672333,0.0017836533417269962,0.0007344454936522926,0.0036722274682614627,0.0036722274682614627,0.004091910607491344,0.004091910607491344,0.0005246039240373518,0.001154128632882174,0.001154128632882174,0.0003147623544224111,0.0015738117721120553,0.0005246039240373518,0.0013639702024971147,0.0013639702024971147,0.0008393662784597629,0.0014688909873045851,0.0015738117721120553,0.0015738117721120553,0.0014688909873045851,0.0036722274682614627,0.0016787325569195257,0.0016787325569195257,0.0017836533417269962,0.0017836533417269962,0.0020984156961494074,0.0020984156961494074,0.0006295247088448222,0.0006295247088448222,0.0036722274682614627,0.0036722274682614627,0.0036722274682614627,0.0010492078480747037,0.0030427027594166402,0.0030427027594166402,0.0010492078480747037,0.003777148253068933,0.003777148253068933,0.003777148253068933,0.006819851012485573,0.006819851012485573,0.0013639702024971147,0.0008393662784597629,0.0025180988353792886,0.0025180988353792886,0.0027279404049942294,0.0009442870632672333,0.0010492078480747037,0.004616514531528696,0.004616514531528696,0.004616514531528696,0.004616514531528696,0.0029377819746091703,0.0029377819746091703,0.0033574651138390515,0.0033574651138390515],\"y\":[0.8181818181818182,0.6071428571428571,0.8181818181818182,0.6842105263157895,0.6842105263157895,0.7,0.875,0.7647058823529411,0.8157894736842105,0.8157894736842105,0.9230769230769231,0.6304347826086957,0.6041666666666666,0.8333333333333334,0.75,0.6470588235294118,0.8095238095238095,0.6666666666666666,0.6666666666666666,0.7692307692307693,0.8333333333333334,0.6262626262626263,0.6262626262626263,0.8571428571428571,0.65,0.75,0.6666666666666666,0.6666666666666666,0.6818181818181818,0.7,0.7,0.7,0.6666666666666666,0.7307692307692307,0.6764705882352942,0.8666666666666667,0.6111111111111112,0.6818181818181818,0.7142857142857143,0.75,0.75,0.7044025157232704,0.7044025157232704,0.7044025157232704,0.7894736842105263,0.8333333333333334,0.631578947368421,0.6071428571428571,0.625,0.6538461538461539,0.6538461538461539,0.8181818181818182,0.7727272727272727,0.7,0.603448275862069,0.603448275862069,0.6610169491525424,0.6610169491525424,0.625,0.6111111111111112,0.6111111111111112,0.75,0.6521739130434783,0.7142857142857143,0.65,0.6190476190476191,0.6666666666666666,0.6086956521739131,0.625,0.625,0.6363636363636364,0.6140350877192983,0.6666666666666666,0.6666666666666666,0.6071428571428571,0.6071428571428571,0.7407407407407407,0.7407407407407407,0.8571428571428571,0.75,0.6140350877192983,0.6140350877192983,0.6140350877192983,0.9090909090909091,0.6444444444444445,0.6444444444444445,0.6666666666666666,0.6666666666666666,0.6666666666666666,0.6206896551724138,0.6018518518518519,0.6018518518518519,0.65,0.6666666666666666,0.6857142857142857,0.6857142857142857,0.6842105263157895,0.8181818181818182,0.7142857142857143,0.676923076923077,0.676923076923077,0.676923076923077,0.676923076923077,0.6363636363636364,0.6363636363636364,0.6666666666666666,0.6666666666666666],\"type\":\"scatter\"}],                        {\"template\":{\"data\":{\"histogram2dcontour\":[{\"type\":\"histogram2dcontour\",\"colorbar\":{\"outlinewidth\":0,\"ticks\":\"\"},\"colorscale\":[[0.0,\"#0d0887\"],[0.1111111111111111,\"#46039f\"],[0.2222222222222222,\"#7201a8\"],[0.3333333333333333,\"#9c179e\"],[0.4444444444444444,\"#bd3786\"],[0.5555555555555556,\"#d8576b\"],[0.6666666666666666,\"#ed7953\"],[0.7777777777777778,\"#fb9f3a\"],[0.8888888888888888,\"#fdca26\"],[1.0,\"#f0f921\"]]}],\"choropleth\":[{\"type\":\"choropleth\",\"colorbar\":{\"outlinewidth\":0,\"ticks\":\"\"}}],\"histogram2d\":[{\"type\":\"histogram2d\",\"colorbar\":{\"outlinewidth\":0,\"ticks\":\"\"},\"colorscale\":[[0.0,\"#0d0887\"],[0.1111111111111111,\"#46039f\"],[0.2222222222222222,\"#7201a8\"],[0.3333333333333333,\"#9c179e\"],[0.4444444444444444,\"#bd3786\"],[0.5555555555555556,\"#d8576b\"],[0.6666666666666666,\"#ed7953\"],[0.7777777777777778,\"#fb9f3a\"],[0.8888888888888888,\"#fdca26\"],[1.0,\"#f0f921\"]]}],\"heatmap\":[{\"type\":\"heatmap\",\"colorbar\":{\"outlinewidth\":0,\"ticks\":\"\"},\"colorscale\":[[0.0,\"#0d0887\"],[0.1111111111111111,\"#46039f\"],[0.2222222222222222,\"#7201a8\"],[0.3333333333333333,\"#9c179e\"],[0.4444444444444444,\"#bd3786\"],[0.5555555555555556,\"#d8576b\"],[0.6666666666666666,\"#ed7953\"],[0.7777777777777778,\"#fb9f3a\"],[0.8888888888888888,\"#fdca26\"],[1.0,\"#f0f921\"]]}],\"heatmapgl\":[{\"type\":\"heatmapgl\",\"colorbar\":{\"outlinewidth\":0,\"ticks\":\"\"},\"colorscale\":[[0.0,\"#0d0887\"],[0.1111111111111111,\"#46039f\"],[0.2222222222222222,\"#7201a8\"],[0.3333333333333333,\"#9c179e\"],[0.4444444444444444,\"#bd3786\"],[0.5555555555555556,\"#d8576b\"],[0.6666666666666666,\"#ed7953\"],[0.7777777777777778,\"#fb9f3a\"],[0.8888888888888888,\"#fdca26\"],[1.0,\"#f0f921\"]]}],\"contourcarpet\":[{\"type\":\"contourcarpet\",\"colorbar\":{\"outlinewidth\":0,\"ticks\":\"\"}}],\"contour\":[{\"type\":\"contour\",\"colorbar\":{\"outlinewidth\":0,\"ticks\":\"\"},\"colorscale\":[[0.0,\"#0d0887\"],[0.1111111111111111,\"#46039f\"],[0.2222222222222222,\"#7201a8\"],[0.3333333333333333,\"#9c179e\"],[0.4444444444444444,\"#bd3786\"],[0.5555555555555556,\"#d8576b\"],[0.6666666666666666,\"#ed7953\"],[0.7777777777777778,\"#fb9f3a\"],[0.8888888888888888,\"#fdca26\"],[1.0,\"#f0f921\"]]}],\"surface\":[{\"type\":\"surface\",\"colorbar\":{\"outlinewidth\":0,\"ticks\":\"\"},\"colorscale\":[[0.0,\"#0d0887\"],[0.1111111111111111,\"#46039f\"],[0.2222222222222222,\"#7201a8\"],[0.3333333333333333,\"#9c179e\"],[0.4444444444444444,\"#bd3786\"],[0.5555555555555556,\"#d8576b\"],[0.6666666666666666,\"#ed7953\"],[0.7777777777777778,\"#fb9f3a\"],[0.8888888888888888,\"#fdca26\"],[1.0,\"#f0f921\"]]}],\"mesh3d\":[{\"type\":\"mesh3d\",\"colorbar\":{\"outlinewidth\":0,\"ticks\":\"\"}}],\"scatter\":[{\"fillpattern\":{\"fillmode\":\"overlay\",\"size\":10,\"solidity\":0.2},\"type\":\"scatter\"}],\"parcoords\":[{\"type\":\"parcoords\",\"line\":{\"colorbar\":{\"outlinewidth\":0,\"ticks\":\"\"}}}],\"scatterpolargl\":[{\"type\":\"scatterpolargl\",\"marker\":{\"colorbar\":{\"outlinewidth\":0,\"ticks\":\"\"}}}],\"bar\":[{\"error_x\":{\"color\":\"#2a3f5f\"},\"error_y\":{\"color\":\"#2a3f5f\"},\"marker\":{\"line\":{\"color\":\"#E5ECF6\",\"width\":0.5},\"pattern\":{\"fillmode\":\"overlay\",\"size\":10,\"solidity\":0.2}},\"type\":\"bar\"}],\"scattergeo\":[{\"type\":\"scattergeo\",\"marker\":{\"colorbar\":{\"outlinewidth\":0,\"ticks\":\"\"}}}],\"scatterpolar\":[{\"type\":\"scatterpolar\",\"marker\":{\"colorbar\":{\"outlinewidth\":0,\"ticks\":\"\"}}}],\"histogram\":[{\"marker\":{\"pattern\":{\"fillmode\":\"overlay\",\"size\":10,\"solidity\":0.2}},\"type\":\"histogram\"}],\"scattergl\":[{\"type\":\"scattergl\",\"marker\":{\"colorbar\":{\"outlinewidth\":0,\"ticks\":\"\"}}}],\"scatter3d\":[{\"type\":\"scatter3d\",\"line\":{\"colorbar\":{\"outlinewidth\":0,\"ticks\":\"\"}},\"marker\":{\"colorbar\":{\"outlinewidth\":0,\"ticks\":\"\"}}}],\"scattermapbox\":[{\"type\":\"scattermapbox\",\"marker\":{\"colorbar\":{\"outlinewidth\":0,\"ticks\":\"\"}}}],\"scatterternary\":[{\"type\":\"scatterternary\",\"marker\":{\"colorbar\":{\"outlinewidth\":0,\"ticks\":\"\"}}}],\"scattercarpet\":[{\"type\":\"scattercarpet\",\"marker\":{\"colorbar\":{\"outlinewidth\":0,\"ticks\":\"\"}}}],\"carpet\":[{\"aaxis\":{\"endlinecolor\":\"#2a3f5f\",\"gridcolor\":\"white\",\"linecolor\":\"white\",\"minorgridcolor\":\"white\",\"startlinecolor\":\"#2a3f5f\"},\"baxis\":{\"endlinecolor\":\"#2a3f5f\",\"gridcolor\":\"white\",\"linecolor\":\"white\",\"minorgridcolor\":\"white\",\"startlinecolor\":\"#2a3f5f\"},\"type\":\"carpet\"}],\"table\":[{\"cells\":{\"fill\":{\"color\":\"#EBF0F8\"},\"line\":{\"color\":\"white\"}},\"header\":{\"fill\":{\"color\":\"#C8D4E3\"},\"line\":{\"color\":\"white\"}},\"type\":\"table\"}],\"barpolar\":[{\"marker\":{\"line\":{\"color\":\"#E5ECF6\",\"width\":0.5},\"pattern\":{\"fillmode\":\"overlay\",\"size\":10,\"solidity\":0.2}},\"type\":\"barpolar\"}],\"pie\":[{\"automargin\":true,\"type\":\"pie\"}]},\"layout\":{\"autotypenumbers\":\"strict\",\"colorway\":[\"#636efa\",\"#EF553B\",\"#00cc96\",\"#ab63fa\",\"#FFA15A\",\"#19d3f3\",\"#FF6692\",\"#B6E880\",\"#FF97FF\",\"#FECB52\"],\"font\":{\"color\":\"#2a3f5f\"},\"hovermode\":\"closest\",\"hoverlabel\":{\"align\":\"left\"},\"paper_bgcolor\":\"white\",\"plot_bgcolor\":\"#E5ECF6\",\"polar\":{\"bgcolor\":\"#E5ECF6\",\"angularaxis\":{\"gridcolor\":\"white\",\"linecolor\":\"white\",\"ticks\":\"\"},\"radialaxis\":{\"gridcolor\":\"white\",\"linecolor\":\"white\",\"ticks\":\"\"}},\"ternary\":{\"bgcolor\":\"#E5ECF6\",\"aaxis\":{\"gridcolor\":\"white\",\"linecolor\":\"white\",\"ticks\":\"\"},\"baxis\":{\"gridcolor\":\"white\",\"linecolor\":\"white\",\"ticks\":\"\"},\"caxis\":{\"gridcolor\":\"white\",\"linecolor\":\"white\",\"ticks\":\"\"}},\"coloraxis\":{\"colorbar\":{\"outlinewidth\":0,\"ticks\":\"\"}},\"colorscale\":{\"sequential\":[[0.0,\"#0d0887\"],[0.1111111111111111,\"#46039f\"],[0.2222222222222222,\"#7201a8\"],[0.3333333333333333,\"#9c179e\"],[0.4444444444444444,\"#bd3786\"],[0.5555555555555556,\"#d8576b\"],[0.6666666666666666,\"#ed7953\"],[0.7777777777777778,\"#fb9f3a\"],[0.8888888888888888,\"#fdca26\"],[1.0,\"#f0f921\"]],\"sequentialminus\":[[0.0,\"#0d0887\"],[0.1111111111111111,\"#46039f\"],[0.2222222222222222,\"#7201a8\"],[0.3333333333333333,\"#9c179e\"],[0.4444444444444444,\"#bd3786\"],[0.5555555555555556,\"#d8576b\"],[0.6666666666666666,\"#ed7953\"],[0.7777777777777778,\"#fb9f3a\"],[0.8888888888888888,\"#fdca26\"],[1.0,\"#f0f921\"]],\"diverging\":[[0,\"#8e0152\"],[0.1,\"#c51b7d\"],[0.2,\"#de77ae\"],[0.3,\"#f1b6da\"],[0.4,\"#fde0ef\"],[0.5,\"#f7f7f7\"],[0.6,\"#e6f5d0\"],[0.7,\"#b8e186\"],[0.8,\"#7fbc41\"],[0.9,\"#4d9221\"],[1,\"#276419\"]]},\"xaxis\":{\"gridcolor\":\"white\",\"linecolor\":\"white\",\"ticks\":\"\",\"title\":{\"standoff\":15},\"zerolinecolor\":\"white\",\"automargin\":true,\"zerolinewidth\":2},\"yaxis\":{\"gridcolor\":\"white\",\"linecolor\":\"white\",\"ticks\":\"\",\"title\":{\"standoff\":15},\"zerolinecolor\":\"white\",\"automargin\":true,\"zerolinewidth\":2},\"scene\":{\"xaxis\":{\"backgroundcolor\":\"#E5ECF6\",\"gridcolor\":\"white\",\"linecolor\":\"white\",\"showbackground\":true,\"ticks\":\"\",\"zerolinecolor\":\"white\",\"gridwidth\":2},\"yaxis\":{\"backgroundcolor\":\"#E5ECF6\",\"gridcolor\":\"white\",\"linecolor\":\"white\",\"showbackground\":true,\"ticks\":\"\",\"zerolinecolor\":\"white\",\"gridwidth\":2},\"zaxis\":{\"backgroundcolor\":\"#E5ECF6\",\"gridcolor\":\"white\",\"linecolor\":\"white\",\"showbackground\":true,\"ticks\":\"\",\"zerolinecolor\":\"white\",\"gridwidth\":2}},\"shapedefaults\":{\"line\":{\"color\":\"#2a3f5f\"}},\"annotationdefaults\":{\"arrowcolor\":\"#2a3f5f\",\"arrowhead\":0,\"arrowwidth\":1},\"geo\":{\"bgcolor\":\"white\",\"landcolor\":\"#E5ECF6\",\"subunitcolor\":\"white\",\"showland\":true,\"showlakes\":true,\"lakecolor\":\"white\"},\"title\":{\"x\":0.05},\"mapbox\":{\"style\":\"light\"}}},\"xaxis\":{\"title\":{\"text\":\"Support\"},\"autorange\":\"reversed\"},\"title\":{\"text\":\"Association Rules Strength Distribution\"},\"yaxis\":{\"title\":{\"text\":\"Confidence\"}}},                        {\"responsive\": true}                    ).then(function(){\n",
       "                            \n",
       "var gd = document.getElementById('69fb6796-4dd0-4618-b9df-c06cdeba7d48');\n",
       "var x = new MutationObserver(function (mutations, observer) {{\n",
       "        var display = window.getComputedStyle(gd).display;\n",
       "        if (!display || display === 'none') {{\n",
       "            console.log([gd, 'removed!']);\n",
       "            Plotly.purge(gd);\n",
       "            observer.disconnect();\n",
       "        }}\n",
       "}});\n",
       "\n",
       "// Listen for the removal of the full notebook cells\n",
       "var notebookContainer = gd.closest('#notebook-container');\n",
       "if (notebookContainer) {{\n",
       "    x.observe(notebookContainer, {childList: true});\n",
       "}}\n",
       "\n",
       "// Listen for the clearing of the current output cell\n",
       "var outputEl = gd.closest('.output');\n",
       "if (outputEl) {{\n",
       "    x.observe(outputEl, {childList: true});\n",
       "}}\n",
       "\n",
       "                        })                };                });            </script>        </div>"
      ]
     },
     "metadata": {},
     "output_type": "display_data",
     "jetTransient": {
      "display_id": null
     }
    },
    {
     "data": {
      "application/vnd.plotly.v1+json": {
       "data": [
        {
         "hoverinfo": "none",
         "line": {
          "color": "#888",
          "width": 0.5
         },
         "mode": "lines",
         "x": [
          0.00562750017374228,
          0.05030833617651389,
          null,
          -0.05411107769601718,
          0.00562750017374228,
          null,
          -0.0033278434457089676,
          0.05030833617651389,
          null,
          -0.06168328192266575,
          -0.0033278434457089676,
          null,
          -0.010221972753481315,
          0.05030833617651389,
          null,
          -0.04681978069366117,
          -0.010221972753481315,
          null,
          0.03929044179306632,
          0.05030833617651389,
          null,
          -0.03356445587907052,
          0.03929044179306632,
          null,
          -0.03356445587907052,
          0.03899888809328947,
          null,
          0.03899888809328947,
          0.05030833617651389,
          null,
          0.057544735503979025,
          0.05030833617651389,
          null,
          0.031124686779679975,
          0.057544735503979025,
          null,
          0.01601281438308396,
          0.05030833617651389,
          null,
          0.006503160814718953,
          0.01601281438308396,
          null,
          0.024132349239339063,
          0.05030833617651389,
          null,
          0.0072843307614348304,
          0.024132349239339063,
          null,
          0.0035832768619616416,
          0.05030833617651389,
          null,
          -0.0345574417063363,
          0.0035832768619616416,
          null,
          -0.0345574417063363,
          9.650751579460736E-4,
          null,
          9.650751579460736E-4,
          0.05030833617651389,
          null,
          -0.002166878386955794,
          0.05030833617651389,
          null,
          -0.032591697649570484,
          -0.002166878386955794,
          null,
          0.07303519032905655,
          0.05030833617651389,
          null,
          7.744700455416867E-4,
          0.07303519032905655,
          null,
          0.05792456769793743,
          0.05030833617651389,
          null,
          0.001621501326129227,
          0.05792456769793743,
          null,
          0.020074239779960232,
          0.05030833617651389,
          null,
          -0.049122716243039065,
          0.020074239779960232,
          null,
          0.026807923760292902,
          0.05030833617651389,
          null,
          -0.04390009613037258,
          0.026807923760292902,
          null,
          0.020772668949866995,
          0.05030833617651389,
          null,
          0.025084645550362997,
          0.020772668949866995,
          null,
          3.3000394834806874E-4,
          0.05030833617651389,
          null,
          -0.02510887986385112,
          3.3000394834806874E-4,
          null,
          0.03392299789145894,
          0.05030833617651389,
          null,
          0.061798645259103495,
          0.03392299789145894,
          null,
          0.05226676135978152,
          0.05030833617651389,
          null,
          0.0088896005259835,
          0.05226676135978152,
          null,
          0.034028834754151166,
          0.05030833617651389,
          null,
          0.05729390952558099,
          0.034028834754151166,
          null,
          0.012491571955671991,
          0.05030833617651389,
          null,
          -0.05405208256066155,
          0.012491571955671991,
          null,
          0.010019498034054414,
          0.05030833617651389,
          null,
          0.015530727063235092,
          0.010019498034054414,
          null,
          0.015530727063235092,
          0.042790486859483945,
          null,
          0.042790486859483945,
          0.05030833617651389,
          null,
          0.010303068183014566,
          0.05030833617651389,
          null,
          -0.00864337359764839,
          0.010303068183014566,
          null,
          0.024119982010604675,
          0.05030833617651389,
          null,
          -0.012813562268908622,
          0.024119982010604675,
          null,
          -2.825034812559032E-4,
          0.05030833617651389,
          null,
          -0.02435968993147185,
          -2.825034812559032E-4,
          null,
          0.04073530055299351,
          0.05030833617651389,
          null,
          0.055965753547480825,
          0.04073530055299351,
          null,
          0.055965753547480825,
          0.0418334605637445,
          null,
          0.0418334605637445,
          0.05030833617651389,
          null,
          0.028817336264293263,
          0.05030833617651389,
          null,
          0.007505767657402562,
          0.028817336264293263,
          null,
          -0.4085528207033525,
          -0.4215212669988967,
          null,
          -0.3901264005896203,
          -0.4085528207033525,
          null,
          0.06792203159070012,
          0.05030833617651389,
          null,
          0.07376882455797222,
          0.06792203159070012,
          null,
          -5.879572003132465E-4,
          0.05030833617651389,
          null,
          -0.04733690773323538,
          -5.879572003132465E-4,
          null,
          0.005016788709427578,
          0.05030833617651389,
          null,
          -0.0021572333098341147,
          0.005016788709427578,
          null,
          0.017760719512210334,
          0.05030833617651389,
          null,
          0.035747803965273876,
          0.017760719512210334,
          null,
          -0.010991222206773742,
          0.05030833617651389,
          null,
          -0.06191927580166523,
          -0.010991222206773742,
          null,
          0.014436101978296421,
          0.05030833617651389,
          null,
          -0.025250171660822707,
          0.014436101978296421,
          null,
          0.014640398122617401,
          0.05030833617651389,
          null,
          -0.04543999770962561,
          0.014640398122617401,
          null,
          0.02675661845287795,
          0.05030833617651389,
          null,
          -0.03075552880828754,
          0.02675661845287795,
          null,
          -0.012698827834954553,
          0.05030833617651389,
          null,
          -0.041055840789002145,
          -0.012698827834954553,
          null,
          0.012880399897846981,
          0.05030833617651389,
          null,
          0.003909122019787786,
          0.012880399897846981,
          null,
          0.003909122019787786,
          0.045233608653945746,
          null,
          0.045233608653945746,
          0.05030833617651389,
          null,
          0.01150924155804188,
          0.05030833617651389,
          null,
          -0.016511076244597498,
          0.01150924155804188,
          null,
          -0.016511076244597498,
          0.03367474866035725,
          null,
          -0.016511076244597498,
          0.025072670726927006,
          null,
          0.03367474866035725,
          0.05030833617651389,
          null,
          0.025072670726927006,
          0.05030833617651389,
          null,
          0.01192708613152121,
          0.05030833617651389,
          null,
          -0.00516037347881534,
          0.01192708613152121,
          null,
          -0.01648177670598771,
          0.05030833617651389,
          null,
          -0.052201840844637686,
          -0.01648177670598771,
          null,
          -0.002762521664466479,
          0.05030833617651389,
          null,
          -0.059543990617439195,
          -0.002762521664466479,
          null,
          0.035868517907009005,
          0.05030833617651389,
          null,
          0.062351978746957026,
          0.035868517907009005,
          null,
          0.0487619559930508,
          0.05030833617651389,
          null,
          0.08706929976190249,
          0.0487619559930508,
          null,
          7.006182597512015E-4,
          0.05030833617651389,
          null,
          -0.0514341483351826,
          7.006182597512015E-4,
          null,
          -0.0514341483351826,
          0.0066664942559496775,
          null,
          0.0066664942559496775,
          0.05030833617651389,
          null,
          0.020753279549362152,
          0.05030833617651389,
          null,
          -0.0325915119057886,
          0.020753279549362152,
          null,
          -0.0190462710960042,
          0.05030833617651389,
          null,
          -0.06479236132249779,
          -0.0190462710960042,
          null,
          -0.021657744401104833,
          0.05030833617651389,
          null,
          -0.06104474722962373,
          -0.021657744401104833,
          null,
          0.06326287153854697,
          0.05030833617651389,
          null,
          0.058820229488296225,
          0.06326287153854697,
          null,
          0.058820229488296225,
          0.05020009158145453,
          null,
          0.05020009158145453,
          0.05030833617651389,
          null,
          -0.010088870944645233,
          0.05030833617651389,
          null,
          -0.036521267977887094,
          -0.010088870944645233,
          null,
          -0.036521267977887094,
          0.010595047052748947,
          null,
          0.010595047052748947,
          0.05030833617651389,
          null,
          8.257777205888525E-4,
          0.05030833617651389,
          null,
          -0.04576523039083322,
          8.257777205888525E-4,
          null,
          0.07211659748187688,
          0.05030833617651389,
          null,
          0.050167451052513225,
          0.07211659748187688,
          null,
          0.050167451052513225,
          0.004845834011209075,
          null,
          0.004845834011209075,
          0.05030833617651389,
          null,
          0.036621839085966286,
          0.05030833617651389,
          null,
          0.057260010560305115,
          0.036621839085966286,
          null,
          0.07099879274050644,
          0.05030833617651389,
          null,
          0.08278139639884267,
          0.07099879274050644,
          null,
          0.005685215056013124,
          0.05030833617651389,
          null,
          0.02392210583988968,
          0.005685215056013124,
          null,
          0.00822064271778035,
          0.05030833617651389,
          null,
          -0.05448873686678007,
          0.00822064271778035,
          null,
          -0.02797188352602542,
          0.05030833617651389,
          null,
          -0.06500289246574781,
          -0.02797188352602542,
          null,
          0.06598540923389036,
          0.05030833617651389,
          null,
          0.030071051468289072,
          0.06598540923389036,
          null,
          0.005787365818718951,
          0.05030833617651389,
          null,
          -0.02133322719283932,
          0.005787365818718951,
          null,
          0.01577346920066181,
          0.05030833617651389,
          null,
          -0.026834043551465438,
          0.01577346920066181,
          null,
          -0.026834043551465438,
          0.020246283300000043,
          null,
          0.020246283300000043,
          0.05030833617651389,
          null,
          0.06813027563334322,
          0.05030833617651389,
          null,
          0.022802954826887527,
          0.06813027563334322,
          null,
          -0.026674288236710048,
          0.05030833617651389,
          null,
          -0.021110629509978617,
          -0.026674288236710048,
          null,
          -0.021110629509978617,
          0.012591319437900683,
          null,
          -0.021110629509978617,
          -0.005547023302548985,
          null,
          -0.021110629509978617,
          0.01727488402489894,
          null,
          0.06238624160369464,
          0.05030833617651389,
          null,
          0.004039500165677159,
          0.06238624160369464,
          null,
          0.004039500165677159,
          0.038598342325332144,
          null,
          0.038598342325332144,
          0.05030833617651389,
          null,
          0.0193815201679403,
          0.05030833617651389,
          null,
          0.015004174177327172,
          0.0193815201679403,
          null,
          0.015004174177327172,
          0.029444304089524947,
          null,
          0.029444304089524947,
          0.05030833617651389,
          null,
          0.03379494697470857,
          0.05030833617651389,
          null,
          -0.0020032958450167874,
          0.03379494697470857,
          null,
          -0.0020032958450167874,
          -0.010036282357363082,
          null,
          -0.010036282357363082,
          0.05030833617651389,
          null,
          0.0011442967611802835,
          0.05030833617651389,
          null,
          -0.04184764066672123,
          0.0011442967611802835,
          null,
          0.04062004920328476,
          0.05030833617651389,
          null,
          0.023443717186302126,
          0.04062004920328476,
          null,
          0.012591319437900683,
          0.05030833617651389,
          null,
          -0.005547023302548985,
          0.05030833617651389,
          null,
          0.01727488402489894,
          0.05030833617651389,
          null,
          -0.013462179101630294,
          0.05030833617651389,
          null,
          -0.04393185061702191,
          -0.013462179101630294,
          null,
          0.011613389241781553,
          0.05030833617651389,
          null,
          0.02776529667226099,
          0.011613389241781553,
          null,
          0.02776529667226099,
          0.027446419954854386,
          null,
          0.027446419954854386,
          0.05030833617651389,
          null,
          0.003991392109634891,
          0.05030833617651389,
          null,
          -0.06681503817498709,
          0.003991392109634891,
          null,
          -0.017198403781895355,
          0.05030833617651389,
          null,
          -0.049667905595917196,
          -0.017198403781895355,
          null,
          -0.049667905595917196,
          0.008840307753907239,
          null,
          0.008840307753907239,
          0.05030833617651389,
          null,
          -0.006293588524905816,
          0.05030833617651389,
          null,
          -0.05742811345837555,
          -0.006293588524905816,
          null,
          -0.010768314241007547,
          0.05030833617651389,
          null,
          0.009969446604929209,
          -0.010768314241007547,
          null,
          0.009969446604929209,
          0.0470444006026669,
          null,
          0.0470444006026669,
          0.05030833617651389,
          null,
          -0.0053282992781555774,
          0.05030833617651389,
          null,
          -0.034985013841311564,
          -0.0053282992781555774,
          null,
          0.017181004104865377,
          0.05030833617651389,
          null,
          0.030696526532611217,
          0.017181004104865377,
          null,
          -0.029445769789382382,
          0.05030833617651389,
          null,
          -0.031490249185918646,
          -0.029445769789382382,
          null,
          -0.031490249185918646,
          0.027747760069877985,
          null,
          0.027747760069877985,
          0.05030833617651389,
          null,
          -0.005420387567440698,
          0.05030833617651389,
          null,
          -0.050704390704387696,
          -0.005420387567440698,
          null,
          -0.005670705053178655,
          0.05030833617651389,
          null,
          -0.06621014635441134,
          -0.005670705053178655,
          null,
          0.029519065161398735,
          0.05030833617651389,
          null,
          0.01906840735766251,
          0.029519065161398735,
          null,
          0.06507200435173731,
          0.05030833617651389,
          null,
          0.01420451756091079,
          0.06507200435173731,
          null,
          0.01420451756091079,
          -0.004509199680648197,
          null,
          0.01420451756091079,
          0.018478401836212383,
          null,
          0.01420451756091079,
          -0.013548595764760044,
          null,
          -0.004509199680648197,
          0.05030833617651389,
          null,
          0.018478401836212383,
          0.05030833617651389,
          null,
          -0.013548595764760044,
          0.05030833617651389,
          null,
          0.03593942621801697,
          0.05030833617651389,
          null,
          -0.008990143727496595,
          0.03593942621801697,
          null,
          -0.008990143727496595,
          -0.0022877901684049493,
          null,
          -0.0022877901684049493,
          0.05030833617651389,
          null,
          0.021104443311565513,
          0.05030833617651389,
          null,
          0.00823256457764825,
          0.021104443311565513,
          null,
          0.00823256457764825,
          0.0630289467543236,
          null,
          0.0630289467543236,
          0.05030833617651389,
          null
         ],
         "y": [
          0.052474552427551995,
          0.053418852382209066,
          null,
          0.024325084567398663,
          0.052474552427551995,
          null,
          0.04686603763839962,
          0.053418852382209066,
          null,
          0.018553870375053103,
          0.04686603763839962,
          null,
          0.0021101234801655733,
          0.053418852382209066,
          null,
          -0.02845571401667837,
          0.0021101234801655733,
          null,
          0.06794912721808144,
          0.053418852382209066,
          null,
          0.01131733604673451,
          0.06794912721808144,
          null,
          0.01131733604673451,
          0.07454105641737149,
          null,
          0.07454105641737149,
          0.053418852382209066,
          null,
          0.013386613611923361,
          0.053418852382209066,
          null,
          -0.044072262084810666,
          0.013386613611923361,
          null,
          0.006368983544796246,
          0.053418852382209066,
          null,
          -0.04063436711329698,
          0.006368983544796246,
          null,
          0.009391451286260146,
          0.053418852382209066,
          null,
          -0.03708501293211051,
          0.009391451286260146,
          null,
          0.043757472718698516,
          0.053418852382209066,
          null,
          0.04515882958841068,
          0.043757472718698516,
          null,
          0.04515882958841068,
          0.05387829039311199,
          null,
          0.05387829039311199,
          0.053418852382209066,
          null,
          0.009987071129004533,
          0.053418852382209066,
          null,
          -0.022687503312520813,
          0.009987071129004533,
          null,
          0.054995713141787,
          0.053418852382209066,
          null,
          -0.019994246176502844,
          0.054995713141787,
          null,
          0.03157728623670262,
          0.053418852382209066,
          null,
          -0.030912607311231237,
          0.03157728623670262,
          null,
          0.06834762723344233,
          0.053418852382209066,
          null,
          0.02920341605904069,
          0.06834762723344233,
          null,
          0.06858775305176061,
          0.053418852382209066,
          null,
          0.0260717283452995,
          0.06858775305176061,
          null,
          0.002785877561909854,
          0.053418852382209066,
          null,
          -0.044852017744551095,
          0.002785877561909854,
          null,
          0.0010098853160993894,
          0.053418852382209066,
          null,
          -0.03539881416808035,
          0.0010098853160993894,
          null,
          0.0229750677862225,
          0.053418852382209066,
          null,
          -0.002976504589810117,
          0.0229750677862225,
          null,
          0.07803028494795379,
          0.053418852382209066,
          null,
          0.08448430406980603,
          0.07803028494795379,
          null,
          0.01144386714065196,
          0.053418852382209066,
          null,
          -0.019327036408913884,
          0.01144386714065196,
          null,
          0.0709061547508279,
          0.053418852382209066,
          null,
          0.03117377177792494,
          0.0709061547508279,
          null,
          0.013236851730189682,
          0.053418852382209066,
          null,
          -0.020439642561301423,
          0.013236851730189682,
          null,
          -0.020439642561301423,
          0.017453042833527544,
          null,
          0.017453042833527544,
          0.053418852382209066,
          null,
          -0.0037479755243845594,
          0.053418852382209066,
          null,
          -0.04838738109181324,
          -0.0037479755243845594,
          null,
          0.05790076824550166,
          0.053418852382209066,
          null,
          0.07720286954001465,
          0.05790076824550166,
          null,
          -0.004862350813206854,
          0.053418852382209066,
          null,
          -0.0483655732806038,
          -0.004862350813206854,
          null,
          0.04103452978231834,
          0.053418852382209066,
          null,
          0.036561814705896936,
          0.04103452978231834,
          null,
          0.036561814705896936,
          0.024244472376263138,
          null,
          0.024244472376263138,
          0.053418852382209066,
          null,
          0.02719128490962585,
          0.053418852382209066,
          null,
          -0.017072776149932217,
          0.02719128490962585,
          null,
          -0.9670528063131602,
          -1.0,
          null,
          -0.9157047928032863,
          -0.9670528063131602,
          null,
          0.02349005637009835,
          0.053418852382209066,
          null,
          -0.017691767613778577,
          0.02349005637009835,
          null,
          0.0225386407393073,
          0.053418852382209066,
          null,
          5.456655576148848E-4,
          0.0225386407393073,
          null,
          -9.609176637488554E-4,
          0.053418852382209066,
          null,
          -0.040955898353759866,
          -9.609176637488554E-4,
          null,
          0.01763606138181677,
          0.053418852382209066,
          null,
          -0.018083749267228662,
          0.01763606138181677,
          null,
          0.016824053297675407,
          0.053418852382209066,
          null,
          -0.015243366434898766,
          0.016824053297675407,
          null,
          0.020671795306923375,
          0.053418852382209066,
          null,
          0.007607932118187876,
          0.020671795306923375,
          null,
          0.06408161281030178,
          0.053418852382209066,
          null,
          0.04643319511319725,
          0.06408161281030178,
          null,
          0.033212191793842806,
          0.053418852382209066,
          null,
          0.006632129190033403,
          0.033212191793842806,
          null,
          -0.010969830275448065,
          0.053418852382209066,
          null,
          -0.05038041988222844,
          -0.010969830275448065,
          null,
          0.0460922294438084,
          0.053418852382209066,
          null,
          -0.006119489060777082,
          0.0460922294438084,
          null,
          -0.006119489060777082,
          0.0060917067588183394,
          null,
          0.0060917067588183394,
          0.053418852382209066,
          null,
          0.056997926209139856,
          0.053418852382209066,
          null,
          0.021463765403116213,
          0.056997926209139856,
          null,
          0.021463765403116213,
          0.07765408894487222,
          null,
          0.021463765403116213,
          -0.003884961519773653,
          null,
          0.07765408894487222,
          0.053418852382209066,
          null,
          -0.003884961519773653,
          0.053418852382209066,
          null,
          0.024205130226718632,
          0.053418852382209066,
          null,
          -0.014993200168075928,
          0.024205130226718632,
          null,
          -0.008202918315614623,
          0.053418852382209066,
          null,
          -0.04462704274597469,
          -0.008202918315614623,
          null,
          0.0349573974785407,
          0.053418852382209066,
          null,
          8.492951391503358E-4,
          0.0349573974785407,
          null,
          0.01606010014734657,
          0.053418852382209066,
          null,
          -0.011949187281715184,
          0.01606010014734657,
          null,
          0.02593215486996526,
          0.053418852382209066,
          null,
          0.02711728147826573,
          0.02593215486996526,
          null,
          0.04871891055534681,
          0.053418852382209066,
          null,
          0.005497234490134361,
          0.04871891055534681,
          null,
          0.005497234490134361,
          0.03986636897169783,
          null,
          0.03986636897169783,
          0.053418852382209066,
          null,
          0.04141043854373998,
          0.053418852382209066,
          null,
          0.030141546184679853,
          0.04141043854373998,
          null,
          0.002154949645042415,
          0.053418852382209066,
          null,
          -0.02949130572861665,
          0.002154949645042415,
          null,
          -0.006173395484715052,
          0.053418852382209066,
          null,
          -0.0382026156737809,
          -0.006173395484715052,
          null,
          0.05819126066962243,
          0.053418852382209066,
          null,
          0.02489634038306909,
          0.05819126066962243,
          null,
          0.02489634038306909,
          0.017820099395317552,
          null,
          0.017820099395317552,
          0.053418852382209066,
          null,
          0.025834665818033856,
          0.053418852382209066,
          null,
          0.016495810087939718,
          0.025834665818033856,
          null,
          0.016495810087939718,
          0.03659813447972463,
          null,
          0.03659813447972463,
          0.053418852382209066,
          null,
          0.030473992423626257,
          0.053418852382209066,
          null,
          -0.002342246506184846,
          0.030473992423626257,
          null,
          0.03850960668388951,
          0.053418852382209066,
          null,
          0.012915724516640744,
          0.03850960668388951,
          null,
          0.012915724516640744,
          0.01293015563119311,
          null,
          0.01293015563119311,
          0.053418852382209066,
          null,
          0.006476967549784615,
          0.053418852382209066,
          null,
          -0.0276792956737025,
          0.006476967549784615,
          null,
          0.04608775169052259,
          0.053418852382209066,
          null,
          0.011928590280711922,
          0.04608775169052259,
          null,
          0.028001769023166798,
          0.053418852382209066,
          null,
          0.03968757040968456,
          0.028001769023166798,
          null,
          0.04793707193277932,
          0.053418852382209066,
          null,
          0.032480252025503996,
          0.04793707193277932,
          null,
          -0.019062651820984076,
          0.053418852382209066,
          null,
          -0.054574581282479856,
          -0.019062651820984076,
          null,
          0.031891910911663636,
          0.053418852382209066,
          null,
          -0.027202423855860938,
          0.031891910911663636,
          null,
          0.00750197588136131,
          0.053418852382209066,
          null,
          -0.036752077160077515,
          0.00750197588136131,
          null,
          0.040663351021845005,
          0.053418852382209066,
          null,
          0.034252019093740135,
          0.040663351021845005,
          null,
          0.034252019093740135,
          0.06202805298069005,
          null,
          0.06202805298069005,
          0.053418852382209066,
          null,
          0.0674454921186791,
          0.053418852382209066,
          null,
          0.0011823790788953554,
          0.0674454921186791,
          null,
          -0.012389372448895965,
          0.053418852382209066,
          null,
          0.026929000286496307,
          -0.012389372448895965,
          null,
          0.026929000286496307,
          0.02840999225925495,
          null,
          0.026929000286496307,
          0.026338310950255673,
          null,
          0.026929000286496307,
          0.07312882276340299,
          null,
          0.07543776901693193,
          0.053418852382209066,
          null,
          0.020448890207979704,
          0.07543776901693193,
          null,
          0.020448890207979704,
          0.031163007055787322,
          null,
          0.031163007055787322,
          0.053418852382209066,
          null,
          0.012787902236421254,
          0.053418852382209066,
          null,
          0.03395153813183375,
          0.012787902236421254,
          null,
          0.03395153813183375,
          0.057305109612999935,
          null,
          0.057305109612999935,
          0.053418852382209066,
          null,
          3.237206195594889E-4,
          0.053418852382209066,
          null,
          0.003464622232809451,
          3.237206195594889E-4,
          null,
          0.003464622232809451,
          0.035711181072404105,
          null,
          0.035711181072404105,
          0.053418852382209066,
          null,
          0.01611249694559677,
          0.053418852382209066,
          null,
          -0.016217957601707255,
          0.01611249694559677,
          null,
          0.0027029378691100754,
          0.053418852382209066,
          null,
          -0.04410503963885704,
          0.0027029378691100754,
          null,
          0.02840999225925495,
          0.053418852382209066,
          null,
          0.026338310950255673,
          0.053418852382209066,
          null,
          0.07312882276340299,
          0.053418852382209066,
          null,
          -0.005644456779034682,
          0.053418852382209066,
          null,
          -0.03891724745547844,
          -0.005644456779034682,
          null,
          0.005252196867892704,
          0.053418852382209066,
          null,
          0.018722785755268367,
          0.005252196867892704,
          null,
          0.018722785755268367,
          0.04310397103445273,
          null,
          0.04310397103445273,
          0.053418852382209066,
          null,
          0.060134184593098626,
          0.053418852382209066,
          null,
          0.02079934734866253,
          0.060134184593098626,
          null,
          -0.0018887308686052241,
          0.053418852382209066,
          null,
          0.01272886071846686,
          -0.0018887308686052241,
          null,
          0.01272886071846686,
          0.06602832611486228,
          null,
          0.06602832611486228,
          0.053418852382209066,
          null,
          0.03217362368478399,
          0.053418852382209066,
          null,
          0.03512178035453745,
          0.03217362368478399,
          null,
          0.01087947739954873,
          0.053418852382209066,
          null,
          -0.01914183414203465,
          0.01087947739954873,
          null,
          -0.01914183414203465,
          0.013858809163493002,
          null,
          0.013858809163493002,
          0.053418852382209066,
          null,
          2.3831660815213819E-4,
          0.053418852382209066,
          null,
          -0.037319147125713464,
          2.3831660815213819E-4,
          null,
          -0.0010761964879040427,
          0.053418852382209066,
          null,
          -0.03826474487213072,
          -0.0010761964879040427,
          null,
          -0.014832452722465925,
          0.053418852382209066,
          null,
          0.024737567117137624,
          -0.014832452722465925,
          null,
          0.024737567117137624,
          0.07779379240279892,
          null,
          0.07779379240279892,
          0.053418852382209066,
          null,
          0.014633390909347005,
          0.053418852382209066,
          null,
          -0.015489860936571164,
          0.014633390909347005,
          null,
          0.04081205133234224,
          0.053418852382209066,
          null,
          0.006968585064553777,
          0.04081205133234224,
          null,
          0.004083639879096914,
          0.053418852382209066,
          null,
          -0.040835037550034925,
          0.004083639879096914,
          null,
          0.018316097365035235,
          0.053418852382209066,
          null,
          0.012115218322230037,
          0.018316097365035235,
          null,
          0.012115218322230037,
          0.021105655903476215,
          null,
          0.012115218322230037,
          0.051547341705135925,
          null,
          0.012115218322230037,
          0.006729281515186724,
          null,
          0.021105655903476215,
          0.053418852382209066,
          null,
          0.051547341705135925,
          0.053418852382209066,
          null,
          0.006729281515186724,
          0.053418852382209066,
          null,
          0.054628713182448545,
          0.053418852382209066,
          null,
          0.06415339136493066,
          0.054628713182448545,
          null,
          0.06415339136493066,
          0.056229824693712696,
          null,
          0.056229824693712696,
          0.053418852382209066,
          null,
          0.006404988078269988,
          0.053418852382209066,
          null,
          -0.03074124670785211,
          0.006404988078269988,
          null,
          -0.03074124670785211,
          0.02390160513770532,
          null,
          0.02390160513770532,
          0.053418852382209066,
          null
         ],
         "type": "scatter"
        },
        {
         "hoverinfo": "text",
         "marker": {
          "color": [],
          "colorbar": {
           "thickness": 15,
           "title": {
            "side": "right",
            "text": "Node Connections"
           },
           "xanchor": "left"
          },
          "colorscale": [
           [
            0.0,
            "rgb(255,255,217)"
           ],
           [
            0.125,
            "rgb(237,248,177)"
           ],
           [
            0.25,
            "rgb(199,233,180)"
           ],
           [
            0.375,
            "rgb(127,205,187)"
           ],
           [
            0.5,
            "rgb(65,182,196)"
           ],
           [
            0.625,
            "rgb(29,145,192)"
           ],
           [
            0.75,
            "rgb(34,94,168)"
           ],
           [
            0.875,
            "rgb(37,52,148)"
           ],
           [
            1.0,
            "rgb(8,29,88)"
           ]
          ],
          "line": {
           "width": 2
          },
          "reversescale": true,
          "showscale": true,
          "size": 10
         },
         "mode": "markers",
         "text": [
          "0",
          "Mighty Protein",
          "Coffee",
          "1",
          "Granola",
          "2",
          "NONE, Art Tray",
          "3",
          "Art Tray",
          "4",
          "5",
          "Bread, Extra Salami or Feta",
          "6",
          "Salad, Extra Salami or Feta",
          "7",
          "NONE, Extra Salami or Feta",
          "8",
          "Extra Salami or Feta",
          "9",
          "10",
          "Tartine, NONE",
          "11",
          "Tartine",
          "12",
          "Bakewell",
          "13",
          "Vegan mincepie, Cake",
          "14",
          "NONE, The Nomad",
          "15",
          "Keeping It Local, Tea",
          "16",
          "Keeping It Local",
          "17",
          "Smoothies, Cake",
          "18",
          "Salad, Spanish Brunch",
          "19",
          "Salad, Cake",
          "20",
          "Salad, Sandwich",
          "21",
          "Salad",
          "22",
          "23",
          "Sandwich, Hearty & Seasonal",
          "24",
          "Juice, Jammie Dodgers",
          "25",
          "Mineral water, Alfajores",
          "26",
          "Tiffin, Sandwich",
          "27",
          "28",
          "Tiffin, Cake",
          "29",
          "Alfajores, Spanish Brunch",
          "Tea",
          "30",
          "Toast, Spanish Brunch",
          "31",
          "Soup, Spanish Brunch",
          "32",
          "Sandwich, Spanish Brunch",
          "33",
          "Juice, Spanish Brunch",
          "34",
          "NONE, Spanish Brunch",
          "35",
          "Pastry, Toast",
          "36",
          "Medialuna, Toast",
          "37",
          "Juice, Toast",
          "38",
          "Cake, Toast",
          "39",
          "NONE, Toast",
          "40",
          "41",
          "Toast",
          "42",
          "43",
          "44",
          "Cookies, Scone",
          "45",
          "Scone, NONE",
          "46",
          "Scone, Juice",
          "47",
          "Scone, Hot chocolate",
          "48",
          "Soup, NONE",
          "49",
          "Soup, Sandwich",
          "50",
          "51",
          "Soup, Cake, Sandwich",
          "52",
          "Juice, Pastry",
          "53",
          "Cookies, Juice, Cake",
          "54",
          "Cookies, Juice",
          "55",
          "56",
          "Juice, NONE",
          "57",
          "58",
          "Juice, Cake, Sandwich",
          "59",
          "NONE, Alfajores",
          "60",
          "61",
          "Cookies, Sandwich, Alfajores",
          "62",
          "Cookies, Alfajores",
          "63",
          "Pastry, Bread, Alfajores",
          "64",
          "Muffin, Sandwich",
          "65",
          "Muffin, NONE",
          "66",
          "Muffin, Cake, Tea",
          "67",
          "NONE, Brownie",
          "68",
          "Cookies, Brownie",
          "69",
          "70",
          "Sandwich, Brownie",
          "71",
          "Cookies, Hot chocolate",
          "72",
          "Cookies, Medialuna",
          "73",
          "74",
          "Cookies, Pastry",
          "75",
          "76",
          "Cookies, NONE",
          "77",
          "78",
          "Cookies, Sandwich, Hot chocolate",
          "79",
          "Cookies, Tea, Sandwich",
          "80",
          "81",
          "82",
          "83",
          "NONE, Hot chocolate, Medialuna",
          "84",
          "Hot chocolate, Medialuna",
          "85",
          "86",
          "Pastry, Bread, Hot chocolate",
          "87",
          "Pastry, Hot chocolate",
          "88",
          "89",
          "NONE, Hot chocolate",
          "90",
          "Cake, Hot chocolate",
          "91",
          "92",
          "Medialuna, Sandwich",
          "93",
          "Cake, Medialuna, Tea",
          "94",
          "Cake, Medialuna",
          "95",
          "96",
          "NONE, Medialuna",
          "97",
          "Pastry, Sandwich",
          "98",
          "Cake, Sandwich, Tea",
          "99",
          "Cake, Sandwich",
          "100",
          "101",
          "102",
          "103",
          "Pastry, NONE",
          "104",
          "105",
          "NONE, Cake",
          "106"
         ],
         "x": [
          0.00562750017374228,
          -0.05411107769601718,
          0.05030833617651389,
          -0.0033278434457089676,
          -0.06168328192266575,
          -0.010221972753481315,
          -0.04681978069366117,
          0.03929044179306632,
          -0.03356445587907052,
          0.03899888809328947,
          0.057544735503979025,
          0.031124686779679975,
          0.01601281438308396,
          0.006503160814718953,
          0.024132349239339063,
          0.0072843307614348304,
          0.0035832768619616416,
          -0.0345574417063363,
          9.650751579460736E-4,
          -0.002166878386955794,
          -0.032591697649570484,
          0.07303519032905655,
          7.744700455416867E-4,
          0.05792456769793743,
          0.001621501326129227,
          0.020074239779960232,
          -0.049122716243039065,
          0.026807923760292902,
          -0.04390009613037258,
          0.020772668949866995,
          0.025084645550362997,
          3.3000394834806874E-4,
          -0.02510887986385112,
          0.03392299789145894,
          0.061798645259103495,
          0.05226676135978152,
          0.0088896005259835,
          0.034028834754151166,
          0.05729390952558099,
          0.012491571955671991,
          -0.05405208256066155,
          0.010019498034054414,
          0.015530727063235092,
          0.042790486859483945,
          0.010303068183014566,
          -0.00864337359764839,
          0.024119982010604675,
          -0.012813562268908622,
          -2.825034812559032E-4,
          -0.02435968993147185,
          0.04073530055299351,
          0.055965753547480825,
          0.0418334605637445,
          0.028817336264293263,
          0.007505767657402562,
          -0.4085528207033525,
          -0.3901264005896203,
          -0.4215212669988967,
          0.06792203159070012,
          0.07376882455797222,
          -5.879572003132465E-4,
          -0.04733690773323538,
          0.005016788709427578,
          -0.0021572333098341147,
          0.017760719512210334,
          0.035747803965273876,
          -0.010991222206773742,
          -0.06191927580166523,
          0.014436101978296421,
          -0.025250171660822707,
          0.014640398122617401,
          -0.04543999770962561,
          0.02675661845287795,
          -0.03075552880828754,
          -0.012698827834954553,
          -0.041055840789002145,
          0.012880399897846981,
          0.003909122019787786,
          0.045233608653945746,
          0.01150924155804188,
          -0.016511076244597498,
          0.03367474866035725,
          0.025072670726927006,
          0.01192708613152121,
          -0.00516037347881534,
          -0.01648177670598771,
          -0.052201840844637686,
          -0.002762521664466479,
          -0.059543990617439195,
          0.035868517907009005,
          0.062351978746957026,
          0.0487619559930508,
          0.08706929976190249,
          7.006182597512015E-4,
          -0.0514341483351826,
          0.0066664942559496775,
          0.020753279549362152,
          -0.0325915119057886,
          -0.0190462710960042,
          -0.06479236132249779,
          -0.021657744401104833,
          -0.06104474722962373,
          0.06326287153854697,
          0.058820229488296225,
          0.05020009158145453,
          -0.010088870944645233,
          -0.036521267977887094,
          0.010595047052748947,
          8.257777205888525E-4,
          -0.04576523039083322,
          0.07211659748187688,
          0.050167451052513225,
          0.004845834011209075,
          0.036621839085966286,
          0.057260010560305115,
          0.07099879274050644,
          0.08278139639884267,
          0.005685215056013124,
          0.02392210583988968,
          0.00822064271778035,
          -0.05448873686678007,
          -0.02797188352602542,
          -0.06500289246574781,
          0.06598540923389036,
          0.030071051468289072,
          0.005787365818718951,
          -0.02133322719283932,
          0.01577346920066181,
          -0.026834043551465438,
          0.020246283300000043,
          0.06813027563334322,
          0.022802954826887527,
          -0.026674288236710048,
          -0.021110629509978617,
          0.06238624160369464,
          0.004039500165677159,
          0.038598342325332144,
          0.0193815201679403,
          0.015004174177327172,
          0.029444304089524947,
          0.03379494697470857,
          -0.0020032958450167874,
          -0.010036282357363082,
          0.0011442967611802835,
          -0.04184764066672123,
          0.04062004920328476,
          0.023443717186302126,
          0.012591319437900683,
          -0.005547023302548985,
          0.01727488402489894,
          -0.013462179101630294,
          -0.04393185061702191,
          0.011613389241781553,
          0.02776529667226099,
          0.027446419954854386,
          0.003991392109634891,
          -0.06681503817498709,
          -0.017198403781895355,
          -0.049667905595917196,
          0.008840307753907239,
          -0.006293588524905816,
          -0.05742811345837555,
          -0.010768314241007547,
          0.009969446604929209,
          0.0470444006026669,
          -0.0053282992781555774,
          -0.034985013841311564,
          0.017181004104865377,
          0.030696526532611217,
          -0.029445769789382382,
          -0.031490249185918646,
          0.027747760069877985,
          -0.005420387567440698,
          -0.050704390704387696,
          -0.005670705053178655,
          -0.06621014635441134,
          0.029519065161398735,
          0.01906840735766251,
          0.06507200435173731,
          0.01420451756091079,
          -0.004509199680648197,
          0.018478401836212383,
          -0.013548595764760044,
          0.03593942621801697,
          -0.008990143727496595,
          -0.0022877901684049493,
          0.021104443311565513,
          0.00823256457764825,
          0.0630289467543236
         ],
         "y": [
          0.052474552427551995,
          0.024325084567398663,
          0.053418852382209066,
          0.04686603763839962,
          0.018553870375053103,
          0.0021101234801655733,
          -0.02845571401667837,
          0.06794912721808144,
          0.01131733604673451,
          0.07454105641737149,
          0.013386613611923361,
          -0.044072262084810666,
          0.006368983544796246,
          -0.04063436711329698,
          0.009391451286260146,
          -0.03708501293211051,
          0.043757472718698516,
          0.04515882958841068,
          0.05387829039311199,
          0.009987071129004533,
          -0.022687503312520813,
          0.054995713141787,
          -0.019994246176502844,
          0.03157728623670262,
          -0.030912607311231237,
          0.06834762723344233,
          0.02920341605904069,
          0.06858775305176061,
          0.0260717283452995,
          0.002785877561909854,
          -0.044852017744551095,
          0.0010098853160993894,
          -0.03539881416808035,
          0.0229750677862225,
          -0.002976504589810117,
          0.07803028494795379,
          0.08448430406980603,
          0.01144386714065196,
          -0.019327036408913884,
          0.0709061547508279,
          0.03117377177792494,
          0.013236851730189682,
          -0.020439642561301423,
          0.017453042833527544,
          -0.0037479755243845594,
          -0.04838738109181324,
          0.05790076824550166,
          0.07720286954001465,
          -0.004862350813206854,
          -0.0483655732806038,
          0.04103452978231834,
          0.036561814705896936,
          0.024244472376263138,
          0.02719128490962585,
          -0.017072776149932217,
          -0.9670528063131602,
          -0.9157047928032863,
          -1.0,
          0.02349005637009835,
          -0.017691767613778577,
          0.0225386407393073,
          5.456655576148848E-4,
          -9.609176637488554E-4,
          -0.040955898353759866,
          0.01763606138181677,
          -0.018083749267228662,
          0.016824053297675407,
          -0.015243366434898766,
          0.020671795306923375,
          0.007607932118187876,
          0.06408161281030178,
          0.04643319511319725,
          0.033212191793842806,
          0.006632129190033403,
          -0.010969830275448065,
          -0.05038041988222844,
          0.0460922294438084,
          -0.006119489060777082,
          0.0060917067588183394,
          0.056997926209139856,
          0.021463765403116213,
          0.07765408894487222,
          -0.003884961519773653,
          0.024205130226718632,
          -0.014993200168075928,
          -0.008202918315614623,
          -0.04462704274597469,
          0.0349573974785407,
          8.492951391503358E-4,
          0.01606010014734657,
          -0.011949187281715184,
          0.02593215486996526,
          0.02711728147826573,
          0.04871891055534681,
          0.005497234490134361,
          0.03986636897169783,
          0.04141043854373998,
          0.030141546184679853,
          0.002154949645042415,
          -0.02949130572861665,
          -0.006173395484715052,
          -0.0382026156737809,
          0.05819126066962243,
          0.02489634038306909,
          0.017820099395317552,
          0.025834665818033856,
          0.016495810087939718,
          0.03659813447972463,
          0.030473992423626257,
          -0.002342246506184846,
          0.03850960668388951,
          0.012915724516640744,
          0.01293015563119311,
          0.006476967549784615,
          -0.0276792956737025,
          0.04608775169052259,
          0.011928590280711922,
          0.028001769023166798,
          0.03968757040968456,
          0.04793707193277932,
          0.032480252025503996,
          -0.019062651820984076,
          -0.054574581282479856,
          0.031891910911663636,
          -0.027202423855860938,
          0.00750197588136131,
          -0.036752077160077515,
          0.040663351021845005,
          0.034252019093740135,
          0.06202805298069005,
          0.0674454921186791,
          0.0011823790788953554,
          -0.012389372448895965,
          0.026929000286496307,
          0.07543776901693193,
          0.020448890207979704,
          0.031163007055787322,
          0.012787902236421254,
          0.03395153813183375,
          0.057305109612999935,
          3.237206195594889E-4,
          0.003464622232809451,
          0.035711181072404105,
          0.01611249694559677,
          -0.016217957601707255,
          0.0027029378691100754,
          -0.04410503963885704,
          0.02840999225925495,
          0.026338310950255673,
          0.07312882276340299,
          -0.005644456779034682,
          -0.03891724745547844,
          0.005252196867892704,
          0.018722785755268367,
          0.04310397103445273,
          0.060134184593098626,
          0.02079934734866253,
          -0.0018887308686052241,
          0.01272886071846686,
          0.06602832611486228,
          0.03217362368478399,
          0.03512178035453745,
          0.01087947739954873,
          -0.01914183414203465,
          0.013858809163493002,
          2.3831660815213819E-4,
          -0.037319147125713464,
          -0.0010761964879040427,
          -0.03826474487213072,
          -0.014832452722465925,
          0.024737567117137624,
          0.07779379240279892,
          0.014633390909347005,
          -0.015489860936571164,
          0.04081205133234224,
          0.006968585064553777,
          0.004083639879096914,
          -0.040835037550034925,
          0.018316097365035235,
          0.012115218322230037,
          0.021105655903476215,
          0.051547341705135925,
          0.006729281515186724,
          0.054628713182448545,
          0.06415339136493066,
          0.056229824693712696,
          0.006404988078269988,
          -0.03074124670785211,
          0.02390160513770532
         ],
         "type": "scatter"
        }
       ],
       "layout": {
        "annotations": [
         {
          "showarrow": false,
          "text": "Python code: <a href='https://plotly.com/ipython-notebooks/network-graphs/'> https://plotly.com/ipython-notebooks/network-graphs/</a>",
          "x": 0.005,
          "xref": "paper",
          "y": -0.002,
          "yref": "paper"
         }
        ],
        "hovermode": "closest",
        "margin": {
         "b": 20,
         "l": 5,
         "r": 5,
         "t": 40
        },
        "showlegend": false,
        "title": {
         "font": {
          "size": 16
         },
         "text": "<br>Network graph made with Python"
        },
        "xaxis": {
         "showgrid": false,
         "showticklabels": false,
         "zeroline": false
        },
        "yaxis": {
         "showgrid": false,
         "showticklabels": false,
         "zeroline": false
        },
        "template": {
         "data": {
          "histogram2dcontour": [
           {
            "type": "histogram2dcontour",
            "colorbar": {
             "outlinewidth": 0,
             "ticks": ""
            },
            "colorscale": [
             [
              0.0,
              "#0d0887"
             ],
             [
              0.1111111111111111,
              "#46039f"
             ],
             [
              0.2222222222222222,
              "#7201a8"
             ],
             [
              0.3333333333333333,
              "#9c179e"
             ],
             [
              0.4444444444444444,
              "#bd3786"
             ],
             [
              0.5555555555555556,
              "#d8576b"
             ],
             [
              0.6666666666666666,
              "#ed7953"
             ],
             [
              0.7777777777777778,
              "#fb9f3a"
             ],
             [
              0.8888888888888888,
              "#fdca26"
             ],
             [
              1.0,
              "#f0f921"
             ]
            ]
           }
          ],
          "choropleth": [
           {
            "type": "choropleth",
            "colorbar": {
             "outlinewidth": 0,
             "ticks": ""
            }
           }
          ],
          "histogram2d": [
           {
            "type": "histogram2d",
            "colorbar": {
             "outlinewidth": 0,
             "ticks": ""
            },
            "colorscale": [
             [
              0.0,
              "#0d0887"
             ],
             [
              0.1111111111111111,
              "#46039f"
             ],
             [
              0.2222222222222222,
              "#7201a8"
             ],
             [
              0.3333333333333333,
              "#9c179e"
             ],
             [
              0.4444444444444444,
              "#bd3786"
             ],
             [
              0.5555555555555556,
              "#d8576b"
             ],
             [
              0.6666666666666666,
              "#ed7953"
             ],
             [
              0.7777777777777778,
              "#fb9f3a"
             ],
             [
              0.8888888888888888,
              "#fdca26"
             ],
             [
              1.0,
              "#f0f921"
             ]
            ]
           }
          ],
          "heatmap": [
           {
            "type": "heatmap",
            "colorbar": {
             "outlinewidth": 0,
             "ticks": ""
            },
            "colorscale": [
             [
              0.0,
              "#0d0887"
             ],
             [
              0.1111111111111111,
              "#46039f"
             ],
             [
              0.2222222222222222,
              "#7201a8"
             ],
             [
              0.3333333333333333,
              "#9c179e"
             ],
             [
              0.4444444444444444,
              "#bd3786"
             ],
             [
              0.5555555555555556,
              "#d8576b"
             ],
             [
              0.6666666666666666,
              "#ed7953"
             ],
             [
              0.7777777777777778,
              "#fb9f3a"
             ],
             [
              0.8888888888888888,
              "#fdca26"
             ],
             [
              1.0,
              "#f0f921"
             ]
            ]
           }
          ],
          "heatmapgl": [
           {
            "type": "heatmapgl",
            "colorbar": {
             "outlinewidth": 0,
             "ticks": ""
            },
            "colorscale": [
             [
              0.0,
              "#0d0887"
             ],
             [
              0.1111111111111111,
              "#46039f"
             ],
             [
              0.2222222222222222,
              "#7201a8"
             ],
             [
              0.3333333333333333,
              "#9c179e"
             ],
             [
              0.4444444444444444,
              "#bd3786"
             ],
             [
              0.5555555555555556,
              "#d8576b"
             ],
             [
              0.6666666666666666,
              "#ed7953"
             ],
             [
              0.7777777777777778,
              "#fb9f3a"
             ],
             [
              0.8888888888888888,
              "#fdca26"
             ],
             [
              1.0,
              "#f0f921"
             ]
            ]
           }
          ],
          "contourcarpet": [
           {
            "type": "contourcarpet",
            "colorbar": {
             "outlinewidth": 0,
             "ticks": ""
            }
           }
          ],
          "contour": [
           {
            "type": "contour",
            "colorbar": {
             "outlinewidth": 0,
             "ticks": ""
            },
            "colorscale": [
             [
              0.0,
              "#0d0887"
             ],
             [
              0.1111111111111111,
              "#46039f"
             ],
             [
              0.2222222222222222,
              "#7201a8"
             ],
             [
              0.3333333333333333,
              "#9c179e"
             ],
             [
              0.4444444444444444,
              "#bd3786"
             ],
             [
              0.5555555555555556,
              "#d8576b"
             ],
             [
              0.6666666666666666,
              "#ed7953"
             ],
             [
              0.7777777777777778,
              "#fb9f3a"
             ],
             [
              0.8888888888888888,
              "#fdca26"
             ],
             [
              1.0,
              "#f0f921"
             ]
            ]
           }
          ],
          "surface": [
           {
            "type": "surface",
            "colorbar": {
             "outlinewidth": 0,
             "ticks": ""
            },
            "colorscale": [
             [
              0.0,
              "#0d0887"
             ],
             [
              0.1111111111111111,
              "#46039f"
             ],
             [
              0.2222222222222222,
              "#7201a8"
             ],
             [
              0.3333333333333333,
              "#9c179e"
             ],
             [
              0.4444444444444444,
              "#bd3786"
             ],
             [
              0.5555555555555556,
              "#d8576b"
             ],
             [
              0.6666666666666666,
              "#ed7953"
             ],
             [
              0.7777777777777778,
              "#fb9f3a"
             ],
             [
              0.8888888888888888,
              "#fdca26"
             ],
             [
              1.0,
              "#f0f921"
             ]
            ]
           }
          ],
          "mesh3d": [
           {
            "type": "mesh3d",
            "colorbar": {
             "outlinewidth": 0,
             "ticks": ""
            }
           }
          ],
          "scatter": [
           {
            "fillpattern": {
             "fillmode": "overlay",
             "size": 10,
             "solidity": 0.2
            },
            "type": "scatter"
           }
          ],
          "parcoords": [
           {
            "type": "parcoords",
            "line": {
             "colorbar": {
              "outlinewidth": 0,
              "ticks": ""
             }
            }
           }
          ],
          "scatterpolargl": [
           {
            "type": "scatterpolargl",
            "marker": {
             "colorbar": {
              "outlinewidth": 0,
              "ticks": ""
             }
            }
           }
          ],
          "bar": [
           {
            "error_x": {
             "color": "#2a3f5f"
            },
            "error_y": {
             "color": "#2a3f5f"
            },
            "marker": {
             "line": {
              "color": "#E5ECF6",
              "width": 0.5
             },
             "pattern": {
              "fillmode": "overlay",
              "size": 10,
              "solidity": 0.2
             }
            },
            "type": "bar"
           }
          ],
          "scattergeo": [
           {
            "type": "scattergeo",
            "marker": {
             "colorbar": {
              "outlinewidth": 0,
              "ticks": ""
             }
            }
           }
          ],
          "scatterpolar": [
           {
            "type": "scatterpolar",
            "marker": {
             "colorbar": {
              "outlinewidth": 0,
              "ticks": ""
             }
            }
           }
          ],
          "histogram": [
           {
            "marker": {
             "pattern": {
              "fillmode": "overlay",
              "size": 10,
              "solidity": 0.2
             }
            },
            "type": "histogram"
           }
          ],
          "scattergl": [
           {
            "type": "scattergl",
            "marker": {
             "colorbar": {
              "outlinewidth": 0,
              "ticks": ""
             }
            }
           }
          ],
          "scatter3d": [
           {
            "type": "scatter3d",
            "line": {
             "colorbar": {
              "outlinewidth": 0,
              "ticks": ""
             }
            },
            "marker": {
             "colorbar": {
              "outlinewidth": 0,
              "ticks": ""
             }
            }
           }
          ],
          "scattermapbox": [
           {
            "type": "scattermapbox",
            "marker": {
             "colorbar": {
              "outlinewidth": 0,
              "ticks": ""
             }
            }
           }
          ],
          "scatterternary": [
           {
            "type": "scatterternary",
            "marker": {
             "colorbar": {
              "outlinewidth": 0,
              "ticks": ""
             }
            }
           }
          ],
          "scattercarpet": [
           {
            "type": "scattercarpet",
            "marker": {
             "colorbar": {
              "outlinewidth": 0,
              "ticks": ""
             }
            }
           }
          ],
          "carpet": [
           {
            "aaxis": {
             "endlinecolor": "#2a3f5f",
             "gridcolor": "white",
             "linecolor": "white",
             "minorgridcolor": "white",
             "startlinecolor": "#2a3f5f"
            },
            "baxis": {
             "endlinecolor": "#2a3f5f",
             "gridcolor": "white",
             "linecolor": "white",
             "minorgridcolor": "white",
             "startlinecolor": "#2a3f5f"
            },
            "type": "carpet"
           }
          ],
          "table": [
           {
            "cells": {
             "fill": {
              "color": "#EBF0F8"
             },
             "line": {
              "color": "white"
             }
            },
            "header": {
             "fill": {
              "color": "#C8D4E3"
             },
             "line": {
              "color": "white"
             }
            },
            "type": "table"
           }
          ],
          "barpolar": [
           {
            "marker": {
             "line": {
              "color": "#E5ECF6",
              "width": 0.5
             },
             "pattern": {
              "fillmode": "overlay",
              "size": 10,
              "solidity": 0.2
             }
            },
            "type": "barpolar"
           }
          ],
          "pie": [
           {
            "automargin": true,
            "type": "pie"
           }
          ]
         },
         "layout": {
          "autotypenumbers": "strict",
          "colorway": [
           "#636efa",
           "#EF553B",
           "#00cc96",
           "#ab63fa",
           "#FFA15A",
           "#19d3f3",
           "#FF6692",
           "#B6E880",
           "#FF97FF",
           "#FECB52"
          ],
          "font": {
           "color": "#2a3f5f"
          },
          "hovermode": "closest",
          "hoverlabel": {
           "align": "left"
          },
          "paper_bgcolor": "white",
          "plot_bgcolor": "#E5ECF6",
          "polar": {
           "bgcolor": "#E5ECF6",
           "angularaxis": {
            "gridcolor": "white",
            "linecolor": "white",
            "ticks": ""
           },
           "radialaxis": {
            "gridcolor": "white",
            "linecolor": "white",
            "ticks": ""
           }
          },
          "ternary": {
           "bgcolor": "#E5ECF6",
           "aaxis": {
            "gridcolor": "white",
            "linecolor": "white",
            "ticks": ""
           },
           "baxis": {
            "gridcolor": "white",
            "linecolor": "white",
            "ticks": ""
           },
           "caxis": {
            "gridcolor": "white",
            "linecolor": "white",
            "ticks": ""
           }
          },
          "coloraxis": {
           "colorbar": {
            "outlinewidth": 0,
            "ticks": ""
           }
          },
          "colorscale": {
           "sequential": [
            [
             0.0,
             "#0d0887"
            ],
            [
             0.1111111111111111,
             "#46039f"
            ],
            [
             0.2222222222222222,
             "#7201a8"
            ],
            [
             0.3333333333333333,
             "#9c179e"
            ],
            [
             0.4444444444444444,
             "#bd3786"
            ],
            [
             0.5555555555555556,
             "#d8576b"
            ],
            [
             0.6666666666666666,
             "#ed7953"
            ],
            [
             0.7777777777777778,
             "#fb9f3a"
            ],
            [
             0.8888888888888888,
             "#fdca26"
            ],
            [
             1.0,
             "#f0f921"
            ]
           ],
           "sequentialminus": [
            [
             0.0,
             "#0d0887"
            ],
            [
             0.1111111111111111,
             "#46039f"
            ],
            [
             0.2222222222222222,
             "#7201a8"
            ],
            [
             0.3333333333333333,
             "#9c179e"
            ],
            [
             0.4444444444444444,
             "#bd3786"
            ],
            [
             0.5555555555555556,
             "#d8576b"
            ],
            [
             0.6666666666666666,
             "#ed7953"
            ],
            [
             0.7777777777777778,
             "#fb9f3a"
            ],
            [
             0.8888888888888888,
             "#fdca26"
            ],
            [
             1.0,
             "#f0f921"
            ]
           ],
           "diverging": [
            [
             0,
             "#8e0152"
            ],
            [
             0.1,
             "#c51b7d"
            ],
            [
             0.2,
             "#de77ae"
            ],
            [
             0.3,
             "#f1b6da"
            ],
            [
             0.4,
             "#fde0ef"
            ],
            [
             0.5,
             "#f7f7f7"
            ],
            [
             0.6,
             "#e6f5d0"
            ],
            [
             0.7,
             "#b8e186"
            ],
            [
             0.8,
             "#7fbc41"
            ],
            [
             0.9,
             "#4d9221"
            ],
            [
             1,
             "#276419"
            ]
           ]
          },
          "xaxis": {
           "gridcolor": "white",
           "linecolor": "white",
           "ticks": "",
           "title": {
            "standoff": 15
           },
           "zerolinecolor": "white",
           "automargin": true,
           "zerolinewidth": 2
          },
          "yaxis": {
           "gridcolor": "white",
           "linecolor": "white",
           "ticks": "",
           "title": {
            "standoff": 15
           },
           "zerolinecolor": "white",
           "automargin": true,
           "zerolinewidth": 2
          },
          "scene": {
           "xaxis": {
            "backgroundcolor": "#E5ECF6",
            "gridcolor": "white",
            "linecolor": "white",
            "showbackground": true,
            "ticks": "",
            "zerolinecolor": "white",
            "gridwidth": 2
           },
           "yaxis": {
            "backgroundcolor": "#E5ECF6",
            "gridcolor": "white",
            "linecolor": "white",
            "showbackground": true,
            "ticks": "",
            "zerolinecolor": "white",
            "gridwidth": 2
           },
           "zaxis": {
            "backgroundcolor": "#E5ECF6",
            "gridcolor": "white",
            "linecolor": "white",
            "showbackground": true,
            "ticks": "",
            "zerolinecolor": "white",
            "gridwidth": 2
           }
          },
          "shapedefaults": {
           "line": {
            "color": "#2a3f5f"
           }
          },
          "annotationdefaults": {
           "arrowcolor": "#2a3f5f",
           "arrowhead": 0,
           "arrowwidth": 1
          },
          "geo": {
           "bgcolor": "white",
           "landcolor": "#E5ECF6",
           "subunitcolor": "white",
           "showland": true,
           "showlakes": true,
           "lakecolor": "white"
          },
          "title": {
           "x": 0.05
          },
          "mapbox": {
           "style": "light"
          }
         }
        }
       },
       "config": {
        "plotlyServerURL": "https://plot.ly"
       }
      },
      "text/html": [
       "<div>                            <div id=\"5c429221-62f2-4e6a-95ec-f90aa8576c88\" class=\"plotly-graph-div\" style=\"height:525px; width:100%;\"></div>            <script type=\"text/javascript\">                require([\"plotly\"], function(Plotly) {                    window.PLOTLYENV=window.PLOTLYENV || {};                                    if (document.getElementById(\"5c429221-62f2-4e6a-95ec-f90aa8576c88\")) {                    Plotly.newPlot(                        \"5c429221-62f2-4e6a-95ec-f90aa8576c88\",                        [{\"hoverinfo\":\"none\",\"line\":{\"color\":\"#888\",\"width\":0.5},\"mode\":\"lines\",\"x\":[0.00562750017374228,0.05030833617651389,null,-0.05411107769601718,0.00562750017374228,null,-0.0033278434457089676,0.05030833617651389,null,-0.06168328192266575,-0.0033278434457089676,null,-0.010221972753481315,0.05030833617651389,null,-0.04681978069366117,-0.010221972753481315,null,0.03929044179306632,0.05030833617651389,null,-0.03356445587907052,0.03929044179306632,null,-0.03356445587907052,0.03899888809328947,null,0.03899888809328947,0.05030833617651389,null,0.057544735503979025,0.05030833617651389,null,0.031124686779679975,0.057544735503979025,null,0.01601281438308396,0.05030833617651389,null,0.006503160814718953,0.01601281438308396,null,0.024132349239339063,0.05030833617651389,null,0.0072843307614348304,0.024132349239339063,null,0.0035832768619616416,0.05030833617651389,null,-0.0345574417063363,0.0035832768619616416,null,-0.0345574417063363,0.0009650751579460736,null,0.0009650751579460736,0.05030833617651389,null,-0.002166878386955794,0.05030833617651389,null,-0.032591697649570484,-0.002166878386955794,null,0.07303519032905655,0.05030833617651389,null,0.0007744700455416867,0.07303519032905655,null,0.05792456769793743,0.05030833617651389,null,0.001621501326129227,0.05792456769793743,null,0.020074239779960232,0.05030833617651389,null,-0.049122716243039065,0.020074239779960232,null,0.026807923760292902,0.05030833617651389,null,-0.04390009613037258,0.026807923760292902,null,0.020772668949866995,0.05030833617651389,null,0.025084645550362997,0.020772668949866995,null,0.00033000394834806874,0.05030833617651389,null,-0.02510887986385112,0.00033000394834806874,null,0.03392299789145894,0.05030833617651389,null,0.061798645259103495,0.03392299789145894,null,0.05226676135978152,0.05030833617651389,null,0.0088896005259835,0.05226676135978152,null,0.034028834754151166,0.05030833617651389,null,0.05729390952558099,0.034028834754151166,null,0.012491571955671991,0.05030833617651389,null,-0.05405208256066155,0.012491571955671991,null,0.010019498034054414,0.05030833617651389,null,0.015530727063235092,0.010019498034054414,null,0.015530727063235092,0.042790486859483945,null,0.042790486859483945,0.05030833617651389,null,0.010303068183014566,0.05030833617651389,null,-0.00864337359764839,0.010303068183014566,null,0.024119982010604675,0.05030833617651389,null,-0.012813562268908622,0.024119982010604675,null,-0.0002825034812559032,0.05030833617651389,null,-0.02435968993147185,-0.0002825034812559032,null,0.04073530055299351,0.05030833617651389,null,0.055965753547480825,0.04073530055299351,null,0.055965753547480825,0.0418334605637445,null,0.0418334605637445,0.05030833617651389,null,0.028817336264293263,0.05030833617651389,null,0.007505767657402562,0.028817336264293263,null,-0.4085528207033525,-0.4215212669988967,null,-0.3901264005896203,-0.4085528207033525,null,0.06792203159070012,0.05030833617651389,null,0.07376882455797222,0.06792203159070012,null,-0.0005879572003132465,0.05030833617651389,null,-0.04733690773323538,-0.0005879572003132465,null,0.005016788709427578,0.05030833617651389,null,-0.0021572333098341147,0.005016788709427578,null,0.017760719512210334,0.05030833617651389,null,0.035747803965273876,0.017760719512210334,null,-0.010991222206773742,0.05030833617651389,null,-0.06191927580166523,-0.010991222206773742,null,0.014436101978296421,0.05030833617651389,null,-0.025250171660822707,0.014436101978296421,null,0.014640398122617401,0.05030833617651389,null,-0.04543999770962561,0.014640398122617401,null,0.02675661845287795,0.05030833617651389,null,-0.03075552880828754,0.02675661845287795,null,-0.012698827834954553,0.05030833617651389,null,-0.041055840789002145,-0.012698827834954553,null,0.012880399897846981,0.05030833617651389,null,0.003909122019787786,0.012880399897846981,null,0.003909122019787786,0.045233608653945746,null,0.045233608653945746,0.05030833617651389,null,0.01150924155804188,0.05030833617651389,null,-0.016511076244597498,0.01150924155804188,null,-0.016511076244597498,0.03367474866035725,null,-0.016511076244597498,0.025072670726927006,null,0.03367474866035725,0.05030833617651389,null,0.025072670726927006,0.05030833617651389,null,0.01192708613152121,0.05030833617651389,null,-0.00516037347881534,0.01192708613152121,null,-0.01648177670598771,0.05030833617651389,null,-0.052201840844637686,-0.01648177670598771,null,-0.002762521664466479,0.05030833617651389,null,-0.059543990617439195,-0.002762521664466479,null,0.035868517907009005,0.05030833617651389,null,0.062351978746957026,0.035868517907009005,null,0.0487619559930508,0.05030833617651389,null,0.08706929976190249,0.0487619559930508,null,0.0007006182597512015,0.05030833617651389,null,-0.0514341483351826,0.0007006182597512015,null,-0.0514341483351826,0.0066664942559496775,null,0.0066664942559496775,0.05030833617651389,null,0.020753279549362152,0.05030833617651389,null,-0.0325915119057886,0.020753279549362152,null,-0.0190462710960042,0.05030833617651389,null,-0.06479236132249779,-0.0190462710960042,null,-0.021657744401104833,0.05030833617651389,null,-0.06104474722962373,-0.021657744401104833,null,0.06326287153854697,0.05030833617651389,null,0.058820229488296225,0.06326287153854697,null,0.058820229488296225,0.05020009158145453,null,0.05020009158145453,0.05030833617651389,null,-0.010088870944645233,0.05030833617651389,null,-0.036521267977887094,-0.010088870944645233,null,-0.036521267977887094,0.010595047052748947,null,0.010595047052748947,0.05030833617651389,null,0.0008257777205888525,0.05030833617651389,null,-0.04576523039083322,0.0008257777205888525,null,0.07211659748187688,0.05030833617651389,null,0.050167451052513225,0.07211659748187688,null,0.050167451052513225,0.004845834011209075,null,0.004845834011209075,0.05030833617651389,null,0.036621839085966286,0.05030833617651389,null,0.057260010560305115,0.036621839085966286,null,0.07099879274050644,0.05030833617651389,null,0.08278139639884267,0.07099879274050644,null,0.005685215056013124,0.05030833617651389,null,0.02392210583988968,0.005685215056013124,null,0.00822064271778035,0.05030833617651389,null,-0.05448873686678007,0.00822064271778035,null,-0.02797188352602542,0.05030833617651389,null,-0.06500289246574781,-0.02797188352602542,null,0.06598540923389036,0.05030833617651389,null,0.030071051468289072,0.06598540923389036,null,0.005787365818718951,0.05030833617651389,null,-0.02133322719283932,0.005787365818718951,null,0.01577346920066181,0.05030833617651389,null,-0.026834043551465438,0.01577346920066181,null,-0.026834043551465438,0.020246283300000043,null,0.020246283300000043,0.05030833617651389,null,0.06813027563334322,0.05030833617651389,null,0.022802954826887527,0.06813027563334322,null,-0.026674288236710048,0.05030833617651389,null,-0.021110629509978617,-0.026674288236710048,null,-0.021110629509978617,0.012591319437900683,null,-0.021110629509978617,-0.005547023302548985,null,-0.021110629509978617,0.01727488402489894,null,0.06238624160369464,0.05030833617651389,null,0.004039500165677159,0.06238624160369464,null,0.004039500165677159,0.038598342325332144,null,0.038598342325332144,0.05030833617651389,null,0.0193815201679403,0.05030833617651389,null,0.015004174177327172,0.0193815201679403,null,0.015004174177327172,0.029444304089524947,null,0.029444304089524947,0.05030833617651389,null,0.03379494697470857,0.05030833617651389,null,-0.0020032958450167874,0.03379494697470857,null,-0.0020032958450167874,-0.010036282357363082,null,-0.010036282357363082,0.05030833617651389,null,0.0011442967611802835,0.05030833617651389,null,-0.04184764066672123,0.0011442967611802835,null,0.04062004920328476,0.05030833617651389,null,0.023443717186302126,0.04062004920328476,null,0.012591319437900683,0.05030833617651389,null,-0.005547023302548985,0.05030833617651389,null,0.01727488402489894,0.05030833617651389,null,-0.013462179101630294,0.05030833617651389,null,-0.04393185061702191,-0.013462179101630294,null,0.011613389241781553,0.05030833617651389,null,0.02776529667226099,0.011613389241781553,null,0.02776529667226099,0.027446419954854386,null,0.027446419954854386,0.05030833617651389,null,0.003991392109634891,0.05030833617651389,null,-0.06681503817498709,0.003991392109634891,null,-0.017198403781895355,0.05030833617651389,null,-0.049667905595917196,-0.017198403781895355,null,-0.049667905595917196,0.008840307753907239,null,0.008840307753907239,0.05030833617651389,null,-0.006293588524905816,0.05030833617651389,null,-0.05742811345837555,-0.006293588524905816,null,-0.010768314241007547,0.05030833617651389,null,0.009969446604929209,-0.010768314241007547,null,0.009969446604929209,0.0470444006026669,null,0.0470444006026669,0.05030833617651389,null,-0.0053282992781555774,0.05030833617651389,null,-0.034985013841311564,-0.0053282992781555774,null,0.017181004104865377,0.05030833617651389,null,0.030696526532611217,0.017181004104865377,null,-0.029445769789382382,0.05030833617651389,null,-0.031490249185918646,-0.029445769789382382,null,-0.031490249185918646,0.027747760069877985,null,0.027747760069877985,0.05030833617651389,null,-0.005420387567440698,0.05030833617651389,null,-0.050704390704387696,-0.005420387567440698,null,-0.005670705053178655,0.05030833617651389,null,-0.06621014635441134,-0.005670705053178655,null,0.029519065161398735,0.05030833617651389,null,0.01906840735766251,0.029519065161398735,null,0.06507200435173731,0.05030833617651389,null,0.01420451756091079,0.06507200435173731,null,0.01420451756091079,-0.004509199680648197,null,0.01420451756091079,0.018478401836212383,null,0.01420451756091079,-0.013548595764760044,null,-0.004509199680648197,0.05030833617651389,null,0.018478401836212383,0.05030833617651389,null,-0.013548595764760044,0.05030833617651389,null,0.03593942621801697,0.05030833617651389,null,-0.008990143727496595,0.03593942621801697,null,-0.008990143727496595,-0.0022877901684049493,null,-0.0022877901684049493,0.05030833617651389,null,0.021104443311565513,0.05030833617651389,null,0.00823256457764825,0.021104443311565513,null,0.00823256457764825,0.0630289467543236,null,0.0630289467543236,0.05030833617651389,null],\"y\":[0.052474552427551995,0.053418852382209066,null,0.024325084567398663,0.052474552427551995,null,0.04686603763839962,0.053418852382209066,null,0.018553870375053103,0.04686603763839962,null,0.0021101234801655733,0.053418852382209066,null,-0.02845571401667837,0.0021101234801655733,null,0.06794912721808144,0.053418852382209066,null,0.01131733604673451,0.06794912721808144,null,0.01131733604673451,0.07454105641737149,null,0.07454105641737149,0.053418852382209066,null,0.013386613611923361,0.053418852382209066,null,-0.044072262084810666,0.013386613611923361,null,0.006368983544796246,0.053418852382209066,null,-0.04063436711329698,0.006368983544796246,null,0.009391451286260146,0.053418852382209066,null,-0.03708501293211051,0.009391451286260146,null,0.043757472718698516,0.053418852382209066,null,0.04515882958841068,0.043757472718698516,null,0.04515882958841068,0.05387829039311199,null,0.05387829039311199,0.053418852382209066,null,0.009987071129004533,0.053418852382209066,null,-0.022687503312520813,0.009987071129004533,null,0.054995713141787,0.053418852382209066,null,-0.019994246176502844,0.054995713141787,null,0.03157728623670262,0.053418852382209066,null,-0.030912607311231237,0.03157728623670262,null,0.06834762723344233,0.053418852382209066,null,0.02920341605904069,0.06834762723344233,null,0.06858775305176061,0.053418852382209066,null,0.0260717283452995,0.06858775305176061,null,0.002785877561909854,0.053418852382209066,null,-0.044852017744551095,0.002785877561909854,null,0.0010098853160993894,0.053418852382209066,null,-0.03539881416808035,0.0010098853160993894,null,0.0229750677862225,0.053418852382209066,null,-0.002976504589810117,0.0229750677862225,null,0.07803028494795379,0.053418852382209066,null,0.08448430406980603,0.07803028494795379,null,0.01144386714065196,0.053418852382209066,null,-0.019327036408913884,0.01144386714065196,null,0.0709061547508279,0.053418852382209066,null,0.03117377177792494,0.0709061547508279,null,0.013236851730189682,0.053418852382209066,null,-0.020439642561301423,0.013236851730189682,null,-0.020439642561301423,0.017453042833527544,null,0.017453042833527544,0.053418852382209066,null,-0.0037479755243845594,0.053418852382209066,null,-0.04838738109181324,-0.0037479755243845594,null,0.05790076824550166,0.053418852382209066,null,0.07720286954001465,0.05790076824550166,null,-0.004862350813206854,0.053418852382209066,null,-0.0483655732806038,-0.004862350813206854,null,0.04103452978231834,0.053418852382209066,null,0.036561814705896936,0.04103452978231834,null,0.036561814705896936,0.024244472376263138,null,0.024244472376263138,0.053418852382209066,null,0.02719128490962585,0.053418852382209066,null,-0.017072776149932217,0.02719128490962585,null,-0.9670528063131602,-1.0,null,-0.9157047928032863,-0.9670528063131602,null,0.02349005637009835,0.053418852382209066,null,-0.017691767613778577,0.02349005637009835,null,0.0225386407393073,0.053418852382209066,null,0.0005456655576148848,0.0225386407393073,null,-0.0009609176637488554,0.053418852382209066,null,-0.040955898353759866,-0.0009609176637488554,null,0.01763606138181677,0.053418852382209066,null,-0.018083749267228662,0.01763606138181677,null,0.016824053297675407,0.053418852382209066,null,-0.015243366434898766,0.016824053297675407,null,0.020671795306923375,0.053418852382209066,null,0.007607932118187876,0.020671795306923375,null,0.06408161281030178,0.053418852382209066,null,0.04643319511319725,0.06408161281030178,null,0.033212191793842806,0.053418852382209066,null,0.006632129190033403,0.033212191793842806,null,-0.010969830275448065,0.053418852382209066,null,-0.05038041988222844,-0.010969830275448065,null,0.0460922294438084,0.053418852382209066,null,-0.006119489060777082,0.0460922294438084,null,-0.006119489060777082,0.0060917067588183394,null,0.0060917067588183394,0.053418852382209066,null,0.056997926209139856,0.053418852382209066,null,0.021463765403116213,0.056997926209139856,null,0.021463765403116213,0.07765408894487222,null,0.021463765403116213,-0.003884961519773653,null,0.07765408894487222,0.053418852382209066,null,-0.003884961519773653,0.053418852382209066,null,0.024205130226718632,0.053418852382209066,null,-0.014993200168075928,0.024205130226718632,null,-0.008202918315614623,0.053418852382209066,null,-0.04462704274597469,-0.008202918315614623,null,0.0349573974785407,0.053418852382209066,null,0.0008492951391503358,0.0349573974785407,null,0.01606010014734657,0.053418852382209066,null,-0.011949187281715184,0.01606010014734657,null,0.02593215486996526,0.053418852382209066,null,0.02711728147826573,0.02593215486996526,null,0.04871891055534681,0.053418852382209066,null,0.005497234490134361,0.04871891055534681,null,0.005497234490134361,0.03986636897169783,null,0.03986636897169783,0.053418852382209066,null,0.04141043854373998,0.053418852382209066,null,0.030141546184679853,0.04141043854373998,null,0.002154949645042415,0.053418852382209066,null,-0.02949130572861665,0.002154949645042415,null,-0.006173395484715052,0.053418852382209066,null,-0.0382026156737809,-0.006173395484715052,null,0.05819126066962243,0.053418852382209066,null,0.02489634038306909,0.05819126066962243,null,0.02489634038306909,0.017820099395317552,null,0.017820099395317552,0.053418852382209066,null,0.025834665818033856,0.053418852382209066,null,0.016495810087939718,0.025834665818033856,null,0.016495810087939718,0.03659813447972463,null,0.03659813447972463,0.053418852382209066,null,0.030473992423626257,0.053418852382209066,null,-0.002342246506184846,0.030473992423626257,null,0.03850960668388951,0.053418852382209066,null,0.012915724516640744,0.03850960668388951,null,0.012915724516640744,0.01293015563119311,null,0.01293015563119311,0.053418852382209066,null,0.006476967549784615,0.053418852382209066,null,-0.0276792956737025,0.006476967549784615,null,0.04608775169052259,0.053418852382209066,null,0.011928590280711922,0.04608775169052259,null,0.028001769023166798,0.053418852382209066,null,0.03968757040968456,0.028001769023166798,null,0.04793707193277932,0.053418852382209066,null,0.032480252025503996,0.04793707193277932,null,-0.019062651820984076,0.053418852382209066,null,-0.054574581282479856,-0.019062651820984076,null,0.031891910911663636,0.053418852382209066,null,-0.027202423855860938,0.031891910911663636,null,0.00750197588136131,0.053418852382209066,null,-0.036752077160077515,0.00750197588136131,null,0.040663351021845005,0.053418852382209066,null,0.034252019093740135,0.040663351021845005,null,0.034252019093740135,0.06202805298069005,null,0.06202805298069005,0.053418852382209066,null,0.0674454921186791,0.053418852382209066,null,0.0011823790788953554,0.0674454921186791,null,-0.012389372448895965,0.053418852382209066,null,0.026929000286496307,-0.012389372448895965,null,0.026929000286496307,0.02840999225925495,null,0.026929000286496307,0.026338310950255673,null,0.026929000286496307,0.07312882276340299,null,0.07543776901693193,0.053418852382209066,null,0.020448890207979704,0.07543776901693193,null,0.020448890207979704,0.031163007055787322,null,0.031163007055787322,0.053418852382209066,null,0.012787902236421254,0.053418852382209066,null,0.03395153813183375,0.012787902236421254,null,0.03395153813183375,0.057305109612999935,null,0.057305109612999935,0.053418852382209066,null,0.0003237206195594889,0.053418852382209066,null,0.003464622232809451,0.0003237206195594889,null,0.003464622232809451,0.035711181072404105,null,0.035711181072404105,0.053418852382209066,null,0.01611249694559677,0.053418852382209066,null,-0.016217957601707255,0.01611249694559677,null,0.0027029378691100754,0.053418852382209066,null,-0.04410503963885704,0.0027029378691100754,null,0.02840999225925495,0.053418852382209066,null,0.026338310950255673,0.053418852382209066,null,0.07312882276340299,0.053418852382209066,null,-0.005644456779034682,0.053418852382209066,null,-0.03891724745547844,-0.005644456779034682,null,0.005252196867892704,0.053418852382209066,null,0.018722785755268367,0.005252196867892704,null,0.018722785755268367,0.04310397103445273,null,0.04310397103445273,0.053418852382209066,null,0.060134184593098626,0.053418852382209066,null,0.02079934734866253,0.060134184593098626,null,-0.0018887308686052241,0.053418852382209066,null,0.01272886071846686,-0.0018887308686052241,null,0.01272886071846686,0.06602832611486228,null,0.06602832611486228,0.053418852382209066,null,0.03217362368478399,0.053418852382209066,null,0.03512178035453745,0.03217362368478399,null,0.01087947739954873,0.053418852382209066,null,-0.01914183414203465,0.01087947739954873,null,-0.01914183414203465,0.013858809163493002,null,0.013858809163493002,0.053418852382209066,null,0.00023831660815213819,0.053418852382209066,null,-0.037319147125713464,0.00023831660815213819,null,-0.0010761964879040427,0.053418852382209066,null,-0.03826474487213072,-0.0010761964879040427,null,-0.014832452722465925,0.053418852382209066,null,0.024737567117137624,-0.014832452722465925,null,0.024737567117137624,0.07779379240279892,null,0.07779379240279892,0.053418852382209066,null,0.014633390909347005,0.053418852382209066,null,-0.015489860936571164,0.014633390909347005,null,0.04081205133234224,0.053418852382209066,null,0.006968585064553777,0.04081205133234224,null,0.004083639879096914,0.053418852382209066,null,-0.040835037550034925,0.004083639879096914,null,0.018316097365035235,0.053418852382209066,null,0.012115218322230037,0.018316097365035235,null,0.012115218322230037,0.021105655903476215,null,0.012115218322230037,0.051547341705135925,null,0.012115218322230037,0.006729281515186724,null,0.021105655903476215,0.053418852382209066,null,0.051547341705135925,0.053418852382209066,null,0.006729281515186724,0.053418852382209066,null,0.054628713182448545,0.053418852382209066,null,0.06415339136493066,0.054628713182448545,null,0.06415339136493066,0.056229824693712696,null,0.056229824693712696,0.053418852382209066,null,0.006404988078269988,0.053418852382209066,null,-0.03074124670785211,0.006404988078269988,null,-0.03074124670785211,0.02390160513770532,null,0.02390160513770532,0.053418852382209066,null],\"type\":\"scatter\"},{\"hoverinfo\":\"text\",\"marker\":{\"color\":[],\"colorbar\":{\"thickness\":15,\"title\":{\"side\":\"right\",\"text\":\"Node Connections\"},\"xanchor\":\"left\"},\"colorscale\":[[0.0,\"rgb(255,255,217)\"],[0.125,\"rgb(237,248,177)\"],[0.25,\"rgb(199,233,180)\"],[0.375,\"rgb(127,205,187)\"],[0.5,\"rgb(65,182,196)\"],[0.625,\"rgb(29,145,192)\"],[0.75,\"rgb(34,94,168)\"],[0.875,\"rgb(37,52,148)\"],[1.0,\"rgb(8,29,88)\"]],\"line\":{\"width\":2},\"reversescale\":true,\"showscale\":true,\"size\":10},\"mode\":\"markers\",\"text\":[\"0\",\"Mighty Protein\",\"Coffee\",\"1\",\"Granola\",\"2\",\"NONE, Art Tray\",\"3\",\"Art Tray\",\"4\",\"5\",\"Bread, Extra Salami or Feta\",\"6\",\"Salad, Extra Salami or Feta\",\"7\",\"NONE, Extra Salami or Feta\",\"8\",\"Extra Salami or Feta\",\"9\",\"10\",\"Tartine, NONE\",\"11\",\"Tartine\",\"12\",\"Bakewell\",\"13\",\"Vegan mincepie, Cake\",\"14\",\"NONE, The Nomad\",\"15\",\"Keeping It Local, Tea\",\"16\",\"Keeping It Local\",\"17\",\"Smoothies, Cake\",\"18\",\"Salad, Spanish Brunch\",\"19\",\"Salad, Cake\",\"20\",\"Salad, Sandwich\",\"21\",\"Salad\",\"22\",\"23\",\"Sandwich, Hearty & Seasonal\",\"24\",\"Juice, Jammie Dodgers\",\"25\",\"Mineral water, Alfajores\",\"26\",\"Tiffin, Sandwich\",\"27\",\"28\",\"Tiffin, Cake\",\"29\",\"Alfajores, Spanish Brunch\",\"Tea\",\"30\",\"Toast, Spanish Brunch\",\"31\",\"Soup, Spanish Brunch\",\"32\",\"Sandwich, Spanish Brunch\",\"33\",\"Juice, Spanish Brunch\",\"34\",\"NONE, Spanish Brunch\",\"35\",\"Pastry, Toast\",\"36\",\"Medialuna, Toast\",\"37\",\"Juice, Toast\",\"38\",\"Cake, Toast\",\"39\",\"NONE, Toast\",\"40\",\"41\",\"Toast\",\"42\",\"43\",\"44\",\"Cookies, Scone\",\"45\",\"Scone, NONE\",\"46\",\"Scone, Juice\",\"47\",\"Scone, Hot chocolate\",\"48\",\"Soup, NONE\",\"49\",\"Soup, Sandwich\",\"50\",\"51\",\"Soup, Cake, Sandwich\",\"52\",\"Juice, Pastry\",\"53\",\"Cookies, Juice, Cake\",\"54\",\"Cookies, Juice\",\"55\",\"56\",\"Juice, NONE\",\"57\",\"58\",\"Juice, Cake, Sandwich\",\"59\",\"NONE, Alfajores\",\"60\",\"61\",\"Cookies, Sandwich, Alfajores\",\"62\",\"Cookies, Alfajores\",\"63\",\"Pastry, Bread, Alfajores\",\"64\",\"Muffin, Sandwich\",\"65\",\"Muffin, NONE\",\"66\",\"Muffin, Cake, Tea\",\"67\",\"NONE, Brownie\",\"68\",\"Cookies, Brownie\",\"69\",\"70\",\"Sandwich, Brownie\",\"71\",\"Cookies, Hot chocolate\",\"72\",\"Cookies, Medialuna\",\"73\",\"74\",\"Cookies, Pastry\",\"75\",\"76\",\"Cookies, NONE\",\"77\",\"78\",\"Cookies, Sandwich, Hot chocolate\",\"79\",\"Cookies, Tea, Sandwich\",\"80\",\"81\",\"82\",\"83\",\"NONE, Hot chocolate, Medialuna\",\"84\",\"Hot chocolate, Medialuna\",\"85\",\"86\",\"Pastry, Bread, Hot chocolate\",\"87\",\"Pastry, Hot chocolate\",\"88\",\"89\",\"NONE, Hot chocolate\",\"90\",\"Cake, Hot chocolate\",\"91\",\"92\",\"Medialuna, Sandwich\",\"93\",\"Cake, Medialuna, Tea\",\"94\",\"Cake, Medialuna\",\"95\",\"96\",\"NONE, Medialuna\",\"97\",\"Pastry, Sandwich\",\"98\",\"Cake, Sandwich, Tea\",\"99\",\"Cake, Sandwich\",\"100\",\"101\",\"102\",\"103\",\"Pastry, NONE\",\"104\",\"105\",\"NONE, Cake\",\"106\"],\"x\":[0.00562750017374228,-0.05411107769601718,0.05030833617651389,-0.0033278434457089676,-0.06168328192266575,-0.010221972753481315,-0.04681978069366117,0.03929044179306632,-0.03356445587907052,0.03899888809328947,0.057544735503979025,0.031124686779679975,0.01601281438308396,0.006503160814718953,0.024132349239339063,0.0072843307614348304,0.0035832768619616416,-0.0345574417063363,0.0009650751579460736,-0.002166878386955794,-0.032591697649570484,0.07303519032905655,0.0007744700455416867,0.05792456769793743,0.001621501326129227,0.020074239779960232,-0.049122716243039065,0.026807923760292902,-0.04390009613037258,0.020772668949866995,0.025084645550362997,0.00033000394834806874,-0.02510887986385112,0.03392299789145894,0.061798645259103495,0.05226676135978152,0.0088896005259835,0.034028834754151166,0.05729390952558099,0.012491571955671991,-0.05405208256066155,0.010019498034054414,0.015530727063235092,0.042790486859483945,0.010303068183014566,-0.00864337359764839,0.024119982010604675,-0.012813562268908622,-0.0002825034812559032,-0.02435968993147185,0.04073530055299351,0.055965753547480825,0.0418334605637445,0.028817336264293263,0.007505767657402562,-0.4085528207033525,-0.3901264005896203,-0.4215212669988967,0.06792203159070012,0.07376882455797222,-0.0005879572003132465,-0.04733690773323538,0.005016788709427578,-0.0021572333098341147,0.017760719512210334,0.035747803965273876,-0.010991222206773742,-0.06191927580166523,0.014436101978296421,-0.025250171660822707,0.014640398122617401,-0.04543999770962561,0.02675661845287795,-0.03075552880828754,-0.012698827834954553,-0.041055840789002145,0.012880399897846981,0.003909122019787786,0.045233608653945746,0.01150924155804188,-0.016511076244597498,0.03367474866035725,0.025072670726927006,0.01192708613152121,-0.00516037347881534,-0.01648177670598771,-0.052201840844637686,-0.002762521664466479,-0.059543990617439195,0.035868517907009005,0.062351978746957026,0.0487619559930508,0.08706929976190249,0.0007006182597512015,-0.0514341483351826,0.0066664942559496775,0.020753279549362152,-0.0325915119057886,-0.0190462710960042,-0.06479236132249779,-0.021657744401104833,-0.06104474722962373,0.06326287153854697,0.058820229488296225,0.05020009158145453,-0.010088870944645233,-0.036521267977887094,0.010595047052748947,0.0008257777205888525,-0.04576523039083322,0.07211659748187688,0.050167451052513225,0.004845834011209075,0.036621839085966286,0.057260010560305115,0.07099879274050644,0.08278139639884267,0.005685215056013124,0.02392210583988968,0.00822064271778035,-0.05448873686678007,-0.02797188352602542,-0.06500289246574781,0.06598540923389036,0.030071051468289072,0.005787365818718951,-0.02133322719283932,0.01577346920066181,-0.026834043551465438,0.020246283300000043,0.06813027563334322,0.022802954826887527,-0.026674288236710048,-0.021110629509978617,0.06238624160369464,0.004039500165677159,0.038598342325332144,0.0193815201679403,0.015004174177327172,0.029444304089524947,0.03379494697470857,-0.0020032958450167874,-0.010036282357363082,0.0011442967611802835,-0.04184764066672123,0.04062004920328476,0.023443717186302126,0.012591319437900683,-0.005547023302548985,0.01727488402489894,-0.013462179101630294,-0.04393185061702191,0.011613389241781553,0.02776529667226099,0.027446419954854386,0.003991392109634891,-0.06681503817498709,-0.017198403781895355,-0.049667905595917196,0.008840307753907239,-0.006293588524905816,-0.05742811345837555,-0.010768314241007547,0.009969446604929209,0.0470444006026669,-0.0053282992781555774,-0.034985013841311564,0.017181004104865377,0.030696526532611217,-0.029445769789382382,-0.031490249185918646,0.027747760069877985,-0.005420387567440698,-0.050704390704387696,-0.005670705053178655,-0.06621014635441134,0.029519065161398735,0.01906840735766251,0.06507200435173731,0.01420451756091079,-0.004509199680648197,0.018478401836212383,-0.013548595764760044,0.03593942621801697,-0.008990143727496595,-0.0022877901684049493,0.021104443311565513,0.00823256457764825,0.0630289467543236],\"y\":[0.052474552427551995,0.024325084567398663,0.053418852382209066,0.04686603763839962,0.018553870375053103,0.0021101234801655733,-0.02845571401667837,0.06794912721808144,0.01131733604673451,0.07454105641737149,0.013386613611923361,-0.044072262084810666,0.006368983544796246,-0.04063436711329698,0.009391451286260146,-0.03708501293211051,0.043757472718698516,0.04515882958841068,0.05387829039311199,0.009987071129004533,-0.022687503312520813,0.054995713141787,-0.019994246176502844,0.03157728623670262,-0.030912607311231237,0.06834762723344233,0.02920341605904069,0.06858775305176061,0.0260717283452995,0.002785877561909854,-0.044852017744551095,0.0010098853160993894,-0.03539881416808035,0.0229750677862225,-0.002976504589810117,0.07803028494795379,0.08448430406980603,0.01144386714065196,-0.019327036408913884,0.0709061547508279,0.03117377177792494,0.013236851730189682,-0.020439642561301423,0.017453042833527544,-0.0037479755243845594,-0.04838738109181324,0.05790076824550166,0.07720286954001465,-0.004862350813206854,-0.0483655732806038,0.04103452978231834,0.036561814705896936,0.024244472376263138,0.02719128490962585,-0.017072776149932217,-0.9670528063131602,-0.9157047928032863,-1.0,0.02349005637009835,-0.017691767613778577,0.0225386407393073,0.0005456655576148848,-0.0009609176637488554,-0.040955898353759866,0.01763606138181677,-0.018083749267228662,0.016824053297675407,-0.015243366434898766,0.020671795306923375,0.007607932118187876,0.06408161281030178,0.04643319511319725,0.033212191793842806,0.006632129190033403,-0.010969830275448065,-0.05038041988222844,0.0460922294438084,-0.006119489060777082,0.0060917067588183394,0.056997926209139856,0.021463765403116213,0.07765408894487222,-0.003884961519773653,0.024205130226718632,-0.014993200168075928,-0.008202918315614623,-0.04462704274597469,0.0349573974785407,0.0008492951391503358,0.01606010014734657,-0.011949187281715184,0.02593215486996526,0.02711728147826573,0.04871891055534681,0.005497234490134361,0.03986636897169783,0.04141043854373998,0.030141546184679853,0.002154949645042415,-0.02949130572861665,-0.006173395484715052,-0.0382026156737809,0.05819126066962243,0.02489634038306909,0.017820099395317552,0.025834665818033856,0.016495810087939718,0.03659813447972463,0.030473992423626257,-0.002342246506184846,0.03850960668388951,0.012915724516640744,0.01293015563119311,0.006476967549784615,-0.0276792956737025,0.04608775169052259,0.011928590280711922,0.028001769023166798,0.03968757040968456,0.04793707193277932,0.032480252025503996,-0.019062651820984076,-0.054574581282479856,0.031891910911663636,-0.027202423855860938,0.00750197588136131,-0.036752077160077515,0.040663351021845005,0.034252019093740135,0.06202805298069005,0.0674454921186791,0.0011823790788953554,-0.012389372448895965,0.026929000286496307,0.07543776901693193,0.020448890207979704,0.031163007055787322,0.012787902236421254,0.03395153813183375,0.057305109612999935,0.0003237206195594889,0.003464622232809451,0.035711181072404105,0.01611249694559677,-0.016217957601707255,0.0027029378691100754,-0.04410503963885704,0.02840999225925495,0.026338310950255673,0.07312882276340299,-0.005644456779034682,-0.03891724745547844,0.005252196867892704,0.018722785755268367,0.04310397103445273,0.060134184593098626,0.02079934734866253,-0.0018887308686052241,0.01272886071846686,0.06602832611486228,0.03217362368478399,0.03512178035453745,0.01087947739954873,-0.01914183414203465,0.013858809163493002,0.00023831660815213819,-0.037319147125713464,-0.0010761964879040427,-0.03826474487213072,-0.014832452722465925,0.024737567117137624,0.07779379240279892,0.014633390909347005,-0.015489860936571164,0.04081205133234224,0.006968585064553777,0.004083639879096914,-0.040835037550034925,0.018316097365035235,0.012115218322230037,0.021105655903476215,0.051547341705135925,0.006729281515186724,0.054628713182448545,0.06415339136493066,0.056229824693712696,0.006404988078269988,-0.03074124670785211,0.02390160513770532],\"type\":\"scatter\"}],                        {\"annotations\":[{\"showarrow\":false,\"text\":\"Python code: \\u003ca href='https:\\u002f\\u002fplotly.com\\u002fipython-notebooks\\u002fnetwork-graphs\\u002f'\\u003e https:\\u002f\\u002fplotly.com\\u002fipython-notebooks\\u002fnetwork-graphs\\u002f\\u003c\\u002fa\\u003e\",\"x\":0.005,\"xref\":\"paper\",\"y\":-0.002,\"yref\":\"paper\"}],\"hovermode\":\"closest\",\"margin\":{\"b\":20,\"l\":5,\"r\":5,\"t\":40},\"showlegend\":false,\"title\":{\"font\":{\"size\":16},\"text\":\"\\u003cbr\\u003eNetwork graph made with Python\"},\"xaxis\":{\"showgrid\":false,\"showticklabels\":false,\"zeroline\":false},\"yaxis\":{\"showgrid\":false,\"showticklabels\":false,\"zeroline\":false},\"template\":{\"data\":{\"histogram2dcontour\":[{\"type\":\"histogram2dcontour\",\"colorbar\":{\"outlinewidth\":0,\"ticks\":\"\"},\"colorscale\":[[0.0,\"#0d0887\"],[0.1111111111111111,\"#46039f\"],[0.2222222222222222,\"#7201a8\"],[0.3333333333333333,\"#9c179e\"],[0.4444444444444444,\"#bd3786\"],[0.5555555555555556,\"#d8576b\"],[0.6666666666666666,\"#ed7953\"],[0.7777777777777778,\"#fb9f3a\"],[0.8888888888888888,\"#fdca26\"],[1.0,\"#f0f921\"]]}],\"choropleth\":[{\"type\":\"choropleth\",\"colorbar\":{\"outlinewidth\":0,\"ticks\":\"\"}}],\"histogram2d\":[{\"type\":\"histogram2d\",\"colorbar\":{\"outlinewidth\":0,\"ticks\":\"\"},\"colorscale\":[[0.0,\"#0d0887\"],[0.1111111111111111,\"#46039f\"],[0.2222222222222222,\"#7201a8\"],[0.3333333333333333,\"#9c179e\"],[0.4444444444444444,\"#bd3786\"],[0.5555555555555556,\"#d8576b\"],[0.6666666666666666,\"#ed7953\"],[0.7777777777777778,\"#fb9f3a\"],[0.8888888888888888,\"#fdca26\"],[1.0,\"#f0f921\"]]}],\"heatmap\":[{\"type\":\"heatmap\",\"colorbar\":{\"outlinewidth\":0,\"ticks\":\"\"},\"colorscale\":[[0.0,\"#0d0887\"],[0.1111111111111111,\"#46039f\"],[0.2222222222222222,\"#7201a8\"],[0.3333333333333333,\"#9c179e\"],[0.4444444444444444,\"#bd3786\"],[0.5555555555555556,\"#d8576b\"],[0.6666666666666666,\"#ed7953\"],[0.7777777777777778,\"#fb9f3a\"],[0.8888888888888888,\"#fdca26\"],[1.0,\"#f0f921\"]]}],\"heatmapgl\":[{\"type\":\"heatmapgl\",\"colorbar\":{\"outlinewidth\":0,\"ticks\":\"\"},\"colorscale\":[[0.0,\"#0d0887\"],[0.1111111111111111,\"#46039f\"],[0.2222222222222222,\"#7201a8\"],[0.3333333333333333,\"#9c179e\"],[0.4444444444444444,\"#bd3786\"],[0.5555555555555556,\"#d8576b\"],[0.6666666666666666,\"#ed7953\"],[0.7777777777777778,\"#fb9f3a\"],[0.8888888888888888,\"#fdca26\"],[1.0,\"#f0f921\"]]}],\"contourcarpet\":[{\"type\":\"contourcarpet\",\"colorbar\":{\"outlinewidth\":0,\"ticks\":\"\"}}],\"contour\":[{\"type\":\"contour\",\"colorbar\":{\"outlinewidth\":0,\"ticks\":\"\"},\"colorscale\":[[0.0,\"#0d0887\"],[0.1111111111111111,\"#46039f\"],[0.2222222222222222,\"#7201a8\"],[0.3333333333333333,\"#9c179e\"],[0.4444444444444444,\"#bd3786\"],[0.5555555555555556,\"#d8576b\"],[0.6666666666666666,\"#ed7953\"],[0.7777777777777778,\"#fb9f3a\"],[0.8888888888888888,\"#fdca26\"],[1.0,\"#f0f921\"]]}],\"surface\":[{\"type\":\"surface\",\"colorbar\":{\"outlinewidth\":0,\"ticks\":\"\"},\"colorscale\":[[0.0,\"#0d0887\"],[0.1111111111111111,\"#46039f\"],[0.2222222222222222,\"#7201a8\"],[0.3333333333333333,\"#9c179e\"],[0.4444444444444444,\"#bd3786\"],[0.5555555555555556,\"#d8576b\"],[0.6666666666666666,\"#ed7953\"],[0.7777777777777778,\"#fb9f3a\"],[0.8888888888888888,\"#fdca26\"],[1.0,\"#f0f921\"]]}],\"mesh3d\":[{\"type\":\"mesh3d\",\"colorbar\":{\"outlinewidth\":0,\"ticks\":\"\"}}],\"scatter\":[{\"fillpattern\":{\"fillmode\":\"overlay\",\"size\":10,\"solidity\":0.2},\"type\":\"scatter\"}],\"parcoords\":[{\"type\":\"parcoords\",\"line\":{\"colorbar\":{\"outlinewidth\":0,\"ticks\":\"\"}}}],\"scatterpolargl\":[{\"type\":\"scatterpolargl\",\"marker\":{\"colorbar\":{\"outlinewidth\":0,\"ticks\":\"\"}}}],\"bar\":[{\"error_x\":{\"color\":\"#2a3f5f\"},\"error_y\":{\"color\":\"#2a3f5f\"},\"marker\":{\"line\":{\"color\":\"#E5ECF6\",\"width\":0.5},\"pattern\":{\"fillmode\":\"overlay\",\"size\":10,\"solidity\":0.2}},\"type\":\"bar\"}],\"scattergeo\":[{\"type\":\"scattergeo\",\"marker\":{\"colorbar\":{\"outlinewidth\":0,\"ticks\":\"\"}}}],\"scatterpolar\":[{\"type\":\"scatterpolar\",\"marker\":{\"colorbar\":{\"outlinewidth\":0,\"ticks\":\"\"}}}],\"histogram\":[{\"marker\":{\"pattern\":{\"fillmode\":\"overlay\",\"size\":10,\"solidity\":0.2}},\"type\":\"histogram\"}],\"scattergl\":[{\"type\":\"scattergl\",\"marker\":{\"colorbar\":{\"outlinewidth\":0,\"ticks\":\"\"}}}],\"scatter3d\":[{\"type\":\"scatter3d\",\"line\":{\"colorbar\":{\"outlinewidth\":0,\"ticks\":\"\"}},\"marker\":{\"colorbar\":{\"outlinewidth\":0,\"ticks\":\"\"}}}],\"scattermapbox\":[{\"type\":\"scattermapbox\",\"marker\":{\"colorbar\":{\"outlinewidth\":0,\"ticks\":\"\"}}}],\"scatterternary\":[{\"type\":\"scatterternary\",\"marker\":{\"colorbar\":{\"outlinewidth\":0,\"ticks\":\"\"}}}],\"scattercarpet\":[{\"type\":\"scattercarpet\",\"marker\":{\"colorbar\":{\"outlinewidth\":0,\"ticks\":\"\"}}}],\"carpet\":[{\"aaxis\":{\"endlinecolor\":\"#2a3f5f\",\"gridcolor\":\"white\",\"linecolor\":\"white\",\"minorgridcolor\":\"white\",\"startlinecolor\":\"#2a3f5f\"},\"baxis\":{\"endlinecolor\":\"#2a3f5f\",\"gridcolor\":\"white\",\"linecolor\":\"white\",\"minorgridcolor\":\"white\",\"startlinecolor\":\"#2a3f5f\"},\"type\":\"carpet\"}],\"table\":[{\"cells\":{\"fill\":{\"color\":\"#EBF0F8\"},\"line\":{\"color\":\"white\"}},\"header\":{\"fill\":{\"color\":\"#C8D4E3\"},\"line\":{\"color\":\"white\"}},\"type\":\"table\"}],\"barpolar\":[{\"marker\":{\"line\":{\"color\":\"#E5ECF6\",\"width\":0.5},\"pattern\":{\"fillmode\":\"overlay\",\"size\":10,\"solidity\":0.2}},\"type\":\"barpolar\"}],\"pie\":[{\"automargin\":true,\"type\":\"pie\"}]},\"layout\":{\"autotypenumbers\":\"strict\",\"colorway\":[\"#636efa\",\"#EF553B\",\"#00cc96\",\"#ab63fa\",\"#FFA15A\",\"#19d3f3\",\"#FF6692\",\"#B6E880\",\"#FF97FF\",\"#FECB52\"],\"font\":{\"color\":\"#2a3f5f\"},\"hovermode\":\"closest\",\"hoverlabel\":{\"align\":\"left\"},\"paper_bgcolor\":\"white\",\"plot_bgcolor\":\"#E5ECF6\",\"polar\":{\"bgcolor\":\"#E5ECF6\",\"angularaxis\":{\"gridcolor\":\"white\",\"linecolor\":\"white\",\"ticks\":\"\"},\"radialaxis\":{\"gridcolor\":\"white\",\"linecolor\":\"white\",\"ticks\":\"\"}},\"ternary\":{\"bgcolor\":\"#E5ECF6\",\"aaxis\":{\"gridcolor\":\"white\",\"linecolor\":\"white\",\"ticks\":\"\"},\"baxis\":{\"gridcolor\":\"white\",\"linecolor\":\"white\",\"ticks\":\"\"},\"caxis\":{\"gridcolor\":\"white\",\"linecolor\":\"white\",\"ticks\":\"\"}},\"coloraxis\":{\"colorbar\":{\"outlinewidth\":0,\"ticks\":\"\"}},\"colorscale\":{\"sequential\":[[0.0,\"#0d0887\"],[0.1111111111111111,\"#46039f\"],[0.2222222222222222,\"#7201a8\"],[0.3333333333333333,\"#9c179e\"],[0.4444444444444444,\"#bd3786\"],[0.5555555555555556,\"#d8576b\"],[0.6666666666666666,\"#ed7953\"],[0.7777777777777778,\"#fb9f3a\"],[0.8888888888888888,\"#fdca26\"],[1.0,\"#f0f921\"]],\"sequentialminus\":[[0.0,\"#0d0887\"],[0.1111111111111111,\"#46039f\"],[0.2222222222222222,\"#7201a8\"],[0.3333333333333333,\"#9c179e\"],[0.4444444444444444,\"#bd3786\"],[0.5555555555555556,\"#d8576b\"],[0.6666666666666666,\"#ed7953\"],[0.7777777777777778,\"#fb9f3a\"],[0.8888888888888888,\"#fdca26\"],[1.0,\"#f0f921\"]],\"diverging\":[[0,\"#8e0152\"],[0.1,\"#c51b7d\"],[0.2,\"#de77ae\"],[0.3,\"#f1b6da\"],[0.4,\"#fde0ef\"],[0.5,\"#f7f7f7\"],[0.6,\"#e6f5d0\"],[0.7,\"#b8e186\"],[0.8,\"#7fbc41\"],[0.9,\"#4d9221\"],[1,\"#276419\"]]},\"xaxis\":{\"gridcolor\":\"white\",\"linecolor\":\"white\",\"ticks\":\"\",\"title\":{\"standoff\":15},\"zerolinecolor\":\"white\",\"automargin\":true,\"zerolinewidth\":2},\"yaxis\":{\"gridcolor\":\"white\",\"linecolor\":\"white\",\"ticks\":\"\",\"title\":{\"standoff\":15},\"zerolinecolor\":\"white\",\"automargin\":true,\"zerolinewidth\":2},\"scene\":{\"xaxis\":{\"backgroundcolor\":\"#E5ECF6\",\"gridcolor\":\"white\",\"linecolor\":\"white\",\"showbackground\":true,\"ticks\":\"\",\"zerolinecolor\":\"white\",\"gridwidth\":2},\"yaxis\":{\"backgroundcolor\":\"#E5ECF6\",\"gridcolor\":\"white\",\"linecolor\":\"white\",\"showbackground\":true,\"ticks\":\"\",\"zerolinecolor\":\"white\",\"gridwidth\":2},\"zaxis\":{\"backgroundcolor\":\"#E5ECF6\",\"gridcolor\":\"white\",\"linecolor\":\"white\",\"showbackground\":true,\"ticks\":\"\",\"zerolinecolor\":\"white\",\"gridwidth\":2}},\"shapedefaults\":{\"line\":{\"color\":\"#2a3f5f\"}},\"annotationdefaults\":{\"arrowcolor\":\"#2a3f5f\",\"arrowhead\":0,\"arrowwidth\":1},\"geo\":{\"bgcolor\":\"white\",\"landcolor\":\"#E5ECF6\",\"subunitcolor\":\"white\",\"showland\":true,\"showlakes\":true,\"lakecolor\":\"white\"},\"title\":{\"x\":0.05},\"mapbox\":{\"style\":\"light\"}}}},                        {\"responsive\": true}                    ).then(function(){\n",
       "                            \n",
       "var gd = document.getElementById('5c429221-62f2-4e6a-95ec-f90aa8576c88');\n",
       "var x = new MutationObserver(function (mutations, observer) {{\n",
       "        var display = window.getComputedStyle(gd).display;\n",
       "        if (!display || display === 'none') {{\n",
       "            console.log([gd, 'removed!']);\n",
       "            Plotly.purge(gd);\n",
       "            observer.disconnect();\n",
       "        }}\n",
       "}});\n",
       "\n",
       "// Listen for the removal of the full notebook cells\n",
       "var notebookContainer = gd.closest('#notebook-container');\n",
       "if (notebookContainer) {{\n",
       "    x.observe(notebookContainer, {childList: true});\n",
       "}}\n",
       "\n",
       "// Listen for the clearing of the current output cell\n",
       "var outputEl = gd.closest('.output');\n",
       "if (outputEl) {{\n",
       "    x.observe(outputEl, {childList: true});\n",
       "}}\n",
       "\n",
       "                        })                };                });            </script>        </div>"
      ]
     },
     "metadata": {},
     "output_type": "display_data",
     "jetTransient": {
      "display_id": null
     }
    }
   ],
   "execution_count": 22
  },
  {
   "metadata": {
    "jupyter": {
     "is_executing": true
    },
    "ExecuteTime": {
     "start_time": "2025-09-25T09:54:25.394807Z"
    }
   },
   "cell_type": "code",
   "source": [
    "freqItemSet, rules = fpgrowth(transactions, minSupRatio=min_sup, minConf=0.8)\n",
    "output_fpgrowth(rules)"
   ],
   "id": "2165fdebec3463a1",
   "outputs": [],
   "execution_count": null
  },
  {
   "metadata": {
    "ExecuteTime": {
     "end_time": "2025-09-25T09:52:51.176779800Z",
     "start_time": "2025-09-25T09:50:22.500791Z"
    }
   },
   "cell_type": "code",
   "source": [
    "plt.bar(times.keys(), times.values(), color=['blue', 'green', 'orange'])\n",
    "plt.ylabel(\"Время (сек)\")\n",
    "plt.title(\"Сравнение времени построения правил\")\n",
    "plt.show()"
   ],
   "id": "30cbbe3e658be945",
   "outputs": [
    {
     "data": {
      "text/plain": [
       "<Figure size 640x480 with 1 Axes>"
      ],
      "image/png": "[encoded data removed]"
     },
     "metadata": {},
     "output_type": "display_data",
     "jetTransient": {
      "display_id": null
     }
    }
   ],
   "execution_count": 257
  }
 ],
 "metadata": {
  "kernelspec": {
   "display_name": "Python 3",
   "language": "python",
   "name": "python3"
  },
  "language_info": {
   "codemirror_mode": {
    "name": "ipython",
    "version": 2
   },
   "file_extension": ".py",
   "mimetype": "text/x-python",
   "name": "python",
   "nbconvert_exporter": "python",
   "pygments_lexer": "ipython2",
   "version": "2.7.6"
  }
 },
 "nbformat": 4,
 "nbformat_minor": 5
}
