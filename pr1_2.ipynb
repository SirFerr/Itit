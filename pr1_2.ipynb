{
 "cells": [
  {
   "metadata": {
    "ExecuteTime": {
     "end_time": "2025-09-20T07:36:01.378544Z",
     "start_time": "2025-09-20T07:36:01.375699Z"
    }
   },
   "cell_type": "code",
   "source": [
    "import time\n",
    "\n",
    "import pandas as pd\n",
    "from matplotlib import pyplot as plt\n",
    "from PyARMViz import *"
   ],
   "id": "dc06ec97e76843bf",
   "outputs": [],
   "execution_count": 33
  },
  {
   "metadata": {
    "ExecuteTime": {
     "end_time": "2025-09-20T07:36:01.594583Z",
     "start_time": "2025-09-20T07:36:01.388745Z"
    }
   },
   "cell_type": "code",
   "source": [
    "df = pd.read_csv('data/BreadBasket_DMS.csv')\n",
    "\n",
    "transactions = df.groupby('Transaction')['Item'].apply(list).tolist()\n",
    "\n",
    "total_transactions = len(transactions)"
   ],
   "id": "3e61c2a81b4a6ce1",
   "outputs": [],
   "execution_count": 34
  },
  {
   "metadata": {
    "ExecuteTime": {
     "end_time": "2025-09-20T07:36:01.602666Z",
     "start_time": "2025-09-20T07:36:01.599719Z"
    }
   },
   "cell_type": "code",
   "source": [
    "times = {}\n",
    "\n",
    "min_sup = 0.001"
   ],
   "id": "71010ee05eadd255",
   "outputs": [],
   "execution_count": 35
  },
  {
   "metadata": {},
   "cell_type": "markdown",
   "source": "apriori",
   "id": "3de46b4618ab0932"
  },
  {
   "metadata": {
    "ExecuteTime": {
     "end_time": "2025-09-20T07:36:06.356715Z",
     "start_time": "2025-09-20T07:36:01.609905Z"
    }
   },
   "cell_type": "code",
   "source": [
    "from apriori_python import apriori\n",
    "\n",
    "start = time.time()\n",
    "freqItemSet, rules = apriori(transactions, minSup=min_sup, minConf=0.6)\n",
    "times['apriori'] = time.time() - start\n",
    "\n",
    "n_trans = len(transactions)\n",
    "\n",
    "print(\"\\nАссоциативные правила (достоверность ≥ 60%):\")\n",
    "rules_pyarmviz = []\n",
    "\n",
    "for i, (antecedent, consequent, confidence) in enumerate(rules):\n",
    "    ant = frozenset(antecedent)\n",
    "    cons = frozenset(consequent)\n",
    "    union = ant | cons\n",
    "\n",
    "    count_ab = sum(1 for t in transactions if union.issubset(t))\n",
    "    count_a = sum(1 for t in transactions if ant.issubset(t))\n",
    "    count_b = sum(1 for t in transactions if cons.issubset(t))\n",
    "\n",
    "    support_ab = count_ab / n_trans\n",
    "    support_a = count_a / n_trans\n",
    "    support_b = count_b / n_trans\n",
    "\n",
    "    lift = support_ab / (support_a * support_b) if support_a * support_b else 0.0\n",
    "\n",
    "    print(f\"{i}: {set(antecedent)} -> {set(consequent)} \"\n",
    "          f\"Support = {support_ab:.3f} Confidence = {confidence:.3f} Lift = {lift:.3f}\")\n",
    "\n",
    "    rules_pyarmviz.append(\n",
    "        PyARMViz.Rule.Rule(\n",
    "            lhs=tuple(antecedent),\n",
    "            rhs=tuple(consequent),\n",
    "            count_full=count_ab,\n",
    "            count_lhs=count_a,\n",
    "            count_rhs=count_b,\n",
    "            num_transactions=n_trans\n",
    "        )\n",
    "    )\n"
   ],
   "id": "11ec5fbe01c25c59",
   "outputs": [
    {
     "name": "stdout",
     "output_type": "stream",
     "text": [
      "\n",
      "Ассоциативные правила (достоверность ≥ 60%):\n",
      "0: {'Hot chocolate', 'Cake'} -> {'Coffee'} Support = 0.007 Confidence = 0.602 Lift = 1.267\n",
      "1: {'Cookies', 'Juice'} -> {'Coffee'} Support = 0.004 Confidence = 0.603 Lift = 1.270\n",
      "2: {'Bakewell'} -> {'Coffee'} Support = 0.003 Confidence = 0.604 Lift = 1.272\n",
      "3: {'Granola'} -> {'Coffee'} Support = 0.002 Confidence = 0.607 Lift = 1.278\n",
      "4: {'Hot chocolate', 'Scone'} -> {'Coffee'} Support = 0.002 Confidence = 0.607 Lift = 1.278\n",
      "5: {'Cookies', 'Pastry'} -> {'Coffee'} Support = 0.002 Confidence = 0.607 Lift = 1.278\n",
      "6: {'Brownie', 'NONE'} -> {'Coffee'} Support = 0.001 Confidence = 0.609 Lift = 1.281\n",
      "7: {'Alfajores', 'NONE'} -> {'Coffee'} Support = 0.001 Confidence = 0.611 Lift = 1.286\n",
      "8: {'Medialuna', 'Toast'} -> {'Coffee'} Support = 0.001 Confidence = 0.611 Lift = 1.286\n",
      "9: {'Hot chocolate', 'Cookies'} -> {'Coffee'} Support = 0.004 Confidence = 0.614 Lift = 1.292\n",
      "10: {'Muffin', 'NONE'} -> {'Coffee'} Support = 0.001 Confidence = 0.619 Lift = 1.303\n",
      "11: {'Hot chocolate', 'NONE'} -> {'Coffee'} Support = 0.004 Confidence = 0.621 Lift = 1.306\n",
      "12: {'Cookies', 'Brownie'} -> {'Coffee'} Support = 0.002 Confidence = 0.625 Lift = 1.316\n",
      "13: {'Soup', 'NONE'} -> {'Coffee'} Support = 0.001 Confidence = 0.625 Lift = 1.316\n",
      "14: {'Salad'} -> {'Coffee'} Support = 0.007 Confidence = 0.626 Lift = 1.318\n",
      "15: {'Tartine'} -> {'Coffee'} Support = 0.003 Confidence = 0.630 Lift = 1.327\n",
      "16: {'Juice', 'Scone'} -> {'Coffee'} Support = 0.001 Confidence = 0.632 Lift = 1.329\n",
      "17: {'Brownie', 'Sandwich'} -> {'Coffee'} Support = 0.001 Confidence = 0.636 Lift = 1.339\n",
      "18: {'NONE', 'Pastry'} -> {'Coffee'} Support = 0.003 Confidence = 0.636 Lift = 1.339\n",
      "19: {'Hot chocolate', 'Medialuna'} -> {'Coffee'} Support = 0.003 Confidence = 0.644 Lift = 1.356\n",
      "20: {'Keeping It Local', 'Tea'} -> {'Coffee'} Support = 0.001 Confidence = 0.647 Lift = 1.362\n",
      "21: {'Muffin', 'Sandwich'} -> {'Coffee'} Support = 0.001 Confidence = 0.650 Lift = 1.368\n",
      "22: {'Jammie Dodgers', 'Juice'} -> {'Coffee'} Support = 0.001 Confidence = 0.650 Lift = 1.368\n",
      "23: {'Medialuna', 'Sandwich'} -> {'Coffee'} Support = 0.001 Confidence = 0.650 Lift = 1.368\n",
      "24: {'Cookies', 'Alfajores'} -> {'Coffee'} Support = 0.002 Confidence = 0.652 Lift = 1.373\n",
      "25: {'Soup', 'Sandwich'} -> {'Coffee'} Support = 0.004 Confidence = 0.654 Lift = 1.376\n",
      "26: {'NONE', 'Juice'} -> {'Coffee'} Support = 0.004 Confidence = 0.661 Lift = 1.391\n",
      "27: {'NONE', 'Cake'} -> {'Coffee'} Support = 0.003 Confidence = 0.667 Lift = 1.403\n",
      "28: {'Cookies', 'Medialuna'} -> {'Coffee'} Support = 0.002 Confidence = 0.667 Lift = 1.403\n",
      "29: {'Hot chocolate', 'Pastry'} -> {'Coffee'} Support = 0.004 Confidence = 0.667 Lift = 1.403\n",
      "30: {'Cake', 'Smoothies'} -> {'Coffee'} Support = 0.001 Confidence = 0.667 Lift = 1.403\n",
      "31: {'Spanish Brunch', 'Sandwich'} -> {'Coffee'} Support = 0.001 Confidence = 0.667 Lift = 1.403\n",
      "32: {'Hot chocolate', 'Pastry', 'Bread'} -> {'Coffee'} Support = 0.001 Confidence = 0.667 Lift = 1.403\n",
      "33: {'NONE', 'Spanish Brunch'} -> {'Coffee'} Support = 0.002 Confidence = 0.676 Lift = 1.424\n",
      "34: {'Cake', 'Sandwich'} -> {'Coffee'} Support = 0.005 Confidence = 0.677 Lift = 1.425\n",
      "35: {'Juice', 'Toast'} -> {'Coffee'} Support = 0.002 Confidence = 0.682 Lift = 1.435\n",
      "36: {'Cake', 'Tiffin'} -> {'Coffee'} Support = 0.002 Confidence = 0.682 Lift = 1.435\n",
      "37: {'Art Tray'} -> {'Coffee'} Support = 0.003 Confidence = 0.684 Lift = 1.440\n",
      "38: {'NONE', 'Medialuna'} -> {'Coffee'} Support = 0.003 Confidence = 0.684 Lift = 1.440\n",
      "39: {'Cake', 'Medialuna'} -> {'Coffee'} Support = 0.003 Confidence = 0.686 Lift = 1.443\n",
      "40: {'Toast'} -> {'Coffee'} Support = 0.024 Confidence = 0.704 Lift = 1.483\n",
      "41: {'Cake', 'Toast'} -> {'Coffee'} Support = 0.002 Confidence = 0.714 Lift = 1.504\n",
      "42: {'Tea', 'Cake', 'Sandwich'} -> {'Coffee'} Support = 0.001 Confidence = 0.714 Lift = 1.504\n",
      "43: {'Juice', 'Spanish Brunch'} -> {'Coffee'} Support = 0.002 Confidence = 0.731 Lift = 1.538\n",
      "44: {'Cookies', 'NONE'} -> {'Coffee'} Support = 0.002 Confidence = 0.741 Lift = 1.559\n",
      "45: {'NONE', 'Toast'} -> {'Coffee'} Support = 0.003 Confidence = 0.750 Lift = 1.579\n",
      "46: {'Extra Salami or Feta', 'NONE'} -> {'Coffee'} Support = 0.001 Confidence = 0.765 Lift = 1.610\n",
      "47: {'Salad', 'Cake'} -> {'Coffee'} Support = 0.001 Confidence = 0.769 Lift = 1.619\n",
      "48: {'Juice', 'Pastry'} -> {'Coffee'} Support = 0.002 Confidence = 0.773 Lift = 1.627\n",
      "49: {'Cookies', 'Scone'} -> {'Coffee'} Support = 0.002 Confidence = 0.789 Lift = 1.662\n",
      "50: {'Keeping It Local'} -> {'Coffee'} Support = 0.005 Confidence = 0.810 Lift = 1.704\n",
      "51: {'Extra Salami or Feta'} -> {'Coffee'} Support = 0.003 Confidence = 0.816 Lift = 1.717\n",
      "52: {'Vegan mincepie', 'Cake'} -> {'Coffee'} Support = 0.001 Confidence = 0.833 Lift = 1.754\n",
      "53: {'NONE', 'Scone'} -> {'Coffee'} Support = 0.002 Confidence = 0.833 Lift = 1.754\n",
      "54: {'Salad', 'Sandwich'} -> {'Coffee'} Support = 0.002 Confidence = 0.833 Lift = 1.754\n",
      "55: {'Hearty & Seasonal', 'Sandwich'} -> {'Coffee'} Support = 0.001 Confidence = 0.857 Lift = 1.804\n",
      "56: {'Pastry', 'Toast'} -> {'Coffee'} Support = 0.001 Confidence = 0.867 Lift = 1.824\n",
      "57: {'Extra Salami or Feta', 'Salad'} -> {'Coffee'} Support = 0.001 Confidence = 0.875 Lift = 1.842\n",
      "58: {'Hot chocolate', 'NONE', 'Medialuna'} -> {'Coffee'} Support = 0.001 Confidence = 0.909 Lift = 1.914\n",
      "59: {'Tartine', 'NONE'} -> {'Coffee'} Support = 0.001 Confidence = 0.923 Lift = 1.943\n"
     ]
    }
   ],
   "execution_count": 36
  },
  {
   "metadata": {
    "ExecuteTime": {
     "end_time": "2025-09-20T07:36:06.487207Z",
     "start_time": "2025-09-20T07:36:06.432374Z"
    }
   },
   "cell_type": "code",
   "source": [
    "PyARMViz.metadata_scatter_plot(rules_pyarmviz)\n",
    "PyARMViz.adjacency_graph_plotly(rules_pyarmviz)\n",
    "# PyARMViz.adjacency_parallel_coordinate_plot(rules_pyarmviz)\n",
    "# PyARMViz.adjacency_parallel_category_plot(rules_pyarmviz)"
   ],
   "id": "8defe2fc0b07a4eb",
   "outputs": [
    {
     "data": {
      "application/vnd.plotly.v1+json": {
       "data": [
        {
         "marker": {
          "color": [
           1.2717121245583036,
           1.2779767163048965,
           1.3182219723739157,
           1.3270039560608387,
           1.4401966710061374,
           1.4826988465897728,
           1.7039689550731953,
           1.7171575692765482
          ],
          "colorbar": {
           "title": {
            "text": "Lift"
           }
          },
          "colorscale": [
           [
            0.0,
            "rgb(243, 224, 247)"
           ],
           [
            0.16666666666666666,
            "rgb(228, 199, 241)"
           ],
           [
            0.3333333333333333,
            "rgb(209, 175, 232)"
           ],
           [
            0.5,
            "rgb(185, 152, 221)"
           ],
           [
            0.6666666666666666,
            "rgb(159, 130, 206)"
           ],
           [
            0.8333333333333334,
            "rgb(130, 109, 186)"
           ],
           [
            1.0,
            "rgb(99, 88, 159)"
           ]
          ]
         },
         "mode": "markers",
         "text": [
          "('Bakewell',) => ('Coffee',), Lift: 1.2717121245583036",
          "('Granola',) => ('Coffee',), Lift: 1.2779767163048965",
          "('Salad',) => ('Coffee',), Lift: 1.3182219723739157",
          "('Tartine',) => ('Coffee',), Lift: 1.3270039560608387",
          "('Art Tray',) => ('Coffee',), Lift: 1.4401966710061374",
          "('Toast',) => ('Coffee',), Lift: 1.4826988465897728",
          "('Keeping It Local',) => ('Coffee',), Lift: 1.7039689550731953",
          "('Extra Salami or Feta',) => ('Coffee',), Lift: 1.7171575692765482"
         ],
         "x": [
          0.0030427027594166402,
          0.0017836533417269962,
          0.006505088658063162,
          0.0030427027594166402,
          0.0027279404049942294,
          0.023502255796873362,
          0.0053509600251809885,
          0.003252544329031581
         ],
         "y": [
          0.6041666666666666,
          0.6071428571428571,
          0.6262626262626263,
          0.6304347826086957,
          0.6842105263157895,
          0.7044025157232704,
          0.8095238095238095,
          0.8157894736842105
         ],
         "type": "scatter"
        }
       ],
       "layout": {
        "template": {
         "data": {
          "histogram2dcontour": [
           {
            "type": "histogram2dcontour",
            "colorbar": {
             "outlinewidth": 0,
             "ticks": ""
            },
            "colorscale": [
             [
              0.0,
              "#0d0887"
             ],
             [
              0.1111111111111111,
              "#46039f"
             ],
             [
              0.2222222222222222,
              "#7201a8"
             ],
             [
              0.3333333333333333,
              "#9c179e"
             ],
             [
              0.4444444444444444,
              "#bd3786"
             ],
             [
              0.5555555555555556,
              "#d8576b"
             ],
             [
              0.6666666666666666,
              "#ed7953"
             ],
             [
              0.7777777777777778,
              "#fb9f3a"
             ],
             [
              0.8888888888888888,
              "#fdca26"
             ],
             [
              1.0,
              "#f0f921"
             ]
            ]
           }
          ],
          "choropleth": [
           {
            "type": "choropleth",
            "colorbar": {
             "outlinewidth": 0,
             "ticks": ""
            }
           }
          ],
          "histogram2d": [
           {
            "type": "histogram2d",
            "colorbar": {
             "outlinewidth": 0,
             "ticks": ""
            },
            "colorscale": [
             [
              0.0,
              "#0d0887"
             ],
             [
              0.1111111111111111,
              "#46039f"
             ],
             [
              0.2222222222222222,
              "#7201a8"
             ],
             [
              0.3333333333333333,
              "#9c179e"
             ],
             [
              0.4444444444444444,
              "#bd3786"
             ],
             [
              0.5555555555555556,
              "#d8576b"
             ],
             [
              0.6666666666666666,
              "#ed7953"
             ],
             [
              0.7777777777777778,
              "#fb9f3a"
             ],
             [
              0.8888888888888888,
              "#fdca26"
             ],
             [
              1.0,
              "#f0f921"
             ]
            ]
           }
          ],
          "heatmap": [
           {
            "type": "heatmap",
            "colorbar": {
             "outlinewidth": 0,
             "ticks": ""
            },
            "colorscale": [
             [
              0.0,
              "#0d0887"
             ],
             [
              0.1111111111111111,
              "#46039f"
             ],
             [
              0.2222222222222222,
              "#7201a8"
             ],
             [
              0.3333333333333333,
              "#9c179e"
             ],
             [
              0.4444444444444444,
              "#bd3786"
             ],
             [
              0.5555555555555556,
              "#d8576b"
             ],
             [
              0.6666666666666666,
              "#ed7953"
             ],
             [
              0.7777777777777778,
              "#fb9f3a"
             ],
             [
              0.8888888888888888,
              "#fdca26"
             ],
             [
              1.0,
              "#f0f921"
             ]
            ]
           }
          ],
          "heatmapgl": [
           {
            "type": "heatmapgl",
            "colorbar": {
             "outlinewidth": 0,
             "ticks": ""
            },
            "colorscale": [
             [
              0.0,
              "#0d0887"
             ],
             [
              0.1111111111111111,
              "#46039f"
             ],
             [
              0.2222222222222222,
              "#7201a8"
             ],
             [
              0.3333333333333333,
              "#9c179e"
             ],
             [
              0.4444444444444444,
              "#bd3786"
             ],
             [
              0.5555555555555556,
              "#d8576b"
             ],
             [
              0.6666666666666666,
              "#ed7953"
             ],
             [
              0.7777777777777778,
              "#fb9f3a"
             ],
             [
              0.8888888888888888,
              "#fdca26"
             ],
             [
              1.0,
              "#f0f921"
             ]
            ]
           }
          ],
          "contourcarpet": [
           {
            "type": "contourcarpet",
            "colorbar": {
             "outlinewidth": 0,
             "ticks": ""
            }
           }
          ],
          "contour": [
           {
            "type": "contour",
            "colorbar": {
             "outlinewidth": 0,
             "ticks": ""
            },
            "colorscale": [
             [
              0.0,
              "#0d0887"
             ],
             [
              0.1111111111111111,
              "#46039f"
             ],
             [
              0.2222222222222222,
              "#7201a8"
             ],
             [
              0.3333333333333333,
              "#9c179e"
             ],
             [
              0.4444444444444444,
              "#bd3786"
             ],
             [
              0.5555555555555556,
              "#d8576b"
             ],
             [
              0.6666666666666666,
              "#ed7953"
             ],
             [
              0.7777777777777778,
              "#fb9f3a"
             ],
             [
              0.8888888888888888,
              "#fdca26"
             ],
             [
              1.0,
              "#f0f921"
             ]
            ]
           }
          ],
          "surface": [
           {
            "type": "surface",
            "colorbar": {
             "outlinewidth": 0,
             "ticks": ""
            },
            "colorscale": [
             [
              0.0,
              "#0d0887"
             ],
             [
              0.1111111111111111,
              "#46039f"
             ],
             [
              0.2222222222222222,
              "#7201a8"
             ],
             [
              0.3333333333333333,
              "#9c179e"
             ],
             [
              0.4444444444444444,
              "#bd3786"
             ],
             [
              0.5555555555555556,
              "#d8576b"
             ],
             [
              0.6666666666666666,
              "#ed7953"
             ],
             [
              0.7777777777777778,
              "#fb9f3a"
             ],
             [
              0.8888888888888888,
              "#fdca26"
             ],
             [
              1.0,
              "#f0f921"
             ]
            ]
           }
          ],
          "mesh3d": [
           {
            "type": "mesh3d",
            "colorbar": {
             "outlinewidth": 0,
             "ticks": ""
            }
           }
          ],
          "scatter": [
           {
            "fillpattern": {
             "fillmode": "overlay",
             "size": 10,
             "solidity": 0.2
            },
            "type": "scatter"
           }
          ],
          "parcoords": [
           {
            "type": "parcoords",
            "line": {
             "colorbar": {
              "outlinewidth": 0,
              "ticks": ""
             }
            }
           }
          ],
          "scatterpolargl": [
           {
            "type": "scatterpolargl",
            "marker": {
             "colorbar": {
              "outlinewidth": 0,
              "ticks": ""
             }
            }
           }
          ],
          "bar": [
           {
            "error_x": {
             "color": "#2a3f5f"
            },
            "error_y": {
             "color": "#2a3f5f"
            },
            "marker": {
             "line": {
              "color": "#E5ECF6",
              "width": 0.5
             },
             "pattern": {
              "fillmode": "overlay",
              "size": 10,
              "solidity": 0.2
             }
            },
            "type": "bar"
           }
          ],
          "scattergeo": [
           {
            "type": "scattergeo",
            "marker": {
             "colorbar": {
              "outlinewidth": 0,
              "ticks": ""
             }
            }
           }
          ],
          "scatterpolar": [
           {
            "type": "scatterpolar",
            "marker": {
             "colorbar": {
              "outlinewidth": 0,
              "ticks": ""
             }
            }
           }
          ],
          "histogram": [
           {
            "marker": {
             "pattern": {
              "fillmode": "overlay",
              "size": 10,
              "solidity": 0.2
             }
            },
            "type": "histogram"
           }
          ],
          "scattergl": [
           {
            "type": "scattergl",
            "marker": {
             "colorbar": {
              "outlinewidth": 0,
              "ticks": ""
             }
            }
           }
          ],
          "scatter3d": [
           {
            "type": "scatter3d",
            "line": {
             "colorbar": {
              "outlinewidth": 0,
              "ticks": ""
             }
            },
            "marker": {
             "colorbar": {
              "outlinewidth": 0,
              "ticks": ""
             }
            }
           }
          ],
          "scattermapbox": [
           {
            "type": "scattermapbox",
            "marker": {
             "colorbar": {
              "outlinewidth": 0,
              "ticks": ""
             }
            }
           }
          ],
          "scatterternary": [
           {
            "type": "scatterternary",
            "marker": {
             "colorbar": {
              "outlinewidth": 0,
              "ticks": ""
             }
            }
           }
          ],
          "scattercarpet": [
           {
            "type": "scattercarpet",
            "marker": {
             "colorbar": {
              "outlinewidth": 0,
              "ticks": ""
             }
            }
           }
          ],
          "carpet": [
           {
            "aaxis": {
             "endlinecolor": "#2a3f5f",
             "gridcolor": "white",
             "linecolor": "white",
             "minorgridcolor": "white",
             "startlinecolor": "#2a3f5f"
            },
            "baxis": {
             "endlinecolor": "#2a3f5f",
             "gridcolor": "white",
             "linecolor": "white",
             "minorgridcolor": "white",
             "startlinecolor": "#2a3f5f"
            },
            "type": "carpet"
           }
          ],
          "table": [
           {
            "cells": {
             "fill": {
              "color": "#EBF0F8"
             },
             "line": {
              "color": "white"
             }
            },
            "header": {
             "fill": {
              "color": "#C8D4E3"
             },
             "line": {
              "color": "white"
             }
            },
            "type": "table"
           }
          ],
          "barpolar": [
           {
            "marker": {
             "line": {
              "color": "#E5ECF6",
              "width": 0.5
             },
             "pattern": {
              "fillmode": "overlay",
              "size": 10,
              "solidity": 0.2
             }
            },
            "type": "barpolar"
           }
          ],
          "pie": [
           {
            "automargin": true,
            "type": "pie"
           }
          ]
         },
         "layout": {
          "autotypenumbers": "strict",
          "colorway": [
           "#636efa",
           "#EF553B",
           "#00cc96",
           "#ab63fa",
           "#FFA15A",
           "#19d3f3",
           "#FF6692",
           "#B6E880",
           "#FF97FF",
           "#FECB52"
          ],
          "font": {
           "color": "#2a3f5f"
          },
          "hovermode": "closest",
          "hoverlabel": {
           "align": "left"
          },
          "paper_bgcolor": "white",
          "plot_bgcolor": "#E5ECF6",
          "polar": {
           "bgcolor": "#E5ECF6",
           "angularaxis": {
            "gridcolor": "white",
            "linecolor": "white",
            "ticks": ""
           },
           "radialaxis": {
            "gridcolor": "white",
            "linecolor": "white",
            "ticks": ""
           }
          },
          "ternary": {
           "bgcolor": "#E5ECF6",
           "aaxis": {
            "gridcolor": "white",
            "linecolor": "white",
            "ticks": ""
           },
           "baxis": {
            "gridcolor": "white",
            "linecolor": "white",
            "ticks": ""
           },
           "caxis": {
            "gridcolor": "white",
            "linecolor": "white",
            "ticks": ""
           }
          },
          "coloraxis": {
           "colorbar": {
            "outlinewidth": 0,
            "ticks": ""
           }
          },
          "colorscale": {
           "sequential": [
            [
             0.0,
             "#0d0887"
            ],
            [
             0.1111111111111111,
             "#46039f"
            ],
            [
             0.2222222222222222,
             "#7201a8"
            ],
            [
             0.3333333333333333,
             "#9c179e"
            ],
            [
             0.4444444444444444,
             "#bd3786"
            ],
            [
             0.5555555555555556,
             "#d8576b"
            ],
            [
             0.6666666666666666,
             "#ed7953"
            ],
            [
             0.7777777777777778,
             "#fb9f3a"
            ],
            [
             0.8888888888888888,
             "#fdca26"
            ],
            [
             1.0,
             "#f0f921"
            ]
           ],
           "sequentialminus": [
            [
             0.0,
             "#0d0887"
            ],
            [
             0.1111111111111111,
             "#46039f"
            ],
            [
             0.2222222222222222,
             "#7201a8"
            ],
            [
             0.3333333333333333,
             "#9c179e"
            ],
            [
             0.4444444444444444,
             "#bd3786"
            ],
            [
             0.5555555555555556,
             "#d8576b"
            ],
            [
             0.6666666666666666,
             "#ed7953"
            ],
            [
             0.7777777777777778,
             "#fb9f3a"
            ],
            [
             0.8888888888888888,
             "#fdca26"
            ],
            [
             1.0,
             "#f0f921"
            ]
           ],
           "diverging": [
            [
             0,
             "#8e0152"
            ],
            [
             0.1,
             "#c51b7d"
            ],
            [
             0.2,
             "#de77ae"
            ],
            [
             0.3,
             "#f1b6da"
            ],
            [
             0.4,
             "#fde0ef"
            ],
            [
             0.5,
             "#f7f7f7"
            ],
            [
             0.6,
             "#e6f5d0"
            ],
            [
             0.7,
             "#b8e186"
            ],
            [
             0.8,
             "#7fbc41"
            ],
            [
             0.9,
             "#4d9221"
            ],
            [
             1,
             "#276419"
            ]
           ]
          },
          "xaxis": {
           "gridcolor": "white",
           "linecolor": "white",
           "ticks": "",
           "title": {
            "standoff": 15
           },
           "zerolinecolor": "white",
           "automargin": true,
           "zerolinewidth": 2
          },
          "yaxis": {
           "gridcolor": "white",
           "linecolor": "white",
           "ticks": "",
           "title": {
            "standoff": 15
           },
           "zerolinecolor": "white",
           "automargin": true,
           "zerolinewidth": 2
          },
          "scene": {
           "xaxis": {
            "backgroundcolor": "#E5ECF6",
            "gridcolor": "white",
            "linecolor": "white",
            "showbackground": true,
            "ticks": "",
            "zerolinecolor": "white",
            "gridwidth": 2
           },
           "yaxis": {
            "backgroundcolor": "#E5ECF6",
            "gridcolor": "white",
            "linecolor": "white",
            "showbackground": true,
            "ticks": "",
            "zerolinecolor": "white",
            "gridwidth": 2
           },
           "zaxis": {
            "backgroundcolor": "#E5ECF6",
            "gridcolor": "white",
            "linecolor": "white",
            "showbackground": true,
            "ticks": "",
            "zerolinecolor": "white",
            "gridwidth": 2
           }
          },
          "shapedefaults": {
           "line": {
            "color": "#2a3f5f"
           }
          },
          "annotationdefaults": {
           "arrowcolor": "#2a3f5f",
           "arrowhead": 0,
           "arrowwidth": 1
          },
          "geo": {
           "bgcolor": "white",
           "landcolor": "#E5ECF6",
           "subunitcolor": "white",
           "showland": true,
           "showlakes": true,
           "lakecolor": "white"
          },
          "title": {
           "x": 0.05
          },
          "mapbox": {
           "style": "light"
          }
         }
        },
        "xaxis": {
         "title": {
          "text": "Support"
         },
         "autorange": "reversed"
        },
        "title": {
         "text": "Association Rules Strength Distribution"
        },
        "yaxis": {
         "title": {
          "text": "Confidence"
         }
        }
       },
       "config": {
        "plotlyServerURL": "https://plot.ly"
       }
      },
      "text/html": [
       "<div>                            <div id=\"53259b2e-95d2-407e-9ab7-0814d1c2e150\" class=\"plotly-graph-div\" style=\"height:525px; width:100%;\"></div>            <script type=\"text/javascript\">                require([\"plotly\"], function(Plotly) {                    window.PLOTLYENV=window.PLOTLYENV || {};                                    if (document.getElementById(\"53259b2e-95d2-407e-9ab7-0814d1c2e150\")) {                    Plotly.newPlot(                        \"53259b2e-95d2-407e-9ab7-0814d1c2e150\",                        [{\"marker\":{\"color\":[1.2717121245583036,1.2779767163048965,1.3182219723739157,1.3270039560608387,1.4401966710061374,1.4826988465897728,1.7039689550731953,1.7171575692765482],\"colorbar\":{\"title\":{\"text\":\"Lift\"}},\"colorscale\":[[0.0,\"rgb(243, 224, 247)\"],[0.16666666666666666,\"rgb(228, 199, 241)\"],[0.3333333333333333,\"rgb(209, 175, 232)\"],[0.5,\"rgb(185, 152, 221)\"],[0.6666666666666666,\"rgb(159, 130, 206)\"],[0.8333333333333334,\"rgb(130, 109, 186)\"],[1.0,\"rgb(99, 88, 159)\"]]},\"mode\":\"markers\",\"text\":[\"('Bakewell',) =\\u003e ('Coffee',), Lift: 1.2717121245583036\",\"('Granola',) =\\u003e ('Coffee',), Lift: 1.2779767163048965\",\"('Salad',) =\\u003e ('Coffee',), Lift: 1.3182219723739157\",\"('Tartine',) =\\u003e ('Coffee',), Lift: 1.3270039560608387\",\"('Art Tray',) =\\u003e ('Coffee',), Lift: 1.4401966710061374\",\"('Toast',) =\\u003e ('Coffee',), Lift: 1.4826988465897728\",\"('Keeping It Local',) =\\u003e ('Coffee',), Lift: 1.7039689550731953\",\"('Extra Salami or Feta',) =\\u003e ('Coffee',), Lift: 1.7171575692765482\"],\"x\":[0.0030427027594166402,0.0017836533417269962,0.006505088658063162,0.0030427027594166402,0.0027279404049942294,0.023502255796873362,0.0053509600251809885,0.003252544329031581],\"y\":[0.6041666666666666,0.6071428571428571,0.6262626262626263,0.6304347826086957,0.6842105263157895,0.7044025157232704,0.8095238095238095,0.8157894736842105],\"type\":\"scatter\"}],                        {\"template\":{\"data\":{\"histogram2dcontour\":[{\"type\":\"histogram2dcontour\",\"colorbar\":{\"outlinewidth\":0,\"ticks\":\"\"},\"colorscale\":[[0.0,\"#0d0887\"],[0.1111111111111111,\"#46039f\"],[0.2222222222222222,\"#7201a8\"],[0.3333333333333333,\"#9c179e\"],[0.4444444444444444,\"#bd3786\"],[0.5555555555555556,\"#d8576b\"],[0.6666666666666666,\"#ed7953\"],[0.7777777777777778,\"#fb9f3a\"],[0.8888888888888888,\"#fdca26\"],[1.0,\"#f0f921\"]]}],\"choropleth\":[{\"type\":\"choropleth\",\"colorbar\":{\"outlinewidth\":0,\"ticks\":\"\"}}],\"histogram2d\":[{\"type\":\"histogram2d\",\"colorbar\":{\"outlinewidth\":0,\"ticks\":\"\"},\"colorscale\":[[0.0,\"#0d0887\"],[0.1111111111111111,\"#46039f\"],[0.2222222222222222,\"#7201a8\"],[0.3333333333333333,\"#9c179e\"],[0.4444444444444444,\"#bd3786\"],[0.5555555555555556,\"#d8576b\"],[0.6666666666666666,\"#ed7953\"],[0.7777777777777778,\"#fb9f3a\"],[0.8888888888888888,\"#fdca26\"],[1.0,\"#f0f921\"]]}],\"heatmap\":[{\"type\":\"heatmap\",\"colorbar\":{\"outlinewidth\":0,\"ticks\":\"\"},\"colorscale\":[[0.0,\"#0d0887\"],[0.1111111111111111,\"#46039f\"],[0.2222222222222222,\"#7201a8\"],[0.3333333333333333,\"#9c179e\"],[0.4444444444444444,\"#bd3786\"],[0.5555555555555556,\"#d8576b\"],[0.6666666666666666,\"#ed7953\"],[0.7777777777777778,\"#fb9f3a\"],[0.8888888888888888,\"#fdca26\"],[1.0,\"#f0f921\"]]}],\"heatmapgl\":[{\"type\":\"heatmapgl\",\"colorbar\":{\"outlinewidth\":0,\"ticks\":\"\"},\"colorscale\":[[0.0,\"#0d0887\"],[0.1111111111111111,\"#46039f\"],[0.2222222222222222,\"#7201a8\"],[0.3333333333333333,\"#9c179e\"],[0.4444444444444444,\"#bd3786\"],[0.5555555555555556,\"#d8576b\"],[0.6666666666666666,\"#ed7953\"],[0.7777777777777778,\"#fb9f3a\"],[0.8888888888888888,\"#fdca26\"],[1.0,\"#f0f921\"]]}],\"contourcarpet\":[{\"type\":\"contourcarpet\",\"colorbar\":{\"outlinewidth\":0,\"ticks\":\"\"}}],\"contour\":[{\"type\":\"contour\",\"colorbar\":{\"outlinewidth\":0,\"ticks\":\"\"},\"colorscale\":[[0.0,\"#0d0887\"],[0.1111111111111111,\"#46039f\"],[0.2222222222222222,\"#7201a8\"],[0.3333333333333333,\"#9c179e\"],[0.4444444444444444,\"#bd3786\"],[0.5555555555555556,\"#d8576b\"],[0.6666666666666666,\"#ed7953\"],[0.7777777777777778,\"#fb9f3a\"],[0.8888888888888888,\"#fdca26\"],[1.0,\"#f0f921\"]]}],\"surface\":[{\"type\":\"surface\",\"colorbar\":{\"outlinewidth\":0,\"ticks\":\"\"},\"colorscale\":[[0.0,\"#0d0887\"],[0.1111111111111111,\"#46039f\"],[0.2222222222222222,\"#7201a8\"],[0.3333333333333333,\"#9c179e\"],[0.4444444444444444,\"#bd3786\"],[0.5555555555555556,\"#d8576b\"],[0.6666666666666666,\"#ed7953\"],[0.7777777777777778,\"#fb9f3a\"],[0.8888888888888888,\"#fdca26\"],[1.0,\"#f0f921\"]]}],\"mesh3d\":[{\"type\":\"mesh3d\",\"colorbar\":{\"outlinewidth\":0,\"ticks\":\"\"}}],\"scatter\":[{\"fillpattern\":{\"fillmode\":\"overlay\",\"size\":10,\"solidity\":0.2},\"type\":\"scatter\"}],\"parcoords\":[{\"type\":\"parcoords\",\"line\":{\"colorbar\":{\"outlinewidth\":0,\"ticks\":\"\"}}}],\"scatterpolargl\":[{\"type\":\"scatterpolargl\",\"marker\":{\"colorbar\":{\"outlinewidth\":0,\"ticks\":\"\"}}}],\"bar\":[{\"error_x\":{\"color\":\"#2a3f5f\"},\"error_y\":{\"color\":\"#2a3f5f\"},\"marker\":{\"line\":{\"color\":\"#E5ECF6\",\"width\":0.5},\"pattern\":{\"fillmode\":\"overlay\",\"size\":10,\"solidity\":0.2}},\"type\":\"bar\"}],\"scattergeo\":[{\"type\":\"scattergeo\",\"marker\":{\"colorbar\":{\"outlinewidth\":0,\"ticks\":\"\"}}}],\"scatterpolar\":[{\"type\":\"scatterpolar\",\"marker\":{\"colorbar\":{\"outlinewidth\":0,\"ticks\":\"\"}}}],\"histogram\":[{\"marker\":{\"pattern\":{\"fillmode\":\"overlay\",\"size\":10,\"solidity\":0.2}},\"type\":\"histogram\"}],\"scattergl\":[{\"type\":\"scattergl\",\"marker\":{\"colorbar\":{\"outlinewidth\":0,\"ticks\":\"\"}}}],\"scatter3d\":[{\"type\":\"scatter3d\",\"line\":{\"colorbar\":{\"outlinewidth\":0,\"ticks\":\"\"}},\"marker\":{\"colorbar\":{\"outlinewidth\":0,\"ticks\":\"\"}}}],\"scattermapbox\":[{\"type\":\"scattermapbox\",\"marker\":{\"colorbar\":{\"outlinewidth\":0,\"ticks\":\"\"}}}],\"scatterternary\":[{\"type\":\"scatterternary\",\"marker\":{\"colorbar\":{\"outlinewidth\":0,\"ticks\":\"\"}}}],\"scattercarpet\":[{\"type\":\"scattercarpet\",\"marker\":{\"colorbar\":{\"outlinewidth\":0,\"ticks\":\"\"}}}],\"carpet\":[{\"aaxis\":{\"endlinecolor\":\"#2a3f5f\",\"gridcolor\":\"white\",\"linecolor\":\"white\",\"minorgridcolor\":\"white\",\"startlinecolor\":\"#2a3f5f\"},\"baxis\":{\"endlinecolor\":\"#2a3f5f\",\"gridcolor\":\"white\",\"linecolor\":\"white\",\"minorgridcolor\":\"white\",\"startlinecolor\":\"#2a3f5f\"},\"type\":\"carpet\"}],\"table\":[{\"cells\":{\"fill\":{\"color\":\"#EBF0F8\"},\"line\":{\"color\":\"white\"}},\"header\":{\"fill\":{\"color\":\"#C8D4E3\"},\"line\":{\"color\":\"white\"}},\"type\":\"table\"}],\"barpolar\":[{\"marker\":{\"line\":{\"color\":\"#E5ECF6\",\"width\":0.5},\"pattern\":{\"fillmode\":\"overlay\",\"size\":10,\"solidity\":0.2}},\"type\":\"barpolar\"}],\"pie\":[{\"automargin\":true,\"type\":\"pie\"}]},\"layout\":{\"autotypenumbers\":\"strict\",\"colorway\":[\"#636efa\",\"#EF553B\",\"#00cc96\",\"#ab63fa\",\"#FFA15A\",\"#19d3f3\",\"#FF6692\",\"#B6E880\",\"#FF97FF\",\"#FECB52\"],\"font\":{\"color\":\"#2a3f5f\"},\"hovermode\":\"closest\",\"hoverlabel\":{\"align\":\"left\"},\"paper_bgcolor\":\"white\",\"plot_bgcolor\":\"#E5ECF6\",\"polar\":{\"bgcolor\":\"#E5ECF6\",\"angularaxis\":{\"gridcolor\":\"white\",\"linecolor\":\"white\",\"ticks\":\"\"},\"radialaxis\":{\"gridcolor\":\"white\",\"linecolor\":\"white\",\"ticks\":\"\"}},\"ternary\":{\"bgcolor\":\"#E5ECF6\",\"aaxis\":{\"gridcolor\":\"white\",\"linecolor\":\"white\",\"ticks\":\"\"},\"baxis\":{\"gridcolor\":\"white\",\"linecolor\":\"white\",\"ticks\":\"\"},\"caxis\":{\"gridcolor\":\"white\",\"linecolor\":\"white\",\"ticks\":\"\"}},\"coloraxis\":{\"colorbar\":{\"outlinewidth\":0,\"ticks\":\"\"}},\"colorscale\":{\"sequential\":[[0.0,\"#0d0887\"],[0.1111111111111111,\"#46039f\"],[0.2222222222222222,\"#7201a8\"],[0.3333333333333333,\"#9c179e\"],[0.4444444444444444,\"#bd3786\"],[0.5555555555555556,\"#d8576b\"],[0.6666666666666666,\"#ed7953\"],[0.7777777777777778,\"#fb9f3a\"],[0.8888888888888888,\"#fdca26\"],[1.0,\"#f0f921\"]],\"sequentialminus\":[[0.0,\"#0d0887\"],[0.1111111111111111,\"#46039f\"],[0.2222222222222222,\"#7201a8\"],[0.3333333333333333,\"#9c179e\"],[0.4444444444444444,\"#bd3786\"],[0.5555555555555556,\"#d8576b\"],[0.6666666666666666,\"#ed7953\"],[0.7777777777777778,\"#fb9f3a\"],[0.8888888888888888,\"#fdca26\"],[1.0,\"#f0f921\"]],\"diverging\":[[0,\"#8e0152\"],[0.1,\"#c51b7d\"],[0.2,\"#de77ae\"],[0.3,\"#f1b6da\"],[0.4,\"#fde0ef\"],[0.5,\"#f7f7f7\"],[0.6,\"#e6f5d0\"],[0.7,\"#b8e186\"],[0.8,\"#7fbc41\"],[0.9,\"#4d9221\"],[1,\"#276419\"]]},\"xaxis\":{\"gridcolor\":\"white\",\"linecolor\":\"white\",\"ticks\":\"\",\"title\":{\"standoff\":15},\"zerolinecolor\":\"white\",\"automargin\":true,\"zerolinewidth\":2},\"yaxis\":{\"gridcolor\":\"white\",\"linecolor\":\"white\",\"ticks\":\"\",\"title\":{\"standoff\":15},\"zerolinecolor\":\"white\",\"automargin\":true,\"zerolinewidth\":2},\"scene\":{\"xaxis\":{\"backgroundcolor\":\"#E5ECF6\",\"gridcolor\":\"white\",\"linecolor\":\"white\",\"showbackground\":true,\"ticks\":\"\",\"zerolinecolor\":\"white\",\"gridwidth\":2},\"yaxis\":{\"backgroundcolor\":\"#E5ECF6\",\"gridcolor\":\"white\",\"linecolor\":\"white\",\"showbackground\":true,\"ticks\":\"\",\"zerolinecolor\":\"white\",\"gridwidth\":2},\"zaxis\":{\"backgroundcolor\":\"#E5ECF6\",\"gridcolor\":\"white\",\"linecolor\":\"white\",\"showbackground\":true,\"ticks\":\"\",\"zerolinecolor\":\"white\",\"gridwidth\":2}},\"shapedefaults\":{\"line\":{\"color\":\"#2a3f5f\"}},\"annotationdefaults\":{\"arrowcolor\":\"#2a3f5f\",\"arrowhead\":0,\"arrowwidth\":1},\"geo\":{\"bgcolor\":\"white\",\"landcolor\":\"#E5ECF6\",\"subunitcolor\":\"white\",\"showland\":true,\"showlakes\":true,\"lakecolor\":\"white\"},\"title\":{\"x\":0.05},\"mapbox\":{\"style\":\"light\"}}},\"xaxis\":{\"title\":{\"text\":\"Support\"},\"autorange\":\"reversed\"},\"title\":{\"text\":\"Association Rules Strength Distribution\"},\"yaxis\":{\"title\":{\"text\":\"Confidence\"}}},                        {\"responsive\": true}                    ).then(function(){\n",
       "                            \n",
       "var gd = document.getElementById('53259b2e-95d2-407e-9ab7-0814d1c2e150');\n",
       "var x = new MutationObserver(function (mutations, observer) {{\n",
       "        var display = window.getComputedStyle(gd).display;\n",
       "        if (!display || display === 'none') {{\n",
       "            console.log([gd, 'removed!']);\n",
       "            Plotly.purge(gd);\n",
       "            observer.disconnect();\n",
       "        }}\n",
       "}});\n",
       "\n",
       "// Listen for the removal of the full notebook cells\n",
       "var notebookContainer = gd.closest('#notebook-container');\n",
       "if (notebookContainer) {{\n",
       "    x.observe(notebookContainer, {childList: true});\n",
       "}}\n",
       "\n",
       "// Listen for the clearing of the current output cell\n",
       "var outputEl = gd.closest('.output');\n",
       "if (outputEl) {{\n",
       "    x.observe(outputEl, {childList: true});\n",
       "}}\n",
       "\n",
       "                        })                };                });            </script>        </div>"
      ]
     },
     "metadata": {},
     "output_type": "display_data",
     "jetTransient": {
      "display_id": null
     }
    },
    {
     "data": {
      "application/vnd.plotly.v1+json": {
       "data": [
        {
         "hoverinfo": "none",
         "line": {
          "color": "#888",
          "width": 0.5
         },
         "mode": "lines",
         "x": [
          0.14393641818585146,
          -0.1363812972961848,
          null,
          -0.03178360789276997,
          0.14393641818585146,
          null,
          -0.03178360789276997,
          -0.3015694157489086,
          null,
          -0.03178360789276997,
          -0.5791535937965477,
          null,
          -0.03178360789276997,
          -0.13555338424172192,
          null,
          -0.03178360789276997,
          0.037603280164858095,
          null,
          -0.03178360789276997,
          0.4741074882827279,
          null,
          -0.03178360789276997,
          0.42800148782776054,
          null,
          -0.03178360789276997,
          -0.5636071379301795,
          null,
          0.1745362163290333,
          0.14393641818585146,
          null,
          0.1745362163290333,
          0.21688616461331292,
          null,
          0.1745362163290333,
          0.3500300136832501,
          null,
          0.1745362163290333,
          -0.21740018541572909,
          null,
          0.1745362163290333,
          -0.3459568207279982,
          null,
          0.1745362163290333,
          -0.6446755025678436,
          null,
          0.1745362163290333,
          0.39971083412524344,
          null,
          0.1745362163290333,
          0.1657934199332281,
          null,
          0.1745362163290333,
          -0.4587982978666351,
          null,
          0.1745362163290333,
          0.20918549997574346,
          null,
          -0.23299987310438955,
          -0.1363812972961848,
          null,
          -0.0099530824128012,
          -0.23299987310438955,
          null,
          -0.0099530824128012,
          0.1744278400338678,
          null,
          -0.0099530824128012,
          -0.5791535937965477,
          null,
          -0.0099530824128012,
          0.3286567519452136,
          null,
          -0.0099530824128012,
          0.1878349083290053,
          null,
          -0.0099530824128012,
          -0.5977113559339544,
          null,
          -0.0099530824128012,
          -0.2233172224698691,
          null,
          -0.0099530824128012,
          0.34177931432216097,
          null,
          -0.10305803364658081,
          -0.23299987310438955,
          null,
          -0.10305803364658081,
          -0.0500448696206671,
          null,
          -0.10305803364658081,
          -0.23014382311763149,
          null,
          -0.10305803364658081,
          -0.3732579819355807,
          null,
          -0.10305803364658081,
          -0.13697536899610405,
          null,
          -0.10305803364658081,
          0.09305951962246688,
          null,
          -0.10305803364658081,
          0.1034903436547692,
          null,
          -0.5359291350566827,
          -0.1363812972961848,
          null,
          -0.7448860163444573,
          -0.5359291350566827,
          null,
          -0.1809772390118028,
          -0.1363812972961848,
          null,
          -0.1045496673419848,
          -0.1809772390118028,
          null,
          -0.3015694157489086,
          -0.1363812972961848,
          null,
          -0.04571057981864839,
          -0.3015694157489086,
          null,
          -0.04571057981864839,
          -0.0500448696206671,
          null,
          -0.04571057981864839,
          0.34177931432216097,
          null,
          -0.04571057981864839,
          -0.3601192825098973,
          null,
          0.1744278400338678,
          -0.1363812972961848,
          null,
          0.292084417129829,
          0.1744278400338678,
          null,
          0.292084417129829,
          -0.3520142166651992,
          null,
          0.292084417129829,
          0.4741074882827279,
          null,
          0.292084417129829,
          0.42800148782776054,
          null,
          0.292084417129829,
          0.1034903436547692,
          null,
          0.292084417129829,
          -0.013697119041089358,
          null,
          0.3228305349835459,
          -0.1363812972961848,
          null,
          0.6285095810364467,
          0.3228305349835459,
          null,
          0.6285095810364467,
          0.3286567519452136,
          null,
          0.6285095810364467,
          0.3347190385533978,
          null,
          -0.0662538491523682,
          0.3228305349835459,
          null,
          -0.0662538491523682,
          -0.1524069061620567,
          null,
          -0.0662538491523682,
          0.2359674893010037,
          null,
          -0.0662538491523682,
          -0.13555338424172192,
          null,
          -0.0662538491523682,
          -0.428560173196108,
          null,
          -0.0662538491523682,
          -0.3520142166651992,
          null,
          -0.0662538491523682,
          -0.3732579819355807,
          null,
          -0.0662538491523682,
          0.21688616461331292,
          null,
          -0.0662538491523682,
          -0.42098001029863497,
          null,
          -0.0662538491523682,
          0.07338557707604151,
          null,
          -0.0662538491523682,
          -0.2233172224698691,
          null,
          -0.0662538491523682,
          -0.5469725315460334,
          null,
          -0.0662538491523682,
          -0.3966099936356374,
          null,
          -0.0662538491523682,
          -0.3601192825098973,
          null,
          -0.0662538491523682,
          -0.5636071379301795,
          null,
          -0.0662538491523682,
          0.1792014946323802,
          null,
          -0.1524069061620567,
          -0.1363812972961848,
          null,
          0.32879244360284926,
          -0.1524069061620567,
          null,
          0.32879244360284926,
          0.1878349083290053,
          null,
          -0.3616278830066149,
          -0.1363812972961848,
          null,
          -0.3057476677301779,
          -0.3616278830066149,
          null,
          -0.3057476677301779,
          0.037603280164858095,
          null,
          -0.3057476677301779,
          0.05537560907269705,
          null,
          -0.3057476677301779,
          -0.5977113559339544,
          null,
          -0.3057476677301779,
          0.07338557707604151,
          null,
          -0.3057476677301779,
          -0.6446755025678436,
          null,
          -0.3057476677301779,
          -0.5636071379301795,
          null,
          0.029797498985321285,
          -0.3616278830066149,
          null,
          0.029797498985321285,
          -0.13697536899610405,
          null,
          0.029797498985321285,
          0.4440571522755972,
          null,
          0.029797498985321285,
          0.39971083412524344,
          null,
          0.029797498985321285,
          -0.5469725315460334,
          null,
          0.029797498985321285,
          -0.013697119041089358,
          null,
          -0.5791535937965477,
          -0.1363812972961848,
          null,
          0.2359674893010037,
          -0.1363812972961848,
          null,
          0.5385604607077352,
          0.2359674893010037,
          null,
          0.5385604607077352,
          0.2793074537809738,
          null,
          -0.13555338424172192,
          -0.1363812972961848,
          null,
          0.3286567519452136,
          -0.1363812972961848,
          null,
          -0.428560173196108,
          -0.1363812972961848,
          null,
          -0.39861712310408437,
          -0.428560173196108,
          null,
          -0.39861712310408437,
          -0.4806129103178434,
          null,
          -0.16144717180820475,
          -0.1363812972961848,
          null,
          -0.2729039164397711,
          -0.16144717180820475,
          null,
          -0.2729039164397711,
          -0.4587982978666351,
          null,
          -0.2729039164397711,
          -0.5281121088021198,
          null,
          -0.2729039164397711,
          0.21311565207192326,
          null,
          0.2840164307290737,
          -0.1363812972961848,
          null,
          0.6159294461739452,
          0.2840164307290737,
          null,
          0.6159294461739452,
          0.1792014946323802,
          null,
          -0.0500448696206671,
          -0.1363812972961848,
          null,
          0.3347190385533978,
          -0.1363812972961848,
          null,
          -0.015614114668627789,
          0.3347190385533978,
          null,
          -0.015614114668627789,
          0.2793074537809738,
          null,
          -0.015614114668627789,
          0.05537560907269705,
          null,
          -0.015614114668627789,
          -0.4806129103178434,
          null,
          -0.015614114668627789,
          0.19624935742652153,
          null,
          -0.015614114668627789,
          -0.21740018541572909,
          null,
          -0.015614114668627789,
          0.1657934199332281,
          null,
          -0.015614114668627789,
          -0.5281121088021198,
          null,
          -0.015614114668627789,
          0.13103099060105416,
          null,
          -0.3520142166651992,
          -0.1363812972961848,
          null,
          0.037603280164858095,
          -0.1363812972961848,
          null,
          0.08270097433138568,
          -0.1363812972961848,
          null,
          0.5161320367890564,
          0.08270097433138568,
          null,
          0.5161320367890564,
          0.27674277297165456,
          null,
          0.47273410133339216,
          0.08270097433138568,
          null,
          0.47273410133339216,
          0.1657934199332281,
          null,
          0.2793074537809738,
          -0.1363812972961848,
          null,
          -0.23014382311763149,
          -0.1363812972961848,
          null,
          0.3546456041783619,
          -0.23014382311763149,
          null,
          0.05537560907269705,
          -0.1363812972961848,
          null,
          0.1878349083290053,
          -0.1363812972961848,
          null,
          -0.4806129103178434,
          -0.1363812972961848,
          null,
          -0.3732579819355807,
          -0.1363812972961848,
          null,
          0.21688616461331292,
          -0.1363812972961848,
          null,
          -0.5977113559339544,
          -0.1363812972961848,
          null,
          0.4741074882827279,
          -0.1363812972961848,
          null,
          0.3500300136832501,
          -0.1363812972961848,
          null,
          0.9028741813253102,
          0.3500300136832501,
          null,
          0.19624935742652153,
          -0.1363812972961848,
          null,
          -0.0962549225420636,
          0.19624935742652153,
          null,
          -0.0962549225420636,
          -0.42098001029863497,
          null,
          -0.0962549225420636,
          0.09305951962246688,
          null,
          0.42800148782776054,
          -0.1363812972961848,
          null,
          0.8459582519393533,
          0.42800148782776054,
          null,
          -0.42098001029863497,
          -0.1363812972961848,
          null,
          -0.21740018541572909,
          -0.1363812972961848,
          null,
          -0.13697536899610405,
          -0.1363812972961848,
          null,
          -0.3459568207279982,
          -0.1363812972961848,
          null,
          -0.39165710678708743,
          -0.3459568207279982,
          null,
          -0.4759810525828208,
          -0.1363812972961848,
          null,
          -0.482919224986331,
          -0.4759810525828208,
          null,
          0.07338557707604151,
          -0.1363812972961848,
          null,
          -0.6446755025678436,
          -0.1363812972961848,
          null,
          0.4440571522755972,
          -0.1363812972961848,
          null,
          0.39971083412524344,
          -0.1363812972961848,
          null,
          0.1657934199332281,
          -0.1363812972961848,
          null,
          0.09305951962246688,
          -0.1363812972961848,
          null,
          -0.2233172224698691,
          -0.1363812972961848,
          null,
          -0.5469725315460334,
          -0.1363812972961848,
          null,
          -0.3966099936356374,
          -0.1363812972961848,
          null,
          -0.02998248597455871,
          -0.3966099936356374,
          null,
          -0.02998248597455871,
          0.22167058082636884,
          null,
          -0.02998248597455871,
          0.21311565207192326,
          null,
          -0.4587982978666351,
          -0.1363812972961848,
          null,
          0.1034903436547692,
          -0.1363812972961848,
          null,
          0.34177931432216097,
          -0.1363812972961848,
          null,
          0.27674277297165456,
          -0.1363812972961848,
          null,
          0.22167058082636884,
          -0.1363812972961848,
          null,
          0.20918549997574346,
          -0.1363812972961848,
          null,
          0.7199898459742814,
          0.20918549997574346,
          null,
          -0.3601192825098973,
          -0.1363812972961848,
          null,
          -0.5281121088021198,
          -0.1363812972961848,
          null,
          0.13103099060105416,
          -0.1363812972961848,
          null,
          0.3180667844149847,
          0.13103099060105416,
          null,
          -0.013697119041089358,
          -0.1363812972961848,
          null,
          0.21311565207192326,
          -0.1363812972961848,
          null,
          -0.5636071379301795,
          -0.1363812972961848,
          null,
          0.1792014946323802,
          -0.1363812972961848,
          null
         ],
         "y": [
          0.28011130943513096,
          -0.5594853773809316,
          null,
          0.19302155983907263,
          0.28011130943513096,
          null,
          0.19302155983907263,
          -0.27984380500740763,
          null,
          0.19302155983907263,
          -0.18241197294362854,
          null,
          0.19302155983907263,
          0.3464669454692876,
          null,
          0.19302155983907263,
          0.4757641450506275,
          null,
          0.19302155983907263,
          -0.41554823704376953,
          null,
          0.19302155983907263,
          -0.20435964548960275,
          null,
          0.19302155983907263,
          -0.32230292939384664,
          null,
          0.4937366301584063,
          0.28011130943513096,
          null,
          0.4937366301584063,
          -0.6710322388258421,
          null,
          0.4937366301584063,
          -0.20832137641771284,
          null,
          0.4937366301584063,
          -0.8202991036224344,
          null,
          0.4937366301584063,
          0.12667004261482614,
          null,
          0.4937366301584063,
          -0.1538790560428198,
          null,
          0.4937366301584063,
          -0.4397661047914721,
          null,
          0.4937366301584063,
          0.13546052397589795,
          null,
          0.4937366301584063,
          -0.1395587315091509,
          null,
          0.4937366301584063,
          -0.7703634913670441,
          null,
          0.3160607720564857,
          -0.5594853773809316,
          null,
          0.18628095743767975,
          0.3160607720564857,
          null,
          0.18628095743767975,
          0.750286147129432,
          null,
          0.18628095743767975,
          -0.18241197294362854,
          null,
          0.18628095743767975,
          -0.0725536487522703,
          null,
          0.18628095743767975,
          -0.3800779628588849,
          null,
          0.18628095743767975,
          -0.448205695172425,
          null,
          0.18628095743767975,
          0.2308029645614951,
          null,
          0.18628095743767975,
          -0.36245671248628963,
          null,
          -0.07102418693232794,
          0.3160607720564857,
          null,
          -0.07102418693232794,
          -0.8103629566324961,
          null,
          -0.07102418693232794,
          -0.10392606160885944,
          null,
          -0.07102418693232794,
          -0.8438069945904799,
          null,
          -0.07102418693232794,
          0.25398157009604855,
          null,
          -0.07102418693232794,
          0.17514347753025195,
          null,
          -0.07102418693232794,
          -0.18592003631252466,
          null,
          -0.14371532768407252,
          -0.5594853773809316,
          null,
          0.5458724660263882,
          -0.14371532768407252,
          null,
          0.003330846664348769,
          -0.5594853773809316,
          null,
          0.8404011332520624,
          0.003330846664348769,
          null,
          -0.27984380500740763,
          -0.5594853773809316,
          null,
          -0.32965354271040687,
          -0.27984380500740763,
          null,
          -0.32965354271040687,
          -0.8103629566324961,
          null,
          -0.32965354271040687,
          -0.36245671248628963,
          null,
          -0.32965354271040687,
          -0.12219027887791149,
          null,
          0.750286147129432,
          -0.5594853773809316,
          null,
          0.3981486995536557,
          0.750286147129432,
          null,
          0.3981486995536557,
          0.005739134734473028,
          null,
          0.3981486995536557,
          -0.41554823704376953,
          null,
          0.3981486995536557,
          -0.20435964548960275,
          null,
          0.3981486995536557,
          -0.18592003631252466,
          null,
          0.3981486995536557,
          0.3397670984285462,
          null,
          0.18451974836424984,
          -0.5594853773809316,
          null,
          0.2500185261996936,
          0.18451974836424984,
          null,
          0.2500185261996936,
          -0.0725536487522703,
          null,
          0.2500185261996936,
          -0.59546262991411,
          null,
          0.4086221037484542,
          0.18451974836424984,
          null,
          0.4086221037484542,
          0.42278282258753597,
          null,
          0.4086221037484542,
          0.30797108576103194,
          null,
          0.4086221037484542,
          0.3464669454692876,
          null,
          0.4086221037484542,
          0.013408366536282568,
          null,
          0.4086221037484542,
          0.005739134734473028,
          null,
          0.4086221037484542,
          -0.8438069945904799,
          null,
          0.4086221037484542,
          -0.6710322388258421,
          null,
          0.4086221037484542,
          -0.23839101893872994,
          null,
          0.4086221037484542,
          -0.29379760379214204,
          null,
          0.4086221037484542,
          0.2308029645614951,
          null,
          0.4086221037484542,
          0.05574206436231468,
          null,
          0.4086221037484542,
          -0.5948003611958171,
          null,
          0.4086221037484542,
          -0.12219027887791149,
          null,
          0.4086221037484542,
          -0.32230292939384664,
          null,
          0.4086221037484542,
          -0.047485795590140434,
          null,
          0.42278282258753597,
          -0.5594853773809316,
          null,
          0.43488476781604285,
          0.42278282258753597,
          null,
          0.43488476781604285,
          -0.3800779628588849,
          null,
          0.299937133228037,
          -0.5594853773809316,
          null,
          0.2798475506047671,
          0.299937133228037,
          null,
          0.2798475506047671,
          0.4757641450506275,
          null,
          0.2798475506047671,
          0.3616188285310187,
          null,
          0.2798475506047671,
          -0.448205695172425,
          null,
          0.2798475506047671,
          -0.29379760379214204,
          null,
          0.2798475506047671,
          -0.1538790560428198,
          null,
          0.2798475506047671,
          -0.32230292939384664,
          null,
          0.06875062848146006,
          0.299937133228037,
          null,
          0.06875062848146006,
          0.25398157009604855,
          null,
          0.06875062848146006,
          -0.3017690863324236,
          null,
          0.06875062848146006,
          -0.4397661047914721,
          null,
          0.06875062848146006,
          0.05574206436231468,
          null,
          0.06875062848146006,
          0.3397670984285462,
          null,
          -0.18241197294362854,
          -0.5594853773809316,
          null,
          0.30797108576103194,
          -0.5594853773809316,
          null,
          0.6006926082854191,
          0.30797108576103194,
          null,
          0.6006926082854191,
          -0.23836775521082473,
          null,
          0.3464669454692876,
          -0.5594853773809316,
          null,
          -0.0725536487522703,
          -0.5594853773809316,
          null,
          0.013408366536282568,
          -0.5594853773809316,
          null,
          0.7858289106339443,
          0.013408366536282568,
          null,
          0.7858289106339443,
          0.05069929365410615,
          null,
          -0.19621140522425531,
          -0.5594853773809316,
          null,
          -0.027675419422856035,
          -0.19621140522425531,
          null,
          -0.027675419422856035,
          -0.1395587315091509,
          null,
          -0.027675419422856035,
          -0.6245969835653968,
          null,
          -0.027675419422856035,
          0.1703305710180284,
          null,
          -0.4403012521325503,
          -0.5594853773809316,
          null,
          -0.1793805806602338,
          -0.4403012521325503,
          null,
          -0.1793805806602338,
          -0.047485795590140434,
          null,
          -0.8103629566324961,
          -0.5594853773809316,
          null,
          -0.59546262991411,
          -0.5594853773809316,
          null,
          -0.08566795254876866,
          -0.59546262991411,
          null,
          -0.08566795254876866,
          -0.23836775521082473,
          null,
          -0.08566795254876866,
          0.3616188285310187,
          null,
          -0.08566795254876866,
          0.05069929365410615,
          null,
          -0.08566795254876866,
          -0.28596415374868517,
          null,
          -0.08566795254876866,
          -0.8202991036224344,
          null,
          -0.08566795254876866,
          0.13546052397589795,
          null,
          -0.08566795254876866,
          -0.6245969835653968,
          null,
          -0.08566795254876866,
          0.35176115927031476,
          null,
          0.005739134734473028,
          -0.5594853773809316,
          null,
          0.4757641450506275,
          -0.5594853773809316,
          null,
          -0.8114890307734464,
          -0.5594853773809316,
          null,
          0.03146758219874711,
          -0.8114890307734464,
          null,
          0.03146758219874711,
          0.152230533314168,
          null,
          0.3355713478323783,
          -0.8114890307734464,
          null,
          0.3355713478323783,
          0.13546052397589795,
          null,
          -0.23836775521082473,
          -0.5594853773809316,
          null,
          -0.10392606160885944,
          -0.5594853773809316,
          null,
          0.14170582121276548,
          -0.10392606160885944,
          null,
          0.3616188285310187,
          -0.5594853773809316,
          null,
          -0.3800779628588849,
          -0.5594853773809316,
          null,
          0.05069929365410615,
          -0.5594853773809316,
          null,
          -0.8438069945904799,
          -0.5594853773809316,
          null,
          -0.6710322388258421,
          -0.5594853773809316,
          null,
          -0.448205695172425,
          -0.5594853773809316,
          null,
          -0.41554823704376953,
          -0.5594853773809316,
          null,
          -0.20832137641771284,
          -0.5594853773809316,
          null,
          -0.11626865473458238,
          -0.20832137641771284,
          null,
          -0.28596415374868517,
          -0.5594853773809316,
          null,
          0.18212259075344883,
          -0.28596415374868517,
          null,
          0.18212259075344883,
          -0.23839101893872994,
          null,
          0.18212259075344883,
          0.17514347753025195,
          null,
          -0.20435964548960275,
          -0.5594853773809316,
          null,
          0.4900013110990072,
          -0.20435964548960275,
          null,
          -0.23839101893872994,
          -0.5594853773809316,
          null,
          -0.8202991036224344,
          -0.5594853773809316,
          null,
          0.25398157009604855,
          -0.5594853773809316,
          null,
          0.12667004261482614,
          -0.5594853773809316,
          null,
          0.8984719423664532,
          0.12667004261482614,
          null,
          -0.4650420521295105,
          -0.5594853773809316,
          null,
          0.5631564857409482,
          -0.4650420521295105,
          null,
          -0.29379760379214204,
          -0.5594853773809316,
          null,
          -0.1538790560428198,
          -0.5594853773809316,
          null,
          -0.3017690863324236,
          -0.5594853773809316,
          null,
          -0.4397661047914721,
          -0.5594853773809316,
          null,
          0.13546052397589795,
          -0.5594853773809316,
          null,
          0.17514347753025195,
          -0.5594853773809316,
          null,
          0.2308029645614951,
          -0.5594853773809316,
          null,
          0.05574206436231468,
          -0.5594853773809316,
          null,
          -0.5948003611958171,
          -0.5594853773809316,
          null,
          -0.1536603274649566,
          -0.5948003611958171,
          null,
          -0.1536603274649566,
          -0.14492433772596083,
          null,
          -0.1536603274649566,
          0.1703305710180284,
          null,
          -0.1395587315091509,
          -0.5594853773809316,
          null,
          -0.18592003631252466,
          -0.5594853773809316,
          null,
          -0.36245671248628963,
          -0.5594853773809316,
          null,
          0.152230533314168,
          -0.5594853773809316,
          null,
          -0.14492433772596083,
          -0.5594853773809316,
          null,
          -0.7703634913670441,
          -0.5594853773809316,
          null,
          -0.05686833205493533,
          -0.7703634913670441,
          null,
          -0.12219027887791149,
          -0.5594853773809316,
          null,
          -0.6245969835653968,
          -0.5594853773809316,
          null,
          0.35176115927031476,
          -0.5594853773809316,
          null,
          1.0,
          0.35176115927031476,
          null,
          0.3397670984285462,
          -0.5594853773809316,
          null,
          0.1703305710180284,
          -0.5594853773809316,
          null,
          -0.32230292939384664,
          -0.5594853773809316,
          null,
          -0.047485795590140434,
          -0.5594853773809316,
          null
         ],
         "type": "scatter"
        },
        {
         "hoverinfo": "text",
         "marker": {
          "color": [],
          "colorbar": {
           "thickness": 15,
           "title": {
            "side": "right",
            "text": "Node Connections"
           },
           "xanchor": "left"
          },
          "colorscale": [
           [
            0.0,
            "rgb(255,255,217)"
           ],
           [
            0.125,
            "rgb(237,248,177)"
           ],
           [
            0.25,
            "rgb(199,233,180)"
           ],
           [
            0.375,
            "rgb(127,205,187)"
           ],
           [
            0.5,
            "rgb(65,182,196)"
           ],
           [
            0.625,
            "rgb(29,145,192)"
           ],
           [
            0.75,
            "rgb(34,94,168)"
           ],
           [
            0.875,
            "rgb(37,52,148)"
           ],
           [
            1.0,
            "rgb(8,29,88)"
           ]
          ],
          "line": {
           "width": 2
          },
          "reversescale": true,
          "showscale": true,
          "size": 10
         },
         "mode": "markers",
         "text": [
          "0",
          "Hot chocolate",
          "Cake",
          "Coffee",
          "1",
          "Cookies",
          "Juice",
          "2",
          "Bakewell",
          "3",
          "Granola",
          "4",
          "Scone",
          "5",
          "Pastry",
          "6",
          "Brownie",
          "NONE",
          "7",
          "Alfajores",
          "8",
          "Medialuna",
          "Toast",
          "9",
          "10",
          "Muffin",
          "11",
          "12",
          "13",
          "Soup",
          "14",
          "Salad",
          "15",
          "Tartine",
          "16",
          "17",
          "Sandwich",
          "18",
          "19",
          "20",
          "Keeping It Local",
          "Tea",
          "21",
          "22",
          "Jammie Dodgers",
          "23",
          "24",
          "25",
          "26",
          "27",
          "28",
          "29",
          "30",
          "Smoothies",
          "31",
          "Spanish Brunch",
          "32",
          "Bread",
          "33",
          "34",
          "35",
          "36",
          "Tiffin",
          "37",
          "Art Tray",
          "38",
          "39",
          "40",
          "41",
          "42",
          "43",
          "44",
          "45",
          "46",
          "Extra Salami or Feta",
          "47",
          "48",
          "49",
          "50",
          "51",
          "52",
          "Vegan mincepie",
          "53",
          "54",
          "55",
          "Hearty & Seasonal",
          "56",
          "57",
          "58",
          "59"
         ],
         "x": [
          0.14393641818585146,
          -0.03178360789276997,
          0.1745362163290333,
          -0.1363812972961848,
          -0.23299987310438955,
          -0.0099530824128012,
          -0.10305803364658081,
          -0.5359291350566827,
          -0.7448860163444573,
          -0.1809772390118028,
          -0.1045496673419848,
          -0.3015694157489086,
          -0.04571057981864839,
          0.1744278400338678,
          0.292084417129829,
          0.3228305349835459,
          0.6285095810364467,
          -0.0662538491523682,
          -0.1524069061620567,
          0.32879244360284926,
          -0.3616278830066149,
          -0.3057476677301779,
          0.029797498985321285,
          -0.5791535937965477,
          0.2359674893010037,
          0.5385604607077352,
          -0.13555338424172192,
          0.3286567519452136,
          -0.428560173196108,
          -0.39861712310408437,
          -0.16144717180820475,
          -0.2729039164397711,
          0.2840164307290737,
          0.6159294461739452,
          -0.0500448696206671,
          0.3347190385533978,
          -0.015614114668627789,
          -0.3520142166651992,
          0.037603280164858095,
          0.08270097433138568,
          0.5161320367890564,
          0.47273410133339216,
          0.2793074537809738,
          -0.23014382311763149,
          0.3546456041783619,
          0.05537560907269705,
          0.1878349083290053,
          -0.4806129103178434,
          -0.3732579819355807,
          0.21688616461331292,
          -0.5977113559339544,
          0.4741074882827279,
          0.3500300136832501,
          0.9028741813253102,
          0.19624935742652153,
          -0.0962549225420636,
          0.42800148782776054,
          0.8459582519393533,
          -0.42098001029863497,
          -0.21740018541572909,
          -0.13697536899610405,
          -0.3459568207279982,
          -0.39165710678708743,
          -0.4759810525828208,
          -0.482919224986331,
          0.07338557707604151,
          -0.6446755025678436,
          0.4440571522755972,
          0.39971083412524344,
          0.1657934199332281,
          0.09305951962246688,
          -0.2233172224698691,
          -0.5469725315460334,
          -0.3966099936356374,
          -0.02998248597455871,
          -0.4587982978666351,
          0.1034903436547692,
          0.34177931432216097,
          0.27674277297165456,
          0.22167058082636884,
          0.20918549997574346,
          0.7199898459742814,
          -0.3601192825098973,
          -0.5281121088021198,
          0.13103099060105416,
          0.3180667844149847,
          -0.013697119041089358,
          0.21311565207192326,
          -0.5636071379301795,
          0.1792014946323802
         ],
         "y": [
          0.28011130943513096,
          0.19302155983907263,
          0.4937366301584063,
          -0.5594853773809316,
          0.3160607720564857,
          0.18628095743767975,
          -0.07102418693232794,
          -0.14371532768407252,
          0.5458724660263882,
          0.003330846664348769,
          0.8404011332520624,
          -0.27984380500740763,
          -0.32965354271040687,
          0.750286147129432,
          0.3981486995536557,
          0.18451974836424984,
          0.2500185261996936,
          0.4086221037484542,
          0.42278282258753597,
          0.43488476781604285,
          0.299937133228037,
          0.2798475506047671,
          0.06875062848146006,
          -0.18241197294362854,
          0.30797108576103194,
          0.6006926082854191,
          0.3464669454692876,
          -0.0725536487522703,
          0.013408366536282568,
          0.7858289106339443,
          -0.19621140522425531,
          -0.027675419422856035,
          -0.4403012521325503,
          -0.1793805806602338,
          -0.8103629566324961,
          -0.59546262991411,
          -0.08566795254876866,
          0.005739134734473028,
          0.4757641450506275,
          -0.8114890307734464,
          0.03146758219874711,
          0.3355713478323783,
          -0.23836775521082473,
          -0.10392606160885944,
          0.14170582121276548,
          0.3616188285310187,
          -0.3800779628588849,
          0.05069929365410615,
          -0.8438069945904799,
          -0.6710322388258421,
          -0.448205695172425,
          -0.41554823704376953,
          -0.20832137641771284,
          -0.11626865473458238,
          -0.28596415374868517,
          0.18212259075344883,
          -0.20435964548960275,
          0.4900013110990072,
          -0.23839101893872994,
          -0.8202991036224344,
          0.25398157009604855,
          0.12667004261482614,
          0.8984719423664532,
          -0.4650420521295105,
          0.5631564857409482,
          -0.29379760379214204,
          -0.1538790560428198,
          -0.3017690863324236,
          -0.4397661047914721,
          0.13546052397589795,
          0.17514347753025195,
          0.2308029645614951,
          0.05574206436231468,
          -0.5948003611958171,
          -0.1536603274649566,
          -0.1395587315091509,
          -0.18592003631252466,
          -0.36245671248628963,
          0.152230533314168,
          -0.14492433772596083,
          -0.7703634913670441,
          -0.05686833205493533,
          -0.12219027887791149,
          -0.6245969835653968,
          0.35176115927031476,
          1.0,
          0.3397670984285462,
          0.1703305710180284,
          -0.32230292939384664,
          -0.047485795590140434
         ],
         "type": "scatter"
        }
       ],
       "layout": {
        "annotations": [
         {
          "showarrow": false,
          "text": "Python code: <a href='https://plotly.com/ipython-notebooks/network-graphs/'> https://plotly.com/ipython-notebooks/network-graphs/</a>",
          "x": 0.005,
          "xref": "paper",
          "y": -0.002,
          "yref": "paper"
         }
        ],
        "hovermode": "closest",
        "margin": {
         "b": 20,
         "l": 5,
         "r": 5,
         "t": 40
        },
        "showlegend": false,
        "title": {
         "font": {
          "size": 16
         },
         "text": "<br>Network graph made with Python"
        },
        "xaxis": {
         "showgrid": false,
         "showticklabels": false,
         "zeroline": false
        },
        "yaxis": {
         "showgrid": false,
         "showticklabels": false,
         "zeroline": false
        },
        "template": {
         "data": {
          "histogram2dcontour": [
           {
            "type": "histogram2dcontour",
            "colorbar": {
             "outlinewidth": 0,
             "ticks": ""
            },
            "colorscale": [
             [
              0.0,
              "#0d0887"
             ],
             [
              0.1111111111111111,
              "#46039f"
             ],
             [
              0.2222222222222222,
              "#7201a8"
             ],
             [
              0.3333333333333333,
              "#9c179e"
             ],
             [
              0.4444444444444444,
              "#bd3786"
             ],
             [
              0.5555555555555556,
              "#d8576b"
             ],
             [
              0.6666666666666666,
              "#ed7953"
             ],
             [
              0.7777777777777778,
              "#fb9f3a"
             ],
             [
              0.8888888888888888,
              "#fdca26"
             ],
             [
              1.0,
              "#f0f921"
             ]
            ]
           }
          ],
          "choropleth": [
           {
            "type": "choropleth",
            "colorbar": {
             "outlinewidth": 0,
             "ticks": ""
            }
           }
          ],
          "histogram2d": [
           {
            "type": "histogram2d",
            "colorbar": {
             "outlinewidth": 0,
             "ticks": ""
            },
            "colorscale": [
             [
              0.0,
              "#0d0887"
             ],
             [
              0.1111111111111111,
              "#46039f"
             ],
             [
              0.2222222222222222,
              "#7201a8"
             ],
             [
              0.3333333333333333,
              "#9c179e"
             ],
             [
              0.4444444444444444,
              "#bd3786"
             ],
             [
              0.5555555555555556,
              "#d8576b"
             ],
             [
              0.6666666666666666,
              "#ed7953"
             ],
             [
              0.7777777777777778,
              "#fb9f3a"
             ],
             [
              0.8888888888888888,
              "#fdca26"
             ],
             [
              1.0,
              "#f0f921"
             ]
            ]
           }
          ],
          "heatmap": [
           {
            "type": "heatmap",
            "colorbar": {
             "outlinewidth": 0,
             "ticks": ""
            },
            "colorscale": [
             [
              0.0,
              "#0d0887"
             ],
             [
              0.1111111111111111,
              "#46039f"
             ],
             [
              0.2222222222222222,
              "#7201a8"
             ],
             [
              0.3333333333333333,
              "#9c179e"
             ],
             [
              0.4444444444444444,
              "#bd3786"
             ],
             [
              0.5555555555555556,
              "#d8576b"
             ],
             [
              0.6666666666666666,
              "#ed7953"
             ],
             [
              0.7777777777777778,
              "#fb9f3a"
             ],
             [
              0.8888888888888888,
              "#fdca26"
             ],
             [
              1.0,
              "#f0f921"
             ]
            ]
           }
          ],
          "heatmapgl": [
           {
            "type": "heatmapgl",
            "colorbar": {
             "outlinewidth": 0,
             "ticks": ""
            },
            "colorscale": [
             [
              0.0,
              "#0d0887"
             ],
             [
              0.1111111111111111,
              "#46039f"
             ],
             [
              0.2222222222222222,
              "#7201a8"
             ],
             [
              0.3333333333333333,
              "#9c179e"
             ],
             [
              0.4444444444444444,
              "#bd3786"
             ],
             [
              0.5555555555555556,
              "#d8576b"
             ],
             [
              0.6666666666666666,
              "#ed7953"
             ],
             [
              0.7777777777777778,
              "#fb9f3a"
             ],
             [
              0.8888888888888888,
              "#fdca26"
             ],
             [
              1.0,
              "#f0f921"
             ]
            ]
           }
          ],
          "contourcarpet": [
           {
            "type": "contourcarpet",
            "colorbar": {
             "outlinewidth": 0,
             "ticks": ""
            }
           }
          ],
          "contour": [
           {
            "type": "contour",
            "colorbar": {
             "outlinewidth": 0,
             "ticks": ""
            },
            "colorscale": [
             [
              0.0,
              "#0d0887"
             ],
             [
              0.1111111111111111,
              "#46039f"
             ],
             [
              0.2222222222222222,
              "#7201a8"
             ],
             [
              0.3333333333333333,
              "#9c179e"
             ],
             [
              0.4444444444444444,
              "#bd3786"
             ],
             [
              0.5555555555555556,
              "#d8576b"
             ],
             [
              0.6666666666666666,
              "#ed7953"
             ],
             [
              0.7777777777777778,
              "#fb9f3a"
             ],
             [
              0.8888888888888888,
              "#fdca26"
             ],
             [
              1.0,
              "#f0f921"
             ]
            ]
           }
          ],
          "surface": [
           {
            "type": "surface",
            "colorbar": {
             "outlinewidth": 0,
             "ticks": ""
            },
            "colorscale": [
             [
              0.0,
              "#0d0887"
             ],
             [
              0.1111111111111111,
              "#46039f"
             ],
             [
              0.2222222222222222,
              "#7201a8"
             ],
             [
              0.3333333333333333,
              "#9c179e"
             ],
             [
              0.4444444444444444,
              "#bd3786"
             ],
             [
              0.5555555555555556,
              "#d8576b"
             ],
             [
              0.6666666666666666,
              "#ed7953"
             ],
             [
              0.7777777777777778,
              "#fb9f3a"
             ],
             [
              0.8888888888888888,
              "#fdca26"
             ],
             [
              1.0,
              "#f0f921"
             ]
            ]
           }
          ],
          "mesh3d": [
           {
            "type": "mesh3d",
            "colorbar": {
             "outlinewidth": 0,
             "ticks": ""
            }
           }
          ],
          "scatter": [
           {
            "fillpattern": {
             "fillmode": "overlay",
             "size": 10,
             "solidity": 0.2
            },
            "type": "scatter"
           }
          ],
          "parcoords": [
           {
            "type": "parcoords",
            "line": {
             "colorbar": {
              "outlinewidth": 0,
              "ticks": ""
             }
            }
           }
          ],
          "scatterpolargl": [
           {
            "type": "scatterpolargl",
            "marker": {
             "colorbar": {
              "outlinewidth": 0,
              "ticks": ""
             }
            }
           }
          ],
          "bar": [
           {
            "error_x": {
             "color": "#2a3f5f"
            },
            "error_y": {
             "color": "#2a3f5f"
            },
            "marker": {
             "line": {
              "color": "#E5ECF6",
              "width": 0.5
             },
             "pattern": {
              "fillmode": "overlay",
              "size": 10,
              "solidity": 0.2
             }
            },
            "type": "bar"
           }
          ],
          "scattergeo": [
           {
            "type": "scattergeo",
            "marker": {
             "colorbar": {
              "outlinewidth": 0,
              "ticks": ""
             }
            }
           }
          ],
          "scatterpolar": [
           {
            "type": "scatterpolar",
            "marker": {
             "colorbar": {
              "outlinewidth": 0,
              "ticks": ""
             }
            }
           }
          ],
          "histogram": [
           {
            "marker": {
             "pattern": {
              "fillmode": "overlay",
              "size": 10,
              "solidity": 0.2
             }
            },
            "type": "histogram"
           }
          ],
          "scattergl": [
           {
            "type": "scattergl",
            "marker": {
             "colorbar": {
              "outlinewidth": 0,
              "ticks": ""
             }
            }
           }
          ],
          "scatter3d": [
           {
            "type": "scatter3d",
            "line": {
             "colorbar": {
              "outlinewidth": 0,
              "ticks": ""
             }
            },
            "marker": {
             "colorbar": {
              "outlinewidth": 0,
              "ticks": ""
             }
            }
           }
          ],
          "scattermapbox": [
           {
            "type": "scattermapbox",
            "marker": {
             "colorbar": {
              "outlinewidth": 0,
              "ticks": ""
             }
            }
           }
          ],
          "scatterternary": [
           {
            "type": "scatterternary",
            "marker": {
             "colorbar": {
              "outlinewidth": 0,
              "ticks": ""
             }
            }
           }
          ],
          "scattercarpet": [
           {
            "type": "scattercarpet",
            "marker": {
             "colorbar": {
              "outlinewidth": 0,
              "ticks": ""
             }
            }
           }
          ],
          "carpet": [
           {
            "aaxis": {
             "endlinecolor": "#2a3f5f",
             "gridcolor": "white",
             "linecolor": "white",
             "minorgridcolor": "white",
             "startlinecolor": "#2a3f5f"
            },
            "baxis": {
             "endlinecolor": "#2a3f5f",
             "gridcolor": "white",
             "linecolor": "white",
             "minorgridcolor": "white",
             "startlinecolor": "#2a3f5f"
            },
            "type": "carpet"
           }
          ],
          "table": [
           {
            "cells": {
             "fill": {
              "color": "#EBF0F8"
             },
             "line": {
              "color": "white"
             }
            },
            "header": {
             "fill": {
              "color": "#C8D4E3"
             },
             "line": {
              "color": "white"
             }
            },
            "type": "table"
           }
          ],
          "barpolar": [
           {
            "marker": {
             "line": {
              "color": "#E5ECF6",
              "width": 0.5
             },
             "pattern": {
              "fillmode": "overlay",
              "size": 10,
              "solidity": 0.2
             }
            },
            "type": "barpolar"
           }
          ],
          "pie": [
           {
            "automargin": true,
            "type": "pie"
           }
          ]
         },
         "layout": {
          "autotypenumbers": "strict",
          "colorway": [
           "#636efa",
           "#EF553B",
           "#00cc96",
           "#ab63fa",
           "#FFA15A",
           "#19d3f3",
           "#FF6692",
           "#B6E880",
           "#FF97FF",
           "#FECB52"
          ],
          "font": {
           "color": "#2a3f5f"
          },
          "hovermode": "closest",
          "hoverlabel": {
           "align": "left"
          },
          "paper_bgcolor": "white",
          "plot_bgcolor": "#E5ECF6",
          "polar": {
           "bgcolor": "#E5ECF6",
           "angularaxis": {
            "gridcolor": "white",
            "linecolor": "white",
            "ticks": ""
           },
           "radialaxis": {
            "gridcolor": "white",
            "linecolor": "white",
            "ticks": ""
           }
          },
          "ternary": {
           "bgcolor": "#E5ECF6",
           "aaxis": {
            "gridcolor": "white",
            "linecolor": "white",
            "ticks": ""
           },
           "baxis": {
            "gridcolor": "white",
            "linecolor": "white",
            "ticks": ""
           },
           "caxis": {
            "gridcolor": "white",
            "linecolor": "white",
            "ticks": ""
           }
          },
          "coloraxis": {
           "colorbar": {
            "outlinewidth": 0,
            "ticks": ""
           }
          },
          "colorscale": {
           "sequential": [
            [
             0.0,
             "#0d0887"
            ],
            [
             0.1111111111111111,
             "#46039f"
            ],
            [
             0.2222222222222222,
             "#7201a8"
            ],
            [
             0.3333333333333333,
             "#9c179e"
            ],
            [
             0.4444444444444444,
             "#bd3786"
            ],
            [
             0.5555555555555556,
             "#d8576b"
            ],
            [
             0.6666666666666666,
             "#ed7953"
            ],
            [
             0.7777777777777778,
             "#fb9f3a"
            ],
            [
             0.8888888888888888,
             "#fdca26"
            ],
            [
             1.0,
             "#f0f921"
            ]
           ],
           "sequentialminus": [
            [
             0.0,
             "#0d0887"
            ],
            [
             0.1111111111111111,
             "#46039f"
            ],
            [
             0.2222222222222222,
             "#7201a8"
            ],
            [
             0.3333333333333333,
             "#9c179e"
            ],
            [
             0.4444444444444444,
             "#bd3786"
            ],
            [
             0.5555555555555556,
             "#d8576b"
            ],
            [
             0.6666666666666666,
             "#ed7953"
            ],
            [
             0.7777777777777778,
             "#fb9f3a"
            ],
            [
             0.8888888888888888,
             "#fdca26"
            ],
            [
             1.0,
             "#f0f921"
            ]
           ],
           "diverging": [
            [
             0,
             "#8e0152"
            ],
            [
             0.1,
             "#c51b7d"
            ],
            [
             0.2,
             "#de77ae"
            ],
            [
             0.3,
             "#f1b6da"
            ],
            [
             0.4,
             "#fde0ef"
            ],
            [
             0.5,
             "#f7f7f7"
            ],
            [
             0.6,
             "#e6f5d0"
            ],
            [
             0.7,
             "#b8e186"
            ],
            [
             0.8,
             "#7fbc41"
            ],
            [
             0.9,
             "#4d9221"
            ],
            [
             1,
             "#276419"
            ]
           ]
          },
          "xaxis": {
           "gridcolor": "white",
           "linecolor": "white",
           "ticks": "",
           "title": {
            "standoff": 15
           },
           "zerolinecolor": "white",
           "automargin": true,
           "zerolinewidth": 2
          },
          "yaxis": {
           "gridcolor": "white",
           "linecolor": "white",
           "ticks": "",
           "title": {
            "standoff": 15
           },
           "zerolinecolor": "white",
           "automargin": true,
           "zerolinewidth": 2
          },
          "scene": {
           "xaxis": {
            "backgroundcolor": "#E5ECF6",
            "gridcolor": "white",
            "linecolor": "white",
            "showbackground": true,
            "ticks": "",
            "zerolinecolor": "white",
            "gridwidth": 2
           },
           "yaxis": {
            "backgroundcolor": "#E5ECF6",
            "gridcolor": "white",
            "linecolor": "white",
            "showbackground": true,
            "ticks": "",
            "zerolinecolor": "white",
            "gridwidth": 2
           },
           "zaxis": {
            "backgroundcolor": "#E5ECF6",
            "gridcolor": "white",
            "linecolor": "white",
            "showbackground": true,
            "ticks": "",
            "zerolinecolor": "white",
            "gridwidth": 2
           }
          },
          "shapedefaults": {
           "line": {
            "color": "#2a3f5f"
           }
          },
          "annotationdefaults": {
           "arrowcolor": "#2a3f5f",
           "arrowhead": 0,
           "arrowwidth": 1
          },
          "geo": {
           "bgcolor": "white",
           "landcolor": "#E5ECF6",
           "subunitcolor": "white",
           "showland": true,
           "showlakes": true,
           "lakecolor": "white"
          },
          "title": {
           "x": 0.05
          },
          "mapbox": {
           "style": "light"
          }
         }
        }
       },
       "config": {
        "plotlyServerURL": "https://plot.ly"
       }
      },
      "text/html": [
       "<div>                            <div id=\"e49ff827-ba67-4f81-b1ca-20d5e98b2d9d\" class=\"plotly-graph-div\" style=\"height:525px; width:100%;\"></div>            <script type=\"text/javascript\">                require([\"plotly\"], function(Plotly) {                    window.PLOTLYENV=window.PLOTLYENV || {};                                    if (document.getElementById(\"e49ff827-ba67-4f81-b1ca-20d5e98b2d9d\")) {                    Plotly.newPlot(                        \"e49ff827-ba67-4f81-b1ca-20d5e98b2d9d\",                        [{\"hoverinfo\":\"none\",\"line\":{\"color\":\"#888\",\"width\":0.5},\"mode\":\"lines\",\"x\":[0.14393641818585146,-0.1363812972961848,null,-0.03178360789276997,0.14393641818585146,null,-0.03178360789276997,-0.3015694157489086,null,-0.03178360789276997,-0.5791535937965477,null,-0.03178360789276997,-0.13555338424172192,null,-0.03178360789276997,0.037603280164858095,null,-0.03178360789276997,0.4741074882827279,null,-0.03178360789276997,0.42800148782776054,null,-0.03178360789276997,-0.5636071379301795,null,0.1745362163290333,0.14393641818585146,null,0.1745362163290333,0.21688616461331292,null,0.1745362163290333,0.3500300136832501,null,0.1745362163290333,-0.21740018541572909,null,0.1745362163290333,-0.3459568207279982,null,0.1745362163290333,-0.6446755025678436,null,0.1745362163290333,0.39971083412524344,null,0.1745362163290333,0.1657934199332281,null,0.1745362163290333,-0.4587982978666351,null,0.1745362163290333,0.20918549997574346,null,-0.23299987310438955,-0.1363812972961848,null,-0.0099530824128012,-0.23299987310438955,null,-0.0099530824128012,0.1744278400338678,null,-0.0099530824128012,-0.5791535937965477,null,-0.0099530824128012,0.3286567519452136,null,-0.0099530824128012,0.1878349083290053,null,-0.0099530824128012,-0.5977113559339544,null,-0.0099530824128012,-0.2233172224698691,null,-0.0099530824128012,0.34177931432216097,null,-0.10305803364658081,-0.23299987310438955,null,-0.10305803364658081,-0.0500448696206671,null,-0.10305803364658081,-0.23014382311763149,null,-0.10305803364658081,-0.3732579819355807,null,-0.10305803364658081,-0.13697536899610405,null,-0.10305803364658081,0.09305951962246688,null,-0.10305803364658081,0.1034903436547692,null,-0.5359291350566827,-0.1363812972961848,null,-0.7448860163444573,-0.5359291350566827,null,-0.1809772390118028,-0.1363812972961848,null,-0.1045496673419848,-0.1809772390118028,null,-0.3015694157489086,-0.1363812972961848,null,-0.04571057981864839,-0.3015694157489086,null,-0.04571057981864839,-0.0500448696206671,null,-0.04571057981864839,0.34177931432216097,null,-0.04571057981864839,-0.3601192825098973,null,0.1744278400338678,-0.1363812972961848,null,0.292084417129829,0.1744278400338678,null,0.292084417129829,-0.3520142166651992,null,0.292084417129829,0.4741074882827279,null,0.292084417129829,0.42800148782776054,null,0.292084417129829,0.1034903436547692,null,0.292084417129829,-0.013697119041089358,null,0.3228305349835459,-0.1363812972961848,null,0.6285095810364467,0.3228305349835459,null,0.6285095810364467,0.3286567519452136,null,0.6285095810364467,0.3347190385533978,null,-0.0662538491523682,0.3228305349835459,null,-0.0662538491523682,-0.1524069061620567,null,-0.0662538491523682,0.2359674893010037,null,-0.0662538491523682,-0.13555338424172192,null,-0.0662538491523682,-0.428560173196108,null,-0.0662538491523682,-0.3520142166651992,null,-0.0662538491523682,-0.3732579819355807,null,-0.0662538491523682,0.21688616461331292,null,-0.0662538491523682,-0.42098001029863497,null,-0.0662538491523682,0.07338557707604151,null,-0.0662538491523682,-0.2233172224698691,null,-0.0662538491523682,-0.5469725315460334,null,-0.0662538491523682,-0.3966099936356374,null,-0.0662538491523682,-0.3601192825098973,null,-0.0662538491523682,-0.5636071379301795,null,-0.0662538491523682,0.1792014946323802,null,-0.1524069061620567,-0.1363812972961848,null,0.32879244360284926,-0.1524069061620567,null,0.32879244360284926,0.1878349083290053,null,-0.3616278830066149,-0.1363812972961848,null,-0.3057476677301779,-0.3616278830066149,null,-0.3057476677301779,0.037603280164858095,null,-0.3057476677301779,0.05537560907269705,null,-0.3057476677301779,-0.5977113559339544,null,-0.3057476677301779,0.07338557707604151,null,-0.3057476677301779,-0.6446755025678436,null,-0.3057476677301779,-0.5636071379301795,null,0.029797498985321285,-0.3616278830066149,null,0.029797498985321285,-0.13697536899610405,null,0.029797498985321285,0.4440571522755972,null,0.029797498985321285,0.39971083412524344,null,0.029797498985321285,-0.5469725315460334,null,0.029797498985321285,-0.013697119041089358,null,-0.5791535937965477,-0.1363812972961848,null,0.2359674893010037,-0.1363812972961848,null,0.5385604607077352,0.2359674893010037,null,0.5385604607077352,0.2793074537809738,null,-0.13555338424172192,-0.1363812972961848,null,0.3286567519452136,-0.1363812972961848,null,-0.428560173196108,-0.1363812972961848,null,-0.39861712310408437,-0.428560173196108,null,-0.39861712310408437,-0.4806129103178434,null,-0.16144717180820475,-0.1363812972961848,null,-0.2729039164397711,-0.16144717180820475,null,-0.2729039164397711,-0.4587982978666351,null,-0.2729039164397711,-0.5281121088021198,null,-0.2729039164397711,0.21311565207192326,null,0.2840164307290737,-0.1363812972961848,null,0.6159294461739452,0.2840164307290737,null,0.6159294461739452,0.1792014946323802,null,-0.0500448696206671,-0.1363812972961848,null,0.3347190385533978,-0.1363812972961848,null,-0.015614114668627789,0.3347190385533978,null,-0.015614114668627789,0.2793074537809738,null,-0.015614114668627789,0.05537560907269705,null,-0.015614114668627789,-0.4806129103178434,null,-0.015614114668627789,0.19624935742652153,null,-0.015614114668627789,-0.21740018541572909,null,-0.015614114668627789,0.1657934199332281,null,-0.015614114668627789,-0.5281121088021198,null,-0.015614114668627789,0.13103099060105416,null,-0.3520142166651992,-0.1363812972961848,null,0.037603280164858095,-0.1363812972961848,null,0.08270097433138568,-0.1363812972961848,null,0.5161320367890564,0.08270097433138568,null,0.5161320367890564,0.27674277297165456,null,0.47273410133339216,0.08270097433138568,null,0.47273410133339216,0.1657934199332281,null,0.2793074537809738,-0.1363812972961848,null,-0.23014382311763149,-0.1363812972961848,null,0.3546456041783619,-0.23014382311763149,null,0.05537560907269705,-0.1363812972961848,null,0.1878349083290053,-0.1363812972961848,null,-0.4806129103178434,-0.1363812972961848,null,-0.3732579819355807,-0.1363812972961848,null,0.21688616461331292,-0.1363812972961848,null,-0.5977113559339544,-0.1363812972961848,null,0.4741074882827279,-0.1363812972961848,null,0.3500300136832501,-0.1363812972961848,null,0.9028741813253102,0.3500300136832501,null,0.19624935742652153,-0.1363812972961848,null,-0.0962549225420636,0.19624935742652153,null,-0.0962549225420636,-0.42098001029863497,null,-0.0962549225420636,0.09305951962246688,null,0.42800148782776054,-0.1363812972961848,null,0.8459582519393533,0.42800148782776054,null,-0.42098001029863497,-0.1363812972961848,null,-0.21740018541572909,-0.1363812972961848,null,-0.13697536899610405,-0.1363812972961848,null,-0.3459568207279982,-0.1363812972961848,null,-0.39165710678708743,-0.3459568207279982,null,-0.4759810525828208,-0.1363812972961848,null,-0.482919224986331,-0.4759810525828208,null,0.07338557707604151,-0.1363812972961848,null,-0.6446755025678436,-0.1363812972961848,null,0.4440571522755972,-0.1363812972961848,null,0.39971083412524344,-0.1363812972961848,null,0.1657934199332281,-0.1363812972961848,null,0.09305951962246688,-0.1363812972961848,null,-0.2233172224698691,-0.1363812972961848,null,-0.5469725315460334,-0.1363812972961848,null,-0.3966099936356374,-0.1363812972961848,null,-0.02998248597455871,-0.3966099936356374,null,-0.02998248597455871,0.22167058082636884,null,-0.02998248597455871,0.21311565207192326,null,-0.4587982978666351,-0.1363812972961848,null,0.1034903436547692,-0.1363812972961848,null,0.34177931432216097,-0.1363812972961848,null,0.27674277297165456,-0.1363812972961848,null,0.22167058082636884,-0.1363812972961848,null,0.20918549997574346,-0.1363812972961848,null,0.7199898459742814,0.20918549997574346,null,-0.3601192825098973,-0.1363812972961848,null,-0.5281121088021198,-0.1363812972961848,null,0.13103099060105416,-0.1363812972961848,null,0.3180667844149847,0.13103099060105416,null,-0.013697119041089358,-0.1363812972961848,null,0.21311565207192326,-0.1363812972961848,null,-0.5636071379301795,-0.1363812972961848,null,0.1792014946323802,-0.1363812972961848,null],\"y\":[0.28011130943513096,-0.5594853773809316,null,0.19302155983907263,0.28011130943513096,null,0.19302155983907263,-0.27984380500740763,null,0.19302155983907263,-0.18241197294362854,null,0.19302155983907263,0.3464669454692876,null,0.19302155983907263,0.4757641450506275,null,0.19302155983907263,-0.41554823704376953,null,0.19302155983907263,-0.20435964548960275,null,0.19302155983907263,-0.32230292939384664,null,0.4937366301584063,0.28011130943513096,null,0.4937366301584063,-0.6710322388258421,null,0.4937366301584063,-0.20832137641771284,null,0.4937366301584063,-0.8202991036224344,null,0.4937366301584063,0.12667004261482614,null,0.4937366301584063,-0.1538790560428198,null,0.4937366301584063,-0.4397661047914721,null,0.4937366301584063,0.13546052397589795,null,0.4937366301584063,-0.1395587315091509,null,0.4937366301584063,-0.7703634913670441,null,0.3160607720564857,-0.5594853773809316,null,0.18628095743767975,0.3160607720564857,null,0.18628095743767975,0.750286147129432,null,0.18628095743767975,-0.18241197294362854,null,0.18628095743767975,-0.0725536487522703,null,0.18628095743767975,-0.3800779628588849,null,0.18628095743767975,-0.448205695172425,null,0.18628095743767975,0.2308029645614951,null,0.18628095743767975,-0.36245671248628963,null,-0.07102418693232794,0.3160607720564857,null,-0.07102418693232794,-0.8103629566324961,null,-0.07102418693232794,-0.10392606160885944,null,-0.07102418693232794,-0.8438069945904799,null,-0.07102418693232794,0.25398157009604855,null,-0.07102418693232794,0.17514347753025195,null,-0.07102418693232794,-0.18592003631252466,null,-0.14371532768407252,-0.5594853773809316,null,0.5458724660263882,-0.14371532768407252,null,0.003330846664348769,-0.5594853773809316,null,0.8404011332520624,0.003330846664348769,null,-0.27984380500740763,-0.5594853773809316,null,-0.32965354271040687,-0.27984380500740763,null,-0.32965354271040687,-0.8103629566324961,null,-0.32965354271040687,-0.36245671248628963,null,-0.32965354271040687,-0.12219027887791149,null,0.750286147129432,-0.5594853773809316,null,0.3981486995536557,0.750286147129432,null,0.3981486995536557,0.005739134734473028,null,0.3981486995536557,-0.41554823704376953,null,0.3981486995536557,-0.20435964548960275,null,0.3981486995536557,-0.18592003631252466,null,0.3981486995536557,0.3397670984285462,null,0.18451974836424984,-0.5594853773809316,null,0.2500185261996936,0.18451974836424984,null,0.2500185261996936,-0.0725536487522703,null,0.2500185261996936,-0.59546262991411,null,0.4086221037484542,0.18451974836424984,null,0.4086221037484542,0.42278282258753597,null,0.4086221037484542,0.30797108576103194,null,0.4086221037484542,0.3464669454692876,null,0.4086221037484542,0.013408366536282568,null,0.4086221037484542,0.005739134734473028,null,0.4086221037484542,-0.8438069945904799,null,0.4086221037484542,-0.6710322388258421,null,0.4086221037484542,-0.23839101893872994,null,0.4086221037484542,-0.29379760379214204,null,0.4086221037484542,0.2308029645614951,null,0.4086221037484542,0.05574206436231468,null,0.4086221037484542,-0.5948003611958171,null,0.4086221037484542,-0.12219027887791149,null,0.4086221037484542,-0.32230292939384664,null,0.4086221037484542,-0.047485795590140434,null,0.42278282258753597,-0.5594853773809316,null,0.43488476781604285,0.42278282258753597,null,0.43488476781604285,-0.3800779628588849,null,0.299937133228037,-0.5594853773809316,null,0.2798475506047671,0.299937133228037,null,0.2798475506047671,0.4757641450506275,null,0.2798475506047671,0.3616188285310187,null,0.2798475506047671,-0.448205695172425,null,0.2798475506047671,-0.29379760379214204,null,0.2798475506047671,-0.1538790560428198,null,0.2798475506047671,-0.32230292939384664,null,0.06875062848146006,0.299937133228037,null,0.06875062848146006,0.25398157009604855,null,0.06875062848146006,-0.3017690863324236,null,0.06875062848146006,-0.4397661047914721,null,0.06875062848146006,0.05574206436231468,null,0.06875062848146006,0.3397670984285462,null,-0.18241197294362854,-0.5594853773809316,null,0.30797108576103194,-0.5594853773809316,null,0.6006926082854191,0.30797108576103194,null,0.6006926082854191,-0.23836775521082473,null,0.3464669454692876,-0.5594853773809316,null,-0.0725536487522703,-0.5594853773809316,null,0.013408366536282568,-0.5594853773809316,null,0.7858289106339443,0.013408366536282568,null,0.7858289106339443,0.05069929365410615,null,-0.19621140522425531,-0.5594853773809316,null,-0.027675419422856035,-0.19621140522425531,null,-0.027675419422856035,-0.1395587315091509,null,-0.027675419422856035,-0.6245969835653968,null,-0.027675419422856035,0.1703305710180284,null,-0.4403012521325503,-0.5594853773809316,null,-0.1793805806602338,-0.4403012521325503,null,-0.1793805806602338,-0.047485795590140434,null,-0.8103629566324961,-0.5594853773809316,null,-0.59546262991411,-0.5594853773809316,null,-0.08566795254876866,-0.59546262991411,null,-0.08566795254876866,-0.23836775521082473,null,-0.08566795254876866,0.3616188285310187,null,-0.08566795254876866,0.05069929365410615,null,-0.08566795254876866,-0.28596415374868517,null,-0.08566795254876866,-0.8202991036224344,null,-0.08566795254876866,0.13546052397589795,null,-0.08566795254876866,-0.6245969835653968,null,-0.08566795254876866,0.35176115927031476,null,0.005739134734473028,-0.5594853773809316,null,0.4757641450506275,-0.5594853773809316,null,-0.8114890307734464,-0.5594853773809316,null,0.03146758219874711,-0.8114890307734464,null,0.03146758219874711,0.152230533314168,null,0.3355713478323783,-0.8114890307734464,null,0.3355713478323783,0.13546052397589795,null,-0.23836775521082473,-0.5594853773809316,null,-0.10392606160885944,-0.5594853773809316,null,0.14170582121276548,-0.10392606160885944,null,0.3616188285310187,-0.5594853773809316,null,-0.3800779628588849,-0.5594853773809316,null,0.05069929365410615,-0.5594853773809316,null,-0.8438069945904799,-0.5594853773809316,null,-0.6710322388258421,-0.5594853773809316,null,-0.448205695172425,-0.5594853773809316,null,-0.41554823704376953,-0.5594853773809316,null,-0.20832137641771284,-0.5594853773809316,null,-0.11626865473458238,-0.20832137641771284,null,-0.28596415374868517,-0.5594853773809316,null,0.18212259075344883,-0.28596415374868517,null,0.18212259075344883,-0.23839101893872994,null,0.18212259075344883,0.17514347753025195,null,-0.20435964548960275,-0.5594853773809316,null,0.4900013110990072,-0.20435964548960275,null,-0.23839101893872994,-0.5594853773809316,null,-0.8202991036224344,-0.5594853773809316,null,0.25398157009604855,-0.5594853773809316,null,0.12667004261482614,-0.5594853773809316,null,0.8984719423664532,0.12667004261482614,null,-0.4650420521295105,-0.5594853773809316,null,0.5631564857409482,-0.4650420521295105,null,-0.29379760379214204,-0.5594853773809316,null,-0.1538790560428198,-0.5594853773809316,null,-0.3017690863324236,-0.5594853773809316,null,-0.4397661047914721,-0.5594853773809316,null,0.13546052397589795,-0.5594853773809316,null,0.17514347753025195,-0.5594853773809316,null,0.2308029645614951,-0.5594853773809316,null,0.05574206436231468,-0.5594853773809316,null,-0.5948003611958171,-0.5594853773809316,null,-0.1536603274649566,-0.5948003611958171,null,-0.1536603274649566,-0.14492433772596083,null,-0.1536603274649566,0.1703305710180284,null,-0.1395587315091509,-0.5594853773809316,null,-0.18592003631252466,-0.5594853773809316,null,-0.36245671248628963,-0.5594853773809316,null,0.152230533314168,-0.5594853773809316,null,-0.14492433772596083,-0.5594853773809316,null,-0.7703634913670441,-0.5594853773809316,null,-0.05686833205493533,-0.7703634913670441,null,-0.12219027887791149,-0.5594853773809316,null,-0.6245969835653968,-0.5594853773809316,null,0.35176115927031476,-0.5594853773809316,null,1.0,0.35176115927031476,null,0.3397670984285462,-0.5594853773809316,null,0.1703305710180284,-0.5594853773809316,null,-0.32230292939384664,-0.5594853773809316,null,-0.047485795590140434,-0.5594853773809316,null],\"type\":\"scatter\"},{\"hoverinfo\":\"text\",\"marker\":{\"color\":[],\"colorbar\":{\"thickness\":15,\"title\":{\"side\":\"right\",\"text\":\"Node Connections\"},\"xanchor\":\"left\"},\"colorscale\":[[0.0,\"rgb(255,255,217)\"],[0.125,\"rgb(237,248,177)\"],[0.25,\"rgb(199,233,180)\"],[0.375,\"rgb(127,205,187)\"],[0.5,\"rgb(65,182,196)\"],[0.625,\"rgb(29,145,192)\"],[0.75,\"rgb(34,94,168)\"],[0.875,\"rgb(37,52,148)\"],[1.0,\"rgb(8,29,88)\"]],\"line\":{\"width\":2},\"reversescale\":true,\"showscale\":true,\"size\":10},\"mode\":\"markers\",\"text\":[\"0\",\"Hot chocolate\",\"Cake\",\"Coffee\",\"1\",\"Cookies\",\"Juice\",\"2\",\"Bakewell\",\"3\",\"Granola\",\"4\",\"Scone\",\"5\",\"Pastry\",\"6\",\"Brownie\",\"NONE\",\"7\",\"Alfajores\",\"8\",\"Medialuna\",\"Toast\",\"9\",\"10\",\"Muffin\",\"11\",\"12\",\"13\",\"Soup\",\"14\",\"Salad\",\"15\",\"Tartine\",\"16\",\"17\",\"Sandwich\",\"18\",\"19\",\"20\",\"Keeping It Local\",\"Tea\",\"21\",\"22\",\"Jammie Dodgers\",\"23\",\"24\",\"25\",\"26\",\"27\",\"28\",\"29\",\"30\",\"Smoothies\",\"31\",\"Spanish Brunch\",\"32\",\"Bread\",\"33\",\"34\",\"35\",\"36\",\"Tiffin\",\"37\",\"Art Tray\",\"38\",\"39\",\"40\",\"41\",\"42\",\"43\",\"44\",\"45\",\"46\",\"Extra Salami or Feta\",\"47\",\"48\",\"49\",\"50\",\"51\",\"52\",\"Vegan mincepie\",\"53\",\"54\",\"55\",\"Hearty & Seasonal\",\"56\",\"57\",\"58\",\"59\"],\"x\":[0.14393641818585146,-0.03178360789276997,0.1745362163290333,-0.1363812972961848,-0.23299987310438955,-0.0099530824128012,-0.10305803364658081,-0.5359291350566827,-0.7448860163444573,-0.1809772390118028,-0.1045496673419848,-0.3015694157489086,-0.04571057981864839,0.1744278400338678,0.292084417129829,0.3228305349835459,0.6285095810364467,-0.0662538491523682,-0.1524069061620567,0.32879244360284926,-0.3616278830066149,-0.3057476677301779,0.029797498985321285,-0.5791535937965477,0.2359674893010037,0.5385604607077352,-0.13555338424172192,0.3286567519452136,-0.428560173196108,-0.39861712310408437,-0.16144717180820475,-0.2729039164397711,0.2840164307290737,0.6159294461739452,-0.0500448696206671,0.3347190385533978,-0.015614114668627789,-0.3520142166651992,0.037603280164858095,0.08270097433138568,0.5161320367890564,0.47273410133339216,0.2793074537809738,-0.23014382311763149,0.3546456041783619,0.05537560907269705,0.1878349083290053,-0.4806129103178434,-0.3732579819355807,0.21688616461331292,-0.5977113559339544,0.4741074882827279,0.3500300136832501,0.9028741813253102,0.19624935742652153,-0.0962549225420636,0.42800148782776054,0.8459582519393533,-0.42098001029863497,-0.21740018541572909,-0.13697536899610405,-0.3459568207279982,-0.39165710678708743,-0.4759810525828208,-0.482919224986331,0.07338557707604151,-0.6446755025678436,0.4440571522755972,0.39971083412524344,0.1657934199332281,0.09305951962246688,-0.2233172224698691,-0.5469725315460334,-0.3966099936356374,-0.02998248597455871,-0.4587982978666351,0.1034903436547692,0.34177931432216097,0.27674277297165456,0.22167058082636884,0.20918549997574346,0.7199898459742814,-0.3601192825098973,-0.5281121088021198,0.13103099060105416,0.3180667844149847,-0.013697119041089358,0.21311565207192326,-0.5636071379301795,0.1792014946323802],\"y\":[0.28011130943513096,0.19302155983907263,0.4937366301584063,-0.5594853773809316,0.3160607720564857,0.18628095743767975,-0.07102418693232794,-0.14371532768407252,0.5458724660263882,0.003330846664348769,0.8404011332520624,-0.27984380500740763,-0.32965354271040687,0.750286147129432,0.3981486995536557,0.18451974836424984,0.2500185261996936,0.4086221037484542,0.42278282258753597,0.43488476781604285,0.299937133228037,0.2798475506047671,0.06875062848146006,-0.18241197294362854,0.30797108576103194,0.6006926082854191,0.3464669454692876,-0.0725536487522703,0.013408366536282568,0.7858289106339443,-0.19621140522425531,-0.027675419422856035,-0.4403012521325503,-0.1793805806602338,-0.8103629566324961,-0.59546262991411,-0.08566795254876866,0.005739134734473028,0.4757641450506275,-0.8114890307734464,0.03146758219874711,0.3355713478323783,-0.23836775521082473,-0.10392606160885944,0.14170582121276548,0.3616188285310187,-0.3800779628588849,0.05069929365410615,-0.8438069945904799,-0.6710322388258421,-0.448205695172425,-0.41554823704376953,-0.20832137641771284,-0.11626865473458238,-0.28596415374868517,0.18212259075344883,-0.20435964548960275,0.4900013110990072,-0.23839101893872994,-0.8202991036224344,0.25398157009604855,0.12667004261482614,0.8984719423664532,-0.4650420521295105,0.5631564857409482,-0.29379760379214204,-0.1538790560428198,-0.3017690863324236,-0.4397661047914721,0.13546052397589795,0.17514347753025195,0.2308029645614951,0.05574206436231468,-0.5948003611958171,-0.1536603274649566,-0.1395587315091509,-0.18592003631252466,-0.36245671248628963,0.152230533314168,-0.14492433772596083,-0.7703634913670441,-0.05686833205493533,-0.12219027887791149,-0.6245969835653968,0.35176115927031476,1.0,0.3397670984285462,0.1703305710180284,-0.32230292939384664,-0.047485795590140434],\"type\":\"scatter\"}],                        {\"annotations\":[{\"showarrow\":false,\"text\":\"Python code: \\u003ca href='https:\\u002f\\u002fplotly.com\\u002fipython-notebooks\\u002fnetwork-graphs\\u002f'\\u003e https:\\u002f\\u002fplotly.com\\u002fipython-notebooks\\u002fnetwork-graphs\\u002f\\u003c\\u002fa\\u003e\",\"x\":0.005,\"xref\":\"paper\",\"y\":-0.002,\"yref\":\"paper\"}],\"hovermode\":\"closest\",\"margin\":{\"b\":20,\"l\":5,\"r\":5,\"t\":40},\"showlegend\":false,\"title\":{\"font\":{\"size\":16},\"text\":\"\\u003cbr\\u003eNetwork graph made with Python\"},\"xaxis\":{\"showgrid\":false,\"showticklabels\":false,\"zeroline\":false},\"yaxis\":{\"showgrid\":false,\"showticklabels\":false,\"zeroline\":false},\"template\":{\"data\":{\"histogram2dcontour\":[{\"type\":\"histogram2dcontour\",\"colorbar\":{\"outlinewidth\":0,\"ticks\":\"\"},\"colorscale\":[[0.0,\"#0d0887\"],[0.1111111111111111,\"#46039f\"],[0.2222222222222222,\"#7201a8\"],[0.3333333333333333,\"#9c179e\"],[0.4444444444444444,\"#bd3786\"],[0.5555555555555556,\"#d8576b\"],[0.6666666666666666,\"#ed7953\"],[0.7777777777777778,\"#fb9f3a\"],[0.8888888888888888,\"#fdca26\"],[1.0,\"#f0f921\"]]}],\"choropleth\":[{\"type\":\"choropleth\",\"colorbar\":{\"outlinewidth\":0,\"ticks\":\"\"}}],\"histogram2d\":[{\"type\":\"histogram2d\",\"colorbar\":{\"outlinewidth\":0,\"ticks\":\"\"},\"colorscale\":[[0.0,\"#0d0887\"],[0.1111111111111111,\"#46039f\"],[0.2222222222222222,\"#7201a8\"],[0.3333333333333333,\"#9c179e\"],[0.4444444444444444,\"#bd3786\"],[0.5555555555555556,\"#d8576b\"],[0.6666666666666666,\"#ed7953\"],[0.7777777777777778,\"#fb9f3a\"],[0.8888888888888888,\"#fdca26\"],[1.0,\"#f0f921\"]]}],\"heatmap\":[{\"type\":\"heatmap\",\"colorbar\":{\"outlinewidth\":0,\"ticks\":\"\"},\"colorscale\":[[0.0,\"#0d0887\"],[0.1111111111111111,\"#46039f\"],[0.2222222222222222,\"#7201a8\"],[0.3333333333333333,\"#9c179e\"],[0.4444444444444444,\"#bd3786\"],[0.5555555555555556,\"#d8576b\"],[0.6666666666666666,\"#ed7953\"],[0.7777777777777778,\"#fb9f3a\"],[0.8888888888888888,\"#fdca26\"],[1.0,\"#f0f921\"]]}],\"heatmapgl\":[{\"type\":\"heatmapgl\",\"colorbar\":{\"outlinewidth\":0,\"ticks\":\"\"},\"colorscale\":[[0.0,\"#0d0887\"],[0.1111111111111111,\"#46039f\"],[0.2222222222222222,\"#7201a8\"],[0.3333333333333333,\"#9c179e\"],[0.4444444444444444,\"#bd3786\"],[0.5555555555555556,\"#d8576b\"],[0.6666666666666666,\"#ed7953\"],[0.7777777777777778,\"#fb9f3a\"],[0.8888888888888888,\"#fdca26\"],[1.0,\"#f0f921\"]]}],\"contourcarpet\":[{\"type\":\"contourcarpet\",\"colorbar\":{\"outlinewidth\":0,\"ticks\":\"\"}}],\"contour\":[{\"type\":\"contour\",\"colorbar\":{\"outlinewidth\":0,\"ticks\":\"\"},\"colorscale\":[[0.0,\"#0d0887\"],[0.1111111111111111,\"#46039f\"],[0.2222222222222222,\"#7201a8\"],[0.3333333333333333,\"#9c179e\"],[0.4444444444444444,\"#bd3786\"],[0.5555555555555556,\"#d8576b\"],[0.6666666666666666,\"#ed7953\"],[0.7777777777777778,\"#fb9f3a\"],[0.8888888888888888,\"#fdca26\"],[1.0,\"#f0f921\"]]}],\"surface\":[{\"type\":\"surface\",\"colorbar\":{\"outlinewidth\":0,\"ticks\":\"\"},\"colorscale\":[[0.0,\"#0d0887\"],[0.1111111111111111,\"#46039f\"],[0.2222222222222222,\"#7201a8\"],[0.3333333333333333,\"#9c179e\"],[0.4444444444444444,\"#bd3786\"],[0.5555555555555556,\"#d8576b\"],[0.6666666666666666,\"#ed7953\"],[0.7777777777777778,\"#fb9f3a\"],[0.8888888888888888,\"#fdca26\"],[1.0,\"#f0f921\"]]}],\"mesh3d\":[{\"type\":\"mesh3d\",\"colorbar\":{\"outlinewidth\":0,\"ticks\":\"\"}}],\"scatter\":[{\"fillpattern\":{\"fillmode\":\"overlay\",\"size\":10,\"solidity\":0.2},\"type\":\"scatter\"}],\"parcoords\":[{\"type\":\"parcoords\",\"line\":{\"colorbar\":{\"outlinewidth\":0,\"ticks\":\"\"}}}],\"scatterpolargl\":[{\"type\":\"scatterpolargl\",\"marker\":{\"colorbar\":{\"outlinewidth\":0,\"ticks\":\"\"}}}],\"bar\":[{\"error_x\":{\"color\":\"#2a3f5f\"},\"error_y\":{\"color\":\"#2a3f5f\"},\"marker\":{\"line\":{\"color\":\"#E5ECF6\",\"width\":0.5},\"pattern\":{\"fillmode\":\"overlay\",\"size\":10,\"solidity\":0.2}},\"type\":\"bar\"}],\"scattergeo\":[{\"type\":\"scattergeo\",\"marker\":{\"colorbar\":{\"outlinewidth\":0,\"ticks\":\"\"}}}],\"scatterpolar\":[{\"type\":\"scatterpolar\",\"marker\":{\"colorbar\":{\"outlinewidth\":0,\"ticks\":\"\"}}}],\"histogram\":[{\"marker\":{\"pattern\":{\"fillmode\":\"overlay\",\"size\":10,\"solidity\":0.2}},\"type\":\"histogram\"}],\"scattergl\":[{\"type\":\"scattergl\",\"marker\":{\"colorbar\":{\"outlinewidth\":0,\"ticks\":\"\"}}}],\"scatter3d\":[{\"type\":\"scatter3d\",\"line\":{\"colorbar\":{\"outlinewidth\":0,\"ticks\":\"\"}},\"marker\":{\"colorbar\":{\"outlinewidth\":0,\"ticks\":\"\"}}}],\"scattermapbox\":[{\"type\":\"scattermapbox\",\"marker\":{\"colorbar\":{\"outlinewidth\":0,\"ticks\":\"\"}}}],\"scatterternary\":[{\"type\":\"scatterternary\",\"marker\":{\"colorbar\":{\"outlinewidth\":0,\"ticks\":\"\"}}}],\"scattercarpet\":[{\"type\":\"scattercarpet\",\"marker\":{\"colorbar\":{\"outlinewidth\":0,\"ticks\":\"\"}}}],\"carpet\":[{\"aaxis\":{\"endlinecolor\":\"#2a3f5f\",\"gridcolor\":\"white\",\"linecolor\":\"white\",\"minorgridcolor\":\"white\",\"startlinecolor\":\"#2a3f5f\"},\"baxis\":{\"endlinecolor\":\"#2a3f5f\",\"gridcolor\":\"white\",\"linecolor\":\"white\",\"minorgridcolor\":\"white\",\"startlinecolor\":\"#2a3f5f\"},\"type\":\"carpet\"}],\"table\":[{\"cells\":{\"fill\":{\"color\":\"#EBF0F8\"},\"line\":{\"color\":\"white\"}},\"header\":{\"fill\":{\"color\":\"#C8D4E3\"},\"line\":{\"color\":\"white\"}},\"type\":\"table\"}],\"barpolar\":[{\"marker\":{\"line\":{\"color\":\"#E5ECF6\",\"width\":0.5},\"pattern\":{\"fillmode\":\"overlay\",\"size\":10,\"solidity\":0.2}},\"type\":\"barpolar\"}],\"pie\":[{\"automargin\":true,\"type\":\"pie\"}]},\"layout\":{\"autotypenumbers\":\"strict\",\"colorway\":[\"#636efa\",\"#EF553B\",\"#00cc96\",\"#ab63fa\",\"#FFA15A\",\"#19d3f3\",\"#FF6692\",\"#B6E880\",\"#FF97FF\",\"#FECB52\"],\"font\":{\"color\":\"#2a3f5f\"},\"hovermode\":\"closest\",\"hoverlabel\":{\"align\":\"left\"},\"paper_bgcolor\":\"white\",\"plot_bgcolor\":\"#E5ECF6\",\"polar\":{\"bgcolor\":\"#E5ECF6\",\"angularaxis\":{\"gridcolor\":\"white\",\"linecolor\":\"white\",\"ticks\":\"\"},\"radialaxis\":{\"gridcolor\":\"white\",\"linecolor\":\"white\",\"ticks\":\"\"}},\"ternary\":{\"bgcolor\":\"#E5ECF6\",\"aaxis\":{\"gridcolor\":\"white\",\"linecolor\":\"white\",\"ticks\":\"\"},\"baxis\":{\"gridcolor\":\"white\",\"linecolor\":\"white\",\"ticks\":\"\"},\"caxis\":{\"gridcolor\":\"white\",\"linecolor\":\"white\",\"ticks\":\"\"}},\"coloraxis\":{\"colorbar\":{\"outlinewidth\":0,\"ticks\":\"\"}},\"colorscale\":{\"sequential\":[[0.0,\"#0d0887\"],[0.1111111111111111,\"#46039f\"],[0.2222222222222222,\"#7201a8\"],[0.3333333333333333,\"#9c179e\"],[0.4444444444444444,\"#bd3786\"],[0.5555555555555556,\"#d8576b\"],[0.6666666666666666,\"#ed7953\"],[0.7777777777777778,\"#fb9f3a\"],[0.8888888888888888,\"#fdca26\"],[1.0,\"#f0f921\"]],\"sequentialminus\":[[0.0,\"#0d0887\"],[0.1111111111111111,\"#46039f\"],[0.2222222222222222,\"#7201a8\"],[0.3333333333333333,\"#9c179e\"],[0.4444444444444444,\"#bd3786\"],[0.5555555555555556,\"#d8576b\"],[0.6666666666666666,\"#ed7953\"],[0.7777777777777778,\"#fb9f3a\"],[0.8888888888888888,\"#fdca26\"],[1.0,\"#f0f921\"]],\"diverging\":[[0,\"#8e0152\"],[0.1,\"#c51b7d\"],[0.2,\"#de77ae\"],[0.3,\"#f1b6da\"],[0.4,\"#fde0ef\"],[0.5,\"#f7f7f7\"],[0.6,\"#e6f5d0\"],[0.7,\"#b8e186\"],[0.8,\"#7fbc41\"],[0.9,\"#4d9221\"],[1,\"#276419\"]]},\"xaxis\":{\"gridcolor\":\"white\",\"linecolor\":\"white\",\"ticks\":\"\",\"title\":{\"standoff\":15},\"zerolinecolor\":\"white\",\"automargin\":true,\"zerolinewidth\":2},\"yaxis\":{\"gridcolor\":\"white\",\"linecolor\":\"white\",\"ticks\":\"\",\"title\":{\"standoff\":15},\"zerolinecolor\":\"white\",\"automargin\":true,\"zerolinewidth\":2},\"scene\":{\"xaxis\":{\"backgroundcolor\":\"#E5ECF6\",\"gridcolor\":\"white\",\"linecolor\":\"white\",\"showbackground\":true,\"ticks\":\"\",\"zerolinecolor\":\"white\",\"gridwidth\":2},\"yaxis\":{\"backgroundcolor\":\"#E5ECF6\",\"gridcolor\":\"white\",\"linecolor\":\"white\",\"showbackground\":true,\"ticks\":\"\",\"zerolinecolor\":\"white\",\"gridwidth\":2},\"zaxis\":{\"backgroundcolor\":\"#E5ECF6\",\"gridcolor\":\"white\",\"linecolor\":\"white\",\"showbackground\":true,\"ticks\":\"\",\"zerolinecolor\":\"white\",\"gridwidth\":2}},\"shapedefaults\":{\"line\":{\"color\":\"#2a3f5f\"}},\"annotationdefaults\":{\"arrowcolor\":\"#2a3f5f\",\"arrowhead\":0,\"arrowwidth\":1},\"geo\":{\"bgcolor\":\"white\",\"landcolor\":\"#E5ECF6\",\"subunitcolor\":\"white\",\"showland\":true,\"showlakes\":true,\"lakecolor\":\"white\"},\"title\":{\"x\":0.05},\"mapbox\":{\"style\":\"light\"}}}},                        {\"responsive\": true}                    ).then(function(){\n",
       "                            \n",
       "var gd = document.getElementById('e49ff827-ba67-4f81-b1ca-20d5e98b2d9d');\n",
       "var x = new MutationObserver(function (mutations, observer) {{\n",
       "        var display = window.getComputedStyle(gd).display;\n",
       "        if (!display || display === 'none') {{\n",
       "            console.log([gd, 'removed!']);\n",
       "            Plotly.purge(gd);\n",
       "            observer.disconnect();\n",
       "        }}\n",
       "}});\n",
       "\n",
       "// Listen for the removal of the full notebook cells\n",
       "var notebookContainer = gd.closest('#notebook-container');\n",
       "if (notebookContainer) {{\n",
       "    x.observe(notebookContainer, {childList: true});\n",
       "}}\n",
       "\n",
       "// Listen for the clearing of the current output cell\n",
       "var outputEl = gd.closest('.output');\n",
       "if (outputEl) {{\n",
       "    x.observe(outputEl, {childList: true});\n",
       "}}\n",
       "\n",
       "                        })                };                });            </script>        </div>"
      ]
     },
     "metadata": {},
     "output_type": "display_data",
     "jetTransient": {
      "display_id": null
     }
    }
   ],
   "execution_count": 37
  },
  {
   "metadata": {
    "ExecuteTime": {
     "end_time": "2025-09-20T07:36:11.104693Z",
     "start_time": "2025-09-20T07:36:06.542870Z"
    }
   },
   "cell_type": "code",
   "source": [
    "freqItemSet, rules = apriori(transactions, minSup=min_sup, minConf=0.8)\n",
    "\n",
    "n_trans = len(transactions)\n",
    "\n",
    "print(\"\\nАссоциативные правила (достоверность ≥ 80%):\")\n",
    "rules_pyarmviz = []\n",
    "\n",
    "for i, (antecedent, consequent, confidence) in enumerate(rules):\n",
    "    ant = frozenset(antecedent)\n",
    "    cons = frozenset(consequent)\n",
    "    union = ant | cons\n",
    "\n",
    "    count_ab = sum(1 for t in transactions if union.issubset(t))\n",
    "    count_a = sum(1 for t in transactions if ant.issubset(t))\n",
    "    count_b = sum(1 for t in transactions if cons.issubset(t))\n",
    "\n",
    "    support_ab = count_ab / n_trans\n",
    "    support_a = count_a / n_trans\n",
    "    support_b = count_b / n_trans\n",
    "\n",
    "    lift = support_ab / (support_a * support_b) if support_a * support_b else 0.0\n",
    "\n",
    "    print(f\"{i}: {set(antecedent)} -> {set(consequent)} \"\n",
    "          f\"Support = {support_ab:.3f} Confidence = {confidence:.3f} Lift = {lift:.3f}\")\n",
    "\n",
    "    rules_pyarmviz.append(\n",
    "        PyARMViz.Rule.Rule(\n",
    "            lhs=tuple(antecedent),\n",
    "            rhs=tuple(consequent),\n",
    "            count_full=count_ab,\n",
    "            count_lhs=count_a,\n",
    "            count_rhs=count_b,\n",
    "            num_transactions=n_trans\n",
    "        )\n",
    "    )\n"
   ],
   "id": "a2299e127f880a61",
   "outputs": [
    {
     "name": "stdout",
     "output_type": "stream",
     "text": [
      "\n",
      "Ассоциативные правила (достоверность ≥ 80%):\n",
      "0: {'Keeping It Local'} -> {'Coffee'} Support = 0.005 Confidence = 0.810 Lift = 1.704\n",
      "1: {'Extra Salami or Feta'} -> {'Coffee'} Support = 0.003 Confidence = 0.816 Lift = 1.717\n",
      "2: {'Vegan mincepie', 'Cake'} -> {'Coffee'} Support = 0.001 Confidence = 0.833 Lift = 1.754\n",
      "3: {'NONE', 'Scone'} -> {'Coffee'} Support = 0.002 Confidence = 0.833 Lift = 1.754\n",
      "4: {'Salad', 'Sandwich'} -> {'Coffee'} Support = 0.002 Confidence = 0.833 Lift = 1.754\n",
      "5: {'Hearty & Seasonal', 'Sandwich'} -> {'Coffee'} Support = 0.001 Confidence = 0.857 Lift = 1.804\n",
      "6: {'Pastry', 'Toast'} -> {'Coffee'} Support = 0.001 Confidence = 0.867 Lift = 1.824\n",
      "7: {'Extra Salami or Feta', 'Salad'} -> {'Coffee'} Support = 0.001 Confidence = 0.875 Lift = 1.842\n",
      "8: {'Hot chocolate', 'NONE', 'Medialuna'} -> {'Coffee'} Support = 0.001 Confidence = 0.909 Lift = 1.914\n",
      "9: {'Tartine', 'NONE'} -> {'Coffee'} Support = 0.001 Confidence = 0.923 Lift = 1.943\n"
     ]
    }
   ],
   "execution_count": 38
  },
  {
   "metadata": {
    "ExecuteTime": {
     "end_time": "2025-09-20T07:36:11.210675Z",
     "start_time": "2025-09-20T07:36:11.185500Z"
    }
   },
   "cell_type": "code",
   "source": [
    "PyARMViz.metadata_scatter_plot(rules_pyarmviz)\n",
    "PyARMViz.adjacency_graph_plotly(rules_pyarmviz)\n",
    "# PyARMViz.adjacency_parallel_coordinate_plot(rules_pyarmviz)\n",
    "# PyARMViz.adjacency_parallel_category_plot(rules_pyarmviz)"
   ],
   "id": "163fda263d855418",
   "outputs": [
    {
     "data": {
      "application/vnd.plotly.v1+json": {
       "data": [
        {
         "marker": {
          "color": [
           1.7039689550731953,
           1.7171575692765482
          ],
          "colorbar": {
           "title": {
            "text": "Lift"
           }
          },
          "colorscale": [
           [
            0.0,
            "rgb(243, 224, 247)"
           ],
           [
            0.16666666666666666,
            "rgb(228, 199, 241)"
           ],
           [
            0.3333333333333333,
            "rgb(209, 175, 232)"
           ],
           [
            0.5,
            "rgb(185, 152, 221)"
           ],
           [
            0.6666666666666666,
            "rgb(159, 130, 206)"
           ],
           [
            0.8333333333333334,
            "rgb(130, 109, 186)"
           ],
           [
            1.0,
            "rgb(99, 88, 159)"
           ]
          ]
         },
         "mode": "markers",
         "text": [
          "('Keeping It Local',) => ('Coffee',), Lift: 1.7039689550731953",
          "('Extra Salami or Feta',) => ('Coffee',), Lift: 1.7171575692765482"
         ],
         "x": [
          0.0053509600251809885,
          0.003252544329031581
         ],
         "y": [
          0.8095238095238095,
          0.8157894736842105
         ],
         "type": "scatter"
        }
       ],
       "layout": {
        "template": {
         "data": {
          "histogram2dcontour": [
           {
            "type": "histogram2dcontour",
            "colorbar": {
             "outlinewidth": 0,
             "ticks": ""
            },
            "colorscale": [
             [
              0.0,
              "#0d0887"
             ],
             [
              0.1111111111111111,
              "#46039f"
             ],
             [
              0.2222222222222222,
              "#7201a8"
             ],
             [
              0.3333333333333333,
              "#9c179e"
             ],
             [
              0.4444444444444444,
              "#bd3786"
             ],
             [
              0.5555555555555556,
              "#d8576b"
             ],
             [
              0.6666666666666666,
              "#ed7953"
             ],
             [
              0.7777777777777778,
              "#fb9f3a"
             ],
             [
              0.8888888888888888,
              "#fdca26"
             ],
             [
              1.0,
              "#f0f921"
             ]
            ]
           }
          ],
          "choropleth": [
           {
            "type": "choropleth",
            "colorbar": {
             "outlinewidth": 0,
             "ticks": ""
            }
           }
          ],
          "histogram2d": [
           {
            "type": "histogram2d",
            "colorbar": {
             "outlinewidth": 0,
             "ticks": ""
            },
            "colorscale": [
             [
              0.0,
              "#0d0887"
             ],
             [
              0.1111111111111111,
              "#46039f"
             ],
             [
              0.2222222222222222,
              "#7201a8"
             ],
             [
              0.3333333333333333,
              "#9c179e"
             ],
             [
              0.4444444444444444,
              "#bd3786"
             ],
             [
              0.5555555555555556,
              "#d8576b"
             ],
             [
              0.6666666666666666,
              "#ed7953"
             ],
             [
              0.7777777777777778,
              "#fb9f3a"
             ],
             [
              0.8888888888888888,
              "#fdca26"
             ],
             [
              1.0,
              "#f0f921"
             ]
            ]
           }
          ],
          "heatmap": [
           {
            "type": "heatmap",
            "colorbar": {
             "outlinewidth": 0,
             "ticks": ""
            },
            "colorscale": [
             [
              0.0,
              "#0d0887"
             ],
             [
              0.1111111111111111,
              "#46039f"
             ],
             [
              0.2222222222222222,
              "#7201a8"
             ],
             [
              0.3333333333333333,
              "#9c179e"
             ],
             [
              0.4444444444444444,
              "#bd3786"
             ],
             [
              0.5555555555555556,
              "#d8576b"
             ],
             [
              0.6666666666666666,
              "#ed7953"
             ],
             [
              0.7777777777777778,
              "#fb9f3a"
             ],
             [
              0.8888888888888888,
              "#fdca26"
             ],
             [
              1.0,
              "#f0f921"
             ]
            ]
           }
          ],
          "heatmapgl": [
           {
            "type": "heatmapgl",
            "colorbar": {
             "outlinewidth": 0,
             "ticks": ""
            },
            "colorscale": [
             [
              0.0,
              "#0d0887"
             ],
             [
              0.1111111111111111,
              "#46039f"
             ],
             [
              0.2222222222222222,
              "#7201a8"
             ],
             [
              0.3333333333333333,
              "#9c179e"
             ],
             [
              0.4444444444444444,
              "#bd3786"
             ],
             [
              0.5555555555555556,
              "#d8576b"
             ],
             [
              0.6666666666666666,
              "#ed7953"
             ],
             [
              0.7777777777777778,
              "#fb9f3a"
             ],
             [
              0.8888888888888888,
              "#fdca26"
             ],
             [
              1.0,
              "#f0f921"
             ]
            ]
           }
          ],
          "contourcarpet": [
           {
            "type": "contourcarpet",
            "colorbar": {
             "outlinewidth": 0,
             "ticks": ""
            }
           }
          ],
          "contour": [
           {
            "type": "contour",
            "colorbar": {
             "outlinewidth": 0,
             "ticks": ""
            },
            "colorscale": [
             [
              0.0,
              "#0d0887"
             ],
             [
              0.1111111111111111,
              "#46039f"
             ],
             [
              0.2222222222222222,
              "#7201a8"
             ],
             [
              0.3333333333333333,
              "#9c179e"
             ],
             [
              0.4444444444444444,
              "#bd3786"
             ],
             [
              0.5555555555555556,
              "#d8576b"
             ],
             [
              0.6666666666666666,
              "#ed7953"
             ],
             [
              0.7777777777777778,
              "#fb9f3a"
             ],
             [
              0.8888888888888888,
              "#fdca26"
             ],
             [
              1.0,
              "#f0f921"
             ]
            ]
           }
          ],
          "surface": [
           {
            "type": "surface",
            "colorbar": {
             "outlinewidth": 0,
             "ticks": ""
            },
            "colorscale": [
             [
              0.0,
              "#0d0887"
             ],
             [
              0.1111111111111111,
              "#46039f"
             ],
             [
              0.2222222222222222,
              "#7201a8"
             ],
             [
              0.3333333333333333,
              "#9c179e"
             ],
             [
              0.4444444444444444,
              "#bd3786"
             ],
             [
              0.5555555555555556,
              "#d8576b"
             ],
             [
              0.6666666666666666,
              "#ed7953"
             ],
             [
              0.7777777777777778,
              "#fb9f3a"
             ],
             [
              0.8888888888888888,
              "#fdca26"
             ],
             [
              1.0,
              "#f0f921"
             ]
            ]
           }
          ],
          "mesh3d": [
           {
            "type": "mesh3d",
            "colorbar": {
             "outlinewidth": 0,
             "ticks": ""
            }
           }
          ],
          "scatter": [
           {
            "fillpattern": {
             "fillmode": "overlay",
             "size": 10,
             "solidity": 0.2
            },
            "type": "scatter"
           }
          ],
          "parcoords": [
           {
            "type": "parcoords",
            "line": {
             "colorbar": {
              "outlinewidth": 0,
              "ticks": ""
             }
            }
           }
          ],
          "scatterpolargl": [
           {
            "type": "scatterpolargl",
            "marker": {
             "colorbar": {
              "outlinewidth": 0,
              "ticks": ""
             }
            }
           }
          ],
          "bar": [
           {
            "error_x": {
             "color": "#2a3f5f"
            },
            "error_y": {
             "color": "#2a3f5f"
            },
            "marker": {
             "line": {
              "color": "#E5ECF6",
              "width": 0.5
             },
             "pattern": {
              "fillmode": "overlay",
              "size": 10,
              "solidity": 0.2
             }
            },
            "type": "bar"
           }
          ],
          "scattergeo": [
           {
            "type": "scattergeo",
            "marker": {
             "colorbar": {
              "outlinewidth": 0,
              "ticks": ""
             }
            }
           }
          ],
          "scatterpolar": [
           {
            "type": "scatterpolar",
            "marker": {
             "colorbar": {
              "outlinewidth": 0,
              "ticks": ""
             }
            }
           }
          ],
          "histogram": [
           {
            "marker": {
             "pattern": {
              "fillmode": "overlay",
              "size": 10,
              "solidity": 0.2
             }
            },
            "type": "histogram"
           }
          ],
          "scattergl": [
           {
            "type": "scattergl",
            "marker": {
             "colorbar": {
              "outlinewidth": 0,
              "ticks": ""
             }
            }
           }
          ],
          "scatter3d": [
           {
            "type": "scatter3d",
            "line": {
             "colorbar": {
              "outlinewidth": 0,
              "ticks": ""
             }
            },
            "marker": {
             "colorbar": {
              "outlinewidth": 0,
              "ticks": ""
             }
            }
           }
          ],
          "scattermapbox": [
           {
            "type": "scattermapbox",
            "marker": {
             "colorbar": {
              "outlinewidth": 0,
              "ticks": ""
             }
            }
           }
          ],
          "scatterternary": [
           {
            "type": "scatterternary",
            "marker": {
             "colorbar": {
              "outlinewidth": 0,
              "ticks": ""
             }
            }
           }
          ],
          "scattercarpet": [
           {
            "type": "scattercarpet",
            "marker": {
             "colorbar": {
              "outlinewidth": 0,
              "ticks": ""
             }
            }
           }
          ],
          "carpet": [
           {
            "aaxis": {
             "endlinecolor": "#2a3f5f",
             "gridcolor": "white",
             "linecolor": "white",
             "minorgridcolor": "white",
             "startlinecolor": "#2a3f5f"
            },
            "baxis": {
             "endlinecolor": "#2a3f5f",
             "gridcolor": "white",
             "linecolor": "white",
             "minorgridcolor": "white",
             "startlinecolor": "#2a3f5f"
            },
            "type": "carpet"
           }
          ],
          "table": [
           {
            "cells": {
             "fill": {
              "color": "#EBF0F8"
             },
             "line": {
              "color": "white"
             }
            },
            "header": {
             "fill": {
              "color": "#C8D4E3"
             },
             "line": {
              "color": "white"
             }
            },
            "type": "table"
           }
          ],
          "barpolar": [
           {
            "marker": {
             "line": {
              "color": "#E5ECF6",
              "width": 0.5
             },
             "pattern": {
              "fillmode": "overlay",
              "size": 10,
              "solidity": 0.2
             }
            },
            "type": "barpolar"
           }
          ],
          "pie": [
           {
            "automargin": true,
            "type": "pie"
           }
          ]
         },
         "layout": {
          "autotypenumbers": "strict",
          "colorway": [
           "#636efa",
           "#EF553B",
           "#00cc96",
           "#ab63fa",
           "#FFA15A",
           "#19d3f3",
           "#FF6692",
           "#B6E880",
           "#FF97FF",
           "#FECB52"
          ],
          "font": {
           "color": "#2a3f5f"
          },
          "hovermode": "closest",
          "hoverlabel": {
           "align": "left"
          },
          "paper_bgcolor": "white",
          "plot_bgcolor": "#E5ECF6",
          "polar": {
           "bgcolor": "#E5ECF6",
           "angularaxis": {
            "gridcolor": "white",
            "linecolor": "white",
            "ticks": ""
           },
           "radialaxis": {
            "gridcolor": "white",
            "linecolor": "white",
            "ticks": ""
           }
          },
          "ternary": {
           "bgcolor": "#E5ECF6",
           "aaxis": {
            "gridcolor": "white",
            "linecolor": "white",
            "ticks": ""
           },
           "baxis": {
            "gridcolor": "white",
            "linecolor": "white",
            "ticks": ""
           },
           "caxis": {
            "gridcolor": "white",
            "linecolor": "white",
            "ticks": ""
           }
          },
          "coloraxis": {
           "colorbar": {
            "outlinewidth": 0,
            "ticks": ""
           }
          },
          "colorscale": {
           "sequential": [
            [
             0.0,
             "#0d0887"
            ],
            [
             0.1111111111111111,
             "#46039f"
            ],
            [
             0.2222222222222222,
             "#7201a8"
            ],
            [
             0.3333333333333333,
             "#9c179e"
            ],
            [
             0.4444444444444444,
             "#bd3786"
            ],
            [
             0.5555555555555556,
             "#d8576b"
            ],
            [
             0.6666666666666666,
             "#ed7953"
            ],
            [
             0.7777777777777778,
             "#fb9f3a"
            ],
            [
             0.8888888888888888,
             "#fdca26"
            ],
            [
             1.0,
             "#f0f921"
            ]
           ],
           "sequentialminus": [
            [
             0.0,
             "#0d0887"
            ],
            [
             0.1111111111111111,
             "#46039f"
            ],
            [
             0.2222222222222222,
             "#7201a8"
            ],
            [
             0.3333333333333333,
             "#9c179e"
            ],
            [
             0.4444444444444444,
             "#bd3786"
            ],
            [
             0.5555555555555556,
             "#d8576b"
            ],
            [
             0.6666666666666666,
             "#ed7953"
            ],
            [
             0.7777777777777778,
             "#fb9f3a"
            ],
            [
             0.8888888888888888,
             "#fdca26"
            ],
            [
             1.0,
             "#f0f921"
            ]
           ],
           "diverging": [
            [
             0,
             "#8e0152"
            ],
            [
             0.1,
             "#c51b7d"
            ],
            [
             0.2,
             "#de77ae"
            ],
            [
             0.3,
             "#f1b6da"
            ],
            [
             0.4,
             "#fde0ef"
            ],
            [
             0.5,
             "#f7f7f7"
            ],
            [
             0.6,
             "#e6f5d0"
            ],
            [
             0.7,
             "#b8e186"
            ],
            [
             0.8,
             "#7fbc41"
            ],
            [
             0.9,
             "#4d9221"
            ],
            [
             1,
             "#276419"
            ]
           ]
          },
          "xaxis": {
           "gridcolor": "white",
           "linecolor": "white",
           "ticks": "",
           "title": {
            "standoff": 15
           },
           "zerolinecolor": "white",
           "automargin": true,
           "zerolinewidth": 2
          },
          "yaxis": {
           "gridcolor": "white",
           "linecolor": "white",
           "ticks": "",
           "title": {
            "standoff": 15
           },
           "zerolinecolor": "white",
           "automargin": true,
           "zerolinewidth": 2
          },
          "scene": {
           "xaxis": {
            "backgroundcolor": "#E5ECF6",
            "gridcolor": "white",
            "linecolor": "white",
            "showbackground": true,
            "ticks": "",
            "zerolinecolor": "white",
            "gridwidth": 2
           },
           "yaxis": {
            "backgroundcolor": "#E5ECF6",
            "gridcolor": "white",
            "linecolor": "white",
            "showbackground": true,
            "ticks": "",
            "zerolinecolor": "white",
            "gridwidth": 2
           },
           "zaxis": {
            "backgroundcolor": "#E5ECF6",
            "gridcolor": "white",
            "linecolor": "white",
            "showbackground": true,
            "ticks": "",
            "zerolinecolor": "white",
            "gridwidth": 2
           }
          },
          "shapedefaults": {
           "line": {
            "color": "#2a3f5f"
           }
          },
          "annotationdefaults": {
           "arrowcolor": "#2a3f5f",
           "arrowhead": 0,
           "arrowwidth": 1
          },
          "geo": {
           "bgcolor": "white",
           "landcolor": "#E5ECF6",
           "subunitcolor": "white",
           "showland": true,
           "showlakes": true,
           "lakecolor": "white"
          },
          "title": {
           "x": 0.05
          },
          "mapbox": {
           "style": "light"
          }
         }
        },
        "xaxis": {
         "title": {
          "text": "Support"
         },
         "autorange": "reversed"
        },
        "title": {
         "text": "Association Rules Strength Distribution"
        },
        "yaxis": {
         "title": {
          "text": "Confidence"
         }
        }
       },
       "config": {
        "plotlyServerURL": "https://plot.ly"
       }
      },
      "text/html": [
       "<div>                            <div id=\"00faa53f-f796-4dd2-9e64-02c304d0e883\" class=\"plotly-graph-div\" style=\"height:525px; width:100%;\"></div>            <script type=\"text/javascript\">                require([\"plotly\"], function(Plotly) {                    window.PLOTLYENV=window.PLOTLYENV || {};                                    if (document.getElementById(\"00faa53f-f796-4dd2-9e64-02c304d0e883\")) {                    Plotly.newPlot(                        \"00faa53f-f796-4dd2-9e64-02c304d0e883\",                        [{\"marker\":{\"color\":[1.7039689550731953,1.7171575692765482],\"colorbar\":{\"title\":{\"text\":\"Lift\"}},\"colorscale\":[[0.0,\"rgb(243, 224, 247)\"],[0.16666666666666666,\"rgb(228, 199, 241)\"],[0.3333333333333333,\"rgb(209, 175, 232)\"],[0.5,\"rgb(185, 152, 221)\"],[0.6666666666666666,\"rgb(159, 130, 206)\"],[0.8333333333333334,\"rgb(130, 109, 186)\"],[1.0,\"rgb(99, 88, 159)\"]]},\"mode\":\"markers\",\"text\":[\"('Keeping It Local',) =\\u003e ('Coffee',), Lift: 1.7039689550731953\",\"('Extra Salami or Feta',) =\\u003e ('Coffee',), Lift: 1.7171575692765482\"],\"x\":[0.0053509600251809885,0.003252544329031581],\"y\":[0.8095238095238095,0.8157894736842105],\"type\":\"scatter\"}],                        {\"template\":{\"data\":{\"histogram2dcontour\":[{\"type\":\"histogram2dcontour\",\"colorbar\":{\"outlinewidth\":0,\"ticks\":\"\"},\"colorscale\":[[0.0,\"#0d0887\"],[0.1111111111111111,\"#46039f\"],[0.2222222222222222,\"#7201a8\"],[0.3333333333333333,\"#9c179e\"],[0.4444444444444444,\"#bd3786\"],[0.5555555555555556,\"#d8576b\"],[0.6666666666666666,\"#ed7953\"],[0.7777777777777778,\"#fb9f3a\"],[0.8888888888888888,\"#fdca26\"],[1.0,\"#f0f921\"]]}],\"choropleth\":[{\"type\":\"choropleth\",\"colorbar\":{\"outlinewidth\":0,\"ticks\":\"\"}}],\"histogram2d\":[{\"type\":\"histogram2d\",\"colorbar\":{\"outlinewidth\":0,\"ticks\":\"\"},\"colorscale\":[[0.0,\"#0d0887\"],[0.1111111111111111,\"#46039f\"],[0.2222222222222222,\"#7201a8\"],[0.3333333333333333,\"#9c179e\"],[0.4444444444444444,\"#bd3786\"],[0.5555555555555556,\"#d8576b\"],[0.6666666666666666,\"#ed7953\"],[0.7777777777777778,\"#fb9f3a\"],[0.8888888888888888,\"#fdca26\"],[1.0,\"#f0f921\"]]}],\"heatmap\":[{\"type\":\"heatmap\",\"colorbar\":{\"outlinewidth\":0,\"ticks\":\"\"},\"colorscale\":[[0.0,\"#0d0887\"],[0.1111111111111111,\"#46039f\"],[0.2222222222222222,\"#7201a8\"],[0.3333333333333333,\"#9c179e\"],[0.4444444444444444,\"#bd3786\"],[0.5555555555555556,\"#d8576b\"],[0.6666666666666666,\"#ed7953\"],[0.7777777777777778,\"#fb9f3a\"],[0.8888888888888888,\"#fdca26\"],[1.0,\"#f0f921\"]]}],\"heatmapgl\":[{\"type\":\"heatmapgl\",\"colorbar\":{\"outlinewidth\":0,\"ticks\":\"\"},\"colorscale\":[[0.0,\"#0d0887\"],[0.1111111111111111,\"#46039f\"],[0.2222222222222222,\"#7201a8\"],[0.3333333333333333,\"#9c179e\"],[0.4444444444444444,\"#bd3786\"],[0.5555555555555556,\"#d8576b\"],[0.6666666666666666,\"#ed7953\"],[0.7777777777777778,\"#fb9f3a\"],[0.8888888888888888,\"#fdca26\"],[1.0,\"#f0f921\"]]}],\"contourcarpet\":[{\"type\":\"contourcarpet\",\"colorbar\":{\"outlinewidth\":0,\"ticks\":\"\"}}],\"contour\":[{\"type\":\"contour\",\"colorbar\":{\"outlinewidth\":0,\"ticks\":\"\"},\"colorscale\":[[0.0,\"#0d0887\"],[0.1111111111111111,\"#46039f\"],[0.2222222222222222,\"#7201a8\"],[0.3333333333333333,\"#9c179e\"],[0.4444444444444444,\"#bd3786\"],[0.5555555555555556,\"#d8576b\"],[0.6666666666666666,\"#ed7953\"],[0.7777777777777778,\"#fb9f3a\"],[0.8888888888888888,\"#fdca26\"],[1.0,\"#f0f921\"]]}],\"surface\":[{\"type\":\"surface\",\"colorbar\":{\"outlinewidth\":0,\"ticks\":\"\"},\"colorscale\":[[0.0,\"#0d0887\"],[0.1111111111111111,\"#46039f\"],[0.2222222222222222,\"#7201a8\"],[0.3333333333333333,\"#9c179e\"],[0.4444444444444444,\"#bd3786\"],[0.5555555555555556,\"#d8576b\"],[0.6666666666666666,\"#ed7953\"],[0.7777777777777778,\"#fb9f3a\"],[0.8888888888888888,\"#fdca26\"],[1.0,\"#f0f921\"]]}],\"mesh3d\":[{\"type\":\"mesh3d\",\"colorbar\":{\"outlinewidth\":0,\"ticks\":\"\"}}],\"scatter\":[{\"fillpattern\":{\"fillmode\":\"overlay\",\"size\":10,\"solidity\":0.2},\"type\":\"scatter\"}],\"parcoords\":[{\"type\":\"parcoords\",\"line\":{\"colorbar\":{\"outlinewidth\":0,\"ticks\":\"\"}}}],\"scatterpolargl\":[{\"type\":\"scatterpolargl\",\"marker\":{\"colorbar\":{\"outlinewidth\":0,\"ticks\":\"\"}}}],\"bar\":[{\"error_x\":{\"color\":\"#2a3f5f\"},\"error_y\":{\"color\":\"#2a3f5f\"},\"marker\":{\"line\":{\"color\":\"#E5ECF6\",\"width\":0.5},\"pattern\":{\"fillmode\":\"overlay\",\"size\":10,\"solidity\":0.2}},\"type\":\"bar\"}],\"scattergeo\":[{\"type\":\"scattergeo\",\"marker\":{\"colorbar\":{\"outlinewidth\":0,\"ticks\":\"\"}}}],\"scatterpolar\":[{\"type\":\"scatterpolar\",\"marker\":{\"colorbar\":{\"outlinewidth\":0,\"ticks\":\"\"}}}],\"histogram\":[{\"marker\":{\"pattern\":{\"fillmode\":\"overlay\",\"size\":10,\"solidity\":0.2}},\"type\":\"histogram\"}],\"scattergl\":[{\"type\":\"scattergl\",\"marker\":{\"colorbar\":{\"outlinewidth\":0,\"ticks\":\"\"}}}],\"scatter3d\":[{\"type\":\"scatter3d\",\"line\":{\"colorbar\":{\"outlinewidth\":0,\"ticks\":\"\"}},\"marker\":{\"colorbar\":{\"outlinewidth\":0,\"ticks\":\"\"}}}],\"scattermapbox\":[{\"type\":\"scattermapbox\",\"marker\":{\"colorbar\":{\"outlinewidth\":0,\"ticks\":\"\"}}}],\"scatterternary\":[{\"type\":\"scatterternary\",\"marker\":{\"colorbar\":{\"outlinewidth\":0,\"ticks\":\"\"}}}],\"scattercarpet\":[{\"type\":\"scattercarpet\",\"marker\":{\"colorbar\":{\"outlinewidth\":0,\"ticks\":\"\"}}}],\"carpet\":[{\"aaxis\":{\"endlinecolor\":\"#2a3f5f\",\"gridcolor\":\"white\",\"linecolor\":\"white\",\"minorgridcolor\":\"white\",\"startlinecolor\":\"#2a3f5f\"},\"baxis\":{\"endlinecolor\":\"#2a3f5f\",\"gridcolor\":\"white\",\"linecolor\":\"white\",\"minorgridcolor\":\"white\",\"startlinecolor\":\"#2a3f5f\"},\"type\":\"carpet\"}],\"table\":[{\"cells\":{\"fill\":{\"color\":\"#EBF0F8\"},\"line\":{\"color\":\"white\"}},\"header\":{\"fill\":{\"color\":\"#C8D4E3\"},\"line\":{\"color\":\"white\"}},\"type\":\"table\"}],\"barpolar\":[{\"marker\":{\"line\":{\"color\":\"#E5ECF6\",\"width\":0.5},\"pattern\":{\"fillmode\":\"overlay\",\"size\":10,\"solidity\":0.2}},\"type\":\"barpolar\"}],\"pie\":[{\"automargin\":true,\"type\":\"pie\"}]},\"layout\":{\"autotypenumbers\":\"strict\",\"colorway\":[\"#636efa\",\"#EF553B\",\"#00cc96\",\"#ab63fa\",\"#FFA15A\",\"#19d3f3\",\"#FF6692\",\"#B6E880\",\"#FF97FF\",\"#FECB52\"],\"font\":{\"color\":\"#2a3f5f\"},\"hovermode\":\"closest\",\"hoverlabel\":{\"align\":\"left\"},\"paper_bgcolor\":\"white\",\"plot_bgcolor\":\"#E5ECF6\",\"polar\":{\"bgcolor\":\"#E5ECF6\",\"angularaxis\":{\"gridcolor\":\"white\",\"linecolor\":\"white\",\"ticks\":\"\"},\"radialaxis\":{\"gridcolor\":\"white\",\"linecolor\":\"white\",\"ticks\":\"\"}},\"ternary\":{\"bgcolor\":\"#E5ECF6\",\"aaxis\":{\"gridcolor\":\"white\",\"linecolor\":\"white\",\"ticks\":\"\"},\"baxis\":{\"gridcolor\":\"white\",\"linecolor\":\"white\",\"ticks\":\"\"},\"caxis\":{\"gridcolor\":\"white\",\"linecolor\":\"white\",\"ticks\":\"\"}},\"coloraxis\":{\"colorbar\":{\"outlinewidth\":0,\"ticks\":\"\"}},\"colorscale\":{\"sequential\":[[0.0,\"#0d0887\"],[0.1111111111111111,\"#46039f\"],[0.2222222222222222,\"#7201a8\"],[0.3333333333333333,\"#9c179e\"],[0.4444444444444444,\"#bd3786\"],[0.5555555555555556,\"#d8576b\"],[0.6666666666666666,\"#ed7953\"],[0.7777777777777778,\"#fb9f3a\"],[0.8888888888888888,\"#fdca26\"],[1.0,\"#f0f921\"]],\"sequentialminus\":[[0.0,\"#0d0887\"],[0.1111111111111111,\"#46039f\"],[0.2222222222222222,\"#7201a8\"],[0.3333333333333333,\"#9c179e\"],[0.4444444444444444,\"#bd3786\"],[0.5555555555555556,\"#d8576b\"],[0.6666666666666666,\"#ed7953\"],[0.7777777777777778,\"#fb9f3a\"],[0.8888888888888888,\"#fdca26\"],[1.0,\"#f0f921\"]],\"diverging\":[[0,\"#8e0152\"],[0.1,\"#c51b7d\"],[0.2,\"#de77ae\"],[0.3,\"#f1b6da\"],[0.4,\"#fde0ef\"],[0.5,\"#f7f7f7\"],[0.6,\"#e6f5d0\"],[0.7,\"#b8e186\"],[0.8,\"#7fbc41\"],[0.9,\"#4d9221\"],[1,\"#276419\"]]},\"xaxis\":{\"gridcolor\":\"white\",\"linecolor\":\"white\",\"ticks\":\"\",\"title\":{\"standoff\":15},\"zerolinecolor\":\"white\",\"automargin\":true,\"zerolinewidth\":2},\"yaxis\":{\"gridcolor\":\"white\",\"linecolor\":\"white\",\"ticks\":\"\",\"title\":{\"standoff\":15},\"zerolinecolor\":\"white\",\"automargin\":true,\"zerolinewidth\":2},\"scene\":{\"xaxis\":{\"backgroundcolor\":\"#E5ECF6\",\"gridcolor\":\"white\",\"linecolor\":\"white\",\"showbackground\":true,\"ticks\":\"\",\"zerolinecolor\":\"white\",\"gridwidth\":2},\"yaxis\":{\"backgroundcolor\":\"#E5ECF6\",\"gridcolor\":\"white\",\"linecolor\":\"white\",\"showbackground\":true,\"ticks\":\"\",\"zerolinecolor\":\"white\",\"gridwidth\":2},\"zaxis\":{\"backgroundcolor\":\"#E5ECF6\",\"gridcolor\":\"white\",\"linecolor\":\"white\",\"showbackground\":true,\"ticks\":\"\",\"zerolinecolor\":\"white\",\"gridwidth\":2}},\"shapedefaults\":{\"line\":{\"color\":\"#2a3f5f\"}},\"annotationdefaults\":{\"arrowcolor\":\"#2a3f5f\",\"arrowhead\":0,\"arrowwidth\":1},\"geo\":{\"bgcolor\":\"white\",\"landcolor\":\"#E5ECF6\",\"subunitcolor\":\"white\",\"showland\":true,\"showlakes\":true,\"lakecolor\":\"white\"},\"title\":{\"x\":0.05},\"mapbox\":{\"style\":\"light\"}}},\"xaxis\":{\"title\":{\"text\":\"Support\"},\"autorange\":\"reversed\"},\"title\":{\"text\":\"Association Rules Strength Distribution\"},\"yaxis\":{\"title\":{\"text\":\"Confidence\"}}},                        {\"responsive\": true}                    ).then(function(){\n",
       "                            \n",
       "var gd = document.getElementById('00faa53f-f796-4dd2-9e64-02c304d0e883');\n",
       "var x = new MutationObserver(function (mutations, observer) {{\n",
       "        var display = window.getComputedStyle(gd).display;\n",
       "        if (!display || display === 'none') {{\n",
       "            console.log([gd, 'removed!']);\n",
       "            Plotly.purge(gd);\n",
       "            observer.disconnect();\n",
       "        }}\n",
       "}});\n",
       "\n",
       "// Listen for the removal of the full notebook cells\n",
       "var notebookContainer = gd.closest('#notebook-container');\n",
       "if (notebookContainer) {{\n",
       "    x.observe(notebookContainer, {childList: true});\n",
       "}}\n",
       "\n",
       "// Listen for the clearing of the current output cell\n",
       "var outputEl = gd.closest('.output');\n",
       "if (outputEl) {{\n",
       "    x.observe(outputEl, {childList: true});\n",
       "}}\n",
       "\n",
       "                        })                };                });            </script>        </div>"
      ]
     },
     "metadata": {},
     "output_type": "display_data",
     "jetTransient": {
      "display_id": null
     }
    },
    {
     "data": {
      "application/vnd.plotly.v1+json": {
       "data": [
        {
         "hoverinfo": "none",
         "line": {
          "color": "#888",
          "width": 0.5
         },
         "mode": "lines",
         "x": [
          0.49213223002329726,
          0.7201909922082418,
          null,
          -0.29231872200131354,
          0.49213223002329726,
          null,
          0.20259348271976707,
          0.7201909922082418,
          null,
          0.14242699331663783,
          0.20259348271976707,
          null,
          0.14242699331663783,
          0.6154414736212482,
          null,
          0.17591308947480877,
          0.7201909922082418,
          null,
          0.09449271192170938,
          0.17591308947480877,
          null,
          0.2419248798447259,
          0.17591308947480877,
          null,
          0.06285399080876698,
          0.7201909922082418,
          null,
          -0.4669489408238465,
          0.06285399080876698,
          null,
          -0.4669489408238465,
          0.13777904065417476,
          null,
          -0.4669489408238465,
          -0.2045568149502338,
          null,
          -0.6181411330616697,
          0.06285399080876698,
          null,
          0.7996965566051456,
          0.7201909922082418,
          null,
          0.09064828751468185,
          0.7996965566051456,
          null,
          0.09064828751468185,
          0.6154414736212482,
          null,
          0.3967288890959871,
          0.7996965566051456,
          null,
          0.3967288890959871,
          0.10874935098783119,
          null,
          0.10874935098783119,
          0.7201909922082418,
          null,
          -0.15315433104330997,
          0.10874935098783119,
          null,
          -0.03724926519866148,
          0.7201909922082418,
          null,
          -0.6001395563575738,
          -0.03724926519866148,
          null,
          -0.5927908079177124,
          -0.03724926519866148,
          null,
          0.6154414736212482,
          0.7201909922082418,
          null,
          0.13777904065417476,
          0.7201909922082418,
          null,
          -0.35177897012610426,
          0.13777904065417476,
          null,
          -0.0033979195395950922,
          0.13777904065417476,
          null,
          -0.2045568149502338,
          0.7201909922082418,
          null,
          -0.9610955077770202,
          -0.2045568149502338,
          null
         ],
         "y": [
          0.5718673536479624,
          0.24882289942098576,
          null,
          0.7045845018343285,
          0.5718673536479624,
          null,
          0.5397944390240758,
          0.24882289942098576,
          null,
          0.127890772141689,
          0.5397944390240758,
          null,
          0.127890772141689,
          -0.12916400098299335,
          null,
          0.29096351789628283,
          0.24882289942098576,
          null,
          0.8554054432312882,
          0.29096351789628283,
          null,
          -0.15638687922361916,
          0.29096351789628283,
          null,
          0.43147262751245596,
          0.24882289942098576,
          null,
          0.1330148276539597,
          0.43147262751245596,
          null,
          0.1330148276539597,
          -0.04814014592044648,
          null,
          0.1330148276539597,
          0.08289138247823345,
          null,
          0.603775532694279,
          0.43147262751245596,
          null,
          -0.21180085623471387,
          0.24882289942098576,
          null,
          -0.382170258270177,
          -0.21180085623471387,
          null,
          -0.382170258270177,
          -0.12916400098299335,
          null,
          -0.6906330344127963,
          -0.21180085623471387,
          null,
          -0.6906330344127963,
          -0.44399037239514677,
          null,
          -0.44399037239514677,
          0.24882289942098576,
          null,
          -1.0,
          -0.44399037239514677,
          null,
          -0.00564371804203892,
          0.24882289942098576,
          null,
          -0.3202520395964263,
          -0.00564371804203892,
          null,
          -0.06779090411130186,
          -0.00564371804203892,
          null,
          -0.12916400098299335,
          0.24882289942098576,
          null,
          -0.04814014592044648,
          0.24882289942098576,
          null,
          -0.46577497055531164,
          -0.04814014592044648,
          null,
          -0.6335882383332757,
          -0.04814014592044648,
          null,
          0.08289138247823345,
          0.24882289942098576,
          null,
          -0.035147879457301835,
          0.08289138247823345,
          null
         ],
         "type": "scatter"
        },
        {
         "hoverinfo": "text",
         "marker": {
          "color": [],
          "colorbar": {
           "thickness": 15,
           "title": {
            "side": "right",
            "text": "Node Connections"
           },
           "xanchor": "left"
          },
          "colorscale": [
           [
            0.0,
            "rgb(255,255,217)"
           ],
           [
            0.125,
            "rgb(237,248,177)"
           ],
           [
            0.25,
            "rgb(199,233,180)"
           ],
           [
            0.375,
            "rgb(127,205,187)"
           ],
           [
            0.5,
            "rgb(65,182,196)"
           ],
           [
            0.625,
            "rgb(29,145,192)"
           ],
           [
            0.75,
            "rgb(34,94,168)"
           ],
           [
            0.875,
            "rgb(37,52,148)"
           ],
           [
            1.0,
            "rgb(8,29,88)"
           ]
          ],
          "line": {
           "width": 2
          },
          "reversescale": true,
          "showscale": true,
          "size": 10
         },
         "mode": "markers",
         "text": [
          "0",
          "Keeping It Local",
          "Coffee",
          "1",
          "Extra Salami or Feta",
          "2",
          "Vegan mincepie",
          "Cake",
          "3",
          "NONE",
          "Scone",
          "4",
          "Salad",
          "Sandwich",
          "5",
          "Hearty & Seasonal",
          "6",
          "Pastry",
          "Toast",
          "7",
          "8",
          "Hot chocolate",
          "Medialuna",
          "9",
          "Tartine"
         ],
         "x": [
          0.49213223002329726,
          -0.29231872200131354,
          0.7201909922082418,
          0.20259348271976707,
          0.14242699331663783,
          0.17591308947480877,
          0.09449271192170938,
          0.2419248798447259,
          0.06285399080876698,
          -0.4669489408238465,
          -0.6181411330616697,
          0.7996965566051456,
          0.09064828751468185,
          0.3967288890959871,
          0.10874935098783119,
          -0.15315433104330997,
          -0.03724926519866148,
          -0.6001395563575738,
          -0.5927908079177124,
          0.6154414736212482,
          0.13777904065417476,
          -0.35177897012610426,
          -0.0033979195395950922,
          -0.2045568149502338,
          -0.9610955077770202
         ],
         "y": [
          0.5718673536479624,
          0.7045845018343285,
          0.24882289942098576,
          0.5397944390240758,
          0.127890772141689,
          0.29096351789628283,
          0.8554054432312882,
          -0.15638687922361916,
          0.43147262751245596,
          0.1330148276539597,
          0.603775532694279,
          -0.21180085623471387,
          -0.382170258270177,
          -0.6906330344127963,
          -0.44399037239514677,
          -1.0,
          -0.00564371804203892,
          -0.3202520395964263,
          -0.06779090411130186,
          -0.12916400098299335,
          -0.04814014592044648,
          -0.46577497055531164,
          -0.6335882383332757,
          0.08289138247823345,
          -0.035147879457301835
         ],
         "type": "scatter"
        }
       ],
       "layout": {
        "annotations": [
         {
          "showarrow": false,
          "text": "Python code: <a href='https://plotly.com/ipython-notebooks/network-graphs/'> https://plotly.com/ipython-notebooks/network-graphs/</a>",
          "x": 0.005,
          "xref": "paper",
          "y": -0.002,
          "yref": "paper"
         }
        ],
        "hovermode": "closest",
        "margin": {
         "b": 20,
         "l": 5,
         "r": 5,
         "t": 40
        },
        "showlegend": false,
        "title": {
         "font": {
          "size": 16
         },
         "text": "<br>Network graph made with Python"
        },
        "xaxis": {
         "showgrid": false,
         "showticklabels": false,
         "zeroline": false
        },
        "yaxis": {
         "showgrid": false,
         "showticklabels": false,
         "zeroline": false
        },
        "template": {
         "data": {
          "histogram2dcontour": [
           {
            "type": "histogram2dcontour",
            "colorbar": {
             "outlinewidth": 0,
             "ticks": ""
            },
            "colorscale": [
             [
              0.0,
              "#0d0887"
             ],
             [
              0.1111111111111111,
              "#46039f"
             ],
             [
              0.2222222222222222,
              "#7201a8"
             ],
             [
              0.3333333333333333,
              "#9c179e"
             ],
             [
              0.4444444444444444,
              "#bd3786"
             ],
             [
              0.5555555555555556,
              "#d8576b"
             ],
             [
              0.6666666666666666,
              "#ed7953"
             ],
             [
              0.7777777777777778,
              "#fb9f3a"
             ],
             [
              0.8888888888888888,
              "#fdca26"
             ],
             [
              1.0,
              "#f0f921"
             ]
            ]
           }
          ],
          "choropleth": [
           {
            "type": "choropleth",
            "colorbar": {
             "outlinewidth": 0,
             "ticks": ""
            }
           }
          ],
          "histogram2d": [
           {
            "type": "histogram2d",
            "colorbar": {
             "outlinewidth": 0,
             "ticks": ""
            },
            "colorscale": [
             [
              0.0,
              "#0d0887"
             ],
             [
              0.1111111111111111,
              "#46039f"
             ],
             [
              0.2222222222222222,
              "#7201a8"
             ],
             [
              0.3333333333333333,
              "#9c179e"
             ],
             [
              0.4444444444444444,
              "#bd3786"
             ],
             [
              0.5555555555555556,
              "#d8576b"
             ],
             [
              0.6666666666666666,
              "#ed7953"
             ],
             [
              0.7777777777777778,
              "#fb9f3a"
             ],
             [
              0.8888888888888888,
              "#fdca26"
             ],
             [
              1.0,
              "#f0f921"
             ]
            ]
           }
          ],
          "heatmap": [
           {
            "type": "heatmap",
            "colorbar": {
             "outlinewidth": 0,
             "ticks": ""
            },
            "colorscale": [
             [
              0.0,
              "#0d0887"
             ],
             [
              0.1111111111111111,
              "#46039f"
             ],
             [
              0.2222222222222222,
              "#7201a8"
             ],
             [
              0.3333333333333333,
              "#9c179e"
             ],
             [
              0.4444444444444444,
              "#bd3786"
             ],
             [
              0.5555555555555556,
              "#d8576b"
             ],
             [
              0.6666666666666666,
              "#ed7953"
             ],
             [
              0.7777777777777778,
              "#fb9f3a"
             ],
             [
              0.8888888888888888,
              "#fdca26"
             ],
             [
              1.0,
              "#f0f921"
             ]
            ]
           }
          ],
          "heatmapgl": [
           {
            "type": "heatmapgl",
            "colorbar": {
             "outlinewidth": 0,
             "ticks": ""
            },
            "colorscale": [
             [
              0.0,
              "#0d0887"
             ],
             [
              0.1111111111111111,
              "#46039f"
             ],
             [
              0.2222222222222222,
              "#7201a8"
             ],
             [
              0.3333333333333333,
              "#9c179e"
             ],
             [
              0.4444444444444444,
              "#bd3786"
             ],
             [
              0.5555555555555556,
              "#d8576b"
             ],
             [
              0.6666666666666666,
              "#ed7953"
             ],
             [
              0.7777777777777778,
              "#fb9f3a"
             ],
             [
              0.8888888888888888,
              "#fdca26"
             ],
             [
              1.0,
              "#f0f921"
             ]
            ]
           }
          ],
          "contourcarpet": [
           {
            "type": "contourcarpet",
            "colorbar": {
             "outlinewidth": 0,
             "ticks": ""
            }
           }
          ],
          "contour": [
           {
            "type": "contour",
            "colorbar": {
             "outlinewidth": 0,
             "ticks": ""
            },
            "colorscale": [
             [
              0.0,
              "#0d0887"
             ],
             [
              0.1111111111111111,
              "#46039f"
             ],
             [
              0.2222222222222222,
              "#7201a8"
             ],
             [
              0.3333333333333333,
              "#9c179e"
             ],
             [
              0.4444444444444444,
              "#bd3786"
             ],
             [
              0.5555555555555556,
              "#d8576b"
             ],
             [
              0.6666666666666666,
              "#ed7953"
             ],
             [
              0.7777777777777778,
              "#fb9f3a"
             ],
             [
              0.8888888888888888,
              "#fdca26"
             ],
             [
              1.0,
              "#f0f921"
             ]
            ]
           }
          ],
          "surface": [
           {
            "type": "surface",
            "colorbar": {
             "outlinewidth": 0,
             "ticks": ""
            },
            "colorscale": [
             [
              0.0,
              "#0d0887"
             ],
             [
              0.1111111111111111,
              "#46039f"
             ],
             [
              0.2222222222222222,
              "#7201a8"
             ],
             [
              0.3333333333333333,
              "#9c179e"
             ],
             [
              0.4444444444444444,
              "#bd3786"
             ],
             [
              0.5555555555555556,
              "#d8576b"
             ],
             [
              0.6666666666666666,
              "#ed7953"
             ],
             [
              0.7777777777777778,
              "#fb9f3a"
             ],
             [
              0.8888888888888888,
              "#fdca26"
             ],
             [
              1.0,
              "#f0f921"
             ]
            ]
           }
          ],
          "mesh3d": [
           {
            "type": "mesh3d",
            "colorbar": {
             "outlinewidth": 0,
             "ticks": ""
            }
           }
          ],
          "scatter": [
           {
            "fillpattern": {
             "fillmode": "overlay",
             "size": 10,
             "solidity": 0.2
            },
            "type": "scatter"
           }
          ],
          "parcoords": [
           {
            "type": "parcoords",
            "line": {
             "colorbar": {
              "outlinewidth": 0,
              "ticks": ""
             }
            }
           }
          ],
          "scatterpolargl": [
           {
            "type": "scatterpolargl",
            "marker": {
             "colorbar": {
              "outlinewidth": 0,
              "ticks": ""
             }
            }
           }
          ],
          "bar": [
           {
            "error_x": {
             "color": "#2a3f5f"
            },
            "error_y": {
             "color": "#2a3f5f"
            },
            "marker": {
             "line": {
              "color": "#E5ECF6",
              "width": 0.5
             },
             "pattern": {
              "fillmode": "overlay",
              "size": 10,
              "solidity": 0.2
             }
            },
            "type": "bar"
           }
          ],
          "scattergeo": [
           {
            "type": "scattergeo",
            "marker": {
             "colorbar": {
              "outlinewidth": 0,
              "ticks": ""
             }
            }
           }
          ],
          "scatterpolar": [
           {
            "type": "scatterpolar",
            "marker": {
             "colorbar": {
              "outlinewidth": 0,
              "ticks": ""
             }
            }
           }
          ],
          "histogram": [
           {
            "marker": {
             "pattern": {
              "fillmode": "overlay",
              "size": 10,
              "solidity": 0.2
             }
            },
            "type": "histogram"
           }
          ],
          "scattergl": [
           {
            "type": "scattergl",
            "marker": {
             "colorbar": {
              "outlinewidth": 0,
              "ticks": ""
             }
            }
           }
          ],
          "scatter3d": [
           {
            "type": "scatter3d",
            "line": {
             "colorbar": {
              "outlinewidth": 0,
              "ticks": ""
             }
            },
            "marker": {
             "colorbar": {
              "outlinewidth": 0,
              "ticks": ""
             }
            }
           }
          ],
          "scattermapbox": [
           {
            "type": "scattermapbox",
            "marker": {
             "colorbar": {
              "outlinewidth": 0,
              "ticks": ""
             }
            }
           }
          ],
          "scatterternary": [
           {
            "type": "scatterternary",
            "marker": {
             "colorbar": {
              "outlinewidth": 0,
              "ticks": ""
             }
            }
           }
          ],
          "scattercarpet": [
           {
            "type": "scattercarpet",
            "marker": {
             "colorbar": {
              "outlinewidth": 0,
              "ticks": ""
             }
            }
           }
          ],
          "carpet": [
           {
            "aaxis": {
             "endlinecolor": "#2a3f5f",
             "gridcolor": "white",
             "linecolor": "white",
             "minorgridcolor": "white",
             "startlinecolor": "#2a3f5f"
            },
            "baxis": {
             "endlinecolor": "#2a3f5f",
             "gridcolor": "white",
             "linecolor": "white",
             "minorgridcolor": "white",
             "startlinecolor": "#2a3f5f"
            },
            "type": "carpet"
           }
          ],
          "table": [
           {
            "cells": {
             "fill": {
              "color": "#EBF0F8"
             },
             "line": {
              "color": "white"
             }
            },
            "header": {
             "fill": {
              "color": "#C8D4E3"
             },
             "line": {
              "color": "white"
             }
            },
            "type": "table"
           }
          ],
          "barpolar": [
           {
            "marker": {
             "line": {
              "color": "#E5ECF6",
              "width": 0.5
             },
             "pattern": {
              "fillmode": "overlay",
              "size": 10,
              "solidity": 0.2
             }
            },
            "type": "barpolar"
           }
          ],
          "pie": [
           {
            "automargin": true,
            "type": "pie"
           }
          ]
         },
         "layout": {
          "autotypenumbers": "strict",
          "colorway": [
           "#636efa",
           "#EF553B",
           "#00cc96",
           "#ab63fa",
           "#FFA15A",
           "#19d3f3",
           "#FF6692",
           "#B6E880",
           "#FF97FF",
           "#FECB52"
          ],
          "font": {
           "color": "#2a3f5f"
          },
          "hovermode": "closest",
          "hoverlabel": {
           "align": "left"
          },
          "paper_bgcolor": "white",
          "plot_bgcolor": "#E5ECF6",
          "polar": {
           "bgcolor": "#E5ECF6",
           "angularaxis": {
            "gridcolor": "white",
            "linecolor": "white",
            "ticks": ""
           },
           "radialaxis": {
            "gridcolor": "white",
            "linecolor": "white",
            "ticks": ""
           }
          },
          "ternary": {
           "bgcolor": "#E5ECF6",
           "aaxis": {
            "gridcolor": "white",
            "linecolor": "white",
            "ticks": ""
           },
           "baxis": {
            "gridcolor": "white",
            "linecolor": "white",
            "ticks": ""
           },
           "caxis": {
            "gridcolor": "white",
            "linecolor": "white",
            "ticks": ""
           }
          },
          "coloraxis": {
           "colorbar": {
            "outlinewidth": 0,
            "ticks": ""
           }
          },
          "colorscale": {
           "sequential": [
            [
             0.0,
             "#0d0887"
            ],
            [
             0.1111111111111111,
             "#46039f"
            ],
            [
             0.2222222222222222,
             "#7201a8"
            ],
            [
             0.3333333333333333,
             "#9c179e"
            ],
            [
             0.4444444444444444,
             "#bd3786"
            ],
            [
             0.5555555555555556,
             "#d8576b"
            ],
            [
             0.6666666666666666,
             "#ed7953"
            ],
            [
             0.7777777777777778,
             "#fb9f3a"
            ],
            [
             0.8888888888888888,
             "#fdca26"
            ],
            [
             1.0,
             "#f0f921"
            ]
           ],
           "sequentialminus": [
            [
             0.0,
             "#0d0887"
            ],
            [
             0.1111111111111111,
             "#46039f"
            ],
            [
             0.2222222222222222,
             "#7201a8"
            ],
            [
             0.3333333333333333,
             "#9c179e"
            ],
            [
             0.4444444444444444,
             "#bd3786"
            ],
            [
             0.5555555555555556,
             "#d8576b"
            ],
            [
             0.6666666666666666,
             "#ed7953"
            ],
            [
             0.7777777777777778,
             "#fb9f3a"
            ],
            [
             0.8888888888888888,
             "#fdca26"
            ],
            [
             1.0,
             "#f0f921"
            ]
           ],
           "diverging": [
            [
             0,
             "#8e0152"
            ],
            [
             0.1,
             "#c51b7d"
            ],
            [
             0.2,
             "#de77ae"
            ],
            [
             0.3,
             "#f1b6da"
            ],
            [
             0.4,
             "#fde0ef"
            ],
            [
             0.5,
             "#f7f7f7"
            ],
            [
             0.6,
             "#e6f5d0"
            ],
            [
             0.7,
             "#b8e186"
            ],
            [
             0.8,
             "#7fbc41"
            ],
            [
             0.9,
             "#4d9221"
            ],
            [
             1,
             "#276419"
            ]
           ]
          },
          "xaxis": {
           "gridcolor": "white",
           "linecolor": "white",
           "ticks": "",
           "title": {
            "standoff": 15
           },
           "zerolinecolor": "white",
           "automargin": true,
           "zerolinewidth": 2
          },
          "yaxis": {
           "gridcolor": "white",
           "linecolor": "white",
           "ticks": "",
           "title": {
            "standoff": 15
           },
           "zerolinecolor": "white",
           "automargin": true,
           "zerolinewidth": 2
          },
          "scene": {
           "xaxis": {
            "backgroundcolor": "#E5ECF6",
            "gridcolor": "white",
            "linecolor": "white",
            "showbackground": true,
            "ticks": "",
            "zerolinecolor": "white",
            "gridwidth": 2
           },
           "yaxis": {
            "backgroundcolor": "#E5ECF6",
            "gridcolor": "white",
            "linecolor": "white",
            "showbackground": true,
            "ticks": "",
            "zerolinecolor": "white",
            "gridwidth": 2
           },
           "zaxis": {
            "backgroundcolor": "#E5ECF6",
            "gridcolor": "white",
            "linecolor": "white",
            "showbackground": true,
            "ticks": "",
            "zerolinecolor": "white",
            "gridwidth": 2
           }
          },
          "shapedefaults": {
           "line": {
            "color": "#2a3f5f"
           }
          },
          "annotationdefaults": {
           "arrowcolor": "#2a3f5f",
           "arrowhead": 0,
           "arrowwidth": 1
          },
          "geo": {
           "bgcolor": "white",
           "landcolor": "#E5ECF6",
           "subunitcolor": "white",
           "showland": true,
           "showlakes": true,
           "lakecolor": "white"
          },
          "title": {
           "x": 0.05
          },
          "mapbox": {
           "style": "light"
          }
         }
        }
       },
       "config": {
        "plotlyServerURL": "https://plot.ly"
       }
      },
      "text/html": [
       "<div>                            <div id=\"8b0f7e73-1baa-4f01-b3ae-cdc8f279741f\" class=\"plotly-graph-div\" style=\"height:525px; width:100%;\"></div>            <script type=\"text/javascript\">                require([\"plotly\"], function(Plotly) {                    window.PLOTLYENV=window.PLOTLYENV || {};                                    if (document.getElementById(\"8b0f7e73-1baa-4f01-b3ae-cdc8f279741f\")) {                    Plotly.newPlot(                        \"8b0f7e73-1baa-4f01-b3ae-cdc8f279741f\",                        [{\"hoverinfo\":\"none\",\"line\":{\"color\":\"#888\",\"width\":0.5},\"mode\":\"lines\",\"x\":[0.49213223002329726,0.7201909922082418,null,-0.29231872200131354,0.49213223002329726,null,0.20259348271976707,0.7201909922082418,null,0.14242699331663783,0.20259348271976707,null,0.14242699331663783,0.6154414736212482,null,0.17591308947480877,0.7201909922082418,null,0.09449271192170938,0.17591308947480877,null,0.2419248798447259,0.17591308947480877,null,0.06285399080876698,0.7201909922082418,null,-0.4669489408238465,0.06285399080876698,null,-0.4669489408238465,0.13777904065417476,null,-0.4669489408238465,-0.2045568149502338,null,-0.6181411330616697,0.06285399080876698,null,0.7996965566051456,0.7201909922082418,null,0.09064828751468185,0.7996965566051456,null,0.09064828751468185,0.6154414736212482,null,0.3967288890959871,0.7996965566051456,null,0.3967288890959871,0.10874935098783119,null,0.10874935098783119,0.7201909922082418,null,-0.15315433104330997,0.10874935098783119,null,-0.03724926519866148,0.7201909922082418,null,-0.6001395563575738,-0.03724926519866148,null,-0.5927908079177124,-0.03724926519866148,null,0.6154414736212482,0.7201909922082418,null,0.13777904065417476,0.7201909922082418,null,-0.35177897012610426,0.13777904065417476,null,-0.0033979195395950922,0.13777904065417476,null,-0.2045568149502338,0.7201909922082418,null,-0.9610955077770202,-0.2045568149502338,null],\"y\":[0.5718673536479624,0.24882289942098576,null,0.7045845018343285,0.5718673536479624,null,0.5397944390240758,0.24882289942098576,null,0.127890772141689,0.5397944390240758,null,0.127890772141689,-0.12916400098299335,null,0.29096351789628283,0.24882289942098576,null,0.8554054432312882,0.29096351789628283,null,-0.15638687922361916,0.29096351789628283,null,0.43147262751245596,0.24882289942098576,null,0.1330148276539597,0.43147262751245596,null,0.1330148276539597,-0.04814014592044648,null,0.1330148276539597,0.08289138247823345,null,0.603775532694279,0.43147262751245596,null,-0.21180085623471387,0.24882289942098576,null,-0.382170258270177,-0.21180085623471387,null,-0.382170258270177,-0.12916400098299335,null,-0.6906330344127963,-0.21180085623471387,null,-0.6906330344127963,-0.44399037239514677,null,-0.44399037239514677,0.24882289942098576,null,-1.0,-0.44399037239514677,null,-0.00564371804203892,0.24882289942098576,null,-0.3202520395964263,-0.00564371804203892,null,-0.06779090411130186,-0.00564371804203892,null,-0.12916400098299335,0.24882289942098576,null,-0.04814014592044648,0.24882289942098576,null,-0.46577497055531164,-0.04814014592044648,null,-0.6335882383332757,-0.04814014592044648,null,0.08289138247823345,0.24882289942098576,null,-0.035147879457301835,0.08289138247823345,null],\"type\":\"scatter\"},{\"hoverinfo\":\"text\",\"marker\":{\"color\":[],\"colorbar\":{\"thickness\":15,\"title\":{\"side\":\"right\",\"text\":\"Node Connections\"},\"xanchor\":\"left\"},\"colorscale\":[[0.0,\"rgb(255,255,217)\"],[0.125,\"rgb(237,248,177)\"],[0.25,\"rgb(199,233,180)\"],[0.375,\"rgb(127,205,187)\"],[0.5,\"rgb(65,182,196)\"],[0.625,\"rgb(29,145,192)\"],[0.75,\"rgb(34,94,168)\"],[0.875,\"rgb(37,52,148)\"],[1.0,\"rgb(8,29,88)\"]],\"line\":{\"width\":2},\"reversescale\":true,\"showscale\":true,\"size\":10},\"mode\":\"markers\",\"text\":[\"0\",\"Keeping It Local\",\"Coffee\",\"1\",\"Extra Salami or Feta\",\"2\",\"Vegan mincepie\",\"Cake\",\"3\",\"NONE\",\"Scone\",\"4\",\"Salad\",\"Sandwich\",\"5\",\"Hearty & Seasonal\",\"6\",\"Pastry\",\"Toast\",\"7\",\"8\",\"Hot chocolate\",\"Medialuna\",\"9\",\"Tartine\"],\"x\":[0.49213223002329726,-0.29231872200131354,0.7201909922082418,0.20259348271976707,0.14242699331663783,0.17591308947480877,0.09449271192170938,0.2419248798447259,0.06285399080876698,-0.4669489408238465,-0.6181411330616697,0.7996965566051456,0.09064828751468185,0.3967288890959871,0.10874935098783119,-0.15315433104330997,-0.03724926519866148,-0.6001395563575738,-0.5927908079177124,0.6154414736212482,0.13777904065417476,-0.35177897012610426,-0.0033979195395950922,-0.2045568149502338,-0.9610955077770202],\"y\":[0.5718673536479624,0.7045845018343285,0.24882289942098576,0.5397944390240758,0.127890772141689,0.29096351789628283,0.8554054432312882,-0.15638687922361916,0.43147262751245596,0.1330148276539597,0.603775532694279,-0.21180085623471387,-0.382170258270177,-0.6906330344127963,-0.44399037239514677,-1.0,-0.00564371804203892,-0.3202520395964263,-0.06779090411130186,-0.12916400098299335,-0.04814014592044648,-0.46577497055531164,-0.6335882383332757,0.08289138247823345,-0.035147879457301835],\"type\":\"scatter\"}],                        {\"annotations\":[{\"showarrow\":false,\"text\":\"Python code: \\u003ca href='https:\\u002f\\u002fplotly.com\\u002fipython-notebooks\\u002fnetwork-graphs\\u002f'\\u003e https:\\u002f\\u002fplotly.com\\u002fipython-notebooks\\u002fnetwork-graphs\\u002f\\u003c\\u002fa\\u003e\",\"x\":0.005,\"xref\":\"paper\",\"y\":-0.002,\"yref\":\"paper\"}],\"hovermode\":\"closest\",\"margin\":{\"b\":20,\"l\":5,\"r\":5,\"t\":40},\"showlegend\":false,\"title\":{\"font\":{\"size\":16},\"text\":\"\\u003cbr\\u003eNetwork graph made with Python\"},\"xaxis\":{\"showgrid\":false,\"showticklabels\":false,\"zeroline\":false},\"yaxis\":{\"showgrid\":false,\"showticklabels\":false,\"zeroline\":false},\"template\":{\"data\":{\"histogram2dcontour\":[{\"type\":\"histogram2dcontour\",\"colorbar\":{\"outlinewidth\":0,\"ticks\":\"\"},\"colorscale\":[[0.0,\"#0d0887\"],[0.1111111111111111,\"#46039f\"],[0.2222222222222222,\"#7201a8\"],[0.3333333333333333,\"#9c179e\"],[0.4444444444444444,\"#bd3786\"],[0.5555555555555556,\"#d8576b\"],[0.6666666666666666,\"#ed7953\"],[0.7777777777777778,\"#fb9f3a\"],[0.8888888888888888,\"#fdca26\"],[1.0,\"#f0f921\"]]}],\"choropleth\":[{\"type\":\"choropleth\",\"colorbar\":{\"outlinewidth\":0,\"ticks\":\"\"}}],\"histogram2d\":[{\"type\":\"histogram2d\",\"colorbar\":{\"outlinewidth\":0,\"ticks\":\"\"},\"colorscale\":[[0.0,\"#0d0887\"],[0.1111111111111111,\"#46039f\"],[0.2222222222222222,\"#7201a8\"],[0.3333333333333333,\"#9c179e\"],[0.4444444444444444,\"#bd3786\"],[0.5555555555555556,\"#d8576b\"],[0.6666666666666666,\"#ed7953\"],[0.7777777777777778,\"#fb9f3a\"],[0.8888888888888888,\"#fdca26\"],[1.0,\"#f0f921\"]]}],\"heatmap\":[{\"type\":\"heatmap\",\"colorbar\":{\"outlinewidth\":0,\"ticks\":\"\"},\"colorscale\":[[0.0,\"#0d0887\"],[0.1111111111111111,\"#46039f\"],[0.2222222222222222,\"#7201a8\"],[0.3333333333333333,\"#9c179e\"],[0.4444444444444444,\"#bd3786\"],[0.5555555555555556,\"#d8576b\"],[0.6666666666666666,\"#ed7953\"],[0.7777777777777778,\"#fb9f3a\"],[0.8888888888888888,\"#fdca26\"],[1.0,\"#f0f921\"]]}],\"heatmapgl\":[{\"type\":\"heatmapgl\",\"colorbar\":{\"outlinewidth\":0,\"ticks\":\"\"},\"colorscale\":[[0.0,\"#0d0887\"],[0.1111111111111111,\"#46039f\"],[0.2222222222222222,\"#7201a8\"],[0.3333333333333333,\"#9c179e\"],[0.4444444444444444,\"#bd3786\"],[0.5555555555555556,\"#d8576b\"],[0.6666666666666666,\"#ed7953\"],[0.7777777777777778,\"#fb9f3a\"],[0.8888888888888888,\"#fdca26\"],[1.0,\"#f0f921\"]]}],\"contourcarpet\":[{\"type\":\"contourcarpet\",\"colorbar\":{\"outlinewidth\":0,\"ticks\":\"\"}}],\"contour\":[{\"type\":\"contour\",\"colorbar\":{\"outlinewidth\":0,\"ticks\":\"\"},\"colorscale\":[[0.0,\"#0d0887\"],[0.1111111111111111,\"#46039f\"],[0.2222222222222222,\"#7201a8\"],[0.3333333333333333,\"#9c179e\"],[0.4444444444444444,\"#bd3786\"],[0.5555555555555556,\"#d8576b\"],[0.6666666666666666,\"#ed7953\"],[0.7777777777777778,\"#fb9f3a\"],[0.8888888888888888,\"#fdca26\"],[1.0,\"#f0f921\"]]}],\"surface\":[{\"type\":\"surface\",\"colorbar\":{\"outlinewidth\":0,\"ticks\":\"\"},\"colorscale\":[[0.0,\"#0d0887\"],[0.1111111111111111,\"#46039f\"],[0.2222222222222222,\"#7201a8\"],[0.3333333333333333,\"#9c179e\"],[0.4444444444444444,\"#bd3786\"],[0.5555555555555556,\"#d8576b\"],[0.6666666666666666,\"#ed7953\"],[0.7777777777777778,\"#fb9f3a\"],[0.8888888888888888,\"#fdca26\"],[1.0,\"#f0f921\"]]}],\"mesh3d\":[{\"type\":\"mesh3d\",\"colorbar\":{\"outlinewidth\":0,\"ticks\":\"\"}}],\"scatter\":[{\"fillpattern\":{\"fillmode\":\"overlay\",\"size\":10,\"solidity\":0.2},\"type\":\"scatter\"}],\"parcoords\":[{\"type\":\"parcoords\",\"line\":{\"colorbar\":{\"outlinewidth\":0,\"ticks\":\"\"}}}],\"scatterpolargl\":[{\"type\":\"scatterpolargl\",\"marker\":{\"colorbar\":{\"outlinewidth\":0,\"ticks\":\"\"}}}],\"bar\":[{\"error_x\":{\"color\":\"#2a3f5f\"},\"error_y\":{\"color\":\"#2a3f5f\"},\"marker\":{\"line\":{\"color\":\"#E5ECF6\",\"width\":0.5},\"pattern\":{\"fillmode\":\"overlay\",\"size\":10,\"solidity\":0.2}},\"type\":\"bar\"}],\"scattergeo\":[{\"type\":\"scattergeo\",\"marker\":{\"colorbar\":{\"outlinewidth\":0,\"ticks\":\"\"}}}],\"scatterpolar\":[{\"type\":\"scatterpolar\",\"marker\":{\"colorbar\":{\"outlinewidth\":0,\"ticks\":\"\"}}}],\"histogram\":[{\"marker\":{\"pattern\":{\"fillmode\":\"overlay\",\"size\":10,\"solidity\":0.2}},\"type\":\"histogram\"}],\"scattergl\":[{\"type\":\"scattergl\",\"marker\":{\"colorbar\":{\"outlinewidth\":0,\"ticks\":\"\"}}}],\"scatter3d\":[{\"type\":\"scatter3d\",\"line\":{\"colorbar\":{\"outlinewidth\":0,\"ticks\":\"\"}},\"marker\":{\"colorbar\":{\"outlinewidth\":0,\"ticks\":\"\"}}}],\"scattermapbox\":[{\"type\":\"scattermapbox\",\"marker\":{\"colorbar\":{\"outlinewidth\":0,\"ticks\":\"\"}}}],\"scatterternary\":[{\"type\":\"scatterternary\",\"marker\":{\"colorbar\":{\"outlinewidth\":0,\"ticks\":\"\"}}}],\"scattercarpet\":[{\"type\":\"scattercarpet\",\"marker\":{\"colorbar\":{\"outlinewidth\":0,\"ticks\":\"\"}}}],\"carpet\":[{\"aaxis\":{\"endlinecolor\":\"#2a3f5f\",\"gridcolor\":\"white\",\"linecolor\":\"white\",\"minorgridcolor\":\"white\",\"startlinecolor\":\"#2a3f5f\"},\"baxis\":{\"endlinecolor\":\"#2a3f5f\",\"gridcolor\":\"white\",\"linecolor\":\"white\",\"minorgridcolor\":\"white\",\"startlinecolor\":\"#2a3f5f\"},\"type\":\"carpet\"}],\"table\":[{\"cells\":{\"fill\":{\"color\":\"#EBF0F8\"},\"line\":{\"color\":\"white\"}},\"header\":{\"fill\":{\"color\":\"#C8D4E3\"},\"line\":{\"color\":\"white\"}},\"type\":\"table\"}],\"barpolar\":[{\"marker\":{\"line\":{\"color\":\"#E5ECF6\",\"width\":0.5},\"pattern\":{\"fillmode\":\"overlay\",\"size\":10,\"solidity\":0.2}},\"type\":\"barpolar\"}],\"pie\":[{\"automargin\":true,\"type\":\"pie\"}]},\"layout\":{\"autotypenumbers\":\"strict\",\"colorway\":[\"#636efa\",\"#EF553B\",\"#00cc96\",\"#ab63fa\",\"#FFA15A\",\"#19d3f3\",\"#FF6692\",\"#B6E880\",\"#FF97FF\",\"#FECB52\"],\"font\":{\"color\":\"#2a3f5f\"},\"hovermode\":\"closest\",\"hoverlabel\":{\"align\":\"left\"},\"paper_bgcolor\":\"white\",\"plot_bgcolor\":\"#E5ECF6\",\"polar\":{\"bgcolor\":\"#E5ECF6\",\"angularaxis\":{\"gridcolor\":\"white\",\"linecolor\":\"white\",\"ticks\":\"\"},\"radialaxis\":{\"gridcolor\":\"white\",\"linecolor\":\"white\",\"ticks\":\"\"}},\"ternary\":{\"bgcolor\":\"#E5ECF6\",\"aaxis\":{\"gridcolor\":\"white\",\"linecolor\":\"white\",\"ticks\":\"\"},\"baxis\":{\"gridcolor\":\"white\",\"linecolor\":\"white\",\"ticks\":\"\"},\"caxis\":{\"gridcolor\":\"white\",\"linecolor\":\"white\",\"ticks\":\"\"}},\"coloraxis\":{\"colorbar\":{\"outlinewidth\":0,\"ticks\":\"\"}},\"colorscale\":{\"sequential\":[[0.0,\"#0d0887\"],[0.1111111111111111,\"#46039f\"],[0.2222222222222222,\"#7201a8\"],[0.3333333333333333,\"#9c179e\"],[0.4444444444444444,\"#bd3786\"],[0.5555555555555556,\"#d8576b\"],[0.6666666666666666,\"#ed7953\"],[0.7777777777777778,\"#fb9f3a\"],[0.8888888888888888,\"#fdca26\"],[1.0,\"#f0f921\"]],\"sequentialminus\":[[0.0,\"#0d0887\"],[0.1111111111111111,\"#46039f\"],[0.2222222222222222,\"#7201a8\"],[0.3333333333333333,\"#9c179e\"],[0.4444444444444444,\"#bd3786\"],[0.5555555555555556,\"#d8576b\"],[0.6666666666666666,\"#ed7953\"],[0.7777777777777778,\"#fb9f3a\"],[0.8888888888888888,\"#fdca26\"],[1.0,\"#f0f921\"]],\"diverging\":[[0,\"#8e0152\"],[0.1,\"#c51b7d\"],[0.2,\"#de77ae\"],[0.3,\"#f1b6da\"],[0.4,\"#fde0ef\"],[0.5,\"#f7f7f7\"],[0.6,\"#e6f5d0\"],[0.7,\"#b8e186\"],[0.8,\"#7fbc41\"],[0.9,\"#4d9221\"],[1,\"#276419\"]]},\"xaxis\":{\"gridcolor\":\"white\",\"linecolor\":\"white\",\"ticks\":\"\",\"title\":{\"standoff\":15},\"zerolinecolor\":\"white\",\"automargin\":true,\"zerolinewidth\":2},\"yaxis\":{\"gridcolor\":\"white\",\"linecolor\":\"white\",\"ticks\":\"\",\"title\":{\"standoff\":15},\"zerolinecolor\":\"white\",\"automargin\":true,\"zerolinewidth\":2},\"scene\":{\"xaxis\":{\"backgroundcolor\":\"#E5ECF6\",\"gridcolor\":\"white\",\"linecolor\":\"white\",\"showbackground\":true,\"ticks\":\"\",\"zerolinecolor\":\"white\",\"gridwidth\":2},\"yaxis\":{\"backgroundcolor\":\"#E5ECF6\",\"gridcolor\":\"white\",\"linecolor\":\"white\",\"showbackground\":true,\"ticks\":\"\",\"zerolinecolor\":\"white\",\"gridwidth\":2},\"zaxis\":{\"backgroundcolor\":\"#E5ECF6\",\"gridcolor\":\"white\",\"linecolor\":\"white\",\"showbackground\":true,\"ticks\":\"\",\"zerolinecolor\":\"white\",\"gridwidth\":2}},\"shapedefaults\":{\"line\":{\"color\":\"#2a3f5f\"}},\"annotationdefaults\":{\"arrowcolor\":\"#2a3f5f\",\"arrowhead\":0,\"arrowwidth\":1},\"geo\":{\"bgcolor\":\"white\",\"landcolor\":\"#E5ECF6\",\"subunitcolor\":\"white\",\"showland\":true,\"showlakes\":true,\"lakecolor\":\"white\"},\"title\":{\"x\":0.05},\"mapbox\":{\"style\":\"light\"}}}},                        {\"responsive\": true}                    ).then(function(){\n",
       "                            \n",
       "var gd = document.getElementById('8b0f7e73-1baa-4f01-b3ae-cdc8f279741f');\n",
       "var x = new MutationObserver(function (mutations, observer) {{\n",
       "        var display = window.getComputedStyle(gd).display;\n",
       "        if (!display || display === 'none') {{\n",
       "            console.log([gd, 'removed!']);\n",
       "            Plotly.purge(gd);\n",
       "            observer.disconnect();\n",
       "        }}\n",
       "}});\n",
       "\n",
       "// Listen for the removal of the full notebook cells\n",
       "var notebookContainer = gd.closest('#notebook-container');\n",
       "if (notebookContainer) {{\n",
       "    x.observe(notebookContainer, {childList: true});\n",
       "}}\n",
       "\n",
       "// Listen for the clearing of the current output cell\n",
       "var outputEl = gd.closest('.output');\n",
       "if (outputEl) {{\n",
       "    x.observe(outputEl, {childList: true});\n",
       "}}\n",
       "\n",
       "                        })                };                });            </script>        </div>"
      ]
     },
     "metadata": {},
     "output_type": "display_data",
     "jetTransient": {
      "display_id": null
     }
    }
   ],
   "execution_count": 39
  },
  {
   "metadata": {},
   "cell_type": "markdown",
   "source": "efficient_apriori",
   "id": "aedc80074241b2e4"
  },
  {
   "metadata": {
    "ExecuteTime": {
     "end_time": "2025-09-20T07:36:11.633066Z",
     "start_time": "2025-09-20T07:36:11.266330Z"
    }
   },
   "cell_type": "code",
   "source": [
    "from efficient_apriori import apriori\n",
    "\n",
    "start = time.time()\n",
    "itemsets, rules = apriori(transactions, min_support=min_sup, min_confidence=0.6)\n",
    "times['efficient-apriori'] = time.time() - start\n",
    "\n",
    "n_trans = len(transactions)\n",
    "\n",
    "print(\"\\nАссоциативные правила (достоверность ≥ 60%):\")\n",
    "\n",
    "rules_pyarmviz = []\n",
    "\n",
    "for i, r in enumerate(rules):\n",
    "    ant = frozenset(r.lhs)\n",
    "    cons = frozenset(r.rhs)\n",
    "    union = ant | cons\n",
    "\n",
    "    count_ab = sum(1 for t in transactions if union.issubset(t))\n",
    "    count_a = sum(1 for t in transactions if ant.issubset(t))\n",
    "    count_b = sum(1 for t in transactions if cons.issubset(t))\n",
    "\n",
    "    support_ab = count_ab / n_trans\n",
    "    support_a = count_a / n_trans\n",
    "    support_b = count_b / n_trans\n",
    "\n",
    "    lift = support_ab / (support_a * support_b) if support_a * support_b else 0.0\n",
    "\n",
    "    print(f\"{i}: {set(r.lhs)} -> {set(r.rhs)} \"\n",
    "          f\"Support = {support_ab:.3f} Confidence = {r.confidence:.3f} Lift = {lift:.3f}\")\n",
    "\n",
    "    rules_pyarmviz.append(\n",
    "        PyARMViz.Rule.Rule(\n",
    "            lhs=tuple(r.lhs),\n",
    "            rhs=tuple(r.rhs),\n",
    "            count_full=count_ab,\n",
    "            count_lhs=count_a,\n",
    "            count_rhs=count_b,\n",
    "            num_transactions=n_trans\n",
    "        )\n",
    "    )\n"
   ],
   "id": "a56da7909c89c147",
   "outputs": [
    {
     "name": "stdout",
     "output_type": "stream",
     "text": [
      "\n",
      "Ассоциативные правила (достоверность ≥ 60%):\n",
      "0: {'Art Tray'} -> {'Coffee'} Support = 0.003 Confidence = 0.684 Lift = 1.440\n",
      "1: {'Bakewell'} -> {'Coffee'} Support = 0.003 Confidence = 0.604 Lift = 1.272\n",
      "2: {'Extra Salami or Feta'} -> {'Coffee'} Support = 0.003 Confidence = 0.816 Lift = 1.717\n",
      "3: {'Granola'} -> {'Coffee'} Support = 0.002 Confidence = 0.607 Lift = 1.278\n",
      "4: {'Keeping It Local'} -> {'Coffee'} Support = 0.005 Confidence = 0.810 Lift = 1.704\n",
      "5: {'Salad'} -> {'Coffee'} Support = 0.007 Confidence = 0.626 Lift = 1.318\n",
      "6: {'Tartine'} -> {'Coffee'} Support = 0.003 Confidence = 0.630 Lift = 1.327\n",
      "7: {'Toast'} -> {'Coffee'} Support = 0.024 Confidence = 0.704 Lift = 1.483\n",
      "8: {'Cookies', 'Alfajores'} -> {'Coffee'} Support = 0.002 Confidence = 0.652 Lift = 1.373\n",
      "9: {'Alfajores', 'NONE'} -> {'Coffee'} Support = 0.001 Confidence = 0.611 Lift = 1.286\n",
      "10: {'Brownie', 'Cookies'} -> {'Coffee'} Support = 0.002 Confidence = 0.625 Lift = 1.316\n",
      "11: {'Brownie', 'NONE'} -> {'Coffee'} Support = 0.001 Confidence = 0.609 Lift = 1.281\n",
      "12: {'Brownie', 'Sandwich'} -> {'Coffee'} Support = 0.001 Confidence = 0.636 Lift = 1.339\n",
      "13: {'Hot chocolate', 'Cake'} -> {'Coffee'} Support = 0.007 Confidence = 0.602 Lift = 1.267\n",
      "14: {'Cake', 'Medialuna'} -> {'Coffee'} Support = 0.003 Confidence = 0.686 Lift = 1.443\n",
      "15: {'NONE', 'Cake'} -> {'Coffee'} Support = 0.003 Confidence = 0.667 Lift = 1.403\n",
      "16: {'Salad', 'Cake'} -> {'Coffee'} Support = 0.001 Confidence = 0.769 Lift = 1.619\n",
      "17: {'Cake', 'Sandwich'} -> {'Coffee'} Support = 0.005 Confidence = 0.677 Lift = 1.425\n",
      "18: {'Cake', 'Scone'} -> {'Coffee'} Support = 0.003 Confidence = 0.600 Lift = 1.263\n",
      "19: {'Cake', 'Smoothies'} -> {'Coffee'} Support = 0.001 Confidence = 0.667 Lift = 1.403\n",
      "20: {'Cake', 'Tiffin'} -> {'Coffee'} Support = 0.002 Confidence = 0.682 Lift = 1.435\n",
      "21: {'Cake', 'Toast'} -> {'Coffee'} Support = 0.002 Confidence = 0.714 Lift = 1.504\n",
      "22: {'Vegan mincepie', 'Cake'} -> {'Coffee'} Support = 0.001 Confidence = 0.833 Lift = 1.754\n",
      "23: {'Hot chocolate', 'Cookies'} -> {'Coffee'} Support = 0.004 Confidence = 0.614 Lift = 1.292\n",
      "24: {'Cookies', 'Juice'} -> {'Coffee'} Support = 0.004 Confidence = 0.603 Lift = 1.270\n",
      "25: {'Cookies', 'Medialuna'} -> {'Coffee'} Support = 0.002 Confidence = 0.667 Lift = 1.403\n",
      "26: {'Cookies', 'NONE'} -> {'Coffee'} Support = 0.002 Confidence = 0.741 Lift = 1.559\n",
      "27: {'Cookies', 'Pastry'} -> {'Coffee'} Support = 0.002 Confidence = 0.607 Lift = 1.278\n",
      "28: {'Cookies', 'Scone'} -> {'Coffee'} Support = 0.002 Confidence = 0.789 Lift = 1.662\n",
      "29: {'Extra Salami or Feta', 'NONE'} -> {'Coffee'} Support = 0.001 Confidence = 0.765 Lift = 1.610\n",
      "30: {'Extra Salami or Feta', 'Salad'} -> {'Coffee'} Support = 0.001 Confidence = 0.875 Lift = 1.842\n",
      "31: {'Hearty & Seasonal', 'Sandwich'} -> {'Coffee'} Support = 0.001 Confidence = 0.857 Lift = 1.804\n",
      "32: {'Hot chocolate', 'Medialuna'} -> {'Coffee'} Support = 0.003 Confidence = 0.644 Lift = 1.356\n",
      "33: {'Hot chocolate', 'NONE'} -> {'Coffee'} Support = 0.004 Confidence = 0.621 Lift = 1.306\n",
      "34: {'Hot chocolate', 'Pastry'} -> {'Coffee'} Support = 0.004 Confidence = 0.667 Lift = 1.403\n",
      "35: {'Hot chocolate', 'Scone'} -> {'Coffee'} Support = 0.002 Confidence = 0.607 Lift = 1.278\n",
      "36: {'Jammie Dodgers', 'Juice'} -> {'Coffee'} Support = 0.001 Confidence = 0.650 Lift = 1.368\n",
      "37: {'NONE', 'Juice'} -> {'Coffee'} Support = 0.004 Confidence = 0.661 Lift = 1.391\n",
      "38: {'Pastry', 'Juice'} -> {'Coffee'} Support = 0.002 Confidence = 0.773 Lift = 1.627\n",
      "39: {'Juice', 'Scone'} -> {'Coffee'} Support = 0.001 Confidence = 0.632 Lift = 1.329\n",
      "40: {'Juice', 'Spanish Brunch'} -> {'Coffee'} Support = 0.002 Confidence = 0.731 Lift = 1.538\n",
      "41: {'Juice', 'Toast'} -> {'Coffee'} Support = 0.002 Confidence = 0.682 Lift = 1.435\n",
      "42: {'Keeping It Local', 'Tea'} -> {'Coffee'} Support = 0.001 Confidence = 0.647 Lift = 1.362\n",
      "43: {'NONE', 'Medialuna'} -> {'Coffee'} Support = 0.003 Confidence = 0.684 Lift = 1.440\n",
      "44: {'Medialuna', 'Sandwich'} -> {'Coffee'} Support = 0.001 Confidence = 0.650 Lift = 1.368\n",
      "45: {'Medialuna', 'Toast'} -> {'Coffee'} Support = 0.001 Confidence = 0.611 Lift = 1.286\n",
      "46: {'Muffin', 'NONE'} -> {'Coffee'} Support = 0.001 Confidence = 0.619 Lift = 1.303\n",
      "47: {'Muffin', 'Sandwich'} -> {'Coffee'} Support = 0.001 Confidence = 0.650 Lift = 1.368\n",
      "48: {'Pastry', 'NONE'} -> {'Coffee'} Support = 0.003 Confidence = 0.636 Lift = 1.339\n",
      "49: {'NONE', 'Scone'} -> {'Coffee'} Support = 0.002 Confidence = 0.833 Lift = 1.754\n",
      "50: {'Soup', 'NONE'} -> {'Coffee'} Support = 0.001 Confidence = 0.625 Lift = 1.316\n",
      "51: {'NONE', 'Spanish Brunch'} -> {'Coffee'} Support = 0.002 Confidence = 0.676 Lift = 1.424\n",
      "52: {'Tartine', 'NONE'} -> {'Coffee'} Support = 0.001 Confidence = 0.923 Lift = 1.943\n",
      "53: {'NONE', 'Toast'} -> {'Coffee'} Support = 0.003 Confidence = 0.750 Lift = 1.579\n",
      "54: {'Pastry', 'Toast'} -> {'Coffee'} Support = 0.001 Confidence = 0.867 Lift = 1.824\n",
      "55: {'Salad', 'Sandwich'} -> {'Coffee'} Support = 0.002 Confidence = 0.833 Lift = 1.754\n",
      "56: {'Soup', 'Sandwich'} -> {'Coffee'} Support = 0.004 Confidence = 0.654 Lift = 1.376\n",
      "57: {'Spanish Brunch', 'Sandwich'} -> {'Coffee'} Support = 0.001 Confidence = 0.667 Lift = 1.403\n",
      "58: {'Hot chocolate', 'Pastry', 'Bread'} -> {'Coffee'} Support = 0.001 Confidence = 0.667 Lift = 1.403\n",
      "59: {'Tea', 'Cake', 'Sandwich'} -> {'Coffee'} Support = 0.001 Confidence = 0.714 Lift = 1.504\n",
      "60: {'Hot chocolate', 'NONE', 'Medialuna'} -> {'Coffee'} Support = 0.001 Confidence = 0.909 Lift = 1.914\n"
     ]
    }
   ],
   "execution_count": 40
  },
  {
   "metadata": {
    "ExecuteTime": {
     "end_time": "2025-09-20T07:36:11.697943Z",
     "start_time": "2025-09-20T07:36:11.644527Z"
    }
   },
   "cell_type": "code",
   "source": [
    "PyARMViz.metadata_scatter_plot(rules_pyarmviz)\n",
    "PyARMViz.adjacency_graph_plotly(rules_pyarmviz)\n",
    "# PyARMViz.adjacency_parallel_coordinate_plot(rules_pyarmviz)\n",
    "# PyARMViz.adjacency_parallel_category_plot(rules_pyarmviz)"
   ],
   "id": "1489300399a8788c",
   "outputs": [
    {
     "data": {
      "application/vnd.plotly.v1+json": {
       "data": [
        {
         "marker": {
          "color": [
           1.4401966710061374,
           1.2717121245583036,
           1.7171575692765482,
           1.2779767163048965,
           1.7039689550731953,
           1.3182219723739157,
           1.3270039560608387,
           1.4826988465897728
          ],
          "colorbar": {
           "title": {
            "text": "Lift"
           }
          },
          "colorscale": [
           [
            0.0,
            "rgb(243, 224, 247)"
           ],
           [
            0.16666666666666666,
            "rgb(228, 199, 241)"
           ],
           [
            0.3333333333333333,
            "rgb(209, 175, 232)"
           ],
           [
            0.5,
            "rgb(185, 152, 221)"
           ],
           [
            0.6666666666666666,
            "rgb(159, 130, 206)"
           ],
           [
            0.8333333333333334,
            "rgb(130, 109, 186)"
           ],
           [
            1.0,
            "rgb(99, 88, 159)"
           ]
          ]
         },
         "mode": "markers",
         "text": [
          "('Art Tray',) => ('Coffee',), Lift: 1.4401966710061374",
          "('Bakewell',) => ('Coffee',), Lift: 1.2717121245583036",
          "('Extra Salami or Feta',) => ('Coffee',), Lift: 1.7171575692765482",
          "('Granola',) => ('Coffee',), Lift: 1.2779767163048965",
          "('Keeping It Local',) => ('Coffee',), Lift: 1.7039689550731953",
          "('Salad',) => ('Coffee',), Lift: 1.3182219723739157",
          "('Tartine',) => ('Coffee',), Lift: 1.3270039560608387",
          "('Toast',) => ('Coffee',), Lift: 1.4826988465897728"
         ],
         "x": [
          0.0027279404049942294,
          0.0030427027594166402,
          0.003252544329031581,
          0.0017836533417269962,
          0.0053509600251809885,
          0.006505088658063162,
          0.0030427027594166402,
          0.023502255796873362
         ],
         "y": [
          0.6842105263157895,
          0.6041666666666666,
          0.8157894736842105,
          0.6071428571428571,
          0.8095238095238095,
          0.6262626262626263,
          0.6304347826086957,
          0.7044025157232704
         ],
         "type": "scatter"
        }
       ],
       "layout": {
        "template": {
         "data": {
          "histogram2dcontour": [
           {
            "type": "histogram2dcontour",
            "colorbar": {
             "outlinewidth": 0,
             "ticks": ""
            },
            "colorscale": [
             [
              0.0,
              "#0d0887"
             ],
             [
              0.1111111111111111,
              "#46039f"
             ],
             [
              0.2222222222222222,
              "#7201a8"
             ],
             [
              0.3333333333333333,
              "#9c179e"
             ],
             [
              0.4444444444444444,
              "#bd3786"
             ],
             [
              0.5555555555555556,
              "#d8576b"
             ],
             [
              0.6666666666666666,
              "#ed7953"
             ],
             [
              0.7777777777777778,
              "#fb9f3a"
             ],
             [
              0.8888888888888888,
              "#fdca26"
             ],
             [
              1.0,
              "#f0f921"
             ]
            ]
           }
          ],
          "choropleth": [
           {
            "type": "choropleth",
            "colorbar": {
             "outlinewidth": 0,
             "ticks": ""
            }
           }
          ],
          "histogram2d": [
           {
            "type": "histogram2d",
            "colorbar": {
             "outlinewidth": 0,
             "ticks": ""
            },
            "colorscale": [
             [
              0.0,
              "#0d0887"
             ],
             [
              0.1111111111111111,
              "#46039f"
             ],
             [
              0.2222222222222222,
              "#7201a8"
             ],
             [
              0.3333333333333333,
              "#9c179e"
             ],
             [
              0.4444444444444444,
              "#bd3786"
             ],
             [
              0.5555555555555556,
              "#d8576b"
             ],
             [
              0.6666666666666666,
              "#ed7953"
             ],
             [
              0.7777777777777778,
              "#fb9f3a"
             ],
             [
              0.8888888888888888,
              "#fdca26"
             ],
             [
              1.0,
              "#f0f921"
             ]
            ]
           }
          ],
          "heatmap": [
           {
            "type": "heatmap",
            "colorbar": {
             "outlinewidth": 0,
             "ticks": ""
            },
            "colorscale": [
             [
              0.0,
              "#0d0887"
             ],
             [
              0.1111111111111111,
              "#46039f"
             ],
             [
              0.2222222222222222,
              "#7201a8"
             ],
             [
              0.3333333333333333,
              "#9c179e"
             ],
             [
              0.4444444444444444,
              "#bd3786"
             ],
             [
              0.5555555555555556,
              "#d8576b"
             ],
             [
              0.6666666666666666,
              "#ed7953"
             ],
             [
              0.7777777777777778,
              "#fb9f3a"
             ],
             [
              0.8888888888888888,
              "#fdca26"
             ],
             [
              1.0,
              "#f0f921"
             ]
            ]
           }
          ],
          "heatmapgl": [
           {
            "type": "heatmapgl",
            "colorbar": {
             "outlinewidth": 0,
             "ticks": ""
            },
            "colorscale": [
             [
              0.0,
              "#0d0887"
             ],
             [
              0.1111111111111111,
              "#46039f"
             ],
             [
              0.2222222222222222,
              "#7201a8"
             ],
             [
              0.3333333333333333,
              "#9c179e"
             ],
             [
              0.4444444444444444,
              "#bd3786"
             ],
             [
              0.5555555555555556,
              "#d8576b"
             ],
             [
              0.6666666666666666,
              "#ed7953"
             ],
             [
              0.7777777777777778,
              "#fb9f3a"
             ],
             [
              0.8888888888888888,
              "#fdca26"
             ],
             [
              1.0,
              "#f0f921"
             ]
            ]
           }
          ],
          "contourcarpet": [
           {
            "type": "contourcarpet",
            "colorbar": {
             "outlinewidth": 0,
             "ticks": ""
            }
           }
          ],
          "contour": [
           {
            "type": "contour",
            "colorbar": {
             "outlinewidth": 0,
             "ticks": ""
            },
            "colorscale": [
             [
              0.0,
              "#0d0887"
             ],
             [
              0.1111111111111111,
              "#46039f"
             ],
             [
              0.2222222222222222,
              "#7201a8"
             ],
             [
              0.3333333333333333,
              "#9c179e"
             ],
             [
              0.4444444444444444,
              "#bd3786"
             ],
             [
              0.5555555555555556,
              "#d8576b"
             ],
             [
              0.6666666666666666,
              "#ed7953"
             ],
             [
              0.7777777777777778,
              "#fb9f3a"
             ],
             [
              0.8888888888888888,
              "#fdca26"
             ],
             [
              1.0,
              "#f0f921"
             ]
            ]
           }
          ],
          "surface": [
           {
            "type": "surface",
            "colorbar": {
             "outlinewidth": 0,
             "ticks": ""
            },
            "colorscale": [
             [
              0.0,
              "#0d0887"
             ],
             [
              0.1111111111111111,
              "#46039f"
             ],
             [
              0.2222222222222222,
              "#7201a8"
             ],
             [
              0.3333333333333333,
              "#9c179e"
             ],
             [
              0.4444444444444444,
              "#bd3786"
             ],
             [
              0.5555555555555556,
              "#d8576b"
             ],
             [
              0.6666666666666666,
              "#ed7953"
             ],
             [
              0.7777777777777778,
              "#fb9f3a"
             ],
             [
              0.8888888888888888,
              "#fdca26"
             ],
             [
              1.0,
              "#f0f921"
             ]
            ]
           }
          ],
          "mesh3d": [
           {
            "type": "mesh3d",
            "colorbar": {
             "outlinewidth": 0,
             "ticks": ""
            }
           }
          ],
          "scatter": [
           {
            "fillpattern": {
             "fillmode": "overlay",
             "size": 10,
             "solidity": 0.2
            },
            "type": "scatter"
           }
          ],
          "parcoords": [
           {
            "type": "parcoords",
            "line": {
             "colorbar": {
              "outlinewidth": 0,
              "ticks": ""
             }
            }
           }
          ],
          "scatterpolargl": [
           {
            "type": "scatterpolargl",
            "marker": {
             "colorbar": {
              "outlinewidth": 0,
              "ticks": ""
             }
            }
           }
          ],
          "bar": [
           {
            "error_x": {
             "color": "#2a3f5f"
            },
            "error_y": {
             "color": "#2a3f5f"
            },
            "marker": {
             "line": {
              "color": "#E5ECF6",
              "width": 0.5
             },
             "pattern": {
              "fillmode": "overlay",
              "size": 10,
              "solidity": 0.2
             }
            },
            "type": "bar"
           }
          ],
          "scattergeo": [
           {
            "type": "scattergeo",
            "marker": {
             "colorbar": {
              "outlinewidth": 0,
              "ticks": ""
             }
            }
           }
          ],
          "scatterpolar": [
           {
            "type": "scatterpolar",
            "marker": {
             "colorbar": {
              "outlinewidth": 0,
              "ticks": ""
             }
            }
           }
          ],
          "histogram": [
           {
            "marker": {
             "pattern": {
              "fillmode": "overlay",
              "size": 10,
              "solidity": 0.2
             }
            },
            "type": "histogram"
           }
          ],
          "scattergl": [
           {
            "type": "scattergl",
            "marker": {
             "colorbar": {
              "outlinewidth": 0,
              "ticks": ""
             }
            }
           }
          ],
          "scatter3d": [
           {
            "type": "scatter3d",
            "line": {
             "colorbar": {
              "outlinewidth": 0,
              "ticks": ""
             }
            },
            "marker": {
             "colorbar": {
              "outlinewidth": 0,
              "ticks": ""
             }
            }
           }
          ],
          "scattermapbox": [
           {
            "type": "scattermapbox",
            "marker": {
             "colorbar": {
              "outlinewidth": 0,
              "ticks": ""
             }
            }
           }
          ],
          "scatterternary": [
           {
            "type": "scatterternary",
            "marker": {
             "colorbar": {
              "outlinewidth": 0,
              "ticks": ""
             }
            }
           }
          ],
          "scattercarpet": [
           {
            "type": "scattercarpet",
            "marker": {
             "colorbar": {
              "outlinewidth": 0,
              "ticks": ""
             }
            }
           }
          ],
          "carpet": [
           {
            "aaxis": {
             "endlinecolor": "#2a3f5f",
             "gridcolor": "white",
             "linecolor": "white",
             "minorgridcolor": "white",
             "startlinecolor": "#2a3f5f"
            },
            "baxis": {
             "endlinecolor": "#2a3f5f",
             "gridcolor": "white",
             "linecolor": "white",
             "minorgridcolor": "white",
             "startlinecolor": "#2a3f5f"
            },
            "type": "carpet"
           }
          ],
          "table": [
           {
            "cells": {
             "fill": {
              "color": "#EBF0F8"
             },
             "line": {
              "color": "white"
             }
            },
            "header": {
             "fill": {
              "color": "#C8D4E3"
             },
             "line": {
              "color": "white"
             }
            },
            "type": "table"
           }
          ],
          "barpolar": [
           {
            "marker": {
             "line": {
              "color": "#E5ECF6",
              "width": 0.5
             },
             "pattern": {
              "fillmode": "overlay",
              "size": 10,
              "solidity": 0.2
             }
            },
            "type": "barpolar"
           }
          ],
          "pie": [
           {
            "automargin": true,
            "type": "pie"
           }
          ]
         },
         "layout": {
          "autotypenumbers": "strict",
          "colorway": [
           "#636efa",
           "#EF553B",
           "#00cc96",
           "#ab63fa",
           "#FFA15A",
           "#19d3f3",
           "#FF6692",
           "#B6E880",
           "#FF97FF",
           "#FECB52"
          ],
          "font": {
           "color": "#2a3f5f"
          },
          "hovermode": "closest",
          "hoverlabel": {
           "align": "left"
          },
          "paper_bgcolor": "white",
          "plot_bgcolor": "#E5ECF6",
          "polar": {
           "bgcolor": "#E5ECF6",
           "angularaxis": {
            "gridcolor": "white",
            "linecolor": "white",
            "ticks": ""
           },
           "radialaxis": {
            "gridcolor": "white",
            "linecolor": "white",
            "ticks": ""
           }
          },
          "ternary": {
           "bgcolor": "#E5ECF6",
           "aaxis": {
            "gridcolor": "white",
            "linecolor": "white",
            "ticks": ""
           },
           "baxis": {
            "gridcolor": "white",
            "linecolor": "white",
            "ticks": ""
           },
           "caxis": {
            "gridcolor": "white",
            "linecolor": "white",
            "ticks": ""
           }
          },
          "coloraxis": {
           "colorbar": {
            "outlinewidth": 0,
            "ticks": ""
           }
          },
          "colorscale": {
           "sequential": [
            [
             0.0,
             "#0d0887"
            ],
            [
             0.1111111111111111,
             "#46039f"
            ],
            [
             0.2222222222222222,
             "#7201a8"
            ],
            [
             0.3333333333333333,
             "#9c179e"
            ],
            [
             0.4444444444444444,
             "#bd3786"
            ],
            [
             0.5555555555555556,
             "#d8576b"
            ],
            [
             0.6666666666666666,
             "#ed7953"
            ],
            [
             0.7777777777777778,
             "#fb9f3a"
            ],
            [
             0.8888888888888888,
             "#fdca26"
            ],
            [
             1.0,
             "#f0f921"
            ]
           ],
           "sequentialminus": [
            [
             0.0,
             "#0d0887"
            ],
            [
             0.1111111111111111,
             "#46039f"
            ],
            [
             0.2222222222222222,
             "#7201a8"
            ],
            [
             0.3333333333333333,
             "#9c179e"
            ],
            [
             0.4444444444444444,
             "#bd3786"
            ],
            [
             0.5555555555555556,
             "#d8576b"
            ],
            [
             0.6666666666666666,
             "#ed7953"
            ],
            [
             0.7777777777777778,
             "#fb9f3a"
            ],
            [
             0.8888888888888888,
             "#fdca26"
            ],
            [
             1.0,
             "#f0f921"
            ]
           ],
           "diverging": [
            [
             0,
             "#8e0152"
            ],
            [
             0.1,
             "#c51b7d"
            ],
            [
             0.2,
             "#de77ae"
            ],
            [
             0.3,
             "#f1b6da"
            ],
            [
             0.4,
             "#fde0ef"
            ],
            [
             0.5,
             "#f7f7f7"
            ],
            [
             0.6,
             "#e6f5d0"
            ],
            [
             0.7,
             "#b8e186"
            ],
            [
             0.8,
             "#7fbc41"
            ],
            [
             0.9,
             "#4d9221"
            ],
            [
             1,
             "#276419"
            ]
           ]
          },
          "xaxis": {
           "gridcolor": "white",
           "linecolor": "white",
           "ticks": "",
           "title": {
            "standoff": 15
           },
           "zerolinecolor": "white",
           "automargin": true,
           "zerolinewidth": 2
          },
          "yaxis": {
           "gridcolor": "white",
           "linecolor": "white",
           "ticks": "",
           "title": {
            "standoff": 15
           },
           "zerolinecolor": "white",
           "automargin": true,
           "zerolinewidth": 2
          },
          "scene": {
           "xaxis": {
            "backgroundcolor": "#E5ECF6",
            "gridcolor": "white",
            "linecolor": "white",
            "showbackground": true,
            "ticks": "",
            "zerolinecolor": "white",
            "gridwidth": 2
           },
           "yaxis": {
            "backgroundcolor": "#E5ECF6",
            "gridcolor": "white",
            "linecolor": "white",
            "showbackground": true,
            "ticks": "",
            "zerolinecolor": "white",
            "gridwidth": 2
           },
           "zaxis": {
            "backgroundcolor": "#E5ECF6",
            "gridcolor": "white",
            "linecolor": "white",
            "showbackground": true,
            "ticks": "",
            "zerolinecolor": "white",
            "gridwidth": 2
           }
          },
          "shapedefaults": {
           "line": {
            "color": "#2a3f5f"
           }
          },
          "annotationdefaults": {
           "arrowcolor": "#2a3f5f",
           "arrowhead": 0,
           "arrowwidth": 1
          },
          "geo": {
           "bgcolor": "white",
           "landcolor": "#E5ECF6",
           "subunitcolor": "white",
           "showland": true,
           "showlakes": true,
           "lakecolor": "white"
          },
          "title": {
           "x": 0.05
          },
          "mapbox": {
           "style": "light"
          }
         }
        },
        "xaxis": {
         "title": {
          "text": "Support"
         },
         "autorange": "reversed"
        },
        "title": {
         "text": "Association Rules Strength Distribution"
        },
        "yaxis": {
         "title": {
          "text": "Confidence"
         }
        }
       },
       "config": {
        "plotlyServerURL": "https://plot.ly"
       }
      },
      "text/html": [
       "<div>                            <div id=\"d3a6238b-77d2-47d8-adef-b7936870afb3\" class=\"plotly-graph-div\" style=\"height:525px; width:100%;\"></div>            <script type=\"text/javascript\">                require([\"plotly\"], function(Plotly) {                    window.PLOTLYENV=window.PLOTLYENV || {};                                    if (document.getElementById(\"d3a6238b-77d2-47d8-adef-b7936870afb3\")) {                    Plotly.newPlot(                        \"d3a6238b-77d2-47d8-adef-b7936870afb3\",                        [{\"marker\":{\"color\":[1.4401966710061374,1.2717121245583036,1.7171575692765482,1.2779767163048965,1.7039689550731953,1.3182219723739157,1.3270039560608387,1.4826988465897728],\"colorbar\":{\"title\":{\"text\":\"Lift\"}},\"colorscale\":[[0.0,\"rgb(243, 224, 247)\"],[0.16666666666666666,\"rgb(228, 199, 241)\"],[0.3333333333333333,\"rgb(209, 175, 232)\"],[0.5,\"rgb(185, 152, 221)\"],[0.6666666666666666,\"rgb(159, 130, 206)\"],[0.8333333333333334,\"rgb(130, 109, 186)\"],[1.0,\"rgb(99, 88, 159)\"]]},\"mode\":\"markers\",\"text\":[\"('Art Tray',) =\\u003e ('Coffee',), Lift: 1.4401966710061374\",\"('Bakewell',) =\\u003e ('Coffee',), Lift: 1.2717121245583036\",\"('Extra Salami or Feta',) =\\u003e ('Coffee',), Lift: 1.7171575692765482\",\"('Granola',) =\\u003e ('Coffee',), Lift: 1.2779767163048965\",\"('Keeping It Local',) =\\u003e ('Coffee',), Lift: 1.7039689550731953\",\"('Salad',) =\\u003e ('Coffee',), Lift: 1.3182219723739157\",\"('Tartine',) =\\u003e ('Coffee',), Lift: 1.3270039560608387\",\"('Toast',) =\\u003e ('Coffee',), Lift: 1.4826988465897728\"],\"x\":[0.0027279404049942294,0.0030427027594166402,0.003252544329031581,0.0017836533417269962,0.0053509600251809885,0.006505088658063162,0.0030427027594166402,0.023502255796873362],\"y\":[0.6842105263157895,0.6041666666666666,0.8157894736842105,0.6071428571428571,0.8095238095238095,0.6262626262626263,0.6304347826086957,0.7044025157232704],\"type\":\"scatter\"}],                        {\"template\":{\"data\":{\"histogram2dcontour\":[{\"type\":\"histogram2dcontour\",\"colorbar\":{\"outlinewidth\":0,\"ticks\":\"\"},\"colorscale\":[[0.0,\"#0d0887\"],[0.1111111111111111,\"#46039f\"],[0.2222222222222222,\"#7201a8\"],[0.3333333333333333,\"#9c179e\"],[0.4444444444444444,\"#bd3786\"],[0.5555555555555556,\"#d8576b\"],[0.6666666666666666,\"#ed7953\"],[0.7777777777777778,\"#fb9f3a\"],[0.8888888888888888,\"#fdca26\"],[1.0,\"#f0f921\"]]}],\"choropleth\":[{\"type\":\"choropleth\",\"colorbar\":{\"outlinewidth\":0,\"ticks\":\"\"}}],\"histogram2d\":[{\"type\":\"histogram2d\",\"colorbar\":{\"outlinewidth\":0,\"ticks\":\"\"},\"colorscale\":[[0.0,\"#0d0887\"],[0.1111111111111111,\"#46039f\"],[0.2222222222222222,\"#7201a8\"],[0.3333333333333333,\"#9c179e\"],[0.4444444444444444,\"#bd3786\"],[0.5555555555555556,\"#d8576b\"],[0.6666666666666666,\"#ed7953\"],[0.7777777777777778,\"#fb9f3a\"],[0.8888888888888888,\"#fdca26\"],[1.0,\"#f0f921\"]]}],\"heatmap\":[{\"type\":\"heatmap\",\"colorbar\":{\"outlinewidth\":0,\"ticks\":\"\"},\"colorscale\":[[0.0,\"#0d0887\"],[0.1111111111111111,\"#46039f\"],[0.2222222222222222,\"#7201a8\"],[0.3333333333333333,\"#9c179e\"],[0.4444444444444444,\"#bd3786\"],[0.5555555555555556,\"#d8576b\"],[0.6666666666666666,\"#ed7953\"],[0.7777777777777778,\"#fb9f3a\"],[0.8888888888888888,\"#fdca26\"],[1.0,\"#f0f921\"]]}],\"heatmapgl\":[{\"type\":\"heatmapgl\",\"colorbar\":{\"outlinewidth\":0,\"ticks\":\"\"},\"colorscale\":[[0.0,\"#0d0887\"],[0.1111111111111111,\"#46039f\"],[0.2222222222222222,\"#7201a8\"],[0.3333333333333333,\"#9c179e\"],[0.4444444444444444,\"#bd3786\"],[0.5555555555555556,\"#d8576b\"],[0.6666666666666666,\"#ed7953\"],[0.7777777777777778,\"#fb9f3a\"],[0.8888888888888888,\"#fdca26\"],[1.0,\"#f0f921\"]]}],\"contourcarpet\":[{\"type\":\"contourcarpet\",\"colorbar\":{\"outlinewidth\":0,\"ticks\":\"\"}}],\"contour\":[{\"type\":\"contour\",\"colorbar\":{\"outlinewidth\":0,\"ticks\":\"\"},\"colorscale\":[[0.0,\"#0d0887\"],[0.1111111111111111,\"#46039f\"],[0.2222222222222222,\"#7201a8\"],[0.3333333333333333,\"#9c179e\"],[0.4444444444444444,\"#bd3786\"],[0.5555555555555556,\"#d8576b\"],[0.6666666666666666,\"#ed7953\"],[0.7777777777777778,\"#fb9f3a\"],[0.8888888888888888,\"#fdca26\"],[1.0,\"#f0f921\"]]}],\"surface\":[{\"type\":\"surface\",\"colorbar\":{\"outlinewidth\":0,\"ticks\":\"\"},\"colorscale\":[[0.0,\"#0d0887\"],[0.1111111111111111,\"#46039f\"],[0.2222222222222222,\"#7201a8\"],[0.3333333333333333,\"#9c179e\"],[0.4444444444444444,\"#bd3786\"],[0.5555555555555556,\"#d8576b\"],[0.6666666666666666,\"#ed7953\"],[0.7777777777777778,\"#fb9f3a\"],[0.8888888888888888,\"#fdca26\"],[1.0,\"#f0f921\"]]}],\"mesh3d\":[{\"type\":\"mesh3d\",\"colorbar\":{\"outlinewidth\":0,\"ticks\":\"\"}}],\"scatter\":[{\"fillpattern\":{\"fillmode\":\"overlay\",\"size\":10,\"solidity\":0.2},\"type\":\"scatter\"}],\"parcoords\":[{\"type\":\"parcoords\",\"line\":{\"colorbar\":{\"outlinewidth\":0,\"ticks\":\"\"}}}],\"scatterpolargl\":[{\"type\":\"scatterpolargl\",\"marker\":{\"colorbar\":{\"outlinewidth\":0,\"ticks\":\"\"}}}],\"bar\":[{\"error_x\":{\"color\":\"#2a3f5f\"},\"error_y\":{\"color\":\"#2a3f5f\"},\"marker\":{\"line\":{\"color\":\"#E5ECF6\",\"width\":0.5},\"pattern\":{\"fillmode\":\"overlay\",\"size\":10,\"solidity\":0.2}},\"type\":\"bar\"}],\"scattergeo\":[{\"type\":\"scattergeo\",\"marker\":{\"colorbar\":{\"outlinewidth\":0,\"ticks\":\"\"}}}],\"scatterpolar\":[{\"type\":\"scatterpolar\",\"marker\":{\"colorbar\":{\"outlinewidth\":0,\"ticks\":\"\"}}}],\"histogram\":[{\"marker\":{\"pattern\":{\"fillmode\":\"overlay\",\"size\":10,\"solidity\":0.2}},\"type\":\"histogram\"}],\"scattergl\":[{\"type\":\"scattergl\",\"marker\":{\"colorbar\":{\"outlinewidth\":0,\"ticks\":\"\"}}}],\"scatter3d\":[{\"type\":\"scatter3d\",\"line\":{\"colorbar\":{\"outlinewidth\":0,\"ticks\":\"\"}},\"marker\":{\"colorbar\":{\"outlinewidth\":0,\"ticks\":\"\"}}}],\"scattermapbox\":[{\"type\":\"scattermapbox\",\"marker\":{\"colorbar\":{\"outlinewidth\":0,\"ticks\":\"\"}}}],\"scatterternary\":[{\"type\":\"scatterternary\",\"marker\":{\"colorbar\":{\"outlinewidth\":0,\"ticks\":\"\"}}}],\"scattercarpet\":[{\"type\":\"scattercarpet\",\"marker\":{\"colorbar\":{\"outlinewidth\":0,\"ticks\":\"\"}}}],\"carpet\":[{\"aaxis\":{\"endlinecolor\":\"#2a3f5f\",\"gridcolor\":\"white\",\"linecolor\":\"white\",\"minorgridcolor\":\"white\",\"startlinecolor\":\"#2a3f5f\"},\"baxis\":{\"endlinecolor\":\"#2a3f5f\",\"gridcolor\":\"white\",\"linecolor\":\"white\",\"minorgridcolor\":\"white\",\"startlinecolor\":\"#2a3f5f\"},\"type\":\"carpet\"}],\"table\":[{\"cells\":{\"fill\":{\"color\":\"#EBF0F8\"},\"line\":{\"color\":\"white\"}},\"header\":{\"fill\":{\"color\":\"#C8D4E3\"},\"line\":{\"color\":\"white\"}},\"type\":\"table\"}],\"barpolar\":[{\"marker\":{\"line\":{\"color\":\"#E5ECF6\",\"width\":0.5},\"pattern\":{\"fillmode\":\"overlay\",\"size\":10,\"solidity\":0.2}},\"type\":\"barpolar\"}],\"pie\":[{\"automargin\":true,\"type\":\"pie\"}]},\"layout\":{\"autotypenumbers\":\"strict\",\"colorway\":[\"#636efa\",\"#EF553B\",\"#00cc96\",\"#ab63fa\",\"#FFA15A\",\"#19d3f3\",\"#FF6692\",\"#B6E880\",\"#FF97FF\",\"#FECB52\"],\"font\":{\"color\":\"#2a3f5f\"},\"hovermode\":\"closest\",\"hoverlabel\":{\"align\":\"left\"},\"paper_bgcolor\":\"white\",\"plot_bgcolor\":\"#E5ECF6\",\"polar\":{\"bgcolor\":\"#E5ECF6\",\"angularaxis\":{\"gridcolor\":\"white\",\"linecolor\":\"white\",\"ticks\":\"\"},\"radialaxis\":{\"gridcolor\":\"white\",\"linecolor\":\"white\",\"ticks\":\"\"}},\"ternary\":{\"bgcolor\":\"#E5ECF6\",\"aaxis\":{\"gridcolor\":\"white\",\"linecolor\":\"white\",\"ticks\":\"\"},\"baxis\":{\"gridcolor\":\"white\",\"linecolor\":\"white\",\"ticks\":\"\"},\"caxis\":{\"gridcolor\":\"white\",\"linecolor\":\"white\",\"ticks\":\"\"}},\"coloraxis\":{\"colorbar\":{\"outlinewidth\":0,\"ticks\":\"\"}},\"colorscale\":{\"sequential\":[[0.0,\"#0d0887\"],[0.1111111111111111,\"#46039f\"],[0.2222222222222222,\"#7201a8\"],[0.3333333333333333,\"#9c179e\"],[0.4444444444444444,\"#bd3786\"],[0.5555555555555556,\"#d8576b\"],[0.6666666666666666,\"#ed7953\"],[0.7777777777777778,\"#fb9f3a\"],[0.8888888888888888,\"#fdca26\"],[1.0,\"#f0f921\"]],\"sequentialminus\":[[0.0,\"#0d0887\"],[0.1111111111111111,\"#46039f\"],[0.2222222222222222,\"#7201a8\"],[0.3333333333333333,\"#9c179e\"],[0.4444444444444444,\"#bd3786\"],[0.5555555555555556,\"#d8576b\"],[0.6666666666666666,\"#ed7953\"],[0.7777777777777778,\"#fb9f3a\"],[0.8888888888888888,\"#fdca26\"],[1.0,\"#f0f921\"]],\"diverging\":[[0,\"#8e0152\"],[0.1,\"#c51b7d\"],[0.2,\"#de77ae\"],[0.3,\"#f1b6da\"],[0.4,\"#fde0ef\"],[0.5,\"#f7f7f7\"],[0.6,\"#e6f5d0\"],[0.7,\"#b8e186\"],[0.8,\"#7fbc41\"],[0.9,\"#4d9221\"],[1,\"#276419\"]]},\"xaxis\":{\"gridcolor\":\"white\",\"linecolor\":\"white\",\"ticks\":\"\",\"title\":{\"standoff\":15},\"zerolinecolor\":\"white\",\"automargin\":true,\"zerolinewidth\":2},\"yaxis\":{\"gridcolor\":\"white\",\"linecolor\":\"white\",\"ticks\":\"\",\"title\":{\"standoff\":15},\"zerolinecolor\":\"white\",\"automargin\":true,\"zerolinewidth\":2},\"scene\":{\"xaxis\":{\"backgroundcolor\":\"#E5ECF6\",\"gridcolor\":\"white\",\"linecolor\":\"white\",\"showbackground\":true,\"ticks\":\"\",\"zerolinecolor\":\"white\",\"gridwidth\":2},\"yaxis\":{\"backgroundcolor\":\"#E5ECF6\",\"gridcolor\":\"white\",\"linecolor\":\"white\",\"showbackground\":true,\"ticks\":\"\",\"zerolinecolor\":\"white\",\"gridwidth\":2},\"zaxis\":{\"backgroundcolor\":\"#E5ECF6\",\"gridcolor\":\"white\",\"linecolor\":\"white\",\"showbackground\":true,\"ticks\":\"\",\"zerolinecolor\":\"white\",\"gridwidth\":2}},\"shapedefaults\":{\"line\":{\"color\":\"#2a3f5f\"}},\"annotationdefaults\":{\"arrowcolor\":\"#2a3f5f\",\"arrowhead\":0,\"arrowwidth\":1},\"geo\":{\"bgcolor\":\"white\",\"landcolor\":\"#E5ECF6\",\"subunitcolor\":\"white\",\"showland\":true,\"showlakes\":true,\"lakecolor\":\"white\"},\"title\":{\"x\":0.05},\"mapbox\":{\"style\":\"light\"}}},\"xaxis\":{\"title\":{\"text\":\"Support\"},\"autorange\":\"reversed\"},\"title\":{\"text\":\"Association Rules Strength Distribution\"},\"yaxis\":{\"title\":{\"text\":\"Confidence\"}}},                        {\"responsive\": true}                    ).then(function(){\n",
       "                            \n",
       "var gd = document.getElementById('d3a6238b-77d2-47d8-adef-b7936870afb3');\n",
       "var x = new MutationObserver(function (mutations, observer) {{\n",
       "        var display = window.getComputedStyle(gd).display;\n",
       "        if (!display || display === 'none') {{\n",
       "            console.log([gd, 'removed!']);\n",
       "            Plotly.purge(gd);\n",
       "            observer.disconnect();\n",
       "        }}\n",
       "}});\n",
       "\n",
       "// Listen for the removal of the full notebook cells\n",
       "var notebookContainer = gd.closest('#notebook-container');\n",
       "if (notebookContainer) {{\n",
       "    x.observe(notebookContainer, {childList: true});\n",
       "}}\n",
       "\n",
       "// Listen for the clearing of the current output cell\n",
       "var outputEl = gd.closest('.output');\n",
       "if (outputEl) {{\n",
       "    x.observe(outputEl, {childList: true});\n",
       "}}\n",
       "\n",
       "                        })                };                });            </script>        </div>"
      ]
     },
     "metadata": {},
     "output_type": "display_data",
     "jetTransient": {
      "display_id": null
     }
    },
    {
     "data": {
      "application/vnd.plotly.v1+json": {
       "data": [
        {
         "hoverinfo": "none",
         "line": {
          "color": "#888",
          "width": 0.5
         },
         "mode": "lines",
         "x": [
          -0.3826260863969561,
          -0.12398262500163428,
          null,
          -0.3895004294990448,
          -0.3826260863969561,
          null,
          0.4711525120252681,
          -0.12398262500163428,
          null,
          1.0,
          0.4711525120252681,
          null,
          0.12848456573872744,
          -0.12398262500163428,
          null,
          0.1135603498302734,
          0.12848456573872744,
          null,
          0.1135603498302734,
          0.5528772132905434,
          null,
          0.1135603498302734,
          -0.44861898508953146,
          null,
          -0.6384783444609942,
          -0.12398262500163428,
          null,
          -0.9090400578225792,
          -0.6384783444609942,
          null,
          -0.14319606008001776,
          -0.12398262500163428,
          null,
          -0.4649699546873643,
          -0.14319606008001776,
          null,
          -0.4649699546873643,
          -0.5223142504819348,
          null,
          0.07410418844555175,
          -0.12398262500163428,
          null,
          -0.24705594139346404,
          0.07410418844555175,
          null,
          -0.24705594139346404,
          -0.5752890540817963,
          null,
          -0.24705594139346404,
          -0.44861898508953146,
          null,
          -0.24705594139346404,
          0.059106695790521205,
          null,
          0.09463617009025606,
          -0.12398262500163428,
          null,
          -0.1634512922533443,
          0.09463617009025606,
          null,
          -0.1634512922533443,
          -0.3503813922713499,
          null,
          0.4694759494930511,
          -0.12398262500163428,
          null,
          0.3762062688765671,
          0.4694759494930511,
          null,
          0.3762062688765671,
          0.43791905881860854,
          null,
          0.3762062688765671,
          0.35355700715667604,
          null,
          0.3762062688765671,
          -0.03635844213030311,
          null,
          0.3762062688765671,
          0.2010817973589337,
          null,
          0.3762062688765671,
          -0.14866624205541878,
          null,
          -0.16102619223604997,
          -0.12398262500163428,
          null,
          -0.516959188852723,
          -0.16102619223604997,
          null,
          -0.516959188852723,
          -0.4321023719196212,
          null,
          0.04726911359418916,
          -0.16102619223604997,
          null,
          0.04726911359418916,
          0.39990929169162426,
          null,
          0.04726911359418916,
          0.18031671195742216,
          null,
          0.04726911359418916,
          -0.12231052667662856,
          null,
          0.04726911359418916,
          0.26952041943699234,
          null,
          0.04726911359418916,
          -0.7196045934244635,
          null,
          0.04726911359418916,
          -0.2499814898131168,
          null,
          0.04726911359418916,
          0.5331523477539719,
          null,
          -0.4321023719196212,
          -0.12398262500163428,
          null,
          0.02895874755447408,
          -0.4321023719196212,
          null,
          0.02895874755447408,
          0.3955242625397385,
          null,
          0.02895874755447408,
          -0.5636360620093224,
          null,
          0.02895874755447408,
          -0.7196045934244635,
          null,
          0.02895874755447408,
          0.5528772132905434,
          null,
          0.02895874755447408,
          0.2100430063806307,
          null,
          0.02895874755447408,
          0.14118764342593265,
          null,
          0.02895874755447408,
          0.25005038394877865,
          null,
          0.02895874755447408,
          -0.5011279050337184,
          null,
          0.02895874755447408,
          -0.6366308748143428,
          null,
          0.02895874755447408,
          0.33124176684507683,
          null,
          0.02895874755447408,
          0.5399016015406776,
          null,
          0.02895874755447408,
          0.16752267392777972,
          null,
          0.02895874755447408,
          -0.3503813922713499,
          null,
          0.02895874755447408,
          0.2010817973589337,
          null,
          0.02895874755447408,
          0.46327532289410156,
          null,
          0.39990929169162426,
          -0.12398262500163428,
          null,
          0.2468142477207837,
          0.39990929169162426,
          null,
          0.2468142477207837,
          0.3955242625397385,
          null,
          0.2468142477207837,
          -0.33186332234192273,
          null,
          0.3955242625397385,
          -0.12398262500163428,
          null,
          -0.33186332234192273,
          -0.12398262500163428,
          null,
          0.023612110684222958,
          -0.33186332234192273,
          null,
          0.023612110684222958,
          -0.3458019807368713,
          null,
          0.023612110684222958,
          -0.24982380142076593,
          null,
          0.023612110684222958,
          0.44671314951841395,
          null,
          0.023612110684222958,
          -0.09828371674297876,
          null,
          0.023612110684222958,
          0.059106695790521205,
          null,
          0.023612110684222958,
          0.41509554459958914,
          null,
          0.023612110684222958,
          0.06292255449181662,
          null,
          0.023612110684222958,
          0.008428666008284381,
          null,
          0.26822449032967594,
          -0.12398262500163428,
          null,
          -0.02865093897724297,
          0.26822449032967594,
          null,
          -0.02865093897724297,
          -0.44493533768648813,
          null,
          -0.02865093897724297,
          -0.5636360620093224,
          null,
          -0.02865093897724297,
          -0.5752890540817963,
          null,
          -0.02865093897724297,
          -0.3458019807368713,
          null,
          -0.02865093897724297,
          0.3705675072873153,
          null,
          -0.02865093897724297,
          -0.5667487331494969,
          null,
          -0.02865093897724297,
          -0.20534092151020178,
          null,
          -0.02865093897724297,
          0.43791905881860854,
          null,
          -0.02865093897724297,
          0.3209585411593484,
          null,
          -0.02865093897724297,
          0.008428666008284381,
          null,
          0.13128486749872811,
          0.26822449032967594,
          null,
          0.13128486749872811,
          0.18031671195742216,
          null,
          0.13128486749872811,
          -0.44385017593164394,
          null,
          0.13128486749872811,
          0.2100430063806307,
          null,
          0.13128486749872811,
          -0.3367441976566114,
          null,
          0.13128486749872811,
          0.21149156607527972,
          null,
          0.13128486749872811,
          -0.12397367068673669,
          null,
          0.13128486749872811,
          0.46327532289410156,
          null,
          -0.44493533768648813,
          -0.12398262500163428,
          null,
          0.20506609507341267,
          -0.44493533768648813,
          null,
          0.20506609507341267,
          0.26952041943699234,
          null,
          0.20506609507341267,
          -0.44385017593164394,
          null,
          0.20506609507341267,
          0.25005038394877865,
          null,
          0.20506609507341267,
          0.44671314951841395,
          null,
          0.20506609507341267,
          -0.03635844213030311,
          null,
          0.20506609507341267,
          0.46327532289410156,
          null,
          -0.5636360620093224,
          -0.12398262500163428,
          null,
          -0.5752890540817963,
          -0.12398262500163428,
          null,
          -0.3458019807368713,
          -0.12398262500163428,
          null,
          0.3705675072873153,
          -0.12398262500163428,
          null,
          0.5762779900743638,
          0.3705675072873153,
          null,
          0.5762779900743638,
          0.5331523477539719,
          null,
          0.5762779900743638,
          0.21149156607527972,
          null,
          0.5762779900743638,
          0.16659265641996512,
          null,
          0.5762779900743638,
          0.33124176684507683,
          null,
          -0.5667487331494969,
          -0.12398262500163428,
          null,
          -0.7410907466302954,
          -0.5667487331494969,
          null,
          -0.20534092151020178,
          -0.12398262500163428,
          null,
          -0.5489624277333123,
          -0.20534092151020178,
          null,
          0.43791905881860854,
          -0.12398262500163428,
          null,
          0.3209585411593484,
          -0.12398262500163428,
          null,
          0.965031994452182,
          0.3209585411593484,
          null,
          0.18031671195742216,
          -0.12398262500163428,
          null,
          -0.12231052667662856,
          -0.12398262500163428,
          null,
          0.2976722204332538,
          -0.12231052667662856,
          null,
          0.2976722204332538,
          0.35922838900043935,
          null,
          0.2976722204332538,
          0.14118764342593265,
          null,
          0.2976722204332538,
          -0.1590636441636868,
          null,
          0.2976722204332538,
          0.16659265641996512,
          null,
          0.2976722204332538,
          0.34440445924423335,
          null,
          0.2976722204332538,
          0.35355700715667604,
          null,
          0.26952041943699234,
          -0.12398262500163428,
          null,
          -0.7196045934244635,
          -0.12398262500163428,
          null,
          -0.2499814898131168,
          -0.12398262500163428,
          null,
          -0.2764876920643544,
          -0.2499814898131168,
          null,
          -0.2764876920643544,
          -0.3367441976566114,
          null,
          -0.2764876920643544,
          -0.1590636441636868,
          null,
          -0.2764876920643544,
          -0.6366308748143428,
          null,
          -0.2764876920643544,
          -0.14866624205541878,
          null,
          -0.2764876920643544,
          -0.12397367068673669,
          null,
          0.5331523477539719,
          -0.12398262500163428,
          null,
          0.5528772132905434,
          -0.12398262500163428,
          null,
          -0.44861898508953146,
          -0.12398262500163428,
          null,
          -0.24982380142076593,
          -0.12398262500163428,
          null,
          -0.11459310943087979,
          -0.24982380142076593,
          null,
          -0.44385017593164394,
          -0.12398262500163428,
          null,
          0.2100430063806307,
          -0.12398262500163428,
          null,
          -0.3367441976566114,
          -0.12398262500163428,
          null,
          0.21149156607527972,
          -0.12398262500163428,
          null,
          0.35922838900043935,
          -0.12398262500163428,
          null,
          0.8904675255253025,
          0.35922838900043935,
          null,
          0.14118764342593265,
          -0.12398262500163428,
          null,
          -0.1590636441636868,
          -0.12398262500163428,
          null,
          0.16659265641996512,
          -0.12398262500163428,
          null,
          0.34440445924423335,
          -0.12398262500163428,
          null,
          0.4812814850162976,
          0.34440445924423335,
          null,
          0.4812814850162976,
          0.16752267392777972,
          null,
          0.4812814850162976,
          0.06292255449181662,
          null,
          0.35355700715667604,
          -0.12398262500163428,
          null,
          -0.5223142504819348,
          -0.12398262500163428,
          null,
          -0.5179208762942001,
          -0.5223142504819348,
          null,
          -0.5179208762942001,
          0.008428666008284381,
          null,
          0.25005038394877865,
          -0.12398262500163428,
          null,
          0.44671314951841395,
          -0.12398262500163428,
          null,
          -0.03635844213030311,
          -0.12398262500163428,
          null,
          -0.5011279050337184,
          -0.12398262500163428,
          null,
          -0.3335630540628881,
          -0.5011279050337184,
          null,
          -0.3335630540628881,
          -0.09828371674297876,
          null,
          -0.09828371674297876,
          -0.12398262500163428,
          null,
          -0.6366308748143428,
          -0.12398262500163428,
          null,
          0.33124176684507683,
          -0.12398262500163428,
          null,
          0.5399016015406776,
          -0.12398262500163428,
          null,
          0.8426223534198216,
          0.5399016015406776,
          null,
          0.8426223534198216,
          0.41509554459958914,
          null,
          0.16752267392777972,
          -0.12398262500163428,
          null,
          -0.3503813922713499,
          -0.12398262500163428,
          null,
          0.2010817973589337,
          -0.12398262500163428,
          null,
          -0.14866624205541878,
          -0.12398262500163428,
          null,
          0.059106695790521205,
          -0.12398262500163428,
          null,
          0.41509554459958914,
          -0.12398262500163428,
          null,
          0.06292255449181662,
          -0.12398262500163428,
          null,
          -0.12397367068673669,
          -0.12398262500163428,
          null,
          -0.6097867747327901,
          -0.12397367068673669,
          null,
          0.008428666008284381,
          -0.12398262500163428,
          null,
          0.46327532289410156,
          -0.12398262500163428,
          null
         ],
         "y": [
          -0.5348598941517524,
          -0.6637681911172657,
          null,
          0.603861398453035,
          -0.5348598941517524,
          null,
          -0.5072755360371914,
          -0.6637681911172657,
          null,
          0.3220906441080919,
          -0.5072755360371914,
          null,
          -0.9114520249451158,
          -0.6637681911172657,
          null,
          -0.3794987916846652,
          -0.9114520249451158,
          null,
          -0.3794987916846652,
          -0.5716846367587849,
          null,
          -0.3794987916846652,
          -0.31610296626544426,
          null,
          -0.5441760996842192,
          -0.6637681911172657,
          null,
          0.29204848596036476,
          -0.5441760996842192,
          null,
          0.2684010076608032,
          -0.6637681911172657,
          null,
          0.44603153669900847,
          0.2684010076608032,
          null,
          0.44603153669900847,
          -0.4936081481874233,
          null,
          0.474170328407495,
          -0.6637681911172657,
          null,
          0.6064052370628649,
          0.474170328407495,
          null,
          0.6064052370628649,
          -0.7965534492381359,
          null,
          0.6064052370628649,
          -0.31610296626544426,
          null,
          0.6064052370628649,
          0.2767639089790814,
          null,
          0.3973594918140753,
          -0.6637681911172657,
          null,
          0.8860807895663548,
          0.3973594918140753,
          null,
          0.8860807895663548,
          0.18902327678947886,
          null,
          0.09211963267869176,
          -0.6637681911172657,
          null,
          0.5446127982549175,
          0.09211963267869176,
          null,
          0.5446127982549175,
          -0.1998580513386992,
          null,
          0.5446127982549175,
          0.3906360910415148,
          null,
          0.5446127982549175,
          0.230343088336587,
          null,
          0.5446127982549175,
          0.5183782463041314,
          null,
          0.5446127982549175,
          0.44195488709260317,
          null,
          -0.3296106979618994,
          -0.6637681911172657,
          null,
          0.3255853499860694,
          -0.3296106979618994,
          null,
          0.3255853499860694,
          0.050388125693393716,
          null,
          -0.0788151751667373,
          -0.3296106979618994,
          null,
          -0.0788151751667373,
          0.10653435593283139,
          null,
          -0.0788151751667373,
          -0.4786404351966603,
          null,
          -0.0788151751667373,
          -0.038576222065534446,
          null,
          -0.0788151751667373,
          -0.8371243081996419,
          null,
          -0.0788151751667373,
          -0.38478264484294694,
          null,
          -0.0788151751667373,
          0.2982188773122909,
          null,
          -0.0788151751667373,
          -0.18842046992047645,
          null,
          0.050388125693393716,
          -0.6637681911172657,
          null,
          0.030457144611939505,
          0.050388125693393716,
          null,
          0.030457144611939505,
          -0.8319282679464217,
          null,
          0.030457144611939505,
          -0.34856322927332,
          null,
          0.030457144611939505,
          -0.38478264484294694,
          null,
          0.030457144611939505,
          -0.5716846367587849,
          null,
          0.030457144611939505,
          -0.1672453190504168,
          null,
          0.030457144611939505,
          0.6002992958807984,
          null,
          0.030457144611939505,
          0.30853943485844537,
          null,
          0.030457144611939505,
          0.09945870677603166,
          null,
          0.030457144611939505,
          -0.3902177266250587,
          null,
          0.030457144611939505,
          0.11199690174727985,
          null,
          0.030457144611939505,
          0.09459178932055483,
          null,
          0.030457144611939505,
          0.3460229043488046,
          null,
          0.030457144611939505,
          0.18902327678947886,
          null,
          0.030457144611939505,
          0.5183782463041314,
          null,
          0.030457144611939505,
          -0.6327606713055155,
          null,
          0.10653435593283139,
          -0.6637681911172657,
          null,
          -0.2835445823135723,
          0.10653435593283139,
          null,
          -0.2835445823135723,
          -0.8319282679464217,
          null,
          -0.2835445823135723,
          -0.4253856788581379,
          null,
          -0.8319282679464217,
          -0.6637681911172657,
          null,
          -0.4253856788581379,
          -0.6637681911172657,
          null,
          0.009818408499368813,
          -0.4253856788581379,
          null,
          0.009818408499368813,
          -0.7334347543736225,
          null,
          0.009818408499368813,
          -0.10697066124200674,
          null,
          0.009818408499368813,
          -0.4219854544912759,
          null,
          0.009818408499368813,
          0.3723853096464907,
          null,
          0.009818408499368813,
          0.2767639089790814,
          null,
          0.009818408499368813,
          -0.0051063737594837,
          null,
          0.009818408499368813,
          -0.763369855741912,
          null,
          0.009818408499368813,
          0.5504424220695132,
          null,
          0.15130480758120915,
          -0.6637681911172657,
          null,
          0.41435639876617614,
          0.15130480758120915,
          null,
          0.41435639876617614,
          -0.16275614920139775,
          null,
          0.41435639876617614,
          -0.34856322927332,
          null,
          0.41435639876617614,
          -0.7965534492381359,
          null,
          0.41435639876617614,
          -0.7334347543736225,
          null,
          0.41435639876617614,
          -0.2555429140039131,
          null,
          0.41435639876617614,
          -0.10647264515228717,
          null,
          0.41435639876617614,
          0.1416399828473858,
          null,
          0.41435639876617614,
          -0.1998580513386992,
          null,
          0.41435639876617614,
          -0.48758212474545304,
          null,
          0.41435639876617614,
          0.5504424220695132,
          null,
          0.12725954693500777,
          0.15130480758120915,
          null,
          0.12725954693500777,
          -0.4786404351966603,
          null,
          0.12725954693500777,
          -0.8076720201704415,
          null,
          0.12725954693500777,
          -0.1672453190504168,
          null,
          0.12725954693500777,
          0.018101123993556224,
          null,
          0.12725954693500777,
          -0.6835156912802808,
          null,
          0.12725954693500777,
          0.0693536564816703,
          null,
          0.12725954693500777,
          -0.6327606713055155,
          null,
          -0.16275614920139775,
          -0.6637681911172657,
          null,
          0.10781411452086094,
          -0.16275614920139775,
          null,
          0.10781411452086094,
          -0.8371243081996419,
          null,
          0.10781411452086094,
          -0.8076720201704415,
          null,
          0.10781411452086094,
          0.30853943485844537,
          null,
          0.10781411452086094,
          -0.4219854544912759,
          null,
          0.10781411452086094,
          0.230343088336587,
          null,
          0.10781411452086094,
          -0.6327606713055155,
          null,
          -0.34856322927332,
          -0.6637681911172657,
          null,
          -0.7965534492381359,
          -0.6637681911172657,
          null,
          -0.7334347543736225,
          -0.6637681911172657,
          null,
          -0.2555429140039131,
          -0.6637681911172657,
          null,
          0.24182601469084142,
          -0.2555429140039131,
          null,
          0.24182601469084142,
          -0.18842046992047645,
          null,
          0.24182601469084142,
          -0.6835156912802808,
          null,
          0.24182601469084142,
          0.1363546015168631,
          null,
          0.24182601469084142,
          0.11199690174727985,
          null,
          -0.10647264515228717,
          -0.6637681911172657,
          null,
          0.8128669397821171,
          -0.10647264515228717,
          null,
          0.1416399828473858,
          -0.6637681911172657,
          null,
          0.734734848613153,
          0.1416399828473858,
          null,
          -0.1998580513386992,
          -0.6637681911172657,
          null,
          -0.48758212474545304,
          -0.6637681911172657,
          null,
          0.01427265640188229,
          -0.48758212474545304,
          null,
          -0.4786404351966603,
          -0.6637681911172657,
          null,
          -0.038576222065534446,
          -0.6637681911172657,
          null,
          0.4414969566455793,
          -0.038576222065534446,
          null,
          0.4414969566455793,
          -0.6816370510523734,
          null,
          0.4414969566455793,
          0.6002992958807984,
          null,
          0.4414969566455793,
          -0.9850953724696009,
          null,
          0.4414969566455793,
          0.1363546015168631,
          null,
          0.4414969566455793,
          0.23429759296814687,
          null,
          0.4414969566455793,
          0.3906360910415148,
          null,
          -0.8371243081996419,
          -0.6637681911172657,
          null,
          -0.38478264484294694,
          -0.6637681911172657,
          null,
          0.2982188773122909,
          -0.6637681911172657,
          null,
          0.0793431398654161,
          0.2982188773122909,
          null,
          0.0793431398654161,
          0.018101123993556224,
          null,
          0.0793431398654161,
          -0.9850953724696009,
          null,
          0.0793431398654161,
          -0.3902177266250587,
          null,
          0.0793431398654161,
          0.44195488709260317,
          null,
          0.0793431398654161,
          0.0693536564816703,
          null,
          -0.18842046992047645,
          -0.6637681911172657,
          null,
          -0.5716846367587849,
          -0.6637681911172657,
          null,
          -0.31610296626544426,
          -0.6637681911172657,
          null,
          -0.10697066124200674,
          -0.6637681911172657,
          null,
          0.8332906657797845,
          -0.10697066124200674,
          null,
          -0.8076720201704415,
          -0.6637681911172657,
          null,
          -0.1672453190504168,
          -0.6637681911172657,
          null,
          0.018101123993556224,
          -0.6637681911172657,
          null,
          -0.6835156912802808,
          -0.6637681911172657,
          null,
          -0.6816370510523734,
          -0.6637681911172657,
          null,
          0.04501005273545156,
          -0.6816370510523734,
          null,
          0.6002992958807984,
          -0.6637681911172657,
          null,
          -0.9850953724696009,
          -0.6637681911172657,
          null,
          0.1363546015168631,
          -0.6637681911172657,
          null,
          0.23429759296814687,
          -0.6637681911172657,
          null,
          0.2946403181667019,
          0.23429759296814687,
          null,
          0.2946403181667019,
          0.3460229043488046,
          null,
          0.2946403181667019,
          -0.763369855741912,
          null,
          0.3906360910415148,
          -0.6637681911172657,
          null,
          -0.4936081481874233,
          -0.6637681911172657,
          null,
          0.45106015106253844,
          -0.4936081481874233,
          null,
          0.45106015106253844,
          0.5504424220695132,
          null,
          0.30853943485844537,
          -0.6637681911172657,
          null,
          -0.4219854544912759,
          -0.6637681911172657,
          null,
          0.230343088336587,
          -0.6637681911172657,
          null,
          0.09945870677603166,
          -0.6637681911172657,
          null,
          0.9400872931398563,
          0.09945870677603166,
          null,
          0.9400872931398563,
          0.3723853096464907,
          null,
          0.3723853096464907,
          -0.6637681911172657,
          null,
          -0.3902177266250587,
          -0.6637681911172657,
          null,
          0.11199690174727985,
          -0.6637681911172657,
          null,
          0.09459178932055483,
          -0.6637681911172657,
          null,
          0.3934190504702324,
          0.09459178932055483,
          null,
          0.3934190504702324,
          -0.0051063737594837,
          null,
          0.3460229043488046,
          -0.6637681911172657,
          null,
          0.18902327678947886,
          -0.6637681911172657,
          null,
          0.5183782463041314,
          -0.6637681911172657,
          null,
          0.44195488709260317,
          -0.6637681911172657,
          null,
          0.2767639089790814,
          -0.6637681911172657,
          null,
          -0.0051063737594837,
          -0.6637681911172657,
          null,
          -0.763369855741912,
          -0.6637681911172657,
          null,
          0.0693536564816703,
          -0.6637681911172657,
          null,
          0.5680444969617173,
          0.0693536564816703,
          null,
          0.5504424220695132,
          -0.6637681911172657,
          null,
          -0.6327606713055155,
          -0.6637681911172657,
          null
         ],
         "type": "scatter"
        },
        {
         "hoverinfo": "text",
         "marker": {
          "color": [],
          "colorbar": {
           "thickness": 15,
           "title": {
            "side": "right",
            "text": "Node Connections"
           },
           "xanchor": "left"
          },
          "colorscale": [
           [
            0.0,
            "rgb(255,255,217)"
           ],
           [
            0.125,
            "rgb(237,248,177)"
           ],
           [
            0.25,
            "rgb(199,233,180)"
           ],
           [
            0.375,
            "rgb(127,205,187)"
           ],
           [
            0.5,
            "rgb(65,182,196)"
           ],
           [
            0.625,
            "rgb(29,145,192)"
           ],
           [
            0.75,
            "rgb(34,94,168)"
           ],
           [
            0.875,
            "rgb(37,52,148)"
           ],
           [
            1.0,
            "rgb(8,29,88)"
           ]
          ],
          "line": {
           "width": 2
          },
          "reversescale": true,
          "showscale": true,
          "size": 10
         },
         "mode": "markers",
         "text": [
          "0",
          "Art Tray",
          "Coffee",
          "1",
          "Bakewell",
          "2",
          "Extra Salami or Feta",
          "3",
          "Granola",
          "4",
          "Keeping It Local",
          "5",
          "Salad",
          "6",
          "Tartine",
          "7",
          "Toast",
          "8",
          "Alfajores",
          "Cookies",
          "9",
          "NONE",
          "10",
          "Brownie",
          "11",
          "12",
          "Sandwich",
          "13",
          "Cake",
          "Hot chocolate",
          "14",
          "Medialuna",
          "15",
          "16",
          "17",
          "18",
          "Scone",
          "19",
          "Smoothies",
          "20",
          "Tiffin",
          "21",
          "22",
          "Vegan mincepie",
          "23",
          "24",
          "Juice",
          "25",
          "26",
          "27",
          "Pastry",
          "28",
          "29",
          "30",
          "31",
          "Hearty & Seasonal",
          "32",
          "33",
          "34",
          "35",
          "36",
          "Jammie Dodgers",
          "37",
          "38",
          "39",
          "40",
          "Spanish Brunch",
          "41",
          "42",
          "Tea",
          "43",
          "44",
          "45",
          "46",
          "Muffin",
          "47",
          "48",
          "49",
          "50",
          "Soup",
          "51",
          "52",
          "53",
          "54",
          "55",
          "56",
          "57",
          "58",
          "Bread",
          "59",
          "60"
         ],
         "x": [
          -0.3826260863969561,
          -0.3895004294990448,
          -0.12398262500163428,
          0.4711525120252681,
          1.0,
          0.12848456573872744,
          0.1135603498302734,
          -0.6384783444609942,
          -0.9090400578225792,
          -0.14319606008001776,
          -0.4649699546873643,
          0.07410418844555175,
          -0.24705594139346404,
          0.09463617009025606,
          -0.1634512922533443,
          0.4694759494930511,
          0.3762062688765671,
          -0.16102619223604997,
          -0.516959188852723,
          0.04726911359418916,
          -0.4321023719196212,
          0.02895874755447408,
          0.39990929169162426,
          0.2468142477207837,
          0.3955242625397385,
          -0.33186332234192273,
          0.023612110684222958,
          0.26822449032967594,
          -0.02865093897724297,
          0.13128486749872811,
          -0.44493533768648813,
          0.20506609507341267,
          -0.5636360620093224,
          -0.5752890540817963,
          -0.3458019807368713,
          0.3705675072873153,
          0.5762779900743638,
          -0.5667487331494969,
          -0.7410907466302954,
          -0.20534092151020178,
          -0.5489624277333123,
          0.43791905881860854,
          0.3209585411593484,
          0.965031994452182,
          0.18031671195742216,
          -0.12231052667662856,
          0.2976722204332538,
          0.26952041943699234,
          -0.7196045934244635,
          -0.2499814898131168,
          -0.2764876920643544,
          0.5331523477539719,
          0.5528772132905434,
          -0.44861898508953146,
          -0.24982380142076593,
          -0.11459310943087979,
          -0.44385017593164394,
          0.2100430063806307,
          -0.3367441976566114,
          0.21149156607527972,
          0.35922838900043935,
          0.8904675255253025,
          0.14118764342593265,
          -0.1590636441636868,
          0.16659265641996512,
          0.34440445924423335,
          0.4812814850162976,
          0.35355700715667604,
          -0.5223142504819348,
          -0.5179208762942001,
          0.25005038394877865,
          0.44671314951841395,
          -0.03635844213030311,
          -0.5011279050337184,
          -0.3335630540628881,
          -0.09828371674297876,
          -0.6366308748143428,
          0.33124176684507683,
          0.5399016015406776,
          0.8426223534198216,
          0.16752267392777972,
          -0.3503813922713499,
          0.2010817973589337,
          -0.14866624205541878,
          0.059106695790521205,
          0.41509554459958914,
          0.06292255449181662,
          -0.12397367068673669,
          -0.6097867747327901,
          0.008428666008284381,
          0.46327532289410156
         ],
         "y": [
          -0.5348598941517524,
          0.603861398453035,
          -0.6637681911172657,
          -0.5072755360371914,
          0.3220906441080919,
          -0.9114520249451158,
          -0.3794987916846652,
          -0.5441760996842192,
          0.29204848596036476,
          0.2684010076608032,
          0.44603153669900847,
          0.474170328407495,
          0.6064052370628649,
          0.3973594918140753,
          0.8860807895663548,
          0.09211963267869176,
          0.5446127982549175,
          -0.3296106979618994,
          0.3255853499860694,
          -0.0788151751667373,
          0.050388125693393716,
          0.030457144611939505,
          0.10653435593283139,
          -0.2835445823135723,
          -0.8319282679464217,
          -0.4253856788581379,
          0.009818408499368813,
          0.15130480758120915,
          0.41435639876617614,
          0.12725954693500777,
          -0.16275614920139775,
          0.10781411452086094,
          -0.34856322927332,
          -0.7965534492381359,
          -0.7334347543736225,
          -0.2555429140039131,
          0.24182601469084142,
          -0.10647264515228717,
          0.8128669397821171,
          0.1416399828473858,
          0.734734848613153,
          -0.1998580513386992,
          -0.48758212474545304,
          0.01427265640188229,
          -0.4786404351966603,
          -0.038576222065534446,
          0.4414969566455793,
          -0.8371243081996419,
          -0.38478264484294694,
          0.2982188773122909,
          0.0793431398654161,
          -0.18842046992047645,
          -0.5716846367587849,
          -0.31610296626544426,
          -0.10697066124200674,
          0.8332906657797845,
          -0.8076720201704415,
          -0.1672453190504168,
          0.018101123993556224,
          -0.6835156912802808,
          -0.6816370510523734,
          0.04501005273545156,
          0.6002992958807984,
          -0.9850953724696009,
          0.1363546015168631,
          0.23429759296814687,
          0.2946403181667019,
          0.3906360910415148,
          -0.4936081481874233,
          0.45106015106253844,
          0.30853943485844537,
          -0.4219854544912759,
          0.230343088336587,
          0.09945870677603166,
          0.9400872931398563,
          0.3723853096464907,
          -0.3902177266250587,
          0.11199690174727985,
          0.09459178932055483,
          0.3934190504702324,
          0.3460229043488046,
          0.18902327678947886,
          0.5183782463041314,
          0.44195488709260317,
          0.2767639089790814,
          -0.0051063737594837,
          -0.763369855741912,
          0.0693536564816703,
          0.5680444969617173,
          0.5504424220695132,
          -0.6327606713055155
         ],
         "type": "scatter"
        }
       ],
       "layout": {
        "annotations": [
         {
          "showarrow": false,
          "text": "Python code: <a href='https://plotly.com/ipython-notebooks/network-graphs/'> https://plotly.com/ipython-notebooks/network-graphs/</a>",
          "x": 0.005,
          "xref": "paper",
          "y": -0.002,
          "yref": "paper"
         }
        ],
        "hovermode": "closest",
        "margin": {
         "b": 20,
         "l": 5,
         "r": 5,
         "t": 40
        },
        "showlegend": false,
        "title": {
         "font": {
          "size": 16
         },
         "text": "<br>Network graph made with Python"
        },
        "xaxis": {
         "showgrid": false,
         "showticklabels": false,
         "zeroline": false
        },
        "yaxis": {
         "showgrid": false,
         "showticklabels": false,
         "zeroline": false
        },
        "template": {
         "data": {
          "histogram2dcontour": [
           {
            "type": "histogram2dcontour",
            "colorbar": {
             "outlinewidth": 0,
             "ticks": ""
            },
            "colorscale": [
             [
              0.0,
              "#0d0887"
             ],
             [
              0.1111111111111111,
              "#46039f"
             ],
             [
              0.2222222222222222,
              "#7201a8"
             ],
             [
              0.3333333333333333,
              "#9c179e"
             ],
             [
              0.4444444444444444,
              "#bd3786"
             ],
             [
              0.5555555555555556,
              "#d8576b"
             ],
             [
              0.6666666666666666,
              "#ed7953"
             ],
             [
              0.7777777777777778,
              "#fb9f3a"
             ],
             [
              0.8888888888888888,
              "#fdca26"
             ],
             [
              1.0,
              "#f0f921"
             ]
            ]
           }
          ],
          "choropleth": [
           {
            "type": "choropleth",
            "colorbar": {
             "outlinewidth": 0,
             "ticks": ""
            }
           }
          ],
          "histogram2d": [
           {
            "type": "histogram2d",
            "colorbar": {
             "outlinewidth": 0,
             "ticks": ""
            },
            "colorscale": [
             [
              0.0,
              "#0d0887"
             ],
             [
              0.1111111111111111,
              "#46039f"
             ],
             [
              0.2222222222222222,
              "#7201a8"
             ],
             [
              0.3333333333333333,
              "#9c179e"
             ],
             [
              0.4444444444444444,
              "#bd3786"
             ],
             [
              0.5555555555555556,
              "#d8576b"
             ],
             [
              0.6666666666666666,
              "#ed7953"
             ],
             [
              0.7777777777777778,
              "#fb9f3a"
             ],
             [
              0.8888888888888888,
              "#fdca26"
             ],
             [
              1.0,
              "#f0f921"
             ]
            ]
           }
          ],
          "heatmap": [
           {
            "type": "heatmap",
            "colorbar": {
             "outlinewidth": 0,
             "ticks": ""
            },
            "colorscale": [
             [
              0.0,
              "#0d0887"
             ],
             [
              0.1111111111111111,
              "#46039f"
             ],
             [
              0.2222222222222222,
              "#7201a8"
             ],
             [
              0.3333333333333333,
              "#9c179e"
             ],
             [
              0.4444444444444444,
              "#bd3786"
             ],
             [
              0.5555555555555556,
              "#d8576b"
             ],
             [
              0.6666666666666666,
              "#ed7953"
             ],
             [
              0.7777777777777778,
              "#fb9f3a"
             ],
             [
              0.8888888888888888,
              "#fdca26"
             ],
             [
              1.0,
              "#f0f921"
             ]
            ]
           }
          ],
          "heatmapgl": [
           {
            "type": "heatmapgl",
            "colorbar": {
             "outlinewidth": 0,
             "ticks": ""
            },
            "colorscale": [
             [
              0.0,
              "#0d0887"
             ],
             [
              0.1111111111111111,
              "#46039f"
             ],
             [
              0.2222222222222222,
              "#7201a8"
             ],
             [
              0.3333333333333333,
              "#9c179e"
             ],
             [
              0.4444444444444444,
              "#bd3786"
             ],
             [
              0.5555555555555556,
              "#d8576b"
             ],
             [
              0.6666666666666666,
              "#ed7953"
             ],
             [
              0.7777777777777778,
              "#fb9f3a"
             ],
             [
              0.8888888888888888,
              "#fdca26"
             ],
             [
              1.0,
              "#f0f921"
             ]
            ]
           }
          ],
          "contourcarpet": [
           {
            "type": "contourcarpet",
            "colorbar": {
             "outlinewidth": 0,
             "ticks": ""
            }
           }
          ],
          "contour": [
           {
            "type": "contour",
            "colorbar": {
             "outlinewidth": 0,
             "ticks": ""
            },
            "colorscale": [
             [
              0.0,
              "#0d0887"
             ],
             [
              0.1111111111111111,
              "#46039f"
             ],
             [
              0.2222222222222222,
              "#7201a8"
             ],
             [
              0.3333333333333333,
              "#9c179e"
             ],
             [
              0.4444444444444444,
              "#bd3786"
             ],
             [
              0.5555555555555556,
              "#d8576b"
             ],
             [
              0.6666666666666666,
              "#ed7953"
             ],
             [
              0.7777777777777778,
              "#fb9f3a"
             ],
             [
              0.8888888888888888,
              "#fdca26"
             ],
             [
              1.0,
              "#f0f921"
             ]
            ]
           }
          ],
          "surface": [
           {
            "type": "surface",
            "colorbar": {
             "outlinewidth": 0,
             "ticks": ""
            },
            "colorscale": [
             [
              0.0,
              "#0d0887"
             ],
             [
              0.1111111111111111,
              "#46039f"
             ],
             [
              0.2222222222222222,
              "#7201a8"
             ],
             [
              0.3333333333333333,
              "#9c179e"
             ],
             [
              0.4444444444444444,
              "#bd3786"
             ],
             [
              0.5555555555555556,
              "#d8576b"
             ],
             [
              0.6666666666666666,
              "#ed7953"
             ],
             [
              0.7777777777777778,
              "#fb9f3a"
             ],
             [
              0.8888888888888888,
              "#fdca26"
             ],
             [
              1.0,
              "#f0f921"
             ]
            ]
           }
          ],
          "mesh3d": [
           {
            "type": "mesh3d",
            "colorbar": {
             "outlinewidth": 0,
             "ticks": ""
            }
           }
          ],
          "scatter": [
           {
            "fillpattern": {
             "fillmode": "overlay",
             "size": 10,
             "solidity": 0.2
            },
            "type": "scatter"
           }
          ],
          "parcoords": [
           {
            "type": "parcoords",
            "line": {
             "colorbar": {
              "outlinewidth": 0,
              "ticks": ""
             }
            }
           }
          ],
          "scatterpolargl": [
           {
            "type": "scatterpolargl",
            "marker": {
             "colorbar": {
              "outlinewidth": 0,
              "ticks": ""
             }
            }
           }
          ],
          "bar": [
           {
            "error_x": {
             "color": "#2a3f5f"
            },
            "error_y": {
             "color": "#2a3f5f"
            },
            "marker": {
             "line": {
              "color": "#E5ECF6",
              "width": 0.5
             },
             "pattern": {
              "fillmode": "overlay",
              "size": 10,
              "solidity": 0.2
             }
            },
            "type": "bar"
           }
          ],
          "scattergeo": [
           {
            "type": "scattergeo",
            "marker": {
             "colorbar": {
              "outlinewidth": 0,
              "ticks": ""
             }
            }
           }
          ],
          "scatterpolar": [
           {
            "type": "scatterpolar",
            "marker": {
             "colorbar": {
              "outlinewidth": 0,
              "ticks": ""
             }
            }
           }
          ],
          "histogram": [
           {
            "marker": {
             "pattern": {
              "fillmode": "overlay",
              "size": 10,
              "solidity": 0.2
             }
            },
            "type": "histogram"
           }
          ],
          "scattergl": [
           {
            "type": "scattergl",
            "marker": {
             "colorbar": {
              "outlinewidth": 0,
              "ticks": ""
             }
            }
           }
          ],
          "scatter3d": [
           {
            "type": "scatter3d",
            "line": {
             "colorbar": {
              "outlinewidth": 0,
              "ticks": ""
             }
            },
            "marker": {
             "colorbar": {
              "outlinewidth": 0,
              "ticks": ""
             }
            }
           }
          ],
          "scattermapbox": [
           {
            "type": "scattermapbox",
            "marker": {
             "colorbar": {
              "outlinewidth": 0,
              "ticks": ""
             }
            }
           }
          ],
          "scatterternary": [
           {
            "type": "scatterternary",
            "marker": {
             "colorbar": {
              "outlinewidth": 0,
              "ticks": ""
             }
            }
           }
          ],
          "scattercarpet": [
           {
            "type": "scattercarpet",
            "marker": {
             "colorbar": {
              "outlinewidth": 0,
              "ticks": ""
             }
            }
           }
          ],
          "carpet": [
           {
            "aaxis": {
             "endlinecolor": "#2a3f5f",
             "gridcolor": "white",
             "linecolor": "white",
             "minorgridcolor": "white",
             "startlinecolor": "#2a3f5f"
            },
            "baxis": {
             "endlinecolor": "#2a3f5f",
             "gridcolor": "white",
             "linecolor": "white",
             "minorgridcolor": "white",
             "startlinecolor": "#2a3f5f"
            },
            "type": "carpet"
           }
          ],
          "table": [
           {
            "cells": {
             "fill": {
              "color": "#EBF0F8"
             },
             "line": {
              "color": "white"
             }
            },
            "header": {
             "fill": {
              "color": "#C8D4E3"
             },
             "line": {
              "color": "white"
             }
            },
            "type": "table"
           }
          ],
          "barpolar": [
           {
            "marker": {
             "line": {
              "color": "#E5ECF6",
              "width": 0.5
             },
             "pattern": {
              "fillmode": "overlay",
              "size": 10,
              "solidity": 0.2
             }
            },
            "type": "barpolar"
           }
          ],
          "pie": [
           {
            "automargin": true,
            "type": "pie"
           }
          ]
         },
         "layout": {
          "autotypenumbers": "strict",
          "colorway": [
           "#636efa",
           "#EF553B",
           "#00cc96",
           "#ab63fa",
           "#FFA15A",
           "#19d3f3",
           "#FF6692",
           "#B6E880",
           "#FF97FF",
           "#FECB52"
          ],
          "font": {
           "color": "#2a3f5f"
          },
          "hovermode": "closest",
          "hoverlabel": {
           "align": "left"
          },
          "paper_bgcolor": "white",
          "plot_bgcolor": "#E5ECF6",
          "polar": {
           "bgcolor": "#E5ECF6",
           "angularaxis": {
            "gridcolor": "white",
            "linecolor": "white",
            "ticks": ""
           },
           "radialaxis": {
            "gridcolor": "white",
            "linecolor": "white",
            "ticks": ""
           }
          },
          "ternary": {
           "bgcolor": "#E5ECF6",
           "aaxis": {
            "gridcolor": "white",
            "linecolor": "white",
            "ticks": ""
           },
           "baxis": {
            "gridcolor": "white",
            "linecolor": "white",
            "ticks": ""
           },
           "caxis": {
            "gridcolor": "white",
            "linecolor": "white",
            "ticks": ""
           }
          },
          "coloraxis": {
           "colorbar": {
            "outlinewidth": 0,
            "ticks": ""
           }
          },
          "colorscale": {
           "sequential": [
            [
             0.0,
             "#0d0887"
            ],
            [
             0.1111111111111111,
             "#46039f"
            ],
            [
             0.2222222222222222,
             "#7201a8"
            ],
            [
             0.3333333333333333,
             "#9c179e"
            ],
            [
             0.4444444444444444,
             "#bd3786"
            ],
            [
             0.5555555555555556,
             "#d8576b"
            ],
            [
             0.6666666666666666,
             "#ed7953"
            ],
            [
             0.7777777777777778,
             "#fb9f3a"
            ],
            [
             0.8888888888888888,
             "#fdca26"
            ],
            [
             1.0,
             "#f0f921"
            ]
           ],
           "sequentialminus": [
            [
             0.0,
             "#0d0887"
            ],
            [
             0.1111111111111111,
             "#46039f"
            ],
            [
             0.2222222222222222,
             "#7201a8"
            ],
            [
             0.3333333333333333,
             "#9c179e"
            ],
            [
             0.4444444444444444,
             "#bd3786"
            ],
            [
             0.5555555555555556,
             "#d8576b"
            ],
            [
             0.6666666666666666,
             "#ed7953"
            ],
            [
             0.7777777777777778,
             "#fb9f3a"
            ],
            [
             0.8888888888888888,
             "#fdca26"
            ],
            [
             1.0,
             "#f0f921"
            ]
           ],
           "diverging": [
            [
             0,
             "#8e0152"
            ],
            [
             0.1,
             "#c51b7d"
            ],
            [
             0.2,
             "#de77ae"
            ],
            [
             0.3,
             "#f1b6da"
            ],
            [
             0.4,
             "#fde0ef"
            ],
            [
             0.5,
             "#f7f7f7"
            ],
            [
             0.6,
             "#e6f5d0"
            ],
            [
             0.7,
             "#b8e186"
            ],
            [
             0.8,
             "#7fbc41"
            ],
            [
             0.9,
             "#4d9221"
            ],
            [
             1,
             "#276419"
            ]
           ]
          },
          "xaxis": {
           "gridcolor": "white",
           "linecolor": "white",
           "ticks": "",
           "title": {
            "standoff": 15
           },
           "zerolinecolor": "white",
           "automargin": true,
           "zerolinewidth": 2
          },
          "yaxis": {
           "gridcolor": "white",
           "linecolor": "white",
           "ticks": "",
           "title": {
            "standoff": 15
           },
           "zerolinecolor": "white",
           "automargin": true,
           "zerolinewidth": 2
          },
          "scene": {
           "xaxis": {
            "backgroundcolor": "#E5ECF6",
            "gridcolor": "white",
            "linecolor": "white",
            "showbackground": true,
            "ticks": "",
            "zerolinecolor": "white",
            "gridwidth": 2
           },
           "yaxis": {
            "backgroundcolor": "#E5ECF6",
            "gridcolor": "white",
            "linecolor": "white",
            "showbackground": true,
            "ticks": "",
            "zerolinecolor": "white",
            "gridwidth": 2
           },
           "zaxis": {
            "backgroundcolor": "#E5ECF6",
            "gridcolor": "white",
            "linecolor": "white",
            "showbackground": true,
            "ticks": "",
            "zerolinecolor": "white",
            "gridwidth": 2
           }
          },
          "shapedefaults": {
           "line": {
            "color": "#2a3f5f"
           }
          },
          "annotationdefaults": {
           "arrowcolor": "#2a3f5f",
           "arrowhead": 0,
           "arrowwidth": 1
          },
          "geo": {
           "bgcolor": "white",
           "landcolor": "#E5ECF6",
           "subunitcolor": "white",
           "showland": true,
           "showlakes": true,
           "lakecolor": "white"
          },
          "title": {
           "x": 0.05
          },
          "mapbox": {
           "style": "light"
          }
         }
        }
       },
       "config": {
        "plotlyServerURL": "https://plot.ly"
       }
      },
      "text/html": [
       "<div>                            <div id=\"afda3ebd-0a57-49e6-bc2f-1196fc89cc89\" class=\"plotly-graph-div\" style=\"height:525px; width:100%;\"></div>            <script type=\"text/javascript\">                require([\"plotly\"], function(Plotly) {                    window.PLOTLYENV=window.PLOTLYENV || {};                                    if (document.getElementById(\"afda3ebd-0a57-49e6-bc2f-1196fc89cc89\")) {                    Plotly.newPlot(                        \"afda3ebd-0a57-49e6-bc2f-1196fc89cc89\",                        [{\"hoverinfo\":\"none\",\"line\":{\"color\":\"#888\",\"width\":0.5},\"mode\":\"lines\",\"x\":[-0.3826260863969561,-0.12398262500163428,null,-0.3895004294990448,-0.3826260863969561,null,0.4711525120252681,-0.12398262500163428,null,1.0,0.4711525120252681,null,0.12848456573872744,-0.12398262500163428,null,0.1135603498302734,0.12848456573872744,null,0.1135603498302734,0.5528772132905434,null,0.1135603498302734,-0.44861898508953146,null,-0.6384783444609942,-0.12398262500163428,null,-0.9090400578225792,-0.6384783444609942,null,-0.14319606008001776,-0.12398262500163428,null,-0.4649699546873643,-0.14319606008001776,null,-0.4649699546873643,-0.5223142504819348,null,0.07410418844555175,-0.12398262500163428,null,-0.24705594139346404,0.07410418844555175,null,-0.24705594139346404,-0.5752890540817963,null,-0.24705594139346404,-0.44861898508953146,null,-0.24705594139346404,0.059106695790521205,null,0.09463617009025606,-0.12398262500163428,null,-0.1634512922533443,0.09463617009025606,null,-0.1634512922533443,-0.3503813922713499,null,0.4694759494930511,-0.12398262500163428,null,0.3762062688765671,0.4694759494930511,null,0.3762062688765671,0.43791905881860854,null,0.3762062688765671,0.35355700715667604,null,0.3762062688765671,-0.03635844213030311,null,0.3762062688765671,0.2010817973589337,null,0.3762062688765671,-0.14866624205541878,null,-0.16102619223604997,-0.12398262500163428,null,-0.516959188852723,-0.16102619223604997,null,-0.516959188852723,-0.4321023719196212,null,0.04726911359418916,-0.16102619223604997,null,0.04726911359418916,0.39990929169162426,null,0.04726911359418916,0.18031671195742216,null,0.04726911359418916,-0.12231052667662856,null,0.04726911359418916,0.26952041943699234,null,0.04726911359418916,-0.7196045934244635,null,0.04726911359418916,-0.2499814898131168,null,0.04726911359418916,0.5331523477539719,null,-0.4321023719196212,-0.12398262500163428,null,0.02895874755447408,-0.4321023719196212,null,0.02895874755447408,0.3955242625397385,null,0.02895874755447408,-0.5636360620093224,null,0.02895874755447408,-0.7196045934244635,null,0.02895874755447408,0.5528772132905434,null,0.02895874755447408,0.2100430063806307,null,0.02895874755447408,0.14118764342593265,null,0.02895874755447408,0.25005038394877865,null,0.02895874755447408,-0.5011279050337184,null,0.02895874755447408,-0.6366308748143428,null,0.02895874755447408,0.33124176684507683,null,0.02895874755447408,0.5399016015406776,null,0.02895874755447408,0.16752267392777972,null,0.02895874755447408,-0.3503813922713499,null,0.02895874755447408,0.2010817973589337,null,0.02895874755447408,0.46327532289410156,null,0.39990929169162426,-0.12398262500163428,null,0.2468142477207837,0.39990929169162426,null,0.2468142477207837,0.3955242625397385,null,0.2468142477207837,-0.33186332234192273,null,0.3955242625397385,-0.12398262500163428,null,-0.33186332234192273,-0.12398262500163428,null,0.023612110684222958,-0.33186332234192273,null,0.023612110684222958,-0.3458019807368713,null,0.023612110684222958,-0.24982380142076593,null,0.023612110684222958,0.44671314951841395,null,0.023612110684222958,-0.09828371674297876,null,0.023612110684222958,0.059106695790521205,null,0.023612110684222958,0.41509554459958914,null,0.023612110684222958,0.06292255449181662,null,0.023612110684222958,0.008428666008284381,null,0.26822449032967594,-0.12398262500163428,null,-0.02865093897724297,0.26822449032967594,null,-0.02865093897724297,-0.44493533768648813,null,-0.02865093897724297,-0.5636360620093224,null,-0.02865093897724297,-0.5752890540817963,null,-0.02865093897724297,-0.3458019807368713,null,-0.02865093897724297,0.3705675072873153,null,-0.02865093897724297,-0.5667487331494969,null,-0.02865093897724297,-0.20534092151020178,null,-0.02865093897724297,0.43791905881860854,null,-0.02865093897724297,0.3209585411593484,null,-0.02865093897724297,0.008428666008284381,null,0.13128486749872811,0.26822449032967594,null,0.13128486749872811,0.18031671195742216,null,0.13128486749872811,-0.44385017593164394,null,0.13128486749872811,0.2100430063806307,null,0.13128486749872811,-0.3367441976566114,null,0.13128486749872811,0.21149156607527972,null,0.13128486749872811,-0.12397367068673669,null,0.13128486749872811,0.46327532289410156,null,-0.44493533768648813,-0.12398262500163428,null,0.20506609507341267,-0.44493533768648813,null,0.20506609507341267,0.26952041943699234,null,0.20506609507341267,-0.44385017593164394,null,0.20506609507341267,0.25005038394877865,null,0.20506609507341267,0.44671314951841395,null,0.20506609507341267,-0.03635844213030311,null,0.20506609507341267,0.46327532289410156,null,-0.5636360620093224,-0.12398262500163428,null,-0.5752890540817963,-0.12398262500163428,null,-0.3458019807368713,-0.12398262500163428,null,0.3705675072873153,-0.12398262500163428,null,0.5762779900743638,0.3705675072873153,null,0.5762779900743638,0.5331523477539719,null,0.5762779900743638,0.21149156607527972,null,0.5762779900743638,0.16659265641996512,null,0.5762779900743638,0.33124176684507683,null,-0.5667487331494969,-0.12398262500163428,null,-0.7410907466302954,-0.5667487331494969,null,-0.20534092151020178,-0.12398262500163428,null,-0.5489624277333123,-0.20534092151020178,null,0.43791905881860854,-0.12398262500163428,null,0.3209585411593484,-0.12398262500163428,null,0.965031994452182,0.3209585411593484,null,0.18031671195742216,-0.12398262500163428,null,-0.12231052667662856,-0.12398262500163428,null,0.2976722204332538,-0.12231052667662856,null,0.2976722204332538,0.35922838900043935,null,0.2976722204332538,0.14118764342593265,null,0.2976722204332538,-0.1590636441636868,null,0.2976722204332538,0.16659265641996512,null,0.2976722204332538,0.34440445924423335,null,0.2976722204332538,0.35355700715667604,null,0.26952041943699234,-0.12398262500163428,null,-0.7196045934244635,-0.12398262500163428,null,-0.2499814898131168,-0.12398262500163428,null,-0.2764876920643544,-0.2499814898131168,null,-0.2764876920643544,-0.3367441976566114,null,-0.2764876920643544,-0.1590636441636868,null,-0.2764876920643544,-0.6366308748143428,null,-0.2764876920643544,-0.14866624205541878,null,-0.2764876920643544,-0.12397367068673669,null,0.5331523477539719,-0.12398262500163428,null,0.5528772132905434,-0.12398262500163428,null,-0.44861898508953146,-0.12398262500163428,null,-0.24982380142076593,-0.12398262500163428,null,-0.11459310943087979,-0.24982380142076593,null,-0.44385017593164394,-0.12398262500163428,null,0.2100430063806307,-0.12398262500163428,null,-0.3367441976566114,-0.12398262500163428,null,0.21149156607527972,-0.12398262500163428,null,0.35922838900043935,-0.12398262500163428,null,0.8904675255253025,0.35922838900043935,null,0.14118764342593265,-0.12398262500163428,null,-0.1590636441636868,-0.12398262500163428,null,0.16659265641996512,-0.12398262500163428,null,0.34440445924423335,-0.12398262500163428,null,0.4812814850162976,0.34440445924423335,null,0.4812814850162976,0.16752267392777972,null,0.4812814850162976,0.06292255449181662,null,0.35355700715667604,-0.12398262500163428,null,-0.5223142504819348,-0.12398262500163428,null,-0.5179208762942001,-0.5223142504819348,null,-0.5179208762942001,0.008428666008284381,null,0.25005038394877865,-0.12398262500163428,null,0.44671314951841395,-0.12398262500163428,null,-0.03635844213030311,-0.12398262500163428,null,-0.5011279050337184,-0.12398262500163428,null,-0.3335630540628881,-0.5011279050337184,null,-0.3335630540628881,-0.09828371674297876,null,-0.09828371674297876,-0.12398262500163428,null,-0.6366308748143428,-0.12398262500163428,null,0.33124176684507683,-0.12398262500163428,null,0.5399016015406776,-0.12398262500163428,null,0.8426223534198216,0.5399016015406776,null,0.8426223534198216,0.41509554459958914,null,0.16752267392777972,-0.12398262500163428,null,-0.3503813922713499,-0.12398262500163428,null,0.2010817973589337,-0.12398262500163428,null,-0.14866624205541878,-0.12398262500163428,null,0.059106695790521205,-0.12398262500163428,null,0.41509554459958914,-0.12398262500163428,null,0.06292255449181662,-0.12398262500163428,null,-0.12397367068673669,-0.12398262500163428,null,-0.6097867747327901,-0.12397367068673669,null,0.008428666008284381,-0.12398262500163428,null,0.46327532289410156,-0.12398262500163428,null],\"y\":[-0.5348598941517524,-0.6637681911172657,null,0.603861398453035,-0.5348598941517524,null,-0.5072755360371914,-0.6637681911172657,null,0.3220906441080919,-0.5072755360371914,null,-0.9114520249451158,-0.6637681911172657,null,-0.3794987916846652,-0.9114520249451158,null,-0.3794987916846652,-0.5716846367587849,null,-0.3794987916846652,-0.31610296626544426,null,-0.5441760996842192,-0.6637681911172657,null,0.29204848596036476,-0.5441760996842192,null,0.2684010076608032,-0.6637681911172657,null,0.44603153669900847,0.2684010076608032,null,0.44603153669900847,-0.4936081481874233,null,0.474170328407495,-0.6637681911172657,null,0.6064052370628649,0.474170328407495,null,0.6064052370628649,-0.7965534492381359,null,0.6064052370628649,-0.31610296626544426,null,0.6064052370628649,0.2767639089790814,null,0.3973594918140753,-0.6637681911172657,null,0.8860807895663548,0.3973594918140753,null,0.8860807895663548,0.18902327678947886,null,0.09211963267869176,-0.6637681911172657,null,0.5446127982549175,0.09211963267869176,null,0.5446127982549175,-0.1998580513386992,null,0.5446127982549175,0.3906360910415148,null,0.5446127982549175,0.230343088336587,null,0.5446127982549175,0.5183782463041314,null,0.5446127982549175,0.44195488709260317,null,-0.3296106979618994,-0.6637681911172657,null,0.3255853499860694,-0.3296106979618994,null,0.3255853499860694,0.050388125693393716,null,-0.0788151751667373,-0.3296106979618994,null,-0.0788151751667373,0.10653435593283139,null,-0.0788151751667373,-0.4786404351966603,null,-0.0788151751667373,-0.038576222065534446,null,-0.0788151751667373,-0.8371243081996419,null,-0.0788151751667373,-0.38478264484294694,null,-0.0788151751667373,0.2982188773122909,null,-0.0788151751667373,-0.18842046992047645,null,0.050388125693393716,-0.6637681911172657,null,0.030457144611939505,0.050388125693393716,null,0.030457144611939505,-0.8319282679464217,null,0.030457144611939505,-0.34856322927332,null,0.030457144611939505,-0.38478264484294694,null,0.030457144611939505,-0.5716846367587849,null,0.030457144611939505,-0.1672453190504168,null,0.030457144611939505,0.6002992958807984,null,0.030457144611939505,0.30853943485844537,null,0.030457144611939505,0.09945870677603166,null,0.030457144611939505,-0.3902177266250587,null,0.030457144611939505,0.11199690174727985,null,0.030457144611939505,0.09459178932055483,null,0.030457144611939505,0.3460229043488046,null,0.030457144611939505,0.18902327678947886,null,0.030457144611939505,0.5183782463041314,null,0.030457144611939505,-0.6327606713055155,null,0.10653435593283139,-0.6637681911172657,null,-0.2835445823135723,0.10653435593283139,null,-0.2835445823135723,-0.8319282679464217,null,-0.2835445823135723,-0.4253856788581379,null,-0.8319282679464217,-0.6637681911172657,null,-0.4253856788581379,-0.6637681911172657,null,0.009818408499368813,-0.4253856788581379,null,0.009818408499368813,-0.7334347543736225,null,0.009818408499368813,-0.10697066124200674,null,0.009818408499368813,-0.4219854544912759,null,0.009818408499368813,0.3723853096464907,null,0.009818408499368813,0.2767639089790814,null,0.009818408499368813,-0.0051063737594837,null,0.009818408499368813,-0.763369855741912,null,0.009818408499368813,0.5504424220695132,null,0.15130480758120915,-0.6637681911172657,null,0.41435639876617614,0.15130480758120915,null,0.41435639876617614,-0.16275614920139775,null,0.41435639876617614,-0.34856322927332,null,0.41435639876617614,-0.7965534492381359,null,0.41435639876617614,-0.7334347543736225,null,0.41435639876617614,-0.2555429140039131,null,0.41435639876617614,-0.10647264515228717,null,0.41435639876617614,0.1416399828473858,null,0.41435639876617614,-0.1998580513386992,null,0.41435639876617614,-0.48758212474545304,null,0.41435639876617614,0.5504424220695132,null,0.12725954693500777,0.15130480758120915,null,0.12725954693500777,-0.4786404351966603,null,0.12725954693500777,-0.8076720201704415,null,0.12725954693500777,-0.1672453190504168,null,0.12725954693500777,0.018101123993556224,null,0.12725954693500777,-0.6835156912802808,null,0.12725954693500777,0.0693536564816703,null,0.12725954693500777,-0.6327606713055155,null,-0.16275614920139775,-0.6637681911172657,null,0.10781411452086094,-0.16275614920139775,null,0.10781411452086094,-0.8371243081996419,null,0.10781411452086094,-0.8076720201704415,null,0.10781411452086094,0.30853943485844537,null,0.10781411452086094,-0.4219854544912759,null,0.10781411452086094,0.230343088336587,null,0.10781411452086094,-0.6327606713055155,null,-0.34856322927332,-0.6637681911172657,null,-0.7965534492381359,-0.6637681911172657,null,-0.7334347543736225,-0.6637681911172657,null,-0.2555429140039131,-0.6637681911172657,null,0.24182601469084142,-0.2555429140039131,null,0.24182601469084142,-0.18842046992047645,null,0.24182601469084142,-0.6835156912802808,null,0.24182601469084142,0.1363546015168631,null,0.24182601469084142,0.11199690174727985,null,-0.10647264515228717,-0.6637681911172657,null,0.8128669397821171,-0.10647264515228717,null,0.1416399828473858,-0.6637681911172657,null,0.734734848613153,0.1416399828473858,null,-0.1998580513386992,-0.6637681911172657,null,-0.48758212474545304,-0.6637681911172657,null,0.01427265640188229,-0.48758212474545304,null,-0.4786404351966603,-0.6637681911172657,null,-0.038576222065534446,-0.6637681911172657,null,0.4414969566455793,-0.038576222065534446,null,0.4414969566455793,-0.6816370510523734,null,0.4414969566455793,0.6002992958807984,null,0.4414969566455793,-0.9850953724696009,null,0.4414969566455793,0.1363546015168631,null,0.4414969566455793,0.23429759296814687,null,0.4414969566455793,0.3906360910415148,null,-0.8371243081996419,-0.6637681911172657,null,-0.38478264484294694,-0.6637681911172657,null,0.2982188773122909,-0.6637681911172657,null,0.0793431398654161,0.2982188773122909,null,0.0793431398654161,0.018101123993556224,null,0.0793431398654161,-0.9850953724696009,null,0.0793431398654161,-0.3902177266250587,null,0.0793431398654161,0.44195488709260317,null,0.0793431398654161,0.0693536564816703,null,-0.18842046992047645,-0.6637681911172657,null,-0.5716846367587849,-0.6637681911172657,null,-0.31610296626544426,-0.6637681911172657,null,-0.10697066124200674,-0.6637681911172657,null,0.8332906657797845,-0.10697066124200674,null,-0.8076720201704415,-0.6637681911172657,null,-0.1672453190504168,-0.6637681911172657,null,0.018101123993556224,-0.6637681911172657,null,-0.6835156912802808,-0.6637681911172657,null,-0.6816370510523734,-0.6637681911172657,null,0.04501005273545156,-0.6816370510523734,null,0.6002992958807984,-0.6637681911172657,null,-0.9850953724696009,-0.6637681911172657,null,0.1363546015168631,-0.6637681911172657,null,0.23429759296814687,-0.6637681911172657,null,0.2946403181667019,0.23429759296814687,null,0.2946403181667019,0.3460229043488046,null,0.2946403181667019,-0.763369855741912,null,0.3906360910415148,-0.6637681911172657,null,-0.4936081481874233,-0.6637681911172657,null,0.45106015106253844,-0.4936081481874233,null,0.45106015106253844,0.5504424220695132,null,0.30853943485844537,-0.6637681911172657,null,-0.4219854544912759,-0.6637681911172657,null,0.230343088336587,-0.6637681911172657,null,0.09945870677603166,-0.6637681911172657,null,0.9400872931398563,0.09945870677603166,null,0.9400872931398563,0.3723853096464907,null,0.3723853096464907,-0.6637681911172657,null,-0.3902177266250587,-0.6637681911172657,null,0.11199690174727985,-0.6637681911172657,null,0.09459178932055483,-0.6637681911172657,null,0.3934190504702324,0.09459178932055483,null,0.3934190504702324,-0.0051063737594837,null,0.3460229043488046,-0.6637681911172657,null,0.18902327678947886,-0.6637681911172657,null,0.5183782463041314,-0.6637681911172657,null,0.44195488709260317,-0.6637681911172657,null,0.2767639089790814,-0.6637681911172657,null,-0.0051063737594837,-0.6637681911172657,null,-0.763369855741912,-0.6637681911172657,null,0.0693536564816703,-0.6637681911172657,null,0.5680444969617173,0.0693536564816703,null,0.5504424220695132,-0.6637681911172657,null,-0.6327606713055155,-0.6637681911172657,null],\"type\":\"scatter\"},{\"hoverinfo\":\"text\",\"marker\":{\"color\":[],\"colorbar\":{\"thickness\":15,\"title\":{\"side\":\"right\",\"text\":\"Node Connections\"},\"xanchor\":\"left\"},\"colorscale\":[[0.0,\"rgb(255,255,217)\"],[0.125,\"rgb(237,248,177)\"],[0.25,\"rgb(199,233,180)\"],[0.375,\"rgb(127,205,187)\"],[0.5,\"rgb(65,182,196)\"],[0.625,\"rgb(29,145,192)\"],[0.75,\"rgb(34,94,168)\"],[0.875,\"rgb(37,52,148)\"],[1.0,\"rgb(8,29,88)\"]],\"line\":{\"width\":2},\"reversescale\":true,\"showscale\":true,\"size\":10},\"mode\":\"markers\",\"text\":[\"0\",\"Art Tray\",\"Coffee\",\"1\",\"Bakewell\",\"2\",\"Extra Salami or Feta\",\"3\",\"Granola\",\"4\",\"Keeping It Local\",\"5\",\"Salad\",\"6\",\"Tartine\",\"7\",\"Toast\",\"8\",\"Alfajores\",\"Cookies\",\"9\",\"NONE\",\"10\",\"Brownie\",\"11\",\"12\",\"Sandwich\",\"13\",\"Cake\",\"Hot chocolate\",\"14\",\"Medialuna\",\"15\",\"16\",\"17\",\"18\",\"Scone\",\"19\",\"Smoothies\",\"20\",\"Tiffin\",\"21\",\"22\",\"Vegan mincepie\",\"23\",\"24\",\"Juice\",\"25\",\"26\",\"27\",\"Pastry\",\"28\",\"29\",\"30\",\"31\",\"Hearty & Seasonal\",\"32\",\"33\",\"34\",\"35\",\"36\",\"Jammie Dodgers\",\"37\",\"38\",\"39\",\"40\",\"Spanish Brunch\",\"41\",\"42\",\"Tea\",\"43\",\"44\",\"45\",\"46\",\"Muffin\",\"47\",\"48\",\"49\",\"50\",\"Soup\",\"51\",\"52\",\"53\",\"54\",\"55\",\"56\",\"57\",\"58\",\"Bread\",\"59\",\"60\"],\"x\":[-0.3826260863969561,-0.3895004294990448,-0.12398262500163428,0.4711525120252681,1.0,0.12848456573872744,0.1135603498302734,-0.6384783444609942,-0.9090400578225792,-0.14319606008001776,-0.4649699546873643,0.07410418844555175,-0.24705594139346404,0.09463617009025606,-0.1634512922533443,0.4694759494930511,0.3762062688765671,-0.16102619223604997,-0.516959188852723,0.04726911359418916,-0.4321023719196212,0.02895874755447408,0.39990929169162426,0.2468142477207837,0.3955242625397385,-0.33186332234192273,0.023612110684222958,0.26822449032967594,-0.02865093897724297,0.13128486749872811,-0.44493533768648813,0.20506609507341267,-0.5636360620093224,-0.5752890540817963,-0.3458019807368713,0.3705675072873153,0.5762779900743638,-0.5667487331494969,-0.7410907466302954,-0.20534092151020178,-0.5489624277333123,0.43791905881860854,0.3209585411593484,0.965031994452182,0.18031671195742216,-0.12231052667662856,0.2976722204332538,0.26952041943699234,-0.7196045934244635,-0.2499814898131168,-0.2764876920643544,0.5331523477539719,0.5528772132905434,-0.44861898508953146,-0.24982380142076593,-0.11459310943087979,-0.44385017593164394,0.2100430063806307,-0.3367441976566114,0.21149156607527972,0.35922838900043935,0.8904675255253025,0.14118764342593265,-0.1590636441636868,0.16659265641996512,0.34440445924423335,0.4812814850162976,0.35355700715667604,-0.5223142504819348,-0.5179208762942001,0.25005038394877865,0.44671314951841395,-0.03635844213030311,-0.5011279050337184,-0.3335630540628881,-0.09828371674297876,-0.6366308748143428,0.33124176684507683,0.5399016015406776,0.8426223534198216,0.16752267392777972,-0.3503813922713499,0.2010817973589337,-0.14866624205541878,0.059106695790521205,0.41509554459958914,0.06292255449181662,-0.12397367068673669,-0.6097867747327901,0.008428666008284381,0.46327532289410156],\"y\":[-0.5348598941517524,0.603861398453035,-0.6637681911172657,-0.5072755360371914,0.3220906441080919,-0.9114520249451158,-0.3794987916846652,-0.5441760996842192,0.29204848596036476,0.2684010076608032,0.44603153669900847,0.474170328407495,0.6064052370628649,0.3973594918140753,0.8860807895663548,0.09211963267869176,0.5446127982549175,-0.3296106979618994,0.3255853499860694,-0.0788151751667373,0.050388125693393716,0.030457144611939505,0.10653435593283139,-0.2835445823135723,-0.8319282679464217,-0.4253856788581379,0.009818408499368813,0.15130480758120915,0.41435639876617614,0.12725954693500777,-0.16275614920139775,0.10781411452086094,-0.34856322927332,-0.7965534492381359,-0.7334347543736225,-0.2555429140039131,0.24182601469084142,-0.10647264515228717,0.8128669397821171,0.1416399828473858,0.734734848613153,-0.1998580513386992,-0.48758212474545304,0.01427265640188229,-0.4786404351966603,-0.038576222065534446,0.4414969566455793,-0.8371243081996419,-0.38478264484294694,0.2982188773122909,0.0793431398654161,-0.18842046992047645,-0.5716846367587849,-0.31610296626544426,-0.10697066124200674,0.8332906657797845,-0.8076720201704415,-0.1672453190504168,0.018101123993556224,-0.6835156912802808,-0.6816370510523734,0.04501005273545156,0.6002992958807984,-0.9850953724696009,0.1363546015168631,0.23429759296814687,0.2946403181667019,0.3906360910415148,-0.4936081481874233,0.45106015106253844,0.30853943485844537,-0.4219854544912759,0.230343088336587,0.09945870677603166,0.9400872931398563,0.3723853096464907,-0.3902177266250587,0.11199690174727985,0.09459178932055483,0.3934190504702324,0.3460229043488046,0.18902327678947886,0.5183782463041314,0.44195488709260317,0.2767639089790814,-0.0051063737594837,-0.763369855741912,0.0693536564816703,0.5680444969617173,0.5504424220695132,-0.6327606713055155],\"type\":\"scatter\"}],                        {\"annotations\":[{\"showarrow\":false,\"text\":\"Python code: \\u003ca href='https:\\u002f\\u002fplotly.com\\u002fipython-notebooks\\u002fnetwork-graphs\\u002f'\\u003e https:\\u002f\\u002fplotly.com\\u002fipython-notebooks\\u002fnetwork-graphs\\u002f\\u003c\\u002fa\\u003e\",\"x\":0.005,\"xref\":\"paper\",\"y\":-0.002,\"yref\":\"paper\"}],\"hovermode\":\"closest\",\"margin\":{\"b\":20,\"l\":5,\"r\":5,\"t\":40},\"showlegend\":false,\"title\":{\"font\":{\"size\":16},\"text\":\"\\u003cbr\\u003eNetwork graph made with Python\"},\"xaxis\":{\"showgrid\":false,\"showticklabels\":false,\"zeroline\":false},\"yaxis\":{\"showgrid\":false,\"showticklabels\":false,\"zeroline\":false},\"template\":{\"data\":{\"histogram2dcontour\":[{\"type\":\"histogram2dcontour\",\"colorbar\":{\"outlinewidth\":0,\"ticks\":\"\"},\"colorscale\":[[0.0,\"#0d0887\"],[0.1111111111111111,\"#46039f\"],[0.2222222222222222,\"#7201a8\"],[0.3333333333333333,\"#9c179e\"],[0.4444444444444444,\"#bd3786\"],[0.5555555555555556,\"#d8576b\"],[0.6666666666666666,\"#ed7953\"],[0.7777777777777778,\"#fb9f3a\"],[0.8888888888888888,\"#fdca26\"],[1.0,\"#f0f921\"]]}],\"choropleth\":[{\"type\":\"choropleth\",\"colorbar\":{\"outlinewidth\":0,\"ticks\":\"\"}}],\"histogram2d\":[{\"type\":\"histogram2d\",\"colorbar\":{\"outlinewidth\":0,\"ticks\":\"\"},\"colorscale\":[[0.0,\"#0d0887\"],[0.1111111111111111,\"#46039f\"],[0.2222222222222222,\"#7201a8\"],[0.3333333333333333,\"#9c179e\"],[0.4444444444444444,\"#bd3786\"],[0.5555555555555556,\"#d8576b\"],[0.6666666666666666,\"#ed7953\"],[0.7777777777777778,\"#fb9f3a\"],[0.8888888888888888,\"#fdca26\"],[1.0,\"#f0f921\"]]}],\"heatmap\":[{\"type\":\"heatmap\",\"colorbar\":{\"outlinewidth\":0,\"ticks\":\"\"},\"colorscale\":[[0.0,\"#0d0887\"],[0.1111111111111111,\"#46039f\"],[0.2222222222222222,\"#7201a8\"],[0.3333333333333333,\"#9c179e\"],[0.4444444444444444,\"#bd3786\"],[0.5555555555555556,\"#d8576b\"],[0.6666666666666666,\"#ed7953\"],[0.7777777777777778,\"#fb9f3a\"],[0.8888888888888888,\"#fdca26\"],[1.0,\"#f0f921\"]]}],\"heatmapgl\":[{\"type\":\"heatmapgl\",\"colorbar\":{\"outlinewidth\":0,\"ticks\":\"\"},\"colorscale\":[[0.0,\"#0d0887\"],[0.1111111111111111,\"#46039f\"],[0.2222222222222222,\"#7201a8\"],[0.3333333333333333,\"#9c179e\"],[0.4444444444444444,\"#bd3786\"],[0.5555555555555556,\"#d8576b\"],[0.6666666666666666,\"#ed7953\"],[0.7777777777777778,\"#fb9f3a\"],[0.8888888888888888,\"#fdca26\"],[1.0,\"#f0f921\"]]}],\"contourcarpet\":[{\"type\":\"contourcarpet\",\"colorbar\":{\"outlinewidth\":0,\"ticks\":\"\"}}],\"contour\":[{\"type\":\"contour\",\"colorbar\":{\"outlinewidth\":0,\"ticks\":\"\"},\"colorscale\":[[0.0,\"#0d0887\"],[0.1111111111111111,\"#46039f\"],[0.2222222222222222,\"#7201a8\"],[0.3333333333333333,\"#9c179e\"],[0.4444444444444444,\"#bd3786\"],[0.5555555555555556,\"#d8576b\"],[0.6666666666666666,\"#ed7953\"],[0.7777777777777778,\"#fb9f3a\"],[0.8888888888888888,\"#fdca26\"],[1.0,\"#f0f921\"]]}],\"surface\":[{\"type\":\"surface\",\"colorbar\":{\"outlinewidth\":0,\"ticks\":\"\"},\"colorscale\":[[0.0,\"#0d0887\"],[0.1111111111111111,\"#46039f\"],[0.2222222222222222,\"#7201a8\"],[0.3333333333333333,\"#9c179e\"],[0.4444444444444444,\"#bd3786\"],[0.5555555555555556,\"#d8576b\"],[0.6666666666666666,\"#ed7953\"],[0.7777777777777778,\"#fb9f3a\"],[0.8888888888888888,\"#fdca26\"],[1.0,\"#f0f921\"]]}],\"mesh3d\":[{\"type\":\"mesh3d\",\"colorbar\":{\"outlinewidth\":0,\"ticks\":\"\"}}],\"scatter\":[{\"fillpattern\":{\"fillmode\":\"overlay\",\"size\":10,\"solidity\":0.2},\"type\":\"scatter\"}],\"parcoords\":[{\"type\":\"parcoords\",\"line\":{\"colorbar\":{\"outlinewidth\":0,\"ticks\":\"\"}}}],\"scatterpolargl\":[{\"type\":\"scatterpolargl\",\"marker\":{\"colorbar\":{\"outlinewidth\":0,\"ticks\":\"\"}}}],\"bar\":[{\"error_x\":{\"color\":\"#2a3f5f\"},\"error_y\":{\"color\":\"#2a3f5f\"},\"marker\":{\"line\":{\"color\":\"#E5ECF6\",\"width\":0.5},\"pattern\":{\"fillmode\":\"overlay\",\"size\":10,\"solidity\":0.2}},\"type\":\"bar\"}],\"scattergeo\":[{\"type\":\"scattergeo\",\"marker\":{\"colorbar\":{\"outlinewidth\":0,\"ticks\":\"\"}}}],\"scatterpolar\":[{\"type\":\"scatterpolar\",\"marker\":{\"colorbar\":{\"outlinewidth\":0,\"ticks\":\"\"}}}],\"histogram\":[{\"marker\":{\"pattern\":{\"fillmode\":\"overlay\",\"size\":10,\"solidity\":0.2}},\"type\":\"histogram\"}],\"scattergl\":[{\"type\":\"scattergl\",\"marker\":{\"colorbar\":{\"outlinewidth\":0,\"ticks\":\"\"}}}],\"scatter3d\":[{\"type\":\"scatter3d\",\"line\":{\"colorbar\":{\"outlinewidth\":0,\"ticks\":\"\"}},\"marker\":{\"colorbar\":{\"outlinewidth\":0,\"ticks\":\"\"}}}],\"scattermapbox\":[{\"type\":\"scattermapbox\",\"marker\":{\"colorbar\":{\"outlinewidth\":0,\"ticks\":\"\"}}}],\"scatterternary\":[{\"type\":\"scatterternary\",\"marker\":{\"colorbar\":{\"outlinewidth\":0,\"ticks\":\"\"}}}],\"scattercarpet\":[{\"type\":\"scattercarpet\",\"marker\":{\"colorbar\":{\"outlinewidth\":0,\"ticks\":\"\"}}}],\"carpet\":[{\"aaxis\":{\"endlinecolor\":\"#2a3f5f\",\"gridcolor\":\"white\",\"linecolor\":\"white\",\"minorgridcolor\":\"white\",\"startlinecolor\":\"#2a3f5f\"},\"baxis\":{\"endlinecolor\":\"#2a3f5f\",\"gridcolor\":\"white\",\"linecolor\":\"white\",\"minorgridcolor\":\"white\",\"startlinecolor\":\"#2a3f5f\"},\"type\":\"carpet\"}],\"table\":[{\"cells\":{\"fill\":{\"color\":\"#EBF0F8\"},\"line\":{\"color\":\"white\"}},\"header\":{\"fill\":{\"color\":\"#C8D4E3\"},\"line\":{\"color\":\"white\"}},\"type\":\"table\"}],\"barpolar\":[{\"marker\":{\"line\":{\"color\":\"#E5ECF6\",\"width\":0.5},\"pattern\":{\"fillmode\":\"overlay\",\"size\":10,\"solidity\":0.2}},\"type\":\"barpolar\"}],\"pie\":[{\"automargin\":true,\"type\":\"pie\"}]},\"layout\":{\"autotypenumbers\":\"strict\",\"colorway\":[\"#636efa\",\"#EF553B\",\"#00cc96\",\"#ab63fa\",\"#FFA15A\",\"#19d3f3\",\"#FF6692\",\"#B6E880\",\"#FF97FF\",\"#FECB52\"],\"font\":{\"color\":\"#2a3f5f\"},\"hovermode\":\"closest\",\"hoverlabel\":{\"align\":\"left\"},\"paper_bgcolor\":\"white\",\"plot_bgcolor\":\"#E5ECF6\",\"polar\":{\"bgcolor\":\"#E5ECF6\",\"angularaxis\":{\"gridcolor\":\"white\",\"linecolor\":\"white\",\"ticks\":\"\"},\"radialaxis\":{\"gridcolor\":\"white\",\"linecolor\":\"white\",\"ticks\":\"\"}},\"ternary\":{\"bgcolor\":\"#E5ECF6\",\"aaxis\":{\"gridcolor\":\"white\",\"linecolor\":\"white\",\"ticks\":\"\"},\"baxis\":{\"gridcolor\":\"white\",\"linecolor\":\"white\",\"ticks\":\"\"},\"caxis\":{\"gridcolor\":\"white\",\"linecolor\":\"white\",\"ticks\":\"\"}},\"coloraxis\":{\"colorbar\":{\"outlinewidth\":0,\"ticks\":\"\"}},\"colorscale\":{\"sequential\":[[0.0,\"#0d0887\"],[0.1111111111111111,\"#46039f\"],[0.2222222222222222,\"#7201a8\"],[0.3333333333333333,\"#9c179e\"],[0.4444444444444444,\"#bd3786\"],[0.5555555555555556,\"#d8576b\"],[0.6666666666666666,\"#ed7953\"],[0.7777777777777778,\"#fb9f3a\"],[0.8888888888888888,\"#fdca26\"],[1.0,\"#f0f921\"]],\"sequentialminus\":[[0.0,\"#0d0887\"],[0.1111111111111111,\"#46039f\"],[0.2222222222222222,\"#7201a8\"],[0.3333333333333333,\"#9c179e\"],[0.4444444444444444,\"#bd3786\"],[0.5555555555555556,\"#d8576b\"],[0.6666666666666666,\"#ed7953\"],[0.7777777777777778,\"#fb9f3a\"],[0.8888888888888888,\"#fdca26\"],[1.0,\"#f0f921\"]],\"diverging\":[[0,\"#8e0152\"],[0.1,\"#c51b7d\"],[0.2,\"#de77ae\"],[0.3,\"#f1b6da\"],[0.4,\"#fde0ef\"],[0.5,\"#f7f7f7\"],[0.6,\"#e6f5d0\"],[0.7,\"#b8e186\"],[0.8,\"#7fbc41\"],[0.9,\"#4d9221\"],[1,\"#276419\"]]},\"xaxis\":{\"gridcolor\":\"white\",\"linecolor\":\"white\",\"ticks\":\"\",\"title\":{\"standoff\":15},\"zerolinecolor\":\"white\",\"automargin\":true,\"zerolinewidth\":2},\"yaxis\":{\"gridcolor\":\"white\",\"linecolor\":\"white\",\"ticks\":\"\",\"title\":{\"standoff\":15},\"zerolinecolor\":\"white\",\"automargin\":true,\"zerolinewidth\":2},\"scene\":{\"xaxis\":{\"backgroundcolor\":\"#E5ECF6\",\"gridcolor\":\"white\",\"linecolor\":\"white\",\"showbackground\":true,\"ticks\":\"\",\"zerolinecolor\":\"white\",\"gridwidth\":2},\"yaxis\":{\"backgroundcolor\":\"#E5ECF6\",\"gridcolor\":\"white\",\"linecolor\":\"white\",\"showbackground\":true,\"ticks\":\"\",\"zerolinecolor\":\"white\",\"gridwidth\":2},\"zaxis\":{\"backgroundcolor\":\"#E5ECF6\",\"gridcolor\":\"white\",\"linecolor\":\"white\",\"showbackground\":true,\"ticks\":\"\",\"zerolinecolor\":\"white\",\"gridwidth\":2}},\"shapedefaults\":{\"line\":{\"color\":\"#2a3f5f\"}},\"annotationdefaults\":{\"arrowcolor\":\"#2a3f5f\",\"arrowhead\":0,\"arrowwidth\":1},\"geo\":{\"bgcolor\":\"white\",\"landcolor\":\"#E5ECF6\",\"subunitcolor\":\"white\",\"showland\":true,\"showlakes\":true,\"lakecolor\":\"white\"},\"title\":{\"x\":0.05},\"mapbox\":{\"style\":\"light\"}}}},                        {\"responsive\": true}                    ).then(function(){\n",
       "                            \n",
       "var gd = document.getElementById('afda3ebd-0a57-49e6-bc2f-1196fc89cc89');\n",
       "var x = new MutationObserver(function (mutations, observer) {{\n",
       "        var display = window.getComputedStyle(gd).display;\n",
       "        if (!display || display === 'none') {{\n",
       "            console.log([gd, 'removed!']);\n",
       "            Plotly.purge(gd);\n",
       "            observer.disconnect();\n",
       "        }}\n",
       "}});\n",
       "\n",
       "// Listen for the removal of the full notebook cells\n",
       "var notebookContainer = gd.closest('#notebook-container');\n",
       "if (notebookContainer) {{\n",
       "    x.observe(notebookContainer, {childList: true});\n",
       "}}\n",
       "\n",
       "// Listen for the clearing of the current output cell\n",
       "var outputEl = gd.closest('.output');\n",
       "if (outputEl) {{\n",
       "    x.observe(outputEl, {childList: true});\n",
       "}}\n",
       "\n",
       "                        })                };                });            </script>        </div>"
      ]
     },
     "metadata": {},
     "output_type": "display_data",
     "jetTransient": {
      "display_id": null
     }
    }
   ],
   "execution_count": 41
  },
  {
   "metadata": {
    "ExecuteTime": {
     "end_time": "2025-09-20T07:36:11.866780Z",
     "start_time": "2025-09-20T07:36:11.748208Z"
    }
   },
   "cell_type": "code",
   "source": [
    "itemsets, rules = apriori(transactions, min_support=min_sup, min_confidence=0.8)\n",
    "\n",
    "itemsets, rules = apriori(transactions, min_support=min_sup, min_confidence=0.8)\n",
    "\n",
    "n_trans = len(transactions)\n",
    "\n",
    "print(\"\\nАссоциативные правила (достоверность ≥ 80%):\")\n",
    "\n",
    "rules_pyarmviz = []\n",
    "\n",
    "for i, r in enumerate(rules):\n",
    "    ant = frozenset(r.lhs)\n",
    "    cons = frozenset(r.rhs)\n",
    "    union = ant | cons\n",
    "\n",
    "    count_ab = sum(1 for t in transactions if union.issubset(t))\n",
    "    count_a = sum(1 for t in transactions if ant.issubset(t))\n",
    "    count_b = sum(1 for t in transactions if cons.issubset(t))\n",
    "\n",
    "    support_ab = count_ab / n_trans\n",
    "    support_a = count_a / n_trans\n",
    "    support_b = count_b / n_trans\n",
    "    lift = support_ab / (support_a * support_b) if support_a * support_b else 0.0\n",
    "\n",
    "    print(f\"{i}: {set(r.lhs)} -> {set(r.rhs)} \"\n",
    "          f\"Support = {support_ab:.3f} Confidence = {r.confidence:.3f} Lift = {lift:.3f}\")\n",
    "\n",
    "\n",
    "    rules_pyarmviz.append(\n",
    "        PyARMViz.Rule.Rule(\n",
    "            lhs=tuple(r.lhs),\n",
    "            rhs=tuple(r.rhs),\n",
    "            count_full=count_ab,\n",
    "            count_lhs=count_a,\n",
    "            count_rhs=count_b,\n",
    "            num_transactions=n_trans\n",
    "        )\n",
    "    )\n"
   ],
   "id": "f85577058ec85027",
   "outputs": [
    {
     "name": "stdout",
     "output_type": "stream",
     "text": [
      "\n",
      "Ассоциативные правила (достоверность ≥ 80%):\n",
      "0: {'Extra Salami or Feta'} -> {'Coffee'} Support = 0.003 Confidence = 0.816 Lift = 1.717\n",
      "1: {'Keeping It Local'} -> {'Coffee'} Support = 0.005 Confidence = 0.810 Lift = 1.704\n",
      "2: {'Vegan mincepie', 'Cake'} -> {'Coffee'} Support = 0.001 Confidence = 0.833 Lift = 1.754\n",
      "3: {'Extra Salami or Feta', 'Salad'} -> {'Coffee'} Support = 0.001 Confidence = 0.875 Lift = 1.842\n",
      "4: {'Hearty & Seasonal', 'Sandwich'} -> {'Coffee'} Support = 0.001 Confidence = 0.857 Lift = 1.804\n",
      "5: {'NONE', 'Scone'} -> {'Coffee'} Support = 0.002 Confidence = 0.833 Lift = 1.754\n",
      "6: {'Tartine', 'NONE'} -> {'Coffee'} Support = 0.001 Confidence = 0.923 Lift = 1.943\n",
      "7: {'Pastry', 'Toast'} -> {'Coffee'} Support = 0.001 Confidence = 0.867 Lift = 1.824\n",
      "8: {'Salad', 'Sandwich'} -> {'Coffee'} Support = 0.002 Confidence = 0.833 Lift = 1.754\n",
      "9: {'Hot chocolate', 'NONE', 'Medialuna'} -> {'Coffee'} Support = 0.001 Confidence = 0.909 Lift = 1.914\n"
     ]
    }
   ],
   "execution_count": 42
  },
  {
   "metadata": {
    "ExecuteTime": {
     "end_time": "2025-09-20T07:36:11.896364Z",
     "start_time": "2025-09-20T07:36:11.871438Z"
    }
   },
   "cell_type": "code",
   "source": [
    "PyARMViz.metadata_scatter_plot(rules_pyarmviz)\n",
    "PyARMViz.adjacency_graph_plotly(rules_pyarmviz)\n",
    "# PyARMViz.adjacency_parallel_coordinate_plot(rules_pyarmviz)\n",
    "# PyARMViz.adjacency_parallel_category_plot(rules_pyarmviz)"
   ],
   "id": "b47deb62497e7464",
   "outputs": [
    {
     "data": {
      "application/vnd.plotly.v1+json": {
       "data": [
        {
         "marker": {
          "color": [
           1.7171575692765482,
           1.7039689550731953
          ],
          "colorbar": {
           "title": {
            "text": "Lift"
           }
          },
          "colorscale": [
           [
            0.0,
            "rgb(243, 224, 247)"
           ],
           [
            0.16666666666666666,
            "rgb(228, 199, 241)"
           ],
           [
            0.3333333333333333,
            "rgb(209, 175, 232)"
           ],
           [
            0.5,
            "rgb(185, 152, 221)"
           ],
           [
            0.6666666666666666,
            "rgb(159, 130, 206)"
           ],
           [
            0.8333333333333334,
            "rgb(130, 109, 186)"
           ],
           [
            1.0,
            "rgb(99, 88, 159)"
           ]
          ]
         },
         "mode": "markers",
         "text": [
          "('Extra Salami or Feta',) => ('Coffee',), Lift: 1.7171575692765482",
          "('Keeping It Local',) => ('Coffee',), Lift: 1.7039689550731953"
         ],
         "x": [
          0.003252544329031581,
          0.0053509600251809885
         ],
         "y": [
          0.8157894736842105,
          0.8095238095238095
         ],
         "type": "scatter"
        }
       ],
       "layout": {
        "template": {
         "data": {
          "histogram2dcontour": [
           {
            "type": "histogram2dcontour",
            "colorbar": {
             "outlinewidth": 0,
             "ticks": ""
            },
            "colorscale": [
             [
              0.0,
              "#0d0887"
             ],
             [
              0.1111111111111111,
              "#46039f"
             ],
             [
              0.2222222222222222,
              "#7201a8"
             ],
             [
              0.3333333333333333,
              "#9c179e"
             ],
             [
              0.4444444444444444,
              "#bd3786"
             ],
             [
              0.5555555555555556,
              "#d8576b"
             ],
             [
              0.6666666666666666,
              "#ed7953"
             ],
             [
              0.7777777777777778,
              "#fb9f3a"
             ],
             [
              0.8888888888888888,
              "#fdca26"
             ],
             [
              1.0,
              "#f0f921"
             ]
            ]
           }
          ],
          "choropleth": [
           {
            "type": "choropleth",
            "colorbar": {
             "outlinewidth": 0,
             "ticks": ""
            }
           }
          ],
          "histogram2d": [
           {
            "type": "histogram2d",
            "colorbar": {
             "outlinewidth": 0,
             "ticks": ""
            },
            "colorscale": [
             [
              0.0,
              "#0d0887"
             ],
             [
              0.1111111111111111,
              "#46039f"
             ],
             [
              0.2222222222222222,
              "#7201a8"
             ],
             [
              0.3333333333333333,
              "#9c179e"
             ],
             [
              0.4444444444444444,
              "#bd3786"
             ],
             [
              0.5555555555555556,
              "#d8576b"
             ],
             [
              0.6666666666666666,
              "#ed7953"
             ],
             [
              0.7777777777777778,
              "#fb9f3a"
             ],
             [
              0.8888888888888888,
              "#fdca26"
             ],
             [
              1.0,
              "#f0f921"
             ]
            ]
           }
          ],
          "heatmap": [
           {
            "type": "heatmap",
            "colorbar": {
             "outlinewidth": 0,
             "ticks": ""
            },
            "colorscale": [
             [
              0.0,
              "#0d0887"
             ],
             [
              0.1111111111111111,
              "#46039f"
             ],
             [
              0.2222222222222222,
              "#7201a8"
             ],
             [
              0.3333333333333333,
              "#9c179e"
             ],
             [
              0.4444444444444444,
              "#bd3786"
             ],
             [
              0.5555555555555556,
              "#d8576b"
             ],
             [
              0.6666666666666666,
              "#ed7953"
             ],
             [
              0.7777777777777778,
              "#fb9f3a"
             ],
             [
              0.8888888888888888,
              "#fdca26"
             ],
             [
              1.0,
              "#f0f921"
             ]
            ]
           }
          ],
          "heatmapgl": [
           {
            "type": "heatmapgl",
            "colorbar": {
             "outlinewidth": 0,
             "ticks": ""
            },
            "colorscale": [
             [
              0.0,
              "#0d0887"
             ],
             [
              0.1111111111111111,
              "#46039f"
             ],
             [
              0.2222222222222222,
              "#7201a8"
             ],
             [
              0.3333333333333333,
              "#9c179e"
             ],
             [
              0.4444444444444444,
              "#bd3786"
             ],
             [
              0.5555555555555556,
              "#d8576b"
             ],
             [
              0.6666666666666666,
              "#ed7953"
             ],
             [
              0.7777777777777778,
              "#fb9f3a"
             ],
             [
              0.8888888888888888,
              "#fdca26"
             ],
             [
              1.0,
              "#f0f921"
             ]
            ]
           }
          ],
          "contourcarpet": [
           {
            "type": "contourcarpet",
            "colorbar": {
             "outlinewidth": 0,
             "ticks": ""
            }
           }
          ],
          "contour": [
           {
            "type": "contour",
            "colorbar": {
             "outlinewidth": 0,
             "ticks": ""
            },
            "colorscale": [
             [
              0.0,
              "#0d0887"
             ],
             [
              0.1111111111111111,
              "#46039f"
             ],
             [
              0.2222222222222222,
              "#7201a8"
             ],
             [
              0.3333333333333333,
              "#9c179e"
             ],
             [
              0.4444444444444444,
              "#bd3786"
             ],
             [
              0.5555555555555556,
              "#d8576b"
             ],
             [
              0.6666666666666666,
              "#ed7953"
             ],
             [
              0.7777777777777778,
              "#fb9f3a"
             ],
             [
              0.8888888888888888,
              "#fdca26"
             ],
             [
              1.0,
              "#f0f921"
             ]
            ]
           }
          ],
          "surface": [
           {
            "type": "surface",
            "colorbar": {
             "outlinewidth": 0,
             "ticks": ""
            },
            "colorscale": [
             [
              0.0,
              "#0d0887"
             ],
             [
              0.1111111111111111,
              "#46039f"
             ],
             [
              0.2222222222222222,
              "#7201a8"
             ],
             [
              0.3333333333333333,
              "#9c179e"
             ],
             [
              0.4444444444444444,
              "#bd3786"
             ],
             [
              0.5555555555555556,
              "#d8576b"
             ],
             [
              0.6666666666666666,
              "#ed7953"
             ],
             [
              0.7777777777777778,
              "#fb9f3a"
             ],
             [
              0.8888888888888888,
              "#fdca26"
             ],
             [
              1.0,
              "#f0f921"
             ]
            ]
           }
          ],
          "mesh3d": [
           {
            "type": "mesh3d",
            "colorbar": {
             "outlinewidth": 0,
             "ticks": ""
            }
           }
          ],
          "scatter": [
           {
            "fillpattern": {
             "fillmode": "overlay",
             "size": 10,
             "solidity": 0.2
            },
            "type": "scatter"
           }
          ],
          "parcoords": [
           {
            "type": "parcoords",
            "line": {
             "colorbar": {
              "outlinewidth": 0,
              "ticks": ""
             }
            }
           }
          ],
          "scatterpolargl": [
           {
            "type": "scatterpolargl",
            "marker": {
             "colorbar": {
              "outlinewidth": 0,
              "ticks": ""
             }
            }
           }
          ],
          "bar": [
           {
            "error_x": {
             "color": "#2a3f5f"
            },
            "error_y": {
             "color": "#2a3f5f"
            },
            "marker": {
             "line": {
              "color": "#E5ECF6",
              "width": 0.5
             },
             "pattern": {
              "fillmode": "overlay",
              "size": 10,
              "solidity": 0.2
             }
            },
            "type": "bar"
           }
          ],
          "scattergeo": [
           {
            "type": "scattergeo",
            "marker": {
             "colorbar": {
              "outlinewidth": 0,
              "ticks": ""
             }
            }
           }
          ],
          "scatterpolar": [
           {
            "type": "scatterpolar",
            "marker": {
             "colorbar": {
              "outlinewidth": 0,
              "ticks": ""
             }
            }
           }
          ],
          "histogram": [
           {
            "marker": {
             "pattern": {
              "fillmode": "overlay",
              "size": 10,
              "solidity": 0.2
             }
            },
            "type": "histogram"
           }
          ],
          "scattergl": [
           {
            "type": "scattergl",
            "marker": {
             "colorbar": {
              "outlinewidth": 0,
              "ticks": ""
             }
            }
           }
          ],
          "scatter3d": [
           {
            "type": "scatter3d",
            "line": {
             "colorbar": {
              "outlinewidth": 0,
              "ticks": ""
             }
            },
            "marker": {
             "colorbar": {
              "outlinewidth": 0,
              "ticks": ""
             }
            }
           }
          ],
          "scattermapbox": [
           {
            "type": "scattermapbox",
            "marker": {
             "colorbar": {
              "outlinewidth": 0,
              "ticks": ""
             }
            }
           }
          ],
          "scatterternary": [
           {
            "type": "scatterternary",
            "marker": {
             "colorbar": {
              "outlinewidth": 0,
              "ticks": ""
             }
            }
           }
          ],
          "scattercarpet": [
           {
            "type": "scattercarpet",
            "marker": {
             "colorbar": {
              "outlinewidth": 0,
              "ticks": ""
             }
            }
           }
          ],
          "carpet": [
           {
            "aaxis": {
             "endlinecolor": "#2a3f5f",
             "gridcolor": "white",
             "linecolor": "white",
             "minorgridcolor": "white",
             "startlinecolor": "#2a3f5f"
            },
            "baxis": {
             "endlinecolor": "#2a3f5f",
             "gridcolor": "white",
             "linecolor": "white",
             "minorgridcolor": "white",
             "startlinecolor": "#2a3f5f"
            },
            "type": "carpet"
           }
          ],
          "table": [
           {
            "cells": {
             "fill": {
              "color": "#EBF0F8"
             },
             "line": {
              "color": "white"
             }
            },
            "header": {
             "fill": {
              "color": "#C8D4E3"
             },
             "line": {
              "color": "white"
             }
            },
            "type": "table"
           }
          ],
          "barpolar": [
           {
            "marker": {
             "line": {
              "color": "#E5ECF6",
              "width": 0.5
             },
             "pattern": {
              "fillmode": "overlay",
              "size": 10,
              "solidity": 0.2
             }
            },
            "type": "barpolar"
           }
          ],
          "pie": [
           {
            "automargin": true,
            "type": "pie"
           }
          ]
         },
         "layout": {
          "autotypenumbers": "strict",
          "colorway": [
           "#636efa",
           "#EF553B",
           "#00cc96",
           "#ab63fa",
           "#FFA15A",
           "#19d3f3",
           "#FF6692",
           "#B6E880",
           "#FF97FF",
           "#FECB52"
          ],
          "font": {
           "color": "#2a3f5f"
          },
          "hovermode": "closest",
          "hoverlabel": {
           "align": "left"
          },
          "paper_bgcolor": "white",
          "plot_bgcolor": "#E5ECF6",
          "polar": {
           "bgcolor": "#E5ECF6",
           "angularaxis": {
            "gridcolor": "white",
            "linecolor": "white",
            "ticks": ""
           },
           "radialaxis": {
            "gridcolor": "white",
            "linecolor": "white",
            "ticks": ""
           }
          },
          "ternary": {
           "bgcolor": "#E5ECF6",
           "aaxis": {
            "gridcolor": "white",
            "linecolor": "white",
            "ticks": ""
           },
           "baxis": {
            "gridcolor": "white",
            "linecolor": "white",
            "ticks": ""
           },
           "caxis": {
            "gridcolor": "white",
            "linecolor": "white",
            "ticks": ""
           }
          },
          "coloraxis": {
           "colorbar": {
            "outlinewidth": 0,
            "ticks": ""
           }
          },
          "colorscale": {
           "sequential": [
            [
             0.0,
             "#0d0887"
            ],
            [
             0.1111111111111111,
             "#46039f"
            ],
            [
             0.2222222222222222,
             "#7201a8"
            ],
            [
             0.3333333333333333,
             "#9c179e"
            ],
            [
             0.4444444444444444,
             "#bd3786"
            ],
            [
             0.5555555555555556,
             "#d8576b"
            ],
            [
             0.6666666666666666,
             "#ed7953"
            ],
            [
             0.7777777777777778,
             "#fb9f3a"
            ],
            [
             0.8888888888888888,
             "#fdca26"
            ],
            [
             1.0,
             "#f0f921"
            ]
           ],
           "sequentialminus": [
            [
             0.0,
             "#0d0887"
            ],
            [
             0.1111111111111111,
             "#46039f"
            ],
            [
             0.2222222222222222,
             "#7201a8"
            ],
            [
             0.3333333333333333,
             "#9c179e"
            ],
            [
             0.4444444444444444,
             "#bd3786"
            ],
            [
             0.5555555555555556,
             "#d8576b"
            ],
            [
             0.6666666666666666,
             "#ed7953"
            ],
            [
             0.7777777777777778,
             "#fb9f3a"
            ],
            [
             0.8888888888888888,
             "#fdca26"
            ],
            [
             1.0,
             "#f0f921"
            ]
           ],
           "diverging": [
            [
             0,
             "#8e0152"
            ],
            [
             0.1,
             "#c51b7d"
            ],
            [
             0.2,
             "#de77ae"
            ],
            [
             0.3,
             "#f1b6da"
            ],
            [
             0.4,
             "#fde0ef"
            ],
            [
             0.5,
             "#f7f7f7"
            ],
            [
             0.6,
             "#e6f5d0"
            ],
            [
             0.7,
             "#b8e186"
            ],
            [
             0.8,
             "#7fbc41"
            ],
            [
             0.9,
             "#4d9221"
            ],
            [
             1,
             "#276419"
            ]
           ]
          },
          "xaxis": {
           "gridcolor": "white",
           "linecolor": "white",
           "ticks": "",
           "title": {
            "standoff": 15
           },
           "zerolinecolor": "white",
           "automargin": true,
           "zerolinewidth": 2
          },
          "yaxis": {
           "gridcolor": "white",
           "linecolor": "white",
           "ticks": "",
           "title": {
            "standoff": 15
           },
           "zerolinecolor": "white",
           "automargin": true,
           "zerolinewidth": 2
          },
          "scene": {
           "xaxis": {
            "backgroundcolor": "#E5ECF6",
            "gridcolor": "white",
            "linecolor": "white",
            "showbackground": true,
            "ticks": "",
            "zerolinecolor": "white",
            "gridwidth": 2
           },
           "yaxis": {
            "backgroundcolor": "#E5ECF6",
            "gridcolor": "white",
            "linecolor": "white",
            "showbackground": true,
            "ticks": "",
            "zerolinecolor": "white",
            "gridwidth": 2
           },
           "zaxis": {
            "backgroundcolor": "#E5ECF6",
            "gridcolor": "white",
            "linecolor": "white",
            "showbackground": true,
            "ticks": "",
            "zerolinecolor": "white",
            "gridwidth": 2
           }
          },
          "shapedefaults": {
           "line": {
            "color": "#2a3f5f"
           }
          },
          "annotationdefaults": {
           "arrowcolor": "#2a3f5f",
           "arrowhead": 0,
           "arrowwidth": 1
          },
          "geo": {
           "bgcolor": "white",
           "landcolor": "#E5ECF6",
           "subunitcolor": "white",
           "showland": true,
           "showlakes": true,
           "lakecolor": "white"
          },
          "title": {
           "x": 0.05
          },
          "mapbox": {
           "style": "light"
          }
         }
        },
        "xaxis": {
         "title": {
          "text": "Support"
         },
         "autorange": "reversed"
        },
        "title": {
         "text": "Association Rules Strength Distribution"
        },
        "yaxis": {
         "title": {
          "text": "Confidence"
         }
        }
       },
       "config": {
        "plotlyServerURL": "https://plot.ly"
       }
      },
      "text/html": [
       "<div>                            <div id=\"9a959c61-2595-4398-b73c-0f87a3785268\" class=\"plotly-graph-div\" style=\"height:525px; width:100%;\"></div>            <script type=\"text/javascript\">                require([\"plotly\"], function(Plotly) {                    window.PLOTLYENV=window.PLOTLYENV || {};                                    if (document.getElementById(\"9a959c61-2595-4398-b73c-0f87a3785268\")) {                    Plotly.newPlot(                        \"9a959c61-2595-4398-b73c-0f87a3785268\",                        [{\"marker\":{\"color\":[1.7171575692765482,1.7039689550731953],\"colorbar\":{\"title\":{\"text\":\"Lift\"}},\"colorscale\":[[0.0,\"rgb(243, 224, 247)\"],[0.16666666666666666,\"rgb(228, 199, 241)\"],[0.3333333333333333,\"rgb(209, 175, 232)\"],[0.5,\"rgb(185, 152, 221)\"],[0.6666666666666666,\"rgb(159, 130, 206)\"],[0.8333333333333334,\"rgb(130, 109, 186)\"],[1.0,\"rgb(99, 88, 159)\"]]},\"mode\":\"markers\",\"text\":[\"('Extra Salami or Feta',) =\\u003e ('Coffee',), Lift: 1.7171575692765482\",\"('Keeping It Local',) =\\u003e ('Coffee',), Lift: 1.7039689550731953\"],\"x\":[0.003252544329031581,0.0053509600251809885],\"y\":[0.8157894736842105,0.8095238095238095],\"type\":\"scatter\"}],                        {\"template\":{\"data\":{\"histogram2dcontour\":[{\"type\":\"histogram2dcontour\",\"colorbar\":{\"outlinewidth\":0,\"ticks\":\"\"},\"colorscale\":[[0.0,\"#0d0887\"],[0.1111111111111111,\"#46039f\"],[0.2222222222222222,\"#7201a8\"],[0.3333333333333333,\"#9c179e\"],[0.4444444444444444,\"#bd3786\"],[0.5555555555555556,\"#d8576b\"],[0.6666666666666666,\"#ed7953\"],[0.7777777777777778,\"#fb9f3a\"],[0.8888888888888888,\"#fdca26\"],[1.0,\"#f0f921\"]]}],\"choropleth\":[{\"type\":\"choropleth\",\"colorbar\":{\"outlinewidth\":0,\"ticks\":\"\"}}],\"histogram2d\":[{\"type\":\"histogram2d\",\"colorbar\":{\"outlinewidth\":0,\"ticks\":\"\"},\"colorscale\":[[0.0,\"#0d0887\"],[0.1111111111111111,\"#46039f\"],[0.2222222222222222,\"#7201a8\"],[0.3333333333333333,\"#9c179e\"],[0.4444444444444444,\"#bd3786\"],[0.5555555555555556,\"#d8576b\"],[0.6666666666666666,\"#ed7953\"],[0.7777777777777778,\"#fb9f3a\"],[0.8888888888888888,\"#fdca26\"],[1.0,\"#f0f921\"]]}],\"heatmap\":[{\"type\":\"heatmap\",\"colorbar\":{\"outlinewidth\":0,\"ticks\":\"\"},\"colorscale\":[[0.0,\"#0d0887\"],[0.1111111111111111,\"#46039f\"],[0.2222222222222222,\"#7201a8\"],[0.3333333333333333,\"#9c179e\"],[0.4444444444444444,\"#bd3786\"],[0.5555555555555556,\"#d8576b\"],[0.6666666666666666,\"#ed7953\"],[0.7777777777777778,\"#fb9f3a\"],[0.8888888888888888,\"#fdca26\"],[1.0,\"#f0f921\"]]}],\"heatmapgl\":[{\"type\":\"heatmapgl\",\"colorbar\":{\"outlinewidth\":0,\"ticks\":\"\"},\"colorscale\":[[0.0,\"#0d0887\"],[0.1111111111111111,\"#46039f\"],[0.2222222222222222,\"#7201a8\"],[0.3333333333333333,\"#9c179e\"],[0.4444444444444444,\"#bd3786\"],[0.5555555555555556,\"#d8576b\"],[0.6666666666666666,\"#ed7953\"],[0.7777777777777778,\"#fb9f3a\"],[0.8888888888888888,\"#fdca26\"],[1.0,\"#f0f921\"]]}],\"contourcarpet\":[{\"type\":\"contourcarpet\",\"colorbar\":{\"outlinewidth\":0,\"ticks\":\"\"}}],\"contour\":[{\"type\":\"contour\",\"colorbar\":{\"outlinewidth\":0,\"ticks\":\"\"},\"colorscale\":[[0.0,\"#0d0887\"],[0.1111111111111111,\"#46039f\"],[0.2222222222222222,\"#7201a8\"],[0.3333333333333333,\"#9c179e\"],[0.4444444444444444,\"#bd3786\"],[0.5555555555555556,\"#d8576b\"],[0.6666666666666666,\"#ed7953\"],[0.7777777777777778,\"#fb9f3a\"],[0.8888888888888888,\"#fdca26\"],[1.0,\"#f0f921\"]]}],\"surface\":[{\"type\":\"surface\",\"colorbar\":{\"outlinewidth\":0,\"ticks\":\"\"},\"colorscale\":[[0.0,\"#0d0887\"],[0.1111111111111111,\"#46039f\"],[0.2222222222222222,\"#7201a8\"],[0.3333333333333333,\"#9c179e\"],[0.4444444444444444,\"#bd3786\"],[0.5555555555555556,\"#d8576b\"],[0.6666666666666666,\"#ed7953\"],[0.7777777777777778,\"#fb9f3a\"],[0.8888888888888888,\"#fdca26\"],[1.0,\"#f0f921\"]]}],\"mesh3d\":[{\"type\":\"mesh3d\",\"colorbar\":{\"outlinewidth\":0,\"ticks\":\"\"}}],\"scatter\":[{\"fillpattern\":{\"fillmode\":\"overlay\",\"size\":10,\"solidity\":0.2},\"type\":\"scatter\"}],\"parcoords\":[{\"type\":\"parcoords\",\"line\":{\"colorbar\":{\"outlinewidth\":0,\"ticks\":\"\"}}}],\"scatterpolargl\":[{\"type\":\"scatterpolargl\",\"marker\":{\"colorbar\":{\"outlinewidth\":0,\"ticks\":\"\"}}}],\"bar\":[{\"error_x\":{\"color\":\"#2a3f5f\"},\"error_y\":{\"color\":\"#2a3f5f\"},\"marker\":{\"line\":{\"color\":\"#E5ECF6\",\"width\":0.5},\"pattern\":{\"fillmode\":\"overlay\",\"size\":10,\"solidity\":0.2}},\"type\":\"bar\"}],\"scattergeo\":[{\"type\":\"scattergeo\",\"marker\":{\"colorbar\":{\"outlinewidth\":0,\"ticks\":\"\"}}}],\"scatterpolar\":[{\"type\":\"scatterpolar\",\"marker\":{\"colorbar\":{\"outlinewidth\":0,\"ticks\":\"\"}}}],\"histogram\":[{\"marker\":{\"pattern\":{\"fillmode\":\"overlay\",\"size\":10,\"solidity\":0.2}},\"type\":\"histogram\"}],\"scattergl\":[{\"type\":\"scattergl\",\"marker\":{\"colorbar\":{\"outlinewidth\":0,\"ticks\":\"\"}}}],\"scatter3d\":[{\"type\":\"scatter3d\",\"line\":{\"colorbar\":{\"outlinewidth\":0,\"ticks\":\"\"}},\"marker\":{\"colorbar\":{\"outlinewidth\":0,\"ticks\":\"\"}}}],\"scattermapbox\":[{\"type\":\"scattermapbox\",\"marker\":{\"colorbar\":{\"outlinewidth\":0,\"ticks\":\"\"}}}],\"scatterternary\":[{\"type\":\"scatterternary\",\"marker\":{\"colorbar\":{\"outlinewidth\":0,\"ticks\":\"\"}}}],\"scattercarpet\":[{\"type\":\"scattercarpet\",\"marker\":{\"colorbar\":{\"outlinewidth\":0,\"ticks\":\"\"}}}],\"carpet\":[{\"aaxis\":{\"endlinecolor\":\"#2a3f5f\",\"gridcolor\":\"white\",\"linecolor\":\"white\",\"minorgridcolor\":\"white\",\"startlinecolor\":\"#2a3f5f\"},\"baxis\":{\"endlinecolor\":\"#2a3f5f\",\"gridcolor\":\"white\",\"linecolor\":\"white\",\"minorgridcolor\":\"white\",\"startlinecolor\":\"#2a3f5f\"},\"type\":\"carpet\"}],\"table\":[{\"cells\":{\"fill\":{\"color\":\"#EBF0F8\"},\"line\":{\"color\":\"white\"}},\"header\":{\"fill\":{\"color\":\"#C8D4E3\"},\"line\":{\"color\":\"white\"}},\"type\":\"table\"}],\"barpolar\":[{\"marker\":{\"line\":{\"color\":\"#E5ECF6\",\"width\":0.5},\"pattern\":{\"fillmode\":\"overlay\",\"size\":10,\"solidity\":0.2}},\"type\":\"barpolar\"}],\"pie\":[{\"automargin\":true,\"type\":\"pie\"}]},\"layout\":{\"autotypenumbers\":\"strict\",\"colorway\":[\"#636efa\",\"#EF553B\",\"#00cc96\",\"#ab63fa\",\"#FFA15A\",\"#19d3f3\",\"#FF6692\",\"#B6E880\",\"#FF97FF\",\"#FECB52\"],\"font\":{\"color\":\"#2a3f5f\"},\"hovermode\":\"closest\",\"hoverlabel\":{\"align\":\"left\"},\"paper_bgcolor\":\"white\",\"plot_bgcolor\":\"#E5ECF6\",\"polar\":{\"bgcolor\":\"#E5ECF6\",\"angularaxis\":{\"gridcolor\":\"white\",\"linecolor\":\"white\",\"ticks\":\"\"},\"radialaxis\":{\"gridcolor\":\"white\",\"linecolor\":\"white\",\"ticks\":\"\"}},\"ternary\":{\"bgcolor\":\"#E5ECF6\",\"aaxis\":{\"gridcolor\":\"white\",\"linecolor\":\"white\",\"ticks\":\"\"},\"baxis\":{\"gridcolor\":\"white\",\"linecolor\":\"white\",\"ticks\":\"\"},\"caxis\":{\"gridcolor\":\"white\",\"linecolor\":\"white\",\"ticks\":\"\"}},\"coloraxis\":{\"colorbar\":{\"outlinewidth\":0,\"ticks\":\"\"}},\"colorscale\":{\"sequential\":[[0.0,\"#0d0887\"],[0.1111111111111111,\"#46039f\"],[0.2222222222222222,\"#7201a8\"],[0.3333333333333333,\"#9c179e\"],[0.4444444444444444,\"#bd3786\"],[0.5555555555555556,\"#d8576b\"],[0.6666666666666666,\"#ed7953\"],[0.7777777777777778,\"#fb9f3a\"],[0.8888888888888888,\"#fdca26\"],[1.0,\"#f0f921\"]],\"sequentialminus\":[[0.0,\"#0d0887\"],[0.1111111111111111,\"#46039f\"],[0.2222222222222222,\"#7201a8\"],[0.3333333333333333,\"#9c179e\"],[0.4444444444444444,\"#bd3786\"],[0.5555555555555556,\"#d8576b\"],[0.6666666666666666,\"#ed7953\"],[0.7777777777777778,\"#fb9f3a\"],[0.8888888888888888,\"#fdca26\"],[1.0,\"#f0f921\"]],\"diverging\":[[0,\"#8e0152\"],[0.1,\"#c51b7d\"],[0.2,\"#de77ae\"],[0.3,\"#f1b6da\"],[0.4,\"#fde0ef\"],[0.5,\"#f7f7f7\"],[0.6,\"#e6f5d0\"],[0.7,\"#b8e186\"],[0.8,\"#7fbc41\"],[0.9,\"#4d9221\"],[1,\"#276419\"]]},\"xaxis\":{\"gridcolor\":\"white\",\"linecolor\":\"white\",\"ticks\":\"\",\"title\":{\"standoff\":15},\"zerolinecolor\":\"white\",\"automargin\":true,\"zerolinewidth\":2},\"yaxis\":{\"gridcolor\":\"white\",\"linecolor\":\"white\",\"ticks\":\"\",\"title\":{\"standoff\":15},\"zerolinecolor\":\"white\",\"automargin\":true,\"zerolinewidth\":2},\"scene\":{\"xaxis\":{\"backgroundcolor\":\"#E5ECF6\",\"gridcolor\":\"white\",\"linecolor\":\"white\",\"showbackground\":true,\"ticks\":\"\",\"zerolinecolor\":\"white\",\"gridwidth\":2},\"yaxis\":{\"backgroundcolor\":\"#E5ECF6\",\"gridcolor\":\"white\",\"linecolor\":\"white\",\"showbackground\":true,\"ticks\":\"\",\"zerolinecolor\":\"white\",\"gridwidth\":2},\"zaxis\":{\"backgroundcolor\":\"#E5ECF6\",\"gridcolor\":\"white\",\"linecolor\":\"white\",\"showbackground\":true,\"ticks\":\"\",\"zerolinecolor\":\"white\",\"gridwidth\":2}},\"shapedefaults\":{\"line\":{\"color\":\"#2a3f5f\"}},\"annotationdefaults\":{\"arrowcolor\":\"#2a3f5f\",\"arrowhead\":0,\"arrowwidth\":1},\"geo\":{\"bgcolor\":\"white\",\"landcolor\":\"#E5ECF6\",\"subunitcolor\":\"white\",\"showland\":true,\"showlakes\":true,\"lakecolor\":\"white\"},\"title\":{\"x\":0.05},\"mapbox\":{\"style\":\"light\"}}},\"xaxis\":{\"title\":{\"text\":\"Support\"},\"autorange\":\"reversed\"},\"title\":{\"text\":\"Association Rules Strength Distribution\"},\"yaxis\":{\"title\":{\"text\":\"Confidence\"}}},                        {\"responsive\": true}                    ).then(function(){\n",
       "                            \n",
       "var gd = document.getElementById('9a959c61-2595-4398-b73c-0f87a3785268');\n",
       "var x = new MutationObserver(function (mutations, observer) {{\n",
       "        var display = window.getComputedStyle(gd).display;\n",
       "        if (!display || display === 'none') {{\n",
       "            console.log([gd, 'removed!']);\n",
       "            Plotly.purge(gd);\n",
       "            observer.disconnect();\n",
       "        }}\n",
       "}});\n",
       "\n",
       "// Listen for the removal of the full notebook cells\n",
       "var notebookContainer = gd.closest('#notebook-container');\n",
       "if (notebookContainer) {{\n",
       "    x.observe(notebookContainer, {childList: true});\n",
       "}}\n",
       "\n",
       "// Listen for the clearing of the current output cell\n",
       "var outputEl = gd.closest('.output');\n",
       "if (outputEl) {{\n",
       "    x.observe(outputEl, {childList: true});\n",
       "}}\n",
       "\n",
       "                        })                };                });            </script>        </div>"
      ]
     },
     "metadata": {},
     "output_type": "display_data",
     "jetTransient": {
      "display_id": null
     }
    },
    {
     "data": {
      "application/vnd.plotly.v1+json": {
       "data": [
        {
         "hoverinfo": "none",
         "line": {
          "color": "#888",
          "width": 0.5
         },
         "mode": "lines",
         "x": [
          0.04476176300077997,
          -1.0,
          null,
          0.39448180821319595,
          0.04476176300077997,
          null,
          0.39448180821319595,
          -0.09951528372092891,
          null,
          -0.09615847439951423,
          -1.0,
          null,
          0.8686616777771848,
          -0.09615847439951423,
          null,
          0.01720395890722845,
          -1.0,
          null,
          0.9091348524371509,
          0.01720395890722845,
          null,
          0.4244402463912992,
          0.01720395890722845,
          null,
          -0.09951528372092891,
          -1.0,
          null,
          -0.43747655621029546,
          -0.09951528372092891,
          null,
          -0.43747655621029546,
          -0.6085297718030735,
          null,
          -0.7427347828269357,
          -1.0,
          null,
          0.06185242184167612,
          -0.7427347828269357,
          null,
          -0.13406914211687895,
          -0.7427347828269357,
          null,
          -0.13406914211687895,
          -0.6085297718030735,
          null,
          0.005250222046322584,
          -1.0,
          null,
          -0.2958085156323455,
          0.005250222046322584,
          null,
          -0.2958085156323455,
          -0.9168363673474768,
          null,
          -0.2958085156323455,
          -0.017561338812982562,
          null,
          0.5683952750821623,
          0.005250222046322584,
          null,
          -0.9168363673474768,
          -1.0,
          null,
          -0.40138714487757765,
          -0.9168363673474768,
          null,
          -0.30991295942795044,
          -1.0,
          null,
          0.4024182938067783,
          -0.30991295942795044,
          null,
          0.44452360424397075,
          -0.30991295942795044,
          null,
          -0.6085297718030735,
          -1.0,
          null,
          -0.017561338812982562,
          -1.0,
          null,
          0.23760069007963933,
          -0.017561338812982562,
          null,
          0.6812655233485783,
          -0.017561338812982562,
          null
         ],
         "y": [
          -0.07921054991727969,
          -0.1861831598838612,
          null,
          0.3113680249536336,
          -0.07921054991727969,
          null,
          0.3113680249536336,
          0.16303905710987748,
          null,
          -0.336747592717001,
          -0.1861831598838612,
          null,
          -0.29800558377292885,
          -0.336747592717001,
          null,
          -0.4504126633791918,
          -0.1861831598838612,
          null,
          -0.5927004401361876,
          -0.4504126633791918,
          null,
          -0.9251672200171278,
          -0.4504126633791918,
          null,
          0.16303905710987748,
          -0.1861831598838612,
          null,
          0.6232108047535809,
          0.16303905710987748,
          null,
          0.6232108047535809,
          0.301419479607343,
          null,
          0.07272151531177024,
          -0.1861831598838612,
          null,
          -0.1923378425685536,
          0.07272151531177024,
          null,
          0.5743087129025064,
          0.07272151531177024,
          null,
          0.5743087129025064,
          0.301419479607343,
          null,
          0.05008142169540439,
          -0.1861831598838612,
          null,
          -0.20215730727325243,
          0.05008142169540439,
          null,
          -0.20215730727325243,
          -0.5852600841281893,
          null,
          -0.20215730727325243,
          0.2974479567434758,
          null,
          -0.12655854350677234,
          0.05008142169540439,
          null,
          -0.5852600841281893,
          -0.1861831598838612,
          null,
          -0.9633640165433492,
          -0.5852600841281893,
          null,
          0.1415171486977755,
          -0.1861831598838612,
          null,
          0.6108060334161396,
          0.1415171486977755,
          null,
          0.1794535339691162,
          0.1415171486977755,
          null,
          0.301419479607343,
          -0.1861831598838612,
          null,
          0.2974479567434758,
          -0.1861831598838612,
          null,
          0.9277115730191331,
          0.2974479567434758,
          null,
          0.6850197416639406,
          0.2974479567434758,
          null
         ],
         "type": "scatter"
        },
        {
         "hoverinfo": "text",
         "marker": {
          "color": [],
          "colorbar": {
           "thickness": 15,
           "title": {
            "side": "right",
            "text": "Node Connections"
           },
           "xanchor": "left"
          },
          "colorscale": [
           [
            0.0,
            "rgb(255,255,217)"
           ],
           [
            0.125,
            "rgb(237,248,177)"
           ],
           [
            0.25,
            "rgb(199,233,180)"
           ],
           [
            0.375,
            "rgb(127,205,187)"
           ],
           [
            0.5,
            "rgb(65,182,196)"
           ],
           [
            0.625,
            "rgb(29,145,192)"
           ],
           [
            0.75,
            "rgb(34,94,168)"
           ],
           [
            0.875,
            "rgb(37,52,148)"
           ],
           [
            1.0,
            "rgb(8,29,88)"
           ]
          ],
          "line": {
           "width": 2
          },
          "reversescale": true,
          "showscale": true,
          "size": 10
         },
         "mode": "markers",
         "text": [
          "0",
          "Extra Salami or Feta",
          "Coffee",
          "1",
          "Keeping It Local",
          "2",
          "Cake",
          "Vegan mincepie",
          "3",
          "Salad",
          "4",
          "Hearty & Seasonal",
          "Sandwich",
          "5",
          "NONE",
          "Scone",
          "6",
          "Tartine",
          "7",
          "Pastry",
          "Toast",
          "8",
          "9",
          "Hot chocolate",
          "Medialuna"
         ],
         "x": [
          0.04476176300077997,
          0.39448180821319595,
          -1.0,
          -0.09615847439951423,
          0.8686616777771848,
          0.01720395890722845,
          0.9091348524371509,
          0.4244402463912992,
          -0.09951528372092891,
          -0.43747655621029546,
          -0.7427347828269357,
          0.06185242184167612,
          -0.13406914211687895,
          0.005250222046322584,
          -0.2958085156323455,
          0.5683952750821623,
          -0.9168363673474768,
          -0.40138714487757765,
          -0.30991295942795044,
          0.4024182938067783,
          0.44452360424397075,
          -0.6085297718030735,
          -0.017561338812982562,
          0.23760069007963933,
          0.6812655233485783
         ],
         "y": [
          -0.07921054991727969,
          0.3113680249536336,
          -0.1861831598838612,
          -0.336747592717001,
          -0.29800558377292885,
          -0.4504126633791918,
          -0.5927004401361876,
          -0.9251672200171278,
          0.16303905710987748,
          0.6232108047535809,
          0.07272151531177024,
          -0.1923378425685536,
          0.5743087129025064,
          0.05008142169540439,
          -0.20215730727325243,
          -0.12655854350677234,
          -0.5852600841281893,
          -0.9633640165433492,
          0.1415171486977755,
          0.6108060334161396,
          0.1794535339691162,
          0.301419479607343,
          0.2974479567434758,
          0.9277115730191331,
          0.6850197416639406
         ],
         "type": "scatter"
        }
       ],
       "layout": {
        "annotations": [
         {
          "showarrow": false,
          "text": "Python code: <a href='https://plotly.com/ipython-notebooks/network-graphs/'> https://plotly.com/ipython-notebooks/network-graphs/</a>",
          "x": 0.005,
          "xref": "paper",
          "y": -0.002,
          "yref": "paper"
         }
        ],
        "hovermode": "closest",
        "margin": {
         "b": 20,
         "l": 5,
         "r": 5,
         "t": 40
        },
        "showlegend": false,
        "title": {
         "font": {
          "size": 16
         },
         "text": "<br>Network graph made with Python"
        },
        "xaxis": {
         "showgrid": false,
         "showticklabels": false,
         "zeroline": false
        },
        "yaxis": {
         "showgrid": false,
         "showticklabels": false,
         "zeroline": false
        },
        "template": {
         "data": {
          "histogram2dcontour": [
           {
            "type": "histogram2dcontour",
            "colorbar": {
             "outlinewidth": 0,
             "ticks": ""
            },
            "colorscale": [
             [
              0.0,
              "#0d0887"
             ],
             [
              0.1111111111111111,
              "#46039f"
             ],
             [
              0.2222222222222222,
              "#7201a8"
             ],
             [
              0.3333333333333333,
              "#9c179e"
             ],
             [
              0.4444444444444444,
              "#bd3786"
             ],
             [
              0.5555555555555556,
              "#d8576b"
             ],
             [
              0.6666666666666666,
              "#ed7953"
             ],
             [
              0.7777777777777778,
              "#fb9f3a"
             ],
             [
              0.8888888888888888,
              "#fdca26"
             ],
             [
              1.0,
              "#f0f921"
             ]
            ]
           }
          ],
          "choropleth": [
           {
            "type": "choropleth",
            "colorbar": {
             "outlinewidth": 0,
             "ticks": ""
            }
           }
          ],
          "histogram2d": [
           {
            "type": "histogram2d",
            "colorbar": {
             "outlinewidth": 0,
             "ticks": ""
            },
            "colorscale": [
             [
              0.0,
              "#0d0887"
             ],
             [
              0.1111111111111111,
              "#46039f"
             ],
             [
              0.2222222222222222,
              "#7201a8"
             ],
             [
              0.3333333333333333,
              "#9c179e"
             ],
             [
              0.4444444444444444,
              "#bd3786"
             ],
             [
              0.5555555555555556,
              "#d8576b"
             ],
             [
              0.6666666666666666,
              "#ed7953"
             ],
             [
              0.7777777777777778,
              "#fb9f3a"
             ],
             [
              0.8888888888888888,
              "#fdca26"
             ],
             [
              1.0,
              "#f0f921"
             ]
            ]
           }
          ],
          "heatmap": [
           {
            "type": "heatmap",
            "colorbar": {
             "outlinewidth": 0,
             "ticks": ""
            },
            "colorscale": [
             [
              0.0,
              "#0d0887"
             ],
             [
              0.1111111111111111,
              "#46039f"
             ],
             [
              0.2222222222222222,
              "#7201a8"
             ],
             [
              0.3333333333333333,
              "#9c179e"
             ],
             [
              0.4444444444444444,
              "#bd3786"
             ],
             [
              0.5555555555555556,
              "#d8576b"
             ],
             [
              0.6666666666666666,
              "#ed7953"
             ],
             [
              0.7777777777777778,
              "#fb9f3a"
             ],
             [
              0.8888888888888888,
              "#fdca26"
             ],
             [
              1.0,
              "#f0f921"
             ]
            ]
           }
          ],
          "heatmapgl": [
           {
            "type": "heatmapgl",
            "colorbar": {
             "outlinewidth": 0,
             "ticks": ""
            },
            "colorscale": [
             [
              0.0,
              "#0d0887"
             ],
             [
              0.1111111111111111,
              "#46039f"
             ],
             [
              0.2222222222222222,
              "#7201a8"
             ],
             [
              0.3333333333333333,
              "#9c179e"
             ],
             [
              0.4444444444444444,
              "#bd3786"
             ],
             [
              0.5555555555555556,
              "#d8576b"
             ],
             [
              0.6666666666666666,
              "#ed7953"
             ],
             [
              0.7777777777777778,
              "#fb9f3a"
             ],
             [
              0.8888888888888888,
              "#fdca26"
             ],
             [
              1.0,
              "#f0f921"
             ]
            ]
           }
          ],
          "contourcarpet": [
           {
            "type": "contourcarpet",
            "colorbar": {
             "outlinewidth": 0,
             "ticks": ""
            }
           }
          ],
          "contour": [
           {
            "type": "contour",
            "colorbar": {
             "outlinewidth": 0,
             "ticks": ""
            },
            "colorscale": [
             [
              0.0,
              "#0d0887"
             ],
             [
              0.1111111111111111,
              "#46039f"
             ],
             [
              0.2222222222222222,
              "#7201a8"
             ],
             [
              0.3333333333333333,
              "#9c179e"
             ],
             [
              0.4444444444444444,
              "#bd3786"
             ],
             [
              0.5555555555555556,
              "#d8576b"
             ],
             [
              0.6666666666666666,
              "#ed7953"
             ],
             [
              0.7777777777777778,
              "#fb9f3a"
             ],
             [
              0.8888888888888888,
              "#fdca26"
             ],
             [
              1.0,
              "#f0f921"
             ]
            ]
           }
          ],
          "surface": [
           {
            "type": "surface",
            "colorbar": {
             "outlinewidth": 0,
             "ticks": ""
            },
            "colorscale": [
             [
              0.0,
              "#0d0887"
             ],
             [
              0.1111111111111111,
              "#46039f"
             ],
             [
              0.2222222222222222,
              "#7201a8"
             ],
             [
              0.3333333333333333,
              "#9c179e"
             ],
             [
              0.4444444444444444,
              "#bd3786"
             ],
             [
              0.5555555555555556,
              "#d8576b"
             ],
             [
              0.6666666666666666,
              "#ed7953"
             ],
             [
              0.7777777777777778,
              "#fb9f3a"
             ],
             [
              0.8888888888888888,
              "#fdca26"
             ],
             [
              1.0,
              "#f0f921"
             ]
            ]
           }
          ],
          "mesh3d": [
           {
            "type": "mesh3d",
            "colorbar": {
             "outlinewidth": 0,
             "ticks": ""
            }
           }
          ],
          "scatter": [
           {
            "fillpattern": {
             "fillmode": "overlay",
             "size": 10,
             "solidity": 0.2
            },
            "type": "scatter"
           }
          ],
          "parcoords": [
           {
            "type": "parcoords",
            "line": {
             "colorbar": {
              "outlinewidth": 0,
              "ticks": ""
             }
            }
           }
          ],
          "scatterpolargl": [
           {
            "type": "scatterpolargl",
            "marker": {
             "colorbar": {
              "outlinewidth": 0,
              "ticks": ""
             }
            }
           }
          ],
          "bar": [
           {
            "error_x": {
             "color": "#2a3f5f"
            },
            "error_y": {
             "color": "#2a3f5f"
            },
            "marker": {
             "line": {
              "color": "#E5ECF6",
              "width": 0.5
             },
             "pattern": {
              "fillmode": "overlay",
              "size": 10,
              "solidity": 0.2
             }
            },
            "type": "bar"
           }
          ],
          "scattergeo": [
           {
            "type": "scattergeo",
            "marker": {
             "colorbar": {
              "outlinewidth": 0,
              "ticks": ""
             }
            }
           }
          ],
          "scatterpolar": [
           {
            "type": "scatterpolar",
            "marker": {
             "colorbar": {
              "outlinewidth": 0,
              "ticks": ""
             }
            }
           }
          ],
          "histogram": [
           {
            "marker": {
             "pattern": {
              "fillmode": "overlay",
              "size": 10,
              "solidity": 0.2
             }
            },
            "type": "histogram"
           }
          ],
          "scattergl": [
           {
            "type": "scattergl",
            "marker": {
             "colorbar": {
              "outlinewidth": 0,
              "ticks": ""
             }
            }
           }
          ],
          "scatter3d": [
           {
            "type": "scatter3d",
            "line": {
             "colorbar": {
              "outlinewidth": 0,
              "ticks": ""
             }
            },
            "marker": {
             "colorbar": {
              "outlinewidth": 0,
              "ticks": ""
             }
            }
           }
          ],
          "scattermapbox": [
           {
            "type": "scattermapbox",
            "marker": {
             "colorbar": {
              "outlinewidth": 0,
              "ticks": ""
             }
            }
           }
          ],
          "scatterternary": [
           {
            "type": "scatterternary",
            "marker": {
             "colorbar": {
              "outlinewidth": 0,
              "ticks": ""
             }
            }
           }
          ],
          "scattercarpet": [
           {
            "type": "scattercarpet",
            "marker": {
             "colorbar": {
              "outlinewidth": 0,
              "ticks": ""
             }
            }
           }
          ],
          "carpet": [
           {
            "aaxis": {
             "endlinecolor": "#2a3f5f",
             "gridcolor": "white",
             "linecolor": "white",
             "minorgridcolor": "white",
             "startlinecolor": "#2a3f5f"
            },
            "baxis": {
             "endlinecolor": "#2a3f5f",
             "gridcolor": "white",
             "linecolor": "white",
             "minorgridcolor": "white",
             "startlinecolor": "#2a3f5f"
            },
            "type": "carpet"
           }
          ],
          "table": [
           {
            "cells": {
             "fill": {
              "color": "#EBF0F8"
             },
             "line": {
              "color": "white"
             }
            },
            "header": {
             "fill": {
              "color": "#C8D4E3"
             },
             "line": {
              "color": "white"
             }
            },
            "type": "table"
           }
          ],
          "barpolar": [
           {
            "marker": {
             "line": {
              "color": "#E5ECF6",
              "width": 0.5
             },
             "pattern": {
              "fillmode": "overlay",
              "size": 10,
              "solidity": 0.2
             }
            },
            "type": "barpolar"
           }
          ],
          "pie": [
           {
            "automargin": true,
            "type": "pie"
           }
          ]
         },
         "layout": {
          "autotypenumbers": "strict",
          "colorway": [
           "#636efa",
           "#EF553B",
           "#00cc96",
           "#ab63fa",
           "#FFA15A",
           "#19d3f3",
           "#FF6692",
           "#B6E880",
           "#FF97FF",
           "#FECB52"
          ],
          "font": {
           "color": "#2a3f5f"
          },
          "hovermode": "closest",
          "hoverlabel": {
           "align": "left"
          },
          "paper_bgcolor": "white",
          "plot_bgcolor": "#E5ECF6",
          "polar": {
           "bgcolor": "#E5ECF6",
           "angularaxis": {
            "gridcolor": "white",
            "linecolor": "white",
            "ticks": ""
           },
           "radialaxis": {
            "gridcolor": "white",
            "linecolor": "white",
            "ticks": ""
           }
          },
          "ternary": {
           "bgcolor": "#E5ECF6",
           "aaxis": {
            "gridcolor": "white",
            "linecolor": "white",
            "ticks": ""
           },
           "baxis": {
            "gridcolor": "white",
            "linecolor": "white",
            "ticks": ""
           },
           "caxis": {
            "gridcolor": "white",
            "linecolor": "white",
            "ticks": ""
           }
          },
          "coloraxis": {
           "colorbar": {
            "outlinewidth": 0,
            "ticks": ""
           }
          },
          "colorscale": {
           "sequential": [
            [
             0.0,
             "#0d0887"
            ],
            [
             0.1111111111111111,
             "#46039f"
            ],
            [
             0.2222222222222222,
             "#7201a8"
            ],
            [
             0.3333333333333333,
             "#9c179e"
            ],
            [
             0.4444444444444444,
             "#bd3786"
            ],
            [
             0.5555555555555556,
             "#d8576b"
            ],
            [
             0.6666666666666666,
             "#ed7953"
            ],
            [
             0.7777777777777778,
             "#fb9f3a"
            ],
            [
             0.8888888888888888,
             "#fdca26"
            ],
            [
             1.0,
             "#f0f921"
            ]
           ],
           "sequentialminus": [
            [
             0.0,
             "#0d0887"
            ],
            [
             0.1111111111111111,
             "#46039f"
            ],
            [
             0.2222222222222222,
             "#7201a8"
            ],
            [
             0.3333333333333333,
             "#9c179e"
            ],
            [
             0.4444444444444444,
             "#bd3786"
            ],
            [
             0.5555555555555556,
             "#d8576b"
            ],
            [
             0.6666666666666666,
             "#ed7953"
            ],
            [
             0.7777777777777778,
             "#fb9f3a"
            ],
            [
             0.8888888888888888,
             "#fdca26"
            ],
            [
             1.0,
             "#f0f921"
            ]
           ],
           "diverging": [
            [
             0,
             "#8e0152"
            ],
            [
             0.1,
             "#c51b7d"
            ],
            [
             0.2,
             "#de77ae"
            ],
            [
             0.3,
             "#f1b6da"
            ],
            [
             0.4,
             "#fde0ef"
            ],
            [
             0.5,
             "#f7f7f7"
            ],
            [
             0.6,
             "#e6f5d0"
            ],
            [
             0.7,
             "#b8e186"
            ],
            [
             0.8,
             "#7fbc41"
            ],
            [
             0.9,
             "#4d9221"
            ],
            [
             1,
             "#276419"
            ]
           ]
          },
          "xaxis": {
           "gridcolor": "white",
           "linecolor": "white",
           "ticks": "",
           "title": {
            "standoff": 15
           },
           "zerolinecolor": "white",
           "automargin": true,
           "zerolinewidth": 2
          },
          "yaxis": {
           "gridcolor": "white",
           "linecolor": "white",
           "ticks": "",
           "title": {
            "standoff": 15
           },
           "zerolinecolor": "white",
           "automargin": true,
           "zerolinewidth": 2
          },
          "scene": {
           "xaxis": {
            "backgroundcolor": "#E5ECF6",
            "gridcolor": "white",
            "linecolor": "white",
            "showbackground": true,
            "ticks": "",
            "zerolinecolor": "white",
            "gridwidth": 2
           },
           "yaxis": {
            "backgroundcolor": "#E5ECF6",
            "gridcolor": "white",
            "linecolor": "white",
            "showbackground": true,
            "ticks": "",
            "zerolinecolor": "white",
            "gridwidth": 2
           },
           "zaxis": {
            "backgroundcolor": "#E5ECF6",
            "gridcolor": "white",
            "linecolor": "white",
            "showbackground": true,
            "ticks": "",
            "zerolinecolor": "white",
            "gridwidth": 2
           }
          },
          "shapedefaults": {
           "line": {
            "color": "#2a3f5f"
           }
          },
          "annotationdefaults": {
           "arrowcolor": "#2a3f5f",
           "arrowhead": 0,
           "arrowwidth": 1
          },
          "geo": {
           "bgcolor": "white",
           "landcolor": "#E5ECF6",
           "subunitcolor": "white",
           "showland": true,
           "showlakes": true,
           "lakecolor": "white"
          },
          "title": {
           "x": 0.05
          },
          "mapbox": {
           "style": "light"
          }
         }
        }
       },
       "config": {
        "plotlyServerURL": "https://plot.ly"
       }
      },
      "text/html": [
       "<div>                            <div id=\"2917e4fd-9157-4f03-928b-61f86b1034a4\" class=\"plotly-graph-div\" style=\"height:525px; width:100%;\"></div>            <script type=\"text/javascript\">                require([\"plotly\"], function(Plotly) {                    window.PLOTLYENV=window.PLOTLYENV || {};                                    if (document.getElementById(\"2917e4fd-9157-4f03-928b-61f86b1034a4\")) {                    Plotly.newPlot(                        \"2917e4fd-9157-4f03-928b-61f86b1034a4\",                        [{\"hoverinfo\":\"none\",\"line\":{\"color\":\"#888\",\"width\":0.5},\"mode\":\"lines\",\"x\":[0.04476176300077997,-1.0,null,0.39448180821319595,0.04476176300077997,null,0.39448180821319595,-0.09951528372092891,null,-0.09615847439951423,-1.0,null,0.8686616777771848,-0.09615847439951423,null,0.01720395890722845,-1.0,null,0.9091348524371509,0.01720395890722845,null,0.4244402463912992,0.01720395890722845,null,-0.09951528372092891,-1.0,null,-0.43747655621029546,-0.09951528372092891,null,-0.43747655621029546,-0.6085297718030735,null,-0.7427347828269357,-1.0,null,0.06185242184167612,-0.7427347828269357,null,-0.13406914211687895,-0.7427347828269357,null,-0.13406914211687895,-0.6085297718030735,null,0.005250222046322584,-1.0,null,-0.2958085156323455,0.005250222046322584,null,-0.2958085156323455,-0.9168363673474768,null,-0.2958085156323455,-0.017561338812982562,null,0.5683952750821623,0.005250222046322584,null,-0.9168363673474768,-1.0,null,-0.40138714487757765,-0.9168363673474768,null,-0.30991295942795044,-1.0,null,0.4024182938067783,-0.30991295942795044,null,0.44452360424397075,-0.30991295942795044,null,-0.6085297718030735,-1.0,null,-0.017561338812982562,-1.0,null,0.23760069007963933,-0.017561338812982562,null,0.6812655233485783,-0.017561338812982562,null],\"y\":[-0.07921054991727969,-0.1861831598838612,null,0.3113680249536336,-0.07921054991727969,null,0.3113680249536336,0.16303905710987748,null,-0.336747592717001,-0.1861831598838612,null,-0.29800558377292885,-0.336747592717001,null,-0.4504126633791918,-0.1861831598838612,null,-0.5927004401361876,-0.4504126633791918,null,-0.9251672200171278,-0.4504126633791918,null,0.16303905710987748,-0.1861831598838612,null,0.6232108047535809,0.16303905710987748,null,0.6232108047535809,0.301419479607343,null,0.07272151531177024,-0.1861831598838612,null,-0.1923378425685536,0.07272151531177024,null,0.5743087129025064,0.07272151531177024,null,0.5743087129025064,0.301419479607343,null,0.05008142169540439,-0.1861831598838612,null,-0.20215730727325243,0.05008142169540439,null,-0.20215730727325243,-0.5852600841281893,null,-0.20215730727325243,0.2974479567434758,null,-0.12655854350677234,0.05008142169540439,null,-0.5852600841281893,-0.1861831598838612,null,-0.9633640165433492,-0.5852600841281893,null,0.1415171486977755,-0.1861831598838612,null,0.6108060334161396,0.1415171486977755,null,0.1794535339691162,0.1415171486977755,null,0.301419479607343,-0.1861831598838612,null,0.2974479567434758,-0.1861831598838612,null,0.9277115730191331,0.2974479567434758,null,0.6850197416639406,0.2974479567434758,null],\"type\":\"scatter\"},{\"hoverinfo\":\"text\",\"marker\":{\"color\":[],\"colorbar\":{\"thickness\":15,\"title\":{\"side\":\"right\",\"text\":\"Node Connections\"},\"xanchor\":\"left\"},\"colorscale\":[[0.0,\"rgb(255,255,217)\"],[0.125,\"rgb(237,248,177)\"],[0.25,\"rgb(199,233,180)\"],[0.375,\"rgb(127,205,187)\"],[0.5,\"rgb(65,182,196)\"],[0.625,\"rgb(29,145,192)\"],[0.75,\"rgb(34,94,168)\"],[0.875,\"rgb(37,52,148)\"],[1.0,\"rgb(8,29,88)\"]],\"line\":{\"width\":2},\"reversescale\":true,\"showscale\":true,\"size\":10},\"mode\":\"markers\",\"text\":[\"0\",\"Extra Salami or Feta\",\"Coffee\",\"1\",\"Keeping It Local\",\"2\",\"Cake\",\"Vegan mincepie\",\"3\",\"Salad\",\"4\",\"Hearty & Seasonal\",\"Sandwich\",\"5\",\"NONE\",\"Scone\",\"6\",\"Tartine\",\"7\",\"Pastry\",\"Toast\",\"8\",\"9\",\"Hot chocolate\",\"Medialuna\"],\"x\":[0.04476176300077997,0.39448180821319595,-1.0,-0.09615847439951423,0.8686616777771848,0.01720395890722845,0.9091348524371509,0.4244402463912992,-0.09951528372092891,-0.43747655621029546,-0.7427347828269357,0.06185242184167612,-0.13406914211687895,0.005250222046322584,-0.2958085156323455,0.5683952750821623,-0.9168363673474768,-0.40138714487757765,-0.30991295942795044,0.4024182938067783,0.44452360424397075,-0.6085297718030735,-0.017561338812982562,0.23760069007963933,0.6812655233485783],\"y\":[-0.07921054991727969,0.3113680249536336,-0.1861831598838612,-0.336747592717001,-0.29800558377292885,-0.4504126633791918,-0.5927004401361876,-0.9251672200171278,0.16303905710987748,0.6232108047535809,0.07272151531177024,-0.1923378425685536,0.5743087129025064,0.05008142169540439,-0.20215730727325243,-0.12655854350677234,-0.5852600841281893,-0.9633640165433492,0.1415171486977755,0.6108060334161396,0.1794535339691162,0.301419479607343,0.2974479567434758,0.9277115730191331,0.6850197416639406],\"type\":\"scatter\"}],                        {\"annotations\":[{\"showarrow\":false,\"text\":\"Python code: \\u003ca href='https:\\u002f\\u002fplotly.com\\u002fipython-notebooks\\u002fnetwork-graphs\\u002f'\\u003e https:\\u002f\\u002fplotly.com\\u002fipython-notebooks\\u002fnetwork-graphs\\u002f\\u003c\\u002fa\\u003e\",\"x\":0.005,\"xref\":\"paper\",\"y\":-0.002,\"yref\":\"paper\"}],\"hovermode\":\"closest\",\"margin\":{\"b\":20,\"l\":5,\"r\":5,\"t\":40},\"showlegend\":false,\"title\":{\"font\":{\"size\":16},\"text\":\"\\u003cbr\\u003eNetwork graph made with Python\"},\"xaxis\":{\"showgrid\":false,\"showticklabels\":false,\"zeroline\":false},\"yaxis\":{\"showgrid\":false,\"showticklabels\":false,\"zeroline\":false},\"template\":{\"data\":{\"histogram2dcontour\":[{\"type\":\"histogram2dcontour\",\"colorbar\":{\"outlinewidth\":0,\"ticks\":\"\"},\"colorscale\":[[0.0,\"#0d0887\"],[0.1111111111111111,\"#46039f\"],[0.2222222222222222,\"#7201a8\"],[0.3333333333333333,\"#9c179e\"],[0.4444444444444444,\"#bd3786\"],[0.5555555555555556,\"#d8576b\"],[0.6666666666666666,\"#ed7953\"],[0.7777777777777778,\"#fb9f3a\"],[0.8888888888888888,\"#fdca26\"],[1.0,\"#f0f921\"]]}],\"choropleth\":[{\"type\":\"choropleth\",\"colorbar\":{\"outlinewidth\":0,\"ticks\":\"\"}}],\"histogram2d\":[{\"type\":\"histogram2d\",\"colorbar\":{\"outlinewidth\":0,\"ticks\":\"\"},\"colorscale\":[[0.0,\"#0d0887\"],[0.1111111111111111,\"#46039f\"],[0.2222222222222222,\"#7201a8\"],[0.3333333333333333,\"#9c179e\"],[0.4444444444444444,\"#bd3786\"],[0.5555555555555556,\"#d8576b\"],[0.6666666666666666,\"#ed7953\"],[0.7777777777777778,\"#fb9f3a\"],[0.8888888888888888,\"#fdca26\"],[1.0,\"#f0f921\"]]}],\"heatmap\":[{\"type\":\"heatmap\",\"colorbar\":{\"outlinewidth\":0,\"ticks\":\"\"},\"colorscale\":[[0.0,\"#0d0887\"],[0.1111111111111111,\"#46039f\"],[0.2222222222222222,\"#7201a8\"],[0.3333333333333333,\"#9c179e\"],[0.4444444444444444,\"#bd3786\"],[0.5555555555555556,\"#d8576b\"],[0.6666666666666666,\"#ed7953\"],[0.7777777777777778,\"#fb9f3a\"],[0.8888888888888888,\"#fdca26\"],[1.0,\"#f0f921\"]]}],\"heatmapgl\":[{\"type\":\"heatmapgl\",\"colorbar\":{\"outlinewidth\":0,\"ticks\":\"\"},\"colorscale\":[[0.0,\"#0d0887\"],[0.1111111111111111,\"#46039f\"],[0.2222222222222222,\"#7201a8\"],[0.3333333333333333,\"#9c179e\"],[0.4444444444444444,\"#bd3786\"],[0.5555555555555556,\"#d8576b\"],[0.6666666666666666,\"#ed7953\"],[0.7777777777777778,\"#fb9f3a\"],[0.8888888888888888,\"#fdca26\"],[1.0,\"#f0f921\"]]}],\"contourcarpet\":[{\"type\":\"contourcarpet\",\"colorbar\":{\"outlinewidth\":0,\"ticks\":\"\"}}],\"contour\":[{\"type\":\"contour\",\"colorbar\":{\"outlinewidth\":0,\"ticks\":\"\"},\"colorscale\":[[0.0,\"#0d0887\"],[0.1111111111111111,\"#46039f\"],[0.2222222222222222,\"#7201a8\"],[0.3333333333333333,\"#9c179e\"],[0.4444444444444444,\"#bd3786\"],[0.5555555555555556,\"#d8576b\"],[0.6666666666666666,\"#ed7953\"],[0.7777777777777778,\"#fb9f3a\"],[0.8888888888888888,\"#fdca26\"],[1.0,\"#f0f921\"]]}],\"surface\":[{\"type\":\"surface\",\"colorbar\":{\"outlinewidth\":0,\"ticks\":\"\"},\"colorscale\":[[0.0,\"#0d0887\"],[0.1111111111111111,\"#46039f\"],[0.2222222222222222,\"#7201a8\"],[0.3333333333333333,\"#9c179e\"],[0.4444444444444444,\"#bd3786\"],[0.5555555555555556,\"#d8576b\"],[0.6666666666666666,\"#ed7953\"],[0.7777777777777778,\"#fb9f3a\"],[0.8888888888888888,\"#fdca26\"],[1.0,\"#f0f921\"]]}],\"mesh3d\":[{\"type\":\"mesh3d\",\"colorbar\":{\"outlinewidth\":0,\"ticks\":\"\"}}],\"scatter\":[{\"fillpattern\":{\"fillmode\":\"overlay\",\"size\":10,\"solidity\":0.2},\"type\":\"scatter\"}],\"parcoords\":[{\"type\":\"parcoords\",\"line\":{\"colorbar\":{\"outlinewidth\":0,\"ticks\":\"\"}}}],\"scatterpolargl\":[{\"type\":\"scatterpolargl\",\"marker\":{\"colorbar\":{\"outlinewidth\":0,\"ticks\":\"\"}}}],\"bar\":[{\"error_x\":{\"color\":\"#2a3f5f\"},\"error_y\":{\"color\":\"#2a3f5f\"},\"marker\":{\"line\":{\"color\":\"#E5ECF6\",\"width\":0.5},\"pattern\":{\"fillmode\":\"overlay\",\"size\":10,\"solidity\":0.2}},\"type\":\"bar\"}],\"scattergeo\":[{\"type\":\"scattergeo\",\"marker\":{\"colorbar\":{\"outlinewidth\":0,\"ticks\":\"\"}}}],\"scatterpolar\":[{\"type\":\"scatterpolar\",\"marker\":{\"colorbar\":{\"outlinewidth\":0,\"ticks\":\"\"}}}],\"histogram\":[{\"marker\":{\"pattern\":{\"fillmode\":\"overlay\",\"size\":10,\"solidity\":0.2}},\"type\":\"histogram\"}],\"scattergl\":[{\"type\":\"scattergl\",\"marker\":{\"colorbar\":{\"outlinewidth\":0,\"ticks\":\"\"}}}],\"scatter3d\":[{\"type\":\"scatter3d\",\"line\":{\"colorbar\":{\"outlinewidth\":0,\"ticks\":\"\"}},\"marker\":{\"colorbar\":{\"outlinewidth\":0,\"ticks\":\"\"}}}],\"scattermapbox\":[{\"type\":\"scattermapbox\",\"marker\":{\"colorbar\":{\"outlinewidth\":0,\"ticks\":\"\"}}}],\"scatterternary\":[{\"type\":\"scatterternary\",\"marker\":{\"colorbar\":{\"outlinewidth\":0,\"ticks\":\"\"}}}],\"scattercarpet\":[{\"type\":\"scattercarpet\",\"marker\":{\"colorbar\":{\"outlinewidth\":0,\"ticks\":\"\"}}}],\"carpet\":[{\"aaxis\":{\"endlinecolor\":\"#2a3f5f\",\"gridcolor\":\"white\",\"linecolor\":\"white\",\"minorgridcolor\":\"white\",\"startlinecolor\":\"#2a3f5f\"},\"baxis\":{\"endlinecolor\":\"#2a3f5f\",\"gridcolor\":\"white\",\"linecolor\":\"white\",\"minorgridcolor\":\"white\",\"startlinecolor\":\"#2a3f5f\"},\"type\":\"carpet\"}],\"table\":[{\"cells\":{\"fill\":{\"color\":\"#EBF0F8\"},\"line\":{\"color\":\"white\"}},\"header\":{\"fill\":{\"color\":\"#C8D4E3\"},\"line\":{\"color\":\"white\"}},\"type\":\"table\"}],\"barpolar\":[{\"marker\":{\"line\":{\"color\":\"#E5ECF6\",\"width\":0.5},\"pattern\":{\"fillmode\":\"overlay\",\"size\":10,\"solidity\":0.2}},\"type\":\"barpolar\"}],\"pie\":[{\"automargin\":true,\"type\":\"pie\"}]},\"layout\":{\"autotypenumbers\":\"strict\",\"colorway\":[\"#636efa\",\"#EF553B\",\"#00cc96\",\"#ab63fa\",\"#FFA15A\",\"#19d3f3\",\"#FF6692\",\"#B6E880\",\"#FF97FF\",\"#FECB52\"],\"font\":{\"color\":\"#2a3f5f\"},\"hovermode\":\"closest\",\"hoverlabel\":{\"align\":\"left\"},\"paper_bgcolor\":\"white\",\"plot_bgcolor\":\"#E5ECF6\",\"polar\":{\"bgcolor\":\"#E5ECF6\",\"angularaxis\":{\"gridcolor\":\"white\",\"linecolor\":\"white\",\"ticks\":\"\"},\"radialaxis\":{\"gridcolor\":\"white\",\"linecolor\":\"white\",\"ticks\":\"\"}},\"ternary\":{\"bgcolor\":\"#E5ECF6\",\"aaxis\":{\"gridcolor\":\"white\",\"linecolor\":\"white\",\"ticks\":\"\"},\"baxis\":{\"gridcolor\":\"white\",\"linecolor\":\"white\",\"ticks\":\"\"},\"caxis\":{\"gridcolor\":\"white\",\"linecolor\":\"white\",\"ticks\":\"\"}},\"coloraxis\":{\"colorbar\":{\"outlinewidth\":0,\"ticks\":\"\"}},\"colorscale\":{\"sequential\":[[0.0,\"#0d0887\"],[0.1111111111111111,\"#46039f\"],[0.2222222222222222,\"#7201a8\"],[0.3333333333333333,\"#9c179e\"],[0.4444444444444444,\"#bd3786\"],[0.5555555555555556,\"#d8576b\"],[0.6666666666666666,\"#ed7953\"],[0.7777777777777778,\"#fb9f3a\"],[0.8888888888888888,\"#fdca26\"],[1.0,\"#f0f921\"]],\"sequentialminus\":[[0.0,\"#0d0887\"],[0.1111111111111111,\"#46039f\"],[0.2222222222222222,\"#7201a8\"],[0.3333333333333333,\"#9c179e\"],[0.4444444444444444,\"#bd3786\"],[0.5555555555555556,\"#d8576b\"],[0.6666666666666666,\"#ed7953\"],[0.7777777777777778,\"#fb9f3a\"],[0.8888888888888888,\"#fdca26\"],[1.0,\"#f0f921\"]],\"diverging\":[[0,\"#8e0152\"],[0.1,\"#c51b7d\"],[0.2,\"#de77ae\"],[0.3,\"#f1b6da\"],[0.4,\"#fde0ef\"],[0.5,\"#f7f7f7\"],[0.6,\"#e6f5d0\"],[0.7,\"#b8e186\"],[0.8,\"#7fbc41\"],[0.9,\"#4d9221\"],[1,\"#276419\"]]},\"xaxis\":{\"gridcolor\":\"white\",\"linecolor\":\"white\",\"ticks\":\"\",\"title\":{\"standoff\":15},\"zerolinecolor\":\"white\",\"automargin\":true,\"zerolinewidth\":2},\"yaxis\":{\"gridcolor\":\"white\",\"linecolor\":\"white\",\"ticks\":\"\",\"title\":{\"standoff\":15},\"zerolinecolor\":\"white\",\"automargin\":true,\"zerolinewidth\":2},\"scene\":{\"xaxis\":{\"backgroundcolor\":\"#E5ECF6\",\"gridcolor\":\"white\",\"linecolor\":\"white\",\"showbackground\":true,\"ticks\":\"\",\"zerolinecolor\":\"white\",\"gridwidth\":2},\"yaxis\":{\"backgroundcolor\":\"#E5ECF6\",\"gridcolor\":\"white\",\"linecolor\":\"white\",\"showbackground\":true,\"ticks\":\"\",\"zerolinecolor\":\"white\",\"gridwidth\":2},\"zaxis\":{\"backgroundcolor\":\"#E5ECF6\",\"gridcolor\":\"white\",\"linecolor\":\"white\",\"showbackground\":true,\"ticks\":\"\",\"zerolinecolor\":\"white\",\"gridwidth\":2}},\"shapedefaults\":{\"line\":{\"color\":\"#2a3f5f\"}},\"annotationdefaults\":{\"arrowcolor\":\"#2a3f5f\",\"arrowhead\":0,\"arrowwidth\":1},\"geo\":{\"bgcolor\":\"white\",\"landcolor\":\"#E5ECF6\",\"subunitcolor\":\"white\",\"showland\":true,\"showlakes\":true,\"lakecolor\":\"white\"},\"title\":{\"x\":0.05},\"mapbox\":{\"style\":\"light\"}}}},                        {\"responsive\": true}                    ).then(function(){\n",
       "                            \n",
       "var gd = document.getElementById('2917e4fd-9157-4f03-928b-61f86b1034a4');\n",
       "var x = new MutationObserver(function (mutations, observer) {{\n",
       "        var display = window.getComputedStyle(gd).display;\n",
       "        if (!display || display === 'none') {{\n",
       "            console.log([gd, 'removed!']);\n",
       "            Plotly.purge(gd);\n",
       "            observer.disconnect();\n",
       "        }}\n",
       "}});\n",
       "\n",
       "// Listen for the removal of the full notebook cells\n",
       "var notebookContainer = gd.closest('#notebook-container');\n",
       "if (notebookContainer) {{\n",
       "    x.observe(notebookContainer, {childList: true});\n",
       "}}\n",
       "\n",
       "// Listen for the clearing of the current output cell\n",
       "var outputEl = gd.closest('.output');\n",
       "if (outputEl) {{\n",
       "    x.observe(outputEl, {childList: true});\n",
       "}}\n",
       "\n",
       "                        })                };                });            </script>        </div>"
      ]
     },
     "metadata": {},
     "output_type": "display_data",
     "jetTransient": {
      "display_id": null
     }
    }
   ],
   "execution_count": 43
  },
  {
   "metadata": {},
   "cell_type": "markdown",
   "source": "fpgrowth_py",
   "id": "fac5768ae7d2beb4"
  },
  {
   "metadata": {
    "ExecuteTime": {
     "end_time": "2025-09-20T07:36:23.281020Z",
     "start_time": "2025-09-20T07:36:11.919278Z"
    }
   },
   "cell_type": "code",
   "source": [
    "from fpgrowth_py import fpgrowth\n",
    "\n",
    "start = time.time()\n",
    "freqItemSet, rules = fpgrowth(transactions, minSupRatio=min_sup, minConf=0.6)\n",
    "times['fpgrowth-py'] = time.time() - start\n",
    "\n",
    "n_trans = len(transactions)\n",
    "\n",
    "print(\"\\nАссоциативные правила (достоверность ≥ 60%):\")\n",
    "\n",
    "rules_pyarmviz_fp = [] # для PyARMViz\n",
    "\n",
    "for i, (antecedent, consequent, confidence) in enumerate(rules):\n",
    "    ant = frozenset(antecedent)\n",
    "    cons = frozenset(consequent)\n",
    "    union = ant | cons\n",
    "\n",
    "    count_ab = sum(1 for t in transactions if union.issubset(t))\n",
    "    count_a = sum(1 for t in transactions if ant.issubset(t))\n",
    "    count_b = sum(1 for t in transactions if cons.issubset(t))\n",
    "\n",
    "    support_ab = count_ab / n_trans\n",
    "    support_a = count_a / n_trans\n",
    "    support_b = count_b / n_trans\n",
    "    lift = support_ab / (support_a * support_b) if support_a * support_b else 0.0\n",
    "\n",
    "    print(f\"{i}: {set(antecedent)} -> {set(consequent)} \"\n",
    "          f\"Support = {support_ab:.3f} Confidence = {confidence:.3f} Lift = {lift:.3f}\")\n",
    "\n",
    "    rules_pyarmviz_fp.append(\n",
    "        PyARMViz.Rule.Rule(\n",
    "            lhs=tuple(antecedent),\n",
    "            rhs=tuple(consequent),\n",
    "            count_full=count_ab,\n",
    "            count_lhs=count_a,\n",
    "            count_rhs=count_b,\n",
    "            num_transactions=n_trans\n",
    "        )\n",
    "    )"
   ],
   "id": "ccce1274688df76",
   "outputs": [
    {
     "name": "stdout",
     "output_type": "stream",
     "text": [
      "\n",
      "Ассоциативные правила (достоверность ≥ 60%):\n",
      "0: {'Mighty Protein'} -> {'Coffee'} Support = 0.001 Confidence = 0.818 Lift = 1.722\n",
      "1: {'Granola'} -> {'Coffee'} Support = 0.002 Confidence = 0.607 Lift = 1.278\n",
      "2: {'Art Tray', 'NONE'} -> {'Coffee'} Support = 0.001 Confidence = 0.818 Lift = 1.722\n",
      "3: {'Art Tray'} -> {'Coffee'} Support = 0.003 Confidence = 0.684 Lift = 1.440\n",
      "4: {'Art Tray'} -> {'Coffee'} Support = 0.003 Confidence = 0.684 Lift = 1.440\n",
      "5: {'Extra Salami or Feta', 'Bread'} -> {'Coffee'} Support = 0.001 Confidence = 0.700 Lift = 1.473\n",
      "6: {'Extra Salami or Feta', 'Salad'} -> {'Coffee'} Support = 0.001 Confidence = 0.875 Lift = 1.842\n",
      "7: {'Extra Salami or Feta', 'NONE'} -> {'Coffee'} Support = 0.001 Confidence = 0.765 Lift = 1.610\n",
      "8: {'Extra Salami or Feta'} -> {'Coffee'} Support = 0.003 Confidence = 0.816 Lift = 1.717\n",
      "9: {'Extra Salami or Feta'} -> {'Coffee'} Support = 0.003 Confidence = 0.816 Lift = 1.717\n",
      "10: {'Tartine', 'NONE'} -> {'Coffee'} Support = 0.001 Confidence = 0.923 Lift = 1.943\n",
      "11: {'Tartine'} -> {'Coffee'} Support = 0.003 Confidence = 0.630 Lift = 1.327\n",
      "12: {'Bakewell'} -> {'Coffee'} Support = 0.003 Confidence = 0.604 Lift = 1.272\n",
      "13: {'Vegan mincepie', 'Cake'} -> {'Coffee'} Support = 0.001 Confidence = 0.833 Lift = 1.754\n",
      "14: {'The Nomad', 'NONE'} -> {'Coffee'} Support = 0.001 Confidence = 0.750 Lift = 1.579\n",
      "15: {'Keeping It Local', 'Tea'} -> {'Coffee'} Support = 0.001 Confidence = 0.647 Lift = 1.362\n",
      "16: {'Keeping It Local'} -> {'Coffee'} Support = 0.005 Confidence = 0.810 Lift = 1.704\n",
      "17: {'Cake', 'Smoothies'} -> {'Coffee'} Support = 0.001 Confidence = 0.667 Lift = 1.403\n",
      "18: {'Salad', 'Spanish Brunch'} -> {'Coffee'} Support = 0.001 Confidence = 0.667 Lift = 1.403\n",
      "19: {'Salad', 'Cake'} -> {'Coffee'} Support = 0.001 Confidence = 0.769 Lift = 1.619\n",
      "20: {'Salad', 'Sandwich'} -> {'Coffee'} Support = 0.002 Confidence = 0.833 Lift = 1.754\n",
      "21: {'Salad'} -> {'Coffee'} Support = 0.007 Confidence = 0.626 Lift = 1.318\n",
      "22: {'Salad'} -> {'Coffee'} Support = 0.007 Confidence = 0.626 Lift = 1.318\n",
      "23: {'Hearty & Seasonal', 'Sandwich'} -> {'Coffee'} Support = 0.001 Confidence = 0.857 Lift = 1.804\n",
      "24: {'Jammie Dodgers', 'Juice'} -> {'Coffee'} Support = 0.001 Confidence = 0.650 Lift = 1.368\n",
      "25: {'Alfajores', 'Mineral water'} -> {'Coffee'} Support = 0.001 Confidence = 0.750 Lift = 1.579\n",
      "26: {'Tiffin', 'Sandwich'} -> {'Coffee'} Support = 0.001 Confidence = 0.667 Lift = 1.403\n",
      "27: {'Tiffin', 'Sandwich'} -> {'Coffee'} Support = 0.001 Confidence = 0.667 Lift = 1.403\n",
      "28: {'Cake', 'Tiffin'} -> {'Coffee'} Support = 0.002 Confidence = 0.682 Lift = 1.435\n",
      "29: {'Alfajores', 'Spanish Brunch'} -> {'Tea'} Support = 0.001 Confidence = 0.700 Lift = 4.942\n",
      "30: {'Spanish Brunch', 'Toast'} -> {'Coffee'} Support = 0.001 Confidence = 0.700 Lift = 1.473\n",
      "31: {'Soup', 'Spanish Brunch'} -> {'Coffee'} Support = 0.001 Confidence = 0.700 Lift = 1.473\n",
      "32: {'Spanish Brunch', 'Sandwich'} -> {'Coffee'} Support = 0.001 Confidence = 0.667 Lift = 1.403\n",
      "33: {'Juice', 'Spanish Brunch'} -> {'Coffee'} Support = 0.002 Confidence = 0.731 Lift = 1.538\n",
      "34: {'NONE', 'Spanish Brunch'} -> {'Coffee'} Support = 0.002 Confidence = 0.676 Lift = 1.424\n",
      "35: {'Pastry', 'Toast'} -> {'Coffee'} Support = 0.001 Confidence = 0.867 Lift = 1.824\n",
      "36: {'Medialuna', 'Toast'} -> {'Coffee'} Support = 0.001 Confidence = 0.611 Lift = 1.286\n",
      "37: {'Juice', 'Toast'} -> {'Coffee'} Support = 0.002 Confidence = 0.682 Lift = 1.435\n",
      "38: {'Cake', 'Toast'} -> {'Coffee'} Support = 0.002 Confidence = 0.714 Lift = 1.504\n",
      "39: {'NONE', 'Toast'} -> {'Coffee'} Support = 0.003 Confidence = 0.750 Lift = 1.579\n",
      "40: {'NONE', 'Toast'} -> {'Coffee'} Support = 0.003 Confidence = 0.750 Lift = 1.579\n",
      "41: {'Toast'} -> {'Coffee'} Support = 0.024 Confidence = 0.704 Lift = 1.483\n",
      "42: {'Toast'} -> {'Coffee'} Support = 0.024 Confidence = 0.704 Lift = 1.483\n",
      "43: {'Toast'} -> {'Coffee'} Support = 0.024 Confidence = 0.704 Lift = 1.483\n",
      "44: {'Cookies', 'Scone'} -> {'Coffee'} Support = 0.002 Confidence = 0.789 Lift = 1.662\n",
      "45: {'NONE', 'Scone'} -> {'Coffee'} Support = 0.002 Confidence = 0.833 Lift = 1.754\n",
      "46: {'Juice', 'Scone'} -> {'Coffee'} Support = 0.001 Confidence = 0.632 Lift = 1.329\n",
      "47: {'Hot chocolate', 'Scone'} -> {'Coffee'} Support = 0.002 Confidence = 0.607 Lift = 1.278\n",
      "48: {'Soup', 'NONE'} -> {'Coffee'} Support = 0.001 Confidence = 0.625 Lift = 1.316\n",
      "49: {'Soup', 'Sandwich'} -> {'Coffee'} Support = 0.004 Confidence = 0.654 Lift = 1.376\n",
      "50: {'Soup', 'Sandwich'} -> {'Coffee'} Support = 0.004 Confidence = 0.654 Lift = 1.376\n",
      "51: {'Soup', 'Cake', 'Sandwich'} -> {'Coffee'} Support = 0.001 Confidence = 0.818 Lift = 1.722\n",
      "52: {'Juice', 'Pastry'} -> {'Coffee'} Support = 0.002 Confidence = 0.773 Lift = 1.627\n",
      "53: {'Cookies', 'Juice', 'Cake'} -> {'Coffee'} Support = 0.001 Confidence = 0.700 Lift = 1.473\n",
      "54: {'Cookies', 'Juice'} -> {'Coffee'} Support = 0.004 Confidence = 0.603 Lift = 1.270\n",
      "55: {'Cookies', 'Juice'} -> {'Coffee'} Support = 0.004 Confidence = 0.603 Lift = 1.270\n",
      "56: {'Juice', 'NONE'} -> {'Coffee'} Support = 0.004 Confidence = 0.661 Lift = 1.391\n",
      "57: {'Juice', 'NONE'} -> {'Coffee'} Support = 0.004 Confidence = 0.661 Lift = 1.391\n",
      "58: {'Juice', 'Cake', 'Sandwich'} -> {'Coffee'} Support = 0.001 Confidence = 0.625 Lift = 1.316\n",
      "59: {'Alfajores', 'NONE'} -> {'Coffee'} Support = 0.001 Confidence = 0.611 Lift = 1.286\n",
      "60: {'Alfajores', 'NONE'} -> {'Coffee'} Support = 0.001 Confidence = 0.611 Lift = 1.286\n",
      "61: {'Cookies', 'Alfajores', 'Sandwich'} -> {'Coffee'} Support = 0.000 Confidence = 0.750 Lift = 1.579\n",
      "62: {'Cookies', 'Alfajores'} -> {'Coffee'} Support = 0.002 Confidence = 0.652 Lift = 1.373\n",
      "63: {'Alfajores', 'Pastry', 'Bread'} -> {'Coffee'} Support = 0.001 Confidence = 0.714 Lift = 1.504\n",
      "64: {'Muffin', 'Sandwich'} -> {'Coffee'} Support = 0.001 Confidence = 0.650 Lift = 1.368\n",
      "65: {'Muffin', 'NONE'} -> {'Coffee'} Support = 0.001 Confidence = 0.619 Lift = 1.303\n",
      "66: {'Muffin', 'Tea', 'Cake'} -> {'Coffee'} Support = 0.001 Confidence = 0.667 Lift = 1.403\n",
      "67: {'Brownie', 'NONE'} -> {'Coffee'} Support = 0.001 Confidence = 0.609 Lift = 1.281\n",
      "68: {'Brownie', 'Cookies'} -> {'Coffee'} Support = 0.002 Confidence = 0.625 Lift = 1.316\n",
      "69: {'Brownie', 'Cookies'} -> {'Coffee'} Support = 0.002 Confidence = 0.625 Lift = 1.316\n",
      "70: {'Brownie', 'Sandwich'} -> {'Coffee'} Support = 0.001 Confidence = 0.636 Lift = 1.339\n",
      "71: {'Hot chocolate', 'Cookies'} -> {'Coffee'} Support = 0.004 Confidence = 0.614 Lift = 1.292\n",
      "72: {'Cookies', 'Medialuna'} -> {'Coffee'} Support = 0.002 Confidence = 0.667 Lift = 1.403\n",
      "73: {'Cookies', 'Medialuna'} -> {'Coffee'} Support = 0.002 Confidence = 0.667 Lift = 1.403\n",
      "74: {'Cookies', 'Pastry'} -> {'Coffee'} Support = 0.002 Confidence = 0.607 Lift = 1.278\n",
      "75: {'Cookies', 'Pastry'} -> {'Coffee'} Support = 0.002 Confidence = 0.607 Lift = 1.278\n",
      "76: {'Cookies', 'NONE'} -> {'Coffee'} Support = 0.002 Confidence = 0.741 Lift = 1.559\n",
      "77: {'Cookies', 'NONE'} -> {'Coffee'} Support = 0.002 Confidence = 0.741 Lift = 1.559\n",
      "78: {'Hot chocolate', 'Cookies', 'Sandwich'} -> {'Coffee'} Support = 0.001 Confidence = 0.857 Lift = 1.804\n",
      "79: {'Cookies', 'Tea', 'Sandwich'} -> {'Coffee'} Support = 0.001 Confidence = 0.750 Lift = 1.579\n",
      "80: {'Hot chocolate', 'Cookies'} -> {'Coffee'} Support = 0.004 Confidence = 0.614 Lift = 1.292\n",
      "81: {'Hot chocolate', 'Cookies'} -> {'Coffee'} Support = 0.004 Confidence = 0.614 Lift = 1.292\n",
      "82: {'Hot chocolate', 'Cookies'} -> {'Coffee'} Support = 0.004 Confidence = 0.614 Lift = 1.292\n",
      "83: {'Hot chocolate', 'NONE', 'Medialuna'} -> {'Coffee'} Support = 0.001 Confidence = 0.909 Lift = 1.914\n",
      "84: {'Hot chocolate', 'Medialuna'} -> {'Coffee'} Support = 0.003 Confidence = 0.644 Lift = 1.356\n",
      "85: {'Hot chocolate', 'Medialuna'} -> {'Coffee'} Support = 0.003 Confidence = 0.644 Lift = 1.356\n",
      "86: {'Hot chocolate', 'Pastry', 'Bread'} -> {'Coffee'} Support = 0.001 Confidence = 0.667 Lift = 1.403\n",
      "87: {'Hot chocolate', 'Pastry'} -> {'Coffee'} Support = 0.004 Confidence = 0.667 Lift = 1.403\n",
      "88: {'Hot chocolate', 'Pastry'} -> {'Coffee'} Support = 0.004 Confidence = 0.667 Lift = 1.403\n",
      "89: {'Hot chocolate', 'NONE'} -> {'Coffee'} Support = 0.004 Confidence = 0.621 Lift = 1.306\n",
      "90: {'Hot chocolate', 'Cake'} -> {'Coffee'} Support = 0.007 Confidence = 0.602 Lift = 1.267\n",
      "91: {'Hot chocolate', 'Cake'} -> {'Coffee'} Support = 0.007 Confidence = 0.602 Lift = 1.267\n",
      "92: {'Medialuna', 'Sandwich'} -> {'Coffee'} Support = 0.001 Confidence = 0.650 Lift = 1.368\n",
      "93: {'Tea', 'Cake', 'Medialuna'} -> {'Coffee'} Support = 0.001 Confidence = 0.667 Lift = 1.403\n",
      "94: {'Cake', 'Medialuna'} -> {'Coffee'} Support = 0.003 Confidence = 0.686 Lift = 1.443\n",
      "95: {'Cake', 'Medialuna'} -> {'Coffee'} Support = 0.003 Confidence = 0.686 Lift = 1.443\n",
      "96: {'NONE', 'Medialuna'} -> {'Coffee'} Support = 0.003 Confidence = 0.684 Lift = 1.440\n",
      "97: {'Pastry', 'Sandwich'} -> {'Coffee'} Support = 0.001 Confidence = 0.818 Lift = 1.722\n",
      "98: {'Tea', 'Cake', 'Sandwich'} -> {'Coffee'} Support = 0.001 Confidence = 0.714 Lift = 1.504\n",
      "99: {'Cake', 'Sandwich'} -> {'Coffee'} Support = 0.005 Confidence = 0.677 Lift = 1.425\n",
      "100: {'Cake', 'Sandwich'} -> {'Coffee'} Support = 0.005 Confidence = 0.677 Lift = 1.425\n",
      "101: {'Cake', 'Sandwich'} -> {'Coffee'} Support = 0.005 Confidence = 0.677 Lift = 1.425\n",
      "102: {'Cake', 'Sandwich'} -> {'Coffee'} Support = 0.005 Confidence = 0.677 Lift = 1.425\n",
      "103: {'NONE', 'Pastry'} -> {'Coffee'} Support = 0.003 Confidence = 0.636 Lift = 1.339\n",
      "104: {'NONE', 'Pastry'} -> {'Coffee'} Support = 0.003 Confidence = 0.636 Lift = 1.339\n",
      "105: {'NONE', 'Cake'} -> {'Coffee'} Support = 0.003 Confidence = 0.667 Lift = 1.403\n",
      "106: {'NONE', 'Cake'} -> {'Coffee'} Support = 0.003 Confidence = 0.667 Lift = 1.403\n"
     ]
    }
   ],
   "execution_count": 44
  },
  {
   "metadata": {
    "ExecuteTime": {
     "end_time": "2025-09-20T07:36:23.408047Z",
     "start_time": "2025-09-20T07:36:23.381594Z"
    }
   },
   "cell_type": "code",
   "source": [
    "PyARMViz.metadata_scatter_plot(rules_pyarmviz)\n",
    "PyARMViz.adjacency_graph_plotly(rules_pyarmviz)\n",
    "# PyARMViz.adjacency_parallel_coordinate_plot(rules_pyarmviz)\n",
    "# PyARMViz.adjacency_parallel_category_plot(rules_pyarmviz)"
   ],
   "id": "28552d47f9bcdab8",
   "outputs": [
    {
     "data": {
      "application/vnd.plotly.v1+json": {
       "data": [
        {
         "marker": {
          "color": [
           1.7171575692765482,
           1.7039689550731953
          ],
          "colorbar": {
           "title": {
            "text": "Lift"
           }
          },
          "colorscale": [
           [
            0.0,
            "rgb(243, 224, 247)"
           ],
           [
            0.16666666666666666,
            "rgb(228, 199, 241)"
           ],
           [
            0.3333333333333333,
            "rgb(209, 175, 232)"
           ],
           [
            0.5,
            "rgb(185, 152, 221)"
           ],
           [
            0.6666666666666666,
            "rgb(159, 130, 206)"
           ],
           [
            0.8333333333333334,
            "rgb(130, 109, 186)"
           ],
           [
            1.0,
            "rgb(99, 88, 159)"
           ]
          ]
         },
         "mode": "markers",
         "text": [
          "('Extra Salami or Feta',) => ('Coffee',), Lift: 1.7171575692765482",
          "('Keeping It Local',) => ('Coffee',), Lift: 1.7039689550731953"
         ],
         "x": [
          0.003252544329031581,
          0.0053509600251809885
         ],
         "y": [
          0.8157894736842105,
          0.8095238095238095
         ],
         "type": "scatter"
        }
       ],
       "layout": {
        "template": {
         "data": {
          "histogram2dcontour": [
           {
            "type": "histogram2dcontour",
            "colorbar": {
             "outlinewidth": 0,
             "ticks": ""
            },
            "colorscale": [
             [
              0.0,
              "#0d0887"
             ],
             [
              0.1111111111111111,
              "#46039f"
             ],
             [
              0.2222222222222222,
              "#7201a8"
             ],
             [
              0.3333333333333333,
              "#9c179e"
             ],
             [
              0.4444444444444444,
              "#bd3786"
             ],
             [
              0.5555555555555556,
              "#d8576b"
             ],
             [
              0.6666666666666666,
              "#ed7953"
             ],
             [
              0.7777777777777778,
              "#fb9f3a"
             ],
             [
              0.8888888888888888,
              "#fdca26"
             ],
             [
              1.0,
              "#f0f921"
             ]
            ]
           }
          ],
          "choropleth": [
           {
            "type": "choropleth",
            "colorbar": {
             "outlinewidth": 0,
             "ticks": ""
            }
           }
          ],
          "histogram2d": [
           {
            "type": "histogram2d",
            "colorbar": {
             "outlinewidth": 0,
             "ticks": ""
            },
            "colorscale": [
             [
              0.0,
              "#0d0887"
             ],
             [
              0.1111111111111111,
              "#46039f"
             ],
             [
              0.2222222222222222,
              "#7201a8"
             ],
             [
              0.3333333333333333,
              "#9c179e"
             ],
             [
              0.4444444444444444,
              "#bd3786"
             ],
             [
              0.5555555555555556,
              "#d8576b"
             ],
             [
              0.6666666666666666,
              "#ed7953"
             ],
             [
              0.7777777777777778,
              "#fb9f3a"
             ],
             [
              0.8888888888888888,
              "#fdca26"
             ],
             [
              1.0,
              "#f0f921"
             ]
            ]
           }
          ],
          "heatmap": [
           {
            "type": "heatmap",
            "colorbar": {
             "outlinewidth": 0,
             "ticks": ""
            },
            "colorscale": [
             [
              0.0,
              "#0d0887"
             ],
             [
              0.1111111111111111,
              "#46039f"
             ],
             [
              0.2222222222222222,
              "#7201a8"
             ],
             [
              0.3333333333333333,
              "#9c179e"
             ],
             [
              0.4444444444444444,
              "#bd3786"
             ],
             [
              0.5555555555555556,
              "#d8576b"
             ],
             [
              0.6666666666666666,
              "#ed7953"
             ],
             [
              0.7777777777777778,
              "#fb9f3a"
             ],
             [
              0.8888888888888888,
              "#fdca26"
             ],
             [
              1.0,
              "#f0f921"
             ]
            ]
           }
          ],
          "heatmapgl": [
           {
            "type": "heatmapgl",
            "colorbar": {
             "outlinewidth": 0,
             "ticks": ""
            },
            "colorscale": [
             [
              0.0,
              "#0d0887"
             ],
             [
              0.1111111111111111,
              "#46039f"
             ],
             [
              0.2222222222222222,
              "#7201a8"
             ],
             [
              0.3333333333333333,
              "#9c179e"
             ],
             [
              0.4444444444444444,
              "#bd3786"
             ],
             [
              0.5555555555555556,
              "#d8576b"
             ],
             [
              0.6666666666666666,
              "#ed7953"
             ],
             [
              0.7777777777777778,
              "#fb9f3a"
             ],
             [
              0.8888888888888888,
              "#fdca26"
             ],
             [
              1.0,
              "#f0f921"
             ]
            ]
           }
          ],
          "contourcarpet": [
           {
            "type": "contourcarpet",
            "colorbar": {
             "outlinewidth": 0,
             "ticks": ""
            }
           }
          ],
          "contour": [
           {
            "type": "contour",
            "colorbar": {
             "outlinewidth": 0,
             "ticks": ""
            },
            "colorscale": [
             [
              0.0,
              "#0d0887"
             ],
             [
              0.1111111111111111,
              "#46039f"
             ],
             [
              0.2222222222222222,
              "#7201a8"
             ],
             [
              0.3333333333333333,
              "#9c179e"
             ],
             [
              0.4444444444444444,
              "#bd3786"
             ],
             [
              0.5555555555555556,
              "#d8576b"
             ],
             [
              0.6666666666666666,
              "#ed7953"
             ],
             [
              0.7777777777777778,
              "#fb9f3a"
             ],
             [
              0.8888888888888888,
              "#fdca26"
             ],
             [
              1.0,
              "#f0f921"
             ]
            ]
           }
          ],
          "surface": [
           {
            "type": "surface",
            "colorbar": {
             "outlinewidth": 0,
             "ticks": ""
            },
            "colorscale": [
             [
              0.0,
              "#0d0887"
             ],
             [
              0.1111111111111111,
              "#46039f"
             ],
             [
              0.2222222222222222,
              "#7201a8"
             ],
             [
              0.3333333333333333,
              "#9c179e"
             ],
             [
              0.4444444444444444,
              "#bd3786"
             ],
             [
              0.5555555555555556,
              "#d8576b"
             ],
             [
              0.6666666666666666,
              "#ed7953"
             ],
             [
              0.7777777777777778,
              "#fb9f3a"
             ],
             [
              0.8888888888888888,
              "#fdca26"
             ],
             [
              1.0,
              "#f0f921"
             ]
            ]
           }
          ],
          "mesh3d": [
           {
            "type": "mesh3d",
            "colorbar": {
             "outlinewidth": 0,
             "ticks": ""
            }
           }
          ],
          "scatter": [
           {
            "fillpattern": {
             "fillmode": "overlay",
             "size": 10,
             "solidity": 0.2
            },
            "type": "scatter"
           }
          ],
          "parcoords": [
           {
            "type": "parcoords",
            "line": {
             "colorbar": {
              "outlinewidth": 0,
              "ticks": ""
             }
            }
           }
          ],
          "scatterpolargl": [
           {
            "type": "scatterpolargl",
            "marker": {
             "colorbar": {
              "outlinewidth": 0,
              "ticks": ""
             }
            }
           }
          ],
          "bar": [
           {
            "error_x": {
             "color": "#2a3f5f"
            },
            "error_y": {
             "color": "#2a3f5f"
            },
            "marker": {
             "line": {
              "color": "#E5ECF6",
              "width": 0.5
             },
             "pattern": {
              "fillmode": "overlay",
              "size": 10,
              "solidity": 0.2
             }
            },
            "type": "bar"
           }
          ],
          "scattergeo": [
           {
            "type": "scattergeo",
            "marker": {
             "colorbar": {
              "outlinewidth": 0,
              "ticks": ""
             }
            }
           }
          ],
          "scatterpolar": [
           {
            "type": "scatterpolar",
            "marker": {
             "colorbar": {
              "outlinewidth": 0,
              "ticks": ""
             }
            }
           }
          ],
          "histogram": [
           {
            "marker": {
             "pattern": {
              "fillmode": "overlay",
              "size": 10,
              "solidity": 0.2
             }
            },
            "type": "histogram"
           }
          ],
          "scattergl": [
           {
            "type": "scattergl",
            "marker": {
             "colorbar": {
              "outlinewidth": 0,
              "ticks": ""
             }
            }
           }
          ],
          "scatter3d": [
           {
            "type": "scatter3d",
            "line": {
             "colorbar": {
              "outlinewidth": 0,
              "ticks": ""
             }
            },
            "marker": {
             "colorbar": {
              "outlinewidth": 0,
              "ticks": ""
             }
            }
           }
          ],
          "scattermapbox": [
           {
            "type": "scattermapbox",
            "marker": {
             "colorbar": {
              "outlinewidth": 0,
              "ticks": ""
             }
            }
           }
          ],
          "scatterternary": [
           {
            "type": "scatterternary",
            "marker": {
             "colorbar": {
              "outlinewidth": 0,
              "ticks": ""
             }
            }
           }
          ],
          "scattercarpet": [
           {
            "type": "scattercarpet",
            "marker": {
             "colorbar": {
              "outlinewidth": 0,
              "ticks": ""
             }
            }
           }
          ],
          "carpet": [
           {
            "aaxis": {
             "endlinecolor": "#2a3f5f",
             "gridcolor": "white",
             "linecolor": "white",
             "minorgridcolor": "white",
             "startlinecolor": "#2a3f5f"
            },
            "baxis": {
             "endlinecolor": "#2a3f5f",
             "gridcolor": "white",
             "linecolor": "white",
             "minorgridcolor": "white",
             "startlinecolor": "#2a3f5f"
            },
            "type": "carpet"
           }
          ],
          "table": [
           {
            "cells": {
             "fill": {
              "color": "#EBF0F8"
             },
             "line": {
              "color": "white"
             }
            },
            "header": {
             "fill": {
              "color": "#C8D4E3"
             },
             "line": {
              "color": "white"
             }
            },
            "type": "table"
           }
          ],
          "barpolar": [
           {
            "marker": {
             "line": {
              "color": "#E5ECF6",
              "width": 0.5
             },
             "pattern": {
              "fillmode": "overlay",
              "size": 10,
              "solidity": 0.2
             }
            },
            "type": "barpolar"
           }
          ],
          "pie": [
           {
            "automargin": true,
            "type": "pie"
           }
          ]
         },
         "layout": {
          "autotypenumbers": "strict",
          "colorway": [
           "#636efa",
           "#EF553B",
           "#00cc96",
           "#ab63fa",
           "#FFA15A",
           "#19d3f3",
           "#FF6692",
           "#B6E880",
           "#FF97FF",
           "#FECB52"
          ],
          "font": {
           "color": "#2a3f5f"
          },
          "hovermode": "closest",
          "hoverlabel": {
           "align": "left"
          },
          "paper_bgcolor": "white",
          "plot_bgcolor": "#E5ECF6",
          "polar": {
           "bgcolor": "#E5ECF6",
           "angularaxis": {
            "gridcolor": "white",
            "linecolor": "white",
            "ticks": ""
           },
           "radialaxis": {
            "gridcolor": "white",
            "linecolor": "white",
            "ticks": ""
           }
          },
          "ternary": {
           "bgcolor": "#E5ECF6",
           "aaxis": {
            "gridcolor": "white",
            "linecolor": "white",
            "ticks": ""
           },
           "baxis": {
            "gridcolor": "white",
            "linecolor": "white",
            "ticks": ""
           },
           "caxis": {
            "gridcolor": "white",
            "linecolor": "white",
            "ticks": ""
           }
          },
          "coloraxis": {
           "colorbar": {
            "outlinewidth": 0,
            "ticks": ""
           }
          },
          "colorscale": {
           "sequential": [
            [
             0.0,
             "#0d0887"
            ],
            [
             0.1111111111111111,
             "#46039f"
            ],
            [
             0.2222222222222222,
             "#7201a8"
            ],
            [
             0.3333333333333333,
             "#9c179e"
            ],
            [
             0.4444444444444444,
             "#bd3786"
            ],
            [
             0.5555555555555556,
             "#d8576b"
            ],
            [
             0.6666666666666666,
             "#ed7953"
            ],
            [
             0.7777777777777778,
             "#fb9f3a"
            ],
            [
             0.8888888888888888,
             "#fdca26"
            ],
            [
             1.0,
             "#f0f921"
            ]
           ],
           "sequentialminus": [
            [
             0.0,
             "#0d0887"
            ],
            [
             0.1111111111111111,
             "#46039f"
            ],
            [
             0.2222222222222222,
             "#7201a8"
            ],
            [
             0.3333333333333333,
             "#9c179e"
            ],
            [
             0.4444444444444444,
             "#bd3786"
            ],
            [
             0.5555555555555556,
             "#d8576b"
            ],
            [
             0.6666666666666666,
             "#ed7953"
            ],
            [
             0.7777777777777778,
             "#fb9f3a"
            ],
            [
             0.8888888888888888,
             "#fdca26"
            ],
            [
             1.0,
             "#f0f921"
            ]
           ],
           "diverging": [
            [
             0,
             "#8e0152"
            ],
            [
             0.1,
             "#c51b7d"
            ],
            [
             0.2,
             "#de77ae"
            ],
            [
             0.3,
             "#f1b6da"
            ],
            [
             0.4,
             "#fde0ef"
            ],
            [
             0.5,
             "#f7f7f7"
            ],
            [
             0.6,
             "#e6f5d0"
            ],
            [
             0.7,
             "#b8e186"
            ],
            [
             0.8,
             "#7fbc41"
            ],
            [
             0.9,
             "#4d9221"
            ],
            [
             1,
             "#276419"
            ]
           ]
          },
          "xaxis": {
           "gridcolor": "white",
           "linecolor": "white",
           "ticks": "",
           "title": {
            "standoff": 15
           },
           "zerolinecolor": "white",
           "automargin": true,
           "zerolinewidth": 2
          },
          "yaxis": {
           "gridcolor": "white",
           "linecolor": "white",
           "ticks": "",
           "title": {
            "standoff": 15
           },
           "zerolinecolor": "white",
           "automargin": true,
           "zerolinewidth": 2
          },
          "scene": {
           "xaxis": {
            "backgroundcolor": "#E5ECF6",
            "gridcolor": "white",
            "linecolor": "white",
            "showbackground": true,
            "ticks": "",
            "zerolinecolor": "white",
            "gridwidth": 2
           },
           "yaxis": {
            "backgroundcolor": "#E5ECF6",
            "gridcolor": "white",
            "linecolor": "white",
            "showbackground": true,
            "ticks": "",
            "zerolinecolor": "white",
            "gridwidth": 2
           },
           "zaxis": {
            "backgroundcolor": "#E5ECF6",
            "gridcolor": "white",
            "linecolor": "white",
            "showbackground": true,
            "ticks": "",
            "zerolinecolor": "white",
            "gridwidth": 2
           }
          },
          "shapedefaults": {
           "line": {
            "color": "#2a3f5f"
           }
          },
          "annotationdefaults": {
           "arrowcolor": "#2a3f5f",
           "arrowhead": 0,
           "arrowwidth": 1
          },
          "geo": {
           "bgcolor": "white",
           "landcolor": "#E5ECF6",
           "subunitcolor": "white",
           "showland": true,
           "showlakes": true,
           "lakecolor": "white"
          },
          "title": {
           "x": 0.05
          },
          "mapbox": {
           "style": "light"
          }
         }
        },
        "xaxis": {
         "title": {
          "text": "Support"
         },
         "autorange": "reversed"
        },
        "title": {
         "text": "Association Rules Strength Distribution"
        },
        "yaxis": {
         "title": {
          "text": "Confidence"
         }
        }
       },
       "config": {
        "plotlyServerURL": "https://plot.ly"
       }
      },
      "text/html": [
       "<div>                            <div id=\"66690fc9-2e43-47ae-acd6-dedeff95fbfe\" class=\"plotly-graph-div\" style=\"height:525px; width:100%;\"></div>            <script type=\"text/javascript\">                require([\"plotly\"], function(Plotly) {                    window.PLOTLYENV=window.PLOTLYENV || {};                                    if (document.getElementById(\"66690fc9-2e43-47ae-acd6-dedeff95fbfe\")) {                    Plotly.newPlot(                        \"66690fc9-2e43-47ae-acd6-dedeff95fbfe\",                        [{\"marker\":{\"color\":[1.7171575692765482,1.7039689550731953],\"colorbar\":{\"title\":{\"text\":\"Lift\"}},\"colorscale\":[[0.0,\"rgb(243, 224, 247)\"],[0.16666666666666666,\"rgb(228, 199, 241)\"],[0.3333333333333333,\"rgb(209, 175, 232)\"],[0.5,\"rgb(185, 152, 221)\"],[0.6666666666666666,\"rgb(159, 130, 206)\"],[0.8333333333333334,\"rgb(130, 109, 186)\"],[1.0,\"rgb(99, 88, 159)\"]]},\"mode\":\"markers\",\"text\":[\"('Extra Salami or Feta',) =\\u003e ('Coffee',), Lift: 1.7171575692765482\",\"('Keeping It Local',) =\\u003e ('Coffee',), Lift: 1.7039689550731953\"],\"x\":[0.003252544329031581,0.0053509600251809885],\"y\":[0.8157894736842105,0.8095238095238095],\"type\":\"scatter\"}],                        {\"template\":{\"data\":{\"histogram2dcontour\":[{\"type\":\"histogram2dcontour\",\"colorbar\":{\"outlinewidth\":0,\"ticks\":\"\"},\"colorscale\":[[0.0,\"#0d0887\"],[0.1111111111111111,\"#46039f\"],[0.2222222222222222,\"#7201a8\"],[0.3333333333333333,\"#9c179e\"],[0.4444444444444444,\"#bd3786\"],[0.5555555555555556,\"#d8576b\"],[0.6666666666666666,\"#ed7953\"],[0.7777777777777778,\"#fb9f3a\"],[0.8888888888888888,\"#fdca26\"],[1.0,\"#f0f921\"]]}],\"choropleth\":[{\"type\":\"choropleth\",\"colorbar\":{\"outlinewidth\":0,\"ticks\":\"\"}}],\"histogram2d\":[{\"type\":\"histogram2d\",\"colorbar\":{\"outlinewidth\":0,\"ticks\":\"\"},\"colorscale\":[[0.0,\"#0d0887\"],[0.1111111111111111,\"#46039f\"],[0.2222222222222222,\"#7201a8\"],[0.3333333333333333,\"#9c179e\"],[0.4444444444444444,\"#bd3786\"],[0.5555555555555556,\"#d8576b\"],[0.6666666666666666,\"#ed7953\"],[0.7777777777777778,\"#fb9f3a\"],[0.8888888888888888,\"#fdca26\"],[1.0,\"#f0f921\"]]}],\"heatmap\":[{\"type\":\"heatmap\",\"colorbar\":{\"outlinewidth\":0,\"ticks\":\"\"},\"colorscale\":[[0.0,\"#0d0887\"],[0.1111111111111111,\"#46039f\"],[0.2222222222222222,\"#7201a8\"],[0.3333333333333333,\"#9c179e\"],[0.4444444444444444,\"#bd3786\"],[0.5555555555555556,\"#d8576b\"],[0.6666666666666666,\"#ed7953\"],[0.7777777777777778,\"#fb9f3a\"],[0.8888888888888888,\"#fdca26\"],[1.0,\"#f0f921\"]]}],\"heatmapgl\":[{\"type\":\"heatmapgl\",\"colorbar\":{\"outlinewidth\":0,\"ticks\":\"\"},\"colorscale\":[[0.0,\"#0d0887\"],[0.1111111111111111,\"#46039f\"],[0.2222222222222222,\"#7201a8\"],[0.3333333333333333,\"#9c179e\"],[0.4444444444444444,\"#bd3786\"],[0.5555555555555556,\"#d8576b\"],[0.6666666666666666,\"#ed7953\"],[0.7777777777777778,\"#fb9f3a\"],[0.8888888888888888,\"#fdca26\"],[1.0,\"#f0f921\"]]}],\"contourcarpet\":[{\"type\":\"contourcarpet\",\"colorbar\":{\"outlinewidth\":0,\"ticks\":\"\"}}],\"contour\":[{\"type\":\"contour\",\"colorbar\":{\"outlinewidth\":0,\"ticks\":\"\"},\"colorscale\":[[0.0,\"#0d0887\"],[0.1111111111111111,\"#46039f\"],[0.2222222222222222,\"#7201a8\"],[0.3333333333333333,\"#9c179e\"],[0.4444444444444444,\"#bd3786\"],[0.5555555555555556,\"#d8576b\"],[0.6666666666666666,\"#ed7953\"],[0.7777777777777778,\"#fb9f3a\"],[0.8888888888888888,\"#fdca26\"],[1.0,\"#f0f921\"]]}],\"surface\":[{\"type\":\"surface\",\"colorbar\":{\"outlinewidth\":0,\"ticks\":\"\"},\"colorscale\":[[0.0,\"#0d0887\"],[0.1111111111111111,\"#46039f\"],[0.2222222222222222,\"#7201a8\"],[0.3333333333333333,\"#9c179e\"],[0.4444444444444444,\"#bd3786\"],[0.5555555555555556,\"#d8576b\"],[0.6666666666666666,\"#ed7953\"],[0.7777777777777778,\"#fb9f3a\"],[0.8888888888888888,\"#fdca26\"],[1.0,\"#f0f921\"]]}],\"mesh3d\":[{\"type\":\"mesh3d\",\"colorbar\":{\"outlinewidth\":0,\"ticks\":\"\"}}],\"scatter\":[{\"fillpattern\":{\"fillmode\":\"overlay\",\"size\":10,\"solidity\":0.2},\"type\":\"scatter\"}],\"parcoords\":[{\"type\":\"parcoords\",\"line\":{\"colorbar\":{\"outlinewidth\":0,\"ticks\":\"\"}}}],\"scatterpolargl\":[{\"type\":\"scatterpolargl\",\"marker\":{\"colorbar\":{\"outlinewidth\":0,\"ticks\":\"\"}}}],\"bar\":[{\"error_x\":{\"color\":\"#2a3f5f\"},\"error_y\":{\"color\":\"#2a3f5f\"},\"marker\":{\"line\":{\"color\":\"#E5ECF6\",\"width\":0.5},\"pattern\":{\"fillmode\":\"overlay\",\"size\":10,\"solidity\":0.2}},\"type\":\"bar\"}],\"scattergeo\":[{\"type\":\"scattergeo\",\"marker\":{\"colorbar\":{\"outlinewidth\":0,\"ticks\":\"\"}}}],\"scatterpolar\":[{\"type\":\"scatterpolar\",\"marker\":{\"colorbar\":{\"outlinewidth\":0,\"ticks\":\"\"}}}],\"histogram\":[{\"marker\":{\"pattern\":{\"fillmode\":\"overlay\",\"size\":10,\"solidity\":0.2}},\"type\":\"histogram\"}],\"scattergl\":[{\"type\":\"scattergl\",\"marker\":{\"colorbar\":{\"outlinewidth\":0,\"ticks\":\"\"}}}],\"scatter3d\":[{\"type\":\"scatter3d\",\"line\":{\"colorbar\":{\"outlinewidth\":0,\"ticks\":\"\"}},\"marker\":{\"colorbar\":{\"outlinewidth\":0,\"ticks\":\"\"}}}],\"scattermapbox\":[{\"type\":\"scattermapbox\",\"marker\":{\"colorbar\":{\"outlinewidth\":0,\"ticks\":\"\"}}}],\"scatterternary\":[{\"type\":\"scatterternary\",\"marker\":{\"colorbar\":{\"outlinewidth\":0,\"ticks\":\"\"}}}],\"scattercarpet\":[{\"type\":\"scattercarpet\",\"marker\":{\"colorbar\":{\"outlinewidth\":0,\"ticks\":\"\"}}}],\"carpet\":[{\"aaxis\":{\"endlinecolor\":\"#2a3f5f\",\"gridcolor\":\"white\",\"linecolor\":\"white\",\"minorgridcolor\":\"white\",\"startlinecolor\":\"#2a3f5f\"},\"baxis\":{\"endlinecolor\":\"#2a3f5f\",\"gridcolor\":\"white\",\"linecolor\":\"white\",\"minorgridcolor\":\"white\",\"startlinecolor\":\"#2a3f5f\"},\"type\":\"carpet\"}],\"table\":[{\"cells\":{\"fill\":{\"color\":\"#EBF0F8\"},\"line\":{\"color\":\"white\"}},\"header\":{\"fill\":{\"color\":\"#C8D4E3\"},\"line\":{\"color\":\"white\"}},\"type\":\"table\"}],\"barpolar\":[{\"marker\":{\"line\":{\"color\":\"#E5ECF6\",\"width\":0.5},\"pattern\":{\"fillmode\":\"overlay\",\"size\":10,\"solidity\":0.2}},\"type\":\"barpolar\"}],\"pie\":[{\"automargin\":true,\"type\":\"pie\"}]},\"layout\":{\"autotypenumbers\":\"strict\",\"colorway\":[\"#636efa\",\"#EF553B\",\"#00cc96\",\"#ab63fa\",\"#FFA15A\",\"#19d3f3\",\"#FF6692\",\"#B6E880\",\"#FF97FF\",\"#FECB52\"],\"font\":{\"color\":\"#2a3f5f\"},\"hovermode\":\"closest\",\"hoverlabel\":{\"align\":\"left\"},\"paper_bgcolor\":\"white\",\"plot_bgcolor\":\"#E5ECF6\",\"polar\":{\"bgcolor\":\"#E5ECF6\",\"angularaxis\":{\"gridcolor\":\"white\",\"linecolor\":\"white\",\"ticks\":\"\"},\"radialaxis\":{\"gridcolor\":\"white\",\"linecolor\":\"white\",\"ticks\":\"\"}},\"ternary\":{\"bgcolor\":\"#E5ECF6\",\"aaxis\":{\"gridcolor\":\"white\",\"linecolor\":\"white\",\"ticks\":\"\"},\"baxis\":{\"gridcolor\":\"white\",\"linecolor\":\"white\",\"ticks\":\"\"},\"caxis\":{\"gridcolor\":\"white\",\"linecolor\":\"white\",\"ticks\":\"\"}},\"coloraxis\":{\"colorbar\":{\"outlinewidth\":0,\"ticks\":\"\"}},\"colorscale\":{\"sequential\":[[0.0,\"#0d0887\"],[0.1111111111111111,\"#46039f\"],[0.2222222222222222,\"#7201a8\"],[0.3333333333333333,\"#9c179e\"],[0.4444444444444444,\"#bd3786\"],[0.5555555555555556,\"#d8576b\"],[0.6666666666666666,\"#ed7953\"],[0.7777777777777778,\"#fb9f3a\"],[0.8888888888888888,\"#fdca26\"],[1.0,\"#f0f921\"]],\"sequentialminus\":[[0.0,\"#0d0887\"],[0.1111111111111111,\"#46039f\"],[0.2222222222222222,\"#7201a8\"],[0.3333333333333333,\"#9c179e\"],[0.4444444444444444,\"#bd3786\"],[0.5555555555555556,\"#d8576b\"],[0.6666666666666666,\"#ed7953\"],[0.7777777777777778,\"#fb9f3a\"],[0.8888888888888888,\"#fdca26\"],[1.0,\"#f0f921\"]],\"diverging\":[[0,\"#8e0152\"],[0.1,\"#c51b7d\"],[0.2,\"#de77ae\"],[0.3,\"#f1b6da\"],[0.4,\"#fde0ef\"],[0.5,\"#f7f7f7\"],[0.6,\"#e6f5d0\"],[0.7,\"#b8e186\"],[0.8,\"#7fbc41\"],[0.9,\"#4d9221\"],[1,\"#276419\"]]},\"xaxis\":{\"gridcolor\":\"white\",\"linecolor\":\"white\",\"ticks\":\"\",\"title\":{\"standoff\":15},\"zerolinecolor\":\"white\",\"automargin\":true,\"zerolinewidth\":2},\"yaxis\":{\"gridcolor\":\"white\",\"linecolor\":\"white\",\"ticks\":\"\",\"title\":{\"standoff\":15},\"zerolinecolor\":\"white\",\"automargin\":true,\"zerolinewidth\":2},\"scene\":{\"xaxis\":{\"backgroundcolor\":\"#E5ECF6\",\"gridcolor\":\"white\",\"linecolor\":\"white\",\"showbackground\":true,\"ticks\":\"\",\"zerolinecolor\":\"white\",\"gridwidth\":2},\"yaxis\":{\"backgroundcolor\":\"#E5ECF6\",\"gridcolor\":\"white\",\"linecolor\":\"white\",\"showbackground\":true,\"ticks\":\"\",\"zerolinecolor\":\"white\",\"gridwidth\":2},\"zaxis\":{\"backgroundcolor\":\"#E5ECF6\",\"gridcolor\":\"white\",\"linecolor\":\"white\",\"showbackground\":true,\"ticks\":\"\",\"zerolinecolor\":\"white\",\"gridwidth\":2}},\"shapedefaults\":{\"line\":{\"color\":\"#2a3f5f\"}},\"annotationdefaults\":{\"arrowcolor\":\"#2a3f5f\",\"arrowhead\":0,\"arrowwidth\":1},\"geo\":{\"bgcolor\":\"white\",\"landcolor\":\"#E5ECF6\",\"subunitcolor\":\"white\",\"showland\":true,\"showlakes\":true,\"lakecolor\":\"white\"},\"title\":{\"x\":0.05},\"mapbox\":{\"style\":\"light\"}}},\"xaxis\":{\"title\":{\"text\":\"Support\"},\"autorange\":\"reversed\"},\"title\":{\"text\":\"Association Rules Strength Distribution\"},\"yaxis\":{\"title\":{\"text\":\"Confidence\"}}},                        {\"responsive\": true}                    ).then(function(){\n",
       "                            \n",
       "var gd = document.getElementById('66690fc9-2e43-47ae-acd6-dedeff95fbfe');\n",
       "var x = new MutationObserver(function (mutations, observer) {{\n",
       "        var display = window.getComputedStyle(gd).display;\n",
       "        if (!display || display === 'none') {{\n",
       "            console.log([gd, 'removed!']);\n",
       "            Plotly.purge(gd);\n",
       "            observer.disconnect();\n",
       "        }}\n",
       "}});\n",
       "\n",
       "// Listen for the removal of the full notebook cells\n",
       "var notebookContainer = gd.closest('#notebook-container');\n",
       "if (notebookContainer) {{\n",
       "    x.observe(notebookContainer, {childList: true});\n",
       "}}\n",
       "\n",
       "// Listen for the clearing of the current output cell\n",
       "var outputEl = gd.closest('.output');\n",
       "if (outputEl) {{\n",
       "    x.observe(outputEl, {childList: true});\n",
       "}}\n",
       "\n",
       "                        })                };                });            </script>        </div>"
      ]
     },
     "metadata": {},
     "output_type": "display_data",
     "jetTransient": {
      "display_id": null
     }
    },
    {
     "data": {
      "application/vnd.plotly.v1+json": {
       "data": [
        {
         "hoverinfo": "none",
         "line": {
          "color": "#888",
          "width": 0.5
         },
         "mode": "lines",
         "x": [
          -0.764131918510599,
          -0.5738657108156151,
          null,
          0.02644843801576622,
          -0.764131918510599,
          null,
          0.02644843801576622,
          0.13398706854438328,
          null,
          -0.1600097672057971,
          -0.5738657108156151,
          null,
          0.46753311912388046,
          -0.1600097672057971,
          null,
          -0.6078377843610216,
          -0.5738657108156151,
          null,
          0.11812425297847376,
          -0.6078377843610216,
          null,
          -0.2349851128433275,
          -0.6078377843610216,
          null,
          0.13398706854438328,
          -0.5738657108156151,
          null,
          0.5211595156730374,
          0.13398706854438328,
          null,
          0.5211595156730374,
          0.0033417589803920477,
          null,
          -0.17518720109922184,
          -0.5738657108156151,
          null,
          0.5029175118810452,
          -0.17518720109922184,
          null,
          0.2097434917899878,
          -0.17518720109922184,
          null,
          0.2097434917899878,
          0.0033417589803920477,
          null,
          -0.35016656220061815,
          -0.5738657108156151,
          null,
          0.2924489047379016,
          -0.35016656220061815,
          null,
          0.2924489047379016,
          0.04350653542458726,
          null,
          0.2924489047379016,
          -0.1760264128390779,
          null,
          0.3467230311717959,
          -0.35016656220061815,
          null,
          0.04350653542458726,
          -0.5738657108156151,
          null,
          0.20465163664144356,
          0.04350653542458726,
          null,
          -0.5203826414573369,
          -0.5738657108156151,
          null,
          -0.46921959642668204,
          -0.5203826414573369,
          null,
          -0.1705831179899488,
          -0.5203826414573369,
          null,
          0.0033417589803920477,
          -0.5738657108156151,
          null,
          -0.1760264128390779,
          -0.5738657108156151,
          null,
          0.6358428363646256,
          -0.1760264128390779,
          null,
          0.695967724421952,
          -0.1760264128390779,
          null
         ],
         "y": [
          0.11628998037982011,
          0.4340578210177786,
          null,
          -0.4804017098338376,
          0.11628998037982011,
          null,
          -0.4804017098338376,
          -0.0656716157442451,
          null,
          0.05710885565884589,
          0.4340578210177786,
          null,
          -0.3836163782416472,
          0.05710885565884589,
          null,
          -0.2594586895256049,
          0.4340578210177786,
          null,
          -1.0,
          -0.2594586895256049,
          null,
          -0.9657927250049259,
          -0.2594586895256049,
          null,
          -0.0656716157442451,
          0.4340578210177786,
          null,
          0.023803543622187753,
          -0.0656716157442451,
          null,
          0.023803543622187753,
          0.34150214488151515,
          null,
          -0.40649166440687007,
          0.4340578210177786,
          null,
          -0.9301619578150342,
          -0.40649166440687007,
          null,
          -0.20112203450486923,
          -0.40649166440687007,
          null,
          -0.20112203450486923,
          0.34150214488151515,
          null,
          0.7383787228612163,
          0.4340578210177786,
          null,
          0.39099864308156573,
          0.7383787228612163,
          null,
          0.39099864308156573,
          0.15627662732903175,
          null,
          0.39099864308156573,
          0.6191701175575578,
          null,
          0.8494321583484906,
          0.7383787228612163,
          null,
          0.15627662732903175,
          0.4340578210177786,
          null,
          0.6482982278488192,
          0.15627662732903175,
          null,
          -0.15557867400212588,
          0.4340578210177786,
          null,
          -0.07370521240034121,
          -0.15557867400212588,
          null,
          -0.3502944198912131,
          -0.15557867400212588,
          null,
          0.34150214488151515,
          0.4340578210177786,
          null,
          0.6191701175575578,
          0.4340578210177786,
          null,
          0.5617957265089638,
          0.6191701175575578,
          null,
          0.3351825122749218,
          0.6191701175575578,
          null
         ],
         "type": "scatter"
        },
        {
         "hoverinfo": "text",
         "marker": {
          "color": [],
          "colorbar": {
           "thickness": 15,
           "title": {
            "side": "right",
            "text": "Node Connections"
           },
           "xanchor": "left"
          },
          "colorscale": [
           [
            0.0,
            "rgb(255,255,217)"
           ],
           [
            0.125,
            "rgb(237,248,177)"
           ],
           [
            0.25,
            "rgb(199,233,180)"
           ],
           [
            0.375,
            "rgb(127,205,187)"
           ],
           [
            0.5,
            "rgb(65,182,196)"
           ],
           [
            0.625,
            "rgb(29,145,192)"
           ],
           [
            0.75,
            "rgb(34,94,168)"
           ],
           [
            0.875,
            "rgb(37,52,148)"
           ],
           [
            1.0,
            "rgb(8,29,88)"
           ]
          ],
          "line": {
           "width": 2
          },
          "reversescale": true,
          "showscale": true,
          "size": 10
         },
         "mode": "markers",
         "text": [
          "0",
          "Extra Salami or Feta",
          "Coffee",
          "1",
          "Keeping It Local",
          "2",
          "Cake",
          "Vegan mincepie",
          "3",
          "Salad",
          "4",
          "Hearty & Seasonal",
          "Sandwich",
          "5",
          "NONE",
          "Scone",
          "6",
          "Tartine",
          "7",
          "Pastry",
          "Toast",
          "8",
          "9",
          "Hot chocolate",
          "Medialuna"
         ],
         "x": [
          -0.764131918510599,
          0.02644843801576622,
          -0.5738657108156151,
          -0.1600097672057971,
          0.46753311912388046,
          -0.6078377843610216,
          0.11812425297847376,
          -0.2349851128433275,
          0.13398706854438328,
          0.5211595156730374,
          -0.17518720109922184,
          0.5029175118810452,
          0.2097434917899878,
          -0.35016656220061815,
          0.2924489047379016,
          0.3467230311717959,
          0.04350653542458726,
          0.20465163664144356,
          -0.5203826414573369,
          -0.46921959642668204,
          -0.1705831179899488,
          0.0033417589803920477,
          -0.1760264128390779,
          0.6358428363646256,
          0.695967724421952
         ],
         "y": [
          0.11628998037982011,
          -0.4804017098338376,
          0.4340578210177786,
          0.05710885565884589,
          -0.3836163782416472,
          -0.2594586895256049,
          -1.0,
          -0.9657927250049259,
          -0.0656716157442451,
          0.023803543622187753,
          -0.40649166440687007,
          -0.9301619578150342,
          -0.20112203450486923,
          0.7383787228612163,
          0.39099864308156573,
          0.8494321583484906,
          0.15627662732903175,
          0.6482982278488192,
          -0.15557867400212588,
          -0.07370521240034121,
          -0.3502944198912131,
          0.34150214488151515,
          0.6191701175575578,
          0.5617957265089638,
          0.3351825122749218
         ],
         "type": "scatter"
        }
       ],
       "layout": {
        "annotations": [
         {
          "showarrow": false,
          "text": "Python code: <a href='https://plotly.com/ipython-notebooks/network-graphs/'> https://plotly.com/ipython-notebooks/network-graphs/</a>",
          "x": 0.005,
          "xref": "paper",
          "y": -0.002,
          "yref": "paper"
         }
        ],
        "hovermode": "closest",
        "margin": {
         "b": 20,
         "l": 5,
         "r": 5,
         "t": 40
        },
        "showlegend": false,
        "title": {
         "font": {
          "size": 16
         },
         "text": "<br>Network graph made with Python"
        },
        "xaxis": {
         "showgrid": false,
         "showticklabels": false,
         "zeroline": false
        },
        "yaxis": {
         "showgrid": false,
         "showticklabels": false,
         "zeroline": false
        },
        "template": {
         "data": {
          "histogram2dcontour": [
           {
            "type": "histogram2dcontour",
            "colorbar": {
             "outlinewidth": 0,
             "ticks": ""
            },
            "colorscale": [
             [
              0.0,
              "#0d0887"
             ],
             [
              0.1111111111111111,
              "#46039f"
             ],
             [
              0.2222222222222222,
              "#7201a8"
             ],
             [
              0.3333333333333333,
              "#9c179e"
             ],
             [
              0.4444444444444444,
              "#bd3786"
             ],
             [
              0.5555555555555556,
              "#d8576b"
             ],
             [
              0.6666666666666666,
              "#ed7953"
             ],
             [
              0.7777777777777778,
              "#fb9f3a"
             ],
             [
              0.8888888888888888,
              "#fdca26"
             ],
             [
              1.0,
              "#f0f921"
             ]
            ]
           }
          ],
          "choropleth": [
           {
            "type": "choropleth",
            "colorbar": {
             "outlinewidth": 0,
             "ticks": ""
            }
           }
          ],
          "histogram2d": [
           {
            "type": "histogram2d",
            "colorbar": {
             "outlinewidth": 0,
             "ticks": ""
            },
            "colorscale": [
             [
              0.0,
              "#0d0887"
             ],
             [
              0.1111111111111111,
              "#46039f"
             ],
             [
              0.2222222222222222,
              "#7201a8"
             ],
             [
              0.3333333333333333,
              "#9c179e"
             ],
             [
              0.4444444444444444,
              "#bd3786"
             ],
             [
              0.5555555555555556,
              "#d8576b"
             ],
             [
              0.6666666666666666,
              "#ed7953"
             ],
             [
              0.7777777777777778,
              "#fb9f3a"
             ],
             [
              0.8888888888888888,
              "#fdca26"
             ],
             [
              1.0,
              "#f0f921"
             ]
            ]
           }
          ],
          "heatmap": [
           {
            "type": "heatmap",
            "colorbar": {
             "outlinewidth": 0,
             "ticks": ""
            },
            "colorscale": [
             [
              0.0,
              "#0d0887"
             ],
             [
              0.1111111111111111,
              "#46039f"
             ],
             [
              0.2222222222222222,
              "#7201a8"
             ],
             [
              0.3333333333333333,
              "#9c179e"
             ],
             [
              0.4444444444444444,
              "#bd3786"
             ],
             [
              0.5555555555555556,
              "#d8576b"
             ],
             [
              0.6666666666666666,
              "#ed7953"
             ],
             [
              0.7777777777777778,
              "#fb9f3a"
             ],
             [
              0.8888888888888888,
              "#fdca26"
             ],
             [
              1.0,
              "#f0f921"
             ]
            ]
           }
          ],
          "heatmapgl": [
           {
            "type": "heatmapgl",
            "colorbar": {
             "outlinewidth": 0,
             "ticks": ""
            },
            "colorscale": [
             [
              0.0,
              "#0d0887"
             ],
             [
              0.1111111111111111,
              "#46039f"
             ],
             [
              0.2222222222222222,
              "#7201a8"
             ],
             [
              0.3333333333333333,
              "#9c179e"
             ],
             [
              0.4444444444444444,
              "#bd3786"
             ],
             [
              0.5555555555555556,
              "#d8576b"
             ],
             [
              0.6666666666666666,
              "#ed7953"
             ],
             [
              0.7777777777777778,
              "#fb9f3a"
             ],
             [
              0.8888888888888888,
              "#fdca26"
             ],
             [
              1.0,
              "#f0f921"
             ]
            ]
           }
          ],
          "contourcarpet": [
           {
            "type": "contourcarpet",
            "colorbar": {
             "outlinewidth": 0,
             "ticks": ""
            }
           }
          ],
          "contour": [
           {
            "type": "contour",
            "colorbar": {
             "outlinewidth": 0,
             "ticks": ""
            },
            "colorscale": [
             [
              0.0,
              "#0d0887"
             ],
             [
              0.1111111111111111,
              "#46039f"
             ],
             [
              0.2222222222222222,
              "#7201a8"
             ],
             [
              0.3333333333333333,
              "#9c179e"
             ],
             [
              0.4444444444444444,
              "#bd3786"
             ],
             [
              0.5555555555555556,
              "#d8576b"
             ],
             [
              0.6666666666666666,
              "#ed7953"
             ],
             [
              0.7777777777777778,
              "#fb9f3a"
             ],
             [
              0.8888888888888888,
              "#fdca26"
             ],
             [
              1.0,
              "#f0f921"
             ]
            ]
           }
          ],
          "surface": [
           {
            "type": "surface",
            "colorbar": {
             "outlinewidth": 0,
             "ticks": ""
            },
            "colorscale": [
             [
              0.0,
              "#0d0887"
             ],
             [
              0.1111111111111111,
              "#46039f"
             ],
             [
              0.2222222222222222,
              "#7201a8"
             ],
             [
              0.3333333333333333,
              "#9c179e"
             ],
             [
              0.4444444444444444,
              "#bd3786"
             ],
             [
              0.5555555555555556,
              "#d8576b"
             ],
             [
              0.6666666666666666,
              "#ed7953"
             ],
             [
              0.7777777777777778,
              "#fb9f3a"
             ],
             [
              0.8888888888888888,
              "#fdca26"
             ],
             [
              1.0,
              "#f0f921"
             ]
            ]
           }
          ],
          "mesh3d": [
           {
            "type": "mesh3d",
            "colorbar": {
             "outlinewidth": 0,
             "ticks": ""
            }
           }
          ],
          "scatter": [
           {
            "fillpattern": {
             "fillmode": "overlay",
             "size": 10,
             "solidity": 0.2
            },
            "type": "scatter"
           }
          ],
          "parcoords": [
           {
            "type": "parcoords",
            "line": {
             "colorbar": {
              "outlinewidth": 0,
              "ticks": ""
             }
            }
           }
          ],
          "scatterpolargl": [
           {
            "type": "scatterpolargl",
            "marker": {
             "colorbar": {
              "outlinewidth": 0,
              "ticks": ""
             }
            }
           }
          ],
          "bar": [
           {
            "error_x": {
             "color": "#2a3f5f"
            },
            "error_y": {
             "color": "#2a3f5f"
            },
            "marker": {
             "line": {
              "color": "#E5ECF6",
              "width": 0.5
             },
             "pattern": {
              "fillmode": "overlay",
              "size": 10,
              "solidity": 0.2
             }
            },
            "type": "bar"
           }
          ],
          "scattergeo": [
           {
            "type": "scattergeo",
            "marker": {
             "colorbar": {
              "outlinewidth": 0,
              "ticks": ""
             }
            }
           }
          ],
          "scatterpolar": [
           {
            "type": "scatterpolar",
            "marker": {
             "colorbar": {
              "outlinewidth": 0,
              "ticks": ""
             }
            }
           }
          ],
          "histogram": [
           {
            "marker": {
             "pattern": {
              "fillmode": "overlay",
              "size": 10,
              "solidity": 0.2
             }
            },
            "type": "histogram"
           }
          ],
          "scattergl": [
           {
            "type": "scattergl",
            "marker": {
             "colorbar": {
              "outlinewidth": 0,
              "ticks": ""
             }
            }
           }
          ],
          "scatter3d": [
           {
            "type": "scatter3d",
            "line": {
             "colorbar": {
              "outlinewidth": 0,
              "ticks": ""
             }
            },
            "marker": {
             "colorbar": {
              "outlinewidth": 0,
              "ticks": ""
             }
            }
           }
          ],
          "scattermapbox": [
           {
            "type": "scattermapbox",
            "marker": {
             "colorbar": {
              "outlinewidth": 0,
              "ticks": ""
             }
            }
           }
          ],
          "scatterternary": [
           {
            "type": "scatterternary",
            "marker": {
             "colorbar": {
              "outlinewidth": 0,
              "ticks": ""
             }
            }
           }
          ],
          "scattercarpet": [
           {
            "type": "scattercarpet",
            "marker": {
             "colorbar": {
              "outlinewidth": 0,
              "ticks": ""
             }
            }
           }
          ],
          "carpet": [
           {
            "aaxis": {
             "endlinecolor": "#2a3f5f",
             "gridcolor": "white",
             "linecolor": "white",
             "minorgridcolor": "white",
             "startlinecolor": "#2a3f5f"
            },
            "baxis": {
             "endlinecolor": "#2a3f5f",
             "gridcolor": "white",
             "linecolor": "white",
             "minorgridcolor": "white",
             "startlinecolor": "#2a3f5f"
            },
            "type": "carpet"
           }
          ],
          "table": [
           {
            "cells": {
             "fill": {
              "color": "#EBF0F8"
             },
             "line": {
              "color": "white"
             }
            },
            "header": {
             "fill": {
              "color": "#C8D4E3"
             },
             "line": {
              "color": "white"
             }
            },
            "type": "table"
           }
          ],
          "barpolar": [
           {
            "marker": {
             "line": {
              "color": "#E5ECF6",
              "width": 0.5
             },
             "pattern": {
              "fillmode": "overlay",
              "size": 10,
              "solidity": 0.2
             }
            },
            "type": "barpolar"
           }
          ],
          "pie": [
           {
            "automargin": true,
            "type": "pie"
           }
          ]
         },
         "layout": {
          "autotypenumbers": "strict",
          "colorway": [
           "#636efa",
           "#EF553B",
           "#00cc96",
           "#ab63fa",
           "#FFA15A",
           "#19d3f3",
           "#FF6692",
           "#B6E880",
           "#FF97FF",
           "#FECB52"
          ],
          "font": {
           "color": "#2a3f5f"
          },
          "hovermode": "closest",
          "hoverlabel": {
           "align": "left"
          },
          "paper_bgcolor": "white",
          "plot_bgcolor": "#E5ECF6",
          "polar": {
           "bgcolor": "#E5ECF6",
           "angularaxis": {
            "gridcolor": "white",
            "linecolor": "white",
            "ticks": ""
           },
           "radialaxis": {
            "gridcolor": "white",
            "linecolor": "white",
            "ticks": ""
           }
          },
          "ternary": {
           "bgcolor": "#E5ECF6",
           "aaxis": {
            "gridcolor": "white",
            "linecolor": "white",
            "ticks": ""
           },
           "baxis": {
            "gridcolor": "white",
            "linecolor": "white",
            "ticks": ""
           },
           "caxis": {
            "gridcolor": "white",
            "linecolor": "white",
            "ticks": ""
           }
          },
          "coloraxis": {
           "colorbar": {
            "outlinewidth": 0,
            "ticks": ""
           }
          },
          "colorscale": {
           "sequential": [
            [
             0.0,
             "#0d0887"
            ],
            [
             0.1111111111111111,
             "#46039f"
            ],
            [
             0.2222222222222222,
             "#7201a8"
            ],
            [
             0.3333333333333333,
             "#9c179e"
            ],
            [
             0.4444444444444444,
             "#bd3786"
            ],
            [
             0.5555555555555556,
             "#d8576b"
            ],
            [
             0.6666666666666666,
             "#ed7953"
            ],
            [
             0.7777777777777778,
             "#fb9f3a"
            ],
            [
             0.8888888888888888,
             "#fdca26"
            ],
            [
             1.0,
             "#f0f921"
            ]
           ],
           "sequentialminus": [
            [
             0.0,
             "#0d0887"
            ],
            [
             0.1111111111111111,
             "#46039f"
            ],
            [
             0.2222222222222222,
             "#7201a8"
            ],
            [
             0.3333333333333333,
             "#9c179e"
            ],
            [
             0.4444444444444444,
             "#bd3786"
            ],
            [
             0.5555555555555556,
             "#d8576b"
            ],
            [
             0.6666666666666666,
             "#ed7953"
            ],
            [
             0.7777777777777778,
             "#fb9f3a"
            ],
            [
             0.8888888888888888,
             "#fdca26"
            ],
            [
             1.0,
             "#f0f921"
            ]
           ],
           "diverging": [
            [
             0,
             "#8e0152"
            ],
            [
             0.1,
             "#c51b7d"
            ],
            [
             0.2,
             "#de77ae"
            ],
            [
             0.3,
             "#f1b6da"
            ],
            [
             0.4,
             "#fde0ef"
            ],
            [
             0.5,
             "#f7f7f7"
            ],
            [
             0.6,
             "#e6f5d0"
            ],
            [
             0.7,
             "#b8e186"
            ],
            [
             0.8,
             "#7fbc41"
            ],
            [
             0.9,
             "#4d9221"
            ],
            [
             1,
             "#276419"
            ]
           ]
          },
          "xaxis": {
           "gridcolor": "white",
           "linecolor": "white",
           "ticks": "",
           "title": {
            "standoff": 15
           },
           "zerolinecolor": "white",
           "automargin": true,
           "zerolinewidth": 2
          },
          "yaxis": {
           "gridcolor": "white",
           "linecolor": "white",
           "ticks": "",
           "title": {
            "standoff": 15
           },
           "zerolinecolor": "white",
           "automargin": true,
           "zerolinewidth": 2
          },
          "scene": {
           "xaxis": {
            "backgroundcolor": "#E5ECF6",
            "gridcolor": "white",
            "linecolor": "white",
            "showbackground": true,
            "ticks": "",
            "zerolinecolor": "white",
            "gridwidth": 2
           },
           "yaxis": {
            "backgroundcolor": "#E5ECF6",
            "gridcolor": "white",
            "linecolor": "white",
            "showbackground": true,
            "ticks": "",
            "zerolinecolor": "white",
            "gridwidth": 2
           },
           "zaxis": {
            "backgroundcolor": "#E5ECF6",
            "gridcolor": "white",
            "linecolor": "white",
            "showbackground": true,
            "ticks": "",
            "zerolinecolor": "white",
            "gridwidth": 2
           }
          },
          "shapedefaults": {
           "line": {
            "color": "#2a3f5f"
           }
          },
          "annotationdefaults": {
           "arrowcolor": "#2a3f5f",
           "arrowhead": 0,
           "arrowwidth": 1
          },
          "geo": {
           "bgcolor": "white",
           "landcolor": "#E5ECF6",
           "subunitcolor": "white",
           "showland": true,
           "showlakes": true,
           "lakecolor": "white"
          },
          "title": {
           "x": 0.05
          },
          "mapbox": {
           "style": "light"
          }
         }
        }
       },
       "config": {
        "plotlyServerURL": "https://plot.ly"
       }
      },
      "text/html": [
       "<div>                            <div id=\"ff2860fb-afca-4140-bac6-cd8cec790d97\" class=\"plotly-graph-div\" style=\"height:525px; width:100%;\"></div>            <script type=\"text/javascript\">                require([\"plotly\"], function(Plotly) {                    window.PLOTLYENV=window.PLOTLYENV || {};                                    if (document.getElementById(\"ff2860fb-afca-4140-bac6-cd8cec790d97\")) {                    Plotly.newPlot(                        \"ff2860fb-afca-4140-bac6-cd8cec790d97\",                        [{\"hoverinfo\":\"none\",\"line\":{\"color\":\"#888\",\"width\":0.5},\"mode\":\"lines\",\"x\":[-0.764131918510599,-0.5738657108156151,null,0.02644843801576622,-0.764131918510599,null,0.02644843801576622,0.13398706854438328,null,-0.1600097672057971,-0.5738657108156151,null,0.46753311912388046,-0.1600097672057971,null,-0.6078377843610216,-0.5738657108156151,null,0.11812425297847376,-0.6078377843610216,null,-0.2349851128433275,-0.6078377843610216,null,0.13398706854438328,-0.5738657108156151,null,0.5211595156730374,0.13398706854438328,null,0.5211595156730374,0.0033417589803920477,null,-0.17518720109922184,-0.5738657108156151,null,0.5029175118810452,-0.17518720109922184,null,0.2097434917899878,-0.17518720109922184,null,0.2097434917899878,0.0033417589803920477,null,-0.35016656220061815,-0.5738657108156151,null,0.2924489047379016,-0.35016656220061815,null,0.2924489047379016,0.04350653542458726,null,0.2924489047379016,-0.1760264128390779,null,0.3467230311717959,-0.35016656220061815,null,0.04350653542458726,-0.5738657108156151,null,0.20465163664144356,0.04350653542458726,null,-0.5203826414573369,-0.5738657108156151,null,-0.46921959642668204,-0.5203826414573369,null,-0.1705831179899488,-0.5203826414573369,null,0.0033417589803920477,-0.5738657108156151,null,-0.1760264128390779,-0.5738657108156151,null,0.6358428363646256,-0.1760264128390779,null,0.695967724421952,-0.1760264128390779,null],\"y\":[0.11628998037982011,0.4340578210177786,null,-0.4804017098338376,0.11628998037982011,null,-0.4804017098338376,-0.0656716157442451,null,0.05710885565884589,0.4340578210177786,null,-0.3836163782416472,0.05710885565884589,null,-0.2594586895256049,0.4340578210177786,null,-1.0,-0.2594586895256049,null,-0.9657927250049259,-0.2594586895256049,null,-0.0656716157442451,0.4340578210177786,null,0.023803543622187753,-0.0656716157442451,null,0.023803543622187753,0.34150214488151515,null,-0.40649166440687007,0.4340578210177786,null,-0.9301619578150342,-0.40649166440687007,null,-0.20112203450486923,-0.40649166440687007,null,-0.20112203450486923,0.34150214488151515,null,0.7383787228612163,0.4340578210177786,null,0.39099864308156573,0.7383787228612163,null,0.39099864308156573,0.15627662732903175,null,0.39099864308156573,0.6191701175575578,null,0.8494321583484906,0.7383787228612163,null,0.15627662732903175,0.4340578210177786,null,0.6482982278488192,0.15627662732903175,null,-0.15557867400212588,0.4340578210177786,null,-0.07370521240034121,-0.15557867400212588,null,-0.3502944198912131,-0.15557867400212588,null,0.34150214488151515,0.4340578210177786,null,0.6191701175575578,0.4340578210177786,null,0.5617957265089638,0.6191701175575578,null,0.3351825122749218,0.6191701175575578,null],\"type\":\"scatter\"},{\"hoverinfo\":\"text\",\"marker\":{\"color\":[],\"colorbar\":{\"thickness\":15,\"title\":{\"side\":\"right\",\"text\":\"Node Connections\"},\"xanchor\":\"left\"},\"colorscale\":[[0.0,\"rgb(255,255,217)\"],[0.125,\"rgb(237,248,177)\"],[0.25,\"rgb(199,233,180)\"],[0.375,\"rgb(127,205,187)\"],[0.5,\"rgb(65,182,196)\"],[0.625,\"rgb(29,145,192)\"],[0.75,\"rgb(34,94,168)\"],[0.875,\"rgb(37,52,148)\"],[1.0,\"rgb(8,29,88)\"]],\"line\":{\"width\":2},\"reversescale\":true,\"showscale\":true,\"size\":10},\"mode\":\"markers\",\"text\":[\"0\",\"Extra Salami or Feta\",\"Coffee\",\"1\",\"Keeping It Local\",\"2\",\"Cake\",\"Vegan mincepie\",\"3\",\"Salad\",\"4\",\"Hearty & Seasonal\",\"Sandwich\",\"5\",\"NONE\",\"Scone\",\"6\",\"Tartine\",\"7\",\"Pastry\",\"Toast\",\"8\",\"9\",\"Hot chocolate\",\"Medialuna\"],\"x\":[-0.764131918510599,0.02644843801576622,-0.5738657108156151,-0.1600097672057971,0.46753311912388046,-0.6078377843610216,0.11812425297847376,-0.2349851128433275,0.13398706854438328,0.5211595156730374,-0.17518720109922184,0.5029175118810452,0.2097434917899878,-0.35016656220061815,0.2924489047379016,0.3467230311717959,0.04350653542458726,0.20465163664144356,-0.5203826414573369,-0.46921959642668204,-0.1705831179899488,0.0033417589803920477,-0.1760264128390779,0.6358428363646256,0.695967724421952],\"y\":[0.11628998037982011,-0.4804017098338376,0.4340578210177786,0.05710885565884589,-0.3836163782416472,-0.2594586895256049,-1.0,-0.9657927250049259,-0.0656716157442451,0.023803543622187753,-0.40649166440687007,-0.9301619578150342,-0.20112203450486923,0.7383787228612163,0.39099864308156573,0.8494321583484906,0.15627662732903175,0.6482982278488192,-0.15557867400212588,-0.07370521240034121,-0.3502944198912131,0.34150214488151515,0.6191701175575578,0.5617957265089638,0.3351825122749218],\"type\":\"scatter\"}],                        {\"annotations\":[{\"showarrow\":false,\"text\":\"Python code: \\u003ca href='https:\\u002f\\u002fplotly.com\\u002fipython-notebooks\\u002fnetwork-graphs\\u002f'\\u003e https:\\u002f\\u002fplotly.com\\u002fipython-notebooks\\u002fnetwork-graphs\\u002f\\u003c\\u002fa\\u003e\",\"x\":0.005,\"xref\":\"paper\",\"y\":-0.002,\"yref\":\"paper\"}],\"hovermode\":\"closest\",\"margin\":{\"b\":20,\"l\":5,\"r\":5,\"t\":40},\"showlegend\":false,\"title\":{\"font\":{\"size\":16},\"text\":\"\\u003cbr\\u003eNetwork graph made with Python\"},\"xaxis\":{\"showgrid\":false,\"showticklabels\":false,\"zeroline\":false},\"yaxis\":{\"showgrid\":false,\"showticklabels\":false,\"zeroline\":false},\"template\":{\"data\":{\"histogram2dcontour\":[{\"type\":\"histogram2dcontour\",\"colorbar\":{\"outlinewidth\":0,\"ticks\":\"\"},\"colorscale\":[[0.0,\"#0d0887\"],[0.1111111111111111,\"#46039f\"],[0.2222222222222222,\"#7201a8\"],[0.3333333333333333,\"#9c179e\"],[0.4444444444444444,\"#bd3786\"],[0.5555555555555556,\"#d8576b\"],[0.6666666666666666,\"#ed7953\"],[0.7777777777777778,\"#fb9f3a\"],[0.8888888888888888,\"#fdca26\"],[1.0,\"#f0f921\"]]}],\"choropleth\":[{\"type\":\"choropleth\",\"colorbar\":{\"outlinewidth\":0,\"ticks\":\"\"}}],\"histogram2d\":[{\"type\":\"histogram2d\",\"colorbar\":{\"outlinewidth\":0,\"ticks\":\"\"},\"colorscale\":[[0.0,\"#0d0887\"],[0.1111111111111111,\"#46039f\"],[0.2222222222222222,\"#7201a8\"],[0.3333333333333333,\"#9c179e\"],[0.4444444444444444,\"#bd3786\"],[0.5555555555555556,\"#d8576b\"],[0.6666666666666666,\"#ed7953\"],[0.7777777777777778,\"#fb9f3a\"],[0.8888888888888888,\"#fdca26\"],[1.0,\"#f0f921\"]]}],\"heatmap\":[{\"type\":\"heatmap\",\"colorbar\":{\"outlinewidth\":0,\"ticks\":\"\"},\"colorscale\":[[0.0,\"#0d0887\"],[0.1111111111111111,\"#46039f\"],[0.2222222222222222,\"#7201a8\"],[0.3333333333333333,\"#9c179e\"],[0.4444444444444444,\"#bd3786\"],[0.5555555555555556,\"#d8576b\"],[0.6666666666666666,\"#ed7953\"],[0.7777777777777778,\"#fb9f3a\"],[0.8888888888888888,\"#fdca26\"],[1.0,\"#f0f921\"]]}],\"heatmapgl\":[{\"type\":\"heatmapgl\",\"colorbar\":{\"outlinewidth\":0,\"ticks\":\"\"},\"colorscale\":[[0.0,\"#0d0887\"],[0.1111111111111111,\"#46039f\"],[0.2222222222222222,\"#7201a8\"],[0.3333333333333333,\"#9c179e\"],[0.4444444444444444,\"#bd3786\"],[0.5555555555555556,\"#d8576b\"],[0.6666666666666666,\"#ed7953\"],[0.7777777777777778,\"#fb9f3a\"],[0.8888888888888888,\"#fdca26\"],[1.0,\"#f0f921\"]]}],\"contourcarpet\":[{\"type\":\"contourcarpet\",\"colorbar\":{\"outlinewidth\":0,\"ticks\":\"\"}}],\"contour\":[{\"type\":\"contour\",\"colorbar\":{\"outlinewidth\":0,\"ticks\":\"\"},\"colorscale\":[[0.0,\"#0d0887\"],[0.1111111111111111,\"#46039f\"],[0.2222222222222222,\"#7201a8\"],[0.3333333333333333,\"#9c179e\"],[0.4444444444444444,\"#bd3786\"],[0.5555555555555556,\"#d8576b\"],[0.6666666666666666,\"#ed7953\"],[0.7777777777777778,\"#fb9f3a\"],[0.8888888888888888,\"#fdca26\"],[1.0,\"#f0f921\"]]}],\"surface\":[{\"type\":\"surface\",\"colorbar\":{\"outlinewidth\":0,\"ticks\":\"\"},\"colorscale\":[[0.0,\"#0d0887\"],[0.1111111111111111,\"#46039f\"],[0.2222222222222222,\"#7201a8\"],[0.3333333333333333,\"#9c179e\"],[0.4444444444444444,\"#bd3786\"],[0.5555555555555556,\"#d8576b\"],[0.6666666666666666,\"#ed7953\"],[0.7777777777777778,\"#fb9f3a\"],[0.8888888888888888,\"#fdca26\"],[1.0,\"#f0f921\"]]}],\"mesh3d\":[{\"type\":\"mesh3d\",\"colorbar\":{\"outlinewidth\":0,\"ticks\":\"\"}}],\"scatter\":[{\"fillpattern\":{\"fillmode\":\"overlay\",\"size\":10,\"solidity\":0.2},\"type\":\"scatter\"}],\"parcoords\":[{\"type\":\"parcoords\",\"line\":{\"colorbar\":{\"outlinewidth\":0,\"ticks\":\"\"}}}],\"scatterpolargl\":[{\"type\":\"scatterpolargl\",\"marker\":{\"colorbar\":{\"outlinewidth\":0,\"ticks\":\"\"}}}],\"bar\":[{\"error_x\":{\"color\":\"#2a3f5f\"},\"error_y\":{\"color\":\"#2a3f5f\"},\"marker\":{\"line\":{\"color\":\"#E5ECF6\",\"width\":0.5},\"pattern\":{\"fillmode\":\"overlay\",\"size\":10,\"solidity\":0.2}},\"type\":\"bar\"}],\"scattergeo\":[{\"type\":\"scattergeo\",\"marker\":{\"colorbar\":{\"outlinewidth\":0,\"ticks\":\"\"}}}],\"scatterpolar\":[{\"type\":\"scatterpolar\",\"marker\":{\"colorbar\":{\"outlinewidth\":0,\"ticks\":\"\"}}}],\"histogram\":[{\"marker\":{\"pattern\":{\"fillmode\":\"overlay\",\"size\":10,\"solidity\":0.2}},\"type\":\"histogram\"}],\"scattergl\":[{\"type\":\"scattergl\",\"marker\":{\"colorbar\":{\"outlinewidth\":0,\"ticks\":\"\"}}}],\"scatter3d\":[{\"type\":\"scatter3d\",\"line\":{\"colorbar\":{\"outlinewidth\":0,\"ticks\":\"\"}},\"marker\":{\"colorbar\":{\"outlinewidth\":0,\"ticks\":\"\"}}}],\"scattermapbox\":[{\"type\":\"scattermapbox\",\"marker\":{\"colorbar\":{\"outlinewidth\":0,\"ticks\":\"\"}}}],\"scatterternary\":[{\"type\":\"scatterternary\",\"marker\":{\"colorbar\":{\"outlinewidth\":0,\"ticks\":\"\"}}}],\"scattercarpet\":[{\"type\":\"scattercarpet\",\"marker\":{\"colorbar\":{\"outlinewidth\":0,\"ticks\":\"\"}}}],\"carpet\":[{\"aaxis\":{\"endlinecolor\":\"#2a3f5f\",\"gridcolor\":\"white\",\"linecolor\":\"white\",\"minorgridcolor\":\"white\",\"startlinecolor\":\"#2a3f5f\"},\"baxis\":{\"endlinecolor\":\"#2a3f5f\",\"gridcolor\":\"white\",\"linecolor\":\"white\",\"minorgridcolor\":\"white\",\"startlinecolor\":\"#2a3f5f\"},\"type\":\"carpet\"}],\"table\":[{\"cells\":{\"fill\":{\"color\":\"#EBF0F8\"},\"line\":{\"color\":\"white\"}},\"header\":{\"fill\":{\"color\":\"#C8D4E3\"},\"line\":{\"color\":\"white\"}},\"type\":\"table\"}],\"barpolar\":[{\"marker\":{\"line\":{\"color\":\"#E5ECF6\",\"width\":0.5},\"pattern\":{\"fillmode\":\"overlay\",\"size\":10,\"solidity\":0.2}},\"type\":\"barpolar\"}],\"pie\":[{\"automargin\":true,\"type\":\"pie\"}]},\"layout\":{\"autotypenumbers\":\"strict\",\"colorway\":[\"#636efa\",\"#EF553B\",\"#00cc96\",\"#ab63fa\",\"#FFA15A\",\"#19d3f3\",\"#FF6692\",\"#B6E880\",\"#FF97FF\",\"#FECB52\"],\"font\":{\"color\":\"#2a3f5f\"},\"hovermode\":\"closest\",\"hoverlabel\":{\"align\":\"left\"},\"paper_bgcolor\":\"white\",\"plot_bgcolor\":\"#E5ECF6\",\"polar\":{\"bgcolor\":\"#E5ECF6\",\"angularaxis\":{\"gridcolor\":\"white\",\"linecolor\":\"white\",\"ticks\":\"\"},\"radialaxis\":{\"gridcolor\":\"white\",\"linecolor\":\"white\",\"ticks\":\"\"}},\"ternary\":{\"bgcolor\":\"#E5ECF6\",\"aaxis\":{\"gridcolor\":\"white\",\"linecolor\":\"white\",\"ticks\":\"\"},\"baxis\":{\"gridcolor\":\"white\",\"linecolor\":\"white\",\"ticks\":\"\"},\"caxis\":{\"gridcolor\":\"white\",\"linecolor\":\"white\",\"ticks\":\"\"}},\"coloraxis\":{\"colorbar\":{\"outlinewidth\":0,\"ticks\":\"\"}},\"colorscale\":{\"sequential\":[[0.0,\"#0d0887\"],[0.1111111111111111,\"#46039f\"],[0.2222222222222222,\"#7201a8\"],[0.3333333333333333,\"#9c179e\"],[0.4444444444444444,\"#bd3786\"],[0.5555555555555556,\"#d8576b\"],[0.6666666666666666,\"#ed7953\"],[0.7777777777777778,\"#fb9f3a\"],[0.8888888888888888,\"#fdca26\"],[1.0,\"#f0f921\"]],\"sequentialminus\":[[0.0,\"#0d0887\"],[0.1111111111111111,\"#46039f\"],[0.2222222222222222,\"#7201a8\"],[0.3333333333333333,\"#9c179e\"],[0.4444444444444444,\"#bd3786\"],[0.5555555555555556,\"#d8576b\"],[0.6666666666666666,\"#ed7953\"],[0.7777777777777778,\"#fb9f3a\"],[0.8888888888888888,\"#fdca26\"],[1.0,\"#f0f921\"]],\"diverging\":[[0,\"#8e0152\"],[0.1,\"#c51b7d\"],[0.2,\"#de77ae\"],[0.3,\"#f1b6da\"],[0.4,\"#fde0ef\"],[0.5,\"#f7f7f7\"],[0.6,\"#e6f5d0\"],[0.7,\"#b8e186\"],[0.8,\"#7fbc41\"],[0.9,\"#4d9221\"],[1,\"#276419\"]]},\"xaxis\":{\"gridcolor\":\"white\",\"linecolor\":\"white\",\"ticks\":\"\",\"title\":{\"standoff\":15},\"zerolinecolor\":\"white\",\"automargin\":true,\"zerolinewidth\":2},\"yaxis\":{\"gridcolor\":\"white\",\"linecolor\":\"white\",\"ticks\":\"\",\"title\":{\"standoff\":15},\"zerolinecolor\":\"white\",\"automargin\":true,\"zerolinewidth\":2},\"scene\":{\"xaxis\":{\"backgroundcolor\":\"#E5ECF6\",\"gridcolor\":\"white\",\"linecolor\":\"white\",\"showbackground\":true,\"ticks\":\"\",\"zerolinecolor\":\"white\",\"gridwidth\":2},\"yaxis\":{\"backgroundcolor\":\"#E5ECF6\",\"gridcolor\":\"white\",\"linecolor\":\"white\",\"showbackground\":true,\"ticks\":\"\",\"zerolinecolor\":\"white\",\"gridwidth\":2},\"zaxis\":{\"backgroundcolor\":\"#E5ECF6\",\"gridcolor\":\"white\",\"linecolor\":\"white\",\"showbackground\":true,\"ticks\":\"\",\"zerolinecolor\":\"white\",\"gridwidth\":2}},\"shapedefaults\":{\"line\":{\"color\":\"#2a3f5f\"}},\"annotationdefaults\":{\"arrowcolor\":\"#2a3f5f\",\"arrowhead\":0,\"arrowwidth\":1},\"geo\":{\"bgcolor\":\"white\",\"landcolor\":\"#E5ECF6\",\"subunitcolor\":\"white\",\"showland\":true,\"showlakes\":true,\"lakecolor\":\"white\"},\"title\":{\"x\":0.05},\"mapbox\":{\"style\":\"light\"}}}},                        {\"responsive\": true}                    ).then(function(){\n",
       "                            \n",
       "var gd = document.getElementById('ff2860fb-afca-4140-bac6-cd8cec790d97');\n",
       "var x = new MutationObserver(function (mutations, observer) {{\n",
       "        var display = window.getComputedStyle(gd).display;\n",
       "        if (!display || display === 'none') {{\n",
       "            console.log([gd, 'removed!']);\n",
       "            Plotly.purge(gd);\n",
       "            observer.disconnect();\n",
       "        }}\n",
       "}});\n",
       "\n",
       "// Listen for the removal of the full notebook cells\n",
       "var notebookContainer = gd.closest('#notebook-container');\n",
       "if (notebookContainer) {{\n",
       "    x.observe(notebookContainer, {childList: true});\n",
       "}}\n",
       "\n",
       "// Listen for the clearing of the current output cell\n",
       "var outputEl = gd.closest('.output');\n",
       "if (outputEl) {{\n",
       "    x.observe(outputEl, {childList: true});\n",
       "}}\n",
       "\n",
       "                        })                };                });            </script>        </div>"
      ]
     },
     "metadata": {},
     "output_type": "display_data",
     "jetTransient": {
      "display_id": null
     }
    }
   ],
   "execution_count": 45
  },
  {
   "metadata": {
    "ExecuteTime": {
     "end_time": "2025-09-20T07:36:34.343227Z",
     "start_time": "2025-09-20T07:36:23.446659Z"
    }
   },
   "cell_type": "code",
   "source": [
    "from fpgrowth_py import fpgrowth\n",
    "import PyARMViz  # pip install pyarmviz\n",
    "\n",
    "freqItemSet, rules = fpgrowth(transactions, minSupRatio=min_sup, minConf=0.8)\n",
    "\n",
    "n_trans = len(transactions)\n",
    "\n",
    "print(\"\\nАссоциативные правила (достоверность ≥ 80%):\")\n",
    "\n",
    "rules_pyarmviz_fp = []\n",
    "\n",
    "for i, (antecedent, consequent, confidence) in enumerate(rules):\n",
    "    ant = frozenset(antecedent)\n",
    "    cons = frozenset(consequent)\n",
    "    union = ant | cons\n",
    "\n",
    "    count_ab = sum(1 for t in transactions if union.issubset(t))\n",
    "    count_a = sum(1 for t in transactions if ant.issubset(t))\n",
    "    count_b = sum(1 for t in transactions if cons.issubset(t))\n",
    "\n",
    "    support_ab = count_ab / n_trans\n",
    "    support_a = count_a / n_trans\n",
    "    support_b = count_b / n_trans\n",
    "    lift = support_ab / (support_a * support_b) if support_a * support_b else 0.0\n",
    "\n",
    "    print(f\"{i}: {set(antecedent)} -> {set(consequent)} \"\n",
    "          f\"Support = {support_ab:.3f} Confidence = {confidence:.3f} Lift = {lift:.3f}\")\n",
    "\n",
    "    rules_pyarmviz_fp.append(\n",
    "        PyARMViz.Rule.Rule(\n",
    "            lhs=tuple(antecedent),\n",
    "            rhs=tuple(consequent),\n",
    "            count_full=count_ab,\n",
    "            count_lhs=count_a,\n",
    "            count_rhs=count_b,\n",
    "            num_transactions=n_trans\n",
    "        )\n",
    "    )"
   ],
   "id": "2165fdebec3463a1",
   "outputs": [
    {
     "name": "stdout",
     "output_type": "stream",
     "text": [
      "\n",
      "Ассоциативные правила (достоверность ≥ 80%):\n",
      "0: {'Mighty Protein'} -> {'Coffee'} Support = 0.001 Confidence = 0.818 Lift = 1.722\n",
      "1: {'Art Tray', 'NONE'} -> {'Coffee'} Support = 0.001 Confidence = 0.818 Lift = 1.722\n",
      "2: {'Extra Salami or Feta', 'Salad'} -> {'Coffee'} Support = 0.001 Confidence = 0.875 Lift = 1.842\n",
      "3: {'Extra Salami or Feta'} -> {'Coffee'} Support = 0.003 Confidence = 0.816 Lift = 1.717\n",
      "4: {'Extra Salami or Feta'} -> {'Coffee'} Support = 0.003 Confidence = 0.816 Lift = 1.717\n",
      "5: {'Tartine', 'NONE'} -> {'Coffee'} Support = 0.001 Confidence = 0.923 Lift = 1.943\n",
      "6: {'Vegan mincepie', 'Cake'} -> {'Coffee'} Support = 0.001 Confidence = 0.833 Lift = 1.754\n",
      "7: {'Keeping It Local'} -> {'Coffee'} Support = 0.005 Confidence = 0.810 Lift = 1.704\n",
      "8: {'Salad', 'Sandwich'} -> {'Coffee'} Support = 0.002 Confidence = 0.833 Lift = 1.754\n",
      "9: {'Hearty & Seasonal', 'Sandwich'} -> {'Coffee'} Support = 0.001 Confidence = 0.857 Lift = 1.804\n",
      "10: {'Pastry', 'Toast'} -> {'Coffee'} Support = 0.001 Confidence = 0.867 Lift = 1.824\n",
      "11: {'NONE', 'Scone'} -> {'Coffee'} Support = 0.002 Confidence = 0.833 Lift = 1.754\n",
      "12: {'Soup', 'Cake', 'Sandwich'} -> {'Coffee'} Support = 0.001 Confidence = 0.818 Lift = 1.722\n",
      "13: {'Hot chocolate', 'Cookies', 'Sandwich'} -> {'Coffee'} Support = 0.001 Confidence = 0.857 Lift = 1.804\n",
      "14: {'Hot chocolate', 'NONE', 'Medialuna'} -> {'Coffee'} Support = 0.001 Confidence = 0.909 Lift = 1.914\n",
      "15: {'Pastry', 'Sandwich'} -> {'Coffee'} Support = 0.001 Confidence = 0.818 Lift = 1.722\n"
     ]
    }
   ],
   "execution_count": 46
  },
  {
   "metadata": {
    "ExecuteTime": {
     "end_time": "2025-09-20T07:36:34.447929Z",
     "start_time": "2025-09-20T07:36:34.422234Z"
    }
   },
   "cell_type": "code",
   "source": [
    "PyARMViz.metadata_scatter_plot(rules_pyarmviz)\n",
    "PyARMViz.adjacency_graph_plotly(rules_pyarmviz)\n",
    "# PyARMViz.adjacency_parallel_coordinate_plot(rules_pyarmviz)\n",
    "# PyARMViz.adjacency_parallel_category_plot(rules_pyarmviz)"
   ],
   "id": "f6f4d34a18c5bd11",
   "outputs": [
    {
     "data": {
      "application/vnd.plotly.v1+json": {
       "data": [
        {
         "marker": {
          "color": [
           1.7171575692765482,
           1.7039689550731953
          ],
          "colorbar": {
           "title": {
            "text": "Lift"
           }
          },
          "colorscale": [
           [
            0.0,
            "rgb(243, 224, 247)"
           ],
           [
            0.16666666666666666,
            "rgb(228, 199, 241)"
           ],
           [
            0.3333333333333333,
            "rgb(209, 175, 232)"
           ],
           [
            0.5,
            "rgb(185, 152, 221)"
           ],
           [
            0.6666666666666666,
            "rgb(159, 130, 206)"
           ],
           [
            0.8333333333333334,
            "rgb(130, 109, 186)"
           ],
           [
            1.0,
            "rgb(99, 88, 159)"
           ]
          ]
         },
         "mode": "markers",
         "text": [
          "('Extra Salami or Feta',) => ('Coffee',), Lift: 1.7171575692765482",
          "('Keeping It Local',) => ('Coffee',), Lift: 1.7039689550731953"
         ],
         "x": [
          0.003252544329031581,
          0.0053509600251809885
         ],
         "y": [
          0.8157894736842105,
          0.8095238095238095
         ],
         "type": "scatter"
        }
       ],
       "layout": {
        "template": {
         "data": {
          "histogram2dcontour": [
           {
            "type": "histogram2dcontour",
            "colorbar": {
             "outlinewidth": 0,
             "ticks": ""
            },
            "colorscale": [
             [
              0.0,
              "#0d0887"
             ],
             [
              0.1111111111111111,
              "#46039f"
             ],
             [
              0.2222222222222222,
              "#7201a8"
             ],
             [
              0.3333333333333333,
              "#9c179e"
             ],
             [
              0.4444444444444444,
              "#bd3786"
             ],
             [
              0.5555555555555556,
              "#d8576b"
             ],
             [
              0.6666666666666666,
              "#ed7953"
             ],
             [
              0.7777777777777778,
              "#fb9f3a"
             ],
             [
              0.8888888888888888,
              "#fdca26"
             ],
             [
              1.0,
              "#f0f921"
             ]
            ]
           }
          ],
          "choropleth": [
           {
            "type": "choropleth",
            "colorbar": {
             "outlinewidth": 0,
             "ticks": ""
            }
           }
          ],
          "histogram2d": [
           {
            "type": "histogram2d",
            "colorbar": {
             "outlinewidth": 0,
             "ticks": ""
            },
            "colorscale": [
             [
              0.0,
              "#0d0887"
             ],
             [
              0.1111111111111111,
              "#46039f"
             ],
             [
              0.2222222222222222,
              "#7201a8"
             ],
             [
              0.3333333333333333,
              "#9c179e"
             ],
             [
              0.4444444444444444,
              "#bd3786"
             ],
             [
              0.5555555555555556,
              "#d8576b"
             ],
             [
              0.6666666666666666,
              "#ed7953"
             ],
             [
              0.7777777777777778,
              "#fb9f3a"
             ],
             [
              0.8888888888888888,
              "#fdca26"
             ],
             [
              1.0,
              "#f0f921"
             ]
            ]
           }
          ],
          "heatmap": [
           {
            "type": "heatmap",
            "colorbar": {
             "outlinewidth": 0,
             "ticks": ""
            },
            "colorscale": [
             [
              0.0,
              "#0d0887"
             ],
             [
              0.1111111111111111,
              "#46039f"
             ],
             [
              0.2222222222222222,
              "#7201a8"
             ],
             [
              0.3333333333333333,
              "#9c179e"
             ],
             [
              0.4444444444444444,
              "#bd3786"
             ],
             [
              0.5555555555555556,
              "#d8576b"
             ],
             [
              0.6666666666666666,
              "#ed7953"
             ],
             [
              0.7777777777777778,
              "#fb9f3a"
             ],
             [
              0.8888888888888888,
              "#fdca26"
             ],
             [
              1.0,
              "#f0f921"
             ]
            ]
           }
          ],
          "heatmapgl": [
           {
            "type": "heatmapgl",
            "colorbar": {
             "outlinewidth": 0,
             "ticks": ""
            },
            "colorscale": [
             [
              0.0,
              "#0d0887"
             ],
             [
              0.1111111111111111,
              "#46039f"
             ],
             [
              0.2222222222222222,
              "#7201a8"
             ],
             [
              0.3333333333333333,
              "#9c179e"
             ],
             [
              0.4444444444444444,
              "#bd3786"
             ],
             [
              0.5555555555555556,
              "#d8576b"
             ],
             [
              0.6666666666666666,
              "#ed7953"
             ],
             [
              0.7777777777777778,
              "#fb9f3a"
             ],
             [
              0.8888888888888888,
              "#fdca26"
             ],
             [
              1.0,
              "#f0f921"
             ]
            ]
           }
          ],
          "contourcarpet": [
           {
            "type": "contourcarpet",
            "colorbar": {
             "outlinewidth": 0,
             "ticks": ""
            }
           }
          ],
          "contour": [
           {
            "type": "contour",
            "colorbar": {
             "outlinewidth": 0,
             "ticks": ""
            },
            "colorscale": [
             [
              0.0,
              "#0d0887"
             ],
             [
              0.1111111111111111,
              "#46039f"
             ],
             [
              0.2222222222222222,
              "#7201a8"
             ],
             [
              0.3333333333333333,
              "#9c179e"
             ],
             [
              0.4444444444444444,
              "#bd3786"
             ],
             [
              0.5555555555555556,
              "#d8576b"
             ],
             [
              0.6666666666666666,
              "#ed7953"
             ],
             [
              0.7777777777777778,
              "#fb9f3a"
             ],
             [
              0.8888888888888888,
              "#fdca26"
             ],
             [
              1.0,
              "#f0f921"
             ]
            ]
           }
          ],
          "surface": [
           {
            "type": "surface",
            "colorbar": {
             "outlinewidth": 0,
             "ticks": ""
            },
            "colorscale": [
             [
              0.0,
              "#0d0887"
             ],
             [
              0.1111111111111111,
              "#46039f"
             ],
             [
              0.2222222222222222,
              "#7201a8"
             ],
             [
              0.3333333333333333,
              "#9c179e"
             ],
             [
              0.4444444444444444,
              "#bd3786"
             ],
             [
              0.5555555555555556,
              "#d8576b"
             ],
             [
              0.6666666666666666,
              "#ed7953"
             ],
             [
              0.7777777777777778,
              "#fb9f3a"
             ],
             [
              0.8888888888888888,
              "#fdca26"
             ],
             [
              1.0,
              "#f0f921"
             ]
            ]
           }
          ],
          "mesh3d": [
           {
            "type": "mesh3d",
            "colorbar": {
             "outlinewidth": 0,
             "ticks": ""
            }
           }
          ],
          "scatter": [
           {
            "fillpattern": {
             "fillmode": "overlay",
             "size": 10,
             "solidity": 0.2
            },
            "type": "scatter"
           }
          ],
          "parcoords": [
           {
            "type": "parcoords",
            "line": {
             "colorbar": {
              "outlinewidth": 0,
              "ticks": ""
             }
            }
           }
          ],
          "scatterpolargl": [
           {
            "type": "scatterpolargl",
            "marker": {
             "colorbar": {
              "outlinewidth": 0,
              "ticks": ""
             }
            }
           }
          ],
          "bar": [
           {
            "error_x": {
             "color": "#2a3f5f"
            },
            "error_y": {
             "color": "#2a3f5f"
            },
            "marker": {
             "line": {
              "color": "#E5ECF6",
              "width": 0.5
             },
             "pattern": {
              "fillmode": "overlay",
              "size": 10,
              "solidity": 0.2
             }
            },
            "type": "bar"
           }
          ],
          "scattergeo": [
           {
            "type": "scattergeo",
            "marker": {
             "colorbar": {
              "outlinewidth": 0,
              "ticks": ""
             }
            }
           }
          ],
          "scatterpolar": [
           {
            "type": "scatterpolar",
            "marker": {
             "colorbar": {
              "outlinewidth": 0,
              "ticks": ""
             }
            }
           }
          ],
          "histogram": [
           {
            "marker": {
             "pattern": {
              "fillmode": "overlay",
              "size": 10,
              "solidity": 0.2
             }
            },
            "type": "histogram"
           }
          ],
          "scattergl": [
           {
            "type": "scattergl",
            "marker": {
             "colorbar": {
              "outlinewidth": 0,
              "ticks": ""
             }
            }
           }
          ],
          "scatter3d": [
           {
            "type": "scatter3d",
            "line": {
             "colorbar": {
              "outlinewidth": 0,
              "ticks": ""
             }
            },
            "marker": {
             "colorbar": {
              "outlinewidth": 0,
              "ticks": ""
             }
            }
           }
          ],
          "scattermapbox": [
           {
            "type": "scattermapbox",
            "marker": {
             "colorbar": {
              "outlinewidth": 0,
              "ticks": ""
             }
            }
           }
          ],
          "scatterternary": [
           {
            "type": "scatterternary",
            "marker": {
             "colorbar": {
              "outlinewidth": 0,
              "ticks": ""
             }
            }
           }
          ],
          "scattercarpet": [
           {
            "type": "scattercarpet",
            "marker": {
             "colorbar": {
              "outlinewidth": 0,
              "ticks": ""
             }
            }
           }
          ],
          "carpet": [
           {
            "aaxis": {
             "endlinecolor": "#2a3f5f",
             "gridcolor": "white",
             "linecolor": "white",
             "minorgridcolor": "white",
             "startlinecolor": "#2a3f5f"
            },
            "baxis": {
             "endlinecolor": "#2a3f5f",
             "gridcolor": "white",
             "linecolor": "white",
             "minorgridcolor": "white",
             "startlinecolor": "#2a3f5f"
            },
            "type": "carpet"
           }
          ],
          "table": [
           {
            "cells": {
             "fill": {
              "color": "#EBF0F8"
             },
             "line": {
              "color": "white"
             }
            },
            "header": {
             "fill": {
              "color": "#C8D4E3"
             },
             "line": {
              "color": "white"
             }
            },
            "type": "table"
           }
          ],
          "barpolar": [
           {
            "marker": {
             "line": {
              "color": "#E5ECF6",
              "width": 0.5
             },
             "pattern": {
              "fillmode": "overlay",
              "size": 10,
              "solidity": 0.2
             }
            },
            "type": "barpolar"
           }
          ],
          "pie": [
           {
            "automargin": true,
            "type": "pie"
           }
          ]
         },
         "layout": {
          "autotypenumbers": "strict",
          "colorway": [
           "#636efa",
           "#EF553B",
           "#00cc96",
           "#ab63fa",
           "#FFA15A",
           "#19d3f3",
           "#FF6692",
           "#B6E880",
           "#FF97FF",
           "#FECB52"
          ],
          "font": {
           "color": "#2a3f5f"
          },
          "hovermode": "closest",
          "hoverlabel": {
           "align": "left"
          },
          "paper_bgcolor": "white",
          "plot_bgcolor": "#E5ECF6",
          "polar": {
           "bgcolor": "#E5ECF6",
           "angularaxis": {
            "gridcolor": "white",
            "linecolor": "white",
            "ticks": ""
           },
           "radialaxis": {
            "gridcolor": "white",
            "linecolor": "white",
            "ticks": ""
           }
          },
          "ternary": {
           "bgcolor": "#E5ECF6",
           "aaxis": {
            "gridcolor": "white",
            "linecolor": "white",
            "ticks": ""
           },
           "baxis": {
            "gridcolor": "white",
            "linecolor": "white",
            "ticks": ""
           },
           "caxis": {
            "gridcolor": "white",
            "linecolor": "white",
            "ticks": ""
           }
          },
          "coloraxis": {
           "colorbar": {
            "outlinewidth": 0,
            "ticks": ""
           }
          },
          "colorscale": {
           "sequential": [
            [
             0.0,
             "#0d0887"
            ],
            [
             0.1111111111111111,
             "#46039f"
            ],
            [
             0.2222222222222222,
             "#7201a8"
            ],
            [
             0.3333333333333333,
             "#9c179e"
            ],
            [
             0.4444444444444444,
             "#bd3786"
            ],
            [
             0.5555555555555556,
             "#d8576b"
            ],
            [
             0.6666666666666666,
             "#ed7953"
            ],
            [
             0.7777777777777778,
             "#fb9f3a"
            ],
            [
             0.8888888888888888,
             "#fdca26"
            ],
            [
             1.0,
             "#f0f921"
            ]
           ],
           "sequentialminus": [
            [
             0.0,
             "#0d0887"
            ],
            [
             0.1111111111111111,
             "#46039f"
            ],
            [
             0.2222222222222222,
             "#7201a8"
            ],
            [
             0.3333333333333333,
             "#9c179e"
            ],
            [
             0.4444444444444444,
             "#bd3786"
            ],
            [
             0.5555555555555556,
             "#d8576b"
            ],
            [
             0.6666666666666666,
             "#ed7953"
            ],
            [
             0.7777777777777778,
             "#fb9f3a"
            ],
            [
             0.8888888888888888,
             "#fdca26"
            ],
            [
             1.0,
             "#f0f921"
            ]
           ],
           "diverging": [
            [
             0,
             "#8e0152"
            ],
            [
             0.1,
             "#c51b7d"
            ],
            [
             0.2,
             "#de77ae"
            ],
            [
             0.3,
             "#f1b6da"
            ],
            [
             0.4,
             "#fde0ef"
            ],
            [
             0.5,
             "#f7f7f7"
            ],
            [
             0.6,
             "#e6f5d0"
            ],
            [
             0.7,
             "#b8e186"
            ],
            [
             0.8,
             "#7fbc41"
            ],
            [
             0.9,
             "#4d9221"
            ],
            [
             1,
             "#276419"
            ]
           ]
          },
          "xaxis": {
           "gridcolor": "white",
           "linecolor": "white",
           "ticks": "",
           "title": {
            "standoff": 15
           },
           "zerolinecolor": "white",
           "automargin": true,
           "zerolinewidth": 2
          },
          "yaxis": {
           "gridcolor": "white",
           "linecolor": "white",
           "ticks": "",
           "title": {
            "standoff": 15
           },
           "zerolinecolor": "white",
           "automargin": true,
           "zerolinewidth": 2
          },
          "scene": {
           "xaxis": {
            "backgroundcolor": "#E5ECF6",
            "gridcolor": "white",
            "linecolor": "white",
            "showbackground": true,
            "ticks": "",
            "zerolinecolor": "white",
            "gridwidth": 2
           },
           "yaxis": {
            "backgroundcolor": "#E5ECF6",
            "gridcolor": "white",
            "linecolor": "white",
            "showbackground": true,
            "ticks": "",
            "zerolinecolor": "white",
            "gridwidth": 2
           },
           "zaxis": {
            "backgroundcolor": "#E5ECF6",
            "gridcolor": "white",
            "linecolor": "white",
            "showbackground": true,
            "ticks": "",
            "zerolinecolor": "white",
            "gridwidth": 2
           }
          },
          "shapedefaults": {
           "line": {
            "color": "#2a3f5f"
           }
          },
          "annotationdefaults": {
           "arrowcolor": "#2a3f5f",
           "arrowhead": 0,
           "arrowwidth": 1
          },
          "geo": {
           "bgcolor": "white",
           "landcolor": "#E5ECF6",
           "subunitcolor": "white",
           "showland": true,
           "showlakes": true,
           "lakecolor": "white"
          },
          "title": {
           "x": 0.05
          },
          "mapbox": {
           "style": "light"
          }
         }
        },
        "xaxis": {
         "title": {
          "text": "Support"
         },
         "autorange": "reversed"
        },
        "title": {
         "text": "Association Rules Strength Distribution"
        },
        "yaxis": {
         "title": {
          "text": "Confidence"
         }
        }
       },
       "config": {
        "plotlyServerURL": "https://plot.ly"
       }
      },
      "text/html": [
       "<div>                            <div id=\"7cbeefd9-0248-4f1b-8e62-7d4509ff6609\" class=\"plotly-graph-div\" style=\"height:525px; width:100%;\"></div>            <script type=\"text/javascript\">                require([\"plotly\"], function(Plotly) {                    window.PLOTLYENV=window.PLOTLYENV || {};                                    if (document.getElementById(\"7cbeefd9-0248-4f1b-8e62-7d4509ff6609\")) {                    Plotly.newPlot(                        \"7cbeefd9-0248-4f1b-8e62-7d4509ff6609\",                        [{\"marker\":{\"color\":[1.7171575692765482,1.7039689550731953],\"colorbar\":{\"title\":{\"text\":\"Lift\"}},\"colorscale\":[[0.0,\"rgb(243, 224, 247)\"],[0.16666666666666666,\"rgb(228, 199, 241)\"],[0.3333333333333333,\"rgb(209, 175, 232)\"],[0.5,\"rgb(185, 152, 221)\"],[0.6666666666666666,\"rgb(159, 130, 206)\"],[0.8333333333333334,\"rgb(130, 109, 186)\"],[1.0,\"rgb(99, 88, 159)\"]]},\"mode\":\"markers\",\"text\":[\"('Extra Salami or Feta',) =\\u003e ('Coffee',), Lift: 1.7171575692765482\",\"('Keeping It Local',) =\\u003e ('Coffee',), Lift: 1.7039689550731953\"],\"x\":[0.003252544329031581,0.0053509600251809885],\"y\":[0.8157894736842105,0.8095238095238095],\"type\":\"scatter\"}],                        {\"template\":{\"data\":{\"histogram2dcontour\":[{\"type\":\"histogram2dcontour\",\"colorbar\":{\"outlinewidth\":0,\"ticks\":\"\"},\"colorscale\":[[0.0,\"#0d0887\"],[0.1111111111111111,\"#46039f\"],[0.2222222222222222,\"#7201a8\"],[0.3333333333333333,\"#9c179e\"],[0.4444444444444444,\"#bd3786\"],[0.5555555555555556,\"#d8576b\"],[0.6666666666666666,\"#ed7953\"],[0.7777777777777778,\"#fb9f3a\"],[0.8888888888888888,\"#fdca26\"],[1.0,\"#f0f921\"]]}],\"choropleth\":[{\"type\":\"choropleth\",\"colorbar\":{\"outlinewidth\":0,\"ticks\":\"\"}}],\"histogram2d\":[{\"type\":\"histogram2d\",\"colorbar\":{\"outlinewidth\":0,\"ticks\":\"\"},\"colorscale\":[[0.0,\"#0d0887\"],[0.1111111111111111,\"#46039f\"],[0.2222222222222222,\"#7201a8\"],[0.3333333333333333,\"#9c179e\"],[0.4444444444444444,\"#bd3786\"],[0.5555555555555556,\"#d8576b\"],[0.6666666666666666,\"#ed7953\"],[0.7777777777777778,\"#fb9f3a\"],[0.8888888888888888,\"#fdca26\"],[1.0,\"#f0f921\"]]}],\"heatmap\":[{\"type\":\"heatmap\",\"colorbar\":{\"outlinewidth\":0,\"ticks\":\"\"},\"colorscale\":[[0.0,\"#0d0887\"],[0.1111111111111111,\"#46039f\"],[0.2222222222222222,\"#7201a8\"],[0.3333333333333333,\"#9c179e\"],[0.4444444444444444,\"#bd3786\"],[0.5555555555555556,\"#d8576b\"],[0.6666666666666666,\"#ed7953\"],[0.7777777777777778,\"#fb9f3a\"],[0.8888888888888888,\"#fdca26\"],[1.0,\"#f0f921\"]]}],\"heatmapgl\":[{\"type\":\"heatmapgl\",\"colorbar\":{\"outlinewidth\":0,\"ticks\":\"\"},\"colorscale\":[[0.0,\"#0d0887\"],[0.1111111111111111,\"#46039f\"],[0.2222222222222222,\"#7201a8\"],[0.3333333333333333,\"#9c179e\"],[0.4444444444444444,\"#bd3786\"],[0.5555555555555556,\"#d8576b\"],[0.6666666666666666,\"#ed7953\"],[0.7777777777777778,\"#fb9f3a\"],[0.8888888888888888,\"#fdca26\"],[1.0,\"#f0f921\"]]}],\"contourcarpet\":[{\"type\":\"contourcarpet\",\"colorbar\":{\"outlinewidth\":0,\"ticks\":\"\"}}],\"contour\":[{\"type\":\"contour\",\"colorbar\":{\"outlinewidth\":0,\"ticks\":\"\"},\"colorscale\":[[0.0,\"#0d0887\"],[0.1111111111111111,\"#46039f\"],[0.2222222222222222,\"#7201a8\"],[0.3333333333333333,\"#9c179e\"],[0.4444444444444444,\"#bd3786\"],[0.5555555555555556,\"#d8576b\"],[0.6666666666666666,\"#ed7953\"],[0.7777777777777778,\"#fb9f3a\"],[0.8888888888888888,\"#fdca26\"],[1.0,\"#f0f921\"]]}],\"surface\":[{\"type\":\"surface\",\"colorbar\":{\"outlinewidth\":0,\"ticks\":\"\"},\"colorscale\":[[0.0,\"#0d0887\"],[0.1111111111111111,\"#46039f\"],[0.2222222222222222,\"#7201a8\"],[0.3333333333333333,\"#9c179e\"],[0.4444444444444444,\"#bd3786\"],[0.5555555555555556,\"#d8576b\"],[0.6666666666666666,\"#ed7953\"],[0.7777777777777778,\"#fb9f3a\"],[0.8888888888888888,\"#fdca26\"],[1.0,\"#f0f921\"]]}],\"mesh3d\":[{\"type\":\"mesh3d\",\"colorbar\":{\"outlinewidth\":0,\"ticks\":\"\"}}],\"scatter\":[{\"fillpattern\":{\"fillmode\":\"overlay\",\"size\":10,\"solidity\":0.2},\"type\":\"scatter\"}],\"parcoords\":[{\"type\":\"parcoords\",\"line\":{\"colorbar\":{\"outlinewidth\":0,\"ticks\":\"\"}}}],\"scatterpolargl\":[{\"type\":\"scatterpolargl\",\"marker\":{\"colorbar\":{\"outlinewidth\":0,\"ticks\":\"\"}}}],\"bar\":[{\"error_x\":{\"color\":\"#2a3f5f\"},\"error_y\":{\"color\":\"#2a3f5f\"},\"marker\":{\"line\":{\"color\":\"#E5ECF6\",\"width\":0.5},\"pattern\":{\"fillmode\":\"overlay\",\"size\":10,\"solidity\":0.2}},\"type\":\"bar\"}],\"scattergeo\":[{\"type\":\"scattergeo\",\"marker\":{\"colorbar\":{\"outlinewidth\":0,\"ticks\":\"\"}}}],\"scatterpolar\":[{\"type\":\"scatterpolar\",\"marker\":{\"colorbar\":{\"outlinewidth\":0,\"ticks\":\"\"}}}],\"histogram\":[{\"marker\":{\"pattern\":{\"fillmode\":\"overlay\",\"size\":10,\"solidity\":0.2}},\"type\":\"histogram\"}],\"scattergl\":[{\"type\":\"scattergl\",\"marker\":{\"colorbar\":{\"outlinewidth\":0,\"ticks\":\"\"}}}],\"scatter3d\":[{\"type\":\"scatter3d\",\"line\":{\"colorbar\":{\"outlinewidth\":0,\"ticks\":\"\"}},\"marker\":{\"colorbar\":{\"outlinewidth\":0,\"ticks\":\"\"}}}],\"scattermapbox\":[{\"type\":\"scattermapbox\",\"marker\":{\"colorbar\":{\"outlinewidth\":0,\"ticks\":\"\"}}}],\"scatterternary\":[{\"type\":\"scatterternary\",\"marker\":{\"colorbar\":{\"outlinewidth\":0,\"ticks\":\"\"}}}],\"scattercarpet\":[{\"type\":\"scattercarpet\",\"marker\":{\"colorbar\":{\"outlinewidth\":0,\"ticks\":\"\"}}}],\"carpet\":[{\"aaxis\":{\"endlinecolor\":\"#2a3f5f\",\"gridcolor\":\"white\",\"linecolor\":\"white\",\"minorgridcolor\":\"white\",\"startlinecolor\":\"#2a3f5f\"},\"baxis\":{\"endlinecolor\":\"#2a3f5f\",\"gridcolor\":\"white\",\"linecolor\":\"white\",\"minorgridcolor\":\"white\",\"startlinecolor\":\"#2a3f5f\"},\"type\":\"carpet\"}],\"table\":[{\"cells\":{\"fill\":{\"color\":\"#EBF0F8\"},\"line\":{\"color\":\"white\"}},\"header\":{\"fill\":{\"color\":\"#C8D4E3\"},\"line\":{\"color\":\"white\"}},\"type\":\"table\"}],\"barpolar\":[{\"marker\":{\"line\":{\"color\":\"#E5ECF6\",\"width\":0.5},\"pattern\":{\"fillmode\":\"overlay\",\"size\":10,\"solidity\":0.2}},\"type\":\"barpolar\"}],\"pie\":[{\"automargin\":true,\"type\":\"pie\"}]},\"layout\":{\"autotypenumbers\":\"strict\",\"colorway\":[\"#636efa\",\"#EF553B\",\"#00cc96\",\"#ab63fa\",\"#FFA15A\",\"#19d3f3\",\"#FF6692\",\"#B6E880\",\"#FF97FF\",\"#FECB52\"],\"font\":{\"color\":\"#2a3f5f\"},\"hovermode\":\"closest\",\"hoverlabel\":{\"align\":\"left\"},\"paper_bgcolor\":\"white\",\"plot_bgcolor\":\"#E5ECF6\",\"polar\":{\"bgcolor\":\"#E5ECF6\",\"angularaxis\":{\"gridcolor\":\"white\",\"linecolor\":\"white\",\"ticks\":\"\"},\"radialaxis\":{\"gridcolor\":\"white\",\"linecolor\":\"white\",\"ticks\":\"\"}},\"ternary\":{\"bgcolor\":\"#E5ECF6\",\"aaxis\":{\"gridcolor\":\"white\",\"linecolor\":\"white\",\"ticks\":\"\"},\"baxis\":{\"gridcolor\":\"white\",\"linecolor\":\"white\",\"ticks\":\"\"},\"caxis\":{\"gridcolor\":\"white\",\"linecolor\":\"white\",\"ticks\":\"\"}},\"coloraxis\":{\"colorbar\":{\"outlinewidth\":0,\"ticks\":\"\"}},\"colorscale\":{\"sequential\":[[0.0,\"#0d0887\"],[0.1111111111111111,\"#46039f\"],[0.2222222222222222,\"#7201a8\"],[0.3333333333333333,\"#9c179e\"],[0.4444444444444444,\"#bd3786\"],[0.5555555555555556,\"#d8576b\"],[0.6666666666666666,\"#ed7953\"],[0.7777777777777778,\"#fb9f3a\"],[0.8888888888888888,\"#fdca26\"],[1.0,\"#f0f921\"]],\"sequentialminus\":[[0.0,\"#0d0887\"],[0.1111111111111111,\"#46039f\"],[0.2222222222222222,\"#7201a8\"],[0.3333333333333333,\"#9c179e\"],[0.4444444444444444,\"#bd3786\"],[0.5555555555555556,\"#d8576b\"],[0.6666666666666666,\"#ed7953\"],[0.7777777777777778,\"#fb9f3a\"],[0.8888888888888888,\"#fdca26\"],[1.0,\"#f0f921\"]],\"diverging\":[[0,\"#8e0152\"],[0.1,\"#c51b7d\"],[0.2,\"#de77ae\"],[0.3,\"#f1b6da\"],[0.4,\"#fde0ef\"],[0.5,\"#f7f7f7\"],[0.6,\"#e6f5d0\"],[0.7,\"#b8e186\"],[0.8,\"#7fbc41\"],[0.9,\"#4d9221\"],[1,\"#276419\"]]},\"xaxis\":{\"gridcolor\":\"white\",\"linecolor\":\"white\",\"ticks\":\"\",\"title\":{\"standoff\":15},\"zerolinecolor\":\"white\",\"automargin\":true,\"zerolinewidth\":2},\"yaxis\":{\"gridcolor\":\"white\",\"linecolor\":\"white\",\"ticks\":\"\",\"title\":{\"standoff\":15},\"zerolinecolor\":\"white\",\"automargin\":true,\"zerolinewidth\":2},\"scene\":{\"xaxis\":{\"backgroundcolor\":\"#E5ECF6\",\"gridcolor\":\"white\",\"linecolor\":\"white\",\"showbackground\":true,\"ticks\":\"\",\"zerolinecolor\":\"white\",\"gridwidth\":2},\"yaxis\":{\"backgroundcolor\":\"#E5ECF6\",\"gridcolor\":\"white\",\"linecolor\":\"white\",\"showbackground\":true,\"ticks\":\"\",\"zerolinecolor\":\"white\",\"gridwidth\":2},\"zaxis\":{\"backgroundcolor\":\"#E5ECF6\",\"gridcolor\":\"white\",\"linecolor\":\"white\",\"showbackground\":true,\"ticks\":\"\",\"zerolinecolor\":\"white\",\"gridwidth\":2}},\"shapedefaults\":{\"line\":{\"color\":\"#2a3f5f\"}},\"annotationdefaults\":{\"arrowcolor\":\"#2a3f5f\",\"arrowhead\":0,\"arrowwidth\":1},\"geo\":{\"bgcolor\":\"white\",\"landcolor\":\"#E5ECF6\",\"subunitcolor\":\"white\",\"showland\":true,\"showlakes\":true,\"lakecolor\":\"white\"},\"title\":{\"x\":0.05},\"mapbox\":{\"style\":\"light\"}}},\"xaxis\":{\"title\":{\"text\":\"Support\"},\"autorange\":\"reversed\"},\"title\":{\"text\":\"Association Rules Strength Distribution\"},\"yaxis\":{\"title\":{\"text\":\"Confidence\"}}},                        {\"responsive\": true}                    ).then(function(){\n",
       "                            \n",
       "var gd = document.getElementById('7cbeefd9-0248-4f1b-8e62-7d4509ff6609');\n",
       "var x = new MutationObserver(function (mutations, observer) {{\n",
       "        var display = window.getComputedStyle(gd).display;\n",
       "        if (!display || display === 'none') {{\n",
       "            console.log([gd, 'removed!']);\n",
       "            Plotly.purge(gd);\n",
       "            observer.disconnect();\n",
       "        }}\n",
       "}});\n",
       "\n",
       "// Listen for the removal of the full notebook cells\n",
       "var notebookContainer = gd.closest('#notebook-container');\n",
       "if (notebookContainer) {{\n",
       "    x.observe(notebookContainer, {childList: true});\n",
       "}}\n",
       "\n",
       "// Listen for the clearing of the current output cell\n",
       "var outputEl = gd.closest('.output');\n",
       "if (outputEl) {{\n",
       "    x.observe(outputEl, {childList: true});\n",
       "}}\n",
       "\n",
       "                        })                };                });            </script>        </div>"
      ]
     },
     "metadata": {},
     "output_type": "display_data",
     "jetTransient": {
      "display_id": null
     }
    },
    {
     "data": {
      "application/vnd.plotly.v1+json": {
       "data": [
        {
         "hoverinfo": "none",
         "line": {
          "color": "#888",
          "width": 0.5
         },
         "mode": "lines",
         "x": [
          0.14561435925996727,
          0.5781619919189168,
          null,
          -0.1951526641489937,
          0.14561435925996727,
          null,
          -0.1951526641489937,
          0.5163676847493153,
          null,
          0.14294257467603583,
          0.5781619919189168,
          null,
          -0.41049207970313994,
          0.14294257467603583,
          null,
          0.29593846227541193,
          0.5781619919189168,
          null,
          -0.7428209580368801,
          0.29593846227541193,
          null,
          -0.3851647807682007,
          0.29593846227541193,
          null,
          0.5163676847493153,
          0.5781619919189168,
          null,
          -0.364755790709532,
          0.5163676847493153,
          null,
          -0.364755790709532,
          -0.5018845697736102,
          null,
          0.5634110295167499,
          0.5781619919189168,
          null,
          0.5185948013044642,
          0.5634110295167499,
          null,
          -0.44501955233439616,
          0.5634110295167499,
          null,
          -0.44501955233439616,
          -0.5018845697736102,
          null,
          0.5893759059404601,
          0.5781619919189168,
          null,
          -0.07212824044775497,
          0.5893759059404601,
          null,
          -0.07212824044775497,
          0.1408350523656455,
          null,
          -0.07212824044775497,
          0.4500231407513264,
          null,
          -0.015206528294190247,
          0.5893759059404601,
          null,
          0.1408350523656455,
          0.5781619919189168,
          null,
          -0.6855068971259725,
          0.1408350523656455,
          null,
          0.6667143771324389,
          0.5781619919189168,
          null,
          -0.2845364751922377,
          0.6667143771324389,
          null,
          -0.36335338463288475,
          0.6667143771324389,
          null,
          -0.5018845697736102,
          0.5781619919189168,
          null,
          0.4500231407513264,
          0.5781619919189168,
          null,
          -0.49629060549975307,
          0.4500231407513264,
          null,
          0.354333146776815,
          0.4500231407513264,
          null
         ],
         "y": [
          0.24156656272711394,
          -0.040188778379307316,
          null,
          -0.2222998827136725,
          0.24156656272711394,
          null,
          -0.2222998827136725,
          -0.5416970636384568,
          null,
          -0.2947482190751006,
          -0.040188778379307316,
          null,
          -0.8043134329756583,
          -0.2947482190751006,
          null,
          -0.5139494142993749,
          -0.040188778379307316,
          null,
          -0.6779037346472091,
          -0.5139494142993749,
          null,
          -0.4972326995445021,
          -0.5139494142993749,
          null,
          -0.5416970636384568,
          -0.040188778379307316,
          null,
          -0.563801967805504,
          -0.5416970636384568,
          null,
          -0.563801967805504,
          0.06202622583414825,
          null,
          -0.3247023996934887,
          -0.040188778379307316,
          null,
          -0.8911194315176884,
          -0.3247023996934887,
          null,
          -0.24098023994361198,
          -0.3247023996934887,
          null,
          -0.24098023994361198,
          0.06202622583414825,
          null,
          0.5126463211126531,
          -0.040188778379307316,
          null,
          0.4544689743007468,
          0.5126463211126531,
          null,
          0.4544689743007468,
          -0.014304951522411659,
          null,
          0.4544689743007468,
          0.358193909896253,
          null,
          1.0,
          0.5126463211126531,
          null,
          -0.014304951522411659,
          -0.040188778379307316,
          null,
          0.08848731592065968,
          -0.014304951522411659,
          null,
          0.2563185310502889,
          -0.040188778379307316,
          null,
          0.45407246016209274,
          0.2563185310502889,
          null,
          0.6575523650817912,
          0.2563185310502889,
          null,
          0.06202622583414825,
          -0.040188778379307316,
          null,
          0.358193909896253,
          -0.040188778379307316,
          null,
          0.6162118845519966,
          0.358193909896253,
          null,
          0.9256976651182411,
          0.358193909896253,
          null
         ],
         "type": "scatter"
        },
        {
         "hoverinfo": "text",
         "marker": {
          "color": [],
          "colorbar": {
           "thickness": 15,
           "title": {
            "side": "right",
            "text": "Node Connections"
           },
           "xanchor": "left"
          },
          "colorscale": [
           [
            0.0,
            "rgb(255,255,217)"
           ],
           [
            0.125,
            "rgb(237,248,177)"
           ],
           [
            0.25,
            "rgb(199,233,180)"
           ],
           [
            0.375,
            "rgb(127,205,187)"
           ],
           [
            0.5,
            "rgb(65,182,196)"
           ],
           [
            0.625,
            "rgb(29,145,192)"
           ],
           [
            0.75,
            "rgb(34,94,168)"
           ],
           [
            0.875,
            "rgb(37,52,148)"
           ],
           [
            1.0,
            "rgb(8,29,88)"
           ]
          ],
          "line": {
           "width": 2
          },
          "reversescale": true,
          "showscale": true,
          "size": 10
         },
         "mode": "markers",
         "text": [
          "0",
          "Extra Salami or Feta",
          "Coffee",
          "1",
          "Keeping It Local",
          "2",
          "Cake",
          "Vegan mincepie",
          "3",
          "Salad",
          "4",
          "Hearty & Seasonal",
          "Sandwich",
          "5",
          "NONE",
          "Scone",
          "6",
          "Tartine",
          "7",
          "Pastry",
          "Toast",
          "8",
          "9",
          "Hot chocolate",
          "Medialuna"
         ],
         "x": [
          0.14561435925996727,
          -0.1951526641489937,
          0.5781619919189168,
          0.14294257467603583,
          -0.41049207970313994,
          0.29593846227541193,
          -0.7428209580368801,
          -0.3851647807682007,
          0.5163676847493153,
          -0.364755790709532,
          0.5634110295167499,
          0.5185948013044642,
          -0.44501955233439616,
          0.5893759059404601,
          -0.07212824044775497,
          -0.015206528294190247,
          0.1408350523656455,
          -0.6855068971259725,
          0.6667143771324389,
          -0.2845364751922377,
          -0.36335338463288475,
          -0.5018845697736102,
          0.4500231407513264,
          -0.49629060549975307,
          0.354333146776815
         ],
         "y": [
          0.24156656272711394,
          -0.2222998827136725,
          -0.040188778379307316,
          -0.2947482190751006,
          -0.8043134329756583,
          -0.5139494142993749,
          -0.6779037346472091,
          -0.4972326995445021,
          -0.5416970636384568,
          -0.563801967805504,
          -0.3247023996934887,
          -0.8911194315176884,
          -0.24098023994361198,
          0.5126463211126531,
          0.4544689743007468,
          1.0,
          -0.014304951522411659,
          0.08848731592065968,
          0.2563185310502889,
          0.45407246016209274,
          0.6575523650817912,
          0.06202622583414825,
          0.358193909896253,
          0.6162118845519966,
          0.9256976651182411
         ],
         "type": "scatter"
        }
       ],
       "layout": {
        "annotations": [
         {
          "showarrow": false,
          "text": "Python code: <a href='https://plotly.com/ipython-notebooks/network-graphs/'> https://plotly.com/ipython-notebooks/network-graphs/</a>",
          "x": 0.005,
          "xref": "paper",
          "y": -0.002,
          "yref": "paper"
         }
        ],
        "hovermode": "closest",
        "margin": {
         "b": 20,
         "l": 5,
         "r": 5,
         "t": 40
        },
        "showlegend": false,
        "title": {
         "font": {
          "size": 16
         },
         "text": "<br>Network graph made with Python"
        },
        "xaxis": {
         "showgrid": false,
         "showticklabels": false,
         "zeroline": false
        },
        "yaxis": {
         "showgrid": false,
         "showticklabels": false,
         "zeroline": false
        },
        "template": {
         "data": {
          "histogram2dcontour": [
           {
            "type": "histogram2dcontour",
            "colorbar": {
             "outlinewidth": 0,
             "ticks": ""
            },
            "colorscale": [
             [
              0.0,
              "#0d0887"
             ],
             [
              0.1111111111111111,
              "#46039f"
             ],
             [
              0.2222222222222222,
              "#7201a8"
             ],
             [
              0.3333333333333333,
              "#9c179e"
             ],
             [
              0.4444444444444444,
              "#bd3786"
             ],
             [
              0.5555555555555556,
              "#d8576b"
             ],
             [
              0.6666666666666666,
              "#ed7953"
             ],
             [
              0.7777777777777778,
              "#fb9f3a"
             ],
             [
              0.8888888888888888,
              "#fdca26"
             ],
             [
              1.0,
              "#f0f921"
             ]
            ]
           }
          ],
          "choropleth": [
           {
            "type": "choropleth",
            "colorbar": {
             "outlinewidth": 0,
             "ticks": ""
            }
           }
          ],
          "histogram2d": [
           {
            "type": "histogram2d",
            "colorbar": {
             "outlinewidth": 0,
             "ticks": ""
            },
            "colorscale": [
             [
              0.0,
              "#0d0887"
             ],
             [
              0.1111111111111111,
              "#46039f"
             ],
             [
              0.2222222222222222,
              "#7201a8"
             ],
             [
              0.3333333333333333,
              "#9c179e"
             ],
             [
              0.4444444444444444,
              "#bd3786"
             ],
             [
              0.5555555555555556,
              "#d8576b"
             ],
             [
              0.6666666666666666,
              "#ed7953"
             ],
             [
              0.7777777777777778,
              "#fb9f3a"
             ],
             [
              0.8888888888888888,
              "#fdca26"
             ],
             [
              1.0,
              "#f0f921"
             ]
            ]
           }
          ],
          "heatmap": [
           {
            "type": "heatmap",
            "colorbar": {
             "outlinewidth": 0,
             "ticks": ""
            },
            "colorscale": [
             [
              0.0,
              "#0d0887"
             ],
             [
              0.1111111111111111,
              "#46039f"
             ],
             [
              0.2222222222222222,
              "#7201a8"
             ],
             [
              0.3333333333333333,
              "#9c179e"
             ],
             [
              0.4444444444444444,
              "#bd3786"
             ],
             [
              0.5555555555555556,
              "#d8576b"
             ],
             [
              0.6666666666666666,
              "#ed7953"
             ],
             [
              0.7777777777777778,
              "#fb9f3a"
             ],
             [
              0.8888888888888888,
              "#fdca26"
             ],
             [
              1.0,
              "#f0f921"
             ]
            ]
           }
          ],
          "heatmapgl": [
           {
            "type": "heatmapgl",
            "colorbar": {
             "outlinewidth": 0,
             "ticks": ""
            },
            "colorscale": [
             [
              0.0,
              "#0d0887"
             ],
             [
              0.1111111111111111,
              "#46039f"
             ],
             [
              0.2222222222222222,
              "#7201a8"
             ],
             [
              0.3333333333333333,
              "#9c179e"
             ],
             [
              0.4444444444444444,
              "#bd3786"
             ],
             [
              0.5555555555555556,
              "#d8576b"
             ],
             [
              0.6666666666666666,
              "#ed7953"
             ],
             [
              0.7777777777777778,
              "#fb9f3a"
             ],
             [
              0.8888888888888888,
              "#fdca26"
             ],
             [
              1.0,
              "#f0f921"
             ]
            ]
           }
          ],
          "contourcarpet": [
           {
            "type": "contourcarpet",
            "colorbar": {
             "outlinewidth": 0,
             "ticks": ""
            }
           }
          ],
          "contour": [
           {
            "type": "contour",
            "colorbar": {
             "outlinewidth": 0,
             "ticks": ""
            },
            "colorscale": [
             [
              0.0,
              "#0d0887"
             ],
             [
              0.1111111111111111,
              "#46039f"
             ],
             [
              0.2222222222222222,
              "#7201a8"
             ],
             [
              0.3333333333333333,
              "#9c179e"
             ],
             [
              0.4444444444444444,
              "#bd3786"
             ],
             [
              0.5555555555555556,
              "#d8576b"
             ],
             [
              0.6666666666666666,
              "#ed7953"
             ],
             [
              0.7777777777777778,
              "#fb9f3a"
             ],
             [
              0.8888888888888888,
              "#fdca26"
             ],
             [
              1.0,
              "#f0f921"
             ]
            ]
           }
          ],
          "surface": [
           {
            "type": "surface",
            "colorbar": {
             "outlinewidth": 0,
             "ticks": ""
            },
            "colorscale": [
             [
              0.0,
              "#0d0887"
             ],
             [
              0.1111111111111111,
              "#46039f"
             ],
             [
              0.2222222222222222,
              "#7201a8"
             ],
             [
              0.3333333333333333,
              "#9c179e"
             ],
             [
              0.4444444444444444,
              "#bd3786"
             ],
             [
              0.5555555555555556,
              "#d8576b"
             ],
             [
              0.6666666666666666,
              "#ed7953"
             ],
             [
              0.7777777777777778,
              "#fb9f3a"
             ],
             [
              0.8888888888888888,
              "#fdca26"
             ],
             [
              1.0,
              "#f0f921"
             ]
            ]
           }
          ],
          "mesh3d": [
           {
            "type": "mesh3d",
            "colorbar": {
             "outlinewidth": 0,
             "ticks": ""
            }
           }
          ],
          "scatter": [
           {
            "fillpattern": {
             "fillmode": "overlay",
             "size": 10,
             "solidity": 0.2
            },
            "type": "scatter"
           }
          ],
          "parcoords": [
           {
            "type": "parcoords",
            "line": {
             "colorbar": {
              "outlinewidth": 0,
              "ticks": ""
             }
            }
           }
          ],
          "scatterpolargl": [
           {
            "type": "scatterpolargl",
            "marker": {
             "colorbar": {
              "outlinewidth": 0,
              "ticks": ""
             }
            }
           }
          ],
          "bar": [
           {
            "error_x": {
             "color": "#2a3f5f"
            },
            "error_y": {
             "color": "#2a3f5f"
            },
            "marker": {
             "line": {
              "color": "#E5ECF6",
              "width": 0.5
             },
             "pattern": {
              "fillmode": "overlay",
              "size": 10,
              "solidity": 0.2
             }
            },
            "type": "bar"
           }
          ],
          "scattergeo": [
           {
            "type": "scattergeo",
            "marker": {
             "colorbar": {
              "outlinewidth": 0,
              "ticks": ""
             }
            }
           }
          ],
          "scatterpolar": [
           {
            "type": "scatterpolar",
            "marker": {
             "colorbar": {
              "outlinewidth": 0,
              "ticks": ""
             }
            }
           }
          ],
          "histogram": [
           {
            "marker": {
             "pattern": {
              "fillmode": "overlay",
              "size": 10,
              "solidity": 0.2
             }
            },
            "type": "histogram"
           }
          ],
          "scattergl": [
           {
            "type": "scattergl",
            "marker": {
             "colorbar": {
              "outlinewidth": 0,
              "ticks": ""
             }
            }
           }
          ],
          "scatter3d": [
           {
            "type": "scatter3d",
            "line": {
             "colorbar": {
              "outlinewidth": 0,
              "ticks": ""
             }
            },
            "marker": {
             "colorbar": {
              "outlinewidth": 0,
              "ticks": ""
             }
            }
           }
          ],
          "scattermapbox": [
           {
            "type": "scattermapbox",
            "marker": {
             "colorbar": {
              "outlinewidth": 0,
              "ticks": ""
             }
            }
           }
          ],
          "scatterternary": [
           {
            "type": "scatterternary",
            "marker": {
             "colorbar": {
              "outlinewidth": 0,
              "ticks": ""
             }
            }
           }
          ],
          "scattercarpet": [
           {
            "type": "scattercarpet",
            "marker": {
             "colorbar": {
              "outlinewidth": 0,
              "ticks": ""
             }
            }
           }
          ],
          "carpet": [
           {
            "aaxis": {
             "endlinecolor": "#2a3f5f",
             "gridcolor": "white",
             "linecolor": "white",
             "minorgridcolor": "white",
             "startlinecolor": "#2a3f5f"
            },
            "baxis": {
             "endlinecolor": "#2a3f5f",
             "gridcolor": "white",
             "linecolor": "white",
             "minorgridcolor": "white",
             "startlinecolor": "#2a3f5f"
            },
            "type": "carpet"
           }
          ],
          "table": [
           {
            "cells": {
             "fill": {
              "color": "#EBF0F8"
             },
             "line": {
              "color": "white"
             }
            },
            "header": {
             "fill": {
              "color": "#C8D4E3"
             },
             "line": {
              "color": "white"
             }
            },
            "type": "table"
           }
          ],
          "barpolar": [
           {
            "marker": {
             "line": {
              "color": "#E5ECF6",
              "width": 0.5
             },
             "pattern": {
              "fillmode": "overlay",
              "size": 10,
              "solidity": 0.2
             }
            },
            "type": "barpolar"
           }
          ],
          "pie": [
           {
            "automargin": true,
            "type": "pie"
           }
          ]
         },
         "layout": {
          "autotypenumbers": "strict",
          "colorway": [
           "#636efa",
           "#EF553B",
           "#00cc96",
           "#ab63fa",
           "#FFA15A",
           "#19d3f3",
           "#FF6692",
           "#B6E880",
           "#FF97FF",
           "#FECB52"
          ],
          "font": {
           "color": "#2a3f5f"
          },
          "hovermode": "closest",
          "hoverlabel": {
           "align": "left"
          },
          "paper_bgcolor": "white",
          "plot_bgcolor": "#E5ECF6",
          "polar": {
           "bgcolor": "#E5ECF6",
           "angularaxis": {
            "gridcolor": "white",
            "linecolor": "white",
            "ticks": ""
           },
           "radialaxis": {
            "gridcolor": "white",
            "linecolor": "white",
            "ticks": ""
           }
          },
          "ternary": {
           "bgcolor": "#E5ECF6",
           "aaxis": {
            "gridcolor": "white",
            "linecolor": "white",
            "ticks": ""
           },
           "baxis": {
            "gridcolor": "white",
            "linecolor": "white",
            "ticks": ""
           },
           "caxis": {
            "gridcolor": "white",
            "linecolor": "white",
            "ticks": ""
           }
          },
          "coloraxis": {
           "colorbar": {
            "outlinewidth": 0,
            "ticks": ""
           }
          },
          "colorscale": {
           "sequential": [
            [
             0.0,
             "#0d0887"
            ],
            [
             0.1111111111111111,
             "#46039f"
            ],
            [
             0.2222222222222222,
             "#7201a8"
            ],
            [
             0.3333333333333333,
             "#9c179e"
            ],
            [
             0.4444444444444444,
             "#bd3786"
            ],
            [
             0.5555555555555556,
             "#d8576b"
            ],
            [
             0.6666666666666666,
             "#ed7953"
            ],
            [
             0.7777777777777778,
             "#fb9f3a"
            ],
            [
             0.8888888888888888,
             "#fdca26"
            ],
            [
             1.0,
             "#f0f921"
            ]
           ],
           "sequentialminus": [
            [
             0.0,
             "#0d0887"
            ],
            [
             0.1111111111111111,
             "#46039f"
            ],
            [
             0.2222222222222222,
             "#7201a8"
            ],
            [
             0.3333333333333333,
             "#9c179e"
            ],
            [
             0.4444444444444444,
             "#bd3786"
            ],
            [
             0.5555555555555556,
             "#d8576b"
            ],
            [
             0.6666666666666666,
             "#ed7953"
            ],
            [
             0.7777777777777778,
             "#fb9f3a"
            ],
            [
             0.8888888888888888,
             "#fdca26"
            ],
            [
             1.0,
             "#f0f921"
            ]
           ],
           "diverging": [
            [
             0,
             "#8e0152"
            ],
            [
             0.1,
             "#c51b7d"
            ],
            [
             0.2,
             "#de77ae"
            ],
            [
             0.3,
             "#f1b6da"
            ],
            [
             0.4,
             "#fde0ef"
            ],
            [
             0.5,
             "#f7f7f7"
            ],
            [
             0.6,
             "#e6f5d0"
            ],
            [
             0.7,
             "#b8e186"
            ],
            [
             0.8,
             "#7fbc41"
            ],
            [
             0.9,
             "#4d9221"
            ],
            [
             1,
             "#276419"
            ]
           ]
          },
          "xaxis": {
           "gridcolor": "white",
           "linecolor": "white",
           "ticks": "",
           "title": {
            "standoff": 15
           },
           "zerolinecolor": "white",
           "automargin": true,
           "zerolinewidth": 2
          },
          "yaxis": {
           "gridcolor": "white",
           "linecolor": "white",
           "ticks": "",
           "title": {
            "standoff": 15
           },
           "zerolinecolor": "white",
           "automargin": true,
           "zerolinewidth": 2
          },
          "scene": {
           "xaxis": {
            "backgroundcolor": "#E5ECF6",
            "gridcolor": "white",
            "linecolor": "white",
            "showbackground": true,
            "ticks": "",
            "zerolinecolor": "white",
            "gridwidth": 2
           },
           "yaxis": {
            "backgroundcolor": "#E5ECF6",
            "gridcolor": "white",
            "linecolor": "white",
            "showbackground": true,
            "ticks": "",
            "zerolinecolor": "white",
            "gridwidth": 2
           },
           "zaxis": {
            "backgroundcolor": "#E5ECF6",
            "gridcolor": "white",
            "linecolor": "white",
            "showbackground": true,
            "ticks": "",
            "zerolinecolor": "white",
            "gridwidth": 2
           }
          },
          "shapedefaults": {
           "line": {
            "color": "#2a3f5f"
           }
          },
          "annotationdefaults": {
           "arrowcolor": "#2a3f5f",
           "arrowhead": 0,
           "arrowwidth": 1
          },
          "geo": {
           "bgcolor": "white",
           "landcolor": "#E5ECF6",
           "subunitcolor": "white",
           "showland": true,
           "showlakes": true,
           "lakecolor": "white"
          },
          "title": {
           "x": 0.05
          },
          "mapbox": {
           "style": "light"
          }
         }
        }
       },
       "config": {
        "plotlyServerURL": "https://plot.ly"
       }
      },
      "text/html": [
       "<div>                            <div id=\"de120021-0a7f-40b4-9c91-60ef177ae9c0\" class=\"plotly-graph-div\" style=\"height:525px; width:100%;\"></div>            <script type=\"text/javascript\">                require([\"plotly\"], function(Plotly) {                    window.PLOTLYENV=window.PLOTLYENV || {};                                    if (document.getElementById(\"de120021-0a7f-40b4-9c91-60ef177ae9c0\")) {                    Plotly.newPlot(                        \"de120021-0a7f-40b4-9c91-60ef177ae9c0\",                        [{\"hoverinfo\":\"none\",\"line\":{\"color\":\"#888\",\"width\":0.5},\"mode\":\"lines\",\"x\":[0.14561435925996727,0.5781619919189168,null,-0.1951526641489937,0.14561435925996727,null,-0.1951526641489937,0.5163676847493153,null,0.14294257467603583,0.5781619919189168,null,-0.41049207970313994,0.14294257467603583,null,0.29593846227541193,0.5781619919189168,null,-0.7428209580368801,0.29593846227541193,null,-0.3851647807682007,0.29593846227541193,null,0.5163676847493153,0.5781619919189168,null,-0.364755790709532,0.5163676847493153,null,-0.364755790709532,-0.5018845697736102,null,0.5634110295167499,0.5781619919189168,null,0.5185948013044642,0.5634110295167499,null,-0.44501955233439616,0.5634110295167499,null,-0.44501955233439616,-0.5018845697736102,null,0.5893759059404601,0.5781619919189168,null,-0.07212824044775497,0.5893759059404601,null,-0.07212824044775497,0.1408350523656455,null,-0.07212824044775497,0.4500231407513264,null,-0.015206528294190247,0.5893759059404601,null,0.1408350523656455,0.5781619919189168,null,-0.6855068971259725,0.1408350523656455,null,0.6667143771324389,0.5781619919189168,null,-0.2845364751922377,0.6667143771324389,null,-0.36335338463288475,0.6667143771324389,null,-0.5018845697736102,0.5781619919189168,null,0.4500231407513264,0.5781619919189168,null,-0.49629060549975307,0.4500231407513264,null,0.354333146776815,0.4500231407513264,null],\"y\":[0.24156656272711394,-0.040188778379307316,null,-0.2222998827136725,0.24156656272711394,null,-0.2222998827136725,-0.5416970636384568,null,-0.2947482190751006,-0.040188778379307316,null,-0.8043134329756583,-0.2947482190751006,null,-0.5139494142993749,-0.040188778379307316,null,-0.6779037346472091,-0.5139494142993749,null,-0.4972326995445021,-0.5139494142993749,null,-0.5416970636384568,-0.040188778379307316,null,-0.563801967805504,-0.5416970636384568,null,-0.563801967805504,0.06202622583414825,null,-0.3247023996934887,-0.040188778379307316,null,-0.8911194315176884,-0.3247023996934887,null,-0.24098023994361198,-0.3247023996934887,null,-0.24098023994361198,0.06202622583414825,null,0.5126463211126531,-0.040188778379307316,null,0.4544689743007468,0.5126463211126531,null,0.4544689743007468,-0.014304951522411659,null,0.4544689743007468,0.358193909896253,null,1.0,0.5126463211126531,null,-0.014304951522411659,-0.040188778379307316,null,0.08848731592065968,-0.014304951522411659,null,0.2563185310502889,-0.040188778379307316,null,0.45407246016209274,0.2563185310502889,null,0.6575523650817912,0.2563185310502889,null,0.06202622583414825,-0.040188778379307316,null,0.358193909896253,-0.040188778379307316,null,0.6162118845519966,0.358193909896253,null,0.9256976651182411,0.358193909896253,null],\"type\":\"scatter\"},{\"hoverinfo\":\"text\",\"marker\":{\"color\":[],\"colorbar\":{\"thickness\":15,\"title\":{\"side\":\"right\",\"text\":\"Node Connections\"},\"xanchor\":\"left\"},\"colorscale\":[[0.0,\"rgb(255,255,217)\"],[0.125,\"rgb(237,248,177)\"],[0.25,\"rgb(199,233,180)\"],[0.375,\"rgb(127,205,187)\"],[0.5,\"rgb(65,182,196)\"],[0.625,\"rgb(29,145,192)\"],[0.75,\"rgb(34,94,168)\"],[0.875,\"rgb(37,52,148)\"],[1.0,\"rgb(8,29,88)\"]],\"line\":{\"width\":2},\"reversescale\":true,\"showscale\":true,\"size\":10},\"mode\":\"markers\",\"text\":[\"0\",\"Extra Salami or Feta\",\"Coffee\",\"1\",\"Keeping It Local\",\"2\",\"Cake\",\"Vegan mincepie\",\"3\",\"Salad\",\"4\",\"Hearty & Seasonal\",\"Sandwich\",\"5\",\"NONE\",\"Scone\",\"6\",\"Tartine\",\"7\",\"Pastry\",\"Toast\",\"8\",\"9\",\"Hot chocolate\",\"Medialuna\"],\"x\":[0.14561435925996727,-0.1951526641489937,0.5781619919189168,0.14294257467603583,-0.41049207970313994,0.29593846227541193,-0.7428209580368801,-0.3851647807682007,0.5163676847493153,-0.364755790709532,0.5634110295167499,0.5185948013044642,-0.44501955233439616,0.5893759059404601,-0.07212824044775497,-0.015206528294190247,0.1408350523656455,-0.6855068971259725,0.6667143771324389,-0.2845364751922377,-0.36335338463288475,-0.5018845697736102,0.4500231407513264,-0.49629060549975307,0.354333146776815],\"y\":[0.24156656272711394,-0.2222998827136725,-0.040188778379307316,-0.2947482190751006,-0.8043134329756583,-0.5139494142993749,-0.6779037346472091,-0.4972326995445021,-0.5416970636384568,-0.563801967805504,-0.3247023996934887,-0.8911194315176884,-0.24098023994361198,0.5126463211126531,0.4544689743007468,1.0,-0.014304951522411659,0.08848731592065968,0.2563185310502889,0.45407246016209274,0.6575523650817912,0.06202622583414825,0.358193909896253,0.6162118845519966,0.9256976651182411],\"type\":\"scatter\"}],                        {\"annotations\":[{\"showarrow\":false,\"text\":\"Python code: \\u003ca href='https:\\u002f\\u002fplotly.com\\u002fipython-notebooks\\u002fnetwork-graphs\\u002f'\\u003e https:\\u002f\\u002fplotly.com\\u002fipython-notebooks\\u002fnetwork-graphs\\u002f\\u003c\\u002fa\\u003e\",\"x\":0.005,\"xref\":\"paper\",\"y\":-0.002,\"yref\":\"paper\"}],\"hovermode\":\"closest\",\"margin\":{\"b\":20,\"l\":5,\"r\":5,\"t\":40},\"showlegend\":false,\"title\":{\"font\":{\"size\":16},\"text\":\"\\u003cbr\\u003eNetwork graph made with Python\"},\"xaxis\":{\"showgrid\":false,\"showticklabels\":false,\"zeroline\":false},\"yaxis\":{\"showgrid\":false,\"showticklabels\":false,\"zeroline\":false},\"template\":{\"data\":{\"histogram2dcontour\":[{\"type\":\"histogram2dcontour\",\"colorbar\":{\"outlinewidth\":0,\"ticks\":\"\"},\"colorscale\":[[0.0,\"#0d0887\"],[0.1111111111111111,\"#46039f\"],[0.2222222222222222,\"#7201a8\"],[0.3333333333333333,\"#9c179e\"],[0.4444444444444444,\"#bd3786\"],[0.5555555555555556,\"#d8576b\"],[0.6666666666666666,\"#ed7953\"],[0.7777777777777778,\"#fb9f3a\"],[0.8888888888888888,\"#fdca26\"],[1.0,\"#f0f921\"]]}],\"choropleth\":[{\"type\":\"choropleth\",\"colorbar\":{\"outlinewidth\":0,\"ticks\":\"\"}}],\"histogram2d\":[{\"type\":\"histogram2d\",\"colorbar\":{\"outlinewidth\":0,\"ticks\":\"\"},\"colorscale\":[[0.0,\"#0d0887\"],[0.1111111111111111,\"#46039f\"],[0.2222222222222222,\"#7201a8\"],[0.3333333333333333,\"#9c179e\"],[0.4444444444444444,\"#bd3786\"],[0.5555555555555556,\"#d8576b\"],[0.6666666666666666,\"#ed7953\"],[0.7777777777777778,\"#fb9f3a\"],[0.8888888888888888,\"#fdca26\"],[1.0,\"#f0f921\"]]}],\"heatmap\":[{\"type\":\"heatmap\",\"colorbar\":{\"outlinewidth\":0,\"ticks\":\"\"},\"colorscale\":[[0.0,\"#0d0887\"],[0.1111111111111111,\"#46039f\"],[0.2222222222222222,\"#7201a8\"],[0.3333333333333333,\"#9c179e\"],[0.4444444444444444,\"#bd3786\"],[0.5555555555555556,\"#d8576b\"],[0.6666666666666666,\"#ed7953\"],[0.7777777777777778,\"#fb9f3a\"],[0.8888888888888888,\"#fdca26\"],[1.0,\"#f0f921\"]]}],\"heatmapgl\":[{\"type\":\"heatmapgl\",\"colorbar\":{\"outlinewidth\":0,\"ticks\":\"\"},\"colorscale\":[[0.0,\"#0d0887\"],[0.1111111111111111,\"#46039f\"],[0.2222222222222222,\"#7201a8\"],[0.3333333333333333,\"#9c179e\"],[0.4444444444444444,\"#bd3786\"],[0.5555555555555556,\"#d8576b\"],[0.6666666666666666,\"#ed7953\"],[0.7777777777777778,\"#fb9f3a\"],[0.8888888888888888,\"#fdca26\"],[1.0,\"#f0f921\"]]}],\"contourcarpet\":[{\"type\":\"contourcarpet\",\"colorbar\":{\"outlinewidth\":0,\"ticks\":\"\"}}],\"contour\":[{\"type\":\"contour\",\"colorbar\":{\"outlinewidth\":0,\"ticks\":\"\"},\"colorscale\":[[0.0,\"#0d0887\"],[0.1111111111111111,\"#46039f\"],[0.2222222222222222,\"#7201a8\"],[0.3333333333333333,\"#9c179e\"],[0.4444444444444444,\"#bd3786\"],[0.5555555555555556,\"#d8576b\"],[0.6666666666666666,\"#ed7953\"],[0.7777777777777778,\"#fb9f3a\"],[0.8888888888888888,\"#fdca26\"],[1.0,\"#f0f921\"]]}],\"surface\":[{\"type\":\"surface\",\"colorbar\":{\"outlinewidth\":0,\"ticks\":\"\"},\"colorscale\":[[0.0,\"#0d0887\"],[0.1111111111111111,\"#46039f\"],[0.2222222222222222,\"#7201a8\"],[0.3333333333333333,\"#9c179e\"],[0.4444444444444444,\"#bd3786\"],[0.5555555555555556,\"#d8576b\"],[0.6666666666666666,\"#ed7953\"],[0.7777777777777778,\"#fb9f3a\"],[0.8888888888888888,\"#fdca26\"],[1.0,\"#f0f921\"]]}],\"mesh3d\":[{\"type\":\"mesh3d\",\"colorbar\":{\"outlinewidth\":0,\"ticks\":\"\"}}],\"scatter\":[{\"fillpattern\":{\"fillmode\":\"overlay\",\"size\":10,\"solidity\":0.2},\"type\":\"scatter\"}],\"parcoords\":[{\"type\":\"parcoords\",\"line\":{\"colorbar\":{\"outlinewidth\":0,\"ticks\":\"\"}}}],\"scatterpolargl\":[{\"type\":\"scatterpolargl\",\"marker\":{\"colorbar\":{\"outlinewidth\":0,\"ticks\":\"\"}}}],\"bar\":[{\"error_x\":{\"color\":\"#2a3f5f\"},\"error_y\":{\"color\":\"#2a3f5f\"},\"marker\":{\"line\":{\"color\":\"#E5ECF6\",\"width\":0.5},\"pattern\":{\"fillmode\":\"overlay\",\"size\":10,\"solidity\":0.2}},\"type\":\"bar\"}],\"scattergeo\":[{\"type\":\"scattergeo\",\"marker\":{\"colorbar\":{\"outlinewidth\":0,\"ticks\":\"\"}}}],\"scatterpolar\":[{\"type\":\"scatterpolar\",\"marker\":{\"colorbar\":{\"outlinewidth\":0,\"ticks\":\"\"}}}],\"histogram\":[{\"marker\":{\"pattern\":{\"fillmode\":\"overlay\",\"size\":10,\"solidity\":0.2}},\"type\":\"histogram\"}],\"scattergl\":[{\"type\":\"scattergl\",\"marker\":{\"colorbar\":{\"outlinewidth\":0,\"ticks\":\"\"}}}],\"scatter3d\":[{\"type\":\"scatter3d\",\"line\":{\"colorbar\":{\"outlinewidth\":0,\"ticks\":\"\"}},\"marker\":{\"colorbar\":{\"outlinewidth\":0,\"ticks\":\"\"}}}],\"scattermapbox\":[{\"type\":\"scattermapbox\",\"marker\":{\"colorbar\":{\"outlinewidth\":0,\"ticks\":\"\"}}}],\"scatterternary\":[{\"type\":\"scatterternary\",\"marker\":{\"colorbar\":{\"outlinewidth\":0,\"ticks\":\"\"}}}],\"scattercarpet\":[{\"type\":\"scattercarpet\",\"marker\":{\"colorbar\":{\"outlinewidth\":0,\"ticks\":\"\"}}}],\"carpet\":[{\"aaxis\":{\"endlinecolor\":\"#2a3f5f\",\"gridcolor\":\"white\",\"linecolor\":\"white\",\"minorgridcolor\":\"white\",\"startlinecolor\":\"#2a3f5f\"},\"baxis\":{\"endlinecolor\":\"#2a3f5f\",\"gridcolor\":\"white\",\"linecolor\":\"white\",\"minorgridcolor\":\"white\",\"startlinecolor\":\"#2a3f5f\"},\"type\":\"carpet\"}],\"table\":[{\"cells\":{\"fill\":{\"color\":\"#EBF0F8\"},\"line\":{\"color\":\"white\"}},\"header\":{\"fill\":{\"color\":\"#C8D4E3\"},\"line\":{\"color\":\"white\"}},\"type\":\"table\"}],\"barpolar\":[{\"marker\":{\"line\":{\"color\":\"#E5ECF6\",\"width\":0.5},\"pattern\":{\"fillmode\":\"overlay\",\"size\":10,\"solidity\":0.2}},\"type\":\"barpolar\"}],\"pie\":[{\"automargin\":true,\"type\":\"pie\"}]},\"layout\":{\"autotypenumbers\":\"strict\",\"colorway\":[\"#636efa\",\"#EF553B\",\"#00cc96\",\"#ab63fa\",\"#FFA15A\",\"#19d3f3\",\"#FF6692\",\"#B6E880\",\"#FF97FF\",\"#FECB52\"],\"font\":{\"color\":\"#2a3f5f\"},\"hovermode\":\"closest\",\"hoverlabel\":{\"align\":\"left\"},\"paper_bgcolor\":\"white\",\"plot_bgcolor\":\"#E5ECF6\",\"polar\":{\"bgcolor\":\"#E5ECF6\",\"angularaxis\":{\"gridcolor\":\"white\",\"linecolor\":\"white\",\"ticks\":\"\"},\"radialaxis\":{\"gridcolor\":\"white\",\"linecolor\":\"white\",\"ticks\":\"\"}},\"ternary\":{\"bgcolor\":\"#E5ECF6\",\"aaxis\":{\"gridcolor\":\"white\",\"linecolor\":\"white\",\"ticks\":\"\"},\"baxis\":{\"gridcolor\":\"white\",\"linecolor\":\"white\",\"ticks\":\"\"},\"caxis\":{\"gridcolor\":\"white\",\"linecolor\":\"white\",\"ticks\":\"\"}},\"coloraxis\":{\"colorbar\":{\"outlinewidth\":0,\"ticks\":\"\"}},\"colorscale\":{\"sequential\":[[0.0,\"#0d0887\"],[0.1111111111111111,\"#46039f\"],[0.2222222222222222,\"#7201a8\"],[0.3333333333333333,\"#9c179e\"],[0.4444444444444444,\"#bd3786\"],[0.5555555555555556,\"#d8576b\"],[0.6666666666666666,\"#ed7953\"],[0.7777777777777778,\"#fb9f3a\"],[0.8888888888888888,\"#fdca26\"],[1.0,\"#f0f921\"]],\"sequentialminus\":[[0.0,\"#0d0887\"],[0.1111111111111111,\"#46039f\"],[0.2222222222222222,\"#7201a8\"],[0.3333333333333333,\"#9c179e\"],[0.4444444444444444,\"#bd3786\"],[0.5555555555555556,\"#d8576b\"],[0.6666666666666666,\"#ed7953\"],[0.7777777777777778,\"#fb9f3a\"],[0.8888888888888888,\"#fdca26\"],[1.0,\"#f0f921\"]],\"diverging\":[[0,\"#8e0152\"],[0.1,\"#c51b7d\"],[0.2,\"#de77ae\"],[0.3,\"#f1b6da\"],[0.4,\"#fde0ef\"],[0.5,\"#f7f7f7\"],[0.6,\"#e6f5d0\"],[0.7,\"#b8e186\"],[0.8,\"#7fbc41\"],[0.9,\"#4d9221\"],[1,\"#276419\"]]},\"xaxis\":{\"gridcolor\":\"white\",\"linecolor\":\"white\",\"ticks\":\"\",\"title\":{\"standoff\":15},\"zerolinecolor\":\"white\",\"automargin\":true,\"zerolinewidth\":2},\"yaxis\":{\"gridcolor\":\"white\",\"linecolor\":\"white\",\"ticks\":\"\",\"title\":{\"standoff\":15},\"zerolinecolor\":\"white\",\"automargin\":true,\"zerolinewidth\":2},\"scene\":{\"xaxis\":{\"backgroundcolor\":\"#E5ECF6\",\"gridcolor\":\"white\",\"linecolor\":\"white\",\"showbackground\":true,\"ticks\":\"\",\"zerolinecolor\":\"white\",\"gridwidth\":2},\"yaxis\":{\"backgroundcolor\":\"#E5ECF6\",\"gridcolor\":\"white\",\"linecolor\":\"white\",\"showbackground\":true,\"ticks\":\"\",\"zerolinecolor\":\"white\",\"gridwidth\":2},\"zaxis\":{\"backgroundcolor\":\"#E5ECF6\",\"gridcolor\":\"white\",\"linecolor\":\"white\",\"showbackground\":true,\"ticks\":\"\",\"zerolinecolor\":\"white\",\"gridwidth\":2}},\"shapedefaults\":{\"line\":{\"color\":\"#2a3f5f\"}},\"annotationdefaults\":{\"arrowcolor\":\"#2a3f5f\",\"arrowhead\":0,\"arrowwidth\":1},\"geo\":{\"bgcolor\":\"white\",\"landcolor\":\"#E5ECF6\",\"subunitcolor\":\"white\",\"showland\":true,\"showlakes\":true,\"lakecolor\":\"white\"},\"title\":{\"x\":0.05},\"mapbox\":{\"style\":\"light\"}}}},                        {\"responsive\": true}                    ).then(function(){\n",
       "                            \n",
       "var gd = document.getElementById('de120021-0a7f-40b4-9c91-60ef177ae9c0');\n",
       "var x = new MutationObserver(function (mutations, observer) {{\n",
       "        var display = window.getComputedStyle(gd).display;\n",
       "        if (!display || display === 'none') {{\n",
       "            console.log([gd, 'removed!']);\n",
       "            Plotly.purge(gd);\n",
       "            observer.disconnect();\n",
       "        }}\n",
       "}});\n",
       "\n",
       "// Listen for the removal of the full notebook cells\n",
       "var notebookContainer = gd.closest('#notebook-container');\n",
       "if (notebookContainer) {{\n",
       "    x.observe(notebookContainer, {childList: true});\n",
       "}}\n",
       "\n",
       "// Listen for the clearing of the current output cell\n",
       "var outputEl = gd.closest('.output');\n",
       "if (outputEl) {{\n",
       "    x.observe(outputEl, {childList: true});\n",
       "}}\n",
       "\n",
       "                        })                };                });            </script>        </div>"
      ]
     },
     "metadata": {},
     "output_type": "display_data",
     "jetTransient": {
      "display_id": null
     }
    }
   ],
   "execution_count": 47
  },
  {
   "metadata": {
    "ExecuteTime": {
     "end_time": "2025-09-20T07:36:34.553545Z",
     "start_time": "2025-09-20T07:36:34.466259Z"
    }
   },
   "cell_type": "code",
   "source": [
    "plt.bar(times.keys(), times.values(), color=['blue','green','orange'])\n",
    "plt.ylabel(\"Время (сек)\")\n",
    "plt.title(\"Сравнение времени построения правил\")\n",
    "plt.show()"
   ],
   "id": "30cbbe3e658be945",
   "outputs": [
    {
     "data": {
      "text/plain": [
       "<Figure size 640x480 with 1 Axes>"
      ],
      "image/png": "[encoded data removed]"
     },
     "metadata": {},
     "output_type": "display_data",
     "jetTransient": {
      "display_id": null
     }
    }
   ],
   "execution_count": 48
  }
 ],
 "metadata": {
  "kernelspec": {
   "display_name": "Python 3",
   "language": "python",
   "name": "python3"
  },
  "language_info": {
   "codemirror_mode": {
    "name": "ipython",
    "version": 2
   },
   "file_extension": ".py",
   "mimetype": "text/x-python",
   "name": "python",
   "nbconvert_exporter": "python",
   "pygments_lexer": "ipython2",
   "version": "2.7.6"
  }
 },
 "nbformat": 4,
 "nbformat_minor": 5
}
