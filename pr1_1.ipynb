{
 "cells": [
  {
   "cell_type": "code",
   "id": "initial_id",
   "metadata": {
    "collapsed": true,
    "ExecuteTime": {
     "end_time": "2025-09-15T07:10:56.276672Z",
     "start_time": "2025-09-15T07:10:56.252748Z"
    }
   },
   "source": "from apriori_python import apriori",
   "outputs": [
    {
     "ename": "ModuleNotFoundError",
     "evalue": "No module named 'apriori_python'",
     "output_type": "error",
     "traceback": [
      "\u001B[31m---------------------------------------------------------------------------\u001B[39m",
      "\u001B[31mModuleNotFoundError\u001B[39m                       Traceback (most recent call last)",
      "\u001B[36mCell\u001B[39m\u001B[36m \u001B[39m\u001B[32mIn[5]\u001B[39m\u001B[32m, line 1\u001B[39m\n\u001B[32m----> \u001B[39m\u001B[32m1\u001B[39m \u001B[38;5;28;01mfrom\u001B[39;00m\u001B[38;5;250m \u001B[39m\u001B[34;01mapriori_python\u001B[39;00m\u001B[38;5;250m \u001B[39m\u001B[38;5;28;01mimport\u001B[39;00m apriori\n",
      "\u001B[31mModuleNotFoundError\u001B[39m: No module named 'apriori_python'"
     ]
    }
   ],
   "execution_count": 5
  },
  {
   "metadata": {},
   "cell_type": "code",
   "source": [
    "transactions = [\n",
    "    ['Футболка','Брюки','Куртка','Кроссовки','Сумка','Шапка','Джинсы','Рубашка'],\n",
    "    ['Платье','Сумка','Шапка','Джинсы'],\n",
    "    ['Футболка','Джинсы','Рубашка','Кроссовки'],\n",
    "    ['Кроссовки','Куртка','Рубашка','Галстук','Сумка','Футболка'],\n",
    "    ['Футболка','Брюки','Сумка','Джинсы'],\n",
    "    ['Шапка','Кроссовки','Куртка','Джинсы'],\n",
    "    ['Кроссовки','Джинсы','Рубашка','Галстук','Куртка'],\n",
    "    ['Футболка','Брюки','Галстук','Джинсы'],\n",
    "    ['Джинсы','Рубашка','Сумка','Футболка','Куртка'],\n",
    "    ['Футболка','Сумка','Шапка','Куртка','Рубашка','Кроссовки','Джинсы','Брюки'],\n",
    "    ['Галстук','Футболка','Брюки'],\n",
    "    ['Сумка','Футболка','Джинсы','Шапка'],\n",
    "    ['Рубашка','Сумка','Куртка'],\n",
    "    ['Рубашка','Куртка','Галстук','Кроссовки'],\n",
    "    ['Куртка','Джинсы','Футболка','Сумка','Брюки'],\n",
    "    ['Футболка','Брюки','Рубашка','Галстук','Джинсы'],\n",
    "    ['Куртка','Футболка','Джинсы','Кроссовки'],\n",
    "    ['Футболка','Кроссовки','Куртка','Сумка'],\n",
    "    ['Сумка','Галстук','Брюки'],\n",
    "    ['Футболка','Рубашка','Джинсы','Шапка','Куртка']\n",
    "]"
   ],
   "id": "4e012a51ce1a2c5",
   "outputs": [],
   "execution_count": null
  },
  {
   "metadata": {},
   "cell_type": "code",
   "source": [
    "freqItemSet, rules = apriori(transactions, minSup= 0.5, minConf= 0.5)\n",
    "print(rules)"
   ],
   "id": "a4da2e8d9c1dc713",
   "outputs": [],
   "execution_count": null
  },
  {
   "metadata": {},
   "cell_type": "code",
   "source": "",
   "id": "680d474b649d131",
   "outputs": [],
   "execution_count": null
  },
  {
   "metadata": {},
   "cell_type": "code",
   "source": "",
   "id": "639dfe71534d3809",
   "outputs": [],
   "execution_count": null
  },
  {
   "metadata": {},
   "cell_type": "code",
   "source": "",
   "id": "96c599c8887f1811",
   "outputs": [],
   "execution_count": null
  },
  {
   "metadata": {},
   "cell_type": "code",
   "source": "",
   "id": "738fbdefc9e0f4dc",
   "outputs": [],
   "execution_count": null
  }
 ],
 "metadata": {
  "kernelspec": {
   "display_name": "Python 3",
   "language": "python",
   "name": "python3"
  },
  "language_info": {
   "codemirror_mode": {
    "name": "ipython",
    "version": 2
   },
   "file_extension": ".py",
   "mimetype": "text/x-python",
   "name": "python",
   "nbconvert_exporter": "python",
   "pygments_lexer": "ipython2",
   "version": "2.7.6"
  }
 },
 "nbformat": 4,
 "nbformat_minor": 5
}
