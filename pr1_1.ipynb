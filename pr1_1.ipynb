{
 "cells": [
  {
   "cell_type": "code",
   "id": "initial_id",
   "metadata": {
    "collapsed": true,
    "ExecuteTime": {
     "end_time": "2025-09-15T07:31:35.009287Z",
     "start_time": "2025-09-15T07:31:35.005122Z"
    }
   },
   "source": "from apriori_python import apriori",
   "outputs": [],
   "execution_count": 33
  },
  {
   "metadata": {
    "ExecuteTime": {
     "end_time": "2025-09-15T07:31:35.053660Z",
     "start_time": "2025-09-15T07:31:35.046440Z"
    }
   },
   "cell_type": "code",
   "source": [
    "transactions = [\n",
    "    ['Футболка','Брюки','Куртка','Кроссовки','Сумка','Шапка','Джинсы','Рубашка'],\n",
    "    ['Платье','Сумка','Шапка','Джинсы'],\n",
    "    ['Футболка','Джинсы','Рубашка','Кроссовки'],\n",
    "    ['Кроссовки','Куртка','Рубашка','Галстук','Сумка','Футболка'],\n",
    "    ['Футболка','Брюки','Сумка','Джинсы'],\n",
    "    ['Шапка','Кроссовки','Куртка','Джинсы'],\n",
    "    ['Кроссовки','Джинсы','Рубашка','Галстук','Куртка'],\n",
    "    ['Футболка','Брюки','Галстук','Джинсы'],\n",
    "    ['Джинсы','Рубашка','Сумка','Футболка','Куртка'],\n",
    "    ['Футболка','Сумка','Шапка','Куртка','Рубашка','Кроссовки','Джинсы','Брюки'],\n",
    "    ['Галстук','Футболка','Брюки'],\n",
    "    ['Сумка','Футболка','Джинсы','Шапка'],\n",
    "    ['Рубашка','Сумка','Куртка'],\n",
    "    ['Рубашка','Куртка','Галстук','Кроссовки'],\n",
    "    ['Куртка','Джинсы','Футболка','Сумка','Брюки'],\n",
    "    ['Футболка','Брюки','Рубашка','Галстук','Джинсы'],\n",
    "    ['Куртка','Футболка','Джинсы','Кроссовки'],\n",
    "    ['Футболка','Кроссовки','Куртка','Сумка'],\n",
    "    ['Сумка','Галстук','Брюки'],\n",
    "    ['Футболка','Рубашка','Джинсы','Шапка','Куртка']\n",
    "]"
   ],
   "id": "4e012a51ce1a2c5",
   "outputs": [],
   "execution_count": 34
  },
  {
   "metadata": {
    "ExecuteTime": {
     "end_time": "2025-09-15T07:31:35.082532Z",
     "start_time": "2025-09-15T07:31:35.072585Z"
    }
   },
   "cell_type": "code",
   "source": [
    "freqItemSet, rules = apriori(transactions, minSup= 0.5, minConf= 0.5)\n",
    "print(rules)"
   ],
   "id": "a4da2e8d9c1dc713",
   "outputs": [
    {
     "name": "stdout",
     "output_type": "stream",
     "text": [
      "[[{'Футболка'}, {'Джинсы'}, 0.7857142857142857], [{'Джинсы'}, {'Футболка'}, 0.7857142857142857]]\n"
     ]
    }
   ],
   "execution_count": 35
  },
  {
   "metadata": {
    "ExecuteTime": {
     "end_time": "2025-09-15T07:31:35.119759Z",
     "start_time": "2025-09-15T07:31:35.113032Z"
    }
   },
   "cell_type": "code",
   "source": "type(freqItemSet)",
   "id": "680d474b649d131",
   "outputs": [
    {
     "data": {
      "text/plain": [
       "dict"
      ]
     },
     "execution_count": 36,
     "metadata": {},
     "output_type": "execute_result"
    }
   ],
   "execution_count": 36
  },
  {
   "metadata": {
    "ExecuteTime": {
     "end_time": "2025-09-15T07:31:35.197919Z",
     "start_time": "2025-09-15T07:31:35.190418Z"
    }
   },
   "cell_type": "code",
   "source": "freqItemSet",
   "id": "639dfe71534d3809",
   "outputs": [
    {
     "data": {
      "text/plain": [
       "{1: {frozenset({'Рубашка'}),\n",
       "  frozenset({'Куртка'}),\n",
       "  frozenset({'Джинсы'}),\n",
       "  frozenset({'Футболка'}),\n",
       "  frozenset({'Сумка'})},\n",
       " 2: {frozenset({'Джинсы', 'Футболка'})}}"
      ]
     },
     "execution_count": 37,
     "metadata": {},
     "output_type": "execute_result"
    }
   ],
   "execution_count": 37
  },
  {
   "metadata": {
    "ExecuteTime": {
     "end_time": "2025-09-15T07:31:35.255880Z",
     "start_time": "2025-09-15T07:31:35.244683Z"
    }
   },
   "cell_type": "code",
   "source": "type(rules)",
   "id": "96c599c8887f1811",
   "outputs": [
    {
     "data": {
      "text/plain": [
       "list"
      ]
     },
     "execution_count": 38,
     "metadata": {},
     "output_type": "execute_result"
    }
   ],
   "execution_count": 38
  },
  {
   "metadata": {
    "ExecuteTime": {
     "end_time": "2025-09-15T07:31:35.323436Z",
     "start_time": "2025-09-15T07:31:35.314041Z"
    }
   },
   "cell_type": "code",
   "source": "rules",
   "id": "738fbdefc9e0f4dc",
   "outputs": [
    {
     "data": {
      "text/plain": [
       "[[{'Футболка'}, {'Джинсы'}, 0.7857142857142857],\n",
       " [{'Джинсы'}, {'Футболка'}, 0.7857142857142857]]"
      ]
     },
     "execution_count": 39,
     "metadata": {},
     "output_type": "execute_result"
    }
   ],
   "execution_count": 39
  },
  {
   "metadata": {},
   "cell_type": "markdown",
   "source": "efficient_apriori",
   "id": "5dd1ccfe8d40bbd1"
  },
  {
   "metadata": {
    "ExecuteTime": {
     "end_time": "2025-09-15T07:31:35.373724Z",
     "start_time": "2025-09-15T07:31:35.368733Z"
    }
   },
   "cell_type": "code",
   "source": "from efficient_apriori import apriori",
   "id": "1ef0bbf2e3c2fc4a",
   "outputs": [],
   "execution_count": 40
  },
  {
   "metadata": {
    "ExecuteTime": {
     "end_time": "2025-09-15T07:31:35.412865Z",
     "start_time": "2025-09-15T07:31:35.400999Z"
    }
   },
   "cell_type": "code",
   "source": [
    "freqItemSet, rules = apriori(transactions, min_support= 0.5, min_confidence= 0.5)\n",
    "print(rules)"
   ],
   "id": "9c7951456b946f25",
   "outputs": [
    {
     "name": "stdout",
     "output_type": "stream",
     "text": [
      "[{Футболка} -> {Джинсы}, {Джинсы} -> {Футболка}]\n"
     ]
    }
   ],
   "execution_count": 41
  },
  {
   "metadata": {
    "ExecuteTime": {
     "end_time": "2025-09-15T07:31:35.472259Z",
     "start_time": "2025-09-15T07:31:35.462158Z"
    }
   },
   "cell_type": "code",
   "source": "type(freqItemSet)",
   "id": "55d891133a7f475b",
   "outputs": [
    {
     "data": {
      "text/plain": [
       "dict"
      ]
     },
     "execution_count": 42,
     "metadata": {},
     "output_type": "execute_result"
    }
   ],
   "execution_count": 42
  },
  {
   "metadata": {
    "ExecuteTime": {
     "end_time": "2025-09-15T07:31:35.532241Z",
     "start_time": "2025-09-15T07:31:35.524255Z"
    }
   },
   "cell_type": "code",
   "source": "freqItemSet",
   "id": "2cd79efe0acc62ae",
   "outputs": [
    {
     "data": {
      "text/plain": [
       "{1: {('Футболка',): 14,\n",
       "  ('Куртка',): 12,\n",
       "  ('Сумка',): 11,\n",
       "  ('Джинсы',): 14,\n",
       "  ('Рубашка',): 10},\n",
       " 2: {('Джинсы', 'Футболка'): 11}}"
      ]
     },
     "execution_count": 43,
     "metadata": {},
     "output_type": "execute_result"
    }
   ],
   "execution_count": 43
  },
  {
   "metadata": {
    "ExecuteTime": {
     "end_time": "2025-09-15T07:31:35.581477Z",
     "start_time": "2025-09-15T07:31:35.566330Z"
    }
   },
   "cell_type": "code",
   "source": "type(rules)",
   "id": "ddfd9840c18064d4",
   "outputs": [
    {
     "data": {
      "text/plain": [
       "list"
      ]
     },
     "execution_count": 44,
     "metadata": {},
     "output_type": "execute_result"
    }
   ],
   "execution_count": 44
  },
  {
   "metadata": {
    "ExecuteTime": {
     "end_time": "2025-09-15T07:31:35.645898Z",
     "start_time": "2025-09-15T07:31:35.636713Z"
    }
   },
   "cell_type": "code",
   "source": "rules",
   "id": "101faafebc16077",
   "outputs": [
    {
     "data": {
      "text/plain": [
       "[{Футболка} -> {Джинсы}, {Джинсы} -> {Футболка}]"
      ]
     },
     "execution_count": 45,
     "metadata": {},
     "output_type": "execute_result"
    }
   ],
   "execution_count": 45
  },
  {
   "metadata": {},
   "cell_type": "markdown",
   "source": "fpgrowth_py",
   "id": "9291acaa337eeb15"
  },
  {
   "metadata": {
    "ExecuteTime": {
     "end_time": "2025-09-15T07:31:35.726605Z",
     "start_time": "2025-09-15T07:31:35.707884Z"
    }
   },
   "cell_type": "code",
   "source": "from fpgrowth_py import fpgrowth",
   "id": "42a094f5de2bc450",
   "outputs": [],
   "execution_count": 46
  },
  {
   "metadata": {
    "ExecuteTime": {
     "end_time": "2025-09-15T07:31:35.762282Z",
     "start_time": "2025-09-15T07:31:35.754270Z"
    }
   },
   "cell_type": "code",
   "source": [
    "freqItemSet, rules = fpgrowth(transactions, minSupRatio=0.5, minConf=0.5)\n",
    "print(rules)"
   ],
   "id": "b50eb005f6b0ad04",
   "outputs": [
    {
     "name": "stdout",
     "output_type": "stream",
     "text": [
      "[]\n"
     ]
    }
   ],
   "execution_count": 47
  },
  {
   "metadata": {
    "ExecuteTime": {
     "end_time": "2025-09-15T07:31:35.848971Z",
     "start_time": "2025-09-15T07:31:35.840329Z"
    }
   },
   "cell_type": "code",
   "source": "type(freqItemSet)",
   "id": "3ac372f93b213faf",
   "outputs": [
    {
     "data": {
      "text/plain": [
       "list"
      ]
     },
     "execution_count": 48,
     "metadata": {},
     "output_type": "execute_result"
    }
   ],
   "execution_count": 48
  },
  {
   "metadata": {
    "ExecuteTime": {
     "end_time": "2025-09-15T07:31:35.948003Z",
     "start_time": "2025-09-15T07:31:35.941791Z"
    }
   },
   "cell_type": "code",
   "source": "freqItemSet",
   "id": "97ad181026cdf623",
   "outputs": [
    {
     "data": {
      "text/plain": [
       "[{'Рубашка'}, {'Сумка'}, {'Куртка'}, {'Футболка'}, {'Джинсы'}]"
      ]
     },
     "execution_count": 49,
     "metadata": {},
     "output_type": "execute_result"
    }
   ],
   "execution_count": 49
  },
  {
   "metadata": {
    "ExecuteTime": {
     "end_time": "2025-09-15T07:31:36.041074Z",
     "start_time": "2025-09-15T07:31:36.034532Z"
    }
   },
   "cell_type": "code",
   "source": "type(rules)",
   "id": "8aefa9d7efe7928d",
   "outputs": [
    {
     "data": {
      "text/plain": [
       "list"
      ]
     },
     "execution_count": 50,
     "metadata": {},
     "output_type": "execute_result"
    }
   ],
   "execution_count": 50
  },
  {
   "metadata": {
    "ExecuteTime": {
     "end_time": "2025-09-15T07:31:36.111320Z",
     "start_time": "2025-09-15T07:31:36.095595Z"
    }
   },
   "cell_type": "code",
   "source": "rules",
   "id": "33858e67eec5d30",
   "outputs": [
    {
     "data": {
      "text/plain": [
       "[]"
      ]
     },
     "execution_count": 51,
     "metadata": {},
     "output_type": "execute_result"
    }
   ],
   "execution_count": 51
  }
 ],
 "metadata": {
  "kernelspec": {
   "display_name": "Python 3",
   "language": "python",
   "name": "python3"
  },
  "language_info": {
   "codemirror_mode": {
    "name": "ipython",
    "version": 2
   },
   "file_extension": ".py",
   "mimetype": "text/x-python",
   "name": "python",
   "nbconvert_exporter": "python",
   "pygments_lexer": "ipython2",
   "version": "2.7.6"
  }
 },
 "nbformat": 4,
 "nbformat_minor": 5
}
