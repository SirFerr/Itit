{
 "cells": [
  {
   "metadata": {
    "ExecuteTime": {
     "end_time": "2025-09-26T06:51:09.756690Z",
     "start_time": "2025-09-26T06:51:09.753598Z"
    }
   },
   "cell_type": "code",
   "source": [
    "import time\n",
    "from matplotlib import pyplot as plt\n",
    "from PyARMViz import *\n",
    "from apriori_python import apriori\n",
    "from efficient_apriori import apriori as efficient_apriori\n",
    "from fpgrowth_py import fpgrowth"
   ],
   "id": "dc06ec97e76843bf",
   "outputs": [],
   "execution_count": 113
  },
  {
   "metadata": {
    "ExecuteTime": {
     "end_time": "2025-09-26T06:51:09.768735Z",
     "start_time": "2025-09-26T06:51:09.763471Z"
    }
   },
   "cell_type": "code",
   "source": [
    "transactions = [\n",
    "    ['Футболка', 'Брюки', 'Куртка', 'Кроссовки', 'Сумка', 'Шапка', 'Джинсы', 'Рубашка'],\n",
    "    ['Платье', 'Сумка', 'Шапка', 'Джинсы'],\n",
    "    ['Футболка', 'Джинсы', 'Рубашка', 'Кроссовки'],\n",
    "    ['Кроссовки', 'Куртка', 'Рубашка', 'Галстук', 'Сумка', 'Футболка'],\n",
    "    ['Футболка', 'Брюки', 'Сумка', 'Джинсы'],\n",
    "    ['Шапка', 'Кроссовки', 'Куртка', 'Джинсы'],\n",
    "    ['Кроссовки', 'Джинсы', 'Рубашка', 'Галстук', 'Куртка'],\n",
    "    ['Футболка', 'Брюки', 'Галстук', 'Джинсы'],\n",
    "    ['Джинсы', 'Рубашка', 'Сумка', 'Футболка', 'Куртка'],\n",
    "    ['Футболка', 'Сумка', 'Шапка', 'Куртка', 'Рубашка', 'Кроссовки', 'Джинсы', 'Брюки'],\n",
    "    ['Галстук', 'Футболка', 'Брюки'],\n",
    "    ['Сумка', 'Футболка', 'Джинсы', 'Шапка'],\n",
    "    ['Рубашка', 'Сумка', 'Куртка'],\n",
    "    ['Рубашка', 'Куртка', 'Галстук', 'Кроссовки'],\n",
    "    ['Куртка', 'Джинсы', 'Футболка', 'Сумка', 'Брюки'],\n",
    "    ['Футболка', 'Брюки', 'Рубашка', 'Галстук', 'Джинсы'],\n",
    "    ['Куртка', 'Футболка', 'Джинсы', 'Кроссовки'],\n",
    "    ['Футболка', 'Кроссовки', 'Куртка', 'Сумка'],\n",
    "    ['Сумка', 'Галстук', 'Брюки'],\n",
    "    ['Футболка', 'Рубашка', 'Джинсы', 'Шапка', 'Куртка']\n",
    "]"
   ],
   "id": "3e61c2a81b4a6ce1",
   "outputs": [],
   "execution_count": 114
  },
  {
   "metadata": {
    "ExecuteTime": {
     "end_time": "2025-09-26T06:51:09.777215Z",
     "start_time": "2025-09-26T06:51:09.774053Z"
    }
   },
   "cell_type": "code",
   "source": [
    "n_trans = len(transactions)\n",
    "times = {}\n",
    "min_sup = 0.20"
   ],
   "id": "71010ee05eadd255",
   "outputs": [],
   "execution_count": 115
  },
  {
   "metadata": {},
   "cell_type": "markdown",
   "source": "apriori",
   "id": "3de46b4618ab0932"
  },
  {
   "metadata": {
    "ExecuteTime": {
     "end_time": "2025-09-26T06:51:09.788724Z",
     "start_time": "2025-09-26T06:51:09.782661Z"
    }
   },
   "cell_type": "code",
   "source": [
    "def output_apriori(rules):\n",
    "    rules_pyarmviz = []\n",
    "    for i, (antecedent, consequent, confidence) in enumerate(rules):\n",
    "\n",
    "        ant = frozenset(antecedent)\n",
    "        cons = frozenset(consequent)\n",
    "        union = ant | cons\n",
    "\n",
    "        count_ab = sum(1 for t in transactions if union.issubset(t))\n",
    "        count_a = sum(1 for t in transactions if ant.issubset(t))\n",
    "        count_b = sum(1 for t in transactions if cons.issubset(t))\n",
    "\n",
    "        support_ab = count_ab / n_trans\n",
    "        support_a = count_a / n_trans\n",
    "        support_b = count_b / n_trans\n",
    "\n",
    "        lift = support_ab / (support_a * support_b) if support_a * support_b else 0.0\n",
    "\n",
    "        # Вывод в консоль\n",
    "        print(f\"{i}: {antecedent} -> {consequent}\"\n",
    "              f\" Support = {support_ab:.3f} Confidence = {confidence:.3f} Lift = {lift:.3f}\")\n",
    "\n",
    "        rules_pyarmviz.append(\n",
    "            PyARMViz.Rule.Rule(\n",
    "                lhs=tuple(antecedent),\n",
    "                rhs=tuple(consequent),\n",
    "                count_full=count_ab,\n",
    "                count_lhs=count_a,\n",
    "                count_rhs=count_b,\n",
    "                num_transactions=n_trans\n",
    "            )\n",
    "        )\n",
    "\n",
    "    PyARMViz.metadata_scatter_plot(rules_pyarmviz)\n",
    "    PyARMViz.adjacency_graph_plotly(rules_pyarmviz)\n",
    "    # PyARMViz.adjacency_parallel_coordinate_plot(rules_pyarmviz)\n",
    "    # PyARMViz.adjacency_parallel_category_plot(rules_pyarmviz)"
   ],
   "id": "81ee5cfc3b2b21",
   "outputs": [],
   "execution_count": 116
  },
  {
   "metadata": {
    "ExecuteTime": {
     "end_time": "2025-09-26T06:51:09.883240Z",
     "start_time": "2025-09-26T06:51:09.797716Z"
    }
   },
   "cell_type": "code",
   "source": [
    "start = time.time()\n",
    "freqItemSet, rules = apriori(transactions, minSup=min_sup, minConf=0.6)\n",
    "times['apriori'] = time.time() - start\n",
    "rules = [rule for rule in rules if len(rule[1]) == 1]\n",
    "output_apriori(rules)"
   ],
   "id": "11ec5fbe01c25c59",
   "outputs": [
    {
     "name": "stdout",
     "output_type": "stream",
     "text": [
      "0: {'Брюки'} -> {'Сумка'} Support = 0.250 Confidence = 0.625 Lift = 1.136\n",
      "1: {'Куртка', 'Джинсы'} -> {'Кроссовки'} Support = 0.250 Confidence = 0.625 Lift = 1.389\n",
      "2: {'Куртка', 'Кроссовки'} -> {'Джинсы'} Support = 0.250 Confidence = 0.625 Lift = 0.893\n",
      "3: {'Футболка', 'Куртка'} -> {'Рубашка'} Support = 0.250 Confidence = 0.625 Lift = 1.250\n",
      "4: {'Куртка', 'Рубашка'} -> {'Футболка'} Support = 0.250 Confidence = 0.625 Lift = 0.893\n",
      "5: {'Куртка', 'Джинсы'} -> {'Рубашка'} Support = 0.250 Confidence = 0.625 Lift = 1.250\n",
      "6: {'Куртка', 'Рубашка'} -> {'Джинсы'} Support = 0.250 Confidence = 0.625 Lift = 0.893\n",
      "7: {'Футболка', 'Куртка'} -> {'Кроссовки'} Support = 0.250 Confidence = 0.625 Lift = 1.389\n",
      "8: {'Куртка', 'Кроссовки'} -> {'Футболка'} Support = 0.250 Confidence = 0.625 Lift = 0.893\n",
      "9: {'Куртка', 'Кроссовки'} -> {'Рубашка'} Support = 0.250 Confidence = 0.625 Lift = 1.250\n",
      "10: {'Куртка', 'Рубашка'} -> {'Кроссовки'} Support = 0.250 Confidence = 0.625 Lift = 1.389\n",
      "11: {'Куртка', 'Рубашка'} -> {'Сумка'} Support = 0.250 Confidence = 0.625 Lift = 1.136\n",
      "12: {'Сумка'} -> {'Джинсы'} Support = 0.350 Confidence = 0.636 Lift = 0.909\n",
      "13: {'Сумка'} -> {'Куртка'} Support = 0.350 Confidence = 0.636 Lift = 1.061\n",
      "14: {'Куртка'} -> {'Джинсы'} Support = 0.400 Confidence = 0.667 Lift = 0.952\n",
      "15: {'Кроссовки'} -> {'Джинсы'} Support = 0.300 Confidence = 0.667 Lift = 0.952\n",
      "16: {'Куртка'} -> {'Рубашка'} Support = 0.400 Confidence = 0.667 Lift = 1.333\n",
      "17: {'Шапка'} -> {'Сумка'} Support = 0.200 Confidence = 0.667 Lift = 1.212\n",
      "18: {'Куртка'} -> {'Кроссовки'} Support = 0.400 Confidence = 0.667 Lift = 1.481\n",
      "19: {'Куртка'} -> {'Футболка'} Support = 0.400 Confidence = 0.667 Lift = 0.952\n",
      "20: {'Кроссовки'} -> {'Футболка'} Support = 0.300 Confidence = 0.667 Lift = 0.952\n",
      "21: {'Шапка'} -> {'Футболка'} Support = 0.200 Confidence = 0.667 Lift = 0.952\n",
      "22: {'Кроссовки'} -> {'Рубашка'} Support = 0.300 Confidence = 0.667 Lift = 1.333\n",
      "23: {'Шапка'} -> {'Куртка'} Support = 0.200 Confidence = 0.667 Lift = 1.111\n",
      "24: {'Футболка', 'Кроссовки'} -> {'Джинсы'} Support = 0.200 Confidence = 0.667 Lift = 0.952\n",
      "25: {'Джинсы', 'Кроссовки'} -> {'Футболка'} Support = 0.200 Confidence = 0.667 Lift = 0.952\n",
      "26: {'Джинсы', 'Шапка'} -> {'Сумка'} Support = 0.200 Confidence = 0.667 Lift = 1.212\n",
      "27: {'Футболка', 'Кроссовки'} -> {'Сумка'} Support = 0.200 Confidence = 0.667 Lift = 1.212\n",
      "28: {'Футболка', 'Кроссовки'} -> {'Рубашка'} Support = 0.200 Confidence = 0.667 Lift = 1.333\n",
      "29: {'Рубашка', 'Кроссовки'} -> {'Футболка'} Support = 0.200 Confidence = 0.667 Lift = 0.952\n",
      "30: {'Джинсы', 'Шапка'} -> {'Куртка'} Support = 0.200 Confidence = 0.667 Lift = 1.111\n",
      "31: {'Джинсы', 'Кроссовки'} -> {'Рубашка'} Support = 0.200 Confidence = 0.667 Lift = 1.333\n",
      "32: {'Рубашка', 'Кроссовки'} -> {'Джинсы'} Support = 0.200 Confidence = 0.667 Lift = 0.952\n",
      "33: {'Джинсы', 'Брюки'} -> {'Сумка'} Support = 0.200 Confidence = 0.667 Lift = 1.212\n",
      "34: {'Джинсы', 'Шапка'} -> {'Футболка'} Support = 0.200 Confidence = 0.667 Lift = 0.952\n",
      "35: {'Футболка', 'Куртка', 'Джинсы'} -> {'Рубашка'} Support = 0.200 Confidence = 0.667 Lift = 1.333\n",
      "36: {'Футболка', 'Джинсы', 'Рубашка'} -> {'Куртка'} Support = 0.200 Confidence = 0.667 Lift = 1.111\n",
      "37: {'Футболка', 'Куртка', 'Сумка'} -> {'Рубашка'} Support = 0.200 Confidence = 0.667 Lift = 1.333\n",
      "38: {'Футболка', 'Джинсы', 'Брюки'} -> {'Сумка'} Support = 0.200 Confidence = 0.667 Lift = 1.212\n",
      "39: {'Футболка', 'Джинсы', 'Сумка'} -> {'Брюки'} Support = 0.200 Confidence = 0.667 Lift = 1.667\n",
      "40: {'Футболка', 'Куртка', 'Джинсы'} -> {'Сумка'} Support = 0.200 Confidence = 0.667 Lift = 1.212\n",
      "41: {'Футболка', 'Куртка', 'Сумка'} -> {'Джинсы'} Support = 0.200 Confidence = 0.667 Lift = 0.952\n",
      "42: {'Футболка', 'Джинсы', 'Сумка'} -> {'Куртка'} Support = 0.200 Confidence = 0.667 Lift = 1.111\n",
      "43: {'Футболка', 'Куртка', 'Сумка'} -> {'Кроссовки'} Support = 0.200 Confidence = 0.667 Lift = 1.481\n",
      "44: {'Рубашка'} -> {'Футболка'} Support = 0.350 Confidence = 0.700 Lift = 1.000\n",
      "45: {'Рубашка'} -> {'Джинсы'} Support = 0.350 Confidence = 0.700 Lift = 1.000\n",
      "46: {'Футболка', 'Рубашка'} -> {'Куртка'} Support = 0.250 Confidence = 0.714 Lift = 1.190\n",
      "47: {'Джинсы', 'Рубашка'} -> {'Куртка'} Support = 0.250 Confidence = 0.714 Lift = 1.190\n",
      "48: {'Куртка', 'Сумка'} -> {'Рубашка'} Support = 0.250 Confidence = 0.714 Lift = 1.429\n",
      "49: {'Сумка'} -> {'Футболка'} Support = 0.400 Confidence = 0.727 Lift = 1.039\n",
      "50: {'Брюки'} -> {'Джинсы'} Support = 0.300 Confidence = 0.750 Lift = 1.071\n",
      "51: {'Футболка', 'Куртка'} -> {'Джинсы'} Support = 0.300 Confidence = 0.750 Lift = 1.071\n",
      "52: {'Куртка', 'Джинсы'} -> {'Футболка'} Support = 0.300 Confidence = 0.750 Lift = 1.071\n",
      "53: {'Футболка', 'Куртка'} -> {'Сумка'} Support = 0.300 Confidence = 0.750 Lift = 1.364\n",
      "54: {'Футболка', 'Сумка'} -> {'Куртка'} Support = 0.300 Confidence = 0.750 Lift = 1.250\n",
      "55: {'Футболка', 'Сумка'} -> {'Джинсы'} Support = 0.300 Confidence = 0.750 Lift = 1.071\n",
      "56: {'Футболка'} -> {'Джинсы'} Support = 0.550 Confidence = 0.786 Lift = 1.122\n",
      "57: {'Джинсы'} -> {'Футболка'} Support = 0.550 Confidence = 0.786 Lift = 1.122\n",
      "58: {'Рубашка'} -> {'Куртка'} Support = 0.400 Confidence = 0.800 Lift = 1.333\n",
      "59: {'Рубашка', 'Сумка'} -> {'Футболка'} Support = 0.200 Confidence = 0.800 Lift = 1.143\n",
      "60: {'Брюки', 'Сумка'} -> {'Футболка'} Support = 0.200 Confidence = 0.800 Lift = 1.143\n",
      "61: {'Брюки', 'Сумка'} -> {'Джинсы'} Support = 0.200 Confidence = 0.800 Lift = 1.143\n",
      "62: {'Футболка', 'Куртка', 'Рубашка'} -> {'Джинсы'} Support = 0.200 Confidence = 0.800 Lift = 1.143\n",
      "63: {'Куртка', 'Джинсы', 'Рубашка'} -> {'Футболка'} Support = 0.200 Confidence = 0.800 Lift = 1.143\n",
      "64: {'Футболка', 'Куртка', 'Рубашка'} -> {'Сумка'} Support = 0.200 Confidence = 0.800 Lift = 1.455\n",
      "65: {'Куртка', 'Сумка', 'Рубашка'} -> {'Футболка'} Support = 0.200 Confidence = 0.800 Lift = 1.143\n",
      "66: {'Футболка', 'Куртка', 'Кроссовки'} -> {'Сумка'} Support = 0.200 Confidence = 0.800 Lift = 1.455\n",
      "67: {'Джинсы', 'Кроссовки'} -> {'Куртка'} Support = 0.250 Confidence = 0.833 Lift = 1.389\n",
      "68: {'Футболка', 'Кроссовки'} -> {'Куртка'} Support = 0.250 Confidence = 0.833 Lift = 1.389\n",
      "69: {'Рубашка', 'Кроссовки'} -> {'Куртка'} Support = 0.250 Confidence = 0.833 Lift = 1.389\n",
      "70: {'Футболка', 'Рубашка'} -> {'Джинсы'} Support = 0.300 Confidence = 0.857 Lift = 1.224\n",
      "71: {'Джинсы', 'Рубашка'} -> {'Футболка'} Support = 0.300 Confidence = 0.857 Lift = 1.224\n",
      "72: {'Футболка', 'Брюки'} -> {'Джинсы'} Support = 0.300 Confidence = 0.857 Lift = 1.224\n",
      "73: {'Куртка', 'Сумка'} -> {'Футболка'} Support = 0.300 Confidence = 0.857 Lift = 1.224\n",
      "74: {'Джинсы', 'Сумка'} -> {'Футболка'} Support = 0.300 Confidence = 0.857 Lift = 1.224\n",
      "75: {'Брюки'} -> {'Футболка'} Support = 0.350 Confidence = 0.875 Lift = 1.250\n",
      "76: {'Кроссовки'} -> {'Куртка'} Support = 0.400 Confidence = 0.889 Lift = 1.481\n",
      "77: {'Шапка'} -> {'Джинсы'} Support = 0.300 Confidence = 1.000 Lift = 1.429\n",
      "78: {'Джинсы', 'Брюки'} -> {'Футболка'} Support = 0.300 Confidence = 1.000 Lift = 1.429\n",
      "79: {'Сумка', 'Шапка'} -> {'Джинсы'} Support = 0.200 Confidence = 1.000 Lift = 1.429\n",
      "80: {'Сумка', 'Кроссовки'} -> {'Футболка'} Support = 0.200 Confidence = 1.000 Lift = 1.429\n",
      "81: {'Сумка', 'Кроссовки'} -> {'Куртка'} Support = 0.200 Confidence = 1.000 Lift = 1.667\n",
      "82: {'Куртка', 'Шапка'} -> {'Джинсы'} Support = 0.200 Confidence = 1.000 Lift = 1.429\n",
      "83: {'Рубашка', 'Сумка'} -> {'Куртка'} Support = 0.250 Confidence = 1.000 Lift = 1.667\n",
      "84: {'Футболка', 'Шапка'} -> {'Джинсы'} Support = 0.200 Confidence = 1.000 Lift = 1.429\n",
      "85: {'Футболка', 'Рубашка', 'Сумка'} -> {'Куртка'} Support = 0.200 Confidence = 1.000 Lift = 1.667\n",
      "86: {'Футболка', 'Брюки', 'Сумка'} -> {'Джинсы'} Support = 0.200 Confidence = 1.000 Lift = 1.429\n",
      "87: {'Джинсы', 'Брюки', 'Сумка'} -> {'Футболка'} Support = 0.200 Confidence = 1.000 Lift = 1.429\n",
      "88: {'Куртка', 'Джинсы', 'Сумка'} -> {'Футболка'} Support = 0.200 Confidence = 1.000 Lift = 1.429\n",
      "89: {'Футболка', 'Сумка', 'Кроссовки'} -> {'Куртка'} Support = 0.200 Confidence = 1.000 Lift = 1.667\n",
      "90: {'Куртка', 'Сумка', 'Кроссовки'} -> {'Футболка'} Support = 0.200 Confidence = 1.000 Lift = 1.429\n"
     ]
    },
    {
     "data": {
      "application/vnd.plotly.v1+json": {
       "data": [
        {
         "marker": {
          "color": [
           1.1363636363636365,
           0.9090909090909091,
           1.0606060606060606,
           0.9523809523809524,
           0.9523809523809523,
           1.3333333333333335,
           1.2121212121212122,
           1.4814814814814814,
           0.9523809523809524,
           0.9523809523809523,
           0.9523809523809524,
           1.3333333333333333,
           1.1111111111111112,
           1.0,
           1.0,
           1.038961038961039,
           1.0714285714285714,
           1.1224489795918369,
           1.1224489795918369,
           1.3333333333333335,
           1.2499999999999998,
           1.4814814814814814,
           1.4285714285714286
          ],
          "colorbar": {
           "title": {
            "text": "Lift"
           }
          },
          "colorscale": [
           [
            0.0,
            "rgb(243, 224, 247)"
           ],
           [
            0.16666666666666666,
            "rgb(228, 199, 241)"
           ],
           [
            0.3333333333333333,
            "rgb(209, 175, 232)"
           ],
           [
            0.5,
            "rgb(185, 152, 221)"
           ],
           [
            0.6666666666666666,
            "rgb(159, 130, 206)"
           ],
           [
            0.8333333333333334,
            "rgb(130, 109, 186)"
           ],
           [
            1.0,
            "rgb(99, 88, 159)"
           ]
          ]
         },
         "mode": "markers",
         "text": [
          "('Брюки',) => ('Сумка',), Lift: 1.1363636363636365",
          "('Сумка',) => ('Джинсы',), Lift: 0.9090909090909091",
          "('Сумка',) => ('Куртка',), Lift: 1.0606060606060606",
          "('Куртка',) => ('Джинсы',), Lift: 0.9523809523809524",
          "('Кроссовки',) => ('Джинсы',), Lift: 0.9523809523809523",
          "('Куртка',) => ('Рубашка',), Lift: 1.3333333333333335",
          "('Шапка',) => ('Сумка',), Lift: 1.2121212121212122",
          "('Куртка',) => ('Кроссовки',), Lift: 1.4814814814814814",
          "('Куртка',) => ('Футболка',), Lift: 0.9523809523809524",
          "('Кроссовки',) => ('Футболка',), Lift: 0.9523809523809523",
          "('Шапка',) => ('Футболка',), Lift: 0.9523809523809524",
          "('Кроссовки',) => ('Рубашка',), Lift: 1.3333333333333333",
          "('Шапка',) => ('Куртка',), Lift: 1.1111111111111112",
          "('Рубашка',) => ('Футболка',), Lift: 1.0",
          "('Рубашка',) => ('Джинсы',), Lift: 1.0",
          "('Сумка',) => ('Футболка',), Lift: 1.038961038961039",
          "('Брюки',) => ('Джинсы',), Lift: 1.0714285714285714",
          "('Футболка',) => ('Джинсы',), Lift: 1.1224489795918369",
          "('Джинсы',) => ('Футболка',), Lift: 1.1224489795918369",
          "('Рубашка',) => ('Куртка',), Lift: 1.3333333333333335",
          "('Брюки',) => ('Футболка',), Lift: 1.2499999999999998",
          "('Кроссовки',) => ('Куртка',), Lift: 1.4814814814814814",
          "('Шапка',) => ('Джинсы',), Lift: 1.4285714285714286"
         ],
         "x": [
          0.25,
          0.35,
          0.35,
          0.4,
          0.3,
          0.4,
          0.2,
          0.4,
          0.4,
          0.3,
          0.2,
          0.3,
          0.2,
          0.35,
          0.35,
          0.4,
          0.3,
          0.55,
          0.55,
          0.4,
          0.35,
          0.4,
          0.3
         ],
         "y": [
          0.625,
          0.6363636363636364,
          0.6363636363636364,
          0.6666666666666666,
          0.6666666666666666,
          0.6666666666666666,
          0.6666666666666666,
          0.6666666666666666,
          0.6666666666666666,
          0.6666666666666666,
          0.6666666666666666,
          0.6666666666666666,
          0.6666666666666666,
          0.7,
          0.7,
          0.7272727272727273,
          0.75,
          0.7857142857142857,
          0.7857142857142857,
          0.8,
          0.875,
          0.8888888888888888,
          1.0
         ],
         "type": "scatter"
        }
       ],
       "layout": {
        "template": {
         "data": {
          "histogram2dcontour": [
           {
            "type": "histogram2dcontour",
            "colorbar": {
             "outlinewidth": 0,
             "ticks": ""
            },
            "colorscale": [
             [
              0.0,
              "#0d0887"
             ],
             [
              0.1111111111111111,
              "#46039f"
             ],
             [
              0.2222222222222222,
              "#7201a8"
             ],
             [
              0.3333333333333333,
              "#9c179e"
             ],
             [
              0.4444444444444444,
              "#bd3786"
             ],
             [
              0.5555555555555556,
              "#d8576b"
             ],
             [
              0.6666666666666666,
              "#ed7953"
             ],
             [
              0.7777777777777778,
              "#fb9f3a"
             ],
             [
              0.8888888888888888,
              "#fdca26"
             ],
             [
              1.0,
              "#f0f921"
             ]
            ]
           }
          ],
          "choropleth": [
           {
            "type": "choropleth",
            "colorbar": {
             "outlinewidth": 0,
             "ticks": ""
            }
           }
          ],
          "histogram2d": [
           {
            "type": "histogram2d",
            "colorbar": {
             "outlinewidth": 0,
             "ticks": ""
            },
            "colorscale": [
             [
              0.0,
              "#0d0887"
             ],
             [
              0.1111111111111111,
              "#46039f"
             ],
             [
              0.2222222222222222,
              "#7201a8"
             ],
             [
              0.3333333333333333,
              "#9c179e"
             ],
             [
              0.4444444444444444,
              "#bd3786"
             ],
             [
              0.5555555555555556,
              "#d8576b"
             ],
             [
              0.6666666666666666,
              "#ed7953"
             ],
             [
              0.7777777777777778,
              "#fb9f3a"
             ],
             [
              0.8888888888888888,
              "#fdca26"
             ],
             [
              1.0,
              "#f0f921"
             ]
            ]
           }
          ],
          "heatmap": [
           {
            "type": "heatmap",
            "colorbar": {
             "outlinewidth": 0,
             "ticks": ""
            },
            "colorscale": [
             [
              0.0,
              "#0d0887"
             ],
             [
              0.1111111111111111,
              "#46039f"
             ],
             [
              0.2222222222222222,
              "#7201a8"
             ],
             [
              0.3333333333333333,
              "#9c179e"
             ],
             [
              0.4444444444444444,
              "#bd3786"
             ],
             [
              0.5555555555555556,
              "#d8576b"
             ],
             [
              0.6666666666666666,
              "#ed7953"
             ],
             [
              0.7777777777777778,
              "#fb9f3a"
             ],
             [
              0.8888888888888888,
              "#fdca26"
             ],
             [
              1.0,
              "#f0f921"
             ]
            ]
           }
          ],
          "heatmapgl": [
           {
            "type": "heatmapgl",
            "colorbar": {
             "outlinewidth": 0,
             "ticks": ""
            },
            "colorscale": [
             [
              0.0,
              "#0d0887"
             ],
             [
              0.1111111111111111,
              "#46039f"
             ],
             [
              0.2222222222222222,
              "#7201a8"
             ],
             [
              0.3333333333333333,
              "#9c179e"
             ],
             [
              0.4444444444444444,
              "#bd3786"
             ],
             [
              0.5555555555555556,
              "#d8576b"
             ],
             [
              0.6666666666666666,
              "#ed7953"
             ],
             [
              0.7777777777777778,
              "#fb9f3a"
             ],
             [
              0.8888888888888888,
              "#fdca26"
             ],
             [
              1.0,
              "#f0f921"
             ]
            ]
           }
          ],
          "contourcarpet": [
           {
            "type": "contourcarpet",
            "colorbar": {
             "outlinewidth": 0,
             "ticks": ""
            }
           }
          ],
          "contour": [
           {
            "type": "contour",
            "colorbar": {
             "outlinewidth": 0,
             "ticks": ""
            },
            "colorscale": [
             [
              0.0,
              "#0d0887"
             ],
             [
              0.1111111111111111,
              "#46039f"
             ],
             [
              0.2222222222222222,
              "#7201a8"
             ],
             [
              0.3333333333333333,
              "#9c179e"
             ],
             [
              0.4444444444444444,
              "#bd3786"
             ],
             [
              0.5555555555555556,
              "#d8576b"
             ],
             [
              0.6666666666666666,
              "#ed7953"
             ],
             [
              0.7777777777777778,
              "#fb9f3a"
             ],
             [
              0.8888888888888888,
              "#fdca26"
             ],
             [
              1.0,
              "#f0f921"
             ]
            ]
           }
          ],
          "surface": [
           {
            "type": "surface",
            "colorbar": {
             "outlinewidth": 0,
             "ticks": ""
            },
            "colorscale": [
             [
              0.0,
              "#0d0887"
             ],
             [
              0.1111111111111111,
              "#46039f"
             ],
             [
              0.2222222222222222,
              "#7201a8"
             ],
             [
              0.3333333333333333,
              "#9c179e"
             ],
             [
              0.4444444444444444,
              "#bd3786"
             ],
             [
              0.5555555555555556,
              "#d8576b"
             ],
             [
              0.6666666666666666,
              "#ed7953"
             ],
             [
              0.7777777777777778,
              "#fb9f3a"
             ],
             [
              0.8888888888888888,
              "#fdca26"
             ],
             [
              1.0,
              "#f0f921"
             ]
            ]
           }
          ],
          "mesh3d": [
           {
            "type": "mesh3d",
            "colorbar": {
             "outlinewidth": 0,
             "ticks": ""
            }
           }
          ],
          "scatter": [
           {
            "fillpattern": {
             "fillmode": "overlay",
             "size": 10,
             "solidity": 0.2
            },
            "type": "scatter"
           }
          ],
          "parcoords": [
           {
            "type": "parcoords",
            "line": {
             "colorbar": {
              "outlinewidth": 0,
              "ticks": ""
             }
            }
           }
          ],
          "scatterpolargl": [
           {
            "type": "scatterpolargl",
            "marker": {
             "colorbar": {
              "outlinewidth": 0,
              "ticks": ""
             }
            }
           }
          ],
          "bar": [
           {
            "error_x": {
             "color": "#2a3f5f"
            },
            "error_y": {
             "color": "#2a3f5f"
            },
            "marker": {
             "line": {
              "color": "#E5ECF6",
              "width": 0.5
             },
             "pattern": {
              "fillmode": "overlay",
              "size": 10,
              "solidity": 0.2
             }
            },
            "type": "bar"
           }
          ],
          "scattergeo": [
           {
            "type": "scattergeo",
            "marker": {
             "colorbar": {
              "outlinewidth": 0,
              "ticks": ""
             }
            }
           }
          ],
          "scatterpolar": [
           {
            "type": "scatterpolar",
            "marker": {
             "colorbar": {
              "outlinewidth": 0,
              "ticks": ""
             }
            }
           }
          ],
          "histogram": [
           {
            "marker": {
             "pattern": {
              "fillmode": "overlay",
              "size": 10,
              "solidity": 0.2
             }
            },
            "type": "histogram"
           }
          ],
          "scattergl": [
           {
            "type": "scattergl",
            "marker": {
             "colorbar": {
              "outlinewidth": 0,
              "ticks": ""
             }
            }
           }
          ],
          "scatter3d": [
           {
            "type": "scatter3d",
            "line": {
             "colorbar": {
              "outlinewidth": 0,
              "ticks": ""
             }
            },
            "marker": {
             "colorbar": {
              "outlinewidth": 0,
              "ticks": ""
             }
            }
           }
          ],
          "scattermapbox": [
           {
            "type": "scattermapbox",
            "marker": {
             "colorbar": {
              "outlinewidth": 0,
              "ticks": ""
             }
            }
           }
          ],
          "scatterternary": [
           {
            "type": "scatterternary",
            "marker": {
             "colorbar": {
              "outlinewidth": 0,
              "ticks": ""
             }
            }
           }
          ],
          "scattercarpet": [
           {
            "type": "scattercarpet",
            "marker": {
             "colorbar": {
              "outlinewidth": 0,
              "ticks": ""
             }
            }
           }
          ],
          "carpet": [
           {
            "aaxis": {
             "endlinecolor": "#2a3f5f",
             "gridcolor": "white",
             "linecolor": "white",
             "minorgridcolor": "white",
             "startlinecolor": "#2a3f5f"
            },
            "baxis": {
             "endlinecolor": "#2a3f5f",
             "gridcolor": "white",
             "linecolor": "white",
             "minorgridcolor": "white",
             "startlinecolor": "#2a3f5f"
            },
            "type": "carpet"
           }
          ],
          "table": [
           {
            "cells": {
             "fill": {
              "color": "#EBF0F8"
             },
             "line": {
              "color": "white"
             }
            },
            "header": {
             "fill": {
              "color": "#C8D4E3"
             },
             "line": {
              "color": "white"
             }
            },
            "type": "table"
           }
          ],
          "barpolar": [
           {
            "marker": {
             "line": {
              "color": "#E5ECF6",
              "width": 0.5
             },
             "pattern": {
              "fillmode": "overlay",
              "size": 10,
              "solidity": 0.2
             }
            },
            "type": "barpolar"
           }
          ],
          "pie": [
           {
            "automargin": true,
            "type": "pie"
           }
          ]
         },
         "layout": {
          "autotypenumbers": "strict",
          "colorway": [
           "#636efa",
           "#EF553B",
           "#00cc96",
           "#ab63fa",
           "#FFA15A",
           "#19d3f3",
           "#FF6692",
           "#B6E880",
           "#FF97FF",
           "#FECB52"
          ],
          "font": {
           "color": "#2a3f5f"
          },
          "hovermode": "closest",
          "hoverlabel": {
           "align": "left"
          },
          "paper_bgcolor": "white",
          "plot_bgcolor": "#E5ECF6",
          "polar": {
           "bgcolor": "#E5ECF6",
           "angularaxis": {
            "gridcolor": "white",
            "linecolor": "white",
            "ticks": ""
           },
           "radialaxis": {
            "gridcolor": "white",
            "linecolor": "white",
            "ticks": ""
           }
          },
          "ternary": {
           "bgcolor": "#E5ECF6",
           "aaxis": {
            "gridcolor": "white",
            "linecolor": "white",
            "ticks": ""
           },
           "baxis": {
            "gridcolor": "white",
            "linecolor": "white",
            "ticks": ""
           },
           "caxis": {
            "gridcolor": "white",
            "linecolor": "white",
            "ticks": ""
           }
          },
          "coloraxis": {
           "colorbar": {
            "outlinewidth": 0,
            "ticks": ""
           }
          },
          "colorscale": {
           "sequential": [
            [
             0.0,
             "#0d0887"
            ],
            [
             0.1111111111111111,
             "#46039f"
            ],
            [
             0.2222222222222222,
             "#7201a8"
            ],
            [
             0.3333333333333333,
             "#9c179e"
            ],
            [
             0.4444444444444444,
             "#bd3786"
            ],
            [
             0.5555555555555556,
             "#d8576b"
            ],
            [
             0.6666666666666666,
             "#ed7953"
            ],
            [
             0.7777777777777778,
             "#fb9f3a"
            ],
            [
             0.8888888888888888,
             "#fdca26"
            ],
            [
             1.0,
             "#f0f921"
            ]
           ],
           "sequentialminus": [
            [
             0.0,
             "#0d0887"
            ],
            [
             0.1111111111111111,
             "#46039f"
            ],
            [
             0.2222222222222222,
             "#7201a8"
            ],
            [
             0.3333333333333333,
             "#9c179e"
            ],
            [
             0.4444444444444444,
             "#bd3786"
            ],
            [
             0.5555555555555556,
             "#d8576b"
            ],
            [
             0.6666666666666666,
             "#ed7953"
            ],
            [
             0.7777777777777778,
             "#fb9f3a"
            ],
            [
             0.8888888888888888,
             "#fdca26"
            ],
            [
             1.0,
             "#f0f921"
            ]
           ],
           "diverging": [
            [
             0,
             "#8e0152"
            ],
            [
             0.1,
             "#c51b7d"
            ],
            [
             0.2,
             "#de77ae"
            ],
            [
             0.3,
             "#f1b6da"
            ],
            [
             0.4,
             "#fde0ef"
            ],
            [
             0.5,
             "#f7f7f7"
            ],
            [
             0.6,
             "#e6f5d0"
            ],
            [
             0.7,
             "#b8e186"
            ],
            [
             0.8,
             "#7fbc41"
            ],
            [
             0.9,
             "#4d9221"
            ],
            [
             1,
             "#276419"
            ]
           ]
          },
          "xaxis": {
           "gridcolor": "white",
           "linecolor": "white",
           "ticks": "",
           "title": {
            "standoff": 15
           },
           "zerolinecolor": "white",
           "automargin": true,
           "zerolinewidth": 2
          },
          "yaxis": {
           "gridcolor": "white",
           "linecolor": "white",
           "ticks": "",
           "title": {
            "standoff": 15
           },
           "zerolinecolor": "white",
           "automargin": true,
           "zerolinewidth": 2
          },
          "scene": {
           "xaxis": {
            "backgroundcolor": "#E5ECF6",
            "gridcolor": "white",
            "linecolor": "white",
            "showbackground": true,
            "ticks": "",
            "zerolinecolor": "white",
            "gridwidth": 2
           },
           "yaxis": {
            "backgroundcolor": "#E5ECF6",
            "gridcolor": "white",
            "linecolor": "white",
            "showbackground": true,
            "ticks": "",
            "zerolinecolor": "white",
            "gridwidth": 2
           },
           "zaxis": {
            "backgroundcolor": "#E5ECF6",
            "gridcolor": "white",
            "linecolor": "white",
            "showbackground": true,
            "ticks": "",
            "zerolinecolor": "white",
            "gridwidth": 2
           }
          },
          "shapedefaults": {
           "line": {
            "color": "#2a3f5f"
           }
          },
          "annotationdefaults": {
           "arrowcolor": "#2a3f5f",
           "arrowhead": 0,
           "arrowwidth": 1
          },
          "geo": {
           "bgcolor": "white",
           "landcolor": "#E5ECF6",
           "subunitcolor": "white",
           "showland": true,
           "showlakes": true,
           "lakecolor": "white"
          },
          "title": {
           "x": 0.05
          },
          "mapbox": {
           "style": "light"
          }
         }
        },
        "xaxis": {
         "title": {
          "text": "Support"
         },
         "autorange": "reversed"
        },
        "title": {
         "text": "Association Rules Strength Distribution"
        },
        "yaxis": {
         "title": {
          "text": "Confidence"
         }
        }
       },
       "config": {
        "plotlyServerURL": "https://plot.ly"
       }
      },
      "text/html": [
       "<div>                            <div id=\"7feeea81-3fcc-4795-9429-94f54135bb80\" class=\"plotly-graph-div\" style=\"height:525px; width:100%;\"></div>            <script type=\"text/javascript\">                require([\"plotly\"], function(Plotly) {                    window.PLOTLYENV=window.PLOTLYENV || {};                                    if (document.getElementById(\"7feeea81-3fcc-4795-9429-94f54135bb80\")) {                    Plotly.newPlot(                        \"7feeea81-3fcc-4795-9429-94f54135bb80\",                        [{\"marker\":{\"color\":[1.1363636363636365,0.9090909090909091,1.0606060606060606,0.9523809523809524,0.9523809523809523,1.3333333333333335,1.2121212121212122,1.4814814814814814,0.9523809523809524,0.9523809523809523,0.9523809523809524,1.3333333333333333,1.1111111111111112,1.0,1.0,1.038961038961039,1.0714285714285714,1.1224489795918369,1.1224489795918369,1.3333333333333335,1.2499999999999998,1.4814814814814814,1.4285714285714286],\"colorbar\":{\"title\":{\"text\":\"Lift\"}},\"colorscale\":[[0.0,\"rgb(243, 224, 247)\"],[0.16666666666666666,\"rgb(228, 199, 241)\"],[0.3333333333333333,\"rgb(209, 175, 232)\"],[0.5,\"rgb(185, 152, 221)\"],[0.6666666666666666,\"rgb(159, 130, 206)\"],[0.8333333333333334,\"rgb(130, 109, 186)\"],[1.0,\"rgb(99, 88, 159)\"]]},\"mode\":\"markers\",\"text\":[\"('\\u0411\\u0440\\u044e\\u043a\\u0438',) =\\u003e ('\\u0421\\u0443\\u043c\\u043a\\u0430',), Lift: 1.1363636363636365\",\"('\\u0421\\u0443\\u043c\\u043a\\u0430',) =\\u003e ('\\u0414\\u0436\\u0438\\u043d\\u0441\\u044b',), Lift: 0.9090909090909091\",\"('\\u0421\\u0443\\u043c\\u043a\\u0430',) =\\u003e ('\\u041a\\u0443\\u0440\\u0442\\u043a\\u0430',), Lift: 1.0606060606060606\",\"('\\u041a\\u0443\\u0440\\u0442\\u043a\\u0430',) =\\u003e ('\\u0414\\u0436\\u0438\\u043d\\u0441\\u044b',), Lift: 0.9523809523809524\",\"('\\u041a\\u0440\\u043e\\u0441\\u0441\\u043e\\u0432\\u043a\\u0438',) =\\u003e ('\\u0414\\u0436\\u0438\\u043d\\u0441\\u044b',), Lift: 0.9523809523809523\",\"('\\u041a\\u0443\\u0440\\u0442\\u043a\\u0430',) =\\u003e ('\\u0420\\u0443\\u0431\\u0430\\u0448\\u043a\\u0430',), Lift: 1.3333333333333335\",\"('\\u0428\\u0430\\u043f\\u043a\\u0430',) =\\u003e ('\\u0421\\u0443\\u043c\\u043a\\u0430',), Lift: 1.2121212121212122\",\"('\\u041a\\u0443\\u0440\\u0442\\u043a\\u0430',) =\\u003e ('\\u041a\\u0440\\u043e\\u0441\\u0441\\u043e\\u0432\\u043a\\u0438',), Lift: 1.4814814814814814\",\"('\\u041a\\u0443\\u0440\\u0442\\u043a\\u0430',) =\\u003e ('\\u0424\\u0443\\u0442\\u0431\\u043e\\u043b\\u043a\\u0430',), Lift: 0.9523809523809524\",\"('\\u041a\\u0440\\u043e\\u0441\\u0441\\u043e\\u0432\\u043a\\u0438',) =\\u003e ('\\u0424\\u0443\\u0442\\u0431\\u043e\\u043b\\u043a\\u0430',), Lift: 0.9523809523809523\",\"('\\u0428\\u0430\\u043f\\u043a\\u0430',) =\\u003e ('\\u0424\\u0443\\u0442\\u0431\\u043e\\u043b\\u043a\\u0430',), Lift: 0.9523809523809524\",\"('\\u041a\\u0440\\u043e\\u0441\\u0441\\u043e\\u0432\\u043a\\u0438',) =\\u003e ('\\u0420\\u0443\\u0431\\u0430\\u0448\\u043a\\u0430',), Lift: 1.3333333333333333\",\"('\\u0428\\u0430\\u043f\\u043a\\u0430',) =\\u003e ('\\u041a\\u0443\\u0440\\u0442\\u043a\\u0430',), Lift: 1.1111111111111112\",\"('\\u0420\\u0443\\u0431\\u0430\\u0448\\u043a\\u0430',) =\\u003e ('\\u0424\\u0443\\u0442\\u0431\\u043e\\u043b\\u043a\\u0430',), Lift: 1.0\",\"('\\u0420\\u0443\\u0431\\u0430\\u0448\\u043a\\u0430',) =\\u003e ('\\u0414\\u0436\\u0438\\u043d\\u0441\\u044b',), Lift: 1.0\",\"('\\u0421\\u0443\\u043c\\u043a\\u0430',) =\\u003e ('\\u0424\\u0443\\u0442\\u0431\\u043e\\u043b\\u043a\\u0430',), Lift: 1.038961038961039\",\"('\\u0411\\u0440\\u044e\\u043a\\u0438',) =\\u003e ('\\u0414\\u0436\\u0438\\u043d\\u0441\\u044b',), Lift: 1.0714285714285714\",\"('\\u0424\\u0443\\u0442\\u0431\\u043e\\u043b\\u043a\\u0430',) =\\u003e ('\\u0414\\u0436\\u0438\\u043d\\u0441\\u044b',), Lift: 1.1224489795918369\",\"('\\u0414\\u0436\\u0438\\u043d\\u0441\\u044b',) =\\u003e ('\\u0424\\u0443\\u0442\\u0431\\u043e\\u043b\\u043a\\u0430',), Lift: 1.1224489795918369\",\"('\\u0420\\u0443\\u0431\\u0430\\u0448\\u043a\\u0430',) =\\u003e ('\\u041a\\u0443\\u0440\\u0442\\u043a\\u0430',), Lift: 1.3333333333333335\",\"('\\u0411\\u0440\\u044e\\u043a\\u0438',) =\\u003e ('\\u0424\\u0443\\u0442\\u0431\\u043e\\u043b\\u043a\\u0430',), Lift: 1.2499999999999998\",\"('\\u041a\\u0440\\u043e\\u0441\\u0441\\u043e\\u0432\\u043a\\u0438',) =\\u003e ('\\u041a\\u0443\\u0440\\u0442\\u043a\\u0430',), Lift: 1.4814814814814814\",\"('\\u0428\\u0430\\u043f\\u043a\\u0430',) =\\u003e ('\\u0414\\u0436\\u0438\\u043d\\u0441\\u044b',), Lift: 1.4285714285714286\"],\"x\":[0.25,0.35,0.35,0.4,0.3,0.4,0.2,0.4,0.4,0.3,0.2,0.3,0.2,0.35,0.35,0.4,0.3,0.55,0.55,0.4,0.35,0.4,0.3],\"y\":[0.625,0.6363636363636364,0.6363636363636364,0.6666666666666666,0.6666666666666666,0.6666666666666666,0.6666666666666666,0.6666666666666666,0.6666666666666666,0.6666666666666666,0.6666666666666666,0.6666666666666666,0.6666666666666666,0.7,0.7,0.7272727272727273,0.75,0.7857142857142857,0.7857142857142857,0.8,0.875,0.8888888888888888,1.0],\"type\":\"scatter\"}],                        {\"template\":{\"data\":{\"histogram2dcontour\":[{\"type\":\"histogram2dcontour\",\"colorbar\":{\"outlinewidth\":0,\"ticks\":\"\"},\"colorscale\":[[0.0,\"#0d0887\"],[0.1111111111111111,\"#46039f\"],[0.2222222222222222,\"#7201a8\"],[0.3333333333333333,\"#9c179e\"],[0.4444444444444444,\"#bd3786\"],[0.5555555555555556,\"#d8576b\"],[0.6666666666666666,\"#ed7953\"],[0.7777777777777778,\"#fb9f3a\"],[0.8888888888888888,\"#fdca26\"],[1.0,\"#f0f921\"]]}],\"choropleth\":[{\"type\":\"choropleth\",\"colorbar\":{\"outlinewidth\":0,\"ticks\":\"\"}}],\"histogram2d\":[{\"type\":\"histogram2d\",\"colorbar\":{\"outlinewidth\":0,\"ticks\":\"\"},\"colorscale\":[[0.0,\"#0d0887\"],[0.1111111111111111,\"#46039f\"],[0.2222222222222222,\"#7201a8\"],[0.3333333333333333,\"#9c179e\"],[0.4444444444444444,\"#bd3786\"],[0.5555555555555556,\"#d8576b\"],[0.6666666666666666,\"#ed7953\"],[0.7777777777777778,\"#fb9f3a\"],[0.8888888888888888,\"#fdca26\"],[1.0,\"#f0f921\"]]}],\"heatmap\":[{\"type\":\"heatmap\",\"colorbar\":{\"outlinewidth\":0,\"ticks\":\"\"},\"colorscale\":[[0.0,\"#0d0887\"],[0.1111111111111111,\"#46039f\"],[0.2222222222222222,\"#7201a8\"],[0.3333333333333333,\"#9c179e\"],[0.4444444444444444,\"#bd3786\"],[0.5555555555555556,\"#d8576b\"],[0.6666666666666666,\"#ed7953\"],[0.7777777777777778,\"#fb9f3a\"],[0.8888888888888888,\"#fdca26\"],[1.0,\"#f0f921\"]]}],\"heatmapgl\":[{\"type\":\"heatmapgl\",\"colorbar\":{\"outlinewidth\":0,\"ticks\":\"\"},\"colorscale\":[[0.0,\"#0d0887\"],[0.1111111111111111,\"#46039f\"],[0.2222222222222222,\"#7201a8\"],[0.3333333333333333,\"#9c179e\"],[0.4444444444444444,\"#bd3786\"],[0.5555555555555556,\"#d8576b\"],[0.6666666666666666,\"#ed7953\"],[0.7777777777777778,\"#fb9f3a\"],[0.8888888888888888,\"#fdca26\"],[1.0,\"#f0f921\"]]}],\"contourcarpet\":[{\"type\":\"contourcarpet\",\"colorbar\":{\"outlinewidth\":0,\"ticks\":\"\"}}],\"contour\":[{\"type\":\"contour\",\"colorbar\":{\"outlinewidth\":0,\"ticks\":\"\"},\"colorscale\":[[0.0,\"#0d0887\"],[0.1111111111111111,\"#46039f\"],[0.2222222222222222,\"#7201a8\"],[0.3333333333333333,\"#9c179e\"],[0.4444444444444444,\"#bd3786\"],[0.5555555555555556,\"#d8576b\"],[0.6666666666666666,\"#ed7953\"],[0.7777777777777778,\"#fb9f3a\"],[0.8888888888888888,\"#fdca26\"],[1.0,\"#f0f921\"]]}],\"surface\":[{\"type\":\"surface\",\"colorbar\":{\"outlinewidth\":0,\"ticks\":\"\"},\"colorscale\":[[0.0,\"#0d0887\"],[0.1111111111111111,\"#46039f\"],[0.2222222222222222,\"#7201a8\"],[0.3333333333333333,\"#9c179e\"],[0.4444444444444444,\"#bd3786\"],[0.5555555555555556,\"#d8576b\"],[0.6666666666666666,\"#ed7953\"],[0.7777777777777778,\"#fb9f3a\"],[0.8888888888888888,\"#fdca26\"],[1.0,\"#f0f921\"]]}],\"mesh3d\":[{\"type\":\"mesh3d\",\"colorbar\":{\"outlinewidth\":0,\"ticks\":\"\"}}],\"scatter\":[{\"fillpattern\":{\"fillmode\":\"overlay\",\"size\":10,\"solidity\":0.2},\"type\":\"scatter\"}],\"parcoords\":[{\"type\":\"parcoords\",\"line\":{\"colorbar\":{\"outlinewidth\":0,\"ticks\":\"\"}}}],\"scatterpolargl\":[{\"type\":\"scatterpolargl\",\"marker\":{\"colorbar\":{\"outlinewidth\":0,\"ticks\":\"\"}}}],\"bar\":[{\"error_x\":{\"color\":\"#2a3f5f\"},\"error_y\":{\"color\":\"#2a3f5f\"},\"marker\":{\"line\":{\"color\":\"#E5ECF6\",\"width\":0.5},\"pattern\":{\"fillmode\":\"overlay\",\"size\":10,\"solidity\":0.2}},\"type\":\"bar\"}],\"scattergeo\":[{\"type\":\"scattergeo\",\"marker\":{\"colorbar\":{\"outlinewidth\":0,\"ticks\":\"\"}}}],\"scatterpolar\":[{\"type\":\"scatterpolar\",\"marker\":{\"colorbar\":{\"outlinewidth\":0,\"ticks\":\"\"}}}],\"histogram\":[{\"marker\":{\"pattern\":{\"fillmode\":\"overlay\",\"size\":10,\"solidity\":0.2}},\"type\":\"histogram\"}],\"scattergl\":[{\"type\":\"scattergl\",\"marker\":{\"colorbar\":{\"outlinewidth\":0,\"ticks\":\"\"}}}],\"scatter3d\":[{\"type\":\"scatter3d\",\"line\":{\"colorbar\":{\"outlinewidth\":0,\"ticks\":\"\"}},\"marker\":{\"colorbar\":{\"outlinewidth\":0,\"ticks\":\"\"}}}],\"scattermapbox\":[{\"type\":\"scattermapbox\",\"marker\":{\"colorbar\":{\"outlinewidth\":0,\"ticks\":\"\"}}}],\"scatterternary\":[{\"type\":\"scatterternary\",\"marker\":{\"colorbar\":{\"outlinewidth\":0,\"ticks\":\"\"}}}],\"scattercarpet\":[{\"type\":\"scattercarpet\",\"marker\":{\"colorbar\":{\"outlinewidth\":0,\"ticks\":\"\"}}}],\"carpet\":[{\"aaxis\":{\"endlinecolor\":\"#2a3f5f\",\"gridcolor\":\"white\",\"linecolor\":\"white\",\"minorgridcolor\":\"white\",\"startlinecolor\":\"#2a3f5f\"},\"baxis\":{\"endlinecolor\":\"#2a3f5f\",\"gridcolor\":\"white\",\"linecolor\":\"white\",\"minorgridcolor\":\"white\",\"startlinecolor\":\"#2a3f5f\"},\"type\":\"carpet\"}],\"table\":[{\"cells\":{\"fill\":{\"color\":\"#EBF0F8\"},\"line\":{\"color\":\"white\"}},\"header\":{\"fill\":{\"color\":\"#C8D4E3\"},\"line\":{\"color\":\"white\"}},\"type\":\"table\"}],\"barpolar\":[{\"marker\":{\"line\":{\"color\":\"#E5ECF6\",\"width\":0.5},\"pattern\":{\"fillmode\":\"overlay\",\"size\":10,\"solidity\":0.2}},\"type\":\"barpolar\"}],\"pie\":[{\"automargin\":true,\"type\":\"pie\"}]},\"layout\":{\"autotypenumbers\":\"strict\",\"colorway\":[\"#636efa\",\"#EF553B\",\"#00cc96\",\"#ab63fa\",\"#FFA15A\",\"#19d3f3\",\"#FF6692\",\"#B6E880\",\"#FF97FF\",\"#FECB52\"],\"font\":{\"color\":\"#2a3f5f\"},\"hovermode\":\"closest\",\"hoverlabel\":{\"align\":\"left\"},\"paper_bgcolor\":\"white\",\"plot_bgcolor\":\"#E5ECF6\",\"polar\":{\"bgcolor\":\"#E5ECF6\",\"angularaxis\":{\"gridcolor\":\"white\",\"linecolor\":\"white\",\"ticks\":\"\"},\"radialaxis\":{\"gridcolor\":\"white\",\"linecolor\":\"white\",\"ticks\":\"\"}},\"ternary\":{\"bgcolor\":\"#E5ECF6\",\"aaxis\":{\"gridcolor\":\"white\",\"linecolor\":\"white\",\"ticks\":\"\"},\"baxis\":{\"gridcolor\":\"white\",\"linecolor\":\"white\",\"ticks\":\"\"},\"caxis\":{\"gridcolor\":\"white\",\"linecolor\":\"white\",\"ticks\":\"\"}},\"coloraxis\":{\"colorbar\":{\"outlinewidth\":0,\"ticks\":\"\"}},\"colorscale\":{\"sequential\":[[0.0,\"#0d0887\"],[0.1111111111111111,\"#46039f\"],[0.2222222222222222,\"#7201a8\"],[0.3333333333333333,\"#9c179e\"],[0.4444444444444444,\"#bd3786\"],[0.5555555555555556,\"#d8576b\"],[0.6666666666666666,\"#ed7953\"],[0.7777777777777778,\"#fb9f3a\"],[0.8888888888888888,\"#fdca26\"],[1.0,\"#f0f921\"]],\"sequentialminus\":[[0.0,\"#0d0887\"],[0.1111111111111111,\"#46039f\"],[0.2222222222222222,\"#7201a8\"],[0.3333333333333333,\"#9c179e\"],[0.4444444444444444,\"#bd3786\"],[0.5555555555555556,\"#d8576b\"],[0.6666666666666666,\"#ed7953\"],[0.7777777777777778,\"#fb9f3a\"],[0.8888888888888888,\"#fdca26\"],[1.0,\"#f0f921\"]],\"diverging\":[[0,\"#8e0152\"],[0.1,\"#c51b7d\"],[0.2,\"#de77ae\"],[0.3,\"#f1b6da\"],[0.4,\"#fde0ef\"],[0.5,\"#f7f7f7\"],[0.6,\"#e6f5d0\"],[0.7,\"#b8e186\"],[0.8,\"#7fbc41\"],[0.9,\"#4d9221\"],[1,\"#276419\"]]},\"xaxis\":{\"gridcolor\":\"white\",\"linecolor\":\"white\",\"ticks\":\"\",\"title\":{\"standoff\":15},\"zerolinecolor\":\"white\",\"automargin\":true,\"zerolinewidth\":2},\"yaxis\":{\"gridcolor\":\"white\",\"linecolor\":\"white\",\"ticks\":\"\",\"title\":{\"standoff\":15},\"zerolinecolor\":\"white\",\"automargin\":true,\"zerolinewidth\":2},\"scene\":{\"xaxis\":{\"backgroundcolor\":\"#E5ECF6\",\"gridcolor\":\"white\",\"linecolor\":\"white\",\"showbackground\":true,\"ticks\":\"\",\"zerolinecolor\":\"white\",\"gridwidth\":2},\"yaxis\":{\"backgroundcolor\":\"#E5ECF6\",\"gridcolor\":\"white\",\"linecolor\":\"white\",\"showbackground\":true,\"ticks\":\"\",\"zerolinecolor\":\"white\",\"gridwidth\":2},\"zaxis\":{\"backgroundcolor\":\"#E5ECF6\",\"gridcolor\":\"white\",\"linecolor\":\"white\",\"showbackground\":true,\"ticks\":\"\",\"zerolinecolor\":\"white\",\"gridwidth\":2}},\"shapedefaults\":{\"line\":{\"color\":\"#2a3f5f\"}},\"annotationdefaults\":{\"arrowcolor\":\"#2a3f5f\",\"arrowhead\":0,\"arrowwidth\":1},\"geo\":{\"bgcolor\":\"white\",\"landcolor\":\"#E5ECF6\",\"subunitcolor\":\"white\",\"showland\":true,\"showlakes\":true,\"lakecolor\":\"white\"},\"title\":{\"x\":0.05},\"mapbox\":{\"style\":\"light\"}}},\"xaxis\":{\"title\":{\"text\":\"Support\"},\"autorange\":\"reversed\"},\"title\":{\"text\":\"Association Rules Strength Distribution\"},\"yaxis\":{\"title\":{\"text\":\"Confidence\"}}},                        {\"responsive\": true}                    ).then(function(){\n",
       "                            \n",
       "var gd = document.getElementById('7feeea81-3fcc-4795-9429-94f54135bb80');\n",
       "var x = new MutationObserver(function (mutations, observer) {{\n",
       "        var display = window.getComputedStyle(gd).display;\n",
       "        if (!display || display === 'none') {{\n",
       "            console.log([gd, 'removed!']);\n",
       "            Plotly.purge(gd);\n",
       "            observer.disconnect();\n",
       "        }}\n",
       "}});\n",
       "\n",
       "// Listen for the removal of the full notebook cells\n",
       "var notebookContainer = gd.closest('#notebook-container');\n",
       "if (notebookContainer) {{\n",
       "    x.observe(notebookContainer, {childList: true});\n",
       "}}\n",
       "\n",
       "// Listen for the clearing of the current output cell\n",
       "var outputEl = gd.closest('.output');\n",
       "if (outputEl) {{\n",
       "    x.observe(outputEl, {childList: true});\n",
       "}}\n",
       "\n",
       "                        })                };                });            </script>        </div>"
      ]
     },
     "metadata": {},
     "output_type": "display_data",
     "jetTransient": {
      "display_id": null
     }
    },
    {
     "data": {
      "application/vnd.plotly.v1+json": {
       "data": [
        {
         "hoverinfo": "none",
         "line": {
          "color": "#888",
          "width": 0.5
         },
         "mode": "lines",
         "x": [
          -0.7204712687776405,
          -0.03328586583397761,
          null,
          -0.3830417097533171,
          -0.7204712687776405,
          null,
          -0.3830417097533171,
          -0.1319034329571375,
          null,
          -0.3830417097533171,
          -0.0158830039664986,
          null,
          -0.3830417097533171,
          -0.42476280908557074,
          null,
          -0.3830417097533171,
          -0.6129758709203608,
          null,
          -0.3830417097533171,
          -0.5115239986465963,
          null,
          -0.3830417097533171,
          -0.48767041071545875,
          null,
          -0.3830417097533171,
          -0.5159740678560564,
          null,
          -0.3830417097533171,
          -0.2545636418972858,
          null,
          -0.3830417097533171,
          -0.5482642338074312,
          null,
          -0.3830417097533171,
          -0.45561648888375467,
          null,
          -0.03328586583397761,
          0.38021692018379816,
          null,
          -0.03328586583397761,
          0.7176812587446055,
          null,
          -0.03328586583397761,
          -0.02732995228125559,
          null,
          -0.03328586583397761,
          -1.0,
          null,
          -0.03328586583397761,
          -0.46088812598358736,
          null,
          -0.03328586583397761,
          0.5856695818759852,
          null,
          -0.03328586583397761,
          0.5431253720554557,
          null,
          -0.03328586583397761,
          -0.009631643224441898,
          null,
          -0.03328586583397761,
          -0.3957507257252354,
          null,
          -0.03328586583397761,
          0.42918662484629966,
          null,
          -0.03328586583397761,
          0.11158310538587805,
          null,
          -0.03328586583397761,
          -0.48968817305244466,
          null,
          -0.03328586583397761,
          -0.6129758709203608,
          null,
          -0.03328586583397761,
          -0.5115239986465963,
          null,
          -0.03328586583397761,
          0.29876826904978643,
          null,
          -0.03328586583397761,
          0.09929145127590303,
          null,
          -0.03328586583397761,
          0.21003777403987772,
          null,
          -0.03328586583397761,
          -0.21913523464303047,
          null,
          -0.03328586583397761,
          0.16039079258882638,
          null,
          -0.03328586583397761,
          0.7106076475872104,
          null,
          -0.03328586583397761,
          -0.09972559314559587,
          null,
          -0.03328586583397761,
          0.48073187350109786,
          null,
          -0.03328586583397761,
          -0.5482642338074312,
          null,
          -0.03328586583397761,
          -0.45561648888375467,
          null,
          -0.03328586583397761,
          0.28667909101722683,
          null,
          -0.03328586583397761,
          -0.13418772273166563,
          null,
          -0.03328586583397761,
          -0.4003507459564784,
          null,
          0.6149026204901358,
          0.07978224563945781,
          null,
          0.04590185140405117,
          0.6149026204901358,
          null,
          0.04590185140405117,
          0.4445895409848409,
          null,
          0.04590185140405117,
          0.6432733489081224,
          null,
          0.04590185140405117,
          -0.17967053275078826,
          null,
          0.04590185140405117,
          0.07333592845002734,
          null,
          0.04590185140405117,
          0.15312714790552537,
          null,
          0.04590185140405117,
          0.6882514320151591,
          null,
          0.04590185140405117,
          -0.1753734030319501,
          null,
          0.04590185140405117,
          0.5217945807810049,
          null,
          0.04590185140405117,
          0.7696494451360274,
          null,
          0.04590185140405117,
          -0.6810101391046333,
          null,
          0.04590185140405117,
          -0.2694039848652039,
          null,
          0.04590185140405117,
          0.5734021577763865,
          null,
          0.04590185140405117,
          0.7308605512543351,
          null,
          0.04590185140405117,
          -0.4149475838801497,
          null,
          0.04590185140405117,
          0.4526737764465611,
          null,
          0.04590185140405117,
          -0.02732995228125559,
          null,
          0.04590185140405117,
          -0.32098521590023127,
          null,
          0.04590185140405117,
          -0.46088812598358736,
          null,
          0.04590185140405117,
          0.5431253720554557,
          null,
          0.04590185140405117,
          -0.009631643224441898,
          null,
          0.04590185140405117,
          -0.14497992564720802,
          null,
          0.04590185140405117,
          -0.6472935692942713,
          null,
          0.04590185140405117,
          -0.7110849160379297,
          null,
          0.04590185140405117,
          -0.5006355015713347,
          null,
          0.04590185140405117,
          0.34739258480657315,
          null,
          0.04590185140405117,
          -0.27092897181337855,
          null,
          0.04590185140405117,
          0.29876826904978643,
          null,
          0.04590185140405117,
          -0.17763420741554647,
          null,
          0.04590185140405117,
          0.09929145127590303,
          null,
          0.04590185140405117,
          -0.3282458193640657,
          null,
          0.04590185140405117,
          0.28667909101722683,
          null,
          0.04590185140405117,
          -0.4003507459564784,
          null,
          0.013679690044063213,
          0.6149026204901358,
          null,
          0.013679690044063213,
          0.07333592845002734,
          null,
          0.013679690044063213,
          0.08404456589038302,
          null,
          0.013679690044063213,
          -0.43061543610131586,
          null,
          0.013679690044063213,
          0.5719712591514329,
          null,
          0.013679690044063213,
          0.3265041082554142,
          null,
          0.013679690044063213,
          -0.1319034329571375,
          null,
          0.013679690044063213,
          -0.02509617207044424,
          null,
          0.013679690044063213,
          0.4526737764465611,
          null,
          0.013679690044063213,
          0.5349308831246283,
          null,
          0.013679690044063213,
          -0.0158830039664986,
          null,
          0.013679690044063213,
          -1.0,
          null,
          0.013679690044063213,
          -0.32098521590023127,
          null,
          0.013679690044063213,
          0.5856695818759852,
          null,
          0.013679690044063213,
          0.13278482050775747,
          null,
          0.013679690044063213,
          -0.6472935692942713,
          null,
          0.013679690044063213,
          -0.5352984451222923,
          null,
          0.013679690044063213,
          0.34739258480657315,
          null,
          0.013679690044063213,
          0.6035279937239844,
          null,
          0.013679690044063213,
          0.35611784895138815,
          null,
          0.013679690044063213,
          0.21003777403987772,
          null,
          0.013679690044063213,
          -0.2545636418972858,
          null,
          0.013679690044063213,
          -0.45561648888375467,
          null,
          0.013679690044063213,
          0.28667909101722683,
          null,
          0.07978224563945781,
          0.4445895409848409,
          null,
          0.07978224563945781,
          -0.1753734030319501,
          null,
          0.07978224563945781,
          0.5217945807810049,
          null,
          0.07978224563945781,
          -0.3241723306523478,
          null,
          0.07978224563945781,
          -0.03922908804480121,
          null,
          0.07978224563945781,
          0.18670888411772105,
          null,
          0.07978224563945781,
          0.2696300282271488,
          null,
          0.07978224563945781,
          0.08404456589038302,
          null,
          0.07978224563945781,
          -0.701623523367396,
          null,
          0.07978224563945781,
          0.2810917535304852,
          null,
          0.07978224563945781,
          -0.5911147340456285,
          null,
          0.07978224563945781,
          0.3265041082554142,
          null,
          0.07978224563945781,
          -0.37119003354280994,
          null,
          0.07978224563945781,
          -0.17763420741554647,
          null,
          0.07978224563945781,
          0.6035279937239844,
          null,
          0.07978224563945781,
          0.42614828517551573,
          null,
          0.07978224563945781,
          0.4212871842512921,
          null,
          0.07978224563945781,
          0.4887255956526623,
          null,
          0.07978224563945781,
          0.16039079258882638,
          null,
          0.07978224563945781,
          0.7106076475872104,
          null,
          0.07978224563945781,
          -0.13418772273166563,
          null,
          0.07978224563945781,
          -0.4003507459564784,
          null,
          0.4445895409848409,
          0.013679690044063213,
          null,
          0.6432733489081224,
          0.023720184155096954,
          null,
          -0.0163228077487667,
          0.6432733489081224,
          null,
          -0.0163228077487667,
          0.6882514320151591,
          null,
          -0.0163228077487667,
          0.2696300282271488,
          null,
          -0.0163228077487667,
          -0.701623523367396,
          null,
          -0.0163228077487667,
          0.2810917535304852,
          null,
          -0.0163228077487667,
          0.4526737764465611,
          null,
          -0.0163228077487667,
          0.5349308831246283,
          null,
          -0.0163228077487667,
          -0.02732995228125559,
          null,
          -0.0163228077487667,
          -0.0158830039664986,
          null,
          -0.0163228077487667,
          -1.0,
          null,
          -0.0163228077487667,
          -0.32098521590023127,
          null,
          -0.0163228077487667,
          -0.46088812598358736,
          null,
          -0.0163228077487667,
          0.5856695818759852,
          null,
          -0.0163228077487667,
          0.5431253720554557,
          null,
          -0.0163228077487667,
          0.2642648714940632,
          null,
          -0.0163228077487667,
          -0.14497992564720802,
          null,
          -0.0163228077487667,
          -0.7110849160379297,
          null,
          -0.0163228077487667,
          0.42918662484629966,
          null,
          -0.0163228077487667,
          0.11158310538587805,
          null,
          -0.0163228077487667,
          0.3648985864917187,
          null,
          -0.0163228077487667,
          -0.5006355015713347,
          null,
          -0.0163228077487667,
          -0.27092897181337855,
          null,
          -0.0163228077487667,
          -0.17763420741554647,
          null,
          -0.0163228077487667,
          0.42614828517551573,
          null,
          -0.0163228077487667,
          -0.2989303881349569,
          null,
          -0.0163228077487667,
          -0.48767041071545875,
          null,
          -0.0163228077487667,
          -0.03129883080728849,
          null,
          -0.0163228077487667,
          0.48073187350109786,
          null,
          -0.0163228077487667,
          -0.5482642338074312,
          null,
          -0.0163228077487667,
          -0.13418772273166563,
          null,
          0.023720184155096954,
          -0.17967053275078826,
          null,
          0.023720184155096954,
          0.15312714790552537,
          null,
          0.023720184155096954,
          0.7696494451360274,
          null,
          0.023720184155096954,
          -0.6810101391046333,
          null,
          0.023720184155096954,
          -0.5911147340456285,
          null,
          0.023720184155096954,
          -0.37119003354280994,
          null,
          0.023720184155096954,
          0.5349308831246283,
          null,
          0.023720184155096954,
          -0.3065989341085604,
          null,
          0.023720184155096954,
          0.2772545784119116,
          null,
          0.023720184155096954,
          0.2642648714940632,
          null,
          0.023720184155096954,
          0.13278482050775747,
          null,
          0.023720184155096954,
          0.6466661738218419,
          null,
          0.023720184155096954,
          -0.48968817305244466,
          null,
          0.023720184155096954,
          -0.5006355015713347,
          null,
          0.023720184155096954,
          0.34739258480657315,
          null,
          0.023720184155096954,
          -0.27092897181337855,
          null,
          0.023720184155096954,
          0.29876826904978643,
          null,
          0.023720184155096954,
          0.4212871842512921,
          null,
          0.023720184155096954,
          -0.2989303881349569,
          null,
          0.023720184155096954,
          0.35611784895138815,
          null,
          0.023720184155096954,
          -0.09972559314559587,
          null,
          0.023720184155096954,
          0.48073187350109786,
          null,
          -0.17967053275078826,
          -0.0163228077487667,
          null,
          0.07333592845002734,
          0.023720184155096954,
          null,
          0.15312714790552537,
          0.013679690044063213,
          null,
          0.6882514320151591,
          0.07978224563945781,
          null,
          -0.1753734030319501,
          -0.0163228077487667,
          null,
          0.5217945807810049,
          0.023720184155096954,
          null,
          0.7696494451360274,
          0.07978224563945781,
          null,
          -0.6810101391046333,
          -0.03328586583397761,
          null,
          0.38021692018379816,
          0.013679690044063213,
          null,
          0.7176812587446055,
          0.04590185140405117,
          null,
          -0.2694039848652039,
          0.013679690044063213,
          null,
          -0.3241723306523478,
          0.013679690044063213,
          null,
          0.5734021577763865,
          0.023720184155096954,
          null,
          -0.6205054324920919,
          -0.03328586583397761,
          null,
          -0.09644103745081545,
          -0.6205054324920919,
          null,
          -0.09644103745081545,
          -0.611325769136984,
          null,
          -0.09644103745081545,
          0.6016759547393574,
          null,
          -0.09644103745081545,
          -0.43061543610131586,
          null,
          -0.09644103745081545,
          0.5719712591514329,
          null,
          -0.09644103745081545,
          -0.02509617207044424,
          null,
          -0.09644103745081545,
          0.12604122947999152,
          null,
          -0.09644103745081545,
          -0.21913523464303047,
          null,
          -0.09644103745081545,
          -0.3282458193640657,
          null,
          -0.09644103745081545,
          -0.03129883080728849,
          null,
          0.7308605512543351,
          0.07978224563945781,
          null,
          -0.4149475838801497,
          -0.0163228077487667,
          null,
          -0.03922908804480121,
          -0.0163228077487667,
          null,
          -0.611325769136984,
          -0.0163228077487667,
          null,
          0.18670888411772105,
          0.023720184155096954,
          null,
          0.6016759547393574,
          0.04590185140405117,
          null,
          0.2696300282271488,
          0.013679690044063213,
          null,
          0.08404456589038302,
          -0.0163228077487667,
          null,
          -0.43061543610131586,
          -0.03328586583397761,
          null,
          -0.701623523367396,
          -0.03328586583397761,
          null,
          0.2810917535304852,
          0.023720184155096954,
          null,
          -0.5911147340456285,
          -0.0163228077487667,
          null,
          0.5719712591514329,
          0.04590185140405117,
          null,
          0.3265041082554142,
          0.023720184155096954,
          null,
          -0.37119003354280994,
          0.013679690044063213,
          null,
          -0.1319034329571375,
          -0.03328586583397761,
          null,
          -0.02509617207044424,
          -0.0163228077487667,
          null,
          0.4526737764465611,
          0.023720184155096954,
          null,
          0.5349308831246283,
          0.04590185140405117,
          null,
          -0.02732995228125559,
          0.023720184155096954,
          null,
          -0.0158830039664986,
          -0.03328586583397761,
          null,
          -1.0,
          -0.3830417097533171,
          null,
          -0.32098521590023127,
          -0.03328586583397761,
          null,
          -0.46088812598358736,
          0.013679690044063213,
          null,
          0.5856695818759852,
          0.04590185140405117,
          null,
          0.5431253720554557,
          0.07978224563945781,
          null,
          -0.3065989341085604,
          -0.0163228077487667,
          null,
          0.2772545784119116,
          0.013679690044063213,
          null,
          0.2642648714940632,
          0.04590185140405117,
          null,
          0.13278482050775747,
          0.04590185140405117,
          null,
          -0.009631643224441898,
          0.023720184155096954,
          null,
          -0.3957507257252354,
          -0.0163228077487667,
          null,
          -0.42476280908557074,
          0.013679690044063213,
          null,
          -0.14497992564720802,
          0.013679690044063213,
          null,
          -0.6472935692942713,
          -0.0163228077487667,
          null,
          -0.7110849160379297,
          -0.03328586583397761,
          null,
          0.42918662484629966,
          0.04590185140405117,
          null,
          0.11158310538587805,
          0.013679690044063213,
          null,
          0.3648985864917187,
          0.013679690044063213,
          null,
          -0.5352984451222923,
          -0.0163228077487667,
          null,
          0.6466661738218419,
          0.04590185140405117,
          null,
          -0.48968817305244466,
          -0.0163228077487667,
          null,
          -0.6129758709203608,
          -0.0163228077487667,
          null,
          -0.5115239986465963,
          0.013679690044063213,
          null,
          -0.5006355015713347,
          0.013679690044063213,
          null,
          0.34739258480657315,
          -0.0163228077487667,
          null,
          -0.27092897181337855,
          -0.03328586583397761,
          null,
          0.29876826904978643,
          -0.0163228077487667,
          null,
          -0.17763420741554647,
          -0.03328586583397761,
          null,
          0.6035279937239844,
          0.04590185140405117,
          null,
          0.42614828517551573,
          0.04590185140405117,
          null,
          0.4212871842512921,
          0.04590185140405117,
          null,
          -0.2989303881349569,
          0.013679690044063213,
          null,
          0.35611784895138815,
          -0.0163228077487667,
          null,
          -0.48767041071545875,
          0.013679690044063213,
          null,
          0.09929145127590303,
          -0.0163228077487667,
          null,
          0.21003777403987772,
          -0.0163228077487667,
          null,
          -0.5159740678560564,
          -0.0163228077487667,
          null,
          0.4887255956526623,
          0.04590185140405117,
          null,
          0.12604122947999152,
          0.013679690044063213,
          null,
          -0.2545636418972858,
          -0.0163228077487667,
          null,
          -0.21913523464303047,
          0.013679690044063213,
          null,
          0.16039079258882638,
          -0.0163228077487667,
          null,
          0.7106076475872104,
          0.04590185140405117,
          null,
          -0.3282458193640657,
          0.013679690044063213,
          null,
          -0.09972559314559587,
          0.04590185140405117,
          null,
          -0.03129883080728849,
          0.013679690044063213,
          null,
          0.48073187350109786,
          0.04590185140405117,
          null,
          -0.5482642338074312,
          0.013679690044063213,
          null,
          -0.45561648888375467,
          -0.0163228077487667,
          null,
          0.28667909101722683,
          -0.0163228077487667,
          null,
          -0.13418772273166563,
          0.04590185140405117,
          null,
          -0.4003507459564784,
          -0.0163228077487667,
          null
         ],
         "y": [
          0.08399554158513725,
          0.018019444388710417,
          null,
          0.11603927687988846,
          0.08399554158513725,
          null,
          0.11603927687988846,
          0.6970307607492722,
          null,
          0.11603927687988846,
          0.6919964233291797,
          null,
          0.11603927687988846,
          0.007013193214005233,
          null,
          0.11603927687988846,
          0.06762558368064019,
          null,
          0.11603927687988846,
          0.10869608457759065,
          null,
          0.11603927687988846,
          0.24811317787118112,
          null,
          0.11603927687988846,
          -0.4755390548705876,
          null,
          0.11603927687988846,
          -0.6416998785776138,
          null,
          0.11603927687988846,
          0.405899746585063,
          null,
          0.11603927687988846,
          0.34399441177570433,
          null,
          0.018019444388710417,
          0.6062138327572447,
          null,
          0.018019444388710417,
          0.03818509205391607,
          null,
          0.018019444388710417,
          -0.5179322906107044,
          null,
          0.018019444388710417,
          0.26312763257304095,
          null,
          0.018019444388710417,
          -0.11645708646582965,
          null,
          0.018019444388710417,
          0.08832369859530045,
          null,
          0.018019444388710417,
          -0.549474268901542,
          null,
          0.018019444388710417,
          -0.6578710809050978,
          null,
          0.018019444388710417,
          -0.4562228523717375,
          null,
          0.018019444388710417,
          0.41671582867414136,
          null,
          0.018019444388710417,
          -0.4478108618795858,
          null,
          0.018019444388710417,
          -0.36351112881801717,
          null,
          0.018019444388710417,
          0.06762558368064019,
          null,
          0.018019444388710417,
          0.10869608457759065,
          null,
          0.018019444388710417,
          0.31005808364169796,
          null,
          0.018019444388710417,
          0.4736425318116372,
          null,
          0.018019444388710417,
          0.5476062477628607,
          null,
          0.018019444388710417,
          -0.25868140229480174,
          null,
          0.018019444388710417,
          0.35345412570284435,
          null,
          0.018019444388710417,
          0.16057075838861448,
          null,
          0.018019444388710417,
          -0.6940532743378532,
          null,
          0.018019444388710417,
          0.2436450672617701,
          null,
          0.018019444388710417,
          0.405899746585063,
          null,
          0.018019444388710417,
          0.34399441177570433,
          null,
          0.018019444388710417,
          0.4542984321971892,
          null,
          0.018019444388710417,
          -0.5744455194176843,
          null,
          0.018019444388710417,
          0.4606930837416393,
          null,
          -0.44840250806990145,
          -0.025245603521734494,
          null,
          -0.0018474768017356492,
          -0.44840250806990145,
          null,
          -0.0018474768017356492,
          -0.07676218193042644,
          null,
          -0.0018474768017356492,
          0.2904599985572698,
          null,
          -0.0018474768017356492,
          0.3308241956417713,
          null,
          -0.0018474768017356492,
          -0.6044748854967784,
          null,
          -0.0018474768017356492,
          0.7169075093824926,
          null,
          -0.0018474768017356492,
          -0.34666359665509605,
          null,
          -0.0018474768017356492,
          0.4646326282304058,
          null,
          -0.0018474768017356492,
          -0.18046098642364364,
          null,
          -0.0018474768017356492,
          -0.098724742603912,
          null,
          -0.0018474768017356492,
          0.21651398068830785,
          null,
          -0.0018474768017356492,
          -0.398534889959977,
          null,
          -0.0018474768017356492,
          0.19600102188072158,
          null,
          -0.0018474768017356492,
          -0.23197185965561498,
          null,
          -0.0018474768017356492,
          -0.5694093280847365,
          null,
          -0.0018474768017356492,
          -0.3507240582241934,
          null,
          -0.0018474768017356492,
          -0.5179322906107044,
          null,
          -0.0018474768017356492,
          0.5792622709934139,
          null,
          -0.0018474768017356492,
          -0.11645708646582965,
          null,
          -0.0018474768017356492,
          -0.549474268901542,
          null,
          -0.0018474768017356492,
          -0.6578710809050978,
          null,
          -0.0018474768017356492,
          -0.4078556448919746,
          null,
          -0.0018474768017356492,
          -0.2590661984308888,
          null,
          -0.0018474768017356492,
          -0.035382352959524806,
          null,
          -0.0018474768017356492,
          0.5101603511912434,
          null,
          -0.0018474768017356492,
          0.16968637286819918,
          null,
          -0.0018474768017356492,
          0.6727415178750377,
          null,
          -0.0018474768017356492,
          0.31005808364169796,
          null,
          -0.0018474768017356492,
          0.5993863961578112,
          null,
          -0.0018474768017356492,
          0.4736425318116372,
          null,
          -0.0018474768017356492,
          -0.12952124031441864,
          null,
          -0.0018474768017356492,
          0.4542984321971892,
          null,
          -0.0018474768017356492,
          0.4606930837416393,
          null,
          0.0459037764713404,
          -0.44840250806990145,
          null,
          0.0459037764713404,
          -0.6044748854967784,
          null,
          0.0459037764713404,
          0.6040496232154208,
          null,
          0.0459037764713404,
          0.5975064186127997,
          null,
          0.0459037764713404,
          -0.29433246202590024,
          null,
          0.0459037764713404,
          -0.6273135872698893,
          null,
          0.0459037764713404,
          0.6970307607492722,
          null,
          0.0459037764713404,
          0.41387808433655876,
          null,
          0.0459037764713404,
          -0.3507240582241934,
          null,
          0.0459037764713404,
          0.3507991784784917,
          null,
          0.0459037764713404,
          0.6919964233291797,
          null,
          0.0459037764713404,
          0.26312763257304095,
          null,
          0.0459037764713404,
          0.5792622709934139,
          null,
          0.0459037764713404,
          0.08832369859530045,
          null,
          0.0459037764713404,
          -0.7132299752276077,
          null,
          0.0459037764713404,
          -0.2590661984308888,
          null,
          0.0459037764713404,
          -0.24472742442872747,
          null,
          0.0459037764713404,
          0.16968637286819918,
          null,
          0.0459037764713404,
          -0.018689623522711273,
          null,
          0.0459037764713404,
          0.012697749192237312,
          null,
          0.0459037764713404,
          0.5476062477628607,
          null,
          0.0459037764713404,
          -0.6416998785776138,
          null,
          0.0459037764713404,
          0.34399441177570433,
          null,
          0.0459037764713404,
          0.4542984321971892,
          null,
          -0.025245603521734494,
          -0.07676218193042644,
          null,
          -0.025245603521734494,
          0.4646326282304058,
          null,
          -0.025245603521734494,
          -0.18046098642364364,
          null,
          -0.025245603521734494,
          0.27561081869307763,
          null,
          -0.025245603521734494,
          0.5562876712983355,
          null,
          -0.025245603521734494,
          -0.6327656402961079,
          null,
          -0.025245603521734494,
          -0.2880264061357731,
          null,
          -0.025245603521734494,
          0.6040496232154208,
          null,
          -0.025245603521734494,
          -0.15282602236778497,
          null,
          -0.025245603521734494,
          -0.4432579977377343,
          null,
          -0.025245603521734494,
          -0.09263190890957738,
          null,
          -0.025245603521734494,
          -0.6273135872698893,
          null,
          -0.025245603521734494,
          -0.2713632148109745,
          null,
          -0.025245603521734494,
          0.5993863961578112,
          null,
          -0.025245603521734494,
          -0.018689623522711273,
          null,
          -0.025245603521734494,
          -0.4489997200659845,
          null,
          -0.025245603521734494,
          -0.5526892980814342,
          null,
          -0.025245603521734494,
          0.5111112754843926,
          null,
          -0.025245603521734494,
          0.35345412570284435,
          null,
          -0.025245603521734494,
          0.16057075838861448,
          null,
          -0.025245603521734494,
          -0.5744455194176843,
          null,
          -0.025245603521734494,
          0.4606930837416393,
          null,
          -0.07676218193042644,
          0.0459037764713404,
          null,
          0.2904599985572698,
          0.004755676664292458,
          null,
          0.007677688362205279,
          0.2904599985572698,
          null,
          0.007677688362205279,
          -0.34666359665509605,
          null,
          0.007677688362205279,
          -0.2880264061357731,
          null,
          0.007677688362205279,
          -0.15282602236778497,
          null,
          0.007677688362205279,
          -0.4432579977377343,
          null,
          0.007677688362205279,
          -0.3507240582241934,
          null,
          0.007677688362205279,
          0.3507991784784917,
          null,
          0.007677688362205279,
          -0.5179322906107044,
          null,
          0.007677688362205279,
          0.6919964233291797,
          null,
          0.007677688362205279,
          0.26312763257304095,
          null,
          0.007677688362205279,
          0.5792622709934139,
          null,
          0.007677688362205279,
          -0.11645708646582965,
          null,
          0.007677688362205279,
          0.08832369859530045,
          null,
          0.007677688362205279,
          -0.549474268901542,
          null,
          0.007677688362205279,
          -0.5647821213547811,
          null,
          0.007677688362205279,
          -0.4078556448919746,
          null,
          0.007677688362205279,
          -0.035382352959524806,
          null,
          0.007677688362205279,
          0.41671582867414136,
          null,
          0.007677688362205279,
          -0.4478108618795858,
          null,
          0.007677688362205279,
          -0.19738060981480815,
          null,
          0.007677688362205279,
          0.5101603511912434,
          null,
          0.007677688362205279,
          0.6727415178750377,
          null,
          0.007677688362205279,
          0.5993863961578112,
          null,
          0.007677688362205279,
          -0.4489997200659845,
          null,
          0.007677688362205279,
          0.4235077104708696,
          null,
          0.007677688362205279,
          0.24811317787118112,
          null,
          0.007677688362205279,
          -0.33588896954414943,
          null,
          0.007677688362205279,
          0.2436450672617701,
          null,
          0.007677688362205279,
          0.405899746585063,
          null,
          0.007677688362205279,
          -0.5744455194176843,
          null,
          0.004755676664292458,
          0.3308241956417713,
          null,
          0.004755676664292458,
          0.7169075093824926,
          null,
          0.004755676664292458,
          -0.098724742603912,
          null,
          0.004755676664292458,
          0.21651398068830785,
          null,
          0.004755676664292458,
          -0.09263190890957738,
          null,
          0.004755676664292458,
          -0.2713632148109745,
          null,
          0.004755676664292458,
          0.3507991784784917,
          null,
          0.004755676664292458,
          -0.557910667180773,
          null,
          0.004755676664292458,
          0.6685052556952068,
          null,
          0.004755676664292458,
          -0.5647821213547811,
          null,
          0.004755676664292458,
          -0.7132299752276077,
          null,
          0.004755676664292458,
          -0.12187581874438404,
          null,
          0.004755676664292458,
          -0.36351112881801717,
          null,
          0.004755676664292458,
          0.5101603511912434,
          null,
          0.004755676664292458,
          0.16968637286819918,
          null,
          0.004755676664292458,
          0.6727415178750377,
          null,
          0.004755676664292458,
          0.31005808364169796,
          null,
          0.004755676664292458,
          -0.5526892980814342,
          null,
          0.004755676664292458,
          0.4235077104708696,
          null,
          0.004755676664292458,
          0.012697749192237312,
          null,
          0.004755676664292458,
          -0.6940532743378532,
          null,
          0.004755676664292458,
          0.2436450672617701,
          null,
          0.3308241956417713,
          0.007677688362205279,
          null,
          -0.6044748854967784,
          0.004755676664292458,
          null,
          0.7169075093824926,
          0.0459037764713404,
          null,
          -0.34666359665509605,
          -0.025245603521734494,
          null,
          0.4646326282304058,
          0.007677688362205279,
          null,
          -0.18046098642364364,
          0.004755676664292458,
          null,
          -0.098724742603912,
          -0.025245603521734494,
          null,
          0.21651398068830785,
          0.018019444388710417,
          null,
          0.6062138327572447,
          0.0459037764713404,
          null,
          0.03818509205391607,
          -0.0018474768017356492,
          null,
          -0.398534889959977,
          0.0459037764713404,
          null,
          0.27561081869307763,
          0.0459037764713404,
          null,
          0.19600102188072158,
          0.004755676664292458,
          null,
          -0.369427330372601,
          0.018019444388710417,
          null,
          0.0422932482760646,
          -0.369427330372601,
          null,
          0.0422932482760646,
          0.2952748404472383,
          null,
          0.0422932482760646,
          0.42056001016843225,
          null,
          0.0422932482760646,
          0.5975064186127997,
          null,
          0.0422932482760646,
          -0.29433246202590024,
          null,
          0.0422932482760646,
          0.41387808433655876,
          null,
          0.0422932482760646,
          -0.33508827776462563,
          null,
          0.0422932482760646,
          -0.25868140229480174,
          null,
          0.0422932482760646,
          -0.12952124031441864,
          null,
          0.0422932482760646,
          -0.33588896954414943,
          null,
          -0.23197185965561498,
          -0.025245603521734494,
          null,
          -0.5694093280847365,
          0.007677688362205279,
          null,
          0.5562876712983355,
          0.007677688362205279,
          null,
          0.2952748404472383,
          0.007677688362205279,
          null,
          -0.6327656402961079,
          0.004755676664292458,
          null,
          0.42056001016843225,
          -0.0018474768017356492,
          null,
          -0.2880264061357731,
          0.0459037764713404,
          null,
          0.6040496232154208,
          0.007677688362205279,
          null,
          0.5975064186127997,
          0.018019444388710417,
          null,
          -0.15282602236778497,
          0.018019444388710417,
          null,
          -0.4432579977377343,
          0.004755676664292458,
          null,
          -0.09263190890957738,
          0.007677688362205279,
          null,
          -0.29433246202590024,
          -0.0018474768017356492,
          null,
          -0.6273135872698893,
          0.004755676664292458,
          null,
          -0.2713632148109745,
          0.0459037764713404,
          null,
          0.6970307607492722,
          0.018019444388710417,
          null,
          0.41387808433655876,
          0.007677688362205279,
          null,
          -0.3507240582241934,
          0.004755676664292458,
          null,
          0.3507991784784917,
          -0.0018474768017356492,
          null,
          -0.5179322906107044,
          0.004755676664292458,
          null,
          0.6919964233291797,
          0.018019444388710417,
          null,
          0.26312763257304095,
          0.11603927687988846,
          null,
          0.5792622709934139,
          0.018019444388710417,
          null,
          -0.11645708646582965,
          0.0459037764713404,
          null,
          0.08832369859530045,
          -0.0018474768017356492,
          null,
          -0.549474268901542,
          -0.025245603521734494,
          null,
          -0.557910667180773,
          0.007677688362205279,
          null,
          0.6685052556952068,
          0.0459037764713404,
          null,
          -0.5647821213547811,
          -0.0018474768017356492,
          null,
          -0.7132299752276077,
          -0.0018474768017356492,
          null,
          -0.6578710809050978,
          0.004755676664292458,
          null,
          -0.4562228523717375,
          0.007677688362205279,
          null,
          0.007013193214005233,
          0.0459037764713404,
          null,
          -0.4078556448919746,
          0.0459037764713404,
          null,
          -0.2590661984308888,
          0.007677688362205279,
          null,
          -0.035382352959524806,
          0.018019444388710417,
          null,
          0.41671582867414136,
          -0.0018474768017356492,
          null,
          -0.4478108618795858,
          0.0459037764713404,
          null,
          -0.19738060981480815,
          0.0459037764713404,
          null,
          -0.24472742442872747,
          0.007677688362205279,
          null,
          -0.12187581874438404,
          -0.0018474768017356492,
          null,
          -0.36351112881801717,
          0.007677688362205279,
          null,
          0.06762558368064019,
          0.007677688362205279,
          null,
          0.10869608457759065,
          0.0459037764713404,
          null,
          0.5101603511912434,
          0.0459037764713404,
          null,
          0.16968637286819918,
          0.007677688362205279,
          null,
          0.6727415178750377,
          0.018019444388710417,
          null,
          0.31005808364169796,
          0.007677688362205279,
          null,
          0.5993863961578112,
          0.018019444388710417,
          null,
          -0.018689623522711273,
          -0.0018474768017356492,
          null,
          -0.4489997200659845,
          -0.0018474768017356492,
          null,
          -0.5526892980814342,
          -0.0018474768017356492,
          null,
          0.4235077104708696,
          0.0459037764713404,
          null,
          0.012697749192237312,
          0.007677688362205279,
          null,
          0.24811317787118112,
          0.0459037764713404,
          null,
          0.4736425318116372,
          0.007677688362205279,
          null,
          0.5476062477628607,
          0.007677688362205279,
          null,
          -0.4755390548705876,
          0.007677688362205279,
          null,
          0.5111112754843926,
          -0.0018474768017356492,
          null,
          -0.33508827776462563,
          0.0459037764713404,
          null,
          -0.6416998785776138,
          0.007677688362205279,
          null,
          -0.25868140229480174,
          0.0459037764713404,
          null,
          0.35345412570284435,
          0.007677688362205279,
          null,
          0.16057075838861448,
          -0.0018474768017356492,
          null,
          -0.12952124031441864,
          0.0459037764713404,
          null,
          -0.6940532743378532,
          -0.0018474768017356492,
          null,
          -0.33588896954414943,
          0.0459037764713404,
          null,
          0.2436450672617701,
          -0.0018474768017356492,
          null,
          0.405899746585063,
          0.0459037764713404,
          null,
          0.34399441177570433,
          0.007677688362205279,
          null,
          0.4542984321971892,
          0.007677688362205279,
          null,
          -0.5744455194176843,
          -0.0018474768017356492,
          null,
          0.4606930837416393,
          0.007677688362205279,
          null
         ],
         "type": "scatter"
        },
        {
         "hoverinfo": "text",
         "marker": {
          "color": [],
          "colorbar": {
           "thickness": 15,
           "title": {
            "side": "right",
            "text": "Node Connections"
           },
           "xanchor": "left"
          },
          "colorscale": [
           [
            0.0,
            "rgb(255,255,217)"
           ],
           [
            0.125,
            "rgb(237,248,177)"
           ],
           [
            0.25,
            "rgb(199,233,180)"
           ],
           [
            0.375,
            "rgb(127,205,187)"
           ],
           [
            0.5,
            "rgb(65,182,196)"
           ],
           [
            0.625,
            "rgb(29,145,192)"
           ],
           [
            0.75,
            "rgb(34,94,168)"
           ],
           [
            0.875,
            "rgb(37,52,148)"
           ],
           [
            1.0,
            "rgb(8,29,88)"
           ]
          ],
          "line": {
           "width": 2
          },
          "reversescale": true,
          "showscale": true,
          "size": 10
         },
         "mode": "markers",
         "text": [
          "0",
          "Брюки",
          "Сумка",
          "1",
          "Куртка",
          "Джинсы",
          "Кроссовки",
          "2",
          "3",
          "Футболка",
          "Рубашка",
          "4",
          "5",
          "6",
          "7",
          "8",
          "9",
          "10",
          "11",
          "12",
          "13",
          "14",
          "15",
          "16",
          "17",
          "Шапка",
          "18",
          "19",
          "20",
          "21",
          "22",
          "23",
          "24",
          "25",
          "26",
          "27",
          "28",
          "29",
          "30",
          "31",
          "32",
          "33",
          "34",
          "35",
          "36",
          "37",
          "38",
          "39",
          "40",
          "41",
          "42",
          "43",
          "44",
          "45",
          "46",
          "47",
          "48",
          "49",
          "50",
          "51",
          "52",
          "53",
          "54",
          "55",
          "56",
          "57",
          "58",
          "59",
          "60",
          "61",
          "62",
          "63",
          "64",
          "65",
          "66",
          "67",
          "68",
          "69",
          "70",
          "71",
          "72",
          "73",
          "74",
          "75",
          "76",
          "77",
          "78",
          "79",
          "80",
          "81",
          "82",
          "83",
          "84",
          "85",
          "86",
          "87",
          "88",
          "89",
          "90"
         ],
         "x": [
          -0.7204712687776405,
          -0.3830417097533171,
          -0.03328586583397761,
          0.6149026204901358,
          0.04590185140405117,
          0.013679690044063213,
          0.07978224563945781,
          0.4445895409848409,
          0.6432733489081224,
          -0.0163228077487667,
          0.023720184155096954,
          -0.17967053275078826,
          0.07333592845002734,
          0.15312714790552537,
          0.6882514320151591,
          -0.1753734030319501,
          0.5217945807810049,
          0.7696494451360274,
          -0.6810101391046333,
          0.38021692018379816,
          0.7176812587446055,
          -0.2694039848652039,
          -0.3241723306523478,
          0.5734021577763865,
          -0.6205054324920919,
          -0.09644103745081545,
          0.7308605512543351,
          -0.4149475838801497,
          -0.03922908804480121,
          -0.611325769136984,
          0.18670888411772105,
          0.6016759547393574,
          0.2696300282271488,
          0.08404456589038302,
          -0.43061543610131586,
          -0.701623523367396,
          0.2810917535304852,
          -0.5911147340456285,
          0.5719712591514329,
          0.3265041082554142,
          -0.37119003354280994,
          -0.1319034329571375,
          -0.02509617207044424,
          0.4526737764465611,
          0.5349308831246283,
          -0.02732995228125559,
          -0.0158830039664986,
          -1.0,
          -0.32098521590023127,
          -0.46088812598358736,
          0.5856695818759852,
          0.5431253720554557,
          -0.3065989341085604,
          0.2772545784119116,
          0.2642648714940632,
          0.13278482050775747,
          -0.009631643224441898,
          -0.3957507257252354,
          -0.42476280908557074,
          -0.14497992564720802,
          -0.6472935692942713,
          -0.7110849160379297,
          0.42918662484629966,
          0.11158310538587805,
          0.3648985864917187,
          -0.5352984451222923,
          0.6466661738218419,
          -0.48968817305244466,
          -0.6129758709203608,
          -0.5115239986465963,
          -0.5006355015713347,
          0.34739258480657315,
          -0.27092897181337855,
          0.29876826904978643,
          -0.17763420741554647,
          0.6035279937239844,
          0.42614828517551573,
          0.4212871842512921,
          -0.2989303881349569,
          0.35611784895138815,
          -0.48767041071545875,
          0.09929145127590303,
          0.21003777403987772,
          -0.5159740678560564,
          0.4887255956526623,
          0.12604122947999152,
          -0.2545636418972858,
          -0.21913523464303047,
          0.16039079258882638,
          0.7106076475872104,
          -0.3282458193640657,
          -0.09972559314559587,
          -0.03129883080728849,
          0.48073187350109786,
          -0.5482642338074312,
          -0.45561648888375467,
          0.28667909101722683,
          -0.13418772273166563,
          -0.4003507459564784
         ],
         "y": [
          0.08399554158513725,
          0.11603927687988846,
          0.018019444388710417,
          -0.44840250806990145,
          -0.0018474768017356492,
          0.0459037764713404,
          -0.025245603521734494,
          -0.07676218193042644,
          0.2904599985572698,
          0.007677688362205279,
          0.004755676664292458,
          0.3308241956417713,
          -0.6044748854967784,
          0.7169075093824926,
          -0.34666359665509605,
          0.4646326282304058,
          -0.18046098642364364,
          -0.098724742603912,
          0.21651398068830785,
          0.6062138327572447,
          0.03818509205391607,
          -0.398534889959977,
          0.27561081869307763,
          0.19600102188072158,
          -0.369427330372601,
          0.0422932482760646,
          -0.23197185965561498,
          -0.5694093280847365,
          0.5562876712983355,
          0.2952748404472383,
          -0.6327656402961079,
          0.42056001016843225,
          -0.2880264061357731,
          0.6040496232154208,
          0.5975064186127997,
          -0.15282602236778497,
          -0.4432579977377343,
          -0.09263190890957738,
          -0.29433246202590024,
          -0.6273135872698893,
          -0.2713632148109745,
          0.6970307607492722,
          0.41387808433655876,
          -0.3507240582241934,
          0.3507991784784917,
          -0.5179322906107044,
          0.6919964233291797,
          0.26312763257304095,
          0.5792622709934139,
          -0.11645708646582965,
          0.08832369859530045,
          -0.549474268901542,
          -0.557910667180773,
          0.6685052556952068,
          -0.5647821213547811,
          -0.7132299752276077,
          -0.6578710809050978,
          -0.4562228523717375,
          0.007013193214005233,
          -0.4078556448919746,
          -0.2590661984308888,
          -0.035382352959524806,
          0.41671582867414136,
          -0.4478108618795858,
          -0.19738060981480815,
          -0.24472742442872747,
          -0.12187581874438404,
          -0.36351112881801717,
          0.06762558368064019,
          0.10869608457759065,
          0.5101603511912434,
          0.16968637286819918,
          0.6727415178750377,
          0.31005808364169796,
          0.5993863961578112,
          -0.018689623522711273,
          -0.4489997200659845,
          -0.5526892980814342,
          0.4235077104708696,
          0.012697749192237312,
          0.24811317787118112,
          0.4736425318116372,
          0.5476062477628607,
          -0.4755390548705876,
          0.5111112754843926,
          -0.33508827776462563,
          -0.6416998785776138,
          -0.25868140229480174,
          0.35345412570284435,
          0.16057075838861448,
          -0.12952124031441864,
          -0.6940532743378532,
          -0.33588896954414943,
          0.2436450672617701,
          0.405899746585063,
          0.34399441177570433,
          0.4542984321971892,
          -0.5744455194176843,
          0.4606930837416393
         ],
         "type": "scatter"
        }
       ],
       "layout": {
        "annotations": [
         {
          "showarrow": false,
          "text": "Python code: <a href='https://plotly.com/ipython-notebooks/network-graphs/'> https://plotly.com/ipython-notebooks/network-graphs/</a>",
          "x": 0.005,
          "xref": "paper",
          "y": -0.002,
          "yref": "paper"
         }
        ],
        "hovermode": "closest",
        "margin": {
         "b": 20,
         "l": 5,
         "r": 5,
         "t": 40
        },
        "showlegend": false,
        "title": {
         "font": {
          "size": 16
         },
         "text": "<br>Network graph made with Python"
        },
        "xaxis": {
         "showgrid": false,
         "showticklabels": false,
         "zeroline": false
        },
        "yaxis": {
         "showgrid": false,
         "showticklabels": false,
         "zeroline": false
        },
        "template": {
         "data": {
          "histogram2dcontour": [
           {
            "type": "histogram2dcontour",
            "colorbar": {
             "outlinewidth": 0,
             "ticks": ""
            },
            "colorscale": [
             [
              0.0,
              "#0d0887"
             ],
             [
              0.1111111111111111,
              "#46039f"
             ],
             [
              0.2222222222222222,
              "#7201a8"
             ],
             [
              0.3333333333333333,
              "#9c179e"
             ],
             [
              0.4444444444444444,
              "#bd3786"
             ],
             [
              0.5555555555555556,
              "#d8576b"
             ],
             [
              0.6666666666666666,
              "#ed7953"
             ],
             [
              0.7777777777777778,
              "#fb9f3a"
             ],
             [
              0.8888888888888888,
              "#fdca26"
             ],
             [
              1.0,
              "#f0f921"
             ]
            ]
           }
          ],
          "choropleth": [
           {
            "type": "choropleth",
            "colorbar": {
             "outlinewidth": 0,
             "ticks": ""
            }
           }
          ],
          "histogram2d": [
           {
            "type": "histogram2d",
            "colorbar": {
             "outlinewidth": 0,
             "ticks": ""
            },
            "colorscale": [
             [
              0.0,
              "#0d0887"
             ],
             [
              0.1111111111111111,
              "#46039f"
             ],
             [
              0.2222222222222222,
              "#7201a8"
             ],
             [
              0.3333333333333333,
              "#9c179e"
             ],
             [
              0.4444444444444444,
              "#bd3786"
             ],
             [
              0.5555555555555556,
              "#d8576b"
             ],
             [
              0.6666666666666666,
              "#ed7953"
             ],
             [
              0.7777777777777778,
              "#fb9f3a"
             ],
             [
              0.8888888888888888,
              "#fdca26"
             ],
             [
              1.0,
              "#f0f921"
             ]
            ]
           }
          ],
          "heatmap": [
           {
            "type": "heatmap",
            "colorbar": {
             "outlinewidth": 0,
             "ticks": ""
            },
            "colorscale": [
             [
              0.0,
              "#0d0887"
             ],
             [
              0.1111111111111111,
              "#46039f"
             ],
             [
              0.2222222222222222,
              "#7201a8"
             ],
             [
              0.3333333333333333,
              "#9c179e"
             ],
             [
              0.4444444444444444,
              "#bd3786"
             ],
             [
              0.5555555555555556,
              "#d8576b"
             ],
             [
              0.6666666666666666,
              "#ed7953"
             ],
             [
              0.7777777777777778,
              "#fb9f3a"
             ],
             [
              0.8888888888888888,
              "#fdca26"
             ],
             [
              1.0,
              "#f0f921"
             ]
            ]
           }
          ],
          "heatmapgl": [
           {
            "type": "heatmapgl",
            "colorbar": {
             "outlinewidth": 0,
             "ticks": ""
            },
            "colorscale": [
             [
              0.0,
              "#0d0887"
             ],
             [
              0.1111111111111111,
              "#46039f"
             ],
             [
              0.2222222222222222,
              "#7201a8"
             ],
             [
              0.3333333333333333,
              "#9c179e"
             ],
             [
              0.4444444444444444,
              "#bd3786"
             ],
             [
              0.5555555555555556,
              "#d8576b"
             ],
             [
              0.6666666666666666,
              "#ed7953"
             ],
             [
              0.7777777777777778,
              "#fb9f3a"
             ],
             [
              0.8888888888888888,
              "#fdca26"
             ],
             [
              1.0,
              "#f0f921"
             ]
            ]
           }
          ],
          "contourcarpet": [
           {
            "type": "contourcarpet",
            "colorbar": {
             "outlinewidth": 0,
             "ticks": ""
            }
           }
          ],
          "contour": [
           {
            "type": "contour",
            "colorbar": {
             "outlinewidth": 0,
             "ticks": ""
            },
            "colorscale": [
             [
              0.0,
              "#0d0887"
             ],
             [
              0.1111111111111111,
              "#46039f"
             ],
             [
              0.2222222222222222,
              "#7201a8"
             ],
             [
              0.3333333333333333,
              "#9c179e"
             ],
             [
              0.4444444444444444,
              "#bd3786"
             ],
             [
              0.5555555555555556,
              "#d8576b"
             ],
             [
              0.6666666666666666,
              "#ed7953"
             ],
             [
              0.7777777777777778,
              "#fb9f3a"
             ],
             [
              0.8888888888888888,
              "#fdca26"
             ],
             [
              1.0,
              "#f0f921"
             ]
            ]
           }
          ],
          "surface": [
           {
            "type": "surface",
            "colorbar": {
             "outlinewidth": 0,
             "ticks": ""
            },
            "colorscale": [
             [
              0.0,
              "#0d0887"
             ],
             [
              0.1111111111111111,
              "#46039f"
             ],
             [
              0.2222222222222222,
              "#7201a8"
             ],
             [
              0.3333333333333333,
              "#9c179e"
             ],
             [
              0.4444444444444444,
              "#bd3786"
             ],
             [
              0.5555555555555556,
              "#d8576b"
             ],
             [
              0.6666666666666666,
              "#ed7953"
             ],
             [
              0.7777777777777778,
              "#fb9f3a"
             ],
             [
              0.8888888888888888,
              "#fdca26"
             ],
             [
              1.0,
              "#f0f921"
             ]
            ]
           }
          ],
          "mesh3d": [
           {
            "type": "mesh3d",
            "colorbar": {
             "outlinewidth": 0,
             "ticks": ""
            }
           }
          ],
          "scatter": [
           {
            "fillpattern": {
             "fillmode": "overlay",
             "size": 10,
             "solidity": 0.2
            },
            "type": "scatter"
           }
          ],
          "parcoords": [
           {
            "type": "parcoords",
            "line": {
             "colorbar": {
              "outlinewidth": 0,
              "ticks": ""
             }
            }
           }
          ],
          "scatterpolargl": [
           {
            "type": "scatterpolargl",
            "marker": {
             "colorbar": {
              "outlinewidth": 0,
              "ticks": ""
             }
            }
           }
          ],
          "bar": [
           {
            "error_x": {
             "color": "#2a3f5f"
            },
            "error_y": {
             "color": "#2a3f5f"
            },
            "marker": {
             "line": {
              "color": "#E5ECF6",
              "width": 0.5
             },
             "pattern": {
              "fillmode": "overlay",
              "size": 10,
              "solidity": 0.2
             }
            },
            "type": "bar"
           }
          ],
          "scattergeo": [
           {
            "type": "scattergeo",
            "marker": {
             "colorbar": {
              "outlinewidth": 0,
              "ticks": ""
             }
            }
           }
          ],
          "scatterpolar": [
           {
            "type": "scatterpolar",
            "marker": {
             "colorbar": {
              "outlinewidth": 0,
              "ticks": ""
             }
            }
           }
          ],
          "histogram": [
           {
            "marker": {
             "pattern": {
              "fillmode": "overlay",
              "size": 10,
              "solidity": 0.2
             }
            },
            "type": "histogram"
           }
          ],
          "scattergl": [
           {
            "type": "scattergl",
            "marker": {
             "colorbar": {
              "outlinewidth": 0,
              "ticks": ""
             }
            }
           }
          ],
          "scatter3d": [
           {
            "type": "scatter3d",
            "line": {
             "colorbar": {
              "outlinewidth": 0,
              "ticks": ""
             }
            },
            "marker": {
             "colorbar": {
              "outlinewidth": 0,
              "ticks": ""
             }
            }
           }
          ],
          "scattermapbox": [
           {
            "type": "scattermapbox",
            "marker": {
             "colorbar": {
              "outlinewidth": 0,
              "ticks": ""
             }
            }
           }
          ],
          "scatterternary": [
           {
            "type": "scatterternary",
            "marker": {
             "colorbar": {
              "outlinewidth": 0,
              "ticks": ""
             }
            }
           }
          ],
          "scattercarpet": [
           {
            "type": "scattercarpet",
            "marker": {
             "colorbar": {
              "outlinewidth": 0,
              "ticks": ""
             }
            }
           }
          ],
          "carpet": [
           {
            "aaxis": {
             "endlinecolor": "#2a3f5f",
             "gridcolor": "white",
             "linecolor": "white",
             "minorgridcolor": "white",
             "startlinecolor": "#2a3f5f"
            },
            "baxis": {
             "endlinecolor": "#2a3f5f",
             "gridcolor": "white",
             "linecolor": "white",
             "minorgridcolor": "white",
             "startlinecolor": "#2a3f5f"
            },
            "type": "carpet"
           }
          ],
          "table": [
           {
            "cells": {
             "fill": {
              "color": "#EBF0F8"
             },
             "line": {
              "color": "white"
             }
            },
            "header": {
             "fill": {
              "color": "#C8D4E3"
             },
             "line": {
              "color": "white"
             }
            },
            "type": "table"
           }
          ],
          "barpolar": [
           {
            "marker": {
             "line": {
              "color": "#E5ECF6",
              "width": 0.5
             },
             "pattern": {
              "fillmode": "overlay",
              "size": 10,
              "solidity": 0.2
             }
            },
            "type": "barpolar"
           }
          ],
          "pie": [
           {
            "automargin": true,
            "type": "pie"
           }
          ]
         },
         "layout": {
          "autotypenumbers": "strict",
          "colorway": [
           "#636efa",
           "#EF553B",
           "#00cc96",
           "#ab63fa",
           "#FFA15A",
           "#19d3f3",
           "#FF6692",
           "#B6E880",
           "#FF97FF",
           "#FECB52"
          ],
          "font": {
           "color": "#2a3f5f"
          },
          "hovermode": "closest",
          "hoverlabel": {
           "align": "left"
          },
          "paper_bgcolor": "white",
          "plot_bgcolor": "#E5ECF6",
          "polar": {
           "bgcolor": "#E5ECF6",
           "angularaxis": {
            "gridcolor": "white",
            "linecolor": "white",
            "ticks": ""
           },
           "radialaxis": {
            "gridcolor": "white",
            "linecolor": "white",
            "ticks": ""
           }
          },
          "ternary": {
           "bgcolor": "#E5ECF6",
           "aaxis": {
            "gridcolor": "white",
            "linecolor": "white",
            "ticks": ""
           },
           "baxis": {
            "gridcolor": "white",
            "linecolor": "white",
            "ticks": ""
           },
           "caxis": {
            "gridcolor": "white",
            "linecolor": "white",
            "ticks": ""
           }
          },
          "coloraxis": {
           "colorbar": {
            "outlinewidth": 0,
            "ticks": ""
           }
          },
          "colorscale": {
           "sequential": [
            [
             0.0,
             "#0d0887"
            ],
            [
             0.1111111111111111,
             "#46039f"
            ],
            [
             0.2222222222222222,
             "#7201a8"
            ],
            [
             0.3333333333333333,
             "#9c179e"
            ],
            [
             0.4444444444444444,
             "#bd3786"
            ],
            [
             0.5555555555555556,
             "#d8576b"
            ],
            [
             0.6666666666666666,
             "#ed7953"
            ],
            [
             0.7777777777777778,
             "#fb9f3a"
            ],
            [
             0.8888888888888888,
             "#fdca26"
            ],
            [
             1.0,
             "#f0f921"
            ]
           ],
           "sequentialminus": [
            [
             0.0,
             "#0d0887"
            ],
            [
             0.1111111111111111,
             "#46039f"
            ],
            [
             0.2222222222222222,
             "#7201a8"
            ],
            [
             0.3333333333333333,
             "#9c179e"
            ],
            [
             0.4444444444444444,
             "#bd3786"
            ],
            [
             0.5555555555555556,
             "#d8576b"
            ],
            [
             0.6666666666666666,
             "#ed7953"
            ],
            [
             0.7777777777777778,
             "#fb9f3a"
            ],
            [
             0.8888888888888888,
             "#fdca26"
            ],
            [
             1.0,
             "#f0f921"
            ]
           ],
           "diverging": [
            [
             0,
             "#8e0152"
            ],
            [
             0.1,
             "#c51b7d"
            ],
            [
             0.2,
             "#de77ae"
            ],
            [
             0.3,
             "#f1b6da"
            ],
            [
             0.4,
             "#fde0ef"
            ],
            [
             0.5,
             "#f7f7f7"
            ],
            [
             0.6,
             "#e6f5d0"
            ],
            [
             0.7,
             "#b8e186"
            ],
            [
             0.8,
             "#7fbc41"
            ],
            [
             0.9,
             "#4d9221"
            ],
            [
             1,
             "#276419"
            ]
           ]
          },
          "xaxis": {
           "gridcolor": "white",
           "linecolor": "white",
           "ticks": "",
           "title": {
            "standoff": 15
           },
           "zerolinecolor": "white",
           "automargin": true,
           "zerolinewidth": 2
          },
          "yaxis": {
           "gridcolor": "white",
           "linecolor": "white",
           "ticks": "",
           "title": {
            "standoff": 15
           },
           "zerolinecolor": "white",
           "automargin": true,
           "zerolinewidth": 2
          },
          "scene": {
           "xaxis": {
            "backgroundcolor": "#E5ECF6",
            "gridcolor": "white",
            "linecolor": "white",
            "showbackground": true,
            "ticks": "",
            "zerolinecolor": "white",
            "gridwidth": 2
           },
           "yaxis": {
            "backgroundcolor": "#E5ECF6",
            "gridcolor": "white",
            "linecolor": "white",
            "showbackground": true,
            "ticks": "",
            "zerolinecolor": "white",
            "gridwidth": 2
           },
           "zaxis": {
            "backgroundcolor": "#E5ECF6",
            "gridcolor": "white",
            "linecolor": "white",
            "showbackground": true,
            "ticks": "",
            "zerolinecolor": "white",
            "gridwidth": 2
           }
          },
          "shapedefaults": {
           "line": {
            "color": "#2a3f5f"
           }
          },
          "annotationdefaults": {
           "arrowcolor": "#2a3f5f",
           "arrowhead": 0,
           "arrowwidth": 1
          },
          "geo": {
           "bgcolor": "white",
           "landcolor": "#E5ECF6",
           "subunitcolor": "white",
           "showland": true,
           "showlakes": true,
           "lakecolor": "white"
          },
          "title": {
           "x": 0.05
          },
          "mapbox": {
           "style": "light"
          }
         }
        }
       },
       "config": {
        "plotlyServerURL": "https://plot.ly"
       }
      },
      "text/html": [
       "<div>                            <div id=\"173085c8-0a68-412d-bd93-df4e862be3a7\" class=\"plotly-graph-div\" style=\"height:525px; width:100%;\"></div>            <script type=\"text/javascript\">                require([\"plotly\"], function(Plotly) {                    window.PLOTLYENV=window.PLOTLYENV || {};                                    if (document.getElementById(\"173085c8-0a68-412d-bd93-df4e862be3a7\")) {                    Plotly.newPlot(                        \"173085c8-0a68-412d-bd93-df4e862be3a7\",                        [{\"hoverinfo\":\"none\",\"line\":{\"color\":\"#888\",\"width\":0.5},\"mode\":\"lines\",\"x\":[-0.7204712687776405,-0.03328586583397761,null,-0.3830417097533171,-0.7204712687776405,null,-0.3830417097533171,-0.1319034329571375,null,-0.3830417097533171,-0.0158830039664986,null,-0.3830417097533171,-0.42476280908557074,null,-0.3830417097533171,-0.6129758709203608,null,-0.3830417097533171,-0.5115239986465963,null,-0.3830417097533171,-0.48767041071545875,null,-0.3830417097533171,-0.5159740678560564,null,-0.3830417097533171,-0.2545636418972858,null,-0.3830417097533171,-0.5482642338074312,null,-0.3830417097533171,-0.45561648888375467,null,-0.03328586583397761,0.38021692018379816,null,-0.03328586583397761,0.7176812587446055,null,-0.03328586583397761,-0.02732995228125559,null,-0.03328586583397761,-1.0,null,-0.03328586583397761,-0.46088812598358736,null,-0.03328586583397761,0.5856695818759852,null,-0.03328586583397761,0.5431253720554557,null,-0.03328586583397761,-0.009631643224441898,null,-0.03328586583397761,-0.3957507257252354,null,-0.03328586583397761,0.42918662484629966,null,-0.03328586583397761,0.11158310538587805,null,-0.03328586583397761,-0.48968817305244466,null,-0.03328586583397761,-0.6129758709203608,null,-0.03328586583397761,-0.5115239986465963,null,-0.03328586583397761,0.29876826904978643,null,-0.03328586583397761,0.09929145127590303,null,-0.03328586583397761,0.21003777403987772,null,-0.03328586583397761,-0.21913523464303047,null,-0.03328586583397761,0.16039079258882638,null,-0.03328586583397761,0.7106076475872104,null,-0.03328586583397761,-0.09972559314559587,null,-0.03328586583397761,0.48073187350109786,null,-0.03328586583397761,-0.5482642338074312,null,-0.03328586583397761,-0.45561648888375467,null,-0.03328586583397761,0.28667909101722683,null,-0.03328586583397761,-0.13418772273166563,null,-0.03328586583397761,-0.4003507459564784,null,0.6149026204901358,0.07978224563945781,null,0.04590185140405117,0.6149026204901358,null,0.04590185140405117,0.4445895409848409,null,0.04590185140405117,0.6432733489081224,null,0.04590185140405117,-0.17967053275078826,null,0.04590185140405117,0.07333592845002734,null,0.04590185140405117,0.15312714790552537,null,0.04590185140405117,0.6882514320151591,null,0.04590185140405117,-0.1753734030319501,null,0.04590185140405117,0.5217945807810049,null,0.04590185140405117,0.7696494451360274,null,0.04590185140405117,-0.6810101391046333,null,0.04590185140405117,-0.2694039848652039,null,0.04590185140405117,0.5734021577763865,null,0.04590185140405117,0.7308605512543351,null,0.04590185140405117,-0.4149475838801497,null,0.04590185140405117,0.4526737764465611,null,0.04590185140405117,-0.02732995228125559,null,0.04590185140405117,-0.32098521590023127,null,0.04590185140405117,-0.46088812598358736,null,0.04590185140405117,0.5431253720554557,null,0.04590185140405117,-0.009631643224441898,null,0.04590185140405117,-0.14497992564720802,null,0.04590185140405117,-0.6472935692942713,null,0.04590185140405117,-0.7110849160379297,null,0.04590185140405117,-0.5006355015713347,null,0.04590185140405117,0.34739258480657315,null,0.04590185140405117,-0.27092897181337855,null,0.04590185140405117,0.29876826904978643,null,0.04590185140405117,-0.17763420741554647,null,0.04590185140405117,0.09929145127590303,null,0.04590185140405117,-0.3282458193640657,null,0.04590185140405117,0.28667909101722683,null,0.04590185140405117,-0.4003507459564784,null,0.013679690044063213,0.6149026204901358,null,0.013679690044063213,0.07333592845002734,null,0.013679690044063213,0.08404456589038302,null,0.013679690044063213,-0.43061543610131586,null,0.013679690044063213,0.5719712591514329,null,0.013679690044063213,0.3265041082554142,null,0.013679690044063213,-0.1319034329571375,null,0.013679690044063213,-0.02509617207044424,null,0.013679690044063213,0.4526737764465611,null,0.013679690044063213,0.5349308831246283,null,0.013679690044063213,-0.0158830039664986,null,0.013679690044063213,-1.0,null,0.013679690044063213,-0.32098521590023127,null,0.013679690044063213,0.5856695818759852,null,0.013679690044063213,0.13278482050775747,null,0.013679690044063213,-0.6472935692942713,null,0.013679690044063213,-0.5352984451222923,null,0.013679690044063213,0.34739258480657315,null,0.013679690044063213,0.6035279937239844,null,0.013679690044063213,0.35611784895138815,null,0.013679690044063213,0.21003777403987772,null,0.013679690044063213,-0.2545636418972858,null,0.013679690044063213,-0.45561648888375467,null,0.013679690044063213,0.28667909101722683,null,0.07978224563945781,0.4445895409848409,null,0.07978224563945781,-0.1753734030319501,null,0.07978224563945781,0.5217945807810049,null,0.07978224563945781,-0.3241723306523478,null,0.07978224563945781,-0.03922908804480121,null,0.07978224563945781,0.18670888411772105,null,0.07978224563945781,0.2696300282271488,null,0.07978224563945781,0.08404456589038302,null,0.07978224563945781,-0.701623523367396,null,0.07978224563945781,0.2810917535304852,null,0.07978224563945781,-0.5911147340456285,null,0.07978224563945781,0.3265041082554142,null,0.07978224563945781,-0.37119003354280994,null,0.07978224563945781,-0.17763420741554647,null,0.07978224563945781,0.6035279937239844,null,0.07978224563945781,0.42614828517551573,null,0.07978224563945781,0.4212871842512921,null,0.07978224563945781,0.4887255956526623,null,0.07978224563945781,0.16039079258882638,null,0.07978224563945781,0.7106076475872104,null,0.07978224563945781,-0.13418772273166563,null,0.07978224563945781,-0.4003507459564784,null,0.4445895409848409,0.013679690044063213,null,0.6432733489081224,0.023720184155096954,null,-0.0163228077487667,0.6432733489081224,null,-0.0163228077487667,0.6882514320151591,null,-0.0163228077487667,0.2696300282271488,null,-0.0163228077487667,-0.701623523367396,null,-0.0163228077487667,0.2810917535304852,null,-0.0163228077487667,0.4526737764465611,null,-0.0163228077487667,0.5349308831246283,null,-0.0163228077487667,-0.02732995228125559,null,-0.0163228077487667,-0.0158830039664986,null,-0.0163228077487667,-1.0,null,-0.0163228077487667,-0.32098521590023127,null,-0.0163228077487667,-0.46088812598358736,null,-0.0163228077487667,0.5856695818759852,null,-0.0163228077487667,0.5431253720554557,null,-0.0163228077487667,0.2642648714940632,null,-0.0163228077487667,-0.14497992564720802,null,-0.0163228077487667,-0.7110849160379297,null,-0.0163228077487667,0.42918662484629966,null,-0.0163228077487667,0.11158310538587805,null,-0.0163228077487667,0.3648985864917187,null,-0.0163228077487667,-0.5006355015713347,null,-0.0163228077487667,-0.27092897181337855,null,-0.0163228077487667,-0.17763420741554647,null,-0.0163228077487667,0.42614828517551573,null,-0.0163228077487667,-0.2989303881349569,null,-0.0163228077487667,-0.48767041071545875,null,-0.0163228077487667,-0.03129883080728849,null,-0.0163228077487667,0.48073187350109786,null,-0.0163228077487667,-0.5482642338074312,null,-0.0163228077487667,-0.13418772273166563,null,0.023720184155096954,-0.17967053275078826,null,0.023720184155096954,0.15312714790552537,null,0.023720184155096954,0.7696494451360274,null,0.023720184155096954,-0.6810101391046333,null,0.023720184155096954,-0.5911147340456285,null,0.023720184155096954,-0.37119003354280994,null,0.023720184155096954,0.5349308831246283,null,0.023720184155096954,-0.3065989341085604,null,0.023720184155096954,0.2772545784119116,null,0.023720184155096954,0.2642648714940632,null,0.023720184155096954,0.13278482050775747,null,0.023720184155096954,0.6466661738218419,null,0.023720184155096954,-0.48968817305244466,null,0.023720184155096954,-0.5006355015713347,null,0.023720184155096954,0.34739258480657315,null,0.023720184155096954,-0.27092897181337855,null,0.023720184155096954,0.29876826904978643,null,0.023720184155096954,0.4212871842512921,null,0.023720184155096954,-0.2989303881349569,null,0.023720184155096954,0.35611784895138815,null,0.023720184155096954,-0.09972559314559587,null,0.023720184155096954,0.48073187350109786,null,-0.17967053275078826,-0.0163228077487667,null,0.07333592845002734,0.023720184155096954,null,0.15312714790552537,0.013679690044063213,null,0.6882514320151591,0.07978224563945781,null,-0.1753734030319501,-0.0163228077487667,null,0.5217945807810049,0.023720184155096954,null,0.7696494451360274,0.07978224563945781,null,-0.6810101391046333,-0.03328586583397761,null,0.38021692018379816,0.013679690044063213,null,0.7176812587446055,0.04590185140405117,null,-0.2694039848652039,0.013679690044063213,null,-0.3241723306523478,0.013679690044063213,null,0.5734021577763865,0.023720184155096954,null,-0.6205054324920919,-0.03328586583397761,null,-0.09644103745081545,-0.6205054324920919,null,-0.09644103745081545,-0.611325769136984,null,-0.09644103745081545,0.6016759547393574,null,-0.09644103745081545,-0.43061543610131586,null,-0.09644103745081545,0.5719712591514329,null,-0.09644103745081545,-0.02509617207044424,null,-0.09644103745081545,0.12604122947999152,null,-0.09644103745081545,-0.21913523464303047,null,-0.09644103745081545,-0.3282458193640657,null,-0.09644103745081545,-0.03129883080728849,null,0.7308605512543351,0.07978224563945781,null,-0.4149475838801497,-0.0163228077487667,null,-0.03922908804480121,-0.0163228077487667,null,-0.611325769136984,-0.0163228077487667,null,0.18670888411772105,0.023720184155096954,null,0.6016759547393574,0.04590185140405117,null,0.2696300282271488,0.013679690044063213,null,0.08404456589038302,-0.0163228077487667,null,-0.43061543610131586,-0.03328586583397761,null,-0.701623523367396,-0.03328586583397761,null,0.2810917535304852,0.023720184155096954,null,-0.5911147340456285,-0.0163228077487667,null,0.5719712591514329,0.04590185140405117,null,0.3265041082554142,0.023720184155096954,null,-0.37119003354280994,0.013679690044063213,null,-0.1319034329571375,-0.03328586583397761,null,-0.02509617207044424,-0.0163228077487667,null,0.4526737764465611,0.023720184155096954,null,0.5349308831246283,0.04590185140405117,null,-0.02732995228125559,0.023720184155096954,null,-0.0158830039664986,-0.03328586583397761,null,-1.0,-0.3830417097533171,null,-0.32098521590023127,-0.03328586583397761,null,-0.46088812598358736,0.013679690044063213,null,0.5856695818759852,0.04590185140405117,null,0.5431253720554557,0.07978224563945781,null,-0.3065989341085604,-0.0163228077487667,null,0.2772545784119116,0.013679690044063213,null,0.2642648714940632,0.04590185140405117,null,0.13278482050775747,0.04590185140405117,null,-0.009631643224441898,0.023720184155096954,null,-0.3957507257252354,-0.0163228077487667,null,-0.42476280908557074,0.013679690044063213,null,-0.14497992564720802,0.013679690044063213,null,-0.6472935692942713,-0.0163228077487667,null,-0.7110849160379297,-0.03328586583397761,null,0.42918662484629966,0.04590185140405117,null,0.11158310538587805,0.013679690044063213,null,0.3648985864917187,0.013679690044063213,null,-0.5352984451222923,-0.0163228077487667,null,0.6466661738218419,0.04590185140405117,null,-0.48968817305244466,-0.0163228077487667,null,-0.6129758709203608,-0.0163228077487667,null,-0.5115239986465963,0.013679690044063213,null,-0.5006355015713347,0.013679690044063213,null,0.34739258480657315,-0.0163228077487667,null,-0.27092897181337855,-0.03328586583397761,null,0.29876826904978643,-0.0163228077487667,null,-0.17763420741554647,-0.03328586583397761,null,0.6035279937239844,0.04590185140405117,null,0.42614828517551573,0.04590185140405117,null,0.4212871842512921,0.04590185140405117,null,-0.2989303881349569,0.013679690044063213,null,0.35611784895138815,-0.0163228077487667,null,-0.48767041071545875,0.013679690044063213,null,0.09929145127590303,-0.0163228077487667,null,0.21003777403987772,-0.0163228077487667,null,-0.5159740678560564,-0.0163228077487667,null,0.4887255956526623,0.04590185140405117,null,0.12604122947999152,0.013679690044063213,null,-0.2545636418972858,-0.0163228077487667,null,-0.21913523464303047,0.013679690044063213,null,0.16039079258882638,-0.0163228077487667,null,0.7106076475872104,0.04590185140405117,null,-0.3282458193640657,0.013679690044063213,null,-0.09972559314559587,0.04590185140405117,null,-0.03129883080728849,0.013679690044063213,null,0.48073187350109786,0.04590185140405117,null,-0.5482642338074312,0.013679690044063213,null,-0.45561648888375467,-0.0163228077487667,null,0.28667909101722683,-0.0163228077487667,null,-0.13418772273166563,0.04590185140405117,null,-0.4003507459564784,-0.0163228077487667,null],\"y\":[0.08399554158513725,0.018019444388710417,null,0.11603927687988846,0.08399554158513725,null,0.11603927687988846,0.6970307607492722,null,0.11603927687988846,0.6919964233291797,null,0.11603927687988846,0.007013193214005233,null,0.11603927687988846,0.06762558368064019,null,0.11603927687988846,0.10869608457759065,null,0.11603927687988846,0.24811317787118112,null,0.11603927687988846,-0.4755390548705876,null,0.11603927687988846,-0.6416998785776138,null,0.11603927687988846,0.405899746585063,null,0.11603927687988846,0.34399441177570433,null,0.018019444388710417,0.6062138327572447,null,0.018019444388710417,0.03818509205391607,null,0.018019444388710417,-0.5179322906107044,null,0.018019444388710417,0.26312763257304095,null,0.018019444388710417,-0.11645708646582965,null,0.018019444388710417,0.08832369859530045,null,0.018019444388710417,-0.549474268901542,null,0.018019444388710417,-0.6578710809050978,null,0.018019444388710417,-0.4562228523717375,null,0.018019444388710417,0.41671582867414136,null,0.018019444388710417,-0.4478108618795858,null,0.018019444388710417,-0.36351112881801717,null,0.018019444388710417,0.06762558368064019,null,0.018019444388710417,0.10869608457759065,null,0.018019444388710417,0.31005808364169796,null,0.018019444388710417,0.4736425318116372,null,0.018019444388710417,0.5476062477628607,null,0.018019444388710417,-0.25868140229480174,null,0.018019444388710417,0.35345412570284435,null,0.018019444388710417,0.16057075838861448,null,0.018019444388710417,-0.6940532743378532,null,0.018019444388710417,0.2436450672617701,null,0.018019444388710417,0.405899746585063,null,0.018019444388710417,0.34399441177570433,null,0.018019444388710417,0.4542984321971892,null,0.018019444388710417,-0.5744455194176843,null,0.018019444388710417,0.4606930837416393,null,-0.44840250806990145,-0.025245603521734494,null,-0.0018474768017356492,-0.44840250806990145,null,-0.0018474768017356492,-0.07676218193042644,null,-0.0018474768017356492,0.2904599985572698,null,-0.0018474768017356492,0.3308241956417713,null,-0.0018474768017356492,-0.6044748854967784,null,-0.0018474768017356492,0.7169075093824926,null,-0.0018474768017356492,-0.34666359665509605,null,-0.0018474768017356492,0.4646326282304058,null,-0.0018474768017356492,-0.18046098642364364,null,-0.0018474768017356492,-0.098724742603912,null,-0.0018474768017356492,0.21651398068830785,null,-0.0018474768017356492,-0.398534889959977,null,-0.0018474768017356492,0.19600102188072158,null,-0.0018474768017356492,-0.23197185965561498,null,-0.0018474768017356492,-0.5694093280847365,null,-0.0018474768017356492,-0.3507240582241934,null,-0.0018474768017356492,-0.5179322906107044,null,-0.0018474768017356492,0.5792622709934139,null,-0.0018474768017356492,-0.11645708646582965,null,-0.0018474768017356492,-0.549474268901542,null,-0.0018474768017356492,-0.6578710809050978,null,-0.0018474768017356492,-0.4078556448919746,null,-0.0018474768017356492,-0.2590661984308888,null,-0.0018474768017356492,-0.035382352959524806,null,-0.0018474768017356492,0.5101603511912434,null,-0.0018474768017356492,0.16968637286819918,null,-0.0018474768017356492,0.6727415178750377,null,-0.0018474768017356492,0.31005808364169796,null,-0.0018474768017356492,0.5993863961578112,null,-0.0018474768017356492,0.4736425318116372,null,-0.0018474768017356492,-0.12952124031441864,null,-0.0018474768017356492,0.4542984321971892,null,-0.0018474768017356492,0.4606930837416393,null,0.0459037764713404,-0.44840250806990145,null,0.0459037764713404,-0.6044748854967784,null,0.0459037764713404,0.6040496232154208,null,0.0459037764713404,0.5975064186127997,null,0.0459037764713404,-0.29433246202590024,null,0.0459037764713404,-0.6273135872698893,null,0.0459037764713404,0.6970307607492722,null,0.0459037764713404,0.41387808433655876,null,0.0459037764713404,-0.3507240582241934,null,0.0459037764713404,0.3507991784784917,null,0.0459037764713404,0.6919964233291797,null,0.0459037764713404,0.26312763257304095,null,0.0459037764713404,0.5792622709934139,null,0.0459037764713404,0.08832369859530045,null,0.0459037764713404,-0.7132299752276077,null,0.0459037764713404,-0.2590661984308888,null,0.0459037764713404,-0.24472742442872747,null,0.0459037764713404,0.16968637286819918,null,0.0459037764713404,-0.018689623522711273,null,0.0459037764713404,0.012697749192237312,null,0.0459037764713404,0.5476062477628607,null,0.0459037764713404,-0.6416998785776138,null,0.0459037764713404,0.34399441177570433,null,0.0459037764713404,0.4542984321971892,null,-0.025245603521734494,-0.07676218193042644,null,-0.025245603521734494,0.4646326282304058,null,-0.025245603521734494,-0.18046098642364364,null,-0.025245603521734494,0.27561081869307763,null,-0.025245603521734494,0.5562876712983355,null,-0.025245603521734494,-0.6327656402961079,null,-0.025245603521734494,-0.2880264061357731,null,-0.025245603521734494,0.6040496232154208,null,-0.025245603521734494,-0.15282602236778497,null,-0.025245603521734494,-0.4432579977377343,null,-0.025245603521734494,-0.09263190890957738,null,-0.025245603521734494,-0.6273135872698893,null,-0.025245603521734494,-0.2713632148109745,null,-0.025245603521734494,0.5993863961578112,null,-0.025245603521734494,-0.018689623522711273,null,-0.025245603521734494,-0.4489997200659845,null,-0.025245603521734494,-0.5526892980814342,null,-0.025245603521734494,0.5111112754843926,null,-0.025245603521734494,0.35345412570284435,null,-0.025245603521734494,0.16057075838861448,null,-0.025245603521734494,-0.5744455194176843,null,-0.025245603521734494,0.4606930837416393,null,-0.07676218193042644,0.0459037764713404,null,0.2904599985572698,0.004755676664292458,null,0.007677688362205279,0.2904599985572698,null,0.007677688362205279,-0.34666359665509605,null,0.007677688362205279,-0.2880264061357731,null,0.007677688362205279,-0.15282602236778497,null,0.007677688362205279,-0.4432579977377343,null,0.007677688362205279,-0.3507240582241934,null,0.007677688362205279,0.3507991784784917,null,0.007677688362205279,-0.5179322906107044,null,0.007677688362205279,0.6919964233291797,null,0.007677688362205279,0.26312763257304095,null,0.007677688362205279,0.5792622709934139,null,0.007677688362205279,-0.11645708646582965,null,0.007677688362205279,0.08832369859530045,null,0.007677688362205279,-0.549474268901542,null,0.007677688362205279,-0.5647821213547811,null,0.007677688362205279,-0.4078556448919746,null,0.007677688362205279,-0.035382352959524806,null,0.007677688362205279,0.41671582867414136,null,0.007677688362205279,-0.4478108618795858,null,0.007677688362205279,-0.19738060981480815,null,0.007677688362205279,0.5101603511912434,null,0.007677688362205279,0.6727415178750377,null,0.007677688362205279,0.5993863961578112,null,0.007677688362205279,-0.4489997200659845,null,0.007677688362205279,0.4235077104708696,null,0.007677688362205279,0.24811317787118112,null,0.007677688362205279,-0.33588896954414943,null,0.007677688362205279,0.2436450672617701,null,0.007677688362205279,0.405899746585063,null,0.007677688362205279,-0.5744455194176843,null,0.004755676664292458,0.3308241956417713,null,0.004755676664292458,0.7169075093824926,null,0.004755676664292458,-0.098724742603912,null,0.004755676664292458,0.21651398068830785,null,0.004755676664292458,-0.09263190890957738,null,0.004755676664292458,-0.2713632148109745,null,0.004755676664292458,0.3507991784784917,null,0.004755676664292458,-0.557910667180773,null,0.004755676664292458,0.6685052556952068,null,0.004755676664292458,-0.5647821213547811,null,0.004755676664292458,-0.7132299752276077,null,0.004755676664292458,-0.12187581874438404,null,0.004755676664292458,-0.36351112881801717,null,0.004755676664292458,0.5101603511912434,null,0.004755676664292458,0.16968637286819918,null,0.004755676664292458,0.6727415178750377,null,0.004755676664292458,0.31005808364169796,null,0.004755676664292458,-0.5526892980814342,null,0.004755676664292458,0.4235077104708696,null,0.004755676664292458,0.012697749192237312,null,0.004755676664292458,-0.6940532743378532,null,0.004755676664292458,0.2436450672617701,null,0.3308241956417713,0.007677688362205279,null,-0.6044748854967784,0.004755676664292458,null,0.7169075093824926,0.0459037764713404,null,-0.34666359665509605,-0.025245603521734494,null,0.4646326282304058,0.007677688362205279,null,-0.18046098642364364,0.004755676664292458,null,-0.098724742603912,-0.025245603521734494,null,0.21651398068830785,0.018019444388710417,null,0.6062138327572447,0.0459037764713404,null,0.03818509205391607,-0.0018474768017356492,null,-0.398534889959977,0.0459037764713404,null,0.27561081869307763,0.0459037764713404,null,0.19600102188072158,0.004755676664292458,null,-0.369427330372601,0.018019444388710417,null,0.0422932482760646,-0.369427330372601,null,0.0422932482760646,0.2952748404472383,null,0.0422932482760646,0.42056001016843225,null,0.0422932482760646,0.5975064186127997,null,0.0422932482760646,-0.29433246202590024,null,0.0422932482760646,0.41387808433655876,null,0.0422932482760646,-0.33508827776462563,null,0.0422932482760646,-0.25868140229480174,null,0.0422932482760646,-0.12952124031441864,null,0.0422932482760646,-0.33588896954414943,null,-0.23197185965561498,-0.025245603521734494,null,-0.5694093280847365,0.007677688362205279,null,0.5562876712983355,0.007677688362205279,null,0.2952748404472383,0.007677688362205279,null,-0.6327656402961079,0.004755676664292458,null,0.42056001016843225,-0.0018474768017356492,null,-0.2880264061357731,0.0459037764713404,null,0.6040496232154208,0.007677688362205279,null,0.5975064186127997,0.018019444388710417,null,-0.15282602236778497,0.018019444388710417,null,-0.4432579977377343,0.004755676664292458,null,-0.09263190890957738,0.007677688362205279,null,-0.29433246202590024,-0.0018474768017356492,null,-0.6273135872698893,0.004755676664292458,null,-0.2713632148109745,0.0459037764713404,null,0.6970307607492722,0.018019444388710417,null,0.41387808433655876,0.007677688362205279,null,-0.3507240582241934,0.004755676664292458,null,0.3507991784784917,-0.0018474768017356492,null,-0.5179322906107044,0.004755676664292458,null,0.6919964233291797,0.018019444388710417,null,0.26312763257304095,0.11603927687988846,null,0.5792622709934139,0.018019444388710417,null,-0.11645708646582965,0.0459037764713404,null,0.08832369859530045,-0.0018474768017356492,null,-0.549474268901542,-0.025245603521734494,null,-0.557910667180773,0.007677688362205279,null,0.6685052556952068,0.0459037764713404,null,-0.5647821213547811,-0.0018474768017356492,null,-0.7132299752276077,-0.0018474768017356492,null,-0.6578710809050978,0.004755676664292458,null,-0.4562228523717375,0.007677688362205279,null,0.007013193214005233,0.0459037764713404,null,-0.4078556448919746,0.0459037764713404,null,-0.2590661984308888,0.007677688362205279,null,-0.035382352959524806,0.018019444388710417,null,0.41671582867414136,-0.0018474768017356492,null,-0.4478108618795858,0.0459037764713404,null,-0.19738060981480815,0.0459037764713404,null,-0.24472742442872747,0.007677688362205279,null,-0.12187581874438404,-0.0018474768017356492,null,-0.36351112881801717,0.007677688362205279,null,0.06762558368064019,0.007677688362205279,null,0.10869608457759065,0.0459037764713404,null,0.5101603511912434,0.0459037764713404,null,0.16968637286819918,0.007677688362205279,null,0.6727415178750377,0.018019444388710417,null,0.31005808364169796,0.007677688362205279,null,0.5993863961578112,0.018019444388710417,null,-0.018689623522711273,-0.0018474768017356492,null,-0.4489997200659845,-0.0018474768017356492,null,-0.5526892980814342,-0.0018474768017356492,null,0.4235077104708696,0.0459037764713404,null,0.012697749192237312,0.007677688362205279,null,0.24811317787118112,0.0459037764713404,null,0.4736425318116372,0.007677688362205279,null,0.5476062477628607,0.007677688362205279,null,-0.4755390548705876,0.007677688362205279,null,0.5111112754843926,-0.0018474768017356492,null,-0.33508827776462563,0.0459037764713404,null,-0.6416998785776138,0.007677688362205279,null,-0.25868140229480174,0.0459037764713404,null,0.35345412570284435,0.007677688362205279,null,0.16057075838861448,-0.0018474768017356492,null,-0.12952124031441864,0.0459037764713404,null,-0.6940532743378532,-0.0018474768017356492,null,-0.33588896954414943,0.0459037764713404,null,0.2436450672617701,-0.0018474768017356492,null,0.405899746585063,0.0459037764713404,null,0.34399441177570433,0.007677688362205279,null,0.4542984321971892,0.007677688362205279,null,-0.5744455194176843,-0.0018474768017356492,null,0.4606930837416393,0.007677688362205279,null],\"type\":\"scatter\"},{\"hoverinfo\":\"text\",\"marker\":{\"color\":[],\"colorbar\":{\"thickness\":15,\"title\":{\"side\":\"right\",\"text\":\"Node Connections\"},\"xanchor\":\"left\"},\"colorscale\":[[0.0,\"rgb(255,255,217)\"],[0.125,\"rgb(237,248,177)\"],[0.25,\"rgb(199,233,180)\"],[0.375,\"rgb(127,205,187)\"],[0.5,\"rgb(65,182,196)\"],[0.625,\"rgb(29,145,192)\"],[0.75,\"rgb(34,94,168)\"],[0.875,\"rgb(37,52,148)\"],[1.0,\"rgb(8,29,88)\"]],\"line\":{\"width\":2},\"reversescale\":true,\"showscale\":true,\"size\":10},\"mode\":\"markers\",\"text\":[\"0\",\"\\u0411\\u0440\\u044e\\u043a\\u0438\",\"\\u0421\\u0443\\u043c\\u043a\\u0430\",\"1\",\"\\u041a\\u0443\\u0440\\u0442\\u043a\\u0430\",\"\\u0414\\u0436\\u0438\\u043d\\u0441\\u044b\",\"\\u041a\\u0440\\u043e\\u0441\\u0441\\u043e\\u0432\\u043a\\u0438\",\"2\",\"3\",\"\\u0424\\u0443\\u0442\\u0431\\u043e\\u043b\\u043a\\u0430\",\"\\u0420\\u0443\\u0431\\u0430\\u0448\\u043a\\u0430\",\"4\",\"5\",\"6\",\"7\",\"8\",\"9\",\"10\",\"11\",\"12\",\"13\",\"14\",\"15\",\"16\",\"17\",\"\\u0428\\u0430\\u043f\\u043a\\u0430\",\"18\",\"19\",\"20\",\"21\",\"22\",\"23\",\"24\",\"25\",\"26\",\"27\",\"28\",\"29\",\"30\",\"31\",\"32\",\"33\",\"34\",\"35\",\"36\",\"37\",\"38\",\"39\",\"40\",\"41\",\"42\",\"43\",\"44\",\"45\",\"46\",\"47\",\"48\",\"49\",\"50\",\"51\",\"52\",\"53\",\"54\",\"55\",\"56\",\"57\",\"58\",\"59\",\"60\",\"61\",\"62\",\"63\",\"64\",\"65\",\"66\",\"67\",\"68\",\"69\",\"70\",\"71\",\"72\",\"73\",\"74\",\"75\",\"76\",\"77\",\"78\",\"79\",\"80\",\"81\",\"82\",\"83\",\"84\",\"85\",\"86\",\"87\",\"88\",\"89\",\"90\"],\"x\":[-0.7204712687776405,-0.3830417097533171,-0.03328586583397761,0.6149026204901358,0.04590185140405117,0.013679690044063213,0.07978224563945781,0.4445895409848409,0.6432733489081224,-0.0163228077487667,0.023720184155096954,-0.17967053275078826,0.07333592845002734,0.15312714790552537,0.6882514320151591,-0.1753734030319501,0.5217945807810049,0.7696494451360274,-0.6810101391046333,0.38021692018379816,0.7176812587446055,-0.2694039848652039,-0.3241723306523478,0.5734021577763865,-0.6205054324920919,-0.09644103745081545,0.7308605512543351,-0.4149475838801497,-0.03922908804480121,-0.611325769136984,0.18670888411772105,0.6016759547393574,0.2696300282271488,0.08404456589038302,-0.43061543610131586,-0.701623523367396,0.2810917535304852,-0.5911147340456285,0.5719712591514329,0.3265041082554142,-0.37119003354280994,-0.1319034329571375,-0.02509617207044424,0.4526737764465611,0.5349308831246283,-0.02732995228125559,-0.0158830039664986,-1.0,-0.32098521590023127,-0.46088812598358736,0.5856695818759852,0.5431253720554557,-0.3065989341085604,0.2772545784119116,0.2642648714940632,0.13278482050775747,-0.009631643224441898,-0.3957507257252354,-0.42476280908557074,-0.14497992564720802,-0.6472935692942713,-0.7110849160379297,0.42918662484629966,0.11158310538587805,0.3648985864917187,-0.5352984451222923,0.6466661738218419,-0.48968817305244466,-0.6129758709203608,-0.5115239986465963,-0.5006355015713347,0.34739258480657315,-0.27092897181337855,0.29876826904978643,-0.17763420741554647,0.6035279937239844,0.42614828517551573,0.4212871842512921,-0.2989303881349569,0.35611784895138815,-0.48767041071545875,0.09929145127590303,0.21003777403987772,-0.5159740678560564,0.4887255956526623,0.12604122947999152,-0.2545636418972858,-0.21913523464303047,0.16039079258882638,0.7106076475872104,-0.3282458193640657,-0.09972559314559587,-0.03129883080728849,0.48073187350109786,-0.5482642338074312,-0.45561648888375467,0.28667909101722683,-0.13418772273166563,-0.4003507459564784],\"y\":[0.08399554158513725,0.11603927687988846,0.018019444388710417,-0.44840250806990145,-0.0018474768017356492,0.0459037764713404,-0.025245603521734494,-0.07676218193042644,0.2904599985572698,0.007677688362205279,0.004755676664292458,0.3308241956417713,-0.6044748854967784,0.7169075093824926,-0.34666359665509605,0.4646326282304058,-0.18046098642364364,-0.098724742603912,0.21651398068830785,0.6062138327572447,0.03818509205391607,-0.398534889959977,0.27561081869307763,0.19600102188072158,-0.369427330372601,0.0422932482760646,-0.23197185965561498,-0.5694093280847365,0.5562876712983355,0.2952748404472383,-0.6327656402961079,0.42056001016843225,-0.2880264061357731,0.6040496232154208,0.5975064186127997,-0.15282602236778497,-0.4432579977377343,-0.09263190890957738,-0.29433246202590024,-0.6273135872698893,-0.2713632148109745,0.6970307607492722,0.41387808433655876,-0.3507240582241934,0.3507991784784917,-0.5179322906107044,0.6919964233291797,0.26312763257304095,0.5792622709934139,-0.11645708646582965,0.08832369859530045,-0.549474268901542,-0.557910667180773,0.6685052556952068,-0.5647821213547811,-0.7132299752276077,-0.6578710809050978,-0.4562228523717375,0.007013193214005233,-0.4078556448919746,-0.2590661984308888,-0.035382352959524806,0.41671582867414136,-0.4478108618795858,-0.19738060981480815,-0.24472742442872747,-0.12187581874438404,-0.36351112881801717,0.06762558368064019,0.10869608457759065,0.5101603511912434,0.16968637286819918,0.6727415178750377,0.31005808364169796,0.5993863961578112,-0.018689623522711273,-0.4489997200659845,-0.5526892980814342,0.4235077104708696,0.012697749192237312,0.24811317787118112,0.4736425318116372,0.5476062477628607,-0.4755390548705876,0.5111112754843926,-0.33508827776462563,-0.6416998785776138,-0.25868140229480174,0.35345412570284435,0.16057075838861448,-0.12952124031441864,-0.6940532743378532,-0.33588896954414943,0.2436450672617701,0.405899746585063,0.34399441177570433,0.4542984321971892,-0.5744455194176843,0.4606930837416393],\"type\":\"scatter\"}],                        {\"annotations\":[{\"showarrow\":false,\"text\":\"Python code: \\u003ca href='https:\\u002f\\u002fplotly.com\\u002fipython-notebooks\\u002fnetwork-graphs\\u002f'\\u003e https:\\u002f\\u002fplotly.com\\u002fipython-notebooks\\u002fnetwork-graphs\\u002f\\u003c\\u002fa\\u003e\",\"x\":0.005,\"xref\":\"paper\",\"y\":-0.002,\"yref\":\"paper\"}],\"hovermode\":\"closest\",\"margin\":{\"b\":20,\"l\":5,\"r\":5,\"t\":40},\"showlegend\":false,\"title\":{\"font\":{\"size\":16},\"text\":\"\\u003cbr\\u003eNetwork graph made with Python\"},\"xaxis\":{\"showgrid\":false,\"showticklabels\":false,\"zeroline\":false},\"yaxis\":{\"showgrid\":false,\"showticklabels\":false,\"zeroline\":false},\"template\":{\"data\":{\"histogram2dcontour\":[{\"type\":\"histogram2dcontour\",\"colorbar\":{\"outlinewidth\":0,\"ticks\":\"\"},\"colorscale\":[[0.0,\"#0d0887\"],[0.1111111111111111,\"#46039f\"],[0.2222222222222222,\"#7201a8\"],[0.3333333333333333,\"#9c179e\"],[0.4444444444444444,\"#bd3786\"],[0.5555555555555556,\"#d8576b\"],[0.6666666666666666,\"#ed7953\"],[0.7777777777777778,\"#fb9f3a\"],[0.8888888888888888,\"#fdca26\"],[1.0,\"#f0f921\"]]}],\"choropleth\":[{\"type\":\"choropleth\",\"colorbar\":{\"outlinewidth\":0,\"ticks\":\"\"}}],\"histogram2d\":[{\"type\":\"histogram2d\",\"colorbar\":{\"outlinewidth\":0,\"ticks\":\"\"},\"colorscale\":[[0.0,\"#0d0887\"],[0.1111111111111111,\"#46039f\"],[0.2222222222222222,\"#7201a8\"],[0.3333333333333333,\"#9c179e\"],[0.4444444444444444,\"#bd3786\"],[0.5555555555555556,\"#d8576b\"],[0.6666666666666666,\"#ed7953\"],[0.7777777777777778,\"#fb9f3a\"],[0.8888888888888888,\"#fdca26\"],[1.0,\"#f0f921\"]]}],\"heatmap\":[{\"type\":\"heatmap\",\"colorbar\":{\"outlinewidth\":0,\"ticks\":\"\"},\"colorscale\":[[0.0,\"#0d0887\"],[0.1111111111111111,\"#46039f\"],[0.2222222222222222,\"#7201a8\"],[0.3333333333333333,\"#9c179e\"],[0.4444444444444444,\"#bd3786\"],[0.5555555555555556,\"#d8576b\"],[0.6666666666666666,\"#ed7953\"],[0.7777777777777778,\"#fb9f3a\"],[0.8888888888888888,\"#fdca26\"],[1.0,\"#f0f921\"]]}],\"heatmapgl\":[{\"type\":\"heatmapgl\",\"colorbar\":{\"outlinewidth\":0,\"ticks\":\"\"},\"colorscale\":[[0.0,\"#0d0887\"],[0.1111111111111111,\"#46039f\"],[0.2222222222222222,\"#7201a8\"],[0.3333333333333333,\"#9c179e\"],[0.4444444444444444,\"#bd3786\"],[0.5555555555555556,\"#d8576b\"],[0.6666666666666666,\"#ed7953\"],[0.7777777777777778,\"#fb9f3a\"],[0.8888888888888888,\"#fdca26\"],[1.0,\"#f0f921\"]]}],\"contourcarpet\":[{\"type\":\"contourcarpet\",\"colorbar\":{\"outlinewidth\":0,\"ticks\":\"\"}}],\"contour\":[{\"type\":\"contour\",\"colorbar\":{\"outlinewidth\":0,\"ticks\":\"\"},\"colorscale\":[[0.0,\"#0d0887\"],[0.1111111111111111,\"#46039f\"],[0.2222222222222222,\"#7201a8\"],[0.3333333333333333,\"#9c179e\"],[0.4444444444444444,\"#bd3786\"],[0.5555555555555556,\"#d8576b\"],[0.6666666666666666,\"#ed7953\"],[0.7777777777777778,\"#fb9f3a\"],[0.8888888888888888,\"#fdca26\"],[1.0,\"#f0f921\"]]}],\"surface\":[{\"type\":\"surface\",\"colorbar\":{\"outlinewidth\":0,\"ticks\":\"\"},\"colorscale\":[[0.0,\"#0d0887\"],[0.1111111111111111,\"#46039f\"],[0.2222222222222222,\"#7201a8\"],[0.3333333333333333,\"#9c179e\"],[0.4444444444444444,\"#bd3786\"],[0.5555555555555556,\"#d8576b\"],[0.6666666666666666,\"#ed7953\"],[0.7777777777777778,\"#fb9f3a\"],[0.8888888888888888,\"#fdca26\"],[1.0,\"#f0f921\"]]}],\"mesh3d\":[{\"type\":\"mesh3d\",\"colorbar\":{\"outlinewidth\":0,\"ticks\":\"\"}}],\"scatter\":[{\"fillpattern\":{\"fillmode\":\"overlay\",\"size\":10,\"solidity\":0.2},\"type\":\"scatter\"}],\"parcoords\":[{\"type\":\"parcoords\",\"line\":{\"colorbar\":{\"outlinewidth\":0,\"ticks\":\"\"}}}],\"scatterpolargl\":[{\"type\":\"scatterpolargl\",\"marker\":{\"colorbar\":{\"outlinewidth\":0,\"ticks\":\"\"}}}],\"bar\":[{\"error_x\":{\"color\":\"#2a3f5f\"},\"error_y\":{\"color\":\"#2a3f5f\"},\"marker\":{\"line\":{\"color\":\"#E5ECF6\",\"width\":0.5},\"pattern\":{\"fillmode\":\"overlay\",\"size\":10,\"solidity\":0.2}},\"type\":\"bar\"}],\"scattergeo\":[{\"type\":\"scattergeo\",\"marker\":{\"colorbar\":{\"outlinewidth\":0,\"ticks\":\"\"}}}],\"scatterpolar\":[{\"type\":\"scatterpolar\",\"marker\":{\"colorbar\":{\"outlinewidth\":0,\"ticks\":\"\"}}}],\"histogram\":[{\"marker\":{\"pattern\":{\"fillmode\":\"overlay\",\"size\":10,\"solidity\":0.2}},\"type\":\"histogram\"}],\"scattergl\":[{\"type\":\"scattergl\",\"marker\":{\"colorbar\":{\"outlinewidth\":0,\"ticks\":\"\"}}}],\"scatter3d\":[{\"type\":\"scatter3d\",\"line\":{\"colorbar\":{\"outlinewidth\":0,\"ticks\":\"\"}},\"marker\":{\"colorbar\":{\"outlinewidth\":0,\"ticks\":\"\"}}}],\"scattermapbox\":[{\"type\":\"scattermapbox\",\"marker\":{\"colorbar\":{\"outlinewidth\":0,\"ticks\":\"\"}}}],\"scatterternary\":[{\"type\":\"scatterternary\",\"marker\":{\"colorbar\":{\"outlinewidth\":0,\"ticks\":\"\"}}}],\"scattercarpet\":[{\"type\":\"scattercarpet\",\"marker\":{\"colorbar\":{\"outlinewidth\":0,\"ticks\":\"\"}}}],\"carpet\":[{\"aaxis\":{\"endlinecolor\":\"#2a3f5f\",\"gridcolor\":\"white\",\"linecolor\":\"white\",\"minorgridcolor\":\"white\",\"startlinecolor\":\"#2a3f5f\"},\"baxis\":{\"endlinecolor\":\"#2a3f5f\",\"gridcolor\":\"white\",\"linecolor\":\"white\",\"minorgridcolor\":\"white\",\"startlinecolor\":\"#2a3f5f\"},\"type\":\"carpet\"}],\"table\":[{\"cells\":{\"fill\":{\"color\":\"#EBF0F8\"},\"line\":{\"color\":\"white\"}},\"header\":{\"fill\":{\"color\":\"#C8D4E3\"},\"line\":{\"color\":\"white\"}},\"type\":\"table\"}],\"barpolar\":[{\"marker\":{\"line\":{\"color\":\"#E5ECF6\",\"width\":0.5},\"pattern\":{\"fillmode\":\"overlay\",\"size\":10,\"solidity\":0.2}},\"type\":\"barpolar\"}],\"pie\":[{\"automargin\":true,\"type\":\"pie\"}]},\"layout\":{\"autotypenumbers\":\"strict\",\"colorway\":[\"#636efa\",\"#EF553B\",\"#00cc96\",\"#ab63fa\",\"#FFA15A\",\"#19d3f3\",\"#FF6692\",\"#B6E880\",\"#FF97FF\",\"#FECB52\"],\"font\":{\"color\":\"#2a3f5f\"},\"hovermode\":\"closest\",\"hoverlabel\":{\"align\":\"left\"},\"paper_bgcolor\":\"white\",\"plot_bgcolor\":\"#E5ECF6\",\"polar\":{\"bgcolor\":\"#E5ECF6\",\"angularaxis\":{\"gridcolor\":\"white\",\"linecolor\":\"white\",\"ticks\":\"\"},\"radialaxis\":{\"gridcolor\":\"white\",\"linecolor\":\"white\",\"ticks\":\"\"}},\"ternary\":{\"bgcolor\":\"#E5ECF6\",\"aaxis\":{\"gridcolor\":\"white\",\"linecolor\":\"white\",\"ticks\":\"\"},\"baxis\":{\"gridcolor\":\"white\",\"linecolor\":\"white\",\"ticks\":\"\"},\"caxis\":{\"gridcolor\":\"white\",\"linecolor\":\"white\",\"ticks\":\"\"}},\"coloraxis\":{\"colorbar\":{\"outlinewidth\":0,\"ticks\":\"\"}},\"colorscale\":{\"sequential\":[[0.0,\"#0d0887\"],[0.1111111111111111,\"#46039f\"],[0.2222222222222222,\"#7201a8\"],[0.3333333333333333,\"#9c179e\"],[0.4444444444444444,\"#bd3786\"],[0.5555555555555556,\"#d8576b\"],[0.6666666666666666,\"#ed7953\"],[0.7777777777777778,\"#fb9f3a\"],[0.8888888888888888,\"#fdca26\"],[1.0,\"#f0f921\"]],\"sequentialminus\":[[0.0,\"#0d0887\"],[0.1111111111111111,\"#46039f\"],[0.2222222222222222,\"#7201a8\"],[0.3333333333333333,\"#9c179e\"],[0.4444444444444444,\"#bd3786\"],[0.5555555555555556,\"#d8576b\"],[0.6666666666666666,\"#ed7953\"],[0.7777777777777778,\"#fb9f3a\"],[0.8888888888888888,\"#fdca26\"],[1.0,\"#f0f921\"]],\"diverging\":[[0,\"#8e0152\"],[0.1,\"#c51b7d\"],[0.2,\"#de77ae\"],[0.3,\"#f1b6da\"],[0.4,\"#fde0ef\"],[0.5,\"#f7f7f7\"],[0.6,\"#e6f5d0\"],[0.7,\"#b8e186\"],[0.8,\"#7fbc41\"],[0.9,\"#4d9221\"],[1,\"#276419\"]]},\"xaxis\":{\"gridcolor\":\"white\",\"linecolor\":\"white\",\"ticks\":\"\",\"title\":{\"standoff\":15},\"zerolinecolor\":\"white\",\"automargin\":true,\"zerolinewidth\":2},\"yaxis\":{\"gridcolor\":\"white\",\"linecolor\":\"white\",\"ticks\":\"\",\"title\":{\"standoff\":15},\"zerolinecolor\":\"white\",\"automargin\":true,\"zerolinewidth\":2},\"scene\":{\"xaxis\":{\"backgroundcolor\":\"#E5ECF6\",\"gridcolor\":\"white\",\"linecolor\":\"white\",\"showbackground\":true,\"ticks\":\"\",\"zerolinecolor\":\"white\",\"gridwidth\":2},\"yaxis\":{\"backgroundcolor\":\"#E5ECF6\",\"gridcolor\":\"white\",\"linecolor\":\"white\",\"showbackground\":true,\"ticks\":\"\",\"zerolinecolor\":\"white\",\"gridwidth\":2},\"zaxis\":{\"backgroundcolor\":\"#E5ECF6\",\"gridcolor\":\"white\",\"linecolor\":\"white\",\"showbackground\":true,\"ticks\":\"\",\"zerolinecolor\":\"white\",\"gridwidth\":2}},\"shapedefaults\":{\"line\":{\"color\":\"#2a3f5f\"}},\"annotationdefaults\":{\"arrowcolor\":\"#2a3f5f\",\"arrowhead\":0,\"arrowwidth\":1},\"geo\":{\"bgcolor\":\"white\",\"landcolor\":\"#E5ECF6\",\"subunitcolor\":\"white\",\"showland\":true,\"showlakes\":true,\"lakecolor\":\"white\"},\"title\":{\"x\":0.05},\"mapbox\":{\"style\":\"light\"}}}},                        {\"responsive\": true}                    ).then(function(){\n",
       "                            \n",
       "var gd = document.getElementById('173085c8-0a68-412d-bd93-df4e862be3a7');\n",
       "var x = new MutationObserver(function (mutations, observer) {{\n",
       "        var display = window.getComputedStyle(gd).display;\n",
       "        if (!display || display === 'none') {{\n",
       "            console.log([gd, 'removed!']);\n",
       "            Plotly.purge(gd);\n",
       "            observer.disconnect();\n",
       "        }}\n",
       "}});\n",
       "\n",
       "// Listen for the removal of the full notebook cells\n",
       "var notebookContainer = gd.closest('#notebook-container');\n",
       "if (notebookContainer) {{\n",
       "    x.observe(notebookContainer, {childList: true});\n",
       "}}\n",
       "\n",
       "// Listen for the clearing of the current output cell\n",
       "var outputEl = gd.closest('.output');\n",
       "if (outputEl) {{\n",
       "    x.observe(outputEl, {childList: true});\n",
       "}}\n",
       "\n",
       "                        })                };                });            </script>        </div>"
      ]
     },
     "metadata": {},
     "output_type": "display_data",
     "jetTransient": {
      "display_id": null
     }
    }
   ],
   "execution_count": 117
  },
  {
   "metadata": {
    "ExecuteTime": {
     "end_time": "2025-09-26T06:51:09.969605Z",
     "start_time": "2025-09-26T06:51:09.926992Z"
    }
   },
   "cell_type": "code",
   "source": [
    "freqItemSet, rules = apriori(transactions, minSup=min_sup, minConf=0.8)\n",
    "rules = [rule for rule in rules if len(rule[1]) == 1]\n",
    "output_apriori(rules)"
   ],
   "id": "a2299e127f880a61",
   "outputs": [
    {
     "name": "stdout",
     "output_type": "stream",
     "text": [
      "0: {'Джинсы', 'Кроссовки'} -> {'Куртка'} Support = 0.250 Confidence = 0.833 Lift = 1.389\n",
      "1: {'Футболка', 'Кроссовки'} -> {'Куртка'} Support = 0.250 Confidence = 0.833 Lift = 1.389\n",
      "2: {'Рубашка', 'Кроссовки'} -> {'Куртка'} Support = 0.250 Confidence = 0.833 Lift = 1.389\n",
      "3: {'Футболка', 'Рубашка'} -> {'Джинсы'} Support = 0.300 Confidence = 0.857 Lift = 1.224\n",
      "4: {'Джинсы', 'Рубашка'} -> {'Футболка'} Support = 0.300 Confidence = 0.857 Lift = 1.224\n",
      "5: {'Футболка', 'Брюки'} -> {'Джинсы'} Support = 0.300 Confidence = 0.857 Lift = 1.224\n",
      "6: {'Куртка', 'Сумка'} -> {'Футболка'} Support = 0.300 Confidence = 0.857 Lift = 1.224\n",
      "7: {'Джинсы', 'Сумка'} -> {'Футболка'} Support = 0.300 Confidence = 0.857 Lift = 1.224\n",
      "8: {'Брюки'} -> {'Футболка'} Support = 0.350 Confidence = 0.875 Lift = 1.250\n",
      "9: {'Кроссовки'} -> {'Куртка'} Support = 0.400 Confidence = 0.889 Lift = 1.481\n",
      "10: {'Шапка'} -> {'Джинсы'} Support = 0.300 Confidence = 1.000 Lift = 1.429\n",
      "11: {'Джинсы', 'Брюки'} -> {'Футболка'} Support = 0.300 Confidence = 1.000 Lift = 1.429\n",
      "12: {'Сумка', 'Шапка'} -> {'Джинсы'} Support = 0.200 Confidence = 1.000 Lift = 1.429\n",
      "13: {'Сумка', 'Кроссовки'} -> {'Футболка'} Support = 0.200 Confidence = 1.000 Lift = 1.429\n",
      "14: {'Сумка', 'Кроссовки'} -> {'Куртка'} Support = 0.200 Confidence = 1.000 Lift = 1.667\n",
      "15: {'Куртка', 'Шапка'} -> {'Джинсы'} Support = 0.200 Confidence = 1.000 Lift = 1.429\n",
      "16: {'Рубашка', 'Сумка'} -> {'Куртка'} Support = 0.250 Confidence = 1.000 Lift = 1.667\n",
      "17: {'Футболка', 'Шапка'} -> {'Джинсы'} Support = 0.200 Confidence = 1.000 Lift = 1.429\n",
      "18: {'Футболка', 'Рубашка', 'Сумка'} -> {'Куртка'} Support = 0.200 Confidence = 1.000 Lift = 1.667\n",
      "19: {'Футболка', 'Брюки', 'Сумка'} -> {'Джинсы'} Support = 0.200 Confidence = 1.000 Lift = 1.429\n",
      "20: {'Джинсы', 'Брюки', 'Сумка'} -> {'Футболка'} Support = 0.200 Confidence = 1.000 Lift = 1.429\n",
      "21: {'Куртка', 'Джинсы', 'Сумка'} -> {'Футболка'} Support = 0.200 Confidence = 1.000 Lift = 1.429\n",
      "22: {'Футболка', 'Сумка', 'Кроссовки'} -> {'Куртка'} Support = 0.200 Confidence = 1.000 Lift = 1.667\n",
      "23: {'Куртка', 'Сумка', 'Кроссовки'} -> {'Футболка'} Support = 0.200 Confidence = 1.000 Lift = 1.429\n"
     ]
    },
    {
     "data": {
      "application/vnd.plotly.v1+json": {
       "data": [
        {
         "marker": {
          "color": [
           1.2499999999999998,
           1.4814814814814814,
           1.4285714285714286
          ],
          "colorbar": {
           "title": {
            "text": "Lift"
           }
          },
          "colorscale": [
           [
            0.0,
            "rgb(243, 224, 247)"
           ],
           [
            0.16666666666666666,
            "rgb(228, 199, 241)"
           ],
           [
            0.3333333333333333,
            "rgb(209, 175, 232)"
           ],
           [
            0.5,
            "rgb(185, 152, 221)"
           ],
           [
            0.6666666666666666,
            "rgb(159, 130, 206)"
           ],
           [
            0.8333333333333334,
            "rgb(130, 109, 186)"
           ],
           [
            1.0,
            "rgb(99, 88, 159)"
           ]
          ]
         },
         "mode": "markers",
         "text": [
          "('Брюки',) => ('Футболка',), Lift: 1.2499999999999998",
          "('Кроссовки',) => ('Куртка',), Lift: 1.4814814814814814",
          "('Шапка',) => ('Джинсы',), Lift: 1.4285714285714286"
         ],
         "x": [
          0.35,
          0.4,
          0.3
         ],
         "y": [
          0.875,
          0.8888888888888888,
          1.0
         ],
         "type": "scatter"
        }
       ],
       "layout": {
        "template": {
         "data": {
          "histogram2dcontour": [
           {
            "type": "histogram2dcontour",
            "colorbar": {
             "outlinewidth": 0,
             "ticks": ""
            },
            "colorscale": [
             [
              0.0,
              "#0d0887"
             ],
             [
              0.1111111111111111,
              "#46039f"
             ],
             [
              0.2222222222222222,
              "#7201a8"
             ],
             [
              0.3333333333333333,
              "#9c179e"
             ],
             [
              0.4444444444444444,
              "#bd3786"
             ],
             [
              0.5555555555555556,
              "#d8576b"
             ],
             [
              0.6666666666666666,
              "#ed7953"
             ],
             [
              0.7777777777777778,
              "#fb9f3a"
             ],
             [
              0.8888888888888888,
              "#fdca26"
             ],
             [
              1.0,
              "#f0f921"
             ]
            ]
           }
          ],
          "choropleth": [
           {
            "type": "choropleth",
            "colorbar": {
             "outlinewidth": 0,
             "ticks": ""
            }
           }
          ],
          "histogram2d": [
           {
            "type": "histogram2d",
            "colorbar": {
             "outlinewidth": 0,
             "ticks": ""
            },
            "colorscale": [
             [
              0.0,
              "#0d0887"
             ],
             [
              0.1111111111111111,
              "#46039f"
             ],
             [
              0.2222222222222222,
              "#7201a8"
             ],
             [
              0.3333333333333333,
              "#9c179e"
             ],
             [
              0.4444444444444444,
              "#bd3786"
             ],
             [
              0.5555555555555556,
              "#d8576b"
             ],
             [
              0.6666666666666666,
              "#ed7953"
             ],
             [
              0.7777777777777778,
              "#fb9f3a"
             ],
             [
              0.8888888888888888,
              "#fdca26"
             ],
             [
              1.0,
              "#f0f921"
             ]
            ]
           }
          ],
          "heatmap": [
           {
            "type": "heatmap",
            "colorbar": {
             "outlinewidth": 0,
             "ticks": ""
            },
            "colorscale": [
             [
              0.0,
              "#0d0887"
             ],
             [
              0.1111111111111111,
              "#46039f"
             ],
             [
              0.2222222222222222,
              "#7201a8"
             ],
             [
              0.3333333333333333,
              "#9c179e"
             ],
             [
              0.4444444444444444,
              "#bd3786"
             ],
             [
              0.5555555555555556,
              "#d8576b"
             ],
             [
              0.6666666666666666,
              "#ed7953"
             ],
             [
              0.7777777777777778,
              "#fb9f3a"
             ],
             [
              0.8888888888888888,
              "#fdca26"
             ],
             [
              1.0,
              "#f0f921"
             ]
            ]
           }
          ],
          "heatmapgl": [
           {
            "type": "heatmapgl",
            "colorbar": {
             "outlinewidth": 0,
             "ticks": ""
            },
            "colorscale": [
             [
              0.0,
              "#0d0887"
             ],
             [
              0.1111111111111111,
              "#46039f"
             ],
             [
              0.2222222222222222,
              "#7201a8"
             ],
             [
              0.3333333333333333,
              "#9c179e"
             ],
             [
              0.4444444444444444,
              "#bd3786"
             ],
             [
              0.5555555555555556,
              "#d8576b"
             ],
             [
              0.6666666666666666,
              "#ed7953"
             ],
             [
              0.7777777777777778,
              "#fb9f3a"
             ],
             [
              0.8888888888888888,
              "#fdca26"
             ],
             [
              1.0,
              "#f0f921"
             ]
            ]
           }
          ],
          "contourcarpet": [
           {
            "type": "contourcarpet",
            "colorbar": {
             "outlinewidth": 0,
             "ticks": ""
            }
           }
          ],
          "contour": [
           {
            "type": "contour",
            "colorbar": {
             "outlinewidth": 0,
             "ticks": ""
            },
            "colorscale": [
             [
              0.0,
              "#0d0887"
             ],
             [
              0.1111111111111111,
              "#46039f"
             ],
             [
              0.2222222222222222,
              "#7201a8"
             ],
             [
              0.3333333333333333,
              "#9c179e"
             ],
             [
              0.4444444444444444,
              "#bd3786"
             ],
             [
              0.5555555555555556,
              "#d8576b"
             ],
             [
              0.6666666666666666,
              "#ed7953"
             ],
             [
              0.7777777777777778,
              "#fb9f3a"
             ],
             [
              0.8888888888888888,
              "#fdca26"
             ],
             [
              1.0,
              "#f0f921"
             ]
            ]
           }
          ],
          "surface": [
           {
            "type": "surface",
            "colorbar": {
             "outlinewidth": 0,
             "ticks": ""
            },
            "colorscale": [
             [
              0.0,
              "#0d0887"
             ],
             [
              0.1111111111111111,
              "#46039f"
             ],
             [
              0.2222222222222222,
              "#7201a8"
             ],
             [
              0.3333333333333333,
              "#9c179e"
             ],
             [
              0.4444444444444444,
              "#bd3786"
             ],
             [
              0.5555555555555556,
              "#d8576b"
             ],
             [
              0.6666666666666666,
              "#ed7953"
             ],
             [
              0.7777777777777778,
              "#fb9f3a"
             ],
             [
              0.8888888888888888,
              "#fdca26"
             ],
             [
              1.0,
              "#f0f921"
             ]
            ]
           }
          ],
          "mesh3d": [
           {
            "type": "mesh3d",
            "colorbar": {
             "outlinewidth": 0,
             "ticks": ""
            }
           }
          ],
          "scatter": [
           {
            "fillpattern": {
             "fillmode": "overlay",
             "size": 10,
             "solidity": 0.2
            },
            "type": "scatter"
           }
          ],
          "parcoords": [
           {
            "type": "parcoords",
            "line": {
             "colorbar": {
              "outlinewidth": 0,
              "ticks": ""
             }
            }
           }
          ],
          "scatterpolargl": [
           {
            "type": "scatterpolargl",
            "marker": {
             "colorbar": {
              "outlinewidth": 0,
              "ticks": ""
             }
            }
           }
          ],
          "bar": [
           {
            "error_x": {
             "color": "#2a3f5f"
            },
            "error_y": {
             "color": "#2a3f5f"
            },
            "marker": {
             "line": {
              "color": "#E5ECF6",
              "width": 0.5
             },
             "pattern": {
              "fillmode": "overlay",
              "size": 10,
              "solidity": 0.2
             }
            },
            "type": "bar"
           }
          ],
          "scattergeo": [
           {
            "type": "scattergeo",
            "marker": {
             "colorbar": {
              "outlinewidth": 0,
              "ticks": ""
             }
            }
           }
          ],
          "scatterpolar": [
           {
            "type": "scatterpolar",
            "marker": {
             "colorbar": {
              "outlinewidth": 0,
              "ticks": ""
             }
            }
           }
          ],
          "histogram": [
           {
            "marker": {
             "pattern": {
              "fillmode": "overlay",
              "size": 10,
              "solidity": 0.2
             }
            },
            "type": "histogram"
           }
          ],
          "scattergl": [
           {
            "type": "scattergl",
            "marker": {
             "colorbar": {
              "outlinewidth": 0,
              "ticks": ""
             }
            }
           }
          ],
          "scatter3d": [
           {
            "type": "scatter3d",
            "line": {
             "colorbar": {
              "outlinewidth": 0,
              "ticks": ""
             }
            },
            "marker": {
             "colorbar": {
              "outlinewidth": 0,
              "ticks": ""
             }
            }
           }
          ],
          "scattermapbox": [
           {
            "type": "scattermapbox",
            "marker": {
             "colorbar": {
              "outlinewidth": 0,
              "ticks": ""
             }
            }
           }
          ],
          "scatterternary": [
           {
            "type": "scatterternary",
            "marker": {
             "colorbar": {
              "outlinewidth": 0,
              "ticks": ""
             }
            }
           }
          ],
          "scattercarpet": [
           {
            "type": "scattercarpet",
            "marker": {
             "colorbar": {
              "outlinewidth": 0,
              "ticks": ""
             }
            }
           }
          ],
          "carpet": [
           {
            "aaxis": {
             "endlinecolor": "#2a3f5f",
             "gridcolor": "white",
             "linecolor": "white",
             "minorgridcolor": "white",
             "startlinecolor": "#2a3f5f"
            },
            "baxis": {
             "endlinecolor": "#2a3f5f",
             "gridcolor": "white",
             "linecolor": "white",
             "minorgridcolor": "white",
             "startlinecolor": "#2a3f5f"
            },
            "type": "carpet"
           }
          ],
          "table": [
           {
            "cells": {
             "fill": {
              "color": "#EBF0F8"
             },
             "line": {
              "color": "white"
             }
            },
            "header": {
             "fill": {
              "color": "#C8D4E3"
             },
             "line": {
              "color": "white"
             }
            },
            "type": "table"
           }
          ],
          "barpolar": [
           {
            "marker": {
             "line": {
              "color": "#E5ECF6",
              "width": 0.5
             },
             "pattern": {
              "fillmode": "overlay",
              "size": 10,
              "solidity": 0.2
             }
            },
            "type": "barpolar"
           }
          ],
          "pie": [
           {
            "automargin": true,
            "type": "pie"
           }
          ]
         },
         "layout": {
          "autotypenumbers": "strict",
          "colorway": [
           "#636efa",
           "#EF553B",
           "#00cc96",
           "#ab63fa",
           "#FFA15A",
           "#19d3f3",
           "#FF6692",
           "#B6E880",
           "#FF97FF",
           "#FECB52"
          ],
          "font": {
           "color": "#2a3f5f"
          },
          "hovermode": "closest",
          "hoverlabel": {
           "align": "left"
          },
          "paper_bgcolor": "white",
          "plot_bgcolor": "#E5ECF6",
          "polar": {
           "bgcolor": "#E5ECF6",
           "angularaxis": {
            "gridcolor": "white",
            "linecolor": "white",
            "ticks": ""
           },
           "radialaxis": {
            "gridcolor": "white",
            "linecolor": "white",
            "ticks": ""
           }
          },
          "ternary": {
           "bgcolor": "#E5ECF6",
           "aaxis": {
            "gridcolor": "white",
            "linecolor": "white",
            "ticks": ""
           },
           "baxis": {
            "gridcolor": "white",
            "linecolor": "white",
            "ticks": ""
           },
           "caxis": {
            "gridcolor": "white",
            "linecolor": "white",
            "ticks": ""
           }
          },
          "coloraxis": {
           "colorbar": {
            "outlinewidth": 0,
            "ticks": ""
           }
          },
          "colorscale": {
           "sequential": [
            [
             0.0,
             "#0d0887"
            ],
            [
             0.1111111111111111,
             "#46039f"
            ],
            [
             0.2222222222222222,
             "#7201a8"
            ],
            [
             0.3333333333333333,
             "#9c179e"
            ],
            [
             0.4444444444444444,
             "#bd3786"
            ],
            [
             0.5555555555555556,
             "#d8576b"
            ],
            [
             0.6666666666666666,
             "#ed7953"
            ],
            [
             0.7777777777777778,
             "#fb9f3a"
            ],
            [
             0.8888888888888888,
             "#fdca26"
            ],
            [
             1.0,
             "#f0f921"
            ]
           ],
           "sequentialminus": [
            [
             0.0,
             "#0d0887"
            ],
            [
             0.1111111111111111,
             "#46039f"
            ],
            [
             0.2222222222222222,
             "#7201a8"
            ],
            [
             0.3333333333333333,
             "#9c179e"
            ],
            [
             0.4444444444444444,
             "#bd3786"
            ],
            [
             0.5555555555555556,
             "#d8576b"
            ],
            [
             0.6666666666666666,
             "#ed7953"
            ],
            [
             0.7777777777777778,
             "#fb9f3a"
            ],
            [
             0.8888888888888888,
             "#fdca26"
            ],
            [
             1.0,
             "#f0f921"
            ]
           ],
           "diverging": [
            [
             0,
             "#8e0152"
            ],
            [
             0.1,
             "#c51b7d"
            ],
            [
             0.2,
             "#de77ae"
            ],
            [
             0.3,
             "#f1b6da"
            ],
            [
             0.4,
             "#fde0ef"
            ],
            [
             0.5,
             "#f7f7f7"
            ],
            [
             0.6,
             "#e6f5d0"
            ],
            [
             0.7,
             "#b8e186"
            ],
            [
             0.8,
             "#7fbc41"
            ],
            [
             0.9,
             "#4d9221"
            ],
            [
             1,
             "#276419"
            ]
           ]
          },
          "xaxis": {
           "gridcolor": "white",
           "linecolor": "white",
           "ticks": "",
           "title": {
            "standoff": 15
           },
           "zerolinecolor": "white",
           "automargin": true,
           "zerolinewidth": 2
          },
          "yaxis": {
           "gridcolor": "white",
           "linecolor": "white",
           "ticks": "",
           "title": {
            "standoff": 15
           },
           "zerolinecolor": "white",
           "automargin": true,
           "zerolinewidth": 2
          },
          "scene": {
           "xaxis": {
            "backgroundcolor": "#E5ECF6",
            "gridcolor": "white",
            "linecolor": "white",
            "showbackground": true,
            "ticks": "",
            "zerolinecolor": "white",
            "gridwidth": 2
           },
           "yaxis": {
            "backgroundcolor": "#E5ECF6",
            "gridcolor": "white",
            "linecolor": "white",
            "showbackground": true,
            "ticks": "",
            "zerolinecolor": "white",
            "gridwidth": 2
           },
           "zaxis": {
            "backgroundcolor": "#E5ECF6",
            "gridcolor": "white",
            "linecolor": "white",
            "showbackground": true,
            "ticks": "",
            "zerolinecolor": "white",
            "gridwidth": 2
           }
          },
          "shapedefaults": {
           "line": {
            "color": "#2a3f5f"
           }
          },
          "annotationdefaults": {
           "arrowcolor": "#2a3f5f",
           "arrowhead": 0,
           "arrowwidth": 1
          },
          "geo": {
           "bgcolor": "white",
           "landcolor": "#E5ECF6",
           "subunitcolor": "white",
           "showland": true,
           "showlakes": true,
           "lakecolor": "white"
          },
          "title": {
           "x": 0.05
          },
          "mapbox": {
           "style": "light"
          }
         }
        },
        "xaxis": {
         "title": {
          "text": "Support"
         },
         "autorange": "reversed"
        },
        "title": {
         "text": "Association Rules Strength Distribution"
        },
        "yaxis": {
         "title": {
          "text": "Confidence"
         }
        }
       },
       "config": {
        "plotlyServerURL": "https://plot.ly"
       }
      },
      "text/html": [
       "<div>                            <div id=\"605f0ce7-3de0-49e8-9b2d-b645e211026a\" class=\"plotly-graph-div\" style=\"height:525px; width:100%;\"></div>            <script type=\"text/javascript\">                require([\"plotly\"], function(Plotly) {                    window.PLOTLYENV=window.PLOTLYENV || {};                                    if (document.getElementById(\"605f0ce7-3de0-49e8-9b2d-b645e211026a\")) {                    Plotly.newPlot(                        \"605f0ce7-3de0-49e8-9b2d-b645e211026a\",                        [{\"marker\":{\"color\":[1.2499999999999998,1.4814814814814814,1.4285714285714286],\"colorbar\":{\"title\":{\"text\":\"Lift\"}},\"colorscale\":[[0.0,\"rgb(243, 224, 247)\"],[0.16666666666666666,\"rgb(228, 199, 241)\"],[0.3333333333333333,\"rgb(209, 175, 232)\"],[0.5,\"rgb(185, 152, 221)\"],[0.6666666666666666,\"rgb(159, 130, 206)\"],[0.8333333333333334,\"rgb(130, 109, 186)\"],[1.0,\"rgb(99, 88, 159)\"]]},\"mode\":\"markers\",\"text\":[\"('\\u0411\\u0440\\u044e\\u043a\\u0438',) =\\u003e ('\\u0424\\u0443\\u0442\\u0431\\u043e\\u043b\\u043a\\u0430',), Lift: 1.2499999999999998\",\"('\\u041a\\u0440\\u043e\\u0441\\u0441\\u043e\\u0432\\u043a\\u0438',) =\\u003e ('\\u041a\\u0443\\u0440\\u0442\\u043a\\u0430',), Lift: 1.4814814814814814\",\"('\\u0428\\u0430\\u043f\\u043a\\u0430',) =\\u003e ('\\u0414\\u0436\\u0438\\u043d\\u0441\\u044b',), Lift: 1.4285714285714286\"],\"x\":[0.35,0.4,0.3],\"y\":[0.875,0.8888888888888888,1.0],\"type\":\"scatter\"}],                        {\"template\":{\"data\":{\"histogram2dcontour\":[{\"type\":\"histogram2dcontour\",\"colorbar\":{\"outlinewidth\":0,\"ticks\":\"\"},\"colorscale\":[[0.0,\"#0d0887\"],[0.1111111111111111,\"#46039f\"],[0.2222222222222222,\"#7201a8\"],[0.3333333333333333,\"#9c179e\"],[0.4444444444444444,\"#bd3786\"],[0.5555555555555556,\"#d8576b\"],[0.6666666666666666,\"#ed7953\"],[0.7777777777777778,\"#fb9f3a\"],[0.8888888888888888,\"#fdca26\"],[1.0,\"#f0f921\"]]}],\"choropleth\":[{\"type\":\"choropleth\",\"colorbar\":{\"outlinewidth\":0,\"ticks\":\"\"}}],\"histogram2d\":[{\"type\":\"histogram2d\",\"colorbar\":{\"outlinewidth\":0,\"ticks\":\"\"},\"colorscale\":[[0.0,\"#0d0887\"],[0.1111111111111111,\"#46039f\"],[0.2222222222222222,\"#7201a8\"],[0.3333333333333333,\"#9c179e\"],[0.4444444444444444,\"#bd3786\"],[0.5555555555555556,\"#d8576b\"],[0.6666666666666666,\"#ed7953\"],[0.7777777777777778,\"#fb9f3a\"],[0.8888888888888888,\"#fdca26\"],[1.0,\"#f0f921\"]]}],\"heatmap\":[{\"type\":\"heatmap\",\"colorbar\":{\"outlinewidth\":0,\"ticks\":\"\"},\"colorscale\":[[0.0,\"#0d0887\"],[0.1111111111111111,\"#46039f\"],[0.2222222222222222,\"#7201a8\"],[0.3333333333333333,\"#9c179e\"],[0.4444444444444444,\"#bd3786\"],[0.5555555555555556,\"#d8576b\"],[0.6666666666666666,\"#ed7953\"],[0.7777777777777778,\"#fb9f3a\"],[0.8888888888888888,\"#fdca26\"],[1.0,\"#f0f921\"]]}],\"heatmapgl\":[{\"type\":\"heatmapgl\",\"colorbar\":{\"outlinewidth\":0,\"ticks\":\"\"},\"colorscale\":[[0.0,\"#0d0887\"],[0.1111111111111111,\"#46039f\"],[0.2222222222222222,\"#7201a8\"],[0.3333333333333333,\"#9c179e\"],[0.4444444444444444,\"#bd3786\"],[0.5555555555555556,\"#d8576b\"],[0.6666666666666666,\"#ed7953\"],[0.7777777777777778,\"#fb9f3a\"],[0.8888888888888888,\"#fdca26\"],[1.0,\"#f0f921\"]]}],\"contourcarpet\":[{\"type\":\"contourcarpet\",\"colorbar\":{\"outlinewidth\":0,\"ticks\":\"\"}}],\"contour\":[{\"type\":\"contour\",\"colorbar\":{\"outlinewidth\":0,\"ticks\":\"\"},\"colorscale\":[[0.0,\"#0d0887\"],[0.1111111111111111,\"#46039f\"],[0.2222222222222222,\"#7201a8\"],[0.3333333333333333,\"#9c179e\"],[0.4444444444444444,\"#bd3786\"],[0.5555555555555556,\"#d8576b\"],[0.6666666666666666,\"#ed7953\"],[0.7777777777777778,\"#fb9f3a\"],[0.8888888888888888,\"#fdca26\"],[1.0,\"#f0f921\"]]}],\"surface\":[{\"type\":\"surface\",\"colorbar\":{\"outlinewidth\":0,\"ticks\":\"\"},\"colorscale\":[[0.0,\"#0d0887\"],[0.1111111111111111,\"#46039f\"],[0.2222222222222222,\"#7201a8\"],[0.3333333333333333,\"#9c179e\"],[0.4444444444444444,\"#bd3786\"],[0.5555555555555556,\"#d8576b\"],[0.6666666666666666,\"#ed7953\"],[0.7777777777777778,\"#fb9f3a\"],[0.8888888888888888,\"#fdca26\"],[1.0,\"#f0f921\"]]}],\"mesh3d\":[{\"type\":\"mesh3d\",\"colorbar\":{\"outlinewidth\":0,\"ticks\":\"\"}}],\"scatter\":[{\"fillpattern\":{\"fillmode\":\"overlay\",\"size\":10,\"solidity\":0.2},\"type\":\"scatter\"}],\"parcoords\":[{\"type\":\"parcoords\",\"line\":{\"colorbar\":{\"outlinewidth\":0,\"ticks\":\"\"}}}],\"scatterpolargl\":[{\"type\":\"scatterpolargl\",\"marker\":{\"colorbar\":{\"outlinewidth\":0,\"ticks\":\"\"}}}],\"bar\":[{\"error_x\":{\"color\":\"#2a3f5f\"},\"error_y\":{\"color\":\"#2a3f5f\"},\"marker\":{\"line\":{\"color\":\"#E5ECF6\",\"width\":0.5},\"pattern\":{\"fillmode\":\"overlay\",\"size\":10,\"solidity\":0.2}},\"type\":\"bar\"}],\"scattergeo\":[{\"type\":\"scattergeo\",\"marker\":{\"colorbar\":{\"outlinewidth\":0,\"ticks\":\"\"}}}],\"scatterpolar\":[{\"type\":\"scatterpolar\",\"marker\":{\"colorbar\":{\"outlinewidth\":0,\"ticks\":\"\"}}}],\"histogram\":[{\"marker\":{\"pattern\":{\"fillmode\":\"overlay\",\"size\":10,\"solidity\":0.2}},\"type\":\"histogram\"}],\"scattergl\":[{\"type\":\"scattergl\",\"marker\":{\"colorbar\":{\"outlinewidth\":0,\"ticks\":\"\"}}}],\"scatter3d\":[{\"type\":\"scatter3d\",\"line\":{\"colorbar\":{\"outlinewidth\":0,\"ticks\":\"\"}},\"marker\":{\"colorbar\":{\"outlinewidth\":0,\"ticks\":\"\"}}}],\"scattermapbox\":[{\"type\":\"scattermapbox\",\"marker\":{\"colorbar\":{\"outlinewidth\":0,\"ticks\":\"\"}}}],\"scatterternary\":[{\"type\":\"scatterternary\",\"marker\":{\"colorbar\":{\"outlinewidth\":0,\"ticks\":\"\"}}}],\"scattercarpet\":[{\"type\":\"scattercarpet\",\"marker\":{\"colorbar\":{\"outlinewidth\":0,\"ticks\":\"\"}}}],\"carpet\":[{\"aaxis\":{\"endlinecolor\":\"#2a3f5f\",\"gridcolor\":\"white\",\"linecolor\":\"white\",\"minorgridcolor\":\"white\",\"startlinecolor\":\"#2a3f5f\"},\"baxis\":{\"endlinecolor\":\"#2a3f5f\",\"gridcolor\":\"white\",\"linecolor\":\"white\",\"minorgridcolor\":\"white\",\"startlinecolor\":\"#2a3f5f\"},\"type\":\"carpet\"}],\"table\":[{\"cells\":{\"fill\":{\"color\":\"#EBF0F8\"},\"line\":{\"color\":\"white\"}},\"header\":{\"fill\":{\"color\":\"#C8D4E3\"},\"line\":{\"color\":\"white\"}},\"type\":\"table\"}],\"barpolar\":[{\"marker\":{\"line\":{\"color\":\"#E5ECF6\",\"width\":0.5},\"pattern\":{\"fillmode\":\"overlay\",\"size\":10,\"solidity\":0.2}},\"type\":\"barpolar\"}],\"pie\":[{\"automargin\":true,\"type\":\"pie\"}]},\"layout\":{\"autotypenumbers\":\"strict\",\"colorway\":[\"#636efa\",\"#EF553B\",\"#00cc96\",\"#ab63fa\",\"#FFA15A\",\"#19d3f3\",\"#FF6692\",\"#B6E880\",\"#FF97FF\",\"#FECB52\"],\"font\":{\"color\":\"#2a3f5f\"},\"hovermode\":\"closest\",\"hoverlabel\":{\"align\":\"left\"},\"paper_bgcolor\":\"white\",\"plot_bgcolor\":\"#E5ECF6\",\"polar\":{\"bgcolor\":\"#E5ECF6\",\"angularaxis\":{\"gridcolor\":\"white\",\"linecolor\":\"white\",\"ticks\":\"\"},\"radialaxis\":{\"gridcolor\":\"white\",\"linecolor\":\"white\",\"ticks\":\"\"}},\"ternary\":{\"bgcolor\":\"#E5ECF6\",\"aaxis\":{\"gridcolor\":\"white\",\"linecolor\":\"white\",\"ticks\":\"\"},\"baxis\":{\"gridcolor\":\"white\",\"linecolor\":\"white\",\"ticks\":\"\"},\"caxis\":{\"gridcolor\":\"white\",\"linecolor\":\"white\",\"ticks\":\"\"}},\"coloraxis\":{\"colorbar\":{\"outlinewidth\":0,\"ticks\":\"\"}},\"colorscale\":{\"sequential\":[[0.0,\"#0d0887\"],[0.1111111111111111,\"#46039f\"],[0.2222222222222222,\"#7201a8\"],[0.3333333333333333,\"#9c179e\"],[0.4444444444444444,\"#bd3786\"],[0.5555555555555556,\"#d8576b\"],[0.6666666666666666,\"#ed7953\"],[0.7777777777777778,\"#fb9f3a\"],[0.8888888888888888,\"#fdca26\"],[1.0,\"#f0f921\"]],\"sequentialminus\":[[0.0,\"#0d0887\"],[0.1111111111111111,\"#46039f\"],[0.2222222222222222,\"#7201a8\"],[0.3333333333333333,\"#9c179e\"],[0.4444444444444444,\"#bd3786\"],[0.5555555555555556,\"#d8576b\"],[0.6666666666666666,\"#ed7953\"],[0.7777777777777778,\"#fb9f3a\"],[0.8888888888888888,\"#fdca26\"],[1.0,\"#f0f921\"]],\"diverging\":[[0,\"#8e0152\"],[0.1,\"#c51b7d\"],[0.2,\"#de77ae\"],[0.3,\"#f1b6da\"],[0.4,\"#fde0ef\"],[0.5,\"#f7f7f7\"],[0.6,\"#e6f5d0\"],[0.7,\"#b8e186\"],[0.8,\"#7fbc41\"],[0.9,\"#4d9221\"],[1,\"#276419\"]]},\"xaxis\":{\"gridcolor\":\"white\",\"linecolor\":\"white\",\"ticks\":\"\",\"title\":{\"standoff\":15},\"zerolinecolor\":\"white\",\"automargin\":true,\"zerolinewidth\":2},\"yaxis\":{\"gridcolor\":\"white\",\"linecolor\":\"white\",\"ticks\":\"\",\"title\":{\"standoff\":15},\"zerolinecolor\":\"white\",\"automargin\":true,\"zerolinewidth\":2},\"scene\":{\"xaxis\":{\"backgroundcolor\":\"#E5ECF6\",\"gridcolor\":\"white\",\"linecolor\":\"white\",\"showbackground\":true,\"ticks\":\"\",\"zerolinecolor\":\"white\",\"gridwidth\":2},\"yaxis\":{\"backgroundcolor\":\"#E5ECF6\",\"gridcolor\":\"white\",\"linecolor\":\"white\",\"showbackground\":true,\"ticks\":\"\",\"zerolinecolor\":\"white\",\"gridwidth\":2},\"zaxis\":{\"backgroundcolor\":\"#E5ECF6\",\"gridcolor\":\"white\",\"linecolor\":\"white\",\"showbackground\":true,\"ticks\":\"\",\"zerolinecolor\":\"white\",\"gridwidth\":2}},\"shapedefaults\":{\"line\":{\"color\":\"#2a3f5f\"}},\"annotationdefaults\":{\"arrowcolor\":\"#2a3f5f\",\"arrowhead\":0,\"arrowwidth\":1},\"geo\":{\"bgcolor\":\"white\",\"landcolor\":\"#E5ECF6\",\"subunitcolor\":\"white\",\"showland\":true,\"showlakes\":true,\"lakecolor\":\"white\"},\"title\":{\"x\":0.05},\"mapbox\":{\"style\":\"light\"}}},\"xaxis\":{\"title\":{\"text\":\"Support\"},\"autorange\":\"reversed\"},\"title\":{\"text\":\"Association Rules Strength Distribution\"},\"yaxis\":{\"title\":{\"text\":\"Confidence\"}}},                        {\"responsive\": true}                    ).then(function(){\n",
       "                            \n",
       "var gd = document.getElementById('605f0ce7-3de0-49e8-9b2d-b645e211026a');\n",
       "var x = new MutationObserver(function (mutations, observer) {{\n",
       "        var display = window.getComputedStyle(gd).display;\n",
       "        if (!display || display === 'none') {{\n",
       "            console.log([gd, 'removed!']);\n",
       "            Plotly.purge(gd);\n",
       "            observer.disconnect();\n",
       "        }}\n",
       "}});\n",
       "\n",
       "// Listen for the removal of the full notebook cells\n",
       "var notebookContainer = gd.closest('#notebook-container');\n",
       "if (notebookContainer) {{\n",
       "    x.observe(notebookContainer, {childList: true});\n",
       "}}\n",
       "\n",
       "// Listen for the clearing of the current output cell\n",
       "var outputEl = gd.closest('.output');\n",
       "if (outputEl) {{\n",
       "    x.observe(outputEl, {childList: true});\n",
       "}}\n",
       "\n",
       "                        })                };                });            </script>        </div>"
      ]
     },
     "metadata": {},
     "output_type": "display_data",
     "jetTransient": {
      "display_id": null
     }
    },
    {
     "data": {
      "application/vnd.plotly.v1+json": {
       "data": [
        {
         "hoverinfo": "none",
         "line": {
          "color": "#888",
          "width": 0.5
         },
         "mode": "lines",
         "x": [
          -0.7687635690721414,
          0.03759538635738854,
          null,
          0.13554426461263916,
          -0.7687635690721414,
          null,
          0.13554426461263916,
          0.6354638850326985,
          null,
          0.13554426461263916,
          -0.47080760629066903,
          null,
          0.13554426461263916,
          0.7282287045197458,
          null,
          0.13554426461263916,
          0.6199698515777089,
          null,
          0.13554426461263916,
          0.39104876161761437,
          null,
          -0.35816194332876955,
          -0.7687635690721414,
          null,
          -0.35816194332876955,
          -0.043080846472312244,
          null,
          -0.35816194332876955,
          -0.379732124801391,
          null,
          -0.35816194332876955,
          -0.6599511428108669,
          null,
          -0.35816194332876955,
          0.4978663866267684,
          null,
          -0.35816194332876955,
          -0.26026516762585183,
          null,
          -0.35816194332876955,
          -0.6108300491842281,
          null,
          -0.35816194332876955,
          -0.6071234224433525,
          null,
          0.03759538635738854,
          -0.04915350557619968,
          null,
          0.03759538635738854,
          0.46067261908813195,
          null,
          0.03759538635738854,
          0.39104876161761437,
          null,
          0.03759538635738854,
          -0.6071234224433525,
          null,
          -0.043080846472312244,
          0.03759538635738854,
          null,
          0.06450904711211428,
          -0.043080846472312244,
          null,
          0.06450904711211428,
          -0.5659986816175029,
          null,
          0.06450904711211428,
          -0.16455927519196537,
          null,
          0.06450904711211428,
          0.7823229902953941,
          null,
          0.06450904711211428,
          0.30121036791702493,
          null,
          0.06450904711211428,
          0.8952206119714617,
          null,
          0.06450904711211428,
          -0.6108300491842281,
          null,
          -0.379732124801391,
          0.03759538635738854,
          null,
          -0.1996329583201803,
          -0.379732124801391,
          null,
          -0.1996329583201803,
          -0.5659986816175029,
          null,
          -0.1996329583201803,
          0.6354638850326985,
          null,
          -0.1996329583201803,
          -0.849163584766674,
          null,
          -0.1996329583201803,
          0.30121036791702493,
          null,
          -0.5659986816175029,
          0.13554426461263916,
          null,
          0.6354638850326985,
          0.06450904711211428,
          null,
          -0.16455927519196537,
          0.13554426461263916,
          null,
          0.3043218712118554,
          -0.16455927519196537,
          null,
          0.3043218712118554,
          -0.424479140307303,
          null,
          0.3043218712118554,
          0.7282287045197458,
          null,
          0.3043218712118554,
          0.8952206119714617,
          null,
          0.3043218712118554,
          0.6199698515777089,
          null,
          -0.04915350557619968,
          0.06450904711211428,
          null,
          -0.06375883682824744,
          -0.04915350557619968,
          null,
          -0.06375883682824744,
          -0.47080760629066903,
          null,
          -0.06375883682824744,
          -0.00574166756181061,
          null,
          -0.06375883682824744,
          0.4978663866267684,
          null,
          -0.06375883682824744,
          -0.26026516762585183,
          null,
          -0.06375883682824744,
          -0.849163584766674,
          null,
          -0.06375883682824744,
          0.30121036791702493,
          null,
          -0.06375883682824744,
          0.8952206119714617,
          null,
          -0.06375883682824744,
          0.6199698515777089,
          null,
          -0.06375883682824744,
          0.39104876161761437,
          null,
          -0.06375883682824744,
          -0.6108300491842281,
          null,
          -0.06375883682824744,
          -0.6071234224433525,
          null,
          -0.47080760629066903,
          0.06450904711211428,
          null,
          -0.424479140307303,
          0.06450904711211428,
          null,
          -0.6599511428108669,
          0.03759538635738854,
          null,
          0.18037862851705466,
          0.13554426461263916,
          null,
          0.44685014574185733,
          0.18037862851705466,
          null,
          0.44685014574185733,
          -0.00574166756181061,
          null,
          0.44685014574185733,
          0.46067261908813195,
          null,
          0.44685014574185733,
          0.7823229902953941,
          null,
          0.7282287045197458,
          0.06450904711211428,
          null,
          -0.00574166756181061,
          0.13554426461263916,
          null,
          0.4978663866267684,
          0.06450904711211428,
          null,
          -0.26026516762585183,
          0.03759538635738854,
          null,
          0.46067261908813195,
          0.13554426461263916,
          null,
          -0.849163584766674,
          0.03759538635738854,
          null,
          0.7823229902953941,
          0.13554426461263916,
          null,
          0.30121036791702493,
          0.03759538635738854,
          null,
          0.8952206119714617,
          0.13554426461263916,
          null,
          0.6199698515777089,
          0.06450904711211428,
          null,
          0.39104876161761437,
          0.06450904711211428,
          null,
          -0.6108300491842281,
          0.03759538635738854,
          null,
          -0.6071234224433525,
          0.06450904711211428,
          null
         ],
         "y": [
          0.0678371654875425,
          0.18429683101039016,
          null,
          0.025395099204798734,
          0.0678371654875425,
          null,
          0.025395099204798734,
          -0.018998245166329416,
          null,
          0.025395099204798734,
          -0.4733457619456859,
          null,
          0.025395099204798734,
          0.2913226394072438,
          null,
          0.025395099204798734,
          0.5110445043425922,
          null,
          0.025395099204798734,
          0.6069903431670451,
          null,
          0.16623559061928916,
          0.0678371654875425,
          null,
          0.16623559061928916,
          0.9297851428025405,
          null,
          0.16623559061928916,
          0.7934400466518536,
          null,
          0.16623559061928916,
          -0.09159622642304432,
          null,
          0.16623559061928916,
          -0.3997165477488514,
          null,
          0.16623559061928916,
          -0.3087137010659121,
          null,
          0.16623559061928916,
          0.615486782191237,
          null,
          0.16623559061928916,
          0.3307956006468804,
          null,
          0.18429683101039016,
          0.6650834140516094,
          null,
          0.18429683101039016,
          -0.6571029295603813,
          null,
          0.18429683101039016,
          0.6069903431670451,
          null,
          0.18429683101039016,
          0.3307956006468804,
          null,
          0.9297851428025405,
          0.18429683101039016,
          null,
          0.08979394880827023,
          0.9297851428025405,
          null,
          0.08979394880827023,
          -0.3270158562872156,
          null,
          0.08979394880827023,
          -0.6800291251855858,
          null,
          0.08979394880827023,
          -0.3798398908104114,
          null,
          0.08979394880827023,
          0.8826370974333908,
          null,
          0.08979394880827023,
          -0.033845470892476526,
          null,
          0.08979394880827023,
          0.615486782191237,
          null,
          0.7934400466518536,
          0.18429683101039016,
          null,
          0.31257622687207287,
          0.7934400466518536,
          null,
          0.31257622687207287,
          -0.3270158562872156,
          null,
          0.31257622687207287,
          -0.018998245166329416,
          null,
          0.31257622687207287,
          0.25061710821549704,
          null,
          0.31257622687207287,
          0.8826370974333908,
          null,
          -0.3270158562872156,
          0.025395099204798734,
          null,
          -0.018998245166329416,
          0.08979394880827023,
          null,
          -0.6800291251855858,
          0.025395099204798734,
          null,
          -0.22710450349418537,
          -0.6800291251855858,
          null,
          -0.22710450349418537,
          -0.6617996817516392,
          null,
          -0.22710450349418537,
          0.2913226394072438,
          null,
          -0.22710450349418537,
          -0.033845470892476526,
          null,
          -0.22710450349418537,
          0.5110445043425922,
          null,
          0.6650834140516094,
          0.08979394880827023,
          null,
          0.07549992914647673,
          0.6650834140516094,
          null,
          0.07549992914647673,
          -0.4733457619456859,
          null,
          0.07549992914647673,
          -0.7879568524722411,
          null,
          0.07549992914647673,
          -0.3997165477488514,
          null,
          0.07549992914647673,
          -0.3087137010659121,
          null,
          0.07549992914647673,
          0.25061710821549704,
          null,
          0.07549992914647673,
          0.8826370974333908,
          null,
          0.07549992914647673,
          -0.033845470892476526,
          null,
          0.07549992914647673,
          0.5110445043425922,
          null,
          0.07549992914647673,
          0.6069903431670451,
          null,
          0.07549992914647673,
          0.615486782191237,
          null,
          0.07549992914647673,
          0.3307956006468804,
          null,
          -0.4733457619456859,
          0.08979394880827023,
          null,
          -0.6617996817516392,
          0.08979394880827023,
          null,
          -0.09159622642304432,
          0.18429683101039016,
          null,
          -0.7517726772547538,
          0.025395099204798734,
          null,
          -1.0,
          -0.7517726772547538,
          null,
          -1.0,
          -0.7879568524722411,
          null,
          -1.0,
          -0.6571029295603813,
          null,
          -1.0,
          -0.3798398908104114,
          null,
          0.2913226394072438,
          0.08979394880827023,
          null,
          -0.7879568524722411,
          0.025395099204798734,
          null,
          -0.3997165477488514,
          0.08979394880827023,
          null,
          -0.3087137010659121,
          0.18429683101039016,
          null,
          -0.6571029295603813,
          0.025395099204798734,
          null,
          0.25061710821549704,
          0.18429683101039016,
          null,
          -0.3798398908104114,
          0.025395099204798734,
          null,
          0.8826370974333908,
          0.18429683101039016,
          null,
          -0.033845470892476526,
          0.025395099204798734,
          null,
          0.5110445043425922,
          0.08979394880827023,
          null,
          0.6069903431670451,
          0.08979394880827023,
          null,
          0.615486782191237,
          0.18429683101039016,
          null,
          0.3307956006468804,
          0.08979394880827023,
          null
         ],
         "type": "scatter"
        },
        {
         "hoverinfo": "text",
         "marker": {
          "color": [],
          "colorbar": {
           "thickness": 15,
           "title": {
            "side": "right",
            "text": "Node Connections"
           },
           "xanchor": "left"
          },
          "colorscale": [
           [
            0.0,
            "rgb(255,255,217)"
           ],
           [
            0.125,
            "rgb(237,248,177)"
           ],
           [
            0.25,
            "rgb(199,233,180)"
           ],
           [
            0.375,
            "rgb(127,205,187)"
           ],
           [
            0.5,
            "rgb(65,182,196)"
           ],
           [
            0.625,
            "rgb(29,145,192)"
           ],
           [
            0.75,
            "rgb(34,94,168)"
           ],
           [
            0.875,
            "rgb(37,52,148)"
           ],
           [
            1.0,
            "rgb(8,29,88)"
           ]
          ],
          "line": {
           "width": 2
          },
          "reversescale": true,
          "showscale": true,
          "size": 10
         },
         "mode": "markers",
         "text": [
          "0",
          "Джинсы",
          "Кроссовки",
          "Куртка",
          "1",
          "Футболка",
          "2",
          "Рубашка",
          "3",
          "4",
          "5",
          "Брюки",
          "6",
          "Сумка",
          "7",
          "8",
          "9",
          "10",
          "Шапка",
          "11",
          "12",
          "13",
          "14",
          "15",
          "16",
          "17",
          "18",
          "19",
          "20",
          "21",
          "22",
          "23"
         ],
         "x": [
          -0.7687635690721414,
          0.13554426461263916,
          -0.35816194332876955,
          0.03759538635738854,
          -0.043080846472312244,
          0.06450904711211428,
          -0.379732124801391,
          -0.1996329583201803,
          -0.5659986816175029,
          0.6354638850326985,
          -0.16455927519196537,
          0.3043218712118554,
          -0.04915350557619968,
          -0.06375883682824744,
          -0.47080760629066903,
          -0.424479140307303,
          -0.6599511428108669,
          0.18037862851705466,
          0.44685014574185733,
          0.7282287045197458,
          -0.00574166756181061,
          0.4978663866267684,
          -0.26026516762585183,
          0.46067261908813195,
          -0.849163584766674,
          0.7823229902953941,
          0.30121036791702493,
          0.8952206119714617,
          0.6199698515777089,
          0.39104876161761437,
          -0.6108300491842281,
          -0.6071234224433525
         ],
         "y": [
          0.0678371654875425,
          0.025395099204798734,
          0.16623559061928916,
          0.18429683101039016,
          0.9297851428025405,
          0.08979394880827023,
          0.7934400466518536,
          0.31257622687207287,
          -0.3270158562872156,
          -0.018998245166329416,
          -0.6800291251855858,
          -0.22710450349418537,
          0.6650834140516094,
          0.07549992914647673,
          -0.4733457619456859,
          -0.6617996817516392,
          -0.09159622642304432,
          -0.7517726772547538,
          -1.0,
          0.2913226394072438,
          -0.7879568524722411,
          -0.3997165477488514,
          -0.3087137010659121,
          -0.6571029295603813,
          0.25061710821549704,
          -0.3798398908104114,
          0.8826370974333908,
          -0.033845470892476526,
          0.5110445043425922,
          0.6069903431670451,
          0.615486782191237,
          0.3307956006468804
         ],
         "type": "scatter"
        }
       ],
       "layout": {
        "annotations": [
         {
          "showarrow": false,
          "text": "Python code: <a href='https://plotly.com/ipython-notebooks/network-graphs/'> https://plotly.com/ipython-notebooks/network-graphs/</a>",
          "x": 0.005,
          "xref": "paper",
          "y": -0.002,
          "yref": "paper"
         }
        ],
        "hovermode": "closest",
        "margin": {
         "b": 20,
         "l": 5,
         "r": 5,
         "t": 40
        },
        "showlegend": false,
        "title": {
         "font": {
          "size": 16
         },
         "text": "<br>Network graph made with Python"
        },
        "xaxis": {
         "showgrid": false,
         "showticklabels": false,
         "zeroline": false
        },
        "yaxis": {
         "showgrid": false,
         "showticklabels": false,
         "zeroline": false
        },
        "template": {
         "data": {
          "histogram2dcontour": [
           {
            "type": "histogram2dcontour",
            "colorbar": {
             "outlinewidth": 0,
             "ticks": ""
            },
            "colorscale": [
             [
              0.0,
              "#0d0887"
             ],
             [
              0.1111111111111111,
              "#46039f"
             ],
             [
              0.2222222222222222,
              "#7201a8"
             ],
             [
              0.3333333333333333,
              "#9c179e"
             ],
             [
              0.4444444444444444,
              "#bd3786"
             ],
             [
              0.5555555555555556,
              "#d8576b"
             ],
             [
              0.6666666666666666,
              "#ed7953"
             ],
             [
              0.7777777777777778,
              "#fb9f3a"
             ],
             [
              0.8888888888888888,
              "#fdca26"
             ],
             [
              1.0,
              "#f0f921"
             ]
            ]
           }
          ],
          "choropleth": [
           {
            "type": "choropleth",
            "colorbar": {
             "outlinewidth": 0,
             "ticks": ""
            }
           }
          ],
          "histogram2d": [
           {
            "type": "histogram2d",
            "colorbar": {
             "outlinewidth": 0,
             "ticks": ""
            },
            "colorscale": [
             [
              0.0,
              "#0d0887"
             ],
             [
              0.1111111111111111,
              "#46039f"
             ],
             [
              0.2222222222222222,
              "#7201a8"
             ],
             [
              0.3333333333333333,
              "#9c179e"
             ],
             [
              0.4444444444444444,
              "#bd3786"
             ],
             [
              0.5555555555555556,
              "#d8576b"
             ],
             [
              0.6666666666666666,
              "#ed7953"
             ],
             [
              0.7777777777777778,
              "#fb9f3a"
             ],
             [
              0.8888888888888888,
              "#fdca26"
             ],
             [
              1.0,
              "#f0f921"
             ]
            ]
           }
          ],
          "heatmap": [
           {
            "type": "heatmap",
            "colorbar": {
             "outlinewidth": 0,
             "ticks": ""
            },
            "colorscale": [
             [
              0.0,
              "#0d0887"
             ],
             [
              0.1111111111111111,
              "#46039f"
             ],
             [
              0.2222222222222222,
              "#7201a8"
             ],
             [
              0.3333333333333333,
              "#9c179e"
             ],
             [
              0.4444444444444444,
              "#bd3786"
             ],
             [
              0.5555555555555556,
              "#d8576b"
             ],
             [
              0.6666666666666666,
              "#ed7953"
             ],
             [
              0.7777777777777778,
              "#fb9f3a"
             ],
             [
              0.8888888888888888,
              "#fdca26"
             ],
             [
              1.0,
              "#f0f921"
             ]
            ]
           }
          ],
          "heatmapgl": [
           {
            "type": "heatmapgl",
            "colorbar": {
             "outlinewidth": 0,
             "ticks": ""
            },
            "colorscale": [
             [
              0.0,
              "#0d0887"
             ],
             [
              0.1111111111111111,
              "#46039f"
             ],
             [
              0.2222222222222222,
              "#7201a8"
             ],
             [
              0.3333333333333333,
              "#9c179e"
             ],
             [
              0.4444444444444444,
              "#bd3786"
             ],
             [
              0.5555555555555556,
              "#d8576b"
             ],
             [
              0.6666666666666666,
              "#ed7953"
             ],
             [
              0.7777777777777778,
              "#fb9f3a"
             ],
             [
              0.8888888888888888,
              "#fdca26"
             ],
             [
              1.0,
              "#f0f921"
             ]
            ]
           }
          ],
          "contourcarpet": [
           {
            "type": "contourcarpet",
            "colorbar": {
             "outlinewidth": 0,
             "ticks": ""
            }
           }
          ],
          "contour": [
           {
            "type": "contour",
            "colorbar": {
             "outlinewidth": 0,
             "ticks": ""
            },
            "colorscale": [
             [
              0.0,
              "#0d0887"
             ],
             [
              0.1111111111111111,
              "#46039f"
             ],
             [
              0.2222222222222222,
              "#7201a8"
             ],
             [
              0.3333333333333333,
              "#9c179e"
             ],
             [
              0.4444444444444444,
              "#bd3786"
             ],
             [
              0.5555555555555556,
              "#d8576b"
             ],
             [
              0.6666666666666666,
              "#ed7953"
             ],
             [
              0.7777777777777778,
              "#fb9f3a"
             ],
             [
              0.8888888888888888,
              "#fdca26"
             ],
             [
              1.0,
              "#f0f921"
             ]
            ]
           }
          ],
          "surface": [
           {
            "type": "surface",
            "colorbar": {
             "outlinewidth": 0,
             "ticks": ""
            },
            "colorscale": [
             [
              0.0,
              "#0d0887"
             ],
             [
              0.1111111111111111,
              "#46039f"
             ],
             [
              0.2222222222222222,
              "#7201a8"
             ],
             [
              0.3333333333333333,
              "#9c179e"
             ],
             [
              0.4444444444444444,
              "#bd3786"
             ],
             [
              0.5555555555555556,
              "#d8576b"
             ],
             [
              0.6666666666666666,
              "#ed7953"
             ],
             [
              0.7777777777777778,
              "#fb9f3a"
             ],
             [
              0.8888888888888888,
              "#fdca26"
             ],
             [
              1.0,
              "#f0f921"
             ]
            ]
           }
          ],
          "mesh3d": [
           {
            "type": "mesh3d",
            "colorbar": {
             "outlinewidth": 0,
             "ticks": ""
            }
           }
          ],
          "scatter": [
           {
            "fillpattern": {
             "fillmode": "overlay",
             "size": 10,
             "solidity": 0.2
            },
            "type": "scatter"
           }
          ],
          "parcoords": [
           {
            "type": "parcoords",
            "line": {
             "colorbar": {
              "outlinewidth": 0,
              "ticks": ""
             }
            }
           }
          ],
          "scatterpolargl": [
           {
            "type": "scatterpolargl",
            "marker": {
             "colorbar": {
              "outlinewidth": 0,
              "ticks": ""
             }
            }
           }
          ],
          "bar": [
           {
            "error_x": {
             "color": "#2a3f5f"
            },
            "error_y": {
             "color": "#2a3f5f"
            },
            "marker": {
             "line": {
              "color": "#E5ECF6",
              "width": 0.5
             },
             "pattern": {
              "fillmode": "overlay",
              "size": 10,
              "solidity": 0.2
             }
            },
            "type": "bar"
           }
          ],
          "scattergeo": [
           {
            "type": "scattergeo",
            "marker": {
             "colorbar": {
              "outlinewidth": 0,
              "ticks": ""
             }
            }
           }
          ],
          "scatterpolar": [
           {
            "type": "scatterpolar",
            "marker": {
             "colorbar": {
              "outlinewidth": 0,
              "ticks": ""
             }
            }
           }
          ],
          "histogram": [
           {
            "marker": {
             "pattern": {
              "fillmode": "overlay",
              "size": 10,
              "solidity": 0.2
             }
            },
            "type": "histogram"
           }
          ],
          "scattergl": [
           {
            "type": "scattergl",
            "marker": {
             "colorbar": {
              "outlinewidth": 0,
              "ticks": ""
             }
            }
           }
          ],
          "scatter3d": [
           {
            "type": "scatter3d",
            "line": {
             "colorbar": {
              "outlinewidth": 0,
              "ticks": ""
             }
            },
            "marker": {
             "colorbar": {
              "outlinewidth": 0,
              "ticks": ""
             }
            }
           }
          ],
          "scattermapbox": [
           {
            "type": "scattermapbox",
            "marker": {
             "colorbar": {
              "outlinewidth": 0,
              "ticks": ""
             }
            }
           }
          ],
          "scatterternary": [
           {
            "type": "scatterternary",
            "marker": {
             "colorbar": {
              "outlinewidth": 0,
              "ticks": ""
             }
            }
           }
          ],
          "scattercarpet": [
           {
            "type": "scattercarpet",
            "marker": {
             "colorbar": {
              "outlinewidth": 0,
              "ticks": ""
             }
            }
           }
          ],
          "carpet": [
           {
            "aaxis": {
             "endlinecolor": "#2a3f5f",
             "gridcolor": "white",
             "linecolor": "white",
             "minorgridcolor": "white",
             "startlinecolor": "#2a3f5f"
            },
            "baxis": {
             "endlinecolor": "#2a3f5f",
             "gridcolor": "white",
             "linecolor": "white",
             "minorgridcolor": "white",
             "startlinecolor": "#2a3f5f"
            },
            "type": "carpet"
           }
          ],
          "table": [
           {
            "cells": {
             "fill": {
              "color": "#EBF0F8"
             },
             "line": {
              "color": "white"
             }
            },
            "header": {
             "fill": {
              "color": "#C8D4E3"
             },
             "line": {
              "color": "white"
             }
            },
            "type": "table"
           }
          ],
          "barpolar": [
           {
            "marker": {
             "line": {
              "color": "#E5ECF6",
              "width": 0.5
             },
             "pattern": {
              "fillmode": "overlay",
              "size": 10,
              "solidity": 0.2
             }
            },
            "type": "barpolar"
           }
          ],
          "pie": [
           {
            "automargin": true,
            "type": "pie"
           }
          ]
         },
         "layout": {
          "autotypenumbers": "strict",
          "colorway": [
           "#636efa",
           "#EF553B",
           "#00cc96",
           "#ab63fa",
           "#FFA15A",
           "#19d3f3",
           "#FF6692",
           "#B6E880",
           "#FF97FF",
           "#FECB52"
          ],
          "font": {
           "color": "#2a3f5f"
          },
          "hovermode": "closest",
          "hoverlabel": {
           "align": "left"
          },
          "paper_bgcolor": "white",
          "plot_bgcolor": "#E5ECF6",
          "polar": {
           "bgcolor": "#E5ECF6",
           "angularaxis": {
            "gridcolor": "white",
            "linecolor": "white",
            "ticks": ""
           },
           "radialaxis": {
            "gridcolor": "white",
            "linecolor": "white",
            "ticks": ""
           }
          },
          "ternary": {
           "bgcolor": "#E5ECF6",
           "aaxis": {
            "gridcolor": "white",
            "linecolor": "white",
            "ticks": ""
           },
           "baxis": {
            "gridcolor": "white",
            "linecolor": "white",
            "ticks": ""
           },
           "caxis": {
            "gridcolor": "white",
            "linecolor": "white",
            "ticks": ""
           }
          },
          "coloraxis": {
           "colorbar": {
            "outlinewidth": 0,
            "ticks": ""
           }
          },
          "colorscale": {
           "sequential": [
            [
             0.0,
             "#0d0887"
            ],
            [
             0.1111111111111111,
             "#46039f"
            ],
            [
             0.2222222222222222,
             "#7201a8"
            ],
            [
             0.3333333333333333,
             "#9c179e"
            ],
            [
             0.4444444444444444,
             "#bd3786"
            ],
            [
             0.5555555555555556,
             "#d8576b"
            ],
            [
             0.6666666666666666,
             "#ed7953"
            ],
            [
             0.7777777777777778,
             "#fb9f3a"
            ],
            [
             0.8888888888888888,
             "#fdca26"
            ],
            [
             1.0,
             "#f0f921"
            ]
           ],
           "sequentialminus": [
            [
             0.0,
             "#0d0887"
            ],
            [
             0.1111111111111111,
             "#46039f"
            ],
            [
             0.2222222222222222,
             "#7201a8"
            ],
            [
             0.3333333333333333,
             "#9c179e"
            ],
            [
             0.4444444444444444,
             "#bd3786"
            ],
            [
             0.5555555555555556,
             "#d8576b"
            ],
            [
             0.6666666666666666,
             "#ed7953"
            ],
            [
             0.7777777777777778,
             "#fb9f3a"
            ],
            [
             0.8888888888888888,
             "#fdca26"
            ],
            [
             1.0,
             "#f0f921"
            ]
           ],
           "diverging": [
            [
             0,
             "#8e0152"
            ],
            [
             0.1,
             "#c51b7d"
            ],
            [
             0.2,
             "#de77ae"
            ],
            [
             0.3,
             "#f1b6da"
            ],
            [
             0.4,
             "#fde0ef"
            ],
            [
             0.5,
             "#f7f7f7"
            ],
            [
             0.6,
             "#e6f5d0"
            ],
            [
             0.7,
             "#b8e186"
            ],
            [
             0.8,
             "#7fbc41"
            ],
            [
             0.9,
             "#4d9221"
            ],
            [
             1,
             "#276419"
            ]
           ]
          },
          "xaxis": {
           "gridcolor": "white",
           "linecolor": "white",
           "ticks": "",
           "title": {
            "standoff": 15
           },
           "zerolinecolor": "white",
           "automargin": true,
           "zerolinewidth": 2
          },
          "yaxis": {
           "gridcolor": "white",
           "linecolor": "white",
           "ticks": "",
           "title": {
            "standoff": 15
           },
           "zerolinecolor": "white",
           "automargin": true,
           "zerolinewidth": 2
          },
          "scene": {
           "xaxis": {
            "backgroundcolor": "#E5ECF6",
            "gridcolor": "white",
            "linecolor": "white",
            "showbackground": true,
            "ticks": "",
            "zerolinecolor": "white",
            "gridwidth": 2
           },
           "yaxis": {
            "backgroundcolor": "#E5ECF6",
            "gridcolor": "white",
            "linecolor": "white",
            "showbackground": true,
            "ticks": "",
            "zerolinecolor": "white",
            "gridwidth": 2
           },
           "zaxis": {
            "backgroundcolor": "#E5ECF6",
            "gridcolor": "white",
            "linecolor": "white",
            "showbackground": true,
            "ticks": "",
            "zerolinecolor": "white",
            "gridwidth": 2
           }
          },
          "shapedefaults": {
           "line": {
            "color": "#2a3f5f"
           }
          },
          "annotationdefaults": {
           "arrowcolor": "#2a3f5f",
           "arrowhead": 0,
           "arrowwidth": 1
          },
          "geo": {
           "bgcolor": "white",
           "landcolor": "#E5ECF6",
           "subunitcolor": "white",
           "showland": true,
           "showlakes": true,
           "lakecolor": "white"
          },
          "title": {
           "x": 0.05
          },
          "mapbox": {
           "style": "light"
          }
         }
        }
       },
       "config": {
        "plotlyServerURL": "https://plot.ly"
       }
      },
      "text/html": [
       "<div>                            <div id=\"3e249fa5-61c0-4ecc-acc7-3f8792fc3adc\" class=\"plotly-graph-div\" style=\"height:525px; width:100%;\"></div>            <script type=\"text/javascript\">                require([\"plotly\"], function(Plotly) {                    window.PLOTLYENV=window.PLOTLYENV || {};                                    if (document.getElementById(\"3e249fa5-61c0-4ecc-acc7-3f8792fc3adc\")) {                    Plotly.newPlot(                        \"3e249fa5-61c0-4ecc-acc7-3f8792fc3adc\",                        [{\"hoverinfo\":\"none\",\"line\":{\"color\":\"#888\",\"width\":0.5},\"mode\":\"lines\",\"x\":[-0.7687635690721414,0.03759538635738854,null,0.13554426461263916,-0.7687635690721414,null,0.13554426461263916,0.6354638850326985,null,0.13554426461263916,-0.47080760629066903,null,0.13554426461263916,0.7282287045197458,null,0.13554426461263916,0.6199698515777089,null,0.13554426461263916,0.39104876161761437,null,-0.35816194332876955,-0.7687635690721414,null,-0.35816194332876955,-0.043080846472312244,null,-0.35816194332876955,-0.379732124801391,null,-0.35816194332876955,-0.6599511428108669,null,-0.35816194332876955,0.4978663866267684,null,-0.35816194332876955,-0.26026516762585183,null,-0.35816194332876955,-0.6108300491842281,null,-0.35816194332876955,-0.6071234224433525,null,0.03759538635738854,-0.04915350557619968,null,0.03759538635738854,0.46067261908813195,null,0.03759538635738854,0.39104876161761437,null,0.03759538635738854,-0.6071234224433525,null,-0.043080846472312244,0.03759538635738854,null,0.06450904711211428,-0.043080846472312244,null,0.06450904711211428,-0.5659986816175029,null,0.06450904711211428,-0.16455927519196537,null,0.06450904711211428,0.7823229902953941,null,0.06450904711211428,0.30121036791702493,null,0.06450904711211428,0.8952206119714617,null,0.06450904711211428,-0.6108300491842281,null,-0.379732124801391,0.03759538635738854,null,-0.1996329583201803,-0.379732124801391,null,-0.1996329583201803,-0.5659986816175029,null,-0.1996329583201803,0.6354638850326985,null,-0.1996329583201803,-0.849163584766674,null,-0.1996329583201803,0.30121036791702493,null,-0.5659986816175029,0.13554426461263916,null,0.6354638850326985,0.06450904711211428,null,-0.16455927519196537,0.13554426461263916,null,0.3043218712118554,-0.16455927519196537,null,0.3043218712118554,-0.424479140307303,null,0.3043218712118554,0.7282287045197458,null,0.3043218712118554,0.8952206119714617,null,0.3043218712118554,0.6199698515777089,null,-0.04915350557619968,0.06450904711211428,null,-0.06375883682824744,-0.04915350557619968,null,-0.06375883682824744,-0.47080760629066903,null,-0.06375883682824744,-0.00574166756181061,null,-0.06375883682824744,0.4978663866267684,null,-0.06375883682824744,-0.26026516762585183,null,-0.06375883682824744,-0.849163584766674,null,-0.06375883682824744,0.30121036791702493,null,-0.06375883682824744,0.8952206119714617,null,-0.06375883682824744,0.6199698515777089,null,-0.06375883682824744,0.39104876161761437,null,-0.06375883682824744,-0.6108300491842281,null,-0.06375883682824744,-0.6071234224433525,null,-0.47080760629066903,0.06450904711211428,null,-0.424479140307303,0.06450904711211428,null,-0.6599511428108669,0.03759538635738854,null,0.18037862851705466,0.13554426461263916,null,0.44685014574185733,0.18037862851705466,null,0.44685014574185733,-0.00574166756181061,null,0.44685014574185733,0.46067261908813195,null,0.44685014574185733,0.7823229902953941,null,0.7282287045197458,0.06450904711211428,null,-0.00574166756181061,0.13554426461263916,null,0.4978663866267684,0.06450904711211428,null,-0.26026516762585183,0.03759538635738854,null,0.46067261908813195,0.13554426461263916,null,-0.849163584766674,0.03759538635738854,null,0.7823229902953941,0.13554426461263916,null,0.30121036791702493,0.03759538635738854,null,0.8952206119714617,0.13554426461263916,null,0.6199698515777089,0.06450904711211428,null,0.39104876161761437,0.06450904711211428,null,-0.6108300491842281,0.03759538635738854,null,-0.6071234224433525,0.06450904711211428,null],\"y\":[0.0678371654875425,0.18429683101039016,null,0.025395099204798734,0.0678371654875425,null,0.025395099204798734,-0.018998245166329416,null,0.025395099204798734,-0.4733457619456859,null,0.025395099204798734,0.2913226394072438,null,0.025395099204798734,0.5110445043425922,null,0.025395099204798734,0.6069903431670451,null,0.16623559061928916,0.0678371654875425,null,0.16623559061928916,0.9297851428025405,null,0.16623559061928916,0.7934400466518536,null,0.16623559061928916,-0.09159622642304432,null,0.16623559061928916,-0.3997165477488514,null,0.16623559061928916,-0.3087137010659121,null,0.16623559061928916,0.615486782191237,null,0.16623559061928916,0.3307956006468804,null,0.18429683101039016,0.6650834140516094,null,0.18429683101039016,-0.6571029295603813,null,0.18429683101039016,0.6069903431670451,null,0.18429683101039016,0.3307956006468804,null,0.9297851428025405,0.18429683101039016,null,0.08979394880827023,0.9297851428025405,null,0.08979394880827023,-0.3270158562872156,null,0.08979394880827023,-0.6800291251855858,null,0.08979394880827023,-0.3798398908104114,null,0.08979394880827023,0.8826370974333908,null,0.08979394880827023,-0.033845470892476526,null,0.08979394880827023,0.615486782191237,null,0.7934400466518536,0.18429683101039016,null,0.31257622687207287,0.7934400466518536,null,0.31257622687207287,-0.3270158562872156,null,0.31257622687207287,-0.018998245166329416,null,0.31257622687207287,0.25061710821549704,null,0.31257622687207287,0.8826370974333908,null,-0.3270158562872156,0.025395099204798734,null,-0.018998245166329416,0.08979394880827023,null,-0.6800291251855858,0.025395099204798734,null,-0.22710450349418537,-0.6800291251855858,null,-0.22710450349418537,-0.6617996817516392,null,-0.22710450349418537,0.2913226394072438,null,-0.22710450349418537,-0.033845470892476526,null,-0.22710450349418537,0.5110445043425922,null,0.6650834140516094,0.08979394880827023,null,0.07549992914647673,0.6650834140516094,null,0.07549992914647673,-0.4733457619456859,null,0.07549992914647673,-0.7879568524722411,null,0.07549992914647673,-0.3997165477488514,null,0.07549992914647673,-0.3087137010659121,null,0.07549992914647673,0.25061710821549704,null,0.07549992914647673,0.8826370974333908,null,0.07549992914647673,-0.033845470892476526,null,0.07549992914647673,0.5110445043425922,null,0.07549992914647673,0.6069903431670451,null,0.07549992914647673,0.615486782191237,null,0.07549992914647673,0.3307956006468804,null,-0.4733457619456859,0.08979394880827023,null,-0.6617996817516392,0.08979394880827023,null,-0.09159622642304432,0.18429683101039016,null,-0.7517726772547538,0.025395099204798734,null,-1.0,-0.7517726772547538,null,-1.0,-0.7879568524722411,null,-1.0,-0.6571029295603813,null,-1.0,-0.3798398908104114,null,0.2913226394072438,0.08979394880827023,null,-0.7879568524722411,0.025395099204798734,null,-0.3997165477488514,0.08979394880827023,null,-0.3087137010659121,0.18429683101039016,null,-0.6571029295603813,0.025395099204798734,null,0.25061710821549704,0.18429683101039016,null,-0.3798398908104114,0.025395099204798734,null,0.8826370974333908,0.18429683101039016,null,-0.033845470892476526,0.025395099204798734,null,0.5110445043425922,0.08979394880827023,null,0.6069903431670451,0.08979394880827023,null,0.615486782191237,0.18429683101039016,null,0.3307956006468804,0.08979394880827023,null],\"type\":\"scatter\"},{\"hoverinfo\":\"text\",\"marker\":{\"color\":[],\"colorbar\":{\"thickness\":15,\"title\":{\"side\":\"right\",\"text\":\"Node Connections\"},\"xanchor\":\"left\"},\"colorscale\":[[0.0,\"rgb(255,255,217)\"],[0.125,\"rgb(237,248,177)\"],[0.25,\"rgb(199,233,180)\"],[0.375,\"rgb(127,205,187)\"],[0.5,\"rgb(65,182,196)\"],[0.625,\"rgb(29,145,192)\"],[0.75,\"rgb(34,94,168)\"],[0.875,\"rgb(37,52,148)\"],[1.0,\"rgb(8,29,88)\"]],\"line\":{\"width\":2},\"reversescale\":true,\"showscale\":true,\"size\":10},\"mode\":\"markers\",\"text\":[\"0\",\"\\u0414\\u0436\\u0438\\u043d\\u0441\\u044b\",\"\\u041a\\u0440\\u043e\\u0441\\u0441\\u043e\\u0432\\u043a\\u0438\",\"\\u041a\\u0443\\u0440\\u0442\\u043a\\u0430\",\"1\",\"\\u0424\\u0443\\u0442\\u0431\\u043e\\u043b\\u043a\\u0430\",\"2\",\"\\u0420\\u0443\\u0431\\u0430\\u0448\\u043a\\u0430\",\"3\",\"4\",\"5\",\"\\u0411\\u0440\\u044e\\u043a\\u0438\",\"6\",\"\\u0421\\u0443\\u043c\\u043a\\u0430\",\"7\",\"8\",\"9\",\"10\",\"\\u0428\\u0430\\u043f\\u043a\\u0430\",\"11\",\"12\",\"13\",\"14\",\"15\",\"16\",\"17\",\"18\",\"19\",\"20\",\"21\",\"22\",\"23\"],\"x\":[-0.7687635690721414,0.13554426461263916,-0.35816194332876955,0.03759538635738854,-0.043080846472312244,0.06450904711211428,-0.379732124801391,-0.1996329583201803,-0.5659986816175029,0.6354638850326985,-0.16455927519196537,0.3043218712118554,-0.04915350557619968,-0.06375883682824744,-0.47080760629066903,-0.424479140307303,-0.6599511428108669,0.18037862851705466,0.44685014574185733,0.7282287045197458,-0.00574166756181061,0.4978663866267684,-0.26026516762585183,0.46067261908813195,-0.849163584766674,0.7823229902953941,0.30121036791702493,0.8952206119714617,0.6199698515777089,0.39104876161761437,-0.6108300491842281,-0.6071234224433525],\"y\":[0.0678371654875425,0.025395099204798734,0.16623559061928916,0.18429683101039016,0.9297851428025405,0.08979394880827023,0.7934400466518536,0.31257622687207287,-0.3270158562872156,-0.018998245166329416,-0.6800291251855858,-0.22710450349418537,0.6650834140516094,0.07549992914647673,-0.4733457619456859,-0.6617996817516392,-0.09159622642304432,-0.7517726772547538,-1.0,0.2913226394072438,-0.7879568524722411,-0.3997165477488514,-0.3087137010659121,-0.6571029295603813,0.25061710821549704,-0.3798398908104114,0.8826370974333908,-0.033845470892476526,0.5110445043425922,0.6069903431670451,0.615486782191237,0.3307956006468804],\"type\":\"scatter\"}],                        {\"annotations\":[{\"showarrow\":false,\"text\":\"Python code: \\u003ca href='https:\\u002f\\u002fplotly.com\\u002fipython-notebooks\\u002fnetwork-graphs\\u002f'\\u003e https:\\u002f\\u002fplotly.com\\u002fipython-notebooks\\u002fnetwork-graphs\\u002f\\u003c\\u002fa\\u003e\",\"x\":0.005,\"xref\":\"paper\",\"y\":-0.002,\"yref\":\"paper\"}],\"hovermode\":\"closest\",\"margin\":{\"b\":20,\"l\":5,\"r\":5,\"t\":40},\"showlegend\":false,\"title\":{\"font\":{\"size\":16},\"text\":\"\\u003cbr\\u003eNetwork graph made with Python\"},\"xaxis\":{\"showgrid\":false,\"showticklabels\":false,\"zeroline\":false},\"yaxis\":{\"showgrid\":false,\"showticklabels\":false,\"zeroline\":false},\"template\":{\"data\":{\"histogram2dcontour\":[{\"type\":\"histogram2dcontour\",\"colorbar\":{\"outlinewidth\":0,\"ticks\":\"\"},\"colorscale\":[[0.0,\"#0d0887\"],[0.1111111111111111,\"#46039f\"],[0.2222222222222222,\"#7201a8\"],[0.3333333333333333,\"#9c179e\"],[0.4444444444444444,\"#bd3786\"],[0.5555555555555556,\"#d8576b\"],[0.6666666666666666,\"#ed7953\"],[0.7777777777777778,\"#fb9f3a\"],[0.8888888888888888,\"#fdca26\"],[1.0,\"#f0f921\"]]}],\"choropleth\":[{\"type\":\"choropleth\",\"colorbar\":{\"outlinewidth\":0,\"ticks\":\"\"}}],\"histogram2d\":[{\"type\":\"histogram2d\",\"colorbar\":{\"outlinewidth\":0,\"ticks\":\"\"},\"colorscale\":[[0.0,\"#0d0887\"],[0.1111111111111111,\"#46039f\"],[0.2222222222222222,\"#7201a8\"],[0.3333333333333333,\"#9c179e\"],[0.4444444444444444,\"#bd3786\"],[0.5555555555555556,\"#d8576b\"],[0.6666666666666666,\"#ed7953\"],[0.7777777777777778,\"#fb9f3a\"],[0.8888888888888888,\"#fdca26\"],[1.0,\"#f0f921\"]]}],\"heatmap\":[{\"type\":\"heatmap\",\"colorbar\":{\"outlinewidth\":0,\"ticks\":\"\"},\"colorscale\":[[0.0,\"#0d0887\"],[0.1111111111111111,\"#46039f\"],[0.2222222222222222,\"#7201a8\"],[0.3333333333333333,\"#9c179e\"],[0.4444444444444444,\"#bd3786\"],[0.5555555555555556,\"#d8576b\"],[0.6666666666666666,\"#ed7953\"],[0.7777777777777778,\"#fb9f3a\"],[0.8888888888888888,\"#fdca26\"],[1.0,\"#f0f921\"]]}],\"heatmapgl\":[{\"type\":\"heatmapgl\",\"colorbar\":{\"outlinewidth\":0,\"ticks\":\"\"},\"colorscale\":[[0.0,\"#0d0887\"],[0.1111111111111111,\"#46039f\"],[0.2222222222222222,\"#7201a8\"],[0.3333333333333333,\"#9c179e\"],[0.4444444444444444,\"#bd3786\"],[0.5555555555555556,\"#d8576b\"],[0.6666666666666666,\"#ed7953\"],[0.7777777777777778,\"#fb9f3a\"],[0.8888888888888888,\"#fdca26\"],[1.0,\"#f0f921\"]]}],\"contourcarpet\":[{\"type\":\"contourcarpet\",\"colorbar\":{\"outlinewidth\":0,\"ticks\":\"\"}}],\"contour\":[{\"type\":\"contour\",\"colorbar\":{\"outlinewidth\":0,\"ticks\":\"\"},\"colorscale\":[[0.0,\"#0d0887\"],[0.1111111111111111,\"#46039f\"],[0.2222222222222222,\"#7201a8\"],[0.3333333333333333,\"#9c179e\"],[0.4444444444444444,\"#bd3786\"],[0.5555555555555556,\"#d8576b\"],[0.6666666666666666,\"#ed7953\"],[0.7777777777777778,\"#fb9f3a\"],[0.8888888888888888,\"#fdca26\"],[1.0,\"#f0f921\"]]}],\"surface\":[{\"type\":\"surface\",\"colorbar\":{\"outlinewidth\":0,\"ticks\":\"\"},\"colorscale\":[[0.0,\"#0d0887\"],[0.1111111111111111,\"#46039f\"],[0.2222222222222222,\"#7201a8\"],[0.3333333333333333,\"#9c179e\"],[0.4444444444444444,\"#bd3786\"],[0.5555555555555556,\"#d8576b\"],[0.6666666666666666,\"#ed7953\"],[0.7777777777777778,\"#fb9f3a\"],[0.8888888888888888,\"#fdca26\"],[1.0,\"#f0f921\"]]}],\"mesh3d\":[{\"type\":\"mesh3d\",\"colorbar\":{\"outlinewidth\":0,\"ticks\":\"\"}}],\"scatter\":[{\"fillpattern\":{\"fillmode\":\"overlay\",\"size\":10,\"solidity\":0.2},\"type\":\"scatter\"}],\"parcoords\":[{\"type\":\"parcoords\",\"line\":{\"colorbar\":{\"outlinewidth\":0,\"ticks\":\"\"}}}],\"scatterpolargl\":[{\"type\":\"scatterpolargl\",\"marker\":{\"colorbar\":{\"outlinewidth\":0,\"ticks\":\"\"}}}],\"bar\":[{\"error_x\":{\"color\":\"#2a3f5f\"},\"error_y\":{\"color\":\"#2a3f5f\"},\"marker\":{\"line\":{\"color\":\"#E5ECF6\",\"width\":0.5},\"pattern\":{\"fillmode\":\"overlay\",\"size\":10,\"solidity\":0.2}},\"type\":\"bar\"}],\"scattergeo\":[{\"type\":\"scattergeo\",\"marker\":{\"colorbar\":{\"outlinewidth\":0,\"ticks\":\"\"}}}],\"scatterpolar\":[{\"type\":\"scatterpolar\",\"marker\":{\"colorbar\":{\"outlinewidth\":0,\"ticks\":\"\"}}}],\"histogram\":[{\"marker\":{\"pattern\":{\"fillmode\":\"overlay\",\"size\":10,\"solidity\":0.2}},\"type\":\"histogram\"}],\"scattergl\":[{\"type\":\"scattergl\",\"marker\":{\"colorbar\":{\"outlinewidth\":0,\"ticks\":\"\"}}}],\"scatter3d\":[{\"type\":\"scatter3d\",\"line\":{\"colorbar\":{\"outlinewidth\":0,\"ticks\":\"\"}},\"marker\":{\"colorbar\":{\"outlinewidth\":0,\"ticks\":\"\"}}}],\"scattermapbox\":[{\"type\":\"scattermapbox\",\"marker\":{\"colorbar\":{\"outlinewidth\":0,\"ticks\":\"\"}}}],\"scatterternary\":[{\"type\":\"scatterternary\",\"marker\":{\"colorbar\":{\"outlinewidth\":0,\"ticks\":\"\"}}}],\"scattercarpet\":[{\"type\":\"scattercarpet\",\"marker\":{\"colorbar\":{\"outlinewidth\":0,\"ticks\":\"\"}}}],\"carpet\":[{\"aaxis\":{\"endlinecolor\":\"#2a3f5f\",\"gridcolor\":\"white\",\"linecolor\":\"white\",\"minorgridcolor\":\"white\",\"startlinecolor\":\"#2a3f5f\"},\"baxis\":{\"endlinecolor\":\"#2a3f5f\",\"gridcolor\":\"white\",\"linecolor\":\"white\",\"minorgridcolor\":\"white\",\"startlinecolor\":\"#2a3f5f\"},\"type\":\"carpet\"}],\"table\":[{\"cells\":{\"fill\":{\"color\":\"#EBF0F8\"},\"line\":{\"color\":\"white\"}},\"header\":{\"fill\":{\"color\":\"#C8D4E3\"},\"line\":{\"color\":\"white\"}},\"type\":\"table\"}],\"barpolar\":[{\"marker\":{\"line\":{\"color\":\"#E5ECF6\",\"width\":0.5},\"pattern\":{\"fillmode\":\"overlay\",\"size\":10,\"solidity\":0.2}},\"type\":\"barpolar\"}],\"pie\":[{\"automargin\":true,\"type\":\"pie\"}]},\"layout\":{\"autotypenumbers\":\"strict\",\"colorway\":[\"#636efa\",\"#EF553B\",\"#00cc96\",\"#ab63fa\",\"#FFA15A\",\"#19d3f3\",\"#FF6692\",\"#B6E880\",\"#FF97FF\",\"#FECB52\"],\"font\":{\"color\":\"#2a3f5f\"},\"hovermode\":\"closest\",\"hoverlabel\":{\"align\":\"left\"},\"paper_bgcolor\":\"white\",\"plot_bgcolor\":\"#E5ECF6\",\"polar\":{\"bgcolor\":\"#E5ECF6\",\"angularaxis\":{\"gridcolor\":\"white\",\"linecolor\":\"white\",\"ticks\":\"\"},\"radialaxis\":{\"gridcolor\":\"white\",\"linecolor\":\"white\",\"ticks\":\"\"}},\"ternary\":{\"bgcolor\":\"#E5ECF6\",\"aaxis\":{\"gridcolor\":\"white\",\"linecolor\":\"white\",\"ticks\":\"\"},\"baxis\":{\"gridcolor\":\"white\",\"linecolor\":\"white\",\"ticks\":\"\"},\"caxis\":{\"gridcolor\":\"white\",\"linecolor\":\"white\",\"ticks\":\"\"}},\"coloraxis\":{\"colorbar\":{\"outlinewidth\":0,\"ticks\":\"\"}},\"colorscale\":{\"sequential\":[[0.0,\"#0d0887\"],[0.1111111111111111,\"#46039f\"],[0.2222222222222222,\"#7201a8\"],[0.3333333333333333,\"#9c179e\"],[0.4444444444444444,\"#bd3786\"],[0.5555555555555556,\"#d8576b\"],[0.6666666666666666,\"#ed7953\"],[0.7777777777777778,\"#fb9f3a\"],[0.8888888888888888,\"#fdca26\"],[1.0,\"#f0f921\"]],\"sequentialminus\":[[0.0,\"#0d0887\"],[0.1111111111111111,\"#46039f\"],[0.2222222222222222,\"#7201a8\"],[0.3333333333333333,\"#9c179e\"],[0.4444444444444444,\"#bd3786\"],[0.5555555555555556,\"#d8576b\"],[0.6666666666666666,\"#ed7953\"],[0.7777777777777778,\"#fb9f3a\"],[0.8888888888888888,\"#fdca26\"],[1.0,\"#f0f921\"]],\"diverging\":[[0,\"#8e0152\"],[0.1,\"#c51b7d\"],[0.2,\"#de77ae\"],[0.3,\"#f1b6da\"],[0.4,\"#fde0ef\"],[0.5,\"#f7f7f7\"],[0.6,\"#e6f5d0\"],[0.7,\"#b8e186\"],[0.8,\"#7fbc41\"],[0.9,\"#4d9221\"],[1,\"#276419\"]]},\"xaxis\":{\"gridcolor\":\"white\",\"linecolor\":\"white\",\"ticks\":\"\",\"title\":{\"standoff\":15},\"zerolinecolor\":\"white\",\"automargin\":true,\"zerolinewidth\":2},\"yaxis\":{\"gridcolor\":\"white\",\"linecolor\":\"white\",\"ticks\":\"\",\"title\":{\"standoff\":15},\"zerolinecolor\":\"white\",\"automargin\":true,\"zerolinewidth\":2},\"scene\":{\"xaxis\":{\"backgroundcolor\":\"#E5ECF6\",\"gridcolor\":\"white\",\"linecolor\":\"white\",\"showbackground\":true,\"ticks\":\"\",\"zerolinecolor\":\"white\",\"gridwidth\":2},\"yaxis\":{\"backgroundcolor\":\"#E5ECF6\",\"gridcolor\":\"white\",\"linecolor\":\"white\",\"showbackground\":true,\"ticks\":\"\",\"zerolinecolor\":\"white\",\"gridwidth\":2},\"zaxis\":{\"backgroundcolor\":\"#E5ECF6\",\"gridcolor\":\"white\",\"linecolor\":\"white\",\"showbackground\":true,\"ticks\":\"\",\"zerolinecolor\":\"white\",\"gridwidth\":2}},\"shapedefaults\":{\"line\":{\"color\":\"#2a3f5f\"}},\"annotationdefaults\":{\"arrowcolor\":\"#2a3f5f\",\"arrowhead\":0,\"arrowwidth\":1},\"geo\":{\"bgcolor\":\"white\",\"landcolor\":\"#E5ECF6\",\"subunitcolor\":\"white\",\"showland\":true,\"showlakes\":true,\"lakecolor\":\"white\"},\"title\":{\"x\":0.05},\"mapbox\":{\"style\":\"light\"}}}},                        {\"responsive\": true}                    ).then(function(){\n",
       "                            \n",
       "var gd = document.getElementById('3e249fa5-61c0-4ecc-acc7-3f8792fc3adc');\n",
       "var x = new MutationObserver(function (mutations, observer) {{\n",
       "        var display = window.getComputedStyle(gd).display;\n",
       "        if (!display || display === 'none') {{\n",
       "            console.log([gd, 'removed!']);\n",
       "            Plotly.purge(gd);\n",
       "            observer.disconnect();\n",
       "        }}\n",
       "}});\n",
       "\n",
       "// Listen for the removal of the full notebook cells\n",
       "var notebookContainer = gd.closest('#notebook-container');\n",
       "if (notebookContainer) {{\n",
       "    x.observe(notebookContainer, {childList: true});\n",
       "}}\n",
       "\n",
       "// Listen for the clearing of the current output cell\n",
       "var outputEl = gd.closest('.output');\n",
       "if (outputEl) {{\n",
       "    x.observe(outputEl, {childList: true});\n",
       "}}\n",
       "\n",
       "                        })                };                });            </script>        </div>"
      ]
     },
     "metadata": {},
     "output_type": "display_data",
     "jetTransient": {
      "display_id": null
     }
    }
   ],
   "execution_count": 118
  },
  {
   "metadata": {},
   "cell_type": "markdown",
   "source": "efficient_apriori",
   "id": "aedc80074241b2e4"
  },
  {
   "metadata": {
    "ExecuteTime": {
     "end_time": "2025-09-26T06:51:10.020542Z",
     "start_time": "2025-09-26T06:51:10.013828Z"
    }
   },
   "cell_type": "code",
   "source": [
    "def output_efficient_apriori(rules):\n",
    "    rules_pyarmviz = []\n",
    "\n",
    "    for i, r in enumerate(rules):\n",
    "        ant = frozenset(r.lhs)\n",
    "        cons = frozenset(r.rhs)\n",
    "        union = ant | cons\n",
    "\n",
    "        count_ab = sum(1 for t in transactions if union.issubset(t))\n",
    "        count_a = sum(1 for t in transactions if ant.issubset(t))\n",
    "        count_b = sum(1 for t in transactions if cons.issubset(t))\n",
    "\n",
    "        support_ab = count_ab / n_trans\n",
    "        support_a = count_a / n_trans\n",
    "        support_b = count_b / n_trans\n",
    "\n",
    "        lift = support_ab / (support_a * support_b) if support_a * support_b else 0.0\n",
    "\n",
    "        print(f\"{i}: {r.lhs} -> {r.rhs} \"\n",
    "              f\" Support = {support_ab:.3f} Confidence = {r.confidence:.3f} Lift = {lift:.3f}\")\n",
    "\n",
    "        rules_pyarmviz.append(\n",
    "            PyARMViz.Rule.Rule(\n",
    "                lhs=tuple(r.lhs),\n",
    "                rhs=tuple(r.rhs),\n",
    "                count_full=count_ab,\n",
    "                count_lhs=count_a,\n",
    "                count_rhs=count_b,\n",
    "                num_transactions=n_trans\n",
    "            )\n",
    "        )\n",
    "    PyARMViz.metadata_scatter_plot(rules_pyarmviz)\n",
    "    PyARMViz.adjacency_graph_plotly(rules_pyarmviz)\n",
    "    # PyARMViz.adjacency_parallel_coordinate_plot(rules_pyarmviz)\n",
    "    # PyARMViz.adjacency_parallel_category_plot(rules_pyarmviz)\n"
   ],
   "id": "c394a74034f34759",
   "outputs": [],
   "execution_count": 119
  },
  {
   "metadata": {
    "ExecuteTime": {
     "end_time": "2025-09-26T06:51:10.156648Z",
     "start_time": "2025-09-26T06:51:10.057235Z"
    }
   },
   "cell_type": "code",
   "source": [
    "start = time.time()\n",
    "itemsets, rules = efficient_apriori(transactions, min_support=min_sup, min_confidence=0.6)\n",
    "times['efficient-apriori'] = time.time() - start\n",
    "rules = [rule for rule in rules if len(rule.rhs) == 1]\n",
    "output_efficient_apriori(rules)"
   ],
   "id": "a56da7909c89c147",
   "outputs": [
    {
     "name": "stdout",
     "output_type": "stream",
     "text": [
      "0: ('Брюки',) -> ('Джинсы',)  Support = 0.300 Confidence = 0.750 Lift = 1.071\n",
      "1: ('Брюки',) -> ('Сумка',)  Support = 0.250 Confidence = 0.625 Lift = 1.136\n",
      "2: ('Брюки',) -> ('Футболка',)  Support = 0.350 Confidence = 0.875 Lift = 1.250\n",
      "3: ('Кроссовки',) -> ('Джинсы',)  Support = 0.300 Confidence = 0.667 Lift = 0.952\n",
      "4: ('Куртка',) -> ('Джинсы',)  Support = 0.400 Confidence = 0.667 Lift = 0.952\n",
      "5: ('Рубашка',) -> ('Джинсы',)  Support = 0.350 Confidence = 0.700 Lift = 1.000\n",
      "6: ('Сумка',) -> ('Джинсы',)  Support = 0.350 Confidence = 0.636 Lift = 0.909\n",
      "7: ('Футболка',) -> ('Джинсы',)  Support = 0.550 Confidence = 0.786 Lift = 1.122\n",
      "8: ('Джинсы',) -> ('Футболка',)  Support = 0.550 Confidence = 0.786 Lift = 1.122\n",
      "9: ('Шапка',) -> ('Джинсы',)  Support = 0.300 Confidence = 1.000 Lift = 1.429\n",
      "10: ('Куртка',) -> ('Кроссовки',)  Support = 0.400 Confidence = 0.667 Lift = 1.481\n",
      "11: ('Кроссовки',) -> ('Куртка',)  Support = 0.400 Confidence = 0.889 Lift = 1.481\n",
      "12: ('Рубашка',) -> ('Кроссовки',)  Support = 0.300 Confidence = 0.600 Lift = 1.333\n",
      "13: ('Кроссовки',) -> ('Рубашка',)  Support = 0.300 Confidence = 0.667 Lift = 1.333\n",
      "14: ('Кроссовки',) -> ('Футболка',)  Support = 0.300 Confidence = 0.667 Lift = 0.952\n",
      "15: ('Рубашка',) -> ('Куртка',)  Support = 0.400 Confidence = 0.800 Lift = 1.333\n",
      "16: ('Куртка',) -> ('Рубашка',)  Support = 0.400 Confidence = 0.667 Lift = 1.333\n",
      "17: ('Сумка',) -> ('Куртка',)  Support = 0.350 Confidence = 0.636 Lift = 1.061\n",
      "18: ('Куртка',) -> ('Футболка',)  Support = 0.400 Confidence = 0.667 Lift = 0.952\n",
      "19: ('Шапка',) -> ('Куртка',)  Support = 0.200 Confidence = 0.667 Lift = 1.111\n",
      "20: ('Рубашка',) -> ('Футболка',)  Support = 0.350 Confidence = 0.700 Lift = 1.000\n",
      "21: ('Сумка',) -> ('Футболка',)  Support = 0.400 Confidence = 0.727 Lift = 1.039\n",
      "22: ('Шапка',) -> ('Сумка',)  Support = 0.200 Confidence = 0.667 Lift = 1.212\n",
      "23: ('Шапка',) -> ('Футболка',)  Support = 0.200 Confidence = 0.667 Lift = 0.952\n",
      "24: ('Брюки', 'Сумка') -> ('Джинсы',)  Support = 0.200 Confidence = 0.800 Lift = 1.143\n",
      "25: ('Брюки', 'Джинсы') -> ('Сумка',)  Support = 0.200 Confidence = 0.667 Lift = 1.212\n",
      "26: ('Брюки', 'Футболка') -> ('Джинсы',)  Support = 0.300 Confidence = 0.857 Lift = 1.224\n",
      "27: ('Брюки', 'Джинсы') -> ('Футболка',)  Support = 0.300 Confidence = 1.000 Lift = 1.429\n",
      "28: ('Брюки', 'Сумка') -> ('Футболка',)  Support = 0.200 Confidence = 0.800 Lift = 1.143\n",
      "29: ('Кроссовки', 'Куртка') -> ('Джинсы',)  Support = 0.250 Confidence = 0.625 Lift = 0.893\n",
      "30: ('Джинсы', 'Куртка') -> ('Кроссовки',)  Support = 0.250 Confidence = 0.625 Lift = 1.389\n",
      "31: ('Джинсы', 'Кроссовки') -> ('Куртка',)  Support = 0.250 Confidence = 0.833 Lift = 1.389\n",
      "32: ('Кроссовки', 'Рубашка') -> ('Джинсы',)  Support = 0.200 Confidence = 0.667 Lift = 0.952\n",
      "33: ('Джинсы', 'Кроссовки') -> ('Рубашка',)  Support = 0.200 Confidence = 0.667 Lift = 1.333\n",
      "34: ('Кроссовки', 'Футболка') -> ('Джинсы',)  Support = 0.200 Confidence = 0.667 Lift = 0.952\n",
      "35: ('Джинсы', 'Кроссовки') -> ('Футболка',)  Support = 0.200 Confidence = 0.667 Lift = 0.952\n",
      "36: ('Куртка', 'Рубашка') -> ('Джинсы',)  Support = 0.250 Confidence = 0.625 Lift = 0.893\n",
      "37: ('Джинсы', 'Рубашка') -> ('Куртка',)  Support = 0.250 Confidence = 0.714 Lift = 1.190\n",
      "38: ('Джинсы', 'Куртка') -> ('Рубашка',)  Support = 0.250 Confidence = 0.625 Lift = 1.250\n",
      "39: ('Куртка', 'Футболка') -> ('Джинсы',)  Support = 0.300 Confidence = 0.750 Lift = 1.071\n",
      "40: ('Джинсы', 'Куртка') -> ('Футболка',)  Support = 0.300 Confidence = 0.750 Lift = 1.071\n",
      "41: ('Куртка', 'Шапка') -> ('Джинсы',)  Support = 0.200 Confidence = 1.000 Lift = 1.429\n",
      "42: ('Джинсы', 'Шапка') -> ('Куртка',)  Support = 0.200 Confidence = 0.667 Lift = 1.111\n",
      "43: ('Рубашка', 'Футболка') -> ('Джинсы',)  Support = 0.300 Confidence = 0.857 Lift = 1.224\n",
      "44: ('Джинсы', 'Рубашка') -> ('Футболка',)  Support = 0.300 Confidence = 0.857 Lift = 1.224\n",
      "45: ('Сумка', 'Футболка') -> ('Джинсы',)  Support = 0.300 Confidence = 0.750 Lift = 1.071\n",
      "46: ('Джинсы', 'Сумка') -> ('Футболка',)  Support = 0.300 Confidence = 0.857 Lift = 1.224\n",
      "47: ('Сумка', 'Шапка') -> ('Джинсы',)  Support = 0.200 Confidence = 1.000 Lift = 1.429\n",
      "48: ('Джинсы', 'Шапка') -> ('Сумка',)  Support = 0.200 Confidence = 0.667 Lift = 1.212\n",
      "49: ('Футболка', 'Шапка') -> ('Джинсы',)  Support = 0.200 Confidence = 1.000 Lift = 1.429\n",
      "50: ('Джинсы', 'Шапка') -> ('Футболка',)  Support = 0.200 Confidence = 0.667 Lift = 0.952\n",
      "51: ('Куртка', 'Рубашка') -> ('Кроссовки',)  Support = 0.250 Confidence = 0.625 Lift = 1.389\n",
      "52: ('Кроссовки', 'Рубашка') -> ('Куртка',)  Support = 0.250 Confidence = 0.833 Lift = 1.389\n",
      "53: ('Кроссовки', 'Куртка') -> ('Рубашка',)  Support = 0.250 Confidence = 0.625 Lift = 1.250\n",
      "54: ('Кроссовки', 'Сумка') -> ('Куртка',)  Support = 0.200 Confidence = 1.000 Lift = 1.667\n",
      "55: ('Куртка', 'Футболка') -> ('Кроссовки',)  Support = 0.250 Confidence = 0.625 Lift = 1.389\n",
      "56: ('Кроссовки', 'Футболка') -> ('Куртка',)  Support = 0.250 Confidence = 0.833 Lift = 1.389\n",
      "57: ('Кроссовки', 'Куртка') -> ('Футболка',)  Support = 0.250 Confidence = 0.625 Lift = 0.893\n",
      "58: ('Кроссовки', 'Футболка') -> ('Рубашка',)  Support = 0.200 Confidence = 0.667 Lift = 1.333\n",
      "59: ('Кроссовки', 'Рубашка') -> ('Футболка',)  Support = 0.200 Confidence = 0.667 Lift = 0.952\n",
      "60: ('Кроссовки', 'Футболка') -> ('Сумка',)  Support = 0.200 Confidence = 0.667 Lift = 1.212\n",
      "61: ('Кроссовки', 'Сумка') -> ('Футболка',)  Support = 0.200 Confidence = 1.000 Lift = 1.429\n",
      "62: ('Рубашка', 'Сумка') -> ('Куртка',)  Support = 0.250 Confidence = 1.000 Lift = 1.667\n",
      "63: ('Куртка', 'Сумка') -> ('Рубашка',)  Support = 0.250 Confidence = 0.714 Lift = 1.429\n",
      "64: ('Куртка', 'Рубашка') -> ('Сумка',)  Support = 0.250 Confidence = 0.625 Lift = 1.136\n",
      "65: ('Рубашка', 'Футболка') -> ('Куртка',)  Support = 0.250 Confidence = 0.714 Lift = 1.190\n",
      "66: ('Куртка', 'Футболка') -> ('Рубашка',)  Support = 0.250 Confidence = 0.625 Lift = 1.250\n",
      "67: ('Куртка', 'Рубашка') -> ('Футболка',)  Support = 0.250 Confidence = 0.625 Lift = 0.893\n",
      "68: ('Сумка', 'Футболка') -> ('Куртка',)  Support = 0.300 Confidence = 0.750 Lift = 1.250\n",
      "69: ('Куртка', 'Футболка') -> ('Сумка',)  Support = 0.300 Confidence = 0.750 Lift = 1.364\n",
      "70: ('Куртка', 'Сумка') -> ('Футболка',)  Support = 0.300 Confidence = 0.857 Lift = 1.224\n",
      "71: ('Рубашка', 'Сумка') -> ('Футболка',)  Support = 0.200 Confidence = 0.800 Lift = 1.143\n",
      "72: ('Джинсы', 'Сумка', 'Футболка') -> ('Брюки',)  Support = 0.200 Confidence = 0.667 Lift = 1.667\n",
      "73: ('Брюки', 'Сумка', 'Футболка') -> ('Джинсы',)  Support = 0.200 Confidence = 1.000 Lift = 1.429\n",
      "74: ('Брюки', 'Джинсы', 'Футболка') -> ('Сумка',)  Support = 0.200 Confidence = 0.667 Lift = 1.212\n",
      "75: ('Брюки', 'Джинсы', 'Сумка') -> ('Футболка',)  Support = 0.200 Confidence = 1.000 Lift = 1.429\n",
      "76: ('Куртка', 'Рубашка', 'Футболка') -> ('Джинсы',)  Support = 0.200 Confidence = 0.800 Lift = 1.143\n",
      "77: ('Джинсы', 'Рубашка', 'Футболка') -> ('Куртка',)  Support = 0.200 Confidence = 0.667 Lift = 1.111\n",
      "78: ('Джинсы', 'Куртка', 'Футболка') -> ('Рубашка',)  Support = 0.200 Confidence = 0.667 Lift = 1.333\n",
      "79: ('Джинсы', 'Куртка', 'Рубашка') -> ('Футболка',)  Support = 0.200 Confidence = 0.800 Lift = 1.143\n",
      "80: ('Куртка', 'Сумка', 'Футболка') -> ('Джинсы',)  Support = 0.200 Confidence = 0.667 Lift = 0.952\n",
      "81: ('Джинсы', 'Сумка', 'Футболка') -> ('Куртка',)  Support = 0.200 Confidence = 0.667 Lift = 1.111\n",
      "82: ('Джинсы', 'Куртка', 'Футболка') -> ('Сумка',)  Support = 0.200 Confidence = 0.667 Lift = 1.212\n",
      "83: ('Джинсы', 'Куртка', 'Сумка') -> ('Футболка',)  Support = 0.200 Confidence = 1.000 Lift = 1.429\n",
      "84: ('Куртка', 'Сумка', 'Футболка') -> ('Кроссовки',)  Support = 0.200 Confidence = 0.667 Lift = 1.481\n",
      "85: ('Кроссовки', 'Сумка', 'Футболка') -> ('Куртка',)  Support = 0.200 Confidence = 1.000 Lift = 1.667\n",
      "86: ('Кроссовки', 'Куртка', 'Футболка') -> ('Сумка',)  Support = 0.200 Confidence = 0.800 Lift = 1.455\n",
      "87: ('Кроссовки', 'Куртка', 'Сумка') -> ('Футболка',)  Support = 0.200 Confidence = 1.000 Lift = 1.429\n",
      "88: ('Рубашка', 'Сумка', 'Футболка') -> ('Куртка',)  Support = 0.200 Confidence = 1.000 Lift = 1.667\n",
      "89: ('Куртка', 'Сумка', 'Футболка') -> ('Рубашка',)  Support = 0.200 Confidence = 0.667 Lift = 1.333\n",
      "90: ('Куртка', 'Рубашка', 'Футболка') -> ('Сумка',)  Support = 0.200 Confidence = 0.800 Lift = 1.455\n",
      "91: ('Куртка', 'Рубашка', 'Сумка') -> ('Футболка',)  Support = 0.200 Confidence = 0.800 Lift = 1.143\n"
     ]
    },
    {
     "data": {
      "application/vnd.plotly.v1+json": {
       "data": [
        {
         "marker": {
          "color": [
           1.0714285714285714,
           1.1363636363636365,
           1.2499999999999998,
           0.9523809523809523,
           0.9523809523809524,
           1.0,
           0.9090909090909091,
           1.1224489795918369,
           1.1224489795918369,
           1.4285714285714286,
           1.4814814814814814,
           1.4814814814814814,
           1.3333333333333333,
           1.3333333333333333,
           0.9523809523809523,
           1.3333333333333335,
           1.3333333333333335,
           1.0606060606060606,
           0.9523809523809524,
           1.1111111111111112,
           1.0,
           1.038961038961039,
           1.2121212121212122,
           0.9523809523809524
          ],
          "colorbar": {
           "title": {
            "text": "Lift"
           }
          },
          "colorscale": [
           [
            0.0,
            "rgb(243, 224, 247)"
           ],
           [
            0.16666666666666666,
            "rgb(228, 199, 241)"
           ],
           [
            0.3333333333333333,
            "rgb(209, 175, 232)"
           ],
           [
            0.5,
            "rgb(185, 152, 221)"
           ],
           [
            0.6666666666666666,
            "rgb(159, 130, 206)"
           ],
           [
            0.8333333333333334,
            "rgb(130, 109, 186)"
           ],
           [
            1.0,
            "rgb(99, 88, 159)"
           ]
          ]
         },
         "mode": "markers",
         "text": [
          "('Брюки',) => ('Джинсы',), Lift: 1.0714285714285714",
          "('Брюки',) => ('Сумка',), Lift: 1.1363636363636365",
          "('Брюки',) => ('Футболка',), Lift: 1.2499999999999998",
          "('Кроссовки',) => ('Джинсы',), Lift: 0.9523809523809523",
          "('Куртка',) => ('Джинсы',), Lift: 0.9523809523809524",
          "('Рубашка',) => ('Джинсы',), Lift: 1.0",
          "('Сумка',) => ('Джинсы',), Lift: 0.9090909090909091",
          "('Футболка',) => ('Джинсы',), Lift: 1.1224489795918369",
          "('Джинсы',) => ('Футболка',), Lift: 1.1224489795918369",
          "('Шапка',) => ('Джинсы',), Lift: 1.4285714285714286",
          "('Куртка',) => ('Кроссовки',), Lift: 1.4814814814814814",
          "('Кроссовки',) => ('Куртка',), Lift: 1.4814814814814814",
          "('Рубашка',) => ('Кроссовки',), Lift: 1.3333333333333333",
          "('Кроссовки',) => ('Рубашка',), Lift: 1.3333333333333333",
          "('Кроссовки',) => ('Футболка',), Lift: 0.9523809523809523",
          "('Рубашка',) => ('Куртка',), Lift: 1.3333333333333335",
          "('Куртка',) => ('Рубашка',), Lift: 1.3333333333333335",
          "('Сумка',) => ('Куртка',), Lift: 1.0606060606060606",
          "('Куртка',) => ('Футболка',), Lift: 0.9523809523809524",
          "('Шапка',) => ('Куртка',), Lift: 1.1111111111111112",
          "('Рубашка',) => ('Футболка',), Lift: 1.0",
          "('Сумка',) => ('Футболка',), Lift: 1.038961038961039",
          "('Шапка',) => ('Сумка',), Lift: 1.2121212121212122",
          "('Шапка',) => ('Футболка',), Lift: 0.9523809523809524"
         ],
         "x": [
          0.3,
          0.25,
          0.35,
          0.3,
          0.4,
          0.35,
          0.35,
          0.55,
          0.55,
          0.3,
          0.4,
          0.4,
          0.3,
          0.3,
          0.3,
          0.4,
          0.4,
          0.35,
          0.4,
          0.2,
          0.35,
          0.4,
          0.2,
          0.2
         ],
         "y": [
          0.75,
          0.625,
          0.875,
          0.6666666666666666,
          0.6666666666666666,
          0.7,
          0.6363636363636364,
          0.7857142857142857,
          0.7857142857142857,
          1.0,
          0.6666666666666666,
          0.8888888888888888,
          0.6,
          0.6666666666666666,
          0.6666666666666666,
          0.8,
          0.6666666666666666,
          0.6363636363636364,
          0.6666666666666666,
          0.6666666666666666,
          0.7,
          0.7272727272727273,
          0.6666666666666666,
          0.6666666666666666
         ],
         "type": "scatter"
        }
       ],
       "layout": {
        "template": {
         "data": {
          "histogram2dcontour": [
           {
            "type": "histogram2dcontour",
            "colorbar": {
             "outlinewidth": 0,
             "ticks": ""
            },
            "colorscale": [
             [
              0.0,
              "#0d0887"
             ],
             [
              0.1111111111111111,
              "#46039f"
             ],
             [
              0.2222222222222222,
              "#7201a8"
             ],
             [
              0.3333333333333333,
              "#9c179e"
             ],
             [
              0.4444444444444444,
              "#bd3786"
             ],
             [
              0.5555555555555556,
              "#d8576b"
             ],
             [
              0.6666666666666666,
              "#ed7953"
             ],
             [
              0.7777777777777778,
              "#fb9f3a"
             ],
             [
              0.8888888888888888,
              "#fdca26"
             ],
             [
              1.0,
              "#f0f921"
             ]
            ]
           }
          ],
          "choropleth": [
           {
            "type": "choropleth",
            "colorbar": {
             "outlinewidth": 0,
             "ticks": ""
            }
           }
          ],
          "histogram2d": [
           {
            "type": "histogram2d",
            "colorbar": {
             "outlinewidth": 0,
             "ticks": ""
            },
            "colorscale": [
             [
              0.0,
              "#0d0887"
             ],
             [
              0.1111111111111111,
              "#46039f"
             ],
             [
              0.2222222222222222,
              "#7201a8"
             ],
             [
              0.3333333333333333,
              "#9c179e"
             ],
             [
              0.4444444444444444,
              "#bd3786"
             ],
             [
              0.5555555555555556,
              "#d8576b"
             ],
             [
              0.6666666666666666,
              "#ed7953"
             ],
             [
              0.7777777777777778,
              "#fb9f3a"
             ],
             [
              0.8888888888888888,
              "#fdca26"
             ],
             [
              1.0,
              "#f0f921"
             ]
            ]
           }
          ],
          "heatmap": [
           {
            "type": "heatmap",
            "colorbar": {
             "outlinewidth": 0,
             "ticks": ""
            },
            "colorscale": [
             [
              0.0,
              "#0d0887"
             ],
             [
              0.1111111111111111,
              "#46039f"
             ],
             [
              0.2222222222222222,
              "#7201a8"
             ],
             [
              0.3333333333333333,
              "#9c179e"
             ],
             [
              0.4444444444444444,
              "#bd3786"
             ],
             [
              0.5555555555555556,
              "#d8576b"
             ],
             [
              0.6666666666666666,
              "#ed7953"
             ],
             [
              0.7777777777777778,
              "#fb9f3a"
             ],
             [
              0.8888888888888888,
              "#fdca26"
             ],
             [
              1.0,
              "#f0f921"
             ]
            ]
           }
          ],
          "heatmapgl": [
           {
            "type": "heatmapgl",
            "colorbar": {
             "outlinewidth": 0,
             "ticks": ""
            },
            "colorscale": [
             [
              0.0,
              "#0d0887"
             ],
             [
              0.1111111111111111,
              "#46039f"
             ],
             [
              0.2222222222222222,
              "#7201a8"
             ],
             [
              0.3333333333333333,
              "#9c179e"
             ],
             [
              0.4444444444444444,
              "#bd3786"
             ],
             [
              0.5555555555555556,
              "#d8576b"
             ],
             [
              0.6666666666666666,
              "#ed7953"
             ],
             [
              0.7777777777777778,
              "#fb9f3a"
             ],
             [
              0.8888888888888888,
              "#fdca26"
             ],
             [
              1.0,
              "#f0f921"
             ]
            ]
           }
          ],
          "contourcarpet": [
           {
            "type": "contourcarpet",
            "colorbar": {
             "outlinewidth": 0,
             "ticks": ""
            }
           }
          ],
          "contour": [
           {
            "type": "contour",
            "colorbar": {
             "outlinewidth": 0,
             "ticks": ""
            },
            "colorscale": [
             [
              0.0,
              "#0d0887"
             ],
             [
              0.1111111111111111,
              "#46039f"
             ],
             [
              0.2222222222222222,
              "#7201a8"
             ],
             [
              0.3333333333333333,
              "#9c179e"
             ],
             [
              0.4444444444444444,
              "#bd3786"
             ],
             [
              0.5555555555555556,
              "#d8576b"
             ],
             [
              0.6666666666666666,
              "#ed7953"
             ],
             [
              0.7777777777777778,
              "#fb9f3a"
             ],
             [
              0.8888888888888888,
              "#fdca26"
             ],
             [
              1.0,
              "#f0f921"
             ]
            ]
           }
          ],
          "surface": [
           {
            "type": "surface",
            "colorbar": {
             "outlinewidth": 0,
             "ticks": ""
            },
            "colorscale": [
             [
              0.0,
              "#0d0887"
             ],
             [
              0.1111111111111111,
              "#46039f"
             ],
             [
              0.2222222222222222,
              "#7201a8"
             ],
             [
              0.3333333333333333,
              "#9c179e"
             ],
             [
              0.4444444444444444,
              "#bd3786"
             ],
             [
              0.5555555555555556,
              "#d8576b"
             ],
             [
              0.6666666666666666,
              "#ed7953"
             ],
             [
              0.7777777777777778,
              "#fb9f3a"
             ],
             [
              0.8888888888888888,
              "#fdca26"
             ],
             [
              1.0,
              "#f0f921"
             ]
            ]
           }
          ],
          "mesh3d": [
           {
            "type": "mesh3d",
            "colorbar": {
             "outlinewidth": 0,
             "ticks": ""
            }
           }
          ],
          "scatter": [
           {
            "fillpattern": {
             "fillmode": "overlay",
             "size": 10,
             "solidity": 0.2
            },
            "type": "scatter"
           }
          ],
          "parcoords": [
           {
            "type": "parcoords",
            "line": {
             "colorbar": {
              "outlinewidth": 0,
              "ticks": ""
             }
            }
           }
          ],
          "scatterpolargl": [
           {
            "type": "scatterpolargl",
            "marker": {
             "colorbar": {
              "outlinewidth": 0,
              "ticks": ""
             }
            }
           }
          ],
          "bar": [
           {
            "error_x": {
             "color": "#2a3f5f"
            },
            "error_y": {
             "color": "#2a3f5f"
            },
            "marker": {
             "line": {
              "color": "#E5ECF6",
              "width": 0.5
             },
             "pattern": {
              "fillmode": "overlay",
              "size": 10,
              "solidity": 0.2
             }
            },
            "type": "bar"
           }
          ],
          "scattergeo": [
           {
            "type": "scattergeo",
            "marker": {
             "colorbar": {
              "outlinewidth": 0,
              "ticks": ""
             }
            }
           }
          ],
          "scatterpolar": [
           {
            "type": "scatterpolar",
            "marker": {
             "colorbar": {
              "outlinewidth": 0,
              "ticks": ""
             }
            }
           }
          ],
          "histogram": [
           {
            "marker": {
             "pattern": {
              "fillmode": "overlay",
              "size": 10,
              "solidity": 0.2
             }
            },
            "type": "histogram"
           }
          ],
          "scattergl": [
           {
            "type": "scattergl",
            "marker": {
             "colorbar": {
              "outlinewidth": 0,
              "ticks": ""
             }
            }
           }
          ],
          "scatter3d": [
           {
            "type": "scatter3d",
            "line": {
             "colorbar": {
              "outlinewidth": 0,
              "ticks": ""
             }
            },
            "marker": {
             "colorbar": {
              "outlinewidth": 0,
              "ticks": ""
             }
            }
           }
          ],
          "scattermapbox": [
           {
            "type": "scattermapbox",
            "marker": {
             "colorbar": {
              "outlinewidth": 0,
              "ticks": ""
             }
            }
           }
          ],
          "scatterternary": [
           {
            "type": "scatterternary",
            "marker": {
             "colorbar": {
              "outlinewidth": 0,
              "ticks": ""
             }
            }
           }
          ],
          "scattercarpet": [
           {
            "type": "scattercarpet",
            "marker": {
             "colorbar": {
              "outlinewidth": 0,
              "ticks": ""
             }
            }
           }
          ],
          "carpet": [
           {
            "aaxis": {
             "endlinecolor": "#2a3f5f",
             "gridcolor": "white",
             "linecolor": "white",
             "minorgridcolor": "white",
             "startlinecolor": "#2a3f5f"
            },
            "baxis": {
             "endlinecolor": "#2a3f5f",
             "gridcolor": "white",
             "linecolor": "white",
             "minorgridcolor": "white",
             "startlinecolor": "#2a3f5f"
            },
            "type": "carpet"
           }
          ],
          "table": [
           {
            "cells": {
             "fill": {
              "color": "#EBF0F8"
             },
             "line": {
              "color": "white"
             }
            },
            "header": {
             "fill": {
              "color": "#C8D4E3"
             },
             "line": {
              "color": "white"
             }
            },
            "type": "table"
           }
          ],
          "barpolar": [
           {
            "marker": {
             "line": {
              "color": "#E5ECF6",
              "width": 0.5
             },
             "pattern": {
              "fillmode": "overlay",
              "size": 10,
              "solidity": 0.2
             }
            },
            "type": "barpolar"
           }
          ],
          "pie": [
           {
            "automargin": true,
            "type": "pie"
           }
          ]
         },
         "layout": {
          "autotypenumbers": "strict",
          "colorway": [
           "#636efa",
           "#EF553B",
           "#00cc96",
           "#ab63fa",
           "#FFA15A",
           "#19d3f3",
           "#FF6692",
           "#B6E880",
           "#FF97FF",
           "#FECB52"
          ],
          "font": {
           "color": "#2a3f5f"
          },
          "hovermode": "closest",
          "hoverlabel": {
           "align": "left"
          },
          "paper_bgcolor": "white",
          "plot_bgcolor": "#E5ECF6",
          "polar": {
           "bgcolor": "#E5ECF6",
           "angularaxis": {
            "gridcolor": "white",
            "linecolor": "white",
            "ticks": ""
           },
           "radialaxis": {
            "gridcolor": "white",
            "linecolor": "white",
            "ticks": ""
           }
          },
          "ternary": {
           "bgcolor": "#E5ECF6",
           "aaxis": {
            "gridcolor": "white",
            "linecolor": "white",
            "ticks": ""
           },
           "baxis": {
            "gridcolor": "white",
            "linecolor": "white",
            "ticks": ""
           },
           "caxis": {
            "gridcolor": "white",
            "linecolor": "white",
            "ticks": ""
           }
          },
          "coloraxis": {
           "colorbar": {
            "outlinewidth": 0,
            "ticks": ""
           }
          },
          "colorscale": {
           "sequential": [
            [
             0.0,
             "#0d0887"
            ],
            [
             0.1111111111111111,
             "#46039f"
            ],
            [
             0.2222222222222222,
             "#7201a8"
            ],
            [
             0.3333333333333333,
             "#9c179e"
            ],
            [
             0.4444444444444444,
             "#bd3786"
            ],
            [
             0.5555555555555556,
             "#d8576b"
            ],
            [
             0.6666666666666666,
             "#ed7953"
            ],
            [
             0.7777777777777778,
             "#fb9f3a"
            ],
            [
             0.8888888888888888,
             "#fdca26"
            ],
            [
             1.0,
             "#f0f921"
            ]
           ],
           "sequentialminus": [
            [
             0.0,
             "#0d0887"
            ],
            [
             0.1111111111111111,
             "#46039f"
            ],
            [
             0.2222222222222222,
             "#7201a8"
            ],
            [
             0.3333333333333333,
             "#9c179e"
            ],
            [
             0.4444444444444444,
             "#bd3786"
            ],
            [
             0.5555555555555556,
             "#d8576b"
            ],
            [
             0.6666666666666666,
             "#ed7953"
            ],
            [
             0.7777777777777778,
             "#fb9f3a"
            ],
            [
             0.8888888888888888,
             "#fdca26"
            ],
            [
             1.0,
             "#f0f921"
            ]
           ],
           "diverging": [
            [
             0,
             "#8e0152"
            ],
            [
             0.1,
             "#c51b7d"
            ],
            [
             0.2,
             "#de77ae"
            ],
            [
             0.3,
             "#f1b6da"
            ],
            [
             0.4,
             "#fde0ef"
            ],
            [
             0.5,
             "#f7f7f7"
            ],
            [
             0.6,
             "#e6f5d0"
            ],
            [
             0.7,
             "#b8e186"
            ],
            [
             0.8,
             "#7fbc41"
            ],
            [
             0.9,
             "#4d9221"
            ],
            [
             1,
             "#276419"
            ]
           ]
          },
          "xaxis": {
           "gridcolor": "white",
           "linecolor": "white",
           "ticks": "",
           "title": {
            "standoff": 15
           },
           "zerolinecolor": "white",
           "automargin": true,
           "zerolinewidth": 2
          },
          "yaxis": {
           "gridcolor": "white",
           "linecolor": "white",
           "ticks": "",
           "title": {
            "standoff": 15
           },
           "zerolinecolor": "white",
           "automargin": true,
           "zerolinewidth": 2
          },
          "scene": {
           "xaxis": {
            "backgroundcolor": "#E5ECF6",
            "gridcolor": "white",
            "linecolor": "white",
            "showbackground": true,
            "ticks": "",
            "zerolinecolor": "white",
            "gridwidth": 2
           },
           "yaxis": {
            "backgroundcolor": "#E5ECF6",
            "gridcolor": "white",
            "linecolor": "white",
            "showbackground": true,
            "ticks": "",
            "zerolinecolor": "white",
            "gridwidth": 2
           },
           "zaxis": {
            "backgroundcolor": "#E5ECF6",
            "gridcolor": "white",
            "linecolor": "white",
            "showbackground": true,
            "ticks": "",
            "zerolinecolor": "white",
            "gridwidth": 2
           }
          },
          "shapedefaults": {
           "line": {
            "color": "#2a3f5f"
           }
          },
          "annotationdefaults": {
           "arrowcolor": "#2a3f5f",
           "arrowhead": 0,
           "arrowwidth": 1
          },
          "geo": {
           "bgcolor": "white",
           "landcolor": "#E5ECF6",
           "subunitcolor": "white",
           "showland": true,
           "showlakes": true,
           "lakecolor": "white"
          },
          "title": {
           "x": 0.05
          },
          "mapbox": {
           "style": "light"
          }
         }
        },
        "xaxis": {
         "title": {
          "text": "Support"
         },
         "autorange": "reversed"
        },
        "title": {
         "text": "Association Rules Strength Distribution"
        },
        "yaxis": {
         "title": {
          "text": "Confidence"
         }
        }
       },
       "config": {
        "plotlyServerURL": "https://plot.ly"
       }
      },
      "text/html": [
       "<div>                            <div id=\"63b38696-fb31-403a-b925-cb97d989eb68\" class=\"plotly-graph-div\" style=\"height:525px; width:100%;\"></div>            <script type=\"text/javascript\">                require([\"plotly\"], function(Plotly) {                    window.PLOTLYENV=window.PLOTLYENV || {};                                    if (document.getElementById(\"63b38696-fb31-403a-b925-cb97d989eb68\")) {                    Plotly.newPlot(                        \"63b38696-fb31-403a-b925-cb97d989eb68\",                        [{\"marker\":{\"color\":[1.0714285714285714,1.1363636363636365,1.2499999999999998,0.9523809523809523,0.9523809523809524,1.0,0.9090909090909091,1.1224489795918369,1.1224489795918369,1.4285714285714286,1.4814814814814814,1.4814814814814814,1.3333333333333333,1.3333333333333333,0.9523809523809523,1.3333333333333335,1.3333333333333335,1.0606060606060606,0.9523809523809524,1.1111111111111112,1.0,1.038961038961039,1.2121212121212122,0.9523809523809524],\"colorbar\":{\"title\":{\"text\":\"Lift\"}},\"colorscale\":[[0.0,\"rgb(243, 224, 247)\"],[0.16666666666666666,\"rgb(228, 199, 241)\"],[0.3333333333333333,\"rgb(209, 175, 232)\"],[0.5,\"rgb(185, 152, 221)\"],[0.6666666666666666,\"rgb(159, 130, 206)\"],[0.8333333333333334,\"rgb(130, 109, 186)\"],[1.0,\"rgb(99, 88, 159)\"]]},\"mode\":\"markers\",\"text\":[\"('\\u0411\\u0440\\u044e\\u043a\\u0438',) =\\u003e ('\\u0414\\u0436\\u0438\\u043d\\u0441\\u044b',), Lift: 1.0714285714285714\",\"('\\u0411\\u0440\\u044e\\u043a\\u0438',) =\\u003e ('\\u0421\\u0443\\u043c\\u043a\\u0430',), Lift: 1.1363636363636365\",\"('\\u0411\\u0440\\u044e\\u043a\\u0438',) =\\u003e ('\\u0424\\u0443\\u0442\\u0431\\u043e\\u043b\\u043a\\u0430',), Lift: 1.2499999999999998\",\"('\\u041a\\u0440\\u043e\\u0441\\u0441\\u043e\\u0432\\u043a\\u0438',) =\\u003e ('\\u0414\\u0436\\u0438\\u043d\\u0441\\u044b',), Lift: 0.9523809523809523\",\"('\\u041a\\u0443\\u0440\\u0442\\u043a\\u0430',) =\\u003e ('\\u0414\\u0436\\u0438\\u043d\\u0441\\u044b',), Lift: 0.9523809523809524\",\"('\\u0420\\u0443\\u0431\\u0430\\u0448\\u043a\\u0430',) =\\u003e ('\\u0414\\u0436\\u0438\\u043d\\u0441\\u044b',), Lift: 1.0\",\"('\\u0421\\u0443\\u043c\\u043a\\u0430',) =\\u003e ('\\u0414\\u0436\\u0438\\u043d\\u0441\\u044b',), Lift: 0.9090909090909091\",\"('\\u0424\\u0443\\u0442\\u0431\\u043e\\u043b\\u043a\\u0430',) =\\u003e ('\\u0414\\u0436\\u0438\\u043d\\u0441\\u044b',), Lift: 1.1224489795918369\",\"('\\u0414\\u0436\\u0438\\u043d\\u0441\\u044b',) =\\u003e ('\\u0424\\u0443\\u0442\\u0431\\u043e\\u043b\\u043a\\u0430',), Lift: 1.1224489795918369\",\"('\\u0428\\u0430\\u043f\\u043a\\u0430',) =\\u003e ('\\u0414\\u0436\\u0438\\u043d\\u0441\\u044b',), Lift: 1.4285714285714286\",\"('\\u041a\\u0443\\u0440\\u0442\\u043a\\u0430',) =\\u003e ('\\u041a\\u0440\\u043e\\u0441\\u0441\\u043e\\u0432\\u043a\\u0438',), Lift: 1.4814814814814814\",\"('\\u041a\\u0440\\u043e\\u0441\\u0441\\u043e\\u0432\\u043a\\u0438',) =\\u003e ('\\u041a\\u0443\\u0440\\u0442\\u043a\\u0430',), Lift: 1.4814814814814814\",\"('\\u0420\\u0443\\u0431\\u0430\\u0448\\u043a\\u0430',) =\\u003e ('\\u041a\\u0440\\u043e\\u0441\\u0441\\u043e\\u0432\\u043a\\u0438',), Lift: 1.3333333333333333\",\"('\\u041a\\u0440\\u043e\\u0441\\u0441\\u043e\\u0432\\u043a\\u0438',) =\\u003e ('\\u0420\\u0443\\u0431\\u0430\\u0448\\u043a\\u0430',), Lift: 1.3333333333333333\",\"('\\u041a\\u0440\\u043e\\u0441\\u0441\\u043e\\u0432\\u043a\\u0438',) =\\u003e ('\\u0424\\u0443\\u0442\\u0431\\u043e\\u043b\\u043a\\u0430',), Lift: 0.9523809523809523\",\"('\\u0420\\u0443\\u0431\\u0430\\u0448\\u043a\\u0430',) =\\u003e ('\\u041a\\u0443\\u0440\\u0442\\u043a\\u0430',), Lift: 1.3333333333333335\",\"('\\u041a\\u0443\\u0440\\u0442\\u043a\\u0430',) =\\u003e ('\\u0420\\u0443\\u0431\\u0430\\u0448\\u043a\\u0430',), Lift: 1.3333333333333335\",\"('\\u0421\\u0443\\u043c\\u043a\\u0430',) =\\u003e ('\\u041a\\u0443\\u0440\\u0442\\u043a\\u0430',), Lift: 1.0606060606060606\",\"('\\u041a\\u0443\\u0440\\u0442\\u043a\\u0430',) =\\u003e ('\\u0424\\u0443\\u0442\\u0431\\u043e\\u043b\\u043a\\u0430',), Lift: 0.9523809523809524\",\"('\\u0428\\u0430\\u043f\\u043a\\u0430',) =\\u003e ('\\u041a\\u0443\\u0440\\u0442\\u043a\\u0430',), Lift: 1.1111111111111112\",\"('\\u0420\\u0443\\u0431\\u0430\\u0448\\u043a\\u0430',) =\\u003e ('\\u0424\\u0443\\u0442\\u0431\\u043e\\u043b\\u043a\\u0430',), Lift: 1.0\",\"('\\u0421\\u0443\\u043c\\u043a\\u0430',) =\\u003e ('\\u0424\\u0443\\u0442\\u0431\\u043e\\u043b\\u043a\\u0430',), Lift: 1.038961038961039\",\"('\\u0428\\u0430\\u043f\\u043a\\u0430',) =\\u003e ('\\u0421\\u0443\\u043c\\u043a\\u0430',), Lift: 1.2121212121212122\",\"('\\u0428\\u0430\\u043f\\u043a\\u0430',) =\\u003e ('\\u0424\\u0443\\u0442\\u0431\\u043e\\u043b\\u043a\\u0430',), Lift: 0.9523809523809524\"],\"x\":[0.3,0.25,0.35,0.3,0.4,0.35,0.35,0.55,0.55,0.3,0.4,0.4,0.3,0.3,0.3,0.4,0.4,0.35,0.4,0.2,0.35,0.4,0.2,0.2],\"y\":[0.75,0.625,0.875,0.6666666666666666,0.6666666666666666,0.7,0.6363636363636364,0.7857142857142857,0.7857142857142857,1.0,0.6666666666666666,0.8888888888888888,0.6,0.6666666666666666,0.6666666666666666,0.8,0.6666666666666666,0.6363636363636364,0.6666666666666666,0.6666666666666666,0.7,0.7272727272727273,0.6666666666666666,0.6666666666666666],\"type\":\"scatter\"}],                        {\"template\":{\"data\":{\"histogram2dcontour\":[{\"type\":\"histogram2dcontour\",\"colorbar\":{\"outlinewidth\":0,\"ticks\":\"\"},\"colorscale\":[[0.0,\"#0d0887\"],[0.1111111111111111,\"#46039f\"],[0.2222222222222222,\"#7201a8\"],[0.3333333333333333,\"#9c179e\"],[0.4444444444444444,\"#bd3786\"],[0.5555555555555556,\"#d8576b\"],[0.6666666666666666,\"#ed7953\"],[0.7777777777777778,\"#fb9f3a\"],[0.8888888888888888,\"#fdca26\"],[1.0,\"#f0f921\"]]}],\"choropleth\":[{\"type\":\"choropleth\",\"colorbar\":{\"outlinewidth\":0,\"ticks\":\"\"}}],\"histogram2d\":[{\"type\":\"histogram2d\",\"colorbar\":{\"outlinewidth\":0,\"ticks\":\"\"},\"colorscale\":[[0.0,\"#0d0887\"],[0.1111111111111111,\"#46039f\"],[0.2222222222222222,\"#7201a8\"],[0.3333333333333333,\"#9c179e\"],[0.4444444444444444,\"#bd3786\"],[0.5555555555555556,\"#d8576b\"],[0.6666666666666666,\"#ed7953\"],[0.7777777777777778,\"#fb9f3a\"],[0.8888888888888888,\"#fdca26\"],[1.0,\"#f0f921\"]]}],\"heatmap\":[{\"type\":\"heatmap\",\"colorbar\":{\"outlinewidth\":0,\"ticks\":\"\"},\"colorscale\":[[0.0,\"#0d0887\"],[0.1111111111111111,\"#46039f\"],[0.2222222222222222,\"#7201a8\"],[0.3333333333333333,\"#9c179e\"],[0.4444444444444444,\"#bd3786\"],[0.5555555555555556,\"#d8576b\"],[0.6666666666666666,\"#ed7953\"],[0.7777777777777778,\"#fb9f3a\"],[0.8888888888888888,\"#fdca26\"],[1.0,\"#f0f921\"]]}],\"heatmapgl\":[{\"type\":\"heatmapgl\",\"colorbar\":{\"outlinewidth\":0,\"ticks\":\"\"},\"colorscale\":[[0.0,\"#0d0887\"],[0.1111111111111111,\"#46039f\"],[0.2222222222222222,\"#7201a8\"],[0.3333333333333333,\"#9c179e\"],[0.4444444444444444,\"#bd3786\"],[0.5555555555555556,\"#d8576b\"],[0.6666666666666666,\"#ed7953\"],[0.7777777777777778,\"#fb9f3a\"],[0.8888888888888888,\"#fdca26\"],[1.0,\"#f0f921\"]]}],\"contourcarpet\":[{\"type\":\"contourcarpet\",\"colorbar\":{\"outlinewidth\":0,\"ticks\":\"\"}}],\"contour\":[{\"type\":\"contour\",\"colorbar\":{\"outlinewidth\":0,\"ticks\":\"\"},\"colorscale\":[[0.0,\"#0d0887\"],[0.1111111111111111,\"#46039f\"],[0.2222222222222222,\"#7201a8\"],[0.3333333333333333,\"#9c179e\"],[0.4444444444444444,\"#bd3786\"],[0.5555555555555556,\"#d8576b\"],[0.6666666666666666,\"#ed7953\"],[0.7777777777777778,\"#fb9f3a\"],[0.8888888888888888,\"#fdca26\"],[1.0,\"#f0f921\"]]}],\"surface\":[{\"type\":\"surface\",\"colorbar\":{\"outlinewidth\":0,\"ticks\":\"\"},\"colorscale\":[[0.0,\"#0d0887\"],[0.1111111111111111,\"#46039f\"],[0.2222222222222222,\"#7201a8\"],[0.3333333333333333,\"#9c179e\"],[0.4444444444444444,\"#bd3786\"],[0.5555555555555556,\"#d8576b\"],[0.6666666666666666,\"#ed7953\"],[0.7777777777777778,\"#fb9f3a\"],[0.8888888888888888,\"#fdca26\"],[1.0,\"#f0f921\"]]}],\"mesh3d\":[{\"type\":\"mesh3d\",\"colorbar\":{\"outlinewidth\":0,\"ticks\":\"\"}}],\"scatter\":[{\"fillpattern\":{\"fillmode\":\"overlay\",\"size\":10,\"solidity\":0.2},\"type\":\"scatter\"}],\"parcoords\":[{\"type\":\"parcoords\",\"line\":{\"colorbar\":{\"outlinewidth\":0,\"ticks\":\"\"}}}],\"scatterpolargl\":[{\"type\":\"scatterpolargl\",\"marker\":{\"colorbar\":{\"outlinewidth\":0,\"ticks\":\"\"}}}],\"bar\":[{\"error_x\":{\"color\":\"#2a3f5f\"},\"error_y\":{\"color\":\"#2a3f5f\"},\"marker\":{\"line\":{\"color\":\"#E5ECF6\",\"width\":0.5},\"pattern\":{\"fillmode\":\"overlay\",\"size\":10,\"solidity\":0.2}},\"type\":\"bar\"}],\"scattergeo\":[{\"type\":\"scattergeo\",\"marker\":{\"colorbar\":{\"outlinewidth\":0,\"ticks\":\"\"}}}],\"scatterpolar\":[{\"type\":\"scatterpolar\",\"marker\":{\"colorbar\":{\"outlinewidth\":0,\"ticks\":\"\"}}}],\"histogram\":[{\"marker\":{\"pattern\":{\"fillmode\":\"overlay\",\"size\":10,\"solidity\":0.2}},\"type\":\"histogram\"}],\"scattergl\":[{\"type\":\"scattergl\",\"marker\":{\"colorbar\":{\"outlinewidth\":0,\"ticks\":\"\"}}}],\"scatter3d\":[{\"type\":\"scatter3d\",\"line\":{\"colorbar\":{\"outlinewidth\":0,\"ticks\":\"\"}},\"marker\":{\"colorbar\":{\"outlinewidth\":0,\"ticks\":\"\"}}}],\"scattermapbox\":[{\"type\":\"scattermapbox\",\"marker\":{\"colorbar\":{\"outlinewidth\":0,\"ticks\":\"\"}}}],\"scatterternary\":[{\"type\":\"scatterternary\",\"marker\":{\"colorbar\":{\"outlinewidth\":0,\"ticks\":\"\"}}}],\"scattercarpet\":[{\"type\":\"scattercarpet\",\"marker\":{\"colorbar\":{\"outlinewidth\":0,\"ticks\":\"\"}}}],\"carpet\":[{\"aaxis\":{\"endlinecolor\":\"#2a3f5f\",\"gridcolor\":\"white\",\"linecolor\":\"white\",\"minorgridcolor\":\"white\",\"startlinecolor\":\"#2a3f5f\"},\"baxis\":{\"endlinecolor\":\"#2a3f5f\",\"gridcolor\":\"white\",\"linecolor\":\"white\",\"minorgridcolor\":\"white\",\"startlinecolor\":\"#2a3f5f\"},\"type\":\"carpet\"}],\"table\":[{\"cells\":{\"fill\":{\"color\":\"#EBF0F8\"},\"line\":{\"color\":\"white\"}},\"header\":{\"fill\":{\"color\":\"#C8D4E3\"},\"line\":{\"color\":\"white\"}},\"type\":\"table\"}],\"barpolar\":[{\"marker\":{\"line\":{\"color\":\"#E5ECF6\",\"width\":0.5},\"pattern\":{\"fillmode\":\"overlay\",\"size\":10,\"solidity\":0.2}},\"type\":\"barpolar\"}],\"pie\":[{\"automargin\":true,\"type\":\"pie\"}]},\"layout\":{\"autotypenumbers\":\"strict\",\"colorway\":[\"#636efa\",\"#EF553B\",\"#00cc96\",\"#ab63fa\",\"#FFA15A\",\"#19d3f3\",\"#FF6692\",\"#B6E880\",\"#FF97FF\",\"#FECB52\"],\"font\":{\"color\":\"#2a3f5f\"},\"hovermode\":\"closest\",\"hoverlabel\":{\"align\":\"left\"},\"paper_bgcolor\":\"white\",\"plot_bgcolor\":\"#E5ECF6\",\"polar\":{\"bgcolor\":\"#E5ECF6\",\"angularaxis\":{\"gridcolor\":\"white\",\"linecolor\":\"white\",\"ticks\":\"\"},\"radialaxis\":{\"gridcolor\":\"white\",\"linecolor\":\"white\",\"ticks\":\"\"}},\"ternary\":{\"bgcolor\":\"#E5ECF6\",\"aaxis\":{\"gridcolor\":\"white\",\"linecolor\":\"white\",\"ticks\":\"\"},\"baxis\":{\"gridcolor\":\"white\",\"linecolor\":\"white\",\"ticks\":\"\"},\"caxis\":{\"gridcolor\":\"white\",\"linecolor\":\"white\",\"ticks\":\"\"}},\"coloraxis\":{\"colorbar\":{\"outlinewidth\":0,\"ticks\":\"\"}},\"colorscale\":{\"sequential\":[[0.0,\"#0d0887\"],[0.1111111111111111,\"#46039f\"],[0.2222222222222222,\"#7201a8\"],[0.3333333333333333,\"#9c179e\"],[0.4444444444444444,\"#bd3786\"],[0.5555555555555556,\"#d8576b\"],[0.6666666666666666,\"#ed7953\"],[0.7777777777777778,\"#fb9f3a\"],[0.8888888888888888,\"#fdca26\"],[1.0,\"#f0f921\"]],\"sequentialminus\":[[0.0,\"#0d0887\"],[0.1111111111111111,\"#46039f\"],[0.2222222222222222,\"#7201a8\"],[0.3333333333333333,\"#9c179e\"],[0.4444444444444444,\"#bd3786\"],[0.5555555555555556,\"#d8576b\"],[0.6666666666666666,\"#ed7953\"],[0.7777777777777778,\"#fb9f3a\"],[0.8888888888888888,\"#fdca26\"],[1.0,\"#f0f921\"]],\"diverging\":[[0,\"#8e0152\"],[0.1,\"#c51b7d\"],[0.2,\"#de77ae\"],[0.3,\"#f1b6da\"],[0.4,\"#fde0ef\"],[0.5,\"#f7f7f7\"],[0.6,\"#e6f5d0\"],[0.7,\"#b8e186\"],[0.8,\"#7fbc41\"],[0.9,\"#4d9221\"],[1,\"#276419\"]]},\"xaxis\":{\"gridcolor\":\"white\",\"linecolor\":\"white\",\"ticks\":\"\",\"title\":{\"standoff\":15},\"zerolinecolor\":\"white\",\"automargin\":true,\"zerolinewidth\":2},\"yaxis\":{\"gridcolor\":\"white\",\"linecolor\":\"white\",\"ticks\":\"\",\"title\":{\"standoff\":15},\"zerolinecolor\":\"white\",\"automargin\":true,\"zerolinewidth\":2},\"scene\":{\"xaxis\":{\"backgroundcolor\":\"#E5ECF6\",\"gridcolor\":\"white\",\"linecolor\":\"white\",\"showbackground\":true,\"ticks\":\"\",\"zerolinecolor\":\"white\",\"gridwidth\":2},\"yaxis\":{\"backgroundcolor\":\"#E5ECF6\",\"gridcolor\":\"white\",\"linecolor\":\"white\",\"showbackground\":true,\"ticks\":\"\",\"zerolinecolor\":\"white\",\"gridwidth\":2},\"zaxis\":{\"backgroundcolor\":\"#E5ECF6\",\"gridcolor\":\"white\",\"linecolor\":\"white\",\"showbackground\":true,\"ticks\":\"\",\"zerolinecolor\":\"white\",\"gridwidth\":2}},\"shapedefaults\":{\"line\":{\"color\":\"#2a3f5f\"}},\"annotationdefaults\":{\"arrowcolor\":\"#2a3f5f\",\"arrowhead\":0,\"arrowwidth\":1},\"geo\":{\"bgcolor\":\"white\",\"landcolor\":\"#E5ECF6\",\"subunitcolor\":\"white\",\"showland\":true,\"showlakes\":true,\"lakecolor\":\"white\"},\"title\":{\"x\":0.05},\"mapbox\":{\"style\":\"light\"}}},\"xaxis\":{\"title\":{\"text\":\"Support\"},\"autorange\":\"reversed\"},\"title\":{\"text\":\"Association Rules Strength Distribution\"},\"yaxis\":{\"title\":{\"text\":\"Confidence\"}}},                        {\"responsive\": true}                    ).then(function(){\n",
       "                            \n",
       "var gd = document.getElementById('63b38696-fb31-403a-b925-cb97d989eb68');\n",
       "var x = new MutationObserver(function (mutations, observer) {{\n",
       "        var display = window.getComputedStyle(gd).display;\n",
       "        if (!display || display === 'none') {{\n",
       "            console.log([gd, 'removed!']);\n",
       "            Plotly.purge(gd);\n",
       "            observer.disconnect();\n",
       "        }}\n",
       "}});\n",
       "\n",
       "// Listen for the removal of the full notebook cells\n",
       "var notebookContainer = gd.closest('#notebook-container');\n",
       "if (notebookContainer) {{\n",
       "    x.observe(notebookContainer, {childList: true});\n",
       "}}\n",
       "\n",
       "// Listen for the clearing of the current output cell\n",
       "var outputEl = gd.closest('.output');\n",
       "if (outputEl) {{\n",
       "    x.observe(outputEl, {childList: true});\n",
       "}}\n",
       "\n",
       "                        })                };                });            </script>        </div>"
      ]
     },
     "metadata": {},
     "output_type": "display_data",
     "jetTransient": {
      "display_id": null
     }
    },
    {
     "data": {
      "application/vnd.plotly.v1+json": {
       "data": [
        {
         "hoverinfo": "none",
         "line": {
          "color": "#888",
          "width": 0.5
         },
         "mode": "lines",
         "x": [
          -0.6868743880997197,
          -0.028977930141773578,
          null,
          -0.1545538845023588,
          -0.6868743880997197,
          null,
          -0.1545538845023588,
          -0.40423327688170635,
          null,
          -0.1545538845023588,
          -0.548979920898975,
          null,
          -0.1545538845023588,
          -0.6510710044233322,
          null,
          -0.1545538845023588,
          -0.32235111184622295,
          null,
          -0.1545538845023588,
          -0.36346675837894277,
          null,
          -0.1545538845023588,
          -0.4036630589518256,
          null,
          -0.1545538845023588,
          0.5944256747956832,
          null,
          -0.1545538845023588,
          -0.5174243523209988,
          null,
          -0.1545538845023588,
          0.09450091096768277,
          null,
          -0.1545538845023588,
          0.6338970241129867,
          null,
          -0.028977930141773578,
          -0.5177905130112446,
          null,
          -0.028977930141773578,
          -0.32235111184622295,
          null,
          -0.028977930141773578,
          -0.4036630589518256,
          null,
          -0.028977930141773578,
          0.71285177389544,
          null,
          -0.028977930141773578,
          0.6642524329901055,
          null,
          -0.028977930141773578,
          -0.13433633154938773,
          null,
          -0.028977930141773578,
          0.5825845643748984,
          null,
          -0.028977930141773578,
          0.7365785691360885,
          null,
          -0.028977930141773578,
          -0.2494879696595332,
          null,
          -0.028977930141773578,
          -0.06395345633343527,
          null,
          -0.028977930141773578,
          0.3978404826998528,
          null,
          -0.028977930141773578,
          0.3977780528371071,
          null,
          -0.028977930141773578,
          -0.5690903555569867,
          null,
          -0.028977930141773578,
          -0.4392686230178547,
          null,
          -0.028977930141773578,
          0.09910724659198483,
          null,
          -0.028977930141773578,
          -0.4108678553560106,
          null,
          -0.028977930141773578,
          0.09450091096768277,
          null,
          -0.028977930141773578,
          0.6338970241129867,
          null,
          -0.028977930141773578,
          -0.09624046032842122,
          null,
          -0.028977930141773578,
          -0.6792232025987521,
          null,
          -0.028977930141773578,
          -0.7637253600716352,
          null,
          -0.028977930141773578,
          0.017487504580618936,
          null,
          -0.028977930141773578,
          0.20533450570071896,
          null,
          -0.028977930141773578,
          -0.5827615580614091,
          null,
          -0.40423327688170635,
          0.009347549191305435,
          null,
          0.009347549191305435,
          -0.2832331261414118,
          null,
          0.009347549191305435,
          0.011954232271275938,
          null,
          0.009347549191305435,
          0.43653840372817815,
          null,
          0.009347549191305435,
          -0.6510710044233322,
          null,
          0.009347549191305435,
          0.5944256747956832,
          null,
          0.009347549191305435,
          0.3410466057401747,
          null,
          0.009347549191305435,
          -0.5690903555569867,
          null,
          0.009347549191305435,
          0.5129635208971038,
          null,
          0.009347549191305435,
          -0.35918746136737795,
          null,
          0.009347549191305435,
          -0.27827739805700275,
          null,
          0.009347549191305435,
          0.13410864559593613,
          null,
          0.009347549191305435,
          -0.3608040323168944,
          null,
          0.009347549191305435,
          -0.122841491729521,
          null,
          0.009347549191305435,
          0.4450157909953023,
          null,
          0.009347549191305435,
          -0.6440718555182574,
          null,
          0.009347549191305435,
          -0.4108678553560106,
          null,
          0.009347549191305435,
          -0.5174243523209988,
          null,
          0.009347549191305435,
          0.6338970241129867,
          null,
          0.009347549191305435,
          -0.25537595862161094,
          null,
          0.009347549191305435,
          0.017487504580618936,
          null,
          0.009347549191305435,
          -0.5827615580614091,
          null,
          0.009347549191305435,
          0.8289518054117644,
          null,
          0.009347549191305435,
          0.2102678216986871,
          null,
          0.009347549191305435,
          0.4749748935785963,
          null,
          0.009347549191305435,
          0.3426521258643309,
          null,
          0.009347549191305435,
          0.22954667087636332,
          null,
          0.009347549191305435,
          -0.4131162030215075,
          null,
          -0.548979920898975,
          -0.026976441717161938,
          null,
          -0.026976441717161938,
          -0.7811422467273141,
          null,
          -0.026976441717161938,
          -0.36346675837894277,
          null,
          -0.026976441717161938,
          0.131914982631036,
          null,
          -0.026976441717161938,
          0.3575417699828695,
          null,
          -0.026976441717161938,
          -0.6182669342179239,
          null,
          -0.026976441717161938,
          0.3410466057401747,
          null,
          -0.026976441717161938,
          0.322672554732824,
          null,
          -0.026976441717161938,
          0.7782715830843759,
          null,
          -0.026976441717161938,
          -0.22537907769650334,
          null,
          -0.026976441717161938,
          -0.5771962392029425,
          null,
          -0.026976441717161938,
          0.6933101394888956,
          null,
          -0.026976441717161938,
          0.030069055279185644,
          null,
          -0.026976441717161938,
          -0.5219408090075166,
          null,
          -0.026976441717161938,
          -0.122841491729521,
          null,
          -0.026976441717161938,
          0.5803622957335564,
          null,
          -0.026976441717161938,
          -0.4108678553560106,
          null,
          -0.026976441717161938,
          -0.5174243523209988,
          null,
          -0.026976441717161938,
          0.09450091096768277,
          null,
          -0.026976441717161938,
          -0.757106571585633,
          null,
          -0.026976441717161938,
          -0.09624046032842122,
          null,
          -0.026976441717161938,
          -0.6792232025987521,
          null,
          -0.026976441717161938,
          -0.25537595862161094,
          null,
          -0.026976441717161938,
          0.017487504580618936,
          null,
          -0.026976441717161938,
          0.20533450570071896,
          null,
          -0.026976441717161938,
          0.8289518054117644,
          null,
          -0.026976441717161938,
          0.2102678216986871,
          null,
          -0.026976441717161938,
          0.6000153278036493,
          null,
          -0.026976441717161938,
          0.3426521258643309,
          null,
          -0.026976441717161938,
          0.22954667087636332,
          null,
          -0.026976441717161938,
          -0.26790904227445533,
          null,
          0.3048645011819649,
          -0.028977930141773578,
          null,
          0.13232731450454613,
          0.3048645011819649,
          null,
          0.13232731450454613,
          0.21589010774845271,
          null,
          0.13232731450454613,
          0.11067968711766259,
          null,
          0.13232731450454613,
          0.42600180539612753,
          null,
          0.13232731450454613,
          -0.030779186476249602,
          null,
          0.13232731450454613,
          0.6642524329901055,
          null,
          0.13232731450454613,
          -0.5367314887184741,
          null,
          0.13232731450454613,
          -0.13433633154938773,
          null,
          0.13232731450454613,
          0.131914982631036,
          null,
          0.13232731450454613,
          0.5825845643748984,
          null,
          0.13232731450454613,
          0.3217986055573174,
          null,
          0.13232731450454613,
          0.4193620587520704,
          null,
          0.13232731450454613,
          -0.35918746136737795,
          null,
          0.13232731450454613,
          -0.22537907769650334,
          null,
          0.13232731450454613,
          0.19755955041311554,
          null,
          0.13232731450454613,
          -0.5771962392029425,
          null,
          0.13232731450454613,
          0.47608490263443054,
          null,
          0.13232731450454613,
          0.6933101394888956,
          null,
          0.13232731450454613,
          -0.27827739805700275,
          null,
          0.13232731450454613,
          0.2102678216986871,
          null,
          0.13232731450454613,
          0.6000153278036493,
          null,
          0.13232731450454613,
          0.4749748935785963,
          null,
          -0.6541162850425426,
          -0.028977930141773578,
          null,
          0.009424348889380572,
          -0.6541162850425426,
          null,
          0.009424348889380572,
          0.6271524205789937,
          null,
          0.009424348889380572,
          -0.4156272134601104,
          null,
          0.009424348889380572,
          -0.6694801710998376,
          null,
          0.009424348889380572,
          -0.030779186476249602,
          null,
          0.009424348889380572,
          0.71285177389544,
          null,
          0.009424348889380572,
          0.0100943805040869,
          null,
          0.009424348889380572,
          -0.2494879696595332,
          null,
          0.009424348889380572,
          0.3575417699828695,
          null,
          0.009424348889380572,
          -0.06395345633343527,
          null,
          0.009424348889380572,
          -0.4080763447643164,
          null,
          0.009424348889380572,
          0.5230143873752278,
          null,
          0.009424348889380572,
          0.4193620587520704,
          null,
          0.009424348889380572,
          0.7782715830843759,
          null,
          0.009424348889380572,
          0.19755955041311554,
          null,
          0.009424348889380572,
          -0.3608040323168944,
          null,
          0.009424348889380572,
          -0.1014007640538052,
          null,
          0.009424348889380572,
          -0.5219408090075166,
          null,
          0.009424348889380572,
          -0.20717093659831656,
          null,
          0.009424348889380572,
          0.5803622957335564,
          null,
          0.009424348889380572,
          0.4450157909953023,
          null,
          0.009424348889380572,
          -0.757106571585633,
          null,
          0.009424348889380572,
          -0.6792232025987521,
          null,
          0.009424348889380572,
          -0.7637253600716352,
          null,
          0.009424348889380572,
          -0.25537595862161094,
          null,
          0.009424348889380572,
          0.20533450570071896,
          null,
          0.009424348889380572,
          -0.5827615580614091,
          null,
          0.009424348889380572,
          0.8289518054117644,
          null,
          0.009424348889380572,
          0.6000153278036493,
          null,
          0.009424348889380572,
          0.4749748935785963,
          null,
          0.009424348889380572,
          0.22954667087636332,
          null,
          0.009424348889380572,
          -0.26790904227445533,
          null,
          0.009424348889380572,
          -0.4131162030215075,
          null,
          0.31667422510848375,
          -0.028977930141773578,
          null,
          -0.021380945812484908,
          0.31667422510848375,
          null,
          -0.021380945812484908,
          0.8696370069148778,
          null,
          -0.021380945812484908,
          0.5836645829477511,
          null,
          -0.021380945812484908,
          -0.7339432274251483,
          null,
          -0.021380945812484908,
          -0.5367314887184741,
          null,
          -0.021380945812484908,
          0.0100943805040869,
          null,
          -0.021380945812484908,
          0.7365785691360885,
          null,
          -0.021380945812484908,
          -0.6182669342179239,
          null,
          -0.021380945812484908,
          0.3977780528371071,
          null,
          -0.021380945812484908,
          0.5230143873752278,
          null,
          -0.021380945812484908,
          0.3217986055573174,
          null,
          -0.021380945812484908,
          0.47608490263443054,
          null,
          -0.021380945812484908,
          0.13410864559593613,
          null,
          -0.021380945812484908,
          -0.1014007640538052,
          null,
          -0.021380945812484908,
          0.030069055279185644,
          null,
          -0.021380945812484908,
          -0.20717093659831656,
          null,
          -0.021380945812484908,
          -0.6440718555182574,
          null,
          -0.021380945812484908,
          -0.757106571585633,
          null,
          -0.021380945812484908,
          -0.09624046032842122,
          null,
          -0.021380945812484908,
          -0.7637253600716352,
          null,
          -0.021380945812484908,
          0.3426521258643309,
          null,
          -0.021380945812484908,
          -0.26790904227445533,
          null,
          -0.021380945812484908,
          -0.4131162030215075,
          null,
          -0.2832331261414118,
          -0.028977930141773578,
          null,
          -0.7811422467273141,
          -0.028977930141773578,
          null,
          -0.5177905130112446,
          -0.026976441717161938,
          null,
          -0.13943105190445887,
          -0.028977930141773578,
          null,
          0.08475586879620299,
          -0.13943105190445887,
          null,
          0.08475586879620299,
          -0.4195955268651809,
          null,
          0.08475586879620299,
          0.7129007772290666,
          null,
          0.08475586879620299,
          0.4688483544961666,
          null,
          0.08475586879620299,
          -0.4080763447643164,
          null,
          0.08475586879620299,
          0.3978404826998528,
          null,
          0.08475586879620299,
          0.5129635208971038,
          null,
          0.08475586879620299,
          -0.4392686230178547,
          null,
          0.08475586879620299,
          0.322672554732824,
          null,
          0.08475586879620299,
          0.09910724659198483,
          null,
          0.6271524205789937,
          0.13232731450454613,
          null,
          0.21589010774845271,
          0.009424348889380572,
          null,
          0.8696370069148778,
          0.13232731450454613,
          null,
          0.11067968711766259,
          -0.021380945812484908,
          null,
          0.42600180539612753,
          -0.026976441717161938,
          null,
          0.5836645829477511,
          0.009424348889380572,
          null,
          -0.4156272134601104,
          -0.021380945812484908,
          null,
          0.011954232271275938,
          0.009424348889380572,
          null,
          -0.6694801710998376,
          -0.026976441717161938,
          null,
          -0.4195955268651809,
          0.009424348889380572,
          null,
          -0.7339432274251483,
          -0.026976441717161938,
          null,
          0.43653840372817815,
          -0.026976441717161938,
          null,
          0.7129007772290666,
          0.009347549191305435,
          null,
          0.4688483544961666,
          -0.026976441717161938,
          null,
          -0.6510710044233322,
          -0.028977930141773578,
          null,
          -0.32235111184622295,
          0.009347549191305435,
          null,
          -0.36346675837894277,
          -0.028977930141773578,
          null,
          -0.4036630589518256,
          -0.026976441717161938,
          null,
          0.5944256747956832,
          -0.026976441717161938,
          null,
          -0.030779186476249602,
          -0.028977930141773578,
          null,
          0.71285177389544,
          0.13232731450454613,
          null,
          0.6642524329901055,
          0.009424348889380572,
          null,
          -0.5367314887184741,
          -0.028977930141773578,
          null,
          -0.13433633154938773,
          -0.021380945812484908,
          null,
          0.131914982631036,
          -0.028977930141773578,
          null,
          0.5825845643748984,
          -0.026976441717161938,
          null,
          0.0100943805040869,
          -0.028977930141773578,
          null,
          0.7365785691360885,
          0.009424348889380572,
          null,
          -0.2494879696595332,
          -0.021380945812484908,
          null,
          0.3575417699828695,
          -0.028977930141773578,
          null,
          -0.06395345633343527,
          -0.026976441717161938,
          null,
          -0.4080763447643164,
          -0.028977930141773578,
          null,
          0.3978404826998528,
          0.009424348889380572,
          null,
          -0.6182669342179239,
          -0.028977930141773578,
          null,
          0.3977780528371071,
          -0.026976441717161938,
          null,
          0.3410466057401747,
          -0.028977930141773578,
          null,
          -0.5690903555569867,
          -0.026976441717161938,
          null,
          0.5129635208971038,
          -0.028977930141773578,
          null,
          -0.4392686230178547,
          0.009347549191305435,
          null,
          0.322672554732824,
          -0.028977930141773578,
          null,
          0.09910724659198483,
          -0.026976441717161938,
          null,
          0.5230143873752278,
          0.13232731450454613,
          null,
          0.3217986055573174,
          0.009424348889380572,
          null,
          0.4193620587520704,
          -0.021380945812484908,
          null,
          -0.35918746136737795,
          0.009424348889380572,
          null,
          0.7782715830843759,
          0.13232731450454613,
          null,
          -0.22537907769650334,
          0.009424348889380572,
          null,
          0.19755955041311554,
          -0.026976441717161938,
          null,
          -0.5771962392029425,
          -0.021380945812484908,
          null,
          0.47608490263443054,
          -0.026976441717161938,
          null,
          0.6933101394888956,
          0.009347549191305435,
          null,
          -0.27827739805700275,
          -0.026976441717161938,
          null,
          0.13410864559593613,
          0.009424348889380572,
          null,
          -0.3608040323168944,
          -0.021380945812484908,
          null,
          -0.1014007640538052,
          0.009347549191305435,
          null,
          0.030069055279185644,
          0.009424348889380572,
          null,
          -0.5219408090075166,
          -0.021380945812484908,
          null,
          -0.20717093659831656,
          -0.026976441717161938,
          null,
          -0.122841491729521,
          0.009424348889380572,
          null,
          0.5803622957335564,
          0.009347549191305435,
          null,
          0.4450157909953023,
          -0.026976441717161938,
          null,
          -0.6440718555182574,
          -0.026976441717161938,
          null,
          -0.4108678553560106,
          -0.1545538845023588,
          null,
          -0.5174243523209988,
          -0.028977930141773578,
          null,
          0.09450091096768277,
          0.009347549191305435,
          null,
          0.6338970241129867,
          -0.026976441717161938,
          null,
          -0.757106571585633,
          -0.028977930141773578,
          null,
          -0.09624046032842122,
          0.009424348889380572,
          null,
          -0.6792232025987521,
          -0.021380945812484908,
          null,
          -0.7637253600716352,
          -0.026976441717161938,
          null,
          -0.25537595862161094,
          -0.028977930141773578,
          null,
          0.017487504580618936,
          0.009424348889380572,
          null,
          0.20533450570071896,
          0.009347549191305435,
          null,
          -0.5827615580614091,
          -0.026976441717161938,
          null,
          0.8289518054117644,
          0.13232731450454613,
          null,
          0.2102678216986871,
          0.009424348889380572,
          null,
          0.6000153278036493,
          0.009347549191305435,
          null,
          0.4749748935785963,
          -0.026976441717161938,
          null,
          0.3426521258643309,
          0.009424348889380572,
          null,
          0.22954667087636332,
          -0.021380945812484908,
          null,
          -0.26790904227445533,
          0.009347549191305435,
          null,
          -0.4131162030215075,
          -0.026976441717161938,
          null
         ],
         "y": [
          -0.394070334923083,
          -0.03590380826423199,
          null,
          -0.347365044109075,
          -0.394070334923083,
          null,
          -0.347365044109075,
          0.041313815462520304,
          null,
          -0.347365044109075,
          -0.3552212832198612,
          null,
          -0.347365044109075,
          0.009393164523221701,
          null,
          -0.347365044109075,
          -0.1415025291946242,
          null,
          -0.347365044109075,
          -0.6851543597534193,
          null,
          -0.347365044109075,
          -0.5928082593813445,
          null,
          -0.347365044109075,
          -0.43976632085781053,
          null,
          -0.347365044109075,
          -0.2287783238180268,
          null,
          -0.347365044109075,
          -0.5344397018655067,
          null,
          -0.347365044109075,
          -0.3295357371187533,
          null,
          -0.03590380826423199,
          -0.49732447375483474,
          null,
          -0.03590380826423199,
          -0.1415025291946242,
          null,
          -0.03590380826423199,
          -0.5928082593813445,
          null,
          -0.03590380826423199,
          0.5266021117483093,
          null,
          -0.03590380826423199,
          0.15496243450914854,
          null,
          -0.03590380826423199,
          0.7586839946580897,
          null,
          -0.03590380826423199,
          -0.22608559298647674,
          null,
          -0.03590380826423199,
          0.033116664858014996,
          null,
          -0.03590380826423199,
          0.7192380270557481,
          null,
          -0.03590380826423199,
          -0.6718074208317599,
          null,
          -0.03590380826423199,
          0.29953701038199326,
          null,
          -0.03590380826423199,
          -0.49563884971652433,
          null,
          -0.03590380826423199,
          0.33678820496853035,
          null,
          -0.03590380826423199,
          0.3423645653966914,
          null,
          -0.03590380826423199,
          -0.3988599454112074,
          null,
          -0.03590380826423199,
          -1.0,
          null,
          -0.03590380826423199,
          -0.5344397018655067,
          null,
          -0.03590380826423199,
          -0.3295357371187533,
          null,
          -0.03590380826423199,
          0.631894022698513,
          null,
          -0.03590380826423199,
          0.3966545891546509,
          null,
          -0.03590380826423199,
          0.07880304022338748,
          null,
          -0.03590380826423199,
          0.45262433001784563,
          null,
          -0.03590380826423199,
          -0.5033338832569485,
          null,
          -0.03590380826423199,
          0.12528777730672752,
          null,
          0.041313815462520304,
          0.05547501409898161,
          null,
          0.05547501409898161,
          0.23412653359542304,
          null,
          0.05547501409898161,
          0.7705390563209353,
          null,
          0.05547501409898161,
          0.39004706686552526,
          null,
          0.05547501409898161,
          0.009393164523221701,
          null,
          0.05547501409898161,
          -0.43976632085781053,
          null,
          0.05547501409898161,
          -0.26248834993297415,
          null,
          0.05547501409898161,
          0.33678820496853035,
          null,
          0.05547501409898161,
          -0.5036799584929291,
          null,
          0.05547501409898161,
          0.4896357630110939,
          null,
          0.05547501409898161,
          0.39170820478188345,
          null,
          0.05547501409898161,
          0.5304412110018222,
          null,
          0.05547501409898161,
          0.6916818499464943,
          null,
          0.05547501409898161,
          0.4723196154596941,
          null,
          0.05547501409898161,
          -0.6085950859263148,
          null,
          0.05547501409898161,
          0.2472299590945729,
          null,
          0.05547501409898161,
          -1.0,
          null,
          0.05547501409898161,
          -0.2287783238180268,
          null,
          0.05547501409898161,
          -0.3295357371187533,
          null,
          0.05547501409898161,
          -0.7232936635016799,
          null,
          0.05547501409898161,
          0.45262433001784563,
          null,
          0.05547501409898161,
          0.12528777730672752,
          null,
          0.05547501409898161,
          0.302795547921526,
          null,
          0.05547501409898161,
          0.38776855442870223,
          null,
          0.05547501409898161,
          -0.1632023169733191,
          null,
          0.05547501409898161,
          0.6369668184436361,
          null,
          0.05547501409898161,
          0.7307145791534322,
          null,
          0.05547501409898161,
          -0.3444323223075183,
          null,
          -0.3552212832198612,
          -0.008019877621470273,
          null,
          -0.008019877621470273,
          -0.07873815138982895,
          null,
          -0.008019877621470273,
          -0.6851543597534193,
          null,
          -0.008019877621470273,
          -0.76794855010392,
          null,
          -0.008019877621470273,
          0.009383255206973043,
          null,
          -0.008019877621470273,
          -0.5177800556081117,
          null,
          -0.008019877621470273,
          -0.26248834993297415,
          null,
          -0.008019877621470273,
          -0.7149440887344167,
          null,
          -0.008019877621470273,
          0.4195261673056243,
          null,
          -0.008019877621470273,
          0.5754268776375586,
          null,
          -0.008019877621470273,
          0.4829932641850608,
          null,
          -0.008019877621470273,
          -0.06016941174007491,
          null,
          -0.008019877621470273,
          0.633842847493547,
          null,
          -0.008019877621470273,
          0.5765040956500151,
          null,
          -0.008019877621470273,
          0.4723196154596941,
          null,
          -0.008019877621470273,
          0.376729526732609,
          null,
          -0.008019877621470273,
          -1.0,
          null,
          -0.008019877621470273,
          -0.2287783238180268,
          null,
          -0.008019877621470273,
          -0.5344397018655067,
          null,
          -0.008019877621470273,
          -0.23095300660881785,
          null,
          -0.008019877621470273,
          0.631894022698513,
          null,
          -0.008019877621470273,
          0.3966545891546509,
          null,
          -0.008019877621470273,
          -0.7232936635016799,
          null,
          -0.008019877621470273,
          0.45262433001784563,
          null,
          -0.008019877621470273,
          -0.5033338832569485,
          null,
          -0.008019877621470273,
          0.302795547921526,
          null,
          -0.008019877621470273,
          0.38776855442870223,
          null,
          -0.008019877621470273,
          0.034274719736158955,
          null,
          -0.008019877621470273,
          0.6369668184436361,
          null,
          -0.008019877621470273,
          0.7307145791534322,
          null,
          -0.008019877621470273,
          -0.3619224097831447,
          null,
          -0.5715994366882302,
          -0.03590380826423199,
          null,
          0.09095686496438252,
          -0.5715994366882302,
          null,
          0.09095686496438252,
          0.6180489142526819,
          null,
          0.09095686496438252,
          0.7468885624501257,
          null,
          0.09095686496438252,
          0.1749183810573965,
          null,
          0.09095686496438252,
          -0.5904585951638516,
          null,
          0.09095686496438252,
          0.15496243450914854,
          null,
          0.09095686496438252,
          -0.09226803411331107,
          null,
          0.09095686496438252,
          0.7586839946580897,
          null,
          0.09095686496438252,
          -0.76794855010392,
          null,
          0.09095686496438252,
          -0.22608559298647674,
          null,
          0.09095686496438252,
          0.47667654618606603,
          null,
          0.09095686496438252,
          0.5400269088033957,
          null,
          0.09095686496438252,
          0.4896357630110939,
          null,
          0.09095686496438252,
          0.5754268776375586,
          null,
          0.09095686496438252,
          -0.6697787288500738,
          null,
          0.09095686496438252,
          0.4829932641850608,
          null,
          0.09095686496438252,
          -0.03521297459666767,
          null,
          0.09095686496438252,
          -0.06016941174007491,
          null,
          0.09095686496438252,
          0.39170820478188345,
          null,
          0.09095686496438252,
          0.38776855442870223,
          null,
          0.09095686496438252,
          0.034274719736158955,
          null,
          0.09095686496438252,
          -0.1632023169733191,
          null,
          -0.2722826319411993,
          -0.03590380826423199,
          null,
          0.023964504533386992,
          -0.2722826319411993,
          null,
          0.023964504533386992,
          0.6206519404690765,
          null,
          0.023964504533386992,
          0.5994658190846913,
          null,
          0.023964504533386992,
          -0.1075161027784451,
          null,
          0.023964504533386992,
          -0.5904585951638516,
          null,
          0.023964504533386992,
          0.5266021117483093,
          null,
          0.023964504533386992,
          -0.7806108961059331,
          null,
          0.023964504533386992,
          0.7192380270557481,
          null,
          0.023964504533386992,
          0.009383255206973043,
          null,
          0.023964504533386992,
          -0.6718074208317599,
          null,
          0.023964504533386992,
          -0.5069724043959867,
          null,
          0.023964504533386992,
          0.717495935639928,
          null,
          0.023964504533386992,
          0.5400269088033957,
          null,
          0.023964504533386992,
          0.4195261673056243,
          null,
          0.023964504533386992,
          -0.6697787288500738,
          null,
          0.023964504533386992,
          0.6916818499464943,
          null,
          0.023964504533386992,
          -0.43934657485800593,
          null,
          0.023964504533386992,
          0.5765040956500151,
          null,
          0.023964504533386992,
          -0.5896940388835576,
          null,
          0.023964504533386992,
          0.376729526732609,
          null,
          0.023964504533386992,
          -0.6085950859263148,
          null,
          0.023964504533386992,
          -0.23095300660881785,
          null,
          0.023964504533386992,
          0.3966545891546509,
          null,
          0.023964504533386992,
          0.07880304022338748,
          null,
          0.023964504533386992,
          -0.7232936635016799,
          null,
          0.023964504533386992,
          -0.5033338832569485,
          null,
          0.023964504533386992,
          0.12528777730672752,
          null,
          0.023964504533386992,
          0.302795547921526,
          null,
          0.023964504533386992,
          0.034274719736158955,
          null,
          0.023964504533386992,
          -0.1632023169733191,
          null,
          0.023964504533386992,
          0.7307145791534322,
          null,
          0.023964504533386992,
          -0.3619224097831447,
          null,
          0.023964504533386992,
          -0.3444323223075183,
          null,
          -0.4052314030678814,
          -0.03590380826423199,
          null,
          0.028287319629301533,
          -0.4052314030678814,
          null,
          0.028287319629301533,
          0.15817275103133077,
          null,
          0.028287319629301533,
          0.23581587423103997,
          null,
          0.028287319629301533,
          0.19448656827624763,
          null,
          0.028287319629301533,
          -0.09226803411331107,
          null,
          0.028287319629301533,
          -0.7806108961059331,
          null,
          0.028287319629301533,
          0.033116664858014996,
          null,
          0.028287319629301533,
          -0.5177800556081117,
          null,
          0.028287319629301533,
          -0.49563884971652433,
          null,
          0.028287319629301533,
          0.717495935639928,
          null,
          0.028287319629301533,
          0.47667654618606603,
          null,
          0.028287319629301533,
          -0.03521297459666767,
          null,
          0.028287319629301533,
          0.5304412110018222,
          null,
          0.028287319629301533,
          -0.43934657485800593,
          null,
          0.028287319629301533,
          0.633842847493547,
          null,
          0.028287319629301533,
          -0.5896940388835576,
          null,
          0.028287319629301533,
          0.2472299590945729,
          null,
          0.028287319629301533,
          -0.23095300660881785,
          null,
          0.028287319629301533,
          0.631894022698513,
          null,
          0.028287319629301533,
          0.07880304022338748,
          null,
          0.028287319629301533,
          0.6369668184436361,
          null,
          0.028287319629301533,
          -0.3619224097831447,
          null,
          0.028287319629301533,
          -0.3444323223075183,
          null,
          0.23412653359542304,
          -0.03590380826423199,
          null,
          -0.07873815138982895,
          -0.03590380826423199,
          null,
          -0.49732447375483474,
          -0.008019877621470273,
          null,
          -0.7697045815446293,
          -0.03590380826423199,
          null,
          -0.22793725193172432,
          -0.7697045815446293,
          null,
          -0.22793725193172432,
          0.1997627346786284,
          null,
          -0.22793725193172432,
          -0.16387932149528914,
          null,
          -0.22793725193172432,
          -0.3267578127195259,
          null,
          -0.22793725193172432,
          -0.5069724043959867,
          null,
          -0.22793725193172432,
          0.29953701038199326,
          null,
          -0.22793725193172432,
          -0.5036799584929291,
          null,
          -0.22793725193172432,
          0.3423645653966914,
          null,
          -0.22793725193172432,
          -0.7149440887344167,
          null,
          -0.22793725193172432,
          -0.3988599454112074,
          null,
          0.6206519404690765,
          0.09095686496438252,
          null,
          0.6180489142526819,
          0.023964504533386992,
          null,
          0.15817275103133077,
          0.09095686496438252,
          null,
          0.7468885624501257,
          0.028287319629301533,
          null,
          0.1749183810573965,
          -0.008019877621470273,
          null,
          0.23581587423103997,
          0.023964504533386992,
          null,
          0.5994658190846913,
          0.028287319629301533,
          null,
          0.7705390563209353,
          0.023964504533386992,
          null,
          -0.1075161027784451,
          -0.008019877621470273,
          null,
          0.1997627346786284,
          0.023964504533386992,
          null,
          0.19448656827624763,
          -0.008019877621470273,
          null,
          0.39004706686552526,
          -0.008019877621470273,
          null,
          -0.16387932149528914,
          0.05547501409898161,
          null,
          -0.3267578127195259,
          -0.008019877621470273,
          null,
          0.009393164523221701,
          -0.03590380826423199,
          null,
          -0.1415025291946242,
          0.05547501409898161,
          null,
          -0.6851543597534193,
          -0.03590380826423199,
          null,
          -0.5928082593813445,
          -0.008019877621470273,
          null,
          -0.43976632085781053,
          -0.008019877621470273,
          null,
          -0.5904585951638516,
          -0.03590380826423199,
          null,
          0.5266021117483093,
          0.09095686496438252,
          null,
          0.15496243450914854,
          0.023964504533386992,
          null,
          -0.09226803411331107,
          -0.03590380826423199,
          null,
          0.7586839946580897,
          0.028287319629301533,
          null,
          -0.76794855010392,
          -0.03590380826423199,
          null,
          -0.22608559298647674,
          -0.008019877621470273,
          null,
          -0.7806108961059331,
          -0.03590380826423199,
          null,
          0.033116664858014996,
          0.023964504533386992,
          null,
          0.7192380270557481,
          0.028287319629301533,
          null,
          0.009383255206973043,
          -0.03590380826423199,
          null,
          -0.6718074208317599,
          -0.008019877621470273,
          null,
          -0.5069724043959867,
          -0.03590380826423199,
          null,
          0.29953701038199326,
          0.023964504533386992,
          null,
          -0.5177800556081117,
          -0.03590380826423199,
          null,
          -0.49563884971652433,
          -0.008019877621470273,
          null,
          -0.26248834993297415,
          -0.03590380826423199,
          null,
          0.33678820496853035,
          -0.008019877621470273,
          null,
          -0.5036799584929291,
          -0.03590380826423199,
          null,
          0.3423645653966914,
          0.05547501409898161,
          null,
          -0.7149440887344167,
          -0.03590380826423199,
          null,
          -0.3988599454112074,
          -0.008019877621470273,
          null,
          0.717495935639928,
          0.09095686496438252,
          null,
          0.47667654618606603,
          0.023964504533386992,
          null,
          0.5400269088033957,
          0.028287319629301533,
          null,
          0.4896357630110939,
          0.023964504533386992,
          null,
          0.4195261673056243,
          0.09095686496438252,
          null,
          0.5754268776375586,
          0.023964504533386992,
          null,
          -0.6697787288500738,
          -0.008019877621470273,
          null,
          0.4829932641850608,
          0.028287319629301533,
          null,
          -0.03521297459666767,
          -0.008019877621470273,
          null,
          -0.06016941174007491,
          0.05547501409898161,
          null,
          0.39170820478188345,
          -0.008019877621470273,
          null,
          0.5304412110018222,
          0.023964504533386992,
          null,
          0.6916818499464943,
          0.028287319629301533,
          null,
          -0.43934657485800593,
          0.05547501409898161,
          null,
          0.633842847493547,
          0.023964504533386992,
          null,
          0.5765040956500151,
          0.028287319629301533,
          null,
          -0.5896940388835576,
          -0.008019877621470273,
          null,
          0.4723196154596941,
          0.023964504533386992,
          null,
          0.376729526732609,
          0.05547501409898161,
          null,
          -0.6085950859263148,
          -0.008019877621470273,
          null,
          0.2472299590945729,
          -0.008019877621470273,
          null,
          -1.0,
          -0.347365044109075,
          null,
          -0.2287783238180268,
          -0.03590380826423199,
          null,
          -0.5344397018655067,
          0.05547501409898161,
          null,
          -0.3295357371187533,
          -0.008019877621470273,
          null,
          -0.23095300660881785,
          -0.03590380826423199,
          null,
          0.631894022698513,
          0.023964504533386992,
          null,
          0.3966545891546509,
          0.028287319629301533,
          null,
          0.07880304022338748,
          -0.008019877621470273,
          null,
          -0.7232936635016799,
          -0.03590380826423199,
          null,
          0.45262433001784563,
          0.023964504533386992,
          null,
          -0.5033338832569485,
          0.05547501409898161,
          null,
          0.12528777730672752,
          -0.008019877621470273,
          null,
          0.302795547921526,
          0.09095686496438252,
          null,
          0.38776855442870223,
          0.023964504533386992,
          null,
          0.034274719736158955,
          0.05547501409898161,
          null,
          -0.1632023169733191,
          -0.008019877621470273,
          null,
          0.6369668184436361,
          0.023964504533386992,
          null,
          0.7307145791534322,
          0.028287319629301533,
          null,
          -0.3619224097831447,
          0.05547501409898161,
          null,
          -0.3444323223075183,
          -0.008019877621470273,
          null
         ],
         "type": "scatter"
        },
        {
         "hoverinfo": "text",
         "marker": {
          "color": [],
          "colorbar": {
           "thickness": 15,
           "title": {
            "side": "right",
            "text": "Node Connections"
           },
           "xanchor": "left"
          },
          "colorscale": [
           [
            0.0,
            "rgb(255,255,217)"
           ],
           [
            0.125,
            "rgb(237,248,177)"
           ],
           [
            0.25,
            "rgb(199,233,180)"
           ],
           [
            0.375,
            "rgb(127,205,187)"
           ],
           [
            0.5,
            "rgb(65,182,196)"
           ],
           [
            0.625,
            "rgb(29,145,192)"
           ],
           [
            0.75,
            "rgb(34,94,168)"
           ],
           [
            0.875,
            "rgb(37,52,148)"
           ],
           [
            1.0,
            "rgb(8,29,88)"
           ]
          ],
          "line": {
           "width": 2
          },
          "reversescale": true,
          "showscale": true,
          "size": 10
         },
         "mode": "markers",
         "text": [
          "0",
          "Брюки",
          "Джинсы",
          "1",
          "Сумка",
          "2",
          "Футболка",
          "3",
          "Кроссовки",
          "4",
          "Куртка",
          "5",
          "Рубашка",
          "6",
          "7",
          "8",
          "9",
          "Шапка",
          "10",
          "11",
          "12",
          "13",
          "14",
          "15",
          "16",
          "17",
          "18",
          "19",
          "20",
          "21",
          "22",
          "23",
          "24",
          "25",
          "26",
          "27",
          "28",
          "29",
          "30",
          "31",
          "32",
          "33",
          "34",
          "35",
          "36",
          "37",
          "38",
          "39",
          "40",
          "41",
          "42",
          "43",
          "44",
          "45",
          "46",
          "47",
          "48",
          "49",
          "50",
          "51",
          "52",
          "53",
          "54",
          "55",
          "56",
          "57",
          "58",
          "59",
          "60",
          "61",
          "62",
          "63",
          "64",
          "65",
          "66",
          "67",
          "68",
          "69",
          "70",
          "71",
          "72",
          "73",
          "74",
          "75",
          "76",
          "77",
          "78",
          "79",
          "80",
          "81",
          "82",
          "83",
          "84",
          "85",
          "86",
          "87",
          "88",
          "89",
          "90",
          "91"
         ],
         "x": [
          -0.6868743880997197,
          -0.1545538845023588,
          -0.028977930141773578,
          -0.40423327688170635,
          0.009347549191305435,
          -0.548979920898975,
          -0.026976441717161938,
          0.3048645011819649,
          0.13232731450454613,
          -0.6541162850425426,
          0.009424348889380572,
          0.31667422510848375,
          -0.021380945812484908,
          -0.2832331261414118,
          -0.7811422467273141,
          -0.5177905130112446,
          -0.13943105190445887,
          0.08475586879620299,
          0.6271524205789937,
          0.21589010774845271,
          0.8696370069148778,
          0.11067968711766259,
          0.42600180539612753,
          0.5836645829477511,
          -0.4156272134601104,
          0.011954232271275938,
          -0.6694801710998376,
          -0.4195955268651809,
          -0.7339432274251483,
          0.43653840372817815,
          0.7129007772290666,
          0.4688483544961666,
          -0.6510710044233322,
          -0.32235111184622295,
          -0.36346675837894277,
          -0.4036630589518256,
          0.5944256747956832,
          -0.030779186476249602,
          0.71285177389544,
          0.6642524329901055,
          -0.5367314887184741,
          -0.13433633154938773,
          0.131914982631036,
          0.5825845643748984,
          0.0100943805040869,
          0.7365785691360885,
          -0.2494879696595332,
          0.3575417699828695,
          -0.06395345633343527,
          -0.4080763447643164,
          0.3978404826998528,
          -0.6182669342179239,
          0.3977780528371071,
          0.3410466057401747,
          -0.5690903555569867,
          0.5129635208971038,
          -0.4392686230178547,
          0.322672554732824,
          0.09910724659198483,
          0.5230143873752278,
          0.3217986055573174,
          0.4193620587520704,
          -0.35918746136737795,
          0.7782715830843759,
          -0.22537907769650334,
          0.19755955041311554,
          -0.5771962392029425,
          0.47608490263443054,
          0.6933101394888956,
          -0.27827739805700275,
          0.13410864559593613,
          -0.3608040323168944,
          -0.1014007640538052,
          0.030069055279185644,
          -0.5219408090075166,
          -0.20717093659831656,
          -0.122841491729521,
          0.5803622957335564,
          0.4450157909953023,
          -0.6440718555182574,
          -0.4108678553560106,
          -0.5174243523209988,
          0.09450091096768277,
          0.6338970241129867,
          -0.757106571585633,
          -0.09624046032842122,
          -0.6792232025987521,
          -0.7637253600716352,
          -0.25537595862161094,
          0.017487504580618936,
          0.20533450570071896,
          -0.5827615580614091,
          0.8289518054117644,
          0.2102678216986871,
          0.6000153278036493,
          0.4749748935785963,
          0.3426521258643309,
          0.22954667087636332,
          -0.26790904227445533,
          -0.4131162030215075
         ],
         "y": [
          -0.394070334923083,
          -0.347365044109075,
          -0.03590380826423199,
          0.041313815462520304,
          0.05547501409898161,
          -0.3552212832198612,
          -0.008019877621470273,
          -0.5715994366882302,
          0.09095686496438252,
          -0.2722826319411993,
          0.023964504533386992,
          -0.4052314030678814,
          0.028287319629301533,
          0.23412653359542304,
          -0.07873815138982895,
          -0.49732447375483474,
          -0.7697045815446293,
          -0.22793725193172432,
          0.6206519404690765,
          0.6180489142526819,
          0.15817275103133077,
          0.7468885624501257,
          0.1749183810573965,
          0.23581587423103997,
          0.5994658190846913,
          0.7705390563209353,
          -0.1075161027784451,
          0.1997627346786284,
          0.19448656827624763,
          0.39004706686552526,
          -0.16387932149528914,
          -0.3267578127195259,
          0.009393164523221701,
          -0.1415025291946242,
          -0.6851543597534193,
          -0.5928082593813445,
          -0.43976632085781053,
          -0.5904585951638516,
          0.5266021117483093,
          0.15496243450914854,
          -0.09226803411331107,
          0.7586839946580897,
          -0.76794855010392,
          -0.22608559298647674,
          -0.7806108961059331,
          0.033116664858014996,
          0.7192380270557481,
          0.009383255206973043,
          -0.6718074208317599,
          -0.5069724043959867,
          0.29953701038199326,
          -0.5177800556081117,
          -0.49563884971652433,
          -0.26248834993297415,
          0.33678820496853035,
          -0.5036799584929291,
          0.3423645653966914,
          -0.7149440887344167,
          -0.3988599454112074,
          0.717495935639928,
          0.47667654618606603,
          0.5400269088033957,
          0.4896357630110939,
          0.4195261673056243,
          0.5754268776375586,
          -0.6697787288500738,
          0.4829932641850608,
          -0.03521297459666767,
          -0.06016941174007491,
          0.39170820478188345,
          0.5304412110018222,
          0.6916818499464943,
          -0.43934657485800593,
          0.633842847493547,
          0.5765040956500151,
          -0.5896940388835576,
          0.4723196154596941,
          0.376729526732609,
          -0.6085950859263148,
          0.2472299590945729,
          -1.0,
          -0.2287783238180268,
          -0.5344397018655067,
          -0.3295357371187533,
          -0.23095300660881785,
          0.631894022698513,
          0.3966545891546509,
          0.07880304022338748,
          -0.7232936635016799,
          0.45262433001784563,
          -0.5033338832569485,
          0.12528777730672752,
          0.302795547921526,
          0.38776855442870223,
          0.034274719736158955,
          -0.1632023169733191,
          0.6369668184436361,
          0.7307145791534322,
          -0.3619224097831447,
          -0.3444323223075183
         ],
         "type": "scatter"
        }
       ],
       "layout": {
        "annotations": [
         {
          "showarrow": false,
          "text": "Python code: <a href='https://plotly.com/ipython-notebooks/network-graphs/'> https://plotly.com/ipython-notebooks/network-graphs/</a>",
          "x": 0.005,
          "xref": "paper",
          "y": -0.002,
          "yref": "paper"
         }
        ],
        "hovermode": "closest",
        "margin": {
         "b": 20,
         "l": 5,
         "r": 5,
         "t": 40
        },
        "showlegend": false,
        "title": {
         "font": {
          "size": 16
         },
         "text": "<br>Network graph made with Python"
        },
        "xaxis": {
         "showgrid": false,
         "showticklabels": false,
         "zeroline": false
        },
        "yaxis": {
         "showgrid": false,
         "showticklabels": false,
         "zeroline": false
        },
        "template": {
         "data": {
          "histogram2dcontour": [
           {
            "type": "histogram2dcontour",
            "colorbar": {
             "outlinewidth": 0,
             "ticks": ""
            },
            "colorscale": [
             [
              0.0,
              "#0d0887"
             ],
             [
              0.1111111111111111,
              "#46039f"
             ],
             [
              0.2222222222222222,
              "#7201a8"
             ],
             [
              0.3333333333333333,
              "#9c179e"
             ],
             [
              0.4444444444444444,
              "#bd3786"
             ],
             [
              0.5555555555555556,
              "#d8576b"
             ],
             [
              0.6666666666666666,
              "#ed7953"
             ],
             [
              0.7777777777777778,
              "#fb9f3a"
             ],
             [
              0.8888888888888888,
              "#fdca26"
             ],
             [
              1.0,
              "#f0f921"
             ]
            ]
           }
          ],
          "choropleth": [
           {
            "type": "choropleth",
            "colorbar": {
             "outlinewidth": 0,
             "ticks": ""
            }
           }
          ],
          "histogram2d": [
           {
            "type": "histogram2d",
            "colorbar": {
             "outlinewidth": 0,
             "ticks": ""
            },
            "colorscale": [
             [
              0.0,
              "#0d0887"
             ],
             [
              0.1111111111111111,
              "#46039f"
             ],
             [
              0.2222222222222222,
              "#7201a8"
             ],
             [
              0.3333333333333333,
              "#9c179e"
             ],
             [
              0.4444444444444444,
              "#bd3786"
             ],
             [
              0.5555555555555556,
              "#d8576b"
             ],
             [
              0.6666666666666666,
              "#ed7953"
             ],
             [
              0.7777777777777778,
              "#fb9f3a"
             ],
             [
              0.8888888888888888,
              "#fdca26"
             ],
             [
              1.0,
              "#f0f921"
             ]
            ]
           }
          ],
          "heatmap": [
           {
            "type": "heatmap",
            "colorbar": {
             "outlinewidth": 0,
             "ticks": ""
            },
            "colorscale": [
             [
              0.0,
              "#0d0887"
             ],
             [
              0.1111111111111111,
              "#46039f"
             ],
             [
              0.2222222222222222,
              "#7201a8"
             ],
             [
              0.3333333333333333,
              "#9c179e"
             ],
             [
              0.4444444444444444,
              "#bd3786"
             ],
             [
              0.5555555555555556,
              "#d8576b"
             ],
             [
              0.6666666666666666,
              "#ed7953"
             ],
             [
              0.7777777777777778,
              "#fb9f3a"
             ],
             [
              0.8888888888888888,
              "#fdca26"
             ],
             [
              1.0,
              "#f0f921"
             ]
            ]
           }
          ],
          "heatmapgl": [
           {
            "type": "heatmapgl",
            "colorbar": {
             "outlinewidth": 0,
             "ticks": ""
            },
            "colorscale": [
             [
              0.0,
              "#0d0887"
             ],
             [
              0.1111111111111111,
              "#46039f"
             ],
             [
              0.2222222222222222,
              "#7201a8"
             ],
             [
              0.3333333333333333,
              "#9c179e"
             ],
             [
              0.4444444444444444,
              "#bd3786"
             ],
             [
              0.5555555555555556,
              "#d8576b"
             ],
             [
              0.6666666666666666,
              "#ed7953"
             ],
             [
              0.7777777777777778,
              "#fb9f3a"
             ],
             [
              0.8888888888888888,
              "#fdca26"
             ],
             [
              1.0,
              "#f0f921"
             ]
            ]
           }
          ],
          "contourcarpet": [
           {
            "type": "contourcarpet",
            "colorbar": {
             "outlinewidth": 0,
             "ticks": ""
            }
           }
          ],
          "contour": [
           {
            "type": "contour",
            "colorbar": {
             "outlinewidth": 0,
             "ticks": ""
            },
            "colorscale": [
             [
              0.0,
              "#0d0887"
             ],
             [
              0.1111111111111111,
              "#46039f"
             ],
             [
              0.2222222222222222,
              "#7201a8"
             ],
             [
              0.3333333333333333,
              "#9c179e"
             ],
             [
              0.4444444444444444,
              "#bd3786"
             ],
             [
              0.5555555555555556,
              "#d8576b"
             ],
             [
              0.6666666666666666,
              "#ed7953"
             ],
             [
              0.7777777777777778,
              "#fb9f3a"
             ],
             [
              0.8888888888888888,
              "#fdca26"
             ],
             [
              1.0,
              "#f0f921"
             ]
            ]
           }
          ],
          "surface": [
           {
            "type": "surface",
            "colorbar": {
             "outlinewidth": 0,
             "ticks": ""
            },
            "colorscale": [
             [
              0.0,
              "#0d0887"
             ],
             [
              0.1111111111111111,
              "#46039f"
             ],
             [
              0.2222222222222222,
              "#7201a8"
             ],
             [
              0.3333333333333333,
              "#9c179e"
             ],
             [
              0.4444444444444444,
              "#bd3786"
             ],
             [
              0.5555555555555556,
              "#d8576b"
             ],
             [
              0.6666666666666666,
              "#ed7953"
             ],
             [
              0.7777777777777778,
              "#fb9f3a"
             ],
             [
              0.8888888888888888,
              "#fdca26"
             ],
             [
              1.0,
              "#f0f921"
             ]
            ]
           }
          ],
          "mesh3d": [
           {
            "type": "mesh3d",
            "colorbar": {
             "outlinewidth": 0,
             "ticks": ""
            }
           }
          ],
          "scatter": [
           {
            "fillpattern": {
             "fillmode": "overlay",
             "size": 10,
             "solidity": 0.2
            },
            "type": "scatter"
           }
          ],
          "parcoords": [
           {
            "type": "parcoords",
            "line": {
             "colorbar": {
              "outlinewidth": 0,
              "ticks": ""
             }
            }
           }
          ],
          "scatterpolargl": [
           {
            "type": "scatterpolargl",
            "marker": {
             "colorbar": {
              "outlinewidth": 0,
              "ticks": ""
             }
            }
           }
          ],
          "bar": [
           {
            "error_x": {
             "color": "#2a3f5f"
            },
            "error_y": {
             "color": "#2a3f5f"
            },
            "marker": {
             "line": {
              "color": "#E5ECF6",
              "width": 0.5
             },
             "pattern": {
              "fillmode": "overlay",
              "size": 10,
              "solidity": 0.2
             }
            },
            "type": "bar"
           }
          ],
          "scattergeo": [
           {
            "type": "scattergeo",
            "marker": {
             "colorbar": {
              "outlinewidth": 0,
              "ticks": ""
             }
            }
           }
          ],
          "scatterpolar": [
           {
            "type": "scatterpolar",
            "marker": {
             "colorbar": {
              "outlinewidth": 0,
              "ticks": ""
             }
            }
           }
          ],
          "histogram": [
           {
            "marker": {
             "pattern": {
              "fillmode": "overlay",
              "size": 10,
              "solidity": 0.2
             }
            },
            "type": "histogram"
           }
          ],
          "scattergl": [
           {
            "type": "scattergl",
            "marker": {
             "colorbar": {
              "outlinewidth": 0,
              "ticks": ""
             }
            }
           }
          ],
          "scatter3d": [
           {
            "type": "scatter3d",
            "line": {
             "colorbar": {
              "outlinewidth": 0,
              "ticks": ""
             }
            },
            "marker": {
             "colorbar": {
              "outlinewidth": 0,
              "ticks": ""
             }
            }
           }
          ],
          "scattermapbox": [
           {
            "type": "scattermapbox",
            "marker": {
             "colorbar": {
              "outlinewidth": 0,
              "ticks": ""
             }
            }
           }
          ],
          "scatterternary": [
           {
            "type": "scatterternary",
            "marker": {
             "colorbar": {
              "outlinewidth": 0,
              "ticks": ""
             }
            }
           }
          ],
          "scattercarpet": [
           {
            "type": "scattercarpet",
            "marker": {
             "colorbar": {
              "outlinewidth": 0,
              "ticks": ""
             }
            }
           }
          ],
          "carpet": [
           {
            "aaxis": {
             "endlinecolor": "#2a3f5f",
             "gridcolor": "white",
             "linecolor": "white",
             "minorgridcolor": "white",
             "startlinecolor": "#2a3f5f"
            },
            "baxis": {
             "endlinecolor": "#2a3f5f",
             "gridcolor": "white",
             "linecolor": "white",
             "minorgridcolor": "white",
             "startlinecolor": "#2a3f5f"
            },
            "type": "carpet"
           }
          ],
          "table": [
           {
            "cells": {
             "fill": {
              "color": "#EBF0F8"
             },
             "line": {
              "color": "white"
             }
            },
            "header": {
             "fill": {
              "color": "#C8D4E3"
             },
             "line": {
              "color": "white"
             }
            },
            "type": "table"
           }
          ],
          "barpolar": [
           {
            "marker": {
             "line": {
              "color": "#E5ECF6",
              "width": 0.5
             },
             "pattern": {
              "fillmode": "overlay",
              "size": 10,
              "solidity": 0.2
             }
            },
            "type": "barpolar"
           }
          ],
          "pie": [
           {
            "automargin": true,
            "type": "pie"
           }
          ]
         },
         "layout": {
          "autotypenumbers": "strict",
          "colorway": [
           "#636efa",
           "#EF553B",
           "#00cc96",
           "#ab63fa",
           "#FFA15A",
           "#19d3f3",
           "#FF6692",
           "#B6E880",
           "#FF97FF",
           "#FECB52"
          ],
          "font": {
           "color": "#2a3f5f"
          },
          "hovermode": "closest",
          "hoverlabel": {
           "align": "left"
          },
          "paper_bgcolor": "white",
          "plot_bgcolor": "#E5ECF6",
          "polar": {
           "bgcolor": "#E5ECF6",
           "angularaxis": {
            "gridcolor": "white",
            "linecolor": "white",
            "ticks": ""
           },
           "radialaxis": {
            "gridcolor": "white",
            "linecolor": "white",
            "ticks": ""
           }
          },
          "ternary": {
           "bgcolor": "#E5ECF6",
           "aaxis": {
            "gridcolor": "white",
            "linecolor": "white",
            "ticks": ""
           },
           "baxis": {
            "gridcolor": "white",
            "linecolor": "white",
            "ticks": ""
           },
           "caxis": {
            "gridcolor": "white",
            "linecolor": "white",
            "ticks": ""
           }
          },
          "coloraxis": {
           "colorbar": {
            "outlinewidth": 0,
            "ticks": ""
           }
          },
          "colorscale": {
           "sequential": [
            [
             0.0,
             "#0d0887"
            ],
            [
             0.1111111111111111,
             "#46039f"
            ],
            [
             0.2222222222222222,
             "#7201a8"
            ],
            [
             0.3333333333333333,
             "#9c179e"
            ],
            [
             0.4444444444444444,
             "#bd3786"
            ],
            [
             0.5555555555555556,
             "#d8576b"
            ],
            [
             0.6666666666666666,
             "#ed7953"
            ],
            [
             0.7777777777777778,
             "#fb9f3a"
            ],
            [
             0.8888888888888888,
             "#fdca26"
            ],
            [
             1.0,
             "#f0f921"
            ]
           ],
           "sequentialminus": [
            [
             0.0,
             "#0d0887"
            ],
            [
             0.1111111111111111,
             "#46039f"
            ],
            [
             0.2222222222222222,
             "#7201a8"
            ],
            [
             0.3333333333333333,
             "#9c179e"
            ],
            [
             0.4444444444444444,
             "#bd3786"
            ],
            [
             0.5555555555555556,
             "#d8576b"
            ],
            [
             0.6666666666666666,
             "#ed7953"
            ],
            [
             0.7777777777777778,
             "#fb9f3a"
            ],
            [
             0.8888888888888888,
             "#fdca26"
            ],
            [
             1.0,
             "#f0f921"
            ]
           ],
           "diverging": [
            [
             0,
             "#8e0152"
            ],
            [
             0.1,
             "#c51b7d"
            ],
            [
             0.2,
             "#de77ae"
            ],
            [
             0.3,
             "#f1b6da"
            ],
            [
             0.4,
             "#fde0ef"
            ],
            [
             0.5,
             "#f7f7f7"
            ],
            [
             0.6,
             "#e6f5d0"
            ],
            [
             0.7,
             "#b8e186"
            ],
            [
             0.8,
             "#7fbc41"
            ],
            [
             0.9,
             "#4d9221"
            ],
            [
             1,
             "#276419"
            ]
           ]
          },
          "xaxis": {
           "gridcolor": "white",
           "linecolor": "white",
           "ticks": "",
           "title": {
            "standoff": 15
           },
           "zerolinecolor": "white",
           "automargin": true,
           "zerolinewidth": 2
          },
          "yaxis": {
           "gridcolor": "white",
           "linecolor": "white",
           "ticks": "",
           "title": {
            "standoff": 15
           },
           "zerolinecolor": "white",
           "automargin": true,
           "zerolinewidth": 2
          },
          "scene": {
           "xaxis": {
            "backgroundcolor": "#E5ECF6",
            "gridcolor": "white",
            "linecolor": "white",
            "showbackground": true,
            "ticks": "",
            "zerolinecolor": "white",
            "gridwidth": 2
           },
           "yaxis": {
            "backgroundcolor": "#E5ECF6",
            "gridcolor": "white",
            "linecolor": "white",
            "showbackground": true,
            "ticks": "",
            "zerolinecolor": "white",
            "gridwidth": 2
           },
           "zaxis": {
            "backgroundcolor": "#E5ECF6",
            "gridcolor": "white",
            "linecolor": "white",
            "showbackground": true,
            "ticks": "",
            "zerolinecolor": "white",
            "gridwidth": 2
           }
          },
          "shapedefaults": {
           "line": {
            "color": "#2a3f5f"
           }
          },
          "annotationdefaults": {
           "arrowcolor": "#2a3f5f",
           "arrowhead": 0,
           "arrowwidth": 1
          },
          "geo": {
           "bgcolor": "white",
           "landcolor": "#E5ECF6",
           "subunitcolor": "white",
           "showland": true,
           "showlakes": true,
           "lakecolor": "white"
          },
          "title": {
           "x": 0.05
          },
          "mapbox": {
           "style": "light"
          }
         }
        }
       },
       "config": {
        "plotlyServerURL": "https://plot.ly"
       }
      },
      "text/html": [
       "<div>                            <div id=\"1ee74cd8-9e34-4b47-8710-0a9251081c9e\" class=\"plotly-graph-div\" style=\"height:525px; width:100%;\"></div>            <script type=\"text/javascript\">                require([\"plotly\"], function(Plotly) {                    window.PLOTLYENV=window.PLOTLYENV || {};                                    if (document.getElementById(\"1ee74cd8-9e34-4b47-8710-0a9251081c9e\")) {                    Plotly.newPlot(                        \"1ee74cd8-9e34-4b47-8710-0a9251081c9e\",                        [{\"hoverinfo\":\"none\",\"line\":{\"color\":\"#888\",\"width\":0.5},\"mode\":\"lines\",\"x\":[-0.6868743880997197,-0.028977930141773578,null,-0.1545538845023588,-0.6868743880997197,null,-0.1545538845023588,-0.40423327688170635,null,-0.1545538845023588,-0.548979920898975,null,-0.1545538845023588,-0.6510710044233322,null,-0.1545538845023588,-0.32235111184622295,null,-0.1545538845023588,-0.36346675837894277,null,-0.1545538845023588,-0.4036630589518256,null,-0.1545538845023588,0.5944256747956832,null,-0.1545538845023588,-0.5174243523209988,null,-0.1545538845023588,0.09450091096768277,null,-0.1545538845023588,0.6338970241129867,null,-0.028977930141773578,-0.5177905130112446,null,-0.028977930141773578,-0.32235111184622295,null,-0.028977930141773578,-0.4036630589518256,null,-0.028977930141773578,0.71285177389544,null,-0.028977930141773578,0.6642524329901055,null,-0.028977930141773578,-0.13433633154938773,null,-0.028977930141773578,0.5825845643748984,null,-0.028977930141773578,0.7365785691360885,null,-0.028977930141773578,-0.2494879696595332,null,-0.028977930141773578,-0.06395345633343527,null,-0.028977930141773578,0.3978404826998528,null,-0.028977930141773578,0.3977780528371071,null,-0.028977930141773578,-0.5690903555569867,null,-0.028977930141773578,-0.4392686230178547,null,-0.028977930141773578,0.09910724659198483,null,-0.028977930141773578,-0.4108678553560106,null,-0.028977930141773578,0.09450091096768277,null,-0.028977930141773578,0.6338970241129867,null,-0.028977930141773578,-0.09624046032842122,null,-0.028977930141773578,-0.6792232025987521,null,-0.028977930141773578,-0.7637253600716352,null,-0.028977930141773578,0.017487504580618936,null,-0.028977930141773578,0.20533450570071896,null,-0.028977930141773578,-0.5827615580614091,null,-0.40423327688170635,0.009347549191305435,null,0.009347549191305435,-0.2832331261414118,null,0.009347549191305435,0.011954232271275938,null,0.009347549191305435,0.43653840372817815,null,0.009347549191305435,-0.6510710044233322,null,0.009347549191305435,0.5944256747956832,null,0.009347549191305435,0.3410466057401747,null,0.009347549191305435,-0.5690903555569867,null,0.009347549191305435,0.5129635208971038,null,0.009347549191305435,-0.35918746136737795,null,0.009347549191305435,-0.27827739805700275,null,0.009347549191305435,0.13410864559593613,null,0.009347549191305435,-0.3608040323168944,null,0.009347549191305435,-0.122841491729521,null,0.009347549191305435,0.4450157909953023,null,0.009347549191305435,-0.6440718555182574,null,0.009347549191305435,-0.4108678553560106,null,0.009347549191305435,-0.5174243523209988,null,0.009347549191305435,0.6338970241129867,null,0.009347549191305435,-0.25537595862161094,null,0.009347549191305435,0.017487504580618936,null,0.009347549191305435,-0.5827615580614091,null,0.009347549191305435,0.8289518054117644,null,0.009347549191305435,0.2102678216986871,null,0.009347549191305435,0.4749748935785963,null,0.009347549191305435,0.3426521258643309,null,0.009347549191305435,0.22954667087636332,null,0.009347549191305435,-0.4131162030215075,null,-0.548979920898975,-0.026976441717161938,null,-0.026976441717161938,-0.7811422467273141,null,-0.026976441717161938,-0.36346675837894277,null,-0.026976441717161938,0.131914982631036,null,-0.026976441717161938,0.3575417699828695,null,-0.026976441717161938,-0.6182669342179239,null,-0.026976441717161938,0.3410466057401747,null,-0.026976441717161938,0.322672554732824,null,-0.026976441717161938,0.7782715830843759,null,-0.026976441717161938,-0.22537907769650334,null,-0.026976441717161938,-0.5771962392029425,null,-0.026976441717161938,0.6933101394888956,null,-0.026976441717161938,0.030069055279185644,null,-0.026976441717161938,-0.5219408090075166,null,-0.026976441717161938,-0.122841491729521,null,-0.026976441717161938,0.5803622957335564,null,-0.026976441717161938,-0.4108678553560106,null,-0.026976441717161938,-0.5174243523209988,null,-0.026976441717161938,0.09450091096768277,null,-0.026976441717161938,-0.757106571585633,null,-0.026976441717161938,-0.09624046032842122,null,-0.026976441717161938,-0.6792232025987521,null,-0.026976441717161938,-0.25537595862161094,null,-0.026976441717161938,0.017487504580618936,null,-0.026976441717161938,0.20533450570071896,null,-0.026976441717161938,0.8289518054117644,null,-0.026976441717161938,0.2102678216986871,null,-0.026976441717161938,0.6000153278036493,null,-0.026976441717161938,0.3426521258643309,null,-0.026976441717161938,0.22954667087636332,null,-0.026976441717161938,-0.26790904227445533,null,0.3048645011819649,-0.028977930141773578,null,0.13232731450454613,0.3048645011819649,null,0.13232731450454613,0.21589010774845271,null,0.13232731450454613,0.11067968711766259,null,0.13232731450454613,0.42600180539612753,null,0.13232731450454613,-0.030779186476249602,null,0.13232731450454613,0.6642524329901055,null,0.13232731450454613,-0.5367314887184741,null,0.13232731450454613,-0.13433633154938773,null,0.13232731450454613,0.131914982631036,null,0.13232731450454613,0.5825845643748984,null,0.13232731450454613,0.3217986055573174,null,0.13232731450454613,0.4193620587520704,null,0.13232731450454613,-0.35918746136737795,null,0.13232731450454613,-0.22537907769650334,null,0.13232731450454613,0.19755955041311554,null,0.13232731450454613,-0.5771962392029425,null,0.13232731450454613,0.47608490263443054,null,0.13232731450454613,0.6933101394888956,null,0.13232731450454613,-0.27827739805700275,null,0.13232731450454613,0.2102678216986871,null,0.13232731450454613,0.6000153278036493,null,0.13232731450454613,0.4749748935785963,null,-0.6541162850425426,-0.028977930141773578,null,0.009424348889380572,-0.6541162850425426,null,0.009424348889380572,0.6271524205789937,null,0.009424348889380572,-0.4156272134601104,null,0.009424348889380572,-0.6694801710998376,null,0.009424348889380572,-0.030779186476249602,null,0.009424348889380572,0.71285177389544,null,0.009424348889380572,0.0100943805040869,null,0.009424348889380572,-0.2494879696595332,null,0.009424348889380572,0.3575417699828695,null,0.009424348889380572,-0.06395345633343527,null,0.009424348889380572,-0.4080763447643164,null,0.009424348889380572,0.5230143873752278,null,0.009424348889380572,0.4193620587520704,null,0.009424348889380572,0.7782715830843759,null,0.009424348889380572,0.19755955041311554,null,0.009424348889380572,-0.3608040323168944,null,0.009424348889380572,-0.1014007640538052,null,0.009424348889380572,-0.5219408090075166,null,0.009424348889380572,-0.20717093659831656,null,0.009424348889380572,0.5803622957335564,null,0.009424348889380572,0.4450157909953023,null,0.009424348889380572,-0.757106571585633,null,0.009424348889380572,-0.6792232025987521,null,0.009424348889380572,-0.7637253600716352,null,0.009424348889380572,-0.25537595862161094,null,0.009424348889380572,0.20533450570071896,null,0.009424348889380572,-0.5827615580614091,null,0.009424348889380572,0.8289518054117644,null,0.009424348889380572,0.6000153278036493,null,0.009424348889380572,0.4749748935785963,null,0.009424348889380572,0.22954667087636332,null,0.009424348889380572,-0.26790904227445533,null,0.009424348889380572,-0.4131162030215075,null,0.31667422510848375,-0.028977930141773578,null,-0.021380945812484908,0.31667422510848375,null,-0.021380945812484908,0.8696370069148778,null,-0.021380945812484908,0.5836645829477511,null,-0.021380945812484908,-0.7339432274251483,null,-0.021380945812484908,-0.5367314887184741,null,-0.021380945812484908,0.0100943805040869,null,-0.021380945812484908,0.7365785691360885,null,-0.021380945812484908,-0.6182669342179239,null,-0.021380945812484908,0.3977780528371071,null,-0.021380945812484908,0.5230143873752278,null,-0.021380945812484908,0.3217986055573174,null,-0.021380945812484908,0.47608490263443054,null,-0.021380945812484908,0.13410864559593613,null,-0.021380945812484908,-0.1014007640538052,null,-0.021380945812484908,0.030069055279185644,null,-0.021380945812484908,-0.20717093659831656,null,-0.021380945812484908,-0.6440718555182574,null,-0.021380945812484908,-0.757106571585633,null,-0.021380945812484908,-0.09624046032842122,null,-0.021380945812484908,-0.7637253600716352,null,-0.021380945812484908,0.3426521258643309,null,-0.021380945812484908,-0.26790904227445533,null,-0.021380945812484908,-0.4131162030215075,null,-0.2832331261414118,-0.028977930141773578,null,-0.7811422467273141,-0.028977930141773578,null,-0.5177905130112446,-0.026976441717161938,null,-0.13943105190445887,-0.028977930141773578,null,0.08475586879620299,-0.13943105190445887,null,0.08475586879620299,-0.4195955268651809,null,0.08475586879620299,0.7129007772290666,null,0.08475586879620299,0.4688483544961666,null,0.08475586879620299,-0.4080763447643164,null,0.08475586879620299,0.3978404826998528,null,0.08475586879620299,0.5129635208971038,null,0.08475586879620299,-0.4392686230178547,null,0.08475586879620299,0.322672554732824,null,0.08475586879620299,0.09910724659198483,null,0.6271524205789937,0.13232731450454613,null,0.21589010774845271,0.009424348889380572,null,0.8696370069148778,0.13232731450454613,null,0.11067968711766259,-0.021380945812484908,null,0.42600180539612753,-0.026976441717161938,null,0.5836645829477511,0.009424348889380572,null,-0.4156272134601104,-0.021380945812484908,null,0.011954232271275938,0.009424348889380572,null,-0.6694801710998376,-0.026976441717161938,null,-0.4195955268651809,0.009424348889380572,null,-0.7339432274251483,-0.026976441717161938,null,0.43653840372817815,-0.026976441717161938,null,0.7129007772290666,0.009347549191305435,null,0.4688483544961666,-0.026976441717161938,null,-0.6510710044233322,-0.028977930141773578,null,-0.32235111184622295,0.009347549191305435,null,-0.36346675837894277,-0.028977930141773578,null,-0.4036630589518256,-0.026976441717161938,null,0.5944256747956832,-0.026976441717161938,null,-0.030779186476249602,-0.028977930141773578,null,0.71285177389544,0.13232731450454613,null,0.6642524329901055,0.009424348889380572,null,-0.5367314887184741,-0.028977930141773578,null,-0.13433633154938773,-0.021380945812484908,null,0.131914982631036,-0.028977930141773578,null,0.5825845643748984,-0.026976441717161938,null,0.0100943805040869,-0.028977930141773578,null,0.7365785691360885,0.009424348889380572,null,-0.2494879696595332,-0.021380945812484908,null,0.3575417699828695,-0.028977930141773578,null,-0.06395345633343527,-0.026976441717161938,null,-0.4080763447643164,-0.028977930141773578,null,0.3978404826998528,0.009424348889380572,null,-0.6182669342179239,-0.028977930141773578,null,0.3977780528371071,-0.026976441717161938,null,0.3410466057401747,-0.028977930141773578,null,-0.5690903555569867,-0.026976441717161938,null,0.5129635208971038,-0.028977930141773578,null,-0.4392686230178547,0.009347549191305435,null,0.322672554732824,-0.028977930141773578,null,0.09910724659198483,-0.026976441717161938,null,0.5230143873752278,0.13232731450454613,null,0.3217986055573174,0.009424348889380572,null,0.4193620587520704,-0.021380945812484908,null,-0.35918746136737795,0.009424348889380572,null,0.7782715830843759,0.13232731450454613,null,-0.22537907769650334,0.009424348889380572,null,0.19755955041311554,-0.026976441717161938,null,-0.5771962392029425,-0.021380945812484908,null,0.47608490263443054,-0.026976441717161938,null,0.6933101394888956,0.009347549191305435,null,-0.27827739805700275,-0.026976441717161938,null,0.13410864559593613,0.009424348889380572,null,-0.3608040323168944,-0.021380945812484908,null,-0.1014007640538052,0.009347549191305435,null,0.030069055279185644,0.009424348889380572,null,-0.5219408090075166,-0.021380945812484908,null,-0.20717093659831656,-0.026976441717161938,null,-0.122841491729521,0.009424348889380572,null,0.5803622957335564,0.009347549191305435,null,0.4450157909953023,-0.026976441717161938,null,-0.6440718555182574,-0.026976441717161938,null,-0.4108678553560106,-0.1545538845023588,null,-0.5174243523209988,-0.028977930141773578,null,0.09450091096768277,0.009347549191305435,null,0.6338970241129867,-0.026976441717161938,null,-0.757106571585633,-0.028977930141773578,null,-0.09624046032842122,0.009424348889380572,null,-0.6792232025987521,-0.021380945812484908,null,-0.7637253600716352,-0.026976441717161938,null,-0.25537595862161094,-0.028977930141773578,null,0.017487504580618936,0.009424348889380572,null,0.20533450570071896,0.009347549191305435,null,-0.5827615580614091,-0.026976441717161938,null,0.8289518054117644,0.13232731450454613,null,0.2102678216986871,0.009424348889380572,null,0.6000153278036493,0.009347549191305435,null,0.4749748935785963,-0.026976441717161938,null,0.3426521258643309,0.009424348889380572,null,0.22954667087636332,-0.021380945812484908,null,-0.26790904227445533,0.009347549191305435,null,-0.4131162030215075,-0.026976441717161938,null],\"y\":[-0.394070334923083,-0.03590380826423199,null,-0.347365044109075,-0.394070334923083,null,-0.347365044109075,0.041313815462520304,null,-0.347365044109075,-0.3552212832198612,null,-0.347365044109075,0.009393164523221701,null,-0.347365044109075,-0.1415025291946242,null,-0.347365044109075,-0.6851543597534193,null,-0.347365044109075,-0.5928082593813445,null,-0.347365044109075,-0.43976632085781053,null,-0.347365044109075,-0.2287783238180268,null,-0.347365044109075,-0.5344397018655067,null,-0.347365044109075,-0.3295357371187533,null,-0.03590380826423199,-0.49732447375483474,null,-0.03590380826423199,-0.1415025291946242,null,-0.03590380826423199,-0.5928082593813445,null,-0.03590380826423199,0.5266021117483093,null,-0.03590380826423199,0.15496243450914854,null,-0.03590380826423199,0.7586839946580897,null,-0.03590380826423199,-0.22608559298647674,null,-0.03590380826423199,0.033116664858014996,null,-0.03590380826423199,0.7192380270557481,null,-0.03590380826423199,-0.6718074208317599,null,-0.03590380826423199,0.29953701038199326,null,-0.03590380826423199,-0.49563884971652433,null,-0.03590380826423199,0.33678820496853035,null,-0.03590380826423199,0.3423645653966914,null,-0.03590380826423199,-0.3988599454112074,null,-0.03590380826423199,-1.0,null,-0.03590380826423199,-0.5344397018655067,null,-0.03590380826423199,-0.3295357371187533,null,-0.03590380826423199,0.631894022698513,null,-0.03590380826423199,0.3966545891546509,null,-0.03590380826423199,0.07880304022338748,null,-0.03590380826423199,0.45262433001784563,null,-0.03590380826423199,-0.5033338832569485,null,-0.03590380826423199,0.12528777730672752,null,0.041313815462520304,0.05547501409898161,null,0.05547501409898161,0.23412653359542304,null,0.05547501409898161,0.7705390563209353,null,0.05547501409898161,0.39004706686552526,null,0.05547501409898161,0.009393164523221701,null,0.05547501409898161,-0.43976632085781053,null,0.05547501409898161,-0.26248834993297415,null,0.05547501409898161,0.33678820496853035,null,0.05547501409898161,-0.5036799584929291,null,0.05547501409898161,0.4896357630110939,null,0.05547501409898161,0.39170820478188345,null,0.05547501409898161,0.5304412110018222,null,0.05547501409898161,0.6916818499464943,null,0.05547501409898161,0.4723196154596941,null,0.05547501409898161,-0.6085950859263148,null,0.05547501409898161,0.2472299590945729,null,0.05547501409898161,-1.0,null,0.05547501409898161,-0.2287783238180268,null,0.05547501409898161,-0.3295357371187533,null,0.05547501409898161,-0.7232936635016799,null,0.05547501409898161,0.45262433001784563,null,0.05547501409898161,0.12528777730672752,null,0.05547501409898161,0.302795547921526,null,0.05547501409898161,0.38776855442870223,null,0.05547501409898161,-0.1632023169733191,null,0.05547501409898161,0.6369668184436361,null,0.05547501409898161,0.7307145791534322,null,0.05547501409898161,-0.3444323223075183,null,-0.3552212832198612,-0.008019877621470273,null,-0.008019877621470273,-0.07873815138982895,null,-0.008019877621470273,-0.6851543597534193,null,-0.008019877621470273,-0.76794855010392,null,-0.008019877621470273,0.009383255206973043,null,-0.008019877621470273,-0.5177800556081117,null,-0.008019877621470273,-0.26248834993297415,null,-0.008019877621470273,-0.7149440887344167,null,-0.008019877621470273,0.4195261673056243,null,-0.008019877621470273,0.5754268776375586,null,-0.008019877621470273,0.4829932641850608,null,-0.008019877621470273,-0.06016941174007491,null,-0.008019877621470273,0.633842847493547,null,-0.008019877621470273,0.5765040956500151,null,-0.008019877621470273,0.4723196154596941,null,-0.008019877621470273,0.376729526732609,null,-0.008019877621470273,-1.0,null,-0.008019877621470273,-0.2287783238180268,null,-0.008019877621470273,-0.5344397018655067,null,-0.008019877621470273,-0.23095300660881785,null,-0.008019877621470273,0.631894022698513,null,-0.008019877621470273,0.3966545891546509,null,-0.008019877621470273,-0.7232936635016799,null,-0.008019877621470273,0.45262433001784563,null,-0.008019877621470273,-0.5033338832569485,null,-0.008019877621470273,0.302795547921526,null,-0.008019877621470273,0.38776855442870223,null,-0.008019877621470273,0.034274719736158955,null,-0.008019877621470273,0.6369668184436361,null,-0.008019877621470273,0.7307145791534322,null,-0.008019877621470273,-0.3619224097831447,null,-0.5715994366882302,-0.03590380826423199,null,0.09095686496438252,-0.5715994366882302,null,0.09095686496438252,0.6180489142526819,null,0.09095686496438252,0.7468885624501257,null,0.09095686496438252,0.1749183810573965,null,0.09095686496438252,-0.5904585951638516,null,0.09095686496438252,0.15496243450914854,null,0.09095686496438252,-0.09226803411331107,null,0.09095686496438252,0.7586839946580897,null,0.09095686496438252,-0.76794855010392,null,0.09095686496438252,-0.22608559298647674,null,0.09095686496438252,0.47667654618606603,null,0.09095686496438252,0.5400269088033957,null,0.09095686496438252,0.4896357630110939,null,0.09095686496438252,0.5754268776375586,null,0.09095686496438252,-0.6697787288500738,null,0.09095686496438252,0.4829932641850608,null,0.09095686496438252,-0.03521297459666767,null,0.09095686496438252,-0.06016941174007491,null,0.09095686496438252,0.39170820478188345,null,0.09095686496438252,0.38776855442870223,null,0.09095686496438252,0.034274719736158955,null,0.09095686496438252,-0.1632023169733191,null,-0.2722826319411993,-0.03590380826423199,null,0.023964504533386992,-0.2722826319411993,null,0.023964504533386992,0.6206519404690765,null,0.023964504533386992,0.5994658190846913,null,0.023964504533386992,-0.1075161027784451,null,0.023964504533386992,-0.5904585951638516,null,0.023964504533386992,0.5266021117483093,null,0.023964504533386992,-0.7806108961059331,null,0.023964504533386992,0.7192380270557481,null,0.023964504533386992,0.009383255206973043,null,0.023964504533386992,-0.6718074208317599,null,0.023964504533386992,-0.5069724043959867,null,0.023964504533386992,0.717495935639928,null,0.023964504533386992,0.5400269088033957,null,0.023964504533386992,0.4195261673056243,null,0.023964504533386992,-0.6697787288500738,null,0.023964504533386992,0.6916818499464943,null,0.023964504533386992,-0.43934657485800593,null,0.023964504533386992,0.5765040956500151,null,0.023964504533386992,-0.5896940388835576,null,0.023964504533386992,0.376729526732609,null,0.023964504533386992,-0.6085950859263148,null,0.023964504533386992,-0.23095300660881785,null,0.023964504533386992,0.3966545891546509,null,0.023964504533386992,0.07880304022338748,null,0.023964504533386992,-0.7232936635016799,null,0.023964504533386992,-0.5033338832569485,null,0.023964504533386992,0.12528777730672752,null,0.023964504533386992,0.302795547921526,null,0.023964504533386992,0.034274719736158955,null,0.023964504533386992,-0.1632023169733191,null,0.023964504533386992,0.7307145791534322,null,0.023964504533386992,-0.3619224097831447,null,0.023964504533386992,-0.3444323223075183,null,-0.4052314030678814,-0.03590380826423199,null,0.028287319629301533,-0.4052314030678814,null,0.028287319629301533,0.15817275103133077,null,0.028287319629301533,0.23581587423103997,null,0.028287319629301533,0.19448656827624763,null,0.028287319629301533,-0.09226803411331107,null,0.028287319629301533,-0.7806108961059331,null,0.028287319629301533,0.033116664858014996,null,0.028287319629301533,-0.5177800556081117,null,0.028287319629301533,-0.49563884971652433,null,0.028287319629301533,0.717495935639928,null,0.028287319629301533,0.47667654618606603,null,0.028287319629301533,-0.03521297459666767,null,0.028287319629301533,0.5304412110018222,null,0.028287319629301533,-0.43934657485800593,null,0.028287319629301533,0.633842847493547,null,0.028287319629301533,-0.5896940388835576,null,0.028287319629301533,0.2472299590945729,null,0.028287319629301533,-0.23095300660881785,null,0.028287319629301533,0.631894022698513,null,0.028287319629301533,0.07880304022338748,null,0.028287319629301533,0.6369668184436361,null,0.028287319629301533,-0.3619224097831447,null,0.028287319629301533,-0.3444323223075183,null,0.23412653359542304,-0.03590380826423199,null,-0.07873815138982895,-0.03590380826423199,null,-0.49732447375483474,-0.008019877621470273,null,-0.7697045815446293,-0.03590380826423199,null,-0.22793725193172432,-0.7697045815446293,null,-0.22793725193172432,0.1997627346786284,null,-0.22793725193172432,-0.16387932149528914,null,-0.22793725193172432,-0.3267578127195259,null,-0.22793725193172432,-0.5069724043959867,null,-0.22793725193172432,0.29953701038199326,null,-0.22793725193172432,-0.5036799584929291,null,-0.22793725193172432,0.3423645653966914,null,-0.22793725193172432,-0.7149440887344167,null,-0.22793725193172432,-0.3988599454112074,null,0.6206519404690765,0.09095686496438252,null,0.6180489142526819,0.023964504533386992,null,0.15817275103133077,0.09095686496438252,null,0.7468885624501257,0.028287319629301533,null,0.1749183810573965,-0.008019877621470273,null,0.23581587423103997,0.023964504533386992,null,0.5994658190846913,0.028287319629301533,null,0.7705390563209353,0.023964504533386992,null,-0.1075161027784451,-0.008019877621470273,null,0.1997627346786284,0.023964504533386992,null,0.19448656827624763,-0.008019877621470273,null,0.39004706686552526,-0.008019877621470273,null,-0.16387932149528914,0.05547501409898161,null,-0.3267578127195259,-0.008019877621470273,null,0.009393164523221701,-0.03590380826423199,null,-0.1415025291946242,0.05547501409898161,null,-0.6851543597534193,-0.03590380826423199,null,-0.5928082593813445,-0.008019877621470273,null,-0.43976632085781053,-0.008019877621470273,null,-0.5904585951638516,-0.03590380826423199,null,0.5266021117483093,0.09095686496438252,null,0.15496243450914854,0.023964504533386992,null,-0.09226803411331107,-0.03590380826423199,null,0.7586839946580897,0.028287319629301533,null,-0.76794855010392,-0.03590380826423199,null,-0.22608559298647674,-0.008019877621470273,null,-0.7806108961059331,-0.03590380826423199,null,0.033116664858014996,0.023964504533386992,null,0.7192380270557481,0.028287319629301533,null,0.009383255206973043,-0.03590380826423199,null,-0.6718074208317599,-0.008019877621470273,null,-0.5069724043959867,-0.03590380826423199,null,0.29953701038199326,0.023964504533386992,null,-0.5177800556081117,-0.03590380826423199,null,-0.49563884971652433,-0.008019877621470273,null,-0.26248834993297415,-0.03590380826423199,null,0.33678820496853035,-0.008019877621470273,null,-0.5036799584929291,-0.03590380826423199,null,0.3423645653966914,0.05547501409898161,null,-0.7149440887344167,-0.03590380826423199,null,-0.3988599454112074,-0.008019877621470273,null,0.717495935639928,0.09095686496438252,null,0.47667654618606603,0.023964504533386992,null,0.5400269088033957,0.028287319629301533,null,0.4896357630110939,0.023964504533386992,null,0.4195261673056243,0.09095686496438252,null,0.5754268776375586,0.023964504533386992,null,-0.6697787288500738,-0.008019877621470273,null,0.4829932641850608,0.028287319629301533,null,-0.03521297459666767,-0.008019877621470273,null,-0.06016941174007491,0.05547501409898161,null,0.39170820478188345,-0.008019877621470273,null,0.5304412110018222,0.023964504533386992,null,0.6916818499464943,0.028287319629301533,null,-0.43934657485800593,0.05547501409898161,null,0.633842847493547,0.023964504533386992,null,0.5765040956500151,0.028287319629301533,null,-0.5896940388835576,-0.008019877621470273,null,0.4723196154596941,0.023964504533386992,null,0.376729526732609,0.05547501409898161,null,-0.6085950859263148,-0.008019877621470273,null,0.2472299590945729,-0.008019877621470273,null,-1.0,-0.347365044109075,null,-0.2287783238180268,-0.03590380826423199,null,-0.5344397018655067,0.05547501409898161,null,-0.3295357371187533,-0.008019877621470273,null,-0.23095300660881785,-0.03590380826423199,null,0.631894022698513,0.023964504533386992,null,0.3966545891546509,0.028287319629301533,null,0.07880304022338748,-0.008019877621470273,null,-0.7232936635016799,-0.03590380826423199,null,0.45262433001784563,0.023964504533386992,null,-0.5033338832569485,0.05547501409898161,null,0.12528777730672752,-0.008019877621470273,null,0.302795547921526,0.09095686496438252,null,0.38776855442870223,0.023964504533386992,null,0.034274719736158955,0.05547501409898161,null,-0.1632023169733191,-0.008019877621470273,null,0.6369668184436361,0.023964504533386992,null,0.7307145791534322,0.028287319629301533,null,-0.3619224097831447,0.05547501409898161,null,-0.3444323223075183,-0.008019877621470273,null],\"type\":\"scatter\"},{\"hoverinfo\":\"text\",\"marker\":{\"color\":[],\"colorbar\":{\"thickness\":15,\"title\":{\"side\":\"right\",\"text\":\"Node Connections\"},\"xanchor\":\"left\"},\"colorscale\":[[0.0,\"rgb(255,255,217)\"],[0.125,\"rgb(237,248,177)\"],[0.25,\"rgb(199,233,180)\"],[0.375,\"rgb(127,205,187)\"],[0.5,\"rgb(65,182,196)\"],[0.625,\"rgb(29,145,192)\"],[0.75,\"rgb(34,94,168)\"],[0.875,\"rgb(37,52,148)\"],[1.0,\"rgb(8,29,88)\"]],\"line\":{\"width\":2},\"reversescale\":true,\"showscale\":true,\"size\":10},\"mode\":\"markers\",\"text\":[\"0\",\"\\u0411\\u0440\\u044e\\u043a\\u0438\",\"\\u0414\\u0436\\u0438\\u043d\\u0441\\u044b\",\"1\",\"\\u0421\\u0443\\u043c\\u043a\\u0430\",\"2\",\"\\u0424\\u0443\\u0442\\u0431\\u043e\\u043b\\u043a\\u0430\",\"3\",\"\\u041a\\u0440\\u043e\\u0441\\u0441\\u043e\\u0432\\u043a\\u0438\",\"4\",\"\\u041a\\u0443\\u0440\\u0442\\u043a\\u0430\",\"5\",\"\\u0420\\u0443\\u0431\\u0430\\u0448\\u043a\\u0430\",\"6\",\"7\",\"8\",\"9\",\"\\u0428\\u0430\\u043f\\u043a\\u0430\",\"10\",\"11\",\"12\",\"13\",\"14\",\"15\",\"16\",\"17\",\"18\",\"19\",\"20\",\"21\",\"22\",\"23\",\"24\",\"25\",\"26\",\"27\",\"28\",\"29\",\"30\",\"31\",\"32\",\"33\",\"34\",\"35\",\"36\",\"37\",\"38\",\"39\",\"40\",\"41\",\"42\",\"43\",\"44\",\"45\",\"46\",\"47\",\"48\",\"49\",\"50\",\"51\",\"52\",\"53\",\"54\",\"55\",\"56\",\"57\",\"58\",\"59\",\"60\",\"61\",\"62\",\"63\",\"64\",\"65\",\"66\",\"67\",\"68\",\"69\",\"70\",\"71\",\"72\",\"73\",\"74\",\"75\",\"76\",\"77\",\"78\",\"79\",\"80\",\"81\",\"82\",\"83\",\"84\",\"85\",\"86\",\"87\",\"88\",\"89\",\"90\",\"91\"],\"x\":[-0.6868743880997197,-0.1545538845023588,-0.028977930141773578,-0.40423327688170635,0.009347549191305435,-0.548979920898975,-0.026976441717161938,0.3048645011819649,0.13232731450454613,-0.6541162850425426,0.009424348889380572,0.31667422510848375,-0.021380945812484908,-0.2832331261414118,-0.7811422467273141,-0.5177905130112446,-0.13943105190445887,0.08475586879620299,0.6271524205789937,0.21589010774845271,0.8696370069148778,0.11067968711766259,0.42600180539612753,0.5836645829477511,-0.4156272134601104,0.011954232271275938,-0.6694801710998376,-0.4195955268651809,-0.7339432274251483,0.43653840372817815,0.7129007772290666,0.4688483544961666,-0.6510710044233322,-0.32235111184622295,-0.36346675837894277,-0.4036630589518256,0.5944256747956832,-0.030779186476249602,0.71285177389544,0.6642524329901055,-0.5367314887184741,-0.13433633154938773,0.131914982631036,0.5825845643748984,0.0100943805040869,0.7365785691360885,-0.2494879696595332,0.3575417699828695,-0.06395345633343527,-0.4080763447643164,0.3978404826998528,-0.6182669342179239,0.3977780528371071,0.3410466057401747,-0.5690903555569867,0.5129635208971038,-0.4392686230178547,0.322672554732824,0.09910724659198483,0.5230143873752278,0.3217986055573174,0.4193620587520704,-0.35918746136737795,0.7782715830843759,-0.22537907769650334,0.19755955041311554,-0.5771962392029425,0.47608490263443054,0.6933101394888956,-0.27827739805700275,0.13410864559593613,-0.3608040323168944,-0.1014007640538052,0.030069055279185644,-0.5219408090075166,-0.20717093659831656,-0.122841491729521,0.5803622957335564,0.4450157909953023,-0.6440718555182574,-0.4108678553560106,-0.5174243523209988,0.09450091096768277,0.6338970241129867,-0.757106571585633,-0.09624046032842122,-0.6792232025987521,-0.7637253600716352,-0.25537595862161094,0.017487504580618936,0.20533450570071896,-0.5827615580614091,0.8289518054117644,0.2102678216986871,0.6000153278036493,0.4749748935785963,0.3426521258643309,0.22954667087636332,-0.26790904227445533,-0.4131162030215075],\"y\":[-0.394070334923083,-0.347365044109075,-0.03590380826423199,0.041313815462520304,0.05547501409898161,-0.3552212832198612,-0.008019877621470273,-0.5715994366882302,0.09095686496438252,-0.2722826319411993,0.023964504533386992,-0.4052314030678814,0.028287319629301533,0.23412653359542304,-0.07873815138982895,-0.49732447375483474,-0.7697045815446293,-0.22793725193172432,0.6206519404690765,0.6180489142526819,0.15817275103133077,0.7468885624501257,0.1749183810573965,0.23581587423103997,0.5994658190846913,0.7705390563209353,-0.1075161027784451,0.1997627346786284,0.19448656827624763,0.39004706686552526,-0.16387932149528914,-0.3267578127195259,0.009393164523221701,-0.1415025291946242,-0.6851543597534193,-0.5928082593813445,-0.43976632085781053,-0.5904585951638516,0.5266021117483093,0.15496243450914854,-0.09226803411331107,0.7586839946580897,-0.76794855010392,-0.22608559298647674,-0.7806108961059331,0.033116664858014996,0.7192380270557481,0.009383255206973043,-0.6718074208317599,-0.5069724043959867,0.29953701038199326,-0.5177800556081117,-0.49563884971652433,-0.26248834993297415,0.33678820496853035,-0.5036799584929291,0.3423645653966914,-0.7149440887344167,-0.3988599454112074,0.717495935639928,0.47667654618606603,0.5400269088033957,0.4896357630110939,0.4195261673056243,0.5754268776375586,-0.6697787288500738,0.4829932641850608,-0.03521297459666767,-0.06016941174007491,0.39170820478188345,0.5304412110018222,0.6916818499464943,-0.43934657485800593,0.633842847493547,0.5765040956500151,-0.5896940388835576,0.4723196154596941,0.376729526732609,-0.6085950859263148,0.2472299590945729,-1.0,-0.2287783238180268,-0.5344397018655067,-0.3295357371187533,-0.23095300660881785,0.631894022698513,0.3966545891546509,0.07880304022338748,-0.7232936635016799,0.45262433001784563,-0.5033338832569485,0.12528777730672752,0.302795547921526,0.38776855442870223,0.034274719736158955,-0.1632023169733191,0.6369668184436361,0.7307145791534322,-0.3619224097831447,-0.3444323223075183],\"type\":\"scatter\"}],                        {\"annotations\":[{\"showarrow\":false,\"text\":\"Python code: \\u003ca href='https:\\u002f\\u002fplotly.com\\u002fipython-notebooks\\u002fnetwork-graphs\\u002f'\\u003e https:\\u002f\\u002fplotly.com\\u002fipython-notebooks\\u002fnetwork-graphs\\u002f\\u003c\\u002fa\\u003e\",\"x\":0.005,\"xref\":\"paper\",\"y\":-0.002,\"yref\":\"paper\"}],\"hovermode\":\"closest\",\"margin\":{\"b\":20,\"l\":5,\"r\":5,\"t\":40},\"showlegend\":false,\"title\":{\"font\":{\"size\":16},\"text\":\"\\u003cbr\\u003eNetwork graph made with Python\"},\"xaxis\":{\"showgrid\":false,\"showticklabels\":false,\"zeroline\":false},\"yaxis\":{\"showgrid\":false,\"showticklabels\":false,\"zeroline\":false},\"template\":{\"data\":{\"histogram2dcontour\":[{\"type\":\"histogram2dcontour\",\"colorbar\":{\"outlinewidth\":0,\"ticks\":\"\"},\"colorscale\":[[0.0,\"#0d0887\"],[0.1111111111111111,\"#46039f\"],[0.2222222222222222,\"#7201a8\"],[0.3333333333333333,\"#9c179e\"],[0.4444444444444444,\"#bd3786\"],[0.5555555555555556,\"#d8576b\"],[0.6666666666666666,\"#ed7953\"],[0.7777777777777778,\"#fb9f3a\"],[0.8888888888888888,\"#fdca26\"],[1.0,\"#f0f921\"]]}],\"choropleth\":[{\"type\":\"choropleth\",\"colorbar\":{\"outlinewidth\":0,\"ticks\":\"\"}}],\"histogram2d\":[{\"type\":\"histogram2d\",\"colorbar\":{\"outlinewidth\":0,\"ticks\":\"\"},\"colorscale\":[[0.0,\"#0d0887\"],[0.1111111111111111,\"#46039f\"],[0.2222222222222222,\"#7201a8\"],[0.3333333333333333,\"#9c179e\"],[0.4444444444444444,\"#bd3786\"],[0.5555555555555556,\"#d8576b\"],[0.6666666666666666,\"#ed7953\"],[0.7777777777777778,\"#fb9f3a\"],[0.8888888888888888,\"#fdca26\"],[1.0,\"#f0f921\"]]}],\"heatmap\":[{\"type\":\"heatmap\",\"colorbar\":{\"outlinewidth\":0,\"ticks\":\"\"},\"colorscale\":[[0.0,\"#0d0887\"],[0.1111111111111111,\"#46039f\"],[0.2222222222222222,\"#7201a8\"],[0.3333333333333333,\"#9c179e\"],[0.4444444444444444,\"#bd3786\"],[0.5555555555555556,\"#d8576b\"],[0.6666666666666666,\"#ed7953\"],[0.7777777777777778,\"#fb9f3a\"],[0.8888888888888888,\"#fdca26\"],[1.0,\"#f0f921\"]]}],\"heatmapgl\":[{\"type\":\"heatmapgl\",\"colorbar\":{\"outlinewidth\":0,\"ticks\":\"\"},\"colorscale\":[[0.0,\"#0d0887\"],[0.1111111111111111,\"#46039f\"],[0.2222222222222222,\"#7201a8\"],[0.3333333333333333,\"#9c179e\"],[0.4444444444444444,\"#bd3786\"],[0.5555555555555556,\"#d8576b\"],[0.6666666666666666,\"#ed7953\"],[0.7777777777777778,\"#fb9f3a\"],[0.8888888888888888,\"#fdca26\"],[1.0,\"#f0f921\"]]}],\"contourcarpet\":[{\"type\":\"contourcarpet\",\"colorbar\":{\"outlinewidth\":0,\"ticks\":\"\"}}],\"contour\":[{\"type\":\"contour\",\"colorbar\":{\"outlinewidth\":0,\"ticks\":\"\"},\"colorscale\":[[0.0,\"#0d0887\"],[0.1111111111111111,\"#46039f\"],[0.2222222222222222,\"#7201a8\"],[0.3333333333333333,\"#9c179e\"],[0.4444444444444444,\"#bd3786\"],[0.5555555555555556,\"#d8576b\"],[0.6666666666666666,\"#ed7953\"],[0.7777777777777778,\"#fb9f3a\"],[0.8888888888888888,\"#fdca26\"],[1.0,\"#f0f921\"]]}],\"surface\":[{\"type\":\"surface\",\"colorbar\":{\"outlinewidth\":0,\"ticks\":\"\"},\"colorscale\":[[0.0,\"#0d0887\"],[0.1111111111111111,\"#46039f\"],[0.2222222222222222,\"#7201a8\"],[0.3333333333333333,\"#9c179e\"],[0.4444444444444444,\"#bd3786\"],[0.5555555555555556,\"#d8576b\"],[0.6666666666666666,\"#ed7953\"],[0.7777777777777778,\"#fb9f3a\"],[0.8888888888888888,\"#fdca26\"],[1.0,\"#f0f921\"]]}],\"mesh3d\":[{\"type\":\"mesh3d\",\"colorbar\":{\"outlinewidth\":0,\"ticks\":\"\"}}],\"scatter\":[{\"fillpattern\":{\"fillmode\":\"overlay\",\"size\":10,\"solidity\":0.2},\"type\":\"scatter\"}],\"parcoords\":[{\"type\":\"parcoords\",\"line\":{\"colorbar\":{\"outlinewidth\":0,\"ticks\":\"\"}}}],\"scatterpolargl\":[{\"type\":\"scatterpolargl\",\"marker\":{\"colorbar\":{\"outlinewidth\":0,\"ticks\":\"\"}}}],\"bar\":[{\"error_x\":{\"color\":\"#2a3f5f\"},\"error_y\":{\"color\":\"#2a3f5f\"},\"marker\":{\"line\":{\"color\":\"#E5ECF6\",\"width\":0.5},\"pattern\":{\"fillmode\":\"overlay\",\"size\":10,\"solidity\":0.2}},\"type\":\"bar\"}],\"scattergeo\":[{\"type\":\"scattergeo\",\"marker\":{\"colorbar\":{\"outlinewidth\":0,\"ticks\":\"\"}}}],\"scatterpolar\":[{\"type\":\"scatterpolar\",\"marker\":{\"colorbar\":{\"outlinewidth\":0,\"ticks\":\"\"}}}],\"histogram\":[{\"marker\":{\"pattern\":{\"fillmode\":\"overlay\",\"size\":10,\"solidity\":0.2}},\"type\":\"histogram\"}],\"scattergl\":[{\"type\":\"scattergl\",\"marker\":{\"colorbar\":{\"outlinewidth\":0,\"ticks\":\"\"}}}],\"scatter3d\":[{\"type\":\"scatter3d\",\"line\":{\"colorbar\":{\"outlinewidth\":0,\"ticks\":\"\"}},\"marker\":{\"colorbar\":{\"outlinewidth\":0,\"ticks\":\"\"}}}],\"scattermapbox\":[{\"type\":\"scattermapbox\",\"marker\":{\"colorbar\":{\"outlinewidth\":0,\"ticks\":\"\"}}}],\"scatterternary\":[{\"type\":\"scatterternary\",\"marker\":{\"colorbar\":{\"outlinewidth\":0,\"ticks\":\"\"}}}],\"scattercarpet\":[{\"type\":\"scattercarpet\",\"marker\":{\"colorbar\":{\"outlinewidth\":0,\"ticks\":\"\"}}}],\"carpet\":[{\"aaxis\":{\"endlinecolor\":\"#2a3f5f\",\"gridcolor\":\"white\",\"linecolor\":\"white\",\"minorgridcolor\":\"white\",\"startlinecolor\":\"#2a3f5f\"},\"baxis\":{\"endlinecolor\":\"#2a3f5f\",\"gridcolor\":\"white\",\"linecolor\":\"white\",\"minorgridcolor\":\"white\",\"startlinecolor\":\"#2a3f5f\"},\"type\":\"carpet\"}],\"table\":[{\"cells\":{\"fill\":{\"color\":\"#EBF0F8\"},\"line\":{\"color\":\"white\"}},\"header\":{\"fill\":{\"color\":\"#C8D4E3\"},\"line\":{\"color\":\"white\"}},\"type\":\"table\"}],\"barpolar\":[{\"marker\":{\"line\":{\"color\":\"#E5ECF6\",\"width\":0.5},\"pattern\":{\"fillmode\":\"overlay\",\"size\":10,\"solidity\":0.2}},\"type\":\"barpolar\"}],\"pie\":[{\"automargin\":true,\"type\":\"pie\"}]},\"layout\":{\"autotypenumbers\":\"strict\",\"colorway\":[\"#636efa\",\"#EF553B\",\"#00cc96\",\"#ab63fa\",\"#FFA15A\",\"#19d3f3\",\"#FF6692\",\"#B6E880\",\"#FF97FF\",\"#FECB52\"],\"font\":{\"color\":\"#2a3f5f\"},\"hovermode\":\"closest\",\"hoverlabel\":{\"align\":\"left\"},\"paper_bgcolor\":\"white\",\"plot_bgcolor\":\"#E5ECF6\",\"polar\":{\"bgcolor\":\"#E5ECF6\",\"angularaxis\":{\"gridcolor\":\"white\",\"linecolor\":\"white\",\"ticks\":\"\"},\"radialaxis\":{\"gridcolor\":\"white\",\"linecolor\":\"white\",\"ticks\":\"\"}},\"ternary\":{\"bgcolor\":\"#E5ECF6\",\"aaxis\":{\"gridcolor\":\"white\",\"linecolor\":\"white\",\"ticks\":\"\"},\"baxis\":{\"gridcolor\":\"white\",\"linecolor\":\"white\",\"ticks\":\"\"},\"caxis\":{\"gridcolor\":\"white\",\"linecolor\":\"white\",\"ticks\":\"\"}},\"coloraxis\":{\"colorbar\":{\"outlinewidth\":0,\"ticks\":\"\"}},\"colorscale\":{\"sequential\":[[0.0,\"#0d0887\"],[0.1111111111111111,\"#46039f\"],[0.2222222222222222,\"#7201a8\"],[0.3333333333333333,\"#9c179e\"],[0.4444444444444444,\"#bd3786\"],[0.5555555555555556,\"#d8576b\"],[0.6666666666666666,\"#ed7953\"],[0.7777777777777778,\"#fb9f3a\"],[0.8888888888888888,\"#fdca26\"],[1.0,\"#f0f921\"]],\"sequentialminus\":[[0.0,\"#0d0887\"],[0.1111111111111111,\"#46039f\"],[0.2222222222222222,\"#7201a8\"],[0.3333333333333333,\"#9c179e\"],[0.4444444444444444,\"#bd3786\"],[0.5555555555555556,\"#d8576b\"],[0.6666666666666666,\"#ed7953\"],[0.7777777777777778,\"#fb9f3a\"],[0.8888888888888888,\"#fdca26\"],[1.0,\"#f0f921\"]],\"diverging\":[[0,\"#8e0152\"],[0.1,\"#c51b7d\"],[0.2,\"#de77ae\"],[0.3,\"#f1b6da\"],[0.4,\"#fde0ef\"],[0.5,\"#f7f7f7\"],[0.6,\"#e6f5d0\"],[0.7,\"#b8e186\"],[0.8,\"#7fbc41\"],[0.9,\"#4d9221\"],[1,\"#276419\"]]},\"xaxis\":{\"gridcolor\":\"white\",\"linecolor\":\"white\",\"ticks\":\"\",\"title\":{\"standoff\":15},\"zerolinecolor\":\"white\",\"automargin\":true,\"zerolinewidth\":2},\"yaxis\":{\"gridcolor\":\"white\",\"linecolor\":\"white\",\"ticks\":\"\",\"title\":{\"standoff\":15},\"zerolinecolor\":\"white\",\"automargin\":true,\"zerolinewidth\":2},\"scene\":{\"xaxis\":{\"backgroundcolor\":\"#E5ECF6\",\"gridcolor\":\"white\",\"linecolor\":\"white\",\"showbackground\":true,\"ticks\":\"\",\"zerolinecolor\":\"white\",\"gridwidth\":2},\"yaxis\":{\"backgroundcolor\":\"#E5ECF6\",\"gridcolor\":\"white\",\"linecolor\":\"white\",\"showbackground\":true,\"ticks\":\"\",\"zerolinecolor\":\"white\",\"gridwidth\":2},\"zaxis\":{\"backgroundcolor\":\"#E5ECF6\",\"gridcolor\":\"white\",\"linecolor\":\"white\",\"showbackground\":true,\"ticks\":\"\",\"zerolinecolor\":\"white\",\"gridwidth\":2}},\"shapedefaults\":{\"line\":{\"color\":\"#2a3f5f\"}},\"annotationdefaults\":{\"arrowcolor\":\"#2a3f5f\",\"arrowhead\":0,\"arrowwidth\":1},\"geo\":{\"bgcolor\":\"white\",\"landcolor\":\"#E5ECF6\",\"subunitcolor\":\"white\",\"showland\":true,\"showlakes\":true,\"lakecolor\":\"white\"},\"title\":{\"x\":0.05},\"mapbox\":{\"style\":\"light\"}}}},                        {\"responsive\": true}                    ).then(function(){\n",
       "                            \n",
       "var gd = document.getElementById('1ee74cd8-9e34-4b47-8710-0a9251081c9e');\n",
       "var x = new MutationObserver(function (mutations, observer) {{\n",
       "        var display = window.getComputedStyle(gd).display;\n",
       "        if (!display || display === 'none') {{\n",
       "            console.log([gd, 'removed!']);\n",
       "            Plotly.purge(gd);\n",
       "            observer.disconnect();\n",
       "        }}\n",
       "}});\n",
       "\n",
       "// Listen for the removal of the full notebook cells\n",
       "var notebookContainer = gd.closest('#notebook-container');\n",
       "if (notebookContainer) {{\n",
       "    x.observe(notebookContainer, {childList: true});\n",
       "}}\n",
       "\n",
       "// Listen for the clearing of the current output cell\n",
       "var outputEl = gd.closest('.output');\n",
       "if (outputEl) {{\n",
       "    x.observe(outputEl, {childList: true});\n",
       "}}\n",
       "\n",
       "                        })                };                });            </script>        </div>"
      ]
     },
     "metadata": {},
     "output_type": "display_data",
     "jetTransient": {
      "display_id": null
     }
    }
   ],
   "execution_count": 120
  },
  {
   "metadata": {
    "ExecuteTime": {
     "end_time": "2025-09-26T06:51:10.304671Z",
     "start_time": "2025-09-26T06:51:10.251936Z"
    }
   },
   "cell_type": "code",
   "source": [
    "itemsets, rules = efficient_apriori(transactions, min_support=min_sup, min_confidence=0.8)\n",
    "n_trans = len(transactions)\n",
    "rules = [rule for rule in rules if len(rule.rhs) == 1]\n",
    "output_efficient_apriori(rules)"
   ],
   "id": "f85577058ec85027",
   "outputs": [
    {
     "name": "stdout",
     "output_type": "stream",
     "text": [
      "0: ('Брюки',) -> ('Футболка',)  Support = 0.350 Confidence = 0.875 Lift = 1.250\n",
      "1: ('Шапка',) -> ('Джинсы',)  Support = 0.300 Confidence = 1.000 Lift = 1.429\n",
      "2: ('Кроссовки',) -> ('Куртка',)  Support = 0.400 Confidence = 0.889 Lift = 1.481\n",
      "3: ('Рубашка',) -> ('Куртка',)  Support = 0.400 Confidence = 0.800 Lift = 1.333\n",
      "4: ('Брюки', 'Сумка') -> ('Джинсы',)  Support = 0.200 Confidence = 0.800 Lift = 1.143\n",
      "5: ('Брюки', 'Футболка') -> ('Джинсы',)  Support = 0.300 Confidence = 0.857 Lift = 1.224\n",
      "6: ('Брюки', 'Джинсы') -> ('Футболка',)  Support = 0.300 Confidence = 1.000 Lift = 1.429\n",
      "7: ('Брюки', 'Сумка') -> ('Футболка',)  Support = 0.200 Confidence = 0.800 Lift = 1.143\n",
      "8: ('Джинсы', 'Кроссовки') -> ('Куртка',)  Support = 0.250 Confidence = 0.833 Lift = 1.389\n",
      "9: ('Куртка', 'Шапка') -> ('Джинсы',)  Support = 0.200 Confidence = 1.000 Lift = 1.429\n",
      "10: ('Рубашка', 'Футболка') -> ('Джинсы',)  Support = 0.300 Confidence = 0.857 Lift = 1.224\n",
      "11: ('Джинсы', 'Рубашка') -> ('Футболка',)  Support = 0.300 Confidence = 0.857 Lift = 1.224\n",
      "12: ('Джинсы', 'Сумка') -> ('Футболка',)  Support = 0.300 Confidence = 0.857 Lift = 1.224\n",
      "13: ('Сумка', 'Шапка') -> ('Джинсы',)  Support = 0.200 Confidence = 1.000 Lift = 1.429\n",
      "14: ('Футболка', 'Шапка') -> ('Джинсы',)  Support = 0.200 Confidence = 1.000 Lift = 1.429\n",
      "15: ('Кроссовки', 'Рубашка') -> ('Куртка',)  Support = 0.250 Confidence = 0.833 Lift = 1.389\n",
      "16: ('Кроссовки', 'Сумка') -> ('Куртка',)  Support = 0.200 Confidence = 1.000 Lift = 1.667\n",
      "17: ('Кроссовки', 'Футболка') -> ('Куртка',)  Support = 0.250 Confidence = 0.833 Lift = 1.389\n",
      "18: ('Кроссовки', 'Сумка') -> ('Футболка',)  Support = 0.200 Confidence = 1.000 Lift = 1.429\n",
      "19: ('Рубашка', 'Сумка') -> ('Куртка',)  Support = 0.250 Confidence = 1.000 Lift = 1.667\n",
      "20: ('Куртка', 'Сумка') -> ('Футболка',)  Support = 0.300 Confidence = 0.857 Lift = 1.224\n",
      "21: ('Рубашка', 'Сумка') -> ('Футболка',)  Support = 0.200 Confidence = 0.800 Lift = 1.143\n",
      "22: ('Брюки', 'Сумка', 'Футболка') -> ('Джинсы',)  Support = 0.200 Confidence = 1.000 Lift = 1.429\n",
      "23: ('Брюки', 'Джинсы', 'Сумка') -> ('Футболка',)  Support = 0.200 Confidence = 1.000 Lift = 1.429\n",
      "24: ('Куртка', 'Рубашка', 'Футболка') -> ('Джинсы',)  Support = 0.200 Confidence = 0.800 Lift = 1.143\n",
      "25: ('Джинсы', 'Куртка', 'Рубашка') -> ('Футболка',)  Support = 0.200 Confidence = 0.800 Lift = 1.143\n",
      "26: ('Джинсы', 'Куртка', 'Сумка') -> ('Футболка',)  Support = 0.200 Confidence = 1.000 Lift = 1.429\n",
      "27: ('Кроссовки', 'Сумка', 'Футболка') -> ('Куртка',)  Support = 0.200 Confidence = 1.000 Lift = 1.667\n",
      "28: ('Кроссовки', 'Куртка', 'Футболка') -> ('Сумка',)  Support = 0.200 Confidence = 0.800 Lift = 1.455\n",
      "29: ('Кроссовки', 'Куртка', 'Сумка') -> ('Футболка',)  Support = 0.200 Confidence = 1.000 Lift = 1.429\n",
      "30: ('Рубашка', 'Сумка', 'Футболка') -> ('Куртка',)  Support = 0.200 Confidence = 1.000 Lift = 1.667\n",
      "31: ('Куртка', 'Рубашка', 'Футболка') -> ('Сумка',)  Support = 0.200 Confidence = 0.800 Lift = 1.455\n",
      "32: ('Куртка', 'Рубашка', 'Сумка') -> ('Футболка',)  Support = 0.200 Confidence = 0.800 Lift = 1.143\n"
     ]
    },
    {
     "data": {
      "application/vnd.plotly.v1+json": {
       "data": [
        {
         "marker": {
          "color": [
           1.2499999999999998,
           1.4285714285714286,
           1.4814814814814814,
           1.3333333333333335
          ],
          "colorbar": {
           "title": {
            "text": "Lift"
           }
          },
          "colorscale": [
           [
            0.0,
            "rgb(243, 224, 247)"
           ],
           [
            0.16666666666666666,
            "rgb(228, 199, 241)"
           ],
           [
            0.3333333333333333,
            "rgb(209, 175, 232)"
           ],
           [
            0.5,
            "rgb(185, 152, 221)"
           ],
           [
            0.6666666666666666,
            "rgb(159, 130, 206)"
           ],
           [
            0.8333333333333334,
            "rgb(130, 109, 186)"
           ],
           [
            1.0,
            "rgb(99, 88, 159)"
           ]
          ]
         },
         "mode": "markers",
         "text": [
          "('Брюки',) => ('Футболка',), Lift: 1.2499999999999998",
          "('Шапка',) => ('Джинсы',), Lift: 1.4285714285714286",
          "('Кроссовки',) => ('Куртка',), Lift: 1.4814814814814814",
          "('Рубашка',) => ('Куртка',), Lift: 1.3333333333333335"
         ],
         "x": [
          0.35,
          0.3,
          0.4,
          0.4
         ],
         "y": [
          0.875,
          1.0,
          0.8888888888888888,
          0.8
         ],
         "type": "scatter"
        }
       ],
       "layout": {
        "template": {
         "data": {
          "histogram2dcontour": [
           {
            "type": "histogram2dcontour",
            "colorbar": {
             "outlinewidth": 0,
             "ticks": ""
            },
            "colorscale": [
             [
              0.0,
              "#0d0887"
             ],
             [
              0.1111111111111111,
              "#46039f"
             ],
             [
              0.2222222222222222,
              "#7201a8"
             ],
             [
              0.3333333333333333,
              "#9c179e"
             ],
             [
              0.4444444444444444,
              "#bd3786"
             ],
             [
              0.5555555555555556,
              "#d8576b"
             ],
             [
              0.6666666666666666,
              "#ed7953"
             ],
             [
              0.7777777777777778,
              "#fb9f3a"
             ],
             [
              0.8888888888888888,
              "#fdca26"
             ],
             [
              1.0,
              "#f0f921"
             ]
            ]
           }
          ],
          "choropleth": [
           {
            "type": "choropleth",
            "colorbar": {
             "outlinewidth": 0,
             "ticks": ""
            }
           }
          ],
          "histogram2d": [
           {
            "type": "histogram2d",
            "colorbar": {
             "outlinewidth": 0,
             "ticks": ""
            },
            "colorscale": [
             [
              0.0,
              "#0d0887"
             ],
             [
              0.1111111111111111,
              "#46039f"
             ],
             [
              0.2222222222222222,
              "#7201a8"
             ],
             [
              0.3333333333333333,
              "#9c179e"
             ],
             [
              0.4444444444444444,
              "#bd3786"
             ],
             [
              0.5555555555555556,
              "#d8576b"
             ],
             [
              0.6666666666666666,
              "#ed7953"
             ],
             [
              0.7777777777777778,
              "#fb9f3a"
             ],
             [
              0.8888888888888888,
              "#fdca26"
             ],
             [
              1.0,
              "#f0f921"
             ]
            ]
           }
          ],
          "heatmap": [
           {
            "type": "heatmap",
            "colorbar": {
             "outlinewidth": 0,
             "ticks": ""
            },
            "colorscale": [
             [
              0.0,
              "#0d0887"
             ],
             [
              0.1111111111111111,
              "#46039f"
             ],
             [
              0.2222222222222222,
              "#7201a8"
             ],
             [
              0.3333333333333333,
              "#9c179e"
             ],
             [
              0.4444444444444444,
              "#bd3786"
             ],
             [
              0.5555555555555556,
              "#d8576b"
             ],
             [
              0.6666666666666666,
              "#ed7953"
             ],
             [
              0.7777777777777778,
              "#fb9f3a"
             ],
             [
              0.8888888888888888,
              "#fdca26"
             ],
             [
              1.0,
              "#f0f921"
             ]
            ]
           }
          ],
          "heatmapgl": [
           {
            "type": "heatmapgl",
            "colorbar": {
             "outlinewidth": 0,
             "ticks": ""
            },
            "colorscale": [
             [
              0.0,
              "#0d0887"
             ],
             [
              0.1111111111111111,
              "#46039f"
             ],
             [
              0.2222222222222222,
              "#7201a8"
             ],
             [
              0.3333333333333333,
              "#9c179e"
             ],
             [
              0.4444444444444444,
              "#bd3786"
             ],
             [
              0.5555555555555556,
              "#d8576b"
             ],
             [
              0.6666666666666666,
              "#ed7953"
             ],
             [
              0.7777777777777778,
              "#fb9f3a"
             ],
             [
              0.8888888888888888,
              "#fdca26"
             ],
             [
              1.0,
              "#f0f921"
             ]
            ]
           }
          ],
          "contourcarpet": [
           {
            "type": "contourcarpet",
            "colorbar": {
             "outlinewidth": 0,
             "ticks": ""
            }
           }
          ],
          "contour": [
           {
            "type": "contour",
            "colorbar": {
             "outlinewidth": 0,
             "ticks": ""
            },
            "colorscale": [
             [
              0.0,
              "#0d0887"
             ],
             [
              0.1111111111111111,
              "#46039f"
             ],
             [
              0.2222222222222222,
              "#7201a8"
             ],
             [
              0.3333333333333333,
              "#9c179e"
             ],
             [
              0.4444444444444444,
              "#bd3786"
             ],
             [
              0.5555555555555556,
              "#d8576b"
             ],
             [
              0.6666666666666666,
              "#ed7953"
             ],
             [
              0.7777777777777778,
              "#fb9f3a"
             ],
             [
              0.8888888888888888,
              "#fdca26"
             ],
             [
              1.0,
              "#f0f921"
             ]
            ]
           }
          ],
          "surface": [
           {
            "type": "surface",
            "colorbar": {
             "outlinewidth": 0,
             "ticks": ""
            },
            "colorscale": [
             [
              0.0,
              "#0d0887"
             ],
             [
              0.1111111111111111,
              "#46039f"
             ],
             [
              0.2222222222222222,
              "#7201a8"
             ],
             [
              0.3333333333333333,
              "#9c179e"
             ],
             [
              0.4444444444444444,
              "#bd3786"
             ],
             [
              0.5555555555555556,
              "#d8576b"
             ],
             [
              0.6666666666666666,
              "#ed7953"
             ],
             [
              0.7777777777777778,
              "#fb9f3a"
             ],
             [
              0.8888888888888888,
              "#fdca26"
             ],
             [
              1.0,
              "#f0f921"
             ]
            ]
           }
          ],
          "mesh3d": [
           {
            "type": "mesh3d",
            "colorbar": {
             "outlinewidth": 0,
             "ticks": ""
            }
           }
          ],
          "scatter": [
           {
            "fillpattern": {
             "fillmode": "overlay",
             "size": 10,
             "solidity": 0.2
            },
            "type": "scatter"
           }
          ],
          "parcoords": [
           {
            "type": "parcoords",
            "line": {
             "colorbar": {
              "outlinewidth": 0,
              "ticks": ""
             }
            }
           }
          ],
          "scatterpolargl": [
           {
            "type": "scatterpolargl",
            "marker": {
             "colorbar": {
              "outlinewidth": 0,
              "ticks": ""
             }
            }
           }
          ],
          "bar": [
           {
            "error_x": {
             "color": "#2a3f5f"
            },
            "error_y": {
             "color": "#2a3f5f"
            },
            "marker": {
             "line": {
              "color": "#E5ECF6",
              "width": 0.5
             },
             "pattern": {
              "fillmode": "overlay",
              "size": 10,
              "solidity": 0.2
             }
            },
            "type": "bar"
           }
          ],
          "scattergeo": [
           {
            "type": "scattergeo",
            "marker": {
             "colorbar": {
              "outlinewidth": 0,
              "ticks": ""
             }
            }
           }
          ],
          "scatterpolar": [
           {
            "type": "scatterpolar",
            "marker": {
             "colorbar": {
              "outlinewidth": 0,
              "ticks": ""
             }
            }
           }
          ],
          "histogram": [
           {
            "marker": {
             "pattern": {
              "fillmode": "overlay",
              "size": 10,
              "solidity": 0.2
             }
            },
            "type": "histogram"
           }
          ],
          "scattergl": [
           {
            "type": "scattergl",
            "marker": {
             "colorbar": {
              "outlinewidth": 0,
              "ticks": ""
             }
            }
           }
          ],
          "scatter3d": [
           {
            "type": "scatter3d",
            "line": {
             "colorbar": {
              "outlinewidth": 0,
              "ticks": ""
             }
            },
            "marker": {
             "colorbar": {
              "outlinewidth": 0,
              "ticks": ""
             }
            }
           }
          ],
          "scattermapbox": [
           {
            "type": "scattermapbox",
            "marker": {
             "colorbar": {
              "outlinewidth": 0,
              "ticks": ""
             }
            }
           }
          ],
          "scatterternary": [
           {
            "type": "scatterternary",
            "marker": {
             "colorbar": {
              "outlinewidth": 0,
              "ticks": ""
             }
            }
           }
          ],
          "scattercarpet": [
           {
            "type": "scattercarpet",
            "marker": {
             "colorbar": {
              "outlinewidth": 0,
              "ticks": ""
             }
            }
           }
          ],
          "carpet": [
           {
            "aaxis": {
             "endlinecolor": "#2a3f5f",
             "gridcolor": "white",
             "linecolor": "white",
             "minorgridcolor": "white",
             "startlinecolor": "#2a3f5f"
            },
            "baxis": {
             "endlinecolor": "#2a3f5f",
             "gridcolor": "white",
             "linecolor": "white",
             "minorgridcolor": "white",
             "startlinecolor": "#2a3f5f"
            },
            "type": "carpet"
           }
          ],
          "table": [
           {
            "cells": {
             "fill": {
              "color": "#EBF0F8"
             },
             "line": {
              "color": "white"
             }
            },
            "header": {
             "fill": {
              "color": "#C8D4E3"
             },
             "line": {
              "color": "white"
             }
            },
            "type": "table"
           }
          ],
          "barpolar": [
           {
            "marker": {
             "line": {
              "color": "#E5ECF6",
              "width": 0.5
             },
             "pattern": {
              "fillmode": "overlay",
              "size": 10,
              "solidity": 0.2
             }
            },
            "type": "barpolar"
           }
          ],
          "pie": [
           {
            "automargin": true,
            "type": "pie"
           }
          ]
         },
         "layout": {
          "autotypenumbers": "strict",
          "colorway": [
           "#636efa",
           "#EF553B",
           "#00cc96",
           "#ab63fa",
           "#FFA15A",
           "#19d3f3",
           "#FF6692",
           "#B6E880",
           "#FF97FF",
           "#FECB52"
          ],
          "font": {
           "color": "#2a3f5f"
          },
          "hovermode": "closest",
          "hoverlabel": {
           "align": "left"
          },
          "paper_bgcolor": "white",
          "plot_bgcolor": "#E5ECF6",
          "polar": {
           "bgcolor": "#E5ECF6",
           "angularaxis": {
            "gridcolor": "white",
            "linecolor": "white",
            "ticks": ""
           },
           "radialaxis": {
            "gridcolor": "white",
            "linecolor": "white",
            "ticks": ""
           }
          },
          "ternary": {
           "bgcolor": "#E5ECF6",
           "aaxis": {
            "gridcolor": "white",
            "linecolor": "white",
            "ticks": ""
           },
           "baxis": {
            "gridcolor": "white",
            "linecolor": "white",
            "ticks": ""
           },
           "caxis": {
            "gridcolor": "white",
            "linecolor": "white",
            "ticks": ""
           }
          },
          "coloraxis": {
           "colorbar": {
            "outlinewidth": 0,
            "ticks": ""
           }
          },
          "colorscale": {
           "sequential": [
            [
             0.0,
             "#0d0887"
            ],
            [
             0.1111111111111111,
             "#46039f"
            ],
            [
             0.2222222222222222,
             "#7201a8"
            ],
            [
             0.3333333333333333,
             "#9c179e"
            ],
            [
             0.4444444444444444,
             "#bd3786"
            ],
            [
             0.5555555555555556,
             "#d8576b"
            ],
            [
             0.6666666666666666,
             "#ed7953"
            ],
            [
             0.7777777777777778,
             "#fb9f3a"
            ],
            [
             0.8888888888888888,
             "#fdca26"
            ],
            [
             1.0,
             "#f0f921"
            ]
           ],
           "sequentialminus": [
            [
             0.0,
             "#0d0887"
            ],
            [
             0.1111111111111111,
             "#46039f"
            ],
            [
             0.2222222222222222,
             "#7201a8"
            ],
            [
             0.3333333333333333,
             "#9c179e"
            ],
            [
             0.4444444444444444,
             "#bd3786"
            ],
            [
             0.5555555555555556,
             "#d8576b"
            ],
            [
             0.6666666666666666,
             "#ed7953"
            ],
            [
             0.7777777777777778,
             "#fb9f3a"
            ],
            [
             0.8888888888888888,
             "#fdca26"
            ],
            [
             1.0,
             "#f0f921"
            ]
           ],
           "diverging": [
            [
             0,
             "#8e0152"
            ],
            [
             0.1,
             "#c51b7d"
            ],
            [
             0.2,
             "#de77ae"
            ],
            [
             0.3,
             "#f1b6da"
            ],
            [
             0.4,
             "#fde0ef"
            ],
            [
             0.5,
             "#f7f7f7"
            ],
            [
             0.6,
             "#e6f5d0"
            ],
            [
             0.7,
             "#b8e186"
            ],
            [
             0.8,
             "#7fbc41"
            ],
            [
             0.9,
             "#4d9221"
            ],
            [
             1,
             "#276419"
            ]
           ]
          },
          "xaxis": {
           "gridcolor": "white",
           "linecolor": "white",
           "ticks": "",
           "title": {
            "standoff": 15
           },
           "zerolinecolor": "white",
           "automargin": true,
           "zerolinewidth": 2
          },
          "yaxis": {
           "gridcolor": "white",
           "linecolor": "white",
           "ticks": "",
           "title": {
            "standoff": 15
           },
           "zerolinecolor": "white",
           "automargin": true,
           "zerolinewidth": 2
          },
          "scene": {
           "xaxis": {
            "backgroundcolor": "#E5ECF6",
            "gridcolor": "white",
            "linecolor": "white",
            "showbackground": true,
            "ticks": "",
            "zerolinecolor": "white",
            "gridwidth": 2
           },
           "yaxis": {
            "backgroundcolor": "#E5ECF6",
            "gridcolor": "white",
            "linecolor": "white",
            "showbackground": true,
            "ticks": "",
            "zerolinecolor": "white",
            "gridwidth": 2
           },
           "zaxis": {
            "backgroundcolor": "#E5ECF6",
            "gridcolor": "white",
            "linecolor": "white",
            "showbackground": true,
            "ticks": "",
            "zerolinecolor": "white",
            "gridwidth": 2
           }
          },
          "shapedefaults": {
           "line": {
            "color": "#2a3f5f"
           }
          },
          "annotationdefaults": {
           "arrowcolor": "#2a3f5f",
           "arrowhead": 0,
           "arrowwidth": 1
          },
          "geo": {
           "bgcolor": "white",
           "landcolor": "#E5ECF6",
           "subunitcolor": "white",
           "showland": true,
           "showlakes": true,
           "lakecolor": "white"
          },
          "title": {
           "x": 0.05
          },
          "mapbox": {
           "style": "light"
          }
         }
        },
        "xaxis": {
         "title": {
          "text": "Support"
         },
         "autorange": "reversed"
        },
        "title": {
         "text": "Association Rules Strength Distribution"
        },
        "yaxis": {
         "title": {
          "text": "Confidence"
         }
        }
       },
       "config": {
        "plotlyServerURL": "https://plot.ly"
       }
      },
      "text/html": [
       "<div>                            <div id=\"9c14eaf5-3ac0-41bc-b092-bb18ec4e88ed\" class=\"plotly-graph-div\" style=\"height:525px; width:100%;\"></div>            <script type=\"text/javascript\">                require([\"plotly\"], function(Plotly) {                    window.PLOTLYENV=window.PLOTLYENV || {};                                    if (document.getElementById(\"9c14eaf5-3ac0-41bc-b092-bb18ec4e88ed\")) {                    Plotly.newPlot(                        \"9c14eaf5-3ac0-41bc-b092-bb18ec4e88ed\",                        [{\"marker\":{\"color\":[1.2499999999999998,1.4285714285714286,1.4814814814814814,1.3333333333333335],\"colorbar\":{\"title\":{\"text\":\"Lift\"}},\"colorscale\":[[0.0,\"rgb(243, 224, 247)\"],[0.16666666666666666,\"rgb(228, 199, 241)\"],[0.3333333333333333,\"rgb(209, 175, 232)\"],[0.5,\"rgb(185, 152, 221)\"],[0.6666666666666666,\"rgb(159, 130, 206)\"],[0.8333333333333334,\"rgb(130, 109, 186)\"],[1.0,\"rgb(99, 88, 159)\"]]},\"mode\":\"markers\",\"text\":[\"('\\u0411\\u0440\\u044e\\u043a\\u0438',) =\\u003e ('\\u0424\\u0443\\u0442\\u0431\\u043e\\u043b\\u043a\\u0430',), Lift: 1.2499999999999998\",\"('\\u0428\\u0430\\u043f\\u043a\\u0430',) =\\u003e ('\\u0414\\u0436\\u0438\\u043d\\u0441\\u044b',), Lift: 1.4285714285714286\",\"('\\u041a\\u0440\\u043e\\u0441\\u0441\\u043e\\u0432\\u043a\\u0438',) =\\u003e ('\\u041a\\u0443\\u0440\\u0442\\u043a\\u0430',), Lift: 1.4814814814814814\",\"('\\u0420\\u0443\\u0431\\u0430\\u0448\\u043a\\u0430',) =\\u003e ('\\u041a\\u0443\\u0440\\u0442\\u043a\\u0430',), Lift: 1.3333333333333335\"],\"x\":[0.35,0.3,0.4,0.4],\"y\":[0.875,1.0,0.8888888888888888,0.8],\"type\":\"scatter\"}],                        {\"template\":{\"data\":{\"histogram2dcontour\":[{\"type\":\"histogram2dcontour\",\"colorbar\":{\"outlinewidth\":0,\"ticks\":\"\"},\"colorscale\":[[0.0,\"#0d0887\"],[0.1111111111111111,\"#46039f\"],[0.2222222222222222,\"#7201a8\"],[0.3333333333333333,\"#9c179e\"],[0.4444444444444444,\"#bd3786\"],[0.5555555555555556,\"#d8576b\"],[0.6666666666666666,\"#ed7953\"],[0.7777777777777778,\"#fb9f3a\"],[0.8888888888888888,\"#fdca26\"],[1.0,\"#f0f921\"]]}],\"choropleth\":[{\"type\":\"choropleth\",\"colorbar\":{\"outlinewidth\":0,\"ticks\":\"\"}}],\"histogram2d\":[{\"type\":\"histogram2d\",\"colorbar\":{\"outlinewidth\":0,\"ticks\":\"\"},\"colorscale\":[[0.0,\"#0d0887\"],[0.1111111111111111,\"#46039f\"],[0.2222222222222222,\"#7201a8\"],[0.3333333333333333,\"#9c179e\"],[0.4444444444444444,\"#bd3786\"],[0.5555555555555556,\"#d8576b\"],[0.6666666666666666,\"#ed7953\"],[0.7777777777777778,\"#fb9f3a\"],[0.8888888888888888,\"#fdca26\"],[1.0,\"#f0f921\"]]}],\"heatmap\":[{\"type\":\"heatmap\",\"colorbar\":{\"outlinewidth\":0,\"ticks\":\"\"},\"colorscale\":[[0.0,\"#0d0887\"],[0.1111111111111111,\"#46039f\"],[0.2222222222222222,\"#7201a8\"],[0.3333333333333333,\"#9c179e\"],[0.4444444444444444,\"#bd3786\"],[0.5555555555555556,\"#d8576b\"],[0.6666666666666666,\"#ed7953\"],[0.7777777777777778,\"#fb9f3a\"],[0.8888888888888888,\"#fdca26\"],[1.0,\"#f0f921\"]]}],\"heatmapgl\":[{\"type\":\"heatmapgl\",\"colorbar\":{\"outlinewidth\":0,\"ticks\":\"\"},\"colorscale\":[[0.0,\"#0d0887\"],[0.1111111111111111,\"#46039f\"],[0.2222222222222222,\"#7201a8\"],[0.3333333333333333,\"#9c179e\"],[0.4444444444444444,\"#bd3786\"],[0.5555555555555556,\"#d8576b\"],[0.6666666666666666,\"#ed7953\"],[0.7777777777777778,\"#fb9f3a\"],[0.8888888888888888,\"#fdca26\"],[1.0,\"#f0f921\"]]}],\"contourcarpet\":[{\"type\":\"contourcarpet\",\"colorbar\":{\"outlinewidth\":0,\"ticks\":\"\"}}],\"contour\":[{\"type\":\"contour\",\"colorbar\":{\"outlinewidth\":0,\"ticks\":\"\"},\"colorscale\":[[0.0,\"#0d0887\"],[0.1111111111111111,\"#46039f\"],[0.2222222222222222,\"#7201a8\"],[0.3333333333333333,\"#9c179e\"],[0.4444444444444444,\"#bd3786\"],[0.5555555555555556,\"#d8576b\"],[0.6666666666666666,\"#ed7953\"],[0.7777777777777778,\"#fb9f3a\"],[0.8888888888888888,\"#fdca26\"],[1.0,\"#f0f921\"]]}],\"surface\":[{\"type\":\"surface\",\"colorbar\":{\"outlinewidth\":0,\"ticks\":\"\"},\"colorscale\":[[0.0,\"#0d0887\"],[0.1111111111111111,\"#46039f\"],[0.2222222222222222,\"#7201a8\"],[0.3333333333333333,\"#9c179e\"],[0.4444444444444444,\"#bd3786\"],[0.5555555555555556,\"#d8576b\"],[0.6666666666666666,\"#ed7953\"],[0.7777777777777778,\"#fb9f3a\"],[0.8888888888888888,\"#fdca26\"],[1.0,\"#f0f921\"]]}],\"mesh3d\":[{\"type\":\"mesh3d\",\"colorbar\":{\"outlinewidth\":0,\"ticks\":\"\"}}],\"scatter\":[{\"fillpattern\":{\"fillmode\":\"overlay\",\"size\":10,\"solidity\":0.2},\"type\":\"scatter\"}],\"parcoords\":[{\"type\":\"parcoords\",\"line\":{\"colorbar\":{\"outlinewidth\":0,\"ticks\":\"\"}}}],\"scatterpolargl\":[{\"type\":\"scatterpolargl\",\"marker\":{\"colorbar\":{\"outlinewidth\":0,\"ticks\":\"\"}}}],\"bar\":[{\"error_x\":{\"color\":\"#2a3f5f\"},\"error_y\":{\"color\":\"#2a3f5f\"},\"marker\":{\"line\":{\"color\":\"#E5ECF6\",\"width\":0.5},\"pattern\":{\"fillmode\":\"overlay\",\"size\":10,\"solidity\":0.2}},\"type\":\"bar\"}],\"scattergeo\":[{\"type\":\"scattergeo\",\"marker\":{\"colorbar\":{\"outlinewidth\":0,\"ticks\":\"\"}}}],\"scatterpolar\":[{\"type\":\"scatterpolar\",\"marker\":{\"colorbar\":{\"outlinewidth\":0,\"ticks\":\"\"}}}],\"histogram\":[{\"marker\":{\"pattern\":{\"fillmode\":\"overlay\",\"size\":10,\"solidity\":0.2}},\"type\":\"histogram\"}],\"scattergl\":[{\"type\":\"scattergl\",\"marker\":{\"colorbar\":{\"outlinewidth\":0,\"ticks\":\"\"}}}],\"scatter3d\":[{\"type\":\"scatter3d\",\"line\":{\"colorbar\":{\"outlinewidth\":0,\"ticks\":\"\"}},\"marker\":{\"colorbar\":{\"outlinewidth\":0,\"ticks\":\"\"}}}],\"scattermapbox\":[{\"type\":\"scattermapbox\",\"marker\":{\"colorbar\":{\"outlinewidth\":0,\"ticks\":\"\"}}}],\"scatterternary\":[{\"type\":\"scatterternary\",\"marker\":{\"colorbar\":{\"outlinewidth\":0,\"ticks\":\"\"}}}],\"scattercarpet\":[{\"type\":\"scattercarpet\",\"marker\":{\"colorbar\":{\"outlinewidth\":0,\"ticks\":\"\"}}}],\"carpet\":[{\"aaxis\":{\"endlinecolor\":\"#2a3f5f\",\"gridcolor\":\"white\",\"linecolor\":\"white\",\"minorgridcolor\":\"white\",\"startlinecolor\":\"#2a3f5f\"},\"baxis\":{\"endlinecolor\":\"#2a3f5f\",\"gridcolor\":\"white\",\"linecolor\":\"white\",\"minorgridcolor\":\"white\",\"startlinecolor\":\"#2a3f5f\"},\"type\":\"carpet\"}],\"table\":[{\"cells\":{\"fill\":{\"color\":\"#EBF0F8\"},\"line\":{\"color\":\"white\"}},\"header\":{\"fill\":{\"color\":\"#C8D4E3\"},\"line\":{\"color\":\"white\"}},\"type\":\"table\"}],\"barpolar\":[{\"marker\":{\"line\":{\"color\":\"#E5ECF6\",\"width\":0.5},\"pattern\":{\"fillmode\":\"overlay\",\"size\":10,\"solidity\":0.2}},\"type\":\"barpolar\"}],\"pie\":[{\"automargin\":true,\"type\":\"pie\"}]},\"layout\":{\"autotypenumbers\":\"strict\",\"colorway\":[\"#636efa\",\"#EF553B\",\"#00cc96\",\"#ab63fa\",\"#FFA15A\",\"#19d3f3\",\"#FF6692\",\"#B6E880\",\"#FF97FF\",\"#FECB52\"],\"font\":{\"color\":\"#2a3f5f\"},\"hovermode\":\"closest\",\"hoverlabel\":{\"align\":\"left\"},\"paper_bgcolor\":\"white\",\"plot_bgcolor\":\"#E5ECF6\",\"polar\":{\"bgcolor\":\"#E5ECF6\",\"angularaxis\":{\"gridcolor\":\"white\",\"linecolor\":\"white\",\"ticks\":\"\"},\"radialaxis\":{\"gridcolor\":\"white\",\"linecolor\":\"white\",\"ticks\":\"\"}},\"ternary\":{\"bgcolor\":\"#E5ECF6\",\"aaxis\":{\"gridcolor\":\"white\",\"linecolor\":\"white\",\"ticks\":\"\"},\"baxis\":{\"gridcolor\":\"white\",\"linecolor\":\"white\",\"ticks\":\"\"},\"caxis\":{\"gridcolor\":\"white\",\"linecolor\":\"white\",\"ticks\":\"\"}},\"coloraxis\":{\"colorbar\":{\"outlinewidth\":0,\"ticks\":\"\"}},\"colorscale\":{\"sequential\":[[0.0,\"#0d0887\"],[0.1111111111111111,\"#46039f\"],[0.2222222222222222,\"#7201a8\"],[0.3333333333333333,\"#9c179e\"],[0.4444444444444444,\"#bd3786\"],[0.5555555555555556,\"#d8576b\"],[0.6666666666666666,\"#ed7953\"],[0.7777777777777778,\"#fb9f3a\"],[0.8888888888888888,\"#fdca26\"],[1.0,\"#f0f921\"]],\"sequentialminus\":[[0.0,\"#0d0887\"],[0.1111111111111111,\"#46039f\"],[0.2222222222222222,\"#7201a8\"],[0.3333333333333333,\"#9c179e\"],[0.4444444444444444,\"#bd3786\"],[0.5555555555555556,\"#d8576b\"],[0.6666666666666666,\"#ed7953\"],[0.7777777777777778,\"#fb9f3a\"],[0.8888888888888888,\"#fdca26\"],[1.0,\"#f0f921\"]],\"diverging\":[[0,\"#8e0152\"],[0.1,\"#c51b7d\"],[0.2,\"#de77ae\"],[0.3,\"#f1b6da\"],[0.4,\"#fde0ef\"],[0.5,\"#f7f7f7\"],[0.6,\"#e6f5d0\"],[0.7,\"#b8e186\"],[0.8,\"#7fbc41\"],[0.9,\"#4d9221\"],[1,\"#276419\"]]},\"xaxis\":{\"gridcolor\":\"white\",\"linecolor\":\"white\",\"ticks\":\"\",\"title\":{\"standoff\":15},\"zerolinecolor\":\"white\",\"automargin\":true,\"zerolinewidth\":2},\"yaxis\":{\"gridcolor\":\"white\",\"linecolor\":\"white\",\"ticks\":\"\",\"title\":{\"standoff\":15},\"zerolinecolor\":\"white\",\"automargin\":true,\"zerolinewidth\":2},\"scene\":{\"xaxis\":{\"backgroundcolor\":\"#E5ECF6\",\"gridcolor\":\"white\",\"linecolor\":\"white\",\"showbackground\":true,\"ticks\":\"\",\"zerolinecolor\":\"white\",\"gridwidth\":2},\"yaxis\":{\"backgroundcolor\":\"#E5ECF6\",\"gridcolor\":\"white\",\"linecolor\":\"white\",\"showbackground\":true,\"ticks\":\"\",\"zerolinecolor\":\"white\",\"gridwidth\":2},\"zaxis\":{\"backgroundcolor\":\"#E5ECF6\",\"gridcolor\":\"white\",\"linecolor\":\"white\",\"showbackground\":true,\"ticks\":\"\",\"zerolinecolor\":\"white\",\"gridwidth\":2}},\"shapedefaults\":{\"line\":{\"color\":\"#2a3f5f\"}},\"annotationdefaults\":{\"arrowcolor\":\"#2a3f5f\",\"arrowhead\":0,\"arrowwidth\":1},\"geo\":{\"bgcolor\":\"white\",\"landcolor\":\"#E5ECF6\",\"subunitcolor\":\"white\",\"showland\":true,\"showlakes\":true,\"lakecolor\":\"white\"},\"title\":{\"x\":0.05},\"mapbox\":{\"style\":\"light\"}}},\"xaxis\":{\"title\":{\"text\":\"Support\"},\"autorange\":\"reversed\"},\"title\":{\"text\":\"Association Rules Strength Distribution\"},\"yaxis\":{\"title\":{\"text\":\"Confidence\"}}},                        {\"responsive\": true}                    ).then(function(){\n",
       "                            \n",
       "var gd = document.getElementById('9c14eaf5-3ac0-41bc-b092-bb18ec4e88ed');\n",
       "var x = new MutationObserver(function (mutations, observer) {{\n",
       "        var display = window.getComputedStyle(gd).display;\n",
       "        if (!display || display === 'none') {{\n",
       "            console.log([gd, 'removed!']);\n",
       "            Plotly.purge(gd);\n",
       "            observer.disconnect();\n",
       "        }}\n",
       "}});\n",
       "\n",
       "// Listen for the removal of the full notebook cells\n",
       "var notebookContainer = gd.closest('#notebook-container');\n",
       "if (notebookContainer) {{\n",
       "    x.observe(notebookContainer, {childList: true});\n",
       "}}\n",
       "\n",
       "// Listen for the clearing of the current output cell\n",
       "var outputEl = gd.closest('.output');\n",
       "if (outputEl) {{\n",
       "    x.observe(outputEl, {childList: true});\n",
       "}}\n",
       "\n",
       "                        })                };                });            </script>        </div>"
      ]
     },
     "metadata": {},
     "output_type": "display_data",
     "jetTransient": {
      "display_id": null
     }
    },
    {
     "data": {
      "application/vnd.plotly.v1+json": {
       "data": [
        {
         "hoverinfo": "none",
         "line": {
          "color": "#888",
          "width": 0.5
         },
         "mode": "lines",
         "x": [
          -0.6591410345341484,
          0.00985720697439431,
          null,
          -0.13074791404237363,
          -0.6591410345341484,
          null,
          -0.13074791404237363,
          0.43441562676844986,
          null,
          -0.13074791404237363,
          -0.08268511405883293,
          null,
          -0.13074791404237363,
          -0.841007231133625,
          null,
          -0.13074791404237363,
          0.39351525686910604,
          null,
          -0.13074791404237363,
          -0.3023308320846365,
          null,
          -0.13074791404237363,
          0.1085093061105497,
          null,
          0.00985720697439431,
          -0.08268511405883293,
          null,
          0.00985720697439431,
          -0.5136909451509702,
          null,
          0.00985720697439431,
          -0.7150953118703757,
          null,
          0.00985720697439431,
          0.8934316273268219,
          null,
          0.00985720697439431,
          -0.3023308320846365,
          null,
          0.00985720697439431,
          0.64603333210063,
          null,
          0.00985720697439431,
          0.5597326811454387,
          null,
          0.00985720697439431,
          -0.6954215003503544,
          null,
          0.00985720697439431,
          0.7440077434209307,
          null,
          0.00985720697439431,
          -0.01559439952347935,
          null,
          0.7698968899524918,
          -0.00394550801112733,
          null,
          0.15234577603572722,
          0.7698968899524918,
          null,
          0.15234577603572722,
          0.2329162385361672,
          null,
          0.15234577603572722,
          0.6198275913779973,
          null,
          0.15234577603572722,
          -0.7150953118703757,
          null,
          -0.00394550801112733,
          -0.841007231133625,
          null,
          -0.00394550801112733,
          -0.5418145542584841,
          null,
          -0.00394550801112733,
          0.7225921487297684,
          null,
          -0.00394550801112733,
          -0.08362907536597816,
          null,
          -0.00394550801112733,
          0.1085093061105497,
          null,
          -0.00394550801112733,
          0.8515475365182009,
          null,
          -0.00394550801112733,
          -0.43433878577205476,
          null,
          -0.12182994041137177,
          0.08563297199704492,
          null,
          -0.09286790622333274,
          -0.12182994041137177,
          null,
          -0.09286790622333274,
          -0.5418145542584841,
          null,
          -0.09286790622333274,
          -0.35102732250696445,
          null,
          -0.09286790622333274,
          -0.570689775582397,
          null,
          -0.09286790622333274,
          0.8934316273268219,
          null,
          -0.09286790622333274,
          -0.8395647587918993,
          null,
          -0.09286790622333274,
          0.5597326811454387,
          null,
          -0.09286790622333274,
          -0.6954215003503544,
          null,
          -0.09286790622333274,
          0.6065788158989635,
          null,
          0.08563297199704492,
          0.2329162385361672,
          null,
          0.08563297199704492,
          -0.847073885330707,
          null,
          0.08563297199704492,
          0.64603333210063,
          null,
          0.08563297199704492,
          0.8515475365182009,
          null,
          0.08563297199704492,
          -0.43433878577205476,
          null,
          0.08563297199704492,
          -0.6954215003503544,
          null,
          0.08563297199704492,
          0.6065788158989635,
          null,
          0.08563297199704492,
          -0.01559439952347935,
          null,
          0.08563297199704492,
          0.42346308433693536,
          null,
          -0.5360288820136246,
          0.08563297199704492,
          null,
          0.14912741791154618,
          -0.5360288820136246,
          null,
          0.14912741791154618,
          -0.5136909451509702,
          null,
          0.14912741791154618,
          0.7225921487297684,
          null,
          0.14912741791154618,
          -0.35102732250696445,
          null,
          0.14912741791154618,
          0.322622761280956,
          null,
          0.14912741791154618,
          -0.36679084510231774,
          null,
          0.14912741791154618,
          0.64603333210063,
          null,
          0.14912741791154618,
          0.8515475365182009,
          null,
          0.14912741791154618,
          0.7440077434209307,
          null,
          0.14912741791154618,
          -0.01559439952347935,
          null,
          0.14912741791154618,
          0.42346308433693536,
          null,
          0.43441562676844986,
          -0.00394550801112733,
          null,
          0.019261508826908916,
          0.43441562676844986,
          null,
          0.019261508826908916,
          0.39351525686910604,
          null,
          0.019261508826908916,
          -0.08362907536597816,
          null,
          0.019261508826908916,
          0.6198275913779973,
          null,
          0.019261508826908916,
          -0.570689775582397,
          null,
          0.019261508826908916,
          -0.8395647587918993,
          null,
          0.019261508826908916,
          0.322622761280956,
          null,
          0.019261508826908916,
          -0.847073885330707,
          null,
          0.019261508826908916,
          -0.36679084510231774,
          null,
          0.019261508826908916,
          -0.3023308320846365,
          null,
          0.019261508826908916,
          0.1085093061105497,
          null,
          0.019261508826908916,
          -0.43433878577205476,
          null,
          0.019261508826908916,
          0.5597326811454387,
          null,
          0.019261508826908916,
          0.6065788158989635,
          null,
          0.019261508826908916,
          0.7440077434209307,
          null,
          0.019261508826908916,
          0.42346308433693536,
          null,
          -0.08268511405883293,
          -0.00394550801112733,
          null,
          -0.841007231133625,
          0.00985720697439431,
          null,
          0.39351525686910604,
          0.00985720697439431,
          null,
          -0.5418145542584841,
          0.08563297199704492,
          null,
          0.2329162385361672,
          -0.00394550801112733,
          null,
          -0.5136909451509702,
          -0.00394550801112733,
          null,
          0.7225921487297684,
          0.00985720697439431,
          null,
          -0.08362907536597816,
          0.00985720697439431,
          null,
          0.6198275913779973,
          -0.00394550801112733,
          null,
          -0.7150953118703757,
          -0.00394550801112733,
          null,
          -0.35102732250696445,
          0.08563297199704492,
          null,
          -0.570689775582397,
          0.08563297199704492,
          null,
          0.8934316273268219,
          0.08563297199704492,
          null,
          -0.8395647587918993,
          0.00985720697439431,
          null,
          0.322622761280956,
          0.08563297199704492,
          null,
          -0.847073885330707,
          0.00985720697439431,
          null,
          -0.36679084510231774,
          0.00985720697439431,
          null,
          -0.3023308320846365,
          -0.00394550801112733,
          null,
          0.1085093061105497,
          0.00985720697439431,
          null,
          0.64603333210063,
          -0.00394550801112733,
          null,
          0.8515475365182009,
          0.00985720697439431,
          null,
          -0.43433878577205476,
          0.00985720697439431,
          null,
          0.5597326811454387,
          0.08563297199704492,
          null,
          -0.6954215003503544,
          0.019261508826908916,
          null,
          0.6065788158989635,
          0.00985720697439431,
          null,
          0.7440077434209307,
          0.08563297199704492,
          null,
          -0.01559439952347935,
          0.019261508826908916,
          null,
          0.42346308433693536,
          0.00985720697439431,
          null
         ],
         "y": [
          -0.34898859547926814,
          -0.016853949538026814,
          null,
          -0.23145832364276203,
          -0.34898859547926814,
          null,
          -0.23145832364276203,
          -0.8063646601519019,
          null,
          -0.23145832364276203,
          -0.965239904647372,
          null,
          -0.23145832364276203,
          0.0016490815847728844,
          null,
          -0.23145832364276203,
          0.5573278516077186,
          null,
          -0.23145832364276203,
          -0.8951977114400496,
          null,
          -0.23145832364276203,
          0.700499649184477,
          null,
          -0.016853949538026814,
          -0.965239904647372,
          null,
          -0.016853949538026814,
          -0.8024034836386409,
          null,
          -0.016853949538026814,
          -0.6269834760047346,
          null,
          -0.016853949538026814,
          0.3405370136974109,
          null,
          -0.016853949538026814,
          -0.8951977114400496,
          null,
          -0.016853949538026814,
          -0.27798420121382267,
          null,
          -0.016853949538026814,
          0.7781071571798971,
          null,
          -0.016853949538026814,
          0.6506302544817475,
          null,
          -0.016853949538026814,
          0.5891078577952397,
          null,
          -0.016853949538026814,
          1.0,
          null,
          -0.4587293870431659,
          -0.10933864973978438,
          null,
          -0.8135528069606562,
          -0.4587293870431659,
          null,
          -0.8135528069606562,
          -0.9767521177142416,
          null,
          -0.8135528069606562,
          -0.6737818194319024,
          null,
          -0.8135528069606562,
          -0.6269834760047346,
          null,
          -0.10933864973978438,
          0.0016490815847728844,
          null,
          -0.10933864973978438,
          -0.009313531613659966,
          null,
          -0.10933864973978438,
          0.07565535672659446,
          null,
          -0.10933864973978438,
          -0.6314863771752585,
          null,
          -0.10933864973978438,
          0.700499649184477,
          null,
          -0.10933864973978438,
          -0.0952280001027512,
          null,
          -0.10933864973978438,
          -0.5136907498817902,
          null,
          0.831198304167185,
          0.03714330168032707,
          null,
          0.42311942441367384,
          0.831198304167185,
          null,
          0.42311942441367384,
          -0.009313531613659966,
          null,
          0.42311942441367384,
          0.8408176757770425,
          null,
          0.42311942441367384,
          0.27134538251232443,
          null,
          0.42311942441367384,
          0.3405370136974109,
          null,
          0.42311942441367384,
          -0.23043352881171306,
          null,
          0.42311942441367384,
          0.7781071571798971,
          null,
          0.42311942441367384,
          0.6506302544817475,
          null,
          0.42311942441367384,
          0.30565782871305935,
          null,
          0.03714330168032707,
          -0.9767521177142416,
          null,
          0.03714330168032707,
          0.2560077566998551,
          null,
          0.03714330168032707,
          -0.27798420121382267,
          null,
          0.03714330168032707,
          -0.0952280001027512,
          null,
          0.03714330168032707,
          -0.5136907498817902,
          null,
          0.03714330168032707,
          0.6506302544817475,
          null,
          0.03714330168032707,
          0.30565782871305935,
          null,
          0.03714330168032707,
          1.0,
          null,
          0.03714330168032707,
          -0.45981865707818903,
          null,
          0.49137805234146237,
          0.03714330168032707,
          null,
          0.23961926039836828,
          0.49137805234146237,
          null,
          0.23961926039836828,
          -0.8024034836386409,
          null,
          0.23961926039836828,
          0.07565535672659446,
          null,
          0.23961926039836828,
          0.8408176757770425,
          null,
          0.23961926039836828,
          0.8895641962570652,
          null,
          0.23961926039836828,
          0.602333662735167,
          null,
          0.23961926039836828,
          -0.27798420121382267,
          null,
          0.23961926039836828,
          -0.0952280001027512,
          null,
          0.23961926039836828,
          0.5891078577952397,
          null,
          0.23961926039836828,
          1.0,
          null,
          0.23961926039836828,
          -0.45981865707818903,
          null,
          -0.8063646601519019,
          -0.10933864973978438,
          null,
          0.0619008633563023,
          -0.8063646601519019,
          null,
          0.0619008633563023,
          0.5573278516077186,
          null,
          0.0619008633563023,
          -0.6314863771752585,
          null,
          0.0619008633563023,
          -0.6737818194319024,
          null,
          0.0619008633563023,
          0.27134538251232443,
          null,
          0.0619008633563023,
          -0.23043352881171306,
          null,
          0.0619008633563023,
          0.8895641962570652,
          null,
          0.0619008633563023,
          0.2560077566998551,
          null,
          0.0619008633563023,
          0.602333662735167,
          null,
          0.0619008633563023,
          -0.8951977114400496,
          null,
          0.0619008633563023,
          0.700499649184477,
          null,
          0.0619008633563023,
          -0.5136907498817902,
          null,
          0.0619008633563023,
          0.7781071571798971,
          null,
          0.0619008633563023,
          0.30565782871305935,
          null,
          0.0619008633563023,
          0.5891078577952397,
          null,
          0.0619008633563023,
          -0.45981865707818903,
          null,
          -0.965239904647372,
          -0.10933864973978438,
          null,
          0.0016490815847728844,
          -0.016853949538026814,
          null,
          0.5573278516077186,
          -0.016853949538026814,
          null,
          -0.009313531613659966,
          0.03714330168032707,
          null,
          -0.9767521177142416,
          -0.10933864973978438,
          null,
          -0.8024034836386409,
          -0.10933864973978438,
          null,
          0.07565535672659446,
          -0.016853949538026814,
          null,
          -0.6314863771752585,
          -0.016853949538026814,
          null,
          -0.6737818194319024,
          -0.10933864973978438,
          null,
          -0.6269834760047346,
          -0.10933864973978438,
          null,
          0.8408176757770425,
          0.03714330168032707,
          null,
          0.27134538251232443,
          0.03714330168032707,
          null,
          0.3405370136974109,
          0.03714330168032707,
          null,
          -0.23043352881171306,
          -0.016853949538026814,
          null,
          0.8895641962570652,
          0.03714330168032707,
          null,
          0.2560077566998551,
          -0.016853949538026814,
          null,
          0.602333662735167,
          -0.016853949538026814,
          null,
          -0.8951977114400496,
          -0.10933864973978438,
          null,
          0.700499649184477,
          -0.016853949538026814,
          null,
          -0.27798420121382267,
          -0.10933864973978438,
          null,
          -0.0952280001027512,
          -0.016853949538026814,
          null,
          -0.5136907498817902,
          -0.016853949538026814,
          null,
          0.7781071571798971,
          0.03714330168032707,
          null,
          0.6506302544817475,
          0.0619008633563023,
          null,
          0.30565782871305935,
          -0.016853949538026814,
          null,
          0.5891078577952397,
          0.03714330168032707,
          null,
          1.0,
          0.0619008633563023,
          null,
          -0.45981865707818903,
          -0.016853949538026814,
          null
         ],
         "type": "scatter"
        },
        {
         "hoverinfo": "text",
         "marker": {
          "color": [],
          "colorbar": {
           "thickness": 15,
           "title": {
            "side": "right",
            "text": "Node Connections"
           },
           "xanchor": "left"
          },
          "colorscale": [
           [
            0.0,
            "rgb(255,255,217)"
           ],
           [
            0.125,
            "rgb(237,248,177)"
           ],
           [
            0.25,
            "rgb(199,233,180)"
           ],
           [
            0.375,
            "rgb(127,205,187)"
           ],
           [
            0.5,
            "rgb(65,182,196)"
           ],
           [
            0.625,
            "rgb(29,145,192)"
           ],
           [
            0.75,
            "rgb(34,94,168)"
           ],
           [
            0.875,
            "rgb(37,52,148)"
           ],
           [
            1.0,
            "rgb(8,29,88)"
           ]
          ],
          "line": {
           "width": 2
          },
          "reversescale": true,
          "showscale": true,
          "size": 10
         },
         "mode": "markers",
         "text": [
          "0",
          "Брюки",
          "Футболка",
          "1",
          "Шапка",
          "Джинсы",
          "2",
          "Кроссовки",
          "Куртка",
          "3",
          "Рубашка",
          "4",
          "Сумка",
          "5",
          "6",
          "7",
          "8",
          "9",
          "10",
          "11",
          "12",
          "13",
          "14",
          "15",
          "16",
          "17",
          "18",
          "19",
          "20",
          "21",
          "22",
          "23",
          "24",
          "25",
          "26",
          "27",
          "28",
          "29",
          "30",
          "31",
          "32"
         ],
         "x": [
          -0.6591410345341484,
          -0.13074791404237363,
          0.00985720697439431,
          0.7698968899524918,
          0.15234577603572722,
          -0.00394550801112733,
          -0.12182994041137177,
          -0.09286790622333274,
          0.08563297199704492,
          -0.5360288820136246,
          0.14912741791154618,
          0.43441562676844986,
          0.019261508826908916,
          -0.08268511405883293,
          -0.841007231133625,
          0.39351525686910604,
          -0.5418145542584841,
          0.2329162385361672,
          -0.5136909451509702,
          0.7225921487297684,
          -0.08362907536597816,
          0.6198275913779973,
          -0.7150953118703757,
          -0.35102732250696445,
          -0.570689775582397,
          0.8934316273268219,
          -0.8395647587918993,
          0.322622761280956,
          -0.847073885330707,
          -0.36679084510231774,
          -0.3023308320846365,
          0.1085093061105497,
          0.64603333210063,
          0.8515475365182009,
          -0.43433878577205476,
          0.5597326811454387,
          -0.6954215003503544,
          0.6065788158989635,
          0.7440077434209307,
          -0.01559439952347935,
          0.42346308433693536
         ],
         "y": [
          -0.34898859547926814,
          -0.23145832364276203,
          -0.016853949538026814,
          -0.4587293870431659,
          -0.8135528069606562,
          -0.10933864973978438,
          0.831198304167185,
          0.42311942441367384,
          0.03714330168032707,
          0.49137805234146237,
          0.23961926039836828,
          -0.8063646601519019,
          0.0619008633563023,
          -0.965239904647372,
          0.0016490815847728844,
          0.5573278516077186,
          -0.009313531613659966,
          -0.9767521177142416,
          -0.8024034836386409,
          0.07565535672659446,
          -0.6314863771752585,
          -0.6737818194319024,
          -0.6269834760047346,
          0.8408176757770425,
          0.27134538251232443,
          0.3405370136974109,
          -0.23043352881171306,
          0.8895641962570652,
          0.2560077566998551,
          0.602333662735167,
          -0.8951977114400496,
          0.700499649184477,
          -0.27798420121382267,
          -0.0952280001027512,
          -0.5136907498817902,
          0.7781071571798971,
          0.6506302544817475,
          0.30565782871305935,
          0.5891078577952397,
          1.0,
          -0.45981865707818903
         ],
         "type": "scatter"
        }
       ],
       "layout": {
        "annotations": [
         {
          "showarrow": false,
          "text": "Python code: <a href='https://plotly.com/ipython-notebooks/network-graphs/'> https://plotly.com/ipython-notebooks/network-graphs/</a>",
          "x": 0.005,
          "xref": "paper",
          "y": -0.002,
          "yref": "paper"
         }
        ],
        "hovermode": "closest",
        "margin": {
         "b": 20,
         "l": 5,
         "r": 5,
         "t": 40
        },
        "showlegend": false,
        "title": {
         "font": {
          "size": 16
         },
         "text": "<br>Network graph made with Python"
        },
        "xaxis": {
         "showgrid": false,
         "showticklabels": false,
         "zeroline": false
        },
        "yaxis": {
         "showgrid": false,
         "showticklabels": false,
         "zeroline": false
        },
        "template": {
         "data": {
          "histogram2dcontour": [
           {
            "type": "histogram2dcontour",
            "colorbar": {
             "outlinewidth": 0,
             "ticks": ""
            },
            "colorscale": [
             [
              0.0,
              "#0d0887"
             ],
             [
              0.1111111111111111,
              "#46039f"
             ],
             [
              0.2222222222222222,
              "#7201a8"
             ],
             [
              0.3333333333333333,
              "#9c179e"
             ],
             [
              0.4444444444444444,
              "#bd3786"
             ],
             [
              0.5555555555555556,
              "#d8576b"
             ],
             [
              0.6666666666666666,
              "#ed7953"
             ],
             [
              0.7777777777777778,
              "#fb9f3a"
             ],
             [
              0.8888888888888888,
              "#fdca26"
             ],
             [
              1.0,
              "#f0f921"
             ]
            ]
           }
          ],
          "choropleth": [
           {
            "type": "choropleth",
            "colorbar": {
             "outlinewidth": 0,
             "ticks": ""
            }
           }
          ],
          "histogram2d": [
           {
            "type": "histogram2d",
            "colorbar": {
             "outlinewidth": 0,
             "ticks": ""
            },
            "colorscale": [
             [
              0.0,
              "#0d0887"
             ],
             [
              0.1111111111111111,
              "#46039f"
             ],
             [
              0.2222222222222222,
              "#7201a8"
             ],
             [
              0.3333333333333333,
              "#9c179e"
             ],
             [
              0.4444444444444444,
              "#bd3786"
             ],
             [
              0.5555555555555556,
              "#d8576b"
             ],
             [
              0.6666666666666666,
              "#ed7953"
             ],
             [
              0.7777777777777778,
              "#fb9f3a"
             ],
             [
              0.8888888888888888,
              "#fdca26"
             ],
             [
              1.0,
              "#f0f921"
             ]
            ]
           }
          ],
          "heatmap": [
           {
            "type": "heatmap",
            "colorbar": {
             "outlinewidth": 0,
             "ticks": ""
            },
            "colorscale": [
             [
              0.0,
              "#0d0887"
             ],
             [
              0.1111111111111111,
              "#46039f"
             ],
             [
              0.2222222222222222,
              "#7201a8"
             ],
             [
              0.3333333333333333,
              "#9c179e"
             ],
             [
              0.4444444444444444,
              "#bd3786"
             ],
             [
              0.5555555555555556,
              "#d8576b"
             ],
             [
              0.6666666666666666,
              "#ed7953"
             ],
             [
              0.7777777777777778,
              "#fb9f3a"
             ],
             [
              0.8888888888888888,
              "#fdca26"
             ],
             [
              1.0,
              "#f0f921"
             ]
            ]
           }
          ],
          "heatmapgl": [
           {
            "type": "heatmapgl",
            "colorbar": {
             "outlinewidth": 0,
             "ticks": ""
            },
            "colorscale": [
             [
              0.0,
              "#0d0887"
             ],
             [
              0.1111111111111111,
              "#46039f"
             ],
             [
              0.2222222222222222,
              "#7201a8"
             ],
             [
              0.3333333333333333,
              "#9c179e"
             ],
             [
              0.4444444444444444,
              "#bd3786"
             ],
             [
              0.5555555555555556,
              "#d8576b"
             ],
             [
              0.6666666666666666,
              "#ed7953"
             ],
             [
              0.7777777777777778,
              "#fb9f3a"
             ],
             [
              0.8888888888888888,
              "#fdca26"
             ],
             [
              1.0,
              "#f0f921"
             ]
            ]
           }
          ],
          "contourcarpet": [
           {
            "type": "contourcarpet",
            "colorbar": {
             "outlinewidth": 0,
             "ticks": ""
            }
           }
          ],
          "contour": [
           {
            "type": "contour",
            "colorbar": {
             "outlinewidth": 0,
             "ticks": ""
            },
            "colorscale": [
             [
              0.0,
              "#0d0887"
             ],
             [
              0.1111111111111111,
              "#46039f"
             ],
             [
              0.2222222222222222,
              "#7201a8"
             ],
             [
              0.3333333333333333,
              "#9c179e"
             ],
             [
              0.4444444444444444,
              "#bd3786"
             ],
             [
              0.5555555555555556,
              "#d8576b"
             ],
             [
              0.6666666666666666,
              "#ed7953"
             ],
             [
              0.7777777777777778,
              "#fb9f3a"
             ],
             [
              0.8888888888888888,
              "#fdca26"
             ],
             [
              1.0,
              "#f0f921"
             ]
            ]
           }
          ],
          "surface": [
           {
            "type": "surface",
            "colorbar": {
             "outlinewidth": 0,
             "ticks": ""
            },
            "colorscale": [
             [
              0.0,
              "#0d0887"
             ],
             [
              0.1111111111111111,
              "#46039f"
             ],
             [
              0.2222222222222222,
              "#7201a8"
             ],
             [
              0.3333333333333333,
              "#9c179e"
             ],
             [
              0.4444444444444444,
              "#bd3786"
             ],
             [
              0.5555555555555556,
              "#d8576b"
             ],
             [
              0.6666666666666666,
              "#ed7953"
             ],
             [
              0.7777777777777778,
              "#fb9f3a"
             ],
             [
              0.8888888888888888,
              "#fdca26"
             ],
             [
              1.0,
              "#f0f921"
             ]
            ]
           }
          ],
          "mesh3d": [
           {
            "type": "mesh3d",
            "colorbar": {
             "outlinewidth": 0,
             "ticks": ""
            }
           }
          ],
          "scatter": [
           {
            "fillpattern": {
             "fillmode": "overlay",
             "size": 10,
             "solidity": 0.2
            },
            "type": "scatter"
           }
          ],
          "parcoords": [
           {
            "type": "parcoords",
            "line": {
             "colorbar": {
              "outlinewidth": 0,
              "ticks": ""
             }
            }
           }
          ],
          "scatterpolargl": [
           {
            "type": "scatterpolargl",
            "marker": {
             "colorbar": {
              "outlinewidth": 0,
              "ticks": ""
             }
            }
           }
          ],
          "bar": [
           {
            "error_x": {
             "color": "#2a3f5f"
            },
            "error_y": {
             "color": "#2a3f5f"
            },
            "marker": {
             "line": {
              "color": "#E5ECF6",
              "width": 0.5
             },
             "pattern": {
              "fillmode": "overlay",
              "size": 10,
              "solidity": 0.2
             }
            },
            "type": "bar"
           }
          ],
          "scattergeo": [
           {
            "type": "scattergeo",
            "marker": {
             "colorbar": {
              "outlinewidth": 0,
              "ticks": ""
             }
            }
           }
          ],
          "scatterpolar": [
           {
            "type": "scatterpolar",
            "marker": {
             "colorbar": {
              "outlinewidth": 0,
              "ticks": ""
             }
            }
           }
          ],
          "histogram": [
           {
            "marker": {
             "pattern": {
              "fillmode": "overlay",
              "size": 10,
              "solidity": 0.2
             }
            },
            "type": "histogram"
           }
          ],
          "scattergl": [
           {
            "type": "scattergl",
            "marker": {
             "colorbar": {
              "outlinewidth": 0,
              "ticks": ""
             }
            }
           }
          ],
          "scatter3d": [
           {
            "type": "scatter3d",
            "line": {
             "colorbar": {
              "outlinewidth": 0,
              "ticks": ""
             }
            },
            "marker": {
             "colorbar": {
              "outlinewidth": 0,
              "ticks": ""
             }
            }
           }
          ],
          "scattermapbox": [
           {
            "type": "scattermapbox",
            "marker": {
             "colorbar": {
              "outlinewidth": 0,
              "ticks": ""
             }
            }
           }
          ],
          "scatterternary": [
           {
            "type": "scatterternary",
            "marker": {
             "colorbar": {
              "outlinewidth": 0,
              "ticks": ""
             }
            }
           }
          ],
          "scattercarpet": [
           {
            "type": "scattercarpet",
            "marker": {
             "colorbar": {
              "outlinewidth": 0,
              "ticks": ""
             }
            }
           }
          ],
          "carpet": [
           {
            "aaxis": {
             "endlinecolor": "#2a3f5f",
             "gridcolor": "white",
             "linecolor": "white",
             "minorgridcolor": "white",
             "startlinecolor": "#2a3f5f"
            },
            "baxis": {
             "endlinecolor": "#2a3f5f",
             "gridcolor": "white",
             "linecolor": "white",
             "minorgridcolor": "white",
             "startlinecolor": "#2a3f5f"
            },
            "type": "carpet"
           }
          ],
          "table": [
           {
            "cells": {
             "fill": {
              "color": "#EBF0F8"
             },
             "line": {
              "color": "white"
             }
            },
            "header": {
             "fill": {
              "color": "#C8D4E3"
             },
             "line": {
              "color": "white"
             }
            },
            "type": "table"
           }
          ],
          "barpolar": [
           {
            "marker": {
             "line": {
              "color": "#E5ECF6",
              "width": 0.5
             },
             "pattern": {
              "fillmode": "overlay",
              "size": 10,
              "solidity": 0.2
             }
            },
            "type": "barpolar"
           }
          ],
          "pie": [
           {
            "automargin": true,
            "type": "pie"
           }
          ]
         },
         "layout": {
          "autotypenumbers": "strict",
          "colorway": [
           "#636efa",
           "#EF553B",
           "#00cc96",
           "#ab63fa",
           "#FFA15A",
           "#19d3f3",
           "#FF6692",
           "#B6E880",
           "#FF97FF",
           "#FECB52"
          ],
          "font": {
           "color": "#2a3f5f"
          },
          "hovermode": "closest",
          "hoverlabel": {
           "align": "left"
          },
          "paper_bgcolor": "white",
          "plot_bgcolor": "#E5ECF6",
          "polar": {
           "bgcolor": "#E5ECF6",
           "angularaxis": {
            "gridcolor": "white",
            "linecolor": "white",
            "ticks": ""
           },
           "radialaxis": {
            "gridcolor": "white",
            "linecolor": "white",
            "ticks": ""
           }
          },
          "ternary": {
           "bgcolor": "#E5ECF6",
           "aaxis": {
            "gridcolor": "white",
            "linecolor": "white",
            "ticks": ""
           },
           "baxis": {
            "gridcolor": "white",
            "linecolor": "white",
            "ticks": ""
           },
           "caxis": {
            "gridcolor": "white",
            "linecolor": "white",
            "ticks": ""
           }
          },
          "coloraxis": {
           "colorbar": {
            "outlinewidth": 0,
            "ticks": ""
           }
          },
          "colorscale": {
           "sequential": [
            [
             0.0,
             "#0d0887"
            ],
            [
             0.1111111111111111,
             "#46039f"
            ],
            [
             0.2222222222222222,
             "#7201a8"
            ],
            [
             0.3333333333333333,
             "#9c179e"
            ],
            [
             0.4444444444444444,
             "#bd3786"
            ],
            [
             0.5555555555555556,
             "#d8576b"
            ],
            [
             0.6666666666666666,
             "#ed7953"
            ],
            [
             0.7777777777777778,
             "#fb9f3a"
            ],
            [
             0.8888888888888888,
             "#fdca26"
            ],
            [
             1.0,
             "#f0f921"
            ]
           ],
           "sequentialminus": [
            [
             0.0,
             "#0d0887"
            ],
            [
             0.1111111111111111,
             "#46039f"
            ],
            [
             0.2222222222222222,
             "#7201a8"
            ],
            [
             0.3333333333333333,
             "#9c179e"
            ],
            [
             0.4444444444444444,
             "#bd3786"
            ],
            [
             0.5555555555555556,
             "#d8576b"
            ],
            [
             0.6666666666666666,
             "#ed7953"
            ],
            [
             0.7777777777777778,
             "#fb9f3a"
            ],
            [
             0.8888888888888888,
             "#fdca26"
            ],
            [
             1.0,
             "#f0f921"
            ]
           ],
           "diverging": [
            [
             0,
             "#8e0152"
            ],
            [
             0.1,
             "#c51b7d"
            ],
            [
             0.2,
             "#de77ae"
            ],
            [
             0.3,
             "#f1b6da"
            ],
            [
             0.4,
             "#fde0ef"
            ],
            [
             0.5,
             "#f7f7f7"
            ],
            [
             0.6,
             "#e6f5d0"
            ],
            [
             0.7,
             "#b8e186"
            ],
            [
             0.8,
             "#7fbc41"
            ],
            [
             0.9,
             "#4d9221"
            ],
            [
             1,
             "#276419"
            ]
           ]
          },
          "xaxis": {
           "gridcolor": "white",
           "linecolor": "white",
           "ticks": "",
           "title": {
            "standoff": 15
           },
           "zerolinecolor": "white",
           "automargin": true,
           "zerolinewidth": 2
          },
          "yaxis": {
           "gridcolor": "white",
           "linecolor": "white",
           "ticks": "",
           "title": {
            "standoff": 15
           },
           "zerolinecolor": "white",
           "automargin": true,
           "zerolinewidth": 2
          },
          "scene": {
           "xaxis": {
            "backgroundcolor": "#E5ECF6",
            "gridcolor": "white",
            "linecolor": "white",
            "showbackground": true,
            "ticks": "",
            "zerolinecolor": "white",
            "gridwidth": 2
           },
           "yaxis": {
            "backgroundcolor": "#E5ECF6",
            "gridcolor": "white",
            "linecolor": "white",
            "showbackground": true,
            "ticks": "",
            "zerolinecolor": "white",
            "gridwidth": 2
           },
           "zaxis": {
            "backgroundcolor": "#E5ECF6",
            "gridcolor": "white",
            "linecolor": "white",
            "showbackground": true,
            "ticks": "",
            "zerolinecolor": "white",
            "gridwidth": 2
           }
          },
          "shapedefaults": {
           "line": {
            "color": "#2a3f5f"
           }
          },
          "annotationdefaults": {
           "arrowcolor": "#2a3f5f",
           "arrowhead": 0,
           "arrowwidth": 1
          },
          "geo": {
           "bgcolor": "white",
           "landcolor": "#E5ECF6",
           "subunitcolor": "white",
           "showland": true,
           "showlakes": true,
           "lakecolor": "white"
          },
          "title": {
           "x": 0.05
          },
          "mapbox": {
           "style": "light"
          }
         }
        }
       },
       "config": {
        "plotlyServerURL": "https://plot.ly"
       }
      },
      "text/html": [
       "<div>                            <div id=\"f9f58287-14e2-4db5-a773-d763a3103820\" class=\"plotly-graph-div\" style=\"height:525px; width:100%;\"></div>            <script type=\"text/javascript\">                require([\"plotly\"], function(Plotly) {                    window.PLOTLYENV=window.PLOTLYENV || {};                                    if (document.getElementById(\"f9f58287-14e2-4db5-a773-d763a3103820\")) {                    Plotly.newPlot(                        \"f9f58287-14e2-4db5-a773-d763a3103820\",                        [{\"hoverinfo\":\"none\",\"line\":{\"color\":\"#888\",\"width\":0.5},\"mode\":\"lines\",\"x\":[-0.6591410345341484,0.00985720697439431,null,-0.13074791404237363,-0.6591410345341484,null,-0.13074791404237363,0.43441562676844986,null,-0.13074791404237363,-0.08268511405883293,null,-0.13074791404237363,-0.841007231133625,null,-0.13074791404237363,0.39351525686910604,null,-0.13074791404237363,-0.3023308320846365,null,-0.13074791404237363,0.1085093061105497,null,0.00985720697439431,-0.08268511405883293,null,0.00985720697439431,-0.5136909451509702,null,0.00985720697439431,-0.7150953118703757,null,0.00985720697439431,0.8934316273268219,null,0.00985720697439431,-0.3023308320846365,null,0.00985720697439431,0.64603333210063,null,0.00985720697439431,0.5597326811454387,null,0.00985720697439431,-0.6954215003503544,null,0.00985720697439431,0.7440077434209307,null,0.00985720697439431,-0.01559439952347935,null,0.7698968899524918,-0.00394550801112733,null,0.15234577603572722,0.7698968899524918,null,0.15234577603572722,0.2329162385361672,null,0.15234577603572722,0.6198275913779973,null,0.15234577603572722,-0.7150953118703757,null,-0.00394550801112733,-0.841007231133625,null,-0.00394550801112733,-0.5418145542584841,null,-0.00394550801112733,0.7225921487297684,null,-0.00394550801112733,-0.08362907536597816,null,-0.00394550801112733,0.1085093061105497,null,-0.00394550801112733,0.8515475365182009,null,-0.00394550801112733,-0.43433878577205476,null,-0.12182994041137177,0.08563297199704492,null,-0.09286790622333274,-0.12182994041137177,null,-0.09286790622333274,-0.5418145542584841,null,-0.09286790622333274,-0.35102732250696445,null,-0.09286790622333274,-0.570689775582397,null,-0.09286790622333274,0.8934316273268219,null,-0.09286790622333274,-0.8395647587918993,null,-0.09286790622333274,0.5597326811454387,null,-0.09286790622333274,-0.6954215003503544,null,-0.09286790622333274,0.6065788158989635,null,0.08563297199704492,0.2329162385361672,null,0.08563297199704492,-0.847073885330707,null,0.08563297199704492,0.64603333210063,null,0.08563297199704492,0.8515475365182009,null,0.08563297199704492,-0.43433878577205476,null,0.08563297199704492,-0.6954215003503544,null,0.08563297199704492,0.6065788158989635,null,0.08563297199704492,-0.01559439952347935,null,0.08563297199704492,0.42346308433693536,null,-0.5360288820136246,0.08563297199704492,null,0.14912741791154618,-0.5360288820136246,null,0.14912741791154618,-0.5136909451509702,null,0.14912741791154618,0.7225921487297684,null,0.14912741791154618,-0.35102732250696445,null,0.14912741791154618,0.322622761280956,null,0.14912741791154618,-0.36679084510231774,null,0.14912741791154618,0.64603333210063,null,0.14912741791154618,0.8515475365182009,null,0.14912741791154618,0.7440077434209307,null,0.14912741791154618,-0.01559439952347935,null,0.14912741791154618,0.42346308433693536,null,0.43441562676844986,-0.00394550801112733,null,0.019261508826908916,0.43441562676844986,null,0.019261508826908916,0.39351525686910604,null,0.019261508826908916,-0.08362907536597816,null,0.019261508826908916,0.6198275913779973,null,0.019261508826908916,-0.570689775582397,null,0.019261508826908916,-0.8395647587918993,null,0.019261508826908916,0.322622761280956,null,0.019261508826908916,-0.847073885330707,null,0.019261508826908916,-0.36679084510231774,null,0.019261508826908916,-0.3023308320846365,null,0.019261508826908916,0.1085093061105497,null,0.019261508826908916,-0.43433878577205476,null,0.019261508826908916,0.5597326811454387,null,0.019261508826908916,0.6065788158989635,null,0.019261508826908916,0.7440077434209307,null,0.019261508826908916,0.42346308433693536,null,-0.08268511405883293,-0.00394550801112733,null,-0.841007231133625,0.00985720697439431,null,0.39351525686910604,0.00985720697439431,null,-0.5418145542584841,0.08563297199704492,null,0.2329162385361672,-0.00394550801112733,null,-0.5136909451509702,-0.00394550801112733,null,0.7225921487297684,0.00985720697439431,null,-0.08362907536597816,0.00985720697439431,null,0.6198275913779973,-0.00394550801112733,null,-0.7150953118703757,-0.00394550801112733,null,-0.35102732250696445,0.08563297199704492,null,-0.570689775582397,0.08563297199704492,null,0.8934316273268219,0.08563297199704492,null,-0.8395647587918993,0.00985720697439431,null,0.322622761280956,0.08563297199704492,null,-0.847073885330707,0.00985720697439431,null,-0.36679084510231774,0.00985720697439431,null,-0.3023308320846365,-0.00394550801112733,null,0.1085093061105497,0.00985720697439431,null,0.64603333210063,-0.00394550801112733,null,0.8515475365182009,0.00985720697439431,null,-0.43433878577205476,0.00985720697439431,null,0.5597326811454387,0.08563297199704492,null,-0.6954215003503544,0.019261508826908916,null,0.6065788158989635,0.00985720697439431,null,0.7440077434209307,0.08563297199704492,null,-0.01559439952347935,0.019261508826908916,null,0.42346308433693536,0.00985720697439431,null],\"y\":[-0.34898859547926814,-0.016853949538026814,null,-0.23145832364276203,-0.34898859547926814,null,-0.23145832364276203,-0.8063646601519019,null,-0.23145832364276203,-0.965239904647372,null,-0.23145832364276203,0.0016490815847728844,null,-0.23145832364276203,0.5573278516077186,null,-0.23145832364276203,-0.8951977114400496,null,-0.23145832364276203,0.700499649184477,null,-0.016853949538026814,-0.965239904647372,null,-0.016853949538026814,-0.8024034836386409,null,-0.016853949538026814,-0.6269834760047346,null,-0.016853949538026814,0.3405370136974109,null,-0.016853949538026814,-0.8951977114400496,null,-0.016853949538026814,-0.27798420121382267,null,-0.016853949538026814,0.7781071571798971,null,-0.016853949538026814,0.6506302544817475,null,-0.016853949538026814,0.5891078577952397,null,-0.016853949538026814,1.0,null,-0.4587293870431659,-0.10933864973978438,null,-0.8135528069606562,-0.4587293870431659,null,-0.8135528069606562,-0.9767521177142416,null,-0.8135528069606562,-0.6737818194319024,null,-0.8135528069606562,-0.6269834760047346,null,-0.10933864973978438,0.0016490815847728844,null,-0.10933864973978438,-0.009313531613659966,null,-0.10933864973978438,0.07565535672659446,null,-0.10933864973978438,-0.6314863771752585,null,-0.10933864973978438,0.700499649184477,null,-0.10933864973978438,-0.0952280001027512,null,-0.10933864973978438,-0.5136907498817902,null,0.831198304167185,0.03714330168032707,null,0.42311942441367384,0.831198304167185,null,0.42311942441367384,-0.009313531613659966,null,0.42311942441367384,0.8408176757770425,null,0.42311942441367384,0.27134538251232443,null,0.42311942441367384,0.3405370136974109,null,0.42311942441367384,-0.23043352881171306,null,0.42311942441367384,0.7781071571798971,null,0.42311942441367384,0.6506302544817475,null,0.42311942441367384,0.30565782871305935,null,0.03714330168032707,-0.9767521177142416,null,0.03714330168032707,0.2560077566998551,null,0.03714330168032707,-0.27798420121382267,null,0.03714330168032707,-0.0952280001027512,null,0.03714330168032707,-0.5136907498817902,null,0.03714330168032707,0.6506302544817475,null,0.03714330168032707,0.30565782871305935,null,0.03714330168032707,1.0,null,0.03714330168032707,-0.45981865707818903,null,0.49137805234146237,0.03714330168032707,null,0.23961926039836828,0.49137805234146237,null,0.23961926039836828,-0.8024034836386409,null,0.23961926039836828,0.07565535672659446,null,0.23961926039836828,0.8408176757770425,null,0.23961926039836828,0.8895641962570652,null,0.23961926039836828,0.602333662735167,null,0.23961926039836828,-0.27798420121382267,null,0.23961926039836828,-0.0952280001027512,null,0.23961926039836828,0.5891078577952397,null,0.23961926039836828,1.0,null,0.23961926039836828,-0.45981865707818903,null,-0.8063646601519019,-0.10933864973978438,null,0.0619008633563023,-0.8063646601519019,null,0.0619008633563023,0.5573278516077186,null,0.0619008633563023,-0.6314863771752585,null,0.0619008633563023,-0.6737818194319024,null,0.0619008633563023,0.27134538251232443,null,0.0619008633563023,-0.23043352881171306,null,0.0619008633563023,0.8895641962570652,null,0.0619008633563023,0.2560077566998551,null,0.0619008633563023,0.602333662735167,null,0.0619008633563023,-0.8951977114400496,null,0.0619008633563023,0.700499649184477,null,0.0619008633563023,-0.5136907498817902,null,0.0619008633563023,0.7781071571798971,null,0.0619008633563023,0.30565782871305935,null,0.0619008633563023,0.5891078577952397,null,0.0619008633563023,-0.45981865707818903,null,-0.965239904647372,-0.10933864973978438,null,0.0016490815847728844,-0.016853949538026814,null,0.5573278516077186,-0.016853949538026814,null,-0.009313531613659966,0.03714330168032707,null,-0.9767521177142416,-0.10933864973978438,null,-0.8024034836386409,-0.10933864973978438,null,0.07565535672659446,-0.016853949538026814,null,-0.6314863771752585,-0.016853949538026814,null,-0.6737818194319024,-0.10933864973978438,null,-0.6269834760047346,-0.10933864973978438,null,0.8408176757770425,0.03714330168032707,null,0.27134538251232443,0.03714330168032707,null,0.3405370136974109,0.03714330168032707,null,-0.23043352881171306,-0.016853949538026814,null,0.8895641962570652,0.03714330168032707,null,0.2560077566998551,-0.016853949538026814,null,0.602333662735167,-0.016853949538026814,null,-0.8951977114400496,-0.10933864973978438,null,0.700499649184477,-0.016853949538026814,null,-0.27798420121382267,-0.10933864973978438,null,-0.0952280001027512,-0.016853949538026814,null,-0.5136907498817902,-0.016853949538026814,null,0.7781071571798971,0.03714330168032707,null,0.6506302544817475,0.0619008633563023,null,0.30565782871305935,-0.016853949538026814,null,0.5891078577952397,0.03714330168032707,null,1.0,0.0619008633563023,null,-0.45981865707818903,-0.016853949538026814,null],\"type\":\"scatter\"},{\"hoverinfo\":\"text\",\"marker\":{\"color\":[],\"colorbar\":{\"thickness\":15,\"title\":{\"side\":\"right\",\"text\":\"Node Connections\"},\"xanchor\":\"left\"},\"colorscale\":[[0.0,\"rgb(255,255,217)\"],[0.125,\"rgb(237,248,177)\"],[0.25,\"rgb(199,233,180)\"],[0.375,\"rgb(127,205,187)\"],[0.5,\"rgb(65,182,196)\"],[0.625,\"rgb(29,145,192)\"],[0.75,\"rgb(34,94,168)\"],[0.875,\"rgb(37,52,148)\"],[1.0,\"rgb(8,29,88)\"]],\"line\":{\"width\":2},\"reversescale\":true,\"showscale\":true,\"size\":10},\"mode\":\"markers\",\"text\":[\"0\",\"\\u0411\\u0440\\u044e\\u043a\\u0438\",\"\\u0424\\u0443\\u0442\\u0431\\u043e\\u043b\\u043a\\u0430\",\"1\",\"\\u0428\\u0430\\u043f\\u043a\\u0430\",\"\\u0414\\u0436\\u0438\\u043d\\u0441\\u044b\",\"2\",\"\\u041a\\u0440\\u043e\\u0441\\u0441\\u043e\\u0432\\u043a\\u0438\",\"\\u041a\\u0443\\u0440\\u0442\\u043a\\u0430\",\"3\",\"\\u0420\\u0443\\u0431\\u0430\\u0448\\u043a\\u0430\",\"4\",\"\\u0421\\u0443\\u043c\\u043a\\u0430\",\"5\",\"6\",\"7\",\"8\",\"9\",\"10\",\"11\",\"12\",\"13\",\"14\",\"15\",\"16\",\"17\",\"18\",\"19\",\"20\",\"21\",\"22\",\"23\",\"24\",\"25\",\"26\",\"27\",\"28\",\"29\",\"30\",\"31\",\"32\"],\"x\":[-0.6591410345341484,-0.13074791404237363,0.00985720697439431,0.7698968899524918,0.15234577603572722,-0.00394550801112733,-0.12182994041137177,-0.09286790622333274,0.08563297199704492,-0.5360288820136246,0.14912741791154618,0.43441562676844986,0.019261508826908916,-0.08268511405883293,-0.841007231133625,0.39351525686910604,-0.5418145542584841,0.2329162385361672,-0.5136909451509702,0.7225921487297684,-0.08362907536597816,0.6198275913779973,-0.7150953118703757,-0.35102732250696445,-0.570689775582397,0.8934316273268219,-0.8395647587918993,0.322622761280956,-0.847073885330707,-0.36679084510231774,-0.3023308320846365,0.1085093061105497,0.64603333210063,0.8515475365182009,-0.43433878577205476,0.5597326811454387,-0.6954215003503544,0.6065788158989635,0.7440077434209307,-0.01559439952347935,0.42346308433693536],\"y\":[-0.34898859547926814,-0.23145832364276203,-0.016853949538026814,-0.4587293870431659,-0.8135528069606562,-0.10933864973978438,0.831198304167185,0.42311942441367384,0.03714330168032707,0.49137805234146237,0.23961926039836828,-0.8063646601519019,0.0619008633563023,-0.965239904647372,0.0016490815847728844,0.5573278516077186,-0.009313531613659966,-0.9767521177142416,-0.8024034836386409,0.07565535672659446,-0.6314863771752585,-0.6737818194319024,-0.6269834760047346,0.8408176757770425,0.27134538251232443,0.3405370136974109,-0.23043352881171306,0.8895641962570652,0.2560077566998551,0.602333662735167,-0.8951977114400496,0.700499649184477,-0.27798420121382267,-0.0952280001027512,-0.5136907498817902,0.7781071571798971,0.6506302544817475,0.30565782871305935,0.5891078577952397,1.0,-0.45981865707818903],\"type\":\"scatter\"}],                        {\"annotations\":[{\"showarrow\":false,\"text\":\"Python code: \\u003ca href='https:\\u002f\\u002fplotly.com\\u002fipython-notebooks\\u002fnetwork-graphs\\u002f'\\u003e https:\\u002f\\u002fplotly.com\\u002fipython-notebooks\\u002fnetwork-graphs\\u002f\\u003c\\u002fa\\u003e\",\"x\":0.005,\"xref\":\"paper\",\"y\":-0.002,\"yref\":\"paper\"}],\"hovermode\":\"closest\",\"margin\":{\"b\":20,\"l\":5,\"r\":5,\"t\":40},\"showlegend\":false,\"title\":{\"font\":{\"size\":16},\"text\":\"\\u003cbr\\u003eNetwork graph made with Python\"},\"xaxis\":{\"showgrid\":false,\"showticklabels\":false,\"zeroline\":false},\"yaxis\":{\"showgrid\":false,\"showticklabels\":false,\"zeroline\":false},\"template\":{\"data\":{\"histogram2dcontour\":[{\"type\":\"histogram2dcontour\",\"colorbar\":{\"outlinewidth\":0,\"ticks\":\"\"},\"colorscale\":[[0.0,\"#0d0887\"],[0.1111111111111111,\"#46039f\"],[0.2222222222222222,\"#7201a8\"],[0.3333333333333333,\"#9c179e\"],[0.4444444444444444,\"#bd3786\"],[0.5555555555555556,\"#d8576b\"],[0.6666666666666666,\"#ed7953\"],[0.7777777777777778,\"#fb9f3a\"],[0.8888888888888888,\"#fdca26\"],[1.0,\"#f0f921\"]]}],\"choropleth\":[{\"type\":\"choropleth\",\"colorbar\":{\"outlinewidth\":0,\"ticks\":\"\"}}],\"histogram2d\":[{\"type\":\"histogram2d\",\"colorbar\":{\"outlinewidth\":0,\"ticks\":\"\"},\"colorscale\":[[0.0,\"#0d0887\"],[0.1111111111111111,\"#46039f\"],[0.2222222222222222,\"#7201a8\"],[0.3333333333333333,\"#9c179e\"],[0.4444444444444444,\"#bd3786\"],[0.5555555555555556,\"#d8576b\"],[0.6666666666666666,\"#ed7953\"],[0.7777777777777778,\"#fb9f3a\"],[0.8888888888888888,\"#fdca26\"],[1.0,\"#f0f921\"]]}],\"heatmap\":[{\"type\":\"heatmap\",\"colorbar\":{\"outlinewidth\":0,\"ticks\":\"\"},\"colorscale\":[[0.0,\"#0d0887\"],[0.1111111111111111,\"#46039f\"],[0.2222222222222222,\"#7201a8\"],[0.3333333333333333,\"#9c179e\"],[0.4444444444444444,\"#bd3786\"],[0.5555555555555556,\"#d8576b\"],[0.6666666666666666,\"#ed7953\"],[0.7777777777777778,\"#fb9f3a\"],[0.8888888888888888,\"#fdca26\"],[1.0,\"#f0f921\"]]}],\"heatmapgl\":[{\"type\":\"heatmapgl\",\"colorbar\":{\"outlinewidth\":0,\"ticks\":\"\"},\"colorscale\":[[0.0,\"#0d0887\"],[0.1111111111111111,\"#46039f\"],[0.2222222222222222,\"#7201a8\"],[0.3333333333333333,\"#9c179e\"],[0.4444444444444444,\"#bd3786\"],[0.5555555555555556,\"#d8576b\"],[0.6666666666666666,\"#ed7953\"],[0.7777777777777778,\"#fb9f3a\"],[0.8888888888888888,\"#fdca26\"],[1.0,\"#f0f921\"]]}],\"contourcarpet\":[{\"type\":\"contourcarpet\",\"colorbar\":{\"outlinewidth\":0,\"ticks\":\"\"}}],\"contour\":[{\"type\":\"contour\",\"colorbar\":{\"outlinewidth\":0,\"ticks\":\"\"},\"colorscale\":[[0.0,\"#0d0887\"],[0.1111111111111111,\"#46039f\"],[0.2222222222222222,\"#7201a8\"],[0.3333333333333333,\"#9c179e\"],[0.4444444444444444,\"#bd3786\"],[0.5555555555555556,\"#d8576b\"],[0.6666666666666666,\"#ed7953\"],[0.7777777777777778,\"#fb9f3a\"],[0.8888888888888888,\"#fdca26\"],[1.0,\"#f0f921\"]]}],\"surface\":[{\"type\":\"surface\",\"colorbar\":{\"outlinewidth\":0,\"ticks\":\"\"},\"colorscale\":[[0.0,\"#0d0887\"],[0.1111111111111111,\"#46039f\"],[0.2222222222222222,\"#7201a8\"],[0.3333333333333333,\"#9c179e\"],[0.4444444444444444,\"#bd3786\"],[0.5555555555555556,\"#d8576b\"],[0.6666666666666666,\"#ed7953\"],[0.7777777777777778,\"#fb9f3a\"],[0.8888888888888888,\"#fdca26\"],[1.0,\"#f0f921\"]]}],\"mesh3d\":[{\"type\":\"mesh3d\",\"colorbar\":{\"outlinewidth\":0,\"ticks\":\"\"}}],\"scatter\":[{\"fillpattern\":{\"fillmode\":\"overlay\",\"size\":10,\"solidity\":0.2},\"type\":\"scatter\"}],\"parcoords\":[{\"type\":\"parcoords\",\"line\":{\"colorbar\":{\"outlinewidth\":0,\"ticks\":\"\"}}}],\"scatterpolargl\":[{\"type\":\"scatterpolargl\",\"marker\":{\"colorbar\":{\"outlinewidth\":0,\"ticks\":\"\"}}}],\"bar\":[{\"error_x\":{\"color\":\"#2a3f5f\"},\"error_y\":{\"color\":\"#2a3f5f\"},\"marker\":{\"line\":{\"color\":\"#E5ECF6\",\"width\":0.5},\"pattern\":{\"fillmode\":\"overlay\",\"size\":10,\"solidity\":0.2}},\"type\":\"bar\"}],\"scattergeo\":[{\"type\":\"scattergeo\",\"marker\":{\"colorbar\":{\"outlinewidth\":0,\"ticks\":\"\"}}}],\"scatterpolar\":[{\"type\":\"scatterpolar\",\"marker\":{\"colorbar\":{\"outlinewidth\":0,\"ticks\":\"\"}}}],\"histogram\":[{\"marker\":{\"pattern\":{\"fillmode\":\"overlay\",\"size\":10,\"solidity\":0.2}},\"type\":\"histogram\"}],\"scattergl\":[{\"type\":\"scattergl\",\"marker\":{\"colorbar\":{\"outlinewidth\":0,\"ticks\":\"\"}}}],\"scatter3d\":[{\"type\":\"scatter3d\",\"line\":{\"colorbar\":{\"outlinewidth\":0,\"ticks\":\"\"}},\"marker\":{\"colorbar\":{\"outlinewidth\":0,\"ticks\":\"\"}}}],\"scattermapbox\":[{\"type\":\"scattermapbox\",\"marker\":{\"colorbar\":{\"outlinewidth\":0,\"ticks\":\"\"}}}],\"scatterternary\":[{\"type\":\"scatterternary\",\"marker\":{\"colorbar\":{\"outlinewidth\":0,\"ticks\":\"\"}}}],\"scattercarpet\":[{\"type\":\"scattercarpet\",\"marker\":{\"colorbar\":{\"outlinewidth\":0,\"ticks\":\"\"}}}],\"carpet\":[{\"aaxis\":{\"endlinecolor\":\"#2a3f5f\",\"gridcolor\":\"white\",\"linecolor\":\"white\",\"minorgridcolor\":\"white\",\"startlinecolor\":\"#2a3f5f\"},\"baxis\":{\"endlinecolor\":\"#2a3f5f\",\"gridcolor\":\"white\",\"linecolor\":\"white\",\"minorgridcolor\":\"white\",\"startlinecolor\":\"#2a3f5f\"},\"type\":\"carpet\"}],\"table\":[{\"cells\":{\"fill\":{\"color\":\"#EBF0F8\"},\"line\":{\"color\":\"white\"}},\"header\":{\"fill\":{\"color\":\"#C8D4E3\"},\"line\":{\"color\":\"white\"}},\"type\":\"table\"}],\"barpolar\":[{\"marker\":{\"line\":{\"color\":\"#E5ECF6\",\"width\":0.5},\"pattern\":{\"fillmode\":\"overlay\",\"size\":10,\"solidity\":0.2}},\"type\":\"barpolar\"}],\"pie\":[{\"automargin\":true,\"type\":\"pie\"}]},\"layout\":{\"autotypenumbers\":\"strict\",\"colorway\":[\"#636efa\",\"#EF553B\",\"#00cc96\",\"#ab63fa\",\"#FFA15A\",\"#19d3f3\",\"#FF6692\",\"#B6E880\",\"#FF97FF\",\"#FECB52\"],\"font\":{\"color\":\"#2a3f5f\"},\"hovermode\":\"closest\",\"hoverlabel\":{\"align\":\"left\"},\"paper_bgcolor\":\"white\",\"plot_bgcolor\":\"#E5ECF6\",\"polar\":{\"bgcolor\":\"#E5ECF6\",\"angularaxis\":{\"gridcolor\":\"white\",\"linecolor\":\"white\",\"ticks\":\"\"},\"radialaxis\":{\"gridcolor\":\"white\",\"linecolor\":\"white\",\"ticks\":\"\"}},\"ternary\":{\"bgcolor\":\"#E5ECF6\",\"aaxis\":{\"gridcolor\":\"white\",\"linecolor\":\"white\",\"ticks\":\"\"},\"baxis\":{\"gridcolor\":\"white\",\"linecolor\":\"white\",\"ticks\":\"\"},\"caxis\":{\"gridcolor\":\"white\",\"linecolor\":\"white\",\"ticks\":\"\"}},\"coloraxis\":{\"colorbar\":{\"outlinewidth\":0,\"ticks\":\"\"}},\"colorscale\":{\"sequential\":[[0.0,\"#0d0887\"],[0.1111111111111111,\"#46039f\"],[0.2222222222222222,\"#7201a8\"],[0.3333333333333333,\"#9c179e\"],[0.4444444444444444,\"#bd3786\"],[0.5555555555555556,\"#d8576b\"],[0.6666666666666666,\"#ed7953\"],[0.7777777777777778,\"#fb9f3a\"],[0.8888888888888888,\"#fdca26\"],[1.0,\"#f0f921\"]],\"sequentialminus\":[[0.0,\"#0d0887\"],[0.1111111111111111,\"#46039f\"],[0.2222222222222222,\"#7201a8\"],[0.3333333333333333,\"#9c179e\"],[0.4444444444444444,\"#bd3786\"],[0.5555555555555556,\"#d8576b\"],[0.6666666666666666,\"#ed7953\"],[0.7777777777777778,\"#fb9f3a\"],[0.8888888888888888,\"#fdca26\"],[1.0,\"#f0f921\"]],\"diverging\":[[0,\"#8e0152\"],[0.1,\"#c51b7d\"],[0.2,\"#de77ae\"],[0.3,\"#f1b6da\"],[0.4,\"#fde0ef\"],[0.5,\"#f7f7f7\"],[0.6,\"#e6f5d0\"],[0.7,\"#b8e186\"],[0.8,\"#7fbc41\"],[0.9,\"#4d9221\"],[1,\"#276419\"]]},\"xaxis\":{\"gridcolor\":\"white\",\"linecolor\":\"white\",\"ticks\":\"\",\"title\":{\"standoff\":15},\"zerolinecolor\":\"white\",\"automargin\":true,\"zerolinewidth\":2},\"yaxis\":{\"gridcolor\":\"white\",\"linecolor\":\"white\",\"ticks\":\"\",\"title\":{\"standoff\":15},\"zerolinecolor\":\"white\",\"automargin\":true,\"zerolinewidth\":2},\"scene\":{\"xaxis\":{\"backgroundcolor\":\"#E5ECF6\",\"gridcolor\":\"white\",\"linecolor\":\"white\",\"showbackground\":true,\"ticks\":\"\",\"zerolinecolor\":\"white\",\"gridwidth\":2},\"yaxis\":{\"backgroundcolor\":\"#E5ECF6\",\"gridcolor\":\"white\",\"linecolor\":\"white\",\"showbackground\":true,\"ticks\":\"\",\"zerolinecolor\":\"white\",\"gridwidth\":2},\"zaxis\":{\"backgroundcolor\":\"#E5ECF6\",\"gridcolor\":\"white\",\"linecolor\":\"white\",\"showbackground\":true,\"ticks\":\"\",\"zerolinecolor\":\"white\",\"gridwidth\":2}},\"shapedefaults\":{\"line\":{\"color\":\"#2a3f5f\"}},\"annotationdefaults\":{\"arrowcolor\":\"#2a3f5f\",\"arrowhead\":0,\"arrowwidth\":1},\"geo\":{\"bgcolor\":\"white\",\"landcolor\":\"#E5ECF6\",\"subunitcolor\":\"white\",\"showland\":true,\"showlakes\":true,\"lakecolor\":\"white\"},\"title\":{\"x\":0.05},\"mapbox\":{\"style\":\"light\"}}}},                        {\"responsive\": true}                    ).then(function(){\n",
       "                            \n",
       "var gd = document.getElementById('f9f58287-14e2-4db5-a773-d763a3103820');\n",
       "var x = new MutationObserver(function (mutations, observer) {{\n",
       "        var display = window.getComputedStyle(gd).display;\n",
       "        if (!display || display === 'none') {{\n",
       "            console.log([gd, 'removed!']);\n",
       "            Plotly.purge(gd);\n",
       "            observer.disconnect();\n",
       "        }}\n",
       "}});\n",
       "\n",
       "// Listen for the removal of the full notebook cells\n",
       "var notebookContainer = gd.closest('#notebook-container');\n",
       "if (notebookContainer) {{\n",
       "    x.observe(notebookContainer, {childList: true});\n",
       "}}\n",
       "\n",
       "// Listen for the clearing of the current output cell\n",
       "var outputEl = gd.closest('.output');\n",
       "if (outputEl) {{\n",
       "    x.observe(outputEl, {childList: true});\n",
       "}}\n",
       "\n",
       "                        })                };                });            </script>        </div>"
      ]
     },
     "metadata": {},
     "output_type": "display_data",
     "jetTransient": {
      "display_id": null
     }
    }
   ],
   "execution_count": 121
  },
  {
   "metadata": {},
   "cell_type": "markdown",
   "source": "fpgrowth_py",
   "id": "fac5768ae7d2beb4"
  },
  {
   "metadata": {
    "ExecuteTime": {
     "end_time": "2025-09-26T06:51:10.350218Z",
     "start_time": "2025-09-26T06:51:10.343915Z"
    }
   },
   "cell_type": "code",
   "source": [
    "def output_fpgrowth(rules):\n",
    "    rules_pyarmviz_fp = []\n",
    "\n",
    "    for i, (antecedent, consequent, confidence) in enumerate(rules):\n",
    "        ant = frozenset(antecedent)\n",
    "        cons = frozenset(consequent)\n",
    "        union = ant | cons\n",
    "\n",
    "        count_ab = sum(1 for t in transactions if union.issubset(t))\n",
    "        count_a = sum(1 for t in transactions if ant.issubset(t))\n",
    "        count_b = sum(1 for t in transactions if cons.issubset(t))\n",
    "\n",
    "        support_ab = count_ab / n_trans\n",
    "        support_a = count_a / n_trans\n",
    "        support_b = count_b / n_trans\n",
    "        lift = support_ab / (support_a * support_b) if support_a * support_b else 0.0\n",
    "\n",
    "        print(f\"{i}: {antecedent} -> {consequent} \"\n",
    "              f\" Support = {support_ab:.3f} Confidence = {confidence:.3f} Lift = {lift:.3f}\")\n",
    "\n",
    "        rules_pyarmviz_fp.append(\n",
    "            PyARMViz.Rule.Rule(\n",
    "                lhs=tuple(antecedent),\n",
    "                rhs=tuple(consequent),\n",
    "                count_full=count_ab,\n",
    "                count_lhs=count_a,\n",
    "                count_rhs=count_b,\n",
    "                num_transactions=n_trans\n",
    "            )\n",
    "        )\n",
    "    PyARMViz.metadata_scatter_plot(rules_pyarmviz_fp)\n",
    "    PyARMViz.adjacency_graph_plotly(rules_pyarmviz_fp)\n",
    "    # PyARMViz.adjacency_parallel_coordinate_plot(rules_pyarmviz)\n",
    "    # PyARMViz.adjacency_parallel_category_plot(rules_pyarmviz)"
   ],
   "id": "6e3c5d748e9ab02",
   "outputs": [],
   "execution_count": 122
  },
  {
   "metadata": {
    "ExecuteTime": {
     "end_time": "2025-09-26T06:51:10.440240Z",
     "start_time": "2025-09-26T06:51:10.357261Z"
    }
   },
   "cell_type": "code",
   "source": [
    "start = time.time()\n",
    "freqItemSet, rules = fpgrowth(transactions, minSupRatio=min_sup, minConf=0.6)\n",
    "times['fpgrowth-py'] = time.time() - start\n",
    "rules = [rule for rule in rules if len(rule[1]) == 1]\n",
    "output_fpgrowth(rules)"
   ],
   "id": "ccce1274688df76",
   "outputs": [
    {
     "name": "stdout",
     "output_type": "stream",
     "text": [
      "0: {'Шапка'} -> {'Сумка'}  Support = 0.200 Confidence = 0.667 Lift = 1.212\n",
      "1: {'Джинсы', 'Шапка'} -> {'Сумка'}  Support = 0.200 Confidence = 0.667 Lift = 1.212\n",
      "2: {'Сумка', 'Шапка'} -> {'Джинсы'}  Support = 0.200 Confidence = 1.000 Lift = 1.429\n",
      "3: {'Шапка'} -> {'Куртка'}  Support = 0.200 Confidence = 0.667 Lift = 1.111\n",
      "4: {'Куртка', 'Шапка'} -> {'Джинсы'}  Support = 0.200 Confidence = 1.000 Lift = 1.429\n",
      "5: {'Джинсы', 'Шапка'} -> {'Куртка'}  Support = 0.200 Confidence = 0.667 Lift = 1.111\n",
      "6: {'Шапка'} -> {'Футболка'}  Support = 0.200 Confidence = 0.667 Lift = 0.952\n",
      "7: {'Футболка', 'Шапка'} -> {'Джинсы'}  Support = 0.200 Confidence = 1.000 Lift = 1.429\n",
      "8: {'Джинсы', 'Шапка'} -> {'Футболка'}  Support = 0.200 Confidence = 0.667 Lift = 0.952\n",
      "9: {'Шапка'} -> {'Джинсы'}  Support = 0.300 Confidence = 1.000 Lift = 1.429\n",
      "10: {'Брюки'} -> {'Сумка'}  Support = 0.250 Confidence = 0.625 Lift = 1.136\n",
      "11: {'Джинсы', 'Брюки'} -> {'Сумка'}  Support = 0.200 Confidence = 0.667 Lift = 1.212\n",
      "12: {'Брюки', 'Сумка'} -> {'Джинсы'}  Support = 0.200 Confidence = 0.800 Lift = 1.143\n",
      "13: {'Брюки', 'Сумка'} -> {'Футболка'}  Support = 0.200 Confidence = 0.800 Lift = 1.143\n",
      "14: {'Футболка', 'Джинсы', 'Брюки'} -> {'Сумка'}  Support = 0.200 Confidence = 0.667 Lift = 1.212\n",
      "15: {'Футболка', 'Джинсы', 'Сумка'} -> {'Брюки'}  Support = 0.200 Confidence = 0.667 Lift = 1.667\n",
      "16: {'Футболка', 'Брюки', 'Сумка'} -> {'Джинсы'}  Support = 0.200 Confidence = 1.000 Lift = 1.429\n",
      "17: {'Джинсы', 'Брюки', 'Сумка'} -> {'Футболка'}  Support = 0.200 Confidence = 1.000 Lift = 1.429\n",
      "18: {'Брюки'} -> {'Джинсы'}  Support = 0.300 Confidence = 0.750 Lift = 1.071\n",
      "19: {'Футболка', 'Брюки'} -> {'Джинсы'}  Support = 0.300 Confidence = 0.857 Lift = 1.224\n",
      "20: {'Джинсы', 'Брюки'} -> {'Футболка'}  Support = 0.300 Confidence = 1.000 Lift = 1.429\n",
      "21: {'Брюки'} -> {'Футболка'}  Support = 0.350 Confidence = 0.875 Lift = 1.250\n",
      "22: {'Футболка', 'Кроссовки'} -> {'Сумка'}  Support = 0.200 Confidence = 0.667 Lift = 1.212\n",
      "23: {'Сумка', 'Кроссовки'} -> {'Футболка'}  Support = 0.200 Confidence = 1.000 Lift = 1.429\n",
      "24: {'Сумка', 'Кроссовки'} -> {'Куртка'}  Support = 0.200 Confidence = 1.000 Lift = 1.667\n",
      "25: {'Футболка', 'Куртка', 'Сумка'} -> {'Кроссовки'}  Support = 0.200 Confidence = 0.667 Lift = 1.481\n",
      "26: {'Футболка', 'Куртка', 'Кроссовки'} -> {'Сумка'}  Support = 0.200 Confidence = 0.800 Lift = 1.455\n",
      "27: {'Футболка', 'Сумка', 'Кроссовки'} -> {'Куртка'}  Support = 0.200 Confidence = 1.000 Lift = 1.667\n",
      "28: {'Куртка', 'Сумка', 'Кроссовки'} -> {'Футболка'}  Support = 0.200 Confidence = 1.000 Lift = 1.429\n",
      "29: {'Кроссовки'} -> {'Рубашка'}  Support = 0.300 Confidence = 0.667 Lift = 1.333\n",
      "30: {'Рубашка', 'Куртка'} -> {'Кроссовки'}  Support = 0.250 Confidence = 0.625 Lift = 1.389\n",
      "31: {'Рубашка', 'Кроссовки'} -> {'Куртка'}  Support = 0.250 Confidence = 0.833 Lift = 1.389\n",
      "32: {'Куртка', 'Кроссовки'} -> {'Рубашка'}  Support = 0.250 Confidence = 0.625 Lift = 1.250\n",
      "33: {'Кроссовки'} -> {'Джинсы'}  Support = 0.300 Confidence = 0.667 Lift = 0.952\n",
      "34: {'Джинсы', 'Кроссовки'} -> {'Рубашка'}  Support = 0.200 Confidence = 0.667 Lift = 1.333\n",
      "35: {'Рубашка', 'Кроссовки'} -> {'Джинсы'}  Support = 0.200 Confidence = 0.667 Lift = 0.952\n",
      "36: {'Джинсы', 'Куртка'} -> {'Кроссовки'}  Support = 0.250 Confidence = 0.625 Lift = 1.389\n",
      "37: {'Джинсы', 'Кроссовки'} -> {'Куртка'}  Support = 0.250 Confidence = 0.833 Lift = 1.389\n",
      "38: {'Куртка', 'Кроссовки'} -> {'Джинсы'}  Support = 0.250 Confidence = 0.625 Lift = 0.893\n",
      "39: {'Кроссовки'} -> {'Футболка'}  Support = 0.300 Confidence = 0.667 Lift = 0.952\n",
      "40: {'Футболка', 'Кроссовки'} -> {'Джинсы'}  Support = 0.200 Confidence = 0.667 Lift = 0.952\n",
      "41: {'Джинсы', 'Кроссовки'} -> {'Футболка'}  Support = 0.200 Confidence = 0.667 Lift = 0.952\n",
      "42: {'Футболка', 'Кроссовки'} -> {'Рубашка'}  Support = 0.200 Confidence = 0.667 Lift = 1.333\n",
      "43: {'Рубашка', 'Кроссовки'} -> {'Футболка'}  Support = 0.200 Confidence = 0.667 Lift = 0.952\n",
      "44: {'Футболка', 'Куртка'} -> {'Кроссовки'}  Support = 0.250 Confidence = 0.625 Lift = 1.389\n",
      "45: {'Футболка', 'Кроссовки'} -> {'Куртка'}  Support = 0.250 Confidence = 0.833 Lift = 1.389\n",
      "46: {'Куртка', 'Кроссовки'} -> {'Футболка'}  Support = 0.250 Confidence = 0.625 Lift = 0.893\n",
      "47: {'Куртка'} -> {'Кроссовки'}  Support = 0.400 Confidence = 0.667 Lift = 1.481\n",
      "48: {'Кроссовки'} -> {'Куртка'}  Support = 0.400 Confidence = 0.889 Lift = 1.481\n",
      "49: {'Рубашка', 'Сумка'} -> {'Футболка'}  Support = 0.200 Confidence = 0.800 Lift = 1.143\n",
      "50: {'Футболка', 'Куртка', 'Рубашка'} -> {'Сумка'}  Support = 0.200 Confidence = 0.800 Lift = 1.455\n",
      "51: {'Футболка', 'Куртка', 'Сумка'} -> {'Рубашка'}  Support = 0.200 Confidence = 0.667 Lift = 1.333\n",
      "52: {'Футболка', 'Рубашка', 'Сумка'} -> {'Куртка'}  Support = 0.200 Confidence = 1.000 Lift = 1.667\n",
      "53: {'Куртка', 'Сумка', 'Рубашка'} -> {'Футболка'}  Support = 0.200 Confidence = 0.800 Lift = 1.143\n",
      "54: {'Куртка', 'Рубашка'} -> {'Сумка'}  Support = 0.250 Confidence = 0.625 Lift = 1.136\n",
      "55: {'Куртка', 'Сумка'} -> {'Рубашка'}  Support = 0.250 Confidence = 0.714 Lift = 1.429\n",
      "56: {'Рубашка', 'Сумка'} -> {'Куртка'}  Support = 0.250 Confidence = 1.000 Lift = 1.667\n",
      "57: {'Рубашка'} -> {'Джинсы'}  Support = 0.350 Confidence = 0.700 Lift = 1.000\n",
      "58: {'Куртка', 'Рубашка'} -> {'Джинсы'}  Support = 0.250 Confidence = 0.625 Lift = 0.893\n",
      "59: {'Куртка', 'Джинсы'} -> {'Рубашка'}  Support = 0.250 Confidence = 0.625 Lift = 1.250\n",
      "60: {'Рубашка', 'Джинсы'} -> {'Куртка'}  Support = 0.250 Confidence = 0.714 Lift = 1.190\n",
      "61: {'Рубашка'} -> {'Футболка'}  Support = 0.350 Confidence = 0.700 Lift = 1.000\n",
      "62: {'Футболка', 'Рубашка'} -> {'Джинсы'}  Support = 0.300 Confidence = 0.857 Lift = 1.224\n",
      "63: {'Рубашка', 'Джинсы'} -> {'Футболка'}  Support = 0.300 Confidence = 0.857 Lift = 1.224\n",
      "64: {'Футболка', 'Рубашка'} -> {'Куртка'}  Support = 0.250 Confidence = 0.714 Lift = 1.190\n",
      "65: {'Футболка', 'Куртка'} -> {'Рубашка'}  Support = 0.250 Confidence = 0.625 Lift = 1.250\n",
      "66: {'Рубашка', 'Куртка'} -> {'Футболка'}  Support = 0.250 Confidence = 0.625 Lift = 0.893\n",
      "67: {'Рубашка'} -> {'Куртка'}  Support = 0.400 Confidence = 0.800 Lift = 1.333\n",
      "68: {'Куртка'} -> {'Рубашка'}  Support = 0.400 Confidence = 0.667 Lift = 1.333\n",
      "69: {'Сумка'} -> {'Куртка'}  Support = 0.350 Confidence = 0.636 Lift = 1.061\n",
      "70: {'Футболка', 'Куртка'} -> {'Сумка'}  Support = 0.300 Confidence = 0.750 Lift = 1.364\n",
      "71: {'Футболка', 'Сумка'} -> {'Куртка'}  Support = 0.300 Confidence = 0.750 Lift = 1.250\n",
      "72: {'Куртка', 'Сумка'} -> {'Футболка'}  Support = 0.300 Confidence = 0.857 Lift = 1.224\n",
      "73: {'Сумка'} -> {'Джинсы'}  Support = 0.350 Confidence = 0.636 Lift = 0.909\n",
      "74: {'Футболка', 'Куртка', 'Джинсы'} -> {'Сумка'}  Support = 0.200 Confidence = 0.667 Lift = 1.212\n",
      "75: {'Футболка', 'Куртка', 'Сумка'} -> {'Джинсы'}  Support = 0.200 Confidence = 0.667 Lift = 0.952\n",
      "76: {'Футболка', 'Джинсы', 'Сумка'} -> {'Куртка'}  Support = 0.200 Confidence = 0.667 Lift = 1.111\n",
      "77: {'Куртка', 'Джинсы', 'Сумка'} -> {'Футболка'}  Support = 0.200 Confidence = 1.000 Lift = 1.429\n",
      "78: {'Футболка', 'Сумка'} -> {'Джинсы'}  Support = 0.300 Confidence = 0.750 Lift = 1.071\n",
      "79: {'Джинсы', 'Сумка'} -> {'Футболка'}  Support = 0.300 Confidence = 0.857 Lift = 1.224\n",
      "80: {'Сумка'} -> {'Футболка'}  Support = 0.400 Confidence = 0.727 Lift = 1.039\n",
      "81: {'Куртка'} -> {'Джинсы'}  Support = 0.400 Confidence = 0.667 Lift = 0.952\n",
      "82: {'Куртка'} -> {'Футболка'}  Support = 0.400 Confidence = 0.667 Lift = 0.952\n",
      "83: {'Футболка', 'Куртка'} -> {'Джинсы'}  Support = 0.300 Confidence = 0.750 Lift = 1.071\n",
      "84: {'Куртка', 'Джинсы'} -> {'Футболка'}  Support = 0.300 Confidence = 0.750 Lift = 1.071\n",
      "85: {'Футболка'} -> {'Джинсы'}  Support = 0.550 Confidence = 0.786 Lift = 1.122\n",
      "86: {'Джинсы'} -> {'Футболка'}  Support = 0.550 Confidence = 0.786 Lift = 1.122\n"
     ]
    },
    {
     "data": {
      "application/vnd.plotly.v1+json": {
       "data": [
        {
         "marker": {
          "color": [
           1.2121212121212122,
           1.1111111111111112,
           0.9523809523809524,
           1.4285714285714286,
           1.1363636363636365,
           1.0714285714285714,
           1.2499999999999998,
           1.3333333333333333,
           0.9523809523809523,
           0.9523809523809523,
           1.4814814814814814,
           1.4814814814814814,
           1.0,
           1.0,
           1.3333333333333335,
           1.3333333333333335,
           1.0606060606060606,
           0.9090909090909091,
           1.038961038961039,
           0.9523809523809524,
           0.9523809523809524,
           1.1224489795918369,
           1.1224489795918369
          ],
          "colorbar": {
           "title": {
            "text": "Lift"
           }
          },
          "colorscale": [
           [
            0.0,
            "rgb(243, 224, 247)"
           ],
           [
            0.16666666666666666,
            "rgb(228, 199, 241)"
           ],
           [
            0.3333333333333333,
            "rgb(209, 175, 232)"
           ],
           [
            0.5,
            "rgb(185, 152, 221)"
           ],
           [
            0.6666666666666666,
            "rgb(159, 130, 206)"
           ],
           [
            0.8333333333333334,
            "rgb(130, 109, 186)"
           ],
           [
            1.0,
            "rgb(99, 88, 159)"
           ]
          ]
         },
         "mode": "markers",
         "text": [
          "('Шапка',) => ('Сумка',), Lift: 1.2121212121212122",
          "('Шапка',) => ('Куртка',), Lift: 1.1111111111111112",
          "('Шапка',) => ('Футболка',), Lift: 0.9523809523809524",
          "('Шапка',) => ('Джинсы',), Lift: 1.4285714285714286",
          "('Брюки',) => ('Сумка',), Lift: 1.1363636363636365",
          "('Брюки',) => ('Джинсы',), Lift: 1.0714285714285714",
          "('Брюки',) => ('Футболка',), Lift: 1.2499999999999998",
          "('Кроссовки',) => ('Рубашка',), Lift: 1.3333333333333333",
          "('Кроссовки',) => ('Джинсы',), Lift: 0.9523809523809523",
          "('Кроссовки',) => ('Футболка',), Lift: 0.9523809523809523",
          "('Куртка',) => ('Кроссовки',), Lift: 1.4814814814814814",
          "('Кроссовки',) => ('Куртка',), Lift: 1.4814814814814814",
          "('Рубашка',) => ('Джинсы',), Lift: 1.0",
          "('Рубашка',) => ('Футболка',), Lift: 1.0",
          "('Рубашка',) => ('Куртка',), Lift: 1.3333333333333335",
          "('Куртка',) => ('Рубашка',), Lift: 1.3333333333333335",
          "('Сумка',) => ('Куртка',), Lift: 1.0606060606060606",
          "('Сумка',) => ('Джинсы',), Lift: 0.9090909090909091",
          "('Сумка',) => ('Футболка',), Lift: 1.038961038961039",
          "('Куртка',) => ('Джинсы',), Lift: 0.9523809523809524",
          "('Куртка',) => ('Футболка',), Lift: 0.9523809523809524",
          "('Футболка',) => ('Джинсы',), Lift: 1.1224489795918369",
          "('Джинсы',) => ('Футболка',), Lift: 1.1224489795918369"
         ],
         "x": [
          0.2,
          0.2,
          0.2,
          0.3,
          0.25,
          0.3,
          0.35,
          0.3,
          0.3,
          0.3,
          0.4,
          0.4,
          0.35,
          0.35,
          0.4,
          0.4,
          0.35,
          0.35,
          0.4,
          0.4,
          0.4,
          0.55,
          0.55
         ],
         "y": [
          0.6666666666666666,
          0.6666666666666666,
          0.6666666666666666,
          1.0,
          0.625,
          0.75,
          0.875,
          0.6666666666666666,
          0.6666666666666666,
          0.6666666666666666,
          0.6666666666666666,
          0.8888888888888888,
          0.7,
          0.7,
          0.8,
          0.6666666666666666,
          0.6363636363636364,
          0.6363636363636364,
          0.7272727272727273,
          0.6666666666666666,
          0.6666666666666666,
          0.7857142857142857,
          0.7857142857142857
         ],
         "type": "scatter"
        }
       ],
       "layout": {
        "template": {
         "data": {
          "histogram2dcontour": [
           {
            "type": "histogram2dcontour",
            "colorbar": {
             "outlinewidth": 0,
             "ticks": ""
            },
            "colorscale": [
             [
              0.0,
              "#0d0887"
             ],
             [
              0.1111111111111111,
              "#46039f"
             ],
             [
              0.2222222222222222,
              "#7201a8"
             ],
             [
              0.3333333333333333,
              "#9c179e"
             ],
             [
              0.4444444444444444,
              "#bd3786"
             ],
             [
              0.5555555555555556,
              "#d8576b"
             ],
             [
              0.6666666666666666,
              "#ed7953"
             ],
             [
              0.7777777777777778,
              "#fb9f3a"
             ],
             [
              0.8888888888888888,
              "#fdca26"
             ],
             [
              1.0,
              "#f0f921"
             ]
            ]
           }
          ],
          "choropleth": [
           {
            "type": "choropleth",
            "colorbar": {
             "outlinewidth": 0,
             "ticks": ""
            }
           }
          ],
          "histogram2d": [
           {
            "type": "histogram2d",
            "colorbar": {
             "outlinewidth": 0,
             "ticks": ""
            },
            "colorscale": [
             [
              0.0,
              "#0d0887"
             ],
             [
              0.1111111111111111,
              "#46039f"
             ],
             [
              0.2222222222222222,
              "#7201a8"
             ],
             [
              0.3333333333333333,
              "#9c179e"
             ],
             [
              0.4444444444444444,
              "#bd3786"
             ],
             [
              0.5555555555555556,
              "#d8576b"
             ],
             [
              0.6666666666666666,
              "#ed7953"
             ],
             [
              0.7777777777777778,
              "#fb9f3a"
             ],
             [
              0.8888888888888888,
              "#fdca26"
             ],
             [
              1.0,
              "#f0f921"
             ]
            ]
           }
          ],
          "heatmap": [
           {
            "type": "heatmap",
            "colorbar": {
             "outlinewidth": 0,
             "ticks": ""
            },
            "colorscale": [
             [
              0.0,
              "#0d0887"
             ],
             [
              0.1111111111111111,
              "#46039f"
             ],
             [
              0.2222222222222222,
              "#7201a8"
             ],
             [
              0.3333333333333333,
              "#9c179e"
             ],
             [
              0.4444444444444444,
              "#bd3786"
             ],
             [
              0.5555555555555556,
              "#d8576b"
             ],
             [
              0.6666666666666666,
              "#ed7953"
             ],
             [
              0.7777777777777778,
              "#fb9f3a"
             ],
             [
              0.8888888888888888,
              "#fdca26"
             ],
             [
              1.0,
              "#f0f921"
             ]
            ]
           }
          ],
          "heatmapgl": [
           {
            "type": "heatmapgl",
            "colorbar": {
             "outlinewidth": 0,
             "ticks": ""
            },
            "colorscale": [
             [
              0.0,
              "#0d0887"
             ],
             [
              0.1111111111111111,
              "#46039f"
             ],
             [
              0.2222222222222222,
              "#7201a8"
             ],
             [
              0.3333333333333333,
              "#9c179e"
             ],
             [
              0.4444444444444444,
              "#bd3786"
             ],
             [
              0.5555555555555556,
              "#d8576b"
             ],
             [
              0.6666666666666666,
              "#ed7953"
             ],
             [
              0.7777777777777778,
              "#fb9f3a"
             ],
             [
              0.8888888888888888,
              "#fdca26"
             ],
             [
              1.0,
              "#f0f921"
             ]
            ]
           }
          ],
          "contourcarpet": [
           {
            "type": "contourcarpet",
            "colorbar": {
             "outlinewidth": 0,
             "ticks": ""
            }
           }
          ],
          "contour": [
           {
            "type": "contour",
            "colorbar": {
             "outlinewidth": 0,
             "ticks": ""
            },
            "colorscale": [
             [
              0.0,
              "#0d0887"
             ],
             [
              0.1111111111111111,
              "#46039f"
             ],
             [
              0.2222222222222222,
              "#7201a8"
             ],
             [
              0.3333333333333333,
              "#9c179e"
             ],
             [
              0.4444444444444444,
              "#bd3786"
             ],
             [
              0.5555555555555556,
              "#d8576b"
             ],
             [
              0.6666666666666666,
              "#ed7953"
             ],
             [
              0.7777777777777778,
              "#fb9f3a"
             ],
             [
              0.8888888888888888,
              "#fdca26"
             ],
             [
              1.0,
              "#f0f921"
             ]
            ]
           }
          ],
          "surface": [
           {
            "type": "surface",
            "colorbar": {
             "outlinewidth": 0,
             "ticks": ""
            },
            "colorscale": [
             [
              0.0,
              "#0d0887"
             ],
             [
              0.1111111111111111,
              "#46039f"
             ],
             [
              0.2222222222222222,
              "#7201a8"
             ],
             [
              0.3333333333333333,
              "#9c179e"
             ],
             [
              0.4444444444444444,
              "#bd3786"
             ],
             [
              0.5555555555555556,
              "#d8576b"
             ],
             [
              0.6666666666666666,
              "#ed7953"
             ],
             [
              0.7777777777777778,
              "#fb9f3a"
             ],
             [
              0.8888888888888888,
              "#fdca26"
             ],
             [
              1.0,
              "#f0f921"
             ]
            ]
           }
          ],
          "mesh3d": [
           {
            "type": "mesh3d",
            "colorbar": {
             "outlinewidth": 0,
             "ticks": ""
            }
           }
          ],
          "scatter": [
           {
            "fillpattern": {
             "fillmode": "overlay",
             "size": 10,
             "solidity": 0.2
            },
            "type": "scatter"
           }
          ],
          "parcoords": [
           {
            "type": "parcoords",
            "line": {
             "colorbar": {
              "outlinewidth": 0,
              "ticks": ""
             }
            }
           }
          ],
          "scatterpolargl": [
           {
            "type": "scatterpolargl",
            "marker": {
             "colorbar": {
              "outlinewidth": 0,
              "ticks": ""
             }
            }
           }
          ],
          "bar": [
           {
            "error_x": {
             "color": "#2a3f5f"
            },
            "error_y": {
             "color": "#2a3f5f"
            },
            "marker": {
             "line": {
              "color": "#E5ECF6",
              "width": 0.5
             },
             "pattern": {
              "fillmode": "overlay",
              "size": 10,
              "solidity": 0.2
             }
            },
            "type": "bar"
           }
          ],
          "scattergeo": [
           {
            "type": "scattergeo",
            "marker": {
             "colorbar": {
              "outlinewidth": 0,
              "ticks": ""
             }
            }
           }
          ],
          "scatterpolar": [
           {
            "type": "scatterpolar",
            "marker": {
             "colorbar": {
              "outlinewidth": 0,
              "ticks": ""
             }
            }
           }
          ],
          "histogram": [
           {
            "marker": {
             "pattern": {
              "fillmode": "overlay",
              "size": 10,
              "solidity": 0.2
             }
            },
            "type": "histogram"
           }
          ],
          "scattergl": [
           {
            "type": "scattergl",
            "marker": {
             "colorbar": {
              "outlinewidth": 0,
              "ticks": ""
             }
            }
           }
          ],
          "scatter3d": [
           {
            "type": "scatter3d",
            "line": {
             "colorbar": {
              "outlinewidth": 0,
              "ticks": ""
             }
            },
            "marker": {
             "colorbar": {
              "outlinewidth": 0,
              "ticks": ""
             }
            }
           }
          ],
          "scattermapbox": [
           {
            "type": "scattermapbox",
            "marker": {
             "colorbar": {
              "outlinewidth": 0,
              "ticks": ""
             }
            }
           }
          ],
          "scatterternary": [
           {
            "type": "scatterternary",
            "marker": {
             "colorbar": {
              "outlinewidth": 0,
              "ticks": ""
             }
            }
           }
          ],
          "scattercarpet": [
           {
            "type": "scattercarpet",
            "marker": {
             "colorbar": {
              "outlinewidth": 0,
              "ticks": ""
             }
            }
           }
          ],
          "carpet": [
           {
            "aaxis": {
             "endlinecolor": "#2a3f5f",
             "gridcolor": "white",
             "linecolor": "white",
             "minorgridcolor": "white",
             "startlinecolor": "#2a3f5f"
            },
            "baxis": {
             "endlinecolor": "#2a3f5f",
             "gridcolor": "white",
             "linecolor": "white",
             "minorgridcolor": "white",
             "startlinecolor": "#2a3f5f"
            },
            "type": "carpet"
           }
          ],
          "table": [
           {
            "cells": {
             "fill": {
              "color": "#EBF0F8"
             },
             "line": {
              "color": "white"
             }
            },
            "header": {
             "fill": {
              "color": "#C8D4E3"
             },
             "line": {
              "color": "white"
             }
            },
            "type": "table"
           }
          ],
          "barpolar": [
           {
            "marker": {
             "line": {
              "color": "#E5ECF6",
              "width": 0.5
             },
             "pattern": {
              "fillmode": "overlay",
              "size": 10,
              "solidity": 0.2
             }
            },
            "type": "barpolar"
           }
          ],
          "pie": [
           {
            "automargin": true,
            "type": "pie"
           }
          ]
         },
         "layout": {
          "autotypenumbers": "strict",
          "colorway": [
           "#636efa",
           "#EF553B",
           "#00cc96",
           "#ab63fa",
           "#FFA15A",
           "#19d3f3",
           "#FF6692",
           "#B6E880",
           "#FF97FF",
           "#FECB52"
          ],
          "font": {
           "color": "#2a3f5f"
          },
          "hovermode": "closest",
          "hoverlabel": {
           "align": "left"
          },
          "paper_bgcolor": "white",
          "plot_bgcolor": "#E5ECF6",
          "polar": {
           "bgcolor": "#E5ECF6",
           "angularaxis": {
            "gridcolor": "white",
            "linecolor": "white",
            "ticks": ""
           },
           "radialaxis": {
            "gridcolor": "white",
            "linecolor": "white",
            "ticks": ""
           }
          },
          "ternary": {
           "bgcolor": "#E5ECF6",
           "aaxis": {
            "gridcolor": "white",
            "linecolor": "white",
            "ticks": ""
           },
           "baxis": {
            "gridcolor": "white",
            "linecolor": "white",
            "ticks": ""
           },
           "caxis": {
            "gridcolor": "white",
            "linecolor": "white",
            "ticks": ""
           }
          },
          "coloraxis": {
           "colorbar": {
            "outlinewidth": 0,
            "ticks": ""
           }
          },
          "colorscale": {
           "sequential": [
            [
             0.0,
             "#0d0887"
            ],
            [
             0.1111111111111111,
             "#46039f"
            ],
            [
             0.2222222222222222,
             "#7201a8"
            ],
            [
             0.3333333333333333,
             "#9c179e"
            ],
            [
             0.4444444444444444,
             "#bd3786"
            ],
            [
             0.5555555555555556,
             "#d8576b"
            ],
            [
             0.6666666666666666,
             "#ed7953"
            ],
            [
             0.7777777777777778,
             "#fb9f3a"
            ],
            [
             0.8888888888888888,
             "#fdca26"
            ],
            [
             1.0,
             "#f0f921"
            ]
           ],
           "sequentialminus": [
            [
             0.0,
             "#0d0887"
            ],
            [
             0.1111111111111111,
             "#46039f"
            ],
            [
             0.2222222222222222,
             "#7201a8"
            ],
            [
             0.3333333333333333,
             "#9c179e"
            ],
            [
             0.4444444444444444,
             "#bd3786"
            ],
            [
             0.5555555555555556,
             "#d8576b"
            ],
            [
             0.6666666666666666,
             "#ed7953"
            ],
            [
             0.7777777777777778,
             "#fb9f3a"
            ],
            [
             0.8888888888888888,
             "#fdca26"
            ],
            [
             1.0,
             "#f0f921"
            ]
           ],
           "diverging": [
            [
             0,
             "#8e0152"
            ],
            [
             0.1,
             "#c51b7d"
            ],
            [
             0.2,
             "#de77ae"
            ],
            [
             0.3,
             "#f1b6da"
            ],
            [
             0.4,
             "#fde0ef"
            ],
            [
             0.5,
             "#f7f7f7"
            ],
            [
             0.6,
             "#e6f5d0"
            ],
            [
             0.7,
             "#b8e186"
            ],
            [
             0.8,
             "#7fbc41"
            ],
            [
             0.9,
             "#4d9221"
            ],
            [
             1,
             "#276419"
            ]
           ]
          },
          "xaxis": {
           "gridcolor": "white",
           "linecolor": "white",
           "ticks": "",
           "title": {
            "standoff": 15
           },
           "zerolinecolor": "white",
           "automargin": true,
           "zerolinewidth": 2
          },
          "yaxis": {
           "gridcolor": "white",
           "linecolor": "white",
           "ticks": "",
           "title": {
            "standoff": 15
           },
           "zerolinecolor": "white",
           "automargin": true,
           "zerolinewidth": 2
          },
          "scene": {
           "xaxis": {
            "backgroundcolor": "#E5ECF6",
            "gridcolor": "white",
            "linecolor": "white",
            "showbackground": true,
            "ticks": "",
            "zerolinecolor": "white",
            "gridwidth": 2
           },
           "yaxis": {
            "backgroundcolor": "#E5ECF6",
            "gridcolor": "white",
            "linecolor": "white",
            "showbackground": true,
            "ticks": "",
            "zerolinecolor": "white",
            "gridwidth": 2
           },
           "zaxis": {
            "backgroundcolor": "#E5ECF6",
            "gridcolor": "white",
            "linecolor": "white",
            "showbackground": true,
            "ticks": "",
            "zerolinecolor": "white",
            "gridwidth": 2
           }
          },
          "shapedefaults": {
           "line": {
            "color": "#2a3f5f"
           }
          },
          "annotationdefaults": {
           "arrowcolor": "#2a3f5f",
           "arrowhead": 0,
           "arrowwidth": 1
          },
          "geo": {
           "bgcolor": "white",
           "landcolor": "#E5ECF6",
           "subunitcolor": "white",
           "showland": true,
           "showlakes": true,
           "lakecolor": "white"
          },
          "title": {
           "x": 0.05
          },
          "mapbox": {
           "style": "light"
          }
         }
        },
        "xaxis": {
         "title": {
          "text": "Support"
         },
         "autorange": "reversed"
        },
        "title": {
         "text": "Association Rules Strength Distribution"
        },
        "yaxis": {
         "title": {
          "text": "Confidence"
         }
        }
       },
       "config": {
        "plotlyServerURL": "https://plot.ly"
       }
      },
      "text/html": [
       "<div>                            <div id=\"0a3c61b5-cdc8-40b5-9a6c-909241284198\" class=\"plotly-graph-div\" style=\"height:525px; width:100%;\"></div>            <script type=\"text/javascript\">                require([\"plotly\"], function(Plotly) {                    window.PLOTLYENV=window.PLOTLYENV || {};                                    if (document.getElementById(\"0a3c61b5-cdc8-40b5-9a6c-909241284198\")) {                    Plotly.newPlot(                        \"0a3c61b5-cdc8-40b5-9a6c-909241284198\",                        [{\"marker\":{\"color\":[1.2121212121212122,1.1111111111111112,0.9523809523809524,1.4285714285714286,1.1363636363636365,1.0714285714285714,1.2499999999999998,1.3333333333333333,0.9523809523809523,0.9523809523809523,1.4814814814814814,1.4814814814814814,1.0,1.0,1.3333333333333335,1.3333333333333335,1.0606060606060606,0.9090909090909091,1.038961038961039,0.9523809523809524,0.9523809523809524,1.1224489795918369,1.1224489795918369],\"colorbar\":{\"title\":{\"text\":\"Lift\"}},\"colorscale\":[[0.0,\"rgb(243, 224, 247)\"],[0.16666666666666666,\"rgb(228, 199, 241)\"],[0.3333333333333333,\"rgb(209, 175, 232)\"],[0.5,\"rgb(185, 152, 221)\"],[0.6666666666666666,\"rgb(159, 130, 206)\"],[0.8333333333333334,\"rgb(130, 109, 186)\"],[1.0,\"rgb(99, 88, 159)\"]]},\"mode\":\"markers\",\"text\":[\"('\\u0428\\u0430\\u043f\\u043a\\u0430',) =\\u003e ('\\u0421\\u0443\\u043c\\u043a\\u0430',), Lift: 1.2121212121212122\",\"('\\u0428\\u0430\\u043f\\u043a\\u0430',) =\\u003e ('\\u041a\\u0443\\u0440\\u0442\\u043a\\u0430',), Lift: 1.1111111111111112\",\"('\\u0428\\u0430\\u043f\\u043a\\u0430',) =\\u003e ('\\u0424\\u0443\\u0442\\u0431\\u043e\\u043b\\u043a\\u0430',), Lift: 0.9523809523809524\",\"('\\u0428\\u0430\\u043f\\u043a\\u0430',) =\\u003e ('\\u0414\\u0436\\u0438\\u043d\\u0441\\u044b',), Lift: 1.4285714285714286\",\"('\\u0411\\u0440\\u044e\\u043a\\u0438',) =\\u003e ('\\u0421\\u0443\\u043c\\u043a\\u0430',), Lift: 1.1363636363636365\",\"('\\u0411\\u0440\\u044e\\u043a\\u0438',) =\\u003e ('\\u0414\\u0436\\u0438\\u043d\\u0441\\u044b',), Lift: 1.0714285714285714\",\"('\\u0411\\u0440\\u044e\\u043a\\u0438',) =\\u003e ('\\u0424\\u0443\\u0442\\u0431\\u043e\\u043b\\u043a\\u0430',), Lift: 1.2499999999999998\",\"('\\u041a\\u0440\\u043e\\u0441\\u0441\\u043e\\u0432\\u043a\\u0438',) =\\u003e ('\\u0420\\u0443\\u0431\\u0430\\u0448\\u043a\\u0430',), Lift: 1.3333333333333333\",\"('\\u041a\\u0440\\u043e\\u0441\\u0441\\u043e\\u0432\\u043a\\u0438',) =\\u003e ('\\u0414\\u0436\\u0438\\u043d\\u0441\\u044b',), Lift: 0.9523809523809523\",\"('\\u041a\\u0440\\u043e\\u0441\\u0441\\u043e\\u0432\\u043a\\u0438',) =\\u003e ('\\u0424\\u0443\\u0442\\u0431\\u043e\\u043b\\u043a\\u0430',), Lift: 0.9523809523809523\",\"('\\u041a\\u0443\\u0440\\u0442\\u043a\\u0430',) =\\u003e ('\\u041a\\u0440\\u043e\\u0441\\u0441\\u043e\\u0432\\u043a\\u0438',), Lift: 1.4814814814814814\",\"('\\u041a\\u0440\\u043e\\u0441\\u0441\\u043e\\u0432\\u043a\\u0438',) =\\u003e ('\\u041a\\u0443\\u0440\\u0442\\u043a\\u0430',), Lift: 1.4814814814814814\",\"('\\u0420\\u0443\\u0431\\u0430\\u0448\\u043a\\u0430',) =\\u003e ('\\u0414\\u0436\\u0438\\u043d\\u0441\\u044b',), Lift: 1.0\",\"('\\u0420\\u0443\\u0431\\u0430\\u0448\\u043a\\u0430',) =\\u003e ('\\u0424\\u0443\\u0442\\u0431\\u043e\\u043b\\u043a\\u0430',), Lift: 1.0\",\"('\\u0420\\u0443\\u0431\\u0430\\u0448\\u043a\\u0430',) =\\u003e ('\\u041a\\u0443\\u0440\\u0442\\u043a\\u0430',), Lift: 1.3333333333333335\",\"('\\u041a\\u0443\\u0440\\u0442\\u043a\\u0430',) =\\u003e ('\\u0420\\u0443\\u0431\\u0430\\u0448\\u043a\\u0430',), Lift: 1.3333333333333335\",\"('\\u0421\\u0443\\u043c\\u043a\\u0430',) =\\u003e ('\\u041a\\u0443\\u0440\\u0442\\u043a\\u0430',), Lift: 1.0606060606060606\",\"('\\u0421\\u0443\\u043c\\u043a\\u0430',) =\\u003e ('\\u0414\\u0436\\u0438\\u043d\\u0441\\u044b',), Lift: 0.9090909090909091\",\"('\\u0421\\u0443\\u043c\\u043a\\u0430',) =\\u003e ('\\u0424\\u0443\\u0442\\u0431\\u043e\\u043b\\u043a\\u0430',), Lift: 1.038961038961039\",\"('\\u041a\\u0443\\u0440\\u0442\\u043a\\u0430',) =\\u003e ('\\u0414\\u0436\\u0438\\u043d\\u0441\\u044b',), Lift: 0.9523809523809524\",\"('\\u041a\\u0443\\u0440\\u0442\\u043a\\u0430',) =\\u003e ('\\u0424\\u0443\\u0442\\u0431\\u043e\\u043b\\u043a\\u0430',), Lift: 0.9523809523809524\",\"('\\u0424\\u0443\\u0442\\u0431\\u043e\\u043b\\u043a\\u0430',) =\\u003e ('\\u0414\\u0436\\u0438\\u043d\\u0441\\u044b',), Lift: 1.1224489795918369\",\"('\\u0414\\u0436\\u0438\\u043d\\u0441\\u044b',) =\\u003e ('\\u0424\\u0443\\u0442\\u0431\\u043e\\u043b\\u043a\\u0430',), Lift: 1.1224489795918369\"],\"x\":[0.2,0.2,0.2,0.3,0.25,0.3,0.35,0.3,0.3,0.3,0.4,0.4,0.35,0.35,0.4,0.4,0.35,0.35,0.4,0.4,0.4,0.55,0.55],\"y\":[0.6666666666666666,0.6666666666666666,0.6666666666666666,1.0,0.625,0.75,0.875,0.6666666666666666,0.6666666666666666,0.6666666666666666,0.6666666666666666,0.8888888888888888,0.7,0.7,0.8,0.6666666666666666,0.6363636363636364,0.6363636363636364,0.7272727272727273,0.6666666666666666,0.6666666666666666,0.7857142857142857,0.7857142857142857],\"type\":\"scatter\"}],                        {\"template\":{\"data\":{\"histogram2dcontour\":[{\"type\":\"histogram2dcontour\",\"colorbar\":{\"outlinewidth\":0,\"ticks\":\"\"},\"colorscale\":[[0.0,\"#0d0887\"],[0.1111111111111111,\"#46039f\"],[0.2222222222222222,\"#7201a8\"],[0.3333333333333333,\"#9c179e\"],[0.4444444444444444,\"#bd3786\"],[0.5555555555555556,\"#d8576b\"],[0.6666666666666666,\"#ed7953\"],[0.7777777777777778,\"#fb9f3a\"],[0.8888888888888888,\"#fdca26\"],[1.0,\"#f0f921\"]]}],\"choropleth\":[{\"type\":\"choropleth\",\"colorbar\":{\"outlinewidth\":0,\"ticks\":\"\"}}],\"histogram2d\":[{\"type\":\"histogram2d\",\"colorbar\":{\"outlinewidth\":0,\"ticks\":\"\"},\"colorscale\":[[0.0,\"#0d0887\"],[0.1111111111111111,\"#46039f\"],[0.2222222222222222,\"#7201a8\"],[0.3333333333333333,\"#9c179e\"],[0.4444444444444444,\"#bd3786\"],[0.5555555555555556,\"#d8576b\"],[0.6666666666666666,\"#ed7953\"],[0.7777777777777778,\"#fb9f3a\"],[0.8888888888888888,\"#fdca26\"],[1.0,\"#f0f921\"]]}],\"heatmap\":[{\"type\":\"heatmap\",\"colorbar\":{\"outlinewidth\":0,\"ticks\":\"\"},\"colorscale\":[[0.0,\"#0d0887\"],[0.1111111111111111,\"#46039f\"],[0.2222222222222222,\"#7201a8\"],[0.3333333333333333,\"#9c179e\"],[0.4444444444444444,\"#bd3786\"],[0.5555555555555556,\"#d8576b\"],[0.6666666666666666,\"#ed7953\"],[0.7777777777777778,\"#fb9f3a\"],[0.8888888888888888,\"#fdca26\"],[1.0,\"#f0f921\"]]}],\"heatmapgl\":[{\"type\":\"heatmapgl\",\"colorbar\":{\"outlinewidth\":0,\"ticks\":\"\"},\"colorscale\":[[0.0,\"#0d0887\"],[0.1111111111111111,\"#46039f\"],[0.2222222222222222,\"#7201a8\"],[0.3333333333333333,\"#9c179e\"],[0.4444444444444444,\"#bd3786\"],[0.5555555555555556,\"#d8576b\"],[0.6666666666666666,\"#ed7953\"],[0.7777777777777778,\"#fb9f3a\"],[0.8888888888888888,\"#fdca26\"],[1.0,\"#f0f921\"]]}],\"contourcarpet\":[{\"type\":\"contourcarpet\",\"colorbar\":{\"outlinewidth\":0,\"ticks\":\"\"}}],\"contour\":[{\"type\":\"contour\",\"colorbar\":{\"outlinewidth\":0,\"ticks\":\"\"},\"colorscale\":[[0.0,\"#0d0887\"],[0.1111111111111111,\"#46039f\"],[0.2222222222222222,\"#7201a8\"],[0.3333333333333333,\"#9c179e\"],[0.4444444444444444,\"#bd3786\"],[0.5555555555555556,\"#d8576b\"],[0.6666666666666666,\"#ed7953\"],[0.7777777777777778,\"#fb9f3a\"],[0.8888888888888888,\"#fdca26\"],[1.0,\"#f0f921\"]]}],\"surface\":[{\"type\":\"surface\",\"colorbar\":{\"outlinewidth\":0,\"ticks\":\"\"},\"colorscale\":[[0.0,\"#0d0887\"],[0.1111111111111111,\"#46039f\"],[0.2222222222222222,\"#7201a8\"],[0.3333333333333333,\"#9c179e\"],[0.4444444444444444,\"#bd3786\"],[0.5555555555555556,\"#d8576b\"],[0.6666666666666666,\"#ed7953\"],[0.7777777777777778,\"#fb9f3a\"],[0.8888888888888888,\"#fdca26\"],[1.0,\"#f0f921\"]]}],\"mesh3d\":[{\"type\":\"mesh3d\",\"colorbar\":{\"outlinewidth\":0,\"ticks\":\"\"}}],\"scatter\":[{\"fillpattern\":{\"fillmode\":\"overlay\",\"size\":10,\"solidity\":0.2},\"type\":\"scatter\"}],\"parcoords\":[{\"type\":\"parcoords\",\"line\":{\"colorbar\":{\"outlinewidth\":0,\"ticks\":\"\"}}}],\"scatterpolargl\":[{\"type\":\"scatterpolargl\",\"marker\":{\"colorbar\":{\"outlinewidth\":0,\"ticks\":\"\"}}}],\"bar\":[{\"error_x\":{\"color\":\"#2a3f5f\"},\"error_y\":{\"color\":\"#2a3f5f\"},\"marker\":{\"line\":{\"color\":\"#E5ECF6\",\"width\":0.5},\"pattern\":{\"fillmode\":\"overlay\",\"size\":10,\"solidity\":0.2}},\"type\":\"bar\"}],\"scattergeo\":[{\"type\":\"scattergeo\",\"marker\":{\"colorbar\":{\"outlinewidth\":0,\"ticks\":\"\"}}}],\"scatterpolar\":[{\"type\":\"scatterpolar\",\"marker\":{\"colorbar\":{\"outlinewidth\":0,\"ticks\":\"\"}}}],\"histogram\":[{\"marker\":{\"pattern\":{\"fillmode\":\"overlay\",\"size\":10,\"solidity\":0.2}},\"type\":\"histogram\"}],\"scattergl\":[{\"type\":\"scattergl\",\"marker\":{\"colorbar\":{\"outlinewidth\":0,\"ticks\":\"\"}}}],\"scatter3d\":[{\"type\":\"scatter3d\",\"line\":{\"colorbar\":{\"outlinewidth\":0,\"ticks\":\"\"}},\"marker\":{\"colorbar\":{\"outlinewidth\":0,\"ticks\":\"\"}}}],\"scattermapbox\":[{\"type\":\"scattermapbox\",\"marker\":{\"colorbar\":{\"outlinewidth\":0,\"ticks\":\"\"}}}],\"scatterternary\":[{\"type\":\"scatterternary\",\"marker\":{\"colorbar\":{\"outlinewidth\":0,\"ticks\":\"\"}}}],\"scattercarpet\":[{\"type\":\"scattercarpet\",\"marker\":{\"colorbar\":{\"outlinewidth\":0,\"ticks\":\"\"}}}],\"carpet\":[{\"aaxis\":{\"endlinecolor\":\"#2a3f5f\",\"gridcolor\":\"white\",\"linecolor\":\"white\",\"minorgridcolor\":\"white\",\"startlinecolor\":\"#2a3f5f\"},\"baxis\":{\"endlinecolor\":\"#2a3f5f\",\"gridcolor\":\"white\",\"linecolor\":\"white\",\"minorgridcolor\":\"white\",\"startlinecolor\":\"#2a3f5f\"},\"type\":\"carpet\"}],\"table\":[{\"cells\":{\"fill\":{\"color\":\"#EBF0F8\"},\"line\":{\"color\":\"white\"}},\"header\":{\"fill\":{\"color\":\"#C8D4E3\"},\"line\":{\"color\":\"white\"}},\"type\":\"table\"}],\"barpolar\":[{\"marker\":{\"line\":{\"color\":\"#E5ECF6\",\"width\":0.5},\"pattern\":{\"fillmode\":\"overlay\",\"size\":10,\"solidity\":0.2}},\"type\":\"barpolar\"}],\"pie\":[{\"automargin\":true,\"type\":\"pie\"}]},\"layout\":{\"autotypenumbers\":\"strict\",\"colorway\":[\"#636efa\",\"#EF553B\",\"#00cc96\",\"#ab63fa\",\"#FFA15A\",\"#19d3f3\",\"#FF6692\",\"#B6E880\",\"#FF97FF\",\"#FECB52\"],\"font\":{\"color\":\"#2a3f5f\"},\"hovermode\":\"closest\",\"hoverlabel\":{\"align\":\"left\"},\"paper_bgcolor\":\"white\",\"plot_bgcolor\":\"#E5ECF6\",\"polar\":{\"bgcolor\":\"#E5ECF6\",\"angularaxis\":{\"gridcolor\":\"white\",\"linecolor\":\"white\",\"ticks\":\"\"},\"radialaxis\":{\"gridcolor\":\"white\",\"linecolor\":\"white\",\"ticks\":\"\"}},\"ternary\":{\"bgcolor\":\"#E5ECF6\",\"aaxis\":{\"gridcolor\":\"white\",\"linecolor\":\"white\",\"ticks\":\"\"},\"baxis\":{\"gridcolor\":\"white\",\"linecolor\":\"white\",\"ticks\":\"\"},\"caxis\":{\"gridcolor\":\"white\",\"linecolor\":\"white\",\"ticks\":\"\"}},\"coloraxis\":{\"colorbar\":{\"outlinewidth\":0,\"ticks\":\"\"}},\"colorscale\":{\"sequential\":[[0.0,\"#0d0887\"],[0.1111111111111111,\"#46039f\"],[0.2222222222222222,\"#7201a8\"],[0.3333333333333333,\"#9c179e\"],[0.4444444444444444,\"#bd3786\"],[0.5555555555555556,\"#d8576b\"],[0.6666666666666666,\"#ed7953\"],[0.7777777777777778,\"#fb9f3a\"],[0.8888888888888888,\"#fdca26\"],[1.0,\"#f0f921\"]],\"sequentialminus\":[[0.0,\"#0d0887\"],[0.1111111111111111,\"#46039f\"],[0.2222222222222222,\"#7201a8\"],[0.3333333333333333,\"#9c179e\"],[0.4444444444444444,\"#bd3786\"],[0.5555555555555556,\"#d8576b\"],[0.6666666666666666,\"#ed7953\"],[0.7777777777777778,\"#fb9f3a\"],[0.8888888888888888,\"#fdca26\"],[1.0,\"#f0f921\"]],\"diverging\":[[0,\"#8e0152\"],[0.1,\"#c51b7d\"],[0.2,\"#de77ae\"],[0.3,\"#f1b6da\"],[0.4,\"#fde0ef\"],[0.5,\"#f7f7f7\"],[0.6,\"#e6f5d0\"],[0.7,\"#b8e186\"],[0.8,\"#7fbc41\"],[0.9,\"#4d9221\"],[1,\"#276419\"]]},\"xaxis\":{\"gridcolor\":\"white\",\"linecolor\":\"white\",\"ticks\":\"\",\"title\":{\"standoff\":15},\"zerolinecolor\":\"white\",\"automargin\":true,\"zerolinewidth\":2},\"yaxis\":{\"gridcolor\":\"white\",\"linecolor\":\"white\",\"ticks\":\"\",\"title\":{\"standoff\":15},\"zerolinecolor\":\"white\",\"automargin\":true,\"zerolinewidth\":2},\"scene\":{\"xaxis\":{\"backgroundcolor\":\"#E5ECF6\",\"gridcolor\":\"white\",\"linecolor\":\"white\",\"showbackground\":true,\"ticks\":\"\",\"zerolinecolor\":\"white\",\"gridwidth\":2},\"yaxis\":{\"backgroundcolor\":\"#E5ECF6\",\"gridcolor\":\"white\",\"linecolor\":\"white\",\"showbackground\":true,\"ticks\":\"\",\"zerolinecolor\":\"white\",\"gridwidth\":2},\"zaxis\":{\"backgroundcolor\":\"#E5ECF6\",\"gridcolor\":\"white\",\"linecolor\":\"white\",\"showbackground\":true,\"ticks\":\"\",\"zerolinecolor\":\"white\",\"gridwidth\":2}},\"shapedefaults\":{\"line\":{\"color\":\"#2a3f5f\"}},\"annotationdefaults\":{\"arrowcolor\":\"#2a3f5f\",\"arrowhead\":0,\"arrowwidth\":1},\"geo\":{\"bgcolor\":\"white\",\"landcolor\":\"#E5ECF6\",\"subunitcolor\":\"white\",\"showland\":true,\"showlakes\":true,\"lakecolor\":\"white\"},\"title\":{\"x\":0.05},\"mapbox\":{\"style\":\"light\"}}},\"xaxis\":{\"title\":{\"text\":\"Support\"},\"autorange\":\"reversed\"},\"title\":{\"text\":\"Association Rules Strength Distribution\"},\"yaxis\":{\"title\":{\"text\":\"Confidence\"}}},                        {\"responsive\": true}                    ).then(function(){\n",
       "                            \n",
       "var gd = document.getElementById('0a3c61b5-cdc8-40b5-9a6c-909241284198');\n",
       "var x = new MutationObserver(function (mutations, observer) {{\n",
       "        var display = window.getComputedStyle(gd).display;\n",
       "        if (!display || display === 'none') {{\n",
       "            console.log([gd, 'removed!']);\n",
       "            Plotly.purge(gd);\n",
       "            observer.disconnect();\n",
       "        }}\n",
       "}});\n",
       "\n",
       "// Listen for the removal of the full notebook cells\n",
       "var notebookContainer = gd.closest('#notebook-container');\n",
       "if (notebookContainer) {{\n",
       "    x.observe(notebookContainer, {childList: true});\n",
       "}}\n",
       "\n",
       "// Listen for the clearing of the current output cell\n",
       "var outputEl = gd.closest('.output');\n",
       "if (outputEl) {{\n",
       "    x.observe(outputEl, {childList: true});\n",
       "}}\n",
       "\n",
       "                        })                };                });            </script>        </div>"
      ]
     },
     "metadata": {},
     "output_type": "display_data",
     "jetTransient": {
      "display_id": null
     }
    },
    {
     "data": {
      "application/vnd.plotly.v1+json": {
       "data": [
        {
         "hoverinfo": "none",
         "line": {
          "color": "#888",
          "width": 0.5
         },
         "mode": "lines",
         "x": [
          0.6104865668965419,
          -0.007735847529257562,
          null,
          0.32014488123458096,
          0.6104865668965419,
          null,
          0.32014488123458096,
          0.7079081582653527,
          null,
          0.32014488123458096,
          0.6392461872935489,
          null,
          0.32014488123458096,
          0.0755724223531609,
          null,
          0.32014488123458096,
          0.1032022287437986,
          null,
          0.32014488123458096,
          -0.7111590400471549,
          null,
          0.32014488123458096,
          0.831753565210634,
          null,
          0.32014488123458096,
          0.573610085914323,
          null,
          0.32014488123458096,
          0.39164356654591126,
          null,
          0.32014488123458096,
          0.5935155211934396,
          null,
          -0.007735847529257562,
          0.6392461872935489,
          null,
          -0.007735847529257562,
          -0.08591440695155304,
          null,
          -0.007735847529257562,
          -0.26499204565631235,
          null,
          -0.007735847529257562,
          1.0,
          null,
          -0.007735847529257562,
          0.19836753757031583,
          null,
          -0.007735847529257562,
          0.21382664628828565,
          null,
          -0.007735847529257562,
          -0.4756262665722607,
          null,
          -0.007735847529257562,
          -0.8237010718560178,
          null,
          -0.007735847529257562,
          -0.8596175730254467,
          null,
          -0.007735847529257562,
          -0.7017131353867465,
          null,
          -0.007735847529257562,
          0.1885334642783506,
          null,
          -0.007735847529257562,
          0.47897490722081343,
          null,
          -0.007735847529257562,
          -0.3674194505614277,
          null,
          -0.007735847529257562,
          -0.6745559286786605,
          null,
          -0.007735847529257562,
          0.05765456305532398,
          null,
          -0.007735847529257562,
          -0.031124490819180735,
          null,
          -0.007735847529257562,
          -0.5195487328266136,
          null,
          -0.007735847529257562,
          -0.6601772179218354,
          null,
          -0.007735847529257562,
          0.069548385201648,
          null,
          -0.007735847529257562,
          0.024061203968688164,
          null,
          -0.007735847529257562,
          -0.13195451035810693,
          null,
          -0.007735847529257562,
          0.3729404069365287,
          null,
          -0.007735847529257562,
          -0.6418406244848937,
          null,
          -0.007735847529257562,
          -0.4873608630446449,
          null,
          -0.007735847529257562,
          0.8628518989990979,
          null,
          -0.007735847529257562,
          0.46964451562324716,
          null,
          -0.007735847529257562,
          0.728358335797966,
          null,
          0.7079081582653527,
          -0.007735847529257562,
          null,
          0.024046215931090367,
          0.7079081582653527,
          null,
          0.024046215931090367,
          -0.7111590400471549,
          null,
          0.024046215931090367,
          0.39164356654591126,
          null,
          0.024046215931090367,
          -0.2967742866708958,
          null,
          0.024046215931090367,
          0.502002719776223,
          null,
          0.024046215931090367,
          1.0,
          null,
          0.024046215931090367,
          0.21382664628828565,
          null,
          0.024046215931090367,
          -0.33337214342791904,
          null,
          0.024046215931090367,
          -0.6598474337609156,
          null,
          0.024046215931090367,
          -0.8538838821162985,
          null,
          0.024046215931090367,
          -0.17894407667381076,
          null,
          0.024046215931090367,
          0.6365891645565944,
          null,
          0.024046215931090367,
          0.15969527452386778,
          null,
          0.024046215931090367,
          -0.8307876569553826,
          null,
          0.024046215931090367,
          -0.24957216628009288,
          null,
          0.024046215931090367,
          -0.4133293030503874,
          null,
          0.024046215931090367,
          -0.6418406244848937,
          null,
          0.024046215931090367,
          -0.4873608630446449,
          null,
          0.024046215931090367,
          0.46964451562324716,
          null,
          0.024046215931090367,
          0.35200433251309216,
          null,
          0.024046215931090367,
          0.4980485349343194,
          null,
          0.6392461872935489,
          0.024046215931090367,
          null,
          0.0755724223531609,
          -0.08184605896850079,
          null,
          -0.08184605896850079,
          0.1032022287437986,
          null,
          -0.08184605896850079,
          -0.8596175730254467,
          null,
          -0.08184605896850079,
          -0.4523896972738557,
          null,
          -0.08184605896850079,
          0.1885334642783506,
          null,
          -0.08184605896850079,
          -0.9224675230914722,
          null,
          -0.08184605896850079,
          -0.49160191244360474,
          null,
          -0.08184605896850079,
          -0.8538838821162985,
          null,
          -0.08184605896850079,
          0.33326116221238083,
          null,
          -0.08184605896850079,
          -0.9700443822282607,
          null,
          -0.08184605896850079,
          0.8406333084424334,
          null,
          -0.08184605896850079,
          -0.9691694740638839,
          null,
          -0.08184605896850079,
          0.5808985654008116,
          null,
          -0.08184605896850079,
          -0.3674194505614277,
          null,
          -0.08184605896850079,
          0.05765456305532398,
          null,
          -0.08184605896850079,
          -0.49216186052612665,
          null,
          -0.08184605896850079,
          -0.031124490819180735,
          null,
          -0.08184605896850079,
          0.6458755378304271,
          null,
          -0.08184605896850079,
          0.15969527452386778,
          null,
          -0.08184605896850079,
          -0.5917376569473755,
          null,
          -0.08184605896850079,
          0.27180609059169886,
          null,
          -0.08184605896850079,
          -0.7174956799280746,
          null,
          -0.08184605896850079,
          0.4112025978181369,
          null,
          -0.08184605896850079,
          0.024061203968688164,
          null,
          -0.08184605896850079,
          -0.4133293030503874,
          null,
          -0.08184605896850079,
          0.3729404069365287,
          null,
          -0.08184605896850079,
          -0.4873608630446449,
          null,
          -0.08184605896850079,
          0.8057768162174864,
          null,
          -0.08184605896850079,
          0.39706469557975016,
          null,
          -0.08184605896850079,
          0.5807212410066799,
          null,
          -0.08184605896850079,
          0.35200433251309216,
          null,
          0.1032022287437986,
          0.024046215931090367,
          null,
          -0.7111590400471549,
          -0.08184605896850079,
          null,
          0.831753565210634,
          -0.006453108687066113,
          null,
          -0.006453108687066113,
          0.573610085914323,
          null,
          -0.006453108687066113,
          0.502002719776223,
          null,
          -0.006453108687066113,
          1.0,
          null,
          -0.006453108687066113,
          0.19836753757031583,
          null,
          -0.006453108687066113,
          0.7355848077735596,
          null,
          -0.006453108687066113,
          0.7367699769888194,
          null,
          -0.006453108687066113,
          -0.8596175730254467,
          null,
          -0.006453108687066113,
          -0.4523896972738557,
          null,
          -0.006453108687066113,
          -0.7017131353867465,
          null,
          -0.006453108687066113,
          -0.23619681820410957,
          null,
          -0.006453108687066113,
          -0.1609877086410419,
          null,
          -0.006453108687066113,
          -0.9700443822282607,
          null,
          -0.006453108687066113,
          -0.7837189687996712,
          null,
          -0.006453108687066113,
          0.5808985654008116,
          null,
          -0.006453108687066113,
          -0.3674194505614277,
          null,
          -0.006453108687066113,
          -0.6745559286786605,
          null,
          -0.006453108687066113,
          0.7204349063521324,
          null,
          -0.006453108687066113,
          -0.6096053622288538,
          null,
          -0.006453108687066113,
          -0.5917376569473755,
          null,
          -0.006453108687066113,
          0.4112025978181369,
          null,
          -0.006453108687066113,
          0.069548385201648,
          null,
          -0.006453108687066113,
          -0.4133293030503874,
          null,
          -0.006453108687066113,
          0.3729404069365287,
          null,
          -0.006453108687066113,
          -0.6418406244848937,
          null,
          -0.006453108687066113,
          0.8628518989990979,
          null,
          -0.006453108687066113,
          0.5807212410066799,
          null,
          -0.006453108687066113,
          -0.3314052132920918,
          null,
          0.573610085914323,
          0.024046215931090367,
          null,
          0.39164356654591126,
          -0.006453108687066113,
          null,
          0.5935155211934396,
          0.024046215931090367,
          null,
          -0.12342399425145735,
          -0.007735847529257562,
          null,
          0.19652878609519595,
          -0.12342399425145735,
          null,
          0.19652878609519595,
          -0.2967742866708958,
          null,
          0.19652878609519595,
          -0.08591440695155304,
          null,
          0.19652878609519595,
          -0.26499204565631235,
          null,
          0.19652878609519595,
          0.502002719776223,
          null,
          0.19652878609519595,
          0.19836753757031583,
          null,
          0.19652878609519595,
          0.21382664628828565,
          null,
          0.19652878609519595,
          0.9317809452398874,
          null,
          0.19652878609519595,
          0.7355848077735596,
          null,
          0.19652878609519595,
          -0.33337214342791904,
          null,
          0.19652878609519595,
          0.31929189211017056,
          null,
          -0.2967742866708958,
          -0.007735847529257562,
          null,
          -0.08591440695155304,
          0.024046215931090367,
          null,
          -0.26499204565631235,
          -0.006453108687066113,
          null,
          0.502002719776223,
          -0.007735847529257562,
          null,
          1.0,
          0.19652878609519595,
          null,
          0.19836753757031583,
          0.024046215931090367,
          null,
          0.21382664628828565,
          -0.006453108687066113,
          null,
          0.9317809452398874,
          0.024046215931090367,
          null,
          0.7355848077735596,
          0.024046215931090367,
          null,
          -0.33337214342791904,
          -0.006453108687066113,
          null,
          0.31929189211017056,
          -0.006453108687066113,
          null,
          0.7367699769888194,
          -0.007735847529257562,
          null,
          -0.1240635900380212,
          0.7367699769888194,
          null,
          -0.1240635900380212,
          -0.4756262665722607,
          null,
          -0.1240635900380212,
          -0.8237010718560178,
          null,
          -0.1240635900380212,
          -0.4523896972738557,
          null,
          -0.1240635900380212,
          -0.7017131353867465,
          null,
          -0.1240635900380212,
          0.1885334642783506,
          null,
          -0.1240635900380212,
          -0.295606301134811,
          null,
          -0.1240635900380212,
          -0.8573728805211852,
          null,
          -0.1240635900380212,
          -0.49160191244360474,
          null,
          -0.1240635900380212,
          -0.011821590461632881,
          null,
          -0.1240635900380212,
          -0.6598474337609156,
          null,
          -0.1240635900380212,
          -0.0593077016772453,
          null,
          -0.1240635900380212,
          -0.17894407667381076,
          null,
          -0.1240635900380212,
          0.33326116221238083,
          null,
          -0.1240635900380212,
          0.464844809852695,
          null,
          -0.1240635900380212,
          -0.23619681820410957,
          null,
          -0.1240635900380212,
          0.6365891645565944,
          null,
          -0.1240635900380212,
          -0.1609877086410419,
          null,
          -0.1240635900380212,
          0.07974000086177345,
          null,
          -0.1240635900380212,
          -0.7837189687996712,
          null,
          -0.1240635900380212,
          0.8406333084424334,
          null,
          -0.1240635900380212,
          -0.7004053992818762,
          null,
          -0.4756262665722607,
          -0.006453108687066113,
          null,
          -0.8237010718560178,
          -0.08184605896850079,
          null,
          -0.8596175730254467,
          -0.1240635900380212,
          null,
          -0.4523896972738557,
          -0.007735847529257562,
          null,
          -0.7017131353867465,
          -0.08184605896850079,
          null,
          0.1885334642783506,
          -0.006453108687066113,
          null,
          -0.295606301134811,
          -0.06434827289795328,
          null,
          -0.06434827289795328,
          -0.9224675230914722,
          null,
          -0.06434827289795328,
          -0.8573728805211852,
          null,
          -0.06434827289795328,
          -0.0593077016772453,
          null,
          -0.06434827289795328,
          0.07974000086177345,
          null,
          -0.06434827289795328,
          0.47897490722081343,
          null,
          -0.06434827289795328,
          0.5808985654008116,
          null,
          -0.06434827289795328,
          -0.6745559286786605,
          null,
          -0.06434827289795328,
          0.05765456305532398,
          null,
          -0.06434827289795328,
          -0.49216186052612665,
          null,
          -0.06434827289795328,
          -0.5195487328266136,
          null,
          -0.06434827289795328,
          0.8035272405264935,
          null,
          -0.06434827289795328,
          0.6458755378304271,
          null,
          -0.06434827289795328,
          -0.8307876569553826,
          null,
          -0.06434827289795328,
          0.2249900198256324,
          null,
          -0.06434827289795328,
          0.7204349063521324,
          null,
          -0.06434827289795328,
          -0.24957216628009288,
          null,
          -0.06434827289795328,
          -0.6096053622288538,
          null,
          -0.06434827289795328,
          0.27180609059169886,
          null,
          -0.06434827289795328,
          -0.45038138130893135,
          null,
          -0.9224675230914722,
          -0.1240635900380212,
          null,
          -0.8573728805211852,
          -0.08184605896850079,
          null,
          -0.49160191244360474,
          -0.06434827289795328,
          null,
          -0.011821590461632881,
          0.024046215931090367,
          null,
          -0.6598474337609156,
          -0.06434827289795328,
          null,
          -0.0593077016772453,
          0.024046215931090367,
          null,
          -0.8538838821162985,
          -0.1240635900380212,
          null,
          -0.17894407667381076,
          -0.08184605896850079,
          null,
          0.33326116221238083,
          0.024046215931090367,
          null,
          0.464844809852695,
          -0.006453108687066113,
          null,
          -0.23619681820410957,
          0.024046215931090367,
          null,
          0.6365891645565944,
          -0.006453108687066113,
          null,
          -0.1609877086410419,
          -0.06434827289795328,
          null,
          0.07974000086177345,
          -0.006453108687066113,
          null,
          -0.9700443822282607,
          -0.1240635900380212,
          null,
          -0.7837189687996712,
          -0.08184605896850079,
          null,
          0.8406333084424334,
          -0.006453108687066113,
          null,
          -0.9691694740638839,
          -0.1240635900380212,
          null,
          -0.7004053992818762,
          -0.08184605896850079,
          null,
          0.47897490722081343,
          -0.006453108687066113,
          null,
          0.5808985654008116,
          -0.007735847529257562,
          null,
          -0.3674194505614277,
          -0.06434827289795328,
          null,
          -0.6745559286786605,
          -0.08184605896850079,
          null,
          0.05765456305532398,
          -0.006453108687066113,
          null,
          -0.49216186052612665,
          -0.007735847529257562,
          null,
          -0.031124490819180735,
          -0.06434827289795328,
          null,
          -0.5195487328266136,
          -0.08184605896850079,
          null,
          0.8035272405264935,
          0.024046215931090367,
          null,
          0.6458755378304271,
          0.024046215931090367,
          null,
          0.15969527452386778,
          -0.06434827289795328,
          null,
          -0.8307876569553826,
          -0.08184605896850079,
          null,
          0.2249900198256324,
          -0.006453108687066113,
          null,
          0.7204349063521324,
          0.024046215931090367,
          null,
          -0.24957216628009288,
          -0.006453108687066113,
          null,
          -0.6096053622288538,
          -0.08184605896850079,
          null,
          -0.5917376569473755,
          -0.06434827289795328,
          null,
          0.27180609059169886,
          -0.006453108687066113,
          null,
          -0.45038138130893135,
          -0.08184605896850079,
          null,
          -0.7174956799280746,
          -0.06434827289795328,
          null,
          -0.6601772179218354,
          -0.08184605896850079,
          null,
          0.4112025978181369,
          -0.007735847529257562,
          null,
          0.069548385201648,
          -0.08184605896850079,
          null,
          0.024061203968688164,
          -0.006453108687066113,
          null,
          -0.13195451035810693,
          0.024046215931090367,
          null,
          -0.4133293030503874,
          -0.007735847529257562,
          null,
          0.3729404069365287,
          0.024046215931090367,
          null,
          -0.6418406244848937,
          -0.08184605896850079,
          null,
          -0.4873608630446449,
          -0.006453108687066113,
          null,
          0.8628518989990979,
          0.024046215931090367,
          null,
          0.46964451562324716,
          -0.006453108687066113,
          null,
          0.728358335797966,
          -0.006453108687066113,
          null,
          0.8057768162174864,
          0.024046215931090367,
          null,
          0.39706469557975016,
          -0.006453108687066113,
          null,
          0.5807212410066799,
          0.024046215931090367,
          null,
          0.35200433251309216,
          -0.006453108687066113,
          null,
          -0.3314052132920918,
          0.024046215931090367,
          null,
          0.4980485349343194,
          -0.006453108687066113,
          null
         ],
         "y": [
          0.02060208157384822,
          0.04552355661751919,
          null,
          0.12531681289885918,
          0.02060208157384822,
          null,
          0.12531681289885918,
          0.1908346597381259,
          null,
          0.12531681289885918,
          -0.5969852677462606,
          null,
          0.12531681289885918,
          0.3927688519325817,
          null,
          0.12531681289885918,
          0.8102443195434567,
          null,
          0.12531681289885918,
          0.3532273199983039,
          null,
          0.12531681289885918,
          0.08575622309019115,
          null,
          0.12531681289885918,
          0.19124399134896097,
          null,
          0.12531681289885918,
          0.38117531421431583,
          null,
          0.12531681289885918,
          -0.4187326648009878,
          null,
          0.04552355661751919,
          -0.5969852677462606,
          null,
          0.04552355661751919,
          0.6960946125443547,
          null,
          0.04552355661751919,
          -0.38986508299894346,
          null,
          0.04552355661751919,
          0.4817990159566635,
          null,
          0.04552355661751919,
          0.8914372021390844,
          null,
          0.04552355661751919,
          -0.4405939207956698,
          null,
          0.04552355661751919,
          0.5424695275112436,
          null,
          0.04552355661751919,
          0.13821703644667466,
          null,
          0.04552355661751919,
          -0.4112785236751556,
          null,
          0.04552355661751919,
          0.2083402313798883,
          null,
          0.04552355661751919,
          0.6730376488303779,
          null,
          0.04552355661751919,
          0.5803556152286117,
          null,
          0.04552355661751919,
          -0.7650778890692067,
          null,
          0.04552355661751919,
          0.013920996623943645,
          null,
          0.04552355661751919,
          0.5835381063651679,
          null,
          0.04552355661751919,
          -0.917611136639237,
          null,
          0.04552355661751919,
          -0.427646782778844,
          null,
          0.04552355661751919,
          -0.5998466386882986,
          null,
          0.04552355661751919,
          -0.7932278704421947,
          null,
          0.04552355661751919,
          -0.4330693077502693,
          null,
          0.04552355661751919,
          0.5069856613504305,
          null,
          0.04552355661751919,
          0.6833628407772404,
          null,
          0.04552355661751919,
          -0.18783420326395464,
          null,
          0.04552355661751919,
          0.3487925801263461,
          null,
          0.04552355661751919,
          -0.22183713844348438,
          null,
          0.04552355661751919,
          0.7555777394976962,
          null,
          0.04552355661751919,
          0.47998732831002866,
          null,
          0.1908346597381259,
          0.04552355661751919,
          null,
          0.02846084467835585,
          0.1908346597381259,
          null,
          0.02846084467835585,
          0.3532273199983039,
          null,
          0.02846084467835585,
          0.38117531421431583,
          null,
          0.02846084467835585,
          0.8467002083731299,
          null,
          0.02846084467835585,
          -0.09798092326661349,
          null,
          0.02846084467835585,
          0.4817990159566635,
          null,
          0.02846084467835585,
          -0.4405939207956698,
          null,
          0.02846084467835585,
          0.4165195191416935,
          null,
          0.02846084467835585,
          -0.3912123109581548,
          null,
          0.02846084467835585,
          0.46007612246718943,
          null,
          0.02846084467835585,
          -0.7229502747663017,
          null,
          0.02846084467835585,
          0.6371547064329786,
          null,
          0.02846084467835585,
          -0.914058822409226,
          null,
          0.02846084467835585,
          -0.03265317977075769,
          null,
          0.02846084467835585,
          -0.5428468822954011,
          null,
          0.02846084467835585,
          -0.18142436830834482,
          null,
          0.02846084467835585,
          -0.18783420326395464,
          null,
          0.02846084467835585,
          0.3487925801263461,
          null,
          0.02846084467835585,
          0.7555777394976962,
          null,
          0.02846084467835585,
          -0.5839207092998213,
          null,
          0.02846084467835585,
          -0.5661441217108641,
          null,
          -0.5969852677462606,
          0.02846084467835585,
          null,
          0.3927688519325817,
          -0.01206092734226403,
          null,
          -0.01206092734226403,
          0.8102443195434567,
          null,
          -0.01206092734226403,
          -0.4112785236751556,
          null,
          -0.01206092734226403,
          0.7531398480405189,
          null,
          -0.01206092734226403,
          0.6730376488303779,
          null,
          -0.01206092734226403,
          0.2960464380869163,
          null,
          -0.01206092734226403,
          -0.8164773123512006,
          null,
          -0.01206092734226403,
          0.46007612246718943,
          null,
          -0.01206092734226403,
          0.8366732621147684,
          null,
          -0.01206092734226403,
          0.09911212046669816,
          null,
          -0.01206092734226403,
          0.22874363863570685,
          null,
          -0.01206092734226403,
          -0.10604690416622906,
          null,
          -0.01206092734226403,
          0.5207185313146759,
          null,
          -0.01206092734226403,
          -0.7650778890692067,
          null,
          -0.01206092734226403,
          0.5835381063651679,
          null,
          -0.01206092734226403,
          0.1739395873060903,
          null,
          -0.01206092734226403,
          -0.917611136639237,
          null,
          -0.01206092734226403,
          -0.28097211258656823,
          null,
          -0.01206092734226403,
          -0.914058822409226,
          null,
          -0.01206092734226403,
          -0.7219954062236088,
          null,
          -0.01206092734226403,
          0.5153330370280007,
          null,
          -0.01206092734226403,
          -0.5221481720708693,
          null,
          -0.01206092734226403,
          -0.2402124795766836,
          null,
          -0.01206092734226403,
          -0.4330693077502693,
          null,
          -0.01206092734226403,
          -0.18142436830834482,
          null,
          -0.01206092734226403,
          0.6833628407772404,
          null,
          -0.01206092734226403,
          0.3487925801263461,
          null,
          -0.01206092734226403,
          -0.03884481866604147,
          null,
          -0.01206092734226403,
          -0.40830189811889905,
          null,
          -0.01206092734226403,
          0.3678527639021662,
          null,
          -0.01206092734226403,
          -0.5839207092998213,
          null,
          0.8102443195434567,
          0.02846084467835585,
          null,
          0.3532273199983039,
          -0.01206092734226403,
          null,
          0.08575622309019115,
          0.016099759028550924,
          null,
          0.016099759028550924,
          0.19124399134896097,
          null,
          0.016099759028550924,
          -0.09798092326661349,
          null,
          0.016099759028550924,
          0.4817990159566635,
          null,
          0.016099759028550924,
          0.8914372021390844,
          null,
          0.016099759028550924,
          -0.4758008187086457,
          null,
          0.016099759028550924,
          0.35901538792648147,
          null,
          0.016099759028550924,
          -0.4112785236751556,
          null,
          0.016099759028550924,
          0.7531398480405189,
          null,
          0.016099759028550924,
          0.2083402313798883,
          null,
          0.016099759028550924,
          0.7232012906978623,
          null,
          0.016099759028550924,
          -0.9084976252742167,
          null,
          0.016099759028550924,
          0.09911212046669816,
          null,
          0.016099759028550924,
          -0.180043957080988,
          null,
          0.016099759028550924,
          0.5207185313146759,
          null,
          0.016099759028550924,
          -0.7650778890692067,
          null,
          0.016099759028550924,
          0.013920996623943645,
          null,
          0.016099759028550924,
          -0.15614180994925633,
          null,
          0.016099759028550924,
          0.6103178674471752,
          null,
          0.016099759028550924,
          -0.7219954062236088,
          null,
          0.016099759028550924,
          -0.2402124795766836,
          null,
          0.016099759028550924,
          -0.7932278704421947,
          null,
          0.016099759028550924,
          -0.18142436830834482,
          null,
          0.016099759028550924,
          0.6833628407772404,
          null,
          0.016099759028550924,
          -0.18783420326395464,
          null,
          0.016099759028550924,
          -0.22183713844348438,
          null,
          0.016099759028550924,
          0.3678527639021662,
          null,
          0.016099759028550924,
          0.6148962554036044,
          null,
          0.19124399134896097,
          0.02846084467835585,
          null,
          0.38117531421431583,
          0.016099759028550924,
          null,
          -0.4187326648009878,
          0.02846084467835585,
          null,
          0.9005027780645067,
          0.04552355661751919,
          null,
          0.14429629365570598,
          0.9005027780645067,
          null,
          0.14429629365570598,
          0.8467002083731299,
          null,
          0.14429629365570598,
          0.6960946125443547,
          null,
          0.14429629365570598,
          -0.38986508299894346,
          null,
          0.14429629365570598,
          -0.09798092326661349,
          null,
          0.14429629365570598,
          0.8914372021390844,
          null,
          0.14429629365570598,
          -0.4405939207956698,
          null,
          0.14429629365570598,
          -0.06183004435557844,
          null,
          0.14429629365570598,
          -0.4758008187086457,
          null,
          0.14429629365570598,
          0.4165195191416935,
          null,
          0.14429629365570598,
          -0.7719681240602855,
          null,
          0.8467002083731299,
          0.04552355661751919,
          null,
          0.6960946125443547,
          0.02846084467835585,
          null,
          -0.38986508299894346,
          0.016099759028550924,
          null,
          -0.09798092326661349,
          0.04552355661751919,
          null,
          0.4817990159566635,
          0.14429629365570598,
          null,
          0.8914372021390844,
          0.02846084467835585,
          null,
          -0.4405939207956698,
          0.016099759028550924,
          null,
          -0.06183004435557844,
          0.02846084467835585,
          null,
          -0.4758008187086457,
          0.02846084467835585,
          null,
          0.4165195191416935,
          0.016099759028550924,
          null,
          -0.7719681240602855,
          0.016099759028550924,
          null,
          0.35901538792648147,
          0.04552355661751919,
          null,
          0.014810653102938578,
          0.35901538792648147,
          null,
          0.014810653102938578,
          0.5424695275112436,
          null,
          0.014810653102938578,
          0.13821703644667466,
          null,
          0.014810653102938578,
          0.7531398480405189,
          null,
          0.014810653102938578,
          0.2083402313798883,
          null,
          0.014810653102938578,
          0.6730376488303779,
          null,
          0.014810653102938578,
          -0.8900006474804696,
          null,
          0.014810653102938578,
          -0.28242118612601874,
          null,
          0.014810653102938578,
          -0.8164773123512006,
          null,
          0.014810653102938578,
          0.8419834029232618,
          null,
          0.014810653102938578,
          -0.3912123109581548,
          null,
          0.014810653102938578,
          -0.5590010954187707,
          null,
          0.014810653102938578,
          -0.7229502747663017,
          null,
          0.014810653102938578,
          0.8366732621147684,
          null,
          0.014810653102938578,
          -0.7163339227206142,
          null,
          0.014810653102938578,
          0.7232012906978623,
          null,
          0.014810653102938578,
          0.6371547064329786,
          null,
          0.014810653102938578,
          -0.9084976252742167,
          null,
          0.014810653102938578,
          -0.638769419626111,
          null,
          0.014810653102938578,
          -0.180043957080988,
          null,
          0.014810653102938578,
          0.22874363863570685,
          null,
          0.014810653102938578,
          0.5032648175527219,
          null,
          0.5424695275112436,
          0.016099759028550924,
          null,
          0.13821703644667466,
          -0.01206092734226403,
          null,
          -0.4112785236751556,
          0.014810653102938578,
          null,
          0.7531398480405189,
          0.04552355661751919,
          null,
          0.2083402313798883,
          -0.01206092734226403,
          null,
          0.6730376488303779,
          0.016099759028550924,
          null,
          -0.8900006474804696,
          -0.06444422852132148,
          null,
          -0.06444422852132148,
          0.2960464380869163,
          null,
          -0.06444422852132148,
          -0.28242118612601874,
          null,
          -0.06444422852132148,
          -0.5590010954187707,
          null,
          -0.06444422852132148,
          -0.638769419626111,
          null,
          -0.06444422852132148,
          0.5803556152286117,
          null,
          -0.06444422852132148,
          0.5207185313146759,
          null,
          -0.06444422852132148,
          0.013920996623943645,
          null,
          -0.06444422852132148,
          0.5835381063651679,
          null,
          -0.06444422852132148,
          0.1739395873060903,
          null,
          -0.06444422852132148,
          -0.427646782778844,
          null,
          -0.06444422852132148,
          -0.3514267967033002,
          null,
          -0.06444422852132148,
          -0.28097211258656823,
          null,
          -0.06444422852132148,
          -0.03265317977075769,
          null,
          -0.06444422852132148,
          -0.6623743068489396,
          null,
          -0.06444422852132148,
          -0.15614180994925633,
          null,
          -0.06444422852132148,
          -0.5428468822954011,
          null,
          -0.06444422852132148,
          0.6103178674471752,
          null,
          -0.06444422852132148,
          0.5153330370280007,
          null,
          -0.06444422852132148,
          -0.5865563739808214,
          null,
          0.2960464380869163,
          0.014810653102938578,
          null,
          -0.28242118612601874,
          -0.01206092734226403,
          null,
          -0.8164773123512006,
          -0.06444422852132148,
          null,
          0.8419834029232618,
          0.02846084467835585,
          null,
          -0.3912123109581548,
          -0.06444422852132148,
          null,
          -0.5590010954187707,
          0.02846084467835585,
          null,
          0.46007612246718943,
          0.014810653102938578,
          null,
          -0.7229502747663017,
          -0.01206092734226403,
          null,
          0.8366732621147684,
          0.02846084467835585,
          null,
          -0.7163339227206142,
          0.016099759028550924,
          null,
          0.7232012906978623,
          0.02846084467835585,
          null,
          0.6371547064329786,
          0.016099759028550924,
          null,
          -0.9084976252742167,
          -0.06444422852132148,
          null,
          -0.638769419626111,
          0.016099759028550924,
          null,
          0.09911212046669816,
          0.014810653102938578,
          null,
          -0.180043957080988,
          -0.01206092734226403,
          null,
          0.22874363863570685,
          0.016099759028550924,
          null,
          -0.10604690416622906,
          0.014810653102938578,
          null,
          0.5032648175527219,
          -0.01206092734226403,
          null,
          0.5803556152286117,
          0.016099759028550924,
          null,
          0.5207185313146759,
          0.04552355661751919,
          null,
          -0.7650778890692067,
          -0.06444422852132148,
          null,
          0.013920996623943645,
          -0.01206092734226403,
          null,
          0.5835381063651679,
          0.016099759028550924,
          null,
          0.1739395873060903,
          0.04552355661751919,
          null,
          -0.917611136639237,
          -0.06444422852132148,
          null,
          -0.427646782778844,
          -0.01206092734226403,
          null,
          -0.3514267967033002,
          0.02846084467835585,
          null,
          -0.28097211258656823,
          0.02846084467835585,
          null,
          -0.914058822409226,
          -0.06444422852132148,
          null,
          -0.03265317977075769,
          -0.01206092734226403,
          null,
          -0.6623743068489396,
          0.016099759028550924,
          null,
          -0.15614180994925633,
          0.02846084467835585,
          null,
          -0.5428468822954011,
          0.016099759028550924,
          null,
          0.6103178674471752,
          -0.01206092734226403,
          null,
          -0.7219954062236088,
          -0.06444422852132148,
          null,
          0.5153330370280007,
          0.016099759028550924,
          null,
          -0.5865563739808214,
          -0.01206092734226403,
          null,
          -0.5221481720708693,
          -0.06444422852132148,
          null,
          -0.5998466386882986,
          -0.01206092734226403,
          null,
          -0.2402124795766836,
          0.04552355661751919,
          null,
          -0.7932278704421947,
          -0.01206092734226403,
          null,
          -0.4330693077502693,
          0.016099759028550924,
          null,
          0.5069856613504305,
          0.02846084467835585,
          null,
          -0.18142436830834482,
          0.04552355661751919,
          null,
          0.6833628407772404,
          0.02846084467835585,
          null,
          -0.18783420326395464,
          -0.01206092734226403,
          null,
          0.3487925801263461,
          0.016099759028550924,
          null,
          -0.22183713844348438,
          0.02846084467835585,
          null,
          0.7555777394976962,
          0.016099759028550924,
          null,
          0.47998732831002866,
          0.016099759028550924,
          null,
          -0.03884481866604147,
          0.02846084467835585,
          null,
          -0.40830189811889905,
          0.016099759028550924,
          null,
          0.3678527639021662,
          0.02846084467835585,
          null,
          -0.5839207092998213,
          0.016099759028550924,
          null,
          0.6148962554036044,
          0.02846084467835585,
          null,
          -0.5661441217108641,
          0.016099759028550924,
          null
         ],
         "type": "scatter"
        },
        {
         "hoverinfo": "text",
         "marker": {
          "color": [],
          "colorbar": {
           "thickness": 15,
           "title": {
            "side": "right",
            "text": "Node Connections"
           },
           "xanchor": "left"
          },
          "colorscale": [
           [
            0.0,
            "rgb(255,255,217)"
           ],
           [
            0.125,
            "rgb(237,248,177)"
           ],
           [
            0.25,
            "rgb(199,233,180)"
           ],
           [
            0.375,
            "rgb(127,205,187)"
           ],
           [
            0.5,
            "rgb(65,182,196)"
           ],
           [
            0.625,
            "rgb(29,145,192)"
           ],
           [
            0.75,
            "rgb(34,94,168)"
           ],
           [
            0.875,
            "rgb(37,52,148)"
           ],
           [
            1.0,
            "rgb(8,29,88)"
           ]
          ],
          "line": {
           "width": 2
          },
          "reversescale": true,
          "showscale": true,
          "size": 10
         },
         "mode": "markers",
         "text": [
          "0",
          "Шапка",
          "Сумка",
          "1",
          "Джинсы",
          "2",
          "3",
          "Куртка",
          "4",
          "5",
          "6",
          "Футболка",
          "7",
          "8",
          "9",
          "10",
          "Брюки",
          "11",
          "12",
          "13",
          "14",
          "15",
          "16",
          "17",
          "18",
          "19",
          "20",
          "21",
          "22",
          "Кроссовки",
          "23",
          "24",
          "25",
          "26",
          "27",
          "28",
          "29",
          "Рубашка",
          "30",
          "31",
          "32",
          "33",
          "34",
          "35",
          "36",
          "37",
          "38",
          "39",
          "40",
          "41",
          "42",
          "43",
          "44",
          "45",
          "46",
          "47",
          "48",
          "49",
          "50",
          "51",
          "52",
          "53",
          "54",
          "55",
          "56",
          "57",
          "58",
          "59",
          "60",
          "61",
          "62",
          "63",
          "64",
          "65",
          "66",
          "67",
          "68",
          "69",
          "70",
          "71",
          "72",
          "73",
          "74",
          "75",
          "76",
          "77",
          "78",
          "79",
          "80",
          "81",
          "82",
          "83",
          "84",
          "85",
          "86"
         ],
         "x": [
          0.6104865668965419,
          0.32014488123458096,
          -0.007735847529257562,
          0.7079081582653527,
          0.024046215931090367,
          0.6392461872935489,
          0.0755724223531609,
          -0.08184605896850079,
          0.1032022287437986,
          -0.7111590400471549,
          0.831753565210634,
          -0.006453108687066113,
          0.573610085914323,
          0.39164356654591126,
          0.5935155211934396,
          -0.12342399425145735,
          0.19652878609519595,
          -0.2967742866708958,
          -0.08591440695155304,
          -0.26499204565631235,
          0.502002719776223,
          1.0,
          0.19836753757031583,
          0.21382664628828565,
          0.9317809452398874,
          0.7355848077735596,
          -0.33337214342791904,
          0.31929189211017056,
          0.7367699769888194,
          -0.1240635900380212,
          -0.4756262665722607,
          -0.8237010718560178,
          -0.8596175730254467,
          -0.4523896972738557,
          -0.7017131353867465,
          0.1885334642783506,
          -0.295606301134811,
          -0.06434827289795328,
          -0.9224675230914722,
          -0.8573728805211852,
          -0.49160191244360474,
          -0.011821590461632881,
          -0.6598474337609156,
          -0.0593077016772453,
          -0.8538838821162985,
          -0.17894407667381076,
          0.33326116221238083,
          0.464844809852695,
          -0.23619681820410957,
          0.6365891645565944,
          -0.1609877086410419,
          0.07974000086177345,
          -0.9700443822282607,
          -0.7837189687996712,
          0.8406333084424334,
          -0.9691694740638839,
          -0.7004053992818762,
          0.47897490722081343,
          0.5808985654008116,
          -0.3674194505614277,
          -0.6745559286786605,
          0.05765456305532398,
          -0.49216186052612665,
          -0.031124490819180735,
          -0.5195487328266136,
          0.8035272405264935,
          0.6458755378304271,
          0.15969527452386778,
          -0.8307876569553826,
          0.2249900198256324,
          0.7204349063521324,
          -0.24957216628009288,
          -0.6096053622288538,
          -0.5917376569473755,
          0.27180609059169886,
          -0.45038138130893135,
          -0.7174956799280746,
          -0.6601772179218354,
          0.4112025978181369,
          0.069548385201648,
          0.024061203968688164,
          -0.13195451035810693,
          -0.4133293030503874,
          0.3729404069365287,
          -0.6418406244848937,
          -0.4873608630446449,
          0.8628518989990979,
          0.46964451562324716,
          0.728358335797966,
          0.8057768162174864,
          0.39706469557975016,
          0.5807212410066799,
          0.35200433251309216,
          -0.3314052132920918,
          0.4980485349343194
         ],
         "y": [
          0.02060208157384822,
          0.12531681289885918,
          0.04552355661751919,
          0.1908346597381259,
          0.02846084467835585,
          -0.5969852677462606,
          0.3927688519325817,
          -0.01206092734226403,
          0.8102443195434567,
          0.3532273199983039,
          0.08575622309019115,
          0.016099759028550924,
          0.19124399134896097,
          0.38117531421431583,
          -0.4187326648009878,
          0.9005027780645067,
          0.14429629365570598,
          0.8467002083731299,
          0.6960946125443547,
          -0.38986508299894346,
          -0.09798092326661349,
          0.4817990159566635,
          0.8914372021390844,
          -0.4405939207956698,
          -0.06183004435557844,
          -0.4758008187086457,
          0.4165195191416935,
          -0.7719681240602855,
          0.35901538792648147,
          0.014810653102938578,
          0.5424695275112436,
          0.13821703644667466,
          -0.4112785236751556,
          0.7531398480405189,
          0.2083402313798883,
          0.6730376488303779,
          -0.8900006474804696,
          -0.06444422852132148,
          0.2960464380869163,
          -0.28242118612601874,
          -0.8164773123512006,
          0.8419834029232618,
          -0.3912123109581548,
          -0.5590010954187707,
          0.46007612246718943,
          -0.7229502747663017,
          0.8366732621147684,
          -0.7163339227206142,
          0.7232012906978623,
          0.6371547064329786,
          -0.9084976252742167,
          -0.638769419626111,
          0.09911212046669816,
          -0.180043957080988,
          0.22874363863570685,
          -0.10604690416622906,
          0.5032648175527219,
          0.5803556152286117,
          0.5207185313146759,
          -0.7650778890692067,
          0.013920996623943645,
          0.5835381063651679,
          0.1739395873060903,
          -0.917611136639237,
          -0.427646782778844,
          -0.3514267967033002,
          -0.28097211258656823,
          -0.914058822409226,
          -0.03265317977075769,
          -0.6623743068489396,
          -0.15614180994925633,
          -0.5428468822954011,
          0.6103178674471752,
          -0.7219954062236088,
          0.5153330370280007,
          -0.5865563739808214,
          -0.5221481720708693,
          -0.5998466386882986,
          -0.2402124795766836,
          -0.7932278704421947,
          -0.4330693077502693,
          0.5069856613504305,
          -0.18142436830834482,
          0.6833628407772404,
          -0.18783420326395464,
          0.3487925801263461,
          -0.22183713844348438,
          0.7555777394976962,
          0.47998732831002866,
          -0.03884481866604147,
          -0.40830189811889905,
          0.3678527639021662,
          -0.5839207092998213,
          0.6148962554036044,
          -0.5661441217108641
         ],
         "type": "scatter"
        }
       ],
       "layout": {
        "annotations": [
         {
          "showarrow": false,
          "text": "Python code: <a href='https://plotly.com/ipython-notebooks/network-graphs/'> https://plotly.com/ipython-notebooks/network-graphs/</a>",
          "x": 0.005,
          "xref": "paper",
          "y": -0.002,
          "yref": "paper"
         }
        ],
        "hovermode": "closest",
        "margin": {
         "b": 20,
         "l": 5,
         "r": 5,
         "t": 40
        },
        "showlegend": false,
        "title": {
         "font": {
          "size": 16
         },
         "text": "<br>Network graph made with Python"
        },
        "xaxis": {
         "showgrid": false,
         "showticklabels": false,
         "zeroline": false
        },
        "yaxis": {
         "showgrid": false,
         "showticklabels": false,
         "zeroline": false
        },
        "template": {
         "data": {
          "histogram2dcontour": [
           {
            "type": "histogram2dcontour",
            "colorbar": {
             "outlinewidth": 0,
             "ticks": ""
            },
            "colorscale": [
             [
              0.0,
              "#0d0887"
             ],
             [
              0.1111111111111111,
              "#46039f"
             ],
             [
              0.2222222222222222,
              "#7201a8"
             ],
             [
              0.3333333333333333,
              "#9c179e"
             ],
             [
              0.4444444444444444,
              "#bd3786"
             ],
             [
              0.5555555555555556,
              "#d8576b"
             ],
             [
              0.6666666666666666,
              "#ed7953"
             ],
             [
              0.7777777777777778,
              "#fb9f3a"
             ],
             [
              0.8888888888888888,
              "#fdca26"
             ],
             [
              1.0,
              "#f0f921"
             ]
            ]
           }
          ],
          "choropleth": [
           {
            "type": "choropleth",
            "colorbar": {
             "outlinewidth": 0,
             "ticks": ""
            }
           }
          ],
          "histogram2d": [
           {
            "type": "histogram2d",
            "colorbar": {
             "outlinewidth": 0,
             "ticks": ""
            },
            "colorscale": [
             [
              0.0,
              "#0d0887"
             ],
             [
              0.1111111111111111,
              "#46039f"
             ],
             [
              0.2222222222222222,
              "#7201a8"
             ],
             [
              0.3333333333333333,
              "#9c179e"
             ],
             [
              0.4444444444444444,
              "#bd3786"
             ],
             [
              0.5555555555555556,
              "#d8576b"
             ],
             [
              0.6666666666666666,
              "#ed7953"
             ],
             [
              0.7777777777777778,
              "#fb9f3a"
             ],
             [
              0.8888888888888888,
              "#fdca26"
             ],
             [
              1.0,
              "#f0f921"
             ]
            ]
           }
          ],
          "heatmap": [
           {
            "type": "heatmap",
            "colorbar": {
             "outlinewidth": 0,
             "ticks": ""
            },
            "colorscale": [
             [
              0.0,
              "#0d0887"
             ],
             [
              0.1111111111111111,
              "#46039f"
             ],
             [
              0.2222222222222222,
              "#7201a8"
             ],
             [
              0.3333333333333333,
              "#9c179e"
             ],
             [
              0.4444444444444444,
              "#bd3786"
             ],
             [
              0.5555555555555556,
              "#d8576b"
             ],
             [
              0.6666666666666666,
              "#ed7953"
             ],
             [
              0.7777777777777778,
              "#fb9f3a"
             ],
             [
              0.8888888888888888,
              "#fdca26"
             ],
             [
              1.0,
              "#f0f921"
             ]
            ]
           }
          ],
          "heatmapgl": [
           {
            "type": "heatmapgl",
            "colorbar": {
             "outlinewidth": 0,
             "ticks": ""
            },
            "colorscale": [
             [
              0.0,
              "#0d0887"
             ],
             [
              0.1111111111111111,
              "#46039f"
             ],
             [
              0.2222222222222222,
              "#7201a8"
             ],
             [
              0.3333333333333333,
              "#9c179e"
             ],
             [
              0.4444444444444444,
              "#bd3786"
             ],
             [
              0.5555555555555556,
              "#d8576b"
             ],
             [
              0.6666666666666666,
              "#ed7953"
             ],
             [
              0.7777777777777778,
              "#fb9f3a"
             ],
             [
              0.8888888888888888,
              "#fdca26"
             ],
             [
              1.0,
              "#f0f921"
             ]
            ]
           }
          ],
          "contourcarpet": [
           {
            "type": "contourcarpet",
            "colorbar": {
             "outlinewidth": 0,
             "ticks": ""
            }
           }
          ],
          "contour": [
           {
            "type": "contour",
            "colorbar": {
             "outlinewidth": 0,
             "ticks": ""
            },
            "colorscale": [
             [
              0.0,
              "#0d0887"
             ],
             [
              0.1111111111111111,
              "#46039f"
             ],
             [
              0.2222222222222222,
              "#7201a8"
             ],
             [
              0.3333333333333333,
              "#9c179e"
             ],
             [
              0.4444444444444444,
              "#bd3786"
             ],
             [
              0.5555555555555556,
              "#d8576b"
             ],
             [
              0.6666666666666666,
              "#ed7953"
             ],
             [
              0.7777777777777778,
              "#fb9f3a"
             ],
             [
              0.8888888888888888,
              "#fdca26"
             ],
             [
              1.0,
              "#f0f921"
             ]
            ]
           }
          ],
          "surface": [
           {
            "type": "surface",
            "colorbar": {
             "outlinewidth": 0,
             "ticks": ""
            },
            "colorscale": [
             [
              0.0,
              "#0d0887"
             ],
             [
              0.1111111111111111,
              "#46039f"
             ],
             [
              0.2222222222222222,
              "#7201a8"
             ],
             [
              0.3333333333333333,
              "#9c179e"
             ],
             [
              0.4444444444444444,
              "#bd3786"
             ],
             [
              0.5555555555555556,
              "#d8576b"
             ],
             [
              0.6666666666666666,
              "#ed7953"
             ],
             [
              0.7777777777777778,
              "#fb9f3a"
             ],
             [
              0.8888888888888888,
              "#fdca26"
             ],
             [
              1.0,
              "#f0f921"
             ]
            ]
           }
          ],
          "mesh3d": [
           {
            "type": "mesh3d",
            "colorbar": {
             "outlinewidth": 0,
             "ticks": ""
            }
           }
          ],
          "scatter": [
           {
            "fillpattern": {
             "fillmode": "overlay",
             "size": 10,
             "solidity": 0.2
            },
            "type": "scatter"
           }
          ],
          "parcoords": [
           {
            "type": "parcoords",
            "line": {
             "colorbar": {
              "outlinewidth": 0,
              "ticks": ""
             }
            }
           }
          ],
          "scatterpolargl": [
           {
            "type": "scatterpolargl",
            "marker": {
             "colorbar": {
              "outlinewidth": 0,
              "ticks": ""
             }
            }
           }
          ],
          "bar": [
           {
            "error_x": {
             "color": "#2a3f5f"
            },
            "error_y": {
             "color": "#2a3f5f"
            },
            "marker": {
             "line": {
              "color": "#E5ECF6",
              "width": 0.5
             },
             "pattern": {
              "fillmode": "overlay",
              "size": 10,
              "solidity": 0.2
             }
            },
            "type": "bar"
           }
          ],
          "scattergeo": [
           {
            "type": "scattergeo",
            "marker": {
             "colorbar": {
              "outlinewidth": 0,
              "ticks": ""
             }
            }
           }
          ],
          "scatterpolar": [
           {
            "type": "scatterpolar",
            "marker": {
             "colorbar": {
              "outlinewidth": 0,
              "ticks": ""
             }
            }
           }
          ],
          "histogram": [
           {
            "marker": {
             "pattern": {
              "fillmode": "overlay",
              "size": 10,
              "solidity": 0.2
             }
            },
            "type": "histogram"
           }
          ],
          "scattergl": [
           {
            "type": "scattergl",
            "marker": {
             "colorbar": {
              "outlinewidth": 0,
              "ticks": ""
             }
            }
           }
          ],
          "scatter3d": [
           {
            "type": "scatter3d",
            "line": {
             "colorbar": {
              "outlinewidth": 0,
              "ticks": ""
             }
            },
            "marker": {
             "colorbar": {
              "outlinewidth": 0,
              "ticks": ""
             }
            }
           }
          ],
          "scattermapbox": [
           {
            "type": "scattermapbox",
            "marker": {
             "colorbar": {
              "outlinewidth": 0,
              "ticks": ""
             }
            }
           }
          ],
          "scatterternary": [
           {
            "type": "scatterternary",
            "marker": {
             "colorbar": {
              "outlinewidth": 0,
              "ticks": ""
             }
            }
           }
          ],
          "scattercarpet": [
           {
            "type": "scattercarpet",
            "marker": {
             "colorbar": {
              "outlinewidth": 0,
              "ticks": ""
             }
            }
           }
          ],
          "carpet": [
           {
            "aaxis": {
             "endlinecolor": "#2a3f5f",
             "gridcolor": "white",
             "linecolor": "white",
             "minorgridcolor": "white",
             "startlinecolor": "#2a3f5f"
            },
            "baxis": {
             "endlinecolor": "#2a3f5f",
             "gridcolor": "white",
             "linecolor": "white",
             "minorgridcolor": "white",
             "startlinecolor": "#2a3f5f"
            },
            "type": "carpet"
           }
          ],
          "table": [
           {
            "cells": {
             "fill": {
              "color": "#EBF0F8"
             },
             "line": {
              "color": "white"
             }
            },
            "header": {
             "fill": {
              "color": "#C8D4E3"
             },
             "line": {
              "color": "white"
             }
            },
            "type": "table"
           }
          ],
          "barpolar": [
           {
            "marker": {
             "line": {
              "color": "#E5ECF6",
              "width": 0.5
             },
             "pattern": {
              "fillmode": "overlay",
              "size": 10,
              "solidity": 0.2
             }
            },
            "type": "barpolar"
           }
          ],
          "pie": [
           {
            "automargin": true,
            "type": "pie"
           }
          ]
         },
         "layout": {
          "autotypenumbers": "strict",
          "colorway": [
           "#636efa",
           "#EF553B",
           "#00cc96",
           "#ab63fa",
           "#FFA15A",
           "#19d3f3",
           "#FF6692",
           "#B6E880",
           "#FF97FF",
           "#FECB52"
          ],
          "font": {
           "color": "#2a3f5f"
          },
          "hovermode": "closest",
          "hoverlabel": {
           "align": "left"
          },
          "paper_bgcolor": "white",
          "plot_bgcolor": "#E5ECF6",
          "polar": {
           "bgcolor": "#E5ECF6",
           "angularaxis": {
            "gridcolor": "white",
            "linecolor": "white",
            "ticks": ""
           },
           "radialaxis": {
            "gridcolor": "white",
            "linecolor": "white",
            "ticks": ""
           }
          },
          "ternary": {
           "bgcolor": "#E5ECF6",
           "aaxis": {
            "gridcolor": "white",
            "linecolor": "white",
            "ticks": ""
           },
           "baxis": {
            "gridcolor": "white",
            "linecolor": "white",
            "ticks": ""
           },
           "caxis": {
            "gridcolor": "white",
            "linecolor": "white",
            "ticks": ""
           }
          },
          "coloraxis": {
           "colorbar": {
            "outlinewidth": 0,
            "ticks": ""
           }
          },
          "colorscale": {
           "sequential": [
            [
             0.0,
             "#0d0887"
            ],
            [
             0.1111111111111111,
             "#46039f"
            ],
            [
             0.2222222222222222,
             "#7201a8"
            ],
            [
             0.3333333333333333,
             "#9c179e"
            ],
            [
             0.4444444444444444,
             "#bd3786"
            ],
            [
             0.5555555555555556,
             "#d8576b"
            ],
            [
             0.6666666666666666,
             "#ed7953"
            ],
            [
             0.7777777777777778,
             "#fb9f3a"
            ],
            [
             0.8888888888888888,
             "#fdca26"
            ],
            [
             1.0,
             "#f0f921"
            ]
           ],
           "sequentialminus": [
            [
             0.0,
             "#0d0887"
            ],
            [
             0.1111111111111111,
             "#46039f"
            ],
            [
             0.2222222222222222,
             "#7201a8"
            ],
            [
             0.3333333333333333,
             "#9c179e"
            ],
            [
             0.4444444444444444,
             "#bd3786"
            ],
            [
             0.5555555555555556,
             "#d8576b"
            ],
            [
             0.6666666666666666,
             "#ed7953"
            ],
            [
             0.7777777777777778,
             "#fb9f3a"
            ],
            [
             0.8888888888888888,
             "#fdca26"
            ],
            [
             1.0,
             "#f0f921"
            ]
           ],
           "diverging": [
            [
             0,
             "#8e0152"
            ],
            [
             0.1,
             "#c51b7d"
            ],
            [
             0.2,
             "#de77ae"
            ],
            [
             0.3,
             "#f1b6da"
            ],
            [
             0.4,
             "#fde0ef"
            ],
            [
             0.5,
             "#f7f7f7"
            ],
            [
             0.6,
             "#e6f5d0"
            ],
            [
             0.7,
             "#b8e186"
            ],
            [
             0.8,
             "#7fbc41"
            ],
            [
             0.9,
             "#4d9221"
            ],
            [
             1,
             "#276419"
            ]
           ]
          },
          "xaxis": {
           "gridcolor": "white",
           "linecolor": "white",
           "ticks": "",
           "title": {
            "standoff": 15
           },
           "zerolinecolor": "white",
           "automargin": true,
           "zerolinewidth": 2
          },
          "yaxis": {
           "gridcolor": "white",
           "linecolor": "white",
           "ticks": "",
           "title": {
            "standoff": 15
           },
           "zerolinecolor": "white",
           "automargin": true,
           "zerolinewidth": 2
          },
          "scene": {
           "xaxis": {
            "backgroundcolor": "#E5ECF6",
            "gridcolor": "white",
            "linecolor": "white",
            "showbackground": true,
            "ticks": "",
            "zerolinecolor": "white",
            "gridwidth": 2
           },
           "yaxis": {
            "backgroundcolor": "#E5ECF6",
            "gridcolor": "white",
            "linecolor": "white",
            "showbackground": true,
            "ticks": "",
            "zerolinecolor": "white",
            "gridwidth": 2
           },
           "zaxis": {
            "backgroundcolor": "#E5ECF6",
            "gridcolor": "white",
            "linecolor": "white",
            "showbackground": true,
            "ticks": "",
            "zerolinecolor": "white",
            "gridwidth": 2
           }
          },
          "shapedefaults": {
           "line": {
            "color": "#2a3f5f"
           }
          },
          "annotationdefaults": {
           "arrowcolor": "#2a3f5f",
           "arrowhead": 0,
           "arrowwidth": 1
          },
          "geo": {
           "bgcolor": "white",
           "landcolor": "#E5ECF6",
           "subunitcolor": "white",
           "showland": true,
           "showlakes": true,
           "lakecolor": "white"
          },
          "title": {
           "x": 0.05
          },
          "mapbox": {
           "style": "light"
          }
         }
        }
       },
       "config": {
        "plotlyServerURL": "https://plot.ly"
       }
      },
      "text/html": [
       "<div>                            <div id=\"cc15a90d-bc38-420d-a4a1-426bc3f96ab0\" class=\"plotly-graph-div\" style=\"height:525px; width:100%;\"></div>            <script type=\"text/javascript\">                require([\"plotly\"], function(Plotly) {                    window.PLOTLYENV=window.PLOTLYENV || {};                                    if (document.getElementById(\"cc15a90d-bc38-420d-a4a1-426bc3f96ab0\")) {                    Plotly.newPlot(                        \"cc15a90d-bc38-420d-a4a1-426bc3f96ab0\",                        [{\"hoverinfo\":\"none\",\"line\":{\"color\":\"#888\",\"width\":0.5},\"mode\":\"lines\",\"x\":[0.6104865668965419,-0.007735847529257562,null,0.32014488123458096,0.6104865668965419,null,0.32014488123458096,0.7079081582653527,null,0.32014488123458096,0.6392461872935489,null,0.32014488123458096,0.0755724223531609,null,0.32014488123458096,0.1032022287437986,null,0.32014488123458096,-0.7111590400471549,null,0.32014488123458096,0.831753565210634,null,0.32014488123458096,0.573610085914323,null,0.32014488123458096,0.39164356654591126,null,0.32014488123458096,0.5935155211934396,null,-0.007735847529257562,0.6392461872935489,null,-0.007735847529257562,-0.08591440695155304,null,-0.007735847529257562,-0.26499204565631235,null,-0.007735847529257562,1.0,null,-0.007735847529257562,0.19836753757031583,null,-0.007735847529257562,0.21382664628828565,null,-0.007735847529257562,-0.4756262665722607,null,-0.007735847529257562,-0.8237010718560178,null,-0.007735847529257562,-0.8596175730254467,null,-0.007735847529257562,-0.7017131353867465,null,-0.007735847529257562,0.1885334642783506,null,-0.007735847529257562,0.47897490722081343,null,-0.007735847529257562,-0.3674194505614277,null,-0.007735847529257562,-0.6745559286786605,null,-0.007735847529257562,0.05765456305532398,null,-0.007735847529257562,-0.031124490819180735,null,-0.007735847529257562,-0.5195487328266136,null,-0.007735847529257562,-0.6601772179218354,null,-0.007735847529257562,0.069548385201648,null,-0.007735847529257562,0.024061203968688164,null,-0.007735847529257562,-0.13195451035810693,null,-0.007735847529257562,0.3729404069365287,null,-0.007735847529257562,-0.6418406244848937,null,-0.007735847529257562,-0.4873608630446449,null,-0.007735847529257562,0.8628518989990979,null,-0.007735847529257562,0.46964451562324716,null,-0.007735847529257562,0.728358335797966,null,0.7079081582653527,-0.007735847529257562,null,0.024046215931090367,0.7079081582653527,null,0.024046215931090367,-0.7111590400471549,null,0.024046215931090367,0.39164356654591126,null,0.024046215931090367,-0.2967742866708958,null,0.024046215931090367,0.502002719776223,null,0.024046215931090367,1.0,null,0.024046215931090367,0.21382664628828565,null,0.024046215931090367,-0.33337214342791904,null,0.024046215931090367,-0.6598474337609156,null,0.024046215931090367,-0.8538838821162985,null,0.024046215931090367,-0.17894407667381076,null,0.024046215931090367,0.6365891645565944,null,0.024046215931090367,0.15969527452386778,null,0.024046215931090367,-0.8307876569553826,null,0.024046215931090367,-0.24957216628009288,null,0.024046215931090367,-0.4133293030503874,null,0.024046215931090367,-0.6418406244848937,null,0.024046215931090367,-0.4873608630446449,null,0.024046215931090367,0.46964451562324716,null,0.024046215931090367,0.35200433251309216,null,0.024046215931090367,0.4980485349343194,null,0.6392461872935489,0.024046215931090367,null,0.0755724223531609,-0.08184605896850079,null,-0.08184605896850079,0.1032022287437986,null,-0.08184605896850079,-0.8596175730254467,null,-0.08184605896850079,-0.4523896972738557,null,-0.08184605896850079,0.1885334642783506,null,-0.08184605896850079,-0.9224675230914722,null,-0.08184605896850079,-0.49160191244360474,null,-0.08184605896850079,-0.8538838821162985,null,-0.08184605896850079,0.33326116221238083,null,-0.08184605896850079,-0.9700443822282607,null,-0.08184605896850079,0.8406333084424334,null,-0.08184605896850079,-0.9691694740638839,null,-0.08184605896850079,0.5808985654008116,null,-0.08184605896850079,-0.3674194505614277,null,-0.08184605896850079,0.05765456305532398,null,-0.08184605896850079,-0.49216186052612665,null,-0.08184605896850079,-0.031124490819180735,null,-0.08184605896850079,0.6458755378304271,null,-0.08184605896850079,0.15969527452386778,null,-0.08184605896850079,-0.5917376569473755,null,-0.08184605896850079,0.27180609059169886,null,-0.08184605896850079,-0.7174956799280746,null,-0.08184605896850079,0.4112025978181369,null,-0.08184605896850079,0.024061203968688164,null,-0.08184605896850079,-0.4133293030503874,null,-0.08184605896850079,0.3729404069365287,null,-0.08184605896850079,-0.4873608630446449,null,-0.08184605896850079,0.8057768162174864,null,-0.08184605896850079,0.39706469557975016,null,-0.08184605896850079,0.5807212410066799,null,-0.08184605896850079,0.35200433251309216,null,0.1032022287437986,0.024046215931090367,null,-0.7111590400471549,-0.08184605896850079,null,0.831753565210634,-0.006453108687066113,null,-0.006453108687066113,0.573610085914323,null,-0.006453108687066113,0.502002719776223,null,-0.006453108687066113,1.0,null,-0.006453108687066113,0.19836753757031583,null,-0.006453108687066113,0.7355848077735596,null,-0.006453108687066113,0.7367699769888194,null,-0.006453108687066113,-0.8596175730254467,null,-0.006453108687066113,-0.4523896972738557,null,-0.006453108687066113,-0.7017131353867465,null,-0.006453108687066113,-0.23619681820410957,null,-0.006453108687066113,-0.1609877086410419,null,-0.006453108687066113,-0.9700443822282607,null,-0.006453108687066113,-0.7837189687996712,null,-0.006453108687066113,0.5808985654008116,null,-0.006453108687066113,-0.3674194505614277,null,-0.006453108687066113,-0.6745559286786605,null,-0.006453108687066113,0.7204349063521324,null,-0.006453108687066113,-0.6096053622288538,null,-0.006453108687066113,-0.5917376569473755,null,-0.006453108687066113,0.4112025978181369,null,-0.006453108687066113,0.069548385201648,null,-0.006453108687066113,-0.4133293030503874,null,-0.006453108687066113,0.3729404069365287,null,-0.006453108687066113,-0.6418406244848937,null,-0.006453108687066113,0.8628518989990979,null,-0.006453108687066113,0.5807212410066799,null,-0.006453108687066113,-0.3314052132920918,null,0.573610085914323,0.024046215931090367,null,0.39164356654591126,-0.006453108687066113,null,0.5935155211934396,0.024046215931090367,null,-0.12342399425145735,-0.007735847529257562,null,0.19652878609519595,-0.12342399425145735,null,0.19652878609519595,-0.2967742866708958,null,0.19652878609519595,-0.08591440695155304,null,0.19652878609519595,-0.26499204565631235,null,0.19652878609519595,0.502002719776223,null,0.19652878609519595,0.19836753757031583,null,0.19652878609519595,0.21382664628828565,null,0.19652878609519595,0.9317809452398874,null,0.19652878609519595,0.7355848077735596,null,0.19652878609519595,-0.33337214342791904,null,0.19652878609519595,0.31929189211017056,null,-0.2967742866708958,-0.007735847529257562,null,-0.08591440695155304,0.024046215931090367,null,-0.26499204565631235,-0.006453108687066113,null,0.502002719776223,-0.007735847529257562,null,1.0,0.19652878609519595,null,0.19836753757031583,0.024046215931090367,null,0.21382664628828565,-0.006453108687066113,null,0.9317809452398874,0.024046215931090367,null,0.7355848077735596,0.024046215931090367,null,-0.33337214342791904,-0.006453108687066113,null,0.31929189211017056,-0.006453108687066113,null,0.7367699769888194,-0.007735847529257562,null,-0.1240635900380212,0.7367699769888194,null,-0.1240635900380212,-0.4756262665722607,null,-0.1240635900380212,-0.8237010718560178,null,-0.1240635900380212,-0.4523896972738557,null,-0.1240635900380212,-0.7017131353867465,null,-0.1240635900380212,0.1885334642783506,null,-0.1240635900380212,-0.295606301134811,null,-0.1240635900380212,-0.8573728805211852,null,-0.1240635900380212,-0.49160191244360474,null,-0.1240635900380212,-0.011821590461632881,null,-0.1240635900380212,-0.6598474337609156,null,-0.1240635900380212,-0.0593077016772453,null,-0.1240635900380212,-0.17894407667381076,null,-0.1240635900380212,0.33326116221238083,null,-0.1240635900380212,0.464844809852695,null,-0.1240635900380212,-0.23619681820410957,null,-0.1240635900380212,0.6365891645565944,null,-0.1240635900380212,-0.1609877086410419,null,-0.1240635900380212,0.07974000086177345,null,-0.1240635900380212,-0.7837189687996712,null,-0.1240635900380212,0.8406333084424334,null,-0.1240635900380212,-0.7004053992818762,null,-0.4756262665722607,-0.006453108687066113,null,-0.8237010718560178,-0.08184605896850079,null,-0.8596175730254467,-0.1240635900380212,null,-0.4523896972738557,-0.007735847529257562,null,-0.7017131353867465,-0.08184605896850079,null,0.1885334642783506,-0.006453108687066113,null,-0.295606301134811,-0.06434827289795328,null,-0.06434827289795328,-0.9224675230914722,null,-0.06434827289795328,-0.8573728805211852,null,-0.06434827289795328,-0.0593077016772453,null,-0.06434827289795328,0.07974000086177345,null,-0.06434827289795328,0.47897490722081343,null,-0.06434827289795328,0.5808985654008116,null,-0.06434827289795328,-0.6745559286786605,null,-0.06434827289795328,0.05765456305532398,null,-0.06434827289795328,-0.49216186052612665,null,-0.06434827289795328,-0.5195487328266136,null,-0.06434827289795328,0.8035272405264935,null,-0.06434827289795328,0.6458755378304271,null,-0.06434827289795328,-0.8307876569553826,null,-0.06434827289795328,0.2249900198256324,null,-0.06434827289795328,0.7204349063521324,null,-0.06434827289795328,-0.24957216628009288,null,-0.06434827289795328,-0.6096053622288538,null,-0.06434827289795328,0.27180609059169886,null,-0.06434827289795328,-0.45038138130893135,null,-0.9224675230914722,-0.1240635900380212,null,-0.8573728805211852,-0.08184605896850079,null,-0.49160191244360474,-0.06434827289795328,null,-0.011821590461632881,0.024046215931090367,null,-0.6598474337609156,-0.06434827289795328,null,-0.0593077016772453,0.024046215931090367,null,-0.8538838821162985,-0.1240635900380212,null,-0.17894407667381076,-0.08184605896850079,null,0.33326116221238083,0.024046215931090367,null,0.464844809852695,-0.006453108687066113,null,-0.23619681820410957,0.024046215931090367,null,0.6365891645565944,-0.006453108687066113,null,-0.1609877086410419,-0.06434827289795328,null,0.07974000086177345,-0.006453108687066113,null,-0.9700443822282607,-0.1240635900380212,null,-0.7837189687996712,-0.08184605896850079,null,0.8406333084424334,-0.006453108687066113,null,-0.9691694740638839,-0.1240635900380212,null,-0.7004053992818762,-0.08184605896850079,null,0.47897490722081343,-0.006453108687066113,null,0.5808985654008116,-0.007735847529257562,null,-0.3674194505614277,-0.06434827289795328,null,-0.6745559286786605,-0.08184605896850079,null,0.05765456305532398,-0.006453108687066113,null,-0.49216186052612665,-0.007735847529257562,null,-0.031124490819180735,-0.06434827289795328,null,-0.5195487328266136,-0.08184605896850079,null,0.8035272405264935,0.024046215931090367,null,0.6458755378304271,0.024046215931090367,null,0.15969527452386778,-0.06434827289795328,null,-0.8307876569553826,-0.08184605896850079,null,0.2249900198256324,-0.006453108687066113,null,0.7204349063521324,0.024046215931090367,null,-0.24957216628009288,-0.006453108687066113,null,-0.6096053622288538,-0.08184605896850079,null,-0.5917376569473755,-0.06434827289795328,null,0.27180609059169886,-0.006453108687066113,null,-0.45038138130893135,-0.08184605896850079,null,-0.7174956799280746,-0.06434827289795328,null,-0.6601772179218354,-0.08184605896850079,null,0.4112025978181369,-0.007735847529257562,null,0.069548385201648,-0.08184605896850079,null,0.024061203968688164,-0.006453108687066113,null,-0.13195451035810693,0.024046215931090367,null,-0.4133293030503874,-0.007735847529257562,null,0.3729404069365287,0.024046215931090367,null,-0.6418406244848937,-0.08184605896850079,null,-0.4873608630446449,-0.006453108687066113,null,0.8628518989990979,0.024046215931090367,null,0.46964451562324716,-0.006453108687066113,null,0.728358335797966,-0.006453108687066113,null,0.8057768162174864,0.024046215931090367,null,0.39706469557975016,-0.006453108687066113,null,0.5807212410066799,0.024046215931090367,null,0.35200433251309216,-0.006453108687066113,null,-0.3314052132920918,0.024046215931090367,null,0.4980485349343194,-0.006453108687066113,null],\"y\":[0.02060208157384822,0.04552355661751919,null,0.12531681289885918,0.02060208157384822,null,0.12531681289885918,0.1908346597381259,null,0.12531681289885918,-0.5969852677462606,null,0.12531681289885918,0.3927688519325817,null,0.12531681289885918,0.8102443195434567,null,0.12531681289885918,0.3532273199983039,null,0.12531681289885918,0.08575622309019115,null,0.12531681289885918,0.19124399134896097,null,0.12531681289885918,0.38117531421431583,null,0.12531681289885918,-0.4187326648009878,null,0.04552355661751919,-0.5969852677462606,null,0.04552355661751919,0.6960946125443547,null,0.04552355661751919,-0.38986508299894346,null,0.04552355661751919,0.4817990159566635,null,0.04552355661751919,0.8914372021390844,null,0.04552355661751919,-0.4405939207956698,null,0.04552355661751919,0.5424695275112436,null,0.04552355661751919,0.13821703644667466,null,0.04552355661751919,-0.4112785236751556,null,0.04552355661751919,0.2083402313798883,null,0.04552355661751919,0.6730376488303779,null,0.04552355661751919,0.5803556152286117,null,0.04552355661751919,-0.7650778890692067,null,0.04552355661751919,0.013920996623943645,null,0.04552355661751919,0.5835381063651679,null,0.04552355661751919,-0.917611136639237,null,0.04552355661751919,-0.427646782778844,null,0.04552355661751919,-0.5998466386882986,null,0.04552355661751919,-0.7932278704421947,null,0.04552355661751919,-0.4330693077502693,null,0.04552355661751919,0.5069856613504305,null,0.04552355661751919,0.6833628407772404,null,0.04552355661751919,-0.18783420326395464,null,0.04552355661751919,0.3487925801263461,null,0.04552355661751919,-0.22183713844348438,null,0.04552355661751919,0.7555777394976962,null,0.04552355661751919,0.47998732831002866,null,0.1908346597381259,0.04552355661751919,null,0.02846084467835585,0.1908346597381259,null,0.02846084467835585,0.3532273199983039,null,0.02846084467835585,0.38117531421431583,null,0.02846084467835585,0.8467002083731299,null,0.02846084467835585,-0.09798092326661349,null,0.02846084467835585,0.4817990159566635,null,0.02846084467835585,-0.4405939207956698,null,0.02846084467835585,0.4165195191416935,null,0.02846084467835585,-0.3912123109581548,null,0.02846084467835585,0.46007612246718943,null,0.02846084467835585,-0.7229502747663017,null,0.02846084467835585,0.6371547064329786,null,0.02846084467835585,-0.914058822409226,null,0.02846084467835585,-0.03265317977075769,null,0.02846084467835585,-0.5428468822954011,null,0.02846084467835585,-0.18142436830834482,null,0.02846084467835585,-0.18783420326395464,null,0.02846084467835585,0.3487925801263461,null,0.02846084467835585,0.7555777394976962,null,0.02846084467835585,-0.5839207092998213,null,0.02846084467835585,-0.5661441217108641,null,-0.5969852677462606,0.02846084467835585,null,0.3927688519325817,-0.01206092734226403,null,-0.01206092734226403,0.8102443195434567,null,-0.01206092734226403,-0.4112785236751556,null,-0.01206092734226403,0.7531398480405189,null,-0.01206092734226403,0.6730376488303779,null,-0.01206092734226403,0.2960464380869163,null,-0.01206092734226403,-0.8164773123512006,null,-0.01206092734226403,0.46007612246718943,null,-0.01206092734226403,0.8366732621147684,null,-0.01206092734226403,0.09911212046669816,null,-0.01206092734226403,0.22874363863570685,null,-0.01206092734226403,-0.10604690416622906,null,-0.01206092734226403,0.5207185313146759,null,-0.01206092734226403,-0.7650778890692067,null,-0.01206092734226403,0.5835381063651679,null,-0.01206092734226403,0.1739395873060903,null,-0.01206092734226403,-0.917611136639237,null,-0.01206092734226403,-0.28097211258656823,null,-0.01206092734226403,-0.914058822409226,null,-0.01206092734226403,-0.7219954062236088,null,-0.01206092734226403,0.5153330370280007,null,-0.01206092734226403,-0.5221481720708693,null,-0.01206092734226403,-0.2402124795766836,null,-0.01206092734226403,-0.4330693077502693,null,-0.01206092734226403,-0.18142436830834482,null,-0.01206092734226403,0.6833628407772404,null,-0.01206092734226403,0.3487925801263461,null,-0.01206092734226403,-0.03884481866604147,null,-0.01206092734226403,-0.40830189811889905,null,-0.01206092734226403,0.3678527639021662,null,-0.01206092734226403,-0.5839207092998213,null,0.8102443195434567,0.02846084467835585,null,0.3532273199983039,-0.01206092734226403,null,0.08575622309019115,0.016099759028550924,null,0.016099759028550924,0.19124399134896097,null,0.016099759028550924,-0.09798092326661349,null,0.016099759028550924,0.4817990159566635,null,0.016099759028550924,0.8914372021390844,null,0.016099759028550924,-0.4758008187086457,null,0.016099759028550924,0.35901538792648147,null,0.016099759028550924,-0.4112785236751556,null,0.016099759028550924,0.7531398480405189,null,0.016099759028550924,0.2083402313798883,null,0.016099759028550924,0.7232012906978623,null,0.016099759028550924,-0.9084976252742167,null,0.016099759028550924,0.09911212046669816,null,0.016099759028550924,-0.180043957080988,null,0.016099759028550924,0.5207185313146759,null,0.016099759028550924,-0.7650778890692067,null,0.016099759028550924,0.013920996623943645,null,0.016099759028550924,-0.15614180994925633,null,0.016099759028550924,0.6103178674471752,null,0.016099759028550924,-0.7219954062236088,null,0.016099759028550924,-0.2402124795766836,null,0.016099759028550924,-0.7932278704421947,null,0.016099759028550924,-0.18142436830834482,null,0.016099759028550924,0.6833628407772404,null,0.016099759028550924,-0.18783420326395464,null,0.016099759028550924,-0.22183713844348438,null,0.016099759028550924,0.3678527639021662,null,0.016099759028550924,0.6148962554036044,null,0.19124399134896097,0.02846084467835585,null,0.38117531421431583,0.016099759028550924,null,-0.4187326648009878,0.02846084467835585,null,0.9005027780645067,0.04552355661751919,null,0.14429629365570598,0.9005027780645067,null,0.14429629365570598,0.8467002083731299,null,0.14429629365570598,0.6960946125443547,null,0.14429629365570598,-0.38986508299894346,null,0.14429629365570598,-0.09798092326661349,null,0.14429629365570598,0.8914372021390844,null,0.14429629365570598,-0.4405939207956698,null,0.14429629365570598,-0.06183004435557844,null,0.14429629365570598,-0.4758008187086457,null,0.14429629365570598,0.4165195191416935,null,0.14429629365570598,-0.7719681240602855,null,0.8467002083731299,0.04552355661751919,null,0.6960946125443547,0.02846084467835585,null,-0.38986508299894346,0.016099759028550924,null,-0.09798092326661349,0.04552355661751919,null,0.4817990159566635,0.14429629365570598,null,0.8914372021390844,0.02846084467835585,null,-0.4405939207956698,0.016099759028550924,null,-0.06183004435557844,0.02846084467835585,null,-0.4758008187086457,0.02846084467835585,null,0.4165195191416935,0.016099759028550924,null,-0.7719681240602855,0.016099759028550924,null,0.35901538792648147,0.04552355661751919,null,0.014810653102938578,0.35901538792648147,null,0.014810653102938578,0.5424695275112436,null,0.014810653102938578,0.13821703644667466,null,0.014810653102938578,0.7531398480405189,null,0.014810653102938578,0.2083402313798883,null,0.014810653102938578,0.6730376488303779,null,0.014810653102938578,-0.8900006474804696,null,0.014810653102938578,-0.28242118612601874,null,0.014810653102938578,-0.8164773123512006,null,0.014810653102938578,0.8419834029232618,null,0.014810653102938578,-0.3912123109581548,null,0.014810653102938578,-0.5590010954187707,null,0.014810653102938578,-0.7229502747663017,null,0.014810653102938578,0.8366732621147684,null,0.014810653102938578,-0.7163339227206142,null,0.014810653102938578,0.7232012906978623,null,0.014810653102938578,0.6371547064329786,null,0.014810653102938578,-0.9084976252742167,null,0.014810653102938578,-0.638769419626111,null,0.014810653102938578,-0.180043957080988,null,0.014810653102938578,0.22874363863570685,null,0.014810653102938578,0.5032648175527219,null,0.5424695275112436,0.016099759028550924,null,0.13821703644667466,-0.01206092734226403,null,-0.4112785236751556,0.014810653102938578,null,0.7531398480405189,0.04552355661751919,null,0.2083402313798883,-0.01206092734226403,null,0.6730376488303779,0.016099759028550924,null,-0.8900006474804696,-0.06444422852132148,null,-0.06444422852132148,0.2960464380869163,null,-0.06444422852132148,-0.28242118612601874,null,-0.06444422852132148,-0.5590010954187707,null,-0.06444422852132148,-0.638769419626111,null,-0.06444422852132148,0.5803556152286117,null,-0.06444422852132148,0.5207185313146759,null,-0.06444422852132148,0.013920996623943645,null,-0.06444422852132148,0.5835381063651679,null,-0.06444422852132148,0.1739395873060903,null,-0.06444422852132148,-0.427646782778844,null,-0.06444422852132148,-0.3514267967033002,null,-0.06444422852132148,-0.28097211258656823,null,-0.06444422852132148,-0.03265317977075769,null,-0.06444422852132148,-0.6623743068489396,null,-0.06444422852132148,-0.15614180994925633,null,-0.06444422852132148,-0.5428468822954011,null,-0.06444422852132148,0.6103178674471752,null,-0.06444422852132148,0.5153330370280007,null,-0.06444422852132148,-0.5865563739808214,null,0.2960464380869163,0.014810653102938578,null,-0.28242118612601874,-0.01206092734226403,null,-0.8164773123512006,-0.06444422852132148,null,0.8419834029232618,0.02846084467835585,null,-0.3912123109581548,-0.06444422852132148,null,-0.5590010954187707,0.02846084467835585,null,0.46007612246718943,0.014810653102938578,null,-0.7229502747663017,-0.01206092734226403,null,0.8366732621147684,0.02846084467835585,null,-0.7163339227206142,0.016099759028550924,null,0.7232012906978623,0.02846084467835585,null,0.6371547064329786,0.016099759028550924,null,-0.9084976252742167,-0.06444422852132148,null,-0.638769419626111,0.016099759028550924,null,0.09911212046669816,0.014810653102938578,null,-0.180043957080988,-0.01206092734226403,null,0.22874363863570685,0.016099759028550924,null,-0.10604690416622906,0.014810653102938578,null,0.5032648175527219,-0.01206092734226403,null,0.5803556152286117,0.016099759028550924,null,0.5207185313146759,0.04552355661751919,null,-0.7650778890692067,-0.06444422852132148,null,0.013920996623943645,-0.01206092734226403,null,0.5835381063651679,0.016099759028550924,null,0.1739395873060903,0.04552355661751919,null,-0.917611136639237,-0.06444422852132148,null,-0.427646782778844,-0.01206092734226403,null,-0.3514267967033002,0.02846084467835585,null,-0.28097211258656823,0.02846084467835585,null,-0.914058822409226,-0.06444422852132148,null,-0.03265317977075769,-0.01206092734226403,null,-0.6623743068489396,0.016099759028550924,null,-0.15614180994925633,0.02846084467835585,null,-0.5428468822954011,0.016099759028550924,null,0.6103178674471752,-0.01206092734226403,null,-0.7219954062236088,-0.06444422852132148,null,0.5153330370280007,0.016099759028550924,null,-0.5865563739808214,-0.01206092734226403,null,-0.5221481720708693,-0.06444422852132148,null,-0.5998466386882986,-0.01206092734226403,null,-0.2402124795766836,0.04552355661751919,null,-0.7932278704421947,-0.01206092734226403,null,-0.4330693077502693,0.016099759028550924,null,0.5069856613504305,0.02846084467835585,null,-0.18142436830834482,0.04552355661751919,null,0.6833628407772404,0.02846084467835585,null,-0.18783420326395464,-0.01206092734226403,null,0.3487925801263461,0.016099759028550924,null,-0.22183713844348438,0.02846084467835585,null,0.7555777394976962,0.016099759028550924,null,0.47998732831002866,0.016099759028550924,null,-0.03884481866604147,0.02846084467835585,null,-0.40830189811889905,0.016099759028550924,null,0.3678527639021662,0.02846084467835585,null,-0.5839207092998213,0.016099759028550924,null,0.6148962554036044,0.02846084467835585,null,-0.5661441217108641,0.016099759028550924,null],\"type\":\"scatter\"},{\"hoverinfo\":\"text\",\"marker\":{\"color\":[],\"colorbar\":{\"thickness\":15,\"title\":{\"side\":\"right\",\"text\":\"Node Connections\"},\"xanchor\":\"left\"},\"colorscale\":[[0.0,\"rgb(255,255,217)\"],[0.125,\"rgb(237,248,177)\"],[0.25,\"rgb(199,233,180)\"],[0.375,\"rgb(127,205,187)\"],[0.5,\"rgb(65,182,196)\"],[0.625,\"rgb(29,145,192)\"],[0.75,\"rgb(34,94,168)\"],[0.875,\"rgb(37,52,148)\"],[1.0,\"rgb(8,29,88)\"]],\"line\":{\"width\":2},\"reversescale\":true,\"showscale\":true,\"size\":10},\"mode\":\"markers\",\"text\":[\"0\",\"\\u0428\\u0430\\u043f\\u043a\\u0430\",\"\\u0421\\u0443\\u043c\\u043a\\u0430\",\"1\",\"\\u0414\\u0436\\u0438\\u043d\\u0441\\u044b\",\"2\",\"3\",\"\\u041a\\u0443\\u0440\\u0442\\u043a\\u0430\",\"4\",\"5\",\"6\",\"\\u0424\\u0443\\u0442\\u0431\\u043e\\u043b\\u043a\\u0430\",\"7\",\"8\",\"9\",\"10\",\"\\u0411\\u0440\\u044e\\u043a\\u0438\",\"11\",\"12\",\"13\",\"14\",\"15\",\"16\",\"17\",\"18\",\"19\",\"20\",\"21\",\"22\",\"\\u041a\\u0440\\u043e\\u0441\\u0441\\u043e\\u0432\\u043a\\u0438\",\"23\",\"24\",\"25\",\"26\",\"27\",\"28\",\"29\",\"\\u0420\\u0443\\u0431\\u0430\\u0448\\u043a\\u0430\",\"30\",\"31\",\"32\",\"33\",\"34\",\"35\",\"36\",\"37\",\"38\",\"39\",\"40\",\"41\",\"42\",\"43\",\"44\",\"45\",\"46\",\"47\",\"48\",\"49\",\"50\",\"51\",\"52\",\"53\",\"54\",\"55\",\"56\",\"57\",\"58\",\"59\",\"60\",\"61\",\"62\",\"63\",\"64\",\"65\",\"66\",\"67\",\"68\",\"69\",\"70\",\"71\",\"72\",\"73\",\"74\",\"75\",\"76\",\"77\",\"78\",\"79\",\"80\",\"81\",\"82\",\"83\",\"84\",\"85\",\"86\"],\"x\":[0.6104865668965419,0.32014488123458096,-0.007735847529257562,0.7079081582653527,0.024046215931090367,0.6392461872935489,0.0755724223531609,-0.08184605896850079,0.1032022287437986,-0.7111590400471549,0.831753565210634,-0.006453108687066113,0.573610085914323,0.39164356654591126,0.5935155211934396,-0.12342399425145735,0.19652878609519595,-0.2967742866708958,-0.08591440695155304,-0.26499204565631235,0.502002719776223,1.0,0.19836753757031583,0.21382664628828565,0.9317809452398874,0.7355848077735596,-0.33337214342791904,0.31929189211017056,0.7367699769888194,-0.1240635900380212,-0.4756262665722607,-0.8237010718560178,-0.8596175730254467,-0.4523896972738557,-0.7017131353867465,0.1885334642783506,-0.295606301134811,-0.06434827289795328,-0.9224675230914722,-0.8573728805211852,-0.49160191244360474,-0.011821590461632881,-0.6598474337609156,-0.0593077016772453,-0.8538838821162985,-0.17894407667381076,0.33326116221238083,0.464844809852695,-0.23619681820410957,0.6365891645565944,-0.1609877086410419,0.07974000086177345,-0.9700443822282607,-0.7837189687996712,0.8406333084424334,-0.9691694740638839,-0.7004053992818762,0.47897490722081343,0.5808985654008116,-0.3674194505614277,-0.6745559286786605,0.05765456305532398,-0.49216186052612665,-0.031124490819180735,-0.5195487328266136,0.8035272405264935,0.6458755378304271,0.15969527452386778,-0.8307876569553826,0.2249900198256324,0.7204349063521324,-0.24957216628009288,-0.6096053622288538,-0.5917376569473755,0.27180609059169886,-0.45038138130893135,-0.7174956799280746,-0.6601772179218354,0.4112025978181369,0.069548385201648,0.024061203968688164,-0.13195451035810693,-0.4133293030503874,0.3729404069365287,-0.6418406244848937,-0.4873608630446449,0.8628518989990979,0.46964451562324716,0.728358335797966,0.8057768162174864,0.39706469557975016,0.5807212410066799,0.35200433251309216,-0.3314052132920918,0.4980485349343194],\"y\":[0.02060208157384822,0.12531681289885918,0.04552355661751919,0.1908346597381259,0.02846084467835585,-0.5969852677462606,0.3927688519325817,-0.01206092734226403,0.8102443195434567,0.3532273199983039,0.08575622309019115,0.016099759028550924,0.19124399134896097,0.38117531421431583,-0.4187326648009878,0.9005027780645067,0.14429629365570598,0.8467002083731299,0.6960946125443547,-0.38986508299894346,-0.09798092326661349,0.4817990159566635,0.8914372021390844,-0.4405939207956698,-0.06183004435557844,-0.4758008187086457,0.4165195191416935,-0.7719681240602855,0.35901538792648147,0.014810653102938578,0.5424695275112436,0.13821703644667466,-0.4112785236751556,0.7531398480405189,0.2083402313798883,0.6730376488303779,-0.8900006474804696,-0.06444422852132148,0.2960464380869163,-0.28242118612601874,-0.8164773123512006,0.8419834029232618,-0.3912123109581548,-0.5590010954187707,0.46007612246718943,-0.7229502747663017,0.8366732621147684,-0.7163339227206142,0.7232012906978623,0.6371547064329786,-0.9084976252742167,-0.638769419626111,0.09911212046669816,-0.180043957080988,0.22874363863570685,-0.10604690416622906,0.5032648175527219,0.5803556152286117,0.5207185313146759,-0.7650778890692067,0.013920996623943645,0.5835381063651679,0.1739395873060903,-0.917611136639237,-0.427646782778844,-0.3514267967033002,-0.28097211258656823,-0.914058822409226,-0.03265317977075769,-0.6623743068489396,-0.15614180994925633,-0.5428468822954011,0.6103178674471752,-0.7219954062236088,0.5153330370280007,-0.5865563739808214,-0.5221481720708693,-0.5998466386882986,-0.2402124795766836,-0.7932278704421947,-0.4330693077502693,0.5069856613504305,-0.18142436830834482,0.6833628407772404,-0.18783420326395464,0.3487925801263461,-0.22183713844348438,0.7555777394976962,0.47998732831002866,-0.03884481866604147,-0.40830189811889905,0.3678527639021662,-0.5839207092998213,0.6148962554036044,-0.5661441217108641],\"type\":\"scatter\"}],                        {\"annotations\":[{\"showarrow\":false,\"text\":\"Python code: \\u003ca href='https:\\u002f\\u002fplotly.com\\u002fipython-notebooks\\u002fnetwork-graphs\\u002f'\\u003e https:\\u002f\\u002fplotly.com\\u002fipython-notebooks\\u002fnetwork-graphs\\u002f\\u003c\\u002fa\\u003e\",\"x\":0.005,\"xref\":\"paper\",\"y\":-0.002,\"yref\":\"paper\"}],\"hovermode\":\"closest\",\"margin\":{\"b\":20,\"l\":5,\"r\":5,\"t\":40},\"showlegend\":false,\"title\":{\"font\":{\"size\":16},\"text\":\"\\u003cbr\\u003eNetwork graph made with Python\"},\"xaxis\":{\"showgrid\":false,\"showticklabels\":false,\"zeroline\":false},\"yaxis\":{\"showgrid\":false,\"showticklabels\":false,\"zeroline\":false},\"template\":{\"data\":{\"histogram2dcontour\":[{\"type\":\"histogram2dcontour\",\"colorbar\":{\"outlinewidth\":0,\"ticks\":\"\"},\"colorscale\":[[0.0,\"#0d0887\"],[0.1111111111111111,\"#46039f\"],[0.2222222222222222,\"#7201a8\"],[0.3333333333333333,\"#9c179e\"],[0.4444444444444444,\"#bd3786\"],[0.5555555555555556,\"#d8576b\"],[0.6666666666666666,\"#ed7953\"],[0.7777777777777778,\"#fb9f3a\"],[0.8888888888888888,\"#fdca26\"],[1.0,\"#f0f921\"]]}],\"choropleth\":[{\"type\":\"choropleth\",\"colorbar\":{\"outlinewidth\":0,\"ticks\":\"\"}}],\"histogram2d\":[{\"type\":\"histogram2d\",\"colorbar\":{\"outlinewidth\":0,\"ticks\":\"\"},\"colorscale\":[[0.0,\"#0d0887\"],[0.1111111111111111,\"#46039f\"],[0.2222222222222222,\"#7201a8\"],[0.3333333333333333,\"#9c179e\"],[0.4444444444444444,\"#bd3786\"],[0.5555555555555556,\"#d8576b\"],[0.6666666666666666,\"#ed7953\"],[0.7777777777777778,\"#fb9f3a\"],[0.8888888888888888,\"#fdca26\"],[1.0,\"#f0f921\"]]}],\"heatmap\":[{\"type\":\"heatmap\",\"colorbar\":{\"outlinewidth\":0,\"ticks\":\"\"},\"colorscale\":[[0.0,\"#0d0887\"],[0.1111111111111111,\"#46039f\"],[0.2222222222222222,\"#7201a8\"],[0.3333333333333333,\"#9c179e\"],[0.4444444444444444,\"#bd3786\"],[0.5555555555555556,\"#d8576b\"],[0.6666666666666666,\"#ed7953\"],[0.7777777777777778,\"#fb9f3a\"],[0.8888888888888888,\"#fdca26\"],[1.0,\"#f0f921\"]]}],\"heatmapgl\":[{\"type\":\"heatmapgl\",\"colorbar\":{\"outlinewidth\":0,\"ticks\":\"\"},\"colorscale\":[[0.0,\"#0d0887\"],[0.1111111111111111,\"#46039f\"],[0.2222222222222222,\"#7201a8\"],[0.3333333333333333,\"#9c179e\"],[0.4444444444444444,\"#bd3786\"],[0.5555555555555556,\"#d8576b\"],[0.6666666666666666,\"#ed7953\"],[0.7777777777777778,\"#fb9f3a\"],[0.8888888888888888,\"#fdca26\"],[1.0,\"#f0f921\"]]}],\"contourcarpet\":[{\"type\":\"contourcarpet\",\"colorbar\":{\"outlinewidth\":0,\"ticks\":\"\"}}],\"contour\":[{\"type\":\"contour\",\"colorbar\":{\"outlinewidth\":0,\"ticks\":\"\"},\"colorscale\":[[0.0,\"#0d0887\"],[0.1111111111111111,\"#46039f\"],[0.2222222222222222,\"#7201a8\"],[0.3333333333333333,\"#9c179e\"],[0.4444444444444444,\"#bd3786\"],[0.5555555555555556,\"#d8576b\"],[0.6666666666666666,\"#ed7953\"],[0.7777777777777778,\"#fb9f3a\"],[0.8888888888888888,\"#fdca26\"],[1.0,\"#f0f921\"]]}],\"surface\":[{\"type\":\"surface\",\"colorbar\":{\"outlinewidth\":0,\"ticks\":\"\"},\"colorscale\":[[0.0,\"#0d0887\"],[0.1111111111111111,\"#46039f\"],[0.2222222222222222,\"#7201a8\"],[0.3333333333333333,\"#9c179e\"],[0.4444444444444444,\"#bd3786\"],[0.5555555555555556,\"#d8576b\"],[0.6666666666666666,\"#ed7953\"],[0.7777777777777778,\"#fb9f3a\"],[0.8888888888888888,\"#fdca26\"],[1.0,\"#f0f921\"]]}],\"mesh3d\":[{\"type\":\"mesh3d\",\"colorbar\":{\"outlinewidth\":0,\"ticks\":\"\"}}],\"scatter\":[{\"fillpattern\":{\"fillmode\":\"overlay\",\"size\":10,\"solidity\":0.2},\"type\":\"scatter\"}],\"parcoords\":[{\"type\":\"parcoords\",\"line\":{\"colorbar\":{\"outlinewidth\":0,\"ticks\":\"\"}}}],\"scatterpolargl\":[{\"type\":\"scatterpolargl\",\"marker\":{\"colorbar\":{\"outlinewidth\":0,\"ticks\":\"\"}}}],\"bar\":[{\"error_x\":{\"color\":\"#2a3f5f\"},\"error_y\":{\"color\":\"#2a3f5f\"},\"marker\":{\"line\":{\"color\":\"#E5ECF6\",\"width\":0.5},\"pattern\":{\"fillmode\":\"overlay\",\"size\":10,\"solidity\":0.2}},\"type\":\"bar\"}],\"scattergeo\":[{\"type\":\"scattergeo\",\"marker\":{\"colorbar\":{\"outlinewidth\":0,\"ticks\":\"\"}}}],\"scatterpolar\":[{\"type\":\"scatterpolar\",\"marker\":{\"colorbar\":{\"outlinewidth\":0,\"ticks\":\"\"}}}],\"histogram\":[{\"marker\":{\"pattern\":{\"fillmode\":\"overlay\",\"size\":10,\"solidity\":0.2}},\"type\":\"histogram\"}],\"scattergl\":[{\"type\":\"scattergl\",\"marker\":{\"colorbar\":{\"outlinewidth\":0,\"ticks\":\"\"}}}],\"scatter3d\":[{\"type\":\"scatter3d\",\"line\":{\"colorbar\":{\"outlinewidth\":0,\"ticks\":\"\"}},\"marker\":{\"colorbar\":{\"outlinewidth\":0,\"ticks\":\"\"}}}],\"scattermapbox\":[{\"type\":\"scattermapbox\",\"marker\":{\"colorbar\":{\"outlinewidth\":0,\"ticks\":\"\"}}}],\"scatterternary\":[{\"type\":\"scatterternary\",\"marker\":{\"colorbar\":{\"outlinewidth\":0,\"ticks\":\"\"}}}],\"scattercarpet\":[{\"type\":\"scattercarpet\",\"marker\":{\"colorbar\":{\"outlinewidth\":0,\"ticks\":\"\"}}}],\"carpet\":[{\"aaxis\":{\"endlinecolor\":\"#2a3f5f\",\"gridcolor\":\"white\",\"linecolor\":\"white\",\"minorgridcolor\":\"white\",\"startlinecolor\":\"#2a3f5f\"},\"baxis\":{\"endlinecolor\":\"#2a3f5f\",\"gridcolor\":\"white\",\"linecolor\":\"white\",\"minorgridcolor\":\"white\",\"startlinecolor\":\"#2a3f5f\"},\"type\":\"carpet\"}],\"table\":[{\"cells\":{\"fill\":{\"color\":\"#EBF0F8\"},\"line\":{\"color\":\"white\"}},\"header\":{\"fill\":{\"color\":\"#C8D4E3\"},\"line\":{\"color\":\"white\"}},\"type\":\"table\"}],\"barpolar\":[{\"marker\":{\"line\":{\"color\":\"#E5ECF6\",\"width\":0.5},\"pattern\":{\"fillmode\":\"overlay\",\"size\":10,\"solidity\":0.2}},\"type\":\"barpolar\"}],\"pie\":[{\"automargin\":true,\"type\":\"pie\"}]},\"layout\":{\"autotypenumbers\":\"strict\",\"colorway\":[\"#636efa\",\"#EF553B\",\"#00cc96\",\"#ab63fa\",\"#FFA15A\",\"#19d3f3\",\"#FF6692\",\"#B6E880\",\"#FF97FF\",\"#FECB52\"],\"font\":{\"color\":\"#2a3f5f\"},\"hovermode\":\"closest\",\"hoverlabel\":{\"align\":\"left\"},\"paper_bgcolor\":\"white\",\"plot_bgcolor\":\"#E5ECF6\",\"polar\":{\"bgcolor\":\"#E5ECF6\",\"angularaxis\":{\"gridcolor\":\"white\",\"linecolor\":\"white\",\"ticks\":\"\"},\"radialaxis\":{\"gridcolor\":\"white\",\"linecolor\":\"white\",\"ticks\":\"\"}},\"ternary\":{\"bgcolor\":\"#E5ECF6\",\"aaxis\":{\"gridcolor\":\"white\",\"linecolor\":\"white\",\"ticks\":\"\"},\"baxis\":{\"gridcolor\":\"white\",\"linecolor\":\"white\",\"ticks\":\"\"},\"caxis\":{\"gridcolor\":\"white\",\"linecolor\":\"white\",\"ticks\":\"\"}},\"coloraxis\":{\"colorbar\":{\"outlinewidth\":0,\"ticks\":\"\"}},\"colorscale\":{\"sequential\":[[0.0,\"#0d0887\"],[0.1111111111111111,\"#46039f\"],[0.2222222222222222,\"#7201a8\"],[0.3333333333333333,\"#9c179e\"],[0.4444444444444444,\"#bd3786\"],[0.5555555555555556,\"#d8576b\"],[0.6666666666666666,\"#ed7953\"],[0.7777777777777778,\"#fb9f3a\"],[0.8888888888888888,\"#fdca26\"],[1.0,\"#f0f921\"]],\"sequentialminus\":[[0.0,\"#0d0887\"],[0.1111111111111111,\"#46039f\"],[0.2222222222222222,\"#7201a8\"],[0.3333333333333333,\"#9c179e\"],[0.4444444444444444,\"#bd3786\"],[0.5555555555555556,\"#d8576b\"],[0.6666666666666666,\"#ed7953\"],[0.7777777777777778,\"#fb9f3a\"],[0.8888888888888888,\"#fdca26\"],[1.0,\"#f0f921\"]],\"diverging\":[[0,\"#8e0152\"],[0.1,\"#c51b7d\"],[0.2,\"#de77ae\"],[0.3,\"#f1b6da\"],[0.4,\"#fde0ef\"],[0.5,\"#f7f7f7\"],[0.6,\"#e6f5d0\"],[0.7,\"#b8e186\"],[0.8,\"#7fbc41\"],[0.9,\"#4d9221\"],[1,\"#276419\"]]},\"xaxis\":{\"gridcolor\":\"white\",\"linecolor\":\"white\",\"ticks\":\"\",\"title\":{\"standoff\":15},\"zerolinecolor\":\"white\",\"automargin\":true,\"zerolinewidth\":2},\"yaxis\":{\"gridcolor\":\"white\",\"linecolor\":\"white\",\"ticks\":\"\",\"title\":{\"standoff\":15},\"zerolinecolor\":\"white\",\"automargin\":true,\"zerolinewidth\":2},\"scene\":{\"xaxis\":{\"backgroundcolor\":\"#E5ECF6\",\"gridcolor\":\"white\",\"linecolor\":\"white\",\"showbackground\":true,\"ticks\":\"\",\"zerolinecolor\":\"white\",\"gridwidth\":2},\"yaxis\":{\"backgroundcolor\":\"#E5ECF6\",\"gridcolor\":\"white\",\"linecolor\":\"white\",\"showbackground\":true,\"ticks\":\"\",\"zerolinecolor\":\"white\",\"gridwidth\":2},\"zaxis\":{\"backgroundcolor\":\"#E5ECF6\",\"gridcolor\":\"white\",\"linecolor\":\"white\",\"showbackground\":true,\"ticks\":\"\",\"zerolinecolor\":\"white\",\"gridwidth\":2}},\"shapedefaults\":{\"line\":{\"color\":\"#2a3f5f\"}},\"annotationdefaults\":{\"arrowcolor\":\"#2a3f5f\",\"arrowhead\":0,\"arrowwidth\":1},\"geo\":{\"bgcolor\":\"white\",\"landcolor\":\"#E5ECF6\",\"subunitcolor\":\"white\",\"showland\":true,\"showlakes\":true,\"lakecolor\":\"white\"},\"title\":{\"x\":0.05},\"mapbox\":{\"style\":\"light\"}}}},                        {\"responsive\": true}                    ).then(function(){\n",
       "                            \n",
       "var gd = document.getElementById('cc15a90d-bc38-420d-a4a1-426bc3f96ab0');\n",
       "var x = new MutationObserver(function (mutations, observer) {{\n",
       "        var display = window.getComputedStyle(gd).display;\n",
       "        if (!display || display === 'none') {{\n",
       "            console.log([gd, 'removed!']);\n",
       "            Plotly.purge(gd);\n",
       "            observer.disconnect();\n",
       "        }}\n",
       "}});\n",
       "\n",
       "// Listen for the removal of the full notebook cells\n",
       "var notebookContainer = gd.closest('#notebook-container');\n",
       "if (notebookContainer) {{\n",
       "    x.observe(notebookContainer, {childList: true});\n",
       "}}\n",
       "\n",
       "// Listen for the clearing of the current output cell\n",
       "var outputEl = gd.closest('.output');\n",
       "if (outputEl) {{\n",
       "    x.observe(outputEl, {childList: true});\n",
       "}}\n",
       "\n",
       "                        })                };                });            </script>        </div>"
      ]
     },
     "metadata": {},
     "output_type": "display_data",
     "jetTransient": {
      "display_id": null
     }
    }
   ],
   "execution_count": 123
  },
  {
   "metadata": {
    "ExecuteTime": {
     "end_time": "2025-09-26T06:51:10.496592Z",
     "start_time": "2025-09-26T06:51:10.453732Z"
    }
   },
   "cell_type": "code",
   "source": [
    "freqItemSet, rules = fpgrowth(transactions, minSupRatio=min_sup, minConf=0.8)\n",
    "rules = [rule for rule in rules if len(rule[1]) == 1]\n",
    "output_fpgrowth(rules)"
   ],
   "id": "2165fdebec3463a1",
   "outputs": [
    {
     "name": "stdout",
     "output_type": "stream",
     "text": [
      "0: {'Сумка', 'Шапка'} -> {'Джинсы'}  Support = 0.200 Confidence = 1.000 Lift = 1.429\n",
      "1: {'Куртка', 'Шапка'} -> {'Джинсы'}  Support = 0.200 Confidence = 1.000 Lift = 1.429\n",
      "2: {'Футболка', 'Шапка'} -> {'Джинсы'}  Support = 0.200 Confidence = 1.000 Lift = 1.429\n",
      "3: {'Шапка'} -> {'Джинсы'}  Support = 0.300 Confidence = 1.000 Lift = 1.429\n",
      "4: {'Футболка', 'Брюки', 'Сумка'} -> {'Джинсы'}  Support = 0.200 Confidence = 1.000 Lift = 1.429\n",
      "5: {'Джинсы', 'Брюки', 'Сумка'} -> {'Футболка'}  Support = 0.200 Confidence = 1.000 Lift = 1.429\n",
      "6: {'Футболка', 'Брюки'} -> {'Джинсы'}  Support = 0.300 Confidence = 0.857 Lift = 1.224\n",
      "7: {'Джинсы', 'Брюки'} -> {'Футболка'}  Support = 0.300 Confidence = 1.000 Lift = 1.429\n",
      "8: {'Брюки'} -> {'Футболка'}  Support = 0.350 Confidence = 0.875 Lift = 1.250\n",
      "9: {'Сумка', 'Кроссовки'} -> {'Футболка'}  Support = 0.200 Confidence = 1.000 Lift = 1.429\n",
      "10: {'Сумка', 'Кроссовки'} -> {'Куртка'}  Support = 0.200 Confidence = 1.000 Lift = 1.667\n",
      "11: {'Футболка', 'Сумка', 'Кроссовки'} -> {'Куртка'}  Support = 0.200 Confidence = 1.000 Lift = 1.667\n",
      "12: {'Куртка', 'Сумка', 'Кроссовки'} -> {'Футболка'}  Support = 0.200 Confidence = 1.000 Lift = 1.429\n",
      "13: {'Рубашка', 'Кроссовки'} -> {'Куртка'}  Support = 0.250 Confidence = 0.833 Lift = 1.389\n",
      "14: {'Джинсы', 'Кроссовки'} -> {'Куртка'}  Support = 0.250 Confidence = 0.833 Lift = 1.389\n",
      "15: {'Футболка', 'Кроссовки'} -> {'Куртка'}  Support = 0.250 Confidence = 0.833 Lift = 1.389\n",
      "16: {'Кроссовки'} -> {'Куртка'}  Support = 0.400 Confidence = 0.889 Lift = 1.481\n",
      "17: {'Футболка', 'Рубашка', 'Сумка'} -> {'Куртка'}  Support = 0.200 Confidence = 1.000 Lift = 1.667\n",
      "18: {'Рубашка', 'Сумка'} -> {'Куртка'}  Support = 0.250 Confidence = 1.000 Lift = 1.667\n",
      "19: {'Футболка', 'Рубашка'} -> {'Джинсы'}  Support = 0.300 Confidence = 0.857 Lift = 1.224\n",
      "20: {'Рубашка', 'Джинсы'} -> {'Футболка'}  Support = 0.300 Confidence = 0.857 Lift = 1.224\n",
      "21: {'Куртка', 'Сумка'} -> {'Футболка'}  Support = 0.300 Confidence = 0.857 Lift = 1.224\n",
      "22: {'Куртка', 'Джинсы', 'Сумка'} -> {'Футболка'}  Support = 0.200 Confidence = 1.000 Lift = 1.429\n",
      "23: {'Джинсы', 'Сумка'} -> {'Футболка'}  Support = 0.300 Confidence = 0.857 Lift = 1.224\n"
     ]
    },
    {
     "data": {
      "application/vnd.plotly.v1+json": {
       "data": [
        {
         "marker": {
          "color": [
           1.4285714285714286,
           1.2499999999999998,
           1.4814814814814814
          ],
          "colorbar": {
           "title": {
            "text": "Lift"
           }
          },
          "colorscale": [
           [
            0.0,
            "rgb(243, 224, 247)"
           ],
           [
            0.16666666666666666,
            "rgb(228, 199, 241)"
           ],
           [
            0.3333333333333333,
            "rgb(209, 175, 232)"
           ],
           [
            0.5,
            "rgb(185, 152, 221)"
           ],
           [
            0.6666666666666666,
            "rgb(159, 130, 206)"
           ],
           [
            0.8333333333333334,
            "rgb(130, 109, 186)"
           ],
           [
            1.0,
            "rgb(99, 88, 159)"
           ]
          ]
         },
         "mode": "markers",
         "text": [
          "('Шапка',) => ('Джинсы',), Lift: 1.4285714285714286",
          "('Брюки',) => ('Футболка',), Lift: 1.2499999999999998",
          "('Кроссовки',) => ('Куртка',), Lift: 1.4814814814814814"
         ],
         "x": [
          0.3,
          0.35,
          0.4
         ],
         "y": [
          1.0,
          0.875,
          0.8888888888888888
         ],
         "type": "scatter"
        }
       ],
       "layout": {
        "template": {
         "data": {
          "histogram2dcontour": [
           {
            "type": "histogram2dcontour",
            "colorbar": {
             "outlinewidth": 0,
             "ticks": ""
            },
            "colorscale": [
             [
              0.0,
              "#0d0887"
             ],
             [
              0.1111111111111111,
              "#46039f"
             ],
             [
              0.2222222222222222,
              "#7201a8"
             ],
             [
              0.3333333333333333,
              "#9c179e"
             ],
             [
              0.4444444444444444,
              "#bd3786"
             ],
             [
              0.5555555555555556,
              "#d8576b"
             ],
             [
              0.6666666666666666,
              "#ed7953"
             ],
             [
              0.7777777777777778,
              "#fb9f3a"
             ],
             [
              0.8888888888888888,
              "#fdca26"
             ],
             [
              1.0,
              "#f0f921"
             ]
            ]
           }
          ],
          "choropleth": [
           {
            "type": "choropleth",
            "colorbar": {
             "outlinewidth": 0,
             "ticks": ""
            }
           }
          ],
          "histogram2d": [
           {
            "type": "histogram2d",
            "colorbar": {
             "outlinewidth": 0,
             "ticks": ""
            },
            "colorscale": [
             [
              0.0,
              "#0d0887"
             ],
             [
              0.1111111111111111,
              "#46039f"
             ],
             [
              0.2222222222222222,
              "#7201a8"
             ],
             [
              0.3333333333333333,
              "#9c179e"
             ],
             [
              0.4444444444444444,
              "#bd3786"
             ],
             [
              0.5555555555555556,
              "#d8576b"
             ],
             [
              0.6666666666666666,
              "#ed7953"
             ],
             [
              0.7777777777777778,
              "#fb9f3a"
             ],
             [
              0.8888888888888888,
              "#fdca26"
             ],
             [
              1.0,
              "#f0f921"
             ]
            ]
           }
          ],
          "heatmap": [
           {
            "type": "heatmap",
            "colorbar": {
             "outlinewidth": 0,
             "ticks": ""
            },
            "colorscale": [
             [
              0.0,
              "#0d0887"
             ],
             [
              0.1111111111111111,
              "#46039f"
             ],
             [
              0.2222222222222222,
              "#7201a8"
             ],
             [
              0.3333333333333333,
              "#9c179e"
             ],
             [
              0.4444444444444444,
              "#bd3786"
             ],
             [
              0.5555555555555556,
              "#d8576b"
             ],
             [
              0.6666666666666666,
              "#ed7953"
             ],
             [
              0.7777777777777778,
              "#fb9f3a"
             ],
             [
              0.8888888888888888,
              "#fdca26"
             ],
             [
              1.0,
              "#f0f921"
             ]
            ]
           }
          ],
          "heatmapgl": [
           {
            "type": "heatmapgl",
            "colorbar": {
             "outlinewidth": 0,
             "ticks": ""
            },
            "colorscale": [
             [
              0.0,
              "#0d0887"
             ],
             [
              0.1111111111111111,
              "#46039f"
             ],
             [
              0.2222222222222222,
              "#7201a8"
             ],
             [
              0.3333333333333333,
              "#9c179e"
             ],
             [
              0.4444444444444444,
              "#bd3786"
             ],
             [
              0.5555555555555556,
              "#d8576b"
             ],
             [
              0.6666666666666666,
              "#ed7953"
             ],
             [
              0.7777777777777778,
              "#fb9f3a"
             ],
             [
              0.8888888888888888,
              "#fdca26"
             ],
             [
              1.0,
              "#f0f921"
             ]
            ]
           }
          ],
          "contourcarpet": [
           {
            "type": "contourcarpet",
            "colorbar": {
             "outlinewidth": 0,
             "ticks": ""
            }
           }
          ],
          "contour": [
           {
            "type": "contour",
            "colorbar": {
             "outlinewidth": 0,
             "ticks": ""
            },
            "colorscale": [
             [
              0.0,
              "#0d0887"
             ],
             [
              0.1111111111111111,
              "#46039f"
             ],
             [
              0.2222222222222222,
              "#7201a8"
             ],
             [
              0.3333333333333333,
              "#9c179e"
             ],
             [
              0.4444444444444444,
              "#bd3786"
             ],
             [
              0.5555555555555556,
              "#d8576b"
             ],
             [
              0.6666666666666666,
              "#ed7953"
             ],
             [
              0.7777777777777778,
              "#fb9f3a"
             ],
             [
              0.8888888888888888,
              "#fdca26"
             ],
             [
              1.0,
              "#f0f921"
             ]
            ]
           }
          ],
          "surface": [
           {
            "type": "surface",
            "colorbar": {
             "outlinewidth": 0,
             "ticks": ""
            },
            "colorscale": [
             [
              0.0,
              "#0d0887"
             ],
             [
              0.1111111111111111,
              "#46039f"
             ],
             [
              0.2222222222222222,
              "#7201a8"
             ],
             [
              0.3333333333333333,
              "#9c179e"
             ],
             [
              0.4444444444444444,
              "#bd3786"
             ],
             [
              0.5555555555555556,
              "#d8576b"
             ],
             [
              0.6666666666666666,
              "#ed7953"
             ],
             [
              0.7777777777777778,
              "#fb9f3a"
             ],
             [
              0.8888888888888888,
              "#fdca26"
             ],
             [
              1.0,
              "#f0f921"
             ]
            ]
           }
          ],
          "mesh3d": [
           {
            "type": "mesh3d",
            "colorbar": {
             "outlinewidth": 0,
             "ticks": ""
            }
           }
          ],
          "scatter": [
           {
            "fillpattern": {
             "fillmode": "overlay",
             "size": 10,
             "solidity": 0.2
            },
            "type": "scatter"
           }
          ],
          "parcoords": [
           {
            "type": "parcoords",
            "line": {
             "colorbar": {
              "outlinewidth": 0,
              "ticks": ""
             }
            }
           }
          ],
          "scatterpolargl": [
           {
            "type": "scatterpolargl",
            "marker": {
             "colorbar": {
              "outlinewidth": 0,
              "ticks": ""
             }
            }
           }
          ],
          "bar": [
           {
            "error_x": {
             "color": "#2a3f5f"
            },
            "error_y": {
             "color": "#2a3f5f"
            },
            "marker": {
             "line": {
              "color": "#E5ECF6",
              "width": 0.5
             },
             "pattern": {
              "fillmode": "overlay",
              "size": 10,
              "solidity": 0.2
             }
            },
            "type": "bar"
           }
          ],
          "scattergeo": [
           {
            "type": "scattergeo",
            "marker": {
             "colorbar": {
              "outlinewidth": 0,
              "ticks": ""
             }
            }
           }
          ],
          "scatterpolar": [
           {
            "type": "scatterpolar",
            "marker": {
             "colorbar": {
              "outlinewidth": 0,
              "ticks": ""
             }
            }
           }
          ],
          "histogram": [
           {
            "marker": {
             "pattern": {
              "fillmode": "overlay",
              "size": 10,
              "solidity": 0.2
             }
            },
            "type": "histogram"
           }
          ],
          "scattergl": [
           {
            "type": "scattergl",
            "marker": {
             "colorbar": {
              "outlinewidth": 0,
              "ticks": ""
             }
            }
           }
          ],
          "scatter3d": [
           {
            "type": "scatter3d",
            "line": {
             "colorbar": {
              "outlinewidth": 0,
              "ticks": ""
             }
            },
            "marker": {
             "colorbar": {
              "outlinewidth": 0,
              "ticks": ""
             }
            }
           }
          ],
          "scattermapbox": [
           {
            "type": "scattermapbox",
            "marker": {
             "colorbar": {
              "outlinewidth": 0,
              "ticks": ""
             }
            }
           }
          ],
          "scatterternary": [
           {
            "type": "scatterternary",
            "marker": {
             "colorbar": {
              "outlinewidth": 0,
              "ticks": ""
             }
            }
           }
          ],
          "scattercarpet": [
           {
            "type": "scattercarpet",
            "marker": {
             "colorbar": {
              "outlinewidth": 0,
              "ticks": ""
             }
            }
           }
          ],
          "carpet": [
           {
            "aaxis": {
             "endlinecolor": "#2a3f5f",
             "gridcolor": "white",
             "linecolor": "white",
             "minorgridcolor": "white",
             "startlinecolor": "#2a3f5f"
            },
            "baxis": {
             "endlinecolor": "#2a3f5f",
             "gridcolor": "white",
             "linecolor": "white",
             "minorgridcolor": "white",
             "startlinecolor": "#2a3f5f"
            },
            "type": "carpet"
           }
          ],
          "table": [
           {
            "cells": {
             "fill": {
              "color": "#EBF0F8"
             },
             "line": {
              "color": "white"
             }
            },
            "header": {
             "fill": {
              "color": "#C8D4E3"
             },
             "line": {
              "color": "white"
             }
            },
            "type": "table"
           }
          ],
          "barpolar": [
           {
            "marker": {
             "line": {
              "color": "#E5ECF6",
              "width": 0.5
             },
             "pattern": {
              "fillmode": "overlay",
              "size": 10,
              "solidity": 0.2
             }
            },
            "type": "barpolar"
           }
          ],
          "pie": [
           {
            "automargin": true,
            "type": "pie"
           }
          ]
         },
         "layout": {
          "autotypenumbers": "strict",
          "colorway": [
           "#636efa",
           "#EF553B",
           "#00cc96",
           "#ab63fa",
           "#FFA15A",
           "#19d3f3",
           "#FF6692",
           "#B6E880",
           "#FF97FF",
           "#FECB52"
          ],
          "font": {
           "color": "#2a3f5f"
          },
          "hovermode": "closest",
          "hoverlabel": {
           "align": "left"
          },
          "paper_bgcolor": "white",
          "plot_bgcolor": "#E5ECF6",
          "polar": {
           "bgcolor": "#E5ECF6",
           "angularaxis": {
            "gridcolor": "white",
            "linecolor": "white",
            "ticks": ""
           },
           "radialaxis": {
            "gridcolor": "white",
            "linecolor": "white",
            "ticks": ""
           }
          },
          "ternary": {
           "bgcolor": "#E5ECF6",
           "aaxis": {
            "gridcolor": "white",
            "linecolor": "white",
            "ticks": ""
           },
           "baxis": {
            "gridcolor": "white",
            "linecolor": "white",
            "ticks": ""
           },
           "caxis": {
            "gridcolor": "white",
            "linecolor": "white",
            "ticks": ""
           }
          },
          "coloraxis": {
           "colorbar": {
            "outlinewidth": 0,
            "ticks": ""
           }
          },
          "colorscale": {
           "sequential": [
            [
             0.0,
             "#0d0887"
            ],
            [
             0.1111111111111111,
             "#46039f"
            ],
            [
             0.2222222222222222,
             "#7201a8"
            ],
            [
             0.3333333333333333,
             "#9c179e"
            ],
            [
             0.4444444444444444,
             "#bd3786"
            ],
            [
             0.5555555555555556,
             "#d8576b"
            ],
            [
             0.6666666666666666,
             "#ed7953"
            ],
            [
             0.7777777777777778,
             "#fb9f3a"
            ],
            [
             0.8888888888888888,
             "#fdca26"
            ],
            [
             1.0,
             "#f0f921"
            ]
           ],
           "sequentialminus": [
            [
             0.0,
             "#0d0887"
            ],
            [
             0.1111111111111111,
             "#46039f"
            ],
            [
             0.2222222222222222,
             "#7201a8"
            ],
            [
             0.3333333333333333,
             "#9c179e"
            ],
            [
             0.4444444444444444,
             "#bd3786"
            ],
            [
             0.5555555555555556,
             "#d8576b"
            ],
            [
             0.6666666666666666,
             "#ed7953"
            ],
            [
             0.7777777777777778,
             "#fb9f3a"
            ],
            [
             0.8888888888888888,
             "#fdca26"
            ],
            [
             1.0,
             "#f0f921"
            ]
           ],
           "diverging": [
            [
             0,
             "#8e0152"
            ],
            [
             0.1,
             "#c51b7d"
            ],
            [
             0.2,
             "#de77ae"
            ],
            [
             0.3,
             "#f1b6da"
            ],
            [
             0.4,
             "#fde0ef"
            ],
            [
             0.5,
             "#f7f7f7"
            ],
            [
             0.6,
             "#e6f5d0"
            ],
            [
             0.7,
             "#b8e186"
            ],
            [
             0.8,
             "#7fbc41"
            ],
            [
             0.9,
             "#4d9221"
            ],
            [
             1,
             "#276419"
            ]
           ]
          },
          "xaxis": {
           "gridcolor": "white",
           "linecolor": "white",
           "ticks": "",
           "title": {
            "standoff": 15
           },
           "zerolinecolor": "white",
           "automargin": true,
           "zerolinewidth": 2
          },
          "yaxis": {
           "gridcolor": "white",
           "linecolor": "white",
           "ticks": "",
           "title": {
            "standoff": 15
           },
           "zerolinecolor": "white",
           "automargin": true,
           "zerolinewidth": 2
          },
          "scene": {
           "xaxis": {
            "backgroundcolor": "#E5ECF6",
            "gridcolor": "white",
            "linecolor": "white",
            "showbackground": true,
            "ticks": "",
            "zerolinecolor": "white",
            "gridwidth": 2
           },
           "yaxis": {
            "backgroundcolor": "#E5ECF6",
            "gridcolor": "white",
            "linecolor": "white",
            "showbackground": true,
            "ticks": "",
            "zerolinecolor": "white",
            "gridwidth": 2
           },
           "zaxis": {
            "backgroundcolor": "#E5ECF6",
            "gridcolor": "white",
            "linecolor": "white",
            "showbackground": true,
            "ticks": "",
            "zerolinecolor": "white",
            "gridwidth": 2
           }
          },
          "shapedefaults": {
           "line": {
            "color": "#2a3f5f"
           }
          },
          "annotationdefaults": {
           "arrowcolor": "#2a3f5f",
           "arrowhead": 0,
           "arrowwidth": 1
          },
          "geo": {
           "bgcolor": "white",
           "landcolor": "#E5ECF6",
           "subunitcolor": "white",
           "showland": true,
           "showlakes": true,
           "lakecolor": "white"
          },
          "title": {
           "x": 0.05
          },
          "mapbox": {
           "style": "light"
          }
         }
        },
        "xaxis": {
         "title": {
          "text": "Support"
         },
         "autorange": "reversed"
        },
        "title": {
         "text": "Association Rules Strength Distribution"
        },
        "yaxis": {
         "title": {
          "text": "Confidence"
         }
        }
       },
       "config": {
        "plotlyServerURL": "https://plot.ly"
       }
      },
      "text/html": [
       "<div>                            <div id=\"3e6e91d2-2475-4e14-9263-071910fde1e1\" class=\"plotly-graph-div\" style=\"height:525px; width:100%;\"></div>            <script type=\"text/javascript\">                require([\"plotly\"], function(Plotly) {                    window.PLOTLYENV=window.PLOTLYENV || {};                                    if (document.getElementById(\"3e6e91d2-2475-4e14-9263-071910fde1e1\")) {                    Plotly.newPlot(                        \"3e6e91d2-2475-4e14-9263-071910fde1e1\",                        [{\"marker\":{\"color\":[1.4285714285714286,1.2499999999999998,1.4814814814814814],\"colorbar\":{\"title\":{\"text\":\"Lift\"}},\"colorscale\":[[0.0,\"rgb(243, 224, 247)\"],[0.16666666666666666,\"rgb(228, 199, 241)\"],[0.3333333333333333,\"rgb(209, 175, 232)\"],[0.5,\"rgb(185, 152, 221)\"],[0.6666666666666666,\"rgb(159, 130, 206)\"],[0.8333333333333334,\"rgb(130, 109, 186)\"],[1.0,\"rgb(99, 88, 159)\"]]},\"mode\":\"markers\",\"text\":[\"('\\u0428\\u0430\\u043f\\u043a\\u0430',) =\\u003e ('\\u0414\\u0436\\u0438\\u043d\\u0441\\u044b',), Lift: 1.4285714285714286\",\"('\\u0411\\u0440\\u044e\\u043a\\u0438',) =\\u003e ('\\u0424\\u0443\\u0442\\u0431\\u043e\\u043b\\u043a\\u0430',), Lift: 1.2499999999999998\",\"('\\u041a\\u0440\\u043e\\u0441\\u0441\\u043e\\u0432\\u043a\\u0438',) =\\u003e ('\\u041a\\u0443\\u0440\\u0442\\u043a\\u0430',), Lift: 1.4814814814814814\"],\"x\":[0.3,0.35,0.4],\"y\":[1.0,0.875,0.8888888888888888],\"type\":\"scatter\"}],                        {\"template\":{\"data\":{\"histogram2dcontour\":[{\"type\":\"histogram2dcontour\",\"colorbar\":{\"outlinewidth\":0,\"ticks\":\"\"},\"colorscale\":[[0.0,\"#0d0887\"],[0.1111111111111111,\"#46039f\"],[0.2222222222222222,\"#7201a8\"],[0.3333333333333333,\"#9c179e\"],[0.4444444444444444,\"#bd3786\"],[0.5555555555555556,\"#d8576b\"],[0.6666666666666666,\"#ed7953\"],[0.7777777777777778,\"#fb9f3a\"],[0.8888888888888888,\"#fdca26\"],[1.0,\"#f0f921\"]]}],\"choropleth\":[{\"type\":\"choropleth\",\"colorbar\":{\"outlinewidth\":0,\"ticks\":\"\"}}],\"histogram2d\":[{\"type\":\"histogram2d\",\"colorbar\":{\"outlinewidth\":0,\"ticks\":\"\"},\"colorscale\":[[0.0,\"#0d0887\"],[0.1111111111111111,\"#46039f\"],[0.2222222222222222,\"#7201a8\"],[0.3333333333333333,\"#9c179e\"],[0.4444444444444444,\"#bd3786\"],[0.5555555555555556,\"#d8576b\"],[0.6666666666666666,\"#ed7953\"],[0.7777777777777778,\"#fb9f3a\"],[0.8888888888888888,\"#fdca26\"],[1.0,\"#f0f921\"]]}],\"heatmap\":[{\"type\":\"heatmap\",\"colorbar\":{\"outlinewidth\":0,\"ticks\":\"\"},\"colorscale\":[[0.0,\"#0d0887\"],[0.1111111111111111,\"#46039f\"],[0.2222222222222222,\"#7201a8\"],[0.3333333333333333,\"#9c179e\"],[0.4444444444444444,\"#bd3786\"],[0.5555555555555556,\"#d8576b\"],[0.6666666666666666,\"#ed7953\"],[0.7777777777777778,\"#fb9f3a\"],[0.8888888888888888,\"#fdca26\"],[1.0,\"#f0f921\"]]}],\"heatmapgl\":[{\"type\":\"heatmapgl\",\"colorbar\":{\"outlinewidth\":0,\"ticks\":\"\"},\"colorscale\":[[0.0,\"#0d0887\"],[0.1111111111111111,\"#46039f\"],[0.2222222222222222,\"#7201a8\"],[0.3333333333333333,\"#9c179e\"],[0.4444444444444444,\"#bd3786\"],[0.5555555555555556,\"#d8576b\"],[0.6666666666666666,\"#ed7953\"],[0.7777777777777778,\"#fb9f3a\"],[0.8888888888888888,\"#fdca26\"],[1.0,\"#f0f921\"]]}],\"contourcarpet\":[{\"type\":\"contourcarpet\",\"colorbar\":{\"outlinewidth\":0,\"ticks\":\"\"}}],\"contour\":[{\"type\":\"contour\",\"colorbar\":{\"outlinewidth\":0,\"ticks\":\"\"},\"colorscale\":[[0.0,\"#0d0887\"],[0.1111111111111111,\"#46039f\"],[0.2222222222222222,\"#7201a8\"],[0.3333333333333333,\"#9c179e\"],[0.4444444444444444,\"#bd3786\"],[0.5555555555555556,\"#d8576b\"],[0.6666666666666666,\"#ed7953\"],[0.7777777777777778,\"#fb9f3a\"],[0.8888888888888888,\"#fdca26\"],[1.0,\"#f0f921\"]]}],\"surface\":[{\"type\":\"surface\",\"colorbar\":{\"outlinewidth\":0,\"ticks\":\"\"},\"colorscale\":[[0.0,\"#0d0887\"],[0.1111111111111111,\"#46039f\"],[0.2222222222222222,\"#7201a8\"],[0.3333333333333333,\"#9c179e\"],[0.4444444444444444,\"#bd3786\"],[0.5555555555555556,\"#d8576b\"],[0.6666666666666666,\"#ed7953\"],[0.7777777777777778,\"#fb9f3a\"],[0.8888888888888888,\"#fdca26\"],[1.0,\"#f0f921\"]]}],\"mesh3d\":[{\"type\":\"mesh3d\",\"colorbar\":{\"outlinewidth\":0,\"ticks\":\"\"}}],\"scatter\":[{\"fillpattern\":{\"fillmode\":\"overlay\",\"size\":10,\"solidity\":0.2},\"type\":\"scatter\"}],\"parcoords\":[{\"type\":\"parcoords\",\"line\":{\"colorbar\":{\"outlinewidth\":0,\"ticks\":\"\"}}}],\"scatterpolargl\":[{\"type\":\"scatterpolargl\",\"marker\":{\"colorbar\":{\"outlinewidth\":0,\"ticks\":\"\"}}}],\"bar\":[{\"error_x\":{\"color\":\"#2a3f5f\"},\"error_y\":{\"color\":\"#2a3f5f\"},\"marker\":{\"line\":{\"color\":\"#E5ECF6\",\"width\":0.5},\"pattern\":{\"fillmode\":\"overlay\",\"size\":10,\"solidity\":0.2}},\"type\":\"bar\"}],\"scattergeo\":[{\"type\":\"scattergeo\",\"marker\":{\"colorbar\":{\"outlinewidth\":0,\"ticks\":\"\"}}}],\"scatterpolar\":[{\"type\":\"scatterpolar\",\"marker\":{\"colorbar\":{\"outlinewidth\":0,\"ticks\":\"\"}}}],\"histogram\":[{\"marker\":{\"pattern\":{\"fillmode\":\"overlay\",\"size\":10,\"solidity\":0.2}},\"type\":\"histogram\"}],\"scattergl\":[{\"type\":\"scattergl\",\"marker\":{\"colorbar\":{\"outlinewidth\":0,\"ticks\":\"\"}}}],\"scatter3d\":[{\"type\":\"scatter3d\",\"line\":{\"colorbar\":{\"outlinewidth\":0,\"ticks\":\"\"}},\"marker\":{\"colorbar\":{\"outlinewidth\":0,\"ticks\":\"\"}}}],\"scattermapbox\":[{\"type\":\"scattermapbox\",\"marker\":{\"colorbar\":{\"outlinewidth\":0,\"ticks\":\"\"}}}],\"scatterternary\":[{\"type\":\"scatterternary\",\"marker\":{\"colorbar\":{\"outlinewidth\":0,\"ticks\":\"\"}}}],\"scattercarpet\":[{\"type\":\"scattercarpet\",\"marker\":{\"colorbar\":{\"outlinewidth\":0,\"ticks\":\"\"}}}],\"carpet\":[{\"aaxis\":{\"endlinecolor\":\"#2a3f5f\",\"gridcolor\":\"white\",\"linecolor\":\"white\",\"minorgridcolor\":\"white\",\"startlinecolor\":\"#2a3f5f\"},\"baxis\":{\"endlinecolor\":\"#2a3f5f\",\"gridcolor\":\"white\",\"linecolor\":\"white\",\"minorgridcolor\":\"white\",\"startlinecolor\":\"#2a3f5f\"},\"type\":\"carpet\"}],\"table\":[{\"cells\":{\"fill\":{\"color\":\"#EBF0F8\"},\"line\":{\"color\":\"white\"}},\"header\":{\"fill\":{\"color\":\"#C8D4E3\"},\"line\":{\"color\":\"white\"}},\"type\":\"table\"}],\"barpolar\":[{\"marker\":{\"line\":{\"color\":\"#E5ECF6\",\"width\":0.5},\"pattern\":{\"fillmode\":\"overlay\",\"size\":10,\"solidity\":0.2}},\"type\":\"barpolar\"}],\"pie\":[{\"automargin\":true,\"type\":\"pie\"}]},\"layout\":{\"autotypenumbers\":\"strict\",\"colorway\":[\"#636efa\",\"#EF553B\",\"#00cc96\",\"#ab63fa\",\"#FFA15A\",\"#19d3f3\",\"#FF6692\",\"#B6E880\",\"#FF97FF\",\"#FECB52\"],\"font\":{\"color\":\"#2a3f5f\"},\"hovermode\":\"closest\",\"hoverlabel\":{\"align\":\"left\"},\"paper_bgcolor\":\"white\",\"plot_bgcolor\":\"#E5ECF6\",\"polar\":{\"bgcolor\":\"#E5ECF6\",\"angularaxis\":{\"gridcolor\":\"white\",\"linecolor\":\"white\",\"ticks\":\"\"},\"radialaxis\":{\"gridcolor\":\"white\",\"linecolor\":\"white\",\"ticks\":\"\"}},\"ternary\":{\"bgcolor\":\"#E5ECF6\",\"aaxis\":{\"gridcolor\":\"white\",\"linecolor\":\"white\",\"ticks\":\"\"},\"baxis\":{\"gridcolor\":\"white\",\"linecolor\":\"white\",\"ticks\":\"\"},\"caxis\":{\"gridcolor\":\"white\",\"linecolor\":\"white\",\"ticks\":\"\"}},\"coloraxis\":{\"colorbar\":{\"outlinewidth\":0,\"ticks\":\"\"}},\"colorscale\":{\"sequential\":[[0.0,\"#0d0887\"],[0.1111111111111111,\"#46039f\"],[0.2222222222222222,\"#7201a8\"],[0.3333333333333333,\"#9c179e\"],[0.4444444444444444,\"#bd3786\"],[0.5555555555555556,\"#d8576b\"],[0.6666666666666666,\"#ed7953\"],[0.7777777777777778,\"#fb9f3a\"],[0.8888888888888888,\"#fdca26\"],[1.0,\"#f0f921\"]],\"sequentialminus\":[[0.0,\"#0d0887\"],[0.1111111111111111,\"#46039f\"],[0.2222222222222222,\"#7201a8\"],[0.3333333333333333,\"#9c179e\"],[0.4444444444444444,\"#bd3786\"],[0.5555555555555556,\"#d8576b\"],[0.6666666666666666,\"#ed7953\"],[0.7777777777777778,\"#fb9f3a\"],[0.8888888888888888,\"#fdca26\"],[1.0,\"#f0f921\"]],\"diverging\":[[0,\"#8e0152\"],[0.1,\"#c51b7d\"],[0.2,\"#de77ae\"],[0.3,\"#f1b6da\"],[0.4,\"#fde0ef\"],[0.5,\"#f7f7f7\"],[0.6,\"#e6f5d0\"],[0.7,\"#b8e186\"],[0.8,\"#7fbc41\"],[0.9,\"#4d9221\"],[1,\"#276419\"]]},\"xaxis\":{\"gridcolor\":\"white\",\"linecolor\":\"white\",\"ticks\":\"\",\"title\":{\"standoff\":15},\"zerolinecolor\":\"white\",\"automargin\":true,\"zerolinewidth\":2},\"yaxis\":{\"gridcolor\":\"white\",\"linecolor\":\"white\",\"ticks\":\"\",\"title\":{\"standoff\":15},\"zerolinecolor\":\"white\",\"automargin\":true,\"zerolinewidth\":2},\"scene\":{\"xaxis\":{\"backgroundcolor\":\"#E5ECF6\",\"gridcolor\":\"white\",\"linecolor\":\"white\",\"showbackground\":true,\"ticks\":\"\",\"zerolinecolor\":\"white\",\"gridwidth\":2},\"yaxis\":{\"backgroundcolor\":\"#E5ECF6\",\"gridcolor\":\"white\",\"linecolor\":\"white\",\"showbackground\":true,\"ticks\":\"\",\"zerolinecolor\":\"white\",\"gridwidth\":2},\"zaxis\":{\"backgroundcolor\":\"#E5ECF6\",\"gridcolor\":\"white\",\"linecolor\":\"white\",\"showbackground\":true,\"ticks\":\"\",\"zerolinecolor\":\"white\",\"gridwidth\":2}},\"shapedefaults\":{\"line\":{\"color\":\"#2a3f5f\"}},\"annotationdefaults\":{\"arrowcolor\":\"#2a3f5f\",\"arrowhead\":0,\"arrowwidth\":1},\"geo\":{\"bgcolor\":\"white\",\"landcolor\":\"#E5ECF6\",\"subunitcolor\":\"white\",\"showland\":true,\"showlakes\":true,\"lakecolor\":\"white\"},\"title\":{\"x\":0.05},\"mapbox\":{\"style\":\"light\"}}},\"xaxis\":{\"title\":{\"text\":\"Support\"},\"autorange\":\"reversed\"},\"title\":{\"text\":\"Association Rules Strength Distribution\"},\"yaxis\":{\"title\":{\"text\":\"Confidence\"}}},                        {\"responsive\": true}                    ).then(function(){\n",
       "                            \n",
       "var gd = document.getElementById('3e6e91d2-2475-4e14-9263-071910fde1e1');\n",
       "var x = new MutationObserver(function (mutations, observer) {{\n",
       "        var display = window.getComputedStyle(gd).display;\n",
       "        if (!display || display === 'none') {{\n",
       "            console.log([gd, 'removed!']);\n",
       "            Plotly.purge(gd);\n",
       "            observer.disconnect();\n",
       "        }}\n",
       "}});\n",
       "\n",
       "// Listen for the removal of the full notebook cells\n",
       "var notebookContainer = gd.closest('#notebook-container');\n",
       "if (notebookContainer) {{\n",
       "    x.observe(notebookContainer, {childList: true});\n",
       "}}\n",
       "\n",
       "// Listen for the clearing of the current output cell\n",
       "var outputEl = gd.closest('.output');\n",
       "if (outputEl) {{\n",
       "    x.observe(outputEl, {childList: true});\n",
       "}}\n",
       "\n",
       "                        })                };                });            </script>        </div>"
      ]
     },
     "metadata": {},
     "output_type": "display_data",
     "jetTransient": {
      "display_id": null
     }
    },
    {
     "data": {
      "application/vnd.plotly.v1+json": {
       "data": [
        {
         "hoverinfo": "none",
         "line": {
          "color": "#888",
          "width": 0.5
         },
         "mode": "lines",
         "x": [
          -0.10022907176224079,
          0.161539595806043,
          null,
          0.014027838396105429,
          -0.10022907176224079,
          null,
          0.014027838396105429,
          0.37022616006085757,
          null,
          0.014027838396105429,
          0.1315852584159321,
          null,
          0.014027838396105429,
          -0.8265093547887448,
          null,
          0.014027838396105429,
          0.5478193918134733,
          null,
          0.014027838396105429,
          -0.19259958469315297,
          null,
          0.014027838396105429,
          0.43588531901573885,
          null,
          0.014027838396105429,
          0.6671410283079953,
          null,
          0.014027838396105429,
          -0.7381610331906284,
          null,
          0.014027838396105429,
          -0.38970837130183217,
          null,
          0.014027838396105429,
          0.8811455384071567,
          null,
          0.014027838396105429,
          0.7198112988281219,
          null,
          -0.12198743301964739,
          -0.10022907176224079,
          null,
          -0.12198743301964739,
          -0.5156307019878812,
          null,
          -0.12198743301964739,
          0.7277012921969805,
          null,
          -0.12198743301964739,
          -0.3704349204183092,
          null,
          0.161539595806043,
          0.1315852584159321,
          null,
          0.161539595806043,
          -0.8609075521184831,
          null,
          0.161539595806043,
          -0.4827923924282737,
          null,
          0.161539595806043,
          0.9012201068058129,
          null,
          0.161539595806043,
          0.8811455384071567,
          null,
          0.161539595806043,
          0.7198112988281219,
          null,
          -0.5156307019878812,
          0.161539595806043,
          null,
          0.03967071399406663,
          -0.5156307019878812,
          null,
          0.03967071399406663,
          0.43588531901573885,
          null,
          0.03967071399406663,
          -0.38970837130183217,
          null,
          0.03967071399406663,
          0.8811455384071567,
          null,
          0.7277012921969805,
          0.161539595806043,
          null,
          0.07674301257464354,
          0.7277012921969805,
          null,
          0.07674301257464354,
          0.37022616006085757,
          null,
          0.07674301257464354,
          -0.6395930522209905,
          null,
          0.07674301257464354,
          -0.19259958469315297,
          null,
          0.07674301257464354,
          0.07236846607279077,
          null,
          0.07674301257464354,
          0.6671410283079953,
          null,
          0.07674301257464354,
          -0.5713593903221387,
          null,
          -0.3704349204183092,
          0.161539595806043,
          null,
          0.37022616006085757,
          0.161539595806043,
          null,
          -0.4065700353969809,
          0.37022616006085757,
          null,
          -0.4065700353969809,
          0.1315852584159321,
          null,
          -0.4065700353969809,
          -0.6395930522209905,
          null,
          -0.4065700353969809,
          -0.8609075521184831,
          null,
          -0.4065700353969809,
          -0.713274935505434,
          null,
          0.1315852584159321,
          0.07674301257464354,
          null,
          -0.6395930522209905,
          0.161539595806043,
          null,
          -0.8609075521184831,
          0.07674301257464354,
          null,
          -0.713274935505434,
          0.07674301257464354,
          null,
          -0.8265093547887448,
          0.07674301257464354,
          null,
          0.0067440942051540664,
          -0.8265093547887448,
          null,
          0.0067440942051540664,
          0.5478193918134733,
          null,
          0.0067440942051540664,
          -0.19259958469315297,
          null,
          0.0067440942051540664,
          0.43588531901573885,
          null,
          0.0067440942051540664,
          0.30689481970728844,
          null,
          0.0067440942051540664,
          -0.4827923924282737,
          null,
          0.0067440942051540664,
          0.07236846607279077,
          null,
          0.0067440942051540664,
          0.8138119407396964,
          null,
          0.5478193918134733,
          0.03967071399406663,
          null,
          -0.19259958469315297,
          0.03967071399406663,
          null,
          0.43588531901573885,
          0.07674301257464354,
          null,
          0.30689481970728844,
          0.03967071399406663,
          null,
          0.05542195380688144,
          0.30689481970728844,
          null,
          0.05542195380688144,
          0.6671410283079953,
          null,
          0.05542195380688144,
          -0.7381610331906284,
          null,
          0.05542195380688144,
          -0.5713593903221387,
          null,
          0.05542195380688144,
          0.9012201068058129,
          null,
          -0.4827923924282737,
          0.03967071399406663,
          null,
          0.07236846607279077,
          0.03967071399406663,
          null,
          0.8138119407396964,
          0.03967071399406663,
          null,
          0.6671410283079953,
          0.03967071399406663,
          null,
          -0.7381610331906284,
          0.03967071399406663,
          null,
          -0.5713593903221387,
          0.161539595806043,
          null,
          0.9012201068058129,
          0.07674301257464354,
          null,
          -0.38970837130183217,
          0.07674301257464354,
          null,
          0.8811455384071567,
          0.07674301257464354,
          null,
          0.7198112988281219,
          0.07674301257464354,
          null
         ],
         "y": [
          1.0,
          0.054104924332030145,
          null,
          0.0528459391934233,
          1.0,
          null,
          0.0528459391934233,
          0.9360762112702228,
          null,
          0.0528459391934233,
          0.7477940715145194,
          null,
          0.0528459391934233,
          0.3630950477319133,
          null,
          0.0528459391934233,
          -0.8204670009110016,
          null,
          0.0528459391934233,
          -0.9442693100401877,
          null,
          0.0528459391934233,
          0.5799993495612182,
          null,
          0.0528459391934233,
          -0.6020725827928515,
          null,
          0.0528459391934233,
          -0.6222628858931591,
          null,
          0.0528459391934233,
          -0.5519582246821755,
          null,
          0.0528459391934233,
          -0.1042341177828973,
          null,
          0.0528459391934233,
          0.36565585826480723,
          null,
          0.7148864883989102,
          1.0,
          null,
          0.7148864883989102,
          -0.025096933778619317,
          null,
          0.7148864883989102,
          0.711392166239615,
          null,
          0.7148864883989102,
          0.8560643050710913,
          null,
          0.054104924332030145,
          0.7477940715145194,
          null,
          0.054104924332030145,
          -0.04038159924822486,
          null,
          0.054104924332030145,
          -0.8591868776937776,
          null,
          0.054104924332030145,
          0.1660423698468774,
          null,
          0.054104924332030145,
          -0.1042341177828973,
          null,
          0.054104924332030145,
          0.36565585826480723,
          null,
          -0.025096933778619317,
          0.054104924332030145,
          null,
          -0.10526810983667631,
          -0.025096933778619317,
          null,
          -0.10526810983667631,
          0.5799993495612182,
          null,
          -0.10526810983667631,
          -0.5519582246821755,
          null,
          -0.10526810983667631,
          -0.1042341177828973,
          null,
          0.711392166239615,
          0.054104924332030145,
          null,
          0.003754385906897968,
          0.711392166239615,
          null,
          0.003754385906897968,
          0.9360762112702228,
          null,
          0.003754385906897968,
          0.26196843913235257,
          null,
          0.003754385906897968,
          -0.9442693100401877,
          null,
          0.003754385906897968,
          -0.9832361720613639,
          null,
          0.003754385906897968,
          -0.6020725827928515,
          null,
          0.003754385906897968,
          0.6723295780024054,
          null,
          0.8560643050710913,
          0.054104924332030145,
          null,
          0.9360762112702228,
          0.054104924332030145,
          null,
          0.4419327735046554,
          0.9360762112702228,
          null,
          0.4419327735046554,
          0.7477940715145194,
          null,
          0.4419327735046554,
          0.26196843913235257,
          null,
          0.4419327735046554,
          -0.04038159924822486,
          null,
          0.4419327735046554,
          -0.30715643340802806,
          null,
          0.7477940715145194,
          0.003754385906897968,
          null,
          0.26196843913235257,
          0.054104924332030145,
          null,
          -0.04038159924822486,
          0.003754385906897968,
          null,
          -0.30715643340802806,
          0.003754385906897968,
          null,
          0.3630950477319133,
          0.003754385906897968,
          null,
          -0.4192040736271039,
          0.3630950477319133,
          null,
          -0.4192040736271039,
          -0.8204670009110016,
          null,
          -0.4192040736271039,
          -0.9442693100401877,
          null,
          -0.4192040736271039,
          0.5799993495612182,
          null,
          -0.4192040736271039,
          -0.8895667286924132,
          null,
          -0.4192040736271039,
          -0.8591868776937776,
          null,
          -0.4192040736271039,
          -0.9832361720613639,
          null,
          -0.4192040736271039,
          -0.3988548268789948,
          null,
          -0.8204670009110016,
          -0.10526810983667631,
          null,
          -0.9442693100401877,
          -0.10526810983667631,
          null,
          0.5799993495612182,
          0.003754385906897968,
          null,
          -0.8895667286924132,
          -0.10526810983667631,
          null,
          -0.2547260306434639,
          -0.8895667286924132,
          null,
          -0.2547260306434639,
          -0.6020725827928515,
          null,
          -0.2547260306434639,
          -0.6222628858931591,
          null,
          -0.2547260306434639,
          0.6723295780024054,
          null,
          -0.2547260306434639,
          0.1660423698468774,
          null,
          -0.8591868776937776,
          -0.10526810983667631,
          null,
          -0.9832361720613639,
          -0.10526810983667631,
          null,
          -0.3988548268789948,
          -0.10526810983667631,
          null,
          -0.6020725827928515,
          -0.10526810983667631,
          null,
          -0.6222628858931591,
          -0.10526810983667631,
          null,
          0.6723295780024054,
          0.054104924332030145,
          null,
          0.1660423698468774,
          0.003754385906897968,
          null,
          -0.5519582246821755,
          0.003754385906897968,
          null,
          -0.1042341177828973,
          0.003754385906897968,
          null,
          0.36565585826480723,
          0.003754385906897968,
          null
         ],
         "type": "scatter"
        },
        {
         "hoverinfo": "text",
         "marker": {
          "color": [],
          "colorbar": {
           "thickness": 15,
           "title": {
            "side": "right",
            "text": "Node Connections"
           },
           "xanchor": "left"
          },
          "colorscale": [
           [
            0.0,
            "rgb(255,255,217)"
           ],
           [
            0.125,
            "rgb(237,248,177)"
           ],
           [
            0.25,
            "rgb(199,233,180)"
           ],
           [
            0.375,
            "rgb(127,205,187)"
           ],
           [
            0.5,
            "rgb(65,182,196)"
           ],
           [
            0.625,
            "rgb(29,145,192)"
           ],
           [
            0.75,
            "rgb(34,94,168)"
           ],
           [
            0.875,
            "rgb(37,52,148)"
           ],
           [
            1.0,
            "rgb(8,29,88)"
           ]
          ],
          "line": {
           "width": 2
          },
          "reversescale": true,
          "showscale": true,
          "size": 10
         },
         "mode": "markers",
         "text": [
          "0",
          "Сумка",
          "Шапка",
          "Джинсы",
          "1",
          "Куртка",
          "2",
          "Футболка",
          "3",
          "4",
          "Брюки",
          "5",
          "6",
          "7",
          "8",
          "9",
          "Кроссовки",
          "10",
          "11",
          "12",
          "13",
          "Рубашка",
          "14",
          "15",
          "16",
          "17",
          "18",
          "19",
          "20",
          "21",
          "22",
          "23"
         ],
         "x": [
          -0.10022907176224079,
          0.014027838396105429,
          -0.12198743301964739,
          0.161539595806043,
          -0.5156307019878812,
          0.03967071399406663,
          0.7277012921969805,
          0.07674301257464354,
          -0.3704349204183092,
          0.37022616006085757,
          -0.4065700353969809,
          0.1315852584159321,
          -0.6395930522209905,
          -0.8609075521184831,
          -0.713274935505434,
          -0.8265093547887448,
          0.0067440942051540664,
          0.5478193918134733,
          -0.19259958469315297,
          0.43588531901573885,
          0.30689481970728844,
          0.05542195380688144,
          -0.4827923924282737,
          0.07236846607279077,
          0.8138119407396964,
          0.6671410283079953,
          -0.7381610331906284,
          -0.5713593903221387,
          0.9012201068058129,
          -0.38970837130183217,
          0.8811455384071567,
          0.7198112988281219
         ],
         "y": [
          1.0,
          0.0528459391934233,
          0.7148864883989102,
          0.054104924332030145,
          -0.025096933778619317,
          -0.10526810983667631,
          0.711392166239615,
          0.003754385906897968,
          0.8560643050710913,
          0.9360762112702228,
          0.4419327735046554,
          0.7477940715145194,
          0.26196843913235257,
          -0.04038159924822486,
          -0.30715643340802806,
          0.3630950477319133,
          -0.4192040736271039,
          -0.8204670009110016,
          -0.9442693100401877,
          0.5799993495612182,
          -0.8895667286924132,
          -0.2547260306434639,
          -0.8591868776937776,
          -0.9832361720613639,
          -0.3988548268789948,
          -0.6020725827928515,
          -0.6222628858931591,
          0.6723295780024054,
          0.1660423698468774,
          -0.5519582246821755,
          -0.1042341177828973,
          0.36565585826480723
         ],
         "type": "scatter"
        }
       ],
       "layout": {
        "annotations": [
         {
          "showarrow": false,
          "text": "Python code: <a href='https://plotly.com/ipython-notebooks/network-graphs/'> https://plotly.com/ipython-notebooks/network-graphs/</a>",
          "x": 0.005,
          "xref": "paper",
          "y": -0.002,
          "yref": "paper"
         }
        ],
        "hovermode": "closest",
        "margin": {
         "b": 20,
         "l": 5,
         "r": 5,
         "t": 40
        },
        "showlegend": false,
        "title": {
         "font": {
          "size": 16
         },
         "text": "<br>Network graph made with Python"
        },
        "xaxis": {
         "showgrid": false,
         "showticklabels": false,
         "zeroline": false
        },
        "yaxis": {
         "showgrid": false,
         "showticklabels": false,
         "zeroline": false
        },
        "template": {
         "data": {
          "histogram2dcontour": [
           {
            "type": "histogram2dcontour",
            "colorbar": {
             "outlinewidth": 0,
             "ticks": ""
            },
            "colorscale": [
             [
              0.0,
              "#0d0887"
             ],
             [
              0.1111111111111111,
              "#46039f"
             ],
             [
              0.2222222222222222,
              "#7201a8"
             ],
             [
              0.3333333333333333,
              "#9c179e"
             ],
             [
              0.4444444444444444,
              "#bd3786"
             ],
             [
              0.5555555555555556,
              "#d8576b"
             ],
             [
              0.6666666666666666,
              "#ed7953"
             ],
             [
              0.7777777777777778,
              "#fb9f3a"
             ],
             [
              0.8888888888888888,
              "#fdca26"
             ],
             [
              1.0,
              "#f0f921"
             ]
            ]
           }
          ],
          "choropleth": [
           {
            "type": "choropleth",
            "colorbar": {
             "outlinewidth": 0,
             "ticks": ""
            }
           }
          ],
          "histogram2d": [
           {
            "type": "histogram2d",
            "colorbar": {
             "outlinewidth": 0,
             "ticks": ""
            },
            "colorscale": [
             [
              0.0,
              "#0d0887"
             ],
             [
              0.1111111111111111,
              "#46039f"
             ],
             [
              0.2222222222222222,
              "#7201a8"
             ],
             [
              0.3333333333333333,
              "#9c179e"
             ],
             [
              0.4444444444444444,
              "#bd3786"
             ],
             [
              0.5555555555555556,
              "#d8576b"
             ],
             [
              0.6666666666666666,
              "#ed7953"
             ],
             [
              0.7777777777777778,
              "#fb9f3a"
             ],
             [
              0.8888888888888888,
              "#fdca26"
             ],
             [
              1.0,
              "#f0f921"
             ]
            ]
           }
          ],
          "heatmap": [
           {
            "type": "heatmap",
            "colorbar": {
             "outlinewidth": 0,
             "ticks": ""
            },
            "colorscale": [
             [
              0.0,
              "#0d0887"
             ],
             [
              0.1111111111111111,
              "#46039f"
             ],
             [
              0.2222222222222222,
              "#7201a8"
             ],
             [
              0.3333333333333333,
              "#9c179e"
             ],
             [
              0.4444444444444444,
              "#bd3786"
             ],
             [
              0.5555555555555556,
              "#d8576b"
             ],
             [
              0.6666666666666666,
              "#ed7953"
             ],
             [
              0.7777777777777778,
              "#fb9f3a"
             ],
             [
              0.8888888888888888,
              "#fdca26"
             ],
             [
              1.0,
              "#f0f921"
             ]
            ]
           }
          ],
          "heatmapgl": [
           {
            "type": "heatmapgl",
            "colorbar": {
             "outlinewidth": 0,
             "ticks": ""
            },
            "colorscale": [
             [
              0.0,
              "#0d0887"
             ],
             [
              0.1111111111111111,
              "#46039f"
             ],
             [
              0.2222222222222222,
              "#7201a8"
             ],
             [
              0.3333333333333333,
              "#9c179e"
             ],
             [
              0.4444444444444444,
              "#bd3786"
             ],
             [
              0.5555555555555556,
              "#d8576b"
             ],
             [
              0.6666666666666666,
              "#ed7953"
             ],
             [
              0.7777777777777778,
              "#fb9f3a"
             ],
             [
              0.8888888888888888,
              "#fdca26"
             ],
             [
              1.0,
              "#f0f921"
             ]
            ]
           }
          ],
          "contourcarpet": [
           {
            "type": "contourcarpet",
            "colorbar": {
             "outlinewidth": 0,
             "ticks": ""
            }
           }
          ],
          "contour": [
           {
            "type": "contour",
            "colorbar": {
             "outlinewidth": 0,
             "ticks": ""
            },
            "colorscale": [
             [
              0.0,
              "#0d0887"
             ],
             [
              0.1111111111111111,
              "#46039f"
             ],
             [
              0.2222222222222222,
              "#7201a8"
             ],
             [
              0.3333333333333333,
              "#9c179e"
             ],
             [
              0.4444444444444444,
              "#bd3786"
             ],
             [
              0.5555555555555556,
              "#d8576b"
             ],
             [
              0.6666666666666666,
              "#ed7953"
             ],
             [
              0.7777777777777778,
              "#fb9f3a"
             ],
             [
              0.8888888888888888,
              "#fdca26"
             ],
             [
              1.0,
              "#f0f921"
             ]
            ]
           }
          ],
          "surface": [
           {
            "type": "surface",
            "colorbar": {
             "outlinewidth": 0,
             "ticks": ""
            },
            "colorscale": [
             [
              0.0,
              "#0d0887"
             ],
             [
              0.1111111111111111,
              "#46039f"
             ],
             [
              0.2222222222222222,
              "#7201a8"
             ],
             [
              0.3333333333333333,
              "#9c179e"
             ],
             [
              0.4444444444444444,
              "#bd3786"
             ],
             [
              0.5555555555555556,
              "#d8576b"
             ],
             [
              0.6666666666666666,
              "#ed7953"
             ],
             [
              0.7777777777777778,
              "#fb9f3a"
             ],
             [
              0.8888888888888888,
              "#fdca26"
             ],
             [
              1.0,
              "#f0f921"
             ]
            ]
           }
          ],
          "mesh3d": [
           {
            "type": "mesh3d",
            "colorbar": {
             "outlinewidth": 0,
             "ticks": ""
            }
           }
          ],
          "scatter": [
           {
            "fillpattern": {
             "fillmode": "overlay",
             "size": 10,
             "solidity": 0.2
            },
            "type": "scatter"
           }
          ],
          "parcoords": [
           {
            "type": "parcoords",
            "line": {
             "colorbar": {
              "outlinewidth": 0,
              "ticks": ""
             }
            }
           }
          ],
          "scatterpolargl": [
           {
            "type": "scatterpolargl",
            "marker": {
             "colorbar": {
              "outlinewidth": 0,
              "ticks": ""
             }
            }
           }
          ],
          "bar": [
           {
            "error_x": {
             "color": "#2a3f5f"
            },
            "error_y": {
             "color": "#2a3f5f"
            },
            "marker": {
             "line": {
              "color": "#E5ECF6",
              "width": 0.5
             },
             "pattern": {
              "fillmode": "overlay",
              "size": 10,
              "solidity": 0.2
             }
            },
            "type": "bar"
           }
          ],
          "scattergeo": [
           {
            "type": "scattergeo",
            "marker": {
             "colorbar": {
              "outlinewidth": 0,
              "ticks": ""
             }
            }
           }
          ],
          "scatterpolar": [
           {
            "type": "scatterpolar",
            "marker": {
             "colorbar": {
              "outlinewidth": 0,
              "ticks": ""
             }
            }
           }
          ],
          "histogram": [
           {
            "marker": {
             "pattern": {
              "fillmode": "overlay",
              "size": 10,
              "solidity": 0.2
             }
            },
            "type": "histogram"
           }
          ],
          "scattergl": [
           {
            "type": "scattergl",
            "marker": {
             "colorbar": {
              "outlinewidth": 0,
              "ticks": ""
             }
            }
           }
          ],
          "scatter3d": [
           {
            "type": "scatter3d",
            "line": {
             "colorbar": {
              "outlinewidth": 0,
              "ticks": ""
             }
            },
            "marker": {
             "colorbar": {
              "outlinewidth": 0,
              "ticks": ""
             }
            }
           }
          ],
          "scattermapbox": [
           {
            "type": "scattermapbox",
            "marker": {
             "colorbar": {
              "outlinewidth": 0,
              "ticks": ""
             }
            }
           }
          ],
          "scatterternary": [
           {
            "type": "scatterternary",
            "marker": {
             "colorbar": {
              "outlinewidth": 0,
              "ticks": ""
             }
            }
           }
          ],
          "scattercarpet": [
           {
            "type": "scattercarpet",
            "marker": {
             "colorbar": {
              "outlinewidth": 0,
              "ticks": ""
             }
            }
           }
          ],
          "carpet": [
           {
            "aaxis": {
             "endlinecolor": "#2a3f5f",
             "gridcolor": "white",
             "linecolor": "white",
             "minorgridcolor": "white",
             "startlinecolor": "#2a3f5f"
            },
            "baxis": {
             "endlinecolor": "#2a3f5f",
             "gridcolor": "white",
             "linecolor": "white",
             "minorgridcolor": "white",
             "startlinecolor": "#2a3f5f"
            },
            "type": "carpet"
           }
          ],
          "table": [
           {
            "cells": {
             "fill": {
              "color": "#EBF0F8"
             },
             "line": {
              "color": "white"
             }
            },
            "header": {
             "fill": {
              "color": "#C8D4E3"
             },
             "line": {
              "color": "white"
             }
            },
            "type": "table"
           }
          ],
          "barpolar": [
           {
            "marker": {
             "line": {
              "color": "#E5ECF6",
              "width": 0.5
             },
             "pattern": {
              "fillmode": "overlay",
              "size": 10,
              "solidity": 0.2
             }
            },
            "type": "barpolar"
           }
          ],
          "pie": [
           {
            "automargin": true,
            "type": "pie"
           }
          ]
         },
         "layout": {
          "autotypenumbers": "strict",
          "colorway": [
           "#636efa",
           "#EF553B",
           "#00cc96",
           "#ab63fa",
           "#FFA15A",
           "#19d3f3",
           "#FF6692",
           "#B6E880",
           "#FF97FF",
           "#FECB52"
          ],
          "font": {
           "color": "#2a3f5f"
          },
          "hovermode": "closest",
          "hoverlabel": {
           "align": "left"
          },
          "paper_bgcolor": "white",
          "plot_bgcolor": "#E5ECF6",
          "polar": {
           "bgcolor": "#E5ECF6",
           "angularaxis": {
            "gridcolor": "white",
            "linecolor": "white",
            "ticks": ""
           },
           "radialaxis": {
            "gridcolor": "white",
            "linecolor": "white",
            "ticks": ""
           }
          },
          "ternary": {
           "bgcolor": "#E5ECF6",
           "aaxis": {
            "gridcolor": "white",
            "linecolor": "white",
            "ticks": ""
           },
           "baxis": {
            "gridcolor": "white",
            "linecolor": "white",
            "ticks": ""
           },
           "caxis": {
            "gridcolor": "white",
            "linecolor": "white",
            "ticks": ""
           }
          },
          "coloraxis": {
           "colorbar": {
            "outlinewidth": 0,
            "ticks": ""
           }
          },
          "colorscale": {
           "sequential": [
            [
             0.0,
             "#0d0887"
            ],
            [
             0.1111111111111111,
             "#46039f"
            ],
            [
             0.2222222222222222,
             "#7201a8"
            ],
            [
             0.3333333333333333,
             "#9c179e"
            ],
            [
             0.4444444444444444,
             "#bd3786"
            ],
            [
             0.5555555555555556,
             "#d8576b"
            ],
            [
             0.6666666666666666,
             "#ed7953"
            ],
            [
             0.7777777777777778,
             "#fb9f3a"
            ],
            [
             0.8888888888888888,
             "#fdca26"
            ],
            [
             1.0,
             "#f0f921"
            ]
           ],
           "sequentialminus": [
            [
             0.0,
             "#0d0887"
            ],
            [
             0.1111111111111111,
             "#46039f"
            ],
            [
             0.2222222222222222,
             "#7201a8"
            ],
            [
             0.3333333333333333,
             "#9c179e"
            ],
            [
             0.4444444444444444,
             "#bd3786"
            ],
            [
             0.5555555555555556,
             "#d8576b"
            ],
            [
             0.6666666666666666,
             "#ed7953"
            ],
            [
             0.7777777777777778,
             "#fb9f3a"
            ],
            [
             0.8888888888888888,
             "#fdca26"
            ],
            [
             1.0,
             "#f0f921"
            ]
           ],
           "diverging": [
            [
             0,
             "#8e0152"
            ],
            [
             0.1,
             "#c51b7d"
            ],
            [
             0.2,
             "#de77ae"
            ],
            [
             0.3,
             "#f1b6da"
            ],
            [
             0.4,
             "#fde0ef"
            ],
            [
             0.5,
             "#f7f7f7"
            ],
            [
             0.6,
             "#e6f5d0"
            ],
            [
             0.7,
             "#b8e186"
            ],
            [
             0.8,
             "#7fbc41"
            ],
            [
             0.9,
             "#4d9221"
            ],
            [
             1,
             "#276419"
            ]
           ]
          },
          "xaxis": {
           "gridcolor": "white",
           "linecolor": "white",
           "ticks": "",
           "title": {
            "standoff": 15
           },
           "zerolinecolor": "white",
           "automargin": true,
           "zerolinewidth": 2
          },
          "yaxis": {
           "gridcolor": "white",
           "linecolor": "white",
           "ticks": "",
           "title": {
            "standoff": 15
           },
           "zerolinecolor": "white",
           "automargin": true,
           "zerolinewidth": 2
          },
          "scene": {
           "xaxis": {
            "backgroundcolor": "#E5ECF6",
            "gridcolor": "white",
            "linecolor": "white",
            "showbackground": true,
            "ticks": "",
            "zerolinecolor": "white",
            "gridwidth": 2
           },
           "yaxis": {
            "backgroundcolor": "#E5ECF6",
            "gridcolor": "white",
            "linecolor": "white",
            "showbackground": true,
            "ticks": "",
            "zerolinecolor": "white",
            "gridwidth": 2
           },
           "zaxis": {
            "backgroundcolor": "#E5ECF6",
            "gridcolor": "white",
            "linecolor": "white",
            "showbackground": true,
            "ticks": "",
            "zerolinecolor": "white",
            "gridwidth": 2
           }
          },
          "shapedefaults": {
           "line": {
            "color": "#2a3f5f"
           }
          },
          "annotationdefaults": {
           "arrowcolor": "#2a3f5f",
           "arrowhead": 0,
           "arrowwidth": 1
          },
          "geo": {
           "bgcolor": "white",
           "landcolor": "#E5ECF6",
           "subunitcolor": "white",
           "showland": true,
           "showlakes": true,
           "lakecolor": "white"
          },
          "title": {
           "x": 0.05
          },
          "mapbox": {
           "style": "light"
          }
         }
        }
       },
       "config": {
        "plotlyServerURL": "https://plot.ly"
       }
      },
      "text/html": [
       "<div>                            <div id=\"2eb4ce76-741c-4f95-9a1c-d97968259f1a\" class=\"plotly-graph-div\" style=\"height:525px; width:100%;\"></div>            <script type=\"text/javascript\">                require([\"plotly\"], function(Plotly) {                    window.PLOTLYENV=window.PLOTLYENV || {};                                    if (document.getElementById(\"2eb4ce76-741c-4f95-9a1c-d97968259f1a\")) {                    Plotly.newPlot(                        \"2eb4ce76-741c-4f95-9a1c-d97968259f1a\",                        [{\"hoverinfo\":\"none\",\"line\":{\"color\":\"#888\",\"width\":0.5},\"mode\":\"lines\",\"x\":[-0.10022907176224079,0.161539595806043,null,0.014027838396105429,-0.10022907176224079,null,0.014027838396105429,0.37022616006085757,null,0.014027838396105429,0.1315852584159321,null,0.014027838396105429,-0.8265093547887448,null,0.014027838396105429,0.5478193918134733,null,0.014027838396105429,-0.19259958469315297,null,0.014027838396105429,0.43588531901573885,null,0.014027838396105429,0.6671410283079953,null,0.014027838396105429,-0.7381610331906284,null,0.014027838396105429,-0.38970837130183217,null,0.014027838396105429,0.8811455384071567,null,0.014027838396105429,0.7198112988281219,null,-0.12198743301964739,-0.10022907176224079,null,-0.12198743301964739,-0.5156307019878812,null,-0.12198743301964739,0.7277012921969805,null,-0.12198743301964739,-0.3704349204183092,null,0.161539595806043,0.1315852584159321,null,0.161539595806043,-0.8609075521184831,null,0.161539595806043,-0.4827923924282737,null,0.161539595806043,0.9012201068058129,null,0.161539595806043,0.8811455384071567,null,0.161539595806043,0.7198112988281219,null,-0.5156307019878812,0.161539595806043,null,0.03967071399406663,-0.5156307019878812,null,0.03967071399406663,0.43588531901573885,null,0.03967071399406663,-0.38970837130183217,null,0.03967071399406663,0.8811455384071567,null,0.7277012921969805,0.161539595806043,null,0.07674301257464354,0.7277012921969805,null,0.07674301257464354,0.37022616006085757,null,0.07674301257464354,-0.6395930522209905,null,0.07674301257464354,-0.19259958469315297,null,0.07674301257464354,0.07236846607279077,null,0.07674301257464354,0.6671410283079953,null,0.07674301257464354,-0.5713593903221387,null,-0.3704349204183092,0.161539595806043,null,0.37022616006085757,0.161539595806043,null,-0.4065700353969809,0.37022616006085757,null,-0.4065700353969809,0.1315852584159321,null,-0.4065700353969809,-0.6395930522209905,null,-0.4065700353969809,-0.8609075521184831,null,-0.4065700353969809,-0.713274935505434,null,0.1315852584159321,0.07674301257464354,null,-0.6395930522209905,0.161539595806043,null,-0.8609075521184831,0.07674301257464354,null,-0.713274935505434,0.07674301257464354,null,-0.8265093547887448,0.07674301257464354,null,0.0067440942051540664,-0.8265093547887448,null,0.0067440942051540664,0.5478193918134733,null,0.0067440942051540664,-0.19259958469315297,null,0.0067440942051540664,0.43588531901573885,null,0.0067440942051540664,0.30689481970728844,null,0.0067440942051540664,-0.4827923924282737,null,0.0067440942051540664,0.07236846607279077,null,0.0067440942051540664,0.8138119407396964,null,0.5478193918134733,0.03967071399406663,null,-0.19259958469315297,0.03967071399406663,null,0.43588531901573885,0.07674301257464354,null,0.30689481970728844,0.03967071399406663,null,0.05542195380688144,0.30689481970728844,null,0.05542195380688144,0.6671410283079953,null,0.05542195380688144,-0.7381610331906284,null,0.05542195380688144,-0.5713593903221387,null,0.05542195380688144,0.9012201068058129,null,-0.4827923924282737,0.03967071399406663,null,0.07236846607279077,0.03967071399406663,null,0.8138119407396964,0.03967071399406663,null,0.6671410283079953,0.03967071399406663,null,-0.7381610331906284,0.03967071399406663,null,-0.5713593903221387,0.161539595806043,null,0.9012201068058129,0.07674301257464354,null,-0.38970837130183217,0.07674301257464354,null,0.8811455384071567,0.07674301257464354,null,0.7198112988281219,0.07674301257464354,null],\"y\":[1.0,0.054104924332030145,null,0.0528459391934233,1.0,null,0.0528459391934233,0.9360762112702228,null,0.0528459391934233,0.7477940715145194,null,0.0528459391934233,0.3630950477319133,null,0.0528459391934233,-0.8204670009110016,null,0.0528459391934233,-0.9442693100401877,null,0.0528459391934233,0.5799993495612182,null,0.0528459391934233,-0.6020725827928515,null,0.0528459391934233,-0.6222628858931591,null,0.0528459391934233,-0.5519582246821755,null,0.0528459391934233,-0.1042341177828973,null,0.0528459391934233,0.36565585826480723,null,0.7148864883989102,1.0,null,0.7148864883989102,-0.025096933778619317,null,0.7148864883989102,0.711392166239615,null,0.7148864883989102,0.8560643050710913,null,0.054104924332030145,0.7477940715145194,null,0.054104924332030145,-0.04038159924822486,null,0.054104924332030145,-0.8591868776937776,null,0.054104924332030145,0.1660423698468774,null,0.054104924332030145,-0.1042341177828973,null,0.054104924332030145,0.36565585826480723,null,-0.025096933778619317,0.054104924332030145,null,-0.10526810983667631,-0.025096933778619317,null,-0.10526810983667631,0.5799993495612182,null,-0.10526810983667631,-0.5519582246821755,null,-0.10526810983667631,-0.1042341177828973,null,0.711392166239615,0.054104924332030145,null,0.003754385906897968,0.711392166239615,null,0.003754385906897968,0.9360762112702228,null,0.003754385906897968,0.26196843913235257,null,0.003754385906897968,-0.9442693100401877,null,0.003754385906897968,-0.9832361720613639,null,0.003754385906897968,-0.6020725827928515,null,0.003754385906897968,0.6723295780024054,null,0.8560643050710913,0.054104924332030145,null,0.9360762112702228,0.054104924332030145,null,0.4419327735046554,0.9360762112702228,null,0.4419327735046554,0.7477940715145194,null,0.4419327735046554,0.26196843913235257,null,0.4419327735046554,-0.04038159924822486,null,0.4419327735046554,-0.30715643340802806,null,0.7477940715145194,0.003754385906897968,null,0.26196843913235257,0.054104924332030145,null,-0.04038159924822486,0.003754385906897968,null,-0.30715643340802806,0.003754385906897968,null,0.3630950477319133,0.003754385906897968,null,-0.4192040736271039,0.3630950477319133,null,-0.4192040736271039,-0.8204670009110016,null,-0.4192040736271039,-0.9442693100401877,null,-0.4192040736271039,0.5799993495612182,null,-0.4192040736271039,-0.8895667286924132,null,-0.4192040736271039,-0.8591868776937776,null,-0.4192040736271039,-0.9832361720613639,null,-0.4192040736271039,-0.3988548268789948,null,-0.8204670009110016,-0.10526810983667631,null,-0.9442693100401877,-0.10526810983667631,null,0.5799993495612182,0.003754385906897968,null,-0.8895667286924132,-0.10526810983667631,null,-0.2547260306434639,-0.8895667286924132,null,-0.2547260306434639,-0.6020725827928515,null,-0.2547260306434639,-0.6222628858931591,null,-0.2547260306434639,0.6723295780024054,null,-0.2547260306434639,0.1660423698468774,null,-0.8591868776937776,-0.10526810983667631,null,-0.9832361720613639,-0.10526810983667631,null,-0.3988548268789948,-0.10526810983667631,null,-0.6020725827928515,-0.10526810983667631,null,-0.6222628858931591,-0.10526810983667631,null,0.6723295780024054,0.054104924332030145,null,0.1660423698468774,0.003754385906897968,null,-0.5519582246821755,0.003754385906897968,null,-0.1042341177828973,0.003754385906897968,null,0.36565585826480723,0.003754385906897968,null],\"type\":\"scatter\"},{\"hoverinfo\":\"text\",\"marker\":{\"color\":[],\"colorbar\":{\"thickness\":15,\"title\":{\"side\":\"right\",\"text\":\"Node Connections\"},\"xanchor\":\"left\"},\"colorscale\":[[0.0,\"rgb(255,255,217)\"],[0.125,\"rgb(237,248,177)\"],[0.25,\"rgb(199,233,180)\"],[0.375,\"rgb(127,205,187)\"],[0.5,\"rgb(65,182,196)\"],[0.625,\"rgb(29,145,192)\"],[0.75,\"rgb(34,94,168)\"],[0.875,\"rgb(37,52,148)\"],[1.0,\"rgb(8,29,88)\"]],\"line\":{\"width\":2},\"reversescale\":true,\"showscale\":true,\"size\":10},\"mode\":\"markers\",\"text\":[\"0\",\"\\u0421\\u0443\\u043c\\u043a\\u0430\",\"\\u0428\\u0430\\u043f\\u043a\\u0430\",\"\\u0414\\u0436\\u0438\\u043d\\u0441\\u044b\",\"1\",\"\\u041a\\u0443\\u0440\\u0442\\u043a\\u0430\",\"2\",\"\\u0424\\u0443\\u0442\\u0431\\u043e\\u043b\\u043a\\u0430\",\"3\",\"4\",\"\\u0411\\u0440\\u044e\\u043a\\u0438\",\"5\",\"6\",\"7\",\"8\",\"9\",\"\\u041a\\u0440\\u043e\\u0441\\u0441\\u043e\\u0432\\u043a\\u0438\",\"10\",\"11\",\"12\",\"13\",\"\\u0420\\u0443\\u0431\\u0430\\u0448\\u043a\\u0430\",\"14\",\"15\",\"16\",\"17\",\"18\",\"19\",\"20\",\"21\",\"22\",\"23\"],\"x\":[-0.10022907176224079,0.014027838396105429,-0.12198743301964739,0.161539595806043,-0.5156307019878812,0.03967071399406663,0.7277012921969805,0.07674301257464354,-0.3704349204183092,0.37022616006085757,-0.4065700353969809,0.1315852584159321,-0.6395930522209905,-0.8609075521184831,-0.713274935505434,-0.8265093547887448,0.0067440942051540664,0.5478193918134733,-0.19259958469315297,0.43588531901573885,0.30689481970728844,0.05542195380688144,-0.4827923924282737,0.07236846607279077,0.8138119407396964,0.6671410283079953,-0.7381610331906284,-0.5713593903221387,0.9012201068058129,-0.38970837130183217,0.8811455384071567,0.7198112988281219],\"y\":[1.0,0.0528459391934233,0.7148864883989102,0.054104924332030145,-0.025096933778619317,-0.10526810983667631,0.711392166239615,0.003754385906897968,0.8560643050710913,0.9360762112702228,0.4419327735046554,0.7477940715145194,0.26196843913235257,-0.04038159924822486,-0.30715643340802806,0.3630950477319133,-0.4192040736271039,-0.8204670009110016,-0.9442693100401877,0.5799993495612182,-0.8895667286924132,-0.2547260306434639,-0.8591868776937776,-0.9832361720613639,-0.3988548268789948,-0.6020725827928515,-0.6222628858931591,0.6723295780024054,0.1660423698468774,-0.5519582246821755,-0.1042341177828973,0.36565585826480723],\"type\":\"scatter\"}],                        {\"annotations\":[{\"showarrow\":false,\"text\":\"Python code: \\u003ca href='https:\\u002f\\u002fplotly.com\\u002fipython-notebooks\\u002fnetwork-graphs\\u002f'\\u003e https:\\u002f\\u002fplotly.com\\u002fipython-notebooks\\u002fnetwork-graphs\\u002f\\u003c\\u002fa\\u003e\",\"x\":0.005,\"xref\":\"paper\",\"y\":-0.002,\"yref\":\"paper\"}],\"hovermode\":\"closest\",\"margin\":{\"b\":20,\"l\":5,\"r\":5,\"t\":40},\"showlegend\":false,\"title\":{\"font\":{\"size\":16},\"text\":\"\\u003cbr\\u003eNetwork graph made with Python\"},\"xaxis\":{\"showgrid\":false,\"showticklabels\":false,\"zeroline\":false},\"yaxis\":{\"showgrid\":false,\"showticklabels\":false,\"zeroline\":false},\"template\":{\"data\":{\"histogram2dcontour\":[{\"type\":\"histogram2dcontour\",\"colorbar\":{\"outlinewidth\":0,\"ticks\":\"\"},\"colorscale\":[[0.0,\"#0d0887\"],[0.1111111111111111,\"#46039f\"],[0.2222222222222222,\"#7201a8\"],[0.3333333333333333,\"#9c179e\"],[0.4444444444444444,\"#bd3786\"],[0.5555555555555556,\"#d8576b\"],[0.6666666666666666,\"#ed7953\"],[0.7777777777777778,\"#fb9f3a\"],[0.8888888888888888,\"#fdca26\"],[1.0,\"#f0f921\"]]}],\"choropleth\":[{\"type\":\"choropleth\",\"colorbar\":{\"outlinewidth\":0,\"ticks\":\"\"}}],\"histogram2d\":[{\"type\":\"histogram2d\",\"colorbar\":{\"outlinewidth\":0,\"ticks\":\"\"},\"colorscale\":[[0.0,\"#0d0887\"],[0.1111111111111111,\"#46039f\"],[0.2222222222222222,\"#7201a8\"],[0.3333333333333333,\"#9c179e\"],[0.4444444444444444,\"#bd3786\"],[0.5555555555555556,\"#d8576b\"],[0.6666666666666666,\"#ed7953\"],[0.7777777777777778,\"#fb9f3a\"],[0.8888888888888888,\"#fdca26\"],[1.0,\"#f0f921\"]]}],\"heatmap\":[{\"type\":\"heatmap\",\"colorbar\":{\"outlinewidth\":0,\"ticks\":\"\"},\"colorscale\":[[0.0,\"#0d0887\"],[0.1111111111111111,\"#46039f\"],[0.2222222222222222,\"#7201a8\"],[0.3333333333333333,\"#9c179e\"],[0.4444444444444444,\"#bd3786\"],[0.5555555555555556,\"#d8576b\"],[0.6666666666666666,\"#ed7953\"],[0.7777777777777778,\"#fb9f3a\"],[0.8888888888888888,\"#fdca26\"],[1.0,\"#f0f921\"]]}],\"heatmapgl\":[{\"type\":\"heatmapgl\",\"colorbar\":{\"outlinewidth\":0,\"ticks\":\"\"},\"colorscale\":[[0.0,\"#0d0887\"],[0.1111111111111111,\"#46039f\"],[0.2222222222222222,\"#7201a8\"],[0.3333333333333333,\"#9c179e\"],[0.4444444444444444,\"#bd3786\"],[0.5555555555555556,\"#d8576b\"],[0.6666666666666666,\"#ed7953\"],[0.7777777777777778,\"#fb9f3a\"],[0.8888888888888888,\"#fdca26\"],[1.0,\"#f0f921\"]]}],\"contourcarpet\":[{\"type\":\"contourcarpet\",\"colorbar\":{\"outlinewidth\":0,\"ticks\":\"\"}}],\"contour\":[{\"type\":\"contour\",\"colorbar\":{\"outlinewidth\":0,\"ticks\":\"\"},\"colorscale\":[[0.0,\"#0d0887\"],[0.1111111111111111,\"#46039f\"],[0.2222222222222222,\"#7201a8\"],[0.3333333333333333,\"#9c179e\"],[0.4444444444444444,\"#bd3786\"],[0.5555555555555556,\"#d8576b\"],[0.6666666666666666,\"#ed7953\"],[0.7777777777777778,\"#fb9f3a\"],[0.8888888888888888,\"#fdca26\"],[1.0,\"#f0f921\"]]}],\"surface\":[{\"type\":\"surface\",\"colorbar\":{\"outlinewidth\":0,\"ticks\":\"\"},\"colorscale\":[[0.0,\"#0d0887\"],[0.1111111111111111,\"#46039f\"],[0.2222222222222222,\"#7201a8\"],[0.3333333333333333,\"#9c179e\"],[0.4444444444444444,\"#bd3786\"],[0.5555555555555556,\"#d8576b\"],[0.6666666666666666,\"#ed7953\"],[0.7777777777777778,\"#fb9f3a\"],[0.8888888888888888,\"#fdca26\"],[1.0,\"#f0f921\"]]}],\"mesh3d\":[{\"type\":\"mesh3d\",\"colorbar\":{\"outlinewidth\":0,\"ticks\":\"\"}}],\"scatter\":[{\"fillpattern\":{\"fillmode\":\"overlay\",\"size\":10,\"solidity\":0.2},\"type\":\"scatter\"}],\"parcoords\":[{\"type\":\"parcoords\",\"line\":{\"colorbar\":{\"outlinewidth\":0,\"ticks\":\"\"}}}],\"scatterpolargl\":[{\"type\":\"scatterpolargl\",\"marker\":{\"colorbar\":{\"outlinewidth\":0,\"ticks\":\"\"}}}],\"bar\":[{\"error_x\":{\"color\":\"#2a3f5f\"},\"error_y\":{\"color\":\"#2a3f5f\"},\"marker\":{\"line\":{\"color\":\"#E5ECF6\",\"width\":0.5},\"pattern\":{\"fillmode\":\"overlay\",\"size\":10,\"solidity\":0.2}},\"type\":\"bar\"}],\"scattergeo\":[{\"type\":\"scattergeo\",\"marker\":{\"colorbar\":{\"outlinewidth\":0,\"ticks\":\"\"}}}],\"scatterpolar\":[{\"type\":\"scatterpolar\",\"marker\":{\"colorbar\":{\"outlinewidth\":0,\"ticks\":\"\"}}}],\"histogram\":[{\"marker\":{\"pattern\":{\"fillmode\":\"overlay\",\"size\":10,\"solidity\":0.2}},\"type\":\"histogram\"}],\"scattergl\":[{\"type\":\"scattergl\",\"marker\":{\"colorbar\":{\"outlinewidth\":0,\"ticks\":\"\"}}}],\"scatter3d\":[{\"type\":\"scatter3d\",\"line\":{\"colorbar\":{\"outlinewidth\":0,\"ticks\":\"\"}},\"marker\":{\"colorbar\":{\"outlinewidth\":0,\"ticks\":\"\"}}}],\"scattermapbox\":[{\"type\":\"scattermapbox\",\"marker\":{\"colorbar\":{\"outlinewidth\":0,\"ticks\":\"\"}}}],\"scatterternary\":[{\"type\":\"scatterternary\",\"marker\":{\"colorbar\":{\"outlinewidth\":0,\"ticks\":\"\"}}}],\"scattercarpet\":[{\"type\":\"scattercarpet\",\"marker\":{\"colorbar\":{\"outlinewidth\":0,\"ticks\":\"\"}}}],\"carpet\":[{\"aaxis\":{\"endlinecolor\":\"#2a3f5f\",\"gridcolor\":\"white\",\"linecolor\":\"white\",\"minorgridcolor\":\"white\",\"startlinecolor\":\"#2a3f5f\"},\"baxis\":{\"endlinecolor\":\"#2a3f5f\",\"gridcolor\":\"white\",\"linecolor\":\"white\",\"minorgridcolor\":\"white\",\"startlinecolor\":\"#2a3f5f\"},\"type\":\"carpet\"}],\"table\":[{\"cells\":{\"fill\":{\"color\":\"#EBF0F8\"},\"line\":{\"color\":\"white\"}},\"header\":{\"fill\":{\"color\":\"#C8D4E3\"},\"line\":{\"color\":\"white\"}},\"type\":\"table\"}],\"barpolar\":[{\"marker\":{\"line\":{\"color\":\"#E5ECF6\",\"width\":0.5},\"pattern\":{\"fillmode\":\"overlay\",\"size\":10,\"solidity\":0.2}},\"type\":\"barpolar\"}],\"pie\":[{\"automargin\":true,\"type\":\"pie\"}]},\"layout\":{\"autotypenumbers\":\"strict\",\"colorway\":[\"#636efa\",\"#EF553B\",\"#00cc96\",\"#ab63fa\",\"#FFA15A\",\"#19d3f3\",\"#FF6692\",\"#B6E880\",\"#FF97FF\",\"#FECB52\"],\"font\":{\"color\":\"#2a3f5f\"},\"hovermode\":\"closest\",\"hoverlabel\":{\"align\":\"left\"},\"paper_bgcolor\":\"white\",\"plot_bgcolor\":\"#E5ECF6\",\"polar\":{\"bgcolor\":\"#E5ECF6\",\"angularaxis\":{\"gridcolor\":\"white\",\"linecolor\":\"white\",\"ticks\":\"\"},\"radialaxis\":{\"gridcolor\":\"white\",\"linecolor\":\"white\",\"ticks\":\"\"}},\"ternary\":{\"bgcolor\":\"#E5ECF6\",\"aaxis\":{\"gridcolor\":\"white\",\"linecolor\":\"white\",\"ticks\":\"\"},\"baxis\":{\"gridcolor\":\"white\",\"linecolor\":\"white\",\"ticks\":\"\"},\"caxis\":{\"gridcolor\":\"white\",\"linecolor\":\"white\",\"ticks\":\"\"}},\"coloraxis\":{\"colorbar\":{\"outlinewidth\":0,\"ticks\":\"\"}},\"colorscale\":{\"sequential\":[[0.0,\"#0d0887\"],[0.1111111111111111,\"#46039f\"],[0.2222222222222222,\"#7201a8\"],[0.3333333333333333,\"#9c179e\"],[0.4444444444444444,\"#bd3786\"],[0.5555555555555556,\"#d8576b\"],[0.6666666666666666,\"#ed7953\"],[0.7777777777777778,\"#fb9f3a\"],[0.8888888888888888,\"#fdca26\"],[1.0,\"#f0f921\"]],\"sequentialminus\":[[0.0,\"#0d0887\"],[0.1111111111111111,\"#46039f\"],[0.2222222222222222,\"#7201a8\"],[0.3333333333333333,\"#9c179e\"],[0.4444444444444444,\"#bd3786\"],[0.5555555555555556,\"#d8576b\"],[0.6666666666666666,\"#ed7953\"],[0.7777777777777778,\"#fb9f3a\"],[0.8888888888888888,\"#fdca26\"],[1.0,\"#f0f921\"]],\"diverging\":[[0,\"#8e0152\"],[0.1,\"#c51b7d\"],[0.2,\"#de77ae\"],[0.3,\"#f1b6da\"],[0.4,\"#fde0ef\"],[0.5,\"#f7f7f7\"],[0.6,\"#e6f5d0\"],[0.7,\"#b8e186\"],[0.8,\"#7fbc41\"],[0.9,\"#4d9221\"],[1,\"#276419\"]]},\"xaxis\":{\"gridcolor\":\"white\",\"linecolor\":\"white\",\"ticks\":\"\",\"title\":{\"standoff\":15},\"zerolinecolor\":\"white\",\"automargin\":true,\"zerolinewidth\":2},\"yaxis\":{\"gridcolor\":\"white\",\"linecolor\":\"white\",\"ticks\":\"\",\"title\":{\"standoff\":15},\"zerolinecolor\":\"white\",\"automargin\":true,\"zerolinewidth\":2},\"scene\":{\"xaxis\":{\"backgroundcolor\":\"#E5ECF6\",\"gridcolor\":\"white\",\"linecolor\":\"white\",\"showbackground\":true,\"ticks\":\"\",\"zerolinecolor\":\"white\",\"gridwidth\":2},\"yaxis\":{\"backgroundcolor\":\"#E5ECF6\",\"gridcolor\":\"white\",\"linecolor\":\"white\",\"showbackground\":true,\"ticks\":\"\",\"zerolinecolor\":\"white\",\"gridwidth\":2},\"zaxis\":{\"backgroundcolor\":\"#E5ECF6\",\"gridcolor\":\"white\",\"linecolor\":\"white\",\"showbackground\":true,\"ticks\":\"\",\"zerolinecolor\":\"white\",\"gridwidth\":2}},\"shapedefaults\":{\"line\":{\"color\":\"#2a3f5f\"}},\"annotationdefaults\":{\"arrowcolor\":\"#2a3f5f\",\"arrowhead\":0,\"arrowwidth\":1},\"geo\":{\"bgcolor\":\"white\",\"landcolor\":\"#E5ECF6\",\"subunitcolor\":\"white\",\"showland\":true,\"showlakes\":true,\"lakecolor\":\"white\"},\"title\":{\"x\":0.05},\"mapbox\":{\"style\":\"light\"}}}},                        {\"responsive\": true}                    ).then(function(){\n",
       "                            \n",
       "var gd = document.getElementById('2eb4ce76-741c-4f95-9a1c-d97968259f1a');\n",
       "var x = new MutationObserver(function (mutations, observer) {{\n",
       "        var display = window.getComputedStyle(gd).display;\n",
       "        if (!display || display === 'none') {{\n",
       "            console.log([gd, 'removed!']);\n",
       "            Plotly.purge(gd);\n",
       "            observer.disconnect();\n",
       "        }}\n",
       "}});\n",
       "\n",
       "// Listen for the removal of the full notebook cells\n",
       "var notebookContainer = gd.closest('#notebook-container');\n",
       "if (notebookContainer) {{\n",
       "    x.observe(notebookContainer, {childList: true});\n",
       "}}\n",
       "\n",
       "// Listen for the clearing of the current output cell\n",
       "var outputEl = gd.closest('.output');\n",
       "if (outputEl) {{\n",
       "    x.observe(outputEl, {childList: true});\n",
       "}}\n",
       "\n",
       "                        })                };                });            </script>        </div>"
      ]
     },
     "metadata": {},
     "output_type": "display_data",
     "jetTransient": {
      "display_id": null
     }
    }
   ],
   "execution_count": 124
  },
  {
   "metadata": {
    "ExecuteTime": {
     "end_time": "2025-09-26T06:51:10.626840Z",
     "start_time": "2025-09-26T06:51:10.507702Z"
    }
   },
   "cell_type": "code",
   "source": [
    "plt.bar(times.keys(), times.values(), color=['blue', 'green', 'orange'])\n",
    "plt.ylabel(\"Время (сек)\")\n",
    "plt.title(\"Сравнение времени построения правил\")\n",
    "plt.show()"
   ],
   "id": "30cbbe3e658be945",
   "outputs": [
    {
     "data": {
      "text/plain": [
       "<Figure size 640x480 with 1 Axes>"
      ],
      "image/png": "[encoded data removed]"
     },
     "metadata": {},
     "output_type": "display_data",
     "jetTransient": {
      "display_id": null
     }
    }
   ],
   "execution_count": 125
  }
 ],
 "metadata": {
  "kernelspec": {
   "display_name": "Python 3",
   "language": "python",
   "name": "python3"
  },
  "language_info": {
   "codemirror_mode": {
    "name": "ipython",
    "version": 2
   },
   "file_extension": ".py",
   "mimetype": "text/x-python",
   "name": "python",
   "nbconvert_exporter": "python",
   "pygments_lexer": "ipython2",
   "version": "2.7.6"
  }
 },
 "nbformat": 4,
 "nbformat_minor": 5
}
