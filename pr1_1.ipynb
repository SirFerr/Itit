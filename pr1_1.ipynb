{
 "cells": [
  {
   "metadata": {
    "ExecuteTime": {
     "end_time": "2025-09-18T09:16:45.538105Z",
     "start_time": "2025-09-18T09:16:45.535265Z"
    }
   },
   "cell_type": "code",
   "source": [
    "import time\n",
    "from matplotlib import pyplot as plt\n",
    "from PyARMViz import *"
   ],
   "id": "dc06ec97e76843bf",
   "outputs": [],
   "execution_count": 539
  },
  {
   "metadata": {
    "ExecuteTime": {
     "end_time": "2025-09-18T09:16:45.561523Z",
     "start_time": "2025-09-18T09:16:45.556487Z"
    }
   },
   "cell_type": "code",
   "source": [
    "transactions = [\n",
    "    ['Футболка','Брюки','Куртка','Кроссовки','Сумка','Шапка','Джинсы','Рубашка'],\n",
    "    ['Платье','Сумка','Шапка','Джинсы'],\n",
    "    ['Футболка','Джинсы','Рубашка','Кроссовки'],\n",
    "    ['Кроссовки','Куртка','Рубашка','Галстук','Сумка','Футболка'],\n",
    "    ['Футболка','Брюки','Сумка','Джинсы'],\n",
    "    ['Шапка','Кроссовки','Куртка','Джинсы'],\n",
    "    ['Кроссовки','Джинсы','Рубашка','Галстук','Куртка'],\n",
    "    ['Футболка','Брюки','Галстук','Джинсы'],\n",
    "    ['Джинсы','Рубашка','Сумка','Футболка','Куртка'],\n",
    "    ['Футболка','Сумка','Шапка','Куртка','Рубашка','Кроссовки','Джинсы','Брюки'],\n",
    "    ['Галстук','Футболка','Брюки'],\n",
    "    ['Сумка','Футболка','Джинсы','Шапка'],\n",
    "    ['Рубашка','Сумка','Куртка'],\n",
    "    ['Рубашка','Куртка','Галстук','Кроссовки'],\n",
    "    ['Куртка','Джинсы','Футболка','Сумка','Брюки'],\n",
    "    ['Футболка','Брюки','Рубашка','Галстук','Джинсы'],\n",
    "    ['Куртка','Футболка','Джинсы','Кроссовки'],\n",
    "    ['Футболка','Кроссовки','Куртка','Сумка'],\n",
    "    ['Сумка','Галстук','Брюки'],\n",
    "    ['Футболка','Рубашка','Джинсы','Шапка','Куртка']\n",
    "]\n",
    "\n",
    "total_transactions = len(transactions)"
   ],
   "id": "3e61c2a81b4a6ce1",
   "outputs": [],
   "execution_count": 540
  },
  {
   "metadata": {
    "ExecuteTime": {
     "end_time": "2025-09-18T09:16:45.570203Z",
     "start_time": "2025-09-18T09:16:45.567617Z"
    }
   },
   "cell_type": "code",
   "source": [
    "times = {}\n",
    "\n",
    "min_sup = 0.20"
   ],
   "id": "71010ee05eadd255",
   "outputs": [],
   "execution_count": 541
  },
  {
   "metadata": {},
   "cell_type": "markdown",
   "source": "apriori",
   "id": "3de46b4618ab0932"
  },
  {
   "metadata": {
    "ExecuteTime": {
     "end_time": "2025-09-18T09:16:45.647141Z",
     "start_time": "2025-09-18T09:16:45.574518Z"
    }
   },
   "cell_type": "code",
   "source": [
    "from apriori_python import apriori\n",
    "\n",
    "start = time.time()\n",
    "freqItemSet, rules = apriori(transactions, minSup=min_sup, minConf=0.6)\n",
    "times['apriori'] = time.time() - start\n",
    "\n",
    "n_trans = len(transactions)\n",
    "\n",
    "print(\"\\nАссоциативные правила (достоверность ≥ 60%):\")\n",
    "rules_pyarmviz = []   # список Rule для PyARMViz\n",
    "\n",
    "for i, (antecedent, consequent, confidence) in enumerate(rules):\n",
    "    ant = frozenset(antecedent)\n",
    "    cons = frozenset(consequent)\n",
    "    union = ant | cons\n",
    "\n",
    "    # считаем поддержку прямо по транзакциям\n",
    "    count_ab = sum(1 for t in transactions if union.issubset(t))\n",
    "    count_a = sum(1 for t in transactions if ant.issubset(t))\n",
    "    count_b = sum(1 for t in transactions if cons.issubset(t))\n",
    "\n",
    "    support_ab = count_ab / n_trans\n",
    "    support_a = count_a / n_trans\n",
    "    support_b = count_b / n_trans\n",
    "\n",
    "    lift = support_ab / (support_a * support_b) if support_a * support_b else 0.0\n",
    "\n",
    "    print(f\"{i}: {set(antecedent)} -> {set(consequent)} \"\n",
    "          f\"Support = {support_ab:.3f} Confidence = {confidence:.3f} Lift = {lift:.3f}\")\n",
    "\n",
    "    # создаём Rule для PyARMViz (нужны абсолютные counts)\n",
    "    rules_pyarmviz.append(\n",
    "        PyARMViz.Rule.Rule(\n",
    "            lhs=tuple(antecedent),\n",
    "            rhs=tuple(consequent),\n",
    "            count_full=count_ab,\n",
    "            count_lhs=count_a,\n",
    "            count_rhs=count_b,\n",
    "            num_transactions=n_trans\n",
    "        )\n",
    "    )\n",
    "PyARMViz.metadata_scatter_plot(rules_pyarmviz)         # scatter support/confidence/lift\n",
    "PyARMViz.adjacency_graph_plotly(rules_pyarmviz)        # интерактивный граф связей\n",
    "# PyARMViz.adjacency_parallel_coordinate_plot(rules_pyarmviz)  # параллельные координаты\n",
    "# PyARMViz.adjacency_parallel_category_plot(rules_pyarmviz)    # параллельные категории\n"
   ],
   "id": "11ec5fbe01c25c59",
   "outputs": [
    {
     "name": "stdout",
     "output_type": "stream",
     "text": [
      "\n",
      "Ассоциативные правила (достоверность ≥ 60%):\n",
      "0: {'Брюки'} -> {'Сумка'} Support = 0.250 Confidence = 0.625 Lift = 1.136\n",
      "1: {'Рубашка', 'Куртка'} -> {'Сумка'} Support = 0.250 Confidence = 0.625 Lift = 1.136\n",
      "2: {'Кроссовки', 'Куртка'} -> {'Джинсы'} Support = 0.250 Confidence = 0.625 Lift = 0.893\n",
      "3: {'Джинсы', 'Куртка'} -> {'Кроссовки'} Support = 0.250 Confidence = 0.625 Lift = 1.389\n",
      "4: {'Джинсы', 'Куртка'} -> {'Рубашка'} Support = 0.250 Confidence = 0.625 Lift = 1.250\n",
      "5: {'Рубашка', 'Куртка'} -> {'Джинсы'} Support = 0.250 Confidence = 0.625 Lift = 0.893\n",
      "6: {'Футболка', 'Куртка'} -> {'Рубашка'} Support = 0.250 Confidence = 0.625 Lift = 1.250\n",
      "7: {'Рубашка', 'Куртка'} -> {'Футболка'} Support = 0.250 Confidence = 0.625 Lift = 0.893\n",
      "8: {'Футболка', 'Куртка'} -> {'Кроссовки'} Support = 0.250 Confidence = 0.625 Lift = 1.389\n",
      "9: {'Кроссовки', 'Куртка'} -> {'Футболка'} Support = 0.250 Confidence = 0.625 Lift = 0.893\n",
      "10: {'Кроссовки', 'Куртка'} -> {'Рубашка'} Support = 0.250 Confidence = 0.625 Lift = 1.250\n",
      "11: {'Рубашка', 'Куртка'} -> {'Кроссовки'} Support = 0.250 Confidence = 0.625 Lift = 1.389\n",
      "12: {'Сумка'} -> {'Куртка'} Support = 0.350 Confidence = 0.636 Lift = 1.061\n",
      "13: {'Сумка'} -> {'Джинсы'} Support = 0.350 Confidence = 0.636 Lift = 0.909\n",
      "14: {'Шапка'} -> {'Сумка'} Support = 0.200 Confidence = 0.667 Lift = 1.212\n",
      "15: {'Куртка'} -> {'Кроссовки'} Support = 0.400 Confidence = 0.667 Lift = 1.481\n",
      "16: {'Кроссовки'} -> {'Рубашка'} Support = 0.300 Confidence = 0.667 Lift = 1.333\n",
      "17: {'Куртка'} -> {'Футболка'} Support = 0.400 Confidence = 0.667 Lift = 0.952\n",
      "18: {'Кроссовки'} -> {'Футболка'} Support = 0.300 Confidence = 0.667 Lift = 0.952\n",
      "19: {'Куртка'} -> {'Рубашка'} Support = 0.400 Confidence = 0.667 Lift = 1.333\n",
      "20: {'Шапка'} -> {'Куртка'} Support = 0.200 Confidence = 0.667 Lift = 1.111\n",
      "21: {'Шапка'} -> {'Футболка'} Support = 0.200 Confidence = 0.667 Lift = 0.952\n",
      "22: {'Кроссовки'} -> {'Джинсы'} Support = 0.300 Confidence = 0.667 Lift = 0.952\n",
      "23: {'Куртка'} -> {'Джинсы'} Support = 0.400 Confidence = 0.667 Lift = 0.952\n",
      "24: {'Кроссовки', 'Футболка'} -> {'Сумка'} Support = 0.200 Confidence = 0.667 Lift = 1.212\n",
      "25: {'Кроссовки', 'Джинсы'} -> {'Рубашка'} Support = 0.200 Confidence = 0.667 Lift = 1.333\n",
      "26: {'Кроссовки', 'Рубашка'} -> {'Джинсы'} Support = 0.200 Confidence = 0.667 Lift = 0.952\n",
      "27: {'Шапка'} -> {'Джинсы', 'Куртка'} Support = 0.200 Confidence = 0.667 Lift = 1.667\n",
      "28: {'Шапка', 'Джинсы'} -> {'Куртка'} Support = 0.200 Confidence = 0.667 Lift = 1.111\n",
      "29: {'Джинсы', 'Брюки'} -> {'Сумка'} Support = 0.200 Confidence = 0.667 Lift = 1.212\n",
      "30: {'Шапка'} -> {'Сумка', 'Джинсы'} Support = 0.200 Confidence = 0.667 Lift = 1.905\n",
      "31: {'Шапка', 'Джинсы'} -> {'Сумка'} Support = 0.200 Confidence = 0.667 Lift = 1.212\n",
      "32: {'Кроссовки', 'Футболка'} -> {'Джинсы'} Support = 0.200 Confidence = 0.667 Lift = 0.952\n",
      "33: {'Кроссовки', 'Джинсы'} -> {'Футболка'} Support = 0.200 Confidence = 0.667 Lift = 0.952\n",
      "34: {'Кроссовки', 'Футболка'} -> {'Рубашка'} Support = 0.200 Confidence = 0.667 Lift = 1.333\n",
      "35: {'Кроссовки', 'Рубашка'} -> {'Футболка'} Support = 0.200 Confidence = 0.667 Lift = 0.952\n",
      "36: {'Шапка'} -> {'Футболка', 'Джинсы'} Support = 0.200 Confidence = 0.667 Lift = 1.212\n",
      "37: {'Шапка', 'Джинсы'} -> {'Футболка'} Support = 0.200 Confidence = 0.667 Lift = 0.952\n",
      "38: {'Сумка', 'Футболка', 'Куртка'} -> {'Рубашка'} Support = 0.200 Confidence = 0.667 Lift = 1.333\n",
      "39: {'Сумка', 'Футболка', 'Куртка'} -> {'Джинсы'} Support = 0.200 Confidence = 0.667 Lift = 0.952\n",
      "40: {'Сумка', 'Футболка', 'Джинсы'} -> {'Куртка'} Support = 0.200 Confidence = 0.667 Lift = 1.111\n",
      "41: {'Футболка', 'Джинсы', 'Куртка'} -> {'Сумка'} Support = 0.200 Confidence = 0.667 Lift = 1.212\n",
      "42: {'Футболка', 'Джинсы', 'Рубашка'} -> {'Куртка'} Support = 0.200 Confidence = 0.667 Lift = 1.111\n",
      "43: {'Футболка', 'Джинсы', 'Куртка'} -> {'Рубашка'} Support = 0.200 Confidence = 0.667 Lift = 1.333\n",
      "44: {'Джинсы', 'Брюки'} -> {'Сумка', 'Футболка'} Support = 0.200 Confidence = 0.667 Lift = 1.667\n",
      "45: {'Сумка', 'Футболка', 'Джинсы'} -> {'Брюки'} Support = 0.200 Confidence = 0.667 Lift = 1.667\n",
      "46: {'Футболка', 'Джинсы', 'Брюки'} -> {'Сумка'} Support = 0.200 Confidence = 0.667 Lift = 1.212\n",
      "47: {'Кроссовки', 'Футболка'} -> {'Сумка', 'Куртка'} Support = 0.200 Confidence = 0.667 Lift = 1.905\n",
      "48: {'Сумка', 'Футболка', 'Куртка'} -> {'Кроссовки'} Support = 0.200 Confidence = 0.667 Lift = 1.481\n",
      "49: {'Рубашка'} -> {'Футболка'} Support = 0.350 Confidence = 0.700 Lift = 1.000\n",
      "50: {'Рубашка'} -> {'Джинсы'} Support = 0.350 Confidence = 0.700 Lift = 1.000\n",
      "51: {'Сумка', 'Куртка'} -> {'Рубашка'} Support = 0.250 Confidence = 0.714 Lift = 1.429\n",
      "52: {'Джинсы', 'Рубашка'} -> {'Куртка'} Support = 0.250 Confidence = 0.714 Lift = 1.190\n",
      "53: {'Футболка', 'Рубашка'} -> {'Куртка'} Support = 0.250 Confidence = 0.714 Lift = 1.190\n",
      "54: {'Сумка'} -> {'Футболка'} Support = 0.400 Confidence = 0.727 Lift = 1.039\n",
      "55: {'Брюки'} -> {'Джинсы'} Support = 0.300 Confidence = 0.750 Lift = 1.071\n",
      "56: {'Брюки'} -> {'Футболка', 'Джинсы'} Support = 0.300 Confidence = 0.750 Lift = 1.364\n",
      "57: {'Футболка', 'Куртка'} -> {'Джинсы'} Support = 0.300 Confidence = 0.750 Lift = 1.071\n",
      "58: {'Джинсы', 'Куртка'} -> {'Футболка'} Support = 0.300 Confidence = 0.750 Lift = 1.071\n",
      "59: {'Сумка', 'Футболка'} -> {'Джинсы'} Support = 0.300 Confidence = 0.750 Lift = 1.071\n",
      "60: {'Сумка', 'Футболка'} -> {'Куртка'} Support = 0.300 Confidence = 0.750 Lift = 1.250\n",
      "61: {'Футболка', 'Куртка'} -> {'Сумка'} Support = 0.300 Confidence = 0.750 Lift = 1.364\n",
      "62: {'Футболка'} -> {'Джинсы'} Support = 0.550 Confidence = 0.786 Lift = 1.122\n",
      "63: {'Джинсы'} -> {'Футболка'} Support = 0.550 Confidence = 0.786 Lift = 1.122\n",
      "64: {'Рубашка'} -> {'Куртка'} Support = 0.400 Confidence = 0.800 Lift = 1.333\n",
      "65: {'Сумка', 'Рубашка'} -> {'Футболка'} Support = 0.200 Confidence = 0.800 Lift = 1.143\n",
      "66: {'Сумка', 'Брюки'} -> {'Джинсы'} Support = 0.200 Confidence = 0.800 Lift = 1.143\n",
      "67: {'Сумка', 'Брюки'} -> {'Футболка'} Support = 0.200 Confidence = 0.800 Lift = 1.143\n",
      "68: {'Сумка', 'Рубашка'} -> {'Футболка', 'Куртка'} Support = 0.200 Confidence = 0.800 Lift = 2.000\n",
      "69: {'Сумка', 'Рубашка', 'Куртка'} -> {'Футболка'} Support = 0.200 Confidence = 0.800 Lift = 1.143\n",
      "70: {'Футболка', 'Рубашка', 'Куртка'} -> {'Сумка'} Support = 0.200 Confidence = 0.800 Lift = 1.455\n",
      "71: {'Футболка', 'Рубашка', 'Куртка'} -> {'Джинсы'} Support = 0.200 Confidence = 0.800 Lift = 1.143\n",
      "72: {'Джинсы', 'Рубашка', 'Куртка'} -> {'Футболка'} Support = 0.200 Confidence = 0.800 Lift = 1.143\n",
      "73: {'Сумка', 'Брюки'} -> {'Футболка', 'Джинсы'} Support = 0.200 Confidence = 0.800 Lift = 1.455\n",
      "74: {'Футболка', 'Кроссовки', 'Куртка'} -> {'Сумка'} Support = 0.200 Confidence = 0.800 Lift = 1.455\n",
      "75: {'Кроссовки', 'Джинсы'} -> {'Куртка'} Support = 0.250 Confidence = 0.833 Lift = 1.389\n",
      "76: {'Кроссовки', 'Футболка'} -> {'Куртка'} Support = 0.250 Confidence = 0.833 Lift = 1.389\n",
      "77: {'Кроссовки', 'Рубашка'} -> {'Куртка'} Support = 0.250 Confidence = 0.833 Lift = 1.389\n",
      "78: {'Футболка', 'Брюки'} -> {'Джинсы'} Support = 0.300 Confidence = 0.857 Lift = 1.224\n",
      "79: {'Футболка', 'Рубашка'} -> {'Джинсы'} Support = 0.300 Confidence = 0.857 Lift = 1.224\n",
      "80: {'Джинсы', 'Рубашка'} -> {'Футболка'} Support = 0.300 Confidence = 0.857 Lift = 1.224\n",
      "81: {'Сумка', 'Джинсы'} -> {'Футболка'} Support = 0.300 Confidence = 0.857 Lift = 1.224\n",
      "82: {'Сумка', 'Куртка'} -> {'Футболка'} Support = 0.300 Confidence = 0.857 Lift = 1.224\n",
      "83: {'Брюки'} -> {'Футболка'} Support = 0.350 Confidence = 0.875 Lift = 1.250\n",
      "84: {'Кроссовки'} -> {'Куртка'} Support = 0.400 Confidence = 0.889 Lift = 1.481\n",
      "85: {'Шапка'} -> {'Джинсы'} Support = 0.300 Confidence = 1.000 Lift = 1.429\n",
      "86: {'Джинсы', 'Брюки'} -> {'Футболка'} Support = 0.300 Confidence = 1.000 Lift = 1.429\n",
      "87: {'Сумка', 'Рубашка'} -> {'Куртка'} Support = 0.250 Confidence = 1.000 Lift = 1.667\n",
      "88: {'Сумка', 'Кроссовки'} -> {'Футболка'} Support = 0.200 Confidence = 1.000 Lift = 1.429\n",
      "89: {'Шапка', 'Куртка'} -> {'Джинсы'} Support = 0.200 Confidence = 1.000 Lift = 1.429\n",
      "90: {'Сумка', 'Шапка'} -> {'Джинсы'} Support = 0.200 Confidence = 1.000 Lift = 1.429\n",
      "91: {'Футболка', 'Шапка'} -> {'Джинсы'} Support = 0.200 Confidence = 1.000 Lift = 1.429\n",
      "92: {'Сумка', 'Кроссовки'} -> {'Куртка'} Support = 0.200 Confidence = 1.000 Lift = 1.667\n",
      "93: {'Сумка', 'Футболка', 'Рубашка'} -> {'Куртка'} Support = 0.200 Confidence = 1.000 Lift = 1.667\n",
      "94: {'Сумка', 'Джинсы', 'Куртка'} -> {'Футболка'} Support = 0.200 Confidence = 1.000 Lift = 1.429\n",
      "95: {'Сумка', 'Футболка', 'Брюки'} -> {'Джинсы'} Support = 0.200 Confidence = 1.000 Lift = 1.429\n",
      "96: {'Сумка', 'Джинсы', 'Брюки'} -> {'Футболка'} Support = 0.200 Confidence = 1.000 Lift = 1.429\n",
      "97: {'Сумка', 'Кроссовки'} -> {'Футболка', 'Куртка'} Support = 0.200 Confidence = 1.000 Lift = 2.500\n",
      "98: {'Сумка', 'Кроссовки', 'Куртка'} -> {'Футболка'} Support = 0.200 Confidence = 1.000 Lift = 1.429\n",
      "99: {'Сумка', 'Кроссовки', 'Футболка'} -> {'Куртка'} Support = 0.200 Confidence = 1.000 Lift = 1.667\n"
     ]
    },
    {
     "data": {
      "application/vnd.plotly.v1+json": {
       "data": [
        {
         "marker": {
          "color": [
           1.1363636363636365,
           1.0606060606060606,
           0.9090909090909091,
           1.2121212121212122,
           1.4814814814814814,
           1.3333333333333333,
           0.9523809523809524,
           0.9523809523809523,
           1.3333333333333335,
           1.1111111111111112,
           0.9523809523809524,
           0.9523809523809523,
           0.9523809523809524,
           1.0,
           1.0,
           1.038961038961039,
           1.0714285714285714,
           1.1224489795918369,
           1.1224489795918369,
           1.3333333333333335,
           1.2499999999999998,
           1.4814814814814814,
           1.4285714285714286
          ],
          "colorbar": {
           "title": {
            "text": "Lift"
           }
          },
          "colorscale": [
           [
            0.0,
            "rgb(243, 224, 247)"
           ],
           [
            0.16666666666666666,
            "rgb(228, 199, 241)"
           ],
           [
            0.3333333333333333,
            "rgb(209, 175, 232)"
           ],
           [
            0.5,
            "rgb(185, 152, 221)"
           ],
           [
            0.6666666666666666,
            "rgb(159, 130, 206)"
           ],
           [
            0.8333333333333334,
            "rgb(130, 109, 186)"
           ],
           [
            1.0,
            "rgb(99, 88, 159)"
           ]
          ]
         },
         "mode": "markers",
         "text": [
          "('Брюки',) => ('Сумка',), Lift: 1.1363636363636365",
          "('Сумка',) => ('Куртка',), Lift: 1.0606060606060606",
          "('Сумка',) => ('Джинсы',), Lift: 0.9090909090909091",
          "('Шапка',) => ('Сумка',), Lift: 1.2121212121212122",
          "('Куртка',) => ('Кроссовки',), Lift: 1.4814814814814814",
          "('Кроссовки',) => ('Рубашка',), Lift: 1.3333333333333333",
          "('Куртка',) => ('Футболка',), Lift: 0.9523809523809524",
          "('Кроссовки',) => ('Футболка',), Lift: 0.9523809523809523",
          "('Куртка',) => ('Рубашка',), Lift: 1.3333333333333335",
          "('Шапка',) => ('Куртка',), Lift: 1.1111111111111112",
          "('Шапка',) => ('Футболка',), Lift: 0.9523809523809524",
          "('Кроссовки',) => ('Джинсы',), Lift: 0.9523809523809523",
          "('Куртка',) => ('Джинсы',), Lift: 0.9523809523809524",
          "('Рубашка',) => ('Футболка',), Lift: 1.0",
          "('Рубашка',) => ('Джинсы',), Lift: 1.0",
          "('Сумка',) => ('Футболка',), Lift: 1.038961038961039",
          "('Брюки',) => ('Джинсы',), Lift: 1.0714285714285714",
          "('Футболка',) => ('Джинсы',), Lift: 1.1224489795918369",
          "('Джинсы',) => ('Футболка',), Lift: 1.1224489795918369",
          "('Рубашка',) => ('Куртка',), Lift: 1.3333333333333335",
          "('Брюки',) => ('Футболка',), Lift: 1.2499999999999998",
          "('Кроссовки',) => ('Куртка',), Lift: 1.4814814814814814",
          "('Шапка',) => ('Джинсы',), Lift: 1.4285714285714286"
         ],
         "x": [
          0.25,
          0.35,
          0.35,
          0.2,
          0.4,
          0.3,
          0.4,
          0.3,
          0.4,
          0.2,
          0.2,
          0.3,
          0.4,
          0.35,
          0.35,
          0.4,
          0.3,
          0.55,
          0.55,
          0.4,
          0.35,
          0.4,
          0.3
         ],
         "y": [
          0.625,
          0.6363636363636364,
          0.6363636363636364,
          0.6666666666666666,
          0.6666666666666666,
          0.6666666666666666,
          0.6666666666666666,
          0.6666666666666666,
          0.6666666666666666,
          0.6666666666666666,
          0.6666666666666666,
          0.6666666666666666,
          0.6666666666666666,
          0.7,
          0.7,
          0.7272727272727273,
          0.75,
          0.7857142857142857,
          0.7857142857142857,
          0.8,
          0.875,
          0.8888888888888888,
          1.0
         ],
         "type": "scatter"
        }
       ],
       "layout": {
        "template": {
         "data": {
          "histogram2dcontour": [
           {
            "type": "histogram2dcontour",
            "colorbar": {
             "outlinewidth": 0,
             "ticks": ""
            },
            "colorscale": [
             [
              0.0,
              "#0d0887"
             ],
             [
              0.1111111111111111,
              "#46039f"
             ],
             [
              0.2222222222222222,
              "#7201a8"
             ],
             [
              0.3333333333333333,
              "#9c179e"
             ],
             [
              0.4444444444444444,
              "#bd3786"
             ],
             [
              0.5555555555555556,
              "#d8576b"
             ],
             [
              0.6666666666666666,
              "#ed7953"
             ],
             [
              0.7777777777777778,
              "#fb9f3a"
             ],
             [
              0.8888888888888888,
              "#fdca26"
             ],
             [
              1.0,
              "#f0f921"
             ]
            ]
           }
          ],
          "choropleth": [
           {
            "type": "choropleth",
            "colorbar": {
             "outlinewidth": 0,
             "ticks": ""
            }
           }
          ],
          "histogram2d": [
           {
            "type": "histogram2d",
            "colorbar": {
             "outlinewidth": 0,
             "ticks": ""
            },
            "colorscale": [
             [
              0.0,
              "#0d0887"
             ],
             [
              0.1111111111111111,
              "#46039f"
             ],
             [
              0.2222222222222222,
              "#7201a8"
             ],
             [
              0.3333333333333333,
              "#9c179e"
             ],
             [
              0.4444444444444444,
              "#bd3786"
             ],
             [
              0.5555555555555556,
              "#d8576b"
             ],
             [
              0.6666666666666666,
              "#ed7953"
             ],
             [
              0.7777777777777778,
              "#fb9f3a"
             ],
             [
              0.8888888888888888,
              "#fdca26"
             ],
             [
              1.0,
              "#f0f921"
             ]
            ]
           }
          ],
          "heatmap": [
           {
            "type": "heatmap",
            "colorbar": {
             "outlinewidth": 0,
             "ticks": ""
            },
            "colorscale": [
             [
              0.0,
              "#0d0887"
             ],
             [
              0.1111111111111111,
              "#46039f"
             ],
             [
              0.2222222222222222,
              "#7201a8"
             ],
             [
              0.3333333333333333,
              "#9c179e"
             ],
             [
              0.4444444444444444,
              "#bd3786"
             ],
             [
              0.5555555555555556,
              "#d8576b"
             ],
             [
              0.6666666666666666,
              "#ed7953"
             ],
             [
              0.7777777777777778,
              "#fb9f3a"
             ],
             [
              0.8888888888888888,
              "#fdca26"
             ],
             [
              1.0,
              "#f0f921"
             ]
            ]
           }
          ],
          "heatmapgl": [
           {
            "type": "heatmapgl",
            "colorbar": {
             "outlinewidth": 0,
             "ticks": ""
            },
            "colorscale": [
             [
              0.0,
              "#0d0887"
             ],
             [
              0.1111111111111111,
              "#46039f"
             ],
             [
              0.2222222222222222,
              "#7201a8"
             ],
             [
              0.3333333333333333,
              "#9c179e"
             ],
             [
              0.4444444444444444,
              "#bd3786"
             ],
             [
              0.5555555555555556,
              "#d8576b"
             ],
             [
              0.6666666666666666,
              "#ed7953"
             ],
             [
              0.7777777777777778,
              "#fb9f3a"
             ],
             [
              0.8888888888888888,
              "#fdca26"
             ],
             [
              1.0,
              "#f0f921"
             ]
            ]
           }
          ],
          "contourcarpet": [
           {
            "type": "contourcarpet",
            "colorbar": {
             "outlinewidth": 0,
             "ticks": ""
            }
           }
          ],
          "contour": [
           {
            "type": "contour",
            "colorbar": {
             "outlinewidth": 0,
             "ticks": ""
            },
            "colorscale": [
             [
              0.0,
              "#0d0887"
             ],
             [
              0.1111111111111111,
              "#46039f"
             ],
             [
              0.2222222222222222,
              "#7201a8"
             ],
             [
              0.3333333333333333,
              "#9c179e"
             ],
             [
              0.4444444444444444,
              "#bd3786"
             ],
             [
              0.5555555555555556,
              "#d8576b"
             ],
             [
              0.6666666666666666,
              "#ed7953"
             ],
             [
              0.7777777777777778,
              "#fb9f3a"
             ],
             [
              0.8888888888888888,
              "#fdca26"
             ],
             [
              1.0,
              "#f0f921"
             ]
            ]
           }
          ],
          "surface": [
           {
            "type": "surface",
            "colorbar": {
             "outlinewidth": 0,
             "ticks": ""
            },
            "colorscale": [
             [
              0.0,
              "#0d0887"
             ],
             [
              0.1111111111111111,
              "#46039f"
             ],
             [
              0.2222222222222222,
              "#7201a8"
             ],
             [
              0.3333333333333333,
              "#9c179e"
             ],
             [
              0.4444444444444444,
              "#bd3786"
             ],
             [
              0.5555555555555556,
              "#d8576b"
             ],
             [
              0.6666666666666666,
              "#ed7953"
             ],
             [
              0.7777777777777778,
              "#fb9f3a"
             ],
             [
              0.8888888888888888,
              "#fdca26"
             ],
             [
              1.0,
              "#f0f921"
             ]
            ]
           }
          ],
          "mesh3d": [
           {
            "type": "mesh3d",
            "colorbar": {
             "outlinewidth": 0,
             "ticks": ""
            }
           }
          ],
          "scatter": [
           {
            "fillpattern": {
             "fillmode": "overlay",
             "size": 10,
             "solidity": 0.2
            },
            "type": "scatter"
           }
          ],
          "parcoords": [
           {
            "type": "parcoords",
            "line": {
             "colorbar": {
              "outlinewidth": 0,
              "ticks": ""
             }
            }
           }
          ],
          "scatterpolargl": [
           {
            "type": "scatterpolargl",
            "marker": {
             "colorbar": {
              "outlinewidth": 0,
              "ticks": ""
             }
            }
           }
          ],
          "bar": [
           {
            "error_x": {
             "color": "#2a3f5f"
            },
            "error_y": {
             "color": "#2a3f5f"
            },
            "marker": {
             "line": {
              "color": "#E5ECF6",
              "width": 0.5
             },
             "pattern": {
              "fillmode": "overlay",
              "size": 10,
              "solidity": 0.2
             }
            },
            "type": "bar"
           }
          ],
          "scattergeo": [
           {
            "type": "scattergeo",
            "marker": {
             "colorbar": {
              "outlinewidth": 0,
              "ticks": ""
             }
            }
           }
          ],
          "scatterpolar": [
           {
            "type": "scatterpolar",
            "marker": {
             "colorbar": {
              "outlinewidth": 0,
              "ticks": ""
             }
            }
           }
          ],
          "histogram": [
           {
            "marker": {
             "pattern": {
              "fillmode": "overlay",
              "size": 10,
              "solidity": 0.2
             }
            },
            "type": "histogram"
           }
          ],
          "scattergl": [
           {
            "type": "scattergl",
            "marker": {
             "colorbar": {
              "outlinewidth": 0,
              "ticks": ""
             }
            }
           }
          ],
          "scatter3d": [
           {
            "type": "scatter3d",
            "line": {
             "colorbar": {
              "outlinewidth": 0,
              "ticks": ""
             }
            },
            "marker": {
             "colorbar": {
              "outlinewidth": 0,
              "ticks": ""
             }
            }
           }
          ],
          "scattermapbox": [
           {
            "type": "scattermapbox",
            "marker": {
             "colorbar": {
              "outlinewidth": 0,
              "ticks": ""
             }
            }
           }
          ],
          "scatterternary": [
           {
            "type": "scatterternary",
            "marker": {
             "colorbar": {
              "outlinewidth": 0,
              "ticks": ""
             }
            }
           }
          ],
          "scattercarpet": [
           {
            "type": "scattercarpet",
            "marker": {
             "colorbar": {
              "outlinewidth": 0,
              "ticks": ""
             }
            }
           }
          ],
          "carpet": [
           {
            "aaxis": {
             "endlinecolor": "#2a3f5f",
             "gridcolor": "white",
             "linecolor": "white",
             "minorgridcolor": "white",
             "startlinecolor": "#2a3f5f"
            },
            "baxis": {
             "endlinecolor": "#2a3f5f",
             "gridcolor": "white",
             "linecolor": "white",
             "minorgridcolor": "white",
             "startlinecolor": "#2a3f5f"
            },
            "type": "carpet"
           }
          ],
          "table": [
           {
            "cells": {
             "fill": {
              "color": "#EBF0F8"
             },
             "line": {
              "color": "white"
             }
            },
            "header": {
             "fill": {
              "color": "#C8D4E3"
             },
             "line": {
              "color": "white"
             }
            },
            "type": "table"
           }
          ],
          "barpolar": [
           {
            "marker": {
             "line": {
              "color": "#E5ECF6",
              "width": 0.5
             },
             "pattern": {
              "fillmode": "overlay",
              "size": 10,
              "solidity": 0.2
             }
            },
            "type": "barpolar"
           }
          ],
          "pie": [
           {
            "automargin": true,
            "type": "pie"
           }
          ]
         },
         "layout": {
          "autotypenumbers": "strict",
          "colorway": [
           "#636efa",
           "#EF553B",
           "#00cc96",
           "#ab63fa",
           "#FFA15A",
           "#19d3f3",
           "#FF6692",
           "#B6E880",
           "#FF97FF",
           "#FECB52"
          ],
          "font": {
           "color": "#2a3f5f"
          },
          "hovermode": "closest",
          "hoverlabel": {
           "align": "left"
          },
          "paper_bgcolor": "white",
          "plot_bgcolor": "#E5ECF6",
          "polar": {
           "bgcolor": "#E5ECF6",
           "angularaxis": {
            "gridcolor": "white",
            "linecolor": "white",
            "ticks": ""
           },
           "radialaxis": {
            "gridcolor": "white",
            "linecolor": "white",
            "ticks": ""
           }
          },
          "ternary": {
           "bgcolor": "#E5ECF6",
           "aaxis": {
            "gridcolor": "white",
            "linecolor": "white",
            "ticks": ""
           },
           "baxis": {
            "gridcolor": "white",
            "linecolor": "white",
            "ticks": ""
           },
           "caxis": {
            "gridcolor": "white",
            "linecolor": "white",
            "ticks": ""
           }
          },
          "coloraxis": {
           "colorbar": {
            "outlinewidth": 0,
            "ticks": ""
           }
          },
          "colorscale": {
           "sequential": [
            [
             0.0,
             "#0d0887"
            ],
            [
             0.1111111111111111,
             "#46039f"
            ],
            [
             0.2222222222222222,
             "#7201a8"
            ],
            [
             0.3333333333333333,
             "#9c179e"
            ],
            [
             0.4444444444444444,
             "#bd3786"
            ],
            [
             0.5555555555555556,
             "#d8576b"
            ],
            [
             0.6666666666666666,
             "#ed7953"
            ],
            [
             0.7777777777777778,
             "#fb9f3a"
            ],
            [
             0.8888888888888888,
             "#fdca26"
            ],
            [
             1.0,
             "#f0f921"
            ]
           ],
           "sequentialminus": [
            [
             0.0,
             "#0d0887"
            ],
            [
             0.1111111111111111,
             "#46039f"
            ],
            [
             0.2222222222222222,
             "#7201a8"
            ],
            [
             0.3333333333333333,
             "#9c179e"
            ],
            [
             0.4444444444444444,
             "#bd3786"
            ],
            [
             0.5555555555555556,
             "#d8576b"
            ],
            [
             0.6666666666666666,
             "#ed7953"
            ],
            [
             0.7777777777777778,
             "#fb9f3a"
            ],
            [
             0.8888888888888888,
             "#fdca26"
            ],
            [
             1.0,
             "#f0f921"
            ]
           ],
           "diverging": [
            [
             0,
             "#8e0152"
            ],
            [
             0.1,
             "#c51b7d"
            ],
            [
             0.2,
             "#de77ae"
            ],
            [
             0.3,
             "#f1b6da"
            ],
            [
             0.4,
             "#fde0ef"
            ],
            [
             0.5,
             "#f7f7f7"
            ],
            [
             0.6,
             "#e6f5d0"
            ],
            [
             0.7,
             "#b8e186"
            ],
            [
             0.8,
             "#7fbc41"
            ],
            [
             0.9,
             "#4d9221"
            ],
            [
             1,
             "#276419"
            ]
           ]
          },
          "xaxis": {
           "gridcolor": "white",
           "linecolor": "white",
           "ticks": "",
           "title": {
            "standoff": 15
           },
           "zerolinecolor": "white",
           "automargin": true,
           "zerolinewidth": 2
          },
          "yaxis": {
           "gridcolor": "white",
           "linecolor": "white",
           "ticks": "",
           "title": {
            "standoff": 15
           },
           "zerolinecolor": "white",
           "automargin": true,
           "zerolinewidth": 2
          },
          "scene": {
           "xaxis": {
            "backgroundcolor": "#E5ECF6",
            "gridcolor": "white",
            "linecolor": "white",
            "showbackground": true,
            "ticks": "",
            "zerolinecolor": "white",
            "gridwidth": 2
           },
           "yaxis": {
            "backgroundcolor": "#E5ECF6",
            "gridcolor": "white",
            "linecolor": "white",
            "showbackground": true,
            "ticks": "",
            "zerolinecolor": "white",
            "gridwidth": 2
           },
           "zaxis": {
            "backgroundcolor": "#E5ECF6",
            "gridcolor": "white",
            "linecolor": "white",
            "showbackground": true,
            "ticks": "",
            "zerolinecolor": "white",
            "gridwidth": 2
           }
          },
          "shapedefaults": {
           "line": {
            "color": "#2a3f5f"
           }
          },
          "annotationdefaults": {
           "arrowcolor": "#2a3f5f",
           "arrowhead": 0,
           "arrowwidth": 1
          },
          "geo": {
           "bgcolor": "white",
           "landcolor": "#E5ECF6",
           "subunitcolor": "white",
           "showland": true,
           "showlakes": true,
           "lakecolor": "white"
          },
          "title": {
           "x": 0.05
          },
          "mapbox": {
           "style": "light"
          }
         }
        },
        "xaxis": {
         "title": {
          "text": "Support"
         },
         "autorange": "reversed"
        },
        "title": {
         "text": "Association Rules Strength Distribution"
        },
        "yaxis": {
         "title": {
          "text": "Confidence"
         }
        }
       },
       "config": {
        "plotlyServerURL": "https://plot.ly"
       }
      },
      "text/html": [
       "<div>                            <div id=\"91f01616-e1ba-4594-b3e8-0b279a0f141b\" class=\"plotly-graph-div\" style=\"height:525px; width:100%;\"></div>            <script type=\"text/javascript\">                require([\"plotly\"], function(Plotly) {                    window.PLOTLYENV=window.PLOTLYENV || {};                                    if (document.getElementById(\"91f01616-e1ba-4594-b3e8-0b279a0f141b\")) {                    Plotly.newPlot(                        \"91f01616-e1ba-4594-b3e8-0b279a0f141b\",                        [{\"marker\":{\"color\":[1.1363636363636365,1.0606060606060606,0.9090909090909091,1.2121212121212122,1.4814814814814814,1.3333333333333333,0.9523809523809524,0.9523809523809523,1.3333333333333335,1.1111111111111112,0.9523809523809524,0.9523809523809523,0.9523809523809524,1.0,1.0,1.038961038961039,1.0714285714285714,1.1224489795918369,1.1224489795918369,1.3333333333333335,1.2499999999999998,1.4814814814814814,1.4285714285714286],\"colorbar\":{\"title\":{\"text\":\"Lift\"}},\"colorscale\":[[0.0,\"rgb(243, 224, 247)\"],[0.16666666666666666,\"rgb(228, 199, 241)\"],[0.3333333333333333,\"rgb(209, 175, 232)\"],[0.5,\"rgb(185, 152, 221)\"],[0.6666666666666666,\"rgb(159, 130, 206)\"],[0.8333333333333334,\"rgb(130, 109, 186)\"],[1.0,\"rgb(99, 88, 159)\"]]},\"mode\":\"markers\",\"text\":[\"('\\u0411\\u0440\\u044e\\u043a\\u0438',) =\\u003e ('\\u0421\\u0443\\u043c\\u043a\\u0430',), Lift: 1.1363636363636365\",\"('\\u0421\\u0443\\u043c\\u043a\\u0430',) =\\u003e ('\\u041a\\u0443\\u0440\\u0442\\u043a\\u0430',), Lift: 1.0606060606060606\",\"('\\u0421\\u0443\\u043c\\u043a\\u0430',) =\\u003e ('\\u0414\\u0436\\u0438\\u043d\\u0441\\u044b',), Lift: 0.9090909090909091\",\"('\\u0428\\u0430\\u043f\\u043a\\u0430',) =\\u003e ('\\u0421\\u0443\\u043c\\u043a\\u0430',), Lift: 1.2121212121212122\",\"('\\u041a\\u0443\\u0440\\u0442\\u043a\\u0430',) =\\u003e ('\\u041a\\u0440\\u043e\\u0441\\u0441\\u043e\\u0432\\u043a\\u0438',), Lift: 1.4814814814814814\",\"('\\u041a\\u0440\\u043e\\u0441\\u0441\\u043e\\u0432\\u043a\\u0438',) =\\u003e ('\\u0420\\u0443\\u0431\\u0430\\u0448\\u043a\\u0430',), Lift: 1.3333333333333333\",\"('\\u041a\\u0443\\u0440\\u0442\\u043a\\u0430',) =\\u003e ('\\u0424\\u0443\\u0442\\u0431\\u043e\\u043b\\u043a\\u0430',), Lift: 0.9523809523809524\",\"('\\u041a\\u0440\\u043e\\u0441\\u0441\\u043e\\u0432\\u043a\\u0438',) =\\u003e ('\\u0424\\u0443\\u0442\\u0431\\u043e\\u043b\\u043a\\u0430',), Lift: 0.9523809523809523\",\"('\\u041a\\u0443\\u0440\\u0442\\u043a\\u0430',) =\\u003e ('\\u0420\\u0443\\u0431\\u0430\\u0448\\u043a\\u0430',), Lift: 1.3333333333333335\",\"('\\u0428\\u0430\\u043f\\u043a\\u0430',) =\\u003e ('\\u041a\\u0443\\u0440\\u0442\\u043a\\u0430',), Lift: 1.1111111111111112\",\"('\\u0428\\u0430\\u043f\\u043a\\u0430',) =\\u003e ('\\u0424\\u0443\\u0442\\u0431\\u043e\\u043b\\u043a\\u0430',), Lift: 0.9523809523809524\",\"('\\u041a\\u0440\\u043e\\u0441\\u0441\\u043e\\u0432\\u043a\\u0438',) =\\u003e ('\\u0414\\u0436\\u0438\\u043d\\u0441\\u044b',), Lift: 0.9523809523809523\",\"('\\u041a\\u0443\\u0440\\u0442\\u043a\\u0430',) =\\u003e ('\\u0414\\u0436\\u0438\\u043d\\u0441\\u044b',), Lift: 0.9523809523809524\",\"('\\u0420\\u0443\\u0431\\u0430\\u0448\\u043a\\u0430',) =\\u003e ('\\u0424\\u0443\\u0442\\u0431\\u043e\\u043b\\u043a\\u0430',), Lift: 1.0\",\"('\\u0420\\u0443\\u0431\\u0430\\u0448\\u043a\\u0430',) =\\u003e ('\\u0414\\u0436\\u0438\\u043d\\u0441\\u044b',), Lift: 1.0\",\"('\\u0421\\u0443\\u043c\\u043a\\u0430',) =\\u003e ('\\u0424\\u0443\\u0442\\u0431\\u043e\\u043b\\u043a\\u0430',), Lift: 1.038961038961039\",\"('\\u0411\\u0440\\u044e\\u043a\\u0438',) =\\u003e ('\\u0414\\u0436\\u0438\\u043d\\u0441\\u044b',), Lift: 1.0714285714285714\",\"('\\u0424\\u0443\\u0442\\u0431\\u043e\\u043b\\u043a\\u0430',) =\\u003e ('\\u0414\\u0436\\u0438\\u043d\\u0441\\u044b',), Lift: 1.1224489795918369\",\"('\\u0414\\u0436\\u0438\\u043d\\u0441\\u044b',) =\\u003e ('\\u0424\\u0443\\u0442\\u0431\\u043e\\u043b\\u043a\\u0430',), Lift: 1.1224489795918369\",\"('\\u0420\\u0443\\u0431\\u0430\\u0448\\u043a\\u0430',) =\\u003e ('\\u041a\\u0443\\u0440\\u0442\\u043a\\u0430',), Lift: 1.3333333333333335\",\"('\\u0411\\u0440\\u044e\\u043a\\u0438',) =\\u003e ('\\u0424\\u0443\\u0442\\u0431\\u043e\\u043b\\u043a\\u0430',), Lift: 1.2499999999999998\",\"('\\u041a\\u0440\\u043e\\u0441\\u0441\\u043e\\u0432\\u043a\\u0438',) =\\u003e ('\\u041a\\u0443\\u0440\\u0442\\u043a\\u0430',), Lift: 1.4814814814814814\",\"('\\u0428\\u0430\\u043f\\u043a\\u0430',) =\\u003e ('\\u0414\\u0436\\u0438\\u043d\\u0441\\u044b',), Lift: 1.4285714285714286\"],\"x\":[0.25,0.35,0.35,0.2,0.4,0.3,0.4,0.3,0.4,0.2,0.2,0.3,0.4,0.35,0.35,0.4,0.3,0.55,0.55,0.4,0.35,0.4,0.3],\"y\":[0.625,0.6363636363636364,0.6363636363636364,0.6666666666666666,0.6666666666666666,0.6666666666666666,0.6666666666666666,0.6666666666666666,0.6666666666666666,0.6666666666666666,0.6666666666666666,0.6666666666666666,0.6666666666666666,0.7,0.7,0.7272727272727273,0.75,0.7857142857142857,0.7857142857142857,0.8,0.875,0.8888888888888888,1.0],\"type\":\"scatter\"}],                        {\"template\":{\"data\":{\"histogram2dcontour\":[{\"type\":\"histogram2dcontour\",\"colorbar\":{\"outlinewidth\":0,\"ticks\":\"\"},\"colorscale\":[[0.0,\"#0d0887\"],[0.1111111111111111,\"#46039f\"],[0.2222222222222222,\"#7201a8\"],[0.3333333333333333,\"#9c179e\"],[0.4444444444444444,\"#bd3786\"],[0.5555555555555556,\"#d8576b\"],[0.6666666666666666,\"#ed7953\"],[0.7777777777777778,\"#fb9f3a\"],[0.8888888888888888,\"#fdca26\"],[1.0,\"#f0f921\"]]}],\"choropleth\":[{\"type\":\"choropleth\",\"colorbar\":{\"outlinewidth\":0,\"ticks\":\"\"}}],\"histogram2d\":[{\"type\":\"histogram2d\",\"colorbar\":{\"outlinewidth\":0,\"ticks\":\"\"},\"colorscale\":[[0.0,\"#0d0887\"],[0.1111111111111111,\"#46039f\"],[0.2222222222222222,\"#7201a8\"],[0.3333333333333333,\"#9c179e\"],[0.4444444444444444,\"#bd3786\"],[0.5555555555555556,\"#d8576b\"],[0.6666666666666666,\"#ed7953\"],[0.7777777777777778,\"#fb9f3a\"],[0.8888888888888888,\"#fdca26\"],[1.0,\"#f0f921\"]]}],\"heatmap\":[{\"type\":\"heatmap\",\"colorbar\":{\"outlinewidth\":0,\"ticks\":\"\"},\"colorscale\":[[0.0,\"#0d0887\"],[0.1111111111111111,\"#46039f\"],[0.2222222222222222,\"#7201a8\"],[0.3333333333333333,\"#9c179e\"],[0.4444444444444444,\"#bd3786\"],[0.5555555555555556,\"#d8576b\"],[0.6666666666666666,\"#ed7953\"],[0.7777777777777778,\"#fb9f3a\"],[0.8888888888888888,\"#fdca26\"],[1.0,\"#f0f921\"]]}],\"heatmapgl\":[{\"type\":\"heatmapgl\",\"colorbar\":{\"outlinewidth\":0,\"ticks\":\"\"},\"colorscale\":[[0.0,\"#0d0887\"],[0.1111111111111111,\"#46039f\"],[0.2222222222222222,\"#7201a8\"],[0.3333333333333333,\"#9c179e\"],[0.4444444444444444,\"#bd3786\"],[0.5555555555555556,\"#d8576b\"],[0.6666666666666666,\"#ed7953\"],[0.7777777777777778,\"#fb9f3a\"],[0.8888888888888888,\"#fdca26\"],[1.0,\"#f0f921\"]]}],\"contourcarpet\":[{\"type\":\"contourcarpet\",\"colorbar\":{\"outlinewidth\":0,\"ticks\":\"\"}}],\"contour\":[{\"type\":\"contour\",\"colorbar\":{\"outlinewidth\":0,\"ticks\":\"\"},\"colorscale\":[[0.0,\"#0d0887\"],[0.1111111111111111,\"#46039f\"],[0.2222222222222222,\"#7201a8\"],[0.3333333333333333,\"#9c179e\"],[0.4444444444444444,\"#bd3786\"],[0.5555555555555556,\"#d8576b\"],[0.6666666666666666,\"#ed7953\"],[0.7777777777777778,\"#fb9f3a\"],[0.8888888888888888,\"#fdca26\"],[1.0,\"#f0f921\"]]}],\"surface\":[{\"type\":\"surface\",\"colorbar\":{\"outlinewidth\":0,\"ticks\":\"\"},\"colorscale\":[[0.0,\"#0d0887\"],[0.1111111111111111,\"#46039f\"],[0.2222222222222222,\"#7201a8\"],[0.3333333333333333,\"#9c179e\"],[0.4444444444444444,\"#bd3786\"],[0.5555555555555556,\"#d8576b\"],[0.6666666666666666,\"#ed7953\"],[0.7777777777777778,\"#fb9f3a\"],[0.8888888888888888,\"#fdca26\"],[1.0,\"#f0f921\"]]}],\"mesh3d\":[{\"type\":\"mesh3d\",\"colorbar\":{\"outlinewidth\":0,\"ticks\":\"\"}}],\"scatter\":[{\"fillpattern\":{\"fillmode\":\"overlay\",\"size\":10,\"solidity\":0.2},\"type\":\"scatter\"}],\"parcoords\":[{\"type\":\"parcoords\",\"line\":{\"colorbar\":{\"outlinewidth\":0,\"ticks\":\"\"}}}],\"scatterpolargl\":[{\"type\":\"scatterpolargl\",\"marker\":{\"colorbar\":{\"outlinewidth\":0,\"ticks\":\"\"}}}],\"bar\":[{\"error_x\":{\"color\":\"#2a3f5f\"},\"error_y\":{\"color\":\"#2a3f5f\"},\"marker\":{\"line\":{\"color\":\"#E5ECF6\",\"width\":0.5},\"pattern\":{\"fillmode\":\"overlay\",\"size\":10,\"solidity\":0.2}},\"type\":\"bar\"}],\"scattergeo\":[{\"type\":\"scattergeo\",\"marker\":{\"colorbar\":{\"outlinewidth\":0,\"ticks\":\"\"}}}],\"scatterpolar\":[{\"type\":\"scatterpolar\",\"marker\":{\"colorbar\":{\"outlinewidth\":0,\"ticks\":\"\"}}}],\"histogram\":[{\"marker\":{\"pattern\":{\"fillmode\":\"overlay\",\"size\":10,\"solidity\":0.2}},\"type\":\"histogram\"}],\"scattergl\":[{\"type\":\"scattergl\",\"marker\":{\"colorbar\":{\"outlinewidth\":0,\"ticks\":\"\"}}}],\"scatter3d\":[{\"type\":\"scatter3d\",\"line\":{\"colorbar\":{\"outlinewidth\":0,\"ticks\":\"\"}},\"marker\":{\"colorbar\":{\"outlinewidth\":0,\"ticks\":\"\"}}}],\"scattermapbox\":[{\"type\":\"scattermapbox\",\"marker\":{\"colorbar\":{\"outlinewidth\":0,\"ticks\":\"\"}}}],\"scatterternary\":[{\"type\":\"scatterternary\",\"marker\":{\"colorbar\":{\"outlinewidth\":0,\"ticks\":\"\"}}}],\"scattercarpet\":[{\"type\":\"scattercarpet\",\"marker\":{\"colorbar\":{\"outlinewidth\":0,\"ticks\":\"\"}}}],\"carpet\":[{\"aaxis\":{\"endlinecolor\":\"#2a3f5f\",\"gridcolor\":\"white\",\"linecolor\":\"white\",\"minorgridcolor\":\"white\",\"startlinecolor\":\"#2a3f5f\"},\"baxis\":{\"endlinecolor\":\"#2a3f5f\",\"gridcolor\":\"white\",\"linecolor\":\"white\",\"minorgridcolor\":\"white\",\"startlinecolor\":\"#2a3f5f\"},\"type\":\"carpet\"}],\"table\":[{\"cells\":{\"fill\":{\"color\":\"#EBF0F8\"},\"line\":{\"color\":\"white\"}},\"header\":{\"fill\":{\"color\":\"#C8D4E3\"},\"line\":{\"color\":\"white\"}},\"type\":\"table\"}],\"barpolar\":[{\"marker\":{\"line\":{\"color\":\"#E5ECF6\",\"width\":0.5},\"pattern\":{\"fillmode\":\"overlay\",\"size\":10,\"solidity\":0.2}},\"type\":\"barpolar\"}],\"pie\":[{\"automargin\":true,\"type\":\"pie\"}]},\"layout\":{\"autotypenumbers\":\"strict\",\"colorway\":[\"#636efa\",\"#EF553B\",\"#00cc96\",\"#ab63fa\",\"#FFA15A\",\"#19d3f3\",\"#FF6692\",\"#B6E880\",\"#FF97FF\",\"#FECB52\"],\"font\":{\"color\":\"#2a3f5f\"},\"hovermode\":\"closest\",\"hoverlabel\":{\"align\":\"left\"},\"paper_bgcolor\":\"white\",\"plot_bgcolor\":\"#E5ECF6\",\"polar\":{\"bgcolor\":\"#E5ECF6\",\"angularaxis\":{\"gridcolor\":\"white\",\"linecolor\":\"white\",\"ticks\":\"\"},\"radialaxis\":{\"gridcolor\":\"white\",\"linecolor\":\"white\",\"ticks\":\"\"}},\"ternary\":{\"bgcolor\":\"#E5ECF6\",\"aaxis\":{\"gridcolor\":\"white\",\"linecolor\":\"white\",\"ticks\":\"\"},\"baxis\":{\"gridcolor\":\"white\",\"linecolor\":\"white\",\"ticks\":\"\"},\"caxis\":{\"gridcolor\":\"white\",\"linecolor\":\"white\",\"ticks\":\"\"}},\"coloraxis\":{\"colorbar\":{\"outlinewidth\":0,\"ticks\":\"\"}},\"colorscale\":{\"sequential\":[[0.0,\"#0d0887\"],[0.1111111111111111,\"#46039f\"],[0.2222222222222222,\"#7201a8\"],[0.3333333333333333,\"#9c179e\"],[0.4444444444444444,\"#bd3786\"],[0.5555555555555556,\"#d8576b\"],[0.6666666666666666,\"#ed7953\"],[0.7777777777777778,\"#fb9f3a\"],[0.8888888888888888,\"#fdca26\"],[1.0,\"#f0f921\"]],\"sequentialminus\":[[0.0,\"#0d0887\"],[0.1111111111111111,\"#46039f\"],[0.2222222222222222,\"#7201a8\"],[0.3333333333333333,\"#9c179e\"],[0.4444444444444444,\"#bd3786\"],[0.5555555555555556,\"#d8576b\"],[0.6666666666666666,\"#ed7953\"],[0.7777777777777778,\"#fb9f3a\"],[0.8888888888888888,\"#fdca26\"],[1.0,\"#f0f921\"]],\"diverging\":[[0,\"#8e0152\"],[0.1,\"#c51b7d\"],[0.2,\"#de77ae\"],[0.3,\"#f1b6da\"],[0.4,\"#fde0ef\"],[0.5,\"#f7f7f7\"],[0.6,\"#e6f5d0\"],[0.7,\"#b8e186\"],[0.8,\"#7fbc41\"],[0.9,\"#4d9221\"],[1,\"#276419\"]]},\"xaxis\":{\"gridcolor\":\"white\",\"linecolor\":\"white\",\"ticks\":\"\",\"title\":{\"standoff\":15},\"zerolinecolor\":\"white\",\"automargin\":true,\"zerolinewidth\":2},\"yaxis\":{\"gridcolor\":\"white\",\"linecolor\":\"white\",\"ticks\":\"\",\"title\":{\"standoff\":15},\"zerolinecolor\":\"white\",\"automargin\":true,\"zerolinewidth\":2},\"scene\":{\"xaxis\":{\"backgroundcolor\":\"#E5ECF6\",\"gridcolor\":\"white\",\"linecolor\":\"white\",\"showbackground\":true,\"ticks\":\"\",\"zerolinecolor\":\"white\",\"gridwidth\":2},\"yaxis\":{\"backgroundcolor\":\"#E5ECF6\",\"gridcolor\":\"white\",\"linecolor\":\"white\",\"showbackground\":true,\"ticks\":\"\",\"zerolinecolor\":\"white\",\"gridwidth\":2},\"zaxis\":{\"backgroundcolor\":\"#E5ECF6\",\"gridcolor\":\"white\",\"linecolor\":\"white\",\"showbackground\":true,\"ticks\":\"\",\"zerolinecolor\":\"white\",\"gridwidth\":2}},\"shapedefaults\":{\"line\":{\"color\":\"#2a3f5f\"}},\"annotationdefaults\":{\"arrowcolor\":\"#2a3f5f\",\"arrowhead\":0,\"arrowwidth\":1},\"geo\":{\"bgcolor\":\"white\",\"landcolor\":\"#E5ECF6\",\"subunitcolor\":\"white\",\"showland\":true,\"showlakes\":true,\"lakecolor\":\"white\"},\"title\":{\"x\":0.05},\"mapbox\":{\"style\":\"light\"}}},\"xaxis\":{\"title\":{\"text\":\"Support\"},\"autorange\":\"reversed\"},\"title\":{\"text\":\"Association Rules Strength Distribution\"},\"yaxis\":{\"title\":{\"text\":\"Confidence\"}}},                        {\"responsive\": true}                    ).then(function(){\n",
       "                            \n",
       "var gd = document.getElementById('91f01616-e1ba-4594-b3e8-0b279a0f141b');\n",
       "var x = new MutationObserver(function (mutations, observer) {{\n",
       "        var display = window.getComputedStyle(gd).display;\n",
       "        if (!display || display === 'none') {{\n",
       "            console.log([gd, 'removed!']);\n",
       "            Plotly.purge(gd);\n",
       "            observer.disconnect();\n",
       "        }}\n",
       "}});\n",
       "\n",
       "// Listen for the removal of the full notebook cells\n",
       "var notebookContainer = gd.closest('#notebook-container');\n",
       "if (notebookContainer) {{\n",
       "    x.observe(notebookContainer, {childList: true});\n",
       "}}\n",
       "\n",
       "// Listen for the clearing of the current output cell\n",
       "var outputEl = gd.closest('.output');\n",
       "if (outputEl) {{\n",
       "    x.observe(outputEl, {childList: true});\n",
       "}}\n",
       "\n",
       "                        })                };                });            </script>        </div>"
      ]
     },
     "metadata": {},
     "output_type": "display_data",
     "jetTransient": {
      "display_id": null
     }
    },
    {
     "data": {
      "application/vnd.plotly.v1+json": {
       "data": [
        {
         "hoverinfo": "none",
         "line": {
          "color": "#888",
          "width": 0.5
         },
         "mode": "lines",
         "x": [
          0.1517681600486874,
          0.0029189230657403085,
          null,
          0.30048494279823984,
          0.1517681600486874,
          null,
          0.30048494279823984,
          0.7229481876497619,
          null,
          0.30048494279823984,
          -0.1085754478306959,
          null,
          0.30048494279823984,
          0.5131965035164165,
          null,
          0.30048494279823984,
          0.7207143898470953,
          null,
          0.30048494279823984,
          0.2659299645240258,
          null,
          0.30048494279823984,
          0.2524517800301472,
          null,
          0.30048494279823984,
          0.5657051024562775,
          null,
          0.30048494279823984,
          0.36537065891618065,
          null,
          0.30048494279823984,
          0.812907214337647,
          null,
          0.30048494279823984,
          -0.05085461327677837,
          null,
          0.30048494279823984,
          -0.17121253984672058,
          null,
          0.30048494279823984,
          0.11700066116744635,
          null,
          0.30048494279823984,
          -0.374362135330588,
          null,
          0.0029189230657403085,
          -0.20689023769336745,
          null,
          0.0029189230657403085,
          0.22813345170164115,
          null,
          0.0029189230657403085,
          -0.34684745552916496,
          null,
          0.0029189230657403085,
          0.01545486068944806,
          null,
          0.0029189230657403085,
          -0.7361576769917841,
          null,
          0.0029189230657403085,
          0.9337646732409068,
          null,
          0.0029189230657403085,
          -0.9561486904903543,
          null,
          0.0029189230657403085,
          0.07197077632502187,
          null,
          0.0029189230657403085,
          0.5832166830408694,
          null,
          0.0029189230657403085,
          0.712537580626188,
          null,
          0.0029189230657403085,
          -0.7144776266815562,
          null,
          0.0029189230657403085,
          -0.2843416956394826,
          null,
          0.0029189230657403085,
          0.2524517800301472,
          null,
          0.0029189230657403085,
          0.5657051024562775,
          null,
          0.0029189230657403085,
          -0.3270162392013458,
          null,
          0.0029189230657403085,
          0.1610879808147184,
          null,
          0.0029189230657403085,
          0.36537065891618065,
          null,
          0.0029189230657403085,
          0.733424935922781,
          null,
          0.0029189230657403085,
          -0.21297816523604818,
          null,
          0.0029189230657403085,
          -0.8145546365211235,
          null,
          0.0029189230657403085,
          -0.11483336740953065,
          null,
          0.0029189230657403085,
          0.47466252729523084,
          null,
          0.0029189230657403085,
          -0.5348994176118737,
          null,
          0.0029189230657403085,
          -0.8440596041862258,
          null,
          0.0029189230657403085,
          0.8087747225565463,
          null,
          0.0029189230657403085,
          0.11700066116744635,
          null,
          0.0029189230657403085,
          -0.374362135330588,
          null,
          0.0029189230657403085,
          -0.21416073593138005,
          null,
          0.0029189230657403085,
          -0.6067025342171072,
          null,
          0.0029189230657403085,
          -0.18946859283906897,
          null,
          0.3028185346696831,
          0.0029189230657403085,
          null,
          -0.0732681407536735,
          0.3028185346696831,
          null,
          -0.0732681407536735,
          -0.4337124850894654,
          null,
          -0.0732681407536735,
          0.3046617177337201,
          null,
          -0.0732681407536735,
          0.012029634770186546,
          null,
          -0.0732681407536735,
          0.010091804601152363,
          null,
          -0.0732681407536735,
          -0.6358783964434331,
          null,
          -0.0732681407536735,
          -0.38607382067201357,
          null,
          -0.0732681407536735,
          0.6685133611457087,
          null,
          -0.0732681407536735,
          0.9119101935787403,
          null,
          -0.0732681407536735,
          -0.8093781668781292,
          null,
          -0.0732681407536735,
          -0.8046986771261306,
          null,
          -0.0732681407536735,
          -0.4109939918810746,
          null,
          -0.0732681407536735,
          -0.2843416956394826,
          null,
          -0.0732681407536735,
          -0.3270162392013458,
          null,
          -0.0732681407536735,
          0.1610879808147184,
          null,
          -0.0732681407536735,
          -0.5114220099307751,
          null,
          -0.0732681407536735,
          0.544364604747129,
          null,
          -0.0732681407536735,
          0.2874750051643959,
          null,
          -0.0732681407536735,
          -0.7648161449303217,
          null,
          -0.0732681407536735,
          0.3104122947613116,
          null,
          -0.0732681407536735,
          0.9080430159806477,
          null,
          -0.0732681407536735,
          -0.8145546365211235,
          null,
          -0.0732681407536735,
          -0.8440596041862258,
          null,
          -0.07898840582148531,
          0.3028185346696831,
          null,
          -0.07898840582148531,
          0.6116499056987365,
          null,
          -0.07898840582148531,
          -0.9812116921050943,
          null,
          -0.07898840582148531,
          -0.8813591327126156,
          null,
          -0.07898840582148531,
          -0.4337124850894654,
          null,
          -0.07898840582148531,
          -0.8349922105159933,
          null,
          -0.07898840582148531,
          0.3046617177337201,
          null,
          -0.07898840582148531,
          -1.0,
          null,
          -0.07898840582148531,
          -0.29663154191881563,
          null,
          -0.07898840582148531,
          -0.7484188570263315,
          null,
          -0.07898840582148531,
          0.012029634770186546,
          null,
          -0.07898840582148531,
          -0.9969039611109097,
          null,
          -0.07898840582148531,
          0.8290278879925255,
          null,
          -0.07898840582148531,
          0.2052613350581114,
          null,
          -0.07898840582148531,
          0.6741769142162256,
          null,
          -0.07898840582148531,
          -0.34684745552916496,
          null,
          -0.07898840582148531,
          0.01545486068944806,
          null,
          -0.07898840582148531,
          0.5325087846663084,
          null,
          -0.07898840582148531,
          -0.5186449973213062,
          null,
          -0.07898840582148531,
          -0.9561486904903543,
          null,
          -0.07898840582148531,
          0.07197077632502187,
          null,
          -0.07898840582148531,
          -0.6272926519871839,
          null,
          -0.07898840582148531,
          -0.5809163513898707,
          null,
          -0.07898840582148531,
          0.44065167942396605,
          null,
          -0.07898840582148531,
          0.1610879808147184,
          null,
          -0.07898840582148531,
          -0.5114220099307751,
          null,
          -0.07898840582148531,
          0.544364604747129,
          null,
          -0.07898840582148531,
          0.2874750051643959,
          null,
          -0.07898840582148531,
          0.6434289731498954,
          null,
          -0.07898840582148531,
          -0.21297816523604818,
          null,
          -0.07898840582148531,
          0.8244857104242872,
          null,
          -0.07898840582148531,
          0.8087747225565463,
          null,
          -0.07898840582148531,
          -0.6067025342171072,
          null,
          0.6116499056987365,
          -0.001438868780229865,
          null,
          -0.12936665811335188,
          0.6116499056987365,
          null,
          -0.12936665811335188,
          -0.29663154191881563,
          null,
          -0.12936665811335188,
          -0.7484188570263315,
          null,
          -0.12936665811335188,
          -0.6706454235284269,
          null,
          -0.12936665811335188,
          -0.0017542667158363266,
          null,
          -0.12936665811335188,
          0.48261015012147757,
          null,
          -0.12936665811335188,
          0.5280623013481571,
          null,
          -0.12936665811335188,
          -0.2989253375767194,
          null,
          -0.12936665811335188,
          0.010091804601152363,
          null,
          -0.12936665811335188,
          0.7615806042378025,
          null,
          -0.12936665811335188,
          -0.46703397232710053,
          null,
          -0.12936665811335188,
          -0.06912598719826865,
          null,
          -0.12936665811335188,
          -0.6358783964434331,
          null,
          -0.12936665811335188,
          0.06336336073832956,
          null,
          -0.12936665811335188,
          0.6434289731498954,
          null,
          -0.12936665811335188,
          -0.4509982116619262,
          null,
          -0.12936665811335188,
          -0.11126775873945086,
          null,
          -0.12936665811335188,
          -0.7648161449303217,
          null,
          -0.12936665811335188,
          -0.544981015758331,
          null,
          -0.12936665811335188,
          -0.11483336740953065,
          null,
          -0.12936665811335188,
          -0.5348994176118737,
          null,
          -0.12936665811335188,
          -0.21416073593138005,
          null,
          -0.12936665811335188,
          -0.6067025342171072,
          null,
          -0.12936665811335188,
          -0.18946859283906897,
          null,
          -0.001438868780229865,
          -0.9812116921050943,
          null,
          -0.001438868780229865,
          -0.8813591327126156,
          null,
          -0.001438868780229865,
          -0.2989253375767194,
          null,
          -0.001438868780229865,
          -0.6314637420435862,
          null,
          -0.001438868780229865,
          0.7229481876497619,
          null,
          -0.001438868780229865,
          0.6233357958313867,
          null,
          -0.001438868780229865,
          -0.46703397232710053,
          null,
          -0.001438868780229865,
          -0.4776191874473795,
          null,
          -0.001438868780229865,
          -0.7361576769917841,
          null,
          -0.001438868780229865,
          0.5325087846663084,
          null,
          -0.001438868780229865,
          -0.38607382067201357,
          null,
          -0.001438868780229865,
          -0.5186449973213062,
          null,
          -0.001438868780229865,
          -0.1085754478306959,
          null,
          -0.001438868780229865,
          0.9337646732409068,
          null,
          -0.001438868780229865,
          0.5131965035164165,
          null,
          -0.001438868780229865,
          -0.8093781668781292,
          null,
          -0.001438868780229865,
          -0.5809163513898707,
          null,
          -0.001438868780229865,
          0.8304489196408709,
          null,
          -0.001438868780229865,
          0.2874750051643959,
          null,
          -0.001438868780229865,
          -0.4509982116619262,
          null,
          -0.001438868780229865,
          0.9080430159806477,
          null,
          -0.001438868780229865,
          0.733424935922781,
          null,
          -0.001438868780229865,
          -0.17121253984672058,
          null,
          -0.001438868780229865,
          0.8087747225565463,
          null,
          -0.001438868780229865,
          -0.374362135330588,
          null,
          -0.9812116921050943,
          -0.12936665811335188,
          null,
          -0.8813591327126156,
          -0.0732681407536735,
          null,
          -0.4337124850894654,
          -0.001438868780229865,
          null,
          -0.8349922105159933,
          -0.0732681407536735,
          null,
          -0.0041970771526311824,
          -0.8349922105159933,
          null,
          -0.0041970771526311824,
          -1.0,
          null,
          -0.0041970771526311824,
          0.5280623013481571,
          null,
          -0.0041970771526311824,
          0.7615806042378025,
          null,
          -0.0041970771526311824,
          -0.06912598719826865,
          null,
          -0.0041970771526311824,
          -0.34684745552916496,
          null,
          -0.0041970771526311824,
          0.01545486068944806,
          null,
          -0.0041970771526311824,
          -0.7361576769917841,
          null,
          -0.0041970771526311824,
          0.5325087846663084,
          null,
          -0.0041970771526311824,
          -0.38607382067201357,
          null,
          -0.0041970771526311824,
          -0.5186449973213062,
          null,
          -0.0041970771526311824,
          0.9337646732409068,
          null,
          -0.0041970771526311824,
          0.5131965035164165,
          null,
          -0.0041970771526311824,
          0.06336336073832956,
          null,
          -0.0041970771526311824,
          -0.9561486904903543,
          null,
          -0.0041970771526311824,
          -0.8046986771261306,
          null,
          -0.0041970771526311824,
          -0.6272926519871839,
          null,
          -0.0041970771526311824,
          0.712537580626188,
          null,
          -0.0041970771526311824,
          -0.7144776266815562,
          null,
          -0.0041970771526311824,
          0.44065167942396605,
          null,
          -0.0041970771526311824,
          0.6232779060685295,
          null,
          -0.0041970771526311824,
          -0.5114220099307751,
          null,
          -0.0041970771526311824,
          0.544364604747129,
          null,
          -0.0041970771526311824,
          0.6434289731498954,
          null,
          -0.0041970771526311824,
          -0.11126775873945086,
          null,
          -0.0041970771526311824,
          0.812907214337647,
          null,
          -0.0041970771526311824,
          0.3104122947613116,
          null,
          -0.0041970771526311824,
          0.38005728092047847,
          null,
          -0.0041970771526311824,
          -0.8440596041862258,
          null,
          -0.0041970771526311824,
          0.11700066116744635,
          null,
          -0.0041970771526311824,
          -0.18946859283906897,
          null,
          0.3046617177337201,
          -0.0041970771526311824,
          null,
          -1.0,
          -0.12936665811335188,
          null,
          -0.29663154191881563,
          -0.0041970771526311824,
          null,
          -0.7484188570263315,
          -0.0732681407536735,
          null,
          0.012029634770186546,
          -0.12936665811335188,
          null,
          -0.20689023769336745,
          -0.07898840582148531,
          null,
          0.22813345170164115,
          -0.001438868780229865,
          null,
          0.44277897298071556,
          0.0029189230657403085,
          null,
          0.14768399385176334,
          0.44277897298071556,
          null,
          0.14768399385176334,
          -0.6581383445572039,
          null,
          0.14768399385176334,
          0.8853729699430848,
          null,
          0.14768399385176334,
          -0.4042638180432967,
          null,
          0.14768399385176334,
          -0.6314637420435862,
          null,
          0.14768399385176334,
          0.08592571526620876,
          null,
          0.14768399385176334,
          0.6233357958313867,
          null,
          0.14768399385176334,
          0.31151962734523947,
          null,
          0.14768399385176334,
          -0.4776191874473795,
          null,
          0.14768399385176334,
          0.40340908107475304,
          null,
          0.14768399385176334,
          0.8244857104242872,
          null,
          0.14768399385176334,
          0.47466252729523084,
          null,
          0.14768399385176334,
          0.38005728092047847,
          null,
          -0.9969039611109097,
          -0.12936665811335188,
          null,
          -0.6706454235284269,
          -0.0732681407536735,
          null,
          0.8290278879925255,
          -0.0041970771526311824,
          null,
          -0.0017542667158363266,
          -0.0041970771526311824,
          null,
          0.2052613350581114,
          -0.0732681407536735,
          null,
          -0.6581383445572039,
          -0.07898840582148531,
          null,
          0.8853729699430848,
          -0.0041970771526311824,
          null,
          0.48261015012147757,
          -0.001438868780229865,
          null,
          0.6741769142162256,
          -0.001438868780229865,
          null,
          0.5280623013481571,
          0.0029189230657403085,
          null,
          -0.2989253375767194,
          -0.0732681407536735,
          null,
          0.010091804601152363,
          -0.001438868780229865,
          null,
          -0.4042638180432967,
          -0.001438868780229865,
          null,
          -0.4042638180432967,
          -0.07898840582148531,
          null,
          -0.6314637420435862,
          -0.07898840582148531,
          null,
          0.7229481876497619,
          0.0029189230657403085,
          null,
          0.08592571526620876,
          0.0029189230657403085,
          null,
          0.08592571526620876,
          -0.001438868780229865,
          null,
          0.6233357958313867,
          0.0029189230657403085,
          null,
          0.7615806042378025,
          -0.001438868780229865,
          null,
          -0.46703397232710053,
          -0.0041970771526311824,
          null,
          -0.06912598719826865,
          -0.0732681407536735,
          null,
          -0.6358783964434331,
          -0.0041970771526311824,
          null,
          0.31151962734523947,
          -0.0041970771526311824,
          null,
          0.31151962734523947,
          -0.001438868780229865,
          null,
          -0.4776191874473795,
          -0.0041970771526311824,
          null,
          -0.34684745552916496,
          -0.0732681407536735,
          null,
          0.01545486068944806,
          -0.001438868780229865,
          null,
          -0.7361576769917841,
          -0.07898840582148531,
          null,
          0.5325087846663084,
          0.0029189230657403085,
          null,
          -0.38607382067201357,
          -0.07898840582148531,
          null,
          -0.5186449973213062,
          -0.0732681407536735,
          null,
          -0.1085754478306959,
          0.0029189230657403085,
          null,
          -0.1085754478306959,
          -0.0041970771526311824,
          null,
          0.9337646732409068,
          0.30048494279823984,
          null,
          0.5131965035164165,
          0.0029189230657403085,
          null,
          0.06336336073832956,
          0.0029189230657403085,
          null,
          0.06336336073832956,
          -0.07898840582148531,
          null,
          -0.9561486904903543,
          -0.12936665811335188,
          null,
          0.6685133611457087,
          -0.0041970771526311824,
          null,
          0.9119101935787403,
          -0.001438868780229865,
          null,
          0.07197077632502187,
          -0.0732681407536735,
          null,
          -0.8093781668781292,
          -0.07898840582148531,
          null,
          -0.8046986771261306,
          -0.07898840582148531,
          null,
          0.5832166830408694,
          -0.0041970771526311824,
          null,
          0.7207143898470953,
          -0.001438868780229865,
          null,
          0.2659299645240258,
          -0.0041970771526311824,
          null,
          0.2659299645240258,
          -0.001438868780229865,
          null,
          -0.6272926519871839,
          -0.001438868780229865,
          null,
          -0.5809163513898707,
          -0.0041970771526311824,
          null,
          0.712537580626188,
          -0.001438868780229865,
          null,
          -0.7144776266815562,
          -0.07898840582148531,
          null,
          0.44065167942396605,
          0.0029189230657403085,
          null,
          0.6232779060685295,
          -0.001438868780229865,
          null,
          0.8304489196408709,
          -0.0041970771526311824,
          null,
          -0.4109939918810746,
          -0.07898840582148531,
          null,
          -0.2843416956394826,
          -0.0041970771526311824,
          null,
          0.2524517800301472,
          -0.001438868780229865,
          null,
          0.5657051024562775,
          -0.0041970771526311824,
          null,
          -0.3270162392013458,
          -0.0041970771526311824,
          null,
          -0.3270162392013458,
          -0.07898840582148531,
          null,
          0.1610879808147184,
          -0.0041970771526311824,
          null,
          -0.5114220099307751,
          0.0029189230657403085,
          null,
          0.544364604747129,
          -0.001438868780229865,
          null,
          0.2874750051643959,
          -0.0041970771526311824,
          null,
          0.36537065891618065,
          -0.0041970771526311824,
          null,
          0.36537065891618065,
          -0.001438868780229865,
          null,
          0.6434289731498954,
          0.0029189230657403085,
          null,
          -0.4509982116619262,
          -0.07898840582148531,
          null,
          -0.11126775873945086,
          -0.07898840582148531,
          null,
          -0.7648161449303217,
          -0.07898840582148531,
          null,
          0.812907214337647,
          -0.001438868780229865,
          null,
          0.3104122947613116,
          -0.001438868780229865,
          null,
          0.9080430159806477,
          -0.0041970771526311824,
          null,
          0.733424935922781,
          -0.0041970771526311824,
          null,
          -0.21297816523604818,
          -0.0041970771526311824,
          null,
          -0.05085461327677837,
          -0.0041970771526311824,
          null,
          -0.544981015758331,
          -0.07898840582148531,
          null,
          0.40340908107475304,
          -0.001438868780229865,
          null,
          -0.17121253984672058,
          -0.0041970771526311824,
          null,
          -0.8145546365211235,
          -0.07898840582148531,
          null,
          -0.11483336740953065,
          -0.0041970771526311824,
          null,
          0.8244857104242872,
          -0.001438868780229865,
          null,
          0.47466252729523084,
          -0.001438868780229865,
          null,
          0.38005728092047847,
          -0.001438868780229865,
          null,
          -0.5348994176118737,
          -0.07898840582148531,
          null,
          -0.8440596041862258,
          -0.07898840582148531,
          null,
          0.8087747225565463,
          -0.0041970771526311824,
          null,
          0.11700066116744635,
          -0.001438868780229865,
          null,
          -0.374362135330588,
          -0.0041970771526311824,
          null,
          -0.21416073593138005,
          -0.0041970771526311824,
          null,
          -0.21416073593138005,
          -0.07898840582148531,
          null,
          -0.6067025342171072,
          -0.0041970771526311824,
          null,
          -0.18946859283906897,
          -0.07898840582148531,
          null
         ],
         "y": [
          -0.8343930126157063,
          -0.010549707617894657,
          null,
          -0.32378072339062575,
          -0.8343930126157063,
          null,
          -0.32378072339062575,
          0.1634532288987055,
          null,
          -0.32378072339062575,
          -0.33426106472240086,
          null,
          -0.32378072339062575,
          -0.4587567677433486,
          null,
          -0.32378072339062575,
          -0.27050257938572336,
          null,
          -0.32378072339062575,
          0.21546631018564644,
          null,
          -0.32378072339062575,
          -0.5835908085823607,
          null,
          -0.32378072339062575,
          0.7018053135589098,
          null,
          -0.32378072339062575,
          0.020436705610641995,
          null,
          -0.32378072339062575,
          -0.4447706278575147,
          null,
          -0.32378072339062575,
          -0.9237385318558765,
          null,
          -0.32378072339062575,
          -0.8450298031491045,
          null,
          -0.32378072339062575,
          -0.7230748815168793,
          null,
          -0.32378072339062575,
          -0.5580844461368033,
          null,
          -0.010549707617894657,
          0.6387804666446203,
          null,
          -0.010549707617894657,
          -0.9324928337889916,
          null,
          -0.010549707617894657,
          0.9453864267288755,
          null,
          -0.010549707617894657,
          -0.8605801540382366,
          null,
          -0.010549707617894657,
          -5.655325418882314E-4,
          null,
          -0.010549707617894657,
          -0.8972540353878742,
          null,
          -0.010549707617894657,
          -0.2552986454072153,
          null,
          -0.010549707617894657,
          0.935893113470954,
          null,
          -0.010549707617894657,
          0.5697549991994215,
          null,
          -0.010549707617894657,
          -0.5829611931350753,
          null,
          -0.010549707617894657,
          0.6201245793103974,
          null,
          -0.010549707617894657,
          -0.6813060874611305,
          null,
          -0.010549707617894657,
          -0.5835908085823607,
          null,
          -0.010549707617894657,
          0.7018053135589098,
          null,
          -0.010549707617894657,
          -0.1774510809255977,
          null,
          -0.010549707617894657,
          0.6626277305732808,
          null,
          -0.010549707617894657,
          0.020436705610641995,
          null,
          -0.010549707617894657,
          0.5627579863152292,
          null,
          -0.010549707617894657,
          -0.5324177451359816,
          null,
          -0.010549707617894657,
          -0.28717586705203113,
          null,
          -0.010549707617894657,
          -0.6991883200398233,
          null,
          -0.010549707617894657,
          0.3588294712793831,
          null,
          -0.010549707617894657,
          0.4556076828656769,
          null,
          -0.010549707617894657,
          0.08585993348929616,
          null,
          -0.010549707617894657,
          0.28460179337502073,
          null,
          -0.010549707617894657,
          -0.7230748815168793,
          null,
          -0.010549707617894657,
          -0.5580844461368033,
          null,
          -0.010549707617894657,
          0.33457280585826443,
          null,
          -0.010549707617894657,
          -0.6588139037456168,
          null,
          -0.010549707617894657,
          0.8835907854182787,
          null,
          0.7725865249860042,
          -0.010549707617894657,
          null,
          0.07635427393727819,
          0.7725865249860042,
          null,
          0.07635427393727819,
          -0.8304316967346265,
          null,
          0.07635427393727819,
          0.6307220788636057,
          null,
          0.07635427393727819,
          0.7758713583881217,
          null,
          0.07635427393727819,
          0.541699400903322,
          null,
          0.07635427393727819,
          -0.5426784454274282,
          null,
          0.07635427393727819,
          0.5234739088034178,
          null,
          0.07635427393727819,
          0.45115240481735447,
          null,
          0.07635427393727819,
          -0.1928412522430943,
          null,
          0.07635427393727819,
          0.41010731926181343,
          null,
          0.07635427393727819,
          -0.13681959505804822,
          null,
          0.07635427393727819,
          0.6606834771919359,
          null,
          0.07635427393727819,
          -0.6813060874611305,
          null,
          0.07635427393727819,
          -0.1774510809255977,
          null,
          0.07635427393727819,
          0.6626277305732808,
          null,
          0.07635427393727819,
          0.1747966757971377,
          null,
          0.07635427393727819,
          0.1721426694623429,
          null,
          0.07635427393727819,
          -0.718910876334018,
          null,
          0.07635427393727819,
          -0.4313095950460088,
          null,
          0.07635427393727819,
          0.44979201499109056,
          null,
          0.07635427393727819,
          0.0398195484413478,
          null,
          0.07635427393727819,
          -0.28717586705203113,
          null,
          0.07635427393727819,
          0.08585993348929616,
          null,
          0.04558480558959316,
          0.7725865249860042,
          null,
          0.04558480558959316,
          -0.16988965099188208,
          null,
          0.04558480558959316,
          -0.08991702577103367,
          null,
          0.04558480558959316,
          0.3233950077447393,
          null,
          0.04558480558959316,
          -0.8304316967346265,
          null,
          0.04558480558959316,
          0.5592707392420134,
          null,
          0.04558480558959316,
          0.6307220788636057,
          null,
          0.04558480558959316,
          0.06175503664091063,
          null,
          0.04558480558959316,
          -0.8174725990640049,
          null,
          0.04558480558959316,
          0.20944430552361068,
          null,
          0.04558480558959316,
          0.7758713583881217,
          null,
          0.04558480558959316,
          0.2285275319346821,
          null,
          0.04558480558959316,
          -0.29166080080456014,
          null,
          0.04558480558959316,
          0.9105808684167743,
          null,
          0.04558480558959316,
          -0.4493467932630361,
          null,
          0.04558480558959316,
          0.9453864267288755,
          null,
          0.04558480558959316,
          -0.8605801540382366,
          null,
          0.04558480558959316,
          -0.312504146027363,
          null,
          0.04558480558959316,
          -0.2736848631184526,
          null,
          0.04558480558959316,
          -0.2552986454072153,
          null,
          0.04558480558959316,
          0.935893113470954,
          null,
          0.04558480558959316,
          -0.4153874483401093,
          null,
          0.04558480558959316,
          -0.14365081494274035,
          null,
          0.04558480558959316,
          0.7486709268174084,
          null,
          0.04558480558959316,
          0.6626277305732808,
          null,
          0.04558480558959316,
          0.1747966757971377,
          null,
          0.04558480558959316,
          0.1721426694623429,
          null,
          0.04558480558959316,
          -0.718910876334018,
          null,
          0.04558480558959316,
          0.3201633347621956,
          null,
          0.04558480558959316,
          -0.5324177451359816,
          null,
          0.04558480558959316,
          -0.11294050033918196,
          null,
          0.04558480558959316,
          0.28460179337502073,
          null,
          0.04558480558959316,
          -0.6588139037456168,
          null,
          -0.16988965099188208,
          -0.035540903615884516,
          null,
          0.05080144241674991,
          -0.16988965099188208,
          null,
          0.05080144241674991,
          -0.8174725990640049,
          null,
          0.05080144241674991,
          0.20944430552361068,
          null,
          0.05080144241674991,
          0.5084786576175369,
          null,
          0.05080144241674991,
          -0.5941170975609712,
          null,
          0.05080144241674991,
          -0.7818065048157538,
          null,
          0.05080144241674991,
          -0.5823286137035399,
          null,
          0.05080144241674991,
          0.817822199057671,
          null,
          0.05080144241674991,
          0.541699400903322,
          null,
          0.05080144241674991,
          -0.00358063437552522,
          null,
          0.05080144241674991,
          -0.45023690866674687,
          null,
          0.05080144241674991,
          0.9678343535286493,
          null,
          0.05080144241674991,
          -0.5426784454274282,
          null,
          0.05080144241674991,
          0.3570358193620757,
          null,
          0.05080144241674991,
          0.3201633347621956,
          null,
          0.05080144241674991,
          0.8205970879843063,
          null,
          0.05080144241674991,
          0.7572022149571763,
          null,
          0.05080144241674991,
          -0.4313095950460088,
          null,
          0.05080144241674991,
          0.7527254722429333,
          null,
          0.05080144241674991,
          -0.6991883200398233,
          null,
          0.05080144241674991,
          0.4556076828656769,
          null,
          0.05080144241674991,
          0.33457280585826443,
          null,
          0.05080144241674991,
          -0.6588139037456168,
          null,
          0.05080144241674991,
          0.8835907854182787,
          null,
          -0.035540903615884516,
          -0.08991702577103367,
          null,
          -0.035540903615884516,
          0.3233950077447393,
          null,
          -0.035540903615884516,
          0.817822199057671,
          null,
          -0.035540903615884516,
          0.6909738835024302,
          null,
          -0.035540903615884516,
          0.1634532288987055,
          null,
          -0.035540903615884516,
          0.008701103129619914,
          null,
          -0.035540903615884516,
          -0.45023690866674687,
          null,
          -0.035540903615884516,
          -0.6783216614831378,
          null,
          -0.035540903615884516,
          -5.655325418882314E-4,
          null,
          -0.035540903615884516,
          -0.312504146027363,
          null,
          -0.035540903615884516,
          0.5234739088034178,
          null,
          -0.035540903615884516,
          -0.2736848631184526,
          null,
          -0.035540903615884516,
          -0.33426106472240086,
          null,
          -0.035540903615884516,
          -0.8972540353878742,
          null,
          -0.035540903615884516,
          -0.4587567677433486,
          null,
          -0.035540903615884516,
          0.41010731926181343,
          null,
          -0.035540903615884516,
          -0.14365081494274035,
          null,
          -0.035540903615884516,
          0.40455441340679754,
          null,
          -0.035540903615884516,
          -0.718910876334018,
          null,
          -0.035540903615884516,
          0.8205970879843063,
          null,
          -0.035540903615884516,
          0.0398195484413478,
          null,
          -0.035540903615884516,
          0.5627579863152292,
          null,
          -0.035540903615884516,
          -0.8450298031491045,
          null,
          -0.035540903615884516,
          0.28460179337502073,
          null,
          -0.035540903615884516,
          -0.5580844461368033,
          null,
          -0.08991702577103367,
          0.05080144241674991,
          null,
          0.3233950077447393,
          0.07635427393727819,
          null,
          -0.8304316967346265,
          -0.035540903615884516,
          null,
          0.5592707392420134,
          0.07635427393727819,
          null,
          -0.0037732506925577773,
          0.5592707392420134,
          null,
          -0.0037732506925577773,
          0.06175503664091063,
          null,
          -0.0037732506925577773,
          -0.5823286137035399,
          null,
          -0.0037732506925577773,
          -0.00358063437552522,
          null,
          -0.0037732506925577773,
          0.9678343535286493,
          null,
          -0.0037732506925577773,
          0.9453864267288755,
          null,
          -0.0037732506925577773,
          -0.8605801540382366,
          null,
          -0.0037732506925577773,
          -5.655325418882314E-4,
          null,
          -0.0037732506925577773,
          -0.312504146027363,
          null,
          -0.0037732506925577773,
          0.5234739088034178,
          null,
          -0.0037732506925577773,
          -0.2736848631184526,
          null,
          -0.0037732506925577773,
          -0.8972540353878742,
          null,
          -0.0037732506925577773,
          -0.4587567677433486,
          null,
          -0.0037732506925577773,
          0.3570358193620757,
          null,
          -0.0037732506925577773,
          -0.2552986454072153,
          null,
          -0.0037732506925577773,
          -0.13681959505804822,
          null,
          -0.0037732506925577773,
          -0.4153874483401093,
          null,
          -0.0037732506925577773,
          -0.5829611931350753,
          null,
          -0.0037732506925577773,
          0.6201245793103974,
          null,
          -0.0037732506925577773,
          0.7486709268174084,
          null,
          -0.0037732506925577773,
          -0.7021138240320519,
          null,
          -0.0037732506925577773,
          0.1747966757971377,
          null,
          -0.0037732506925577773,
          0.1721426694623429,
          null,
          -0.0037732506925577773,
          0.3201633347621956,
          null,
          -0.0037732506925577773,
          0.7572022149571763,
          null,
          -0.0037732506925577773,
          -0.4447706278575147,
          null,
          -0.0037732506925577773,
          0.44979201499109056,
          null,
          -0.0037732506925577773,
          -0.8675791954249458,
          null,
          -0.0037732506925577773,
          0.08585993348929616,
          null,
          -0.0037732506925577773,
          -0.7230748815168793,
          null,
          -0.0037732506925577773,
          0.8835907854182787,
          null,
          0.6307220788636057,
          -0.0037732506925577773,
          null,
          0.06175503664091063,
          0.05080144241674991,
          null,
          -0.8174725990640049,
          -0.0037732506925577773,
          null,
          0.20944430552361068,
          0.07635427393727819,
          null,
          0.7758713583881217,
          0.05080144241674991,
          null,
          0.6387804666446203,
          0.04558480558959316,
          null,
          -0.9324928337889916,
          -0.035540903615884516,
          null,
          0.5601222330021356,
          -0.010549707617894657,
          null,
          -0.04291383814640111,
          0.5601222330021356,
          null,
          -0.04291383814640111,
          0.31897824306971156,
          null,
          -0.04291383814640111,
          0.17788864206484095,
          null,
          -0.04291383814640111,
          0.02632831239359696,
          null,
          -0.04291383814640111,
          0.6909738835024302,
          null,
          -0.04291383814640111,
          -0.37212446163214685,
          null,
          -0.04291383814640111,
          0.008701103129619914,
          null,
          -0.04291383814640111,
          -0.16997739772902995,
          null,
          -0.04291383814640111,
          -0.6783216614831378,
          null,
          -0.04291383814640111,
          -0.6562888744175556,
          null,
          -0.04291383814640111,
          -0.11294050033918196,
          null,
          -0.04291383814640111,
          0.3588294712793831,
          null,
          -0.04291383814640111,
          -0.8675791954249458,
          null,
          0.2285275319346821,
          0.05080144241674991,
          null,
          0.5084786576175369,
          0.07635427393727819,
          null,
          -0.29166080080456014,
          -0.0037732506925577773,
          null,
          -0.5941170975609712,
          -0.0037732506925577773,
          null,
          0.9105808684167743,
          0.07635427393727819,
          null,
          0.31897824306971156,
          0.04558480558959316,
          null,
          0.17788864206484095,
          -0.0037732506925577773,
          null,
          -0.7818065048157538,
          -0.035540903615884516,
          null,
          -0.4493467932630361,
          -0.035540903615884516,
          null,
          -0.5823286137035399,
          -0.010549707617894657,
          null,
          0.817822199057671,
          0.07635427393727819,
          null,
          0.541699400903322,
          -0.035540903615884516,
          null,
          0.02632831239359696,
          -0.035540903615884516,
          null,
          0.02632831239359696,
          0.04558480558959316,
          null,
          0.6909738835024302,
          0.04558480558959316,
          null,
          0.1634532288987055,
          -0.010549707617894657,
          null,
          -0.37212446163214685,
          -0.010549707617894657,
          null,
          -0.37212446163214685,
          -0.035540903615884516,
          null,
          0.008701103129619914,
          -0.010549707617894657,
          null,
          -0.00358063437552522,
          -0.035540903615884516,
          null,
          -0.45023690866674687,
          -0.0037732506925577773,
          null,
          0.9678343535286493,
          0.07635427393727819,
          null,
          -0.5426784454274282,
          -0.0037732506925577773,
          null,
          -0.16997739772902995,
          -0.0037732506925577773,
          null,
          -0.16997739772902995,
          -0.035540903615884516,
          null,
          -0.6783216614831378,
          -0.0037732506925577773,
          null,
          0.9453864267288755,
          0.07635427393727819,
          null,
          -0.8605801540382366,
          -0.035540903615884516,
          null,
          -5.655325418882314E-4,
          0.04558480558959316,
          null,
          -0.312504146027363,
          -0.010549707617894657,
          null,
          0.5234739088034178,
          0.04558480558959316,
          null,
          -0.2736848631184526,
          0.07635427393727819,
          null,
          -0.33426106472240086,
          -0.010549707617894657,
          null,
          -0.33426106472240086,
          -0.0037732506925577773,
          null,
          -0.8972540353878742,
          -0.32378072339062575,
          null,
          -0.4587567677433486,
          -0.010549707617894657,
          null,
          0.3570358193620757,
          -0.010549707617894657,
          null,
          0.3570358193620757,
          0.04558480558959316,
          null,
          -0.2552986454072153,
          0.05080144241674991,
          null,
          0.45115240481735447,
          -0.0037732506925577773,
          null,
          -0.1928412522430943,
          -0.035540903615884516,
          null,
          0.935893113470954,
          0.07635427393727819,
          null,
          0.41010731926181343,
          0.04558480558959316,
          null,
          -0.13681959505804822,
          0.04558480558959316,
          null,
          0.5697549991994215,
          -0.0037732506925577773,
          null,
          -0.27050257938572336,
          -0.035540903615884516,
          null,
          0.21546631018564644,
          -0.0037732506925577773,
          null,
          0.21546631018564644,
          -0.035540903615884516,
          null,
          -0.4153874483401093,
          -0.035540903615884516,
          null,
          -0.14365081494274035,
          -0.0037732506925577773,
          null,
          -0.5829611931350753,
          -0.035540903615884516,
          null,
          0.6201245793103974,
          0.04558480558959316,
          null,
          0.7486709268174084,
          -0.010549707617894657,
          null,
          -0.7021138240320519,
          -0.035540903615884516,
          null,
          0.40455441340679754,
          -0.0037732506925577773,
          null,
          0.6606834771919359,
          0.04558480558959316,
          null,
          -0.6813060874611305,
          -0.0037732506925577773,
          null,
          -0.5835908085823607,
          -0.035540903615884516,
          null,
          0.7018053135589098,
          -0.0037732506925577773,
          null,
          -0.1774510809255977,
          -0.0037732506925577773,
          null,
          -0.1774510809255977,
          0.04558480558959316,
          null,
          0.6626277305732808,
          -0.0037732506925577773,
          null,
          0.1747966757971377,
          -0.010549707617894657,
          null,
          0.1721426694623429,
          -0.035540903615884516,
          null,
          -0.718910876334018,
          -0.0037732506925577773,
          null,
          0.020436705610641995,
          -0.0037732506925577773,
          null,
          0.020436705610641995,
          -0.035540903615884516,
          null,
          0.3201633347621956,
          -0.010549707617894657,
          null,
          0.8205970879843063,
          0.04558480558959316,
          null,
          0.7572022149571763,
          0.04558480558959316,
          null,
          -0.4313095950460088,
          0.04558480558959316,
          null,
          -0.4447706278575147,
          -0.035540903615884516,
          null,
          0.44979201499109056,
          -0.035540903615884516,
          null,
          0.0398195484413478,
          -0.0037732506925577773,
          null,
          0.5627579863152292,
          -0.0037732506925577773,
          null,
          -0.5324177451359816,
          -0.0037732506925577773,
          null,
          -0.9237385318558765,
          -0.0037732506925577773,
          null,
          0.7527254722429333,
          0.04558480558959316,
          null,
          -0.6562888744175556,
          -0.035540903615884516,
          null,
          -0.8450298031491045,
          -0.0037732506925577773,
          null,
          -0.28717586705203113,
          0.04558480558959316,
          null,
          -0.6991883200398233,
          -0.0037732506925577773,
          null,
          -0.11294050033918196,
          -0.035540903615884516,
          null,
          0.3588294712793831,
          -0.035540903615884516,
          null,
          -0.8675791954249458,
          -0.035540903615884516,
          null,
          0.4556076828656769,
          0.04558480558959316,
          null,
          0.08585993348929616,
          0.04558480558959316,
          null,
          0.28460179337502073,
          -0.0037732506925577773,
          null,
          -0.7230748815168793,
          -0.035540903615884516,
          null,
          -0.5580844461368033,
          -0.0037732506925577773,
          null,
          0.33457280585826443,
          -0.0037732506925577773,
          null,
          0.33457280585826443,
          0.04558480558959316,
          null,
          -0.6588139037456168,
          -0.0037732506925577773,
          null,
          0.8835907854182787,
          0.04558480558959316,
          null
         ],
         "type": "scatter"
        },
        {
         "hoverinfo": "text",
         "marker": {
          "color": [],
          "colorbar": {
           "thickness": 15,
           "title": {
            "side": "right",
            "text": "Node Connections"
           },
           "xanchor": "left"
          },
          "colorscale": [
           [
            0.0,
            "rgb(255,255,217)"
           ],
           [
            0.125,
            "rgb(237,248,177)"
           ],
           [
            0.25,
            "rgb(199,233,180)"
           ],
           [
            0.375,
            "rgb(127,205,187)"
           ],
           [
            0.5,
            "rgb(65,182,196)"
           ],
           [
            0.625,
            "rgb(29,145,192)"
           ],
           [
            0.75,
            "rgb(34,94,168)"
           ],
           [
            0.875,
            "rgb(37,52,148)"
           ],
           [
            1.0,
            "rgb(8,29,88)"
           ]
          ],
          "line": {
           "width": 2
          },
          "reversescale": true,
          "showscale": true,
          "size": 10
         },
         "mode": "markers",
         "text": [
          "0",
          "Брюки",
          "Сумка",
          "1",
          "Рубашка",
          "Куртка",
          "2",
          "Кроссовки",
          "Джинсы",
          "3",
          "4",
          "5",
          "6",
          "Футболка",
          "7",
          "8",
          "9",
          "10",
          "11",
          "12",
          "13",
          "14",
          "Шапка",
          "15",
          "16",
          "17",
          "18",
          "19",
          "20",
          "21",
          "22",
          "23",
          "24",
          "25",
          "26",
          "27",
          "28",
          "29",
          "30",
          "31",
          "32",
          "33",
          "34",
          "35",
          "36",
          "37",
          "38",
          "39",
          "40",
          "41",
          "42",
          "43",
          "44",
          "45",
          "46",
          "47",
          "48",
          "49",
          "50",
          "51",
          "52",
          "53",
          "54",
          "55",
          "56",
          "57",
          "58",
          "59",
          "60",
          "61",
          "62",
          "63",
          "64",
          "65",
          "66",
          "67",
          "68",
          "69",
          "70",
          "71",
          "72",
          "73",
          "74",
          "75",
          "76",
          "77",
          "78",
          "79",
          "80",
          "81",
          "82",
          "83",
          "84",
          "85",
          "86",
          "87",
          "88",
          "89",
          "90",
          "91",
          "92",
          "93",
          "94",
          "95",
          "96",
          "97",
          "98",
          "99"
         ],
         "x": [
          0.1517681600486874,
          0.30048494279823984,
          0.0029189230657403085,
          0.3028185346696831,
          -0.0732681407536735,
          -0.07898840582148531,
          0.6116499056987365,
          -0.12936665811335188,
          -0.001438868780229865,
          -0.9812116921050943,
          -0.8813591327126156,
          -0.4337124850894654,
          -0.8349922105159933,
          -0.0041970771526311824,
          0.3046617177337201,
          -1.0,
          -0.29663154191881563,
          -0.7484188570263315,
          0.012029634770186546,
          -0.20689023769336745,
          0.22813345170164115,
          0.44277897298071556,
          0.14768399385176334,
          -0.9969039611109097,
          -0.6706454235284269,
          0.8290278879925255,
          -0.0017542667158363266,
          0.2052613350581114,
          -0.6581383445572039,
          0.8853729699430848,
          0.48261015012147757,
          0.6741769142162256,
          0.5280623013481571,
          -0.2989253375767194,
          0.010091804601152363,
          -0.4042638180432967,
          -0.6314637420435862,
          0.7229481876497619,
          0.08592571526620876,
          0.6233357958313867,
          0.7615806042378025,
          -0.46703397232710053,
          -0.06912598719826865,
          -0.6358783964434331,
          0.31151962734523947,
          -0.4776191874473795,
          -0.34684745552916496,
          0.01545486068944806,
          -0.7361576769917841,
          0.5325087846663084,
          -0.38607382067201357,
          -0.5186449973213062,
          -0.1085754478306959,
          0.9337646732409068,
          0.5131965035164165,
          0.06336336073832956,
          -0.9561486904903543,
          0.6685133611457087,
          0.9119101935787403,
          0.07197077632502187,
          -0.8093781668781292,
          -0.8046986771261306,
          0.5832166830408694,
          0.7207143898470953,
          0.2659299645240258,
          -0.6272926519871839,
          -0.5809163513898707,
          0.712537580626188,
          -0.7144776266815562,
          0.44065167942396605,
          0.6232779060685295,
          0.8304489196408709,
          -0.4109939918810746,
          -0.2843416956394826,
          0.2524517800301472,
          0.5657051024562775,
          -0.3270162392013458,
          0.1610879808147184,
          -0.5114220099307751,
          0.544364604747129,
          0.2874750051643959,
          0.36537065891618065,
          0.6434289731498954,
          -0.4509982116619262,
          -0.11126775873945086,
          -0.7648161449303217,
          0.812907214337647,
          0.3104122947613116,
          0.9080430159806477,
          0.733424935922781,
          -0.21297816523604818,
          -0.05085461327677837,
          -0.544981015758331,
          0.40340908107475304,
          -0.17121253984672058,
          -0.8145546365211235,
          -0.11483336740953065,
          0.8244857104242872,
          0.47466252729523084,
          0.38005728092047847,
          -0.5348994176118737,
          -0.8440596041862258,
          0.8087747225565463,
          0.11700066116744635,
          -0.374362135330588,
          -0.21416073593138005,
          -0.6067025342171072,
          -0.18946859283906897
         ],
         "y": [
          -0.8343930126157063,
          -0.32378072339062575,
          -0.010549707617894657,
          0.7725865249860042,
          0.07635427393727819,
          0.04558480558959316,
          -0.16988965099188208,
          0.05080144241674991,
          -0.035540903615884516,
          -0.08991702577103367,
          0.3233950077447393,
          -0.8304316967346265,
          0.5592707392420134,
          -0.0037732506925577773,
          0.6307220788636057,
          0.06175503664091063,
          -0.8174725990640049,
          0.20944430552361068,
          0.7758713583881217,
          0.6387804666446203,
          -0.9324928337889916,
          0.5601222330021356,
          -0.04291383814640111,
          0.2285275319346821,
          0.5084786576175369,
          -0.29166080080456014,
          -0.5941170975609712,
          0.9105808684167743,
          0.31897824306971156,
          0.17788864206484095,
          -0.7818065048157538,
          -0.4493467932630361,
          -0.5823286137035399,
          0.817822199057671,
          0.541699400903322,
          0.02632831239359696,
          0.6909738835024302,
          0.1634532288987055,
          -0.37212446163214685,
          0.008701103129619914,
          -0.00358063437552522,
          -0.45023690866674687,
          0.9678343535286493,
          -0.5426784454274282,
          -0.16997739772902995,
          -0.6783216614831378,
          0.9453864267288755,
          -0.8605801540382366,
          -5.655325418882314E-4,
          -0.312504146027363,
          0.5234739088034178,
          -0.2736848631184526,
          -0.33426106472240086,
          -0.8972540353878742,
          -0.4587567677433486,
          0.3570358193620757,
          -0.2552986454072153,
          0.45115240481735447,
          -0.1928412522430943,
          0.935893113470954,
          0.41010731926181343,
          -0.13681959505804822,
          0.5697549991994215,
          -0.27050257938572336,
          0.21546631018564644,
          -0.4153874483401093,
          -0.14365081494274035,
          -0.5829611931350753,
          0.6201245793103974,
          0.7486709268174084,
          -0.7021138240320519,
          0.40455441340679754,
          0.6606834771919359,
          -0.6813060874611305,
          -0.5835908085823607,
          0.7018053135589098,
          -0.1774510809255977,
          0.6626277305732808,
          0.1747966757971377,
          0.1721426694623429,
          -0.718910876334018,
          0.020436705610641995,
          0.3201633347621956,
          0.8205970879843063,
          0.7572022149571763,
          -0.4313095950460088,
          -0.4447706278575147,
          0.44979201499109056,
          0.0398195484413478,
          0.5627579863152292,
          -0.5324177451359816,
          -0.9237385318558765,
          0.7527254722429333,
          -0.6562888744175556,
          -0.8450298031491045,
          -0.28717586705203113,
          -0.6991883200398233,
          -0.11294050033918196,
          0.3588294712793831,
          -0.8675791954249458,
          0.4556076828656769,
          0.08585993348929616,
          0.28460179337502073,
          -0.7230748815168793,
          -0.5580844461368033,
          0.33457280585826443,
          -0.6588139037456168,
          0.8835907854182787
         ],
         "type": "scatter"
        }
       ],
       "layout": {
        "annotations": [
         {
          "showarrow": false,
          "text": "Python code: <a href='https://plotly.com/ipython-notebooks/network-graphs/'> https://plotly.com/ipython-notebooks/network-graphs/</a>",
          "x": 0.005,
          "xref": "paper",
          "y": -0.002,
          "yref": "paper"
         }
        ],
        "hovermode": "closest",
        "margin": {
         "b": 20,
         "l": 5,
         "r": 5,
         "t": 40
        },
        "showlegend": false,
        "title": {
         "font": {
          "size": 16
         },
         "text": "<br>Network graph made with Python"
        },
        "xaxis": {
         "showgrid": false,
         "showticklabels": false,
         "zeroline": false
        },
        "yaxis": {
         "showgrid": false,
         "showticklabels": false,
         "zeroline": false
        },
        "template": {
         "data": {
          "histogram2dcontour": [
           {
            "type": "histogram2dcontour",
            "colorbar": {
             "outlinewidth": 0,
             "ticks": ""
            },
            "colorscale": [
             [
              0.0,
              "#0d0887"
             ],
             [
              0.1111111111111111,
              "#46039f"
             ],
             [
              0.2222222222222222,
              "#7201a8"
             ],
             [
              0.3333333333333333,
              "#9c179e"
             ],
             [
              0.4444444444444444,
              "#bd3786"
             ],
             [
              0.5555555555555556,
              "#d8576b"
             ],
             [
              0.6666666666666666,
              "#ed7953"
             ],
             [
              0.7777777777777778,
              "#fb9f3a"
             ],
             [
              0.8888888888888888,
              "#fdca26"
             ],
             [
              1.0,
              "#f0f921"
             ]
            ]
           }
          ],
          "choropleth": [
           {
            "type": "choropleth",
            "colorbar": {
             "outlinewidth": 0,
             "ticks": ""
            }
           }
          ],
          "histogram2d": [
           {
            "type": "histogram2d",
            "colorbar": {
             "outlinewidth": 0,
             "ticks": ""
            },
            "colorscale": [
             [
              0.0,
              "#0d0887"
             ],
             [
              0.1111111111111111,
              "#46039f"
             ],
             [
              0.2222222222222222,
              "#7201a8"
             ],
             [
              0.3333333333333333,
              "#9c179e"
             ],
             [
              0.4444444444444444,
              "#bd3786"
             ],
             [
              0.5555555555555556,
              "#d8576b"
             ],
             [
              0.6666666666666666,
              "#ed7953"
             ],
             [
              0.7777777777777778,
              "#fb9f3a"
             ],
             [
              0.8888888888888888,
              "#fdca26"
             ],
             [
              1.0,
              "#f0f921"
             ]
            ]
           }
          ],
          "heatmap": [
           {
            "type": "heatmap",
            "colorbar": {
             "outlinewidth": 0,
             "ticks": ""
            },
            "colorscale": [
             [
              0.0,
              "#0d0887"
             ],
             [
              0.1111111111111111,
              "#46039f"
             ],
             [
              0.2222222222222222,
              "#7201a8"
             ],
             [
              0.3333333333333333,
              "#9c179e"
             ],
             [
              0.4444444444444444,
              "#bd3786"
             ],
             [
              0.5555555555555556,
              "#d8576b"
             ],
             [
              0.6666666666666666,
              "#ed7953"
             ],
             [
              0.7777777777777778,
              "#fb9f3a"
             ],
             [
              0.8888888888888888,
              "#fdca26"
             ],
             [
              1.0,
              "#f0f921"
             ]
            ]
           }
          ],
          "heatmapgl": [
           {
            "type": "heatmapgl",
            "colorbar": {
             "outlinewidth": 0,
             "ticks": ""
            },
            "colorscale": [
             [
              0.0,
              "#0d0887"
             ],
             [
              0.1111111111111111,
              "#46039f"
             ],
             [
              0.2222222222222222,
              "#7201a8"
             ],
             [
              0.3333333333333333,
              "#9c179e"
             ],
             [
              0.4444444444444444,
              "#bd3786"
             ],
             [
              0.5555555555555556,
              "#d8576b"
             ],
             [
              0.6666666666666666,
              "#ed7953"
             ],
             [
              0.7777777777777778,
              "#fb9f3a"
             ],
             [
              0.8888888888888888,
              "#fdca26"
             ],
             [
              1.0,
              "#f0f921"
             ]
            ]
           }
          ],
          "contourcarpet": [
           {
            "type": "contourcarpet",
            "colorbar": {
             "outlinewidth": 0,
             "ticks": ""
            }
           }
          ],
          "contour": [
           {
            "type": "contour",
            "colorbar": {
             "outlinewidth": 0,
             "ticks": ""
            },
            "colorscale": [
             [
              0.0,
              "#0d0887"
             ],
             [
              0.1111111111111111,
              "#46039f"
             ],
             [
              0.2222222222222222,
              "#7201a8"
             ],
             [
              0.3333333333333333,
              "#9c179e"
             ],
             [
              0.4444444444444444,
              "#bd3786"
             ],
             [
              0.5555555555555556,
              "#d8576b"
             ],
             [
              0.6666666666666666,
              "#ed7953"
             ],
             [
              0.7777777777777778,
              "#fb9f3a"
             ],
             [
              0.8888888888888888,
              "#fdca26"
             ],
             [
              1.0,
              "#f0f921"
             ]
            ]
           }
          ],
          "surface": [
           {
            "type": "surface",
            "colorbar": {
             "outlinewidth": 0,
             "ticks": ""
            },
            "colorscale": [
             [
              0.0,
              "#0d0887"
             ],
             [
              0.1111111111111111,
              "#46039f"
             ],
             [
              0.2222222222222222,
              "#7201a8"
             ],
             [
              0.3333333333333333,
              "#9c179e"
             ],
             [
              0.4444444444444444,
              "#bd3786"
             ],
             [
              0.5555555555555556,
              "#d8576b"
             ],
             [
              0.6666666666666666,
              "#ed7953"
             ],
             [
              0.7777777777777778,
              "#fb9f3a"
             ],
             [
              0.8888888888888888,
              "#fdca26"
             ],
             [
              1.0,
              "#f0f921"
             ]
            ]
           }
          ],
          "mesh3d": [
           {
            "type": "mesh3d",
            "colorbar": {
             "outlinewidth": 0,
             "ticks": ""
            }
           }
          ],
          "scatter": [
           {
            "fillpattern": {
             "fillmode": "overlay",
             "size": 10,
             "solidity": 0.2
            },
            "type": "scatter"
           }
          ],
          "parcoords": [
           {
            "type": "parcoords",
            "line": {
             "colorbar": {
              "outlinewidth": 0,
              "ticks": ""
             }
            }
           }
          ],
          "scatterpolargl": [
           {
            "type": "scatterpolargl",
            "marker": {
             "colorbar": {
              "outlinewidth": 0,
              "ticks": ""
             }
            }
           }
          ],
          "bar": [
           {
            "error_x": {
             "color": "#2a3f5f"
            },
            "error_y": {
             "color": "#2a3f5f"
            },
            "marker": {
             "line": {
              "color": "#E5ECF6",
              "width": 0.5
             },
             "pattern": {
              "fillmode": "overlay",
              "size": 10,
              "solidity": 0.2
             }
            },
            "type": "bar"
           }
          ],
          "scattergeo": [
           {
            "type": "scattergeo",
            "marker": {
             "colorbar": {
              "outlinewidth": 0,
              "ticks": ""
             }
            }
           }
          ],
          "scatterpolar": [
           {
            "type": "scatterpolar",
            "marker": {
             "colorbar": {
              "outlinewidth": 0,
              "ticks": ""
             }
            }
           }
          ],
          "histogram": [
           {
            "marker": {
             "pattern": {
              "fillmode": "overlay",
              "size": 10,
              "solidity": 0.2
             }
            },
            "type": "histogram"
           }
          ],
          "scattergl": [
           {
            "type": "scattergl",
            "marker": {
             "colorbar": {
              "outlinewidth": 0,
              "ticks": ""
             }
            }
           }
          ],
          "scatter3d": [
           {
            "type": "scatter3d",
            "line": {
             "colorbar": {
              "outlinewidth": 0,
              "ticks": ""
             }
            },
            "marker": {
             "colorbar": {
              "outlinewidth": 0,
              "ticks": ""
             }
            }
           }
          ],
          "scattermapbox": [
           {
            "type": "scattermapbox",
            "marker": {
             "colorbar": {
              "outlinewidth": 0,
              "ticks": ""
             }
            }
           }
          ],
          "scatterternary": [
           {
            "type": "scatterternary",
            "marker": {
             "colorbar": {
              "outlinewidth": 0,
              "ticks": ""
             }
            }
           }
          ],
          "scattercarpet": [
           {
            "type": "scattercarpet",
            "marker": {
             "colorbar": {
              "outlinewidth": 0,
              "ticks": ""
             }
            }
           }
          ],
          "carpet": [
           {
            "aaxis": {
             "endlinecolor": "#2a3f5f",
             "gridcolor": "white",
             "linecolor": "white",
             "minorgridcolor": "white",
             "startlinecolor": "#2a3f5f"
            },
            "baxis": {
             "endlinecolor": "#2a3f5f",
             "gridcolor": "white",
             "linecolor": "white",
             "minorgridcolor": "white",
             "startlinecolor": "#2a3f5f"
            },
            "type": "carpet"
           }
          ],
          "table": [
           {
            "cells": {
             "fill": {
              "color": "#EBF0F8"
             },
             "line": {
              "color": "white"
             }
            },
            "header": {
             "fill": {
              "color": "#C8D4E3"
             },
             "line": {
              "color": "white"
             }
            },
            "type": "table"
           }
          ],
          "barpolar": [
           {
            "marker": {
             "line": {
              "color": "#E5ECF6",
              "width": 0.5
             },
             "pattern": {
              "fillmode": "overlay",
              "size": 10,
              "solidity": 0.2
             }
            },
            "type": "barpolar"
           }
          ],
          "pie": [
           {
            "automargin": true,
            "type": "pie"
           }
          ]
         },
         "layout": {
          "autotypenumbers": "strict",
          "colorway": [
           "#636efa",
           "#EF553B",
           "#00cc96",
           "#ab63fa",
           "#FFA15A",
           "#19d3f3",
           "#FF6692",
           "#B6E880",
           "#FF97FF",
           "#FECB52"
          ],
          "font": {
           "color": "#2a3f5f"
          },
          "hovermode": "closest",
          "hoverlabel": {
           "align": "left"
          },
          "paper_bgcolor": "white",
          "plot_bgcolor": "#E5ECF6",
          "polar": {
           "bgcolor": "#E5ECF6",
           "angularaxis": {
            "gridcolor": "white",
            "linecolor": "white",
            "ticks": ""
           },
           "radialaxis": {
            "gridcolor": "white",
            "linecolor": "white",
            "ticks": ""
           }
          },
          "ternary": {
           "bgcolor": "#E5ECF6",
           "aaxis": {
            "gridcolor": "white",
            "linecolor": "white",
            "ticks": ""
           },
           "baxis": {
            "gridcolor": "white",
            "linecolor": "white",
            "ticks": ""
           },
           "caxis": {
            "gridcolor": "white",
            "linecolor": "white",
            "ticks": ""
           }
          },
          "coloraxis": {
           "colorbar": {
            "outlinewidth": 0,
            "ticks": ""
           }
          },
          "colorscale": {
           "sequential": [
            [
             0.0,
             "#0d0887"
            ],
            [
             0.1111111111111111,
             "#46039f"
            ],
            [
             0.2222222222222222,
             "#7201a8"
            ],
            [
             0.3333333333333333,
             "#9c179e"
            ],
            [
             0.4444444444444444,
             "#bd3786"
            ],
            [
             0.5555555555555556,
             "#d8576b"
            ],
            [
             0.6666666666666666,
             "#ed7953"
            ],
            [
             0.7777777777777778,
             "#fb9f3a"
            ],
            [
             0.8888888888888888,
             "#fdca26"
            ],
            [
             1.0,
             "#f0f921"
            ]
           ],
           "sequentialminus": [
            [
             0.0,
             "#0d0887"
            ],
            [
             0.1111111111111111,
             "#46039f"
            ],
            [
             0.2222222222222222,
             "#7201a8"
            ],
            [
             0.3333333333333333,
             "#9c179e"
            ],
            [
             0.4444444444444444,
             "#bd3786"
            ],
            [
             0.5555555555555556,
             "#d8576b"
            ],
            [
             0.6666666666666666,
             "#ed7953"
            ],
            [
             0.7777777777777778,
             "#fb9f3a"
            ],
            [
             0.8888888888888888,
             "#fdca26"
            ],
            [
             1.0,
             "#f0f921"
            ]
           ],
           "diverging": [
            [
             0,
             "#8e0152"
            ],
            [
             0.1,
             "#c51b7d"
            ],
            [
             0.2,
             "#de77ae"
            ],
            [
             0.3,
             "#f1b6da"
            ],
            [
             0.4,
             "#fde0ef"
            ],
            [
             0.5,
             "#f7f7f7"
            ],
            [
             0.6,
             "#e6f5d0"
            ],
            [
             0.7,
             "#b8e186"
            ],
            [
             0.8,
             "#7fbc41"
            ],
            [
             0.9,
             "#4d9221"
            ],
            [
             1,
             "#276419"
            ]
           ]
          },
          "xaxis": {
           "gridcolor": "white",
           "linecolor": "white",
           "ticks": "",
           "title": {
            "standoff": 15
           },
           "zerolinecolor": "white",
           "automargin": true,
           "zerolinewidth": 2
          },
          "yaxis": {
           "gridcolor": "white",
           "linecolor": "white",
           "ticks": "",
           "title": {
            "standoff": 15
           },
           "zerolinecolor": "white",
           "automargin": true,
           "zerolinewidth": 2
          },
          "scene": {
           "xaxis": {
            "backgroundcolor": "#E5ECF6",
            "gridcolor": "white",
            "linecolor": "white",
            "showbackground": true,
            "ticks": "",
            "zerolinecolor": "white",
            "gridwidth": 2
           },
           "yaxis": {
            "backgroundcolor": "#E5ECF6",
            "gridcolor": "white",
            "linecolor": "white",
            "showbackground": true,
            "ticks": "",
            "zerolinecolor": "white",
            "gridwidth": 2
           },
           "zaxis": {
            "backgroundcolor": "#E5ECF6",
            "gridcolor": "white",
            "linecolor": "white",
            "showbackground": true,
            "ticks": "",
            "zerolinecolor": "white",
            "gridwidth": 2
           }
          },
          "shapedefaults": {
           "line": {
            "color": "#2a3f5f"
           }
          },
          "annotationdefaults": {
           "arrowcolor": "#2a3f5f",
           "arrowhead": 0,
           "arrowwidth": 1
          },
          "geo": {
           "bgcolor": "white",
           "landcolor": "#E5ECF6",
           "subunitcolor": "white",
           "showland": true,
           "showlakes": true,
           "lakecolor": "white"
          },
          "title": {
           "x": 0.05
          },
          "mapbox": {
           "style": "light"
          }
         }
        }
       },
       "config": {
        "plotlyServerURL": "https://plot.ly"
       }
      },
      "text/html": [
       "<div>                            <div id=\"c7f6c52b-b0b6-4c6c-83ab-1a8d4f3c3248\" class=\"plotly-graph-div\" style=\"height:525px; width:100%;\"></div>            <script type=\"text/javascript\">                require([\"plotly\"], function(Plotly) {                    window.PLOTLYENV=window.PLOTLYENV || {};                                    if (document.getElementById(\"c7f6c52b-b0b6-4c6c-83ab-1a8d4f3c3248\")) {                    Plotly.newPlot(                        \"c7f6c52b-b0b6-4c6c-83ab-1a8d4f3c3248\",                        [{\"hoverinfo\":\"none\",\"line\":{\"color\":\"#888\",\"width\":0.5},\"mode\":\"lines\",\"x\":[0.1517681600486874,0.0029189230657403085,null,0.30048494279823984,0.1517681600486874,null,0.30048494279823984,0.7229481876497619,null,0.30048494279823984,-0.1085754478306959,null,0.30048494279823984,0.5131965035164165,null,0.30048494279823984,0.7207143898470953,null,0.30048494279823984,0.2659299645240258,null,0.30048494279823984,0.2524517800301472,null,0.30048494279823984,0.5657051024562775,null,0.30048494279823984,0.36537065891618065,null,0.30048494279823984,0.812907214337647,null,0.30048494279823984,-0.05085461327677837,null,0.30048494279823984,-0.17121253984672058,null,0.30048494279823984,0.11700066116744635,null,0.30048494279823984,-0.374362135330588,null,0.0029189230657403085,-0.20689023769336745,null,0.0029189230657403085,0.22813345170164115,null,0.0029189230657403085,-0.34684745552916496,null,0.0029189230657403085,0.01545486068944806,null,0.0029189230657403085,-0.7361576769917841,null,0.0029189230657403085,0.9337646732409068,null,0.0029189230657403085,-0.9561486904903543,null,0.0029189230657403085,0.07197077632502187,null,0.0029189230657403085,0.5832166830408694,null,0.0029189230657403085,0.712537580626188,null,0.0029189230657403085,-0.7144776266815562,null,0.0029189230657403085,-0.2843416956394826,null,0.0029189230657403085,0.2524517800301472,null,0.0029189230657403085,0.5657051024562775,null,0.0029189230657403085,-0.3270162392013458,null,0.0029189230657403085,0.1610879808147184,null,0.0029189230657403085,0.36537065891618065,null,0.0029189230657403085,0.733424935922781,null,0.0029189230657403085,-0.21297816523604818,null,0.0029189230657403085,-0.8145546365211235,null,0.0029189230657403085,-0.11483336740953065,null,0.0029189230657403085,0.47466252729523084,null,0.0029189230657403085,-0.5348994176118737,null,0.0029189230657403085,-0.8440596041862258,null,0.0029189230657403085,0.8087747225565463,null,0.0029189230657403085,0.11700066116744635,null,0.0029189230657403085,-0.374362135330588,null,0.0029189230657403085,-0.21416073593138005,null,0.0029189230657403085,-0.6067025342171072,null,0.0029189230657403085,-0.18946859283906897,null,0.3028185346696831,0.0029189230657403085,null,-0.0732681407536735,0.3028185346696831,null,-0.0732681407536735,-0.4337124850894654,null,-0.0732681407536735,0.3046617177337201,null,-0.0732681407536735,0.012029634770186546,null,-0.0732681407536735,0.010091804601152363,null,-0.0732681407536735,-0.6358783964434331,null,-0.0732681407536735,-0.38607382067201357,null,-0.0732681407536735,0.6685133611457087,null,-0.0732681407536735,0.9119101935787403,null,-0.0732681407536735,-0.8093781668781292,null,-0.0732681407536735,-0.8046986771261306,null,-0.0732681407536735,-0.4109939918810746,null,-0.0732681407536735,-0.2843416956394826,null,-0.0732681407536735,-0.3270162392013458,null,-0.0732681407536735,0.1610879808147184,null,-0.0732681407536735,-0.5114220099307751,null,-0.0732681407536735,0.544364604747129,null,-0.0732681407536735,0.2874750051643959,null,-0.0732681407536735,-0.7648161449303217,null,-0.0732681407536735,0.3104122947613116,null,-0.0732681407536735,0.9080430159806477,null,-0.0732681407536735,-0.8145546365211235,null,-0.0732681407536735,-0.8440596041862258,null,-0.07898840582148531,0.3028185346696831,null,-0.07898840582148531,0.6116499056987365,null,-0.07898840582148531,-0.9812116921050943,null,-0.07898840582148531,-0.8813591327126156,null,-0.07898840582148531,-0.4337124850894654,null,-0.07898840582148531,-0.8349922105159933,null,-0.07898840582148531,0.3046617177337201,null,-0.07898840582148531,-1.0,null,-0.07898840582148531,-0.29663154191881563,null,-0.07898840582148531,-0.7484188570263315,null,-0.07898840582148531,0.012029634770186546,null,-0.07898840582148531,-0.9969039611109097,null,-0.07898840582148531,0.8290278879925255,null,-0.07898840582148531,0.2052613350581114,null,-0.07898840582148531,0.6741769142162256,null,-0.07898840582148531,-0.34684745552916496,null,-0.07898840582148531,0.01545486068944806,null,-0.07898840582148531,0.5325087846663084,null,-0.07898840582148531,-0.5186449973213062,null,-0.07898840582148531,-0.9561486904903543,null,-0.07898840582148531,0.07197077632502187,null,-0.07898840582148531,-0.6272926519871839,null,-0.07898840582148531,-0.5809163513898707,null,-0.07898840582148531,0.44065167942396605,null,-0.07898840582148531,0.1610879808147184,null,-0.07898840582148531,-0.5114220099307751,null,-0.07898840582148531,0.544364604747129,null,-0.07898840582148531,0.2874750051643959,null,-0.07898840582148531,0.6434289731498954,null,-0.07898840582148531,-0.21297816523604818,null,-0.07898840582148531,0.8244857104242872,null,-0.07898840582148531,0.8087747225565463,null,-0.07898840582148531,-0.6067025342171072,null,0.6116499056987365,-0.001438868780229865,null,-0.12936665811335188,0.6116499056987365,null,-0.12936665811335188,-0.29663154191881563,null,-0.12936665811335188,-0.7484188570263315,null,-0.12936665811335188,-0.6706454235284269,null,-0.12936665811335188,-0.0017542667158363266,null,-0.12936665811335188,0.48261015012147757,null,-0.12936665811335188,0.5280623013481571,null,-0.12936665811335188,-0.2989253375767194,null,-0.12936665811335188,0.010091804601152363,null,-0.12936665811335188,0.7615806042378025,null,-0.12936665811335188,-0.46703397232710053,null,-0.12936665811335188,-0.06912598719826865,null,-0.12936665811335188,-0.6358783964434331,null,-0.12936665811335188,0.06336336073832956,null,-0.12936665811335188,0.6434289731498954,null,-0.12936665811335188,-0.4509982116619262,null,-0.12936665811335188,-0.11126775873945086,null,-0.12936665811335188,-0.7648161449303217,null,-0.12936665811335188,-0.544981015758331,null,-0.12936665811335188,-0.11483336740953065,null,-0.12936665811335188,-0.5348994176118737,null,-0.12936665811335188,-0.21416073593138005,null,-0.12936665811335188,-0.6067025342171072,null,-0.12936665811335188,-0.18946859283906897,null,-0.001438868780229865,-0.9812116921050943,null,-0.001438868780229865,-0.8813591327126156,null,-0.001438868780229865,-0.2989253375767194,null,-0.001438868780229865,-0.6314637420435862,null,-0.001438868780229865,0.7229481876497619,null,-0.001438868780229865,0.6233357958313867,null,-0.001438868780229865,-0.46703397232710053,null,-0.001438868780229865,-0.4776191874473795,null,-0.001438868780229865,-0.7361576769917841,null,-0.001438868780229865,0.5325087846663084,null,-0.001438868780229865,-0.38607382067201357,null,-0.001438868780229865,-0.5186449973213062,null,-0.001438868780229865,-0.1085754478306959,null,-0.001438868780229865,0.9337646732409068,null,-0.001438868780229865,0.5131965035164165,null,-0.001438868780229865,-0.8093781668781292,null,-0.001438868780229865,-0.5809163513898707,null,-0.001438868780229865,0.8304489196408709,null,-0.001438868780229865,0.2874750051643959,null,-0.001438868780229865,-0.4509982116619262,null,-0.001438868780229865,0.9080430159806477,null,-0.001438868780229865,0.733424935922781,null,-0.001438868780229865,-0.17121253984672058,null,-0.001438868780229865,0.8087747225565463,null,-0.001438868780229865,-0.374362135330588,null,-0.9812116921050943,-0.12936665811335188,null,-0.8813591327126156,-0.0732681407536735,null,-0.4337124850894654,-0.001438868780229865,null,-0.8349922105159933,-0.0732681407536735,null,-0.0041970771526311824,-0.8349922105159933,null,-0.0041970771526311824,-1.0,null,-0.0041970771526311824,0.5280623013481571,null,-0.0041970771526311824,0.7615806042378025,null,-0.0041970771526311824,-0.06912598719826865,null,-0.0041970771526311824,-0.34684745552916496,null,-0.0041970771526311824,0.01545486068944806,null,-0.0041970771526311824,-0.7361576769917841,null,-0.0041970771526311824,0.5325087846663084,null,-0.0041970771526311824,-0.38607382067201357,null,-0.0041970771526311824,-0.5186449973213062,null,-0.0041970771526311824,0.9337646732409068,null,-0.0041970771526311824,0.5131965035164165,null,-0.0041970771526311824,0.06336336073832956,null,-0.0041970771526311824,-0.9561486904903543,null,-0.0041970771526311824,-0.8046986771261306,null,-0.0041970771526311824,-0.6272926519871839,null,-0.0041970771526311824,0.712537580626188,null,-0.0041970771526311824,-0.7144776266815562,null,-0.0041970771526311824,0.44065167942396605,null,-0.0041970771526311824,0.6232779060685295,null,-0.0041970771526311824,-0.5114220099307751,null,-0.0041970771526311824,0.544364604747129,null,-0.0041970771526311824,0.6434289731498954,null,-0.0041970771526311824,-0.11126775873945086,null,-0.0041970771526311824,0.812907214337647,null,-0.0041970771526311824,0.3104122947613116,null,-0.0041970771526311824,0.38005728092047847,null,-0.0041970771526311824,-0.8440596041862258,null,-0.0041970771526311824,0.11700066116744635,null,-0.0041970771526311824,-0.18946859283906897,null,0.3046617177337201,-0.0041970771526311824,null,-1.0,-0.12936665811335188,null,-0.29663154191881563,-0.0041970771526311824,null,-0.7484188570263315,-0.0732681407536735,null,0.012029634770186546,-0.12936665811335188,null,-0.20689023769336745,-0.07898840582148531,null,0.22813345170164115,-0.001438868780229865,null,0.44277897298071556,0.0029189230657403085,null,0.14768399385176334,0.44277897298071556,null,0.14768399385176334,-0.6581383445572039,null,0.14768399385176334,0.8853729699430848,null,0.14768399385176334,-0.4042638180432967,null,0.14768399385176334,-0.6314637420435862,null,0.14768399385176334,0.08592571526620876,null,0.14768399385176334,0.6233357958313867,null,0.14768399385176334,0.31151962734523947,null,0.14768399385176334,-0.4776191874473795,null,0.14768399385176334,0.40340908107475304,null,0.14768399385176334,0.8244857104242872,null,0.14768399385176334,0.47466252729523084,null,0.14768399385176334,0.38005728092047847,null,-0.9969039611109097,-0.12936665811335188,null,-0.6706454235284269,-0.0732681407536735,null,0.8290278879925255,-0.0041970771526311824,null,-0.0017542667158363266,-0.0041970771526311824,null,0.2052613350581114,-0.0732681407536735,null,-0.6581383445572039,-0.07898840582148531,null,0.8853729699430848,-0.0041970771526311824,null,0.48261015012147757,-0.001438868780229865,null,0.6741769142162256,-0.001438868780229865,null,0.5280623013481571,0.0029189230657403085,null,-0.2989253375767194,-0.0732681407536735,null,0.010091804601152363,-0.001438868780229865,null,-0.4042638180432967,-0.001438868780229865,null,-0.4042638180432967,-0.07898840582148531,null,-0.6314637420435862,-0.07898840582148531,null,0.7229481876497619,0.0029189230657403085,null,0.08592571526620876,0.0029189230657403085,null,0.08592571526620876,-0.001438868780229865,null,0.6233357958313867,0.0029189230657403085,null,0.7615806042378025,-0.001438868780229865,null,-0.46703397232710053,-0.0041970771526311824,null,-0.06912598719826865,-0.0732681407536735,null,-0.6358783964434331,-0.0041970771526311824,null,0.31151962734523947,-0.0041970771526311824,null,0.31151962734523947,-0.001438868780229865,null,-0.4776191874473795,-0.0041970771526311824,null,-0.34684745552916496,-0.0732681407536735,null,0.01545486068944806,-0.001438868780229865,null,-0.7361576769917841,-0.07898840582148531,null,0.5325087846663084,0.0029189230657403085,null,-0.38607382067201357,-0.07898840582148531,null,-0.5186449973213062,-0.0732681407536735,null,-0.1085754478306959,0.0029189230657403085,null,-0.1085754478306959,-0.0041970771526311824,null,0.9337646732409068,0.30048494279823984,null,0.5131965035164165,0.0029189230657403085,null,0.06336336073832956,0.0029189230657403085,null,0.06336336073832956,-0.07898840582148531,null,-0.9561486904903543,-0.12936665811335188,null,0.6685133611457087,-0.0041970771526311824,null,0.9119101935787403,-0.001438868780229865,null,0.07197077632502187,-0.0732681407536735,null,-0.8093781668781292,-0.07898840582148531,null,-0.8046986771261306,-0.07898840582148531,null,0.5832166830408694,-0.0041970771526311824,null,0.7207143898470953,-0.001438868780229865,null,0.2659299645240258,-0.0041970771526311824,null,0.2659299645240258,-0.001438868780229865,null,-0.6272926519871839,-0.001438868780229865,null,-0.5809163513898707,-0.0041970771526311824,null,0.712537580626188,-0.001438868780229865,null,-0.7144776266815562,-0.07898840582148531,null,0.44065167942396605,0.0029189230657403085,null,0.6232779060685295,-0.001438868780229865,null,0.8304489196408709,-0.0041970771526311824,null,-0.4109939918810746,-0.07898840582148531,null,-0.2843416956394826,-0.0041970771526311824,null,0.2524517800301472,-0.001438868780229865,null,0.5657051024562775,-0.0041970771526311824,null,-0.3270162392013458,-0.0041970771526311824,null,-0.3270162392013458,-0.07898840582148531,null,0.1610879808147184,-0.0041970771526311824,null,-0.5114220099307751,0.0029189230657403085,null,0.544364604747129,-0.001438868780229865,null,0.2874750051643959,-0.0041970771526311824,null,0.36537065891618065,-0.0041970771526311824,null,0.36537065891618065,-0.001438868780229865,null,0.6434289731498954,0.0029189230657403085,null,-0.4509982116619262,-0.07898840582148531,null,-0.11126775873945086,-0.07898840582148531,null,-0.7648161449303217,-0.07898840582148531,null,0.812907214337647,-0.001438868780229865,null,0.3104122947613116,-0.001438868780229865,null,0.9080430159806477,-0.0041970771526311824,null,0.733424935922781,-0.0041970771526311824,null,-0.21297816523604818,-0.0041970771526311824,null,-0.05085461327677837,-0.0041970771526311824,null,-0.544981015758331,-0.07898840582148531,null,0.40340908107475304,-0.001438868780229865,null,-0.17121253984672058,-0.0041970771526311824,null,-0.8145546365211235,-0.07898840582148531,null,-0.11483336740953065,-0.0041970771526311824,null,0.8244857104242872,-0.001438868780229865,null,0.47466252729523084,-0.001438868780229865,null,0.38005728092047847,-0.001438868780229865,null,-0.5348994176118737,-0.07898840582148531,null,-0.8440596041862258,-0.07898840582148531,null,0.8087747225565463,-0.0041970771526311824,null,0.11700066116744635,-0.001438868780229865,null,-0.374362135330588,-0.0041970771526311824,null,-0.21416073593138005,-0.0041970771526311824,null,-0.21416073593138005,-0.07898840582148531,null,-0.6067025342171072,-0.0041970771526311824,null,-0.18946859283906897,-0.07898840582148531,null],\"y\":[-0.8343930126157063,-0.010549707617894657,null,-0.32378072339062575,-0.8343930126157063,null,-0.32378072339062575,0.1634532288987055,null,-0.32378072339062575,-0.33426106472240086,null,-0.32378072339062575,-0.4587567677433486,null,-0.32378072339062575,-0.27050257938572336,null,-0.32378072339062575,0.21546631018564644,null,-0.32378072339062575,-0.5835908085823607,null,-0.32378072339062575,0.7018053135589098,null,-0.32378072339062575,0.020436705610641995,null,-0.32378072339062575,-0.4447706278575147,null,-0.32378072339062575,-0.9237385318558765,null,-0.32378072339062575,-0.8450298031491045,null,-0.32378072339062575,-0.7230748815168793,null,-0.32378072339062575,-0.5580844461368033,null,-0.010549707617894657,0.6387804666446203,null,-0.010549707617894657,-0.9324928337889916,null,-0.010549707617894657,0.9453864267288755,null,-0.010549707617894657,-0.8605801540382366,null,-0.010549707617894657,-0.0005655325418882314,null,-0.010549707617894657,-0.8972540353878742,null,-0.010549707617894657,-0.2552986454072153,null,-0.010549707617894657,0.935893113470954,null,-0.010549707617894657,0.5697549991994215,null,-0.010549707617894657,-0.5829611931350753,null,-0.010549707617894657,0.6201245793103974,null,-0.010549707617894657,-0.6813060874611305,null,-0.010549707617894657,-0.5835908085823607,null,-0.010549707617894657,0.7018053135589098,null,-0.010549707617894657,-0.1774510809255977,null,-0.010549707617894657,0.6626277305732808,null,-0.010549707617894657,0.020436705610641995,null,-0.010549707617894657,0.5627579863152292,null,-0.010549707617894657,-0.5324177451359816,null,-0.010549707617894657,-0.28717586705203113,null,-0.010549707617894657,-0.6991883200398233,null,-0.010549707617894657,0.3588294712793831,null,-0.010549707617894657,0.4556076828656769,null,-0.010549707617894657,0.08585993348929616,null,-0.010549707617894657,0.28460179337502073,null,-0.010549707617894657,-0.7230748815168793,null,-0.010549707617894657,-0.5580844461368033,null,-0.010549707617894657,0.33457280585826443,null,-0.010549707617894657,-0.6588139037456168,null,-0.010549707617894657,0.8835907854182787,null,0.7725865249860042,-0.010549707617894657,null,0.07635427393727819,0.7725865249860042,null,0.07635427393727819,-0.8304316967346265,null,0.07635427393727819,0.6307220788636057,null,0.07635427393727819,0.7758713583881217,null,0.07635427393727819,0.541699400903322,null,0.07635427393727819,-0.5426784454274282,null,0.07635427393727819,0.5234739088034178,null,0.07635427393727819,0.45115240481735447,null,0.07635427393727819,-0.1928412522430943,null,0.07635427393727819,0.41010731926181343,null,0.07635427393727819,-0.13681959505804822,null,0.07635427393727819,0.6606834771919359,null,0.07635427393727819,-0.6813060874611305,null,0.07635427393727819,-0.1774510809255977,null,0.07635427393727819,0.6626277305732808,null,0.07635427393727819,0.1747966757971377,null,0.07635427393727819,0.1721426694623429,null,0.07635427393727819,-0.718910876334018,null,0.07635427393727819,-0.4313095950460088,null,0.07635427393727819,0.44979201499109056,null,0.07635427393727819,0.0398195484413478,null,0.07635427393727819,-0.28717586705203113,null,0.07635427393727819,0.08585993348929616,null,0.04558480558959316,0.7725865249860042,null,0.04558480558959316,-0.16988965099188208,null,0.04558480558959316,-0.08991702577103367,null,0.04558480558959316,0.3233950077447393,null,0.04558480558959316,-0.8304316967346265,null,0.04558480558959316,0.5592707392420134,null,0.04558480558959316,0.6307220788636057,null,0.04558480558959316,0.06175503664091063,null,0.04558480558959316,-0.8174725990640049,null,0.04558480558959316,0.20944430552361068,null,0.04558480558959316,0.7758713583881217,null,0.04558480558959316,0.2285275319346821,null,0.04558480558959316,-0.29166080080456014,null,0.04558480558959316,0.9105808684167743,null,0.04558480558959316,-0.4493467932630361,null,0.04558480558959316,0.9453864267288755,null,0.04558480558959316,-0.8605801540382366,null,0.04558480558959316,-0.312504146027363,null,0.04558480558959316,-0.2736848631184526,null,0.04558480558959316,-0.2552986454072153,null,0.04558480558959316,0.935893113470954,null,0.04558480558959316,-0.4153874483401093,null,0.04558480558959316,-0.14365081494274035,null,0.04558480558959316,0.7486709268174084,null,0.04558480558959316,0.6626277305732808,null,0.04558480558959316,0.1747966757971377,null,0.04558480558959316,0.1721426694623429,null,0.04558480558959316,-0.718910876334018,null,0.04558480558959316,0.3201633347621956,null,0.04558480558959316,-0.5324177451359816,null,0.04558480558959316,-0.11294050033918196,null,0.04558480558959316,0.28460179337502073,null,0.04558480558959316,-0.6588139037456168,null,-0.16988965099188208,-0.035540903615884516,null,0.05080144241674991,-0.16988965099188208,null,0.05080144241674991,-0.8174725990640049,null,0.05080144241674991,0.20944430552361068,null,0.05080144241674991,0.5084786576175369,null,0.05080144241674991,-0.5941170975609712,null,0.05080144241674991,-0.7818065048157538,null,0.05080144241674991,-0.5823286137035399,null,0.05080144241674991,0.817822199057671,null,0.05080144241674991,0.541699400903322,null,0.05080144241674991,-0.00358063437552522,null,0.05080144241674991,-0.45023690866674687,null,0.05080144241674991,0.9678343535286493,null,0.05080144241674991,-0.5426784454274282,null,0.05080144241674991,0.3570358193620757,null,0.05080144241674991,0.3201633347621956,null,0.05080144241674991,0.8205970879843063,null,0.05080144241674991,0.7572022149571763,null,0.05080144241674991,-0.4313095950460088,null,0.05080144241674991,0.7527254722429333,null,0.05080144241674991,-0.6991883200398233,null,0.05080144241674991,0.4556076828656769,null,0.05080144241674991,0.33457280585826443,null,0.05080144241674991,-0.6588139037456168,null,0.05080144241674991,0.8835907854182787,null,-0.035540903615884516,-0.08991702577103367,null,-0.035540903615884516,0.3233950077447393,null,-0.035540903615884516,0.817822199057671,null,-0.035540903615884516,0.6909738835024302,null,-0.035540903615884516,0.1634532288987055,null,-0.035540903615884516,0.008701103129619914,null,-0.035540903615884516,-0.45023690866674687,null,-0.035540903615884516,-0.6783216614831378,null,-0.035540903615884516,-0.0005655325418882314,null,-0.035540903615884516,-0.312504146027363,null,-0.035540903615884516,0.5234739088034178,null,-0.035540903615884516,-0.2736848631184526,null,-0.035540903615884516,-0.33426106472240086,null,-0.035540903615884516,-0.8972540353878742,null,-0.035540903615884516,-0.4587567677433486,null,-0.035540903615884516,0.41010731926181343,null,-0.035540903615884516,-0.14365081494274035,null,-0.035540903615884516,0.40455441340679754,null,-0.035540903615884516,-0.718910876334018,null,-0.035540903615884516,0.8205970879843063,null,-0.035540903615884516,0.0398195484413478,null,-0.035540903615884516,0.5627579863152292,null,-0.035540903615884516,-0.8450298031491045,null,-0.035540903615884516,0.28460179337502073,null,-0.035540903615884516,-0.5580844461368033,null,-0.08991702577103367,0.05080144241674991,null,0.3233950077447393,0.07635427393727819,null,-0.8304316967346265,-0.035540903615884516,null,0.5592707392420134,0.07635427393727819,null,-0.0037732506925577773,0.5592707392420134,null,-0.0037732506925577773,0.06175503664091063,null,-0.0037732506925577773,-0.5823286137035399,null,-0.0037732506925577773,-0.00358063437552522,null,-0.0037732506925577773,0.9678343535286493,null,-0.0037732506925577773,0.9453864267288755,null,-0.0037732506925577773,-0.8605801540382366,null,-0.0037732506925577773,-0.0005655325418882314,null,-0.0037732506925577773,-0.312504146027363,null,-0.0037732506925577773,0.5234739088034178,null,-0.0037732506925577773,-0.2736848631184526,null,-0.0037732506925577773,-0.8972540353878742,null,-0.0037732506925577773,-0.4587567677433486,null,-0.0037732506925577773,0.3570358193620757,null,-0.0037732506925577773,-0.2552986454072153,null,-0.0037732506925577773,-0.13681959505804822,null,-0.0037732506925577773,-0.4153874483401093,null,-0.0037732506925577773,-0.5829611931350753,null,-0.0037732506925577773,0.6201245793103974,null,-0.0037732506925577773,0.7486709268174084,null,-0.0037732506925577773,-0.7021138240320519,null,-0.0037732506925577773,0.1747966757971377,null,-0.0037732506925577773,0.1721426694623429,null,-0.0037732506925577773,0.3201633347621956,null,-0.0037732506925577773,0.7572022149571763,null,-0.0037732506925577773,-0.4447706278575147,null,-0.0037732506925577773,0.44979201499109056,null,-0.0037732506925577773,-0.8675791954249458,null,-0.0037732506925577773,0.08585993348929616,null,-0.0037732506925577773,-0.7230748815168793,null,-0.0037732506925577773,0.8835907854182787,null,0.6307220788636057,-0.0037732506925577773,null,0.06175503664091063,0.05080144241674991,null,-0.8174725990640049,-0.0037732506925577773,null,0.20944430552361068,0.07635427393727819,null,0.7758713583881217,0.05080144241674991,null,0.6387804666446203,0.04558480558959316,null,-0.9324928337889916,-0.035540903615884516,null,0.5601222330021356,-0.010549707617894657,null,-0.04291383814640111,0.5601222330021356,null,-0.04291383814640111,0.31897824306971156,null,-0.04291383814640111,0.17788864206484095,null,-0.04291383814640111,0.02632831239359696,null,-0.04291383814640111,0.6909738835024302,null,-0.04291383814640111,-0.37212446163214685,null,-0.04291383814640111,0.008701103129619914,null,-0.04291383814640111,-0.16997739772902995,null,-0.04291383814640111,-0.6783216614831378,null,-0.04291383814640111,-0.6562888744175556,null,-0.04291383814640111,-0.11294050033918196,null,-0.04291383814640111,0.3588294712793831,null,-0.04291383814640111,-0.8675791954249458,null,0.2285275319346821,0.05080144241674991,null,0.5084786576175369,0.07635427393727819,null,-0.29166080080456014,-0.0037732506925577773,null,-0.5941170975609712,-0.0037732506925577773,null,0.9105808684167743,0.07635427393727819,null,0.31897824306971156,0.04558480558959316,null,0.17788864206484095,-0.0037732506925577773,null,-0.7818065048157538,-0.035540903615884516,null,-0.4493467932630361,-0.035540903615884516,null,-0.5823286137035399,-0.010549707617894657,null,0.817822199057671,0.07635427393727819,null,0.541699400903322,-0.035540903615884516,null,0.02632831239359696,-0.035540903615884516,null,0.02632831239359696,0.04558480558959316,null,0.6909738835024302,0.04558480558959316,null,0.1634532288987055,-0.010549707617894657,null,-0.37212446163214685,-0.010549707617894657,null,-0.37212446163214685,-0.035540903615884516,null,0.008701103129619914,-0.010549707617894657,null,-0.00358063437552522,-0.035540903615884516,null,-0.45023690866674687,-0.0037732506925577773,null,0.9678343535286493,0.07635427393727819,null,-0.5426784454274282,-0.0037732506925577773,null,-0.16997739772902995,-0.0037732506925577773,null,-0.16997739772902995,-0.035540903615884516,null,-0.6783216614831378,-0.0037732506925577773,null,0.9453864267288755,0.07635427393727819,null,-0.8605801540382366,-0.035540903615884516,null,-0.0005655325418882314,0.04558480558959316,null,-0.312504146027363,-0.010549707617894657,null,0.5234739088034178,0.04558480558959316,null,-0.2736848631184526,0.07635427393727819,null,-0.33426106472240086,-0.010549707617894657,null,-0.33426106472240086,-0.0037732506925577773,null,-0.8972540353878742,-0.32378072339062575,null,-0.4587567677433486,-0.010549707617894657,null,0.3570358193620757,-0.010549707617894657,null,0.3570358193620757,0.04558480558959316,null,-0.2552986454072153,0.05080144241674991,null,0.45115240481735447,-0.0037732506925577773,null,-0.1928412522430943,-0.035540903615884516,null,0.935893113470954,0.07635427393727819,null,0.41010731926181343,0.04558480558959316,null,-0.13681959505804822,0.04558480558959316,null,0.5697549991994215,-0.0037732506925577773,null,-0.27050257938572336,-0.035540903615884516,null,0.21546631018564644,-0.0037732506925577773,null,0.21546631018564644,-0.035540903615884516,null,-0.4153874483401093,-0.035540903615884516,null,-0.14365081494274035,-0.0037732506925577773,null,-0.5829611931350753,-0.035540903615884516,null,0.6201245793103974,0.04558480558959316,null,0.7486709268174084,-0.010549707617894657,null,-0.7021138240320519,-0.035540903615884516,null,0.40455441340679754,-0.0037732506925577773,null,0.6606834771919359,0.04558480558959316,null,-0.6813060874611305,-0.0037732506925577773,null,-0.5835908085823607,-0.035540903615884516,null,0.7018053135589098,-0.0037732506925577773,null,-0.1774510809255977,-0.0037732506925577773,null,-0.1774510809255977,0.04558480558959316,null,0.6626277305732808,-0.0037732506925577773,null,0.1747966757971377,-0.010549707617894657,null,0.1721426694623429,-0.035540903615884516,null,-0.718910876334018,-0.0037732506925577773,null,0.020436705610641995,-0.0037732506925577773,null,0.020436705610641995,-0.035540903615884516,null,0.3201633347621956,-0.010549707617894657,null,0.8205970879843063,0.04558480558959316,null,0.7572022149571763,0.04558480558959316,null,-0.4313095950460088,0.04558480558959316,null,-0.4447706278575147,-0.035540903615884516,null,0.44979201499109056,-0.035540903615884516,null,0.0398195484413478,-0.0037732506925577773,null,0.5627579863152292,-0.0037732506925577773,null,-0.5324177451359816,-0.0037732506925577773,null,-0.9237385318558765,-0.0037732506925577773,null,0.7527254722429333,0.04558480558959316,null,-0.6562888744175556,-0.035540903615884516,null,-0.8450298031491045,-0.0037732506925577773,null,-0.28717586705203113,0.04558480558959316,null,-0.6991883200398233,-0.0037732506925577773,null,-0.11294050033918196,-0.035540903615884516,null,0.3588294712793831,-0.035540903615884516,null,-0.8675791954249458,-0.035540903615884516,null,0.4556076828656769,0.04558480558959316,null,0.08585993348929616,0.04558480558959316,null,0.28460179337502073,-0.0037732506925577773,null,-0.7230748815168793,-0.035540903615884516,null,-0.5580844461368033,-0.0037732506925577773,null,0.33457280585826443,-0.0037732506925577773,null,0.33457280585826443,0.04558480558959316,null,-0.6588139037456168,-0.0037732506925577773,null,0.8835907854182787,0.04558480558959316,null],\"type\":\"scatter\"},{\"hoverinfo\":\"text\",\"marker\":{\"color\":[],\"colorbar\":{\"thickness\":15,\"title\":{\"side\":\"right\",\"text\":\"Node Connections\"},\"xanchor\":\"left\"},\"colorscale\":[[0.0,\"rgb(255,255,217)\"],[0.125,\"rgb(237,248,177)\"],[0.25,\"rgb(199,233,180)\"],[0.375,\"rgb(127,205,187)\"],[0.5,\"rgb(65,182,196)\"],[0.625,\"rgb(29,145,192)\"],[0.75,\"rgb(34,94,168)\"],[0.875,\"rgb(37,52,148)\"],[1.0,\"rgb(8,29,88)\"]],\"line\":{\"width\":2},\"reversescale\":true,\"showscale\":true,\"size\":10},\"mode\":\"markers\",\"text\":[\"0\",\"\\u0411\\u0440\\u044e\\u043a\\u0438\",\"\\u0421\\u0443\\u043c\\u043a\\u0430\",\"1\",\"\\u0420\\u0443\\u0431\\u0430\\u0448\\u043a\\u0430\",\"\\u041a\\u0443\\u0440\\u0442\\u043a\\u0430\",\"2\",\"\\u041a\\u0440\\u043e\\u0441\\u0441\\u043e\\u0432\\u043a\\u0438\",\"\\u0414\\u0436\\u0438\\u043d\\u0441\\u044b\",\"3\",\"4\",\"5\",\"6\",\"\\u0424\\u0443\\u0442\\u0431\\u043e\\u043b\\u043a\\u0430\",\"7\",\"8\",\"9\",\"10\",\"11\",\"12\",\"13\",\"14\",\"\\u0428\\u0430\\u043f\\u043a\\u0430\",\"15\",\"16\",\"17\",\"18\",\"19\",\"20\",\"21\",\"22\",\"23\",\"24\",\"25\",\"26\",\"27\",\"28\",\"29\",\"30\",\"31\",\"32\",\"33\",\"34\",\"35\",\"36\",\"37\",\"38\",\"39\",\"40\",\"41\",\"42\",\"43\",\"44\",\"45\",\"46\",\"47\",\"48\",\"49\",\"50\",\"51\",\"52\",\"53\",\"54\",\"55\",\"56\",\"57\",\"58\",\"59\",\"60\",\"61\",\"62\",\"63\",\"64\",\"65\",\"66\",\"67\",\"68\",\"69\",\"70\",\"71\",\"72\",\"73\",\"74\",\"75\",\"76\",\"77\",\"78\",\"79\",\"80\",\"81\",\"82\",\"83\",\"84\",\"85\",\"86\",\"87\",\"88\",\"89\",\"90\",\"91\",\"92\",\"93\",\"94\",\"95\",\"96\",\"97\",\"98\",\"99\"],\"x\":[0.1517681600486874,0.30048494279823984,0.0029189230657403085,0.3028185346696831,-0.0732681407536735,-0.07898840582148531,0.6116499056987365,-0.12936665811335188,-0.001438868780229865,-0.9812116921050943,-0.8813591327126156,-0.4337124850894654,-0.8349922105159933,-0.0041970771526311824,0.3046617177337201,-1.0,-0.29663154191881563,-0.7484188570263315,0.012029634770186546,-0.20689023769336745,0.22813345170164115,0.44277897298071556,0.14768399385176334,-0.9969039611109097,-0.6706454235284269,0.8290278879925255,-0.0017542667158363266,0.2052613350581114,-0.6581383445572039,0.8853729699430848,0.48261015012147757,0.6741769142162256,0.5280623013481571,-0.2989253375767194,0.010091804601152363,-0.4042638180432967,-0.6314637420435862,0.7229481876497619,0.08592571526620876,0.6233357958313867,0.7615806042378025,-0.46703397232710053,-0.06912598719826865,-0.6358783964434331,0.31151962734523947,-0.4776191874473795,-0.34684745552916496,0.01545486068944806,-0.7361576769917841,0.5325087846663084,-0.38607382067201357,-0.5186449973213062,-0.1085754478306959,0.9337646732409068,0.5131965035164165,0.06336336073832956,-0.9561486904903543,0.6685133611457087,0.9119101935787403,0.07197077632502187,-0.8093781668781292,-0.8046986771261306,0.5832166830408694,0.7207143898470953,0.2659299645240258,-0.6272926519871839,-0.5809163513898707,0.712537580626188,-0.7144776266815562,0.44065167942396605,0.6232779060685295,0.8304489196408709,-0.4109939918810746,-0.2843416956394826,0.2524517800301472,0.5657051024562775,-0.3270162392013458,0.1610879808147184,-0.5114220099307751,0.544364604747129,0.2874750051643959,0.36537065891618065,0.6434289731498954,-0.4509982116619262,-0.11126775873945086,-0.7648161449303217,0.812907214337647,0.3104122947613116,0.9080430159806477,0.733424935922781,-0.21297816523604818,-0.05085461327677837,-0.544981015758331,0.40340908107475304,-0.17121253984672058,-0.8145546365211235,-0.11483336740953065,0.8244857104242872,0.47466252729523084,0.38005728092047847,-0.5348994176118737,-0.8440596041862258,0.8087747225565463,0.11700066116744635,-0.374362135330588,-0.21416073593138005,-0.6067025342171072,-0.18946859283906897],\"y\":[-0.8343930126157063,-0.32378072339062575,-0.010549707617894657,0.7725865249860042,0.07635427393727819,0.04558480558959316,-0.16988965099188208,0.05080144241674991,-0.035540903615884516,-0.08991702577103367,0.3233950077447393,-0.8304316967346265,0.5592707392420134,-0.0037732506925577773,0.6307220788636057,0.06175503664091063,-0.8174725990640049,0.20944430552361068,0.7758713583881217,0.6387804666446203,-0.9324928337889916,0.5601222330021356,-0.04291383814640111,0.2285275319346821,0.5084786576175369,-0.29166080080456014,-0.5941170975609712,0.9105808684167743,0.31897824306971156,0.17788864206484095,-0.7818065048157538,-0.4493467932630361,-0.5823286137035399,0.817822199057671,0.541699400903322,0.02632831239359696,0.6909738835024302,0.1634532288987055,-0.37212446163214685,0.008701103129619914,-0.00358063437552522,-0.45023690866674687,0.9678343535286493,-0.5426784454274282,-0.16997739772902995,-0.6783216614831378,0.9453864267288755,-0.8605801540382366,-0.0005655325418882314,-0.312504146027363,0.5234739088034178,-0.2736848631184526,-0.33426106472240086,-0.8972540353878742,-0.4587567677433486,0.3570358193620757,-0.2552986454072153,0.45115240481735447,-0.1928412522430943,0.935893113470954,0.41010731926181343,-0.13681959505804822,0.5697549991994215,-0.27050257938572336,0.21546631018564644,-0.4153874483401093,-0.14365081494274035,-0.5829611931350753,0.6201245793103974,0.7486709268174084,-0.7021138240320519,0.40455441340679754,0.6606834771919359,-0.6813060874611305,-0.5835908085823607,0.7018053135589098,-0.1774510809255977,0.6626277305732808,0.1747966757971377,0.1721426694623429,-0.718910876334018,0.020436705610641995,0.3201633347621956,0.8205970879843063,0.7572022149571763,-0.4313095950460088,-0.4447706278575147,0.44979201499109056,0.0398195484413478,0.5627579863152292,-0.5324177451359816,-0.9237385318558765,0.7527254722429333,-0.6562888744175556,-0.8450298031491045,-0.28717586705203113,-0.6991883200398233,-0.11294050033918196,0.3588294712793831,-0.8675791954249458,0.4556076828656769,0.08585993348929616,0.28460179337502073,-0.7230748815168793,-0.5580844461368033,0.33457280585826443,-0.6588139037456168,0.8835907854182787],\"type\":\"scatter\"}],                        {\"annotations\":[{\"showarrow\":false,\"text\":\"Python code: \\u003ca href='https:\\u002f\\u002fplotly.com\\u002fipython-notebooks\\u002fnetwork-graphs\\u002f'\\u003e https:\\u002f\\u002fplotly.com\\u002fipython-notebooks\\u002fnetwork-graphs\\u002f\\u003c\\u002fa\\u003e\",\"x\":0.005,\"xref\":\"paper\",\"y\":-0.002,\"yref\":\"paper\"}],\"hovermode\":\"closest\",\"margin\":{\"b\":20,\"l\":5,\"r\":5,\"t\":40},\"showlegend\":false,\"title\":{\"font\":{\"size\":16},\"text\":\"\\u003cbr\\u003eNetwork graph made with Python\"},\"xaxis\":{\"showgrid\":false,\"showticklabels\":false,\"zeroline\":false},\"yaxis\":{\"showgrid\":false,\"showticklabels\":false,\"zeroline\":false},\"template\":{\"data\":{\"histogram2dcontour\":[{\"type\":\"histogram2dcontour\",\"colorbar\":{\"outlinewidth\":0,\"ticks\":\"\"},\"colorscale\":[[0.0,\"#0d0887\"],[0.1111111111111111,\"#46039f\"],[0.2222222222222222,\"#7201a8\"],[0.3333333333333333,\"#9c179e\"],[0.4444444444444444,\"#bd3786\"],[0.5555555555555556,\"#d8576b\"],[0.6666666666666666,\"#ed7953\"],[0.7777777777777778,\"#fb9f3a\"],[0.8888888888888888,\"#fdca26\"],[1.0,\"#f0f921\"]]}],\"choropleth\":[{\"type\":\"choropleth\",\"colorbar\":{\"outlinewidth\":0,\"ticks\":\"\"}}],\"histogram2d\":[{\"type\":\"histogram2d\",\"colorbar\":{\"outlinewidth\":0,\"ticks\":\"\"},\"colorscale\":[[0.0,\"#0d0887\"],[0.1111111111111111,\"#46039f\"],[0.2222222222222222,\"#7201a8\"],[0.3333333333333333,\"#9c179e\"],[0.4444444444444444,\"#bd3786\"],[0.5555555555555556,\"#d8576b\"],[0.6666666666666666,\"#ed7953\"],[0.7777777777777778,\"#fb9f3a\"],[0.8888888888888888,\"#fdca26\"],[1.0,\"#f0f921\"]]}],\"heatmap\":[{\"type\":\"heatmap\",\"colorbar\":{\"outlinewidth\":0,\"ticks\":\"\"},\"colorscale\":[[0.0,\"#0d0887\"],[0.1111111111111111,\"#46039f\"],[0.2222222222222222,\"#7201a8\"],[0.3333333333333333,\"#9c179e\"],[0.4444444444444444,\"#bd3786\"],[0.5555555555555556,\"#d8576b\"],[0.6666666666666666,\"#ed7953\"],[0.7777777777777778,\"#fb9f3a\"],[0.8888888888888888,\"#fdca26\"],[1.0,\"#f0f921\"]]}],\"heatmapgl\":[{\"type\":\"heatmapgl\",\"colorbar\":{\"outlinewidth\":0,\"ticks\":\"\"},\"colorscale\":[[0.0,\"#0d0887\"],[0.1111111111111111,\"#46039f\"],[0.2222222222222222,\"#7201a8\"],[0.3333333333333333,\"#9c179e\"],[0.4444444444444444,\"#bd3786\"],[0.5555555555555556,\"#d8576b\"],[0.6666666666666666,\"#ed7953\"],[0.7777777777777778,\"#fb9f3a\"],[0.8888888888888888,\"#fdca26\"],[1.0,\"#f0f921\"]]}],\"contourcarpet\":[{\"type\":\"contourcarpet\",\"colorbar\":{\"outlinewidth\":0,\"ticks\":\"\"}}],\"contour\":[{\"type\":\"contour\",\"colorbar\":{\"outlinewidth\":0,\"ticks\":\"\"},\"colorscale\":[[0.0,\"#0d0887\"],[0.1111111111111111,\"#46039f\"],[0.2222222222222222,\"#7201a8\"],[0.3333333333333333,\"#9c179e\"],[0.4444444444444444,\"#bd3786\"],[0.5555555555555556,\"#d8576b\"],[0.6666666666666666,\"#ed7953\"],[0.7777777777777778,\"#fb9f3a\"],[0.8888888888888888,\"#fdca26\"],[1.0,\"#f0f921\"]]}],\"surface\":[{\"type\":\"surface\",\"colorbar\":{\"outlinewidth\":0,\"ticks\":\"\"},\"colorscale\":[[0.0,\"#0d0887\"],[0.1111111111111111,\"#46039f\"],[0.2222222222222222,\"#7201a8\"],[0.3333333333333333,\"#9c179e\"],[0.4444444444444444,\"#bd3786\"],[0.5555555555555556,\"#d8576b\"],[0.6666666666666666,\"#ed7953\"],[0.7777777777777778,\"#fb9f3a\"],[0.8888888888888888,\"#fdca26\"],[1.0,\"#f0f921\"]]}],\"mesh3d\":[{\"type\":\"mesh3d\",\"colorbar\":{\"outlinewidth\":0,\"ticks\":\"\"}}],\"scatter\":[{\"fillpattern\":{\"fillmode\":\"overlay\",\"size\":10,\"solidity\":0.2},\"type\":\"scatter\"}],\"parcoords\":[{\"type\":\"parcoords\",\"line\":{\"colorbar\":{\"outlinewidth\":0,\"ticks\":\"\"}}}],\"scatterpolargl\":[{\"type\":\"scatterpolargl\",\"marker\":{\"colorbar\":{\"outlinewidth\":0,\"ticks\":\"\"}}}],\"bar\":[{\"error_x\":{\"color\":\"#2a3f5f\"},\"error_y\":{\"color\":\"#2a3f5f\"},\"marker\":{\"line\":{\"color\":\"#E5ECF6\",\"width\":0.5},\"pattern\":{\"fillmode\":\"overlay\",\"size\":10,\"solidity\":0.2}},\"type\":\"bar\"}],\"scattergeo\":[{\"type\":\"scattergeo\",\"marker\":{\"colorbar\":{\"outlinewidth\":0,\"ticks\":\"\"}}}],\"scatterpolar\":[{\"type\":\"scatterpolar\",\"marker\":{\"colorbar\":{\"outlinewidth\":0,\"ticks\":\"\"}}}],\"histogram\":[{\"marker\":{\"pattern\":{\"fillmode\":\"overlay\",\"size\":10,\"solidity\":0.2}},\"type\":\"histogram\"}],\"scattergl\":[{\"type\":\"scattergl\",\"marker\":{\"colorbar\":{\"outlinewidth\":0,\"ticks\":\"\"}}}],\"scatter3d\":[{\"type\":\"scatter3d\",\"line\":{\"colorbar\":{\"outlinewidth\":0,\"ticks\":\"\"}},\"marker\":{\"colorbar\":{\"outlinewidth\":0,\"ticks\":\"\"}}}],\"scattermapbox\":[{\"type\":\"scattermapbox\",\"marker\":{\"colorbar\":{\"outlinewidth\":0,\"ticks\":\"\"}}}],\"scatterternary\":[{\"type\":\"scatterternary\",\"marker\":{\"colorbar\":{\"outlinewidth\":0,\"ticks\":\"\"}}}],\"scattercarpet\":[{\"type\":\"scattercarpet\",\"marker\":{\"colorbar\":{\"outlinewidth\":0,\"ticks\":\"\"}}}],\"carpet\":[{\"aaxis\":{\"endlinecolor\":\"#2a3f5f\",\"gridcolor\":\"white\",\"linecolor\":\"white\",\"minorgridcolor\":\"white\",\"startlinecolor\":\"#2a3f5f\"},\"baxis\":{\"endlinecolor\":\"#2a3f5f\",\"gridcolor\":\"white\",\"linecolor\":\"white\",\"minorgridcolor\":\"white\",\"startlinecolor\":\"#2a3f5f\"},\"type\":\"carpet\"}],\"table\":[{\"cells\":{\"fill\":{\"color\":\"#EBF0F8\"},\"line\":{\"color\":\"white\"}},\"header\":{\"fill\":{\"color\":\"#C8D4E3\"},\"line\":{\"color\":\"white\"}},\"type\":\"table\"}],\"barpolar\":[{\"marker\":{\"line\":{\"color\":\"#E5ECF6\",\"width\":0.5},\"pattern\":{\"fillmode\":\"overlay\",\"size\":10,\"solidity\":0.2}},\"type\":\"barpolar\"}],\"pie\":[{\"automargin\":true,\"type\":\"pie\"}]},\"layout\":{\"autotypenumbers\":\"strict\",\"colorway\":[\"#636efa\",\"#EF553B\",\"#00cc96\",\"#ab63fa\",\"#FFA15A\",\"#19d3f3\",\"#FF6692\",\"#B6E880\",\"#FF97FF\",\"#FECB52\"],\"font\":{\"color\":\"#2a3f5f\"},\"hovermode\":\"closest\",\"hoverlabel\":{\"align\":\"left\"},\"paper_bgcolor\":\"white\",\"plot_bgcolor\":\"#E5ECF6\",\"polar\":{\"bgcolor\":\"#E5ECF6\",\"angularaxis\":{\"gridcolor\":\"white\",\"linecolor\":\"white\",\"ticks\":\"\"},\"radialaxis\":{\"gridcolor\":\"white\",\"linecolor\":\"white\",\"ticks\":\"\"}},\"ternary\":{\"bgcolor\":\"#E5ECF6\",\"aaxis\":{\"gridcolor\":\"white\",\"linecolor\":\"white\",\"ticks\":\"\"},\"baxis\":{\"gridcolor\":\"white\",\"linecolor\":\"white\",\"ticks\":\"\"},\"caxis\":{\"gridcolor\":\"white\",\"linecolor\":\"white\",\"ticks\":\"\"}},\"coloraxis\":{\"colorbar\":{\"outlinewidth\":0,\"ticks\":\"\"}},\"colorscale\":{\"sequential\":[[0.0,\"#0d0887\"],[0.1111111111111111,\"#46039f\"],[0.2222222222222222,\"#7201a8\"],[0.3333333333333333,\"#9c179e\"],[0.4444444444444444,\"#bd3786\"],[0.5555555555555556,\"#d8576b\"],[0.6666666666666666,\"#ed7953\"],[0.7777777777777778,\"#fb9f3a\"],[0.8888888888888888,\"#fdca26\"],[1.0,\"#f0f921\"]],\"sequentialminus\":[[0.0,\"#0d0887\"],[0.1111111111111111,\"#46039f\"],[0.2222222222222222,\"#7201a8\"],[0.3333333333333333,\"#9c179e\"],[0.4444444444444444,\"#bd3786\"],[0.5555555555555556,\"#d8576b\"],[0.6666666666666666,\"#ed7953\"],[0.7777777777777778,\"#fb9f3a\"],[0.8888888888888888,\"#fdca26\"],[1.0,\"#f0f921\"]],\"diverging\":[[0,\"#8e0152\"],[0.1,\"#c51b7d\"],[0.2,\"#de77ae\"],[0.3,\"#f1b6da\"],[0.4,\"#fde0ef\"],[0.5,\"#f7f7f7\"],[0.6,\"#e6f5d0\"],[0.7,\"#b8e186\"],[0.8,\"#7fbc41\"],[0.9,\"#4d9221\"],[1,\"#276419\"]]},\"xaxis\":{\"gridcolor\":\"white\",\"linecolor\":\"white\",\"ticks\":\"\",\"title\":{\"standoff\":15},\"zerolinecolor\":\"white\",\"automargin\":true,\"zerolinewidth\":2},\"yaxis\":{\"gridcolor\":\"white\",\"linecolor\":\"white\",\"ticks\":\"\",\"title\":{\"standoff\":15},\"zerolinecolor\":\"white\",\"automargin\":true,\"zerolinewidth\":2},\"scene\":{\"xaxis\":{\"backgroundcolor\":\"#E5ECF6\",\"gridcolor\":\"white\",\"linecolor\":\"white\",\"showbackground\":true,\"ticks\":\"\",\"zerolinecolor\":\"white\",\"gridwidth\":2},\"yaxis\":{\"backgroundcolor\":\"#E5ECF6\",\"gridcolor\":\"white\",\"linecolor\":\"white\",\"showbackground\":true,\"ticks\":\"\",\"zerolinecolor\":\"white\",\"gridwidth\":2},\"zaxis\":{\"backgroundcolor\":\"#E5ECF6\",\"gridcolor\":\"white\",\"linecolor\":\"white\",\"showbackground\":true,\"ticks\":\"\",\"zerolinecolor\":\"white\",\"gridwidth\":2}},\"shapedefaults\":{\"line\":{\"color\":\"#2a3f5f\"}},\"annotationdefaults\":{\"arrowcolor\":\"#2a3f5f\",\"arrowhead\":0,\"arrowwidth\":1},\"geo\":{\"bgcolor\":\"white\",\"landcolor\":\"#E5ECF6\",\"subunitcolor\":\"white\",\"showland\":true,\"showlakes\":true,\"lakecolor\":\"white\"},\"title\":{\"x\":0.05},\"mapbox\":{\"style\":\"light\"}}}},                        {\"responsive\": true}                    ).then(function(){\n",
       "                            \n",
       "var gd = document.getElementById('c7f6c52b-b0b6-4c6c-83ab-1a8d4f3c3248');\n",
       "var x = new MutationObserver(function (mutations, observer) {{\n",
       "        var display = window.getComputedStyle(gd).display;\n",
       "        if (!display || display === 'none') {{\n",
       "            console.log([gd, 'removed!']);\n",
       "            Plotly.purge(gd);\n",
       "            observer.disconnect();\n",
       "        }}\n",
       "}});\n",
       "\n",
       "// Listen for the removal of the full notebook cells\n",
       "var notebookContainer = gd.closest('#notebook-container');\n",
       "if (notebookContainer) {{\n",
       "    x.observe(notebookContainer, {childList: true});\n",
       "}}\n",
       "\n",
       "// Listen for the clearing of the current output cell\n",
       "var outputEl = gd.closest('.output');\n",
       "if (outputEl) {{\n",
       "    x.observe(outputEl, {childList: true});\n",
       "}}\n",
       "\n",
       "                        })                };                });            </script>        </div>"
      ]
     },
     "metadata": {},
     "output_type": "display_data",
     "jetTransient": {
      "display_id": null
     }
    }
   ],
   "execution_count": 542
  },
  {
   "metadata": {
    "ExecuteTime": {
     "end_time": "2025-09-18T09:16:45.688076Z",
     "start_time": "2025-09-18T09:16:45.654836Z"
    }
   },
   "cell_type": "code",
   "source": [
    "freqItemSet, rules = apriori(transactions, minSup=min_sup, minConf=0.8)\n",
    "\n",
    "n_trans = len(transactions)\n",
    "\n",
    "print(\"\\nАссоциативные правила (достоверность ≥ 80%):\")\n",
    "rules_pyarmviz = []   # список Rule для PyARMViz\n",
    "\n",
    "for i, (antecedent, consequent, confidence) in enumerate(rules):\n",
    "    ant = frozenset(antecedent)\n",
    "    cons = frozenset(consequent)\n",
    "    union = ant | cons\n",
    "\n",
    "    # считаем поддержку прямо по транзакциям\n",
    "    count_ab = sum(1 for t in transactions if union.issubset(t))\n",
    "    count_a = sum(1 for t in transactions if ant.issubset(t))\n",
    "    count_b = sum(1 for t in transactions if cons.issubset(t))\n",
    "\n",
    "    support_ab = count_ab / n_trans\n",
    "    support_a = count_a / n_trans\n",
    "    support_b = count_b / n_trans\n",
    "\n",
    "    lift = support_ab / (support_a * support_b) if support_a * support_b else 0.0\n",
    "\n",
    "    print(f\"{i}: {set(antecedent)} -> {set(consequent)} \"\n",
    "          f\"Support = {support_ab:.3f} Confidence = {confidence:.3f} Lift = {lift:.3f}\")\n",
    "\n",
    "    # создаём Rule для PyARMViz (нужны абсолютные counts)\n",
    "    rules_pyarmviz.append(\n",
    "        PyARMViz.Rule.Rule(\n",
    "            lhs=tuple(antecedent),\n",
    "            rhs=tuple(consequent),\n",
    "            count_full=count_ab,\n",
    "            count_lhs=count_a,\n",
    "            count_rhs=count_b,\n",
    "            num_transactions=n_trans\n",
    "        )\n",
    "    )\n",
    "PyARMViz.metadata_scatter_plot(rules_pyarmviz)         # scatter support/confidence/lift\n",
    "PyARMViz.adjacency_graph_plotly(rules_pyarmviz)        # интерактивный граф связей\n",
    "# PyARMViz.adjacency_parallel_coordinate_plot(rules_pyarmviz)  # параллельные координаты\n",
    "# PyARMViz.adjacency_parallel_category_plot(rules_pyarmviz)    # параллельные категории\n"
   ],
   "id": "a2299e127f880a61",
   "outputs": [
    {
     "name": "stdout",
     "output_type": "stream",
     "text": [
      "\n",
      "Ассоциативные правила (достоверность ≥ 80%):\n",
      "0: {'Кроссовки', 'Джинсы'} -> {'Куртка'} Support = 0.250 Confidence = 0.833 Lift = 1.389\n",
      "1: {'Кроссовки', 'Футболка'} -> {'Куртка'} Support = 0.250 Confidence = 0.833 Lift = 1.389\n",
      "2: {'Кроссовки', 'Рубашка'} -> {'Куртка'} Support = 0.250 Confidence = 0.833 Lift = 1.389\n",
      "3: {'Футболка', 'Брюки'} -> {'Джинсы'} Support = 0.300 Confidence = 0.857 Lift = 1.224\n",
      "4: {'Футболка', 'Рубашка'} -> {'Джинсы'} Support = 0.300 Confidence = 0.857 Lift = 1.224\n",
      "5: {'Джинсы', 'Рубашка'} -> {'Футболка'} Support = 0.300 Confidence = 0.857 Lift = 1.224\n",
      "6: {'Сумка', 'Джинсы'} -> {'Футболка'} Support = 0.300 Confidence = 0.857 Lift = 1.224\n",
      "7: {'Сумка', 'Куртка'} -> {'Футболка'} Support = 0.300 Confidence = 0.857 Lift = 1.224\n",
      "8: {'Брюки'} -> {'Футболка'} Support = 0.350 Confidence = 0.875 Lift = 1.250\n",
      "9: {'Кроссовки'} -> {'Куртка'} Support = 0.400 Confidence = 0.889 Lift = 1.481\n",
      "10: {'Шапка'} -> {'Джинсы'} Support = 0.300 Confidence = 1.000 Lift = 1.429\n",
      "11: {'Джинсы', 'Брюки'} -> {'Футболка'} Support = 0.300 Confidence = 1.000 Lift = 1.429\n",
      "12: {'Сумка', 'Рубашка'} -> {'Куртка'} Support = 0.250 Confidence = 1.000 Lift = 1.667\n",
      "13: {'Сумка', 'Кроссовки'} -> {'Футболка'} Support = 0.200 Confidence = 1.000 Lift = 1.429\n",
      "14: {'Шапка', 'Куртка'} -> {'Джинсы'} Support = 0.200 Confidence = 1.000 Lift = 1.429\n",
      "15: {'Сумка', 'Шапка'} -> {'Джинсы'} Support = 0.200 Confidence = 1.000 Lift = 1.429\n",
      "16: {'Футболка', 'Шапка'} -> {'Джинсы'} Support = 0.200 Confidence = 1.000 Lift = 1.429\n",
      "17: {'Сумка', 'Кроссовки'} -> {'Куртка'} Support = 0.200 Confidence = 1.000 Lift = 1.667\n",
      "18: {'Сумка', 'Футболка', 'Рубашка'} -> {'Куртка'} Support = 0.200 Confidence = 1.000 Lift = 1.667\n",
      "19: {'Сумка', 'Джинсы', 'Куртка'} -> {'Футболка'} Support = 0.200 Confidence = 1.000 Lift = 1.429\n",
      "20: {'Сумка', 'Футболка', 'Брюки'} -> {'Джинсы'} Support = 0.200 Confidence = 1.000 Lift = 1.429\n",
      "21: {'Сумка', 'Джинсы', 'Брюки'} -> {'Футболка'} Support = 0.200 Confidence = 1.000 Lift = 1.429\n",
      "22: {'Сумка', 'Кроссовки'} -> {'Футболка', 'Куртка'} Support = 0.200 Confidence = 1.000 Lift = 2.500\n",
      "23: {'Сумка', 'Кроссовки', 'Куртка'} -> {'Футболка'} Support = 0.200 Confidence = 1.000 Lift = 1.429\n",
      "24: {'Сумка', 'Кроссовки', 'Футболка'} -> {'Куртка'} Support = 0.200 Confidence = 1.000 Lift = 1.667\n"
     ]
    },
    {
     "data": {
      "application/vnd.plotly.v1+json": {
       "data": [
        {
         "marker": {
          "color": [
           1.2499999999999998,
           1.4814814814814814,
           1.4285714285714286
          ],
          "colorbar": {
           "title": {
            "text": "Lift"
           }
          },
          "colorscale": [
           [
            0.0,
            "rgb(243, 224, 247)"
           ],
           [
            0.16666666666666666,
            "rgb(228, 199, 241)"
           ],
           [
            0.3333333333333333,
            "rgb(209, 175, 232)"
           ],
           [
            0.5,
            "rgb(185, 152, 221)"
           ],
           [
            0.6666666666666666,
            "rgb(159, 130, 206)"
           ],
           [
            0.8333333333333334,
            "rgb(130, 109, 186)"
           ],
           [
            1.0,
            "rgb(99, 88, 159)"
           ]
          ]
         },
         "mode": "markers",
         "text": [
          "('Брюки',) => ('Футболка',), Lift: 1.2499999999999998",
          "('Кроссовки',) => ('Куртка',), Lift: 1.4814814814814814",
          "('Шапка',) => ('Джинсы',), Lift: 1.4285714285714286"
         ],
         "x": [
          0.35,
          0.4,
          0.3
         ],
         "y": [
          0.875,
          0.8888888888888888,
          1.0
         ],
         "type": "scatter"
        }
       ],
       "layout": {
        "template": {
         "data": {
          "histogram2dcontour": [
           {
            "type": "histogram2dcontour",
            "colorbar": {
             "outlinewidth": 0,
             "ticks": ""
            },
            "colorscale": [
             [
              0.0,
              "#0d0887"
             ],
             [
              0.1111111111111111,
              "#46039f"
             ],
             [
              0.2222222222222222,
              "#7201a8"
             ],
             [
              0.3333333333333333,
              "#9c179e"
             ],
             [
              0.4444444444444444,
              "#bd3786"
             ],
             [
              0.5555555555555556,
              "#d8576b"
             ],
             [
              0.6666666666666666,
              "#ed7953"
             ],
             [
              0.7777777777777778,
              "#fb9f3a"
             ],
             [
              0.8888888888888888,
              "#fdca26"
             ],
             [
              1.0,
              "#f0f921"
             ]
            ]
           }
          ],
          "choropleth": [
           {
            "type": "choropleth",
            "colorbar": {
             "outlinewidth": 0,
             "ticks": ""
            }
           }
          ],
          "histogram2d": [
           {
            "type": "histogram2d",
            "colorbar": {
             "outlinewidth": 0,
             "ticks": ""
            },
            "colorscale": [
             [
              0.0,
              "#0d0887"
             ],
             [
              0.1111111111111111,
              "#46039f"
             ],
             [
              0.2222222222222222,
              "#7201a8"
             ],
             [
              0.3333333333333333,
              "#9c179e"
             ],
             [
              0.4444444444444444,
              "#bd3786"
             ],
             [
              0.5555555555555556,
              "#d8576b"
             ],
             [
              0.6666666666666666,
              "#ed7953"
             ],
             [
              0.7777777777777778,
              "#fb9f3a"
             ],
             [
              0.8888888888888888,
              "#fdca26"
             ],
             [
              1.0,
              "#f0f921"
             ]
            ]
           }
          ],
          "heatmap": [
           {
            "type": "heatmap",
            "colorbar": {
             "outlinewidth": 0,
             "ticks": ""
            },
            "colorscale": [
             [
              0.0,
              "#0d0887"
             ],
             [
              0.1111111111111111,
              "#46039f"
             ],
             [
              0.2222222222222222,
              "#7201a8"
             ],
             [
              0.3333333333333333,
              "#9c179e"
             ],
             [
              0.4444444444444444,
              "#bd3786"
             ],
             [
              0.5555555555555556,
              "#d8576b"
             ],
             [
              0.6666666666666666,
              "#ed7953"
             ],
             [
              0.7777777777777778,
              "#fb9f3a"
             ],
             [
              0.8888888888888888,
              "#fdca26"
             ],
             [
              1.0,
              "#f0f921"
             ]
            ]
           }
          ],
          "heatmapgl": [
           {
            "type": "heatmapgl",
            "colorbar": {
             "outlinewidth": 0,
             "ticks": ""
            },
            "colorscale": [
             [
              0.0,
              "#0d0887"
             ],
             [
              0.1111111111111111,
              "#46039f"
             ],
             [
              0.2222222222222222,
              "#7201a8"
             ],
             [
              0.3333333333333333,
              "#9c179e"
             ],
             [
              0.4444444444444444,
              "#bd3786"
             ],
             [
              0.5555555555555556,
              "#d8576b"
             ],
             [
              0.6666666666666666,
              "#ed7953"
             ],
             [
              0.7777777777777778,
              "#fb9f3a"
             ],
             [
              0.8888888888888888,
              "#fdca26"
             ],
             [
              1.0,
              "#f0f921"
             ]
            ]
           }
          ],
          "contourcarpet": [
           {
            "type": "contourcarpet",
            "colorbar": {
             "outlinewidth": 0,
             "ticks": ""
            }
           }
          ],
          "contour": [
           {
            "type": "contour",
            "colorbar": {
             "outlinewidth": 0,
             "ticks": ""
            },
            "colorscale": [
             [
              0.0,
              "#0d0887"
             ],
             [
              0.1111111111111111,
              "#46039f"
             ],
             [
              0.2222222222222222,
              "#7201a8"
             ],
             [
              0.3333333333333333,
              "#9c179e"
             ],
             [
              0.4444444444444444,
              "#bd3786"
             ],
             [
              0.5555555555555556,
              "#d8576b"
             ],
             [
              0.6666666666666666,
              "#ed7953"
             ],
             [
              0.7777777777777778,
              "#fb9f3a"
             ],
             [
              0.8888888888888888,
              "#fdca26"
             ],
             [
              1.0,
              "#f0f921"
             ]
            ]
           }
          ],
          "surface": [
           {
            "type": "surface",
            "colorbar": {
             "outlinewidth": 0,
             "ticks": ""
            },
            "colorscale": [
             [
              0.0,
              "#0d0887"
             ],
             [
              0.1111111111111111,
              "#46039f"
             ],
             [
              0.2222222222222222,
              "#7201a8"
             ],
             [
              0.3333333333333333,
              "#9c179e"
             ],
             [
              0.4444444444444444,
              "#bd3786"
             ],
             [
              0.5555555555555556,
              "#d8576b"
             ],
             [
              0.6666666666666666,
              "#ed7953"
             ],
             [
              0.7777777777777778,
              "#fb9f3a"
             ],
             [
              0.8888888888888888,
              "#fdca26"
             ],
             [
              1.0,
              "#f0f921"
             ]
            ]
           }
          ],
          "mesh3d": [
           {
            "type": "mesh3d",
            "colorbar": {
             "outlinewidth": 0,
             "ticks": ""
            }
           }
          ],
          "scatter": [
           {
            "fillpattern": {
             "fillmode": "overlay",
             "size": 10,
             "solidity": 0.2
            },
            "type": "scatter"
           }
          ],
          "parcoords": [
           {
            "type": "parcoords",
            "line": {
             "colorbar": {
              "outlinewidth": 0,
              "ticks": ""
             }
            }
           }
          ],
          "scatterpolargl": [
           {
            "type": "scatterpolargl",
            "marker": {
             "colorbar": {
              "outlinewidth": 0,
              "ticks": ""
             }
            }
           }
          ],
          "bar": [
           {
            "error_x": {
             "color": "#2a3f5f"
            },
            "error_y": {
             "color": "#2a3f5f"
            },
            "marker": {
             "line": {
              "color": "#E5ECF6",
              "width": 0.5
             },
             "pattern": {
              "fillmode": "overlay",
              "size": 10,
              "solidity": 0.2
             }
            },
            "type": "bar"
           }
          ],
          "scattergeo": [
           {
            "type": "scattergeo",
            "marker": {
             "colorbar": {
              "outlinewidth": 0,
              "ticks": ""
             }
            }
           }
          ],
          "scatterpolar": [
           {
            "type": "scatterpolar",
            "marker": {
             "colorbar": {
              "outlinewidth": 0,
              "ticks": ""
             }
            }
           }
          ],
          "histogram": [
           {
            "marker": {
             "pattern": {
              "fillmode": "overlay",
              "size": 10,
              "solidity": 0.2
             }
            },
            "type": "histogram"
           }
          ],
          "scattergl": [
           {
            "type": "scattergl",
            "marker": {
             "colorbar": {
              "outlinewidth": 0,
              "ticks": ""
             }
            }
           }
          ],
          "scatter3d": [
           {
            "type": "scatter3d",
            "line": {
             "colorbar": {
              "outlinewidth": 0,
              "ticks": ""
             }
            },
            "marker": {
             "colorbar": {
              "outlinewidth": 0,
              "ticks": ""
             }
            }
           }
          ],
          "scattermapbox": [
           {
            "type": "scattermapbox",
            "marker": {
             "colorbar": {
              "outlinewidth": 0,
              "ticks": ""
             }
            }
           }
          ],
          "scatterternary": [
           {
            "type": "scatterternary",
            "marker": {
             "colorbar": {
              "outlinewidth": 0,
              "ticks": ""
             }
            }
           }
          ],
          "scattercarpet": [
           {
            "type": "scattercarpet",
            "marker": {
             "colorbar": {
              "outlinewidth": 0,
              "ticks": ""
             }
            }
           }
          ],
          "carpet": [
           {
            "aaxis": {
             "endlinecolor": "#2a3f5f",
             "gridcolor": "white",
             "linecolor": "white",
             "minorgridcolor": "white",
             "startlinecolor": "#2a3f5f"
            },
            "baxis": {
             "endlinecolor": "#2a3f5f",
             "gridcolor": "white",
             "linecolor": "white",
             "minorgridcolor": "white",
             "startlinecolor": "#2a3f5f"
            },
            "type": "carpet"
           }
          ],
          "table": [
           {
            "cells": {
             "fill": {
              "color": "#EBF0F8"
             },
             "line": {
              "color": "white"
             }
            },
            "header": {
             "fill": {
              "color": "#C8D4E3"
             },
             "line": {
              "color": "white"
             }
            },
            "type": "table"
           }
          ],
          "barpolar": [
           {
            "marker": {
             "line": {
              "color": "#E5ECF6",
              "width": 0.5
             },
             "pattern": {
              "fillmode": "overlay",
              "size": 10,
              "solidity": 0.2
             }
            },
            "type": "barpolar"
           }
          ],
          "pie": [
           {
            "automargin": true,
            "type": "pie"
           }
          ]
         },
         "layout": {
          "autotypenumbers": "strict",
          "colorway": [
           "#636efa",
           "#EF553B",
           "#00cc96",
           "#ab63fa",
           "#FFA15A",
           "#19d3f3",
           "#FF6692",
           "#B6E880",
           "#FF97FF",
           "#FECB52"
          ],
          "font": {
           "color": "#2a3f5f"
          },
          "hovermode": "closest",
          "hoverlabel": {
           "align": "left"
          },
          "paper_bgcolor": "white",
          "plot_bgcolor": "#E5ECF6",
          "polar": {
           "bgcolor": "#E5ECF6",
           "angularaxis": {
            "gridcolor": "white",
            "linecolor": "white",
            "ticks": ""
           },
           "radialaxis": {
            "gridcolor": "white",
            "linecolor": "white",
            "ticks": ""
           }
          },
          "ternary": {
           "bgcolor": "#E5ECF6",
           "aaxis": {
            "gridcolor": "white",
            "linecolor": "white",
            "ticks": ""
           },
           "baxis": {
            "gridcolor": "white",
            "linecolor": "white",
            "ticks": ""
           },
           "caxis": {
            "gridcolor": "white",
            "linecolor": "white",
            "ticks": ""
           }
          },
          "coloraxis": {
           "colorbar": {
            "outlinewidth": 0,
            "ticks": ""
           }
          },
          "colorscale": {
           "sequential": [
            [
             0.0,
             "#0d0887"
            ],
            [
             0.1111111111111111,
             "#46039f"
            ],
            [
             0.2222222222222222,
             "#7201a8"
            ],
            [
             0.3333333333333333,
             "#9c179e"
            ],
            [
             0.4444444444444444,
             "#bd3786"
            ],
            [
             0.5555555555555556,
             "#d8576b"
            ],
            [
             0.6666666666666666,
             "#ed7953"
            ],
            [
             0.7777777777777778,
             "#fb9f3a"
            ],
            [
             0.8888888888888888,
             "#fdca26"
            ],
            [
             1.0,
             "#f0f921"
            ]
           ],
           "sequentialminus": [
            [
             0.0,
             "#0d0887"
            ],
            [
             0.1111111111111111,
             "#46039f"
            ],
            [
             0.2222222222222222,
             "#7201a8"
            ],
            [
             0.3333333333333333,
             "#9c179e"
            ],
            [
             0.4444444444444444,
             "#bd3786"
            ],
            [
             0.5555555555555556,
             "#d8576b"
            ],
            [
             0.6666666666666666,
             "#ed7953"
            ],
            [
             0.7777777777777778,
             "#fb9f3a"
            ],
            [
             0.8888888888888888,
             "#fdca26"
            ],
            [
             1.0,
             "#f0f921"
            ]
           ],
           "diverging": [
            [
             0,
             "#8e0152"
            ],
            [
             0.1,
             "#c51b7d"
            ],
            [
             0.2,
             "#de77ae"
            ],
            [
             0.3,
             "#f1b6da"
            ],
            [
             0.4,
             "#fde0ef"
            ],
            [
             0.5,
             "#f7f7f7"
            ],
            [
             0.6,
             "#e6f5d0"
            ],
            [
             0.7,
             "#b8e186"
            ],
            [
             0.8,
             "#7fbc41"
            ],
            [
             0.9,
             "#4d9221"
            ],
            [
             1,
             "#276419"
            ]
           ]
          },
          "xaxis": {
           "gridcolor": "white",
           "linecolor": "white",
           "ticks": "",
           "title": {
            "standoff": 15
           },
           "zerolinecolor": "white",
           "automargin": true,
           "zerolinewidth": 2
          },
          "yaxis": {
           "gridcolor": "white",
           "linecolor": "white",
           "ticks": "",
           "title": {
            "standoff": 15
           },
           "zerolinecolor": "white",
           "automargin": true,
           "zerolinewidth": 2
          },
          "scene": {
           "xaxis": {
            "backgroundcolor": "#E5ECF6",
            "gridcolor": "white",
            "linecolor": "white",
            "showbackground": true,
            "ticks": "",
            "zerolinecolor": "white",
            "gridwidth": 2
           },
           "yaxis": {
            "backgroundcolor": "#E5ECF6",
            "gridcolor": "white",
            "linecolor": "white",
            "showbackground": true,
            "ticks": "",
            "zerolinecolor": "white",
            "gridwidth": 2
           },
           "zaxis": {
            "backgroundcolor": "#E5ECF6",
            "gridcolor": "white",
            "linecolor": "white",
            "showbackground": true,
            "ticks": "",
            "zerolinecolor": "white",
            "gridwidth": 2
           }
          },
          "shapedefaults": {
           "line": {
            "color": "#2a3f5f"
           }
          },
          "annotationdefaults": {
           "arrowcolor": "#2a3f5f",
           "arrowhead": 0,
           "arrowwidth": 1
          },
          "geo": {
           "bgcolor": "white",
           "landcolor": "#E5ECF6",
           "subunitcolor": "white",
           "showland": true,
           "showlakes": true,
           "lakecolor": "white"
          },
          "title": {
           "x": 0.05
          },
          "mapbox": {
           "style": "light"
          }
         }
        },
        "xaxis": {
         "title": {
          "text": "Support"
         },
         "autorange": "reversed"
        },
        "title": {
         "text": "Association Rules Strength Distribution"
        },
        "yaxis": {
         "title": {
          "text": "Confidence"
         }
        }
       },
       "config": {
        "plotlyServerURL": "https://plot.ly"
       }
      },
      "text/html": [
       "<div>                            <div id=\"ec8fabe9-57ab-45a4-9a29-cbfe0368373b\" class=\"plotly-graph-div\" style=\"height:525px; width:100%;\"></div>            <script type=\"text/javascript\">                require([\"plotly\"], function(Plotly) {                    window.PLOTLYENV=window.PLOTLYENV || {};                                    if (document.getElementById(\"ec8fabe9-57ab-45a4-9a29-cbfe0368373b\")) {                    Plotly.newPlot(                        \"ec8fabe9-57ab-45a4-9a29-cbfe0368373b\",                        [{\"marker\":{\"color\":[1.2499999999999998,1.4814814814814814,1.4285714285714286],\"colorbar\":{\"title\":{\"text\":\"Lift\"}},\"colorscale\":[[0.0,\"rgb(243, 224, 247)\"],[0.16666666666666666,\"rgb(228, 199, 241)\"],[0.3333333333333333,\"rgb(209, 175, 232)\"],[0.5,\"rgb(185, 152, 221)\"],[0.6666666666666666,\"rgb(159, 130, 206)\"],[0.8333333333333334,\"rgb(130, 109, 186)\"],[1.0,\"rgb(99, 88, 159)\"]]},\"mode\":\"markers\",\"text\":[\"('\\u0411\\u0440\\u044e\\u043a\\u0438',) =\\u003e ('\\u0424\\u0443\\u0442\\u0431\\u043e\\u043b\\u043a\\u0430',), Lift: 1.2499999999999998\",\"('\\u041a\\u0440\\u043e\\u0441\\u0441\\u043e\\u0432\\u043a\\u0438',) =\\u003e ('\\u041a\\u0443\\u0440\\u0442\\u043a\\u0430',), Lift: 1.4814814814814814\",\"('\\u0428\\u0430\\u043f\\u043a\\u0430',) =\\u003e ('\\u0414\\u0436\\u0438\\u043d\\u0441\\u044b',), Lift: 1.4285714285714286\"],\"x\":[0.35,0.4,0.3],\"y\":[0.875,0.8888888888888888,1.0],\"type\":\"scatter\"}],                        {\"template\":{\"data\":{\"histogram2dcontour\":[{\"type\":\"histogram2dcontour\",\"colorbar\":{\"outlinewidth\":0,\"ticks\":\"\"},\"colorscale\":[[0.0,\"#0d0887\"],[0.1111111111111111,\"#46039f\"],[0.2222222222222222,\"#7201a8\"],[0.3333333333333333,\"#9c179e\"],[0.4444444444444444,\"#bd3786\"],[0.5555555555555556,\"#d8576b\"],[0.6666666666666666,\"#ed7953\"],[0.7777777777777778,\"#fb9f3a\"],[0.8888888888888888,\"#fdca26\"],[1.0,\"#f0f921\"]]}],\"choropleth\":[{\"type\":\"choropleth\",\"colorbar\":{\"outlinewidth\":0,\"ticks\":\"\"}}],\"histogram2d\":[{\"type\":\"histogram2d\",\"colorbar\":{\"outlinewidth\":0,\"ticks\":\"\"},\"colorscale\":[[0.0,\"#0d0887\"],[0.1111111111111111,\"#46039f\"],[0.2222222222222222,\"#7201a8\"],[0.3333333333333333,\"#9c179e\"],[0.4444444444444444,\"#bd3786\"],[0.5555555555555556,\"#d8576b\"],[0.6666666666666666,\"#ed7953\"],[0.7777777777777778,\"#fb9f3a\"],[0.8888888888888888,\"#fdca26\"],[1.0,\"#f0f921\"]]}],\"heatmap\":[{\"type\":\"heatmap\",\"colorbar\":{\"outlinewidth\":0,\"ticks\":\"\"},\"colorscale\":[[0.0,\"#0d0887\"],[0.1111111111111111,\"#46039f\"],[0.2222222222222222,\"#7201a8\"],[0.3333333333333333,\"#9c179e\"],[0.4444444444444444,\"#bd3786\"],[0.5555555555555556,\"#d8576b\"],[0.6666666666666666,\"#ed7953\"],[0.7777777777777778,\"#fb9f3a\"],[0.8888888888888888,\"#fdca26\"],[1.0,\"#f0f921\"]]}],\"heatmapgl\":[{\"type\":\"heatmapgl\",\"colorbar\":{\"outlinewidth\":0,\"ticks\":\"\"},\"colorscale\":[[0.0,\"#0d0887\"],[0.1111111111111111,\"#46039f\"],[0.2222222222222222,\"#7201a8\"],[0.3333333333333333,\"#9c179e\"],[0.4444444444444444,\"#bd3786\"],[0.5555555555555556,\"#d8576b\"],[0.6666666666666666,\"#ed7953\"],[0.7777777777777778,\"#fb9f3a\"],[0.8888888888888888,\"#fdca26\"],[1.0,\"#f0f921\"]]}],\"contourcarpet\":[{\"type\":\"contourcarpet\",\"colorbar\":{\"outlinewidth\":0,\"ticks\":\"\"}}],\"contour\":[{\"type\":\"contour\",\"colorbar\":{\"outlinewidth\":0,\"ticks\":\"\"},\"colorscale\":[[0.0,\"#0d0887\"],[0.1111111111111111,\"#46039f\"],[0.2222222222222222,\"#7201a8\"],[0.3333333333333333,\"#9c179e\"],[0.4444444444444444,\"#bd3786\"],[0.5555555555555556,\"#d8576b\"],[0.6666666666666666,\"#ed7953\"],[0.7777777777777778,\"#fb9f3a\"],[0.8888888888888888,\"#fdca26\"],[1.0,\"#f0f921\"]]}],\"surface\":[{\"type\":\"surface\",\"colorbar\":{\"outlinewidth\":0,\"ticks\":\"\"},\"colorscale\":[[0.0,\"#0d0887\"],[0.1111111111111111,\"#46039f\"],[0.2222222222222222,\"#7201a8\"],[0.3333333333333333,\"#9c179e\"],[0.4444444444444444,\"#bd3786\"],[0.5555555555555556,\"#d8576b\"],[0.6666666666666666,\"#ed7953\"],[0.7777777777777778,\"#fb9f3a\"],[0.8888888888888888,\"#fdca26\"],[1.0,\"#f0f921\"]]}],\"mesh3d\":[{\"type\":\"mesh3d\",\"colorbar\":{\"outlinewidth\":0,\"ticks\":\"\"}}],\"scatter\":[{\"fillpattern\":{\"fillmode\":\"overlay\",\"size\":10,\"solidity\":0.2},\"type\":\"scatter\"}],\"parcoords\":[{\"type\":\"parcoords\",\"line\":{\"colorbar\":{\"outlinewidth\":0,\"ticks\":\"\"}}}],\"scatterpolargl\":[{\"type\":\"scatterpolargl\",\"marker\":{\"colorbar\":{\"outlinewidth\":0,\"ticks\":\"\"}}}],\"bar\":[{\"error_x\":{\"color\":\"#2a3f5f\"},\"error_y\":{\"color\":\"#2a3f5f\"},\"marker\":{\"line\":{\"color\":\"#E5ECF6\",\"width\":0.5},\"pattern\":{\"fillmode\":\"overlay\",\"size\":10,\"solidity\":0.2}},\"type\":\"bar\"}],\"scattergeo\":[{\"type\":\"scattergeo\",\"marker\":{\"colorbar\":{\"outlinewidth\":0,\"ticks\":\"\"}}}],\"scatterpolar\":[{\"type\":\"scatterpolar\",\"marker\":{\"colorbar\":{\"outlinewidth\":0,\"ticks\":\"\"}}}],\"histogram\":[{\"marker\":{\"pattern\":{\"fillmode\":\"overlay\",\"size\":10,\"solidity\":0.2}},\"type\":\"histogram\"}],\"scattergl\":[{\"type\":\"scattergl\",\"marker\":{\"colorbar\":{\"outlinewidth\":0,\"ticks\":\"\"}}}],\"scatter3d\":[{\"type\":\"scatter3d\",\"line\":{\"colorbar\":{\"outlinewidth\":0,\"ticks\":\"\"}},\"marker\":{\"colorbar\":{\"outlinewidth\":0,\"ticks\":\"\"}}}],\"scattermapbox\":[{\"type\":\"scattermapbox\",\"marker\":{\"colorbar\":{\"outlinewidth\":0,\"ticks\":\"\"}}}],\"scatterternary\":[{\"type\":\"scatterternary\",\"marker\":{\"colorbar\":{\"outlinewidth\":0,\"ticks\":\"\"}}}],\"scattercarpet\":[{\"type\":\"scattercarpet\",\"marker\":{\"colorbar\":{\"outlinewidth\":0,\"ticks\":\"\"}}}],\"carpet\":[{\"aaxis\":{\"endlinecolor\":\"#2a3f5f\",\"gridcolor\":\"white\",\"linecolor\":\"white\",\"minorgridcolor\":\"white\",\"startlinecolor\":\"#2a3f5f\"},\"baxis\":{\"endlinecolor\":\"#2a3f5f\",\"gridcolor\":\"white\",\"linecolor\":\"white\",\"minorgridcolor\":\"white\",\"startlinecolor\":\"#2a3f5f\"},\"type\":\"carpet\"}],\"table\":[{\"cells\":{\"fill\":{\"color\":\"#EBF0F8\"},\"line\":{\"color\":\"white\"}},\"header\":{\"fill\":{\"color\":\"#C8D4E3\"},\"line\":{\"color\":\"white\"}},\"type\":\"table\"}],\"barpolar\":[{\"marker\":{\"line\":{\"color\":\"#E5ECF6\",\"width\":0.5},\"pattern\":{\"fillmode\":\"overlay\",\"size\":10,\"solidity\":0.2}},\"type\":\"barpolar\"}],\"pie\":[{\"automargin\":true,\"type\":\"pie\"}]},\"layout\":{\"autotypenumbers\":\"strict\",\"colorway\":[\"#636efa\",\"#EF553B\",\"#00cc96\",\"#ab63fa\",\"#FFA15A\",\"#19d3f3\",\"#FF6692\",\"#B6E880\",\"#FF97FF\",\"#FECB52\"],\"font\":{\"color\":\"#2a3f5f\"},\"hovermode\":\"closest\",\"hoverlabel\":{\"align\":\"left\"},\"paper_bgcolor\":\"white\",\"plot_bgcolor\":\"#E5ECF6\",\"polar\":{\"bgcolor\":\"#E5ECF6\",\"angularaxis\":{\"gridcolor\":\"white\",\"linecolor\":\"white\",\"ticks\":\"\"},\"radialaxis\":{\"gridcolor\":\"white\",\"linecolor\":\"white\",\"ticks\":\"\"}},\"ternary\":{\"bgcolor\":\"#E5ECF6\",\"aaxis\":{\"gridcolor\":\"white\",\"linecolor\":\"white\",\"ticks\":\"\"},\"baxis\":{\"gridcolor\":\"white\",\"linecolor\":\"white\",\"ticks\":\"\"},\"caxis\":{\"gridcolor\":\"white\",\"linecolor\":\"white\",\"ticks\":\"\"}},\"coloraxis\":{\"colorbar\":{\"outlinewidth\":0,\"ticks\":\"\"}},\"colorscale\":{\"sequential\":[[0.0,\"#0d0887\"],[0.1111111111111111,\"#46039f\"],[0.2222222222222222,\"#7201a8\"],[0.3333333333333333,\"#9c179e\"],[0.4444444444444444,\"#bd3786\"],[0.5555555555555556,\"#d8576b\"],[0.6666666666666666,\"#ed7953\"],[0.7777777777777778,\"#fb9f3a\"],[0.8888888888888888,\"#fdca26\"],[1.0,\"#f0f921\"]],\"sequentialminus\":[[0.0,\"#0d0887\"],[0.1111111111111111,\"#46039f\"],[0.2222222222222222,\"#7201a8\"],[0.3333333333333333,\"#9c179e\"],[0.4444444444444444,\"#bd3786\"],[0.5555555555555556,\"#d8576b\"],[0.6666666666666666,\"#ed7953\"],[0.7777777777777778,\"#fb9f3a\"],[0.8888888888888888,\"#fdca26\"],[1.0,\"#f0f921\"]],\"diverging\":[[0,\"#8e0152\"],[0.1,\"#c51b7d\"],[0.2,\"#de77ae\"],[0.3,\"#f1b6da\"],[0.4,\"#fde0ef\"],[0.5,\"#f7f7f7\"],[0.6,\"#e6f5d0\"],[0.7,\"#b8e186\"],[0.8,\"#7fbc41\"],[0.9,\"#4d9221\"],[1,\"#276419\"]]},\"xaxis\":{\"gridcolor\":\"white\",\"linecolor\":\"white\",\"ticks\":\"\",\"title\":{\"standoff\":15},\"zerolinecolor\":\"white\",\"automargin\":true,\"zerolinewidth\":2},\"yaxis\":{\"gridcolor\":\"white\",\"linecolor\":\"white\",\"ticks\":\"\",\"title\":{\"standoff\":15},\"zerolinecolor\":\"white\",\"automargin\":true,\"zerolinewidth\":2},\"scene\":{\"xaxis\":{\"backgroundcolor\":\"#E5ECF6\",\"gridcolor\":\"white\",\"linecolor\":\"white\",\"showbackground\":true,\"ticks\":\"\",\"zerolinecolor\":\"white\",\"gridwidth\":2},\"yaxis\":{\"backgroundcolor\":\"#E5ECF6\",\"gridcolor\":\"white\",\"linecolor\":\"white\",\"showbackground\":true,\"ticks\":\"\",\"zerolinecolor\":\"white\",\"gridwidth\":2},\"zaxis\":{\"backgroundcolor\":\"#E5ECF6\",\"gridcolor\":\"white\",\"linecolor\":\"white\",\"showbackground\":true,\"ticks\":\"\",\"zerolinecolor\":\"white\",\"gridwidth\":2}},\"shapedefaults\":{\"line\":{\"color\":\"#2a3f5f\"}},\"annotationdefaults\":{\"arrowcolor\":\"#2a3f5f\",\"arrowhead\":0,\"arrowwidth\":1},\"geo\":{\"bgcolor\":\"white\",\"landcolor\":\"#E5ECF6\",\"subunitcolor\":\"white\",\"showland\":true,\"showlakes\":true,\"lakecolor\":\"white\"},\"title\":{\"x\":0.05},\"mapbox\":{\"style\":\"light\"}}},\"xaxis\":{\"title\":{\"text\":\"Support\"},\"autorange\":\"reversed\"},\"title\":{\"text\":\"Association Rules Strength Distribution\"},\"yaxis\":{\"title\":{\"text\":\"Confidence\"}}},                        {\"responsive\": true}                    ).then(function(){\n",
       "                            \n",
       "var gd = document.getElementById('ec8fabe9-57ab-45a4-9a29-cbfe0368373b');\n",
       "var x = new MutationObserver(function (mutations, observer) {{\n",
       "        var display = window.getComputedStyle(gd).display;\n",
       "        if (!display || display === 'none') {{\n",
       "            console.log([gd, 'removed!']);\n",
       "            Plotly.purge(gd);\n",
       "            observer.disconnect();\n",
       "        }}\n",
       "}});\n",
       "\n",
       "// Listen for the removal of the full notebook cells\n",
       "var notebookContainer = gd.closest('#notebook-container');\n",
       "if (notebookContainer) {{\n",
       "    x.observe(notebookContainer, {childList: true});\n",
       "}}\n",
       "\n",
       "// Listen for the clearing of the current output cell\n",
       "var outputEl = gd.closest('.output');\n",
       "if (outputEl) {{\n",
       "    x.observe(outputEl, {childList: true});\n",
       "}}\n",
       "\n",
       "                        })                };                });            </script>        </div>"
      ]
     },
     "metadata": {},
     "output_type": "display_data",
     "jetTransient": {
      "display_id": null
     }
    },
    {
     "data": {
      "application/vnd.plotly.v1+json": {
       "data": [
        {
         "hoverinfo": "none",
         "line": {
          "color": "#888",
          "width": 0.5
         },
         "mode": "lines",
         "x": [
          -0.28011604861086986,
          -0.01428177383543742,
          null,
          0.3271110770457218,
          -0.28011604861086986,
          null,
          0.3271110770457218,
          0.5779334575943929,
          null,
          0.3271110770457218,
          0.033780115140682944,
          null,
          0.3271110770457218,
          0.7696274629197751,
          null,
          0.3271110770457218,
          0.6185875871384198,
          null,
          0.3271110770457218,
          0.9435526817842972,
          null,
          0.3271110770457218,
          -0.011188711473357541,
          null,
          0.3271110770457218,
          -0.4430737932282673,
          null,
          0.3271110770457218,
          0.3904000052165942,
          null,
          -0.11365853686023782,
          -0.28011604861086986,
          null,
          -0.11365853686023782,
          -0.6818475963036134,
          null,
          -0.11365853686023782,
          0.8211450526186461,
          null,
          -0.11365853686023782,
          -0.17069791916858712,
          null,
          -0.11365853686023782,
          -0.6701946568001667,
          null,
          -0.11365853686023782,
          0.3553229001468578,
          null,
          -0.01428177383543742,
          0.7101810576447862,
          null,
          -0.01428177383543742,
          -0.03412196080059261,
          null,
          -0.01428177383543742,
          -0.6701946568001667,
          null,
          -0.01428177383543742,
          -0.4430737932282673,
          null,
          0.5779334575943929,
          -0.01428177383543742,
          null,
          -0.07371941564401559,
          0.5779334575943929,
          null,
          -0.07371941564401559,
          -0.9487086118179489,
          null,
          -0.07371941564401559,
          -0.9652395353226214,
          null,
          -0.07371941564401559,
          0.22313749251249107,
          null,
          -0.07371941564401559,
          0.6636961250343455,
          null,
          -0.07371941564401559,
          -0.8186983206331545,
          null,
          -0.07371941564401559,
          0.3904000052165942,
          null,
          0.033780115140682944,
          -0.01428177383543742,
          null,
          -0.035926515934588565,
          0.033780115140682944,
          null,
          -0.035926515934588565,
          -0.9652395353226214,
          null,
          -0.035926515934588565,
          -0.6818475963036134,
          null,
          -0.035926515934588565,
          0.7477619653784102,
          null,
          -0.035926515934588565,
          0.6636961250343455,
          null,
          -0.9487086118179489,
          -0.11365853686023782,
          null,
          -0.31805113572422783,
          -0.9487086118179489,
          null,
          -0.31805113572422783,
          0.161564373704059,
          null,
          -0.31805113572422783,
          -0.17069791916858712,
          null,
          -0.31805113572422783,
          -0.8186983206331545,
          null,
          -0.31805113572422783,
          0.3553229001468578,
          null,
          -0.9652395353226214,
          -0.11365853686023782,
          null,
          -0.6818475963036134,
          -0.07371941564401559,
          null,
          0.8211450526186461,
          -0.07371941564401559,
          null,
          0.1763961124896624,
          0.8211450526186461,
          null,
          0.1763961124896624,
          0.7101810576447862,
          null,
          0.1763961124896624,
          0.7477619653784102,
          null,
          0.1763961124896624,
          0.6185875871384198,
          null,
          0.1763961124896624,
          -0.6006936705797701,
          null,
          0.1763961124896624,
          0.9435526817842972,
          null,
          0.1763961124896624,
          0.6636961250343455,
          null,
          0.1763961124896624,
          -0.6701946568001667,
          null,
          0.1763961124896624,
          -0.8186983206331545,
          null,
          0.1763961124896624,
          0.3553229001468578,
          null,
          0.1763961124896624,
          -0.011188711473357541,
          null,
          0.1763961124896624,
          -0.4430737932282673,
          null,
          0.1763961124896624,
          0.3904000052165942,
          null,
          0.7101810576447862,
          -0.07371941564401559,
          null,
          0.161564373704059,
          -0.07371941564401559,
          null,
          0.7696274629197751,
          -0.01428177383543742,
          null,
          -0.87986155453367,
          -0.11365853686023782,
          null,
          -0.46011770909802147,
          -0.87986155453367,
          null,
          -0.46011770909802147,
          -0.03412196080059261,
          null,
          -0.46011770909802147,
          -0.6006936705797701,
          null,
          -0.46011770909802147,
          0.22313749251249107,
          null,
          -0.17069791916858712,
          -0.07371941564401559,
          null,
          0.7477619653784102,
          -0.01428177383543742,
          null,
          0.6185875871384198,
          -0.07371941564401559,
          null,
          -0.03412196080059261,
          -0.11365853686023782,
          null,
          -0.6006936705797701,
          -0.11365853686023782,
          null,
          0.22313749251249107,
          -0.11365853686023782,
          null,
          0.9435526817842972,
          -0.01428177383543742,
          null,
          0.6636961250343455,
          -0.01428177383543742,
          null,
          -0.6701946568001667,
          -0.07371941564401559,
          null,
          -0.8186983206331545,
          -0.11365853686023782,
          null,
          0.3553229001468578,
          -0.07371941564401559,
          null,
          -0.011188711473357541,
          -0.07371941564401559,
          null,
          -0.011188711473357541,
          -0.01428177383543742,
          null,
          -0.4430737932282673,
          -0.07371941564401559,
          null,
          0.3904000052165942,
          -0.01428177383543742,
          null
         ],
         "y": [
          0.9346803195674277,
          0.09028244578543639,
          null,
          0.37008224039466786,
          0.9346803195674277,
          null,
          0.37008224039466786,
          0.746256861991615,
          null,
          0.37008224039466786,
          0.9133354494128096,
          null,
          0.37008224039466786,
          0.5905893736877535,
          null,
          0.37008224039466786,
          -0.6490555298964602,
          null,
          0.37008224039466786,
          0.15363688901550884,
          null,
          0.37008224039466786,
          -0.40579320517738626,
          null,
          0.37008224039466786,
          0.6939750033609468,
          null,
          0.37008224039466786,
          0.9264458793590109,
          null,
          -0.044484187078774565,
          0.9346803195674277,
          null,
          -0.044484187078774565,
          0.26467070549065475,
          null,
          -0.044484187078774565,
          -0.24685340405191009,
          null,
          -0.044484187078774565,
          -0.7269129227618417,
          null,
          -0.044484187078774565,
          0.5667485646498626,
          null,
          -0.044484187078774565,
          -0.628672987532844,
          null,
          0.09028244578543639,
          -0.030875624880438567,
          null,
          0.09028244578543639,
          -0.962394988848004,
          null,
          0.09028244578543639,
          0.5667485646498626,
          null,
          0.09028244578543639,
          0.6939750033609468,
          null,
          0.746256861991615,
          0.09028244578543639,
          null,
          0.018299725815130386,
          0.746256861991615,
          null,
          0.018299725815130386,
          0.21634157326614897,
          null,
          0.018299725815130386,
          -0.07099598028685974,
          null,
          0.018299725815130386,
          -0.8845287372496655,
          null,
          0.018299725815130386,
          -0.3785000530365884,
          null,
          0.018299725815130386,
          -0.5489147728898769,
          null,
          0.018299725815130386,
          0.9264458793590109,
          null,
          0.9133354494128096,
          0.09028244578543639,
          null,
          0.27262851023322404,
          0.9133354494128096,
          null,
          0.27262851023322404,
          -0.07099598028685974,
          null,
          0.27262851023322404,
          0.26467070549065475,
          null,
          0.27262851023322404,
          0.35017021857276937,
          null,
          0.27262851023322404,
          -0.3785000530365884,
          null,
          0.21634157326614897,
          -0.044484187078774565,
          null,
          -0.18354298346396514,
          0.21634157326614897,
          null,
          -0.18354298346396514,
          0.693380120867458,
          null,
          -0.18354298346396514,
          -0.7269129227618417,
          null,
          -0.18354298346396514,
          -0.5489147728898769,
          null,
          -0.18354298346396514,
          -0.628672987532844,
          null,
          -0.07099598028685974,
          -0.044484187078774565,
          null,
          0.26467070549065475,
          0.018299725815130386,
          null,
          -0.24685340405191009,
          0.018299725815130386,
          null,
          -0.045085118738423066,
          -0.24685340405191009,
          null,
          -0.045085118738423066,
          -0.030875624880438567,
          null,
          -0.045085118738423066,
          0.35017021857276937,
          null,
          -0.045085118738423066,
          -0.6490555298964602,
          null,
          -0.045085118738423066,
          -0.6879639635408361,
          null,
          -0.045085118738423066,
          0.15363688901550884,
          null,
          -0.045085118738423066,
          -0.3785000530365884,
          null,
          -0.045085118738423066,
          0.5667485646498626,
          null,
          -0.045085118738423066,
          -0.5489147728898769,
          null,
          -0.045085118738423066,
          -0.628672987532844,
          null,
          -0.045085118738423066,
          -0.40579320517738626,
          null,
          -0.045085118738423066,
          0.6939750033609468,
          null,
          -0.045085118738423066,
          0.9264458793590109,
          null,
          -0.030875624880438567,
          0.018299725815130386,
          null,
          0.693380120867458,
          0.018299725815130386,
          null,
          0.5905893736877535,
          0.09028244578543639,
          null,
          -0.306949422036562,
          -0.044484187078774565,
          null,
          -1.0,
          -0.306949422036562,
          null,
          -1.0,
          -0.962394988848004,
          null,
          -1.0,
          -0.6879639635408361,
          null,
          -1.0,
          -0.8845287372496655,
          null,
          -0.7269129227618417,
          0.018299725815130386,
          null,
          0.35017021857276937,
          0.09028244578543639,
          null,
          -0.6490555298964602,
          0.018299725815130386,
          null,
          -0.962394988848004,
          -0.044484187078774565,
          null,
          -0.6879639635408361,
          -0.044484187078774565,
          null,
          -0.8845287372496655,
          -0.044484187078774565,
          null,
          0.15363688901550884,
          0.09028244578543639,
          null,
          -0.3785000530365884,
          0.09028244578543639,
          null,
          0.5667485646498626,
          0.018299725815130386,
          null,
          -0.5489147728898769,
          -0.044484187078774565,
          null,
          -0.628672987532844,
          0.018299725815130386,
          null,
          -0.40579320517738626,
          0.018299725815130386,
          null,
          -0.40579320517738626,
          0.09028244578543639,
          null,
          0.6939750033609468,
          0.018299725815130386,
          null,
          0.9264458793590109,
          0.09028244578543639,
          null
         ],
         "type": "scatter"
        },
        {
         "hoverinfo": "text",
         "marker": {
          "color": [],
          "colorbar": {
           "thickness": 15,
           "title": {
            "side": "right",
            "text": "Node Connections"
           },
           "xanchor": "left"
          },
          "colorscale": [
           [
            0.0,
            "rgb(255,255,217)"
           ],
           [
            0.125,
            "rgb(237,248,177)"
           ],
           [
            0.25,
            "rgb(199,233,180)"
           ],
           [
            0.375,
            "rgb(127,205,187)"
           ],
           [
            0.5,
            "rgb(65,182,196)"
           ],
           [
            0.625,
            "rgb(29,145,192)"
           ],
           [
            0.75,
            "rgb(34,94,168)"
           ],
           [
            0.875,
            "rgb(37,52,148)"
           ],
           [
            1.0,
            "rgb(8,29,88)"
           ]
          ],
          "line": {
           "width": 2
          },
          "reversescale": true,
          "showscale": true,
          "size": 10
         },
         "mode": "markers",
         "text": [
          "0",
          "Кроссовки",
          "Джинсы",
          "Куртка",
          "1",
          "Футболка",
          "2",
          "Рубашка",
          "3",
          "Брюки",
          "4",
          "5",
          "6",
          "Сумка",
          "7",
          "8",
          "9",
          "10",
          "Шапка",
          "11",
          "12",
          "13",
          "14",
          "15",
          "16",
          "17",
          "18",
          "19",
          "20",
          "21",
          "22",
          "23",
          "24"
         ],
         "x": [
          -0.28011604861086986,
          0.3271110770457218,
          -0.11365853686023782,
          -0.01428177383543742,
          0.5779334575943929,
          -0.07371941564401559,
          0.033780115140682944,
          -0.035926515934588565,
          -0.9487086118179489,
          -0.31805113572422783,
          -0.9652395353226214,
          -0.6818475963036134,
          0.8211450526186461,
          0.1763961124896624,
          0.7101810576447862,
          0.161564373704059,
          0.7696274629197751,
          -0.87986155453367,
          -0.46011770909802147,
          -0.17069791916858712,
          0.7477619653784102,
          0.6185875871384198,
          -0.03412196080059261,
          -0.6006936705797701,
          0.22313749251249107,
          0.9435526817842972,
          0.6636961250343455,
          -0.6701946568001667,
          -0.8186983206331545,
          0.3553229001468578,
          -0.011188711473357541,
          -0.4430737932282673,
          0.3904000052165942
         ],
         "y": [
          0.9346803195674277,
          0.37008224039466786,
          -0.044484187078774565,
          0.09028244578543639,
          0.746256861991615,
          0.018299725815130386,
          0.9133354494128096,
          0.27262851023322404,
          0.21634157326614897,
          -0.18354298346396514,
          -0.07099598028685974,
          0.26467070549065475,
          -0.24685340405191009,
          -0.045085118738423066,
          -0.030875624880438567,
          0.693380120867458,
          0.5905893736877535,
          -0.306949422036562,
          -1.0,
          -0.7269129227618417,
          0.35017021857276937,
          -0.6490555298964602,
          -0.962394988848004,
          -0.6879639635408361,
          -0.8845287372496655,
          0.15363688901550884,
          -0.3785000530365884,
          0.5667485646498626,
          -0.5489147728898769,
          -0.628672987532844,
          -0.40579320517738626,
          0.6939750033609468,
          0.9264458793590109
         ],
         "type": "scatter"
        }
       ],
       "layout": {
        "annotations": [
         {
          "showarrow": false,
          "text": "Python code: <a href='https://plotly.com/ipython-notebooks/network-graphs/'> https://plotly.com/ipython-notebooks/network-graphs/</a>",
          "x": 0.005,
          "xref": "paper",
          "y": -0.002,
          "yref": "paper"
         }
        ],
        "hovermode": "closest",
        "margin": {
         "b": 20,
         "l": 5,
         "r": 5,
         "t": 40
        },
        "showlegend": false,
        "title": {
         "font": {
          "size": 16
         },
         "text": "<br>Network graph made with Python"
        },
        "xaxis": {
         "showgrid": false,
         "showticklabels": false,
         "zeroline": false
        },
        "yaxis": {
         "showgrid": false,
         "showticklabels": false,
         "zeroline": false
        },
        "template": {
         "data": {
          "histogram2dcontour": [
           {
            "type": "histogram2dcontour",
            "colorbar": {
             "outlinewidth": 0,
             "ticks": ""
            },
            "colorscale": [
             [
              0.0,
              "#0d0887"
             ],
             [
              0.1111111111111111,
              "#46039f"
             ],
             [
              0.2222222222222222,
              "#7201a8"
             ],
             [
              0.3333333333333333,
              "#9c179e"
             ],
             [
              0.4444444444444444,
              "#bd3786"
             ],
             [
              0.5555555555555556,
              "#d8576b"
             ],
             [
              0.6666666666666666,
              "#ed7953"
             ],
             [
              0.7777777777777778,
              "#fb9f3a"
             ],
             [
              0.8888888888888888,
              "#fdca26"
             ],
             [
              1.0,
              "#f0f921"
             ]
            ]
           }
          ],
          "choropleth": [
           {
            "type": "choropleth",
            "colorbar": {
             "outlinewidth": 0,
             "ticks": ""
            }
           }
          ],
          "histogram2d": [
           {
            "type": "histogram2d",
            "colorbar": {
             "outlinewidth": 0,
             "ticks": ""
            },
            "colorscale": [
             [
              0.0,
              "#0d0887"
             ],
             [
              0.1111111111111111,
              "#46039f"
             ],
             [
              0.2222222222222222,
              "#7201a8"
             ],
             [
              0.3333333333333333,
              "#9c179e"
             ],
             [
              0.4444444444444444,
              "#bd3786"
             ],
             [
              0.5555555555555556,
              "#d8576b"
             ],
             [
              0.6666666666666666,
              "#ed7953"
             ],
             [
              0.7777777777777778,
              "#fb9f3a"
             ],
             [
              0.8888888888888888,
              "#fdca26"
             ],
             [
              1.0,
              "#f0f921"
             ]
            ]
           }
          ],
          "heatmap": [
           {
            "type": "heatmap",
            "colorbar": {
             "outlinewidth": 0,
             "ticks": ""
            },
            "colorscale": [
             [
              0.0,
              "#0d0887"
             ],
             [
              0.1111111111111111,
              "#46039f"
             ],
             [
              0.2222222222222222,
              "#7201a8"
             ],
             [
              0.3333333333333333,
              "#9c179e"
             ],
             [
              0.4444444444444444,
              "#bd3786"
             ],
             [
              0.5555555555555556,
              "#d8576b"
             ],
             [
              0.6666666666666666,
              "#ed7953"
             ],
             [
              0.7777777777777778,
              "#fb9f3a"
             ],
             [
              0.8888888888888888,
              "#fdca26"
             ],
             [
              1.0,
              "#f0f921"
             ]
            ]
           }
          ],
          "heatmapgl": [
           {
            "type": "heatmapgl",
            "colorbar": {
             "outlinewidth": 0,
             "ticks": ""
            },
            "colorscale": [
             [
              0.0,
              "#0d0887"
             ],
             [
              0.1111111111111111,
              "#46039f"
             ],
             [
              0.2222222222222222,
              "#7201a8"
             ],
             [
              0.3333333333333333,
              "#9c179e"
             ],
             [
              0.4444444444444444,
              "#bd3786"
             ],
             [
              0.5555555555555556,
              "#d8576b"
             ],
             [
              0.6666666666666666,
              "#ed7953"
             ],
             [
              0.7777777777777778,
              "#fb9f3a"
             ],
             [
              0.8888888888888888,
              "#fdca26"
             ],
             [
              1.0,
              "#f0f921"
             ]
            ]
           }
          ],
          "contourcarpet": [
           {
            "type": "contourcarpet",
            "colorbar": {
             "outlinewidth": 0,
             "ticks": ""
            }
           }
          ],
          "contour": [
           {
            "type": "contour",
            "colorbar": {
             "outlinewidth": 0,
             "ticks": ""
            },
            "colorscale": [
             [
              0.0,
              "#0d0887"
             ],
             [
              0.1111111111111111,
              "#46039f"
             ],
             [
              0.2222222222222222,
              "#7201a8"
             ],
             [
              0.3333333333333333,
              "#9c179e"
             ],
             [
              0.4444444444444444,
              "#bd3786"
             ],
             [
              0.5555555555555556,
              "#d8576b"
             ],
             [
              0.6666666666666666,
              "#ed7953"
             ],
             [
              0.7777777777777778,
              "#fb9f3a"
             ],
             [
              0.8888888888888888,
              "#fdca26"
             ],
             [
              1.0,
              "#f0f921"
             ]
            ]
           }
          ],
          "surface": [
           {
            "type": "surface",
            "colorbar": {
             "outlinewidth": 0,
             "ticks": ""
            },
            "colorscale": [
             [
              0.0,
              "#0d0887"
             ],
             [
              0.1111111111111111,
              "#46039f"
             ],
             [
              0.2222222222222222,
              "#7201a8"
             ],
             [
              0.3333333333333333,
              "#9c179e"
             ],
             [
              0.4444444444444444,
              "#bd3786"
             ],
             [
              0.5555555555555556,
              "#d8576b"
             ],
             [
              0.6666666666666666,
              "#ed7953"
             ],
             [
              0.7777777777777778,
              "#fb9f3a"
             ],
             [
              0.8888888888888888,
              "#fdca26"
             ],
             [
              1.0,
              "#f0f921"
             ]
            ]
           }
          ],
          "mesh3d": [
           {
            "type": "mesh3d",
            "colorbar": {
             "outlinewidth": 0,
             "ticks": ""
            }
           }
          ],
          "scatter": [
           {
            "fillpattern": {
             "fillmode": "overlay",
             "size": 10,
             "solidity": 0.2
            },
            "type": "scatter"
           }
          ],
          "parcoords": [
           {
            "type": "parcoords",
            "line": {
             "colorbar": {
              "outlinewidth": 0,
              "ticks": ""
             }
            }
           }
          ],
          "scatterpolargl": [
           {
            "type": "scatterpolargl",
            "marker": {
             "colorbar": {
              "outlinewidth": 0,
              "ticks": ""
             }
            }
           }
          ],
          "bar": [
           {
            "error_x": {
             "color": "#2a3f5f"
            },
            "error_y": {
             "color": "#2a3f5f"
            },
            "marker": {
             "line": {
              "color": "#E5ECF6",
              "width": 0.5
             },
             "pattern": {
              "fillmode": "overlay",
              "size": 10,
              "solidity": 0.2
             }
            },
            "type": "bar"
           }
          ],
          "scattergeo": [
           {
            "type": "scattergeo",
            "marker": {
             "colorbar": {
              "outlinewidth": 0,
              "ticks": ""
             }
            }
           }
          ],
          "scatterpolar": [
           {
            "type": "scatterpolar",
            "marker": {
             "colorbar": {
              "outlinewidth": 0,
              "ticks": ""
             }
            }
           }
          ],
          "histogram": [
           {
            "marker": {
             "pattern": {
              "fillmode": "overlay",
              "size": 10,
              "solidity": 0.2
             }
            },
            "type": "histogram"
           }
          ],
          "scattergl": [
           {
            "type": "scattergl",
            "marker": {
             "colorbar": {
              "outlinewidth": 0,
              "ticks": ""
             }
            }
           }
          ],
          "scatter3d": [
           {
            "type": "scatter3d",
            "line": {
             "colorbar": {
              "outlinewidth": 0,
              "ticks": ""
             }
            },
            "marker": {
             "colorbar": {
              "outlinewidth": 0,
              "ticks": ""
             }
            }
           }
          ],
          "scattermapbox": [
           {
            "type": "scattermapbox",
            "marker": {
             "colorbar": {
              "outlinewidth": 0,
              "ticks": ""
             }
            }
           }
          ],
          "scatterternary": [
           {
            "type": "scatterternary",
            "marker": {
             "colorbar": {
              "outlinewidth": 0,
              "ticks": ""
             }
            }
           }
          ],
          "scattercarpet": [
           {
            "type": "scattercarpet",
            "marker": {
             "colorbar": {
              "outlinewidth": 0,
              "ticks": ""
             }
            }
           }
          ],
          "carpet": [
           {
            "aaxis": {
             "endlinecolor": "#2a3f5f",
             "gridcolor": "white",
             "linecolor": "white",
             "minorgridcolor": "white",
             "startlinecolor": "#2a3f5f"
            },
            "baxis": {
             "endlinecolor": "#2a3f5f",
             "gridcolor": "white",
             "linecolor": "white",
             "minorgridcolor": "white",
             "startlinecolor": "#2a3f5f"
            },
            "type": "carpet"
           }
          ],
          "table": [
           {
            "cells": {
             "fill": {
              "color": "#EBF0F8"
             },
             "line": {
              "color": "white"
             }
            },
            "header": {
             "fill": {
              "color": "#C8D4E3"
             },
             "line": {
              "color": "white"
             }
            },
            "type": "table"
           }
          ],
          "barpolar": [
           {
            "marker": {
             "line": {
              "color": "#E5ECF6",
              "width": 0.5
             },
             "pattern": {
              "fillmode": "overlay",
              "size": 10,
              "solidity": 0.2
             }
            },
            "type": "barpolar"
           }
          ],
          "pie": [
           {
            "automargin": true,
            "type": "pie"
           }
          ]
         },
         "layout": {
          "autotypenumbers": "strict",
          "colorway": [
           "#636efa",
           "#EF553B",
           "#00cc96",
           "#ab63fa",
           "#FFA15A",
           "#19d3f3",
           "#FF6692",
           "#B6E880",
           "#FF97FF",
           "#FECB52"
          ],
          "font": {
           "color": "#2a3f5f"
          },
          "hovermode": "closest",
          "hoverlabel": {
           "align": "left"
          },
          "paper_bgcolor": "white",
          "plot_bgcolor": "#E5ECF6",
          "polar": {
           "bgcolor": "#E5ECF6",
           "angularaxis": {
            "gridcolor": "white",
            "linecolor": "white",
            "ticks": ""
           },
           "radialaxis": {
            "gridcolor": "white",
            "linecolor": "white",
            "ticks": ""
           }
          },
          "ternary": {
           "bgcolor": "#E5ECF6",
           "aaxis": {
            "gridcolor": "white",
            "linecolor": "white",
            "ticks": ""
           },
           "baxis": {
            "gridcolor": "white",
            "linecolor": "white",
            "ticks": ""
           },
           "caxis": {
            "gridcolor": "white",
            "linecolor": "white",
            "ticks": ""
           }
          },
          "coloraxis": {
           "colorbar": {
            "outlinewidth": 0,
            "ticks": ""
           }
          },
          "colorscale": {
           "sequential": [
            [
             0.0,
             "#0d0887"
            ],
            [
             0.1111111111111111,
             "#46039f"
            ],
            [
             0.2222222222222222,
             "#7201a8"
            ],
            [
             0.3333333333333333,
             "#9c179e"
            ],
            [
             0.4444444444444444,
             "#bd3786"
            ],
            [
             0.5555555555555556,
             "#d8576b"
            ],
            [
             0.6666666666666666,
             "#ed7953"
            ],
            [
             0.7777777777777778,
             "#fb9f3a"
            ],
            [
             0.8888888888888888,
             "#fdca26"
            ],
            [
             1.0,
             "#f0f921"
            ]
           ],
           "sequentialminus": [
            [
             0.0,
             "#0d0887"
            ],
            [
             0.1111111111111111,
             "#46039f"
            ],
            [
             0.2222222222222222,
             "#7201a8"
            ],
            [
             0.3333333333333333,
             "#9c179e"
            ],
            [
             0.4444444444444444,
             "#bd3786"
            ],
            [
             0.5555555555555556,
             "#d8576b"
            ],
            [
             0.6666666666666666,
             "#ed7953"
            ],
            [
             0.7777777777777778,
             "#fb9f3a"
            ],
            [
             0.8888888888888888,
             "#fdca26"
            ],
            [
             1.0,
             "#f0f921"
            ]
           ],
           "diverging": [
            [
             0,
             "#8e0152"
            ],
            [
             0.1,
             "#c51b7d"
            ],
            [
             0.2,
             "#de77ae"
            ],
            [
             0.3,
             "#f1b6da"
            ],
            [
             0.4,
             "#fde0ef"
            ],
            [
             0.5,
             "#f7f7f7"
            ],
            [
             0.6,
             "#e6f5d0"
            ],
            [
             0.7,
             "#b8e186"
            ],
            [
             0.8,
             "#7fbc41"
            ],
            [
             0.9,
             "#4d9221"
            ],
            [
             1,
             "#276419"
            ]
           ]
          },
          "xaxis": {
           "gridcolor": "white",
           "linecolor": "white",
           "ticks": "",
           "title": {
            "standoff": 15
           },
           "zerolinecolor": "white",
           "automargin": true,
           "zerolinewidth": 2
          },
          "yaxis": {
           "gridcolor": "white",
           "linecolor": "white",
           "ticks": "",
           "title": {
            "standoff": 15
           },
           "zerolinecolor": "white",
           "automargin": true,
           "zerolinewidth": 2
          },
          "scene": {
           "xaxis": {
            "backgroundcolor": "#E5ECF6",
            "gridcolor": "white",
            "linecolor": "white",
            "showbackground": true,
            "ticks": "",
            "zerolinecolor": "white",
            "gridwidth": 2
           },
           "yaxis": {
            "backgroundcolor": "#E5ECF6",
            "gridcolor": "white",
            "linecolor": "white",
            "showbackground": true,
            "ticks": "",
            "zerolinecolor": "white",
            "gridwidth": 2
           },
           "zaxis": {
            "backgroundcolor": "#E5ECF6",
            "gridcolor": "white",
            "linecolor": "white",
            "showbackground": true,
            "ticks": "",
            "zerolinecolor": "white",
            "gridwidth": 2
           }
          },
          "shapedefaults": {
           "line": {
            "color": "#2a3f5f"
           }
          },
          "annotationdefaults": {
           "arrowcolor": "#2a3f5f",
           "arrowhead": 0,
           "arrowwidth": 1
          },
          "geo": {
           "bgcolor": "white",
           "landcolor": "#E5ECF6",
           "subunitcolor": "white",
           "showland": true,
           "showlakes": true,
           "lakecolor": "white"
          },
          "title": {
           "x": 0.05
          },
          "mapbox": {
           "style": "light"
          }
         }
        }
       },
       "config": {
        "plotlyServerURL": "https://plot.ly"
       }
      },
      "text/html": [
       "<div>                            <div id=\"d49c5753-bc54-4f2d-b504-1a12a17ee182\" class=\"plotly-graph-div\" style=\"height:525px; width:100%;\"></div>            <script type=\"text/javascript\">                require([\"plotly\"], function(Plotly) {                    window.PLOTLYENV=window.PLOTLYENV || {};                                    if (document.getElementById(\"d49c5753-bc54-4f2d-b504-1a12a17ee182\")) {                    Plotly.newPlot(                        \"d49c5753-bc54-4f2d-b504-1a12a17ee182\",                        [{\"hoverinfo\":\"none\",\"line\":{\"color\":\"#888\",\"width\":0.5},\"mode\":\"lines\",\"x\":[-0.28011604861086986,-0.01428177383543742,null,0.3271110770457218,-0.28011604861086986,null,0.3271110770457218,0.5779334575943929,null,0.3271110770457218,0.033780115140682944,null,0.3271110770457218,0.7696274629197751,null,0.3271110770457218,0.6185875871384198,null,0.3271110770457218,0.9435526817842972,null,0.3271110770457218,-0.011188711473357541,null,0.3271110770457218,-0.4430737932282673,null,0.3271110770457218,0.3904000052165942,null,-0.11365853686023782,-0.28011604861086986,null,-0.11365853686023782,-0.6818475963036134,null,-0.11365853686023782,0.8211450526186461,null,-0.11365853686023782,-0.17069791916858712,null,-0.11365853686023782,-0.6701946568001667,null,-0.11365853686023782,0.3553229001468578,null,-0.01428177383543742,0.7101810576447862,null,-0.01428177383543742,-0.03412196080059261,null,-0.01428177383543742,-0.6701946568001667,null,-0.01428177383543742,-0.4430737932282673,null,0.5779334575943929,-0.01428177383543742,null,-0.07371941564401559,0.5779334575943929,null,-0.07371941564401559,-0.9487086118179489,null,-0.07371941564401559,-0.9652395353226214,null,-0.07371941564401559,0.22313749251249107,null,-0.07371941564401559,0.6636961250343455,null,-0.07371941564401559,-0.8186983206331545,null,-0.07371941564401559,0.3904000052165942,null,0.033780115140682944,-0.01428177383543742,null,-0.035926515934588565,0.033780115140682944,null,-0.035926515934588565,-0.9652395353226214,null,-0.035926515934588565,-0.6818475963036134,null,-0.035926515934588565,0.7477619653784102,null,-0.035926515934588565,0.6636961250343455,null,-0.9487086118179489,-0.11365853686023782,null,-0.31805113572422783,-0.9487086118179489,null,-0.31805113572422783,0.161564373704059,null,-0.31805113572422783,-0.17069791916858712,null,-0.31805113572422783,-0.8186983206331545,null,-0.31805113572422783,0.3553229001468578,null,-0.9652395353226214,-0.11365853686023782,null,-0.6818475963036134,-0.07371941564401559,null,0.8211450526186461,-0.07371941564401559,null,0.1763961124896624,0.8211450526186461,null,0.1763961124896624,0.7101810576447862,null,0.1763961124896624,0.7477619653784102,null,0.1763961124896624,0.6185875871384198,null,0.1763961124896624,-0.6006936705797701,null,0.1763961124896624,0.9435526817842972,null,0.1763961124896624,0.6636961250343455,null,0.1763961124896624,-0.6701946568001667,null,0.1763961124896624,-0.8186983206331545,null,0.1763961124896624,0.3553229001468578,null,0.1763961124896624,-0.011188711473357541,null,0.1763961124896624,-0.4430737932282673,null,0.1763961124896624,0.3904000052165942,null,0.7101810576447862,-0.07371941564401559,null,0.161564373704059,-0.07371941564401559,null,0.7696274629197751,-0.01428177383543742,null,-0.87986155453367,-0.11365853686023782,null,-0.46011770909802147,-0.87986155453367,null,-0.46011770909802147,-0.03412196080059261,null,-0.46011770909802147,-0.6006936705797701,null,-0.46011770909802147,0.22313749251249107,null,-0.17069791916858712,-0.07371941564401559,null,0.7477619653784102,-0.01428177383543742,null,0.6185875871384198,-0.07371941564401559,null,-0.03412196080059261,-0.11365853686023782,null,-0.6006936705797701,-0.11365853686023782,null,0.22313749251249107,-0.11365853686023782,null,0.9435526817842972,-0.01428177383543742,null,0.6636961250343455,-0.01428177383543742,null,-0.6701946568001667,-0.07371941564401559,null,-0.8186983206331545,-0.11365853686023782,null,0.3553229001468578,-0.07371941564401559,null,-0.011188711473357541,-0.07371941564401559,null,-0.011188711473357541,-0.01428177383543742,null,-0.4430737932282673,-0.07371941564401559,null,0.3904000052165942,-0.01428177383543742,null],\"y\":[0.9346803195674277,0.09028244578543639,null,0.37008224039466786,0.9346803195674277,null,0.37008224039466786,0.746256861991615,null,0.37008224039466786,0.9133354494128096,null,0.37008224039466786,0.5905893736877535,null,0.37008224039466786,-0.6490555298964602,null,0.37008224039466786,0.15363688901550884,null,0.37008224039466786,-0.40579320517738626,null,0.37008224039466786,0.6939750033609468,null,0.37008224039466786,0.9264458793590109,null,-0.044484187078774565,0.9346803195674277,null,-0.044484187078774565,0.26467070549065475,null,-0.044484187078774565,-0.24685340405191009,null,-0.044484187078774565,-0.7269129227618417,null,-0.044484187078774565,0.5667485646498626,null,-0.044484187078774565,-0.628672987532844,null,0.09028244578543639,-0.030875624880438567,null,0.09028244578543639,-0.962394988848004,null,0.09028244578543639,0.5667485646498626,null,0.09028244578543639,0.6939750033609468,null,0.746256861991615,0.09028244578543639,null,0.018299725815130386,0.746256861991615,null,0.018299725815130386,0.21634157326614897,null,0.018299725815130386,-0.07099598028685974,null,0.018299725815130386,-0.8845287372496655,null,0.018299725815130386,-0.3785000530365884,null,0.018299725815130386,-0.5489147728898769,null,0.018299725815130386,0.9264458793590109,null,0.9133354494128096,0.09028244578543639,null,0.27262851023322404,0.9133354494128096,null,0.27262851023322404,-0.07099598028685974,null,0.27262851023322404,0.26467070549065475,null,0.27262851023322404,0.35017021857276937,null,0.27262851023322404,-0.3785000530365884,null,0.21634157326614897,-0.044484187078774565,null,-0.18354298346396514,0.21634157326614897,null,-0.18354298346396514,0.693380120867458,null,-0.18354298346396514,-0.7269129227618417,null,-0.18354298346396514,-0.5489147728898769,null,-0.18354298346396514,-0.628672987532844,null,-0.07099598028685974,-0.044484187078774565,null,0.26467070549065475,0.018299725815130386,null,-0.24685340405191009,0.018299725815130386,null,-0.045085118738423066,-0.24685340405191009,null,-0.045085118738423066,-0.030875624880438567,null,-0.045085118738423066,0.35017021857276937,null,-0.045085118738423066,-0.6490555298964602,null,-0.045085118738423066,-0.6879639635408361,null,-0.045085118738423066,0.15363688901550884,null,-0.045085118738423066,-0.3785000530365884,null,-0.045085118738423066,0.5667485646498626,null,-0.045085118738423066,-0.5489147728898769,null,-0.045085118738423066,-0.628672987532844,null,-0.045085118738423066,-0.40579320517738626,null,-0.045085118738423066,0.6939750033609468,null,-0.045085118738423066,0.9264458793590109,null,-0.030875624880438567,0.018299725815130386,null,0.693380120867458,0.018299725815130386,null,0.5905893736877535,0.09028244578543639,null,-0.306949422036562,-0.044484187078774565,null,-1.0,-0.306949422036562,null,-1.0,-0.962394988848004,null,-1.0,-0.6879639635408361,null,-1.0,-0.8845287372496655,null,-0.7269129227618417,0.018299725815130386,null,0.35017021857276937,0.09028244578543639,null,-0.6490555298964602,0.018299725815130386,null,-0.962394988848004,-0.044484187078774565,null,-0.6879639635408361,-0.044484187078774565,null,-0.8845287372496655,-0.044484187078774565,null,0.15363688901550884,0.09028244578543639,null,-0.3785000530365884,0.09028244578543639,null,0.5667485646498626,0.018299725815130386,null,-0.5489147728898769,-0.044484187078774565,null,-0.628672987532844,0.018299725815130386,null,-0.40579320517738626,0.018299725815130386,null,-0.40579320517738626,0.09028244578543639,null,0.6939750033609468,0.018299725815130386,null,0.9264458793590109,0.09028244578543639,null],\"type\":\"scatter\"},{\"hoverinfo\":\"text\",\"marker\":{\"color\":[],\"colorbar\":{\"thickness\":15,\"title\":{\"side\":\"right\",\"text\":\"Node Connections\"},\"xanchor\":\"left\"},\"colorscale\":[[0.0,\"rgb(255,255,217)\"],[0.125,\"rgb(237,248,177)\"],[0.25,\"rgb(199,233,180)\"],[0.375,\"rgb(127,205,187)\"],[0.5,\"rgb(65,182,196)\"],[0.625,\"rgb(29,145,192)\"],[0.75,\"rgb(34,94,168)\"],[0.875,\"rgb(37,52,148)\"],[1.0,\"rgb(8,29,88)\"]],\"line\":{\"width\":2},\"reversescale\":true,\"showscale\":true,\"size\":10},\"mode\":\"markers\",\"text\":[\"0\",\"\\u041a\\u0440\\u043e\\u0441\\u0441\\u043e\\u0432\\u043a\\u0438\",\"\\u0414\\u0436\\u0438\\u043d\\u0441\\u044b\",\"\\u041a\\u0443\\u0440\\u0442\\u043a\\u0430\",\"1\",\"\\u0424\\u0443\\u0442\\u0431\\u043e\\u043b\\u043a\\u0430\",\"2\",\"\\u0420\\u0443\\u0431\\u0430\\u0448\\u043a\\u0430\",\"3\",\"\\u0411\\u0440\\u044e\\u043a\\u0438\",\"4\",\"5\",\"6\",\"\\u0421\\u0443\\u043c\\u043a\\u0430\",\"7\",\"8\",\"9\",\"10\",\"\\u0428\\u0430\\u043f\\u043a\\u0430\",\"11\",\"12\",\"13\",\"14\",\"15\",\"16\",\"17\",\"18\",\"19\",\"20\",\"21\",\"22\",\"23\",\"24\"],\"x\":[-0.28011604861086986,0.3271110770457218,-0.11365853686023782,-0.01428177383543742,0.5779334575943929,-0.07371941564401559,0.033780115140682944,-0.035926515934588565,-0.9487086118179489,-0.31805113572422783,-0.9652395353226214,-0.6818475963036134,0.8211450526186461,0.1763961124896624,0.7101810576447862,0.161564373704059,0.7696274629197751,-0.87986155453367,-0.46011770909802147,-0.17069791916858712,0.7477619653784102,0.6185875871384198,-0.03412196080059261,-0.6006936705797701,0.22313749251249107,0.9435526817842972,0.6636961250343455,-0.6701946568001667,-0.8186983206331545,0.3553229001468578,-0.011188711473357541,-0.4430737932282673,0.3904000052165942],\"y\":[0.9346803195674277,0.37008224039466786,-0.044484187078774565,0.09028244578543639,0.746256861991615,0.018299725815130386,0.9133354494128096,0.27262851023322404,0.21634157326614897,-0.18354298346396514,-0.07099598028685974,0.26467070549065475,-0.24685340405191009,-0.045085118738423066,-0.030875624880438567,0.693380120867458,0.5905893736877535,-0.306949422036562,-1.0,-0.7269129227618417,0.35017021857276937,-0.6490555298964602,-0.962394988848004,-0.6879639635408361,-0.8845287372496655,0.15363688901550884,-0.3785000530365884,0.5667485646498626,-0.5489147728898769,-0.628672987532844,-0.40579320517738626,0.6939750033609468,0.9264458793590109],\"type\":\"scatter\"}],                        {\"annotations\":[{\"showarrow\":false,\"text\":\"Python code: \\u003ca href='https:\\u002f\\u002fplotly.com\\u002fipython-notebooks\\u002fnetwork-graphs\\u002f'\\u003e https:\\u002f\\u002fplotly.com\\u002fipython-notebooks\\u002fnetwork-graphs\\u002f\\u003c\\u002fa\\u003e\",\"x\":0.005,\"xref\":\"paper\",\"y\":-0.002,\"yref\":\"paper\"}],\"hovermode\":\"closest\",\"margin\":{\"b\":20,\"l\":5,\"r\":5,\"t\":40},\"showlegend\":false,\"title\":{\"font\":{\"size\":16},\"text\":\"\\u003cbr\\u003eNetwork graph made with Python\"},\"xaxis\":{\"showgrid\":false,\"showticklabels\":false,\"zeroline\":false},\"yaxis\":{\"showgrid\":false,\"showticklabels\":false,\"zeroline\":false},\"template\":{\"data\":{\"histogram2dcontour\":[{\"type\":\"histogram2dcontour\",\"colorbar\":{\"outlinewidth\":0,\"ticks\":\"\"},\"colorscale\":[[0.0,\"#0d0887\"],[0.1111111111111111,\"#46039f\"],[0.2222222222222222,\"#7201a8\"],[0.3333333333333333,\"#9c179e\"],[0.4444444444444444,\"#bd3786\"],[0.5555555555555556,\"#d8576b\"],[0.6666666666666666,\"#ed7953\"],[0.7777777777777778,\"#fb9f3a\"],[0.8888888888888888,\"#fdca26\"],[1.0,\"#f0f921\"]]}],\"choropleth\":[{\"type\":\"choropleth\",\"colorbar\":{\"outlinewidth\":0,\"ticks\":\"\"}}],\"histogram2d\":[{\"type\":\"histogram2d\",\"colorbar\":{\"outlinewidth\":0,\"ticks\":\"\"},\"colorscale\":[[0.0,\"#0d0887\"],[0.1111111111111111,\"#46039f\"],[0.2222222222222222,\"#7201a8\"],[0.3333333333333333,\"#9c179e\"],[0.4444444444444444,\"#bd3786\"],[0.5555555555555556,\"#d8576b\"],[0.6666666666666666,\"#ed7953\"],[0.7777777777777778,\"#fb9f3a\"],[0.8888888888888888,\"#fdca26\"],[1.0,\"#f0f921\"]]}],\"heatmap\":[{\"type\":\"heatmap\",\"colorbar\":{\"outlinewidth\":0,\"ticks\":\"\"},\"colorscale\":[[0.0,\"#0d0887\"],[0.1111111111111111,\"#46039f\"],[0.2222222222222222,\"#7201a8\"],[0.3333333333333333,\"#9c179e\"],[0.4444444444444444,\"#bd3786\"],[0.5555555555555556,\"#d8576b\"],[0.6666666666666666,\"#ed7953\"],[0.7777777777777778,\"#fb9f3a\"],[0.8888888888888888,\"#fdca26\"],[1.0,\"#f0f921\"]]}],\"heatmapgl\":[{\"type\":\"heatmapgl\",\"colorbar\":{\"outlinewidth\":0,\"ticks\":\"\"},\"colorscale\":[[0.0,\"#0d0887\"],[0.1111111111111111,\"#46039f\"],[0.2222222222222222,\"#7201a8\"],[0.3333333333333333,\"#9c179e\"],[0.4444444444444444,\"#bd3786\"],[0.5555555555555556,\"#d8576b\"],[0.6666666666666666,\"#ed7953\"],[0.7777777777777778,\"#fb9f3a\"],[0.8888888888888888,\"#fdca26\"],[1.0,\"#f0f921\"]]}],\"contourcarpet\":[{\"type\":\"contourcarpet\",\"colorbar\":{\"outlinewidth\":0,\"ticks\":\"\"}}],\"contour\":[{\"type\":\"contour\",\"colorbar\":{\"outlinewidth\":0,\"ticks\":\"\"},\"colorscale\":[[0.0,\"#0d0887\"],[0.1111111111111111,\"#46039f\"],[0.2222222222222222,\"#7201a8\"],[0.3333333333333333,\"#9c179e\"],[0.4444444444444444,\"#bd3786\"],[0.5555555555555556,\"#d8576b\"],[0.6666666666666666,\"#ed7953\"],[0.7777777777777778,\"#fb9f3a\"],[0.8888888888888888,\"#fdca26\"],[1.0,\"#f0f921\"]]}],\"surface\":[{\"type\":\"surface\",\"colorbar\":{\"outlinewidth\":0,\"ticks\":\"\"},\"colorscale\":[[0.0,\"#0d0887\"],[0.1111111111111111,\"#46039f\"],[0.2222222222222222,\"#7201a8\"],[0.3333333333333333,\"#9c179e\"],[0.4444444444444444,\"#bd3786\"],[0.5555555555555556,\"#d8576b\"],[0.6666666666666666,\"#ed7953\"],[0.7777777777777778,\"#fb9f3a\"],[0.8888888888888888,\"#fdca26\"],[1.0,\"#f0f921\"]]}],\"mesh3d\":[{\"type\":\"mesh3d\",\"colorbar\":{\"outlinewidth\":0,\"ticks\":\"\"}}],\"scatter\":[{\"fillpattern\":{\"fillmode\":\"overlay\",\"size\":10,\"solidity\":0.2},\"type\":\"scatter\"}],\"parcoords\":[{\"type\":\"parcoords\",\"line\":{\"colorbar\":{\"outlinewidth\":0,\"ticks\":\"\"}}}],\"scatterpolargl\":[{\"type\":\"scatterpolargl\",\"marker\":{\"colorbar\":{\"outlinewidth\":0,\"ticks\":\"\"}}}],\"bar\":[{\"error_x\":{\"color\":\"#2a3f5f\"},\"error_y\":{\"color\":\"#2a3f5f\"},\"marker\":{\"line\":{\"color\":\"#E5ECF6\",\"width\":0.5},\"pattern\":{\"fillmode\":\"overlay\",\"size\":10,\"solidity\":0.2}},\"type\":\"bar\"}],\"scattergeo\":[{\"type\":\"scattergeo\",\"marker\":{\"colorbar\":{\"outlinewidth\":0,\"ticks\":\"\"}}}],\"scatterpolar\":[{\"type\":\"scatterpolar\",\"marker\":{\"colorbar\":{\"outlinewidth\":0,\"ticks\":\"\"}}}],\"histogram\":[{\"marker\":{\"pattern\":{\"fillmode\":\"overlay\",\"size\":10,\"solidity\":0.2}},\"type\":\"histogram\"}],\"scattergl\":[{\"type\":\"scattergl\",\"marker\":{\"colorbar\":{\"outlinewidth\":0,\"ticks\":\"\"}}}],\"scatter3d\":[{\"type\":\"scatter3d\",\"line\":{\"colorbar\":{\"outlinewidth\":0,\"ticks\":\"\"}},\"marker\":{\"colorbar\":{\"outlinewidth\":0,\"ticks\":\"\"}}}],\"scattermapbox\":[{\"type\":\"scattermapbox\",\"marker\":{\"colorbar\":{\"outlinewidth\":0,\"ticks\":\"\"}}}],\"scatterternary\":[{\"type\":\"scatterternary\",\"marker\":{\"colorbar\":{\"outlinewidth\":0,\"ticks\":\"\"}}}],\"scattercarpet\":[{\"type\":\"scattercarpet\",\"marker\":{\"colorbar\":{\"outlinewidth\":0,\"ticks\":\"\"}}}],\"carpet\":[{\"aaxis\":{\"endlinecolor\":\"#2a3f5f\",\"gridcolor\":\"white\",\"linecolor\":\"white\",\"minorgridcolor\":\"white\",\"startlinecolor\":\"#2a3f5f\"},\"baxis\":{\"endlinecolor\":\"#2a3f5f\",\"gridcolor\":\"white\",\"linecolor\":\"white\",\"minorgridcolor\":\"white\",\"startlinecolor\":\"#2a3f5f\"},\"type\":\"carpet\"}],\"table\":[{\"cells\":{\"fill\":{\"color\":\"#EBF0F8\"},\"line\":{\"color\":\"white\"}},\"header\":{\"fill\":{\"color\":\"#C8D4E3\"},\"line\":{\"color\":\"white\"}},\"type\":\"table\"}],\"barpolar\":[{\"marker\":{\"line\":{\"color\":\"#E5ECF6\",\"width\":0.5},\"pattern\":{\"fillmode\":\"overlay\",\"size\":10,\"solidity\":0.2}},\"type\":\"barpolar\"}],\"pie\":[{\"automargin\":true,\"type\":\"pie\"}]},\"layout\":{\"autotypenumbers\":\"strict\",\"colorway\":[\"#636efa\",\"#EF553B\",\"#00cc96\",\"#ab63fa\",\"#FFA15A\",\"#19d3f3\",\"#FF6692\",\"#B6E880\",\"#FF97FF\",\"#FECB52\"],\"font\":{\"color\":\"#2a3f5f\"},\"hovermode\":\"closest\",\"hoverlabel\":{\"align\":\"left\"},\"paper_bgcolor\":\"white\",\"plot_bgcolor\":\"#E5ECF6\",\"polar\":{\"bgcolor\":\"#E5ECF6\",\"angularaxis\":{\"gridcolor\":\"white\",\"linecolor\":\"white\",\"ticks\":\"\"},\"radialaxis\":{\"gridcolor\":\"white\",\"linecolor\":\"white\",\"ticks\":\"\"}},\"ternary\":{\"bgcolor\":\"#E5ECF6\",\"aaxis\":{\"gridcolor\":\"white\",\"linecolor\":\"white\",\"ticks\":\"\"},\"baxis\":{\"gridcolor\":\"white\",\"linecolor\":\"white\",\"ticks\":\"\"},\"caxis\":{\"gridcolor\":\"white\",\"linecolor\":\"white\",\"ticks\":\"\"}},\"coloraxis\":{\"colorbar\":{\"outlinewidth\":0,\"ticks\":\"\"}},\"colorscale\":{\"sequential\":[[0.0,\"#0d0887\"],[0.1111111111111111,\"#46039f\"],[0.2222222222222222,\"#7201a8\"],[0.3333333333333333,\"#9c179e\"],[0.4444444444444444,\"#bd3786\"],[0.5555555555555556,\"#d8576b\"],[0.6666666666666666,\"#ed7953\"],[0.7777777777777778,\"#fb9f3a\"],[0.8888888888888888,\"#fdca26\"],[1.0,\"#f0f921\"]],\"sequentialminus\":[[0.0,\"#0d0887\"],[0.1111111111111111,\"#46039f\"],[0.2222222222222222,\"#7201a8\"],[0.3333333333333333,\"#9c179e\"],[0.4444444444444444,\"#bd3786\"],[0.5555555555555556,\"#d8576b\"],[0.6666666666666666,\"#ed7953\"],[0.7777777777777778,\"#fb9f3a\"],[0.8888888888888888,\"#fdca26\"],[1.0,\"#f0f921\"]],\"diverging\":[[0,\"#8e0152\"],[0.1,\"#c51b7d\"],[0.2,\"#de77ae\"],[0.3,\"#f1b6da\"],[0.4,\"#fde0ef\"],[0.5,\"#f7f7f7\"],[0.6,\"#e6f5d0\"],[0.7,\"#b8e186\"],[0.8,\"#7fbc41\"],[0.9,\"#4d9221\"],[1,\"#276419\"]]},\"xaxis\":{\"gridcolor\":\"white\",\"linecolor\":\"white\",\"ticks\":\"\",\"title\":{\"standoff\":15},\"zerolinecolor\":\"white\",\"automargin\":true,\"zerolinewidth\":2},\"yaxis\":{\"gridcolor\":\"white\",\"linecolor\":\"white\",\"ticks\":\"\",\"title\":{\"standoff\":15},\"zerolinecolor\":\"white\",\"automargin\":true,\"zerolinewidth\":2},\"scene\":{\"xaxis\":{\"backgroundcolor\":\"#E5ECF6\",\"gridcolor\":\"white\",\"linecolor\":\"white\",\"showbackground\":true,\"ticks\":\"\",\"zerolinecolor\":\"white\",\"gridwidth\":2},\"yaxis\":{\"backgroundcolor\":\"#E5ECF6\",\"gridcolor\":\"white\",\"linecolor\":\"white\",\"showbackground\":true,\"ticks\":\"\",\"zerolinecolor\":\"white\",\"gridwidth\":2},\"zaxis\":{\"backgroundcolor\":\"#E5ECF6\",\"gridcolor\":\"white\",\"linecolor\":\"white\",\"showbackground\":true,\"ticks\":\"\",\"zerolinecolor\":\"white\",\"gridwidth\":2}},\"shapedefaults\":{\"line\":{\"color\":\"#2a3f5f\"}},\"annotationdefaults\":{\"arrowcolor\":\"#2a3f5f\",\"arrowhead\":0,\"arrowwidth\":1},\"geo\":{\"bgcolor\":\"white\",\"landcolor\":\"#E5ECF6\",\"subunitcolor\":\"white\",\"showland\":true,\"showlakes\":true,\"lakecolor\":\"white\"},\"title\":{\"x\":0.05},\"mapbox\":{\"style\":\"light\"}}}},                        {\"responsive\": true}                    ).then(function(){\n",
       "                            \n",
       "var gd = document.getElementById('d49c5753-bc54-4f2d-b504-1a12a17ee182');\n",
       "var x = new MutationObserver(function (mutations, observer) {{\n",
       "        var display = window.getComputedStyle(gd).display;\n",
       "        if (!display || display === 'none') {{\n",
       "            console.log([gd, 'removed!']);\n",
       "            Plotly.purge(gd);\n",
       "            observer.disconnect();\n",
       "        }}\n",
       "}});\n",
       "\n",
       "// Listen for the removal of the full notebook cells\n",
       "var notebookContainer = gd.closest('#notebook-container');\n",
       "if (notebookContainer) {{\n",
       "    x.observe(notebookContainer, {childList: true});\n",
       "}}\n",
       "\n",
       "// Listen for the clearing of the current output cell\n",
       "var outputEl = gd.closest('.output');\n",
       "if (outputEl) {{\n",
       "    x.observe(outputEl, {childList: true});\n",
       "}}\n",
       "\n",
       "                        })                };                });            </script>        </div>"
      ]
     },
     "metadata": {},
     "output_type": "display_data",
     "jetTransient": {
      "display_id": null
     }
    }
   ],
   "execution_count": 543
  },
  {
   "metadata": {},
   "cell_type": "markdown",
   "source": "efficient_apriori",
   "id": "aedc80074241b2e4"
  },
  {
   "metadata": {
    "ExecuteTime": {
     "end_time": "2025-09-18T09:16:45.771867Z",
     "start_time": "2025-09-18T09:16:45.693791Z"
    }
   },
   "cell_type": "code",
   "source": [
    "from efficient_apriori import apriori\n",
    "\n",
    "start = time.time()\n",
    "itemsets, rules = apriori(transactions, min_support=min_sup, min_confidence=0.6)\n",
    "times['efficient-apriori'] = time.time() - start\n",
    "\n",
    "n_trans = len(transactions)\n",
    "\n",
    "print(\"\\nАссоциативные правила (достоверность ≥ 60%):\")\n",
    "\n",
    "rules_pyarmviz = []  # список Rule для PyARMViz\n",
    "rules_data = []      # для собственного графика draw_rules_graph\n",
    "\n",
    "for i, r in enumerate(rules):\n",
    "    ant = frozenset(r.lhs)\n",
    "    cons = frozenset(r.rhs)\n",
    "    union = ant | cons\n",
    "\n",
    "    # считаем абсолютные количества по транзакциям\n",
    "    count_ab = sum(1 for t in transactions if union.issubset(t))\n",
    "    count_a = sum(1 for t in transactions if ant.issubset(t))\n",
    "    count_b = sum(1 for t in transactions if cons.issubset(t))\n",
    "\n",
    "    support_ab = count_ab / n_trans\n",
    "    support_a = count_a / n_trans\n",
    "    support_b = count_b / n_trans\n",
    "\n",
    "    lift = support_ab / (support_a * support_b) if support_a * support_b else 0.0\n",
    "\n",
    "    print(f\"{i}: {set(r.lhs)} -> {set(r.rhs)} \"\n",
    "          f\"Support = {support_ab:.3f} Confidence = {r.confidence:.3f} Lift = {lift:.3f}\")\n",
    "\n",
    "    # для PyARMViz нужны абсолютные counts\n",
    "    rules_pyarmviz.append(\n",
    "        PyARMViz.Rule.Rule(\n",
    "            lhs=tuple(r.lhs),\n",
    "            rhs=tuple(r.rhs),\n",
    "            count_full=count_ab,\n",
    "            count_lhs=count_a,\n",
    "            count_rhs=count_b,\n",
    "            num_transactions=n_trans\n",
    "        )\n",
    "    )\n",
    "\n",
    "# визуализация PyARMViz\n",
    "PyARMViz.metadata_scatter_plot(rules_pyarmviz)\n",
    "PyARMViz.adjacency_graph_plotly(rules_pyarmviz)\n",
    "# PyARMViz.adjacency_parallel_coordinate_plot(rules_pyarmviz)\n",
    "# PyARMViz.adjacency_parallel_category_plot(rules_pyarmviz)\n"
   ],
   "id": "a56da7909c89c147",
   "outputs": [
    {
     "name": "stdout",
     "output_type": "stream",
     "text": [
      "\n",
      "Ассоциативные правила (достоверность ≥ 60%):\n",
      "0: {'Брюки'} -> {'Джинсы'} Support = 0.300 Confidence = 0.750 Lift = 1.071\n",
      "1: {'Брюки'} -> {'Сумка'} Support = 0.250 Confidence = 0.625 Lift = 1.136\n",
      "2: {'Брюки'} -> {'Футболка'} Support = 0.350 Confidence = 0.875 Lift = 1.250\n",
      "3: {'Кроссовки'} -> {'Джинсы'} Support = 0.300 Confidence = 0.667 Lift = 0.952\n",
      "4: {'Куртка'} -> {'Джинсы'} Support = 0.400 Confidence = 0.667 Lift = 0.952\n",
      "5: {'Рубашка'} -> {'Джинсы'} Support = 0.350 Confidence = 0.700 Lift = 1.000\n",
      "6: {'Сумка'} -> {'Джинсы'} Support = 0.350 Confidence = 0.636 Lift = 0.909\n",
      "7: {'Футболка'} -> {'Джинсы'} Support = 0.550 Confidence = 0.786 Lift = 1.122\n",
      "8: {'Джинсы'} -> {'Футболка'} Support = 0.550 Confidence = 0.786 Lift = 1.122\n",
      "9: {'Шапка'} -> {'Джинсы'} Support = 0.300 Confidence = 1.000 Lift = 1.429\n",
      "10: {'Куртка'} -> {'Кроссовки'} Support = 0.400 Confidence = 0.667 Lift = 1.481\n",
      "11: {'Кроссовки'} -> {'Куртка'} Support = 0.400 Confidence = 0.889 Lift = 1.481\n",
      "12: {'Рубашка'} -> {'Кроссовки'} Support = 0.300 Confidence = 0.600 Lift = 1.333\n",
      "13: {'Кроссовки'} -> {'Рубашка'} Support = 0.300 Confidence = 0.667 Lift = 1.333\n",
      "14: {'Кроссовки'} -> {'Футболка'} Support = 0.300 Confidence = 0.667 Lift = 0.952\n",
      "15: {'Рубашка'} -> {'Куртка'} Support = 0.400 Confidence = 0.800 Lift = 1.333\n",
      "16: {'Куртка'} -> {'Рубашка'} Support = 0.400 Confidence = 0.667 Lift = 1.333\n",
      "17: {'Сумка'} -> {'Куртка'} Support = 0.350 Confidence = 0.636 Lift = 1.061\n",
      "18: {'Куртка'} -> {'Футболка'} Support = 0.400 Confidence = 0.667 Lift = 0.952\n",
      "19: {'Шапка'} -> {'Куртка'} Support = 0.200 Confidence = 0.667 Lift = 1.111\n",
      "20: {'Рубашка'} -> {'Футболка'} Support = 0.350 Confidence = 0.700 Lift = 1.000\n",
      "21: {'Сумка'} -> {'Футболка'} Support = 0.400 Confidence = 0.727 Lift = 1.039\n",
      "22: {'Шапка'} -> {'Сумка'} Support = 0.200 Confidence = 0.667 Lift = 1.212\n",
      "23: {'Шапка'} -> {'Футболка'} Support = 0.200 Confidence = 0.667 Lift = 0.952\n",
      "24: {'Сумка', 'Брюки'} -> {'Джинсы'} Support = 0.200 Confidence = 0.800 Lift = 1.143\n",
      "25: {'Джинсы', 'Брюки'} -> {'Сумка'} Support = 0.200 Confidence = 0.667 Lift = 1.212\n",
      "26: {'Футболка', 'Брюки'} -> {'Джинсы'} Support = 0.300 Confidence = 0.857 Lift = 1.224\n",
      "27: {'Джинсы', 'Брюки'} -> {'Футболка'} Support = 0.300 Confidence = 1.000 Lift = 1.429\n",
      "28: {'Брюки'} -> {'Футболка', 'Джинсы'} Support = 0.300 Confidence = 0.750 Lift = 1.364\n",
      "29: {'Сумка', 'Брюки'} -> {'Футболка'} Support = 0.200 Confidence = 0.800 Lift = 1.143\n",
      "30: {'Кроссовки', 'Куртка'} -> {'Джинсы'} Support = 0.250 Confidence = 0.625 Lift = 0.893\n",
      "31: {'Джинсы', 'Куртка'} -> {'Кроссовки'} Support = 0.250 Confidence = 0.625 Lift = 1.389\n",
      "32: {'Кроссовки', 'Джинсы'} -> {'Куртка'} Support = 0.250 Confidence = 0.833 Lift = 1.389\n",
      "33: {'Кроссовки', 'Рубашка'} -> {'Джинсы'} Support = 0.200 Confidence = 0.667 Lift = 0.952\n",
      "34: {'Кроссовки', 'Джинсы'} -> {'Рубашка'} Support = 0.200 Confidence = 0.667 Lift = 1.333\n",
      "35: {'Кроссовки', 'Футболка'} -> {'Джинсы'} Support = 0.200 Confidence = 0.667 Lift = 0.952\n",
      "36: {'Кроссовки', 'Джинсы'} -> {'Футболка'} Support = 0.200 Confidence = 0.667 Lift = 0.952\n",
      "37: {'Рубашка', 'Куртка'} -> {'Джинсы'} Support = 0.250 Confidence = 0.625 Lift = 0.893\n",
      "38: {'Джинсы', 'Рубашка'} -> {'Куртка'} Support = 0.250 Confidence = 0.714 Lift = 1.190\n",
      "39: {'Джинсы', 'Куртка'} -> {'Рубашка'} Support = 0.250 Confidence = 0.625 Lift = 1.250\n",
      "40: {'Футболка', 'Куртка'} -> {'Джинсы'} Support = 0.300 Confidence = 0.750 Lift = 1.071\n",
      "41: {'Джинсы', 'Куртка'} -> {'Футболка'} Support = 0.300 Confidence = 0.750 Lift = 1.071\n",
      "42: {'Шапка', 'Куртка'} -> {'Джинсы'} Support = 0.200 Confidence = 1.000 Lift = 1.429\n",
      "43: {'Шапка', 'Джинсы'} -> {'Куртка'} Support = 0.200 Confidence = 0.667 Lift = 1.111\n",
      "44: {'Шапка'} -> {'Джинсы', 'Куртка'} Support = 0.200 Confidence = 0.667 Lift = 1.667\n",
      "45: {'Футболка', 'Рубашка'} -> {'Джинсы'} Support = 0.300 Confidence = 0.857 Lift = 1.224\n",
      "46: {'Джинсы', 'Рубашка'} -> {'Футболка'} Support = 0.300 Confidence = 0.857 Lift = 1.224\n",
      "47: {'Рубашка'} -> {'Футболка', 'Джинсы'} Support = 0.300 Confidence = 0.600 Lift = 1.091\n",
      "48: {'Сумка', 'Футболка'} -> {'Джинсы'} Support = 0.300 Confidence = 0.750 Lift = 1.071\n",
      "49: {'Сумка', 'Джинсы'} -> {'Футболка'} Support = 0.300 Confidence = 0.857 Lift = 1.224\n",
      "50: {'Сумка', 'Шапка'} -> {'Джинсы'} Support = 0.200 Confidence = 1.000 Lift = 1.429\n",
      "51: {'Шапка', 'Джинсы'} -> {'Сумка'} Support = 0.200 Confidence = 0.667 Lift = 1.212\n",
      "52: {'Шапка'} -> {'Сумка', 'Джинсы'} Support = 0.200 Confidence = 0.667 Lift = 1.905\n",
      "53: {'Футболка', 'Шапка'} -> {'Джинсы'} Support = 0.200 Confidence = 1.000 Lift = 1.429\n",
      "54: {'Шапка', 'Джинсы'} -> {'Футболка'} Support = 0.200 Confidence = 0.667 Lift = 0.952\n",
      "55: {'Шапка'} -> {'Футболка', 'Джинсы'} Support = 0.200 Confidence = 0.667 Lift = 1.212\n",
      "56: {'Рубашка', 'Куртка'} -> {'Кроссовки'} Support = 0.250 Confidence = 0.625 Lift = 1.389\n",
      "57: {'Кроссовки', 'Рубашка'} -> {'Куртка'} Support = 0.250 Confidence = 0.833 Lift = 1.389\n",
      "58: {'Кроссовки', 'Куртка'} -> {'Рубашка'} Support = 0.250 Confidence = 0.625 Lift = 1.250\n",
      "59: {'Сумка', 'Кроссовки'} -> {'Куртка'} Support = 0.200 Confidence = 1.000 Lift = 1.667\n",
      "60: {'Футболка', 'Куртка'} -> {'Кроссовки'} Support = 0.250 Confidence = 0.625 Lift = 1.389\n",
      "61: {'Кроссовки', 'Футболка'} -> {'Куртка'} Support = 0.250 Confidence = 0.833 Lift = 1.389\n",
      "62: {'Кроссовки', 'Куртка'} -> {'Футболка'} Support = 0.250 Confidence = 0.625 Lift = 0.893\n",
      "63: {'Кроссовки', 'Футболка'} -> {'Рубашка'} Support = 0.200 Confidence = 0.667 Lift = 1.333\n",
      "64: {'Кроссовки', 'Рубашка'} -> {'Футболка'} Support = 0.200 Confidence = 0.667 Lift = 0.952\n",
      "65: {'Кроссовки', 'Футболка'} -> {'Сумка'} Support = 0.200 Confidence = 0.667 Lift = 1.212\n",
      "66: {'Сумка', 'Кроссовки'} -> {'Футболка'} Support = 0.200 Confidence = 1.000 Lift = 1.429\n",
      "67: {'Сумка', 'Рубашка'} -> {'Куртка'} Support = 0.250 Confidence = 1.000 Lift = 1.667\n",
      "68: {'Сумка', 'Куртка'} -> {'Рубашка'} Support = 0.250 Confidence = 0.714 Lift = 1.429\n",
      "69: {'Рубашка', 'Куртка'} -> {'Сумка'} Support = 0.250 Confidence = 0.625 Lift = 1.136\n",
      "70: {'Футболка', 'Рубашка'} -> {'Куртка'} Support = 0.250 Confidence = 0.714 Lift = 1.190\n",
      "71: {'Футболка', 'Куртка'} -> {'Рубашка'} Support = 0.250 Confidence = 0.625 Lift = 1.250\n",
      "72: {'Рубашка', 'Куртка'} -> {'Футболка'} Support = 0.250 Confidence = 0.625 Lift = 0.893\n",
      "73: {'Сумка', 'Футболка'} -> {'Куртка'} Support = 0.300 Confidence = 0.750 Lift = 1.250\n",
      "74: {'Футболка', 'Куртка'} -> {'Сумка'} Support = 0.300 Confidence = 0.750 Lift = 1.364\n",
      "75: {'Сумка', 'Куртка'} -> {'Футболка'} Support = 0.300 Confidence = 0.857 Lift = 1.224\n",
      "76: {'Сумка', 'Рубашка'} -> {'Футболка'} Support = 0.200 Confidence = 0.800 Lift = 1.143\n",
      "77: {'Сумка', 'Футболка', 'Джинсы'} -> {'Брюки'} Support = 0.200 Confidence = 0.667 Lift = 1.667\n",
      "78: {'Сумка', 'Футболка', 'Брюки'} -> {'Джинсы'} Support = 0.200 Confidence = 1.000 Lift = 1.429\n",
      "79: {'Футболка', 'Джинсы', 'Брюки'} -> {'Сумка'} Support = 0.200 Confidence = 0.667 Lift = 1.212\n",
      "80: {'Сумка', 'Джинсы', 'Брюки'} -> {'Футболка'} Support = 0.200 Confidence = 1.000 Lift = 1.429\n",
      "81: {'Сумка', 'Брюки'} -> {'Футболка', 'Джинсы'} Support = 0.200 Confidence = 0.800 Lift = 1.455\n",
      "82: {'Джинсы', 'Брюки'} -> {'Сумка', 'Футболка'} Support = 0.200 Confidence = 0.667 Lift = 1.667\n",
      "83: {'Футболка', 'Рубашка', 'Куртка'} -> {'Джинсы'} Support = 0.200 Confidence = 0.800 Lift = 1.143\n",
      "84: {'Футболка', 'Джинсы', 'Рубашка'} -> {'Куртка'} Support = 0.200 Confidence = 0.667 Lift = 1.111\n",
      "85: {'Футболка', 'Джинсы', 'Куртка'} -> {'Рубашка'} Support = 0.200 Confidence = 0.667 Lift = 1.333\n",
      "86: {'Джинсы', 'Рубашка', 'Куртка'} -> {'Футболка'} Support = 0.200 Confidence = 0.800 Lift = 1.143\n",
      "87: {'Сумка', 'Футболка', 'Куртка'} -> {'Джинсы'} Support = 0.200 Confidence = 0.667 Lift = 0.952\n",
      "88: {'Сумка', 'Футболка', 'Джинсы'} -> {'Куртка'} Support = 0.200 Confidence = 0.667 Lift = 1.111\n",
      "89: {'Футболка', 'Джинсы', 'Куртка'} -> {'Сумка'} Support = 0.200 Confidence = 0.667 Lift = 1.212\n",
      "90: {'Сумка', 'Джинсы', 'Куртка'} -> {'Футболка'} Support = 0.200 Confidence = 1.000 Lift = 1.429\n",
      "91: {'Сумка', 'Футболка', 'Куртка'} -> {'Кроссовки'} Support = 0.200 Confidence = 0.667 Lift = 1.481\n",
      "92: {'Сумка', 'Кроссовки', 'Футболка'} -> {'Куртка'} Support = 0.200 Confidence = 1.000 Lift = 1.667\n",
      "93: {'Футболка', 'Кроссовки', 'Куртка'} -> {'Сумка'} Support = 0.200 Confidence = 0.800 Lift = 1.455\n",
      "94: {'Сумка', 'Кроссовки', 'Куртка'} -> {'Футболка'} Support = 0.200 Confidence = 1.000 Lift = 1.429\n",
      "95: {'Кроссовки', 'Футболка'} -> {'Сумка', 'Куртка'} Support = 0.200 Confidence = 0.667 Lift = 1.905\n",
      "96: {'Сумка', 'Кроссовки'} -> {'Футболка', 'Куртка'} Support = 0.200 Confidence = 1.000 Lift = 2.500\n",
      "97: {'Сумка', 'Футболка', 'Рубашка'} -> {'Куртка'} Support = 0.200 Confidence = 1.000 Lift = 1.667\n",
      "98: {'Сумка', 'Футболка', 'Куртка'} -> {'Рубашка'} Support = 0.200 Confidence = 0.667 Lift = 1.333\n",
      "99: {'Футболка', 'Рубашка', 'Куртка'} -> {'Сумка'} Support = 0.200 Confidence = 0.800 Lift = 1.455\n",
      "100: {'Сумка', 'Рубашка', 'Куртка'} -> {'Футболка'} Support = 0.200 Confidence = 0.800 Lift = 1.143\n",
      "101: {'Сумка', 'Рубашка'} -> {'Футболка', 'Куртка'} Support = 0.200 Confidence = 0.800 Lift = 2.000\n"
     ]
    },
    {
     "data": {
      "application/vnd.plotly.v1+json": {
       "data": [
        {
         "marker": {
          "color": [
           1.0714285714285714,
           1.1363636363636365,
           1.2499999999999998,
           0.9523809523809523,
           0.9523809523809524,
           1.0,
           0.9090909090909091,
           1.1224489795918369,
           1.1224489795918369,
           1.4285714285714286,
           1.4814814814814814,
           1.4814814814814814,
           1.3333333333333333,
           1.3333333333333333,
           0.9523809523809523,
           1.3333333333333335,
           1.3333333333333335,
           1.0606060606060606,
           0.9523809523809524,
           1.1111111111111112,
           1.0,
           1.038961038961039,
           1.2121212121212122,
           0.9523809523809524
          ],
          "colorbar": {
           "title": {
            "text": "Lift"
           }
          },
          "colorscale": [
           [
            0.0,
            "rgb(243, 224, 247)"
           ],
           [
            0.16666666666666666,
            "rgb(228, 199, 241)"
           ],
           [
            0.3333333333333333,
            "rgb(209, 175, 232)"
           ],
           [
            0.5,
            "rgb(185, 152, 221)"
           ],
           [
            0.6666666666666666,
            "rgb(159, 130, 206)"
           ],
           [
            0.8333333333333334,
            "rgb(130, 109, 186)"
           ],
           [
            1.0,
            "rgb(99, 88, 159)"
           ]
          ]
         },
         "mode": "markers",
         "text": [
          "('Брюки',) => ('Джинсы',), Lift: 1.0714285714285714",
          "('Брюки',) => ('Сумка',), Lift: 1.1363636363636365",
          "('Брюки',) => ('Футболка',), Lift: 1.2499999999999998",
          "('Кроссовки',) => ('Джинсы',), Lift: 0.9523809523809523",
          "('Куртка',) => ('Джинсы',), Lift: 0.9523809523809524",
          "('Рубашка',) => ('Джинсы',), Lift: 1.0",
          "('Сумка',) => ('Джинсы',), Lift: 0.9090909090909091",
          "('Футболка',) => ('Джинсы',), Lift: 1.1224489795918369",
          "('Джинсы',) => ('Футболка',), Lift: 1.1224489795918369",
          "('Шапка',) => ('Джинсы',), Lift: 1.4285714285714286",
          "('Куртка',) => ('Кроссовки',), Lift: 1.4814814814814814",
          "('Кроссовки',) => ('Куртка',), Lift: 1.4814814814814814",
          "('Рубашка',) => ('Кроссовки',), Lift: 1.3333333333333333",
          "('Кроссовки',) => ('Рубашка',), Lift: 1.3333333333333333",
          "('Кроссовки',) => ('Футболка',), Lift: 0.9523809523809523",
          "('Рубашка',) => ('Куртка',), Lift: 1.3333333333333335",
          "('Куртка',) => ('Рубашка',), Lift: 1.3333333333333335",
          "('Сумка',) => ('Куртка',), Lift: 1.0606060606060606",
          "('Куртка',) => ('Футболка',), Lift: 0.9523809523809524",
          "('Шапка',) => ('Куртка',), Lift: 1.1111111111111112",
          "('Рубашка',) => ('Футболка',), Lift: 1.0",
          "('Сумка',) => ('Футболка',), Lift: 1.038961038961039",
          "('Шапка',) => ('Сумка',), Lift: 1.2121212121212122",
          "('Шапка',) => ('Футболка',), Lift: 0.9523809523809524"
         ],
         "x": [
          0.3,
          0.25,
          0.35,
          0.3,
          0.4,
          0.35,
          0.35,
          0.55,
          0.55,
          0.3,
          0.4,
          0.4,
          0.3,
          0.3,
          0.3,
          0.4,
          0.4,
          0.35,
          0.4,
          0.2,
          0.35,
          0.4,
          0.2,
          0.2
         ],
         "y": [
          0.75,
          0.625,
          0.875,
          0.6666666666666666,
          0.6666666666666666,
          0.7,
          0.6363636363636364,
          0.7857142857142857,
          0.7857142857142857,
          1.0,
          0.6666666666666666,
          0.8888888888888888,
          0.6,
          0.6666666666666666,
          0.6666666666666666,
          0.8,
          0.6666666666666666,
          0.6363636363636364,
          0.6666666666666666,
          0.6666666666666666,
          0.7,
          0.7272727272727273,
          0.6666666666666666,
          0.6666666666666666
         ],
         "type": "scatter"
        }
       ],
       "layout": {
        "template": {
         "data": {
          "histogram2dcontour": [
           {
            "type": "histogram2dcontour",
            "colorbar": {
             "outlinewidth": 0,
             "ticks": ""
            },
            "colorscale": [
             [
              0.0,
              "#0d0887"
             ],
             [
              0.1111111111111111,
              "#46039f"
             ],
             [
              0.2222222222222222,
              "#7201a8"
             ],
             [
              0.3333333333333333,
              "#9c179e"
             ],
             [
              0.4444444444444444,
              "#bd3786"
             ],
             [
              0.5555555555555556,
              "#d8576b"
             ],
             [
              0.6666666666666666,
              "#ed7953"
             ],
             [
              0.7777777777777778,
              "#fb9f3a"
             ],
             [
              0.8888888888888888,
              "#fdca26"
             ],
             [
              1.0,
              "#f0f921"
             ]
            ]
           }
          ],
          "choropleth": [
           {
            "type": "choropleth",
            "colorbar": {
             "outlinewidth": 0,
             "ticks": ""
            }
           }
          ],
          "histogram2d": [
           {
            "type": "histogram2d",
            "colorbar": {
             "outlinewidth": 0,
             "ticks": ""
            },
            "colorscale": [
             [
              0.0,
              "#0d0887"
             ],
             [
              0.1111111111111111,
              "#46039f"
             ],
             [
              0.2222222222222222,
              "#7201a8"
             ],
             [
              0.3333333333333333,
              "#9c179e"
             ],
             [
              0.4444444444444444,
              "#bd3786"
             ],
             [
              0.5555555555555556,
              "#d8576b"
             ],
             [
              0.6666666666666666,
              "#ed7953"
             ],
             [
              0.7777777777777778,
              "#fb9f3a"
             ],
             [
              0.8888888888888888,
              "#fdca26"
             ],
             [
              1.0,
              "#f0f921"
             ]
            ]
           }
          ],
          "heatmap": [
           {
            "type": "heatmap",
            "colorbar": {
             "outlinewidth": 0,
             "ticks": ""
            },
            "colorscale": [
             [
              0.0,
              "#0d0887"
             ],
             [
              0.1111111111111111,
              "#46039f"
             ],
             [
              0.2222222222222222,
              "#7201a8"
             ],
             [
              0.3333333333333333,
              "#9c179e"
             ],
             [
              0.4444444444444444,
              "#bd3786"
             ],
             [
              0.5555555555555556,
              "#d8576b"
             ],
             [
              0.6666666666666666,
              "#ed7953"
             ],
             [
              0.7777777777777778,
              "#fb9f3a"
             ],
             [
              0.8888888888888888,
              "#fdca26"
             ],
             [
              1.0,
              "#f0f921"
             ]
            ]
           }
          ],
          "heatmapgl": [
           {
            "type": "heatmapgl",
            "colorbar": {
             "outlinewidth": 0,
             "ticks": ""
            },
            "colorscale": [
             [
              0.0,
              "#0d0887"
             ],
             [
              0.1111111111111111,
              "#46039f"
             ],
             [
              0.2222222222222222,
              "#7201a8"
             ],
             [
              0.3333333333333333,
              "#9c179e"
             ],
             [
              0.4444444444444444,
              "#bd3786"
             ],
             [
              0.5555555555555556,
              "#d8576b"
             ],
             [
              0.6666666666666666,
              "#ed7953"
             ],
             [
              0.7777777777777778,
              "#fb9f3a"
             ],
             [
              0.8888888888888888,
              "#fdca26"
             ],
             [
              1.0,
              "#f0f921"
             ]
            ]
           }
          ],
          "contourcarpet": [
           {
            "type": "contourcarpet",
            "colorbar": {
             "outlinewidth": 0,
             "ticks": ""
            }
           }
          ],
          "contour": [
           {
            "type": "contour",
            "colorbar": {
             "outlinewidth": 0,
             "ticks": ""
            },
            "colorscale": [
             [
              0.0,
              "#0d0887"
             ],
             [
              0.1111111111111111,
              "#46039f"
             ],
             [
              0.2222222222222222,
              "#7201a8"
             ],
             [
              0.3333333333333333,
              "#9c179e"
             ],
             [
              0.4444444444444444,
              "#bd3786"
             ],
             [
              0.5555555555555556,
              "#d8576b"
             ],
             [
              0.6666666666666666,
              "#ed7953"
             ],
             [
              0.7777777777777778,
              "#fb9f3a"
             ],
             [
              0.8888888888888888,
              "#fdca26"
             ],
             [
              1.0,
              "#f0f921"
             ]
            ]
           }
          ],
          "surface": [
           {
            "type": "surface",
            "colorbar": {
             "outlinewidth": 0,
             "ticks": ""
            },
            "colorscale": [
             [
              0.0,
              "#0d0887"
             ],
             [
              0.1111111111111111,
              "#46039f"
             ],
             [
              0.2222222222222222,
              "#7201a8"
             ],
             [
              0.3333333333333333,
              "#9c179e"
             ],
             [
              0.4444444444444444,
              "#bd3786"
             ],
             [
              0.5555555555555556,
              "#d8576b"
             ],
             [
              0.6666666666666666,
              "#ed7953"
             ],
             [
              0.7777777777777778,
              "#fb9f3a"
             ],
             [
              0.8888888888888888,
              "#fdca26"
             ],
             [
              1.0,
              "#f0f921"
             ]
            ]
           }
          ],
          "mesh3d": [
           {
            "type": "mesh3d",
            "colorbar": {
             "outlinewidth": 0,
             "ticks": ""
            }
           }
          ],
          "scatter": [
           {
            "fillpattern": {
             "fillmode": "overlay",
             "size": 10,
             "solidity": 0.2
            },
            "type": "scatter"
           }
          ],
          "parcoords": [
           {
            "type": "parcoords",
            "line": {
             "colorbar": {
              "outlinewidth": 0,
              "ticks": ""
             }
            }
           }
          ],
          "scatterpolargl": [
           {
            "type": "scatterpolargl",
            "marker": {
             "colorbar": {
              "outlinewidth": 0,
              "ticks": ""
             }
            }
           }
          ],
          "bar": [
           {
            "error_x": {
             "color": "#2a3f5f"
            },
            "error_y": {
             "color": "#2a3f5f"
            },
            "marker": {
             "line": {
              "color": "#E5ECF6",
              "width": 0.5
             },
             "pattern": {
              "fillmode": "overlay",
              "size": 10,
              "solidity": 0.2
             }
            },
            "type": "bar"
           }
          ],
          "scattergeo": [
           {
            "type": "scattergeo",
            "marker": {
             "colorbar": {
              "outlinewidth": 0,
              "ticks": ""
             }
            }
           }
          ],
          "scatterpolar": [
           {
            "type": "scatterpolar",
            "marker": {
             "colorbar": {
              "outlinewidth": 0,
              "ticks": ""
             }
            }
           }
          ],
          "histogram": [
           {
            "marker": {
             "pattern": {
              "fillmode": "overlay",
              "size": 10,
              "solidity": 0.2
             }
            },
            "type": "histogram"
           }
          ],
          "scattergl": [
           {
            "type": "scattergl",
            "marker": {
             "colorbar": {
              "outlinewidth": 0,
              "ticks": ""
             }
            }
           }
          ],
          "scatter3d": [
           {
            "type": "scatter3d",
            "line": {
             "colorbar": {
              "outlinewidth": 0,
              "ticks": ""
             }
            },
            "marker": {
             "colorbar": {
              "outlinewidth": 0,
              "ticks": ""
             }
            }
           }
          ],
          "scattermapbox": [
           {
            "type": "scattermapbox",
            "marker": {
             "colorbar": {
              "outlinewidth": 0,
              "ticks": ""
             }
            }
           }
          ],
          "scatterternary": [
           {
            "type": "scatterternary",
            "marker": {
             "colorbar": {
              "outlinewidth": 0,
              "ticks": ""
             }
            }
           }
          ],
          "scattercarpet": [
           {
            "type": "scattercarpet",
            "marker": {
             "colorbar": {
              "outlinewidth": 0,
              "ticks": ""
             }
            }
           }
          ],
          "carpet": [
           {
            "aaxis": {
             "endlinecolor": "#2a3f5f",
             "gridcolor": "white",
             "linecolor": "white",
             "minorgridcolor": "white",
             "startlinecolor": "#2a3f5f"
            },
            "baxis": {
             "endlinecolor": "#2a3f5f",
             "gridcolor": "white",
             "linecolor": "white",
             "minorgridcolor": "white",
             "startlinecolor": "#2a3f5f"
            },
            "type": "carpet"
           }
          ],
          "table": [
           {
            "cells": {
             "fill": {
              "color": "#EBF0F8"
             },
             "line": {
              "color": "white"
             }
            },
            "header": {
             "fill": {
              "color": "#C8D4E3"
             },
             "line": {
              "color": "white"
             }
            },
            "type": "table"
           }
          ],
          "barpolar": [
           {
            "marker": {
             "line": {
              "color": "#E5ECF6",
              "width": 0.5
             },
             "pattern": {
              "fillmode": "overlay",
              "size": 10,
              "solidity": 0.2
             }
            },
            "type": "barpolar"
           }
          ],
          "pie": [
           {
            "automargin": true,
            "type": "pie"
           }
          ]
         },
         "layout": {
          "autotypenumbers": "strict",
          "colorway": [
           "#636efa",
           "#EF553B",
           "#00cc96",
           "#ab63fa",
           "#FFA15A",
           "#19d3f3",
           "#FF6692",
           "#B6E880",
           "#FF97FF",
           "#FECB52"
          ],
          "font": {
           "color": "#2a3f5f"
          },
          "hovermode": "closest",
          "hoverlabel": {
           "align": "left"
          },
          "paper_bgcolor": "white",
          "plot_bgcolor": "#E5ECF6",
          "polar": {
           "bgcolor": "#E5ECF6",
           "angularaxis": {
            "gridcolor": "white",
            "linecolor": "white",
            "ticks": ""
           },
           "radialaxis": {
            "gridcolor": "white",
            "linecolor": "white",
            "ticks": ""
           }
          },
          "ternary": {
           "bgcolor": "#E5ECF6",
           "aaxis": {
            "gridcolor": "white",
            "linecolor": "white",
            "ticks": ""
           },
           "baxis": {
            "gridcolor": "white",
            "linecolor": "white",
            "ticks": ""
           },
           "caxis": {
            "gridcolor": "white",
            "linecolor": "white",
            "ticks": ""
           }
          },
          "coloraxis": {
           "colorbar": {
            "outlinewidth": 0,
            "ticks": ""
           }
          },
          "colorscale": {
           "sequential": [
            [
             0.0,
             "#0d0887"
            ],
            [
             0.1111111111111111,
             "#46039f"
            ],
            [
             0.2222222222222222,
             "#7201a8"
            ],
            [
             0.3333333333333333,
             "#9c179e"
            ],
            [
             0.4444444444444444,
             "#bd3786"
            ],
            [
             0.5555555555555556,
             "#d8576b"
            ],
            [
             0.6666666666666666,
             "#ed7953"
            ],
            [
             0.7777777777777778,
             "#fb9f3a"
            ],
            [
             0.8888888888888888,
             "#fdca26"
            ],
            [
             1.0,
             "#f0f921"
            ]
           ],
           "sequentialminus": [
            [
             0.0,
             "#0d0887"
            ],
            [
             0.1111111111111111,
             "#46039f"
            ],
            [
             0.2222222222222222,
             "#7201a8"
            ],
            [
             0.3333333333333333,
             "#9c179e"
            ],
            [
             0.4444444444444444,
             "#bd3786"
            ],
            [
             0.5555555555555556,
             "#d8576b"
            ],
            [
             0.6666666666666666,
             "#ed7953"
            ],
            [
             0.7777777777777778,
             "#fb9f3a"
            ],
            [
             0.8888888888888888,
             "#fdca26"
            ],
            [
             1.0,
             "#f0f921"
            ]
           ],
           "diverging": [
            [
             0,
             "#8e0152"
            ],
            [
             0.1,
             "#c51b7d"
            ],
            [
             0.2,
             "#de77ae"
            ],
            [
             0.3,
             "#f1b6da"
            ],
            [
             0.4,
             "#fde0ef"
            ],
            [
             0.5,
             "#f7f7f7"
            ],
            [
             0.6,
             "#e6f5d0"
            ],
            [
             0.7,
             "#b8e186"
            ],
            [
             0.8,
             "#7fbc41"
            ],
            [
             0.9,
             "#4d9221"
            ],
            [
             1,
             "#276419"
            ]
           ]
          },
          "xaxis": {
           "gridcolor": "white",
           "linecolor": "white",
           "ticks": "",
           "title": {
            "standoff": 15
           },
           "zerolinecolor": "white",
           "automargin": true,
           "zerolinewidth": 2
          },
          "yaxis": {
           "gridcolor": "white",
           "linecolor": "white",
           "ticks": "",
           "title": {
            "standoff": 15
           },
           "zerolinecolor": "white",
           "automargin": true,
           "zerolinewidth": 2
          },
          "scene": {
           "xaxis": {
            "backgroundcolor": "#E5ECF6",
            "gridcolor": "white",
            "linecolor": "white",
            "showbackground": true,
            "ticks": "",
            "zerolinecolor": "white",
            "gridwidth": 2
           },
           "yaxis": {
            "backgroundcolor": "#E5ECF6",
            "gridcolor": "white",
            "linecolor": "white",
            "showbackground": true,
            "ticks": "",
            "zerolinecolor": "white",
            "gridwidth": 2
           },
           "zaxis": {
            "backgroundcolor": "#E5ECF6",
            "gridcolor": "white",
            "linecolor": "white",
            "showbackground": true,
            "ticks": "",
            "zerolinecolor": "white",
            "gridwidth": 2
           }
          },
          "shapedefaults": {
           "line": {
            "color": "#2a3f5f"
           }
          },
          "annotationdefaults": {
           "arrowcolor": "#2a3f5f",
           "arrowhead": 0,
           "arrowwidth": 1
          },
          "geo": {
           "bgcolor": "white",
           "landcolor": "#E5ECF6",
           "subunitcolor": "white",
           "showland": true,
           "showlakes": true,
           "lakecolor": "white"
          },
          "title": {
           "x": 0.05
          },
          "mapbox": {
           "style": "light"
          }
         }
        },
        "xaxis": {
         "title": {
          "text": "Support"
         },
         "autorange": "reversed"
        },
        "title": {
         "text": "Association Rules Strength Distribution"
        },
        "yaxis": {
         "title": {
          "text": "Confidence"
         }
        }
       },
       "config": {
        "plotlyServerURL": "https://plot.ly"
       }
      },
      "text/html": [
       "<div>                            <div id=\"1ab8d78a-1f6f-4644-9ea0-e663c3b559b6\" class=\"plotly-graph-div\" style=\"height:525px; width:100%;\"></div>            <script type=\"text/javascript\">                require([\"plotly\"], function(Plotly) {                    window.PLOTLYENV=window.PLOTLYENV || {};                                    if (document.getElementById(\"1ab8d78a-1f6f-4644-9ea0-e663c3b559b6\")) {                    Plotly.newPlot(                        \"1ab8d78a-1f6f-4644-9ea0-e663c3b559b6\",                        [{\"marker\":{\"color\":[1.0714285714285714,1.1363636363636365,1.2499999999999998,0.9523809523809523,0.9523809523809524,1.0,0.9090909090909091,1.1224489795918369,1.1224489795918369,1.4285714285714286,1.4814814814814814,1.4814814814814814,1.3333333333333333,1.3333333333333333,0.9523809523809523,1.3333333333333335,1.3333333333333335,1.0606060606060606,0.9523809523809524,1.1111111111111112,1.0,1.038961038961039,1.2121212121212122,0.9523809523809524],\"colorbar\":{\"title\":{\"text\":\"Lift\"}},\"colorscale\":[[0.0,\"rgb(243, 224, 247)\"],[0.16666666666666666,\"rgb(228, 199, 241)\"],[0.3333333333333333,\"rgb(209, 175, 232)\"],[0.5,\"rgb(185, 152, 221)\"],[0.6666666666666666,\"rgb(159, 130, 206)\"],[0.8333333333333334,\"rgb(130, 109, 186)\"],[1.0,\"rgb(99, 88, 159)\"]]},\"mode\":\"markers\",\"text\":[\"('\\u0411\\u0440\\u044e\\u043a\\u0438',) =\\u003e ('\\u0414\\u0436\\u0438\\u043d\\u0441\\u044b',), Lift: 1.0714285714285714\",\"('\\u0411\\u0440\\u044e\\u043a\\u0438',) =\\u003e ('\\u0421\\u0443\\u043c\\u043a\\u0430',), Lift: 1.1363636363636365\",\"('\\u0411\\u0440\\u044e\\u043a\\u0438',) =\\u003e ('\\u0424\\u0443\\u0442\\u0431\\u043e\\u043b\\u043a\\u0430',), Lift: 1.2499999999999998\",\"('\\u041a\\u0440\\u043e\\u0441\\u0441\\u043e\\u0432\\u043a\\u0438',) =\\u003e ('\\u0414\\u0436\\u0438\\u043d\\u0441\\u044b',), Lift: 0.9523809523809523\",\"('\\u041a\\u0443\\u0440\\u0442\\u043a\\u0430',) =\\u003e ('\\u0414\\u0436\\u0438\\u043d\\u0441\\u044b',), Lift: 0.9523809523809524\",\"('\\u0420\\u0443\\u0431\\u0430\\u0448\\u043a\\u0430',) =\\u003e ('\\u0414\\u0436\\u0438\\u043d\\u0441\\u044b',), Lift: 1.0\",\"('\\u0421\\u0443\\u043c\\u043a\\u0430',) =\\u003e ('\\u0414\\u0436\\u0438\\u043d\\u0441\\u044b',), Lift: 0.9090909090909091\",\"('\\u0424\\u0443\\u0442\\u0431\\u043e\\u043b\\u043a\\u0430',) =\\u003e ('\\u0414\\u0436\\u0438\\u043d\\u0441\\u044b',), Lift: 1.1224489795918369\",\"('\\u0414\\u0436\\u0438\\u043d\\u0441\\u044b',) =\\u003e ('\\u0424\\u0443\\u0442\\u0431\\u043e\\u043b\\u043a\\u0430',), Lift: 1.1224489795918369\",\"('\\u0428\\u0430\\u043f\\u043a\\u0430',) =\\u003e ('\\u0414\\u0436\\u0438\\u043d\\u0441\\u044b',), Lift: 1.4285714285714286\",\"('\\u041a\\u0443\\u0440\\u0442\\u043a\\u0430',) =\\u003e ('\\u041a\\u0440\\u043e\\u0441\\u0441\\u043e\\u0432\\u043a\\u0438',), Lift: 1.4814814814814814\",\"('\\u041a\\u0440\\u043e\\u0441\\u0441\\u043e\\u0432\\u043a\\u0438',) =\\u003e ('\\u041a\\u0443\\u0440\\u0442\\u043a\\u0430',), Lift: 1.4814814814814814\",\"('\\u0420\\u0443\\u0431\\u0430\\u0448\\u043a\\u0430',) =\\u003e ('\\u041a\\u0440\\u043e\\u0441\\u0441\\u043e\\u0432\\u043a\\u0438',), Lift: 1.3333333333333333\",\"('\\u041a\\u0440\\u043e\\u0441\\u0441\\u043e\\u0432\\u043a\\u0438',) =\\u003e ('\\u0420\\u0443\\u0431\\u0430\\u0448\\u043a\\u0430',), Lift: 1.3333333333333333\",\"('\\u041a\\u0440\\u043e\\u0441\\u0441\\u043e\\u0432\\u043a\\u0438',) =\\u003e ('\\u0424\\u0443\\u0442\\u0431\\u043e\\u043b\\u043a\\u0430',), Lift: 0.9523809523809523\",\"('\\u0420\\u0443\\u0431\\u0430\\u0448\\u043a\\u0430',) =\\u003e ('\\u041a\\u0443\\u0440\\u0442\\u043a\\u0430',), Lift: 1.3333333333333335\",\"('\\u041a\\u0443\\u0440\\u0442\\u043a\\u0430',) =\\u003e ('\\u0420\\u0443\\u0431\\u0430\\u0448\\u043a\\u0430',), Lift: 1.3333333333333335\",\"('\\u0421\\u0443\\u043c\\u043a\\u0430',) =\\u003e ('\\u041a\\u0443\\u0440\\u0442\\u043a\\u0430',), Lift: 1.0606060606060606\",\"('\\u041a\\u0443\\u0440\\u0442\\u043a\\u0430',) =\\u003e ('\\u0424\\u0443\\u0442\\u0431\\u043e\\u043b\\u043a\\u0430',), Lift: 0.9523809523809524\",\"('\\u0428\\u0430\\u043f\\u043a\\u0430',) =\\u003e ('\\u041a\\u0443\\u0440\\u0442\\u043a\\u0430',), Lift: 1.1111111111111112\",\"('\\u0420\\u0443\\u0431\\u0430\\u0448\\u043a\\u0430',) =\\u003e ('\\u0424\\u0443\\u0442\\u0431\\u043e\\u043b\\u043a\\u0430',), Lift: 1.0\",\"('\\u0421\\u0443\\u043c\\u043a\\u0430',) =\\u003e ('\\u0424\\u0443\\u0442\\u0431\\u043e\\u043b\\u043a\\u0430',), Lift: 1.038961038961039\",\"('\\u0428\\u0430\\u043f\\u043a\\u0430',) =\\u003e ('\\u0421\\u0443\\u043c\\u043a\\u0430',), Lift: 1.2121212121212122\",\"('\\u0428\\u0430\\u043f\\u043a\\u0430',) =\\u003e ('\\u0424\\u0443\\u0442\\u0431\\u043e\\u043b\\u043a\\u0430',), Lift: 0.9523809523809524\"],\"x\":[0.3,0.25,0.35,0.3,0.4,0.35,0.35,0.55,0.55,0.3,0.4,0.4,0.3,0.3,0.3,0.4,0.4,0.35,0.4,0.2,0.35,0.4,0.2,0.2],\"y\":[0.75,0.625,0.875,0.6666666666666666,0.6666666666666666,0.7,0.6363636363636364,0.7857142857142857,0.7857142857142857,1.0,0.6666666666666666,0.8888888888888888,0.6,0.6666666666666666,0.6666666666666666,0.8,0.6666666666666666,0.6363636363636364,0.6666666666666666,0.6666666666666666,0.7,0.7272727272727273,0.6666666666666666,0.6666666666666666],\"type\":\"scatter\"}],                        {\"template\":{\"data\":{\"histogram2dcontour\":[{\"type\":\"histogram2dcontour\",\"colorbar\":{\"outlinewidth\":0,\"ticks\":\"\"},\"colorscale\":[[0.0,\"#0d0887\"],[0.1111111111111111,\"#46039f\"],[0.2222222222222222,\"#7201a8\"],[0.3333333333333333,\"#9c179e\"],[0.4444444444444444,\"#bd3786\"],[0.5555555555555556,\"#d8576b\"],[0.6666666666666666,\"#ed7953\"],[0.7777777777777778,\"#fb9f3a\"],[0.8888888888888888,\"#fdca26\"],[1.0,\"#f0f921\"]]}],\"choropleth\":[{\"type\":\"choropleth\",\"colorbar\":{\"outlinewidth\":0,\"ticks\":\"\"}}],\"histogram2d\":[{\"type\":\"histogram2d\",\"colorbar\":{\"outlinewidth\":0,\"ticks\":\"\"},\"colorscale\":[[0.0,\"#0d0887\"],[0.1111111111111111,\"#46039f\"],[0.2222222222222222,\"#7201a8\"],[0.3333333333333333,\"#9c179e\"],[0.4444444444444444,\"#bd3786\"],[0.5555555555555556,\"#d8576b\"],[0.6666666666666666,\"#ed7953\"],[0.7777777777777778,\"#fb9f3a\"],[0.8888888888888888,\"#fdca26\"],[1.0,\"#f0f921\"]]}],\"heatmap\":[{\"type\":\"heatmap\",\"colorbar\":{\"outlinewidth\":0,\"ticks\":\"\"},\"colorscale\":[[0.0,\"#0d0887\"],[0.1111111111111111,\"#46039f\"],[0.2222222222222222,\"#7201a8\"],[0.3333333333333333,\"#9c179e\"],[0.4444444444444444,\"#bd3786\"],[0.5555555555555556,\"#d8576b\"],[0.6666666666666666,\"#ed7953\"],[0.7777777777777778,\"#fb9f3a\"],[0.8888888888888888,\"#fdca26\"],[1.0,\"#f0f921\"]]}],\"heatmapgl\":[{\"type\":\"heatmapgl\",\"colorbar\":{\"outlinewidth\":0,\"ticks\":\"\"},\"colorscale\":[[0.0,\"#0d0887\"],[0.1111111111111111,\"#46039f\"],[0.2222222222222222,\"#7201a8\"],[0.3333333333333333,\"#9c179e\"],[0.4444444444444444,\"#bd3786\"],[0.5555555555555556,\"#d8576b\"],[0.6666666666666666,\"#ed7953\"],[0.7777777777777778,\"#fb9f3a\"],[0.8888888888888888,\"#fdca26\"],[1.0,\"#f0f921\"]]}],\"contourcarpet\":[{\"type\":\"contourcarpet\",\"colorbar\":{\"outlinewidth\":0,\"ticks\":\"\"}}],\"contour\":[{\"type\":\"contour\",\"colorbar\":{\"outlinewidth\":0,\"ticks\":\"\"},\"colorscale\":[[0.0,\"#0d0887\"],[0.1111111111111111,\"#46039f\"],[0.2222222222222222,\"#7201a8\"],[0.3333333333333333,\"#9c179e\"],[0.4444444444444444,\"#bd3786\"],[0.5555555555555556,\"#d8576b\"],[0.6666666666666666,\"#ed7953\"],[0.7777777777777778,\"#fb9f3a\"],[0.8888888888888888,\"#fdca26\"],[1.0,\"#f0f921\"]]}],\"surface\":[{\"type\":\"surface\",\"colorbar\":{\"outlinewidth\":0,\"ticks\":\"\"},\"colorscale\":[[0.0,\"#0d0887\"],[0.1111111111111111,\"#46039f\"],[0.2222222222222222,\"#7201a8\"],[0.3333333333333333,\"#9c179e\"],[0.4444444444444444,\"#bd3786\"],[0.5555555555555556,\"#d8576b\"],[0.6666666666666666,\"#ed7953\"],[0.7777777777777778,\"#fb9f3a\"],[0.8888888888888888,\"#fdca26\"],[1.0,\"#f0f921\"]]}],\"mesh3d\":[{\"type\":\"mesh3d\",\"colorbar\":{\"outlinewidth\":0,\"ticks\":\"\"}}],\"scatter\":[{\"fillpattern\":{\"fillmode\":\"overlay\",\"size\":10,\"solidity\":0.2},\"type\":\"scatter\"}],\"parcoords\":[{\"type\":\"parcoords\",\"line\":{\"colorbar\":{\"outlinewidth\":0,\"ticks\":\"\"}}}],\"scatterpolargl\":[{\"type\":\"scatterpolargl\",\"marker\":{\"colorbar\":{\"outlinewidth\":0,\"ticks\":\"\"}}}],\"bar\":[{\"error_x\":{\"color\":\"#2a3f5f\"},\"error_y\":{\"color\":\"#2a3f5f\"},\"marker\":{\"line\":{\"color\":\"#E5ECF6\",\"width\":0.5},\"pattern\":{\"fillmode\":\"overlay\",\"size\":10,\"solidity\":0.2}},\"type\":\"bar\"}],\"scattergeo\":[{\"type\":\"scattergeo\",\"marker\":{\"colorbar\":{\"outlinewidth\":0,\"ticks\":\"\"}}}],\"scatterpolar\":[{\"type\":\"scatterpolar\",\"marker\":{\"colorbar\":{\"outlinewidth\":0,\"ticks\":\"\"}}}],\"histogram\":[{\"marker\":{\"pattern\":{\"fillmode\":\"overlay\",\"size\":10,\"solidity\":0.2}},\"type\":\"histogram\"}],\"scattergl\":[{\"type\":\"scattergl\",\"marker\":{\"colorbar\":{\"outlinewidth\":0,\"ticks\":\"\"}}}],\"scatter3d\":[{\"type\":\"scatter3d\",\"line\":{\"colorbar\":{\"outlinewidth\":0,\"ticks\":\"\"}},\"marker\":{\"colorbar\":{\"outlinewidth\":0,\"ticks\":\"\"}}}],\"scattermapbox\":[{\"type\":\"scattermapbox\",\"marker\":{\"colorbar\":{\"outlinewidth\":0,\"ticks\":\"\"}}}],\"scatterternary\":[{\"type\":\"scatterternary\",\"marker\":{\"colorbar\":{\"outlinewidth\":0,\"ticks\":\"\"}}}],\"scattercarpet\":[{\"type\":\"scattercarpet\",\"marker\":{\"colorbar\":{\"outlinewidth\":0,\"ticks\":\"\"}}}],\"carpet\":[{\"aaxis\":{\"endlinecolor\":\"#2a3f5f\",\"gridcolor\":\"white\",\"linecolor\":\"white\",\"minorgridcolor\":\"white\",\"startlinecolor\":\"#2a3f5f\"},\"baxis\":{\"endlinecolor\":\"#2a3f5f\",\"gridcolor\":\"white\",\"linecolor\":\"white\",\"minorgridcolor\":\"white\",\"startlinecolor\":\"#2a3f5f\"},\"type\":\"carpet\"}],\"table\":[{\"cells\":{\"fill\":{\"color\":\"#EBF0F8\"},\"line\":{\"color\":\"white\"}},\"header\":{\"fill\":{\"color\":\"#C8D4E3\"},\"line\":{\"color\":\"white\"}},\"type\":\"table\"}],\"barpolar\":[{\"marker\":{\"line\":{\"color\":\"#E5ECF6\",\"width\":0.5},\"pattern\":{\"fillmode\":\"overlay\",\"size\":10,\"solidity\":0.2}},\"type\":\"barpolar\"}],\"pie\":[{\"automargin\":true,\"type\":\"pie\"}]},\"layout\":{\"autotypenumbers\":\"strict\",\"colorway\":[\"#636efa\",\"#EF553B\",\"#00cc96\",\"#ab63fa\",\"#FFA15A\",\"#19d3f3\",\"#FF6692\",\"#B6E880\",\"#FF97FF\",\"#FECB52\"],\"font\":{\"color\":\"#2a3f5f\"},\"hovermode\":\"closest\",\"hoverlabel\":{\"align\":\"left\"},\"paper_bgcolor\":\"white\",\"plot_bgcolor\":\"#E5ECF6\",\"polar\":{\"bgcolor\":\"#E5ECF6\",\"angularaxis\":{\"gridcolor\":\"white\",\"linecolor\":\"white\",\"ticks\":\"\"},\"radialaxis\":{\"gridcolor\":\"white\",\"linecolor\":\"white\",\"ticks\":\"\"}},\"ternary\":{\"bgcolor\":\"#E5ECF6\",\"aaxis\":{\"gridcolor\":\"white\",\"linecolor\":\"white\",\"ticks\":\"\"},\"baxis\":{\"gridcolor\":\"white\",\"linecolor\":\"white\",\"ticks\":\"\"},\"caxis\":{\"gridcolor\":\"white\",\"linecolor\":\"white\",\"ticks\":\"\"}},\"coloraxis\":{\"colorbar\":{\"outlinewidth\":0,\"ticks\":\"\"}},\"colorscale\":{\"sequential\":[[0.0,\"#0d0887\"],[0.1111111111111111,\"#46039f\"],[0.2222222222222222,\"#7201a8\"],[0.3333333333333333,\"#9c179e\"],[0.4444444444444444,\"#bd3786\"],[0.5555555555555556,\"#d8576b\"],[0.6666666666666666,\"#ed7953\"],[0.7777777777777778,\"#fb9f3a\"],[0.8888888888888888,\"#fdca26\"],[1.0,\"#f0f921\"]],\"sequentialminus\":[[0.0,\"#0d0887\"],[0.1111111111111111,\"#46039f\"],[0.2222222222222222,\"#7201a8\"],[0.3333333333333333,\"#9c179e\"],[0.4444444444444444,\"#bd3786\"],[0.5555555555555556,\"#d8576b\"],[0.6666666666666666,\"#ed7953\"],[0.7777777777777778,\"#fb9f3a\"],[0.8888888888888888,\"#fdca26\"],[1.0,\"#f0f921\"]],\"diverging\":[[0,\"#8e0152\"],[0.1,\"#c51b7d\"],[0.2,\"#de77ae\"],[0.3,\"#f1b6da\"],[0.4,\"#fde0ef\"],[0.5,\"#f7f7f7\"],[0.6,\"#e6f5d0\"],[0.7,\"#b8e186\"],[0.8,\"#7fbc41\"],[0.9,\"#4d9221\"],[1,\"#276419\"]]},\"xaxis\":{\"gridcolor\":\"white\",\"linecolor\":\"white\",\"ticks\":\"\",\"title\":{\"standoff\":15},\"zerolinecolor\":\"white\",\"automargin\":true,\"zerolinewidth\":2},\"yaxis\":{\"gridcolor\":\"white\",\"linecolor\":\"white\",\"ticks\":\"\",\"title\":{\"standoff\":15},\"zerolinecolor\":\"white\",\"automargin\":true,\"zerolinewidth\":2},\"scene\":{\"xaxis\":{\"backgroundcolor\":\"#E5ECF6\",\"gridcolor\":\"white\",\"linecolor\":\"white\",\"showbackground\":true,\"ticks\":\"\",\"zerolinecolor\":\"white\",\"gridwidth\":2},\"yaxis\":{\"backgroundcolor\":\"#E5ECF6\",\"gridcolor\":\"white\",\"linecolor\":\"white\",\"showbackground\":true,\"ticks\":\"\",\"zerolinecolor\":\"white\",\"gridwidth\":2},\"zaxis\":{\"backgroundcolor\":\"#E5ECF6\",\"gridcolor\":\"white\",\"linecolor\":\"white\",\"showbackground\":true,\"ticks\":\"\",\"zerolinecolor\":\"white\",\"gridwidth\":2}},\"shapedefaults\":{\"line\":{\"color\":\"#2a3f5f\"}},\"annotationdefaults\":{\"arrowcolor\":\"#2a3f5f\",\"arrowhead\":0,\"arrowwidth\":1},\"geo\":{\"bgcolor\":\"white\",\"landcolor\":\"#E5ECF6\",\"subunitcolor\":\"white\",\"showland\":true,\"showlakes\":true,\"lakecolor\":\"white\"},\"title\":{\"x\":0.05},\"mapbox\":{\"style\":\"light\"}}},\"xaxis\":{\"title\":{\"text\":\"Support\"},\"autorange\":\"reversed\"},\"title\":{\"text\":\"Association Rules Strength Distribution\"},\"yaxis\":{\"title\":{\"text\":\"Confidence\"}}},                        {\"responsive\": true}                    ).then(function(){\n",
       "                            \n",
       "var gd = document.getElementById('1ab8d78a-1f6f-4644-9ea0-e663c3b559b6');\n",
       "var x = new MutationObserver(function (mutations, observer) {{\n",
       "        var display = window.getComputedStyle(gd).display;\n",
       "        if (!display || display === 'none') {{\n",
       "            console.log([gd, 'removed!']);\n",
       "            Plotly.purge(gd);\n",
       "            observer.disconnect();\n",
       "        }}\n",
       "}});\n",
       "\n",
       "// Listen for the removal of the full notebook cells\n",
       "var notebookContainer = gd.closest('#notebook-container');\n",
       "if (notebookContainer) {{\n",
       "    x.observe(notebookContainer, {childList: true});\n",
       "}}\n",
       "\n",
       "// Listen for the clearing of the current output cell\n",
       "var outputEl = gd.closest('.output');\n",
       "if (outputEl) {{\n",
       "    x.observe(outputEl, {childList: true});\n",
       "}}\n",
       "\n",
       "                        })                };                });            </script>        </div>"
      ]
     },
     "metadata": {},
     "output_type": "display_data",
     "jetTransient": {
      "display_id": null
     }
    },
    {
     "data": {
      "application/vnd.plotly.v1+json": {
       "data": [
        {
         "hoverinfo": "none",
         "line": {
          "color": "#888",
          "width": 0.5
         },
         "mode": "lines",
         "x": [
          0.7112349655736064,
          0.009159364734317204,
          null,
          0.12039749566906129,
          0.7112349655736064,
          null,
          0.12039749566906129,
          0.5425642713110749,
          null,
          0.12039749566906129,
          -0.33528479852095056,
          null,
          0.12039749566906129,
          0.8253778951429905,
          null,
          0.12039749566906129,
          0.40421097979683906,
          null,
          0.12039749566906129,
          0.46138819437477735,
          null,
          0.12039749566906129,
          0.006496363833149298,
          null,
          0.12039749566906129,
          -0.18516561535936976,
          null,
          0.12039749566906129,
          0.13526661318444877,
          null,
          0.12039749566906129,
          -0.19970277998075692,
          null,
          0.12039749566906129,
          -0.5283895562705453,
          null,
          0.12039749566906129,
          -0.5464363140139646,
          null,
          0.12039749566906129,
          0.2883136661163932,
          null,
          0.12039749566906129,
          -0.040574395361423515,
          null,
          0.009159364734317204,
          0.3656155159673631,
          null,
          0.009159364734317204,
          0.40421097979683906,
          null,
          0.009159364734317204,
          0.006496363833149298,
          null,
          0.009159364734317204,
          -0.887084080368812,
          null,
          0.009159364734317204,
          -0.750561199793704,
          null,
          0.009159364734317204,
          -0.39400618641253565,
          null,
          0.009159364734317204,
          0.7965546024736809,
          null,
          0.009159364734317204,
          -0.614869890643329,
          null,
          0.009159364734317204,
          -0.20696480832020436,
          null,
          0.009159364734317204,
          0.8279640476227109,
          null,
          0.009159364734317204,
          0.5139967717640246,
          null,
          0.009159364734317204,
          -0.1011285468010827,
          null,
          0.009159364734317204,
          -0.3949092192241646,
          null,
          0.009159364734317204,
          0.4043815753578199,
          null,
          0.009159364734317204,
          0.046425289818556766,
          null,
          0.009159364734317204,
          0.48100046218849496,
          null,
          0.009159364734317204,
          -0.5283895562705453,
          null,
          0.009159364734317204,
          -0.5464363140139646,
          null,
          0.009159364734317204,
          -0.040574395361423515,
          null,
          0.009159364734317204,
          -0.7017214622053083,
          null,
          0.009159364734317204,
          -0.6126337617205431,
          null,
          0.009159364734317204,
          0.8341427217311803,
          null,
          0.009159364734317204,
          -0.45457210440983864,
          null,
          0.009159364734317204,
          0.6721054480373805,
          null,
          0.009159364734317204,
          0.56447011210139,
          null,
          0.5425642713110749,
          -3.0299557692367314E-4,
          null,
          -3.0299557692367314E-4,
          0.3476665627094917,
          null,
          -3.0299557692367314E-4,
          -0.6633073901900806,
          null,
          -3.0299557692367314E-4,
          0.7607366781219506,
          null,
          -3.0299557692367314E-4,
          0.8253778951429905,
          null,
          -3.0299557692367314E-4,
          0.13526661318444877,
          null,
          -3.0299557692367314E-4,
          0.56737435176529,
          null,
          -3.0299557692367314E-4,
          -0.3949092192241646,
          null,
          -3.0299557692367314E-4,
          -0.2468110422062454,
          null,
          -3.0299557692367314E-4,
          -0.6623621889875103,
          null,
          -3.0299557692367314E-4,
          0.27574916159472673,
          null,
          -3.0299557692367314E-4,
          -0.18754486166467685,
          null,
          -3.0299557692367314E-4,
          -0.5995473470513817,
          null,
          -3.0299557692367314E-4,
          0.44717055662208827,
          null,
          -3.0299557692367314E-4,
          0.6459065105635071,
          null,
          -3.0299557692367314E-4,
          -0.4889040420318174,
          null,
          -3.0299557692367314E-4,
          0.48100046218849496,
          null,
          -3.0299557692367314E-4,
          -0.19970277998075692,
          null,
          -3.0299557692367314E-4,
          -0.5464363140139646,
          null,
          -3.0299557692367314E-4,
          0.2883136661163932,
          null,
          -3.0299557692367314E-4,
          0.7627025007625698,
          null,
          -3.0299557692367314E-4,
          -0.45457210440983864,
          null,
          -3.0299557692367314E-4,
          0.56447011210139,
          null,
          -3.0299557692367314E-4,
          -0.8584294097740339,
          null,
          -3.0299557692367314E-4,
          -0.7378067112840582,
          null,
          -3.0299557692367314E-4,
          0.20613637933890824,
          null,
          -3.0299557692367314E-4,
          0.07040024701506434,
          null,
          -3.0299557692367314E-4,
          0.007312160702549998,
          null,
          -3.0299557692367314E-4,
          -0.4167510212393721,
          null,
          -3.0299557692367314E-4,
          -0.1124105424197351,
          null,
          -3.0299557692367314E-4,
          -0.1520439511305929,
          null,
          -0.33528479852095056,
          0.002500467670546386,
          null,
          0.002500467670546386,
          0.5612815882894947,
          null,
          0.002500467670546386,
          0.46138819437477735,
          null,
          0.002500467670546386,
          0.17621647872353305,
          null,
          0.002500467670546386,
          0.45639192902326053,
          null,
          0.002500467670546386,
          0.05654538173712355,
          null,
          0.002500467670546386,
          0.56737435176529,
          null,
          0.002500467670546386,
          0.7099586414312029,
          null,
          0.002500467670546386,
          -0.8594618164938946,
          null,
          0.002500467670546386,
          -0.5407090963868222,
          null,
          0.002500467670546386,
          -0.10778852301748185,
          null,
          0.002500467670546386,
          0.7195414131932708,
          null,
          0.002500467670546386,
          0.16393027676787797,
          null,
          0.002500467670546386,
          -0.6614308822889977,
          null,
          0.002500467670546386,
          0.44717055662208827,
          null,
          0.002500467670546386,
          -0.45915860912766177,
          null,
          0.002500467670546386,
          0.48100046218849496,
          null,
          0.002500467670546386,
          -0.19970277998075692,
          null,
          0.002500467670546386,
          -0.5283895562705453,
          null,
          0.002500467670546386,
          -0.07853338197807003,
          null,
          0.002500467670546386,
          -0.7017214622053083,
          null,
          0.002500467670546386,
          -0.6126337617205431,
          null,
          0.002500467670546386,
          0.7627025007625698,
          null,
          0.002500467670546386,
          -0.45457210440983864,
          null,
          0.002500467670546386,
          0.6721054480373805,
          null,
          0.002500467670546386,
          -0.8584294097740339,
          null,
          0.002500467670546386,
          -0.7378067112840582,
          null,
          0.002500467670546386,
          0.6087336109227219,
          null,
          0.002500467670546386,
          -0.31537125218543094,
          null,
          0.002500467670546386,
          0.007312160702549998,
          null,
          0.002500467670546386,
          -0.4167510212393721,
          null,
          0.002500467670546386,
          0.6298167201452955,
          null,
          -0.5622424620180968,
          0.009159364734317204,
          null,
          -0.062168341363772237,
          -0.5622424620180968,
          null,
          -0.062168341363772237,
          -0.3640452115109223,
          null,
          -0.062168341363772237,
          -0.3271084621804566,
          null,
          -0.062168341363772237,
          0.23308295930249426,
          null,
          -0.062168341363772237,
          0.21721989310406487,
          null,
          -0.062168341363772237,
          -0.750561199793704,
          null,
          -0.062168341363772237,
          0.35387129673132545,
          null,
          -0.062168341363772237,
          -0.39400618641253565,
          null,
          -0.062168341363772237,
          0.17621647872353305,
          null,
          -0.062168341363772237,
          0.7965546024736809,
          null,
          -0.062168341363772237,
          -0.5603730913332424,
          null,
          -0.062168341363772237,
          -0.4447335357963089,
          null,
          -0.062168341363772237,
          -0.6623621889875103,
          null,
          -0.062168341363772237,
          -0.5407090963868222,
          null,
          -0.062168341363772237,
          0.5344335671559074,
          null,
          -0.062168341363772237,
          -0.10778852301748185,
          null,
          -0.062168341363772237,
          -0.4553889616984118,
          null,
          -0.062168341363772237,
          0.7195414131932708,
          null,
          -0.062168341363772237,
          0.27574916159472673,
          null,
          -0.062168341363772237,
          -0.7378067112840582,
          null,
          -0.062168341363772237,
          0.6087336109227219,
          null,
          -0.062168341363772237,
          0.20613637933890824,
          null,
          -0.062168341363772237,
          -0.31537125218543094,
          null,
          -0.062168341363772237,
          0.07040024701506434,
          null,
          0.6427168911770765,
          0.009159364734317204,
          null,
          -0.010524035750056187,
          0.6427168911770765,
          null,
          -0.010524035750056187,
          -0.8185186341028883,
          null,
          -0.010524035750056187,
          -0.2877623057619958,
          null,
          -0.010524035750056187,
          0.26352311519780663,
          null,
          -0.010524035750056187,
          0.21721989310406487,
          null,
          -0.010524035750056187,
          -0.887084080368812,
          null,
          -0.010524035750056187,
          0.46809455533706634,
          null,
          -0.010524035750056187,
          -0.20696480832020436,
          null,
          -0.010524035750056187,
          0.45639192902326053,
          null,
          -0.010524035750056187,
          0.8279640476227109,
          null,
          -0.010524035750056187,
          -0.5502599191435734,
          null,
          -0.010524035750056187,
          -0.7516393415946724,
          null,
          -0.010524035750056187,
          -0.4447335357963089,
          null,
          -0.010524035750056187,
          -0.8594618164938946,
          null,
          -0.010524035750056187,
          0.5344335671559074,
          null,
          -0.010524035750056187,
          -0.5995473470513817,
          null,
          -0.010524035750056187,
          0.6423247492688253,
          null,
          -0.010524035750056187,
          -0.6614308822889977,
          null,
          -0.010524035750056187,
          0.09973467833389488,
          null,
          -0.010524035750056187,
          -0.45915860912766177,
          null,
          -0.010524035750056187,
          0.6459065105635071,
          null,
          -0.010524035750056187,
          -0.07853338197807003,
          null,
          -0.010524035750056187,
          -0.6126337617205431,
          null,
          -0.010524035750056187,
          0.8341427217311803,
          null,
          -0.010524035750056187,
          0.7627025007625698,
          null,
          -0.010524035750056187,
          0.6721054480373805,
          null,
          -0.010524035750056187,
          0.56447011210139,
          null,
          -0.010524035750056187,
          -0.8584294097740339,
          null,
          -0.010524035750056187,
          0.6087336109227219,
          null,
          -0.010524035750056187,
          0.20613637933890824,
          null,
          -0.010524035750056187,
          -0.4167510212393721,
          null,
          -0.010524035750056187,
          0.6298167201452955,
          null,
          -0.010524035750056187,
          -0.1124105424197351,
          null,
          0.3462174300078617,
          0.009159364734317204,
          null,
          0.014940332832522378,
          0.3462174300078617,
          null,
          0.014940332832522378,
          -0.014795432687801634,
          null,
          0.014940332832522378,
          -0.6285944526193511,
          null,
          0.014940332832522378,
          0.6489834195713522,
          null,
          0.014940332832522378,
          0.35387129673132545,
          null,
          0.014940332832522378,
          0.46809455533706634,
          null,
          0.014940332832522378,
          -0.614869890643329,
          null,
          0.014940332832522378,
          0.05654538173712355,
          null,
          0.014940332832522378,
          -0.1011285468010827,
          null,
          0.014940332832522378,
          0.3145881079270864,
          null,
          0.014940332832522378,
          -0.7516393415946724,
          null,
          0.014940332832522378,
          -0.5603730913332424,
          null,
          0.014940332832522378,
          -0.4553889616984118,
          null,
          0.014940332832522378,
          -0.18754486166467685,
          null,
          0.014940332832522378,
          0.6423247492688253,
          null,
          0.014940332832522378,
          0.16393027676787797,
          null,
          0.014940332832522378,
          0.09973467833389488,
          null,
          0.014940332832522378,
          -0.4889040420318174,
          null,
          0.014940332832522378,
          -0.07853338197807003,
          null,
          0.014940332832522378,
          -0.7017214622053083,
          null,
          0.014940332832522378,
          0.8341427217311803,
          null,
          0.014940332832522378,
          0.007312160702549998,
          null,
          0.014940332832522378,
          0.6298167201452955,
          null,
          0.014940332832522378,
          -0.1124105424197351,
          null,
          0.014940332832522378,
          -0.1520439511305929,
          null,
          0.3476665627094917,
          0.009159364734317204,
          null,
          0.5612815882894947,
          0.009159364734317204,
          null,
          0.3656155159673631,
          0.002500467670546386,
          null,
          -0.25030383567210207,
          0.009159364734317204,
          null,
          -0.022039585435061362,
          -0.25030383567210207,
          null,
          -0.022039585435061362,
          -0.7828325347256629,
          null,
          -0.022039585435061362,
          0.0156647703116358,
          null,
          -0.022039585435061362,
          -0.25536865129222175,
          null,
          -0.022039585435061362,
          -0.5502599191435734,
          null,
          -0.022039585435061362,
          0.5139967717640246,
          null,
          -0.022039585435061362,
          -0.3058953393342764,
          null,
          -0.022039585435061362,
          -0.2468110422062454,
          null,
          -0.022039585435061362,
          0.4043815753578199,
          null,
          -0.022039585435061362,
          0.3360608624080645,
          null,
          -0.022039585435061362,
          0.7099586414312029,
          null,
          -0.022039585435061362,
          0.046425289818556766,
          null,
          -0.022039585435061362,
          0.2386793158955152,
          null,
          -0.8185186341028883,
          -0.062168341363772237,
          null,
          -0.3640452115109223,
          -0.010524035750056187,
          null,
          -0.014795432687801634,
          -0.062168341363772237,
          null,
          -0.3271084621804566,
          0.014940332832522378,
          null,
          0.23308295930249426,
          0.002500467670546386,
          null,
          -0.6285944526193511,
          -0.010524035750056187,
          null,
          -0.2877623057619958,
          0.014940332832522378,
          null,
          -0.6633073901900806,
          -0.010524035750056187,
          null,
          0.26352311519780663,
          0.002500467670546386,
          null,
          -0.7828325347256629,
          -0.010524035750056187,
          null,
          0.6489834195713522,
          0.002500467670546386,
          null,
          0.7607366781219506,
          0.002500467670546386,
          null,
          0.0156647703116358,
          -3.0299557692367314E-4,
          null,
          -0.25536865129222175,
          0.002500467670546386,
          null,
          0.8253778951429905,
          0.009159364734317204,
          null,
          0.40421097979683906,
          -3.0299557692367314E-4,
          null,
          0.46138819437477735,
          0.009159364734317204,
          null,
          0.006496363833149298,
          0.002500467670546386,
          null,
          -0.18516561535936976,
          0.009159364734317204,
          null,
          -0.18516561535936976,
          0.002500467670546386,
          null,
          0.13526661318444877,
          0.002500467670546386,
          null,
          0.21721989310406487,
          0.009159364734317204,
          null,
          -0.887084080368812,
          -0.062168341363772237,
          null,
          -0.750561199793704,
          -0.010524035750056187,
          null,
          0.35387129673132545,
          0.009159364734317204,
          null,
          -0.39400618641253565,
          0.014940332832522378,
          null,
          0.17621647872353305,
          0.009159364734317204,
          null,
          0.7965546024736809,
          0.002500467670546386,
          null,
          0.46809455533706634,
          0.009159364734317204,
          null,
          -0.614869890643329,
          -0.010524035750056187,
          null,
          -0.20696480832020436,
          0.014940332832522378,
          null,
          0.45639192902326053,
          0.009159364734317204,
          null,
          0.8279640476227109,
          0.002500467670546386,
          null,
          -0.5502599191435734,
          0.009159364734317204,
          null,
          0.5139967717640246,
          -0.010524035750056187,
          null,
          -0.3058953393342764,
          0.009159364734317204,
          null,
          -0.3058953393342764,
          -0.010524035750056187,
          null,
          0.05654538173712355,
          0.009159364734317204,
          null,
          -0.1011285468010827,
          0.002500467670546386,
          null,
          0.3145881079270864,
          0.009159364734317204,
          null,
          0.3145881079270864,
          0.002500467670546386,
          null,
          0.56737435176529,
          0.009159364734317204,
          null,
          -0.3949092192241646,
          0.002500467670546386,
          null,
          -0.2468110422062454,
          0.009159364734317204,
          null,
          0.4043815753578199,
          -3.0299557692367314E-4,
          null,
          0.3360608624080645,
          0.009159364734317204,
          null,
          0.3360608624080645,
          -3.0299557692367314E-4,
          null,
          0.7099586414312029,
          0.009159364734317204,
          null,
          0.046425289818556766,
          0.002500467670546386,
          null,
          0.2386793158955152,
          0.009159364734317204,
          null,
          0.2386793158955152,
          0.002500467670546386,
          null,
          -0.7516393415946724,
          -0.062168341363772237,
          null,
          -0.5603730913332424,
          -0.010524035750056187,
          null,
          -0.4447335357963089,
          0.014940332832522378,
          null,
          -0.6623621889875103,
          -0.010524035750056187,
          null,
          -0.8594618164938946,
          -0.062168341363772237,
          null,
          -0.5407090963868222,
          -0.010524035750056187,
          null,
          0.5344335671559074,
          0.002500467670546386,
          null,
          -0.10778852301748185,
          0.014940332832522378,
          null,
          -0.4553889616984118,
          0.002500467670546386,
          null,
          0.7195414131932708,
          -3.0299557692367314E-4,
          null,
          0.27574916159472673,
          0.002500467670546386,
          null,
          -0.18754486166467685,
          -0.010524035750056187,
          null,
          -0.5995473470513817,
          0.014940332832522378,
          null,
          0.6423247492688253,
          -3.0299557692367314E-4,
          null,
          0.16393027676787797,
          -0.010524035750056187,
          null,
          -0.6614308822889977,
          0.014940332832522378,
          null,
          0.09973467833389488,
          0.002500467670546386,
          null,
          0.44717055662208827,
          -0.010524035750056187,
          null,
          -0.45915860912766177,
          -3.0299557692367314E-4,
          null,
          0.6459065105635071,
          0.002500467670546386,
          null,
          -0.4889040420318174,
          0.002500467670546386,
          null,
          0.48100046218849496,
          0.12039749566906129,
          null,
          -0.19970277998075692,
          0.009159364734317204,
          null,
          -0.5283895562705453,
          -3.0299557692367314E-4,
          null,
          -0.5464363140139646,
          0.002500467670546386,
          null,
          0.2883136661163932,
          0.009159364734317204,
          null,
          0.2883136661163932,
          0.002500467670546386,
          null,
          -0.040574395361423515,
          -3.0299557692367314E-4,
          null,
          -0.040574395361423515,
          0.002500467670546386,
          null,
          -0.07853338197807003,
          0.009159364734317204,
          null,
          -0.7017214622053083,
          -0.010524035750056187,
          null,
          -0.6126337617205431,
          0.014940332832522378,
          null,
          0.8341427217311803,
          0.002500467670546386,
          null,
          0.7627025007625698,
          0.009159364734317204,
          null,
          -0.45457210440983864,
          -0.010524035750056187,
          null,
          0.6721054480373805,
          -3.0299557692367314E-4,
          null,
          0.56447011210139,
          0.002500467670546386,
          null,
          -0.8584294097740339,
          -0.062168341363772237,
          null,
          -0.7378067112840582,
          -0.010524035750056187,
          null,
          0.6087336109227219,
          -3.0299557692367314E-4,
          null,
          0.20613637933890824,
          0.002500467670546386,
          null,
          -0.31537125218543094,
          -0.010524035750056187,
          null,
          -0.31537125218543094,
          -3.0299557692367314E-4,
          null,
          0.07040024701506434,
          -0.010524035750056187,
          null,
          0.07040024701506434,
          0.002500467670546386,
          null,
          0.007312160702549998,
          -0.010524035750056187,
          null,
          -0.4167510212393721,
          0.014940332832522378,
          null,
          0.6298167201452955,
          -3.0299557692367314E-4,
          null,
          -0.1124105424197351,
          0.002500467670546386,
          null,
          -0.1520439511305929,
          -0.010524035750056187,
          null,
          -0.1520439511305929,
          0.002500467670546386,
          null
         ],
         "y": [
          -0.3997970612997508,
          -0.006847832985052771,
          null,
          -0.29655281870183753,
          -0.3997970612997508,
          null,
          -0.29655281870183753,
          -0.06447619282918005,
          null,
          -0.29655281870183753,
          -0.7075612214557853,
          null,
          -0.29655281870183753,
          -0.017759962282711473,
          null,
          -0.29655281870183753,
          0.26361563988863174,
          null,
          -0.29655281870183753,
          -0.32746227206210116,
          null,
          -0.29655281870183753,
          -0.7388301790029667,
          null,
          -0.29655281870183753,
          -0.2949738887720336,
          null,
          -0.29655281870183753,
          -0.8018246292245861,
          null,
          -0.29655281870183753,
          -0.6773012695720383,
          null,
          -0.29655281870183753,
          0.011565037463790211,
          null,
          -0.29655281870183753,
          -0.15164929011977563,
          null,
          -0.29655281870183753,
          0.13833860875020487,
          null,
          -0.29655281870183753,
          -0.38425893298700803,
          null,
          -0.006847832985052771,
          0.5708530678240366,
          null,
          -0.006847832985052771,
          0.26361563988863174,
          null,
          -0.006847832985052771,
          -0.7388301790029667,
          null,
          -0.006847832985052771,
          0.01703883109678748,
          null,
          -0.006847832985052771,
          0.07797874954955782,
          null,
          -0.006847832985052771,
          0.7661349191263958,
          null,
          -0.006847832985052771,
          -0.2988361519924581,
          null,
          -0.006847832985052771,
          -0.43697636920638355,
          null,
          -0.006847832985052771,
          0.6930580845857481,
          null,
          -0.006847832985052771,
          0.12909108115679402,
          null,
          -0.006847832985052771,
          0.41431004559488915,
          null,
          -0.006847832985052771,
          0.5497636312023595,
          null,
          -0.006847832985052771,
          -0.592740408958469,
          null,
          -0.006847832985052771,
          0.42611849205937136,
          null,
          -0.006847832985052771,
          0.5394755748059382,
          null,
          -0.006847832985052771,
          -1.0,
          null,
          -0.006847832985052771,
          0.011565037463790211,
          null,
          -0.006847832985052771,
          -0.15164929011977563,
          null,
          -0.006847832985052771,
          -0.38425893298700803,
          null,
          -0.006847832985052771,
          -0.12673359065207102,
          null,
          -0.006847832985052771,
          0.4914562340150769,
          null,
          -0.006847832985052771,
          -0.14565701346934537,
          null,
          -0.006847832985052771,
          -0.24363267894170462,
          null,
          -0.006847832985052771,
          -0.5453200309819896,
          null,
          -0.006847832985052771,
          0.17886247495397684,
          null,
          -0.06447619282918005,
          -0.04618222017342585,
          null,
          -0.04618222017342585,
          -0.5519443416816016,
          null,
          -0.04618222017342585,
          0.003738841652364862,
          null,
          -0.04618222017342585,
          0.36381812127367164,
          null,
          -0.04618222017342585,
          -0.017759962282711473,
          null,
          -0.04618222017342585,
          -0.8018246292245861,
          null,
          -0.04618222017342585,
          -0.43044083737045596,
          null,
          -0.04618222017342585,
          -0.592740408958469,
          null,
          -0.04618222017342585,
          -0.8040396063235566,
          null,
          -0.04618222017342585,
          -0.25715978933469213,
          null,
          -0.04618222017342585,
          -0.7840848582182139,
          null,
          -0.04618222017342585,
          0.8718901796115507,
          null,
          -0.04618222017342585,
          0.5942599885380014,
          null,
          -0.04618222017342585,
          0.7042191646318409,
          null,
          -0.04618222017342585,
          0.5237602888399596,
          null,
          -0.04618222017342585,
          -0.5155530075114684,
          null,
          -0.04618222017342585,
          -1.0,
          null,
          -0.04618222017342585,
          -0.6773012695720383,
          null,
          -0.04618222017342585,
          -0.15164929011977563,
          null,
          -0.04618222017342585,
          0.13833860875020487,
          null,
          -0.04618222017342585,
          0.22552822402454228,
          null,
          -0.04618222017342585,
          -0.24363267894170462,
          null,
          -0.04618222017342585,
          0.17886247495397684,
          null,
          -0.04618222017342585,
          -0.12495181393936981,
          null,
          -0.04618222017342585,
          0.4307637871531594,
          null,
          -0.04618222017342585,
          0.5730152617389236,
          null,
          -0.04618222017342585,
          0.33720674287140906,
          null,
          -0.04618222017342585,
          0.8886523358314665,
          null,
          -0.04618222017342585,
          0.651936734209225,
          null,
          -0.04618222017342585,
          -0.8044194721523577,
          null,
          -0.04618222017342585,
          0.30765864335483195,
          null,
          -0.7075612214557853,
          -0.014079068894047034,
          null,
          -0.014079068894047034,
          -0.5934550997037932,
          null,
          -0.014079068894047034,
          -0.32746227206210116,
          null,
          -0.014079068894047034,
          -0.67679108871952,
          null,
          -0.014079068894047034,
          -0.4985040476270043,
          null,
          -0.014079068894047034,
          -0.5887744628276318,
          null,
          -0.014079068894047034,
          -0.43044083737045596,
          null,
          -0.014079068894047034,
          -0.2151117074428543,
          null,
          -0.014079068894047034,
          0.290923922893765,
          null,
          -0.014079068894047034,
          0.6908747671859197,
          null,
          -0.014079068894047034,
          0.789750364330901,
          null,
          -0.014079068894047034,
          -0.005817531310933367,
          null,
          -0.014079068894047034,
          0.8568260711309513,
          null,
          -0.014079068894047034,
          0.31349558941776345,
          null,
          -0.014079068894047034,
          0.7042191646318409,
          null,
          -0.014079068894047034,
          -0.7429473452106827,
          null,
          -0.014079068894047034,
          -1.0,
          null,
          -0.014079068894047034,
          -0.6773012695720383,
          null,
          -0.014079068894047034,
          0.011565037463790211,
          null,
          -0.014079068894047034,
          -0.6241147323459264,
          null,
          -0.014079068894047034,
          -0.12673359065207102,
          null,
          -0.014079068894047034,
          0.4914562340150769,
          null,
          -0.014079068894047034,
          0.22552822402454228,
          null,
          -0.014079068894047034,
          -0.24363267894170462,
          null,
          -0.014079068894047034,
          -0.5453200309819896,
          null,
          -0.014079068894047034,
          -0.12495181393936981,
          null,
          -0.014079068894047034,
          0.4307637871531594,
          null,
          -0.014079068894047034,
          -0.3103314007364755,
          null,
          -0.014079068894047034,
          -0.08340980145889043,
          null,
          -0.014079068894047034,
          0.8886523358314665,
          null,
          -0.014079068894047034,
          0.651936734209225,
          null,
          -0.014079068894047034,
          0.3950997974752382,
          null,
          -0.6088527533377223,
          -0.006847832985052771,
          null,
          0.06069670891477495,
          -0.6088527533377223,
          null,
          0.06069670891477495,
          -0.3852477301103587,
          null,
          0.06069670891477495,
          0.5726917988158731,
          null,
          0.06069670891477495,
          0.7156433391348939,
          null,
          0.06069670891477495,
          -0.5453250956791156,
          null,
          0.06069670891477495,
          0.07797874954955782,
          null,
          0.06069670891477495,
          -0.695742868974702,
          null,
          0.06069670891477495,
          0.7661349191263958,
          null,
          0.06069670891477495,
          -0.67679108871952,
          null,
          0.06069670891477495,
          -0.2988361519924581,
          null,
          0.06069670891477495,
          0.3789598194831228,
          null,
          0.06069670891477495,
          0.4985449074699165,
          null,
          0.06069670891477495,
          -0.25715978933469213,
          null,
          0.06069670891477495,
          0.6908747671859197,
          null,
          0.06069670891477495,
          0.5854768092789275,
          null,
          0.06069670891477495,
          0.789750364330901,
          null,
          0.06069670891477495,
          0.25550668073999805,
          null,
          0.06069670891477495,
          -0.005817531310933367,
          null,
          0.06069670891477495,
          -0.7840848582182139,
          null,
          0.06069670891477495,
          0.4307637871531594,
          null,
          0.06069670891477495,
          -0.3103314007364755,
          null,
          0.06069670891477495,
          0.5730152617389236,
          null,
          0.06069670891477495,
          -0.08340980145889043,
          null,
          0.06069670891477495,
          0.33720674287140906,
          null,
          0.2823355793136865,
          -0.006847832985052771,
          null,
          0.054475330248392656,
          0.2823355793136865,
          null,
          0.054475330248392656,
          -0.2664392994803527,
          null,
          0.054475330248392656,
          0.8120481665693551,
          null,
          0.054475330248392656,
          0.4414584490758504,
          null,
          0.054475330248392656,
          -0.5453250956791156,
          null,
          0.054475330248392656,
          0.01703883109678748,
          null,
          0.054475330248392656,
          -0.6719699495711147,
          null,
          0.054475330248392656,
          0.6930580845857481,
          null,
          0.054475330248392656,
          -0.4985040476270043,
          null,
          0.054475330248392656,
          0.12909108115679402,
          null,
          0.054475330248392656,
          -0.36249363833437465,
          null,
          0.054475330248392656,
          -0.3972609222132795,
          null,
          0.054475330248392656,
          0.4985449074699165,
          null,
          0.054475330248392656,
          0.290923922893765,
          null,
          0.054475330248392656,
          0.5854768092789275,
          null,
          0.054475330248392656,
          0.5942599885380014,
          null,
          0.054475330248392656,
          0.0787081675536081,
          null,
          0.054475330248392656,
          0.31349558941776345,
          null,
          0.054475330248392656,
          0.6754387128548366,
          null,
          0.054475330248392656,
          -0.7429473452106827,
          null,
          0.054475330248392656,
          0.5237602888399596,
          null,
          0.054475330248392656,
          -0.6241147323459264,
          null,
          0.054475330248392656,
          0.4914562340150769,
          null,
          0.054475330248392656,
          -0.14565701346934537,
          null,
          0.054475330248392656,
          0.22552822402454228,
          null,
          0.054475330248392656,
          -0.5453200309819896,
          null,
          0.054475330248392656,
          0.17886247495397684,
          null,
          0.054475330248392656,
          -0.12495181393936981,
          null,
          0.054475330248392656,
          -0.3103314007364755,
          null,
          0.054475330248392656,
          0.5730152617389236,
          null,
          0.054475330248392656,
          0.651936734209225,
          null,
          0.054475330248392656,
          0.3950997974752382,
          null,
          0.054475330248392656,
          -0.8044194721523577,
          null,
          0.7170564978161614,
          -0.006847832985052771,
          null,
          0.06015125227045929,
          0.7170564978161614,
          null,
          0.06015125227045929,
          0.7798254782952935,
          null,
          0.06015125227045929,
          0.19082814634913395,
          null,
          0.06015125227045929,
          -0.1232243565216425,
          null,
          0.06015125227045929,
          -0.695742868974702,
          null,
          0.06015125227045929,
          -0.6719699495711147,
          null,
          0.06015125227045929,
          -0.43697636920638355,
          null,
          0.06015125227045929,
          -0.5887744628276318,
          null,
          0.06015125227045929,
          0.5497636312023595,
          null,
          0.06015125227045929,
          -0.16702162928613953,
          null,
          0.06015125227045929,
          -0.3972609222132795,
          null,
          0.06015125227045929,
          0.3789598194831228,
          null,
          0.06015125227045929,
          0.25550668073999805,
          null,
          0.06015125227045929,
          0.8718901796115507,
          null,
          0.06015125227045929,
          0.0787081675536081,
          null,
          0.06015125227045929,
          0.8568260711309513,
          null,
          0.06015125227045929,
          0.6754387128548366,
          null,
          0.06015125227045929,
          -0.5155530075114684,
          null,
          0.06015125227045929,
          -0.6241147323459264,
          null,
          0.06015125227045929,
          -0.12673359065207102,
          null,
          0.06015125227045929,
          -0.14565701346934537,
          null,
          0.06015125227045929,
          0.8886523358314665,
          null,
          0.06015125227045929,
          0.3950997974752382,
          null,
          0.06015125227045929,
          -0.8044194721523577,
          null,
          0.06015125227045929,
          0.30765864335483195,
          null,
          -0.5519443416816016,
          -0.006847832985052771,
          null,
          -0.5934550997037932,
          -0.006847832985052771,
          null,
          0.5708530678240366,
          -0.014079068894047034,
          null,
          -0.5435641622842989,
          -0.006847832985052771,
          null,
          -0.11304612691338087,
          -0.5435641622842989,
          null,
          -0.11304612691338087,
          0.18247385476056138,
          null,
          -0.11304612691338087,
          -0.8845712167000795,
          null,
          -0.11304612691338087,
          0.44354707339417293,
          null,
          -0.11304612691338087,
          -0.36249363833437465,
          null,
          -0.11304612691338087,
          0.41431004559488915,
          null,
          -0.11304612691338087,
          0.15544625308580579,
          null,
          -0.11304612691338087,
          -0.8040396063235566,
          null,
          -0.11304612691338087,
          0.42611849205937136,
          null,
          -0.11304612691338087,
          -0.02767795347859224,
          null,
          -0.11304612691338087,
          -0.2151117074428543,
          null,
          -0.11304612691338087,
          0.5394755748059382,
          null,
          -0.11304612691338087,
          -0.29865059229854635,
          null,
          -0.2664392994803527,
          0.06069670891477495,
          null,
          -0.3852477301103587,
          0.054475330248392656,
          null,
          0.7798254782952935,
          0.06069670891477495,
          null,
          0.5726917988158731,
          0.06015125227045929,
          null,
          0.7156433391348939,
          -0.014079068894047034,
          null,
          0.19082814634913395,
          0.054475330248392656,
          null,
          0.8120481665693551,
          0.06015125227045929,
          null,
          0.003738841652364862,
          0.054475330248392656,
          null,
          0.4414584490758504,
          -0.014079068894047034,
          null,
          0.18247385476056138,
          0.054475330248392656,
          null,
          -0.1232243565216425,
          -0.014079068894047034,
          null,
          0.36381812127367164,
          -0.014079068894047034,
          null,
          -0.8845712167000795,
          -0.04618222017342585,
          null,
          0.44354707339417293,
          -0.014079068894047034,
          null,
          -0.017759962282711473,
          -0.006847832985052771,
          null,
          0.26361563988863174,
          -0.04618222017342585,
          null,
          -0.32746227206210116,
          -0.006847832985052771,
          null,
          -0.7388301790029667,
          -0.014079068894047034,
          null,
          -0.2949738887720336,
          -0.006847832985052771,
          null,
          -0.2949738887720336,
          -0.014079068894047034,
          null,
          -0.8018246292245861,
          -0.014079068894047034,
          null,
          -0.5453250956791156,
          -0.006847832985052771,
          null,
          0.01703883109678748,
          0.06069670891477495,
          null,
          0.07797874954955782,
          0.054475330248392656,
          null,
          -0.695742868974702,
          -0.006847832985052771,
          null,
          0.7661349191263958,
          0.06015125227045929,
          null,
          -0.67679108871952,
          -0.006847832985052771,
          null,
          -0.2988361519924581,
          -0.014079068894047034,
          null,
          -0.6719699495711147,
          -0.006847832985052771,
          null,
          -0.43697636920638355,
          0.054475330248392656,
          null,
          0.6930580845857481,
          0.06015125227045929,
          null,
          -0.4985040476270043,
          -0.006847832985052771,
          null,
          0.12909108115679402,
          -0.014079068894047034,
          null,
          -0.36249363833437465,
          -0.006847832985052771,
          null,
          0.41431004559488915,
          0.054475330248392656,
          null,
          0.15544625308580579,
          -0.006847832985052771,
          null,
          0.15544625308580579,
          0.054475330248392656,
          null,
          -0.5887744628276318,
          -0.006847832985052771,
          null,
          0.5497636312023595,
          -0.014079068894047034,
          null,
          -0.16702162928613953,
          -0.006847832985052771,
          null,
          -0.16702162928613953,
          -0.014079068894047034,
          null,
          -0.43044083737045596,
          -0.006847832985052771,
          null,
          -0.592740408958469,
          -0.014079068894047034,
          null,
          -0.8040396063235566,
          -0.006847832985052771,
          null,
          0.42611849205937136,
          -0.04618222017342585,
          null,
          -0.02767795347859224,
          -0.006847832985052771,
          null,
          -0.02767795347859224,
          -0.04618222017342585,
          null,
          -0.2151117074428543,
          -0.006847832985052771,
          null,
          0.5394755748059382,
          -0.014079068894047034,
          null,
          -0.29865059229854635,
          -0.006847832985052771,
          null,
          -0.29865059229854635,
          -0.014079068894047034,
          null,
          -0.3972609222132795,
          0.06069670891477495,
          null,
          0.3789598194831228,
          0.054475330248392656,
          null,
          0.4985449074699165,
          0.06015125227045929,
          null,
          -0.25715978933469213,
          0.054475330248392656,
          null,
          0.290923922893765,
          0.06069670891477495,
          null,
          0.6908747671859197,
          0.054475330248392656,
          null,
          0.5854768092789275,
          -0.014079068894047034,
          null,
          0.789750364330901,
          0.06015125227045929,
          null,
          0.25550668073999805,
          -0.014079068894047034,
          null,
          -0.005817531310933367,
          -0.04618222017342585,
          null,
          -0.7840848582182139,
          -0.014079068894047034,
          null,
          0.8718901796115507,
          0.054475330248392656,
          null,
          0.5942599885380014,
          0.06015125227045929,
          null,
          0.0787081675536081,
          -0.04618222017342585,
          null,
          0.8568260711309513,
          0.054475330248392656,
          null,
          0.31349558941776345,
          0.06015125227045929,
          null,
          0.6754387128548366,
          -0.014079068894047034,
          null,
          0.7042191646318409,
          0.054475330248392656,
          null,
          -0.7429473452106827,
          -0.04618222017342585,
          null,
          0.5237602888399596,
          -0.014079068894047034,
          null,
          -0.5155530075114684,
          -0.014079068894047034,
          null,
          -1.0,
          -0.29655281870183753,
          null,
          -0.6773012695720383,
          -0.006847832985052771,
          null,
          0.011565037463790211,
          -0.04618222017342585,
          null,
          -0.15164929011977563,
          -0.014079068894047034,
          null,
          0.13833860875020487,
          -0.006847832985052771,
          null,
          0.13833860875020487,
          -0.014079068894047034,
          null,
          -0.38425893298700803,
          -0.04618222017342585,
          null,
          -0.38425893298700803,
          -0.014079068894047034,
          null,
          -0.6241147323459264,
          -0.006847832985052771,
          null,
          -0.12673359065207102,
          0.054475330248392656,
          null,
          0.4914562340150769,
          0.06015125227045929,
          null,
          -0.14565701346934537,
          -0.014079068894047034,
          null,
          0.22552822402454228,
          -0.006847832985052771,
          null,
          -0.24363267894170462,
          0.054475330248392656,
          null,
          -0.5453200309819896,
          -0.04618222017342585,
          null,
          0.17886247495397684,
          -0.014079068894047034,
          null,
          -0.12495181393936981,
          0.06069670891477495,
          null,
          0.4307637871531594,
          0.054475330248392656,
          null,
          -0.3103314007364755,
          -0.04618222017342585,
          null,
          0.5730152617389236,
          -0.014079068894047034,
          null,
          -0.08340980145889043,
          0.054475330248392656,
          null,
          -0.08340980145889043,
          -0.04618222017342585,
          null,
          0.33720674287140906,
          0.054475330248392656,
          null,
          0.33720674287140906,
          -0.014079068894047034,
          null,
          0.8886523358314665,
          0.054475330248392656,
          null,
          0.651936734209225,
          0.06015125227045929,
          null,
          0.3950997974752382,
          -0.04618222017342585,
          null,
          -0.8044194721523577,
          -0.014079068894047034,
          null,
          0.30765864335483195,
          0.054475330248392656,
          null,
          0.30765864335483195,
          -0.014079068894047034,
          null
         ],
         "type": "scatter"
        },
        {
         "hoverinfo": "text",
         "marker": {
          "color": [],
          "colorbar": {
           "thickness": 15,
           "title": {
            "side": "right",
            "text": "Node Connections"
           },
           "xanchor": "left"
          },
          "colorscale": [
           [
            0.0,
            "rgb(255,255,217)"
           ],
           [
            0.125,
            "rgb(237,248,177)"
           ],
           [
            0.25,
            "rgb(199,233,180)"
           ],
           [
            0.375,
            "rgb(127,205,187)"
           ],
           [
            0.5,
            "rgb(65,182,196)"
           ],
           [
            0.625,
            "rgb(29,145,192)"
           ],
           [
            0.75,
            "rgb(34,94,168)"
           ],
           [
            0.875,
            "rgb(37,52,148)"
           ],
           [
            1.0,
            "rgb(8,29,88)"
           ]
          ],
          "line": {
           "width": 2
          },
          "reversescale": true,
          "showscale": true,
          "size": 10
         },
         "mode": "markers",
         "text": [
          "0",
          "Брюки",
          "Джинсы",
          "1",
          "Сумка",
          "2",
          "Футболка",
          "3",
          "Кроссовки",
          "4",
          "Куртка",
          "5",
          "Рубашка",
          "6",
          "7",
          "8",
          "9",
          "Шапка",
          "10",
          "11",
          "12",
          "13",
          "14",
          "15",
          "16",
          "17",
          "18",
          "19",
          "20",
          "21",
          "22",
          "23",
          "24",
          "25",
          "26",
          "27",
          "28",
          "29",
          "30",
          "31",
          "32",
          "33",
          "34",
          "35",
          "36",
          "37",
          "38",
          "39",
          "40",
          "41",
          "42",
          "43",
          "44",
          "45",
          "46",
          "47",
          "48",
          "49",
          "50",
          "51",
          "52",
          "53",
          "54",
          "55",
          "56",
          "57",
          "58",
          "59",
          "60",
          "61",
          "62",
          "63",
          "64",
          "65",
          "66",
          "67",
          "68",
          "69",
          "70",
          "71",
          "72",
          "73",
          "74",
          "75",
          "76",
          "77",
          "78",
          "79",
          "80",
          "81",
          "82",
          "83",
          "84",
          "85",
          "86",
          "87",
          "88",
          "89",
          "90",
          "91",
          "92",
          "93",
          "94",
          "95",
          "96",
          "97",
          "98",
          "99",
          "100",
          "101"
         ],
         "x": [
          0.7112349655736064,
          0.12039749566906129,
          0.009159364734317204,
          0.5425642713110749,
          -3.0299557692367314E-4,
          -0.33528479852095056,
          0.002500467670546386,
          -0.5622424620180968,
          -0.062168341363772237,
          0.6427168911770765,
          -0.010524035750056187,
          0.3462174300078617,
          0.014940332832522378,
          0.3476665627094917,
          0.5612815882894947,
          0.3656155159673631,
          -0.25030383567210207,
          -0.022039585435061362,
          -0.8185186341028883,
          -0.3640452115109223,
          -0.014795432687801634,
          -0.3271084621804566,
          0.23308295930249426,
          -0.6285944526193511,
          -0.2877623057619958,
          -0.6633073901900806,
          0.26352311519780663,
          -0.7828325347256629,
          0.6489834195713522,
          0.7607366781219506,
          0.0156647703116358,
          -0.25536865129222175,
          0.8253778951429905,
          0.40421097979683906,
          0.46138819437477735,
          0.006496363833149298,
          -0.18516561535936976,
          0.13526661318444877,
          0.21721989310406487,
          -0.887084080368812,
          -0.750561199793704,
          0.35387129673132545,
          -0.39400618641253565,
          0.17621647872353305,
          0.7965546024736809,
          0.46809455533706634,
          -0.614869890643329,
          -0.20696480832020436,
          0.45639192902326053,
          0.8279640476227109,
          -0.5502599191435734,
          0.5139967717640246,
          -0.3058953393342764,
          0.05654538173712355,
          -0.1011285468010827,
          0.3145881079270864,
          0.56737435176529,
          -0.3949092192241646,
          -0.2468110422062454,
          0.4043815753578199,
          0.3360608624080645,
          0.7099586414312029,
          0.046425289818556766,
          0.2386793158955152,
          -0.7516393415946724,
          -0.5603730913332424,
          -0.4447335357963089,
          -0.6623621889875103,
          -0.8594618164938946,
          -0.5407090963868222,
          0.5344335671559074,
          -0.10778852301748185,
          -0.4553889616984118,
          0.7195414131932708,
          0.27574916159472673,
          -0.18754486166467685,
          -0.5995473470513817,
          0.6423247492688253,
          0.16393027676787797,
          -0.6614308822889977,
          0.09973467833389488,
          0.44717055662208827,
          -0.45915860912766177,
          0.6459065105635071,
          -0.4889040420318174,
          0.48100046218849496,
          -0.19970277998075692,
          -0.5283895562705453,
          -0.5464363140139646,
          0.2883136661163932,
          -0.040574395361423515,
          -0.07853338197807003,
          -0.7017214622053083,
          -0.6126337617205431,
          0.8341427217311803,
          0.7627025007625698,
          -0.45457210440983864,
          0.6721054480373805,
          0.56447011210139,
          -0.8584294097740339,
          -0.7378067112840582,
          0.6087336109227219,
          0.20613637933890824,
          -0.31537125218543094,
          0.07040024701506434,
          0.007312160702549998,
          -0.4167510212393721,
          0.6298167201452955,
          -0.1124105424197351,
          -0.1520439511305929
         ],
         "y": [
          -0.3997970612997508,
          -0.29655281870183753,
          -0.006847832985052771,
          -0.06447619282918005,
          -0.04618222017342585,
          -0.7075612214557853,
          -0.014079068894047034,
          -0.6088527533377223,
          0.06069670891477495,
          0.2823355793136865,
          0.054475330248392656,
          0.7170564978161614,
          0.06015125227045929,
          -0.5519443416816016,
          -0.5934550997037932,
          0.5708530678240366,
          -0.5435641622842989,
          -0.11304612691338087,
          -0.2664392994803527,
          -0.3852477301103587,
          0.7798254782952935,
          0.5726917988158731,
          0.7156433391348939,
          0.19082814634913395,
          0.8120481665693551,
          0.003738841652364862,
          0.4414584490758504,
          0.18247385476056138,
          -0.1232243565216425,
          0.36381812127367164,
          -0.8845712167000795,
          0.44354707339417293,
          -0.017759962282711473,
          0.26361563988863174,
          -0.32746227206210116,
          -0.7388301790029667,
          -0.2949738887720336,
          -0.8018246292245861,
          -0.5453250956791156,
          0.01703883109678748,
          0.07797874954955782,
          -0.695742868974702,
          0.7661349191263958,
          -0.67679108871952,
          -0.2988361519924581,
          -0.6719699495711147,
          -0.43697636920638355,
          0.6930580845857481,
          -0.4985040476270043,
          0.12909108115679402,
          -0.36249363833437465,
          0.41431004559488915,
          0.15544625308580579,
          -0.5887744628276318,
          0.5497636312023595,
          -0.16702162928613953,
          -0.43044083737045596,
          -0.592740408958469,
          -0.8040396063235566,
          0.42611849205937136,
          -0.02767795347859224,
          -0.2151117074428543,
          0.5394755748059382,
          -0.29865059229854635,
          -0.3972609222132795,
          0.3789598194831228,
          0.4985449074699165,
          -0.25715978933469213,
          0.290923922893765,
          0.6908747671859197,
          0.5854768092789275,
          0.789750364330901,
          0.25550668073999805,
          -0.005817531310933367,
          -0.7840848582182139,
          0.8718901796115507,
          0.5942599885380014,
          0.0787081675536081,
          0.8568260711309513,
          0.31349558941776345,
          0.6754387128548366,
          0.7042191646318409,
          -0.7429473452106827,
          0.5237602888399596,
          -0.5155530075114684,
          -1.0,
          -0.6773012695720383,
          0.011565037463790211,
          -0.15164929011977563,
          0.13833860875020487,
          -0.38425893298700803,
          -0.6241147323459264,
          -0.12673359065207102,
          0.4914562340150769,
          -0.14565701346934537,
          0.22552822402454228,
          -0.24363267894170462,
          -0.5453200309819896,
          0.17886247495397684,
          -0.12495181393936981,
          0.4307637871531594,
          -0.3103314007364755,
          0.5730152617389236,
          -0.08340980145889043,
          0.33720674287140906,
          0.8886523358314665,
          0.651936734209225,
          0.3950997974752382,
          -0.8044194721523577,
          0.30765864335483195
         ],
         "type": "scatter"
        }
       ],
       "layout": {
        "annotations": [
         {
          "showarrow": false,
          "text": "Python code: <a href='https://plotly.com/ipython-notebooks/network-graphs/'> https://plotly.com/ipython-notebooks/network-graphs/</a>",
          "x": 0.005,
          "xref": "paper",
          "y": -0.002,
          "yref": "paper"
         }
        ],
        "hovermode": "closest",
        "margin": {
         "b": 20,
         "l": 5,
         "r": 5,
         "t": 40
        },
        "showlegend": false,
        "title": {
         "font": {
          "size": 16
         },
         "text": "<br>Network graph made with Python"
        },
        "xaxis": {
         "showgrid": false,
         "showticklabels": false,
         "zeroline": false
        },
        "yaxis": {
         "showgrid": false,
         "showticklabels": false,
         "zeroline": false
        },
        "template": {
         "data": {
          "histogram2dcontour": [
           {
            "type": "histogram2dcontour",
            "colorbar": {
             "outlinewidth": 0,
             "ticks": ""
            },
            "colorscale": [
             [
              0.0,
              "#0d0887"
             ],
             [
              0.1111111111111111,
              "#46039f"
             ],
             [
              0.2222222222222222,
              "#7201a8"
             ],
             [
              0.3333333333333333,
              "#9c179e"
             ],
             [
              0.4444444444444444,
              "#bd3786"
             ],
             [
              0.5555555555555556,
              "#d8576b"
             ],
             [
              0.6666666666666666,
              "#ed7953"
             ],
             [
              0.7777777777777778,
              "#fb9f3a"
             ],
             [
              0.8888888888888888,
              "#fdca26"
             ],
             [
              1.0,
              "#f0f921"
             ]
            ]
           }
          ],
          "choropleth": [
           {
            "type": "choropleth",
            "colorbar": {
             "outlinewidth": 0,
             "ticks": ""
            }
           }
          ],
          "histogram2d": [
           {
            "type": "histogram2d",
            "colorbar": {
             "outlinewidth": 0,
             "ticks": ""
            },
            "colorscale": [
             [
              0.0,
              "#0d0887"
             ],
             [
              0.1111111111111111,
              "#46039f"
             ],
             [
              0.2222222222222222,
              "#7201a8"
             ],
             [
              0.3333333333333333,
              "#9c179e"
             ],
             [
              0.4444444444444444,
              "#bd3786"
             ],
             [
              0.5555555555555556,
              "#d8576b"
             ],
             [
              0.6666666666666666,
              "#ed7953"
             ],
             [
              0.7777777777777778,
              "#fb9f3a"
             ],
             [
              0.8888888888888888,
              "#fdca26"
             ],
             [
              1.0,
              "#f0f921"
             ]
            ]
           }
          ],
          "heatmap": [
           {
            "type": "heatmap",
            "colorbar": {
             "outlinewidth": 0,
             "ticks": ""
            },
            "colorscale": [
             [
              0.0,
              "#0d0887"
             ],
             [
              0.1111111111111111,
              "#46039f"
             ],
             [
              0.2222222222222222,
              "#7201a8"
             ],
             [
              0.3333333333333333,
              "#9c179e"
             ],
             [
              0.4444444444444444,
              "#bd3786"
             ],
             [
              0.5555555555555556,
              "#d8576b"
             ],
             [
              0.6666666666666666,
              "#ed7953"
             ],
             [
              0.7777777777777778,
              "#fb9f3a"
             ],
             [
              0.8888888888888888,
              "#fdca26"
             ],
             [
              1.0,
              "#f0f921"
             ]
            ]
           }
          ],
          "heatmapgl": [
           {
            "type": "heatmapgl",
            "colorbar": {
             "outlinewidth": 0,
             "ticks": ""
            },
            "colorscale": [
             [
              0.0,
              "#0d0887"
             ],
             [
              0.1111111111111111,
              "#46039f"
             ],
             [
              0.2222222222222222,
              "#7201a8"
             ],
             [
              0.3333333333333333,
              "#9c179e"
             ],
             [
              0.4444444444444444,
              "#bd3786"
             ],
             [
              0.5555555555555556,
              "#d8576b"
             ],
             [
              0.6666666666666666,
              "#ed7953"
             ],
             [
              0.7777777777777778,
              "#fb9f3a"
             ],
             [
              0.8888888888888888,
              "#fdca26"
             ],
             [
              1.0,
              "#f0f921"
             ]
            ]
           }
          ],
          "contourcarpet": [
           {
            "type": "contourcarpet",
            "colorbar": {
             "outlinewidth": 0,
             "ticks": ""
            }
           }
          ],
          "contour": [
           {
            "type": "contour",
            "colorbar": {
             "outlinewidth": 0,
             "ticks": ""
            },
            "colorscale": [
             [
              0.0,
              "#0d0887"
             ],
             [
              0.1111111111111111,
              "#46039f"
             ],
             [
              0.2222222222222222,
              "#7201a8"
             ],
             [
              0.3333333333333333,
              "#9c179e"
             ],
             [
              0.4444444444444444,
              "#bd3786"
             ],
             [
              0.5555555555555556,
              "#d8576b"
             ],
             [
              0.6666666666666666,
              "#ed7953"
             ],
             [
              0.7777777777777778,
              "#fb9f3a"
             ],
             [
              0.8888888888888888,
              "#fdca26"
             ],
             [
              1.0,
              "#f0f921"
             ]
            ]
           }
          ],
          "surface": [
           {
            "type": "surface",
            "colorbar": {
             "outlinewidth": 0,
             "ticks": ""
            },
            "colorscale": [
             [
              0.0,
              "#0d0887"
             ],
             [
              0.1111111111111111,
              "#46039f"
             ],
             [
              0.2222222222222222,
              "#7201a8"
             ],
             [
              0.3333333333333333,
              "#9c179e"
             ],
             [
              0.4444444444444444,
              "#bd3786"
             ],
             [
              0.5555555555555556,
              "#d8576b"
             ],
             [
              0.6666666666666666,
              "#ed7953"
             ],
             [
              0.7777777777777778,
              "#fb9f3a"
             ],
             [
              0.8888888888888888,
              "#fdca26"
             ],
             [
              1.0,
              "#f0f921"
             ]
            ]
           }
          ],
          "mesh3d": [
           {
            "type": "mesh3d",
            "colorbar": {
             "outlinewidth": 0,
             "ticks": ""
            }
           }
          ],
          "scatter": [
           {
            "fillpattern": {
             "fillmode": "overlay",
             "size": 10,
             "solidity": 0.2
            },
            "type": "scatter"
           }
          ],
          "parcoords": [
           {
            "type": "parcoords",
            "line": {
             "colorbar": {
              "outlinewidth": 0,
              "ticks": ""
             }
            }
           }
          ],
          "scatterpolargl": [
           {
            "type": "scatterpolargl",
            "marker": {
             "colorbar": {
              "outlinewidth": 0,
              "ticks": ""
             }
            }
           }
          ],
          "bar": [
           {
            "error_x": {
             "color": "#2a3f5f"
            },
            "error_y": {
             "color": "#2a3f5f"
            },
            "marker": {
             "line": {
              "color": "#E5ECF6",
              "width": 0.5
             },
             "pattern": {
              "fillmode": "overlay",
              "size": 10,
              "solidity": 0.2
             }
            },
            "type": "bar"
           }
          ],
          "scattergeo": [
           {
            "type": "scattergeo",
            "marker": {
             "colorbar": {
              "outlinewidth": 0,
              "ticks": ""
             }
            }
           }
          ],
          "scatterpolar": [
           {
            "type": "scatterpolar",
            "marker": {
             "colorbar": {
              "outlinewidth": 0,
              "ticks": ""
             }
            }
           }
          ],
          "histogram": [
           {
            "marker": {
             "pattern": {
              "fillmode": "overlay",
              "size": 10,
              "solidity": 0.2
             }
            },
            "type": "histogram"
           }
          ],
          "scattergl": [
           {
            "type": "scattergl",
            "marker": {
             "colorbar": {
              "outlinewidth": 0,
              "ticks": ""
             }
            }
           }
          ],
          "scatter3d": [
           {
            "type": "scatter3d",
            "line": {
             "colorbar": {
              "outlinewidth": 0,
              "ticks": ""
             }
            },
            "marker": {
             "colorbar": {
              "outlinewidth": 0,
              "ticks": ""
             }
            }
           }
          ],
          "scattermapbox": [
           {
            "type": "scattermapbox",
            "marker": {
             "colorbar": {
              "outlinewidth": 0,
              "ticks": ""
             }
            }
           }
          ],
          "scatterternary": [
           {
            "type": "scatterternary",
            "marker": {
             "colorbar": {
              "outlinewidth": 0,
              "ticks": ""
             }
            }
           }
          ],
          "scattercarpet": [
           {
            "type": "scattercarpet",
            "marker": {
             "colorbar": {
              "outlinewidth": 0,
              "ticks": ""
             }
            }
           }
          ],
          "carpet": [
           {
            "aaxis": {
             "endlinecolor": "#2a3f5f",
             "gridcolor": "white",
             "linecolor": "white",
             "minorgridcolor": "white",
             "startlinecolor": "#2a3f5f"
            },
            "baxis": {
             "endlinecolor": "#2a3f5f",
             "gridcolor": "white",
             "linecolor": "white",
             "minorgridcolor": "white",
             "startlinecolor": "#2a3f5f"
            },
            "type": "carpet"
           }
          ],
          "table": [
           {
            "cells": {
             "fill": {
              "color": "#EBF0F8"
             },
             "line": {
              "color": "white"
             }
            },
            "header": {
             "fill": {
              "color": "#C8D4E3"
             },
             "line": {
              "color": "white"
             }
            },
            "type": "table"
           }
          ],
          "barpolar": [
           {
            "marker": {
             "line": {
              "color": "#E5ECF6",
              "width": 0.5
             },
             "pattern": {
              "fillmode": "overlay",
              "size": 10,
              "solidity": 0.2
             }
            },
            "type": "barpolar"
           }
          ],
          "pie": [
           {
            "automargin": true,
            "type": "pie"
           }
          ]
         },
         "layout": {
          "autotypenumbers": "strict",
          "colorway": [
           "#636efa",
           "#EF553B",
           "#00cc96",
           "#ab63fa",
           "#FFA15A",
           "#19d3f3",
           "#FF6692",
           "#B6E880",
           "#FF97FF",
           "#FECB52"
          ],
          "font": {
           "color": "#2a3f5f"
          },
          "hovermode": "closest",
          "hoverlabel": {
           "align": "left"
          },
          "paper_bgcolor": "white",
          "plot_bgcolor": "#E5ECF6",
          "polar": {
           "bgcolor": "#E5ECF6",
           "angularaxis": {
            "gridcolor": "white",
            "linecolor": "white",
            "ticks": ""
           },
           "radialaxis": {
            "gridcolor": "white",
            "linecolor": "white",
            "ticks": ""
           }
          },
          "ternary": {
           "bgcolor": "#E5ECF6",
           "aaxis": {
            "gridcolor": "white",
            "linecolor": "white",
            "ticks": ""
           },
           "baxis": {
            "gridcolor": "white",
            "linecolor": "white",
            "ticks": ""
           },
           "caxis": {
            "gridcolor": "white",
            "linecolor": "white",
            "ticks": ""
           }
          },
          "coloraxis": {
           "colorbar": {
            "outlinewidth": 0,
            "ticks": ""
           }
          },
          "colorscale": {
           "sequential": [
            [
             0.0,
             "#0d0887"
            ],
            [
             0.1111111111111111,
             "#46039f"
            ],
            [
             0.2222222222222222,
             "#7201a8"
            ],
            [
             0.3333333333333333,
             "#9c179e"
            ],
            [
             0.4444444444444444,
             "#bd3786"
            ],
            [
             0.5555555555555556,
             "#d8576b"
            ],
            [
             0.6666666666666666,
             "#ed7953"
            ],
            [
             0.7777777777777778,
             "#fb9f3a"
            ],
            [
             0.8888888888888888,
             "#fdca26"
            ],
            [
             1.0,
             "#f0f921"
            ]
           ],
           "sequentialminus": [
            [
             0.0,
             "#0d0887"
            ],
            [
             0.1111111111111111,
             "#46039f"
            ],
            [
             0.2222222222222222,
             "#7201a8"
            ],
            [
             0.3333333333333333,
             "#9c179e"
            ],
            [
             0.4444444444444444,
             "#bd3786"
            ],
            [
             0.5555555555555556,
             "#d8576b"
            ],
            [
             0.6666666666666666,
             "#ed7953"
            ],
            [
             0.7777777777777778,
             "#fb9f3a"
            ],
            [
             0.8888888888888888,
             "#fdca26"
            ],
            [
             1.0,
             "#f0f921"
            ]
           ],
           "diverging": [
            [
             0,
             "#8e0152"
            ],
            [
             0.1,
             "#c51b7d"
            ],
            [
             0.2,
             "#de77ae"
            ],
            [
             0.3,
             "#f1b6da"
            ],
            [
             0.4,
             "#fde0ef"
            ],
            [
             0.5,
             "#f7f7f7"
            ],
            [
             0.6,
             "#e6f5d0"
            ],
            [
             0.7,
             "#b8e186"
            ],
            [
             0.8,
             "#7fbc41"
            ],
            [
             0.9,
             "#4d9221"
            ],
            [
             1,
             "#276419"
            ]
           ]
          },
          "xaxis": {
           "gridcolor": "white",
           "linecolor": "white",
           "ticks": "",
           "title": {
            "standoff": 15
           },
           "zerolinecolor": "white",
           "automargin": true,
           "zerolinewidth": 2
          },
          "yaxis": {
           "gridcolor": "white",
           "linecolor": "white",
           "ticks": "",
           "title": {
            "standoff": 15
           },
           "zerolinecolor": "white",
           "automargin": true,
           "zerolinewidth": 2
          },
          "scene": {
           "xaxis": {
            "backgroundcolor": "#E5ECF6",
            "gridcolor": "white",
            "linecolor": "white",
            "showbackground": true,
            "ticks": "",
            "zerolinecolor": "white",
            "gridwidth": 2
           },
           "yaxis": {
            "backgroundcolor": "#E5ECF6",
            "gridcolor": "white",
            "linecolor": "white",
            "showbackground": true,
            "ticks": "",
            "zerolinecolor": "white",
            "gridwidth": 2
           },
           "zaxis": {
            "backgroundcolor": "#E5ECF6",
            "gridcolor": "white",
            "linecolor": "white",
            "showbackground": true,
            "ticks": "",
            "zerolinecolor": "white",
            "gridwidth": 2
           }
          },
          "shapedefaults": {
           "line": {
            "color": "#2a3f5f"
           }
          },
          "annotationdefaults": {
           "arrowcolor": "#2a3f5f",
           "arrowhead": 0,
           "arrowwidth": 1
          },
          "geo": {
           "bgcolor": "white",
           "landcolor": "#E5ECF6",
           "subunitcolor": "white",
           "showland": true,
           "showlakes": true,
           "lakecolor": "white"
          },
          "title": {
           "x": 0.05
          },
          "mapbox": {
           "style": "light"
          }
         }
        }
       },
       "config": {
        "plotlyServerURL": "https://plot.ly"
       }
      },
      "text/html": [
       "<div>                            <div id=\"bc7edc7d-9a26-40ff-808d-353082e3784a\" class=\"plotly-graph-div\" style=\"height:525px; width:100%;\"></div>            <script type=\"text/javascript\">                require([\"plotly\"], function(Plotly) {                    window.PLOTLYENV=window.PLOTLYENV || {};                                    if (document.getElementById(\"bc7edc7d-9a26-40ff-808d-353082e3784a\")) {                    Plotly.newPlot(                        \"bc7edc7d-9a26-40ff-808d-353082e3784a\",                        [{\"hoverinfo\":\"none\",\"line\":{\"color\":\"#888\",\"width\":0.5},\"mode\":\"lines\",\"x\":[0.7112349655736064,0.009159364734317204,null,0.12039749566906129,0.7112349655736064,null,0.12039749566906129,0.5425642713110749,null,0.12039749566906129,-0.33528479852095056,null,0.12039749566906129,0.8253778951429905,null,0.12039749566906129,0.40421097979683906,null,0.12039749566906129,0.46138819437477735,null,0.12039749566906129,0.006496363833149298,null,0.12039749566906129,-0.18516561535936976,null,0.12039749566906129,0.13526661318444877,null,0.12039749566906129,-0.19970277998075692,null,0.12039749566906129,-0.5283895562705453,null,0.12039749566906129,-0.5464363140139646,null,0.12039749566906129,0.2883136661163932,null,0.12039749566906129,-0.040574395361423515,null,0.009159364734317204,0.3656155159673631,null,0.009159364734317204,0.40421097979683906,null,0.009159364734317204,0.006496363833149298,null,0.009159364734317204,-0.887084080368812,null,0.009159364734317204,-0.750561199793704,null,0.009159364734317204,-0.39400618641253565,null,0.009159364734317204,0.7965546024736809,null,0.009159364734317204,-0.614869890643329,null,0.009159364734317204,-0.20696480832020436,null,0.009159364734317204,0.8279640476227109,null,0.009159364734317204,0.5139967717640246,null,0.009159364734317204,-0.1011285468010827,null,0.009159364734317204,-0.3949092192241646,null,0.009159364734317204,0.4043815753578199,null,0.009159364734317204,0.046425289818556766,null,0.009159364734317204,0.48100046218849496,null,0.009159364734317204,-0.5283895562705453,null,0.009159364734317204,-0.5464363140139646,null,0.009159364734317204,-0.040574395361423515,null,0.009159364734317204,-0.7017214622053083,null,0.009159364734317204,-0.6126337617205431,null,0.009159364734317204,0.8341427217311803,null,0.009159364734317204,-0.45457210440983864,null,0.009159364734317204,0.6721054480373805,null,0.009159364734317204,0.56447011210139,null,0.5425642713110749,-0.00030299557692367314,null,-0.00030299557692367314,0.3476665627094917,null,-0.00030299557692367314,-0.6633073901900806,null,-0.00030299557692367314,0.7607366781219506,null,-0.00030299557692367314,0.8253778951429905,null,-0.00030299557692367314,0.13526661318444877,null,-0.00030299557692367314,0.56737435176529,null,-0.00030299557692367314,-0.3949092192241646,null,-0.00030299557692367314,-0.2468110422062454,null,-0.00030299557692367314,-0.6623621889875103,null,-0.00030299557692367314,0.27574916159472673,null,-0.00030299557692367314,-0.18754486166467685,null,-0.00030299557692367314,-0.5995473470513817,null,-0.00030299557692367314,0.44717055662208827,null,-0.00030299557692367314,0.6459065105635071,null,-0.00030299557692367314,-0.4889040420318174,null,-0.00030299557692367314,0.48100046218849496,null,-0.00030299557692367314,-0.19970277998075692,null,-0.00030299557692367314,-0.5464363140139646,null,-0.00030299557692367314,0.2883136661163932,null,-0.00030299557692367314,0.7627025007625698,null,-0.00030299557692367314,-0.45457210440983864,null,-0.00030299557692367314,0.56447011210139,null,-0.00030299557692367314,-0.8584294097740339,null,-0.00030299557692367314,-0.7378067112840582,null,-0.00030299557692367314,0.20613637933890824,null,-0.00030299557692367314,0.07040024701506434,null,-0.00030299557692367314,0.007312160702549998,null,-0.00030299557692367314,-0.4167510212393721,null,-0.00030299557692367314,-0.1124105424197351,null,-0.00030299557692367314,-0.1520439511305929,null,-0.33528479852095056,0.002500467670546386,null,0.002500467670546386,0.5612815882894947,null,0.002500467670546386,0.46138819437477735,null,0.002500467670546386,0.17621647872353305,null,0.002500467670546386,0.45639192902326053,null,0.002500467670546386,0.05654538173712355,null,0.002500467670546386,0.56737435176529,null,0.002500467670546386,0.7099586414312029,null,0.002500467670546386,-0.8594618164938946,null,0.002500467670546386,-0.5407090963868222,null,0.002500467670546386,-0.10778852301748185,null,0.002500467670546386,0.7195414131932708,null,0.002500467670546386,0.16393027676787797,null,0.002500467670546386,-0.6614308822889977,null,0.002500467670546386,0.44717055662208827,null,0.002500467670546386,-0.45915860912766177,null,0.002500467670546386,0.48100046218849496,null,0.002500467670546386,-0.19970277998075692,null,0.002500467670546386,-0.5283895562705453,null,0.002500467670546386,-0.07853338197807003,null,0.002500467670546386,-0.7017214622053083,null,0.002500467670546386,-0.6126337617205431,null,0.002500467670546386,0.7627025007625698,null,0.002500467670546386,-0.45457210440983864,null,0.002500467670546386,0.6721054480373805,null,0.002500467670546386,-0.8584294097740339,null,0.002500467670546386,-0.7378067112840582,null,0.002500467670546386,0.6087336109227219,null,0.002500467670546386,-0.31537125218543094,null,0.002500467670546386,0.007312160702549998,null,0.002500467670546386,-0.4167510212393721,null,0.002500467670546386,0.6298167201452955,null,-0.5622424620180968,0.009159364734317204,null,-0.062168341363772237,-0.5622424620180968,null,-0.062168341363772237,-0.3640452115109223,null,-0.062168341363772237,-0.3271084621804566,null,-0.062168341363772237,0.23308295930249426,null,-0.062168341363772237,0.21721989310406487,null,-0.062168341363772237,-0.750561199793704,null,-0.062168341363772237,0.35387129673132545,null,-0.062168341363772237,-0.39400618641253565,null,-0.062168341363772237,0.17621647872353305,null,-0.062168341363772237,0.7965546024736809,null,-0.062168341363772237,-0.5603730913332424,null,-0.062168341363772237,-0.4447335357963089,null,-0.062168341363772237,-0.6623621889875103,null,-0.062168341363772237,-0.5407090963868222,null,-0.062168341363772237,0.5344335671559074,null,-0.062168341363772237,-0.10778852301748185,null,-0.062168341363772237,-0.4553889616984118,null,-0.062168341363772237,0.7195414131932708,null,-0.062168341363772237,0.27574916159472673,null,-0.062168341363772237,-0.7378067112840582,null,-0.062168341363772237,0.6087336109227219,null,-0.062168341363772237,0.20613637933890824,null,-0.062168341363772237,-0.31537125218543094,null,-0.062168341363772237,0.07040024701506434,null,0.6427168911770765,0.009159364734317204,null,-0.010524035750056187,0.6427168911770765,null,-0.010524035750056187,-0.8185186341028883,null,-0.010524035750056187,-0.2877623057619958,null,-0.010524035750056187,0.26352311519780663,null,-0.010524035750056187,0.21721989310406487,null,-0.010524035750056187,-0.887084080368812,null,-0.010524035750056187,0.46809455533706634,null,-0.010524035750056187,-0.20696480832020436,null,-0.010524035750056187,0.45639192902326053,null,-0.010524035750056187,0.8279640476227109,null,-0.010524035750056187,-0.5502599191435734,null,-0.010524035750056187,-0.7516393415946724,null,-0.010524035750056187,-0.4447335357963089,null,-0.010524035750056187,-0.8594618164938946,null,-0.010524035750056187,0.5344335671559074,null,-0.010524035750056187,-0.5995473470513817,null,-0.010524035750056187,0.6423247492688253,null,-0.010524035750056187,-0.6614308822889977,null,-0.010524035750056187,0.09973467833389488,null,-0.010524035750056187,-0.45915860912766177,null,-0.010524035750056187,0.6459065105635071,null,-0.010524035750056187,-0.07853338197807003,null,-0.010524035750056187,-0.6126337617205431,null,-0.010524035750056187,0.8341427217311803,null,-0.010524035750056187,0.7627025007625698,null,-0.010524035750056187,0.6721054480373805,null,-0.010524035750056187,0.56447011210139,null,-0.010524035750056187,-0.8584294097740339,null,-0.010524035750056187,0.6087336109227219,null,-0.010524035750056187,0.20613637933890824,null,-0.010524035750056187,-0.4167510212393721,null,-0.010524035750056187,0.6298167201452955,null,-0.010524035750056187,-0.1124105424197351,null,0.3462174300078617,0.009159364734317204,null,0.014940332832522378,0.3462174300078617,null,0.014940332832522378,-0.014795432687801634,null,0.014940332832522378,-0.6285944526193511,null,0.014940332832522378,0.6489834195713522,null,0.014940332832522378,0.35387129673132545,null,0.014940332832522378,0.46809455533706634,null,0.014940332832522378,-0.614869890643329,null,0.014940332832522378,0.05654538173712355,null,0.014940332832522378,-0.1011285468010827,null,0.014940332832522378,0.3145881079270864,null,0.014940332832522378,-0.7516393415946724,null,0.014940332832522378,-0.5603730913332424,null,0.014940332832522378,-0.4553889616984118,null,0.014940332832522378,-0.18754486166467685,null,0.014940332832522378,0.6423247492688253,null,0.014940332832522378,0.16393027676787797,null,0.014940332832522378,0.09973467833389488,null,0.014940332832522378,-0.4889040420318174,null,0.014940332832522378,-0.07853338197807003,null,0.014940332832522378,-0.7017214622053083,null,0.014940332832522378,0.8341427217311803,null,0.014940332832522378,0.007312160702549998,null,0.014940332832522378,0.6298167201452955,null,0.014940332832522378,-0.1124105424197351,null,0.014940332832522378,-0.1520439511305929,null,0.3476665627094917,0.009159364734317204,null,0.5612815882894947,0.009159364734317204,null,0.3656155159673631,0.002500467670546386,null,-0.25030383567210207,0.009159364734317204,null,-0.022039585435061362,-0.25030383567210207,null,-0.022039585435061362,-0.7828325347256629,null,-0.022039585435061362,0.0156647703116358,null,-0.022039585435061362,-0.25536865129222175,null,-0.022039585435061362,-0.5502599191435734,null,-0.022039585435061362,0.5139967717640246,null,-0.022039585435061362,-0.3058953393342764,null,-0.022039585435061362,-0.2468110422062454,null,-0.022039585435061362,0.4043815753578199,null,-0.022039585435061362,0.3360608624080645,null,-0.022039585435061362,0.7099586414312029,null,-0.022039585435061362,0.046425289818556766,null,-0.022039585435061362,0.2386793158955152,null,-0.8185186341028883,-0.062168341363772237,null,-0.3640452115109223,-0.010524035750056187,null,-0.014795432687801634,-0.062168341363772237,null,-0.3271084621804566,0.014940332832522378,null,0.23308295930249426,0.002500467670546386,null,-0.6285944526193511,-0.010524035750056187,null,-0.2877623057619958,0.014940332832522378,null,-0.6633073901900806,-0.010524035750056187,null,0.26352311519780663,0.002500467670546386,null,-0.7828325347256629,-0.010524035750056187,null,0.6489834195713522,0.002500467670546386,null,0.7607366781219506,0.002500467670546386,null,0.0156647703116358,-0.00030299557692367314,null,-0.25536865129222175,0.002500467670546386,null,0.8253778951429905,0.009159364734317204,null,0.40421097979683906,-0.00030299557692367314,null,0.46138819437477735,0.009159364734317204,null,0.006496363833149298,0.002500467670546386,null,-0.18516561535936976,0.009159364734317204,null,-0.18516561535936976,0.002500467670546386,null,0.13526661318444877,0.002500467670546386,null,0.21721989310406487,0.009159364734317204,null,-0.887084080368812,-0.062168341363772237,null,-0.750561199793704,-0.010524035750056187,null,0.35387129673132545,0.009159364734317204,null,-0.39400618641253565,0.014940332832522378,null,0.17621647872353305,0.009159364734317204,null,0.7965546024736809,0.002500467670546386,null,0.46809455533706634,0.009159364734317204,null,-0.614869890643329,-0.010524035750056187,null,-0.20696480832020436,0.014940332832522378,null,0.45639192902326053,0.009159364734317204,null,0.8279640476227109,0.002500467670546386,null,-0.5502599191435734,0.009159364734317204,null,0.5139967717640246,-0.010524035750056187,null,-0.3058953393342764,0.009159364734317204,null,-0.3058953393342764,-0.010524035750056187,null,0.05654538173712355,0.009159364734317204,null,-0.1011285468010827,0.002500467670546386,null,0.3145881079270864,0.009159364734317204,null,0.3145881079270864,0.002500467670546386,null,0.56737435176529,0.009159364734317204,null,-0.3949092192241646,0.002500467670546386,null,-0.2468110422062454,0.009159364734317204,null,0.4043815753578199,-0.00030299557692367314,null,0.3360608624080645,0.009159364734317204,null,0.3360608624080645,-0.00030299557692367314,null,0.7099586414312029,0.009159364734317204,null,0.046425289818556766,0.002500467670546386,null,0.2386793158955152,0.009159364734317204,null,0.2386793158955152,0.002500467670546386,null,-0.7516393415946724,-0.062168341363772237,null,-0.5603730913332424,-0.010524035750056187,null,-0.4447335357963089,0.014940332832522378,null,-0.6623621889875103,-0.010524035750056187,null,-0.8594618164938946,-0.062168341363772237,null,-0.5407090963868222,-0.010524035750056187,null,0.5344335671559074,0.002500467670546386,null,-0.10778852301748185,0.014940332832522378,null,-0.4553889616984118,0.002500467670546386,null,0.7195414131932708,-0.00030299557692367314,null,0.27574916159472673,0.002500467670546386,null,-0.18754486166467685,-0.010524035750056187,null,-0.5995473470513817,0.014940332832522378,null,0.6423247492688253,-0.00030299557692367314,null,0.16393027676787797,-0.010524035750056187,null,-0.6614308822889977,0.014940332832522378,null,0.09973467833389488,0.002500467670546386,null,0.44717055662208827,-0.010524035750056187,null,-0.45915860912766177,-0.00030299557692367314,null,0.6459065105635071,0.002500467670546386,null,-0.4889040420318174,0.002500467670546386,null,0.48100046218849496,0.12039749566906129,null,-0.19970277998075692,0.009159364734317204,null,-0.5283895562705453,-0.00030299557692367314,null,-0.5464363140139646,0.002500467670546386,null,0.2883136661163932,0.009159364734317204,null,0.2883136661163932,0.002500467670546386,null,-0.040574395361423515,-0.00030299557692367314,null,-0.040574395361423515,0.002500467670546386,null,-0.07853338197807003,0.009159364734317204,null,-0.7017214622053083,-0.010524035750056187,null,-0.6126337617205431,0.014940332832522378,null,0.8341427217311803,0.002500467670546386,null,0.7627025007625698,0.009159364734317204,null,-0.45457210440983864,-0.010524035750056187,null,0.6721054480373805,-0.00030299557692367314,null,0.56447011210139,0.002500467670546386,null,-0.8584294097740339,-0.062168341363772237,null,-0.7378067112840582,-0.010524035750056187,null,0.6087336109227219,-0.00030299557692367314,null,0.20613637933890824,0.002500467670546386,null,-0.31537125218543094,-0.010524035750056187,null,-0.31537125218543094,-0.00030299557692367314,null,0.07040024701506434,-0.010524035750056187,null,0.07040024701506434,0.002500467670546386,null,0.007312160702549998,-0.010524035750056187,null,-0.4167510212393721,0.014940332832522378,null,0.6298167201452955,-0.00030299557692367314,null,-0.1124105424197351,0.002500467670546386,null,-0.1520439511305929,-0.010524035750056187,null,-0.1520439511305929,0.002500467670546386,null],\"y\":[-0.3997970612997508,-0.006847832985052771,null,-0.29655281870183753,-0.3997970612997508,null,-0.29655281870183753,-0.06447619282918005,null,-0.29655281870183753,-0.7075612214557853,null,-0.29655281870183753,-0.017759962282711473,null,-0.29655281870183753,0.26361563988863174,null,-0.29655281870183753,-0.32746227206210116,null,-0.29655281870183753,-0.7388301790029667,null,-0.29655281870183753,-0.2949738887720336,null,-0.29655281870183753,-0.8018246292245861,null,-0.29655281870183753,-0.6773012695720383,null,-0.29655281870183753,0.011565037463790211,null,-0.29655281870183753,-0.15164929011977563,null,-0.29655281870183753,0.13833860875020487,null,-0.29655281870183753,-0.38425893298700803,null,-0.006847832985052771,0.5708530678240366,null,-0.006847832985052771,0.26361563988863174,null,-0.006847832985052771,-0.7388301790029667,null,-0.006847832985052771,0.01703883109678748,null,-0.006847832985052771,0.07797874954955782,null,-0.006847832985052771,0.7661349191263958,null,-0.006847832985052771,-0.2988361519924581,null,-0.006847832985052771,-0.43697636920638355,null,-0.006847832985052771,0.6930580845857481,null,-0.006847832985052771,0.12909108115679402,null,-0.006847832985052771,0.41431004559488915,null,-0.006847832985052771,0.5497636312023595,null,-0.006847832985052771,-0.592740408958469,null,-0.006847832985052771,0.42611849205937136,null,-0.006847832985052771,0.5394755748059382,null,-0.006847832985052771,-1.0,null,-0.006847832985052771,0.011565037463790211,null,-0.006847832985052771,-0.15164929011977563,null,-0.006847832985052771,-0.38425893298700803,null,-0.006847832985052771,-0.12673359065207102,null,-0.006847832985052771,0.4914562340150769,null,-0.006847832985052771,-0.14565701346934537,null,-0.006847832985052771,-0.24363267894170462,null,-0.006847832985052771,-0.5453200309819896,null,-0.006847832985052771,0.17886247495397684,null,-0.06447619282918005,-0.04618222017342585,null,-0.04618222017342585,-0.5519443416816016,null,-0.04618222017342585,0.003738841652364862,null,-0.04618222017342585,0.36381812127367164,null,-0.04618222017342585,-0.017759962282711473,null,-0.04618222017342585,-0.8018246292245861,null,-0.04618222017342585,-0.43044083737045596,null,-0.04618222017342585,-0.592740408958469,null,-0.04618222017342585,-0.8040396063235566,null,-0.04618222017342585,-0.25715978933469213,null,-0.04618222017342585,-0.7840848582182139,null,-0.04618222017342585,0.8718901796115507,null,-0.04618222017342585,0.5942599885380014,null,-0.04618222017342585,0.7042191646318409,null,-0.04618222017342585,0.5237602888399596,null,-0.04618222017342585,-0.5155530075114684,null,-0.04618222017342585,-1.0,null,-0.04618222017342585,-0.6773012695720383,null,-0.04618222017342585,-0.15164929011977563,null,-0.04618222017342585,0.13833860875020487,null,-0.04618222017342585,0.22552822402454228,null,-0.04618222017342585,-0.24363267894170462,null,-0.04618222017342585,0.17886247495397684,null,-0.04618222017342585,-0.12495181393936981,null,-0.04618222017342585,0.4307637871531594,null,-0.04618222017342585,0.5730152617389236,null,-0.04618222017342585,0.33720674287140906,null,-0.04618222017342585,0.8886523358314665,null,-0.04618222017342585,0.651936734209225,null,-0.04618222017342585,-0.8044194721523577,null,-0.04618222017342585,0.30765864335483195,null,-0.7075612214557853,-0.014079068894047034,null,-0.014079068894047034,-0.5934550997037932,null,-0.014079068894047034,-0.32746227206210116,null,-0.014079068894047034,-0.67679108871952,null,-0.014079068894047034,-0.4985040476270043,null,-0.014079068894047034,-0.5887744628276318,null,-0.014079068894047034,-0.43044083737045596,null,-0.014079068894047034,-0.2151117074428543,null,-0.014079068894047034,0.290923922893765,null,-0.014079068894047034,0.6908747671859197,null,-0.014079068894047034,0.789750364330901,null,-0.014079068894047034,-0.005817531310933367,null,-0.014079068894047034,0.8568260711309513,null,-0.014079068894047034,0.31349558941776345,null,-0.014079068894047034,0.7042191646318409,null,-0.014079068894047034,-0.7429473452106827,null,-0.014079068894047034,-1.0,null,-0.014079068894047034,-0.6773012695720383,null,-0.014079068894047034,0.011565037463790211,null,-0.014079068894047034,-0.6241147323459264,null,-0.014079068894047034,-0.12673359065207102,null,-0.014079068894047034,0.4914562340150769,null,-0.014079068894047034,0.22552822402454228,null,-0.014079068894047034,-0.24363267894170462,null,-0.014079068894047034,-0.5453200309819896,null,-0.014079068894047034,-0.12495181393936981,null,-0.014079068894047034,0.4307637871531594,null,-0.014079068894047034,-0.3103314007364755,null,-0.014079068894047034,-0.08340980145889043,null,-0.014079068894047034,0.8886523358314665,null,-0.014079068894047034,0.651936734209225,null,-0.014079068894047034,0.3950997974752382,null,-0.6088527533377223,-0.006847832985052771,null,0.06069670891477495,-0.6088527533377223,null,0.06069670891477495,-0.3852477301103587,null,0.06069670891477495,0.5726917988158731,null,0.06069670891477495,0.7156433391348939,null,0.06069670891477495,-0.5453250956791156,null,0.06069670891477495,0.07797874954955782,null,0.06069670891477495,-0.695742868974702,null,0.06069670891477495,0.7661349191263958,null,0.06069670891477495,-0.67679108871952,null,0.06069670891477495,-0.2988361519924581,null,0.06069670891477495,0.3789598194831228,null,0.06069670891477495,0.4985449074699165,null,0.06069670891477495,-0.25715978933469213,null,0.06069670891477495,0.6908747671859197,null,0.06069670891477495,0.5854768092789275,null,0.06069670891477495,0.789750364330901,null,0.06069670891477495,0.25550668073999805,null,0.06069670891477495,-0.005817531310933367,null,0.06069670891477495,-0.7840848582182139,null,0.06069670891477495,0.4307637871531594,null,0.06069670891477495,-0.3103314007364755,null,0.06069670891477495,0.5730152617389236,null,0.06069670891477495,-0.08340980145889043,null,0.06069670891477495,0.33720674287140906,null,0.2823355793136865,-0.006847832985052771,null,0.054475330248392656,0.2823355793136865,null,0.054475330248392656,-0.2664392994803527,null,0.054475330248392656,0.8120481665693551,null,0.054475330248392656,0.4414584490758504,null,0.054475330248392656,-0.5453250956791156,null,0.054475330248392656,0.01703883109678748,null,0.054475330248392656,-0.6719699495711147,null,0.054475330248392656,0.6930580845857481,null,0.054475330248392656,-0.4985040476270043,null,0.054475330248392656,0.12909108115679402,null,0.054475330248392656,-0.36249363833437465,null,0.054475330248392656,-0.3972609222132795,null,0.054475330248392656,0.4985449074699165,null,0.054475330248392656,0.290923922893765,null,0.054475330248392656,0.5854768092789275,null,0.054475330248392656,0.5942599885380014,null,0.054475330248392656,0.0787081675536081,null,0.054475330248392656,0.31349558941776345,null,0.054475330248392656,0.6754387128548366,null,0.054475330248392656,-0.7429473452106827,null,0.054475330248392656,0.5237602888399596,null,0.054475330248392656,-0.6241147323459264,null,0.054475330248392656,0.4914562340150769,null,0.054475330248392656,-0.14565701346934537,null,0.054475330248392656,0.22552822402454228,null,0.054475330248392656,-0.5453200309819896,null,0.054475330248392656,0.17886247495397684,null,0.054475330248392656,-0.12495181393936981,null,0.054475330248392656,-0.3103314007364755,null,0.054475330248392656,0.5730152617389236,null,0.054475330248392656,0.651936734209225,null,0.054475330248392656,0.3950997974752382,null,0.054475330248392656,-0.8044194721523577,null,0.7170564978161614,-0.006847832985052771,null,0.06015125227045929,0.7170564978161614,null,0.06015125227045929,0.7798254782952935,null,0.06015125227045929,0.19082814634913395,null,0.06015125227045929,-0.1232243565216425,null,0.06015125227045929,-0.695742868974702,null,0.06015125227045929,-0.6719699495711147,null,0.06015125227045929,-0.43697636920638355,null,0.06015125227045929,-0.5887744628276318,null,0.06015125227045929,0.5497636312023595,null,0.06015125227045929,-0.16702162928613953,null,0.06015125227045929,-0.3972609222132795,null,0.06015125227045929,0.3789598194831228,null,0.06015125227045929,0.25550668073999805,null,0.06015125227045929,0.8718901796115507,null,0.06015125227045929,0.0787081675536081,null,0.06015125227045929,0.8568260711309513,null,0.06015125227045929,0.6754387128548366,null,0.06015125227045929,-0.5155530075114684,null,0.06015125227045929,-0.6241147323459264,null,0.06015125227045929,-0.12673359065207102,null,0.06015125227045929,-0.14565701346934537,null,0.06015125227045929,0.8886523358314665,null,0.06015125227045929,0.3950997974752382,null,0.06015125227045929,-0.8044194721523577,null,0.06015125227045929,0.30765864335483195,null,-0.5519443416816016,-0.006847832985052771,null,-0.5934550997037932,-0.006847832985052771,null,0.5708530678240366,-0.014079068894047034,null,-0.5435641622842989,-0.006847832985052771,null,-0.11304612691338087,-0.5435641622842989,null,-0.11304612691338087,0.18247385476056138,null,-0.11304612691338087,-0.8845712167000795,null,-0.11304612691338087,0.44354707339417293,null,-0.11304612691338087,-0.36249363833437465,null,-0.11304612691338087,0.41431004559488915,null,-0.11304612691338087,0.15544625308580579,null,-0.11304612691338087,-0.8040396063235566,null,-0.11304612691338087,0.42611849205937136,null,-0.11304612691338087,-0.02767795347859224,null,-0.11304612691338087,-0.2151117074428543,null,-0.11304612691338087,0.5394755748059382,null,-0.11304612691338087,-0.29865059229854635,null,-0.2664392994803527,0.06069670891477495,null,-0.3852477301103587,0.054475330248392656,null,0.7798254782952935,0.06069670891477495,null,0.5726917988158731,0.06015125227045929,null,0.7156433391348939,-0.014079068894047034,null,0.19082814634913395,0.054475330248392656,null,0.8120481665693551,0.06015125227045929,null,0.003738841652364862,0.054475330248392656,null,0.4414584490758504,-0.014079068894047034,null,0.18247385476056138,0.054475330248392656,null,-0.1232243565216425,-0.014079068894047034,null,0.36381812127367164,-0.014079068894047034,null,-0.8845712167000795,-0.04618222017342585,null,0.44354707339417293,-0.014079068894047034,null,-0.017759962282711473,-0.006847832985052771,null,0.26361563988863174,-0.04618222017342585,null,-0.32746227206210116,-0.006847832985052771,null,-0.7388301790029667,-0.014079068894047034,null,-0.2949738887720336,-0.006847832985052771,null,-0.2949738887720336,-0.014079068894047034,null,-0.8018246292245861,-0.014079068894047034,null,-0.5453250956791156,-0.006847832985052771,null,0.01703883109678748,0.06069670891477495,null,0.07797874954955782,0.054475330248392656,null,-0.695742868974702,-0.006847832985052771,null,0.7661349191263958,0.06015125227045929,null,-0.67679108871952,-0.006847832985052771,null,-0.2988361519924581,-0.014079068894047034,null,-0.6719699495711147,-0.006847832985052771,null,-0.43697636920638355,0.054475330248392656,null,0.6930580845857481,0.06015125227045929,null,-0.4985040476270043,-0.006847832985052771,null,0.12909108115679402,-0.014079068894047034,null,-0.36249363833437465,-0.006847832985052771,null,0.41431004559488915,0.054475330248392656,null,0.15544625308580579,-0.006847832985052771,null,0.15544625308580579,0.054475330248392656,null,-0.5887744628276318,-0.006847832985052771,null,0.5497636312023595,-0.014079068894047034,null,-0.16702162928613953,-0.006847832985052771,null,-0.16702162928613953,-0.014079068894047034,null,-0.43044083737045596,-0.006847832985052771,null,-0.592740408958469,-0.014079068894047034,null,-0.8040396063235566,-0.006847832985052771,null,0.42611849205937136,-0.04618222017342585,null,-0.02767795347859224,-0.006847832985052771,null,-0.02767795347859224,-0.04618222017342585,null,-0.2151117074428543,-0.006847832985052771,null,0.5394755748059382,-0.014079068894047034,null,-0.29865059229854635,-0.006847832985052771,null,-0.29865059229854635,-0.014079068894047034,null,-0.3972609222132795,0.06069670891477495,null,0.3789598194831228,0.054475330248392656,null,0.4985449074699165,0.06015125227045929,null,-0.25715978933469213,0.054475330248392656,null,0.290923922893765,0.06069670891477495,null,0.6908747671859197,0.054475330248392656,null,0.5854768092789275,-0.014079068894047034,null,0.789750364330901,0.06015125227045929,null,0.25550668073999805,-0.014079068894047034,null,-0.005817531310933367,-0.04618222017342585,null,-0.7840848582182139,-0.014079068894047034,null,0.8718901796115507,0.054475330248392656,null,0.5942599885380014,0.06015125227045929,null,0.0787081675536081,-0.04618222017342585,null,0.8568260711309513,0.054475330248392656,null,0.31349558941776345,0.06015125227045929,null,0.6754387128548366,-0.014079068894047034,null,0.7042191646318409,0.054475330248392656,null,-0.7429473452106827,-0.04618222017342585,null,0.5237602888399596,-0.014079068894047034,null,-0.5155530075114684,-0.014079068894047034,null,-1.0,-0.29655281870183753,null,-0.6773012695720383,-0.006847832985052771,null,0.011565037463790211,-0.04618222017342585,null,-0.15164929011977563,-0.014079068894047034,null,0.13833860875020487,-0.006847832985052771,null,0.13833860875020487,-0.014079068894047034,null,-0.38425893298700803,-0.04618222017342585,null,-0.38425893298700803,-0.014079068894047034,null,-0.6241147323459264,-0.006847832985052771,null,-0.12673359065207102,0.054475330248392656,null,0.4914562340150769,0.06015125227045929,null,-0.14565701346934537,-0.014079068894047034,null,0.22552822402454228,-0.006847832985052771,null,-0.24363267894170462,0.054475330248392656,null,-0.5453200309819896,-0.04618222017342585,null,0.17886247495397684,-0.014079068894047034,null,-0.12495181393936981,0.06069670891477495,null,0.4307637871531594,0.054475330248392656,null,-0.3103314007364755,-0.04618222017342585,null,0.5730152617389236,-0.014079068894047034,null,-0.08340980145889043,0.054475330248392656,null,-0.08340980145889043,-0.04618222017342585,null,0.33720674287140906,0.054475330248392656,null,0.33720674287140906,-0.014079068894047034,null,0.8886523358314665,0.054475330248392656,null,0.651936734209225,0.06015125227045929,null,0.3950997974752382,-0.04618222017342585,null,-0.8044194721523577,-0.014079068894047034,null,0.30765864335483195,0.054475330248392656,null,0.30765864335483195,-0.014079068894047034,null],\"type\":\"scatter\"},{\"hoverinfo\":\"text\",\"marker\":{\"color\":[],\"colorbar\":{\"thickness\":15,\"title\":{\"side\":\"right\",\"text\":\"Node Connections\"},\"xanchor\":\"left\"},\"colorscale\":[[0.0,\"rgb(255,255,217)\"],[0.125,\"rgb(237,248,177)\"],[0.25,\"rgb(199,233,180)\"],[0.375,\"rgb(127,205,187)\"],[0.5,\"rgb(65,182,196)\"],[0.625,\"rgb(29,145,192)\"],[0.75,\"rgb(34,94,168)\"],[0.875,\"rgb(37,52,148)\"],[1.0,\"rgb(8,29,88)\"]],\"line\":{\"width\":2},\"reversescale\":true,\"showscale\":true,\"size\":10},\"mode\":\"markers\",\"text\":[\"0\",\"\\u0411\\u0440\\u044e\\u043a\\u0438\",\"\\u0414\\u0436\\u0438\\u043d\\u0441\\u044b\",\"1\",\"\\u0421\\u0443\\u043c\\u043a\\u0430\",\"2\",\"\\u0424\\u0443\\u0442\\u0431\\u043e\\u043b\\u043a\\u0430\",\"3\",\"\\u041a\\u0440\\u043e\\u0441\\u0441\\u043e\\u0432\\u043a\\u0438\",\"4\",\"\\u041a\\u0443\\u0440\\u0442\\u043a\\u0430\",\"5\",\"\\u0420\\u0443\\u0431\\u0430\\u0448\\u043a\\u0430\",\"6\",\"7\",\"8\",\"9\",\"\\u0428\\u0430\\u043f\\u043a\\u0430\",\"10\",\"11\",\"12\",\"13\",\"14\",\"15\",\"16\",\"17\",\"18\",\"19\",\"20\",\"21\",\"22\",\"23\",\"24\",\"25\",\"26\",\"27\",\"28\",\"29\",\"30\",\"31\",\"32\",\"33\",\"34\",\"35\",\"36\",\"37\",\"38\",\"39\",\"40\",\"41\",\"42\",\"43\",\"44\",\"45\",\"46\",\"47\",\"48\",\"49\",\"50\",\"51\",\"52\",\"53\",\"54\",\"55\",\"56\",\"57\",\"58\",\"59\",\"60\",\"61\",\"62\",\"63\",\"64\",\"65\",\"66\",\"67\",\"68\",\"69\",\"70\",\"71\",\"72\",\"73\",\"74\",\"75\",\"76\",\"77\",\"78\",\"79\",\"80\",\"81\",\"82\",\"83\",\"84\",\"85\",\"86\",\"87\",\"88\",\"89\",\"90\",\"91\",\"92\",\"93\",\"94\",\"95\",\"96\",\"97\",\"98\",\"99\",\"100\",\"101\"],\"x\":[0.7112349655736064,0.12039749566906129,0.009159364734317204,0.5425642713110749,-0.00030299557692367314,-0.33528479852095056,0.002500467670546386,-0.5622424620180968,-0.062168341363772237,0.6427168911770765,-0.010524035750056187,0.3462174300078617,0.014940332832522378,0.3476665627094917,0.5612815882894947,0.3656155159673631,-0.25030383567210207,-0.022039585435061362,-0.8185186341028883,-0.3640452115109223,-0.014795432687801634,-0.3271084621804566,0.23308295930249426,-0.6285944526193511,-0.2877623057619958,-0.6633073901900806,0.26352311519780663,-0.7828325347256629,0.6489834195713522,0.7607366781219506,0.0156647703116358,-0.25536865129222175,0.8253778951429905,0.40421097979683906,0.46138819437477735,0.006496363833149298,-0.18516561535936976,0.13526661318444877,0.21721989310406487,-0.887084080368812,-0.750561199793704,0.35387129673132545,-0.39400618641253565,0.17621647872353305,0.7965546024736809,0.46809455533706634,-0.614869890643329,-0.20696480832020436,0.45639192902326053,0.8279640476227109,-0.5502599191435734,0.5139967717640246,-0.3058953393342764,0.05654538173712355,-0.1011285468010827,0.3145881079270864,0.56737435176529,-0.3949092192241646,-0.2468110422062454,0.4043815753578199,0.3360608624080645,0.7099586414312029,0.046425289818556766,0.2386793158955152,-0.7516393415946724,-0.5603730913332424,-0.4447335357963089,-0.6623621889875103,-0.8594618164938946,-0.5407090963868222,0.5344335671559074,-0.10778852301748185,-0.4553889616984118,0.7195414131932708,0.27574916159472673,-0.18754486166467685,-0.5995473470513817,0.6423247492688253,0.16393027676787797,-0.6614308822889977,0.09973467833389488,0.44717055662208827,-0.45915860912766177,0.6459065105635071,-0.4889040420318174,0.48100046218849496,-0.19970277998075692,-0.5283895562705453,-0.5464363140139646,0.2883136661163932,-0.040574395361423515,-0.07853338197807003,-0.7017214622053083,-0.6126337617205431,0.8341427217311803,0.7627025007625698,-0.45457210440983864,0.6721054480373805,0.56447011210139,-0.8584294097740339,-0.7378067112840582,0.6087336109227219,0.20613637933890824,-0.31537125218543094,0.07040024701506434,0.007312160702549998,-0.4167510212393721,0.6298167201452955,-0.1124105424197351,-0.1520439511305929],\"y\":[-0.3997970612997508,-0.29655281870183753,-0.006847832985052771,-0.06447619282918005,-0.04618222017342585,-0.7075612214557853,-0.014079068894047034,-0.6088527533377223,0.06069670891477495,0.2823355793136865,0.054475330248392656,0.7170564978161614,0.06015125227045929,-0.5519443416816016,-0.5934550997037932,0.5708530678240366,-0.5435641622842989,-0.11304612691338087,-0.2664392994803527,-0.3852477301103587,0.7798254782952935,0.5726917988158731,0.7156433391348939,0.19082814634913395,0.8120481665693551,0.003738841652364862,0.4414584490758504,0.18247385476056138,-0.1232243565216425,0.36381812127367164,-0.8845712167000795,0.44354707339417293,-0.017759962282711473,0.26361563988863174,-0.32746227206210116,-0.7388301790029667,-0.2949738887720336,-0.8018246292245861,-0.5453250956791156,0.01703883109678748,0.07797874954955782,-0.695742868974702,0.7661349191263958,-0.67679108871952,-0.2988361519924581,-0.6719699495711147,-0.43697636920638355,0.6930580845857481,-0.4985040476270043,0.12909108115679402,-0.36249363833437465,0.41431004559488915,0.15544625308580579,-0.5887744628276318,0.5497636312023595,-0.16702162928613953,-0.43044083737045596,-0.592740408958469,-0.8040396063235566,0.42611849205937136,-0.02767795347859224,-0.2151117074428543,0.5394755748059382,-0.29865059229854635,-0.3972609222132795,0.3789598194831228,0.4985449074699165,-0.25715978933469213,0.290923922893765,0.6908747671859197,0.5854768092789275,0.789750364330901,0.25550668073999805,-0.005817531310933367,-0.7840848582182139,0.8718901796115507,0.5942599885380014,0.0787081675536081,0.8568260711309513,0.31349558941776345,0.6754387128548366,0.7042191646318409,-0.7429473452106827,0.5237602888399596,-0.5155530075114684,-1.0,-0.6773012695720383,0.011565037463790211,-0.15164929011977563,0.13833860875020487,-0.38425893298700803,-0.6241147323459264,-0.12673359065207102,0.4914562340150769,-0.14565701346934537,0.22552822402454228,-0.24363267894170462,-0.5453200309819896,0.17886247495397684,-0.12495181393936981,0.4307637871531594,-0.3103314007364755,0.5730152617389236,-0.08340980145889043,0.33720674287140906,0.8886523358314665,0.651936734209225,0.3950997974752382,-0.8044194721523577,0.30765864335483195],\"type\":\"scatter\"}],                        {\"annotations\":[{\"showarrow\":false,\"text\":\"Python code: \\u003ca href='https:\\u002f\\u002fplotly.com\\u002fipython-notebooks\\u002fnetwork-graphs\\u002f'\\u003e https:\\u002f\\u002fplotly.com\\u002fipython-notebooks\\u002fnetwork-graphs\\u002f\\u003c\\u002fa\\u003e\",\"x\":0.005,\"xref\":\"paper\",\"y\":-0.002,\"yref\":\"paper\"}],\"hovermode\":\"closest\",\"margin\":{\"b\":20,\"l\":5,\"r\":5,\"t\":40},\"showlegend\":false,\"title\":{\"font\":{\"size\":16},\"text\":\"\\u003cbr\\u003eNetwork graph made with Python\"},\"xaxis\":{\"showgrid\":false,\"showticklabels\":false,\"zeroline\":false},\"yaxis\":{\"showgrid\":false,\"showticklabels\":false,\"zeroline\":false},\"template\":{\"data\":{\"histogram2dcontour\":[{\"type\":\"histogram2dcontour\",\"colorbar\":{\"outlinewidth\":0,\"ticks\":\"\"},\"colorscale\":[[0.0,\"#0d0887\"],[0.1111111111111111,\"#46039f\"],[0.2222222222222222,\"#7201a8\"],[0.3333333333333333,\"#9c179e\"],[0.4444444444444444,\"#bd3786\"],[0.5555555555555556,\"#d8576b\"],[0.6666666666666666,\"#ed7953\"],[0.7777777777777778,\"#fb9f3a\"],[0.8888888888888888,\"#fdca26\"],[1.0,\"#f0f921\"]]}],\"choropleth\":[{\"type\":\"choropleth\",\"colorbar\":{\"outlinewidth\":0,\"ticks\":\"\"}}],\"histogram2d\":[{\"type\":\"histogram2d\",\"colorbar\":{\"outlinewidth\":0,\"ticks\":\"\"},\"colorscale\":[[0.0,\"#0d0887\"],[0.1111111111111111,\"#46039f\"],[0.2222222222222222,\"#7201a8\"],[0.3333333333333333,\"#9c179e\"],[0.4444444444444444,\"#bd3786\"],[0.5555555555555556,\"#d8576b\"],[0.6666666666666666,\"#ed7953\"],[0.7777777777777778,\"#fb9f3a\"],[0.8888888888888888,\"#fdca26\"],[1.0,\"#f0f921\"]]}],\"heatmap\":[{\"type\":\"heatmap\",\"colorbar\":{\"outlinewidth\":0,\"ticks\":\"\"},\"colorscale\":[[0.0,\"#0d0887\"],[0.1111111111111111,\"#46039f\"],[0.2222222222222222,\"#7201a8\"],[0.3333333333333333,\"#9c179e\"],[0.4444444444444444,\"#bd3786\"],[0.5555555555555556,\"#d8576b\"],[0.6666666666666666,\"#ed7953\"],[0.7777777777777778,\"#fb9f3a\"],[0.8888888888888888,\"#fdca26\"],[1.0,\"#f0f921\"]]}],\"heatmapgl\":[{\"type\":\"heatmapgl\",\"colorbar\":{\"outlinewidth\":0,\"ticks\":\"\"},\"colorscale\":[[0.0,\"#0d0887\"],[0.1111111111111111,\"#46039f\"],[0.2222222222222222,\"#7201a8\"],[0.3333333333333333,\"#9c179e\"],[0.4444444444444444,\"#bd3786\"],[0.5555555555555556,\"#d8576b\"],[0.6666666666666666,\"#ed7953\"],[0.7777777777777778,\"#fb9f3a\"],[0.8888888888888888,\"#fdca26\"],[1.0,\"#f0f921\"]]}],\"contourcarpet\":[{\"type\":\"contourcarpet\",\"colorbar\":{\"outlinewidth\":0,\"ticks\":\"\"}}],\"contour\":[{\"type\":\"contour\",\"colorbar\":{\"outlinewidth\":0,\"ticks\":\"\"},\"colorscale\":[[0.0,\"#0d0887\"],[0.1111111111111111,\"#46039f\"],[0.2222222222222222,\"#7201a8\"],[0.3333333333333333,\"#9c179e\"],[0.4444444444444444,\"#bd3786\"],[0.5555555555555556,\"#d8576b\"],[0.6666666666666666,\"#ed7953\"],[0.7777777777777778,\"#fb9f3a\"],[0.8888888888888888,\"#fdca26\"],[1.0,\"#f0f921\"]]}],\"surface\":[{\"type\":\"surface\",\"colorbar\":{\"outlinewidth\":0,\"ticks\":\"\"},\"colorscale\":[[0.0,\"#0d0887\"],[0.1111111111111111,\"#46039f\"],[0.2222222222222222,\"#7201a8\"],[0.3333333333333333,\"#9c179e\"],[0.4444444444444444,\"#bd3786\"],[0.5555555555555556,\"#d8576b\"],[0.6666666666666666,\"#ed7953\"],[0.7777777777777778,\"#fb9f3a\"],[0.8888888888888888,\"#fdca26\"],[1.0,\"#f0f921\"]]}],\"mesh3d\":[{\"type\":\"mesh3d\",\"colorbar\":{\"outlinewidth\":0,\"ticks\":\"\"}}],\"scatter\":[{\"fillpattern\":{\"fillmode\":\"overlay\",\"size\":10,\"solidity\":0.2},\"type\":\"scatter\"}],\"parcoords\":[{\"type\":\"parcoords\",\"line\":{\"colorbar\":{\"outlinewidth\":0,\"ticks\":\"\"}}}],\"scatterpolargl\":[{\"type\":\"scatterpolargl\",\"marker\":{\"colorbar\":{\"outlinewidth\":0,\"ticks\":\"\"}}}],\"bar\":[{\"error_x\":{\"color\":\"#2a3f5f\"},\"error_y\":{\"color\":\"#2a3f5f\"},\"marker\":{\"line\":{\"color\":\"#E5ECF6\",\"width\":0.5},\"pattern\":{\"fillmode\":\"overlay\",\"size\":10,\"solidity\":0.2}},\"type\":\"bar\"}],\"scattergeo\":[{\"type\":\"scattergeo\",\"marker\":{\"colorbar\":{\"outlinewidth\":0,\"ticks\":\"\"}}}],\"scatterpolar\":[{\"type\":\"scatterpolar\",\"marker\":{\"colorbar\":{\"outlinewidth\":0,\"ticks\":\"\"}}}],\"histogram\":[{\"marker\":{\"pattern\":{\"fillmode\":\"overlay\",\"size\":10,\"solidity\":0.2}},\"type\":\"histogram\"}],\"scattergl\":[{\"type\":\"scattergl\",\"marker\":{\"colorbar\":{\"outlinewidth\":0,\"ticks\":\"\"}}}],\"scatter3d\":[{\"type\":\"scatter3d\",\"line\":{\"colorbar\":{\"outlinewidth\":0,\"ticks\":\"\"}},\"marker\":{\"colorbar\":{\"outlinewidth\":0,\"ticks\":\"\"}}}],\"scattermapbox\":[{\"type\":\"scattermapbox\",\"marker\":{\"colorbar\":{\"outlinewidth\":0,\"ticks\":\"\"}}}],\"scatterternary\":[{\"type\":\"scatterternary\",\"marker\":{\"colorbar\":{\"outlinewidth\":0,\"ticks\":\"\"}}}],\"scattercarpet\":[{\"type\":\"scattercarpet\",\"marker\":{\"colorbar\":{\"outlinewidth\":0,\"ticks\":\"\"}}}],\"carpet\":[{\"aaxis\":{\"endlinecolor\":\"#2a3f5f\",\"gridcolor\":\"white\",\"linecolor\":\"white\",\"minorgridcolor\":\"white\",\"startlinecolor\":\"#2a3f5f\"},\"baxis\":{\"endlinecolor\":\"#2a3f5f\",\"gridcolor\":\"white\",\"linecolor\":\"white\",\"minorgridcolor\":\"white\",\"startlinecolor\":\"#2a3f5f\"},\"type\":\"carpet\"}],\"table\":[{\"cells\":{\"fill\":{\"color\":\"#EBF0F8\"},\"line\":{\"color\":\"white\"}},\"header\":{\"fill\":{\"color\":\"#C8D4E3\"},\"line\":{\"color\":\"white\"}},\"type\":\"table\"}],\"barpolar\":[{\"marker\":{\"line\":{\"color\":\"#E5ECF6\",\"width\":0.5},\"pattern\":{\"fillmode\":\"overlay\",\"size\":10,\"solidity\":0.2}},\"type\":\"barpolar\"}],\"pie\":[{\"automargin\":true,\"type\":\"pie\"}]},\"layout\":{\"autotypenumbers\":\"strict\",\"colorway\":[\"#636efa\",\"#EF553B\",\"#00cc96\",\"#ab63fa\",\"#FFA15A\",\"#19d3f3\",\"#FF6692\",\"#B6E880\",\"#FF97FF\",\"#FECB52\"],\"font\":{\"color\":\"#2a3f5f\"},\"hovermode\":\"closest\",\"hoverlabel\":{\"align\":\"left\"},\"paper_bgcolor\":\"white\",\"plot_bgcolor\":\"#E5ECF6\",\"polar\":{\"bgcolor\":\"#E5ECF6\",\"angularaxis\":{\"gridcolor\":\"white\",\"linecolor\":\"white\",\"ticks\":\"\"},\"radialaxis\":{\"gridcolor\":\"white\",\"linecolor\":\"white\",\"ticks\":\"\"}},\"ternary\":{\"bgcolor\":\"#E5ECF6\",\"aaxis\":{\"gridcolor\":\"white\",\"linecolor\":\"white\",\"ticks\":\"\"},\"baxis\":{\"gridcolor\":\"white\",\"linecolor\":\"white\",\"ticks\":\"\"},\"caxis\":{\"gridcolor\":\"white\",\"linecolor\":\"white\",\"ticks\":\"\"}},\"coloraxis\":{\"colorbar\":{\"outlinewidth\":0,\"ticks\":\"\"}},\"colorscale\":{\"sequential\":[[0.0,\"#0d0887\"],[0.1111111111111111,\"#46039f\"],[0.2222222222222222,\"#7201a8\"],[0.3333333333333333,\"#9c179e\"],[0.4444444444444444,\"#bd3786\"],[0.5555555555555556,\"#d8576b\"],[0.6666666666666666,\"#ed7953\"],[0.7777777777777778,\"#fb9f3a\"],[0.8888888888888888,\"#fdca26\"],[1.0,\"#f0f921\"]],\"sequentialminus\":[[0.0,\"#0d0887\"],[0.1111111111111111,\"#46039f\"],[0.2222222222222222,\"#7201a8\"],[0.3333333333333333,\"#9c179e\"],[0.4444444444444444,\"#bd3786\"],[0.5555555555555556,\"#d8576b\"],[0.6666666666666666,\"#ed7953\"],[0.7777777777777778,\"#fb9f3a\"],[0.8888888888888888,\"#fdca26\"],[1.0,\"#f0f921\"]],\"diverging\":[[0,\"#8e0152\"],[0.1,\"#c51b7d\"],[0.2,\"#de77ae\"],[0.3,\"#f1b6da\"],[0.4,\"#fde0ef\"],[0.5,\"#f7f7f7\"],[0.6,\"#e6f5d0\"],[0.7,\"#b8e186\"],[0.8,\"#7fbc41\"],[0.9,\"#4d9221\"],[1,\"#276419\"]]},\"xaxis\":{\"gridcolor\":\"white\",\"linecolor\":\"white\",\"ticks\":\"\",\"title\":{\"standoff\":15},\"zerolinecolor\":\"white\",\"automargin\":true,\"zerolinewidth\":2},\"yaxis\":{\"gridcolor\":\"white\",\"linecolor\":\"white\",\"ticks\":\"\",\"title\":{\"standoff\":15},\"zerolinecolor\":\"white\",\"automargin\":true,\"zerolinewidth\":2},\"scene\":{\"xaxis\":{\"backgroundcolor\":\"#E5ECF6\",\"gridcolor\":\"white\",\"linecolor\":\"white\",\"showbackground\":true,\"ticks\":\"\",\"zerolinecolor\":\"white\",\"gridwidth\":2},\"yaxis\":{\"backgroundcolor\":\"#E5ECF6\",\"gridcolor\":\"white\",\"linecolor\":\"white\",\"showbackground\":true,\"ticks\":\"\",\"zerolinecolor\":\"white\",\"gridwidth\":2},\"zaxis\":{\"backgroundcolor\":\"#E5ECF6\",\"gridcolor\":\"white\",\"linecolor\":\"white\",\"showbackground\":true,\"ticks\":\"\",\"zerolinecolor\":\"white\",\"gridwidth\":2}},\"shapedefaults\":{\"line\":{\"color\":\"#2a3f5f\"}},\"annotationdefaults\":{\"arrowcolor\":\"#2a3f5f\",\"arrowhead\":0,\"arrowwidth\":1},\"geo\":{\"bgcolor\":\"white\",\"landcolor\":\"#E5ECF6\",\"subunitcolor\":\"white\",\"showland\":true,\"showlakes\":true,\"lakecolor\":\"white\"},\"title\":{\"x\":0.05},\"mapbox\":{\"style\":\"light\"}}}},                        {\"responsive\": true}                    ).then(function(){\n",
       "                            \n",
       "var gd = document.getElementById('bc7edc7d-9a26-40ff-808d-353082e3784a');\n",
       "var x = new MutationObserver(function (mutations, observer) {{\n",
       "        var display = window.getComputedStyle(gd).display;\n",
       "        if (!display || display === 'none') {{\n",
       "            console.log([gd, 'removed!']);\n",
       "            Plotly.purge(gd);\n",
       "            observer.disconnect();\n",
       "        }}\n",
       "}});\n",
       "\n",
       "// Listen for the removal of the full notebook cells\n",
       "var notebookContainer = gd.closest('#notebook-container');\n",
       "if (notebookContainer) {{\n",
       "    x.observe(notebookContainer, {childList: true});\n",
       "}}\n",
       "\n",
       "// Listen for the clearing of the current output cell\n",
       "var outputEl = gd.closest('.output');\n",
       "if (outputEl) {{\n",
       "    x.observe(outputEl, {childList: true});\n",
       "}}\n",
       "\n",
       "                        })                };                });            </script>        </div>"
      ]
     },
     "metadata": {},
     "output_type": "display_data",
     "jetTransient": {
      "display_id": null
     }
    }
   ],
   "execution_count": 544
  },
  {
   "metadata": {
    "ExecuteTime": {
     "end_time": "2025-09-18T09:16:45.822295Z",
     "start_time": "2025-09-18T09:16:45.781384Z"
    }
   },
   "cell_type": "code",
   "source": [
    "itemsets, rules = apriori(transactions, min_support=min_sup, min_confidence=0.8)\n",
    "\n",
    "itemsets, rules = apriori(transactions, min_support=min_sup, min_confidence=0.8)\n",
    "\n",
    "n_trans = len(transactions)\n",
    "\n",
    "print(\"\\nАссоциативные правила (достоверность ≥ 80%):\")\n",
    "\n",
    "rules_data = []       # для draw_rules_graph\n",
    "rules_pyarmviz = []   # для PyARMViz\n",
    "\n",
    "for i, r in enumerate(rules):\n",
    "    ant = frozenset(r.lhs)\n",
    "    cons = frozenset(r.rhs)\n",
    "    union = ant | cons\n",
    "\n",
    "    # абсолютные количества\n",
    "    count_ab = sum(1 for t in transactions if union.issubset(t))\n",
    "    count_a = sum(1 for t in transactions if ant.issubset(t))\n",
    "    count_b = sum(1 for t in transactions if cons.issubset(t))\n",
    "\n",
    "    support_ab = count_ab / n_trans\n",
    "    support_a = count_a / n_trans\n",
    "    support_b = count_b / n_trans\n",
    "    lift = support_ab / (support_a * support_b) if support_a * support_b else 0.0\n",
    "\n",
    "    print(f\"{i}: {set(r.lhs)} -> {set(r.rhs)} \"\n",
    "          f\"Support = {support_ab:.3f} Confidence = {r.confidence:.3f} Lift = {lift:.3f}\")\n",
    "\n",
    "\n",
    "    # для PyARMViz\n",
    "    rules_pyarmviz.append(\n",
    "        PyARMViz.Rule.Rule(\n",
    "            lhs=tuple(r.lhs),\n",
    "            rhs=tuple(r.rhs),\n",
    "            count_full=count_ab,\n",
    "            count_lhs=count_a,\n",
    "            count_rhs=count_b,\n",
    "            num_transactions=n_trans\n",
    "        )\n",
    "    )\n",
    "\n",
    "# интерактивные графики PyARMViz\n",
    "PyARMViz.metadata_scatter_plot(rules_pyarmviz)\n",
    "PyARMViz.adjacency_graph_plotly(rules_pyarmviz)\n",
    "# PyARMViz.adjacency_parallel_coordinate_plot(rules_pyarmviz)\n",
    "# PyARMViz.adjacency_parallel_category_plot(rules_pyarmviz)\n"
   ],
   "id": "f85577058ec85027",
   "outputs": [
    {
     "name": "stdout",
     "output_type": "stream",
     "text": [
      "\n",
      "Ассоциативные правила (достоверность ≥ 80%):\n",
      "0: {'Брюки'} -> {'Футболка'} Support = 0.350 Confidence = 0.875 Lift = 1.250\n",
      "1: {'Шапка'} -> {'Джинсы'} Support = 0.300 Confidence = 1.000 Lift = 1.429\n",
      "2: {'Кроссовки'} -> {'Куртка'} Support = 0.400 Confidence = 0.889 Lift = 1.481\n",
      "3: {'Рубашка'} -> {'Куртка'} Support = 0.400 Confidence = 0.800 Lift = 1.333\n",
      "4: {'Сумка', 'Брюки'} -> {'Джинсы'} Support = 0.200 Confidence = 0.800 Lift = 1.143\n",
      "5: {'Футболка', 'Брюки'} -> {'Джинсы'} Support = 0.300 Confidence = 0.857 Lift = 1.224\n",
      "6: {'Джинсы', 'Брюки'} -> {'Футболка'} Support = 0.300 Confidence = 1.000 Lift = 1.429\n",
      "7: {'Сумка', 'Брюки'} -> {'Футболка'} Support = 0.200 Confidence = 0.800 Lift = 1.143\n",
      "8: {'Кроссовки', 'Джинсы'} -> {'Куртка'} Support = 0.250 Confidence = 0.833 Lift = 1.389\n",
      "9: {'Шапка', 'Куртка'} -> {'Джинсы'} Support = 0.200 Confidence = 1.000 Lift = 1.429\n",
      "10: {'Футболка', 'Рубашка'} -> {'Джинсы'} Support = 0.300 Confidence = 0.857 Lift = 1.224\n",
      "11: {'Джинсы', 'Рубашка'} -> {'Футболка'} Support = 0.300 Confidence = 0.857 Lift = 1.224\n",
      "12: {'Сумка', 'Джинсы'} -> {'Футболка'} Support = 0.300 Confidence = 0.857 Lift = 1.224\n",
      "13: {'Сумка', 'Шапка'} -> {'Джинсы'} Support = 0.200 Confidence = 1.000 Lift = 1.429\n",
      "14: {'Футболка', 'Шапка'} -> {'Джинсы'} Support = 0.200 Confidence = 1.000 Lift = 1.429\n",
      "15: {'Кроссовки', 'Рубашка'} -> {'Куртка'} Support = 0.250 Confidence = 0.833 Lift = 1.389\n",
      "16: {'Сумка', 'Кроссовки'} -> {'Куртка'} Support = 0.200 Confidence = 1.000 Lift = 1.667\n",
      "17: {'Кроссовки', 'Футболка'} -> {'Куртка'} Support = 0.250 Confidence = 0.833 Lift = 1.389\n",
      "18: {'Сумка', 'Кроссовки'} -> {'Футболка'} Support = 0.200 Confidence = 1.000 Lift = 1.429\n",
      "19: {'Сумка', 'Рубашка'} -> {'Куртка'} Support = 0.250 Confidence = 1.000 Lift = 1.667\n",
      "20: {'Сумка', 'Куртка'} -> {'Футболка'} Support = 0.300 Confidence = 0.857 Lift = 1.224\n",
      "21: {'Сумка', 'Рубашка'} -> {'Футболка'} Support = 0.200 Confidence = 0.800 Lift = 1.143\n",
      "22: {'Сумка', 'Футболка', 'Брюки'} -> {'Джинсы'} Support = 0.200 Confidence = 1.000 Lift = 1.429\n",
      "23: {'Сумка', 'Джинсы', 'Брюки'} -> {'Футболка'} Support = 0.200 Confidence = 1.000 Lift = 1.429\n",
      "24: {'Сумка', 'Брюки'} -> {'Футболка', 'Джинсы'} Support = 0.200 Confidence = 0.800 Lift = 1.455\n",
      "25: {'Футболка', 'Рубашка', 'Куртка'} -> {'Джинсы'} Support = 0.200 Confidence = 0.800 Lift = 1.143\n",
      "26: {'Джинсы', 'Рубашка', 'Куртка'} -> {'Футболка'} Support = 0.200 Confidence = 0.800 Lift = 1.143\n",
      "27: {'Сумка', 'Джинсы', 'Куртка'} -> {'Футболка'} Support = 0.200 Confidence = 1.000 Lift = 1.429\n",
      "28: {'Сумка', 'Кроссовки', 'Футболка'} -> {'Куртка'} Support = 0.200 Confidence = 1.000 Lift = 1.667\n",
      "29: {'Футболка', 'Кроссовки', 'Куртка'} -> {'Сумка'} Support = 0.200 Confidence = 0.800 Lift = 1.455\n",
      "30: {'Сумка', 'Кроссовки', 'Куртка'} -> {'Футболка'} Support = 0.200 Confidence = 1.000 Lift = 1.429\n",
      "31: {'Сумка', 'Кроссовки'} -> {'Футболка', 'Куртка'} Support = 0.200 Confidence = 1.000 Lift = 2.500\n",
      "32: {'Сумка', 'Футболка', 'Рубашка'} -> {'Куртка'} Support = 0.200 Confidence = 1.000 Lift = 1.667\n",
      "33: {'Футболка', 'Рубашка', 'Куртка'} -> {'Сумка'} Support = 0.200 Confidence = 0.800 Lift = 1.455\n",
      "34: {'Сумка', 'Рубашка', 'Куртка'} -> {'Футболка'} Support = 0.200 Confidence = 0.800 Lift = 1.143\n",
      "35: {'Сумка', 'Рубашка'} -> {'Футболка', 'Куртка'} Support = 0.200 Confidence = 0.800 Lift = 2.000\n"
     ]
    },
    {
     "data": {
      "application/vnd.plotly.v1+json": {
       "data": [
        {
         "marker": {
          "color": [
           1.2499999999999998,
           1.4285714285714286,
           1.4814814814814814,
           1.3333333333333335
          ],
          "colorbar": {
           "title": {
            "text": "Lift"
           }
          },
          "colorscale": [
           [
            0.0,
            "rgb(243, 224, 247)"
           ],
           [
            0.16666666666666666,
            "rgb(228, 199, 241)"
           ],
           [
            0.3333333333333333,
            "rgb(209, 175, 232)"
           ],
           [
            0.5,
            "rgb(185, 152, 221)"
           ],
           [
            0.6666666666666666,
            "rgb(159, 130, 206)"
           ],
           [
            0.8333333333333334,
            "rgb(130, 109, 186)"
           ],
           [
            1.0,
            "rgb(99, 88, 159)"
           ]
          ]
         },
         "mode": "markers",
         "text": [
          "('Брюки',) => ('Футболка',), Lift: 1.2499999999999998",
          "('Шапка',) => ('Джинсы',), Lift: 1.4285714285714286",
          "('Кроссовки',) => ('Куртка',), Lift: 1.4814814814814814",
          "('Рубашка',) => ('Куртка',), Lift: 1.3333333333333335"
         ],
         "x": [
          0.35,
          0.3,
          0.4,
          0.4
         ],
         "y": [
          0.875,
          1.0,
          0.8888888888888888,
          0.8
         ],
         "type": "scatter"
        }
       ],
       "layout": {
        "template": {
         "data": {
          "histogram2dcontour": [
           {
            "type": "histogram2dcontour",
            "colorbar": {
             "outlinewidth": 0,
             "ticks": ""
            },
            "colorscale": [
             [
              0.0,
              "#0d0887"
             ],
             [
              0.1111111111111111,
              "#46039f"
             ],
             [
              0.2222222222222222,
              "#7201a8"
             ],
             [
              0.3333333333333333,
              "#9c179e"
             ],
             [
              0.4444444444444444,
              "#bd3786"
             ],
             [
              0.5555555555555556,
              "#d8576b"
             ],
             [
              0.6666666666666666,
              "#ed7953"
             ],
             [
              0.7777777777777778,
              "#fb9f3a"
             ],
             [
              0.8888888888888888,
              "#fdca26"
             ],
             [
              1.0,
              "#f0f921"
             ]
            ]
           }
          ],
          "choropleth": [
           {
            "type": "choropleth",
            "colorbar": {
             "outlinewidth": 0,
             "ticks": ""
            }
           }
          ],
          "histogram2d": [
           {
            "type": "histogram2d",
            "colorbar": {
             "outlinewidth": 0,
             "ticks": ""
            },
            "colorscale": [
             [
              0.0,
              "#0d0887"
             ],
             [
              0.1111111111111111,
              "#46039f"
             ],
             [
              0.2222222222222222,
              "#7201a8"
             ],
             [
              0.3333333333333333,
              "#9c179e"
             ],
             [
              0.4444444444444444,
              "#bd3786"
             ],
             [
              0.5555555555555556,
              "#d8576b"
             ],
             [
              0.6666666666666666,
              "#ed7953"
             ],
             [
              0.7777777777777778,
              "#fb9f3a"
             ],
             [
              0.8888888888888888,
              "#fdca26"
             ],
             [
              1.0,
              "#f0f921"
             ]
            ]
           }
          ],
          "heatmap": [
           {
            "type": "heatmap",
            "colorbar": {
             "outlinewidth": 0,
             "ticks": ""
            },
            "colorscale": [
             [
              0.0,
              "#0d0887"
             ],
             [
              0.1111111111111111,
              "#46039f"
             ],
             [
              0.2222222222222222,
              "#7201a8"
             ],
             [
              0.3333333333333333,
              "#9c179e"
             ],
             [
              0.4444444444444444,
              "#bd3786"
             ],
             [
              0.5555555555555556,
              "#d8576b"
             ],
             [
              0.6666666666666666,
              "#ed7953"
             ],
             [
              0.7777777777777778,
              "#fb9f3a"
             ],
             [
              0.8888888888888888,
              "#fdca26"
             ],
             [
              1.0,
              "#f0f921"
             ]
            ]
           }
          ],
          "heatmapgl": [
           {
            "type": "heatmapgl",
            "colorbar": {
             "outlinewidth": 0,
             "ticks": ""
            },
            "colorscale": [
             [
              0.0,
              "#0d0887"
             ],
             [
              0.1111111111111111,
              "#46039f"
             ],
             [
              0.2222222222222222,
              "#7201a8"
             ],
             [
              0.3333333333333333,
              "#9c179e"
             ],
             [
              0.4444444444444444,
              "#bd3786"
             ],
             [
              0.5555555555555556,
              "#d8576b"
             ],
             [
              0.6666666666666666,
              "#ed7953"
             ],
             [
              0.7777777777777778,
              "#fb9f3a"
             ],
             [
              0.8888888888888888,
              "#fdca26"
             ],
             [
              1.0,
              "#f0f921"
             ]
            ]
           }
          ],
          "contourcarpet": [
           {
            "type": "contourcarpet",
            "colorbar": {
             "outlinewidth": 0,
             "ticks": ""
            }
           }
          ],
          "contour": [
           {
            "type": "contour",
            "colorbar": {
             "outlinewidth": 0,
             "ticks": ""
            },
            "colorscale": [
             [
              0.0,
              "#0d0887"
             ],
             [
              0.1111111111111111,
              "#46039f"
             ],
             [
              0.2222222222222222,
              "#7201a8"
             ],
             [
              0.3333333333333333,
              "#9c179e"
             ],
             [
              0.4444444444444444,
              "#bd3786"
             ],
             [
              0.5555555555555556,
              "#d8576b"
             ],
             [
              0.6666666666666666,
              "#ed7953"
             ],
             [
              0.7777777777777778,
              "#fb9f3a"
             ],
             [
              0.8888888888888888,
              "#fdca26"
             ],
             [
              1.0,
              "#f0f921"
             ]
            ]
           }
          ],
          "surface": [
           {
            "type": "surface",
            "colorbar": {
             "outlinewidth": 0,
             "ticks": ""
            },
            "colorscale": [
             [
              0.0,
              "#0d0887"
             ],
             [
              0.1111111111111111,
              "#46039f"
             ],
             [
              0.2222222222222222,
              "#7201a8"
             ],
             [
              0.3333333333333333,
              "#9c179e"
             ],
             [
              0.4444444444444444,
              "#bd3786"
             ],
             [
              0.5555555555555556,
              "#d8576b"
             ],
             [
              0.6666666666666666,
              "#ed7953"
             ],
             [
              0.7777777777777778,
              "#fb9f3a"
             ],
             [
              0.8888888888888888,
              "#fdca26"
             ],
             [
              1.0,
              "#f0f921"
             ]
            ]
           }
          ],
          "mesh3d": [
           {
            "type": "mesh3d",
            "colorbar": {
             "outlinewidth": 0,
             "ticks": ""
            }
           }
          ],
          "scatter": [
           {
            "fillpattern": {
             "fillmode": "overlay",
             "size": 10,
             "solidity": 0.2
            },
            "type": "scatter"
           }
          ],
          "parcoords": [
           {
            "type": "parcoords",
            "line": {
             "colorbar": {
              "outlinewidth": 0,
              "ticks": ""
             }
            }
           }
          ],
          "scatterpolargl": [
           {
            "type": "scatterpolargl",
            "marker": {
             "colorbar": {
              "outlinewidth": 0,
              "ticks": ""
             }
            }
           }
          ],
          "bar": [
           {
            "error_x": {
             "color": "#2a3f5f"
            },
            "error_y": {
             "color": "#2a3f5f"
            },
            "marker": {
             "line": {
              "color": "#E5ECF6",
              "width": 0.5
             },
             "pattern": {
              "fillmode": "overlay",
              "size": 10,
              "solidity": 0.2
             }
            },
            "type": "bar"
           }
          ],
          "scattergeo": [
           {
            "type": "scattergeo",
            "marker": {
             "colorbar": {
              "outlinewidth": 0,
              "ticks": ""
             }
            }
           }
          ],
          "scatterpolar": [
           {
            "type": "scatterpolar",
            "marker": {
             "colorbar": {
              "outlinewidth": 0,
              "ticks": ""
             }
            }
           }
          ],
          "histogram": [
           {
            "marker": {
             "pattern": {
              "fillmode": "overlay",
              "size": 10,
              "solidity": 0.2
             }
            },
            "type": "histogram"
           }
          ],
          "scattergl": [
           {
            "type": "scattergl",
            "marker": {
             "colorbar": {
              "outlinewidth": 0,
              "ticks": ""
             }
            }
           }
          ],
          "scatter3d": [
           {
            "type": "scatter3d",
            "line": {
             "colorbar": {
              "outlinewidth": 0,
              "ticks": ""
             }
            },
            "marker": {
             "colorbar": {
              "outlinewidth": 0,
              "ticks": ""
             }
            }
           }
          ],
          "scattermapbox": [
           {
            "type": "scattermapbox",
            "marker": {
             "colorbar": {
              "outlinewidth": 0,
              "ticks": ""
             }
            }
           }
          ],
          "scatterternary": [
           {
            "type": "scatterternary",
            "marker": {
             "colorbar": {
              "outlinewidth": 0,
              "ticks": ""
             }
            }
           }
          ],
          "scattercarpet": [
           {
            "type": "scattercarpet",
            "marker": {
             "colorbar": {
              "outlinewidth": 0,
              "ticks": ""
             }
            }
           }
          ],
          "carpet": [
           {
            "aaxis": {
             "endlinecolor": "#2a3f5f",
             "gridcolor": "white",
             "linecolor": "white",
             "minorgridcolor": "white",
             "startlinecolor": "#2a3f5f"
            },
            "baxis": {
             "endlinecolor": "#2a3f5f",
             "gridcolor": "white",
             "linecolor": "white",
             "minorgridcolor": "white",
             "startlinecolor": "#2a3f5f"
            },
            "type": "carpet"
           }
          ],
          "table": [
           {
            "cells": {
             "fill": {
              "color": "#EBF0F8"
             },
             "line": {
              "color": "white"
             }
            },
            "header": {
             "fill": {
              "color": "#C8D4E3"
             },
             "line": {
              "color": "white"
             }
            },
            "type": "table"
           }
          ],
          "barpolar": [
           {
            "marker": {
             "line": {
              "color": "#E5ECF6",
              "width": 0.5
             },
             "pattern": {
              "fillmode": "overlay",
              "size": 10,
              "solidity": 0.2
             }
            },
            "type": "barpolar"
           }
          ],
          "pie": [
           {
            "automargin": true,
            "type": "pie"
           }
          ]
         },
         "layout": {
          "autotypenumbers": "strict",
          "colorway": [
           "#636efa",
           "#EF553B",
           "#00cc96",
           "#ab63fa",
           "#FFA15A",
           "#19d3f3",
           "#FF6692",
           "#B6E880",
           "#FF97FF",
           "#FECB52"
          ],
          "font": {
           "color": "#2a3f5f"
          },
          "hovermode": "closest",
          "hoverlabel": {
           "align": "left"
          },
          "paper_bgcolor": "white",
          "plot_bgcolor": "#E5ECF6",
          "polar": {
           "bgcolor": "#E5ECF6",
           "angularaxis": {
            "gridcolor": "white",
            "linecolor": "white",
            "ticks": ""
           },
           "radialaxis": {
            "gridcolor": "white",
            "linecolor": "white",
            "ticks": ""
           }
          },
          "ternary": {
           "bgcolor": "#E5ECF6",
           "aaxis": {
            "gridcolor": "white",
            "linecolor": "white",
            "ticks": ""
           },
           "baxis": {
            "gridcolor": "white",
            "linecolor": "white",
            "ticks": ""
           },
           "caxis": {
            "gridcolor": "white",
            "linecolor": "white",
            "ticks": ""
           }
          },
          "coloraxis": {
           "colorbar": {
            "outlinewidth": 0,
            "ticks": ""
           }
          },
          "colorscale": {
           "sequential": [
            [
             0.0,
             "#0d0887"
            ],
            [
             0.1111111111111111,
             "#46039f"
            ],
            [
             0.2222222222222222,
             "#7201a8"
            ],
            [
             0.3333333333333333,
             "#9c179e"
            ],
            [
             0.4444444444444444,
             "#bd3786"
            ],
            [
             0.5555555555555556,
             "#d8576b"
            ],
            [
             0.6666666666666666,
             "#ed7953"
            ],
            [
             0.7777777777777778,
             "#fb9f3a"
            ],
            [
             0.8888888888888888,
             "#fdca26"
            ],
            [
             1.0,
             "#f0f921"
            ]
           ],
           "sequentialminus": [
            [
             0.0,
             "#0d0887"
            ],
            [
             0.1111111111111111,
             "#46039f"
            ],
            [
             0.2222222222222222,
             "#7201a8"
            ],
            [
             0.3333333333333333,
             "#9c179e"
            ],
            [
             0.4444444444444444,
             "#bd3786"
            ],
            [
             0.5555555555555556,
             "#d8576b"
            ],
            [
             0.6666666666666666,
             "#ed7953"
            ],
            [
             0.7777777777777778,
             "#fb9f3a"
            ],
            [
             0.8888888888888888,
             "#fdca26"
            ],
            [
             1.0,
             "#f0f921"
            ]
           ],
           "diverging": [
            [
             0,
             "#8e0152"
            ],
            [
             0.1,
             "#c51b7d"
            ],
            [
             0.2,
             "#de77ae"
            ],
            [
             0.3,
             "#f1b6da"
            ],
            [
             0.4,
             "#fde0ef"
            ],
            [
             0.5,
             "#f7f7f7"
            ],
            [
             0.6,
             "#e6f5d0"
            ],
            [
             0.7,
             "#b8e186"
            ],
            [
             0.8,
             "#7fbc41"
            ],
            [
             0.9,
             "#4d9221"
            ],
            [
             1,
             "#276419"
            ]
           ]
          },
          "xaxis": {
           "gridcolor": "white",
           "linecolor": "white",
           "ticks": "",
           "title": {
            "standoff": 15
           },
           "zerolinecolor": "white",
           "automargin": true,
           "zerolinewidth": 2
          },
          "yaxis": {
           "gridcolor": "white",
           "linecolor": "white",
           "ticks": "",
           "title": {
            "standoff": 15
           },
           "zerolinecolor": "white",
           "automargin": true,
           "zerolinewidth": 2
          },
          "scene": {
           "xaxis": {
            "backgroundcolor": "#E5ECF6",
            "gridcolor": "white",
            "linecolor": "white",
            "showbackground": true,
            "ticks": "",
            "zerolinecolor": "white",
            "gridwidth": 2
           },
           "yaxis": {
            "backgroundcolor": "#E5ECF6",
            "gridcolor": "white",
            "linecolor": "white",
            "showbackground": true,
            "ticks": "",
            "zerolinecolor": "white",
            "gridwidth": 2
           },
           "zaxis": {
            "backgroundcolor": "#E5ECF6",
            "gridcolor": "white",
            "linecolor": "white",
            "showbackground": true,
            "ticks": "",
            "zerolinecolor": "white",
            "gridwidth": 2
           }
          },
          "shapedefaults": {
           "line": {
            "color": "#2a3f5f"
           }
          },
          "annotationdefaults": {
           "arrowcolor": "#2a3f5f",
           "arrowhead": 0,
           "arrowwidth": 1
          },
          "geo": {
           "bgcolor": "white",
           "landcolor": "#E5ECF6",
           "subunitcolor": "white",
           "showland": true,
           "showlakes": true,
           "lakecolor": "white"
          },
          "title": {
           "x": 0.05
          },
          "mapbox": {
           "style": "light"
          }
         }
        },
        "xaxis": {
         "title": {
          "text": "Support"
         },
         "autorange": "reversed"
        },
        "title": {
         "text": "Association Rules Strength Distribution"
        },
        "yaxis": {
         "title": {
          "text": "Confidence"
         }
        }
       },
       "config": {
        "plotlyServerURL": "https://plot.ly"
       }
      },
      "text/html": [
       "<div>                            <div id=\"bfa12feb-deb5-49b8-8507-7ca7c50d9515\" class=\"plotly-graph-div\" style=\"height:525px; width:100%;\"></div>            <script type=\"text/javascript\">                require([\"plotly\"], function(Plotly) {                    window.PLOTLYENV=window.PLOTLYENV || {};                                    if (document.getElementById(\"bfa12feb-deb5-49b8-8507-7ca7c50d9515\")) {                    Plotly.newPlot(                        \"bfa12feb-deb5-49b8-8507-7ca7c50d9515\",                        [{\"marker\":{\"color\":[1.2499999999999998,1.4285714285714286,1.4814814814814814,1.3333333333333335],\"colorbar\":{\"title\":{\"text\":\"Lift\"}},\"colorscale\":[[0.0,\"rgb(243, 224, 247)\"],[0.16666666666666666,\"rgb(228, 199, 241)\"],[0.3333333333333333,\"rgb(209, 175, 232)\"],[0.5,\"rgb(185, 152, 221)\"],[0.6666666666666666,\"rgb(159, 130, 206)\"],[0.8333333333333334,\"rgb(130, 109, 186)\"],[1.0,\"rgb(99, 88, 159)\"]]},\"mode\":\"markers\",\"text\":[\"('\\u0411\\u0440\\u044e\\u043a\\u0438',) =\\u003e ('\\u0424\\u0443\\u0442\\u0431\\u043e\\u043b\\u043a\\u0430',), Lift: 1.2499999999999998\",\"('\\u0428\\u0430\\u043f\\u043a\\u0430',) =\\u003e ('\\u0414\\u0436\\u0438\\u043d\\u0441\\u044b',), Lift: 1.4285714285714286\",\"('\\u041a\\u0440\\u043e\\u0441\\u0441\\u043e\\u0432\\u043a\\u0438',) =\\u003e ('\\u041a\\u0443\\u0440\\u0442\\u043a\\u0430',), Lift: 1.4814814814814814\",\"('\\u0420\\u0443\\u0431\\u0430\\u0448\\u043a\\u0430',) =\\u003e ('\\u041a\\u0443\\u0440\\u0442\\u043a\\u0430',), Lift: 1.3333333333333335\"],\"x\":[0.35,0.3,0.4,0.4],\"y\":[0.875,1.0,0.8888888888888888,0.8],\"type\":\"scatter\"}],                        {\"template\":{\"data\":{\"histogram2dcontour\":[{\"type\":\"histogram2dcontour\",\"colorbar\":{\"outlinewidth\":0,\"ticks\":\"\"},\"colorscale\":[[0.0,\"#0d0887\"],[0.1111111111111111,\"#46039f\"],[0.2222222222222222,\"#7201a8\"],[0.3333333333333333,\"#9c179e\"],[0.4444444444444444,\"#bd3786\"],[0.5555555555555556,\"#d8576b\"],[0.6666666666666666,\"#ed7953\"],[0.7777777777777778,\"#fb9f3a\"],[0.8888888888888888,\"#fdca26\"],[1.0,\"#f0f921\"]]}],\"choropleth\":[{\"type\":\"choropleth\",\"colorbar\":{\"outlinewidth\":0,\"ticks\":\"\"}}],\"histogram2d\":[{\"type\":\"histogram2d\",\"colorbar\":{\"outlinewidth\":0,\"ticks\":\"\"},\"colorscale\":[[0.0,\"#0d0887\"],[0.1111111111111111,\"#46039f\"],[0.2222222222222222,\"#7201a8\"],[0.3333333333333333,\"#9c179e\"],[0.4444444444444444,\"#bd3786\"],[0.5555555555555556,\"#d8576b\"],[0.6666666666666666,\"#ed7953\"],[0.7777777777777778,\"#fb9f3a\"],[0.8888888888888888,\"#fdca26\"],[1.0,\"#f0f921\"]]}],\"heatmap\":[{\"type\":\"heatmap\",\"colorbar\":{\"outlinewidth\":0,\"ticks\":\"\"},\"colorscale\":[[0.0,\"#0d0887\"],[0.1111111111111111,\"#46039f\"],[0.2222222222222222,\"#7201a8\"],[0.3333333333333333,\"#9c179e\"],[0.4444444444444444,\"#bd3786\"],[0.5555555555555556,\"#d8576b\"],[0.6666666666666666,\"#ed7953\"],[0.7777777777777778,\"#fb9f3a\"],[0.8888888888888888,\"#fdca26\"],[1.0,\"#f0f921\"]]}],\"heatmapgl\":[{\"type\":\"heatmapgl\",\"colorbar\":{\"outlinewidth\":0,\"ticks\":\"\"},\"colorscale\":[[0.0,\"#0d0887\"],[0.1111111111111111,\"#46039f\"],[0.2222222222222222,\"#7201a8\"],[0.3333333333333333,\"#9c179e\"],[0.4444444444444444,\"#bd3786\"],[0.5555555555555556,\"#d8576b\"],[0.6666666666666666,\"#ed7953\"],[0.7777777777777778,\"#fb9f3a\"],[0.8888888888888888,\"#fdca26\"],[1.0,\"#f0f921\"]]}],\"contourcarpet\":[{\"type\":\"contourcarpet\",\"colorbar\":{\"outlinewidth\":0,\"ticks\":\"\"}}],\"contour\":[{\"type\":\"contour\",\"colorbar\":{\"outlinewidth\":0,\"ticks\":\"\"},\"colorscale\":[[0.0,\"#0d0887\"],[0.1111111111111111,\"#46039f\"],[0.2222222222222222,\"#7201a8\"],[0.3333333333333333,\"#9c179e\"],[0.4444444444444444,\"#bd3786\"],[0.5555555555555556,\"#d8576b\"],[0.6666666666666666,\"#ed7953\"],[0.7777777777777778,\"#fb9f3a\"],[0.8888888888888888,\"#fdca26\"],[1.0,\"#f0f921\"]]}],\"surface\":[{\"type\":\"surface\",\"colorbar\":{\"outlinewidth\":0,\"ticks\":\"\"},\"colorscale\":[[0.0,\"#0d0887\"],[0.1111111111111111,\"#46039f\"],[0.2222222222222222,\"#7201a8\"],[0.3333333333333333,\"#9c179e\"],[0.4444444444444444,\"#bd3786\"],[0.5555555555555556,\"#d8576b\"],[0.6666666666666666,\"#ed7953\"],[0.7777777777777778,\"#fb9f3a\"],[0.8888888888888888,\"#fdca26\"],[1.0,\"#f0f921\"]]}],\"mesh3d\":[{\"type\":\"mesh3d\",\"colorbar\":{\"outlinewidth\":0,\"ticks\":\"\"}}],\"scatter\":[{\"fillpattern\":{\"fillmode\":\"overlay\",\"size\":10,\"solidity\":0.2},\"type\":\"scatter\"}],\"parcoords\":[{\"type\":\"parcoords\",\"line\":{\"colorbar\":{\"outlinewidth\":0,\"ticks\":\"\"}}}],\"scatterpolargl\":[{\"type\":\"scatterpolargl\",\"marker\":{\"colorbar\":{\"outlinewidth\":0,\"ticks\":\"\"}}}],\"bar\":[{\"error_x\":{\"color\":\"#2a3f5f\"},\"error_y\":{\"color\":\"#2a3f5f\"},\"marker\":{\"line\":{\"color\":\"#E5ECF6\",\"width\":0.5},\"pattern\":{\"fillmode\":\"overlay\",\"size\":10,\"solidity\":0.2}},\"type\":\"bar\"}],\"scattergeo\":[{\"type\":\"scattergeo\",\"marker\":{\"colorbar\":{\"outlinewidth\":0,\"ticks\":\"\"}}}],\"scatterpolar\":[{\"type\":\"scatterpolar\",\"marker\":{\"colorbar\":{\"outlinewidth\":0,\"ticks\":\"\"}}}],\"histogram\":[{\"marker\":{\"pattern\":{\"fillmode\":\"overlay\",\"size\":10,\"solidity\":0.2}},\"type\":\"histogram\"}],\"scattergl\":[{\"type\":\"scattergl\",\"marker\":{\"colorbar\":{\"outlinewidth\":0,\"ticks\":\"\"}}}],\"scatter3d\":[{\"type\":\"scatter3d\",\"line\":{\"colorbar\":{\"outlinewidth\":0,\"ticks\":\"\"}},\"marker\":{\"colorbar\":{\"outlinewidth\":0,\"ticks\":\"\"}}}],\"scattermapbox\":[{\"type\":\"scattermapbox\",\"marker\":{\"colorbar\":{\"outlinewidth\":0,\"ticks\":\"\"}}}],\"scatterternary\":[{\"type\":\"scatterternary\",\"marker\":{\"colorbar\":{\"outlinewidth\":0,\"ticks\":\"\"}}}],\"scattercarpet\":[{\"type\":\"scattercarpet\",\"marker\":{\"colorbar\":{\"outlinewidth\":0,\"ticks\":\"\"}}}],\"carpet\":[{\"aaxis\":{\"endlinecolor\":\"#2a3f5f\",\"gridcolor\":\"white\",\"linecolor\":\"white\",\"minorgridcolor\":\"white\",\"startlinecolor\":\"#2a3f5f\"},\"baxis\":{\"endlinecolor\":\"#2a3f5f\",\"gridcolor\":\"white\",\"linecolor\":\"white\",\"minorgridcolor\":\"white\",\"startlinecolor\":\"#2a3f5f\"},\"type\":\"carpet\"}],\"table\":[{\"cells\":{\"fill\":{\"color\":\"#EBF0F8\"},\"line\":{\"color\":\"white\"}},\"header\":{\"fill\":{\"color\":\"#C8D4E3\"},\"line\":{\"color\":\"white\"}},\"type\":\"table\"}],\"barpolar\":[{\"marker\":{\"line\":{\"color\":\"#E5ECF6\",\"width\":0.5},\"pattern\":{\"fillmode\":\"overlay\",\"size\":10,\"solidity\":0.2}},\"type\":\"barpolar\"}],\"pie\":[{\"automargin\":true,\"type\":\"pie\"}]},\"layout\":{\"autotypenumbers\":\"strict\",\"colorway\":[\"#636efa\",\"#EF553B\",\"#00cc96\",\"#ab63fa\",\"#FFA15A\",\"#19d3f3\",\"#FF6692\",\"#B6E880\",\"#FF97FF\",\"#FECB52\"],\"font\":{\"color\":\"#2a3f5f\"},\"hovermode\":\"closest\",\"hoverlabel\":{\"align\":\"left\"},\"paper_bgcolor\":\"white\",\"plot_bgcolor\":\"#E5ECF6\",\"polar\":{\"bgcolor\":\"#E5ECF6\",\"angularaxis\":{\"gridcolor\":\"white\",\"linecolor\":\"white\",\"ticks\":\"\"},\"radialaxis\":{\"gridcolor\":\"white\",\"linecolor\":\"white\",\"ticks\":\"\"}},\"ternary\":{\"bgcolor\":\"#E5ECF6\",\"aaxis\":{\"gridcolor\":\"white\",\"linecolor\":\"white\",\"ticks\":\"\"},\"baxis\":{\"gridcolor\":\"white\",\"linecolor\":\"white\",\"ticks\":\"\"},\"caxis\":{\"gridcolor\":\"white\",\"linecolor\":\"white\",\"ticks\":\"\"}},\"coloraxis\":{\"colorbar\":{\"outlinewidth\":0,\"ticks\":\"\"}},\"colorscale\":{\"sequential\":[[0.0,\"#0d0887\"],[0.1111111111111111,\"#46039f\"],[0.2222222222222222,\"#7201a8\"],[0.3333333333333333,\"#9c179e\"],[0.4444444444444444,\"#bd3786\"],[0.5555555555555556,\"#d8576b\"],[0.6666666666666666,\"#ed7953\"],[0.7777777777777778,\"#fb9f3a\"],[0.8888888888888888,\"#fdca26\"],[1.0,\"#f0f921\"]],\"sequentialminus\":[[0.0,\"#0d0887\"],[0.1111111111111111,\"#46039f\"],[0.2222222222222222,\"#7201a8\"],[0.3333333333333333,\"#9c179e\"],[0.4444444444444444,\"#bd3786\"],[0.5555555555555556,\"#d8576b\"],[0.6666666666666666,\"#ed7953\"],[0.7777777777777778,\"#fb9f3a\"],[0.8888888888888888,\"#fdca26\"],[1.0,\"#f0f921\"]],\"diverging\":[[0,\"#8e0152\"],[0.1,\"#c51b7d\"],[0.2,\"#de77ae\"],[0.3,\"#f1b6da\"],[0.4,\"#fde0ef\"],[0.5,\"#f7f7f7\"],[0.6,\"#e6f5d0\"],[0.7,\"#b8e186\"],[0.8,\"#7fbc41\"],[0.9,\"#4d9221\"],[1,\"#276419\"]]},\"xaxis\":{\"gridcolor\":\"white\",\"linecolor\":\"white\",\"ticks\":\"\",\"title\":{\"standoff\":15},\"zerolinecolor\":\"white\",\"automargin\":true,\"zerolinewidth\":2},\"yaxis\":{\"gridcolor\":\"white\",\"linecolor\":\"white\",\"ticks\":\"\",\"title\":{\"standoff\":15},\"zerolinecolor\":\"white\",\"automargin\":true,\"zerolinewidth\":2},\"scene\":{\"xaxis\":{\"backgroundcolor\":\"#E5ECF6\",\"gridcolor\":\"white\",\"linecolor\":\"white\",\"showbackground\":true,\"ticks\":\"\",\"zerolinecolor\":\"white\",\"gridwidth\":2},\"yaxis\":{\"backgroundcolor\":\"#E5ECF6\",\"gridcolor\":\"white\",\"linecolor\":\"white\",\"showbackground\":true,\"ticks\":\"\",\"zerolinecolor\":\"white\",\"gridwidth\":2},\"zaxis\":{\"backgroundcolor\":\"#E5ECF6\",\"gridcolor\":\"white\",\"linecolor\":\"white\",\"showbackground\":true,\"ticks\":\"\",\"zerolinecolor\":\"white\",\"gridwidth\":2}},\"shapedefaults\":{\"line\":{\"color\":\"#2a3f5f\"}},\"annotationdefaults\":{\"arrowcolor\":\"#2a3f5f\",\"arrowhead\":0,\"arrowwidth\":1},\"geo\":{\"bgcolor\":\"white\",\"landcolor\":\"#E5ECF6\",\"subunitcolor\":\"white\",\"showland\":true,\"showlakes\":true,\"lakecolor\":\"white\"},\"title\":{\"x\":0.05},\"mapbox\":{\"style\":\"light\"}}},\"xaxis\":{\"title\":{\"text\":\"Support\"},\"autorange\":\"reversed\"},\"title\":{\"text\":\"Association Rules Strength Distribution\"},\"yaxis\":{\"title\":{\"text\":\"Confidence\"}}},                        {\"responsive\": true}                    ).then(function(){\n",
       "                            \n",
       "var gd = document.getElementById('bfa12feb-deb5-49b8-8507-7ca7c50d9515');\n",
       "var x = new MutationObserver(function (mutations, observer) {{\n",
       "        var display = window.getComputedStyle(gd).display;\n",
       "        if (!display || display === 'none') {{\n",
       "            console.log([gd, 'removed!']);\n",
       "            Plotly.purge(gd);\n",
       "            observer.disconnect();\n",
       "        }}\n",
       "}});\n",
       "\n",
       "// Listen for the removal of the full notebook cells\n",
       "var notebookContainer = gd.closest('#notebook-container');\n",
       "if (notebookContainer) {{\n",
       "    x.observe(notebookContainer, {childList: true});\n",
       "}}\n",
       "\n",
       "// Listen for the clearing of the current output cell\n",
       "var outputEl = gd.closest('.output');\n",
       "if (outputEl) {{\n",
       "    x.observe(outputEl, {childList: true});\n",
       "}}\n",
       "\n",
       "                        })                };                });            </script>        </div>"
      ]
     },
     "metadata": {},
     "output_type": "display_data",
     "jetTransient": {
      "display_id": null
     }
    },
    {
     "data": {
      "application/vnd.plotly.v1+json": {
       "data": [
        {
         "hoverinfo": "none",
         "line": {
          "color": "#888",
          "width": 0.5
         },
         "mode": "lines",
         "x": [
          0.08370848017389187,
          -0.04323903085739984,
          null,
          -0.1634944481049785,
          0.08370848017389187,
          null,
          -0.1634944481049785,
          -0.5381089738688348,
          null,
          -0.1634944481049785,
          -0.7196040014444978,
          null,
          -0.1634944481049785,
          0.5242795087039269,
          null,
          -0.1634944481049785,
          0.6817610027489868,
          null,
          -0.1634944481049785,
          -0.8718051576308615,
          null,
          -0.1634944481049785,
          -0.015759964028648175,
          null,
          -0.1634944481049785,
          -0.45486312584439603,
          null,
          -0.04323903085739984,
          -0.7196040014444978,
          null,
          -0.04323903085739984,
          -0.7542722350595915,
          null,
          -0.04323903085739984,
          -0.643598641021715,
          null,
          -0.04323903085739984,
          0.8302678735631087,
          null,
          -0.04323903085739984,
          -0.8718051576308615,
          null,
          -0.04323903085739984,
          -0.30715894935473764,
          null,
          -0.04323903085739984,
          0.7409445327038847,
          null,
          -0.04323903085739984,
          0.8888597228795739,
          null,
          -0.04323903085739984,
          1.0,
          null,
          -0.04323903085739984,
          -0.22067533294431707,
          null,
          -0.9216434593261902,
          0.032677972286230754,
          null,
          -0.721671276893776,
          -0.9216434593261902,
          null,
          -0.721671276893776,
          -0.9491096403803451,
          null,
          -0.721671276893776,
          -0.09413056764230855,
          null,
          -0.721671276893776,
          -0.643598641021715,
          null,
          0.032677972286230754,
          0.5242795087039269,
          null,
          0.032677972286230754,
          0.3328777595059604,
          null,
          0.032677972286230754,
          -0.1865049168813722,
          null,
          0.032677972286230754,
          -0.6445358698291136,
          null,
          0.032677972286230754,
          -0.015759964028648175,
          null,
          0.032677972286230754,
          0.6369446392059519,
          null,
          0.032677972286230754,
          -0.3861396106535572,
          null,
          -0.4544470482282135,
          0.02903071614221368,
          null,
          0.30589751718771263,
          -0.4544470482282135,
          null,
          0.30589751718771263,
          0.3328777595059604,
          null,
          0.30589751718771263,
          0.8912973161374892,
          null,
          0.30589751718771263,
          0.5146767414279089,
          null,
          0.30589751718771263,
          0.8302678735631087,
          null,
          0.30589751718771263,
          -0.8395983689267932,
          null,
          0.30589751718771263,
          0.7409445327038847,
          null,
          0.30589751718771263,
          0.8888597228795739,
          null,
          0.30589751718771263,
          0.11992142895294766,
          null,
          0.30589751718771263,
          0.3555357649088268,
          null,
          0.02903071614221368,
          -0.9491096403803451,
          null,
          0.02903071614221368,
          0.3903599635752197,
          null,
          0.02903071614221368,
          -0.30715894935473764,
          null,
          0.02903071614221368,
          0.6369446392059519,
          null,
          0.02903071614221368,
          -0.3861396106535572,
          null,
          0.02903071614221368,
          0.8888597228795739,
          null,
          0.02903071614221368,
          0.11992142895294766,
          null,
          0.02903071614221368,
          -0.22067533294431707,
          null,
          0.02903071614221368,
          0.27429030160960305,
          null,
          0.9318831294551804,
          0.02903071614221368,
          null,
          0.19718949674518368,
          0.9318831294551804,
          null,
          0.19718949674518368,
          -0.7542722350595915,
          null,
          0.19718949674518368,
          -0.1865049168813722,
          null,
          0.19718949674518368,
          0.8912973161374892,
          null,
          0.19718949674518368,
          0.6106719151728778,
          null,
          0.19718949674518368,
          -0.4523896463490744,
          null,
          0.19718949674518368,
          -0.30715894935473764,
          null,
          0.19718949674518368,
          0.6369446392059519,
          null,
          0.19718949674518368,
          1.0,
          null,
          0.19718949674518368,
          -0.22067533294431707,
          null,
          0.19718949674518368,
          0.27429030160960305,
          null,
          0.19718949674518368,
          -0.021326040426115668,
          null,
          -0.5381089738688348,
          0.032677972286230754,
          null,
          0.031000522610156282,
          -0.5381089738688348,
          null,
          0.031000522610156282,
          0.6817610027489868,
          null,
          0.031000522610156282,
          -0.6445358698291136,
          null,
          0.031000522610156282,
          -0.09413056764230855,
          null,
          0.031000522610156282,
          0.5146767414279089,
          null,
          0.031000522610156282,
          -0.8395983689267932,
          null,
          0.031000522610156282,
          0.6106719151728778,
          null,
          0.031000522610156282,
          0.3903599635752197,
          null,
          0.031000522610156282,
          -0.4523896463490744,
          null,
          0.031000522610156282,
          -0.8718051576308615,
          null,
          0.031000522610156282,
          -0.015759964028648175,
          null,
          0.031000522610156282,
          -0.45486312584439603,
          null,
          0.031000522610156282,
          -0.3861396106535572,
          null,
          0.031000522610156282,
          0.7409445327038847,
          null,
          0.031000522610156282,
          0.11992142895294766,
          null,
          0.031000522610156282,
          0.3555357649088268,
          null,
          0.031000522610156282,
          1.0,
          null,
          0.031000522610156282,
          0.27429030160960305,
          null,
          0.031000522610156282,
          -0.021326040426115668,
          null,
          -0.7196040014444978,
          0.032677972286230754,
          null,
          0.5242795087039269,
          -0.04323903085739984,
          null,
          0.6817610027489868,
          -0.04323903085739984,
          null,
          0.3328777595059604,
          0.02903071614221368,
          null,
          -0.9491096403803451,
          0.032677972286230754,
          null,
          -0.7542722350595915,
          0.032677972286230754,
          null,
          -0.1865049168813722,
          -0.04323903085739984,
          null,
          -0.6445358698291136,
          -0.04323903085739984,
          null,
          -0.09413056764230855,
          0.032677972286230754,
          null,
          -0.643598641021715,
          0.032677972286230754,
          null,
          0.8912973161374892,
          0.02903071614221368,
          null,
          0.5146767414279089,
          0.02903071614221368,
          null,
          0.8302678735631087,
          0.02903071614221368,
          null,
          -0.8395983689267932,
          -0.04323903085739984,
          null,
          0.6106719151728778,
          0.02903071614221368,
          null,
          0.3903599635752197,
          -0.04323903085739984,
          null,
          -0.4523896463490744,
          -0.04323903085739984,
          null,
          -0.8718051576308615,
          0.032677972286230754,
          null,
          -0.015759964028648175,
          -0.04323903085739984,
          null,
          -0.45486312584439603,
          0.032677972286230754,
          null,
          -0.45486312584439603,
          -0.04323903085739984,
          null,
          -0.30715894935473764,
          0.032677972286230754,
          null,
          0.6369446392059519,
          -0.04323903085739984,
          null,
          -0.3861396106535572,
          -0.04323903085739984,
          null,
          0.7409445327038847,
          0.02903071614221368,
          null,
          0.8888597228795739,
          0.031000522610156282,
          null,
          0.11992142895294766,
          -0.04323903085739984,
          null,
          0.3555357649088268,
          0.02903071614221368,
          null,
          0.3555357649088268,
          -0.04323903085739984,
          null,
          1.0,
          0.02903071614221368,
          null,
          -0.22067533294431707,
          0.031000522610156282,
          null,
          0.27429030160960305,
          -0.04323903085739984,
          null,
          -0.021326040426115668,
          0.02903071614221368,
          null,
          -0.021326040426115668,
          -0.04323903085739984,
          null
         ],
         "y": [
          -0.8574655209877714,
          -0.0058966540852466425,
          null,
          -0.1778086853494797,
          -0.8574655209877714,
          null,
          -0.1778086853494797,
          -0.8329615154542124,
          null,
          -0.1778086853494797,
          -0.6592714142511773,
          null,
          -0.1778086853494797,
          0.5170724781728011,
          null,
          -0.1778086853494797,
          0.03658421367375529,
          null,
          -0.1778086853494797,
          -0.4419303144713903,
          null,
          -0.1778086853494797,
          0.7568444290502014,
          null,
          -0.1778086853494797,
          0.10041444526962659,
          null,
          -0.0058966540852466425,
          -0.6592714142511773,
          null,
          -0.0058966540852466425,
          0.4306682147711923,
          null,
          -0.0058966540852466425,
          0.6141824394328868,
          null,
          -0.0058966540852466425,
          -0.47469151291860207,
          null,
          -0.0058966540852466425,
          -0.4419303144713903,
          null,
          -0.0058966540852466425,
          -0.9341816588441769,
          null,
          -0.0058966540852466425,
          0.6967713795954315,
          null,
          -0.0058966540852466425,
          0.2184357752474888,
          null,
          -0.0058966540852466425,
          0.02768469904090016,
          null,
          -0.0058966540852466425,
          0.6635973599431307,
          null,
          -0.14571027542343398,
          -0.06571054111752866,
          null,
          -0.1971429900175733,
          -0.14571027542343398,
          null,
          -0.1971429900175733,
          0.1262494050164751,
          null,
          -0.1971429900175733,
          -0.9761588407284307,
          null,
          -0.1971429900175733,
          0.6141824394328868,
          null,
          -0.06571054111752866,
          0.5170724781728011,
          null,
          -0.06571054111752866,
          -0.8018577685844122,
          null,
          -0.06571054111752866,
          0.9503998889524399,
          null,
          -0.06571054111752866,
          -0.41325731506143415,
          null,
          -0.06571054111752866,
          0.7568444290502014,
          null,
          -0.06571054111752866,
          -0.3723295251464043,
          null,
          -0.06571054111752866,
          -0.6410582100430773,
          null,
          0.5814657285656141,
          0.07556365166139167,
          null,
          0.24732265176736898,
          0.5814657285656141,
          null,
          0.24732265176736898,
          -0.8018577685844122,
          null,
          0.24732265176736898,
          0.46539775832421226,
          null,
          0.24732265176736898,
          0.8879273390354787,
          null,
          0.24732265176736898,
          -0.47469151291860207,
          null,
          0.24732265176736898,
          0.2677867123535098,
          null,
          0.24732265176736898,
          0.6967713795954315,
          null,
          0.24732265176736898,
          0.2184357752474888,
          null,
          0.24732265176736898,
          0.9413192572458555,
          null,
          0.24732265176736898,
          -0.2697929236503445,
          null,
          0.07556365166139167,
          0.1262494050164751,
          null,
          0.07556365166139167,
          -0.6276154734190982,
          null,
          0.07556365166139167,
          -0.9341816588441769,
          null,
          0.07556365166139167,
          -0.3723295251464043,
          null,
          0.07556365166139167,
          -0.6410582100430773,
          null,
          0.07556365166139167,
          0.2184357752474888,
          null,
          0.07556365166139167,
          0.9413192572458555,
          null,
          0.07556365166139167,
          0.6635973599431307,
          null,
          0.07556365166139167,
          0.7222406191140609,
          null,
          -0.2185370931002153,
          0.07556365166139167,
          null,
          0.11594590340989502,
          -0.2185370931002153,
          null,
          0.11594590340989502,
          0.4306682147711923,
          null,
          0.11594590340989502,
          0.9503998889524399,
          null,
          0.11594590340989502,
          0.46539775832421226,
          null,
          0.11594590340989502,
          -0.7540317950722792,
          null,
          0.11594590340989502,
          0.8706175491412409,
          null,
          0.11594590340989502,
          -0.9341816588441769,
          null,
          0.11594590340989502,
          -0.3723295251464043,
          null,
          0.11594590340989502,
          0.02768469904090016,
          null,
          0.11594590340989502,
          0.6635973599431307,
          null,
          0.11594590340989502,
          0.7222406191140609,
          null,
          0.11594590340989502,
          -0.46031422917331005,
          null,
          -0.8329615154542124,
          -0.06571054111752866,
          null,
          0.01323235811464403,
          -0.8329615154542124,
          null,
          0.01323235811464403,
          0.03658421367375529,
          null,
          0.01323235811464403,
          -0.41325731506143415,
          null,
          0.01323235811464403,
          -0.9761588407284307,
          null,
          0.01323235811464403,
          0.8879273390354787,
          null,
          0.01323235811464403,
          0.2677867123535098,
          null,
          0.01323235811464403,
          -0.7540317950722792,
          null,
          0.01323235811464403,
          -0.6276154734190982,
          null,
          0.01323235811464403,
          0.8706175491412409,
          null,
          0.01323235811464403,
          -0.4419303144713903,
          null,
          0.01323235811464403,
          0.7568444290502014,
          null,
          0.01323235811464403,
          0.10041444526962659,
          null,
          0.01323235811464403,
          -0.6410582100430773,
          null,
          0.01323235811464403,
          0.6967713795954315,
          null,
          0.01323235811464403,
          0.9413192572458555,
          null,
          0.01323235811464403,
          -0.2697929236503445,
          null,
          0.01323235811464403,
          0.02768469904090016,
          null,
          0.01323235811464403,
          0.7222406191140609,
          null,
          0.01323235811464403,
          -0.46031422917331005,
          null,
          -0.6592714142511773,
          -0.06571054111752866,
          null,
          0.5170724781728011,
          -0.0058966540852466425,
          null,
          0.03658421367375529,
          -0.0058966540852466425,
          null,
          -0.8018577685844122,
          0.07556365166139167,
          null,
          0.1262494050164751,
          -0.06571054111752866,
          null,
          0.4306682147711923,
          -0.06571054111752866,
          null,
          0.9503998889524399,
          -0.0058966540852466425,
          null,
          -0.41325731506143415,
          -0.0058966540852466425,
          null,
          -0.9761588407284307,
          -0.06571054111752866,
          null,
          0.6141824394328868,
          -0.06571054111752866,
          null,
          0.46539775832421226,
          0.07556365166139167,
          null,
          0.8879273390354787,
          0.07556365166139167,
          null,
          -0.47469151291860207,
          0.07556365166139167,
          null,
          0.2677867123535098,
          -0.0058966540852466425,
          null,
          -0.7540317950722792,
          0.07556365166139167,
          null,
          -0.6276154734190982,
          -0.0058966540852466425,
          null,
          0.8706175491412409,
          -0.0058966540852466425,
          null,
          -0.4419303144713903,
          -0.06571054111752866,
          null,
          0.7568444290502014,
          -0.0058966540852466425,
          null,
          0.10041444526962659,
          -0.06571054111752866,
          null,
          0.10041444526962659,
          -0.0058966540852466425,
          null,
          -0.9341816588441769,
          -0.06571054111752866,
          null,
          -0.3723295251464043,
          -0.0058966540852466425,
          null,
          -0.6410582100430773,
          -0.0058966540852466425,
          null,
          0.6967713795954315,
          0.07556365166139167,
          null,
          0.2184357752474888,
          0.01323235811464403,
          null,
          0.9413192572458555,
          -0.0058966540852466425,
          null,
          -0.2697929236503445,
          0.07556365166139167,
          null,
          -0.2697929236503445,
          -0.0058966540852466425,
          null,
          0.02768469904090016,
          0.07556365166139167,
          null,
          0.6635973599431307,
          0.01323235811464403,
          null,
          0.7222406191140609,
          -0.0058966540852466425,
          null,
          -0.46031422917331005,
          0.07556365166139167,
          null,
          -0.46031422917331005,
          -0.0058966540852466425,
          null
         ],
         "type": "scatter"
        },
        {
         "hoverinfo": "text",
         "marker": {
          "color": [],
          "colorbar": {
           "thickness": 15,
           "title": {
            "side": "right",
            "text": "Node Connections"
           },
           "xanchor": "left"
          },
          "colorscale": [
           [
            0.0,
            "rgb(255,255,217)"
           ],
           [
            0.125,
            "rgb(237,248,177)"
           ],
           [
            0.25,
            "rgb(199,233,180)"
           ],
           [
            0.375,
            "rgb(127,205,187)"
           ],
           [
            0.5,
            "rgb(65,182,196)"
           ],
           [
            0.625,
            "rgb(29,145,192)"
           ],
           [
            0.75,
            "rgb(34,94,168)"
           ],
           [
            0.875,
            "rgb(37,52,148)"
           ],
           [
            1.0,
            "rgb(8,29,88)"
           ]
          ],
          "line": {
           "width": 2
          },
          "reversescale": true,
          "showscale": true,
          "size": 10
         },
         "mode": "markers",
         "text": [
          "0",
          "Брюки",
          "Футболка",
          "1",
          "Шапка",
          "Джинсы",
          "2",
          "Кроссовки",
          "Куртка",
          "3",
          "Рубашка",
          "4",
          "Сумка",
          "5",
          "6",
          "7",
          "8",
          "9",
          "10",
          "11",
          "12",
          "13",
          "14",
          "15",
          "16",
          "17",
          "18",
          "19",
          "20",
          "21",
          "22",
          "23",
          "24",
          "25",
          "26",
          "27",
          "28",
          "29",
          "30",
          "31",
          "32",
          "33",
          "34",
          "35"
         ],
         "x": [
          0.08370848017389187,
          -0.1634944481049785,
          -0.04323903085739984,
          -0.9216434593261902,
          -0.721671276893776,
          0.032677972286230754,
          -0.4544470482282135,
          0.30589751718771263,
          0.02903071614221368,
          0.9318831294551804,
          0.19718949674518368,
          -0.5381089738688348,
          0.031000522610156282,
          -0.7196040014444978,
          0.5242795087039269,
          0.6817610027489868,
          0.3328777595059604,
          -0.9491096403803451,
          -0.7542722350595915,
          -0.1865049168813722,
          -0.6445358698291136,
          -0.09413056764230855,
          -0.643598641021715,
          0.8912973161374892,
          0.5146767414279089,
          0.8302678735631087,
          -0.8395983689267932,
          0.6106719151728778,
          0.3903599635752197,
          -0.4523896463490744,
          -0.8718051576308615,
          -0.015759964028648175,
          -0.45486312584439603,
          -0.30715894935473764,
          0.6369446392059519,
          -0.3861396106535572,
          0.7409445327038847,
          0.8888597228795739,
          0.11992142895294766,
          0.3555357649088268,
          1.0,
          -0.22067533294431707,
          0.27429030160960305,
          -0.021326040426115668
         ],
         "y": [
          -0.8574655209877714,
          -0.1778086853494797,
          -0.0058966540852466425,
          -0.14571027542343398,
          -0.1971429900175733,
          -0.06571054111752866,
          0.5814657285656141,
          0.24732265176736898,
          0.07556365166139167,
          -0.2185370931002153,
          0.11594590340989502,
          -0.8329615154542124,
          0.01323235811464403,
          -0.6592714142511773,
          0.5170724781728011,
          0.03658421367375529,
          -0.8018577685844122,
          0.1262494050164751,
          0.4306682147711923,
          0.9503998889524399,
          -0.41325731506143415,
          -0.9761588407284307,
          0.6141824394328868,
          0.46539775832421226,
          0.8879273390354787,
          -0.47469151291860207,
          0.2677867123535098,
          -0.7540317950722792,
          -0.6276154734190982,
          0.8706175491412409,
          -0.4419303144713903,
          0.7568444290502014,
          0.10041444526962659,
          -0.9341816588441769,
          -0.3723295251464043,
          -0.6410582100430773,
          0.6967713795954315,
          0.2184357752474888,
          0.9413192572458555,
          -0.2697929236503445,
          0.02768469904090016,
          0.6635973599431307,
          0.7222406191140609,
          -0.46031422917331005
         ],
         "type": "scatter"
        }
       ],
       "layout": {
        "annotations": [
         {
          "showarrow": false,
          "text": "Python code: <a href='https://plotly.com/ipython-notebooks/network-graphs/'> https://plotly.com/ipython-notebooks/network-graphs/</a>",
          "x": 0.005,
          "xref": "paper",
          "y": -0.002,
          "yref": "paper"
         }
        ],
        "hovermode": "closest",
        "margin": {
         "b": 20,
         "l": 5,
         "r": 5,
         "t": 40
        },
        "showlegend": false,
        "title": {
         "font": {
          "size": 16
         },
         "text": "<br>Network graph made with Python"
        },
        "xaxis": {
         "showgrid": false,
         "showticklabels": false,
         "zeroline": false
        },
        "yaxis": {
         "showgrid": false,
         "showticklabels": false,
         "zeroline": false
        },
        "template": {
         "data": {
          "histogram2dcontour": [
           {
            "type": "histogram2dcontour",
            "colorbar": {
             "outlinewidth": 0,
             "ticks": ""
            },
            "colorscale": [
             [
              0.0,
              "#0d0887"
             ],
             [
              0.1111111111111111,
              "#46039f"
             ],
             [
              0.2222222222222222,
              "#7201a8"
             ],
             [
              0.3333333333333333,
              "#9c179e"
             ],
             [
              0.4444444444444444,
              "#bd3786"
             ],
             [
              0.5555555555555556,
              "#d8576b"
             ],
             [
              0.6666666666666666,
              "#ed7953"
             ],
             [
              0.7777777777777778,
              "#fb9f3a"
             ],
             [
              0.8888888888888888,
              "#fdca26"
             ],
             [
              1.0,
              "#f0f921"
             ]
            ]
           }
          ],
          "choropleth": [
           {
            "type": "choropleth",
            "colorbar": {
             "outlinewidth": 0,
             "ticks": ""
            }
           }
          ],
          "histogram2d": [
           {
            "type": "histogram2d",
            "colorbar": {
             "outlinewidth": 0,
             "ticks": ""
            },
            "colorscale": [
             [
              0.0,
              "#0d0887"
             ],
             [
              0.1111111111111111,
              "#46039f"
             ],
             [
              0.2222222222222222,
              "#7201a8"
             ],
             [
              0.3333333333333333,
              "#9c179e"
             ],
             [
              0.4444444444444444,
              "#bd3786"
             ],
             [
              0.5555555555555556,
              "#d8576b"
             ],
             [
              0.6666666666666666,
              "#ed7953"
             ],
             [
              0.7777777777777778,
              "#fb9f3a"
             ],
             [
              0.8888888888888888,
              "#fdca26"
             ],
             [
              1.0,
              "#f0f921"
             ]
            ]
           }
          ],
          "heatmap": [
           {
            "type": "heatmap",
            "colorbar": {
             "outlinewidth": 0,
             "ticks": ""
            },
            "colorscale": [
             [
              0.0,
              "#0d0887"
             ],
             [
              0.1111111111111111,
              "#46039f"
             ],
             [
              0.2222222222222222,
              "#7201a8"
             ],
             [
              0.3333333333333333,
              "#9c179e"
             ],
             [
              0.4444444444444444,
              "#bd3786"
             ],
             [
              0.5555555555555556,
              "#d8576b"
             ],
             [
              0.6666666666666666,
              "#ed7953"
             ],
             [
              0.7777777777777778,
              "#fb9f3a"
             ],
             [
              0.8888888888888888,
              "#fdca26"
             ],
             [
              1.0,
              "#f0f921"
             ]
            ]
           }
          ],
          "heatmapgl": [
           {
            "type": "heatmapgl",
            "colorbar": {
             "outlinewidth": 0,
             "ticks": ""
            },
            "colorscale": [
             [
              0.0,
              "#0d0887"
             ],
             [
              0.1111111111111111,
              "#46039f"
             ],
             [
              0.2222222222222222,
              "#7201a8"
             ],
             [
              0.3333333333333333,
              "#9c179e"
             ],
             [
              0.4444444444444444,
              "#bd3786"
             ],
             [
              0.5555555555555556,
              "#d8576b"
             ],
             [
              0.6666666666666666,
              "#ed7953"
             ],
             [
              0.7777777777777778,
              "#fb9f3a"
             ],
             [
              0.8888888888888888,
              "#fdca26"
             ],
             [
              1.0,
              "#f0f921"
             ]
            ]
           }
          ],
          "contourcarpet": [
           {
            "type": "contourcarpet",
            "colorbar": {
             "outlinewidth": 0,
             "ticks": ""
            }
           }
          ],
          "contour": [
           {
            "type": "contour",
            "colorbar": {
             "outlinewidth": 0,
             "ticks": ""
            },
            "colorscale": [
             [
              0.0,
              "#0d0887"
             ],
             [
              0.1111111111111111,
              "#46039f"
             ],
             [
              0.2222222222222222,
              "#7201a8"
             ],
             [
              0.3333333333333333,
              "#9c179e"
             ],
             [
              0.4444444444444444,
              "#bd3786"
             ],
             [
              0.5555555555555556,
              "#d8576b"
             ],
             [
              0.6666666666666666,
              "#ed7953"
             ],
             [
              0.7777777777777778,
              "#fb9f3a"
             ],
             [
              0.8888888888888888,
              "#fdca26"
             ],
             [
              1.0,
              "#f0f921"
             ]
            ]
           }
          ],
          "surface": [
           {
            "type": "surface",
            "colorbar": {
             "outlinewidth": 0,
             "ticks": ""
            },
            "colorscale": [
             [
              0.0,
              "#0d0887"
             ],
             [
              0.1111111111111111,
              "#46039f"
             ],
             [
              0.2222222222222222,
              "#7201a8"
             ],
             [
              0.3333333333333333,
              "#9c179e"
             ],
             [
              0.4444444444444444,
              "#bd3786"
             ],
             [
              0.5555555555555556,
              "#d8576b"
             ],
             [
              0.6666666666666666,
              "#ed7953"
             ],
             [
              0.7777777777777778,
              "#fb9f3a"
             ],
             [
              0.8888888888888888,
              "#fdca26"
             ],
             [
              1.0,
              "#f0f921"
             ]
            ]
           }
          ],
          "mesh3d": [
           {
            "type": "mesh3d",
            "colorbar": {
             "outlinewidth": 0,
             "ticks": ""
            }
           }
          ],
          "scatter": [
           {
            "fillpattern": {
             "fillmode": "overlay",
             "size": 10,
             "solidity": 0.2
            },
            "type": "scatter"
           }
          ],
          "parcoords": [
           {
            "type": "parcoords",
            "line": {
             "colorbar": {
              "outlinewidth": 0,
              "ticks": ""
             }
            }
           }
          ],
          "scatterpolargl": [
           {
            "type": "scatterpolargl",
            "marker": {
             "colorbar": {
              "outlinewidth": 0,
              "ticks": ""
             }
            }
           }
          ],
          "bar": [
           {
            "error_x": {
             "color": "#2a3f5f"
            },
            "error_y": {
             "color": "#2a3f5f"
            },
            "marker": {
             "line": {
              "color": "#E5ECF6",
              "width": 0.5
             },
             "pattern": {
              "fillmode": "overlay",
              "size": 10,
              "solidity": 0.2
             }
            },
            "type": "bar"
           }
          ],
          "scattergeo": [
           {
            "type": "scattergeo",
            "marker": {
             "colorbar": {
              "outlinewidth": 0,
              "ticks": ""
             }
            }
           }
          ],
          "scatterpolar": [
           {
            "type": "scatterpolar",
            "marker": {
             "colorbar": {
              "outlinewidth": 0,
              "ticks": ""
             }
            }
           }
          ],
          "histogram": [
           {
            "marker": {
             "pattern": {
              "fillmode": "overlay",
              "size": 10,
              "solidity": 0.2
             }
            },
            "type": "histogram"
           }
          ],
          "scattergl": [
           {
            "type": "scattergl",
            "marker": {
             "colorbar": {
              "outlinewidth": 0,
              "ticks": ""
             }
            }
           }
          ],
          "scatter3d": [
           {
            "type": "scatter3d",
            "line": {
             "colorbar": {
              "outlinewidth": 0,
              "ticks": ""
             }
            },
            "marker": {
             "colorbar": {
              "outlinewidth": 0,
              "ticks": ""
             }
            }
           }
          ],
          "scattermapbox": [
           {
            "type": "scattermapbox",
            "marker": {
             "colorbar": {
              "outlinewidth": 0,
              "ticks": ""
             }
            }
           }
          ],
          "scatterternary": [
           {
            "type": "scatterternary",
            "marker": {
             "colorbar": {
              "outlinewidth": 0,
              "ticks": ""
             }
            }
           }
          ],
          "scattercarpet": [
           {
            "type": "scattercarpet",
            "marker": {
             "colorbar": {
              "outlinewidth": 0,
              "ticks": ""
             }
            }
           }
          ],
          "carpet": [
           {
            "aaxis": {
             "endlinecolor": "#2a3f5f",
             "gridcolor": "white",
             "linecolor": "white",
             "minorgridcolor": "white",
             "startlinecolor": "#2a3f5f"
            },
            "baxis": {
             "endlinecolor": "#2a3f5f",
             "gridcolor": "white",
             "linecolor": "white",
             "minorgridcolor": "white",
             "startlinecolor": "#2a3f5f"
            },
            "type": "carpet"
           }
          ],
          "table": [
           {
            "cells": {
             "fill": {
              "color": "#EBF0F8"
             },
             "line": {
              "color": "white"
             }
            },
            "header": {
             "fill": {
              "color": "#C8D4E3"
             },
             "line": {
              "color": "white"
             }
            },
            "type": "table"
           }
          ],
          "barpolar": [
           {
            "marker": {
             "line": {
              "color": "#E5ECF6",
              "width": 0.5
             },
             "pattern": {
              "fillmode": "overlay",
              "size": 10,
              "solidity": 0.2
             }
            },
            "type": "barpolar"
           }
          ],
          "pie": [
           {
            "automargin": true,
            "type": "pie"
           }
          ]
         },
         "layout": {
          "autotypenumbers": "strict",
          "colorway": [
           "#636efa",
           "#EF553B",
           "#00cc96",
           "#ab63fa",
           "#FFA15A",
           "#19d3f3",
           "#FF6692",
           "#B6E880",
           "#FF97FF",
           "#FECB52"
          ],
          "font": {
           "color": "#2a3f5f"
          },
          "hovermode": "closest",
          "hoverlabel": {
           "align": "left"
          },
          "paper_bgcolor": "white",
          "plot_bgcolor": "#E5ECF6",
          "polar": {
           "bgcolor": "#E5ECF6",
           "angularaxis": {
            "gridcolor": "white",
            "linecolor": "white",
            "ticks": ""
           },
           "radialaxis": {
            "gridcolor": "white",
            "linecolor": "white",
            "ticks": ""
           }
          },
          "ternary": {
           "bgcolor": "#E5ECF6",
           "aaxis": {
            "gridcolor": "white",
            "linecolor": "white",
            "ticks": ""
           },
           "baxis": {
            "gridcolor": "white",
            "linecolor": "white",
            "ticks": ""
           },
           "caxis": {
            "gridcolor": "white",
            "linecolor": "white",
            "ticks": ""
           }
          },
          "coloraxis": {
           "colorbar": {
            "outlinewidth": 0,
            "ticks": ""
           }
          },
          "colorscale": {
           "sequential": [
            [
             0.0,
             "#0d0887"
            ],
            [
             0.1111111111111111,
             "#46039f"
            ],
            [
             0.2222222222222222,
             "#7201a8"
            ],
            [
             0.3333333333333333,
             "#9c179e"
            ],
            [
             0.4444444444444444,
             "#bd3786"
            ],
            [
             0.5555555555555556,
             "#d8576b"
            ],
            [
             0.6666666666666666,
             "#ed7953"
            ],
            [
             0.7777777777777778,
             "#fb9f3a"
            ],
            [
             0.8888888888888888,
             "#fdca26"
            ],
            [
             1.0,
             "#f0f921"
            ]
           ],
           "sequentialminus": [
            [
             0.0,
             "#0d0887"
            ],
            [
             0.1111111111111111,
             "#46039f"
            ],
            [
             0.2222222222222222,
             "#7201a8"
            ],
            [
             0.3333333333333333,
             "#9c179e"
            ],
            [
             0.4444444444444444,
             "#bd3786"
            ],
            [
             0.5555555555555556,
             "#d8576b"
            ],
            [
             0.6666666666666666,
             "#ed7953"
            ],
            [
             0.7777777777777778,
             "#fb9f3a"
            ],
            [
             0.8888888888888888,
             "#fdca26"
            ],
            [
             1.0,
             "#f0f921"
            ]
           ],
           "diverging": [
            [
             0,
             "#8e0152"
            ],
            [
             0.1,
             "#c51b7d"
            ],
            [
             0.2,
             "#de77ae"
            ],
            [
             0.3,
             "#f1b6da"
            ],
            [
             0.4,
             "#fde0ef"
            ],
            [
             0.5,
             "#f7f7f7"
            ],
            [
             0.6,
             "#e6f5d0"
            ],
            [
             0.7,
             "#b8e186"
            ],
            [
             0.8,
             "#7fbc41"
            ],
            [
             0.9,
             "#4d9221"
            ],
            [
             1,
             "#276419"
            ]
           ]
          },
          "xaxis": {
           "gridcolor": "white",
           "linecolor": "white",
           "ticks": "",
           "title": {
            "standoff": 15
           },
           "zerolinecolor": "white",
           "automargin": true,
           "zerolinewidth": 2
          },
          "yaxis": {
           "gridcolor": "white",
           "linecolor": "white",
           "ticks": "",
           "title": {
            "standoff": 15
           },
           "zerolinecolor": "white",
           "automargin": true,
           "zerolinewidth": 2
          },
          "scene": {
           "xaxis": {
            "backgroundcolor": "#E5ECF6",
            "gridcolor": "white",
            "linecolor": "white",
            "showbackground": true,
            "ticks": "",
            "zerolinecolor": "white",
            "gridwidth": 2
           },
           "yaxis": {
            "backgroundcolor": "#E5ECF6",
            "gridcolor": "white",
            "linecolor": "white",
            "showbackground": true,
            "ticks": "",
            "zerolinecolor": "white",
            "gridwidth": 2
           },
           "zaxis": {
            "backgroundcolor": "#E5ECF6",
            "gridcolor": "white",
            "linecolor": "white",
            "showbackground": true,
            "ticks": "",
            "zerolinecolor": "white",
            "gridwidth": 2
           }
          },
          "shapedefaults": {
           "line": {
            "color": "#2a3f5f"
           }
          },
          "annotationdefaults": {
           "arrowcolor": "#2a3f5f",
           "arrowhead": 0,
           "arrowwidth": 1
          },
          "geo": {
           "bgcolor": "white",
           "landcolor": "#E5ECF6",
           "subunitcolor": "white",
           "showland": true,
           "showlakes": true,
           "lakecolor": "white"
          },
          "title": {
           "x": 0.05
          },
          "mapbox": {
           "style": "light"
          }
         }
        }
       },
       "config": {
        "plotlyServerURL": "https://plot.ly"
       }
      },
      "text/html": [
       "<div>                            <div id=\"4a2f8c73-c885-48f8-a181-6206e6ae6e96\" class=\"plotly-graph-div\" style=\"height:525px; width:100%;\"></div>            <script type=\"text/javascript\">                require([\"plotly\"], function(Plotly) {                    window.PLOTLYENV=window.PLOTLYENV || {};                                    if (document.getElementById(\"4a2f8c73-c885-48f8-a181-6206e6ae6e96\")) {                    Plotly.newPlot(                        \"4a2f8c73-c885-48f8-a181-6206e6ae6e96\",                        [{\"hoverinfo\":\"none\",\"line\":{\"color\":\"#888\",\"width\":0.5},\"mode\":\"lines\",\"x\":[0.08370848017389187,-0.04323903085739984,null,-0.1634944481049785,0.08370848017389187,null,-0.1634944481049785,-0.5381089738688348,null,-0.1634944481049785,-0.7196040014444978,null,-0.1634944481049785,0.5242795087039269,null,-0.1634944481049785,0.6817610027489868,null,-0.1634944481049785,-0.8718051576308615,null,-0.1634944481049785,-0.015759964028648175,null,-0.1634944481049785,-0.45486312584439603,null,-0.04323903085739984,-0.7196040014444978,null,-0.04323903085739984,-0.7542722350595915,null,-0.04323903085739984,-0.643598641021715,null,-0.04323903085739984,0.8302678735631087,null,-0.04323903085739984,-0.8718051576308615,null,-0.04323903085739984,-0.30715894935473764,null,-0.04323903085739984,0.7409445327038847,null,-0.04323903085739984,0.8888597228795739,null,-0.04323903085739984,1.0,null,-0.04323903085739984,-0.22067533294431707,null,-0.9216434593261902,0.032677972286230754,null,-0.721671276893776,-0.9216434593261902,null,-0.721671276893776,-0.9491096403803451,null,-0.721671276893776,-0.09413056764230855,null,-0.721671276893776,-0.643598641021715,null,0.032677972286230754,0.5242795087039269,null,0.032677972286230754,0.3328777595059604,null,0.032677972286230754,-0.1865049168813722,null,0.032677972286230754,-0.6445358698291136,null,0.032677972286230754,-0.015759964028648175,null,0.032677972286230754,0.6369446392059519,null,0.032677972286230754,-0.3861396106535572,null,-0.4544470482282135,0.02903071614221368,null,0.30589751718771263,-0.4544470482282135,null,0.30589751718771263,0.3328777595059604,null,0.30589751718771263,0.8912973161374892,null,0.30589751718771263,0.5146767414279089,null,0.30589751718771263,0.8302678735631087,null,0.30589751718771263,-0.8395983689267932,null,0.30589751718771263,0.7409445327038847,null,0.30589751718771263,0.8888597228795739,null,0.30589751718771263,0.11992142895294766,null,0.30589751718771263,0.3555357649088268,null,0.02903071614221368,-0.9491096403803451,null,0.02903071614221368,0.3903599635752197,null,0.02903071614221368,-0.30715894935473764,null,0.02903071614221368,0.6369446392059519,null,0.02903071614221368,-0.3861396106535572,null,0.02903071614221368,0.8888597228795739,null,0.02903071614221368,0.11992142895294766,null,0.02903071614221368,-0.22067533294431707,null,0.02903071614221368,0.27429030160960305,null,0.9318831294551804,0.02903071614221368,null,0.19718949674518368,0.9318831294551804,null,0.19718949674518368,-0.7542722350595915,null,0.19718949674518368,-0.1865049168813722,null,0.19718949674518368,0.8912973161374892,null,0.19718949674518368,0.6106719151728778,null,0.19718949674518368,-0.4523896463490744,null,0.19718949674518368,-0.30715894935473764,null,0.19718949674518368,0.6369446392059519,null,0.19718949674518368,1.0,null,0.19718949674518368,-0.22067533294431707,null,0.19718949674518368,0.27429030160960305,null,0.19718949674518368,-0.021326040426115668,null,-0.5381089738688348,0.032677972286230754,null,0.031000522610156282,-0.5381089738688348,null,0.031000522610156282,0.6817610027489868,null,0.031000522610156282,-0.6445358698291136,null,0.031000522610156282,-0.09413056764230855,null,0.031000522610156282,0.5146767414279089,null,0.031000522610156282,-0.8395983689267932,null,0.031000522610156282,0.6106719151728778,null,0.031000522610156282,0.3903599635752197,null,0.031000522610156282,-0.4523896463490744,null,0.031000522610156282,-0.8718051576308615,null,0.031000522610156282,-0.015759964028648175,null,0.031000522610156282,-0.45486312584439603,null,0.031000522610156282,-0.3861396106535572,null,0.031000522610156282,0.7409445327038847,null,0.031000522610156282,0.11992142895294766,null,0.031000522610156282,0.3555357649088268,null,0.031000522610156282,1.0,null,0.031000522610156282,0.27429030160960305,null,0.031000522610156282,-0.021326040426115668,null,-0.7196040014444978,0.032677972286230754,null,0.5242795087039269,-0.04323903085739984,null,0.6817610027489868,-0.04323903085739984,null,0.3328777595059604,0.02903071614221368,null,-0.9491096403803451,0.032677972286230754,null,-0.7542722350595915,0.032677972286230754,null,-0.1865049168813722,-0.04323903085739984,null,-0.6445358698291136,-0.04323903085739984,null,-0.09413056764230855,0.032677972286230754,null,-0.643598641021715,0.032677972286230754,null,0.8912973161374892,0.02903071614221368,null,0.5146767414279089,0.02903071614221368,null,0.8302678735631087,0.02903071614221368,null,-0.8395983689267932,-0.04323903085739984,null,0.6106719151728778,0.02903071614221368,null,0.3903599635752197,-0.04323903085739984,null,-0.4523896463490744,-0.04323903085739984,null,-0.8718051576308615,0.032677972286230754,null,-0.015759964028648175,-0.04323903085739984,null,-0.45486312584439603,0.032677972286230754,null,-0.45486312584439603,-0.04323903085739984,null,-0.30715894935473764,0.032677972286230754,null,0.6369446392059519,-0.04323903085739984,null,-0.3861396106535572,-0.04323903085739984,null,0.7409445327038847,0.02903071614221368,null,0.8888597228795739,0.031000522610156282,null,0.11992142895294766,-0.04323903085739984,null,0.3555357649088268,0.02903071614221368,null,0.3555357649088268,-0.04323903085739984,null,1.0,0.02903071614221368,null,-0.22067533294431707,0.031000522610156282,null,0.27429030160960305,-0.04323903085739984,null,-0.021326040426115668,0.02903071614221368,null,-0.021326040426115668,-0.04323903085739984,null],\"y\":[-0.8574655209877714,-0.0058966540852466425,null,-0.1778086853494797,-0.8574655209877714,null,-0.1778086853494797,-0.8329615154542124,null,-0.1778086853494797,-0.6592714142511773,null,-0.1778086853494797,0.5170724781728011,null,-0.1778086853494797,0.03658421367375529,null,-0.1778086853494797,-0.4419303144713903,null,-0.1778086853494797,0.7568444290502014,null,-0.1778086853494797,0.10041444526962659,null,-0.0058966540852466425,-0.6592714142511773,null,-0.0058966540852466425,0.4306682147711923,null,-0.0058966540852466425,0.6141824394328868,null,-0.0058966540852466425,-0.47469151291860207,null,-0.0058966540852466425,-0.4419303144713903,null,-0.0058966540852466425,-0.9341816588441769,null,-0.0058966540852466425,0.6967713795954315,null,-0.0058966540852466425,0.2184357752474888,null,-0.0058966540852466425,0.02768469904090016,null,-0.0058966540852466425,0.6635973599431307,null,-0.14571027542343398,-0.06571054111752866,null,-0.1971429900175733,-0.14571027542343398,null,-0.1971429900175733,0.1262494050164751,null,-0.1971429900175733,-0.9761588407284307,null,-0.1971429900175733,0.6141824394328868,null,-0.06571054111752866,0.5170724781728011,null,-0.06571054111752866,-0.8018577685844122,null,-0.06571054111752866,0.9503998889524399,null,-0.06571054111752866,-0.41325731506143415,null,-0.06571054111752866,0.7568444290502014,null,-0.06571054111752866,-0.3723295251464043,null,-0.06571054111752866,-0.6410582100430773,null,0.5814657285656141,0.07556365166139167,null,0.24732265176736898,0.5814657285656141,null,0.24732265176736898,-0.8018577685844122,null,0.24732265176736898,0.46539775832421226,null,0.24732265176736898,0.8879273390354787,null,0.24732265176736898,-0.47469151291860207,null,0.24732265176736898,0.2677867123535098,null,0.24732265176736898,0.6967713795954315,null,0.24732265176736898,0.2184357752474888,null,0.24732265176736898,0.9413192572458555,null,0.24732265176736898,-0.2697929236503445,null,0.07556365166139167,0.1262494050164751,null,0.07556365166139167,-0.6276154734190982,null,0.07556365166139167,-0.9341816588441769,null,0.07556365166139167,-0.3723295251464043,null,0.07556365166139167,-0.6410582100430773,null,0.07556365166139167,0.2184357752474888,null,0.07556365166139167,0.9413192572458555,null,0.07556365166139167,0.6635973599431307,null,0.07556365166139167,0.7222406191140609,null,-0.2185370931002153,0.07556365166139167,null,0.11594590340989502,-0.2185370931002153,null,0.11594590340989502,0.4306682147711923,null,0.11594590340989502,0.9503998889524399,null,0.11594590340989502,0.46539775832421226,null,0.11594590340989502,-0.7540317950722792,null,0.11594590340989502,0.8706175491412409,null,0.11594590340989502,-0.9341816588441769,null,0.11594590340989502,-0.3723295251464043,null,0.11594590340989502,0.02768469904090016,null,0.11594590340989502,0.6635973599431307,null,0.11594590340989502,0.7222406191140609,null,0.11594590340989502,-0.46031422917331005,null,-0.8329615154542124,-0.06571054111752866,null,0.01323235811464403,-0.8329615154542124,null,0.01323235811464403,0.03658421367375529,null,0.01323235811464403,-0.41325731506143415,null,0.01323235811464403,-0.9761588407284307,null,0.01323235811464403,0.8879273390354787,null,0.01323235811464403,0.2677867123535098,null,0.01323235811464403,-0.7540317950722792,null,0.01323235811464403,-0.6276154734190982,null,0.01323235811464403,0.8706175491412409,null,0.01323235811464403,-0.4419303144713903,null,0.01323235811464403,0.7568444290502014,null,0.01323235811464403,0.10041444526962659,null,0.01323235811464403,-0.6410582100430773,null,0.01323235811464403,0.6967713795954315,null,0.01323235811464403,0.9413192572458555,null,0.01323235811464403,-0.2697929236503445,null,0.01323235811464403,0.02768469904090016,null,0.01323235811464403,0.7222406191140609,null,0.01323235811464403,-0.46031422917331005,null,-0.6592714142511773,-0.06571054111752866,null,0.5170724781728011,-0.0058966540852466425,null,0.03658421367375529,-0.0058966540852466425,null,-0.8018577685844122,0.07556365166139167,null,0.1262494050164751,-0.06571054111752866,null,0.4306682147711923,-0.06571054111752866,null,0.9503998889524399,-0.0058966540852466425,null,-0.41325731506143415,-0.0058966540852466425,null,-0.9761588407284307,-0.06571054111752866,null,0.6141824394328868,-0.06571054111752866,null,0.46539775832421226,0.07556365166139167,null,0.8879273390354787,0.07556365166139167,null,-0.47469151291860207,0.07556365166139167,null,0.2677867123535098,-0.0058966540852466425,null,-0.7540317950722792,0.07556365166139167,null,-0.6276154734190982,-0.0058966540852466425,null,0.8706175491412409,-0.0058966540852466425,null,-0.4419303144713903,-0.06571054111752866,null,0.7568444290502014,-0.0058966540852466425,null,0.10041444526962659,-0.06571054111752866,null,0.10041444526962659,-0.0058966540852466425,null,-0.9341816588441769,-0.06571054111752866,null,-0.3723295251464043,-0.0058966540852466425,null,-0.6410582100430773,-0.0058966540852466425,null,0.6967713795954315,0.07556365166139167,null,0.2184357752474888,0.01323235811464403,null,0.9413192572458555,-0.0058966540852466425,null,-0.2697929236503445,0.07556365166139167,null,-0.2697929236503445,-0.0058966540852466425,null,0.02768469904090016,0.07556365166139167,null,0.6635973599431307,0.01323235811464403,null,0.7222406191140609,-0.0058966540852466425,null,-0.46031422917331005,0.07556365166139167,null,-0.46031422917331005,-0.0058966540852466425,null],\"type\":\"scatter\"},{\"hoverinfo\":\"text\",\"marker\":{\"color\":[],\"colorbar\":{\"thickness\":15,\"title\":{\"side\":\"right\",\"text\":\"Node Connections\"},\"xanchor\":\"left\"},\"colorscale\":[[0.0,\"rgb(255,255,217)\"],[0.125,\"rgb(237,248,177)\"],[0.25,\"rgb(199,233,180)\"],[0.375,\"rgb(127,205,187)\"],[0.5,\"rgb(65,182,196)\"],[0.625,\"rgb(29,145,192)\"],[0.75,\"rgb(34,94,168)\"],[0.875,\"rgb(37,52,148)\"],[1.0,\"rgb(8,29,88)\"]],\"line\":{\"width\":2},\"reversescale\":true,\"showscale\":true,\"size\":10},\"mode\":\"markers\",\"text\":[\"0\",\"\\u0411\\u0440\\u044e\\u043a\\u0438\",\"\\u0424\\u0443\\u0442\\u0431\\u043e\\u043b\\u043a\\u0430\",\"1\",\"\\u0428\\u0430\\u043f\\u043a\\u0430\",\"\\u0414\\u0436\\u0438\\u043d\\u0441\\u044b\",\"2\",\"\\u041a\\u0440\\u043e\\u0441\\u0441\\u043e\\u0432\\u043a\\u0438\",\"\\u041a\\u0443\\u0440\\u0442\\u043a\\u0430\",\"3\",\"\\u0420\\u0443\\u0431\\u0430\\u0448\\u043a\\u0430\",\"4\",\"\\u0421\\u0443\\u043c\\u043a\\u0430\",\"5\",\"6\",\"7\",\"8\",\"9\",\"10\",\"11\",\"12\",\"13\",\"14\",\"15\",\"16\",\"17\",\"18\",\"19\",\"20\",\"21\",\"22\",\"23\",\"24\",\"25\",\"26\",\"27\",\"28\",\"29\",\"30\",\"31\",\"32\",\"33\",\"34\",\"35\"],\"x\":[0.08370848017389187,-0.1634944481049785,-0.04323903085739984,-0.9216434593261902,-0.721671276893776,0.032677972286230754,-0.4544470482282135,0.30589751718771263,0.02903071614221368,0.9318831294551804,0.19718949674518368,-0.5381089738688348,0.031000522610156282,-0.7196040014444978,0.5242795087039269,0.6817610027489868,0.3328777595059604,-0.9491096403803451,-0.7542722350595915,-0.1865049168813722,-0.6445358698291136,-0.09413056764230855,-0.643598641021715,0.8912973161374892,0.5146767414279089,0.8302678735631087,-0.8395983689267932,0.6106719151728778,0.3903599635752197,-0.4523896463490744,-0.8718051576308615,-0.015759964028648175,-0.45486312584439603,-0.30715894935473764,0.6369446392059519,-0.3861396106535572,0.7409445327038847,0.8888597228795739,0.11992142895294766,0.3555357649088268,1.0,-0.22067533294431707,0.27429030160960305,-0.021326040426115668],\"y\":[-0.8574655209877714,-0.1778086853494797,-0.0058966540852466425,-0.14571027542343398,-0.1971429900175733,-0.06571054111752866,0.5814657285656141,0.24732265176736898,0.07556365166139167,-0.2185370931002153,0.11594590340989502,-0.8329615154542124,0.01323235811464403,-0.6592714142511773,0.5170724781728011,0.03658421367375529,-0.8018577685844122,0.1262494050164751,0.4306682147711923,0.9503998889524399,-0.41325731506143415,-0.9761588407284307,0.6141824394328868,0.46539775832421226,0.8879273390354787,-0.47469151291860207,0.2677867123535098,-0.7540317950722792,-0.6276154734190982,0.8706175491412409,-0.4419303144713903,0.7568444290502014,0.10041444526962659,-0.9341816588441769,-0.3723295251464043,-0.6410582100430773,0.6967713795954315,0.2184357752474888,0.9413192572458555,-0.2697929236503445,0.02768469904090016,0.6635973599431307,0.7222406191140609,-0.46031422917331005],\"type\":\"scatter\"}],                        {\"annotations\":[{\"showarrow\":false,\"text\":\"Python code: \\u003ca href='https:\\u002f\\u002fplotly.com\\u002fipython-notebooks\\u002fnetwork-graphs\\u002f'\\u003e https:\\u002f\\u002fplotly.com\\u002fipython-notebooks\\u002fnetwork-graphs\\u002f\\u003c\\u002fa\\u003e\",\"x\":0.005,\"xref\":\"paper\",\"y\":-0.002,\"yref\":\"paper\"}],\"hovermode\":\"closest\",\"margin\":{\"b\":20,\"l\":5,\"r\":5,\"t\":40},\"showlegend\":false,\"title\":{\"font\":{\"size\":16},\"text\":\"\\u003cbr\\u003eNetwork graph made with Python\"},\"xaxis\":{\"showgrid\":false,\"showticklabels\":false,\"zeroline\":false},\"yaxis\":{\"showgrid\":false,\"showticklabels\":false,\"zeroline\":false},\"template\":{\"data\":{\"histogram2dcontour\":[{\"type\":\"histogram2dcontour\",\"colorbar\":{\"outlinewidth\":0,\"ticks\":\"\"},\"colorscale\":[[0.0,\"#0d0887\"],[0.1111111111111111,\"#46039f\"],[0.2222222222222222,\"#7201a8\"],[0.3333333333333333,\"#9c179e\"],[0.4444444444444444,\"#bd3786\"],[0.5555555555555556,\"#d8576b\"],[0.6666666666666666,\"#ed7953\"],[0.7777777777777778,\"#fb9f3a\"],[0.8888888888888888,\"#fdca26\"],[1.0,\"#f0f921\"]]}],\"choropleth\":[{\"type\":\"choropleth\",\"colorbar\":{\"outlinewidth\":0,\"ticks\":\"\"}}],\"histogram2d\":[{\"type\":\"histogram2d\",\"colorbar\":{\"outlinewidth\":0,\"ticks\":\"\"},\"colorscale\":[[0.0,\"#0d0887\"],[0.1111111111111111,\"#46039f\"],[0.2222222222222222,\"#7201a8\"],[0.3333333333333333,\"#9c179e\"],[0.4444444444444444,\"#bd3786\"],[0.5555555555555556,\"#d8576b\"],[0.6666666666666666,\"#ed7953\"],[0.7777777777777778,\"#fb9f3a\"],[0.8888888888888888,\"#fdca26\"],[1.0,\"#f0f921\"]]}],\"heatmap\":[{\"type\":\"heatmap\",\"colorbar\":{\"outlinewidth\":0,\"ticks\":\"\"},\"colorscale\":[[0.0,\"#0d0887\"],[0.1111111111111111,\"#46039f\"],[0.2222222222222222,\"#7201a8\"],[0.3333333333333333,\"#9c179e\"],[0.4444444444444444,\"#bd3786\"],[0.5555555555555556,\"#d8576b\"],[0.6666666666666666,\"#ed7953\"],[0.7777777777777778,\"#fb9f3a\"],[0.8888888888888888,\"#fdca26\"],[1.0,\"#f0f921\"]]}],\"heatmapgl\":[{\"type\":\"heatmapgl\",\"colorbar\":{\"outlinewidth\":0,\"ticks\":\"\"},\"colorscale\":[[0.0,\"#0d0887\"],[0.1111111111111111,\"#46039f\"],[0.2222222222222222,\"#7201a8\"],[0.3333333333333333,\"#9c179e\"],[0.4444444444444444,\"#bd3786\"],[0.5555555555555556,\"#d8576b\"],[0.6666666666666666,\"#ed7953\"],[0.7777777777777778,\"#fb9f3a\"],[0.8888888888888888,\"#fdca26\"],[1.0,\"#f0f921\"]]}],\"contourcarpet\":[{\"type\":\"contourcarpet\",\"colorbar\":{\"outlinewidth\":0,\"ticks\":\"\"}}],\"contour\":[{\"type\":\"contour\",\"colorbar\":{\"outlinewidth\":0,\"ticks\":\"\"},\"colorscale\":[[0.0,\"#0d0887\"],[0.1111111111111111,\"#46039f\"],[0.2222222222222222,\"#7201a8\"],[0.3333333333333333,\"#9c179e\"],[0.4444444444444444,\"#bd3786\"],[0.5555555555555556,\"#d8576b\"],[0.6666666666666666,\"#ed7953\"],[0.7777777777777778,\"#fb9f3a\"],[0.8888888888888888,\"#fdca26\"],[1.0,\"#f0f921\"]]}],\"surface\":[{\"type\":\"surface\",\"colorbar\":{\"outlinewidth\":0,\"ticks\":\"\"},\"colorscale\":[[0.0,\"#0d0887\"],[0.1111111111111111,\"#46039f\"],[0.2222222222222222,\"#7201a8\"],[0.3333333333333333,\"#9c179e\"],[0.4444444444444444,\"#bd3786\"],[0.5555555555555556,\"#d8576b\"],[0.6666666666666666,\"#ed7953\"],[0.7777777777777778,\"#fb9f3a\"],[0.8888888888888888,\"#fdca26\"],[1.0,\"#f0f921\"]]}],\"mesh3d\":[{\"type\":\"mesh3d\",\"colorbar\":{\"outlinewidth\":0,\"ticks\":\"\"}}],\"scatter\":[{\"fillpattern\":{\"fillmode\":\"overlay\",\"size\":10,\"solidity\":0.2},\"type\":\"scatter\"}],\"parcoords\":[{\"type\":\"parcoords\",\"line\":{\"colorbar\":{\"outlinewidth\":0,\"ticks\":\"\"}}}],\"scatterpolargl\":[{\"type\":\"scatterpolargl\",\"marker\":{\"colorbar\":{\"outlinewidth\":0,\"ticks\":\"\"}}}],\"bar\":[{\"error_x\":{\"color\":\"#2a3f5f\"},\"error_y\":{\"color\":\"#2a3f5f\"},\"marker\":{\"line\":{\"color\":\"#E5ECF6\",\"width\":0.5},\"pattern\":{\"fillmode\":\"overlay\",\"size\":10,\"solidity\":0.2}},\"type\":\"bar\"}],\"scattergeo\":[{\"type\":\"scattergeo\",\"marker\":{\"colorbar\":{\"outlinewidth\":0,\"ticks\":\"\"}}}],\"scatterpolar\":[{\"type\":\"scatterpolar\",\"marker\":{\"colorbar\":{\"outlinewidth\":0,\"ticks\":\"\"}}}],\"histogram\":[{\"marker\":{\"pattern\":{\"fillmode\":\"overlay\",\"size\":10,\"solidity\":0.2}},\"type\":\"histogram\"}],\"scattergl\":[{\"type\":\"scattergl\",\"marker\":{\"colorbar\":{\"outlinewidth\":0,\"ticks\":\"\"}}}],\"scatter3d\":[{\"type\":\"scatter3d\",\"line\":{\"colorbar\":{\"outlinewidth\":0,\"ticks\":\"\"}},\"marker\":{\"colorbar\":{\"outlinewidth\":0,\"ticks\":\"\"}}}],\"scattermapbox\":[{\"type\":\"scattermapbox\",\"marker\":{\"colorbar\":{\"outlinewidth\":0,\"ticks\":\"\"}}}],\"scatterternary\":[{\"type\":\"scatterternary\",\"marker\":{\"colorbar\":{\"outlinewidth\":0,\"ticks\":\"\"}}}],\"scattercarpet\":[{\"type\":\"scattercarpet\",\"marker\":{\"colorbar\":{\"outlinewidth\":0,\"ticks\":\"\"}}}],\"carpet\":[{\"aaxis\":{\"endlinecolor\":\"#2a3f5f\",\"gridcolor\":\"white\",\"linecolor\":\"white\",\"minorgridcolor\":\"white\",\"startlinecolor\":\"#2a3f5f\"},\"baxis\":{\"endlinecolor\":\"#2a3f5f\",\"gridcolor\":\"white\",\"linecolor\":\"white\",\"minorgridcolor\":\"white\",\"startlinecolor\":\"#2a3f5f\"},\"type\":\"carpet\"}],\"table\":[{\"cells\":{\"fill\":{\"color\":\"#EBF0F8\"},\"line\":{\"color\":\"white\"}},\"header\":{\"fill\":{\"color\":\"#C8D4E3\"},\"line\":{\"color\":\"white\"}},\"type\":\"table\"}],\"barpolar\":[{\"marker\":{\"line\":{\"color\":\"#E5ECF6\",\"width\":0.5},\"pattern\":{\"fillmode\":\"overlay\",\"size\":10,\"solidity\":0.2}},\"type\":\"barpolar\"}],\"pie\":[{\"automargin\":true,\"type\":\"pie\"}]},\"layout\":{\"autotypenumbers\":\"strict\",\"colorway\":[\"#636efa\",\"#EF553B\",\"#00cc96\",\"#ab63fa\",\"#FFA15A\",\"#19d3f3\",\"#FF6692\",\"#B6E880\",\"#FF97FF\",\"#FECB52\"],\"font\":{\"color\":\"#2a3f5f\"},\"hovermode\":\"closest\",\"hoverlabel\":{\"align\":\"left\"},\"paper_bgcolor\":\"white\",\"plot_bgcolor\":\"#E5ECF6\",\"polar\":{\"bgcolor\":\"#E5ECF6\",\"angularaxis\":{\"gridcolor\":\"white\",\"linecolor\":\"white\",\"ticks\":\"\"},\"radialaxis\":{\"gridcolor\":\"white\",\"linecolor\":\"white\",\"ticks\":\"\"}},\"ternary\":{\"bgcolor\":\"#E5ECF6\",\"aaxis\":{\"gridcolor\":\"white\",\"linecolor\":\"white\",\"ticks\":\"\"},\"baxis\":{\"gridcolor\":\"white\",\"linecolor\":\"white\",\"ticks\":\"\"},\"caxis\":{\"gridcolor\":\"white\",\"linecolor\":\"white\",\"ticks\":\"\"}},\"coloraxis\":{\"colorbar\":{\"outlinewidth\":0,\"ticks\":\"\"}},\"colorscale\":{\"sequential\":[[0.0,\"#0d0887\"],[0.1111111111111111,\"#46039f\"],[0.2222222222222222,\"#7201a8\"],[0.3333333333333333,\"#9c179e\"],[0.4444444444444444,\"#bd3786\"],[0.5555555555555556,\"#d8576b\"],[0.6666666666666666,\"#ed7953\"],[0.7777777777777778,\"#fb9f3a\"],[0.8888888888888888,\"#fdca26\"],[1.0,\"#f0f921\"]],\"sequentialminus\":[[0.0,\"#0d0887\"],[0.1111111111111111,\"#46039f\"],[0.2222222222222222,\"#7201a8\"],[0.3333333333333333,\"#9c179e\"],[0.4444444444444444,\"#bd3786\"],[0.5555555555555556,\"#d8576b\"],[0.6666666666666666,\"#ed7953\"],[0.7777777777777778,\"#fb9f3a\"],[0.8888888888888888,\"#fdca26\"],[1.0,\"#f0f921\"]],\"diverging\":[[0,\"#8e0152\"],[0.1,\"#c51b7d\"],[0.2,\"#de77ae\"],[0.3,\"#f1b6da\"],[0.4,\"#fde0ef\"],[0.5,\"#f7f7f7\"],[0.6,\"#e6f5d0\"],[0.7,\"#b8e186\"],[0.8,\"#7fbc41\"],[0.9,\"#4d9221\"],[1,\"#276419\"]]},\"xaxis\":{\"gridcolor\":\"white\",\"linecolor\":\"white\",\"ticks\":\"\",\"title\":{\"standoff\":15},\"zerolinecolor\":\"white\",\"automargin\":true,\"zerolinewidth\":2},\"yaxis\":{\"gridcolor\":\"white\",\"linecolor\":\"white\",\"ticks\":\"\",\"title\":{\"standoff\":15},\"zerolinecolor\":\"white\",\"automargin\":true,\"zerolinewidth\":2},\"scene\":{\"xaxis\":{\"backgroundcolor\":\"#E5ECF6\",\"gridcolor\":\"white\",\"linecolor\":\"white\",\"showbackground\":true,\"ticks\":\"\",\"zerolinecolor\":\"white\",\"gridwidth\":2},\"yaxis\":{\"backgroundcolor\":\"#E5ECF6\",\"gridcolor\":\"white\",\"linecolor\":\"white\",\"showbackground\":true,\"ticks\":\"\",\"zerolinecolor\":\"white\",\"gridwidth\":2},\"zaxis\":{\"backgroundcolor\":\"#E5ECF6\",\"gridcolor\":\"white\",\"linecolor\":\"white\",\"showbackground\":true,\"ticks\":\"\",\"zerolinecolor\":\"white\",\"gridwidth\":2}},\"shapedefaults\":{\"line\":{\"color\":\"#2a3f5f\"}},\"annotationdefaults\":{\"arrowcolor\":\"#2a3f5f\",\"arrowhead\":0,\"arrowwidth\":1},\"geo\":{\"bgcolor\":\"white\",\"landcolor\":\"#E5ECF6\",\"subunitcolor\":\"white\",\"showland\":true,\"showlakes\":true,\"lakecolor\":\"white\"},\"title\":{\"x\":0.05},\"mapbox\":{\"style\":\"light\"}}}},                        {\"responsive\": true}                    ).then(function(){\n",
       "                            \n",
       "var gd = document.getElementById('4a2f8c73-c885-48f8-a181-6206e6ae6e96');\n",
       "var x = new MutationObserver(function (mutations, observer) {{\n",
       "        var display = window.getComputedStyle(gd).display;\n",
       "        if (!display || display === 'none') {{\n",
       "            console.log([gd, 'removed!']);\n",
       "            Plotly.purge(gd);\n",
       "            observer.disconnect();\n",
       "        }}\n",
       "}});\n",
       "\n",
       "// Listen for the removal of the full notebook cells\n",
       "var notebookContainer = gd.closest('#notebook-container');\n",
       "if (notebookContainer) {{\n",
       "    x.observe(notebookContainer, {childList: true});\n",
       "}}\n",
       "\n",
       "// Listen for the clearing of the current output cell\n",
       "var outputEl = gd.closest('.output');\n",
       "if (outputEl) {{\n",
       "    x.observe(outputEl, {childList: true});\n",
       "}}\n",
       "\n",
       "                        })                };                });            </script>        </div>"
      ]
     },
     "metadata": {},
     "output_type": "display_data",
     "jetTransient": {
      "display_id": null
     }
    }
   ],
   "execution_count": 545
  },
  {
   "metadata": {},
   "cell_type": "markdown",
   "source": "fpgrowth_py",
   "id": "fac5768ae7d2beb4"
  },
  {
   "metadata": {
    "ExecuteTime": {
     "end_time": "2025-09-18T09:16:45.907243Z",
     "start_time": "2025-09-18T09:16:45.830336Z"
    }
   },
   "cell_type": "code",
   "source": [
    "from fpgrowth_py import fpgrowth\n",
    "\n",
    "start = time.time()\n",
    "freqItemSet, rules = fpgrowth(transactions, minSupRatio=min_sup, minConf=0.6)\n",
    "times['fpgrowth-py'] = time.time() - start\n",
    "\n",
    "n_trans = len(transactions)\n",
    "\n",
    "print(\"\\nАссоциативные правила (достоверность ≥ 60%):\")\n",
    "\n",
    "rules_data_fp = []     # для draw_rules_graph\n",
    "rules_pyarmviz_fp = [] # для PyARMViz\n",
    "\n",
    "for i, (antecedent, consequent, confidence) in enumerate(rules):\n",
    "    ant = frozenset(antecedent)\n",
    "    cons = frozenset(consequent)\n",
    "    union = ant | cons\n",
    "\n",
    "    # абсолютные количества по транзакциям\n",
    "    count_ab = sum(1 for t in transactions if union.issubset(t))\n",
    "    count_a = sum(1 for t in transactions if ant.issubset(t))\n",
    "    count_b = sum(1 for t in transactions if cons.issubset(t))\n",
    "\n",
    "    support_ab = count_ab / n_trans\n",
    "    support_a = count_a / n_trans\n",
    "    support_b = count_b / n_trans\n",
    "    lift = support_ab / (support_a * support_b) if support_a * support_b else 0.0\n",
    "\n",
    "    print(f\"{i}: {set(antecedent)} -> {set(consequent)} \"\n",
    "          f\"Support = {support_ab:.3f} Confidence = {confidence:.3f} Lift = {lift:.3f}\")\n",
    "\n",
    "    # для PyARMViz — нужны абсолютные counts\n",
    "    rules_pyarmviz_fp.append(\n",
    "        PyARMViz.Rule.Rule(\n",
    "            lhs=tuple(antecedent),\n",
    "            rhs=tuple(consequent),\n",
    "            count_full=count_ab,\n",
    "            count_lhs=count_a,\n",
    "            count_rhs=count_b,\n",
    "            num_transactions=n_trans\n",
    "        )\n",
    "    )\n",
    "\n",
    "# визуализация PyARMViz\n",
    "PyARMViz.metadata_scatter_plot(rules_pyarmviz_fp)\n",
    "PyARMViz.adjacency_graph_plotly(rules_pyarmviz_fp)\n",
    "# PyARMViz.adjacency_parallel_coordinate_plot(rules_pyarmviz_fp)\n",
    "# PyARMViz.adjacency_parallel_category_plot(rules_pyarmviz_fp)\n"
   ],
   "id": "ccce1274688df76",
   "outputs": [
    {
     "name": "stdout",
     "output_type": "stream",
     "text": [
      "\n",
      "Ассоциативные правила (достоверность ≥ 60%):\n",
      "0: {'Шапка'} -> {'Сумка'} Support = 0.200 Confidence = 0.667 Lift = 1.212\n",
      "1: {'Шапка'} -> {'Сумка', 'Джинсы'} Support = 0.200 Confidence = 0.667 Lift = 1.905\n",
      "2: {'Сумка', 'Шапка'} -> {'Джинсы'} Support = 0.200 Confidence = 1.000 Lift = 1.429\n",
      "3: {'Шапка', 'Джинсы'} -> {'Сумка'} Support = 0.200 Confidence = 0.667 Lift = 1.212\n",
      "4: {'Шапка'} -> {'Куртка'} Support = 0.200 Confidence = 0.667 Lift = 1.111\n",
      "5: {'Шапка'} -> {'Джинсы', 'Куртка'} Support = 0.200 Confidence = 0.667 Lift = 1.667\n",
      "6: {'Шапка', 'Джинсы'} -> {'Куртка'} Support = 0.200 Confidence = 0.667 Lift = 1.111\n",
      "7: {'Шапка', 'Куртка'} -> {'Джинсы'} Support = 0.200 Confidence = 1.000 Lift = 1.429\n",
      "8: {'Шапка'} -> {'Футболка'} Support = 0.200 Confidence = 0.667 Lift = 0.952\n",
      "9: {'Шапка'} -> {'Футболка', 'Джинсы'} Support = 0.200 Confidence = 0.667 Lift = 1.212\n",
      "10: {'Шапка', 'Джинсы'} -> {'Футболка'} Support = 0.200 Confidence = 0.667 Lift = 0.952\n",
      "11: {'Шапка', 'Футболка'} -> {'Джинсы'} Support = 0.200 Confidence = 1.000 Lift = 1.429\n",
      "12: {'Шапка'} -> {'Джинсы'} Support = 0.300 Confidence = 1.000 Lift = 1.429\n",
      "13: {'Брюки'} -> {'Сумка'} Support = 0.250 Confidence = 0.625 Lift = 1.136\n",
      "14: {'Сумка', 'Брюки'} -> {'Джинсы'} Support = 0.200 Confidence = 0.800 Lift = 1.143\n",
      "15: {'Джинсы', 'Брюки'} -> {'Сумка'} Support = 0.200 Confidence = 0.667 Lift = 1.212\n",
      "16: {'Сумка', 'Брюки'} -> {'Футболка'} Support = 0.200 Confidence = 0.800 Lift = 1.143\n",
      "17: {'Сумка', 'Брюки'} -> {'Футболка', 'Джинсы'} Support = 0.200 Confidence = 0.800 Lift = 1.455\n",
      "18: {'Джинсы', 'Брюки'} -> {'Сумка', 'Футболка'} Support = 0.200 Confidence = 0.667 Lift = 1.667\n",
      "19: {'Сумка', 'Футболка', 'Джинсы'} -> {'Брюки'} Support = 0.200 Confidence = 0.667 Lift = 1.667\n",
      "20: {'Сумка', 'Футболка', 'Брюки'} -> {'Джинсы'} Support = 0.200 Confidence = 1.000 Lift = 1.429\n",
      "21: {'Сумка', 'Джинсы', 'Брюки'} -> {'Футболка'} Support = 0.200 Confidence = 1.000 Lift = 1.429\n",
      "22: {'Футболка', 'Джинсы', 'Брюки'} -> {'Сумка'} Support = 0.200 Confidence = 0.667 Lift = 1.212\n",
      "23: {'Брюки'} -> {'Джинсы'} Support = 0.300 Confidence = 0.750 Lift = 1.071\n",
      "24: {'Брюки'} -> {'Футболка', 'Джинсы'} Support = 0.300 Confidence = 0.750 Lift = 1.364\n",
      "25: {'Футболка', 'Брюки'} -> {'Джинсы'} Support = 0.300 Confidence = 0.857 Lift = 1.224\n",
      "26: {'Джинсы', 'Брюки'} -> {'Футболка'} Support = 0.300 Confidence = 1.000 Lift = 1.429\n",
      "27: {'Брюки'} -> {'Футболка'} Support = 0.350 Confidence = 0.875 Lift = 1.250\n",
      "28: {'Сумка', 'Кроссовки'} -> {'Футболка'} Support = 0.200 Confidence = 1.000 Lift = 1.429\n",
      "29: {'Кроссовки', 'Футболка'} -> {'Сумка'} Support = 0.200 Confidence = 0.667 Lift = 1.212\n",
      "30: {'Сумка', 'Кроссовки'} -> {'Куртка'} Support = 0.200 Confidence = 1.000 Lift = 1.667\n",
      "31: {'Сумка', 'Кроссовки'} -> {'Футболка', 'Куртка'} Support = 0.200 Confidence = 1.000 Lift = 2.500\n",
      "32: {'Кроссовки', 'Футболка'} -> {'Сумка', 'Куртка'} Support = 0.200 Confidence = 0.667 Lift = 1.905\n",
      "33: {'Сумка', 'Кроссовки', 'Футболка'} -> {'Куртка'} Support = 0.200 Confidence = 1.000 Lift = 1.667\n",
      "34: {'Сумка', 'Кроссовки', 'Куртка'} -> {'Футболка'} Support = 0.200 Confidence = 1.000 Lift = 1.429\n",
      "35: {'Сумка', 'Футболка', 'Куртка'} -> {'Кроссовки'} Support = 0.200 Confidence = 0.667 Lift = 1.481\n",
      "36: {'Кроссовки', 'Футболка', 'Куртка'} -> {'Сумка'} Support = 0.200 Confidence = 0.800 Lift = 1.455\n",
      "37: {'Кроссовки'} -> {'Рубашка'} Support = 0.300 Confidence = 0.667 Lift = 1.333\n",
      "38: {'Кроссовки', 'Рубашка'} -> {'Куртка'} Support = 0.250 Confidence = 0.833 Lift = 1.389\n",
      "39: {'Кроссовки', 'Куртка'} -> {'Рубашка'} Support = 0.250 Confidence = 0.625 Lift = 1.250\n",
      "40: {'Рубашка', 'Куртка'} -> {'Кроссовки'} Support = 0.250 Confidence = 0.625 Lift = 1.389\n",
      "41: {'Кроссовки'} -> {'Джинсы'} Support = 0.300 Confidence = 0.667 Lift = 0.952\n",
      "42: {'Кроссовки', 'Джинсы'} -> {'Рубашка'} Support = 0.200 Confidence = 0.667 Lift = 1.333\n",
      "43: {'Кроссовки', 'Рубашка'} -> {'Джинсы'} Support = 0.200 Confidence = 0.667 Lift = 0.952\n",
      "44: {'Кроссовки', 'Джинсы'} -> {'Куртка'} Support = 0.250 Confidence = 0.833 Lift = 1.389\n",
      "45: {'Кроссовки', 'Куртка'} -> {'Джинсы'} Support = 0.250 Confidence = 0.625 Lift = 0.893\n",
      "46: {'Джинсы', 'Куртка'} -> {'Кроссовки'} Support = 0.250 Confidence = 0.625 Lift = 1.389\n",
      "47: {'Кроссовки'} -> {'Футболка'} Support = 0.300 Confidence = 0.667 Lift = 0.952\n",
      "48: {'Кроссовки', 'Джинсы'} -> {'Футболка'} Support = 0.200 Confidence = 0.667 Lift = 0.952\n",
      "49: {'Кроссовки', 'Футболка'} -> {'Джинсы'} Support = 0.200 Confidence = 0.667 Lift = 0.952\n",
      "50: {'Кроссовки', 'Рубашка'} -> {'Футболка'} Support = 0.200 Confidence = 0.667 Lift = 0.952\n",
      "51: {'Кроссовки', 'Футболка'} -> {'Рубашка'} Support = 0.200 Confidence = 0.667 Lift = 1.333\n",
      "52: {'Кроссовки', 'Футболка'} -> {'Куртка'} Support = 0.250 Confidence = 0.833 Lift = 1.389\n",
      "53: {'Кроссовки', 'Куртка'} -> {'Футболка'} Support = 0.250 Confidence = 0.625 Lift = 0.893\n",
      "54: {'Футболка', 'Куртка'} -> {'Кроссовки'} Support = 0.250 Confidence = 0.625 Lift = 1.389\n",
      "55: {'Кроссовки'} -> {'Куртка'} Support = 0.400 Confidence = 0.889 Lift = 1.481\n",
      "56: {'Куртка'} -> {'Кроссовки'} Support = 0.400 Confidence = 0.667 Lift = 1.481\n",
      "57: {'Сумка', 'Рубашка'} -> {'Футболка'} Support = 0.200 Confidence = 0.800 Lift = 1.143\n",
      "58: {'Сумка', 'Рубашка'} -> {'Футболка', 'Куртка'} Support = 0.200 Confidence = 0.800 Lift = 2.000\n",
      "59: {'Сумка', 'Футболка', 'Рубашка'} -> {'Куртка'} Support = 0.200 Confidence = 1.000 Lift = 1.667\n",
      "60: {'Сумка', 'Футболка', 'Куртка'} -> {'Рубашка'} Support = 0.200 Confidence = 0.667 Lift = 1.333\n",
      "61: {'Сумка', 'Рубашка', 'Куртка'} -> {'Футболка'} Support = 0.200 Confidence = 0.800 Lift = 1.143\n",
      "62: {'Футболка', 'Рубашка', 'Куртка'} -> {'Сумка'} Support = 0.200 Confidence = 0.800 Lift = 1.455\n",
      "63: {'Сумка', 'Рубашка'} -> {'Куртка'} Support = 0.250 Confidence = 1.000 Lift = 1.667\n",
      "64: {'Сумка', 'Куртка'} -> {'Рубашка'} Support = 0.250 Confidence = 0.714 Lift = 1.429\n",
      "65: {'Рубашка', 'Куртка'} -> {'Сумка'} Support = 0.250 Confidence = 0.625 Lift = 1.136\n",
      "66: {'Рубашка'} -> {'Джинсы'} Support = 0.350 Confidence = 0.700 Lift = 1.000\n",
      "67: {'Джинсы', 'Рубашка'} -> {'Куртка'} Support = 0.250 Confidence = 0.714 Lift = 1.190\n",
      "68: {'Джинсы', 'Куртка'} -> {'Рубашка'} Support = 0.250 Confidence = 0.625 Lift = 1.250\n",
      "69: {'Рубашка', 'Куртка'} -> {'Джинсы'} Support = 0.250 Confidence = 0.625 Lift = 0.893\n",
      "70: {'Рубашка'} -> {'Футболка'} Support = 0.350 Confidence = 0.700 Lift = 1.000\n",
      "71: {'Футболка', 'Рубашка'} -> {'Джинсы'} Support = 0.300 Confidence = 0.857 Lift = 1.224\n",
      "72: {'Джинсы', 'Рубашка'} -> {'Футболка'} Support = 0.300 Confidence = 0.857 Lift = 1.224\n",
      "73: {'Футболка', 'Рубашка'} -> {'Куртка'} Support = 0.250 Confidence = 0.714 Lift = 1.190\n",
      "74: {'Футболка', 'Куртка'} -> {'Рубашка'} Support = 0.250 Confidence = 0.625 Lift = 1.250\n",
      "75: {'Рубашка', 'Куртка'} -> {'Футболка'} Support = 0.250 Confidence = 0.625 Lift = 0.893\n",
      "76: {'Рубашка'} -> {'Куртка'} Support = 0.400 Confidence = 0.800 Lift = 1.333\n",
      "77: {'Куртка'} -> {'Рубашка'} Support = 0.400 Confidence = 0.667 Lift = 1.333\n",
      "78: {'Сумка'} -> {'Куртка'} Support = 0.350 Confidence = 0.636 Lift = 1.061\n",
      "79: {'Сумка', 'Футболка'} -> {'Куртка'} Support = 0.300 Confidence = 0.750 Lift = 1.250\n",
      "80: {'Сумка', 'Куртка'} -> {'Футболка'} Support = 0.300 Confidence = 0.857 Lift = 1.224\n",
      "81: {'Футболка', 'Куртка'} -> {'Сумка'} Support = 0.300 Confidence = 0.750 Lift = 1.364\n",
      "82: {'Сумка'} -> {'Джинсы'} Support = 0.350 Confidence = 0.636 Lift = 0.909\n",
      "83: {'Сумка', 'Футболка', 'Джинсы'} -> {'Куртка'} Support = 0.200 Confidence = 0.667 Lift = 1.111\n",
      "84: {'Сумка', 'Футболка', 'Куртка'} -> {'Джинсы'} Support = 0.200 Confidence = 0.667 Lift = 0.952\n",
      "85: {'Сумка', 'Джинсы', 'Куртка'} -> {'Футболка'} Support = 0.200 Confidence = 1.000 Lift = 1.429\n",
      "86: {'Футболка', 'Джинсы', 'Куртка'} -> {'Сумка'} Support = 0.200 Confidence = 0.667 Lift = 1.212\n",
      "87: {'Сумка', 'Футболка'} -> {'Джинсы'} Support = 0.300 Confidence = 0.750 Lift = 1.071\n",
      "88: {'Сумка', 'Джинсы'} -> {'Футболка'} Support = 0.300 Confidence = 0.857 Lift = 1.224\n",
      "89: {'Сумка'} -> {'Футболка'} Support = 0.400 Confidence = 0.727 Lift = 1.039\n",
      "90: {'Куртка'} -> {'Джинсы'} Support = 0.400 Confidence = 0.667 Lift = 0.952\n",
      "91: {'Куртка'} -> {'Футболка'} Support = 0.400 Confidence = 0.667 Lift = 0.952\n",
      "92: {'Футболка', 'Куртка'} -> {'Джинсы'} Support = 0.300 Confidence = 0.750 Lift = 1.071\n",
      "93: {'Джинсы', 'Куртка'} -> {'Футболка'} Support = 0.300 Confidence = 0.750 Lift = 1.071\n",
      "94: {'Футболка'} -> {'Джинсы'} Support = 0.550 Confidence = 0.786 Lift = 1.122\n",
      "95: {'Джинсы'} -> {'Футболка'} Support = 0.550 Confidence = 0.786 Lift = 1.122\n"
     ]
    },
    {
     "data": {
      "application/vnd.plotly.v1+json": {
       "data": [
        {
         "marker": {
          "color": [
           1.2121212121212122,
           1.1111111111111112,
           0.9523809523809524,
           1.4285714285714286,
           1.1363636363636365,
           1.0714285714285714,
           1.2499999999999998,
           1.3333333333333333,
           0.9523809523809523,
           0.9523809523809523,
           1.4814814814814814,
           1.4814814814814814,
           1.0,
           1.0,
           1.3333333333333335,
           1.3333333333333335,
           1.0606060606060606,
           0.9090909090909091,
           1.038961038961039,
           0.9523809523809524,
           0.9523809523809524,
           1.1224489795918369,
           1.1224489795918369
          ],
          "colorbar": {
           "title": {
            "text": "Lift"
           }
          },
          "colorscale": [
           [
            0.0,
            "rgb(243, 224, 247)"
           ],
           [
            0.16666666666666666,
            "rgb(228, 199, 241)"
           ],
           [
            0.3333333333333333,
            "rgb(209, 175, 232)"
           ],
           [
            0.5,
            "rgb(185, 152, 221)"
           ],
           [
            0.6666666666666666,
            "rgb(159, 130, 206)"
           ],
           [
            0.8333333333333334,
            "rgb(130, 109, 186)"
           ],
           [
            1.0,
            "rgb(99, 88, 159)"
           ]
          ]
         },
         "mode": "markers",
         "text": [
          "('Шапка',) => ('Сумка',), Lift: 1.2121212121212122",
          "('Шапка',) => ('Куртка',), Lift: 1.1111111111111112",
          "('Шапка',) => ('Футболка',), Lift: 0.9523809523809524",
          "('Шапка',) => ('Джинсы',), Lift: 1.4285714285714286",
          "('Брюки',) => ('Сумка',), Lift: 1.1363636363636365",
          "('Брюки',) => ('Джинсы',), Lift: 1.0714285714285714",
          "('Брюки',) => ('Футболка',), Lift: 1.2499999999999998",
          "('Кроссовки',) => ('Рубашка',), Lift: 1.3333333333333333",
          "('Кроссовки',) => ('Джинсы',), Lift: 0.9523809523809523",
          "('Кроссовки',) => ('Футболка',), Lift: 0.9523809523809523",
          "('Кроссовки',) => ('Куртка',), Lift: 1.4814814814814814",
          "('Куртка',) => ('Кроссовки',), Lift: 1.4814814814814814",
          "('Рубашка',) => ('Джинсы',), Lift: 1.0",
          "('Рубашка',) => ('Футболка',), Lift: 1.0",
          "('Рубашка',) => ('Куртка',), Lift: 1.3333333333333335",
          "('Куртка',) => ('Рубашка',), Lift: 1.3333333333333335",
          "('Сумка',) => ('Куртка',), Lift: 1.0606060606060606",
          "('Сумка',) => ('Джинсы',), Lift: 0.9090909090909091",
          "('Сумка',) => ('Футболка',), Lift: 1.038961038961039",
          "('Куртка',) => ('Джинсы',), Lift: 0.9523809523809524",
          "('Куртка',) => ('Футболка',), Lift: 0.9523809523809524",
          "('Футболка',) => ('Джинсы',), Lift: 1.1224489795918369",
          "('Джинсы',) => ('Футболка',), Lift: 1.1224489795918369"
         ],
         "x": [
          0.2,
          0.2,
          0.2,
          0.3,
          0.25,
          0.3,
          0.35,
          0.3,
          0.3,
          0.3,
          0.4,
          0.4,
          0.35,
          0.35,
          0.4,
          0.4,
          0.35,
          0.35,
          0.4,
          0.4,
          0.4,
          0.55,
          0.55
         ],
         "y": [
          0.6666666666666666,
          0.6666666666666666,
          0.6666666666666666,
          1.0,
          0.625,
          0.75,
          0.875,
          0.6666666666666666,
          0.6666666666666666,
          0.6666666666666666,
          0.8888888888888888,
          0.6666666666666666,
          0.7,
          0.7,
          0.8,
          0.6666666666666666,
          0.6363636363636364,
          0.6363636363636364,
          0.7272727272727273,
          0.6666666666666666,
          0.6666666666666666,
          0.7857142857142857,
          0.7857142857142857
         ],
         "type": "scatter"
        }
       ],
       "layout": {
        "template": {
         "data": {
          "histogram2dcontour": [
           {
            "type": "histogram2dcontour",
            "colorbar": {
             "outlinewidth": 0,
             "ticks": ""
            },
            "colorscale": [
             [
              0.0,
              "#0d0887"
             ],
             [
              0.1111111111111111,
              "#46039f"
             ],
             [
              0.2222222222222222,
              "#7201a8"
             ],
             [
              0.3333333333333333,
              "#9c179e"
             ],
             [
              0.4444444444444444,
              "#bd3786"
             ],
             [
              0.5555555555555556,
              "#d8576b"
             ],
             [
              0.6666666666666666,
              "#ed7953"
             ],
             [
              0.7777777777777778,
              "#fb9f3a"
             ],
             [
              0.8888888888888888,
              "#fdca26"
             ],
             [
              1.0,
              "#f0f921"
             ]
            ]
           }
          ],
          "choropleth": [
           {
            "type": "choropleth",
            "colorbar": {
             "outlinewidth": 0,
             "ticks": ""
            }
           }
          ],
          "histogram2d": [
           {
            "type": "histogram2d",
            "colorbar": {
             "outlinewidth": 0,
             "ticks": ""
            },
            "colorscale": [
             [
              0.0,
              "#0d0887"
             ],
             [
              0.1111111111111111,
              "#46039f"
             ],
             [
              0.2222222222222222,
              "#7201a8"
             ],
             [
              0.3333333333333333,
              "#9c179e"
             ],
             [
              0.4444444444444444,
              "#bd3786"
             ],
             [
              0.5555555555555556,
              "#d8576b"
             ],
             [
              0.6666666666666666,
              "#ed7953"
             ],
             [
              0.7777777777777778,
              "#fb9f3a"
             ],
             [
              0.8888888888888888,
              "#fdca26"
             ],
             [
              1.0,
              "#f0f921"
             ]
            ]
           }
          ],
          "heatmap": [
           {
            "type": "heatmap",
            "colorbar": {
             "outlinewidth": 0,
             "ticks": ""
            },
            "colorscale": [
             [
              0.0,
              "#0d0887"
             ],
             [
              0.1111111111111111,
              "#46039f"
             ],
             [
              0.2222222222222222,
              "#7201a8"
             ],
             [
              0.3333333333333333,
              "#9c179e"
             ],
             [
              0.4444444444444444,
              "#bd3786"
             ],
             [
              0.5555555555555556,
              "#d8576b"
             ],
             [
              0.6666666666666666,
              "#ed7953"
             ],
             [
              0.7777777777777778,
              "#fb9f3a"
             ],
             [
              0.8888888888888888,
              "#fdca26"
             ],
             [
              1.0,
              "#f0f921"
             ]
            ]
           }
          ],
          "heatmapgl": [
           {
            "type": "heatmapgl",
            "colorbar": {
             "outlinewidth": 0,
             "ticks": ""
            },
            "colorscale": [
             [
              0.0,
              "#0d0887"
             ],
             [
              0.1111111111111111,
              "#46039f"
             ],
             [
              0.2222222222222222,
              "#7201a8"
             ],
             [
              0.3333333333333333,
              "#9c179e"
             ],
             [
              0.4444444444444444,
              "#bd3786"
             ],
             [
              0.5555555555555556,
              "#d8576b"
             ],
             [
              0.6666666666666666,
              "#ed7953"
             ],
             [
              0.7777777777777778,
              "#fb9f3a"
             ],
             [
              0.8888888888888888,
              "#fdca26"
             ],
             [
              1.0,
              "#f0f921"
             ]
            ]
           }
          ],
          "contourcarpet": [
           {
            "type": "contourcarpet",
            "colorbar": {
             "outlinewidth": 0,
             "ticks": ""
            }
           }
          ],
          "contour": [
           {
            "type": "contour",
            "colorbar": {
             "outlinewidth": 0,
             "ticks": ""
            },
            "colorscale": [
             [
              0.0,
              "#0d0887"
             ],
             [
              0.1111111111111111,
              "#46039f"
             ],
             [
              0.2222222222222222,
              "#7201a8"
             ],
             [
              0.3333333333333333,
              "#9c179e"
             ],
             [
              0.4444444444444444,
              "#bd3786"
             ],
             [
              0.5555555555555556,
              "#d8576b"
             ],
             [
              0.6666666666666666,
              "#ed7953"
             ],
             [
              0.7777777777777778,
              "#fb9f3a"
             ],
             [
              0.8888888888888888,
              "#fdca26"
             ],
             [
              1.0,
              "#f0f921"
             ]
            ]
           }
          ],
          "surface": [
           {
            "type": "surface",
            "colorbar": {
             "outlinewidth": 0,
             "ticks": ""
            },
            "colorscale": [
             [
              0.0,
              "#0d0887"
             ],
             [
              0.1111111111111111,
              "#46039f"
             ],
             [
              0.2222222222222222,
              "#7201a8"
             ],
             [
              0.3333333333333333,
              "#9c179e"
             ],
             [
              0.4444444444444444,
              "#bd3786"
             ],
             [
              0.5555555555555556,
              "#d8576b"
             ],
             [
              0.6666666666666666,
              "#ed7953"
             ],
             [
              0.7777777777777778,
              "#fb9f3a"
             ],
             [
              0.8888888888888888,
              "#fdca26"
             ],
             [
              1.0,
              "#f0f921"
             ]
            ]
           }
          ],
          "mesh3d": [
           {
            "type": "mesh3d",
            "colorbar": {
             "outlinewidth": 0,
             "ticks": ""
            }
           }
          ],
          "scatter": [
           {
            "fillpattern": {
             "fillmode": "overlay",
             "size": 10,
             "solidity": 0.2
            },
            "type": "scatter"
           }
          ],
          "parcoords": [
           {
            "type": "parcoords",
            "line": {
             "colorbar": {
              "outlinewidth": 0,
              "ticks": ""
             }
            }
           }
          ],
          "scatterpolargl": [
           {
            "type": "scatterpolargl",
            "marker": {
             "colorbar": {
              "outlinewidth": 0,
              "ticks": ""
             }
            }
           }
          ],
          "bar": [
           {
            "error_x": {
             "color": "#2a3f5f"
            },
            "error_y": {
             "color": "#2a3f5f"
            },
            "marker": {
             "line": {
              "color": "#E5ECF6",
              "width": 0.5
             },
             "pattern": {
              "fillmode": "overlay",
              "size": 10,
              "solidity": 0.2
             }
            },
            "type": "bar"
           }
          ],
          "scattergeo": [
           {
            "type": "scattergeo",
            "marker": {
             "colorbar": {
              "outlinewidth": 0,
              "ticks": ""
             }
            }
           }
          ],
          "scatterpolar": [
           {
            "type": "scatterpolar",
            "marker": {
             "colorbar": {
              "outlinewidth": 0,
              "ticks": ""
             }
            }
           }
          ],
          "histogram": [
           {
            "marker": {
             "pattern": {
              "fillmode": "overlay",
              "size": 10,
              "solidity": 0.2
             }
            },
            "type": "histogram"
           }
          ],
          "scattergl": [
           {
            "type": "scattergl",
            "marker": {
             "colorbar": {
              "outlinewidth": 0,
              "ticks": ""
             }
            }
           }
          ],
          "scatter3d": [
           {
            "type": "scatter3d",
            "line": {
             "colorbar": {
              "outlinewidth": 0,
              "ticks": ""
             }
            },
            "marker": {
             "colorbar": {
              "outlinewidth": 0,
              "ticks": ""
             }
            }
           }
          ],
          "scattermapbox": [
           {
            "type": "scattermapbox",
            "marker": {
             "colorbar": {
              "outlinewidth": 0,
              "ticks": ""
             }
            }
           }
          ],
          "scatterternary": [
           {
            "type": "scatterternary",
            "marker": {
             "colorbar": {
              "outlinewidth": 0,
              "ticks": ""
             }
            }
           }
          ],
          "scattercarpet": [
           {
            "type": "scattercarpet",
            "marker": {
             "colorbar": {
              "outlinewidth": 0,
              "ticks": ""
             }
            }
           }
          ],
          "carpet": [
           {
            "aaxis": {
             "endlinecolor": "#2a3f5f",
             "gridcolor": "white",
             "linecolor": "white",
             "minorgridcolor": "white",
             "startlinecolor": "#2a3f5f"
            },
            "baxis": {
             "endlinecolor": "#2a3f5f",
             "gridcolor": "white",
             "linecolor": "white",
             "minorgridcolor": "white",
             "startlinecolor": "#2a3f5f"
            },
            "type": "carpet"
           }
          ],
          "table": [
           {
            "cells": {
             "fill": {
              "color": "#EBF0F8"
             },
             "line": {
              "color": "white"
             }
            },
            "header": {
             "fill": {
              "color": "#C8D4E3"
             },
             "line": {
              "color": "white"
             }
            },
            "type": "table"
           }
          ],
          "barpolar": [
           {
            "marker": {
             "line": {
              "color": "#E5ECF6",
              "width": 0.5
             },
             "pattern": {
              "fillmode": "overlay",
              "size": 10,
              "solidity": 0.2
             }
            },
            "type": "barpolar"
           }
          ],
          "pie": [
           {
            "automargin": true,
            "type": "pie"
           }
          ]
         },
         "layout": {
          "autotypenumbers": "strict",
          "colorway": [
           "#636efa",
           "#EF553B",
           "#00cc96",
           "#ab63fa",
           "#FFA15A",
           "#19d3f3",
           "#FF6692",
           "#B6E880",
           "#FF97FF",
           "#FECB52"
          ],
          "font": {
           "color": "#2a3f5f"
          },
          "hovermode": "closest",
          "hoverlabel": {
           "align": "left"
          },
          "paper_bgcolor": "white",
          "plot_bgcolor": "#E5ECF6",
          "polar": {
           "bgcolor": "#E5ECF6",
           "angularaxis": {
            "gridcolor": "white",
            "linecolor": "white",
            "ticks": ""
           },
           "radialaxis": {
            "gridcolor": "white",
            "linecolor": "white",
            "ticks": ""
           }
          },
          "ternary": {
           "bgcolor": "#E5ECF6",
           "aaxis": {
            "gridcolor": "white",
            "linecolor": "white",
            "ticks": ""
           },
           "baxis": {
            "gridcolor": "white",
            "linecolor": "white",
            "ticks": ""
           },
           "caxis": {
            "gridcolor": "white",
            "linecolor": "white",
            "ticks": ""
           }
          },
          "coloraxis": {
           "colorbar": {
            "outlinewidth": 0,
            "ticks": ""
           }
          },
          "colorscale": {
           "sequential": [
            [
             0.0,
             "#0d0887"
            ],
            [
             0.1111111111111111,
             "#46039f"
            ],
            [
             0.2222222222222222,
             "#7201a8"
            ],
            [
             0.3333333333333333,
             "#9c179e"
            ],
            [
             0.4444444444444444,
             "#bd3786"
            ],
            [
             0.5555555555555556,
             "#d8576b"
            ],
            [
             0.6666666666666666,
             "#ed7953"
            ],
            [
             0.7777777777777778,
             "#fb9f3a"
            ],
            [
             0.8888888888888888,
             "#fdca26"
            ],
            [
             1.0,
             "#f0f921"
            ]
           ],
           "sequentialminus": [
            [
             0.0,
             "#0d0887"
            ],
            [
             0.1111111111111111,
             "#46039f"
            ],
            [
             0.2222222222222222,
             "#7201a8"
            ],
            [
             0.3333333333333333,
             "#9c179e"
            ],
            [
             0.4444444444444444,
             "#bd3786"
            ],
            [
             0.5555555555555556,
             "#d8576b"
            ],
            [
             0.6666666666666666,
             "#ed7953"
            ],
            [
             0.7777777777777778,
             "#fb9f3a"
            ],
            [
             0.8888888888888888,
             "#fdca26"
            ],
            [
             1.0,
             "#f0f921"
            ]
           ],
           "diverging": [
            [
             0,
             "#8e0152"
            ],
            [
             0.1,
             "#c51b7d"
            ],
            [
             0.2,
             "#de77ae"
            ],
            [
             0.3,
             "#f1b6da"
            ],
            [
             0.4,
             "#fde0ef"
            ],
            [
             0.5,
             "#f7f7f7"
            ],
            [
             0.6,
             "#e6f5d0"
            ],
            [
             0.7,
             "#b8e186"
            ],
            [
             0.8,
             "#7fbc41"
            ],
            [
             0.9,
             "#4d9221"
            ],
            [
             1,
             "#276419"
            ]
           ]
          },
          "xaxis": {
           "gridcolor": "white",
           "linecolor": "white",
           "ticks": "",
           "title": {
            "standoff": 15
           },
           "zerolinecolor": "white",
           "automargin": true,
           "zerolinewidth": 2
          },
          "yaxis": {
           "gridcolor": "white",
           "linecolor": "white",
           "ticks": "",
           "title": {
            "standoff": 15
           },
           "zerolinecolor": "white",
           "automargin": true,
           "zerolinewidth": 2
          },
          "scene": {
           "xaxis": {
            "backgroundcolor": "#E5ECF6",
            "gridcolor": "white",
            "linecolor": "white",
            "showbackground": true,
            "ticks": "",
            "zerolinecolor": "white",
            "gridwidth": 2
           },
           "yaxis": {
            "backgroundcolor": "#E5ECF6",
            "gridcolor": "white",
            "linecolor": "white",
            "showbackground": true,
            "ticks": "",
            "zerolinecolor": "white",
            "gridwidth": 2
           },
           "zaxis": {
            "backgroundcolor": "#E5ECF6",
            "gridcolor": "white",
            "linecolor": "white",
            "showbackground": true,
            "ticks": "",
            "zerolinecolor": "white",
            "gridwidth": 2
           }
          },
          "shapedefaults": {
           "line": {
            "color": "#2a3f5f"
           }
          },
          "annotationdefaults": {
           "arrowcolor": "#2a3f5f",
           "arrowhead": 0,
           "arrowwidth": 1
          },
          "geo": {
           "bgcolor": "white",
           "landcolor": "#E5ECF6",
           "subunitcolor": "white",
           "showland": true,
           "showlakes": true,
           "lakecolor": "white"
          },
          "title": {
           "x": 0.05
          },
          "mapbox": {
           "style": "light"
          }
         }
        },
        "xaxis": {
         "title": {
          "text": "Support"
         },
         "autorange": "reversed"
        },
        "title": {
         "text": "Association Rules Strength Distribution"
        },
        "yaxis": {
         "title": {
          "text": "Confidence"
         }
        }
       },
       "config": {
        "plotlyServerURL": "https://plot.ly"
       }
      },
      "text/html": [
       "<div>                            <div id=\"e4bbac0b-c19b-4582-a036-9ac912f6bfaf\" class=\"plotly-graph-div\" style=\"height:525px; width:100%;\"></div>            <script type=\"text/javascript\">                require([\"plotly\"], function(Plotly) {                    window.PLOTLYENV=window.PLOTLYENV || {};                                    if (document.getElementById(\"e4bbac0b-c19b-4582-a036-9ac912f6bfaf\")) {                    Plotly.newPlot(                        \"e4bbac0b-c19b-4582-a036-9ac912f6bfaf\",                        [{\"marker\":{\"color\":[1.2121212121212122,1.1111111111111112,0.9523809523809524,1.4285714285714286,1.1363636363636365,1.0714285714285714,1.2499999999999998,1.3333333333333333,0.9523809523809523,0.9523809523809523,1.4814814814814814,1.4814814814814814,1.0,1.0,1.3333333333333335,1.3333333333333335,1.0606060606060606,0.9090909090909091,1.038961038961039,0.9523809523809524,0.9523809523809524,1.1224489795918369,1.1224489795918369],\"colorbar\":{\"title\":{\"text\":\"Lift\"}},\"colorscale\":[[0.0,\"rgb(243, 224, 247)\"],[0.16666666666666666,\"rgb(228, 199, 241)\"],[0.3333333333333333,\"rgb(209, 175, 232)\"],[0.5,\"rgb(185, 152, 221)\"],[0.6666666666666666,\"rgb(159, 130, 206)\"],[0.8333333333333334,\"rgb(130, 109, 186)\"],[1.0,\"rgb(99, 88, 159)\"]]},\"mode\":\"markers\",\"text\":[\"('\\u0428\\u0430\\u043f\\u043a\\u0430',) =\\u003e ('\\u0421\\u0443\\u043c\\u043a\\u0430',), Lift: 1.2121212121212122\",\"('\\u0428\\u0430\\u043f\\u043a\\u0430',) =\\u003e ('\\u041a\\u0443\\u0440\\u0442\\u043a\\u0430',), Lift: 1.1111111111111112\",\"('\\u0428\\u0430\\u043f\\u043a\\u0430',) =\\u003e ('\\u0424\\u0443\\u0442\\u0431\\u043e\\u043b\\u043a\\u0430',), Lift: 0.9523809523809524\",\"('\\u0428\\u0430\\u043f\\u043a\\u0430',) =\\u003e ('\\u0414\\u0436\\u0438\\u043d\\u0441\\u044b',), Lift: 1.4285714285714286\",\"('\\u0411\\u0440\\u044e\\u043a\\u0438',) =\\u003e ('\\u0421\\u0443\\u043c\\u043a\\u0430',), Lift: 1.1363636363636365\",\"('\\u0411\\u0440\\u044e\\u043a\\u0438',) =\\u003e ('\\u0414\\u0436\\u0438\\u043d\\u0441\\u044b',), Lift: 1.0714285714285714\",\"('\\u0411\\u0440\\u044e\\u043a\\u0438',) =\\u003e ('\\u0424\\u0443\\u0442\\u0431\\u043e\\u043b\\u043a\\u0430',), Lift: 1.2499999999999998\",\"('\\u041a\\u0440\\u043e\\u0441\\u0441\\u043e\\u0432\\u043a\\u0438',) =\\u003e ('\\u0420\\u0443\\u0431\\u0430\\u0448\\u043a\\u0430',), Lift: 1.3333333333333333\",\"('\\u041a\\u0440\\u043e\\u0441\\u0441\\u043e\\u0432\\u043a\\u0438',) =\\u003e ('\\u0414\\u0436\\u0438\\u043d\\u0441\\u044b',), Lift: 0.9523809523809523\",\"('\\u041a\\u0440\\u043e\\u0441\\u0441\\u043e\\u0432\\u043a\\u0438',) =\\u003e ('\\u0424\\u0443\\u0442\\u0431\\u043e\\u043b\\u043a\\u0430',), Lift: 0.9523809523809523\",\"('\\u041a\\u0440\\u043e\\u0441\\u0441\\u043e\\u0432\\u043a\\u0438',) =\\u003e ('\\u041a\\u0443\\u0440\\u0442\\u043a\\u0430',), Lift: 1.4814814814814814\",\"('\\u041a\\u0443\\u0440\\u0442\\u043a\\u0430',) =\\u003e ('\\u041a\\u0440\\u043e\\u0441\\u0441\\u043e\\u0432\\u043a\\u0438',), Lift: 1.4814814814814814\",\"('\\u0420\\u0443\\u0431\\u0430\\u0448\\u043a\\u0430',) =\\u003e ('\\u0414\\u0436\\u0438\\u043d\\u0441\\u044b',), Lift: 1.0\",\"('\\u0420\\u0443\\u0431\\u0430\\u0448\\u043a\\u0430',) =\\u003e ('\\u0424\\u0443\\u0442\\u0431\\u043e\\u043b\\u043a\\u0430',), Lift: 1.0\",\"('\\u0420\\u0443\\u0431\\u0430\\u0448\\u043a\\u0430',) =\\u003e ('\\u041a\\u0443\\u0440\\u0442\\u043a\\u0430',), Lift: 1.3333333333333335\",\"('\\u041a\\u0443\\u0440\\u0442\\u043a\\u0430',) =\\u003e ('\\u0420\\u0443\\u0431\\u0430\\u0448\\u043a\\u0430',), Lift: 1.3333333333333335\",\"('\\u0421\\u0443\\u043c\\u043a\\u0430',) =\\u003e ('\\u041a\\u0443\\u0440\\u0442\\u043a\\u0430',), Lift: 1.0606060606060606\",\"('\\u0421\\u0443\\u043c\\u043a\\u0430',) =\\u003e ('\\u0414\\u0436\\u0438\\u043d\\u0441\\u044b',), Lift: 0.9090909090909091\",\"('\\u0421\\u0443\\u043c\\u043a\\u0430',) =\\u003e ('\\u0424\\u0443\\u0442\\u0431\\u043e\\u043b\\u043a\\u0430',), Lift: 1.038961038961039\",\"('\\u041a\\u0443\\u0440\\u0442\\u043a\\u0430',) =\\u003e ('\\u0414\\u0436\\u0438\\u043d\\u0441\\u044b',), Lift: 0.9523809523809524\",\"('\\u041a\\u0443\\u0440\\u0442\\u043a\\u0430',) =\\u003e ('\\u0424\\u0443\\u0442\\u0431\\u043e\\u043b\\u043a\\u0430',), Lift: 0.9523809523809524\",\"('\\u0424\\u0443\\u0442\\u0431\\u043e\\u043b\\u043a\\u0430',) =\\u003e ('\\u0414\\u0436\\u0438\\u043d\\u0441\\u044b',), Lift: 1.1224489795918369\",\"('\\u0414\\u0436\\u0438\\u043d\\u0441\\u044b',) =\\u003e ('\\u0424\\u0443\\u0442\\u0431\\u043e\\u043b\\u043a\\u0430',), Lift: 1.1224489795918369\"],\"x\":[0.2,0.2,0.2,0.3,0.25,0.3,0.35,0.3,0.3,0.3,0.4,0.4,0.35,0.35,0.4,0.4,0.35,0.35,0.4,0.4,0.4,0.55,0.55],\"y\":[0.6666666666666666,0.6666666666666666,0.6666666666666666,1.0,0.625,0.75,0.875,0.6666666666666666,0.6666666666666666,0.6666666666666666,0.8888888888888888,0.6666666666666666,0.7,0.7,0.8,0.6666666666666666,0.6363636363636364,0.6363636363636364,0.7272727272727273,0.6666666666666666,0.6666666666666666,0.7857142857142857,0.7857142857142857],\"type\":\"scatter\"}],                        {\"template\":{\"data\":{\"histogram2dcontour\":[{\"type\":\"histogram2dcontour\",\"colorbar\":{\"outlinewidth\":0,\"ticks\":\"\"},\"colorscale\":[[0.0,\"#0d0887\"],[0.1111111111111111,\"#46039f\"],[0.2222222222222222,\"#7201a8\"],[0.3333333333333333,\"#9c179e\"],[0.4444444444444444,\"#bd3786\"],[0.5555555555555556,\"#d8576b\"],[0.6666666666666666,\"#ed7953\"],[0.7777777777777778,\"#fb9f3a\"],[0.8888888888888888,\"#fdca26\"],[1.0,\"#f0f921\"]]}],\"choropleth\":[{\"type\":\"choropleth\",\"colorbar\":{\"outlinewidth\":0,\"ticks\":\"\"}}],\"histogram2d\":[{\"type\":\"histogram2d\",\"colorbar\":{\"outlinewidth\":0,\"ticks\":\"\"},\"colorscale\":[[0.0,\"#0d0887\"],[0.1111111111111111,\"#46039f\"],[0.2222222222222222,\"#7201a8\"],[0.3333333333333333,\"#9c179e\"],[0.4444444444444444,\"#bd3786\"],[0.5555555555555556,\"#d8576b\"],[0.6666666666666666,\"#ed7953\"],[0.7777777777777778,\"#fb9f3a\"],[0.8888888888888888,\"#fdca26\"],[1.0,\"#f0f921\"]]}],\"heatmap\":[{\"type\":\"heatmap\",\"colorbar\":{\"outlinewidth\":0,\"ticks\":\"\"},\"colorscale\":[[0.0,\"#0d0887\"],[0.1111111111111111,\"#46039f\"],[0.2222222222222222,\"#7201a8\"],[0.3333333333333333,\"#9c179e\"],[0.4444444444444444,\"#bd3786\"],[0.5555555555555556,\"#d8576b\"],[0.6666666666666666,\"#ed7953\"],[0.7777777777777778,\"#fb9f3a\"],[0.8888888888888888,\"#fdca26\"],[1.0,\"#f0f921\"]]}],\"heatmapgl\":[{\"type\":\"heatmapgl\",\"colorbar\":{\"outlinewidth\":0,\"ticks\":\"\"},\"colorscale\":[[0.0,\"#0d0887\"],[0.1111111111111111,\"#46039f\"],[0.2222222222222222,\"#7201a8\"],[0.3333333333333333,\"#9c179e\"],[0.4444444444444444,\"#bd3786\"],[0.5555555555555556,\"#d8576b\"],[0.6666666666666666,\"#ed7953\"],[0.7777777777777778,\"#fb9f3a\"],[0.8888888888888888,\"#fdca26\"],[1.0,\"#f0f921\"]]}],\"contourcarpet\":[{\"type\":\"contourcarpet\",\"colorbar\":{\"outlinewidth\":0,\"ticks\":\"\"}}],\"contour\":[{\"type\":\"contour\",\"colorbar\":{\"outlinewidth\":0,\"ticks\":\"\"},\"colorscale\":[[0.0,\"#0d0887\"],[0.1111111111111111,\"#46039f\"],[0.2222222222222222,\"#7201a8\"],[0.3333333333333333,\"#9c179e\"],[0.4444444444444444,\"#bd3786\"],[0.5555555555555556,\"#d8576b\"],[0.6666666666666666,\"#ed7953\"],[0.7777777777777778,\"#fb9f3a\"],[0.8888888888888888,\"#fdca26\"],[1.0,\"#f0f921\"]]}],\"surface\":[{\"type\":\"surface\",\"colorbar\":{\"outlinewidth\":0,\"ticks\":\"\"},\"colorscale\":[[0.0,\"#0d0887\"],[0.1111111111111111,\"#46039f\"],[0.2222222222222222,\"#7201a8\"],[0.3333333333333333,\"#9c179e\"],[0.4444444444444444,\"#bd3786\"],[0.5555555555555556,\"#d8576b\"],[0.6666666666666666,\"#ed7953\"],[0.7777777777777778,\"#fb9f3a\"],[0.8888888888888888,\"#fdca26\"],[1.0,\"#f0f921\"]]}],\"mesh3d\":[{\"type\":\"mesh3d\",\"colorbar\":{\"outlinewidth\":0,\"ticks\":\"\"}}],\"scatter\":[{\"fillpattern\":{\"fillmode\":\"overlay\",\"size\":10,\"solidity\":0.2},\"type\":\"scatter\"}],\"parcoords\":[{\"type\":\"parcoords\",\"line\":{\"colorbar\":{\"outlinewidth\":0,\"ticks\":\"\"}}}],\"scatterpolargl\":[{\"type\":\"scatterpolargl\",\"marker\":{\"colorbar\":{\"outlinewidth\":0,\"ticks\":\"\"}}}],\"bar\":[{\"error_x\":{\"color\":\"#2a3f5f\"},\"error_y\":{\"color\":\"#2a3f5f\"},\"marker\":{\"line\":{\"color\":\"#E5ECF6\",\"width\":0.5},\"pattern\":{\"fillmode\":\"overlay\",\"size\":10,\"solidity\":0.2}},\"type\":\"bar\"}],\"scattergeo\":[{\"type\":\"scattergeo\",\"marker\":{\"colorbar\":{\"outlinewidth\":0,\"ticks\":\"\"}}}],\"scatterpolar\":[{\"type\":\"scatterpolar\",\"marker\":{\"colorbar\":{\"outlinewidth\":0,\"ticks\":\"\"}}}],\"histogram\":[{\"marker\":{\"pattern\":{\"fillmode\":\"overlay\",\"size\":10,\"solidity\":0.2}},\"type\":\"histogram\"}],\"scattergl\":[{\"type\":\"scattergl\",\"marker\":{\"colorbar\":{\"outlinewidth\":0,\"ticks\":\"\"}}}],\"scatter3d\":[{\"type\":\"scatter3d\",\"line\":{\"colorbar\":{\"outlinewidth\":0,\"ticks\":\"\"}},\"marker\":{\"colorbar\":{\"outlinewidth\":0,\"ticks\":\"\"}}}],\"scattermapbox\":[{\"type\":\"scattermapbox\",\"marker\":{\"colorbar\":{\"outlinewidth\":0,\"ticks\":\"\"}}}],\"scatterternary\":[{\"type\":\"scatterternary\",\"marker\":{\"colorbar\":{\"outlinewidth\":0,\"ticks\":\"\"}}}],\"scattercarpet\":[{\"type\":\"scattercarpet\",\"marker\":{\"colorbar\":{\"outlinewidth\":0,\"ticks\":\"\"}}}],\"carpet\":[{\"aaxis\":{\"endlinecolor\":\"#2a3f5f\",\"gridcolor\":\"white\",\"linecolor\":\"white\",\"minorgridcolor\":\"white\",\"startlinecolor\":\"#2a3f5f\"},\"baxis\":{\"endlinecolor\":\"#2a3f5f\",\"gridcolor\":\"white\",\"linecolor\":\"white\",\"minorgridcolor\":\"white\",\"startlinecolor\":\"#2a3f5f\"},\"type\":\"carpet\"}],\"table\":[{\"cells\":{\"fill\":{\"color\":\"#EBF0F8\"},\"line\":{\"color\":\"white\"}},\"header\":{\"fill\":{\"color\":\"#C8D4E3\"},\"line\":{\"color\":\"white\"}},\"type\":\"table\"}],\"barpolar\":[{\"marker\":{\"line\":{\"color\":\"#E5ECF6\",\"width\":0.5},\"pattern\":{\"fillmode\":\"overlay\",\"size\":10,\"solidity\":0.2}},\"type\":\"barpolar\"}],\"pie\":[{\"automargin\":true,\"type\":\"pie\"}]},\"layout\":{\"autotypenumbers\":\"strict\",\"colorway\":[\"#636efa\",\"#EF553B\",\"#00cc96\",\"#ab63fa\",\"#FFA15A\",\"#19d3f3\",\"#FF6692\",\"#B6E880\",\"#FF97FF\",\"#FECB52\"],\"font\":{\"color\":\"#2a3f5f\"},\"hovermode\":\"closest\",\"hoverlabel\":{\"align\":\"left\"},\"paper_bgcolor\":\"white\",\"plot_bgcolor\":\"#E5ECF6\",\"polar\":{\"bgcolor\":\"#E5ECF6\",\"angularaxis\":{\"gridcolor\":\"white\",\"linecolor\":\"white\",\"ticks\":\"\"},\"radialaxis\":{\"gridcolor\":\"white\",\"linecolor\":\"white\",\"ticks\":\"\"}},\"ternary\":{\"bgcolor\":\"#E5ECF6\",\"aaxis\":{\"gridcolor\":\"white\",\"linecolor\":\"white\",\"ticks\":\"\"},\"baxis\":{\"gridcolor\":\"white\",\"linecolor\":\"white\",\"ticks\":\"\"},\"caxis\":{\"gridcolor\":\"white\",\"linecolor\":\"white\",\"ticks\":\"\"}},\"coloraxis\":{\"colorbar\":{\"outlinewidth\":0,\"ticks\":\"\"}},\"colorscale\":{\"sequential\":[[0.0,\"#0d0887\"],[0.1111111111111111,\"#46039f\"],[0.2222222222222222,\"#7201a8\"],[0.3333333333333333,\"#9c179e\"],[0.4444444444444444,\"#bd3786\"],[0.5555555555555556,\"#d8576b\"],[0.6666666666666666,\"#ed7953\"],[0.7777777777777778,\"#fb9f3a\"],[0.8888888888888888,\"#fdca26\"],[1.0,\"#f0f921\"]],\"sequentialminus\":[[0.0,\"#0d0887\"],[0.1111111111111111,\"#46039f\"],[0.2222222222222222,\"#7201a8\"],[0.3333333333333333,\"#9c179e\"],[0.4444444444444444,\"#bd3786\"],[0.5555555555555556,\"#d8576b\"],[0.6666666666666666,\"#ed7953\"],[0.7777777777777778,\"#fb9f3a\"],[0.8888888888888888,\"#fdca26\"],[1.0,\"#f0f921\"]],\"diverging\":[[0,\"#8e0152\"],[0.1,\"#c51b7d\"],[0.2,\"#de77ae\"],[0.3,\"#f1b6da\"],[0.4,\"#fde0ef\"],[0.5,\"#f7f7f7\"],[0.6,\"#e6f5d0\"],[0.7,\"#b8e186\"],[0.8,\"#7fbc41\"],[0.9,\"#4d9221\"],[1,\"#276419\"]]},\"xaxis\":{\"gridcolor\":\"white\",\"linecolor\":\"white\",\"ticks\":\"\",\"title\":{\"standoff\":15},\"zerolinecolor\":\"white\",\"automargin\":true,\"zerolinewidth\":2},\"yaxis\":{\"gridcolor\":\"white\",\"linecolor\":\"white\",\"ticks\":\"\",\"title\":{\"standoff\":15},\"zerolinecolor\":\"white\",\"automargin\":true,\"zerolinewidth\":2},\"scene\":{\"xaxis\":{\"backgroundcolor\":\"#E5ECF6\",\"gridcolor\":\"white\",\"linecolor\":\"white\",\"showbackground\":true,\"ticks\":\"\",\"zerolinecolor\":\"white\",\"gridwidth\":2},\"yaxis\":{\"backgroundcolor\":\"#E5ECF6\",\"gridcolor\":\"white\",\"linecolor\":\"white\",\"showbackground\":true,\"ticks\":\"\",\"zerolinecolor\":\"white\",\"gridwidth\":2},\"zaxis\":{\"backgroundcolor\":\"#E5ECF6\",\"gridcolor\":\"white\",\"linecolor\":\"white\",\"showbackground\":true,\"ticks\":\"\",\"zerolinecolor\":\"white\",\"gridwidth\":2}},\"shapedefaults\":{\"line\":{\"color\":\"#2a3f5f\"}},\"annotationdefaults\":{\"arrowcolor\":\"#2a3f5f\",\"arrowhead\":0,\"arrowwidth\":1},\"geo\":{\"bgcolor\":\"white\",\"landcolor\":\"#E5ECF6\",\"subunitcolor\":\"white\",\"showland\":true,\"showlakes\":true,\"lakecolor\":\"white\"},\"title\":{\"x\":0.05},\"mapbox\":{\"style\":\"light\"}}},\"xaxis\":{\"title\":{\"text\":\"Support\"},\"autorange\":\"reversed\"},\"title\":{\"text\":\"Association Rules Strength Distribution\"},\"yaxis\":{\"title\":{\"text\":\"Confidence\"}}},                        {\"responsive\": true}                    ).then(function(){\n",
       "                            \n",
       "var gd = document.getElementById('e4bbac0b-c19b-4582-a036-9ac912f6bfaf');\n",
       "var x = new MutationObserver(function (mutations, observer) {{\n",
       "        var display = window.getComputedStyle(gd).display;\n",
       "        if (!display || display === 'none') {{\n",
       "            console.log([gd, 'removed!']);\n",
       "            Plotly.purge(gd);\n",
       "            observer.disconnect();\n",
       "        }}\n",
       "}});\n",
       "\n",
       "// Listen for the removal of the full notebook cells\n",
       "var notebookContainer = gd.closest('#notebook-container');\n",
       "if (notebookContainer) {{\n",
       "    x.observe(notebookContainer, {childList: true});\n",
       "}}\n",
       "\n",
       "// Listen for the clearing of the current output cell\n",
       "var outputEl = gd.closest('.output');\n",
       "if (outputEl) {{\n",
       "    x.observe(outputEl, {childList: true});\n",
       "}}\n",
       "\n",
       "                        })                };                });            </script>        </div>"
      ]
     },
     "metadata": {},
     "output_type": "display_data",
     "jetTransient": {
      "display_id": null
     }
    },
    {
     "data": {
      "application/vnd.plotly.v1+json": {
       "data": [
        {
         "hoverinfo": "none",
         "line": {
          "color": "#888",
          "width": 0.5
         },
         "mode": "lines",
         "x": [
          -0.11186269940389158,
          -0.026634908429955036,
          null,
          -0.3105520385735088,
          -0.11186269940389158,
          null,
          -0.3105520385735088,
          0.30697959752101145,
          null,
          -0.3105520385735088,
          0.22680584019696412,
          null,
          -0.3105520385735088,
          0.27704961649618065,
          null,
          -0.3105520385735088,
          -0.6939507189085069,
          null,
          -0.3105520385735088,
          0.2658538803136926,
          null,
          -0.3105520385735088,
          -0.8121988034046301,
          null,
          -0.3105520385735088,
          -0.8322764139516271,
          null,
          -0.3105520385735088,
          -0.4295102799229978,
          null,
          -0.3105520385735088,
          -0.352621537505273,
          null,
          -0.3105520385735088,
          -0.5423299577714359,
          null,
          -0.3105520385735088,
          -0.7570267405691843,
          null,
          -0.3105520385735088,
          -0.9074253517236068,
          null,
          -0.026634908429955036,
          0.22680584019696412,
          null,
          -0.026634908429955036,
          0.6237058449547853,
          null,
          -0.026634908429955036,
          0.4922397085325195,
          null,
          -0.026634908429955036,
          0.38972030830588983,
          null,
          -0.026634908429955036,
          0.5587868109735372,
          null,
          -0.026634908429955036,
          -0.6753448312934048,
          null,
          -0.026634908429955036,
          -0.8735950927123163,
          null,
          -0.026634908429955036,
          -0.3241508370680777,
          null,
          -0.026634908429955036,
          -0.19891298930144344,
          null,
          -0.026634908429955036,
          -0.244522786704824,
          null,
          -0.026634908429955036,
          -0.58701229682177,
          null,
          -0.026634908429955036,
          0.6428317807247478,
          null,
          -0.026634908429955036,
          0.9655523347125035,
          null,
          -0.026634908429955036,
          0.8679713002799233,
          null,
          -0.026634908429955036,
          -0.0520052364713154,
          null,
          -0.026634908429955036,
          -0.4798323683711348,
          null,
          -0.026634908429955036,
          -0.7475033296417688,
          null,
          -0.026634908429955036,
          -0.1359897224321108,
          null,
          -0.026634908429955036,
          -0.41936421236739785,
          null,
          -0.026634908429955036,
          0.747239424390618,
          null,
          -0.026634908429955036,
          -0.5521465807910015,
          null,
          -0.026634908429955036,
          0.2953959026320456,
          null,
          -0.026634908429955036,
          -0.5711660261483882,
          null,
          -0.026634908429955036,
          -0.6905198844408093,
          null,
          -0.026634908429955036,
          -0.26094329929500426,
          null,
          -0.026634908429955036,
          0.5584187623537633,
          null,
          -0.026634908429955036,
          -0.5681560649129368,
          null,
          -0.026634908429955036,
          0.7408840074664256,
          null,
          -0.026634908429955036,
          -0.6976704631331381,
          null,
          -0.026634908429955036,
          0.3443395499347347,
          null,
          0.30697959752101145,
          -0.026634908429955036,
          null,
          0.30697959752101145,
          0.029647258560345,
          null,
          0.029647258560345,
          0.27704961649618065,
          null,
          0.029647258560345,
          -0.8121988034046301,
          null,
          0.029647258560345,
          -0.5423299577714359,
          null,
          0.029647258560345,
          0.46275343095916704,
          null,
          0.029647258560345,
          -0.28237678105534697,
          null,
          0.029647258560345,
          0.5587868109735372,
          null,
          0.029647258560345,
          -0.8735950927123163,
          null,
          0.029647258560345,
          -0.33327341979380826,
          null,
          0.029647258560345,
          -0.8185806436498833,
          null,
          0.029647258560345,
          0.8791620102244208,
          null,
          0.029647258560345,
          0.533620724884936,
          null,
          0.029647258560345,
          0.8549395917062486,
          null,
          0.029647258560345,
          0.8761202767200836,
          null,
          0.029647258560345,
          0.754979880612299,
          null,
          0.029647258560345,
          0.8120201722026346,
          null,
          0.029647258560345,
          -0.166076989386474,
          null,
          0.029647258560345,
          -0.26094329929500426,
          null,
          0.029647258560345,
          -0.5681560649129368,
          null,
          0.029647258560345,
          0.05329065232336584,
          null,
          0.029647258560345,
          -0.6976704631331381,
          null,
          0.029647258560345,
          -0.2631119867837071,
          null,
          0.029647258560345,
          0.40613273033568775,
          null,
          0.22680584019696412,
          0.029647258560345,
          null,
          0.27704961649618065,
          -0.026634908429955036,
          null,
          -0.6939507189085069,
          0.045950123054212755,
          null,
          0.045950123054212755,
          -0.8322764139516271,
          null,
          0.045950123054212755,
          0.6428317807247478,
          null,
          0.045950123054212755,
          0.9655523347125035,
          null,
          0.045950123054212755,
          -0.2740084089214271,
          null,
          0.045950123054212755,
          -0.017722140100585156,
          null,
          0.045950123054212755,
          -0.13054142621732628,
          null,
          0.045950123054212755,
          0.01040874465381237,
          null,
          0.045950123054212755,
          0.8549395917062486,
          null,
          0.045950123054212755,
          0.9145415627671417,
          null,
          0.045950123054212755,
          0.6457009725010509,
          null,
          0.045950123054212755,
          0.7811029367626767,
          null,
          0.045950123054212755,
          -0.7475033296417688,
          null,
          0.045950123054212755,
          -0.1359897224321108,
          null,
          0.045950123054212755,
          -0.6749258827364827,
          null,
          0.045950123054212755,
          0.747239424390618,
          null,
          0.045950123054212755,
          0.28123662307904673,
          null,
          0.045950123054212755,
          0.8120201722026346,
          null,
          0.045950123054212755,
          0.7399587863821083,
          null,
          0.045950123054212755,
          -0.6026419034088716,
          null,
          0.045950123054212755,
          -0.3986206243220731,
          null,
          0.045950123054212755,
          -0.4539672313331169,
          null,
          0.045950123054212755,
          -0.5711660261483882,
          null,
          0.045950123054212755,
          0.30876193384731326,
          null,
          0.045950123054212755,
          0.5584187623537633,
          null,
          0.045950123054212755,
          -0.5681560649129368,
          null,
          0.045950123054212755,
          0.05329065232336584,
          null,
          0.045950123054212755,
          -0.8985973987241866,
          null,
          0.045950123054212755,
          -0.6096364828657604,
          null,
          0.045950123054212755,
          0.6778553317811095,
          null,
          0.045950123054212755,
          -0.2631119867837071,
          null,
          0.2658538803136926,
          0.029647258560345,
          null,
          0.2658538803136926,
          0.045950123054212755,
          null,
          -0.8121988034046301,
          0.045950123054212755,
          null,
          -0.8322764139516271,
          0.029647258560345,
          null,
          -0.4295102799229978,
          0.01629038456815373,
          null,
          0.01629038456815373,
          -0.7570267405691843,
          null,
          0.01629038456815373,
          0.5587868109735372,
          null,
          0.01629038456815373,
          -0.6753448312934048,
          null,
          0.01629038456815373,
          -0.33327341979380826,
          null,
          0.01629038456815373,
          0.5929193764419746,
          null,
          0.01629038456815373,
          0.04931382491480831,
          null,
          0.01629038456815373,
          0.12651176479009046,
          null,
          0.01629038456815373,
          -0.58701229682177,
          null,
          0.01629038456815373,
          0.9655523347125035,
          null,
          0.01629038456815373,
          -0.2740084089214271,
          null,
          0.01629038456815373,
          -0.35214922352335765,
          null,
          0.01629038456815373,
          -0.06295019150325208,
          null,
          0.01629038456815373,
          0.4869186481640256,
          null,
          0.01629038456815373,
          0.6457009725010509,
          null,
          0.01629038456815373,
          -0.4798323683711348,
          null,
          0.01629038456815373,
          -0.7475033296417688,
          null,
          0.01629038456815373,
          -0.6749258827364827,
          null,
          0.01629038456815373,
          0.6442692966520109,
          null,
          0.01629038456815373,
          0.31249083718572085,
          null,
          0.01629038456815373,
          -0.6026419034088716,
          null,
          0.01629038456815373,
          0.2953959026320456,
          null,
          0.01629038456815373,
          0.30876193384731326,
          null,
          0.01629038456815373,
          -0.26094329929500426,
          null,
          0.01629038456815373,
          0.5584187623537633,
          null,
          0.01629038456815373,
          0.05329065232336584,
          null,
          0.01629038456815373,
          0.7408840074664256,
          null,
          0.01629038456815373,
          0.6778553317811095,
          null,
          0.01629038456815373,
          0.38916891917969554,
          null,
          -0.352621537505273,
          0.01629038456815373,
          null,
          -0.352621537505273,
          0.029647258560345,
          null,
          -0.5423299577714359,
          0.01629038456815373,
          null,
          -0.7570267405691843,
          0.029647258560345,
          null,
          -0.9074253517236068,
          0.029647258560345,
          null,
          0.4441226093081192,
          -0.026634908429955036,
          null,
          0.009989202984679873,
          0.4441226093081192,
          null,
          0.009989202984679873,
          0.6237058449547853,
          null,
          0.009989202984679873,
          0.46275343095916704,
          null,
          0.009989202984679873,
          0.4922397085325195,
          null,
          0.009989202984679873,
          0.38972030830588983,
          null,
          0.009989202984679873,
          -0.28237678105534697,
          null,
          0.009989202984679873,
          -0.6753448312934048,
          null,
          0.009989202984679873,
          -0.8735950927123163,
          null,
          0.009989202984679873,
          -0.33327341979380826,
          null,
          0.009989202984679873,
          0.1734063581077971,
          null,
          0.009989202984679873,
          -0.017667256735415804,
          null,
          0.009989202984679873,
          0.5929193764419746,
          null,
          0.009989202984679873,
          -0.8185806436498833,
          null,
          0.009989202984679873,
          0.7660323771764209,
          null,
          0.6237058449547853,
          0.029647258560345,
          null,
          0.46275343095916704,
          -0.026634908429955036,
          null,
          0.4922397085325195,
          0.01629038456815373,
          null,
          0.38972030830588983,
          0.01629038456815373,
          null,
          0.38972030830588983,
          0.029647258560345,
          null,
          -0.28237678105534697,
          -0.026634908429955036,
          null,
          -0.28237678105534697,
          0.01629038456815373,
          null,
          0.5587868109735372,
          0.009989202984679873,
          null,
          -0.6753448312934048,
          0.029647258560345,
          null,
          -0.8735950927123163,
          0.01629038456815373,
          null,
          -0.33327341979380826,
          -0.026634908429955036,
          null,
          0.1734063581077971,
          0.029647258560345,
          null,
          -0.017667256735415804,
          0.01629038456815373,
          null,
          -0.017667256735415804,
          0.029647258560345,
          null,
          0.5929193764419746,
          0.029647258560345,
          null,
          -0.8185806436498833,
          0.01629038456815373,
          null,
          0.7660323771764209,
          0.01629038456815373,
          null,
          -0.3241508370680777,
          0.01629038456815373,
          null,
          0.06882338253635273,
          -0.3241508370680777,
          null,
          0.06882338253635273,
          0.04931382491480831,
          null,
          0.06882338253635273,
          -0.19891298930144344,
          null,
          0.06882338253635273,
          -0.244522786704824,
          null,
          0.06882338253635273,
          0.12651176479009046,
          null,
          0.06882338253635273,
          -0.58701229682177,
          null,
          0.06882338253635273,
          0.6428317807247478,
          null,
          0.06882338253635273,
          -0.2740084089214271,
          null,
          0.06882338253635273,
          -0.849779762387509,
          null,
          0.06882338253635273,
          0.18156179108419623,
          null,
          0.06882338253635273,
          -0.017722140100585156,
          null,
          0.06882338253635273,
          -0.6660311048924349,
          null,
          0.06882338253635273,
          0.8791620102244208,
          null,
          0.06882338253635273,
          -0.40161630214633154,
          null,
          0.06882338253635273,
          0.533620724884936,
          null,
          0.06882338253635273,
          0.01040874465381237,
          null,
          0.06882338253635273,
          -0.7439377887658125,
          null,
          0.06882338253635273,
          0.8761202767200836,
          null,
          0.06882338253635273,
          -0.35214922352335765,
          null,
          0.06882338253635273,
          0.09451393063014424,
          null,
          0.06882338253635273,
          -0.06295019150325208,
          null,
          0.06882338253635273,
          0.4869186481640256,
          null,
          0.06882338253635273,
          0.9145415627671417,
          null,
          0.06882338253635273,
          0.6451102736408783,
          null,
          0.04931382491480831,
          -0.026634908429955036,
          null,
          -0.19891298930144344,
          0.045950123054212755,
          null,
          -0.244522786704824,
          0.01629038456815373,
          null,
          -0.244522786704824,
          0.045950123054212755,
          null,
          0.12651176479009046,
          -0.026634908429955036,
          null,
          0.12651176479009046,
          0.045950123054212755,
          null,
          -0.58701229682177,
          0.045950123054212755,
          null,
          0.6428317807247478,
          0.01629038456815373,
          null,
          0.9655523347125035,
          0.06882338253635273,
          null,
          -0.2740084089214271,
          -0.026634908429955036,
          null,
          -0.849779762387509,
          0.034027202176481336,
          null,
          0.034027202176481336,
          0.18156179108419623,
          null,
          0.034027202176481336,
          -0.13054142621732628,
          null,
          0.034027202176481336,
          -0.40161630214633154,
          null,
          0.034027202176481336,
          0.09451393063014424,
          null,
          0.034027202176481336,
          0.8679713002799233,
          null,
          0.034027202176481336,
          -0.0520052364713154,
          null,
          0.034027202176481336,
          -0.4798323683711348,
          null,
          0.034027202176481336,
          -0.1359897224321108,
          null,
          0.034027202176481336,
          -0.6749258827364827,
          null,
          0.034027202176481336,
          -0.41936421236739785,
          null,
          0.034027202176481336,
          0.28123662307904673,
          null,
          0.034027202176481336,
          0.05709452826199638,
          null,
          0.034027202176481336,
          0.754979880612299,
          null,
          0.034027202176481336,
          0.7399587863821083,
          null,
          0.034027202176481336,
          -0.5013011165895517,
          null,
          0.034027202176481336,
          0.6442692966520109,
          null,
          0.034027202176481336,
          -0.166076989386474,
          null,
          0.034027202176481336,
          0.31249083718572085,
          null,
          0.034027202176481336,
          -0.3986206243220731,
          null,
          0.034027202176481336,
          -0.08978358303640682,
          null,
          0.18156179108419623,
          0.045950123054212755,
          null,
          -0.017722140100585156,
          0.034027202176481336,
          null,
          -0.13054142621732628,
          0.06882338253635273,
          null,
          -0.6660311048924349,
          0.029647258560345,
          null,
          0.8791620102244208,
          0.034027202176481336,
          null,
          -0.40161630214633154,
          0.029647258560345,
          null,
          0.533620724884936,
          0.045950123054212755,
          null,
          0.01040874465381237,
          0.029647258560345,
          null,
          0.8549395917062486,
          0.06882338253635273,
          null,
          -0.7439377887658125,
          0.01629038456815373,
          null,
          0.8761202767200836,
          0.01629038456815373,
          null,
          -0.35214922352335765,
          0.029647258560345,
          null,
          0.09451393063014424,
          0.01629038456815373,
          null,
          -0.06295019150325208,
          0.034027202176481336,
          null,
          0.4869186481640256,
          0.045950123054212755,
          null,
          0.9145415627671417,
          0.01629038456815373,
          null,
          0.6457009725010509,
          0.06882338253635273,
          null,
          0.6451102736408783,
          0.045950123054212755,
          null,
          0.7811029367626767,
          0.06882338253635273,
          null,
          0.8679713002799233,
          0.01629038456815373,
          null,
          -0.0520052364713154,
          0.01629038456815373,
          null,
          -0.0520052364713154,
          0.045950123054212755,
          null,
          -0.4798323683711348,
          0.045950123054212755,
          null,
          -0.7475033296417688,
          0.034027202176481336,
          null,
          -0.1359897224321108,
          0.01629038456815373,
          null,
          -0.6749258827364827,
          -0.026634908429955036,
          null,
          -0.41936421236739785,
          0.045950123054212755,
          null,
          0.747239424390618,
          0.034027202176481336,
          null,
          0.28123662307904673,
          -0.026634908429955036,
          null,
          0.05709452826199638,
          0.029647258560345,
          null,
          0.754979880612299,
          0.045950123054212755,
          null,
          0.8120201722026346,
          0.034027202176481336,
          null,
          0.7399587863821083,
          0.029647258560345,
          null,
          -0.5013011165895517,
          0.01629038456815373,
          null,
          0.6442692966520109,
          0.029647258560345,
          null,
          -0.166076989386474,
          0.01629038456815373,
          null,
          0.31249083718572085,
          0.045950123054212755,
          null,
          -0.6026419034088716,
          0.034027202176481336,
          null,
          -0.3986206243220731,
          0.01629038456815373,
          null,
          -0.08978358303640682,
          0.045950123054212755,
          null,
          -0.4539672313331169,
          0.034027202176481336,
          null,
          -0.5521465807910015,
          0.045950123054212755,
          null,
          0.2953959026320456,
          0.045950123054212755,
          null,
          -0.5711660261483882,
          0.01629038456815373,
          null,
          0.30876193384731326,
          -0.026634908429955036,
          null,
          -0.6905198844408093,
          0.029647258560345,
          null,
          -0.26094329929500426,
          0.045950123054212755,
          null,
          0.5584187623537633,
          0.029647258560345,
          null,
          -0.5681560649129368,
          0.01629038456815373,
          null,
          0.05329065232336584,
          -0.026634908429955036,
          null,
          0.7408840074664256,
          0.029647258560345,
          null,
          -0.6976704631331381,
          0.01629038456815373,
          null,
          0.3443395499347347,
          0.01629038456815373,
          null,
          -0.8985973987241866,
          0.029647258560345,
          null,
          -0.6096364828657604,
          0.01629038456815373,
          null,
          0.6778553317811095,
          0.029647258560345,
          null,
          -0.2631119867837071,
          0.01629038456815373,
          null,
          0.38916891917969554,
          0.029647258560345,
          null,
          0.40613273033568775,
          0.01629038456815373,
          null
         ],
         "y": [
          0.8261130476467279,
          0.022359313852315675,
          null,
          -0.07814441923816082,
          0.8261130476467279,
          null,
          -0.07814441923816082,
          -0.197590686219452,
          null,
          -0.07814441923816082,
          0.764399759640749,
          null,
          -0.07814441923816082,
          -0.6427562025995955,
          null,
          -0.07814441923816082,
          -0.16486514395205368,
          null,
          -0.07814441923816082,
          0.29144712422662705,
          null,
          -0.07814441923816082,
          0.2544300234016721,
          null,
          -0.07814441923816082,
          -0.3725357540906851,
          null,
          -0.07814441923816082,
          -0.8187385479880125,
          null,
          -0.07814441923816082,
          0.08781668443513897,
          null,
          -0.07814441923816082,
          -0.7193596773811065,
          null,
          -0.07814441923816082,
          -0.507658022854017,
          null,
          -0.07814441923816082,
          -0.13874933121833505,
          null,
          0.022359313852315675,
          0.764399759640749,
          null,
          0.022359313852315675,
          0.20574808666684505,
          null,
          0.022359313852315675,
          -0.7373645709740885,
          null,
          0.022359313852315675,
          0.036798608639914715,
          null,
          0.022359313852315675,
          -0.10057952198727231,
          null,
          0.022359313852315675,
          -0.6388019712467542,
          null,
          0.022359313852315675,
          -0.00485588861904077,
          null,
          0.022359313852315675,
          0.5862134277853189,
          null,
          0.022359313852315675,
          0.9036246985478887,
          null,
          0.022359313852315675,
          0.2595365999969678,
          null,
          0.022359313852315675,
          -0.04310246211960429,
          null,
          0.022359313852315675,
          -0.5327887662710538,
          null,
          0.022359313852315675,
          0.1358985698917468,
          null,
          0.022359313852315675,
          0.023635570271425866,
          null,
          0.022359313852315675,
          -0.361192066518036,
          null,
          0.022359313852315675,
          -0.3864615271007271,
          null,
          0.022359313852315675,
          0.47174248000470564,
          null,
          0.022359313852315675,
          0.5451900379200277,
          null,
          0.022359313852315675,
          -0.546680434713358,
          null,
          0.022359313852315675,
          0.300121173996267,
          null,
          0.022359313852315675,
          -0.23846366278103562,
          null,
          0.022359313852315675,
          -0.8044467142516245,
          null,
          0.022359313852315675,
          -0.5574417582120699,
          null,
          0.022359313852315675,
          0.5305448788934066,
          null,
          0.022359313852315675,
          -0.5239862528438789,
          null,
          0.022359313852315675,
          0.5440320455620868,
          null,
          0.022359313852315675,
          0.3522667765737412,
          null,
          0.022359313852315675,
          -0.07862830030751873,
          null,
          0.022359313852315675,
          0.26115236557342486,
          null,
          0.022359313852315675,
          0.5235633194915851,
          null,
          -0.197590686219452,
          0.022359313852315675,
          null,
          -0.197590686219452,
          -0.01538424436386017,
          null,
          -0.01538424436386017,
          -0.6427562025995955,
          null,
          -0.01538424436386017,
          0.2544300234016721,
          null,
          -0.01538424436386017,
          -0.7193596773811065,
          null,
          -0.01538424436386017,
          -0.32279949139326025,
          null,
          -0.01538424436386017,
          -0.26033501454473557,
          null,
          -0.01538424436386017,
          -0.10057952198727231,
          null,
          -0.01538424436386017,
          -0.00485588861904077,
          null,
          -0.01538424436386017,
          0.8325698478049214,
          null,
          -0.01538424436386017,
          -0.23340550485362474,
          null,
          -0.01538424436386017,
          0.30402602050430017,
          null,
          -0.01538424436386017,
          0.788824493942514,
          null,
          -0.01538424436386017,
          -0.2317728489315092,
          null,
          -0.01538424436386017,
          -0.33728727498675914,
          null,
          -0.01538424436386017,
          0.5860596995299894,
          null,
          -0.01538424436386017,
          0.452390539518772,
          null,
          -0.01538424436386017,
          0.6790524803749394,
          null,
          -0.01538424436386017,
          -0.5239862528438789,
          null,
          -0.01538424436386017,
          0.3522667765737412,
          null,
          -0.01538424436386017,
          0.8769714019473076,
          null,
          -0.01538424436386017,
          0.26115236557342486,
          null,
          -0.01538424436386017,
          -0.9309997744904132,
          null,
          -0.01538424436386017,
          -0.8463590592319845,
          null,
          0.764399759640749,
          -0.01538424436386017,
          null,
          -0.6427562025995955,
          0.022359313852315675,
          null,
          -0.16486514395205368,
          0.030956891385572192,
          null,
          0.030956891385572192,
          -0.3725357540906851,
          null,
          0.030956891385572192,
          -0.5327887662710538,
          null,
          0.030956891385572192,
          0.1358985698917468,
          null,
          0.030956891385572192,
          -0.7973998104171544,
          null,
          0.030956891385572192,
          1.0,
          null,
          0.030956891385572192,
          -0.7111991420041761,
          null,
          0.030956891385572192,
          -0.9525716166197792,
          null,
          0.030956891385572192,
          -0.2317728489315092,
          null,
          0.030956891385572192,
          -0.11446532526740394,
          null,
          0.030956891385572192,
          -0.6943226595995041,
          null,
          0.030956891385572192,
          -0.588639665458147,
          null,
          0.030956891385572192,
          0.47174248000470564,
          null,
          0.030956891385572192,
          0.5451900379200277,
          null,
          0.030956891385572192,
          0.721853545755353,
          null,
          0.030956891385572192,
          0.300121173996267,
          null,
          0.030956891385572192,
          -0.5043513952045062,
          null,
          0.030956891385572192,
          0.452390539518772,
          null,
          0.030956891385572192,
          0.09678243088953722,
          null,
          0.030956891385572192,
          0.6446679707023356,
          null,
          0.030956891385572192,
          0.42235953517346203,
          null,
          0.030956891385572192,
          0.8768406534279316,
          null,
          0.030956891385572192,
          -0.5574417582120699,
          null,
          0.030956891385572192,
          0.65361974034006,
          null,
          0.030956891385572192,
          0.5440320455620868,
          null,
          0.030956891385572192,
          0.3522667765737412,
          null,
          0.030956891385572192,
          0.8769714019473076,
          null,
          0.030956891385572192,
          0.11904774612237418,
          null,
          0.030956891385572192,
          0.15057726811103,
          null,
          0.030956891385572192,
          -0.2549911729188663,
          null,
          0.030956891385572192,
          -0.9309997744904132,
          null,
          0.29144712422662705,
          -0.01538424436386017,
          null,
          0.29144712422662705,
          0.030956891385572192,
          null,
          0.2544300234016721,
          0.030956891385572192,
          null,
          -0.3725357540906851,
          -0.01538424436386017,
          null,
          -0.8187385479880125,
          0.013621664772666651,
          null,
          0.013621664772666651,
          -0.507658022854017,
          null,
          0.013621664772666651,
          -0.10057952198727231,
          null,
          0.013621664772666651,
          -0.6388019712467542,
          null,
          0.013621664772666651,
          0.8325698478049214,
          null,
          0.013621664772666651,
          -0.42002918930124483,
          null,
          0.013621664772666651,
          0.7519684679902903,
          null,
          0.013621664772666651,
          -0.3499005881052422,
          null,
          0.013621664772666651,
          -0.04310246211960429,
          null,
          0.013621664772666651,
          0.1358985698917468,
          null,
          0.013621664772666651,
          -0.7973998104171544,
          null,
          0.013621664772666651,
          -0.7022396473470272,
          null,
          0.013621664772666651,
          -0.7752472315670318,
          null,
          0.013621664772666651,
          -0.5651840375402962,
          null,
          0.013621664772666651,
          -0.6943226595995041,
          null,
          0.013621664772666651,
          -0.3864615271007271,
          null,
          0.013621664772666651,
          0.47174248000470564,
          null,
          0.013621664772666651,
          0.721853545755353,
          null,
          0.013621664772666651,
          0.40424017415930663,
          null,
          0.013621664772666651,
          0.90331811878065,
          null,
          0.013621664772666651,
          0.6446679707023356,
          null,
          0.013621664772666651,
          -0.8044467142516245,
          null,
          0.013621664772666651,
          0.65361974034006,
          null,
          0.013621664772666651,
          -0.5239862528438789,
          null,
          0.013621664772666651,
          0.5440320455620868,
          null,
          0.013621664772666651,
          0.8769714019473076,
          null,
          0.013621664772666651,
          -0.07862830030751873,
          null,
          0.013621664772666651,
          -0.2549911729188663,
          null,
          0.013621664772666651,
          0.748314686094911,
          null,
          0.08781668443513897,
          0.013621664772666651,
          null,
          0.08781668443513897,
          -0.01538424436386017,
          null,
          -0.7193596773811065,
          0.013621664772666651,
          null,
          -0.507658022854017,
          -0.01538424436386017,
          null,
          -0.13874933121833505,
          -0.01538424436386017,
          null,
          0.39110153735523556,
          0.022359313852315675,
          null,
          -0.1490627445467182,
          0.39110153735523556,
          null,
          -0.1490627445467182,
          0.20574808666684505,
          null,
          -0.1490627445467182,
          -0.32279949139326025,
          null,
          -0.1490627445467182,
          -0.7373645709740885,
          null,
          -0.1490627445467182,
          0.036798608639914715,
          null,
          -0.1490627445467182,
          -0.26033501454473557,
          null,
          -0.1490627445467182,
          -0.6388019712467542,
          null,
          -0.1490627445467182,
          -0.00485588861904077,
          null,
          -0.1490627445467182,
          0.8325698478049214,
          null,
          -0.1490627445467182,
          -0.7278984185809093,
          null,
          -0.1490627445467182,
          0.3544072181663101,
          null,
          -0.1490627445467182,
          -0.42002918930124483,
          null,
          -0.1490627445467182,
          -0.23340550485362474,
          null,
          -0.1490627445467182,
          -0.4129969894208007,
          null,
          0.20574808666684505,
          -0.01538424436386017,
          null,
          -0.32279949139326025,
          0.022359313852315675,
          null,
          -0.7373645709740885,
          0.013621664772666651,
          null,
          0.036798608639914715,
          0.013621664772666651,
          null,
          0.036798608639914715,
          -0.01538424436386017,
          null,
          -0.26033501454473557,
          0.022359313852315675,
          null,
          -0.26033501454473557,
          0.013621664772666651,
          null,
          -0.10057952198727231,
          -0.1490627445467182,
          null,
          -0.6388019712467542,
          -0.01538424436386017,
          null,
          -0.00485588861904077,
          0.013621664772666651,
          null,
          0.8325698478049214,
          0.022359313852315675,
          null,
          -0.7278984185809093,
          -0.01538424436386017,
          null,
          0.3544072181663101,
          0.013621664772666651,
          null,
          0.3544072181663101,
          -0.01538424436386017,
          null,
          -0.42002918930124483,
          -0.01538424436386017,
          null,
          -0.23340550485362474,
          0.013621664772666651,
          null,
          -0.4129969894208007,
          0.013621664772666651,
          null,
          0.5862134277853189,
          0.013621664772666651,
          null,
          0.012575186527694624,
          0.5862134277853189,
          null,
          0.012575186527694624,
          0.7519684679902903,
          null,
          0.012575186527694624,
          0.9036246985478887,
          null,
          0.012575186527694624,
          0.2595365999969678,
          null,
          0.012575186527694624,
          -0.3499005881052422,
          null,
          0.012575186527694624,
          -0.04310246211960429,
          null,
          0.012575186527694624,
          -0.5327887662710538,
          null,
          0.012575186527694624,
          -0.7973998104171544,
          null,
          0.012575186527694624,
          0.4211779409631462,
          null,
          0.012575186527694624,
          -0.8854463439313105,
          null,
          0.012575186527694624,
          1.0,
          null,
          0.012575186527694624,
          -0.39781502573770977,
          null,
          0.012575186527694624,
          0.30402602050430017,
          null,
          0.012575186527694624,
          0.6852068739349999,
          null,
          0.012575186527694624,
          0.788824493942514,
          null,
          0.012575186527694624,
          -0.9525716166197792,
          null,
          0.012575186527694624,
          0.03054803883372086,
          null,
          0.012575186527694624,
          -0.33728727498675914,
          null,
          0.012575186527694624,
          -0.7022396473470272,
          null,
          0.012575186527694624,
          0.5815744204524189,
          null,
          0.012575186527694624,
          -0.7752472315670318,
          null,
          0.012575186527694624,
          -0.5651840375402962,
          null,
          0.012575186527694624,
          -0.11446532526740394,
          null,
          0.012575186527694624,
          0.6909279299575287,
          null,
          0.7519684679902903,
          0.022359313852315675,
          null,
          0.9036246985478887,
          0.030956891385572192,
          null,
          0.2595365999969678,
          0.013621664772666651,
          null,
          0.2595365999969678,
          0.030956891385572192,
          null,
          -0.3499005881052422,
          0.022359313852315675,
          null,
          -0.3499005881052422,
          0.030956891385572192,
          null,
          -0.04310246211960429,
          0.030956891385572192,
          null,
          -0.5327887662710538,
          0.013621664772666651,
          null,
          0.1358985698917468,
          0.012575186527694624,
          null,
          -0.7973998104171544,
          0.022359313852315675,
          null,
          0.4211779409631462,
          0.08452382645571177,
          null,
          0.08452382645571177,
          -0.8854463439313105,
          null,
          0.08452382645571177,
          -0.7111991420041761,
          null,
          0.08452382645571177,
          0.6852068739349999,
          null,
          0.08452382645571177,
          0.5815744204524189,
          null,
          0.08452382645571177,
          0.023635570271425866,
          null,
          0.08452382645571177,
          -0.361192066518036,
          null,
          0.08452382645571177,
          -0.3864615271007271,
          null,
          0.08452382645571177,
          0.5451900379200277,
          null,
          0.08452382645571177,
          0.721853545755353,
          null,
          0.08452382645571177,
          -0.546680434713358,
          null,
          0.08452382645571177,
          -0.5043513952045062,
          null,
          0.08452382645571177,
          -0.8025525261254561,
          null,
          0.08452382645571177,
          0.5860596995299894,
          null,
          0.08452382645571177,
          0.09678243088953722,
          null,
          0.08452382645571177,
          0.53118361213905,
          null,
          0.08452382645571177,
          0.40424017415930663,
          null,
          0.08452382645571177,
          0.6790524803749394,
          null,
          0.08452382645571177,
          0.90331811878065,
          null,
          0.08452382645571177,
          0.42235953517346203,
          null,
          0.08452382645571177,
          -0.588076129155748,
          null,
          -0.8854463439313105,
          0.030956891385572192,
          null,
          1.0,
          0.08452382645571177,
          null,
          -0.7111991420041761,
          0.012575186527694624,
          null,
          -0.39781502573770977,
          -0.01538424436386017,
          null,
          0.30402602050430017,
          0.08452382645571177,
          null,
          0.6852068739349999,
          -0.01538424436386017,
          null,
          0.788824493942514,
          0.030956891385572192,
          null,
          -0.9525716166197792,
          -0.01538424436386017,
          null,
          -0.2317728489315092,
          0.012575186527694624,
          null,
          0.03054803883372086,
          0.013621664772666651,
          null,
          -0.33728727498675914,
          0.013621664772666651,
          null,
          -0.7022396473470272,
          -0.01538424436386017,
          null,
          0.5815744204524189,
          0.013621664772666651,
          null,
          -0.7752472315670318,
          0.08452382645571177,
          null,
          -0.5651840375402962,
          0.030956891385572192,
          null,
          -0.11446532526740394,
          0.013621664772666651,
          null,
          -0.6943226595995041,
          0.012575186527694624,
          null,
          0.6909279299575287,
          0.030956891385572192,
          null,
          -0.588639665458147,
          0.012575186527694624,
          null,
          0.023635570271425866,
          0.013621664772666651,
          null,
          -0.361192066518036,
          0.013621664772666651,
          null,
          -0.361192066518036,
          0.030956891385572192,
          null,
          -0.3864615271007271,
          0.030956891385572192,
          null,
          0.47174248000470564,
          0.08452382645571177,
          null,
          0.5451900379200277,
          0.013621664772666651,
          null,
          0.721853545755353,
          0.022359313852315675,
          null,
          -0.546680434713358,
          0.030956891385572192,
          null,
          0.300121173996267,
          0.08452382645571177,
          null,
          -0.5043513952045062,
          0.022359313852315675,
          null,
          -0.8025525261254561,
          -0.01538424436386017,
          null,
          0.5860596995299894,
          0.030956891385572192,
          null,
          0.452390539518772,
          0.08452382645571177,
          null,
          0.09678243088953722,
          -0.01538424436386017,
          null,
          0.53118361213905,
          0.013621664772666651,
          null,
          0.40424017415930663,
          -0.01538424436386017,
          null,
          0.6790524803749394,
          0.013621664772666651,
          null,
          0.90331811878065,
          0.030956891385572192,
          null,
          0.6446679707023356,
          0.08452382645571177,
          null,
          0.42235953517346203,
          0.013621664772666651,
          null,
          -0.588076129155748,
          0.030956891385572192,
          null,
          0.8768406534279316,
          0.08452382645571177,
          null,
          -0.23846366278103562,
          0.030956891385572192,
          null,
          -0.8044467142516245,
          0.030956891385572192,
          null,
          -0.5574417582120699,
          0.013621664772666651,
          null,
          0.65361974034006,
          0.022359313852315675,
          null,
          0.5305448788934066,
          -0.01538424436386017,
          null,
          -0.5239862528438789,
          0.030956891385572192,
          null,
          0.5440320455620868,
          -0.01538424436386017,
          null,
          0.3522667765737412,
          0.013621664772666651,
          null,
          0.8769714019473076,
          0.022359313852315675,
          null,
          -0.07862830030751873,
          -0.01538424436386017,
          null,
          0.26115236557342486,
          0.013621664772666651,
          null,
          0.5235633194915851,
          0.013621664772666651,
          null,
          0.11904774612237418,
          -0.01538424436386017,
          null,
          0.15057726811103,
          0.013621664772666651,
          null,
          -0.2549911729188663,
          -0.01538424436386017,
          null,
          -0.9309997744904132,
          0.013621664772666651,
          null,
          0.748314686094911,
          -0.01538424436386017,
          null,
          -0.8463590592319845,
          0.013621664772666651,
          null
         ],
         "type": "scatter"
        },
        {
         "hoverinfo": "text",
         "marker": {
          "color": [],
          "colorbar": {
           "thickness": 15,
           "title": {
            "side": "right",
            "text": "Node Connections"
           },
           "xanchor": "left"
          },
          "colorscale": [
           [
            0.0,
            "rgb(255,255,217)"
           ],
           [
            0.125,
            "rgb(237,248,177)"
           ],
           [
            0.25,
            "rgb(199,233,180)"
           ],
           [
            0.375,
            "rgb(127,205,187)"
           ],
           [
            0.5,
            "rgb(65,182,196)"
           ],
           [
            0.625,
            "rgb(29,145,192)"
           ],
           [
            0.75,
            "rgb(34,94,168)"
           ],
           [
            0.875,
            "rgb(37,52,148)"
           ],
           [
            1.0,
            "rgb(8,29,88)"
           ]
          ],
          "line": {
           "width": 2
          },
          "reversescale": true,
          "showscale": true,
          "size": 10
         },
         "mode": "markers",
         "text": [
          "0",
          "Шапка",
          "Сумка",
          "1",
          "Джинсы",
          "2",
          "3",
          "4",
          "Куртка",
          "5",
          "6",
          "7",
          "8",
          "Футболка",
          "9",
          "10",
          "11",
          "12",
          "13",
          "Брюки",
          "14",
          "15",
          "16",
          "17",
          "18",
          "19",
          "20",
          "21",
          "22",
          "23",
          "24",
          "25",
          "26",
          "27",
          "28",
          "Кроссовки",
          "29",
          "30",
          "31",
          "32",
          "33",
          "34",
          "35",
          "36",
          "37",
          "Рубашка",
          "38",
          "39",
          "40",
          "41",
          "42",
          "43",
          "44",
          "45",
          "46",
          "47",
          "48",
          "49",
          "50",
          "51",
          "52",
          "53",
          "54",
          "55",
          "56",
          "57",
          "58",
          "59",
          "60",
          "61",
          "62",
          "63",
          "64",
          "65",
          "66",
          "67",
          "68",
          "69",
          "70",
          "71",
          "72",
          "73",
          "74",
          "75",
          "76",
          "77",
          "78",
          "79",
          "80",
          "81",
          "82",
          "83",
          "84",
          "85",
          "86",
          "87",
          "88",
          "89",
          "90",
          "91",
          "92",
          "93",
          "94",
          "95"
         ],
         "x": [
          -0.11186269940389158,
          -0.3105520385735088,
          -0.026634908429955036,
          0.30697959752101145,
          0.029647258560345,
          0.22680584019696412,
          0.27704961649618065,
          -0.6939507189085069,
          0.045950123054212755,
          0.2658538803136926,
          -0.8121988034046301,
          -0.8322764139516271,
          -0.4295102799229978,
          0.01629038456815373,
          -0.352621537505273,
          -0.5423299577714359,
          -0.7570267405691843,
          -0.9074253517236068,
          0.4441226093081192,
          0.009989202984679873,
          0.6237058449547853,
          0.46275343095916704,
          0.4922397085325195,
          0.38972030830588983,
          -0.28237678105534697,
          0.5587868109735372,
          -0.6753448312934048,
          -0.8735950927123163,
          -0.33327341979380826,
          0.1734063581077971,
          -0.017667256735415804,
          0.5929193764419746,
          -0.8185806436498833,
          0.7660323771764209,
          -0.3241508370680777,
          0.06882338253635273,
          0.04931382491480831,
          -0.19891298930144344,
          -0.244522786704824,
          0.12651176479009046,
          -0.58701229682177,
          0.6428317807247478,
          0.9655523347125035,
          -0.2740084089214271,
          -0.849779762387509,
          0.034027202176481336,
          0.18156179108419623,
          -0.017722140100585156,
          -0.13054142621732628,
          -0.6660311048924349,
          0.8791620102244208,
          -0.40161630214633154,
          0.533620724884936,
          0.01040874465381237,
          0.8549395917062486,
          -0.7439377887658125,
          0.8761202767200836,
          -0.35214922352335765,
          0.09451393063014424,
          -0.06295019150325208,
          0.4869186481640256,
          0.9145415627671417,
          0.6457009725010509,
          0.6451102736408783,
          0.7811029367626767,
          0.8679713002799233,
          -0.0520052364713154,
          -0.4798323683711348,
          -0.7475033296417688,
          -0.1359897224321108,
          -0.6749258827364827,
          -0.41936421236739785,
          0.747239424390618,
          0.28123662307904673,
          0.05709452826199638,
          0.754979880612299,
          0.8120201722026346,
          0.7399587863821083,
          -0.5013011165895517,
          0.6442692966520109,
          -0.166076989386474,
          0.31249083718572085,
          -0.6026419034088716,
          -0.3986206243220731,
          -0.08978358303640682,
          -0.4539672313331169,
          -0.5521465807910015,
          0.2953959026320456,
          -0.5711660261483882,
          0.30876193384731326,
          -0.6905198844408093,
          -0.26094329929500426,
          0.5584187623537633,
          -0.5681560649129368,
          0.05329065232336584,
          0.7408840074664256,
          -0.6976704631331381,
          0.3443395499347347,
          -0.8985973987241866,
          -0.6096364828657604,
          0.6778553317811095,
          -0.2631119867837071,
          0.38916891917969554,
          0.40613273033568775
         ],
         "y": [
          0.8261130476467279,
          -0.07814441923816082,
          0.022359313852315675,
          -0.197590686219452,
          -0.01538424436386017,
          0.764399759640749,
          -0.6427562025995955,
          -0.16486514395205368,
          0.030956891385572192,
          0.29144712422662705,
          0.2544300234016721,
          -0.3725357540906851,
          -0.8187385479880125,
          0.013621664772666651,
          0.08781668443513897,
          -0.7193596773811065,
          -0.507658022854017,
          -0.13874933121833505,
          0.39110153735523556,
          -0.1490627445467182,
          0.20574808666684505,
          -0.32279949139326025,
          -0.7373645709740885,
          0.036798608639914715,
          -0.26033501454473557,
          -0.10057952198727231,
          -0.6388019712467542,
          -0.00485588861904077,
          0.8325698478049214,
          -0.7278984185809093,
          0.3544072181663101,
          -0.42002918930124483,
          -0.23340550485362474,
          -0.4129969894208007,
          0.5862134277853189,
          0.012575186527694624,
          0.7519684679902903,
          0.9036246985478887,
          0.2595365999969678,
          -0.3499005881052422,
          -0.04310246211960429,
          -0.5327887662710538,
          0.1358985698917468,
          -0.7973998104171544,
          0.4211779409631462,
          0.08452382645571177,
          -0.8854463439313105,
          1.0,
          -0.7111991420041761,
          -0.39781502573770977,
          0.30402602050430017,
          0.6852068739349999,
          0.788824493942514,
          -0.9525716166197792,
          -0.2317728489315092,
          0.03054803883372086,
          -0.33728727498675914,
          -0.7022396473470272,
          0.5815744204524189,
          -0.7752472315670318,
          -0.5651840375402962,
          -0.11446532526740394,
          -0.6943226595995041,
          0.6909279299575287,
          -0.588639665458147,
          0.023635570271425866,
          -0.361192066518036,
          -0.3864615271007271,
          0.47174248000470564,
          0.5451900379200277,
          0.721853545755353,
          -0.546680434713358,
          0.300121173996267,
          -0.5043513952045062,
          -0.8025525261254561,
          0.5860596995299894,
          0.452390539518772,
          0.09678243088953722,
          0.53118361213905,
          0.40424017415930663,
          0.6790524803749394,
          0.90331811878065,
          0.6446679707023356,
          0.42235953517346203,
          -0.588076129155748,
          0.8768406534279316,
          -0.23846366278103562,
          -0.8044467142516245,
          -0.5574417582120699,
          0.65361974034006,
          0.5305448788934066,
          -0.5239862528438789,
          0.5440320455620868,
          0.3522667765737412,
          0.8769714019473076,
          -0.07862830030751873,
          0.26115236557342486,
          0.5235633194915851,
          0.11904774612237418,
          0.15057726811103,
          -0.2549911729188663,
          -0.9309997744904132,
          0.748314686094911,
          -0.8463590592319845
         ],
         "type": "scatter"
        }
       ],
       "layout": {
        "annotations": [
         {
          "showarrow": false,
          "text": "Python code: <a href='https://plotly.com/ipython-notebooks/network-graphs/'> https://plotly.com/ipython-notebooks/network-graphs/</a>",
          "x": 0.005,
          "xref": "paper",
          "y": -0.002,
          "yref": "paper"
         }
        ],
        "hovermode": "closest",
        "margin": {
         "b": 20,
         "l": 5,
         "r": 5,
         "t": 40
        },
        "showlegend": false,
        "title": {
         "font": {
          "size": 16
         },
         "text": "<br>Network graph made with Python"
        },
        "xaxis": {
         "showgrid": false,
         "showticklabels": false,
         "zeroline": false
        },
        "yaxis": {
         "showgrid": false,
         "showticklabels": false,
         "zeroline": false
        },
        "template": {
         "data": {
          "histogram2dcontour": [
           {
            "type": "histogram2dcontour",
            "colorbar": {
             "outlinewidth": 0,
             "ticks": ""
            },
            "colorscale": [
             [
              0.0,
              "#0d0887"
             ],
             [
              0.1111111111111111,
              "#46039f"
             ],
             [
              0.2222222222222222,
              "#7201a8"
             ],
             [
              0.3333333333333333,
              "#9c179e"
             ],
             [
              0.4444444444444444,
              "#bd3786"
             ],
             [
              0.5555555555555556,
              "#d8576b"
             ],
             [
              0.6666666666666666,
              "#ed7953"
             ],
             [
              0.7777777777777778,
              "#fb9f3a"
             ],
             [
              0.8888888888888888,
              "#fdca26"
             ],
             [
              1.0,
              "#f0f921"
             ]
            ]
           }
          ],
          "choropleth": [
           {
            "type": "choropleth",
            "colorbar": {
             "outlinewidth": 0,
             "ticks": ""
            }
           }
          ],
          "histogram2d": [
           {
            "type": "histogram2d",
            "colorbar": {
             "outlinewidth": 0,
             "ticks": ""
            },
            "colorscale": [
             [
              0.0,
              "#0d0887"
             ],
             [
              0.1111111111111111,
              "#46039f"
             ],
             [
              0.2222222222222222,
              "#7201a8"
             ],
             [
              0.3333333333333333,
              "#9c179e"
             ],
             [
              0.4444444444444444,
              "#bd3786"
             ],
             [
              0.5555555555555556,
              "#d8576b"
             ],
             [
              0.6666666666666666,
              "#ed7953"
             ],
             [
              0.7777777777777778,
              "#fb9f3a"
             ],
             [
              0.8888888888888888,
              "#fdca26"
             ],
             [
              1.0,
              "#f0f921"
             ]
            ]
           }
          ],
          "heatmap": [
           {
            "type": "heatmap",
            "colorbar": {
             "outlinewidth": 0,
             "ticks": ""
            },
            "colorscale": [
             [
              0.0,
              "#0d0887"
             ],
             [
              0.1111111111111111,
              "#46039f"
             ],
             [
              0.2222222222222222,
              "#7201a8"
             ],
             [
              0.3333333333333333,
              "#9c179e"
             ],
             [
              0.4444444444444444,
              "#bd3786"
             ],
             [
              0.5555555555555556,
              "#d8576b"
             ],
             [
              0.6666666666666666,
              "#ed7953"
             ],
             [
              0.7777777777777778,
              "#fb9f3a"
             ],
             [
              0.8888888888888888,
              "#fdca26"
             ],
             [
              1.0,
              "#f0f921"
             ]
            ]
           }
          ],
          "heatmapgl": [
           {
            "type": "heatmapgl",
            "colorbar": {
             "outlinewidth": 0,
             "ticks": ""
            },
            "colorscale": [
             [
              0.0,
              "#0d0887"
             ],
             [
              0.1111111111111111,
              "#46039f"
             ],
             [
              0.2222222222222222,
              "#7201a8"
             ],
             [
              0.3333333333333333,
              "#9c179e"
             ],
             [
              0.4444444444444444,
              "#bd3786"
             ],
             [
              0.5555555555555556,
              "#d8576b"
             ],
             [
              0.6666666666666666,
              "#ed7953"
             ],
             [
              0.7777777777777778,
              "#fb9f3a"
             ],
             [
              0.8888888888888888,
              "#fdca26"
             ],
             [
              1.0,
              "#f0f921"
             ]
            ]
           }
          ],
          "contourcarpet": [
           {
            "type": "contourcarpet",
            "colorbar": {
             "outlinewidth": 0,
             "ticks": ""
            }
           }
          ],
          "contour": [
           {
            "type": "contour",
            "colorbar": {
             "outlinewidth": 0,
             "ticks": ""
            },
            "colorscale": [
             [
              0.0,
              "#0d0887"
             ],
             [
              0.1111111111111111,
              "#46039f"
             ],
             [
              0.2222222222222222,
              "#7201a8"
             ],
             [
              0.3333333333333333,
              "#9c179e"
             ],
             [
              0.4444444444444444,
              "#bd3786"
             ],
             [
              0.5555555555555556,
              "#d8576b"
             ],
             [
              0.6666666666666666,
              "#ed7953"
             ],
             [
              0.7777777777777778,
              "#fb9f3a"
             ],
             [
              0.8888888888888888,
              "#fdca26"
             ],
             [
              1.0,
              "#f0f921"
             ]
            ]
           }
          ],
          "surface": [
           {
            "type": "surface",
            "colorbar": {
             "outlinewidth": 0,
             "ticks": ""
            },
            "colorscale": [
             [
              0.0,
              "#0d0887"
             ],
             [
              0.1111111111111111,
              "#46039f"
             ],
             [
              0.2222222222222222,
              "#7201a8"
             ],
             [
              0.3333333333333333,
              "#9c179e"
             ],
             [
              0.4444444444444444,
              "#bd3786"
             ],
             [
              0.5555555555555556,
              "#d8576b"
             ],
             [
              0.6666666666666666,
              "#ed7953"
             ],
             [
              0.7777777777777778,
              "#fb9f3a"
             ],
             [
              0.8888888888888888,
              "#fdca26"
             ],
             [
              1.0,
              "#f0f921"
             ]
            ]
           }
          ],
          "mesh3d": [
           {
            "type": "mesh3d",
            "colorbar": {
             "outlinewidth": 0,
             "ticks": ""
            }
           }
          ],
          "scatter": [
           {
            "fillpattern": {
             "fillmode": "overlay",
             "size": 10,
             "solidity": 0.2
            },
            "type": "scatter"
           }
          ],
          "parcoords": [
           {
            "type": "parcoords",
            "line": {
             "colorbar": {
              "outlinewidth": 0,
              "ticks": ""
             }
            }
           }
          ],
          "scatterpolargl": [
           {
            "type": "scatterpolargl",
            "marker": {
             "colorbar": {
              "outlinewidth": 0,
              "ticks": ""
             }
            }
           }
          ],
          "bar": [
           {
            "error_x": {
             "color": "#2a3f5f"
            },
            "error_y": {
             "color": "#2a3f5f"
            },
            "marker": {
             "line": {
              "color": "#E5ECF6",
              "width": 0.5
             },
             "pattern": {
              "fillmode": "overlay",
              "size": 10,
              "solidity": 0.2
             }
            },
            "type": "bar"
           }
          ],
          "scattergeo": [
           {
            "type": "scattergeo",
            "marker": {
             "colorbar": {
              "outlinewidth": 0,
              "ticks": ""
             }
            }
           }
          ],
          "scatterpolar": [
           {
            "type": "scatterpolar",
            "marker": {
             "colorbar": {
              "outlinewidth": 0,
              "ticks": ""
             }
            }
           }
          ],
          "histogram": [
           {
            "marker": {
             "pattern": {
              "fillmode": "overlay",
              "size": 10,
              "solidity": 0.2
             }
            },
            "type": "histogram"
           }
          ],
          "scattergl": [
           {
            "type": "scattergl",
            "marker": {
             "colorbar": {
              "outlinewidth": 0,
              "ticks": ""
             }
            }
           }
          ],
          "scatter3d": [
           {
            "type": "scatter3d",
            "line": {
             "colorbar": {
              "outlinewidth": 0,
              "ticks": ""
             }
            },
            "marker": {
             "colorbar": {
              "outlinewidth": 0,
              "ticks": ""
             }
            }
           }
          ],
          "scattermapbox": [
           {
            "type": "scattermapbox",
            "marker": {
             "colorbar": {
              "outlinewidth": 0,
              "ticks": ""
             }
            }
           }
          ],
          "scatterternary": [
           {
            "type": "scatterternary",
            "marker": {
             "colorbar": {
              "outlinewidth": 0,
              "ticks": ""
             }
            }
           }
          ],
          "scattercarpet": [
           {
            "type": "scattercarpet",
            "marker": {
             "colorbar": {
              "outlinewidth": 0,
              "ticks": ""
             }
            }
           }
          ],
          "carpet": [
           {
            "aaxis": {
             "endlinecolor": "#2a3f5f",
             "gridcolor": "white",
             "linecolor": "white",
             "minorgridcolor": "white",
             "startlinecolor": "#2a3f5f"
            },
            "baxis": {
             "endlinecolor": "#2a3f5f",
             "gridcolor": "white",
             "linecolor": "white",
             "minorgridcolor": "white",
             "startlinecolor": "#2a3f5f"
            },
            "type": "carpet"
           }
          ],
          "table": [
           {
            "cells": {
             "fill": {
              "color": "#EBF0F8"
             },
             "line": {
              "color": "white"
             }
            },
            "header": {
             "fill": {
              "color": "#C8D4E3"
             },
             "line": {
              "color": "white"
             }
            },
            "type": "table"
           }
          ],
          "barpolar": [
           {
            "marker": {
             "line": {
              "color": "#E5ECF6",
              "width": 0.5
             },
             "pattern": {
              "fillmode": "overlay",
              "size": 10,
              "solidity": 0.2
             }
            },
            "type": "barpolar"
           }
          ],
          "pie": [
           {
            "automargin": true,
            "type": "pie"
           }
          ]
         },
         "layout": {
          "autotypenumbers": "strict",
          "colorway": [
           "#636efa",
           "#EF553B",
           "#00cc96",
           "#ab63fa",
           "#FFA15A",
           "#19d3f3",
           "#FF6692",
           "#B6E880",
           "#FF97FF",
           "#FECB52"
          ],
          "font": {
           "color": "#2a3f5f"
          },
          "hovermode": "closest",
          "hoverlabel": {
           "align": "left"
          },
          "paper_bgcolor": "white",
          "plot_bgcolor": "#E5ECF6",
          "polar": {
           "bgcolor": "#E5ECF6",
           "angularaxis": {
            "gridcolor": "white",
            "linecolor": "white",
            "ticks": ""
           },
           "radialaxis": {
            "gridcolor": "white",
            "linecolor": "white",
            "ticks": ""
           }
          },
          "ternary": {
           "bgcolor": "#E5ECF6",
           "aaxis": {
            "gridcolor": "white",
            "linecolor": "white",
            "ticks": ""
           },
           "baxis": {
            "gridcolor": "white",
            "linecolor": "white",
            "ticks": ""
           },
           "caxis": {
            "gridcolor": "white",
            "linecolor": "white",
            "ticks": ""
           }
          },
          "coloraxis": {
           "colorbar": {
            "outlinewidth": 0,
            "ticks": ""
           }
          },
          "colorscale": {
           "sequential": [
            [
             0.0,
             "#0d0887"
            ],
            [
             0.1111111111111111,
             "#46039f"
            ],
            [
             0.2222222222222222,
             "#7201a8"
            ],
            [
             0.3333333333333333,
             "#9c179e"
            ],
            [
             0.4444444444444444,
             "#bd3786"
            ],
            [
             0.5555555555555556,
             "#d8576b"
            ],
            [
             0.6666666666666666,
             "#ed7953"
            ],
            [
             0.7777777777777778,
             "#fb9f3a"
            ],
            [
             0.8888888888888888,
             "#fdca26"
            ],
            [
             1.0,
             "#f0f921"
            ]
           ],
           "sequentialminus": [
            [
             0.0,
             "#0d0887"
            ],
            [
             0.1111111111111111,
             "#46039f"
            ],
            [
             0.2222222222222222,
             "#7201a8"
            ],
            [
             0.3333333333333333,
             "#9c179e"
            ],
            [
             0.4444444444444444,
             "#bd3786"
            ],
            [
             0.5555555555555556,
             "#d8576b"
            ],
            [
             0.6666666666666666,
             "#ed7953"
            ],
            [
             0.7777777777777778,
             "#fb9f3a"
            ],
            [
             0.8888888888888888,
             "#fdca26"
            ],
            [
             1.0,
             "#f0f921"
            ]
           ],
           "diverging": [
            [
             0,
             "#8e0152"
            ],
            [
             0.1,
             "#c51b7d"
            ],
            [
             0.2,
             "#de77ae"
            ],
            [
             0.3,
             "#f1b6da"
            ],
            [
             0.4,
             "#fde0ef"
            ],
            [
             0.5,
             "#f7f7f7"
            ],
            [
             0.6,
             "#e6f5d0"
            ],
            [
             0.7,
             "#b8e186"
            ],
            [
             0.8,
             "#7fbc41"
            ],
            [
             0.9,
             "#4d9221"
            ],
            [
             1,
             "#276419"
            ]
           ]
          },
          "xaxis": {
           "gridcolor": "white",
           "linecolor": "white",
           "ticks": "",
           "title": {
            "standoff": 15
           },
           "zerolinecolor": "white",
           "automargin": true,
           "zerolinewidth": 2
          },
          "yaxis": {
           "gridcolor": "white",
           "linecolor": "white",
           "ticks": "",
           "title": {
            "standoff": 15
           },
           "zerolinecolor": "white",
           "automargin": true,
           "zerolinewidth": 2
          },
          "scene": {
           "xaxis": {
            "backgroundcolor": "#E5ECF6",
            "gridcolor": "white",
            "linecolor": "white",
            "showbackground": true,
            "ticks": "",
            "zerolinecolor": "white",
            "gridwidth": 2
           },
           "yaxis": {
            "backgroundcolor": "#E5ECF6",
            "gridcolor": "white",
            "linecolor": "white",
            "showbackground": true,
            "ticks": "",
            "zerolinecolor": "white",
            "gridwidth": 2
           },
           "zaxis": {
            "backgroundcolor": "#E5ECF6",
            "gridcolor": "white",
            "linecolor": "white",
            "showbackground": true,
            "ticks": "",
            "zerolinecolor": "white",
            "gridwidth": 2
           }
          },
          "shapedefaults": {
           "line": {
            "color": "#2a3f5f"
           }
          },
          "annotationdefaults": {
           "arrowcolor": "#2a3f5f",
           "arrowhead": 0,
           "arrowwidth": 1
          },
          "geo": {
           "bgcolor": "white",
           "landcolor": "#E5ECF6",
           "subunitcolor": "white",
           "showland": true,
           "showlakes": true,
           "lakecolor": "white"
          },
          "title": {
           "x": 0.05
          },
          "mapbox": {
           "style": "light"
          }
         }
        }
       },
       "config": {
        "plotlyServerURL": "https://plot.ly"
       }
      },
      "text/html": [
       "<div>                            <div id=\"2cae3cc9-77ea-4be8-9854-bcfc792a6a2b\" class=\"plotly-graph-div\" style=\"height:525px; width:100%;\"></div>            <script type=\"text/javascript\">                require([\"plotly\"], function(Plotly) {                    window.PLOTLYENV=window.PLOTLYENV || {};                                    if (document.getElementById(\"2cae3cc9-77ea-4be8-9854-bcfc792a6a2b\")) {                    Plotly.newPlot(                        \"2cae3cc9-77ea-4be8-9854-bcfc792a6a2b\",                        [{\"hoverinfo\":\"none\",\"line\":{\"color\":\"#888\",\"width\":0.5},\"mode\":\"lines\",\"x\":[-0.11186269940389158,-0.026634908429955036,null,-0.3105520385735088,-0.11186269940389158,null,-0.3105520385735088,0.30697959752101145,null,-0.3105520385735088,0.22680584019696412,null,-0.3105520385735088,0.27704961649618065,null,-0.3105520385735088,-0.6939507189085069,null,-0.3105520385735088,0.2658538803136926,null,-0.3105520385735088,-0.8121988034046301,null,-0.3105520385735088,-0.8322764139516271,null,-0.3105520385735088,-0.4295102799229978,null,-0.3105520385735088,-0.352621537505273,null,-0.3105520385735088,-0.5423299577714359,null,-0.3105520385735088,-0.7570267405691843,null,-0.3105520385735088,-0.9074253517236068,null,-0.026634908429955036,0.22680584019696412,null,-0.026634908429955036,0.6237058449547853,null,-0.026634908429955036,0.4922397085325195,null,-0.026634908429955036,0.38972030830588983,null,-0.026634908429955036,0.5587868109735372,null,-0.026634908429955036,-0.6753448312934048,null,-0.026634908429955036,-0.8735950927123163,null,-0.026634908429955036,-0.3241508370680777,null,-0.026634908429955036,-0.19891298930144344,null,-0.026634908429955036,-0.244522786704824,null,-0.026634908429955036,-0.58701229682177,null,-0.026634908429955036,0.6428317807247478,null,-0.026634908429955036,0.9655523347125035,null,-0.026634908429955036,0.8679713002799233,null,-0.026634908429955036,-0.0520052364713154,null,-0.026634908429955036,-0.4798323683711348,null,-0.026634908429955036,-0.7475033296417688,null,-0.026634908429955036,-0.1359897224321108,null,-0.026634908429955036,-0.41936421236739785,null,-0.026634908429955036,0.747239424390618,null,-0.026634908429955036,-0.5521465807910015,null,-0.026634908429955036,0.2953959026320456,null,-0.026634908429955036,-0.5711660261483882,null,-0.026634908429955036,-0.6905198844408093,null,-0.026634908429955036,-0.26094329929500426,null,-0.026634908429955036,0.5584187623537633,null,-0.026634908429955036,-0.5681560649129368,null,-0.026634908429955036,0.7408840074664256,null,-0.026634908429955036,-0.6976704631331381,null,-0.026634908429955036,0.3443395499347347,null,0.30697959752101145,-0.026634908429955036,null,0.30697959752101145,0.029647258560345,null,0.029647258560345,0.27704961649618065,null,0.029647258560345,-0.8121988034046301,null,0.029647258560345,-0.5423299577714359,null,0.029647258560345,0.46275343095916704,null,0.029647258560345,-0.28237678105534697,null,0.029647258560345,0.5587868109735372,null,0.029647258560345,-0.8735950927123163,null,0.029647258560345,-0.33327341979380826,null,0.029647258560345,-0.8185806436498833,null,0.029647258560345,0.8791620102244208,null,0.029647258560345,0.533620724884936,null,0.029647258560345,0.8549395917062486,null,0.029647258560345,0.8761202767200836,null,0.029647258560345,0.754979880612299,null,0.029647258560345,0.8120201722026346,null,0.029647258560345,-0.166076989386474,null,0.029647258560345,-0.26094329929500426,null,0.029647258560345,-0.5681560649129368,null,0.029647258560345,0.05329065232336584,null,0.029647258560345,-0.6976704631331381,null,0.029647258560345,-0.2631119867837071,null,0.029647258560345,0.40613273033568775,null,0.22680584019696412,0.029647258560345,null,0.27704961649618065,-0.026634908429955036,null,-0.6939507189085069,0.045950123054212755,null,0.045950123054212755,-0.8322764139516271,null,0.045950123054212755,0.6428317807247478,null,0.045950123054212755,0.9655523347125035,null,0.045950123054212755,-0.2740084089214271,null,0.045950123054212755,-0.017722140100585156,null,0.045950123054212755,-0.13054142621732628,null,0.045950123054212755,0.01040874465381237,null,0.045950123054212755,0.8549395917062486,null,0.045950123054212755,0.9145415627671417,null,0.045950123054212755,0.6457009725010509,null,0.045950123054212755,0.7811029367626767,null,0.045950123054212755,-0.7475033296417688,null,0.045950123054212755,-0.1359897224321108,null,0.045950123054212755,-0.6749258827364827,null,0.045950123054212755,0.747239424390618,null,0.045950123054212755,0.28123662307904673,null,0.045950123054212755,0.8120201722026346,null,0.045950123054212755,0.7399587863821083,null,0.045950123054212755,-0.6026419034088716,null,0.045950123054212755,-0.3986206243220731,null,0.045950123054212755,-0.4539672313331169,null,0.045950123054212755,-0.5711660261483882,null,0.045950123054212755,0.30876193384731326,null,0.045950123054212755,0.5584187623537633,null,0.045950123054212755,-0.5681560649129368,null,0.045950123054212755,0.05329065232336584,null,0.045950123054212755,-0.8985973987241866,null,0.045950123054212755,-0.6096364828657604,null,0.045950123054212755,0.6778553317811095,null,0.045950123054212755,-0.2631119867837071,null,0.2658538803136926,0.029647258560345,null,0.2658538803136926,0.045950123054212755,null,-0.8121988034046301,0.045950123054212755,null,-0.8322764139516271,0.029647258560345,null,-0.4295102799229978,0.01629038456815373,null,0.01629038456815373,-0.7570267405691843,null,0.01629038456815373,0.5587868109735372,null,0.01629038456815373,-0.6753448312934048,null,0.01629038456815373,-0.33327341979380826,null,0.01629038456815373,0.5929193764419746,null,0.01629038456815373,0.04931382491480831,null,0.01629038456815373,0.12651176479009046,null,0.01629038456815373,-0.58701229682177,null,0.01629038456815373,0.9655523347125035,null,0.01629038456815373,-0.2740084089214271,null,0.01629038456815373,-0.35214922352335765,null,0.01629038456815373,-0.06295019150325208,null,0.01629038456815373,0.4869186481640256,null,0.01629038456815373,0.6457009725010509,null,0.01629038456815373,-0.4798323683711348,null,0.01629038456815373,-0.7475033296417688,null,0.01629038456815373,-0.6749258827364827,null,0.01629038456815373,0.6442692966520109,null,0.01629038456815373,0.31249083718572085,null,0.01629038456815373,-0.6026419034088716,null,0.01629038456815373,0.2953959026320456,null,0.01629038456815373,0.30876193384731326,null,0.01629038456815373,-0.26094329929500426,null,0.01629038456815373,0.5584187623537633,null,0.01629038456815373,0.05329065232336584,null,0.01629038456815373,0.7408840074664256,null,0.01629038456815373,0.6778553317811095,null,0.01629038456815373,0.38916891917969554,null,-0.352621537505273,0.01629038456815373,null,-0.352621537505273,0.029647258560345,null,-0.5423299577714359,0.01629038456815373,null,-0.7570267405691843,0.029647258560345,null,-0.9074253517236068,0.029647258560345,null,0.4441226093081192,-0.026634908429955036,null,0.009989202984679873,0.4441226093081192,null,0.009989202984679873,0.6237058449547853,null,0.009989202984679873,0.46275343095916704,null,0.009989202984679873,0.4922397085325195,null,0.009989202984679873,0.38972030830588983,null,0.009989202984679873,-0.28237678105534697,null,0.009989202984679873,-0.6753448312934048,null,0.009989202984679873,-0.8735950927123163,null,0.009989202984679873,-0.33327341979380826,null,0.009989202984679873,0.1734063581077971,null,0.009989202984679873,-0.017667256735415804,null,0.009989202984679873,0.5929193764419746,null,0.009989202984679873,-0.8185806436498833,null,0.009989202984679873,0.7660323771764209,null,0.6237058449547853,0.029647258560345,null,0.46275343095916704,-0.026634908429955036,null,0.4922397085325195,0.01629038456815373,null,0.38972030830588983,0.01629038456815373,null,0.38972030830588983,0.029647258560345,null,-0.28237678105534697,-0.026634908429955036,null,-0.28237678105534697,0.01629038456815373,null,0.5587868109735372,0.009989202984679873,null,-0.6753448312934048,0.029647258560345,null,-0.8735950927123163,0.01629038456815373,null,-0.33327341979380826,-0.026634908429955036,null,0.1734063581077971,0.029647258560345,null,-0.017667256735415804,0.01629038456815373,null,-0.017667256735415804,0.029647258560345,null,0.5929193764419746,0.029647258560345,null,-0.8185806436498833,0.01629038456815373,null,0.7660323771764209,0.01629038456815373,null,-0.3241508370680777,0.01629038456815373,null,0.06882338253635273,-0.3241508370680777,null,0.06882338253635273,0.04931382491480831,null,0.06882338253635273,-0.19891298930144344,null,0.06882338253635273,-0.244522786704824,null,0.06882338253635273,0.12651176479009046,null,0.06882338253635273,-0.58701229682177,null,0.06882338253635273,0.6428317807247478,null,0.06882338253635273,-0.2740084089214271,null,0.06882338253635273,-0.849779762387509,null,0.06882338253635273,0.18156179108419623,null,0.06882338253635273,-0.017722140100585156,null,0.06882338253635273,-0.6660311048924349,null,0.06882338253635273,0.8791620102244208,null,0.06882338253635273,-0.40161630214633154,null,0.06882338253635273,0.533620724884936,null,0.06882338253635273,0.01040874465381237,null,0.06882338253635273,-0.7439377887658125,null,0.06882338253635273,0.8761202767200836,null,0.06882338253635273,-0.35214922352335765,null,0.06882338253635273,0.09451393063014424,null,0.06882338253635273,-0.06295019150325208,null,0.06882338253635273,0.4869186481640256,null,0.06882338253635273,0.9145415627671417,null,0.06882338253635273,0.6451102736408783,null,0.04931382491480831,-0.026634908429955036,null,-0.19891298930144344,0.045950123054212755,null,-0.244522786704824,0.01629038456815373,null,-0.244522786704824,0.045950123054212755,null,0.12651176479009046,-0.026634908429955036,null,0.12651176479009046,0.045950123054212755,null,-0.58701229682177,0.045950123054212755,null,0.6428317807247478,0.01629038456815373,null,0.9655523347125035,0.06882338253635273,null,-0.2740084089214271,-0.026634908429955036,null,-0.849779762387509,0.034027202176481336,null,0.034027202176481336,0.18156179108419623,null,0.034027202176481336,-0.13054142621732628,null,0.034027202176481336,-0.40161630214633154,null,0.034027202176481336,0.09451393063014424,null,0.034027202176481336,0.8679713002799233,null,0.034027202176481336,-0.0520052364713154,null,0.034027202176481336,-0.4798323683711348,null,0.034027202176481336,-0.1359897224321108,null,0.034027202176481336,-0.6749258827364827,null,0.034027202176481336,-0.41936421236739785,null,0.034027202176481336,0.28123662307904673,null,0.034027202176481336,0.05709452826199638,null,0.034027202176481336,0.754979880612299,null,0.034027202176481336,0.7399587863821083,null,0.034027202176481336,-0.5013011165895517,null,0.034027202176481336,0.6442692966520109,null,0.034027202176481336,-0.166076989386474,null,0.034027202176481336,0.31249083718572085,null,0.034027202176481336,-0.3986206243220731,null,0.034027202176481336,-0.08978358303640682,null,0.18156179108419623,0.045950123054212755,null,-0.017722140100585156,0.034027202176481336,null,-0.13054142621732628,0.06882338253635273,null,-0.6660311048924349,0.029647258560345,null,0.8791620102244208,0.034027202176481336,null,-0.40161630214633154,0.029647258560345,null,0.533620724884936,0.045950123054212755,null,0.01040874465381237,0.029647258560345,null,0.8549395917062486,0.06882338253635273,null,-0.7439377887658125,0.01629038456815373,null,0.8761202767200836,0.01629038456815373,null,-0.35214922352335765,0.029647258560345,null,0.09451393063014424,0.01629038456815373,null,-0.06295019150325208,0.034027202176481336,null,0.4869186481640256,0.045950123054212755,null,0.9145415627671417,0.01629038456815373,null,0.6457009725010509,0.06882338253635273,null,0.6451102736408783,0.045950123054212755,null,0.7811029367626767,0.06882338253635273,null,0.8679713002799233,0.01629038456815373,null,-0.0520052364713154,0.01629038456815373,null,-0.0520052364713154,0.045950123054212755,null,-0.4798323683711348,0.045950123054212755,null,-0.7475033296417688,0.034027202176481336,null,-0.1359897224321108,0.01629038456815373,null,-0.6749258827364827,-0.026634908429955036,null,-0.41936421236739785,0.045950123054212755,null,0.747239424390618,0.034027202176481336,null,0.28123662307904673,-0.026634908429955036,null,0.05709452826199638,0.029647258560345,null,0.754979880612299,0.045950123054212755,null,0.8120201722026346,0.034027202176481336,null,0.7399587863821083,0.029647258560345,null,-0.5013011165895517,0.01629038456815373,null,0.6442692966520109,0.029647258560345,null,-0.166076989386474,0.01629038456815373,null,0.31249083718572085,0.045950123054212755,null,-0.6026419034088716,0.034027202176481336,null,-0.3986206243220731,0.01629038456815373,null,-0.08978358303640682,0.045950123054212755,null,-0.4539672313331169,0.034027202176481336,null,-0.5521465807910015,0.045950123054212755,null,0.2953959026320456,0.045950123054212755,null,-0.5711660261483882,0.01629038456815373,null,0.30876193384731326,-0.026634908429955036,null,-0.6905198844408093,0.029647258560345,null,-0.26094329929500426,0.045950123054212755,null,0.5584187623537633,0.029647258560345,null,-0.5681560649129368,0.01629038456815373,null,0.05329065232336584,-0.026634908429955036,null,0.7408840074664256,0.029647258560345,null,-0.6976704631331381,0.01629038456815373,null,0.3443395499347347,0.01629038456815373,null,-0.8985973987241866,0.029647258560345,null,-0.6096364828657604,0.01629038456815373,null,0.6778553317811095,0.029647258560345,null,-0.2631119867837071,0.01629038456815373,null,0.38916891917969554,0.029647258560345,null,0.40613273033568775,0.01629038456815373,null],\"y\":[0.8261130476467279,0.022359313852315675,null,-0.07814441923816082,0.8261130476467279,null,-0.07814441923816082,-0.197590686219452,null,-0.07814441923816082,0.764399759640749,null,-0.07814441923816082,-0.6427562025995955,null,-0.07814441923816082,-0.16486514395205368,null,-0.07814441923816082,0.29144712422662705,null,-0.07814441923816082,0.2544300234016721,null,-0.07814441923816082,-0.3725357540906851,null,-0.07814441923816082,-0.8187385479880125,null,-0.07814441923816082,0.08781668443513897,null,-0.07814441923816082,-0.7193596773811065,null,-0.07814441923816082,-0.507658022854017,null,-0.07814441923816082,-0.13874933121833505,null,0.022359313852315675,0.764399759640749,null,0.022359313852315675,0.20574808666684505,null,0.022359313852315675,-0.7373645709740885,null,0.022359313852315675,0.036798608639914715,null,0.022359313852315675,-0.10057952198727231,null,0.022359313852315675,-0.6388019712467542,null,0.022359313852315675,-0.00485588861904077,null,0.022359313852315675,0.5862134277853189,null,0.022359313852315675,0.9036246985478887,null,0.022359313852315675,0.2595365999969678,null,0.022359313852315675,-0.04310246211960429,null,0.022359313852315675,-0.5327887662710538,null,0.022359313852315675,0.1358985698917468,null,0.022359313852315675,0.023635570271425866,null,0.022359313852315675,-0.361192066518036,null,0.022359313852315675,-0.3864615271007271,null,0.022359313852315675,0.47174248000470564,null,0.022359313852315675,0.5451900379200277,null,0.022359313852315675,-0.546680434713358,null,0.022359313852315675,0.300121173996267,null,0.022359313852315675,-0.23846366278103562,null,0.022359313852315675,-0.8044467142516245,null,0.022359313852315675,-0.5574417582120699,null,0.022359313852315675,0.5305448788934066,null,0.022359313852315675,-0.5239862528438789,null,0.022359313852315675,0.5440320455620868,null,0.022359313852315675,0.3522667765737412,null,0.022359313852315675,-0.07862830030751873,null,0.022359313852315675,0.26115236557342486,null,0.022359313852315675,0.5235633194915851,null,-0.197590686219452,0.022359313852315675,null,-0.197590686219452,-0.01538424436386017,null,-0.01538424436386017,-0.6427562025995955,null,-0.01538424436386017,0.2544300234016721,null,-0.01538424436386017,-0.7193596773811065,null,-0.01538424436386017,-0.32279949139326025,null,-0.01538424436386017,-0.26033501454473557,null,-0.01538424436386017,-0.10057952198727231,null,-0.01538424436386017,-0.00485588861904077,null,-0.01538424436386017,0.8325698478049214,null,-0.01538424436386017,-0.23340550485362474,null,-0.01538424436386017,0.30402602050430017,null,-0.01538424436386017,0.788824493942514,null,-0.01538424436386017,-0.2317728489315092,null,-0.01538424436386017,-0.33728727498675914,null,-0.01538424436386017,0.5860596995299894,null,-0.01538424436386017,0.452390539518772,null,-0.01538424436386017,0.6790524803749394,null,-0.01538424436386017,-0.5239862528438789,null,-0.01538424436386017,0.3522667765737412,null,-0.01538424436386017,0.8769714019473076,null,-0.01538424436386017,0.26115236557342486,null,-0.01538424436386017,-0.9309997744904132,null,-0.01538424436386017,-0.8463590592319845,null,0.764399759640749,-0.01538424436386017,null,-0.6427562025995955,0.022359313852315675,null,-0.16486514395205368,0.030956891385572192,null,0.030956891385572192,-0.3725357540906851,null,0.030956891385572192,-0.5327887662710538,null,0.030956891385572192,0.1358985698917468,null,0.030956891385572192,-0.7973998104171544,null,0.030956891385572192,1.0,null,0.030956891385572192,-0.7111991420041761,null,0.030956891385572192,-0.9525716166197792,null,0.030956891385572192,-0.2317728489315092,null,0.030956891385572192,-0.11446532526740394,null,0.030956891385572192,-0.6943226595995041,null,0.030956891385572192,-0.588639665458147,null,0.030956891385572192,0.47174248000470564,null,0.030956891385572192,0.5451900379200277,null,0.030956891385572192,0.721853545755353,null,0.030956891385572192,0.300121173996267,null,0.030956891385572192,-0.5043513952045062,null,0.030956891385572192,0.452390539518772,null,0.030956891385572192,0.09678243088953722,null,0.030956891385572192,0.6446679707023356,null,0.030956891385572192,0.42235953517346203,null,0.030956891385572192,0.8768406534279316,null,0.030956891385572192,-0.5574417582120699,null,0.030956891385572192,0.65361974034006,null,0.030956891385572192,0.5440320455620868,null,0.030956891385572192,0.3522667765737412,null,0.030956891385572192,0.8769714019473076,null,0.030956891385572192,0.11904774612237418,null,0.030956891385572192,0.15057726811103,null,0.030956891385572192,-0.2549911729188663,null,0.030956891385572192,-0.9309997744904132,null,0.29144712422662705,-0.01538424436386017,null,0.29144712422662705,0.030956891385572192,null,0.2544300234016721,0.030956891385572192,null,-0.3725357540906851,-0.01538424436386017,null,-0.8187385479880125,0.013621664772666651,null,0.013621664772666651,-0.507658022854017,null,0.013621664772666651,-0.10057952198727231,null,0.013621664772666651,-0.6388019712467542,null,0.013621664772666651,0.8325698478049214,null,0.013621664772666651,-0.42002918930124483,null,0.013621664772666651,0.7519684679902903,null,0.013621664772666651,-0.3499005881052422,null,0.013621664772666651,-0.04310246211960429,null,0.013621664772666651,0.1358985698917468,null,0.013621664772666651,-0.7973998104171544,null,0.013621664772666651,-0.7022396473470272,null,0.013621664772666651,-0.7752472315670318,null,0.013621664772666651,-0.5651840375402962,null,0.013621664772666651,-0.6943226595995041,null,0.013621664772666651,-0.3864615271007271,null,0.013621664772666651,0.47174248000470564,null,0.013621664772666651,0.721853545755353,null,0.013621664772666651,0.40424017415930663,null,0.013621664772666651,0.90331811878065,null,0.013621664772666651,0.6446679707023356,null,0.013621664772666651,-0.8044467142516245,null,0.013621664772666651,0.65361974034006,null,0.013621664772666651,-0.5239862528438789,null,0.013621664772666651,0.5440320455620868,null,0.013621664772666651,0.8769714019473076,null,0.013621664772666651,-0.07862830030751873,null,0.013621664772666651,-0.2549911729188663,null,0.013621664772666651,0.748314686094911,null,0.08781668443513897,0.013621664772666651,null,0.08781668443513897,-0.01538424436386017,null,-0.7193596773811065,0.013621664772666651,null,-0.507658022854017,-0.01538424436386017,null,-0.13874933121833505,-0.01538424436386017,null,0.39110153735523556,0.022359313852315675,null,-0.1490627445467182,0.39110153735523556,null,-0.1490627445467182,0.20574808666684505,null,-0.1490627445467182,-0.32279949139326025,null,-0.1490627445467182,-0.7373645709740885,null,-0.1490627445467182,0.036798608639914715,null,-0.1490627445467182,-0.26033501454473557,null,-0.1490627445467182,-0.6388019712467542,null,-0.1490627445467182,-0.00485588861904077,null,-0.1490627445467182,0.8325698478049214,null,-0.1490627445467182,-0.7278984185809093,null,-0.1490627445467182,0.3544072181663101,null,-0.1490627445467182,-0.42002918930124483,null,-0.1490627445467182,-0.23340550485362474,null,-0.1490627445467182,-0.4129969894208007,null,0.20574808666684505,-0.01538424436386017,null,-0.32279949139326025,0.022359313852315675,null,-0.7373645709740885,0.013621664772666651,null,0.036798608639914715,0.013621664772666651,null,0.036798608639914715,-0.01538424436386017,null,-0.26033501454473557,0.022359313852315675,null,-0.26033501454473557,0.013621664772666651,null,-0.10057952198727231,-0.1490627445467182,null,-0.6388019712467542,-0.01538424436386017,null,-0.00485588861904077,0.013621664772666651,null,0.8325698478049214,0.022359313852315675,null,-0.7278984185809093,-0.01538424436386017,null,0.3544072181663101,0.013621664772666651,null,0.3544072181663101,-0.01538424436386017,null,-0.42002918930124483,-0.01538424436386017,null,-0.23340550485362474,0.013621664772666651,null,-0.4129969894208007,0.013621664772666651,null,0.5862134277853189,0.013621664772666651,null,0.012575186527694624,0.5862134277853189,null,0.012575186527694624,0.7519684679902903,null,0.012575186527694624,0.9036246985478887,null,0.012575186527694624,0.2595365999969678,null,0.012575186527694624,-0.3499005881052422,null,0.012575186527694624,-0.04310246211960429,null,0.012575186527694624,-0.5327887662710538,null,0.012575186527694624,-0.7973998104171544,null,0.012575186527694624,0.4211779409631462,null,0.012575186527694624,-0.8854463439313105,null,0.012575186527694624,1.0,null,0.012575186527694624,-0.39781502573770977,null,0.012575186527694624,0.30402602050430017,null,0.012575186527694624,0.6852068739349999,null,0.012575186527694624,0.788824493942514,null,0.012575186527694624,-0.9525716166197792,null,0.012575186527694624,0.03054803883372086,null,0.012575186527694624,-0.33728727498675914,null,0.012575186527694624,-0.7022396473470272,null,0.012575186527694624,0.5815744204524189,null,0.012575186527694624,-0.7752472315670318,null,0.012575186527694624,-0.5651840375402962,null,0.012575186527694624,-0.11446532526740394,null,0.012575186527694624,0.6909279299575287,null,0.7519684679902903,0.022359313852315675,null,0.9036246985478887,0.030956891385572192,null,0.2595365999969678,0.013621664772666651,null,0.2595365999969678,0.030956891385572192,null,-0.3499005881052422,0.022359313852315675,null,-0.3499005881052422,0.030956891385572192,null,-0.04310246211960429,0.030956891385572192,null,-0.5327887662710538,0.013621664772666651,null,0.1358985698917468,0.012575186527694624,null,-0.7973998104171544,0.022359313852315675,null,0.4211779409631462,0.08452382645571177,null,0.08452382645571177,-0.8854463439313105,null,0.08452382645571177,-0.7111991420041761,null,0.08452382645571177,0.6852068739349999,null,0.08452382645571177,0.5815744204524189,null,0.08452382645571177,0.023635570271425866,null,0.08452382645571177,-0.361192066518036,null,0.08452382645571177,-0.3864615271007271,null,0.08452382645571177,0.5451900379200277,null,0.08452382645571177,0.721853545755353,null,0.08452382645571177,-0.546680434713358,null,0.08452382645571177,-0.5043513952045062,null,0.08452382645571177,-0.8025525261254561,null,0.08452382645571177,0.5860596995299894,null,0.08452382645571177,0.09678243088953722,null,0.08452382645571177,0.53118361213905,null,0.08452382645571177,0.40424017415930663,null,0.08452382645571177,0.6790524803749394,null,0.08452382645571177,0.90331811878065,null,0.08452382645571177,0.42235953517346203,null,0.08452382645571177,-0.588076129155748,null,-0.8854463439313105,0.030956891385572192,null,1.0,0.08452382645571177,null,-0.7111991420041761,0.012575186527694624,null,-0.39781502573770977,-0.01538424436386017,null,0.30402602050430017,0.08452382645571177,null,0.6852068739349999,-0.01538424436386017,null,0.788824493942514,0.030956891385572192,null,-0.9525716166197792,-0.01538424436386017,null,-0.2317728489315092,0.012575186527694624,null,0.03054803883372086,0.013621664772666651,null,-0.33728727498675914,0.013621664772666651,null,-0.7022396473470272,-0.01538424436386017,null,0.5815744204524189,0.013621664772666651,null,-0.7752472315670318,0.08452382645571177,null,-0.5651840375402962,0.030956891385572192,null,-0.11446532526740394,0.013621664772666651,null,-0.6943226595995041,0.012575186527694624,null,0.6909279299575287,0.030956891385572192,null,-0.588639665458147,0.012575186527694624,null,0.023635570271425866,0.013621664772666651,null,-0.361192066518036,0.013621664772666651,null,-0.361192066518036,0.030956891385572192,null,-0.3864615271007271,0.030956891385572192,null,0.47174248000470564,0.08452382645571177,null,0.5451900379200277,0.013621664772666651,null,0.721853545755353,0.022359313852315675,null,-0.546680434713358,0.030956891385572192,null,0.300121173996267,0.08452382645571177,null,-0.5043513952045062,0.022359313852315675,null,-0.8025525261254561,-0.01538424436386017,null,0.5860596995299894,0.030956891385572192,null,0.452390539518772,0.08452382645571177,null,0.09678243088953722,-0.01538424436386017,null,0.53118361213905,0.013621664772666651,null,0.40424017415930663,-0.01538424436386017,null,0.6790524803749394,0.013621664772666651,null,0.90331811878065,0.030956891385572192,null,0.6446679707023356,0.08452382645571177,null,0.42235953517346203,0.013621664772666651,null,-0.588076129155748,0.030956891385572192,null,0.8768406534279316,0.08452382645571177,null,-0.23846366278103562,0.030956891385572192,null,-0.8044467142516245,0.030956891385572192,null,-0.5574417582120699,0.013621664772666651,null,0.65361974034006,0.022359313852315675,null,0.5305448788934066,-0.01538424436386017,null,-0.5239862528438789,0.030956891385572192,null,0.5440320455620868,-0.01538424436386017,null,0.3522667765737412,0.013621664772666651,null,0.8769714019473076,0.022359313852315675,null,-0.07862830030751873,-0.01538424436386017,null,0.26115236557342486,0.013621664772666651,null,0.5235633194915851,0.013621664772666651,null,0.11904774612237418,-0.01538424436386017,null,0.15057726811103,0.013621664772666651,null,-0.2549911729188663,-0.01538424436386017,null,-0.9309997744904132,0.013621664772666651,null,0.748314686094911,-0.01538424436386017,null,-0.8463590592319845,0.013621664772666651,null],\"type\":\"scatter\"},{\"hoverinfo\":\"text\",\"marker\":{\"color\":[],\"colorbar\":{\"thickness\":15,\"title\":{\"side\":\"right\",\"text\":\"Node Connections\"},\"xanchor\":\"left\"},\"colorscale\":[[0.0,\"rgb(255,255,217)\"],[0.125,\"rgb(237,248,177)\"],[0.25,\"rgb(199,233,180)\"],[0.375,\"rgb(127,205,187)\"],[0.5,\"rgb(65,182,196)\"],[0.625,\"rgb(29,145,192)\"],[0.75,\"rgb(34,94,168)\"],[0.875,\"rgb(37,52,148)\"],[1.0,\"rgb(8,29,88)\"]],\"line\":{\"width\":2},\"reversescale\":true,\"showscale\":true,\"size\":10},\"mode\":\"markers\",\"text\":[\"0\",\"\\u0428\\u0430\\u043f\\u043a\\u0430\",\"\\u0421\\u0443\\u043c\\u043a\\u0430\",\"1\",\"\\u0414\\u0436\\u0438\\u043d\\u0441\\u044b\",\"2\",\"3\",\"4\",\"\\u041a\\u0443\\u0440\\u0442\\u043a\\u0430\",\"5\",\"6\",\"7\",\"8\",\"\\u0424\\u0443\\u0442\\u0431\\u043e\\u043b\\u043a\\u0430\",\"9\",\"10\",\"11\",\"12\",\"13\",\"\\u0411\\u0440\\u044e\\u043a\\u0438\",\"14\",\"15\",\"16\",\"17\",\"18\",\"19\",\"20\",\"21\",\"22\",\"23\",\"24\",\"25\",\"26\",\"27\",\"28\",\"\\u041a\\u0440\\u043e\\u0441\\u0441\\u043e\\u0432\\u043a\\u0438\",\"29\",\"30\",\"31\",\"32\",\"33\",\"34\",\"35\",\"36\",\"37\",\"\\u0420\\u0443\\u0431\\u0430\\u0448\\u043a\\u0430\",\"38\",\"39\",\"40\",\"41\",\"42\",\"43\",\"44\",\"45\",\"46\",\"47\",\"48\",\"49\",\"50\",\"51\",\"52\",\"53\",\"54\",\"55\",\"56\",\"57\",\"58\",\"59\",\"60\",\"61\",\"62\",\"63\",\"64\",\"65\",\"66\",\"67\",\"68\",\"69\",\"70\",\"71\",\"72\",\"73\",\"74\",\"75\",\"76\",\"77\",\"78\",\"79\",\"80\",\"81\",\"82\",\"83\",\"84\",\"85\",\"86\",\"87\",\"88\",\"89\",\"90\",\"91\",\"92\",\"93\",\"94\",\"95\"],\"x\":[-0.11186269940389158,-0.3105520385735088,-0.026634908429955036,0.30697959752101145,0.029647258560345,0.22680584019696412,0.27704961649618065,-0.6939507189085069,0.045950123054212755,0.2658538803136926,-0.8121988034046301,-0.8322764139516271,-0.4295102799229978,0.01629038456815373,-0.352621537505273,-0.5423299577714359,-0.7570267405691843,-0.9074253517236068,0.4441226093081192,0.009989202984679873,0.6237058449547853,0.46275343095916704,0.4922397085325195,0.38972030830588983,-0.28237678105534697,0.5587868109735372,-0.6753448312934048,-0.8735950927123163,-0.33327341979380826,0.1734063581077971,-0.017667256735415804,0.5929193764419746,-0.8185806436498833,0.7660323771764209,-0.3241508370680777,0.06882338253635273,0.04931382491480831,-0.19891298930144344,-0.244522786704824,0.12651176479009046,-0.58701229682177,0.6428317807247478,0.9655523347125035,-0.2740084089214271,-0.849779762387509,0.034027202176481336,0.18156179108419623,-0.017722140100585156,-0.13054142621732628,-0.6660311048924349,0.8791620102244208,-0.40161630214633154,0.533620724884936,0.01040874465381237,0.8549395917062486,-0.7439377887658125,0.8761202767200836,-0.35214922352335765,0.09451393063014424,-0.06295019150325208,0.4869186481640256,0.9145415627671417,0.6457009725010509,0.6451102736408783,0.7811029367626767,0.8679713002799233,-0.0520052364713154,-0.4798323683711348,-0.7475033296417688,-0.1359897224321108,-0.6749258827364827,-0.41936421236739785,0.747239424390618,0.28123662307904673,0.05709452826199638,0.754979880612299,0.8120201722026346,0.7399587863821083,-0.5013011165895517,0.6442692966520109,-0.166076989386474,0.31249083718572085,-0.6026419034088716,-0.3986206243220731,-0.08978358303640682,-0.4539672313331169,-0.5521465807910015,0.2953959026320456,-0.5711660261483882,0.30876193384731326,-0.6905198844408093,-0.26094329929500426,0.5584187623537633,-0.5681560649129368,0.05329065232336584,0.7408840074664256,-0.6976704631331381,0.3443395499347347,-0.8985973987241866,-0.6096364828657604,0.6778553317811095,-0.2631119867837071,0.38916891917969554,0.40613273033568775],\"y\":[0.8261130476467279,-0.07814441923816082,0.022359313852315675,-0.197590686219452,-0.01538424436386017,0.764399759640749,-0.6427562025995955,-0.16486514395205368,0.030956891385572192,0.29144712422662705,0.2544300234016721,-0.3725357540906851,-0.8187385479880125,0.013621664772666651,0.08781668443513897,-0.7193596773811065,-0.507658022854017,-0.13874933121833505,0.39110153735523556,-0.1490627445467182,0.20574808666684505,-0.32279949139326025,-0.7373645709740885,0.036798608639914715,-0.26033501454473557,-0.10057952198727231,-0.6388019712467542,-0.00485588861904077,0.8325698478049214,-0.7278984185809093,0.3544072181663101,-0.42002918930124483,-0.23340550485362474,-0.4129969894208007,0.5862134277853189,0.012575186527694624,0.7519684679902903,0.9036246985478887,0.2595365999969678,-0.3499005881052422,-0.04310246211960429,-0.5327887662710538,0.1358985698917468,-0.7973998104171544,0.4211779409631462,0.08452382645571177,-0.8854463439313105,1.0,-0.7111991420041761,-0.39781502573770977,0.30402602050430017,0.6852068739349999,0.788824493942514,-0.9525716166197792,-0.2317728489315092,0.03054803883372086,-0.33728727498675914,-0.7022396473470272,0.5815744204524189,-0.7752472315670318,-0.5651840375402962,-0.11446532526740394,-0.6943226595995041,0.6909279299575287,-0.588639665458147,0.023635570271425866,-0.361192066518036,-0.3864615271007271,0.47174248000470564,0.5451900379200277,0.721853545755353,-0.546680434713358,0.300121173996267,-0.5043513952045062,-0.8025525261254561,0.5860596995299894,0.452390539518772,0.09678243088953722,0.53118361213905,0.40424017415930663,0.6790524803749394,0.90331811878065,0.6446679707023356,0.42235953517346203,-0.588076129155748,0.8768406534279316,-0.23846366278103562,-0.8044467142516245,-0.5574417582120699,0.65361974034006,0.5305448788934066,-0.5239862528438789,0.5440320455620868,0.3522667765737412,0.8769714019473076,-0.07862830030751873,0.26115236557342486,0.5235633194915851,0.11904774612237418,0.15057726811103,-0.2549911729188663,-0.9309997744904132,0.748314686094911,-0.8463590592319845],\"type\":\"scatter\"}],                        {\"annotations\":[{\"showarrow\":false,\"text\":\"Python code: \\u003ca href='https:\\u002f\\u002fplotly.com\\u002fipython-notebooks\\u002fnetwork-graphs\\u002f'\\u003e https:\\u002f\\u002fplotly.com\\u002fipython-notebooks\\u002fnetwork-graphs\\u002f\\u003c\\u002fa\\u003e\",\"x\":0.005,\"xref\":\"paper\",\"y\":-0.002,\"yref\":\"paper\"}],\"hovermode\":\"closest\",\"margin\":{\"b\":20,\"l\":5,\"r\":5,\"t\":40},\"showlegend\":false,\"title\":{\"font\":{\"size\":16},\"text\":\"\\u003cbr\\u003eNetwork graph made with Python\"},\"xaxis\":{\"showgrid\":false,\"showticklabels\":false,\"zeroline\":false},\"yaxis\":{\"showgrid\":false,\"showticklabels\":false,\"zeroline\":false},\"template\":{\"data\":{\"histogram2dcontour\":[{\"type\":\"histogram2dcontour\",\"colorbar\":{\"outlinewidth\":0,\"ticks\":\"\"},\"colorscale\":[[0.0,\"#0d0887\"],[0.1111111111111111,\"#46039f\"],[0.2222222222222222,\"#7201a8\"],[0.3333333333333333,\"#9c179e\"],[0.4444444444444444,\"#bd3786\"],[0.5555555555555556,\"#d8576b\"],[0.6666666666666666,\"#ed7953\"],[0.7777777777777778,\"#fb9f3a\"],[0.8888888888888888,\"#fdca26\"],[1.0,\"#f0f921\"]]}],\"choropleth\":[{\"type\":\"choropleth\",\"colorbar\":{\"outlinewidth\":0,\"ticks\":\"\"}}],\"histogram2d\":[{\"type\":\"histogram2d\",\"colorbar\":{\"outlinewidth\":0,\"ticks\":\"\"},\"colorscale\":[[0.0,\"#0d0887\"],[0.1111111111111111,\"#46039f\"],[0.2222222222222222,\"#7201a8\"],[0.3333333333333333,\"#9c179e\"],[0.4444444444444444,\"#bd3786\"],[0.5555555555555556,\"#d8576b\"],[0.6666666666666666,\"#ed7953\"],[0.7777777777777778,\"#fb9f3a\"],[0.8888888888888888,\"#fdca26\"],[1.0,\"#f0f921\"]]}],\"heatmap\":[{\"type\":\"heatmap\",\"colorbar\":{\"outlinewidth\":0,\"ticks\":\"\"},\"colorscale\":[[0.0,\"#0d0887\"],[0.1111111111111111,\"#46039f\"],[0.2222222222222222,\"#7201a8\"],[0.3333333333333333,\"#9c179e\"],[0.4444444444444444,\"#bd3786\"],[0.5555555555555556,\"#d8576b\"],[0.6666666666666666,\"#ed7953\"],[0.7777777777777778,\"#fb9f3a\"],[0.8888888888888888,\"#fdca26\"],[1.0,\"#f0f921\"]]}],\"heatmapgl\":[{\"type\":\"heatmapgl\",\"colorbar\":{\"outlinewidth\":0,\"ticks\":\"\"},\"colorscale\":[[0.0,\"#0d0887\"],[0.1111111111111111,\"#46039f\"],[0.2222222222222222,\"#7201a8\"],[0.3333333333333333,\"#9c179e\"],[0.4444444444444444,\"#bd3786\"],[0.5555555555555556,\"#d8576b\"],[0.6666666666666666,\"#ed7953\"],[0.7777777777777778,\"#fb9f3a\"],[0.8888888888888888,\"#fdca26\"],[1.0,\"#f0f921\"]]}],\"contourcarpet\":[{\"type\":\"contourcarpet\",\"colorbar\":{\"outlinewidth\":0,\"ticks\":\"\"}}],\"contour\":[{\"type\":\"contour\",\"colorbar\":{\"outlinewidth\":0,\"ticks\":\"\"},\"colorscale\":[[0.0,\"#0d0887\"],[0.1111111111111111,\"#46039f\"],[0.2222222222222222,\"#7201a8\"],[0.3333333333333333,\"#9c179e\"],[0.4444444444444444,\"#bd3786\"],[0.5555555555555556,\"#d8576b\"],[0.6666666666666666,\"#ed7953\"],[0.7777777777777778,\"#fb9f3a\"],[0.8888888888888888,\"#fdca26\"],[1.0,\"#f0f921\"]]}],\"surface\":[{\"type\":\"surface\",\"colorbar\":{\"outlinewidth\":0,\"ticks\":\"\"},\"colorscale\":[[0.0,\"#0d0887\"],[0.1111111111111111,\"#46039f\"],[0.2222222222222222,\"#7201a8\"],[0.3333333333333333,\"#9c179e\"],[0.4444444444444444,\"#bd3786\"],[0.5555555555555556,\"#d8576b\"],[0.6666666666666666,\"#ed7953\"],[0.7777777777777778,\"#fb9f3a\"],[0.8888888888888888,\"#fdca26\"],[1.0,\"#f0f921\"]]}],\"mesh3d\":[{\"type\":\"mesh3d\",\"colorbar\":{\"outlinewidth\":0,\"ticks\":\"\"}}],\"scatter\":[{\"fillpattern\":{\"fillmode\":\"overlay\",\"size\":10,\"solidity\":0.2},\"type\":\"scatter\"}],\"parcoords\":[{\"type\":\"parcoords\",\"line\":{\"colorbar\":{\"outlinewidth\":0,\"ticks\":\"\"}}}],\"scatterpolargl\":[{\"type\":\"scatterpolargl\",\"marker\":{\"colorbar\":{\"outlinewidth\":0,\"ticks\":\"\"}}}],\"bar\":[{\"error_x\":{\"color\":\"#2a3f5f\"},\"error_y\":{\"color\":\"#2a3f5f\"},\"marker\":{\"line\":{\"color\":\"#E5ECF6\",\"width\":0.5},\"pattern\":{\"fillmode\":\"overlay\",\"size\":10,\"solidity\":0.2}},\"type\":\"bar\"}],\"scattergeo\":[{\"type\":\"scattergeo\",\"marker\":{\"colorbar\":{\"outlinewidth\":0,\"ticks\":\"\"}}}],\"scatterpolar\":[{\"type\":\"scatterpolar\",\"marker\":{\"colorbar\":{\"outlinewidth\":0,\"ticks\":\"\"}}}],\"histogram\":[{\"marker\":{\"pattern\":{\"fillmode\":\"overlay\",\"size\":10,\"solidity\":0.2}},\"type\":\"histogram\"}],\"scattergl\":[{\"type\":\"scattergl\",\"marker\":{\"colorbar\":{\"outlinewidth\":0,\"ticks\":\"\"}}}],\"scatter3d\":[{\"type\":\"scatter3d\",\"line\":{\"colorbar\":{\"outlinewidth\":0,\"ticks\":\"\"}},\"marker\":{\"colorbar\":{\"outlinewidth\":0,\"ticks\":\"\"}}}],\"scattermapbox\":[{\"type\":\"scattermapbox\",\"marker\":{\"colorbar\":{\"outlinewidth\":0,\"ticks\":\"\"}}}],\"scatterternary\":[{\"type\":\"scatterternary\",\"marker\":{\"colorbar\":{\"outlinewidth\":0,\"ticks\":\"\"}}}],\"scattercarpet\":[{\"type\":\"scattercarpet\",\"marker\":{\"colorbar\":{\"outlinewidth\":0,\"ticks\":\"\"}}}],\"carpet\":[{\"aaxis\":{\"endlinecolor\":\"#2a3f5f\",\"gridcolor\":\"white\",\"linecolor\":\"white\",\"minorgridcolor\":\"white\",\"startlinecolor\":\"#2a3f5f\"},\"baxis\":{\"endlinecolor\":\"#2a3f5f\",\"gridcolor\":\"white\",\"linecolor\":\"white\",\"minorgridcolor\":\"white\",\"startlinecolor\":\"#2a3f5f\"},\"type\":\"carpet\"}],\"table\":[{\"cells\":{\"fill\":{\"color\":\"#EBF0F8\"},\"line\":{\"color\":\"white\"}},\"header\":{\"fill\":{\"color\":\"#C8D4E3\"},\"line\":{\"color\":\"white\"}},\"type\":\"table\"}],\"barpolar\":[{\"marker\":{\"line\":{\"color\":\"#E5ECF6\",\"width\":0.5},\"pattern\":{\"fillmode\":\"overlay\",\"size\":10,\"solidity\":0.2}},\"type\":\"barpolar\"}],\"pie\":[{\"automargin\":true,\"type\":\"pie\"}]},\"layout\":{\"autotypenumbers\":\"strict\",\"colorway\":[\"#636efa\",\"#EF553B\",\"#00cc96\",\"#ab63fa\",\"#FFA15A\",\"#19d3f3\",\"#FF6692\",\"#B6E880\",\"#FF97FF\",\"#FECB52\"],\"font\":{\"color\":\"#2a3f5f\"},\"hovermode\":\"closest\",\"hoverlabel\":{\"align\":\"left\"},\"paper_bgcolor\":\"white\",\"plot_bgcolor\":\"#E5ECF6\",\"polar\":{\"bgcolor\":\"#E5ECF6\",\"angularaxis\":{\"gridcolor\":\"white\",\"linecolor\":\"white\",\"ticks\":\"\"},\"radialaxis\":{\"gridcolor\":\"white\",\"linecolor\":\"white\",\"ticks\":\"\"}},\"ternary\":{\"bgcolor\":\"#E5ECF6\",\"aaxis\":{\"gridcolor\":\"white\",\"linecolor\":\"white\",\"ticks\":\"\"},\"baxis\":{\"gridcolor\":\"white\",\"linecolor\":\"white\",\"ticks\":\"\"},\"caxis\":{\"gridcolor\":\"white\",\"linecolor\":\"white\",\"ticks\":\"\"}},\"coloraxis\":{\"colorbar\":{\"outlinewidth\":0,\"ticks\":\"\"}},\"colorscale\":{\"sequential\":[[0.0,\"#0d0887\"],[0.1111111111111111,\"#46039f\"],[0.2222222222222222,\"#7201a8\"],[0.3333333333333333,\"#9c179e\"],[0.4444444444444444,\"#bd3786\"],[0.5555555555555556,\"#d8576b\"],[0.6666666666666666,\"#ed7953\"],[0.7777777777777778,\"#fb9f3a\"],[0.8888888888888888,\"#fdca26\"],[1.0,\"#f0f921\"]],\"sequentialminus\":[[0.0,\"#0d0887\"],[0.1111111111111111,\"#46039f\"],[0.2222222222222222,\"#7201a8\"],[0.3333333333333333,\"#9c179e\"],[0.4444444444444444,\"#bd3786\"],[0.5555555555555556,\"#d8576b\"],[0.6666666666666666,\"#ed7953\"],[0.7777777777777778,\"#fb9f3a\"],[0.8888888888888888,\"#fdca26\"],[1.0,\"#f0f921\"]],\"diverging\":[[0,\"#8e0152\"],[0.1,\"#c51b7d\"],[0.2,\"#de77ae\"],[0.3,\"#f1b6da\"],[0.4,\"#fde0ef\"],[0.5,\"#f7f7f7\"],[0.6,\"#e6f5d0\"],[0.7,\"#b8e186\"],[0.8,\"#7fbc41\"],[0.9,\"#4d9221\"],[1,\"#276419\"]]},\"xaxis\":{\"gridcolor\":\"white\",\"linecolor\":\"white\",\"ticks\":\"\",\"title\":{\"standoff\":15},\"zerolinecolor\":\"white\",\"automargin\":true,\"zerolinewidth\":2},\"yaxis\":{\"gridcolor\":\"white\",\"linecolor\":\"white\",\"ticks\":\"\",\"title\":{\"standoff\":15},\"zerolinecolor\":\"white\",\"automargin\":true,\"zerolinewidth\":2},\"scene\":{\"xaxis\":{\"backgroundcolor\":\"#E5ECF6\",\"gridcolor\":\"white\",\"linecolor\":\"white\",\"showbackground\":true,\"ticks\":\"\",\"zerolinecolor\":\"white\",\"gridwidth\":2},\"yaxis\":{\"backgroundcolor\":\"#E5ECF6\",\"gridcolor\":\"white\",\"linecolor\":\"white\",\"showbackground\":true,\"ticks\":\"\",\"zerolinecolor\":\"white\",\"gridwidth\":2},\"zaxis\":{\"backgroundcolor\":\"#E5ECF6\",\"gridcolor\":\"white\",\"linecolor\":\"white\",\"showbackground\":true,\"ticks\":\"\",\"zerolinecolor\":\"white\",\"gridwidth\":2}},\"shapedefaults\":{\"line\":{\"color\":\"#2a3f5f\"}},\"annotationdefaults\":{\"arrowcolor\":\"#2a3f5f\",\"arrowhead\":0,\"arrowwidth\":1},\"geo\":{\"bgcolor\":\"white\",\"landcolor\":\"#E5ECF6\",\"subunitcolor\":\"white\",\"showland\":true,\"showlakes\":true,\"lakecolor\":\"white\"},\"title\":{\"x\":0.05},\"mapbox\":{\"style\":\"light\"}}}},                        {\"responsive\": true}                    ).then(function(){\n",
       "                            \n",
       "var gd = document.getElementById('2cae3cc9-77ea-4be8-9854-bcfc792a6a2b');\n",
       "var x = new MutationObserver(function (mutations, observer) {{\n",
       "        var display = window.getComputedStyle(gd).display;\n",
       "        if (!display || display === 'none') {{\n",
       "            console.log([gd, 'removed!']);\n",
       "            Plotly.purge(gd);\n",
       "            observer.disconnect();\n",
       "        }}\n",
       "}});\n",
       "\n",
       "// Listen for the removal of the full notebook cells\n",
       "var notebookContainer = gd.closest('#notebook-container');\n",
       "if (notebookContainer) {{\n",
       "    x.observe(notebookContainer, {childList: true});\n",
       "}}\n",
       "\n",
       "// Listen for the clearing of the current output cell\n",
       "var outputEl = gd.closest('.output');\n",
       "if (outputEl) {{\n",
       "    x.observe(outputEl, {childList: true});\n",
       "}}\n",
       "\n",
       "                        })                };                });            </script>        </div>"
      ]
     },
     "metadata": {},
     "output_type": "display_data",
     "jetTransient": {
      "display_id": null
     }
    }
   ],
   "execution_count": 546
  },
  {
   "metadata": {
    "ExecuteTime": {
     "end_time": "2025-09-18T09:16:45.960686Z",
     "start_time": "2025-09-18T09:16:45.918248Z"
    }
   },
   "cell_type": "code",
   "source": [
    "from fpgrowth_py import fpgrowth\n",
    "import PyARMViz  # pip install pyarmviz\n",
    "\n",
    "freqItemSet, rules = fpgrowth(transactions, minSupRatio=min_sup, minConf=0.8)\n",
    "\n",
    "n_trans = len(transactions)\n",
    "\n",
    "print(\"\\nАссоциативные правила (достоверность ≥ 80%):\")\n",
    "\n",
    "rules_data_fp = []      # для draw_rules_graph\n",
    "rules_pyarmviz_fp = []  # для PyARMViz\n",
    "\n",
    "for i, (antecedent, consequent, confidence) in enumerate(rules):\n",
    "    ant = frozenset(antecedent)\n",
    "    cons = frozenset(consequent)\n",
    "    union = ant | cons\n",
    "\n",
    "    # абсолютные количества по транзакциям\n",
    "    count_ab = sum(1 for t in transactions if union.issubset(t))\n",
    "    count_a = sum(1 for t in transactions if ant.issubset(t))\n",
    "    count_b = sum(1 for t in transactions if cons.issubset(t))\n",
    "\n",
    "    support_ab = count_ab / n_trans\n",
    "    support_a = count_a / n_trans\n",
    "    support_b = count_b / n_trans\n",
    "    lift = support_ab / (support_a * support_b) if support_a * support_b else 0.0\n",
    "\n",
    "    print(f\"{i}: {set(antecedent)} -> {set(consequent)} \"\n",
    "          f\"Support = {support_ab:.3f} Confidence = {confidence:.3f} Lift = {lift:.3f}\")\n",
    "\n",
    "    # сразу формируем Rule для PyARMViz (нужны абсолютные counts)\n",
    "    rules_pyarmviz_fp.append(\n",
    "        PyARMViz.Rule.Rule(\n",
    "            lhs=tuple(antecedent),\n",
    "            rhs=tuple(consequent),\n",
    "            count_full=count_ab,\n",
    "            count_lhs=count_a,\n",
    "            count_rhs=count_b,\n",
    "            num_transactions=n_trans\n",
    "        )\n",
    "    )\n",
    "\n",
    "\n",
    "# интерактивные графики PyARMViz\n",
    "PyARMViz.metadata_scatter_plot(rules_pyarmviz_fp)\n",
    "PyARMViz.adjacency_graph_plotly(rules_pyarmviz_fp)\n",
    "# PyARMViz.adjacency_parallel_coordinate_plot(rules_pyarmviz_fp)\n",
    "# PyARMViz.adjacency_parallel_category_plot(rules_pyarmviz_fp)\n"
   ],
   "id": "2165fdebec3463a1",
   "outputs": [
    {
     "name": "stdout",
     "output_type": "stream",
     "text": [
      "\n",
      "Ассоциативные правила (достоверность ≥ 80%):\n",
      "0: {'Сумка', 'Шапка'} -> {'Джинсы'} Support = 0.200 Confidence = 1.000 Lift = 1.429\n",
      "1: {'Шапка', 'Куртка'} -> {'Джинсы'} Support = 0.200 Confidence = 1.000 Lift = 1.429\n",
      "2: {'Шапка', 'Футболка'} -> {'Джинсы'} Support = 0.200 Confidence = 1.000 Lift = 1.429\n",
      "3: {'Шапка'} -> {'Джинсы'} Support = 0.300 Confidence = 1.000 Lift = 1.429\n",
      "4: {'Сумка', 'Футболка', 'Брюки'} -> {'Джинсы'} Support = 0.200 Confidence = 1.000 Lift = 1.429\n",
      "5: {'Сумка', 'Джинсы', 'Брюки'} -> {'Футболка'} Support = 0.200 Confidence = 1.000 Lift = 1.429\n",
      "6: {'Футболка', 'Брюки'} -> {'Джинсы'} Support = 0.300 Confidence = 0.857 Lift = 1.224\n",
      "7: {'Джинсы', 'Брюки'} -> {'Футболка'} Support = 0.300 Confidence = 1.000 Lift = 1.429\n",
      "8: {'Брюки'} -> {'Футболка'} Support = 0.350 Confidence = 0.875 Lift = 1.250\n",
      "9: {'Сумка', 'Кроссовки'} -> {'Футболка'} Support = 0.200 Confidence = 1.000 Lift = 1.429\n",
      "10: {'Сумка', 'Кроссовки'} -> {'Куртка'} Support = 0.200 Confidence = 1.000 Lift = 1.667\n",
      "11: {'Сумка', 'Кроссовки'} -> {'Футболка', 'Куртка'} Support = 0.200 Confidence = 1.000 Lift = 2.500\n",
      "12: {'Сумка', 'Кроссовки', 'Футболка'} -> {'Куртка'} Support = 0.200 Confidence = 1.000 Lift = 1.667\n",
      "13: {'Сумка', 'Кроссовки', 'Куртка'} -> {'Футболка'} Support = 0.200 Confidence = 1.000 Lift = 1.429\n",
      "14: {'Кроссовки', 'Рубашка'} -> {'Куртка'} Support = 0.250 Confidence = 0.833 Lift = 1.389\n",
      "15: {'Кроссовки', 'Джинсы'} -> {'Куртка'} Support = 0.250 Confidence = 0.833 Lift = 1.389\n",
      "16: {'Кроссовки', 'Футболка'} -> {'Куртка'} Support = 0.250 Confidence = 0.833 Lift = 1.389\n",
      "17: {'Кроссовки'} -> {'Куртка'} Support = 0.400 Confidence = 0.889 Lift = 1.481\n",
      "18: {'Сумка', 'Футболка', 'Рубашка'} -> {'Куртка'} Support = 0.200 Confidence = 1.000 Lift = 1.667\n",
      "19: {'Сумка', 'Рубашка'} -> {'Куртка'} Support = 0.250 Confidence = 1.000 Lift = 1.667\n",
      "20: {'Футболка', 'Рубашка'} -> {'Джинсы'} Support = 0.300 Confidence = 0.857 Lift = 1.224\n",
      "21: {'Джинсы', 'Рубашка'} -> {'Футболка'} Support = 0.300 Confidence = 0.857 Lift = 1.224\n",
      "22: {'Сумка', 'Куртка'} -> {'Футболка'} Support = 0.300 Confidence = 0.857 Lift = 1.224\n",
      "23: {'Сумка', 'Джинсы', 'Куртка'} -> {'Футболка'} Support = 0.200 Confidence = 1.000 Lift = 1.429\n",
      "24: {'Сумка', 'Джинсы'} -> {'Футболка'} Support = 0.300 Confidence = 0.857 Lift = 1.224\n"
     ]
    },
    {
     "data": {
      "application/vnd.plotly.v1+json": {
       "data": [
        {
         "marker": {
          "color": [
           1.4285714285714286,
           1.2499999999999998,
           1.4814814814814814
          ],
          "colorbar": {
           "title": {
            "text": "Lift"
           }
          },
          "colorscale": [
           [
            0.0,
            "rgb(243, 224, 247)"
           ],
           [
            0.16666666666666666,
            "rgb(228, 199, 241)"
           ],
           [
            0.3333333333333333,
            "rgb(209, 175, 232)"
           ],
           [
            0.5,
            "rgb(185, 152, 221)"
           ],
           [
            0.6666666666666666,
            "rgb(159, 130, 206)"
           ],
           [
            0.8333333333333334,
            "rgb(130, 109, 186)"
           ],
           [
            1.0,
            "rgb(99, 88, 159)"
           ]
          ]
         },
         "mode": "markers",
         "text": [
          "('Шапка',) => ('Джинсы',), Lift: 1.4285714285714286",
          "('Брюки',) => ('Футболка',), Lift: 1.2499999999999998",
          "('Кроссовки',) => ('Куртка',), Lift: 1.4814814814814814"
         ],
         "x": [
          0.3,
          0.35,
          0.4
         ],
         "y": [
          1.0,
          0.875,
          0.8888888888888888
         ],
         "type": "scatter"
        }
       ],
       "layout": {
        "template": {
         "data": {
          "histogram2dcontour": [
           {
            "type": "histogram2dcontour",
            "colorbar": {
             "outlinewidth": 0,
             "ticks": ""
            },
            "colorscale": [
             [
              0.0,
              "#0d0887"
             ],
             [
              0.1111111111111111,
              "#46039f"
             ],
             [
              0.2222222222222222,
              "#7201a8"
             ],
             [
              0.3333333333333333,
              "#9c179e"
             ],
             [
              0.4444444444444444,
              "#bd3786"
             ],
             [
              0.5555555555555556,
              "#d8576b"
             ],
             [
              0.6666666666666666,
              "#ed7953"
             ],
             [
              0.7777777777777778,
              "#fb9f3a"
             ],
             [
              0.8888888888888888,
              "#fdca26"
             ],
             [
              1.0,
              "#f0f921"
             ]
            ]
           }
          ],
          "choropleth": [
           {
            "type": "choropleth",
            "colorbar": {
             "outlinewidth": 0,
             "ticks": ""
            }
           }
          ],
          "histogram2d": [
           {
            "type": "histogram2d",
            "colorbar": {
             "outlinewidth": 0,
             "ticks": ""
            },
            "colorscale": [
             [
              0.0,
              "#0d0887"
             ],
             [
              0.1111111111111111,
              "#46039f"
             ],
             [
              0.2222222222222222,
              "#7201a8"
             ],
             [
              0.3333333333333333,
              "#9c179e"
             ],
             [
              0.4444444444444444,
              "#bd3786"
             ],
             [
              0.5555555555555556,
              "#d8576b"
             ],
             [
              0.6666666666666666,
              "#ed7953"
             ],
             [
              0.7777777777777778,
              "#fb9f3a"
             ],
             [
              0.8888888888888888,
              "#fdca26"
             ],
             [
              1.0,
              "#f0f921"
             ]
            ]
           }
          ],
          "heatmap": [
           {
            "type": "heatmap",
            "colorbar": {
             "outlinewidth": 0,
             "ticks": ""
            },
            "colorscale": [
             [
              0.0,
              "#0d0887"
             ],
             [
              0.1111111111111111,
              "#46039f"
             ],
             [
              0.2222222222222222,
              "#7201a8"
             ],
             [
              0.3333333333333333,
              "#9c179e"
             ],
             [
              0.4444444444444444,
              "#bd3786"
             ],
             [
              0.5555555555555556,
              "#d8576b"
             ],
             [
              0.6666666666666666,
              "#ed7953"
             ],
             [
              0.7777777777777778,
              "#fb9f3a"
             ],
             [
              0.8888888888888888,
              "#fdca26"
             ],
             [
              1.0,
              "#f0f921"
             ]
            ]
           }
          ],
          "heatmapgl": [
           {
            "type": "heatmapgl",
            "colorbar": {
             "outlinewidth": 0,
             "ticks": ""
            },
            "colorscale": [
             [
              0.0,
              "#0d0887"
             ],
             [
              0.1111111111111111,
              "#46039f"
             ],
             [
              0.2222222222222222,
              "#7201a8"
             ],
             [
              0.3333333333333333,
              "#9c179e"
             ],
             [
              0.4444444444444444,
              "#bd3786"
             ],
             [
              0.5555555555555556,
              "#d8576b"
             ],
             [
              0.6666666666666666,
              "#ed7953"
             ],
             [
              0.7777777777777778,
              "#fb9f3a"
             ],
             [
              0.8888888888888888,
              "#fdca26"
             ],
             [
              1.0,
              "#f0f921"
             ]
            ]
           }
          ],
          "contourcarpet": [
           {
            "type": "contourcarpet",
            "colorbar": {
             "outlinewidth": 0,
             "ticks": ""
            }
           }
          ],
          "contour": [
           {
            "type": "contour",
            "colorbar": {
             "outlinewidth": 0,
             "ticks": ""
            },
            "colorscale": [
             [
              0.0,
              "#0d0887"
             ],
             [
              0.1111111111111111,
              "#46039f"
             ],
             [
              0.2222222222222222,
              "#7201a8"
             ],
             [
              0.3333333333333333,
              "#9c179e"
             ],
             [
              0.4444444444444444,
              "#bd3786"
             ],
             [
              0.5555555555555556,
              "#d8576b"
             ],
             [
              0.6666666666666666,
              "#ed7953"
             ],
             [
              0.7777777777777778,
              "#fb9f3a"
             ],
             [
              0.8888888888888888,
              "#fdca26"
             ],
             [
              1.0,
              "#f0f921"
             ]
            ]
           }
          ],
          "surface": [
           {
            "type": "surface",
            "colorbar": {
             "outlinewidth": 0,
             "ticks": ""
            },
            "colorscale": [
             [
              0.0,
              "#0d0887"
             ],
             [
              0.1111111111111111,
              "#46039f"
             ],
             [
              0.2222222222222222,
              "#7201a8"
             ],
             [
              0.3333333333333333,
              "#9c179e"
             ],
             [
              0.4444444444444444,
              "#bd3786"
             ],
             [
              0.5555555555555556,
              "#d8576b"
             ],
             [
              0.6666666666666666,
              "#ed7953"
             ],
             [
              0.7777777777777778,
              "#fb9f3a"
             ],
             [
              0.8888888888888888,
              "#fdca26"
             ],
             [
              1.0,
              "#f0f921"
             ]
            ]
           }
          ],
          "mesh3d": [
           {
            "type": "mesh3d",
            "colorbar": {
             "outlinewidth": 0,
             "ticks": ""
            }
           }
          ],
          "scatter": [
           {
            "fillpattern": {
             "fillmode": "overlay",
             "size": 10,
             "solidity": 0.2
            },
            "type": "scatter"
           }
          ],
          "parcoords": [
           {
            "type": "parcoords",
            "line": {
             "colorbar": {
              "outlinewidth": 0,
              "ticks": ""
             }
            }
           }
          ],
          "scatterpolargl": [
           {
            "type": "scatterpolargl",
            "marker": {
             "colorbar": {
              "outlinewidth": 0,
              "ticks": ""
             }
            }
           }
          ],
          "bar": [
           {
            "error_x": {
             "color": "#2a3f5f"
            },
            "error_y": {
             "color": "#2a3f5f"
            },
            "marker": {
             "line": {
              "color": "#E5ECF6",
              "width": 0.5
             },
             "pattern": {
              "fillmode": "overlay",
              "size": 10,
              "solidity": 0.2
             }
            },
            "type": "bar"
           }
          ],
          "scattergeo": [
           {
            "type": "scattergeo",
            "marker": {
             "colorbar": {
              "outlinewidth": 0,
              "ticks": ""
             }
            }
           }
          ],
          "scatterpolar": [
           {
            "type": "scatterpolar",
            "marker": {
             "colorbar": {
              "outlinewidth": 0,
              "ticks": ""
             }
            }
           }
          ],
          "histogram": [
           {
            "marker": {
             "pattern": {
              "fillmode": "overlay",
              "size": 10,
              "solidity": 0.2
             }
            },
            "type": "histogram"
           }
          ],
          "scattergl": [
           {
            "type": "scattergl",
            "marker": {
             "colorbar": {
              "outlinewidth": 0,
              "ticks": ""
             }
            }
           }
          ],
          "scatter3d": [
           {
            "type": "scatter3d",
            "line": {
             "colorbar": {
              "outlinewidth": 0,
              "ticks": ""
             }
            },
            "marker": {
             "colorbar": {
              "outlinewidth": 0,
              "ticks": ""
             }
            }
           }
          ],
          "scattermapbox": [
           {
            "type": "scattermapbox",
            "marker": {
             "colorbar": {
              "outlinewidth": 0,
              "ticks": ""
             }
            }
           }
          ],
          "scatterternary": [
           {
            "type": "scatterternary",
            "marker": {
             "colorbar": {
              "outlinewidth": 0,
              "ticks": ""
             }
            }
           }
          ],
          "scattercarpet": [
           {
            "type": "scattercarpet",
            "marker": {
             "colorbar": {
              "outlinewidth": 0,
              "ticks": ""
             }
            }
           }
          ],
          "carpet": [
           {
            "aaxis": {
             "endlinecolor": "#2a3f5f",
             "gridcolor": "white",
             "linecolor": "white",
             "minorgridcolor": "white",
             "startlinecolor": "#2a3f5f"
            },
            "baxis": {
             "endlinecolor": "#2a3f5f",
             "gridcolor": "white",
             "linecolor": "white",
             "minorgridcolor": "white",
             "startlinecolor": "#2a3f5f"
            },
            "type": "carpet"
           }
          ],
          "table": [
           {
            "cells": {
             "fill": {
              "color": "#EBF0F8"
             },
             "line": {
              "color": "white"
             }
            },
            "header": {
             "fill": {
              "color": "#C8D4E3"
             },
             "line": {
              "color": "white"
             }
            },
            "type": "table"
           }
          ],
          "barpolar": [
           {
            "marker": {
             "line": {
              "color": "#E5ECF6",
              "width": 0.5
             },
             "pattern": {
              "fillmode": "overlay",
              "size": 10,
              "solidity": 0.2
             }
            },
            "type": "barpolar"
           }
          ],
          "pie": [
           {
            "automargin": true,
            "type": "pie"
           }
          ]
         },
         "layout": {
          "autotypenumbers": "strict",
          "colorway": [
           "#636efa",
           "#EF553B",
           "#00cc96",
           "#ab63fa",
           "#FFA15A",
           "#19d3f3",
           "#FF6692",
           "#B6E880",
           "#FF97FF",
           "#FECB52"
          ],
          "font": {
           "color": "#2a3f5f"
          },
          "hovermode": "closest",
          "hoverlabel": {
           "align": "left"
          },
          "paper_bgcolor": "white",
          "plot_bgcolor": "#E5ECF6",
          "polar": {
           "bgcolor": "#E5ECF6",
           "angularaxis": {
            "gridcolor": "white",
            "linecolor": "white",
            "ticks": ""
           },
           "radialaxis": {
            "gridcolor": "white",
            "linecolor": "white",
            "ticks": ""
           }
          },
          "ternary": {
           "bgcolor": "#E5ECF6",
           "aaxis": {
            "gridcolor": "white",
            "linecolor": "white",
            "ticks": ""
           },
           "baxis": {
            "gridcolor": "white",
            "linecolor": "white",
            "ticks": ""
           },
           "caxis": {
            "gridcolor": "white",
            "linecolor": "white",
            "ticks": ""
           }
          },
          "coloraxis": {
           "colorbar": {
            "outlinewidth": 0,
            "ticks": ""
           }
          },
          "colorscale": {
           "sequential": [
            [
             0.0,
             "#0d0887"
            ],
            [
             0.1111111111111111,
             "#46039f"
            ],
            [
             0.2222222222222222,
             "#7201a8"
            ],
            [
             0.3333333333333333,
             "#9c179e"
            ],
            [
             0.4444444444444444,
             "#bd3786"
            ],
            [
             0.5555555555555556,
             "#d8576b"
            ],
            [
             0.6666666666666666,
             "#ed7953"
            ],
            [
             0.7777777777777778,
             "#fb9f3a"
            ],
            [
             0.8888888888888888,
             "#fdca26"
            ],
            [
             1.0,
             "#f0f921"
            ]
           ],
           "sequentialminus": [
            [
             0.0,
             "#0d0887"
            ],
            [
             0.1111111111111111,
             "#46039f"
            ],
            [
             0.2222222222222222,
             "#7201a8"
            ],
            [
             0.3333333333333333,
             "#9c179e"
            ],
            [
             0.4444444444444444,
             "#bd3786"
            ],
            [
             0.5555555555555556,
             "#d8576b"
            ],
            [
             0.6666666666666666,
             "#ed7953"
            ],
            [
             0.7777777777777778,
             "#fb9f3a"
            ],
            [
             0.8888888888888888,
             "#fdca26"
            ],
            [
             1.0,
             "#f0f921"
            ]
           ],
           "diverging": [
            [
             0,
             "#8e0152"
            ],
            [
             0.1,
             "#c51b7d"
            ],
            [
             0.2,
             "#de77ae"
            ],
            [
             0.3,
             "#f1b6da"
            ],
            [
             0.4,
             "#fde0ef"
            ],
            [
             0.5,
             "#f7f7f7"
            ],
            [
             0.6,
             "#e6f5d0"
            ],
            [
             0.7,
             "#b8e186"
            ],
            [
             0.8,
             "#7fbc41"
            ],
            [
             0.9,
             "#4d9221"
            ],
            [
             1,
             "#276419"
            ]
           ]
          },
          "xaxis": {
           "gridcolor": "white",
           "linecolor": "white",
           "ticks": "",
           "title": {
            "standoff": 15
           },
           "zerolinecolor": "white",
           "automargin": true,
           "zerolinewidth": 2
          },
          "yaxis": {
           "gridcolor": "white",
           "linecolor": "white",
           "ticks": "",
           "title": {
            "standoff": 15
           },
           "zerolinecolor": "white",
           "automargin": true,
           "zerolinewidth": 2
          },
          "scene": {
           "xaxis": {
            "backgroundcolor": "#E5ECF6",
            "gridcolor": "white",
            "linecolor": "white",
            "showbackground": true,
            "ticks": "",
            "zerolinecolor": "white",
            "gridwidth": 2
           },
           "yaxis": {
            "backgroundcolor": "#E5ECF6",
            "gridcolor": "white",
            "linecolor": "white",
            "showbackground": true,
            "ticks": "",
            "zerolinecolor": "white",
            "gridwidth": 2
           },
           "zaxis": {
            "backgroundcolor": "#E5ECF6",
            "gridcolor": "white",
            "linecolor": "white",
            "showbackground": true,
            "ticks": "",
            "zerolinecolor": "white",
            "gridwidth": 2
           }
          },
          "shapedefaults": {
           "line": {
            "color": "#2a3f5f"
           }
          },
          "annotationdefaults": {
           "arrowcolor": "#2a3f5f",
           "arrowhead": 0,
           "arrowwidth": 1
          },
          "geo": {
           "bgcolor": "white",
           "landcolor": "#E5ECF6",
           "subunitcolor": "white",
           "showland": true,
           "showlakes": true,
           "lakecolor": "white"
          },
          "title": {
           "x": 0.05
          },
          "mapbox": {
           "style": "light"
          }
         }
        },
        "xaxis": {
         "title": {
          "text": "Support"
         },
         "autorange": "reversed"
        },
        "title": {
         "text": "Association Rules Strength Distribution"
        },
        "yaxis": {
         "title": {
          "text": "Confidence"
         }
        }
       },
       "config": {
        "plotlyServerURL": "https://plot.ly"
       }
      },
      "text/html": [
       "<div>                            <div id=\"70e82970-020e-47ec-b9d0-49bcfb476f17\" class=\"plotly-graph-div\" style=\"height:525px; width:100%;\"></div>            <script type=\"text/javascript\">                require([\"plotly\"], function(Plotly) {                    window.PLOTLYENV=window.PLOTLYENV || {};                                    if (document.getElementById(\"70e82970-020e-47ec-b9d0-49bcfb476f17\")) {                    Plotly.newPlot(                        \"70e82970-020e-47ec-b9d0-49bcfb476f17\",                        [{\"marker\":{\"color\":[1.4285714285714286,1.2499999999999998,1.4814814814814814],\"colorbar\":{\"title\":{\"text\":\"Lift\"}},\"colorscale\":[[0.0,\"rgb(243, 224, 247)\"],[0.16666666666666666,\"rgb(228, 199, 241)\"],[0.3333333333333333,\"rgb(209, 175, 232)\"],[0.5,\"rgb(185, 152, 221)\"],[0.6666666666666666,\"rgb(159, 130, 206)\"],[0.8333333333333334,\"rgb(130, 109, 186)\"],[1.0,\"rgb(99, 88, 159)\"]]},\"mode\":\"markers\",\"text\":[\"('\\u0428\\u0430\\u043f\\u043a\\u0430',) =\\u003e ('\\u0414\\u0436\\u0438\\u043d\\u0441\\u044b',), Lift: 1.4285714285714286\",\"('\\u0411\\u0440\\u044e\\u043a\\u0438',) =\\u003e ('\\u0424\\u0443\\u0442\\u0431\\u043e\\u043b\\u043a\\u0430',), Lift: 1.2499999999999998\",\"('\\u041a\\u0440\\u043e\\u0441\\u0441\\u043e\\u0432\\u043a\\u0438',) =\\u003e ('\\u041a\\u0443\\u0440\\u0442\\u043a\\u0430',), Lift: 1.4814814814814814\"],\"x\":[0.3,0.35,0.4],\"y\":[1.0,0.875,0.8888888888888888],\"type\":\"scatter\"}],                        {\"template\":{\"data\":{\"histogram2dcontour\":[{\"type\":\"histogram2dcontour\",\"colorbar\":{\"outlinewidth\":0,\"ticks\":\"\"},\"colorscale\":[[0.0,\"#0d0887\"],[0.1111111111111111,\"#46039f\"],[0.2222222222222222,\"#7201a8\"],[0.3333333333333333,\"#9c179e\"],[0.4444444444444444,\"#bd3786\"],[0.5555555555555556,\"#d8576b\"],[0.6666666666666666,\"#ed7953\"],[0.7777777777777778,\"#fb9f3a\"],[0.8888888888888888,\"#fdca26\"],[1.0,\"#f0f921\"]]}],\"choropleth\":[{\"type\":\"choropleth\",\"colorbar\":{\"outlinewidth\":0,\"ticks\":\"\"}}],\"histogram2d\":[{\"type\":\"histogram2d\",\"colorbar\":{\"outlinewidth\":0,\"ticks\":\"\"},\"colorscale\":[[0.0,\"#0d0887\"],[0.1111111111111111,\"#46039f\"],[0.2222222222222222,\"#7201a8\"],[0.3333333333333333,\"#9c179e\"],[0.4444444444444444,\"#bd3786\"],[0.5555555555555556,\"#d8576b\"],[0.6666666666666666,\"#ed7953\"],[0.7777777777777778,\"#fb9f3a\"],[0.8888888888888888,\"#fdca26\"],[1.0,\"#f0f921\"]]}],\"heatmap\":[{\"type\":\"heatmap\",\"colorbar\":{\"outlinewidth\":0,\"ticks\":\"\"},\"colorscale\":[[0.0,\"#0d0887\"],[0.1111111111111111,\"#46039f\"],[0.2222222222222222,\"#7201a8\"],[0.3333333333333333,\"#9c179e\"],[0.4444444444444444,\"#bd3786\"],[0.5555555555555556,\"#d8576b\"],[0.6666666666666666,\"#ed7953\"],[0.7777777777777778,\"#fb9f3a\"],[0.8888888888888888,\"#fdca26\"],[1.0,\"#f0f921\"]]}],\"heatmapgl\":[{\"type\":\"heatmapgl\",\"colorbar\":{\"outlinewidth\":0,\"ticks\":\"\"},\"colorscale\":[[0.0,\"#0d0887\"],[0.1111111111111111,\"#46039f\"],[0.2222222222222222,\"#7201a8\"],[0.3333333333333333,\"#9c179e\"],[0.4444444444444444,\"#bd3786\"],[0.5555555555555556,\"#d8576b\"],[0.6666666666666666,\"#ed7953\"],[0.7777777777777778,\"#fb9f3a\"],[0.8888888888888888,\"#fdca26\"],[1.0,\"#f0f921\"]]}],\"contourcarpet\":[{\"type\":\"contourcarpet\",\"colorbar\":{\"outlinewidth\":0,\"ticks\":\"\"}}],\"contour\":[{\"type\":\"contour\",\"colorbar\":{\"outlinewidth\":0,\"ticks\":\"\"},\"colorscale\":[[0.0,\"#0d0887\"],[0.1111111111111111,\"#46039f\"],[0.2222222222222222,\"#7201a8\"],[0.3333333333333333,\"#9c179e\"],[0.4444444444444444,\"#bd3786\"],[0.5555555555555556,\"#d8576b\"],[0.6666666666666666,\"#ed7953\"],[0.7777777777777778,\"#fb9f3a\"],[0.8888888888888888,\"#fdca26\"],[1.0,\"#f0f921\"]]}],\"surface\":[{\"type\":\"surface\",\"colorbar\":{\"outlinewidth\":0,\"ticks\":\"\"},\"colorscale\":[[0.0,\"#0d0887\"],[0.1111111111111111,\"#46039f\"],[0.2222222222222222,\"#7201a8\"],[0.3333333333333333,\"#9c179e\"],[0.4444444444444444,\"#bd3786\"],[0.5555555555555556,\"#d8576b\"],[0.6666666666666666,\"#ed7953\"],[0.7777777777777778,\"#fb9f3a\"],[0.8888888888888888,\"#fdca26\"],[1.0,\"#f0f921\"]]}],\"mesh3d\":[{\"type\":\"mesh3d\",\"colorbar\":{\"outlinewidth\":0,\"ticks\":\"\"}}],\"scatter\":[{\"fillpattern\":{\"fillmode\":\"overlay\",\"size\":10,\"solidity\":0.2},\"type\":\"scatter\"}],\"parcoords\":[{\"type\":\"parcoords\",\"line\":{\"colorbar\":{\"outlinewidth\":0,\"ticks\":\"\"}}}],\"scatterpolargl\":[{\"type\":\"scatterpolargl\",\"marker\":{\"colorbar\":{\"outlinewidth\":0,\"ticks\":\"\"}}}],\"bar\":[{\"error_x\":{\"color\":\"#2a3f5f\"},\"error_y\":{\"color\":\"#2a3f5f\"},\"marker\":{\"line\":{\"color\":\"#E5ECF6\",\"width\":0.5},\"pattern\":{\"fillmode\":\"overlay\",\"size\":10,\"solidity\":0.2}},\"type\":\"bar\"}],\"scattergeo\":[{\"type\":\"scattergeo\",\"marker\":{\"colorbar\":{\"outlinewidth\":0,\"ticks\":\"\"}}}],\"scatterpolar\":[{\"type\":\"scatterpolar\",\"marker\":{\"colorbar\":{\"outlinewidth\":0,\"ticks\":\"\"}}}],\"histogram\":[{\"marker\":{\"pattern\":{\"fillmode\":\"overlay\",\"size\":10,\"solidity\":0.2}},\"type\":\"histogram\"}],\"scattergl\":[{\"type\":\"scattergl\",\"marker\":{\"colorbar\":{\"outlinewidth\":0,\"ticks\":\"\"}}}],\"scatter3d\":[{\"type\":\"scatter3d\",\"line\":{\"colorbar\":{\"outlinewidth\":0,\"ticks\":\"\"}},\"marker\":{\"colorbar\":{\"outlinewidth\":0,\"ticks\":\"\"}}}],\"scattermapbox\":[{\"type\":\"scattermapbox\",\"marker\":{\"colorbar\":{\"outlinewidth\":0,\"ticks\":\"\"}}}],\"scatterternary\":[{\"type\":\"scatterternary\",\"marker\":{\"colorbar\":{\"outlinewidth\":0,\"ticks\":\"\"}}}],\"scattercarpet\":[{\"type\":\"scattercarpet\",\"marker\":{\"colorbar\":{\"outlinewidth\":0,\"ticks\":\"\"}}}],\"carpet\":[{\"aaxis\":{\"endlinecolor\":\"#2a3f5f\",\"gridcolor\":\"white\",\"linecolor\":\"white\",\"minorgridcolor\":\"white\",\"startlinecolor\":\"#2a3f5f\"},\"baxis\":{\"endlinecolor\":\"#2a3f5f\",\"gridcolor\":\"white\",\"linecolor\":\"white\",\"minorgridcolor\":\"white\",\"startlinecolor\":\"#2a3f5f\"},\"type\":\"carpet\"}],\"table\":[{\"cells\":{\"fill\":{\"color\":\"#EBF0F8\"},\"line\":{\"color\":\"white\"}},\"header\":{\"fill\":{\"color\":\"#C8D4E3\"},\"line\":{\"color\":\"white\"}},\"type\":\"table\"}],\"barpolar\":[{\"marker\":{\"line\":{\"color\":\"#E5ECF6\",\"width\":0.5},\"pattern\":{\"fillmode\":\"overlay\",\"size\":10,\"solidity\":0.2}},\"type\":\"barpolar\"}],\"pie\":[{\"automargin\":true,\"type\":\"pie\"}]},\"layout\":{\"autotypenumbers\":\"strict\",\"colorway\":[\"#636efa\",\"#EF553B\",\"#00cc96\",\"#ab63fa\",\"#FFA15A\",\"#19d3f3\",\"#FF6692\",\"#B6E880\",\"#FF97FF\",\"#FECB52\"],\"font\":{\"color\":\"#2a3f5f\"},\"hovermode\":\"closest\",\"hoverlabel\":{\"align\":\"left\"},\"paper_bgcolor\":\"white\",\"plot_bgcolor\":\"#E5ECF6\",\"polar\":{\"bgcolor\":\"#E5ECF6\",\"angularaxis\":{\"gridcolor\":\"white\",\"linecolor\":\"white\",\"ticks\":\"\"},\"radialaxis\":{\"gridcolor\":\"white\",\"linecolor\":\"white\",\"ticks\":\"\"}},\"ternary\":{\"bgcolor\":\"#E5ECF6\",\"aaxis\":{\"gridcolor\":\"white\",\"linecolor\":\"white\",\"ticks\":\"\"},\"baxis\":{\"gridcolor\":\"white\",\"linecolor\":\"white\",\"ticks\":\"\"},\"caxis\":{\"gridcolor\":\"white\",\"linecolor\":\"white\",\"ticks\":\"\"}},\"coloraxis\":{\"colorbar\":{\"outlinewidth\":0,\"ticks\":\"\"}},\"colorscale\":{\"sequential\":[[0.0,\"#0d0887\"],[0.1111111111111111,\"#46039f\"],[0.2222222222222222,\"#7201a8\"],[0.3333333333333333,\"#9c179e\"],[0.4444444444444444,\"#bd3786\"],[0.5555555555555556,\"#d8576b\"],[0.6666666666666666,\"#ed7953\"],[0.7777777777777778,\"#fb9f3a\"],[0.8888888888888888,\"#fdca26\"],[1.0,\"#f0f921\"]],\"sequentialminus\":[[0.0,\"#0d0887\"],[0.1111111111111111,\"#46039f\"],[0.2222222222222222,\"#7201a8\"],[0.3333333333333333,\"#9c179e\"],[0.4444444444444444,\"#bd3786\"],[0.5555555555555556,\"#d8576b\"],[0.6666666666666666,\"#ed7953\"],[0.7777777777777778,\"#fb9f3a\"],[0.8888888888888888,\"#fdca26\"],[1.0,\"#f0f921\"]],\"diverging\":[[0,\"#8e0152\"],[0.1,\"#c51b7d\"],[0.2,\"#de77ae\"],[0.3,\"#f1b6da\"],[0.4,\"#fde0ef\"],[0.5,\"#f7f7f7\"],[0.6,\"#e6f5d0\"],[0.7,\"#b8e186\"],[0.8,\"#7fbc41\"],[0.9,\"#4d9221\"],[1,\"#276419\"]]},\"xaxis\":{\"gridcolor\":\"white\",\"linecolor\":\"white\",\"ticks\":\"\",\"title\":{\"standoff\":15},\"zerolinecolor\":\"white\",\"automargin\":true,\"zerolinewidth\":2},\"yaxis\":{\"gridcolor\":\"white\",\"linecolor\":\"white\",\"ticks\":\"\",\"title\":{\"standoff\":15},\"zerolinecolor\":\"white\",\"automargin\":true,\"zerolinewidth\":2},\"scene\":{\"xaxis\":{\"backgroundcolor\":\"#E5ECF6\",\"gridcolor\":\"white\",\"linecolor\":\"white\",\"showbackground\":true,\"ticks\":\"\",\"zerolinecolor\":\"white\",\"gridwidth\":2},\"yaxis\":{\"backgroundcolor\":\"#E5ECF6\",\"gridcolor\":\"white\",\"linecolor\":\"white\",\"showbackground\":true,\"ticks\":\"\",\"zerolinecolor\":\"white\",\"gridwidth\":2},\"zaxis\":{\"backgroundcolor\":\"#E5ECF6\",\"gridcolor\":\"white\",\"linecolor\":\"white\",\"showbackground\":true,\"ticks\":\"\",\"zerolinecolor\":\"white\",\"gridwidth\":2}},\"shapedefaults\":{\"line\":{\"color\":\"#2a3f5f\"}},\"annotationdefaults\":{\"arrowcolor\":\"#2a3f5f\",\"arrowhead\":0,\"arrowwidth\":1},\"geo\":{\"bgcolor\":\"white\",\"landcolor\":\"#E5ECF6\",\"subunitcolor\":\"white\",\"showland\":true,\"showlakes\":true,\"lakecolor\":\"white\"},\"title\":{\"x\":0.05},\"mapbox\":{\"style\":\"light\"}}},\"xaxis\":{\"title\":{\"text\":\"Support\"},\"autorange\":\"reversed\"},\"title\":{\"text\":\"Association Rules Strength Distribution\"},\"yaxis\":{\"title\":{\"text\":\"Confidence\"}}},                        {\"responsive\": true}                    ).then(function(){\n",
       "                            \n",
       "var gd = document.getElementById('70e82970-020e-47ec-b9d0-49bcfb476f17');\n",
       "var x = new MutationObserver(function (mutations, observer) {{\n",
       "        var display = window.getComputedStyle(gd).display;\n",
       "        if (!display || display === 'none') {{\n",
       "            console.log([gd, 'removed!']);\n",
       "            Plotly.purge(gd);\n",
       "            observer.disconnect();\n",
       "        }}\n",
       "}});\n",
       "\n",
       "// Listen for the removal of the full notebook cells\n",
       "var notebookContainer = gd.closest('#notebook-container');\n",
       "if (notebookContainer) {{\n",
       "    x.observe(notebookContainer, {childList: true});\n",
       "}}\n",
       "\n",
       "// Listen for the clearing of the current output cell\n",
       "var outputEl = gd.closest('.output');\n",
       "if (outputEl) {{\n",
       "    x.observe(outputEl, {childList: true});\n",
       "}}\n",
       "\n",
       "                        })                };                });            </script>        </div>"
      ]
     },
     "metadata": {},
     "output_type": "display_data",
     "jetTransient": {
      "display_id": null
     }
    },
    {
     "data": {
      "application/vnd.plotly.v1+json": {
       "data": [
        {
         "hoverinfo": "none",
         "line": {
          "color": "#888",
          "width": 0.5
         },
         "mode": "lines",
         "x": [
          0.7018864305424694,
          0.05456660620489629,
          null,
          -0.12296876242533454,
          0.7018864305424694,
          null,
          -0.12296876242533454,
          0.9867824947341566,
          null,
          -0.12296876242533454,
          0.2599401802629043,
          null,
          -0.12296876242533454,
          0.5603190992363604,
          null,
          -0.12296876242533454,
          -0.41904908256374174,
          null,
          -0.12296876242533454,
          0.16288712383296236,
          null,
          -0.12296876242533454,
          -0.9616374907722278,
          null,
          -0.12296876242533454,
          -0.4732255781677625,
          null,
          -0.12296876242533454,
          -0.7545332918822989,
          null,
          -0.12296876242533454,
          -0.8970643651326871,
          null,
          -0.12296876242533454,
          -0.4702117128250679,
          null,
          -0.12296876242533454,
          -0.08744297273467795,
          null,
          -0.12296876242533454,
          -0.20185224916042113,
          null,
          0.7634500955017217,
          0.7018864305424694,
          null,
          0.7634500955017217,
          0.943313984111442,
          null,
          0.7634500955017217,
          0.6927169425997844,
          null,
          0.7634500955017217,
          -0.012297045618936379,
          null,
          0.05456660620489629,
          0.2599401802629043,
          null,
          0.05456660620489629,
          0.5607071537664203,
          null,
          0.05456660620489629,
          -0.8289219745198393,
          null,
          0.05456660620489629,
          0.4070890699041962,
          null,
          0.05456660620489629,
          -0.08744297273467795,
          null,
          0.05456660620489629,
          -0.20185224916042113,
          null,
          0.943313984111442,
          0.05456660620489629,
          null,
          0.009920328389693745,
          0.943313984111442,
          null,
          0.009920328389693745,
          -0.4732255781677625,
          null,
          0.009920328389693745,
          -0.4702117128250679,
          null,
          0.009920328389693745,
          -0.08744297273467795,
          null,
          0.6927169425997844,
          0.05456660620489629,
          null,
          0.03864077038985688,
          0.6927169425997844,
          null,
          0.03864077038985688,
          0.9867824947341566,
          null,
          0.03864077038985688,
          0.3427203875567436,
          null,
          0.03864077038985688,
          -0.9616374907722278,
          null,
          0.03864077038985688,
          -0.8826371915582858,
          null,
          0.03864077038985688,
          -0.7545332918822989,
          null,
          0.03864077038985688,
          0.8815781545935535,
          null,
          -0.012297045618936379,
          0.05456660620489629,
          null,
          0.9867824947341566,
          0.05456660620489629,
          null,
          0.4964729974028753,
          0.9867824947341566,
          null,
          0.4964729974028753,
          0.2599401802629043,
          null,
          0.4964729974028753,
          0.3427203875567436,
          null,
          0.4964729974028753,
          0.5607071537664203,
          null,
          0.4964729974028753,
          0.08444619412582238,
          null,
          0.2599401802629043,
          0.03864077038985688,
          null,
          0.3427203875567436,
          0.05456660620489629,
          null,
          0.5607071537664203,
          0.03864077038985688,
          null,
          0.08444619412582238,
          0.03864077038985688,
          null,
          0.5603190992363604,
          0.03864077038985688,
          null,
          -0.4456487949539891,
          0.5603190992363604,
          null,
          -0.4456487949539891,
          -0.41904908256374174,
          null,
          -0.4456487949539891,
          0.16288712383296236,
          null,
          -0.4456487949539891,
          -0.9616374907722278,
          null,
          -0.4456487949539891,
          -0.4732255781677625,
          null,
          -0.4456487949539891,
          -0.7222306156331965,
          null,
          -0.4456487949539891,
          -0.8289219745198393,
          null,
          -0.4456487949539891,
          -0.8826371915582858,
          null,
          -0.4456487949539891,
          -0.4557597479590988,
          null,
          -0.41904908256374174,
          0.009920328389693745,
          null,
          0.16288712383296236,
          0.03864077038985688,
          null,
          0.16288712383296236,
          0.009920328389693745,
          null,
          -0.9616374907722278,
          0.009920328389693745,
          null,
          -0.4732255781677625,
          0.03864077038985688,
          null,
          -0.7222306156331965,
          0.009920328389693745,
          null,
          -0.21195713724829424,
          -0.7222306156331965,
          null,
          -0.21195713724829424,
          -0.7545332918822989,
          null,
          -0.21195713724829424,
          -0.8970643651326871,
          null,
          -0.21195713724829424,
          0.8815781545935535,
          null,
          -0.21195713724829424,
          0.4070890699041962,
          null,
          -0.8289219745198393,
          0.009920328389693745,
          null,
          -0.8826371915582858,
          0.009920328389693745,
          null,
          -0.4557597479590988,
          0.009920328389693745,
          null,
          -0.7545332918822989,
          0.009920328389693745,
          null,
          -0.8970643651326871,
          0.009920328389693745,
          null,
          0.8815781545935535,
          0.05456660620489629,
          null,
          0.4070890699041962,
          0.03864077038985688,
          null,
          -0.4702117128250679,
          0.03864077038985688,
          null,
          -0.08744297273467795,
          0.03864077038985688,
          null,
          -0.20185224916042113,
          0.03864077038985688,
          null
         ],
         "y": [
          0.7304360771108692,
          -0.020159633492671768,
          null,
          -0.0862222518032402,
          0.7304360771108692,
          null,
          -0.0862222518032402,
          0.17392017707872318,
          null,
          -0.0862222518032402,
          -0.9721351411491307,
          null,
          -0.0862222518032402,
          0.3358802569226733,
          null,
          -0.0862222518032402,
          -0.9884119636238992,
          null,
          -0.0862222518032402,
          -0.6354438954753697,
          null,
          -0.0862222518032402,
          0.0900318515519165,
          null,
          -0.0862222518032402,
          0.7548662572968282,
          null,
          -0.0862222518032402,
          -0.7051482178612611,
          null,
          -0.0862222518032402,
          -0.1637871863345324,
          null,
          -0.0862222518032402,
          -0.5986415386829885,
          null,
          -0.0862222518032402,
          -0.9125613762976718,
          null,
          -0.0862222518032402,
          0.7651898207805273,
          null,
          0.3910674565732697,
          0.7304360771108692,
          null,
          0.3910674565732697,
          -0.10033071145890264,
          null,
          0.3910674565732697,
          -0.5495397207941127,
          null,
          0.3910674565732697,
          1.0,
          null,
          -0.020159633492671768,
          -0.9721351411491307,
          null,
          -0.020159633492671768,
          -0.8226700974012083,
          null,
          -0.020159633492671768,
          0.28444728578417716,
          null,
          -0.020159633492671768,
          0.5944571007358357,
          null,
          -0.020159633492671768,
          -0.9125613762976718,
          null,
          -0.020159633492671768,
          0.7651898207805273,
          null,
          -0.10033071145890264,
          -0.020159633492671768,
          null,
          -0.23236294460400306,
          -0.10033071145890264,
          null,
          -0.23236294460400306,
          0.7548662572968282,
          null,
          -0.23236294460400306,
          -0.5986415386829885,
          null,
          -0.23236294460400306,
          -0.9125613762976718,
          null,
          -0.5495397207941127,
          -0.020159633492671768,
          null,
          -0.09966553938548495,
          -0.5495397207941127,
          null,
          -0.09966553938548495,
          0.17392017707872318,
          null,
          -0.09966553938548495,
          0.9131886728645765,
          null,
          -0.09966553938548495,
          0.0900318515519165,
          null,
          -0.09966553938548495,
          -0.41282436836256275,
          null,
          -0.09966553938548495,
          -0.7051482178612611,
          null,
          -0.09966553938548495,
          -0.35985628010104276,
          null,
          1.0,
          -0.020159633492671768,
          null,
          0.17392017707872318,
          -0.020159633492671768,
          null,
          -0.014235659080376498,
          0.17392017707872318,
          null,
          -0.014235659080376498,
          -0.9721351411491307,
          null,
          -0.014235659080376498,
          0.9131886728645765,
          null,
          -0.014235659080376498,
          -0.8226700974012083,
          null,
          -0.014235659080376498,
          0.6203555736750512,
          null,
          -0.9721351411491307,
          -0.09966553938548495,
          null,
          0.9131886728645765,
          -0.020159633492671768,
          null,
          -0.8226700974012083,
          -0.09966553938548495,
          null,
          0.6203555736750512,
          -0.09966553938548495,
          null,
          0.3358802569226733,
          -0.09966553938548495,
          null,
          0.0387190733371178,
          0.3358802569226733,
          null,
          0.0387190733371178,
          -0.9884119636238992,
          null,
          0.0387190733371178,
          -0.6354438954753697,
          null,
          0.0387190733371178,
          0.0900318515519165,
          null,
          0.0387190733371178,
          0.7548662572968282,
          null,
          0.0387190733371178,
          0.5059632957520018,
          null,
          0.0387190733371178,
          0.28444728578417716,
          null,
          0.0387190733371178,
          -0.41282436836256275,
          null,
          0.0387190733371178,
          0.4328638083106548,
          null,
          -0.9884119636238992,
          -0.23236294460400306,
          null,
          -0.6354438954753697,
          -0.09966553938548495,
          null,
          -0.6354438954753697,
          -0.23236294460400306,
          null,
          0.0900318515519165,
          -0.23236294460400306,
          null,
          0.7548662572968282,
          -0.09966553938548495,
          null,
          0.5059632957520018,
          -0.23236294460400306,
          null,
          0.042609818134235485,
          0.5059632957520018,
          null,
          0.042609818134235485,
          -0.7051482178612611,
          null,
          0.042609818134235485,
          -0.1637871863345324,
          null,
          0.042609818134235485,
          -0.35985628010104276,
          null,
          0.042609818134235485,
          0.5944571007358357,
          null,
          0.28444728578417716,
          -0.23236294460400306,
          null,
          -0.41282436836256275,
          -0.23236294460400306,
          null,
          0.4328638083106548,
          -0.23236294460400306,
          null,
          -0.7051482178612611,
          -0.23236294460400306,
          null,
          -0.1637871863345324,
          -0.23236294460400306,
          null,
          -0.35985628010104276,
          -0.020159633492671768,
          null,
          0.5944571007358357,
          -0.09966553938548495,
          null,
          -0.5986415386829885,
          -0.09966553938548495,
          null,
          -0.9125613762976718,
          -0.09966553938548495,
          null,
          0.7651898207805273,
          -0.09966553938548495,
          null
         ],
         "type": "scatter"
        },
        {
         "hoverinfo": "text",
         "marker": {
          "color": [],
          "colorbar": {
           "thickness": 15,
           "title": {
            "side": "right",
            "text": "Node Connections"
           },
           "xanchor": "left"
          },
          "colorscale": [
           [
            0.0,
            "rgb(255,255,217)"
           ],
           [
            0.125,
            "rgb(237,248,177)"
           ],
           [
            0.25,
            "rgb(199,233,180)"
           ],
           [
            0.375,
            "rgb(127,205,187)"
           ],
           [
            0.5,
            "rgb(65,182,196)"
           ],
           [
            0.625,
            "rgb(29,145,192)"
           ],
           [
            0.75,
            "rgb(34,94,168)"
           ],
           [
            0.875,
            "rgb(37,52,148)"
           ],
           [
            1.0,
            "rgb(8,29,88)"
           ]
          ],
          "line": {
           "width": 2
          },
          "reversescale": true,
          "showscale": true,
          "size": 10
         },
         "mode": "markers",
         "text": [
          "0",
          "Сумка",
          "Шапка",
          "Джинсы",
          "1",
          "Куртка",
          "2",
          "Футболка",
          "3",
          "4",
          "Брюки",
          "5",
          "6",
          "7",
          "8",
          "9",
          "Кроссовки",
          "10",
          "11",
          "12",
          "13",
          "14",
          "Рубашка",
          "15",
          "16",
          "17",
          "18",
          "19",
          "20",
          "21",
          "22",
          "23",
          "24"
         ],
         "x": [
          0.7018864305424694,
          -0.12296876242533454,
          0.7634500955017217,
          0.05456660620489629,
          0.943313984111442,
          0.009920328389693745,
          0.6927169425997844,
          0.03864077038985688,
          -0.012297045618936379,
          0.9867824947341566,
          0.4964729974028753,
          0.2599401802629043,
          0.3427203875567436,
          0.5607071537664203,
          0.08444619412582238,
          0.5603190992363604,
          -0.4456487949539891,
          -0.41904908256374174,
          0.16288712383296236,
          -0.9616374907722278,
          -0.4732255781677625,
          -0.7222306156331965,
          -0.21195713724829424,
          -0.8289219745198393,
          -0.8826371915582858,
          -0.4557597479590988,
          -0.7545332918822989,
          -0.8970643651326871,
          0.8815781545935535,
          0.4070890699041962,
          -0.4702117128250679,
          -0.08744297273467795,
          -0.20185224916042113
         ],
         "y": [
          0.7304360771108692,
          -0.0862222518032402,
          0.3910674565732697,
          -0.020159633492671768,
          -0.10033071145890264,
          -0.23236294460400306,
          -0.5495397207941127,
          -0.09966553938548495,
          1.0,
          0.17392017707872318,
          -0.014235659080376498,
          -0.9721351411491307,
          0.9131886728645765,
          -0.8226700974012083,
          0.6203555736750512,
          0.3358802569226733,
          0.0387190733371178,
          -0.9884119636238992,
          -0.6354438954753697,
          0.0900318515519165,
          0.7548662572968282,
          0.5059632957520018,
          0.042609818134235485,
          0.28444728578417716,
          -0.41282436836256275,
          0.4328638083106548,
          -0.7051482178612611,
          -0.1637871863345324,
          -0.35985628010104276,
          0.5944571007358357,
          -0.5986415386829885,
          -0.9125613762976718,
          0.7651898207805273
         ],
         "type": "scatter"
        }
       ],
       "layout": {
        "annotations": [
         {
          "showarrow": false,
          "text": "Python code: <a href='https://plotly.com/ipython-notebooks/network-graphs/'> https://plotly.com/ipython-notebooks/network-graphs/</a>",
          "x": 0.005,
          "xref": "paper",
          "y": -0.002,
          "yref": "paper"
         }
        ],
        "hovermode": "closest",
        "margin": {
         "b": 20,
         "l": 5,
         "r": 5,
         "t": 40
        },
        "showlegend": false,
        "title": {
         "font": {
          "size": 16
         },
         "text": "<br>Network graph made with Python"
        },
        "xaxis": {
         "showgrid": false,
         "showticklabels": false,
         "zeroline": false
        },
        "yaxis": {
         "showgrid": false,
         "showticklabels": false,
         "zeroline": false
        },
        "template": {
         "data": {
          "histogram2dcontour": [
           {
            "type": "histogram2dcontour",
            "colorbar": {
             "outlinewidth": 0,
             "ticks": ""
            },
            "colorscale": [
             [
              0.0,
              "#0d0887"
             ],
             [
              0.1111111111111111,
              "#46039f"
             ],
             [
              0.2222222222222222,
              "#7201a8"
             ],
             [
              0.3333333333333333,
              "#9c179e"
             ],
             [
              0.4444444444444444,
              "#bd3786"
             ],
             [
              0.5555555555555556,
              "#d8576b"
             ],
             [
              0.6666666666666666,
              "#ed7953"
             ],
             [
              0.7777777777777778,
              "#fb9f3a"
             ],
             [
              0.8888888888888888,
              "#fdca26"
             ],
             [
              1.0,
              "#f0f921"
             ]
            ]
           }
          ],
          "choropleth": [
           {
            "type": "choropleth",
            "colorbar": {
             "outlinewidth": 0,
             "ticks": ""
            }
           }
          ],
          "histogram2d": [
           {
            "type": "histogram2d",
            "colorbar": {
             "outlinewidth": 0,
             "ticks": ""
            },
            "colorscale": [
             [
              0.0,
              "#0d0887"
             ],
             [
              0.1111111111111111,
              "#46039f"
             ],
             [
              0.2222222222222222,
              "#7201a8"
             ],
             [
              0.3333333333333333,
              "#9c179e"
             ],
             [
              0.4444444444444444,
              "#bd3786"
             ],
             [
              0.5555555555555556,
              "#d8576b"
             ],
             [
              0.6666666666666666,
              "#ed7953"
             ],
             [
              0.7777777777777778,
              "#fb9f3a"
             ],
             [
              0.8888888888888888,
              "#fdca26"
             ],
             [
              1.0,
              "#f0f921"
             ]
            ]
           }
          ],
          "heatmap": [
           {
            "type": "heatmap",
            "colorbar": {
             "outlinewidth": 0,
             "ticks": ""
            },
            "colorscale": [
             [
              0.0,
              "#0d0887"
             ],
             [
              0.1111111111111111,
              "#46039f"
             ],
             [
              0.2222222222222222,
              "#7201a8"
             ],
             [
              0.3333333333333333,
              "#9c179e"
             ],
             [
              0.4444444444444444,
              "#bd3786"
             ],
             [
              0.5555555555555556,
              "#d8576b"
             ],
             [
              0.6666666666666666,
              "#ed7953"
             ],
             [
              0.7777777777777778,
              "#fb9f3a"
             ],
             [
              0.8888888888888888,
              "#fdca26"
             ],
             [
              1.0,
              "#f0f921"
             ]
            ]
           }
          ],
          "heatmapgl": [
           {
            "type": "heatmapgl",
            "colorbar": {
             "outlinewidth": 0,
             "ticks": ""
            },
            "colorscale": [
             [
              0.0,
              "#0d0887"
             ],
             [
              0.1111111111111111,
              "#46039f"
             ],
             [
              0.2222222222222222,
              "#7201a8"
             ],
             [
              0.3333333333333333,
              "#9c179e"
             ],
             [
              0.4444444444444444,
              "#bd3786"
             ],
             [
              0.5555555555555556,
              "#d8576b"
             ],
             [
              0.6666666666666666,
              "#ed7953"
             ],
             [
              0.7777777777777778,
              "#fb9f3a"
             ],
             [
              0.8888888888888888,
              "#fdca26"
             ],
             [
              1.0,
              "#f0f921"
             ]
            ]
           }
          ],
          "contourcarpet": [
           {
            "type": "contourcarpet",
            "colorbar": {
             "outlinewidth": 0,
             "ticks": ""
            }
           }
          ],
          "contour": [
           {
            "type": "contour",
            "colorbar": {
             "outlinewidth": 0,
             "ticks": ""
            },
            "colorscale": [
             [
              0.0,
              "#0d0887"
             ],
             [
              0.1111111111111111,
              "#46039f"
             ],
             [
              0.2222222222222222,
              "#7201a8"
             ],
             [
              0.3333333333333333,
              "#9c179e"
             ],
             [
              0.4444444444444444,
              "#bd3786"
             ],
             [
              0.5555555555555556,
              "#d8576b"
             ],
             [
              0.6666666666666666,
              "#ed7953"
             ],
             [
              0.7777777777777778,
              "#fb9f3a"
             ],
             [
              0.8888888888888888,
              "#fdca26"
             ],
             [
              1.0,
              "#f0f921"
             ]
            ]
           }
          ],
          "surface": [
           {
            "type": "surface",
            "colorbar": {
             "outlinewidth": 0,
             "ticks": ""
            },
            "colorscale": [
             [
              0.0,
              "#0d0887"
             ],
             [
              0.1111111111111111,
              "#46039f"
             ],
             [
              0.2222222222222222,
              "#7201a8"
             ],
             [
              0.3333333333333333,
              "#9c179e"
             ],
             [
              0.4444444444444444,
              "#bd3786"
             ],
             [
              0.5555555555555556,
              "#d8576b"
             ],
             [
              0.6666666666666666,
              "#ed7953"
             ],
             [
              0.7777777777777778,
              "#fb9f3a"
             ],
             [
              0.8888888888888888,
              "#fdca26"
             ],
             [
              1.0,
              "#f0f921"
             ]
            ]
           }
          ],
          "mesh3d": [
           {
            "type": "mesh3d",
            "colorbar": {
             "outlinewidth": 0,
             "ticks": ""
            }
           }
          ],
          "scatter": [
           {
            "fillpattern": {
             "fillmode": "overlay",
             "size": 10,
             "solidity": 0.2
            },
            "type": "scatter"
           }
          ],
          "parcoords": [
           {
            "type": "parcoords",
            "line": {
             "colorbar": {
              "outlinewidth": 0,
              "ticks": ""
             }
            }
           }
          ],
          "scatterpolargl": [
           {
            "type": "scatterpolargl",
            "marker": {
             "colorbar": {
              "outlinewidth": 0,
              "ticks": ""
             }
            }
           }
          ],
          "bar": [
           {
            "error_x": {
             "color": "#2a3f5f"
            },
            "error_y": {
             "color": "#2a3f5f"
            },
            "marker": {
             "line": {
              "color": "#E5ECF6",
              "width": 0.5
             },
             "pattern": {
              "fillmode": "overlay",
              "size": 10,
              "solidity": 0.2
             }
            },
            "type": "bar"
           }
          ],
          "scattergeo": [
           {
            "type": "scattergeo",
            "marker": {
             "colorbar": {
              "outlinewidth": 0,
              "ticks": ""
             }
            }
           }
          ],
          "scatterpolar": [
           {
            "type": "scatterpolar",
            "marker": {
             "colorbar": {
              "outlinewidth": 0,
              "ticks": ""
             }
            }
           }
          ],
          "histogram": [
           {
            "marker": {
             "pattern": {
              "fillmode": "overlay",
              "size": 10,
              "solidity": 0.2
             }
            },
            "type": "histogram"
           }
          ],
          "scattergl": [
           {
            "type": "scattergl",
            "marker": {
             "colorbar": {
              "outlinewidth": 0,
              "ticks": ""
             }
            }
           }
          ],
          "scatter3d": [
           {
            "type": "scatter3d",
            "line": {
             "colorbar": {
              "outlinewidth": 0,
              "ticks": ""
             }
            },
            "marker": {
             "colorbar": {
              "outlinewidth": 0,
              "ticks": ""
             }
            }
           }
          ],
          "scattermapbox": [
           {
            "type": "scattermapbox",
            "marker": {
             "colorbar": {
              "outlinewidth": 0,
              "ticks": ""
             }
            }
           }
          ],
          "scatterternary": [
           {
            "type": "scatterternary",
            "marker": {
             "colorbar": {
              "outlinewidth": 0,
              "ticks": ""
             }
            }
           }
          ],
          "scattercarpet": [
           {
            "type": "scattercarpet",
            "marker": {
             "colorbar": {
              "outlinewidth": 0,
              "ticks": ""
             }
            }
           }
          ],
          "carpet": [
           {
            "aaxis": {
             "endlinecolor": "#2a3f5f",
             "gridcolor": "white",
             "linecolor": "white",
             "minorgridcolor": "white",
             "startlinecolor": "#2a3f5f"
            },
            "baxis": {
             "endlinecolor": "#2a3f5f",
             "gridcolor": "white",
             "linecolor": "white",
             "minorgridcolor": "white",
             "startlinecolor": "#2a3f5f"
            },
            "type": "carpet"
           }
          ],
          "table": [
           {
            "cells": {
             "fill": {
              "color": "#EBF0F8"
             },
             "line": {
              "color": "white"
             }
            },
            "header": {
             "fill": {
              "color": "#C8D4E3"
             },
             "line": {
              "color": "white"
             }
            },
            "type": "table"
           }
          ],
          "barpolar": [
           {
            "marker": {
             "line": {
              "color": "#E5ECF6",
              "width": 0.5
             },
             "pattern": {
              "fillmode": "overlay",
              "size": 10,
              "solidity": 0.2
             }
            },
            "type": "barpolar"
           }
          ],
          "pie": [
           {
            "automargin": true,
            "type": "pie"
           }
          ]
         },
         "layout": {
          "autotypenumbers": "strict",
          "colorway": [
           "#636efa",
           "#EF553B",
           "#00cc96",
           "#ab63fa",
           "#FFA15A",
           "#19d3f3",
           "#FF6692",
           "#B6E880",
           "#FF97FF",
           "#FECB52"
          ],
          "font": {
           "color": "#2a3f5f"
          },
          "hovermode": "closest",
          "hoverlabel": {
           "align": "left"
          },
          "paper_bgcolor": "white",
          "plot_bgcolor": "#E5ECF6",
          "polar": {
           "bgcolor": "#E5ECF6",
           "angularaxis": {
            "gridcolor": "white",
            "linecolor": "white",
            "ticks": ""
           },
           "radialaxis": {
            "gridcolor": "white",
            "linecolor": "white",
            "ticks": ""
           }
          },
          "ternary": {
           "bgcolor": "#E5ECF6",
           "aaxis": {
            "gridcolor": "white",
            "linecolor": "white",
            "ticks": ""
           },
           "baxis": {
            "gridcolor": "white",
            "linecolor": "white",
            "ticks": ""
           },
           "caxis": {
            "gridcolor": "white",
            "linecolor": "white",
            "ticks": ""
           }
          },
          "coloraxis": {
           "colorbar": {
            "outlinewidth": 0,
            "ticks": ""
           }
          },
          "colorscale": {
           "sequential": [
            [
             0.0,
             "#0d0887"
            ],
            [
             0.1111111111111111,
             "#46039f"
            ],
            [
             0.2222222222222222,
             "#7201a8"
            ],
            [
             0.3333333333333333,
             "#9c179e"
            ],
            [
             0.4444444444444444,
             "#bd3786"
            ],
            [
             0.5555555555555556,
             "#d8576b"
            ],
            [
             0.6666666666666666,
             "#ed7953"
            ],
            [
             0.7777777777777778,
             "#fb9f3a"
            ],
            [
             0.8888888888888888,
             "#fdca26"
            ],
            [
             1.0,
             "#f0f921"
            ]
           ],
           "sequentialminus": [
            [
             0.0,
             "#0d0887"
            ],
            [
             0.1111111111111111,
             "#46039f"
            ],
            [
             0.2222222222222222,
             "#7201a8"
            ],
            [
             0.3333333333333333,
             "#9c179e"
            ],
            [
             0.4444444444444444,
             "#bd3786"
            ],
            [
             0.5555555555555556,
             "#d8576b"
            ],
            [
             0.6666666666666666,
             "#ed7953"
            ],
            [
             0.7777777777777778,
             "#fb9f3a"
            ],
            [
             0.8888888888888888,
             "#fdca26"
            ],
            [
             1.0,
             "#f0f921"
            ]
           ],
           "diverging": [
            [
             0,
             "#8e0152"
            ],
            [
             0.1,
             "#c51b7d"
            ],
            [
             0.2,
             "#de77ae"
            ],
            [
             0.3,
             "#f1b6da"
            ],
            [
             0.4,
             "#fde0ef"
            ],
            [
             0.5,
             "#f7f7f7"
            ],
            [
             0.6,
             "#e6f5d0"
            ],
            [
             0.7,
             "#b8e186"
            ],
            [
             0.8,
             "#7fbc41"
            ],
            [
             0.9,
             "#4d9221"
            ],
            [
             1,
             "#276419"
            ]
           ]
          },
          "xaxis": {
           "gridcolor": "white",
           "linecolor": "white",
           "ticks": "",
           "title": {
            "standoff": 15
           },
           "zerolinecolor": "white",
           "automargin": true,
           "zerolinewidth": 2
          },
          "yaxis": {
           "gridcolor": "white",
           "linecolor": "white",
           "ticks": "",
           "title": {
            "standoff": 15
           },
           "zerolinecolor": "white",
           "automargin": true,
           "zerolinewidth": 2
          },
          "scene": {
           "xaxis": {
            "backgroundcolor": "#E5ECF6",
            "gridcolor": "white",
            "linecolor": "white",
            "showbackground": true,
            "ticks": "",
            "zerolinecolor": "white",
            "gridwidth": 2
           },
           "yaxis": {
            "backgroundcolor": "#E5ECF6",
            "gridcolor": "white",
            "linecolor": "white",
            "showbackground": true,
            "ticks": "",
            "zerolinecolor": "white",
            "gridwidth": 2
           },
           "zaxis": {
            "backgroundcolor": "#E5ECF6",
            "gridcolor": "white",
            "linecolor": "white",
            "showbackground": true,
            "ticks": "",
            "zerolinecolor": "white",
            "gridwidth": 2
           }
          },
          "shapedefaults": {
           "line": {
            "color": "#2a3f5f"
           }
          },
          "annotationdefaults": {
           "arrowcolor": "#2a3f5f",
           "arrowhead": 0,
           "arrowwidth": 1
          },
          "geo": {
           "bgcolor": "white",
           "landcolor": "#E5ECF6",
           "subunitcolor": "white",
           "showland": true,
           "showlakes": true,
           "lakecolor": "white"
          },
          "title": {
           "x": 0.05
          },
          "mapbox": {
           "style": "light"
          }
         }
        }
       },
       "config": {
        "plotlyServerURL": "https://plot.ly"
       }
      },
      "text/html": [
       "<div>                            <div id=\"ec3f9486-7687-405a-938c-0cb57dc3c5ce\" class=\"plotly-graph-div\" style=\"height:525px; width:100%;\"></div>            <script type=\"text/javascript\">                require([\"plotly\"], function(Plotly) {                    window.PLOTLYENV=window.PLOTLYENV || {};                                    if (document.getElementById(\"ec3f9486-7687-405a-938c-0cb57dc3c5ce\")) {                    Plotly.newPlot(                        \"ec3f9486-7687-405a-938c-0cb57dc3c5ce\",                        [{\"hoverinfo\":\"none\",\"line\":{\"color\":\"#888\",\"width\":0.5},\"mode\":\"lines\",\"x\":[0.7018864305424694,0.05456660620489629,null,-0.12296876242533454,0.7018864305424694,null,-0.12296876242533454,0.9867824947341566,null,-0.12296876242533454,0.2599401802629043,null,-0.12296876242533454,0.5603190992363604,null,-0.12296876242533454,-0.41904908256374174,null,-0.12296876242533454,0.16288712383296236,null,-0.12296876242533454,-0.9616374907722278,null,-0.12296876242533454,-0.4732255781677625,null,-0.12296876242533454,-0.7545332918822989,null,-0.12296876242533454,-0.8970643651326871,null,-0.12296876242533454,-0.4702117128250679,null,-0.12296876242533454,-0.08744297273467795,null,-0.12296876242533454,-0.20185224916042113,null,0.7634500955017217,0.7018864305424694,null,0.7634500955017217,0.943313984111442,null,0.7634500955017217,0.6927169425997844,null,0.7634500955017217,-0.012297045618936379,null,0.05456660620489629,0.2599401802629043,null,0.05456660620489629,0.5607071537664203,null,0.05456660620489629,-0.8289219745198393,null,0.05456660620489629,0.4070890699041962,null,0.05456660620489629,-0.08744297273467795,null,0.05456660620489629,-0.20185224916042113,null,0.943313984111442,0.05456660620489629,null,0.009920328389693745,0.943313984111442,null,0.009920328389693745,-0.4732255781677625,null,0.009920328389693745,-0.4702117128250679,null,0.009920328389693745,-0.08744297273467795,null,0.6927169425997844,0.05456660620489629,null,0.03864077038985688,0.6927169425997844,null,0.03864077038985688,0.9867824947341566,null,0.03864077038985688,0.3427203875567436,null,0.03864077038985688,-0.9616374907722278,null,0.03864077038985688,-0.8826371915582858,null,0.03864077038985688,-0.7545332918822989,null,0.03864077038985688,0.8815781545935535,null,-0.012297045618936379,0.05456660620489629,null,0.9867824947341566,0.05456660620489629,null,0.4964729974028753,0.9867824947341566,null,0.4964729974028753,0.2599401802629043,null,0.4964729974028753,0.3427203875567436,null,0.4964729974028753,0.5607071537664203,null,0.4964729974028753,0.08444619412582238,null,0.2599401802629043,0.03864077038985688,null,0.3427203875567436,0.05456660620489629,null,0.5607071537664203,0.03864077038985688,null,0.08444619412582238,0.03864077038985688,null,0.5603190992363604,0.03864077038985688,null,-0.4456487949539891,0.5603190992363604,null,-0.4456487949539891,-0.41904908256374174,null,-0.4456487949539891,0.16288712383296236,null,-0.4456487949539891,-0.9616374907722278,null,-0.4456487949539891,-0.4732255781677625,null,-0.4456487949539891,-0.7222306156331965,null,-0.4456487949539891,-0.8289219745198393,null,-0.4456487949539891,-0.8826371915582858,null,-0.4456487949539891,-0.4557597479590988,null,-0.41904908256374174,0.009920328389693745,null,0.16288712383296236,0.03864077038985688,null,0.16288712383296236,0.009920328389693745,null,-0.9616374907722278,0.009920328389693745,null,-0.4732255781677625,0.03864077038985688,null,-0.7222306156331965,0.009920328389693745,null,-0.21195713724829424,-0.7222306156331965,null,-0.21195713724829424,-0.7545332918822989,null,-0.21195713724829424,-0.8970643651326871,null,-0.21195713724829424,0.8815781545935535,null,-0.21195713724829424,0.4070890699041962,null,-0.8289219745198393,0.009920328389693745,null,-0.8826371915582858,0.009920328389693745,null,-0.4557597479590988,0.009920328389693745,null,-0.7545332918822989,0.009920328389693745,null,-0.8970643651326871,0.009920328389693745,null,0.8815781545935535,0.05456660620489629,null,0.4070890699041962,0.03864077038985688,null,-0.4702117128250679,0.03864077038985688,null,-0.08744297273467795,0.03864077038985688,null,-0.20185224916042113,0.03864077038985688,null],\"y\":[0.7304360771108692,-0.020159633492671768,null,-0.0862222518032402,0.7304360771108692,null,-0.0862222518032402,0.17392017707872318,null,-0.0862222518032402,-0.9721351411491307,null,-0.0862222518032402,0.3358802569226733,null,-0.0862222518032402,-0.9884119636238992,null,-0.0862222518032402,-0.6354438954753697,null,-0.0862222518032402,0.0900318515519165,null,-0.0862222518032402,0.7548662572968282,null,-0.0862222518032402,-0.7051482178612611,null,-0.0862222518032402,-0.1637871863345324,null,-0.0862222518032402,-0.5986415386829885,null,-0.0862222518032402,-0.9125613762976718,null,-0.0862222518032402,0.7651898207805273,null,0.3910674565732697,0.7304360771108692,null,0.3910674565732697,-0.10033071145890264,null,0.3910674565732697,-0.5495397207941127,null,0.3910674565732697,1.0,null,-0.020159633492671768,-0.9721351411491307,null,-0.020159633492671768,-0.8226700974012083,null,-0.020159633492671768,0.28444728578417716,null,-0.020159633492671768,0.5944571007358357,null,-0.020159633492671768,-0.9125613762976718,null,-0.020159633492671768,0.7651898207805273,null,-0.10033071145890264,-0.020159633492671768,null,-0.23236294460400306,-0.10033071145890264,null,-0.23236294460400306,0.7548662572968282,null,-0.23236294460400306,-0.5986415386829885,null,-0.23236294460400306,-0.9125613762976718,null,-0.5495397207941127,-0.020159633492671768,null,-0.09966553938548495,-0.5495397207941127,null,-0.09966553938548495,0.17392017707872318,null,-0.09966553938548495,0.9131886728645765,null,-0.09966553938548495,0.0900318515519165,null,-0.09966553938548495,-0.41282436836256275,null,-0.09966553938548495,-0.7051482178612611,null,-0.09966553938548495,-0.35985628010104276,null,1.0,-0.020159633492671768,null,0.17392017707872318,-0.020159633492671768,null,-0.014235659080376498,0.17392017707872318,null,-0.014235659080376498,-0.9721351411491307,null,-0.014235659080376498,0.9131886728645765,null,-0.014235659080376498,-0.8226700974012083,null,-0.014235659080376498,0.6203555736750512,null,-0.9721351411491307,-0.09966553938548495,null,0.9131886728645765,-0.020159633492671768,null,-0.8226700974012083,-0.09966553938548495,null,0.6203555736750512,-0.09966553938548495,null,0.3358802569226733,-0.09966553938548495,null,0.0387190733371178,0.3358802569226733,null,0.0387190733371178,-0.9884119636238992,null,0.0387190733371178,-0.6354438954753697,null,0.0387190733371178,0.0900318515519165,null,0.0387190733371178,0.7548662572968282,null,0.0387190733371178,0.5059632957520018,null,0.0387190733371178,0.28444728578417716,null,0.0387190733371178,-0.41282436836256275,null,0.0387190733371178,0.4328638083106548,null,-0.9884119636238992,-0.23236294460400306,null,-0.6354438954753697,-0.09966553938548495,null,-0.6354438954753697,-0.23236294460400306,null,0.0900318515519165,-0.23236294460400306,null,0.7548662572968282,-0.09966553938548495,null,0.5059632957520018,-0.23236294460400306,null,0.042609818134235485,0.5059632957520018,null,0.042609818134235485,-0.7051482178612611,null,0.042609818134235485,-0.1637871863345324,null,0.042609818134235485,-0.35985628010104276,null,0.042609818134235485,0.5944571007358357,null,0.28444728578417716,-0.23236294460400306,null,-0.41282436836256275,-0.23236294460400306,null,0.4328638083106548,-0.23236294460400306,null,-0.7051482178612611,-0.23236294460400306,null,-0.1637871863345324,-0.23236294460400306,null,-0.35985628010104276,-0.020159633492671768,null,0.5944571007358357,-0.09966553938548495,null,-0.5986415386829885,-0.09966553938548495,null,-0.9125613762976718,-0.09966553938548495,null,0.7651898207805273,-0.09966553938548495,null],\"type\":\"scatter\"},{\"hoverinfo\":\"text\",\"marker\":{\"color\":[],\"colorbar\":{\"thickness\":15,\"title\":{\"side\":\"right\",\"text\":\"Node Connections\"},\"xanchor\":\"left\"},\"colorscale\":[[0.0,\"rgb(255,255,217)\"],[0.125,\"rgb(237,248,177)\"],[0.25,\"rgb(199,233,180)\"],[0.375,\"rgb(127,205,187)\"],[0.5,\"rgb(65,182,196)\"],[0.625,\"rgb(29,145,192)\"],[0.75,\"rgb(34,94,168)\"],[0.875,\"rgb(37,52,148)\"],[1.0,\"rgb(8,29,88)\"]],\"line\":{\"width\":2},\"reversescale\":true,\"showscale\":true,\"size\":10},\"mode\":\"markers\",\"text\":[\"0\",\"\\u0421\\u0443\\u043c\\u043a\\u0430\",\"\\u0428\\u0430\\u043f\\u043a\\u0430\",\"\\u0414\\u0436\\u0438\\u043d\\u0441\\u044b\",\"1\",\"\\u041a\\u0443\\u0440\\u0442\\u043a\\u0430\",\"2\",\"\\u0424\\u0443\\u0442\\u0431\\u043e\\u043b\\u043a\\u0430\",\"3\",\"4\",\"\\u0411\\u0440\\u044e\\u043a\\u0438\",\"5\",\"6\",\"7\",\"8\",\"9\",\"\\u041a\\u0440\\u043e\\u0441\\u0441\\u043e\\u0432\\u043a\\u0438\",\"10\",\"11\",\"12\",\"13\",\"14\",\"\\u0420\\u0443\\u0431\\u0430\\u0448\\u043a\\u0430\",\"15\",\"16\",\"17\",\"18\",\"19\",\"20\",\"21\",\"22\",\"23\",\"24\"],\"x\":[0.7018864305424694,-0.12296876242533454,0.7634500955017217,0.05456660620489629,0.943313984111442,0.009920328389693745,0.6927169425997844,0.03864077038985688,-0.012297045618936379,0.9867824947341566,0.4964729974028753,0.2599401802629043,0.3427203875567436,0.5607071537664203,0.08444619412582238,0.5603190992363604,-0.4456487949539891,-0.41904908256374174,0.16288712383296236,-0.9616374907722278,-0.4732255781677625,-0.7222306156331965,-0.21195713724829424,-0.8289219745198393,-0.8826371915582858,-0.4557597479590988,-0.7545332918822989,-0.8970643651326871,0.8815781545935535,0.4070890699041962,-0.4702117128250679,-0.08744297273467795,-0.20185224916042113],\"y\":[0.7304360771108692,-0.0862222518032402,0.3910674565732697,-0.020159633492671768,-0.10033071145890264,-0.23236294460400306,-0.5495397207941127,-0.09966553938548495,1.0,0.17392017707872318,-0.014235659080376498,-0.9721351411491307,0.9131886728645765,-0.8226700974012083,0.6203555736750512,0.3358802569226733,0.0387190733371178,-0.9884119636238992,-0.6354438954753697,0.0900318515519165,0.7548662572968282,0.5059632957520018,0.042609818134235485,0.28444728578417716,-0.41282436836256275,0.4328638083106548,-0.7051482178612611,-0.1637871863345324,-0.35985628010104276,0.5944571007358357,-0.5986415386829885,-0.9125613762976718,0.7651898207805273],\"type\":\"scatter\"}],                        {\"annotations\":[{\"showarrow\":false,\"text\":\"Python code: \\u003ca href='https:\\u002f\\u002fplotly.com\\u002fipython-notebooks\\u002fnetwork-graphs\\u002f'\\u003e https:\\u002f\\u002fplotly.com\\u002fipython-notebooks\\u002fnetwork-graphs\\u002f\\u003c\\u002fa\\u003e\",\"x\":0.005,\"xref\":\"paper\",\"y\":-0.002,\"yref\":\"paper\"}],\"hovermode\":\"closest\",\"margin\":{\"b\":20,\"l\":5,\"r\":5,\"t\":40},\"showlegend\":false,\"title\":{\"font\":{\"size\":16},\"text\":\"\\u003cbr\\u003eNetwork graph made with Python\"},\"xaxis\":{\"showgrid\":false,\"showticklabels\":false,\"zeroline\":false},\"yaxis\":{\"showgrid\":false,\"showticklabels\":false,\"zeroline\":false},\"template\":{\"data\":{\"histogram2dcontour\":[{\"type\":\"histogram2dcontour\",\"colorbar\":{\"outlinewidth\":0,\"ticks\":\"\"},\"colorscale\":[[0.0,\"#0d0887\"],[0.1111111111111111,\"#46039f\"],[0.2222222222222222,\"#7201a8\"],[0.3333333333333333,\"#9c179e\"],[0.4444444444444444,\"#bd3786\"],[0.5555555555555556,\"#d8576b\"],[0.6666666666666666,\"#ed7953\"],[0.7777777777777778,\"#fb9f3a\"],[0.8888888888888888,\"#fdca26\"],[1.0,\"#f0f921\"]]}],\"choropleth\":[{\"type\":\"choropleth\",\"colorbar\":{\"outlinewidth\":0,\"ticks\":\"\"}}],\"histogram2d\":[{\"type\":\"histogram2d\",\"colorbar\":{\"outlinewidth\":0,\"ticks\":\"\"},\"colorscale\":[[0.0,\"#0d0887\"],[0.1111111111111111,\"#46039f\"],[0.2222222222222222,\"#7201a8\"],[0.3333333333333333,\"#9c179e\"],[0.4444444444444444,\"#bd3786\"],[0.5555555555555556,\"#d8576b\"],[0.6666666666666666,\"#ed7953\"],[0.7777777777777778,\"#fb9f3a\"],[0.8888888888888888,\"#fdca26\"],[1.0,\"#f0f921\"]]}],\"heatmap\":[{\"type\":\"heatmap\",\"colorbar\":{\"outlinewidth\":0,\"ticks\":\"\"},\"colorscale\":[[0.0,\"#0d0887\"],[0.1111111111111111,\"#46039f\"],[0.2222222222222222,\"#7201a8\"],[0.3333333333333333,\"#9c179e\"],[0.4444444444444444,\"#bd3786\"],[0.5555555555555556,\"#d8576b\"],[0.6666666666666666,\"#ed7953\"],[0.7777777777777778,\"#fb9f3a\"],[0.8888888888888888,\"#fdca26\"],[1.0,\"#f0f921\"]]}],\"heatmapgl\":[{\"type\":\"heatmapgl\",\"colorbar\":{\"outlinewidth\":0,\"ticks\":\"\"},\"colorscale\":[[0.0,\"#0d0887\"],[0.1111111111111111,\"#46039f\"],[0.2222222222222222,\"#7201a8\"],[0.3333333333333333,\"#9c179e\"],[0.4444444444444444,\"#bd3786\"],[0.5555555555555556,\"#d8576b\"],[0.6666666666666666,\"#ed7953\"],[0.7777777777777778,\"#fb9f3a\"],[0.8888888888888888,\"#fdca26\"],[1.0,\"#f0f921\"]]}],\"contourcarpet\":[{\"type\":\"contourcarpet\",\"colorbar\":{\"outlinewidth\":0,\"ticks\":\"\"}}],\"contour\":[{\"type\":\"contour\",\"colorbar\":{\"outlinewidth\":0,\"ticks\":\"\"},\"colorscale\":[[0.0,\"#0d0887\"],[0.1111111111111111,\"#46039f\"],[0.2222222222222222,\"#7201a8\"],[0.3333333333333333,\"#9c179e\"],[0.4444444444444444,\"#bd3786\"],[0.5555555555555556,\"#d8576b\"],[0.6666666666666666,\"#ed7953\"],[0.7777777777777778,\"#fb9f3a\"],[0.8888888888888888,\"#fdca26\"],[1.0,\"#f0f921\"]]}],\"surface\":[{\"type\":\"surface\",\"colorbar\":{\"outlinewidth\":0,\"ticks\":\"\"},\"colorscale\":[[0.0,\"#0d0887\"],[0.1111111111111111,\"#46039f\"],[0.2222222222222222,\"#7201a8\"],[0.3333333333333333,\"#9c179e\"],[0.4444444444444444,\"#bd3786\"],[0.5555555555555556,\"#d8576b\"],[0.6666666666666666,\"#ed7953\"],[0.7777777777777778,\"#fb9f3a\"],[0.8888888888888888,\"#fdca26\"],[1.0,\"#f0f921\"]]}],\"mesh3d\":[{\"type\":\"mesh3d\",\"colorbar\":{\"outlinewidth\":0,\"ticks\":\"\"}}],\"scatter\":[{\"fillpattern\":{\"fillmode\":\"overlay\",\"size\":10,\"solidity\":0.2},\"type\":\"scatter\"}],\"parcoords\":[{\"type\":\"parcoords\",\"line\":{\"colorbar\":{\"outlinewidth\":0,\"ticks\":\"\"}}}],\"scatterpolargl\":[{\"type\":\"scatterpolargl\",\"marker\":{\"colorbar\":{\"outlinewidth\":0,\"ticks\":\"\"}}}],\"bar\":[{\"error_x\":{\"color\":\"#2a3f5f\"},\"error_y\":{\"color\":\"#2a3f5f\"},\"marker\":{\"line\":{\"color\":\"#E5ECF6\",\"width\":0.5},\"pattern\":{\"fillmode\":\"overlay\",\"size\":10,\"solidity\":0.2}},\"type\":\"bar\"}],\"scattergeo\":[{\"type\":\"scattergeo\",\"marker\":{\"colorbar\":{\"outlinewidth\":0,\"ticks\":\"\"}}}],\"scatterpolar\":[{\"type\":\"scatterpolar\",\"marker\":{\"colorbar\":{\"outlinewidth\":0,\"ticks\":\"\"}}}],\"histogram\":[{\"marker\":{\"pattern\":{\"fillmode\":\"overlay\",\"size\":10,\"solidity\":0.2}},\"type\":\"histogram\"}],\"scattergl\":[{\"type\":\"scattergl\",\"marker\":{\"colorbar\":{\"outlinewidth\":0,\"ticks\":\"\"}}}],\"scatter3d\":[{\"type\":\"scatter3d\",\"line\":{\"colorbar\":{\"outlinewidth\":0,\"ticks\":\"\"}},\"marker\":{\"colorbar\":{\"outlinewidth\":0,\"ticks\":\"\"}}}],\"scattermapbox\":[{\"type\":\"scattermapbox\",\"marker\":{\"colorbar\":{\"outlinewidth\":0,\"ticks\":\"\"}}}],\"scatterternary\":[{\"type\":\"scatterternary\",\"marker\":{\"colorbar\":{\"outlinewidth\":0,\"ticks\":\"\"}}}],\"scattercarpet\":[{\"type\":\"scattercarpet\",\"marker\":{\"colorbar\":{\"outlinewidth\":0,\"ticks\":\"\"}}}],\"carpet\":[{\"aaxis\":{\"endlinecolor\":\"#2a3f5f\",\"gridcolor\":\"white\",\"linecolor\":\"white\",\"minorgridcolor\":\"white\",\"startlinecolor\":\"#2a3f5f\"},\"baxis\":{\"endlinecolor\":\"#2a3f5f\",\"gridcolor\":\"white\",\"linecolor\":\"white\",\"minorgridcolor\":\"white\",\"startlinecolor\":\"#2a3f5f\"},\"type\":\"carpet\"}],\"table\":[{\"cells\":{\"fill\":{\"color\":\"#EBF0F8\"},\"line\":{\"color\":\"white\"}},\"header\":{\"fill\":{\"color\":\"#C8D4E3\"},\"line\":{\"color\":\"white\"}},\"type\":\"table\"}],\"barpolar\":[{\"marker\":{\"line\":{\"color\":\"#E5ECF6\",\"width\":0.5},\"pattern\":{\"fillmode\":\"overlay\",\"size\":10,\"solidity\":0.2}},\"type\":\"barpolar\"}],\"pie\":[{\"automargin\":true,\"type\":\"pie\"}]},\"layout\":{\"autotypenumbers\":\"strict\",\"colorway\":[\"#636efa\",\"#EF553B\",\"#00cc96\",\"#ab63fa\",\"#FFA15A\",\"#19d3f3\",\"#FF6692\",\"#B6E880\",\"#FF97FF\",\"#FECB52\"],\"font\":{\"color\":\"#2a3f5f\"},\"hovermode\":\"closest\",\"hoverlabel\":{\"align\":\"left\"},\"paper_bgcolor\":\"white\",\"plot_bgcolor\":\"#E5ECF6\",\"polar\":{\"bgcolor\":\"#E5ECF6\",\"angularaxis\":{\"gridcolor\":\"white\",\"linecolor\":\"white\",\"ticks\":\"\"},\"radialaxis\":{\"gridcolor\":\"white\",\"linecolor\":\"white\",\"ticks\":\"\"}},\"ternary\":{\"bgcolor\":\"#E5ECF6\",\"aaxis\":{\"gridcolor\":\"white\",\"linecolor\":\"white\",\"ticks\":\"\"},\"baxis\":{\"gridcolor\":\"white\",\"linecolor\":\"white\",\"ticks\":\"\"},\"caxis\":{\"gridcolor\":\"white\",\"linecolor\":\"white\",\"ticks\":\"\"}},\"coloraxis\":{\"colorbar\":{\"outlinewidth\":0,\"ticks\":\"\"}},\"colorscale\":{\"sequential\":[[0.0,\"#0d0887\"],[0.1111111111111111,\"#46039f\"],[0.2222222222222222,\"#7201a8\"],[0.3333333333333333,\"#9c179e\"],[0.4444444444444444,\"#bd3786\"],[0.5555555555555556,\"#d8576b\"],[0.6666666666666666,\"#ed7953\"],[0.7777777777777778,\"#fb9f3a\"],[0.8888888888888888,\"#fdca26\"],[1.0,\"#f0f921\"]],\"sequentialminus\":[[0.0,\"#0d0887\"],[0.1111111111111111,\"#46039f\"],[0.2222222222222222,\"#7201a8\"],[0.3333333333333333,\"#9c179e\"],[0.4444444444444444,\"#bd3786\"],[0.5555555555555556,\"#d8576b\"],[0.6666666666666666,\"#ed7953\"],[0.7777777777777778,\"#fb9f3a\"],[0.8888888888888888,\"#fdca26\"],[1.0,\"#f0f921\"]],\"diverging\":[[0,\"#8e0152\"],[0.1,\"#c51b7d\"],[0.2,\"#de77ae\"],[0.3,\"#f1b6da\"],[0.4,\"#fde0ef\"],[0.5,\"#f7f7f7\"],[0.6,\"#e6f5d0\"],[0.7,\"#b8e186\"],[0.8,\"#7fbc41\"],[0.9,\"#4d9221\"],[1,\"#276419\"]]},\"xaxis\":{\"gridcolor\":\"white\",\"linecolor\":\"white\",\"ticks\":\"\",\"title\":{\"standoff\":15},\"zerolinecolor\":\"white\",\"automargin\":true,\"zerolinewidth\":2},\"yaxis\":{\"gridcolor\":\"white\",\"linecolor\":\"white\",\"ticks\":\"\",\"title\":{\"standoff\":15},\"zerolinecolor\":\"white\",\"automargin\":true,\"zerolinewidth\":2},\"scene\":{\"xaxis\":{\"backgroundcolor\":\"#E5ECF6\",\"gridcolor\":\"white\",\"linecolor\":\"white\",\"showbackground\":true,\"ticks\":\"\",\"zerolinecolor\":\"white\",\"gridwidth\":2},\"yaxis\":{\"backgroundcolor\":\"#E5ECF6\",\"gridcolor\":\"white\",\"linecolor\":\"white\",\"showbackground\":true,\"ticks\":\"\",\"zerolinecolor\":\"white\",\"gridwidth\":2},\"zaxis\":{\"backgroundcolor\":\"#E5ECF6\",\"gridcolor\":\"white\",\"linecolor\":\"white\",\"showbackground\":true,\"ticks\":\"\",\"zerolinecolor\":\"white\",\"gridwidth\":2}},\"shapedefaults\":{\"line\":{\"color\":\"#2a3f5f\"}},\"annotationdefaults\":{\"arrowcolor\":\"#2a3f5f\",\"arrowhead\":0,\"arrowwidth\":1},\"geo\":{\"bgcolor\":\"white\",\"landcolor\":\"#E5ECF6\",\"subunitcolor\":\"white\",\"showland\":true,\"showlakes\":true,\"lakecolor\":\"white\"},\"title\":{\"x\":0.05},\"mapbox\":{\"style\":\"light\"}}}},                        {\"responsive\": true}                    ).then(function(){\n",
       "                            \n",
       "var gd = document.getElementById('ec3f9486-7687-405a-938c-0cb57dc3c5ce');\n",
       "var x = new MutationObserver(function (mutations, observer) {{\n",
       "        var display = window.getComputedStyle(gd).display;\n",
       "        if (!display || display === 'none') {{\n",
       "            console.log([gd, 'removed!']);\n",
       "            Plotly.purge(gd);\n",
       "            observer.disconnect();\n",
       "        }}\n",
       "}});\n",
       "\n",
       "// Listen for the removal of the full notebook cells\n",
       "var notebookContainer = gd.closest('#notebook-container');\n",
       "if (notebookContainer) {{\n",
       "    x.observe(notebookContainer, {childList: true});\n",
       "}}\n",
       "\n",
       "// Listen for the clearing of the current output cell\n",
       "var outputEl = gd.closest('.output');\n",
       "if (outputEl) {{\n",
       "    x.observe(outputEl, {childList: true});\n",
       "}}\n",
       "\n",
       "                        })                };                });            </script>        </div>"
      ]
     },
     "metadata": {},
     "output_type": "display_data",
     "jetTransient": {
      "display_id": null
     }
    }
   ],
   "execution_count": 547
  },
  {
   "metadata": {
    "ExecuteTime": {
     "end_time": "2025-09-18T09:16:46.058315Z",
     "start_time": "2025-09-18T09:16:45.967278Z"
    }
   },
   "cell_type": "code",
   "source": [
    "plt.bar(times.keys(), times.values(), color=['blue','green','orange'])\n",
    "plt.ylabel(\"Время (сек)\")\n",
    "plt.title(\"Сравнение времени построения правил\")\n",
    "plt.show()"
   ],
   "id": "30cbbe3e658be945",
   "outputs": [
    {
     "data": {
      "text/plain": [
       "<Figure size 640x480 with 1 Axes>"
      ],
      "image/png": "[encoded data removed]"
     },
     "metadata": {},
     "output_type": "display_data",
     "jetTransient": {
      "display_id": null
     }
    }
   ],
   "execution_count": 548
  }
 ],
 "metadata": {
  "kernelspec": {
   "display_name": "Python 3",
   "language": "python",
   "name": "python3"
  },
  "language_info": {
   "codemirror_mode": {
    "name": "ipython",
    "version": 2
   },
   "file_extension": ".py",
   "mimetype": "text/x-python",
   "name": "python",
   "nbconvert_exporter": "python",
   "pygments_lexer": "ipython2",
   "version": "2.7.6"
  }
 },
 "nbformat": 4,
 "nbformat_minor": 5
}
